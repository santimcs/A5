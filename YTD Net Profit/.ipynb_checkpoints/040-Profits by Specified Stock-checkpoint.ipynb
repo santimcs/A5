{
 "cells": [
  {
   "cell_type": "code",
   "execution_count": 1,
   "metadata": {},
   "outputs": [],
   "source": [
    "import pandas as pd\n",
    "from datetime import date, timedelta\n",
    "from sqlalchemy import create_engine\n",
    "\n",
    "engine = create_engine('mysql+pymysql://root:@localhost:3306/portfolio_development')\n",
    "conpf = engine.connect()\n",
    "\n",
    "data_path = \"../data/\"\n",
    "csv_path = \"\\\\Users\\\\User\\\\iCloudDrive\\\\\"\n",
    "box_path = \"\\\\Users\\\\User\\\\Dropbox\\\\\"\n",
    "\n",
    "year = 2024"
   ]
  },
  {
   "cell_type": "code",
   "execution_count": 2,
   "metadata": {},
   "outputs": [],
   "source": [
    "format_dict = {'qty':'{:,}',\n",
    "              'sell_price':'{:,.2f}','buy_price':'{:,.2f}','diff':'{:,.2f}',\n",
    "              'sell_amt':'{:,.2f}','buy_amt':'{:,.2f}','gross':'{:,.2f}','profit':'{:,.2f}',\n",
    "              'pct':'{:,.2f}%','net':'{:,.2f}',\n",
    "              'cost_amt':'{:,.2f}','unit_cost':'{:,.2f}','avg_cost':'{:,.2f}'}\n",
    "\n",
    "pd.set_option('display.float_format','{:,.2f}'.format)"
   ]
  },
  {
   "cell_type": "markdown",
   "metadata": {},
   "source": [
    "### Record selection for transactions"
   ]
  },
  {
   "cell_type": "code",
   "execution_count": 3,
   "metadata": {},
   "outputs": [],
   "source": [
    "name = 'JMT'"
   ]
  },
  {
   "cell_type": "code",
   "execution_count": 4,
   "metadata": {},
   "outputs": [
    {
     "name": "stdout",
     "output_type": "stream",
     "text": [
      "\n",
      "SELECT name, YEAR(sells.date) AS sell_year, MONTH(sells.date) AS sell_month,  \n",
      "             YEAR(buys.date) AS buy_year, MONTH(buys.date) AS buy_month,\n",
      "sells.price AS sell_price, buys.price AS buy_price, \n",
      "(sells.price - buys.price) AS diff, qty, \n",
      "(sells.price * qty) AS sell_amt,\n",
      "(buys.price * qty) AS buy_amt,\n",
      "(sells.price - buys.price) * qty AS gross, \n",
      "ROUND((sells.price - buys.price)/buys.price*100,2) AS pct, profit, buys.kind\n",
      "FROM sells JOIN buys ON sells.buy_id = buys.id\n",
      "JOIN stocks ON buys.stock_id = stocks.id\n",
      "WHERE name = 'JMT'\n",
      "ORDER BY sell_month DESC, name\n"
     ]
    }
   ],
   "source": [
    "sql = '''\n",
    "SELECT name, YEAR(sells.date) AS sell_year, MONTH(sells.date) AS sell_month,  \n",
    "             YEAR(buys.date) AS buy_year, MONTH(buys.date) AS buy_month,\n",
    "sells.price AS sell_price, buys.price AS buy_price, \n",
    "(sells.price - buys.price) AS diff, qty, \n",
    "(sells.price * qty) AS sell_amt,\n",
    "(buys.price * qty) AS buy_amt,\n",
    "(sells.price - buys.price) * qty AS gross, \n",
    "ROUND((sells.price - buys.price)/buys.price*100,2) AS pct, profit, buys.kind\n",
    "FROM sells JOIN buys ON sells.buy_id = buys.id\n",
    "JOIN stocks ON buys.stock_id = stocks.id\n",
    "WHERE name = '%s'\n",
    "ORDER BY sell_month DESC, name'''\n",
    "\n",
    "sql = sql % (name)\n",
    "sells_df = pd.read_sql(sql, conpf)\n",
    "print(sql)"
   ]
  },
  {
   "cell_type": "code",
   "execution_count": 5,
   "metadata": {},
   "outputs": [
    {
     "data": {
      "text/plain": [
       "name           object\n",
       "sell_year       int64\n",
       "sell_month      int64\n",
       "buy_year        int64\n",
       "buy_month       int64\n",
       "sell_price    float64\n",
       "buy_price     float64\n",
       "diff          float64\n",
       "qty             int64\n",
       "sell_amt      float64\n",
       "buy_amt       float64\n",
       "gross         float64\n",
       "pct           float64\n",
       "profit        float64\n",
       "kind           object\n",
       "dtype: object"
      ]
     },
     "execution_count": 5,
     "metadata": {},
     "output_type": "execute_result"
    }
   ],
   "source": [
    "sells_df.dtypes"
   ]
  },
  {
   "cell_type": "code",
   "execution_count": 6,
   "metadata": {},
   "outputs": [
    {
     "data": {
      "text/plain": [
       "sell_year  sell_month  buy_year  buy_month  name\n",
       "2017       6           2017      2          JMT    30,000.00\n",
       "                                 3          JMT    18,750.00\n",
       "                                 5          JMT    18,750.00\n",
       "           8           2017      7          JMT    34,000.00\n",
       "           10          2017      8          JMT    28,000.00\n",
       "           11          2017      8          JMT    21,000.00\n",
       "           12          2017      8          JMT    12,000.00\n",
       "2021       9           2021      6          JMT    19,375.00\n",
       "2023       5           2023      4          JMT     3,900.00\n",
       "           6           2023      6          JMT     1,350.00\n",
       "           8           2023      6          JMT     6,750.00\n",
       "           11          2023      11         JMT     2,200.00\n",
       "2024       6           2024      6          JMT     1,260.00\n",
       "           8           2024      6          JMT     6,120.00\n",
       "                                 7          JMT     5,100.00\n",
       "Name: gross, dtype: float64"
      ]
     },
     "execution_count": 6,
     "metadata": {},
     "output_type": "execute_result"
    }
   ],
   "source": [
    "sells_df.groupby(['sell_year','sell_month','buy_year','buy_month','name']).gross.sum()"
   ]
  },
  {
   "cell_type": "code",
   "execution_count": 7,
   "metadata": {},
   "outputs": [
    {
     "name": "stderr",
     "output_type": "stream",
     "text": [
      "C:\\Users\\User\\AppData\\Local\\Temp\\ipykernel_21212\\1810971311.py:2: FutureWarning: Indexing with multiple keys (implicitly converted to a tuple of keys) will be deprecated, use a list instead.\n",
      "  sold_stocks = sold_grp['sell_amt','buy_amt','qty','gross'].sum()\n"
     ]
    },
    {
     "data": {
      "text/html": [
       "<style type=\"text/css\">\n",
       "</style>\n",
       "<table id=\"T_566f0_\">\n",
       "  <thead>\n",
       "    <tr>\n",
       "      <th class=\"blank\" >&nbsp;</th>\n",
       "      <th class=\"blank level0\" >&nbsp;</th>\n",
       "      <th class=\"col_heading level0 col0\" >sell_amt</th>\n",
       "      <th class=\"col_heading level0 col1\" >buy_amt</th>\n",
       "      <th class=\"col_heading level0 col2\" >qty</th>\n",
       "      <th class=\"col_heading level0 col3\" >gross</th>\n",
       "    </tr>\n",
       "    <tr>\n",
       "      <th class=\"index_name level0\" >name</th>\n",
       "      <th class=\"index_name level1\" >sell_year</th>\n",
       "      <th class=\"blank col0\" >&nbsp;</th>\n",
       "      <th class=\"blank col1\" >&nbsp;</th>\n",
       "      <th class=\"blank col2\" >&nbsp;</th>\n",
       "      <th class=\"blank col3\" >&nbsp;</th>\n",
       "    </tr>\n",
       "  </thead>\n",
       "  <tbody>\n",
       "    <tr>\n",
       "      <th id=\"T_566f0_level0_row0\" class=\"row_heading level0 row0\" rowspan=\"4\">JMT</th>\n",
       "      <th id=\"T_566f0_level1_row0\" class=\"row_heading level1 row0\" >2017</th>\n",
       "      <td id=\"T_566f0_row0_col0\" class=\"data row0 col0\" >1,306,500.00</td>\n",
       "      <td id=\"T_566f0_row0_col1\" class=\"data row0 col1\" >1,144,000.00</td>\n",
       "      <td id=\"T_566f0_row0_col2\" class=\"data row0 col2\" >44,000</td>\n",
       "      <td id=\"T_566f0_row0_col3\" class=\"data row0 col3\" >162,500.00</td>\n",
       "    </tr>\n",
       "    <tr>\n",
       "      <th id=\"T_566f0_level1_row1\" class=\"row_heading level1 row1\" >2021</th>\n",
       "      <td id=\"T_566f0_row1_col0\" class=\"data row1 col0\" >120,625.00</td>\n",
       "      <td id=\"T_566f0_row1_col1\" class=\"data row1 col1\" >101,250.00</td>\n",
       "      <td id=\"T_566f0_row1_col2\" class=\"data row1 col2\" >2,500</td>\n",
       "      <td id=\"T_566f0_row1_col3\" class=\"data row1 col3\" >19,375.00</td>\n",
       "    </tr>\n",
       "    <tr>\n",
       "      <th id=\"T_566f0_level1_row2\" class=\"row_heading level1 row2\" >2023</th>\n",
       "      <td id=\"T_566f0_row2_col0\" class=\"data row2 col0\" >177,550.00</td>\n",
       "      <td id=\"T_566f0_row2_col1\" class=\"data row2 col1\" >163,350.00</td>\n",
       "      <td id=\"T_566f0_row2_col2\" class=\"data row2 col2\" >4,400</td>\n",
       "      <td id=\"T_566f0_row2_col3\" class=\"data row2 col3\" >14,200.00</td>\n",
       "    </tr>\n",
       "    <tr>\n",
       "      <th id=\"T_566f0_level1_row3\" class=\"row_heading level1 row3\" >2024</th>\n",
       "      <td id=\"T_566f0_row3_col0\" class=\"data row3 col0\" >78,150.00</td>\n",
       "      <td id=\"T_566f0_row3_col1\" class=\"data row3 col1\" >65,670.00</td>\n",
       "      <td id=\"T_566f0_row3_col2\" class=\"data row3 col2\" >5,100</td>\n",
       "      <td id=\"T_566f0_row3_col3\" class=\"data row3 col3\" >12,480.00</td>\n",
       "    </tr>\n",
       "  </tbody>\n",
       "</table>\n"
      ],
      "text/plain": [
       "<pandas.io.formats.style.Styler at 0x1b9799adcd0>"
      ]
     },
     "execution_count": 7,
     "metadata": {},
     "output_type": "execute_result"
    }
   ],
   "source": [
    "sold_grp = sells_df.groupby(['name','sell_year'])\n",
    "sold_stocks = sold_grp['sell_amt','buy_amt','qty','gross'].sum()\n",
    "sold_stocks.sort_values(['name','sell_year'],ascending=[True,True]).style.format(format_dict)"
   ]
  },
  {
   "cell_type": "code",
   "execution_count": 8,
   "metadata": {},
   "outputs": [
    {
     "data": {
      "text/html": [
       "<style type=\"text/css\">\n",
       "</style>\n",
       "<table id=\"T_2787b_\">\n",
       "  <thead>\n",
       "    <tr>\n",
       "      <th class=\"blank\" >&nbsp;</th>\n",
       "      <th class=\"blank level0\" >&nbsp;</th>\n",
       "      <th class=\"col_heading level0 col0\" >sell_amt</th>\n",
       "      <th class=\"col_heading level0 col1\" >buy_amt</th>\n",
       "      <th class=\"col_heading level0 col2\" >gross</th>\n",
       "      <th class=\"col_heading level0 col3\" >qty</th>\n",
       "      <th class=\"col_heading level0 col4\" >sell_price</th>\n",
       "      <th class=\"col_heading level0 col5\" >buy_price</th>\n",
       "    </tr>\n",
       "    <tr>\n",
       "      <th class=\"index_name level0\" >name</th>\n",
       "      <th class=\"index_name level1\" >sell_year</th>\n",
       "      <th class=\"blank col0\" >&nbsp;</th>\n",
       "      <th class=\"blank col1\" >&nbsp;</th>\n",
       "      <th class=\"blank col2\" >&nbsp;</th>\n",
       "      <th class=\"blank col3\" >&nbsp;</th>\n",
       "      <th class=\"blank col4\" >&nbsp;</th>\n",
       "      <th class=\"blank col5\" >&nbsp;</th>\n",
       "    </tr>\n",
       "  </thead>\n",
       "  <tbody>\n",
       "    <tr>\n",
       "      <th id=\"T_2787b_level0_row0\" class=\"row_heading level0 row0\" rowspan=\"4\">JMT</th>\n",
       "      <th id=\"T_2787b_level1_row0\" class=\"row_heading level1 row0\" >2017</th>\n",
       "      <td id=\"T_2787b_row0_col0\" class=\"data row0 col0\" >1,306,500.00</td>\n",
       "      <td id=\"T_2787b_row0_col1\" class=\"data row0 col1\" >1,144,000.00</td>\n",
       "      <td id=\"T_2787b_row0_col2\" class=\"data row0 col2\" >162,500.00</td>\n",
       "      <td id=\"T_2787b_row0_col3\" class=\"data row0 col3\" >44,000</td>\n",
       "      <td id=\"T_2787b_row0_col4\" class=\"data row0 col4\" >29.69</td>\n",
       "      <td id=\"T_2787b_row0_col5\" class=\"data row0 col5\" >26.00</td>\n",
       "    </tr>\n",
       "    <tr>\n",
       "      <th id=\"T_2787b_level1_row1\" class=\"row_heading level1 row1\" >2021</th>\n",
       "      <td id=\"T_2787b_row1_col0\" class=\"data row1 col0\" >120,625.00</td>\n",
       "      <td id=\"T_2787b_row1_col1\" class=\"data row1 col1\" >101,250.00</td>\n",
       "      <td id=\"T_2787b_row1_col2\" class=\"data row1 col2\" >19,375.00</td>\n",
       "      <td id=\"T_2787b_row1_col3\" class=\"data row1 col3\" >2,500</td>\n",
       "      <td id=\"T_2787b_row1_col4\" class=\"data row1 col4\" >48.25</td>\n",
       "      <td id=\"T_2787b_row1_col5\" class=\"data row1 col5\" >40.50</td>\n",
       "    </tr>\n",
       "    <tr>\n",
       "      <th id=\"T_2787b_level1_row2\" class=\"row_heading level1 row2\" >2023</th>\n",
       "      <td id=\"T_2787b_row2_col0\" class=\"data row2 col0\" >177,550.00</td>\n",
       "      <td id=\"T_2787b_row2_col1\" class=\"data row2 col1\" >163,350.00</td>\n",
       "      <td id=\"T_2787b_row2_col2\" class=\"data row2 col2\" >14,200.00</td>\n",
       "      <td id=\"T_2787b_row2_col3\" class=\"data row2 col3\" >4,400</td>\n",
       "      <td id=\"T_2787b_row2_col4\" class=\"data row2 col4\" >40.35</td>\n",
       "      <td id=\"T_2787b_row2_col5\" class=\"data row2 col5\" >37.12</td>\n",
       "    </tr>\n",
       "    <tr>\n",
       "      <th id=\"T_2787b_level1_row3\" class=\"row_heading level1 row3\" >2024</th>\n",
       "      <td id=\"T_2787b_row3_col0\" class=\"data row3 col0\" >78,150.00</td>\n",
       "      <td id=\"T_2787b_row3_col1\" class=\"data row3 col1\" >65,670.00</td>\n",
       "      <td id=\"T_2787b_row3_col2\" class=\"data row3 col2\" >12,480.00</td>\n",
       "      <td id=\"T_2787b_row3_col3\" class=\"data row3 col3\" >5,100</td>\n",
       "      <td id=\"T_2787b_row3_col4\" class=\"data row3 col4\" >15.32</td>\n",
       "      <td id=\"T_2787b_row3_col5\" class=\"data row3 col5\" >12.88</td>\n",
       "    </tr>\n",
       "  </tbody>\n",
       "</table>\n"
      ],
      "text/plain": [
       "<pandas.io.formats.style.Styler at 0x1b976e2c7f0>"
      ]
     },
     "execution_count": 8,
     "metadata": {},
     "output_type": "execute_result"
    }
   ],
   "source": [
    "sold_stocks['sell_price'] = sold_stocks['sell_amt'] / sold_stocks['qty']\n",
    "sold_stocks['buy_price'] = sold_stocks['buy_amt'] / sold_stocks['qty']\n",
    "cols = 'sell_amt buy_amt gross qty sell_price buy_price'.split()\n",
    "sold_stocks[cols].sort_values(['name'],ascending=[True]).style.format(format_dict)"
   ]
  },
  {
   "cell_type": "markdown",
   "metadata": {},
   "source": [
    "### Record selection for active stocks"
   ]
  },
  {
   "cell_type": "code",
   "execution_count": 9,
   "metadata": {},
   "outputs": [
    {
     "data": {
      "text/html": [
       "<style type=\"text/css\">\n",
       "</style>\n",
       "<table id=\"T_0c9f6_\">\n",
       "  <thead>\n",
       "    <tr>\n",
       "      <th class=\"blank level0\" >&nbsp;</th>\n",
       "      <th class=\"col_heading level0 col0\" >name</th>\n",
       "      <th class=\"col_heading level0 col1\" >year</th>\n",
       "      <th class=\"col_heading level0 col2\" >month</th>\n",
       "      <th class=\"col_heading level0 col3\" >unit_cost</th>\n",
       "      <th class=\"col_heading level0 col4\" >qty</th>\n",
       "      <th class=\"col_heading level0 col5\" >cost_amt</th>\n",
       "    </tr>\n",
       "  </thead>\n",
       "  <tbody>\n",
       "    <tr>\n",
       "      <th id=\"T_0c9f6_level0_row0\" class=\"row_heading level0 row0\" >0</th>\n",
       "      <td id=\"T_0c9f6_row0_col0\" class=\"data row0 col0\" >JMT</td>\n",
       "      <td id=\"T_0c9f6_row0_col1\" class=\"data row0 col1\" >2023</td>\n",
       "      <td id=\"T_0c9f6_row0_col2\" class=\"data row0 col2\" >1</td>\n",
       "      <td id=\"T_0c9f6_row0_col3\" class=\"data row0 col3\" >58.50</td>\n",
       "      <td id=\"T_0c9f6_row0_col4\" class=\"data row0 col4\" >2,400</td>\n",
       "      <td id=\"T_0c9f6_row0_col5\" class=\"data row0 col5\" >140,400.00</td>\n",
       "    </tr>\n",
       "    <tr>\n",
       "      <th id=\"T_0c9f6_level0_row1\" class=\"row_heading level0 row1\" >1</th>\n",
       "      <td id=\"T_0c9f6_row1_col0\" class=\"data row1 col0\" >JMT</td>\n",
       "      <td id=\"T_0c9f6_row1_col1\" class=\"data row1 col1\" >2023</td>\n",
       "      <td id=\"T_0c9f6_row1_col2\" class=\"data row1 col2\" >1</td>\n",
       "      <td id=\"T_0c9f6_row1_col3\" class=\"data row1 col3\" >53.00</td>\n",
       "      <td id=\"T_0c9f6_row1_col4\" class=\"data row1 col4\" >900</td>\n",
       "      <td id=\"T_0c9f6_row1_col5\" class=\"data row1 col5\" >47,700.00</td>\n",
       "    </tr>\n",
       "    <tr>\n",
       "      <th id=\"T_0c9f6_level0_row2\" class=\"row_heading level0 row2\" >2</th>\n",
       "      <td id=\"T_0c9f6_row2_col0\" class=\"data row2 col0\" >JMT</td>\n",
       "      <td id=\"T_0c9f6_row2_col1\" class=\"data row2 col1\" >2023</td>\n",
       "      <td id=\"T_0c9f6_row2_col2\" class=\"data row2 col2\" >2</td>\n",
       "      <td id=\"T_0c9f6_row2_col3\" class=\"data row2 col3\" >50.00</td>\n",
       "      <td id=\"T_0c9f6_row2_col4\" class=\"data row2 col4\" >900</td>\n",
       "      <td id=\"T_0c9f6_row2_col5\" class=\"data row2 col5\" >45,000.00</td>\n",
       "    </tr>\n",
       "  </tbody>\n",
       "</table>\n"
      ],
      "text/plain": [
       "<pandas.io.formats.style.Styler at 0x1b976e36100>"
      ]
     },
     "execution_count": 9,
     "metadata": {},
     "output_type": "execute_result"
    }
   ],
   "source": [
    "sql = '''\n",
    "SELECT name, YEAR(buys.date) AS year, MONTH(buys.date) AS month,\n",
    "buys.price AS unit_cost, qty, \n",
    "(buys.price * qty) AS cost_amt\n",
    "FROM buys\n",
    "JOIN stocks ON buys.stock_id = stocks.id\n",
    "WHERE status = 'Active'\n",
    "AND name = '%s'\n",
    "ORDER BY name, buys.date'''\n",
    "sql = sql % name\n",
    "buys_df = pd.read_sql(sql, conpf)\n",
    "buys_df.style.format(format_dict)"
   ]
  },
  {
   "cell_type": "code",
   "execution_count": 10,
   "metadata": {},
   "outputs": [
    {
     "data": {
      "text/plain": [
       "year  month\n",
       "2023  1       188,100.00\n",
       "      2        45,000.00\n",
       "Name: cost_amt, dtype: float64"
      ]
     },
     "execution_count": 10,
     "metadata": {},
     "output_type": "execute_result"
    }
   ],
   "source": [
    "buys_df.groupby(['year','month']).cost_amt.sum()"
   ]
  },
  {
   "cell_type": "code",
   "execution_count": 11,
   "metadata": {},
   "outputs": [
    {
     "data": {
      "text/plain": [
       "233100.0"
      ]
     },
     "execution_count": 11,
     "metadata": {},
     "output_type": "execute_result"
    }
   ],
   "source": [
    "buys_df.cost_amt.sum()"
   ]
  },
  {
   "cell_type": "code",
   "execution_count": 12,
   "metadata": {},
   "outputs": [
    {
     "name": "stderr",
     "output_type": "stream",
     "text": [
      "C:\\Users\\User\\AppData\\Local\\Temp\\ipykernel_21212\\3973236850.py:1: FutureWarning: Indexing with multiple keys (implicitly converted to a tuple of keys) will be deprecated, use a list instead.\n",
      "  buys_df.groupby(['name'])['cost_amt','qty'].sum().style.format(format_dict)\n"
     ]
    },
    {
     "data": {
      "text/html": [
       "<style type=\"text/css\">\n",
       "</style>\n",
       "<table id=\"T_dd572_\">\n",
       "  <thead>\n",
       "    <tr>\n",
       "      <th class=\"blank level0\" >&nbsp;</th>\n",
       "      <th class=\"col_heading level0 col0\" >cost_amt</th>\n",
       "      <th class=\"col_heading level0 col1\" >qty</th>\n",
       "    </tr>\n",
       "    <tr>\n",
       "      <th class=\"index_name level0\" >name</th>\n",
       "      <th class=\"blank col0\" >&nbsp;</th>\n",
       "      <th class=\"blank col1\" >&nbsp;</th>\n",
       "    </tr>\n",
       "  </thead>\n",
       "  <tbody>\n",
       "    <tr>\n",
       "      <th id=\"T_dd572_level0_row0\" class=\"row_heading level0 row0\" >JMT</th>\n",
       "      <td id=\"T_dd572_row0_col0\" class=\"data row0 col0\" >233,100.00</td>\n",
       "      <td id=\"T_dd572_row0_col1\" class=\"data row0 col1\" >4,200</td>\n",
       "    </tr>\n",
       "  </tbody>\n",
       "</table>\n"
      ],
      "text/plain": [
       "<pandas.io.formats.style.Styler at 0x1b97a380310>"
      ]
     },
     "execution_count": 12,
     "metadata": {},
     "output_type": "execute_result"
    }
   ],
   "source": [
    "buys_df.groupby(['name'])['cost_amt','qty'].sum().style.format(format_dict)"
   ]
  },
  {
   "cell_type": "code",
   "execution_count": 13,
   "metadata": {},
   "outputs": [
    {
     "name": "stderr",
     "output_type": "stream",
     "text": [
      "C:\\Users\\User\\AppData\\Local\\Temp\\ipykernel_21212\\726847341.py:2: FutureWarning: Indexing with multiple keys (implicitly converted to a tuple of keys) will be deprecated, use a list instead.\n",
      "  dtd_stocks = buys_grp['cost_amt','qty'].sum()\n"
     ]
    },
    {
     "data": {
      "text/html": [
       "<style type=\"text/css\">\n",
       "</style>\n",
       "<table id=\"T_2d0d6_\">\n",
       "  <thead>\n",
       "    <tr>\n",
       "      <th class=\"blank level0\" >&nbsp;</th>\n",
       "      <th class=\"col_heading level0 col0\" >cost_amt</th>\n",
       "      <th class=\"col_heading level0 col1\" >qty</th>\n",
       "      <th class=\"col_heading level0 col2\" >avg_cost</th>\n",
       "    </tr>\n",
       "    <tr>\n",
       "      <th class=\"index_name level0\" >name</th>\n",
       "      <th class=\"blank col0\" >&nbsp;</th>\n",
       "      <th class=\"blank col1\" >&nbsp;</th>\n",
       "      <th class=\"blank col2\" >&nbsp;</th>\n",
       "    </tr>\n",
       "  </thead>\n",
       "  <tbody>\n",
       "    <tr>\n",
       "      <th id=\"T_2d0d6_level0_row0\" class=\"row_heading level0 row0\" >JMT</th>\n",
       "      <td id=\"T_2d0d6_row0_col0\" class=\"data row0 col0\" >233,100.00</td>\n",
       "      <td id=\"T_2d0d6_row0_col1\" class=\"data row0 col1\" >4,200</td>\n",
       "      <td id=\"T_2d0d6_row0_col2\" class=\"data row0 col2\" >55.50</td>\n",
       "    </tr>\n",
       "  </tbody>\n",
       "</table>\n"
      ],
      "text/plain": [
       "<pandas.io.formats.style.Styler at 0x1b976e313a0>"
      ]
     },
     "execution_count": 13,
     "metadata": {},
     "output_type": "execute_result"
    }
   ],
   "source": [
    "buys_grp = buys_df.groupby(by=['name'])\n",
    "dtd_stocks = buys_grp['cost_amt','qty'].sum()\n",
    "dtd_stocks['avg_cost'] = dtd_stocks['cost_amt'] / dtd_stocks['qty']\n",
    "dtd_stocks.sort_values(['name'],ascending=[True]).style.format(format_dict)"
   ]
  },
  {
   "cell_type": "code",
   "execution_count": 14,
   "metadata": {},
   "outputs": [
    {
     "data": {
      "text/plain": [
       "('../data/unit-cost-name.csv',\n",
       " '\\\\Users\\\\User\\\\iCloudDrive\\\\unit-cost-name.csv',\n",
       " '\\\\Users\\\\User\\\\Dropbox\\\\unit-cost-name.csv')"
      ]
     },
     "execution_count": 14,
     "metadata": {},
     "output_type": "execute_result"
    }
   ],
   "source": [
    "file_name = 'unit-cost-name.csv'\n",
    "data_file = data_path + file_name\n",
    "csv_file = csv_path + file_name\n",
    "box_file = box_path + file_name\n",
    "data_file, csv_file, box_file"
   ]
  },
  {
   "cell_type": "code",
   "execution_count": 15,
   "metadata": {},
   "outputs": [],
   "source": [
    "dtd_stocks.sort_values(['name'],ascending=[True]).to_csv(csv_file)\n",
    "dtd_stocks.sort_values(['name'],ascending=[True]).to_csv(box_file)\n",
    "dtd_stocks.sort_values(['name'],ascending=[True]).to_csv(data_file)"
   ]
  },
  {
   "cell_type": "markdown",
   "metadata": {},
   "source": [
    "### Extra addition"
   ]
  },
  {
   "cell_type": "code",
   "execution_count": 16,
   "metadata": {},
   "outputs": [
    {
     "name": "stdout",
     "output_type": "stream",
     "text": [
      "\n",
      "SELECT name, YEAR(sells.date) AS sell_year, MONTH(sells.date) AS sell_month, sells.date AS sell_date,\n",
      "qty, sells.price AS sell_price, buys.price AS buy_price,\n",
      "sells.net AS sell_amt, buys.net AS buy_amt, profit,\n",
      "ROUND((sells.price - buys.price)/buys.price*100,2) AS pct, sells.id AS sell_id, buys.kind\n",
      "FROM sells JOIN buys ON sells.buy_id = buys.id\n",
      "JOIN stocks ON buys.stock_id = stocks.id\n",
      "WHERE YEAR(sells.date) = 2024\n",
      "AND name = 'JMT'\n",
      "ORDER BY sells.date, name\n"
     ]
    }
   ],
   "source": [
    "sql = '''\n",
    "SELECT name, YEAR(sells.date) AS sell_year, MONTH(sells.date) AS sell_month, sells.date AS sell_date,\n",
    "qty, sells.price AS sell_price, buys.price AS buy_price,\n",
    "sells.net AS sell_amt, buys.net AS buy_amt, profit,\n",
    "ROUND((sells.price - buys.price)/buys.price*100,2) AS pct, sells.id AS sell_id, buys.kind\n",
    "FROM sells JOIN buys ON sells.buy_id = buys.id\n",
    "JOIN stocks ON buys.stock_id = stocks.id\n",
    "WHERE YEAR(sells.date) = %s\n",
    "AND name = '%s'\n",
    "ORDER BY sells.date, name'''\n",
    "\n",
    "sql = sql % (year, name)\n",
    "print(sql)"
   ]
  },
  {
   "cell_type": "code",
   "execution_count": 17,
   "metadata": {},
   "outputs": [
    {
     "data": {
      "text/html": [
       "<div>\n",
       "<style scoped>\n",
       "    .dataframe tbody tr th:only-of-type {\n",
       "        vertical-align: middle;\n",
       "    }\n",
       "\n",
       "    .dataframe tbody tr th {\n",
       "        vertical-align: top;\n",
       "    }\n",
       "\n",
       "    .dataframe thead th {\n",
       "        text-align: right;\n",
       "    }\n",
       "</style>\n",
       "<table border=\"1\" class=\"dataframe\">\n",
       "  <thead>\n",
       "    <tr style=\"text-align: right;\">\n",
       "      <th></th>\n",
       "      <th>name</th>\n",
       "      <th>sell_year</th>\n",
       "      <th>sell_month</th>\n",
       "      <th>sell_date</th>\n",
       "      <th>qty</th>\n",
       "      <th>sell_price</th>\n",
       "      <th>buy_price</th>\n",
       "      <th>sell_amt</th>\n",
       "      <th>buy_amt</th>\n",
       "      <th>profit</th>\n",
       "      <th>pct</th>\n",
       "      <th>sell_id</th>\n",
       "      <th>kind</th>\n",
       "    </tr>\n",
       "  </thead>\n",
       "  <tbody>\n",
       "    <tr>\n",
       "      <th>0</th>\n",
       "      <td>JMT</td>\n",
       "      <td>2024</td>\n",
       "      <td>6</td>\n",
       "      <td>2024-06-05</td>\n",
       "      <td>1800</td>\n",
       "      <td>14.60</td>\n",
       "      <td>13.90</td>\n",
       "      <td>26,221.79</td>\n",
       "      <td>25,075.42</td>\n",
       "      <td>1,146.37</td>\n",
       "      <td>5.04</td>\n",
       "      <td>1069</td>\n",
       "      <td>DTD</td>\n",
       "    </tr>\n",
       "    <tr>\n",
       "      <th>1</th>\n",
       "      <td>JMT</td>\n",
       "      <td>2024</td>\n",
       "      <td>8</td>\n",
       "      <td>2024-08-22</td>\n",
       "      <td>1500</td>\n",
       "      <td>14.90</td>\n",
       "      <td>11.50</td>\n",
       "      <td>22,300.50</td>\n",
       "      <td>17,288.21</td>\n",
       "      <td>5,012.29</td>\n",
       "      <td>29.57</td>\n",
       "      <td>1071</td>\n",
       "      <td>HD</td>\n",
       "    </tr>\n",
       "    <tr>\n",
       "      <th>2</th>\n",
       "      <td>JMT</td>\n",
       "      <td>2024</td>\n",
       "      <td>8</td>\n",
       "      <td>2024-08-27</td>\n",
       "      <td>1800</td>\n",
       "      <td>16.40</td>\n",
       "      <td>13.00</td>\n",
       "      <td>29,454.61</td>\n",
       "      <td>23,451.83</td>\n",
       "      <td>6,002.78</td>\n",
       "      <td>26.15</td>\n",
       "      <td>1073</td>\n",
       "      <td>DTD</td>\n",
       "    </tr>\n",
       "  </tbody>\n",
       "</table>\n",
       "</div>"
      ],
      "text/plain": [
       "  name  sell_year  sell_month   sell_date   qty  sell_price  buy_price  \\\n",
       "0  JMT       2024           6  2024-06-05  1800       14.60      13.90   \n",
       "1  JMT       2024           8  2024-08-22  1500       14.90      11.50   \n",
       "2  JMT       2024           8  2024-08-27  1800       16.40      13.00   \n",
       "\n",
       "   sell_amt   buy_amt   profit   pct  sell_id kind  \n",
       "0 26,221.79 25,075.42 1,146.37  5.04     1069  DTD  \n",
       "1 22,300.50 17,288.21 5,012.29 29.57     1071   HD  \n",
       "2 29,454.61 23,451.83 6,002.78 26.15     1073  DTD  "
      ]
     },
     "execution_count": 17,
     "metadata": {},
     "output_type": "execute_result"
    }
   ],
   "source": [
    "df_sells = pd.read_sql(sql, conpf)\n",
    "df_sells.head()"
   ]
  },
  {
   "cell_type": "code",
   "execution_count": 18,
   "metadata": {},
   "outputs": [
    {
     "data": {
      "text/plain": [
       "sell_month\n",
       "6    1,146.37\n",
       "8   11,015.07\n",
       "Name: profit, dtype: float64"
      ]
     },
     "execution_count": 18,
     "metadata": {},
     "output_type": "execute_result"
    }
   ],
   "source": [
    "ttl_by_month = df_sells.groupby(['sell_month'])['profit'].sum()\n",
    "ttl_by_month"
   ]
  },
  {
   "cell_type": "code",
   "execution_count": 19,
   "metadata": {},
   "outputs": [
    {
     "data": {
      "text/html": [
       "<div>\n",
       "<style scoped>\n",
       "    .dataframe tbody tr th:only-of-type {\n",
       "        vertical-align: middle;\n",
       "    }\n",
       "\n",
       "    .dataframe tbody tr th {\n",
       "        vertical-align: top;\n",
       "    }\n",
       "\n",
       "    .dataframe thead tr th {\n",
       "        text-align: left;\n",
       "    }\n",
       "\n",
       "    .dataframe thead tr:last-of-type th {\n",
       "        text-align: right;\n",
       "    }\n",
       "</style>\n",
       "<table border=\"1\" class=\"dataframe\">\n",
       "  <thead>\n",
       "    <tr>\n",
       "      <th></th>\n",
       "      <th></th>\n",
       "      <th></th>\n",
       "      <th colspan=\"2\" halign=\"left\">profit</th>\n",
       "    </tr>\n",
       "    <tr>\n",
       "      <th></th>\n",
       "      <th></th>\n",
       "      <th></th>\n",
       "      <th>sum</th>\n",
       "      <th>count</th>\n",
       "    </tr>\n",
       "    <tr>\n",
       "      <th>sell_year</th>\n",
       "      <th>sell_month</th>\n",
       "      <th>name</th>\n",
       "      <th></th>\n",
       "      <th></th>\n",
       "    </tr>\n",
       "  </thead>\n",
       "  <tbody>\n",
       "    <tr>\n",
       "      <th rowspan=\"2\" valign=\"top\">2024</th>\n",
       "      <th>6</th>\n",
       "      <th>JMT</th>\n",
       "      <td>1,146.37</td>\n",
       "      <td>1</td>\n",
       "    </tr>\n",
       "    <tr>\n",
       "      <th>8</th>\n",
       "      <th>JMT</th>\n",
       "      <td>11,015.07</td>\n",
       "      <td>2</td>\n",
       "    </tr>\n",
       "  </tbody>\n",
       "</table>\n",
       "</div>"
      ],
      "text/plain": [
       "                             profit      \n",
       "                                sum count\n",
       "sell_year sell_month name                \n",
       "2024      6          JMT   1,146.37     1\n",
       "          8          JMT  11,015.07     2"
      ]
     },
     "execution_count": 19,
     "metadata": {},
     "output_type": "execute_result"
    }
   ],
   "source": [
    "ttl_by_month = df_sells.groupby(['sell_year','sell_month','name'], as_index=True).agg(\n",
    "    {\n",
    "        'profit':['sum','count'],\n",
    "    }\n",
    ")\n",
    "ttl_by_month"
   ]
  },
  {
   "cell_type": "code",
   "execution_count": 20,
   "metadata": {},
   "outputs": [
    {
     "data": {
      "text/html": [
       "<div>\n",
       "<style scoped>\n",
       "    .dataframe tbody tr th:only-of-type {\n",
       "        vertical-align: middle;\n",
       "    }\n",
       "\n",
       "    .dataframe tbody tr th {\n",
       "        vertical-align: top;\n",
       "    }\n",
       "\n",
       "    .dataframe thead th {\n",
       "        text-align: right;\n",
       "    }\n",
       "</style>\n",
       "<table border=\"1\" class=\"dataframe\">\n",
       "  <thead>\n",
       "    <tr style=\"text-align: right;\">\n",
       "      <th></th>\n",
       "      <th></th>\n",
       "      <th></th>\n",
       "      <th>sum</th>\n",
       "      <th>count</th>\n",
       "    </tr>\n",
       "    <tr>\n",
       "      <th>sell_year</th>\n",
       "      <th>sell_month</th>\n",
       "      <th>name</th>\n",
       "      <th></th>\n",
       "      <th></th>\n",
       "    </tr>\n",
       "  </thead>\n",
       "  <tbody>\n",
       "    <tr>\n",
       "      <th rowspan=\"2\" valign=\"top\">2024</th>\n",
       "      <th>6</th>\n",
       "      <th>JMT</th>\n",
       "      <td>1,146.37</td>\n",
       "      <td>1</td>\n",
       "    </tr>\n",
       "    <tr>\n",
       "      <th>8</th>\n",
       "      <th>JMT</th>\n",
       "      <td>11,015.07</td>\n",
       "      <td>2</td>\n",
       "    </tr>\n",
       "  </tbody>\n",
       "</table>\n",
       "</div>"
      ],
      "text/plain": [
       "                                sum  count\n",
       "sell_year sell_month name                 \n",
       "2024      6          JMT   1,146.37      1\n",
       "          8          JMT  11,015.07      2"
      ]
     },
     "execution_count": 20,
     "metadata": {},
     "output_type": "execute_result"
    }
   ],
   "source": [
    "pd.set_option('max_rows',None)\n",
    "ttl_by_month.get('profit')"
   ]
  },
  {
   "cell_type": "code",
   "execution_count": 21,
   "metadata": {},
   "outputs": [
    {
     "data": {
      "text/html": [
       "<div>\n",
       "<style scoped>\n",
       "    .dataframe tbody tr th:only-of-type {\n",
       "        vertical-align: middle;\n",
       "    }\n",
       "\n",
       "    .dataframe tbody tr th {\n",
       "        vertical-align: top;\n",
       "    }\n",
       "\n",
       "    .dataframe thead tr th {\n",
       "        text-align: left;\n",
       "    }\n",
       "\n",
       "    .dataframe thead tr:last-of-type th {\n",
       "        text-align: right;\n",
       "    }\n",
       "</style>\n",
       "<table border=\"1\" class=\"dataframe\">\n",
       "  <thead>\n",
       "    <tr>\n",
       "      <th></th>\n",
       "      <th colspan=\"2\" halign=\"left\">profit</th>\n",
       "    </tr>\n",
       "    <tr>\n",
       "      <th></th>\n",
       "      <th>sum</th>\n",
       "      <th>count</th>\n",
       "    </tr>\n",
       "    <tr>\n",
       "      <th>name</th>\n",
       "      <th></th>\n",
       "      <th></th>\n",
       "    </tr>\n",
       "  </thead>\n",
       "  <tbody>\n",
       "    <tr>\n",
       "      <th>JMT</th>\n",
       "      <td>12,161.44</td>\n",
       "      <td>3</td>\n",
       "    </tr>\n",
       "  </tbody>\n",
       "</table>\n",
       "</div>"
      ],
      "text/plain": [
       "        profit      \n",
       "           sum count\n",
       "name                \n",
       "JMT  12,161.44     3"
      ]
     },
     "execution_count": 21,
     "metadata": {},
     "output_type": "execute_result"
    }
   ],
   "source": [
    "ttl_by_month.groupby(level='name').sum()"
   ]
  },
  {
   "cell_type": "code",
   "execution_count": 22,
   "metadata": {},
   "outputs": [
    {
     "data": {
      "text/plain": [
       "profit  sum     12,161.44\n",
       "        count        3.00\n",
       "dtype: float64"
      ]
     },
     "execution_count": 22,
     "metadata": {},
     "output_type": "execute_result"
    }
   ],
   "source": [
    "ttl_by_month.sum()"
   ]
  },
  {
   "cell_type": "markdown",
   "metadata": {},
   "source": [
    "### Profit by Stock"
   ]
  },
  {
   "cell_type": "code",
   "execution_count": 51,
   "metadata": {},
   "outputs": [
    {
     "name": "stdout",
     "output_type": "stream",
     "text": [
      "\n",
      "SELECT name, sells.date AS sell_date,\n",
      "qty, sells.price AS sell_price, buys.price AS buy_price,\n",
      "sells.net AS sell_amt, buys.net AS buy_amt, profit,\n",
      "ROUND((sells.price - buys.price)/buys.price*100,2) AS pct, sells.id AS sell_id, buys.kind\n",
      "FROM sells JOIN buys ON sells.buy_id = buys.id\n",
      "JOIN stocks ON buys.stock_id = stocks.id\n",
      "WHERE YEAR(sells.date) = 2022 AND name = 'SIS'\n",
      "ORDER BY sells.date DESC\n"
     ]
    },
    {
     "data": {
      "text/html": [
       "<style type=\"text/css\">\n",
       "</style>\n",
       "<table id=\"T_d599c_\">\n",
       "  <thead>\n",
       "    <tr>\n",
       "      <th class=\"blank level0\" >&nbsp;</th>\n",
       "      <th class=\"col_heading level0 col0\" >name</th>\n",
       "      <th class=\"col_heading level0 col1\" >sell_date</th>\n",
       "      <th class=\"col_heading level0 col2\" >qty</th>\n",
       "      <th class=\"col_heading level0 col3\" >sell_price</th>\n",
       "      <th class=\"col_heading level0 col4\" >buy_price</th>\n",
       "      <th class=\"col_heading level0 col5\" >sell_amt</th>\n",
       "      <th class=\"col_heading level0 col6\" >buy_amt</th>\n",
       "      <th class=\"col_heading level0 col7\" >profit</th>\n",
       "      <th class=\"col_heading level0 col8\" >pct</th>\n",
       "      <th class=\"col_heading level0 col9\" >sell_id</th>\n",
       "      <th class=\"col_heading level0 col10\" >kind</th>\n",
       "    </tr>\n",
       "  </thead>\n",
       "  <tbody>\n",
       "    <tr>\n",
       "      <th id=\"T_d599c_level0_row0\" class=\"row_heading level0 row0\" >0</th>\n",
       "      <td id=\"T_d599c_row0_col0\" class=\"data row0 col0\" >SIS</td>\n",
       "      <td id=\"T_d599c_row0_col1\" class=\"data row0 col1\" >2022-05-26</td>\n",
       "      <td id=\"T_d599c_row0_col2\" class=\"data row0 col2\" >800</td>\n",
       "      <td id=\"T_d599c_row0_col3\" class=\"data row0 col3\" >30.75</td>\n",
       "      <td id=\"T_d599c_row0_col4\" class=\"data row0 col4\" >28.75</td>\n",
       "      <td id=\"T_d599c_row0_col5\" class=\"data row0 col5\" >24,545.52</td>\n",
       "      <td id=\"T_d599c_row0_col6\" class=\"data row0 col6\" >23,050.94</td>\n",
       "      <td id=\"T_d599c_row0_col7\" class=\"data row0 col7\" >1,494.58</td>\n",
       "      <td id=\"T_d599c_row0_col8\" class=\"data row0 col8\" >6.96%</td>\n",
       "      <td id=\"T_d599c_row0_col9\" class=\"data row0 col9\" >968</td>\n",
       "      <td id=\"T_d599c_row0_col10\" class=\"data row0 col10\" >DTD</td>\n",
       "    </tr>\n",
       "    <tr>\n",
       "      <th id=\"T_d599c_level0_row1\" class=\"row_heading level0 row1\" >1</th>\n",
       "      <td id=\"T_d599c_row1_col0\" class=\"data row1 col0\" >SIS</td>\n",
       "      <td id=\"T_d599c_row1_col1\" class=\"data row1 col1\" >2022-03-31</td>\n",
       "      <td id=\"T_d599c_row1_col2\" class=\"data row1 col2\" >4,500</td>\n",
       "      <td id=\"T_d599c_row1_col3\" class=\"data row1 col3\" >40.75</td>\n",
       "      <td id=\"T_d599c_row1_col4\" class=\"data row1 col4\" >40.50</td>\n",
       "      <td id=\"T_d599c_row1_col5\" class=\"data row1 col5\" >182,968.84</td>\n",
       "      <td id=\"T_d599c_row1_col6\" class=\"data row1 col6\" >182,653.67</td>\n",
       "      <td id=\"T_d599c_row1_col7\" class=\"data row1 col7\" >315.17</td>\n",
       "      <td id=\"T_d599c_row1_col8\" class=\"data row1 col8\" >0.62%</td>\n",
       "      <td id=\"T_d599c_row1_col9\" class=\"data row1 col9\" >950</td>\n",
       "      <td id=\"T_d599c_row1_col10\" class=\"data row1 col10\" >DTD</td>\n",
       "    </tr>\n",
       "    <tr>\n",
       "      <th id=\"T_d599c_level0_row2\" class=\"row_heading level0 row2\" >2</th>\n",
       "      <td id=\"T_d599c_row2_col0\" class=\"data row2 col0\" >SIS</td>\n",
       "      <td id=\"T_d599c_row2_col1\" class=\"data row2 col1\" >2022-01-19</td>\n",
       "      <td id=\"T_d599c_row2_col2\" class=\"data row2 col2\" >1,500</td>\n",
       "      <td id=\"T_d599c_row2_col3\" class=\"data row2 col3\" >42.75</td>\n",
       "      <td id=\"T_d599c_row2_col4\" class=\"data row2 col4\" >40.50</td>\n",
       "      <td id=\"T_d599c_row2_col5\" class=\"data row2 col5\" >63,982.97</td>\n",
       "      <td id=\"T_d599c_row2_col6\" class=\"data row2 col6\" >60,884.55</td>\n",
       "      <td id=\"T_d599c_row2_col7\" class=\"data row2 col7\" >3,098.42</td>\n",
       "      <td id=\"T_d599c_row2_col8\" class=\"data row2 col8\" >5.56%</td>\n",
       "      <td id=\"T_d599c_row2_col9\" class=\"data row2 col9\" >907</td>\n",
       "      <td id=\"T_d599c_row2_col10\" class=\"data row2 col10\" >DTD</td>\n",
       "    </tr>\n",
       "  </tbody>\n",
       "</table>\n"
      ],
      "text/plain": [
       "<pandas.io.formats.style.Styler at 0x1dedf384f70>"
      ]
     },
     "execution_count": 51,
     "metadata": {},
     "output_type": "execute_result"
    }
   ],
   "source": [
    "#name = 'IMH'\n",
    "sql = '''\n",
    "SELECT name, sells.date AS sell_date,\n",
    "qty, sells.price AS sell_price, buys.price AS buy_price,\n",
    "sells.net AS sell_amt, buys.net AS buy_amt, profit,\n",
    "ROUND((sells.price - buys.price)/buys.price*100,2) AS pct, sells.id AS sell_id, buys.kind\n",
    "FROM sells JOIN buys ON sells.buy_id = buys.id\n",
    "JOIN stocks ON buys.stock_id = stocks.id\n",
    "WHERE YEAR(sells.date) = %s AND name = '%s'\n",
    "ORDER BY sells.date DESC'''\n",
    "\n",
    "sql = sql % (year, name)\n",
    "print(sql)\n",
    "\n",
    "df_name = pd.read_sql(sql, conpf)\n",
    "df_name.style.format(format_dict)\n"
   ]
  },
  {
   "cell_type": "code",
   "execution_count": 52,
   "metadata": {},
   "outputs": [
    {
     "data": {
      "text/plain": [
       "(4908.17, 1.84)"
      ]
     },
     "execution_count": 52,
     "metadata": {},
     "output_type": "execute_result"
    }
   ],
   "source": [
    "profit = df_name.profit.sum()\n",
    "cost = df_name.buy_amt.sum()\n",
    "percent = round(profit/cost*100,2)\n",
    "profit, percent"
   ]
  },
  {
   "cell_type": "code",
   "execution_count": 53,
   "metadata": {},
   "outputs": [
    {
     "data": {
      "text/html": [
       "<div>\n",
       "<style scoped>\n",
       "    .dataframe tbody tr th:only-of-type {\n",
       "        vertical-align: middle;\n",
       "    }\n",
       "\n",
       "    .dataframe tbody tr th {\n",
       "        vertical-align: top;\n",
       "    }\n",
       "\n",
       "    .dataframe thead tr th {\n",
       "        text-align: left;\n",
       "    }\n",
       "\n",
       "    .dataframe thead tr:last-of-type th {\n",
       "        text-align: right;\n",
       "    }\n",
       "</style>\n",
       "<table border=\"1\" class=\"dataframe\">\n",
       "  <thead>\n",
       "    <tr>\n",
       "      <th></th>\n",
       "      <th>sell_price</th>\n",
       "    </tr>\n",
       "    <tr>\n",
       "      <th></th>\n",
       "      <th>count</th>\n",
       "    </tr>\n",
       "    <tr>\n",
       "      <th>sell_price</th>\n",
       "      <th></th>\n",
       "    </tr>\n",
       "  </thead>\n",
       "  <tbody>\n",
       "    <tr>\n",
       "      <th>30.75</th>\n",
       "      <td>1</td>\n",
       "    </tr>\n",
       "    <tr>\n",
       "      <th>40.75</th>\n",
       "      <td>1</td>\n",
       "    </tr>\n",
       "    <tr>\n",
       "      <th>42.75</th>\n",
       "      <td>1</td>\n",
       "    </tr>\n",
       "  </tbody>\n",
       "</table>\n",
       "</div>"
      ],
      "text/plain": [
       "           sell_price\n",
       "                count\n",
       "sell_price           \n",
       "30.75               1\n",
       "40.75               1\n",
       "42.75               1"
      ]
     },
     "execution_count": 53,
     "metadata": {},
     "output_type": "execute_result"
    }
   ],
   "source": [
    "df_by_price = df_name.groupby(['sell_price'], as_index=True).agg(\n",
    "    {\n",
    "        'sell_price':['count'],\n",
    "    }\n",
    ")\n",
    "df_by_price"
   ]
  },
  {
   "cell_type": "code",
   "execution_count": 54,
   "metadata": {},
   "outputs": [
    {
     "data": {
      "text/html": [
       "<div>\n",
       "<style scoped>\n",
       "    .dataframe tbody tr th:only-of-type {\n",
       "        vertical-align: middle;\n",
       "    }\n",
       "\n",
       "    .dataframe tbody tr th {\n",
       "        vertical-align: top;\n",
       "    }\n",
       "\n",
       "    .dataframe thead tr th {\n",
       "        text-align: left;\n",
       "    }\n",
       "\n",
       "    .dataframe thead tr:last-of-type th {\n",
       "        text-align: right;\n",
       "    }\n",
       "</style>\n",
       "<table border=\"1\" class=\"dataframe\">\n",
       "  <thead>\n",
       "    <tr>\n",
       "      <th></th>\n",
       "      <th></th>\n",
       "      <th>sell_price</th>\n",
       "    </tr>\n",
       "    <tr>\n",
       "      <th></th>\n",
       "      <th></th>\n",
       "      <th>count</th>\n",
       "    </tr>\n",
       "    <tr>\n",
       "      <th>sell_price</th>\n",
       "      <th>buy_price</th>\n",
       "      <th></th>\n",
       "    </tr>\n",
       "  </thead>\n",
       "  <tbody>\n",
       "    <tr>\n",
       "      <th>30.75</th>\n",
       "      <th>28.75</th>\n",
       "      <td>1</td>\n",
       "    </tr>\n",
       "    <tr>\n",
       "      <th>40.75</th>\n",
       "      <th>40.50</th>\n",
       "      <td>1</td>\n",
       "    </tr>\n",
       "    <tr>\n",
       "      <th>42.75</th>\n",
       "      <th>40.50</th>\n",
       "      <td>1</td>\n",
       "    </tr>\n",
       "  </tbody>\n",
       "</table>\n",
       "</div>"
      ],
      "text/plain": [
       "                     sell_price\n",
       "                          count\n",
       "sell_price buy_price           \n",
       "30.75      28.75              1\n",
       "40.75      40.50              1\n",
       "42.75      40.50              1"
      ]
     },
     "execution_count": 54,
     "metadata": {},
     "output_type": "execute_result"
    }
   ],
   "source": [
    "df_by_price = df_name.groupby(['sell_price','buy_price'], as_index=True).agg(\n",
    "    {\n",
    "        'sell_price':['count'],\n",
    "    }\n",
    ")\n",
    "df_by_price"
   ]
  },
  {
   "cell_type": "code",
   "execution_count": null,
   "metadata": {},
   "outputs": [],
   "source": []
  }
 ],
 "metadata": {
  "anaconda-cloud": {},
  "kernelspec": {
   "display_name": "Python 3 (ipykernel)",
   "language": "python",
   "name": "python3"
  },
  "language_info": {
   "codemirror_mode": {
    "name": "ipython",
    "version": 3
   },
   "file_extension": ".py",
   "mimetype": "text/x-python",
   "name": "python",
   "nbconvert_exporter": "python",
   "pygments_lexer": "ipython3",
   "version": "3.8.19"
  }
 },
 "nbformat": 4,
 "nbformat_minor": 1
}
