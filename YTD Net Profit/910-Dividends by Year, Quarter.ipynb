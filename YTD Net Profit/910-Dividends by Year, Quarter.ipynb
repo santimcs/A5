{
 "cells": [
  {
   "cell_type": "code",
   "execution_count": 1,
   "metadata": {},
   "outputs": [],
   "source": [
    "import pandas as pd\n",
    "from datetime import date, timedelta\n",
    "from sqlalchemy import create_engine\n",
    "\n",
    "engine = create_engine('mysql+pymysql://root:@localhost:3306/portfolio_development')\n",
    "conpf = engine.connect()\n",
    "\n",
    "engine = create_engine(\"sqlite:///c:\\\\ruby\\\\portlt\\\\db\\\\development.sqlite3\")\n",
    "conlt = engine.connect()\n",
    "\n",
    "engine = create_engine(\"mysql+pymysql://root:@localhost:3306/stock\")\n",
    "const = engine.connect()"
   ]
  },
  {
   "cell_type": "code",
   "execution_count": 2,
   "metadata": {},
   "outputs": [],
   "source": [
    "format_dict = {\n",
    "    'number':'{:,}',\n",
    "    'amt':'{:,.2f}','net':'{:,.2f}',\n",
    "    'ppu':'{:.4f}',\n",
    "    'x_date':'{:%Y-%m-%d}',    \n",
    "    'p_date':'{:%Y-%m-%d}',    \n",
    "}"
   ]
  },
  {
   "cell_type": "code",
   "execution_count": 3,
   "metadata": {},
   "outputs": [
    {
     "data": {
      "text/plain": [
       "id            int64\n",
       "stock_id      int64\n",
       "name         object\n",
       "year          int64\n",
       "quarter       int64\n",
       "number        int64\n",
       "ppu         float64\n",
       "amt         float64\n",
       "net         float64\n",
       "x_date       object\n",
       "p_date       object\n",
       "dtype: object"
      ]
     },
     "execution_count": 3,
     "metadata": {},
     "output_type": "execute_result"
    }
   ],
   "source": [
    "sql = '''\n",
    "SELECT *\n",
    "FROM dividends\n",
    "LIMIT 1'''\n",
    "struct = pd.read_sql(sql, conpf)\n",
    "struct.dtypes"
   ]
  },
  {
   "cell_type": "code",
   "execution_count": 5,
   "metadata": {},
   "outputs": [
    {
     "data": {
      "text/plain": [
       "year         int64\n",
       "quarter      int64\n",
       "name        object\n",
       "number       int64\n",
       "ppu        float64\n",
       "amt        float64\n",
       "net        float64\n",
       "x_date      object\n",
       "p_date      object\n",
       "dtype: object"
      ]
     },
     "execution_count": 5,
     "metadata": {},
     "output_type": "execute_result"
    }
   ],
   "source": [
    "sql = '''\n",
    "SELECT year, quarter, name, \n",
    "number, ppu, amt, net, x_date, p_date\n",
    "FROM dividends\n",
    "WHERE year = 2024 AND quarter = 2\n",
    "'''\n",
    "df = pd.read_sql(sql, conpf)\n",
    "df.dtypes"
   ]
  },
  {
   "cell_type": "code",
   "execution_count": 6,
   "metadata": {},
   "outputs": [
    {
     "data": {
      "text/plain": [
       "year                int64\n",
       "quarter             int64\n",
       "name               object\n",
       "number              int64\n",
       "ppu               float64\n",
       "amt               float64\n",
       "net               float64\n",
       "x_date     datetime64[ns]\n",
       "p_date     datetime64[ns]\n",
       "dtype: object"
      ]
     },
     "execution_count": 6,
     "metadata": {},
     "output_type": "execute_result"
    }
   ],
   "source": [
    "df['x_date'] = pd.to_datetime(df['x_date'])\n",
    "df['p_date'] = pd.to_datetime(df['p_date'])\n",
    "df.dtypes"
   ]
  },
  {
   "cell_type": "code",
   "execution_count": 7,
   "metadata": {},
   "outputs": [
    {
     "data": {
      "text/plain": [
       "1350.0"
      ]
     },
     "execution_count": 7,
     "metadata": {},
     "output_type": "execute_result"
    }
   ],
   "source": [
    "df.net.sum()"
   ]
  },
  {
   "cell_type": "code",
   "execution_count": 8,
   "metadata": {
    "scrolled": true
   },
   "outputs": [
    {
     "data": {
      "text/html": [
       "<style type=\"text/css\">\n",
       "</style>\n",
       "<table id=\"T_cd1ec_\">\n",
       "  <thead>\n",
       "    <tr>\n",
       "      <th class=\"blank level0\" >&nbsp;</th>\n",
       "      <th class=\"col_heading level0 col0\" >year</th>\n",
       "      <th class=\"col_heading level0 col1\" >quarter</th>\n",
       "      <th class=\"col_heading level0 col2\" >name</th>\n",
       "      <th class=\"col_heading level0 col3\" >number</th>\n",
       "      <th class=\"col_heading level0 col4\" >ppu</th>\n",
       "      <th class=\"col_heading level0 col5\" >amt</th>\n",
       "      <th class=\"col_heading level0 col6\" >net</th>\n",
       "      <th class=\"col_heading level0 col7\" >x_date</th>\n",
       "      <th class=\"col_heading level0 col8\" >p_date</th>\n",
       "    </tr>\n",
       "  </thead>\n",
       "  <tbody>\n",
       "    <tr>\n",
       "      <th id=\"T_cd1ec_level0_row0\" class=\"row_heading level0 row0\" >0</th>\n",
       "      <td id=\"T_cd1ec_row0_col0\" class=\"data row0 col0\" >2024</td>\n",
       "      <td id=\"T_cd1ec_row0_col1\" class=\"data row0 col1\" >2</td>\n",
       "      <td id=\"T_cd1ec_row0_col2\" class=\"data row0 col2\" >SCC</td>\n",
       "      <td id=\"T_cd1ec_row0_col3\" class=\"data row0 col3\" >600</td>\n",
       "      <td id=\"T_cd1ec_row0_col4\" class=\"data row0 col4\" >2.5000</td>\n",
       "      <td id=\"T_cd1ec_row0_col5\" class=\"data row0 col5\" >1,500.00</td>\n",
       "      <td id=\"T_cd1ec_row0_col6\" class=\"data row0 col6\" >1,350.00</td>\n",
       "      <td id=\"T_cd1ec_row0_col7\" class=\"data row0 col7\" >2024-08-07</td>\n",
       "      <td id=\"T_cd1ec_row0_col8\" class=\"data row0 col8\" >2024-08-23</td>\n",
       "    </tr>\n",
       "  </tbody>\n",
       "</table>\n"
      ],
      "text/plain": [
       "<pandas.io.formats.style.Styler at 0x165b8b51d90>"
      ]
     },
     "execution_count": 8,
     "metadata": {},
     "output_type": "execute_result"
    }
   ],
   "source": [
    "df.sort_values(['x_date','name'],ascending=[True,True]).style.format(format_dict)"
   ]
  },
  {
   "cell_type": "code",
   "execution_count": null,
   "metadata": {},
   "outputs": [],
   "source": []
  }
 ],
 "metadata": {
  "anaconda-cloud": {},
  "kernelspec": {
   "display_name": "Python 3 (ipykernel)",
   "language": "python",
   "name": "python3"
  },
  "language_info": {
   "codemirror_mode": {
    "name": "ipython",
    "version": 3
   },
   "file_extension": ".py",
   "mimetype": "text/x-python",
   "name": "python",
   "nbconvert_exporter": "python",
   "pygments_lexer": "ipython3",
   "version": "3.8.19"
  }
 },
 "nbformat": 4,
 "nbformat_minor": 1
}
