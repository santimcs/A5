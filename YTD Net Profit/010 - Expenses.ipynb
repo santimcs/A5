{
 "cells": [
  {
   "cell_type": "markdown",
   "metadata": {},
   "source": [
    "### Restart and run all"
   ]
  },
  {
   "cell_type": "code",
   "execution_count": 2,
   "metadata": {},
   "outputs": [
    {
     "data": {
      "text/plain": [
       "datetime.date(2025, 8, 12)"
      ]
     },
     "execution_count": 2,
     "metadata": {},
     "output_type": "execute_result"
    }
   ],
   "source": [
    "%matplotlib inline\n",
    "import matplotlib.pyplot as plt\n",
    "import pandas as pd\n",
    "from sqlalchemy import create_engine, text\n",
    "from datetime import date, timedelta\n",
    "import calendar\n",
    "\n",
    "engine = create_engine(\"sqlite:///c:\\\\ruby\\\\expense\\\\db\\\\development.sqlite3\")\n",
    "con_exp = engine.connect()\n",
    "\n",
    "pd.set_option('display.max_rows', 11)\n",
    "format_dict = {'amount':'{:,}','y_amt':'{:,}','yoy_gain':'{:,}',\n",
    "               'q_amt_c':'{:,}','q_amt_p':'{:,}',\n",
    "               'aq_amt':'{:,}','ay_amt':'{:,}','acc_gain':'{:,}',\n",
    "               'latest_amt':'{:,}','previous_amt':'{:,}','inc_amt':'{:,}',\n",
    "               'latest_amt_q':'{:,}','previous_amt_q':'{:,}','inc_amt_q':'{:,}',\n",
    "               'latest_amt_y':'{:,}','previous_amt_y':'{:,}','inc_amt_y':'{:,}',\n",
    "               'inc_pct':'{:.2f}','inc_pct_q':'{:.2f}','inc_pct_y':'{:.2f}'}\n",
    "year = \"2025\"\n",
    "today = date.today()\n",
    "today"
   ]
  },
  {
   "cell_type": "code",
   "execution_count": 3,
   "metadata": {},
   "outputs": [
    {
     "name": "stdout",
     "output_type": "stream",
     "text": [
      "           date  amount              item           kind Month\n",
      "0    2025-08-04    3000  Books & Software    Edutainment    08\n",
      "1    2025-07-31    5000            Parent         Parent    07\n",
      "2    2025-07-31     640     Internet Home  Communication    07\n",
      "3    2025-07-31     420           Netflix    Edutainment    07\n",
      "4    2025-07-31     320    Telephone Dtac  Communication    07\n",
      "..          ...     ...               ...            ...   ...\n",
      "98   2025-01-08    6340          Medicine       Medicine    01\n",
      "99   2025-01-07     500              Food           Food    01\n",
      "100  2025-01-07    1700  Books & Software    Edutainment    01\n",
      "101  2025-01-05    1160              Food           Food    01\n",
      "102  2025-01-03    5470              Pets           Pets    01\n",
      "\n",
      "[103 rows x 5 columns]\n"
     ]
    }
   ],
   "source": [
    "# Establish a connection\n",
    "with engine.connect() as con_exp:\n",
    "    sql = text(\"\"\"\n",
    "    SELECT date, amount, C.name AS item, G.name AS kind, strftime('%m', date) as Month \n",
    "    FROM transactions T \n",
    "    JOIN categories C ON category_id = C.id \n",
    "    JOIN groups G ON group_id = G.id \n",
    "    WHERE strftime('%Y', date) = :year\n",
    "    ORDER BY date DESC\n",
    "    \"\"\")\n",
    "    \n",
    "    # Execute query and fetch results\n",
    "    result = con_exp.execute(sql, {\"year\": year})\n",
    "    \n",
    "    # Convert result to DataFrame\n",
    "    df_t = pd.DataFrame(result.fetchall(), columns=result.keys())\n",
    "\n",
    "# Display the DataFrame\n",
    "print(df_t)\n"
   ]
  },
  {
   "cell_type": "code",
   "execution_count": 4,
   "metadata": {},
   "outputs": [
    {
     "data": {
      "text/html": [
       "<style type=\"text/css\">\n",
       "</style>\n",
       "<table id=\"T_40906\">\n",
       "  <thead>\n",
       "    <tr>\n",
       "      <th class=\"blank level0\" >&nbsp;</th>\n",
       "      <th id=\"T_40906_level0_col0\" class=\"col_heading level0 col0\" >date</th>\n",
       "      <th id=\"T_40906_level0_col1\" class=\"col_heading level0 col1\" >amount</th>\n",
       "      <th id=\"T_40906_level0_col2\" class=\"col_heading level0 col2\" >item</th>\n",
       "      <th id=\"T_40906_level0_col3\" class=\"col_heading level0 col3\" >kind</th>\n",
       "      <th id=\"T_40906_level0_col4\" class=\"col_heading level0 col4\" >Month</th>\n",
       "    </tr>\n",
       "  </thead>\n",
       "  <tbody>\n",
       "    <tr>\n",
       "      <th id=\"T_40906_level0_row0\" class=\"row_heading level0 row0\" >0</th>\n",
       "      <td id=\"T_40906_row0_col0\" class=\"data row0 col0\" >2025-08-04</td>\n",
       "      <td id=\"T_40906_row0_col1\" class=\"data row0 col1\" >3,000</td>\n",
       "      <td id=\"T_40906_row0_col2\" class=\"data row0 col2\" >Books & Software</td>\n",
       "      <td id=\"T_40906_row0_col3\" class=\"data row0 col3\" >Edutainment</td>\n",
       "      <td id=\"T_40906_row0_col4\" class=\"data row0 col4\" >08</td>\n",
       "    </tr>\n",
       "    <tr>\n",
       "      <th id=\"T_40906_level0_row1\" class=\"row_heading level0 row1\" >1</th>\n",
       "      <td id=\"T_40906_row1_col0\" class=\"data row1 col0\" >2025-07-31</td>\n",
       "      <td id=\"T_40906_row1_col1\" class=\"data row1 col1\" >5,000</td>\n",
       "      <td id=\"T_40906_row1_col2\" class=\"data row1 col2\" >Parent</td>\n",
       "      <td id=\"T_40906_row1_col3\" class=\"data row1 col3\" >Parent</td>\n",
       "      <td id=\"T_40906_row1_col4\" class=\"data row1 col4\" >07</td>\n",
       "    </tr>\n",
       "    <tr>\n",
       "      <th id=\"T_40906_level0_row2\" class=\"row_heading level0 row2\" >2</th>\n",
       "      <td id=\"T_40906_row2_col0\" class=\"data row2 col0\" >2025-07-31</td>\n",
       "      <td id=\"T_40906_row2_col1\" class=\"data row2 col1\" >640</td>\n",
       "      <td id=\"T_40906_row2_col2\" class=\"data row2 col2\" >Internet Home</td>\n",
       "      <td id=\"T_40906_row2_col3\" class=\"data row2 col3\" >Communication</td>\n",
       "      <td id=\"T_40906_row2_col4\" class=\"data row2 col4\" >07</td>\n",
       "    </tr>\n",
       "    <tr>\n",
       "      <th id=\"T_40906_level0_row3\" class=\"row_heading level0 row3\" >3</th>\n",
       "      <td id=\"T_40906_row3_col0\" class=\"data row3 col0\" >2025-07-31</td>\n",
       "      <td id=\"T_40906_row3_col1\" class=\"data row3 col1\" >420</td>\n",
       "      <td id=\"T_40906_row3_col2\" class=\"data row3 col2\" >Netflix</td>\n",
       "      <td id=\"T_40906_row3_col3\" class=\"data row3 col3\" >Edutainment</td>\n",
       "      <td id=\"T_40906_row3_col4\" class=\"data row3 col4\" >07</td>\n",
       "    </tr>\n",
       "    <tr>\n",
       "      <th id=\"T_40906_level0_row4\" class=\"row_heading level0 row4\" >4</th>\n",
       "      <td id=\"T_40906_row4_col0\" class=\"data row4 col0\" >2025-07-31</td>\n",
       "      <td id=\"T_40906_row4_col1\" class=\"data row4 col1\" >320</td>\n",
       "      <td id=\"T_40906_row4_col2\" class=\"data row4 col2\" >Telephone Dtac</td>\n",
       "      <td id=\"T_40906_row4_col3\" class=\"data row4 col3\" >Communication</td>\n",
       "      <td id=\"T_40906_row4_col4\" class=\"data row4 col4\" >07</td>\n",
       "    </tr>\n",
       "  </tbody>\n",
       "</table>\n"
      ],
      "text/plain": [
       "<pandas.io.formats.style.Styler at 0x1f01333dee0>"
      ]
     },
     "execution_count": 4,
     "metadata": {},
     "output_type": "execute_result"
    }
   ],
   "source": [
    "df_t.head().style.format(format_dict)"
   ]
  },
  {
   "cell_type": "code",
   "execution_count": 5,
   "metadata": {},
   "outputs": [
    {
     "data": {
      "text/plain": [
       "Index(['date', 'amount', 'item', 'kind', 'Month'], dtype='object')"
      ]
     },
     "execution_count": 5,
     "metadata": {},
     "output_type": "execute_result"
    }
   ],
   "source": [
    "df_t.columns"
   ]
  },
  {
   "cell_type": "code",
   "execution_count": 6,
   "metadata": {},
   "outputs": [],
   "source": [
    "grouped = df_t.groupby(\"item\")\n",
    "#grouped.sum().style.format(format_dict)"
   ]
  },
  {
   "cell_type": "code",
   "execution_count": 7,
   "metadata": {},
   "outputs": [],
   "source": [
    "grouped = df_t.groupby(\"kind\")\n",
    "#grouped.sum().style.format(format_dict)"
   ]
  },
  {
   "cell_type": "code",
   "execution_count": 8,
   "metadata": {
    "scrolled": true
   },
   "outputs": [
    {
     "data": {
      "text/plain": [
       "Month\n",
       "01     43930\n",
       "02     58500\n",
       "03    178960\n",
       "04     46870\n",
       "05      9390\n",
       "06     41150\n",
       "07      8610\n",
       "08      3000\n",
       "Name: amount, dtype: int64"
      ]
     },
     "execution_count": 8,
     "metadata": {},
     "output_type": "execute_result"
    }
   ],
   "source": [
    "monthly = df_t.groupby(\"Month\")\n",
    "#monthly.sum().style.format(format_dict)\n",
    "monthly['amount'].sum()"
   ]
  },
  {
   "cell_type": "code",
   "execution_count": 9,
   "metadata": {},
   "outputs": [
    {
     "name": "stdout",
     "output_type": "stream",
     "text": [
      "390410\n"
     ]
    }
   ],
   "source": [
    "expense = monthly.amount.sum()\n",
    "print(sum(expense))"
   ]
  },
  {
   "cell_type": "code",
   "execution_count": null,
   "metadata": {},
   "outputs": [],
   "source": []
  }
 ],
 "metadata": {
  "anaconda-cloud": {},
  "kernelspec": {
   "display_name": "Python 3 (ipykernel)",
   "language": "python",
   "name": "python3"
  },
  "language_info": {
   "codemirror_mode": {
    "name": "ipython",
    "version": 3
   },
   "file_extension": ".py",
   "mimetype": "text/x-python",
   "name": "python",
   "nbconvert_exporter": "python",
   "pygments_lexer": "ipython3",
   "version": "3.12.3"
  }
 },
 "nbformat": 4,
 "nbformat_minor": 4
}
