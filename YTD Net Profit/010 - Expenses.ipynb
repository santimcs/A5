{
 "cells": [
  {
   "cell_type": "markdown",
   "metadata": {},
   "source": [
    "### Restart and run all"
   ]
  },
  {
   "cell_type": "code",
   "execution_count": 2,
   "metadata": {},
   "outputs": [
    {
     "data": {
      "text/plain": [
       "datetime.date(2025, 1, 2)"
      ]
     },
     "execution_count": 2,
     "metadata": {},
     "output_type": "execute_result"
    }
   ],
   "source": [
    "%matplotlib inline\n",
    "import matplotlib.pyplot as plt\n",
    "import pandas as pd\n",
    "from sqlalchemy import create_engine\n",
    "from datetime import date, timedelta\n",
    "import calendar\n",
    "\n",
    "engine = create_engine(\"sqlite:///c:\\\\ruby\\\\expense\\\\db\\\\development.sqlite3\")\n",
    "connection = engine.connect()\n",
    "\n",
    "pd.set_option('display.max_rows', 11)\n",
    "format_dict = {'amount':'{:,}','y_amt':'{:,}','yoy_gain':'{:,}',\n",
    "               'q_amt_c':'{:,}','q_amt_p':'{:,}',\n",
    "               'aq_amt':'{:,}','ay_amt':'{:,}','acc_gain':'{:,}',\n",
    "               'latest_amt':'{:,}','previous_amt':'{:,}','inc_amt':'{:,}',\n",
    "               'latest_amt_q':'{:,}','previous_amt_q':'{:,}','inc_amt_q':'{:,}',\n",
    "               'latest_amt_y':'{:,}','previous_amt_y':'{:,}','inc_amt_y':'{:,}',\n",
    "               'inc_pct':'{:.2f}','inc_pct_q':'{:.2f}','inc_pct_y':'{:.2f}'}\n",
    "year = 2024\n",
    "today = date.today()\n",
    "today"
   ]
  },
  {
   "cell_type": "code",
   "execution_count": 3,
   "metadata": {},
   "outputs": [
    {
     "name": "stdout",
     "output_type": "stream",
     "text": [
      "\n",
      "SELECT date, amount, C.name AS item, G.name AS kind, strftime(\"%m\", date) as Month \n",
      "FROM transactions T \n",
      "JOIN categories C ON category_id = C.id \n",
      "JOIN groups G ON group_id = G.id \n",
      "WHERE strftime('%Y', date) = '2024'\n",
      "ORDER BY date DESC\n",
      "\n"
     ]
    }
   ],
   "source": [
    "sql = \"\"\"\n",
    "SELECT date, amount, C.name AS item, G.name AS kind, strftime(\"%m\", date) as Month \n",
    "FROM transactions T \n",
    "JOIN categories C ON category_id = C.id \n",
    "JOIN groups G ON group_id = G.id \n",
    "WHERE strftime('%Y', date) = '2024'\n",
    "ORDER BY date DESC\n",
    "\"\"\"\n",
    "#sql = sql % year\n",
    "print(sql)"
   ]
  },
  {
   "cell_type": "code",
   "execution_count": 4,
   "metadata": {},
   "outputs": [
    {
     "data": {
      "text/html": [
       "<style type=\"text/css\">\n",
       "</style>\n",
       "<table id=\"T_c0240\">\n",
       "  <thead>\n",
       "    <tr>\n",
       "      <th class=\"blank level0\" >&nbsp;</th>\n",
       "      <th id=\"T_c0240_level0_col0\" class=\"col_heading level0 col0\" >date</th>\n",
       "      <th id=\"T_c0240_level0_col1\" class=\"col_heading level0 col1\" >amount</th>\n",
       "      <th id=\"T_c0240_level0_col2\" class=\"col_heading level0 col2\" >item</th>\n",
       "      <th id=\"T_c0240_level0_col3\" class=\"col_heading level0 col3\" >kind</th>\n",
       "      <th id=\"T_c0240_level0_col4\" class=\"col_heading level0 col4\" >Month</th>\n",
       "    </tr>\n",
       "  </thead>\n",
       "  <tbody>\n",
       "    <tr>\n",
       "      <th id=\"T_c0240_level0_row0\" class=\"row_heading level0 row0\" >0</th>\n",
       "      <td id=\"T_c0240_row0_col0\" class=\"data row0 col0\" >2024-12-31</td>\n",
       "      <td id=\"T_c0240_row0_col1\" class=\"data row0 col1\" >10,000</td>\n",
       "      <td id=\"T_c0240_row0_col2\" class=\"data row0 col2\" >Parent</td>\n",
       "      <td id=\"T_c0240_row0_col3\" class=\"data row0 col3\" >Parent</td>\n",
       "      <td id=\"T_c0240_row0_col4\" class=\"data row0 col4\" >12</td>\n",
       "    </tr>\n",
       "    <tr>\n",
       "      <th id=\"T_c0240_level0_row1\" class=\"row_heading level0 row1\" >1</th>\n",
       "      <td id=\"T_c0240_row1_col0\" class=\"data row1 col0\" >2024-12-31</td>\n",
       "      <td id=\"T_c0240_row1_col1\" class=\"data row1 col1\" >640</td>\n",
       "      <td id=\"T_c0240_row1_col2\" class=\"data row1 col2\" >Internet Home</td>\n",
       "      <td id=\"T_c0240_row1_col3\" class=\"data row1 col3\" >Communication</td>\n",
       "      <td id=\"T_c0240_row1_col4\" class=\"data row1 col4\" >12</td>\n",
       "    </tr>\n",
       "    <tr>\n",
       "      <th id=\"T_c0240_level0_row2\" class=\"row_heading level0 row2\" >2</th>\n",
       "      <td id=\"T_c0240_row2_col0\" class=\"data row2 col0\" >2024-12-31</td>\n",
       "      <td id=\"T_c0240_row2_col1\" class=\"data row2 col1\" >420</td>\n",
       "      <td id=\"T_c0240_row2_col2\" class=\"data row2 col2\" >Netflix</td>\n",
       "      <td id=\"T_c0240_row2_col3\" class=\"data row2 col3\" >Edutainment</td>\n",
       "      <td id=\"T_c0240_row2_col4\" class=\"data row2 col4\" >12</td>\n",
       "    </tr>\n",
       "    <tr>\n",
       "      <th id=\"T_c0240_level0_row3\" class=\"row_heading level0 row3\" >3</th>\n",
       "      <td id=\"T_c0240_row3_col0\" class=\"data row3 col0\" >2024-12-31</td>\n",
       "      <td id=\"T_c0240_row3_col1\" class=\"data row3 col1\" >320</td>\n",
       "      <td id=\"T_c0240_row3_col2\" class=\"data row3 col2\" >Telephone Dtac</td>\n",
       "      <td id=\"T_c0240_row3_col3\" class=\"data row3 col3\" >Communication</td>\n",
       "      <td id=\"T_c0240_row3_col4\" class=\"data row3 col4\" >12</td>\n",
       "    </tr>\n",
       "    <tr>\n",
       "      <th id=\"T_c0240_level0_row4\" class=\"row_heading level0 row4\" >4</th>\n",
       "      <td id=\"T_c0240_row4_col0\" class=\"data row4 col0\" >2024-12-31</td>\n",
       "      <td id=\"T_c0240_row4_col1\" class=\"data row4 col1\" >170</td>\n",
       "      <td id=\"T_c0240_row4_col2\" class=\"data row4 col2\" >Google</td>\n",
       "      <td id=\"T_c0240_row4_col3\" class=\"data row4 col3\" >Edutainment</td>\n",
       "      <td id=\"T_c0240_row4_col4\" class=\"data row4 col4\" >12</td>\n",
       "    </tr>\n",
       "  </tbody>\n",
       "</table>\n"
      ],
      "text/plain": [
       "<pandas.io.formats.style.Styler at 0x1c465dd7b60>"
      ]
     },
     "execution_count": 4,
     "metadata": {},
     "output_type": "execute_result"
    }
   ],
   "source": [
    "df_t = pd.read_sql(sql, connection)\n",
    "df_t.head().style.format(format_dict)"
   ]
  },
  {
   "cell_type": "code",
   "execution_count": 5,
   "metadata": {},
   "outputs": [
    {
     "data": {
      "text/plain": [
       "Index(['date', 'amount', 'item', 'kind', 'Month'], dtype='object')"
      ]
     },
     "execution_count": 5,
     "metadata": {},
     "output_type": "execute_result"
    }
   ],
   "source": [
    "df_t.columns"
   ]
  },
  {
   "cell_type": "code",
   "execution_count": 6,
   "metadata": {},
   "outputs": [],
   "source": [
    "grouped = df_t.groupby(\"item\")\n",
    "#grouped.sum().style.format(format_dict)"
   ]
  },
  {
   "cell_type": "code",
   "execution_count": 7,
   "metadata": {},
   "outputs": [],
   "source": [
    "grouped = df_t.groupby(\"kind\")\n",
    "#grouped.sum().style.format(format_dict)"
   ]
  },
  {
   "cell_type": "code",
   "execution_count": 8,
   "metadata": {
    "scrolled": true
   },
   "outputs": [
    {
     "data": {
      "text/html": [
       "<div>\n",
       "<style scoped>\n",
       "    .dataframe tbody tr th:only-of-type {\n",
       "        vertical-align: middle;\n",
       "    }\n",
       "\n",
       "    .dataframe tbody tr th {\n",
       "        vertical-align: top;\n",
       "    }\n",
       "\n",
       "    .dataframe thead th {\n",
       "        text-align: right;\n",
       "    }\n",
       "</style>\n",
       "<table border=\"1\" class=\"dataframe\">\n",
       "  <thead>\n",
       "    <tr style=\"text-align: right;\">\n",
       "      <th></th>\n",
       "      <th>date</th>\n",
       "      <th>amount</th>\n",
       "      <th>item</th>\n",
       "      <th>kind</th>\n",
       "    </tr>\n",
       "    <tr>\n",
       "      <th>Month</th>\n",
       "      <th></th>\n",
       "      <th></th>\n",
       "      <th></th>\n",
       "      <th></th>\n",
       "    </tr>\n",
       "  </thead>\n",
       "  <tbody>\n",
       "    <tr>\n",
       "      <th>01</th>\n",
       "      <td>2024-01-312024-01-312024-01-312024-01-312024-0...</td>\n",
       "      <td>56420</td>\n",
       "      <td>PetsParentInternet HomeNetflixTelephone DtacGo...</td>\n",
       "      <td>PetsParentCommunicationEdutainmentCommunicatio...</td>\n",
       "    </tr>\n",
       "    <tr>\n",
       "      <th>02</th>\n",
       "      <td>2024-02-292024-02-292024-02-292024-02-292024-0...</td>\n",
       "      <td>152930</td>\n",
       "      <td>ParentInternet HomeNetflixTelephone DtacGoogle...</td>\n",
       "      <td>ParentCommunicationEdutainmentCommunicationEdu...</td>\n",
       "    </tr>\n",
       "    <tr>\n",
       "      <th>03</th>\n",
       "      <td>2024-03-312024-03-312024-03-312024-03-312024-0...</td>\n",
       "      <td>49000</td>\n",
       "      <td>ParentInternet HomeNetflixTelephone DtacGoogle...</td>\n",
       "      <td>ParentCommunicationEdutainmentCommunicationEdu...</td>\n",
       "    </tr>\n",
       "    <tr>\n",
       "      <th>04</th>\n",
       "      <td>2024-04-302024-04-302024-04-302024-04-302024-0...</td>\n",
       "      <td>38570</td>\n",
       "      <td>FoodParentInternet HomeNetflixTelephone DtacGo...</td>\n",
       "      <td>FoodParentCommunicationEdutainmentCommunicatio...</td>\n",
       "    </tr>\n",
       "    <tr>\n",
       "      <th>05</th>\n",
       "      <td>2024-05-312024-05-312024-05-312024-05-312024-0...</td>\n",
       "      <td>46080</td>\n",
       "      <td>ParentInternet HomeNetflixNetflixGoogleAppleAp...</td>\n",
       "      <td>ParentCommunicationEdutainmentEdutainmentEduta...</td>\n",
       "    </tr>\n",
       "    <tr>\n",
       "      <th>...</th>\n",
       "      <td>...</td>\n",
       "      <td>...</td>\n",
       "      <td>...</td>\n",
       "      <td>...</td>\n",
       "    </tr>\n",
       "    <tr>\n",
       "      <th>08</th>\n",
       "      <td>2024-08-312024-08-312024-08-312024-08-312024-0...</td>\n",
       "      <td>65590</td>\n",
       "      <td>ParentInternet HomeNetflixTelephone DtacGoogle...</td>\n",
       "      <td>ParentCommunicationEdutainmentCommunicationEdu...</td>\n",
       "    </tr>\n",
       "    <tr>\n",
       "      <th>09</th>\n",
       "      <td>2024-09-302024-09-302024-09-302024-09-302024-0...</td>\n",
       "      <td>24140</td>\n",
       "      <td>ParentInternet HomeNetflixTelephone DtacGoogle...</td>\n",
       "      <td>ParentCommunicationEdutainmentCommunicationEdu...</td>\n",
       "    </tr>\n",
       "    <tr>\n",
       "      <th>10</th>\n",
       "      <td>2024-10-312024-10-312024-10-312024-10-312024-1...</td>\n",
       "      <td>60880</td>\n",
       "      <td>ParentInternet HomeNetflixTelephone DtacGoogle...</td>\n",
       "      <td>ParentCommunicationEdutainmentCommunicationEdu...</td>\n",
       "    </tr>\n",
       "    <tr>\n",
       "      <th>11</th>\n",
       "      <td>2024-11-302024-11-302024-11-302024-11-302024-1...</td>\n",
       "      <td>26320</td>\n",
       "      <td>ParentInternet HomeNetflixTelephone DtacGoogle...</td>\n",
       "      <td>ParentCommunicationEdutainmentCommunicationEdu...</td>\n",
       "    </tr>\n",
       "    <tr>\n",
       "      <th>12</th>\n",
       "      <td>2024-12-312024-12-312024-12-312024-12-312024-1...</td>\n",
       "      <td>37990</td>\n",
       "      <td>ParentInternet HomeNetflixTelephone DtacGoogle...</td>\n",
       "      <td>ParentCommunicationEdutainmentCommunicationEdu...</td>\n",
       "    </tr>\n",
       "  </tbody>\n",
       "</table>\n",
       "<p>12 rows × 4 columns</p>\n",
       "</div>"
      ],
      "text/plain": [
       "                                                    date  amount  \\\n",
       "Month                                                              \n",
       "01     2024-01-312024-01-312024-01-312024-01-312024-0...   56420   \n",
       "02     2024-02-292024-02-292024-02-292024-02-292024-0...  152930   \n",
       "03     2024-03-312024-03-312024-03-312024-03-312024-0...   49000   \n",
       "04     2024-04-302024-04-302024-04-302024-04-302024-0...   38570   \n",
       "05     2024-05-312024-05-312024-05-312024-05-312024-0...   46080   \n",
       "...                                                  ...     ...   \n",
       "08     2024-08-312024-08-312024-08-312024-08-312024-0...   65590   \n",
       "09     2024-09-302024-09-302024-09-302024-09-302024-0...   24140   \n",
       "10     2024-10-312024-10-312024-10-312024-10-312024-1...   60880   \n",
       "11     2024-11-302024-11-302024-11-302024-11-302024-1...   26320   \n",
       "12     2024-12-312024-12-312024-12-312024-12-312024-1...   37990   \n",
       "\n",
       "                                                    item  \\\n",
       "Month                                                      \n",
       "01     PetsParentInternet HomeNetflixTelephone DtacGo...   \n",
       "02     ParentInternet HomeNetflixTelephone DtacGoogle...   \n",
       "03     ParentInternet HomeNetflixTelephone DtacGoogle...   \n",
       "04     FoodParentInternet HomeNetflixTelephone DtacGo...   \n",
       "05     ParentInternet HomeNetflixNetflixGoogleAppleAp...   \n",
       "...                                                  ...   \n",
       "08     ParentInternet HomeNetflixTelephone DtacGoogle...   \n",
       "09     ParentInternet HomeNetflixTelephone DtacGoogle...   \n",
       "10     ParentInternet HomeNetflixTelephone DtacGoogle...   \n",
       "11     ParentInternet HomeNetflixTelephone DtacGoogle...   \n",
       "12     ParentInternet HomeNetflixTelephone DtacGoogle...   \n",
       "\n",
       "                                                    kind  \n",
       "Month                                                     \n",
       "01     PetsParentCommunicationEdutainmentCommunicatio...  \n",
       "02     ParentCommunicationEdutainmentCommunicationEdu...  \n",
       "03     ParentCommunicationEdutainmentCommunicationEdu...  \n",
       "04     FoodParentCommunicationEdutainmentCommunicatio...  \n",
       "05     ParentCommunicationEdutainmentEdutainmentEduta...  \n",
       "...                                                  ...  \n",
       "08     ParentCommunicationEdutainmentCommunicationEdu...  \n",
       "09     ParentCommunicationEdutainmentCommunicationEdu...  \n",
       "10     ParentCommunicationEdutainmentCommunicationEdu...  \n",
       "11     ParentCommunicationEdutainmentCommunicationEdu...  \n",
       "12     ParentCommunicationEdutainmentCommunicationEdu...  \n",
       "\n",
       "[12 rows x 4 columns]"
      ]
     },
     "execution_count": 8,
     "metadata": {},
     "output_type": "execute_result"
    }
   ],
   "source": [
    "monthly = df_t.groupby(\"Month\")\n",
    "#monthly.sum().style.format(format_dict)\n",
    "monthly.sum()"
   ]
  },
  {
   "cell_type": "code",
   "execution_count": 9,
   "metadata": {},
   "outputs": [
    {
     "data": {
      "text/plain": [
       "723500"
      ]
     },
     "execution_count": 9,
     "metadata": {},
     "output_type": "execute_result"
    }
   ],
   "source": [
    "expense = grouped.amount.sum()\n",
    "sum(expense)"
   ]
  },
  {
   "cell_type": "code",
   "execution_count": null,
   "metadata": {},
   "outputs": [],
   "source": []
  }
 ],
 "metadata": {
  "anaconda-cloud": {},
  "kernelspec": {
   "display_name": "Python 3 (ipykernel)",
   "language": "python",
   "name": "python3"
  },
  "language_info": {
   "codemirror_mode": {
    "name": "ipython",
    "version": 3
   },
   "file_extension": ".py",
   "mimetype": "text/x-python",
   "name": "python",
   "nbconvert_exporter": "python",
   "pygments_lexer": "ipython3",
   "version": "3.12.3"
  }
 },
 "nbformat": 4,
 "nbformat_minor": 4
}
