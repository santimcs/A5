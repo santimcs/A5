{
 "cells": [
  {
   "cell_type": "markdown",
   "metadata": {},
   "source": [
    "### Restart and run all"
   ]
  },
  {
   "cell_type": "code",
   "execution_count": 2,
   "metadata": {},
   "outputs": [
    {
     "data": {
      "text/plain": [
       "datetime.date(2025, 2, 3)"
      ]
     },
     "execution_count": 2,
     "metadata": {},
     "output_type": "execute_result"
    }
   ],
   "source": [
    "%matplotlib inline\n",
    "import matplotlib.pyplot as plt\n",
    "import pandas as pd\n",
    "from sqlalchemy import create_engine, text\n",
    "from datetime import date, timedelta\n",
    "import calendar\n",
    "\n",
    "engine = create_engine(\"sqlite:///c:\\\\ruby\\\\expense\\\\db\\\\development.sqlite3\")\n",
    "con_exp = engine.connect()\n",
    "\n",
    "pd.set_option('display.max_rows', 11)\n",
    "format_dict = {'amount':'{:,}','y_amt':'{:,}','yoy_gain':'{:,}',\n",
    "               'q_amt_c':'{:,}','q_amt_p':'{:,}',\n",
    "               'aq_amt':'{:,}','ay_amt':'{:,}','acc_gain':'{:,}',\n",
    "               'latest_amt':'{:,}','previous_amt':'{:,}','inc_amt':'{:,}',\n",
    "               'latest_amt_q':'{:,}','previous_amt_q':'{:,}','inc_amt_q':'{:,}',\n",
    "               'latest_amt_y':'{:,}','previous_amt_y':'{:,}','inc_amt_y':'{:,}',\n",
    "               'inc_pct':'{:.2f}','inc_pct_q':'{:.2f}','inc_pct_y':'{:.2f}'}\n",
    "year = \"2025\"\n",
    "today = date.today()\n",
    "today"
   ]
  },
  {
   "cell_type": "code",
   "execution_count": 3,
   "metadata": {},
   "outputs": [
    {
     "name": "stdout",
     "output_type": "stream",
     "text": [
      "          date  amount              item           kind Month\n",
      "0   2025-01-31     180              Food           Food    01\n",
      "1   2025-01-31   10000            Parent         Parent    01\n",
      "2   2025-01-31     640     Internet Home  Communication    01\n",
      "3   2025-01-31     420           Netflix    Edutainment    01\n",
      "4   2025-01-31     320    Telephone Dtac  Communication    01\n",
      "..         ...     ...               ...            ...   ...\n",
      "14  2025-01-08    6340          Medicine       Medicine    01\n",
      "15  2025-01-07     500              Food           Food    01\n",
      "16  2025-01-07    1700  Books & Software    Edutainment    01\n",
      "17  2025-01-05    1160              Food           Food    01\n",
      "18  2025-01-03    5470              Pets           Pets    01\n",
      "\n",
      "[19 rows x 5 columns]\n"
     ]
    }
   ],
   "source": [
    "# Establish a connection\n",
    "with engine.connect() as con_exp:\n",
    "    sql = text(\"\"\"\n",
    "    SELECT date, amount, C.name AS item, G.name AS kind, strftime('%m', date) as Month \n",
    "    FROM transactions T \n",
    "    JOIN categories C ON category_id = C.id \n",
    "    JOIN groups G ON group_id = G.id \n",
    "    WHERE strftime('%Y', date) = :year\n",
    "    ORDER BY date DESC\n",
    "    \"\"\")\n",
    "    \n",
    "    # Execute query and fetch results\n",
    "    result = con_exp.execute(sql, {\"year\": year})\n",
    "    \n",
    "    # Convert result to DataFrame\n",
    "    df_t = pd.DataFrame(result.fetchall(), columns=result.keys())\n",
    "\n",
    "# Display the DataFrame\n",
    "print(df_t)\n"
   ]
  },
  {
   "cell_type": "code",
   "execution_count": 4,
   "metadata": {},
   "outputs": [
    {
     "data": {
      "text/html": [
       "<style type=\"text/css\">\n",
       "</style>\n",
       "<table id=\"T_707f2\">\n",
       "  <thead>\n",
       "    <tr>\n",
       "      <th class=\"blank level0\" >&nbsp;</th>\n",
       "      <th id=\"T_707f2_level0_col0\" class=\"col_heading level0 col0\" >date</th>\n",
       "      <th id=\"T_707f2_level0_col1\" class=\"col_heading level0 col1\" >amount</th>\n",
       "      <th id=\"T_707f2_level0_col2\" class=\"col_heading level0 col2\" >item</th>\n",
       "      <th id=\"T_707f2_level0_col3\" class=\"col_heading level0 col3\" >kind</th>\n",
       "      <th id=\"T_707f2_level0_col4\" class=\"col_heading level0 col4\" >Month</th>\n",
       "    </tr>\n",
       "  </thead>\n",
       "  <tbody>\n",
       "    <tr>\n",
       "      <th id=\"T_707f2_level0_row0\" class=\"row_heading level0 row0\" >0</th>\n",
       "      <td id=\"T_707f2_row0_col0\" class=\"data row0 col0\" >2025-01-31</td>\n",
       "      <td id=\"T_707f2_row0_col1\" class=\"data row0 col1\" >180</td>\n",
       "      <td id=\"T_707f2_row0_col2\" class=\"data row0 col2\" >Food</td>\n",
       "      <td id=\"T_707f2_row0_col3\" class=\"data row0 col3\" >Food</td>\n",
       "      <td id=\"T_707f2_row0_col4\" class=\"data row0 col4\" >01</td>\n",
       "    </tr>\n",
       "    <tr>\n",
       "      <th id=\"T_707f2_level0_row1\" class=\"row_heading level0 row1\" >1</th>\n",
       "      <td id=\"T_707f2_row1_col0\" class=\"data row1 col0\" >2025-01-31</td>\n",
       "      <td id=\"T_707f2_row1_col1\" class=\"data row1 col1\" >10,000</td>\n",
       "      <td id=\"T_707f2_row1_col2\" class=\"data row1 col2\" >Parent</td>\n",
       "      <td id=\"T_707f2_row1_col3\" class=\"data row1 col3\" >Parent</td>\n",
       "      <td id=\"T_707f2_row1_col4\" class=\"data row1 col4\" >01</td>\n",
       "    </tr>\n",
       "    <tr>\n",
       "      <th id=\"T_707f2_level0_row2\" class=\"row_heading level0 row2\" >2</th>\n",
       "      <td id=\"T_707f2_row2_col0\" class=\"data row2 col0\" >2025-01-31</td>\n",
       "      <td id=\"T_707f2_row2_col1\" class=\"data row2 col1\" >640</td>\n",
       "      <td id=\"T_707f2_row2_col2\" class=\"data row2 col2\" >Internet Home</td>\n",
       "      <td id=\"T_707f2_row2_col3\" class=\"data row2 col3\" >Communication</td>\n",
       "      <td id=\"T_707f2_row2_col4\" class=\"data row2 col4\" >01</td>\n",
       "    </tr>\n",
       "    <tr>\n",
       "      <th id=\"T_707f2_level0_row3\" class=\"row_heading level0 row3\" >3</th>\n",
       "      <td id=\"T_707f2_row3_col0\" class=\"data row3 col0\" >2025-01-31</td>\n",
       "      <td id=\"T_707f2_row3_col1\" class=\"data row3 col1\" >420</td>\n",
       "      <td id=\"T_707f2_row3_col2\" class=\"data row3 col2\" >Netflix</td>\n",
       "      <td id=\"T_707f2_row3_col3\" class=\"data row3 col3\" >Edutainment</td>\n",
       "      <td id=\"T_707f2_row3_col4\" class=\"data row3 col4\" >01</td>\n",
       "    </tr>\n",
       "    <tr>\n",
       "      <th id=\"T_707f2_level0_row4\" class=\"row_heading level0 row4\" >4</th>\n",
       "      <td id=\"T_707f2_row4_col0\" class=\"data row4 col0\" >2025-01-31</td>\n",
       "      <td id=\"T_707f2_row4_col1\" class=\"data row4 col1\" >320</td>\n",
       "      <td id=\"T_707f2_row4_col2\" class=\"data row4 col2\" >Telephone Dtac</td>\n",
       "      <td id=\"T_707f2_row4_col3\" class=\"data row4 col3\" >Communication</td>\n",
       "      <td id=\"T_707f2_row4_col4\" class=\"data row4 col4\" >01</td>\n",
       "    </tr>\n",
       "  </tbody>\n",
       "</table>\n"
      ],
      "text/plain": [
       "<pandas.io.formats.style.Styler at 0x276398bb830>"
      ]
     },
     "execution_count": 4,
     "metadata": {},
     "output_type": "execute_result"
    }
   ],
   "source": [
    "df_t.head().style.format(format_dict)"
   ]
  },
  {
   "cell_type": "code",
   "execution_count": 5,
   "metadata": {},
   "outputs": [
    {
     "data": {
      "text/plain": [
       "Index(['date', 'amount', 'item', 'kind', 'Month'], dtype='object')"
      ]
     },
     "execution_count": 5,
     "metadata": {},
     "output_type": "execute_result"
    }
   ],
   "source": [
    "df_t.columns"
   ]
  },
  {
   "cell_type": "code",
   "execution_count": 6,
   "metadata": {},
   "outputs": [],
   "source": [
    "grouped = df_t.groupby(\"item\")\n",
    "#grouped.sum().style.format(format_dict)"
   ]
  },
  {
   "cell_type": "code",
   "execution_count": 7,
   "metadata": {},
   "outputs": [],
   "source": [
    "grouped = df_t.groupby(\"kind\")\n",
    "#grouped.sum().style.format(format_dict)"
   ]
  },
  {
   "cell_type": "code",
   "execution_count": 8,
   "metadata": {
    "scrolled": true
   },
   "outputs": [
    {
     "data": {
      "text/html": [
       "<div>\n",
       "<style scoped>\n",
       "    .dataframe tbody tr th:only-of-type {\n",
       "        vertical-align: middle;\n",
       "    }\n",
       "\n",
       "    .dataframe tbody tr th {\n",
       "        vertical-align: top;\n",
       "    }\n",
       "\n",
       "    .dataframe thead th {\n",
       "        text-align: right;\n",
       "    }\n",
       "</style>\n",
       "<table border=\"1\" class=\"dataframe\">\n",
       "  <thead>\n",
       "    <tr style=\"text-align: right;\">\n",
       "      <th></th>\n",
       "      <th>date</th>\n",
       "      <th>amount</th>\n",
       "      <th>item</th>\n",
       "      <th>kind</th>\n",
       "    </tr>\n",
       "    <tr>\n",
       "      <th>Month</th>\n",
       "      <th></th>\n",
       "      <th></th>\n",
       "      <th></th>\n",
       "      <th></th>\n",
       "    </tr>\n",
       "  </thead>\n",
       "  <tbody>\n",
       "    <tr>\n",
       "      <th>01</th>\n",
       "      <td>2025-01-312025-01-312025-01-312025-01-312025-0...</td>\n",
       "      <td>43930</td>\n",
       "      <td>FoodParentInternet HomeNetflixTelephone DtacGo...</td>\n",
       "      <td>FoodParentCommunicationEdutainmentCommunicatio...</td>\n",
       "    </tr>\n",
       "  </tbody>\n",
       "</table>\n",
       "</div>"
      ],
      "text/plain": [
       "                                                    date  amount  \\\n",
       "Month                                                              \n",
       "01     2025-01-312025-01-312025-01-312025-01-312025-0...   43930   \n",
       "\n",
       "                                                    item  \\\n",
       "Month                                                      \n",
       "01     FoodParentInternet HomeNetflixTelephone DtacGo...   \n",
       "\n",
       "                                                    kind  \n",
       "Month                                                     \n",
       "01     FoodParentCommunicationEdutainmentCommunicatio...  "
      ]
     },
     "execution_count": 8,
     "metadata": {},
     "output_type": "execute_result"
    }
   ],
   "source": [
    "monthly = df_t.groupby(\"Month\")\n",
    "#monthly.sum().style.format(format_dict)\n",
    "monthly.sum()"
   ]
  },
  {
   "cell_type": "code",
   "execution_count": 9,
   "metadata": {},
   "outputs": [
    {
     "data": {
      "text/plain": [
       "43930"
      ]
     },
     "execution_count": 9,
     "metadata": {},
     "output_type": "execute_result"
    }
   ],
   "source": [
    "expense = grouped.amount.sum()\n",
    "sum(expense)"
   ]
  },
  {
   "cell_type": "code",
   "execution_count": null,
   "metadata": {},
   "outputs": [],
   "source": []
  }
 ],
 "metadata": {
  "anaconda-cloud": {},
  "kernelspec": {
   "display_name": "Python 3 (ipykernel)",
   "language": "python",
   "name": "python3"
  },
  "language_info": {
   "codemirror_mode": {
    "name": "ipython",
    "version": 3
   },
   "file_extension": ".py",
   "mimetype": "text/x-python",
   "name": "python",
   "nbconvert_exporter": "python",
   "pygments_lexer": "ipython3",
   "version": "3.12.3"
  }
 },
 "nbformat": 4,
 "nbformat_minor": 4
}
