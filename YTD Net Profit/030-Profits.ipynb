{
 "cells": [
  {
   "cell_type": "code",
   "execution_count": 17,
   "metadata": {},
   "outputs": [
    {
     "data": {
      "text/plain": [
       "datetime.date(2025, 1, 2)"
      ]
     },
     "execution_count": 17,
     "metadata": {},
     "output_type": "execute_result"
    }
   ],
   "source": [
    "import pandas as pd\n",
    "import os\n",
    "from datetime import date, timedelta\n",
    "from sqlalchemy import create_engine, text\n",
    "\n",
    "engine = create_engine('mysql+pymysql://root:@localhost:3306/portfolio_development')\n",
    "conpf = engine.connect()\n",
    "\n",
    "data_path = \"../data/\"\n",
    "csv_path = os.path.join(os.path.expanduser(\"~\"), \"iCloudDrive\")\n",
    "one_path = os.path.join(os.path.expanduser(\"~\"), \"OneDrive\",\"Documents\",\"Data\")\n",
    "osd_path = os.path.join(os.path.expanduser(\"~\"),\"OneDrive\",\"Documents\",\"obsidian-git-sync\",\"Data\")\n",
    "dts_path = os.path.join(os.path.expanduser(\"~\"),\"Downloads\",\"Datasets\")\n",
    "\n",
    "format_dict = {'qty':'{:,}',\n",
    "              'sell_price':'{:,.2f}','buy_price':'{:,.2f}','diff':'{:,.2f}',\n",
    "              'sell_amt':'{:,.2f}','buy_amt':'{:,.2f}','gross':'{:,.2f}',\n",
    "              'pct':'{:,.2f}','net':'{:,.2f}'}\n",
    "pd.set_option('display.float_format','{:,.2f}'.format)\n",
    "year = 2024\n",
    "refund = 668_000   # 66,490.89 Windfall = 200,000 March\n",
    "                    # LTF = 181498.8 + 3396.97 + 50380.22 = 235,000 June\n",
    "                    # 501_000 + 167_000 = 668_000\n",
    "dividend = 361_000\n",
    "expense  = 724_000\n",
    "\n",
    "today = date.today()\n",
    "today"
   ]
  },
  {
   "cell_type": "markdown",
   "metadata": {},
   "source": [
    "### Restart and Run All Cells"
   ]
  },
  {
   "cell_type": "markdown",
   "metadata": {},
   "source": [
    "### Record selection for transactions"
   ]
  },
  {
   "cell_type": "code",
   "execution_count": 7,
   "metadata": {},
   "outputs": [
    {
     "name": "stdout",
     "output_type": "stream",
     "text": [
      "\n",
      "SELECT name, YEAR(sells.date) AS sell_year, MONTH(sells.date) AS sell_month, \n",
      "       YEAR(buys.date) AS buy_year, MONTH(buys.date) AS buy_month,\n",
      "       sells.price AS sell_price, buys.price AS buy_price, (sells.price - buys.price) AS diff, \n",
      "       qty, (sells.price * qty) AS sell_amt, (buys.price * qty) AS buy_amt, \n",
      "       (sells.price - buys.price) * qty AS gross, \n",
      "       ROUND((sells.price - buys.price)/buys.price*100,2) AS pct, profit AS net, buys.kind\n",
      "FROM sells JOIN buys ON sells.buy_id = buys.id\n",
      "JOIN stocks ON buys.stock_id = stocks.id\n",
      "WHERE YEAR(sells.date) = 2024\n",
      "ORDER BY sells.date DESC, name\n"
     ]
    }
   ],
   "source": [
    "sql = '''\n",
    "SELECT name, YEAR(sells.date) AS sell_year, MONTH(sells.date) AS sell_month, \n",
    "       YEAR(buys.date) AS buy_year, MONTH(buys.date) AS buy_month,\n",
    "       sells.price AS sell_price, buys.price AS buy_price, (sells.price - buys.price) AS diff, \n",
    "       qty, (sells.price * qty) AS sell_amt, (buys.price * qty) AS buy_amt, \n",
    "       (sells.price - buys.price) * qty AS gross, \n",
    "       ROUND((sells.price - buys.price)/buys.price*100,2) AS pct, profit AS net, buys.kind\n",
    "FROM sells JOIN buys ON sells.buy_id = buys.id\n",
    "JOIN stocks ON buys.stock_id = stocks.id\n",
    "WHERE YEAR(sells.date) = %s\n",
    "ORDER BY sells.date DESC, name'''\n",
    "sql = sql % year\n",
    "sells_df = pd.read_sql(sql, conpf)\n",
    "print(sql)"
   ]
  },
  {
   "cell_type": "code",
   "execution_count": 9,
   "metadata": {},
   "outputs": [
    {
     "data": {
      "text/html": [
       "<style type=\"text/css\">\n",
       "</style>\n",
       "<table id=\"T_fdfd8\">\n",
       "  <thead>\n",
       "    <tr>\n",
       "      <th class=\"blank level0\" >&nbsp;</th>\n",
       "      <th id=\"T_fdfd8_level0_col0\" class=\"col_heading level0 col0\" >name</th>\n",
       "      <th id=\"T_fdfd8_level0_col1\" class=\"col_heading level0 col1\" >sell_year</th>\n",
       "      <th id=\"T_fdfd8_level0_col2\" class=\"col_heading level0 col2\" >sell_month</th>\n",
       "      <th id=\"T_fdfd8_level0_col3\" class=\"col_heading level0 col3\" >buy_year</th>\n",
       "      <th id=\"T_fdfd8_level0_col4\" class=\"col_heading level0 col4\" >buy_month</th>\n",
       "      <th id=\"T_fdfd8_level0_col5\" class=\"col_heading level0 col5\" >sell_price</th>\n",
       "      <th id=\"T_fdfd8_level0_col6\" class=\"col_heading level0 col6\" >buy_price</th>\n",
       "      <th id=\"T_fdfd8_level0_col7\" class=\"col_heading level0 col7\" >diff</th>\n",
       "      <th id=\"T_fdfd8_level0_col8\" class=\"col_heading level0 col8\" >qty</th>\n",
       "      <th id=\"T_fdfd8_level0_col9\" class=\"col_heading level0 col9\" >sell_amt</th>\n",
       "      <th id=\"T_fdfd8_level0_col10\" class=\"col_heading level0 col10\" >buy_amt</th>\n",
       "      <th id=\"T_fdfd8_level0_col11\" class=\"col_heading level0 col11\" >gross</th>\n",
       "      <th id=\"T_fdfd8_level0_col12\" class=\"col_heading level0 col12\" >pct</th>\n",
       "      <th id=\"T_fdfd8_level0_col13\" class=\"col_heading level0 col13\" >net</th>\n",
       "      <th id=\"T_fdfd8_level0_col14\" class=\"col_heading level0 col14\" >kind</th>\n",
       "    </tr>\n",
       "  </thead>\n",
       "  <tbody>\n",
       "    <tr>\n",
       "      <th id=\"T_fdfd8_level0_row0\" class=\"row_heading level0 row0\" >0</th>\n",
       "      <td id=\"T_fdfd8_row0_col0\" class=\"data row0 col0\" >MCS</td>\n",
       "      <td id=\"T_fdfd8_row0_col1\" class=\"data row0 col1\" >2024</td>\n",
       "      <td id=\"T_fdfd8_row0_col2\" class=\"data row0 col2\" >9</td>\n",
       "      <td id=\"T_fdfd8_row0_col3\" class=\"data row0 col3\" >2023</td>\n",
       "      <td id=\"T_fdfd8_row0_col4\" class=\"data row0 col4\" >5</td>\n",
       "      <td id=\"T_fdfd8_row0_col5\" class=\"data row0 col5\" >8.05</td>\n",
       "      <td id=\"T_fdfd8_row0_col6\" class=\"data row0 col6\" >7.60</td>\n",
       "      <td id=\"T_fdfd8_row0_col7\" class=\"data row0 col7\" >0.45</td>\n",
       "      <td id=\"T_fdfd8_row0_col8\" class=\"data row0 col8\" >3,000</td>\n",
       "      <td id=\"T_fdfd8_row0_col9\" class=\"data row0 col9\" >24,150.00</td>\n",
       "      <td id=\"T_fdfd8_row0_col10\" class=\"data row0 col10\" >22,800.00</td>\n",
       "      <td id=\"T_fdfd8_row0_col11\" class=\"data row0 col11\" >1,350.00</td>\n",
       "      <td id=\"T_fdfd8_row0_col12\" class=\"data row0 col12\" >5.92</td>\n",
       "      <td id=\"T_fdfd8_row0_col13\" class=\"data row0 col13\" >1,246.01</td>\n",
       "      <td id=\"T_fdfd8_row0_col14\" class=\"data row0 col14\" >DTD</td>\n",
       "    </tr>\n",
       "    <tr>\n",
       "      <th id=\"T_fdfd8_level0_row1\" class=\"row_heading level0 row1\" >1</th>\n",
       "      <td id=\"T_fdfd8_row1_col0\" class=\"data row1 col0\" >3BBIF</td>\n",
       "      <td id=\"T_fdfd8_row1_col1\" class=\"data row1 col1\" >2024</td>\n",
       "      <td id=\"T_fdfd8_row1_col2\" class=\"data row1 col2\" >9</td>\n",
       "      <td id=\"T_fdfd8_row1_col3\" class=\"data row1 col3\" >2022</td>\n",
       "      <td id=\"T_fdfd8_row1_col4\" class=\"data row1 col4\" >7</td>\n",
       "      <td id=\"T_fdfd8_row1_col5\" class=\"data row1 col5\" >6.50</td>\n",
       "      <td id=\"T_fdfd8_row1_col6\" class=\"data row1 col6\" >9.15</td>\n",
       "      <td id=\"T_fdfd8_row1_col7\" class=\"data row1 col7\" >-2.65</td>\n",
       "      <td id=\"T_fdfd8_row1_col8\" class=\"data row1 col8\" >10,000</td>\n",
       "      <td id=\"T_fdfd8_row1_col9\" class=\"data row1 col9\" >65,000.00</td>\n",
       "      <td id=\"T_fdfd8_row1_col10\" class=\"data row1 col10\" >91,500.00</td>\n",
       "      <td id=\"T_fdfd8_row1_col11\" class=\"data row1 col11\" >-26,500.00</td>\n",
       "      <td id=\"T_fdfd8_row1_col12\" class=\"data row1 col12\" >-28.96</td>\n",
       "      <td id=\"T_fdfd8_row1_col13\" class=\"data row1 col13\" >-26,846.64</td>\n",
       "      <td id=\"T_fdfd8_row1_col14\" class=\"data row1 col14\" >HD</td>\n",
       "    </tr>\n",
       "    <tr>\n",
       "      <th id=\"T_fdfd8_level0_row2\" class=\"row_heading level0 row2\" >2</th>\n",
       "      <td id=\"T_fdfd8_row2_col0\" class=\"data row2 col0\" >GVREIT</td>\n",
       "      <td id=\"T_fdfd8_row2_col1\" class=\"data row2 col1\" >2024</td>\n",
       "      <td id=\"T_fdfd8_row2_col2\" class=\"data row2 col2\" >9</td>\n",
       "      <td id=\"T_fdfd8_row2_col3\" class=\"data row2 col3\" >2024</td>\n",
       "      <td id=\"T_fdfd8_row2_col4\" class=\"data row2 col4\" >2</td>\n",
       "      <td id=\"T_fdfd8_row2_col5\" class=\"data row2 col5\" >6.95</td>\n",
       "      <td id=\"T_fdfd8_row2_col6\" class=\"data row2 col6\" >6.00</td>\n",
       "      <td id=\"T_fdfd8_row2_col7\" class=\"data row2 col7\" >0.95</td>\n",
       "      <td id=\"T_fdfd8_row2_col8\" class=\"data row2 col8\" >6,000</td>\n",
       "      <td id=\"T_fdfd8_row2_col9\" class=\"data row2 col9\" >41,700.00</td>\n",
       "      <td id=\"T_fdfd8_row2_col10\" class=\"data row2 col10\" >36,000.00</td>\n",
       "      <td id=\"T_fdfd8_row2_col11\" class=\"data row2 col11\" >5,700.00</td>\n",
       "      <td id=\"T_fdfd8_row2_col12\" class=\"data row2 col12\" >15.83</td>\n",
       "      <td id=\"T_fdfd8_row2_col13\" class=\"data row2 col13\" >5,527.90</td>\n",
       "      <td id=\"T_fdfd8_row2_col14\" class=\"data row2 col14\" >HD</td>\n",
       "    </tr>\n",
       "    <tr>\n",
       "      <th id=\"T_fdfd8_level0_row3\" class=\"row_heading level0 row3\" >3</th>\n",
       "      <td id=\"T_fdfd8_row3_col0\" class=\"data row3 col0\" >IVL</td>\n",
       "      <td id=\"T_fdfd8_row3_col1\" class=\"data row3 col1\" >2024</td>\n",
       "      <td id=\"T_fdfd8_row3_col2\" class=\"data row3 col2\" >9</td>\n",
       "      <td id=\"T_fdfd8_row3_col3\" class=\"data row3 col3\" >2024</td>\n",
       "      <td id=\"T_fdfd8_row3_col4\" class=\"data row3 col4\" >6</td>\n",
       "      <td id=\"T_fdfd8_row3_col5\" class=\"data row3 col5\" >23.90</td>\n",
       "      <td id=\"T_fdfd8_row3_col6\" class=\"data row3 col6\" >20.00</td>\n",
       "      <td id=\"T_fdfd8_row3_col7\" class=\"data row3 col7\" >3.90</td>\n",
       "      <td id=\"T_fdfd8_row3_col8\" class=\"data row3 col8\" >800</td>\n",
       "      <td id=\"T_fdfd8_row3_col9\" class=\"data row3 col9\" >19,120.00</td>\n",
       "      <td id=\"T_fdfd8_row3_col10\" class=\"data row3 col10\" >16,000.00</td>\n",
       "      <td id=\"T_fdfd8_row3_col11\" class=\"data row3 col11\" >3,120.00</td>\n",
       "      <td id=\"T_fdfd8_row3_col12\" class=\"data row3 col12\" >19.50</td>\n",
       "      <td id=\"T_fdfd8_row3_col13\" class=\"data row3 col13\" >3,042.21</td>\n",
       "      <td id=\"T_fdfd8_row3_col14\" class=\"data row3 col14\" >HD</td>\n",
       "    </tr>\n",
       "    <tr>\n",
       "      <th id=\"T_fdfd8_level0_row4\" class=\"row_heading level0 row4\" >4</th>\n",
       "      <td id=\"T_fdfd8_row4_col0\" class=\"data row4 col0\" >CPNREIT</td>\n",
       "      <td id=\"T_fdfd8_row4_col1\" class=\"data row4 col1\" >2024</td>\n",
       "      <td id=\"T_fdfd8_row4_col2\" class=\"data row4 col2\" >9</td>\n",
       "      <td id=\"T_fdfd8_row4_col3\" class=\"data row4 col3\" >2023</td>\n",
       "      <td id=\"T_fdfd8_row4_col4\" class=\"data row4 col4\" >3</td>\n",
       "      <td id=\"T_fdfd8_row4_col5\" class=\"data row4 col5\" >12.70</td>\n",
       "      <td id=\"T_fdfd8_row4_col6\" class=\"data row4 col6\" >12.60</td>\n",
       "      <td id=\"T_fdfd8_row4_col7\" class=\"data row4 col7\" >0.10</td>\n",
       "      <td id=\"T_fdfd8_row4_col8\" class=\"data row4 col8\" >5,000</td>\n",
       "      <td id=\"T_fdfd8_row4_col9\" class=\"data row4 col9\" >63,500.00</td>\n",
       "      <td id=\"T_fdfd8_row4_col10\" class=\"data row4 col10\" >63,000.00</td>\n",
       "      <td id=\"T_fdfd8_row4_col11\" class=\"data row4 col11\" >500.00</td>\n",
       "      <td id=\"T_fdfd8_row4_col12\" class=\"data row4 col12\" >0.79</td>\n",
       "      <td id=\"T_fdfd8_row4_col13\" class=\"data row4 col13\" >219.81</td>\n",
       "      <td id=\"T_fdfd8_row4_col14\" class=\"data row4 col14\" >HD</td>\n",
       "    </tr>\n",
       "    <tr>\n",
       "      <th id=\"T_fdfd8_level0_row5\" class=\"row_heading level0 row5\" >5</th>\n",
       "      <td id=\"T_fdfd8_row5_col0\" class=\"data row5 col0\" >ORI</td>\n",
       "      <td id=\"T_fdfd8_row5_col1\" class=\"data row5 col1\" >2024</td>\n",
       "      <td id=\"T_fdfd8_row5_col2\" class=\"data row5 col2\" >9</td>\n",
       "      <td id=\"T_fdfd8_row5_col3\" class=\"data row5 col3\" >2024</td>\n",
       "      <td id=\"T_fdfd8_row5_col4\" class=\"data row5 col4\" >7</td>\n",
       "      <td id=\"T_fdfd8_row5_col5\" class=\"data row5 col5\" >5.60</td>\n",
       "      <td id=\"T_fdfd8_row5_col6\" class=\"data row5 col6\" >4.60</td>\n",
       "      <td id=\"T_fdfd8_row5_col7\" class=\"data row5 col7\" >1.00</td>\n",
       "      <td id=\"T_fdfd8_row5_col8\" class=\"data row5 col8\" >3,000</td>\n",
       "      <td id=\"T_fdfd8_row5_col9\" class=\"data row5 col9\" >16,800.00</td>\n",
       "      <td id=\"T_fdfd8_row5_col10\" class=\"data row5 col10\" >13,800.00</td>\n",
       "      <td id=\"T_fdfd8_row5_col11\" class=\"data row5 col11\" >3,000.00</td>\n",
       "      <td id=\"T_fdfd8_row5_col12\" class=\"data row5 col12\" >21.74</td>\n",
       "      <td id=\"T_fdfd8_row5_col13\" class=\"data row5 col13\" >2,932.22</td>\n",
       "      <td id=\"T_fdfd8_row5_col14\" class=\"data row5 col14\" >HD</td>\n",
       "    </tr>\n",
       "    <tr>\n",
       "      <th id=\"T_fdfd8_level0_row6\" class=\"row_heading level0 row6\" >6</th>\n",
       "      <td id=\"T_fdfd8_row6_col0\" class=\"data row6 col0\" >JMT</td>\n",
       "      <td id=\"T_fdfd8_row6_col1\" class=\"data row6 col1\" >2024</td>\n",
       "      <td id=\"T_fdfd8_row6_col2\" class=\"data row6 col2\" >8</td>\n",
       "      <td id=\"T_fdfd8_row6_col3\" class=\"data row6 col3\" >2024</td>\n",
       "      <td id=\"T_fdfd8_row6_col4\" class=\"data row6 col4\" >6</td>\n",
       "      <td id=\"T_fdfd8_row6_col5\" class=\"data row6 col5\" >16.40</td>\n",
       "      <td id=\"T_fdfd8_row6_col6\" class=\"data row6 col6\" >13.00</td>\n",
       "      <td id=\"T_fdfd8_row6_col7\" class=\"data row6 col7\" >3.40</td>\n",
       "      <td id=\"T_fdfd8_row6_col8\" class=\"data row6 col8\" >1,800</td>\n",
       "      <td id=\"T_fdfd8_row6_col9\" class=\"data row6 col9\" >29,520.00</td>\n",
       "      <td id=\"T_fdfd8_row6_col10\" class=\"data row6 col10\" >23,400.00</td>\n",
       "      <td id=\"T_fdfd8_row6_col11\" class=\"data row6 col11\" >6,120.00</td>\n",
       "      <td id=\"T_fdfd8_row6_col12\" class=\"data row6 col12\" >26.15</td>\n",
       "      <td id=\"T_fdfd8_row6_col13\" class=\"data row6 col13\" >6,002.78</td>\n",
       "      <td id=\"T_fdfd8_row6_col14\" class=\"data row6 col14\" >DTD</td>\n",
       "    </tr>\n",
       "    <tr>\n",
       "      <th id=\"T_fdfd8_level0_row7\" class=\"row_heading level0 row7\" >7</th>\n",
       "      <td id=\"T_fdfd8_row7_col0\" class=\"data row7 col0\" >WHART</td>\n",
       "      <td id=\"T_fdfd8_row7_col1\" class=\"data row7 col1\" >2024</td>\n",
       "      <td id=\"T_fdfd8_row7_col2\" class=\"data row7 col2\" >8</td>\n",
       "      <td id=\"T_fdfd8_row7_col3\" class=\"data row7 col3\" >2024</td>\n",
       "      <td id=\"T_fdfd8_row7_col4\" class=\"data row7 col4\" >5</td>\n",
       "      <td id=\"T_fdfd8_row7_col5\" class=\"data row7 col5\" >10.30</td>\n",
       "      <td id=\"T_fdfd8_row7_col6\" class=\"data row7 col6\" >8.80</td>\n",
       "      <td id=\"T_fdfd8_row7_col7\" class=\"data row7 col7\" >1.50</td>\n",
       "      <td id=\"T_fdfd8_row7_col8\" class=\"data row7 col8\" >5,000</td>\n",
       "      <td id=\"T_fdfd8_row7_col9\" class=\"data row7 col9\" >51,500.00</td>\n",
       "      <td id=\"T_fdfd8_row7_col10\" class=\"data row7 col10\" >44,000.00</td>\n",
       "      <td id=\"T_fdfd8_row7_col11\" class=\"data row7 col11\" >7,500.00</td>\n",
       "      <td id=\"T_fdfd8_row7_col12\" class=\"data row7 col12\" >17.05</td>\n",
       "      <td id=\"T_fdfd8_row7_col13\" class=\"data row7 col13\" >7,288.47</td>\n",
       "      <td id=\"T_fdfd8_row7_col14\" class=\"data row7 col14\" >HD</td>\n",
       "    </tr>\n",
       "    <tr>\n",
       "      <th id=\"T_fdfd8_level0_row8\" class=\"row_heading level0 row8\" >8</th>\n",
       "      <td id=\"T_fdfd8_row8_col0\" class=\"data row8 col0\" >JMT</td>\n",
       "      <td id=\"T_fdfd8_row8_col1\" class=\"data row8 col1\" >2024</td>\n",
       "      <td id=\"T_fdfd8_row8_col2\" class=\"data row8 col2\" >8</td>\n",
       "      <td id=\"T_fdfd8_row8_col3\" class=\"data row8 col3\" >2024</td>\n",
       "      <td id=\"T_fdfd8_row8_col4\" class=\"data row8 col4\" >7</td>\n",
       "      <td id=\"T_fdfd8_row8_col5\" class=\"data row8 col5\" >14.90</td>\n",
       "      <td id=\"T_fdfd8_row8_col6\" class=\"data row8 col6\" >11.50</td>\n",
       "      <td id=\"T_fdfd8_row8_col7\" class=\"data row8 col7\" >3.40</td>\n",
       "      <td id=\"T_fdfd8_row8_col8\" class=\"data row8 col8\" >1,500</td>\n",
       "      <td id=\"T_fdfd8_row8_col9\" class=\"data row8 col9\" >22,350.00</td>\n",
       "      <td id=\"T_fdfd8_row8_col10\" class=\"data row8 col10\" >17,250.00</td>\n",
       "      <td id=\"T_fdfd8_row8_col11\" class=\"data row8 col11\" >5,100.00</td>\n",
       "      <td id=\"T_fdfd8_row8_col12\" class=\"data row8 col12\" >29.57</td>\n",
       "      <td id=\"T_fdfd8_row8_col13\" class=\"data row8 col13\" >5,012.29</td>\n",
       "      <td id=\"T_fdfd8_row8_col14\" class=\"data row8 col14\" >HD</td>\n",
       "    </tr>\n",
       "    <tr>\n",
       "      <th id=\"T_fdfd8_level0_row9\" class=\"row_heading level0 row9\" >9</th>\n",
       "      <td id=\"T_fdfd8_row9_col0\" class=\"data row9 col0\" >WHART</td>\n",
       "      <td id=\"T_fdfd8_row9_col1\" class=\"data row9 col1\" >2024</td>\n",
       "      <td id=\"T_fdfd8_row9_col2\" class=\"data row9 col2\" >8</td>\n",
       "      <td id=\"T_fdfd8_row9_col3\" class=\"data row9 col3\" >2024</td>\n",
       "      <td id=\"T_fdfd8_row9_col4\" class=\"data row9 col4\" >6</td>\n",
       "      <td id=\"T_fdfd8_row9_col5\" class=\"data row9 col5\" >10.10</td>\n",
       "      <td id=\"T_fdfd8_row9_col6\" class=\"data row9 col6\" >8.60</td>\n",
       "      <td id=\"T_fdfd8_row9_col7\" class=\"data row9 col7\" >1.50</td>\n",
       "      <td id=\"T_fdfd8_row9_col8\" class=\"data row9 col8\" >5,000</td>\n",
       "      <td id=\"T_fdfd8_row9_col9\" class=\"data row9 col9\" >50,500.00</td>\n",
       "      <td id=\"T_fdfd8_row9_col10\" class=\"data row9 col10\" >43,000.00</td>\n",
       "      <td id=\"T_fdfd8_row9_col11\" class=\"data row9 col11\" >7,500.00</td>\n",
       "      <td id=\"T_fdfd8_row9_col12\" class=\"data row9 col12\" >17.44</td>\n",
       "      <td id=\"T_fdfd8_row9_col13\" class=\"data row9 col13\" >7,292.90</td>\n",
       "      <td id=\"T_fdfd8_row9_col14\" class=\"data row9 col14\" >HD</td>\n",
       "    </tr>\n",
       "    <tr>\n",
       "      <th id=\"T_fdfd8_level0_row10\" class=\"row_heading level0 row10\" >10</th>\n",
       "      <td id=\"T_fdfd8_row10_col0\" class=\"data row10 col0\" >JMT</td>\n",
       "      <td id=\"T_fdfd8_row10_col1\" class=\"data row10 col1\" >2024</td>\n",
       "      <td id=\"T_fdfd8_row10_col2\" class=\"data row10 col2\" >6</td>\n",
       "      <td id=\"T_fdfd8_row10_col3\" class=\"data row10 col3\" >2024</td>\n",
       "      <td id=\"T_fdfd8_row10_col4\" class=\"data row10 col4\" >6</td>\n",
       "      <td id=\"T_fdfd8_row10_col5\" class=\"data row10 col5\" >14.60</td>\n",
       "      <td id=\"T_fdfd8_row10_col6\" class=\"data row10 col6\" >13.90</td>\n",
       "      <td id=\"T_fdfd8_row10_col7\" class=\"data row10 col7\" >0.70</td>\n",
       "      <td id=\"T_fdfd8_row10_col8\" class=\"data row10 col8\" >1,800</td>\n",
       "      <td id=\"T_fdfd8_row10_col9\" class=\"data row10 col9\" >26,280.00</td>\n",
       "      <td id=\"T_fdfd8_row10_col10\" class=\"data row10 col10\" >25,020.00</td>\n",
       "      <td id=\"T_fdfd8_row10_col11\" class=\"data row10 col11\" >1,260.00</td>\n",
       "      <td id=\"T_fdfd8_row10_col12\" class=\"data row10 col12\" >5.04</td>\n",
       "      <td id=\"T_fdfd8_row10_col13\" class=\"data row10 col13\" >1,146.37</td>\n",
       "      <td id=\"T_fdfd8_row10_col14\" class=\"data row10 col14\" >DTD</td>\n",
       "    </tr>\n",
       "    <tr>\n",
       "      <th id=\"T_fdfd8_level0_row11\" class=\"row_heading level0 row11\" >11</th>\n",
       "      <td id=\"T_fdfd8_row11_col0\" class=\"data row11 col0\" >DIF</td>\n",
       "      <td id=\"T_fdfd8_row11_col1\" class=\"data row11 col1\" >2024</td>\n",
       "      <td id=\"T_fdfd8_row11_col2\" class=\"data row11 col2\" >3</td>\n",
       "      <td id=\"T_fdfd8_row11_col3\" class=\"data row11 col3\" >2024</td>\n",
       "      <td id=\"T_fdfd8_row11_col4\" class=\"data row11 col4\" >2</td>\n",
       "      <td id=\"T_fdfd8_row11_col5\" class=\"data row11 col5\" >7.90</td>\n",
       "      <td id=\"T_fdfd8_row11_col6\" class=\"data row11 col6\" >7.95</td>\n",
       "      <td id=\"T_fdfd8_row11_col7\" class=\"data row11 col7\" >-0.05</td>\n",
       "      <td id=\"T_fdfd8_row11_col8\" class=\"data row11 col8\" >3,000</td>\n",
       "      <td id=\"T_fdfd8_row11_col9\" class=\"data row11 col9\" >23,700.00</td>\n",
       "      <td id=\"T_fdfd8_row11_col10\" class=\"data row11 col10\" >23,850.00</td>\n",
       "      <td id=\"T_fdfd8_row11_col11\" class=\"data row11 col11\" >-150.00</td>\n",
       "      <td id=\"T_fdfd8_row11_col12\" class=\"data row11 col12\" >-0.63</td>\n",
       "      <td id=\"T_fdfd8_row11_col13\" class=\"data row11 col13\" >-255.32</td>\n",
       "      <td id=\"T_fdfd8_row11_col14\" class=\"data row11 col14\" >HD</td>\n",
       "    </tr>\n",
       "    <tr>\n",
       "      <th id=\"T_fdfd8_level0_row12\" class=\"row_heading level0 row12\" >12</th>\n",
       "      <td id=\"T_fdfd8_row12_col0\" class=\"data row12 col0\" >BEM</td>\n",
       "      <td id=\"T_fdfd8_row12_col1\" class=\"data row12 col1\" >2024</td>\n",
       "      <td id=\"T_fdfd8_row12_col2\" class=\"data row12 col2\" >2</td>\n",
       "      <td id=\"T_fdfd8_row12_col3\" class=\"data row12 col3\" >2024</td>\n",
       "      <td id=\"T_fdfd8_row12_col4\" class=\"data row12 col4\" >1</td>\n",
       "      <td id=\"T_fdfd8_row12_col5\" class=\"data row12 col5\" >7.55</td>\n",
       "      <td id=\"T_fdfd8_row12_col6\" class=\"data row12 col6\" >7.50</td>\n",
       "      <td id=\"T_fdfd8_row12_col7\" class=\"data row12 col7\" >0.05</td>\n",
       "      <td id=\"T_fdfd8_row12_col8\" class=\"data row12 col8\" >3,000</td>\n",
       "      <td id=\"T_fdfd8_row12_col9\" class=\"data row12 col9\" >22,650.00</td>\n",
       "      <td id=\"T_fdfd8_row12_col10\" class=\"data row12 col10\" >22,500.00</td>\n",
       "      <td id=\"T_fdfd8_row12_col11\" class=\"data row12 col11\" >150.00</td>\n",
       "      <td id=\"T_fdfd8_row12_col12\" class=\"data row12 col12\" >0.67</td>\n",
       "      <td id=\"T_fdfd8_row12_col13\" class=\"data row12 col13\" >49.99</td>\n",
       "      <td id=\"T_fdfd8_row12_col14\" class=\"data row12 col14\" >DTD</td>\n",
       "    </tr>\n",
       "    <tr>\n",
       "      <th id=\"T_fdfd8_level0_row13\" class=\"row_heading level0 row13\" >13</th>\n",
       "      <td id=\"T_fdfd8_row13_col0\" class=\"data row13 col0\" >CRC</td>\n",
       "      <td id=\"T_fdfd8_row13_col1\" class=\"data row13 col1\" >2024</td>\n",
       "      <td id=\"T_fdfd8_row13_col2\" class=\"data row13 col2\" >1</td>\n",
       "      <td id=\"T_fdfd8_row13_col3\" class=\"data row13 col3\" >2024</td>\n",
       "      <td id=\"T_fdfd8_row13_col4\" class=\"data row13 col4\" >1</td>\n",
       "      <td id=\"T_fdfd8_row13_col5\" class=\"data row13 col5\" >35.25</td>\n",
       "      <td id=\"T_fdfd8_row13_col6\" class=\"data row13 col6\" >35.00</td>\n",
       "      <td id=\"T_fdfd8_row13_col7\" class=\"data row13 col7\" >0.25</td>\n",
       "      <td id=\"T_fdfd8_row13_col8\" class=\"data row13 col8\" >600</td>\n",
       "      <td id=\"T_fdfd8_row13_col9\" class=\"data row13 col9\" >21,150.00</td>\n",
       "      <td id=\"T_fdfd8_row13_col10\" class=\"data row13 col10\" >21,000.00</td>\n",
       "      <td id=\"T_fdfd8_row13_col11\" class=\"data row13 col11\" >150.00</td>\n",
       "      <td id=\"T_fdfd8_row13_col12\" class=\"data row13 col12\" >0.71</td>\n",
       "      <td id=\"T_fdfd8_row13_col13\" class=\"data row13 col13\" >56.65</td>\n",
       "      <td id=\"T_fdfd8_row13_col14\" class=\"data row13 col14\" >DTD</td>\n",
       "    </tr>\n",
       "    <tr>\n",
       "      <th id=\"T_fdfd8_level0_row14\" class=\"row_heading level0 row14\" >14</th>\n",
       "      <td id=\"T_fdfd8_row14_col0\" class=\"data row14 col0\" >BCH</td>\n",
       "      <td id=\"T_fdfd8_row14_col1\" class=\"data row14 col1\" >2024</td>\n",
       "      <td id=\"T_fdfd8_row14_col2\" class=\"data row14 col2\" >1</td>\n",
       "      <td id=\"T_fdfd8_row14_col3\" class=\"data row14 col3\" >2021</td>\n",
       "      <td id=\"T_fdfd8_row14_col4\" class=\"data row14 col4\" >9</td>\n",
       "      <td id=\"T_fdfd8_row14_col5\" class=\"data row14 col5\" >22.90</td>\n",
       "      <td id=\"T_fdfd8_row14_col6\" class=\"data row14 col6\" >21.70</td>\n",
       "      <td id=\"T_fdfd8_row14_col7\" class=\"data row14 col7\" >1.20</td>\n",
       "      <td id=\"T_fdfd8_row14_col8\" class=\"data row14 col8\" >2,000</td>\n",
       "      <td id=\"T_fdfd8_row14_col9\" class=\"data row14 col9\" >45,800.00</td>\n",
       "      <td id=\"T_fdfd8_row14_col10\" class=\"data row14 col10\" >43,400.00</td>\n",
       "      <td id=\"T_fdfd8_row14_col11\" class=\"data row14 col11\" >2,400.00</td>\n",
       "      <td id=\"T_fdfd8_row14_col12\" class=\"data row14 col12\" >5.53</td>\n",
       "      <td id=\"T_fdfd8_row14_col13\" class=\"data row14 col13\" >2,202.42</td>\n",
       "      <td id=\"T_fdfd8_row14_col14\" class=\"data row14 col14\" >DTD</td>\n",
       "    </tr>\n",
       "    <tr>\n",
       "      <th id=\"T_fdfd8_level0_row15\" class=\"row_heading level0 row15\" >15</th>\n",
       "      <td id=\"T_fdfd8_row15_col0\" class=\"data row15 col0\" >TFFIF</td>\n",
       "      <td id=\"T_fdfd8_row15_col1\" class=\"data row15 col1\" >2024</td>\n",
       "      <td id=\"T_fdfd8_row15_col2\" class=\"data row15 col2\" >1</td>\n",
       "      <td id=\"T_fdfd8_row15_col3\" class=\"data row15 col3\" >2023</td>\n",
       "      <td id=\"T_fdfd8_row15_col4\" class=\"data row15 col4\" >10</td>\n",
       "      <td id=\"T_fdfd8_row15_col5\" class=\"data row15 col5\" >7.00</td>\n",
       "      <td id=\"T_fdfd8_row15_col6\" class=\"data row15 col6\" >6.60</td>\n",
       "      <td id=\"T_fdfd8_row15_col7\" class=\"data row15 col7\" >0.40</td>\n",
       "      <td id=\"T_fdfd8_row15_col8\" class=\"data row15 col8\" >2,500</td>\n",
       "      <td id=\"T_fdfd8_row15_col9\" class=\"data row15 col9\" >17,500.00</td>\n",
       "      <td id=\"T_fdfd8_row15_col10\" class=\"data row15 col10\" >16,500.00</td>\n",
       "      <td id=\"T_fdfd8_row15_col11\" class=\"data row15 col11\" >1,000.00</td>\n",
       "      <td id=\"T_fdfd8_row15_col12\" class=\"data row15 col12\" >6.06</td>\n",
       "      <td id=\"T_fdfd8_row15_col13\" class=\"data row15 col13\" >924.68</td>\n",
       "      <td id=\"T_fdfd8_row15_col14\" class=\"data row15 col14\" >DOS</td>\n",
       "    </tr>\n",
       "    <tr>\n",
       "      <th id=\"T_fdfd8_level0_row16\" class=\"row_heading level0 row16\" >16</th>\n",
       "      <td id=\"T_fdfd8_row16_col0\" class=\"data row16 col0\" >STA</td>\n",
       "      <td id=\"T_fdfd8_row16_col1\" class=\"data row16 col1\" >2024</td>\n",
       "      <td id=\"T_fdfd8_row16_col2\" class=\"data row16 col2\" >1</td>\n",
       "      <td id=\"T_fdfd8_row16_col3\" class=\"data row16 col3\" >2023</td>\n",
       "      <td id=\"T_fdfd8_row16_col4\" class=\"data row16 col4\" >9</td>\n",
       "      <td id=\"T_fdfd8_row16_col5\" class=\"data row16 col5\" >16.90</td>\n",
       "      <td id=\"T_fdfd8_row16_col6\" class=\"data row16 col6\" >16.00</td>\n",
       "      <td id=\"T_fdfd8_row16_col7\" class=\"data row16 col7\" >0.90</td>\n",
       "      <td id=\"T_fdfd8_row16_col8\" class=\"data row16 col8\" >2,500</td>\n",
       "      <td id=\"T_fdfd8_row16_col9\" class=\"data row16 col9\" >42,250.00</td>\n",
       "      <td id=\"T_fdfd8_row16_col10\" class=\"data row16 col10\" >40,000.00</td>\n",
       "      <td id=\"T_fdfd8_row16_col11\" class=\"data row16 col11\" >2,250.00</td>\n",
       "      <td id=\"T_fdfd8_row16_col12\" class=\"data row16 col12\" >5.63</td>\n",
       "      <td id=\"T_fdfd8_row16_col13\" class=\"data row16 col13\" >2,067.82</td>\n",
       "      <td id=\"T_fdfd8_row16_col14\" class=\"data row16 col14\" >DTD</td>\n",
       "    </tr>\n",
       "    <tr>\n",
       "      <th id=\"T_fdfd8_level0_row17\" class=\"row_heading level0 row17\" >17</th>\n",
       "      <td id=\"T_fdfd8_row17_col0\" class=\"data row17 col0\" >TFFIF</td>\n",
       "      <td id=\"T_fdfd8_row17_col1\" class=\"data row17 col1\" >2024</td>\n",
       "      <td id=\"T_fdfd8_row17_col2\" class=\"data row17 col2\" >1</td>\n",
       "      <td id=\"T_fdfd8_row17_col3\" class=\"data row17 col3\" >2023</td>\n",
       "      <td id=\"T_fdfd8_row17_col4\" class=\"data row17 col4\" >12</td>\n",
       "      <td id=\"T_fdfd8_row17_col5\" class=\"data row17 col5\" >6.70</td>\n",
       "      <td id=\"T_fdfd8_row17_col6\" class=\"data row17 col6\" >6.35</td>\n",
       "      <td id=\"T_fdfd8_row17_col7\" class=\"data row17 col7\" >0.35</td>\n",
       "      <td id=\"T_fdfd8_row17_col8\" class=\"data row17 col8\" >2,500</td>\n",
       "      <td id=\"T_fdfd8_row17_col9\" class=\"data row17 col9\" >16,750.00</td>\n",
       "      <td id=\"T_fdfd8_row17_col10\" class=\"data row17 col10\" >15,875.00</td>\n",
       "      <td id=\"T_fdfd8_row17_col11\" class=\"data row17 col11\" >875.00</td>\n",
       "      <td id=\"T_fdfd8_row17_col12\" class=\"data row17 col12\" >5.51</td>\n",
       "      <td id=\"T_fdfd8_row17_col13\" class=\"data row17 col13\" >802.74</td>\n",
       "      <td id=\"T_fdfd8_row17_col14\" class=\"data row17 col14\" >DOS</td>\n",
       "    </tr>\n",
       "  </tbody>\n",
       "</table>\n"
      ],
      "text/plain": [
       "<pandas.io.formats.style.Styler at 0x2983e47e090>"
      ]
     },
     "execution_count": 9,
     "metadata": {},
     "output_type": "execute_result"
    }
   ],
   "source": [
    "sells_df.style.format(format_dict)"
   ]
  },
  {
   "cell_type": "code",
   "execution_count": 11,
   "metadata": {},
   "outputs": [
    {
     "data": {
      "text/plain": [
       "sell_year  sell_month  buy_year  buy_month  name   \n",
       "2024       1           2021      9          BCH         2,202.42\n",
       "                       2023      9          STA         2,067.82\n",
       "                                 10         TFFIF         924.68\n",
       "                                 12         TFFIF         802.74\n",
       "                       2024      1          CRC            56.65\n",
       "           2           2024      1          BEM            49.99\n",
       "           3           2024      2          DIF          -255.32\n",
       "           6           2024      6          JMT         1,146.37\n",
       "           8           2024      5          WHART       7,288.47\n",
       "                                 6          JMT         6,002.78\n",
       "                                            WHART       7,292.90\n",
       "                                 7          JMT         5,012.29\n",
       "           9           2022      7          3BBIF     -26,846.64\n",
       "                       2023      3          CPNREIT       219.81\n",
       "                                 5          MCS         1,246.01\n",
       "                       2024      2          GVREIT      5,527.90\n",
       "                                 6          IVL         3,042.21\n",
       "                                 7          ORI         2,932.22\n",
       "Name: net, dtype: float64"
      ]
     },
     "execution_count": 11,
     "metadata": {},
     "output_type": "execute_result"
    }
   ],
   "source": [
    "sells_df.groupby(['sell_year','sell_month','buy_year','buy_month','name']).net.sum()"
   ]
  },
  {
   "cell_type": "code",
   "execution_count": 13,
   "metadata": {},
   "outputs": [
    {
     "data": {
      "text/html": [
       "<div>\n",
       "<style scoped>\n",
       "    .dataframe tbody tr th:only-of-type {\n",
       "        vertical-align: middle;\n",
       "    }\n",
       "\n",
       "    .dataframe tbody tr th {\n",
       "        vertical-align: top;\n",
       "    }\n",
       "\n",
       "    .dataframe thead th {\n",
       "        text-align: right;\n",
       "    }\n",
       "</style>\n",
       "<table border=\"1\" class=\"dataframe\">\n",
       "  <thead>\n",
       "    <tr style=\"text-align: right;\">\n",
       "      <th></th>\n",
       "      <th>gross</th>\n",
       "      <th>net</th>\n",
       "    </tr>\n",
       "    <tr>\n",
       "      <th>name</th>\n",
       "      <th></th>\n",
       "      <th></th>\n",
       "    </tr>\n",
       "  </thead>\n",
       "  <tbody>\n",
       "    <tr>\n",
       "      <th>3BBIF</th>\n",
       "      <td>-26,500.00</td>\n",
       "      <td>-26,846.64</td>\n",
       "    </tr>\n",
       "    <tr>\n",
       "      <th>BCH</th>\n",
       "      <td>2,400.00</td>\n",
       "      <td>2,202.42</td>\n",
       "    </tr>\n",
       "    <tr>\n",
       "      <th>BEM</th>\n",
       "      <td>150.00</td>\n",
       "      <td>49.99</td>\n",
       "    </tr>\n",
       "    <tr>\n",
       "      <th>CPNREIT</th>\n",
       "      <td>500.00</td>\n",
       "      <td>219.81</td>\n",
       "    </tr>\n",
       "    <tr>\n",
       "      <th>CRC</th>\n",
       "      <td>150.00</td>\n",
       "      <td>56.65</td>\n",
       "    </tr>\n",
       "  </tbody>\n",
       "</table>\n",
       "</div>"
      ],
      "text/plain": [
       "             gross        net\n",
       "name                         \n",
       "3BBIF   -26,500.00 -26,846.64\n",
       "BCH       2,400.00   2,202.42\n",
       "BEM         150.00      49.99\n",
       "CPNREIT     500.00     219.81\n",
       "CRC         150.00      56.65"
      ]
     },
     "execution_count": 13,
     "metadata": {},
     "output_type": "execute_result"
    }
   ],
   "source": [
    "sells_df.groupby(['name'])[['gross','net']].sum().head(5)"
   ]
  },
  {
   "cell_type": "code",
   "execution_count": 6,
   "metadata": {},
   "outputs": [
    {
     "data": {
      "text/html": [
       "<style type=\"text/css\">\n",
       "</style>\n",
       "<table id=\"T_f9685_\">\n",
       "  <thead>\n",
       "    <tr>\n",
       "      <th class=\"blank level0\" >&nbsp;</th>\n",
       "      <th class=\"col_heading level0 col0\" >gross</th>\n",
       "      <th class=\"col_heading level0 col1\" >net</th>\n",
       "    </tr>\n",
       "    <tr>\n",
       "      <th class=\"index_name level0\" >name</th>\n",
       "      <th class=\"blank col0\" >&nbsp;</th>\n",
       "      <th class=\"blank col1\" >&nbsp;</th>\n",
       "    </tr>\n",
       "  </thead>\n",
       "  <tbody>\n",
       "    <tr>\n",
       "      <th id=\"T_f9685_level0_row0\" class=\"row_heading level0 row0\" >WHART</th>\n",
       "      <td id=\"T_f9685_row0_col0\" class=\"data row0 col0\" >15,000.00</td>\n",
       "      <td id=\"T_f9685_row0_col1\" class=\"data row0 col1\" >14,581.37</td>\n",
       "    </tr>\n",
       "    <tr>\n",
       "      <th id=\"T_f9685_level0_row1\" class=\"row_heading level0 row1\" >JMT</th>\n",
       "      <td id=\"T_f9685_row1_col0\" class=\"data row1 col0\" >12,480.00</td>\n",
       "      <td id=\"T_f9685_row1_col1\" class=\"data row1 col1\" >12,161.44</td>\n",
       "    </tr>\n",
       "    <tr>\n",
       "      <th id=\"T_f9685_level0_row2\" class=\"row_heading level0 row2\" >GVREIT</th>\n",
       "      <td id=\"T_f9685_row2_col0\" class=\"data row2 col0\" >5,700.00</td>\n",
       "      <td id=\"T_f9685_row2_col1\" class=\"data row2 col1\" >5,527.90</td>\n",
       "    </tr>\n",
       "    <tr>\n",
       "      <th id=\"T_f9685_level0_row3\" class=\"row_heading level0 row3\" >IVL</th>\n",
       "      <td id=\"T_f9685_row3_col0\" class=\"data row3 col0\" >3,120.00</td>\n",
       "      <td id=\"T_f9685_row3_col1\" class=\"data row3 col1\" >3,042.21</td>\n",
       "    </tr>\n",
       "    <tr>\n",
       "      <th id=\"T_f9685_level0_row4\" class=\"row_heading level0 row4\" >ORI</th>\n",
       "      <td id=\"T_f9685_row4_col0\" class=\"data row4 col0\" >3,000.00</td>\n",
       "      <td id=\"T_f9685_row4_col1\" class=\"data row4 col1\" >2,932.22</td>\n",
       "    </tr>\n",
       "  </tbody>\n",
       "</table>\n"
      ],
      "text/plain": [
       "<pandas.io.formats.style.Styler at 0x174c90b1df0>"
      ]
     },
     "execution_count": 6,
     "metadata": {},
     "output_type": "execute_result"
    }
   ],
   "source": [
    "total_df = sells_df.groupby(['name'])[['gross','net']].sum()\n",
    "total_df.nlargest(5, 'gross')[['gross','net']].style.format(format_dict)"
   ]
  },
  {
   "cell_type": "code",
   "execution_count": 19,
   "metadata": {},
   "outputs": [],
   "source": [
    "file_name = 'ytd-profit.csv'\n",
    "data_file = data_path + file_name\n",
    "csv_file = csv_path + file_name\n",
    "osd_file = osd_path + file_name\n",
    "\n",
    "sells_df.groupby(['sell_year','sell_month','buy_year','buy_month','name']).net.sum().to_csv(csv_file)\n",
    "sells_df.groupby(['sell_year','sell_month','buy_year','buy_month','name']).net.sum().to_csv(data_file)\n",
    "sells_df.groupby(['sell_year','sell_month','buy_year','buy_month','name']).net.sum().to_csv(osd_file)"
   ]
  },
  {
   "cell_type": "code",
   "execution_count": 21,
   "metadata": {
    "scrolled": true
   },
   "outputs": [
    {
     "data": {
      "text/plain": [
       "sell_month\n",
       "1     6,054.31\n",
       "2        49.99\n",
       "3      -255.32\n",
       "6     1,146.37\n",
       "8    25,596.44\n",
       "9   -13,878.49\n",
       "Name: net, dtype: float64"
      ]
     },
     "execution_count": 21,
     "metadata": {},
     "output_type": "execute_result"
    }
   ],
   "source": [
    "output = sells_df.groupby(['sell_month']).net.sum()\n",
    "output"
   ]
  },
  {
   "cell_type": "code",
   "execution_count": 23,
   "metadata": {},
   "outputs": [],
   "source": [
    "#data_path = \"../data/\"\n",
    "file_name = 'tmp-file-of-profits.csv'\n",
    "data_file = data_path + file_name\n",
    "osd_file = osd_path + file_name\n",
    "\n",
    "output.to_csv(data_file, index=True)\n",
    "output.to_csv(osd_file, index=True)"
   ]
  },
  {
   "cell_type": "code",
   "execution_count": 25,
   "metadata": {},
   "outputs": [
    {
     "data": {
      "text/plain": [
       "(18713.3, 361000, 379713.3)"
      ]
     },
     "execution_count": 25,
     "metadata": {},
     "output_type": "execute_result"
    }
   ],
   "source": [
    "profit = sells_df.net.sum()\n",
    "ttl_profit = profit + dividend\n",
    "profit,dividend,ttl_profit"
   ]
  },
  {
   "cell_type": "code",
   "execution_count": 27,
   "metadata": {},
   "outputs": [
    {
     "data": {
      "text/plain": [
       "(18713.0, 361000, 724000, -344000.0)"
      ]
     },
     "execution_count": 27,
     "metadata": {},
     "output_type": "execute_result"
    }
   ],
   "source": [
    "profit = sells_df.net.sum()\n",
    "net = profit + dividend - expense\n",
    "net = round(net / 1000,0) * 1000\n",
    "round(profit,0),dividend,expense, round(net,0)"
   ]
  },
  {
   "cell_type": "markdown",
   "metadata": {},
   "source": [
    "### Bottom line of up to date transactions"
   ]
  },
  {
   "cell_type": "code",
   "execution_count": 30,
   "metadata": {},
   "outputs": [
    {
     "data": {
      "text/plain": [
       "380000.0"
      ]
     },
     "execution_count": 30,
     "metadata": {},
     "output_type": "execute_result"
    }
   ],
   "source": [
    "trade = round(profit,0) + dividend\n",
    "trade = round(trade / 1000,0) * 1000\n",
    "trade"
   ]
  },
  {
   "cell_type": "code",
   "execution_count": 32,
   "metadata": {},
   "outputs": [
    {
     "data": {
      "text/plain": [
       "(668000, -344000.0, 324000.0)"
      ]
     },
     "execution_count": 32,
     "metadata": {},
     "output_type": "execute_result"
    }
   ],
   "source": [
    "total = refund + net\n",
    "refund, round(net,0), round(total,0)"
   ]
  },
  {
   "cell_type": "code",
   "execution_count": null,
   "metadata": {},
   "outputs": [],
   "source": []
  }
 ],
 "metadata": {
  "anaconda-cloud": {},
  "kernelspec": {
   "display_name": "Python 3 (ipykernel)",
   "language": "python",
   "name": "python3"
  },
  "language_info": {
   "codemirror_mode": {
    "name": "ipython",
    "version": 3
   },
   "file_extension": ".py",
   "mimetype": "text/x-python",
   "name": "python",
   "nbconvert_exporter": "python",
   "pygments_lexer": "ipython3",
   "version": "3.12.3"
  }
 },
 "nbformat": 4,
 "nbformat_minor": 4
}
