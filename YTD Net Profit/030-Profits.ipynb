{
 "cells": [
  {
   "cell_type": "code",
   "execution_count": 1,
   "metadata": {},
   "outputs": [
    {
     "data": {
      "text/plain": [
       "datetime.date(2025, 2, 23)"
      ]
     },
     "execution_count": 1,
     "metadata": {},
     "output_type": "execute_result"
    }
   ],
   "source": [
    "import pandas as pd\n",
    "import os\n",
    "from datetime import date, timedelta\n",
    "from sqlalchemy import create_engine, text\n",
    "\n",
    "engine = create_engine('mysql+pymysql://root:@localhost:3306/portfolio_development')\n",
    "conpf = engine.connect()\n",
    "\n",
    "format_dict = {'qty':'{:,}',\n",
    "              'sell_price':'{:,.2f}','buy_price':'{:,.2f}','diff':'{:,.2f}',\n",
    "              'sell_amt':'{:,.2f}','buy_amt':'{:,.2f}','gross':'{:,.2f}',\n",
    "              'pct':'{:,.2f}','net':'{:,.2f}'}\n",
    "pd.set_option('display.float_format','{:,.2f}'.format)\n",
    "year = 2025\n",
    "refund = 57_000   # 66,490.89 Windfall = 200,000 March\n",
    "                    # LTF = 181498.8 + 3396.97 + 50380.22 = 235,000 June\n",
    "                    # 501_000 + 167_000 = 668_000\n",
    "dividend = 0 #361_000\n",
    "expense  = 79_000\n",
    "\n",
    "today = date.today()\n",
    "today"
   ]
  },
  {
   "cell_type": "markdown",
   "metadata": {},
   "source": [
    "### Restart and Run All Cells"
   ]
  },
  {
   "cell_type": "code",
   "execution_count": 3,
   "metadata": {},
   "outputs": [],
   "source": [
    "# Get the user's home directory\n",
    "user_path = os.path.expanduser('~')\n",
    "# Get the current working directory\n",
    "current_path = os.getcwd()\n",
    "# Derive the base directory (base_dir) by removing the last folder ('Daily')\n",
    "base_path = os.path.dirname(current_path)\n",
    "#C:\\Users\\PC1\\OneDrive\\A5\\Data\n",
    "dat_path = os.path.join(base_path, \"Data\")\n",
    "#C:\\Users\\PC1\\OneDrive\\Imports\\santisoontarinka@gmail.com - Google Drive\\Data>\n",
    "god_path = os.path.join(user_path, \"OneDrive\",\"Imports\",\"santisoontarinka@gmail.com - Google Drive\",\"Data\")\n",
    "#C:\\Users\\PC1\\iCloudDrive\\data\n",
    "icd_path = os.path.join(user_path, \"iCloudDrive\", \"Data\")\n",
    "#C:\\Users\\PC1\\OneDrive\\Documents\\obsidian-git-sync\\Data\n",
    "osd_path = os.path.join(user_path, \"OneDrive\",\"Documents\",\"obsidian-git-sync\",\"Data\")\n",
    "#C:\\Users\\PC1\\OneDrive\\A5\\Excel\n",
    "xsl_path = os.path.join(base_path, \"Excel\")"
   ]
  },
  {
   "cell_type": "code",
   "execution_count": 4,
   "metadata": {},
   "outputs": [
    {
     "name": "stdout",
     "output_type": "stream",
     "text": [
      "User path: C:\\Users\\PC1\n",
      "Current path: C:\\Users\\PC1\\OneDrive\\A5\\YTD Net Profit\n",
      "Base path: C:\\Users\\PC1\\OneDrive\\A5\n",
      "Data path (dat_path): C:\\Users\\PC1\\OneDrive\\A5\\Data\n",
      "Excel path (xsl_path): C:\\Users\\PC1\\OneDrive\\A5\\Excel\n",
      "Google Drive path (god_path): C:\\Users\\PC1\\OneDrive\\Imports\\santisoontarinka@gmail.com - Google Drive\\Data\n",
      "iCloudDrive path (icd_path): C:\\Users\\PC1\\iCloudDrive\\Data\n",
      "Obsidian path (osd_path): C:\\Users\\PC1\\OneDrive\\Documents\\obsidian-git-sync\\Data\n"
     ]
    }
   ],
   "source": [
    "print(\"User path:\", user_path)\n",
    "print(f\"Current path: {current_path}\")\n",
    "print(f\"Base path: {base_path}\")\n",
    "print(f\"Data path (dat_path): {dat_path}\") \n",
    "print(f\"Excel path (xsl_path): {xsl_path}\") \n",
    "print(f\"Google Drive path (god_path): {god_path}\")\n",
    "print(f\"iCloudDrive path (icd_path): {icd_path}\") \n",
    "print(f\"Obsidian path (osd_path): {osd_path}\") "
   ]
  },
  {
   "cell_type": "markdown",
   "metadata": {},
   "source": [
    "### Record selection for transactions"
   ]
  },
  {
   "cell_type": "code",
   "execution_count": 6,
   "metadata": {},
   "outputs": [
    {
     "name": "stdout",
     "output_type": "stream",
     "text": [
      "\n",
      "SELECT name, YEAR(sells.date) AS sell_year, MONTH(sells.date) AS sell_month, \n",
      "       YEAR(buys.date) AS buy_year, MONTH(buys.date) AS buy_month,\n",
      "       sells.price AS sell_price, buys.price AS buy_price, (sells.price - buys.price) AS diff, \n",
      "       qty, (sells.price * qty) AS sell_amt, (buys.price * qty) AS buy_amt, \n",
      "       (sells.price - buys.price) * qty AS gross, \n",
      "       ROUND((sells.price - buys.price)/buys.price*100,2) AS pct, profit AS net, buys.kind\n",
      "FROM sells JOIN buys ON sells.buy_id = buys.id\n",
      "JOIN stocks ON buys.stock_id = stocks.id\n",
      "WHERE YEAR(sells.date) = 2025\n",
      "ORDER BY sells.date DESC, name\n"
     ]
    }
   ],
   "source": [
    "sql = '''\n",
    "SELECT name, YEAR(sells.date) AS sell_year, MONTH(sells.date) AS sell_month, \n",
    "       YEAR(buys.date) AS buy_year, MONTH(buys.date) AS buy_month,\n",
    "       sells.price AS sell_price, buys.price AS buy_price, (sells.price - buys.price) AS diff, \n",
    "       qty, (sells.price * qty) AS sell_amt, (buys.price * qty) AS buy_amt, \n",
    "       (sells.price - buys.price) * qty AS gross, \n",
    "       ROUND((sells.price - buys.price)/buys.price*100,2) AS pct, profit AS net, buys.kind\n",
    "FROM sells JOIN buys ON sells.buy_id = buys.id\n",
    "JOIN stocks ON buys.stock_id = stocks.id\n",
    "WHERE YEAR(sells.date) = %s\n",
    "ORDER BY sells.date DESC, name'''\n",
    "sql = sql % year\n",
    "sells_df = pd.read_sql(sql, conpf)\n",
    "print(sql)"
   ]
  },
  {
   "cell_type": "code",
   "execution_count": 7,
   "metadata": {},
   "outputs": [
    {
     "data": {
      "text/html": [
       "<style type=\"text/css\">\n",
       "</style>\n",
       "<table id=\"T_1162b\">\n",
       "  <thead>\n",
       "    <tr>\n",
       "      <th class=\"blank level0\" >&nbsp;</th>\n",
       "      <th id=\"T_1162b_level0_col0\" class=\"col_heading level0 col0\" >name</th>\n",
       "      <th id=\"T_1162b_level0_col1\" class=\"col_heading level0 col1\" >sell_year</th>\n",
       "      <th id=\"T_1162b_level0_col2\" class=\"col_heading level0 col2\" >sell_month</th>\n",
       "      <th id=\"T_1162b_level0_col3\" class=\"col_heading level0 col3\" >buy_year</th>\n",
       "      <th id=\"T_1162b_level0_col4\" class=\"col_heading level0 col4\" >buy_month</th>\n",
       "      <th id=\"T_1162b_level0_col5\" class=\"col_heading level0 col5\" >sell_price</th>\n",
       "      <th id=\"T_1162b_level0_col6\" class=\"col_heading level0 col6\" >buy_price</th>\n",
       "      <th id=\"T_1162b_level0_col7\" class=\"col_heading level0 col7\" >diff</th>\n",
       "      <th id=\"T_1162b_level0_col8\" class=\"col_heading level0 col8\" >qty</th>\n",
       "      <th id=\"T_1162b_level0_col9\" class=\"col_heading level0 col9\" >sell_amt</th>\n",
       "      <th id=\"T_1162b_level0_col10\" class=\"col_heading level0 col10\" >buy_amt</th>\n",
       "      <th id=\"T_1162b_level0_col11\" class=\"col_heading level0 col11\" >gross</th>\n",
       "      <th id=\"T_1162b_level0_col12\" class=\"col_heading level0 col12\" >pct</th>\n",
       "      <th id=\"T_1162b_level0_col13\" class=\"col_heading level0 col13\" >net</th>\n",
       "      <th id=\"T_1162b_level0_col14\" class=\"col_heading level0 col14\" >kind</th>\n",
       "    </tr>\n",
       "  </thead>\n",
       "  <tbody>\n",
       "    <tr>\n",
       "      <th id=\"T_1162b_level0_row0\" class=\"row_heading level0 row0\" >0</th>\n",
       "      <td id=\"T_1162b_row0_col0\" class=\"data row0 col0\" >ASK</td>\n",
       "      <td id=\"T_1162b_row0_col1\" class=\"data row0 col1\" >2025</td>\n",
       "      <td id=\"T_1162b_row0_col2\" class=\"data row0 col2\" >2</td>\n",
       "      <td id=\"T_1162b_row0_col3\" class=\"data row0 col3\" >2023</td>\n",
       "      <td id=\"T_1162b_row0_col4\" class=\"data row0 col4\" >2</td>\n",
       "      <td id=\"T_1162b_row0_col5\" class=\"data row0 col5\" >7.35</td>\n",
       "      <td id=\"T_1162b_row0_col6\" class=\"data row0 col6\" >31.00</td>\n",
       "      <td id=\"T_1162b_row0_col7\" class=\"data row0 col7\" >-23.65</td>\n",
       "      <td id=\"T_1162b_row0_col8\" class=\"data row0 col8\" >4,500</td>\n",
       "      <td id=\"T_1162b_row0_col9\" class=\"data row0 col9\" >33,075.00</td>\n",
       "      <td id=\"T_1162b_row0_col10\" class=\"data row0 col10\" >139,500.00</td>\n",
       "      <td id=\"T_1162b_row0_col11\" class=\"data row0 col11\" >-106,425.00</td>\n",
       "      <td id=\"T_1162b_row0_col12\" class=\"data row0 col12\" >-76.29</td>\n",
       "      <td id=\"T_1162b_row0_col13\" class=\"data row0 col13\" >-106,807.24</td>\n",
       "      <td id=\"T_1162b_row0_col14\" class=\"data row0 col14\" >DTD</td>\n",
       "    </tr>\n",
       "    <tr>\n",
       "      <th id=\"T_1162b_level0_row1\" class=\"row_heading level0 row1\" >1</th>\n",
       "      <td id=\"T_1162b_row1_col0\" class=\"data row1 col0\" >ASK</td>\n",
       "      <td id=\"T_1162b_row1_col1\" class=\"data row1 col1\" >2025</td>\n",
       "      <td id=\"T_1162b_row1_col2\" class=\"data row1 col2\" >2</td>\n",
       "      <td id=\"T_1162b_row1_col3\" class=\"data row1 col3\" >2024</td>\n",
       "      <td id=\"T_1162b_row1_col4\" class=\"data row1 col4\" >10</td>\n",
       "      <td id=\"T_1162b_row1_col5\" class=\"data row1 col5\" >7.35</td>\n",
       "      <td id=\"T_1162b_row1_col6\" class=\"data row1 col6\" >12.00</td>\n",
       "      <td id=\"T_1162b_row1_col7\" class=\"data row1 col7\" >-4.65</td>\n",
       "      <td id=\"T_1162b_row1_col8\" class=\"data row1 col8\" >1,500</td>\n",
       "      <td id=\"T_1162b_row1_col9\" class=\"data row1 col9\" >11,025.00</td>\n",
       "      <td id=\"T_1162b_row1_col10\" class=\"data row1 col10\" >18,000.00</td>\n",
       "      <td id=\"T_1162b_row1_col11\" class=\"data row1 col11\" >-6,975.00</td>\n",
       "      <td id=\"T_1162b_row1_col12\" class=\"data row1 col12\" >-38.75</td>\n",
       "      <td id=\"T_1162b_row1_col13\" class=\"data row1 col13\" >-7,039.29</td>\n",
       "      <td id=\"T_1162b_row1_col14\" class=\"data row1 col14\" >DTD</td>\n",
       "    </tr>\n",
       "  </tbody>\n",
       "</table>\n"
      ],
      "text/plain": [
       "<pandas.io.formats.style.Styler at 0x17b5e707a70>"
      ]
     },
     "execution_count": 7,
     "metadata": {},
     "output_type": "execute_result"
    }
   ],
   "source": [
    "sells_df.style.format(format_dict)"
   ]
  },
  {
   "cell_type": "code",
   "execution_count": 8,
   "metadata": {},
   "outputs": [
    {
     "data": {
      "text/plain": [
       "sell_year  sell_month  buy_year  buy_month  name\n",
       "2025       2           2023      2          ASK    -106,807.24\n",
       "                       2024      10         ASK      -7,039.29\n",
       "Name: net, dtype: float64"
      ]
     },
     "execution_count": 8,
     "metadata": {},
     "output_type": "execute_result"
    }
   ],
   "source": [
    "sells_df.groupby(['sell_year','sell_month','buy_year','buy_month','name']).net.sum()"
   ]
  },
  {
   "cell_type": "code",
   "execution_count": 9,
   "metadata": {},
   "outputs": [
    {
     "data": {
      "text/html": [
       "<div>\n",
       "<style scoped>\n",
       "    .dataframe tbody tr th:only-of-type {\n",
       "        vertical-align: middle;\n",
       "    }\n",
       "\n",
       "    .dataframe tbody tr th {\n",
       "        vertical-align: top;\n",
       "    }\n",
       "\n",
       "    .dataframe thead th {\n",
       "        text-align: right;\n",
       "    }\n",
       "</style>\n",
       "<table border=\"1\" class=\"dataframe\">\n",
       "  <thead>\n",
       "    <tr style=\"text-align: right;\">\n",
       "      <th></th>\n",
       "      <th>gross</th>\n",
       "      <th>net</th>\n",
       "    </tr>\n",
       "    <tr>\n",
       "      <th>name</th>\n",
       "      <th></th>\n",
       "      <th></th>\n",
       "    </tr>\n",
       "  </thead>\n",
       "  <tbody>\n",
       "    <tr>\n",
       "      <th>ASK</th>\n",
       "      <td>-113,400.00</td>\n",
       "      <td>-113,846.53</td>\n",
       "    </tr>\n",
       "  </tbody>\n",
       "</table>\n",
       "</div>"
      ],
      "text/plain": [
       "           gross         net\n",
       "name                        \n",
       "ASK  -113,400.00 -113,846.53"
      ]
     },
     "execution_count": 9,
     "metadata": {},
     "output_type": "execute_result"
    }
   ],
   "source": [
    "sells_df.groupby(['name'])[['gross','net']].sum().head(5)"
   ]
  },
  {
   "cell_type": "code",
   "execution_count": 10,
   "metadata": {},
   "outputs": [],
   "source": [
    "#total_df = sells_df.groupby(['name'])[['gross','net']].sum()\n",
    "#total_df.nlargest(5, 'gross')[['gross','net']].style.format(format_dict)"
   ]
  },
  {
   "cell_type": "code",
   "execution_count": 11,
   "metadata": {},
   "outputs": [],
   "source": [
    "file_name = 'ytd-profit.csv'\n",
    "output_file = os.path.join(dat_path, file_name)\n",
    "god_file = os.path.join(god_path, file_name)\n",
    "icd_file = os.path.join(icd_path, file_name)\n",
    "osd_file = os.path.join(osd_path, file_name)"
   ]
  },
  {
   "cell_type": "code",
   "execution_count": 12,
   "metadata": {},
   "outputs": [
    {
     "name": "stdout",
     "output_type": "stream",
     "text": [
      "Output file : C:\\Users\\PC1\\OneDrive\\A5\\Data\\ytd-profit.csv\n",
      "icd_file : C:\\Users\\PC1\\iCloudDrive\\Data\\ytd-profit.csv\n",
      "god_file : C:\\Users\\PC1\\OneDrive\\Imports\\santisoontarinka@gmail.com - Google Drive\\Data\\ytd-profit.csv\n",
      "osd_file : C:\\Users\\PC1\\OneDrive\\Documents\\obsidian-git-sync\\Data\\ytd-profit.csv\n"
     ]
    }
   ],
   "source": [
    "print(f\"Output file : {output_file}\") \n",
    "print(f\"icd_file : {icd_file}\") \n",
    "print(f\"god_file : {god_file}\") \n",
    "print(f\"osd_file : {osd_file}\") "
   ]
  },
  {
   "cell_type": "code",
   "execution_count": 13,
   "metadata": {},
   "outputs": [],
   "source": [
    "sells_df.groupby(['sell_year','sell_month','buy_year','buy_month','name']).net.sum().to_csv(output_file)\n",
    "sells_df.groupby(['sell_year','sell_month','buy_year','buy_month','name']).net.sum().to_csv(god_file)\n",
    "sells_df.groupby(['sell_year','sell_month','buy_year','buy_month','name']).net.sum().to_csv(icd_file)\n",
    "sells_df.groupby(['sell_year','sell_month','buy_year','buy_month','name']).net.sum().to_csv(osd_file)"
   ]
  },
  {
   "cell_type": "code",
   "execution_count": 14,
   "metadata": {
    "scrolled": true
   },
   "outputs": [
    {
     "data": {
      "text/plain": [
       "sell_month\n",
       "2   -113,846.53\n",
       "Name: net, dtype: float64"
      ]
     },
     "execution_count": 14,
     "metadata": {},
     "output_type": "execute_result"
    }
   ],
   "source": [
    "output = sells_df.groupby(['sell_month']).net.sum()\n",
    "output"
   ]
  },
  {
   "cell_type": "code",
   "execution_count": 15,
   "metadata": {},
   "outputs": [],
   "source": [
    "file_name = 'tmp-file-of-profits.csv'\n",
    "output_file = os.path.join(dat_path, file_name)\n",
    "god_file = os.path.join(god_path, file_name)\n",
    "icd_file = os.path.join(icd_path, file_name)\n",
    "osd_file = os.path.join(osd_path, file_name)"
   ]
  },
  {
   "cell_type": "code",
   "execution_count": 16,
   "metadata": {},
   "outputs": [
    {
     "name": "stdout",
     "output_type": "stream",
     "text": [
      "Output file : C:\\Users\\PC1\\OneDrive\\A5\\Data\\tmp-file-of-profits.csv\n",
      "icd_file : C:\\Users\\PC1\\iCloudDrive\\Data\\tmp-file-of-profits.csv\n",
      "god_file : C:\\Users\\PC1\\OneDrive\\Imports\\santisoontarinka@gmail.com - Google Drive\\Data\\tmp-file-of-profits.csv\n",
      "osd_file : C:\\Users\\PC1\\OneDrive\\Documents\\obsidian-git-sync\\Data\\tmp-file-of-profits.csv\n"
     ]
    }
   ],
   "source": [
    "print(f\"Output file : {output_file}\") \n",
    "print(f\"icd_file : {icd_file}\") \n",
    "print(f\"god_file : {god_file}\") \n",
    "print(f\"osd_file : {osd_file}\")"
   ]
  },
  {
   "cell_type": "code",
   "execution_count": 17,
   "metadata": {},
   "outputs": [],
   "source": [
    "output.to_csv(output_file, index=True)\n",
    "output.to_csv(god_file, index=True)\n",
    "output.to_csv(icd_file, index=True)\n",
    "output.to_csv(osd_file, index=True)"
   ]
  },
  {
   "cell_type": "code",
   "execution_count": 18,
   "metadata": {},
   "outputs": [
    {
     "data": {
      "text/plain": [
       "(-113846.53, 0, -113846.53)"
      ]
     },
     "execution_count": 18,
     "metadata": {},
     "output_type": "execute_result"
    }
   ],
   "source": [
    "profit = sells_df.net.sum()\n",
    "ttl_profit = profit + dividend\n",
    "profit,dividend,ttl_profit"
   ]
  },
  {
   "cell_type": "code",
   "execution_count": 19,
   "metadata": {},
   "outputs": [
    {
     "data": {
      "text/plain": [
       "(-113847.0, 0, 79000, -193000.0)"
      ]
     },
     "execution_count": 19,
     "metadata": {},
     "output_type": "execute_result"
    }
   ],
   "source": [
    "profit = sells_df.net.sum()\n",
    "net = profit + dividend - expense\n",
    "net = round(net / 1000,0) * 1000\n",
    "round(profit,0),dividend,expense, round(net,0)"
   ]
  },
  {
   "cell_type": "markdown",
   "metadata": {},
   "source": [
    "### Bottom line of up to date transactions"
   ]
  },
  {
   "cell_type": "code",
   "execution_count": 21,
   "metadata": {},
   "outputs": [
    {
     "data": {
      "text/plain": [
       "-114000.0"
      ]
     },
     "execution_count": 21,
     "metadata": {},
     "output_type": "execute_result"
    }
   ],
   "source": [
    "trade = round(profit,0) + dividend\n",
    "trade = round(trade / 1000,0) * 1000\n",
    "trade"
   ]
  },
  {
   "cell_type": "code",
   "execution_count": 22,
   "metadata": {},
   "outputs": [
    {
     "data": {
      "text/plain": [
       "(57000, -193000.0, -136000.0)"
      ]
     },
     "execution_count": 22,
     "metadata": {},
     "output_type": "execute_result"
    }
   ],
   "source": [
    "total = refund + net\n",
    "refund, round(net,0), round(total,0)"
   ]
  },
  {
   "cell_type": "code",
   "execution_count": null,
   "metadata": {},
   "outputs": [],
   "source": [
    "\n"
   ]
  }
 ],
 "metadata": {
  "anaconda-cloud": {},
  "kernelspec": {
   "display_name": "Python 3 (ipykernel)",
   "language": "python",
   "name": "python3"
  },
  "language_info": {
   "codemirror_mode": {
    "name": "ipython",
    "version": 3
   },
   "file_extension": ".py",
   "mimetype": "text/x-python",
   "name": "python",
   "nbconvert_exporter": "python",
   "pygments_lexer": "ipython3",
   "version": "3.12.3"
  }
 },
 "nbformat": 4,
 "nbformat_minor": 4
}
