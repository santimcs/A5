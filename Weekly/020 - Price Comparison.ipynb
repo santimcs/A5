{
 "cells": [
  {
   "cell_type": "markdown",
   "metadata": {},
   "source": [
    "### portmy database: stocks table\n",
    "### stock database: buy, price tables"
   ]
  },
  {
   "cell_type": "code",
   "execution_count": 2,
   "metadata": {},
   "outputs": [
    {
     "name": "stdout",
     "output_type": "stream",
     "text": [
      "2025-09-28\n"
     ]
    }
   ],
   "source": [
    "import pandas as pd\n",
    "import numpy as np\n",
    "import os\n",
    "from datetime import date, timedelta, datetime\n",
    "from sqlalchemy import create_engine\n",
    "from pandas.tseries.offsets import BDay\n",
    "\n",
    "engine = create_engine(\"sqlite:///c:\\\\ruby\\\\portmy\\\\db\\\\development.sqlite3\")\n",
    "conmy = engine.connect()\n",
    "engine = create_engine(\"mysql+pymysql://root:@localhost:3306/stock\")\n",
    "const = engine.connect()\n",
    "\n",
    "pd.set_option('display.float_format','{:,.2f}'.format)\n",
    "\n",
    "today = date.today()\n",
    "print(today)"
   ]
  },
  {
   "cell_type": "code",
   "execution_count": 3,
   "metadata": {},
   "outputs": [
    {
     "name": "stdout",
     "output_type": "stream",
     "text": [
      "today: 2025-09-28\n",
      "yesterday: 2025-09-26 00:00:00\n"
     ]
    }
   ],
   "source": [
    "# convert the timedelta object to a BusinessDay object\n",
    "num_business_days = BDay(1)\n",
    "yesterday = today - num_business_days\n",
    "print(f'today: {today}')\n",
    "print(f'yesterday: {yesterday}')"
   ]
  },
  {
   "cell_type": "code",
   "execution_count": 4,
   "metadata": {},
   "outputs": [
    {
     "name": "stdout",
     "output_type": "stream",
     "text": [
      "a week ago: 2025-09-22\n",
      "yesterday: 2025-09-26\n"
     ]
    }
   ],
   "source": [
    "yesterday = yesterday.date()\n",
    "week_ago = yesterday -timedelta(days = 4)\n",
    "print(f'a week ago: {week_ago}')\n",
    "print(f'yesterday: {yesterday}')"
   ]
  },
  {
   "cell_type": "markdown",
   "metadata": {},
   "source": [
    "### Restart & Run All Cells"
   ]
  },
  {
   "cell_type": "code",
   "execution_count": 6,
   "metadata": {},
   "outputs": [],
   "source": [
    "# Get the user's home directory\n",
    "user_path = os.path.expanduser('~')\n",
    "# Get the current working directory\n",
    "current_path = os.getcwd()\n",
    "# Derive the base directory (base_dir) by removing the last folder ('Daily')\n",
    "base_path = os.path.dirname(current_path)\n",
    "#C:\\Users\\PC1\\OneDrive\\A5\\Data\n",
    "dat_path = os.path.join(base_path, \"Data\")\n",
    "#C:\\Users\\PC1\\OneDrive\\Imports\\santisoontarinka@gmail.com - Google Drive\\Data>\n",
    "god_path = os.path.join(user_path, \"OneDrive\",\"Imports\",\"santisoontarinka@gmail.com - Google Drive\",\"Data\")\n",
    "#C:\\Users\\PC1\\iCloudDrive\\data\n",
    "icd_path = os.path.join(user_path, \"iCloudDrive\", \"Data\")\n",
    "#C:\\Users\\PC1\\OneDrive\\Documents\\obsidian-git-sync\\Data\n",
    "osd_path = os.path.join(user_path, \"OneDrive\",\"Documents\",\"obsidian-git-sync\",\"Data\")"
   ]
  },
  {
   "cell_type": "code",
   "execution_count": 7,
   "metadata": {},
   "outputs": [
    {
     "name": "stdout",
     "output_type": "stream",
     "text": [
      "User path: C:\\Users\\PC1\n",
      "Current path: C:\\Users\\PC1\\OneDrive\\A5\\Weekly\n",
      "Base path: C:\\Users\\PC1\\OneDrive\\A5\n",
      "Data path (dat_path): C:\\Users\\PC1\\OneDrive\\A5\\Data\n",
      "Google Drive path (god_path): C:\\Users\\PC1\\OneDrive\\Imports\\santisoontarinka@gmail.com - Google Drive\\Data\n",
      "iCloudDrive path (icd_path): C:\\Users\\PC1\\iCloudDrive\\Data\n",
      "Obsidian path (osd_path): C:\\Users\\PC1\\OneDrive\\Documents\\obsidian-git-sync\\Data\n"
     ]
    }
   ],
   "source": [
    "print(\"User path:\", user_path)\n",
    "print(f\"Current path: {current_path}\")\n",
    "print(f\"Base path: {base_path}\")\n",
    "print(f\"Data path (dat_path): {dat_path}\") \n",
    "print(f\"Google Drive path (god_path): {god_path}\")\n",
    "print(f\"iCloudDrive path (icd_path): {icd_path}\") \n",
    "print(f\"Obsidian path (osd_path): {osd_path}\") "
   ]
  },
  {
   "cell_type": "markdown",
   "metadata": {},
   "source": [
    "### This process affects only already in port stocks. To highlight price changes in percent."
   ]
  },
  {
   "cell_type": "code",
   "execution_count": 9,
   "metadata": {},
   "outputs": [],
   "source": [
    "cols = 'name price_w price_d percent perform mrkt '.split()\n",
    "\n",
    "format_dict = {\n",
    "    'qty':'{:,}',    \n",
    "    'price':'{:.2f}','price_d':'{:.2f}','price_w':'{:.2f}',\n",
    "    'max_price':'{:.2f}','min_price':'{:.2f}',\n",
    "    'maxp':'{:.2f}','minp':'{:.2f}','opnp':'{:.2f}',    \n",
    "    'pct':'{:,.2f}%','percent':'{:,.2f}%',\n",
    "    \n",
    "    'pe':'{:.2f}','pbv':'{:.2f}',\n",
    "    'paid_up':'{:,.2f}','market_cap':'{:,.2f}',\n",
    "    'daily_volume':'{:,.2f}','beta':'{:,.2f}', \n",
    "    'dly_vol':'{:,.2f}', \n",
    "}"
   ]
  },
  {
   "cell_type": "code",
   "execution_count": 10,
   "metadata": {},
   "outputs": [
    {
     "data": {
      "text/plain": [
       "29"
      ]
     },
     "execution_count": 10,
     "metadata": {},
     "output_type": "execute_result"
    }
   ],
   "source": [
    "sql = '''\n",
    "SELECT name\n",
    "FROM buy \n",
    "WHERE active = 1\n",
    "ORDER BY name'''\n",
    "df_buy = pd.read_sql(sql, const)\n",
    "\n",
    "names = df_buy.name.tolist()\n",
    "portfolio = \", \".join(map(lambda name: \"'%s'\" % name, names))\n",
    "\n",
    "sql = \"\"\"\n",
    "    SELECT name, price AS price_d \n",
    "    FROM price \n",
    "    WHERE date = '{}' AND name IN ({})\n",
    "    ORDER BY name, date\n",
    "\"\"\".format(yesterday, portfolio)\n",
    "\n",
    "df_today = pd.read_sql(sql, const)\n",
    "df_today.shape[0]"
   ]
  },
  {
   "cell_type": "code",
   "execution_count": 11,
   "metadata": {},
   "outputs": [
    {
     "data": {
      "text/plain": [
       "29"
      ]
     },
     "execution_count": 11,
     "metadata": {},
     "output_type": "execute_result"
    }
   ],
   "source": [
    "sql = \"\"\"\n",
    "    SELECT name, price AS price_w\n",
    "    FROM price \n",
    "    WHERE date = '{}' AND name IN ({}) \n",
    "    ORDER BY name\n",
    "\"\"\".format(week_ago, portfolio)\n",
    "\n",
    "df_wkago = pd.read_sql(sql, const)\n",
    "df_wkago.shape[0]"
   ]
  },
  {
   "cell_type": "code",
   "execution_count": 12,
   "metadata": {},
   "outputs": [
    {
     "data": {
      "text/html": [
       "<div>\n",
       "<style scoped>\n",
       "    .dataframe tbody tr th:only-of-type {\n",
       "        vertical-align: middle;\n",
       "    }\n",
       "\n",
       "    .dataframe tbody tr th {\n",
       "        vertical-align: top;\n",
       "    }\n",
       "\n",
       "    .dataframe thead th {\n",
       "        text-align: right;\n",
       "    }\n",
       "</style>\n",
       "<table border=\"1\" class=\"dataframe\">\n",
       "  <thead>\n",
       "    <tr style=\"text-align: right;\">\n",
       "      <th></th>\n",
       "      <th>name</th>\n",
       "      <th>price_d</th>\n",
       "      <th>price_w</th>\n",
       "    </tr>\n",
       "  </thead>\n",
       "  <tbody>\n",
       "    <tr>\n",
       "      <th>24</th>\n",
       "      <td>TFFIF</td>\n",
       "      <td>6.15</td>\n",
       "      <td>6.05</td>\n",
       "    </tr>\n",
       "    <tr>\n",
       "      <th>25</th>\n",
       "      <td>TOA</td>\n",
       "      <td>14.00</td>\n",
       "      <td>14.30</td>\n",
       "    </tr>\n",
       "    <tr>\n",
       "      <th>26</th>\n",
       "      <td>TVO</td>\n",
       "      <td>25.25</td>\n",
       "      <td>25.25</td>\n",
       "    </tr>\n",
       "    <tr>\n",
       "      <th>27</th>\n",
       "      <td>WHAIR</td>\n",
       "      <td>6.05</td>\n",
       "      <td>5.90</td>\n",
       "    </tr>\n",
       "    <tr>\n",
       "      <th>28</th>\n",
       "      <td>WHART</td>\n",
       "      <td>9.70</td>\n",
       "      <td>9.45</td>\n",
       "    </tr>\n",
       "  </tbody>\n",
       "</table>\n",
       "</div>"
      ],
      "text/plain": [
       "     name  price_d  price_w\n",
       "24  TFFIF     6.15     6.05\n",
       "25    TOA    14.00    14.30\n",
       "26    TVO    25.25    25.25\n",
       "27  WHAIR     6.05     5.90\n",
       "28  WHART     9.70     9.45"
      ]
     },
     "execution_count": 12,
     "metadata": {},
     "output_type": "execute_result"
    }
   ],
   "source": [
    "trend = pd.merge(df_today, df_wkago, on='name',how='inner')\n",
    "trend.tail()"
   ]
  },
  {
   "cell_type": "code",
   "execution_count": 13,
   "metadata": {},
   "outputs": [],
   "source": [
    "def performance(vals):\n",
    "    price_d, price_w = vals\n",
    "    if (price_d > price_w):\n",
    "        return 'Better'\n",
    "    elif (price_d < price_w):\n",
    "        return 'Worse'\n",
    "    else:\n",
    "        return 'No Change'"
   ]
  },
  {
   "cell_type": "code",
   "execution_count": 14,
   "metadata": {},
   "outputs": [],
   "source": [
    "trend['percent'] = (trend.price_d-trend.price_w)/trend.price_w * 100"
   ]
  },
  {
   "cell_type": "code",
   "execution_count": 15,
   "metadata": {},
   "outputs": [
    {
     "data": {
      "text/html": [
       "<div>\n",
       "<style scoped>\n",
       "    .dataframe tbody tr th:only-of-type {\n",
       "        vertical-align: middle;\n",
       "    }\n",
       "\n",
       "    .dataframe tbody tr th {\n",
       "        vertical-align: top;\n",
       "    }\n",
       "\n",
       "    .dataframe thead th {\n",
       "        text-align: right;\n",
       "    }\n",
       "</style>\n",
       "<table border=\"1\" class=\"dataframe\">\n",
       "  <thead>\n",
       "    <tr style=\"text-align: right;\">\n",
       "      <th></th>\n",
       "      <th>name</th>\n",
       "      <th>price_d</th>\n",
       "      <th>price_w</th>\n",
       "      <th>percent</th>\n",
       "    </tr>\n",
       "  </thead>\n",
       "  <tbody>\n",
       "    <tr>\n",
       "      <th>24</th>\n",
       "      <td>TFFIF</td>\n",
       "      <td>6.15</td>\n",
       "      <td>6.05</td>\n",
       "      <td>1.65</td>\n",
       "    </tr>\n",
       "    <tr>\n",
       "      <th>25</th>\n",
       "      <td>TOA</td>\n",
       "      <td>14.00</td>\n",
       "      <td>14.30</td>\n",
       "      <td>-2.10</td>\n",
       "    </tr>\n",
       "    <tr>\n",
       "      <th>26</th>\n",
       "      <td>TVO</td>\n",
       "      <td>25.25</td>\n",
       "      <td>25.25</td>\n",
       "      <td>0.00</td>\n",
       "    </tr>\n",
       "    <tr>\n",
       "      <th>27</th>\n",
       "      <td>WHAIR</td>\n",
       "      <td>6.05</td>\n",
       "      <td>5.90</td>\n",
       "      <td>2.54</td>\n",
       "    </tr>\n",
       "    <tr>\n",
       "      <th>28</th>\n",
       "      <td>WHART</td>\n",
       "      <td>9.70</td>\n",
       "      <td>9.45</td>\n",
       "      <td>2.65</td>\n",
       "    </tr>\n",
       "  </tbody>\n",
       "</table>\n",
       "</div>"
      ],
      "text/plain": [
       "     name  price_d  price_w  percent\n",
       "24  TFFIF     6.15     6.05     1.65\n",
       "25    TOA    14.00    14.30    -2.10\n",
       "26    TVO    25.25    25.25     0.00\n",
       "27  WHAIR     6.05     5.90     2.54\n",
       "28  WHART     9.70     9.45     2.65"
      ]
     },
     "execution_count": 15,
     "metadata": {},
     "output_type": "execute_result"
    }
   ],
   "source": [
    "trend.tail()"
   ]
  },
  {
   "cell_type": "code",
   "execution_count": 16,
   "metadata": {},
   "outputs": [],
   "source": [
    "trend[\"perform\"] = trend[[\"price_d\",\"price_w\"]].apply(performance, axis=1)"
   ]
  },
  {
   "cell_type": "code",
   "execution_count": 17,
   "metadata": {},
   "outputs": [
    {
     "data": {
      "text/html": [
       "<style type=\"text/css\">\n",
       "</style>\n",
       "<table id=\"T_9686f\">\n",
       "  <thead>\n",
       "    <tr>\n",
       "      <th class=\"blank level0\" >&nbsp;</th>\n",
       "      <th id=\"T_9686f_level0_col0\" class=\"col_heading level0 col0\" >name</th>\n",
       "      <th id=\"T_9686f_level0_col1\" class=\"col_heading level0 col1\" >price_d</th>\n",
       "      <th id=\"T_9686f_level0_col2\" class=\"col_heading level0 col2\" >price_w</th>\n",
       "      <th id=\"T_9686f_level0_col3\" class=\"col_heading level0 col3\" >percent</th>\n",
       "      <th id=\"T_9686f_level0_col4\" class=\"col_heading level0 col4\" >perform</th>\n",
       "    </tr>\n",
       "  </thead>\n",
       "  <tbody>\n",
       "    <tr>\n",
       "      <th id=\"T_9686f_level0_row0\" class=\"row_heading level0 row0\" >17</th>\n",
       "      <td id=\"T_9686f_row0_col0\" class=\"data row0 col0\" >PTTGC</td>\n",
       "      <td id=\"T_9686f_row0_col1\" class=\"data row0 col1\" >26.25</td>\n",
       "      <td id=\"T_9686f_row0_col2\" class=\"data row0 col2\" >27.25</td>\n",
       "      <td id=\"T_9686f_row0_col3\" class=\"data row0 col3\" >-3.67%</td>\n",
       "      <td id=\"T_9686f_row0_col4\" class=\"data row0 col4\" >Worse</td>\n",
       "    </tr>\n",
       "    <tr>\n",
       "      <th id=\"T_9686f_level0_row1\" class=\"row_heading level0 row1\" >5</th>\n",
       "      <td id=\"T_9686f_row1_col0\" class=\"data row1 col0\" >CPF</td>\n",
       "      <td id=\"T_9686f_row1_col1\" class=\"data row1 col1\" >22.20</td>\n",
       "      <td id=\"T_9686f_row1_col2\" class=\"data row1 col2\" >23.00</td>\n",
       "      <td id=\"T_9686f_row1_col3\" class=\"data row1 col3\" >-3.48%</td>\n",
       "      <td id=\"T_9686f_row1_col4\" class=\"data row1 col4\" >Worse</td>\n",
       "    </tr>\n",
       "    <tr>\n",
       "      <th id=\"T_9686f_level0_row2\" class=\"row_heading level0 row2\" >4</th>\n",
       "      <td id=\"T_9686f_row2_col0\" class=\"data row2 col0\" >BCH</td>\n",
       "      <td id=\"T_9686f_row2_col1\" class=\"data row2 col1\" >13.10</td>\n",
       "      <td id=\"T_9686f_row2_col2\" class=\"data row2 col2\" >13.50</td>\n",
       "      <td id=\"T_9686f_row2_col3\" class=\"data row2 col3\" >-2.96%</td>\n",
       "      <td id=\"T_9686f_row2_col4\" class=\"data row2 col4\" >Worse</td>\n",
       "    </tr>\n",
       "    <tr>\n",
       "      <th id=\"T_9686f_level0_row3\" class=\"row_heading level0 row3\" >25</th>\n",
       "      <td id=\"T_9686f_row3_col0\" class=\"data row3 col0\" >TOA</td>\n",
       "      <td id=\"T_9686f_row3_col1\" class=\"data row3 col1\" >14.00</td>\n",
       "      <td id=\"T_9686f_row3_col2\" class=\"data row3 col2\" >14.30</td>\n",
       "      <td id=\"T_9686f_row3_col3\" class=\"data row3 col3\" >-2.10%</td>\n",
       "      <td id=\"T_9686f_row3_col4\" class=\"data row3 col4\" >Worse</td>\n",
       "    </tr>\n",
       "    <tr>\n",
       "      <th id=\"T_9686f_level0_row4\" class=\"row_heading level0 row4\" >2</th>\n",
       "      <td id=\"T_9686f_row4_col0\" class=\"data row4 col0\" >AIMIRT</td>\n",
       "      <td id=\"T_9686f_row4_col1\" class=\"data row4 col1\" >10.30</td>\n",
       "      <td id=\"T_9686f_row4_col2\" class=\"data row4 col2\" >10.50</td>\n",
       "      <td id=\"T_9686f_row4_col3\" class=\"data row4 col3\" >-1.90%</td>\n",
       "      <td id=\"T_9686f_row4_col4\" class=\"data row4 col4\" >Worse</td>\n",
       "    </tr>\n",
       "    <tr>\n",
       "      <th id=\"T_9686f_level0_row5\" class=\"row_heading level0 row5\" >9</th>\n",
       "      <td id=\"T_9686f_row5_col0\" class=\"data row5 col0\" >IVL</td>\n",
       "      <td id=\"T_9686f_row5_col1\" class=\"data row5 col1\" >22.40</td>\n",
       "      <td id=\"T_9686f_row5_col2\" class=\"data row5 col2\" >22.80</td>\n",
       "      <td id=\"T_9686f_row5_col3\" class=\"data row5 col3\" >-1.75%</td>\n",
       "      <td id=\"T_9686f_row5_col4\" class=\"data row5 col4\" >Worse</td>\n",
       "    </tr>\n",
       "    <tr>\n",
       "      <th id=\"T_9686f_level0_row6\" class=\"row_heading level0 row6\" >20</th>\n",
       "      <td id=\"T_9686f_row6_col0\" class=\"data row6 col0\" >SENA</td>\n",
       "      <td id=\"T_9686f_row6_col1\" class=\"data row6 col1\" >1.95</td>\n",
       "      <td id=\"T_9686f_row6_col2\" class=\"data row6 col2\" >1.97</td>\n",
       "      <td id=\"T_9686f_row6_col3\" class=\"data row6 col3\" >-1.02%</td>\n",
       "      <td id=\"T_9686f_row6_col4\" class=\"data row6 col4\" >Worse</td>\n",
       "    </tr>\n",
       "    <tr>\n",
       "      <th id=\"T_9686f_level0_row7\" class=\"row_heading level0 row7\" >18</th>\n",
       "      <td id=\"T_9686f_row7_col0\" class=\"data row7 col0\" >RCL</td>\n",
       "      <td id=\"T_9686f_row7_col1\" class=\"data row7 col1\" >27.00</td>\n",
       "      <td id=\"T_9686f_row7_col2\" class=\"data row7 col2\" >27.25</td>\n",
       "      <td id=\"T_9686f_row7_col3\" class=\"data row7 col3\" >-0.92%</td>\n",
       "      <td id=\"T_9686f_row7_col4\" class=\"data row7 col4\" >Worse</td>\n",
       "    </tr>\n",
       "    <tr>\n",
       "      <th id=\"T_9686f_level0_row8\" class=\"row_heading level0 row8\" >3</th>\n",
       "      <td id=\"T_9686f_row8_col0\" class=\"data row8 col0\" >AWC</td>\n",
       "      <td id=\"T_9686f_row8_col1\" class=\"data row8 col1\" >2.36</td>\n",
       "      <td id=\"T_9686f_row8_col2\" class=\"data row8 col2\" >2.38</td>\n",
       "      <td id=\"T_9686f_row8_col3\" class=\"data row8 col3\" >-0.84%</td>\n",
       "      <td id=\"T_9686f_row8_col4\" class=\"data row8 col4\" >Worse</td>\n",
       "    </tr>\n",
       "    <tr>\n",
       "      <th id=\"T_9686f_level0_row9\" class=\"row_heading level0 row9\" >22</th>\n",
       "      <td id=\"T_9686f_row9_col0\" class=\"data row9 col0\" >STA</td>\n",
       "      <td id=\"T_9686f_row9_col1\" class=\"data row9 col1\" >12.70</td>\n",
       "      <td id=\"T_9686f_row9_col2\" class=\"data row9 col2\" >12.80</td>\n",
       "      <td id=\"T_9686f_row9_col3\" class=\"data row9 col3\" >-0.78%</td>\n",
       "      <td id=\"T_9686f_row9_col4\" class=\"data row9 col4\" >Worse</td>\n",
       "    </tr>\n",
       "    <tr>\n",
       "      <th id=\"T_9686f_level0_row10\" class=\"row_heading level0 row10\" >1</th>\n",
       "      <td id=\"T_9686f_row10_col0\" class=\"data row10 col0\" >AH</td>\n",
       "      <td id=\"T_9686f_row10_col1\" class=\"data row10 col1\" >13.90</td>\n",
       "      <td id=\"T_9686f_row10_col2\" class=\"data row10 col2\" >14.00</td>\n",
       "      <td id=\"T_9686f_row10_col3\" class=\"data row10 col3\" >-0.71%</td>\n",
       "      <td id=\"T_9686f_row10_col4\" class=\"data row10 col4\" >Worse</td>\n",
       "    </tr>\n",
       "    <tr>\n",
       "      <th id=\"T_9686f_level0_row11\" class=\"row_heading level0 row11\" >12</th>\n",
       "      <td id=\"T_9686f_row11_col0\" class=\"data row11 col0\" >MCS</td>\n",
       "      <td id=\"T_9686f_row11_col1\" class=\"data row11 col1\" >8.40</td>\n",
       "      <td id=\"T_9686f_row11_col2\" class=\"data row11 col2\" >8.40</td>\n",
       "      <td id=\"T_9686f_row11_col3\" class=\"data row11 col3\" >0.00%</td>\n",
       "      <td id=\"T_9686f_row11_col4\" class=\"data row11 col4\" >No Change</td>\n",
       "    </tr>\n",
       "    <tr>\n",
       "      <th id=\"T_9686f_level0_row12\" class=\"row_heading level0 row12\" >8</th>\n",
       "      <td id=\"T_9686f_row12_col0\" class=\"data row12 col0\" >GVREIT</td>\n",
       "      <td id=\"T_9686f_row12_col1\" class=\"data row12 col1\" >6.50</td>\n",
       "      <td id=\"T_9686f_row12_col2\" class=\"data row12 col2\" >6.50</td>\n",
       "      <td id=\"T_9686f_row12_col3\" class=\"data row12 col3\" >0.00%</td>\n",
       "      <td id=\"T_9686f_row12_col4\" class=\"data row12 col4\" >No Change</td>\n",
       "    </tr>\n",
       "    <tr>\n",
       "      <th id=\"T_9686f_level0_row13\" class=\"row_heading level0 row13\" >7</th>\n",
       "      <td id=\"T_9686f_row13_col0\" class=\"data row13 col0\" >DIF</td>\n",
       "      <td id=\"T_9686f_row13_col1\" class=\"data row13 col1\" >9.10</td>\n",
       "      <td id=\"T_9686f_row13_col2\" class=\"data row13 col2\" >9.10</td>\n",
       "      <td id=\"T_9686f_row13_col3\" class=\"data row13 col3\" >0.00%</td>\n",
       "      <td id=\"T_9686f_row13_col4\" class=\"data row13 col4\" >No Change</td>\n",
       "    </tr>\n",
       "    <tr>\n",
       "      <th id=\"T_9686f_level0_row14\" class=\"row_heading level0 row14\" >6</th>\n",
       "      <td id=\"T_9686f_row14_col0\" class=\"data row14 col0\" >CPNREIT</td>\n",
       "      <td id=\"T_9686f_row14_col1\" class=\"data row14 col1\" >11.40</td>\n",
       "      <td id=\"T_9686f_row14_col2\" class=\"data row14 col2\" >11.40</td>\n",
       "      <td id=\"T_9686f_row14_col3\" class=\"data row14 col3\" >0.00%</td>\n",
       "      <td id=\"T_9686f_row14_col4\" class=\"data row14 col4\" >No Change</td>\n",
       "    </tr>\n",
       "    <tr>\n",
       "      <th id=\"T_9686f_level0_row15\" class=\"row_heading level0 row15\" >26</th>\n",
       "      <td id=\"T_9686f_row15_col0\" class=\"data row15 col0\" >TVO</td>\n",
       "      <td id=\"T_9686f_row15_col1\" class=\"data row15 col1\" >25.25</td>\n",
       "      <td id=\"T_9686f_row15_col2\" class=\"data row15 col2\" >25.25</td>\n",
       "      <td id=\"T_9686f_row15_col3\" class=\"data row15 col3\" >0.00%</td>\n",
       "      <td id=\"T_9686f_row15_col4\" class=\"data row15 col4\" >No Change</td>\n",
       "    </tr>\n",
       "    <tr>\n",
       "      <th id=\"T_9686f_level0_row16\" class=\"row_heading level0 row16\" >14</th>\n",
       "      <td id=\"T_9686f_row16_col0\" class=\"data row16 col0\" >ORI</td>\n",
       "      <td id=\"T_9686f_row16_col1\" class=\"data row16 col1\" >2.82</td>\n",
       "      <td id=\"T_9686f_row16_col2\" class=\"data row16 col2\" >2.80</td>\n",
       "      <td id=\"T_9686f_row16_col3\" class=\"data row16 col3\" >0.71%</td>\n",
       "      <td id=\"T_9686f_row16_col4\" class=\"data row16 col4\" >Better</td>\n",
       "    </tr>\n",
       "    <tr>\n",
       "      <th id=\"T_9686f_level0_row17\" class=\"row_heading level0 row17\" >16</th>\n",
       "      <td id=\"T_9686f_row17_col0\" class=\"data row17 col0\" >PTT</td>\n",
       "      <td id=\"T_9686f_row17_col1\" class=\"data row17 col1\" >33.25</td>\n",
       "      <td id=\"T_9686f_row17_col2\" class=\"data row17 col2\" >33.00</td>\n",
       "      <td id=\"T_9686f_row17_col3\" class=\"data row17 col3\" >0.76%</td>\n",
       "      <td id=\"T_9686f_row17_col4\" class=\"data row17 col4\" >Better</td>\n",
       "    </tr>\n",
       "    <tr>\n",
       "      <th id=\"T_9686f_level0_row18\" class=\"row_heading level0 row18\" >0</th>\n",
       "      <td id=\"T_9686f_row18_col0\" class=\"data row18 col0\" >3BBIF</td>\n",
       "      <td id=\"T_9686f_row18_col1\" class=\"data row18 col1\" >6.50</td>\n",
       "      <td id=\"T_9686f_row18_col2\" class=\"data row18 col2\" >6.45</td>\n",
       "      <td id=\"T_9686f_row18_col3\" class=\"data row18 col3\" >0.78%</td>\n",
       "      <td id=\"T_9686f_row18_col4\" class=\"data row18 col4\" >Better</td>\n",
       "    </tr>\n",
       "    <tr>\n",
       "      <th id=\"T_9686f_level0_row19\" class=\"row_heading level0 row19\" >10</th>\n",
       "      <td id=\"T_9686f_row19_col0\" class=\"data row19 col0\" >JMART</td>\n",
       "      <td id=\"T_9686f_row19_col1\" class=\"data row19 col1\" >9.75</td>\n",
       "      <td id=\"T_9686f_row19_col2\" class=\"data row19 col2\" >9.65</td>\n",
       "      <td id=\"T_9686f_row19_col3\" class=\"data row19 col3\" >1.04%</td>\n",
       "      <td id=\"T_9686f_row19_col4\" class=\"data row19 col4\" >Better</td>\n",
       "    </tr>\n",
       "    <tr>\n",
       "      <th id=\"T_9686f_level0_row20\" class=\"row_heading level0 row20\" >23</th>\n",
       "      <td id=\"T_9686f_row20_col0\" class=\"data row20 col0\" >SYNEX</td>\n",
       "      <td id=\"T_9686f_row20_col1\" class=\"data row20 col1\" >12.50</td>\n",
       "      <td id=\"T_9686f_row20_col2\" class=\"data row20 col2\" >12.30</td>\n",
       "      <td id=\"T_9686f_row20_col3\" class=\"data row20 col3\" >1.63%</td>\n",
       "      <td id=\"T_9686f_row20_col4\" class=\"data row20 col4\" >Better</td>\n",
       "    </tr>\n",
       "    <tr>\n",
       "      <th id=\"T_9686f_level0_row21\" class=\"row_heading level0 row21\" >11</th>\n",
       "      <td id=\"T_9686f_row21_col0\" class=\"data row21 col0\" >JMT</td>\n",
       "      <td id=\"T_9686f_row21_col1\" class=\"data row21 col1\" >12.50</td>\n",
       "      <td id=\"T_9686f_row21_col2\" class=\"data row21 col2\" >12.30</td>\n",
       "      <td id=\"T_9686f_row21_col3\" class=\"data row21 col3\" >1.63%</td>\n",
       "      <td id=\"T_9686f_row21_col4\" class=\"data row21 col4\" >Better</td>\n",
       "    </tr>\n",
       "    <tr>\n",
       "      <th id=\"T_9686f_level0_row22\" class=\"row_heading level0 row22\" >24</th>\n",
       "      <td id=\"T_9686f_row22_col0\" class=\"data row22 col0\" >TFFIF</td>\n",
       "      <td id=\"T_9686f_row22_col1\" class=\"data row22 col1\" >6.15</td>\n",
       "      <td id=\"T_9686f_row22_col2\" class=\"data row22 col2\" >6.05</td>\n",
       "      <td id=\"T_9686f_row22_col3\" class=\"data row22 col3\" >1.65%</td>\n",
       "      <td id=\"T_9686f_row22_col4\" class=\"data row22 col4\" >Better</td>\n",
       "    </tr>\n",
       "    <tr>\n",
       "      <th id=\"T_9686f_level0_row23\" class=\"row_heading level0 row23\" >19</th>\n",
       "      <td id=\"T_9686f_row23_col0\" class=\"data row23 col0\" >SCC</td>\n",
       "      <td id=\"T_9686f_row23_col1\" class=\"data row23 col1\" >226.00</td>\n",
       "      <td id=\"T_9686f_row23_col2\" class=\"data row23 col2\" >222.00</td>\n",
       "      <td id=\"T_9686f_row23_col3\" class=\"data row23 col3\" >1.80%</td>\n",
       "      <td id=\"T_9686f_row23_col4\" class=\"data row23 col4\" >Better</td>\n",
       "    </tr>\n",
       "    <tr>\n",
       "      <th id=\"T_9686f_level0_row24\" class=\"row_heading level0 row24\" >13</th>\n",
       "      <td id=\"T_9686f_row24_col0\" class=\"data row24 col0\" >NER</td>\n",
       "      <td id=\"T_9686f_row24_col1\" class=\"data row24 col1\" >4.30</td>\n",
       "      <td id=\"T_9686f_row24_col2\" class=\"data row24 col2\" >4.20</td>\n",
       "      <td id=\"T_9686f_row24_col3\" class=\"data row24 col3\" >2.38%</td>\n",
       "      <td id=\"T_9686f_row24_col4\" class=\"data row24 col4\" >Better</td>\n",
       "    </tr>\n",
       "    <tr>\n",
       "      <th id=\"T_9686f_level0_row25\" class=\"row_heading level0 row25\" >27</th>\n",
       "      <td id=\"T_9686f_row25_col0\" class=\"data row25 col0\" >WHAIR</td>\n",
       "      <td id=\"T_9686f_row25_col1\" class=\"data row25 col1\" >6.05</td>\n",
       "      <td id=\"T_9686f_row25_col2\" class=\"data row25 col2\" >5.90</td>\n",
       "      <td id=\"T_9686f_row25_col3\" class=\"data row25 col3\" >2.54%</td>\n",
       "      <td id=\"T_9686f_row25_col4\" class=\"data row25 col4\" >Better</td>\n",
       "    </tr>\n",
       "    <tr>\n",
       "      <th id=\"T_9686f_level0_row26\" class=\"row_heading level0 row26\" >28</th>\n",
       "      <td id=\"T_9686f_row26_col0\" class=\"data row26 col0\" >WHART</td>\n",
       "      <td id=\"T_9686f_row26_col1\" class=\"data row26 col1\" >9.70</td>\n",
       "      <td id=\"T_9686f_row26_col2\" class=\"data row26 col2\" >9.45</td>\n",
       "      <td id=\"T_9686f_row26_col3\" class=\"data row26 col3\" >2.65%</td>\n",
       "      <td id=\"T_9686f_row26_col4\" class=\"data row26 col4\" >Better</td>\n",
       "    </tr>\n",
       "    <tr>\n",
       "      <th id=\"T_9686f_level0_row27\" class=\"row_heading level0 row27\" >21</th>\n",
       "      <td id=\"T_9686f_row27_col0\" class=\"data row27 col0\" >SINGER</td>\n",
       "      <td id=\"T_9686f_row27_col1\" class=\"data row27 col1\" >7.45</td>\n",
       "      <td id=\"T_9686f_row27_col2\" class=\"data row27 col2\" >7.20</td>\n",
       "      <td id=\"T_9686f_row27_col3\" class=\"data row27 col3\" >3.47%</td>\n",
       "      <td id=\"T_9686f_row27_col4\" class=\"data row27 col4\" >Better</td>\n",
       "    </tr>\n",
       "    <tr>\n",
       "      <th id=\"T_9686f_level0_row28\" class=\"row_heading level0 row28\" >15</th>\n",
       "      <td id=\"T_9686f_row28_col0\" class=\"data row28 col0\" >PTG</td>\n",
       "      <td id=\"T_9686f_row28_col1\" class=\"data row28 col1\" >9.10</td>\n",
       "      <td id=\"T_9686f_row28_col2\" class=\"data row28 col2\" >8.70</td>\n",
       "      <td id=\"T_9686f_row28_col3\" class=\"data row28 col3\" >4.60%</td>\n",
       "      <td id=\"T_9686f_row28_col4\" class=\"data row28 col4\" >Better</td>\n",
       "    </tr>\n",
       "  </tbody>\n",
       "</table>\n"
      ],
      "text/plain": [
       "<pandas.io.formats.style.Styler at 0x1ce41ee0e90>"
      ]
     },
     "execution_count": 17,
     "metadata": {},
     "output_type": "execute_result"
    }
   ],
   "source": [
    "trend.sort_values(by=['percent'],ascending=[True]).style.format(format_dict)"
   ]
  },
  {
   "cell_type": "code",
   "execution_count": 18,
   "metadata": {},
   "outputs": [],
   "source": [
    "file_name = 'trend.csv'\n",
    "output_file = os.path.join(dat_path, file_name)\n",
    "god_file = os.path.join(god_path, file_name)\n",
    "icd_file = os.path.join(icd_path, file_name)\n",
    "osd_file = os.path.join(osd_path, file_name)"
   ]
  },
  {
   "cell_type": "code",
   "execution_count": 19,
   "metadata": {},
   "outputs": [
    {
     "name": "stdout",
     "output_type": "stream",
     "text": [
      "Output file : C:\\Users\\PC1\\OneDrive\\A5\\Data\\trend.csv\n",
      "icd_file : C:\\Users\\PC1\\iCloudDrive\\Data\\trend.csv\n",
      "god_file : C:\\Users\\PC1\\OneDrive\\Imports\\santisoontarinka@gmail.com - Google Drive\\Data\\trend.csv\n",
      "osd_file : C:\\Users\\PC1\\OneDrive\\Documents\\obsidian-git-sync\\Data\\trend.csv\n"
     ]
    }
   ],
   "source": [
    "print(f\"Output file : {output_file}\") \n",
    "print(f\"icd_file : {icd_file}\") \n",
    "print(f\"god_file : {god_file}\") \n",
    "print(f\"osd_file : {osd_file}\")"
   ]
  },
  {
   "cell_type": "code",
   "execution_count": 20,
   "metadata": {},
   "outputs": [],
   "source": [
    "trend.sort_values(['percent'],ascending=[True]).to_csv(output_file, index=False)\n",
    "trend.sort_values(['percent'],ascending=[True]).to_csv(god_file, index=False)\n",
    "trend.sort_values(['percent'],ascending=[True]).to_csv(icd_file, index=False)\n",
    "trend.sort_values(['percent'],ascending=[True]).to_csv(osd_file, index=False)"
   ]
  },
  {
   "cell_type": "markdown",
   "metadata": {},
   "source": [
    "### Filter only performance = \"Worse\""
   ]
  },
  {
   "cell_type": "code",
   "execution_count": 22,
   "metadata": {},
   "outputs": [
    {
     "data": {
      "text/html": [
       "<div>\n",
       "<style scoped>\n",
       "    .dataframe tbody tr th:only-of-type {\n",
       "        vertical-align: middle;\n",
       "    }\n",
       "\n",
       "    .dataframe tbody tr th {\n",
       "        vertical-align: top;\n",
       "    }\n",
       "\n",
       "    .dataframe thead th {\n",
       "        text-align: right;\n",
       "    }\n",
       "</style>\n",
       "<table border=\"1\" class=\"dataframe\">\n",
       "  <thead>\n",
       "    <tr style=\"text-align: right;\">\n",
       "      <th></th>\n",
       "      <th>name</th>\n",
       "      <th>price_d</th>\n",
       "      <th>price_w</th>\n",
       "      <th>percent</th>\n",
       "      <th>perform</th>\n",
       "    </tr>\n",
       "  </thead>\n",
       "  <tbody>\n",
       "    <tr>\n",
       "      <th>17</th>\n",
       "      <td>PTTGC</td>\n",
       "      <td>26.25</td>\n",
       "      <td>27.25</td>\n",
       "      <td>-3.67</td>\n",
       "      <td>Worse</td>\n",
       "    </tr>\n",
       "    <tr>\n",
       "      <th>18</th>\n",
       "      <td>RCL</td>\n",
       "      <td>27.00</td>\n",
       "      <td>27.25</td>\n",
       "      <td>-0.92</td>\n",
       "      <td>Worse</td>\n",
       "    </tr>\n",
       "    <tr>\n",
       "      <th>20</th>\n",
       "      <td>SENA</td>\n",
       "      <td>1.95</td>\n",
       "      <td>1.97</td>\n",
       "      <td>-1.02</td>\n",
       "      <td>Worse</td>\n",
       "    </tr>\n",
       "    <tr>\n",
       "      <th>22</th>\n",
       "      <td>STA</td>\n",
       "      <td>12.70</td>\n",
       "      <td>12.80</td>\n",
       "      <td>-0.78</td>\n",
       "      <td>Worse</td>\n",
       "    </tr>\n",
       "    <tr>\n",
       "      <th>25</th>\n",
       "      <td>TOA</td>\n",
       "      <td>14.00</td>\n",
       "      <td>14.30</td>\n",
       "      <td>-2.10</td>\n",
       "      <td>Worse</td>\n",
       "    </tr>\n",
       "  </tbody>\n",
       "</table>\n",
       "</div>"
      ],
      "text/plain": [
       "     name  price_d  price_w  percent perform\n",
       "17  PTTGC    26.25    27.25    -3.67   Worse\n",
       "18    RCL    27.00    27.25    -0.92   Worse\n",
       "20   SENA     1.95     1.97    -1.02   Worse\n",
       "22    STA    12.70    12.80    -0.78   Worse\n",
       "25    TOA    14.00    14.30    -2.10   Worse"
      ]
     },
     "execution_count": 22,
     "metadata": {},
     "output_type": "execute_result"
    }
   ],
   "source": [
    "mask = trend.perform == 'Worse'\n",
    "trend[mask].tail()"
   ]
  },
  {
   "cell_type": "code",
   "execution_count": 23,
   "metadata": {},
   "outputs": [
    {
     "data": {
      "text/html": [
       "<style type=\"text/css\">\n",
       "</style>\n",
       "<table id=\"T_3fa73\">\n",
       "  <thead>\n",
       "    <tr>\n",
       "      <th class=\"blank level0\" >&nbsp;</th>\n",
       "      <th id=\"T_3fa73_level0_col0\" class=\"col_heading level0 col0\" >proportion</th>\n",
       "    </tr>\n",
       "    <tr>\n",
       "      <th class=\"index_name level0\" >perform</th>\n",
       "      <th class=\"blank col0\" >&nbsp;</th>\n",
       "    </tr>\n",
       "  </thead>\n",
       "  <tbody>\n",
       "    <tr>\n",
       "      <th id=\"T_3fa73_level0_row0\" class=\"row_heading level0 row0\" >Better</th>\n",
       "      <td id=\"T_3fa73_row0_col0\" class=\"data row0 col0\" >44.83%</td>\n",
       "    </tr>\n",
       "    <tr>\n",
       "      <th id=\"T_3fa73_level0_row1\" class=\"row_heading level0 row1\" >Worse</th>\n",
       "      <td id=\"T_3fa73_row1_col0\" class=\"data row1 col0\" >37.93%</td>\n",
       "    </tr>\n",
       "    <tr>\n",
       "      <th id=\"T_3fa73_level0_row2\" class=\"row_heading level0 row2\" >No Change</th>\n",
       "      <td id=\"T_3fa73_row2_col0\" class=\"data row2 col0\" >17.24%</td>\n",
       "    </tr>\n",
       "  </tbody>\n",
       "</table>\n"
      ],
      "text/plain": [
       "<pandas.io.formats.style.Styler at 0x1ce42d23a10>"
      ]
     },
     "execution_count": 23,
     "metadata": {},
     "output_type": "execute_result"
    }
   ],
   "source": [
    "trend.perform.value_counts(normalize=True).to_frame().style.format('{:.2%}')"
   ]
  },
  {
   "cell_type": "code",
   "execution_count": 24,
   "metadata": {},
   "outputs": [
    {
     "data": {
      "text/plain": [
       "(246, 8)"
      ]
     },
     "execution_count": 24,
     "metadata": {},
     "output_type": "execute_result"
    }
   ],
   "source": [
    "sql = '''\n",
    "SELECT name, max_price AS max, min_price AS min, pe, pbv, daily_volume AS volume, beta, market\n",
    "FROM stocks\n",
    "'''\n",
    "my_stocks = pd.read_sql(sql, conmy)\n",
    "my_stocks.shape"
   ]
  },
  {
   "cell_type": "code",
   "execution_count": 25,
   "metadata": {},
   "outputs": [],
   "source": [
    "filters = [\n",
    "   (my_stocks.market.str.contains('SET50')),\n",
    "   (my_stocks.market.str.contains('SET100')),\n",
    "   (my_stocks.market.str.contains('mai'))]\n",
    "values = ['SET50','SET100','mai']\n",
    "my_stocks[\"mrkt\"] = np.select(filters, values, default='SET999')"
   ]
  },
  {
   "cell_type": "code",
   "execution_count": 26,
   "metadata": {},
   "outputs": [
    {
     "data": {
      "text/html": [
       "<div>\n",
       "<style scoped>\n",
       "    .dataframe tbody tr th:only-of-type {\n",
       "        vertical-align: middle;\n",
       "    }\n",
       "\n",
       "    .dataframe tbody tr th {\n",
       "        vertical-align: top;\n",
       "    }\n",
       "\n",
       "    .dataframe thead th {\n",
       "        text-align: right;\n",
       "    }\n",
       "</style>\n",
       "<table border=\"1\" class=\"dataframe\">\n",
       "  <thead>\n",
       "    <tr style=\"text-align: right;\">\n",
       "      <th></th>\n",
       "      <th>name</th>\n",
       "      <th>price_d</th>\n",
       "      <th>price_w</th>\n",
       "      <th>percent</th>\n",
       "      <th>perform</th>\n",
       "      <th>max</th>\n",
       "      <th>min</th>\n",
       "      <th>pe</th>\n",
       "      <th>pbv</th>\n",
       "      <th>volume</th>\n",
       "      <th>beta</th>\n",
       "      <th>market</th>\n",
       "      <th>mrkt</th>\n",
       "    </tr>\n",
       "  </thead>\n",
       "  <tbody>\n",
       "    <tr>\n",
       "      <th>13</th>\n",
       "      <td>NER</td>\n",
       "      <td>4.30</td>\n",
       "      <td>4.20</td>\n",
       "      <td>2.38</td>\n",
       "      <td>Better</td>\n",
       "      <td>7.65</td>\n",
       "      <td>5.40</td>\n",
       "      <td>6.05</td>\n",
       "      <td>1.93</td>\n",
       "      <td>51.38</td>\n",
       "      <td>0.89</td>\n",
       "      <td>sSET / SETTHSI</td>\n",
       "      <td>SET999</td>\n",
       "    </tr>\n",
       "    <tr>\n",
       "      <th>27</th>\n",
       "      <td>WHAIR</td>\n",
       "      <td>6.05</td>\n",
       "      <td>5.90</td>\n",
       "      <td>2.54</td>\n",
       "      <td>Better</td>\n",
       "      <td>9.06</td>\n",
       "      <td>7.02</td>\n",
       "      <td>999.99</td>\n",
       "      <td>0.84</td>\n",
       "      <td>8.83</td>\n",
       "      <td>0.22</td>\n",
       "      <td>SET</td>\n",
       "      <td>SET999</td>\n",
       "    </tr>\n",
       "    <tr>\n",
       "      <th>28</th>\n",
       "      <td>WHART</td>\n",
       "      <td>9.70</td>\n",
       "      <td>9.45</td>\n",
       "      <td>2.65</td>\n",
       "      <td>Better</td>\n",
       "      <td>12.60</td>\n",
       "      <td>9.65</td>\n",
       "      <td>999.99</td>\n",
       "      <td>1.07</td>\n",
       "      <td>27.38</td>\n",
       "      <td>0.44</td>\n",
       "      <td>SET</td>\n",
       "      <td>SET999</td>\n",
       "    </tr>\n",
       "    <tr>\n",
       "      <th>21</th>\n",
       "      <td>SINGER</td>\n",
       "      <td>7.45</td>\n",
       "      <td>7.20</td>\n",
       "      <td>3.47</td>\n",
       "      <td>Better</td>\n",
       "      <td>59.25</td>\n",
       "      <td>26.25</td>\n",
       "      <td>23.53</td>\n",
       "      <td>1.49</td>\n",
       "      <td>159.28</td>\n",
       "      <td>2.26</td>\n",
       "      <td>SET100 / SETWB</td>\n",
       "      <td>SET100</td>\n",
       "    </tr>\n",
       "    <tr>\n",
       "      <th>15</th>\n",
       "      <td>PTG</td>\n",
       "      <td>9.10</td>\n",
       "      <td>8.70</td>\n",
       "      <td>4.60</td>\n",
       "      <td>Better</td>\n",
       "      <td>16.40</td>\n",
       "      <td>12.90</td>\n",
       "      <td>26.07</td>\n",
       "      <td>2.59</td>\n",
       "      <td>187.88</td>\n",
       "      <td>1.24</td>\n",
       "      <td>SET100 / SETTHSI</td>\n",
       "      <td>SET100</td>\n",
       "    </tr>\n",
       "  </tbody>\n",
       "</table>\n",
       "</div>"
      ],
      "text/plain": [
       "      name  price_d  price_w  percent perform   max   min     pe  pbv  volume  \\\n",
       "13     NER     4.30     4.20     2.38  Better  7.65  5.40   6.05 1.93   51.38   \n",
       "27   WHAIR     6.05     5.90     2.54  Better  9.06  7.02 999.99 0.84    8.83   \n",
       "28   WHART     9.70     9.45     2.65  Better 12.60  9.65 999.99 1.07   27.38   \n",
       "21  SINGER     7.45     7.20     3.47  Better 59.25 26.25  23.53 1.49  159.28   \n",
       "15     PTG     9.10     8.70     4.60  Better 16.40 12.90  26.07 2.59  187.88   \n",
       "\n",
       "    beta                market    mrkt  \n",
       "13  0.89    sSET / SETTHSI      SET999  \n",
       "27  0.22               SET      SET999  \n",
       "28  0.44               SET      SET999  \n",
       "21  2.26    SET100 / SETWB      SET100  \n",
       "15  1.24  SET100 / SETTHSI      SET100  "
      ]
     },
     "execution_count": 26,
     "metadata": {},
     "output_type": "execute_result"
    }
   ],
   "source": [
    "trend2 = pd.merge(trend, my_stocks, on='name', how='inner')\n",
    "trend2.sort_values(['percent'],ascending=[True]).tail()"
   ]
  },
  {
   "cell_type": "code",
   "execution_count": 27,
   "metadata": {},
   "outputs": [
    {
     "data": {
      "text/html": [
       "<style type=\"text/css\">\n",
       "</style>\n",
       "<table id=\"T_378bb\">\n",
       "  <thead>\n",
       "    <tr>\n",
       "      <th class=\"blank level0\" >&nbsp;</th>\n",
       "      <th id=\"T_378bb_level0_col0\" class=\"col_heading level0 col0\" >name</th>\n",
       "      <th id=\"T_378bb_level0_col1\" class=\"col_heading level0 col1\" >price_w</th>\n",
       "      <th id=\"T_378bb_level0_col2\" class=\"col_heading level0 col2\" >price_d</th>\n",
       "      <th id=\"T_378bb_level0_col3\" class=\"col_heading level0 col3\" >percent</th>\n",
       "      <th id=\"T_378bb_level0_col4\" class=\"col_heading level0 col4\" >perform</th>\n",
       "      <th id=\"T_378bb_level0_col5\" class=\"col_heading level0 col5\" >mrkt</th>\n",
       "    </tr>\n",
       "  </thead>\n",
       "  <tbody>\n",
       "    <tr>\n",
       "      <th id=\"T_378bb_level0_row0\" class=\"row_heading level0 row0\" >17</th>\n",
       "      <td id=\"T_378bb_row0_col0\" class=\"data row0 col0\" >PTTGC</td>\n",
       "      <td id=\"T_378bb_row0_col1\" class=\"data row0 col1\" >27.25</td>\n",
       "      <td id=\"T_378bb_row0_col2\" class=\"data row0 col2\" >26.25</td>\n",
       "      <td id=\"T_378bb_row0_col3\" class=\"data row0 col3\" >-3.67%</td>\n",
       "      <td id=\"T_378bb_row0_col4\" class=\"data row0 col4\" >Worse</td>\n",
       "      <td id=\"T_378bb_row0_col5\" class=\"data row0 col5\" >SET50</td>\n",
       "    </tr>\n",
       "    <tr>\n",
       "      <th id=\"T_378bb_level0_row1\" class=\"row_heading level0 row1\" >5</th>\n",
       "      <td id=\"T_378bb_row1_col0\" class=\"data row1 col0\" >CPF</td>\n",
       "      <td id=\"T_378bb_row1_col1\" class=\"data row1 col1\" >23.00</td>\n",
       "      <td id=\"T_378bb_row1_col2\" class=\"data row1 col2\" >22.20</td>\n",
       "      <td id=\"T_378bb_row1_col3\" class=\"data row1 col3\" >-3.48%</td>\n",
       "      <td id=\"T_378bb_row1_col4\" class=\"data row1 col4\" >Worse</td>\n",
       "      <td id=\"T_378bb_row1_col5\" class=\"data row1 col5\" >SET50</td>\n",
       "    </tr>\n",
       "    <tr>\n",
       "      <th id=\"T_378bb_level0_row2\" class=\"row_heading level0 row2\" >9</th>\n",
       "      <td id=\"T_378bb_row2_col0\" class=\"data row2 col0\" >IVL</td>\n",
       "      <td id=\"T_378bb_row2_col1\" class=\"data row2 col1\" >22.80</td>\n",
       "      <td id=\"T_378bb_row2_col2\" class=\"data row2 col2\" >22.40</td>\n",
       "      <td id=\"T_378bb_row2_col3\" class=\"data row2 col3\" >-1.75%</td>\n",
       "      <td id=\"T_378bb_row2_col4\" class=\"data row2 col4\" >Worse</td>\n",
       "      <td id=\"T_378bb_row2_col5\" class=\"data row2 col5\" >SET50</td>\n",
       "    </tr>\n",
       "    <tr>\n",
       "      <th id=\"T_378bb_level0_row3\" class=\"row_heading level0 row3\" >3</th>\n",
       "      <td id=\"T_378bb_row3_col0\" class=\"data row3 col0\" >AWC</td>\n",
       "      <td id=\"T_378bb_row3_col1\" class=\"data row3 col1\" >2.38</td>\n",
       "      <td id=\"T_378bb_row3_col2\" class=\"data row3 col2\" >2.36</td>\n",
       "      <td id=\"T_378bb_row3_col3\" class=\"data row3 col3\" >-0.84%</td>\n",
       "      <td id=\"T_378bb_row3_col4\" class=\"data row3 col4\" >Worse</td>\n",
       "      <td id=\"T_378bb_row3_col5\" class=\"data row3 col5\" >SET50</td>\n",
       "    </tr>\n",
       "    <tr>\n",
       "      <th id=\"T_378bb_level0_row4\" class=\"row_heading level0 row4\" >16</th>\n",
       "      <td id=\"T_378bb_row4_col0\" class=\"data row4 col0\" >PTT</td>\n",
       "      <td id=\"T_378bb_row4_col1\" class=\"data row4 col1\" >33.00</td>\n",
       "      <td id=\"T_378bb_row4_col2\" class=\"data row4 col2\" >33.25</td>\n",
       "      <td id=\"T_378bb_row4_col3\" class=\"data row4 col3\" >0.76%</td>\n",
       "      <td id=\"T_378bb_row4_col4\" class=\"data row4 col4\" >Better</td>\n",
       "      <td id=\"T_378bb_row4_col5\" class=\"data row4 col5\" >SET50</td>\n",
       "    </tr>\n",
       "    <tr>\n",
       "      <th id=\"T_378bb_level0_row5\" class=\"row_heading level0 row5\" >10</th>\n",
       "      <td id=\"T_378bb_row5_col0\" class=\"data row5 col0\" >JMART</td>\n",
       "      <td id=\"T_378bb_row5_col1\" class=\"data row5 col1\" >9.65</td>\n",
       "      <td id=\"T_378bb_row5_col2\" class=\"data row5 col2\" >9.75</td>\n",
       "      <td id=\"T_378bb_row5_col3\" class=\"data row5 col3\" >1.04%</td>\n",
       "      <td id=\"T_378bb_row5_col4\" class=\"data row5 col4\" >Better</td>\n",
       "      <td id=\"T_378bb_row5_col5\" class=\"data row5 col5\" >SET50</td>\n",
       "    </tr>\n",
       "    <tr>\n",
       "      <th id=\"T_378bb_level0_row6\" class=\"row_heading level0 row6\" >11</th>\n",
       "      <td id=\"T_378bb_row6_col0\" class=\"data row6 col0\" >JMT</td>\n",
       "      <td id=\"T_378bb_row6_col1\" class=\"data row6 col1\" >12.30</td>\n",
       "      <td id=\"T_378bb_row6_col2\" class=\"data row6 col2\" >12.50</td>\n",
       "      <td id=\"T_378bb_row6_col3\" class=\"data row6 col3\" >1.63%</td>\n",
       "      <td id=\"T_378bb_row6_col4\" class=\"data row6 col4\" >Better</td>\n",
       "      <td id=\"T_378bb_row6_col5\" class=\"data row6 col5\" >SET50</td>\n",
       "    </tr>\n",
       "    <tr>\n",
       "      <th id=\"T_378bb_level0_row7\" class=\"row_heading level0 row7\" >19</th>\n",
       "      <td id=\"T_378bb_row7_col0\" class=\"data row7 col0\" >SCC</td>\n",
       "      <td id=\"T_378bb_row7_col1\" class=\"data row7 col1\" >222.00</td>\n",
       "      <td id=\"T_378bb_row7_col2\" class=\"data row7 col2\" >226.00</td>\n",
       "      <td id=\"T_378bb_row7_col3\" class=\"data row7 col3\" >1.80%</td>\n",
       "      <td id=\"T_378bb_row7_col4\" class=\"data row7 col4\" >Better</td>\n",
       "      <td id=\"T_378bb_row7_col5\" class=\"data row7 col5\" >SET50</td>\n",
       "    </tr>\n",
       "  </tbody>\n",
       "</table>\n"
      ],
      "text/plain": [
       "<pandas.io.formats.style.Styler at 0x1ce42d4fef0>"
      ]
     },
     "execution_count": 27,
     "metadata": {},
     "output_type": "execute_result"
    }
   ],
   "source": [
    "set50 = trend2.mrkt.str.contains('SET50') \n",
    "flt_set50 = trend2[set50]\n",
    "flt_set50[cols].sort_values(by=['percent','name'],ascending=[True,True]).style.format(format_dict)"
   ]
  },
  {
   "cell_type": "code",
   "execution_count": 28,
   "metadata": {},
   "outputs": [
    {
     "data": {
      "text/html": [
       "<style type=\"text/css\">\n",
       "</style>\n",
       "<table id=\"T_05bd8\">\n",
       "  <thead>\n",
       "    <tr>\n",
       "      <th class=\"blank level0\" >&nbsp;</th>\n",
       "      <th id=\"T_05bd8_level0_col0\" class=\"col_heading level0 col0\" >proportion</th>\n",
       "    </tr>\n",
       "    <tr>\n",
       "      <th class=\"index_name level0\" >perform</th>\n",
       "      <th class=\"blank col0\" >&nbsp;</th>\n",
       "    </tr>\n",
       "  </thead>\n",
       "  <tbody>\n",
       "    <tr>\n",
       "      <th id=\"T_05bd8_level0_row0\" class=\"row_heading level0 row0\" >Worse</th>\n",
       "      <td id=\"T_05bd8_row0_col0\" class=\"data row0 col0\" >50.00%</td>\n",
       "    </tr>\n",
       "    <tr>\n",
       "      <th id=\"T_05bd8_level0_row1\" class=\"row_heading level0 row1\" >Better</th>\n",
       "      <td id=\"T_05bd8_row1_col0\" class=\"data row1 col0\" >50.00%</td>\n",
       "    </tr>\n",
       "  </tbody>\n",
       "</table>\n"
      ],
      "text/plain": [
       "<pandas.io.formats.style.Styler at 0x1ce42dc91f0>"
      ]
     },
     "execution_count": 28,
     "metadata": {},
     "output_type": "execute_result"
    }
   ],
   "source": [
    "flt_set50.perform.value_counts(normalize=True).to_frame().style.format('{:.2%}')"
   ]
  },
  {
   "cell_type": "code",
   "execution_count": 29,
   "metadata": {
    "scrolled": true
   },
   "outputs": [
    {
     "data": {
      "text/html": [
       "<style type=\"text/css\">\n",
       "</style>\n",
       "<table id=\"T_79759\">\n",
       "  <thead>\n",
       "    <tr>\n",
       "      <th class=\"blank level0\" >&nbsp;</th>\n",
       "      <th id=\"T_79759_level0_col0\" class=\"col_heading level0 col0\" >name</th>\n",
       "      <th id=\"T_79759_level0_col1\" class=\"col_heading level0 col1\" >price_w</th>\n",
       "      <th id=\"T_79759_level0_col2\" class=\"col_heading level0 col2\" >price_d</th>\n",
       "      <th id=\"T_79759_level0_col3\" class=\"col_heading level0 col3\" >percent</th>\n",
       "      <th id=\"T_79759_level0_col4\" class=\"col_heading level0 col4\" >perform</th>\n",
       "      <th id=\"T_79759_level0_col5\" class=\"col_heading level0 col5\" >mrkt</th>\n",
       "    </tr>\n",
       "  </thead>\n",
       "  <tbody>\n",
       "    <tr>\n",
       "      <th id=\"T_79759_level0_row0\" class=\"row_heading level0 row0\" >4</th>\n",
       "      <td id=\"T_79759_row0_col0\" class=\"data row0 col0\" >BCH</td>\n",
       "      <td id=\"T_79759_row0_col1\" class=\"data row0 col1\" >13.50</td>\n",
       "      <td id=\"T_79759_row0_col2\" class=\"data row0 col2\" >13.10</td>\n",
       "      <td id=\"T_79759_row0_col3\" class=\"data row0 col3\" >-2.96%</td>\n",
       "      <td id=\"T_79759_row0_col4\" class=\"data row0 col4\" >Worse</td>\n",
       "      <td id=\"T_79759_row0_col5\" class=\"data row0 col5\" >SET100</td>\n",
       "    </tr>\n",
       "    <tr>\n",
       "      <th id=\"T_79759_level0_row1\" class=\"row_heading level0 row1\" >18</th>\n",
       "      <td id=\"T_79759_row1_col0\" class=\"data row1 col0\" >RCL</td>\n",
       "      <td id=\"T_79759_row1_col1\" class=\"data row1 col1\" >27.25</td>\n",
       "      <td id=\"T_79759_row1_col2\" class=\"data row1 col2\" >27.00</td>\n",
       "      <td id=\"T_79759_row1_col3\" class=\"data row1 col3\" >-0.92%</td>\n",
       "      <td id=\"T_79759_row1_col4\" class=\"data row1 col4\" >Worse</td>\n",
       "      <td id=\"T_79759_row1_col5\" class=\"data row1 col5\" >SET100</td>\n",
       "    </tr>\n",
       "    <tr>\n",
       "      <th id=\"T_79759_level0_row2\" class=\"row_heading level0 row2\" >22</th>\n",
       "      <td id=\"T_79759_row2_col0\" class=\"data row2 col0\" >STA</td>\n",
       "      <td id=\"T_79759_row2_col1\" class=\"data row2 col1\" >12.80</td>\n",
       "      <td id=\"T_79759_row2_col2\" class=\"data row2 col2\" >12.70</td>\n",
       "      <td id=\"T_79759_row2_col3\" class=\"data row2 col3\" >-0.78%</td>\n",
       "      <td id=\"T_79759_row2_col4\" class=\"data row2 col4\" >Worse</td>\n",
       "      <td id=\"T_79759_row2_col5\" class=\"data row2 col5\" >SET100</td>\n",
       "    </tr>\n",
       "    <tr>\n",
       "      <th id=\"T_79759_level0_row3\" class=\"row_heading level0 row3\" >14</th>\n",
       "      <td id=\"T_79759_row3_col0\" class=\"data row3 col0\" >ORI</td>\n",
       "      <td id=\"T_79759_row3_col1\" class=\"data row3 col1\" >2.80</td>\n",
       "      <td id=\"T_79759_row3_col2\" class=\"data row3 col2\" >2.82</td>\n",
       "      <td id=\"T_79759_row3_col3\" class=\"data row3 col3\" >0.71%</td>\n",
       "      <td id=\"T_79759_row3_col4\" class=\"data row3 col4\" >Better</td>\n",
       "      <td id=\"T_79759_row3_col5\" class=\"data row3 col5\" >SET100</td>\n",
       "    </tr>\n",
       "    <tr>\n",
       "      <th id=\"T_79759_level0_row4\" class=\"row_heading level0 row4\" >21</th>\n",
       "      <td id=\"T_79759_row4_col0\" class=\"data row4 col0\" >SINGER</td>\n",
       "      <td id=\"T_79759_row4_col1\" class=\"data row4 col1\" >7.20</td>\n",
       "      <td id=\"T_79759_row4_col2\" class=\"data row4 col2\" >7.45</td>\n",
       "      <td id=\"T_79759_row4_col3\" class=\"data row4 col3\" >3.47%</td>\n",
       "      <td id=\"T_79759_row4_col4\" class=\"data row4 col4\" >Better</td>\n",
       "      <td id=\"T_79759_row4_col5\" class=\"data row4 col5\" >SET100</td>\n",
       "    </tr>\n",
       "    <tr>\n",
       "      <th id=\"T_79759_level0_row5\" class=\"row_heading level0 row5\" >15</th>\n",
       "      <td id=\"T_79759_row5_col0\" class=\"data row5 col0\" >PTG</td>\n",
       "      <td id=\"T_79759_row5_col1\" class=\"data row5 col1\" >8.70</td>\n",
       "      <td id=\"T_79759_row5_col2\" class=\"data row5 col2\" >9.10</td>\n",
       "      <td id=\"T_79759_row5_col3\" class=\"data row5 col3\" >4.60%</td>\n",
       "      <td id=\"T_79759_row5_col4\" class=\"data row5 col4\" >Better</td>\n",
       "      <td id=\"T_79759_row5_col5\" class=\"data row5 col5\" >SET100</td>\n",
       "    </tr>\n",
       "  </tbody>\n",
       "</table>\n"
      ],
      "text/plain": [
       "<pandas.io.formats.style.Styler at 0x1ce42dcade0>"
      ]
     },
     "execution_count": 29,
     "metadata": {},
     "output_type": "execute_result"
    }
   ],
   "source": [
    "set100 = trend2.mrkt.str.contains('SET100')\n",
    "flt_set100 = trend2[set100]\n",
    "flt_set100[cols].sort_values(by=['percent','name'],ascending=[True,True]).style.format(format_dict)"
   ]
  },
  {
   "cell_type": "code",
   "execution_count": 30,
   "metadata": {},
   "outputs": [
    {
     "data": {
      "text/html": [
       "<style type=\"text/css\">\n",
       "</style>\n",
       "<table id=\"T_00291\">\n",
       "  <thead>\n",
       "    <tr>\n",
       "      <th class=\"blank level0\" >&nbsp;</th>\n",
       "      <th id=\"T_00291_level0_col0\" class=\"col_heading level0 col0\" >proportion</th>\n",
       "    </tr>\n",
       "    <tr>\n",
       "      <th class=\"index_name level0\" >perform</th>\n",
       "      <th class=\"blank col0\" >&nbsp;</th>\n",
       "    </tr>\n",
       "  </thead>\n",
       "  <tbody>\n",
       "    <tr>\n",
       "      <th id=\"T_00291_level0_row0\" class=\"row_heading level0 row0\" >Worse</th>\n",
       "      <td id=\"T_00291_row0_col0\" class=\"data row0 col0\" >50.00%</td>\n",
       "    </tr>\n",
       "    <tr>\n",
       "      <th id=\"T_00291_level0_row1\" class=\"row_heading level0 row1\" >Better</th>\n",
       "      <td id=\"T_00291_row1_col0\" class=\"data row1 col0\" >50.00%</td>\n",
       "    </tr>\n",
       "  </tbody>\n",
       "</table>\n"
      ],
      "text/plain": [
       "<pandas.io.formats.style.Styler at 0x1ce42dcb470>"
      ]
     },
     "execution_count": 30,
     "metadata": {},
     "output_type": "execute_result"
    }
   ],
   "source": [
    "flt_set100[cols].perform.value_counts(normalize=True).to_frame().style.format('{:.2%}')"
   ]
  },
  {
   "cell_type": "code",
   "execution_count": 31,
   "metadata": {},
   "outputs": [
    {
     "data": {
      "text/html": [
       "<style type=\"text/css\">\n",
       "</style>\n",
       "<table id=\"T_417df\">\n",
       "  <thead>\n",
       "    <tr>\n",
       "      <th class=\"blank level0\" >&nbsp;</th>\n",
       "      <th id=\"T_417df_level0_col0\" class=\"col_heading level0 col0\" >name</th>\n",
       "      <th id=\"T_417df_level0_col1\" class=\"col_heading level0 col1\" >price_w</th>\n",
       "      <th id=\"T_417df_level0_col2\" class=\"col_heading level0 col2\" >price_d</th>\n",
       "      <th id=\"T_417df_level0_col3\" class=\"col_heading level0 col3\" >percent</th>\n",
       "      <th id=\"T_417df_level0_col4\" class=\"col_heading level0 col4\" >perform</th>\n",
       "      <th id=\"T_417df_level0_col5\" class=\"col_heading level0 col5\" >mrkt</th>\n",
       "    </tr>\n",
       "  </thead>\n",
       "  <tbody>\n",
       "    <tr>\n",
       "      <th id=\"T_417df_level0_row0\" class=\"row_heading level0 row0\" >25</th>\n",
       "      <td id=\"T_417df_row0_col0\" class=\"data row0 col0\" >TOA</td>\n",
       "      <td id=\"T_417df_row0_col1\" class=\"data row0 col1\" >14.30</td>\n",
       "      <td id=\"T_417df_row0_col2\" class=\"data row0 col2\" >14.00</td>\n",
       "      <td id=\"T_417df_row0_col3\" class=\"data row0 col3\" >-2.10%</td>\n",
       "      <td id=\"T_417df_row0_col4\" class=\"data row0 col4\" >Worse</td>\n",
       "      <td id=\"T_417df_row0_col5\" class=\"data row0 col5\" >SET999</td>\n",
       "    </tr>\n",
       "    <tr>\n",
       "      <th id=\"T_417df_level0_row1\" class=\"row_heading level0 row1\" >2</th>\n",
       "      <td id=\"T_417df_row1_col0\" class=\"data row1 col0\" >AIMIRT</td>\n",
       "      <td id=\"T_417df_row1_col1\" class=\"data row1 col1\" >10.50</td>\n",
       "      <td id=\"T_417df_row1_col2\" class=\"data row1 col2\" >10.30</td>\n",
       "      <td id=\"T_417df_row1_col3\" class=\"data row1 col3\" >-1.90%</td>\n",
       "      <td id=\"T_417df_row1_col4\" class=\"data row1 col4\" >Worse</td>\n",
       "      <td id=\"T_417df_row1_col5\" class=\"data row1 col5\" >SET999</td>\n",
       "    </tr>\n",
       "    <tr>\n",
       "      <th id=\"T_417df_level0_row2\" class=\"row_heading level0 row2\" >20</th>\n",
       "      <td id=\"T_417df_row2_col0\" class=\"data row2 col0\" >SENA</td>\n",
       "      <td id=\"T_417df_row2_col1\" class=\"data row2 col1\" >1.97</td>\n",
       "      <td id=\"T_417df_row2_col2\" class=\"data row2 col2\" >1.95</td>\n",
       "      <td id=\"T_417df_row2_col3\" class=\"data row2 col3\" >-1.02%</td>\n",
       "      <td id=\"T_417df_row2_col4\" class=\"data row2 col4\" >Worse</td>\n",
       "      <td id=\"T_417df_row2_col5\" class=\"data row2 col5\" >SET999</td>\n",
       "    </tr>\n",
       "    <tr>\n",
       "      <th id=\"T_417df_level0_row3\" class=\"row_heading level0 row3\" >1</th>\n",
       "      <td id=\"T_417df_row3_col0\" class=\"data row3 col0\" >AH</td>\n",
       "      <td id=\"T_417df_row3_col1\" class=\"data row3 col1\" >14.00</td>\n",
       "      <td id=\"T_417df_row3_col2\" class=\"data row3 col2\" >13.90</td>\n",
       "      <td id=\"T_417df_row3_col3\" class=\"data row3 col3\" >-0.71%</td>\n",
       "      <td id=\"T_417df_row3_col4\" class=\"data row3 col4\" >Worse</td>\n",
       "      <td id=\"T_417df_row3_col5\" class=\"data row3 col5\" >SET999</td>\n",
       "    </tr>\n",
       "    <tr>\n",
       "      <th id=\"T_417df_level0_row4\" class=\"row_heading level0 row4\" >6</th>\n",
       "      <td id=\"T_417df_row4_col0\" class=\"data row4 col0\" >CPNREIT</td>\n",
       "      <td id=\"T_417df_row4_col1\" class=\"data row4 col1\" >11.40</td>\n",
       "      <td id=\"T_417df_row4_col2\" class=\"data row4 col2\" >11.40</td>\n",
       "      <td id=\"T_417df_row4_col3\" class=\"data row4 col3\" >0.00%</td>\n",
       "      <td id=\"T_417df_row4_col4\" class=\"data row4 col4\" >No Change</td>\n",
       "      <td id=\"T_417df_row4_col5\" class=\"data row4 col5\" >SET999</td>\n",
       "    </tr>\n",
       "    <tr>\n",
       "      <th id=\"T_417df_level0_row5\" class=\"row_heading level0 row5\" >7</th>\n",
       "      <td id=\"T_417df_row5_col0\" class=\"data row5 col0\" >DIF</td>\n",
       "      <td id=\"T_417df_row5_col1\" class=\"data row5 col1\" >9.10</td>\n",
       "      <td id=\"T_417df_row5_col2\" class=\"data row5 col2\" >9.10</td>\n",
       "      <td id=\"T_417df_row5_col3\" class=\"data row5 col3\" >0.00%</td>\n",
       "      <td id=\"T_417df_row5_col4\" class=\"data row5 col4\" >No Change</td>\n",
       "      <td id=\"T_417df_row5_col5\" class=\"data row5 col5\" >SET999</td>\n",
       "    </tr>\n",
       "    <tr>\n",
       "      <th id=\"T_417df_level0_row6\" class=\"row_heading level0 row6\" >8</th>\n",
       "      <td id=\"T_417df_row6_col0\" class=\"data row6 col0\" >GVREIT</td>\n",
       "      <td id=\"T_417df_row6_col1\" class=\"data row6 col1\" >6.50</td>\n",
       "      <td id=\"T_417df_row6_col2\" class=\"data row6 col2\" >6.50</td>\n",
       "      <td id=\"T_417df_row6_col3\" class=\"data row6 col3\" >0.00%</td>\n",
       "      <td id=\"T_417df_row6_col4\" class=\"data row6 col4\" >No Change</td>\n",
       "      <td id=\"T_417df_row6_col5\" class=\"data row6 col5\" >SET999</td>\n",
       "    </tr>\n",
       "    <tr>\n",
       "      <th id=\"T_417df_level0_row7\" class=\"row_heading level0 row7\" >12</th>\n",
       "      <td id=\"T_417df_row7_col0\" class=\"data row7 col0\" >MCS</td>\n",
       "      <td id=\"T_417df_row7_col1\" class=\"data row7 col1\" >8.40</td>\n",
       "      <td id=\"T_417df_row7_col2\" class=\"data row7 col2\" >8.40</td>\n",
       "      <td id=\"T_417df_row7_col3\" class=\"data row7 col3\" >0.00%</td>\n",
       "      <td id=\"T_417df_row7_col4\" class=\"data row7 col4\" >No Change</td>\n",
       "      <td id=\"T_417df_row7_col5\" class=\"data row7 col5\" >SET999</td>\n",
       "    </tr>\n",
       "    <tr>\n",
       "      <th id=\"T_417df_level0_row8\" class=\"row_heading level0 row8\" >26</th>\n",
       "      <td id=\"T_417df_row8_col0\" class=\"data row8 col0\" >TVO</td>\n",
       "      <td id=\"T_417df_row8_col1\" class=\"data row8 col1\" >25.25</td>\n",
       "      <td id=\"T_417df_row8_col2\" class=\"data row8 col2\" >25.25</td>\n",
       "      <td id=\"T_417df_row8_col3\" class=\"data row8 col3\" >0.00%</td>\n",
       "      <td id=\"T_417df_row8_col4\" class=\"data row8 col4\" >No Change</td>\n",
       "      <td id=\"T_417df_row8_col5\" class=\"data row8 col5\" >SET999</td>\n",
       "    </tr>\n",
       "    <tr>\n",
       "      <th id=\"T_417df_level0_row9\" class=\"row_heading level0 row9\" >0</th>\n",
       "      <td id=\"T_417df_row9_col0\" class=\"data row9 col0\" >3BBIF</td>\n",
       "      <td id=\"T_417df_row9_col1\" class=\"data row9 col1\" >6.45</td>\n",
       "      <td id=\"T_417df_row9_col2\" class=\"data row9 col2\" >6.50</td>\n",
       "      <td id=\"T_417df_row9_col3\" class=\"data row9 col3\" >0.78%</td>\n",
       "      <td id=\"T_417df_row9_col4\" class=\"data row9 col4\" >Better</td>\n",
       "      <td id=\"T_417df_row9_col5\" class=\"data row9 col5\" >SET999</td>\n",
       "    </tr>\n",
       "    <tr>\n",
       "      <th id=\"T_417df_level0_row10\" class=\"row_heading level0 row10\" >23</th>\n",
       "      <td id=\"T_417df_row10_col0\" class=\"data row10 col0\" >SYNEX</td>\n",
       "      <td id=\"T_417df_row10_col1\" class=\"data row10 col1\" >12.30</td>\n",
       "      <td id=\"T_417df_row10_col2\" class=\"data row10 col2\" >12.50</td>\n",
       "      <td id=\"T_417df_row10_col3\" class=\"data row10 col3\" >1.63%</td>\n",
       "      <td id=\"T_417df_row10_col4\" class=\"data row10 col4\" >Better</td>\n",
       "      <td id=\"T_417df_row10_col5\" class=\"data row10 col5\" >SET999</td>\n",
       "    </tr>\n",
       "    <tr>\n",
       "      <th id=\"T_417df_level0_row11\" class=\"row_heading level0 row11\" >24</th>\n",
       "      <td id=\"T_417df_row11_col0\" class=\"data row11 col0\" >TFFIF</td>\n",
       "      <td id=\"T_417df_row11_col1\" class=\"data row11 col1\" >6.05</td>\n",
       "      <td id=\"T_417df_row11_col2\" class=\"data row11 col2\" >6.15</td>\n",
       "      <td id=\"T_417df_row11_col3\" class=\"data row11 col3\" >1.65%</td>\n",
       "      <td id=\"T_417df_row11_col4\" class=\"data row11 col4\" >Better</td>\n",
       "      <td id=\"T_417df_row11_col5\" class=\"data row11 col5\" >SET999</td>\n",
       "    </tr>\n",
       "    <tr>\n",
       "      <th id=\"T_417df_level0_row12\" class=\"row_heading level0 row12\" >13</th>\n",
       "      <td id=\"T_417df_row12_col0\" class=\"data row12 col0\" >NER</td>\n",
       "      <td id=\"T_417df_row12_col1\" class=\"data row12 col1\" >4.20</td>\n",
       "      <td id=\"T_417df_row12_col2\" class=\"data row12 col2\" >4.30</td>\n",
       "      <td id=\"T_417df_row12_col3\" class=\"data row12 col3\" >2.38%</td>\n",
       "      <td id=\"T_417df_row12_col4\" class=\"data row12 col4\" >Better</td>\n",
       "      <td id=\"T_417df_row12_col5\" class=\"data row12 col5\" >SET999</td>\n",
       "    </tr>\n",
       "    <tr>\n",
       "      <th id=\"T_417df_level0_row13\" class=\"row_heading level0 row13\" >27</th>\n",
       "      <td id=\"T_417df_row13_col0\" class=\"data row13 col0\" >WHAIR</td>\n",
       "      <td id=\"T_417df_row13_col1\" class=\"data row13 col1\" >5.90</td>\n",
       "      <td id=\"T_417df_row13_col2\" class=\"data row13 col2\" >6.05</td>\n",
       "      <td id=\"T_417df_row13_col3\" class=\"data row13 col3\" >2.54%</td>\n",
       "      <td id=\"T_417df_row13_col4\" class=\"data row13 col4\" >Better</td>\n",
       "      <td id=\"T_417df_row13_col5\" class=\"data row13 col5\" >SET999</td>\n",
       "    </tr>\n",
       "    <tr>\n",
       "      <th id=\"T_417df_level0_row14\" class=\"row_heading level0 row14\" >28</th>\n",
       "      <td id=\"T_417df_row14_col0\" class=\"data row14 col0\" >WHART</td>\n",
       "      <td id=\"T_417df_row14_col1\" class=\"data row14 col1\" >9.45</td>\n",
       "      <td id=\"T_417df_row14_col2\" class=\"data row14 col2\" >9.70</td>\n",
       "      <td id=\"T_417df_row14_col3\" class=\"data row14 col3\" >2.65%</td>\n",
       "      <td id=\"T_417df_row14_col4\" class=\"data row14 col4\" >Better</td>\n",
       "      <td id=\"T_417df_row14_col5\" class=\"data row14 col5\" >SET999</td>\n",
       "    </tr>\n",
       "  </tbody>\n",
       "</table>\n"
      ],
      "text/plain": [
       "<pandas.io.formats.style.Styler at 0x1ce42dcbf80>"
      ]
     },
     "execution_count": 31,
     "metadata": {},
     "output_type": "execute_result"
    }
   ],
   "source": [
    "set999 = trend2.mrkt.str.contains('SET999')\n",
    "flt_set999 = trend2[set999]\n",
    "flt_set999[cols].sort_values(by=['percent','name'],ascending=[True,True]).style.format(format_dict)"
   ]
  },
  {
   "cell_type": "code",
   "execution_count": 32,
   "metadata": {},
   "outputs": [
    {
     "data": {
      "text/html": [
       "<style type=\"text/css\">\n",
       "</style>\n",
       "<table id=\"T_4949b\">\n",
       "  <thead>\n",
       "    <tr>\n",
       "      <th class=\"blank level0\" >&nbsp;</th>\n",
       "      <th id=\"T_4949b_level0_col0\" class=\"col_heading level0 col0\" >proportion</th>\n",
       "    </tr>\n",
       "    <tr>\n",
       "      <th class=\"index_name level0\" >perform</th>\n",
       "      <th class=\"blank col0\" >&nbsp;</th>\n",
       "    </tr>\n",
       "  </thead>\n",
       "  <tbody>\n",
       "    <tr>\n",
       "      <th id=\"T_4949b_level0_row0\" class=\"row_heading level0 row0\" >Better</th>\n",
       "      <td id=\"T_4949b_row0_col0\" class=\"data row0 col0\" >40.00%</td>\n",
       "    </tr>\n",
       "    <tr>\n",
       "      <th id=\"T_4949b_level0_row1\" class=\"row_heading level0 row1\" >No Change</th>\n",
       "      <td id=\"T_4949b_row1_col0\" class=\"data row1 col0\" >33.33%</td>\n",
       "    </tr>\n",
       "    <tr>\n",
       "      <th id=\"T_4949b_level0_row2\" class=\"row_heading level0 row2\" >Worse</th>\n",
       "      <td id=\"T_4949b_row2_col0\" class=\"data row2 col0\" >26.67%</td>\n",
       "    </tr>\n",
       "  </tbody>\n",
       "</table>\n"
      ],
      "text/plain": [
       "<pandas.io.formats.style.Styler at 0x1ce42dcaa80>"
      ]
     },
     "execution_count": 32,
     "metadata": {},
     "output_type": "execute_result"
    }
   ],
   "source": [
    "flt_set999[cols].perform.value_counts(normalize=True).to_frame().style.format('{:.2%}')"
   ]
  },
  {
   "cell_type": "code",
   "execution_count": 33,
   "metadata": {},
   "outputs": [
    {
     "data": {
      "text/html": [
       "<style type=\"text/css\">\n",
       "</style>\n",
       "<table id=\"T_594d4\">\n",
       "  <thead>\n",
       "    <tr>\n",
       "      <th class=\"blank level0\" >&nbsp;</th>\n",
       "      <th id=\"T_594d4_level0_col0\" class=\"col_heading level0 col0\" >name</th>\n",
       "      <th id=\"T_594d4_level0_col1\" class=\"col_heading level0 col1\" >price_w</th>\n",
       "      <th id=\"T_594d4_level0_col2\" class=\"col_heading level0 col2\" >price_d</th>\n",
       "      <th id=\"T_594d4_level0_col3\" class=\"col_heading level0 col3\" >percent</th>\n",
       "      <th id=\"T_594d4_level0_col4\" class=\"col_heading level0 col4\" >perform</th>\n",
       "      <th id=\"T_594d4_level0_col5\" class=\"col_heading level0 col5\" >mrkt</th>\n",
       "    </tr>\n",
       "  </thead>\n",
       "  <tbody>\n",
       "  </tbody>\n",
       "</table>\n"
      ],
      "text/plain": [
       "<pandas.io.formats.style.Styler at 0x1ce42dcb800>"
      ]
     },
     "execution_count": 33,
     "metadata": {},
     "output_type": "execute_result"
    }
   ],
   "source": [
    "setmai = trend2.mrkt.str.contains('mai')\n",
    "flt_setmai = trend2[setmai]\n",
    "flt_setmai[cols].sort_values(by=['percent','name'],ascending=[True,True]).style.format(format_dict)"
   ]
  },
  {
   "cell_type": "code",
   "execution_count": 34,
   "metadata": {},
   "outputs": [
    {
     "data": {
      "text/html": [
       "<style type=\"text/css\">\n",
       "</style>\n",
       "<table id=\"T_41d7d\">\n",
       "  <thead>\n",
       "    <tr>\n",
       "      <th class=\"blank level0\" >&nbsp;</th>\n",
       "      <th id=\"T_41d7d_level0_col0\" class=\"col_heading level0 col0\" >proportion</th>\n",
       "    </tr>\n",
       "    <tr>\n",
       "      <th class=\"index_name level0\" >perform</th>\n",
       "      <th class=\"blank col0\" >&nbsp;</th>\n",
       "    </tr>\n",
       "  </thead>\n",
       "  <tbody>\n",
       "  </tbody>\n",
       "</table>\n"
      ],
      "text/plain": [
       "<pandas.io.formats.style.Styler at 0x1ce41eab1a0>"
      ]
     },
     "execution_count": 34,
     "metadata": {},
     "output_type": "execute_result"
    }
   ],
   "source": [
    "flt_setmai[cols].perform.value_counts(normalize=True).to_frame().style.format('{:.2%}')"
   ]
  },
  {
   "cell_type": "code",
   "execution_count": 35,
   "metadata": {},
   "outputs": [],
   "source": [
    "const.close()\n",
    "conmy.close()"
   ]
  },
  {
   "cell_type": "code",
   "execution_count": 36,
   "metadata": {},
   "outputs": [
    {
     "name": "stdout",
     "output_type": "stream",
     "text": [
      "2025-09-28 22:31:14\n"
     ]
    }
   ],
   "source": [
    "current_time = datetime.now()\n",
    "formatted_time = current_time.strftime(\"%Y-%m-%d %H:%M:%S\")\n",
    "print(formatted_time)"
   ]
  },
  {
   "cell_type": "code",
   "execution_count": null,
   "metadata": {},
   "outputs": [],
   "source": []
  }
 ],
 "metadata": {
  "anaconda-cloud": {},
  "kernelspec": {
   "display_name": "Python 3 (ipykernel)",
   "language": "python",
   "name": "python3"
  },
  "language_info": {
   "codemirror_mode": {
    "name": "ipython",
    "version": 3
   },
   "file_extension": ".py",
   "mimetype": "text/x-python",
   "name": "python",
   "nbconvert_exporter": "python",
   "pygments_lexer": "ipython3",
   "version": "3.12.3"
  }
 },
 "nbformat": 4,
 "nbformat_minor": 4
}
