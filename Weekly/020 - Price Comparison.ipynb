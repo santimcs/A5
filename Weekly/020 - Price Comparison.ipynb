{
 "cells": [
  {
   "cell_type": "markdown",
   "metadata": {},
   "source": [
    "### portmy database: stocks table\n",
    "### stock database: buy, price tables"
   ]
  },
  {
   "cell_type": "code",
   "execution_count": 2,
   "metadata": {},
   "outputs": [
    {
     "data": {
      "text/plain": [
       "datetime.date(2025, 2, 2)"
      ]
     },
     "execution_count": 2,
     "metadata": {},
     "output_type": "execute_result"
    }
   ],
   "source": [
    "import pandas as pd\n",
    "import numpy as np\n",
    "import os\n",
    "from datetime import date, timedelta\n",
    "from sqlalchemy import create_engine\n",
    "from pandas.tseries.offsets import BDay\n",
    "\n",
    "engine = create_engine(\"sqlite:///c:\\\\ruby\\\\portmy\\\\db\\\\development.sqlite3\")\n",
    "conmy = engine.connect()\n",
    "engine = create_engine(\"mysql+pymysql://root:@localhost:3306/stock\")\n",
    "const = engine.connect()\n",
    "\n",
    "pd.set_option('display.float_format','{:,.2f}'.format)\n",
    "\n",
    "today = date.today()\n",
    "today"
   ]
  },
  {
   "cell_type": "code",
   "execution_count": 3,
   "metadata": {},
   "outputs": [
    {
     "name": "stdout",
     "output_type": "stream",
     "text": [
      "today: 2025-02-02\n",
      "yesterday: 2025-01-31 00:00:00\n"
     ]
    }
   ],
   "source": [
    "# convert the timedelta object to a BusinessDay object\n",
    "num_business_days = BDay(1)\n",
    "yesterday = today - num_business_days\n",
    "print(f'today: {today}')\n",
    "print(f'yesterday: {yesterday}')"
   ]
  },
  {
   "cell_type": "code",
   "execution_count": 4,
   "metadata": {},
   "outputs": [
    {
     "name": "stdout",
     "output_type": "stream",
     "text": [
      "a week ago: 2025-01-23\n",
      "yesterday: 2025-01-31\n"
     ]
    }
   ],
   "source": [
    "yesterday = yesterday.date()\n",
    "week_ago = yesterday -timedelta(days = 8)\n",
    "print(f'a week ago: {week_ago}')\n",
    "print(f'yesterday: {yesterday}')"
   ]
  },
  {
   "cell_type": "markdown",
   "metadata": {},
   "source": [
    "### Restart & Run All Cells"
   ]
  },
  {
   "cell_type": "code",
   "execution_count": 6,
   "metadata": {},
   "outputs": [],
   "source": [
    "# Get the user's home directory\n",
    "user_path = os.path.expanduser('~')\n",
    "# Get the current working directory\n",
    "current_path = os.getcwd()\n",
    "# Derive the base directory (base_dir) by removing the last folder ('Daily')\n",
    "base_path = os.path.dirname(current_path)\n",
    "#C:\\Users\\PC1\\OneDrive\\A5\\Data\n",
    "dat_path = os.path.join(base_path, \"Data\")\n",
    "#C:\\Users\\PC1\\OneDrive\\Imports\\santisoontarinka@gmail.com - Google Drive\\Data>\n",
    "god_path = os.path.join(user_path, \"OneDrive\",\"Imports\",\"santisoontarinka@gmail.com - Google Drive\",\"Data\")\n",
    "#C:\\Users\\PC1\\iCloudDrive\\data\n",
    "icd_path = os.path.join(user_path, \"iCloudDrive\", \"Data\")\n",
    "#C:\\Users\\PC1\\OneDrive\\Documents\\obsidian-git-sync\\Data\n",
    "osd_path = os.path.join(user_path, \"OneDrive\",\"Documents\",\"obsidian-git-sync\",\"Data\")"
   ]
  },
  {
   "cell_type": "code",
   "execution_count": 7,
   "metadata": {},
   "outputs": [
    {
     "name": "stdout",
     "output_type": "stream",
     "text": [
      "User path: C:\\Users\\PC1\n",
      "Current path: C:\\Users\\PC1\\OneDrive\\A5\\Weekly\n",
      "Base path: C:\\Users\\PC1\\OneDrive\\A5\n",
      "Data path (dat_path): C:\\Users\\PC1\\OneDrive\\A5\\Data\n",
      "Google Drive path (god_path): C:\\Users\\PC1\\OneDrive\\Imports\\santisoontarinka@gmail.com - Google Drive\\Data\n",
      "iCloudDrive path (icd_path): C:\\Users\\PC1\\iCloudDrive\\Data\n",
      "Obsidian path (osd_path): C:\\Users\\PC1\\OneDrive\\Documents\\obsidian-git-sync\\Data\n"
     ]
    }
   ],
   "source": [
    "print(\"User path:\", user_path)\n",
    "print(f\"Current path: {current_path}\")\n",
    "print(f\"Base path: {base_path}\")\n",
    "print(f\"Data path (dat_path): {dat_path}\") \n",
    "print(f\"Google Drive path (god_path): {god_path}\")\n",
    "print(f\"iCloudDrive path (icd_path): {icd_path}\") \n",
    "print(f\"Obsidian path (osd_path): {osd_path}\") "
   ]
  },
  {
   "cell_type": "markdown",
   "metadata": {},
   "source": [
    "### This process affects only already in port stocks. To highlight price changes in percent."
   ]
  },
  {
   "cell_type": "code",
   "execution_count": 9,
   "metadata": {},
   "outputs": [],
   "source": [
    "cols = 'name price_w price_d percent perform mrkt '.split()\n",
    "\n",
    "format_dict = {\n",
    "    'qty':'{:,}',    \n",
    "    'price':'{:.2f}','price_d':'{:.2f}','price_w':'{:.2f}',\n",
    "    'max_price':'{:.2f}','min_price':'{:.2f}',\n",
    "    'maxp':'{:.2f}','minp':'{:.2f}','opnp':'{:.2f}',    \n",
    "    'pct':'{:,.2f}%','percent':'{:,.2f}%',\n",
    "    \n",
    "    'pe':'{:.2f}','pbv':'{:.2f}',\n",
    "    'paid_up':'{:,.2f}','market_cap':'{:,.2f}',\n",
    "    'daily_volume':'{:,.2f}','beta':'{:,.2f}', \n",
    "    'dly_vol':'{:,.2f}', \n",
    "}"
   ]
  },
  {
   "cell_type": "code",
   "execution_count": 10,
   "metadata": {},
   "outputs": [
    {
     "data": {
      "text/html": [
       "<style type=\"text/css\">\n",
       "</style>\n",
       "<table id=\"T_f02bc\">\n",
       "  <thead>\n",
       "    <tr>\n",
       "      <th class=\"blank level0\" >&nbsp;</th>\n",
       "      <th id=\"T_f02bc_level0_col0\" class=\"col_heading level0 col0\" >name</th>\n",
       "      <th id=\"T_f02bc_level0_col1\" class=\"col_heading level0 col1\" >date</th>\n",
       "      <th id=\"T_f02bc_level0_col2\" class=\"col_heading level0 col2\" >price</th>\n",
       "    </tr>\n",
       "  </thead>\n",
       "  <tbody>\n",
       "    <tr>\n",
       "      <th id=\"T_f02bc_level0_row0\" class=\"row_heading level0 row0\" >0</th>\n",
       "      <td id=\"T_f02bc_row0_col0\" class=\"data row0 col0\" >TVO</td>\n",
       "      <td id=\"T_f02bc_row0_col1\" class=\"data row0 col1\" >2024-11-06</td>\n",
       "      <td id=\"T_f02bc_row0_col2\" class=\"data row0 col2\" >24.90</td>\n",
       "    </tr>\n",
       "  </tbody>\n",
       "</table>\n"
      ],
      "text/plain": [
       "<pandas.io.formats.style.Styler at 0x1b2c89b7260>"
      ]
     },
     "execution_count": 10,
     "metadata": {},
     "output_type": "execute_result"
    }
   ],
   "source": [
    "sql = \"\"\"\n",
    "SELECT name, date, price \n",
    "FROM buy \n",
    "ORDER BY date DESC \n",
    "LIMIT 1\n",
    "\"\"\"\n",
    "df_buy = pd.read_sql(sql, const)\n",
    "df_buy.style.format(format_dict)"
   ]
  },
  {
   "cell_type": "code",
   "execution_count": 11,
   "metadata": {},
   "outputs": [
    {
     "name": "stdout",
     "output_type": "stream",
     "text": [
      "\n",
      "SELECT * FROM stocks WHERE name = 'TVO'\n",
      "\n"
     ]
    },
    {
     "data": {
      "text/html": [
       "<style type=\"text/css\">\n",
       "</style>\n",
       "<table id=\"T_6b953\">\n",
       "  <thead>\n",
       "    <tr>\n",
       "      <th class=\"blank level0\" >&nbsp;</th>\n",
       "      <th id=\"T_6b953_level0_col0\" class=\"col_heading level0 col0\" >id</th>\n",
       "      <th id=\"T_6b953_level0_col1\" class=\"col_heading level0 col1\" >name</th>\n",
       "      <th id=\"T_6b953_level0_col2\" class=\"col_heading level0 col2\" >market</th>\n",
       "      <th id=\"T_6b953_level0_col3\" class=\"col_heading level0 col3\" >price</th>\n",
       "      <th id=\"T_6b953_level0_col4\" class=\"col_heading level0 col4\" >max_price</th>\n",
       "      <th id=\"T_6b953_level0_col5\" class=\"col_heading level0 col5\" >min_price</th>\n",
       "      <th id=\"T_6b953_level0_col6\" class=\"col_heading level0 col6\" >pe</th>\n",
       "      <th id=\"T_6b953_level0_col7\" class=\"col_heading level0 col7\" >pbv</th>\n",
       "      <th id=\"T_6b953_level0_col8\" class=\"col_heading level0 col8\" >paid_up</th>\n",
       "      <th id=\"T_6b953_level0_col9\" class=\"col_heading level0 col9\" >market_cap</th>\n",
       "      <th id=\"T_6b953_level0_col10\" class=\"col_heading level0 col10\" >daily_volume</th>\n",
       "      <th id=\"T_6b953_level0_col11\" class=\"col_heading level0 col11\" >beta</th>\n",
       "      <th id=\"T_6b953_level0_col12\" class=\"col_heading level0 col12\" >ticker_id</th>\n",
       "      <th id=\"T_6b953_level0_col13\" class=\"col_heading level0 col13\" >created_at</th>\n",
       "      <th id=\"T_6b953_level0_col14\" class=\"col_heading level0 col14\" >updated_at</th>\n",
       "    </tr>\n",
       "  </thead>\n",
       "  <tbody>\n",
       "    <tr>\n",
       "      <th id=\"T_6b953_level0_row0\" class=\"row_heading level0 row0\" >0</th>\n",
       "      <td id=\"T_6b953_row0_col0\" class=\"data row0 col0\" >585</td>\n",
       "      <td id=\"T_6b953_row0_col1\" class=\"data row0 col1\" >TVO</td>\n",
       "      <td id=\"T_6b953_row0_col2\" class=\"data row0 col2\" >SETTHSI / SETWB    </td>\n",
       "      <td id=\"T_6b953_row0_col3\" class=\"data row0 col3\" >29.00</td>\n",
       "      <td id=\"T_6b953_row0_col4\" class=\"data row0 col4\" >31.25</td>\n",
       "      <td id=\"T_6b953_row0_col5\" class=\"data row0 col5\" >26.50</td>\n",
       "      <td id=\"T_6b953_row0_col6\" class=\"data row0 col6\" >11.18</td>\n",
       "      <td id=\"T_6b953_row0_col7\" class=\"data row0 col7\" >2.40</td>\n",
       "      <td id=\"T_6b953_row0_col8\" class=\"data row0 col8\" >889.47</td>\n",
       "      <td id=\"T_6b953_row0_col9\" class=\"data row0 col9\" >25,794.67</td>\n",
       "      <td id=\"T_6b953_row0_col10\" class=\"data row0 col10\" >18.84</td>\n",
       "      <td id=\"T_6b953_row0_col11\" class=\"data row0 col11\" >0.43</td>\n",
       "      <td id=\"T_6b953_row0_col12\" class=\"data row0 col12\" >585</td>\n",
       "      <td id=\"T_6b953_row0_col13\" class=\"data row0 col13\" >2017-07-23 07:25:46.640728</td>\n",
       "      <td id=\"T_6b953_row0_col14\" class=\"data row0 col14\" >2023-01-31 03:08:01.449850</td>\n",
       "    </tr>\n",
       "  </tbody>\n",
       "</table>\n"
      ],
      "text/plain": [
       "<pandas.io.formats.style.Styler at 0x1b2cc147a40>"
      ]
     },
     "execution_count": 11,
     "metadata": {},
     "output_type": "execute_result"
    }
   ],
   "source": [
    "names = df_buy['name']\n",
    "name = names.to_string(index=False)\n",
    "\n",
    "sql = '''\n",
    "SELECT * FROM stocks WHERE name = '%s'\n",
    "'''\n",
    "sql = sql % name\n",
    "print(sql)\n",
    "\n",
    "df_stocks = pd.read_sql(sql, conmy)\n",
    "df_stocks.style.format(format_dict) "
   ]
  },
  {
   "cell_type": "code",
   "execution_count": 12,
   "metadata": {},
   "outputs": [
    {
     "name": "stdout",
     "output_type": "stream",
     "text": [
      "\n",
      "SELECT * FROM price WHERE name = \"TVO\" ORDER BY date DESC LIMIT 5\n",
      "\n"
     ]
    },
    {
     "data": {
      "text/html": [
       "<style type=\"text/css\">\n",
       "</style>\n",
       "<table id=\"T_a8f21\">\n",
       "  <thead>\n",
       "    <tr>\n",
       "      <th class=\"blank level0\" >&nbsp;</th>\n",
       "      <th id=\"T_a8f21_level0_col0\" class=\"col_heading level0 col0\" >name</th>\n",
       "      <th id=\"T_a8f21_level0_col1\" class=\"col_heading level0 col1\" >date</th>\n",
       "      <th id=\"T_a8f21_level0_col2\" class=\"col_heading level0 col2\" >price</th>\n",
       "      <th id=\"T_a8f21_level0_col3\" class=\"col_heading level0 col3\" >maxp</th>\n",
       "      <th id=\"T_a8f21_level0_col4\" class=\"col_heading level0 col4\" >minp</th>\n",
       "      <th id=\"T_a8f21_level0_col5\" class=\"col_heading level0 col5\" >qty</th>\n",
       "      <th id=\"T_a8f21_level0_col6\" class=\"col_heading level0 col6\" >opnp</th>\n",
       "    </tr>\n",
       "  </thead>\n",
       "  <tbody>\n",
       "    <tr>\n",
       "      <th id=\"T_a8f21_level0_row0\" class=\"row_heading level0 row0\" >0</th>\n",
       "      <td id=\"T_a8f21_row0_col0\" class=\"data row0 col0\" >TVO</td>\n",
       "      <td id=\"T_a8f21_row0_col1\" class=\"data row0 col1\" >2025-01-31</td>\n",
       "      <td id=\"T_a8f21_row0_col2\" class=\"data row0 col2\" >21.00</td>\n",
       "      <td id=\"T_a8f21_row0_col3\" class=\"data row0 col3\" >21.50</td>\n",
       "      <td id=\"T_a8f21_row0_col4\" class=\"data row0 col4\" >21.00</td>\n",
       "      <td id=\"T_a8f21_row0_col5\" class=\"data row0 col5\" >384,365</td>\n",
       "      <td id=\"T_a8f21_row0_col6\" class=\"data row0 col6\" >21.20</td>\n",
       "    </tr>\n",
       "    <tr>\n",
       "      <th id=\"T_a8f21_level0_row1\" class=\"row_heading level0 row1\" >1</th>\n",
       "      <td id=\"T_a8f21_row1_col0\" class=\"data row1 col0\" >TVO</td>\n",
       "      <td id=\"T_a8f21_row1_col1\" class=\"data row1 col1\" >2025-01-30</td>\n",
       "      <td id=\"T_a8f21_row1_col2\" class=\"data row1 col2\" >21.20</td>\n",
       "      <td id=\"T_a8f21_row1_col3\" class=\"data row1 col3\" >21.50</td>\n",
       "      <td id=\"T_a8f21_row1_col4\" class=\"data row1 col4\" >21.20</td>\n",
       "      <td id=\"T_a8f21_row1_col5\" class=\"data row1 col5\" >198,765</td>\n",
       "      <td id=\"T_a8f21_row1_col6\" class=\"data row1 col6\" >21.40</td>\n",
       "    </tr>\n",
       "    <tr>\n",
       "      <th id=\"T_a8f21_level0_row2\" class=\"row_heading level0 row2\" >2</th>\n",
       "      <td id=\"T_a8f21_row2_col0\" class=\"data row2 col0\" >TVO</td>\n",
       "      <td id=\"T_a8f21_row2_col1\" class=\"data row2 col1\" >2025-01-29</td>\n",
       "      <td id=\"T_a8f21_row2_col2\" class=\"data row2 col2\" >21.50</td>\n",
       "      <td id=\"T_a8f21_row2_col3\" class=\"data row2 col3\" >21.80</td>\n",
       "      <td id=\"T_a8f21_row2_col4\" class=\"data row2 col4\" >21.50</td>\n",
       "      <td id=\"T_a8f21_row2_col5\" class=\"data row2 col5\" >170,509</td>\n",
       "      <td id=\"T_a8f21_row2_col6\" class=\"data row2 col6\" >21.70</td>\n",
       "    </tr>\n",
       "    <tr>\n",
       "      <th id=\"T_a8f21_level0_row3\" class=\"row_heading level0 row3\" >3</th>\n",
       "      <td id=\"T_a8f21_row3_col0\" class=\"data row3 col0\" >TVO</td>\n",
       "      <td id=\"T_a8f21_row3_col1\" class=\"data row3 col1\" >2025-01-28</td>\n",
       "      <td id=\"T_a8f21_row3_col2\" class=\"data row3 col2\" >21.70</td>\n",
       "      <td id=\"T_a8f21_row3_col3\" class=\"data row3 col3\" >21.80</td>\n",
       "      <td id=\"T_a8f21_row3_col4\" class=\"data row3 col4\" >21.60</td>\n",
       "      <td id=\"T_a8f21_row3_col5\" class=\"data row3 col5\" >121,829</td>\n",
       "      <td id=\"T_a8f21_row3_col6\" class=\"data row3 col6\" >21.80</td>\n",
       "    </tr>\n",
       "    <tr>\n",
       "      <th id=\"T_a8f21_level0_row4\" class=\"row_heading level0 row4\" >4</th>\n",
       "      <td id=\"T_a8f21_row4_col0\" class=\"data row4 col0\" >TVO</td>\n",
       "      <td id=\"T_a8f21_row4_col1\" class=\"data row4 col1\" >2025-01-28</td>\n",
       "      <td id=\"T_a8f21_row4_col2\" class=\"data row4 col2\" >21.70</td>\n",
       "      <td id=\"T_a8f21_row4_col3\" class=\"data row4 col3\" >21.80</td>\n",
       "      <td id=\"T_a8f21_row4_col4\" class=\"data row4 col4\" >21.60</td>\n",
       "      <td id=\"T_a8f21_row4_col5\" class=\"data row4 col5\" >121,829</td>\n",
       "      <td id=\"T_a8f21_row4_col6\" class=\"data row4 col6\" >21.80</td>\n",
       "    </tr>\n",
       "  </tbody>\n",
       "</table>\n"
      ],
      "text/plain": [
       "<pandas.io.formats.style.Styler at 0x1b2cc1ccb60>"
      ]
     },
     "execution_count": 12,
     "metadata": {},
     "output_type": "execute_result"
    }
   ],
   "source": [
    "sql = '''\n",
    "SELECT * FROM price WHERE name = \"%s\" ORDER BY date DESC LIMIT 5\n",
    "'''\n",
    "sql = sql % name\n",
    "print(sql)\n",
    "\n",
    "df_price = pd.read_sql(sql, const)\n",
    "df_price.style.format(format_dict)"
   ]
  },
  {
   "cell_type": "code",
   "execution_count": 13,
   "metadata": {},
   "outputs": [
    {
     "name": "stdout",
     "output_type": "stream",
     "text": [
      "\n",
      "SELECT name, price AS price_d \n",
      "FROM price \n",
      "WHERE date = '2025-01-31' AND name IN ('3BBIF', 'AH', 'AIMIRT', 'ASK', 'ASP', 'AWC', 'BCH', 'CPNREIT', 'DIF', 'GVREIT', 'IVL', 'JMART', 'JMT', 'KCE', 'MCS', 'NER', 'ORI', 'PTG', 'PTTGC', 'RCL', 'SCC', 'SENA', 'SINGER', 'STA', 'SYNEX', 'TFFIF', 'TMT', 'TOA', 'TVO', 'WHAIR', 'WHART')\n",
      "ORDER BY name, date\n"
     ]
    },
    {
     "data": {
      "text/plain": [
       "31"
      ]
     },
     "execution_count": 13,
     "metadata": {},
     "output_type": "execute_result"
    }
   ],
   "source": [
    "sql = '''\n",
    "SELECT name\n",
    "FROM buy \n",
    "WHERE active = 1\n",
    "ORDER BY name'''\n",
    "df_price = pd.read_sql(sql, const)\n",
    "\n",
    "names = df_price.name.tolist()\n",
    "in_p = \", \".join(map(lambda name: \"'%s'\" % name, names))\n",
    "\n",
    "sql = \"\"\"\n",
    "SELECT name, price AS price_d \n",
    "FROM price \n",
    "WHERE date = '%s' AND name IN (%s)\n",
    "ORDER BY name, date\"\"\"\n",
    "sql = sql % (yesterday, in_p)\n",
    "print(sql)\n",
    "\n",
    "df_today = pd.read_sql(sql, const)\n",
    "df_today.shape[0]"
   ]
  },
  {
   "cell_type": "code",
   "execution_count": 14,
   "metadata": {},
   "outputs": [
    {
     "name": "stdout",
     "output_type": "stream",
     "text": [
      "\n",
      "SELECT name, price AS price_w\n",
      "FROM price \n",
      "WHERE date = '2025-01-23' AND name IN ('3BBIF', 'AH', 'AIMIRT', 'ASK', 'ASP', 'AWC', 'BCH', 'CPNREIT', 'DIF', 'GVREIT', 'IVL', 'JMART', 'JMT', 'KCE', 'MCS', 'NER', 'ORI', 'PTG', 'PTTGC', 'RCL', 'SCC', 'SENA', 'SINGER', 'STA', 'SYNEX', 'TFFIF', 'TMT', 'TOA', 'TVO', 'WHAIR', 'WHART') \n",
      "ORDER BY name\n"
     ]
    },
    {
     "data": {
      "text/plain": [
       "31"
      ]
     },
     "execution_count": 14,
     "metadata": {},
     "output_type": "execute_result"
    }
   ],
   "source": [
    "sql = \"\"\"\n",
    "SELECT name, price AS price_w\n",
    "FROM price \n",
    "WHERE date = '%s' AND name IN (%s) \n",
    "ORDER BY name\"\"\"\n",
    "sql = sql % (week_ago, in_p)\n",
    "print(sql)\n",
    "\n",
    "df_wkago = pd.read_sql(sql, const)\n",
    "df_wkago.shape[0]"
   ]
  },
  {
   "cell_type": "code",
   "execution_count": 15,
   "metadata": {},
   "outputs": [
    {
     "data": {
      "text/plain": [
       "(31, 3)"
      ]
     },
     "execution_count": 15,
     "metadata": {},
     "output_type": "execute_result"
    }
   ],
   "source": [
    "trend = pd.merge(df_today, df_wkago, on='name',how='inner')\n",
    "trend.shape"
   ]
  },
  {
   "cell_type": "code",
   "execution_count": 16,
   "metadata": {},
   "outputs": [],
   "source": [
    "def performance(vals):\n",
    "    price_d, price_w = vals\n",
    "    if (price_d > price_w):\n",
    "        return 'Better'\n",
    "    elif (price_d < price_w):\n",
    "        return 'Worse'\n",
    "    else:\n",
    "        return 'No Change'"
   ]
  },
  {
   "cell_type": "code",
   "execution_count": 17,
   "metadata": {},
   "outputs": [],
   "source": [
    "trend['percent'] = (trend.price_d-trend.price_w)/trend.price_w * 100"
   ]
  },
  {
   "cell_type": "code",
   "execution_count": 18,
   "metadata": {},
   "outputs": [
    {
     "data": {
      "text/plain": [
       "(31, 4)"
      ]
     },
     "execution_count": 18,
     "metadata": {},
     "output_type": "execute_result"
    }
   ],
   "source": [
    "trend.shape"
   ]
  },
  {
   "cell_type": "code",
   "execution_count": 19,
   "metadata": {},
   "outputs": [],
   "source": [
    "trend[\"perform\"] = trend[[\"price_d\",\"price_w\"]].apply(performance, axis=1)"
   ]
  },
  {
   "cell_type": "code",
   "execution_count": 20,
   "metadata": {},
   "outputs": [
    {
     "data": {
      "text/html": [
       "<style type=\"text/css\">\n",
       "</style>\n",
       "<table id=\"T_c4df2\">\n",
       "  <thead>\n",
       "    <tr>\n",
       "      <th class=\"blank level0\" >&nbsp;</th>\n",
       "      <th id=\"T_c4df2_level0_col0\" class=\"col_heading level0 col0\" >name</th>\n",
       "      <th id=\"T_c4df2_level0_col1\" class=\"col_heading level0 col1\" >price_d</th>\n",
       "      <th id=\"T_c4df2_level0_col2\" class=\"col_heading level0 col2\" >price_w</th>\n",
       "      <th id=\"T_c4df2_level0_col3\" class=\"col_heading level0 col3\" >percent</th>\n",
       "      <th id=\"T_c4df2_level0_col4\" class=\"col_heading level0 col4\" >perform</th>\n",
       "    </tr>\n",
       "  </thead>\n",
       "  <tbody>\n",
       "    <tr>\n",
       "      <th id=\"T_c4df2_level0_row0\" class=\"row_heading level0 row0\" >27</th>\n",
       "      <td id=\"T_c4df2_row0_col0\" class=\"data row0 col0\" >TOA</td>\n",
       "      <td id=\"T_c4df2_row0_col1\" class=\"data row0 col1\" >12.10</td>\n",
       "      <td id=\"T_c4df2_row0_col2\" class=\"data row0 col2\" >13.10</td>\n",
       "      <td id=\"T_c4df2_row0_col3\" class=\"data row0 col3\" >-7.63%</td>\n",
       "      <td id=\"T_c4df2_row0_col4\" class=\"data row0 col4\" >Worse</td>\n",
       "    </tr>\n",
       "    <tr>\n",
       "      <th id=\"T_c4df2_level0_row1\" class=\"row_heading level0 row1\" >23</th>\n",
       "      <td id=\"T_c4df2_row1_col0\" class=\"data row1 col0\" >STA</td>\n",
       "      <td id=\"T_c4df2_row1_col1\" class=\"data row1 col1\" >15.70</td>\n",
       "      <td id=\"T_c4df2_row1_col2\" class=\"data row1 col2\" >16.60</td>\n",
       "      <td id=\"T_c4df2_row1_col3\" class=\"data row1 col3\" >-5.42%</td>\n",
       "      <td id=\"T_c4df2_row1_col4\" class=\"data row1 col4\" >Worse</td>\n",
       "    </tr>\n",
       "    <tr>\n",
       "      <th id=\"T_c4df2_level0_row2\" class=\"row_heading level0 row2\" >6</th>\n",
       "      <td id=\"T_c4df2_row2_col0\" class=\"data row2 col0\" >BCH</td>\n",
       "      <td id=\"T_c4df2_row2_col1\" class=\"data row2 col1\" >14.30</td>\n",
       "      <td id=\"T_c4df2_row2_col2\" class=\"data row2 col2\" >15.00</td>\n",
       "      <td id=\"T_c4df2_row2_col3\" class=\"data row2 col3\" >-4.67%</td>\n",
       "      <td id=\"T_c4df2_row2_col4\" class=\"data row2 col4\" >Worse</td>\n",
       "    </tr>\n",
       "    <tr>\n",
       "      <th id=\"T_c4df2_level0_row3\" class=\"row_heading level0 row3\" >19</th>\n",
       "      <td id=\"T_c4df2_row3_col0\" class=\"data row3 col0\" >RCL</td>\n",
       "      <td id=\"T_c4df2_row3_col1\" class=\"data row3 col1\" >24.00</td>\n",
       "      <td id=\"T_c4df2_row3_col2\" class=\"data row3 col2\" >24.90</td>\n",
       "      <td id=\"T_c4df2_row3_col3\" class=\"data row3 col3\" >-3.61%</td>\n",
       "      <td id=\"T_c4df2_row3_col4\" class=\"data row3 col4\" >Worse</td>\n",
       "    </tr>\n",
       "    <tr>\n",
       "      <th id=\"T_c4df2_level0_row4\" class=\"row_heading level0 row4\" >13</th>\n",
       "      <td id=\"T_c4df2_row4_col0\" class=\"data row4 col0\" >KCE</td>\n",
       "      <td id=\"T_c4df2_row4_col1\" class=\"data row4 col1\" >22.00</td>\n",
       "      <td id=\"T_c4df2_row4_col2\" class=\"data row4 col2\" >22.70</td>\n",
       "      <td id=\"T_c4df2_row4_col3\" class=\"data row4 col3\" >-3.08%</td>\n",
       "      <td id=\"T_c4df2_row4_col4\" class=\"data row4 col4\" >Worse</td>\n",
       "    </tr>\n",
       "    <tr>\n",
       "      <th id=\"T_c4df2_level0_row5\" class=\"row_heading level0 row5\" >11</th>\n",
       "      <td id=\"T_c4df2_row5_col0\" class=\"data row5 col0\" >JMART</td>\n",
       "      <td id=\"T_c4df2_row5_col1\" class=\"data row5 col1\" >10.90</td>\n",
       "      <td id=\"T_c4df2_row5_col2\" class=\"data row5 col2\" >11.20</td>\n",
       "      <td id=\"T_c4df2_row5_col3\" class=\"data row5 col3\" >-2.68%</td>\n",
       "      <td id=\"T_c4df2_row5_col4\" class=\"data row5 col4\" >Worse</td>\n",
       "    </tr>\n",
       "    <tr>\n",
       "      <th id=\"T_c4df2_level0_row6\" class=\"row_heading level0 row6\" >12</th>\n",
       "      <td id=\"T_c4df2_row6_col0\" class=\"data row6 col0\" >JMT</td>\n",
       "      <td id=\"T_c4df2_row6_col1\" class=\"data row6 col1\" >14.70</td>\n",
       "      <td id=\"T_c4df2_row6_col2\" class=\"data row6 col2\" >15.00</td>\n",
       "      <td id=\"T_c4df2_row6_col3\" class=\"data row6 col3\" >-2.00%</td>\n",
       "      <td id=\"T_c4df2_row6_col4\" class=\"data row6 col4\" >Worse</td>\n",
       "    </tr>\n",
       "    <tr>\n",
       "      <th id=\"T_c4df2_level0_row7\" class=\"row_heading level0 row7\" >30</th>\n",
       "      <td id=\"T_c4df2_row7_col0\" class=\"data row7 col0\" >WHART</td>\n",
       "      <td id=\"T_c4df2_row7_col1\" class=\"data row7 col1\" >10.00</td>\n",
       "      <td id=\"T_c4df2_row7_col2\" class=\"data row7 col2\" >10.20</td>\n",
       "      <td id=\"T_c4df2_row7_col3\" class=\"data row7 col3\" >-1.96%</td>\n",
       "      <td id=\"T_c4df2_row7_col4\" class=\"data row7 col4\" >Worse</td>\n",
       "    </tr>\n",
       "    <tr>\n",
       "      <th id=\"T_c4df2_level0_row8\" class=\"row_heading level0 row8\" >14</th>\n",
       "      <td id=\"T_c4df2_row8_col0\" class=\"data row8 col0\" >MCS</td>\n",
       "      <td id=\"T_c4df2_row8_col1\" class=\"data row8 col1\" >6.20</td>\n",
       "      <td id=\"T_c4df2_row8_col2\" class=\"data row8 col2\" >6.30</td>\n",
       "      <td id=\"T_c4df2_row8_col3\" class=\"data row8 col3\" >-1.59%</td>\n",
       "      <td id=\"T_c4df2_row8_col4\" class=\"data row8 col4\" >Worse</td>\n",
       "    </tr>\n",
       "    <tr>\n",
       "      <th id=\"T_c4df2_level0_row9\" class=\"row_heading level0 row9\" >22</th>\n",
       "      <td id=\"T_c4df2_row9_col0\" class=\"data row9 col0\" >SINGER</td>\n",
       "      <td id=\"T_c4df2_row9_col1\" class=\"data row9 col1\" >6.75</td>\n",
       "      <td id=\"T_c4df2_row9_col2\" class=\"data row9 col2\" >6.85</td>\n",
       "      <td id=\"T_c4df2_row9_col3\" class=\"data row9 col3\" >-1.46%</td>\n",
       "      <td id=\"T_c4df2_row9_col4\" class=\"data row9 col4\" >Worse</td>\n",
       "    </tr>\n",
       "    <tr>\n",
       "      <th id=\"T_c4df2_level0_row10\" class=\"row_heading level0 row10\" >26</th>\n",
       "      <td id=\"T_c4df2_row10_col0\" class=\"data row10 col0\" >TMT</td>\n",
       "      <td id=\"T_c4df2_row10_col1\" class=\"data row10 col1\" >3.16</td>\n",
       "      <td id=\"T_c4df2_row10_col2\" class=\"data row10 col2\" >3.20</td>\n",
       "      <td id=\"T_c4df2_row10_col3\" class=\"data row10 col3\" >-1.25%</td>\n",
       "      <td id=\"T_c4df2_row10_col4\" class=\"data row10 col4\" >Worse</td>\n",
       "    </tr>\n",
       "    <tr>\n",
       "      <th id=\"T_c4df2_level0_row11\" class=\"row_heading level0 row11\" >21</th>\n",
       "      <td id=\"T_c4df2_row11_col0\" class=\"data row11 col0\" >SENA</td>\n",
       "      <td id=\"T_c4df2_row11_col1\" class=\"data row11 col1\" >2.18</td>\n",
       "      <td id=\"T_c4df2_row11_col2\" class=\"data row11 col2\" >2.20</td>\n",
       "      <td id=\"T_c4df2_row11_col3\" class=\"data row11 col3\" >-0.91%</td>\n",
       "      <td id=\"T_c4df2_row11_col4\" class=\"data row11 col4\" >Worse</td>\n",
       "    </tr>\n",
       "    <tr>\n",
       "      <th id=\"T_c4df2_level0_row12\" class=\"row_heading level0 row12\" >7</th>\n",
       "      <td id=\"T_c4df2_row12_col0\" class=\"data row12 col0\" >CPNREIT</td>\n",
       "      <td id=\"T_c4df2_row12_col1\" class=\"data row12 col1\" >12.10</td>\n",
       "      <td id=\"T_c4df2_row12_col2\" class=\"data row12 col2\" >12.20</td>\n",
       "      <td id=\"T_c4df2_row12_col3\" class=\"data row12 col3\" >-0.82%</td>\n",
       "      <td id=\"T_c4df2_row12_col4\" class=\"data row12 col4\" >Worse</td>\n",
       "    </tr>\n",
       "    <tr>\n",
       "      <th id=\"T_c4df2_level0_row13\" class=\"row_heading level0 row13\" >17</th>\n",
       "      <td id=\"T_c4df2_row13_col0\" class=\"data row13 col0\" >PTG</td>\n",
       "      <td id=\"T_c4df2_row13_col1\" class=\"data row13 col1\" >7.45</td>\n",
       "      <td id=\"T_c4df2_row13_col2\" class=\"data row13 col2\" >7.50</td>\n",
       "      <td id=\"T_c4df2_row13_col3\" class=\"data row13 col3\" >-0.67%</td>\n",
       "      <td id=\"T_c4df2_row13_col4\" class=\"data row13 col4\" >Worse</td>\n",
       "    </tr>\n",
       "    <tr>\n",
       "      <th id=\"T_c4df2_level0_row14\" class=\"row_heading level0 row14\" >15</th>\n",
       "      <td id=\"T_c4df2_row14_col0\" class=\"data row14 col0\" >NER</td>\n",
       "      <td id=\"T_c4df2_row14_col1\" class=\"data row14 col1\" >4.90</td>\n",
       "      <td id=\"T_c4df2_row14_col2\" class=\"data row14 col2\" >4.92</td>\n",
       "      <td id=\"T_c4df2_row14_col3\" class=\"data row14 col3\" >-0.41%</td>\n",
       "      <td id=\"T_c4df2_row14_col4\" class=\"data row14 col4\" >Worse</td>\n",
       "    </tr>\n",
       "    <tr>\n",
       "      <th id=\"T_c4df2_level0_row15\" class=\"row_heading level0 row15\" >29</th>\n",
       "      <td id=\"T_c4df2_row15_col0\" class=\"data row15 col0\" >WHAIR</td>\n",
       "      <td id=\"T_c4df2_row15_col1\" class=\"data row15 col1\" >6.45</td>\n",
       "      <td id=\"T_c4df2_row15_col2\" class=\"data row15 col2\" >6.45</td>\n",
       "      <td id=\"T_c4df2_row15_col3\" class=\"data row15 col3\" >0.00%</td>\n",
       "      <td id=\"T_c4df2_row15_col4\" class=\"data row15 col4\" >No Change</td>\n",
       "    </tr>\n",
       "    <tr>\n",
       "      <th id=\"T_c4df2_level0_row16\" class=\"row_heading level0 row16\" >8</th>\n",
       "      <td id=\"T_c4df2_row16_col0\" class=\"data row16 col0\" >DIF</td>\n",
       "      <td id=\"T_c4df2_row16_col1\" class=\"data row16 col1\" >8.40</td>\n",
       "      <td id=\"T_c4df2_row16_col2\" class=\"data row16 col2\" >8.40</td>\n",
       "      <td id=\"T_c4df2_row16_col3\" class=\"data row16 col3\" >0.00%</td>\n",
       "      <td id=\"T_c4df2_row16_col4\" class=\"data row16 col4\" >No Change</td>\n",
       "    </tr>\n",
       "    <tr>\n",
       "      <th id=\"T_c4df2_level0_row17\" class=\"row_heading level0 row17\" >4</th>\n",
       "      <td id=\"T_c4df2_row17_col0\" class=\"data row17 col0\" >ASP</td>\n",
       "      <td id=\"T_c4df2_row17_col1\" class=\"data row17 col1\" >2.32</td>\n",
       "      <td id=\"T_c4df2_row17_col2\" class=\"data row17 col2\" >2.32</td>\n",
       "      <td id=\"T_c4df2_row17_col3\" class=\"data row17 col3\" >0.00%</td>\n",
       "      <td id=\"T_c4df2_row17_col4\" class=\"data row17 col4\" >No Change</td>\n",
       "    </tr>\n",
       "    <tr>\n",
       "      <th id=\"T_c4df2_level0_row18\" class=\"row_heading level0 row18\" >3</th>\n",
       "      <td id=\"T_c4df2_row18_col0\" class=\"data row18 col0\" >ASK</td>\n",
       "      <td id=\"T_c4df2_row18_col1\" class=\"data row18 col1\" >8.70</td>\n",
       "      <td id=\"T_c4df2_row18_col2\" class=\"data row18 col2\" >8.70</td>\n",
       "      <td id=\"T_c4df2_row18_col3\" class=\"data row18 col3\" >0.00%</td>\n",
       "      <td id=\"T_c4df2_row18_col4\" class=\"data row18 col4\" >No Change</td>\n",
       "    </tr>\n",
       "    <tr>\n",
       "      <th id=\"T_c4df2_level0_row19\" class=\"row_heading level0 row19\" >25</th>\n",
       "      <td id=\"T_c4df2_row19_col0\" class=\"data row19 col0\" >TFFIF</td>\n",
       "      <td id=\"T_c4df2_row19_col1\" class=\"data row19 col1\" >6.30</td>\n",
       "      <td id=\"T_c4df2_row19_col2\" class=\"data row19 col2\" >6.30</td>\n",
       "      <td id=\"T_c4df2_row19_col3\" class=\"data row19 col3\" >0.00%</td>\n",
       "      <td id=\"T_c4df2_row19_col4\" class=\"data row19 col4\" >No Change</td>\n",
       "    </tr>\n",
       "    <tr>\n",
       "      <th id=\"T_c4df2_level0_row20\" class=\"row_heading level0 row20\" >28</th>\n",
       "      <td id=\"T_c4df2_row20_col0\" class=\"data row20 col0\" >TVO</td>\n",
       "      <td id=\"T_c4df2_row20_col1\" class=\"data row20 col1\" >21.00</td>\n",
       "      <td id=\"T_c4df2_row20_col2\" class=\"data row20 col2\" >21.00</td>\n",
       "      <td id=\"T_c4df2_row20_col3\" class=\"data row20 col3\" >0.00%</td>\n",
       "      <td id=\"T_c4df2_row20_col4\" class=\"data row20 col4\" >No Change</td>\n",
       "    </tr>\n",
       "    <tr>\n",
       "      <th id=\"T_c4df2_level0_row21\" class=\"row_heading level0 row21\" >16</th>\n",
       "      <td id=\"T_c4df2_row21_col0\" class=\"data row21 col0\" >ORI</td>\n",
       "      <td id=\"T_c4df2_row21_col1\" class=\"data row21 col1\" >3.42</td>\n",
       "      <td id=\"T_c4df2_row21_col2\" class=\"data row21 col2\" >3.40</td>\n",
       "      <td id=\"T_c4df2_row21_col3\" class=\"data row21 col3\" >0.59%</td>\n",
       "      <td id=\"T_c4df2_row21_col4\" class=\"data row21 col4\" >Better</td>\n",
       "    </tr>\n",
       "    <tr>\n",
       "      <th id=\"T_c4df2_level0_row22\" class=\"row_heading level0 row22\" >2</th>\n",
       "      <td id=\"T_c4df2_row22_col0\" class=\"data row22 col0\" >AIMIRT</td>\n",
       "      <td id=\"T_c4df2_row22_col1\" class=\"data row22 col1\" >10.50</td>\n",
       "      <td id=\"T_c4df2_row22_col2\" class=\"data row22 col2\" >10.40</td>\n",
       "      <td id=\"T_c4df2_row22_col3\" class=\"data row22 col3\" >0.96%</td>\n",
       "      <td id=\"T_c4df2_row22_col4\" class=\"data row22 col4\" >Better</td>\n",
       "    </tr>\n",
       "    <tr>\n",
       "      <th id=\"T_c4df2_level0_row23\" class=\"row_heading level0 row23\" >1</th>\n",
       "      <td id=\"T_c4df2_row23_col0\" class=\"data row23 col0\" >AH</td>\n",
       "      <td id=\"T_c4df2_row23_col1\" class=\"data row23 col1\" >14.30</td>\n",
       "      <td id=\"T_c4df2_row23_col2\" class=\"data row23 col2\" >14.10</td>\n",
       "      <td id=\"T_c4df2_row23_col3\" class=\"data row23 col3\" >1.42%</td>\n",
       "      <td id=\"T_c4df2_row23_col4\" class=\"data row23 col4\" >Better</td>\n",
       "    </tr>\n",
       "    <tr>\n",
       "      <th id=\"T_c4df2_level0_row24\" class=\"row_heading level0 row24\" >24</th>\n",
       "      <td id=\"T_c4df2_row24_col0\" class=\"data row24 col0\" >SYNEX</td>\n",
       "      <td id=\"T_c4df2_row24_col1\" class=\"data row24 col1\" >13.40</td>\n",
       "      <td id=\"T_c4df2_row24_col2\" class=\"data row24 col2\" >13.20</td>\n",
       "      <td id=\"T_c4df2_row24_col3\" class=\"data row24 col3\" >1.52%</td>\n",
       "      <td id=\"T_c4df2_row24_col4\" class=\"data row24 col4\" >Better</td>\n",
       "    </tr>\n",
       "    <tr>\n",
       "      <th id=\"T_c4df2_level0_row25\" class=\"row_heading level0 row25\" >10</th>\n",
       "      <td id=\"T_c4df2_row25_col0\" class=\"data row25 col0\" >IVL</td>\n",
       "      <td id=\"T_c4df2_row25_col1\" class=\"data row25 col1\" >23.00</td>\n",
       "      <td id=\"T_c4df2_row25_col2\" class=\"data row25 col2\" >22.60</td>\n",
       "      <td id=\"T_c4df2_row25_col3\" class=\"data row25 col3\" >1.77%</td>\n",
       "      <td id=\"T_c4df2_row25_col4\" class=\"data row25 col4\" >Better</td>\n",
       "    </tr>\n",
       "    <tr>\n",
       "      <th id=\"T_c4df2_level0_row26\" class=\"row_heading level0 row26\" >0</th>\n",
       "      <td id=\"T_c4df2_row26_col0\" class=\"data row26 col0\" >3BBIF</td>\n",
       "      <td id=\"T_c4df2_row26_col1\" class=\"data row26 col1\" >5.25</td>\n",
       "      <td id=\"T_c4df2_row26_col2\" class=\"data row26 col2\" >5.15</td>\n",
       "      <td id=\"T_c4df2_row26_col3\" class=\"data row26 col3\" >1.94%</td>\n",
       "      <td id=\"T_c4df2_row26_col4\" class=\"data row26 col4\" >Better</td>\n",
       "    </tr>\n",
       "    <tr>\n",
       "      <th id=\"T_c4df2_level0_row27\" class=\"row_heading level0 row27\" >5</th>\n",
       "      <td id=\"T_c4df2_row27_col0\" class=\"data row27 col0\" >AWC</td>\n",
       "      <td id=\"T_c4df2_row27_col1\" class=\"data row27 col1\" >3.16</td>\n",
       "      <td id=\"T_c4df2_row27_col2\" class=\"data row27 col2\" >3.08</td>\n",
       "      <td id=\"T_c4df2_row27_col3\" class=\"data row27 col3\" >2.60%</td>\n",
       "      <td id=\"T_c4df2_row27_col4\" class=\"data row27 col4\" >Better</td>\n",
       "    </tr>\n",
       "    <tr>\n",
       "      <th id=\"T_c4df2_level0_row28\" class=\"row_heading level0 row28\" >20</th>\n",
       "      <td id=\"T_c4df2_row28_col0\" class=\"data row28 col0\" >SCC</td>\n",
       "      <td id=\"T_c4df2_row28_col1\" class=\"data row28 col1\" >154.00</td>\n",
       "      <td id=\"T_c4df2_row28_col2\" class=\"data row28 col2\" >150.00</td>\n",
       "      <td id=\"T_c4df2_row28_col3\" class=\"data row28 col3\" >2.67%</td>\n",
       "      <td id=\"T_c4df2_row28_col4\" class=\"data row28 col4\" >Better</td>\n",
       "    </tr>\n",
       "    <tr>\n",
       "      <th id=\"T_c4df2_level0_row29\" class=\"row_heading level0 row29\" >9</th>\n",
       "      <td id=\"T_c4df2_row29_col0\" class=\"data row29 col0\" >GVREIT</td>\n",
       "      <td id=\"T_c4df2_row29_col1\" class=\"data row29 col1\" >6.75</td>\n",
       "      <td id=\"T_c4df2_row29_col2\" class=\"data row29 col2\" >6.50</td>\n",
       "      <td id=\"T_c4df2_row29_col3\" class=\"data row29 col3\" >3.85%</td>\n",
       "      <td id=\"T_c4df2_row29_col4\" class=\"data row29 col4\" >Better</td>\n",
       "    </tr>\n",
       "    <tr>\n",
       "      <th id=\"T_c4df2_level0_row30\" class=\"row_heading level0 row30\" >18</th>\n",
       "      <td id=\"T_c4df2_row30_col0\" class=\"data row30 col0\" >PTTGC</td>\n",
       "      <td id=\"T_c4df2_row30_col1\" class=\"data row30 col1\" >21.50</td>\n",
       "      <td id=\"T_c4df2_row30_col2\" class=\"data row30 col2\" >20.70</td>\n",
       "      <td id=\"T_c4df2_row30_col3\" class=\"data row30 col3\" >3.86%</td>\n",
       "      <td id=\"T_c4df2_row30_col4\" class=\"data row30 col4\" >Better</td>\n",
       "    </tr>\n",
       "  </tbody>\n",
       "</table>\n"
      ],
      "text/plain": [
       "<pandas.io.formats.style.Styler at 0x1b2cc414860>"
      ]
     },
     "execution_count": 20,
     "metadata": {},
     "output_type": "execute_result"
    }
   ],
   "source": [
    "trend.sort_values(by=['percent'],ascending=[True]).style.format(format_dict)"
   ]
  },
  {
   "cell_type": "code",
   "execution_count": 21,
   "metadata": {},
   "outputs": [],
   "source": [
    "file_name = 'trend.csv'\n",
    "output_file = os.path.join(dat_path, file_name)\n",
    "god_file = os.path.join(god_path, file_name)\n",
    "icd_file = os.path.join(icd_path, file_name)\n",
    "osd_file = os.path.join(osd_path, file_name)"
   ]
  },
  {
   "cell_type": "code",
   "execution_count": 22,
   "metadata": {},
   "outputs": [
    {
     "name": "stdout",
     "output_type": "stream",
     "text": [
      "Output file : C:\\Users\\PC1\\OneDrive\\A5\\Data\\trend.csv\n",
      "icd_file : C:\\Users\\PC1\\iCloudDrive\\Data\\trend.csv\n",
      "god_file : C:\\Users\\PC1\\OneDrive\\Imports\\santisoontarinka@gmail.com - Google Drive\\Data\\trend.csv\n",
      "osd_file : C:\\Users\\PC1\\OneDrive\\Documents\\obsidian-git-sync\\Data\\trend.csv\n"
     ]
    }
   ],
   "source": [
    "print(f\"Output file : {output_file}\") \n",
    "print(f\"icd_file : {icd_file}\") \n",
    "print(f\"god_file : {god_file}\") \n",
    "print(f\"osd_file : {osd_file}\")"
   ]
  },
  {
   "cell_type": "code",
   "execution_count": 23,
   "metadata": {},
   "outputs": [],
   "source": [
    "trend.sort_values(['percent'],ascending=[True]).to_csv(output_file, index=False)\n",
    "trend.sort_values(['percent'],ascending=[True]).to_csv(god_file, index=False)\n",
    "trend.sort_values(['percent'],ascending=[True]).to_csv(icd_file, index=False)\n",
    "trend.sort_values(['percent'],ascending=[True]).to_csv(osd_file, index=False)"
   ]
  },
  {
   "cell_type": "markdown",
   "metadata": {},
   "source": [
    "### Filter only performance = \"Worse\""
   ]
  },
  {
   "cell_type": "code",
   "execution_count": 25,
   "metadata": {},
   "outputs": [
    {
     "data": {
      "text/plain": [
       "(15, 5)"
      ]
     },
     "execution_count": 25,
     "metadata": {},
     "output_type": "execute_result"
    }
   ],
   "source": [
    "mask = trend.perform == 'Worse'\n",
    "trend[mask].shape"
   ]
  },
  {
   "cell_type": "code",
   "execution_count": 26,
   "metadata": {},
   "outputs": [
    {
     "data": {
      "text/html": [
       "<style type=\"text/css\">\n",
       "</style>\n",
       "<table id=\"T_70c85\">\n",
       "  <thead>\n",
       "    <tr>\n",
       "      <th class=\"blank level0\" >&nbsp;</th>\n",
       "      <th id=\"T_70c85_level0_col0\" class=\"col_heading level0 col0\" >proportion</th>\n",
       "    </tr>\n",
       "    <tr>\n",
       "      <th class=\"index_name level0\" >perform</th>\n",
       "      <th class=\"blank col0\" >&nbsp;</th>\n",
       "    </tr>\n",
       "  </thead>\n",
       "  <tbody>\n",
       "    <tr>\n",
       "      <th id=\"T_70c85_level0_row0\" class=\"row_heading level0 row0\" >Worse</th>\n",
       "      <td id=\"T_70c85_row0_col0\" class=\"data row0 col0\" >48.39%</td>\n",
       "    </tr>\n",
       "    <tr>\n",
       "      <th id=\"T_70c85_level0_row1\" class=\"row_heading level0 row1\" >Better</th>\n",
       "      <td id=\"T_70c85_row1_col0\" class=\"data row1 col0\" >32.26%</td>\n",
       "    </tr>\n",
       "    <tr>\n",
       "      <th id=\"T_70c85_level0_row2\" class=\"row_heading level0 row2\" >No Change</th>\n",
       "      <td id=\"T_70c85_row2_col0\" class=\"data row2 col0\" >19.35%</td>\n",
       "    </tr>\n",
       "  </tbody>\n",
       "</table>\n"
      ],
      "text/plain": [
       "<pandas.io.formats.style.Styler at 0x1b2cc414110>"
      ]
     },
     "execution_count": 26,
     "metadata": {},
     "output_type": "execute_result"
    }
   ],
   "source": [
    "trend.perform.value_counts(normalize=True).to_frame().style.format('{:.2%}')"
   ]
  },
  {
   "cell_type": "code",
   "execution_count": 27,
   "metadata": {},
   "outputs": [
    {
     "data": {
      "text/plain": [
       "(246, 8)"
      ]
     },
     "execution_count": 27,
     "metadata": {},
     "output_type": "execute_result"
    }
   ],
   "source": [
    "sql = '''\n",
    "SELECT name, max_price AS max, min_price AS min, pe, pbv, daily_volume AS volume, beta, market\n",
    "FROM stocks\n",
    "'''\n",
    "my_stocks = pd.read_sql(sql, conmy)\n",
    "my_stocks.shape"
   ]
  },
  {
   "cell_type": "code",
   "execution_count": 28,
   "metadata": {},
   "outputs": [],
   "source": [
    "filters = [\n",
    "   (my_stocks.market.str.contains('SET50')),\n",
    "   (my_stocks.market.str.contains('SET100')),\n",
    "   (my_stocks.market.str.contains('mai'))]\n",
    "values = ['SET50','SET100','mai']\n",
    "my_stocks[\"mrkt\"] = np.select(filters, values, default='SET999')"
   ]
  },
  {
   "cell_type": "code",
   "execution_count": 29,
   "metadata": {},
   "outputs": [
    {
     "data": {
      "text/plain": [
       "(31, 13)"
      ]
     },
     "execution_count": 29,
     "metadata": {},
     "output_type": "execute_result"
    }
   ],
   "source": [
    "trend2 = pd.merge(trend, my_stocks, on='name', how='inner')\n",
    "trend2.sort_values(['percent'],ascending=[True]).shape"
   ]
  },
  {
   "cell_type": "code",
   "execution_count": 30,
   "metadata": {},
   "outputs": [
    {
     "data": {
      "text/html": [
       "<style type=\"text/css\">\n",
       "</style>\n",
       "<table id=\"T_506de\">\n",
       "  <thead>\n",
       "    <tr>\n",
       "      <th class=\"blank level0\" >&nbsp;</th>\n",
       "      <th id=\"T_506de_level0_col0\" class=\"col_heading level0 col0\" >name</th>\n",
       "      <th id=\"T_506de_level0_col1\" class=\"col_heading level0 col1\" >price_w</th>\n",
       "      <th id=\"T_506de_level0_col2\" class=\"col_heading level0 col2\" >price_d</th>\n",
       "      <th id=\"T_506de_level0_col3\" class=\"col_heading level0 col3\" >percent</th>\n",
       "      <th id=\"T_506de_level0_col4\" class=\"col_heading level0 col4\" >perform</th>\n",
       "      <th id=\"T_506de_level0_col5\" class=\"col_heading level0 col5\" >mrkt</th>\n",
       "    </tr>\n",
       "  </thead>\n",
       "  <tbody>\n",
       "    <tr>\n",
       "      <th id=\"T_506de_level0_row0\" class=\"row_heading level0 row0\" >11</th>\n",
       "      <td id=\"T_506de_row0_col0\" class=\"data row0 col0\" >JMART</td>\n",
       "      <td id=\"T_506de_row0_col1\" class=\"data row0 col1\" >11.20</td>\n",
       "      <td id=\"T_506de_row0_col2\" class=\"data row0 col2\" >10.90</td>\n",
       "      <td id=\"T_506de_row0_col3\" class=\"data row0 col3\" >-2.68%</td>\n",
       "      <td id=\"T_506de_row0_col4\" class=\"data row0 col4\" >Worse</td>\n",
       "      <td id=\"T_506de_row0_col5\" class=\"data row0 col5\" >SET50</td>\n",
       "    </tr>\n",
       "    <tr>\n",
       "      <th id=\"T_506de_level0_row1\" class=\"row_heading level0 row1\" >12</th>\n",
       "      <td id=\"T_506de_row1_col0\" class=\"data row1 col0\" >JMT</td>\n",
       "      <td id=\"T_506de_row1_col1\" class=\"data row1 col1\" >15.00</td>\n",
       "      <td id=\"T_506de_row1_col2\" class=\"data row1 col2\" >14.70</td>\n",
       "      <td id=\"T_506de_row1_col3\" class=\"data row1 col3\" >-2.00%</td>\n",
       "      <td id=\"T_506de_row1_col4\" class=\"data row1 col4\" >Worse</td>\n",
       "      <td id=\"T_506de_row1_col5\" class=\"data row1 col5\" >SET50</td>\n",
       "    </tr>\n",
       "    <tr>\n",
       "      <th id=\"T_506de_level0_row2\" class=\"row_heading level0 row2\" >10</th>\n",
       "      <td id=\"T_506de_row2_col0\" class=\"data row2 col0\" >IVL</td>\n",
       "      <td id=\"T_506de_row2_col1\" class=\"data row2 col1\" >22.60</td>\n",
       "      <td id=\"T_506de_row2_col2\" class=\"data row2 col2\" >23.00</td>\n",
       "      <td id=\"T_506de_row2_col3\" class=\"data row2 col3\" >1.77%</td>\n",
       "      <td id=\"T_506de_row2_col4\" class=\"data row2 col4\" >Better</td>\n",
       "      <td id=\"T_506de_row2_col5\" class=\"data row2 col5\" >SET50</td>\n",
       "    </tr>\n",
       "    <tr>\n",
       "      <th id=\"T_506de_level0_row3\" class=\"row_heading level0 row3\" >5</th>\n",
       "      <td id=\"T_506de_row3_col0\" class=\"data row3 col0\" >AWC</td>\n",
       "      <td id=\"T_506de_row3_col1\" class=\"data row3 col1\" >3.08</td>\n",
       "      <td id=\"T_506de_row3_col2\" class=\"data row3 col2\" >3.16</td>\n",
       "      <td id=\"T_506de_row3_col3\" class=\"data row3 col3\" >2.60%</td>\n",
       "      <td id=\"T_506de_row3_col4\" class=\"data row3 col4\" >Better</td>\n",
       "      <td id=\"T_506de_row3_col5\" class=\"data row3 col5\" >SET50</td>\n",
       "    </tr>\n",
       "    <tr>\n",
       "      <th id=\"T_506de_level0_row4\" class=\"row_heading level0 row4\" >20</th>\n",
       "      <td id=\"T_506de_row4_col0\" class=\"data row4 col0\" >SCC</td>\n",
       "      <td id=\"T_506de_row4_col1\" class=\"data row4 col1\" >150.00</td>\n",
       "      <td id=\"T_506de_row4_col2\" class=\"data row4 col2\" >154.00</td>\n",
       "      <td id=\"T_506de_row4_col3\" class=\"data row4 col3\" >2.67%</td>\n",
       "      <td id=\"T_506de_row4_col4\" class=\"data row4 col4\" >Better</td>\n",
       "      <td id=\"T_506de_row4_col5\" class=\"data row4 col5\" >SET50</td>\n",
       "    </tr>\n",
       "    <tr>\n",
       "      <th id=\"T_506de_level0_row5\" class=\"row_heading level0 row5\" >18</th>\n",
       "      <td id=\"T_506de_row5_col0\" class=\"data row5 col0\" >PTTGC</td>\n",
       "      <td id=\"T_506de_row5_col1\" class=\"data row5 col1\" >20.70</td>\n",
       "      <td id=\"T_506de_row5_col2\" class=\"data row5 col2\" >21.50</td>\n",
       "      <td id=\"T_506de_row5_col3\" class=\"data row5 col3\" >3.86%</td>\n",
       "      <td id=\"T_506de_row5_col4\" class=\"data row5 col4\" >Better</td>\n",
       "      <td id=\"T_506de_row5_col5\" class=\"data row5 col5\" >SET50</td>\n",
       "    </tr>\n",
       "  </tbody>\n",
       "</table>\n"
      ],
      "text/plain": [
       "<pandas.io.formats.style.Styler at 0x1b2cc458dd0>"
      ]
     },
     "execution_count": 30,
     "metadata": {},
     "output_type": "execute_result"
    }
   ],
   "source": [
    "set50 = trend2.mrkt.str.contains('SET50') \n",
    "flt_set50 = trend2[set50]\n",
    "flt_set50[cols].sort_values(by=['percent','name'],ascending=[True,True]).style.format(format_dict)"
   ]
  },
  {
   "cell_type": "code",
   "execution_count": 31,
   "metadata": {},
   "outputs": [
    {
     "data": {
      "text/html": [
       "<style type=\"text/css\">\n",
       "</style>\n",
       "<table id=\"T_75df2\">\n",
       "  <thead>\n",
       "    <tr>\n",
       "      <th class=\"blank level0\" >&nbsp;</th>\n",
       "      <th id=\"T_75df2_level0_col0\" class=\"col_heading level0 col0\" >proportion</th>\n",
       "    </tr>\n",
       "    <tr>\n",
       "      <th class=\"index_name level0\" >perform</th>\n",
       "      <th class=\"blank col0\" >&nbsp;</th>\n",
       "    </tr>\n",
       "  </thead>\n",
       "  <tbody>\n",
       "    <tr>\n",
       "      <th id=\"T_75df2_level0_row0\" class=\"row_heading level0 row0\" >Better</th>\n",
       "      <td id=\"T_75df2_row0_col0\" class=\"data row0 col0\" >66.67%</td>\n",
       "    </tr>\n",
       "    <tr>\n",
       "      <th id=\"T_75df2_level0_row1\" class=\"row_heading level0 row1\" >Worse</th>\n",
       "      <td id=\"T_75df2_row1_col0\" class=\"data row1 col0\" >33.33%</td>\n",
       "    </tr>\n",
       "  </tbody>\n",
       "</table>\n"
      ],
      "text/plain": [
       "<pandas.io.formats.style.Styler at 0x1b2cc46d160>"
      ]
     },
     "execution_count": 31,
     "metadata": {},
     "output_type": "execute_result"
    }
   ],
   "source": [
    "flt_set50.perform.value_counts(normalize=True).to_frame().style.format('{:.2%}')"
   ]
  },
  {
   "cell_type": "code",
   "execution_count": 32,
   "metadata": {
    "scrolled": true
   },
   "outputs": [
    {
     "data": {
      "text/html": [
       "<style type=\"text/css\">\n",
       "</style>\n",
       "<table id=\"T_5cfcf\">\n",
       "  <thead>\n",
       "    <tr>\n",
       "      <th class=\"blank level0\" >&nbsp;</th>\n",
       "      <th id=\"T_5cfcf_level0_col0\" class=\"col_heading level0 col0\" >name</th>\n",
       "      <th id=\"T_5cfcf_level0_col1\" class=\"col_heading level0 col1\" >price_w</th>\n",
       "      <th id=\"T_5cfcf_level0_col2\" class=\"col_heading level0 col2\" >price_d</th>\n",
       "      <th id=\"T_5cfcf_level0_col3\" class=\"col_heading level0 col3\" >percent</th>\n",
       "      <th id=\"T_5cfcf_level0_col4\" class=\"col_heading level0 col4\" >perform</th>\n",
       "      <th id=\"T_5cfcf_level0_col5\" class=\"col_heading level0 col5\" >mrkt</th>\n",
       "    </tr>\n",
       "  </thead>\n",
       "  <tbody>\n",
       "    <tr>\n",
       "      <th id=\"T_5cfcf_level0_row0\" class=\"row_heading level0 row0\" >23</th>\n",
       "      <td id=\"T_5cfcf_row0_col0\" class=\"data row0 col0\" >STA</td>\n",
       "      <td id=\"T_5cfcf_row0_col1\" class=\"data row0 col1\" >16.60</td>\n",
       "      <td id=\"T_5cfcf_row0_col2\" class=\"data row0 col2\" >15.70</td>\n",
       "      <td id=\"T_5cfcf_row0_col3\" class=\"data row0 col3\" >-5.42%</td>\n",
       "      <td id=\"T_5cfcf_row0_col4\" class=\"data row0 col4\" >Worse</td>\n",
       "      <td id=\"T_5cfcf_row0_col5\" class=\"data row0 col5\" >SET100</td>\n",
       "    </tr>\n",
       "    <tr>\n",
       "      <th id=\"T_5cfcf_level0_row1\" class=\"row_heading level0 row1\" >6</th>\n",
       "      <td id=\"T_5cfcf_row1_col0\" class=\"data row1 col0\" >BCH</td>\n",
       "      <td id=\"T_5cfcf_row1_col1\" class=\"data row1 col1\" >15.00</td>\n",
       "      <td id=\"T_5cfcf_row1_col2\" class=\"data row1 col2\" >14.30</td>\n",
       "      <td id=\"T_5cfcf_row1_col3\" class=\"data row1 col3\" >-4.67%</td>\n",
       "      <td id=\"T_5cfcf_row1_col4\" class=\"data row1 col4\" >Worse</td>\n",
       "      <td id=\"T_5cfcf_row1_col5\" class=\"data row1 col5\" >SET100</td>\n",
       "    </tr>\n",
       "    <tr>\n",
       "      <th id=\"T_5cfcf_level0_row2\" class=\"row_heading level0 row2\" >19</th>\n",
       "      <td id=\"T_5cfcf_row2_col0\" class=\"data row2 col0\" >RCL</td>\n",
       "      <td id=\"T_5cfcf_row2_col1\" class=\"data row2 col1\" >24.90</td>\n",
       "      <td id=\"T_5cfcf_row2_col2\" class=\"data row2 col2\" >24.00</td>\n",
       "      <td id=\"T_5cfcf_row2_col3\" class=\"data row2 col3\" >-3.61%</td>\n",
       "      <td id=\"T_5cfcf_row2_col4\" class=\"data row2 col4\" >Worse</td>\n",
       "      <td id=\"T_5cfcf_row2_col5\" class=\"data row2 col5\" >SET100</td>\n",
       "    </tr>\n",
       "    <tr>\n",
       "      <th id=\"T_5cfcf_level0_row3\" class=\"row_heading level0 row3\" >13</th>\n",
       "      <td id=\"T_5cfcf_row3_col0\" class=\"data row3 col0\" >KCE</td>\n",
       "      <td id=\"T_5cfcf_row3_col1\" class=\"data row3 col1\" >22.70</td>\n",
       "      <td id=\"T_5cfcf_row3_col2\" class=\"data row3 col2\" >22.00</td>\n",
       "      <td id=\"T_5cfcf_row3_col3\" class=\"data row3 col3\" >-3.08%</td>\n",
       "      <td id=\"T_5cfcf_row3_col4\" class=\"data row3 col4\" >Worse</td>\n",
       "      <td id=\"T_5cfcf_row3_col5\" class=\"data row3 col5\" >SET100</td>\n",
       "    </tr>\n",
       "    <tr>\n",
       "      <th id=\"T_5cfcf_level0_row4\" class=\"row_heading level0 row4\" >22</th>\n",
       "      <td id=\"T_5cfcf_row4_col0\" class=\"data row4 col0\" >SINGER</td>\n",
       "      <td id=\"T_5cfcf_row4_col1\" class=\"data row4 col1\" >6.85</td>\n",
       "      <td id=\"T_5cfcf_row4_col2\" class=\"data row4 col2\" >6.75</td>\n",
       "      <td id=\"T_5cfcf_row4_col3\" class=\"data row4 col3\" >-1.46%</td>\n",
       "      <td id=\"T_5cfcf_row4_col4\" class=\"data row4 col4\" >Worse</td>\n",
       "      <td id=\"T_5cfcf_row4_col5\" class=\"data row4 col5\" >SET100</td>\n",
       "    </tr>\n",
       "    <tr>\n",
       "      <th id=\"T_5cfcf_level0_row5\" class=\"row_heading level0 row5\" >17</th>\n",
       "      <td id=\"T_5cfcf_row5_col0\" class=\"data row5 col0\" >PTG</td>\n",
       "      <td id=\"T_5cfcf_row5_col1\" class=\"data row5 col1\" >7.50</td>\n",
       "      <td id=\"T_5cfcf_row5_col2\" class=\"data row5 col2\" >7.45</td>\n",
       "      <td id=\"T_5cfcf_row5_col3\" class=\"data row5 col3\" >-0.67%</td>\n",
       "      <td id=\"T_5cfcf_row5_col4\" class=\"data row5 col4\" >Worse</td>\n",
       "      <td id=\"T_5cfcf_row5_col5\" class=\"data row5 col5\" >SET100</td>\n",
       "    </tr>\n",
       "    <tr>\n",
       "      <th id=\"T_5cfcf_level0_row6\" class=\"row_heading level0 row6\" >16</th>\n",
       "      <td id=\"T_5cfcf_row6_col0\" class=\"data row6 col0\" >ORI</td>\n",
       "      <td id=\"T_5cfcf_row6_col1\" class=\"data row6 col1\" >3.40</td>\n",
       "      <td id=\"T_5cfcf_row6_col2\" class=\"data row6 col2\" >3.42</td>\n",
       "      <td id=\"T_5cfcf_row6_col3\" class=\"data row6 col3\" >0.59%</td>\n",
       "      <td id=\"T_5cfcf_row6_col4\" class=\"data row6 col4\" >Better</td>\n",
       "      <td id=\"T_5cfcf_row6_col5\" class=\"data row6 col5\" >SET100</td>\n",
       "    </tr>\n",
       "  </tbody>\n",
       "</table>\n"
      ],
      "text/plain": [
       "<pandas.io.formats.style.Styler at 0x1b2cc46da00>"
      ]
     },
     "execution_count": 32,
     "metadata": {},
     "output_type": "execute_result"
    }
   ],
   "source": [
    "set100 = trend2.mrkt.str.contains('SET100')\n",
    "flt_set100 = trend2[set100]\n",
    "flt_set100[cols].sort_values(by=['percent','name'],ascending=[True,True]).style.format(format_dict)"
   ]
  },
  {
   "cell_type": "code",
   "execution_count": 33,
   "metadata": {},
   "outputs": [
    {
     "data": {
      "text/html": [
       "<style type=\"text/css\">\n",
       "</style>\n",
       "<table id=\"T_85522\">\n",
       "  <thead>\n",
       "    <tr>\n",
       "      <th class=\"blank level0\" >&nbsp;</th>\n",
       "      <th id=\"T_85522_level0_col0\" class=\"col_heading level0 col0\" >proportion</th>\n",
       "    </tr>\n",
       "    <tr>\n",
       "      <th class=\"index_name level0\" >perform</th>\n",
       "      <th class=\"blank col0\" >&nbsp;</th>\n",
       "    </tr>\n",
       "  </thead>\n",
       "  <tbody>\n",
       "    <tr>\n",
       "      <th id=\"T_85522_level0_row0\" class=\"row_heading level0 row0\" >Worse</th>\n",
       "      <td id=\"T_85522_row0_col0\" class=\"data row0 col0\" >85.71%</td>\n",
       "    </tr>\n",
       "    <tr>\n",
       "      <th id=\"T_85522_level0_row1\" class=\"row_heading level0 row1\" >Better</th>\n",
       "      <td id=\"T_85522_row1_col0\" class=\"data row1 col0\" >14.29%</td>\n",
       "    </tr>\n",
       "  </tbody>\n",
       "</table>\n"
      ],
      "text/plain": [
       "<pandas.io.formats.style.Styler at 0x1b2cc3cb290>"
      ]
     },
     "execution_count": 33,
     "metadata": {},
     "output_type": "execute_result"
    }
   ],
   "source": [
    "flt_set100[cols].perform.value_counts(normalize=True).to_frame().style.format('{:.2%}')"
   ]
  },
  {
   "cell_type": "code",
   "execution_count": 34,
   "metadata": {},
   "outputs": [
    {
     "data": {
      "text/html": [
       "<style type=\"text/css\">\n",
       "</style>\n",
       "<table id=\"T_82149\">\n",
       "  <thead>\n",
       "    <tr>\n",
       "      <th class=\"blank level0\" >&nbsp;</th>\n",
       "      <th id=\"T_82149_level0_col0\" class=\"col_heading level0 col0\" >name</th>\n",
       "      <th id=\"T_82149_level0_col1\" class=\"col_heading level0 col1\" >price_w</th>\n",
       "      <th id=\"T_82149_level0_col2\" class=\"col_heading level0 col2\" >price_d</th>\n",
       "      <th id=\"T_82149_level0_col3\" class=\"col_heading level0 col3\" >percent</th>\n",
       "      <th id=\"T_82149_level0_col4\" class=\"col_heading level0 col4\" >perform</th>\n",
       "      <th id=\"T_82149_level0_col5\" class=\"col_heading level0 col5\" >mrkt</th>\n",
       "    </tr>\n",
       "  </thead>\n",
       "  <tbody>\n",
       "    <tr>\n",
       "      <th id=\"T_82149_level0_row0\" class=\"row_heading level0 row0\" >27</th>\n",
       "      <td id=\"T_82149_row0_col0\" class=\"data row0 col0\" >TOA</td>\n",
       "      <td id=\"T_82149_row0_col1\" class=\"data row0 col1\" >13.10</td>\n",
       "      <td id=\"T_82149_row0_col2\" class=\"data row0 col2\" >12.10</td>\n",
       "      <td id=\"T_82149_row0_col3\" class=\"data row0 col3\" >-7.63%</td>\n",
       "      <td id=\"T_82149_row0_col4\" class=\"data row0 col4\" >Worse</td>\n",
       "      <td id=\"T_82149_row0_col5\" class=\"data row0 col5\" >SET999</td>\n",
       "    </tr>\n",
       "    <tr>\n",
       "      <th id=\"T_82149_level0_row1\" class=\"row_heading level0 row1\" >30</th>\n",
       "      <td id=\"T_82149_row1_col0\" class=\"data row1 col0\" >WHART</td>\n",
       "      <td id=\"T_82149_row1_col1\" class=\"data row1 col1\" >10.20</td>\n",
       "      <td id=\"T_82149_row1_col2\" class=\"data row1 col2\" >10.00</td>\n",
       "      <td id=\"T_82149_row1_col3\" class=\"data row1 col3\" >-1.96%</td>\n",
       "      <td id=\"T_82149_row1_col4\" class=\"data row1 col4\" >Worse</td>\n",
       "      <td id=\"T_82149_row1_col5\" class=\"data row1 col5\" >SET999</td>\n",
       "    </tr>\n",
       "    <tr>\n",
       "      <th id=\"T_82149_level0_row2\" class=\"row_heading level0 row2\" >14</th>\n",
       "      <td id=\"T_82149_row2_col0\" class=\"data row2 col0\" >MCS</td>\n",
       "      <td id=\"T_82149_row2_col1\" class=\"data row2 col1\" >6.30</td>\n",
       "      <td id=\"T_82149_row2_col2\" class=\"data row2 col2\" >6.20</td>\n",
       "      <td id=\"T_82149_row2_col3\" class=\"data row2 col3\" >-1.59%</td>\n",
       "      <td id=\"T_82149_row2_col4\" class=\"data row2 col4\" >Worse</td>\n",
       "      <td id=\"T_82149_row2_col5\" class=\"data row2 col5\" >SET999</td>\n",
       "    </tr>\n",
       "    <tr>\n",
       "      <th id=\"T_82149_level0_row3\" class=\"row_heading level0 row3\" >26</th>\n",
       "      <td id=\"T_82149_row3_col0\" class=\"data row3 col0\" >TMT</td>\n",
       "      <td id=\"T_82149_row3_col1\" class=\"data row3 col1\" >3.20</td>\n",
       "      <td id=\"T_82149_row3_col2\" class=\"data row3 col2\" >3.16</td>\n",
       "      <td id=\"T_82149_row3_col3\" class=\"data row3 col3\" >-1.25%</td>\n",
       "      <td id=\"T_82149_row3_col4\" class=\"data row3 col4\" >Worse</td>\n",
       "      <td id=\"T_82149_row3_col5\" class=\"data row3 col5\" >SET999</td>\n",
       "    </tr>\n",
       "    <tr>\n",
       "      <th id=\"T_82149_level0_row4\" class=\"row_heading level0 row4\" >21</th>\n",
       "      <td id=\"T_82149_row4_col0\" class=\"data row4 col0\" >SENA</td>\n",
       "      <td id=\"T_82149_row4_col1\" class=\"data row4 col1\" >2.20</td>\n",
       "      <td id=\"T_82149_row4_col2\" class=\"data row4 col2\" >2.18</td>\n",
       "      <td id=\"T_82149_row4_col3\" class=\"data row4 col3\" >-0.91%</td>\n",
       "      <td id=\"T_82149_row4_col4\" class=\"data row4 col4\" >Worse</td>\n",
       "      <td id=\"T_82149_row4_col5\" class=\"data row4 col5\" >SET999</td>\n",
       "    </tr>\n",
       "    <tr>\n",
       "      <th id=\"T_82149_level0_row5\" class=\"row_heading level0 row5\" >7</th>\n",
       "      <td id=\"T_82149_row5_col0\" class=\"data row5 col0\" >CPNREIT</td>\n",
       "      <td id=\"T_82149_row5_col1\" class=\"data row5 col1\" >12.20</td>\n",
       "      <td id=\"T_82149_row5_col2\" class=\"data row5 col2\" >12.10</td>\n",
       "      <td id=\"T_82149_row5_col3\" class=\"data row5 col3\" >-0.82%</td>\n",
       "      <td id=\"T_82149_row5_col4\" class=\"data row5 col4\" >Worse</td>\n",
       "      <td id=\"T_82149_row5_col5\" class=\"data row5 col5\" >SET999</td>\n",
       "    </tr>\n",
       "    <tr>\n",
       "      <th id=\"T_82149_level0_row6\" class=\"row_heading level0 row6\" >15</th>\n",
       "      <td id=\"T_82149_row6_col0\" class=\"data row6 col0\" >NER</td>\n",
       "      <td id=\"T_82149_row6_col1\" class=\"data row6 col1\" >4.92</td>\n",
       "      <td id=\"T_82149_row6_col2\" class=\"data row6 col2\" >4.90</td>\n",
       "      <td id=\"T_82149_row6_col3\" class=\"data row6 col3\" >-0.41%</td>\n",
       "      <td id=\"T_82149_row6_col4\" class=\"data row6 col4\" >Worse</td>\n",
       "      <td id=\"T_82149_row6_col5\" class=\"data row6 col5\" >SET999</td>\n",
       "    </tr>\n",
       "    <tr>\n",
       "      <th id=\"T_82149_level0_row7\" class=\"row_heading level0 row7\" >3</th>\n",
       "      <td id=\"T_82149_row7_col0\" class=\"data row7 col0\" >ASK</td>\n",
       "      <td id=\"T_82149_row7_col1\" class=\"data row7 col1\" >8.70</td>\n",
       "      <td id=\"T_82149_row7_col2\" class=\"data row7 col2\" >8.70</td>\n",
       "      <td id=\"T_82149_row7_col3\" class=\"data row7 col3\" >0.00%</td>\n",
       "      <td id=\"T_82149_row7_col4\" class=\"data row7 col4\" >No Change</td>\n",
       "      <td id=\"T_82149_row7_col5\" class=\"data row7 col5\" >SET999</td>\n",
       "    </tr>\n",
       "    <tr>\n",
       "      <th id=\"T_82149_level0_row8\" class=\"row_heading level0 row8\" >4</th>\n",
       "      <td id=\"T_82149_row8_col0\" class=\"data row8 col0\" >ASP</td>\n",
       "      <td id=\"T_82149_row8_col1\" class=\"data row8 col1\" >2.32</td>\n",
       "      <td id=\"T_82149_row8_col2\" class=\"data row8 col2\" >2.32</td>\n",
       "      <td id=\"T_82149_row8_col3\" class=\"data row8 col3\" >0.00%</td>\n",
       "      <td id=\"T_82149_row8_col4\" class=\"data row8 col4\" >No Change</td>\n",
       "      <td id=\"T_82149_row8_col5\" class=\"data row8 col5\" >SET999</td>\n",
       "    </tr>\n",
       "    <tr>\n",
       "      <th id=\"T_82149_level0_row9\" class=\"row_heading level0 row9\" >8</th>\n",
       "      <td id=\"T_82149_row9_col0\" class=\"data row9 col0\" >DIF</td>\n",
       "      <td id=\"T_82149_row9_col1\" class=\"data row9 col1\" >8.40</td>\n",
       "      <td id=\"T_82149_row9_col2\" class=\"data row9 col2\" >8.40</td>\n",
       "      <td id=\"T_82149_row9_col3\" class=\"data row9 col3\" >0.00%</td>\n",
       "      <td id=\"T_82149_row9_col4\" class=\"data row9 col4\" >No Change</td>\n",
       "      <td id=\"T_82149_row9_col5\" class=\"data row9 col5\" >SET999</td>\n",
       "    </tr>\n",
       "    <tr>\n",
       "      <th id=\"T_82149_level0_row10\" class=\"row_heading level0 row10\" >25</th>\n",
       "      <td id=\"T_82149_row10_col0\" class=\"data row10 col0\" >TFFIF</td>\n",
       "      <td id=\"T_82149_row10_col1\" class=\"data row10 col1\" >6.30</td>\n",
       "      <td id=\"T_82149_row10_col2\" class=\"data row10 col2\" >6.30</td>\n",
       "      <td id=\"T_82149_row10_col3\" class=\"data row10 col3\" >0.00%</td>\n",
       "      <td id=\"T_82149_row10_col4\" class=\"data row10 col4\" >No Change</td>\n",
       "      <td id=\"T_82149_row10_col5\" class=\"data row10 col5\" >SET999</td>\n",
       "    </tr>\n",
       "    <tr>\n",
       "      <th id=\"T_82149_level0_row11\" class=\"row_heading level0 row11\" >28</th>\n",
       "      <td id=\"T_82149_row11_col0\" class=\"data row11 col0\" >TVO</td>\n",
       "      <td id=\"T_82149_row11_col1\" class=\"data row11 col1\" >21.00</td>\n",
       "      <td id=\"T_82149_row11_col2\" class=\"data row11 col2\" >21.00</td>\n",
       "      <td id=\"T_82149_row11_col3\" class=\"data row11 col3\" >0.00%</td>\n",
       "      <td id=\"T_82149_row11_col4\" class=\"data row11 col4\" >No Change</td>\n",
       "      <td id=\"T_82149_row11_col5\" class=\"data row11 col5\" >SET999</td>\n",
       "    </tr>\n",
       "    <tr>\n",
       "      <th id=\"T_82149_level0_row12\" class=\"row_heading level0 row12\" >29</th>\n",
       "      <td id=\"T_82149_row12_col0\" class=\"data row12 col0\" >WHAIR</td>\n",
       "      <td id=\"T_82149_row12_col1\" class=\"data row12 col1\" >6.45</td>\n",
       "      <td id=\"T_82149_row12_col2\" class=\"data row12 col2\" >6.45</td>\n",
       "      <td id=\"T_82149_row12_col3\" class=\"data row12 col3\" >0.00%</td>\n",
       "      <td id=\"T_82149_row12_col4\" class=\"data row12 col4\" >No Change</td>\n",
       "      <td id=\"T_82149_row12_col5\" class=\"data row12 col5\" >SET999</td>\n",
       "    </tr>\n",
       "    <tr>\n",
       "      <th id=\"T_82149_level0_row13\" class=\"row_heading level0 row13\" >2</th>\n",
       "      <td id=\"T_82149_row13_col0\" class=\"data row13 col0\" >AIMIRT</td>\n",
       "      <td id=\"T_82149_row13_col1\" class=\"data row13 col1\" >10.40</td>\n",
       "      <td id=\"T_82149_row13_col2\" class=\"data row13 col2\" >10.50</td>\n",
       "      <td id=\"T_82149_row13_col3\" class=\"data row13 col3\" >0.96%</td>\n",
       "      <td id=\"T_82149_row13_col4\" class=\"data row13 col4\" >Better</td>\n",
       "      <td id=\"T_82149_row13_col5\" class=\"data row13 col5\" >SET999</td>\n",
       "    </tr>\n",
       "    <tr>\n",
       "      <th id=\"T_82149_level0_row14\" class=\"row_heading level0 row14\" >1</th>\n",
       "      <td id=\"T_82149_row14_col0\" class=\"data row14 col0\" >AH</td>\n",
       "      <td id=\"T_82149_row14_col1\" class=\"data row14 col1\" >14.10</td>\n",
       "      <td id=\"T_82149_row14_col2\" class=\"data row14 col2\" >14.30</td>\n",
       "      <td id=\"T_82149_row14_col3\" class=\"data row14 col3\" >1.42%</td>\n",
       "      <td id=\"T_82149_row14_col4\" class=\"data row14 col4\" >Better</td>\n",
       "      <td id=\"T_82149_row14_col5\" class=\"data row14 col5\" >SET999</td>\n",
       "    </tr>\n",
       "    <tr>\n",
       "      <th id=\"T_82149_level0_row15\" class=\"row_heading level0 row15\" >24</th>\n",
       "      <td id=\"T_82149_row15_col0\" class=\"data row15 col0\" >SYNEX</td>\n",
       "      <td id=\"T_82149_row15_col1\" class=\"data row15 col1\" >13.20</td>\n",
       "      <td id=\"T_82149_row15_col2\" class=\"data row15 col2\" >13.40</td>\n",
       "      <td id=\"T_82149_row15_col3\" class=\"data row15 col3\" >1.52%</td>\n",
       "      <td id=\"T_82149_row15_col4\" class=\"data row15 col4\" >Better</td>\n",
       "      <td id=\"T_82149_row15_col5\" class=\"data row15 col5\" >SET999</td>\n",
       "    </tr>\n",
       "    <tr>\n",
       "      <th id=\"T_82149_level0_row16\" class=\"row_heading level0 row16\" >0</th>\n",
       "      <td id=\"T_82149_row16_col0\" class=\"data row16 col0\" >3BBIF</td>\n",
       "      <td id=\"T_82149_row16_col1\" class=\"data row16 col1\" >5.15</td>\n",
       "      <td id=\"T_82149_row16_col2\" class=\"data row16 col2\" >5.25</td>\n",
       "      <td id=\"T_82149_row16_col3\" class=\"data row16 col3\" >1.94%</td>\n",
       "      <td id=\"T_82149_row16_col4\" class=\"data row16 col4\" >Better</td>\n",
       "      <td id=\"T_82149_row16_col5\" class=\"data row16 col5\" >SET999</td>\n",
       "    </tr>\n",
       "    <tr>\n",
       "      <th id=\"T_82149_level0_row17\" class=\"row_heading level0 row17\" >9</th>\n",
       "      <td id=\"T_82149_row17_col0\" class=\"data row17 col0\" >GVREIT</td>\n",
       "      <td id=\"T_82149_row17_col1\" class=\"data row17 col1\" >6.50</td>\n",
       "      <td id=\"T_82149_row17_col2\" class=\"data row17 col2\" >6.75</td>\n",
       "      <td id=\"T_82149_row17_col3\" class=\"data row17 col3\" >3.85%</td>\n",
       "      <td id=\"T_82149_row17_col4\" class=\"data row17 col4\" >Better</td>\n",
       "      <td id=\"T_82149_row17_col5\" class=\"data row17 col5\" >SET999</td>\n",
       "    </tr>\n",
       "  </tbody>\n",
       "</table>\n"
      ],
      "text/plain": [
       "<pandas.io.formats.style.Styler at 0x1b2cc462270>"
      ]
     },
     "execution_count": 34,
     "metadata": {},
     "output_type": "execute_result"
    }
   ],
   "source": [
    "set999 = trend2.mrkt.str.contains('SET999')\n",
    "flt_set999 = trend2[set999]\n",
    "flt_set999[cols].sort_values(by=['percent','name'],ascending=[True,True]).style.format(format_dict)"
   ]
  },
  {
   "cell_type": "code",
   "execution_count": 35,
   "metadata": {},
   "outputs": [
    {
     "data": {
      "text/html": [
       "<style type=\"text/css\">\n",
       "</style>\n",
       "<table id=\"T_5f6f6\">\n",
       "  <thead>\n",
       "    <tr>\n",
       "      <th class=\"blank level0\" >&nbsp;</th>\n",
       "      <th id=\"T_5f6f6_level0_col0\" class=\"col_heading level0 col0\" >proportion</th>\n",
       "    </tr>\n",
       "    <tr>\n",
       "      <th class=\"index_name level0\" >perform</th>\n",
       "      <th class=\"blank col0\" >&nbsp;</th>\n",
       "    </tr>\n",
       "  </thead>\n",
       "  <tbody>\n",
       "    <tr>\n",
       "      <th id=\"T_5f6f6_level0_row0\" class=\"row_heading level0 row0\" >Worse</th>\n",
       "      <td id=\"T_5f6f6_row0_col0\" class=\"data row0 col0\" >38.89%</td>\n",
       "    </tr>\n",
       "    <tr>\n",
       "      <th id=\"T_5f6f6_level0_row1\" class=\"row_heading level0 row1\" >No Change</th>\n",
       "      <td id=\"T_5f6f6_row1_col0\" class=\"data row1 col0\" >33.33%</td>\n",
       "    </tr>\n",
       "    <tr>\n",
       "      <th id=\"T_5f6f6_level0_row2\" class=\"row_heading level0 row2\" >Better</th>\n",
       "      <td id=\"T_5f6f6_row2_col0\" class=\"data row2 col0\" >27.78%</td>\n",
       "    </tr>\n",
       "  </tbody>\n",
       "</table>\n"
      ],
      "text/plain": [
       "<pandas.io.formats.style.Styler at 0x1b2cc463fe0>"
      ]
     },
     "execution_count": 35,
     "metadata": {},
     "output_type": "execute_result"
    }
   ],
   "source": [
    "flt_set999[cols].perform.value_counts(normalize=True).to_frame().style.format('{:.2%}')"
   ]
  },
  {
   "cell_type": "code",
   "execution_count": 36,
   "metadata": {},
   "outputs": [
    {
     "data": {
      "text/html": [
       "<style type=\"text/css\">\n",
       "</style>\n",
       "<table id=\"T_c92ae\">\n",
       "  <thead>\n",
       "    <tr>\n",
       "      <th class=\"blank level0\" >&nbsp;</th>\n",
       "      <th id=\"T_c92ae_level0_col0\" class=\"col_heading level0 col0\" >name</th>\n",
       "      <th id=\"T_c92ae_level0_col1\" class=\"col_heading level0 col1\" >price_w</th>\n",
       "      <th id=\"T_c92ae_level0_col2\" class=\"col_heading level0 col2\" >price_d</th>\n",
       "      <th id=\"T_c92ae_level0_col3\" class=\"col_heading level0 col3\" >percent</th>\n",
       "      <th id=\"T_c92ae_level0_col4\" class=\"col_heading level0 col4\" >perform</th>\n",
       "      <th id=\"T_c92ae_level0_col5\" class=\"col_heading level0 col5\" >mrkt</th>\n",
       "    </tr>\n",
       "  </thead>\n",
       "  <tbody>\n",
       "  </tbody>\n",
       "</table>\n"
      ],
      "text/plain": [
       "<pandas.io.formats.style.Styler at 0x1b2cc4944d0>"
      ]
     },
     "execution_count": 36,
     "metadata": {},
     "output_type": "execute_result"
    }
   ],
   "source": [
    "setmai = trend2.mrkt.str.contains('mai')\n",
    "flt_setmai = trend2[setmai]\n",
    "flt_setmai[cols].sort_values(by=['percent','name'],ascending=[True,True]).style.format(format_dict)"
   ]
  },
  {
   "cell_type": "code",
   "execution_count": 37,
   "metadata": {},
   "outputs": [
    {
     "data": {
      "text/html": [
       "<style type=\"text/css\">\n",
       "</style>\n",
       "<table id=\"T_1249c\">\n",
       "  <thead>\n",
       "    <tr>\n",
       "      <th class=\"blank level0\" >&nbsp;</th>\n",
       "      <th id=\"T_1249c_level0_col0\" class=\"col_heading level0 col0\" >proportion</th>\n",
       "    </tr>\n",
       "    <tr>\n",
       "      <th class=\"index_name level0\" >perform</th>\n",
       "      <th class=\"blank col0\" >&nbsp;</th>\n",
       "    </tr>\n",
       "  </thead>\n",
       "  <tbody>\n",
       "  </tbody>\n",
       "</table>\n"
      ],
      "text/plain": [
       "<pandas.io.formats.style.Styler at 0x1b2cc4942c0>"
      ]
     },
     "execution_count": 37,
     "metadata": {},
     "output_type": "execute_result"
    }
   ],
   "source": [
    "flt_setmai[cols].perform.value_counts(normalize=True).to_frame().style.format('{:.2%}')"
   ]
  },
  {
   "cell_type": "code",
   "execution_count": 38,
   "metadata": {},
   "outputs": [],
   "source": [
    "const.close()\n",
    "conmy.close()"
   ]
  },
  {
   "cell_type": "code",
   "execution_count": null,
   "metadata": {},
   "outputs": [],
   "source": []
  }
 ],
 "metadata": {
  "anaconda-cloud": {},
  "kernelspec": {
   "display_name": "Python 3 (ipykernel)",
   "language": "python",
   "name": "python3"
  },
  "language_info": {
   "codemirror_mode": {
    "name": "ipython",
    "version": 3
   },
   "file_extension": ".py",
   "mimetype": "text/x-python",
   "name": "python",
   "nbconvert_exporter": "python",
   "pygments_lexer": "ipython3",
   "version": "3.12.3"
  }
 },
 "nbformat": 4,
 "nbformat_minor": 4
}
