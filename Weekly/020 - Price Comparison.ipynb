{
 "cells": [
  {
   "cell_type": "markdown",
   "metadata": {},
   "source": [
    "### portmy database: stocks table\n",
    "### stock database: buy, price tables"
   ]
  },
  {
   "cell_type": "code",
   "execution_count": 2,
   "metadata": {},
   "outputs": [
    {
     "name": "stdout",
     "output_type": "stream",
     "text": [
      "2025-09-14\n"
     ]
    }
   ],
   "source": [
    "import pandas as pd\n",
    "import numpy as np\n",
    "import os\n",
    "from datetime import date, timedelta, datetime\n",
    "from sqlalchemy import create_engine\n",
    "from pandas.tseries.offsets import BDay\n",
    "\n",
    "engine = create_engine(\"sqlite:///c:\\\\ruby\\\\portmy\\\\db\\\\development.sqlite3\")\n",
    "conmy = engine.connect()\n",
    "engine = create_engine(\"mysql+pymysql://root:@localhost:3306/stock\")\n",
    "const = engine.connect()\n",
    "\n",
    "pd.set_option('display.float_format','{:,.2f}'.format)\n",
    "\n",
    "today = date.today()\n",
    "print(today)"
   ]
  },
  {
   "cell_type": "code",
   "execution_count": 3,
   "metadata": {},
   "outputs": [
    {
     "name": "stdout",
     "output_type": "stream",
     "text": [
      "today: 2025-09-14\n",
      "yesterday: 2025-09-12 00:00:00\n"
     ]
    }
   ],
   "source": [
    "# convert the timedelta object to a BusinessDay object\n",
    "num_business_days = BDay(1)\n",
    "yesterday = today - num_business_days\n",
    "print(f'today: {today}')\n",
    "print(f'yesterday: {yesterday}')"
   ]
  },
  {
   "cell_type": "code",
   "execution_count": 4,
   "metadata": {},
   "outputs": [
    {
     "name": "stdout",
     "output_type": "stream",
     "text": [
      "a week ago: 2025-09-08\n",
      "yesterday: 2025-09-12\n"
     ]
    }
   ],
   "source": [
    "yesterday = yesterday.date()\n",
    "week_ago = yesterday -timedelta(days = 4)\n",
    "print(f'a week ago: {week_ago}')\n",
    "print(f'yesterday: {yesterday}')"
   ]
  },
  {
   "cell_type": "markdown",
   "metadata": {},
   "source": [
    "### Restart & Run All Cells"
   ]
  },
  {
   "cell_type": "code",
   "execution_count": 6,
   "metadata": {},
   "outputs": [],
   "source": [
    "# Get the user's home directory\n",
    "user_path = os.path.expanduser('~')\n",
    "# Get the current working directory\n",
    "current_path = os.getcwd()\n",
    "# Derive the base directory (base_dir) by removing the last folder ('Daily')\n",
    "base_path = os.path.dirname(current_path)\n",
    "#C:\\Users\\PC1\\OneDrive\\A5\\Data\n",
    "dat_path = os.path.join(base_path, \"Data\")\n",
    "#C:\\Users\\PC1\\OneDrive\\Imports\\santisoontarinka@gmail.com - Google Drive\\Data>\n",
    "god_path = os.path.join(user_path, \"OneDrive\",\"Imports\",\"santisoontarinka@gmail.com - Google Drive\",\"Data\")\n",
    "#C:\\Users\\PC1\\iCloudDrive\\data\n",
    "icd_path = os.path.join(user_path, \"iCloudDrive\", \"Data\")\n",
    "#C:\\Users\\PC1\\OneDrive\\Documents\\obsidian-git-sync\\Data\n",
    "osd_path = os.path.join(user_path, \"OneDrive\",\"Documents\",\"obsidian-git-sync\",\"Data\")"
   ]
  },
  {
   "cell_type": "code",
   "execution_count": 7,
   "metadata": {},
   "outputs": [
    {
     "name": "stdout",
     "output_type": "stream",
     "text": [
      "User path: C:\\Users\\PC1\n",
      "Current path: C:\\Users\\PC1\\OneDrive\\A5\\Weekly\n",
      "Base path: C:\\Users\\PC1\\OneDrive\\A5\n",
      "Data path (dat_path): C:\\Users\\PC1\\OneDrive\\A5\\Data\n",
      "Google Drive path (god_path): C:\\Users\\PC1\\OneDrive\\Imports\\santisoontarinka@gmail.com - Google Drive\\Data\n",
      "iCloudDrive path (icd_path): C:\\Users\\PC1\\iCloudDrive\\Data\n",
      "Obsidian path (osd_path): C:\\Users\\PC1\\OneDrive\\Documents\\obsidian-git-sync\\Data\n"
     ]
    }
   ],
   "source": [
    "print(\"User path:\", user_path)\n",
    "print(f\"Current path: {current_path}\")\n",
    "print(f\"Base path: {base_path}\")\n",
    "print(f\"Data path (dat_path): {dat_path}\") \n",
    "print(f\"Google Drive path (god_path): {god_path}\")\n",
    "print(f\"iCloudDrive path (icd_path): {icd_path}\") \n",
    "print(f\"Obsidian path (osd_path): {osd_path}\") "
   ]
  },
  {
   "cell_type": "markdown",
   "metadata": {},
   "source": [
    "### This process affects only already in port stocks. To highlight price changes in percent."
   ]
  },
  {
   "cell_type": "code",
   "execution_count": 9,
   "metadata": {},
   "outputs": [],
   "source": [
    "cols = 'name price_w price_d percent perform mrkt '.split()\n",
    "\n",
    "format_dict = {\n",
    "    'qty':'{:,}',    \n",
    "    'price':'{:.2f}','price_d':'{:.2f}','price_w':'{:.2f}',\n",
    "    'max_price':'{:.2f}','min_price':'{:.2f}',\n",
    "    'maxp':'{:.2f}','minp':'{:.2f}','opnp':'{:.2f}',    \n",
    "    'pct':'{:,.2f}%','percent':'{:,.2f}%',\n",
    "    \n",
    "    'pe':'{:.2f}','pbv':'{:.2f}',\n",
    "    'paid_up':'{:,.2f}','market_cap':'{:,.2f}',\n",
    "    'daily_volume':'{:,.2f}','beta':'{:,.2f}', \n",
    "    'dly_vol':'{:,.2f}', \n",
    "}"
   ]
  },
  {
   "cell_type": "code",
   "execution_count": 10,
   "metadata": {},
   "outputs": [
    {
     "data": {
      "text/plain": [
       "29"
      ]
     },
     "execution_count": 10,
     "metadata": {},
     "output_type": "execute_result"
    }
   ],
   "source": [
    "sql = '''\n",
    "SELECT name\n",
    "FROM buy \n",
    "WHERE active = 1\n",
    "ORDER BY name'''\n",
    "df_buy = pd.read_sql(sql, const)\n",
    "\n",
    "names = df_buy.name.tolist()\n",
    "portfolio = \", \".join(map(lambda name: \"'%s'\" % name, names))\n",
    "\n",
    "sql = \"\"\"\n",
    "    SELECT name, price AS price_d \n",
    "    FROM price \n",
    "    WHERE date = '{}' AND name IN ({})\n",
    "    ORDER BY name, date\n",
    "\"\"\".format(yesterday, portfolio)\n",
    "\n",
    "df_today = pd.read_sql(sql, const)\n",
    "df_today.shape[0]"
   ]
  },
  {
   "cell_type": "code",
   "execution_count": 11,
   "metadata": {},
   "outputs": [
    {
     "data": {
      "text/plain": [
       "29"
      ]
     },
     "execution_count": 11,
     "metadata": {},
     "output_type": "execute_result"
    }
   ],
   "source": [
    "sql = \"\"\"\n",
    "    SELECT name, price AS price_w\n",
    "    FROM price \n",
    "    WHERE date = '{}' AND name IN ({}) \n",
    "    ORDER BY name\n",
    "\"\"\".format(week_ago, portfolio)\n",
    "\n",
    "df_wkago = pd.read_sql(sql, const)\n",
    "df_wkago.shape[0]"
   ]
  },
  {
   "cell_type": "code",
   "execution_count": 12,
   "metadata": {},
   "outputs": [
    {
     "data": {
      "text/html": [
       "<div>\n",
       "<style scoped>\n",
       "    .dataframe tbody tr th:only-of-type {\n",
       "        vertical-align: middle;\n",
       "    }\n",
       "\n",
       "    .dataframe tbody tr th {\n",
       "        vertical-align: top;\n",
       "    }\n",
       "\n",
       "    .dataframe thead th {\n",
       "        text-align: right;\n",
       "    }\n",
       "</style>\n",
       "<table border=\"1\" class=\"dataframe\">\n",
       "  <thead>\n",
       "    <tr style=\"text-align: right;\">\n",
       "      <th></th>\n",
       "      <th>name</th>\n",
       "      <th>price_d</th>\n",
       "      <th>price_w</th>\n",
       "    </tr>\n",
       "  </thead>\n",
       "  <tbody>\n",
       "    <tr>\n",
       "      <th>24</th>\n",
       "      <td>TFFIF</td>\n",
       "      <td>6.10</td>\n",
       "      <td>5.95</td>\n",
       "    </tr>\n",
       "    <tr>\n",
       "      <th>25</th>\n",
       "      <td>TOA</td>\n",
       "      <td>14.80</td>\n",
       "      <td>15.50</td>\n",
       "    </tr>\n",
       "    <tr>\n",
       "      <th>26</th>\n",
       "      <td>TVO</td>\n",
       "      <td>25.25</td>\n",
       "      <td>25.25</td>\n",
       "    </tr>\n",
       "    <tr>\n",
       "      <th>27</th>\n",
       "      <td>WHAIR</td>\n",
       "      <td>5.65</td>\n",
       "      <td>5.50</td>\n",
       "    </tr>\n",
       "    <tr>\n",
       "      <th>28</th>\n",
       "      <td>WHART</td>\n",
       "      <td>9.55</td>\n",
       "      <td>9.15</td>\n",
       "    </tr>\n",
       "  </tbody>\n",
       "</table>\n",
       "</div>"
      ],
      "text/plain": [
       "     name  price_d  price_w\n",
       "24  TFFIF     6.10     5.95\n",
       "25    TOA    14.80    15.50\n",
       "26    TVO    25.25    25.25\n",
       "27  WHAIR     5.65     5.50\n",
       "28  WHART     9.55     9.15"
      ]
     },
     "execution_count": 12,
     "metadata": {},
     "output_type": "execute_result"
    }
   ],
   "source": [
    "trend = pd.merge(df_today, df_wkago, on='name',how='inner')\n",
    "trend.tail()"
   ]
  },
  {
   "cell_type": "code",
   "execution_count": 13,
   "metadata": {},
   "outputs": [],
   "source": [
    "def performance(vals):\n",
    "    price_d, price_w = vals\n",
    "    if (price_d > price_w):\n",
    "        return 'Better'\n",
    "    elif (price_d < price_w):\n",
    "        return 'Worse'\n",
    "    else:\n",
    "        return 'No Change'"
   ]
  },
  {
   "cell_type": "code",
   "execution_count": 14,
   "metadata": {},
   "outputs": [],
   "source": [
    "trend['percent'] = (trend.price_d-trend.price_w)/trend.price_w * 100"
   ]
  },
  {
   "cell_type": "code",
   "execution_count": 15,
   "metadata": {},
   "outputs": [
    {
     "data": {
      "text/html": [
       "<div>\n",
       "<style scoped>\n",
       "    .dataframe tbody tr th:only-of-type {\n",
       "        vertical-align: middle;\n",
       "    }\n",
       "\n",
       "    .dataframe tbody tr th {\n",
       "        vertical-align: top;\n",
       "    }\n",
       "\n",
       "    .dataframe thead th {\n",
       "        text-align: right;\n",
       "    }\n",
       "</style>\n",
       "<table border=\"1\" class=\"dataframe\">\n",
       "  <thead>\n",
       "    <tr style=\"text-align: right;\">\n",
       "      <th></th>\n",
       "      <th>name</th>\n",
       "      <th>price_d</th>\n",
       "      <th>price_w</th>\n",
       "      <th>percent</th>\n",
       "    </tr>\n",
       "  </thead>\n",
       "  <tbody>\n",
       "    <tr>\n",
       "      <th>24</th>\n",
       "      <td>TFFIF</td>\n",
       "      <td>6.10</td>\n",
       "      <td>5.95</td>\n",
       "      <td>2.52</td>\n",
       "    </tr>\n",
       "    <tr>\n",
       "      <th>25</th>\n",
       "      <td>TOA</td>\n",
       "      <td>14.80</td>\n",
       "      <td>15.50</td>\n",
       "      <td>-4.52</td>\n",
       "    </tr>\n",
       "    <tr>\n",
       "      <th>26</th>\n",
       "      <td>TVO</td>\n",
       "      <td>25.25</td>\n",
       "      <td>25.25</td>\n",
       "      <td>0.00</td>\n",
       "    </tr>\n",
       "    <tr>\n",
       "      <th>27</th>\n",
       "      <td>WHAIR</td>\n",
       "      <td>5.65</td>\n",
       "      <td>5.50</td>\n",
       "      <td>2.73</td>\n",
       "    </tr>\n",
       "    <tr>\n",
       "      <th>28</th>\n",
       "      <td>WHART</td>\n",
       "      <td>9.55</td>\n",
       "      <td>9.15</td>\n",
       "      <td>4.37</td>\n",
       "    </tr>\n",
       "  </tbody>\n",
       "</table>\n",
       "</div>"
      ],
      "text/plain": [
       "     name  price_d  price_w  percent\n",
       "24  TFFIF     6.10     5.95     2.52\n",
       "25    TOA    14.80    15.50    -4.52\n",
       "26    TVO    25.25    25.25     0.00\n",
       "27  WHAIR     5.65     5.50     2.73\n",
       "28  WHART     9.55     9.15     4.37"
      ]
     },
     "execution_count": 15,
     "metadata": {},
     "output_type": "execute_result"
    }
   ],
   "source": [
    "trend.tail()"
   ]
  },
  {
   "cell_type": "code",
   "execution_count": 16,
   "metadata": {},
   "outputs": [],
   "source": [
    "trend[\"perform\"] = trend[[\"price_d\",\"price_w\"]].apply(performance, axis=1)"
   ]
  },
  {
   "cell_type": "code",
   "execution_count": 17,
   "metadata": {},
   "outputs": [
    {
     "data": {
      "text/html": [
       "<style type=\"text/css\">\n",
       "</style>\n",
       "<table id=\"T_208f7\">\n",
       "  <thead>\n",
       "    <tr>\n",
       "      <th class=\"blank level0\" >&nbsp;</th>\n",
       "      <th id=\"T_208f7_level0_col0\" class=\"col_heading level0 col0\" >name</th>\n",
       "      <th id=\"T_208f7_level0_col1\" class=\"col_heading level0 col1\" >price_d</th>\n",
       "      <th id=\"T_208f7_level0_col2\" class=\"col_heading level0 col2\" >price_w</th>\n",
       "      <th id=\"T_208f7_level0_col3\" class=\"col_heading level0 col3\" >percent</th>\n",
       "      <th id=\"T_208f7_level0_col4\" class=\"col_heading level0 col4\" >perform</th>\n",
       "    </tr>\n",
       "  </thead>\n",
       "  <tbody>\n",
       "    <tr>\n",
       "      <th id=\"T_208f7_level0_row0\" class=\"row_heading level0 row0\" >25</th>\n",
       "      <td id=\"T_208f7_row0_col0\" class=\"data row0 col0\" >TOA</td>\n",
       "      <td id=\"T_208f7_row0_col1\" class=\"data row0 col1\" >14.80</td>\n",
       "      <td id=\"T_208f7_row0_col2\" class=\"data row0 col2\" >15.50</td>\n",
       "      <td id=\"T_208f7_row0_col3\" class=\"data row0 col3\" >-4.52%</td>\n",
       "      <td id=\"T_208f7_row0_col4\" class=\"data row0 col4\" >Worse</td>\n",
       "    </tr>\n",
       "    <tr>\n",
       "      <th id=\"T_208f7_level0_row1\" class=\"row_heading level0 row1\" >22</th>\n",
       "      <td id=\"T_208f7_row1_col0\" class=\"data row1 col0\" >STA</td>\n",
       "      <td id=\"T_208f7_row1_col1\" class=\"data row1 col1\" >13.20</td>\n",
       "      <td id=\"T_208f7_row1_col2\" class=\"data row1 col2\" >13.70</td>\n",
       "      <td id=\"T_208f7_row1_col3\" class=\"data row1 col3\" >-3.65%</td>\n",
       "      <td id=\"T_208f7_row1_col4\" class=\"data row1 col4\" >Worse</td>\n",
       "    </tr>\n",
       "    <tr>\n",
       "      <th id=\"T_208f7_level0_row2\" class=\"row_heading level0 row2\" >3</th>\n",
       "      <td id=\"T_208f7_row2_col0\" class=\"data row2 col0\" >AWC</td>\n",
       "      <td id=\"T_208f7_row2_col1\" class=\"data row2 col1\" >2.32</td>\n",
       "      <td id=\"T_208f7_row2_col2\" class=\"data row2 col2\" >2.38</td>\n",
       "      <td id=\"T_208f7_row2_col3\" class=\"data row2 col3\" >-2.52%</td>\n",
       "      <td id=\"T_208f7_row2_col4\" class=\"data row2 col4\" >Worse</td>\n",
       "    </tr>\n",
       "    <tr>\n",
       "      <th id=\"T_208f7_level0_row3\" class=\"row_heading level0 row3\" >13</th>\n",
       "      <td id=\"T_208f7_row3_col0\" class=\"data row3 col0\" >NER</td>\n",
       "      <td id=\"T_208f7_row3_col1\" class=\"data row3 col1\" >4.48</td>\n",
       "      <td id=\"T_208f7_row3_col2\" class=\"data row3 col2\" >4.54</td>\n",
       "      <td id=\"T_208f7_row3_col3\" class=\"data row3 col3\" >-1.32%</td>\n",
       "      <td id=\"T_208f7_row3_col4\" class=\"data row3 col4\" >Worse</td>\n",
       "    </tr>\n",
       "    <tr>\n",
       "      <th id=\"T_208f7_level0_row4\" class=\"row_heading level0 row4\" >15</th>\n",
       "      <td id=\"T_208f7_row4_col0\" class=\"data row4 col0\" >PTG</td>\n",
       "      <td id=\"T_208f7_row4_col1\" class=\"data row4 col1\" >8.40</td>\n",
       "      <td id=\"T_208f7_row4_col2\" class=\"data row4 col2\" >8.50</td>\n",
       "      <td id=\"T_208f7_row4_col3\" class=\"data row4 col3\" >-1.18%</td>\n",
       "      <td id=\"T_208f7_row4_col4\" class=\"data row4 col4\" >Worse</td>\n",
       "    </tr>\n",
       "    <tr>\n",
       "      <th id=\"T_208f7_level0_row5\" class=\"row_heading level0 row5\" >14</th>\n",
       "      <td id=\"T_208f7_row5_col0\" class=\"data row5 col0\" >ORI</td>\n",
       "      <td id=\"T_208f7_row5_col1\" class=\"data row5 col1\" >2.72</td>\n",
       "      <td id=\"T_208f7_row5_col2\" class=\"data row5 col2\" >2.74</td>\n",
       "      <td id=\"T_208f7_row5_col3\" class=\"data row5 col3\" >-0.73%</td>\n",
       "      <td id=\"T_208f7_row5_col4\" class=\"data row5 col4\" >Worse</td>\n",
       "    </tr>\n",
       "    <tr>\n",
       "      <th id=\"T_208f7_level0_row6\" class=\"row_heading level0 row6\" >1</th>\n",
       "      <td id=\"T_208f7_row6_col0\" class=\"data row6 col0\" >AH</td>\n",
       "      <td id=\"T_208f7_row6_col1\" class=\"data row6 col1\" >14.40</td>\n",
       "      <td id=\"T_208f7_row6_col2\" class=\"data row6 col2\" >14.50</td>\n",
       "      <td id=\"T_208f7_row6_col3\" class=\"data row6 col3\" >-0.69%</td>\n",
       "      <td id=\"T_208f7_row6_col4\" class=\"data row6 col4\" >Worse</td>\n",
       "    </tr>\n",
       "    <tr>\n",
       "      <th id=\"T_208f7_level0_row7\" class=\"row_heading level0 row7\" >26</th>\n",
       "      <td id=\"T_208f7_row7_col0\" class=\"data row7 col0\" >TVO</td>\n",
       "      <td id=\"T_208f7_row7_col1\" class=\"data row7 col1\" >25.25</td>\n",
       "      <td id=\"T_208f7_row7_col2\" class=\"data row7 col2\" >25.25</td>\n",
       "      <td id=\"T_208f7_row7_col3\" class=\"data row7 col3\" >0.00%</td>\n",
       "      <td id=\"T_208f7_row7_col4\" class=\"data row7 col4\" >No Change</td>\n",
       "    </tr>\n",
       "    <tr>\n",
       "      <th id=\"T_208f7_level0_row8\" class=\"row_heading level0 row8\" >4</th>\n",
       "      <td id=\"T_208f7_row8_col0\" class=\"data row8 col0\" >BCH</td>\n",
       "      <td id=\"T_208f7_row8_col1\" class=\"data row8 col1\" >13.10</td>\n",
       "      <td id=\"T_208f7_row8_col2\" class=\"data row8 col2\" >13.10</td>\n",
       "      <td id=\"T_208f7_row8_col3\" class=\"data row8 col3\" >0.00%</td>\n",
       "      <td id=\"T_208f7_row8_col4\" class=\"data row8 col4\" >No Change</td>\n",
       "    </tr>\n",
       "    <tr>\n",
       "      <th id=\"T_208f7_level0_row9\" class=\"row_heading level0 row9\" >12</th>\n",
       "      <td id=\"T_208f7_row9_col0\" class=\"data row9 col0\" >MCS</td>\n",
       "      <td id=\"T_208f7_row9_col1\" class=\"data row9 col1\" >8.65</td>\n",
       "      <td id=\"T_208f7_row9_col2\" class=\"data row9 col2\" >8.65</td>\n",
       "      <td id=\"T_208f7_row9_col3\" class=\"data row9 col3\" >0.00%</td>\n",
       "      <td id=\"T_208f7_row9_col4\" class=\"data row9 col4\" >No Change</td>\n",
       "    </tr>\n",
       "    <tr>\n",
       "      <th id=\"T_208f7_level0_row10\" class=\"row_heading level0 row10\" >5</th>\n",
       "      <td id=\"T_208f7_row10_col0\" class=\"data row10 col0\" >CPF</td>\n",
       "      <td id=\"T_208f7_row10_col1\" class=\"data row10 col1\" >23.50</td>\n",
       "      <td id=\"T_208f7_row10_col2\" class=\"data row10 col2\" >23.50</td>\n",
       "      <td id=\"T_208f7_row10_col3\" class=\"data row10 col3\" >0.00%</td>\n",
       "      <td id=\"T_208f7_row10_col4\" class=\"data row10 col4\" >No Change</td>\n",
       "    </tr>\n",
       "    <tr>\n",
       "      <th id=\"T_208f7_level0_row11\" class=\"row_heading level0 row11\" >10</th>\n",
       "      <td id=\"T_208f7_row11_col0\" class=\"data row11 col0\" >JMART</td>\n",
       "      <td id=\"T_208f7_row11_col1\" class=\"data row11 col1\" >10.10</td>\n",
       "      <td id=\"T_208f7_row11_col2\" class=\"data row11 col2\" >10.10</td>\n",
       "      <td id=\"T_208f7_row11_col3\" class=\"data row11 col3\" >0.00%</td>\n",
       "      <td id=\"T_208f7_row11_col4\" class=\"data row11 col4\" >No Change</td>\n",
       "    </tr>\n",
       "    <tr>\n",
       "      <th id=\"T_208f7_level0_row12\" class=\"row_heading level0 row12\" >20</th>\n",
       "      <td id=\"T_208f7_row12_col0\" class=\"data row12 col0\" >SENA</td>\n",
       "      <td id=\"T_208f7_row12_col1\" class=\"data row12 col1\" >1.94</td>\n",
       "      <td id=\"T_208f7_row12_col2\" class=\"data row12 col2\" >1.93</td>\n",
       "      <td id=\"T_208f7_row12_col3\" class=\"data row12 col3\" >0.52%</td>\n",
       "      <td id=\"T_208f7_row12_col4\" class=\"data row12 col4\" >Better</td>\n",
       "    </tr>\n",
       "    <tr>\n",
       "      <th id=\"T_208f7_level0_row13\" class=\"row_heading level0 row13\" >17</th>\n",
       "      <td id=\"T_208f7_row13_col0\" class=\"data row13 col0\" >PTTGC</td>\n",
       "      <td id=\"T_208f7_row13_col1\" class=\"data row13 col1\" >27.75</td>\n",
       "      <td id=\"T_208f7_row13_col2\" class=\"data row13 col2\" >27.50</td>\n",
       "      <td id=\"T_208f7_row13_col3\" class=\"data row13 col3\" >0.91%</td>\n",
       "      <td id=\"T_208f7_row13_col4\" class=\"data row13 col4\" >Better</td>\n",
       "    </tr>\n",
       "    <tr>\n",
       "      <th id=\"T_208f7_level0_row14\" class=\"row_heading level0 row14\" >11</th>\n",
       "      <td id=\"T_208f7_row14_col0\" class=\"data row14 col0\" >JMT</td>\n",
       "      <td id=\"T_208f7_row14_col1\" class=\"data row14 col1\" >13.00</td>\n",
       "      <td id=\"T_208f7_row14_col2\" class=\"data row14 col2\" >12.80</td>\n",
       "      <td id=\"T_208f7_row14_col3\" class=\"data row14 col3\" >1.56%</td>\n",
       "      <td id=\"T_208f7_row14_col4\" class=\"data row14 col4\" >Better</td>\n",
       "    </tr>\n",
       "    <tr>\n",
       "      <th id=\"T_208f7_level0_row15\" class=\"row_heading level0 row15\" >23</th>\n",
       "      <td id=\"T_208f7_row15_col0\" class=\"data row15 col0\" >SYNEX</td>\n",
       "      <td id=\"T_208f7_row15_col1\" class=\"data row15 col1\" >12.40</td>\n",
       "      <td id=\"T_208f7_row15_col2\" class=\"data row15 col2\" >12.20</td>\n",
       "      <td id=\"T_208f7_row15_col3\" class=\"data row15 col3\" >1.64%</td>\n",
       "      <td id=\"T_208f7_row15_col4\" class=\"data row15 col4\" >Better</td>\n",
       "    </tr>\n",
       "    <tr>\n",
       "      <th id=\"T_208f7_level0_row16\" class=\"row_heading level0 row16\" >19</th>\n",
       "      <td id=\"T_208f7_row16_col0\" class=\"data row16 col0\" >SCC</td>\n",
       "      <td id=\"T_208f7_row16_col1\" class=\"data row16 col1\" >228.00</td>\n",
       "      <td id=\"T_208f7_row16_col2\" class=\"data row16 col2\" >224.00</td>\n",
       "      <td id=\"T_208f7_row16_col3\" class=\"data row16 col3\" >1.79%</td>\n",
       "      <td id=\"T_208f7_row16_col4\" class=\"data row16 col4\" >Better</td>\n",
       "    </tr>\n",
       "    <tr>\n",
       "      <th id=\"T_208f7_level0_row17\" class=\"row_heading level0 row17\" >9</th>\n",
       "      <td id=\"T_208f7_row17_col0\" class=\"data row17 col0\" >IVL</td>\n",
       "      <td id=\"T_208f7_row17_col1\" class=\"data row17 col1\" >23.80</td>\n",
       "      <td id=\"T_208f7_row17_col2\" class=\"data row17 col2\" >23.30</td>\n",
       "      <td id=\"T_208f7_row17_col3\" class=\"data row17 col3\" >2.15%</td>\n",
       "      <td id=\"T_208f7_row17_col4\" class=\"data row17 col4\" >Better</td>\n",
       "    </tr>\n",
       "    <tr>\n",
       "      <th id=\"T_208f7_level0_row18\" class=\"row_heading level0 row18\" >8</th>\n",
       "      <td id=\"T_208f7_row18_col0\" class=\"data row18 col0\" >GVREIT</td>\n",
       "      <td id=\"T_208f7_row18_col1\" class=\"data row18 col1\" >6.40</td>\n",
       "      <td id=\"T_208f7_row18_col2\" class=\"data row18 col2\" >6.25</td>\n",
       "      <td id=\"T_208f7_row18_col3\" class=\"data row18 col3\" >2.40%</td>\n",
       "      <td id=\"T_208f7_row18_col4\" class=\"data row18 col4\" >Better</td>\n",
       "    </tr>\n",
       "    <tr>\n",
       "      <th id=\"T_208f7_level0_row19\" class=\"row_heading level0 row19\" >24</th>\n",
       "      <td id=\"T_208f7_row19_col0\" class=\"data row19 col0\" >TFFIF</td>\n",
       "      <td id=\"T_208f7_row19_col1\" class=\"data row19 col1\" >6.10</td>\n",
       "      <td id=\"T_208f7_row19_col2\" class=\"data row19 col2\" >5.95</td>\n",
       "      <td id=\"T_208f7_row19_col3\" class=\"data row19 col3\" >2.52%</td>\n",
       "      <td id=\"T_208f7_row19_col4\" class=\"data row19 col4\" >Better</td>\n",
       "    </tr>\n",
       "    <tr>\n",
       "      <th id=\"T_208f7_level0_row20\" class=\"row_heading level0 row20\" >27</th>\n",
       "      <td id=\"T_208f7_row20_col0\" class=\"data row20 col0\" >WHAIR</td>\n",
       "      <td id=\"T_208f7_row20_col1\" class=\"data row20 col1\" >5.65</td>\n",
       "      <td id=\"T_208f7_row20_col2\" class=\"data row20 col2\" >5.50</td>\n",
       "      <td id=\"T_208f7_row20_col3\" class=\"data row20 col3\" >2.73%</td>\n",
       "      <td id=\"T_208f7_row20_col4\" class=\"data row20 col4\" >Better</td>\n",
       "    </tr>\n",
       "    <tr>\n",
       "      <th id=\"T_208f7_level0_row21\" class=\"row_heading level0 row21\" >2</th>\n",
       "      <td id=\"T_208f7_row21_col0\" class=\"data row21 col0\" >AIMIRT</td>\n",
       "      <td id=\"T_208f7_row21_col1\" class=\"data row21 col1\" >10.00</td>\n",
       "      <td id=\"T_208f7_row21_col2\" class=\"data row21 col2\" >9.70</td>\n",
       "      <td id=\"T_208f7_row21_col3\" class=\"data row21 col3\" >3.09%</td>\n",
       "      <td id=\"T_208f7_row21_col4\" class=\"data row21 col4\" >Better</td>\n",
       "    </tr>\n",
       "    <tr>\n",
       "      <th id=\"T_208f7_level0_row22\" class=\"row_heading level0 row22\" >28</th>\n",
       "      <td id=\"T_208f7_row22_col0\" class=\"data row22 col0\" >WHART</td>\n",
       "      <td id=\"T_208f7_row22_col1\" class=\"data row22 col1\" >9.55</td>\n",
       "      <td id=\"T_208f7_row22_col2\" class=\"data row22 col2\" >9.15</td>\n",
       "      <td id=\"T_208f7_row22_col3\" class=\"data row22 col3\" >4.37%</td>\n",
       "      <td id=\"T_208f7_row22_col4\" class=\"data row22 col4\" >Better</td>\n",
       "    </tr>\n",
       "    <tr>\n",
       "      <th id=\"T_208f7_level0_row23\" class=\"row_heading level0 row23\" >0</th>\n",
       "      <td id=\"T_208f7_row23_col0\" class=\"data row23 col0\" >3BBIF</td>\n",
       "      <td id=\"T_208f7_row23_col1\" class=\"data row23 col1\" >6.70</td>\n",
       "      <td id=\"T_208f7_row23_col2\" class=\"data row23 col2\" >6.40</td>\n",
       "      <td id=\"T_208f7_row23_col3\" class=\"data row23 col3\" >4.69%</td>\n",
       "      <td id=\"T_208f7_row23_col4\" class=\"data row23 col4\" >Better</td>\n",
       "    </tr>\n",
       "    <tr>\n",
       "      <th id=\"T_208f7_level0_row24\" class=\"row_heading level0 row24\" >7</th>\n",
       "      <td id=\"T_208f7_row24_col0\" class=\"data row24 col0\" >DIF</td>\n",
       "      <td id=\"T_208f7_row24_col1\" class=\"data row24 col1\" >9.05</td>\n",
       "      <td id=\"T_208f7_row24_col2\" class=\"data row24 col2\" >8.60</td>\n",
       "      <td id=\"T_208f7_row24_col3\" class=\"data row24 col3\" >5.23%</td>\n",
       "      <td id=\"T_208f7_row24_col4\" class=\"data row24 col4\" >Better</td>\n",
       "    </tr>\n",
       "    <tr>\n",
       "      <th id=\"T_208f7_level0_row25\" class=\"row_heading level0 row25\" >16</th>\n",
       "      <td id=\"T_208f7_row25_col0\" class=\"data row25 col0\" >PTT</td>\n",
       "      <td id=\"T_208f7_row25_col1\" class=\"data row25 col1\" >33.50</td>\n",
       "      <td id=\"T_208f7_row25_col2\" class=\"data row25 col2\" >31.75</td>\n",
       "      <td id=\"T_208f7_row25_col3\" class=\"data row25 col3\" >5.51%</td>\n",
       "      <td id=\"T_208f7_row25_col4\" class=\"data row25 col4\" >Better</td>\n",
       "    </tr>\n",
       "    <tr>\n",
       "      <th id=\"T_208f7_level0_row26\" class=\"row_heading level0 row26\" >6</th>\n",
       "      <td id=\"T_208f7_row26_col0\" class=\"data row26 col0\" >CPNREIT</td>\n",
       "      <td id=\"T_208f7_row26_col1\" class=\"data row26 col1\" >11.80</td>\n",
       "      <td id=\"T_208f7_row26_col2\" class=\"data row26 col2\" >11.10</td>\n",
       "      <td id=\"T_208f7_row26_col3\" class=\"data row26 col3\" >6.31%</td>\n",
       "      <td id=\"T_208f7_row26_col4\" class=\"data row26 col4\" >Better</td>\n",
       "    </tr>\n",
       "    <tr>\n",
       "      <th id=\"T_208f7_level0_row27\" class=\"row_heading level0 row27\" >18</th>\n",
       "      <td id=\"T_208f7_row27_col0\" class=\"data row27 col0\" >RCL</td>\n",
       "      <td id=\"T_208f7_row27_col1\" class=\"data row27 col1\" >29.00</td>\n",
       "      <td id=\"T_208f7_row27_col2\" class=\"data row27 col2\" >26.75</td>\n",
       "      <td id=\"T_208f7_row27_col3\" class=\"data row27 col3\" >8.41%</td>\n",
       "      <td id=\"T_208f7_row27_col4\" class=\"data row27 col4\" >Better</td>\n",
       "    </tr>\n",
       "    <tr>\n",
       "      <th id=\"T_208f7_level0_row28\" class=\"row_heading level0 row28\" >21</th>\n",
       "      <td id=\"T_208f7_row28_col0\" class=\"data row28 col0\" >SINGER</td>\n",
       "      <td id=\"T_208f7_row28_col1\" class=\"data row28 col1\" >7.50</td>\n",
       "      <td id=\"T_208f7_row28_col2\" class=\"data row28 col2\" >6.50</td>\n",
       "      <td id=\"T_208f7_row28_col3\" class=\"data row28 col3\" >15.38%</td>\n",
       "      <td id=\"T_208f7_row28_col4\" class=\"data row28 col4\" >Better</td>\n",
       "    </tr>\n",
       "  </tbody>\n",
       "</table>\n"
      ],
      "text/plain": [
       "<pandas.io.formats.style.Styler at 0x2109e3ebb30>"
      ]
     },
     "execution_count": 17,
     "metadata": {},
     "output_type": "execute_result"
    }
   ],
   "source": [
    "trend.sort_values(by=['percent'],ascending=[True]).style.format(format_dict)"
   ]
  },
  {
   "cell_type": "code",
   "execution_count": 18,
   "metadata": {},
   "outputs": [],
   "source": [
    "file_name = 'trend.csv'\n",
    "output_file = os.path.join(dat_path, file_name)\n",
    "god_file = os.path.join(god_path, file_name)\n",
    "icd_file = os.path.join(icd_path, file_name)\n",
    "osd_file = os.path.join(osd_path, file_name)"
   ]
  },
  {
   "cell_type": "code",
   "execution_count": 19,
   "metadata": {},
   "outputs": [
    {
     "name": "stdout",
     "output_type": "stream",
     "text": [
      "Output file : C:\\Users\\PC1\\OneDrive\\A5\\Data\\trend.csv\n",
      "icd_file : C:\\Users\\PC1\\iCloudDrive\\Data\\trend.csv\n",
      "god_file : C:\\Users\\PC1\\OneDrive\\Imports\\santisoontarinka@gmail.com - Google Drive\\Data\\trend.csv\n",
      "osd_file : C:\\Users\\PC1\\OneDrive\\Documents\\obsidian-git-sync\\Data\\trend.csv\n"
     ]
    }
   ],
   "source": [
    "print(f\"Output file : {output_file}\") \n",
    "print(f\"icd_file : {icd_file}\") \n",
    "print(f\"god_file : {god_file}\") \n",
    "print(f\"osd_file : {osd_file}\")"
   ]
  },
  {
   "cell_type": "code",
   "execution_count": 20,
   "metadata": {},
   "outputs": [],
   "source": [
    "trend.sort_values(['percent'],ascending=[True]).to_csv(output_file, index=False)\n",
    "trend.sort_values(['percent'],ascending=[True]).to_csv(god_file, index=False)\n",
    "trend.sort_values(['percent'],ascending=[True]).to_csv(icd_file, index=False)\n",
    "trend.sort_values(['percent'],ascending=[True]).to_csv(osd_file, index=False)"
   ]
  },
  {
   "cell_type": "markdown",
   "metadata": {},
   "source": [
    "### Filter only performance = \"Worse\""
   ]
  },
  {
   "cell_type": "code",
   "execution_count": 22,
   "metadata": {},
   "outputs": [
    {
     "data": {
      "text/html": [
       "<div>\n",
       "<style scoped>\n",
       "    .dataframe tbody tr th:only-of-type {\n",
       "        vertical-align: middle;\n",
       "    }\n",
       "\n",
       "    .dataframe tbody tr th {\n",
       "        vertical-align: top;\n",
       "    }\n",
       "\n",
       "    .dataframe thead th {\n",
       "        text-align: right;\n",
       "    }\n",
       "</style>\n",
       "<table border=\"1\" class=\"dataframe\">\n",
       "  <thead>\n",
       "    <tr style=\"text-align: right;\">\n",
       "      <th></th>\n",
       "      <th>name</th>\n",
       "      <th>price_d</th>\n",
       "      <th>price_w</th>\n",
       "      <th>percent</th>\n",
       "      <th>perform</th>\n",
       "    </tr>\n",
       "  </thead>\n",
       "  <tbody>\n",
       "    <tr>\n",
       "      <th>13</th>\n",
       "      <td>NER</td>\n",
       "      <td>4.48</td>\n",
       "      <td>4.54</td>\n",
       "      <td>-1.32</td>\n",
       "      <td>Worse</td>\n",
       "    </tr>\n",
       "    <tr>\n",
       "      <th>14</th>\n",
       "      <td>ORI</td>\n",
       "      <td>2.72</td>\n",
       "      <td>2.74</td>\n",
       "      <td>-0.73</td>\n",
       "      <td>Worse</td>\n",
       "    </tr>\n",
       "    <tr>\n",
       "      <th>15</th>\n",
       "      <td>PTG</td>\n",
       "      <td>8.40</td>\n",
       "      <td>8.50</td>\n",
       "      <td>-1.18</td>\n",
       "      <td>Worse</td>\n",
       "    </tr>\n",
       "    <tr>\n",
       "      <th>22</th>\n",
       "      <td>STA</td>\n",
       "      <td>13.20</td>\n",
       "      <td>13.70</td>\n",
       "      <td>-3.65</td>\n",
       "      <td>Worse</td>\n",
       "    </tr>\n",
       "    <tr>\n",
       "      <th>25</th>\n",
       "      <td>TOA</td>\n",
       "      <td>14.80</td>\n",
       "      <td>15.50</td>\n",
       "      <td>-4.52</td>\n",
       "      <td>Worse</td>\n",
       "    </tr>\n",
       "  </tbody>\n",
       "</table>\n",
       "</div>"
      ],
      "text/plain": [
       "   name  price_d  price_w  percent perform\n",
       "13  NER     4.48     4.54    -1.32   Worse\n",
       "14  ORI     2.72     2.74    -0.73   Worse\n",
       "15  PTG     8.40     8.50    -1.18   Worse\n",
       "22  STA    13.20    13.70    -3.65   Worse\n",
       "25  TOA    14.80    15.50    -4.52   Worse"
      ]
     },
     "execution_count": 22,
     "metadata": {},
     "output_type": "execute_result"
    }
   ],
   "source": [
    "mask = trend.perform == 'Worse'\n",
    "trend[mask].tail()"
   ]
  },
  {
   "cell_type": "code",
   "execution_count": 23,
   "metadata": {},
   "outputs": [
    {
     "data": {
      "text/html": [
       "<style type=\"text/css\">\n",
       "</style>\n",
       "<table id=\"T_dfe73\">\n",
       "  <thead>\n",
       "    <tr>\n",
       "      <th class=\"blank level0\" >&nbsp;</th>\n",
       "      <th id=\"T_dfe73_level0_col0\" class=\"col_heading level0 col0\" >proportion</th>\n",
       "    </tr>\n",
       "    <tr>\n",
       "      <th class=\"index_name level0\" >perform</th>\n",
       "      <th class=\"blank col0\" >&nbsp;</th>\n",
       "    </tr>\n",
       "  </thead>\n",
       "  <tbody>\n",
       "    <tr>\n",
       "      <th id=\"T_dfe73_level0_row0\" class=\"row_heading level0 row0\" >Better</th>\n",
       "      <td id=\"T_dfe73_row0_col0\" class=\"data row0 col0\" >58.62%</td>\n",
       "    </tr>\n",
       "    <tr>\n",
       "      <th id=\"T_dfe73_level0_row1\" class=\"row_heading level0 row1\" >Worse</th>\n",
       "      <td id=\"T_dfe73_row1_col0\" class=\"data row1 col0\" >24.14%</td>\n",
       "    </tr>\n",
       "    <tr>\n",
       "      <th id=\"T_dfe73_level0_row2\" class=\"row_heading level0 row2\" >No Change</th>\n",
       "      <td id=\"T_dfe73_row2_col0\" class=\"data row2 col0\" >17.24%</td>\n",
       "    </tr>\n",
       "  </tbody>\n",
       "</table>\n"
      ],
      "text/plain": [
       "<pandas.io.formats.style.Styler at 0x2109f30dd30>"
      ]
     },
     "execution_count": 23,
     "metadata": {},
     "output_type": "execute_result"
    }
   ],
   "source": [
    "trend.perform.value_counts(normalize=True).to_frame().style.format('{:.2%}')"
   ]
  },
  {
   "cell_type": "code",
   "execution_count": 24,
   "metadata": {},
   "outputs": [
    {
     "data": {
      "text/plain": [
       "(246, 8)"
      ]
     },
     "execution_count": 24,
     "metadata": {},
     "output_type": "execute_result"
    }
   ],
   "source": [
    "sql = '''\n",
    "SELECT name, max_price AS max, min_price AS min, pe, pbv, daily_volume AS volume, beta, market\n",
    "FROM stocks\n",
    "'''\n",
    "my_stocks = pd.read_sql(sql, conmy)\n",
    "my_stocks.shape"
   ]
  },
  {
   "cell_type": "code",
   "execution_count": 25,
   "metadata": {},
   "outputs": [],
   "source": [
    "filters = [\n",
    "   (my_stocks.market.str.contains('SET50')),\n",
    "   (my_stocks.market.str.contains('SET100')),\n",
    "   (my_stocks.market.str.contains('mai'))]\n",
    "values = ['SET50','SET100','mai']\n",
    "my_stocks[\"mrkt\"] = np.select(filters, values, default='SET999')"
   ]
  },
  {
   "cell_type": "code",
   "execution_count": 26,
   "metadata": {},
   "outputs": [
    {
     "data": {
      "text/html": [
       "<div>\n",
       "<style scoped>\n",
       "    .dataframe tbody tr th:only-of-type {\n",
       "        vertical-align: middle;\n",
       "    }\n",
       "\n",
       "    .dataframe tbody tr th {\n",
       "        vertical-align: top;\n",
       "    }\n",
       "\n",
       "    .dataframe thead th {\n",
       "        text-align: right;\n",
       "    }\n",
       "</style>\n",
       "<table border=\"1\" class=\"dataframe\">\n",
       "  <thead>\n",
       "    <tr style=\"text-align: right;\">\n",
       "      <th></th>\n",
       "      <th>name</th>\n",
       "      <th>price_d</th>\n",
       "      <th>price_w</th>\n",
       "      <th>percent</th>\n",
       "      <th>perform</th>\n",
       "      <th>max</th>\n",
       "      <th>min</th>\n",
       "      <th>pe</th>\n",
       "      <th>pbv</th>\n",
       "      <th>volume</th>\n",
       "      <th>beta</th>\n",
       "      <th>market</th>\n",
       "      <th>mrkt</th>\n",
       "    </tr>\n",
       "  </thead>\n",
       "  <tbody>\n",
       "    <tr>\n",
       "      <th>7</th>\n",
       "      <td>DIF</td>\n",
       "      <td>9.05</td>\n",
       "      <td>8.60</td>\n",
       "      <td>5.23</td>\n",
       "      <td>Better</td>\n",
       "      <td>14.50</td>\n",
       "      <td>13.00</td>\n",
       "      <td>999.99</td>\n",
       "      <td>0.82</td>\n",
       "      <td>99.06</td>\n",
       "      <td>0.29</td>\n",
       "      <td>SET</td>\n",
       "      <td>SET999</td>\n",
       "    </tr>\n",
       "    <tr>\n",
       "      <th>16</th>\n",
       "      <td>PTT</td>\n",
       "      <td>33.50</td>\n",
       "      <td>31.75</td>\n",
       "      <td>5.51</td>\n",
       "      <td>Better</td>\n",
       "      <td>41.25</td>\n",
       "      <td>30.75</td>\n",
       "      <td>9.42</td>\n",
       "      <td>0.88</td>\n",
       "      <td>1,410.13</td>\n",
       "      <td>0.89</td>\n",
       "      <td>SET50 / SETCLMV / SETHD / SETTHSI</td>\n",
       "      <td>SET50</td>\n",
       "    </tr>\n",
       "    <tr>\n",
       "      <th>6</th>\n",
       "      <td>CPNREIT</td>\n",
       "      <td>11.80</td>\n",
       "      <td>11.10</td>\n",
       "      <td>6.31</td>\n",
       "      <td>Better</td>\n",
       "      <td>21.30</td>\n",
       "      <td>17.90</td>\n",
       "      <td>999.99</td>\n",
       "      <td>999.99</td>\n",
       "      <td>32.82</td>\n",
       "      <td>0.32</td>\n",
       "      <td>SET</td>\n",
       "      <td>SET999</td>\n",
       "    </tr>\n",
       "    <tr>\n",
       "      <th>18</th>\n",
       "      <td>RCL</td>\n",
       "      <td>29.00</td>\n",
       "      <td>26.75</td>\n",
       "      <td>8.41</td>\n",
       "      <td>Better</td>\n",
       "      <td>52.25</td>\n",
       "      <td>26.25</td>\n",
       "      <td>0.89</td>\n",
       "      <td>0.54</td>\n",
       "      <td>92.51</td>\n",
       "      <td>1.78</td>\n",
       "      <td>SET100 / SETCLMV / SETWB</td>\n",
       "      <td>SET100</td>\n",
       "    </tr>\n",
       "    <tr>\n",
       "      <th>21</th>\n",
       "      <td>SINGER</td>\n",
       "      <td>7.50</td>\n",
       "      <td>6.50</td>\n",
       "      <td>15.38</td>\n",
       "      <td>Better</td>\n",
       "      <td>59.25</td>\n",
       "      <td>26.25</td>\n",
       "      <td>23.53</td>\n",
       "      <td>1.49</td>\n",
       "      <td>159.28</td>\n",
       "      <td>2.26</td>\n",
       "      <td>SET100 / SETWB</td>\n",
       "      <td>SET100</td>\n",
       "    </tr>\n",
       "  </tbody>\n",
       "</table>\n",
       "</div>"
      ],
      "text/plain": [
       "       name  price_d  price_w  percent perform   max   min     pe    pbv  \\\n",
       "7       DIF     9.05     8.60     5.23  Better 14.50 13.00 999.99   0.82   \n",
       "16      PTT    33.50    31.75     5.51  Better 41.25 30.75   9.42   0.88   \n",
       "6   CPNREIT    11.80    11.10     6.31  Better 21.30 17.90 999.99 999.99   \n",
       "18      RCL    29.00    26.75     8.41  Better 52.25 26.25   0.89   0.54   \n",
       "21   SINGER     7.50     6.50    15.38  Better 59.25 26.25  23.53   1.49   \n",
       "\n",
       "     volume  beta                                 market    mrkt  \n",
       "7     99.06  0.29                                SET      SET999  \n",
       "16 1,410.13  0.89  SET50 / SETCLMV / SETHD / SETTHSI       SET50  \n",
       "6     32.82  0.32                                SET      SET999  \n",
       "18    92.51  1.78           SET100 / SETCLMV / SETWB      SET100  \n",
       "21   159.28  2.26                     SET100 / SETWB      SET100  "
      ]
     },
     "execution_count": 26,
     "metadata": {},
     "output_type": "execute_result"
    }
   ],
   "source": [
    "trend2 = pd.merge(trend, my_stocks, on='name', how='inner')\n",
    "trend2.sort_values(['percent'],ascending=[True]).tail()"
   ]
  },
  {
   "cell_type": "code",
   "execution_count": 27,
   "metadata": {},
   "outputs": [
    {
     "data": {
      "text/html": [
       "<style type=\"text/css\">\n",
       "</style>\n",
       "<table id=\"T_2db6b\">\n",
       "  <thead>\n",
       "    <tr>\n",
       "      <th class=\"blank level0\" >&nbsp;</th>\n",
       "      <th id=\"T_2db6b_level0_col0\" class=\"col_heading level0 col0\" >name</th>\n",
       "      <th id=\"T_2db6b_level0_col1\" class=\"col_heading level0 col1\" >price_w</th>\n",
       "      <th id=\"T_2db6b_level0_col2\" class=\"col_heading level0 col2\" >price_d</th>\n",
       "      <th id=\"T_2db6b_level0_col3\" class=\"col_heading level0 col3\" >percent</th>\n",
       "      <th id=\"T_2db6b_level0_col4\" class=\"col_heading level0 col4\" >perform</th>\n",
       "      <th id=\"T_2db6b_level0_col5\" class=\"col_heading level0 col5\" >mrkt</th>\n",
       "    </tr>\n",
       "  </thead>\n",
       "  <tbody>\n",
       "    <tr>\n",
       "      <th id=\"T_2db6b_level0_row0\" class=\"row_heading level0 row0\" >3</th>\n",
       "      <td id=\"T_2db6b_row0_col0\" class=\"data row0 col0\" >AWC</td>\n",
       "      <td id=\"T_2db6b_row0_col1\" class=\"data row0 col1\" >2.38</td>\n",
       "      <td id=\"T_2db6b_row0_col2\" class=\"data row0 col2\" >2.32</td>\n",
       "      <td id=\"T_2db6b_row0_col3\" class=\"data row0 col3\" >-2.52%</td>\n",
       "      <td id=\"T_2db6b_row0_col4\" class=\"data row0 col4\" >Worse</td>\n",
       "      <td id=\"T_2db6b_row0_col5\" class=\"data row0 col5\" >SET50</td>\n",
       "    </tr>\n",
       "    <tr>\n",
       "      <th id=\"T_2db6b_level0_row1\" class=\"row_heading level0 row1\" >5</th>\n",
       "      <td id=\"T_2db6b_row1_col0\" class=\"data row1 col0\" >CPF</td>\n",
       "      <td id=\"T_2db6b_row1_col1\" class=\"data row1 col1\" >23.50</td>\n",
       "      <td id=\"T_2db6b_row1_col2\" class=\"data row1 col2\" >23.50</td>\n",
       "      <td id=\"T_2db6b_row1_col3\" class=\"data row1 col3\" >0.00%</td>\n",
       "      <td id=\"T_2db6b_row1_col4\" class=\"data row1 col4\" >No Change</td>\n",
       "      <td id=\"T_2db6b_row1_col5\" class=\"data row1 col5\" >SET50</td>\n",
       "    </tr>\n",
       "    <tr>\n",
       "      <th id=\"T_2db6b_level0_row2\" class=\"row_heading level0 row2\" >10</th>\n",
       "      <td id=\"T_2db6b_row2_col0\" class=\"data row2 col0\" >JMART</td>\n",
       "      <td id=\"T_2db6b_row2_col1\" class=\"data row2 col1\" >10.10</td>\n",
       "      <td id=\"T_2db6b_row2_col2\" class=\"data row2 col2\" >10.10</td>\n",
       "      <td id=\"T_2db6b_row2_col3\" class=\"data row2 col3\" >0.00%</td>\n",
       "      <td id=\"T_2db6b_row2_col4\" class=\"data row2 col4\" >No Change</td>\n",
       "      <td id=\"T_2db6b_row2_col5\" class=\"data row2 col5\" >SET50</td>\n",
       "    </tr>\n",
       "    <tr>\n",
       "      <th id=\"T_2db6b_level0_row3\" class=\"row_heading level0 row3\" >17</th>\n",
       "      <td id=\"T_2db6b_row3_col0\" class=\"data row3 col0\" >PTTGC</td>\n",
       "      <td id=\"T_2db6b_row3_col1\" class=\"data row3 col1\" >27.50</td>\n",
       "      <td id=\"T_2db6b_row3_col2\" class=\"data row3 col2\" >27.75</td>\n",
       "      <td id=\"T_2db6b_row3_col3\" class=\"data row3 col3\" >0.91%</td>\n",
       "      <td id=\"T_2db6b_row3_col4\" class=\"data row3 col4\" >Better</td>\n",
       "      <td id=\"T_2db6b_row3_col5\" class=\"data row3 col5\" >SET50</td>\n",
       "    </tr>\n",
       "    <tr>\n",
       "      <th id=\"T_2db6b_level0_row4\" class=\"row_heading level0 row4\" >11</th>\n",
       "      <td id=\"T_2db6b_row4_col0\" class=\"data row4 col0\" >JMT</td>\n",
       "      <td id=\"T_2db6b_row4_col1\" class=\"data row4 col1\" >12.80</td>\n",
       "      <td id=\"T_2db6b_row4_col2\" class=\"data row4 col2\" >13.00</td>\n",
       "      <td id=\"T_2db6b_row4_col3\" class=\"data row4 col3\" >1.56%</td>\n",
       "      <td id=\"T_2db6b_row4_col4\" class=\"data row4 col4\" >Better</td>\n",
       "      <td id=\"T_2db6b_row4_col5\" class=\"data row4 col5\" >SET50</td>\n",
       "    </tr>\n",
       "    <tr>\n",
       "      <th id=\"T_2db6b_level0_row5\" class=\"row_heading level0 row5\" >19</th>\n",
       "      <td id=\"T_2db6b_row5_col0\" class=\"data row5 col0\" >SCC</td>\n",
       "      <td id=\"T_2db6b_row5_col1\" class=\"data row5 col1\" >224.00</td>\n",
       "      <td id=\"T_2db6b_row5_col2\" class=\"data row5 col2\" >228.00</td>\n",
       "      <td id=\"T_2db6b_row5_col3\" class=\"data row5 col3\" >1.79%</td>\n",
       "      <td id=\"T_2db6b_row5_col4\" class=\"data row5 col4\" >Better</td>\n",
       "      <td id=\"T_2db6b_row5_col5\" class=\"data row5 col5\" >SET50</td>\n",
       "    </tr>\n",
       "    <tr>\n",
       "      <th id=\"T_2db6b_level0_row6\" class=\"row_heading level0 row6\" >9</th>\n",
       "      <td id=\"T_2db6b_row6_col0\" class=\"data row6 col0\" >IVL</td>\n",
       "      <td id=\"T_2db6b_row6_col1\" class=\"data row6 col1\" >23.30</td>\n",
       "      <td id=\"T_2db6b_row6_col2\" class=\"data row6 col2\" >23.80</td>\n",
       "      <td id=\"T_2db6b_row6_col3\" class=\"data row6 col3\" >2.15%</td>\n",
       "      <td id=\"T_2db6b_row6_col4\" class=\"data row6 col4\" >Better</td>\n",
       "      <td id=\"T_2db6b_row6_col5\" class=\"data row6 col5\" >SET50</td>\n",
       "    </tr>\n",
       "    <tr>\n",
       "      <th id=\"T_2db6b_level0_row7\" class=\"row_heading level0 row7\" >16</th>\n",
       "      <td id=\"T_2db6b_row7_col0\" class=\"data row7 col0\" >PTT</td>\n",
       "      <td id=\"T_2db6b_row7_col1\" class=\"data row7 col1\" >31.75</td>\n",
       "      <td id=\"T_2db6b_row7_col2\" class=\"data row7 col2\" >33.50</td>\n",
       "      <td id=\"T_2db6b_row7_col3\" class=\"data row7 col3\" >5.51%</td>\n",
       "      <td id=\"T_2db6b_row7_col4\" class=\"data row7 col4\" >Better</td>\n",
       "      <td id=\"T_2db6b_row7_col5\" class=\"data row7 col5\" >SET50</td>\n",
       "    </tr>\n",
       "  </tbody>\n",
       "</table>\n"
      ],
      "text/plain": [
       "<pandas.io.formats.style.Styler at 0x2109f30f3b0>"
      ]
     },
     "execution_count": 27,
     "metadata": {},
     "output_type": "execute_result"
    }
   ],
   "source": [
    "set50 = trend2.mrkt.str.contains('SET50') \n",
    "flt_set50 = trend2[set50]\n",
    "flt_set50[cols].sort_values(by=['percent','name'],ascending=[True,True]).style.format(format_dict)"
   ]
  },
  {
   "cell_type": "code",
   "execution_count": 28,
   "metadata": {},
   "outputs": [
    {
     "data": {
      "text/html": [
       "<style type=\"text/css\">\n",
       "</style>\n",
       "<table id=\"T_0d696\">\n",
       "  <thead>\n",
       "    <tr>\n",
       "      <th class=\"blank level0\" >&nbsp;</th>\n",
       "      <th id=\"T_0d696_level0_col0\" class=\"col_heading level0 col0\" >proportion</th>\n",
       "    </tr>\n",
       "    <tr>\n",
       "      <th class=\"index_name level0\" >perform</th>\n",
       "      <th class=\"blank col0\" >&nbsp;</th>\n",
       "    </tr>\n",
       "  </thead>\n",
       "  <tbody>\n",
       "    <tr>\n",
       "      <th id=\"T_0d696_level0_row0\" class=\"row_heading level0 row0\" >Better</th>\n",
       "      <td id=\"T_0d696_row0_col0\" class=\"data row0 col0\" >62.50%</td>\n",
       "    </tr>\n",
       "    <tr>\n",
       "      <th id=\"T_0d696_level0_row1\" class=\"row_heading level0 row1\" >No Change</th>\n",
       "      <td id=\"T_0d696_row1_col0\" class=\"data row1 col0\" >25.00%</td>\n",
       "    </tr>\n",
       "    <tr>\n",
       "      <th id=\"T_0d696_level0_row2\" class=\"row_heading level0 row2\" >Worse</th>\n",
       "      <td id=\"T_0d696_row2_col0\" class=\"data row2 col0\" >12.50%</td>\n",
       "    </tr>\n",
       "  </tbody>\n",
       "</table>\n"
      ],
      "text/plain": [
       "<pandas.io.formats.style.Styler at 0x2109e3eb6e0>"
      ]
     },
     "execution_count": 28,
     "metadata": {},
     "output_type": "execute_result"
    }
   ],
   "source": [
    "flt_set50.perform.value_counts(normalize=True).to_frame().style.format('{:.2%}')"
   ]
  },
  {
   "cell_type": "code",
   "execution_count": 29,
   "metadata": {
    "scrolled": true
   },
   "outputs": [
    {
     "data": {
      "text/html": [
       "<style type=\"text/css\">\n",
       "</style>\n",
       "<table id=\"T_d1a3f\">\n",
       "  <thead>\n",
       "    <tr>\n",
       "      <th class=\"blank level0\" >&nbsp;</th>\n",
       "      <th id=\"T_d1a3f_level0_col0\" class=\"col_heading level0 col0\" >name</th>\n",
       "      <th id=\"T_d1a3f_level0_col1\" class=\"col_heading level0 col1\" >price_w</th>\n",
       "      <th id=\"T_d1a3f_level0_col2\" class=\"col_heading level0 col2\" >price_d</th>\n",
       "      <th id=\"T_d1a3f_level0_col3\" class=\"col_heading level0 col3\" >percent</th>\n",
       "      <th id=\"T_d1a3f_level0_col4\" class=\"col_heading level0 col4\" >perform</th>\n",
       "      <th id=\"T_d1a3f_level0_col5\" class=\"col_heading level0 col5\" >mrkt</th>\n",
       "    </tr>\n",
       "  </thead>\n",
       "  <tbody>\n",
       "    <tr>\n",
       "      <th id=\"T_d1a3f_level0_row0\" class=\"row_heading level0 row0\" >22</th>\n",
       "      <td id=\"T_d1a3f_row0_col0\" class=\"data row0 col0\" >STA</td>\n",
       "      <td id=\"T_d1a3f_row0_col1\" class=\"data row0 col1\" >13.70</td>\n",
       "      <td id=\"T_d1a3f_row0_col2\" class=\"data row0 col2\" >13.20</td>\n",
       "      <td id=\"T_d1a3f_row0_col3\" class=\"data row0 col3\" >-3.65%</td>\n",
       "      <td id=\"T_d1a3f_row0_col4\" class=\"data row0 col4\" >Worse</td>\n",
       "      <td id=\"T_d1a3f_row0_col5\" class=\"data row0 col5\" >SET100</td>\n",
       "    </tr>\n",
       "    <tr>\n",
       "      <th id=\"T_d1a3f_level0_row1\" class=\"row_heading level0 row1\" >15</th>\n",
       "      <td id=\"T_d1a3f_row1_col0\" class=\"data row1 col0\" >PTG</td>\n",
       "      <td id=\"T_d1a3f_row1_col1\" class=\"data row1 col1\" >8.50</td>\n",
       "      <td id=\"T_d1a3f_row1_col2\" class=\"data row1 col2\" >8.40</td>\n",
       "      <td id=\"T_d1a3f_row1_col3\" class=\"data row1 col3\" >-1.18%</td>\n",
       "      <td id=\"T_d1a3f_row1_col4\" class=\"data row1 col4\" >Worse</td>\n",
       "      <td id=\"T_d1a3f_row1_col5\" class=\"data row1 col5\" >SET100</td>\n",
       "    </tr>\n",
       "    <tr>\n",
       "      <th id=\"T_d1a3f_level0_row2\" class=\"row_heading level0 row2\" >14</th>\n",
       "      <td id=\"T_d1a3f_row2_col0\" class=\"data row2 col0\" >ORI</td>\n",
       "      <td id=\"T_d1a3f_row2_col1\" class=\"data row2 col1\" >2.74</td>\n",
       "      <td id=\"T_d1a3f_row2_col2\" class=\"data row2 col2\" >2.72</td>\n",
       "      <td id=\"T_d1a3f_row2_col3\" class=\"data row2 col3\" >-0.73%</td>\n",
       "      <td id=\"T_d1a3f_row2_col4\" class=\"data row2 col4\" >Worse</td>\n",
       "      <td id=\"T_d1a3f_row2_col5\" class=\"data row2 col5\" >SET100</td>\n",
       "    </tr>\n",
       "    <tr>\n",
       "      <th id=\"T_d1a3f_level0_row3\" class=\"row_heading level0 row3\" >4</th>\n",
       "      <td id=\"T_d1a3f_row3_col0\" class=\"data row3 col0\" >BCH</td>\n",
       "      <td id=\"T_d1a3f_row3_col1\" class=\"data row3 col1\" >13.10</td>\n",
       "      <td id=\"T_d1a3f_row3_col2\" class=\"data row3 col2\" >13.10</td>\n",
       "      <td id=\"T_d1a3f_row3_col3\" class=\"data row3 col3\" >0.00%</td>\n",
       "      <td id=\"T_d1a3f_row3_col4\" class=\"data row3 col4\" >No Change</td>\n",
       "      <td id=\"T_d1a3f_row3_col5\" class=\"data row3 col5\" >SET100</td>\n",
       "    </tr>\n",
       "    <tr>\n",
       "      <th id=\"T_d1a3f_level0_row4\" class=\"row_heading level0 row4\" >18</th>\n",
       "      <td id=\"T_d1a3f_row4_col0\" class=\"data row4 col0\" >RCL</td>\n",
       "      <td id=\"T_d1a3f_row4_col1\" class=\"data row4 col1\" >26.75</td>\n",
       "      <td id=\"T_d1a3f_row4_col2\" class=\"data row4 col2\" >29.00</td>\n",
       "      <td id=\"T_d1a3f_row4_col3\" class=\"data row4 col3\" >8.41%</td>\n",
       "      <td id=\"T_d1a3f_row4_col4\" class=\"data row4 col4\" >Better</td>\n",
       "      <td id=\"T_d1a3f_row4_col5\" class=\"data row4 col5\" >SET100</td>\n",
       "    </tr>\n",
       "    <tr>\n",
       "      <th id=\"T_d1a3f_level0_row5\" class=\"row_heading level0 row5\" >21</th>\n",
       "      <td id=\"T_d1a3f_row5_col0\" class=\"data row5 col0\" >SINGER</td>\n",
       "      <td id=\"T_d1a3f_row5_col1\" class=\"data row5 col1\" >6.50</td>\n",
       "      <td id=\"T_d1a3f_row5_col2\" class=\"data row5 col2\" >7.50</td>\n",
       "      <td id=\"T_d1a3f_row5_col3\" class=\"data row5 col3\" >15.38%</td>\n",
       "      <td id=\"T_d1a3f_row5_col4\" class=\"data row5 col4\" >Better</td>\n",
       "      <td id=\"T_d1a3f_row5_col5\" class=\"data row5 col5\" >SET100</td>\n",
       "    </tr>\n",
       "  </tbody>\n",
       "</table>\n"
      ],
      "text/plain": [
       "<pandas.io.formats.style.Styler at 0x2109f389100>"
      ]
     },
     "execution_count": 29,
     "metadata": {},
     "output_type": "execute_result"
    }
   ],
   "source": [
    "set100 = trend2.mrkt.str.contains('SET100')\n",
    "flt_set100 = trend2[set100]\n",
    "flt_set100[cols].sort_values(by=['percent','name'],ascending=[True,True]).style.format(format_dict)"
   ]
  },
  {
   "cell_type": "code",
   "execution_count": 30,
   "metadata": {},
   "outputs": [
    {
     "data": {
      "text/html": [
       "<style type=\"text/css\">\n",
       "</style>\n",
       "<table id=\"T_7694f\">\n",
       "  <thead>\n",
       "    <tr>\n",
       "      <th class=\"blank level0\" >&nbsp;</th>\n",
       "      <th id=\"T_7694f_level0_col0\" class=\"col_heading level0 col0\" >proportion</th>\n",
       "    </tr>\n",
       "    <tr>\n",
       "      <th class=\"index_name level0\" >perform</th>\n",
       "      <th class=\"blank col0\" >&nbsp;</th>\n",
       "    </tr>\n",
       "  </thead>\n",
       "  <tbody>\n",
       "    <tr>\n",
       "      <th id=\"T_7694f_level0_row0\" class=\"row_heading level0 row0\" >Worse</th>\n",
       "      <td id=\"T_7694f_row0_col0\" class=\"data row0 col0\" >50.00%</td>\n",
       "    </tr>\n",
       "    <tr>\n",
       "      <th id=\"T_7694f_level0_row1\" class=\"row_heading level0 row1\" >Better</th>\n",
       "      <td id=\"T_7694f_row1_col0\" class=\"data row1 col0\" >33.33%</td>\n",
       "    </tr>\n",
       "    <tr>\n",
       "      <th id=\"T_7694f_level0_row2\" class=\"row_heading level0 row2\" >No Change</th>\n",
       "      <td id=\"T_7694f_row2_col0\" class=\"data row2 col0\" >16.67%</td>\n",
       "    </tr>\n",
       "  </tbody>\n",
       "</table>\n"
      ],
      "text/plain": [
       "<pandas.io.formats.style.Styler at 0x2109f38aba0>"
      ]
     },
     "execution_count": 30,
     "metadata": {},
     "output_type": "execute_result"
    }
   ],
   "source": [
    "flt_set100[cols].perform.value_counts(normalize=True).to_frame().style.format('{:.2%}')"
   ]
  },
  {
   "cell_type": "code",
   "execution_count": 31,
   "metadata": {},
   "outputs": [
    {
     "data": {
      "text/html": [
       "<style type=\"text/css\">\n",
       "</style>\n",
       "<table id=\"T_ddc40\">\n",
       "  <thead>\n",
       "    <tr>\n",
       "      <th class=\"blank level0\" >&nbsp;</th>\n",
       "      <th id=\"T_ddc40_level0_col0\" class=\"col_heading level0 col0\" >name</th>\n",
       "      <th id=\"T_ddc40_level0_col1\" class=\"col_heading level0 col1\" >price_w</th>\n",
       "      <th id=\"T_ddc40_level0_col2\" class=\"col_heading level0 col2\" >price_d</th>\n",
       "      <th id=\"T_ddc40_level0_col3\" class=\"col_heading level0 col3\" >percent</th>\n",
       "      <th id=\"T_ddc40_level0_col4\" class=\"col_heading level0 col4\" >perform</th>\n",
       "      <th id=\"T_ddc40_level0_col5\" class=\"col_heading level0 col5\" >mrkt</th>\n",
       "    </tr>\n",
       "  </thead>\n",
       "  <tbody>\n",
       "    <tr>\n",
       "      <th id=\"T_ddc40_level0_row0\" class=\"row_heading level0 row0\" >25</th>\n",
       "      <td id=\"T_ddc40_row0_col0\" class=\"data row0 col0\" >TOA</td>\n",
       "      <td id=\"T_ddc40_row0_col1\" class=\"data row0 col1\" >15.50</td>\n",
       "      <td id=\"T_ddc40_row0_col2\" class=\"data row0 col2\" >14.80</td>\n",
       "      <td id=\"T_ddc40_row0_col3\" class=\"data row0 col3\" >-4.52%</td>\n",
       "      <td id=\"T_ddc40_row0_col4\" class=\"data row0 col4\" >Worse</td>\n",
       "      <td id=\"T_ddc40_row0_col5\" class=\"data row0 col5\" >SET999</td>\n",
       "    </tr>\n",
       "    <tr>\n",
       "      <th id=\"T_ddc40_level0_row1\" class=\"row_heading level0 row1\" >13</th>\n",
       "      <td id=\"T_ddc40_row1_col0\" class=\"data row1 col0\" >NER</td>\n",
       "      <td id=\"T_ddc40_row1_col1\" class=\"data row1 col1\" >4.54</td>\n",
       "      <td id=\"T_ddc40_row1_col2\" class=\"data row1 col2\" >4.48</td>\n",
       "      <td id=\"T_ddc40_row1_col3\" class=\"data row1 col3\" >-1.32%</td>\n",
       "      <td id=\"T_ddc40_row1_col4\" class=\"data row1 col4\" >Worse</td>\n",
       "      <td id=\"T_ddc40_row1_col5\" class=\"data row1 col5\" >SET999</td>\n",
       "    </tr>\n",
       "    <tr>\n",
       "      <th id=\"T_ddc40_level0_row2\" class=\"row_heading level0 row2\" >1</th>\n",
       "      <td id=\"T_ddc40_row2_col0\" class=\"data row2 col0\" >AH</td>\n",
       "      <td id=\"T_ddc40_row2_col1\" class=\"data row2 col1\" >14.50</td>\n",
       "      <td id=\"T_ddc40_row2_col2\" class=\"data row2 col2\" >14.40</td>\n",
       "      <td id=\"T_ddc40_row2_col3\" class=\"data row2 col3\" >-0.69%</td>\n",
       "      <td id=\"T_ddc40_row2_col4\" class=\"data row2 col4\" >Worse</td>\n",
       "      <td id=\"T_ddc40_row2_col5\" class=\"data row2 col5\" >SET999</td>\n",
       "    </tr>\n",
       "    <tr>\n",
       "      <th id=\"T_ddc40_level0_row3\" class=\"row_heading level0 row3\" >12</th>\n",
       "      <td id=\"T_ddc40_row3_col0\" class=\"data row3 col0\" >MCS</td>\n",
       "      <td id=\"T_ddc40_row3_col1\" class=\"data row3 col1\" >8.65</td>\n",
       "      <td id=\"T_ddc40_row3_col2\" class=\"data row3 col2\" >8.65</td>\n",
       "      <td id=\"T_ddc40_row3_col3\" class=\"data row3 col3\" >0.00%</td>\n",
       "      <td id=\"T_ddc40_row3_col4\" class=\"data row3 col4\" >No Change</td>\n",
       "      <td id=\"T_ddc40_row3_col5\" class=\"data row3 col5\" >SET999</td>\n",
       "    </tr>\n",
       "    <tr>\n",
       "      <th id=\"T_ddc40_level0_row4\" class=\"row_heading level0 row4\" >26</th>\n",
       "      <td id=\"T_ddc40_row4_col0\" class=\"data row4 col0\" >TVO</td>\n",
       "      <td id=\"T_ddc40_row4_col1\" class=\"data row4 col1\" >25.25</td>\n",
       "      <td id=\"T_ddc40_row4_col2\" class=\"data row4 col2\" >25.25</td>\n",
       "      <td id=\"T_ddc40_row4_col3\" class=\"data row4 col3\" >0.00%</td>\n",
       "      <td id=\"T_ddc40_row4_col4\" class=\"data row4 col4\" >No Change</td>\n",
       "      <td id=\"T_ddc40_row4_col5\" class=\"data row4 col5\" >SET999</td>\n",
       "    </tr>\n",
       "    <tr>\n",
       "      <th id=\"T_ddc40_level0_row5\" class=\"row_heading level0 row5\" >20</th>\n",
       "      <td id=\"T_ddc40_row5_col0\" class=\"data row5 col0\" >SENA</td>\n",
       "      <td id=\"T_ddc40_row5_col1\" class=\"data row5 col1\" >1.93</td>\n",
       "      <td id=\"T_ddc40_row5_col2\" class=\"data row5 col2\" >1.94</td>\n",
       "      <td id=\"T_ddc40_row5_col3\" class=\"data row5 col3\" >0.52%</td>\n",
       "      <td id=\"T_ddc40_row5_col4\" class=\"data row5 col4\" >Better</td>\n",
       "      <td id=\"T_ddc40_row5_col5\" class=\"data row5 col5\" >SET999</td>\n",
       "    </tr>\n",
       "    <tr>\n",
       "      <th id=\"T_ddc40_level0_row6\" class=\"row_heading level0 row6\" >23</th>\n",
       "      <td id=\"T_ddc40_row6_col0\" class=\"data row6 col0\" >SYNEX</td>\n",
       "      <td id=\"T_ddc40_row6_col1\" class=\"data row6 col1\" >12.20</td>\n",
       "      <td id=\"T_ddc40_row6_col2\" class=\"data row6 col2\" >12.40</td>\n",
       "      <td id=\"T_ddc40_row6_col3\" class=\"data row6 col3\" >1.64%</td>\n",
       "      <td id=\"T_ddc40_row6_col4\" class=\"data row6 col4\" >Better</td>\n",
       "      <td id=\"T_ddc40_row6_col5\" class=\"data row6 col5\" >SET999</td>\n",
       "    </tr>\n",
       "    <tr>\n",
       "      <th id=\"T_ddc40_level0_row7\" class=\"row_heading level0 row7\" >8</th>\n",
       "      <td id=\"T_ddc40_row7_col0\" class=\"data row7 col0\" >GVREIT</td>\n",
       "      <td id=\"T_ddc40_row7_col1\" class=\"data row7 col1\" >6.25</td>\n",
       "      <td id=\"T_ddc40_row7_col2\" class=\"data row7 col2\" >6.40</td>\n",
       "      <td id=\"T_ddc40_row7_col3\" class=\"data row7 col3\" >2.40%</td>\n",
       "      <td id=\"T_ddc40_row7_col4\" class=\"data row7 col4\" >Better</td>\n",
       "      <td id=\"T_ddc40_row7_col5\" class=\"data row7 col5\" >SET999</td>\n",
       "    </tr>\n",
       "    <tr>\n",
       "      <th id=\"T_ddc40_level0_row8\" class=\"row_heading level0 row8\" >24</th>\n",
       "      <td id=\"T_ddc40_row8_col0\" class=\"data row8 col0\" >TFFIF</td>\n",
       "      <td id=\"T_ddc40_row8_col1\" class=\"data row8 col1\" >5.95</td>\n",
       "      <td id=\"T_ddc40_row8_col2\" class=\"data row8 col2\" >6.10</td>\n",
       "      <td id=\"T_ddc40_row8_col3\" class=\"data row8 col3\" >2.52%</td>\n",
       "      <td id=\"T_ddc40_row8_col4\" class=\"data row8 col4\" >Better</td>\n",
       "      <td id=\"T_ddc40_row8_col5\" class=\"data row8 col5\" >SET999</td>\n",
       "    </tr>\n",
       "    <tr>\n",
       "      <th id=\"T_ddc40_level0_row9\" class=\"row_heading level0 row9\" >27</th>\n",
       "      <td id=\"T_ddc40_row9_col0\" class=\"data row9 col0\" >WHAIR</td>\n",
       "      <td id=\"T_ddc40_row9_col1\" class=\"data row9 col1\" >5.50</td>\n",
       "      <td id=\"T_ddc40_row9_col2\" class=\"data row9 col2\" >5.65</td>\n",
       "      <td id=\"T_ddc40_row9_col3\" class=\"data row9 col3\" >2.73%</td>\n",
       "      <td id=\"T_ddc40_row9_col4\" class=\"data row9 col4\" >Better</td>\n",
       "      <td id=\"T_ddc40_row9_col5\" class=\"data row9 col5\" >SET999</td>\n",
       "    </tr>\n",
       "    <tr>\n",
       "      <th id=\"T_ddc40_level0_row10\" class=\"row_heading level0 row10\" >2</th>\n",
       "      <td id=\"T_ddc40_row10_col0\" class=\"data row10 col0\" >AIMIRT</td>\n",
       "      <td id=\"T_ddc40_row10_col1\" class=\"data row10 col1\" >9.70</td>\n",
       "      <td id=\"T_ddc40_row10_col2\" class=\"data row10 col2\" >10.00</td>\n",
       "      <td id=\"T_ddc40_row10_col3\" class=\"data row10 col3\" >3.09%</td>\n",
       "      <td id=\"T_ddc40_row10_col4\" class=\"data row10 col4\" >Better</td>\n",
       "      <td id=\"T_ddc40_row10_col5\" class=\"data row10 col5\" >SET999</td>\n",
       "    </tr>\n",
       "    <tr>\n",
       "      <th id=\"T_ddc40_level0_row11\" class=\"row_heading level0 row11\" >28</th>\n",
       "      <td id=\"T_ddc40_row11_col0\" class=\"data row11 col0\" >WHART</td>\n",
       "      <td id=\"T_ddc40_row11_col1\" class=\"data row11 col1\" >9.15</td>\n",
       "      <td id=\"T_ddc40_row11_col2\" class=\"data row11 col2\" >9.55</td>\n",
       "      <td id=\"T_ddc40_row11_col3\" class=\"data row11 col3\" >4.37%</td>\n",
       "      <td id=\"T_ddc40_row11_col4\" class=\"data row11 col4\" >Better</td>\n",
       "      <td id=\"T_ddc40_row11_col5\" class=\"data row11 col5\" >SET999</td>\n",
       "    </tr>\n",
       "    <tr>\n",
       "      <th id=\"T_ddc40_level0_row12\" class=\"row_heading level0 row12\" >0</th>\n",
       "      <td id=\"T_ddc40_row12_col0\" class=\"data row12 col0\" >3BBIF</td>\n",
       "      <td id=\"T_ddc40_row12_col1\" class=\"data row12 col1\" >6.40</td>\n",
       "      <td id=\"T_ddc40_row12_col2\" class=\"data row12 col2\" >6.70</td>\n",
       "      <td id=\"T_ddc40_row12_col3\" class=\"data row12 col3\" >4.69%</td>\n",
       "      <td id=\"T_ddc40_row12_col4\" class=\"data row12 col4\" >Better</td>\n",
       "      <td id=\"T_ddc40_row12_col5\" class=\"data row12 col5\" >SET999</td>\n",
       "    </tr>\n",
       "    <tr>\n",
       "      <th id=\"T_ddc40_level0_row13\" class=\"row_heading level0 row13\" >7</th>\n",
       "      <td id=\"T_ddc40_row13_col0\" class=\"data row13 col0\" >DIF</td>\n",
       "      <td id=\"T_ddc40_row13_col1\" class=\"data row13 col1\" >8.60</td>\n",
       "      <td id=\"T_ddc40_row13_col2\" class=\"data row13 col2\" >9.05</td>\n",
       "      <td id=\"T_ddc40_row13_col3\" class=\"data row13 col3\" >5.23%</td>\n",
       "      <td id=\"T_ddc40_row13_col4\" class=\"data row13 col4\" >Better</td>\n",
       "      <td id=\"T_ddc40_row13_col5\" class=\"data row13 col5\" >SET999</td>\n",
       "    </tr>\n",
       "    <tr>\n",
       "      <th id=\"T_ddc40_level0_row14\" class=\"row_heading level0 row14\" >6</th>\n",
       "      <td id=\"T_ddc40_row14_col0\" class=\"data row14 col0\" >CPNREIT</td>\n",
       "      <td id=\"T_ddc40_row14_col1\" class=\"data row14 col1\" >11.10</td>\n",
       "      <td id=\"T_ddc40_row14_col2\" class=\"data row14 col2\" >11.80</td>\n",
       "      <td id=\"T_ddc40_row14_col3\" class=\"data row14 col3\" >6.31%</td>\n",
       "      <td id=\"T_ddc40_row14_col4\" class=\"data row14 col4\" >Better</td>\n",
       "      <td id=\"T_ddc40_row14_col5\" class=\"data row14 col5\" >SET999</td>\n",
       "    </tr>\n",
       "  </tbody>\n",
       "</table>\n"
      ],
      "text/plain": [
       "<pandas.io.formats.style.Styler at 0x2109f38aa80>"
      ]
     },
     "execution_count": 31,
     "metadata": {},
     "output_type": "execute_result"
    }
   ],
   "source": [
    "set999 = trend2.mrkt.str.contains('SET999')\n",
    "flt_set999 = trend2[set999]\n",
    "flt_set999[cols].sort_values(by=['percent','name'],ascending=[True,True]).style.format(format_dict)"
   ]
  },
  {
   "cell_type": "code",
   "execution_count": 32,
   "metadata": {},
   "outputs": [
    {
     "data": {
      "text/html": [
       "<style type=\"text/css\">\n",
       "</style>\n",
       "<table id=\"T_94eac\">\n",
       "  <thead>\n",
       "    <tr>\n",
       "      <th class=\"blank level0\" >&nbsp;</th>\n",
       "      <th id=\"T_94eac_level0_col0\" class=\"col_heading level0 col0\" >proportion</th>\n",
       "    </tr>\n",
       "    <tr>\n",
       "      <th class=\"index_name level0\" >perform</th>\n",
       "      <th class=\"blank col0\" >&nbsp;</th>\n",
       "    </tr>\n",
       "  </thead>\n",
       "  <tbody>\n",
       "    <tr>\n",
       "      <th id=\"T_94eac_level0_row0\" class=\"row_heading level0 row0\" >Better</th>\n",
       "      <td id=\"T_94eac_row0_col0\" class=\"data row0 col0\" >66.67%</td>\n",
       "    </tr>\n",
       "    <tr>\n",
       "      <th id=\"T_94eac_level0_row1\" class=\"row_heading level0 row1\" >Worse</th>\n",
       "      <td id=\"T_94eac_row1_col0\" class=\"data row1 col0\" >20.00%</td>\n",
       "    </tr>\n",
       "    <tr>\n",
       "      <th id=\"T_94eac_level0_row2\" class=\"row_heading level0 row2\" >No Change</th>\n",
       "      <td id=\"T_94eac_row2_col0\" class=\"data row2 col0\" >13.33%</td>\n",
       "    </tr>\n",
       "  </tbody>\n",
       "</table>\n"
      ],
      "text/plain": [
       "<pandas.io.formats.style.Styler at 0x2109f38b320>"
      ]
     },
     "execution_count": 32,
     "metadata": {},
     "output_type": "execute_result"
    }
   ],
   "source": [
    "flt_set999[cols].perform.value_counts(normalize=True).to_frame().style.format('{:.2%}')"
   ]
  },
  {
   "cell_type": "code",
   "execution_count": 33,
   "metadata": {},
   "outputs": [
    {
     "data": {
      "text/html": [
       "<style type=\"text/css\">\n",
       "</style>\n",
       "<table id=\"T_63682\">\n",
       "  <thead>\n",
       "    <tr>\n",
       "      <th class=\"blank level0\" >&nbsp;</th>\n",
       "      <th id=\"T_63682_level0_col0\" class=\"col_heading level0 col0\" >name</th>\n",
       "      <th id=\"T_63682_level0_col1\" class=\"col_heading level0 col1\" >price_w</th>\n",
       "      <th id=\"T_63682_level0_col2\" class=\"col_heading level0 col2\" >price_d</th>\n",
       "      <th id=\"T_63682_level0_col3\" class=\"col_heading level0 col3\" >percent</th>\n",
       "      <th id=\"T_63682_level0_col4\" class=\"col_heading level0 col4\" >perform</th>\n",
       "      <th id=\"T_63682_level0_col5\" class=\"col_heading level0 col5\" >mrkt</th>\n",
       "    </tr>\n",
       "  </thead>\n",
       "  <tbody>\n",
       "  </tbody>\n",
       "</table>\n"
      ],
      "text/plain": [
       "<pandas.io.formats.style.Styler at 0x2109f3b4500>"
      ]
     },
     "execution_count": 33,
     "metadata": {},
     "output_type": "execute_result"
    }
   ],
   "source": [
    "setmai = trend2.mrkt.str.contains('mai')\n",
    "flt_setmai = trend2[setmai]\n",
    "flt_setmai[cols].sort_values(by=['percent','name'],ascending=[True,True]).style.format(format_dict)"
   ]
  },
  {
   "cell_type": "code",
   "execution_count": 34,
   "metadata": {},
   "outputs": [
    {
     "data": {
      "text/html": [
       "<style type=\"text/css\">\n",
       "</style>\n",
       "<table id=\"T_d75e9\">\n",
       "  <thead>\n",
       "    <tr>\n",
       "      <th class=\"blank level0\" >&nbsp;</th>\n",
       "      <th id=\"T_d75e9_level0_col0\" class=\"col_heading level0 col0\" >proportion</th>\n",
       "    </tr>\n",
       "    <tr>\n",
       "      <th class=\"index_name level0\" >perform</th>\n",
       "      <th class=\"blank col0\" >&nbsp;</th>\n",
       "    </tr>\n",
       "  </thead>\n",
       "  <tbody>\n",
       "  </tbody>\n",
       "</table>\n"
      ],
      "text/plain": [
       "<pandas.io.formats.style.Styler at 0x2109f38b7d0>"
      ]
     },
     "execution_count": 34,
     "metadata": {},
     "output_type": "execute_result"
    }
   ],
   "source": [
    "flt_setmai[cols].perform.value_counts(normalize=True).to_frame().style.format('{:.2%}')"
   ]
  },
  {
   "cell_type": "code",
   "execution_count": 35,
   "metadata": {},
   "outputs": [],
   "source": [
    "const.close()\n",
    "conmy.close()"
   ]
  },
  {
   "cell_type": "code",
   "execution_count": 36,
   "metadata": {},
   "outputs": [
    {
     "name": "stdout",
     "output_type": "stream",
     "text": [
      "2025-09-14 21:28:29\n"
     ]
    }
   ],
   "source": [
    "current_time = datetime.now()\n",
    "formatted_time = current_time.strftime(\"%Y-%m-%d %H:%M:%S\")\n",
    "print(formatted_time)"
   ]
  },
  {
   "cell_type": "code",
   "execution_count": null,
   "metadata": {},
   "outputs": [],
   "source": []
  }
 ],
 "metadata": {
  "anaconda-cloud": {},
  "kernelspec": {
   "display_name": "Python 3 (ipykernel)",
   "language": "python",
   "name": "python3"
  },
  "language_info": {
   "codemirror_mode": {
    "name": "ipython",
    "version": 3
   },
   "file_extension": ".py",
   "mimetype": "text/x-python",
   "name": "python",
   "nbconvert_exporter": "python",
   "pygments_lexer": "ipython3",
   "version": "3.12.3"
  }
 },
 "nbformat": 4,
 "nbformat_minor": 4
}
