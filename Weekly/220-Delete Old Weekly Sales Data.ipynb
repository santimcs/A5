{
 "cells": [
  {
   "cell_type": "code",
   "execution_count": 1,
   "metadata": {},
   "outputs": [
    {
     "name": "stdout",
     "output_type": "stream",
     "text": [
      "2025-10-13 2025-10-12\n"
     ]
    }
   ],
   "source": [
    "import calendar\n",
    "import os\n",
    "import pandas as pd\n",
    "from datetime import date, timedelta, datetime\n",
    "from sqlalchemy import create_engine, text\n",
    "from pandas.tseries.offsets import BDay\n",
    "\n",
    "engine = create_engine(\"sqlite:///c:\\\\ruby\\\\port_lite\\\\db\\\\development.sqlite3\")\n",
    "conlite = engine.connect()\n",
    "\n",
    "engine = create_engine(\"mysql+pymysql://root:@localhost:3306/stock\")\n",
    "const = engine.connect()\n",
    "\n",
    "pd.set_option('display.max_row',None)\n",
    "\n",
    "today = date.today()\n",
    "yesterday = today - timedelta(days=1)\n",
    "print(today, yesterday)"
   ]
  },
  {
   "cell_type": "code",
   "execution_count": 2,
   "metadata": {},
   "outputs": [
    {
     "name": "stdout",
     "output_type": "stream",
     "text": [
      "today: 2025-10-13\n",
      "yesterday: 2025-10-10 00:00:00\n"
     ]
    }
   ],
   "source": [
    "# convert the timedelta object to a BusinessDay object\n",
    "num_business_days = BDay(1)\n",
    "yesterday = today - num_business_days\n",
    "#yesterday = yesterday.date()\n",
    "print(f'today: {today}')\n",
    "print(f'yesterday: {yesterday}')"
   ]
  },
  {
   "cell_type": "code",
   "execution_count": 3,
   "metadata": {},
   "outputs": [
    {
     "name": "stdout",
     "output_type": "stream",
     "text": [
      "2025-10-10 2024-10-10\n"
     ]
    }
   ],
   "source": [
    "yesterday = yesterday.date()\n",
    "a_year_ago = yesterday - timedelta(days=365)\n",
    "print(yesterday, a_year_ago)"
   ]
  },
  {
   "cell_type": "markdown",
   "metadata": {},
   "source": [
    "### Restart and Run All Cells"
   ]
  },
  {
   "cell_type": "code",
   "execution_count": 5,
   "metadata": {},
   "outputs": [],
   "source": [
    "# Get the user's home directory\n",
    "user_path = os.path.expanduser('~')\n",
    "# Get the current working directory\n",
    "current_path = os.getcwd()\n",
    "# Derive the base directory (base_dir) by removing the last folder ('Daily')\n",
    "base_path = os.path.dirname(current_path)\n",
    "#C:\\Users\\PC1\\OneDrive\\A5\\Data\n",
    "dat_path = os.path.join(base_path, \"Data\")\n",
    "#C:\\Users\\PC1\\OneDrive\\Imports\\santisoontarinka@gmail.com - Google Drive\\Data>\n",
    "god_path = os.path.join(user_path, \"OneDrive\",\"Imports\",\"santisoontarinka@gmail.com - Google Drive\",\"Data\")\n",
    "#C:\\Users\\PC1\\iCloudDrive\\data\n",
    "icd_path = os.path.join(user_path, \"iCloudDrive\", \"Data\")\n",
    "#C:\\Users\\PC1\\OneDrive\\Documents\\obsidian-git-sync\\Data\n",
    "osd_path = os.path.join(user_path, \"OneDrive\",\"Documents\",\"obsidian-git-sync\",\"Data\")"
   ]
  },
  {
   "cell_type": "code",
   "execution_count": 6,
   "metadata": {},
   "outputs": [
    {
     "name": "stdout",
     "output_type": "stream",
     "text": [
      "User path: C:\\Users\\PC1\n",
      "Current path: C:\\Users\\PC1\\OneDrive\\A5\\Weekly\n",
      "Base path: C:\\Users\\PC1\\OneDrive\\A5\n",
      "Data path (dat_path): C:\\Users\\PC1\\OneDrive\\A5\\Data\n",
      "Google Drive path (god_path): C:\\Users\\PC1\\OneDrive\\Imports\\santisoontarinka@gmail.com - Google Drive\\Data\n",
      "iCloudDrive path (icd_path): C:\\Users\\PC1\\iCloudDrive\\Data\n",
      "Obsidian path (osd_path): C:\\Users\\PC1\\OneDrive\\Documents\\obsidian-git-sync\\Data\n"
     ]
    }
   ],
   "source": [
    "print(\"User path:\", user_path)\n",
    "print(f\"Current path: {current_path}\")\n",
    "print(f\"Base path: {base_path}\")\n",
    "print(f\"Data path (dat_path): {dat_path}\") \n",
    "print(f\"Google Drive path (god_path): {god_path}\")\n",
    "print(f\"iCloudDrive path (icd_path): {icd_path}\") \n",
    "print(f\"Obsidian path (osd_path): {osd_path}\") "
   ]
  },
  {
   "cell_type": "markdown",
   "metadata": {},
   "source": [
    "### Weekly process or when stataus changes."
   ]
  },
  {
   "cell_type": "code",
   "execution_count": 8,
   "metadata": {},
   "outputs": [
    {
     "data": {
      "text/html": [
       "<div>\n",
       "<style scoped>\n",
       "    .dataframe tbody tr th:only-of-type {\n",
       "        vertical-align: middle;\n",
       "    }\n",
       "\n",
       "    .dataframe tbody tr th {\n",
       "        vertical-align: top;\n",
       "    }\n",
       "\n",
       "    .dataframe thead th {\n",
       "        text-align: right;\n",
       "    }\n",
       "</style>\n",
       "<table border=\"1\" class=\"dataframe\">\n",
       "  <thead>\n",
       "    <tr style=\"text-align: right;\">\n",
       "      <th></th>\n",
       "      <th>records</th>\n",
       "    </tr>\n",
       "  </thead>\n",
       "  <tbody>\n",
       "    <tr>\n",
       "      <th>0</th>\n",
       "      <td>1842</td>\n",
       "    </tr>\n",
       "  </tbody>\n",
       "</table>\n",
       "</div>"
      ],
      "text/plain": [
       "   records\n",
       "0     1842"
      ]
     },
     "execution_count": 8,
     "metadata": {},
     "output_type": "execute_result"
    }
   ],
   "source": [
    "pd.read_sql_query('SELECT COUNT(*) AS records FROM sales', conlite)"
   ]
  },
  {
   "cell_type": "code",
   "execution_count": 9,
   "metadata": {},
   "outputs": [
    {
     "data": {
      "text/plain": [
       "1842"
      ]
     },
     "execution_count": 9,
     "metadata": {},
     "output_type": "execute_result"
    }
   ],
   "source": [
    "sqlDel = text(\"\"\"DELETE FROM sales\"\"\")\n",
    "rp = conlite.execute(sqlDel)\n",
    "conlite.commit()\n",
    "rp.rowcount"
   ]
  },
  {
   "cell_type": "code",
   "execution_count": 10,
   "metadata": {},
   "outputs": [
    {
     "data": {
      "text/plain": [
       "\"'AIMIRT', 'CPF', 'DIF', 'GVREIT', 'IVL', 'JMART', 'JMT', 'MCS', 'NER', 'ORI', 'PTG', 'PTT', 'RCL', 'SYNEX', 'TFFIF', 'TVO', 'WHAIR', 'WHART'\""
      ]
     },
     "execution_count": 10,
     "metadata": {},
     "output_type": "execute_result"
    }
   ],
   "source": [
    "sql = \"\"\"\n",
    "SELECT name\n",
    "FROM orders \n",
    "ORDER BY name\n",
    "\"\"\"\n",
    "df_orders = pd.read_sql(sql, conlite)\n",
    "\n",
    "names = df_orders['name'].values.tolist()\n",
    "portfolio = \", \".join(map(lambda name: \"'%s'\" % name, names))\n",
    "portfolio"
   ]
  },
  {
   "cell_type": "code",
   "execution_count": 11,
   "metadata": {},
   "outputs": [
    {
     "data": {
      "text/plain": [
       "18"
      ]
     },
     "execution_count": 11,
     "metadata": {},
     "output_type": "execute_result"
    }
   ],
   "source": [
    "len(portfolio.split(','))"
   ]
  },
  {
   "cell_type": "markdown",
   "metadata": {},
   "source": [
    "### Get past one year data"
   ]
  },
  {
   "cell_type": "code",
   "execution_count": 13,
   "metadata": {},
   "outputs": [
    {
     "name": "stdout",
     "output_type": "stream",
     "text": [
      "\n",
      "    SELECT name, date, price, qty, maxp, minp \n",
      "    FROM price \n",
      "    WHERE date >= '2024-10-10' AND name IN ('AIMIRT', 'CPF', 'DIF', 'GVREIT', 'IVL', 'JMART', 'JMT', 'MCS', 'NER', 'ORI', 'PTG', 'PTT', 'RCL', 'SYNEX', 'TFFIF', 'TVO', 'WHAIR', 'WHART') \n",
      "    ORDER BY name, date\n",
      "\n"
     ]
    }
   ],
   "source": [
    "sql = \"\"\"\n",
    "    SELECT name, date, price, qty, maxp, minp \n",
    "    FROM price \n",
    "    WHERE date >= '{}' AND name IN ({}) \n",
    "    ORDER BY name, date\n",
    "\"\"\".format(a_year_ago, portfolio)\n",
    "print(sql)"
   ]
  },
  {
   "cell_type": "code",
   "execution_count": 14,
   "metadata": {},
   "outputs": [
    {
     "data": {
      "text/html": [
       "<div>\n",
       "<style scoped>\n",
       "    .dataframe tbody tr th:only-of-type {\n",
       "        vertical-align: middle;\n",
       "    }\n",
       "\n",
       "    .dataframe tbody tr th {\n",
       "        vertical-align: top;\n",
       "    }\n",
       "\n",
       "    .dataframe thead th {\n",
       "        text-align: right;\n",
       "    }\n",
       "</style>\n",
       "<table border=\"1\" class=\"dataframe\">\n",
       "  <thead>\n",
       "    <tr style=\"text-align: right;\">\n",
       "      <th></th>\n",
       "      <th>name</th>\n",
       "      <th>date</th>\n",
       "      <th>price</th>\n",
       "      <th>qty</th>\n",
       "      <th>maxp</th>\n",
       "      <th>minp</th>\n",
       "    </tr>\n",
       "  </thead>\n",
       "  <tbody>\n",
       "    <tr>\n",
       "      <th>4331</th>\n",
       "      <td>WHART</td>\n",
       "      <td>2025-10-06</td>\n",
       "      <td>9.70</td>\n",
       "      <td>1910524</td>\n",
       "      <td>9.80</td>\n",
       "      <td>9.65</td>\n",
       "    </tr>\n",
       "    <tr>\n",
       "      <th>4332</th>\n",
       "      <td>WHART</td>\n",
       "      <td>2025-10-07</td>\n",
       "      <td>9.75</td>\n",
       "      <td>1335553</td>\n",
       "      <td>9.80</td>\n",
       "      <td>9.70</td>\n",
       "    </tr>\n",
       "    <tr>\n",
       "      <th>4333</th>\n",
       "      <td>WHART</td>\n",
       "      <td>2025-10-08</td>\n",
       "      <td>9.70</td>\n",
       "      <td>1772431</td>\n",
       "      <td>9.75</td>\n",
       "      <td>9.65</td>\n",
       "    </tr>\n",
       "    <tr>\n",
       "      <th>4334</th>\n",
       "      <td>WHART</td>\n",
       "      <td>2025-10-09</td>\n",
       "      <td>9.70</td>\n",
       "      <td>391581</td>\n",
       "      <td>9.75</td>\n",
       "      <td>9.65</td>\n",
       "    </tr>\n",
       "    <tr>\n",
       "      <th>4335</th>\n",
       "      <td>WHART</td>\n",
       "      <td>2025-10-10</td>\n",
       "      <td>9.65</td>\n",
       "      <td>511715</td>\n",
       "      <td>9.75</td>\n",
       "      <td>9.60</td>\n",
       "    </tr>\n",
       "  </tbody>\n",
       "</table>\n",
       "</div>"
      ],
      "text/plain": [
       "       name        date  price      qty  maxp  minp\n",
       "4331  WHART  2025-10-06   9.70  1910524  9.80  9.65\n",
       "4332  WHART  2025-10-07   9.75  1335553  9.80  9.70\n",
       "4333  WHART  2025-10-08   9.70  1772431  9.75  9.65\n",
       "4334  WHART  2025-10-09   9.70   391581  9.75  9.65\n",
       "4335  WHART  2025-10-10   9.65   511715  9.75  9.60"
      ]
     },
     "execution_count": 14,
     "metadata": {},
     "output_type": "execute_result"
    }
   ],
   "source": [
    "df_price = pd.read_sql(sql, const)\n",
    "df_price.tail()"
   ]
  },
  {
   "cell_type": "code",
   "execution_count": 15,
   "metadata": {},
   "outputs": [
    {
     "name": "stdout",
     "output_type": "stream",
     "text": [
      "Output file : C:\\Users\\PC1\\OneDrive\\A5\\Data\\Yearly-Price-by-Name.csv\n",
      "icd_file : C:\\Users\\PC1\\iCloudDrive\\Data\\Yearly-Price-by-Name.csv\n",
      "god_file : C:\\Users\\PC1\\OneDrive\\Imports\\santisoontarinka@gmail.com - Google Drive\\Data\\Yearly-Price-by-Name.csv\n",
      "osd_file : C:\\Users\\PC1\\OneDrive\\Documents\\obsidian-git-sync\\Data\\Yearly-Price-by-Name.csv\n"
     ]
    }
   ],
   "source": [
    "file_name = \"Yearly-Price-by-Name.csv\"\n",
    "output_file = os.path.join(dat_path, file_name)\n",
    "god_file = os.path.join(god_path, file_name)\n",
    "icd_file = os.path.join(icd_path, file_name)\n",
    "osd_file = os.path.join(osd_path, file_name)\n",
    "print(f\"Output file : {output_file}\") \n",
    "print(f\"icd_file : {icd_file}\") \n",
    "print(f\"god_file : {god_file}\") \n",
    "print(f\"osd_file : {osd_file}\") "
   ]
  },
  {
   "cell_type": "code",
   "execution_count": 16,
   "metadata": {},
   "outputs": [],
   "source": [
    "df_price.set_index(\"name\", inplace=True)\n",
    "df_price.to_csv(output_file, header=None)\n",
    "df_price.to_csv(god_file, header=None)\n",
    "df_price.to_csv(icd_file, header=None)\n",
    "df_price.to_csv(osd_file, header=None)"
   ]
  },
  {
   "cell_type": "markdown",
   "metadata": {},
   "source": [
    "### Create monitors from orders"
   ]
  },
  {
   "cell_type": "code",
   "execution_count": 18,
   "metadata": {},
   "outputs": [
    {
     "data": {
      "text/html": [
       "<div>\n",
       "<style scoped>\n",
       "    .dataframe tbody tr th:only-of-type {\n",
       "        vertical-align: middle;\n",
       "    }\n",
       "\n",
       "    .dataframe tbody tr th {\n",
       "        vertical-align: top;\n",
       "    }\n",
       "\n",
       "    .dataframe thead th {\n",
       "        text-align: right;\n",
       "    }\n",
       "</style>\n",
       "<table border=\"1\" class=\"dataframe\">\n",
       "  <thead>\n",
       "    <tr style=\"text-align: right;\">\n",
       "      <th></th>\n",
       "      <th>trade</th>\n",
       "    </tr>\n",
       "    <tr>\n",
       "      <th>name</th>\n",
       "      <th></th>\n",
       "    </tr>\n",
       "  </thead>\n",
       "  <tbody>\n",
       "    <tr>\n",
       "      <th>AIMIRT</th>\n",
       "      <td>B</td>\n",
       "    </tr>\n",
       "    <tr>\n",
       "      <th>CPF</th>\n",
       "      <td>B</td>\n",
       "    </tr>\n",
       "    <tr>\n",
       "      <th>DIF</th>\n",
       "      <td>S</td>\n",
       "    </tr>\n",
       "    <tr>\n",
       "      <th>GVREIT</th>\n",
       "      <td>B</td>\n",
       "    </tr>\n",
       "    <tr>\n",
       "      <th>IVL</th>\n",
       "      <td>B</td>\n",
       "    </tr>\n",
       "    <tr>\n",
       "      <th>JMART</th>\n",
       "      <td>B</td>\n",
       "    </tr>\n",
       "    <tr>\n",
       "      <th>JMT</th>\n",
       "      <td>B</td>\n",
       "    </tr>\n",
       "    <tr>\n",
       "      <th>MCS</th>\n",
       "      <td>S</td>\n",
       "    </tr>\n",
       "    <tr>\n",
       "      <th>NER</th>\n",
       "      <td>B</td>\n",
       "    </tr>\n",
       "    <tr>\n",
       "      <th>ORI</th>\n",
       "      <td>B</td>\n",
       "    </tr>\n",
       "    <tr>\n",
       "      <th>PTG</th>\n",
       "      <td>S</td>\n",
       "    </tr>\n",
       "    <tr>\n",
       "      <th>PTT</th>\n",
       "      <td>S</td>\n",
       "    </tr>\n",
       "    <tr>\n",
       "      <th>RCL</th>\n",
       "      <td>B</td>\n",
       "    </tr>\n",
       "    <tr>\n",
       "      <th>SYNEX</th>\n",
       "      <td>S</td>\n",
       "    </tr>\n",
       "    <tr>\n",
       "      <th>TFFIF</th>\n",
       "      <td>B</td>\n",
       "    </tr>\n",
       "    <tr>\n",
       "      <th>TVO</th>\n",
       "      <td>S</td>\n",
       "    </tr>\n",
       "    <tr>\n",
       "      <th>WHAIR</th>\n",
       "      <td>B</td>\n",
       "    </tr>\n",
       "    <tr>\n",
       "      <th>WHART</th>\n",
       "      <td>S</td>\n",
       "    </tr>\n",
       "  </tbody>\n",
       "</table>\n",
       "</div>"
      ],
      "text/plain": [
       "       trade\n",
       "name        \n",
       "AIMIRT     B\n",
       "CPF        B\n",
       "DIF        S\n",
       "GVREIT     B\n",
       "IVL        B\n",
       "JMART      B\n",
       "JMT        B\n",
       "MCS        S\n",
       "NER        B\n",
       "ORI        B\n",
       "PTG        S\n",
       "PTT        S\n",
       "RCL        B\n",
       "SYNEX      S\n",
       "TFFIF      B\n",
       "TVO        S\n",
       "WHAIR      B\n",
       "WHART      S"
      ]
     },
     "execution_count": 18,
     "metadata": {},
     "output_type": "execute_result"
    }
   ],
   "source": [
    "sql = \"\"\"\n",
    "    SELECT name,trade \n",
    "    FROM orders \n",
    "    WHERE name IN ({})\n",
    "    ORDER BY name\n",
    "\"\"\".format(portfolio)\n",
    "df_orders = pd.read_sql(sql, conlite)\n",
    "df_orders.set_index(['name'],inplace=True)\n",
    "df_orders"
   ]
  },
  {
   "cell_type": "code",
   "execution_count": 19,
   "metadata": {},
   "outputs": [],
   "source": [
    "file_name = \"monitors.csv\"\n",
    "output_file = os.path.join(dat_path, file_name)\n",
    "god_file = os.path.join(god_path, file_name)\n",
    "icd_file = os.path.join(icd_path, file_name)\n",
    "osd_file = os.path.join(osd_path, file_name)"
   ]
  },
  {
   "cell_type": "code",
   "execution_count": 20,
   "metadata": {},
   "outputs": [
    {
     "name": "stdout",
     "output_type": "stream",
     "text": [
      "Output file : C:\\Users\\PC1\\OneDrive\\A5\\Data\\monitors.csv\n",
      "icd_file : C:\\Users\\PC1\\iCloudDrive\\Data\\monitors.csv\n",
      "god_file : C:\\Users\\PC1\\OneDrive\\Imports\\santisoontarinka@gmail.com - Google Drive\\Data\\monitors.csv\n",
      "osd_file : C:\\Users\\PC1\\OneDrive\\Documents\\obsidian-git-sync\\Data\\monitors.csv\n"
     ]
    }
   ],
   "source": [
    "print(f\"Output file : {output_file}\") \n",
    "print(f\"icd_file : {icd_file}\") \n",
    "print(f\"god_file : {god_file}\") \n",
    "print(f\"osd_file : {osd_file}\") "
   ]
  },
  {
   "cell_type": "code",
   "execution_count": 21,
   "metadata": {},
   "outputs": [],
   "source": [
    "df_orders.to_csv(output_file, header=None)\n",
    "df_orders.to_csv(god_file)\n",
    "df_orders.to_csv(icd_file)\n",
    "df_orders.to_csv(osd_file)"
   ]
  },
  {
   "cell_type": "code",
   "execution_count": 22,
   "metadata": {},
   "outputs": [
    {
     "data": {
      "text/html": [
       "<div>\n",
       "<style scoped>\n",
       "    .dataframe tbody tr th:only-of-type {\n",
       "        vertical-align: middle;\n",
       "    }\n",
       "\n",
       "    .dataframe tbody tr th {\n",
       "        vertical-align: top;\n",
       "    }\n",
       "\n",
       "    .dataframe thead th {\n",
       "        text-align: right;\n",
       "    }\n",
       "</style>\n",
       "<table border=\"1\" class=\"dataframe\">\n",
       "  <thead>\n",
       "    <tr style=\"text-align: right;\">\n",
       "      <th></th>\n",
       "      <th>trade</th>\n",
       "      <th>items</th>\n",
       "    </tr>\n",
       "  </thead>\n",
       "  <tbody>\n",
       "    <tr>\n",
       "      <th>0</th>\n",
       "      <td>B</td>\n",
       "      <td>11</td>\n",
       "    </tr>\n",
       "    <tr>\n",
       "      <th>1</th>\n",
       "      <td>S</td>\n",
       "      <td>7</td>\n",
       "    </tr>\n",
       "  </tbody>\n",
       "</table>\n",
       "</div>"
      ],
      "text/plain": [
       "  trade  items\n",
       "0     B     11\n",
       "1     S      7"
      ]
     },
     "execution_count": 22,
     "metadata": {},
     "output_type": "execute_result"
    }
   ],
   "source": [
    "sql = \"\"\"\n",
    "SELECT trade, COUNT(*) AS items \n",
    "FROM orders\n",
    "GROUP BY trade\n",
    "ORDER BY trade\n",
    "\"\"\"\n",
    "grp = pd.read_sql(sql, conlite)\n",
    "grp"
   ]
  },
  {
   "cell_type": "markdown",
   "metadata": {},
   "source": [
    "### For new orders that never have XXX.html & XXX.CSV"
   ]
  },
  {
   "cell_type": "code",
   "execution_count": 24,
   "metadata": {},
   "outputs": [
    {
     "name": "stdout",
     "output_type": "stream",
     "text": [
      "C:\\Users\\PC1\\OneDrive\\A5\\Data\\price-uploads.csv\n"
     ]
    }
   ],
   "source": [
    "file_name = 'price-uploads.csv'\n",
    "input_file = os.path.join(dat_path, file_name)\n",
    "print(input_file)"
   ]
  },
  {
   "cell_type": "code",
   "execution_count": 25,
   "metadata": {},
   "outputs": [
    {
     "data": {
      "text/plain": [
       "(152, 1)"
      ]
     },
     "execution_count": 25,
     "metadata": {},
     "output_type": "execute_result"
    }
   ],
   "source": [
    "uploads = pd.read_csv(input_file)\n",
    "uploads.sort_values(['name'],ascending=[True]).shape"
   ]
  },
  {
   "cell_type": "code",
   "execution_count": 26,
   "metadata": {},
   "outputs": [
    {
     "data": {
      "text/plain": [
       "(152, 3)"
      ]
     },
     "execution_count": 26,
     "metadata": {},
     "output_type": "execute_result"
    }
   ],
   "source": [
    "df_merge = pd.merge(df_orders, uploads, on='name', how='outer', indicator=True)\n",
    "df_merge.sort_values(['name'],ascending=[True]).shape"
   ]
  },
  {
   "cell_type": "code",
   "execution_count": 27,
   "metadata": {},
   "outputs": [
    {
     "data": {
      "text/html": [
       "<div>\n",
       "<style scoped>\n",
       "    .dataframe tbody tr th:only-of-type {\n",
       "        vertical-align: middle;\n",
       "    }\n",
       "\n",
       "    .dataframe tbody tr th {\n",
       "        vertical-align: top;\n",
       "    }\n",
       "\n",
       "    .dataframe thead th {\n",
       "        text-align: right;\n",
       "    }\n",
       "</style>\n",
       "<table border=\"1\" class=\"dataframe\">\n",
       "  <thead>\n",
       "    <tr style=\"text-align: right;\">\n",
       "      <th></th>\n",
       "      <th>name</th>\n",
       "      <th>trade</th>\n",
       "      <th>_merge</th>\n",
       "    </tr>\n",
       "  </thead>\n",
       "  <tbody>\n",
       "  </tbody>\n",
       "</table>\n",
       "</div>"
      ],
      "text/plain": [
       "Empty DataFrame\n",
       "Columns: [name, trade, _merge]\n",
       "Index: []"
      ]
     },
     "execution_count": 27,
     "metadata": {},
     "output_type": "execute_result"
    }
   ],
   "source": [
    "new_prices = df_merge['_merge'] == 'left_only'\n",
    "df_merge[new_prices]"
   ]
  },
  {
   "cell_type": "code",
   "execution_count": 28,
   "metadata": {},
   "outputs": [
    {
     "data": {
      "text/plain": [
       "(134, 3)"
      ]
     },
     "execution_count": 28,
     "metadata": {},
     "output_type": "execute_result"
    }
   ],
   "source": [
    "new_prices = df_merge['_merge'] == 'right_only'\n",
    "df_merge[new_prices].shape"
   ]
  },
  {
   "cell_type": "code",
   "execution_count": 29,
   "metadata": {},
   "outputs": [
    {
     "data": {
      "text/plain": [
       "(29, 2)"
      ]
     },
     "execution_count": 29,
     "metadata": {},
     "output_type": "execute_result"
    }
   ],
   "source": [
    "sql = \"\"\"\n",
    "SELECT name, status, market\n",
    "FROM stocks \n",
    "ORDER BY status, name\n",
    "\"\"\"\n",
    "lite_stocks = pd.read_sql(sql, conlite)\n",
    "lite_stocks.set_index([\"name\"], inplace=True)\n",
    "lite_stocks.shape"
   ]
  },
  {
   "cell_type": "code",
   "execution_count": 30,
   "metadata": {},
   "outputs": [],
   "source": [
    "file_name = \"stocks-all.csv\"\n",
    "output_file = os.path.join(dat_path, file_name)\n",
    "god_file = os.path.join(god_path, file_name)\n",
    "icd_file = os.path.join(icd_path, file_name)\n",
    "osd_file = os.path.join(osd_path, file_name)"
   ]
  },
  {
   "cell_type": "code",
   "execution_count": 31,
   "metadata": {},
   "outputs": [
    {
     "name": "stdout",
     "output_type": "stream",
     "text": [
      "Output file : C:\\Users\\PC1\\OneDrive\\A5\\Data\\stocks-all.csv\n",
      "icd_file : C:\\Users\\PC1\\iCloudDrive\\Data\\stocks-all.csv\n",
      "god_file : C:\\Users\\PC1\\OneDrive\\Imports\\santisoontarinka@gmail.com - Google Drive\\Data\\stocks-all.csv\n",
      "osd_file : C:\\Users\\PC1\\OneDrive\\Documents\\obsidian-git-sync\\Data\\stocks-all.csv\n"
     ]
    }
   ],
   "source": [
    "print(f\"Output file : {output_file}\") \n",
    "print(f\"icd_file : {icd_file}\") \n",
    "print(f\"god_file : {god_file}\") \n",
    "print(f\"osd_file : {osd_file}\") "
   ]
  },
  {
   "cell_type": "code",
   "execution_count": 32,
   "metadata": {},
   "outputs": [],
   "source": [
    "lite_stocks.to_csv(output_file, header=None)\n",
    "lite_stocks.to_csv(god_file)\n",
    "lite_stocks.to_csv(icd_file)\n",
    "lite_stocks.to_csv(osd_file)"
   ]
  },
  {
   "cell_type": "code",
   "execution_count": 33,
   "metadata": {
    "scrolled": true
   },
   "outputs": [
    {
     "data": {
      "text/html": [
       "<div>\n",
       "<style scoped>\n",
       "    .dataframe tbody tr th:only-of-type {\n",
       "        vertical-align: middle;\n",
       "    }\n",
       "\n",
       "    .dataframe tbody tr th {\n",
       "        vertical-align: top;\n",
       "    }\n",
       "\n",
       "    .dataframe thead th {\n",
       "        text-align: right;\n",
       "    }\n",
       "</style>\n",
       "<table border=\"1\" class=\"dataframe\">\n",
       "  <thead>\n",
       "    <tr style=\"text-align: right;\">\n",
       "      <th></th>\n",
       "      <th>status</th>\n",
       "    </tr>\n",
       "    <tr>\n",
       "      <th>name</th>\n",
       "      <th></th>\n",
       "    </tr>\n",
       "  </thead>\n",
       "  <tbody>\n",
       "    <tr>\n",
       "      <th>AIMIRT</th>\n",
       "      <td>B</td>\n",
       "    </tr>\n",
       "    <tr>\n",
       "      <th>CPF</th>\n",
       "      <td>B</td>\n",
       "    </tr>\n",
       "    <tr>\n",
       "      <th>GVREIT</th>\n",
       "      <td>B</td>\n",
       "    </tr>\n",
       "    <tr>\n",
       "      <th>IVL</th>\n",
       "      <td>B</td>\n",
       "    </tr>\n",
       "    <tr>\n",
       "      <th>JMART</th>\n",
       "      <td>B</td>\n",
       "    </tr>\n",
       "    <tr>\n",
       "      <th>JMT</th>\n",
       "      <td>B</td>\n",
       "    </tr>\n",
       "    <tr>\n",
       "      <th>NER</th>\n",
       "      <td>B</td>\n",
       "    </tr>\n",
       "    <tr>\n",
       "      <th>ORI</th>\n",
       "      <td>B</td>\n",
       "    </tr>\n",
       "    <tr>\n",
       "      <th>RCL</th>\n",
       "      <td>B</td>\n",
       "    </tr>\n",
       "    <tr>\n",
       "      <th>TFFIF</th>\n",
       "      <td>B</td>\n",
       "    </tr>\n",
       "    <tr>\n",
       "      <th>WHAIR</th>\n",
       "      <td>B</td>\n",
       "    </tr>\n",
       "  </tbody>\n",
       "</table>\n",
       "</div>"
      ],
      "text/plain": [
       "       status\n",
       "name         \n",
       "AIMIRT      B\n",
       "CPF         B\n",
       "GVREIT      B\n",
       "IVL         B\n",
       "JMART       B\n",
       "JMT         B\n",
       "NER         B\n",
       "ORI         B\n",
       "RCL         B\n",
       "TFFIF       B\n",
       "WHAIR       B"
      ]
     },
     "execution_count": 33,
     "metadata": {},
     "output_type": "execute_result"
    }
   ],
   "source": [
    "sql = \"\"\"\n",
    "SELECT name, status \n",
    "FROM stocks \n",
    "WHERE status IN (\"B\",\"O\")\n",
    "ORDER BY name\n",
    "\"\"\"\n",
    "buy_candidates = pd.read_sql(sql, conlite)\n",
    "buy_candidates.set_index([\"name\"], inplace=True)\n",
    "buy_candidates"
   ]
  },
  {
   "cell_type": "code",
   "execution_count": 34,
   "metadata": {},
   "outputs": [
    {
     "data": {
      "text/plain": [
       "11"
      ]
     },
     "execution_count": 34,
     "metadata": {},
     "output_type": "execute_result"
    }
   ],
   "source": [
    "buy_candidates.shape[0]"
   ]
  },
  {
   "cell_type": "code",
   "execution_count": 35,
   "metadata": {},
   "outputs": [
    {
     "data": {
      "text/html": [
       "<div>\n",
       "<style scoped>\n",
       "    .dataframe tbody tr th:only-of-type {\n",
       "        vertical-align: middle;\n",
       "    }\n",
       "\n",
       "    .dataframe tbody tr th {\n",
       "        vertical-align: top;\n",
       "    }\n",
       "\n",
       "    .dataframe thead th {\n",
       "        text-align: right;\n",
       "    }\n",
       "</style>\n",
       "<table border=\"1\" class=\"dataframe\">\n",
       "  <thead>\n",
       "    <tr style=\"text-align: right;\">\n",
       "      <th></th>\n",
       "      <th>status</th>\n",
       "    </tr>\n",
       "    <tr>\n",
       "      <th>name</th>\n",
       "      <th></th>\n",
       "    </tr>\n",
       "  </thead>\n",
       "  <tbody>\n",
       "    <tr>\n",
       "      <th>DIF</th>\n",
       "      <td>S</td>\n",
       "    </tr>\n",
       "    <tr>\n",
       "      <th>MCS</th>\n",
       "      <td>S</td>\n",
       "    </tr>\n",
       "    <tr>\n",
       "      <th>PTG</th>\n",
       "      <td>S</td>\n",
       "    </tr>\n",
       "    <tr>\n",
       "      <th>PTT</th>\n",
       "      <td>S</td>\n",
       "    </tr>\n",
       "    <tr>\n",
       "      <th>SYNEX</th>\n",
       "      <td>S</td>\n",
       "    </tr>\n",
       "    <tr>\n",
       "      <th>TVO</th>\n",
       "      <td>S</td>\n",
       "    </tr>\n",
       "    <tr>\n",
       "      <th>WHART</th>\n",
       "      <td>S</td>\n",
       "    </tr>\n",
       "  </tbody>\n",
       "</table>\n",
       "</div>"
      ],
      "text/plain": [
       "      status\n",
       "name        \n",
       "DIF        S\n",
       "MCS        S\n",
       "PTG        S\n",
       "PTT        S\n",
       "SYNEX      S\n",
       "TVO        S\n",
       "WHART      S"
      ]
     },
     "execution_count": 35,
     "metadata": {},
     "output_type": "execute_result"
    }
   ],
   "source": [
    "sql = \"\"\"\n",
    "SELECT name, status \n",
    "FROM stocks \n",
    "WHERE status IN (\"I\",\"S\")\n",
    "ORDER BY name\n",
    "\"\"\"\n",
    "\n",
    "sell_candidates = pd.read_sql(sql, conlite)\n",
    "sell_candidates.set_index([\"name\"], inplace=True)\n",
    "sell_candidates"
   ]
  },
  {
   "cell_type": "code",
   "execution_count": 36,
   "metadata": {},
   "outputs": [
    {
     "data": {
      "text/plain": [
       "7"
      ]
     },
     "execution_count": 36,
     "metadata": {},
     "output_type": "execute_result"
    }
   ],
   "source": [
    "sell_candidates.shape[0]"
   ]
  },
  {
   "cell_type": "code",
   "execution_count": 37,
   "metadata": {},
   "outputs": [],
   "source": [
    "conlite.close()\n",
    "const.close()"
   ]
  },
  {
   "cell_type": "code",
   "execution_count": 38,
   "metadata": {},
   "outputs": [
    {
     "name": "stdout",
     "output_type": "stream",
     "text": [
      "2025-10-13 20:49:30\n"
     ]
    }
   ],
   "source": [
    "current_time = datetime.now()\n",
    "formatted_time = current_time.strftime(\"%Y-%m-%d %H:%M:%S\")\n",
    "print(formatted_time)"
   ]
  },
  {
   "cell_type": "code",
   "execution_count": null,
   "metadata": {},
   "outputs": [],
   "source": []
  }
 ],
 "metadata": {
  "anaconda-cloud": {},
  "kernelspec": {
   "display_name": "Python 3 (ipykernel)",
   "language": "python",
   "name": "python3"
  },
  "language_info": {
   "codemirror_mode": {
    "name": "ipython",
    "version": 3
   },
   "file_extension": ".py",
   "mimetype": "text/x-python",
   "name": "python",
   "nbconvert_exporter": "python",
   "pygments_lexer": "ipython3",
   "version": "3.12.3"
  }
 },
 "nbformat": 4,
 "nbformat_minor": 4
}
