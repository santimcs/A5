{
 "cells": [
  {
   "cell_type": "markdown",
   "id": "d8d46336-4a0f-47ab-a692-9048e21a675a",
   "metadata": {},
   "source": [
    "### CD5\n",
    "### ruby ruby/crt-sales.rb\n",
    "### cd C:\\Ruby\\Port_Lite\n",
    "### rails runner db/crt_sales.rb"
   ]
  },
  {
   "cell_type": "markdown",
   "id": "5afd430b-d8af-4272-8969-a8d6da3f54f4",
   "metadata": {},
   "source": [
    "### Copy replace consensus.csv from A5/Data to Ruby/PortPg/db\n",
    "### cd C:\\Ruby\\PortPg\n",
    "### rails runner db/crt_consensus.rb"
   ]
  },
  {
   "cell_type": "code",
   "execution_count": null,
   "id": "68fbbf18-4dd7-424c-984d-a27cbbbc8fdc",
   "metadata": {},
   "outputs": [],
   "source": []
  }
 ],
 "metadata": {
  "kernelspec": {
   "display_name": "Python 3 (ipykernel)",
   "language": "python",
   "name": "python3"
  },
  "language_info": {
   "codemirror_mode": {
    "name": "ipython",
    "version": 3
   },
   "file_extension": ".py",
   "mimetype": "text/x-python",
   "name": "python",
   "nbconvert_exporter": "python",
   "pygments_lexer": "ipython3",
   "version": "3.12.3"
  }
 },
 "nbformat": 4,
 "nbformat_minor": 5
}
