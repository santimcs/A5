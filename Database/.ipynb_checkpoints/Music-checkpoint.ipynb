{
 "cells": [
  {
   "cell_type": "code",
   "execution_count": 1,
   "metadata": {},
   "outputs": [],
   "source": [
    "import pandas as pd\n",
    "from sqlalchemy import create_engine\n",
    "    \n",
    "engine = create_engine('mysql+pymysql://root@localhost:3306/music_development')\n",
    "conmy = engine.connect()\n",
    "    \n",
    "data_path = '../data/'"
   ]
  },
  {
   "cell_type": "code",
   "execution_count": 2,
   "metadata": {},
   "outputs": [
    {
     "data": {
      "text/html": [
       "<div>\n",
       "<style scoped>\n",
       "    .dataframe tbody tr th:only-of-type {\n",
       "        vertical-align: middle;\n",
       "    }\n",
       "\n",
       "    .dataframe tbody tr th {\n",
       "        vertical-align: top;\n",
       "    }\n",
       "\n",
       "    .dataframe thead th {\n",
       "        text-align: right;\n",
       "    }\n",
       "</style>\n",
       "<table border=\"1\" class=\"dataframe\">\n",
       "  <thead>\n",
       "    <tr style=\"text-align: right;\">\n",
       "      <th></th>\n",
       "      <th>id</th>\n",
       "      <th>rank</th>\n",
       "      <th>name</th>\n",
       "      <th>artist_id</th>\n",
       "      <th>length</th>\n",
       "      <th>location</th>\n",
       "      <th>genre_id</th>\n",
       "      <th>youtube_code</th>\n",
       "      <th>released_date</th>\n",
       "      <th>rating</th>\n",
       "      <th>website</th>\n",
       "    </tr>\n",
       "  </thead>\n",
       "  <tbody>\n",
       "    <tr>\n",
       "      <th>0</th>\n",
       "      <td>350</td>\n",
       "      <td>249</td>\n",
       "      <td>The Night They Drove Old Dixie Down</td>\n",
       "      <td>45</td>\n",
       "      <td>210</td>\n",
       "      <td>The_Night_They_Drove_Old_Dixie_Down.mp3</td>\n",
       "      <td>26</td>\n",
       "      <td>v3JaosE-gZE</td>\n",
       "      <td>1969-09-06</td>\n",
       "      <td>1</td>\n",
       "      <td>0</td>\n",
       "    </tr>\n",
       "  </tbody>\n",
       "</table>\n",
       "</div>"
      ],
      "text/plain": [
       "    id  rank                                 name  artist_id  length  \\\n",
       "0  350   249  The Night They Drove Old Dixie Down         45     210   \n",
       "\n",
       "                                  location  genre_id youtube_code  \\\n",
       "0  The_Night_They_Drove_Old_Dixie_Down.mp3        26  v3JaosE-gZE   \n",
       "\n",
       "  released_date  rating  website  \n",
       "0    1969-09-06       1        0  "
      ]
     },
     "execution_count": 2,
     "metadata": {},
     "output_type": "execute_result"
    }
   ],
   "source": [
    "sql = '''\n",
    "SELECT * FROM songs\n",
    "WHERE id = 350\n",
    "ORDER BY rank \n",
    "'''\n",
    "songs = pd.read_sql(sql, conmy)\n",
    "songs"
   ]
  },
  {
   "cell_type": "code",
   "execution_count": null,
   "metadata": {},
   "outputs": [],
   "source": [
    "sql = 'SELECT * FROM lyrics ORDER BY created_at DESC LIMIT 1 '\n",
    "lyrics = pd.read_sql(sql, conmy)\n",
    "lyrics"
   ]
  },
  {
   "cell_type": "code",
   "execution_count": null,
   "metadata": {},
   "outputs": [],
   "source": [
    "sql = 'SELECT * FROM artists LIMIT 1'\n",
    "artists = pd.read_sql(sql, conmy)\n",
    "artists.dtypes"
   ]
  },
  {
   "cell_type": "code",
   "execution_count": null,
   "metadata": {},
   "outputs": [],
   "source": [
    "sql = '''\n",
    "SELECT rank, name, artist_id, released_date FROM songs\n",
    "'''\n",
    "songs = pd.read_sql(sql, conmy)\n",
    "songs.shape"
   ]
  },
  {
   "cell_type": "code",
   "execution_count": null,
   "metadata": {},
   "outputs": [],
   "source": [
    "sql = '''\n",
    "SELECT id, first_name, last_name\n",
    "FROM artists\n",
    "ORDER BY first_name\n",
    "'''\n",
    "artists = pd.read_sql(sql, conmy)\n",
    "artists.shape"
   ]
  },
  {
   "cell_type": "code",
   "execution_count": null,
   "metadata": {},
   "outputs": [],
   "source": [
    "dfm = pd.merge(songs, artists, how='inner', left_on='artist_id',right_on='id')\n",
    "dfm.dtypes"
   ]
  },
  {
   "cell_type": "code",
   "execution_count": null,
   "metadata": {
    "collapsed": true
   },
   "outputs": [],
   "source": [
    "dfm[\"full_name\"] = dfm[\"first_name\"] + ' ' + dfm[\"last_name\"]"
   ]
  },
  {
   "cell_type": "code",
   "execution_count": null,
   "metadata": {},
   "outputs": [],
   "source": [
    "columns = ['id','artist_id','first_name','last_name']\n",
    "dfm = dfm.drop(columns, axis=1)\n",
    "dfm"
   ]
  },
  {
   "cell_type": "code",
   "execution_count": null,
   "metadata": {},
   "outputs": [],
   "source": [
    "file_name   = 'songs.csv'\n",
    "output_file = data_path + file_name\n",
    "dfm = dfm.set_index(['rank'])\n",
    "dfm.to_csv(output_file)"
   ]
  },
  {
   "cell_type": "code",
   "execution_count": null,
   "metadata": {},
   "outputs": [],
   "source": [
    "columns = ['id','artist_id','first_name','last_name']\n",
    "dfm.drop(columns,axis=1,inplace=True)\n",
    "dfm"
   ]
  },
  {
   "cell_type": "code",
   "execution_count": null,
   "metadata": {},
   "outputs": [],
   "source": [
    "grouped = dfm.groupby(['full_name'])\n",
    "grouped"
   ]
  },
  {
   "cell_type": "code",
   "execution_count": null,
   "metadata": {},
   "outputs": [],
   "source": [
    "functions = ['count']\n",
    "result = grouped['full_name'].agg(functions)\n",
    "result.sort_values(by=['count'],ascending=False)"
   ]
  },
  {
   "cell_type": "code",
   "execution_count": null,
   "metadata": {},
   "outputs": [],
   "source": [
    "result"
   ]
  },
  {
   "cell_type": "code",
   "execution_count": null,
   "metadata": {},
   "outputs": [],
   "source": [
    "dfm[dfm['full_name'] == 'Queen'].sort_values(by=['rank'])"
   ]
  },
  {
   "cell_type": "code",
   "execution_count": null,
   "metadata": {},
   "outputs": [],
   "source": [
    "dfm.full_name"
   ]
  },
  {
   "cell_type": "code",
   "execution_count": null,
   "metadata": {},
   "outputs": [],
   "source": [
    "sql = '''\n",
    "SELECT rank, name, artist_id FROM songs \n",
    "JOIN lyrics ON lyrics.song_id = songs.id\n",
    "WHERE website = true AND location IS NOT NULL\n",
    "'''\n",
    "songs = pd.read_sql(sql, conmy)\n",
    "songs.shape"
   ]
  },
  {
   "cell_type": "code",
   "execution_count": null,
   "metadata": {},
   "outputs": [],
   "source": [
    "sql = '''\n",
    "SELECT id, first_name, last_name, band \n",
    "FROM artists\n",
    "ORDER BY first_name\n",
    "'''\n",
    "artists = pd.read_sql(sql, conmy)\n",
    "artists.shape"
   ]
  },
  {
   "cell_type": "code",
   "execution_count": null,
   "metadata": {},
   "outputs": [],
   "source": [
    "dfm = pd.merge(songs, artists, how='inner', left_on='artist_id',right_on='id')\n",
    "dfm"
   ]
  },
  {
   "cell_type": "code",
   "execution_count": null,
   "metadata": {},
   "outputs": [],
   "source": [
    "file_name    = 'music.csv'\n",
    "output_file = data_path + file_name\n",
    "df_out = dfm.set_index(['rank'])\n",
    "df_out.to_csv(output_file, header = None)"
   ]
  },
  {
   "cell_type": "code",
   "execution_count": null,
   "metadata": {},
   "outputs": [],
   "source": [
    "sql = '''\n",
    "SELECT * \n",
    "FROM lyrics\n",
    "WHERE song_id NOT IN\n",
    "(SELECT id FROM songs)\n",
    "'''\n",
    "lyric = pd.read_sql(sql, conmy)\n",
    "lyric"
   ]
  },
  {
   "cell_type": "code",
   "execution_count": null,
   "metadata": {},
   "outputs": [],
   "source": [
    "sql = '''\n",
    "SELECT * \n",
    "FROM songs\n",
    "WHERE rank = 434\n",
    "'''\n",
    "song = pd.read_sql(sql, conmy)\n",
    "song"
   ]
  },
  {
   "cell_type": "code",
   "execution_count": null,
   "metadata": {},
   "outputs": [],
   "source": [
    "sql = '''\n",
    "SELECT * \n",
    "FROM artists\n",
    "WHERE first_name = 'Deep Purple'\n",
    "'''\n",
    "artist = pd.read_sql(sql, conmy)\n",
    "artist"
   ]
  },
  {
   "cell_type": "code",
   "execution_count": null,
   "metadata": {},
   "outputs": [],
   "source": [
    "sql = '''\n",
    "UPDATE songs\n",
    "SET artist_id = 123\n",
    "WHERE rank = 434\n",
    "'''\n",
    "rp = conmy.execute(sql)\n",
    "rp.rowcount"
   ]
  },
  {
   "cell_type": "code",
   "execution_count": null,
   "metadata": {},
   "outputs": [],
   "source": [
    "sql = '''\n",
    "UPDATE lyrics\n",
    "SET song_id = 413\n",
    "WHERE id  = 216\n",
    "'''\n",
    "rp = conmy.execute(sql)\n",
    "rp.rowcount"
   ]
  },
  {
   "cell_type": "code",
   "execution_count": null,
   "metadata": {},
   "outputs": [],
   "source": [
    "sql = '''\n",
    "DELETE FROM songs WHERE rank = 501\n",
    "'''\n",
    "rp = conmy.execute(sql)\n",
    "rp.rowcount"
   ]
  },
  {
   "cell_type": "code",
   "execution_count": null,
   "metadata": {},
   "outputs": [],
   "source": [
    "sql = '''\n",
    "UPDATE songs\n",
    "SET website = false\n",
    "WHERE website = true\n",
    "'''\n",
    "rp = conmy.execute(sql)\n",
    "rp.rowcount"
   ]
  },
  {
   "cell_type": "markdown",
   "metadata": {},
   "source": [
    "### New music database Melody"
   ]
  },
  {
   "cell_type": "code",
   "execution_count": 4,
   "metadata": {},
   "outputs": [
    {
     "data": {
      "text/plain": [
       "(5800, 4)"
      ]
     },
     "execution_count": 4,
     "metadata": {},
     "output_type": "execute_result"
    }
   ],
   "source": [
    "col_names   = ['year','rank','title','artist_name']\n",
    "songs = pd.read_csv('c:\\\\aab\\\\data\\\\Billboard.csv', sep=';', header=None, index_col=None, names=col_names)\n",
    "songs.shape    "
   ]
  },
  {
   "cell_type": "code",
   "execution_count": 5,
   "metadata": {},
   "outputs": [
    {
     "data": {
      "text/html": [
       "<div>\n",
       "<table border=\"1\" class=\"dataframe\">\n",
       "  <thead>\n",
       "    <tr style=\"text-align: right;\">\n",
       "      <th></th>\n",
       "      <th>year</th>\n",
       "      <th>rank</th>\n",
       "      <th>title</th>\n",
       "      <th>artist_name</th>\n",
       "    </tr>\n",
       "  </thead>\n",
       "  <tbody>\n",
       "    <tr>\n",
       "      <th>0</th>\n",
       "      <td>1960</td>\n",
       "      <td>1</td>\n",
       "      <td>Theme from A Summer Place</td>\n",
       "      <td>Percy Faith</td>\n",
       "    </tr>\n",
       "    <tr>\n",
       "      <th>1</th>\n",
       "      <td>1960</td>\n",
       "      <td>2</td>\n",
       "      <td>He'll Have to Go</td>\n",
       "      <td>Jim Reeves</td>\n",
       "    </tr>\n",
       "    <tr>\n",
       "      <th>2</th>\n",
       "      <td>1960</td>\n",
       "      <td>3</td>\n",
       "      <td>Cathy's Clown</td>\n",
       "      <td>The Everly Brothers</td>\n",
       "    </tr>\n",
       "    <tr>\n",
       "      <th>3</th>\n",
       "      <td>1960</td>\n",
       "      <td>4</td>\n",
       "      <td>Running Bear</td>\n",
       "      <td>Johnny Preston</td>\n",
       "    </tr>\n",
       "    <tr>\n",
       "      <th>4</th>\n",
       "      <td>1960</td>\n",
       "      <td>5</td>\n",
       "      <td>Teen Angel</td>\n",
       "      <td>Mark Dinning</td>\n",
       "    </tr>\n",
       "  </tbody>\n",
       "</table>\n",
       "</div>"
      ],
      "text/plain": [
       "   year  rank                      title          artist_name\n",
       "0  1960     1  Theme from A Summer Place          Percy Faith\n",
       "1  1960     2           He'll Have to Go           Jim Reeves\n",
       "2  1960     3              Cathy's Clown  The Everly Brothers\n",
       "3  1960     4               Running Bear       Johnny Preston\n",
       "4  1960     5                 Teen Angel         Mark Dinning"
      ]
     },
     "execution_count": 5,
     "metadata": {},
     "output_type": "execute_result"
    }
   ],
   "source": [
    "songs.head()"
   ]
  },
  {
   "cell_type": "code",
   "execution_count": 6,
   "metadata": {},
   "outputs": [
    {
     "data": {
      "text/plain": [
       "<pandas.core.groupby.DataFrameGroupBy object at 0x000000000BB40E10>"
      ]
     },
     "execution_count": 6,
     "metadata": {},
     "output_type": "execute_result"
    }
   ],
   "source": [
    "grouped = songs.groupby(['artist_name'])\n",
    "grouped"
   ]
  },
  {
   "cell_type": "code",
   "execution_count": 7,
   "metadata": {},
   "outputs": [],
   "source": [
    "functions = ['count']\n",
    "result = grouped['artist_name'].agg(functions)"
   ]
  },
  {
   "cell_type": "code",
   "execution_count": 8,
   "metadata": {},
   "outputs": [
    {
     "data": {
      "text/html": [
       "<div>\n",
       "<table border=\"1\" class=\"dataframe\">\n",
       "  <thead>\n",
       "    <tr style=\"text-align: right;\">\n",
       "      <th></th>\n",
       "      <th>count</th>\n",
       "    </tr>\n",
       "    <tr>\n",
       "      <th>artist_name</th>\n",
       "      <th></th>\n",
       "    </tr>\n",
       "  </thead>\n",
       "  <tbody>\n",
       "    <tr>\n",
       "      <th>Madonna</th>\n",
       "      <td>35</td>\n",
       "    </tr>\n",
       "    <tr>\n",
       "      <th>Elton John</th>\n",
       "      <td>26</td>\n",
       "    </tr>\n",
       "    <tr>\n",
       "      <th>The Beatles</th>\n",
       "      <td>26</td>\n",
       "    </tr>\n",
       "    <tr>\n",
       "      <th>Janet Jackson</th>\n",
       "      <td>24</td>\n",
       "    </tr>\n",
       "    <tr>\n",
       "      <th>Mariah Carey</th>\n",
       "      <td>24</td>\n",
       "    </tr>\n",
       "    <tr>\n",
       "      <th>Michael Jackson</th>\n",
       "      <td>22</td>\n",
       "    </tr>\n",
       "    <tr>\n",
       "      <th>Stevie Wonder</th>\n",
       "      <td>22</td>\n",
       "    </tr>\n",
       "    <tr>\n",
       "      <th>Taylor Swift</th>\n",
       "      <td>21</td>\n",
       "    </tr>\n",
       "    <tr>\n",
       "      <th>Rihanna</th>\n",
       "      <td>21</td>\n",
       "    </tr>\n",
       "    <tr>\n",
       "      <th>Pink</th>\n",
       "      <td>19</td>\n",
       "    </tr>\n",
       "    <tr>\n",
       "      <th>Whitney Houston</th>\n",
       "      <td>19</td>\n",
       "    </tr>\n",
       "    <tr>\n",
       "      <th>Kelly Clarkson</th>\n",
       "      <td>17</td>\n",
       "    </tr>\n",
       "    <tr>\n",
       "      <th>Hall &amp; Oates</th>\n",
       "      <td>17</td>\n",
       "    </tr>\n",
       "    <tr>\n",
       "      <th>The Black Eyed Peas</th>\n",
       "      <td>16</td>\n",
       "    </tr>\n",
       "    <tr>\n",
       "      <th>Britney Spears</th>\n",
       "      <td>16</td>\n",
       "    </tr>\n",
       "    <tr>\n",
       "      <th>Elvis Presley</th>\n",
       "      <td>15</td>\n",
       "    </tr>\n",
       "    <tr>\n",
       "      <th>Chicago</th>\n",
       "      <td>15</td>\n",
       "    </tr>\n",
       "    <tr>\n",
       "      <th>Rod Stewart</th>\n",
       "      <td>14</td>\n",
       "    </tr>\n",
       "    <tr>\n",
       "      <th>Aretha Franklin</th>\n",
       "      <td>14</td>\n",
       "    </tr>\n",
       "    <tr>\n",
       "      <th>Usher</th>\n",
       "      <td>14</td>\n",
       "    </tr>\n",
       "    <tr>\n",
       "      <th>Katy Perry</th>\n",
       "      <td>14</td>\n",
       "    </tr>\n",
       "    <tr>\n",
       "      <th>The Rolling Stones</th>\n",
       "      <td>13</td>\n",
       "    </tr>\n",
       "    <tr>\n",
       "      <th>Beyoncé</th>\n",
       "      <td>13</td>\n",
       "    </tr>\n",
       "    <tr>\n",
       "      <th>Boyz II Men</th>\n",
       "      <td>13</td>\n",
       "    </tr>\n",
       "    <tr>\n",
       "      <th>The Temptations</th>\n",
       "      <td>13</td>\n",
       "    </tr>\n",
       "    <tr>\n",
       "      <th>Maroon 5</th>\n",
       "      <td>13</td>\n",
       "    </tr>\n",
       "    <tr>\n",
       "      <th>Phil Collins</th>\n",
       "      <td>13</td>\n",
       "    </tr>\n",
       "    <tr>\n",
       "      <th>R. Kelly</th>\n",
       "      <td>13</td>\n",
       "    </tr>\n",
       "    <tr>\n",
       "      <th>Billy Joel</th>\n",
       "      <td>12</td>\n",
       "    </tr>\n",
       "    <tr>\n",
       "      <th>Olivia Newton-John</th>\n",
       "      <td>12</td>\n",
       "    </tr>\n",
       "    <tr>\n",
       "      <th>...</th>\n",
       "      <td>...</td>\n",
       "    </tr>\n",
       "    <tr>\n",
       "      <th>Los Indios Tabajaras</th>\n",
       "      <td>1</td>\n",
       "    </tr>\n",
       "    <tr>\n",
       "      <th>Luscious Jackson</th>\n",
       "      <td>1</td>\n",
       "    </tr>\n",
       "    <tr>\n",
       "      <th>Ludacris featuring Mystikal and I-20</th>\n",
       "      <td>1</td>\n",
       "    </tr>\n",
       "    <tr>\n",
       "      <th>Lupe Fiasco featuring Matthew Santos</th>\n",
       "      <td>1</td>\n",
       "    </tr>\n",
       "    <tr>\n",
       "      <th>Lupe Fiasco</th>\n",
       "      <td>1</td>\n",
       "    </tr>\n",
       "    <tr>\n",
       "      <th>Luniz</th>\n",
       "      <td>1</td>\n",
       "    </tr>\n",
       "    <tr>\n",
       "      <th>Lumidee</th>\n",
       "      <td>1</td>\n",
       "    </tr>\n",
       "    <tr>\n",
       "      <th>Lulu</th>\n",
       "      <td>1</td>\n",
       "    </tr>\n",
       "    <tr>\n",
       "      <th>Luke featuring No Good But So Good</th>\n",
       "      <td>1</td>\n",
       "    </tr>\n",
       "    <tr>\n",
       "      <th>Luke Combs</th>\n",
       "      <td>1</td>\n",
       "    </tr>\n",
       "    <tr>\n",
       "      <th>Lukas Graham</th>\n",
       "      <td>1</td>\n",
       "    </tr>\n",
       "    <tr>\n",
       "      <th>Luis Fonsi and Daddy Yankee featuring Justin Bieber</th>\n",
       "      <td>1</td>\n",
       "    </tr>\n",
       "    <tr>\n",
       "      <th>D12</th>\n",
       "      <td>1</td>\n",
       "    </tr>\n",
       "    <tr>\n",
       "      <th>D4L</th>\n",
       "      <td>1</td>\n",
       "    </tr>\n",
       "    <tr>\n",
       "      <th>Ludacris featuring Nicki Minaj</th>\n",
       "      <td>1</td>\n",
       "    </tr>\n",
       "    <tr>\n",
       "      <th>Ludacris featuring Mary J. Blige</th>\n",
       "      <td>1</td>\n",
       "    </tr>\n",
       "    <tr>\n",
       "      <th>Los Lobos</th>\n",
       "      <td>1</td>\n",
       "    </tr>\n",
       "    <tr>\n",
       "      <th>Ludacris featuring Bobby Valentino</th>\n",
       "      <td>1</td>\n",
       "    </tr>\n",
       "    <tr>\n",
       "      <th>DHT featuring Edmee</th>\n",
       "      <td>1</td>\n",
       "    </tr>\n",
       "    <tr>\n",
       "      <th>Love and Rockets</th>\n",
       "      <td>1</td>\n",
       "    </tr>\n",
       "    <tr>\n",
       "      <th>Love Unlimited Orchestra</th>\n",
       "      <td>1</td>\n",
       "    </tr>\n",
       "    <tr>\n",
       "      <th>Love Unlimited</th>\n",
       "      <td>1</td>\n",
       "    </tr>\n",
       "    <tr>\n",
       "      <th>Louis Armstrong</th>\n",
       "      <td>1</td>\n",
       "    </tr>\n",
       "    <tr>\n",
       "      <th>DJ Khaled featuring Drake</th>\n",
       "      <td>1</td>\n",
       "    </tr>\n",
       "    <tr>\n",
       "      <th>DJ Khaled featuring Drake, Rick Ross and Lil Wayne</th>\n",
       "      <td>1</td>\n",
       "    </tr>\n",
       "    <tr>\n",
       "      <th>DJ Khaled featuring Justin Bieber, Quavo, Chance the Rapper and Lil Wayne</th>\n",
       "      <td>1</td>\n",
       "    </tr>\n",
       "    <tr>\n",
       "      <th>Lou Bega</th>\n",
       "      <td>1</td>\n",
       "    </tr>\n",
       "    <tr>\n",
       "      <th>DJ Khaled featuring Rihanna and Bryson Tiller</th>\n",
       "      <td>1</td>\n",
       "    </tr>\n",
       "    <tr>\n",
       "      <th>Los Lonely Boys</th>\n",
       "      <td>1</td>\n",
       "    </tr>\n",
       "    <tr>\n",
       "      <th>will.i.am featuring Justin Bieber</th>\n",
       "      <td>1</td>\n",
       "    </tr>\n",
       "  </tbody>\n",
       "</table>\n",
       "<p>2836 rows × 1 columns</p>\n",
       "</div>"
      ],
      "text/plain": [
       "                                                    count\n",
       "artist_name                                              \n",
       "Madonna                                                35\n",
       "Elton John                                             26\n",
       "The Beatles                                            26\n",
       "Janet Jackson                                          24\n",
       "Mariah Carey                                           24\n",
       "Michael Jackson                                        22\n",
       "Stevie Wonder                                          22\n",
       "Taylor Swift                                           21\n",
       "Rihanna                                                21\n",
       "Pink                                                   19\n",
       "Whitney Houston                                        19\n",
       "Kelly Clarkson                                         17\n",
       "Hall & Oates                                           17\n",
       "The Black Eyed Peas                                    16\n",
       "Britney Spears                                         16\n",
       "Elvis Presley                                          15\n",
       "Chicago                                                15\n",
       "Rod Stewart                                            14\n",
       "Aretha Franklin                                        14\n",
       "Usher                                                  14\n",
       "Katy Perry                                             14\n",
       "The Rolling Stones                                     13\n",
       "Beyoncé                                                13\n",
       "Boyz II Men                                            13\n",
       "The Temptations                                        13\n",
       "Maroon 5                                               13\n",
       "Phil Collins                                           13\n",
       "R. Kelly                                               13\n",
       "Billy Joel                                             12\n",
       "Olivia Newton-John                                     12\n",
       "...                                                   ...\n",
       "Los Indios Tabajaras                                    1\n",
       "Luscious Jackson                                        1\n",
       "Ludacris featuring Mystikal and I-20                    1\n",
       "Lupe Fiasco featuring Matthew Santos                    1\n",
       "Lupe Fiasco                                             1\n",
       "Luniz                                                   1\n",
       "Lumidee                                                 1\n",
       "Lulu                                                    1\n",
       "Luke featuring No Good But So Good                      1\n",
       "Luke Combs                                              1\n",
       "Lukas Graham                                            1\n",
       "Luis Fonsi and Daddy Yankee featuring Justin Bi...      1\n",
       "D12                                                     1\n",
       "D4L                                                     1\n",
       "Ludacris featuring Nicki Minaj                          1\n",
       "Ludacris featuring Mary J. Blige                        1\n",
       "Los Lobos                                               1\n",
       "Ludacris featuring Bobby Valentino                      1\n",
       "DHT featuring Edmee                                     1\n",
       "Love and Rockets                                        1\n",
       "Love Unlimited Orchestra                                1\n",
       "Love Unlimited                                          1\n",
       "Louis Armstrong                                         1\n",
       "DJ Khaled featuring Drake                               1\n",
       "DJ Khaled featuring Drake, Rick Ross and Lil Wayne      1\n",
       "DJ Khaled featuring Justin Bieber, Quavo, Chanc...      1\n",
       "Lou Bega                                                1\n",
       "DJ Khaled featuring Rihanna and Bryson Tiller           1\n",
       "Los Lonely Boys                                         1\n",
       "will.i.am featuring Justin Bieber                       1\n",
       "\n",
       "[2836 rows x 1 columns]"
      ]
     },
     "execution_count": 8,
     "metadata": {},
     "output_type": "execute_result"
    }
   ],
   "source": [
    "sorted = result.sort_values(by=['count'],ascending=[False])\n",
    "sorted"
   ]
  },
  {
   "cell_type": "code",
   "execution_count": 9,
   "metadata": {},
   "outputs": [],
   "source": [
    "sorted.to_csv('c:\\\\aab\\\\data\\\\artists.csv', header=None, sep=';')"
   ]
  },
  {
   "cell_type": "code",
   "execution_count": null,
   "metadata": {
    "collapsed": true
   },
   "outputs": [],
   "source": []
  }
 ],
 "metadata": {
  "anaconda-cloud": {},
  "kernelspec": {
   "display_name": "Python 3 (ipykernel)",
   "language": "python",
   "name": "python3"
  },
  "language_info": {
   "codemirror_mode": {
    "name": "ipython",
    "version": 3
   },
   "file_extension": ".py",
   "mimetype": "text/x-python",
   "name": "python",
   "nbconvert_exporter": "python",
   "pygments_lexer": "ipython3",
   "version": "3.8.11"
  }
 },
 "nbformat": 4,
 "nbformat_minor": 1
}
