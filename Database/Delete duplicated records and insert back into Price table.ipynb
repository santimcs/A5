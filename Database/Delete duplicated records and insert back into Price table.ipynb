{
 "cells": [
  {
   "cell_type": "code",
   "execution_count": 1,
   "id": "7fc6b1e8",
   "metadata": {},
   "outputs": [],
   "source": [
    "import pandas as pd\n",
    "from sqlalchemy import create_engine, text\n",
    "\n",
    "# Database connection details\n",
    "db_user = 'root'\n",
    "db_password = ''\n",
    "db_host = 'localhost'\n",
    "db_name = 'stock'\n",
    "table_name = 'price'\n",
    "backup_table_name = 'price_backup'\n",
    "\n",
    "# Create a connection to the database\n",
    "# const = create_engine(\"mysql+pymysql://root:@localhost:3306/stock\")\n",
    "const = create_engine(f'mysql+pymysql://{db_user}:{db_password}@{db_host}/{db_name}')"
   ]
  },
  {
   "cell_type": "code",
   "execution_count": 3,
   "id": "647bef60",
   "metadata": {},
   "outputs": [
    {
     "data": {
      "text/plain": [
       "(358679, 7)"
      ]
     },
     "execution_count": 3,
     "metadata": {},
     "output_type": "execute_result"
    }
   ],
   "source": [
    "# Read the table into a Pandas DataFrame\n",
    "df = pd.read_sql(f'SELECT * FROM {table_name} ORDER BY date DESC', con=const)\n",
    "df.shape"
   ]
  },
  {
   "cell_type": "code",
   "execution_count": 5,
   "id": "9a1822e1",
   "metadata": {},
   "outputs": [
    {
     "name": "stdout",
     "output_type": "stream",
     "text": [
      "Data type of 'date' column before conversion: object\n"
     ]
    }
   ],
   "source": [
    "print(\"Data type of 'date' column before conversion:\", df['date'].dtype)\n"
   ]
  },
  {
   "cell_type": "code",
   "execution_count": 7,
   "id": "da82200a",
   "metadata": {},
   "outputs": [
    {
     "data": {
      "text/plain": [
       "348"
      ]
     },
     "execution_count": 7,
     "metadata": {},
     "output_type": "execute_result"
    }
   ],
   "source": [
    "# Convert the 'date' column to string if necessary (already object, but ensure no issues)\n",
    "df['date'] = df['date'].astype(str)\n",
    "\n",
    "# Strip any leading/trailing whitespace in 'date' values\n",
    "df['date'] = df['date'].str.strip()\n",
    "\n",
    "# Specify the date where duplicates occur\n",
    "error_date = '2025-05-26'\n",
    "\n",
    "# Isolate the data for the specific date\n",
    "temp_df = df[df['date'] == error_date]\n",
    "temp_df.shape[0]"
   ]
  },
  {
   "cell_type": "code",
   "execution_count": 9,
   "id": "06378ed7",
   "metadata": {},
   "outputs": [],
   "source": [
    "# Remove the isolated data from the main DataFrame\n",
    "df = df[df['date'] != error_date]\n",
    "\n",
    "# Remove duplicates from the temporary DataFrame\n",
    "temp_df = temp_df.drop_duplicates(subset=['name', 'date'])"
   ]
  },
  {
   "cell_type": "code",
   "execution_count": 11,
   "id": "0c5e11db",
   "metadata": {},
   "outputs": [
    {
     "data": {
      "text/plain": [
       "((358331, 7), (174, 7))"
      ]
     },
     "execution_count": 11,
     "metadata": {},
     "output_type": "execute_result"
    }
   ],
   "source": [
    "df.shape, temp_df.shape"
   ]
  },
  {
   "cell_type": "code",
   "execution_count": 29,
   "id": "cde8979d",
   "metadata": {},
   "outputs": [
    {
     "data": {
      "text/plain": [
       "(399301, 7)"
      ]
     },
     "execution_count": 29,
     "metadata": {},
     "output_type": "execute_result"
    }
   ],
   "source": [
    "# Insert the cleaned data back into the main DataFrame\n",
    "df = pd.concat([df, temp_df], ignore_index=True)\n",
    "df.shape"
   ]
  },
  {
   "cell_type": "code",
   "execution_count": 30,
   "id": "15da0006",
   "metadata": {},
   "outputs": [
    {
     "name": "stdout",
     "output_type": "stream",
     "text": [
      "Duplicates removed and data updated successfully.\n"
     ]
    }
   ],
   "source": [
    "#Dare not run bcz don't know how long it will take\n",
    "# Write the updated DataFrame back to the MySQL table\n",
    "#df.to_sql(table_name, con=engine, if_exists='replace', index=False)\n",
    "\n",
    "print(\"Duplicates removed and data updated successfully.\")"
   ]
  },
  {
   "cell_type": "code",
   "execution_count": null,
   "id": "2f5efc39",
   "metadata": {},
   "outputs": [],
   "source": []
  }
 ],
 "metadata": {
  "kernelspec": {
   "display_name": "Python 3 (ipykernel)",
   "language": "python",
   "name": "python3"
  },
  "language_info": {
   "codemirror_mode": {
    "name": "ipython",
    "version": 3
   },
   "file_extension": ".py",
   "mimetype": "text/x-python",
   "name": "python",
   "nbconvert_exporter": "python",
   "pygments_lexer": "ipython3",
   "version": "3.12.3"
  }
 },
 "nbformat": 4,
 "nbformat_minor": 5
}
