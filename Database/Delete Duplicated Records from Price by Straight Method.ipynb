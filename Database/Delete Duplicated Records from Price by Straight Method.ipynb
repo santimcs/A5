{
 "cells": [
  {
   "cell_type": "code",
   "execution_count": 1,
   "id": "ba4b0ae2",
   "metadata": {},
   "outputs": [],
   "source": [
    "import pandas as pd\n",
    "from sqlalchemy import create_engine\n",
    "\n",
    "# Database connection details\n",
    "db_user = 'root'\n",
    "db_password = ''\n",
    "db_host = 'localhost'\n",
    "db_name = 'stock'\n",
    "table_name = 'price'\n",
    "backup_table_name = 'price_backup'\n",
    "\n",
    "# Create a connection to the database\n",
    "engine = create_engine(\"mysql+pymysql://root:@localhost:3306/stock\")\n",
    "const = engine.connect()"
   ]
  },
  {
   "cell_type": "code",
   "execution_count": 7,
   "id": "b90f2486",
   "metadata": {},
   "outputs": [
    {
     "data": {
      "text/plain": [
       "(399793, 7)"
      ]
     },
     "execution_count": 7,
     "metadata": {},
     "output_type": "execute_result"
    }
   ],
   "source": [
    "# Read the table into a Pandas DataFrame\n",
    "df = pd.read_sql(f'SELECT * FROM price', con=const)\n",
    "df.shape"
   ]
  },
  {
   "cell_type": "code",
   "execution_count": 4,
   "id": "edaf9074",
   "metadata": {},
   "outputs": [],
   "source": [
    "# Back up the table\n",
    "df.to_sql(backup_table_name, con=const, if_exists='replace', index=False)"
   ]
  },
  {
   "cell_type": "code",
   "execution_count": 5,
   "id": "5f1719d8",
   "metadata": {},
   "outputs": [
    {
     "data": {
      "text/plain": [
       "(399793, 7)"
      ]
     },
     "execution_count": 5,
     "metadata": {},
     "output_type": "execute_result"
    }
   ],
   "source": [
    "# Read the table into a Pandas DataFrame\n",
    "df_backup = pd.read_sql(f'SELECT * FROM price_backup', con=const)\n",
    "df_backup.shape"
   ]
  },
  {
   "cell_type": "code",
   "execution_count": 9,
   "id": "71deb8ab",
   "metadata": {},
   "outputs": [
    {
     "data": {
      "text/plain": [
       "(399301, 7)"
      ]
     },
     "execution_count": 9,
     "metadata": {},
     "output_type": "execute_result"
    }
   ],
   "source": [
    "# Drop duplicates based on 'name' and 'date' columns, keeping the last occurrence\n",
    "df = df.drop_duplicates(subset=['name', 'date'], keep='last')\n",
    "\n",
    "df.shape"
   ]
  },
  {
   "cell_type": "code",
   "execution_count": 10,
   "id": "a28f756c",
   "metadata": {},
   "outputs": [
    {
     "name": "stdout",
     "output_type": "stream",
     "text": [
      "Backup completed and duplicates deleted successfully.\n"
     ]
    }
   ],
   "source": [
    "# Write the updated DataFrame back to the MySQL table\n",
    "df.to_sql(table_name, con=const, if_exists='replace', index=False)\n",
    "\n",
    "print(\"Backup completed and duplicates deleted successfully.\")"
   ]
  },
  {
   "cell_type": "code",
   "execution_count": 11,
   "id": "27d178a7",
   "metadata": {},
   "outputs": [
    {
     "data": {
      "text/plain": [
       "(399301, 7)"
      ]
     },
     "execution_count": 11,
     "metadata": {},
     "output_type": "execute_result"
    }
   ],
   "source": [
    "# Read the table into a Pandas DataFrame\n",
    "df = pd.read_sql(f'SELECT * FROM price', con=const)\n",
    "df.shape"
   ]
  },
  {
   "cell_type": "code",
   "execution_count": null,
   "id": "7315e5a9",
   "metadata": {},
   "outputs": [],
   "source": []
  }
 ],
 "metadata": {
  "kernelspec": {
   "display_name": "Python 3 (ipykernel)",
   "language": "python",
   "name": "python3"
  },
  "language_info": {
   "codemirror_mode": {
    "name": "ipython",
    "version": 3
   },
   "file_extension": ".py",
   "mimetype": "text/x-python",
   "name": "python",
   "nbconvert_exporter": "python",
   "pygments_lexer": "ipython3",
   "version": "3.8.19"
  }
 },
 "nbformat": 4,
 "nbformat_minor": 5
}
