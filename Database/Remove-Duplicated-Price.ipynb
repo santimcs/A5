{
 "cells": [
  {
   "cell_type": "code",
   "execution_count": 2,
   "id": "d98daf97-03e3-4362-a3c1-c808d1154960",
   "metadata": {},
   "outputs": [],
   "source": [
    "import pandas as pd\n",
    "from sqlalchemy import create_engine, text\n",
    "\n",
    "# 1. Create database connection\n",
    "engine = create_engine(\"mysql+pymysql://root:@localhost:3306/stock\")\n",
    "conn = engine.connect()\n",
    "\n",
    "# 2. Define target date\n",
    "target_date = '2025-05-26'"
   ]
  },
  {
   "cell_type": "code",
   "execution_count": 4,
   "id": "fbc65996-1fa6-4008-8ea1-b0aa7bcdce72",
   "metadata": {},
   "outputs": [
    {
     "name": "stdout",
     "output_type": "stream",
     "text": [
      "Initial temp DataFrame shape: (348, 7)\n"
     ]
    }
   ],
   "source": [
    "# 3. Extract data for the target date\n",
    "sql_extract = f\"SELECT * FROM price WHERE date = '{target_date}'\"\n",
    "temp_df = pd.read_sql(sql_extract, conn)\n",
    "print(f\"Initial temp DataFrame shape: {temp_df.shape}\")"
   ]
  },
  {
   "cell_type": "code",
   "execution_count": 8,
   "id": "97eae9e9-544f-4f73-a50b-95d09619a32a",
   "metadata": {},
   "outputs": [
    {
     "name": "stdout",
     "output_type": "stream",
     "text": [
      "Error: 'Connection' object has no attribute 'rowcount'\n"
     ]
    }
   ],
   "source": [
    "# 4. Delete records for target date from DB\n",
    "# Check count before deletion\n",
    "count_before = pd.read_sql(f\"SELECT COUNT(*) FROM price WHERE date = '{target_date}'\", conn).iloc[0,0]\n",
    "try:\n",
    "    sql_delete = text(\"DELETE FROM price WHERE date = :target_date\")\n",
    "    conn.execute(sql_delete, {\"target_date\": target_date})\n",
    "    conn.commit()\n",
    "    count_after = pd.read_sql(f\"SELECT COUNT(*) FROM price WHERE date = '{target_date}'\", conn).iloc[0,0]\n",
    "    print(f\"Deleted {count_before - count_after} records\")\n",
    "except Exception as e:\n",
    "    conn.rollback()\n",
    "    print(f\"Error: {str(e)}\")"
   ]
  },
  {
   "cell_type": "code",
   "execution_count": 10,
   "id": "6b100d0c-cfc8-4500-a18d-057e90979996",
   "metadata": {},
   "outputs": [
    {
     "name": "stdout",
     "output_type": "stream",
     "text": [
      "Cleaned DataFrame shape: (174, 7)\n",
      "Removed duplicates: 174\n"
     ]
    }
   ],
   "source": [
    "# 5. Deduplicate temp DataFrame\n",
    "# Keep first occurrence of (name, date) combination\n",
    "cleaned_df = temp_df.drop_duplicates(subset=['name', 'date'], keep='first')\n",
    "print(f\"Cleaned DataFrame shape: {cleaned_df.shape}\")\n",
    "print(f\"Removed duplicates: {len(temp_df) - len(cleaned_df)}\")"
   ]
  },
  {
   "cell_type": "code",
   "execution_count": 12,
   "id": "7d06ba02-3282-4fb4-a810-060771795ea9",
   "metadata": {},
   "outputs": [
    {
     "name": "stdout",
     "output_type": "stream",
     "text": [
      "Inserted cleaned data back to price table\n"
     ]
    }
   ],
   "source": [
    "# 6. Insert cleaned data back to database\n",
    "cleaned_df.to_sql(\n",
    "    name='price',\n",
    "    con=engine,\n",
    "    if_exists='append',\n",
    "    index=False\n",
    ")\n",
    "print(\"Inserted cleaned data back to price table\")"
   ]
  },
  {
   "cell_type": "code",
   "execution_count": 14,
   "id": "d106902f-3534-41ea-aef1-dda9ccac5bf4",
   "metadata": {},
   "outputs": [
    {
     "name": "stdout",
     "output_type": "stream",
     "text": [
      "Final table count: 358505\n"
     ]
    }
   ],
   "source": [
    "# 7. Verify final count\n",
    "final_count = pd.read_sql(\"SELECT COUNT(*) FROM price\", conn).iloc[0,0]\n",
    "print(f\"Final table count: {final_count}\")\n",
    "\n",
    "# Close connection\n",
    "#conn.close()"
   ]
  },
  {
   "cell_type": "code",
   "execution_count": null,
   "id": "6da9fb41-357c-4e17-b445-256e278f8a19",
   "metadata": {},
   "outputs": [],
   "source": []
  }
 ],
 "metadata": {
  "kernelspec": {
   "display_name": "Python 3 (ipykernel)",
   "language": "python",
   "name": "python3"
  },
  "language_info": {
   "codemirror_mode": {
    "name": "ipython",
    "version": 3
   },
   "file_extension": ".py",
   "mimetype": "text/x-python",
   "name": "python",
   "nbconvert_exporter": "python",
   "pygments_lexer": "ipython3",
   "version": "3.12.3"
  }
 },
 "nbformat": 4,
 "nbformat_minor": 5
}
