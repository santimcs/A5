{
 "cells": [
  {
   "cell_type": "code",
   "execution_count": 15,
   "metadata": {},
   "outputs": [
    {
     "name": "stdout",
     "output_type": "stream",
     "text": [
      "2025-02-13 2025-02-12\n"
     ]
    }
   ],
   "source": [
    "import os\n",
    "import pandas as pd\n",
    "from sqlalchemy import create_engine, text\n",
    "from datetime import date, timedelta\n",
    "from pandas.tseries.offsets import *\n",
    "import calendar\n",
    "\n",
    "engine = create_engine(\"mysql+pymysql://root:@localhost:3306/stock\")\n",
    "const = engine.connect()\n",
    "\n",
    "today = date.today()\n",
    "yesterday = today - timedelta(days=1)\n",
    "print(today, yesterday)"
   ]
  },
  {
   "cell_type": "code",
   "execution_count": 3,
   "metadata": {},
   "outputs": [
    {
     "name": "stdout",
     "output_type": "stream",
     "text": [
      "2025-02-13 2025-02-12\n"
     ]
    }
   ],
   "source": [
    "num_business_days = BDay(1)\n",
    "yesterday = today - num_business_days\n",
    "yesterday = yesterday.date()\n",
    "print(today, yesterday)"
   ]
  },
  {
   "cell_type": "markdown",
   "metadata": {},
   "source": [
    "### Today must be last business day"
   ]
  },
  {
   "cell_type": "code",
   "execution_count": 9,
   "metadata": {},
   "outputs": [
    {
     "name": "stdout",
     "output_type": "stream",
     "text": [
      "today: 2025-02-13\n",
      "Today in mm-dd format: 02-13\n",
      "yesterday: 2025-02-12\n"
     ]
    }
   ],
   "source": [
    "# convert the timedelta object to a BusinessDay object\n",
    "num_business_days = BDay(1)\n",
    "yesterday = today - num_business_days\n",
    "print(f'today: {today}')\n",
    "to_mmdd = today.strftime('%m-%d')\n",
    "yesterday = yesterday.date()\n",
    "print(f'Today in mm-dd format: {to_mmdd}')\n",
    "print(f'yesterday: {yesterday}')"
   ]
  },
  {
   "cell_type": "code",
   "execution_count": 11,
   "metadata": {},
   "outputs": [],
   "source": [
    "format_dict = {    \n",
    "    'shares':'{:,}',    \n",
    "    'q4':'{:.4f}','q3':'{:.4f}','q2':'{:.4f}','q1':'{:.4f}','dividend':'{:.4f}','qtrly':'{:.4f}',\n",
    "    'price':'{:.2f}',    \n",
    "    'amount':'{:,.2f}','net':'{:,.2f}','cost_amt':'{:,.2f}',\n",
    "    'yield':'{:,.2f}%','pct':'{:,.2f}%',\n",
    "    'xdate':'{:%Y-%m-%d}','paiddate':'{:%Y-%m-%d}',\n",
    "              }"
   ]
  },
  {
   "cell_type": "code",
   "execution_count": 17,
   "metadata": {},
   "outputs": [],
   "source": [
    "# Get the user's home directory\n",
    "user_path = os.path.expanduser('~')\n",
    "# Get the current working directory\n",
    "current_path = os.getcwd()\n",
    "# Derive the base directory (base_dir) by removing the last folder ('Daily')\n",
    "base_path = os.path.dirname(current_path)\n",
    "#C:\\Users\\PC1\\OneDrive\\A5\\Data\n",
    "dat_path = os.path.join(base_path, \"Data\")\n",
    "#C:\\Users\\PC1\\OneDrive\\Imports\\santisoontarinka@gmail.com - Google Drive\\Data>\n",
    "god_path = os.path.join(user_path, \"OneDrive\",\"Imports\",\"santisoontarinka@gmail.com - Google Drive\",\"Data\")\n",
    "#C:\\Users\\PC1\\iCloudDrive\\data\n",
    "icd_path = os.path.join(user_path, \"iCloudDrive\", \"Data\")\n",
    "#C:\\Users\\PC1\\OneDrive\\Documents\\obsidian-git-sync\\Data\n",
    "osd_path = os.path.join(user_path, \"OneDrive\",\"Documents\",\"obsidian-git-sync\",\"Data\")\n",
    "#C:\\Users\\PC1\\OneDrive\\A5\\Excel\n",
    "xsl_path = os.path.join(base_path, \"Excel\")"
   ]
  },
  {
   "cell_type": "code",
   "execution_count": 19,
   "metadata": {},
   "outputs": [
    {
     "name": "stdout",
     "output_type": "stream",
     "text": [
      "User path: C:\\Users\\PC1\n",
      "Current path: C:\\Users\\PC1\\OneDrive\\A5\\Ad hoc\n",
      "Base path: C:\\Users\\PC1\\OneDrive\\A5\n",
      "Data path (dat_path): C:\\Users\\PC1\\OneDrive\\A5\\Data\n",
      "Excel path (xsl_path): C:\\Users\\PC1\\OneDrive\\A5\\Excel\n",
      "Google Drive path (god_path): C:\\Users\\PC1\\OneDrive\\Imports\\santisoontarinka@gmail.com - Google Drive\\Data\n",
      "iCloudDrive path (icd_path): C:\\Users\\PC1\\iCloudDrive\\Data\n",
      "Obsidian path (osd_path): C:\\Users\\PC1\\OneDrive\\Documents\\obsidian-git-sync\\Data\n"
     ]
    }
   ],
   "source": [
    "print(\"User path:\", user_path)\n",
    "print(f\"Current path: {current_path}\")\n",
    "print(f\"Base path: {base_path}\")\n",
    "print(f\"Data path (dat_path): {dat_path}\") \n",
    "print(f\"Excel path (xsl_path): {xsl_path}\") \n",
    "print(f\"Google Drive path (god_path): {god_path}\")\n",
    "print(f\"iCloudDrive path (icd_path): {icd_path}\") \n",
    "print(f\"Obsidian path (osd_path): {osd_path}\")"
   ]
  },
  {
   "cell_type": "markdown",
   "metadata": {},
   "source": [
    "### New dividend stock"
   ]
  },
  {
   "cell_type": "code",
   "execution_count": 4,
   "metadata": {},
   "outputs": [
    {
     "data": {
      "text/html": [
       "<style type=\"text/css\">\n",
       "</style>\n",
       "<table id=\"T_ed42a_\">\n",
       "  <thead>\n",
       "    <tr>\n",
       "      <th class=\"blank level0\" >&nbsp;</th>\n",
       "      <th class=\"col_heading level0 col0\" >name</th>\n",
       "      <th class=\"col_heading level0 col1\" >q4</th>\n",
       "      <th class=\"col_heading level0 col2\" >q3</th>\n",
       "      <th class=\"col_heading level0 col3\" >q2</th>\n",
       "      <th class=\"col_heading level0 col4\" >q1</th>\n",
       "      <th class=\"col_heading level0 col5\" >dividend</th>\n",
       "      <th class=\"col_heading level0 col6\" >shares</th>\n",
       "      <th class=\"col_heading level0 col7\" >xdate</th>\n",
       "      <th class=\"col_heading level0 col8\" >paiddate</th>\n",
       "      <th class=\"col_heading level0 col9\" >kind</th>\n",
       "      <th class=\"col_heading level0 col10\" >actual</th>\n",
       "    </tr>\n",
       "  </thead>\n",
       "  <tbody>\n",
       "  </tbody>\n",
       "</table>\n"
      ],
      "text/plain": [
       "<pandas.io.formats.style.Styler at 0x1f75ddb0730>"
      ]
     },
     "execution_count": 4,
     "metadata": {},
     "output_type": "execute_result"
    }
   ],
   "source": [
    "name = 'WHAIR'\n",
    "sql = \"\"\"\n",
    "SELECT * \n",
    "FROM DIVIDEND\n",
    "WHERE name = '%s'\n",
    "\"\"\"\n",
    "sql = sql % name\n",
    "dividend = pd.read_sql(sql, const)\n",
    "dividend.drop(['PRICE', 'PERCENT'], axis=1, inplace=True)\n",
    "dividend.columns = dividend.columns.str.lower()\n",
    "dividend['shares'] = dividend['shares'].astype('int64')\n",
    "dividend['xdate'] = pd.to_datetime(dividend['xdate'])\n",
    "dividend['paiddate'] = pd.to_datetime(dividend['paiddate'])\n",
    "dividend.style.format(format_dict)"
   ]
  },
  {
   "cell_type": "code",
   "execution_count": 3,
   "metadata": {},
   "outputs": [
    {
     "ename": "ObjectNotExecutableError",
     "evalue": "Not an executable object: \"\\nINSERT INTO dividend\\nVALUES('xxx',.1738,0.1738,0.1738,0.1556,0,0,0,00,'2022-05-25','2022-06-22','',0)\\n\"",
     "output_type": "error",
     "traceback": [
      "\u001b[1;31m---------------------------------------------------------------------------\u001b[0m",
      "\u001b[1;31mAttributeError\u001b[0m                            Traceback (most recent call last)",
      "File \u001b[1;32m~\\anaconda3\\Lib\\site-packages\\sqlalchemy\\engine\\base.py:1414\u001b[0m, in \u001b[0;36mConnection.execute\u001b[1;34m(self, statement, parameters, execution_options)\u001b[0m\n\u001b[0;32m   1413\u001b[0m \u001b[38;5;28;01mtry\u001b[39;00m:\n\u001b[1;32m-> 1414\u001b[0m     meth \u001b[38;5;241m=\u001b[39m statement\u001b[38;5;241m.\u001b[39m_execute_on_connection\n\u001b[0;32m   1415\u001b[0m \u001b[38;5;28;01mexcept\u001b[39;00m \u001b[38;5;167;01mAttributeError\u001b[39;00m \u001b[38;5;28;01mas\u001b[39;00m err:\n",
      "\u001b[1;31mAttributeError\u001b[0m: 'str' object has no attribute '_execute_on_connection'",
      "\nThe above exception was the direct cause of the following exception:\n",
      "\u001b[1;31mObjectNotExecutableError\u001b[0m                  Traceback (most recent call last)",
      "Cell \u001b[1;32mIn[3], line 5\u001b[0m\n\u001b[0;32m      1\u001b[0m sqlIns \u001b[38;5;241m=\u001b[39m \u001b[38;5;124m\"\"\"\u001b[39m\n\u001b[0;32m      2\u001b[0m \u001b[38;5;124mINSERT INTO dividend\u001b[39m\n\u001b[0;32m      3\u001b[0m \u001b[38;5;124mVALUES(\u001b[39m\u001b[38;5;124m'\u001b[39m\u001b[38;5;124mxxx\u001b[39m\u001b[38;5;124m'\u001b[39m\u001b[38;5;124m,.1738,0.1738,0.1738,0.1556,0,0,0,00,\u001b[39m\u001b[38;5;124m'\u001b[39m\u001b[38;5;124m2022-05-25\u001b[39m\u001b[38;5;124m'\u001b[39m\u001b[38;5;124m,\u001b[39m\u001b[38;5;124m'\u001b[39m\u001b[38;5;124m2022-06-22\u001b[39m\u001b[38;5;124m'\u001b[39m\u001b[38;5;124m,\u001b[39m\u001b[38;5;124m'\u001b[39m\u001b[38;5;124m'\u001b[39m\u001b[38;5;124m,0)\u001b[39m\n\u001b[0;32m      4\u001b[0m \u001b[38;5;124m\"\"\"\u001b[39m\n\u001b[1;32m----> 5\u001b[0m rp \u001b[38;5;241m=\u001b[39m const\u001b[38;5;241m.\u001b[39mexecute(sqlIns)\n\u001b[0;32m      6\u001b[0m rp\u001b[38;5;241m.\u001b[39mrowcount\n",
      "File \u001b[1;32m~\\anaconda3\\Lib\\site-packages\\sqlalchemy\\engine\\base.py:1416\u001b[0m, in \u001b[0;36mConnection.execute\u001b[1;34m(self, statement, parameters, execution_options)\u001b[0m\n\u001b[0;32m   1414\u001b[0m     meth \u001b[38;5;241m=\u001b[39m statement\u001b[38;5;241m.\u001b[39m_execute_on_connection\n\u001b[0;32m   1415\u001b[0m \u001b[38;5;28;01mexcept\u001b[39;00m \u001b[38;5;167;01mAttributeError\u001b[39;00m \u001b[38;5;28;01mas\u001b[39;00m err:\n\u001b[1;32m-> 1416\u001b[0m     \u001b[38;5;28;01mraise\u001b[39;00m exc\u001b[38;5;241m.\u001b[39mObjectNotExecutableError(statement) \u001b[38;5;28;01mfrom\u001b[39;00m \u001b[38;5;21;01merr\u001b[39;00m\n\u001b[0;32m   1417\u001b[0m \u001b[38;5;28;01melse\u001b[39;00m:\n\u001b[0;32m   1418\u001b[0m     \u001b[38;5;28;01mreturn\u001b[39;00m meth(\n\u001b[0;32m   1419\u001b[0m         \u001b[38;5;28mself\u001b[39m,\n\u001b[0;32m   1420\u001b[0m         distilled_parameters,\n\u001b[0;32m   1421\u001b[0m         execution_options \u001b[38;5;129;01mor\u001b[39;00m NO_OPTIONS,\n\u001b[0;32m   1422\u001b[0m     )\n",
      "\u001b[1;31mObjectNotExecutableError\u001b[0m: Not an executable object: \"\\nINSERT INTO dividend\\nVALUES('xxx',.1738,0.1738,0.1738,0.1556,0,0,0,00,'2022-05-25','2022-06-22','',0)\\n\""
     ]
    }
   ],
   "source": [
    "sqlIns = \"\"\"\n",
    "INSERT INTO dividend\n",
    "VALUES('xxx',.1738,0.1738,0.1738,0.1556,0,0,0,00,'2022-05-25','2022-06-22','',0)\n",
    "\"\"\"\n",
    "rp = const.execute(sqlIns)\n",
    "rp.rowcount"
   ]
  },
  {
   "cell_type": "markdown",
   "metadata": {},
   "source": [
    "### Start of Update dividend"
   ]
  },
  {
   "cell_type": "code",
   "execution_count": 47,
   "metadata": {},
   "outputs": [],
   "source": [
    "def update_dividend1(q1, XDATE, PAIDDATE, actual, name):\n",
    "    # Use parameterized query to avoid SQL injection\n",
    "    sql = text(\"\"\"\n",
    "        UPDATE dividend \n",
    "        SET q1 = :q1, \n",
    "            dividend = q1 + q2 + q3 + q4, \n",
    "            XDATE = :XDATE, \n",
    "            PAIDDATE = :PAIDDATE, \n",
    "            actual = :actual \n",
    "        WHERE name = :name\n",
    "    \"\"\")\n",
    "    \n",
    "    # Execute the query with parameters\n",
    "    rp = const.execute(sql, {\n",
    "        'q1': q1,\n",
    "        'XDATE': XDATE,\n",
    "        'PAIDDATE': PAIDDATE,\n",
    "        'actual': actual,\n",
    "        'name': name\n",
    "    })\n",
    "    const.commit()\n",
    "    return f\"Records updated = {rp.rowcount}\""
   ]
  },
  {
   "cell_type": "code",
   "execution_count": 49,
   "metadata": {
    "scrolled": true
   },
   "outputs": [
    {
     "data": {
      "text/html": [
       "<style type=\"text/css\">\n",
       "</style>\n",
       "<table id=\"T_0eb3c\">\n",
       "  <thead>\n",
       "    <tr>\n",
       "      <th class=\"blank level0\" >&nbsp;</th>\n",
       "      <th id=\"T_0eb3c_level0_col0\" class=\"col_heading level0 col0\" >name</th>\n",
       "      <th id=\"T_0eb3c_level0_col1\" class=\"col_heading level0 col1\" >q4</th>\n",
       "      <th id=\"T_0eb3c_level0_col2\" class=\"col_heading level0 col2\" >q3</th>\n",
       "      <th id=\"T_0eb3c_level0_col3\" class=\"col_heading level0 col3\" >q2</th>\n",
       "      <th id=\"T_0eb3c_level0_col4\" class=\"col_heading level0 col4\" >q1</th>\n",
       "      <th id=\"T_0eb3c_level0_col5\" class=\"col_heading level0 col5\" >dividend</th>\n",
       "      <th id=\"T_0eb3c_level0_col6\" class=\"col_heading level0 col6\" >shares</th>\n",
       "      <th id=\"T_0eb3c_level0_col7\" class=\"col_heading level0 col7\" >xdate</th>\n",
       "      <th id=\"T_0eb3c_level0_col8\" class=\"col_heading level0 col8\" >paiddate</th>\n",
       "      <th id=\"T_0eb3c_level0_col9\" class=\"col_heading level0 col9\" >kind</th>\n",
       "      <th id=\"T_0eb3c_level0_col10\" class=\"col_heading level0 col10\" >actual</th>\n",
       "    </tr>\n",
       "  </thead>\n",
       "  <tbody>\n",
       "    <tr>\n",
       "      <th id=\"T_0eb3c_level0_row0\" class=\"row_heading level0 row0\" >0</th>\n",
       "      <td id=\"T_0eb3c_row0_col0\" class=\"data row0 col0\" >GVREIT</td>\n",
       "      <td id=\"T_0eb3c_row0_col1\" class=\"data row0 col1\" >0.2044</td>\n",
       "      <td id=\"T_0eb3c_row0_col2\" class=\"data row0 col2\" >0.1911</td>\n",
       "      <td id=\"T_0eb3c_row0_col3\" class=\"data row0 col3\" >0.1963</td>\n",
       "      <td id=\"T_0eb3c_row0_col4\" class=\"data row0 col4\" >0.2050</td>\n",
       "      <td id=\"T_0eb3c_row0_col5\" class=\"data row0 col5\" >0.7968</td>\n",
       "      <td id=\"T_0eb3c_row0_col6\" class=\"data row0 col6\" >60,000</td>\n",
       "      <td id=\"T_0eb3c_row0_col7\" class=\"data row0 col7\" >2025-02-26</td>\n",
       "      <td id=\"T_0eb3c_row0_col8\" class=\"data row0 col8\" >2025-03-12</td>\n",
       "      <td id=\"T_0eb3c_row0_col9\" class=\"data row0 col9\" ></td>\n",
       "      <td id=\"T_0eb3c_row0_col10\" class=\"data row0 col10\" >1</td>\n",
       "    </tr>\n",
       "  </tbody>\n",
       "</table>\n"
      ],
      "text/plain": [
       "<pandas.io.formats.style.Styler at 0x24e57561d30>"
      ]
     },
     "execution_count": 49,
     "metadata": {},
     "output_type": "execute_result"
    }
   ],
   "source": [
    "name = 'GVREIT'\n",
    "sql = \"\"\"\n",
    "SELECT * FROM DIVIDEND WHERE name = '%s'\"\"\"\n",
    "sql = sql % name\n",
    "dividend = pd.read_sql(sql, const)\n",
    "dividend.drop(['PRICE', 'PERCENT'], axis=1, inplace=True)\n",
    "dividend.columns = dividend.columns.str.lower()\n",
    "dividend['shares'] = dividend['shares'].astype('int64')\n",
    "dividend['xdate'] = pd.to_datetime(dividend['xdate'])\n",
    "dividend['paiddate'] = pd.to_datetime(dividend['paiddate'])\n",
    "dividend.style.format(format_dict)"
   ]
  },
  {
   "cell_type": "code",
   "execution_count": 43,
   "metadata": {},
   "outputs": [
    {
     "data": {
      "text/plain": [
       "'Records updated = 1'"
      ]
     },
     "execution_count": 43,
     "metadata": {},
     "output_type": "execute_result"
    }
   ],
   "source": [
    "q1 = 0.2050\n",
    "XDATE = '2025-02-26'\n",
    "PAIDDATE = '2025-03-12'\n",
    "actual = 1\n",
    "\n",
    "update_dividend1(q1,XDATE,PAIDDATE,actual,name)"
   ]
  },
  {
   "cell_type": "code",
   "execution_count": 45,
   "metadata": {},
   "outputs": [
    {
     "data": {
      "text/html": [
       "<style type=\"text/css\">\n",
       "</style>\n",
       "<table id=\"T_c3608\">\n",
       "  <thead>\n",
       "    <tr>\n",
       "      <th class=\"blank level0\" >&nbsp;</th>\n",
       "      <th id=\"T_c3608_level0_col0\" class=\"col_heading level0 col0\" >name</th>\n",
       "      <th id=\"T_c3608_level0_col1\" class=\"col_heading level0 col1\" >q4</th>\n",
       "      <th id=\"T_c3608_level0_col2\" class=\"col_heading level0 col2\" >q3</th>\n",
       "      <th id=\"T_c3608_level0_col3\" class=\"col_heading level0 col3\" >q2</th>\n",
       "      <th id=\"T_c3608_level0_col4\" class=\"col_heading level0 col4\" >q1</th>\n",
       "      <th id=\"T_c3608_level0_col5\" class=\"col_heading level0 col5\" >dividend</th>\n",
       "      <th id=\"T_c3608_level0_col6\" class=\"col_heading level0 col6\" >shares</th>\n",
       "      <th id=\"T_c3608_level0_col7\" class=\"col_heading level0 col7\" >xdate</th>\n",
       "      <th id=\"T_c3608_level0_col8\" class=\"col_heading level0 col8\" >paiddate</th>\n",
       "      <th id=\"T_c3608_level0_col9\" class=\"col_heading level0 col9\" >kind</th>\n",
       "      <th id=\"T_c3608_level0_col10\" class=\"col_heading level0 col10\" >actual</th>\n",
       "    </tr>\n",
       "  </thead>\n",
       "  <tbody>\n",
       "    <tr>\n",
       "      <th id=\"T_c3608_level0_row0\" class=\"row_heading level0 row0\" >0</th>\n",
       "      <td id=\"T_c3608_row0_col0\" class=\"data row0 col0\" >GVREIT</td>\n",
       "      <td id=\"T_c3608_row0_col1\" class=\"data row0 col1\" >0.2044</td>\n",
       "      <td id=\"T_c3608_row0_col2\" class=\"data row0 col2\" >0.1911</td>\n",
       "      <td id=\"T_c3608_row0_col3\" class=\"data row0 col3\" >0.1963</td>\n",
       "      <td id=\"T_c3608_row0_col4\" class=\"data row0 col4\" >0.2050</td>\n",
       "      <td id=\"T_c3608_row0_col5\" class=\"data row0 col5\" >0.7968</td>\n",
       "      <td id=\"T_c3608_row0_col6\" class=\"data row0 col6\" >60,000</td>\n",
       "      <td id=\"T_c3608_row0_col7\" class=\"data row0 col7\" >2025-02-26</td>\n",
       "      <td id=\"T_c3608_row0_col8\" class=\"data row0 col8\" >2025-03-12</td>\n",
       "      <td id=\"T_c3608_row0_col9\" class=\"data row0 col9\" ></td>\n",
       "      <td id=\"T_c3608_row0_col10\" class=\"data row0 col10\" >1</td>\n",
       "    </tr>\n",
       "  </tbody>\n",
       "</table>\n"
      ],
      "text/plain": [
       "<pandas.io.formats.style.Styler at 0x24e575634d0>"
      ]
     },
     "execution_count": 45,
     "metadata": {},
     "output_type": "execute_result"
    }
   ],
   "source": [
    "sql = \"\"\"\n",
    "SELECT * FROM DIVIDEND WHERE name = '%s'\"\"\"\n",
    "sql = sql % name\n",
    "dividend = pd.read_sql(sql, const)\n",
    "dividend.drop(['PRICE', 'PERCENT'], axis=1, inplace=True)\n",
    "dividend.columns = dividend.columns.str.lower()\n",
    "dividend['shares'] = dividend['shares'].astype('int64')\n",
    "dividend['xdate'] = pd.to_datetime(dividend['xdate'])\n",
    "dividend['paiddate'] = pd.to_datetime(dividend['paiddate'])\n",
    "dividend.style.format(format_dict)"
   ]
  },
  {
   "cell_type": "code",
   "execution_count": 27,
   "metadata": {},
   "outputs": [],
   "source": [
    "def update_dividend2(shares, q1, actual, name):\n",
    "    # Use parameterized query to avoid SQL injection\n",
    "    sql = text(\"\"\"\n",
    "        UPDATE dividend \n",
    "        SET q1 = :q1, \n",
    "            dividend = q1 + q2 + q3 + q4, \n",
    "            shares = :shares, \n",
    "            actual = :actual \n",
    "        WHERE name = :name\n",
    "    \"\"\")\n",
    "    \n",
    "    # Execute the query with parameters\n",
    "    rp = const.execute(sql, {\n",
    "        'q1': q1,\n",
    "        'shares': shares,\n",
    "        'actual': actual,\n",
    "        'name': name\n",
    "    })\n",
    "    \n",
    "    return f\"Records updated = {rp.rowcount}\""
   ]
  },
  {
   "cell_type": "code",
   "execution_count": 31,
   "metadata": {},
   "outputs": [
    {
     "data": {
      "text/html": [
       "<style type=\"text/css\">\n",
       "</style>\n",
       "<table id=\"T_c51a4\">\n",
       "  <thead>\n",
       "    <tr>\n",
       "      <th class=\"blank level0\" >&nbsp;</th>\n",
       "      <th id=\"T_c51a4_level0_col0\" class=\"col_heading level0 col0\" >name</th>\n",
       "      <th id=\"T_c51a4_level0_col1\" class=\"col_heading level0 col1\" >q4</th>\n",
       "      <th id=\"T_c51a4_level0_col2\" class=\"col_heading level0 col2\" >q3</th>\n",
       "      <th id=\"T_c51a4_level0_col3\" class=\"col_heading level0 col3\" >q2</th>\n",
       "      <th id=\"T_c51a4_level0_col4\" class=\"col_heading level0 col4\" >q1</th>\n",
       "      <th id=\"T_c51a4_level0_col5\" class=\"col_heading level0 col5\" >dividend</th>\n",
       "      <th id=\"T_c51a4_level0_col6\" class=\"col_heading level0 col6\" >shares</th>\n",
       "      <th id=\"T_c51a4_level0_col7\" class=\"col_heading level0 col7\" >xdate</th>\n",
       "      <th id=\"T_c51a4_level0_col8\" class=\"col_heading level0 col8\" >paiddate</th>\n",
       "      <th id=\"T_c51a4_level0_col9\" class=\"col_heading level0 col9\" >kind</th>\n",
       "      <th id=\"T_c51a4_level0_col10\" class=\"col_heading level0 col10\" >actual</th>\n",
       "    </tr>\n",
       "  </thead>\n",
       "  <tbody>\n",
       "    <tr>\n",
       "      <th id=\"T_c51a4_level0_row0\" class=\"row_heading level0 row0\" >0</th>\n",
       "      <td id=\"T_c51a4_row0_col0\" class=\"data row0 col0\" >GVREIT</td>\n",
       "      <td id=\"T_c51a4_row0_col1\" class=\"data row0 col1\" >0.2044</td>\n",
       "      <td id=\"T_c51a4_row0_col2\" class=\"data row0 col2\" >0.1911</td>\n",
       "      <td id=\"T_c51a4_row0_col3\" class=\"data row0 col3\" >0.1963</td>\n",
       "      <td id=\"T_c51a4_row0_col4\" class=\"data row0 col4\" >0.2050</td>\n",
       "      <td id=\"T_c51a4_row0_col5\" class=\"data row0 col5\" >0.7968</td>\n",
       "      <td id=\"T_c51a4_row0_col6\" class=\"data row0 col6\" >60,000</td>\n",
       "      <td id=\"T_c51a4_row0_col7\" class=\"data row0 col7\" >2025-02-26</td>\n",
       "      <td id=\"T_c51a4_row0_col8\" class=\"data row0 col8\" >2025-03-12</td>\n",
       "      <td id=\"T_c51a4_row0_col9\" class=\"data row0 col9\" ></td>\n",
       "      <td id=\"T_c51a4_row0_col10\" class=\"data row0 col10\" >1</td>\n",
       "    </tr>\n",
       "  </tbody>\n",
       "</table>\n"
      ],
      "text/plain": [
       "<pandas.io.formats.style.Styler at 0x24e55a60980>"
      ]
     },
     "execution_count": 31,
     "metadata": {},
     "output_type": "execute_result"
    }
   ],
   "source": [
    "sql = \"\"\"\n",
    "SELECT * \n",
    "FROM DIVIDEND\n",
    "WHERE name = '%s'\n",
    "\"\"\"\n",
    "sql = sql % name\n",
    "dividend = pd.read_sql(sql, const)\n",
    "dividend.drop(['PRICE', 'PERCENT'], axis=1, inplace=True)\n",
    "dividend.columns = dividend.columns.str.lower()\n",
    "dividend['shares'] = dividend['shares'].astype('int64')\n",
    "dividend['xdate'] = pd.to_datetime(dividend['xdate'])\n",
    "dividend['paiddate'] = pd.to_datetime(dividend['paiddate'])\n",
    "dividend.style.format(format_dict)"
   ]
  },
  {
   "cell_type": "code",
   "execution_count": 9,
   "metadata": {},
   "outputs": [],
   "source": [
    "shares = 20000\n",
    "q1 = 0\n",
    "actual = 0"
   ]
  },
  {
   "cell_type": "code",
   "execution_count": 11,
   "metadata": {},
   "outputs": [
    {
     "data": {
      "text/plain": [
       "'Records updated = 1'"
      ]
     },
     "execution_count": 11,
     "metadata": {},
     "output_type": "execute_result"
    }
   ],
   "source": [
    "update_dividend2(shares,q1,actual,name)"
   ]
  },
  {
   "cell_type": "markdown",
   "metadata": {},
   "source": [
    "### Toggle actual status"
   ]
  },
  {
   "cell_type": "code",
   "execution_count": 2,
   "metadata": {},
   "outputs": [
    {
     "data": {
      "text/plain": [
       "1"
      ]
     },
     "execution_count": 2,
     "metadata": {},
     "output_type": "execute_result"
    }
   ],
   "source": [
    "name = 'BCT'\n",
    "actual = 0\n",
    "sqlUpd = \"UPDATE dividend SET actual = %s WHERE name = '%s'\"\n",
    "sqlUpd = sqlUpd % (actual, name)\n",
    "rp = const.execute(sqlUpd)\n",
    "rp.rowcount"
   ]
  },
  {
   "cell_type": "markdown",
   "metadata": {},
   "source": [
    "### Delete dividend record"
   ]
  },
  {
   "cell_type": "code",
   "execution_count": 10,
   "metadata": {},
   "outputs": [
    {
     "data": {
      "text/plain": [
       "1"
      ]
     },
     "execution_count": 10,
     "metadata": {},
     "output_type": "execute_result"
    }
   ],
   "source": [
    "sqlDel = '''\n",
    "DELETE FROM dividend\n",
    "WHERE name IN (\"MC\")\n",
    "'''\n",
    "#rp = const.execute(sqlDel)\n",
    "rp.rowcount"
   ]
  },
  {
   "cell_type": "markdown",
   "metadata": {},
   "source": [
    "### Start of output to cloud"
   ]
  },
  {
   "cell_type": "code",
   "execution_count": 5,
   "metadata": {},
   "outputs": [],
   "source": [
    "cols = 'name qtrly shares amount net xdate paiddate cost_amt pct actual'.split()"
   ]
  },
  {
   "cell_type": "code",
   "execution_count": 6,
   "metadata": {
    "scrolled": true
   },
   "outputs": [
    {
     "name": "stdout",
     "output_type": "stream",
     "text": [
      "\n",
      "SELECT Y.NAME AS name,  Q1 AS qtrly, SHARES, XDATE, PAIDDATE, \n",
      "P.price AS price, Y.DIVIDEND, ACTUAL, B.price * B.volbuy AS cost_amt\n",
      "FROM dividend AS Y, price AS P, buy AS B\n",
      "WHERE Y.name = P.name \n",
      "AND Y.name = B.name \n",
      "AND Q1 > 0 \n",
      "AND P.date = '2024-05-24'\n",
      "ORDER BY name\n",
      "\n"
     ]
    }
   ],
   "source": [
    "sql = \"\"\"\n",
    "SELECT Y.NAME AS name,  Q1 AS qtrly, SHARES, XDATE, PAIDDATE, \n",
    "P.price AS price, Y.DIVIDEND, ACTUAL, B.price * B.volbuy AS cost_amt\n",
    "FROM dividend AS Y, price AS P, buy AS B\n",
    "WHERE Y.name = P.name \n",
    "AND Y.name = B.name \n",
    "AND Q1 > 0 \n",
    "AND P.date = '%s'\n",
    "ORDER BY name\n",
    "\"\"\"\n",
    "sql = sql % yesterday \n",
    "print(sql)"
   ]
  },
  {
   "cell_type": "code",
   "execution_count": 7,
   "metadata": {},
   "outputs": [
    {
     "data": {
      "text/html": [
       "<style type=\"text/css\">\n",
       "</style>\n",
       "<table id=\"T_3d053_\">\n",
       "  <thead>\n",
       "    <tr>\n",
       "      <th class=\"blank level0\" >&nbsp;</th>\n",
       "      <th class=\"col_heading level0 col0\" >name</th>\n",
       "      <th class=\"col_heading level0 col1\" >qtrly</th>\n",
       "      <th class=\"col_heading level0 col2\" >shares</th>\n",
       "      <th class=\"col_heading level0 col3\" >amount</th>\n",
       "      <th class=\"col_heading level0 col4\" >net</th>\n",
       "      <th class=\"col_heading level0 col5\" >xdate</th>\n",
       "      <th class=\"col_heading level0 col6\" >paiddate</th>\n",
       "      <th class=\"col_heading level0 col7\" >cost_amt</th>\n",
       "      <th class=\"col_heading level0 col8\" >pct</th>\n",
       "      <th class=\"col_heading level0 col9\" >actual</th>\n",
       "    </tr>\n",
       "  </thead>\n",
       "  <tbody>\n",
       "    <tr>\n",
       "      <th id=\"T_3d053_level0_row0\" class=\"row_heading level0 row0\" >0</th>\n",
       "      <td id=\"T_3d053_row0_col0\" class=\"data row0 col0\" >AIMIRT</td>\n",
       "      <td id=\"T_3d053_row0_col1\" class=\"data row0 col1\" >0.2867</td>\n",
       "      <td id=\"T_3d053_row0_col2\" class=\"data row0 col2\" >10,000</td>\n",
       "      <td id=\"T_3d053_row0_col3\" class=\"data row0 col3\" >2,867.00</td>\n",
       "      <td id=\"T_3d053_row0_col4\" class=\"data row0 col4\" >2,580.30</td>\n",
       "      <td id=\"T_3d053_row0_col5\" class=\"data row0 col5\" >2024-05-27</td>\n",
       "      <td id=\"T_3d053_row0_col6\" class=\"data row0 col6\" >2024-06-13</td>\n",
       "      <td id=\"T_3d053_row0_col7\" class=\"data row0 col7\" >110,000.00</td>\n",
       "      <td id=\"T_3d053_row0_col8\" class=\"data row0 col8\" >2.35%</td>\n",
       "      <td id=\"T_3d053_row0_col9\" class=\"data row0 col9\" >1</td>\n",
       "    </tr>\n",
       "    <tr>\n",
       "      <th id=\"T_3d053_level0_row1\" class=\"row_heading level0 row1\" >1</th>\n",
       "      <td id=\"T_3d053_row1_col0\" class=\"data row1 col0\" >CPNREIT</td>\n",
       "      <td id=\"T_3d053_row1_col1\" class=\"data row1 col1\" >0.3618</td>\n",
       "      <td id=\"T_3d053_row1_col2\" class=\"data row1 col2\" >60,000</td>\n",
       "      <td id=\"T_3d053_row1_col3\" class=\"data row1 col3\" >21,708.00</td>\n",
       "      <td id=\"T_3d053_row1_col4\" class=\"data row1 col4\" >19,537.20</td>\n",
       "      <td id=\"T_3d053_row1_col5\" class=\"data row1 col5\" >2024-04-30</td>\n",
       "      <td id=\"T_3d053_row1_col6\" class=\"data row1 col6\" >2024-05-17</td>\n",
       "      <td id=\"T_3d053_row1_col7\" class=\"data row1 col7\" >1,053,000.00</td>\n",
       "      <td id=\"T_3d053_row1_col8\" class=\"data row1 col8\" >1.86%</td>\n",
       "      <td id=\"T_3d053_row1_col9\" class=\"data row1 col9\" >1</td>\n",
       "    </tr>\n",
       "    <tr>\n",
       "      <th id=\"T_3d053_level0_row2\" class=\"row_heading level0 row2\" >2</th>\n",
       "      <td id=\"T_3d053_row2_col0\" class=\"data row2 col0\" >DIF</td>\n",
       "      <td id=\"T_3d053_row2_col1\" class=\"data row2 col1\" >0.2222</td>\n",
       "      <td id=\"T_3d053_row2_col2\" class=\"data row2 col2\" >30,000</td>\n",
       "      <td id=\"T_3d053_row2_col3\" class=\"data row2 col3\" >6,666.00</td>\n",
       "      <td id=\"T_3d053_row2_col4\" class=\"data row2 col4\" >5,999.40</td>\n",
       "      <td id=\"T_3d053_row2_col5\" class=\"data row2 col5\" >2024-05-14</td>\n",
       "      <td id=\"T_3d053_row2_col6\" class=\"data row2 col6\" >2024-06-07</td>\n",
       "      <td id=\"T_3d053_row2_col7\" class=\"data row2 col7\" >441,000.00</td>\n",
       "      <td id=\"T_3d053_row2_col8\" class=\"data row2 col8\" >1.36%</td>\n",
       "      <td id=\"T_3d053_row2_col9\" class=\"data row2 col9\" >1</td>\n",
       "    </tr>\n",
       "    <tr>\n",
       "      <th id=\"T_3d053_level0_row3\" class=\"row_heading level0 row3\" >3</th>\n",
       "      <td id=\"T_3d053_row3_col0\" class=\"data row3 col0\" >GVREIT</td>\n",
       "      <td id=\"T_3d053_row3_col1\" class=\"data row3 col1\" >0.1915</td>\n",
       "      <td id=\"T_3d053_row3_col2\" class=\"data row3 col2\" >66,000</td>\n",
       "      <td id=\"T_3d053_row3_col3\" class=\"data row3 col3\" >12,639.00</td>\n",
       "      <td id=\"T_3d053_row3_col4\" class=\"data row3 col4\" >11,375.10</td>\n",
       "      <td id=\"T_3d053_row3_col5\" class=\"data row3 col5\" >2024-02-27</td>\n",
       "      <td id=\"T_3d053_row3_col6\" class=\"data row3 col6\" >2024-03-13</td>\n",
       "      <td id=\"T_3d053_row3_col7\" class=\"data row3 col7\" >511,500.00</td>\n",
       "      <td id=\"T_3d053_row3_col8\" class=\"data row3 col8\" >2.22%</td>\n",
       "      <td id=\"T_3d053_row3_col9\" class=\"data row3 col9\" >1</td>\n",
       "    </tr>\n",
       "    <tr>\n",
       "      <th id=\"T_3d053_level0_row4\" class=\"row_heading level0 row4\" >4</th>\n",
       "      <td id=\"T_3d053_row4_col0\" class=\"data row4 col0\" >IVL</td>\n",
       "      <td id=\"T_3d053_row4_col1\" class=\"data row4 col1\" >0.1750</td>\n",
       "      <td id=\"T_3d053_row4_col2\" class=\"data row4 col2\" >7,200</td>\n",
       "      <td id=\"T_3d053_row4_col3\" class=\"data row4 col3\" >1,260.00</td>\n",
       "      <td id=\"T_3d053_row4_col4\" class=\"data row4 col4\" >1,134.00</td>\n",
       "      <td id=\"T_3d053_row4_col5\" class=\"data row4 col5\" >2024-05-24</td>\n",
       "      <td id=\"T_3d053_row4_col6\" class=\"data row4 col6\" >2024-06-12</td>\n",
       "      <td id=\"T_3d053_row4_col7\" class=\"data row4 col7\" >288,000.00</td>\n",
       "      <td id=\"T_3d053_row4_col8\" class=\"data row4 col8\" >0.39%</td>\n",
       "      <td id=\"T_3d053_row4_col9\" class=\"data row4 col9\" >1</td>\n",
       "    </tr>\n",
       "    <tr>\n",
       "      <th id=\"T_3d053_level0_row5\" class=\"row_heading level0 row5\" >5</th>\n",
       "      <td id=\"T_3d053_row5_col0\" class=\"data row5 col0\" >TFFIF</td>\n",
       "      <td id=\"T_3d053_row5_col1\" class=\"data row5 col1\" >0.1032</td>\n",
       "      <td id=\"T_3d053_row5_col2\" class=\"data row5 col2\" >20,000</td>\n",
       "      <td id=\"T_3d053_row5_col3\" class=\"data row5 col3\" >2,064.00</td>\n",
       "      <td id=\"T_3d053_row5_col4\" class=\"data row5 col4\" >1,857.60</td>\n",
       "      <td id=\"T_3d053_row5_col5\" class=\"data row5 col5\" >2024-03-06</td>\n",
       "      <td id=\"T_3d053_row5_col6\" class=\"data row5 col6\" >2024-03-20</td>\n",
       "      <td id=\"T_3d053_row5_col7\" class=\"data row5 col7\" >150,000.00</td>\n",
       "      <td id=\"T_3d053_row5_col8\" class=\"data row5 col8\" >1.24%</td>\n",
       "      <td id=\"T_3d053_row5_col9\" class=\"data row5 col9\" >1</td>\n",
       "    </tr>\n",
       "    <tr>\n",
       "      <th id=\"T_3d053_level0_row6\" class=\"row_heading level0 row6\" >6</th>\n",
       "      <td id=\"T_3d053_row6_col0\" class=\"data row6 col0\" >WHAIR</td>\n",
       "      <td id=\"T_3d053_row6_col1\" class=\"data row6 col1\" >0.1369</td>\n",
       "      <td id=\"T_3d053_row6_col2\" class=\"data row6 col2\" >50,000</td>\n",
       "      <td id=\"T_3d053_row6_col3\" class=\"data row6 col3\" >6,845.00</td>\n",
       "      <td id=\"T_3d053_row6_col4\" class=\"data row6 col4\" >6,160.50</td>\n",
       "      <td id=\"T_3d053_row6_col5\" class=\"data row6 col5\" >2024-03-04</td>\n",
       "      <td id=\"T_3d053_row6_col6\" class=\"data row6 col6\" >2024-03-29</td>\n",
       "      <td id=\"T_3d053_row6_col7\" class=\"data row6 col7\" >435,000.00</td>\n",
       "      <td id=\"T_3d053_row6_col8\" class=\"data row6 col8\" >1.42%</td>\n",
       "      <td id=\"T_3d053_row6_col9\" class=\"data row6 col9\" >1</td>\n",
       "    </tr>\n",
       "    <tr>\n",
       "      <th id=\"T_3d053_level0_row7\" class=\"row_heading level0 row7\" >7</th>\n",
       "      <td id=\"T_3d053_row7_col0\" class=\"data row7 col0\" >WHART</td>\n",
       "      <td id=\"T_3d053_row7_col1\" class=\"data row7 col1\" >0.1915</td>\n",
       "      <td id=\"T_3d053_row7_col2\" class=\"data row7 col2\" >25,000</td>\n",
       "      <td id=\"T_3d053_row7_col3\" class=\"data row7 col3\" >4,787.50</td>\n",
       "      <td id=\"T_3d053_row7_col4\" class=\"data row7 col4\" >4,308.75</td>\n",
       "      <td id=\"T_3d053_row7_col5\" class=\"data row7 col5\" >2024-05-21</td>\n",
       "      <td id=\"T_3d053_row7_col6\" class=\"data row7 col6\" >2024-06-07</td>\n",
       "      <td id=\"T_3d053_row7_col7\" class=\"data row7 col7\" >290,000.00</td>\n",
       "      <td id=\"T_3d053_row7_col8\" class=\"data row7 col8\" >1.49%</td>\n",
       "      <td id=\"T_3d053_row7_col9\" class=\"data row7 col9\" >1</td>\n",
       "    </tr>\n",
       "  </tbody>\n",
       "</table>\n"
      ],
      "text/plain": [
       "<pandas.io.formats.style.Styler at 0x25722728940>"
      ]
     },
     "execution_count": 7,
     "metadata": {},
     "output_type": "execute_result"
    }
   ],
   "source": [
    "dividend = pd.read_sql(sql, const)\n",
    "dividend.columns = dividend.columns.str.lower()\n",
    "dividend['shares'] = dividend['shares'].astype('int64')\n",
    "dividend['xdate'] = pd.to_datetime(dividend['xdate'])\n",
    "dividend['paiddate'] = pd.to_datetime(dividend['paiddate'])\n",
    "dividend['amount'] = round(dividend['shares'] * dividend['qtrly'], 2)\n",
    "dividend['net'] = round(dividend['amount'] * 0.9, 2)\n",
    "dividend['pct'] = round(dividend['net'] / dividend['cost_amt'] * 100, 2)\n",
    "dividend[cols].style.format(format_dict)"
   ]
  },
  {
   "cell_type": "code",
   "execution_count": 8,
   "metadata": {},
   "outputs": [
    {
     "data": {
      "text/plain": [
       "52952.85"
      ]
     },
     "execution_count": 8,
     "metadata": {},
     "output_type": "execute_result"
    }
   ],
   "source": [
    "dividend.net.sum()"
   ]
  },
  {
   "cell_type": "code",
   "execution_count": 9,
   "metadata": {},
   "outputs": [],
   "source": [
    "file_name = 'dividend-q1.csv'\n",
    "data_file = data_path + file_name\n",
    "output_file = csv_path + file_name\n",
    "osd_file = osd_path + file_name\n",
    "one_file = one_path + file_name\n",
    "\n",
    "dividend[cols].sort_values(['name'],ascending=[True]).to_csv(output_file, index=False)\n",
    "dividend[cols].sort_values(['name'],ascending=[True]).to_csv(data_file, index=False)\n",
    "dividend[cols].sort_values(['name'],ascending=[True]).to_csv(osd_file, index=False)\n",
    "dividend[cols].sort_values(['name'],ascending=[True]).to_csv(one_file, index=False)"
   ]
  },
  {
   "cell_type": "code",
   "execution_count": 10,
   "metadata": {},
   "outputs": [],
   "source": [
    "file_name = 'dividend-q1.xlsx'\n",
    "data_file = data_path + file_name\n",
    "output_file = csv_path + file_name\n",
    "osd_file = osd_path + file_name\n",
    "one_file = one_path + file_name\n",
    "\n",
    "dividend[cols].sort_values(['name'],ascending=[True]).to_excel(output_file, index=False)\n",
    "dividend[cols].sort_values(['name'],ascending=[True]).to_excel(data_file, index=False)\n",
    "dividend[cols].sort_values(['name'],ascending=[True]).to_excel(osd_file, index=False)\n",
    "dividend[cols].sort_values(['name'],ascending=[True]).to_excel(one_file, index=False)"
   ]
  },
  {
   "cell_type": "markdown",
   "metadata": {},
   "source": [
    "### End of output to cloud"
   ]
  },
  {
   "cell_type": "code",
   "execution_count": null,
   "metadata": {},
   "outputs": [],
   "source": [
    "const.commit()\n",
    "const.close()"
   ]
  }
 ],
 "metadata": {
  "anaconda-cloud": {},
  "kernelspec": {
   "display_name": "Python 3 (ipykernel)",
   "language": "python",
   "name": "python3"
  },
  "language_info": {
   "codemirror_mode": {
    "name": "ipython",
    "version": 3
   },
   "file_extension": ".py",
   "mimetype": "text/x-python",
   "name": "python",
   "nbconvert_exporter": "python",
   "pygments_lexer": "ipython3",
   "version": "3.12.3"
  }
 },
 "nbformat": 4,
 "nbformat_minor": 4
}
