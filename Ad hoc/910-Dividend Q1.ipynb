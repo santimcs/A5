{
 "cells": [
  {
   "cell_type": "code",
   "execution_count": 38,
   "metadata": {},
   "outputs": [
    {
     "name": "stdout",
     "output_type": "stream",
     "text": [
      "2025-05-18 2025-05-17\n"
     ]
    }
   ],
   "source": [
    "import os\n",
    "import pandas as pd\n",
    "from sqlalchemy import create_engine, text\n",
    "from datetime import date, timedelta\n",
    "from pandas.tseries.offsets import *\n",
    "import calendar\n",
    "\n",
    "engine = create_engine(\"mysql+pymysql://root:@localhost:3306/stock\")\n",
    "const = engine.connect()\n",
    "engine = create_engine(\"sqlite:///c:\\\\ruby\\\\portlt\\\\db\\\\development.sqlite3\")\n",
    "conlt = engine.connect()\n",
    "\n",
    "year = 2025\n",
    "quarter = 1\n",
    "today = date.today()\n",
    "yesterday = today - timedelta(days=1)\n",
    "print(today, yesterday)"
   ]
  },
  {
   "cell_type": "code",
   "execution_count": 44,
   "metadata": {},
   "outputs": [
    {
     "name": "stdout",
     "output_type": "stream",
     "text": [
      "2025-05-18 2025-05-16\n"
     ]
    }
   ],
   "source": [
    "num_business_days = BDay(1)\n",
    "yesterday = today - num_business_days\n",
    "yesterday = yesterday.date()\n",
    "print(today, yesterday)"
   ]
  },
  {
   "cell_type": "markdown",
   "metadata": {},
   "source": [
    "### Today must be last business day"
   ]
  },
  {
   "cell_type": "code",
   "execution_count": 47,
   "metadata": {},
   "outputs": [
    {
     "name": "stdout",
     "output_type": "stream",
     "text": [
      "today: 2025-05-18\n",
      "Today in mm-dd format: 05-18\n",
      "yesterday: 2025-05-16\n"
     ]
    }
   ],
   "source": [
    "# convert the timedelta object to a BusinessDay object\n",
    "num_business_days = BDay(1)\n",
    "yesterday = today - num_business_days\n",
    "print(f'today: {today}')\n",
    "to_mmdd = today.strftime('%m-%d')\n",
    "yesterday = yesterday.date()\n",
    "print(f'Today in mm-dd format: {to_mmdd}')\n",
    "print(f'yesterday: {yesterday}')"
   ]
  },
  {
   "cell_type": "code",
   "execution_count": 49,
   "metadata": {},
   "outputs": [],
   "source": [
    "format_dict = {    \n",
    "    'shares':'{:,}',    \n",
    "    'q4':'{:.4f}','q3':'{:.4f}','q2':'{:.4f}','q1':'{:.4f}','dividend':'{:.4f}','qtrly':'{:.4f}',\n",
    "    'price':'{:.2f}',    \n",
    "    'amount':'{:,.2f}','net':'{:,.2f}','cost_amt':'{:,.2f}',\n",
    "    'yield':'{:,.2f}%','pct':'{:,.2f}%',\n",
    "    'xdate':'{:%Y-%m-%d}','paiddate':'{:%Y-%m-%d}',\n",
    "              }"
   ]
  },
  {
   "cell_type": "code",
   "execution_count": 51,
   "metadata": {},
   "outputs": [],
   "source": [
    "# Get the user's home directory\n",
    "user_path = os.path.expanduser('~')\n",
    "# Get the current working directory\n",
    "current_path = os.getcwd()\n",
    "# Derive the base directory (base_dir) by removing the last folder ('Daily')\n",
    "base_path = os.path.dirname(current_path)\n",
    "#C:\\Users\\PC1\\OneDrive\\A5\\Data\n",
    "dat_path = os.path.join(base_path, \"Data\")\n",
    "#C:\\Users\\PC1\\OneDrive\\Imports\\santisoontarinka@gmail.com - Google Drive\\Data>\n",
    "god_path = os.path.join(user_path, \"OneDrive\",\"Imports\",\"santisoontarinka@gmail.com - Google Drive\",\"Data\")\n",
    "#C:\\Users\\PC1\\iCloudDrive\\data\n",
    "icd_path = os.path.join(user_path, \"iCloudDrive\", \"Data\")\n",
    "#C:\\Users\\PC1\\OneDrive\\Documents\\obsidian-git-sync\\Data\n",
    "osd_path = os.path.join(user_path, \"OneDrive\",\"Documents\",\"obsidian-git-sync\",\"Data\")\n",
    "#C:\\Users\\PC1\\OneDrive\\A5\\Excel\n",
    "xsl_path = os.path.join(base_path, \"Excel\")"
   ]
  },
  {
   "cell_type": "code",
   "execution_count": 53,
   "metadata": {},
   "outputs": [
    {
     "name": "stdout",
     "output_type": "stream",
     "text": [
      "User path: C:\\Users\\PC1\n",
      "Current path: C:\\Users\\PC1\\OneDrive\\A5\\Ad hoc\n",
      "Base path: C:\\Users\\PC1\\OneDrive\\A5\n",
      "Data path (dat_path): C:\\Users\\PC1\\OneDrive\\A5\\Data\n",
      "Excel path (xsl_path): C:\\Users\\PC1\\OneDrive\\A5\\Excel\n",
      "Google Drive path (god_path): C:\\Users\\PC1\\OneDrive\\Imports\\santisoontarinka@gmail.com - Google Drive\\Data\n",
      "iCloudDrive path (icd_path): C:\\Users\\PC1\\iCloudDrive\\Data\n",
      "Obsidian path (osd_path): C:\\Users\\PC1\\OneDrive\\Documents\\obsidian-git-sync\\Data\n"
     ]
    }
   ],
   "source": [
    "print(\"User path:\", user_path)\n",
    "print(f\"Current path: {current_path}\")\n",
    "print(f\"Base path: {base_path}\")\n",
    "print(f\"Data path (dat_path): {dat_path}\") \n",
    "print(f\"Excel path (xsl_path): {xsl_path}\") \n",
    "print(f\"Google Drive path (god_path): {god_path}\")\n",
    "print(f\"iCloudDrive path (icd_path): {icd_path}\") \n",
    "print(f\"Obsidian path (osd_path): {osd_path}\")"
   ]
  },
  {
   "cell_type": "markdown",
   "metadata": {},
   "source": [
    "### New dividend stock"
   ]
  },
  {
   "cell_type": "code",
   "execution_count": 4,
   "metadata": {},
   "outputs": [
    {
     "data": {
      "text/html": [
       "<style type=\"text/css\">\n",
       "</style>\n",
       "<table id=\"T_ed42a_\">\n",
       "  <thead>\n",
       "    <tr>\n",
       "      <th class=\"blank level0\" >&nbsp;</th>\n",
       "      <th class=\"col_heading level0 col0\" >name</th>\n",
       "      <th class=\"col_heading level0 col1\" >q4</th>\n",
       "      <th class=\"col_heading level0 col2\" >q3</th>\n",
       "      <th class=\"col_heading level0 col3\" >q2</th>\n",
       "      <th class=\"col_heading level0 col4\" >q1</th>\n",
       "      <th class=\"col_heading level0 col5\" >dividend</th>\n",
       "      <th class=\"col_heading level0 col6\" >shares</th>\n",
       "      <th class=\"col_heading level0 col7\" >xdate</th>\n",
       "      <th class=\"col_heading level0 col8\" >paiddate</th>\n",
       "      <th class=\"col_heading level0 col9\" >kind</th>\n",
       "      <th class=\"col_heading level0 col10\" >actual</th>\n",
       "    </tr>\n",
       "  </thead>\n",
       "  <tbody>\n",
       "  </tbody>\n",
       "</table>\n"
      ],
      "text/plain": [
       "<pandas.io.formats.style.Styler at 0x1f75ddb0730>"
      ]
     },
     "execution_count": 4,
     "metadata": {},
     "output_type": "execute_result"
    }
   ],
   "source": [
    "name = 'WHAIR'\n",
    "sql = \"\"\"\n",
    "SELECT * \n",
    "FROM DIVIDEND\n",
    "WHERE name = '%s'\n",
    "\"\"\"\n",
    "sql = sql % name\n",
    "dividend = pd.read_sql(sql, const)\n",
    "dividend.drop(['PRICE', 'PERCENT'], axis=1, inplace=True)\n",
    "dividend.columns = dividend.columns.str.lower()\n",
    "dividend['shares'] = dividend['shares'].astype('int64')\n",
    "dividend['xdate'] = pd.to_datetime(dividend['xdate'])\n",
    "dividend['paiddate'] = pd.to_datetime(dividend['paiddate'])\n",
    "dividend.style.format(format_dict)"
   ]
  },
  {
   "cell_type": "code",
   "execution_count": 3,
   "metadata": {},
   "outputs": [
    {
     "ename": "ObjectNotExecutableError",
     "evalue": "Not an executable object: \"\\nINSERT INTO dividend\\nVALUES('xxx',.1738,0.1738,0.1738,0.1556,0,0,0,00,'2022-05-25','2022-06-22','',0)\\n\"",
     "output_type": "error",
     "traceback": [
      "\u001b[1;31m---------------------------------------------------------------------------\u001b[0m",
      "\u001b[1;31mAttributeError\u001b[0m                            Traceback (most recent call last)",
      "File \u001b[1;32m~\\anaconda3\\Lib\\site-packages\\sqlalchemy\\engine\\base.py:1414\u001b[0m, in \u001b[0;36mConnection.execute\u001b[1;34m(self, statement, parameters, execution_options)\u001b[0m\n\u001b[0;32m   1413\u001b[0m \u001b[38;5;28;01mtry\u001b[39;00m:\n\u001b[1;32m-> 1414\u001b[0m     meth \u001b[38;5;241m=\u001b[39m statement\u001b[38;5;241m.\u001b[39m_execute_on_connection\n\u001b[0;32m   1415\u001b[0m \u001b[38;5;28;01mexcept\u001b[39;00m \u001b[38;5;167;01mAttributeError\u001b[39;00m \u001b[38;5;28;01mas\u001b[39;00m err:\n",
      "\u001b[1;31mAttributeError\u001b[0m: 'str' object has no attribute '_execute_on_connection'",
      "\nThe above exception was the direct cause of the following exception:\n",
      "\u001b[1;31mObjectNotExecutableError\u001b[0m                  Traceback (most recent call last)",
      "Cell \u001b[1;32mIn[3], line 5\u001b[0m\n\u001b[0;32m      1\u001b[0m sqlIns \u001b[38;5;241m=\u001b[39m \u001b[38;5;124m\"\"\"\u001b[39m\n\u001b[0;32m      2\u001b[0m \u001b[38;5;124mINSERT INTO dividend\u001b[39m\n\u001b[0;32m      3\u001b[0m \u001b[38;5;124mVALUES(\u001b[39m\u001b[38;5;124m'\u001b[39m\u001b[38;5;124mxxx\u001b[39m\u001b[38;5;124m'\u001b[39m\u001b[38;5;124m,.1738,0.1738,0.1738,0.1556,0,0,0,00,\u001b[39m\u001b[38;5;124m'\u001b[39m\u001b[38;5;124m2022-05-25\u001b[39m\u001b[38;5;124m'\u001b[39m\u001b[38;5;124m,\u001b[39m\u001b[38;5;124m'\u001b[39m\u001b[38;5;124m2022-06-22\u001b[39m\u001b[38;5;124m'\u001b[39m\u001b[38;5;124m,\u001b[39m\u001b[38;5;124m'\u001b[39m\u001b[38;5;124m'\u001b[39m\u001b[38;5;124m,0)\u001b[39m\n\u001b[0;32m      4\u001b[0m \u001b[38;5;124m\"\"\"\u001b[39m\n\u001b[1;32m----> 5\u001b[0m rp \u001b[38;5;241m=\u001b[39m const\u001b[38;5;241m.\u001b[39mexecute(sqlIns)\n\u001b[0;32m      6\u001b[0m rp\u001b[38;5;241m.\u001b[39mrowcount\n",
      "File \u001b[1;32m~\\anaconda3\\Lib\\site-packages\\sqlalchemy\\engine\\base.py:1416\u001b[0m, in \u001b[0;36mConnection.execute\u001b[1;34m(self, statement, parameters, execution_options)\u001b[0m\n\u001b[0;32m   1414\u001b[0m     meth \u001b[38;5;241m=\u001b[39m statement\u001b[38;5;241m.\u001b[39m_execute_on_connection\n\u001b[0;32m   1415\u001b[0m \u001b[38;5;28;01mexcept\u001b[39;00m \u001b[38;5;167;01mAttributeError\u001b[39;00m \u001b[38;5;28;01mas\u001b[39;00m err:\n\u001b[1;32m-> 1416\u001b[0m     \u001b[38;5;28;01mraise\u001b[39;00m exc\u001b[38;5;241m.\u001b[39mObjectNotExecutableError(statement) \u001b[38;5;28;01mfrom\u001b[39;00m \u001b[38;5;21;01merr\u001b[39;00m\n\u001b[0;32m   1417\u001b[0m \u001b[38;5;28;01melse\u001b[39;00m:\n\u001b[0;32m   1418\u001b[0m     \u001b[38;5;28;01mreturn\u001b[39;00m meth(\n\u001b[0;32m   1419\u001b[0m         \u001b[38;5;28mself\u001b[39m,\n\u001b[0;32m   1420\u001b[0m         distilled_parameters,\n\u001b[0;32m   1421\u001b[0m         execution_options \u001b[38;5;129;01mor\u001b[39;00m NO_OPTIONS,\n\u001b[0;32m   1422\u001b[0m     )\n",
      "\u001b[1;31mObjectNotExecutableError\u001b[0m: Not an executable object: \"\\nINSERT INTO dividend\\nVALUES('xxx',.1738,0.1738,0.1738,0.1556,0,0,0,00,'2022-05-25','2022-06-22','',0)\\n\""
     ]
    }
   ],
   "source": [
    "sqlIns = \"\"\"\n",
    "INSERT INTO dividend\n",
    "VALUES('xxx',.1738,0.1738,0.1738,0.1556,0,0,0,00,'2022-05-25','2022-06-22','',0)\n",
    "\"\"\"\n",
    "rp = const.execute(sqlIns)\n",
    "rp.rowcount"
   ]
  },
  {
   "cell_type": "markdown",
   "metadata": {},
   "source": [
    "### Start of Update dividend"
   ]
  },
  {
   "cell_type": "code",
   "execution_count": 14,
   "metadata": {},
   "outputs": [],
   "source": [
    "def update_dividend1(q1, XDATE, PAIDDATE, actual, name):\n",
    "    # Use parameterized query to avoid SQL injection\n",
    "    sql = text(\"\"\"\n",
    "        UPDATE dividend \n",
    "        SET q1 = :q1, \n",
    "            dividend = q1 + q2 + q3 + q4, \n",
    "            XDATE = :XDATE, \n",
    "            PAIDDATE = :PAIDDATE, \n",
    "            actual = :actual \n",
    "        WHERE name = :name\n",
    "    \"\"\")\n",
    "    \n",
    "    # Execute the query with parameters\n",
    "    rp = const.execute(sql, {\n",
    "        'q1': q1,\n",
    "        'XDATE': XDATE,\n",
    "        'PAIDDATE': PAIDDATE,\n",
    "        'actual': actual,\n",
    "        'name': name\n",
    "    })\n",
    "    const.commit()\n",
    "    return f\"Records updated = {rp.rowcount}\""
   ]
  },
  {
   "cell_type": "code",
   "execution_count": 28,
   "metadata": {
    "scrolled": true
   },
   "outputs": [
    {
     "data": {
      "text/html": [
       "<style type=\"text/css\">\n",
       "</style>\n",
       "<table id=\"T_78803\">\n",
       "  <thead>\n",
       "    <tr>\n",
       "      <th class=\"blank level0\" >&nbsp;</th>\n",
       "      <th id=\"T_78803_level0_col0\" class=\"col_heading level0 col0\" >name</th>\n",
       "      <th id=\"T_78803_level0_col1\" class=\"col_heading level0 col1\" >q4</th>\n",
       "      <th id=\"T_78803_level0_col2\" class=\"col_heading level0 col2\" >q3</th>\n",
       "      <th id=\"T_78803_level0_col3\" class=\"col_heading level0 col3\" >q2</th>\n",
       "      <th id=\"T_78803_level0_col4\" class=\"col_heading level0 col4\" >q1</th>\n",
       "      <th id=\"T_78803_level0_col5\" class=\"col_heading level0 col5\" >dividend</th>\n",
       "      <th id=\"T_78803_level0_col6\" class=\"col_heading level0 col6\" >shares</th>\n",
       "      <th id=\"T_78803_level0_col7\" class=\"col_heading level0 col7\" >xdate</th>\n",
       "      <th id=\"T_78803_level0_col8\" class=\"col_heading level0 col8\" >paiddate</th>\n",
       "      <th id=\"T_78803_level0_col9\" class=\"col_heading level0 col9\" >kind</th>\n",
       "      <th id=\"T_78803_level0_col10\" class=\"col_heading level0 col10\" >actual</th>\n",
       "    </tr>\n",
       "  </thead>\n",
       "  <tbody>\n",
       "    <tr>\n",
       "      <th id=\"T_78803_level0_row0\" class=\"row_heading level0 row0\" >0</th>\n",
       "      <td id=\"T_78803_row0_col0\" class=\"data row0 col0\" >GVREIT</td>\n",
       "      <td id=\"T_78803_row0_col1\" class=\"data row0 col1\" >0.2044</td>\n",
       "      <td id=\"T_78803_row0_col2\" class=\"data row0 col2\" >0.1911</td>\n",
       "      <td id=\"T_78803_row0_col3\" class=\"data row0 col3\" >0.1963</td>\n",
       "      <td id=\"T_78803_row0_col4\" class=\"data row0 col4\" >0.2050</td>\n",
       "      <td id=\"T_78803_row0_col5\" class=\"data row0 col5\" >0.7968</td>\n",
       "      <td id=\"T_78803_row0_col6\" class=\"data row0 col6\" >75,000</td>\n",
       "      <td id=\"T_78803_row0_col7\" class=\"data row0 col7\" >2025-02-26</td>\n",
       "      <td id=\"T_78803_row0_col8\" class=\"data row0 col8\" >2025-03-12</td>\n",
       "      <td id=\"T_78803_row0_col9\" class=\"data row0 col9\" ></td>\n",
       "      <td id=\"T_78803_row0_col10\" class=\"data row0 col10\" >1</td>\n",
       "    </tr>\n",
       "  </tbody>\n",
       "</table>\n"
      ],
      "text/plain": [
       "<pandas.io.formats.style.Styler at 0x25207e765a0>"
      ]
     },
     "execution_count": 28,
     "metadata": {},
     "output_type": "execute_result"
    }
   ],
   "source": [
    "name = 'GVREIT'\n",
    "sql = \"\"\"\n",
    "SELECT * FROM DIVIDEND WHERE name = '%s'\"\"\"\n",
    "sql = sql % name\n",
    "dividend = pd.read_sql(sql, const)\n",
    "dividend.drop(['PRICE', 'PERCENT'], axis=1, inplace=True)\n",
    "dividend.columns = dividend.columns.str.lower()\n",
    "dividend['shares'] = dividend['shares'].astype('int64')\n",
    "dividend['xdate'] = pd.to_datetime(dividend['xdate'])\n",
    "dividend['paiddate'] = pd.to_datetime(dividend['paiddate'])\n",
    "dividend.style.format(format_dict)"
   ]
  },
  {
   "cell_type": "code",
   "execution_count": 34,
   "metadata": {},
   "outputs": [
    {
     "data": {
      "text/plain": [
       "'Records updated = 1'"
      ]
     },
     "execution_count": 34,
     "metadata": {},
     "output_type": "execute_result"
    }
   ],
   "source": [
    "q1 = 0.2050\n",
    "XDATE = '2025-05-28'\n",
    "PAIDDATE = '2025-06-12'\n",
    "actual = 1\n",
    "\n",
    "update_dividend1(q1,XDATE,PAIDDATE,actual,name)"
   ]
  },
  {
   "cell_type": "code",
   "execution_count": 36,
   "metadata": {},
   "outputs": [
    {
     "data": {
      "text/html": [
       "<style type=\"text/css\">\n",
       "</style>\n",
       "<table id=\"T_30e4c\">\n",
       "  <thead>\n",
       "    <tr>\n",
       "      <th class=\"blank level0\" >&nbsp;</th>\n",
       "      <th id=\"T_30e4c_level0_col0\" class=\"col_heading level0 col0\" >name</th>\n",
       "      <th id=\"T_30e4c_level0_col1\" class=\"col_heading level0 col1\" >q4</th>\n",
       "      <th id=\"T_30e4c_level0_col2\" class=\"col_heading level0 col2\" >q3</th>\n",
       "      <th id=\"T_30e4c_level0_col3\" class=\"col_heading level0 col3\" >q2</th>\n",
       "      <th id=\"T_30e4c_level0_col4\" class=\"col_heading level0 col4\" >q1</th>\n",
       "      <th id=\"T_30e4c_level0_col5\" class=\"col_heading level0 col5\" >dividend</th>\n",
       "      <th id=\"T_30e4c_level0_col6\" class=\"col_heading level0 col6\" >shares</th>\n",
       "      <th id=\"T_30e4c_level0_col7\" class=\"col_heading level0 col7\" >xdate</th>\n",
       "      <th id=\"T_30e4c_level0_col8\" class=\"col_heading level0 col8\" >paiddate</th>\n",
       "      <th id=\"T_30e4c_level0_col9\" class=\"col_heading level0 col9\" >kind</th>\n",
       "      <th id=\"T_30e4c_level0_col10\" class=\"col_heading level0 col10\" >actual</th>\n",
       "    </tr>\n",
       "  </thead>\n",
       "  <tbody>\n",
       "    <tr>\n",
       "      <th id=\"T_30e4c_level0_row0\" class=\"row_heading level0 row0\" >0</th>\n",
       "      <td id=\"T_30e4c_row0_col0\" class=\"data row0 col0\" >GVREIT</td>\n",
       "      <td id=\"T_30e4c_row0_col1\" class=\"data row0 col1\" >0.2044</td>\n",
       "      <td id=\"T_30e4c_row0_col2\" class=\"data row0 col2\" >0.1911</td>\n",
       "      <td id=\"T_30e4c_row0_col3\" class=\"data row0 col3\" >0.1963</td>\n",
       "      <td id=\"T_30e4c_row0_col4\" class=\"data row0 col4\" >0.2050</td>\n",
       "      <td id=\"T_30e4c_row0_col5\" class=\"data row0 col5\" >0.7968</td>\n",
       "      <td id=\"T_30e4c_row0_col6\" class=\"data row0 col6\" >75,000</td>\n",
       "      <td id=\"T_30e4c_row0_col7\" class=\"data row0 col7\" >2025-05-28</td>\n",
       "      <td id=\"T_30e4c_row0_col8\" class=\"data row0 col8\" >2025-06-12</td>\n",
       "      <td id=\"T_30e4c_row0_col9\" class=\"data row0 col9\" ></td>\n",
       "      <td id=\"T_30e4c_row0_col10\" class=\"data row0 col10\" >1</td>\n",
       "    </tr>\n",
       "  </tbody>\n",
       "</table>\n"
      ],
      "text/plain": [
       "<pandas.io.formats.style.Styler at 0x25208d174d0>"
      ]
     },
     "execution_count": 36,
     "metadata": {},
     "output_type": "execute_result"
    }
   ],
   "source": [
    "sql = \"\"\"\n",
    "SELECT * FROM DIVIDEND WHERE name = '%s'\"\"\"\n",
    "sql = sql % name\n",
    "dividend = pd.read_sql(sql, const)\n",
    "dividend.drop(['PRICE', 'PERCENT'], axis=1, inplace=True)\n",
    "dividend.columns = dividend.columns.str.lower()\n",
    "dividend['shares'] = dividend['shares'].astype('int64')\n",
    "dividend['xdate'] = pd.to_datetime(dividend['xdate'])\n",
    "dividend['paiddate'] = pd.to_datetime(dividend['paiddate'])\n",
    "dividend.style.format(format_dict)"
   ]
  },
  {
   "cell_type": "code",
   "execution_count": 27,
   "metadata": {},
   "outputs": [],
   "source": [
    "def update_dividend2(shares, q1, actual, name):\n",
    "    # Use parameterized query to avoid SQL injection\n",
    "    sql = text(\"\"\"\n",
    "        UPDATE dividend \n",
    "        SET q1 = :q1, \n",
    "            dividend = q1 + q2 + q3 + q4, \n",
    "            shares = :shares, \n",
    "            actual = :actual \n",
    "        WHERE name = :name\n",
    "    \"\"\")\n",
    "    \n",
    "    # Execute the query with parameters\n",
    "    rp = const.execute(sql, {\n",
    "        'q1': q1,\n",
    "        'shares': shares,\n",
    "        'actual': actual,\n",
    "        'name': name\n",
    "    })\n",
    "    \n",
    "    return f\"Records updated = {rp.rowcount}\""
   ]
  },
  {
   "cell_type": "code",
   "execution_count": 31,
   "metadata": {},
   "outputs": [
    {
     "data": {
      "text/html": [
       "<style type=\"text/css\">\n",
       "</style>\n",
       "<table id=\"T_c51a4\">\n",
       "  <thead>\n",
       "    <tr>\n",
       "      <th class=\"blank level0\" >&nbsp;</th>\n",
       "      <th id=\"T_c51a4_level0_col0\" class=\"col_heading level0 col0\" >name</th>\n",
       "      <th id=\"T_c51a4_level0_col1\" class=\"col_heading level0 col1\" >q4</th>\n",
       "      <th id=\"T_c51a4_level0_col2\" class=\"col_heading level0 col2\" >q3</th>\n",
       "      <th id=\"T_c51a4_level0_col3\" class=\"col_heading level0 col3\" >q2</th>\n",
       "      <th id=\"T_c51a4_level0_col4\" class=\"col_heading level0 col4\" >q1</th>\n",
       "      <th id=\"T_c51a4_level0_col5\" class=\"col_heading level0 col5\" >dividend</th>\n",
       "      <th id=\"T_c51a4_level0_col6\" class=\"col_heading level0 col6\" >shares</th>\n",
       "      <th id=\"T_c51a4_level0_col7\" class=\"col_heading level0 col7\" >xdate</th>\n",
       "      <th id=\"T_c51a4_level0_col8\" class=\"col_heading level0 col8\" >paiddate</th>\n",
       "      <th id=\"T_c51a4_level0_col9\" class=\"col_heading level0 col9\" >kind</th>\n",
       "      <th id=\"T_c51a4_level0_col10\" class=\"col_heading level0 col10\" >actual</th>\n",
       "    </tr>\n",
       "  </thead>\n",
       "  <tbody>\n",
       "    <tr>\n",
       "      <th id=\"T_c51a4_level0_row0\" class=\"row_heading level0 row0\" >0</th>\n",
       "      <td id=\"T_c51a4_row0_col0\" class=\"data row0 col0\" >GVREIT</td>\n",
       "      <td id=\"T_c51a4_row0_col1\" class=\"data row0 col1\" >0.2044</td>\n",
       "      <td id=\"T_c51a4_row0_col2\" class=\"data row0 col2\" >0.1911</td>\n",
       "      <td id=\"T_c51a4_row0_col3\" class=\"data row0 col3\" >0.1963</td>\n",
       "      <td id=\"T_c51a4_row0_col4\" class=\"data row0 col4\" >0.2050</td>\n",
       "      <td id=\"T_c51a4_row0_col5\" class=\"data row0 col5\" >0.7968</td>\n",
       "      <td id=\"T_c51a4_row0_col6\" class=\"data row0 col6\" >60,000</td>\n",
       "      <td id=\"T_c51a4_row0_col7\" class=\"data row0 col7\" >2025-02-26</td>\n",
       "      <td id=\"T_c51a4_row0_col8\" class=\"data row0 col8\" >2025-03-12</td>\n",
       "      <td id=\"T_c51a4_row0_col9\" class=\"data row0 col9\" ></td>\n",
       "      <td id=\"T_c51a4_row0_col10\" class=\"data row0 col10\" >1</td>\n",
       "    </tr>\n",
       "  </tbody>\n",
       "</table>\n"
      ],
      "text/plain": [
       "<pandas.io.formats.style.Styler at 0x24e55a60980>"
      ]
     },
     "execution_count": 31,
     "metadata": {},
     "output_type": "execute_result"
    }
   ],
   "source": [
    "sql = \"\"\"\n",
    "SELECT * \n",
    "FROM DIVIDEND\n",
    "WHERE name = '%s'\n",
    "\"\"\"\n",
    "sql = sql % name\n",
    "dividend = pd.read_sql(sql, const)\n",
    "dividend.drop(['PRICE', 'PERCENT'], axis=1, inplace=True)\n",
    "dividend.columns = dividend.columns.str.lower()\n",
    "dividend['shares'] = dividend['shares'].astype('int64')\n",
    "dividend['xdate'] = pd.to_datetime(dividend['xdate'])\n",
    "dividend['paiddate'] = pd.to_datetime(dividend['paiddate'])\n",
    "dividend.style.format(format_dict)"
   ]
  },
  {
   "cell_type": "code",
   "execution_count": 9,
   "metadata": {},
   "outputs": [],
   "source": [
    "shares = 20000\n",
    "q1 = 0\n",
    "actual = 0"
   ]
  },
  {
   "cell_type": "code",
   "execution_count": 11,
   "metadata": {},
   "outputs": [
    {
     "data": {
      "text/plain": [
       "'Records updated = 1'"
      ]
     },
     "execution_count": 11,
     "metadata": {},
     "output_type": "execute_result"
    }
   ],
   "source": [
    "update_dividend2(shares,q1,actual,name)"
   ]
  },
  {
   "cell_type": "markdown",
   "metadata": {},
   "source": [
    "### Toggle actual status"
   ]
  },
  {
   "cell_type": "code",
   "execution_count": 2,
   "metadata": {},
   "outputs": [
    {
     "data": {
      "text/plain": [
       "1"
      ]
     },
     "execution_count": 2,
     "metadata": {},
     "output_type": "execute_result"
    }
   ],
   "source": [
    "name = 'BCT'\n",
    "actual = 0\n",
    "sqlUpd = \"UPDATE dividend SET actual = %s WHERE name = '%s'\"\n",
    "sqlUpd = sqlUpd % (actual, name)\n",
    "rp = const.execute(sqlUpd)\n",
    "rp.rowcount"
   ]
  },
  {
   "cell_type": "markdown",
   "metadata": {},
   "source": [
    "### Delete dividend record"
   ]
  },
  {
   "cell_type": "code",
   "execution_count": 10,
   "metadata": {},
   "outputs": [
    {
     "data": {
      "text/plain": [
       "1"
      ]
     },
     "execution_count": 10,
     "metadata": {},
     "output_type": "execute_result"
    }
   ],
   "source": [
    "sqlDel = '''\n",
    "DELETE FROM dividend\n",
    "WHERE name IN (\"MC\")\n",
    "'''\n",
    "#rp = const.execute(sqlDel)\n",
    "rp.rowcount"
   ]
  },
  {
   "cell_type": "markdown",
   "metadata": {},
   "source": [
    "### Start of output to cloud"
   ]
  },
  {
   "cell_type": "code",
   "execution_count": 14,
   "metadata": {},
   "outputs": [],
   "source": [
    "cols = 'name qtrly shares amount net xdate paiddate cost_amt pct actual'.split()"
   ]
  },
  {
   "cell_type": "code",
   "execution_count": 16,
   "metadata": {
    "scrolled": true
   },
   "outputs": [
    {
     "name": "stdout",
     "output_type": "stream",
     "text": [
      "\n",
      "SELECT Y.NAME AS name,  Q1 AS qtrly, SHARES, XDATE, PAIDDATE, \n",
      "P.price AS price, Y.DIVIDEND, ACTUAL, B.price * B.volbuy AS cost_amt\n",
      "FROM dividend AS Y, price AS P, buy AS B\n",
      "WHERE Y.name = P.name \n",
      "AND Y.name = B.name \n",
      "AND Q1 > 0 \n",
      "AND P.date = '2025-05-16'\n",
      "ORDER BY name\n",
      "\n"
     ]
    }
   ],
   "source": [
    "sql = \"\"\"\n",
    "SELECT Y.NAME AS name,  Q1 AS qtrly, SHARES, XDATE, PAIDDATE, \n",
    "P.price AS price, Y.DIVIDEND, ACTUAL, B.price * B.volbuy AS cost_amt\n",
    "FROM dividend AS Y, price AS P, buy AS B\n",
    "WHERE Y.name = P.name \n",
    "AND Y.name = B.name \n",
    "AND Q1 > 0 \n",
    "AND P.date = '%s'\n",
    "ORDER BY name\n",
    "\"\"\"\n",
    "sql = sql % yesterday \n",
    "print(sql)"
   ]
  },
  {
   "cell_type": "code",
   "execution_count": 18,
   "metadata": {},
   "outputs": [
    {
     "data": {
      "text/html": [
       "<style type=\"text/css\">\n",
       "</style>\n",
       "<table id=\"T_54b20\">\n",
       "  <thead>\n",
       "    <tr>\n",
       "      <th class=\"blank level0\" >&nbsp;</th>\n",
       "      <th id=\"T_54b20_level0_col0\" class=\"col_heading level0 col0\" >name</th>\n",
       "      <th id=\"T_54b20_level0_col1\" class=\"col_heading level0 col1\" >qtrly</th>\n",
       "      <th id=\"T_54b20_level0_col2\" class=\"col_heading level0 col2\" >shares</th>\n",
       "      <th id=\"T_54b20_level0_col3\" class=\"col_heading level0 col3\" >amount</th>\n",
       "      <th id=\"T_54b20_level0_col4\" class=\"col_heading level0 col4\" >net</th>\n",
       "      <th id=\"T_54b20_level0_col5\" class=\"col_heading level0 col5\" >xdate</th>\n",
       "      <th id=\"T_54b20_level0_col6\" class=\"col_heading level0 col6\" >paiddate</th>\n",
       "      <th id=\"T_54b20_level0_col7\" class=\"col_heading level0 col7\" >cost_amt</th>\n",
       "      <th id=\"T_54b20_level0_col8\" class=\"col_heading level0 col8\" >pct</th>\n",
       "      <th id=\"T_54b20_level0_col9\" class=\"col_heading level0 col9\" >actual</th>\n",
       "    </tr>\n",
       "  </thead>\n",
       "  <tbody>\n",
       "    <tr>\n",
       "      <th id=\"T_54b20_level0_row0\" class=\"row_heading level0 row0\" >0</th>\n",
       "      <td id=\"T_54b20_row0_col0\" class=\"data row0 col0\" >AIMIRT</td>\n",
       "      <td id=\"T_54b20_row0_col1\" class=\"data row0 col1\" >0.2150</td>\n",
       "      <td id=\"T_54b20_row0_col2\" class=\"data row0 col2\" >12,500</td>\n",
       "      <td id=\"T_54b20_row0_col3\" class=\"data row0 col3\" >2,687.50</td>\n",
       "      <td id=\"T_54b20_row0_col4\" class=\"data row0 col4\" >2,418.75</td>\n",
       "      <td id=\"T_54b20_row0_col5\" class=\"data row0 col5\" >2025-05-19</td>\n",
       "      <td id=\"T_54b20_row0_col6\" class=\"data row0 col6\" >2025-06-06</td>\n",
       "      <td id=\"T_54b20_row0_col7\" class=\"data row0 col7\" >136,250.00</td>\n",
       "      <td id=\"T_54b20_row0_col8\" class=\"data row0 col8\" >1.78%</td>\n",
       "      <td id=\"T_54b20_row0_col9\" class=\"data row0 col9\" >1</td>\n",
       "    </tr>\n",
       "    <tr>\n",
       "      <th id=\"T_54b20_level0_row1\" class=\"row_heading level0 row1\" >1</th>\n",
       "      <td id=\"T_54b20_row1_col0\" class=\"data row1 col0\" >CPNREIT</td>\n",
       "      <td id=\"T_54b20_row1_col1\" class=\"data row1 col1\" >0.2505</td>\n",
       "      <td id=\"T_54b20_row1_col2\" class=\"data row1 col2\" >55,000</td>\n",
       "      <td id=\"T_54b20_row1_col3\" class=\"data row1 col3\" >13,777.50</td>\n",
       "      <td id=\"T_54b20_row1_col4\" class=\"data row1 col4\" >12,399.75</td>\n",
       "      <td id=\"T_54b20_row1_col5\" class=\"data row1 col5\" >2025-05-19</td>\n",
       "      <td id=\"T_54b20_row1_col6\" class=\"data row1 col6\" >2025-06-04</td>\n",
       "      <td id=\"T_54b20_row1_col7\" class=\"data row1 col7\" >990,000.00</td>\n",
       "      <td id=\"T_54b20_row1_col8\" class=\"data row1 col8\" >1.25%</td>\n",
       "      <td id=\"T_54b20_row1_col9\" class=\"data row1 col9\" >1</td>\n",
       "    </tr>\n",
       "    <tr>\n",
       "      <th id=\"T_54b20_level0_row2\" class=\"row_heading level0 row2\" >2</th>\n",
       "      <td id=\"T_54b20_row2_col0\" class=\"data row2 col0\" >DIF</td>\n",
       "      <td id=\"T_54b20_row2_col1\" class=\"data row2 col1\" >0.2222</td>\n",
       "      <td id=\"T_54b20_row2_col2\" class=\"data row2 col2\" >40,000</td>\n",
       "      <td id=\"T_54b20_row2_col3\" class=\"data row2 col3\" >8,888.00</td>\n",
       "      <td id=\"T_54b20_row2_col4\" class=\"data row2 col4\" >7,999.20</td>\n",
       "      <td id=\"T_54b20_row2_col5\" class=\"data row2 col5\" >2025-05-14</td>\n",
       "      <td id=\"T_54b20_row2_col6\" class=\"data row2 col6\" >2025-06-09</td>\n",
       "      <td id=\"T_54b20_row2_col7\" class=\"data row2 col7\" >524,000.00</td>\n",
       "      <td id=\"T_54b20_row2_col8\" class=\"data row2 col8\" >1.53%</td>\n",
       "      <td id=\"T_54b20_row2_col9\" class=\"data row2 col9\" >1</td>\n",
       "    </tr>\n",
       "    <tr>\n",
       "      <th id=\"T_54b20_level0_row3\" class=\"row_heading level0 row3\" >3</th>\n",
       "      <td id=\"T_54b20_row3_col0\" class=\"data row3 col0\" >GVREIT</td>\n",
       "      <td id=\"T_54b20_row3_col1\" class=\"data row3 col1\" >0.2050</td>\n",
       "      <td id=\"T_54b20_row3_col2\" class=\"data row3 col2\" >75,000</td>\n",
       "      <td id=\"T_54b20_row3_col3\" class=\"data row3 col3\" >15,375.00</td>\n",
       "      <td id=\"T_54b20_row3_col4\" class=\"data row3 col4\" >13,837.50</td>\n",
       "      <td id=\"T_54b20_row3_col5\" class=\"data row3 col5\" >2025-05-28</td>\n",
       "      <td id=\"T_54b20_row3_col6\" class=\"data row3 col6\" >2025-06-12</td>\n",
       "      <td id=\"T_54b20_row3_col7\" class=\"data row3 col7\" >573,000.00</td>\n",
       "      <td id=\"T_54b20_row3_col8\" class=\"data row3 col8\" >2.41%</td>\n",
       "      <td id=\"T_54b20_row3_col9\" class=\"data row3 col9\" >1</td>\n",
       "    </tr>\n",
       "    <tr>\n",
       "      <th id=\"T_54b20_level0_row4\" class=\"row_heading level0 row4\" >4</th>\n",
       "      <td id=\"T_54b20_row4_col0\" class=\"data row4 col0\" >IVL</td>\n",
       "      <td id=\"T_54b20_row4_col1\" class=\"data row4 col1\" >0.1750</td>\n",
       "      <td id=\"T_54b20_row4_col2\" class=\"data row4 col2\" >7,200</td>\n",
       "      <td id=\"T_54b20_row4_col3\" class=\"data row4 col3\" >1,260.00</td>\n",
       "      <td id=\"T_54b20_row4_col4\" class=\"data row4 col4\" >1,134.00</td>\n",
       "      <td id=\"T_54b20_row4_col5\" class=\"data row4 col5\" >2025-05-27</td>\n",
       "      <td id=\"T_54b20_row4_col6\" class=\"data row4 col6\" >2025-06-12</td>\n",
       "      <td id=\"T_54b20_row4_col7\" class=\"data row4 col7\" >288,000.00</td>\n",
       "      <td id=\"T_54b20_row4_col8\" class=\"data row4 col8\" >0.39%</td>\n",
       "      <td id=\"T_54b20_row4_col9\" class=\"data row4 col9\" >1</td>\n",
       "    </tr>\n",
       "    <tr>\n",
       "      <th id=\"T_54b20_level0_row5\" class=\"row_heading level0 row5\" >5</th>\n",
       "      <td id=\"T_54b20_row5_col0\" class=\"data row5 col0\" >TFFIF</td>\n",
       "      <td id=\"T_54b20_row5_col1\" class=\"data row5 col1\" >0.1189</td>\n",
       "      <td id=\"T_54b20_row5_col2\" class=\"data row5 col2\" >20,000</td>\n",
       "      <td id=\"T_54b20_row5_col3\" class=\"data row5 col3\" >2,378.00</td>\n",
       "      <td id=\"T_54b20_row5_col4\" class=\"data row5 col4\" >2,140.20</td>\n",
       "      <td id=\"T_54b20_row5_col5\" class=\"data row5 col5\" >2025-05-28</td>\n",
       "      <td id=\"T_54b20_row5_col6\" class=\"data row5 col6\" >2025-06-16</td>\n",
       "      <td id=\"T_54b20_row5_col7\" class=\"data row5 col7\" >150,000.00</td>\n",
       "      <td id=\"T_54b20_row5_col8\" class=\"data row5 col8\" >1.43%</td>\n",
       "      <td id=\"T_54b20_row5_col9\" class=\"data row5 col9\" >1</td>\n",
       "    </tr>\n",
       "    <tr>\n",
       "      <th id=\"T_54b20_level0_row6\" class=\"row_heading level0 row6\" >6</th>\n",
       "      <td id=\"T_54b20_row6_col0\" class=\"data row6 col0\" >WHAIR</td>\n",
       "      <td id=\"T_54b20_row6_col1\" class=\"data row6 col1\" >0.1325</td>\n",
       "      <td id=\"T_54b20_row6_col2\" class=\"data row6 col2\" >60,000</td>\n",
       "      <td id=\"T_54b20_row6_col3\" class=\"data row6 col3\" >7,950.00</td>\n",
       "      <td id=\"T_54b20_row6_col4\" class=\"data row6 col4\" >7,155.00</td>\n",
       "      <td id=\"T_54b20_row6_col5\" class=\"data row6 col5\" >2025-05-26</td>\n",
       "      <td id=\"T_54b20_row6_col6\" class=\"data row6 col6\" >2025-06-25</td>\n",
       "      <td id=\"T_54b20_row6_col7\" class=\"data row6 col7\" >481,998.00</td>\n",
       "      <td id=\"T_54b20_row6_col8\" class=\"data row6 col8\" >1.48%</td>\n",
       "      <td id=\"T_54b20_row6_col9\" class=\"data row6 col9\" >1</td>\n",
       "    </tr>\n",
       "    <tr>\n",
       "      <th id=\"T_54b20_level0_row7\" class=\"row_heading level0 row7\" >7</th>\n",
       "      <td id=\"T_54b20_row7_col0\" class=\"data row7 col0\" >WHART</td>\n",
       "      <td id=\"T_54b20_row7_col1\" class=\"data row7 col1\" >0.1915</td>\n",
       "      <td id=\"T_54b20_row7_col2\" class=\"data row7 col2\" >20,000</td>\n",
       "      <td id=\"T_54b20_row7_col3\" class=\"data row7 col3\" >3,830.00</td>\n",
       "      <td id=\"T_54b20_row7_col4\" class=\"data row7 col4\" >3,447.00</td>\n",
       "      <td id=\"T_54b20_row7_col5\" class=\"data row7 col5\" >2025-05-19</td>\n",
       "      <td id=\"T_54b20_row7_col6\" class=\"data row7 col6\" >2025-06-06</td>\n",
       "      <td id=\"T_54b20_row7_col7\" class=\"data row7 col7\" >246,000.00</td>\n",
       "      <td id=\"T_54b20_row7_col8\" class=\"data row7 col8\" >1.40%</td>\n",
       "      <td id=\"T_54b20_row7_col9\" class=\"data row7 col9\" >1</td>\n",
       "    </tr>\n",
       "  </tbody>\n",
       "</table>\n"
      ],
      "text/plain": [
       "<pandas.io.formats.style.Styler at 0x2006346bb30>"
      ]
     },
     "execution_count": 18,
     "metadata": {},
     "output_type": "execute_result"
    }
   ],
   "source": [
    "dividend = pd.read_sql(sql, const)\n",
    "dividend.columns = dividend.columns.str.lower()\n",
    "dividend['shares'] = dividend['shares'].astype('int64')\n",
    "dividend['xdate'] = pd.to_datetime(dividend['xdate'])\n",
    "dividend['paiddate'] = pd.to_datetime(dividend['paiddate'])\n",
    "dividend['amount'] = round(dividend['shares'] * dividend['qtrly'], 2)\n",
    "dividend['net'] = round(dividend['amount'] * 0.9, 2)\n",
    "dividend['pct'] = round(dividend['net'] / dividend['cost_amt'] * 100, 2)\n",
    "dividend[cols].style.format(format_dict)"
   ]
  },
  {
   "cell_type": "code",
   "execution_count": 20,
   "metadata": {},
   "outputs": [
    {
     "data": {
      "text/plain": [
       "50531.399999999994"
      ]
     },
     "execution_count": 20,
     "metadata": {},
     "output_type": "execute_result"
    }
   ],
   "source": [
    "dividend.net.sum()"
   ]
  },
  {
   "cell_type": "code",
   "execution_count": 26,
   "metadata": {},
   "outputs": [],
   "source": [
    "file_name = 'dividend-q1.csv'\n",
    "output_file = os.path.join(dat_path, file_name)\n",
    "god_file = os.path.join(god_path, file_name)\n",
    "icd_file = os.path.join(icd_path, file_name)\n",
    "osd_file = os.path.join(osd_path, file_name)"
   ]
  },
  {
   "cell_type": "code",
   "execution_count": 28,
   "metadata": {},
   "outputs": [
    {
     "name": "stdout",
     "output_type": "stream",
     "text": [
      "Output file : C:\\Users\\PC1\\OneDrive\\A5\\Data\\dividend-q1.csv\n",
      "icd_file : C:\\Users\\PC1\\iCloudDrive\\Data\\dividend-q1.csv\n",
      "god_file : C:\\Users\\PC1\\OneDrive\\Imports\\santisoontarinka@gmail.com - Google Drive\\Data\\dividend-q1.csv\n",
      "osd_file : C:\\Users\\PC1\\OneDrive\\Documents\\obsidian-git-sync\\Data\\dividend-q1.csv\n"
     ]
    }
   ],
   "source": [
    "print(f\"Output file : {output_file}\") \n",
    "print(f\"icd_file : {icd_file}\") \n",
    "print(f\"god_file : {god_file}\") \n",
    "print(f\"osd_file : {osd_file}\") "
   ]
  },
  {
   "cell_type": "code",
   "execution_count": 30,
   "metadata": {},
   "outputs": [],
   "source": [
    "dividend[cols].sort_values(['name'],ascending=[True]).to_csv(output_file, index=False)\n",
    "dividend[cols].sort_values(['name'],ascending=[True]).to_csv(god_file, index=False)\n",
    "dividend[cols].sort_values(['name'],ascending=[True]).to_csv(osd_file, index=False)\n",
    "dividend[cols].sort_values(['name'],ascending=[True]).to_csv(icd_file, index=False)"
   ]
  },
  {
   "cell_type": "code",
   "execution_count": 10,
   "metadata": {},
   "outputs": [],
   "source": [
    "file_name = 'dividend-q1.xlsx'\n",
    "data_file = data_path + file_name\n",
    "output_file = csv_path + file_name\n",
    "osd_file = osd_path + file_name\n",
    "one_file = one_path + file_name\n",
    "\n",
    "dividend[cols].sort_values(['name'],ascending=[True]).to_excel(output_file, index=False)\n",
    "dividend[cols].sort_values(['name'],ascending=[True]).to_excel(data_file, index=False)\n",
    "dividend[cols].sort_values(['name'],ascending=[True]).to_excel(osd_file, index=False)\n",
    "dividend[cols].sort_values(['name'],ascending=[True]).to_excel(one_file, index=False)"
   ]
  },
  {
   "cell_type": "markdown",
   "metadata": {},
   "source": [
    "### End of output to cloud"
   ]
  },
  {
   "cell_type": "code",
   "execution_count": 67,
   "metadata": {},
   "outputs": [
    {
     "name": "stdout",
     "output_type": "stream",
     "text": [
      "SELECT name, q_eps, aq_eps, publish_date FROM epss WHERE year = 2025-1 AND quarter = 1 ORDER BY name\n"
     ]
    },
    {
     "data": {
      "text/plain": [
       "name             object\n",
       "q_eps           float64\n",
       "aq_eps          float64\n",
       "publish_date     object\n",
       "dtype: object"
      ]
     },
     "execution_count": 67,
     "metadata": {},
     "output_type": "execute_result"
    }
   ],
   "source": [
    "sql = 'SELECT name, q_eps, aq_eps, publish_date FROM epss WHERE year = %s-1 AND quarter = %s ORDER BY name'\n",
    "sql = sql % (year, quarter)\n",
    "print(sql)\n",
    "eps = pd.read_sql(sql, conlt)\n",
    "eps.dtypes"
   ]
  },
  {
   "cell_type": "code",
   "execution_count": 69,
   "metadata": {},
   "outputs": [
    {
     "data": {
      "text/html": [
       "<div>\n",
       "<style scoped>\n",
       "    .dataframe tbody tr th:only-of-type {\n",
       "        vertical-align: middle;\n",
       "    }\n",
       "\n",
       "    .dataframe tbody tr th {\n",
       "        vertical-align: top;\n",
       "    }\n",
       "\n",
       "    .dataframe thead th {\n",
       "        text-align: right;\n",
       "    }\n",
       "</style>\n",
       "<table border=\"1\" class=\"dataframe\">\n",
       "  <thead>\n",
       "    <tr style=\"text-align: right;\">\n",
       "      <th></th>\n",
       "      <th>name</th>\n",
       "      <th>qtrly</th>\n",
       "      <th>shares</th>\n",
       "      <th>xdate</th>\n",
       "      <th>paiddate</th>\n",
       "      <th>price</th>\n",
       "      <th>yearly</th>\n",
       "      <th>actual</th>\n",
       "      <th>cost_amt</th>\n",
       "      <th>amount</th>\n",
       "      <th>amt_yearly</th>\n",
       "      <th>net</th>\n",
       "      <th>pct</th>\n",
       "      <th>q_eps</th>\n",
       "      <th>aq_eps</th>\n",
       "      <th>publish_date</th>\n",
       "    </tr>\n",
       "  </thead>\n",
       "  <tbody>\n",
       "    <tr>\n",
       "      <th>0</th>\n",
       "      <td>AIMIRT</td>\n",
       "      <td>0.2150</td>\n",
       "      <td>12500</td>\n",
       "      <td>2025-05-19</td>\n",
       "      <td>2025-06-06</td>\n",
       "      <td>9.70</td>\n",
       "      <td>7.23</td>\n",
       "      <td>1</td>\n",
       "      <td>136250.0</td>\n",
       "      <td>2687.5</td>\n",
       "      <td>9853.75</td>\n",
       "      <td>2418.75</td>\n",
       "      <td>1.78</td>\n",
       "      <td>0.00</td>\n",
       "      <td>0.00</td>\n",
       "      <td>2024-05-15</td>\n",
       "    </tr>\n",
       "    <tr>\n",
       "      <th>1</th>\n",
       "      <td>CPNREIT</td>\n",
       "      <td>0.0987</td>\n",
       "      <td>55000</td>\n",
       "      <td>2025-05-19</td>\n",
       "      <td>2025-06-04</td>\n",
       "      <td>12.30</td>\n",
       "      <td>3.17</td>\n",
       "      <td>1</td>\n",
       "      <td>990000.0</td>\n",
       "      <td>5428.5</td>\n",
       "      <td>31377.50</td>\n",
       "      <td>4885.65</td>\n",
       "      <td>0.49</td>\n",
       "      <td>0.00</td>\n",
       "      <td>0.00</td>\n",
       "      <td>2024-05-15</td>\n",
       "    </tr>\n",
       "    <tr>\n",
       "      <th>2</th>\n",
       "      <td>DIF</td>\n",
       "      <td>0.2222</td>\n",
       "      <td>40000</td>\n",
       "      <td>2025-05-14</td>\n",
       "      <td>2025-06-09</td>\n",
       "      <td>8.00</td>\n",
       "      <td>6.78</td>\n",
       "      <td>1</td>\n",
       "      <td>524000.0</td>\n",
       "      <td>8888.0</td>\n",
       "      <td>35552.00</td>\n",
       "      <td>7999.20</td>\n",
       "      <td>1.53</td>\n",
       "      <td>0.00</td>\n",
       "      <td>0.00</td>\n",
       "      <td>2024-05-14</td>\n",
       "    </tr>\n",
       "    <tr>\n",
       "      <th>3</th>\n",
       "      <td>GVREIT</td>\n",
       "      <td>0.2044</td>\n",
       "      <td>75000</td>\n",
       "      <td>2025-05-28</td>\n",
       "      <td>2025-06-12</td>\n",
       "      <td>6.85</td>\n",
       "      <td>10.46</td>\n",
       "      <td>1</td>\n",
       "      <td>573000.0</td>\n",
       "      <td>15330.0</td>\n",
       "      <td>59917.50</td>\n",
       "      <td>13797.00</td>\n",
       "      <td>2.41</td>\n",
       "      <td>0.00</td>\n",
       "      <td>0.00</td>\n",
       "      <td>2024-02-15</td>\n",
       "    </tr>\n",
       "    <tr>\n",
       "      <th>4</th>\n",
       "      <td>IVL</td>\n",
       "      <td>0.1750</td>\n",
       "      <td>7200</td>\n",
       "      <td>2025-05-27</td>\n",
       "      <td>2025-06-12</td>\n",
       "      <td>19.70</td>\n",
       "      <td>1.75</td>\n",
       "      <td>1</td>\n",
       "      <td>288000.0</td>\n",
       "      <td>1260.0</td>\n",
       "      <td>5040.00</td>\n",
       "      <td>1134.00</td>\n",
       "      <td>0.39</td>\n",
       "      <td>0.17</td>\n",
       "      <td>0.17</td>\n",
       "      <td>2024-05-10</td>\n",
       "    </tr>\n",
       "    <tr>\n",
       "      <th>5</th>\n",
       "      <td>TFFIF</td>\n",
       "      <td>0.1039</td>\n",
       "      <td>20000</td>\n",
       "      <td>2025-05-28</td>\n",
       "      <td>2025-06-16</td>\n",
       "      <td>6.05</td>\n",
       "      <td>6.13</td>\n",
       "      <td>1</td>\n",
       "      <td>150000.0</td>\n",
       "      <td>2078.0</td>\n",
       "      <td>9192.00</td>\n",
       "      <td>1870.20</td>\n",
       "      <td>1.25</td>\n",
       "      <td>0.00</td>\n",
       "      <td>0.00</td>\n",
       "      <td>2024-02-13</td>\n",
       "    </tr>\n",
       "    <tr>\n",
       "      <th>6</th>\n",
       "      <td>WHAIR</td>\n",
       "      <td>0.0582</td>\n",
       "      <td>60000</td>\n",
       "      <td>2025-05-26</td>\n",
       "      <td>2025-06-25</td>\n",
       "      <td>4.70</td>\n",
       "      <td>6.86</td>\n",
       "      <td>1</td>\n",
       "      <td>481998.0</td>\n",
       "      <td>3492.0</td>\n",
       "      <td>33048.00</td>\n",
       "      <td>3142.80</td>\n",
       "      <td>0.65</td>\n",
       "      <td>0.00</td>\n",
       "      <td>0.00</td>\n",
       "      <td>2024-05-13</td>\n",
       "    </tr>\n",
       "    <tr>\n",
       "      <th>7</th>\n",
       "      <td>WHART</td>\n",
       "      <td>0.1358</td>\n",
       "      <td>20000</td>\n",
       "      <td>2025-05-19</td>\n",
       "      <td>2025-06-06</td>\n",
       "      <td>9.50</td>\n",
       "      <td>5.80</td>\n",
       "      <td>1</td>\n",
       "      <td>246000.0</td>\n",
       "      <td>2716.0</td>\n",
       "      <td>14266.00</td>\n",
       "      <td>2444.40</td>\n",
       "      <td>0.99</td>\n",
       "      <td>0.00</td>\n",
       "      <td>0.00</td>\n",
       "      <td>2024-05-09</td>\n",
       "    </tr>\n",
       "  </tbody>\n",
       "</table>\n",
       "</div>"
      ],
      "text/plain": [
       "      name   qtrly  shares      xdate   paiddate  price  yearly  actual  \\\n",
       "0   AIMIRT  0.2150   12500 2025-05-19 2025-06-06   9.70    7.23       1   \n",
       "1  CPNREIT  0.0987   55000 2025-05-19 2025-06-04  12.30    3.17       1   \n",
       "2      DIF  0.2222   40000 2025-05-14 2025-06-09   8.00    6.78       1   \n",
       "3   GVREIT  0.2044   75000 2025-05-28 2025-06-12   6.85   10.46       1   \n",
       "4      IVL  0.1750    7200 2025-05-27 2025-06-12  19.70    1.75       1   \n",
       "5    TFFIF  0.1039   20000 2025-05-28 2025-06-16   6.05    6.13       1   \n",
       "6    WHAIR  0.0582   60000 2025-05-26 2025-06-25   4.70    6.86       1   \n",
       "7    WHART  0.1358   20000 2025-05-19 2025-06-06   9.50    5.80       1   \n",
       "\n",
       "   cost_amt   amount  amt_yearly       net   pct  q_eps  aq_eps publish_date  \n",
       "0  136250.0   2687.5     9853.75   2418.75  1.78   0.00    0.00   2024-05-15  \n",
       "1  990000.0   5428.5    31377.50   4885.65  0.49   0.00    0.00   2024-05-15  \n",
       "2  524000.0   8888.0    35552.00   7999.20  1.53   0.00    0.00   2024-05-14  \n",
       "3  573000.0  15330.0    59917.50  13797.00  2.41   0.00    0.00   2024-02-15  \n",
       "4  288000.0   1260.0     5040.00   1134.00  0.39   0.17    0.17   2024-05-10  \n",
       "5  150000.0   2078.0     9192.00   1870.20  1.25   0.00    0.00   2024-02-13  \n",
       "6  481998.0   3492.0    33048.00   3142.80  0.65   0.00    0.00   2024-05-13  \n",
       "7  246000.0   2716.0    14266.00   2444.40  0.99   0.00    0.00   2024-05-09  "
      ]
     },
     "execution_count": 69,
     "metadata": {},
     "output_type": "execute_result"
    }
   ],
   "source": [
    "df_merge = pd.merge(dividend, eps, on='name', how='inner')\n",
    "df_merge.sort_values('name',ascending=True)"
   ]
  },
  {
   "cell_type": "code",
   "execution_count": 59,
   "metadata": {},
   "outputs": [
    {
     "data": {
      "text/html": [
       "<style type=\"text/css\">\n",
       "</style>\n",
       "<table id=\"T_bbd6b\">\n",
       "  <thead>\n",
       "    <tr>\n",
       "      <th class=\"blank level0\" >&nbsp;</th>\n",
       "      <th id=\"T_bbd6b_level0_col0\" class=\"col_heading level0 col0\" >name</th>\n",
       "      <th id=\"T_bbd6b_level0_col1\" class=\"col_heading level0 col1\" >qtrly</th>\n",
       "      <th id=\"T_bbd6b_level0_col2\" class=\"col_heading level0 col2\" >shares</th>\n",
       "      <th id=\"T_bbd6b_level0_col3\" class=\"col_heading level0 col3\" >amount</th>\n",
       "      <th id=\"T_bbd6b_level0_col4\" class=\"col_heading level0 col4\" >net</th>\n",
       "      <th id=\"T_bbd6b_level0_col5\" class=\"col_heading level0 col5\" >xdate</th>\n",
       "      <th id=\"T_bbd6b_level0_col6\" class=\"col_heading level0 col6\" >paiddate</th>\n",
       "      <th id=\"T_bbd6b_level0_col7\" class=\"col_heading level0 col7\" >cost_amt</th>\n",
       "      <th id=\"T_bbd6b_level0_col8\" class=\"col_heading level0 col8\" >pct</th>\n",
       "      <th id=\"T_bbd6b_level0_col9\" class=\"col_heading level0 col9\" >amt_yearly</th>\n",
       "      <th id=\"T_bbd6b_level0_col10\" class=\"col_heading level0 col10\" >yearly</th>\n",
       "      <th id=\"T_bbd6b_level0_col11\" class=\"col_heading level0 col11\" >actual</th>\n",
       "    </tr>\n",
       "  </thead>\n",
       "  <tbody>\n",
       "    <tr>\n",
       "      <th id=\"T_bbd6b_level0_row0\" class=\"row_heading level0 row0\" >0</th>\n",
       "      <td id=\"T_bbd6b_row0_col0\" class=\"data row0 col0\" >AIMIRT</td>\n",
       "      <td id=\"T_bbd6b_row0_col1\" class=\"data row0 col1\" >0.2150</td>\n",
       "      <td id=\"T_bbd6b_row0_col2\" class=\"data row0 col2\" >12,500</td>\n",
       "      <td id=\"T_bbd6b_row0_col3\" class=\"data row0 col3\" >2,687.50</td>\n",
       "      <td id=\"T_bbd6b_row0_col4\" class=\"data row0 col4\" >2,418.75</td>\n",
       "      <td id=\"T_bbd6b_row0_col5\" class=\"data row0 col5\" >2025-05-19</td>\n",
       "      <td id=\"T_bbd6b_row0_col6\" class=\"data row0 col6\" >2025-06-06</td>\n",
       "      <td id=\"T_bbd6b_row0_col7\" class=\"data row0 col7\" >136,250.00</td>\n",
       "      <td id=\"T_bbd6b_row0_col8\" class=\"data row0 col8\" >1.78%</td>\n",
       "      <td id=\"T_bbd6b_row0_col9\" class=\"data row0 col9\" >9853.750000</td>\n",
       "      <td id=\"T_bbd6b_row0_col10\" class=\"data row0 col10\" >7.230000</td>\n",
       "      <td id=\"T_bbd6b_row0_col11\" class=\"data row0 col11\" >1</td>\n",
       "    </tr>\n",
       "    <tr>\n",
       "      <th id=\"T_bbd6b_level0_row1\" class=\"row_heading level0 row1\" >1</th>\n",
       "      <td id=\"T_bbd6b_row1_col0\" class=\"data row1 col0\" >CPNREIT</td>\n",
       "      <td id=\"T_bbd6b_row1_col1\" class=\"data row1 col1\" >0.0987</td>\n",
       "      <td id=\"T_bbd6b_row1_col2\" class=\"data row1 col2\" >55,000</td>\n",
       "      <td id=\"T_bbd6b_row1_col3\" class=\"data row1 col3\" >5,428.50</td>\n",
       "      <td id=\"T_bbd6b_row1_col4\" class=\"data row1 col4\" >4,885.65</td>\n",
       "      <td id=\"T_bbd6b_row1_col5\" class=\"data row1 col5\" >2025-05-19</td>\n",
       "      <td id=\"T_bbd6b_row1_col6\" class=\"data row1 col6\" >2025-06-04</td>\n",
       "      <td id=\"T_bbd6b_row1_col7\" class=\"data row1 col7\" >990,000.00</td>\n",
       "      <td id=\"T_bbd6b_row1_col8\" class=\"data row1 col8\" >0.49%</td>\n",
       "      <td id=\"T_bbd6b_row1_col9\" class=\"data row1 col9\" >31377.500000</td>\n",
       "      <td id=\"T_bbd6b_row1_col10\" class=\"data row1 col10\" >3.170000</td>\n",
       "      <td id=\"T_bbd6b_row1_col11\" class=\"data row1 col11\" >1</td>\n",
       "    </tr>\n",
       "    <tr>\n",
       "      <th id=\"T_bbd6b_level0_row2\" class=\"row_heading level0 row2\" >2</th>\n",
       "      <td id=\"T_bbd6b_row2_col0\" class=\"data row2 col0\" >DIF</td>\n",
       "      <td id=\"T_bbd6b_row2_col1\" class=\"data row2 col1\" >0.2222</td>\n",
       "      <td id=\"T_bbd6b_row2_col2\" class=\"data row2 col2\" >40,000</td>\n",
       "      <td id=\"T_bbd6b_row2_col3\" class=\"data row2 col3\" >8,888.00</td>\n",
       "      <td id=\"T_bbd6b_row2_col4\" class=\"data row2 col4\" >7,999.20</td>\n",
       "      <td id=\"T_bbd6b_row2_col5\" class=\"data row2 col5\" >2025-05-14</td>\n",
       "      <td id=\"T_bbd6b_row2_col6\" class=\"data row2 col6\" >2025-06-09</td>\n",
       "      <td id=\"T_bbd6b_row2_col7\" class=\"data row2 col7\" >524,000.00</td>\n",
       "      <td id=\"T_bbd6b_row2_col8\" class=\"data row2 col8\" >1.53%</td>\n",
       "      <td id=\"T_bbd6b_row2_col9\" class=\"data row2 col9\" >35552.000000</td>\n",
       "      <td id=\"T_bbd6b_row2_col10\" class=\"data row2 col10\" >6.780000</td>\n",
       "      <td id=\"T_bbd6b_row2_col11\" class=\"data row2 col11\" >1</td>\n",
       "    </tr>\n",
       "    <tr>\n",
       "      <th id=\"T_bbd6b_level0_row3\" class=\"row_heading level0 row3\" >3</th>\n",
       "      <td id=\"T_bbd6b_row3_col0\" class=\"data row3 col0\" >GVREIT</td>\n",
       "      <td id=\"T_bbd6b_row3_col1\" class=\"data row3 col1\" >0.2044</td>\n",
       "      <td id=\"T_bbd6b_row3_col2\" class=\"data row3 col2\" >75,000</td>\n",
       "      <td id=\"T_bbd6b_row3_col3\" class=\"data row3 col3\" >15,330.00</td>\n",
       "      <td id=\"T_bbd6b_row3_col4\" class=\"data row3 col4\" >13,797.00</td>\n",
       "      <td id=\"T_bbd6b_row3_col5\" class=\"data row3 col5\" >2025-05-28</td>\n",
       "      <td id=\"T_bbd6b_row3_col6\" class=\"data row3 col6\" >2025-06-12</td>\n",
       "      <td id=\"T_bbd6b_row3_col7\" class=\"data row3 col7\" >573,000.00</td>\n",
       "      <td id=\"T_bbd6b_row3_col8\" class=\"data row3 col8\" >2.41%</td>\n",
       "      <td id=\"T_bbd6b_row3_col9\" class=\"data row3 col9\" >59917.500000</td>\n",
       "      <td id=\"T_bbd6b_row3_col10\" class=\"data row3 col10\" >10.460000</td>\n",
       "      <td id=\"T_bbd6b_row3_col11\" class=\"data row3 col11\" >1</td>\n",
       "    </tr>\n",
       "    <tr>\n",
       "      <th id=\"T_bbd6b_level0_row4\" class=\"row_heading level0 row4\" >4</th>\n",
       "      <td id=\"T_bbd6b_row4_col0\" class=\"data row4 col0\" >IVL</td>\n",
       "      <td id=\"T_bbd6b_row4_col1\" class=\"data row4 col1\" >0.1750</td>\n",
       "      <td id=\"T_bbd6b_row4_col2\" class=\"data row4 col2\" >7,200</td>\n",
       "      <td id=\"T_bbd6b_row4_col3\" class=\"data row4 col3\" >1,260.00</td>\n",
       "      <td id=\"T_bbd6b_row4_col4\" class=\"data row4 col4\" >1,134.00</td>\n",
       "      <td id=\"T_bbd6b_row4_col5\" class=\"data row4 col5\" >2025-05-27</td>\n",
       "      <td id=\"T_bbd6b_row4_col6\" class=\"data row4 col6\" >2025-06-12</td>\n",
       "      <td id=\"T_bbd6b_row4_col7\" class=\"data row4 col7\" >288,000.00</td>\n",
       "      <td id=\"T_bbd6b_row4_col8\" class=\"data row4 col8\" >0.39%</td>\n",
       "      <td id=\"T_bbd6b_row4_col9\" class=\"data row4 col9\" >5040.000000</td>\n",
       "      <td id=\"T_bbd6b_row4_col10\" class=\"data row4 col10\" >1.750000</td>\n",
       "      <td id=\"T_bbd6b_row4_col11\" class=\"data row4 col11\" >1</td>\n",
       "    </tr>\n",
       "    <tr>\n",
       "      <th id=\"T_bbd6b_level0_row5\" class=\"row_heading level0 row5\" >5</th>\n",
       "      <td id=\"T_bbd6b_row5_col0\" class=\"data row5 col0\" >TFFIF</td>\n",
       "      <td id=\"T_bbd6b_row5_col1\" class=\"data row5 col1\" >0.1039</td>\n",
       "      <td id=\"T_bbd6b_row5_col2\" class=\"data row5 col2\" >20,000</td>\n",
       "      <td id=\"T_bbd6b_row5_col3\" class=\"data row5 col3\" >2,078.00</td>\n",
       "      <td id=\"T_bbd6b_row5_col4\" class=\"data row5 col4\" >1,870.20</td>\n",
       "      <td id=\"T_bbd6b_row5_col5\" class=\"data row5 col5\" >2025-05-28</td>\n",
       "      <td id=\"T_bbd6b_row5_col6\" class=\"data row5 col6\" >2025-06-16</td>\n",
       "      <td id=\"T_bbd6b_row5_col7\" class=\"data row5 col7\" >150,000.00</td>\n",
       "      <td id=\"T_bbd6b_row5_col8\" class=\"data row5 col8\" >1.25%</td>\n",
       "      <td id=\"T_bbd6b_row5_col9\" class=\"data row5 col9\" >9192.000000</td>\n",
       "      <td id=\"T_bbd6b_row5_col10\" class=\"data row5 col10\" >6.130000</td>\n",
       "      <td id=\"T_bbd6b_row5_col11\" class=\"data row5 col11\" >1</td>\n",
       "    </tr>\n",
       "    <tr>\n",
       "      <th id=\"T_bbd6b_level0_row6\" class=\"row_heading level0 row6\" >6</th>\n",
       "      <td id=\"T_bbd6b_row6_col0\" class=\"data row6 col0\" >WHAIR</td>\n",
       "      <td id=\"T_bbd6b_row6_col1\" class=\"data row6 col1\" >0.0582</td>\n",
       "      <td id=\"T_bbd6b_row6_col2\" class=\"data row6 col2\" >60,000</td>\n",
       "      <td id=\"T_bbd6b_row6_col3\" class=\"data row6 col3\" >3,492.00</td>\n",
       "      <td id=\"T_bbd6b_row6_col4\" class=\"data row6 col4\" >3,142.80</td>\n",
       "      <td id=\"T_bbd6b_row6_col5\" class=\"data row6 col5\" >2025-05-26</td>\n",
       "      <td id=\"T_bbd6b_row6_col6\" class=\"data row6 col6\" >2025-06-25</td>\n",
       "      <td id=\"T_bbd6b_row6_col7\" class=\"data row6 col7\" >481,998.00</td>\n",
       "      <td id=\"T_bbd6b_row6_col8\" class=\"data row6 col8\" >0.65%</td>\n",
       "      <td id=\"T_bbd6b_row6_col9\" class=\"data row6 col9\" >33048.000000</td>\n",
       "      <td id=\"T_bbd6b_row6_col10\" class=\"data row6 col10\" >6.860000</td>\n",
       "      <td id=\"T_bbd6b_row6_col11\" class=\"data row6 col11\" >1</td>\n",
       "    </tr>\n",
       "    <tr>\n",
       "      <th id=\"T_bbd6b_level0_row7\" class=\"row_heading level0 row7\" >7</th>\n",
       "      <td id=\"T_bbd6b_row7_col0\" class=\"data row7 col0\" >WHART</td>\n",
       "      <td id=\"T_bbd6b_row7_col1\" class=\"data row7 col1\" >0.1358</td>\n",
       "      <td id=\"T_bbd6b_row7_col2\" class=\"data row7 col2\" >20,000</td>\n",
       "      <td id=\"T_bbd6b_row7_col3\" class=\"data row7 col3\" >2,716.00</td>\n",
       "      <td id=\"T_bbd6b_row7_col4\" class=\"data row7 col4\" >2,444.40</td>\n",
       "      <td id=\"T_bbd6b_row7_col5\" class=\"data row7 col5\" >2025-05-19</td>\n",
       "      <td id=\"T_bbd6b_row7_col6\" class=\"data row7 col6\" >2025-06-06</td>\n",
       "      <td id=\"T_bbd6b_row7_col7\" class=\"data row7 col7\" >246,000.00</td>\n",
       "      <td id=\"T_bbd6b_row7_col8\" class=\"data row7 col8\" >0.99%</td>\n",
       "      <td id=\"T_bbd6b_row7_col9\" class=\"data row7 col9\" >14266.000000</td>\n",
       "      <td id=\"T_bbd6b_row7_col10\" class=\"data row7 col10\" >5.800000</td>\n",
       "      <td id=\"T_bbd6b_row7_col11\" class=\"data row7 col11\" >1</td>\n",
       "    </tr>\n",
       "  </tbody>\n",
       "</table>\n"
      ],
      "text/plain": [
       "<pandas.io.formats.style.Styler at 0x200655db680>"
      ]
     },
     "execution_count": 59,
     "metadata": {},
     "output_type": "execute_result"
    }
   ],
   "source": [
    "dividend = pd.read_sql(sql, const)\n",
    "dividend.columns = dividend.columns.str.lower()\n",
    "dividend['shares'] = dividend['shares'].astype('int64')\n",
    "dividend['xdate'] = pd.to_datetime(dividend['xdate'])\n",
    "dividend['paiddate'] = pd.to_datetime(dividend['paiddate'])\n",
    "dividend['amount'] = round(dividend['shares'] * dividend['qtrly'], 2)\n",
    "dividend['amt_yearly'] = round(dividend['shares'] * dividend['yearly'], 2)\n",
    "dividend['net'] = round(dividend['amount'] * 0.9, 2)\n",
    "dividend['pct'] = round(dividend['net'] / dividend['cost_amt'] * 100, 2)\n",
    "dividend['yearly'] = round(dividend['amt_yearly'] / dividend['cost_amt'] * 100, 2)\n",
    "dividend[cols].style.format(format_dict)"
   ]
  },
  {
   "cell_type": "code",
   "execution_count": 71,
   "metadata": {},
   "outputs": [],
   "source": [
    "colt = 'name qtrly shares amount net publish_date xdate paiddate q_eps aq_eps'.split()"
   ]
  },
  {
   "cell_type": "code",
   "execution_count": 73,
   "metadata": {},
   "outputs": [
    {
     "data": {
      "text/html": [
       "<div>\n",
       "<style scoped>\n",
       "    .dataframe tbody tr th:only-of-type {\n",
       "        vertical-align: middle;\n",
       "    }\n",
       "\n",
       "    .dataframe tbody tr th {\n",
       "        vertical-align: top;\n",
       "    }\n",
       "\n",
       "    .dataframe thead th {\n",
       "        text-align: right;\n",
       "    }\n",
       "</style>\n",
       "<table border=\"1\" class=\"dataframe\">\n",
       "  <thead>\n",
       "    <tr style=\"text-align: right;\">\n",
       "      <th></th>\n",
       "      <th>name</th>\n",
       "      <th>qtrly</th>\n",
       "      <th>shares</th>\n",
       "      <th>amount</th>\n",
       "      <th>net</th>\n",
       "      <th>publish_date</th>\n",
       "      <th>xdate</th>\n",
       "      <th>paiddate</th>\n",
       "      <th>q_eps</th>\n",
       "      <th>aq_eps</th>\n",
       "    </tr>\n",
       "  </thead>\n",
       "  <tbody>\n",
       "    <tr>\n",
       "      <th>5</th>\n",
       "      <td>TFFIF</td>\n",
       "      <td>0.1039</td>\n",
       "      <td>20000</td>\n",
       "      <td>2078.0</td>\n",
       "      <td>1870.20</td>\n",
       "      <td>2024-02-13</td>\n",
       "      <td>2025-05-28</td>\n",
       "      <td>2025-06-16</td>\n",
       "      <td>0.00</td>\n",
       "      <td>0.00</td>\n",
       "    </tr>\n",
       "    <tr>\n",
       "      <th>3</th>\n",
       "      <td>GVREIT</td>\n",
       "      <td>0.2044</td>\n",
       "      <td>75000</td>\n",
       "      <td>15330.0</td>\n",
       "      <td>13797.00</td>\n",
       "      <td>2024-02-15</td>\n",
       "      <td>2025-05-28</td>\n",
       "      <td>2025-06-12</td>\n",
       "      <td>0.00</td>\n",
       "      <td>0.00</td>\n",
       "    </tr>\n",
       "    <tr>\n",
       "      <th>7</th>\n",
       "      <td>WHART</td>\n",
       "      <td>0.1358</td>\n",
       "      <td>20000</td>\n",
       "      <td>2716.0</td>\n",
       "      <td>2444.40</td>\n",
       "      <td>2024-05-09</td>\n",
       "      <td>2025-05-19</td>\n",
       "      <td>2025-06-06</td>\n",
       "      <td>0.00</td>\n",
       "      <td>0.00</td>\n",
       "    </tr>\n",
       "    <tr>\n",
       "      <th>4</th>\n",
       "      <td>IVL</td>\n",
       "      <td>0.1750</td>\n",
       "      <td>7200</td>\n",
       "      <td>1260.0</td>\n",
       "      <td>1134.00</td>\n",
       "      <td>2024-05-10</td>\n",
       "      <td>2025-05-27</td>\n",
       "      <td>2025-06-12</td>\n",
       "      <td>0.17</td>\n",
       "      <td>0.17</td>\n",
       "    </tr>\n",
       "    <tr>\n",
       "      <th>6</th>\n",
       "      <td>WHAIR</td>\n",
       "      <td>0.0582</td>\n",
       "      <td>60000</td>\n",
       "      <td>3492.0</td>\n",
       "      <td>3142.80</td>\n",
       "      <td>2024-05-13</td>\n",
       "      <td>2025-05-26</td>\n",
       "      <td>2025-06-25</td>\n",
       "      <td>0.00</td>\n",
       "      <td>0.00</td>\n",
       "    </tr>\n",
       "    <tr>\n",
       "      <th>2</th>\n",
       "      <td>DIF</td>\n",
       "      <td>0.2222</td>\n",
       "      <td>40000</td>\n",
       "      <td>8888.0</td>\n",
       "      <td>7999.20</td>\n",
       "      <td>2024-05-14</td>\n",
       "      <td>2025-05-14</td>\n",
       "      <td>2025-06-09</td>\n",
       "      <td>0.00</td>\n",
       "      <td>0.00</td>\n",
       "    </tr>\n",
       "    <tr>\n",
       "      <th>0</th>\n",
       "      <td>AIMIRT</td>\n",
       "      <td>0.2150</td>\n",
       "      <td>12500</td>\n",
       "      <td>2687.5</td>\n",
       "      <td>2418.75</td>\n",
       "      <td>2024-05-15</td>\n",
       "      <td>2025-05-19</td>\n",
       "      <td>2025-06-06</td>\n",
       "      <td>0.00</td>\n",
       "      <td>0.00</td>\n",
       "    </tr>\n",
       "    <tr>\n",
       "      <th>1</th>\n",
       "      <td>CPNREIT</td>\n",
       "      <td>0.0987</td>\n",
       "      <td>55000</td>\n",
       "      <td>5428.5</td>\n",
       "      <td>4885.65</td>\n",
       "      <td>2024-05-15</td>\n",
       "      <td>2025-05-19</td>\n",
       "      <td>2025-06-04</td>\n",
       "      <td>0.00</td>\n",
       "      <td>0.00</td>\n",
       "    </tr>\n",
       "  </tbody>\n",
       "</table>\n",
       "</div>"
      ],
      "text/plain": [
       "      name   qtrly  shares   amount       net publish_date      xdate  \\\n",
       "5    TFFIF  0.1039   20000   2078.0   1870.20   2024-02-13 2025-05-28   \n",
       "3   GVREIT  0.2044   75000  15330.0  13797.00   2024-02-15 2025-05-28   \n",
       "7    WHART  0.1358   20000   2716.0   2444.40   2024-05-09 2025-05-19   \n",
       "4      IVL  0.1750    7200   1260.0   1134.00   2024-05-10 2025-05-27   \n",
       "6    WHAIR  0.0582   60000   3492.0   3142.80   2024-05-13 2025-05-26   \n",
       "2      DIF  0.2222   40000   8888.0   7999.20   2024-05-14 2025-05-14   \n",
       "0   AIMIRT  0.2150   12500   2687.5   2418.75   2024-05-15 2025-05-19   \n",
       "1  CPNREIT  0.0987   55000   5428.5   4885.65   2024-05-15 2025-05-19   \n",
       "\n",
       "    paiddate  q_eps  aq_eps  \n",
       "5 2025-06-16   0.00    0.00  \n",
       "3 2025-06-12   0.00    0.00  \n",
       "7 2025-06-06   0.00    0.00  \n",
       "4 2025-06-12   0.17    0.17  \n",
       "6 2025-06-25   0.00    0.00  \n",
       "2 2025-06-09   0.00    0.00  \n",
       "0 2025-06-06   0.00    0.00  \n",
       "1 2025-06-04   0.00    0.00  "
      ]
     },
     "execution_count": 73,
     "metadata": {},
     "output_type": "execute_result"
    }
   ],
   "source": [
    "df_merge[colt].sort_values('publish_date',ascending=True)"
   ]
  },
  {
   "cell_type": "code",
   "execution_count": 75,
   "metadata": {},
   "outputs": [],
   "source": [
    "file_name = '20-div-25q1.xlsx'\n",
    "xsl_file = os.path.join(xsl_path, file_name)\n",
    "\n",
    "df_merge[colt].sort_values(['name'],ascending=[True]).to_excel(xsl_file, index=False)"
   ]
  },
  {
   "cell_type": "code",
   "execution_count": 77,
   "metadata": {},
   "outputs": [],
   "source": [
    "const.commit()\n",
    "const.close()"
   ]
  },
  {
   "cell_type": "code",
   "execution_count": null,
   "metadata": {},
   "outputs": [],
   "source": []
  }
 ],
 "metadata": {
  "anaconda-cloud": {},
  "kernelspec": {
   "display_name": "Python 3 (ipykernel)",
   "language": "python",
   "name": "python3"
  },
  "language_info": {
   "codemirror_mode": {
    "name": "ipython",
    "version": 3
   },
   "file_extension": ".py",
   "mimetype": "text/x-python",
   "name": "python",
   "nbconvert_exporter": "python",
   "pygments_lexer": "ipython3",
   "version": "3.12.3"
  }
 },
 "nbformat": 4,
 "nbformat_minor": 4
}
