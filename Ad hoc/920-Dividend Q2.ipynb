{
 "cells": [
  {
   "cell_type": "code",
   "execution_count": 1,
   "metadata": {},
   "outputs": [
    {
     "data": {
      "text/plain": [
       "datetime.date(2025, 8, 13)"
      ]
     },
     "execution_count": 1,
     "metadata": {},
     "output_type": "execute_result"
    }
   ],
   "source": [
    "import os\n",
    "import pandas as pd\n",
    "from sqlalchemy import create_engine, text\n",
    "from datetime import date, timedelta\n",
    "from pandas.tseries.offsets import BDay\n",
    "import calendar\n",
    "\n",
    "engine = create_engine(\"mysql+pymysql://root:@localhost:3306/stock\")\n",
    "const = engine.connect()\n",
    "engine = create_engine(\"sqlite:///c:\\\\ruby\\\\portlt\\\\db\\\\development.sqlite3\")\n",
    "conlt = engine.connect()\n",
    "\n",
    "data_path = \"../excel/\"\n",
    "csv_path = \"\\\\Users\\\\User\\\\iCloudDrive\\\\\"\n",
    "one_path = \"\\\\Users\\\\User\\\\OneDrive\\\\Documents\\\\Data\\\\\"\n",
    "osd_path = \"\\\\Users\\\\User\\\\OneDrive\\\\Documents\\\\obsidian-git-sync\\\\Data\\\\\"\n",
    "\n",
    "year = 2025\n",
    "quarter = 2\n",
    "today = date.today()\n",
    "today"
   ]
  },
  {
   "cell_type": "code",
   "execution_count": 3,
   "metadata": {},
   "outputs": [
    {
     "data": {
      "text/plain": [
       "(datetime.date(2025, 8, 13), datetime.date(2025, 8, 8))"
      ]
     },
     "execution_count": 3,
     "metadata": {},
     "output_type": "execute_result"
    }
   ],
   "source": [
    "num_business_days = BDay(3)\n",
    "yesterday = today - num_business_days\n",
    "yesterday = yesterday.date()\n",
    "today, yesterday"
   ]
  },
  {
   "cell_type": "code",
   "execution_count": 5,
   "metadata": {},
   "outputs": [],
   "source": [
    "format_dict = {    \n",
    "    'shares':'{:,}',    \n",
    "    'q4':'{:.4f}','q3':'{:.4f}','q2':'{:.4f}','q1':'{:.4f}','dividend':'{:.4f}','qtrly':'{:.4f}',\n",
    "    'price':'{:.2f}',    \n",
    "    'amount':'{:,.2f}','net':'{:,.2f}','cost_amt':'{:,.2f}',\n",
    "    'yield':'{:,.2f}%','pct':'{:,.2f}%',\n",
    "    'xdate':'{:%Y-%m-%d}','paiddate':'{:%Y-%m-%d}',\n",
    "              }"
   ]
  },
  {
   "cell_type": "code",
   "execution_count": 7,
   "metadata": {},
   "outputs": [],
   "source": [
    "# Get the user's home directory\n",
    "user_path = os.path.expanduser('~')\n",
    "# Get the current working directory\n",
    "current_path = os.getcwd()\n",
    "# Derive the base directory (base_dir) by removing the last folder ('Daily')\n",
    "base_path = os.path.dirname(current_path)\n",
    "#C:\\Users\\PC1\\OneDrive\\A5\\Data\n",
    "dat_path = os.path.join(base_path, \"Data\")\n",
    "#C:\\Users\\PC1\\OneDrive\\Imports\\santisoontarinka@gmail.com - Google Drive\\Data>\n",
    "god_path = os.path.join(user_path, \"OneDrive\",\"Imports\",\"santisoontarinka@gmail.com - Google Drive\",\"Data\")\n",
    "#C:\\Users\\PC1\\iCloudDrive\\data\n",
    "icd_path = os.path.join(user_path, \"iCloudDrive\", \"Data\")\n",
    "#C:\\Users\\PC1\\OneDrive\\Documents\\obsidian-git-sync\\Data\n",
    "osd_path = os.path.join(user_path, \"OneDrive\",\"Documents\",\"obsidian-git-sync\",\"Data\")\n",
    "#C:\\Users\\PC1\\OneDrive\\A5\\Excel\n",
    "xsl_path = os.path.join(base_path, \"Excel\")"
   ]
  },
  {
   "cell_type": "code",
   "execution_count": 9,
   "metadata": {},
   "outputs": [
    {
     "name": "stdout",
     "output_type": "stream",
     "text": [
      "User path: C:\\Users\\PC1\n",
      "Current path: C:\\Users\\PC1\\OneDrive\\A5\\Ad hoc\n",
      "Base path: C:\\Users\\PC1\\OneDrive\\A5\n",
      "Data path (dat_path): C:\\Users\\PC1\\OneDrive\\A5\\Data\n",
      "Excel path (xsl_path): C:\\Users\\PC1\\OneDrive\\A5\\Excel\n",
      "Google Drive path (god_path): C:\\Users\\PC1\\OneDrive\\Imports\\santisoontarinka@gmail.com - Google Drive\\Data\n",
      "iCloudDrive path (icd_path): C:\\Users\\PC1\\iCloudDrive\\Data\n",
      "Obsidian path (osd_path): C:\\Users\\PC1\\OneDrive\\Documents\\obsidian-git-sync\\Data\n"
     ]
    }
   ],
   "source": [
    "print(\"User path:\", user_path)\n",
    "print(f\"Current path: {current_path}\")\n",
    "print(f\"Base path: {base_path}\")\n",
    "print(f\"Data path (dat_path): {dat_path}\") \n",
    "print(f\"Excel path (xsl_path): {xsl_path}\") \n",
    "print(f\"Google Drive path (god_path): {god_path}\")\n",
    "print(f\"iCloudDrive path (icd_path): {icd_path}\") \n",
    "print(f\"Obsidian path (osd_path): {osd_path}\")"
   ]
  },
  {
   "cell_type": "markdown",
   "metadata": {},
   "source": [
    "### New dividend stock"
   ]
  },
  {
   "cell_type": "code",
   "execution_count": 9,
   "metadata": {},
   "outputs": [
    {
     "data": {
      "text/html": [
       "<style type=\"text/css\">\n",
       "</style>\n",
       "<table id=\"T_e08e6\">\n",
       "  <thead>\n",
       "    <tr>\n",
       "      <th class=\"blank level0\" >&nbsp;</th>\n",
       "      <th id=\"T_e08e6_level0_col0\" class=\"col_heading level0 col0\" >name</th>\n",
       "      <th id=\"T_e08e6_level0_col1\" class=\"col_heading level0 col1\" >q4</th>\n",
       "      <th id=\"T_e08e6_level0_col2\" class=\"col_heading level0 col2\" >q3</th>\n",
       "      <th id=\"T_e08e6_level0_col3\" class=\"col_heading level0 col3\" >q2</th>\n",
       "      <th id=\"T_e08e6_level0_col4\" class=\"col_heading level0 col4\" >q1</th>\n",
       "      <th id=\"T_e08e6_level0_col5\" class=\"col_heading level0 col5\" >dividend</th>\n",
       "      <th id=\"T_e08e6_level0_col6\" class=\"col_heading level0 col6\" >shares</th>\n",
       "      <th id=\"T_e08e6_level0_col7\" class=\"col_heading level0 col7\" >xdate</th>\n",
       "      <th id=\"T_e08e6_level0_col8\" class=\"col_heading level0 col8\" >paiddate</th>\n",
       "      <th id=\"T_e08e6_level0_col9\" class=\"col_heading level0 col9\" >kind</th>\n",
       "      <th id=\"T_e08e6_level0_col10\" class=\"col_heading level0 col10\" >actual</th>\n",
       "    </tr>\n",
       "  </thead>\n",
       "  <tbody>\n",
       "  </tbody>\n",
       "</table>\n"
      ],
      "text/plain": [
       "<pandas.io.formats.style.Styler at 0x265e3f11040>"
      ]
     },
     "execution_count": 9,
     "metadata": {},
     "output_type": "execute_result"
    }
   ],
   "source": [
    "name = 'PTT'\n",
    "sql = \"\"\"\n",
    "SELECT * \n",
    "FROM DIVIDEND\n",
    "WHERE name = '%s'\n",
    "\"\"\"\n",
    "sql = sql % name\n",
    "dividend = pd.read_sql(sql, const)\n",
    "dividend.drop(['PRICE', 'PERCENT'], axis=1, inplace=True)\n",
    "dividend.columns = dividend.columns.str.lower()\n",
    "dividend['shares'] = dividend['shares'].astype('int64')\n",
    "dividend['xdate'] = pd.to_datetime(dividend['xdate'])\n",
    "dividend['paiddate'] = pd.to_datetime(dividend['paiddate'])\n",
    "dividend.style.format(format_dict)"
   ]
  },
  {
   "cell_type": "code",
   "execution_count": 13,
   "metadata": {},
   "outputs": [
    {
     "name": "stdout",
     "output_type": "stream",
     "text": [
      "1\n"
     ]
    }
   ],
   "source": [
    "sqlIns = \"\"\"\n",
    "INSERT INTO dividend\n",
    "VALUES('PTT',1.30,0,0.80,0,2.10,0,0,00,'2025-03-06','2025-04-29','',0)\n",
    "\"\"\"\n",
    "rp = const.execute(text(sqlIns))\n",
    "print(rp.rowcount) "
   ]
  },
  {
   "cell_type": "code",
   "execution_count": 15,
   "metadata": {},
   "outputs": [
    {
     "data": {
      "text/html": [
       "<style type=\"text/css\">\n",
       "</style>\n",
       "<table id=\"T_197ac\">\n",
       "  <thead>\n",
       "    <tr>\n",
       "      <th class=\"blank level0\" >&nbsp;</th>\n",
       "      <th id=\"T_197ac_level0_col0\" class=\"col_heading level0 col0\" >name</th>\n",
       "      <th id=\"T_197ac_level0_col1\" class=\"col_heading level0 col1\" >q4</th>\n",
       "      <th id=\"T_197ac_level0_col2\" class=\"col_heading level0 col2\" >q3</th>\n",
       "      <th id=\"T_197ac_level0_col3\" class=\"col_heading level0 col3\" >q2</th>\n",
       "      <th id=\"T_197ac_level0_col4\" class=\"col_heading level0 col4\" >q1</th>\n",
       "      <th id=\"T_197ac_level0_col5\" class=\"col_heading level0 col5\" >dividend</th>\n",
       "      <th id=\"T_197ac_level0_col6\" class=\"col_heading level0 col6\" >shares</th>\n",
       "      <th id=\"T_197ac_level0_col7\" class=\"col_heading level0 col7\" >xdate</th>\n",
       "      <th id=\"T_197ac_level0_col8\" class=\"col_heading level0 col8\" >paiddate</th>\n",
       "      <th id=\"T_197ac_level0_col9\" class=\"col_heading level0 col9\" >kind</th>\n",
       "      <th id=\"T_197ac_level0_col10\" class=\"col_heading level0 col10\" >actual</th>\n",
       "    </tr>\n",
       "  </thead>\n",
       "  <tbody>\n",
       "    <tr>\n",
       "      <th id=\"T_197ac_level0_row0\" class=\"row_heading level0 row0\" >0</th>\n",
       "      <td id=\"T_197ac_row0_col0\" class=\"data row0 col0\" >PTT</td>\n",
       "      <td id=\"T_197ac_row0_col1\" class=\"data row0 col1\" >1.3000</td>\n",
       "      <td id=\"T_197ac_row0_col2\" class=\"data row0 col2\" >0.0000</td>\n",
       "      <td id=\"T_197ac_row0_col3\" class=\"data row0 col3\" >0.8000</td>\n",
       "      <td id=\"T_197ac_row0_col4\" class=\"data row0 col4\" >0.0000</td>\n",
       "      <td id=\"T_197ac_row0_col5\" class=\"data row0 col5\" >2.1000</td>\n",
       "      <td id=\"T_197ac_row0_col6\" class=\"data row0 col6\" >0</td>\n",
       "      <td id=\"T_197ac_row0_col7\" class=\"data row0 col7\" >2025-03-06</td>\n",
       "      <td id=\"T_197ac_row0_col8\" class=\"data row0 col8\" >2025-04-29</td>\n",
       "      <td id=\"T_197ac_row0_col9\" class=\"data row0 col9\" ></td>\n",
       "      <td id=\"T_197ac_row0_col10\" class=\"data row0 col10\" >0</td>\n",
       "    </tr>\n",
       "  </tbody>\n",
       "</table>\n"
      ],
      "text/plain": [
       "<pandas.io.formats.style.Styler at 0x265e4d3bec0>"
      ]
     },
     "execution_count": 15,
     "metadata": {},
     "output_type": "execute_result"
    }
   ],
   "source": [
    "sql = \"\"\"\n",
    "SELECT * \n",
    "FROM DIVIDEND\n",
    "WHERE name = '%s'\n",
    "\"\"\"\n",
    "sql = sql % name\n",
    "dividend = pd.read_sql(sql, const)\n",
    "dividend.drop(['PRICE', 'PERCENT'], axis=1, inplace=True)\n",
    "dividend.columns = dividend.columns.str.lower()\n",
    "dividend['shares'] = dividend['shares'].astype('int64')\n",
    "dividend['xdate'] = pd.to_datetime(dividend['xdate'])\n",
    "dividend['paiddate'] = pd.to_datetime(dividend['paiddate'])\n",
    "dividend.style.format(format_dict)"
   ]
  },
  {
   "cell_type": "markdown",
   "metadata": {},
   "source": [
    "### Start of Update dividend"
   ]
  },
  {
   "cell_type": "code",
   "execution_count": 11,
   "metadata": {},
   "outputs": [],
   "source": [
    "def update_dividend1(q2, XDATE, PAIDDATE, actual, name):\n",
    "    # Use parameterized query to avoid SQL injection\n",
    "    sql = text(\"\"\"\n",
    "        UPDATE dividend \n",
    "        SET q2 = :q2, \n",
    "            dividend = q1 + q2 + q3 + q4, \n",
    "            XDATE = :XDATE, \n",
    "            PAIDDATE = :PAIDDATE, \n",
    "            actual = :actual \n",
    "        WHERE name = :name\n",
    "    \"\"\")\n",
    "    \n",
    "    # Execute the query with parameters\n",
    "    rp = const.execute(sql, {\n",
    "        'q2': q2,\n",
    "        'XDATE': XDATE,\n",
    "        'PAIDDATE': PAIDDATE,\n",
    "        'actual': actual,\n",
    "        'name': name\n",
    "    })\n",
    "    \n",
    "    return f\"Records updated = {rp.rowcount}\""
   ]
  },
  {
   "cell_type": "code",
   "execution_count": 13,
   "metadata": {
    "scrolled": true
   },
   "outputs": [
    {
     "data": {
      "text/html": [
       "<style type=\"text/css\">\n",
       "</style>\n",
       "<table id=\"T_ffbc5\">\n",
       "  <thead>\n",
       "    <tr>\n",
       "      <th class=\"blank level0\" >&nbsp;</th>\n",
       "      <th id=\"T_ffbc5_level0_col0\" class=\"col_heading level0 col0\" >name</th>\n",
       "      <th id=\"T_ffbc5_level0_col1\" class=\"col_heading level0 col1\" >q4</th>\n",
       "      <th id=\"T_ffbc5_level0_col2\" class=\"col_heading level0 col2\" >q3</th>\n",
       "      <th id=\"T_ffbc5_level0_col3\" class=\"col_heading level0 col3\" >q2</th>\n",
       "      <th id=\"T_ffbc5_level0_col4\" class=\"col_heading level0 col4\" >q1</th>\n",
       "      <th id=\"T_ffbc5_level0_col5\" class=\"col_heading level0 col5\" >dividend</th>\n",
       "      <th id=\"T_ffbc5_level0_col6\" class=\"col_heading level0 col6\" >shares</th>\n",
       "      <th id=\"T_ffbc5_level0_col7\" class=\"col_heading level0 col7\" >xdate</th>\n",
       "      <th id=\"T_ffbc5_level0_col8\" class=\"col_heading level0 col8\" >paiddate</th>\n",
       "      <th id=\"T_ffbc5_level0_col9\" class=\"col_heading level0 col9\" >kind</th>\n",
       "      <th id=\"T_ffbc5_level0_col10\" class=\"col_heading level0 col10\" >actual</th>\n",
       "    </tr>\n",
       "  </thead>\n",
       "  <tbody>\n",
       "    <tr>\n",
       "      <th id=\"T_ffbc5_level0_row0\" class=\"row_heading level0 row0\" >0</th>\n",
       "      <td id=\"T_ffbc5_row0_col0\" class=\"data row0 col0\" >JMT</td>\n",
       "      <td id=\"T_ffbc5_row0_col1\" class=\"data row0 col1\" >0.2800</td>\n",
       "      <td id=\"T_ffbc5_row0_col2\" class=\"data row0 col2\" >0.0000</td>\n",
       "      <td id=\"T_ffbc5_row0_col3\" class=\"data row0 col3\" >0.3800</td>\n",
       "      <td id=\"T_ffbc5_row0_col4\" class=\"data row0 col4\" >0.0000</td>\n",
       "      <td id=\"T_ffbc5_row0_col5\" class=\"data row0 col5\" >0.6600</td>\n",
       "      <td id=\"T_ffbc5_row0_col6\" class=\"data row0 col6\" >4,200</td>\n",
       "      <td id=\"T_ffbc5_row0_col7\" class=\"data row0 col7\" >2025-02-25</td>\n",
       "      <td id=\"T_ffbc5_row0_col8\" class=\"data row0 col8\" >2025-04-30</td>\n",
       "      <td id=\"T_ffbc5_row0_col9\" class=\"data row0 col9\" ></td>\n",
       "      <td id=\"T_ffbc5_row0_col10\" class=\"data row0 col10\" >0</td>\n",
       "    </tr>\n",
       "  </tbody>\n",
       "</table>\n"
      ],
      "text/plain": [
       "<pandas.io.formats.style.Styler at 0x1c2151b3ec0>"
      ]
     },
     "execution_count": 13,
     "metadata": {},
     "output_type": "execute_result"
    }
   ],
   "source": [
    "name = 'JMT'\n",
    "sql = \"\"\"\n",
    "SELECT * FROM DIVIDEND WHERE name = '%s'\"\"\"\n",
    "sql = sql % name\n",
    "dividend = pd.read_sql(sql, const)\n",
    "dividend.drop(['PRICE', 'PERCENT'], axis=1, inplace=True)\n",
    "dividend.columns = dividend.columns.str.lower()\n",
    "dividend['shares'] = dividend['shares'].astype('int64')\n",
    "dividend['xdate'] = pd.to_datetime(dividend['xdate'])\n",
    "dividend['paiddate'] = pd.to_datetime(dividend['paiddate'])\n",
    "dividend.style.format(format_dict)"
   ]
  },
  {
   "cell_type": "code",
   "execution_count": 15,
   "metadata": {},
   "outputs": [
    {
     "data": {
      "text/plain": [
       "'Records updated = 1'"
      ]
     },
     "execution_count": 15,
     "metadata": {},
     "output_type": "execute_result"
    }
   ],
   "source": [
    "q2 = 0.24\n",
    "XDATE = '2025-08-26'\n",
    "PAIDDATE = '2025-09-12'\n",
    "actual = 1\n",
    "\n",
    "update_dividend1(q2,XDATE,PAIDDATE,actual,name)"
   ]
  },
  {
   "cell_type": "code",
   "execution_count": 17,
   "metadata": {},
   "outputs": [
    {
     "data": {
      "text/html": [
       "<style type=\"text/css\">\n",
       "</style>\n",
       "<table id=\"T_3ca80\">\n",
       "  <thead>\n",
       "    <tr>\n",
       "      <th class=\"blank level0\" >&nbsp;</th>\n",
       "      <th id=\"T_3ca80_level0_col0\" class=\"col_heading level0 col0\" >name</th>\n",
       "      <th id=\"T_3ca80_level0_col1\" class=\"col_heading level0 col1\" >q4</th>\n",
       "      <th id=\"T_3ca80_level0_col2\" class=\"col_heading level0 col2\" >q3</th>\n",
       "      <th id=\"T_3ca80_level0_col3\" class=\"col_heading level0 col3\" >q2</th>\n",
       "      <th id=\"T_3ca80_level0_col4\" class=\"col_heading level0 col4\" >q1</th>\n",
       "      <th id=\"T_3ca80_level0_col5\" class=\"col_heading level0 col5\" >dividend</th>\n",
       "      <th id=\"T_3ca80_level0_col6\" class=\"col_heading level0 col6\" >shares</th>\n",
       "      <th id=\"T_3ca80_level0_col7\" class=\"col_heading level0 col7\" >xdate</th>\n",
       "      <th id=\"T_3ca80_level0_col8\" class=\"col_heading level0 col8\" >paiddate</th>\n",
       "      <th id=\"T_3ca80_level0_col9\" class=\"col_heading level0 col9\" >kind</th>\n",
       "      <th id=\"T_3ca80_level0_col10\" class=\"col_heading level0 col10\" >actual</th>\n",
       "    </tr>\n",
       "  </thead>\n",
       "  <tbody>\n",
       "    <tr>\n",
       "      <th id=\"T_3ca80_level0_row0\" class=\"row_heading level0 row0\" >0</th>\n",
       "      <td id=\"T_3ca80_row0_col0\" class=\"data row0 col0\" >JMT</td>\n",
       "      <td id=\"T_3ca80_row0_col1\" class=\"data row0 col1\" >0.2800</td>\n",
       "      <td id=\"T_3ca80_row0_col2\" class=\"data row0 col2\" >0.0000</td>\n",
       "      <td id=\"T_3ca80_row0_col3\" class=\"data row0 col3\" >0.2400</td>\n",
       "      <td id=\"T_3ca80_row0_col4\" class=\"data row0 col4\" >0.0000</td>\n",
       "      <td id=\"T_3ca80_row0_col5\" class=\"data row0 col5\" >0.5200</td>\n",
       "      <td id=\"T_3ca80_row0_col6\" class=\"data row0 col6\" >4,200</td>\n",
       "      <td id=\"T_3ca80_row0_col7\" class=\"data row0 col7\" >2025-08-26</td>\n",
       "      <td id=\"T_3ca80_row0_col8\" class=\"data row0 col8\" >2025-09-12</td>\n",
       "      <td id=\"T_3ca80_row0_col9\" class=\"data row0 col9\" ></td>\n",
       "      <td id=\"T_3ca80_row0_col10\" class=\"data row0 col10\" >1</td>\n",
       "    </tr>\n",
       "  </tbody>\n",
       "</table>\n"
      ],
      "text/plain": [
       "<pandas.io.formats.style.Styler at 0x1c2154b5fd0>"
      ]
     },
     "execution_count": 17,
     "metadata": {},
     "output_type": "execute_result"
    }
   ],
   "source": [
    "sql = \"\"\"\n",
    "SELECT * FROM DIVIDEND WHERE name = '%s'\"\"\"\n",
    "sql = sql % name\n",
    "dividend = pd.read_sql(sql, const)\n",
    "dividend.drop(['PRICE', 'PERCENT'], axis=1, inplace=True)\n",
    "dividend.columns = dividend.columns.str.lower()\n",
    "dividend['shares'] = dividend['shares'].astype('int64')\n",
    "dividend['xdate'] = pd.to_datetime(dividend['xdate'])\n",
    "dividend['paiddate'] = pd.to_datetime(dividend['paiddate'])\n",
    "dividend.style.format(format_dict)"
   ]
  },
  {
   "cell_type": "code",
   "execution_count": 29,
   "metadata": {},
   "outputs": [
    {
     "data": {
      "text/html": [
       "<div>\n",
       "<style scoped>\n",
       "    .dataframe tbody tr th:only-of-type {\n",
       "        vertical-align: middle;\n",
       "    }\n",
       "\n",
       "    .dataframe tbody tr th {\n",
       "        vertical-align: top;\n",
       "    }\n",
       "\n",
       "    .dataframe thead th {\n",
       "        text-align: right;\n",
       "    }\n",
       "</style>\n",
       "<table border=\"1\" class=\"dataframe\">\n",
       "  <thead>\n",
       "    <tr style=\"text-align: right;\">\n",
       "      <th></th>\n",
       "      <th>name</th>\n",
       "      <th>date</th>\n",
       "      <th>price</th>\n",
       "      <th>maxp</th>\n",
       "      <th>minp</th>\n",
       "      <th>qty</th>\n",
       "      <th>opnp</th>\n",
       "    </tr>\n",
       "  </thead>\n",
       "  <tbody>\n",
       "    <tr>\n",
       "      <th>0</th>\n",
       "      <td>RCL</td>\n",
       "      <td>2024-08-09</td>\n",
       "      <td>22.80</td>\n",
       "      <td>23.80</td>\n",
       "      <td>22.70</td>\n",
       "      <td>10938786</td>\n",
       "      <td>23.60</td>\n",
       "    </tr>\n",
       "    <tr>\n",
       "      <th>1</th>\n",
       "      <td>RCL</td>\n",
       "      <td>2024-08-08</td>\n",
       "      <td>23.40</td>\n",
       "      <td>23.60</td>\n",
       "      <td>22.60</td>\n",
       "      <td>5763256</td>\n",
       "      <td>22.60</td>\n",
       "    </tr>\n",
       "    <tr>\n",
       "      <th>2</th>\n",
       "      <td>RCL</td>\n",
       "      <td>2024-08-07</td>\n",
       "      <td>22.70</td>\n",
       "      <td>22.80</td>\n",
       "      <td>22.00</td>\n",
       "      <td>7031034</td>\n",
       "      <td>22.20</td>\n",
       "    </tr>\n",
       "    <tr>\n",
       "      <th>3</th>\n",
       "      <td>RCL</td>\n",
       "      <td>2024-08-06</td>\n",
       "      <td>21.90</td>\n",
       "      <td>22.60</td>\n",
       "      <td>21.50</td>\n",
       "      <td>9344114</td>\n",
       "      <td>22.20</td>\n",
       "    </tr>\n",
       "    <tr>\n",
       "      <th>4</th>\n",
       "      <td>RCL</td>\n",
       "      <td>2024-08-05</td>\n",
       "      <td>21.40</td>\n",
       "      <td>23.30</td>\n",
       "      <td>21.40</td>\n",
       "      <td>13701876</td>\n",
       "      <td>22.80</td>\n",
       "    </tr>\n",
       "    <tr>\n",
       "      <th>...</th>\n",
       "      <td>...</td>\n",
       "      <td>...</td>\n",
       "      <td>...</td>\n",
       "      <td>...</td>\n",
       "      <td>...</td>\n",
       "      <td>...</td>\n",
       "      <td>...</td>\n",
       "    </tr>\n",
       "    <tr>\n",
       "      <th>1303</th>\n",
       "      <td>RCL</td>\n",
       "      <td>2019-03-12</td>\n",
       "      <td>4.66</td>\n",
       "      <td>4.72</td>\n",
       "      <td>4.64</td>\n",
       "      <td>99200</td>\n",
       "      <td>4.68</td>\n",
       "    </tr>\n",
       "    <tr>\n",
       "      <th>1304</th>\n",
       "      <td>RCL</td>\n",
       "      <td>2019-03-11</td>\n",
       "      <td>4.68</td>\n",
       "      <td>4.72</td>\n",
       "      <td>4.66</td>\n",
       "      <td>111200</td>\n",
       "      <td>4.72</td>\n",
       "    </tr>\n",
       "    <tr>\n",
       "      <th>1305</th>\n",
       "      <td>RCL</td>\n",
       "      <td>2019-03-08</td>\n",
       "      <td>4.72</td>\n",
       "      <td>4.74</td>\n",
       "      <td>4.66</td>\n",
       "      <td>285900</td>\n",
       "      <td>4.70</td>\n",
       "    </tr>\n",
       "    <tr>\n",
       "      <th>1306</th>\n",
       "      <td>RCL</td>\n",
       "      <td>2019-03-07</td>\n",
       "      <td>4.70</td>\n",
       "      <td>4.70</td>\n",
       "      <td>4.62</td>\n",
       "      <td>159700</td>\n",
       "      <td>4.62</td>\n",
       "    </tr>\n",
       "    <tr>\n",
       "      <th>1307</th>\n",
       "      <td>RCL</td>\n",
       "      <td>2019-03-06</td>\n",
       "      <td>4.66</td>\n",
       "      <td>4.70</td>\n",
       "      <td>4.64</td>\n",
       "      <td>186601</td>\n",
       "      <td>4.70</td>\n",
       "    </tr>\n",
       "  </tbody>\n",
       "</table>\n",
       "<p>1308 rows × 7 columns</p>\n",
       "</div>"
      ],
      "text/plain": [
       "     name        date  price   maxp   minp       qty   opnp\n",
       "0     RCL  2024-08-09  22.80  23.80  22.70  10938786  23.60\n",
       "1     RCL  2024-08-08  23.40  23.60  22.60   5763256  22.60\n",
       "2     RCL  2024-08-07  22.70  22.80  22.00   7031034  22.20\n",
       "3     RCL  2024-08-06  21.90  22.60  21.50   9344114  22.20\n",
       "4     RCL  2024-08-05  21.40  23.30  21.40  13701876  22.80\n",
       "...   ...         ...    ...    ...    ...       ...    ...\n",
       "1303  RCL  2019-03-12   4.66   4.72   4.64     99200   4.68\n",
       "1304  RCL  2019-03-11   4.68   4.72   4.66    111200   4.72\n",
       "1305  RCL  2019-03-08   4.72   4.74   4.66    285900   4.70\n",
       "1306  RCL  2019-03-07   4.70   4.70   4.62    159700   4.62\n",
       "1307  RCL  2019-03-06   4.66   4.70   4.64    186601   4.70\n",
       "\n",
       "[1308 rows x 7 columns]"
      ]
     },
     "execution_count": 29,
     "metadata": {},
     "output_type": "execute_result"
    }
   ],
   "source": [
    "sql = \"\"\"\n",
    "SELECT * FROM price WHERE name = '%s'\n",
    "ORDER BY date DESC\"\"\"\n",
    "sql = sql % name\n",
    "price= pd.read_sql(sql, const)\n",
    "price"
   ]
  },
  {
   "cell_type": "code",
   "execution_count": null,
   "metadata": {},
   "outputs": [],
   "source": [
    "def update_dividend2(shares, q2, actual, name):\n",
    "    # Use parameterized query to avoid SQL injection\n",
    "    sql = text(\"\"\"\n",
    "        UPDATE dividend \n",
    "        SET q2 = :q2, \n",
    "            dividend = q1 + q2 + q3 + q4, \n",
    "            shares = :shares, \n",
    "            actual = :actual \n",
    "        WHERE name = :name\n",
    "    \"\"\")\n",
    "    \n",
    "    # Execute the query with parameters\n",
    "    rp = const.execute(sql, {\n",
    "        'q2': q2,\n",
    "        'shares': shares,\n",
    "        'actual': actual,\n",
    "        'name': name\n",
    "    })\n",
    "    \n",
    "    return f\"Records updated = {rp.rowcount}\""
   ]
  },
  {
   "cell_type": "code",
   "execution_count": 16,
   "metadata": {},
   "outputs": [
    {
     "data": {
      "text/html": [
       "<style type=\"text/css\">\n",
       "</style>\n",
       "<table id=\"T_535df_\">\n",
       "  <thead>\n",
       "    <tr>\n",
       "      <th class=\"blank level0\" >&nbsp;</th>\n",
       "      <th class=\"col_heading level0 col0\" >name</th>\n",
       "      <th class=\"col_heading level0 col1\" >q4</th>\n",
       "      <th class=\"col_heading level0 col2\" >q3</th>\n",
       "      <th class=\"col_heading level0 col3\" >q2</th>\n",
       "      <th class=\"col_heading level0 col4\" >q1</th>\n",
       "      <th class=\"col_heading level0 col5\" >dividend</th>\n",
       "      <th class=\"col_heading level0 col6\" >shares</th>\n",
       "      <th class=\"col_heading level0 col7\" >xdate</th>\n",
       "      <th class=\"col_heading level0 col8\" >paiddate</th>\n",
       "      <th class=\"col_heading level0 col9\" >kind</th>\n",
       "      <th class=\"col_heading level0 col10\" >actual</th>\n",
       "    </tr>\n",
       "  </thead>\n",
       "  <tbody>\n",
       "    <tr>\n",
       "      <th id=\"T_535df_level0_row0\" class=\"row_heading level0 row0\" >0</th>\n",
       "      <td id=\"T_535df_row0_col0\" class=\"data row0 col0\" >AH</td>\n",
       "      <td id=\"T_535df_row0_col1\" class=\"data row0 col1\" >0.9600</td>\n",
       "      <td id=\"T_535df_row0_col2\" class=\"data row0 col2\" >0.0000</td>\n",
       "      <td id=\"T_535df_row0_col3\" class=\"data row0 col3\" >0.7000</td>\n",
       "      <td id=\"T_535df_row0_col4\" class=\"data row0 col4\" >0.0000</td>\n",
       "      <td id=\"T_535df_row0_col5\" class=\"data row0 col5\" >1.6600</td>\n",
       "      <td id=\"T_535df_row0_col6\" class=\"data row0 col6\" >0</td>\n",
       "      <td id=\"T_535df_row0_col7\" class=\"data row0 col7\" >2023-08-29</td>\n",
       "      <td id=\"T_535df_row0_col8\" class=\"data row0 col8\" >2023-09-13</td>\n",
       "      <td id=\"T_535df_row0_col9\" class=\"data row0 col9\" ></td>\n",
       "      <td id=\"T_535df_row0_col10\" class=\"data row0 col10\" >1</td>\n",
       "    </tr>\n",
       "  </tbody>\n",
       "</table>\n"
      ],
      "text/plain": [
       "<pandas.io.formats.style.Styler at 0x18b0645e370>"
      ]
     },
     "execution_count": 16,
     "metadata": {},
     "output_type": "execute_result"
    }
   ],
   "source": [
    "name = 'AH'\n",
    "sql = \"\"\"\n",
    "SELECT * \n",
    "FROM DIVIDEND\n",
    "WHERE name = '%s'\n",
    "\"\"\"\n",
    "sql = sql % name\n",
    "dividend = pd.read_sql(sql, const)\n",
    "dividend.drop(['PRICE', 'PERCENT'], axis=1, inplace=True)\n",
    "dividend.columns = dividend.columns.str.lower()\n",
    "dividend['shares'] = dividend['shares'].astype('int64')\n",
    "dividend['xdate'] = pd.to_datetime(dividend['xdate'])\n",
    "dividend['paiddate'] = pd.to_datetime(dividend['paiddate'])\n",
    "dividend.style.format(format_dict)"
   ]
  },
  {
   "cell_type": "code",
   "execution_count": 17,
   "metadata": {},
   "outputs": [],
   "source": [
    "shares = 1200\n",
    "q2 = 0.70\n",
    "actual = 1"
   ]
  },
  {
   "cell_type": "code",
   "execution_count": 18,
   "metadata": {},
   "outputs": [
    {
     "data": {
      "text/plain": [
       "'Records updated = 1'"
      ]
     },
     "execution_count": 18,
     "metadata": {},
     "output_type": "execute_result"
    }
   ],
   "source": [
    "update_dividend2(shares,q2,actual,name)"
   ]
  },
  {
   "cell_type": "code",
   "execution_count": 19,
   "metadata": {},
   "outputs": [
    {
     "data": {
      "text/html": [
       "<style type=\"text/css\">\n",
       "</style>\n",
       "<table id=\"T_5568a_\">\n",
       "  <thead>\n",
       "    <tr>\n",
       "      <th class=\"blank level0\" >&nbsp;</th>\n",
       "      <th class=\"col_heading level0 col0\" >name</th>\n",
       "      <th class=\"col_heading level0 col1\" >q4</th>\n",
       "      <th class=\"col_heading level0 col2\" >q3</th>\n",
       "      <th class=\"col_heading level0 col3\" >q2</th>\n",
       "      <th class=\"col_heading level0 col4\" >q1</th>\n",
       "      <th class=\"col_heading level0 col5\" >dividend</th>\n",
       "      <th class=\"col_heading level0 col6\" >shares</th>\n",
       "      <th class=\"col_heading level0 col7\" >xdate</th>\n",
       "      <th class=\"col_heading level0 col8\" >paiddate</th>\n",
       "      <th class=\"col_heading level0 col9\" >kind</th>\n",
       "      <th class=\"col_heading level0 col10\" >actual</th>\n",
       "    </tr>\n",
       "  </thead>\n",
       "  <tbody>\n",
       "    <tr>\n",
       "      <th id=\"T_5568a_level0_row0\" class=\"row_heading level0 row0\" >0</th>\n",
       "      <td id=\"T_5568a_row0_col0\" class=\"data row0 col0\" >AH</td>\n",
       "      <td id=\"T_5568a_row0_col1\" class=\"data row0 col1\" >0.9600</td>\n",
       "      <td id=\"T_5568a_row0_col2\" class=\"data row0 col2\" >0.0000</td>\n",
       "      <td id=\"T_5568a_row0_col3\" class=\"data row0 col3\" >0.7000</td>\n",
       "      <td id=\"T_5568a_row0_col4\" class=\"data row0 col4\" >0.0000</td>\n",
       "      <td id=\"T_5568a_row0_col5\" class=\"data row0 col5\" >1.6600</td>\n",
       "      <td id=\"T_5568a_row0_col6\" class=\"data row0 col6\" >1,200</td>\n",
       "      <td id=\"T_5568a_row0_col7\" class=\"data row0 col7\" >2023-08-29</td>\n",
       "      <td id=\"T_5568a_row0_col8\" class=\"data row0 col8\" >2023-09-13</td>\n",
       "      <td id=\"T_5568a_row0_col9\" class=\"data row0 col9\" ></td>\n",
       "      <td id=\"T_5568a_row0_col10\" class=\"data row0 col10\" >1</td>\n",
       "    </tr>\n",
       "  </tbody>\n",
       "</table>\n"
      ],
      "text/plain": [
       "<pandas.io.formats.style.Styler at 0x18b0a1ca550>"
      ]
     },
     "execution_count": 19,
     "metadata": {},
     "output_type": "execute_result"
    }
   ],
   "source": [
    "sql = \"\"\"\n",
    "SELECT * \n",
    "FROM DIVIDEND\n",
    "WHERE name = '%s'\n",
    "\"\"\"\n",
    "sql = sql % name\n",
    "dividend = pd.read_sql(sql, const)\n",
    "dividend.drop(['PRICE', 'PERCENT'], axis=1, inplace=True)\n",
    "dividend.columns = dividend.columns.str.lower()\n",
    "dividend['shares'] = dividend['shares'].astype('int64')\n",
    "dividend['xdate'] = pd.to_datetime(dividend['xdate'])\n",
    "dividend['paiddate'] = pd.to_datetime(dividend['paiddate'])\n",
    "dividend.style.format(format_dict)"
   ]
  },
  {
   "cell_type": "code",
   "execution_count": 7,
   "metadata": {},
   "outputs": [],
   "source": [
    "def update_dividend3(actual,name):\n",
    "    sql = \"UPDATE dividend SET xdate = DATE_ADD(xdate, INTERVAL 3 MONTH), \\\n",
    "    paiddate = DATE_ADD(paiddate, INTERVAL 3 MONTH),dividend=q1+q2+q3+q4, actual = %s \\\n",
    "    WHERE name = '%s'\"\n",
    "    sql = sql % (2, name)\n",
    "    rp = const.execute(sql)\n",
    "    return \"Records updated = \" + str(rp.rowcount)"
   ]
  },
  {
   "cell_type": "code",
   "execution_count": 28,
   "metadata": {},
   "outputs": [
    {
     "data": {
      "text/plain": [
       "'Records updated = 1'"
      ]
     },
     "execution_count": 28,
     "metadata": {},
     "output_type": "execute_result"
    }
   ],
   "source": [
    "actual = 2\n",
    "name = 'RCL'\n",
    "update_dividend3(actual,name)"
   ]
  },
  {
   "cell_type": "markdown",
   "metadata": {},
   "source": [
    "### Toggle actual status"
   ]
  },
  {
   "cell_type": "code",
   "execution_count": 4,
   "metadata": {},
   "outputs": [
    {
     "data": {
      "text/plain": [
       "1"
      ]
     },
     "execution_count": 4,
     "metadata": {},
     "output_type": "execute_result"
    }
   ],
   "source": [
    "name = 'PTT'\n",
    "actual = 0\n",
    "sqlUpd = \"UPDATE dividend SET actual = %s WHERE name = '%s'\"\n",
    "sqlUpd = sqlUpd % (actual, name)\n",
    "rp = const.execute(sqlUpd)\n",
    "rp.rowcount"
   ]
  },
  {
   "cell_type": "markdown",
   "metadata": {},
   "source": [
    "### Delete dividend record"
   ]
  },
  {
   "cell_type": "code",
   "execution_count": 10,
   "metadata": {},
   "outputs": [
    {
     "data": {
      "text/plain": [
       "1"
      ]
     },
     "execution_count": 10,
     "metadata": {},
     "output_type": "execute_result"
    }
   ],
   "source": [
    "sqlDel = '''\n",
    "DELETE FROM dividend\n",
    "WHERE name IN (\"MC\")\n",
    "'''\n",
    "rp = const.execute(sqlDel)\n",
    "rp.rowcount"
   ]
  },
  {
   "cell_type": "markdown",
   "metadata": {},
   "source": [
    "### Start of output to cloud"
   ]
  },
  {
   "cell_type": "code",
   "execution_count": 31,
   "metadata": {},
   "outputs": [],
   "source": [
    "cols = 'name qtrly shares amount net xdate paiddate cost_amt pct actual'.split()"
   ]
  },
  {
   "cell_type": "code",
   "execution_count": 39,
   "metadata": {
    "scrolled": true
   },
   "outputs": [
    {
     "name": "stdout",
     "output_type": "stream",
     "text": [
      "\n",
      "SELECT Y.NAME AS name,  Q2 AS qtrly, SHARES, XDATE, PAIDDATE, \n",
      "P.price AS price, Y.DIVIDEND, ACTUAL, B.price * B.volbuy AS cost_amt\n",
      "FROM dividend AS Y, price AS P, buy AS B\n",
      "WHERE Y.name = P.name \n",
      "AND Y.name = B.name \n",
      "AND Q2 > 0 \n",
      "AND P.date = '2025-08-08'\n",
      "ORDER BY name\n",
      "\n"
     ]
    }
   ],
   "source": [
    "sql = \"\"\"\n",
    "SELECT Y.NAME AS name,  Q2 AS qtrly, SHARES, XDATE, PAIDDATE, \n",
    "P.price AS price, Y.DIVIDEND, ACTUAL, B.price * B.volbuy AS cost_amt\n",
    "FROM dividend AS Y, price AS P, buy AS B\n",
    "WHERE Y.name = P.name \n",
    "AND Y.name = B.name \n",
    "AND Q2 > 0 \n",
    "AND P.date = '%s'\n",
    "ORDER BY name\n",
    "\"\"\"\n",
    "sql = sql % yesterday \n",
    "print(sql)"
   ]
  },
  {
   "cell_type": "code",
   "execution_count": 59,
   "metadata": {},
   "outputs": [
    {
     "data": {
      "text/html": [
       "<style type=\"text/css\">\n",
       "</style>\n",
       "<table id=\"T_00e5e\">\n",
       "  <thead>\n",
       "    <tr>\n",
       "      <th class=\"blank level0\" >&nbsp;</th>\n",
       "      <th id=\"T_00e5e_level0_col0\" class=\"col_heading level0 col0\" >name</th>\n",
       "      <th id=\"T_00e5e_level0_col1\" class=\"col_heading level0 col1\" >qtrly</th>\n",
       "      <th id=\"T_00e5e_level0_col2\" class=\"col_heading level0 col2\" >shares</th>\n",
       "      <th id=\"T_00e5e_level0_col3\" class=\"col_heading level0 col3\" >amount</th>\n",
       "      <th id=\"T_00e5e_level0_col4\" class=\"col_heading level0 col4\" >net</th>\n",
       "      <th id=\"T_00e5e_level0_col5\" class=\"col_heading level0 col5\" >xdate</th>\n",
       "      <th id=\"T_00e5e_level0_col6\" class=\"col_heading level0 col6\" >paiddate</th>\n",
       "      <th id=\"T_00e5e_level0_col7\" class=\"col_heading level0 col7\" >cost_amt</th>\n",
       "      <th id=\"T_00e5e_level0_col8\" class=\"col_heading level0 col8\" >pct</th>\n",
       "      <th id=\"T_00e5e_level0_col9\" class=\"col_heading level0 col9\" >actual</th>\n",
       "    </tr>\n",
       "  </thead>\n",
       "  <tbody>\n",
       "    <tr>\n",
       "      <th id=\"T_00e5e_level0_row0\" class=\"row_heading level0 row0\" >13</th>\n",
       "      <td id=\"T_00e5e_row0_col0\" class=\"data row0 col0\" >SCC</td>\n",
       "      <td id=\"T_00e5e_row0_col1\" class=\"data row0 col1\" >2.5000</td>\n",
       "      <td id=\"T_00e5e_row0_col2\" class=\"data row0 col2\" >600</td>\n",
       "      <td id=\"T_00e5e_row0_col3\" class=\"data row0 col3\" >1,500.00</td>\n",
       "      <td id=\"T_00e5e_row0_col4\" class=\"data row0 col4\" >1,350.00</td>\n",
       "      <td id=\"T_00e5e_row0_col5\" class=\"data row0 col5\" >2025-08-13</td>\n",
       "      <td id=\"T_00e5e_row0_col6\" class=\"data row0 col6\" >2025-08-28</td>\n",
       "      <td id=\"T_00e5e_row0_col7\" class=\"data row0 col7\" >243,000.00</td>\n",
       "      <td id=\"T_00e5e_row0_col8\" class=\"data row0 col8\" >0.56%</td>\n",
       "      <td id=\"T_00e5e_row0_col9\" class=\"data row0 col9\" >1</td>\n",
       "    </tr>\n",
       "    <tr>\n",
       "      <th id=\"T_00e5e_level0_row1\" class=\"row_heading level0 row1\" >4</th>\n",
       "      <td id=\"T_00e5e_row1_col0\" class=\"data row1 col0\" >DIF</td>\n",
       "      <td id=\"T_00e5e_row1_col1\" class=\"data row1 col1\" >0.2222</td>\n",
       "      <td id=\"T_00e5e_row1_col2\" class=\"data row1 col2\" >40,000</td>\n",
       "      <td id=\"T_00e5e_row1_col3\" class=\"data row1 col3\" >8,888.00</td>\n",
       "      <td id=\"T_00e5e_row1_col4\" class=\"data row1 col4\" >7,999.20</td>\n",
       "      <td id=\"T_00e5e_row1_col5\" class=\"data row1 col5\" >2025-08-15</td>\n",
       "      <td id=\"T_00e5e_row1_col6\" class=\"data row1 col6\" >2025-09-09</td>\n",
       "      <td id=\"T_00e5e_row1_col7\" class=\"data row1 col7\" >524,000.00</td>\n",
       "      <td id=\"T_00e5e_row1_col8\" class=\"data row1 col8\" >1.53%</td>\n",
       "      <td id=\"T_00e5e_row1_col9\" class=\"data row1 col9\" >1</td>\n",
       "    </tr>\n",
       "    <tr>\n",
       "      <th id=\"T_00e5e_level0_row2\" class=\"row_heading level0 row2\" >0</th>\n",
       "      <td id=\"T_00e5e_row2_col0\" class=\"data row2 col0\" >3BBIF</td>\n",
       "      <td id=\"T_00e5e_row2_col1\" class=\"data row2 col1\" >0.1546</td>\n",
       "      <td id=\"T_00e5e_row2_col2\" class=\"data row2 col2\" >120,000</td>\n",
       "      <td id=\"T_00e5e_row2_col3\" class=\"data row2 col3\" >18,552.00</td>\n",
       "      <td id=\"T_00e5e_row2_col4\" class=\"data row2 col4\" >16,696.80</td>\n",
       "      <td id=\"T_00e5e_row2_col5\" class=\"data row2 col5\" >2025-08-18</td>\n",
       "      <td id=\"T_00e5e_row2_col6\" class=\"data row2 col6\" >2025-09-03</td>\n",
       "      <td id=\"T_00e5e_row2_col7\" class=\"data row2 col7\" >1,212,000.00</td>\n",
       "      <td id=\"T_00e5e_row2_col8\" class=\"data row2 col8\" >1.38%</td>\n",
       "      <td id=\"T_00e5e_row2_col9\" class=\"data row2 col9\" >1</td>\n",
       "    </tr>\n",
       "    <tr>\n",
       "      <th id=\"T_00e5e_level0_row3\" class=\"row_heading level0 row3\" >18</th>\n",
       "      <td id=\"T_00e5e_row3_col0\" class=\"data row3 col0\" >WHAIR</td>\n",
       "      <td id=\"T_00e5e_row3_col1\" class=\"data row3 col1\" >0.1325</td>\n",
       "      <td id=\"T_00e5e_row3_col2\" class=\"data row3 col2\" >50,000</td>\n",
       "      <td id=\"T_00e5e_row3_col3\" class=\"data row3 col3\" >6,625.00</td>\n",
       "      <td id=\"T_00e5e_row3_col4\" class=\"data row3 col4\" >5,962.50</td>\n",
       "      <td id=\"T_00e5e_row3_col5\" class=\"data row3 col5\" >2025-08-18</td>\n",
       "      <td id=\"T_00e5e_row3_col6\" class=\"data row3 col6\" >2025-09-15</td>\n",
       "      <td id=\"T_00e5e_row3_col7\" class=\"data row3 col7\" >435,000.00</td>\n",
       "      <td id=\"T_00e5e_row3_col8\" class=\"data row3 col8\" >1.37%</td>\n",
       "      <td id=\"T_00e5e_row3_col9\" class=\"data row3 col9\" >1</td>\n",
       "    </tr>\n",
       "    <tr>\n",
       "      <th id=\"T_00e5e_level0_row4\" class=\"row_heading level0 row4\" >19</th>\n",
       "      <td id=\"T_00e5e_row4_col0\" class=\"data row4 col0\" >WHART</td>\n",
       "      <td id=\"T_00e5e_row4_col1\" class=\"data row4 col1\" >0.1717</td>\n",
       "      <td id=\"T_00e5e_row4_col2\" class=\"data row4 col2\" >25,000</td>\n",
       "      <td id=\"T_00e5e_row4_col3\" class=\"data row4 col3\" >4,292.50</td>\n",
       "      <td id=\"T_00e5e_row4_col4\" class=\"data row4 col4\" >3,863.25</td>\n",
       "      <td id=\"T_00e5e_row4_col5\" class=\"data row4 col5\" >2025-08-18</td>\n",
       "      <td id=\"T_00e5e_row4_col6\" class=\"data row4 col6\" >2025-09-05</td>\n",
       "      <td id=\"T_00e5e_row4_col7\" class=\"data row4 col7\" >290,000.00</td>\n",
       "      <td id=\"T_00e5e_row4_col8\" class=\"data row4 col8\" >1.33%</td>\n",
       "      <td id=\"T_00e5e_row4_col9\" class=\"data row4 col9\" >1</td>\n",
       "    </tr>\n",
       "    <tr>\n",
       "      <th id=\"T_00e5e_level0_row5\" class=\"row_heading level0 row5\" >2</th>\n",
       "      <td id=\"T_00e5e_row5_col0\" class=\"data row5 col0\" >AIMIRT</td>\n",
       "      <td id=\"T_00e5e_row5_col1\" class=\"data row5 col1\" >0.2050</td>\n",
       "      <td id=\"T_00e5e_row5_col2\" class=\"data row5 col2\" >15,000</td>\n",
       "      <td id=\"T_00e5e_row5_col3\" class=\"data row5 col3\" >3,075.00</td>\n",
       "      <td id=\"T_00e5e_row5_col4\" class=\"data row5 col4\" >2,767.50</td>\n",
       "      <td id=\"T_00e5e_row5_col5\" class=\"data row5 col5\" >2025-08-19</td>\n",
       "      <td id=\"T_00e5e_row5_col6\" class=\"data row5 col6\" >2025-09-05</td>\n",
       "      <td id=\"T_00e5e_row5_col7\" class=\"data row5 col7\" >161,250.00</td>\n",
       "      <td id=\"T_00e5e_row5_col8\" class=\"data row5 col8\" >1.72%</td>\n",
       "      <td id=\"T_00e5e_row5_col9\" class=\"data row5 col9\" >1</td>\n",
       "    </tr>\n",
       "    <tr>\n",
       "      <th id=\"T_00e5e_level0_row6\" class=\"row_heading level0 row6\" >10</th>\n",
       "      <td id=\"T_00e5e_row6_col0\" class=\"data row6 col0\" >NER</td>\n",
       "      <td id=\"T_00e5e_row6_col1\" class=\"data row6 col1\" >0.0500</td>\n",
       "      <td id=\"T_00e5e_row6_col2\" class=\"data row6 col2\" >27,000</td>\n",
       "      <td id=\"T_00e5e_row6_col3\" class=\"data row6 col3\" >1,350.00</td>\n",
       "      <td id=\"T_00e5e_row6_col4\" class=\"data row6 col4\" >1,215.00</td>\n",
       "      <td id=\"T_00e5e_row6_col5\" class=\"data row6 col5\" >2025-08-22</td>\n",
       "      <td id=\"T_00e5e_row6_col6\" class=\"data row6 col6\" >2025-09-05</td>\n",
       "      <td id=\"T_00e5e_row6_col7\" class=\"data row6 col7\" >201,150.00</td>\n",
       "      <td id=\"T_00e5e_row6_col8\" class=\"data row6 col8\" >0.60%</td>\n",
       "      <td id=\"T_00e5e_row6_col9\" class=\"data row6 col9\" >1</td>\n",
       "    </tr>\n",
       "    <tr>\n",
       "      <th id=\"T_00e5e_level0_row7\" class=\"row_heading level0 row7\" >12</th>\n",
       "      <td id=\"T_00e5e_row7_col0\" class=\"data row7 col0\" >RCL</td>\n",
       "      <td id=\"T_00e5e_row7_col1\" class=\"data row7 col1\" >0.5000</td>\n",
       "      <td id=\"T_00e5e_row7_col2\" class=\"data row7 col2\" >24,000</td>\n",
       "      <td id=\"T_00e5e_row7_col3\" class=\"data row7 col3\" >12,000.00</td>\n",
       "      <td id=\"T_00e5e_row7_col4\" class=\"data row7 col4\" >10,800.00</td>\n",
       "      <td id=\"T_00e5e_row7_col5\" class=\"data row7 col5\" >2025-08-22</td>\n",
       "      <td id=\"T_00e5e_row7_col6\" class=\"data row7 col6\" >2025-09-05</td>\n",
       "      <td id=\"T_00e5e_row7_col7\" class=\"data row7 col7\" >963,600.00</td>\n",
       "      <td id=\"T_00e5e_row7_col8\" class=\"data row7 col8\" >1.12%</td>\n",
       "      <td id=\"T_00e5e_row7_col9\" class=\"data row7 col9\" >1</td>\n",
       "    </tr>\n",
       "    <tr>\n",
       "      <th id=\"T_00e5e_level0_row8\" class=\"row_heading level0 row8\" >17</th>\n",
       "      <td id=\"T_00e5e_row8_col0\" class=\"data row8 col0\" >TVO</td>\n",
       "      <td id=\"T_00e5e_row8_col1\" class=\"data row8 col1\" >0.8000</td>\n",
       "      <td id=\"T_00e5e_row8_col2\" class=\"data row8 col2\" >8,000</td>\n",
       "      <td id=\"T_00e5e_row8_col3\" class=\"data row8 col3\" >6,400.00</td>\n",
       "      <td id=\"T_00e5e_row8_col4\" class=\"data row8 col4\" >5,760.00</td>\n",
       "      <td id=\"T_00e5e_row8_col5\" class=\"data row8 col5\" >2025-08-22</td>\n",
       "      <td id=\"T_00e5e_row8_col6\" class=\"data row8 col6\" >2025-09-05</td>\n",
       "      <td id=\"T_00e5e_row8_col7\" class=\"data row8 col7\" >192,000.00</td>\n",
       "      <td id=\"T_00e5e_row8_col8\" class=\"data row8 col8\" >3.00%</td>\n",
       "      <td id=\"T_00e5e_row8_col9\" class=\"data row8 col9\" >1</td>\n",
       "    </tr>\n",
       "    <tr>\n",
       "      <th id=\"T_00e5e_level0_row9\" class=\"row_heading level0 row9\" >9</th>\n",
       "      <td id=\"T_00e5e_row9_col0\" class=\"data row9 col0\" >MCS</td>\n",
       "      <td id=\"T_00e5e_row9_col1\" class=\"data row9 col1\" >0.2500</td>\n",
       "      <td id=\"T_00e5e_row9_col2\" class=\"data row9 col2\" >81,000</td>\n",
       "      <td id=\"T_00e5e_row9_col3\" class=\"data row9 col3\" >20,250.00</td>\n",
       "      <td id=\"T_00e5e_row9_col4\" class=\"data row9 col4\" >18,225.00</td>\n",
       "      <td id=\"T_00e5e_row9_col5\" class=\"data row9 col5\" >2025-08-26</td>\n",
       "      <td id=\"T_00e5e_row9_col6\" class=\"data row9 col6\" >2025-09-10</td>\n",
       "      <td id=\"T_00e5e_row9_col7\" class=\"data row9 col7\" >1,198,800.00</td>\n",
       "      <td id=\"T_00e5e_row9_col8\" class=\"data row9 col8\" >1.52%</td>\n",
       "      <td id=\"T_00e5e_row9_col9\" class=\"data row9 col9\" >1</td>\n",
       "    </tr>\n",
       "    <tr>\n",
       "      <th id=\"T_00e5e_level0_row10\" class=\"row_heading level0 row10\" >14</th>\n",
       "      <td id=\"T_00e5e_row10_col0\" class=\"data row10 col0\" >SYNEX</td>\n",
       "      <td id=\"T_00e5e_row10_col1\" class=\"data row10 col1\" >0.1000</td>\n",
       "      <td id=\"T_00e5e_row10_col2\" class=\"data row10 col2\" >17,500</td>\n",
       "      <td id=\"T_00e5e_row10_col3\" class=\"data row10 col3\" >1,750.00</td>\n",
       "      <td id=\"T_00e5e_row10_col4\" class=\"data row10 col4\" >1,575.00</td>\n",
       "      <td id=\"T_00e5e_row10_col5\" class=\"data row10 col5\" >2025-08-26</td>\n",
       "      <td id=\"T_00e5e_row10_col6\" class=\"data row10 col6\" >2025-09-10</td>\n",
       "      <td id=\"T_00e5e_row10_col7\" class=\"data row10 col7\" >462,000.00</td>\n",
       "      <td id=\"T_00e5e_row10_col8\" class=\"data row10 col8\" >0.34%</td>\n",
       "      <td id=\"T_00e5e_row10_col9\" class=\"data row10 col9\" >1</td>\n",
       "    </tr>\n",
       "    <tr>\n",
       "      <th id=\"T_00e5e_level0_row11\" class=\"row_heading level0 row11\" >1</th>\n",
       "      <td id=\"T_00e5e_row11_col0\" class=\"data row11 col0\" >AH</td>\n",
       "      <td id=\"T_00e5e_row11_col1\" class=\"data row11 col1\" >0.3100</td>\n",
       "      <td id=\"T_00e5e_row11_col2\" class=\"data row11 col2\" >1,200</td>\n",
       "      <td id=\"T_00e5e_row11_col3\" class=\"data row11 col3\" >372.00</td>\n",
       "      <td id=\"T_00e5e_row11_col4\" class=\"data row11 col4\" >334.80</td>\n",
       "      <td id=\"T_00e5e_row11_col5\" class=\"data row11 col5\" >2025-08-27</td>\n",
       "      <td id=\"T_00e5e_row11_col6\" class=\"data row11 col6\" >2025-09-10</td>\n",
       "      <td id=\"T_00e5e_row11_col7\" class=\"data row11 col7\" >44,400.00</td>\n",
       "      <td id=\"T_00e5e_row11_col8\" class=\"data row11 col8\" >0.75%</td>\n",
       "      <td id=\"T_00e5e_row11_col9\" class=\"data row11 col9\" >1</td>\n",
       "    </tr>\n",
       "    <tr>\n",
       "      <th id=\"T_00e5e_level0_row12\" class=\"row_heading level0 row12\" >8</th>\n",
       "      <td id=\"T_00e5e_row12_col0\" class=\"data row12 col0\" >JMT</td>\n",
       "      <td id=\"T_00e5e_row12_col1\" class=\"data row12 col1\" >0.3800</td>\n",
       "      <td id=\"T_00e5e_row12_col2\" class=\"data row12 col2\" >4,200</td>\n",
       "      <td id=\"T_00e5e_row12_col3\" class=\"data row12 col3\" >1,596.00</td>\n",
       "      <td id=\"T_00e5e_row12_col4\" class=\"data row12 col4\" >1,436.40</td>\n",
       "      <td id=\"T_00e5e_row12_col5\" class=\"data row12 col5\" >2025-02-25</td>\n",
       "      <td id=\"T_00e5e_row12_col6\" class=\"data row12 col6\" >2025-04-30</td>\n",
       "      <td id=\"T_00e5e_row12_col7\" class=\"data row12 col7\" >233,100.00</td>\n",
       "      <td id=\"T_00e5e_row12_col8\" class=\"data row12 col8\" >0.62%</td>\n",
       "      <td id=\"T_00e5e_row12_col9\" class=\"data row12 col9\" >0</td>\n",
       "    </tr>\n",
       "    <tr>\n",
       "      <th id=\"T_00e5e_level0_row13\" class=\"row_heading level0 row13\" >11</th>\n",
       "      <td id=\"T_00e5e_row13_col0\" class=\"data row13 col0\" >PTT</td>\n",
       "      <td id=\"T_00e5e_row13_col1\" class=\"data row13 col1\" >0.8000</td>\n",
       "      <td id=\"T_00e5e_row13_col2\" class=\"data row13 col2\" >2,500</td>\n",
       "      <td id=\"T_00e5e_row13_col3\" class=\"data row13 col3\" >2,000.00</td>\n",
       "      <td id=\"T_00e5e_row13_col4\" class=\"data row13 col4\" >1,800.00</td>\n",
       "      <td id=\"T_00e5e_row13_col5\" class=\"data row13 col5\" >2025-03-06</td>\n",
       "      <td id=\"T_00e5e_row13_col6\" class=\"data row13 col6\" >2025-04-29</td>\n",
       "      <td id=\"T_00e5e_row13_col7\" class=\"data row13 col7\" >80,000.00</td>\n",
       "      <td id=\"T_00e5e_row13_col8\" class=\"data row13 col8\" >2.25%</td>\n",
       "      <td id=\"T_00e5e_row13_col9\" class=\"data row13 col9\" >0</td>\n",
       "    </tr>\n",
       "    <tr>\n",
       "      <th id=\"T_00e5e_level0_row14\" class=\"row_heading level0 row14\" >3</th>\n",
       "      <td id=\"T_00e5e_row14_col0\" class=\"data row14 col0\" >BCH</td>\n",
       "      <td id=\"T_00e5e_row14_col1\" class=\"data row14 col1\" >0.1200</td>\n",
       "      <td id=\"T_00e5e_row14_col2\" class=\"data row14 col2\" >4,000</td>\n",
       "      <td id=\"T_00e5e_row14_col3\" class=\"data row14 col3\" >480.00</td>\n",
       "      <td id=\"T_00e5e_row14_col4\" class=\"data row14 col4\" >432.00</td>\n",
       "      <td id=\"T_00e5e_row14_col5\" class=\"data row14 col5\" >2025-05-02</td>\n",
       "      <td id=\"T_00e5e_row14_col6\" class=\"data row14 col6\" >2025-05-23</td>\n",
       "      <td id=\"T_00e5e_row14_col7\" class=\"data row14 col7\" >86,800.00</td>\n",
       "      <td id=\"T_00e5e_row14_col8\" class=\"data row14 col8\" >0.50%</td>\n",
       "      <td id=\"T_00e5e_row14_col9\" class=\"data row14 col9\" >0</td>\n",
       "    </tr>\n",
       "    <tr>\n",
       "      <th id=\"T_00e5e_level0_row15\" class=\"row_heading level0 row15\" >7</th>\n",
       "      <td id=\"T_00e5e_row15_col0\" class=\"data row15 col0\" >JMART</td>\n",
       "      <td id=\"T_00e5e_row15_col1\" class=\"data row15 col1\" >0.2400</td>\n",
       "      <td id=\"T_00e5e_row15_col2\" class=\"data row15 col2\" >6,800</td>\n",
       "      <td id=\"T_00e5e_row15_col3\" class=\"data row15 col3\" >1,632.00</td>\n",
       "      <td id=\"T_00e5e_row15_col4\" class=\"data row15 col4\" >1,468.80</td>\n",
       "      <td id=\"T_00e5e_row15_col5\" class=\"data row15 col5\" >2025-05-09</td>\n",
       "      <td id=\"T_00e5e_row15_col6\" class=\"data row15 col6\" >2025-05-29</td>\n",
       "      <td id=\"T_00e5e_row15_col7\" class=\"data row15 col7\" >224,400.00</td>\n",
       "      <td id=\"T_00e5e_row15_col8\" class=\"data row15 col8\" >0.65%</td>\n",
       "      <td id=\"T_00e5e_row15_col9\" class=\"data row15 col9\" >0</td>\n",
       "    </tr>\n",
       "    <tr>\n",
       "      <th id=\"T_00e5e_level0_row16\" class=\"row_heading level0 row16\" >16</th>\n",
       "      <td id=\"T_00e5e_row16_col0\" class=\"data row16 col0\" >TOA</td>\n",
       "      <td id=\"T_00e5e_row16_col1\" class=\"data row16 col1\" >0.3300</td>\n",
       "      <td id=\"T_00e5e_row16_col2\" class=\"data row16 col2\" >1,000</td>\n",
       "      <td id=\"T_00e5e_row16_col3\" class=\"data row16 col3\" >330.00</td>\n",
       "      <td id=\"T_00e5e_row16_col4\" class=\"data row16 col4\" >297.00</td>\n",
       "      <td id=\"T_00e5e_row16_col5\" class=\"data row16 col5\" >2025-05-09</td>\n",
       "      <td id=\"T_00e5e_row16_col6\" class=\"data row16 col6\" >2025-05-23</td>\n",
       "      <td id=\"T_00e5e_row16_col7\" class=\"data row16 col7\" >26,000.00</td>\n",
       "      <td id=\"T_00e5e_row16_col8\" class=\"data row16 col8\" >1.14%</td>\n",
       "      <td id=\"T_00e5e_row16_col9\" class=\"data row16 col9\" >0</td>\n",
       "    </tr>\n",
       "    <tr>\n",
       "      <th id=\"T_00e5e_level0_row17\" class=\"row_heading level0 row17\" >6</th>\n",
       "      <td id=\"T_00e5e_row17_col0\" class=\"data row17 col0\" >IVL</td>\n",
       "      <td id=\"T_00e5e_row17_col1\" class=\"data row17 col1\" >0.1750</td>\n",
       "      <td id=\"T_00e5e_row17_col2\" class=\"data row17 col2\" >7,200</td>\n",
       "      <td id=\"T_00e5e_row17_col3\" class=\"data row17 col3\" >1,260.00</td>\n",
       "      <td id=\"T_00e5e_row17_col4\" class=\"data row17 col4\" >1,134.00</td>\n",
       "      <td id=\"T_00e5e_row17_col5\" class=\"data row17 col5\" >2025-05-27</td>\n",
       "      <td id=\"T_00e5e_row17_col6\" class=\"data row17 col6\" >2025-06-12</td>\n",
       "      <td id=\"T_00e5e_row17_col7\" class=\"data row17 col7\" >288,000.00</td>\n",
       "      <td id=\"T_00e5e_row17_col8\" class=\"data row17 col8\" >0.39%</td>\n",
       "      <td id=\"T_00e5e_row17_col9\" class=\"data row17 col9\" >0</td>\n",
       "    </tr>\n",
       "    <tr>\n",
       "      <th id=\"T_00e5e_level0_row18\" class=\"row_heading level0 row18\" >5</th>\n",
       "      <td id=\"T_00e5e_row18_col0\" class=\"data row18 col0\" >GVREIT</td>\n",
       "      <td id=\"T_00e5e_row18_col1\" class=\"data row18 col1\" >0.1984</td>\n",
       "      <td id=\"T_00e5e_row18_col2\" class=\"data row18 col2\" >69,000</td>\n",
       "      <td id=\"T_00e5e_row18_col3\" class=\"data row18 col3\" >13,689.60</td>\n",
       "      <td id=\"T_00e5e_row18_col4\" class=\"data row18 col4\" >12,320.64</td>\n",
       "      <td id=\"T_00e5e_row18_col5\" class=\"data row18 col5\" >2025-05-28</td>\n",
       "      <td id=\"T_00e5e_row18_col6\" class=\"data row18 col6\" >2025-06-12</td>\n",
       "      <td id=\"T_00e5e_row18_col7\" class=\"data row18 col7\" >534,750.00</td>\n",
       "      <td id=\"T_00e5e_row18_col8\" class=\"data row18 col8\" >2.30%</td>\n",
       "      <td id=\"T_00e5e_row18_col9\" class=\"data row18 col9\" >0</td>\n",
       "    </tr>\n",
       "    <tr>\n",
       "      <th id=\"T_00e5e_level0_row19\" class=\"row_heading level0 row19\" >15</th>\n",
       "      <td id=\"T_00e5e_row19_col0\" class=\"data row19 col0\" >TFFIF</td>\n",
       "      <td id=\"T_00e5e_row19_col1\" class=\"data row19 col1\" >0.1176</td>\n",
       "      <td id=\"T_00e5e_row19_col2\" class=\"data row19 col2\" >20,000</td>\n",
       "      <td id=\"T_00e5e_row19_col3\" class=\"data row19 col3\" >2,352.00</td>\n",
       "      <td id=\"T_00e5e_row19_col4\" class=\"data row19 col4\" >2,116.80</td>\n",
       "      <td id=\"T_00e5e_row19_col5\" class=\"data row19 col5\" >2025-05-28</td>\n",
       "      <td id=\"T_00e5e_row19_col6\" class=\"data row19 col6\" >2025-06-16</td>\n",
       "      <td id=\"T_00e5e_row19_col7\" class=\"data row19 col7\" >144,000.00</td>\n",
       "      <td id=\"T_00e5e_row19_col8\" class=\"data row19 col8\" >1.47%</td>\n",
       "      <td id=\"T_00e5e_row19_col9\" class=\"data row19 col9\" >0</td>\n",
       "    </tr>\n",
       "  </tbody>\n",
       "</table>\n"
      ],
      "text/plain": [
       "<pandas.io.formats.style.Styler at 0x20c71e2df10>"
      ]
     },
     "execution_count": 59,
     "metadata": {},
     "output_type": "execute_result"
    }
   ],
   "source": [
    "dividend = pd.read_sql(sql, const)\n",
    "dividend.columns = dividend.columns.str.lower()\n",
    "dividend['shares'] = dividend['shares'].astype('int64')\n",
    "dividend['xdate'] = pd.to_datetime(dividend['xdate'])\n",
    "dividend['paiddate'] = pd.to_datetime(dividend['paiddate'])\n",
    "dividend['amount'] = round(dividend['shares'] * dividend['qtrly'], 2)\n",
    "dividend['net'] = round(dividend['amount'] * 0.9, 2)\n",
    "dividend['pct'] = round(dividend['net'] / dividend['cost_amt'] * 100, 2)\n",
    "dividend[cols].sort_values(['actual','xdate'],ascending=[False,True]).style.format(format_dict)"
   ]
  },
  {
   "cell_type": "code",
   "execution_count": 43,
   "metadata": {},
   "outputs": [
    {
     "name": "stdout",
     "output_type": "stream",
     "text": [
      "97,554.69\n"
     ]
    }
   ],
   "source": [
    "formatted_amt = '{:,.2f}'.format(dividend.net.sum())\n",
    "print(formatted_amt)"
   ]
  },
  {
   "cell_type": "code",
   "execution_count": 26,
   "metadata": {},
   "outputs": [],
   "source": [
    "file_name = 'dividend-q2.csv'\n",
    "output_file = os.path.join(dat_path, file_name)\n",
    "god_file = os.path.join(god_path, file_name)\n",
    "icd_file = os.path.join(icd_path, file_name)\n",
    "osd_file = os.path.join(osd_path, file_name)"
   ]
  },
  {
   "cell_type": "code",
   "execution_count": 28,
   "metadata": {},
   "outputs": [
    {
     "name": "stdout",
     "output_type": "stream",
     "text": [
      "Output file : C:\\Users\\PC1\\OneDrive\\A5\\Data\\dividend-q2.csv\n",
      "icd_file : C:\\Users\\PC1\\iCloudDrive\\Data\\dividend-q2.csv\n",
      "god_file : C:\\Users\\PC1\\OneDrive\\Imports\\santisoontarinka@gmail.com - Google Drive\\Data\\dividend-q2.csv\n",
      "osd_file : C:\\Users\\PC1\\OneDrive\\Documents\\obsidian-git-sync\\Data\\dividend-q2.csv\n"
     ]
    }
   ],
   "source": [
    "print(f\"Output file : {output_file}\") \n",
    "print(f\"icd_file : {icd_file}\") \n",
    "print(f\"god_file : {god_file}\") \n",
    "print(f\"osd_file : {osd_file}\") "
   ]
  },
  {
   "cell_type": "code",
   "execution_count": 30,
   "metadata": {},
   "outputs": [],
   "source": [
    "dividend[cols].sort_values(['name'],ascending=[True]).to_csv(output_file, index=False)\n",
    "dividend[cols].sort_values(['name'],ascending=[True]).to_csv(god_file, index=False)\n",
    "dividend[cols].sort_values(['name'],ascending=[True]).to_csv(osd_file, index=False)\n",
    "dividend[cols].sort_values(['name'],ascending=[True]).to_csv(icd_file, index=False)"
   ]
  },
  {
   "cell_type": "markdown",
   "metadata": {},
   "source": [
    "### End of output to cloud"
   ]
  },
  {
   "cell_type": "markdown",
   "metadata": {},
   "source": [
    "## Output Excel file"
   ]
  },
  {
   "cell_type": "code",
   "execution_count": 72,
   "metadata": {},
   "outputs": [
    {
     "data": {
      "text/plain": [
       "name                object\n",
       "qtrly              float64\n",
       "shares               int64\n",
       "xdate       datetime64[ns]\n",
       "paiddate    datetime64[ns]\n",
       "price              float64\n",
       "dividend           float64\n",
       "actual               int64\n",
       "cost_amt           float64\n",
       "amount             float64\n",
       "net                float64\n",
       "pct                float64\n",
       "dtype: object"
      ]
     },
     "execution_count": 72,
     "metadata": {},
     "output_type": "execute_result"
    }
   ],
   "source": [
    "dividend.dtypes"
   ]
  },
  {
   "cell_type": "code",
   "execution_count": 96,
   "metadata": {},
   "outputs": [],
   "source": [
    "excel_fmt = dividend.sort_values(['name'], ascending=[True]).copy()\n",
    "excel_fmt['xdate'] = pd.to_datetime(excel_fmt['xdate'])\n",
    "excel_fmt['paiddate'] = pd.to_datetime(excel_fmt['paiddate'])\n",
    "excel_fmt['div_amt'] = excel_fmt['qtrly'] * excel_fmt['shares']\n",
    "excel_fmt['net_amt'] = excel_fmt['div_amt'] * 0.9\n",
    "excel_fmt['xdate'] = excel_fmt['xdate'].dt.strftime('%Y-%m-%d')\n",
    "excel_fmt['paiddate'] = excel_fmt['paiddate'].dt.strftime('%Y-%m-%d')"
   ]
  },
  {
   "cell_type": "code",
   "execution_count": 98,
   "metadata": {},
   "outputs": [
    {
     "data": {
      "text/html": [
       "<div>\n",
       "<style scoped>\n",
       "    .dataframe tbody tr th:only-of-type {\n",
       "        vertical-align: middle;\n",
       "    }\n",
       "\n",
       "    .dataframe tbody tr th {\n",
       "        vertical-align: top;\n",
       "    }\n",
       "\n",
       "    .dataframe thead th {\n",
       "        text-align: right;\n",
       "    }\n",
       "</style>\n",
       "<table border=\"1\" class=\"dataframe\">\n",
       "  <thead>\n",
       "    <tr style=\"text-align: right;\">\n",
       "      <th></th>\n",
       "      <th>name</th>\n",
       "      <th>qtrly</th>\n",
       "      <th>shares</th>\n",
       "      <th>div_amt</th>\n",
       "      <th>net_amt</th>\n",
       "      <th>xdate</th>\n",
       "      <th>paiddate</th>\n",
       "      <th>actual</th>\n",
       "    </tr>\n",
       "  </thead>\n",
       "  <tbody>\n",
       "    <tr>\n",
       "      <th>10</th>\n",
       "      <td>NER</td>\n",
       "      <td>0.0500</td>\n",
       "      <td>27000</td>\n",
       "      <td>1350.0</td>\n",
       "      <td>1215.00</td>\n",
       "      <td>2025-08-22</td>\n",
       "      <td>2025-09-05</td>\n",
       "      <td>1</td>\n",
       "    </tr>\n",
       "    <tr>\n",
       "      <th>12</th>\n",
       "      <td>RCL</td>\n",
       "      <td>0.5000</td>\n",
       "      <td>24000</td>\n",
       "      <td>12000.0</td>\n",
       "      <td>10800.00</td>\n",
       "      <td>2025-08-22</td>\n",
       "      <td>2025-09-05</td>\n",
       "      <td>1</td>\n",
       "    </tr>\n",
       "    <tr>\n",
       "      <th>17</th>\n",
       "      <td>TVO</td>\n",
       "      <td>0.8000</td>\n",
       "      <td>8000</td>\n",
       "      <td>6400.0</td>\n",
       "      <td>5760.00</td>\n",
       "      <td>2025-08-22</td>\n",
       "      <td>2025-09-05</td>\n",
       "      <td>1</td>\n",
       "    </tr>\n",
       "    <tr>\n",
       "      <th>2</th>\n",
       "      <td>AIMIRT</td>\n",
       "      <td>0.2050</td>\n",
       "      <td>15000</td>\n",
       "      <td>3075.0</td>\n",
       "      <td>2767.50</td>\n",
       "      <td>2025-08-19</td>\n",
       "      <td>2025-09-05</td>\n",
       "      <td>1</td>\n",
       "    </tr>\n",
       "    <tr>\n",
       "      <th>0</th>\n",
       "      <td>3BBIF</td>\n",
       "      <td>0.1546</td>\n",
       "      <td>120000</td>\n",
       "      <td>18552.0</td>\n",
       "      <td>16696.80</td>\n",
       "      <td>2025-08-18</td>\n",
       "      <td>2025-09-03</td>\n",
       "      <td>1</td>\n",
       "    </tr>\n",
       "    <tr>\n",
       "      <th>18</th>\n",
       "      <td>WHAIR</td>\n",
       "      <td>0.1325</td>\n",
       "      <td>50000</td>\n",
       "      <td>6625.0</td>\n",
       "      <td>5962.50</td>\n",
       "      <td>2025-08-18</td>\n",
       "      <td>2025-09-15</td>\n",
       "      <td>1</td>\n",
       "    </tr>\n",
       "    <tr>\n",
       "      <th>19</th>\n",
       "      <td>WHART</td>\n",
       "      <td>0.1717</td>\n",
       "      <td>25000</td>\n",
       "      <td>4292.5</td>\n",
       "      <td>3863.25</td>\n",
       "      <td>2025-08-18</td>\n",
       "      <td>2025-09-05</td>\n",
       "      <td>1</td>\n",
       "    </tr>\n",
       "    <tr>\n",
       "      <th>4</th>\n",
       "      <td>DIF</td>\n",
       "      <td>0.2222</td>\n",
       "      <td>40000</td>\n",
       "      <td>8888.0</td>\n",
       "      <td>7999.20</td>\n",
       "      <td>2025-08-15</td>\n",
       "      <td>2025-09-09</td>\n",
       "      <td>1</td>\n",
       "    </tr>\n",
       "    <tr>\n",
       "      <th>13</th>\n",
       "      <td>SCC</td>\n",
       "      <td>2.5000</td>\n",
       "      <td>600</td>\n",
       "      <td>1500.0</td>\n",
       "      <td>1350.00</td>\n",
       "      <td>2025-08-13</td>\n",
       "      <td>2025-08-28</td>\n",
       "      <td>1</td>\n",
       "    </tr>\n",
       "    <tr>\n",
       "      <th>5</th>\n",
       "      <td>GVREIT</td>\n",
       "      <td>0.1984</td>\n",
       "      <td>69000</td>\n",
       "      <td>13689.6</td>\n",
       "      <td>12320.64</td>\n",
       "      <td>2025-05-28</td>\n",
       "      <td>2025-06-12</td>\n",
       "      <td>0</td>\n",
       "    </tr>\n",
       "    <tr>\n",
       "      <th>15</th>\n",
       "      <td>TFFIF</td>\n",
       "      <td>0.1176</td>\n",
       "      <td>20000</td>\n",
       "      <td>2352.0</td>\n",
       "      <td>2116.80</td>\n",
       "      <td>2025-05-28</td>\n",
       "      <td>2025-06-16</td>\n",
       "      <td>0</td>\n",
       "    </tr>\n",
       "    <tr>\n",
       "      <th>6</th>\n",
       "      <td>IVL</td>\n",
       "      <td>0.1750</td>\n",
       "      <td>7200</td>\n",
       "      <td>1260.0</td>\n",
       "      <td>1134.00</td>\n",
       "      <td>2025-05-27</td>\n",
       "      <td>2025-06-12</td>\n",
       "      <td>0</td>\n",
       "    </tr>\n",
       "    <tr>\n",
       "      <th>7</th>\n",
       "      <td>JMART</td>\n",
       "      <td>0.2400</td>\n",
       "      <td>6800</td>\n",
       "      <td>1632.0</td>\n",
       "      <td>1468.80</td>\n",
       "      <td>2025-05-09</td>\n",
       "      <td>2025-05-29</td>\n",
       "      <td>0</td>\n",
       "    </tr>\n",
       "    <tr>\n",
       "      <th>16</th>\n",
       "      <td>TOA</td>\n",
       "      <td>0.3300</td>\n",
       "      <td>1000</td>\n",
       "      <td>330.0</td>\n",
       "      <td>297.00</td>\n",
       "      <td>2025-05-09</td>\n",
       "      <td>2025-05-23</td>\n",
       "      <td>0</td>\n",
       "    </tr>\n",
       "    <tr>\n",
       "      <th>3</th>\n",
       "      <td>BCH</td>\n",
       "      <td>0.1200</td>\n",
       "      <td>4000</td>\n",
       "      <td>480.0</td>\n",
       "      <td>432.00</td>\n",
       "      <td>2025-05-02</td>\n",
       "      <td>2025-05-23</td>\n",
       "      <td>0</td>\n",
       "    </tr>\n",
       "    <tr>\n",
       "      <th>14</th>\n",
       "      <td>SYNEX</td>\n",
       "      <td>0.1000</td>\n",
       "      <td>17500</td>\n",
       "      <td>1750.0</td>\n",
       "      <td>1575.00</td>\n",
       "      <td>2025-04-30</td>\n",
       "      <td>2025-05-14</td>\n",
       "      <td>0</td>\n",
       "    </tr>\n",
       "    <tr>\n",
       "      <th>9</th>\n",
       "      <td>MCS</td>\n",
       "      <td>0.2000</td>\n",
       "      <td>81000</td>\n",
       "      <td>16200.0</td>\n",
       "      <td>14580.00</td>\n",
       "      <td>2025-04-18</td>\n",
       "      <td>2025-05-07</td>\n",
       "      <td>0</td>\n",
       "    </tr>\n",
       "    <tr>\n",
       "      <th>1</th>\n",
       "      <td>AH</td>\n",
       "      <td>0.3000</td>\n",
       "      <td>1200</td>\n",
       "      <td>360.0</td>\n",
       "      <td>324.00</td>\n",
       "      <td>2025-03-13</td>\n",
       "      <td>2025-05-23</td>\n",
       "      <td>0</td>\n",
       "    </tr>\n",
       "    <tr>\n",
       "      <th>11</th>\n",
       "      <td>PTT</td>\n",
       "      <td>0.8000</td>\n",
       "      <td>2500</td>\n",
       "      <td>2000.0</td>\n",
       "      <td>1800.00</td>\n",
       "      <td>2025-03-06</td>\n",
       "      <td>2025-04-29</td>\n",
       "      <td>0</td>\n",
       "    </tr>\n",
       "    <tr>\n",
       "      <th>8</th>\n",
       "      <td>JMT</td>\n",
       "      <td>0.3800</td>\n",
       "      <td>4200</td>\n",
       "      <td>1596.0</td>\n",
       "      <td>1436.40</td>\n",
       "      <td>2025-02-25</td>\n",
       "      <td>2025-04-30</td>\n",
       "      <td>0</td>\n",
       "    </tr>\n",
       "  </tbody>\n",
       "</table>\n",
       "</div>"
      ],
      "text/plain": [
       "      name   qtrly  shares  div_amt   net_amt       xdate    paiddate  actual\n",
       "10     NER  0.0500   27000   1350.0   1215.00  2025-08-22  2025-09-05       1\n",
       "12     RCL  0.5000   24000  12000.0  10800.00  2025-08-22  2025-09-05       1\n",
       "17     TVO  0.8000    8000   6400.0   5760.00  2025-08-22  2025-09-05       1\n",
       "2   AIMIRT  0.2050   15000   3075.0   2767.50  2025-08-19  2025-09-05       1\n",
       "0    3BBIF  0.1546  120000  18552.0  16696.80  2025-08-18  2025-09-03       1\n",
       "18   WHAIR  0.1325   50000   6625.0   5962.50  2025-08-18  2025-09-15       1\n",
       "19   WHART  0.1717   25000   4292.5   3863.25  2025-08-18  2025-09-05       1\n",
       "4      DIF  0.2222   40000   8888.0   7999.20  2025-08-15  2025-09-09       1\n",
       "13     SCC  2.5000     600   1500.0   1350.00  2025-08-13  2025-08-28       1\n",
       "5   GVREIT  0.1984   69000  13689.6  12320.64  2025-05-28  2025-06-12       0\n",
       "15   TFFIF  0.1176   20000   2352.0   2116.80  2025-05-28  2025-06-16       0\n",
       "6      IVL  0.1750    7200   1260.0   1134.00  2025-05-27  2025-06-12       0\n",
       "7    JMART  0.2400    6800   1632.0   1468.80  2025-05-09  2025-05-29       0\n",
       "16     TOA  0.3300    1000    330.0    297.00  2025-05-09  2025-05-23       0\n",
       "3      BCH  0.1200    4000    480.0    432.00  2025-05-02  2025-05-23       0\n",
       "14   SYNEX  0.1000   17500   1750.0   1575.00  2025-04-30  2025-05-14       0\n",
       "9      MCS  0.2000   81000  16200.0  14580.00  2025-04-18  2025-05-07       0\n",
       "1       AH  0.3000    1200    360.0    324.00  2025-03-13  2025-05-23       0\n",
       "11     PTT  0.8000    2500   2000.0   1800.00  2025-03-06  2025-04-29       0\n",
       "8      JMT  0.3800    4200   1596.0   1436.40  2025-02-25  2025-04-30       0"
      ]
     },
     "execution_count": 98,
     "metadata": {},
     "output_type": "execute_result"
    }
   ],
   "source": [
    "colt = 'name qtrly shares div_amt net_amt xdate paiddate actual'.split()\n",
    "excel_fmt[colt].sort_values(['actual','xdate','name'],ascending=[False,False,True])"
   ]
  },
  {
   "cell_type": "code",
   "execution_count": 100,
   "metadata": {},
   "outputs": [
    {
     "data": {
      "text/plain": [
       "93898.89"
      ]
     },
     "execution_count": 100,
     "metadata": {},
     "output_type": "execute_result"
    }
   ],
   "source": [
    "excel_fmt.net.sum()"
   ]
  },
  {
   "cell_type": "code",
   "execution_count": 104,
   "metadata": {},
   "outputs": [],
   "source": [
    "file_name = '21-div-25q2.xlsx'\n",
    "xsl_file = os.path.join(xsl_path, file_name)\n",
    "\n",
    "excel_fmt[colt].sort_values(['actual','xdate','name'],ascending=[False,False,True]).to_excel(xsl_file, index=False)"
   ]
  },
  {
   "cell_type": "markdown",
   "metadata": {},
   "source": [
    "### End of output to cloud"
   ]
  },
  {
   "cell_type": "code",
   "execution_count": 84,
   "metadata": {},
   "outputs": [],
   "source": [
    "const.commit()\n",
    "const.close()"
   ]
  },
  {
   "cell_type": "code",
   "execution_count": null,
   "metadata": {},
   "outputs": [],
   "source": []
  }
 ],
 "metadata": {
  "anaconda-cloud": {},
  "kernelspec": {
   "display_name": "Python 3 (ipykernel)",
   "language": "python",
   "name": "python3"
  },
  "language_info": {
   "codemirror_mode": {
    "name": "ipython",
    "version": 3
   },
   "file_extension": ".py",
   "mimetype": "text/x-python",
   "name": "python",
   "nbconvert_exporter": "python",
   "pygments_lexer": "ipython3",
   "version": "3.12.3"
  }
 },
 "nbformat": 4,
 "nbformat_minor": 4
}
