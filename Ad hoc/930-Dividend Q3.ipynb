{
 "cells": [
  {
   "cell_type": "code",
   "execution_count": 3,
   "metadata": {},
   "outputs": [
    {
     "data": {
      "text/plain": [
       "(datetime.date(2025, 8, 18), datetime.date(2025, 8, 17))"
      ]
     },
     "execution_count": 3,
     "metadata": {},
     "output_type": "execute_result"
    }
   ],
   "source": [
    "import pandas as pd\n",
    "from sqlalchemy import create_engine, text\n",
    "from datetime import date, timedelta\n",
    "from pandas.tseries.offsets import *\n",
    "import calendar\n",
    "\n",
    "engine = create_engine(\"mysql+pymysql://root:@localhost:3306/stock\")\n",
    "const = engine.connect()\n",
    "engine = create_engine(\"sqlite:///c:\\\\ruby\\\\portlt\\\\db\\\\development.sqlite3\")\n",
    "conlt = engine.connect()\n",
    "\n",
    "data_path = \"../data/\"\n",
    "csv_path = \"\\\\Users\\\\User\\\\iCloudDrive\\\\\"\n",
    "box_path = \"\\\\Users\\\\User\\\\Dropbox\\\\\"\n",
    "one_path = \"\\\\Users\\\\User\\\\OneDrive\\\\Documents\\\\Data\\\\\"\n",
    "xsl_path = \"\\\\Users\\\\User\\\\OneDrive\\\\A6\\\\Excel\\\\\"\n",
    "\n",
    "year = 2025\n",
    "quarter = 3\n",
    "\n",
    "today = date.today()\n",
    "yesterday = today - timedelta(days=1)\n",
    "today, yesterday"
   ]
  },
  {
   "cell_type": "code",
   "execution_count": 5,
   "metadata": {},
   "outputs": [
    {
     "name": "stdout",
     "output_type": "stream",
     "text": [
      "today: 2025-08-18\n",
      "yesterday: 2025-08-15\n"
     ]
    }
   ],
   "source": [
    "# convert the timedelta object to a BusinessDay object\n",
    "num_business_days = BDay(1)\n",
    "yesterday = today - num_business_days\n",
    "print(f'today: {today}')\n",
    "yesterday = yesterday.date()\n",
    "print(f'yesterday: {yesterday}')"
   ]
  },
  {
   "cell_type": "code",
   "execution_count": 7,
   "metadata": {},
   "outputs": [],
   "source": [
    "format_dict = {    \n",
    "    'shares':'{:,}',    \n",
    "    'q4':'{:.4f}','q3':'{:.4f}','q2':'{:.4f}','q1':'{:.4f}','dividend':'{:.4f}','qtrly':'{:.4f}',\n",
    "    'price':'{:.2f}',    \n",
    "    'amount':'{:,.2f}','net':'{:,.2f}','cost_amt':'{:,.2f}',\n",
    "    'yield':'{:,.2f}%','pct':'{:,.2f}%',\n",
    "    'xdate':'{:%Y-%m-%d}','paiddate':'{:%Y-%m-%d}',\n",
    "              }"
   ]
  },
  {
   "cell_type": "markdown",
   "metadata": {},
   "source": [
    "### New dividend stock"
   ]
  },
  {
   "cell_type": "code",
   "execution_count": 4,
   "metadata": {},
   "outputs": [
    {
     "data": {
      "text/html": [
       "<style type=\"text/css\">\n",
       "</style>\n",
       "<table id=\"T_a499b_\">\n",
       "  <thead>\n",
       "    <tr>\n",
       "      <th class=\"blank level0\" >&nbsp;</th>\n",
       "      <th class=\"col_heading level0 col0\" >name</th>\n",
       "      <th class=\"col_heading level0 col1\" >q4</th>\n",
       "      <th class=\"col_heading level0 col2\" >q3</th>\n",
       "      <th class=\"col_heading level0 col3\" >q2</th>\n",
       "      <th class=\"col_heading level0 col4\" >q1</th>\n",
       "      <th class=\"col_heading level0 col5\" >dividend</th>\n",
       "      <th class=\"col_heading level0 col6\" >shares</th>\n",
       "      <th class=\"col_heading level0 col7\" >xdate</th>\n",
       "      <th class=\"col_heading level0 col8\" >paiddate</th>\n",
       "      <th class=\"col_heading level0 col9\" >kind</th>\n",
       "      <th class=\"col_heading level0 col10\" >actual</th>\n",
       "    </tr>\n",
       "  </thead>\n",
       "  <tbody>\n",
       "  </tbody>\n",
       "</table>\n"
      ],
      "text/plain": [
       "<pandas.io.formats.style.Styler at 0x2378653f7c0>"
      ]
     },
     "execution_count": 4,
     "metadata": {},
     "output_type": "execute_result"
    }
   ],
   "source": [
    "name = 'LHK'\n",
    "sql = \"\"\"\n",
    "SELECT * \n",
    "FROM DIVIDEND\n",
    "WHERE name = '%s'\n",
    "\"\"\"\n",
    "sql = sql % name\n",
    "dividend = pd.read_sql(sql, const)\n",
    "dividend.drop(['PRICE', 'PERCENT'], axis=1, inplace=True)\n",
    "dividend.columns = dividend.columns.str.lower()\n",
    "dividend['shares'] = dividend['shares'].astype('int64')\n",
    "dividend['xdate'] = pd.to_datetime(dividend['xdate'])\n",
    "dividend['paiddate'] = pd.to_datetime(dividend['paiddate'])\n",
    "dividend.style.format(format_dict)"
   ]
  },
  {
   "cell_type": "code",
   "execution_count": 5,
   "metadata": {},
   "outputs": [
    {
     "data": {
      "text/plain": [
       "1"
      ]
     },
     "execution_count": 5,
     "metadata": {},
     "output_type": "execute_result"
    }
   ],
   "source": [
    "sqlIns = \"\"\"\n",
    "INSERT INTO dividend\n",
    "VALUES('LHK',0,0.20,0,0.45,0.65,0,0,00,'2022-11-25','2022-12-09','',1)\n",
    "\"\"\"\n",
    "rp = const.execute(sqlIns)\n",
    "rp.rowcount"
   ]
  },
  {
   "cell_type": "markdown",
   "metadata": {},
   "source": [
    "### Start of Update dividend"
   ]
  },
  {
   "cell_type": "code",
   "execution_count": 9,
   "metadata": {
    "scrolled": true
   },
   "outputs": [
    {
     "data": {
      "text/html": [
       "<style type=\"text/css\">\n",
       "</style>\n",
       "<table id=\"T_05666\">\n",
       "  <thead>\n",
       "    <tr>\n",
       "      <th class=\"blank level0\" >&nbsp;</th>\n",
       "      <th id=\"T_05666_level0_col0\" class=\"col_heading level0 col0\" >name</th>\n",
       "      <th id=\"T_05666_level0_col1\" class=\"col_heading level0 col1\" >q4</th>\n",
       "      <th id=\"T_05666_level0_col2\" class=\"col_heading level0 col2\" >q3</th>\n",
       "      <th id=\"T_05666_level0_col3\" class=\"col_heading level0 col3\" >q2</th>\n",
       "      <th id=\"T_05666_level0_col4\" class=\"col_heading level0 col4\" >q1</th>\n",
       "      <th id=\"T_05666_level0_col5\" class=\"col_heading level0 col5\" >dividend</th>\n",
       "      <th id=\"T_05666_level0_col6\" class=\"col_heading level0 col6\" >shares</th>\n",
       "      <th id=\"T_05666_level0_col7\" class=\"col_heading level0 col7\" >xdate</th>\n",
       "      <th id=\"T_05666_level0_col8\" class=\"col_heading level0 col8\" >paiddate</th>\n",
       "      <th id=\"T_05666_level0_col9\" class=\"col_heading level0 col9\" >kind</th>\n",
       "      <th id=\"T_05666_level0_col10\" class=\"col_heading level0 col10\" >actual</th>\n",
       "    </tr>\n",
       "  </thead>\n",
       "  <tbody>\n",
       "    <tr>\n",
       "      <th id=\"T_05666_level0_row0\" class=\"row_heading level0 row0\" >0</th>\n",
       "      <td id=\"T_05666_row0_col0\" class=\"data row0 col0\" >TFFIF</td>\n",
       "      <td id=\"T_05666_row0_col1\" class=\"data row0 col1\" >0.1039</td>\n",
       "      <td id=\"T_05666_row0_col2\" class=\"data row0 col2\" >0.1192</td>\n",
       "      <td id=\"T_05666_row0_col3\" class=\"data row0 col3\" >0.1176</td>\n",
       "      <td id=\"T_05666_row0_col4\" class=\"data row0 col4\" >0.1189</td>\n",
       "      <td id=\"T_05666_row0_col5\" class=\"data row0 col5\" >0.4596</td>\n",
       "      <td id=\"T_05666_row0_col6\" class=\"data row0 col6\" >20,000</td>\n",
       "      <td id=\"T_05666_row0_col7\" class=\"data row0 col7\" >2025-05-28</td>\n",
       "      <td id=\"T_05666_row0_col8\" class=\"data row0 col8\" >2025-06-16</td>\n",
       "      <td id=\"T_05666_row0_col9\" class=\"data row0 col9\" ></td>\n",
       "      <td id=\"T_05666_row0_col10\" class=\"data row0 col10\" >0</td>\n",
       "    </tr>\n",
       "  </tbody>\n",
       "</table>\n"
      ],
      "text/plain": [
       "<pandas.io.formats.style.Styler at 0x15203307f80>"
      ]
     },
     "execution_count": 9,
     "metadata": {},
     "output_type": "execute_result"
    }
   ],
   "source": [
    "name = 'TFFIF'\n",
    "sql = \"\"\"\n",
    "SELECT * FROM DIVIDEND WHERE name = '%s'\"\"\"\n",
    "sql = sql % name\n",
    "dividend = pd.read_sql(sql, const)\n",
    "dividend.drop(['PRICE', 'PERCENT'], axis=1, inplace=True)\n",
    "dividend.columns = dividend.columns.str.lower()\n",
    "dividend['shares'] = dividend['shares'].astype('int64')\n",
    "dividend['xdate'] = pd.to_datetime(dividend['xdate'])\n",
    "dividend['paiddate'] = pd.to_datetime(dividend['paiddate'])\n",
    "dividend.style.format(format_dict)"
   ]
  },
  {
   "cell_type": "code",
   "execution_count": 11,
   "metadata": {},
   "outputs": [],
   "source": [
    "from sqlalchemy import text\n",
    "\n",
    "def update_dividend1(q3, XDATE, PAIDDATE, actual, name):\n",
    "    sql = text(\"UPDATE dividend SET q3 = :q3, dividend = q1+q2+q3+q4, XDATE = :xdate, PAIDDATE = :pdate, actual = :actual WHERE name = :name\")\n",
    "    rp = const.execute(sql, {\"q3\": q3, \"xdate\": XDATE, \"pdate\": PAIDDATE, \"actual\": actual, \"name\": name})\n",
    "    return \"Records updated = \" + str(rp.rowcount)"
   ]
  },
  {
   "cell_type": "code",
   "execution_count": 13,
   "metadata": {},
   "outputs": [
    {
     "data": {
      "text/plain": [
       "'Records updated = 1'"
      ]
     },
     "execution_count": 13,
     "metadata": {},
     "output_type": "execute_result"
    }
   ],
   "source": [
    "q3 = 0.1128\n",
    "XDATE = '2025-08-28'\n",
    "PAIDDATE = '2025-09-15'\n",
    "actual = 1\n",
    "\n",
    "update_dividend1(q3,XDATE,PAIDDATE,actual,name)"
   ]
  },
  {
   "cell_type": "code",
   "execution_count": 15,
   "metadata": {},
   "outputs": [
    {
     "data": {
      "text/html": [
       "<style type=\"text/css\">\n",
       "</style>\n",
       "<table id=\"T_ba762\">\n",
       "  <thead>\n",
       "    <tr>\n",
       "      <th class=\"blank level0\" >&nbsp;</th>\n",
       "      <th id=\"T_ba762_level0_col0\" class=\"col_heading level0 col0\" >name</th>\n",
       "      <th id=\"T_ba762_level0_col1\" class=\"col_heading level0 col1\" >q4</th>\n",
       "      <th id=\"T_ba762_level0_col2\" class=\"col_heading level0 col2\" >q3</th>\n",
       "      <th id=\"T_ba762_level0_col3\" class=\"col_heading level0 col3\" >q2</th>\n",
       "      <th id=\"T_ba762_level0_col4\" class=\"col_heading level0 col4\" >q1</th>\n",
       "      <th id=\"T_ba762_level0_col5\" class=\"col_heading level0 col5\" >dividend</th>\n",
       "      <th id=\"T_ba762_level0_col6\" class=\"col_heading level0 col6\" >shares</th>\n",
       "      <th id=\"T_ba762_level0_col7\" class=\"col_heading level0 col7\" >xdate</th>\n",
       "      <th id=\"T_ba762_level0_col8\" class=\"col_heading level0 col8\" >paiddate</th>\n",
       "      <th id=\"T_ba762_level0_col9\" class=\"col_heading level0 col9\" >kind</th>\n",
       "      <th id=\"T_ba762_level0_col10\" class=\"col_heading level0 col10\" >actual</th>\n",
       "    </tr>\n",
       "  </thead>\n",
       "  <tbody>\n",
       "    <tr>\n",
       "      <th id=\"T_ba762_level0_row0\" class=\"row_heading level0 row0\" >0</th>\n",
       "      <td id=\"T_ba762_row0_col0\" class=\"data row0 col0\" >TFFIF</td>\n",
       "      <td id=\"T_ba762_row0_col1\" class=\"data row0 col1\" >0.1039</td>\n",
       "      <td id=\"T_ba762_row0_col2\" class=\"data row0 col2\" >0.1128</td>\n",
       "      <td id=\"T_ba762_row0_col3\" class=\"data row0 col3\" >0.1176</td>\n",
       "      <td id=\"T_ba762_row0_col4\" class=\"data row0 col4\" >0.1189</td>\n",
       "      <td id=\"T_ba762_row0_col5\" class=\"data row0 col5\" >0.4532</td>\n",
       "      <td id=\"T_ba762_row0_col6\" class=\"data row0 col6\" >20,000</td>\n",
       "      <td id=\"T_ba762_row0_col7\" class=\"data row0 col7\" >2025-08-28</td>\n",
       "      <td id=\"T_ba762_row0_col8\" class=\"data row0 col8\" >2025-09-15</td>\n",
       "      <td id=\"T_ba762_row0_col9\" class=\"data row0 col9\" ></td>\n",
       "      <td id=\"T_ba762_row0_col10\" class=\"data row0 col10\" >1</td>\n",
       "    </tr>\n",
       "  </tbody>\n",
       "</table>\n"
      ],
      "text/plain": [
       "<pandas.io.formats.style.Styler at 0x152033d3440>"
      ]
     },
     "execution_count": 15,
     "metadata": {},
     "output_type": "execute_result"
    }
   ],
   "source": [
    "sql = \"\"\"\n",
    "SELECT * FROM DIVIDEND WHERE name = '%s'\"\"\"\n",
    "sql = sql % name\n",
    "dividend = pd.read_sql(sql, const)\n",
    "dividend.drop(['PRICE', 'PERCENT'], axis=1, inplace=True)\n",
    "dividend.columns = dividend.columns.str.lower()\n",
    "dividend['shares'] = dividend['shares'].astype('int64')\n",
    "dividend['xdate'] = pd.to_datetime(dividend['xdate'])\n",
    "dividend['paiddate'] = pd.to_datetime(dividend['paiddate'])\n",
    "dividend.style.format(format_dict)"
   ]
  },
  {
   "cell_type": "code",
   "execution_count": 26,
   "metadata": {},
   "outputs": [],
   "source": [
    "def update_dividend3(shares,q3,actual,name):\n",
    "    sql = \"UPDATE dividend SET shares = %s, q3 = %s, dividend=q1+q2+q3+q4, actual = %s WHERE name = '%s'\"\n",
    "    sql = sql % (shares, q3, actual, name)\n",
    "    rp = const.execute(sql)\n",
    "    return \"Records updated = \" + str(rp.rowcount)"
   ]
  },
  {
   "cell_type": "code",
   "execution_count": 27,
   "metadata": {},
   "outputs": [
    {
     "data": {
      "text/html": [
       "<style type=\"text/css\">\n",
       "</style>\n",
       "<table id=\"T_07286_\">\n",
       "  <thead>\n",
       "    <tr>\n",
       "      <th class=\"blank level0\" >&nbsp;</th>\n",
       "      <th class=\"col_heading level0 col0\" >name</th>\n",
       "      <th class=\"col_heading level0 col1\" >q4</th>\n",
       "      <th class=\"col_heading level0 col2\" >q3</th>\n",
       "      <th class=\"col_heading level0 col3\" >q2</th>\n",
       "      <th class=\"col_heading level0 col4\" >q1</th>\n",
       "      <th class=\"col_heading level0 col5\" >dividend</th>\n",
       "      <th class=\"col_heading level0 col6\" >shares</th>\n",
       "      <th class=\"col_heading level0 col7\" >xdate</th>\n",
       "      <th class=\"col_heading level0 col8\" >paiddate</th>\n",
       "      <th class=\"col_heading level0 col9\" >kind</th>\n",
       "      <th class=\"col_heading level0 col10\" >actual</th>\n",
       "    </tr>\n",
       "  </thead>\n",
       "  <tbody>\n",
       "    <tr>\n",
       "      <th id=\"T_07286_level0_row0\" class=\"row_heading level0 row0\" >0</th>\n",
       "      <td id=\"T_07286_row0_col0\" class=\"data row0 col0\" >3BBIF</td>\n",
       "      <td id=\"T_07286_row0_col1\" class=\"data row0 col1\" >0.1600</td>\n",
       "      <td id=\"T_07286_row0_col2\" class=\"data row0 col2\" >0.0000</td>\n",
       "      <td id=\"T_07286_row0_col3\" class=\"data row0 col3\" >0.0000</td>\n",
       "      <td id=\"T_07286_row0_col4\" class=\"data row0 col4\" >0.0000</td>\n",
       "      <td id=\"T_07286_row0_col5\" class=\"data row0 col5\" >0.1600</td>\n",
       "      <td id=\"T_07286_row0_col6\" class=\"data row0 col6\" >120,000</td>\n",
       "      <td id=\"T_07286_row0_col7\" class=\"data row0 col7\" >2024-08-16</td>\n",
       "      <td id=\"T_07286_row0_col8\" class=\"data row0 col8\" >2024-09-23</td>\n",
       "      <td id=\"T_07286_row0_col9\" class=\"data row0 col9\" ></td>\n",
       "      <td id=\"T_07286_row0_col10\" class=\"data row0 col10\" >1</td>\n",
       "    </tr>\n",
       "  </tbody>\n",
       "</table>\n"
      ],
      "text/plain": [
       "<pandas.io.formats.style.Styler at 0x237a9a55cd0>"
      ]
     },
     "execution_count": 27,
     "metadata": {},
     "output_type": "execute_result"
    }
   ],
   "source": [
    "name = '3BBIF'\n",
    "sql = \"\"\"\n",
    "SELECT * \n",
    "FROM DIVIDEND\n",
    "WHERE name = '%s'\n",
    "\"\"\"\n",
    "sql = sql % name\n",
    "dividend = pd.read_sql(sql, const)\n",
    "dividend.drop(['PRICE', 'PERCENT'], axis=1, inplace=True)\n",
    "dividend.columns = dividend.columns.str.lower()\n",
    "dividend['shares'] = dividend['shares'].astype('int64')\n",
    "dividend['xdate'] = pd.to_datetime(dividend['xdate'])\n",
    "dividend['paiddate'] = pd.to_datetime(dividend['paiddate'])\n",
    "dividend.style.format(format_dict)"
   ]
  },
  {
   "cell_type": "code",
   "execution_count": 12,
   "metadata": {},
   "outputs": [],
   "source": [
    "shares = 120_000\n",
    "q3 = 0\n",
    "actual = 1"
   ]
  },
  {
   "cell_type": "code",
   "execution_count": 13,
   "metadata": {},
   "outputs": [
    {
     "data": {
      "text/plain": [
       "'Records updated = 1'"
      ]
     },
     "execution_count": 13,
     "metadata": {},
     "output_type": "execute_result"
    }
   ],
   "source": [
    "update_dividend3(shares,q3,actual,name)"
   ]
  },
  {
   "cell_type": "markdown",
   "metadata": {},
   "source": [
    "### Toggle actual status"
   ]
  },
  {
   "cell_type": "code",
   "execution_count": 14,
   "metadata": {},
   "outputs": [
    {
     "data": {
      "text/plain": [
       "1"
      ]
     },
     "execution_count": 14,
     "metadata": {},
     "output_type": "execute_result"
    }
   ],
   "source": [
    "name = 'TFFIF'\n",
    "actual = 0\n",
    "sqlUpd = \"UPDATE dividend SET actual = %s WHERE name = '%s'\"\n",
    "sqlUpd = sqlUpd % (actual, name)\n",
    "rp = const.execute(sqlUpd)\n",
    "rp.rowcount"
   ]
  },
  {
   "cell_type": "markdown",
   "metadata": {},
   "source": [
    "### Delete dividend record"
   ]
  },
  {
   "cell_type": "code",
   "execution_count": 15,
   "metadata": {},
   "outputs": [
    {
     "data": {
      "text/plain": [
       "0"
      ]
     },
     "execution_count": 15,
     "metadata": {},
     "output_type": "execute_result"
    }
   ],
   "source": [
    "sqlDel = '''\n",
    "DELETE FROM dividend\n",
    "WHERE name IN (\"DOHOME\")\n",
    "'''\n",
    "rp = const.execute(sqlDel)\n",
    "rp.rowcount"
   ]
  },
  {
   "cell_type": "markdown",
   "metadata": {},
   "source": [
    "### Start of output to cloud"
   ]
  },
  {
   "cell_type": "code",
   "execution_count": 12,
   "metadata": {
    "scrolled": true
   },
   "outputs": [
    {
     "name": "stdout",
     "output_type": "stream",
     "text": [
      "\n",
      "SELECT Y.NAME AS name,  Q3 AS qtrly, SHARES, XDATE, PAIDDATE, \n",
      "P.price AS price, Y.DIVIDEND, ACTUAL, B.price * B.volbuy AS cost_amt\n",
      "FROM dividend AS Y, price AS P, buy AS B\n",
      "WHERE Y.name = P.name \n",
      "AND Y.name = B.name \n",
      "AND P.date = '2024-11-14'\n",
      "AND (Q3 > 0 OR Y.name IN ('GVREIT','TFFIF')) \n",
      "ORDER BY name\n",
      "\n"
     ]
    }
   ],
   "source": [
    "sql = \"\"\"\n",
    "SELECT Y.NAME AS name,  Q3 AS qtrly, SHARES, XDATE, PAIDDATE, \n",
    "P.price AS price, Y.DIVIDEND, ACTUAL, B.price * B.volbuy AS cost_amt\n",
    "FROM dividend AS Y, price AS P, buy AS B\n",
    "WHERE Y.name = P.name \n",
    "AND Y.name = B.name \n",
    "AND P.date = '%s'\n",
    "AND (Q3 > 0 OR Y.name IN ('GVREIT','TFFIF')) \n",
    "ORDER BY name\n",
    "\"\"\"\n",
    "sql = sql % yesterday \n",
    "print(sql)"
   ]
  },
  {
   "cell_type": "code",
   "execution_count": 13,
   "metadata": {},
   "outputs": [],
   "source": [
    "cols = 'name qtrly shares amount net xdate paiddate cost_amt pct actual'.split()"
   ]
  },
  {
   "cell_type": "code",
   "execution_count": 14,
   "metadata": {},
   "outputs": [
    {
     "data": {
      "text/html": [
       "<style type=\"text/css\">\n",
       "</style>\n",
       "<table id=\"T_b9d8c_\">\n",
       "  <thead>\n",
       "    <tr>\n",
       "      <th class=\"blank level0\" >&nbsp;</th>\n",
       "      <th class=\"col_heading level0 col0\" >name</th>\n",
       "      <th class=\"col_heading level0 col1\" >qtrly</th>\n",
       "      <th class=\"col_heading level0 col2\" >shares</th>\n",
       "      <th class=\"col_heading level0 col3\" >amount</th>\n",
       "      <th class=\"col_heading level0 col4\" >net</th>\n",
       "      <th class=\"col_heading level0 col5\" >xdate</th>\n",
       "      <th class=\"col_heading level0 col6\" >paiddate</th>\n",
       "      <th class=\"col_heading level0 col7\" >cost_amt</th>\n",
       "      <th class=\"col_heading level0 col8\" >pct</th>\n",
       "      <th class=\"col_heading level0 col9\" >actual</th>\n",
       "    </tr>\n",
       "  </thead>\n",
       "  <tbody>\n",
       "    <tr>\n",
       "      <th id=\"T_b9d8c_level0_row0\" class=\"row_heading level0 row0\" >0</th>\n",
       "      <td id=\"T_b9d8c_row0_col0\" class=\"data row0 col0\" >AIMIRT</td>\n",
       "      <td id=\"T_b9d8c_row0_col1\" class=\"data row0 col1\" >0.2150</td>\n",
       "      <td id=\"T_b9d8c_row0_col2\" class=\"data row0 col2\" >12,500</td>\n",
       "      <td id=\"T_b9d8c_row0_col3\" class=\"data row0 col3\" >2,687.50</td>\n",
       "      <td id=\"T_b9d8c_row0_col4\" class=\"data row0 col4\" >2,418.75</td>\n",
       "      <td id=\"T_b9d8c_row0_col5\" class=\"data row0 col5\" >2024-11-26</td>\n",
       "      <td id=\"T_b9d8c_row0_col6\" class=\"data row0 col6\" >2024-12-13</td>\n",
       "      <td id=\"T_b9d8c_row0_col7\" class=\"data row0 col7\" >136,250.00</td>\n",
       "      <td id=\"T_b9d8c_row0_col8\" class=\"data row0 col8\" >1.78%</td>\n",
       "      <td id=\"T_b9d8c_row0_col9\" class=\"data row0 col9\" >1</td>\n",
       "    </tr>\n",
       "    <tr>\n",
       "      <th id=\"T_b9d8c_level0_row1\" class=\"row_heading level0 row1\" >1</th>\n",
       "      <td id=\"T_b9d8c_row1_col0\" class=\"data row1 col0\" >CPNREIT</td>\n",
       "      <td id=\"T_b9d8c_row1_col1\" class=\"data row1 col1\" >0.2213</td>\n",
       "      <td id=\"T_b9d8c_row1_col2\" class=\"data row1 col2\" >55,000</td>\n",
       "      <td id=\"T_b9d8c_row1_col3\" class=\"data row1 col3\" >12,171.50</td>\n",
       "      <td id=\"T_b9d8c_row1_col4\" class=\"data row1 col4\" >10,954.35</td>\n",
       "      <td id=\"T_b9d8c_row1_col5\" class=\"data row1 col5\" >2024-11-26</td>\n",
       "      <td id=\"T_b9d8c_row1_col6\" class=\"data row1 col6\" >2024-12-12</td>\n",
       "      <td id=\"T_b9d8c_row1_col7\" class=\"data row1 col7\" >990,000.00</td>\n",
       "      <td id=\"T_b9d8c_row1_col8\" class=\"data row1 col8\" >1.11%</td>\n",
       "      <td id=\"T_b9d8c_row1_col9\" class=\"data row1 col9\" >1</td>\n",
       "    </tr>\n",
       "    <tr>\n",
       "      <th id=\"T_b9d8c_level0_row2\" class=\"row_heading level0 row2\" >2</th>\n",
       "      <td id=\"T_b9d8c_row2_col0\" class=\"data row2 col0\" >DIF</td>\n",
       "      <td id=\"T_b9d8c_row2_col1\" class=\"data row2 col1\" >0.2222</td>\n",
       "      <td id=\"T_b9d8c_row2_col2\" class=\"data row2 col2\" >35,000</td>\n",
       "      <td id=\"T_b9d8c_row2_col3\" class=\"data row2 col3\" >7,777.00</td>\n",
       "      <td id=\"T_b9d8c_row2_col4\" class=\"data row2 col4\" >6,999.30</td>\n",
       "      <td id=\"T_b9d8c_row2_col5\" class=\"data row2 col5\" >2024-11-14</td>\n",
       "      <td id=\"T_b9d8c_row2_col6\" class=\"data row2 col6\" >2024-12-06</td>\n",
       "      <td id=\"T_b9d8c_row2_col7\" class=\"data row2 col7\" >486,500.00</td>\n",
       "      <td id=\"T_b9d8c_row2_col8\" class=\"data row2 col8\" >1.44%</td>\n",
       "      <td id=\"T_b9d8c_row2_col9\" class=\"data row2 col9\" >1</td>\n",
       "    </tr>\n",
       "    <tr>\n",
       "      <th id=\"T_b9d8c_level0_row3\" class=\"row_heading level0 row3\" >3</th>\n",
       "      <td id=\"T_b9d8c_row3_col0\" class=\"data row3 col0\" >GVREIT</td>\n",
       "      <td id=\"T_b9d8c_row3_col1\" class=\"data row3 col1\" >0.1911</td>\n",
       "      <td id=\"T_b9d8c_row3_col2\" class=\"data row3 col2\" >60,000</td>\n",
       "      <td id=\"T_b9d8c_row3_col3\" class=\"data row3 col3\" >11,466.00</td>\n",
       "      <td id=\"T_b9d8c_row3_col4\" class=\"data row3 col4\" >10,319.40</td>\n",
       "      <td id=\"T_b9d8c_row3_col5\" class=\"data row3 col5\" >2024-08-28</td>\n",
       "      <td id=\"T_b9d8c_row3_col6\" class=\"data row3 col6\" >2024-09-12</td>\n",
       "      <td id=\"T_b9d8c_row3_col7\" class=\"data row3 col7\" >474,000.00</td>\n",
       "      <td id=\"T_b9d8c_row3_col8\" class=\"data row3 col8\" >2.18%</td>\n",
       "      <td id=\"T_b9d8c_row3_col9\" class=\"data row3 col9\" >0</td>\n",
       "    </tr>\n",
       "    <tr>\n",
       "      <th id=\"T_b9d8c_level0_row4\" class=\"row_heading level0 row4\" >4</th>\n",
       "      <td id=\"T_b9d8c_row4_col0\" class=\"data row4 col0\" >IVL</td>\n",
       "      <td id=\"T_b9d8c_row4_col1\" class=\"data row4 col1\" >0.1750</td>\n",
       "      <td id=\"T_b9d8c_row4_col2\" class=\"data row4 col2\" >7,200</td>\n",
       "      <td id=\"T_b9d8c_row4_col3\" class=\"data row4 col3\" >1,260.00</td>\n",
       "      <td id=\"T_b9d8c_row4_col4\" class=\"data row4 col4\" >1,134.00</td>\n",
       "      <td id=\"T_b9d8c_row4_col5\" class=\"data row4 col5\" >2024-11-25</td>\n",
       "      <td id=\"T_b9d8c_row4_col6\" class=\"data row4 col6\" >2024-12-11</td>\n",
       "      <td id=\"T_b9d8c_row4_col7\" class=\"data row4 col7\" >288,000.00</td>\n",
       "      <td id=\"T_b9d8c_row4_col8\" class=\"data row4 col8\" >0.39%</td>\n",
       "      <td id=\"T_b9d8c_row4_col9\" class=\"data row4 col9\" >1</td>\n",
       "    </tr>\n",
       "    <tr>\n",
       "      <th id=\"T_b9d8c_level0_row5\" class=\"row_heading level0 row5\" >5</th>\n",
       "      <td id=\"T_b9d8c_row5_col0\" class=\"data row5 col0\" >ORI</td>\n",
       "      <td id=\"T_b9d8c_row5_col1\" class=\"data row5 col1\" >0.0210</td>\n",
       "      <td id=\"T_b9d8c_row5_col2\" class=\"data row5 col2\" >50,000</td>\n",
       "      <td id=\"T_b9d8c_row5_col3\" class=\"data row5 col3\" >1,050.00</td>\n",
       "      <td id=\"T_b9d8c_row5_col4\" class=\"data row5 col4\" >945.00</td>\n",
       "      <td id=\"T_b9d8c_row5_col5\" class=\"data row5 col5\" >2024-11-28</td>\n",
       "      <td id=\"T_b9d8c_row5_col6\" class=\"data row5 col6\" >2024-12-13</td>\n",
       "      <td id=\"T_b9d8c_row5_col7\" class=\"data row5 col7\" >520,000.00</td>\n",
       "      <td id=\"T_b9d8c_row5_col8\" class=\"data row5 col8\" >0.18%</td>\n",
       "      <td id=\"T_b9d8c_row5_col9\" class=\"data row5 col9\" >1</td>\n",
       "    </tr>\n",
       "    <tr>\n",
       "      <th id=\"T_b9d8c_level0_row6\" class=\"row_heading level0 row6\" >6</th>\n",
       "      <td id=\"T_b9d8c_row6_col0\" class=\"data row6 col0\" >PTG</td>\n",
       "      <td id=\"T_b9d8c_row6_col1\" class=\"data row6 col1\" >0.1000</td>\n",
       "      <td id=\"T_b9d8c_row6_col2\" class=\"data row6 col2\" >3,600</td>\n",
       "      <td id=\"T_b9d8c_row6_col3\" class=\"data row6 col3\" >360.00</td>\n",
       "      <td id=\"T_b9d8c_row6_col4\" class=\"data row6 col4\" >324.00</td>\n",
       "      <td id=\"T_b9d8c_row6_col5\" class=\"data row6 col5\" >2024-11-26</td>\n",
       "      <td id=\"T_b9d8c_row6_col6\" class=\"data row6 col6\" >2024-12-12</td>\n",
       "      <td id=\"T_b9d8c_row6_col7\" class=\"data row6 col7\" >41,040.00</td>\n",
       "      <td id=\"T_b9d8c_row6_col8\" class=\"data row6 col8\" >0.79%</td>\n",
       "      <td id=\"T_b9d8c_row6_col9\" class=\"data row6 col9\" >1</td>\n",
       "    </tr>\n",
       "    <tr>\n",
       "      <th id=\"T_b9d8c_level0_row7\" class=\"row_heading level0 row7\" >7</th>\n",
       "      <td id=\"T_b9d8c_row7_col0\" class=\"data row7 col0\" >RCL</td>\n",
       "      <td id=\"T_b9d8c_row7_col1\" class=\"data row7 col1\" >0.5000</td>\n",
       "      <td id=\"T_b9d8c_row7_col2\" class=\"data row7 col2\" >27,000</td>\n",
       "      <td id=\"T_b9d8c_row7_col3\" class=\"data row7 col3\" >13,500.00</td>\n",
       "      <td id=\"T_b9d8c_row7_col4\" class=\"data row7 col4\" >12,150.00</td>\n",
       "      <td id=\"T_b9d8c_row7_col5\" class=\"data row7 col5\" >2024-11-21</td>\n",
       "      <td id=\"T_b9d8c_row7_col6\" class=\"data row7 col6\" >2024-12-06</td>\n",
       "      <td id=\"T_b9d8c_row7_col7\" class=\"data row7 col7\" >1,046,250.00</td>\n",
       "      <td id=\"T_b9d8c_row7_col8\" class=\"data row7 col8\" >1.16%</td>\n",
       "      <td id=\"T_b9d8c_row7_col9\" class=\"data row7 col9\" >1</td>\n",
       "    </tr>\n",
       "    <tr>\n",
       "      <th id=\"T_b9d8c_level0_row8\" class=\"row_heading level0 row8\" >8</th>\n",
       "      <td id=\"T_b9d8c_row8_col0\" class=\"data row8 col0\" >TFFIF</td>\n",
       "      <td id=\"T_b9d8c_row8_col1\" class=\"data row8 col1\" >0.1057</td>\n",
       "      <td id=\"T_b9d8c_row8_col2\" class=\"data row8 col2\" >20,000</td>\n",
       "      <td id=\"T_b9d8c_row8_col3\" class=\"data row8 col3\" >2,114.00</td>\n",
       "      <td id=\"T_b9d8c_row8_col4\" class=\"data row8 col4\" >1,902.60</td>\n",
       "      <td id=\"T_b9d8c_row8_col5\" class=\"data row8 col5\" >2023-12-12</td>\n",
       "      <td id=\"T_b9d8c_row8_col6\" class=\"data row8 col6\" >2023-12-28</td>\n",
       "      <td id=\"T_b9d8c_row8_col7\" class=\"data row8 col7\" >150,000.00</td>\n",
       "      <td id=\"T_b9d8c_row8_col8\" class=\"data row8 col8\" >1.27%</td>\n",
       "      <td id=\"T_b9d8c_row8_col9\" class=\"data row8 col9\" >0</td>\n",
       "    </tr>\n",
       "    <tr>\n",
       "      <th id=\"T_b9d8c_level0_row9\" class=\"row_heading level0 row9\" >9</th>\n",
       "      <td id=\"T_b9d8c_row9_col0\" class=\"data row9 col0\" >WHAIR</td>\n",
       "      <td id=\"T_b9d8c_row9_col1\" class=\"data row9 col1\" >0.2229</td>\n",
       "      <td id=\"T_b9d8c_row9_col2\" class=\"data row9 col2\" >50,000</td>\n",
       "      <td id=\"T_b9d8c_row9_col3\" class=\"data row9 col3\" >11,145.00</td>\n",
       "      <td id=\"T_b9d8c_row9_col4\" class=\"data row9 col4\" >10,030.50</td>\n",
       "      <td id=\"T_b9d8c_row9_col5\" class=\"data row9 col5\" >2024-11-21</td>\n",
       "      <td id=\"T_b9d8c_row9_col6\" class=\"data row9 col6\" >2024-12-17</td>\n",
       "      <td id=\"T_b9d8c_row9_col7\" class=\"data row9 col7\" >435,000.00</td>\n",
       "      <td id=\"T_b9d8c_row9_col8\" class=\"data row9 col8\" >2.31%</td>\n",
       "      <td id=\"T_b9d8c_row9_col9\" class=\"data row9 col9\" >1</td>\n",
       "    </tr>\n",
       "    <tr>\n",
       "      <th id=\"T_b9d8c_level0_row10\" class=\"row_heading level0 row10\" >10</th>\n",
       "      <td id=\"T_b9d8c_row10_col0\" class=\"data row10 col0\" >WHART</td>\n",
       "      <td id=\"T_b9d8c_row10_col1\" class=\"data row10 col1\" >0.1930</td>\n",
       "      <td id=\"T_b9d8c_row10_col2\" class=\"data row10 col2\" >20,000</td>\n",
       "      <td id=\"T_b9d8c_row10_col3\" class=\"data row10 col3\" >3,860.00</td>\n",
       "      <td id=\"T_b9d8c_row10_col4\" class=\"data row10 col4\" >3,474.00</td>\n",
       "      <td id=\"T_b9d8c_row10_col5\" class=\"data row10 col5\" >2024-11-25</td>\n",
       "      <td id=\"T_b9d8c_row10_col6\" class=\"data row10 col6\" >2024-12-13</td>\n",
       "      <td id=\"T_b9d8c_row10_col7\" class=\"data row10 col7\" >246,000.00</td>\n",
       "      <td id=\"T_b9d8c_row10_col8\" class=\"data row10 col8\" >1.41%</td>\n",
       "      <td id=\"T_b9d8c_row10_col9\" class=\"data row10 col9\" >1</td>\n",
       "    </tr>\n",
       "  </tbody>\n",
       "</table>\n"
      ],
      "text/plain": [
       "<pandas.io.formats.style.Styler at 0x1d590781a30>"
      ]
     },
     "execution_count": 14,
     "metadata": {},
     "output_type": "execute_result"
    }
   ],
   "source": [
    "dividend = pd.read_sql(sql, const)\n",
    "dividend.columns = dividend.columns.str.lower()\n",
    "dividend['shares'] = dividend['shares'].astype('int64')\n",
    "dividend['xdate'] = pd.to_datetime(dividend['xdate'])\n",
    "dividend['paiddate'] = pd.to_datetime(dividend['paiddate'])\n",
    "dividend['amount'] = round(dividend['shares'] * dividend['qtrly'], 2)\n",
    "dividend['net'] = round(dividend['amount'] * 0.9, 2)\n",
    "dividend['pct'] = round(dividend['net'] / dividend['cost_amt'] * 100, 2)\n",
    "dividend[cols].style.format(format_dict)"
   ]
  },
  {
   "cell_type": "code",
   "execution_count": 15,
   "metadata": {},
   "outputs": [
    {
     "data": {
      "text/plain": [
       "60651.9"
      ]
     },
     "execution_count": 15,
     "metadata": {},
     "output_type": "execute_result"
    }
   ],
   "source": [
    "dividend.net.sum()"
   ]
  },
  {
   "cell_type": "code",
   "execution_count": 16,
   "metadata": {},
   "outputs": [],
   "source": [
    "file_name = '18-div-24q3.xlsx'\n",
    "data_file = data_path + file_name\n",
    "output_file = csv_path + file_name\n",
    "box_file = box_path + file_name\n",
    "one_file = one_path + file_name\n",
    "xsl_file = xsl_path + file_name\n",
    "\n",
    "dividend[cols].sort_values(['name'],ascending=[True]).to_excel(output_file, index=False)\n",
    "dividend[cols].sort_values(['name'],ascending=[True]).to_excel(data_file, index=False)\n",
    "dividend[cols].sort_values(['name'],ascending=[True]).to_excel(box_file, index=False)\n",
    "dividend[cols].sort_values(['name'],ascending=[True]).to_excel(one_file, index=False)\n",
    "dividend[cols].sort_values(['name'],ascending=[True]).to_excel(xsl_file, index=False)"
   ]
  },
  {
   "cell_type": "markdown",
   "metadata": {},
   "source": [
    "### End of output to cloud"
   ]
  },
  {
   "cell_type": "code",
   "execution_count": 21,
   "metadata": {},
   "outputs": [
    {
     "name": "stdout",
     "output_type": "stream",
     "text": [
      "SELECT name, q_eps, aq_eps, publish_date FROM epss WHERE year = 2023-1 AND quarter = 3 ORDER BY name\n"
     ]
    },
    {
     "data": {
      "text/plain": [
       "name             object\n",
       "q_eps           float64\n",
       "aq_eps          float64\n",
       "publish_date     object\n",
       "dtype: object"
      ]
     },
     "execution_count": 21,
     "metadata": {},
     "output_type": "execute_result"
    }
   ],
   "source": [
    "sql = 'SELECT name, q_eps, aq_eps, publish_date FROM epss WHERE year = %s-1 AND quarter = %s ORDER BY name'\n",
    "sql = sql % (year, quarter)\n",
    "print(sql)\n",
    "eps = pd.read_sql(sql, conlt)\n",
    "eps.dtypes"
   ]
  },
  {
   "cell_type": "code",
   "execution_count": 22,
   "metadata": {},
   "outputs": [
    {
     "data": {
      "text/html": [
       "<div>\n",
       "<style scoped>\n",
       "    .dataframe tbody tr th:only-of-type {\n",
       "        vertical-align: middle;\n",
       "    }\n",
       "\n",
       "    .dataframe tbody tr th {\n",
       "        vertical-align: top;\n",
       "    }\n",
       "\n",
       "    .dataframe thead th {\n",
       "        text-align: right;\n",
       "    }\n",
       "</style>\n",
       "<table border=\"1\" class=\"dataframe\">\n",
       "  <thead>\n",
       "    <tr style=\"text-align: right;\">\n",
       "      <th></th>\n",
       "      <th>name</th>\n",
       "      <th>qtrly</th>\n",
       "      <th>shares</th>\n",
       "      <th>xdate</th>\n",
       "      <th>paiddate</th>\n",
       "      <th>price</th>\n",
       "      <th>dividend</th>\n",
       "      <th>actual</th>\n",
       "      <th>cost_amt</th>\n",
       "      <th>amount</th>\n",
       "      <th>net</th>\n",
       "      <th>pct</th>\n",
       "      <th>q_eps</th>\n",
       "      <th>aq_eps</th>\n",
       "      <th>publish_date</th>\n",
       "    </tr>\n",
       "  </thead>\n",
       "  <tbody>\n",
       "    <tr>\n",
       "      <th>0</th>\n",
       "      <td>AIMIRT</td>\n",
       "      <td>0.2230</td>\n",
       "      <td>12500</td>\n",
       "      <td>2024-08-26</td>\n",
       "      <td>2024-09-12</td>\n",
       "      <td>10.80</td>\n",
       "      <td>0.8680</td>\n",
       "      <td>1</td>\n",
       "      <td>136250.0</td>\n",
       "      <td>2787.5</td>\n",
       "      <td>2508.75</td>\n",
       "      <td>1.84</td>\n",
       "      <td>0.4277</td>\n",
       "      <td>0.9044</td>\n",
       "      <td>2022-11-14</td>\n",
       "    </tr>\n",
       "    <tr>\n",
       "      <th>1</th>\n",
       "      <td>CPNREIT</td>\n",
       "      <td>0.2570</td>\n",
       "      <td>55000</td>\n",
       "      <td>2024-08-26</td>\n",
       "      <td>2024-09-11</td>\n",
       "      <td>12.10</td>\n",
       "      <td>0.8758</td>\n",
       "      <td>1</td>\n",
       "      <td>990000.0</td>\n",
       "      <td>14135.0</td>\n",
       "      <td>12721.50</td>\n",
       "      <td>1.28</td>\n",
       "      <td>0.2618</td>\n",
       "      <td>0.7765</td>\n",
       "      <td>2022-11-07</td>\n",
       "    </tr>\n",
       "    <tr>\n",
       "      <th>2</th>\n",
       "      <td>DIF</td>\n",
       "      <td>0.2264</td>\n",
       "      <td>30000</td>\n",
       "      <td>2024-08-13</td>\n",
       "      <td>2024-09-05</td>\n",
       "      <td>9.35</td>\n",
       "      <td>0.8972</td>\n",
       "      <td>1</td>\n",
       "      <td>441000.0</td>\n",
       "      <td>6792.0</td>\n",
       "      <td>6112.80</td>\n",
       "      <td>1.39</td>\n",
       "      <td>0.2694</td>\n",
       "      <td>0.8123</td>\n",
       "      <td>2022-11-11</td>\n",
       "    </tr>\n",
       "    <tr>\n",
       "      <th>3</th>\n",
       "      <td>GVREIT</td>\n",
       "      <td>0.1911</td>\n",
       "      <td>60000</td>\n",
       "      <td>2024-08-28</td>\n",
       "      <td>2024-09-12</td>\n",
       "      <td>6.75</td>\n",
       "      <td>0.7833</td>\n",
       "      <td>1</td>\n",
       "      <td>474000.0</td>\n",
       "      <td>11466.0</td>\n",
       "      <td>10319.40</td>\n",
       "      <td>2.18</td>\n",
       "      <td>0.2416</td>\n",
       "      <td>0.7164</td>\n",
       "      <td>2022-08-15</td>\n",
       "    </tr>\n",
       "    <tr>\n",
       "      <th>4</th>\n",
       "      <td>IVL</td>\n",
       "      <td>0.2500</td>\n",
       "      <td>7200</td>\n",
       "      <td>2024-08-27</td>\n",
       "      <td>2024-09-12</td>\n",
       "      <td>26.00</td>\n",
       "      <td>0.7750</td>\n",
       "      <td>1</td>\n",
       "      <td>288000.0</td>\n",
       "      <td>1800.0</td>\n",
       "      <td>1620.00</td>\n",
       "      <td>0.56</td>\n",
       "      <td>1.4200</td>\n",
       "      <td>7.4700</td>\n",
       "      <td>2022-11-10</td>\n",
       "    </tr>\n",
       "    <tr>\n",
       "      <th>5</th>\n",
       "      <td>TFFIF</td>\n",
       "      <td>0.1057</td>\n",
       "      <td>20000</td>\n",
       "      <td>2023-12-12</td>\n",
       "      <td>2023-12-28</td>\n",
       "      <td>6.45</td>\n",
       "      <td>0.4297</td>\n",
       "      <td>0</td>\n",
       "      <td>150000.0</td>\n",
       "      <td>2114.0</td>\n",
       "      <td>1902.60</td>\n",
       "      <td>1.27</td>\n",
       "      <td>0.0922</td>\n",
       "      <td>0.2671</td>\n",
       "      <td>2022-08-11</td>\n",
       "    </tr>\n",
       "    <tr>\n",
       "      <th>6</th>\n",
       "      <td>WHAIR</td>\n",
       "      <td>0.1369</td>\n",
       "      <td>50000</td>\n",
       "      <td>2024-08-23</td>\n",
       "      <td>2024-09-24</td>\n",
       "      <td>6.65</td>\n",
       "      <td>0.5482</td>\n",
       "      <td>1</td>\n",
       "      <td>435000.0</td>\n",
       "      <td>6845.0</td>\n",
       "      <td>6160.50</td>\n",
       "      <td>1.42</td>\n",
       "      <td>0.1537</td>\n",
       "      <td>0.4642</td>\n",
       "      <td>2022-11-08</td>\n",
       "    </tr>\n",
       "    <tr>\n",
       "      <th>7</th>\n",
       "      <td>WHART</td>\n",
       "      <td>0.2590</td>\n",
       "      <td>20000</td>\n",
       "      <td>2024-08-20</td>\n",
       "      <td>2024-09-06</td>\n",
       "      <td>10.30</td>\n",
       "      <td>0.7735</td>\n",
       "      <td>1</td>\n",
       "      <td>246000.0</td>\n",
       "      <td>5180.0</td>\n",
       "      <td>4662.00</td>\n",
       "      <td>1.90</td>\n",
       "      <td>0.2053</td>\n",
       "      <td>0.4441</td>\n",
       "      <td>2022-11-14</td>\n",
       "    </tr>\n",
       "  </tbody>\n",
       "</table>\n",
       "</div>"
      ],
      "text/plain": [
       "      name   qtrly  shares      xdate   paiddate  price  dividend  actual  \\\n",
       "0   AIMIRT  0.2230   12500 2024-08-26 2024-09-12  10.80    0.8680       1   \n",
       "1  CPNREIT  0.2570   55000 2024-08-26 2024-09-11  12.10    0.8758       1   \n",
       "2      DIF  0.2264   30000 2024-08-13 2024-09-05   9.35    0.8972       1   \n",
       "3   GVREIT  0.1911   60000 2024-08-28 2024-09-12   6.75    0.7833       1   \n",
       "4      IVL  0.2500    7200 2024-08-27 2024-09-12  26.00    0.7750       1   \n",
       "5    TFFIF  0.1057   20000 2023-12-12 2023-12-28   6.45    0.4297       0   \n",
       "6    WHAIR  0.1369   50000 2024-08-23 2024-09-24   6.65    0.5482       1   \n",
       "7    WHART  0.2590   20000 2024-08-20 2024-09-06  10.30    0.7735       1   \n",
       "\n",
       "   cost_amt   amount       net   pct   q_eps  aq_eps publish_date  \n",
       "0  136250.0   2787.5   2508.75  1.84  0.4277  0.9044   2022-11-14  \n",
       "1  990000.0  14135.0  12721.50  1.28  0.2618  0.7765   2022-11-07  \n",
       "2  441000.0   6792.0   6112.80  1.39  0.2694  0.8123   2022-11-11  \n",
       "3  474000.0  11466.0  10319.40  2.18  0.2416  0.7164   2022-08-15  \n",
       "4  288000.0   1800.0   1620.00  0.56  1.4200  7.4700   2022-11-10  \n",
       "5  150000.0   2114.0   1902.60  1.27  0.0922  0.2671   2022-08-11  \n",
       "6  435000.0   6845.0   6160.50  1.42  0.1537  0.4642   2022-11-08  \n",
       "7  246000.0   5180.0   4662.00  1.90  0.2053  0.4441   2022-11-14  "
      ]
     },
     "execution_count": 22,
     "metadata": {},
     "output_type": "execute_result"
    }
   ],
   "source": [
    "df_merge = pd.merge(dividend, eps, on='name', how='inner')\n",
    "df_merge.sort_values('name',ascending=True)"
   ]
  },
  {
   "cell_type": "code",
   "execution_count": 23,
   "metadata": {},
   "outputs": [],
   "source": [
    "colt = 'name qtrly shares amount net publish_date xdate paiddate q_eps aq_eps'.split()"
   ]
  },
  {
   "cell_type": "code",
   "execution_count": 24,
   "metadata": {},
   "outputs": [
    {
     "data": {
      "text/html": [
       "<div>\n",
       "<style scoped>\n",
       "    .dataframe tbody tr th:only-of-type {\n",
       "        vertical-align: middle;\n",
       "    }\n",
       "\n",
       "    .dataframe tbody tr th {\n",
       "        vertical-align: top;\n",
       "    }\n",
       "\n",
       "    .dataframe thead th {\n",
       "        text-align: right;\n",
       "    }\n",
       "</style>\n",
       "<table border=\"1\" class=\"dataframe\">\n",
       "  <thead>\n",
       "    <tr style=\"text-align: right;\">\n",
       "      <th></th>\n",
       "      <th>name</th>\n",
       "      <th>qtrly</th>\n",
       "      <th>shares</th>\n",
       "      <th>amount</th>\n",
       "      <th>net</th>\n",
       "      <th>publish_date</th>\n",
       "      <th>xdate</th>\n",
       "      <th>paiddate</th>\n",
       "      <th>q_eps</th>\n",
       "      <th>aq_eps</th>\n",
       "    </tr>\n",
       "  </thead>\n",
       "  <tbody>\n",
       "    <tr>\n",
       "      <th>5</th>\n",
       "      <td>TFFIF</td>\n",
       "      <td>0.1057</td>\n",
       "      <td>20000</td>\n",
       "      <td>2114.0</td>\n",
       "      <td>1902.60</td>\n",
       "      <td>2022-08-11</td>\n",
       "      <td>2023-12-12</td>\n",
       "      <td>2023-12-28</td>\n",
       "      <td>0.0922</td>\n",
       "      <td>0.2671</td>\n",
       "    </tr>\n",
       "    <tr>\n",
       "      <th>3</th>\n",
       "      <td>GVREIT</td>\n",
       "      <td>0.1911</td>\n",
       "      <td>60000</td>\n",
       "      <td>11466.0</td>\n",
       "      <td>10319.40</td>\n",
       "      <td>2022-08-15</td>\n",
       "      <td>2024-08-28</td>\n",
       "      <td>2024-09-12</td>\n",
       "      <td>0.2416</td>\n",
       "      <td>0.7164</td>\n",
       "    </tr>\n",
       "    <tr>\n",
       "      <th>1</th>\n",
       "      <td>CPNREIT</td>\n",
       "      <td>0.2570</td>\n",
       "      <td>55000</td>\n",
       "      <td>14135.0</td>\n",
       "      <td>12721.50</td>\n",
       "      <td>2022-11-07</td>\n",
       "      <td>2024-08-26</td>\n",
       "      <td>2024-09-11</td>\n",
       "      <td>0.2618</td>\n",
       "      <td>0.7765</td>\n",
       "    </tr>\n",
       "    <tr>\n",
       "      <th>6</th>\n",
       "      <td>WHAIR</td>\n",
       "      <td>0.1369</td>\n",
       "      <td>50000</td>\n",
       "      <td>6845.0</td>\n",
       "      <td>6160.50</td>\n",
       "      <td>2022-11-08</td>\n",
       "      <td>2024-08-23</td>\n",
       "      <td>2024-09-24</td>\n",
       "      <td>0.1537</td>\n",
       "      <td>0.4642</td>\n",
       "    </tr>\n",
       "    <tr>\n",
       "      <th>4</th>\n",
       "      <td>IVL</td>\n",
       "      <td>0.2500</td>\n",
       "      <td>7200</td>\n",
       "      <td>1800.0</td>\n",
       "      <td>1620.00</td>\n",
       "      <td>2022-11-10</td>\n",
       "      <td>2024-08-27</td>\n",
       "      <td>2024-09-12</td>\n",
       "      <td>1.4200</td>\n",
       "      <td>7.4700</td>\n",
       "    </tr>\n",
       "    <tr>\n",
       "      <th>2</th>\n",
       "      <td>DIF</td>\n",
       "      <td>0.2264</td>\n",
       "      <td>30000</td>\n",
       "      <td>6792.0</td>\n",
       "      <td>6112.80</td>\n",
       "      <td>2022-11-11</td>\n",
       "      <td>2024-08-13</td>\n",
       "      <td>2024-09-05</td>\n",
       "      <td>0.2694</td>\n",
       "      <td>0.8123</td>\n",
       "    </tr>\n",
       "    <tr>\n",
       "      <th>0</th>\n",
       "      <td>AIMIRT</td>\n",
       "      <td>0.2230</td>\n",
       "      <td>12500</td>\n",
       "      <td>2787.5</td>\n",
       "      <td>2508.75</td>\n",
       "      <td>2022-11-14</td>\n",
       "      <td>2024-08-26</td>\n",
       "      <td>2024-09-12</td>\n",
       "      <td>0.4277</td>\n",
       "      <td>0.9044</td>\n",
       "    </tr>\n",
       "    <tr>\n",
       "      <th>7</th>\n",
       "      <td>WHART</td>\n",
       "      <td>0.2590</td>\n",
       "      <td>20000</td>\n",
       "      <td>5180.0</td>\n",
       "      <td>4662.00</td>\n",
       "      <td>2022-11-14</td>\n",
       "      <td>2024-08-20</td>\n",
       "      <td>2024-09-06</td>\n",
       "      <td>0.2053</td>\n",
       "      <td>0.4441</td>\n",
       "    </tr>\n",
       "  </tbody>\n",
       "</table>\n",
       "</div>"
      ],
      "text/plain": [
       "      name   qtrly  shares   amount       net publish_date      xdate  \\\n",
       "5    TFFIF  0.1057   20000   2114.0   1902.60   2022-08-11 2023-12-12   \n",
       "3   GVREIT  0.1911   60000  11466.0  10319.40   2022-08-15 2024-08-28   \n",
       "1  CPNREIT  0.2570   55000  14135.0  12721.50   2022-11-07 2024-08-26   \n",
       "6    WHAIR  0.1369   50000   6845.0   6160.50   2022-11-08 2024-08-23   \n",
       "4      IVL  0.2500    7200   1800.0   1620.00   2022-11-10 2024-08-27   \n",
       "2      DIF  0.2264   30000   6792.0   6112.80   2022-11-11 2024-08-13   \n",
       "0   AIMIRT  0.2230   12500   2787.5   2508.75   2022-11-14 2024-08-26   \n",
       "7    WHART  0.2590   20000   5180.0   4662.00   2022-11-14 2024-08-20   \n",
       "\n",
       "    paiddate   q_eps  aq_eps  \n",
       "5 2023-12-28  0.0922  0.2671  \n",
       "3 2024-09-12  0.2416  0.7164  \n",
       "1 2024-09-11  0.2618  0.7765  \n",
       "6 2024-09-24  0.1537  0.4642  \n",
       "4 2024-09-12  1.4200  7.4700  \n",
       "2 2024-09-05  0.2694  0.8123  \n",
       "0 2024-09-12  0.4277  0.9044  \n",
       "7 2024-09-06  0.2053  0.4441  "
      ]
     },
     "execution_count": 24,
     "metadata": {},
     "output_type": "execute_result"
    }
   ],
   "source": [
    "df_merge[colt].sort_values('publish_date',ascending=True)"
   ]
  },
  {
   "cell_type": "code",
   "execution_count": 25,
   "metadata": {},
   "outputs": [],
   "source": [
    "file_name = '15-div-23q3.xlsx'\n",
    "data_file = data_path + file_name\n",
    "output_file = csv_path + file_name\n",
    "box_file = box_path + file_name\n",
    "one_file = one_path + file_name\n",
    "xsl_file = xsl_path + file_name\n",
    "\n",
    "df_merge[colt].sort_values(['name'],ascending=[True]).to_excel(output_file, index=False)\n",
    "df_merge[colt].sort_values(['name'],ascending=[True]).to_excel(data_file, index=False)\n",
    "df_merge[colt].sort_values(['name'],ascending=[True]).to_excel(box_file, index=False)\n",
    "df_merge[colt].sort_values(['name'],ascending=[True]).to_excel(one_file, index=False)\n",
    "df_merge[colt].sort_values(['name'],ascending=[True]).to_excel(xsl_file, index=False)"
   ]
  },
  {
   "cell_type": "code",
   "execution_count": null,
   "metadata": {},
   "outputs": [],
   "source": [
    "const.commit()\n",
    "const.close()"
   ]
  }
 ],
 "metadata": {
  "anaconda-cloud": {},
  "kernelspec": {
   "display_name": "Python 3 (ipykernel)",
   "language": "python",
   "name": "python3"
  },
  "language_info": {
   "codemirror_mode": {
    "name": "ipython",
    "version": 3
   },
   "file_extension": ".py",
   "mimetype": "text/x-python",
   "name": "python",
   "nbconvert_exporter": "python",
   "pygments_lexer": "ipython3",
   "version": "3.12.3"
  }
 },
 "nbformat": 4,
 "nbformat_minor": 4
}
