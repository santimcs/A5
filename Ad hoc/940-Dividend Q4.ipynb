{
 "cells": [
  {
   "cell_type": "code",
   "execution_count": 1,
   "metadata": {},
   "outputs": [
    {
     "name": "stdout",
     "output_type": "stream",
     "text": [
      "2025-03-03 2025-03-02\n"
     ]
    }
   ],
   "source": [
    "import os\n",
    "import pandas as pd\n",
    "from sqlalchemy import create_engine, text\n",
    "from datetime import date, timedelta\n",
    "from pandas.tseries.offsets import BDay\n",
    "import calendar\n",
    "\n",
    "engine = create_engine(\"mysql+pymysql://root:@localhost:3306/stock\")\n",
    "const = engine.connect()\n",
    "\n",
    "today = date.today()\n",
    "yesterday = today - timedelta(days=1)\n",
    "print(today, yesterday)"
   ]
  },
  {
   "cell_type": "code",
   "execution_count": 3,
   "metadata": {},
   "outputs": [
    {
     "name": "stdout",
     "output_type": "stream",
     "text": [
      "2025-03-03 2025-02-28\n"
     ]
    }
   ],
   "source": [
    "num_business_days = BDay(1)\n",
    "yesterday = today - num_business_days\n",
    "yesterday = yesterday.date()\n",
    "print(today, yesterday)"
   ]
  },
  {
   "cell_type": "code",
   "execution_count": 5,
   "metadata": {},
   "outputs": [],
   "source": [
    "format_dict = {    \n",
    "    'shares':'{:,}',    \n",
    "    'q4':'{:.4f}','q3':'{:.4f}','q2':'{:.4f}','q1':'{:.4f}','dividend':'{:.4f}','qtrly':'{:.4f}',\n",
    "    'price':'{:.2f}',    \n",
    "    'amount':'{:,.2f}','net':'{:,.2f}','cost_amt':'{:,.2f}',\n",
    "    'yield':'{:,.2f}%','pct':'{:,.2f}%','amt_yearly':'{:,.2f}','yearly':'{:,.2f}%',\n",
    "    'xdate':'{:%Y-%m-%d}','paiddate':'{:%Y-%m-%d}',\n",
    "              }"
   ]
  },
  {
   "cell_type": "code",
   "execution_count": 7,
   "metadata": {},
   "outputs": [],
   "source": [
    "# Get the user's home directory\n",
    "user_path = os.path.expanduser('~')\n",
    "# Get the current working directory\n",
    "current_path = os.getcwd()\n",
    "# Derive the base directory (base_dir) by removing the last folder ('Daily')\n",
    "base_path = os.path.dirname(current_path)\n",
    "#C:\\Users\\PC1\\OneDrive\\A5\\Data\n",
    "dat_path = os.path.join(base_path, \"Data\")\n",
    "#C:\\Users\\PC1\\OneDrive\\Imports\\santisoontarinka@gmail.com - Google Drive\\Data>\n",
    "god_path = os.path.join(user_path, \"OneDrive\",\"Imports\",\"santisoontarinka@gmail.com - Google Drive\",\"Data\")\n",
    "#C:\\Users\\PC1\\iCloudDrive\\data\n",
    "icd_path = os.path.join(user_path, \"iCloudDrive\", \"Data\")\n",
    "#C:\\Users\\PC1\\OneDrive\\Documents\\obsidian-git-sync\\Data\n",
    "osd_path = os.path.join(user_path, \"OneDrive\",\"Documents\",\"obsidian-git-sync\",\"Data\")\n",
    "#C:\\Users\\PC1\\OneDrive\\A5\\Excel\n",
    "xsl_path = os.path.join(base_path, \"Excel\")"
   ]
  },
  {
   "cell_type": "code",
   "execution_count": 9,
   "metadata": {},
   "outputs": [
    {
     "name": "stdout",
     "output_type": "stream",
     "text": [
      "User path: C:\\Users\\PC1\n",
      "Current path: C:\\Users\\PC1\\OneDrive\\A5\\Ad hoc\n",
      "Base path: C:\\Users\\PC1\\OneDrive\\A5\n",
      "Data path (dat_path): C:\\Users\\PC1\\OneDrive\\A5\\Data\n",
      "Excel path (xsl_path): C:\\Users\\PC1\\OneDrive\\A5\\Excel\n",
      "Google Drive path (god_path): C:\\Users\\PC1\\OneDrive\\Imports\\santisoontarinka@gmail.com - Google Drive\\Data\n",
      "iCloudDrive path (icd_path): C:\\Users\\PC1\\iCloudDrive\\Data\n",
      "Obsidian path (osd_path): C:\\Users\\PC1\\OneDrive\\Documents\\obsidian-git-sync\\Data\n"
     ]
    }
   ],
   "source": [
    "print(\"User path:\", user_path)\n",
    "print(f\"Current path: {current_path}\")\n",
    "print(f\"Base path: {base_path}\")\n",
    "print(f\"Data path (dat_path): {dat_path}\") \n",
    "print(f\"Excel path (xsl_path): {xsl_path}\") \n",
    "print(f\"Google Drive path (god_path): {god_path}\")\n",
    "print(f\"iCloudDrive path (icd_path): {icd_path}\") \n",
    "print(f\"Obsidian path (osd_path): {osd_path}\")"
   ]
  },
  {
   "cell_type": "markdown",
   "metadata": {},
   "source": [
    "### New dividend stock"
   ]
  },
  {
   "cell_type": "code",
   "execution_count": 6,
   "metadata": {},
   "outputs": [
    {
     "data": {
      "text/html": [
       "<style type=\"text/css\">\n",
       "</style>\n",
       "<table id=\"T_afe3b_\">\n",
       "  <thead>\n",
       "    <tr>\n",
       "      <th class=\"blank level0\" >&nbsp;</th>\n",
       "      <th class=\"col_heading level0 col0\" >name</th>\n",
       "      <th class=\"col_heading level0 col1\" >q4</th>\n",
       "      <th class=\"col_heading level0 col2\" >q3</th>\n",
       "      <th class=\"col_heading level0 col3\" >q2</th>\n",
       "      <th class=\"col_heading level0 col4\" >q1</th>\n",
       "      <th class=\"col_heading level0 col5\" >dividend</th>\n",
       "      <th class=\"col_heading level0 col6\" >shares</th>\n",
       "      <th class=\"col_heading level0 col7\" >xdate</th>\n",
       "      <th class=\"col_heading level0 col8\" >paiddate</th>\n",
       "      <th class=\"col_heading level0 col9\" >kind</th>\n",
       "      <th class=\"col_heading level0 col10\" >actual</th>\n",
       "    </tr>\n",
       "  </thead>\n",
       "  <tbody>\n",
       "  </tbody>\n",
       "</table>\n"
      ],
      "text/plain": [
       "<pandas.io.formats.style.Styler at 0x1a1eca871c0>"
      ]
     },
     "execution_count": 6,
     "metadata": {},
     "output_type": "execute_result"
    }
   ],
   "source": [
    "name = '3BBIF'\n",
    "sql = \"\"\"\n",
    "SELECT * \n",
    "FROM DIVIDEND\n",
    "WHERE name = '%s'\n",
    "\"\"\"\n",
    "sql = sql % name\n",
    "dividend = pd.read_sql(sql, const)\n",
    "dividend.drop(['PRICE', 'PERCENT'], axis=1, inplace=True)\n",
    "dividend.columns = dividend.columns.str.lower()\n",
    "dividend['shares'] = dividend['shares'].astype('int64')\n",
    "dividend['xdate'] = pd.to_datetime(dividend['xdate'])\n",
    "dividend['paiddate'] = pd.to_datetime(dividend['paiddate'])\n",
    "dividend.style.format(format_dict)"
   ]
  },
  {
   "cell_type": "code",
   "execution_count": 7,
   "metadata": {},
   "outputs": [
    {
     "data": {
      "text/plain": [
       "1"
      ]
     },
     "execution_count": 7,
     "metadata": {},
     "output_type": "execute_result"
    }
   ],
   "source": [
    "sqlIns = \"\"\"\n",
    "INSERT INTO dividend\n",
    "VALUES('3BBIF',.16,0,0,0,.16,0,0,130000,'2024-02-21','2024-03-18','',1)\n",
    "\"\"\"\n",
    "rp = const.execute(sqlIns)\n",
    "rp.rowcount"
   ]
  },
  {
   "cell_type": "markdown",
   "metadata": {},
   "source": [
    "### Start of Update dividend"
   ]
  },
  {
   "cell_type": "code",
   "execution_count": 11,
   "metadata": {},
   "outputs": [],
   "source": [
    "def update_dividend1(q4, XDATE, PAIDDATE, actual, name):\n",
    "    # Use parameterized query to avoid SQL injection\n",
    "    sql = text(\"\"\"\n",
    "        UPDATE dividend \n",
    "        SET q4 = :q4, \n",
    "            dividend = q1 + q2 + q3 + q4, \n",
    "            XDATE = :XDATE, \n",
    "            PAIDDATE = :PAIDDATE, \n",
    "            actual = :actual \n",
    "        WHERE name = :name\n",
    "    \"\"\")\n",
    "    \n",
    "    # Execute the query with parameters\n",
    "    rp = const.execute(sql, {\n",
    "        'q4': q4,\n",
    "        'XDATE': XDATE,\n",
    "        'PAIDDATE': PAIDDATE,\n",
    "        'actual': actual,\n",
    "        'name': name\n",
    "    })\n",
    "    \n",
    "    return f\"Records updated = {rp.rowcount}\""
   ]
  },
  {
   "cell_type": "code",
   "execution_count": 13,
   "metadata": {
    "scrolled": true
   },
   "outputs": [
    {
     "data": {
      "text/html": [
       "<style type=\"text/css\">\n",
       "</style>\n",
       "<table id=\"T_36d0e\">\n",
       "  <thead>\n",
       "    <tr>\n",
       "      <th class=\"blank level0\" >&nbsp;</th>\n",
       "      <th id=\"T_36d0e_level0_col0\" class=\"col_heading level0 col0\" >name</th>\n",
       "      <th id=\"T_36d0e_level0_col1\" class=\"col_heading level0 col1\" >q4</th>\n",
       "      <th id=\"T_36d0e_level0_col2\" class=\"col_heading level0 col2\" >q3</th>\n",
       "      <th id=\"T_36d0e_level0_col3\" class=\"col_heading level0 col3\" >q2</th>\n",
       "      <th id=\"T_36d0e_level0_col4\" class=\"col_heading level0 col4\" >q1</th>\n",
       "      <th id=\"T_36d0e_level0_col5\" class=\"col_heading level0 col5\" >dividend</th>\n",
       "      <th id=\"T_36d0e_level0_col6\" class=\"col_heading level0 col6\" >shares</th>\n",
       "      <th id=\"T_36d0e_level0_col7\" class=\"col_heading level0 col7\" >xdate</th>\n",
       "      <th id=\"T_36d0e_level0_col8\" class=\"col_heading level0 col8\" >paiddate</th>\n",
       "      <th id=\"T_36d0e_level0_col9\" class=\"col_heading level0 col9\" >kind</th>\n",
       "      <th id=\"T_36d0e_level0_col10\" class=\"col_heading level0 col10\" >actual</th>\n",
       "    </tr>\n",
       "  </thead>\n",
       "  <tbody>\n",
       "    <tr>\n",
       "      <th id=\"T_36d0e_level0_row0\" class=\"row_heading level0 row0\" >0</th>\n",
       "      <td id=\"T_36d0e_row0_col0\" class=\"data row0 col0\" >SENA</td>\n",
       "      <td id=\"T_36d0e_row0_col1\" class=\"data row0 col1\" >0.2342</td>\n",
       "      <td id=\"T_36d0e_row0_col2\" class=\"data row0 col2\" >0.0000</td>\n",
       "      <td id=\"T_36d0e_row0_col3\" class=\"data row0 col3\" >0.0000</td>\n",
       "      <td id=\"T_36d0e_row0_col4\" class=\"data row0 col4\" >0.0000</td>\n",
       "      <td id=\"T_36d0e_row0_col5\" class=\"data row0 col5\" >0.2342</td>\n",
       "      <td id=\"T_36d0e_row0_col6\" class=\"data row0 col6\" >105,000</td>\n",
       "      <td id=\"T_36d0e_row0_col7\" class=\"data row0 col7\" >2024-05-10</td>\n",
       "      <td id=\"T_36d0e_row0_col8\" class=\"data row0 col8\" >2024-05-24</td>\n",
       "      <td id=\"T_36d0e_row0_col9\" class=\"data row0 col9\" ></td>\n",
       "      <td id=\"T_36d0e_row0_col10\" class=\"data row0 col10\" >0</td>\n",
       "    </tr>\n",
       "  </tbody>\n",
       "</table>\n"
      ],
      "text/plain": [
       "<pandas.io.formats.style.Styler at 0x1d4b5b1dbe0>"
      ]
     },
     "execution_count": 13,
     "metadata": {},
     "output_type": "execute_result"
    }
   ],
   "source": [
    "name = 'SENA'\n",
    "sql = \"\"\"\n",
    "SELECT * FROM DIVIDEND WHERE name = '%s'\"\"\"\n",
    "sql = sql % name\n",
    "dividend = pd.read_sql(sql, const)\n",
    "dividend.drop(['PRICE', 'PERCENT'], axis=1, inplace=True)\n",
    "dividend.columns = dividend.columns.str.lower()\n",
    "dividend['shares'] = dividend['shares'].astype('int64')\n",
    "dividend['xdate'] = pd.to_datetime(dividend['xdate'])\n",
    "dividend['paiddate'] = pd.to_datetime(dividend['paiddate'])\n",
    "dividend.style.format(format_dict)"
   ]
  },
  {
   "cell_type": "code",
   "execution_count": 15,
   "metadata": {},
   "outputs": [
    {
     "data": {
      "text/plain": [
       "'Records updated = 1'"
      ]
     },
     "execution_count": 15,
     "metadata": {},
     "output_type": "execute_result"
    }
   ],
   "source": [
    "q4 = 0.111238\n",
    "XDATE = '2025-05-09'\n",
    "PAIDDATE = '2025-05-23'\n",
    "actual = 1\n",
    "\n",
    "update_dividend1(q4,XDATE,PAIDDATE,actual,name)"
   ]
  },
  {
   "cell_type": "code",
   "execution_count": 17,
   "metadata": {},
   "outputs": [
    {
     "data": {
      "text/html": [
       "<style type=\"text/css\">\n",
       "</style>\n",
       "<table id=\"T_294c5\">\n",
       "  <thead>\n",
       "    <tr>\n",
       "      <th class=\"blank level0\" >&nbsp;</th>\n",
       "      <th id=\"T_294c5_level0_col0\" class=\"col_heading level0 col0\" >name</th>\n",
       "      <th id=\"T_294c5_level0_col1\" class=\"col_heading level0 col1\" >q4</th>\n",
       "      <th id=\"T_294c5_level0_col2\" class=\"col_heading level0 col2\" >q3</th>\n",
       "      <th id=\"T_294c5_level0_col3\" class=\"col_heading level0 col3\" >q2</th>\n",
       "      <th id=\"T_294c5_level0_col4\" class=\"col_heading level0 col4\" >q1</th>\n",
       "      <th id=\"T_294c5_level0_col5\" class=\"col_heading level0 col5\" >dividend</th>\n",
       "      <th id=\"T_294c5_level0_col6\" class=\"col_heading level0 col6\" >shares</th>\n",
       "      <th id=\"T_294c5_level0_col7\" class=\"col_heading level0 col7\" >xdate</th>\n",
       "      <th id=\"T_294c5_level0_col8\" class=\"col_heading level0 col8\" >paiddate</th>\n",
       "      <th id=\"T_294c5_level0_col9\" class=\"col_heading level0 col9\" >kind</th>\n",
       "      <th id=\"T_294c5_level0_col10\" class=\"col_heading level0 col10\" >actual</th>\n",
       "    </tr>\n",
       "  </thead>\n",
       "  <tbody>\n",
       "    <tr>\n",
       "      <th id=\"T_294c5_level0_row0\" class=\"row_heading level0 row0\" >0</th>\n",
       "      <td id=\"T_294c5_row0_col0\" class=\"data row0 col0\" >SENA</td>\n",
       "      <td id=\"T_294c5_row0_col1\" class=\"data row0 col1\" >0.1112</td>\n",
       "      <td id=\"T_294c5_row0_col2\" class=\"data row0 col2\" >0.0000</td>\n",
       "      <td id=\"T_294c5_row0_col3\" class=\"data row0 col3\" >0.0000</td>\n",
       "      <td id=\"T_294c5_row0_col4\" class=\"data row0 col4\" >0.0000</td>\n",
       "      <td id=\"T_294c5_row0_col5\" class=\"data row0 col5\" >0.1112</td>\n",
       "      <td id=\"T_294c5_row0_col6\" class=\"data row0 col6\" >105,000</td>\n",
       "      <td id=\"T_294c5_row0_col7\" class=\"data row0 col7\" >2025-05-09</td>\n",
       "      <td id=\"T_294c5_row0_col8\" class=\"data row0 col8\" >2025-05-23</td>\n",
       "      <td id=\"T_294c5_row0_col9\" class=\"data row0 col9\" ></td>\n",
       "      <td id=\"T_294c5_row0_col10\" class=\"data row0 col10\" >1</td>\n",
       "    </tr>\n",
       "  </tbody>\n",
       "</table>\n"
      ],
      "text/plain": [
       "<pandas.io.formats.style.Styler at 0x1d4b6a577d0>"
      ]
     },
     "execution_count": 17,
     "metadata": {},
     "output_type": "execute_result"
    }
   ],
   "source": [
    "sql = \"\"\"\n",
    "SELECT * FROM DIVIDEND WHERE name = '%s'\"\"\"\n",
    "sql = sql % name\n",
    "dividend = pd.read_sql(sql, const)\n",
    "dividend.drop(['PRICE', 'PERCENT'], axis=1, inplace=True)\n",
    "dividend.columns = dividend.columns.str.lower()\n",
    "dividend['shares'] = dividend['shares'].astype('int64')\n",
    "dividend['xdate'] = pd.to_datetime(dividend['xdate'])\n",
    "dividend['paiddate'] = pd.to_datetime(dividend['paiddate'])\n",
    "dividend.style.format(format_dict)"
   ]
  },
  {
   "cell_type": "code",
   "execution_count": 47,
   "metadata": {},
   "outputs": [],
   "source": [
    "def update_dividend2(shares, q4, actual, name):\n",
    "    # Use parameterized query to avoid SQL injection\n",
    "    sql = text(\"\"\"\n",
    "        UPDATE dividend \n",
    "        SET q4 = :q4, \n",
    "            dividend = q1 + q2 + q3 + q4, \n",
    "            shares = :shares, \n",
    "            actual = :actual \n",
    "        WHERE name = :name\n",
    "    \"\"\")\n",
    "    \n",
    "    # Execute the query with parameters\n",
    "    rp = const.execute(sql, {\n",
    "        'q4': q4,\n",
    "        'shares': shares,\n",
    "        'actual': actual,\n",
    "        'name': name\n",
    "    })\n",
    "    \n",
    "    return f\"Records updated = {rp.rowcount}\""
   ]
  },
  {
   "cell_type": "code",
   "execution_count": 49,
   "metadata": {},
   "outputs": [
    {
     "data": {
      "text/html": [
       "<style type=\"text/css\">\n",
       "</style>\n",
       "<table id=\"T_fb76d\">\n",
       "  <thead>\n",
       "    <tr>\n",
       "      <th class=\"blank level0\" >&nbsp;</th>\n",
       "      <th id=\"T_fb76d_level0_col0\" class=\"col_heading level0 col0\" >name</th>\n",
       "      <th id=\"T_fb76d_level0_col1\" class=\"col_heading level0 col1\" >q4</th>\n",
       "      <th id=\"T_fb76d_level0_col2\" class=\"col_heading level0 col2\" >q3</th>\n",
       "      <th id=\"T_fb76d_level0_col3\" class=\"col_heading level0 col3\" >q2</th>\n",
       "      <th id=\"T_fb76d_level0_col4\" class=\"col_heading level0 col4\" >q1</th>\n",
       "      <th id=\"T_fb76d_level0_col5\" class=\"col_heading level0 col5\" >dividend</th>\n",
       "      <th id=\"T_fb76d_level0_col6\" class=\"col_heading level0 col6\" >shares</th>\n",
       "      <th id=\"T_fb76d_level0_col7\" class=\"col_heading level0 col7\" >xdate</th>\n",
       "      <th id=\"T_fb76d_level0_col8\" class=\"col_heading level0 col8\" >paiddate</th>\n",
       "      <th id=\"T_fb76d_level0_col9\" class=\"col_heading level0 col9\" >kind</th>\n",
       "      <th id=\"T_fb76d_level0_col10\" class=\"col_heading level0 col10\" >actual</th>\n",
       "    </tr>\n",
       "  </thead>\n",
       "  <tbody>\n",
       "    <tr>\n",
       "      <th id=\"T_fb76d_level0_row0\" class=\"row_heading level0 row0\" >0</th>\n",
       "      <td id=\"T_fb76d_row0_col0\" class=\"data row0 col0\" >SCC</td>\n",
       "      <td id=\"T_fb76d_row0_col1\" class=\"data row0 col1\" >2.5000</td>\n",
       "      <td id=\"T_fb76d_row0_col2\" class=\"data row0 col2\" >0.0000</td>\n",
       "      <td id=\"T_fb76d_row0_col3\" class=\"data row0 col3\" >2.5000</td>\n",
       "      <td id=\"T_fb76d_row0_col4\" class=\"data row0 col4\" >0.0000</td>\n",
       "      <td id=\"T_fb76d_row0_col5\" class=\"data row0 col5\" >5.0000</td>\n",
       "      <td id=\"T_fb76d_row0_col6\" class=\"data row0 col6\" >600</td>\n",
       "      <td id=\"T_fb76d_row0_col7\" class=\"data row0 col7\" >2025-04-02</td>\n",
       "      <td id=\"T_fb76d_row0_col8\" class=\"data row0 col8\" >2025-04-22</td>\n",
       "      <td id=\"T_fb76d_row0_col9\" class=\"data row0 col9\" ></td>\n",
       "      <td id=\"T_fb76d_row0_col10\" class=\"data row0 col10\" >1</td>\n",
       "    </tr>\n",
       "  </tbody>\n",
       "</table>\n"
      ],
      "text/plain": [
       "<pandas.io.formats.style.Styler at 0x1d8568b6de0>"
      ]
     },
     "execution_count": 49,
     "metadata": {},
     "output_type": "execute_result"
    }
   ],
   "source": [
    "name = 'SCC'\n",
    "sql = \"\"\"\n",
    "SELECT * \n",
    "FROM DIVIDEND\n",
    "WHERE name = '%s'\n",
    "\"\"\"\n",
    "sql = sql % name\n",
    "dividend = pd.read_sql(sql, const)\n",
    "dividend.drop(['PRICE', 'PERCENT'], axis=1, inplace=True)\n",
    "dividend.columns = dividend.columns.str.lower()\n",
    "dividend['shares'] = dividend['shares'].astype('int64')\n",
    "dividend['xdate'] = pd.to_datetime(dividend['xdate'])\n",
    "dividend['paiddate'] = pd.to_datetime(dividend['paiddate'])\n",
    "dividend.style.format(format_dict)"
   ]
  },
  {
   "cell_type": "code",
   "execution_count": 51,
   "metadata": {},
   "outputs": [],
   "source": [
    "shares = 600\n",
    "q4 = 2.50\n",
    "actual = 1"
   ]
  },
  {
   "cell_type": "code",
   "execution_count": 53,
   "metadata": {},
   "outputs": [
    {
     "data": {
      "text/plain": [
       "'Records updated = 1'"
      ]
     },
     "execution_count": 53,
     "metadata": {},
     "output_type": "execute_result"
    }
   ],
   "source": [
    "update_dividend2(shares,q4,actual,name)"
   ]
  },
  {
   "cell_type": "markdown",
   "metadata": {},
   "source": [
    "### Toggle actual status"
   ]
  },
  {
   "cell_type": "code",
   "execution_count": null,
   "metadata": {},
   "outputs": [],
   "source": [
    "name = 'SENA'\n",
    "actual = 0\n",
    "sqlUpd = \"UPDATE dividend SET actual = %s WHERE name = '%s'\"\n",
    "sqlUpd = sqlUpd % (actual, name)\n",
    "rp = const.execute(sqlUpd)\n",
    "rp.rowcount"
   ]
  },
  {
   "cell_type": "markdown",
   "metadata": {},
   "source": [
    "### Delete dividend record"
   ]
  },
  {
   "cell_type": "code",
   "execution_count": 9,
   "metadata": {},
   "outputs": [
    {
     "data": {
      "text/plain": [
       "1"
      ]
     },
     "execution_count": 9,
     "metadata": {},
     "output_type": "execute_result"
    }
   ],
   "source": [
    "sqlDel = '''\n",
    "DELETE FROM dividend\n",
    "WHERE name IN (\"BBL\")\n",
    "'''\n",
    "rp = const.execute(sqlDel)\n",
    "rp.rowcount"
   ]
  },
  {
   "cell_type": "markdown",
   "metadata": {},
   "source": [
    "### Start of output to cloud"
   ]
  },
  {
   "cell_type": "code",
   "execution_count": 45,
   "metadata": {
    "scrolled": true
   },
   "outputs": [
    {
     "name": "stdout",
     "output_type": "stream",
     "text": [
      "\n",
      "SELECT Y.NAME AS name,  Q4 AS qtrly, SHARES, XDATE, PAIDDATE, \n",
      "P.price AS price, Y.DIVIDEND AS yearly, ACTUAL, B.price * B.volbuy AS cost_amt\n",
      "FROM dividend AS Y, price AS P, buy AS B\n",
      "WHERE Y.name = P.name \n",
      "AND Y.name = B.name \n",
      "AND (Q4 > 0 OR Y.name IN (\"GVREIT\",\"TFFIF\"))\n",
      "AND P.date = '2025-02-28'\n",
      "ORDER BY name\n",
      "\n"
     ]
    }
   ],
   "source": [
    "sql = \"\"\"\n",
    "SELECT Y.NAME AS name,  Q4 AS qtrly, SHARES, XDATE, PAIDDATE, \n",
    "P.price AS price, Y.DIVIDEND AS yearly, ACTUAL, B.price * B.volbuy AS cost_amt\n",
    "FROM dividend AS Y, price AS P, buy AS B\n",
    "WHERE Y.name = P.name \n",
    "AND Y.name = B.name \n",
    "AND (Q4 > 0 OR Y.name IN (\"GVREIT\",\"TFFIF\"))\n",
    "AND P.date = '%s'\n",
    "ORDER BY name\n",
    "\"\"\"\n",
    "sql = sql % today \n",
    "print(sql)"
   ]
  },
  {
   "cell_type": "code",
   "execution_count": 47,
   "metadata": {},
   "outputs": [],
   "source": [
    "cols = 'name qtrly shares amount net xdate paiddate cost_amt pct amt_yearly yearly actual'.split()"
   ]
  },
  {
   "cell_type": "code",
   "execution_count": 49,
   "metadata": {},
   "outputs": [
    {
     "data": {
      "text/html": [
       "<style type=\"text/css\">\n",
       "</style>\n",
       "<table id=\"T_74843\">\n",
       "  <thead>\n",
       "    <tr>\n",
       "      <th class=\"blank level0\" >&nbsp;</th>\n",
       "      <th id=\"T_74843_level0_col0\" class=\"col_heading level0 col0\" >name</th>\n",
       "      <th id=\"T_74843_level0_col1\" class=\"col_heading level0 col1\" >qtrly</th>\n",
       "      <th id=\"T_74843_level0_col2\" class=\"col_heading level0 col2\" >shares</th>\n",
       "      <th id=\"T_74843_level0_col3\" class=\"col_heading level0 col3\" >amount</th>\n",
       "      <th id=\"T_74843_level0_col4\" class=\"col_heading level0 col4\" >net</th>\n",
       "      <th id=\"T_74843_level0_col5\" class=\"col_heading level0 col5\" >xdate</th>\n",
       "      <th id=\"T_74843_level0_col6\" class=\"col_heading level0 col6\" >paiddate</th>\n",
       "      <th id=\"T_74843_level0_col7\" class=\"col_heading level0 col7\" >cost_amt</th>\n",
       "      <th id=\"T_74843_level0_col8\" class=\"col_heading level0 col8\" >pct</th>\n",
       "      <th id=\"T_74843_level0_col9\" class=\"col_heading level0 col9\" >amt_yearly</th>\n",
       "      <th id=\"T_74843_level0_col10\" class=\"col_heading level0 col10\" >yearly</th>\n",
       "      <th id=\"T_74843_level0_col11\" class=\"col_heading level0 col11\" >actual</th>\n",
       "    </tr>\n",
       "  </thead>\n",
       "  <tbody>\n",
       "    <tr>\n",
       "      <th id=\"T_74843_level0_row0\" class=\"row_heading level0 row0\" >0</th>\n",
       "      <td id=\"T_74843_row0_col0\" class=\"data row0 col0\" >AH</td>\n",
       "      <td id=\"T_74843_row0_col1\" class=\"data row0 col1\" >0.4800</td>\n",
       "      <td id=\"T_74843_row0_col2\" class=\"data row0 col2\" >1,200</td>\n",
       "      <td id=\"T_74843_row0_col3\" class=\"data row0 col3\" >576.00</td>\n",
       "      <td id=\"T_74843_row0_col4\" class=\"data row0 col4\" >518.40</td>\n",
       "      <td id=\"T_74843_row0_col5\" class=\"data row0 col5\" >2025-03-13</td>\n",
       "      <td id=\"T_74843_row0_col6\" class=\"data row0 col6\" >2025-05-23</td>\n",
       "      <td id=\"T_74843_row0_col7\" class=\"data row0 col7\" >44,400.00</td>\n",
       "      <td id=\"T_74843_row0_col8\" class=\"data row0 col8\" >1.17%</td>\n",
       "      <td id=\"T_74843_row0_col9\" class=\"data row0 col9\" >936.00</td>\n",
       "      <td id=\"T_74843_row0_col10\" class=\"data row0 col10\" >2.11%</td>\n",
       "      <td id=\"T_74843_row0_col11\" class=\"data row0 col11\" >1</td>\n",
       "    </tr>\n",
       "    <tr>\n",
       "      <th id=\"T_74843_level0_row1\" class=\"row_heading level0 row1\" >1</th>\n",
       "      <td id=\"T_74843_row1_col0\" class=\"data row1 col0\" >AIMIRT</td>\n",
       "      <td id=\"T_74843_row1_col1\" class=\"data row1 col1\" >0.2150</td>\n",
       "      <td id=\"T_74843_row1_col2\" class=\"data row1 col2\" >12,500</td>\n",
       "      <td id=\"T_74843_row1_col3\" class=\"data row1 col3\" >2,687.50</td>\n",
       "      <td id=\"T_74843_row1_col4\" class=\"data row1 col4\" >2,418.75</td>\n",
       "      <td id=\"T_74843_row1_col5\" class=\"data row1 col5\" >2025-03-05</td>\n",
       "      <td id=\"T_74843_row1_col6\" class=\"data row1 col6\" >2025-03-21</td>\n",
       "      <td id=\"T_74843_row1_col7\" class=\"data row1 col7\" >136,250.00</td>\n",
       "      <td id=\"T_74843_row1_col8\" class=\"data row1 col8\" >1.78%</td>\n",
       "      <td id=\"T_74843_row1_col9\" class=\"data row1 col9\" >10,750.00</td>\n",
       "      <td id=\"T_74843_row1_col10\" class=\"data row1 col10\" >7.89%</td>\n",
       "      <td id=\"T_74843_row1_col11\" class=\"data row1 col11\" >1</td>\n",
       "    </tr>\n",
       "    <tr>\n",
       "      <th id=\"T_74843_level0_row2\" class=\"row_heading level0 row2\" >2</th>\n",
       "      <td id=\"T_74843_row2_col0\" class=\"data row2 col0\" >ASP</td>\n",
       "      <td id=\"T_74843_row2_col1\" class=\"data row2 col1\" >0.1000</td>\n",
       "      <td id=\"T_74843_row2_col2\" class=\"data row2 col2\" >30,000</td>\n",
       "      <td id=\"T_74843_row2_col3\" class=\"data row2 col3\" >3,000.00</td>\n",
       "      <td id=\"T_74843_row2_col4\" class=\"data row2 col4\" >2,700.00</td>\n",
       "      <td id=\"T_74843_row2_col5\" class=\"data row2 col5\" >2024-08-27</td>\n",
       "      <td id=\"T_74843_row2_col6\" class=\"data row2 col6\" >2024-09-12</td>\n",
       "      <td id=\"T_74843_row2_col7\" class=\"data row2 col7\" >114,000.00</td>\n",
       "      <td id=\"T_74843_row2_col8\" class=\"data row2 col8\" >2.37%</td>\n",
       "      <td id=\"T_74843_row2_col9\" class=\"data row2 col9\" >5,100.00</td>\n",
       "      <td id=\"T_74843_row2_col10\" class=\"data row2 col10\" >4.47%</td>\n",
       "      <td id=\"T_74843_row2_col11\" class=\"data row2 col11\" >0</td>\n",
       "    </tr>\n",
       "    <tr>\n",
       "      <th id=\"T_74843_level0_row3\" class=\"row_heading level0 row3\" >3</th>\n",
       "      <td id=\"T_74843_row3_col0\" class=\"data row3 col0\" >AWC</td>\n",
       "      <td id=\"T_74843_row3_col1\" class=\"data row3 col1\" >0.0750</td>\n",
       "      <td id=\"T_74843_row3_col2\" class=\"data row3 col2\" >9,000</td>\n",
       "      <td id=\"T_74843_row3_col3\" class=\"data row3 col3\" >675.00</td>\n",
       "      <td id=\"T_74843_row3_col4\" class=\"data row3 col4\" >607.50</td>\n",
       "      <td id=\"T_74843_row3_col5\" class=\"data row3 col5\" >2025-05-08</td>\n",
       "      <td id=\"T_74843_row3_col6\" class=\"data row3 col6\" >2025-05-28</td>\n",
       "      <td id=\"T_74843_row3_col7\" class=\"data row3 col7\" >44,640.00</td>\n",
       "      <td id=\"T_74843_row3_col8\" class=\"data row3 col8\" >1.36%</td>\n",
       "      <td id=\"T_74843_row3_col9\" class=\"data row3 col9\" >675.00</td>\n",
       "      <td id=\"T_74843_row3_col10\" class=\"data row3 col10\" >1.51%</td>\n",
       "      <td id=\"T_74843_row3_col11\" class=\"data row3 col11\" >1</td>\n",
       "    </tr>\n",
       "    <tr>\n",
       "      <th id=\"T_74843_level0_row4\" class=\"row_heading level0 row4\" >4</th>\n",
       "      <td id=\"T_74843_row4_col0\" class=\"data row4 col0\" >BCH</td>\n",
       "      <td id=\"T_74843_row4_col1\" class=\"data row4 col1\" >0.2500</td>\n",
       "      <td id=\"T_74843_row4_col2\" class=\"data row4 col2\" >4,000</td>\n",
       "      <td id=\"T_74843_row4_col3\" class=\"data row4 col3\" >1,000.00</td>\n",
       "      <td id=\"T_74843_row4_col4\" class=\"data row4 col4\" >900.00</td>\n",
       "      <td id=\"T_74843_row4_col5\" class=\"data row4 col5\" >2024-08-29</td>\n",
       "      <td id=\"T_74843_row4_col6\" class=\"data row4 col6\" >2024-09-12</td>\n",
       "      <td id=\"T_74843_row4_col7\" class=\"data row4 col7\" >86,800.00</td>\n",
       "      <td id=\"T_74843_row4_col8\" class=\"data row4 col8\" >1.04%</td>\n",
       "      <td id=\"T_74843_row4_col9\" class=\"data row4 col9\" >1,480.00</td>\n",
       "      <td id=\"T_74843_row4_col10\" class=\"data row4 col10\" >1.71%</td>\n",
       "      <td id=\"T_74843_row4_col11\" class=\"data row4 col11\" >0</td>\n",
       "    </tr>\n",
       "    <tr>\n",
       "      <th id=\"T_74843_level0_row5\" class=\"row_heading level0 row5\" >5</th>\n",
       "      <td id=\"T_74843_row5_col0\" class=\"data row5 col0\" >CPNREIT</td>\n",
       "      <td id=\"T_74843_row5_col1\" class=\"data row5 col1\" >0.0987</td>\n",
       "      <td id=\"T_74843_row5_col2\" class=\"data row5 col2\" >55,000</td>\n",
       "      <td id=\"T_74843_row5_col3\" class=\"data row5 col3\" >5,428.50</td>\n",
       "      <td id=\"T_74843_row5_col4\" class=\"data row5 col4\" >4,885.65</td>\n",
       "      <td id=\"T_74843_row5_col5\" class=\"data row5 col5\" >2025-02-27</td>\n",
       "      <td id=\"T_74843_row5_col6\" class=\"data row5 col6\" >2025-03-17</td>\n",
       "      <td id=\"T_74843_row5_col7\" class=\"data row5 col7\" >990,000.00</td>\n",
       "      <td id=\"T_74843_row5_col8\" class=\"data row5 col8\" >0.49%</td>\n",
       "      <td id=\"T_74843_row5_col9\" class=\"data row5 col9\" >37,499.00</td>\n",
       "      <td id=\"T_74843_row5_col10\" class=\"data row5 col10\" >3.79%</td>\n",
       "      <td id=\"T_74843_row5_col11\" class=\"data row5 col11\" >1</td>\n",
       "    </tr>\n",
       "    <tr>\n",
       "      <th id=\"T_74843_level0_row6\" class=\"row_heading level0 row6\" >6</th>\n",
       "      <td id=\"T_74843_row6_col0\" class=\"data row6 col0\" >DIF</td>\n",
       "      <td id=\"T_74843_row6_col1\" class=\"data row6 col1\" >0.2222</td>\n",
       "      <td id=\"T_74843_row6_col2\" class=\"data row6 col2\" >35,000</td>\n",
       "      <td id=\"T_74843_row6_col3\" class=\"data row6 col3\" >7,777.00</td>\n",
       "      <td id=\"T_74843_row6_col4\" class=\"data row6 col4\" >6,999.30</td>\n",
       "      <td id=\"T_74843_row6_col5\" class=\"data row6 col5\" >2025-02-13</td>\n",
       "      <td id=\"T_74843_row6_col6\" class=\"data row6 col6\" >2025-03-07</td>\n",
       "      <td id=\"T_74843_row6_col7\" class=\"data row6 col7\" >486,500.00</td>\n",
       "      <td id=\"T_74843_row6_col8\" class=\"data row6 col8\" >1.44%</td>\n",
       "      <td id=\"T_74843_row6_col9\" class=\"data row6 col9\" >31,108.00</td>\n",
       "      <td id=\"T_74843_row6_col10\" class=\"data row6 col10\" >6.39%</td>\n",
       "      <td id=\"T_74843_row6_col11\" class=\"data row6 col11\" >1</td>\n",
       "    </tr>\n",
       "    <tr>\n",
       "      <th id=\"T_74843_level0_row7\" class=\"row_heading level0 row7\" >7</th>\n",
       "      <td id=\"T_74843_row7_col0\" class=\"data row7 col0\" >GVREIT</td>\n",
       "      <td id=\"T_74843_row7_col1\" class=\"data row7 col1\" >0.2044</td>\n",
       "      <td id=\"T_74843_row7_col2\" class=\"data row7 col2\" >75,000</td>\n",
       "      <td id=\"T_74843_row7_col3\" class=\"data row7 col3\" >15,330.00</td>\n",
       "      <td id=\"T_74843_row7_col4\" class=\"data row7 col4\" >13,797.00</td>\n",
       "      <td id=\"T_74843_row7_col5\" class=\"data row7 col5\" >2025-02-26</td>\n",
       "      <td id=\"T_74843_row7_col6\" class=\"data row7 col6\" >2025-03-12</td>\n",
       "      <td id=\"T_74843_row7_col7\" class=\"data row7 col7\" >573,000.00</td>\n",
       "      <td id=\"T_74843_row7_col8\" class=\"data row7 col8\" >2.41%</td>\n",
       "      <td id=\"T_74843_row7_col9\" class=\"data row7 col9\" >59,760.00</td>\n",
       "      <td id=\"T_74843_row7_col10\" class=\"data row7 col10\" >10.43%</td>\n",
       "      <td id=\"T_74843_row7_col11\" class=\"data row7 col11\" >1</td>\n",
       "    </tr>\n",
       "    <tr>\n",
       "      <th id=\"T_74843_level0_row8\" class=\"row_heading level0 row8\" >8</th>\n",
       "      <td id=\"T_74843_row8_col0\" class=\"data row8 col0\" >IVL</td>\n",
       "      <td id=\"T_74843_row8_col1\" class=\"data row8 col1\" >0.1750</td>\n",
       "      <td id=\"T_74843_row8_col2\" class=\"data row8 col2\" >7,200</td>\n",
       "      <td id=\"T_74843_row8_col3\" class=\"data row8 col3\" >1,260.00</td>\n",
       "      <td id=\"T_74843_row8_col4\" class=\"data row8 col4\" >1,134.00</td>\n",
       "      <td id=\"T_74843_row8_col5\" class=\"data row8 col5\" >2025-05-06</td>\n",
       "      <td id=\"T_74843_row8_col6\" class=\"data row8 col6\" >2025-05-23</td>\n",
       "      <td id=\"T_74843_row8_col7\" class=\"data row8 col7\" >288,000.00</td>\n",
       "      <td id=\"T_74843_row8_col8\" class=\"data row8 col8\" >0.39%</td>\n",
       "      <td id=\"T_74843_row8_col9\" class=\"data row8 col9\" >5,040.00</td>\n",
       "      <td id=\"T_74843_row8_col10\" class=\"data row8 col10\" >1.75%</td>\n",
       "      <td id=\"T_74843_row8_col11\" class=\"data row8 col11\" >1</td>\n",
       "    </tr>\n",
       "    <tr>\n",
       "      <th id=\"T_74843_level0_row9\" class=\"row_heading level0 row9\" >9</th>\n",
       "      <td id=\"T_74843_row9_col0\" class=\"data row9 col0\" >JMT</td>\n",
       "      <td id=\"T_74843_row9_col1\" class=\"data row9 col1\" >0.2800</td>\n",
       "      <td id=\"T_74843_row9_col2\" class=\"data row9 col2\" >4,200</td>\n",
       "      <td id=\"T_74843_row9_col3\" class=\"data row9 col3\" >1,176.00</td>\n",
       "      <td id=\"T_74843_row9_col4\" class=\"data row9 col4\" >1,058.40</td>\n",
       "      <td id=\"T_74843_row9_col5\" class=\"data row9 col5\" >2025-02-25</td>\n",
       "      <td id=\"T_74843_row9_col6\" class=\"data row9 col6\" >2025-04-30</td>\n",
       "      <td id=\"T_74843_row9_col7\" class=\"data row9 col7\" >233,100.00</td>\n",
       "      <td id=\"T_74843_row9_col8\" class=\"data row9 col8\" >0.45%</td>\n",
       "      <td id=\"T_74843_row9_col9\" class=\"data row9 col9\" >2,772.00</td>\n",
       "      <td id=\"T_74843_row9_col10\" class=\"data row9 col10\" >1.19%</td>\n",
       "      <td id=\"T_74843_row9_col11\" class=\"data row9 col11\" >1</td>\n",
       "    </tr>\n",
       "    <tr>\n",
       "      <th id=\"T_74843_level0_row10\" class=\"row_heading level0 row10\" >10</th>\n",
       "      <td id=\"T_74843_row10_col0\" class=\"data row10 col0\" >KCE</td>\n",
       "      <td id=\"T_74843_row10_col1\" class=\"data row10 col1\" >0.7000</td>\n",
       "      <td id=\"T_74843_row10_col2\" class=\"data row10 col2\" >10,000</td>\n",
       "      <td id=\"T_74843_row10_col3\" class=\"data row10 col3\" >7,000.00</td>\n",
       "      <td id=\"T_74843_row10_col4\" class=\"data row10 col4\" >6,300.00</td>\n",
       "      <td id=\"T_74843_row10_col5\" class=\"data row10 col5\" >2024-08-26</td>\n",
       "      <td id=\"T_74843_row10_col6\" class=\"data row10 col6\" >2024-09-11</td>\n",
       "      <td id=\"T_74843_row10_col7\" class=\"data row10 col7\" >772,500.00</td>\n",
       "      <td id=\"T_74843_row10_col8\" class=\"data row10 col8\" >0.82%</td>\n",
       "      <td id=\"T_74843_row10_col9\" class=\"data row10 col9\" >13,000.00</td>\n",
       "      <td id=\"T_74843_row10_col10\" class=\"data row10 col10\" >1.68%</td>\n",
       "      <td id=\"T_74843_row10_col11\" class=\"data row10 col11\" >0</td>\n",
       "    </tr>\n",
       "    <tr>\n",
       "      <th id=\"T_74843_level0_row11\" class=\"row_heading level0 row11\" >11</th>\n",
       "      <td id=\"T_74843_row11_col0\" class=\"data row11 col0\" >MCS</td>\n",
       "      <td id=\"T_74843_row11_col1\" class=\"data row11 col1\" >0.5000</td>\n",
       "      <td id=\"T_74843_row11_col2\" class=\"data row11 col2\" >81,000</td>\n",
       "      <td id=\"T_74843_row11_col3\" class=\"data row11 col3\" >40,500.00</td>\n",
       "      <td id=\"T_74843_row11_col4\" class=\"data row11 col4\" >36,450.00</td>\n",
       "      <td id=\"T_74843_row11_col5\" class=\"data row11 col5\" >2025-04-18</td>\n",
       "      <td id=\"T_74843_row11_col6\" class=\"data row11 col6\" >2025-05-07</td>\n",
       "      <td id=\"T_74843_row11_col7\" class=\"data row11 col7\" >1,198,800.00</td>\n",
       "      <td id=\"T_74843_row11_col8\" class=\"data row11 col8\" >3.04%</td>\n",
       "      <td id=\"T_74843_row11_col9\" class=\"data row11 col9\" >56,700.00</td>\n",
       "      <td id=\"T_74843_row11_col10\" class=\"data row11 col10\" >4.73%</td>\n",
       "      <td id=\"T_74843_row11_col11\" class=\"data row11 col11\" >1</td>\n",
       "    </tr>\n",
       "    <tr>\n",
       "      <th id=\"T_74843_level0_row12\" class=\"row_heading level0 row12\" >12</th>\n",
       "      <td id=\"T_74843_row12_col0\" class=\"data row12 col0\" >NER</td>\n",
       "      <td id=\"T_74843_row12_col1\" class=\"data row12 col1\" >0.3100</td>\n",
       "      <td id=\"T_74843_row12_col2\" class=\"data row12 col2\" >27,000</td>\n",
       "      <td id=\"T_74843_row12_col3\" class=\"data row12 col3\" >8,370.00</td>\n",
       "      <td id=\"T_74843_row12_col4\" class=\"data row12 col4\" >7,533.00</td>\n",
       "      <td id=\"T_74843_row12_col5\" class=\"data row12 col5\" >2025-04-24</td>\n",
       "      <td id=\"T_74843_row12_col6\" class=\"data row12 col6\" >2025-05-09</td>\n",
       "      <td id=\"T_74843_row12_col7\" class=\"data row12 col7\" >201,150.00</td>\n",
       "      <td id=\"T_74843_row12_col8\" class=\"data row12 col8\" >3.74%</td>\n",
       "      <td id=\"T_74843_row12_col9\" class=\"data row12 col9\" >9,720.00</td>\n",
       "      <td id=\"T_74843_row12_col10\" class=\"data row12 col10\" >4.83%</td>\n",
       "      <td id=\"T_74843_row12_col11\" class=\"data row12 col11\" >1</td>\n",
       "    </tr>\n",
       "    <tr>\n",
       "      <th id=\"T_74843_level0_row13\" class=\"row_heading level0 row13\" >13</th>\n",
       "      <td id=\"T_74843_row13_col0\" class=\"data row13 col0\" >PTG</td>\n",
       "      <td id=\"T_74843_row13_col1\" class=\"data row13 col1\" >0.2500</td>\n",
       "      <td id=\"T_74843_row13_col2\" class=\"data row13 col2\" >3,600</td>\n",
       "      <td id=\"T_74843_row13_col3\" class=\"data row13 col3\" >900.00</td>\n",
       "      <td id=\"T_74843_row13_col4\" class=\"data row13 col4\" >810.00</td>\n",
       "      <td id=\"T_74843_row13_col5\" class=\"data row13 col5\" >2025-03-10</td>\n",
       "      <td id=\"T_74843_row13_col6\" class=\"data row13 col6\" >2025-05-16</td>\n",
       "      <td id=\"T_74843_row13_col7\" class=\"data row13 col7\" >41,040.00</td>\n",
       "      <td id=\"T_74843_row13_col8\" class=\"data row13 col8\" >1.97%</td>\n",
       "      <td id=\"T_74843_row13_col9\" class=\"data row13 col9\" >1,260.00</td>\n",
       "      <td id=\"T_74843_row13_col10\" class=\"data row13 col10\" >3.07%</td>\n",
       "      <td id=\"T_74843_row13_col11\" class=\"data row13 col11\" >1</td>\n",
       "    </tr>\n",
       "    <tr>\n",
       "      <th id=\"T_74843_level0_row14\" class=\"row_heading level0 row14\" >14</th>\n",
       "      <td id=\"T_74843_row14_col0\" class=\"data row14 col0\" >PTTGC</td>\n",
       "      <td id=\"T_74843_row14_col1\" class=\"data row14 col1\" >0.5000</td>\n",
       "      <td id=\"T_74843_row14_col2\" class=\"data row14 col2\" >6,000</td>\n",
       "      <td id=\"T_74843_row14_col3\" class=\"data row14 col3\" >3,000.00</td>\n",
       "      <td id=\"T_74843_row14_col4\" class=\"data row14 col4\" >2,700.00</td>\n",
       "      <td id=\"T_74843_row14_col5\" class=\"data row14 col5\" >2025-03-03</td>\n",
       "      <td id=\"T_74843_row14_col6\" class=\"data row14 col6\" >2025-04-24</td>\n",
       "      <td id=\"T_74843_row14_col7\" class=\"data row14 col7\" >388,500.00</td>\n",
       "      <td id=\"T_74843_row14_col8\" class=\"data row14 col8\" >0.69%</td>\n",
       "      <td id=\"T_74843_row14_col9\" class=\"data row14 col9\" >3,000.00</td>\n",
       "      <td id=\"T_74843_row14_col10\" class=\"data row14 col10\" >0.77%</td>\n",
       "      <td id=\"T_74843_row14_col11\" class=\"data row14 col11\" >1</td>\n",
       "    </tr>\n",
       "    <tr>\n",
       "      <th id=\"T_74843_level0_row15\" class=\"row_heading level0 row15\" >15</th>\n",
       "      <td id=\"T_74843_row15_col0\" class=\"data row15 col0\" >RCL</td>\n",
       "      <td id=\"T_74843_row15_col1\" class=\"data row15 col1\" >1.5000</td>\n",
       "      <td id=\"T_74843_row15_col2\" class=\"data row15 col2\" >27,000</td>\n",
       "      <td id=\"T_74843_row15_col3\" class=\"data row15 col3\" >40,500.00</td>\n",
       "      <td id=\"T_74843_row15_col4\" class=\"data row15 col4\" >36,450.00</td>\n",
       "      <td id=\"T_74843_row15_col5\" class=\"data row15 col5\" >2025-03-12</td>\n",
       "      <td id=\"T_74843_row15_col6\" class=\"data row15 col6\" >2025-05-16</td>\n",
       "      <td id=\"T_74843_row15_col7\" class=\"data row15 col7\" >1,046,250.00</td>\n",
       "      <td id=\"T_74843_row15_col8\" class=\"data row15 col8\" >3.48%</td>\n",
       "      <td id=\"T_74843_row15_col9\" class=\"data row15 col9\" >67,500.00</td>\n",
       "      <td id=\"T_74843_row15_col10\" class=\"data row15 col10\" >6.45%</td>\n",
       "      <td id=\"T_74843_row15_col11\" class=\"data row15 col11\" >1</td>\n",
       "    </tr>\n",
       "    <tr>\n",
       "      <th id=\"T_74843_level0_row16\" class=\"row_heading level0 row16\" >16</th>\n",
       "      <td id=\"T_74843_row16_col0\" class=\"data row16 col0\" >SCC</td>\n",
       "      <td id=\"T_74843_row16_col1\" class=\"data row16 col1\" >2.5000</td>\n",
       "      <td id=\"T_74843_row16_col2\" class=\"data row16 col2\" >600</td>\n",
       "      <td id=\"T_74843_row16_col3\" class=\"data row16 col3\" >1,500.00</td>\n",
       "      <td id=\"T_74843_row16_col4\" class=\"data row16 col4\" >1,350.00</td>\n",
       "      <td id=\"T_74843_row16_col5\" class=\"data row16 col5\" >2025-04-02</td>\n",
       "      <td id=\"T_74843_row16_col6\" class=\"data row16 col6\" >2025-04-22</td>\n",
       "      <td id=\"T_74843_row16_col7\" class=\"data row16 col7\" >243,000.00</td>\n",
       "      <td id=\"T_74843_row16_col8\" class=\"data row16 col8\" >0.56%</td>\n",
       "      <td id=\"T_74843_row16_col9\" class=\"data row16 col9\" >3,000.00</td>\n",
       "      <td id=\"T_74843_row16_col10\" class=\"data row16 col10\" >1.23%</td>\n",
       "      <td id=\"T_74843_row16_col11\" class=\"data row16 col11\" >1</td>\n",
       "    </tr>\n",
       "    <tr>\n",
       "      <th id=\"T_74843_level0_row17\" class=\"row_heading level0 row17\" >17</th>\n",
       "      <td id=\"T_74843_row17_col0\" class=\"data row17 col0\" >SENA</td>\n",
       "      <td id=\"T_74843_row17_col1\" class=\"data row17 col1\" >0.2342</td>\n",
       "      <td id=\"T_74843_row17_col2\" class=\"data row17 col2\" >105,000</td>\n",
       "      <td id=\"T_74843_row17_col3\" class=\"data row17 col3\" >24,591.00</td>\n",
       "      <td id=\"T_74843_row17_col4\" class=\"data row17 col4\" >22,131.90</td>\n",
       "      <td id=\"T_74843_row17_col5\" class=\"data row17 col5\" >2024-05-10</td>\n",
       "      <td id=\"T_74843_row17_col6\" class=\"data row17 col6\" >2024-05-24</td>\n",
       "      <td id=\"T_74843_row17_col7\" class=\"data row17 col7\" >470,400.00</td>\n",
       "      <td id=\"T_74843_row17_col8\" class=\"data row17 col8\" >4.70%</td>\n",
       "      <td id=\"T_74843_row17_col9\" class=\"data row17 col9\" >24,591.00</td>\n",
       "      <td id=\"T_74843_row17_col10\" class=\"data row17 col10\" >5.23%</td>\n",
       "      <td id=\"T_74843_row17_col11\" class=\"data row17 col11\" >0</td>\n",
       "    </tr>\n",
       "    <tr>\n",
       "      <th id=\"T_74843_level0_row18\" class=\"row_heading level0 row18\" >18</th>\n",
       "      <td id=\"T_74843_row18_col0\" class=\"data row18 col0\" >STA</td>\n",
       "      <td id=\"T_74843_row18_col1\" class=\"data row18 col1\" >1.0000</td>\n",
       "      <td id=\"T_74843_row18_col2\" class=\"data row18 col2\" >10,000</td>\n",
       "      <td id=\"T_74843_row18_col3\" class=\"data row18 col3\" >10,000.00</td>\n",
       "      <td id=\"T_74843_row18_col4\" class=\"data row18 col4\" >9,000.00</td>\n",
       "      <td id=\"T_74843_row18_col5\" class=\"data row18 col5\" >2025-04-18</td>\n",
       "      <td id=\"T_74843_row18_col6\" class=\"data row18 col6\" >2025-05-08</td>\n",
       "      <td id=\"T_74843_row18_col7\" class=\"data row18 col7\" >300,000.00</td>\n",
       "      <td id=\"T_74843_row18_col8\" class=\"data row18 col8\" >3.00%</td>\n",
       "      <td id=\"T_74843_row18_col9\" class=\"data row18 col9\" >10,000.00</td>\n",
       "      <td id=\"T_74843_row18_col10\" class=\"data row18 col10\" >3.33%</td>\n",
       "      <td id=\"T_74843_row18_col11\" class=\"data row18 col11\" >1</td>\n",
       "    </tr>\n",
       "    <tr>\n",
       "      <th id=\"T_74843_level0_row19\" class=\"row_heading level0 row19\" >19</th>\n",
       "      <td id=\"T_74843_row19_col0\" class=\"data row19 col0\" >SYNEX</td>\n",
       "      <td id=\"T_74843_row19_col1\" class=\"data row19 col1\" >0.2600</td>\n",
       "      <td id=\"T_74843_row19_col2\" class=\"data row19 col2\" >15,000</td>\n",
       "      <td id=\"T_74843_row19_col3\" class=\"data row19 col3\" >3,900.00</td>\n",
       "      <td id=\"T_74843_row19_col4\" class=\"data row19 col4\" >3,510.00</td>\n",
       "      <td id=\"T_74843_row19_col5\" class=\"data row19 col5\" >2024-08-27</td>\n",
       "      <td id=\"T_74843_row19_col6\" class=\"data row19 col6\" >2024-09-10</td>\n",
       "      <td id=\"T_74843_row19_col7\" class=\"data row19 col7\" >430,500.00</td>\n",
       "      <td id=\"T_74843_row19_col8\" class=\"data row19 col8\" >0.82%</td>\n",
       "      <td id=\"T_74843_row19_col9\" class=\"data row19 col9\" >5,400.00</td>\n",
       "      <td id=\"T_74843_row19_col10\" class=\"data row19 col10\" >1.25%</td>\n",
       "      <td id=\"T_74843_row19_col11\" class=\"data row19 col11\" >0</td>\n",
       "    </tr>\n",
       "    <tr>\n",
       "      <th id=\"T_74843_level0_row20\" class=\"row_heading level0 row20\" >20</th>\n",
       "      <td id=\"T_74843_row20_col0\" class=\"data row20 col0\" >TFFIF</td>\n",
       "      <td id=\"T_74843_row20_col1\" class=\"data row20 col1\" >0.1039</td>\n",
       "      <td id=\"T_74843_row20_col2\" class=\"data row20 col2\" >20,000</td>\n",
       "      <td id=\"T_74843_row20_col3\" class=\"data row20 col3\" >2,078.00</td>\n",
       "      <td id=\"T_74843_row20_col4\" class=\"data row20 col4\" >1,870.20</td>\n",
       "      <td id=\"T_74843_row20_col5\" class=\"data row20 col5\" >2025-02-27</td>\n",
       "      <td id=\"T_74843_row20_col6\" class=\"data row20 col6\" >2025-03-17</td>\n",
       "      <td id=\"T_74843_row20_col7\" class=\"data row20 col7\" >150,000.00</td>\n",
       "      <td id=\"T_74843_row20_col8\" class=\"data row20 col8\" >1.25%</td>\n",
       "      <td id=\"T_74843_row20_col9\" class=\"data row20 col9\" >9,044.00</td>\n",
       "      <td id=\"T_74843_row20_col10\" class=\"data row20 col10\" >6.03%</td>\n",
       "      <td id=\"T_74843_row20_col11\" class=\"data row20 col11\" >1</td>\n",
       "    </tr>\n",
       "    <tr>\n",
       "      <th id=\"T_74843_level0_row21\" class=\"row_heading level0 row21\" >21</th>\n",
       "      <td id=\"T_74843_row21_col0\" class=\"data row21 col0\" >TOA</td>\n",
       "      <td id=\"T_74843_row21_col1\" class=\"data row21 col1\" >0.3500</td>\n",
       "      <td id=\"T_74843_row21_col2\" class=\"data row21 col2\" >1,000</td>\n",
       "      <td id=\"T_74843_row21_col3\" class=\"data row21 col3\" >350.00</td>\n",
       "      <td id=\"T_74843_row21_col4\" class=\"data row21 col4\" >315.00</td>\n",
       "      <td id=\"T_74843_row21_col5\" class=\"data row21 col5\" >2024-08-28</td>\n",
       "      <td id=\"T_74843_row21_col6\" class=\"data row21 col6\" >2024-09-13</td>\n",
       "      <td id=\"T_74843_row21_col7\" class=\"data row21 col7\" >26,000.00</td>\n",
       "      <td id=\"T_74843_row21_col8\" class=\"data row21 col8\" >1.21%</td>\n",
       "      <td id=\"T_74843_row21_col9\" class=\"data row21 col9\" >680.00</td>\n",
       "      <td id=\"T_74843_row21_col10\" class=\"data row21 col10\" >2.62%</td>\n",
       "      <td id=\"T_74843_row21_col11\" class=\"data row21 col11\" >0</td>\n",
       "    </tr>\n",
       "    <tr>\n",
       "      <th id=\"T_74843_level0_row22\" class=\"row_heading level0 row22\" >22</th>\n",
       "      <td id=\"T_74843_row22_col0\" class=\"data row22 col0\" >TVO</td>\n",
       "      <td id=\"T_74843_row22_col1\" class=\"data row22 col1\" >0.9300</td>\n",
       "      <td id=\"T_74843_row22_col2\" class=\"data row22 col2\" >4,000</td>\n",
       "      <td id=\"T_74843_row22_col3\" class=\"data row22 col3\" >3,720.00</td>\n",
       "      <td id=\"T_74843_row22_col4\" class=\"data row22 col4\" >3,348.00</td>\n",
       "      <td id=\"T_74843_row22_col5\" class=\"data row22 col5\" >2025-03-14</td>\n",
       "      <td id=\"T_74843_row22_col6\" class=\"data row22 col6\" >2025-05-16</td>\n",
       "      <td id=\"T_74843_row22_col7\" class=\"data row22 col7\" >99,600.00</td>\n",
       "      <td id=\"T_74843_row22_col8\" class=\"data row22 col8\" >3.36%</td>\n",
       "      <td id=\"T_74843_row22_col9\" class=\"data row22 col9\" >6,920.00</td>\n",
       "      <td id=\"T_74843_row22_col10\" class=\"data row22 col10\" >6.95%</td>\n",
       "      <td id=\"T_74843_row22_col11\" class=\"data row22 col11\" >1</td>\n",
       "    </tr>\n",
       "    <tr>\n",
       "      <th id=\"T_74843_level0_row23\" class=\"row_heading level0 row23\" >23</th>\n",
       "      <td id=\"T_74843_row23_col0\" class=\"data row23 col0\" >WHAIR</td>\n",
       "      <td id=\"T_74843_row23_col1\" class=\"data row23 col1\" >0.0582</td>\n",
       "      <td id=\"T_74843_row23_col2\" class=\"data row23 col2\" >50,000</td>\n",
       "      <td id=\"T_74843_row23_col3\" class=\"data row23 col3\" >2,910.00</td>\n",
       "      <td id=\"T_74843_row23_col4\" class=\"data row23 col4\" >2,619.00</td>\n",
       "      <td id=\"T_74843_row23_col5\" class=\"data row23 col5\" >2025-03-03</td>\n",
       "      <td id=\"T_74843_row23_col6\" class=\"data row23 col6\" >2025-03-28</td>\n",
       "      <td id=\"T_74843_row23_col7\" class=\"data row23 col7\" >435,000.00</td>\n",
       "      <td id=\"T_74843_row23_col8\" class=\"data row23 col8\" >0.60%</td>\n",
       "      <td id=\"T_74843_row23_col9\" class=\"data row23 col9\" >27,775.00</td>\n",
       "      <td id=\"T_74843_row23_col10\" class=\"data row23 col10\" >6.39%</td>\n",
       "      <td id=\"T_74843_row23_col11\" class=\"data row23 col11\" >1</td>\n",
       "    </tr>\n",
       "    <tr>\n",
       "      <th id=\"T_74843_level0_row24\" class=\"row_heading level0 row24\" >24</th>\n",
       "      <td id=\"T_74843_row24_col0\" class=\"data row24 col0\" >WHART</td>\n",
       "      <td id=\"T_74843_row24_col1\" class=\"data row24 col1\" >0.0756</td>\n",
       "      <td id=\"T_74843_row24_col2\" class=\"data row24 col2\" >20,000</td>\n",
       "      <td id=\"T_74843_row24_col3\" class=\"data row24 col3\" >1,512.00</td>\n",
       "      <td id=\"T_74843_row24_col4\" class=\"data row24 col4\" >1,360.80</td>\n",
       "      <td id=\"T_74843_row24_col5\" class=\"data row24 col5\" >2025-03-03</td>\n",
       "      <td id=\"T_74843_row24_col6\" class=\"data row24 col6\" >2025-03-19</td>\n",
       "      <td id=\"T_74843_row24_col7\" class=\"data row24 col7\" >246,000.00</td>\n",
       "      <td id=\"T_74843_row24_col8\" class=\"data row24 col8\" >0.55%</td>\n",
       "      <td id=\"T_74843_row24_col9\" class=\"data row24 col9\" >13,062.00</td>\n",
       "      <td id=\"T_74843_row24_col10\" class=\"data row24 col10\" >5.31%</td>\n",
       "      <td id=\"T_74843_row24_col11\" class=\"data row24 col11\" >1</td>\n",
       "    </tr>\n",
       "  </tbody>\n",
       "</table>\n"
      ],
      "text/plain": [
       "<pandas.io.formats.style.Styler at 0x1709f4566f0>"
      ]
     },
     "execution_count": 49,
     "metadata": {},
     "output_type": "execute_result"
    }
   ],
   "source": [
    "dividend = pd.read_sql(sql, const)\n",
    "dividend.columns = dividend.columns.str.lower()\n",
    "dividend['shares'] = dividend['shares'].astype('int64')\n",
    "dividend['xdate'] = pd.to_datetime(dividend['xdate'])\n",
    "dividend['paiddate'] = pd.to_datetime(dividend['paiddate'])\n",
    "dividend['amount'] = round(dividend['shares'] * dividend['qtrly'], 2)\n",
    "dividend['amt_yearly'] = round(dividend['shares'] * dividend['yearly'], 2)\n",
    "dividend['net'] = round(dividend['amount'] * 0.9, 2)\n",
    "dividend['pct'] = round(dividend['net'] / dividend['cost_amt'] * 100, 2)\n",
    "dividend['yearly'] = round(dividend['amt_yearly'] / dividend['cost_amt'] * 100, 2)\n",
    "dividend[cols].style.format(format_dict)"
   ]
  },
  {
   "cell_type": "code",
   "execution_count": 51,
   "metadata": {},
   "outputs": [
    {
     "name": "stdout",
     "output_type": "stream",
     "text": [
      "170,766.90\n"
     ]
    }
   ],
   "source": [
    "formatted_amt = '{:,.2f}'.format(dividend.net.sum())\n",
    "print(formatted_amt)"
   ]
  },
  {
   "cell_type": "code",
   "execution_count": 53,
   "metadata": {},
   "outputs": [],
   "source": [
    "file_name = \"dividend-q4.csv\"\n",
    "output_file = os.path.join(dat_path, file_name)\n",
    "god_file = os.path.join(god_path, file_name)\n",
    "icd_file = os.path.join(icd_path, file_name)\n",
    "osd_file = os.path.join(osd_path, file_name)"
   ]
  },
  {
   "cell_type": "code",
   "execution_count": 55,
   "metadata": {},
   "outputs": [
    {
     "name": "stdout",
     "output_type": "stream",
     "text": [
      "Output file : C:\\Users\\PC1\\OneDrive\\A5\\Data\\dividend-q4.csv\n",
      "icd_file : C:\\Users\\PC1\\iCloudDrive\\Data\\dividend-q4.csv\n",
      "god_file : C:\\Users\\PC1\\OneDrive\\Imports\\santisoontarinka@gmail.com - Google Drive\\Data\\dividend-q4.csv\n",
      "osd_file : C:\\Users\\PC1\\OneDrive\\Documents\\obsidian-git-sync\\Data\\dividend-q4.csv\n"
     ]
    }
   ],
   "source": [
    "print(f\"Output file : {output_file}\") \n",
    "print(f\"icd_file : {icd_file}\") \n",
    "print(f\"god_file : {god_file}\") \n",
    "print(f\"osd_file : {osd_file}\") "
   ]
  },
  {
   "cell_type": "code",
   "execution_count": 59,
   "metadata": {},
   "outputs": [],
   "source": [
    "dividend[cols].sort_values(['name'],ascending=[True]).to_csv(output_file, index=False)\n",
    "dividend[cols].sort_values(['name'],ascending=[True]).to_csv(god_file, index=False)\n",
    "dividend[cols].sort_values(['name'],ascending=[True]).to_csv(osd_file, index=False)\n",
    "dividend[cols].sort_values(['name'],ascending=[True]).to_csv(icd_file, index=False)"
   ]
  },
  {
   "cell_type": "markdown",
   "metadata": {},
   "source": [
    "### End of output to cloud"
   ]
  },
  {
   "cell_type": "code",
   "execution_count": null,
   "metadata": {},
   "outputs": [],
   "source": [
    "#sqlUpd = \"\"\"\n",
    "UPDATE dividend\n",
    "SET xdate = DATE_ADD(xdate, INTERVAL 1 YEAR),\n",
    "    paiddate = DATE_ADD(paiddate, INTERVAL 1 YEAR),\n",
    "    actual = 0\n",
    "WHERE Q4 > 0\"\"\"\n",
    "rp = const.execute(sqlUpd)\n",
    "rp.rowcount"
   ]
  },
  {
   "cell_type": "code",
   "execution_count": 49,
   "metadata": {},
   "outputs": [],
   "source": [
    "const.commit()\n",
    "const.close()"
   ]
  },
  {
   "cell_type": "code",
   "execution_count": null,
   "metadata": {},
   "outputs": [],
   "source": []
  }
 ],
 "metadata": {
  "anaconda-cloud": {},
  "kernelspec": {
   "display_name": "Python 3 (ipykernel)",
   "language": "python",
   "name": "python3"
  },
  "language_info": {
   "codemirror_mode": {
    "name": "ipython",
    "version": 3
   },
   "file_extension": ".py",
   "mimetype": "text/x-python",
   "name": "python",
   "nbconvert_exporter": "python",
   "pygments_lexer": "ipython3",
   "version": "3.12.3"
  }
 },
 "nbformat": 4,
 "nbformat_minor": 4
}
