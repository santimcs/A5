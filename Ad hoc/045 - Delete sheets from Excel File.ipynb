{
 "cells": [
  {
   "cell_type": "code",
   "execution_count": 3,
   "id": "bd6be734-2219-4ffe-8400-a06c2e053cd1",
   "metadata": {},
   "outputs": [
    {
     "name": "stdout",
     "output_type": "stream",
     "text": [
      "Backup created at: C:\\Users\\PC1\\OneDrive\\A5\\Excel\\04-Amt-by-period-backup.xlsx\n",
      "All sheets except '1230' have been deleted.\n"
     ]
    }
   ],
   "source": [
    "import shutil\n",
    "from openpyxl import load_workbook\n",
    "\n",
    "# File path\n",
    "file_path = r'C:\\Users\\PC1\\OneDrive\\A5\\Excel\\04-Amt-by-period.xlsx'\n",
    "backup_path = r'C:\\Users\\PC1\\OneDrive\\A5\\Excel\\04-Amt-by-period-backup.xlsx'\n",
    "\n",
    "# Create a backup copy\n",
    "shutil.copy(file_path, backup_path)\n",
    "print(f\"Backup created at: {backup_path}\")\n",
    "\n",
    "# Load the workbook\n",
    "wb = load_workbook(file_path)\n",
    "\n",
    "# Sheet to keep\n",
    "sheet_to_keep = '1230'\n",
    "\n",
    "# Delete all other sheets\n",
    "for sheet in wb.sheetnames:\n",
    "    if sheet != sheet_to_keep:\n",
    "        wb.remove(wb[sheet])\n",
    "\n",
    "# Save the modified workbook\n",
    "wb.save(file_path)\n",
    "print(\"All sheets except '1230' have been deleted.\")\n"
   ]
  },
  {
   "cell_type": "code",
   "execution_count": null,
   "id": "61e75a03-b9c2-4790-a882-a2207938a159",
   "metadata": {},
   "outputs": [],
   "source": []
  }
 ],
 "metadata": {
  "kernelspec": {
   "display_name": "Python 3 (ipykernel)",
   "language": "python",
   "name": "python3"
  },
  "language_info": {
   "codemirror_mode": {
    "name": "ipython",
    "version": 3
   },
   "file_extension": ".py",
   "mimetype": "text/x-python",
   "name": "python",
   "nbconvert_exporter": "python",
   "pygments_lexer": "ipython3",
   "version": "3.12.3"
  }
 },
 "nbformat": 4,
 "nbformat_minor": 5
}
