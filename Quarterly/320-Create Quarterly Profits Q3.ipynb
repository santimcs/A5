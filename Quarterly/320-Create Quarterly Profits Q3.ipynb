{
 "cells": [
  {
   "cell_type": "markdown",
   "metadata": {},
   "source": [
    "### Restart and Run All Cells"
   ]
  },
  {
   "cell_type": "code",
   "execution_count": 3,
   "metadata": {},
   "outputs": [
    {
     "name": "stdout",
     "output_type": "stream",
     "text": [
      "2025-02-15 15:21:21\n"
     ]
    }
   ],
   "source": [
    "import pandas as pd\n",
    "from datetime import date, timedelta, datetime\n",
    "from sqlalchemy import create_engine, text\n",
    "engine = create_engine(\"sqlite:///c:\\\\ruby\\\\portlt\\\\db\\\\development.sqlite3\")\n",
    "conlt = engine.connect()\n",
    "year = 2024\n",
    "quarter = 3\n",
    "current_time = datetime.now()\n",
    "formatted_time = current_time.strftime(\"%Y-%m-%d %H:%M:%S\")\n",
    "print(formatted_time )"
   ]
  },
  {
   "cell_type": "code",
   "execution_count": 5,
   "metadata": {},
   "outputs": [],
   "source": [
    "cols = 'name year quarter q_amt_c q_amt_p inc_profit percent'.split()\n",
    "\n",
    "format_dict = {\n",
    "                'q_amt':'{:,}','q_amt_c':'{:,}','q_amt_p':'{:,}','inc_profit':'{:,}',\n",
    "                'yoy_gain':'{:,}','acc_gain':'{:,}',   \n",
    "                'latest_amt':'{:,}','previous_amt':'{:,}','inc_amt':'{:,}',\n",
    "                'q_eps':'{:.4f}','y_eps':'{:.4f}','aq_eps':'{:.4f}','ay_eps':'{:.4f}',\n",
    "                'percent':'{:.2f}%','inc_pct':'{:.2f}%'\n",
    "              }"
   ]
  },
  {
   "cell_type": "code",
   "execution_count": 7,
   "metadata": {},
   "outputs": [
    {
     "name": "stdout",
     "output_type": "stream",
     "text": [
      "\n",
      "SELECT name,year,quarter,q_amt \n",
      "FROM epss \n",
      "WHERE (year = 2024 AND quarter <= 3) \n",
      "OR (year = 2024-1 AND quarter >= 3+1)\n",
      "ORDER BY year DESC, quarter DESC\n",
      "\n"
     ]
    }
   ],
   "source": [
    "sql = \"\"\"\n",
    "SELECT name,year,quarter,q_amt \n",
    "FROM epss \n",
    "WHERE (year = %s AND quarter <= %s) \n",
    "OR (year = %s-1 AND quarter >= %s+1)\n",
    "ORDER BY year DESC, quarter DESC\n",
    "\"\"\"\n",
    "sql = sql % (year, quarter, year, quarter)\n",
    "print(sql)"
   ]
  },
  {
   "cell_type": "code",
   "execution_count": 9,
   "metadata": {},
   "outputs": [
    {
     "data": {
      "text/plain": [
       "(222, 5)"
      ]
     },
     "execution_count": 9,
     "metadata": {},
     "output_type": "execute_result"
    }
   ],
   "source": [
    "dfc = pd.read_sql(sql, conlt)\n",
    "dfc[\"Counter\"] = 1\n",
    "dfc_grp = dfc.groupby([\"name\"], as_index=False).sum()\n",
    "dfc_grp = dfc_grp[dfc_grp[\"Counter\"] == 4]\n",
    "dfc_grp.shape"
   ]
  },
  {
   "cell_type": "code",
   "execution_count": 11,
   "metadata": {},
   "outputs": [
    {
     "name": "stdout",
     "output_type": "stream",
     "text": [
      "\n",
      "SELECT name,year,quarter,q_amt \n",
      "FROM epss \n",
      "WHERE (year = 2024 AND quarter <= 3-1) \n",
      "OR (year = 2024-1 AND quarter >= 3) \n",
      "ORDER BY year DESC, quarter DESC\n"
     ]
    }
   ],
   "source": [
    "sql = \"\"\"\n",
    "SELECT name,year,quarter,q_amt \n",
    "FROM epss \n",
    "WHERE (year = %s AND quarter <= %s-1) \n",
    "OR (year = %s-1 AND quarter >= %s) \n",
    "ORDER BY year DESC, quarter DESC\"\"\"\n",
    "sql = sql % (year, quarter, year, quarter)\n",
    "print(sql)"
   ]
  },
  {
   "cell_type": "code",
   "execution_count": 13,
   "metadata": {},
   "outputs": [
    {
     "data": {
      "text/html": [
       "<style type=\"text/css\">\n",
       "</style>\n",
       "<table id=\"T_2b6fe\">\n",
       "  <thead>\n",
       "    <tr>\n",
       "      <th class=\"blank level0\" >&nbsp;</th>\n",
       "      <th id=\"T_2b6fe_level0_col0\" class=\"col_heading level0 col0\" >name</th>\n",
       "      <th id=\"T_2b6fe_level0_col1\" class=\"col_heading level0 col1\" >year</th>\n",
       "      <th id=\"T_2b6fe_level0_col2\" class=\"col_heading level0 col2\" >quarter</th>\n",
       "      <th id=\"T_2b6fe_level0_col3\" class=\"col_heading level0 col3\" >q_amt</th>\n",
       "      <th id=\"T_2b6fe_level0_col4\" class=\"col_heading level0 col4\" >Counter</th>\n",
       "    </tr>\n",
       "  </thead>\n",
       "  <tbody>\n",
       "    <tr>\n",
       "      <th id=\"T_2b6fe_level0_row0\" class=\"row_heading level0 row0\" >171</th>\n",
       "      <td id=\"T_2b6fe_row0_col0\" class=\"data row0 col0\" >SPCG</td>\n",
       "      <td id=\"T_2b6fe_row0_col1\" class=\"data row0 col1\" >8094</td>\n",
       "      <td id=\"T_2b6fe_row0_col2\" class=\"data row0 col2\" >10</td>\n",
       "      <td id=\"T_2b6fe_row0_col3\" class=\"data row0 col3\" >1,161,115</td>\n",
       "      <td id=\"T_2b6fe_row0_col4\" class=\"data row0 col4\" >4</td>\n",
       "    </tr>\n",
       "    <tr>\n",
       "      <th id=\"T_2b6fe_level0_row1\" class=\"row_heading level0 row1\" >80</th>\n",
       "      <td id=\"T_2b6fe_row1_col0\" class=\"data row1 col0\" >HANA</td>\n",
       "      <td id=\"T_2b6fe_row1_col1\" class=\"data row1 col1\" >8094</td>\n",
       "      <td id=\"T_2b6fe_row1_col2\" class=\"data row1 col2\" >10</td>\n",
       "      <td id=\"T_2b6fe_row1_col3\" class=\"data row1 col3\" >1,548,281</td>\n",
       "      <td id=\"T_2b6fe_row1_col4\" class=\"data row1 col4\" >4</td>\n",
       "    </tr>\n",
       "    <tr>\n",
       "      <th id=\"T_2b6fe_level0_row2\" class=\"row_heading level0 row2\" >64</th>\n",
       "      <td id=\"T_2b6fe_row2_col0\" class=\"data row2 col0\" >ECL</td>\n",
       "      <td id=\"T_2b6fe_row2_col1\" class=\"data row2 col1\" >8094</td>\n",
       "      <td id=\"T_2b6fe_row2_col2\" class=\"data row2 col2\" >10</td>\n",
       "      <td id=\"T_2b6fe_row2_col3\" class=\"data row2 col3\" >70,080</td>\n",
       "      <td id=\"T_2b6fe_row2_col4\" class=\"data row2 col4\" >4</td>\n",
       "    </tr>\n",
       "    <tr>\n",
       "      <th id=\"T_2b6fe_level0_row3\" class=\"row_heading level0 row3\" >199</th>\n",
       "      <td id=\"T_2b6fe_row3_col0\" class=\"data row3 col0\" >TOP</td>\n",
       "      <td id=\"T_2b6fe_row3_col1\" class=\"data row3 col1\" >8094</td>\n",
       "      <td id=\"T_2b6fe_row3_col2\" class=\"data row3 col2\" >10</td>\n",
       "      <td id=\"T_2b6fe_row3_col3\" class=\"data row3 col3\" >25,181,677</td>\n",
       "      <td id=\"T_2b6fe_row3_col4\" class=\"data row3 col4\" >4</td>\n",
       "    </tr>\n",
       "    <tr>\n",
       "      <th id=\"T_2b6fe_level0_row4\" class=\"row_heading level0 row4\" >46</th>\n",
       "      <td id=\"T_2b6fe_row4_col0\" class=\"data row4 col0\" >CKP</td>\n",
       "      <td id=\"T_2b6fe_row4_col1\" class=\"data row4 col1\" >8094</td>\n",
       "      <td id=\"T_2b6fe_row4_col2\" class=\"data row4 col2\" >10</td>\n",
       "      <td id=\"T_2b6fe_row4_col3\" class=\"data row4 col3\" >1,177,550</td>\n",
       "      <td id=\"T_2b6fe_row4_col4\" class=\"data row4 col4\" >4</td>\n",
       "    </tr>\n",
       "  </tbody>\n",
       "</table>\n"
      ],
      "text/plain": [
       "<pandas.io.formats.style.Styler at 0x177ad89a900>"
      ]
     },
     "execution_count": 13,
     "metadata": {},
     "output_type": "execute_result"
    }
   ],
   "source": [
    "dfp = pd.read_sql(sql, conlt)\n",
    "dfp[\"Counter\"] = 1\n",
    "dfp_grp = dfp.groupby([\"name\"], as_index=False).sum()\n",
    "dfp_grp = dfp_grp[dfp_grp[\"Counter\"] == 4]\n",
    "dfp_grp.sample(5).style.format(format_dict)"
   ]
  },
  {
   "cell_type": "code",
   "execution_count": 15,
   "metadata": {},
   "outputs": [
    {
     "data": {
      "text/plain": [
       "(224,)"
      ]
     },
     "execution_count": 15,
     "metadata": {},
     "output_type": "execute_result"
    }
   ],
   "source": [
    "dfp.name.unique().shape"
   ]
  },
  {
   "cell_type": "code",
   "execution_count": 17,
   "metadata": {},
   "outputs": [
    {
     "data": {
      "text/plain": [
       "(226, 15)"
      ]
     },
     "execution_count": 17,
     "metadata": {},
     "output_type": "execute_result"
    }
   ],
   "source": [
    "sql = \"\"\"\n",
    "SELECT *\n",
    "FROM stocks\n",
    "\"\"\"\n",
    "stocks = pd.read_sql(sql, conlt)\n",
    "stocks.shape"
   ]
  },
  {
   "cell_type": "code",
   "execution_count": 19,
   "metadata": {},
   "outputs": [
    {
     "data": {
      "text/plain": [
       "(394, 9)"
      ]
     },
     "execution_count": 19,
     "metadata": {},
     "output_type": "execute_result"
    }
   ],
   "source": [
    "sql = \"\"\"\n",
    "SELECT *\n",
    "FROM tickers\n",
    "\"\"\"\n",
    "tickers = pd.read_sql(sql, conlt)\n",
    "tickers.shape"
   ]
  },
  {
   "cell_type": "code",
   "execution_count": 21,
   "metadata": {},
   "outputs": [
    {
     "data": {
      "text/plain": [
       "(222, 7)"
      ]
     },
     "execution_count": 21,
     "metadata": {},
     "output_type": "execute_result"
    }
   ],
   "source": [
    "dfm = pd.merge(dfc_grp, dfp_grp, on=\"name\", suffixes=([\"_c\", \"_p\"]), how=\"inner\")\n",
    "dfm[\"inc_profit\"] = dfm[\"q_amt_c\"] - dfm[\"q_amt_p\"]\n",
    "dfm[\"percent\"] = round(dfm[\"inc_profit\"] / abs(dfm[\"q_amt_p\"]) * 100, 2)\n",
    "dfm[\"year\"] = year\n",
    "dfm[\"quarter\"] = \"Q\" + str(quarter)\n",
    "df_percent = dfm[cols]\n",
    "#df_percent.style.format(format_dict)\n",
    "df_percent.shape"
   ]
  },
  {
   "cell_type": "code",
   "execution_count": 23,
   "metadata": {},
   "outputs": [
    {
     "name": "stdout",
     "output_type": "stream",
     "text": [
      "Rows deleted: 212\n"
     ]
    }
   ],
   "source": [
    "# Create the SQL query with parameter binding\n",
    "sql = text(\"DELETE FROM qt_profits WHERE year = :year AND quarter = :quarter\")\n",
    "\n",
    "# Execute the query with parameters\n",
    "params = {'year': year, 'quarter': f'Q{quarter}'}\n",
    "rp = conlt.execute(sql, params)\n",
    "\n",
    "# Print the number of rows affected\n",
    "print(\"Rows deleted:\", rp.rowcount)"
   ]
  },
  {
   "cell_type": "code",
   "execution_count": 25,
   "metadata": {},
   "outputs": [
    {
     "data": {
      "text/html": [
       "<div>\n",
       "<style scoped>\n",
       "    .dataframe tbody tr th:only-of-type {\n",
       "        vertical-align: middle;\n",
       "    }\n",
       "\n",
       "    .dataframe tbody tr th {\n",
       "        vertical-align: top;\n",
       "    }\n",
       "\n",
       "    .dataframe thead th {\n",
       "        text-align: right;\n",
       "    }\n",
       "</style>\n",
       "<table border=\"1\" class=\"dataframe\">\n",
       "  <thead>\n",
       "    <tr style=\"text-align: right;\">\n",
       "      <th></th>\n",
       "      <th>name</th>\n",
       "      <th>id</th>\n",
       "    </tr>\n",
       "  </thead>\n",
       "  <tbody>\n",
       "    <tr>\n",
       "      <th>316</th>\n",
       "      <td>SVH</td>\n",
       "      <td>490</td>\n",
       "    </tr>\n",
       "    <tr>\n",
       "      <th>345</th>\n",
       "      <td>TNH</td>\n",
       "      <td>548</td>\n",
       "    </tr>\n",
       "    <tr>\n",
       "      <th>22</th>\n",
       "      <td>APCS</td>\n",
       "      <td>27</td>\n",
       "    </tr>\n",
       "    <tr>\n",
       "      <th>120</th>\n",
       "      <td>GFPT</td>\n",
       "      <td>187</td>\n",
       "    </tr>\n",
       "    <tr>\n",
       "      <th>373</th>\n",
       "      <td>UNIQ</td>\n",
       "      <td>599</td>\n",
       "    </tr>\n",
       "  </tbody>\n",
       "</table>\n",
       "</div>"
      ],
      "text/plain": [
       "     name   id\n",
       "316   SVH  490\n",
       "345   TNH  548\n",
       "22   APCS   27\n",
       "120  GFPT  187\n",
       "373  UNIQ  599"
      ]
     },
     "execution_count": 25,
     "metadata": {},
     "output_type": "execute_result"
    }
   ],
   "source": [
    "sql = \"SELECT name, id FROM tickers\"\n",
    "tickers = pd.read_sql(sql, conlt)\n",
    "tickers.sample(5)"
   ]
  },
  {
   "cell_type": "code",
   "execution_count": 27,
   "metadata": {},
   "outputs": [
    {
     "data": {
      "text/plain": [
       "(222, 8)"
      ]
     },
     "execution_count": 27,
     "metadata": {},
     "output_type": "execute_result"
    }
   ],
   "source": [
    "df_ins = pd.merge(df_percent, tickers, on=\"name\", how=\"inner\")\n",
    "#df_ins.style.format(format_dict)\n",
    "df_ins.shape"
   ]
  },
  {
   "cell_type": "code",
   "execution_count": 29,
   "metadata": {},
   "outputs": [
    {
     "data": {
      "text/plain": [
       "222"
      ]
     },
     "execution_count": 29,
     "metadata": {},
     "output_type": "execute_result"
    }
   ],
   "source": [
    "rcds = df_ins.values.tolist()\n",
    "len(rcds)"
   ]
  },
  {
   "cell_type": "code",
   "execution_count": 31,
   "metadata": {},
   "outputs": [],
   "source": [
    "# Convert DataFrame to list of records\n",
    "rcds = df_ins.values.tolist()\n",
    "\n",
    "# Define column names in the same order as values\n",
    "columns = ['name', 'year', 'quarter', 'latest_amt', 'previous_amt', 'inc_amt', 'inc_pct', 'ticker_id']\n",
    "\n",
    "# SQL insert statement with named parameters\n",
    "sql = text(\"\"\"\n",
    "    INSERT INTO qt_profits \n",
    "    (name, year, quarter, latest_amt, previous_amt, inc_amt, inc_pct, ticker_id)\n",
    "    VALUES (:name, :year, :quarter, :latest_amt, :previous_amt, :inc_amt, :inc_pct, :ticker_id)\n",
    "\"\"\")\n",
    "\n",
    "try:\n",
    "    # Execute inserts\n",
    "    for rcd in rcds:\n",
    "        # Convert list to dictionary\n",
    "        params = dict(zip(columns, rcd))\n",
    "        conlt.execute(sql, params)\n",
    "except Exception as e:\n",
    "    raise e"
   ]
  },
  {
   "cell_type": "markdown",
   "metadata": {},
   "source": [
    "### End of loop"
   ]
  },
  {
   "cell_type": "code",
   "execution_count": 34,
   "metadata": {},
   "outputs": [
    {
     "data": {
      "text/plain": [
       "(222, 8)"
      ]
     },
     "execution_count": 34,
     "metadata": {},
     "output_type": "execute_result"
    }
   ],
   "source": [
    "criteria_1 = df_ins.q_amt_c > 440_000\n",
    "#df_ins.loc[criteria_1, cols].style.format(format_dict)\n",
    "df_ins.shape"
   ]
  },
  {
   "cell_type": "code",
   "execution_count": 36,
   "metadata": {},
   "outputs": [
    {
     "data": {
      "text/plain": [
       "(222, 8)"
      ]
     },
     "execution_count": 36,
     "metadata": {},
     "output_type": "execute_result"
    }
   ],
   "source": [
    "criteria_2 = df_ins.q_amt_p > 400_000\n",
    "#df_ins.loc[criteria_2, cols].style.format(format_dict)\n",
    "df_ins.shape"
   ]
  },
  {
   "cell_type": "code",
   "execution_count": 38,
   "metadata": {},
   "outputs": [
    {
     "data": {
      "text/plain": [
       "(222, 8)"
      ]
     },
     "execution_count": 38,
     "metadata": {},
     "output_type": "execute_result"
    }
   ],
   "source": [
    "criteria_3 = df_ins.percent > 10.00\n",
    "#df_ins.loc[criteria_3, cols].style.format(format_dict)\n",
    "df_ins.shape"
   ]
  },
  {
   "cell_type": "code",
   "execution_count": 40,
   "metadata": {},
   "outputs": [
    {
     "data": {
      "text/plain": [
       "(222, 8)"
      ]
     },
     "execution_count": 40,
     "metadata": {},
     "output_type": "execute_result"
    }
   ],
   "source": [
    "df_ins_criteria = criteria_1 & criteria_2 & criteria_3\n",
    "#df_ins.loc[df_ins_criteria, cols].style.format(format_dict)\n",
    "df_ins.shape"
   ]
  },
  {
   "cell_type": "code",
   "execution_count": 42,
   "metadata": {},
   "outputs": [
    {
     "data": {
      "text/html": [
       "<style type=\"text/css\">\n",
       "</style>\n",
       "<table id=\"T_1d350\">\n",
       "  <thead>\n",
       "    <tr>\n",
       "      <th class=\"blank level0\" >&nbsp;</th>\n",
       "      <th id=\"T_1d350_level0_col0\" class=\"col_heading level0 col0\" >name</th>\n",
       "      <th id=\"T_1d350_level0_col1\" class=\"col_heading level0 col1\" >year</th>\n",
       "      <th id=\"T_1d350_level0_col2\" class=\"col_heading level0 col2\" >quarter</th>\n",
       "      <th id=\"T_1d350_level0_col3\" class=\"col_heading level0 col3\" >q_amt_c</th>\n",
       "      <th id=\"T_1d350_level0_col4\" class=\"col_heading level0 col4\" >q_amt_p</th>\n",
       "      <th id=\"T_1d350_level0_col5\" class=\"col_heading level0 col5\" >inc_profit</th>\n",
       "      <th id=\"T_1d350_level0_col6\" class=\"col_heading level0 col6\" >percent</th>\n",
       "      <th id=\"T_1d350_level0_col7\" class=\"col_heading level0 col7\" >id</th>\n",
       "    </tr>\n",
       "  </thead>\n",
       "  <tbody>\n",
       "    <tr>\n",
       "      <th id=\"T_1d350_level0_row0\" class=\"row_heading level0 row0\" >144</th>\n",
       "      <td id=\"T_1d350_row0_col0\" class=\"data row0 col0\" >RCL</td>\n",
       "      <td id=\"T_1d350_row0_col1\" class=\"data row0 col1\" >2024</td>\n",
       "      <td id=\"T_1d350_row0_col2\" class=\"data row0 col2\" >Q3</td>\n",
       "      <td id=\"T_1d350_row0_col3\" class=\"data row0 col3\" >5,280,406</td>\n",
       "      <td id=\"T_1d350_row0_col4\" class=\"data row0 col4\" >1,774,094</td>\n",
       "      <td id=\"T_1d350_row0_col5\" class=\"data row0 col5\" >3,506,312</td>\n",
       "      <td id=\"T_1d350_row0_col6\" class=\"data row0 col6\" >197.64%</td>\n",
       "      <td id=\"T_1d350_row0_col7\" class=\"data row0 col7\" >396</td>\n",
       "    </tr>\n",
       "    <tr>\n",
       "      <th id=\"T_1d350_level0_row1\" class=\"row_heading level0 row1\" >50</th>\n",
       "      <td id=\"T_1d350_row1_col0\" class=\"data row1 col0\" >CPF</td>\n",
       "      <td id=\"T_1d350_row1_col1\" class=\"data row1 col1\" >2024</td>\n",
       "      <td id=\"T_1d350_row1_col2\" class=\"data row1 col2\" >Q3</td>\n",
       "      <td id=\"T_1d350_row1_col3\" class=\"data row1 col3\" >15,506,673</td>\n",
       "      <td id=\"T_1d350_row1_col4\" class=\"data row1 col4\" >6,386,787</td>\n",
       "      <td id=\"T_1d350_row1_col5\" class=\"data row1 col5\" >9,119,886</td>\n",
       "      <td id=\"T_1d350_row1_col6\" class=\"data row1 col6\" >142.79%</td>\n",
       "      <td id=\"T_1d350_row1_col7\" class=\"data row1 col7\" >117</td>\n",
       "    </tr>\n",
       "    <tr>\n",
       "      <th id=\"T_1d350_level0_row2\" class=\"row_heading level0 row2\" >146</th>\n",
       "      <td id=\"T_1d350_row2_col0\" class=\"data row2 col0\" >ROJNA</td>\n",
       "      <td id=\"T_1d350_row2_col1\" class=\"data row2 col1\" >2024</td>\n",
       "      <td id=\"T_1d350_row2_col2\" class=\"data row2 col2\" >Q3</td>\n",
       "      <td id=\"T_1d350_row2_col3\" class=\"data row2 col3\" >3,647,560</td>\n",
       "      <td id=\"T_1d350_row2_col4\" class=\"data row2 col4\" >1,652,478</td>\n",
       "      <td id=\"T_1d350_row2_col5\" class=\"data row2 col5\" >1,995,082</td>\n",
       "      <td id=\"T_1d350_row2_col6\" class=\"data row2 col6\" >120.73%</td>\n",
       "      <td id=\"T_1d350_row2_col7\" class=\"data row2 col7\" >404</td>\n",
       "    </tr>\n",
       "    <tr>\n",
       "      <th id=\"T_1d350_level0_row3\" class=\"row_heading level0 row3\" >181</th>\n",
       "      <td id=\"T_1d350_row3_col0\" class=\"data row3 col0\" >TASCO</td>\n",
       "      <td id=\"T_1d350_row3_col1\" class=\"data row3 col1\" >2024</td>\n",
       "      <td id=\"T_1d350_row3_col2\" class=\"data row3 col2\" >Q3</td>\n",
       "      <td id=\"T_1d350_row3_col3\" class=\"data row3 col3\" >1,073,061</td>\n",
       "      <td id=\"T_1d350_row3_col4\" class=\"data row3 col4\" >540,207</td>\n",
       "      <td id=\"T_1d350_row3_col5\" class=\"data row3 col5\" >532,854</td>\n",
       "      <td id=\"T_1d350_row3_col6\" class=\"data row3 col6\" >98.64%</td>\n",
       "      <td id=\"T_1d350_row3_col7\" class=\"data row3 col7\" >502</td>\n",
       "    </tr>\n",
       "    <tr>\n",
       "      <th id=\"T_1d350_level0_row4\" class=\"row_heading level0 row4\" >45</th>\n",
       "      <td id=\"T_1d350_row4_col0\" class=\"data row4 col0\" >CK</td>\n",
       "      <td id=\"T_1d350_row4_col1\" class=\"data row4 col1\" >2024</td>\n",
       "      <td id=\"T_1d350_row4_col2\" class=\"data row4 col2\" >Q3</td>\n",
       "      <td id=\"T_1d350_row4_col3\" class=\"data row4 col3\" >1,773,101</td>\n",
       "      <td id=\"T_1d350_row4_col4\" class=\"data row4 col4\" >1,406,435</td>\n",
       "      <td id=\"T_1d350_row4_col5\" class=\"data row4 col5\" >366,666</td>\n",
       "      <td id=\"T_1d350_row4_col6\" class=\"data row4 col6\" >26.07%</td>\n",
       "      <td id=\"T_1d350_row4_col7\" class=\"data row4 col7\" >106</td>\n",
       "    </tr>\n",
       "  </tbody>\n",
       "</table>\n"
      ],
      "text/plain": [
       "<pandas.io.formats.style.Styler at 0x177af3fd8e0>"
      ]
     },
     "execution_count": 42,
     "metadata": {},
     "output_type": "execute_result"
    }
   ],
   "source": [
    "df_ins[df_ins_criteria].sort_values(by=[\"percent\"], ascending=[False]).head(5).style.format(format_dict)"
   ]
  },
  {
   "cell_type": "code",
   "execution_count": 44,
   "metadata": {},
   "outputs": [
    {
     "data": {
      "text/html": [
       "<style type=\"text/css\">\n",
       "</style>\n",
       "<table id=\"T_0a395\">\n",
       "  <thead>\n",
       "    <tr>\n",
       "      <th class=\"blank level0\" >&nbsp;</th>\n",
       "      <th id=\"T_0a395_level0_col0\" class=\"col_heading level0 col0\" >name</th>\n",
       "      <th id=\"T_0a395_level0_col1\" class=\"col_heading level0 col1\" >year</th>\n",
       "      <th id=\"T_0a395_level0_col2\" class=\"col_heading level0 col2\" >quarter</th>\n",
       "      <th id=\"T_0a395_level0_col3\" class=\"col_heading level0 col3\" >q_amt_c</th>\n",
       "      <th id=\"T_0a395_level0_col4\" class=\"col_heading level0 col4\" >q_amt_p</th>\n",
       "      <th id=\"T_0a395_level0_col5\" class=\"col_heading level0 col5\" >inc_profit</th>\n",
       "      <th id=\"T_0a395_level0_col6\" class=\"col_heading level0 col6\" >percent</th>\n",
       "      <th id=\"T_0a395_level0_col7\" class=\"col_heading level0 col7\" >id</th>\n",
       "    </tr>\n",
       "  </thead>\n",
       "  <tbody>\n",
       "    <tr>\n",
       "      <th id=\"T_0a395_level0_row0\" class=\"row_heading level0 row0\" >9</th>\n",
       "      <td id=\"T_0a395_row0_col0\" class=\"data row0 col0\" >AMATA</td>\n",
       "      <td id=\"T_0a395_row0_col1\" class=\"data row0 col1\" >2024</td>\n",
       "      <td id=\"T_0a395_row0_col2\" class=\"data row0 col2\" >Q3</td>\n",
       "      <td id=\"T_0a395_row0_col3\" class=\"data row0 col3\" >2,142,951</td>\n",
       "      <td id=\"T_0a395_row0_col4\" class=\"data row0 col4\" >1,774,219</td>\n",
       "      <td id=\"T_0a395_row0_col5\" class=\"data row0 col5\" >368,732</td>\n",
       "      <td id=\"T_0a395_row0_col6\" class=\"data row0 col6\" >20.78%</td>\n",
       "      <td id=\"T_0a395_row0_col7\" class=\"data row0 col7\" >21</td>\n",
       "    </tr>\n",
       "    <tr>\n",
       "      <th id=\"T_0a395_level0_row1\" class=\"row_heading level0 row1\" >13</th>\n",
       "      <td id=\"T_0a395_row1_col0\" class=\"data row1 col0\" >ASIAN</td>\n",
       "      <td id=\"T_0a395_row1_col1\" class=\"data row1 col1\" >2024</td>\n",
       "      <td id=\"T_0a395_row1_col2\" class=\"data row1 col2\" >Q3</td>\n",
       "      <td id=\"T_0a395_row1_col3\" class=\"data row1 col3\" >815,672</td>\n",
       "      <td id=\"T_0a395_row1_col4\" class=\"data row1 col4\" >736,167</td>\n",
       "      <td id=\"T_0a395_row1_col5\" class=\"data row1 col5\" >79,505</td>\n",
       "      <td id=\"T_0a395_row1_col6\" class=\"data row1 col6\" >10.80%</td>\n",
       "      <td id=\"T_0a395_row1_col7\" class=\"data row1 col7\" >36</td>\n",
       "    </tr>\n",
       "    <tr>\n",
       "      <th id=\"T_0a395_level0_row2\" class=\"row_heading level0 row2\" >16</th>\n",
       "      <td id=\"T_0a395_row2_col0\" class=\"data row2 col0\" >ASW</td>\n",
       "      <td id=\"T_0a395_row2_col1\" class=\"data row2 col1\" >2024</td>\n",
       "      <td id=\"T_0a395_row2_col2\" class=\"data row2 col2\" >Q3</td>\n",
       "      <td id=\"T_0a395_row2_col3\" class=\"data row2 col3\" >1,783,985</td>\n",
       "      <td id=\"T_0a395_row2_col4\" class=\"data row2 col4\" >1,501,832</td>\n",
       "      <td id=\"T_0a395_row2_col5\" class=\"data row2 col5\" >282,153</td>\n",
       "      <td id=\"T_0a395_row2_col6\" class=\"data row2 col6\" >18.79%</td>\n",
       "      <td id=\"T_0a395_row2_col7\" class=\"data row2 col7\" >728</td>\n",
       "    </tr>\n",
       "    <tr>\n",
       "      <th id=\"T_0a395_level0_row3\" class=\"row_heading level0 row3\" >45</th>\n",
       "      <td id=\"T_0a395_row3_col0\" class=\"data row3 col0\" >CK</td>\n",
       "      <td id=\"T_0a395_row3_col1\" class=\"data row3 col1\" >2024</td>\n",
       "      <td id=\"T_0a395_row3_col2\" class=\"data row3 col2\" >Q3</td>\n",
       "      <td id=\"T_0a395_row3_col3\" class=\"data row3 col3\" >1,773,101</td>\n",
       "      <td id=\"T_0a395_row3_col4\" class=\"data row3 col4\" >1,406,435</td>\n",
       "      <td id=\"T_0a395_row3_col5\" class=\"data row3 col5\" >366,666</td>\n",
       "      <td id=\"T_0a395_row3_col6\" class=\"data row3 col6\" >26.07%</td>\n",
       "      <td id=\"T_0a395_row3_col7\" class=\"data row3 col7\" >106</td>\n",
       "    </tr>\n",
       "    <tr>\n",
       "      <th id=\"T_0a395_level0_row4\" class=\"row_heading level0 row4\" >46</th>\n",
       "      <td id=\"T_0a395_row4_col0\" class=\"data row4 col0\" >CKP</td>\n",
       "      <td id=\"T_0a395_row4_col1\" class=\"data row4 col1\" >2024</td>\n",
       "      <td id=\"T_0a395_row4_col2\" class=\"data row4 col2\" >Q3</td>\n",
       "      <td id=\"T_0a395_row4_col3\" class=\"data row4 col3\" >1,346,529</td>\n",
       "      <td id=\"T_0a395_row4_col4\" class=\"data row4 col4\" >1,177,550</td>\n",
       "      <td id=\"T_0a395_row4_col5\" class=\"data row4 col5\" >168,979</td>\n",
       "      <td id=\"T_0a395_row4_col6\" class=\"data row4 col6\" >14.35%</td>\n",
       "      <td id=\"T_0a395_row4_col7\" class=\"data row4 col7\" >107</td>\n",
       "    </tr>\n",
       "  </tbody>\n",
       "</table>\n"
      ],
      "text/plain": [
       "<pandas.io.formats.style.Styler at 0x177ad886d50>"
      ]
     },
     "execution_count": 44,
     "metadata": {},
     "output_type": "execute_result"
    }
   ],
   "source": [
    "df_ins[df_ins_criteria].sort_values(by=[\"name\"], ascending=[True]).head(5).style.format(format_dict)"
   ]
  },
  {
   "cell_type": "code",
   "execution_count": 46,
   "metadata": {},
   "outputs": [
    {
     "data": {
      "text/html": [
       "<style type=\"text/css\">\n",
       "</style>\n",
       "<table id=\"T_14773\">\n",
       "  <thead>\n",
       "    <tr>\n",
       "      <th class=\"blank level0\" >&nbsp;</th>\n",
       "      <th id=\"T_14773_level0_col0\" class=\"col_heading level0 col0\" >name</th>\n",
       "      <th id=\"T_14773_level0_col1\" class=\"col_heading level0 col1\" >year</th>\n",
       "      <th id=\"T_14773_level0_col2\" class=\"col_heading level0 col2\" >quarter</th>\n",
       "      <th id=\"T_14773_level0_col3\" class=\"col_heading level0 col3\" >q_amt_c</th>\n",
       "      <th id=\"T_14773_level0_col4\" class=\"col_heading level0 col4\" >q_amt_p</th>\n",
       "      <th id=\"T_14773_level0_col5\" class=\"col_heading level0 col5\" >inc_profit</th>\n",
       "      <th id=\"T_14773_level0_col6\" class=\"col_heading level0 col6\" >percent</th>\n",
       "      <th id=\"T_14773_level0_col7\" class=\"col_heading level0 col7\" >id</th>\n",
       "    </tr>\n",
       "  </thead>\n",
       "  <tbody>\n",
       "    <tr>\n",
       "      <th id=\"T_14773_level0_row0\" class=\"row_heading level0 row0\" >9</th>\n",
       "      <td id=\"T_14773_row0_col0\" class=\"data row0 col0\" >AMATA</td>\n",
       "      <td id=\"T_14773_row0_col1\" class=\"data row0 col1\" >2024</td>\n",
       "      <td id=\"T_14773_row0_col2\" class=\"data row0 col2\" >Q3</td>\n",
       "      <td id=\"T_14773_row0_col3\" class=\"data row0 col3\" >2,142,951</td>\n",
       "      <td id=\"T_14773_row0_col4\" class=\"data row0 col4\" >1,774,219</td>\n",
       "      <td id=\"T_14773_row0_col5\" class=\"data row0 col5\" >368,732</td>\n",
       "      <td id=\"T_14773_row0_col6\" class=\"data row0 col6\" >20.78%</td>\n",
       "      <td id=\"T_14773_row0_col7\" class=\"data row0 col7\" >21</td>\n",
       "    </tr>\n",
       "    <tr>\n",
       "      <th id=\"T_14773_level0_row1\" class=\"row_heading level0 row1\" >13</th>\n",
       "      <td id=\"T_14773_row1_col0\" class=\"data row1 col0\" >ASIAN</td>\n",
       "      <td id=\"T_14773_row1_col1\" class=\"data row1 col1\" >2024</td>\n",
       "      <td id=\"T_14773_row1_col2\" class=\"data row1 col2\" >Q3</td>\n",
       "      <td id=\"T_14773_row1_col3\" class=\"data row1 col3\" >815,672</td>\n",
       "      <td id=\"T_14773_row1_col4\" class=\"data row1 col4\" >736,167</td>\n",
       "      <td id=\"T_14773_row1_col5\" class=\"data row1 col5\" >79,505</td>\n",
       "      <td id=\"T_14773_row1_col6\" class=\"data row1 col6\" >10.80%</td>\n",
       "      <td id=\"T_14773_row1_col7\" class=\"data row1 col7\" >36</td>\n",
       "    </tr>\n",
       "    <tr>\n",
       "      <th id=\"T_14773_level0_row2\" class=\"row_heading level0 row2\" >16</th>\n",
       "      <td id=\"T_14773_row2_col0\" class=\"data row2 col0\" >ASW</td>\n",
       "      <td id=\"T_14773_row2_col1\" class=\"data row2 col1\" >2024</td>\n",
       "      <td id=\"T_14773_row2_col2\" class=\"data row2 col2\" >Q3</td>\n",
       "      <td id=\"T_14773_row2_col3\" class=\"data row2 col3\" >1,783,985</td>\n",
       "      <td id=\"T_14773_row2_col4\" class=\"data row2 col4\" >1,501,832</td>\n",
       "      <td id=\"T_14773_row2_col5\" class=\"data row2 col5\" >282,153</td>\n",
       "      <td id=\"T_14773_row2_col6\" class=\"data row2 col6\" >18.79%</td>\n",
       "      <td id=\"T_14773_row2_col7\" class=\"data row2 col7\" >728</td>\n",
       "    </tr>\n",
       "    <tr>\n",
       "      <th id=\"T_14773_level0_row3\" class=\"row_heading level0 row3\" >45</th>\n",
       "      <td id=\"T_14773_row3_col0\" class=\"data row3 col0\" >CK</td>\n",
       "      <td id=\"T_14773_row3_col1\" class=\"data row3 col1\" >2024</td>\n",
       "      <td id=\"T_14773_row3_col2\" class=\"data row3 col2\" >Q3</td>\n",
       "      <td id=\"T_14773_row3_col3\" class=\"data row3 col3\" >1,773,101</td>\n",
       "      <td id=\"T_14773_row3_col4\" class=\"data row3 col4\" >1,406,435</td>\n",
       "      <td id=\"T_14773_row3_col5\" class=\"data row3 col5\" >366,666</td>\n",
       "      <td id=\"T_14773_row3_col6\" class=\"data row3 col6\" >26.07%</td>\n",
       "      <td id=\"T_14773_row3_col7\" class=\"data row3 col7\" >106</td>\n",
       "    </tr>\n",
       "    <tr>\n",
       "      <th id=\"T_14773_level0_row4\" class=\"row_heading level0 row4\" >46</th>\n",
       "      <td id=\"T_14773_row4_col0\" class=\"data row4 col0\" >CKP</td>\n",
       "      <td id=\"T_14773_row4_col1\" class=\"data row4 col1\" >2024</td>\n",
       "      <td id=\"T_14773_row4_col2\" class=\"data row4 col2\" >Q3</td>\n",
       "      <td id=\"T_14773_row4_col3\" class=\"data row4 col3\" >1,346,529</td>\n",
       "      <td id=\"T_14773_row4_col4\" class=\"data row4 col4\" >1,177,550</td>\n",
       "      <td id=\"T_14773_row4_col5\" class=\"data row4 col5\" >168,979</td>\n",
       "      <td id=\"T_14773_row4_col6\" class=\"data row4 col6\" >14.35%</td>\n",
       "      <td id=\"T_14773_row4_col7\" class=\"data row4 col7\" >107</td>\n",
       "    </tr>\n",
       "  </tbody>\n",
       "</table>\n"
      ],
      "text/plain": [
       "<pandas.io.formats.style.Styler at 0x177af4357f0>"
      ]
     },
     "execution_count": 46,
     "metadata": {},
     "output_type": "execute_result"
    }
   ],
   "source": [
    "df_ins[df_ins_criteria].sort_values(by=[\"name\"], ascending=[True]).head(5).style.format(format_dict)"
   ]
  },
  {
   "cell_type": "code",
   "execution_count": 48,
   "metadata": {},
   "outputs": [
    {
     "name": "stdout",
     "output_type": "stream",
     "text": [
      "\n",
      "SELECT name, COUNT(*) AS 'Nbr. of Group of 4 Quarters'\n",
      "FROM qt_profits\n",
      "GROUP BY name\n",
      "HAVING COUNT(*) = 2\n",
      "ORDER BY COUNT(*) DESC, name\n",
      "\n"
     ]
    },
    {
     "data": {
      "text/html": [
       "<div>\n",
       "<style scoped>\n",
       "    .dataframe tbody tr th:only-of-type {\n",
       "        vertical-align: middle;\n",
       "    }\n",
       "\n",
       "    .dataframe tbody tr th {\n",
       "        vertical-align: top;\n",
       "    }\n",
       "\n",
       "    .dataframe thead th {\n",
       "        text-align: right;\n",
       "    }\n",
       "</style>\n",
       "<table border=\"1\" class=\"dataframe\">\n",
       "  <thead>\n",
       "    <tr style=\"text-align: right;\">\n",
       "      <th></th>\n",
       "      <th>name</th>\n",
       "      <th>Nbr. of Group of 4 Quarters</th>\n",
       "    </tr>\n",
       "  </thead>\n",
       "  <tbody>\n",
       "    <tr>\n",
       "      <th>0</th>\n",
       "      <td>BAT-3K</td>\n",
       "      <td>2</td>\n",
       "    </tr>\n",
       "  </tbody>\n",
       "</table>\n",
       "</div>"
      ],
      "text/plain": [
       "     name  Nbr. of Group of 4 Quarters\n",
       "0  BAT-3K                            2"
      ]
     },
     "execution_count": 48,
     "metadata": {},
     "output_type": "execute_result"
    }
   ],
   "source": [
    "sql = \"\"\"\n",
    "SELECT name, COUNT(*) AS 'Nbr. of Group of 4 Quarters'\n",
    "FROM qt_profits\n",
    "GROUP BY name\n",
    "HAVING COUNT(*) = 2\n",
    "ORDER BY COUNT(*) DESC, name\n",
    "\"\"\"\n",
    "print(sql)\n",
    "\n",
    "tmp = pd.read_sql(sql, conlt)\n",
    "tmp"
   ]
  },
  {
   "cell_type": "code",
   "execution_count": 50,
   "metadata": {},
   "outputs": [],
   "source": [
    "conlt.commit()\n",
    "conlt.close()"
   ]
  },
  {
   "cell_type": "code",
   "execution_count": null,
   "metadata": {},
   "outputs": [],
   "source": []
  }
 ],
 "metadata": {
  "anaconda-cloud": {},
  "kernelspec": {
   "display_name": "Python 3 (ipykernel)",
   "language": "python",
   "name": "python3"
  },
  "language_info": {
   "codemirror_mode": {
    "name": "ipython",
    "version": 3
   },
   "file_extension": ".py",
   "mimetype": "text/x-python",
   "name": "python",
   "nbconvert_exporter": "python",
   "pygments_lexer": "ipython3",
   "version": "3.12.3"
  }
 },
 "nbformat": 4,
 "nbformat_minor": 4
}
