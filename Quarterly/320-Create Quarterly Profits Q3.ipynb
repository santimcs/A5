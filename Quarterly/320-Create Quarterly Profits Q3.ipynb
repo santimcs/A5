{
 "cells": [
  {
   "cell_type": "markdown",
   "metadata": {},
   "source": [
    "### Restart and Run All Cells"
   ]
  },
  {
   "cell_type": "code",
   "execution_count": 2,
   "metadata": {},
   "outputs": [
    {
     "name": "stdout",
     "output_type": "stream",
     "text": [
      "2025-08-16 16:25:41\n"
     ]
    }
   ],
   "source": [
    "import pandas as pd\n",
    "from datetime import date, timedelta, datetime\n",
    "from sqlalchemy import create_engine, text\n",
    "engine = create_engine(\"sqlite:///c:\\\\ruby\\\\portlt\\\\db\\\\development.sqlite3\")\n",
    "conlt = engine.connect()\n",
    "year = 2025\n",
    "quarter = 3\n",
    "current_time = datetime.now()\n",
    "formatted_time = current_time.strftime(\"%Y-%m-%d %H:%M:%S\")\n",
    "print(formatted_time )"
   ]
  },
  {
   "cell_type": "code",
   "execution_count": 3,
   "metadata": {},
   "outputs": [],
   "source": [
    "cols = 'name year quarter q_amt_c q_amt_p inc_profit percent'.split()\n",
    "\n",
    "format_dict = {\n",
    "                'q_amt':'{:,}','q_amt_c':'{:,}','q_amt_p':'{:,}','inc_profit':'{:,}',\n",
    "                'yoy_gain':'{:,}','acc_gain':'{:,}',   \n",
    "                'latest_amt':'{:,}','previous_amt':'{:,}','inc_amt':'{:,}',\n",
    "                'q_eps':'{:.4f}','y_eps':'{:.4f}','aq_eps':'{:.4f}','ay_eps':'{:.4f}',\n",
    "                'percent':'{:.2f}%','inc_pct':'{:.2f}%'\n",
    "              }"
   ]
  },
  {
   "cell_type": "code",
   "execution_count": 4,
   "metadata": {},
   "outputs": [
    {
     "name": "stdout",
     "output_type": "stream",
     "text": [
      "\n",
      "SELECT name,year,quarter,q_amt \n",
      "FROM epss \n",
      "WHERE (year = 2025 AND quarter <= 3) \n",
      "OR (year = 2025-1 AND quarter >= 3+1)\n",
      "ORDER BY year DESC, quarter DESC\n",
      "\n"
     ]
    }
   ],
   "source": [
    "sql = \"\"\"\n",
    "SELECT name,year,quarter,q_amt \n",
    "FROM epss \n",
    "WHERE (year = %s AND quarter <= %s) \n",
    "OR (year = %s-1 AND quarter >= %s+1)\n",
    "ORDER BY year DESC, quarter DESC\n",
    "\"\"\"\n",
    "sql = sql % (year, quarter, year, quarter)\n",
    "print(sql)"
   ]
  },
  {
   "cell_type": "code",
   "execution_count": 5,
   "metadata": {},
   "outputs": [
    {
     "data": {
      "text/plain": [
       "(5, 5)"
      ]
     },
     "execution_count": 5,
     "metadata": {},
     "output_type": "execute_result"
    }
   ],
   "source": [
    "dfc = pd.read_sql(sql, conlt)\n",
    "dfc[\"Counter\"] = 1\n",
    "dfc_grp = dfc.groupby([\"name\"], as_index=False).sum()\n",
    "dfc_grp = dfc_grp[dfc_grp[\"Counter\"] == 4]\n",
    "dfc_grp.shape"
   ]
  },
  {
   "cell_type": "code",
   "execution_count": 6,
   "metadata": {},
   "outputs": [
    {
     "name": "stdout",
     "output_type": "stream",
     "text": [
      "\n",
      "SELECT name,year,quarter,q_amt \n",
      "FROM epss \n",
      "WHERE (year = 2025 AND quarter <= 3-1) \n",
      "OR (year = 2025-1 AND quarter >= 3) \n",
      "ORDER BY year DESC, quarter DESC\n"
     ]
    }
   ],
   "source": [
    "sql = \"\"\"\n",
    "SELECT name,year,quarter,q_amt \n",
    "FROM epss \n",
    "WHERE (year = %s AND quarter <= %s-1) \n",
    "OR (year = %s-1 AND quarter >= %s) \n",
    "ORDER BY year DESC, quarter DESC\"\"\"\n",
    "sql = sql % (year, quarter, year, quarter)\n",
    "print(sql)"
   ]
  },
  {
   "cell_type": "code",
   "execution_count": 7,
   "metadata": {},
   "outputs": [
    {
     "data": {
      "text/html": [
       "<style type=\"text/css\">\n",
       "</style>\n",
       "<table id=\"T_5909f\">\n",
       "  <thead>\n",
       "    <tr>\n",
       "      <th class=\"blank level0\" >&nbsp;</th>\n",
       "      <th id=\"T_5909f_level0_col0\" class=\"col_heading level0 col0\" >name</th>\n",
       "      <th id=\"T_5909f_level0_col1\" class=\"col_heading level0 col1\" >year</th>\n",
       "      <th id=\"T_5909f_level0_col2\" class=\"col_heading level0 col2\" >quarter</th>\n",
       "      <th id=\"T_5909f_level0_col3\" class=\"col_heading level0 col3\" >q_amt</th>\n",
       "      <th id=\"T_5909f_level0_col4\" class=\"col_heading level0 col4\" >Counter</th>\n",
       "    </tr>\n",
       "  </thead>\n",
       "  <tbody>\n",
       "    <tr>\n",
       "      <th id=\"T_5909f_level0_row0\" class=\"row_heading level0 row0\" >178</th>\n",
       "      <td id=\"T_5909f_row0_col0\" class=\"data row0 col0\" >SUPEREIF</td>\n",
       "      <td id=\"T_5909f_row0_col1\" class=\"data row0 col1\" >8098</td>\n",
       "      <td id=\"T_5909f_row0_col2\" class=\"data row0 col2\" >10</td>\n",
       "      <td id=\"T_5909f_row0_col3\" class=\"data row0 col3\" >183,347</td>\n",
       "      <td id=\"T_5909f_row0_col4\" class=\"data row0 col4\" >4</td>\n",
       "    </tr>\n",
       "    <tr>\n",
       "      <th id=\"T_5909f_level0_row1\" class=\"row_heading level0 row1\" >95</th>\n",
       "      <td id=\"T_5909f_row1_col0\" class=\"data row1 col0\" >JMT</td>\n",
       "      <td id=\"T_5909f_row1_col1\" class=\"data row1 col1\" >8098</td>\n",
       "      <td id=\"T_5909f_row1_col2\" class=\"data row1 col2\" >10</td>\n",
       "      <td id=\"T_5909f_row1_col3\" class=\"data row1 col3\" >1,406,577</td>\n",
       "      <td id=\"T_5909f_row1_col4\" class=\"data row1 col4\" >4</td>\n",
       "    </tr>\n",
       "    <tr>\n",
       "      <th id=\"T_5909f_level0_row2\" class=\"row_heading level0 row2\" >209</th>\n",
       "      <td id=\"T_5909f_row2_col0\" class=\"data row2 col0\" >TU</td>\n",
       "      <td id=\"T_5909f_row2_col1\" class=\"data row2 col1\" >8098</td>\n",
       "      <td id=\"T_5909f_row2_col2\" class=\"data row2 col2\" >10</td>\n",
       "      <td id=\"T_5909f_row2_col3\" class=\"data row2 col3\" >4,905,030</td>\n",
       "      <td id=\"T_5909f_row2_col4\" class=\"data row2 col4\" >4</td>\n",
       "    </tr>\n",
       "    <tr>\n",
       "      <th id=\"T_5909f_level0_row3\" class=\"row_heading level0 row3\" >174</th>\n",
       "      <td id=\"T_5909f_row3_col0\" class=\"data row3 col0\" >STA</td>\n",
       "      <td id=\"T_5909f_row3_col1\" class=\"data row3 col1\" >8098</td>\n",
       "      <td id=\"T_5909f_row3_col2\" class=\"data row3 col2\" >10</td>\n",
       "      <td id=\"T_5909f_row3_col3\" class=\"data row3 col3\" >1,273,527</td>\n",
       "      <td id=\"T_5909f_row3_col4\" class=\"data row3 col4\" >4</td>\n",
       "    </tr>\n",
       "    <tr>\n",
       "      <th id=\"T_5909f_level0_row4\" class=\"row_heading level0 row4\" >58</th>\n",
       "      <td id=\"T_5909f_row4_col0\" class=\"data row4 col0\" >DELTA</td>\n",
       "      <td id=\"T_5909f_row4_col1\" class=\"data row4 col1\" >8098</td>\n",
       "      <td id=\"T_5909f_row4_col2\" class=\"data row4 col2\" >10</td>\n",
       "      <td id=\"T_5909f_row4_col3\" class=\"data row4 col3\" >18,183,229</td>\n",
       "      <td id=\"T_5909f_row4_col4\" class=\"data row4 col4\" >4</td>\n",
       "    </tr>\n",
       "  </tbody>\n",
       "</table>\n"
      ],
      "text/plain": [
       "<pandas.io.formats.style.Styler at 0x2492152dbe0>"
      ]
     },
     "execution_count": 7,
     "metadata": {},
     "output_type": "execute_result"
    }
   ],
   "source": [
    "dfp = pd.read_sql(sql, conlt)\n",
    "dfp[\"Counter\"] = 1\n",
    "dfp_grp = dfp.groupby([\"name\"], as_index=False).sum()\n",
    "dfp_grp = dfp_grp[dfp_grp[\"Counter\"] == 4]\n",
    "dfp_grp.sample(5).style.format(format_dict)"
   ]
  },
  {
   "cell_type": "code",
   "execution_count": 8,
   "metadata": {},
   "outputs": [
    {
     "data": {
      "text/plain": [
       "(222,)"
      ]
     },
     "execution_count": 8,
     "metadata": {},
     "output_type": "execute_result"
    }
   ],
   "source": [
    "dfp.name.unique().shape"
   ]
  },
  {
   "cell_type": "code",
   "execution_count": 9,
   "metadata": {},
   "outputs": [
    {
     "data": {
      "text/plain": [
       "(226, 15)"
      ]
     },
     "execution_count": 9,
     "metadata": {},
     "output_type": "execute_result"
    }
   ],
   "source": [
    "sql = \"\"\"\n",
    "SELECT *\n",
    "FROM stocks\n",
    "\"\"\"\n",
    "stocks = pd.read_sql(sql, conlt)\n",
    "stocks.shape"
   ]
  },
  {
   "cell_type": "code",
   "execution_count": 10,
   "metadata": {},
   "outputs": [
    {
     "data": {
      "text/plain": [
       "(394, 9)"
      ]
     },
     "execution_count": 10,
     "metadata": {},
     "output_type": "execute_result"
    }
   ],
   "source": [
    "sql = \"\"\"\n",
    "SELECT *\n",
    "FROM tickers\n",
    "\"\"\"\n",
    "tickers = pd.read_sql(sql, conlt)\n",
    "tickers.shape"
   ]
  },
  {
   "cell_type": "code",
   "execution_count": 11,
   "metadata": {},
   "outputs": [
    {
     "data": {
      "text/plain": [
       "(5, 7)"
      ]
     },
     "execution_count": 11,
     "metadata": {},
     "output_type": "execute_result"
    }
   ],
   "source": [
    "dfm = pd.merge(dfc_grp, dfp_grp, on=\"name\", suffixes=([\"_c\", \"_p\"]), how=\"inner\")\n",
    "dfm[\"inc_profit\"] = dfm[\"q_amt_c\"] - dfm[\"q_amt_p\"]\n",
    "dfm[\"percent\"] = round(dfm[\"inc_profit\"] / abs(dfm[\"q_amt_p\"]) * 100, 2)\n",
    "dfm[\"year\"] = year\n",
    "dfm[\"quarter\"] = \"Q\" + str(quarter)\n",
    "df_percent = dfm[cols]\n",
    "#df_percent.style.format(format_dict)\n",
    "df_percent.shape"
   ]
  },
  {
   "cell_type": "code",
   "execution_count": 12,
   "metadata": {},
   "outputs": [
    {
     "name": "stdout",
     "output_type": "stream",
     "text": [
      "Rows deleted: 0\n"
     ]
    }
   ],
   "source": [
    "# Create the SQL query with parameter binding\n",
    "sql = text(\"DELETE FROM qt_profits WHERE year = :year AND quarter = :quarter\")\n",
    "\n",
    "# Execute the query with parameters\n",
    "params = {'year': year, 'quarter': f'Q{quarter}'}\n",
    "rp = conlt.execute(sql, params)\n",
    "\n",
    "# Print the number of rows affected\n",
    "print(\"Rows deleted:\", rp.rowcount)"
   ]
  },
  {
   "cell_type": "code",
   "execution_count": 13,
   "metadata": {},
   "outputs": [
    {
     "data": {
      "text/html": [
       "<div>\n",
       "<style scoped>\n",
       "    .dataframe tbody tr th:only-of-type {\n",
       "        vertical-align: middle;\n",
       "    }\n",
       "\n",
       "    .dataframe tbody tr th {\n",
       "        vertical-align: top;\n",
       "    }\n",
       "\n",
       "    .dataframe thead th {\n",
       "        text-align: right;\n",
       "    }\n",
       "</style>\n",
       "<table border=\"1\" class=\"dataframe\">\n",
       "  <thead>\n",
       "    <tr style=\"text-align: right;\">\n",
       "      <th></th>\n",
       "      <th>name</th>\n",
       "      <th>id</th>\n",
       "    </tr>\n",
       "  </thead>\n",
       "  <tbody>\n",
       "    <tr>\n",
       "      <th>105</th>\n",
       "      <td>EP</td>\n",
       "      <td>711</td>\n",
       "    </tr>\n",
       "    <tr>\n",
       "      <th>306</th>\n",
       "      <td>STA</td>\n",
       "      <td>481</td>\n",
       "    </tr>\n",
       "    <tr>\n",
       "      <th>115</th>\n",
       "      <td>FSMART</td>\n",
       "      <td>178</td>\n",
       "    </tr>\n",
       "    <tr>\n",
       "      <th>242</th>\n",
       "      <td>QHHR</td>\n",
       "      <td>692</td>\n",
       "    </tr>\n",
       "    <tr>\n",
       "      <th>201</th>\n",
       "      <td>MTC</td>\n",
       "      <td>315</td>\n",
       "    </tr>\n",
       "  </tbody>\n",
       "</table>\n",
       "</div>"
      ],
      "text/plain": [
       "       name   id\n",
       "105      EP  711\n",
       "306     STA  481\n",
       "115  FSMART  178\n",
       "242    QHHR  692\n",
       "201     MTC  315"
      ]
     },
     "execution_count": 13,
     "metadata": {},
     "output_type": "execute_result"
    }
   ],
   "source": [
    "sql = \"SELECT name, id FROM tickers\"\n",
    "tickers = pd.read_sql(sql, conlt)\n",
    "tickers.sample(5)"
   ]
  },
  {
   "cell_type": "code",
   "execution_count": 14,
   "metadata": {},
   "outputs": [
    {
     "data": {
      "text/plain": [
       "(5, 8)"
      ]
     },
     "execution_count": 14,
     "metadata": {},
     "output_type": "execute_result"
    }
   ],
   "source": [
    "df_ins = pd.merge(df_percent, tickers, on=\"name\", how=\"inner\")\n",
    "#df_ins.style.format(format_dict)\n",
    "df_ins.shape"
   ]
  },
  {
   "cell_type": "code",
   "execution_count": 15,
   "metadata": {},
   "outputs": [
    {
     "data": {
      "text/plain": [
       "5"
      ]
     },
     "execution_count": 15,
     "metadata": {},
     "output_type": "execute_result"
    }
   ],
   "source": [
    "rcds = df_ins.values.tolist()\n",
    "len(rcds)"
   ]
  },
  {
   "cell_type": "code",
   "execution_count": 16,
   "metadata": {},
   "outputs": [],
   "source": [
    "sql = 'SELECT * FROM qt_profits'\n",
    "df_qt_profits = pd.read_sql(sql, conlt)\n",
    "before_insert = df_qt_profits.shape[0]"
   ]
  },
  {
   "cell_type": "code",
   "execution_count": 17,
   "metadata": {},
   "outputs": [],
   "source": [
    "# Convert DataFrame to list of records\n",
    "rcds = df_ins.values.tolist()\n",
    "\n",
    "# Define column names in the same order as values\n",
    "columns = ['name', 'year', 'quarter', 'latest_amt', 'previous_amt', 'inc_amt', 'inc_pct', 'ticker_id']\n",
    "\n",
    "# SQL insert statement with named parameters\n",
    "sql = text(\"\"\"\n",
    "    INSERT INTO qt_profits \n",
    "    (name, year, quarter, latest_amt, previous_amt, inc_amt, inc_pct, ticker_id)\n",
    "    VALUES (:name, :year, :quarter, :latest_amt, :previous_amt, :inc_amt, :inc_pct, :ticker_id)\n",
    "\"\"\")\n",
    "\n",
    "try:\n",
    "    # Execute inserts\n",
    "    for rcd in rcds:\n",
    "        # Convert list to dictionary\n",
    "        params = dict(zip(columns, rcd))\n",
    "        conlt.execute(sql, params)\n",
    "except Exception as e:\n",
    "    raise e"
   ]
  },
  {
   "cell_type": "code",
   "execution_count": 18,
   "metadata": {},
   "outputs": [],
   "source": [
    "sql = 'SELECT * FROM qt_profits'\n",
    "df_qt_profits = pd.read_sql(sql, conlt)\n",
    "after_insert = df_qt_profits.shape[0]"
   ]
  },
  {
   "cell_type": "code",
   "execution_count": 19,
   "metadata": {},
   "outputs": [],
   "source": [
    "insert_records = after_insert - before_insert"
   ]
  },
  {
   "cell_type": "code",
   "execution_count": 20,
   "metadata": {},
   "outputs": [
    {
     "name": "stdout",
     "output_type": "stream",
     "text": [
      "(5) records inserted\n"
     ]
    }
   ],
   "source": [
    "print(f\"({insert_records}) records inserted\")"
   ]
  },
  {
   "cell_type": "markdown",
   "metadata": {},
   "source": [
    "### End of loop"
   ]
  },
  {
   "cell_type": "code",
   "execution_count": 22,
   "metadata": {},
   "outputs": [
    {
     "data": {
      "text/plain": [
       "(5, 8)"
      ]
     },
     "execution_count": 22,
     "metadata": {},
     "output_type": "execute_result"
    }
   ],
   "source": [
    "criteria_1 = df_ins.q_amt_c > 440_000\n",
    "#df_ins.loc[criteria_1, cols].style.format(format_dict)\n",
    "df_ins.shape"
   ]
  },
  {
   "cell_type": "code",
   "execution_count": 23,
   "metadata": {},
   "outputs": [
    {
     "data": {
      "text/plain": [
       "(5, 8)"
      ]
     },
     "execution_count": 23,
     "metadata": {},
     "output_type": "execute_result"
    }
   ],
   "source": [
    "criteria_2 = df_ins.q_amt_p > 400_000\n",
    "#df_ins.loc[criteria_2, cols].style.format(format_dict)\n",
    "df_ins.shape"
   ]
  },
  {
   "cell_type": "code",
   "execution_count": 24,
   "metadata": {},
   "outputs": [
    {
     "data": {
      "text/plain": [
       "(5, 8)"
      ]
     },
     "execution_count": 24,
     "metadata": {},
     "output_type": "execute_result"
    }
   ],
   "source": [
    "criteria_3 = df_ins.percent > 10.00\n",
    "#df_ins.loc[criteria_3, cols].style.format(format_dict)\n",
    "df_ins.shape"
   ]
  },
  {
   "cell_type": "code",
   "execution_count": 25,
   "metadata": {},
   "outputs": [
    {
     "data": {
      "text/plain": [
       "(5, 8)"
      ]
     },
     "execution_count": 25,
     "metadata": {},
     "output_type": "execute_result"
    }
   ],
   "source": [
    "df_ins_criteria = criteria_1 & criteria_2 & criteria_3\n",
    "#df_ins.loc[df_ins_criteria, cols].style.format(format_dict)\n",
    "df_ins.shape"
   ]
  },
  {
   "cell_type": "code",
   "execution_count": 26,
   "metadata": {},
   "outputs": [
    {
     "data": {
      "text/html": [
       "<style type=\"text/css\">\n",
       "</style>\n",
       "<table id=\"T_1497e\">\n",
       "  <thead>\n",
       "    <tr>\n",
       "      <th class=\"blank level0\" >&nbsp;</th>\n",
       "      <th id=\"T_1497e_level0_col0\" class=\"col_heading level0 col0\" >name</th>\n",
       "      <th id=\"T_1497e_level0_col1\" class=\"col_heading level0 col1\" >year</th>\n",
       "      <th id=\"T_1497e_level0_col2\" class=\"col_heading level0 col2\" >quarter</th>\n",
       "      <th id=\"T_1497e_level0_col3\" class=\"col_heading level0 col3\" >q_amt_c</th>\n",
       "      <th id=\"T_1497e_level0_col4\" class=\"col_heading level0 col4\" >q_amt_p</th>\n",
       "      <th id=\"T_1497e_level0_col5\" class=\"col_heading level0 col5\" >inc_profit</th>\n",
       "      <th id=\"T_1497e_level0_col6\" class=\"col_heading level0 col6\" >percent</th>\n",
       "      <th id=\"T_1497e_level0_col7\" class=\"col_heading level0 col7\" >id</th>\n",
       "    </tr>\n",
       "  </thead>\n",
       "  <tbody>\n",
       "    <tr>\n",
       "      <th id=\"T_1497e_level0_row0\" class=\"row_heading level0 row0\" >1</th>\n",
       "      <td id=\"T_1497e_row0_col0\" class=\"data row0 col0\" >FPT</td>\n",
       "      <td id=\"T_1497e_row0_col1\" class=\"data row0 col1\" >2025</td>\n",
       "      <td id=\"T_1497e_row0_col2\" class=\"data row0 col2\" >Q3</td>\n",
       "      <td id=\"T_1497e_row0_col3\" class=\"data row0 col3\" >1,825,089</td>\n",
       "      <td id=\"T_1497e_row0_col4\" class=\"data row0 col4\" >1,511,634</td>\n",
       "      <td id=\"T_1497e_row0_col5\" class=\"data row0 col5\" >313,455</td>\n",
       "      <td id=\"T_1497e_row0_col6\" class=\"data row0 col6\" >20.74%</td>\n",
       "      <td id=\"T_1497e_row0_col7\" class=\"data row0 col7\" >746</td>\n",
       "    </tr>\n",
       "  </tbody>\n",
       "</table>\n"
      ],
      "text/plain": [
       "<pandas.io.formats.style.Styler at 0x249215a6630>"
      ]
     },
     "execution_count": 26,
     "metadata": {},
     "output_type": "execute_result"
    }
   ],
   "source": [
    "df_ins[df_ins_criteria].sort_values(by=[\"percent\"], ascending=[False]).head(5).style.format(format_dict)"
   ]
  },
  {
   "cell_type": "code",
   "execution_count": 27,
   "metadata": {},
   "outputs": [
    {
     "data": {
      "text/html": [
       "<style type=\"text/css\">\n",
       "</style>\n",
       "<table id=\"T_414a8\">\n",
       "  <thead>\n",
       "    <tr>\n",
       "      <th class=\"blank level0\" >&nbsp;</th>\n",
       "      <th id=\"T_414a8_level0_col0\" class=\"col_heading level0 col0\" >name</th>\n",
       "      <th id=\"T_414a8_level0_col1\" class=\"col_heading level0 col1\" >year</th>\n",
       "      <th id=\"T_414a8_level0_col2\" class=\"col_heading level0 col2\" >quarter</th>\n",
       "      <th id=\"T_414a8_level0_col3\" class=\"col_heading level0 col3\" >q_amt_c</th>\n",
       "      <th id=\"T_414a8_level0_col4\" class=\"col_heading level0 col4\" >q_amt_p</th>\n",
       "      <th id=\"T_414a8_level0_col5\" class=\"col_heading level0 col5\" >inc_profit</th>\n",
       "      <th id=\"T_414a8_level0_col6\" class=\"col_heading level0 col6\" >percent</th>\n",
       "      <th id=\"T_414a8_level0_col7\" class=\"col_heading level0 col7\" >id</th>\n",
       "    </tr>\n",
       "  </thead>\n",
       "  <tbody>\n",
       "    <tr>\n",
       "      <th id=\"T_414a8_level0_row0\" class=\"row_heading level0 row0\" >1</th>\n",
       "      <td id=\"T_414a8_row0_col0\" class=\"data row0 col0\" >FPT</td>\n",
       "      <td id=\"T_414a8_row0_col1\" class=\"data row0 col1\" >2025</td>\n",
       "      <td id=\"T_414a8_row0_col2\" class=\"data row0 col2\" >Q3</td>\n",
       "      <td id=\"T_414a8_row0_col3\" class=\"data row0 col3\" >1,825,089</td>\n",
       "      <td id=\"T_414a8_row0_col4\" class=\"data row0 col4\" >1,511,634</td>\n",
       "      <td id=\"T_414a8_row0_col5\" class=\"data row0 col5\" >313,455</td>\n",
       "      <td id=\"T_414a8_row0_col6\" class=\"data row0 col6\" >20.74%</td>\n",
       "      <td id=\"T_414a8_row0_col7\" class=\"data row0 col7\" >746</td>\n",
       "    </tr>\n",
       "  </tbody>\n",
       "</table>\n"
      ],
      "text/plain": [
       "<pandas.io.formats.style.Styler at 0x249206adbe0>"
      ]
     },
     "execution_count": 27,
     "metadata": {},
     "output_type": "execute_result"
    }
   ],
   "source": [
    "df_ins[df_ins_criteria].sort_values(by=[\"name\"], ascending=[True]).head(5).style.format(format_dict)"
   ]
  },
  {
   "cell_type": "code",
   "execution_count": 28,
   "metadata": {},
   "outputs": [
    {
     "data": {
      "text/html": [
       "<style type=\"text/css\">\n",
       "</style>\n",
       "<table id=\"T_6b354\">\n",
       "  <thead>\n",
       "    <tr>\n",
       "      <th class=\"blank level0\" >&nbsp;</th>\n",
       "      <th id=\"T_6b354_level0_col0\" class=\"col_heading level0 col0\" >name</th>\n",
       "      <th id=\"T_6b354_level0_col1\" class=\"col_heading level0 col1\" >year</th>\n",
       "      <th id=\"T_6b354_level0_col2\" class=\"col_heading level0 col2\" >quarter</th>\n",
       "      <th id=\"T_6b354_level0_col3\" class=\"col_heading level0 col3\" >q_amt_c</th>\n",
       "      <th id=\"T_6b354_level0_col4\" class=\"col_heading level0 col4\" >q_amt_p</th>\n",
       "      <th id=\"T_6b354_level0_col5\" class=\"col_heading level0 col5\" >inc_profit</th>\n",
       "      <th id=\"T_6b354_level0_col6\" class=\"col_heading level0 col6\" >percent</th>\n",
       "      <th id=\"T_6b354_level0_col7\" class=\"col_heading level0 col7\" >id</th>\n",
       "    </tr>\n",
       "  </thead>\n",
       "  <tbody>\n",
       "    <tr>\n",
       "      <th id=\"T_6b354_level0_row0\" class=\"row_heading level0 row0\" >1</th>\n",
       "      <td id=\"T_6b354_row0_col0\" class=\"data row0 col0\" >FPT</td>\n",
       "      <td id=\"T_6b354_row0_col1\" class=\"data row0 col1\" >2025</td>\n",
       "      <td id=\"T_6b354_row0_col2\" class=\"data row0 col2\" >Q3</td>\n",
       "      <td id=\"T_6b354_row0_col3\" class=\"data row0 col3\" >1,825,089</td>\n",
       "      <td id=\"T_6b354_row0_col4\" class=\"data row0 col4\" >1,511,634</td>\n",
       "      <td id=\"T_6b354_row0_col5\" class=\"data row0 col5\" >313,455</td>\n",
       "      <td id=\"T_6b354_row0_col6\" class=\"data row0 col6\" >20.74%</td>\n",
       "      <td id=\"T_6b354_row0_col7\" class=\"data row0 col7\" >746</td>\n",
       "    </tr>\n",
       "  </tbody>\n",
       "</table>\n"
      ],
      "text/plain": [
       "<pandas.io.formats.style.Styler at 0x249228bc1d0>"
      ]
     },
     "execution_count": 28,
     "metadata": {},
     "output_type": "execute_result"
    }
   ],
   "source": [
    "df_ins[df_ins_criteria].sort_values(by=[\"name\"], ascending=[True]).head(5).style.format(format_dict)"
   ]
  },
  {
   "cell_type": "code",
   "execution_count": 29,
   "metadata": {},
   "outputs": [
    {
     "name": "stdout",
     "output_type": "stream",
     "text": [
      "\n",
      "SELECT name, COUNT(*) AS 'Nbr. of Group of 4 Quarters'\n",
      "FROM qt_profits\n",
      "GROUP BY name\n",
      "HAVING COUNT(*) = 2\n",
      "ORDER BY COUNT(*) DESC, name\n",
      "\n"
     ]
    },
    {
     "data": {
      "text/html": [
       "<div>\n",
       "<style scoped>\n",
       "    .dataframe tbody tr th:only-of-type {\n",
       "        vertical-align: middle;\n",
       "    }\n",
       "\n",
       "    .dataframe tbody tr th {\n",
       "        vertical-align: top;\n",
       "    }\n",
       "\n",
       "    .dataframe thead th {\n",
       "        text-align: right;\n",
       "    }\n",
       "</style>\n",
       "<table border=\"1\" class=\"dataframe\">\n",
       "  <thead>\n",
       "    <tr style=\"text-align: right;\">\n",
       "      <th></th>\n",
       "      <th>name</th>\n",
       "      <th>Nbr. of Group of 4 Quarters</th>\n",
       "    </tr>\n",
       "  </thead>\n",
       "  <tbody>\n",
       "    <tr>\n",
       "      <th>0</th>\n",
       "      <td>BAT-3K</td>\n",
       "      <td>2</td>\n",
       "    </tr>\n",
       "  </tbody>\n",
       "</table>\n",
       "</div>"
      ],
      "text/plain": [
       "     name  Nbr. of Group of 4 Quarters\n",
       "0  BAT-3K                            2"
      ]
     },
     "execution_count": 29,
     "metadata": {},
     "output_type": "execute_result"
    }
   ],
   "source": [
    "sql = \"\"\"\n",
    "SELECT name, COUNT(*) AS 'Nbr. of Group of 4 Quarters'\n",
    "FROM qt_profits\n",
    "GROUP BY name\n",
    "HAVING COUNT(*) = 2\n",
    "ORDER BY COUNT(*) DESC, name\n",
    "\"\"\"\n",
    "print(sql)\n",
    "\n",
    "tmp = pd.read_sql(sql, conlt)\n",
    "tmp"
   ]
  },
  {
   "cell_type": "code",
   "execution_count": 30,
   "metadata": {},
   "outputs": [],
   "source": [
    "conlt.commit()\n",
    "conlt.close()"
   ]
  },
  {
   "cell_type": "code",
   "execution_count": 31,
   "metadata": {},
   "outputs": [
    {
     "name": "stdout",
     "output_type": "stream",
     "text": [
      "2025:08:16 16:25:42\n"
     ]
    }
   ],
   "source": [
    "current_time = datetime.now()\n",
    "formatted_time = current_time.strftime(\"%Y:%m:%d %H:%M:%S\")\n",
    "print(formatted_time)"
   ]
  }
 ],
 "metadata": {
  "anaconda-cloud": {},
  "kernelspec": {
   "display_name": "Python 3 (ipykernel)",
   "language": "python",
   "name": "python3"
  },
  "language_info": {
   "codemirror_mode": {
    "name": "ipython",
    "version": 3
   },
   "file_extension": ".py",
   "mimetype": "text/x-python",
   "name": "python",
   "nbconvert_exporter": "python",
   "pygments_lexer": "ipython3",
   "version": "3.12.3"
  }
 },
 "nbformat": 4,
 "nbformat_minor": 4
}
