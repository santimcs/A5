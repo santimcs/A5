{
 "cells": [
  {
   "cell_type": "markdown",
   "metadata": {},
   "source": [
    "### Restart and Run All"
   ]
  },
  {
   "cell_type": "code",
   "execution_count": 2,
   "metadata": {},
   "outputs": [
    {
     "name": "stdout",
     "output_type": "stream",
     "text": [
      "2025:08:19 20:15:48\n"
     ]
    }
   ],
   "source": [
    "import pandas as pd\n",
    "from datetime import date, timedelta, datetime\n",
    "from sqlalchemy import create_engine, text\n",
    "\n",
    "engine = create_engine(\"sqlite:///c:\\\\ruby\\\\portlt\\\\db\\\\development.sqlite3\")\n",
    "conlt = engine.connect()\n",
    "\n",
    "year = 2025\n",
    "quarter = 2\n",
    "current_time = datetime.now()\n",
    "formatted_time = current_time.strftime(\"%Y:%m:%d %H:%M:%S\")\n",
    "print(formatted_time)"
   ]
  },
  {
   "cell_type": "code",
   "execution_count": 3,
   "metadata": {},
   "outputs": [],
   "source": [
    "cols = 'name year quarter q_amt_c q_amt_p inc_profit percent'.split()\n",
    "\n",
    "format_dict = {\n",
    "                'q_amt':'{:,}','q_amt_c':'{:,}','q_amt_p':'{:,}','inc_profit':'{:,}',\n",
    "                'yoy_gain':'{:,}','acc_gain':'{:,}',    \n",
    "                'q_eps':'{:.4f}','y_eps':'{:.4f}','aq_eps':'{:.4f}','ay_eps':'{:.4f}',\n",
    "                'percent':'{:.2f}%'\n",
    "              }"
   ]
  },
  {
   "cell_type": "code",
   "execution_count": 4,
   "metadata": {},
   "outputs": [
    {
     "name": "stdout",
     "output_type": "stream",
     "text": [
      "\n",
      "SELECT name,year,quarter,q_amt\n",
      "FROM epss \n",
      "WHERE (year = 2025 AND quarter <= 2) \n",
      "OR (year = 2025-1 AND quarter >= 2+1)\n",
      "ORDER BY year DESC, quarter DESC\n"
     ]
    }
   ],
   "source": [
    "sql = '''\n",
    "SELECT name,year,quarter,q_amt\n",
    "FROM epss \n",
    "WHERE (year = %s AND quarter <= %s) \n",
    "OR (year = %s-1 AND quarter >= %s+1)\n",
    "ORDER BY year DESC, quarter DESC'''\n",
    "sql = sql % (year,quarter,year,quarter)\n",
    "print(sql)"
   ]
  },
  {
   "cell_type": "code",
   "execution_count": 5,
   "metadata": {},
   "outputs": [
    {
     "data": {
      "text/plain": [
       "(152, 5)"
      ]
     },
     "execution_count": 5,
     "metadata": {},
     "output_type": "execute_result"
    }
   ],
   "source": [
    "dfc = pd.read_sql(sql, conlt)\n",
    "dfc['Counter'] = 1\n",
    "dfc_grp = dfc.groupby(['name'], as_index=False).sum()\n",
    "dfc_grp = dfc_grp[dfc_grp['Counter'] == 4]\n",
    "dfc_grp.shape"
   ]
  },
  {
   "cell_type": "code",
   "execution_count": 6,
   "metadata": {},
   "outputs": [
    {
     "data": {
      "text/plain": [
       "(224, 5)"
      ]
     },
     "execution_count": 6,
     "metadata": {},
     "output_type": "execute_result"
    }
   ],
   "source": [
    "sql = '''\n",
    "SELECT name,year,quarter,q_amt\n",
    "FROM epss \n",
    "WHERE (year = %s-1 AND quarter <= %s - 1) \n",
    "OR (year = %s-2 AND quarter >= %s)\n",
    "ORDER BY year DESC, quarter DESC'''\n",
    "sql = sql % (year,quarter,year,quarter)\n",
    "dfp = pd.read_sql(sql, conlt)\n",
    "dfp['Counter'] = 1\n",
    "dfp_grp = dfp.groupby(['name'], as_index=False).sum()\n",
    "dfp_grp = dfp_grp[dfp_grp['Counter'] == 4]\n",
    "dfp_grp.shape"
   ]
  },
  {
   "cell_type": "code",
   "execution_count": 7,
   "metadata": {},
   "outputs": [
    {
     "data": {
      "text/html": [
       "<style type=\"text/css\">\n",
       "</style>\n",
       "<table id=\"T_384a4\">\n",
       "  <thead>\n",
       "    <tr>\n",
       "      <th class=\"blank level0\" >&nbsp;</th>\n",
       "      <th id=\"T_384a4_level0_col0\" class=\"col_heading level0 col0\" >name</th>\n",
       "      <th id=\"T_384a4_level0_col1\" class=\"col_heading level0 col1\" >year</th>\n",
       "      <th id=\"T_384a4_level0_col2\" class=\"col_heading level0 col2\" >quarter</th>\n",
       "      <th id=\"T_384a4_level0_col3\" class=\"col_heading level0 col3\" >q_amt</th>\n",
       "      <th id=\"T_384a4_level0_col4\" class=\"col_heading level0 col4\" >Counter</th>\n",
       "    </tr>\n",
       "  </thead>\n",
       "  <tbody>\n",
       "    <tr>\n",
       "      <th id=\"T_384a4_level0_row0\" class=\"row_heading level0 row0\" >0</th>\n",
       "      <td id=\"T_384a4_row0_col0\" class=\"data row0 col0\" >3BBIF</td>\n",
       "      <td id=\"T_384a4_row0_col1\" class=\"data row0 col1\" >8093</td>\n",
       "      <td id=\"T_384a4_row0_col2\" class=\"data row0 col2\" >10</td>\n",
       "      <td id=\"T_384a4_row0_col3\" class=\"data row0 col3\" >-8,619,852</td>\n",
       "      <td id=\"T_384a4_row0_col4\" class=\"data row0 col4\" >4</td>\n",
       "    </tr>\n",
       "    <tr>\n",
       "      <th id=\"T_384a4_level0_row1\" class=\"row_heading level0 row1\" >1</th>\n",
       "      <td id=\"T_384a4_row1_col0\" class=\"data row1 col0\" >ACE</td>\n",
       "      <td id=\"T_384a4_row1_col1\" class=\"data row1 col1\" >8093</td>\n",
       "      <td id=\"T_384a4_row1_col2\" class=\"data row1 col2\" >10</td>\n",
       "      <td id=\"T_384a4_row1_col3\" class=\"data row1 col3\" >1,052,706</td>\n",
       "      <td id=\"T_384a4_row1_col4\" class=\"data row1 col4\" >4</td>\n",
       "    </tr>\n",
       "    <tr>\n",
       "      <th id=\"T_384a4_level0_row2\" class=\"row_heading level0 row2\" >2</th>\n",
       "      <td id=\"T_384a4_row2_col0\" class=\"data row2 col0\" >ADVANC</td>\n",
       "      <td id=\"T_384a4_row2_col1\" class=\"data row2 col1\" >8093</td>\n",
       "      <td id=\"T_384a4_row2_col2\" class=\"data row2 col2\" >10</td>\n",
       "      <td id=\"T_384a4_row2_col3\" class=\"data row2 col3\" >30,780,229</td>\n",
       "      <td id=\"T_384a4_row2_col4\" class=\"data row2 col4\" >4</td>\n",
       "    </tr>\n",
       "    <tr>\n",
       "      <th id=\"T_384a4_level0_row3\" class=\"row_heading level0 row3\" >3</th>\n",
       "      <td id=\"T_384a4_row3_col0\" class=\"data row3 col0\" >AEONTS</td>\n",
       "      <td id=\"T_384a4_row3_col1\" class=\"data row3 col1\" >8093</td>\n",
       "      <td id=\"T_384a4_row3_col2\" class=\"data row3 col2\" >10</td>\n",
       "      <td id=\"T_384a4_row3_col3\" class=\"data row3 col3\" >3,165,741</td>\n",
       "      <td id=\"T_384a4_row3_col4\" class=\"data row3 col4\" >4</td>\n",
       "    </tr>\n",
       "    <tr>\n",
       "      <th id=\"T_384a4_level0_row4\" class=\"row_heading level0 row4\" >4</th>\n",
       "      <td id=\"T_384a4_row4_col0\" class=\"data row4 col0\" >AH</td>\n",
       "      <td id=\"T_384a4_row4_col1\" class=\"data row4 col1\" >8093</td>\n",
       "      <td id=\"T_384a4_row4_col2\" class=\"data row4 col2\" >10</td>\n",
       "      <td id=\"T_384a4_row4_col3\" class=\"data row4 col3\" >1,368,109</td>\n",
       "      <td id=\"T_384a4_row4_col4\" class=\"data row4 col4\" >4</td>\n",
       "    </tr>\n",
       "  </tbody>\n",
       "</table>\n"
      ],
      "text/plain": [
       "<pandas.io.formats.style.Styler at 0x1756f594f50>"
      ]
     },
     "execution_count": 7,
     "metadata": {},
     "output_type": "execute_result"
    }
   ],
   "source": [
    "dfp = pd.read_sql(sql, conlt)\n",
    "dfp[\"Counter\"] = 1\n",
    "dfp_grp = dfp.groupby([\"name\"], as_index=False).sum()\n",
    "dfp_grp = dfp_grp[dfp_grp[\"Counter\"] == 4]\n",
    "dfp_grp.head().style.format(format_dict)"
   ]
  },
  {
   "cell_type": "code",
   "execution_count": 8,
   "metadata": {},
   "outputs": [
    {
     "data": {
      "text/html": [
       "<style type=\"text/css\">\n",
       "</style>\n",
       "<table id=\"T_acbd8\">\n",
       "  <thead>\n",
       "    <tr>\n",
       "      <th class=\"blank level0\" >&nbsp;</th>\n",
       "      <th id=\"T_acbd8_level0_col0\" class=\"col_heading level0 col0\" >name</th>\n",
       "      <th id=\"T_acbd8_level0_col1\" class=\"col_heading level0 col1\" >year</th>\n",
       "      <th id=\"T_acbd8_level0_col2\" class=\"col_heading level0 col2\" >quarter</th>\n",
       "      <th id=\"T_acbd8_level0_col3\" class=\"col_heading level0 col3\" >q_amt_c</th>\n",
       "      <th id=\"T_acbd8_level0_col4\" class=\"col_heading level0 col4\" >q_amt_p</th>\n",
       "      <th id=\"T_acbd8_level0_col5\" class=\"col_heading level0 col5\" >inc_profit</th>\n",
       "      <th id=\"T_acbd8_level0_col6\" class=\"col_heading level0 col6\" >percent</th>\n",
       "    </tr>\n",
       "  </thead>\n",
       "  <tbody>\n",
       "    <tr>\n",
       "      <th id=\"T_acbd8_level0_row0\" class=\"row_heading level0 row0\" >0</th>\n",
       "      <td id=\"T_acbd8_row0_col0\" class=\"data row0 col0\" >3BBIF</td>\n",
       "      <td id=\"T_acbd8_row0_col1\" class=\"data row0 col1\" >2025</td>\n",
       "      <td id=\"T_acbd8_row0_col2\" class=\"data row0 col2\" >Q2</td>\n",
       "      <td id=\"T_acbd8_row0_col3\" class=\"data row0 col3\" >8,709,489</td>\n",
       "      <td id=\"T_acbd8_row0_col4\" class=\"data row0 col4\" >-8,619,852</td>\n",
       "      <td id=\"T_acbd8_row0_col5\" class=\"data row0 col5\" >17,329,341</td>\n",
       "      <td id=\"T_acbd8_row0_col6\" class=\"data row0 col6\" >201.04%</td>\n",
       "    </tr>\n",
       "    <tr>\n",
       "      <th id=\"T_acbd8_level0_row1\" class=\"row_heading level0 row1\" >1</th>\n",
       "      <td id=\"T_acbd8_row1_col0\" class=\"data row1 col0\" >ACE</td>\n",
       "      <td id=\"T_acbd8_row1_col1\" class=\"data row1 col1\" >2025</td>\n",
       "      <td id=\"T_acbd8_row1_col2\" class=\"data row1 col2\" >Q2</td>\n",
       "      <td id=\"T_acbd8_row1_col3\" class=\"data row1 col3\" >738,812</td>\n",
       "      <td id=\"T_acbd8_row1_col4\" class=\"data row1 col4\" >1,052,706</td>\n",
       "      <td id=\"T_acbd8_row1_col5\" class=\"data row1 col5\" >-313,894</td>\n",
       "      <td id=\"T_acbd8_row1_col6\" class=\"data row1 col6\" >-29.82%</td>\n",
       "    </tr>\n",
       "    <tr>\n",
       "      <th id=\"T_acbd8_level0_row2\" class=\"row_heading level0 row2\" >2</th>\n",
       "      <td id=\"T_acbd8_row2_col0\" class=\"data row2 col0\" >AH</td>\n",
       "      <td id=\"T_acbd8_row2_col1\" class=\"data row2 col1\" >2025</td>\n",
       "      <td id=\"T_acbd8_row2_col2\" class=\"data row2 col2\" >Q2</td>\n",
       "      <td id=\"T_acbd8_row2_col3\" class=\"data row2 col3\" >738,988</td>\n",
       "      <td id=\"T_acbd8_row2_col4\" class=\"data row2 col4\" >1,368,109</td>\n",
       "      <td id=\"T_acbd8_row2_col5\" class=\"data row2 col5\" >-629,121</td>\n",
       "      <td id=\"T_acbd8_row2_col6\" class=\"data row2 col6\" >-45.98%</td>\n",
       "    </tr>\n",
       "    <tr>\n",
       "      <th id=\"T_acbd8_level0_row3\" class=\"row_heading level0 row3\" >3</th>\n",
       "      <td id=\"T_acbd8_row3_col0\" class=\"data row3 col0\" >AIE</td>\n",
       "      <td id=\"T_acbd8_row3_col1\" class=\"data row3 col1\" >2025</td>\n",
       "      <td id=\"T_acbd8_row3_col2\" class=\"data row3 col2\" >Q2</td>\n",
       "      <td id=\"T_acbd8_row3_col3\" class=\"data row3 col3\" >148,430</td>\n",
       "      <td id=\"T_acbd8_row3_col4\" class=\"data row3 col4\" >81,612</td>\n",
       "      <td id=\"T_acbd8_row3_col5\" class=\"data row3 col5\" >66,818</td>\n",
       "      <td id=\"T_acbd8_row3_col6\" class=\"data row3 col6\" >81.87%</td>\n",
       "    </tr>\n",
       "    <tr>\n",
       "      <th id=\"T_acbd8_level0_row4\" class=\"row_heading level0 row4\" >4</th>\n",
       "      <td id=\"T_acbd8_row4_col0\" class=\"data row4 col0\" >AIMIRT</td>\n",
       "      <td id=\"T_acbd8_row4_col1\" class=\"data row4 col1\" >2025</td>\n",
       "      <td id=\"T_acbd8_row4_col2\" class=\"data row4 col2\" >Q2</td>\n",
       "      <td id=\"T_acbd8_row4_col3\" class=\"data row4 col3\" >827,111</td>\n",
       "      <td id=\"T_acbd8_row4_col4\" class=\"data row4 col4\" >485,997</td>\n",
       "      <td id=\"T_acbd8_row4_col5\" class=\"data row4 col5\" >341,114</td>\n",
       "      <td id=\"T_acbd8_row4_col6\" class=\"data row4 col6\" >70.19%</td>\n",
       "    </tr>\n",
       "  </tbody>\n",
       "</table>\n"
      ],
      "text/plain": [
       "<pandas.io.formats.style.Styler at 0x175704855b0>"
      ]
     },
     "execution_count": 8,
     "metadata": {},
     "output_type": "execute_result"
    }
   ],
   "source": [
    "dfm = pd.merge(dfc_grp, dfp_grp, on=\"name\", suffixes=([\"_c\", \"_p\"]), how=\"inner\")\n",
    "dfm[\"inc_profit\"] = dfm[\"q_amt_c\"] - dfm[\"q_amt_p\"]\n",
    "dfm[\"percent\"] = round(dfm[\"inc_profit\"] / abs(dfm[\"q_amt_p\"]) * 100, 2)\n",
    "dfm[\"year\"] = year\n",
    "dfm[\"quarter\"] = \"Q\" + str(quarter)\n",
    "df_percent = dfm[cols]\n",
    "df_percent.head().style.format(format_dict)"
   ]
  },
  {
   "cell_type": "code",
   "execution_count": 9,
   "metadata": {},
   "outputs": [
    {
     "name": "stdout",
     "output_type": "stream",
     "text": [
      "Rows deleted: 136\n"
     ]
    }
   ],
   "source": [
    "# Create the SQL query with parameter binding\n",
    "sql = text(\"DELETE FROM yr_profits WHERE year = :year AND quarter = :quarter\")\n",
    "\n",
    "# Execute the query with parameters\n",
    "params = {'year': year, 'quarter': f'Q{quarter}'}\n",
    "rp = conlt.execute(sql, params)\n",
    "\n",
    "# Print the number of rows affected\n",
    "print(\"Rows deleted:\", rp.rowcount)"
   ]
  },
  {
   "cell_type": "code",
   "execution_count": 10,
   "metadata": {},
   "outputs": [
    {
     "data": {
      "text/plain": [
       "152"
      ]
     },
     "execution_count": 10,
     "metadata": {},
     "output_type": "execute_result"
    }
   ],
   "source": [
    "sql = \"SELECT name, id FROM tickers\"\n",
    "tickers = pd.read_sql(sql, conlt)\n",
    "df_ins = pd.merge(df_percent, tickers, on=\"name\", how=\"inner\")\n",
    "rcds = df_ins.values.tolist()\n",
    "len(rcds)"
   ]
  },
  {
   "cell_type": "code",
   "execution_count": 11,
   "metadata": {},
   "outputs": [],
   "source": [
    "# Convert DataFrame to list of records\n",
    "rcds = df_ins.values.tolist()\n",
    "\n",
    "# Define column names in the same order as values\n",
    "columns = ['name', 'year', 'quarter', 'latest_amt', 'previous_amt', 'inc_amt', 'inc_pct', 'ticker_id']\n",
    "\n",
    "# SQL insert statement with named parameters\n",
    "sql = text(\"\"\"\n",
    "    INSERT INTO yr_profits \n",
    "    (name, year, quarter, latest_amt, previous_amt, inc_amt, inc_pct, ticker_id)\n",
    "    VALUES (:name, :year, :quarter, :latest_amt, :previous_amt, :inc_amt, :inc_pct, :ticker_id)\n",
    "\"\"\")\n",
    "\n",
    "try:\n",
    "    # Execute inserts\n",
    "    for rcd in rcds:\n",
    "        # Convert list to dictionary\n",
    "        params = dict(zip(columns, rcd))\n",
    "        conlt.execute(sql, params)\n",
    "except Exception as e:\n",
    "    raise e"
   ]
  },
  {
   "cell_type": "markdown",
   "metadata": {},
   "source": [
    "### End of loop"
   ]
  },
  {
   "cell_type": "code",
   "execution_count": 13,
   "metadata": {},
   "outputs": [
    {
     "data": {
      "text/html": [
       "<style type=\"text/css\">\n",
       "</style>\n",
       "<table id=\"T_5dec0\">\n",
       "  <thead>\n",
       "    <tr>\n",
       "      <th class=\"blank level0\" >&nbsp;</th>\n",
       "      <th id=\"T_5dec0_level0_col0\" class=\"col_heading level0 col0\" >name</th>\n",
       "      <th id=\"T_5dec0_level0_col1\" class=\"col_heading level0 col1\" >year</th>\n",
       "      <th id=\"T_5dec0_level0_col2\" class=\"col_heading level0 col2\" >quarter</th>\n",
       "      <th id=\"T_5dec0_level0_col3\" class=\"col_heading level0 col3\" >q_amt_c</th>\n",
       "      <th id=\"T_5dec0_level0_col4\" class=\"col_heading level0 col4\" >q_amt_p</th>\n",
       "      <th id=\"T_5dec0_level0_col5\" class=\"col_heading level0 col5\" >inc_profit</th>\n",
       "      <th id=\"T_5dec0_level0_col6\" class=\"col_heading level0 col6\" >percent</th>\n",
       "    </tr>\n",
       "  </thead>\n",
       "  <tbody>\n",
       "    <tr>\n",
       "      <th id=\"T_5dec0_level0_row0\" class=\"row_heading level0 row0\" >0</th>\n",
       "      <td id=\"T_5dec0_row0_col0\" class=\"data row0 col0\" >3BBIF</td>\n",
       "      <td id=\"T_5dec0_row0_col1\" class=\"data row0 col1\" >2025</td>\n",
       "      <td id=\"T_5dec0_row0_col2\" class=\"data row0 col2\" >Q2</td>\n",
       "      <td id=\"T_5dec0_row0_col3\" class=\"data row0 col3\" >8,709,489</td>\n",
       "      <td id=\"T_5dec0_row0_col4\" class=\"data row0 col4\" >-8,619,852</td>\n",
       "      <td id=\"T_5dec0_row0_col5\" class=\"data row0 col5\" >17,329,341</td>\n",
       "      <td id=\"T_5dec0_row0_col6\" class=\"data row0 col6\" >201.04%</td>\n",
       "    </tr>\n",
       "    <tr>\n",
       "      <th id=\"T_5dec0_level0_row1\" class=\"row_heading level0 row1\" >1</th>\n",
       "      <td id=\"T_5dec0_row1_col0\" class=\"data row1 col0\" >ACE</td>\n",
       "      <td id=\"T_5dec0_row1_col1\" class=\"data row1 col1\" >2025</td>\n",
       "      <td id=\"T_5dec0_row1_col2\" class=\"data row1 col2\" >Q2</td>\n",
       "      <td id=\"T_5dec0_row1_col3\" class=\"data row1 col3\" >738,812</td>\n",
       "      <td id=\"T_5dec0_row1_col4\" class=\"data row1 col4\" >1,052,706</td>\n",
       "      <td id=\"T_5dec0_row1_col5\" class=\"data row1 col5\" >-313,894</td>\n",
       "      <td id=\"T_5dec0_row1_col6\" class=\"data row1 col6\" >-29.82%</td>\n",
       "    </tr>\n",
       "    <tr>\n",
       "      <th id=\"T_5dec0_level0_row2\" class=\"row_heading level0 row2\" >2</th>\n",
       "      <td id=\"T_5dec0_row2_col0\" class=\"data row2 col0\" >AH</td>\n",
       "      <td id=\"T_5dec0_row2_col1\" class=\"data row2 col1\" >2025</td>\n",
       "      <td id=\"T_5dec0_row2_col2\" class=\"data row2 col2\" >Q2</td>\n",
       "      <td id=\"T_5dec0_row2_col3\" class=\"data row2 col3\" >738,988</td>\n",
       "      <td id=\"T_5dec0_row2_col4\" class=\"data row2 col4\" >1,368,109</td>\n",
       "      <td id=\"T_5dec0_row2_col5\" class=\"data row2 col5\" >-629,121</td>\n",
       "      <td id=\"T_5dec0_row2_col6\" class=\"data row2 col6\" >-45.98%</td>\n",
       "    </tr>\n",
       "    <tr>\n",
       "      <th id=\"T_5dec0_level0_row3\" class=\"row_heading level0 row3\" >4</th>\n",
       "      <td id=\"T_5dec0_row3_col0\" class=\"data row3 col0\" >AIMIRT</td>\n",
       "      <td id=\"T_5dec0_row3_col1\" class=\"data row3 col1\" >2025</td>\n",
       "      <td id=\"T_5dec0_row3_col2\" class=\"data row3 col2\" >Q2</td>\n",
       "      <td id=\"T_5dec0_row3_col3\" class=\"data row3 col3\" >827,111</td>\n",
       "      <td id=\"T_5dec0_row3_col4\" class=\"data row3 col4\" >485,997</td>\n",
       "      <td id=\"T_5dec0_row3_col5\" class=\"data row3 col5\" >341,114</td>\n",
       "      <td id=\"T_5dec0_row3_col6\" class=\"data row3 col6\" >70.19%</td>\n",
       "    </tr>\n",
       "    <tr>\n",
       "      <th id=\"T_5dec0_level0_row4\" class=\"row_heading level0 row4\" >5</th>\n",
       "      <td id=\"T_5dec0_row4_col0\" class=\"data row4 col0\" >AIT</td>\n",
       "      <td id=\"T_5dec0_row4_col1\" class=\"data row4 col1\" >2025</td>\n",
       "      <td id=\"T_5dec0_row4_col2\" class=\"data row4 col2\" >Q2</td>\n",
       "      <td id=\"T_5dec0_row4_col3\" class=\"data row4 col3\" >587,420</td>\n",
       "      <td id=\"T_5dec0_row4_col4\" class=\"data row4 col4\" >539,493</td>\n",
       "      <td id=\"T_5dec0_row4_col5\" class=\"data row4 col5\" >47,927</td>\n",
       "      <td id=\"T_5dec0_row4_col6\" class=\"data row4 col6\" >8.88%</td>\n",
       "    </tr>\n",
       "  </tbody>\n",
       "</table>\n"
      ],
      "text/plain": [
       "<pandas.io.formats.style.Styler at 0x175704c3950>"
      ]
     },
     "execution_count": 13,
     "metadata": {},
     "output_type": "execute_result"
    }
   ],
   "source": [
    "criteria_1 = df_ins.q_amt_c > 440_000\n",
    "df_ins.loc[criteria_1, cols].head().style.format(format_dict)"
   ]
  },
  {
   "cell_type": "code",
   "execution_count": 14,
   "metadata": {},
   "outputs": [
    {
     "data": {
      "text/html": [
       "<style type=\"text/css\">\n",
       "</style>\n",
       "<table id=\"T_94b99\">\n",
       "  <thead>\n",
       "    <tr>\n",
       "      <th class=\"blank level0\" >&nbsp;</th>\n",
       "      <th id=\"T_94b99_level0_col0\" class=\"col_heading level0 col0\" >name</th>\n",
       "      <th id=\"T_94b99_level0_col1\" class=\"col_heading level0 col1\" >year</th>\n",
       "      <th id=\"T_94b99_level0_col2\" class=\"col_heading level0 col2\" >quarter</th>\n",
       "      <th id=\"T_94b99_level0_col3\" class=\"col_heading level0 col3\" >q_amt_c</th>\n",
       "      <th id=\"T_94b99_level0_col4\" class=\"col_heading level0 col4\" >q_amt_p</th>\n",
       "      <th id=\"T_94b99_level0_col5\" class=\"col_heading level0 col5\" >inc_profit</th>\n",
       "      <th id=\"T_94b99_level0_col6\" class=\"col_heading level0 col6\" >percent</th>\n",
       "    </tr>\n",
       "  </thead>\n",
       "  <tbody>\n",
       "    <tr>\n",
       "      <th id=\"T_94b99_level0_row0\" class=\"row_heading level0 row0\" >1</th>\n",
       "      <td id=\"T_94b99_row0_col0\" class=\"data row0 col0\" >ACE</td>\n",
       "      <td id=\"T_94b99_row0_col1\" class=\"data row0 col1\" >2025</td>\n",
       "      <td id=\"T_94b99_row0_col2\" class=\"data row0 col2\" >Q2</td>\n",
       "      <td id=\"T_94b99_row0_col3\" class=\"data row0 col3\" >738,812</td>\n",
       "      <td id=\"T_94b99_row0_col4\" class=\"data row0 col4\" >1,052,706</td>\n",
       "      <td id=\"T_94b99_row0_col5\" class=\"data row0 col5\" >-313,894</td>\n",
       "      <td id=\"T_94b99_row0_col6\" class=\"data row0 col6\" >-29.82%</td>\n",
       "    </tr>\n",
       "    <tr>\n",
       "      <th id=\"T_94b99_level0_row1\" class=\"row_heading level0 row1\" >2</th>\n",
       "      <td id=\"T_94b99_row1_col0\" class=\"data row1 col0\" >AH</td>\n",
       "      <td id=\"T_94b99_row1_col1\" class=\"data row1 col1\" >2025</td>\n",
       "      <td id=\"T_94b99_row1_col2\" class=\"data row1 col2\" >Q2</td>\n",
       "      <td id=\"T_94b99_row1_col3\" class=\"data row1 col3\" >738,988</td>\n",
       "      <td id=\"T_94b99_row1_col4\" class=\"data row1 col4\" >1,368,109</td>\n",
       "      <td id=\"T_94b99_row1_col5\" class=\"data row1 col5\" >-629,121</td>\n",
       "      <td id=\"T_94b99_row1_col6\" class=\"data row1 col6\" >-45.98%</td>\n",
       "    </tr>\n",
       "    <tr>\n",
       "      <th id=\"T_94b99_level0_row2\" class=\"row_heading level0 row2\" >4</th>\n",
       "      <td id=\"T_94b99_row2_col0\" class=\"data row2 col0\" >AIMIRT</td>\n",
       "      <td id=\"T_94b99_row2_col1\" class=\"data row2 col1\" >2025</td>\n",
       "      <td id=\"T_94b99_row2_col2\" class=\"data row2 col2\" >Q2</td>\n",
       "      <td id=\"T_94b99_row2_col3\" class=\"data row2 col3\" >827,111</td>\n",
       "      <td id=\"T_94b99_row2_col4\" class=\"data row2 col4\" >485,997</td>\n",
       "      <td id=\"T_94b99_row2_col5\" class=\"data row2 col5\" >341,114</td>\n",
       "      <td id=\"T_94b99_row2_col6\" class=\"data row2 col6\" >70.19%</td>\n",
       "    </tr>\n",
       "    <tr>\n",
       "      <th id=\"T_94b99_level0_row3\" class=\"row_heading level0 row3\" >5</th>\n",
       "      <td id=\"T_94b99_row3_col0\" class=\"data row3 col0\" >AIT</td>\n",
       "      <td id=\"T_94b99_row3_col1\" class=\"data row3 col1\" >2025</td>\n",
       "      <td id=\"T_94b99_row3_col2\" class=\"data row3 col2\" >Q2</td>\n",
       "      <td id=\"T_94b99_row3_col3\" class=\"data row3 col3\" >587,420</td>\n",
       "      <td id=\"T_94b99_row3_col4\" class=\"data row3 col4\" >539,493</td>\n",
       "      <td id=\"T_94b99_row3_col5\" class=\"data row3 col5\" >47,927</td>\n",
       "      <td id=\"T_94b99_row3_col6\" class=\"data row3 col6\" >8.88%</td>\n",
       "    </tr>\n",
       "    <tr>\n",
       "      <th id=\"T_94b99_level0_row4\" class=\"row_heading level0 row4\" >6</th>\n",
       "      <td id=\"T_94b99_row4_col0\" class=\"data row4 col0\" >AOT</td>\n",
       "      <td id=\"T_94b99_row4_col1\" class=\"data row4 col1\" >2025</td>\n",
       "      <td id=\"T_94b99_row4_col2\" class=\"data row4 col2\" >Q2</td>\n",
       "      <td id=\"T_94b99_row4_col3\" class=\"data row4 col3\" >19,232,337</td>\n",
       "      <td id=\"T_94b99_row4_col4\" class=\"data row4 col4\" >13,011,133</td>\n",
       "      <td id=\"T_94b99_row4_col5\" class=\"data row4 col5\" >6,221,204</td>\n",
       "      <td id=\"T_94b99_row4_col6\" class=\"data row4 col6\" >47.81%</td>\n",
       "    </tr>\n",
       "  </tbody>\n",
       "</table>\n"
      ],
      "text/plain": [
       "<pandas.io.formats.style.Styler at 0x175704e3d70>"
      ]
     },
     "execution_count": 14,
     "metadata": {},
     "output_type": "execute_result"
    }
   ],
   "source": [
    "criteria_2 = df_ins.q_amt_p > 400_000\n",
    "df_ins.loc[criteria_2, cols].head().style.format(format_dict)"
   ]
  },
  {
   "cell_type": "code",
   "execution_count": 15,
   "metadata": {},
   "outputs": [
    {
     "data": {
      "text/html": [
       "<style type=\"text/css\">\n",
       "</style>\n",
       "<table id=\"T_a0b4d\">\n",
       "  <thead>\n",
       "    <tr>\n",
       "      <th class=\"blank level0\" >&nbsp;</th>\n",
       "      <th id=\"T_a0b4d_level0_col0\" class=\"col_heading level0 col0\" >name</th>\n",
       "      <th id=\"T_a0b4d_level0_col1\" class=\"col_heading level0 col1\" >year</th>\n",
       "      <th id=\"T_a0b4d_level0_col2\" class=\"col_heading level0 col2\" >quarter</th>\n",
       "      <th id=\"T_a0b4d_level0_col3\" class=\"col_heading level0 col3\" >q_amt_c</th>\n",
       "      <th id=\"T_a0b4d_level0_col4\" class=\"col_heading level0 col4\" >q_amt_p</th>\n",
       "      <th id=\"T_a0b4d_level0_col5\" class=\"col_heading level0 col5\" >inc_profit</th>\n",
       "      <th id=\"T_a0b4d_level0_col6\" class=\"col_heading level0 col6\" >percent</th>\n",
       "    </tr>\n",
       "  </thead>\n",
       "  <tbody>\n",
       "    <tr>\n",
       "      <th id=\"T_a0b4d_level0_row0\" class=\"row_heading level0 row0\" >0</th>\n",
       "      <td id=\"T_a0b4d_row0_col0\" class=\"data row0 col0\" >3BBIF</td>\n",
       "      <td id=\"T_a0b4d_row0_col1\" class=\"data row0 col1\" >2025</td>\n",
       "      <td id=\"T_a0b4d_row0_col2\" class=\"data row0 col2\" >Q2</td>\n",
       "      <td id=\"T_a0b4d_row0_col3\" class=\"data row0 col3\" >8,709,489</td>\n",
       "      <td id=\"T_a0b4d_row0_col4\" class=\"data row0 col4\" >-8,619,852</td>\n",
       "      <td id=\"T_a0b4d_row0_col5\" class=\"data row0 col5\" >17,329,341</td>\n",
       "      <td id=\"T_a0b4d_row0_col6\" class=\"data row0 col6\" >201.04%</td>\n",
       "    </tr>\n",
       "    <tr>\n",
       "      <th id=\"T_a0b4d_level0_row1\" class=\"row_heading level0 row1\" >3</th>\n",
       "      <td id=\"T_a0b4d_row1_col0\" class=\"data row1 col0\" >AIE</td>\n",
       "      <td id=\"T_a0b4d_row1_col1\" class=\"data row1 col1\" >2025</td>\n",
       "      <td id=\"T_a0b4d_row1_col2\" class=\"data row1 col2\" >Q2</td>\n",
       "      <td id=\"T_a0b4d_row1_col3\" class=\"data row1 col3\" >148,430</td>\n",
       "      <td id=\"T_a0b4d_row1_col4\" class=\"data row1 col4\" >81,612</td>\n",
       "      <td id=\"T_a0b4d_row1_col5\" class=\"data row1 col5\" >66,818</td>\n",
       "      <td id=\"T_a0b4d_row1_col6\" class=\"data row1 col6\" >81.87%</td>\n",
       "    </tr>\n",
       "    <tr>\n",
       "      <th id=\"T_a0b4d_level0_row2\" class=\"row_heading level0 row2\" >4</th>\n",
       "      <td id=\"T_a0b4d_row2_col0\" class=\"data row2 col0\" >AIMIRT</td>\n",
       "      <td id=\"T_a0b4d_row2_col1\" class=\"data row2 col1\" >2025</td>\n",
       "      <td id=\"T_a0b4d_row2_col2\" class=\"data row2 col2\" >Q2</td>\n",
       "      <td id=\"T_a0b4d_row2_col3\" class=\"data row2 col3\" >827,111</td>\n",
       "      <td id=\"T_a0b4d_row2_col4\" class=\"data row2 col4\" >485,997</td>\n",
       "      <td id=\"T_a0b4d_row2_col5\" class=\"data row2 col5\" >341,114</td>\n",
       "      <td id=\"T_a0b4d_row2_col6\" class=\"data row2 col6\" >70.19%</td>\n",
       "    </tr>\n",
       "    <tr>\n",
       "      <th id=\"T_a0b4d_level0_row3\" class=\"row_heading level0 row3\" >6</th>\n",
       "      <td id=\"T_a0b4d_row3_col0\" class=\"data row3 col0\" >AOT</td>\n",
       "      <td id=\"T_a0b4d_row3_col1\" class=\"data row3 col1\" >2025</td>\n",
       "      <td id=\"T_a0b4d_row3_col2\" class=\"data row3 col2\" >Q2</td>\n",
       "      <td id=\"T_a0b4d_row3_col3\" class=\"data row3 col3\" >19,232,337</td>\n",
       "      <td id=\"T_a0b4d_row3_col4\" class=\"data row3 col4\" >13,011,133</td>\n",
       "      <td id=\"T_a0b4d_row3_col5\" class=\"data row3 col5\" >6,221,204</td>\n",
       "      <td id=\"T_a0b4d_row3_col6\" class=\"data row3 col6\" >47.81%</td>\n",
       "    </tr>\n",
       "    <tr>\n",
       "      <th id=\"T_a0b4d_level0_row4\" class=\"row_heading level0 row4\" >7</th>\n",
       "      <td id=\"T_a0b4d_row4_col0\" class=\"data row4 col0\" >ASIAN</td>\n",
       "      <td id=\"T_a0b4d_row4_col1\" class=\"data row4 col1\" >2025</td>\n",
       "      <td id=\"T_a0b4d_row4_col2\" class=\"data row4 col2\" >Q2</td>\n",
       "      <td id=\"T_a0b4d_row4_col3\" class=\"data row4 col3\" >713,985</td>\n",
       "      <td id=\"T_a0b4d_row4_col4\" class=\"data row4 col4\" >497,519</td>\n",
       "      <td id=\"T_a0b4d_row4_col5\" class=\"data row4 col5\" >216,466</td>\n",
       "      <td id=\"T_a0b4d_row4_col6\" class=\"data row4 col6\" >43.51%</td>\n",
       "    </tr>\n",
       "  </tbody>\n",
       "</table>\n"
      ],
      "text/plain": [
       "<pandas.io.formats.style.Styler at 0x1757050ce00>"
      ]
     },
     "execution_count": 15,
     "metadata": {},
     "output_type": "execute_result"
    }
   ],
   "source": [
    "criteria_3 = df_ins.percent > 10.00\n",
    "df_ins.loc[criteria_3, cols].head().style.format(format_dict)"
   ]
  },
  {
   "cell_type": "code",
   "execution_count": 16,
   "metadata": {},
   "outputs": [
    {
     "data": {
      "text/html": [
       "<style type=\"text/css\">\n",
       "</style>\n",
       "<table id=\"T_4b1d3\">\n",
       "  <thead>\n",
       "    <tr>\n",
       "      <th class=\"blank level0\" >&nbsp;</th>\n",
       "      <th id=\"T_4b1d3_level0_col0\" class=\"col_heading level0 col0\" >name</th>\n",
       "      <th id=\"T_4b1d3_level0_col1\" class=\"col_heading level0 col1\" >year</th>\n",
       "      <th id=\"T_4b1d3_level0_col2\" class=\"col_heading level0 col2\" >quarter</th>\n",
       "      <th id=\"T_4b1d3_level0_col3\" class=\"col_heading level0 col3\" >q_amt_c</th>\n",
       "      <th id=\"T_4b1d3_level0_col4\" class=\"col_heading level0 col4\" >q_amt_p</th>\n",
       "      <th id=\"T_4b1d3_level0_col5\" class=\"col_heading level0 col5\" >inc_profit</th>\n",
       "      <th id=\"T_4b1d3_level0_col6\" class=\"col_heading level0 col6\" >percent</th>\n",
       "    </tr>\n",
       "  </thead>\n",
       "  <tbody>\n",
       "    <tr>\n",
       "      <th id=\"T_4b1d3_level0_row0\" class=\"row_heading level0 row0\" >99</th>\n",
       "      <td id=\"T_4b1d3_row0_col0\" class=\"data row0 col0\" >RCL</td>\n",
       "      <td id=\"T_4b1d3_row0_col1\" class=\"data row0 col1\" >2025</td>\n",
       "      <td id=\"T_4b1d3_row0_col2\" class=\"data row0 col2\" >Q2</td>\n",
       "      <td id=\"T_4b1d3_row0_col3\" class=\"data row0 col3\" >11,472,607</td>\n",
       "      <td id=\"T_4b1d3_row0_col4\" class=\"data row0 col4\" >1,201,533</td>\n",
       "      <td id=\"T_4b1d3_row0_col5\" class=\"data row0 col5\" >10,271,074</td>\n",
       "      <td id=\"T_4b1d3_row0_col6\" class=\"data row0 col6\" >854.83%</td>\n",
       "    </tr>\n",
       "    <tr>\n",
       "      <th id=\"T_4b1d3_level0_row1\" class=\"row_heading level0 row1\" >50</th>\n",
       "      <td id=\"T_4b1d3_row1_col0\" class=\"data row1 col0\" >GULF</td>\n",
       "      <td id=\"T_4b1d3_row1_col1\" class=\"data row1 col1\" >2025</td>\n",
       "      <td id=\"T_4b1d3_row1_col2\" class=\"data row1 col2\" >Q2</td>\n",
       "      <td id=\"T_4b1d3_row1_col3\" class=\"data row1 col3\" >95,184,877</td>\n",
       "      <td id=\"T_4b1d3_row1_col4\" class=\"data row1 col4\" >14,506,279</td>\n",
       "      <td id=\"T_4b1d3_row1_col5\" class=\"data row1 col5\" >80,678,598</td>\n",
       "      <td id=\"T_4b1d3_row1_col6\" class=\"data row1 col6\" >556.16%</td>\n",
       "    </tr>\n",
       "    <tr>\n",
       "      <th id=\"T_4b1d3_level0_row2\" class=\"row_heading level0 row2\" >145</th>\n",
       "      <td id=\"T_4b1d3_row2_col0\" class=\"data row2 col0\" >TVO</td>\n",
       "      <td id=\"T_4b1d3_row2_col1\" class=\"data row2 col1\" >2025</td>\n",
       "      <td id=\"T_4b1d3_row2_col2\" class=\"data row2 col2\" >Q2</td>\n",
       "      <td id=\"T_4b1d3_row2_col3\" class=\"data row2 col3\" >2,425,616</td>\n",
       "      <td id=\"T_4b1d3_row2_col4\" class=\"data row2 col4\" >909,838</td>\n",
       "      <td id=\"T_4b1d3_row2_col5\" class=\"data row2 col5\" >1,515,778</td>\n",
       "      <td id=\"T_4b1d3_row2_col6\" class=\"data row2 col6\" >166.60%</td>\n",
       "    </tr>\n",
       "    <tr>\n",
       "      <th id=\"T_4b1d3_level0_row3\" class=\"row_heading level0 row3\" >101</th>\n",
       "      <td id=\"T_4b1d3_row3_col0\" class=\"data row3 col0\" >ROJNA</td>\n",
       "      <td id=\"T_4b1d3_row3_col1\" class=\"data row3 col1\" >2025</td>\n",
       "      <td id=\"T_4b1d3_row3_col2\" class=\"data row3 col2\" >Q2</td>\n",
       "      <td id=\"T_4b1d3_row3_col3\" class=\"data row3 col3\" >2,220,836</td>\n",
       "      <td id=\"T_4b1d3_row3_col4\" class=\"data row3 col4\" >877,057</td>\n",
       "      <td id=\"T_4b1d3_row3_col5\" class=\"data row3 col5\" >1,343,779</td>\n",
       "      <td id=\"T_4b1d3_row3_col6\" class=\"data row3 col6\" >153.21%</td>\n",
       "    </tr>\n",
       "    <tr>\n",
       "      <th id=\"T_4b1d3_level0_row4\" class=\"row_heading level0 row4\" >29</th>\n",
       "      <td id=\"T_4b1d3_row4_col0\" class=\"data row4 col0\" >CKP</td>\n",
       "      <td id=\"T_4b1d3_row4_col1\" class=\"data row4 col1\" >2025</td>\n",
       "      <td id=\"T_4b1d3_row4_col2\" class=\"data row4 col2\" >Q2</td>\n",
       "      <td id=\"T_4b1d3_row4_col3\" class=\"data row4 col3\" >2,412,207</td>\n",
       "      <td id=\"T_4b1d3_row4_col4\" class=\"data row4 col4\" >1,105,431</td>\n",
       "      <td id=\"T_4b1d3_row4_col5\" class=\"data row4 col5\" >1,306,776</td>\n",
       "      <td id=\"T_4b1d3_row4_col6\" class=\"data row4 col6\" >118.21%</td>\n",
       "    </tr>\n",
       "  </tbody>\n",
       "</table>\n"
      ],
      "text/plain": [
       "<pandas.io.formats.style.Styler at 0x1756c8a97f0>"
      ]
     },
     "execution_count": 16,
     "metadata": {},
     "output_type": "execute_result"
    }
   ],
   "source": [
    "final_criteria = criteria_1 & criteria_2 & criteria_3\n",
    "df_ins.loc[final_criteria, cols].sort_values(by=[\"percent\"], ascending=[False]).head().style.format(format_dict)"
   ]
  },
  {
   "cell_type": "code",
   "execution_count": 17,
   "metadata": {},
   "outputs": [
    {
     "data": {
      "text/html": [
       "<style type=\"text/css\">\n",
       "</style>\n",
       "<table id=\"T_828b1\">\n",
       "  <thead>\n",
       "    <tr>\n",
       "      <th class=\"blank level0\" >&nbsp;</th>\n",
       "      <th id=\"T_828b1_level0_col0\" class=\"col_heading level0 col0\" >name</th>\n",
       "      <th id=\"T_828b1_level0_col1\" class=\"col_heading level0 col1\" >year</th>\n",
       "      <th id=\"T_828b1_level0_col2\" class=\"col_heading level0 col2\" >quarter</th>\n",
       "      <th id=\"T_828b1_level0_col3\" class=\"col_heading level0 col3\" >q_amt_c</th>\n",
       "      <th id=\"T_828b1_level0_col4\" class=\"col_heading level0 col4\" >q_amt_p</th>\n",
       "      <th id=\"T_828b1_level0_col5\" class=\"col_heading level0 col5\" >inc_profit</th>\n",
       "      <th id=\"T_828b1_level0_col6\" class=\"col_heading level0 col6\" >percent</th>\n",
       "    </tr>\n",
       "  </thead>\n",
       "  <tbody>\n",
       "    <tr>\n",
       "      <th id=\"T_828b1_level0_row0\" class=\"row_heading level0 row0\" >4</th>\n",
       "      <td id=\"T_828b1_row0_col0\" class=\"data row0 col0\" >AIMIRT</td>\n",
       "      <td id=\"T_828b1_row0_col1\" class=\"data row0 col1\" >2025</td>\n",
       "      <td id=\"T_828b1_row0_col2\" class=\"data row0 col2\" >Q2</td>\n",
       "      <td id=\"T_828b1_row0_col3\" class=\"data row0 col3\" >827,111</td>\n",
       "      <td id=\"T_828b1_row0_col4\" class=\"data row0 col4\" >485,997</td>\n",
       "      <td id=\"T_828b1_row0_col5\" class=\"data row0 col5\" >341,114</td>\n",
       "      <td id=\"T_828b1_row0_col6\" class=\"data row0 col6\" >70.19%</td>\n",
       "    </tr>\n",
       "    <tr>\n",
       "      <th id=\"T_828b1_level0_row1\" class=\"row_heading level0 row1\" >6</th>\n",
       "      <td id=\"T_828b1_row1_col0\" class=\"data row1 col0\" >AOT</td>\n",
       "      <td id=\"T_828b1_row1_col1\" class=\"data row1 col1\" >2025</td>\n",
       "      <td id=\"T_828b1_row1_col2\" class=\"data row1 col2\" >Q2</td>\n",
       "      <td id=\"T_828b1_row1_col3\" class=\"data row1 col3\" >19,232,337</td>\n",
       "      <td id=\"T_828b1_row1_col4\" class=\"data row1 col4\" >13,011,133</td>\n",
       "      <td id=\"T_828b1_row1_col5\" class=\"data row1 col5\" >6,221,204</td>\n",
       "      <td id=\"T_828b1_row1_col6\" class=\"data row1 col6\" >47.81%</td>\n",
       "    </tr>\n",
       "    <tr>\n",
       "      <th id=\"T_828b1_level0_row2\" class=\"row_heading level0 row2\" >7</th>\n",
       "      <td id=\"T_828b1_row2_col0\" class=\"data row2 col0\" >ASIAN</td>\n",
       "      <td id=\"T_828b1_row2_col1\" class=\"data row2 col1\" >2025</td>\n",
       "      <td id=\"T_828b1_row2_col2\" class=\"data row2 col2\" >Q2</td>\n",
       "      <td id=\"T_828b1_row2_col3\" class=\"data row2 col3\" >713,985</td>\n",
       "      <td id=\"T_828b1_row2_col4\" class=\"data row2 col4\" >497,519</td>\n",
       "      <td id=\"T_828b1_row2_col5\" class=\"data row2 col5\" >216,466</td>\n",
       "      <td id=\"T_828b1_row2_col6\" class=\"data row2 col6\" >43.51%</td>\n",
       "    </tr>\n",
       "    <tr>\n",
       "      <th id=\"T_828b1_level0_row3\" class=\"row_heading level0 row3\" >10</th>\n",
       "      <td id=\"T_828b1_row3_col0\" class=\"data row3 col0\" >AWC</td>\n",
       "      <td id=\"T_828b1_row3_col1\" class=\"data row3 col1\" >2025</td>\n",
       "      <td id=\"T_828b1_row3_col2\" class=\"data row3 col2\" >Q2</td>\n",
       "      <td id=\"T_828b1_row3_col3\" class=\"data row3 col3\" >6,372,358</td>\n",
       "      <td id=\"T_828b1_row3_col4\" class=\"data row3 col4\" >5,220,380</td>\n",
       "      <td id=\"T_828b1_row3_col5\" class=\"data row3 col5\" >1,151,978</td>\n",
       "      <td id=\"T_828b1_row3_col6\" class=\"data row3 col6\" >22.07%</td>\n",
       "    </tr>\n",
       "    <tr>\n",
       "      <th id=\"T_828b1_level0_row4\" class=\"row_heading level0 row4\" >13</th>\n",
       "      <td id=\"T_828b1_row4_col0\" class=\"data row4 col0\" >BBL</td>\n",
       "      <td id=\"T_828b1_row4_col1\" class=\"data row4 col1\" >2025</td>\n",
       "      <td id=\"T_828b1_row4_col2\" class=\"data row4 col2\" >Q2</td>\n",
       "      <td id=\"T_828b1_row4_col3\" class=\"data row4 col3\" >47,338,316</td>\n",
       "      <td id=\"T_828b1_row4_col4\" class=\"data row4 col4\" >42,029,883</td>\n",
       "      <td id=\"T_828b1_row4_col5\" class=\"data row4 col5\" >5,308,433</td>\n",
       "      <td id=\"T_828b1_row4_col6\" class=\"data row4 col6\" >12.63%</td>\n",
       "    </tr>\n",
       "  </tbody>\n",
       "</table>\n"
      ],
      "text/plain": [
       "<pandas.io.formats.style.Styler at 0x175703c0cb0>"
      ]
     },
     "execution_count": 17,
     "metadata": {},
     "output_type": "execute_result"
    }
   ],
   "source": [
    "df_ins.loc[final_criteria, cols].sort_values(by=[\"name\"], ascending=[True]).head().style.format(format_dict)"
   ]
  },
  {
   "cell_type": "code",
   "execution_count": 18,
   "metadata": {},
   "outputs": [
    {
     "data": {
      "text/html": [
       "<style type=\"text/css\">\n",
       "</style>\n",
       "<table id=\"T_4ae09\">\n",
       "  <thead>\n",
       "    <tr>\n",
       "      <th class=\"blank level0\" >&nbsp;</th>\n",
       "      <th id=\"T_4ae09_level0_col0\" class=\"col_heading level0 col0\" >name</th>\n",
       "      <th id=\"T_4ae09_level0_col1\" class=\"col_heading level0 col1\" >year</th>\n",
       "      <th id=\"T_4ae09_level0_col2\" class=\"col_heading level0 col2\" >quarter</th>\n",
       "      <th id=\"T_4ae09_level0_col3\" class=\"col_heading level0 col3\" >q_amt_c</th>\n",
       "      <th id=\"T_4ae09_level0_col4\" class=\"col_heading level0 col4\" >q_amt_p</th>\n",
       "      <th id=\"T_4ae09_level0_col5\" class=\"col_heading level0 col5\" >inc_profit</th>\n",
       "      <th id=\"T_4ae09_level0_col6\" class=\"col_heading level0 col6\" >percent</th>\n",
       "    </tr>\n",
       "  </thead>\n",
       "  <tbody>\n",
       "    <tr>\n",
       "      <th id=\"T_4ae09_level0_row0\" class=\"row_heading level0 row0\" >4</th>\n",
       "      <td id=\"T_4ae09_row0_col0\" class=\"data row0 col0\" >AIMIRT</td>\n",
       "      <td id=\"T_4ae09_row0_col1\" class=\"data row0 col1\" >2025</td>\n",
       "      <td id=\"T_4ae09_row0_col2\" class=\"data row0 col2\" >Q2</td>\n",
       "      <td id=\"T_4ae09_row0_col3\" class=\"data row0 col3\" >827,111</td>\n",
       "      <td id=\"T_4ae09_row0_col4\" class=\"data row0 col4\" >485,997</td>\n",
       "      <td id=\"T_4ae09_row0_col5\" class=\"data row0 col5\" >341,114</td>\n",
       "      <td id=\"T_4ae09_row0_col6\" class=\"data row0 col6\" >70.19%</td>\n",
       "    </tr>\n",
       "    <tr>\n",
       "      <th id=\"T_4ae09_level0_row1\" class=\"row_heading level0 row1\" >6</th>\n",
       "      <td id=\"T_4ae09_row1_col0\" class=\"data row1 col0\" >AOT</td>\n",
       "      <td id=\"T_4ae09_row1_col1\" class=\"data row1 col1\" >2025</td>\n",
       "      <td id=\"T_4ae09_row1_col2\" class=\"data row1 col2\" >Q2</td>\n",
       "      <td id=\"T_4ae09_row1_col3\" class=\"data row1 col3\" >19,232,337</td>\n",
       "      <td id=\"T_4ae09_row1_col4\" class=\"data row1 col4\" >13,011,133</td>\n",
       "      <td id=\"T_4ae09_row1_col5\" class=\"data row1 col5\" >6,221,204</td>\n",
       "      <td id=\"T_4ae09_row1_col6\" class=\"data row1 col6\" >47.81%</td>\n",
       "    </tr>\n",
       "    <tr>\n",
       "      <th id=\"T_4ae09_level0_row2\" class=\"row_heading level0 row2\" >7</th>\n",
       "      <td id=\"T_4ae09_row2_col0\" class=\"data row2 col0\" >ASIAN</td>\n",
       "      <td id=\"T_4ae09_row2_col1\" class=\"data row2 col1\" >2025</td>\n",
       "      <td id=\"T_4ae09_row2_col2\" class=\"data row2 col2\" >Q2</td>\n",
       "      <td id=\"T_4ae09_row2_col3\" class=\"data row2 col3\" >713,985</td>\n",
       "      <td id=\"T_4ae09_row2_col4\" class=\"data row2 col4\" >497,519</td>\n",
       "      <td id=\"T_4ae09_row2_col5\" class=\"data row2 col5\" >216,466</td>\n",
       "      <td id=\"T_4ae09_row2_col6\" class=\"data row2 col6\" >43.51%</td>\n",
       "    </tr>\n",
       "    <tr>\n",
       "      <th id=\"T_4ae09_level0_row3\" class=\"row_heading level0 row3\" >10</th>\n",
       "      <td id=\"T_4ae09_row3_col0\" class=\"data row3 col0\" >AWC</td>\n",
       "      <td id=\"T_4ae09_row3_col1\" class=\"data row3 col1\" >2025</td>\n",
       "      <td id=\"T_4ae09_row3_col2\" class=\"data row3 col2\" >Q2</td>\n",
       "      <td id=\"T_4ae09_row3_col3\" class=\"data row3 col3\" >6,372,358</td>\n",
       "      <td id=\"T_4ae09_row3_col4\" class=\"data row3 col4\" >5,220,380</td>\n",
       "      <td id=\"T_4ae09_row3_col5\" class=\"data row3 col5\" >1,151,978</td>\n",
       "      <td id=\"T_4ae09_row3_col6\" class=\"data row3 col6\" >22.07%</td>\n",
       "    </tr>\n",
       "    <tr>\n",
       "      <th id=\"T_4ae09_level0_row4\" class=\"row_heading level0 row4\" >13</th>\n",
       "      <td id=\"T_4ae09_row4_col0\" class=\"data row4 col0\" >BBL</td>\n",
       "      <td id=\"T_4ae09_row4_col1\" class=\"data row4 col1\" >2025</td>\n",
       "      <td id=\"T_4ae09_row4_col2\" class=\"data row4 col2\" >Q2</td>\n",
       "      <td id=\"T_4ae09_row4_col3\" class=\"data row4 col3\" >47,338,316</td>\n",
       "      <td id=\"T_4ae09_row4_col4\" class=\"data row4 col4\" >42,029,883</td>\n",
       "      <td id=\"T_4ae09_row4_col5\" class=\"data row4 col5\" >5,308,433</td>\n",
       "      <td id=\"T_4ae09_row4_col6\" class=\"data row4 col6\" >12.63%</td>\n",
       "    </tr>\n",
       "  </tbody>\n",
       "</table>\n"
      ],
      "text/plain": [
       "<pandas.io.formats.style.Styler at 0x1757044e570>"
      ]
     },
     "execution_count": 18,
     "metadata": {},
     "output_type": "execute_result"
    }
   ],
   "source": [
    "df_ins.loc[final_criteria, cols].sort_values(by=[\"name\"], ascending=[True]).head().style.format(format_dict)"
   ]
  },
  {
   "cell_type": "code",
   "execution_count": 19,
   "metadata": {},
   "outputs": [],
   "source": [
    "conlt.commit()\n",
    "conlt.close()"
   ]
  },
  {
   "cell_type": "code",
   "execution_count": 20,
   "metadata": {},
   "outputs": [
    {
     "name": "stdout",
     "output_type": "stream",
     "text": [
      "2025:08:19 20:15:48\n"
     ]
    }
   ],
   "source": [
    "current_time = datetime.now()\n",
    "formatted_time = current_time.strftime(\"%Y:%m:%d %H:%M:%S\")\n",
    "print(formatted_time)"
   ]
  }
 ],
 "metadata": {
  "anaconda-cloud": {},
  "kernelspec": {
   "display_name": "Python 3 (ipykernel)",
   "language": "python",
   "name": "python3"
  },
  "language_info": {
   "codemirror_mode": {
    "name": "ipython",
    "version": 3
   },
   "file_extension": ".py",
   "mimetype": "text/x-python",
   "name": "python",
   "nbconvert_exporter": "python",
   "pygments_lexer": "ipython3",
   "version": "3.12.3"
  }
 },
 "nbformat": 4,
 "nbformat_minor": 4
}
