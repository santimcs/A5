{
 "cells": [
  {
   "cell_type": "markdown",
   "metadata": {},
   "source": [
    "### Restart and Run All Cells"
   ]
  },
  {
   "cell_type": "code",
   "execution_count": 2,
   "metadata": {},
   "outputs": [
    {
     "data": {
      "text/plain": [
       "'2025-02-08'"
      ]
     },
     "execution_count": 2,
     "metadata": {},
     "output_type": "execute_result"
    }
   ],
   "source": [
    "import pandas as pd\n",
    "from datetime import date, timedelta, datetime\n",
    "from sqlalchemy import create_engine, text\n",
    "engine = create_engine(\"sqlite:///c:\\\\ruby\\\\portlt\\\\db\\\\development.sqlite3\")\n",
    "conlt = engine.connect()\n",
    "year = 2024\n",
    "quarter = 4\n",
    "today = date.today()\n",
    "today_str = today.strftime(\"%Y-%m-%d\")\n",
    "today_str"
   ]
  },
  {
   "cell_type": "code",
   "execution_count": 3,
   "metadata": {},
   "outputs": [],
   "source": [
    "cols = 'name year quarter q_amt_c q_amt_p inc_profit percent'.split()\n",
    "\n",
    "format_dict = {\n",
    "                'q_amt':'{:,}','q_amt_c':'{:,}','q_amt_p':'{:,}','inc_profit':'{:,}',\n",
    "                'yoy_gain':'{:,}','acc_gain':'{:,}',   \n",
    "                'latest_amt':'{:,}','previous_amt':'{:,}','inc_amt':'{:,}',\n",
    "                'q_eps':'{:.4f}','y_eps':'{:.4f}','aq_eps':'{:.4f}','ay_eps':'{:.4f}',\n",
    "                'percent':'{:.2f}%','inc_pct':'{:.2f}%'\n",
    "              }"
   ]
  },
  {
   "cell_type": "code",
   "execution_count": 4,
   "metadata": {},
   "outputs": [
    {
     "name": "stdout",
     "output_type": "stream",
     "text": [
      "\n",
      "SELECT name,year,quarter,q_amt \n",
      "FROM epss \n",
      "WHERE (year = 2024 AND quarter <= 4) \n",
      "OR (year = 2024-1 AND quarter >= 4+1)\n",
      "ORDER BY year DESC, quarter DESC\n",
      "\n"
     ]
    }
   ],
   "source": [
    "sql = \"\"\"\n",
    "SELECT name,year,quarter,q_amt \n",
    "FROM epss \n",
    "WHERE (year = %s AND quarter <= %s) \n",
    "OR (year = %s-1 AND quarter >= %s+1)\n",
    "ORDER BY year DESC, quarter DESC\n",
    "\"\"\"\n",
    "sql = sql % (year, quarter, year, quarter)\n",
    "print(sql)"
   ]
  },
  {
   "cell_type": "code",
   "execution_count": 5,
   "metadata": {},
   "outputs": [
    {
     "data": {
      "text/plain": [
       "(21, 5)"
      ]
     },
     "execution_count": 5,
     "metadata": {},
     "output_type": "execute_result"
    }
   ],
   "source": [
    "dfc = pd.read_sql(sql, conlt)\n",
    "dfc[\"Counter\"] = 1\n",
    "dfc_grp = dfc.groupby([\"name\"], as_index=False).sum()\n",
    "dfc_grp = dfc_grp[dfc_grp[\"Counter\"] == 4]\n",
    "dfc_grp.shape"
   ]
  },
  {
   "cell_type": "code",
   "execution_count": 6,
   "metadata": {},
   "outputs": [
    {
     "name": "stdout",
     "output_type": "stream",
     "text": [
      "\n",
      "SELECT name,year,quarter,q_amt \n",
      "FROM epss \n",
      "WHERE (year = 2024 AND quarter <= 4-1) \n",
      "OR (year = 2024-1 AND quarter >= 4) \n",
      "ORDER BY year DESC, quarter DESC\n"
     ]
    }
   ],
   "source": [
    "sql = \"\"\"\n",
    "SELECT name,year,quarter,q_amt \n",
    "FROM epss \n",
    "WHERE (year = %s AND quarter <= %s-1) \n",
    "OR (year = %s-1 AND quarter >= %s) \n",
    "ORDER BY year DESC, quarter DESC\"\"\"\n",
    "sql = sql % (year, quarter, year, quarter)\n",
    "print(sql)"
   ]
  },
  {
   "cell_type": "code",
   "execution_count": 7,
   "metadata": {},
   "outputs": [
    {
     "data": {
      "text/html": [
       "<style type=\"text/css\">\n",
       "</style>\n",
       "<table id=\"T_0154f\">\n",
       "  <thead>\n",
       "    <tr>\n",
       "      <th class=\"blank level0\" >&nbsp;</th>\n",
       "      <th id=\"T_0154f_level0_col0\" class=\"col_heading level0 col0\" >name</th>\n",
       "      <th id=\"T_0154f_level0_col1\" class=\"col_heading level0 col1\" >year</th>\n",
       "      <th id=\"T_0154f_level0_col2\" class=\"col_heading level0 col2\" >quarter</th>\n",
       "      <th id=\"T_0154f_level0_col3\" class=\"col_heading level0 col3\" >q_amt</th>\n",
       "      <th id=\"T_0154f_level0_col4\" class=\"col_heading level0 col4\" >Counter</th>\n",
       "    </tr>\n",
       "  </thead>\n",
       "  <tbody>\n",
       "    <tr>\n",
       "      <th id=\"T_0154f_level0_row0\" class=\"row_heading level0 row0\" >0</th>\n",
       "      <td id=\"T_0154f_row0_col0\" class=\"data row0 col0\" >3BBIF</td>\n",
       "      <td id=\"T_0154f_row0_col1\" class=\"data row0 col1\" >8095</td>\n",
       "      <td id=\"T_0154f_row0_col2\" class=\"data row0 col2\" >10</td>\n",
       "      <td id=\"T_0154f_row0_col3\" class=\"data row0 col3\" >2,443,671</td>\n",
       "      <td id=\"T_0154f_row0_col4\" class=\"data row0 col4\" >4</td>\n",
       "    </tr>\n",
       "    <tr>\n",
       "      <th id=\"T_0154f_level0_row1\" class=\"row_heading level0 row1\" >1</th>\n",
       "      <td id=\"T_0154f_row1_col0\" class=\"data row1 col0\" >ACE</td>\n",
       "      <td id=\"T_0154f_row1_col1\" class=\"data row1 col1\" >8095</td>\n",
       "      <td id=\"T_0154f_row1_col2\" class=\"data row1 col2\" >10</td>\n",
       "      <td id=\"T_0154f_row1_col3\" class=\"data row1 col3\" >750,207</td>\n",
       "      <td id=\"T_0154f_row1_col4\" class=\"data row1 col4\" >4</td>\n",
       "    </tr>\n",
       "    <tr>\n",
       "      <th id=\"T_0154f_level0_row2\" class=\"row_heading level0 row2\" >2</th>\n",
       "      <td id=\"T_0154f_row2_col0\" class=\"data row2 col0\" >ADVANC</td>\n",
       "      <td id=\"T_0154f_row2_col1\" class=\"data row2 col1\" >8095</td>\n",
       "      <td id=\"T_0154f_row2_col2\" class=\"data row2 col2\" >10</td>\n",
       "      <td id=\"T_0154f_row2_col3\" class=\"data row2 col3\" >32,818,977</td>\n",
       "      <td id=\"T_0154f_row2_col4\" class=\"data row2 col4\" >4</td>\n",
       "    </tr>\n",
       "    <tr>\n",
       "      <th id=\"T_0154f_level0_row3\" class=\"row_heading level0 row3\" >3</th>\n",
       "      <td id=\"T_0154f_row3_col0\" class=\"data row3 col0\" >AEONTS</td>\n",
       "      <td id=\"T_0154f_row3_col1\" class=\"data row3 col1\" >8095</td>\n",
       "      <td id=\"T_0154f_row3_col2\" class=\"data row3 col2\" >10</td>\n",
       "      <td id=\"T_0154f_row3_col3\" class=\"data row3 col3\" >3,228,445</td>\n",
       "      <td id=\"T_0154f_row3_col4\" class=\"data row3 col4\" >4</td>\n",
       "    </tr>\n",
       "    <tr>\n",
       "      <th id=\"T_0154f_level0_row4\" class=\"row_heading level0 row4\" >4</th>\n",
       "      <td id=\"T_0154f_row4_col0\" class=\"data row4 col0\" >AH</td>\n",
       "      <td id=\"T_0154f_row4_col1\" class=\"data row4 col1\" >8095</td>\n",
       "      <td id=\"T_0154f_row4_col2\" class=\"data row4 col2\" >10</td>\n",
       "      <td id=\"T_0154f_row4_col3\" class=\"data row4 col3\" >764,738</td>\n",
       "      <td id=\"T_0154f_row4_col4\" class=\"data row4 col4\" >4</td>\n",
       "    </tr>\n",
       "  </tbody>\n",
       "</table>\n"
      ],
      "text/plain": [
       "<pandas.io.formats.style.Styler at 0x1916cd0d490>"
      ]
     },
     "execution_count": 7,
     "metadata": {},
     "output_type": "execute_result"
    }
   ],
   "source": [
    "dfp = pd.read_sql(sql, conlt)\n",
    "dfp[\"Counter\"] = 1\n",
    "dfp_grp = dfp.groupby([\"name\"], as_index=False).sum()\n",
    "dfp_grp = dfp_grp[dfp_grp[\"Counter\"] == 4]\n",
    "dfp_grp.head().style.format(format_dict)"
   ]
  },
  {
   "cell_type": "code",
   "execution_count": 8,
   "metadata": {},
   "outputs": [
    {
     "data": {
      "text/plain": [
       "(224,)"
      ]
     },
     "execution_count": 8,
     "metadata": {},
     "output_type": "execute_result"
    }
   ],
   "source": [
    "dfp.name.unique().shape"
   ]
  },
  {
   "cell_type": "code",
   "execution_count": 9,
   "metadata": {},
   "outputs": [
    {
     "data": {
      "text/plain": [
       "(226, 15)"
      ]
     },
     "execution_count": 9,
     "metadata": {},
     "output_type": "execute_result"
    }
   ],
   "source": [
    "sql = \"\"\"\n",
    "SELECT *\n",
    "FROM stocks\n",
    "\"\"\"\n",
    "stocks = pd.read_sql(sql, conlt)\n",
    "stocks.shape"
   ]
  },
  {
   "cell_type": "code",
   "execution_count": 10,
   "metadata": {},
   "outputs": [
    {
     "data": {
      "text/plain": [
       "(394, 9)"
      ]
     },
     "execution_count": 10,
     "metadata": {},
     "output_type": "execute_result"
    }
   ],
   "source": [
    "sql = \"\"\"\n",
    "SELECT *\n",
    "FROM tickers\n",
    "\"\"\"\n",
    "tickers = pd.read_sql(sql, conlt)\n",
    "tickers.shape"
   ]
  },
  {
   "cell_type": "code",
   "execution_count": 11,
   "metadata": {},
   "outputs": [
    {
     "data": {
      "text/html": [
       "<style type=\"text/css\">\n",
       "</style>\n",
       "<table id=\"T_7b864\">\n",
       "  <thead>\n",
       "    <tr>\n",
       "      <th class=\"blank level0\" >&nbsp;</th>\n",
       "      <th id=\"T_7b864_level0_col0\" class=\"col_heading level0 col0\" >name</th>\n",
       "      <th id=\"T_7b864_level0_col1\" class=\"col_heading level0 col1\" >year</th>\n",
       "      <th id=\"T_7b864_level0_col2\" class=\"col_heading level0 col2\" >quarter</th>\n",
       "      <th id=\"T_7b864_level0_col3\" class=\"col_heading level0 col3\" >q_amt_c</th>\n",
       "      <th id=\"T_7b864_level0_col4\" class=\"col_heading level0 col4\" >q_amt_p</th>\n",
       "      <th id=\"T_7b864_level0_col5\" class=\"col_heading level0 col5\" >inc_profit</th>\n",
       "      <th id=\"T_7b864_level0_col6\" class=\"col_heading level0 col6\" >percent</th>\n",
       "    </tr>\n",
       "  </thead>\n",
       "  <tbody>\n",
       "    <tr>\n",
       "      <th id=\"T_7b864_level0_row0\" class=\"row_heading level0 row0\" >0</th>\n",
       "      <td id=\"T_7b864_row0_col0\" class=\"data row0 col0\" >3BBIF</td>\n",
       "      <td id=\"T_7b864_row0_col1\" class=\"data row0 col1\" >2024</td>\n",
       "      <td id=\"T_7b864_row0_col2\" class=\"data row0 col2\" >Q4</td>\n",
       "      <td id=\"T_7b864_row0_col3\" class=\"data row0 col3\" >5,279,119</td>\n",
       "      <td id=\"T_7b864_row0_col4\" class=\"data row0 col4\" >2,443,671</td>\n",
       "      <td id=\"T_7b864_row0_col5\" class=\"data row0 col5\" >2,835,448</td>\n",
       "      <td id=\"T_7b864_row0_col6\" class=\"data row0 col6\" >116.03%</td>\n",
       "    </tr>\n",
       "    <tr>\n",
       "      <th id=\"T_7b864_level0_row1\" class=\"row_heading level0 row1\" >1</th>\n",
       "      <td id=\"T_7b864_row1_col0\" class=\"data row1 col0\" >ADVANC</td>\n",
       "      <td id=\"T_7b864_row1_col1\" class=\"data row1 col1\" >2024</td>\n",
       "      <td id=\"T_7b864_row1_col2\" class=\"data row1 col2\" >Q4</td>\n",
       "      <td id=\"T_7b864_row1_col3\" class=\"data row1 col3\" >35,075,357</td>\n",
       "      <td id=\"T_7b864_row1_col4\" class=\"data row1 col4\" >32,818,977</td>\n",
       "      <td id=\"T_7b864_row1_col5\" class=\"data row1 col5\" >2,256,380</td>\n",
       "      <td id=\"T_7b864_row1_col6\" class=\"data row1 col6\" >6.88%</td>\n",
       "    </tr>\n",
       "    <tr>\n",
       "      <th id=\"T_7b864_level0_row2\" class=\"row_heading level0 row2\" >2</th>\n",
       "      <td id=\"T_7b864_row2_col0\" class=\"data row2 col0\" >BAY</td>\n",
       "      <td id=\"T_7b864_row2_col1\" class=\"data row2 col1\" >2024</td>\n",
       "      <td id=\"T_7b864_row2_col2\" class=\"data row2 col2\" >Q4</td>\n",
       "      <td id=\"T_7b864_row2_col3\" class=\"data row2 col3\" >29,699,751</td>\n",
       "      <td id=\"T_7b864_row2_col4\" class=\"data row2 col4\" >31,155,715</td>\n",
       "      <td id=\"T_7b864_row2_col5\" class=\"data row2 col5\" >-1,455,964</td>\n",
       "      <td id=\"T_7b864_row2_col6\" class=\"data row2 col6\" >-4.67%</td>\n",
       "    </tr>\n",
       "    <tr>\n",
       "      <th id=\"T_7b864_level0_row3\" class=\"row_heading level0 row3\" >3</th>\n",
       "      <td id=\"T_7b864_row3_col0\" class=\"data row3 col0\" >BBL</td>\n",
       "      <td id=\"T_7b864_row3_col1\" class=\"data row3 col1\" >2024</td>\n",
       "      <td id=\"T_7b864_row3_col2\" class=\"data row3 col2\" >Q4</td>\n",
       "      <td id=\"T_7b864_row3_col3\" class=\"data row3 col3\" >45,211,145</td>\n",
       "      <td id=\"T_7b864_row3_col4\" class=\"data row3 col4\" >43,669,640</td>\n",
       "      <td id=\"T_7b864_row3_col5\" class=\"data row3 col5\" >1,541,505</td>\n",
       "      <td id=\"T_7b864_row3_col6\" class=\"data row3 col6\" >3.53%</td>\n",
       "    </tr>\n",
       "    <tr>\n",
       "      <th id=\"T_7b864_level0_row4\" class=\"row_heading level0 row4\" >4</th>\n",
       "      <td id=\"T_7b864_row4_col0\" class=\"data row4 col0\" >FPT</td>\n",
       "      <td id=\"T_7b864_row4_col1\" class=\"data row4 col1\" >2024</td>\n",
       "      <td id=\"T_7b864_row4_col2\" class=\"data row4 col2\" >Q4</td>\n",
       "      <td id=\"T_7b864_row4_col3\" class=\"data row4 col3\" >1,438,028</td>\n",
       "      <td id=\"T_7b864_row4_col4\" class=\"data row4 col4\" >1,636,546</td>\n",
       "      <td id=\"T_7b864_row4_col5\" class=\"data row4 col5\" >-198,518</td>\n",
       "      <td id=\"T_7b864_row4_col6\" class=\"data row4 col6\" >-12.13%</td>\n",
       "    </tr>\n",
       "  </tbody>\n",
       "</table>\n"
      ],
      "text/plain": [
       "<pandas.io.formats.style.Styler at 0x1916dc38500>"
      ]
     },
     "execution_count": 11,
     "metadata": {},
     "output_type": "execute_result"
    }
   ],
   "source": [
    "dfm = pd.merge(dfc_grp, dfp_grp, on=\"name\", suffixes=([\"_c\", \"_p\"]), how=\"inner\")\n",
    "dfm[\"inc_profit\"] = dfm[\"q_amt_c\"] - dfm[\"q_amt_p\"]\n",
    "dfm[\"percent\"] = round(dfm[\"inc_profit\"] / abs(dfm[\"q_amt_p\"]) * 100, 2)\n",
    "dfm[\"year\"] = year\n",
    "dfm[\"quarter\"] = \"Q\" + str(quarter)\n",
    "df_percent = dfm[cols]\n",
    "df_percent.head().style.format(format_dict)"
   ]
  },
  {
   "cell_type": "code",
   "execution_count": 12,
   "metadata": {},
   "outputs": [
    {
     "name": "stdout",
     "output_type": "stream",
     "text": [
      "Rows deleted: 17\n"
     ]
    }
   ],
   "source": [
    "# Create the SQL query with parameter binding\n",
    "sql = text(\"DELETE FROM qt_profits WHERE year = :year AND quarter = :quarter\")\n",
    "\n",
    "# Execute the query with parameters\n",
    "params = {'year': year, 'quarter': f'Q{quarter}'}\n",
    "rp = conlt.execute(sql, params)\n",
    "\n",
    "# Print the number of rows affected\n",
    "print(\"Rows deleted:\", rp.rowcount)"
   ]
  },
  {
   "cell_type": "code",
   "execution_count": 13,
   "metadata": {},
   "outputs": [
    {
     "data": {
      "text/html": [
       "<div>\n",
       "<style scoped>\n",
       "    .dataframe tbody tr th:only-of-type {\n",
       "        vertical-align: middle;\n",
       "    }\n",
       "\n",
       "    .dataframe tbody tr th {\n",
       "        vertical-align: top;\n",
       "    }\n",
       "\n",
       "    .dataframe thead th {\n",
       "        text-align: right;\n",
       "    }\n",
       "</style>\n",
       "<table border=\"1\" class=\"dataframe\">\n",
       "  <thead>\n",
       "    <tr style=\"text-align: right;\">\n",
       "      <th></th>\n",
       "      <th>name</th>\n",
       "      <th>id</th>\n",
       "    </tr>\n",
       "  </thead>\n",
       "  <tbody>\n",
       "    <tr>\n",
       "      <th>247</th>\n",
       "      <td>RICHY</td>\n",
       "      <td>398</td>\n",
       "    </tr>\n",
       "    <tr>\n",
       "      <th>80</th>\n",
       "      <td>CPNCG</td>\n",
       "      <td>122</td>\n",
       "    </tr>\n",
       "    <tr>\n",
       "      <th>347</th>\n",
       "      <td>TNPC</td>\n",
       "      <td>552</td>\n",
       "    </tr>\n",
       "    <tr>\n",
       "      <th>228</th>\n",
       "      <td>PREB</td>\n",
       "      <td>372</td>\n",
       "    </tr>\n",
       "    <tr>\n",
       "      <th>130</th>\n",
       "      <td>HANA</td>\n",
       "      <td>205</td>\n",
       "    </tr>\n",
       "  </tbody>\n",
       "</table>\n",
       "</div>"
      ],
      "text/plain": [
       "      name   id\n",
       "247  RICHY  398\n",
       "80   CPNCG  122\n",
       "347   TNPC  552\n",
       "228   PREB  372\n",
       "130   HANA  205"
      ]
     },
     "execution_count": 13,
     "metadata": {},
     "output_type": "execute_result"
    }
   ],
   "source": [
    "sql = \"SELECT name, id FROM tickers\"\n",
    "tickers = pd.read_sql(sql, conlt)\n",
    "tickers.sample(5)"
   ]
  },
  {
   "cell_type": "code",
   "execution_count": 14,
   "metadata": {},
   "outputs": [
    {
     "data": {
      "text/html": [
       "<style type=\"text/css\">\n",
       "</style>\n",
       "<table id=\"T_04469\">\n",
       "  <thead>\n",
       "    <tr>\n",
       "      <th class=\"blank level0\" >&nbsp;</th>\n",
       "      <th id=\"T_04469_level0_col0\" class=\"col_heading level0 col0\" >name</th>\n",
       "      <th id=\"T_04469_level0_col1\" class=\"col_heading level0 col1\" >year</th>\n",
       "      <th id=\"T_04469_level0_col2\" class=\"col_heading level0 col2\" >quarter</th>\n",
       "      <th id=\"T_04469_level0_col3\" class=\"col_heading level0 col3\" >q_amt_c</th>\n",
       "      <th id=\"T_04469_level0_col4\" class=\"col_heading level0 col4\" >q_amt_p</th>\n",
       "      <th id=\"T_04469_level0_col5\" class=\"col_heading level0 col5\" >inc_profit</th>\n",
       "      <th id=\"T_04469_level0_col6\" class=\"col_heading level0 col6\" >percent</th>\n",
       "      <th id=\"T_04469_level0_col7\" class=\"col_heading level0 col7\" >id</th>\n",
       "    </tr>\n",
       "  </thead>\n",
       "  <tbody>\n",
       "    <tr>\n",
       "      <th id=\"T_04469_level0_row0\" class=\"row_heading level0 row0\" >0</th>\n",
       "      <td id=\"T_04469_row0_col0\" class=\"data row0 col0\" >3BBIF</td>\n",
       "      <td id=\"T_04469_row0_col1\" class=\"data row0 col1\" >2024</td>\n",
       "      <td id=\"T_04469_row0_col2\" class=\"data row0 col2\" >Q4</td>\n",
       "      <td id=\"T_04469_row0_col3\" class=\"data row0 col3\" >5,279,119</td>\n",
       "      <td id=\"T_04469_row0_col4\" class=\"data row0 col4\" >2,443,671</td>\n",
       "      <td id=\"T_04469_row0_col5\" class=\"data row0 col5\" >2,835,448</td>\n",
       "      <td id=\"T_04469_row0_col6\" class=\"data row0 col6\" >116.03%</td>\n",
       "      <td id=\"T_04469_row0_col7\" class=\"data row0 col7\" >234</td>\n",
       "    </tr>\n",
       "    <tr>\n",
       "      <th id=\"T_04469_level0_row1\" class=\"row_heading level0 row1\" >1</th>\n",
       "      <td id=\"T_04469_row1_col0\" class=\"data row1 col0\" >ADVANC</td>\n",
       "      <td id=\"T_04469_row1_col1\" class=\"data row1 col1\" >2024</td>\n",
       "      <td id=\"T_04469_row1_col2\" class=\"data row1 col2\" >Q4</td>\n",
       "      <td id=\"T_04469_row1_col3\" class=\"data row1 col3\" >35,075,357</td>\n",
       "      <td id=\"T_04469_row1_col4\" class=\"data row1 col4\" >32,818,977</td>\n",
       "      <td id=\"T_04469_row1_col5\" class=\"data row1 col5\" >2,256,380</td>\n",
       "      <td id=\"T_04469_row1_col6\" class=\"data row1 col6\" >6.88%</td>\n",
       "      <td id=\"T_04469_row1_col7\" class=\"data row1 col7\" >6</td>\n",
       "    </tr>\n",
       "    <tr>\n",
       "      <th id=\"T_04469_level0_row2\" class=\"row_heading level0 row2\" >2</th>\n",
       "      <td id=\"T_04469_row2_col0\" class=\"data row2 col0\" >BAY</td>\n",
       "      <td id=\"T_04469_row2_col1\" class=\"data row2 col1\" >2024</td>\n",
       "      <td id=\"T_04469_row2_col2\" class=\"data row2 col2\" >Q4</td>\n",
       "      <td id=\"T_04469_row2_col3\" class=\"data row2 col3\" >29,699,751</td>\n",
       "      <td id=\"T_04469_row2_col4\" class=\"data row2 col4\" >31,155,715</td>\n",
       "      <td id=\"T_04469_row2_col5\" class=\"data row2 col5\" >-1,455,964</td>\n",
       "      <td id=\"T_04469_row2_col6\" class=\"data row2 col6\" >-4.67%</td>\n",
       "      <td id=\"T_04469_row2_col7\" class=\"data row2 col7\" >49</td>\n",
       "    </tr>\n",
       "    <tr>\n",
       "      <th id=\"T_04469_level0_row3\" class=\"row_heading level0 row3\" >3</th>\n",
       "      <td id=\"T_04469_row3_col0\" class=\"data row3 col0\" >BBL</td>\n",
       "      <td id=\"T_04469_row3_col1\" class=\"data row3 col1\" >2024</td>\n",
       "      <td id=\"T_04469_row3_col2\" class=\"data row3 col2\" >Q4</td>\n",
       "      <td id=\"T_04469_row3_col3\" class=\"data row3 col3\" >45,211,145</td>\n",
       "      <td id=\"T_04469_row3_col4\" class=\"data row3 col4\" >43,669,640</td>\n",
       "      <td id=\"T_04469_row3_col5\" class=\"data row3 col5\" >1,541,505</td>\n",
       "      <td id=\"T_04469_row3_col6\" class=\"data row3 col6\" >3.53%</td>\n",
       "      <td id=\"T_04469_row3_col7\" class=\"data row3 col7\" >50</td>\n",
       "    </tr>\n",
       "    <tr>\n",
       "      <th id=\"T_04469_level0_row4\" class=\"row_heading level0 row4\" >4</th>\n",
       "      <td id=\"T_04469_row4_col0\" class=\"data row4 col0\" >FPT</td>\n",
       "      <td id=\"T_04469_row4_col1\" class=\"data row4 col1\" >2024</td>\n",
       "      <td id=\"T_04469_row4_col2\" class=\"data row4 col2\" >Q4</td>\n",
       "      <td id=\"T_04469_row4_col3\" class=\"data row4 col3\" >1,438,028</td>\n",
       "      <td id=\"T_04469_row4_col4\" class=\"data row4 col4\" >1,636,546</td>\n",
       "      <td id=\"T_04469_row4_col5\" class=\"data row4 col5\" >-198,518</td>\n",
       "      <td id=\"T_04469_row4_col6\" class=\"data row4 col6\" >-12.13%</td>\n",
       "      <td id=\"T_04469_row4_col7\" class=\"data row4 col7\" >746</td>\n",
       "    </tr>\n",
       "  </tbody>\n",
       "</table>\n"
      ],
      "text/plain": [
       "<pandas.io.formats.style.Styler at 0x1916db935f0>"
      ]
     },
     "execution_count": 14,
     "metadata": {},
     "output_type": "execute_result"
    }
   ],
   "source": [
    "df_ins = pd.merge(df_percent, tickers, on=\"name\", how=\"inner\")\n",
    "df_ins.head().style.format(format_dict)"
   ]
  },
  {
   "cell_type": "code",
   "execution_count": 15,
   "metadata": {},
   "outputs": [],
   "source": [
    "# Convert DataFrame to list of records\n",
    "rcds = df_ins.values.tolist()\n",
    "\n",
    "# Define column names in the same order as values\n",
    "columns = ['name', 'year', 'quarter', 'latest_amt', 'previous_amt', 'inc_amt', 'inc_pct', 'ticker_id']\n",
    "\n",
    "# SQL insert statement with named parameters\n",
    "sql = text(\"\"\"\n",
    "    INSERT INTO qt_profits \n",
    "    (name, year, quarter, latest_amt, previous_amt, inc_amt, inc_pct, ticker_id)\n",
    "    VALUES (:name, :year, :quarter, :latest_amt, :previous_amt, :inc_amt, :inc_pct, :ticker_id)\n",
    "\"\"\")\n",
    "\n",
    "try:\n",
    "    # Execute inserts\n",
    "    for rcd in rcds:\n",
    "        # Convert list to dictionary\n",
    "        params = dict(zip(columns, rcd))\n",
    "        conlt.execute(sql, params)\n",
    "except Exception as e:\n",
    "    raise e"
   ]
  },
  {
   "cell_type": "markdown",
   "metadata": {},
   "source": [
    "### End of loop"
   ]
  },
  {
   "cell_type": "code",
   "execution_count": 17,
   "metadata": {},
   "outputs": [
    {
     "data": {
      "text/html": [
       "<style type=\"text/css\">\n",
       "</style>\n",
       "<table id=\"T_d705c\">\n",
       "  <thead>\n",
       "    <tr>\n",
       "      <th class=\"blank level0\" >&nbsp;</th>\n",
       "      <th id=\"T_d705c_level0_col0\" class=\"col_heading level0 col0\" >name</th>\n",
       "      <th id=\"T_d705c_level0_col1\" class=\"col_heading level0 col1\" >year</th>\n",
       "      <th id=\"T_d705c_level0_col2\" class=\"col_heading level0 col2\" >quarter</th>\n",
       "      <th id=\"T_d705c_level0_col3\" class=\"col_heading level0 col3\" >q_amt_c</th>\n",
       "      <th id=\"T_d705c_level0_col4\" class=\"col_heading level0 col4\" >q_amt_p</th>\n",
       "      <th id=\"T_d705c_level0_col5\" class=\"col_heading level0 col5\" >inc_profit</th>\n",
       "      <th id=\"T_d705c_level0_col6\" class=\"col_heading level0 col6\" >percent</th>\n",
       "    </tr>\n",
       "  </thead>\n",
       "  <tbody>\n",
       "    <tr>\n",
       "      <th id=\"T_d705c_level0_row0\" class=\"row_heading level0 row0\" >0</th>\n",
       "      <td id=\"T_d705c_row0_col0\" class=\"data row0 col0\" >3BBIF</td>\n",
       "      <td id=\"T_d705c_row0_col1\" class=\"data row0 col1\" >2024</td>\n",
       "      <td id=\"T_d705c_row0_col2\" class=\"data row0 col2\" >Q4</td>\n",
       "      <td id=\"T_d705c_row0_col3\" class=\"data row0 col3\" >5,279,119</td>\n",
       "      <td id=\"T_d705c_row0_col4\" class=\"data row0 col4\" >2,443,671</td>\n",
       "      <td id=\"T_d705c_row0_col5\" class=\"data row0 col5\" >2,835,448</td>\n",
       "      <td id=\"T_d705c_row0_col6\" class=\"data row0 col6\" >116.03%</td>\n",
       "    </tr>\n",
       "    <tr>\n",
       "      <th id=\"T_d705c_level0_row1\" class=\"row_heading level0 row1\" >1</th>\n",
       "      <td id=\"T_d705c_row1_col0\" class=\"data row1 col0\" >ADVANC</td>\n",
       "      <td id=\"T_d705c_row1_col1\" class=\"data row1 col1\" >2024</td>\n",
       "      <td id=\"T_d705c_row1_col2\" class=\"data row1 col2\" >Q4</td>\n",
       "      <td id=\"T_d705c_row1_col3\" class=\"data row1 col3\" >35,075,357</td>\n",
       "      <td id=\"T_d705c_row1_col4\" class=\"data row1 col4\" >32,818,977</td>\n",
       "      <td id=\"T_d705c_row1_col5\" class=\"data row1 col5\" >2,256,380</td>\n",
       "      <td id=\"T_d705c_row1_col6\" class=\"data row1 col6\" >6.88%</td>\n",
       "    </tr>\n",
       "    <tr>\n",
       "      <th id=\"T_d705c_level0_row2\" class=\"row_heading level0 row2\" >2</th>\n",
       "      <td id=\"T_d705c_row2_col0\" class=\"data row2 col0\" >BAY</td>\n",
       "      <td id=\"T_d705c_row2_col1\" class=\"data row2 col1\" >2024</td>\n",
       "      <td id=\"T_d705c_row2_col2\" class=\"data row2 col2\" >Q4</td>\n",
       "      <td id=\"T_d705c_row2_col3\" class=\"data row2 col3\" >29,699,751</td>\n",
       "      <td id=\"T_d705c_row2_col4\" class=\"data row2 col4\" >31,155,715</td>\n",
       "      <td id=\"T_d705c_row2_col5\" class=\"data row2 col5\" >-1,455,964</td>\n",
       "      <td id=\"T_d705c_row2_col6\" class=\"data row2 col6\" >-4.67%</td>\n",
       "    </tr>\n",
       "    <tr>\n",
       "      <th id=\"T_d705c_level0_row3\" class=\"row_heading level0 row3\" >3</th>\n",
       "      <td id=\"T_d705c_row3_col0\" class=\"data row3 col0\" >BBL</td>\n",
       "      <td id=\"T_d705c_row3_col1\" class=\"data row3 col1\" >2024</td>\n",
       "      <td id=\"T_d705c_row3_col2\" class=\"data row3 col2\" >Q4</td>\n",
       "      <td id=\"T_d705c_row3_col3\" class=\"data row3 col3\" >45,211,145</td>\n",
       "      <td id=\"T_d705c_row3_col4\" class=\"data row3 col4\" >43,669,640</td>\n",
       "      <td id=\"T_d705c_row3_col5\" class=\"data row3 col5\" >1,541,505</td>\n",
       "      <td id=\"T_d705c_row3_col6\" class=\"data row3 col6\" >3.53%</td>\n",
       "    </tr>\n",
       "    <tr>\n",
       "      <th id=\"T_d705c_level0_row4\" class=\"row_heading level0 row4\" >4</th>\n",
       "      <td id=\"T_d705c_row4_col0\" class=\"data row4 col0\" >FPT</td>\n",
       "      <td id=\"T_d705c_row4_col1\" class=\"data row4 col1\" >2024</td>\n",
       "      <td id=\"T_d705c_row4_col2\" class=\"data row4 col2\" >Q4</td>\n",
       "      <td id=\"T_d705c_row4_col3\" class=\"data row4 col3\" >1,438,028</td>\n",
       "      <td id=\"T_d705c_row4_col4\" class=\"data row4 col4\" >1,636,546</td>\n",
       "      <td id=\"T_d705c_row4_col5\" class=\"data row4 col5\" >-198,518</td>\n",
       "      <td id=\"T_d705c_row4_col6\" class=\"data row4 col6\" >-12.13%</td>\n",
       "    </tr>\n",
       "  </tbody>\n",
       "</table>\n"
      ],
      "text/plain": [
       "<pandas.io.formats.style.Styler at 0x1916ccd4260>"
      ]
     },
     "execution_count": 17,
     "metadata": {},
     "output_type": "execute_result"
    }
   ],
   "source": [
    "criteria_1 = df_ins.q_amt_c > 440_000\n",
    "df_ins.loc[criteria_1, cols].head().style.format(format_dict)"
   ]
  },
  {
   "cell_type": "code",
   "execution_count": 18,
   "metadata": {},
   "outputs": [
    {
     "data": {
      "text/html": [
       "<style type=\"text/css\">\n",
       "</style>\n",
       "<table id=\"T_da9d0\">\n",
       "  <thead>\n",
       "    <tr>\n",
       "      <th class=\"blank level0\" >&nbsp;</th>\n",
       "      <th id=\"T_da9d0_level0_col0\" class=\"col_heading level0 col0\" >name</th>\n",
       "      <th id=\"T_da9d0_level0_col1\" class=\"col_heading level0 col1\" >year</th>\n",
       "      <th id=\"T_da9d0_level0_col2\" class=\"col_heading level0 col2\" >quarter</th>\n",
       "      <th id=\"T_da9d0_level0_col3\" class=\"col_heading level0 col3\" >q_amt_c</th>\n",
       "      <th id=\"T_da9d0_level0_col4\" class=\"col_heading level0 col4\" >q_amt_p</th>\n",
       "      <th id=\"T_da9d0_level0_col5\" class=\"col_heading level0 col5\" >inc_profit</th>\n",
       "      <th id=\"T_da9d0_level0_col6\" class=\"col_heading level0 col6\" >percent</th>\n",
       "    </tr>\n",
       "  </thead>\n",
       "  <tbody>\n",
       "    <tr>\n",
       "      <th id=\"T_da9d0_level0_row0\" class=\"row_heading level0 row0\" >0</th>\n",
       "      <td id=\"T_da9d0_row0_col0\" class=\"data row0 col0\" >3BBIF</td>\n",
       "      <td id=\"T_da9d0_row0_col1\" class=\"data row0 col1\" >2024</td>\n",
       "      <td id=\"T_da9d0_row0_col2\" class=\"data row0 col2\" >Q4</td>\n",
       "      <td id=\"T_da9d0_row0_col3\" class=\"data row0 col3\" >5,279,119</td>\n",
       "      <td id=\"T_da9d0_row0_col4\" class=\"data row0 col4\" >2,443,671</td>\n",
       "      <td id=\"T_da9d0_row0_col5\" class=\"data row0 col5\" >2,835,448</td>\n",
       "      <td id=\"T_da9d0_row0_col6\" class=\"data row0 col6\" >116.03%</td>\n",
       "    </tr>\n",
       "    <tr>\n",
       "      <th id=\"T_da9d0_level0_row1\" class=\"row_heading level0 row1\" >1</th>\n",
       "      <td id=\"T_da9d0_row1_col0\" class=\"data row1 col0\" >ADVANC</td>\n",
       "      <td id=\"T_da9d0_row1_col1\" class=\"data row1 col1\" >2024</td>\n",
       "      <td id=\"T_da9d0_row1_col2\" class=\"data row1 col2\" >Q4</td>\n",
       "      <td id=\"T_da9d0_row1_col3\" class=\"data row1 col3\" >35,075,357</td>\n",
       "      <td id=\"T_da9d0_row1_col4\" class=\"data row1 col4\" >32,818,977</td>\n",
       "      <td id=\"T_da9d0_row1_col5\" class=\"data row1 col5\" >2,256,380</td>\n",
       "      <td id=\"T_da9d0_row1_col6\" class=\"data row1 col6\" >6.88%</td>\n",
       "    </tr>\n",
       "    <tr>\n",
       "      <th id=\"T_da9d0_level0_row2\" class=\"row_heading level0 row2\" >2</th>\n",
       "      <td id=\"T_da9d0_row2_col0\" class=\"data row2 col0\" >BAY</td>\n",
       "      <td id=\"T_da9d0_row2_col1\" class=\"data row2 col1\" >2024</td>\n",
       "      <td id=\"T_da9d0_row2_col2\" class=\"data row2 col2\" >Q4</td>\n",
       "      <td id=\"T_da9d0_row2_col3\" class=\"data row2 col3\" >29,699,751</td>\n",
       "      <td id=\"T_da9d0_row2_col4\" class=\"data row2 col4\" >31,155,715</td>\n",
       "      <td id=\"T_da9d0_row2_col5\" class=\"data row2 col5\" >-1,455,964</td>\n",
       "      <td id=\"T_da9d0_row2_col6\" class=\"data row2 col6\" >-4.67%</td>\n",
       "    </tr>\n",
       "    <tr>\n",
       "      <th id=\"T_da9d0_level0_row3\" class=\"row_heading level0 row3\" >3</th>\n",
       "      <td id=\"T_da9d0_row3_col0\" class=\"data row3 col0\" >BBL</td>\n",
       "      <td id=\"T_da9d0_row3_col1\" class=\"data row3 col1\" >2024</td>\n",
       "      <td id=\"T_da9d0_row3_col2\" class=\"data row3 col2\" >Q4</td>\n",
       "      <td id=\"T_da9d0_row3_col3\" class=\"data row3 col3\" >45,211,145</td>\n",
       "      <td id=\"T_da9d0_row3_col4\" class=\"data row3 col4\" >43,669,640</td>\n",
       "      <td id=\"T_da9d0_row3_col5\" class=\"data row3 col5\" >1,541,505</td>\n",
       "      <td id=\"T_da9d0_row3_col6\" class=\"data row3 col6\" >3.53%</td>\n",
       "    </tr>\n",
       "    <tr>\n",
       "      <th id=\"T_da9d0_level0_row4\" class=\"row_heading level0 row4\" >4</th>\n",
       "      <td id=\"T_da9d0_row4_col0\" class=\"data row4 col0\" >FPT</td>\n",
       "      <td id=\"T_da9d0_row4_col1\" class=\"data row4 col1\" >2024</td>\n",
       "      <td id=\"T_da9d0_row4_col2\" class=\"data row4 col2\" >Q4</td>\n",
       "      <td id=\"T_da9d0_row4_col3\" class=\"data row4 col3\" >1,438,028</td>\n",
       "      <td id=\"T_da9d0_row4_col4\" class=\"data row4 col4\" >1,636,546</td>\n",
       "      <td id=\"T_da9d0_row4_col5\" class=\"data row4 col5\" >-198,518</td>\n",
       "      <td id=\"T_da9d0_row4_col6\" class=\"data row4 col6\" >-12.13%</td>\n",
       "    </tr>\n",
       "  </tbody>\n",
       "</table>\n"
      ],
      "text/plain": [
       "<pandas.io.formats.style.Styler at 0x1916dc20320>"
      ]
     },
     "execution_count": 18,
     "metadata": {},
     "output_type": "execute_result"
    }
   ],
   "source": [
    "criteria_2 = df_ins.q_amt_p > 400_000\n",
    "df_ins.loc[criteria_2, cols].head().style.format(format_dict)"
   ]
  },
  {
   "cell_type": "code",
   "execution_count": 19,
   "metadata": {},
   "outputs": [
    {
     "data": {
      "text/html": [
       "<style type=\"text/css\">\n",
       "</style>\n",
       "<table id=\"T_7b469\">\n",
       "  <thead>\n",
       "    <tr>\n",
       "      <th class=\"blank level0\" >&nbsp;</th>\n",
       "      <th id=\"T_7b469_level0_col0\" class=\"col_heading level0 col0\" >name</th>\n",
       "      <th id=\"T_7b469_level0_col1\" class=\"col_heading level0 col1\" >year</th>\n",
       "      <th id=\"T_7b469_level0_col2\" class=\"col_heading level0 col2\" >quarter</th>\n",
       "      <th id=\"T_7b469_level0_col3\" class=\"col_heading level0 col3\" >q_amt_c</th>\n",
       "      <th id=\"T_7b469_level0_col4\" class=\"col_heading level0 col4\" >q_amt_p</th>\n",
       "      <th id=\"T_7b469_level0_col5\" class=\"col_heading level0 col5\" >inc_profit</th>\n",
       "      <th id=\"T_7b469_level0_col6\" class=\"col_heading level0 col6\" >percent</th>\n",
       "    </tr>\n",
       "  </thead>\n",
       "  <tbody>\n",
       "    <tr>\n",
       "      <th id=\"T_7b469_level0_row0\" class=\"row_heading level0 row0\" >0</th>\n",
       "      <td id=\"T_7b469_row0_col0\" class=\"data row0 col0\" >3BBIF</td>\n",
       "      <td id=\"T_7b469_row0_col1\" class=\"data row0 col1\" >2024</td>\n",
       "      <td id=\"T_7b469_row0_col2\" class=\"data row0 col2\" >Q4</td>\n",
       "      <td id=\"T_7b469_row0_col3\" class=\"data row0 col3\" >5,279,119</td>\n",
       "      <td id=\"T_7b469_row0_col4\" class=\"data row0 col4\" >2,443,671</td>\n",
       "      <td id=\"T_7b469_row0_col5\" class=\"data row0 col5\" >2,835,448</td>\n",
       "      <td id=\"T_7b469_row0_col6\" class=\"data row0 col6\" >116.03%</td>\n",
       "    </tr>\n",
       "    <tr>\n",
       "      <th id=\"T_7b469_level0_row1\" class=\"row_heading level0 row1\" >7</th>\n",
       "      <td id=\"T_7b469_row1_col0\" class=\"data row1 col0\" >KKP</td>\n",
       "      <td id=\"T_7b469_row1_col1\" class=\"data row1 col1\" >2024</td>\n",
       "      <td id=\"T_7b469_row1_col2\" class=\"data row1 col2\" >Q4</td>\n",
       "      <td id=\"T_7b469_row1_col3\" class=\"data row1 col3\" >4,985,068</td>\n",
       "      <td id=\"T_7b469_row1_col4\" class=\"data row1 col4\" >4,249,177</td>\n",
       "      <td id=\"T_7b469_row1_col5\" class=\"data row1 col5\" >735,891</td>\n",
       "      <td id=\"T_7b469_row1_col6\" class=\"data row1 col6\" >17.32%</td>\n",
       "    </tr>\n",
       "    <tr>\n",
       "      <th id=\"T_7b469_level0_row2\" class=\"row_heading level0 row2\" >8</th>\n",
       "      <td id=\"T_7b469_row2_col0\" class=\"data row2 col0\" >KTB</td>\n",
       "      <td id=\"T_7b469_row2_col1\" class=\"data row2 col1\" >2024</td>\n",
       "      <td id=\"T_7b469_row2_col2\" class=\"data row2 col2\" >Q4</td>\n",
       "      <td id=\"T_7b469_row2_col3\" class=\"data row2 col3\" >43,855,657</td>\n",
       "      <td id=\"T_7b469_row2_col4\" class=\"data row2 col4\" >39,491,857</td>\n",
       "      <td id=\"T_7b469_row2_col5\" class=\"data row2 col5\" >4,363,800</td>\n",
       "      <td id=\"T_7b469_row2_col6\" class=\"data row2 col6\" >11.05%</td>\n",
       "    </tr>\n",
       "    <tr>\n",
       "      <th id=\"T_7b469_level0_row3\" class=\"row_heading level0 row3\" >10</th>\n",
       "      <td id=\"T_7b469_row3_col0\" class=\"data row3 col0\" >LHFG</td>\n",
       "      <td id=\"T_7b469_row3_col1\" class=\"data row3 col1\" >2024</td>\n",
       "      <td id=\"T_7b469_row3_col2\" class=\"data row3 col2\" >Q4</td>\n",
       "      <td id=\"T_7b469_row3_col3\" class=\"data row3 col3\" >2,046,992</td>\n",
       "      <td id=\"T_7b469_row3_col4\" class=\"data row3 col4\" >1,822,134</td>\n",
       "      <td id=\"T_7b469_row3_col5\" class=\"data row3 col5\" >224,858</td>\n",
       "      <td id=\"T_7b469_row3_col6\" class=\"data row3 col6\" >12.34%</td>\n",
       "    </tr>\n",
       "    <tr>\n",
       "      <th id=\"T_7b469_level0_row4\" class=\"row_heading level0 row4\" >12</th>\n",
       "      <td id=\"T_7b469_row4_col0\" class=\"data row4 col0\" >MST</td>\n",
       "      <td id=\"T_7b469_row4_col1\" class=\"data row4 col1\" >2024</td>\n",
       "      <td id=\"T_7b469_row4_col2\" class=\"data row4 col2\" >Q4</td>\n",
       "      <td id=\"T_7b469_row4_col3\" class=\"data row4 col3\" >462,132</td>\n",
       "      <td id=\"T_7b469_row4_col4\" class=\"data row4 col4\" >378,798</td>\n",
       "      <td id=\"T_7b469_row4_col5\" class=\"data row4 col5\" >83,334</td>\n",
       "      <td id=\"T_7b469_row4_col6\" class=\"data row4 col6\" >22.00%</td>\n",
       "    </tr>\n",
       "  </tbody>\n",
       "</table>\n"
      ],
      "text/plain": [
       "<pandas.io.formats.style.Styler at 0x1916dc23890>"
      ]
     },
     "execution_count": 19,
     "metadata": {},
     "output_type": "execute_result"
    }
   ],
   "source": [
    "criteria_3 = df_ins.percent > 10.00\n",
    "df_ins.loc[criteria_3, cols].head().style.format(format_dict)"
   ]
  },
  {
   "cell_type": "code",
   "execution_count": 20,
   "metadata": {},
   "outputs": [
    {
     "data": {
      "text/html": [
       "<style type=\"text/css\">\n",
       "</style>\n",
       "<table id=\"T_3ec92\">\n",
       "  <thead>\n",
       "    <tr>\n",
       "      <th class=\"blank level0\" >&nbsp;</th>\n",
       "      <th id=\"T_3ec92_level0_col0\" class=\"col_heading level0 col0\" >name</th>\n",
       "      <th id=\"T_3ec92_level0_col1\" class=\"col_heading level0 col1\" >year</th>\n",
       "      <th id=\"T_3ec92_level0_col2\" class=\"col_heading level0 col2\" >quarter</th>\n",
       "      <th id=\"T_3ec92_level0_col3\" class=\"col_heading level0 col3\" >q_amt_c</th>\n",
       "      <th id=\"T_3ec92_level0_col4\" class=\"col_heading level0 col4\" >q_amt_p</th>\n",
       "      <th id=\"T_3ec92_level0_col5\" class=\"col_heading level0 col5\" >inc_profit</th>\n",
       "      <th id=\"T_3ec92_level0_col6\" class=\"col_heading level0 col6\" >percent</th>\n",
       "    </tr>\n",
       "  </thead>\n",
       "  <tbody>\n",
       "    <tr>\n",
       "      <th id=\"T_3ec92_level0_row0\" class=\"row_heading level0 row0\" >0</th>\n",
       "      <td id=\"T_3ec92_row0_col0\" class=\"data row0 col0\" >3BBIF</td>\n",
       "      <td id=\"T_3ec92_row0_col1\" class=\"data row0 col1\" >2024</td>\n",
       "      <td id=\"T_3ec92_row0_col2\" class=\"data row0 col2\" >Q4</td>\n",
       "      <td id=\"T_3ec92_row0_col3\" class=\"data row0 col3\" >5,279,119</td>\n",
       "      <td id=\"T_3ec92_row0_col4\" class=\"data row0 col4\" >2,443,671</td>\n",
       "      <td id=\"T_3ec92_row0_col5\" class=\"data row0 col5\" >2,835,448</td>\n",
       "      <td id=\"T_3ec92_row0_col6\" class=\"data row0 col6\" >116.03%</td>\n",
       "    </tr>\n",
       "    <tr>\n",
       "      <th id=\"T_3ec92_level0_row1\" class=\"row_heading level0 row1\" >7</th>\n",
       "      <td id=\"T_3ec92_row1_col0\" class=\"data row1 col0\" >KKP</td>\n",
       "      <td id=\"T_3ec92_row1_col1\" class=\"data row1 col1\" >2024</td>\n",
       "      <td id=\"T_3ec92_row1_col2\" class=\"data row1 col2\" >Q4</td>\n",
       "      <td id=\"T_3ec92_row1_col3\" class=\"data row1 col3\" >4,985,068</td>\n",
       "      <td id=\"T_3ec92_row1_col4\" class=\"data row1 col4\" >4,249,177</td>\n",
       "      <td id=\"T_3ec92_row1_col5\" class=\"data row1 col5\" >735,891</td>\n",
       "      <td id=\"T_3ec92_row1_col6\" class=\"data row1 col6\" >17.32%</td>\n",
       "    </tr>\n",
       "    <tr>\n",
       "      <th id=\"T_3ec92_level0_row2\" class=\"row_heading level0 row2\" >8</th>\n",
       "      <td id=\"T_3ec92_row2_col0\" class=\"data row2 col0\" >KTB</td>\n",
       "      <td id=\"T_3ec92_row2_col1\" class=\"data row2 col1\" >2024</td>\n",
       "      <td id=\"T_3ec92_row2_col2\" class=\"data row2 col2\" >Q4</td>\n",
       "      <td id=\"T_3ec92_row2_col3\" class=\"data row2 col3\" >43,855,657</td>\n",
       "      <td id=\"T_3ec92_row2_col4\" class=\"data row2 col4\" >39,491,857</td>\n",
       "      <td id=\"T_3ec92_row2_col5\" class=\"data row2 col5\" >4,363,800</td>\n",
       "      <td id=\"T_3ec92_row2_col6\" class=\"data row2 col6\" >11.05%</td>\n",
       "    </tr>\n",
       "    <tr>\n",
       "      <th id=\"T_3ec92_level0_row3\" class=\"row_heading level0 row3\" >10</th>\n",
       "      <td id=\"T_3ec92_row3_col0\" class=\"data row3 col0\" >LHFG</td>\n",
       "      <td id=\"T_3ec92_row3_col1\" class=\"data row3 col1\" >2024</td>\n",
       "      <td id=\"T_3ec92_row3_col2\" class=\"data row3 col2\" >Q4</td>\n",
       "      <td id=\"T_3ec92_row3_col3\" class=\"data row3 col3\" >2,046,992</td>\n",
       "      <td id=\"T_3ec92_row3_col4\" class=\"data row3 col4\" >1,822,134</td>\n",
       "      <td id=\"T_3ec92_row3_col5\" class=\"data row3 col5\" >224,858</td>\n",
       "      <td id=\"T_3ec92_row3_col6\" class=\"data row3 col6\" >12.34%</td>\n",
       "    </tr>\n",
       "    <tr>\n",
       "      <th id=\"T_3ec92_level0_row4\" class=\"row_heading level0 row4\" >15</th>\n",
       "      <td id=\"T_3ec92_row4_col0\" class=\"data row4 col0\" >SCC</td>\n",
       "      <td id=\"T_3ec92_row4_col1\" class=\"data row4 col1\" >2024</td>\n",
       "      <td id=\"T_3ec92_row4_col2\" class=\"data row4 col2\" >Q4</td>\n",
       "      <td id=\"T_3ec92_row4_col3\" class=\"data row4 col3\" >6,341,638</td>\n",
       "      <td id=\"T_3ec92_row4_col4\" class=\"data row4 col4\" >5,719,716</td>\n",
       "      <td id=\"T_3ec92_row4_col5\" class=\"data row4 col5\" >621,922</td>\n",
       "      <td id=\"T_3ec92_row4_col6\" class=\"data row4 col6\" >10.87%</td>\n",
       "    </tr>\n",
       "  </tbody>\n",
       "</table>\n"
      ],
      "text/plain": [
       "<pandas.io.formats.style.Styler at 0x1916dc63380>"
      ]
     },
     "execution_count": 20,
     "metadata": {},
     "output_type": "execute_result"
    }
   ],
   "source": [
    "df_ins_criteria = criteria_1 & criteria_2 & criteria_3\n",
    "df_ins.loc[df_ins_criteria, cols].head().style.format(format_dict)"
   ]
  },
  {
   "cell_type": "code",
   "execution_count": 21,
   "metadata": {},
   "outputs": [
    {
     "data": {
      "text/html": [
       "<style type=\"text/css\">\n",
       "</style>\n",
       "<table id=\"T_88657\">\n",
       "  <thead>\n",
       "    <tr>\n",
       "      <th class=\"blank level0\" >&nbsp;</th>\n",
       "      <th id=\"T_88657_level0_col0\" class=\"col_heading level0 col0\" >name</th>\n",
       "      <th id=\"T_88657_level0_col1\" class=\"col_heading level0 col1\" >year</th>\n",
       "      <th id=\"T_88657_level0_col2\" class=\"col_heading level0 col2\" >quarter</th>\n",
       "      <th id=\"T_88657_level0_col3\" class=\"col_heading level0 col3\" >q_amt_c</th>\n",
       "      <th id=\"T_88657_level0_col4\" class=\"col_heading level0 col4\" >q_amt_p</th>\n",
       "      <th id=\"T_88657_level0_col5\" class=\"col_heading level0 col5\" >inc_profit</th>\n",
       "      <th id=\"T_88657_level0_col6\" class=\"col_heading level0 col6\" >percent</th>\n",
       "      <th id=\"T_88657_level0_col7\" class=\"col_heading level0 col7\" >id</th>\n",
       "    </tr>\n",
       "  </thead>\n",
       "  <tbody>\n",
       "    <tr>\n",
       "      <th id=\"T_88657_level0_row0\" class=\"row_heading level0 row0\" >0</th>\n",
       "      <td id=\"T_88657_row0_col0\" class=\"data row0 col0\" >3BBIF</td>\n",
       "      <td id=\"T_88657_row0_col1\" class=\"data row0 col1\" >2024</td>\n",
       "      <td id=\"T_88657_row0_col2\" class=\"data row0 col2\" >Q4</td>\n",
       "      <td id=\"T_88657_row0_col3\" class=\"data row0 col3\" >5,279,119</td>\n",
       "      <td id=\"T_88657_row0_col4\" class=\"data row0 col4\" >2,443,671</td>\n",
       "      <td id=\"T_88657_row0_col5\" class=\"data row0 col5\" >2,835,448</td>\n",
       "      <td id=\"T_88657_row0_col6\" class=\"data row0 col6\" >116.03%</td>\n",
       "      <td id=\"T_88657_row0_col7\" class=\"data row0 col7\" >234</td>\n",
       "    </tr>\n",
       "    <tr>\n",
       "      <th id=\"T_88657_level0_row1\" class=\"row_heading level0 row1\" >7</th>\n",
       "      <td id=\"T_88657_row1_col0\" class=\"data row1 col0\" >KKP</td>\n",
       "      <td id=\"T_88657_row1_col1\" class=\"data row1 col1\" >2024</td>\n",
       "      <td id=\"T_88657_row1_col2\" class=\"data row1 col2\" >Q4</td>\n",
       "      <td id=\"T_88657_row1_col3\" class=\"data row1 col3\" >4,985,068</td>\n",
       "      <td id=\"T_88657_row1_col4\" class=\"data row1 col4\" >4,249,177</td>\n",
       "      <td id=\"T_88657_row1_col5\" class=\"data row1 col5\" >735,891</td>\n",
       "      <td id=\"T_88657_row1_col6\" class=\"data row1 col6\" >17.32%</td>\n",
       "      <td id=\"T_88657_row1_col7\" class=\"data row1 col7\" >255</td>\n",
       "    </tr>\n",
       "    <tr>\n",
       "      <th id=\"T_88657_level0_row2\" class=\"row_heading level0 row2\" >10</th>\n",
       "      <td id=\"T_88657_row2_col0\" class=\"data row2 col0\" >LHFG</td>\n",
       "      <td id=\"T_88657_row2_col1\" class=\"data row2 col1\" >2024</td>\n",
       "      <td id=\"T_88657_row2_col2\" class=\"data row2 col2\" >Q4</td>\n",
       "      <td id=\"T_88657_row2_col3\" class=\"data row2 col3\" >2,046,992</td>\n",
       "      <td id=\"T_88657_row2_col4\" class=\"data row2 col4\" >1,822,134</td>\n",
       "      <td id=\"T_88657_row2_col5\" class=\"data row2 col5\" >224,858</td>\n",
       "      <td id=\"T_88657_row2_col6\" class=\"data row2 col6\" >12.34%</td>\n",
       "      <td id=\"T_88657_row2_col7\" class=\"data row2 col7\" >268</td>\n",
       "    </tr>\n",
       "    <tr>\n",
       "      <th id=\"T_88657_level0_row3\" class=\"row_heading level0 row3\" >8</th>\n",
       "      <td id=\"T_88657_row3_col0\" class=\"data row3 col0\" >KTB</td>\n",
       "      <td id=\"T_88657_row3_col1\" class=\"data row3 col1\" >2024</td>\n",
       "      <td id=\"T_88657_row3_col2\" class=\"data row3 col2\" >Q4</td>\n",
       "      <td id=\"T_88657_row3_col3\" class=\"data row3 col3\" >43,855,657</td>\n",
       "      <td id=\"T_88657_row3_col4\" class=\"data row3 col4\" >39,491,857</td>\n",
       "      <td id=\"T_88657_row3_col5\" class=\"data row3 col5\" >4,363,800</td>\n",
       "      <td id=\"T_88657_row3_col6\" class=\"data row3 col6\" >11.05%</td>\n",
       "      <td id=\"T_88657_row3_col7\" class=\"data row3 col7\" >258</td>\n",
       "    </tr>\n",
       "    <tr>\n",
       "      <th id=\"T_88657_level0_row4\" class=\"row_heading level0 row4\" >15</th>\n",
       "      <td id=\"T_88657_row4_col0\" class=\"data row4 col0\" >SCC</td>\n",
       "      <td id=\"T_88657_row4_col1\" class=\"data row4 col1\" >2024</td>\n",
       "      <td id=\"T_88657_row4_col2\" class=\"data row4 col2\" >Q4</td>\n",
       "      <td id=\"T_88657_row4_col3\" class=\"data row4 col3\" >6,341,638</td>\n",
       "      <td id=\"T_88657_row4_col4\" class=\"data row4 col4\" >5,719,716</td>\n",
       "      <td id=\"T_88657_row4_col5\" class=\"data row4 col5\" >621,922</td>\n",
       "      <td id=\"T_88657_row4_col6\" class=\"data row4 col6\" >10.87%</td>\n",
       "      <td id=\"T_88657_row4_col7\" class=\"data row4 col7\" >427</td>\n",
       "    </tr>\n",
       "  </tbody>\n",
       "</table>\n"
      ],
      "text/plain": [
       "<pandas.io.formats.style.Styler at 0x1916dc399d0>"
      ]
     },
     "execution_count": 21,
     "metadata": {},
     "output_type": "execute_result"
    }
   ],
   "source": [
    "df_ins[df_ins_criteria].sort_values(by=[\"percent\"], ascending=[False]).head().style.format(format_dict)"
   ]
  },
  {
   "cell_type": "code",
   "execution_count": 22,
   "metadata": {},
   "outputs": [
    {
     "data": {
      "text/html": [
       "<style type=\"text/css\">\n",
       "</style>\n",
       "<table id=\"T_0b7f9\">\n",
       "  <thead>\n",
       "    <tr>\n",
       "      <th class=\"blank level0\" >&nbsp;</th>\n",
       "      <th id=\"T_0b7f9_level0_col0\" class=\"col_heading level0 col0\" >name</th>\n",
       "      <th id=\"T_0b7f9_level0_col1\" class=\"col_heading level0 col1\" >year</th>\n",
       "      <th id=\"T_0b7f9_level0_col2\" class=\"col_heading level0 col2\" >quarter</th>\n",
       "      <th id=\"T_0b7f9_level0_col3\" class=\"col_heading level0 col3\" >q_amt_c</th>\n",
       "      <th id=\"T_0b7f9_level0_col4\" class=\"col_heading level0 col4\" >q_amt_p</th>\n",
       "      <th id=\"T_0b7f9_level0_col5\" class=\"col_heading level0 col5\" >inc_profit</th>\n",
       "      <th id=\"T_0b7f9_level0_col6\" class=\"col_heading level0 col6\" >percent</th>\n",
       "      <th id=\"T_0b7f9_level0_col7\" class=\"col_heading level0 col7\" >id</th>\n",
       "    </tr>\n",
       "  </thead>\n",
       "  <tbody>\n",
       "    <tr>\n",
       "      <th id=\"T_0b7f9_level0_row0\" class=\"row_heading level0 row0\" >0</th>\n",
       "      <td id=\"T_0b7f9_row0_col0\" class=\"data row0 col0\" >3BBIF</td>\n",
       "      <td id=\"T_0b7f9_row0_col1\" class=\"data row0 col1\" >2024</td>\n",
       "      <td id=\"T_0b7f9_row0_col2\" class=\"data row0 col2\" >Q4</td>\n",
       "      <td id=\"T_0b7f9_row0_col3\" class=\"data row0 col3\" >5,279,119</td>\n",
       "      <td id=\"T_0b7f9_row0_col4\" class=\"data row0 col4\" >2,443,671</td>\n",
       "      <td id=\"T_0b7f9_row0_col5\" class=\"data row0 col5\" >2,835,448</td>\n",
       "      <td id=\"T_0b7f9_row0_col6\" class=\"data row0 col6\" >116.03%</td>\n",
       "      <td id=\"T_0b7f9_row0_col7\" class=\"data row0 col7\" >234</td>\n",
       "    </tr>\n",
       "    <tr>\n",
       "      <th id=\"T_0b7f9_level0_row1\" class=\"row_heading level0 row1\" >7</th>\n",
       "      <td id=\"T_0b7f9_row1_col0\" class=\"data row1 col0\" >KKP</td>\n",
       "      <td id=\"T_0b7f9_row1_col1\" class=\"data row1 col1\" >2024</td>\n",
       "      <td id=\"T_0b7f9_row1_col2\" class=\"data row1 col2\" >Q4</td>\n",
       "      <td id=\"T_0b7f9_row1_col3\" class=\"data row1 col3\" >4,985,068</td>\n",
       "      <td id=\"T_0b7f9_row1_col4\" class=\"data row1 col4\" >4,249,177</td>\n",
       "      <td id=\"T_0b7f9_row1_col5\" class=\"data row1 col5\" >735,891</td>\n",
       "      <td id=\"T_0b7f9_row1_col6\" class=\"data row1 col6\" >17.32%</td>\n",
       "      <td id=\"T_0b7f9_row1_col7\" class=\"data row1 col7\" >255</td>\n",
       "    </tr>\n",
       "    <tr>\n",
       "      <th id=\"T_0b7f9_level0_row2\" class=\"row_heading level0 row2\" >8</th>\n",
       "      <td id=\"T_0b7f9_row2_col0\" class=\"data row2 col0\" >KTB</td>\n",
       "      <td id=\"T_0b7f9_row2_col1\" class=\"data row2 col1\" >2024</td>\n",
       "      <td id=\"T_0b7f9_row2_col2\" class=\"data row2 col2\" >Q4</td>\n",
       "      <td id=\"T_0b7f9_row2_col3\" class=\"data row2 col3\" >43,855,657</td>\n",
       "      <td id=\"T_0b7f9_row2_col4\" class=\"data row2 col4\" >39,491,857</td>\n",
       "      <td id=\"T_0b7f9_row2_col5\" class=\"data row2 col5\" >4,363,800</td>\n",
       "      <td id=\"T_0b7f9_row2_col6\" class=\"data row2 col6\" >11.05%</td>\n",
       "      <td id=\"T_0b7f9_row2_col7\" class=\"data row2 col7\" >258</td>\n",
       "    </tr>\n",
       "    <tr>\n",
       "      <th id=\"T_0b7f9_level0_row3\" class=\"row_heading level0 row3\" >10</th>\n",
       "      <td id=\"T_0b7f9_row3_col0\" class=\"data row3 col0\" >LHFG</td>\n",
       "      <td id=\"T_0b7f9_row3_col1\" class=\"data row3 col1\" >2024</td>\n",
       "      <td id=\"T_0b7f9_row3_col2\" class=\"data row3 col2\" >Q4</td>\n",
       "      <td id=\"T_0b7f9_row3_col3\" class=\"data row3 col3\" >2,046,992</td>\n",
       "      <td id=\"T_0b7f9_row3_col4\" class=\"data row3 col4\" >1,822,134</td>\n",
       "      <td id=\"T_0b7f9_row3_col5\" class=\"data row3 col5\" >224,858</td>\n",
       "      <td id=\"T_0b7f9_row3_col6\" class=\"data row3 col6\" >12.34%</td>\n",
       "      <td id=\"T_0b7f9_row3_col7\" class=\"data row3 col7\" >268</td>\n",
       "    </tr>\n",
       "    <tr>\n",
       "      <th id=\"T_0b7f9_level0_row4\" class=\"row_heading level0 row4\" >15</th>\n",
       "      <td id=\"T_0b7f9_row4_col0\" class=\"data row4 col0\" >SCC</td>\n",
       "      <td id=\"T_0b7f9_row4_col1\" class=\"data row4 col1\" >2024</td>\n",
       "      <td id=\"T_0b7f9_row4_col2\" class=\"data row4 col2\" >Q4</td>\n",
       "      <td id=\"T_0b7f9_row4_col3\" class=\"data row4 col3\" >6,341,638</td>\n",
       "      <td id=\"T_0b7f9_row4_col4\" class=\"data row4 col4\" >5,719,716</td>\n",
       "      <td id=\"T_0b7f9_row4_col5\" class=\"data row4 col5\" >621,922</td>\n",
       "      <td id=\"T_0b7f9_row4_col6\" class=\"data row4 col6\" >10.87%</td>\n",
       "      <td id=\"T_0b7f9_row4_col7\" class=\"data row4 col7\" >427</td>\n",
       "    </tr>\n",
       "  </tbody>\n",
       "</table>\n"
      ],
      "text/plain": [
       "<pandas.io.formats.style.Styler at 0x1916dc8a3c0>"
      ]
     },
     "execution_count": 22,
     "metadata": {},
     "output_type": "execute_result"
    }
   ],
   "source": [
    "df_ins[df_ins_criteria].sort_values(by=[\"name\"], ascending=[True]).head().style.format(format_dict)"
   ]
  },
  {
   "cell_type": "code",
   "execution_count": 23,
   "metadata": {},
   "outputs": [
    {
     "data": {
      "text/html": [
       "<style type=\"text/css\">\n",
       "</style>\n",
       "<table id=\"T_abc1d\">\n",
       "  <thead>\n",
       "    <tr>\n",
       "      <th class=\"blank level0\" >&nbsp;</th>\n",
       "      <th id=\"T_abc1d_level0_col0\" class=\"col_heading level0 col0\" >name</th>\n",
       "      <th id=\"T_abc1d_level0_col1\" class=\"col_heading level0 col1\" >year</th>\n",
       "      <th id=\"T_abc1d_level0_col2\" class=\"col_heading level0 col2\" >quarter</th>\n",
       "      <th id=\"T_abc1d_level0_col3\" class=\"col_heading level0 col3\" >q_amt_c</th>\n",
       "      <th id=\"T_abc1d_level0_col4\" class=\"col_heading level0 col4\" >q_amt_p</th>\n",
       "      <th id=\"T_abc1d_level0_col5\" class=\"col_heading level0 col5\" >inc_profit</th>\n",
       "      <th id=\"T_abc1d_level0_col6\" class=\"col_heading level0 col6\" >percent</th>\n",
       "      <th id=\"T_abc1d_level0_col7\" class=\"col_heading level0 col7\" >id</th>\n",
       "    </tr>\n",
       "  </thead>\n",
       "  <tbody>\n",
       "    <tr>\n",
       "      <th id=\"T_abc1d_level0_row0\" class=\"row_heading level0 row0\" >0</th>\n",
       "      <td id=\"T_abc1d_row0_col0\" class=\"data row0 col0\" >3BBIF</td>\n",
       "      <td id=\"T_abc1d_row0_col1\" class=\"data row0 col1\" >2024</td>\n",
       "      <td id=\"T_abc1d_row0_col2\" class=\"data row0 col2\" >Q4</td>\n",
       "      <td id=\"T_abc1d_row0_col3\" class=\"data row0 col3\" >5,279,119</td>\n",
       "      <td id=\"T_abc1d_row0_col4\" class=\"data row0 col4\" >2,443,671</td>\n",
       "      <td id=\"T_abc1d_row0_col5\" class=\"data row0 col5\" >2,835,448</td>\n",
       "      <td id=\"T_abc1d_row0_col6\" class=\"data row0 col6\" >116.03%</td>\n",
       "      <td id=\"T_abc1d_row0_col7\" class=\"data row0 col7\" >234</td>\n",
       "    </tr>\n",
       "    <tr>\n",
       "      <th id=\"T_abc1d_level0_row1\" class=\"row_heading level0 row1\" >7</th>\n",
       "      <td id=\"T_abc1d_row1_col0\" class=\"data row1 col0\" >KKP</td>\n",
       "      <td id=\"T_abc1d_row1_col1\" class=\"data row1 col1\" >2024</td>\n",
       "      <td id=\"T_abc1d_row1_col2\" class=\"data row1 col2\" >Q4</td>\n",
       "      <td id=\"T_abc1d_row1_col3\" class=\"data row1 col3\" >4,985,068</td>\n",
       "      <td id=\"T_abc1d_row1_col4\" class=\"data row1 col4\" >4,249,177</td>\n",
       "      <td id=\"T_abc1d_row1_col5\" class=\"data row1 col5\" >735,891</td>\n",
       "      <td id=\"T_abc1d_row1_col6\" class=\"data row1 col6\" >17.32%</td>\n",
       "      <td id=\"T_abc1d_row1_col7\" class=\"data row1 col7\" >255</td>\n",
       "    </tr>\n",
       "    <tr>\n",
       "      <th id=\"T_abc1d_level0_row2\" class=\"row_heading level0 row2\" >8</th>\n",
       "      <td id=\"T_abc1d_row2_col0\" class=\"data row2 col0\" >KTB</td>\n",
       "      <td id=\"T_abc1d_row2_col1\" class=\"data row2 col1\" >2024</td>\n",
       "      <td id=\"T_abc1d_row2_col2\" class=\"data row2 col2\" >Q4</td>\n",
       "      <td id=\"T_abc1d_row2_col3\" class=\"data row2 col3\" >43,855,657</td>\n",
       "      <td id=\"T_abc1d_row2_col4\" class=\"data row2 col4\" >39,491,857</td>\n",
       "      <td id=\"T_abc1d_row2_col5\" class=\"data row2 col5\" >4,363,800</td>\n",
       "      <td id=\"T_abc1d_row2_col6\" class=\"data row2 col6\" >11.05%</td>\n",
       "      <td id=\"T_abc1d_row2_col7\" class=\"data row2 col7\" >258</td>\n",
       "    </tr>\n",
       "    <tr>\n",
       "      <th id=\"T_abc1d_level0_row3\" class=\"row_heading level0 row3\" >10</th>\n",
       "      <td id=\"T_abc1d_row3_col0\" class=\"data row3 col0\" >LHFG</td>\n",
       "      <td id=\"T_abc1d_row3_col1\" class=\"data row3 col1\" >2024</td>\n",
       "      <td id=\"T_abc1d_row3_col2\" class=\"data row3 col2\" >Q4</td>\n",
       "      <td id=\"T_abc1d_row3_col3\" class=\"data row3 col3\" >2,046,992</td>\n",
       "      <td id=\"T_abc1d_row3_col4\" class=\"data row3 col4\" >1,822,134</td>\n",
       "      <td id=\"T_abc1d_row3_col5\" class=\"data row3 col5\" >224,858</td>\n",
       "      <td id=\"T_abc1d_row3_col6\" class=\"data row3 col6\" >12.34%</td>\n",
       "      <td id=\"T_abc1d_row3_col7\" class=\"data row3 col7\" >268</td>\n",
       "    </tr>\n",
       "    <tr>\n",
       "      <th id=\"T_abc1d_level0_row4\" class=\"row_heading level0 row4\" >15</th>\n",
       "      <td id=\"T_abc1d_row4_col0\" class=\"data row4 col0\" >SCC</td>\n",
       "      <td id=\"T_abc1d_row4_col1\" class=\"data row4 col1\" >2024</td>\n",
       "      <td id=\"T_abc1d_row4_col2\" class=\"data row4 col2\" >Q4</td>\n",
       "      <td id=\"T_abc1d_row4_col3\" class=\"data row4 col3\" >6,341,638</td>\n",
       "      <td id=\"T_abc1d_row4_col4\" class=\"data row4 col4\" >5,719,716</td>\n",
       "      <td id=\"T_abc1d_row4_col5\" class=\"data row4 col5\" >621,922</td>\n",
       "      <td id=\"T_abc1d_row4_col6\" class=\"data row4 col6\" >10.87%</td>\n",
       "      <td id=\"T_abc1d_row4_col7\" class=\"data row4 col7\" >427</td>\n",
       "    </tr>\n",
       "  </tbody>\n",
       "</table>\n"
      ],
      "text/plain": [
       "<pandas.io.formats.style.Styler at 0x1916dc8aed0>"
      ]
     },
     "execution_count": 23,
     "metadata": {},
     "output_type": "execute_result"
    }
   ],
   "source": [
    "df_ins[df_ins_criteria].sort_values(by=[\"name\"], ascending=[True]).head().style.format(format_dict)"
   ]
  },
  {
   "cell_type": "code",
   "execution_count": 24,
   "metadata": {},
   "outputs": [],
   "source": [
    "conlt.commit()\n",
    "conlt.close()"
   ]
  },
  {
   "cell_type": "code",
   "execution_count": 26,
   "metadata": {},
   "outputs": [
    {
     "name": "stdout",
     "output_type": "stream",
     "text": [
      "2025:02:08 11:42:48\n"
     ]
    }
   ],
   "source": [
    "current_time = datetime.now()\n",
    "formatted_time = current_time.strftime(\"%Y:%m:%d %H:%M:%S\")\n",
    "print(formatted_time)"
   ]
  },
  {
   "cell_type": "code",
   "execution_count": null,
   "metadata": {},
   "outputs": [],
   "source": []
  }
 ],
 "metadata": {
  "anaconda-cloud": {},
  "kernelspec": {
   "display_name": "Python 3 (ipykernel)",
   "language": "python",
   "name": "python3"
  },
  "language_info": {
   "codemirror_mode": {
    "name": "ipython",
    "version": 3
   },
   "file_extension": ".py",
   "mimetype": "text/x-python",
   "name": "python",
   "nbconvert_exporter": "python",
   "pygments_lexer": "ipython3",
   "version": "3.12.3"
  }
 },
 "nbformat": 4,
 "nbformat_minor": 4
}
