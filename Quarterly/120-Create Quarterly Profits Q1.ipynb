{
 "cells": [
  {
   "cell_type": "markdown",
   "metadata": {},
   "source": [
    "### Restart and Run All Cells"
   ]
  },
  {
   "cell_type": "code",
   "execution_count": 2,
   "metadata": {},
   "outputs": [
    {
     "name": "stdout",
     "output_type": "stream",
     "text": [
      "2025-02-15 14:52:55\n"
     ]
    }
   ],
   "source": [
    "import pandas as pd\n",
    "from datetime import date, timedelta, datetime\n",
    "from sqlalchemy import create_engine, text\n",
    "\n",
    "engine = create_engine(\"sqlite:///c:\\\\ruby\\\\portlt\\\\db\\\\development.sqlite3\")\n",
    "conlt = engine.connect()\n",
    "\n",
    "year = 2025\n",
    "quarter = 1\n",
    "current_time = datetime.now()\n",
    "formatted_time = current_time.strftime(\"%Y-%m-%d %H:%M:%S\")\n",
    "print(formatted_time )"
   ]
  },
  {
   "cell_type": "code",
   "execution_count": 4,
   "metadata": {},
   "outputs": [],
   "source": [
    "cols = 'name year quarter q_amt_c q_amt_p inc_profit percent'.split()\n",
    "\n",
    "format_dict = {\n",
    "                'q_amt':'{:,}','q_amt_c':'{:,}','q_amt_p':'{:,}','inc_profit':'{:,}',\n",
    "                'yoy_gain':'{:,}','acc_gain':'{:,}',   \n",
    "                'latest_amt':'{:,}','previous_amt':'{:,}','inc_amt':'{:,}',\n",
    "                'q_eps':'{:.4f}','y_eps':'{:.4f}','aq_eps':'{:.4f}','ay_eps':'{:.4f}',\n",
    "                'percent':'{:.2f}%','inc_pct':'{:.2f}%'\n",
    "              }"
   ]
  },
  {
   "cell_type": "code",
   "execution_count": 6,
   "metadata": {},
   "outputs": [
    {
     "name": "stdout",
     "output_type": "stream",
     "text": [
      "\n",
      "SELECT name,year,quarter,q_amt \n",
      "FROM epss \n",
      "WHERE (year = 2025 AND quarter <= 1) \n",
      "OR (year = 2025-1 AND quarter >= 1+1)\n",
      "ORDER BY year DESC, quarter DESC\n",
      "\n"
     ]
    }
   ],
   "source": [
    "sql = \"\"\"\n",
    "SELECT name,year,quarter,q_amt \n",
    "FROM epss \n",
    "WHERE (year = %s AND quarter <= %s) \n",
    "OR (year = %s-1 AND quarter >= %s+1)\n",
    "ORDER BY year DESC, quarter DESC\n",
    "\"\"\"\n",
    "sql = sql % (year, quarter, year, quarter)\n",
    "print(sql)"
   ]
  },
  {
   "cell_type": "code",
   "execution_count": 8,
   "metadata": {},
   "outputs": [
    {
     "data": {
      "text/plain": [
       "(3, 5)"
      ]
     },
     "execution_count": 8,
     "metadata": {},
     "output_type": "execute_result"
    }
   ],
   "source": [
    "dfc = pd.read_sql(sql, conlt)\n",
    "dfc[\"Counter\"] = 1\n",
    "dfc_grp = dfc.groupby([\"name\"], as_index=False).sum()\n",
    "dfc_grp = dfc_grp[dfc_grp[\"Counter\"] == 4]\n",
    "dfc_grp.shape"
   ]
  },
  {
   "cell_type": "code",
   "execution_count": 10,
   "metadata": {},
   "outputs": [
    {
     "name": "stdout",
     "output_type": "stream",
     "text": [
      "\n",
      "SELECT name,year,quarter,q_amt \n",
      "FROM epss \n",
      "WHERE (year = 2025 AND quarter <= 1-1) \n",
      "OR (year = 2025-1 AND quarter >= 1) \n",
      "ORDER BY year DESC, quarter DESC\n"
     ]
    }
   ],
   "source": [
    "sql = \"\"\"\n",
    "SELECT name,year,quarter,q_amt \n",
    "FROM epss \n",
    "WHERE (year = %s AND quarter <= %s-1) \n",
    "OR (year = %s-1 AND quarter >= %s) \n",
    "ORDER BY year DESC, quarter DESC\"\"\"\n",
    "sql = sql % (year, quarter, year, quarter)\n",
    "print(sql)"
   ]
  },
  {
   "cell_type": "code",
   "execution_count": 12,
   "metadata": {},
   "outputs": [
    {
     "data": {
      "text/html": [
       "<style type=\"text/css\">\n",
       "</style>\n",
       "<table id=\"T_79602\">\n",
       "  <thead>\n",
       "    <tr>\n",
       "      <th class=\"blank level0\" >&nbsp;</th>\n",
       "      <th id=\"T_79602_level0_col0\" class=\"col_heading level0 col0\" >name</th>\n",
       "      <th id=\"T_79602_level0_col1\" class=\"col_heading level0 col1\" >year</th>\n",
       "      <th id=\"T_79602_level0_col2\" class=\"col_heading level0 col2\" >quarter</th>\n",
       "      <th id=\"T_79602_level0_col3\" class=\"col_heading level0 col3\" >q_amt</th>\n",
       "      <th id=\"T_79602_level0_col4\" class=\"col_heading level0 col4\" >Counter</th>\n",
       "    </tr>\n",
       "  </thead>\n",
       "  <tbody>\n",
       "    <tr>\n",
       "      <th id=\"T_79602_level0_row0\" class=\"row_heading level0 row0\" >0</th>\n",
       "      <td id=\"T_79602_row0_col0\" class=\"data row0 col0\" >3BBIF</td>\n",
       "      <td id=\"T_79602_row0_col1\" class=\"data row0 col1\" >8096</td>\n",
       "      <td id=\"T_79602_row0_col2\" class=\"data row0 col2\" >10</td>\n",
       "      <td id=\"T_79602_row0_col3\" class=\"data row0 col3\" >5,279,119</td>\n",
       "      <td id=\"T_79602_row0_col4\" class=\"data row0 col4\" >4</td>\n",
       "    </tr>\n",
       "    <tr>\n",
       "      <th id=\"T_79602_level0_row1\" class=\"row_heading level0 row1\" >2</th>\n",
       "      <td id=\"T_79602_row1_col0\" class=\"data row1 col0\" >ADVANC</td>\n",
       "      <td id=\"T_79602_row1_col1\" class=\"data row1 col1\" >8096</td>\n",
       "      <td id=\"T_79602_row1_col2\" class=\"data row1 col2\" >10</td>\n",
       "      <td id=\"T_79602_row1_col3\" class=\"data row1 col3\" >35,075,357</td>\n",
       "      <td id=\"T_79602_row1_col4\" class=\"data row1 col4\" >4</td>\n",
       "    </tr>\n",
       "    <tr>\n",
       "      <th id=\"T_79602_level0_row2\" class=\"row_heading level0 row2\" >21</th>\n",
       "      <td id=\"T_79602_row2_col0\" class=\"data row2 col0\" >BAY</td>\n",
       "      <td id=\"T_79602_row2_col1\" class=\"data row2 col1\" >8096</td>\n",
       "      <td id=\"T_79602_row2_col2\" class=\"data row2 col2\" >10</td>\n",
       "      <td id=\"T_79602_row2_col3\" class=\"data row2 col3\" >29,699,751</td>\n",
       "      <td id=\"T_79602_row2_col4\" class=\"data row2 col4\" >4</td>\n",
       "    </tr>\n",
       "    <tr>\n",
       "      <th id=\"T_79602_level0_row3\" class=\"row_heading level0 row3\" >22</th>\n",
       "      <td id=\"T_79602_row3_col0\" class=\"data row3 col0\" >BBL</td>\n",
       "      <td id=\"T_79602_row3_col1\" class=\"data row3 col1\" >8096</td>\n",
       "      <td id=\"T_79602_row3_col2\" class=\"data row3 col2\" >10</td>\n",
       "      <td id=\"T_79602_row3_col3\" class=\"data row3 col3\" >45,211,145</td>\n",
       "      <td id=\"T_79602_row3_col4\" class=\"data row3 col4\" >4</td>\n",
       "    </tr>\n",
       "    <tr>\n",
       "      <th id=\"T_79602_level0_row4\" class=\"row_heading level0 row4\" >56</th>\n",
       "      <td id=\"T_79602_row4_col0\" class=\"data row4 col0\" >DCC</td>\n",
       "      <td id=\"T_79602_row4_col1\" class=\"data row4 col1\" >8096</td>\n",
       "      <td id=\"T_79602_row4_col2\" class=\"data row4 col2\" >10</td>\n",
       "      <td id=\"T_79602_row4_col3\" class=\"data row4 col3\" >1,103,565</td>\n",
       "      <td id=\"T_79602_row4_col4\" class=\"data row4 col4\" >4</td>\n",
       "    </tr>\n",
       "  </tbody>\n",
       "</table>\n"
      ],
      "text/plain": [
       "<pandas.io.formats.style.Styler at 0x28882d60f20>"
      ]
     },
     "execution_count": 12,
     "metadata": {},
     "output_type": "execute_result"
    }
   ],
   "source": [
    "dfp = pd.read_sql(sql, conlt)\n",
    "dfp[\"Counter\"] = 1\n",
    "dfp_grp = dfp.groupby([\"name\"], as_index=False).sum()\n",
    "dfp_grp = dfp_grp[dfp_grp[\"Counter\"] == 4]\n",
    "dfp_grp.head().style.format(format_dict)"
   ]
  },
  {
   "cell_type": "code",
   "execution_count": 14,
   "metadata": {},
   "outputs": [
    {
     "data": {
      "text/plain": [
       "(224,)"
      ]
     },
     "execution_count": 14,
     "metadata": {},
     "output_type": "execute_result"
    }
   ],
   "source": [
    "dfp.name.unique().shape"
   ]
  },
  {
   "cell_type": "code",
   "execution_count": 16,
   "metadata": {},
   "outputs": [
    {
     "data": {
      "text/html": [
       "<style type=\"text/css\">\n",
       "</style>\n",
       "<table id=\"T_f6587\">\n",
       "  <thead>\n",
       "    <tr>\n",
       "      <th class=\"blank level0\" >&nbsp;</th>\n",
       "      <th id=\"T_f6587_level0_col0\" class=\"col_heading level0 col0\" >name</th>\n",
       "      <th id=\"T_f6587_level0_col1\" class=\"col_heading level0 col1\" >year</th>\n",
       "      <th id=\"T_f6587_level0_col2\" class=\"col_heading level0 col2\" >quarter</th>\n",
       "      <th id=\"T_f6587_level0_col3\" class=\"col_heading level0 col3\" >q_amt_c</th>\n",
       "      <th id=\"T_f6587_level0_col4\" class=\"col_heading level0 col4\" >q_amt_p</th>\n",
       "      <th id=\"T_f6587_level0_col5\" class=\"col_heading level0 col5\" >inc_profit</th>\n",
       "      <th id=\"T_f6587_level0_col6\" class=\"col_heading level0 col6\" >percent</th>\n",
       "    </tr>\n",
       "  </thead>\n",
       "  <tbody>\n",
       "    <tr>\n",
       "      <th id=\"T_f6587_level0_row0\" class=\"row_heading level0 row0\" >0</th>\n",
       "      <td id=\"T_f6587_row0_col0\" class=\"data row0 col0\" >FPT</td>\n",
       "      <td id=\"T_f6587_row0_col1\" class=\"data row0 col1\" >2025</td>\n",
       "      <td id=\"T_f6587_row0_col2\" class=\"data row0 col2\" >Q1</td>\n",
       "      <td id=\"T_f6587_row0_col3\" class=\"data row0 col3\" >1,447,950</td>\n",
       "      <td id=\"T_f6587_row0_col4\" class=\"data row0 col4\" >1,438,028</td>\n",
       "      <td id=\"T_f6587_row0_col5\" class=\"data row0 col5\" >9,922</td>\n",
       "      <td id=\"T_f6587_row0_col6\" class=\"data row0 col6\" >0.69%</td>\n",
       "    </tr>\n",
       "    <tr>\n",
       "      <th id=\"T_f6587_level0_row1\" class=\"row_heading level0 row1\" >1</th>\n",
       "      <td id=\"T_f6587_row1_col0\" class=\"data row1 col0\" >GVREIT</td>\n",
       "      <td id=\"T_f6587_row1_col1\" class=\"data row1 col1\" >2025</td>\n",
       "      <td id=\"T_f6587_row1_col2\" class=\"data row1 col2\" >Q1</td>\n",
       "      <td id=\"T_f6587_row1_col3\" class=\"data row1 col3\" >463,216</td>\n",
       "      <td id=\"T_f6587_row1_col4\" class=\"data row1 col4\" >457,671</td>\n",
       "      <td id=\"T_f6587_row1_col5\" class=\"data row1 col5\" >5,545</td>\n",
       "      <td id=\"T_f6587_row1_col6\" class=\"data row1 col6\" >1.21%</td>\n",
       "    </tr>\n",
       "    <tr>\n",
       "      <th id=\"T_f6587_level0_row2\" class=\"row_heading level0 row2\" >2</th>\n",
       "      <td id=\"T_f6587_row2_col0\" class=\"data row2 col0\" >TFFIF</td>\n",
       "      <td id=\"T_f6587_row2_col1\" class=\"data row2 col1\" >2025</td>\n",
       "      <td id=\"T_f6587_row2_col2\" class=\"data row2 col2\" >Q1</td>\n",
       "      <td id=\"T_f6587_row2_col3\" class=\"data row2 col3\" >-390,062</td>\n",
       "      <td id=\"T_f6587_row2_col4\" class=\"data row2 col4\" >-458,370</td>\n",
       "      <td id=\"T_f6587_row2_col5\" class=\"data row2 col5\" >68,308</td>\n",
       "      <td id=\"T_f6587_row2_col6\" class=\"data row2 col6\" >14.90%</td>\n",
       "    </tr>\n",
       "  </tbody>\n",
       "</table>\n"
      ],
      "text/plain": [
       "<pandas.io.formats.style.Styler at 0x28884427320>"
      ]
     },
     "execution_count": 16,
     "metadata": {},
     "output_type": "execute_result"
    }
   ],
   "source": [
    "dfm = pd.merge(dfc_grp, dfp_grp, on=\"name\", suffixes=([\"_c\", \"_p\"]), how=\"inner\")\n",
    "dfm[\"inc_profit\"] = dfm[\"q_amt_c\"] - dfm[\"q_amt_p\"]\n",
    "dfm[\"percent\"] = round(dfm[\"inc_profit\"] / abs(dfm[\"q_amt_p\"]) * 100, 2)\n",
    "dfm[\"year\"] = year\n",
    "dfm[\"quarter\"] = \"Q\" + str(quarter)\n",
    "df_percent = dfm[cols]\n",
    "df_percent.head().style.format(format_dict)"
   ]
  },
  {
   "cell_type": "code",
   "execution_count": 18,
   "metadata": {},
   "outputs": [
    {
     "name": "stdout",
     "output_type": "stream",
     "text": [
      "Rows deleted: 1\n"
     ]
    }
   ],
   "source": [
    "# Create the SQL query with parameter binding\n",
    "sql = text(\"DELETE FROM qt_profits WHERE year = :year AND quarter = :quarter\")\n",
    "\n",
    "# Execute the query with parameters\n",
    "params = {'year': year, 'quarter': f'Q{quarter}'}\n",
    "rp = conlt.execute(sql, params)\n",
    "\n",
    "# Print the number of rows affected\n",
    "print(\"Rows deleted:\", rp.rowcount)"
   ]
  },
  {
   "cell_type": "code",
   "execution_count": 20,
   "metadata": {},
   "outputs": [
    {
     "data": {
      "text/html": [
       "<div>\n",
       "<style scoped>\n",
       "    .dataframe tbody tr th:only-of-type {\n",
       "        vertical-align: middle;\n",
       "    }\n",
       "\n",
       "    .dataframe tbody tr th {\n",
       "        vertical-align: top;\n",
       "    }\n",
       "\n",
       "    .dataframe thead th {\n",
       "        text-align: right;\n",
       "    }\n",
       "</style>\n",
       "<table border=\"1\" class=\"dataframe\">\n",
       "  <thead>\n",
       "    <tr style=\"text-align: right;\">\n",
       "      <th></th>\n",
       "      <th>name</th>\n",
       "      <th>id</th>\n",
       "    </tr>\n",
       "  </thead>\n",
       "  <tbody>\n",
       "    <tr>\n",
       "      <th>351</th>\n",
       "      <td>TOP</td>\n",
       "      <td>555</td>\n",
       "    </tr>\n",
       "    <tr>\n",
       "      <th>45</th>\n",
       "      <td>BDMS</td>\n",
       "      <td>54</td>\n",
       "    </tr>\n",
       "    <tr>\n",
       "      <th>84</th>\n",
       "      <td>CSC</td>\n",
       "      <td>127</td>\n",
       "    </tr>\n",
       "    <tr>\n",
       "      <th>315</th>\n",
       "      <td>SUTHA</td>\n",
       "      <td>489</td>\n",
       "    </tr>\n",
       "    <tr>\n",
       "      <th>170</th>\n",
       "      <td>KTC</td>\n",
       "      <td>259</td>\n",
       "    </tr>\n",
       "  </tbody>\n",
       "</table>\n",
       "</div>"
      ],
      "text/plain": [
       "      name   id\n",
       "351    TOP  555\n",
       "45    BDMS   54\n",
       "84     CSC  127\n",
       "315  SUTHA  489\n",
       "170    KTC  259"
      ]
     },
     "execution_count": 20,
     "metadata": {},
     "output_type": "execute_result"
    }
   ],
   "source": [
    "sql = \"SELECT name, id FROM tickers\"\n",
    "tickers = pd.read_sql(sql, conlt)\n",
    "tickers.sample(5)"
   ]
  },
  {
   "cell_type": "code",
   "execution_count": 22,
   "metadata": {},
   "outputs": [
    {
     "data": {
      "text/html": [
       "<style type=\"text/css\">\n",
       "</style>\n",
       "<table id=\"T_075b1\">\n",
       "  <thead>\n",
       "    <tr>\n",
       "      <th class=\"blank level0\" >&nbsp;</th>\n",
       "      <th id=\"T_075b1_level0_col0\" class=\"col_heading level0 col0\" >name</th>\n",
       "      <th id=\"T_075b1_level0_col1\" class=\"col_heading level0 col1\" >year</th>\n",
       "      <th id=\"T_075b1_level0_col2\" class=\"col_heading level0 col2\" >quarter</th>\n",
       "      <th id=\"T_075b1_level0_col3\" class=\"col_heading level0 col3\" >q_amt_c</th>\n",
       "      <th id=\"T_075b1_level0_col4\" class=\"col_heading level0 col4\" >q_amt_p</th>\n",
       "      <th id=\"T_075b1_level0_col5\" class=\"col_heading level0 col5\" >inc_profit</th>\n",
       "      <th id=\"T_075b1_level0_col6\" class=\"col_heading level0 col6\" >percent</th>\n",
       "      <th id=\"T_075b1_level0_col7\" class=\"col_heading level0 col7\" >id</th>\n",
       "    </tr>\n",
       "  </thead>\n",
       "  <tbody>\n",
       "    <tr>\n",
       "      <th id=\"T_075b1_level0_row0\" class=\"row_heading level0 row0\" >0</th>\n",
       "      <td id=\"T_075b1_row0_col0\" class=\"data row0 col0\" >FPT</td>\n",
       "      <td id=\"T_075b1_row0_col1\" class=\"data row0 col1\" >2025</td>\n",
       "      <td id=\"T_075b1_row0_col2\" class=\"data row0 col2\" >Q1</td>\n",
       "      <td id=\"T_075b1_row0_col3\" class=\"data row0 col3\" >1,447,950</td>\n",
       "      <td id=\"T_075b1_row0_col4\" class=\"data row0 col4\" >1,438,028</td>\n",
       "      <td id=\"T_075b1_row0_col5\" class=\"data row0 col5\" >9,922</td>\n",
       "      <td id=\"T_075b1_row0_col6\" class=\"data row0 col6\" >0.69%</td>\n",
       "      <td id=\"T_075b1_row0_col7\" class=\"data row0 col7\" >746</td>\n",
       "    </tr>\n",
       "    <tr>\n",
       "      <th id=\"T_075b1_level0_row1\" class=\"row_heading level0 row1\" >1</th>\n",
       "      <td id=\"T_075b1_row1_col0\" class=\"data row1 col0\" >GVREIT</td>\n",
       "      <td id=\"T_075b1_row1_col1\" class=\"data row1 col1\" >2025</td>\n",
       "      <td id=\"T_075b1_row1_col2\" class=\"data row1 col2\" >Q1</td>\n",
       "      <td id=\"T_075b1_row1_col3\" class=\"data row1 col3\" >463,216</td>\n",
       "      <td id=\"T_075b1_row1_col4\" class=\"data row1 col4\" >457,671</td>\n",
       "      <td id=\"T_075b1_row1_col5\" class=\"data row1 col5\" >5,545</td>\n",
       "      <td id=\"T_075b1_row1_col6\" class=\"data row1 col6\" >1.21%</td>\n",
       "      <td id=\"T_075b1_row1_col7\" class=\"data row1 col7\" >654</td>\n",
       "    </tr>\n",
       "    <tr>\n",
       "      <th id=\"T_075b1_level0_row2\" class=\"row_heading level0 row2\" >2</th>\n",
       "      <td id=\"T_075b1_row2_col0\" class=\"data row2 col0\" >TFFIF</td>\n",
       "      <td id=\"T_075b1_row2_col1\" class=\"data row2 col1\" >2025</td>\n",
       "      <td id=\"T_075b1_row2_col2\" class=\"data row2 col2\" >Q1</td>\n",
       "      <td id=\"T_075b1_row2_col3\" class=\"data row2 col3\" >-390,062</td>\n",
       "      <td id=\"T_075b1_row2_col4\" class=\"data row2 col4\" >-458,370</td>\n",
       "      <td id=\"T_075b1_row2_col5\" class=\"data row2 col5\" >68,308</td>\n",
       "      <td id=\"T_075b1_row2_col6\" class=\"data row2 col6\" >14.90%</td>\n",
       "      <td id=\"T_075b1_row2_col7\" class=\"data row2 col7\" >686</td>\n",
       "    </tr>\n",
       "  </tbody>\n",
       "</table>\n"
      ],
      "text/plain": [
       "<pandas.io.formats.style.Styler at 0x28885316480>"
      ]
     },
     "execution_count": 22,
     "metadata": {},
     "output_type": "execute_result"
    }
   ],
   "source": [
    "df_ins = pd.merge(df_percent, tickers, on=\"name\", how=\"inner\")\n",
    "df_ins.head().style.format(format_dict)"
   ]
  },
  {
   "cell_type": "code",
   "execution_count": 24,
   "metadata": {},
   "outputs": [],
   "source": [
    "# Convert DataFrame to list of records\n",
    "rcds = df_ins.values.tolist()\n",
    "\n",
    "# Define column names in the same order as values\n",
    "columns = ['name', 'year', 'quarter', 'latest_amt', 'previous_amt', 'inc_amt', 'inc_pct', 'ticker_id']\n",
    "\n",
    "# SQL insert statement with named parameters\n",
    "sql = text(\"\"\"\n",
    "    INSERT INTO qt_profits \n",
    "    (name, year, quarter, latest_amt, previous_amt, inc_amt, inc_pct, ticker_id)\n",
    "    VALUES (:name, :year, :quarter, :latest_amt, :previous_amt, :inc_amt, :inc_pct, :ticker_id)\n",
    "\"\"\")\n",
    "\n",
    "try:\n",
    "    # Execute inserts\n",
    "    for rcd in rcds:\n",
    "        # Convert list to dictionary\n",
    "        params = dict(zip(columns, rcd))\n",
    "        conlt.execute(sql, params)\n",
    "except Exception as e:\n",
    "    raise e"
   ]
  },
  {
   "cell_type": "markdown",
   "metadata": {},
   "source": [
    "### End of loop"
   ]
  },
  {
   "cell_type": "code",
   "execution_count": 27,
   "metadata": {},
   "outputs": [
    {
     "data": {
      "text/html": [
       "<style type=\"text/css\">\n",
       "</style>\n",
       "<table id=\"T_fcf02\">\n",
       "  <thead>\n",
       "    <tr>\n",
       "      <th class=\"blank level0\" >&nbsp;</th>\n",
       "      <th id=\"T_fcf02_level0_col0\" class=\"col_heading level0 col0\" >name</th>\n",
       "      <th id=\"T_fcf02_level0_col1\" class=\"col_heading level0 col1\" >year</th>\n",
       "      <th id=\"T_fcf02_level0_col2\" class=\"col_heading level0 col2\" >quarter</th>\n",
       "      <th id=\"T_fcf02_level0_col3\" class=\"col_heading level0 col3\" >q_amt_c</th>\n",
       "      <th id=\"T_fcf02_level0_col4\" class=\"col_heading level0 col4\" >q_amt_p</th>\n",
       "      <th id=\"T_fcf02_level0_col5\" class=\"col_heading level0 col5\" >inc_profit</th>\n",
       "      <th id=\"T_fcf02_level0_col6\" class=\"col_heading level0 col6\" >percent</th>\n",
       "    </tr>\n",
       "  </thead>\n",
       "  <tbody>\n",
       "    <tr>\n",
       "      <th id=\"T_fcf02_level0_row0\" class=\"row_heading level0 row0\" >0</th>\n",
       "      <td id=\"T_fcf02_row0_col0\" class=\"data row0 col0\" >FPT</td>\n",
       "      <td id=\"T_fcf02_row0_col1\" class=\"data row0 col1\" >2025</td>\n",
       "      <td id=\"T_fcf02_row0_col2\" class=\"data row0 col2\" >Q1</td>\n",
       "      <td id=\"T_fcf02_row0_col3\" class=\"data row0 col3\" >1,447,950</td>\n",
       "      <td id=\"T_fcf02_row0_col4\" class=\"data row0 col4\" >1,438,028</td>\n",
       "      <td id=\"T_fcf02_row0_col5\" class=\"data row0 col5\" >9,922</td>\n",
       "      <td id=\"T_fcf02_row0_col6\" class=\"data row0 col6\" >0.69%</td>\n",
       "    </tr>\n",
       "    <tr>\n",
       "      <th id=\"T_fcf02_level0_row1\" class=\"row_heading level0 row1\" >1</th>\n",
       "      <td id=\"T_fcf02_row1_col0\" class=\"data row1 col0\" >GVREIT</td>\n",
       "      <td id=\"T_fcf02_row1_col1\" class=\"data row1 col1\" >2025</td>\n",
       "      <td id=\"T_fcf02_row1_col2\" class=\"data row1 col2\" >Q1</td>\n",
       "      <td id=\"T_fcf02_row1_col3\" class=\"data row1 col3\" >463,216</td>\n",
       "      <td id=\"T_fcf02_row1_col4\" class=\"data row1 col4\" >457,671</td>\n",
       "      <td id=\"T_fcf02_row1_col5\" class=\"data row1 col5\" >5,545</td>\n",
       "      <td id=\"T_fcf02_row1_col6\" class=\"data row1 col6\" >1.21%</td>\n",
       "    </tr>\n",
       "  </tbody>\n",
       "</table>\n"
      ],
      "text/plain": [
       "<pandas.io.formats.style.Styler at 0x28885302cf0>"
      ]
     },
     "execution_count": 27,
     "metadata": {},
     "output_type": "execute_result"
    }
   ],
   "source": [
    "criteria_1 = df_ins.q_amt_c > 440_000\n",
    "df_ins.loc[criteria_1, cols].head().style.format(format_dict)"
   ]
  },
  {
   "cell_type": "code",
   "execution_count": 29,
   "metadata": {},
   "outputs": [
    {
     "data": {
      "text/html": [
       "<style type=\"text/css\">\n",
       "</style>\n",
       "<table id=\"T_a91c1\">\n",
       "  <thead>\n",
       "    <tr>\n",
       "      <th class=\"blank level0\" >&nbsp;</th>\n",
       "      <th id=\"T_a91c1_level0_col0\" class=\"col_heading level0 col0\" >name</th>\n",
       "      <th id=\"T_a91c1_level0_col1\" class=\"col_heading level0 col1\" >year</th>\n",
       "      <th id=\"T_a91c1_level0_col2\" class=\"col_heading level0 col2\" >quarter</th>\n",
       "      <th id=\"T_a91c1_level0_col3\" class=\"col_heading level0 col3\" >q_amt_c</th>\n",
       "      <th id=\"T_a91c1_level0_col4\" class=\"col_heading level0 col4\" >q_amt_p</th>\n",
       "      <th id=\"T_a91c1_level0_col5\" class=\"col_heading level0 col5\" >inc_profit</th>\n",
       "      <th id=\"T_a91c1_level0_col6\" class=\"col_heading level0 col6\" >percent</th>\n",
       "    </tr>\n",
       "  </thead>\n",
       "  <tbody>\n",
       "    <tr>\n",
       "      <th id=\"T_a91c1_level0_row0\" class=\"row_heading level0 row0\" >0</th>\n",
       "      <td id=\"T_a91c1_row0_col0\" class=\"data row0 col0\" >FPT</td>\n",
       "      <td id=\"T_a91c1_row0_col1\" class=\"data row0 col1\" >2025</td>\n",
       "      <td id=\"T_a91c1_row0_col2\" class=\"data row0 col2\" >Q1</td>\n",
       "      <td id=\"T_a91c1_row0_col3\" class=\"data row0 col3\" >1,447,950</td>\n",
       "      <td id=\"T_a91c1_row0_col4\" class=\"data row0 col4\" >1,438,028</td>\n",
       "      <td id=\"T_a91c1_row0_col5\" class=\"data row0 col5\" >9,922</td>\n",
       "      <td id=\"T_a91c1_row0_col6\" class=\"data row0 col6\" >0.69%</td>\n",
       "    </tr>\n",
       "    <tr>\n",
       "      <th id=\"T_a91c1_level0_row1\" class=\"row_heading level0 row1\" >1</th>\n",
       "      <td id=\"T_a91c1_row1_col0\" class=\"data row1 col0\" >GVREIT</td>\n",
       "      <td id=\"T_a91c1_row1_col1\" class=\"data row1 col1\" >2025</td>\n",
       "      <td id=\"T_a91c1_row1_col2\" class=\"data row1 col2\" >Q1</td>\n",
       "      <td id=\"T_a91c1_row1_col3\" class=\"data row1 col3\" >463,216</td>\n",
       "      <td id=\"T_a91c1_row1_col4\" class=\"data row1 col4\" >457,671</td>\n",
       "      <td id=\"T_a91c1_row1_col5\" class=\"data row1 col5\" >5,545</td>\n",
       "      <td id=\"T_a91c1_row1_col6\" class=\"data row1 col6\" >1.21%</td>\n",
       "    </tr>\n",
       "  </tbody>\n",
       "</table>\n"
      ],
      "text/plain": [
       "<pandas.io.formats.style.Styler at 0x288850b1f40>"
      ]
     },
     "execution_count": 29,
     "metadata": {},
     "output_type": "execute_result"
    }
   ],
   "source": [
    "criteria_2 = df_ins.q_amt_p > 400_000\n",
    "df_ins.loc[criteria_2, cols].head().style.format(format_dict)"
   ]
  },
  {
   "cell_type": "code",
   "execution_count": 31,
   "metadata": {},
   "outputs": [
    {
     "data": {
      "text/html": [
       "<style type=\"text/css\">\n",
       "</style>\n",
       "<table id=\"T_4c2d9\">\n",
       "  <thead>\n",
       "    <tr>\n",
       "      <th class=\"blank level0\" >&nbsp;</th>\n",
       "      <th id=\"T_4c2d9_level0_col0\" class=\"col_heading level0 col0\" >name</th>\n",
       "      <th id=\"T_4c2d9_level0_col1\" class=\"col_heading level0 col1\" >year</th>\n",
       "      <th id=\"T_4c2d9_level0_col2\" class=\"col_heading level0 col2\" >quarter</th>\n",
       "      <th id=\"T_4c2d9_level0_col3\" class=\"col_heading level0 col3\" >q_amt_c</th>\n",
       "      <th id=\"T_4c2d9_level0_col4\" class=\"col_heading level0 col4\" >q_amt_p</th>\n",
       "      <th id=\"T_4c2d9_level0_col5\" class=\"col_heading level0 col5\" >inc_profit</th>\n",
       "      <th id=\"T_4c2d9_level0_col6\" class=\"col_heading level0 col6\" >percent</th>\n",
       "    </tr>\n",
       "  </thead>\n",
       "  <tbody>\n",
       "    <tr>\n",
       "      <th id=\"T_4c2d9_level0_row0\" class=\"row_heading level0 row0\" >2</th>\n",
       "      <td id=\"T_4c2d9_row0_col0\" class=\"data row0 col0\" >TFFIF</td>\n",
       "      <td id=\"T_4c2d9_row0_col1\" class=\"data row0 col1\" >2025</td>\n",
       "      <td id=\"T_4c2d9_row0_col2\" class=\"data row0 col2\" >Q1</td>\n",
       "      <td id=\"T_4c2d9_row0_col3\" class=\"data row0 col3\" >-390,062</td>\n",
       "      <td id=\"T_4c2d9_row0_col4\" class=\"data row0 col4\" >-458,370</td>\n",
       "      <td id=\"T_4c2d9_row0_col5\" class=\"data row0 col5\" >68,308</td>\n",
       "      <td id=\"T_4c2d9_row0_col6\" class=\"data row0 col6\" >14.90%</td>\n",
       "    </tr>\n",
       "  </tbody>\n",
       "</table>\n"
      ],
      "text/plain": [
       "<pandas.io.formats.style.Styler at 0x288852c15e0>"
      ]
     },
     "execution_count": 31,
     "metadata": {},
     "output_type": "execute_result"
    }
   ],
   "source": [
    "criteria_3 = df_ins.percent > 10.00\n",
    "df_ins.loc[criteria_3, cols].head().style.format(format_dict)"
   ]
  },
  {
   "cell_type": "code",
   "execution_count": 33,
   "metadata": {},
   "outputs": [
    {
     "data": {
      "text/html": [
       "<style type=\"text/css\">\n",
       "</style>\n",
       "<table id=\"T_56145\">\n",
       "  <thead>\n",
       "    <tr>\n",
       "      <th class=\"blank level0\" >&nbsp;</th>\n",
       "      <th id=\"T_56145_level0_col0\" class=\"col_heading level0 col0\" >name</th>\n",
       "      <th id=\"T_56145_level0_col1\" class=\"col_heading level0 col1\" >year</th>\n",
       "      <th id=\"T_56145_level0_col2\" class=\"col_heading level0 col2\" >quarter</th>\n",
       "      <th id=\"T_56145_level0_col3\" class=\"col_heading level0 col3\" >q_amt_c</th>\n",
       "      <th id=\"T_56145_level0_col4\" class=\"col_heading level0 col4\" >q_amt_p</th>\n",
       "      <th id=\"T_56145_level0_col5\" class=\"col_heading level0 col5\" >inc_profit</th>\n",
       "      <th id=\"T_56145_level0_col6\" class=\"col_heading level0 col6\" >percent</th>\n",
       "    </tr>\n",
       "  </thead>\n",
       "  <tbody>\n",
       "  </tbody>\n",
       "</table>\n"
      ],
      "text/plain": [
       "<pandas.io.formats.style.Styler at 0x288843f2a20>"
      ]
     },
     "execution_count": 33,
     "metadata": {},
     "output_type": "execute_result"
    }
   ],
   "source": [
    "df_ins_criteria = criteria_1 & criteria_2 & criteria_3\n",
    "df_ins.loc[df_ins_criteria, cols].head().style.format(format_dict)"
   ]
  },
  {
   "cell_type": "code",
   "execution_count": 35,
   "metadata": {},
   "outputs": [
    {
     "data": {
      "text/html": [
       "<style type=\"text/css\">\n",
       "</style>\n",
       "<table id=\"T_b48da\">\n",
       "  <thead>\n",
       "    <tr>\n",
       "      <th class=\"blank level0\" >&nbsp;</th>\n",
       "      <th id=\"T_b48da_level0_col0\" class=\"col_heading level0 col0\" >name</th>\n",
       "      <th id=\"T_b48da_level0_col1\" class=\"col_heading level0 col1\" >year</th>\n",
       "      <th id=\"T_b48da_level0_col2\" class=\"col_heading level0 col2\" >quarter</th>\n",
       "      <th id=\"T_b48da_level0_col3\" class=\"col_heading level0 col3\" >q_amt_c</th>\n",
       "      <th id=\"T_b48da_level0_col4\" class=\"col_heading level0 col4\" >q_amt_p</th>\n",
       "      <th id=\"T_b48da_level0_col5\" class=\"col_heading level0 col5\" >inc_profit</th>\n",
       "      <th id=\"T_b48da_level0_col6\" class=\"col_heading level0 col6\" >percent</th>\n",
       "      <th id=\"T_b48da_level0_col7\" class=\"col_heading level0 col7\" >id</th>\n",
       "    </tr>\n",
       "  </thead>\n",
       "  <tbody>\n",
       "  </tbody>\n",
       "</table>\n"
      ],
      "text/plain": [
       "<pandas.io.formats.style.Styler at 0x288852c2de0>"
      ]
     },
     "execution_count": 35,
     "metadata": {},
     "output_type": "execute_result"
    }
   ],
   "source": [
    "df_ins[df_ins_criteria].sort_values(by=[\"percent\"], ascending=[False]).head().style.format(format_dict)"
   ]
  },
  {
   "cell_type": "code",
   "execution_count": 37,
   "metadata": {},
   "outputs": [
    {
     "data": {
      "text/html": [
       "<style type=\"text/css\">\n",
       "</style>\n",
       "<table id=\"T_b56cd\">\n",
       "  <thead>\n",
       "    <tr>\n",
       "      <th class=\"blank level0\" >&nbsp;</th>\n",
       "      <th id=\"T_b56cd_level0_col0\" class=\"col_heading level0 col0\" >name</th>\n",
       "      <th id=\"T_b56cd_level0_col1\" class=\"col_heading level0 col1\" >year</th>\n",
       "      <th id=\"T_b56cd_level0_col2\" class=\"col_heading level0 col2\" >quarter</th>\n",
       "      <th id=\"T_b56cd_level0_col3\" class=\"col_heading level0 col3\" >q_amt_c</th>\n",
       "      <th id=\"T_b56cd_level0_col4\" class=\"col_heading level0 col4\" >q_amt_p</th>\n",
       "      <th id=\"T_b56cd_level0_col5\" class=\"col_heading level0 col5\" >inc_profit</th>\n",
       "      <th id=\"T_b56cd_level0_col6\" class=\"col_heading level0 col6\" >percent</th>\n",
       "      <th id=\"T_b56cd_level0_col7\" class=\"col_heading level0 col7\" >id</th>\n",
       "    </tr>\n",
       "  </thead>\n",
       "  <tbody>\n",
       "  </tbody>\n",
       "</table>\n"
      ],
      "text/plain": [
       "<pandas.io.formats.style.Styler at 0x288843f2bd0>"
      ]
     },
     "execution_count": 37,
     "metadata": {},
     "output_type": "execute_result"
    }
   ],
   "source": [
    "df_ins[df_ins_criteria].sort_values(by=[\"name\"], ascending=[True]).head().style.format(format_dict)"
   ]
  },
  {
   "cell_type": "code",
   "execution_count": 39,
   "metadata": {},
   "outputs": [
    {
     "data": {
      "text/html": [
       "<style type=\"text/css\">\n",
       "</style>\n",
       "<table id=\"T_792a7\">\n",
       "  <thead>\n",
       "    <tr>\n",
       "      <th class=\"blank level0\" >&nbsp;</th>\n",
       "      <th id=\"T_792a7_level0_col0\" class=\"col_heading level0 col0\" >name</th>\n",
       "      <th id=\"T_792a7_level0_col1\" class=\"col_heading level0 col1\" >year</th>\n",
       "      <th id=\"T_792a7_level0_col2\" class=\"col_heading level0 col2\" >quarter</th>\n",
       "      <th id=\"T_792a7_level0_col3\" class=\"col_heading level0 col3\" >q_amt_c</th>\n",
       "      <th id=\"T_792a7_level0_col4\" class=\"col_heading level0 col4\" >q_amt_p</th>\n",
       "      <th id=\"T_792a7_level0_col5\" class=\"col_heading level0 col5\" >inc_profit</th>\n",
       "      <th id=\"T_792a7_level0_col6\" class=\"col_heading level0 col6\" >percent</th>\n",
       "      <th id=\"T_792a7_level0_col7\" class=\"col_heading level0 col7\" >id</th>\n",
       "    </tr>\n",
       "  </thead>\n",
       "  <tbody>\n",
       "  </tbody>\n",
       "</table>\n"
      ],
      "text/plain": [
       "<pandas.io.formats.style.Styler at 0x28885338410>"
      ]
     },
     "execution_count": 39,
     "metadata": {},
     "output_type": "execute_result"
    }
   ],
   "source": [
    "df_ins[df_ins_criteria].sort_values(by=[\"name\"], ascending=[True]).head().style.format(format_dict)"
   ]
  },
  {
   "cell_type": "code",
   "execution_count": 41,
   "metadata": {},
   "outputs": [],
   "source": [
    "conlt.commit()\n",
    "conlt.close()"
   ]
  },
  {
   "cell_type": "code",
   "execution_count": 43,
   "metadata": {},
   "outputs": [
    {
     "name": "stdout",
     "output_type": "stream",
     "text": [
      "2025:02:15 14:54:26\n"
     ]
    }
   ],
   "source": [
    "current_time = datetime.now()\n",
    "formatted_time = current_time.strftime(\"%Y:%m:%d %H:%M:%S\")\n",
    "print(formatted_time)"
   ]
  }
 ],
 "metadata": {
  "anaconda-cloud": {},
  "kernelspec": {
   "display_name": "Python 3 (ipykernel)",
   "language": "python",
   "name": "python3"
  },
  "language_info": {
   "codemirror_mode": {
    "name": "ipython",
    "version": 3
   },
   "file_extension": ".py",
   "mimetype": "text/x-python",
   "name": "python",
   "nbconvert_exporter": "python",
   "pygments_lexer": "ipython3",
   "version": "3.12.3"
  }
 },
 "nbformat": 4,
 "nbformat_minor": 4
}
