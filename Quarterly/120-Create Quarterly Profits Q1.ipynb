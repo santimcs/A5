{
 "cells": [
  {
   "cell_type": "markdown",
   "metadata": {},
   "source": [
    "### Restart and Run All Cells"
   ]
  },
  {
   "cell_type": "code",
   "execution_count": 2,
   "metadata": {},
   "outputs": [
    {
     "name": "stdout",
     "output_type": "stream",
     "text": [
      "2025-08-15 20:27:28\n"
     ]
    }
   ],
   "source": [
    "import pandas as pd\n",
    "from datetime import date, timedelta, datetime\n",
    "from sqlalchemy import create_engine, text\n",
    "\n",
    "engine = create_engine(\"sqlite:///c:\\\\ruby\\\\portlt\\\\db\\\\development.sqlite3\")\n",
    "conlt = engine.connect()\n",
    "\n",
    "year = 2025\n",
    "quarter = 1\n",
    "current_time = datetime.now()\n",
    "formatted_time = current_time.strftime(\"%Y-%m-%d %H:%M:%S\")\n",
    "print(formatted_time )"
   ]
  },
  {
   "cell_type": "code",
   "execution_count": 3,
   "metadata": {},
   "outputs": [],
   "source": [
    "cols = 'name year quarter q_amt_c q_amt_p inc_profit percent'.split()\n",
    "\n",
    "format_dict = {\n",
    "                'q_amt':'{:,}','q_amt_c':'{:,}','q_amt_p':'{:,}','inc_profit':'{:,}',\n",
    "                'yoy_gain':'{:,}','acc_gain':'{:,}',   \n",
    "                'latest_amt':'{:,}','previous_amt':'{:,}','inc_amt':'{:,}',\n",
    "                'q_eps':'{:.4f}','y_eps':'{:.4f}','aq_eps':'{:.4f}','ay_eps':'{:.4f}',\n",
    "                'percent':'{:.2f}%','inc_pct':'{:.2f}%'\n",
    "              }"
   ]
  },
  {
   "cell_type": "code",
   "execution_count": 4,
   "metadata": {},
   "outputs": [
    {
     "name": "stdout",
     "output_type": "stream",
     "text": [
      "\n",
      "SELECT name,year,quarter,q_amt \n",
      "FROM epss \n",
      "WHERE (year = 2025 AND quarter <= 1) \n",
      "OR (year = 2025-1 AND quarter >= 1+1)\n",
      "ORDER BY year DESC, quarter DESC\n",
      "\n"
     ]
    }
   ],
   "source": [
    "sql = \"\"\"\n",
    "SELECT name,year,quarter,q_amt \n",
    "FROM epss \n",
    "WHERE (year = %s AND quarter <= %s) \n",
    "OR (year = %s-1 AND quarter >= %s+1)\n",
    "ORDER BY year DESC, quarter DESC\n",
    "\"\"\"\n",
    "sql = sql % (year, quarter, year, quarter)\n",
    "print(sql)"
   ]
  },
  {
   "cell_type": "code",
   "execution_count": 5,
   "metadata": {},
   "outputs": [
    {
     "data": {
      "text/plain": [
       "(219, 5)"
      ]
     },
     "execution_count": 5,
     "metadata": {},
     "output_type": "execute_result"
    }
   ],
   "source": [
    "dfc = pd.read_sql(sql, conlt)\n",
    "dfc[\"Counter\"] = 1\n",
    "dfc_grp = dfc.groupby([\"name\"], as_index=False).sum()\n",
    "dfc_grp = dfc_grp[dfc_grp[\"Counter\"] == 4]\n",
    "dfc_grp.shape"
   ]
  },
  {
   "cell_type": "code",
   "execution_count": 6,
   "metadata": {},
   "outputs": [
    {
     "name": "stdout",
     "output_type": "stream",
     "text": [
      "\n",
      "SELECT name,year,quarter,q_amt \n",
      "FROM epss \n",
      "WHERE (year = 2025 AND quarter <= 1-1) \n",
      "OR (year = 2025-1 AND quarter >= 1) \n",
      "ORDER BY year DESC, quarter DESC\n"
     ]
    }
   ],
   "source": [
    "sql = \"\"\"\n",
    "SELECT name,year,quarter,q_amt \n",
    "FROM epss \n",
    "WHERE (year = %s AND quarter <= %s-1) \n",
    "OR (year = %s-1 AND quarter >= %s) \n",
    "ORDER BY year DESC, quarter DESC\"\"\"\n",
    "sql = sql % (year, quarter, year, quarter)\n",
    "print(sql)"
   ]
  },
  {
   "cell_type": "code",
   "execution_count": 7,
   "metadata": {},
   "outputs": [
    {
     "data": {
      "text/html": [
       "<style type=\"text/css\">\n",
       "</style>\n",
       "<table id=\"T_4d65f\">\n",
       "  <thead>\n",
       "    <tr>\n",
       "      <th class=\"blank level0\" >&nbsp;</th>\n",
       "      <th id=\"T_4d65f_level0_col0\" class=\"col_heading level0 col0\" >name</th>\n",
       "      <th id=\"T_4d65f_level0_col1\" class=\"col_heading level0 col1\" >year</th>\n",
       "      <th id=\"T_4d65f_level0_col2\" class=\"col_heading level0 col2\" >quarter</th>\n",
       "      <th id=\"T_4d65f_level0_col3\" class=\"col_heading level0 col3\" >q_amt</th>\n",
       "      <th id=\"T_4d65f_level0_col4\" class=\"col_heading level0 col4\" >Counter</th>\n",
       "    </tr>\n",
       "  </thead>\n",
       "  <tbody>\n",
       "    <tr>\n",
       "      <th id=\"T_4d65f_level0_row0\" class=\"row_heading level0 row0\" >0</th>\n",
       "      <td id=\"T_4d65f_row0_col0\" class=\"data row0 col0\" >3BBIF</td>\n",
       "      <td id=\"T_4d65f_row0_col1\" class=\"data row0 col1\" >8096</td>\n",
       "      <td id=\"T_4d65f_row0_col2\" class=\"data row0 col2\" >10</td>\n",
       "      <td id=\"T_4d65f_row0_col3\" class=\"data row0 col3\" >5,279,119</td>\n",
       "      <td id=\"T_4d65f_row0_col4\" class=\"data row0 col4\" >4</td>\n",
       "    </tr>\n",
       "    <tr>\n",
       "      <th id=\"T_4d65f_level0_row1\" class=\"row_heading level0 row1\" >1</th>\n",
       "      <td id=\"T_4d65f_row1_col0\" class=\"data row1 col0\" >ACE</td>\n",
       "      <td id=\"T_4d65f_row1_col1\" class=\"data row1 col1\" >8096</td>\n",
       "      <td id=\"T_4d65f_row1_col2\" class=\"data row1 col2\" >10</td>\n",
       "      <td id=\"T_4d65f_row1_col3\" class=\"data row1 col3\" >838,717</td>\n",
       "      <td id=\"T_4d65f_row1_col4\" class=\"data row1 col4\" >4</td>\n",
       "    </tr>\n",
       "    <tr>\n",
       "      <th id=\"T_4d65f_level0_row2\" class=\"row_heading level0 row2\" >2</th>\n",
       "      <td id=\"T_4d65f_row2_col0\" class=\"data row2 col0\" >ADVANC</td>\n",
       "      <td id=\"T_4d65f_row2_col1\" class=\"data row2 col1\" >8096</td>\n",
       "      <td id=\"T_4d65f_row2_col2\" class=\"data row2 col2\" >10</td>\n",
       "      <td id=\"T_4d65f_row2_col3\" class=\"data row2 col3\" >35,075,357</td>\n",
       "      <td id=\"T_4d65f_row2_col4\" class=\"data row2 col4\" >4</td>\n",
       "    </tr>\n",
       "    <tr>\n",
       "      <th id=\"T_4d65f_level0_row3\" class=\"row_heading level0 row3\" >3</th>\n",
       "      <td id=\"T_4d65f_row3_col0\" class=\"data row3 col0\" >AEONTS</td>\n",
       "      <td id=\"T_4d65f_row3_col1\" class=\"data row3 col1\" >8096</td>\n",
       "      <td id=\"T_4d65f_row3_col2\" class=\"data row3 col2\" >10</td>\n",
       "      <td id=\"T_4d65f_row3_col3\" class=\"data row3 col3\" >2,860,344</td>\n",
       "      <td id=\"T_4d65f_row3_col4\" class=\"data row3 col4\" >4</td>\n",
       "    </tr>\n",
       "    <tr>\n",
       "      <th id=\"T_4d65f_level0_row4\" class=\"row_heading level0 row4\" >4</th>\n",
       "      <td id=\"T_4d65f_row4_col0\" class=\"data row4 col0\" >AH</td>\n",
       "      <td id=\"T_4d65f_row4_col1\" class=\"data row4 col1\" >8096</td>\n",
       "      <td id=\"T_4d65f_row4_col2\" class=\"data row4 col2\" >10</td>\n",
       "      <td id=\"T_4d65f_row4_col3\" class=\"data row4 col3\" >746,961</td>\n",
       "      <td id=\"T_4d65f_row4_col4\" class=\"data row4 col4\" >4</td>\n",
       "    </tr>\n",
       "  </tbody>\n",
       "</table>\n"
      ],
      "text/plain": [
       "<pandas.io.formats.style.Styler at 0x1646042c890>"
      ]
     },
     "execution_count": 7,
     "metadata": {},
     "output_type": "execute_result"
    }
   ],
   "source": [
    "dfp = pd.read_sql(sql, conlt)\n",
    "dfp[\"Counter\"] = 1\n",
    "dfp_grp = dfp.groupby([\"name\"], as_index=False).sum()\n",
    "dfp_grp = dfp_grp[dfp_grp[\"Counter\"] == 4]\n",
    "dfp_grp.head().style.format(format_dict)"
   ]
  },
  {
   "cell_type": "code",
   "execution_count": 8,
   "metadata": {},
   "outputs": [
    {
     "data": {
      "text/plain": [
       "(224,)"
      ]
     },
     "execution_count": 8,
     "metadata": {},
     "output_type": "execute_result"
    }
   ],
   "source": [
    "dfp.name.unique().shape"
   ]
  },
  {
   "cell_type": "code",
   "execution_count": 9,
   "metadata": {},
   "outputs": [
    {
     "data": {
      "text/html": [
       "<style type=\"text/css\">\n",
       "</style>\n",
       "<table id=\"T_24140\">\n",
       "  <thead>\n",
       "    <tr>\n",
       "      <th class=\"blank level0\" >&nbsp;</th>\n",
       "      <th id=\"T_24140_level0_col0\" class=\"col_heading level0 col0\" >name</th>\n",
       "      <th id=\"T_24140_level0_col1\" class=\"col_heading level0 col1\" >year</th>\n",
       "      <th id=\"T_24140_level0_col2\" class=\"col_heading level0 col2\" >quarter</th>\n",
       "      <th id=\"T_24140_level0_col3\" class=\"col_heading level0 col3\" >q_amt_c</th>\n",
       "      <th id=\"T_24140_level0_col4\" class=\"col_heading level0 col4\" >q_amt_p</th>\n",
       "      <th id=\"T_24140_level0_col5\" class=\"col_heading level0 col5\" >inc_profit</th>\n",
       "      <th id=\"T_24140_level0_col6\" class=\"col_heading level0 col6\" >percent</th>\n",
       "    </tr>\n",
       "  </thead>\n",
       "  <tbody>\n",
       "    <tr>\n",
       "      <th id=\"T_24140_level0_row0\" class=\"row_heading level0 row0\" >0</th>\n",
       "      <td id=\"T_24140_row0_col0\" class=\"data row0 col0\" >3BBIF</td>\n",
       "      <td id=\"T_24140_row0_col1\" class=\"data row0 col1\" >2025</td>\n",
       "      <td id=\"T_24140_row0_col2\" class=\"data row0 col2\" >Q1</td>\n",
       "      <td id=\"T_24140_row0_col3\" class=\"data row0 col3\" >5,497,047</td>\n",
       "      <td id=\"T_24140_row0_col4\" class=\"data row0 col4\" >5,279,119</td>\n",
       "      <td id=\"T_24140_row0_col5\" class=\"data row0 col5\" >217,928</td>\n",
       "      <td id=\"T_24140_row0_col6\" class=\"data row0 col6\" >4.13%</td>\n",
       "    </tr>\n",
       "    <tr>\n",
       "      <th id=\"T_24140_level0_row1\" class=\"row_heading level0 row1\" >1</th>\n",
       "      <td id=\"T_24140_row1_col0\" class=\"data row1 col0\" >ACE</td>\n",
       "      <td id=\"T_24140_row1_col1\" class=\"data row1 col1\" >2025</td>\n",
       "      <td id=\"T_24140_row1_col2\" class=\"data row1 col2\" >Q1</td>\n",
       "      <td id=\"T_24140_row1_col3\" class=\"data row1 col3\" >809,620</td>\n",
       "      <td id=\"T_24140_row1_col4\" class=\"data row1 col4\" >838,717</td>\n",
       "      <td id=\"T_24140_row1_col5\" class=\"data row1 col5\" >-29,097</td>\n",
       "      <td id=\"T_24140_row1_col6\" class=\"data row1 col6\" >-3.47%</td>\n",
       "    </tr>\n",
       "    <tr>\n",
       "      <th id=\"T_24140_level0_row2\" class=\"row_heading level0 row2\" >2</th>\n",
       "      <td id=\"T_24140_row2_col0\" class=\"data row2 col0\" >ADVANC</td>\n",
       "      <td id=\"T_24140_row2_col1\" class=\"data row2 col1\" >2025</td>\n",
       "      <td id=\"T_24140_row2_col2\" class=\"data row2 col2\" >Q1</td>\n",
       "      <td id=\"T_24140_row2_col3\" class=\"data row2 col3\" >37,207,829</td>\n",
       "      <td id=\"T_24140_row2_col4\" class=\"data row2 col4\" >35,075,357</td>\n",
       "      <td id=\"T_24140_row2_col5\" class=\"data row2 col5\" >2,132,472</td>\n",
       "      <td id=\"T_24140_row2_col6\" class=\"data row2 col6\" >6.08%</td>\n",
       "    </tr>\n",
       "    <tr>\n",
       "      <th id=\"T_24140_level0_row3\" class=\"row_heading level0 row3\" >3</th>\n",
       "      <td id=\"T_24140_row3_col0\" class=\"data row3 col0\" >AEONTS</td>\n",
       "      <td id=\"T_24140_row3_col1\" class=\"data row3 col1\" >2025</td>\n",
       "      <td id=\"T_24140_row3_col2\" class=\"data row3 col2\" >Q1</td>\n",
       "      <td id=\"T_24140_row3_col3\" class=\"data row3 col3\" >3,107,917</td>\n",
       "      <td id=\"T_24140_row3_col4\" class=\"data row3 col4\" >2,860,344</td>\n",
       "      <td id=\"T_24140_row3_col5\" class=\"data row3 col5\" >247,573</td>\n",
       "      <td id=\"T_24140_row3_col6\" class=\"data row3 col6\" >8.66%</td>\n",
       "    </tr>\n",
       "    <tr>\n",
       "      <th id=\"T_24140_level0_row4\" class=\"row_heading level0 row4\" >4</th>\n",
       "      <td id=\"T_24140_row4_col0\" class=\"data row4 col0\" >AH</td>\n",
       "      <td id=\"T_24140_row4_col1\" class=\"data row4 col1\" >2025</td>\n",
       "      <td id=\"T_24140_row4_col2\" class=\"data row4 col2\" >Q1</td>\n",
       "      <td id=\"T_24140_row4_col3\" class=\"data row4 col3\" >733,651</td>\n",
       "      <td id=\"T_24140_row4_col4\" class=\"data row4 col4\" >746,961</td>\n",
       "      <td id=\"T_24140_row4_col5\" class=\"data row4 col5\" >-13,310</td>\n",
       "      <td id=\"T_24140_row4_col6\" class=\"data row4 col6\" >-1.78%</td>\n",
       "    </tr>\n",
       "  </tbody>\n",
       "</table>\n"
      ],
      "text/plain": [
       "<pandas.io.formats.style.Styler at 0x164631edd90>"
      ]
     },
     "execution_count": 9,
     "metadata": {},
     "output_type": "execute_result"
    }
   ],
   "source": [
    "dfm = pd.merge(dfc_grp, dfp_grp, on=\"name\", suffixes=([\"_c\", \"_p\"]), how=\"inner\")\n",
    "dfm[\"inc_profit\"] = dfm[\"q_amt_c\"] - dfm[\"q_amt_p\"]\n",
    "dfm[\"percent\"] = round(dfm[\"inc_profit\"] / abs(dfm[\"q_amt_p\"]) * 100, 2)\n",
    "dfm[\"year\"] = year\n",
    "dfm[\"quarter\"] = \"Q\" + str(quarter)\n",
    "df_percent = dfm[cols]\n",
    "df_percent.head().style.format(format_dict)"
   ]
  },
  {
   "cell_type": "code",
   "execution_count": 10,
   "metadata": {},
   "outputs": [
    {
     "name": "stdout",
     "output_type": "stream",
     "text": [
      "Rows deleted: 207\n"
     ]
    }
   ],
   "source": [
    "# Create the SQL query with parameter binding\n",
    "sql = text(\"DELETE FROM qt_profits WHERE year = :year AND quarter = :quarter\")\n",
    "\n",
    "# Execute the query with parameters\n",
    "params = {'year': year, 'quarter': f'Q{quarter}'}\n",
    "rp = conlt.execute(sql, params)\n",
    "\n",
    "# Print the number of rows affected\n",
    "print(\"Rows deleted:\", rp.rowcount)"
   ]
  },
  {
   "cell_type": "code",
   "execution_count": 11,
   "metadata": {},
   "outputs": [
    {
     "data": {
      "text/html": [
       "<div>\n",
       "<style scoped>\n",
       "    .dataframe tbody tr th:only-of-type {\n",
       "        vertical-align: middle;\n",
       "    }\n",
       "\n",
       "    .dataframe tbody tr th {\n",
       "        vertical-align: top;\n",
       "    }\n",
       "\n",
       "    .dataframe thead th {\n",
       "        text-align: right;\n",
       "    }\n",
       "</style>\n",
       "<table border=\"1\" class=\"dataframe\">\n",
       "  <thead>\n",
       "    <tr style=\"text-align: right;\">\n",
       "      <th></th>\n",
       "      <th>name</th>\n",
       "      <th>id</th>\n",
       "    </tr>\n",
       "  </thead>\n",
       "  <tbody>\n",
       "    <tr>\n",
       "      <th>193</th>\n",
       "      <td>MEGA</td>\n",
       "      <td>295</td>\n",
       "    </tr>\n",
       "    <tr>\n",
       "      <th>196</th>\n",
       "      <td>MINT</td>\n",
       "      <td>301</td>\n",
       "    </tr>\n",
       "    <tr>\n",
       "      <th>320</th>\n",
       "      <td>SYNTEC</td>\n",
       "      <td>496</td>\n",
       "    </tr>\n",
       "    <tr>\n",
       "      <th>23</th>\n",
       "      <td>APURE</td>\n",
       "      <td>28</td>\n",
       "    </tr>\n",
       "    <tr>\n",
       "      <th>277</th>\n",
       "      <td>SIAM</td>\n",
       "      <td>443</td>\n",
       "    </tr>\n",
       "  </tbody>\n",
       "</table>\n",
       "</div>"
      ],
      "text/plain": [
       "       name   id\n",
       "193    MEGA  295\n",
       "196    MINT  301\n",
       "320  SYNTEC  496\n",
       "23    APURE   28\n",
       "277    SIAM  443"
      ]
     },
     "execution_count": 11,
     "metadata": {},
     "output_type": "execute_result"
    }
   ],
   "source": [
    "sql = \"SELECT name, id FROM tickers\"\n",
    "tickers = pd.read_sql(sql, conlt)\n",
    "tickers.sample(5)"
   ]
  },
  {
   "cell_type": "code",
   "execution_count": 12,
   "metadata": {},
   "outputs": [
    {
     "data": {
      "text/html": [
       "<style type=\"text/css\">\n",
       "</style>\n",
       "<table id=\"T_b3d67\">\n",
       "  <thead>\n",
       "    <tr>\n",
       "      <th class=\"blank level0\" >&nbsp;</th>\n",
       "      <th id=\"T_b3d67_level0_col0\" class=\"col_heading level0 col0\" >name</th>\n",
       "      <th id=\"T_b3d67_level0_col1\" class=\"col_heading level0 col1\" >year</th>\n",
       "      <th id=\"T_b3d67_level0_col2\" class=\"col_heading level0 col2\" >quarter</th>\n",
       "      <th id=\"T_b3d67_level0_col3\" class=\"col_heading level0 col3\" >q_amt_c</th>\n",
       "      <th id=\"T_b3d67_level0_col4\" class=\"col_heading level0 col4\" >q_amt_p</th>\n",
       "      <th id=\"T_b3d67_level0_col5\" class=\"col_heading level0 col5\" >inc_profit</th>\n",
       "      <th id=\"T_b3d67_level0_col6\" class=\"col_heading level0 col6\" >percent</th>\n",
       "      <th id=\"T_b3d67_level0_col7\" class=\"col_heading level0 col7\" >id</th>\n",
       "    </tr>\n",
       "  </thead>\n",
       "  <tbody>\n",
       "    <tr>\n",
       "      <th id=\"T_b3d67_level0_row0\" class=\"row_heading level0 row0\" >0</th>\n",
       "      <td id=\"T_b3d67_row0_col0\" class=\"data row0 col0\" >3BBIF</td>\n",
       "      <td id=\"T_b3d67_row0_col1\" class=\"data row0 col1\" >2025</td>\n",
       "      <td id=\"T_b3d67_row0_col2\" class=\"data row0 col2\" >Q1</td>\n",
       "      <td id=\"T_b3d67_row0_col3\" class=\"data row0 col3\" >5,497,047</td>\n",
       "      <td id=\"T_b3d67_row0_col4\" class=\"data row0 col4\" >5,279,119</td>\n",
       "      <td id=\"T_b3d67_row0_col5\" class=\"data row0 col5\" >217,928</td>\n",
       "      <td id=\"T_b3d67_row0_col6\" class=\"data row0 col6\" >4.13%</td>\n",
       "      <td id=\"T_b3d67_row0_col7\" class=\"data row0 col7\" >234</td>\n",
       "    </tr>\n",
       "    <tr>\n",
       "      <th id=\"T_b3d67_level0_row1\" class=\"row_heading level0 row1\" >1</th>\n",
       "      <td id=\"T_b3d67_row1_col0\" class=\"data row1 col0\" >ACE</td>\n",
       "      <td id=\"T_b3d67_row1_col1\" class=\"data row1 col1\" >2025</td>\n",
       "      <td id=\"T_b3d67_row1_col2\" class=\"data row1 col2\" >Q1</td>\n",
       "      <td id=\"T_b3d67_row1_col3\" class=\"data row1 col3\" >809,620</td>\n",
       "      <td id=\"T_b3d67_row1_col4\" class=\"data row1 col4\" >838,717</td>\n",
       "      <td id=\"T_b3d67_row1_col5\" class=\"data row1 col5\" >-29,097</td>\n",
       "      <td id=\"T_b3d67_row1_col6\" class=\"data row1 col6\" >-3.47%</td>\n",
       "      <td id=\"T_b3d67_row1_col7\" class=\"data row1 col7\" >698</td>\n",
       "    </tr>\n",
       "    <tr>\n",
       "      <th id=\"T_b3d67_level0_row2\" class=\"row_heading level0 row2\" >2</th>\n",
       "      <td id=\"T_b3d67_row2_col0\" class=\"data row2 col0\" >ADVANC</td>\n",
       "      <td id=\"T_b3d67_row2_col1\" class=\"data row2 col1\" >2025</td>\n",
       "      <td id=\"T_b3d67_row2_col2\" class=\"data row2 col2\" >Q1</td>\n",
       "      <td id=\"T_b3d67_row2_col3\" class=\"data row2 col3\" >37,207,829</td>\n",
       "      <td id=\"T_b3d67_row2_col4\" class=\"data row2 col4\" >35,075,357</td>\n",
       "      <td id=\"T_b3d67_row2_col5\" class=\"data row2 col5\" >2,132,472</td>\n",
       "      <td id=\"T_b3d67_row2_col6\" class=\"data row2 col6\" >6.08%</td>\n",
       "      <td id=\"T_b3d67_row2_col7\" class=\"data row2 col7\" >6</td>\n",
       "    </tr>\n",
       "    <tr>\n",
       "      <th id=\"T_b3d67_level0_row3\" class=\"row_heading level0 row3\" >3</th>\n",
       "      <td id=\"T_b3d67_row3_col0\" class=\"data row3 col0\" >AEONTS</td>\n",
       "      <td id=\"T_b3d67_row3_col1\" class=\"data row3 col1\" >2025</td>\n",
       "      <td id=\"T_b3d67_row3_col2\" class=\"data row3 col2\" >Q1</td>\n",
       "      <td id=\"T_b3d67_row3_col3\" class=\"data row3 col3\" >3,107,917</td>\n",
       "      <td id=\"T_b3d67_row3_col4\" class=\"data row3 col4\" >2,860,344</td>\n",
       "      <td id=\"T_b3d67_row3_col5\" class=\"data row3 col5\" >247,573</td>\n",
       "      <td id=\"T_b3d67_row3_col6\" class=\"data row3 col6\" >8.66%</td>\n",
       "      <td id=\"T_b3d67_row3_col7\" class=\"data row3 col7\" >7</td>\n",
       "    </tr>\n",
       "    <tr>\n",
       "      <th id=\"T_b3d67_level0_row4\" class=\"row_heading level0 row4\" >4</th>\n",
       "      <td id=\"T_b3d67_row4_col0\" class=\"data row4 col0\" >AH</td>\n",
       "      <td id=\"T_b3d67_row4_col1\" class=\"data row4 col1\" >2025</td>\n",
       "      <td id=\"T_b3d67_row4_col2\" class=\"data row4 col2\" >Q1</td>\n",
       "      <td id=\"T_b3d67_row4_col3\" class=\"data row4 col3\" >733,651</td>\n",
       "      <td id=\"T_b3d67_row4_col4\" class=\"data row4 col4\" >746,961</td>\n",
       "      <td id=\"T_b3d67_row4_col5\" class=\"data row4 col5\" >-13,310</td>\n",
       "      <td id=\"T_b3d67_row4_col6\" class=\"data row4 col6\" >-1.78%</td>\n",
       "      <td id=\"T_b3d67_row4_col7\" class=\"data row4 col7\" >9</td>\n",
       "    </tr>\n",
       "  </tbody>\n",
       "</table>\n"
      ],
      "text/plain": [
       "<pandas.io.formats.style.Styler at 0x1646234d4c0>"
      ]
     },
     "execution_count": 12,
     "metadata": {},
     "output_type": "execute_result"
    }
   ],
   "source": [
    "df_ins = pd.merge(df_percent, tickers, on=\"name\", how=\"inner\")\n",
    "df_ins.head().style.format(format_dict)"
   ]
  },
  {
   "cell_type": "code",
   "execution_count": 13,
   "metadata": {},
   "outputs": [],
   "source": [
    "# Convert DataFrame to list of records\n",
    "rcds = df_ins.values.tolist()\n",
    "\n",
    "# Define column names in the same order as values\n",
    "columns = ['name', 'year', 'quarter', 'latest_amt', 'previous_amt', 'inc_amt', 'inc_pct', 'ticker_id']\n",
    "\n",
    "# SQL insert statement with named parameters\n",
    "sql = text(\"\"\"\n",
    "    INSERT INTO qt_profits \n",
    "    (name, year, quarter, latest_amt, previous_amt, inc_amt, inc_pct, ticker_id)\n",
    "    VALUES (:name, :year, :quarter, :latest_amt, :previous_amt, :inc_amt, :inc_pct, :ticker_id)\n",
    "\"\"\")\n",
    "\n",
    "try:\n",
    "    # Execute inserts\n",
    "    for rcd in rcds:\n",
    "        # Convert list to dictionary\n",
    "        params = dict(zip(columns, rcd))\n",
    "        conlt.execute(sql, params)\n",
    "except Exception as e:\n",
    "    raise e"
   ]
  },
  {
   "cell_type": "markdown",
   "metadata": {},
   "source": [
    "### End of loop"
   ]
  },
  {
   "cell_type": "code",
   "execution_count": 15,
   "metadata": {},
   "outputs": [
    {
     "data": {
      "text/html": [
       "<style type=\"text/css\">\n",
       "</style>\n",
       "<table id=\"T_60dee\">\n",
       "  <thead>\n",
       "    <tr>\n",
       "      <th class=\"blank level0\" >&nbsp;</th>\n",
       "      <th id=\"T_60dee_level0_col0\" class=\"col_heading level0 col0\" >name</th>\n",
       "      <th id=\"T_60dee_level0_col1\" class=\"col_heading level0 col1\" >year</th>\n",
       "      <th id=\"T_60dee_level0_col2\" class=\"col_heading level0 col2\" >quarter</th>\n",
       "      <th id=\"T_60dee_level0_col3\" class=\"col_heading level0 col3\" >q_amt_c</th>\n",
       "      <th id=\"T_60dee_level0_col4\" class=\"col_heading level0 col4\" >q_amt_p</th>\n",
       "      <th id=\"T_60dee_level0_col5\" class=\"col_heading level0 col5\" >inc_profit</th>\n",
       "      <th id=\"T_60dee_level0_col6\" class=\"col_heading level0 col6\" >percent</th>\n",
       "    </tr>\n",
       "  </thead>\n",
       "  <tbody>\n",
       "    <tr>\n",
       "      <th id=\"T_60dee_level0_row0\" class=\"row_heading level0 row0\" >0</th>\n",
       "      <td id=\"T_60dee_row0_col0\" class=\"data row0 col0\" >3BBIF</td>\n",
       "      <td id=\"T_60dee_row0_col1\" class=\"data row0 col1\" >2025</td>\n",
       "      <td id=\"T_60dee_row0_col2\" class=\"data row0 col2\" >Q1</td>\n",
       "      <td id=\"T_60dee_row0_col3\" class=\"data row0 col3\" >5,497,047</td>\n",
       "      <td id=\"T_60dee_row0_col4\" class=\"data row0 col4\" >5,279,119</td>\n",
       "      <td id=\"T_60dee_row0_col5\" class=\"data row0 col5\" >217,928</td>\n",
       "      <td id=\"T_60dee_row0_col6\" class=\"data row0 col6\" >4.13%</td>\n",
       "    </tr>\n",
       "    <tr>\n",
       "      <th id=\"T_60dee_level0_row1\" class=\"row_heading level0 row1\" >1</th>\n",
       "      <td id=\"T_60dee_row1_col0\" class=\"data row1 col0\" >ACE</td>\n",
       "      <td id=\"T_60dee_row1_col1\" class=\"data row1 col1\" >2025</td>\n",
       "      <td id=\"T_60dee_row1_col2\" class=\"data row1 col2\" >Q1</td>\n",
       "      <td id=\"T_60dee_row1_col3\" class=\"data row1 col3\" >809,620</td>\n",
       "      <td id=\"T_60dee_row1_col4\" class=\"data row1 col4\" >838,717</td>\n",
       "      <td id=\"T_60dee_row1_col5\" class=\"data row1 col5\" >-29,097</td>\n",
       "      <td id=\"T_60dee_row1_col6\" class=\"data row1 col6\" >-3.47%</td>\n",
       "    </tr>\n",
       "    <tr>\n",
       "      <th id=\"T_60dee_level0_row2\" class=\"row_heading level0 row2\" >2</th>\n",
       "      <td id=\"T_60dee_row2_col0\" class=\"data row2 col0\" >ADVANC</td>\n",
       "      <td id=\"T_60dee_row2_col1\" class=\"data row2 col1\" >2025</td>\n",
       "      <td id=\"T_60dee_row2_col2\" class=\"data row2 col2\" >Q1</td>\n",
       "      <td id=\"T_60dee_row2_col3\" class=\"data row2 col3\" >37,207,829</td>\n",
       "      <td id=\"T_60dee_row2_col4\" class=\"data row2 col4\" >35,075,357</td>\n",
       "      <td id=\"T_60dee_row2_col5\" class=\"data row2 col5\" >2,132,472</td>\n",
       "      <td id=\"T_60dee_row2_col6\" class=\"data row2 col6\" >6.08%</td>\n",
       "    </tr>\n",
       "    <tr>\n",
       "      <th id=\"T_60dee_level0_row3\" class=\"row_heading level0 row3\" >3</th>\n",
       "      <td id=\"T_60dee_row3_col0\" class=\"data row3 col0\" >AEONTS</td>\n",
       "      <td id=\"T_60dee_row3_col1\" class=\"data row3 col1\" >2025</td>\n",
       "      <td id=\"T_60dee_row3_col2\" class=\"data row3 col2\" >Q1</td>\n",
       "      <td id=\"T_60dee_row3_col3\" class=\"data row3 col3\" >3,107,917</td>\n",
       "      <td id=\"T_60dee_row3_col4\" class=\"data row3 col4\" >2,860,344</td>\n",
       "      <td id=\"T_60dee_row3_col5\" class=\"data row3 col5\" >247,573</td>\n",
       "      <td id=\"T_60dee_row3_col6\" class=\"data row3 col6\" >8.66%</td>\n",
       "    </tr>\n",
       "    <tr>\n",
       "      <th id=\"T_60dee_level0_row4\" class=\"row_heading level0 row4\" >4</th>\n",
       "      <td id=\"T_60dee_row4_col0\" class=\"data row4 col0\" >AH</td>\n",
       "      <td id=\"T_60dee_row4_col1\" class=\"data row4 col1\" >2025</td>\n",
       "      <td id=\"T_60dee_row4_col2\" class=\"data row4 col2\" >Q1</td>\n",
       "      <td id=\"T_60dee_row4_col3\" class=\"data row4 col3\" >733,651</td>\n",
       "      <td id=\"T_60dee_row4_col4\" class=\"data row4 col4\" >746,961</td>\n",
       "      <td id=\"T_60dee_row4_col5\" class=\"data row4 col5\" >-13,310</td>\n",
       "      <td id=\"T_60dee_row4_col6\" class=\"data row4 col6\" >-1.78%</td>\n",
       "    </tr>\n",
       "  </tbody>\n",
       "</table>\n"
      ],
      "text/plain": [
       "<pandas.io.formats.style.Styler at 0x164631d2b40>"
      ]
     },
     "execution_count": 15,
     "metadata": {},
     "output_type": "execute_result"
    }
   ],
   "source": [
    "criteria_1 = df_ins.q_amt_c > 440_000\n",
    "df_ins.loc[criteria_1, cols].head().style.format(format_dict)"
   ]
  },
  {
   "cell_type": "code",
   "execution_count": 16,
   "metadata": {},
   "outputs": [
    {
     "data": {
      "text/html": [
       "<style type=\"text/css\">\n",
       "</style>\n",
       "<table id=\"T_913f1\">\n",
       "  <thead>\n",
       "    <tr>\n",
       "      <th class=\"blank level0\" >&nbsp;</th>\n",
       "      <th id=\"T_913f1_level0_col0\" class=\"col_heading level0 col0\" >name</th>\n",
       "      <th id=\"T_913f1_level0_col1\" class=\"col_heading level0 col1\" >year</th>\n",
       "      <th id=\"T_913f1_level0_col2\" class=\"col_heading level0 col2\" >quarter</th>\n",
       "      <th id=\"T_913f1_level0_col3\" class=\"col_heading level0 col3\" >q_amt_c</th>\n",
       "      <th id=\"T_913f1_level0_col4\" class=\"col_heading level0 col4\" >q_amt_p</th>\n",
       "      <th id=\"T_913f1_level0_col5\" class=\"col_heading level0 col5\" >inc_profit</th>\n",
       "      <th id=\"T_913f1_level0_col6\" class=\"col_heading level0 col6\" >percent</th>\n",
       "    </tr>\n",
       "  </thead>\n",
       "  <tbody>\n",
       "    <tr>\n",
       "      <th id=\"T_913f1_level0_row0\" class=\"row_heading level0 row0\" >0</th>\n",
       "      <td id=\"T_913f1_row0_col0\" class=\"data row0 col0\" >3BBIF</td>\n",
       "      <td id=\"T_913f1_row0_col1\" class=\"data row0 col1\" >2025</td>\n",
       "      <td id=\"T_913f1_row0_col2\" class=\"data row0 col2\" >Q1</td>\n",
       "      <td id=\"T_913f1_row0_col3\" class=\"data row0 col3\" >5,497,047</td>\n",
       "      <td id=\"T_913f1_row0_col4\" class=\"data row0 col4\" >5,279,119</td>\n",
       "      <td id=\"T_913f1_row0_col5\" class=\"data row0 col5\" >217,928</td>\n",
       "      <td id=\"T_913f1_row0_col6\" class=\"data row0 col6\" >4.13%</td>\n",
       "    </tr>\n",
       "    <tr>\n",
       "      <th id=\"T_913f1_level0_row1\" class=\"row_heading level0 row1\" >1</th>\n",
       "      <td id=\"T_913f1_row1_col0\" class=\"data row1 col0\" >ACE</td>\n",
       "      <td id=\"T_913f1_row1_col1\" class=\"data row1 col1\" >2025</td>\n",
       "      <td id=\"T_913f1_row1_col2\" class=\"data row1 col2\" >Q1</td>\n",
       "      <td id=\"T_913f1_row1_col3\" class=\"data row1 col3\" >809,620</td>\n",
       "      <td id=\"T_913f1_row1_col4\" class=\"data row1 col4\" >838,717</td>\n",
       "      <td id=\"T_913f1_row1_col5\" class=\"data row1 col5\" >-29,097</td>\n",
       "      <td id=\"T_913f1_row1_col6\" class=\"data row1 col6\" >-3.47%</td>\n",
       "    </tr>\n",
       "    <tr>\n",
       "      <th id=\"T_913f1_level0_row2\" class=\"row_heading level0 row2\" >2</th>\n",
       "      <td id=\"T_913f1_row2_col0\" class=\"data row2 col0\" >ADVANC</td>\n",
       "      <td id=\"T_913f1_row2_col1\" class=\"data row2 col1\" >2025</td>\n",
       "      <td id=\"T_913f1_row2_col2\" class=\"data row2 col2\" >Q1</td>\n",
       "      <td id=\"T_913f1_row2_col3\" class=\"data row2 col3\" >37,207,829</td>\n",
       "      <td id=\"T_913f1_row2_col4\" class=\"data row2 col4\" >35,075,357</td>\n",
       "      <td id=\"T_913f1_row2_col5\" class=\"data row2 col5\" >2,132,472</td>\n",
       "      <td id=\"T_913f1_row2_col6\" class=\"data row2 col6\" >6.08%</td>\n",
       "    </tr>\n",
       "    <tr>\n",
       "      <th id=\"T_913f1_level0_row3\" class=\"row_heading level0 row3\" >3</th>\n",
       "      <td id=\"T_913f1_row3_col0\" class=\"data row3 col0\" >AEONTS</td>\n",
       "      <td id=\"T_913f1_row3_col1\" class=\"data row3 col1\" >2025</td>\n",
       "      <td id=\"T_913f1_row3_col2\" class=\"data row3 col2\" >Q1</td>\n",
       "      <td id=\"T_913f1_row3_col3\" class=\"data row3 col3\" >3,107,917</td>\n",
       "      <td id=\"T_913f1_row3_col4\" class=\"data row3 col4\" >2,860,344</td>\n",
       "      <td id=\"T_913f1_row3_col5\" class=\"data row3 col5\" >247,573</td>\n",
       "      <td id=\"T_913f1_row3_col6\" class=\"data row3 col6\" >8.66%</td>\n",
       "    </tr>\n",
       "    <tr>\n",
       "      <th id=\"T_913f1_level0_row4\" class=\"row_heading level0 row4\" >4</th>\n",
       "      <td id=\"T_913f1_row4_col0\" class=\"data row4 col0\" >AH</td>\n",
       "      <td id=\"T_913f1_row4_col1\" class=\"data row4 col1\" >2025</td>\n",
       "      <td id=\"T_913f1_row4_col2\" class=\"data row4 col2\" >Q1</td>\n",
       "      <td id=\"T_913f1_row4_col3\" class=\"data row4 col3\" >733,651</td>\n",
       "      <td id=\"T_913f1_row4_col4\" class=\"data row4 col4\" >746,961</td>\n",
       "      <td id=\"T_913f1_row4_col5\" class=\"data row4 col5\" >-13,310</td>\n",
       "      <td id=\"T_913f1_row4_col6\" class=\"data row4 col6\" >-1.78%</td>\n",
       "    </tr>\n",
       "  </tbody>\n",
       "</table>\n"
      ],
      "text/plain": [
       "<pandas.io.formats.style.Styler at 0x16462305b20>"
      ]
     },
     "execution_count": 16,
     "metadata": {},
     "output_type": "execute_result"
    }
   ],
   "source": [
    "criteria_2 = df_ins.q_amt_p > 400_000\n",
    "df_ins.loc[criteria_2, cols].head().style.format(format_dict)"
   ]
  },
  {
   "cell_type": "code",
   "execution_count": 17,
   "metadata": {},
   "outputs": [
    {
     "data": {
      "text/html": [
       "<style type=\"text/css\">\n",
       "</style>\n",
       "<table id=\"T_22c9c\">\n",
       "  <thead>\n",
       "    <tr>\n",
       "      <th class=\"blank level0\" >&nbsp;</th>\n",
       "      <th id=\"T_22c9c_level0_col0\" class=\"col_heading level0 col0\" >name</th>\n",
       "      <th id=\"T_22c9c_level0_col1\" class=\"col_heading level0 col1\" >year</th>\n",
       "      <th id=\"T_22c9c_level0_col2\" class=\"col_heading level0 col2\" >quarter</th>\n",
       "      <th id=\"T_22c9c_level0_col3\" class=\"col_heading level0 col3\" >q_amt_c</th>\n",
       "      <th id=\"T_22c9c_level0_col4\" class=\"col_heading level0 col4\" >q_amt_p</th>\n",
       "      <th id=\"T_22c9c_level0_col5\" class=\"col_heading level0 col5\" >inc_profit</th>\n",
       "      <th id=\"T_22c9c_level0_col6\" class=\"col_heading level0 col6\" >percent</th>\n",
       "    </tr>\n",
       "  </thead>\n",
       "  <tbody>\n",
       "    <tr>\n",
       "      <th id=\"T_22c9c_level0_row0\" class=\"row_heading level0 row0\" >9</th>\n",
       "      <td id=\"T_22c9c_row0_col0\" class=\"data row0 col0\" >AMATA</td>\n",
       "      <td id=\"T_22c9c_row0_col1\" class=\"data row0 col1\" >2025</td>\n",
       "      <td id=\"T_22c9c_row0_col2\" class=\"data row0 col2\" >Q1</td>\n",
       "      <td id=\"T_22c9c_row0_col3\" class=\"data row0 col3\" >2,848,499</td>\n",
       "      <td id=\"T_22c9c_row0_col4\" class=\"data row0 col4\" >2,482,899</td>\n",
       "      <td id=\"T_22c9c_row0_col5\" class=\"data row0 col5\" >365,600</td>\n",
       "      <td id=\"T_22c9c_row0_col6\" class=\"data row0 col6\" >14.72%</td>\n",
       "    </tr>\n",
       "    <tr>\n",
       "      <th id=\"T_22c9c_level0_row1\" class=\"row_heading level0 row1\" >30</th>\n",
       "      <td id=\"T_22c9c_row1_col0\" class=\"data row1 col0\" >BEC</td>\n",
       "      <td id=\"T_22c9c_row1_col1\" class=\"data row1 col1\" >2025</td>\n",
       "      <td id=\"T_22c9c_row1_col2\" class=\"data row1 col2\" >Q1</td>\n",
       "      <td id=\"T_22c9c_row1_col3\" class=\"data row1 col3\" >125,179</td>\n",
       "      <td id=\"T_22c9c_row1_col4\" class=\"data row1 col4\" >96,284</td>\n",
       "      <td id=\"T_22c9c_row1_col5\" class=\"data row1 col5\" >28,895</td>\n",
       "      <td id=\"T_22c9c_row1_col6\" class=\"data row1 col6\" >30.01%</td>\n",
       "    </tr>\n",
       "    <tr>\n",
       "      <th id=\"T_22c9c_level0_row2\" class=\"row_heading level0 row2\" >33</th>\n",
       "      <td id=\"T_22c9c_row2_col0\" class=\"data row2 col0\" >BGRIM</td>\n",
       "      <td id=\"T_22c9c_row2_col1\" class=\"data row2 col1\" >2025</td>\n",
       "      <td id=\"T_22c9c_row2_col2\" class=\"data row2 col2\" >Q1</td>\n",
       "      <td id=\"T_22c9c_row2_col3\" class=\"data row2 col3\" >1,832,154</td>\n",
       "      <td id=\"T_22c9c_row2_col4\" class=\"data row2 col4\" >1,556,871</td>\n",
       "      <td id=\"T_22c9c_row2_col5\" class=\"data row2 col5\" >275,283</td>\n",
       "      <td id=\"T_22c9c_row2_col6\" class=\"data row2 col6\" >17.68%</td>\n",
       "    </tr>\n",
       "    <tr>\n",
       "      <th id=\"T_22c9c_level0_row3\" class=\"row_heading level0 row3\" >35</th>\n",
       "      <td id=\"T_22c9c_row3_col0\" class=\"data row3 col0\" >BJC</td>\n",
       "      <td id=\"T_22c9c_row3_col1\" class=\"data row3 col1\" >2025</td>\n",
       "      <td id=\"T_22c9c_row3_col2\" class=\"data row3 col2\" >Q1</td>\n",
       "      <td id=\"T_22c9c_row3_col3\" class=\"data row3 col3\" >4,664,809</td>\n",
       "      <td id=\"T_22c9c_row3_col4\" class=\"data row3 col4\" >4,001,403</td>\n",
       "      <td id=\"T_22c9c_row3_col5\" class=\"data row3 col5\" >663,406</td>\n",
       "      <td id=\"T_22c9c_row3_col6\" class=\"data row3 col6\" >16.58%</td>\n",
       "    </tr>\n",
       "    <tr>\n",
       "      <th id=\"T_22c9c_level0_row4\" class=\"row_heading level0 row4\" >45</th>\n",
       "      <td id=\"T_22c9c_row4_col0\" class=\"data row4 col0\" >CK</td>\n",
       "      <td id=\"T_22c9c_row4_col1\" class=\"data row4 col1\" >2025</td>\n",
       "      <td id=\"T_22c9c_row4_col2\" class=\"data row4 col2\" >Q1</td>\n",
       "      <td id=\"T_22c9c_row4_col3\" class=\"data row4 col3\" >1,607,142</td>\n",
       "      <td id=\"T_22c9c_row4_col4\" class=\"data row4 col4\" >1,445,903</td>\n",
       "      <td id=\"T_22c9c_row4_col5\" class=\"data row4 col5\" >161,239</td>\n",
       "      <td id=\"T_22c9c_row4_col6\" class=\"data row4 col6\" >11.15%</td>\n",
       "    </tr>\n",
       "  </tbody>\n",
       "</table>\n"
      ],
      "text/plain": [
       "<pandas.io.formats.style.Styler at 0x16463263560>"
      ]
     },
     "execution_count": 17,
     "metadata": {},
     "output_type": "execute_result"
    }
   ],
   "source": [
    "criteria_3 = df_ins.percent > 10.00\n",
    "df_ins.loc[criteria_3, cols].head().style.format(format_dict)"
   ]
  },
  {
   "cell_type": "code",
   "execution_count": 18,
   "metadata": {},
   "outputs": [
    {
     "data": {
      "text/html": [
       "<style type=\"text/css\">\n",
       "</style>\n",
       "<table id=\"T_e8f2f\">\n",
       "  <thead>\n",
       "    <tr>\n",
       "      <th class=\"blank level0\" >&nbsp;</th>\n",
       "      <th id=\"T_e8f2f_level0_col0\" class=\"col_heading level0 col0\" >name</th>\n",
       "      <th id=\"T_e8f2f_level0_col1\" class=\"col_heading level0 col1\" >year</th>\n",
       "      <th id=\"T_e8f2f_level0_col2\" class=\"col_heading level0 col2\" >quarter</th>\n",
       "      <th id=\"T_e8f2f_level0_col3\" class=\"col_heading level0 col3\" >q_amt_c</th>\n",
       "      <th id=\"T_e8f2f_level0_col4\" class=\"col_heading level0 col4\" >q_amt_p</th>\n",
       "      <th id=\"T_e8f2f_level0_col5\" class=\"col_heading level0 col5\" >inc_profit</th>\n",
       "      <th id=\"T_e8f2f_level0_col6\" class=\"col_heading level0 col6\" >percent</th>\n",
       "    </tr>\n",
       "  </thead>\n",
       "  <tbody>\n",
       "    <tr>\n",
       "      <th id=\"T_e8f2f_level0_row0\" class=\"row_heading level0 row0\" >9</th>\n",
       "      <td id=\"T_e8f2f_row0_col0\" class=\"data row0 col0\" >AMATA</td>\n",
       "      <td id=\"T_e8f2f_row0_col1\" class=\"data row0 col1\" >2025</td>\n",
       "      <td id=\"T_e8f2f_row0_col2\" class=\"data row0 col2\" >Q1</td>\n",
       "      <td id=\"T_e8f2f_row0_col3\" class=\"data row0 col3\" >2,848,499</td>\n",
       "      <td id=\"T_e8f2f_row0_col4\" class=\"data row0 col4\" >2,482,899</td>\n",
       "      <td id=\"T_e8f2f_row0_col5\" class=\"data row0 col5\" >365,600</td>\n",
       "      <td id=\"T_e8f2f_row0_col6\" class=\"data row0 col6\" >14.72%</td>\n",
       "    </tr>\n",
       "    <tr>\n",
       "      <th id=\"T_e8f2f_level0_row1\" class=\"row_heading level0 row1\" >33</th>\n",
       "      <td id=\"T_e8f2f_row1_col0\" class=\"data row1 col0\" >BGRIM</td>\n",
       "      <td id=\"T_e8f2f_row1_col1\" class=\"data row1 col1\" >2025</td>\n",
       "      <td id=\"T_e8f2f_row1_col2\" class=\"data row1 col2\" >Q1</td>\n",
       "      <td id=\"T_e8f2f_row1_col3\" class=\"data row1 col3\" >1,832,154</td>\n",
       "      <td id=\"T_e8f2f_row1_col4\" class=\"data row1 col4\" >1,556,871</td>\n",
       "      <td id=\"T_e8f2f_row1_col5\" class=\"data row1 col5\" >275,283</td>\n",
       "      <td id=\"T_e8f2f_row1_col6\" class=\"data row1 col6\" >17.68%</td>\n",
       "    </tr>\n",
       "    <tr>\n",
       "      <th id=\"T_e8f2f_level0_row2\" class=\"row_heading level0 row2\" >35</th>\n",
       "      <td id=\"T_e8f2f_row2_col0\" class=\"data row2 col0\" >BJC</td>\n",
       "      <td id=\"T_e8f2f_row2_col1\" class=\"data row2 col1\" >2025</td>\n",
       "      <td id=\"T_e8f2f_row2_col2\" class=\"data row2 col2\" >Q1</td>\n",
       "      <td id=\"T_e8f2f_row2_col3\" class=\"data row2 col3\" >4,664,809</td>\n",
       "      <td id=\"T_e8f2f_row2_col4\" class=\"data row2 col4\" >4,001,403</td>\n",
       "      <td id=\"T_e8f2f_row2_col5\" class=\"data row2 col5\" >663,406</td>\n",
       "      <td id=\"T_e8f2f_row2_col6\" class=\"data row2 col6\" >16.58%</td>\n",
       "    </tr>\n",
       "    <tr>\n",
       "      <th id=\"T_e8f2f_level0_row3\" class=\"row_heading level0 row3\" >45</th>\n",
       "      <td id=\"T_e8f2f_row3_col0\" class=\"data row3 col0\" >CK</td>\n",
       "      <td id=\"T_e8f2f_row3_col1\" class=\"data row3 col1\" >2025</td>\n",
       "      <td id=\"T_e8f2f_row3_col2\" class=\"data row3 col2\" >Q1</td>\n",
       "      <td id=\"T_e8f2f_row3_col3\" class=\"data row3 col3\" >1,607,142</td>\n",
       "      <td id=\"T_e8f2f_row3_col4\" class=\"data row3 col4\" >1,445,903</td>\n",
       "      <td id=\"T_e8f2f_row3_col5\" class=\"data row3 col5\" >161,239</td>\n",
       "      <td id=\"T_e8f2f_row3_col6\" class=\"data row3 col6\" >11.15%</td>\n",
       "    </tr>\n",
       "    <tr>\n",
       "      <th id=\"T_e8f2f_level0_row4\" class=\"row_heading level0 row4\" >46</th>\n",
       "      <td id=\"T_e8f2f_row4_col0\" class=\"data row4 col0\" >CKP</td>\n",
       "      <td id=\"T_e8f2f_row4_col1\" class=\"data row4 col1\" >2025</td>\n",
       "      <td id=\"T_e8f2f_row4_col2\" class=\"data row4 col2\" >Q1</td>\n",
       "      <td id=\"T_e8f2f_row4_col3\" class=\"data row4 col3\" >1,875,975</td>\n",
       "      <td id=\"T_e8f2f_row4_col4\" class=\"data row4 col4\" >1,344,536</td>\n",
       "      <td id=\"T_e8f2f_row4_col5\" class=\"data row4 col5\" >531,439</td>\n",
       "      <td id=\"T_e8f2f_row4_col6\" class=\"data row4 col6\" >39.53%</td>\n",
       "    </tr>\n",
       "  </tbody>\n",
       "</table>\n"
      ],
      "text/plain": [
       "<pandas.io.formats.style.Styler at 0x1645f688f50>"
      ]
     },
     "execution_count": 18,
     "metadata": {},
     "output_type": "execute_result"
    }
   ],
   "source": [
    "df_ins_criteria = criteria_1 & criteria_2 & criteria_3\n",
    "df_ins.loc[df_ins_criteria, cols].head().style.format(format_dict)"
   ]
  },
  {
   "cell_type": "code",
   "execution_count": 19,
   "metadata": {},
   "outputs": [
    {
     "data": {
      "text/html": [
       "<style type=\"text/css\">\n",
       "</style>\n",
       "<table id=\"T_cd4a8\">\n",
       "  <thead>\n",
       "    <tr>\n",
       "      <th class=\"blank level0\" >&nbsp;</th>\n",
       "      <th id=\"T_cd4a8_level0_col0\" class=\"col_heading level0 col0\" >name</th>\n",
       "      <th id=\"T_cd4a8_level0_col1\" class=\"col_heading level0 col1\" >year</th>\n",
       "      <th id=\"T_cd4a8_level0_col2\" class=\"col_heading level0 col2\" >quarter</th>\n",
       "      <th id=\"T_cd4a8_level0_col3\" class=\"col_heading level0 col3\" >q_amt_c</th>\n",
       "      <th id=\"T_cd4a8_level0_col4\" class=\"col_heading level0 col4\" >q_amt_p</th>\n",
       "      <th id=\"T_cd4a8_level0_col5\" class=\"col_heading level0 col5\" >inc_profit</th>\n",
       "      <th id=\"T_cd4a8_level0_col6\" class=\"col_heading level0 col6\" >percent</th>\n",
       "      <th id=\"T_cd4a8_level0_col7\" class=\"col_heading level0 col7\" >id</th>\n",
       "    </tr>\n",
       "  </thead>\n",
       "  <tbody>\n",
       "    <tr>\n",
       "      <th id=\"T_cd4a8_level0_row0\" class=\"row_heading level0 row0\" >75</th>\n",
       "      <td id=\"T_cd4a8_row0_col0\" class=\"data row0 col0\" >GULF</td>\n",
       "      <td id=\"T_cd4a8_row0_col1\" class=\"data row0 col1\" >2025</td>\n",
       "      <td id=\"T_cd4a8_row0_col2\" class=\"data row0 col2\" >Q1</td>\n",
       "      <td id=\"T_cd4a8_row0_col3\" class=\"data row0 col3\" >36,054,658</td>\n",
       "      <td id=\"T_cd4a8_row0_col4\" class=\"data row0 col4\" >18,170,334</td>\n",
       "      <td id=\"T_cd4a8_row0_col5\" class=\"data row0 col5\" >17,884,324</td>\n",
       "      <td id=\"T_cd4a8_row0_col6\" class=\"data row0 col6\" >98.43%</td>\n",
       "      <td id=\"T_cd4a8_row0_col7\" class=\"data row0 col7\" >653</td>\n",
       "    </tr>\n",
       "    <tr>\n",
       "      <th id=\"T_cd4a8_level0_row1\" class=\"row_heading level0 row1\" >171</th>\n",
       "      <td id=\"T_cd4a8_row1_col0\" class=\"data row1 col0\" >STA</td>\n",
       "      <td id=\"T_cd4a8_row1_col1\" class=\"data row1 col1\" >2025</td>\n",
       "      <td id=\"T_cd4a8_row1_col2\" class=\"data row1 col2\" >Q1</td>\n",
       "      <td id=\"T_cd4a8_row1_col3\" class=\"data row1 col3\" >2,688,767</td>\n",
       "      <td id=\"T_cd4a8_row1_col4\" class=\"data row1 col4\" >1,670,375</td>\n",
       "      <td id=\"T_cd4a8_row1_col5\" class=\"data row1 col5\" >1,018,392</td>\n",
       "      <td id=\"T_cd4a8_row1_col6\" class=\"data row1 col6\" >60.97%</td>\n",
       "      <td id=\"T_cd4a8_row1_col7\" class=\"data row1 col7\" >481</td>\n",
       "    </tr>\n",
       "    <tr>\n",
       "      <th id=\"T_cd4a8_level0_row2\" class=\"row_heading level0 row2\" >181</th>\n",
       "      <td id=\"T_cd4a8_row2_col0\" class=\"data row2 col0\" >TFG</td>\n",
       "      <td id=\"T_cd4a8_row2_col1\" class=\"data row2 col1\" >2025</td>\n",
       "      <td id=\"T_cd4a8_row2_col2\" class=\"data row2 col2\" >Q1</td>\n",
       "      <td id=\"T_cd4a8_row2_col3\" class=\"data row2 col3\" >5,029,477</td>\n",
       "      <td id=\"T_cd4a8_row2_col4\" class=\"data row2 col4\" >3,166,564</td>\n",
       "      <td id=\"T_cd4a8_row2_col5\" class=\"data row2 col5\" >1,862,913</td>\n",
       "      <td id=\"T_cd4a8_row2_col6\" class=\"data row2 col6\" >58.83%</td>\n",
       "      <td id=\"T_cd4a8_row2_col7\" class=\"data row2 col7\" >513</td>\n",
       "    </tr>\n",
       "    <tr>\n",
       "      <th id=\"T_cd4a8_level0_row3\" class=\"row_heading level0 row3\" >63</th>\n",
       "      <td id=\"T_cd4a8_row3_col0\" class=\"data row3 col0\" >EGATIF</td>\n",
       "      <td id=\"T_cd4a8_row3_col1\" class=\"data row3 col1\" >2025</td>\n",
       "      <td id=\"T_cd4a8_row3_col2\" class=\"data row3 col2\" >Q1</td>\n",
       "      <td id=\"T_cd4a8_row3_col3\" class=\"data row3 col3\" >1,121,526</td>\n",
       "      <td id=\"T_cd4a8_row3_col4\" class=\"data row3 col4\" >729,221</td>\n",
       "      <td id=\"T_cd4a8_row3_col5\" class=\"data row3 col5\" >392,305</td>\n",
       "      <td id=\"T_cd4a8_row3_col6\" class=\"data row3 col6\" >53.80%</td>\n",
       "      <td id=\"T_cd4a8_row3_col7\" class=\"data row3 col7\" >156</td>\n",
       "    </tr>\n",
       "    <tr>\n",
       "      <th id=\"T_cd4a8_level0_row4\" class=\"row_heading level0 row4\" >46</th>\n",
       "      <td id=\"T_cd4a8_row4_col0\" class=\"data row4 col0\" >CKP</td>\n",
       "      <td id=\"T_cd4a8_row4_col1\" class=\"data row4 col1\" >2025</td>\n",
       "      <td id=\"T_cd4a8_row4_col2\" class=\"data row4 col2\" >Q1</td>\n",
       "      <td id=\"T_cd4a8_row4_col3\" class=\"data row4 col3\" >1,875,975</td>\n",
       "      <td id=\"T_cd4a8_row4_col4\" class=\"data row4 col4\" >1,344,536</td>\n",
       "      <td id=\"T_cd4a8_row4_col5\" class=\"data row4 col5\" >531,439</td>\n",
       "      <td id=\"T_cd4a8_row4_col6\" class=\"data row4 col6\" >39.53%</td>\n",
       "      <td id=\"T_cd4a8_row4_col7\" class=\"data row4 col7\" >107</td>\n",
       "    </tr>\n",
       "  </tbody>\n",
       "</table>\n"
      ],
      "text/plain": [
       "<pandas.io.formats.style.Styler at 0x16463261af0>"
      ]
     },
     "execution_count": 19,
     "metadata": {},
     "output_type": "execute_result"
    }
   ],
   "source": [
    "df_ins[df_ins_criteria].sort_values(by=[\"percent\"], ascending=[False]).head().style.format(format_dict)"
   ]
  },
  {
   "cell_type": "code",
   "execution_count": 20,
   "metadata": {},
   "outputs": [
    {
     "data": {
      "text/html": [
       "<style type=\"text/css\">\n",
       "</style>\n",
       "<table id=\"T_6ee05\">\n",
       "  <thead>\n",
       "    <tr>\n",
       "      <th class=\"blank level0\" >&nbsp;</th>\n",
       "      <th id=\"T_6ee05_level0_col0\" class=\"col_heading level0 col0\" >name</th>\n",
       "      <th id=\"T_6ee05_level0_col1\" class=\"col_heading level0 col1\" >year</th>\n",
       "      <th id=\"T_6ee05_level0_col2\" class=\"col_heading level0 col2\" >quarter</th>\n",
       "      <th id=\"T_6ee05_level0_col3\" class=\"col_heading level0 col3\" >q_amt_c</th>\n",
       "      <th id=\"T_6ee05_level0_col4\" class=\"col_heading level0 col4\" >q_amt_p</th>\n",
       "      <th id=\"T_6ee05_level0_col5\" class=\"col_heading level0 col5\" >inc_profit</th>\n",
       "      <th id=\"T_6ee05_level0_col6\" class=\"col_heading level0 col6\" >percent</th>\n",
       "      <th id=\"T_6ee05_level0_col7\" class=\"col_heading level0 col7\" >id</th>\n",
       "    </tr>\n",
       "  </thead>\n",
       "  <tbody>\n",
       "    <tr>\n",
       "      <th id=\"T_6ee05_level0_row0\" class=\"row_heading level0 row0\" >9</th>\n",
       "      <td id=\"T_6ee05_row0_col0\" class=\"data row0 col0\" >AMATA</td>\n",
       "      <td id=\"T_6ee05_row0_col1\" class=\"data row0 col1\" >2025</td>\n",
       "      <td id=\"T_6ee05_row0_col2\" class=\"data row0 col2\" >Q1</td>\n",
       "      <td id=\"T_6ee05_row0_col3\" class=\"data row0 col3\" >2,848,499</td>\n",
       "      <td id=\"T_6ee05_row0_col4\" class=\"data row0 col4\" >2,482,899</td>\n",
       "      <td id=\"T_6ee05_row0_col5\" class=\"data row0 col5\" >365,600</td>\n",
       "      <td id=\"T_6ee05_row0_col6\" class=\"data row0 col6\" >14.72%</td>\n",
       "      <td id=\"T_6ee05_row0_col7\" class=\"data row0 col7\" >21</td>\n",
       "    </tr>\n",
       "    <tr>\n",
       "      <th id=\"T_6ee05_level0_row1\" class=\"row_heading level0 row1\" >33</th>\n",
       "      <td id=\"T_6ee05_row1_col0\" class=\"data row1 col0\" >BGRIM</td>\n",
       "      <td id=\"T_6ee05_row1_col1\" class=\"data row1 col1\" >2025</td>\n",
       "      <td id=\"T_6ee05_row1_col2\" class=\"data row1 col2\" >Q1</td>\n",
       "      <td id=\"T_6ee05_row1_col3\" class=\"data row1 col3\" >1,832,154</td>\n",
       "      <td id=\"T_6ee05_row1_col4\" class=\"data row1 col4\" >1,556,871</td>\n",
       "      <td id=\"T_6ee05_row1_col5\" class=\"data row1 col5\" >275,283</td>\n",
       "      <td id=\"T_6ee05_row1_col6\" class=\"data row1 col6\" >17.68%</td>\n",
       "      <td id=\"T_6ee05_row1_col7\" class=\"data row1 col7\" >59</td>\n",
       "    </tr>\n",
       "    <tr>\n",
       "      <th id=\"T_6ee05_level0_row2\" class=\"row_heading level0 row2\" >35</th>\n",
       "      <td id=\"T_6ee05_row2_col0\" class=\"data row2 col0\" >BJC</td>\n",
       "      <td id=\"T_6ee05_row2_col1\" class=\"data row2 col1\" >2025</td>\n",
       "      <td id=\"T_6ee05_row2_col2\" class=\"data row2 col2\" >Q1</td>\n",
       "      <td id=\"T_6ee05_row2_col3\" class=\"data row2 col3\" >4,664,809</td>\n",
       "      <td id=\"T_6ee05_row2_col4\" class=\"data row2 col4\" >4,001,403</td>\n",
       "      <td id=\"T_6ee05_row2_col5\" class=\"data row2 col5\" >663,406</td>\n",
       "      <td id=\"T_6ee05_row2_col6\" class=\"data row2 col6\" >16.58%</td>\n",
       "      <td id=\"T_6ee05_row2_col7\" class=\"data row2 col7\" >65</td>\n",
       "    </tr>\n",
       "    <tr>\n",
       "      <th id=\"T_6ee05_level0_row3\" class=\"row_heading level0 row3\" >45</th>\n",
       "      <td id=\"T_6ee05_row3_col0\" class=\"data row3 col0\" >CK</td>\n",
       "      <td id=\"T_6ee05_row3_col1\" class=\"data row3 col1\" >2025</td>\n",
       "      <td id=\"T_6ee05_row3_col2\" class=\"data row3 col2\" >Q1</td>\n",
       "      <td id=\"T_6ee05_row3_col3\" class=\"data row3 col3\" >1,607,142</td>\n",
       "      <td id=\"T_6ee05_row3_col4\" class=\"data row3 col4\" >1,445,903</td>\n",
       "      <td id=\"T_6ee05_row3_col5\" class=\"data row3 col5\" >161,239</td>\n",
       "      <td id=\"T_6ee05_row3_col6\" class=\"data row3 col6\" >11.15%</td>\n",
       "      <td id=\"T_6ee05_row3_col7\" class=\"data row3 col7\" >106</td>\n",
       "    </tr>\n",
       "    <tr>\n",
       "      <th id=\"T_6ee05_level0_row4\" class=\"row_heading level0 row4\" >46</th>\n",
       "      <td id=\"T_6ee05_row4_col0\" class=\"data row4 col0\" >CKP</td>\n",
       "      <td id=\"T_6ee05_row4_col1\" class=\"data row4 col1\" >2025</td>\n",
       "      <td id=\"T_6ee05_row4_col2\" class=\"data row4 col2\" >Q1</td>\n",
       "      <td id=\"T_6ee05_row4_col3\" class=\"data row4 col3\" >1,875,975</td>\n",
       "      <td id=\"T_6ee05_row4_col4\" class=\"data row4 col4\" >1,344,536</td>\n",
       "      <td id=\"T_6ee05_row4_col5\" class=\"data row4 col5\" >531,439</td>\n",
       "      <td id=\"T_6ee05_row4_col6\" class=\"data row4 col6\" >39.53%</td>\n",
       "      <td id=\"T_6ee05_row4_col7\" class=\"data row4 col7\" >107</td>\n",
       "    </tr>\n",
       "  </tbody>\n",
       "</table>\n"
      ],
      "text/plain": [
       "<pandas.io.formats.style.Styler at 0x16460b7bdd0>"
      ]
     },
     "execution_count": 20,
     "metadata": {},
     "output_type": "execute_result"
    }
   ],
   "source": [
    "df_ins[df_ins_criteria].sort_values(by=[\"name\"], ascending=[True]).head().style.format(format_dict)"
   ]
  },
  {
   "cell_type": "code",
   "execution_count": 21,
   "metadata": {},
   "outputs": [
    {
     "data": {
      "text/html": [
       "<style type=\"text/css\">\n",
       "</style>\n",
       "<table id=\"T_6ab93\">\n",
       "  <thead>\n",
       "    <tr>\n",
       "      <th class=\"blank level0\" >&nbsp;</th>\n",
       "      <th id=\"T_6ab93_level0_col0\" class=\"col_heading level0 col0\" >name</th>\n",
       "      <th id=\"T_6ab93_level0_col1\" class=\"col_heading level0 col1\" >year</th>\n",
       "      <th id=\"T_6ab93_level0_col2\" class=\"col_heading level0 col2\" >quarter</th>\n",
       "      <th id=\"T_6ab93_level0_col3\" class=\"col_heading level0 col3\" >q_amt_c</th>\n",
       "      <th id=\"T_6ab93_level0_col4\" class=\"col_heading level0 col4\" >q_amt_p</th>\n",
       "      <th id=\"T_6ab93_level0_col5\" class=\"col_heading level0 col5\" >inc_profit</th>\n",
       "      <th id=\"T_6ab93_level0_col6\" class=\"col_heading level0 col6\" >percent</th>\n",
       "      <th id=\"T_6ab93_level0_col7\" class=\"col_heading level0 col7\" >id</th>\n",
       "    </tr>\n",
       "  </thead>\n",
       "  <tbody>\n",
       "    <tr>\n",
       "      <th id=\"T_6ab93_level0_row0\" class=\"row_heading level0 row0\" >9</th>\n",
       "      <td id=\"T_6ab93_row0_col0\" class=\"data row0 col0\" >AMATA</td>\n",
       "      <td id=\"T_6ab93_row0_col1\" class=\"data row0 col1\" >2025</td>\n",
       "      <td id=\"T_6ab93_row0_col2\" class=\"data row0 col2\" >Q1</td>\n",
       "      <td id=\"T_6ab93_row0_col3\" class=\"data row0 col3\" >2,848,499</td>\n",
       "      <td id=\"T_6ab93_row0_col4\" class=\"data row0 col4\" >2,482,899</td>\n",
       "      <td id=\"T_6ab93_row0_col5\" class=\"data row0 col5\" >365,600</td>\n",
       "      <td id=\"T_6ab93_row0_col6\" class=\"data row0 col6\" >14.72%</td>\n",
       "      <td id=\"T_6ab93_row0_col7\" class=\"data row0 col7\" >21</td>\n",
       "    </tr>\n",
       "    <tr>\n",
       "      <th id=\"T_6ab93_level0_row1\" class=\"row_heading level0 row1\" >33</th>\n",
       "      <td id=\"T_6ab93_row1_col0\" class=\"data row1 col0\" >BGRIM</td>\n",
       "      <td id=\"T_6ab93_row1_col1\" class=\"data row1 col1\" >2025</td>\n",
       "      <td id=\"T_6ab93_row1_col2\" class=\"data row1 col2\" >Q1</td>\n",
       "      <td id=\"T_6ab93_row1_col3\" class=\"data row1 col3\" >1,832,154</td>\n",
       "      <td id=\"T_6ab93_row1_col4\" class=\"data row1 col4\" >1,556,871</td>\n",
       "      <td id=\"T_6ab93_row1_col5\" class=\"data row1 col5\" >275,283</td>\n",
       "      <td id=\"T_6ab93_row1_col6\" class=\"data row1 col6\" >17.68%</td>\n",
       "      <td id=\"T_6ab93_row1_col7\" class=\"data row1 col7\" >59</td>\n",
       "    </tr>\n",
       "    <tr>\n",
       "      <th id=\"T_6ab93_level0_row2\" class=\"row_heading level0 row2\" >35</th>\n",
       "      <td id=\"T_6ab93_row2_col0\" class=\"data row2 col0\" >BJC</td>\n",
       "      <td id=\"T_6ab93_row2_col1\" class=\"data row2 col1\" >2025</td>\n",
       "      <td id=\"T_6ab93_row2_col2\" class=\"data row2 col2\" >Q1</td>\n",
       "      <td id=\"T_6ab93_row2_col3\" class=\"data row2 col3\" >4,664,809</td>\n",
       "      <td id=\"T_6ab93_row2_col4\" class=\"data row2 col4\" >4,001,403</td>\n",
       "      <td id=\"T_6ab93_row2_col5\" class=\"data row2 col5\" >663,406</td>\n",
       "      <td id=\"T_6ab93_row2_col6\" class=\"data row2 col6\" >16.58%</td>\n",
       "      <td id=\"T_6ab93_row2_col7\" class=\"data row2 col7\" >65</td>\n",
       "    </tr>\n",
       "    <tr>\n",
       "      <th id=\"T_6ab93_level0_row3\" class=\"row_heading level0 row3\" >45</th>\n",
       "      <td id=\"T_6ab93_row3_col0\" class=\"data row3 col0\" >CK</td>\n",
       "      <td id=\"T_6ab93_row3_col1\" class=\"data row3 col1\" >2025</td>\n",
       "      <td id=\"T_6ab93_row3_col2\" class=\"data row3 col2\" >Q1</td>\n",
       "      <td id=\"T_6ab93_row3_col3\" class=\"data row3 col3\" >1,607,142</td>\n",
       "      <td id=\"T_6ab93_row3_col4\" class=\"data row3 col4\" >1,445,903</td>\n",
       "      <td id=\"T_6ab93_row3_col5\" class=\"data row3 col5\" >161,239</td>\n",
       "      <td id=\"T_6ab93_row3_col6\" class=\"data row3 col6\" >11.15%</td>\n",
       "      <td id=\"T_6ab93_row3_col7\" class=\"data row3 col7\" >106</td>\n",
       "    </tr>\n",
       "    <tr>\n",
       "      <th id=\"T_6ab93_level0_row4\" class=\"row_heading level0 row4\" >46</th>\n",
       "      <td id=\"T_6ab93_row4_col0\" class=\"data row4 col0\" >CKP</td>\n",
       "      <td id=\"T_6ab93_row4_col1\" class=\"data row4 col1\" >2025</td>\n",
       "      <td id=\"T_6ab93_row4_col2\" class=\"data row4 col2\" >Q1</td>\n",
       "      <td id=\"T_6ab93_row4_col3\" class=\"data row4 col3\" >1,875,975</td>\n",
       "      <td id=\"T_6ab93_row4_col4\" class=\"data row4 col4\" >1,344,536</td>\n",
       "      <td id=\"T_6ab93_row4_col5\" class=\"data row4 col5\" >531,439</td>\n",
       "      <td id=\"T_6ab93_row4_col6\" class=\"data row4 col6\" >39.53%</td>\n",
       "      <td id=\"T_6ab93_row4_col7\" class=\"data row4 col7\" >107</td>\n",
       "    </tr>\n",
       "  </tbody>\n",
       "</table>\n"
      ],
      "text/plain": [
       "<pandas.io.formats.style.Styler at 0x16463262360>"
      ]
     },
     "execution_count": 21,
     "metadata": {},
     "output_type": "execute_result"
    }
   ],
   "source": [
    "df_ins[df_ins_criteria].sort_values(by=[\"name\"], ascending=[True]).head().style.format(format_dict)"
   ]
  },
  {
   "cell_type": "code",
   "execution_count": 22,
   "metadata": {},
   "outputs": [],
   "source": [
    "conlt.commit()\n",
    "conlt.close()"
   ]
  },
  {
   "cell_type": "code",
   "execution_count": 23,
   "metadata": {},
   "outputs": [
    {
     "name": "stdout",
     "output_type": "stream",
     "text": [
      "2025:08:15 20:27:29\n"
     ]
    }
   ],
   "source": [
    "current_time = datetime.now()\n",
    "formatted_time = current_time.strftime(\"%Y:%m:%d %H:%M:%S\")\n",
    "print(formatted_time)"
   ]
  }
 ],
 "metadata": {
  "anaconda-cloud": {},
  "kernelspec": {
   "display_name": "Python 3 (ipykernel)",
   "language": "python",
   "name": "python3"
  },
  "language_info": {
   "codemirror_mode": {
    "name": "ipython",
    "version": 3
   },
   "file_extension": ".py",
   "mimetype": "text/x-python",
   "name": "python",
   "nbconvert_exporter": "python",
   "pygments_lexer": "ipython3",
   "version": "3.12.3"
  }
 },
 "nbformat": 4,
 "nbformat_minor": 4
}
