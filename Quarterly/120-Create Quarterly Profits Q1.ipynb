{
 "cells": [
  {
   "cell_type": "markdown",
   "metadata": {},
   "source": [
    "### Restart and Run All Cells"
   ]
  },
  {
   "cell_type": "code",
   "execution_count": 2,
   "metadata": {},
   "outputs": [
    {
     "name": "stdout",
     "output_type": "stream",
     "text": [
      "2025-02-09 13:50:42\n"
     ]
    }
   ],
   "source": [
    "import pandas as pd\n",
    "from datetime import date, timedelta, datetime\n",
    "from sqlalchemy import create_engine, text\n",
    "\n",
    "engine = create_engine(\"sqlite:///c:\\\\ruby\\\\portlt\\\\db\\\\development.sqlite3\")\n",
    "conlt = engine.connect()\n",
    "\n",
    "year = 2025\n",
    "quarter = 1\n",
    "current_time = datetime.now()\n",
    "formatted_time = current_time.strftime(\"%Y-%m-%d %H:%M:%S\")\n",
    "print(formatted_time )"
   ]
  },
  {
   "cell_type": "code",
   "execution_count": 3,
   "metadata": {},
   "outputs": [],
   "source": [
    "cols = 'name year quarter q_amt_c q_amt_p inc_profit percent'.split()\n",
    "\n",
    "format_dict = {\n",
    "                'q_amt':'{:,}','q_amt_c':'{:,}','q_amt_p':'{:,}','inc_profit':'{:,}',\n",
    "                'yoy_gain':'{:,}','acc_gain':'{:,}',   \n",
    "                'latest_amt':'{:,}','previous_amt':'{:,}','inc_amt':'{:,}',\n",
    "                'q_eps':'{:.4f}','y_eps':'{:.4f}','aq_eps':'{:.4f}','ay_eps':'{:.4f}',\n",
    "                'percent':'{:.2f}%','inc_pct':'{:.2f}%'\n",
    "              }"
   ]
  },
  {
   "cell_type": "code",
   "execution_count": 4,
   "metadata": {},
   "outputs": [
    {
     "name": "stdout",
     "output_type": "stream",
     "text": [
      "\n",
      "SELECT name,year,quarter,q_amt \n",
      "FROM epss \n",
      "WHERE (year = 2025 AND quarter <= 1) \n",
      "OR (year = 2025-1 AND quarter >= 1+1)\n",
      "ORDER BY year DESC, quarter DESC\n",
      "\n"
     ]
    }
   ],
   "source": [
    "sql = \"\"\"\n",
    "SELECT name,year,quarter,q_amt \n",
    "FROM epss \n",
    "WHERE (year = %s AND quarter <= %s) \n",
    "OR (year = %s-1 AND quarter >= %s+1)\n",
    "ORDER BY year DESC, quarter DESC\n",
    "\"\"\"\n",
    "sql = sql % (year, quarter, year, quarter)\n",
    "print(sql)"
   ]
  },
  {
   "cell_type": "code",
   "execution_count": 5,
   "metadata": {},
   "outputs": [
    {
     "data": {
      "text/plain": [
       "(1, 5)"
      ]
     },
     "execution_count": 5,
     "metadata": {},
     "output_type": "execute_result"
    }
   ],
   "source": [
    "dfc = pd.read_sql(sql, conlt)\n",
    "dfc[\"Counter\"] = 1\n",
    "dfc_grp = dfc.groupby([\"name\"], as_index=False).sum()\n",
    "dfc_grp = dfc_grp[dfc_grp[\"Counter\"] == 4]\n",
    "dfc_grp.shape"
   ]
  },
  {
   "cell_type": "code",
   "execution_count": 6,
   "metadata": {},
   "outputs": [
    {
     "name": "stdout",
     "output_type": "stream",
     "text": [
      "\n",
      "SELECT name,year,quarter,q_amt \n",
      "FROM epss \n",
      "WHERE (year = 2025 AND quarter <= 1-1) \n",
      "OR (year = 2025-1 AND quarter >= 1) \n",
      "ORDER BY year DESC, quarter DESC\n"
     ]
    }
   ],
   "source": [
    "sql = \"\"\"\n",
    "SELECT name,year,quarter,q_amt \n",
    "FROM epss \n",
    "WHERE (year = %s AND quarter <= %s-1) \n",
    "OR (year = %s-1 AND quarter >= %s) \n",
    "ORDER BY year DESC, quarter DESC\"\"\"\n",
    "sql = sql % (year, quarter, year, quarter)\n",
    "print(sql)"
   ]
  },
  {
   "cell_type": "code",
   "execution_count": 7,
   "metadata": {},
   "outputs": [
    {
     "data": {
      "text/html": [
       "<style type=\"text/css\">\n",
       "</style>\n",
       "<table id=\"T_2015e\">\n",
       "  <thead>\n",
       "    <tr>\n",
       "      <th class=\"blank level0\" >&nbsp;</th>\n",
       "      <th id=\"T_2015e_level0_col0\" class=\"col_heading level0 col0\" >name</th>\n",
       "      <th id=\"T_2015e_level0_col1\" class=\"col_heading level0 col1\" >year</th>\n",
       "      <th id=\"T_2015e_level0_col2\" class=\"col_heading level0 col2\" >quarter</th>\n",
       "      <th id=\"T_2015e_level0_col3\" class=\"col_heading level0 col3\" >q_amt</th>\n",
       "      <th id=\"T_2015e_level0_col4\" class=\"col_heading level0 col4\" >Counter</th>\n",
       "    </tr>\n",
       "  </thead>\n",
       "  <tbody>\n",
       "    <tr>\n",
       "      <th id=\"T_2015e_level0_row0\" class=\"row_heading level0 row0\" >0</th>\n",
       "      <td id=\"T_2015e_row0_col0\" class=\"data row0 col0\" >3BBIF</td>\n",
       "      <td id=\"T_2015e_row0_col1\" class=\"data row0 col1\" >8096</td>\n",
       "      <td id=\"T_2015e_row0_col2\" class=\"data row0 col2\" >10</td>\n",
       "      <td id=\"T_2015e_row0_col3\" class=\"data row0 col3\" >5,279,119</td>\n",
       "      <td id=\"T_2015e_row0_col4\" class=\"data row0 col4\" >4</td>\n",
       "    </tr>\n",
       "    <tr>\n",
       "      <th id=\"T_2015e_level0_row1\" class=\"row_heading level0 row1\" >2</th>\n",
       "      <td id=\"T_2015e_row1_col0\" class=\"data row1 col0\" >ADVANC</td>\n",
       "      <td id=\"T_2015e_row1_col1\" class=\"data row1 col1\" >8096</td>\n",
       "      <td id=\"T_2015e_row1_col2\" class=\"data row1 col2\" >10</td>\n",
       "      <td id=\"T_2015e_row1_col3\" class=\"data row1 col3\" >35,075,357</td>\n",
       "      <td id=\"T_2015e_row1_col4\" class=\"data row1 col4\" >4</td>\n",
       "    </tr>\n",
       "    <tr>\n",
       "      <th id=\"T_2015e_level0_row2\" class=\"row_heading level0 row2\" >21</th>\n",
       "      <td id=\"T_2015e_row2_col0\" class=\"data row2 col0\" >BAY</td>\n",
       "      <td id=\"T_2015e_row2_col1\" class=\"data row2 col1\" >8096</td>\n",
       "      <td id=\"T_2015e_row2_col2\" class=\"data row2 col2\" >10</td>\n",
       "      <td id=\"T_2015e_row2_col3\" class=\"data row2 col3\" >29,699,751</td>\n",
       "      <td id=\"T_2015e_row2_col4\" class=\"data row2 col4\" >4</td>\n",
       "    </tr>\n",
       "    <tr>\n",
       "      <th id=\"T_2015e_level0_row3\" class=\"row_heading level0 row3\" >22</th>\n",
       "      <td id=\"T_2015e_row3_col0\" class=\"data row3 col0\" >BBL</td>\n",
       "      <td id=\"T_2015e_row3_col1\" class=\"data row3 col1\" >8096</td>\n",
       "      <td id=\"T_2015e_row3_col2\" class=\"data row3 col2\" >10</td>\n",
       "      <td id=\"T_2015e_row3_col3\" class=\"data row3 col3\" >45,211,145</td>\n",
       "      <td id=\"T_2015e_row3_col4\" class=\"data row3 col4\" >4</td>\n",
       "    </tr>\n",
       "    <tr>\n",
       "      <th id=\"T_2015e_level0_row4\" class=\"row_heading level0 row4\" >69</th>\n",
       "      <td id=\"T_2015e_row4_col0\" class=\"data row4 col0\" >FPT</td>\n",
       "      <td id=\"T_2015e_row4_col1\" class=\"data row4 col1\" >8096</td>\n",
       "      <td id=\"T_2015e_row4_col2\" class=\"data row4 col2\" >10</td>\n",
       "      <td id=\"T_2015e_row4_col3\" class=\"data row4 col3\" >1,438,028</td>\n",
       "      <td id=\"T_2015e_row4_col4\" class=\"data row4 col4\" >4</td>\n",
       "    </tr>\n",
       "  </tbody>\n",
       "</table>\n"
      ],
      "text/plain": [
       "<pandas.io.formats.style.Styler at 0x1ccd0cc8e30>"
      ]
     },
     "execution_count": 7,
     "metadata": {},
     "output_type": "execute_result"
    }
   ],
   "source": [
    "dfp = pd.read_sql(sql, conlt)\n",
    "dfp[\"Counter\"] = 1\n",
    "dfp_grp = dfp.groupby([\"name\"], as_index=False).sum()\n",
    "dfp_grp = dfp_grp[dfp_grp[\"Counter\"] == 4]\n",
    "dfp_grp.head().style.format(format_dict)"
   ]
  },
  {
   "cell_type": "code",
   "execution_count": 8,
   "metadata": {},
   "outputs": [
    {
     "data": {
      "text/plain": [
       "(224,)"
      ]
     },
     "execution_count": 8,
     "metadata": {},
     "output_type": "execute_result"
    }
   ],
   "source": [
    "dfp.name.unique().shape"
   ]
  },
  {
   "cell_type": "code",
   "execution_count": 9,
   "metadata": {},
   "outputs": [
    {
     "data": {
      "text/html": [
       "<style type=\"text/css\">\n",
       "</style>\n",
       "<table id=\"T_d14bb\">\n",
       "  <thead>\n",
       "    <tr>\n",
       "      <th class=\"blank level0\" >&nbsp;</th>\n",
       "      <th id=\"T_d14bb_level0_col0\" class=\"col_heading level0 col0\" >name</th>\n",
       "      <th id=\"T_d14bb_level0_col1\" class=\"col_heading level0 col1\" >year</th>\n",
       "      <th id=\"T_d14bb_level0_col2\" class=\"col_heading level0 col2\" >quarter</th>\n",
       "      <th id=\"T_d14bb_level0_col3\" class=\"col_heading level0 col3\" >q_amt_c</th>\n",
       "      <th id=\"T_d14bb_level0_col4\" class=\"col_heading level0 col4\" >q_amt_p</th>\n",
       "      <th id=\"T_d14bb_level0_col5\" class=\"col_heading level0 col5\" >inc_profit</th>\n",
       "      <th id=\"T_d14bb_level0_col6\" class=\"col_heading level0 col6\" >percent</th>\n",
       "    </tr>\n",
       "  </thead>\n",
       "  <tbody>\n",
       "    <tr>\n",
       "      <th id=\"T_d14bb_level0_row0\" class=\"row_heading level0 row0\" >0</th>\n",
       "      <td id=\"T_d14bb_row0_col0\" class=\"data row0 col0\" >FPT</td>\n",
       "      <td id=\"T_d14bb_row0_col1\" class=\"data row0 col1\" >2025</td>\n",
       "      <td id=\"T_d14bb_row0_col2\" class=\"data row0 col2\" >Q1</td>\n",
       "      <td id=\"T_d14bb_row0_col3\" class=\"data row0 col3\" >1,447,950</td>\n",
       "      <td id=\"T_d14bb_row0_col4\" class=\"data row0 col4\" >1,438,028</td>\n",
       "      <td id=\"T_d14bb_row0_col5\" class=\"data row0 col5\" >9,922</td>\n",
       "      <td id=\"T_d14bb_row0_col6\" class=\"data row0 col6\" >0.69%</td>\n",
       "    </tr>\n",
       "  </tbody>\n",
       "</table>\n"
      ],
      "text/plain": [
       "<pandas.io.formats.style.Styler at 0x1ccd3362390>"
      ]
     },
     "execution_count": 9,
     "metadata": {},
     "output_type": "execute_result"
    }
   ],
   "source": [
    "dfm = pd.merge(dfc_grp, dfp_grp, on=\"name\", suffixes=([\"_c\", \"_p\"]), how=\"inner\")\n",
    "dfm[\"inc_profit\"] = dfm[\"q_amt_c\"] - dfm[\"q_amt_p\"]\n",
    "dfm[\"percent\"] = round(dfm[\"inc_profit\"] / abs(dfm[\"q_amt_p\"]) * 100, 2)\n",
    "dfm[\"year\"] = year\n",
    "dfm[\"quarter\"] = \"Q\" + str(quarter)\n",
    "df_percent = dfm[cols]\n",
    "df_percent.head().style.format(format_dict)"
   ]
  },
  {
   "cell_type": "code",
   "execution_count": 10,
   "metadata": {},
   "outputs": [
    {
     "name": "stdout",
     "output_type": "stream",
     "text": [
      "Rows deleted: 1\n"
     ]
    }
   ],
   "source": [
    "# Create the SQL query with parameter binding\n",
    "sql = text(\"DELETE FROM qt_profits WHERE year = :year AND quarter = :quarter\")\n",
    "\n",
    "# Execute the query with parameters\n",
    "params = {'year': year, 'quarter': f'Q{quarter}'}\n",
    "rp = conlt.execute(sql, params)\n",
    "\n",
    "# Print the number of rows affected\n",
    "print(\"Rows deleted:\", rp.rowcount)"
   ]
  },
  {
   "cell_type": "code",
   "execution_count": 11,
   "metadata": {},
   "outputs": [
    {
     "data": {
      "text/html": [
       "<div>\n",
       "<style scoped>\n",
       "    .dataframe tbody tr th:only-of-type {\n",
       "        vertical-align: middle;\n",
       "    }\n",
       "\n",
       "    .dataframe tbody tr th {\n",
       "        vertical-align: top;\n",
       "    }\n",
       "\n",
       "    .dataframe thead th {\n",
       "        text-align: right;\n",
       "    }\n",
       "</style>\n",
       "<table border=\"1\" class=\"dataframe\">\n",
       "  <thead>\n",
       "    <tr style=\"text-align: right;\">\n",
       "      <th></th>\n",
       "      <th>name</th>\n",
       "      <th>id</th>\n",
       "    </tr>\n",
       "  </thead>\n",
       "  <tbody>\n",
       "    <tr>\n",
       "      <th>141</th>\n",
       "      <td>ILINK</td>\n",
       "      <td>221</td>\n",
       "    </tr>\n",
       "    <tr>\n",
       "      <th>174</th>\n",
       "      <td>LANNA</td>\n",
       "      <td>264</td>\n",
       "    </tr>\n",
       "    <tr>\n",
       "      <th>8</th>\n",
       "      <td>AI</td>\n",
       "      <td>719</td>\n",
       "    </tr>\n",
       "    <tr>\n",
       "      <th>382</th>\n",
       "      <td>VNG</td>\n",
       "      <td>726</td>\n",
       "    </tr>\n",
       "    <tr>\n",
       "      <th>103</th>\n",
       "      <td>EKH</td>\n",
       "      <td>159</td>\n",
       "    </tr>\n",
       "  </tbody>\n",
       "</table>\n",
       "</div>"
      ],
      "text/plain": [
       "      name   id\n",
       "141  ILINK  221\n",
       "174  LANNA  264\n",
       "8       AI  719\n",
       "382    VNG  726\n",
       "103    EKH  159"
      ]
     },
     "execution_count": 11,
     "metadata": {},
     "output_type": "execute_result"
    }
   ],
   "source": [
    "sql = \"SELECT name, id FROM tickers\"\n",
    "tickers = pd.read_sql(sql, conlt)\n",
    "tickers.sample(5)"
   ]
  },
  {
   "cell_type": "code",
   "execution_count": 12,
   "metadata": {},
   "outputs": [
    {
     "data": {
      "text/html": [
       "<style type=\"text/css\">\n",
       "</style>\n",
       "<table id=\"T_44d74\">\n",
       "  <thead>\n",
       "    <tr>\n",
       "      <th class=\"blank level0\" >&nbsp;</th>\n",
       "      <th id=\"T_44d74_level0_col0\" class=\"col_heading level0 col0\" >name</th>\n",
       "      <th id=\"T_44d74_level0_col1\" class=\"col_heading level0 col1\" >year</th>\n",
       "      <th id=\"T_44d74_level0_col2\" class=\"col_heading level0 col2\" >quarter</th>\n",
       "      <th id=\"T_44d74_level0_col3\" class=\"col_heading level0 col3\" >q_amt_c</th>\n",
       "      <th id=\"T_44d74_level0_col4\" class=\"col_heading level0 col4\" >q_amt_p</th>\n",
       "      <th id=\"T_44d74_level0_col5\" class=\"col_heading level0 col5\" >inc_profit</th>\n",
       "      <th id=\"T_44d74_level0_col6\" class=\"col_heading level0 col6\" >percent</th>\n",
       "      <th id=\"T_44d74_level0_col7\" class=\"col_heading level0 col7\" >id</th>\n",
       "    </tr>\n",
       "  </thead>\n",
       "  <tbody>\n",
       "    <tr>\n",
       "      <th id=\"T_44d74_level0_row0\" class=\"row_heading level0 row0\" >0</th>\n",
       "      <td id=\"T_44d74_row0_col0\" class=\"data row0 col0\" >FPT</td>\n",
       "      <td id=\"T_44d74_row0_col1\" class=\"data row0 col1\" >2025</td>\n",
       "      <td id=\"T_44d74_row0_col2\" class=\"data row0 col2\" >Q1</td>\n",
       "      <td id=\"T_44d74_row0_col3\" class=\"data row0 col3\" >1,447,950</td>\n",
       "      <td id=\"T_44d74_row0_col4\" class=\"data row0 col4\" >1,438,028</td>\n",
       "      <td id=\"T_44d74_row0_col5\" class=\"data row0 col5\" >9,922</td>\n",
       "      <td id=\"T_44d74_row0_col6\" class=\"data row0 col6\" >0.69%</td>\n",
       "      <td id=\"T_44d74_row0_col7\" class=\"data row0 col7\" >746</td>\n",
       "    </tr>\n",
       "  </tbody>\n",
       "</table>\n"
      ],
      "text/plain": [
       "<pandas.io.formats.style.Styler at 0x1ccd33bb320>"
      ]
     },
     "execution_count": 12,
     "metadata": {},
     "output_type": "execute_result"
    }
   ],
   "source": [
    "df_ins = pd.merge(df_percent, tickers, on=\"name\", how=\"inner\")\n",
    "df_ins.head().style.format(format_dict)"
   ]
  },
  {
   "cell_type": "code",
   "execution_count": 13,
   "metadata": {},
   "outputs": [],
   "source": [
    "# Convert DataFrame to list of records\n",
    "rcds = df_ins.values.tolist()\n",
    "\n",
    "# Define column names in the same order as values\n",
    "columns = ['name', 'year', 'quarter', 'latest_amt', 'previous_amt', 'inc_amt', 'inc_pct', 'ticker_id']\n",
    "\n",
    "# SQL insert statement with named parameters\n",
    "sql = text(\"\"\"\n",
    "    INSERT INTO qt_profits \n",
    "    (name, year, quarter, latest_amt, previous_amt, inc_amt, inc_pct, ticker_id)\n",
    "    VALUES (:name, :year, :quarter, :latest_amt, :previous_amt, :inc_amt, :inc_pct, :ticker_id)\n",
    "\"\"\")\n",
    "\n",
    "try:\n",
    "    # Execute inserts\n",
    "    for rcd in rcds:\n",
    "        # Convert list to dictionary\n",
    "        params = dict(zip(columns, rcd))\n",
    "        conlt.execute(sql, params)\n",
    "except Exception as e:\n",
    "    raise e"
   ]
  },
  {
   "cell_type": "markdown",
   "metadata": {},
   "source": [
    "### End of loop"
   ]
  },
  {
   "cell_type": "code",
   "execution_count": 15,
   "metadata": {},
   "outputs": [
    {
     "data": {
      "text/html": [
       "<style type=\"text/css\">\n",
       "</style>\n",
       "<table id=\"T_5f118\">\n",
       "  <thead>\n",
       "    <tr>\n",
       "      <th class=\"blank level0\" >&nbsp;</th>\n",
       "      <th id=\"T_5f118_level0_col0\" class=\"col_heading level0 col0\" >name</th>\n",
       "      <th id=\"T_5f118_level0_col1\" class=\"col_heading level0 col1\" >year</th>\n",
       "      <th id=\"T_5f118_level0_col2\" class=\"col_heading level0 col2\" >quarter</th>\n",
       "      <th id=\"T_5f118_level0_col3\" class=\"col_heading level0 col3\" >q_amt_c</th>\n",
       "      <th id=\"T_5f118_level0_col4\" class=\"col_heading level0 col4\" >q_amt_p</th>\n",
       "      <th id=\"T_5f118_level0_col5\" class=\"col_heading level0 col5\" >inc_profit</th>\n",
       "      <th id=\"T_5f118_level0_col6\" class=\"col_heading level0 col6\" >percent</th>\n",
       "    </tr>\n",
       "  </thead>\n",
       "  <tbody>\n",
       "    <tr>\n",
       "      <th id=\"T_5f118_level0_row0\" class=\"row_heading level0 row0\" >0</th>\n",
       "      <td id=\"T_5f118_row0_col0\" class=\"data row0 col0\" >FPT</td>\n",
       "      <td id=\"T_5f118_row0_col1\" class=\"data row0 col1\" >2025</td>\n",
       "      <td id=\"T_5f118_row0_col2\" class=\"data row0 col2\" >Q1</td>\n",
       "      <td id=\"T_5f118_row0_col3\" class=\"data row0 col3\" >1,447,950</td>\n",
       "      <td id=\"T_5f118_row0_col4\" class=\"data row0 col4\" >1,438,028</td>\n",
       "      <td id=\"T_5f118_row0_col5\" class=\"data row0 col5\" >9,922</td>\n",
       "      <td id=\"T_5f118_row0_col6\" class=\"data row0 col6\" >0.69%</td>\n",
       "    </tr>\n",
       "  </tbody>\n",
       "</table>\n"
      ],
      "text/plain": [
       "<pandas.io.formats.style.Styler at 0x1cccf7efb30>"
      ]
     },
     "execution_count": 15,
     "metadata": {},
     "output_type": "execute_result"
    }
   ],
   "source": [
    "criteria_1 = df_ins.q_amt_c > 440_000\n",
    "df_ins.loc[criteria_1, cols].head().style.format(format_dict)"
   ]
  },
  {
   "cell_type": "code",
   "execution_count": 16,
   "metadata": {},
   "outputs": [
    {
     "data": {
      "text/html": [
       "<style type=\"text/css\">\n",
       "</style>\n",
       "<table id=\"T_20e16\">\n",
       "  <thead>\n",
       "    <tr>\n",
       "      <th class=\"blank level0\" >&nbsp;</th>\n",
       "      <th id=\"T_20e16_level0_col0\" class=\"col_heading level0 col0\" >name</th>\n",
       "      <th id=\"T_20e16_level0_col1\" class=\"col_heading level0 col1\" >year</th>\n",
       "      <th id=\"T_20e16_level0_col2\" class=\"col_heading level0 col2\" >quarter</th>\n",
       "      <th id=\"T_20e16_level0_col3\" class=\"col_heading level0 col3\" >q_amt_c</th>\n",
       "      <th id=\"T_20e16_level0_col4\" class=\"col_heading level0 col4\" >q_amt_p</th>\n",
       "      <th id=\"T_20e16_level0_col5\" class=\"col_heading level0 col5\" >inc_profit</th>\n",
       "      <th id=\"T_20e16_level0_col6\" class=\"col_heading level0 col6\" >percent</th>\n",
       "    </tr>\n",
       "  </thead>\n",
       "  <tbody>\n",
       "    <tr>\n",
       "      <th id=\"T_20e16_level0_row0\" class=\"row_heading level0 row0\" >0</th>\n",
       "      <td id=\"T_20e16_row0_col0\" class=\"data row0 col0\" >FPT</td>\n",
       "      <td id=\"T_20e16_row0_col1\" class=\"data row0 col1\" >2025</td>\n",
       "      <td id=\"T_20e16_row0_col2\" class=\"data row0 col2\" >Q1</td>\n",
       "      <td id=\"T_20e16_row0_col3\" class=\"data row0 col3\" >1,447,950</td>\n",
       "      <td id=\"T_20e16_row0_col4\" class=\"data row0 col4\" >1,438,028</td>\n",
       "      <td id=\"T_20e16_row0_col5\" class=\"data row0 col5\" >9,922</td>\n",
       "      <td id=\"T_20e16_row0_col6\" class=\"data row0 col6\" >0.69%</td>\n",
       "    </tr>\n",
       "  </tbody>\n",
       "</table>\n"
      ],
      "text/plain": [
       "<pandas.io.formats.style.Styler at 0x1ccd33f52e0>"
      ]
     },
     "execution_count": 16,
     "metadata": {},
     "output_type": "execute_result"
    }
   ],
   "source": [
    "criteria_2 = df_ins.q_amt_p > 400_000\n",
    "df_ins.loc[criteria_2, cols].head().style.format(format_dict)"
   ]
  },
  {
   "cell_type": "code",
   "execution_count": 17,
   "metadata": {},
   "outputs": [
    {
     "data": {
      "text/html": [
       "<style type=\"text/css\">\n",
       "</style>\n",
       "<table id=\"T_5adf9\">\n",
       "  <thead>\n",
       "    <tr>\n",
       "      <th class=\"blank level0\" >&nbsp;</th>\n",
       "      <th id=\"T_5adf9_level0_col0\" class=\"col_heading level0 col0\" >name</th>\n",
       "      <th id=\"T_5adf9_level0_col1\" class=\"col_heading level0 col1\" >year</th>\n",
       "      <th id=\"T_5adf9_level0_col2\" class=\"col_heading level0 col2\" >quarter</th>\n",
       "      <th id=\"T_5adf9_level0_col3\" class=\"col_heading level0 col3\" >q_amt_c</th>\n",
       "      <th id=\"T_5adf9_level0_col4\" class=\"col_heading level0 col4\" >q_amt_p</th>\n",
       "      <th id=\"T_5adf9_level0_col5\" class=\"col_heading level0 col5\" >inc_profit</th>\n",
       "      <th id=\"T_5adf9_level0_col6\" class=\"col_heading level0 col6\" >percent</th>\n",
       "    </tr>\n",
       "  </thead>\n",
       "  <tbody>\n",
       "  </tbody>\n",
       "</table>\n"
      ],
      "text/plain": [
       "<pandas.io.formats.style.Styler at 0x1ccd3432fc0>"
      ]
     },
     "execution_count": 17,
     "metadata": {},
     "output_type": "execute_result"
    }
   ],
   "source": [
    "criteria_3 = df_ins.percent > 10.00\n",
    "df_ins.loc[criteria_3, cols].head().style.format(format_dict)"
   ]
  },
  {
   "cell_type": "code",
   "execution_count": 18,
   "metadata": {},
   "outputs": [
    {
     "data": {
      "text/html": [
       "<style type=\"text/css\">\n",
       "</style>\n",
       "<table id=\"T_8c3bd\">\n",
       "  <thead>\n",
       "    <tr>\n",
       "      <th class=\"blank level0\" >&nbsp;</th>\n",
       "      <th id=\"T_8c3bd_level0_col0\" class=\"col_heading level0 col0\" >name</th>\n",
       "      <th id=\"T_8c3bd_level0_col1\" class=\"col_heading level0 col1\" >year</th>\n",
       "      <th id=\"T_8c3bd_level0_col2\" class=\"col_heading level0 col2\" >quarter</th>\n",
       "      <th id=\"T_8c3bd_level0_col3\" class=\"col_heading level0 col3\" >q_amt_c</th>\n",
       "      <th id=\"T_8c3bd_level0_col4\" class=\"col_heading level0 col4\" >q_amt_p</th>\n",
       "      <th id=\"T_8c3bd_level0_col5\" class=\"col_heading level0 col5\" >inc_profit</th>\n",
       "      <th id=\"T_8c3bd_level0_col6\" class=\"col_heading level0 col6\" >percent</th>\n",
       "    </tr>\n",
       "  </thead>\n",
       "  <tbody>\n",
       "  </tbody>\n",
       "</table>\n"
      ],
      "text/plain": [
       "<pandas.io.formats.style.Styler at 0x1cccf46b620>"
      ]
     },
     "execution_count": 18,
     "metadata": {},
     "output_type": "execute_result"
    }
   ],
   "source": [
    "df_ins_criteria = criteria_1 & criteria_2 & criteria_3\n",
    "df_ins.loc[df_ins_criteria, cols].head().style.format(format_dict)"
   ]
  },
  {
   "cell_type": "code",
   "execution_count": 19,
   "metadata": {},
   "outputs": [
    {
     "data": {
      "text/html": [
       "<style type=\"text/css\">\n",
       "</style>\n",
       "<table id=\"T_6f045\">\n",
       "  <thead>\n",
       "    <tr>\n",
       "      <th class=\"blank level0\" >&nbsp;</th>\n",
       "      <th id=\"T_6f045_level0_col0\" class=\"col_heading level0 col0\" >name</th>\n",
       "      <th id=\"T_6f045_level0_col1\" class=\"col_heading level0 col1\" >year</th>\n",
       "      <th id=\"T_6f045_level0_col2\" class=\"col_heading level0 col2\" >quarter</th>\n",
       "      <th id=\"T_6f045_level0_col3\" class=\"col_heading level0 col3\" >q_amt_c</th>\n",
       "      <th id=\"T_6f045_level0_col4\" class=\"col_heading level0 col4\" >q_amt_p</th>\n",
       "      <th id=\"T_6f045_level0_col5\" class=\"col_heading level0 col5\" >inc_profit</th>\n",
       "      <th id=\"T_6f045_level0_col6\" class=\"col_heading level0 col6\" >percent</th>\n",
       "      <th id=\"T_6f045_level0_col7\" class=\"col_heading level0 col7\" >id</th>\n",
       "    </tr>\n",
       "  </thead>\n",
       "  <tbody>\n",
       "  </tbody>\n",
       "</table>\n"
      ],
      "text/plain": [
       "<pandas.io.formats.style.Styler at 0x1ccd33f5250>"
      ]
     },
     "execution_count": 19,
     "metadata": {},
     "output_type": "execute_result"
    }
   ],
   "source": [
    "df_ins[df_ins_criteria].sort_values(by=[\"percent\"], ascending=[False]).head().style.format(format_dict)"
   ]
  },
  {
   "cell_type": "code",
   "execution_count": 20,
   "metadata": {},
   "outputs": [
    {
     "data": {
      "text/html": [
       "<style type=\"text/css\">\n",
       "</style>\n",
       "<table id=\"T_485df\">\n",
       "  <thead>\n",
       "    <tr>\n",
       "      <th class=\"blank level0\" >&nbsp;</th>\n",
       "      <th id=\"T_485df_level0_col0\" class=\"col_heading level0 col0\" >name</th>\n",
       "      <th id=\"T_485df_level0_col1\" class=\"col_heading level0 col1\" >year</th>\n",
       "      <th id=\"T_485df_level0_col2\" class=\"col_heading level0 col2\" >quarter</th>\n",
       "      <th id=\"T_485df_level0_col3\" class=\"col_heading level0 col3\" >q_amt_c</th>\n",
       "      <th id=\"T_485df_level0_col4\" class=\"col_heading level0 col4\" >q_amt_p</th>\n",
       "      <th id=\"T_485df_level0_col5\" class=\"col_heading level0 col5\" >inc_profit</th>\n",
       "      <th id=\"T_485df_level0_col6\" class=\"col_heading level0 col6\" >percent</th>\n",
       "      <th id=\"T_485df_level0_col7\" class=\"col_heading level0 col7\" >id</th>\n",
       "    </tr>\n",
       "  </thead>\n",
       "  <tbody>\n",
       "  </tbody>\n",
       "</table>\n"
      ],
      "text/plain": [
       "<pandas.io.formats.style.Styler at 0x1ccd3432de0>"
      ]
     },
     "execution_count": 20,
     "metadata": {},
     "output_type": "execute_result"
    }
   ],
   "source": [
    "df_ins[df_ins_criteria].sort_values(by=[\"name\"], ascending=[True]).head().style.format(format_dict)"
   ]
  },
  {
   "cell_type": "code",
   "execution_count": 21,
   "metadata": {},
   "outputs": [
    {
     "data": {
      "text/html": [
       "<style type=\"text/css\">\n",
       "</style>\n",
       "<table id=\"T_4f0c2\">\n",
       "  <thead>\n",
       "    <tr>\n",
       "      <th class=\"blank level0\" >&nbsp;</th>\n",
       "      <th id=\"T_4f0c2_level0_col0\" class=\"col_heading level0 col0\" >name</th>\n",
       "      <th id=\"T_4f0c2_level0_col1\" class=\"col_heading level0 col1\" >year</th>\n",
       "      <th id=\"T_4f0c2_level0_col2\" class=\"col_heading level0 col2\" >quarter</th>\n",
       "      <th id=\"T_4f0c2_level0_col3\" class=\"col_heading level0 col3\" >q_amt_c</th>\n",
       "      <th id=\"T_4f0c2_level0_col4\" class=\"col_heading level0 col4\" >q_amt_p</th>\n",
       "      <th id=\"T_4f0c2_level0_col5\" class=\"col_heading level0 col5\" >inc_profit</th>\n",
       "      <th id=\"T_4f0c2_level0_col6\" class=\"col_heading level0 col6\" >percent</th>\n",
       "      <th id=\"T_4f0c2_level0_col7\" class=\"col_heading level0 col7\" >id</th>\n",
       "    </tr>\n",
       "  </thead>\n",
       "  <tbody>\n",
       "  </tbody>\n",
       "</table>\n"
      ],
      "text/plain": [
       "<pandas.io.formats.style.Styler at 0x1ccd34320f0>"
      ]
     },
     "execution_count": 21,
     "metadata": {},
     "output_type": "execute_result"
    }
   ],
   "source": [
    "df_ins[df_ins_criteria].sort_values(by=[\"name\"], ascending=[True]).head().style.format(format_dict)"
   ]
  },
  {
   "cell_type": "code",
   "execution_count": 22,
   "metadata": {},
   "outputs": [],
   "source": [
    "conlt.commit()\n",
    "conlt.close()"
   ]
  },
  {
   "cell_type": "code",
   "execution_count": 23,
   "metadata": {},
   "outputs": [
    {
     "name": "stdout",
     "output_type": "stream",
     "text": [
      "2025:02:09 13:50:43\n"
     ]
    }
   ],
   "source": [
    "current_time = datetime.now()\n",
    "formatted_time = current_time.strftime(\"%Y:%m:%d %H:%M:%S\")\n",
    "print(formatted_time)"
   ]
  },
  {
   "cell_type": "code",
   "execution_count": null,
   "metadata": {},
   "outputs": [],
   "source": []
  }
 ],
 "metadata": {
  "anaconda-cloud": {},
  "kernelspec": {
   "display_name": "Python 3 (ipykernel)",
   "language": "python",
   "name": "python3"
  },
  "language_info": {
   "codemirror_mode": {
    "name": "ipython",
    "version": 3
   },
   "file_extension": ".py",
   "mimetype": "text/x-python",
   "name": "python",
   "nbconvert_exporter": "python",
   "pygments_lexer": "ipython3",
   "version": "3.12.3"
  }
 },
 "nbformat": 4,
 "nbformat_minor": 4
}
