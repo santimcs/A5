{
 "cells": [
  {
   "cell_type": "markdown",
   "metadata": {},
   "source": [
    "### Restart and Run All Cells"
   ]
  },
  {
   "cell_type": "code",
   "execution_count": 2,
   "metadata": {},
   "outputs": [
    {
     "data": {
      "text/plain": [
       "'2025-02-01'"
      ]
     },
     "execution_count": 2,
     "metadata": {},
     "output_type": "execute_result"
    }
   ],
   "source": [
    "import pandas as pd\n",
    "from datetime import date, timedelta\n",
    "from sqlalchemy import create_engine, text\n",
    "engine = create_engine(\"sqlite:///c:\\\\ruby\\\\portlt\\\\db\\\\development.sqlite3\")\n",
    "conlt = engine.connect()\n",
    "year = 2024\n",
    "quarter = 4\n",
    "today = date.today()\n",
    "today_str = today.strftime(\"%Y-%m-%d\")\n",
    "today_str"
   ]
  },
  {
   "cell_type": "code",
   "execution_count": 4,
   "metadata": {},
   "outputs": [],
   "source": [
    "cols = 'name year quarter q_amt_c q_amt_p inc_profit percent'.split()\n",
    "\n",
    "format_dict = {\n",
    "                'q_amt':'{:,}','q_amt_c':'{:,}','q_amt_p':'{:,}','inc_profit':'{:,}',\n",
    "                'yoy_gain':'{:,}','acc_gain':'{:,}',   \n",
    "                'latest_amt':'{:,}','previous_amt':'{:,}','inc_amt':'{:,}',\n",
    "                'q_eps':'{:.4f}','y_eps':'{:.4f}','aq_eps':'{:.4f}','ay_eps':'{:.4f}',\n",
    "                'percent':'{:.2f}%','inc_pct':'{:.2f}%'\n",
    "              }"
   ]
  },
  {
   "cell_type": "code",
   "execution_count": 6,
   "metadata": {},
   "outputs": [
    {
     "name": "stdout",
     "output_type": "stream",
     "text": [
      "\n",
      "SELECT name,year,quarter,q_amt \n",
      "FROM epss \n",
      "WHERE (year = 2024 AND quarter <= 4) \n",
      "OR (year = 2024-1 AND quarter >= 4+1)\n",
      "ORDER BY year DESC, quarter DESC\n",
      "\n"
     ]
    }
   ],
   "source": [
    "sql = \"\"\"\n",
    "SELECT name,year,quarter,q_amt \n",
    "FROM epss \n",
    "WHERE (year = %s AND quarter <= %s) \n",
    "OR (year = %s-1 AND quarter >= %s+1)\n",
    "ORDER BY year DESC, quarter DESC\n",
    "\"\"\"\n",
    "sql = sql % (year, quarter, year, quarter)\n",
    "print(sql)"
   ]
  },
  {
   "cell_type": "code",
   "execution_count": 8,
   "metadata": {},
   "outputs": [
    {
     "data": {
      "text/plain": [
       "(17, 5)"
      ]
     },
     "execution_count": 8,
     "metadata": {},
     "output_type": "execute_result"
    }
   ],
   "source": [
    "dfc = pd.read_sql(sql, conlt)\n",
    "dfc[\"Counter\"] = 1\n",
    "dfc_grp = dfc.groupby([\"name\"], as_index=False).sum()\n",
    "dfc_grp = dfc_grp[dfc_grp[\"Counter\"] == 4]\n",
    "dfc_grp.shape"
   ]
  },
  {
   "cell_type": "code",
   "execution_count": 10,
   "metadata": {},
   "outputs": [
    {
     "name": "stdout",
     "output_type": "stream",
     "text": [
      "\n",
      "SELECT name,year,quarter,q_amt \n",
      "FROM epss \n",
      "WHERE (year = 2024 AND quarter <= 4-1) \n",
      "OR (year = 2024-1 AND quarter >= 4) \n",
      "ORDER BY year DESC, quarter DESC\n"
     ]
    }
   ],
   "source": [
    "sql = \"\"\"\n",
    "SELECT name,year,quarter,q_amt \n",
    "FROM epss \n",
    "WHERE (year = %s AND quarter <= %s-1) \n",
    "OR (year = %s-1 AND quarter >= %s) \n",
    "ORDER BY year DESC, quarter DESC\"\"\"\n",
    "sql = sql % (year, quarter, year, quarter)\n",
    "print(sql)"
   ]
  },
  {
   "cell_type": "code",
   "execution_count": 14,
   "metadata": {},
   "outputs": [
    {
     "data": {
      "text/html": [
       "<style type=\"text/css\">\n",
       "</style>\n",
       "<table id=\"T_973bb\">\n",
       "  <thead>\n",
       "    <tr>\n",
       "      <th class=\"blank level0\" >&nbsp;</th>\n",
       "      <th id=\"T_973bb_level0_col0\" class=\"col_heading level0 col0\" >name</th>\n",
       "      <th id=\"T_973bb_level0_col1\" class=\"col_heading level0 col1\" >year</th>\n",
       "      <th id=\"T_973bb_level0_col2\" class=\"col_heading level0 col2\" >quarter</th>\n",
       "      <th id=\"T_973bb_level0_col3\" class=\"col_heading level0 col3\" >q_amt</th>\n",
       "      <th id=\"T_973bb_level0_col4\" class=\"col_heading level0 col4\" >Counter</th>\n",
       "    </tr>\n",
       "  </thead>\n",
       "  <tbody>\n",
       "    <tr>\n",
       "      <th id=\"T_973bb_level0_row0\" class=\"row_heading level0 row0\" >0</th>\n",
       "      <td id=\"T_973bb_row0_col0\" class=\"data row0 col0\" >3BBIF</td>\n",
       "      <td id=\"T_973bb_row0_col1\" class=\"data row0 col1\" >8095</td>\n",
       "      <td id=\"T_973bb_row0_col2\" class=\"data row0 col2\" >10</td>\n",
       "      <td id=\"T_973bb_row0_col3\" class=\"data row0 col3\" >2,443,671</td>\n",
       "      <td id=\"T_973bb_row0_col4\" class=\"data row0 col4\" >4</td>\n",
       "    </tr>\n",
       "    <tr>\n",
       "      <th id=\"T_973bb_level0_row1\" class=\"row_heading level0 row1\" >1</th>\n",
       "      <td id=\"T_973bb_row1_col0\" class=\"data row1 col0\" >ACE</td>\n",
       "      <td id=\"T_973bb_row1_col1\" class=\"data row1 col1\" >8095</td>\n",
       "      <td id=\"T_973bb_row1_col2\" class=\"data row1 col2\" >10</td>\n",
       "      <td id=\"T_973bb_row1_col3\" class=\"data row1 col3\" >750,207</td>\n",
       "      <td id=\"T_973bb_row1_col4\" class=\"data row1 col4\" >4</td>\n",
       "    </tr>\n",
       "    <tr>\n",
       "      <th id=\"T_973bb_level0_row2\" class=\"row_heading level0 row2\" >2</th>\n",
       "      <td id=\"T_973bb_row2_col0\" class=\"data row2 col0\" >ADVANC</td>\n",
       "      <td id=\"T_973bb_row2_col1\" class=\"data row2 col1\" >8095</td>\n",
       "      <td id=\"T_973bb_row2_col2\" class=\"data row2 col2\" >10</td>\n",
       "      <td id=\"T_973bb_row2_col3\" class=\"data row2 col3\" >32,818,977</td>\n",
       "      <td id=\"T_973bb_row2_col4\" class=\"data row2 col4\" >4</td>\n",
       "    </tr>\n",
       "    <tr>\n",
       "      <th id=\"T_973bb_level0_row3\" class=\"row_heading level0 row3\" >3</th>\n",
       "      <td id=\"T_973bb_row3_col0\" class=\"data row3 col0\" >AEONTS</td>\n",
       "      <td id=\"T_973bb_row3_col1\" class=\"data row3 col1\" >8095</td>\n",
       "      <td id=\"T_973bb_row3_col2\" class=\"data row3 col2\" >10</td>\n",
       "      <td id=\"T_973bb_row3_col3\" class=\"data row3 col3\" >3,228,445</td>\n",
       "      <td id=\"T_973bb_row3_col4\" class=\"data row3 col4\" >4</td>\n",
       "    </tr>\n",
       "    <tr>\n",
       "      <th id=\"T_973bb_level0_row4\" class=\"row_heading level0 row4\" >4</th>\n",
       "      <td id=\"T_973bb_row4_col0\" class=\"data row4 col0\" >AH</td>\n",
       "      <td id=\"T_973bb_row4_col1\" class=\"data row4 col1\" >8095</td>\n",
       "      <td id=\"T_973bb_row4_col2\" class=\"data row4 col2\" >10</td>\n",
       "      <td id=\"T_973bb_row4_col3\" class=\"data row4 col3\" >764,738</td>\n",
       "      <td id=\"T_973bb_row4_col4\" class=\"data row4 col4\" >4</td>\n",
       "    </tr>\n",
       "  </tbody>\n",
       "</table>\n"
      ],
      "text/plain": [
       "<pandas.io.formats.style.Styler at 0x1c4726e0ef0>"
      ]
     },
     "execution_count": 14,
     "metadata": {},
     "output_type": "execute_result"
    }
   ],
   "source": [
    "dfp = pd.read_sql(sql, conlt)\n",
    "dfp[\"Counter\"] = 1\n",
    "dfp_grp = dfp.groupby([\"name\"], as_index=False).sum()\n",
    "dfp_grp = dfp_grp[dfp_grp[\"Counter\"] == 4]\n",
    "dfp_grp.head().style.format(format_dict)"
   ]
  },
  {
   "cell_type": "code",
   "execution_count": 16,
   "metadata": {},
   "outputs": [
    {
     "data": {
      "text/plain": [
       "(224,)"
      ]
     },
     "execution_count": 16,
     "metadata": {},
     "output_type": "execute_result"
    }
   ],
   "source": [
    "dfp.name.unique().shape"
   ]
  },
  {
   "cell_type": "code",
   "execution_count": 18,
   "metadata": {},
   "outputs": [
    {
     "data": {
      "text/plain": [
       "(226, 15)"
      ]
     },
     "execution_count": 18,
     "metadata": {},
     "output_type": "execute_result"
    }
   ],
   "source": [
    "sql = \"\"\"\n",
    "SELECT *\n",
    "FROM stocks\n",
    "\"\"\"\n",
    "stocks = pd.read_sql(sql, conlt)\n",
    "stocks.shape"
   ]
  },
  {
   "cell_type": "code",
   "execution_count": 20,
   "metadata": {},
   "outputs": [
    {
     "data": {
      "text/plain": [
       "(394, 9)"
      ]
     },
     "execution_count": 20,
     "metadata": {},
     "output_type": "execute_result"
    }
   ],
   "source": [
    "sql = \"\"\"\n",
    "SELECT *\n",
    "FROM tickers\n",
    "\"\"\"\n",
    "tickers = pd.read_sql(sql, conlt)\n",
    "tickers.shape"
   ]
  },
  {
   "cell_type": "code",
   "execution_count": 22,
   "metadata": {},
   "outputs": [
    {
     "data": {
      "text/html": [
       "<style type=\"text/css\">\n",
       "</style>\n",
       "<table id=\"T_4abbd\">\n",
       "  <thead>\n",
       "    <tr>\n",
       "      <th class=\"blank level0\" >&nbsp;</th>\n",
       "      <th id=\"T_4abbd_level0_col0\" class=\"col_heading level0 col0\" >name</th>\n",
       "      <th id=\"T_4abbd_level0_col1\" class=\"col_heading level0 col1\" >year</th>\n",
       "      <th id=\"T_4abbd_level0_col2\" class=\"col_heading level0 col2\" >quarter</th>\n",
       "      <th id=\"T_4abbd_level0_col3\" class=\"col_heading level0 col3\" >q_amt_c</th>\n",
       "      <th id=\"T_4abbd_level0_col4\" class=\"col_heading level0 col4\" >q_amt_p</th>\n",
       "      <th id=\"T_4abbd_level0_col5\" class=\"col_heading level0 col5\" >inc_profit</th>\n",
       "      <th id=\"T_4abbd_level0_col6\" class=\"col_heading level0 col6\" >percent</th>\n",
       "    </tr>\n",
       "  </thead>\n",
       "  <tbody>\n",
       "    <tr>\n",
       "      <th id=\"T_4abbd_level0_row0\" class=\"row_heading level0 row0\" >0</th>\n",
       "      <td id=\"T_4abbd_row0_col0\" class=\"data row0 col0\" >BAY</td>\n",
       "      <td id=\"T_4abbd_row0_col1\" class=\"data row0 col1\" >2024</td>\n",
       "      <td id=\"T_4abbd_row0_col2\" class=\"data row0 col2\" >Q4</td>\n",
       "      <td id=\"T_4abbd_row0_col3\" class=\"data row0 col3\" >29,699,751</td>\n",
       "      <td id=\"T_4abbd_row0_col4\" class=\"data row0 col4\" >31,155,715</td>\n",
       "      <td id=\"T_4abbd_row0_col5\" class=\"data row0 col5\" >-1,455,964</td>\n",
       "      <td id=\"T_4abbd_row0_col6\" class=\"data row0 col6\" >-4.67%</td>\n",
       "    </tr>\n",
       "    <tr>\n",
       "      <th id=\"T_4abbd_level0_row1\" class=\"row_heading level0 row1\" >1</th>\n",
       "      <td id=\"T_4abbd_row1_col0\" class=\"data row1 col0\" >BBL</td>\n",
       "      <td id=\"T_4abbd_row1_col1\" class=\"data row1 col1\" >2024</td>\n",
       "      <td id=\"T_4abbd_row1_col2\" class=\"data row1 col2\" >Q4</td>\n",
       "      <td id=\"T_4abbd_row1_col3\" class=\"data row1 col3\" >45,211,145</td>\n",
       "      <td id=\"T_4abbd_row1_col4\" class=\"data row1 col4\" >43,669,640</td>\n",
       "      <td id=\"T_4abbd_row1_col5\" class=\"data row1 col5\" >1,541,505</td>\n",
       "      <td id=\"T_4abbd_row1_col6\" class=\"data row1 col6\" >3.53%</td>\n",
       "    </tr>\n",
       "    <tr>\n",
       "      <th id=\"T_4abbd_level0_row2\" class=\"row_heading level0 row2\" >2</th>\n",
       "      <td id=\"T_4abbd_row2_col0\" class=\"data row2 col0\" >FPT</td>\n",
       "      <td id=\"T_4abbd_row2_col1\" class=\"data row2 col1\" >2024</td>\n",
       "      <td id=\"T_4abbd_row2_col2\" class=\"data row2 col2\" >Q4</td>\n",
       "      <td id=\"T_4abbd_row2_col3\" class=\"data row2 col3\" >1,438,028</td>\n",
       "      <td id=\"T_4abbd_row2_col4\" class=\"data row2 col4\" >1,636,546</td>\n",
       "      <td id=\"T_4abbd_row2_col5\" class=\"data row2 col5\" >-198,518</td>\n",
       "      <td id=\"T_4abbd_row2_col6\" class=\"data row2 col6\" >-12.13%</td>\n",
       "    </tr>\n",
       "    <tr>\n",
       "      <th id=\"T_4abbd_level0_row3\" class=\"row_heading level0 row3\" >3</th>\n",
       "      <td id=\"T_4abbd_row3_col0\" class=\"data row3 col0\" >GVREIT</td>\n",
       "      <td id=\"T_4abbd_row3_col1\" class=\"data row3 col1\" >2024</td>\n",
       "      <td id=\"T_4abbd_row3_col2\" class=\"data row3 col2\" >Q4</td>\n",
       "      <td id=\"T_4abbd_row3_col3\" class=\"data row3 col3\" >457,671</td>\n",
       "      <td id=\"T_4abbd_row3_col4\" class=\"data row3 col4\" >523,108</td>\n",
       "      <td id=\"T_4abbd_row3_col5\" class=\"data row3 col5\" >-65,437</td>\n",
       "      <td id=\"T_4abbd_row3_col6\" class=\"data row3 col6\" >-12.51%</td>\n",
       "    </tr>\n",
       "    <tr>\n",
       "      <th id=\"T_4abbd_level0_row4\" class=\"row_heading level0 row4\" >4</th>\n",
       "      <td id=\"T_4abbd_row4_col0\" class=\"data row4 col0\" >KBANK</td>\n",
       "      <td id=\"T_4abbd_row4_col1\" class=\"data row4 col1\" >2024</td>\n",
       "      <td id=\"T_4abbd_row4_col2\" class=\"data row4 col2\" >Q4</td>\n",
       "      <td id=\"T_4abbd_row4_col3\" class=\"data row4 col3\" >48,598,125</td>\n",
       "      <td id=\"T_4abbd_row4_col4\" class=\"data row4 col4\" >47,491,913</td>\n",
       "      <td id=\"T_4abbd_row4_col5\" class=\"data row4 col5\" >1,106,212</td>\n",
       "      <td id=\"T_4abbd_row4_col6\" class=\"data row4 col6\" >2.33%</td>\n",
       "    </tr>\n",
       "  </tbody>\n",
       "</table>\n"
      ],
      "text/plain": [
       "<pandas.io.formats.style.Styler at 0x1c471df20f0>"
      ]
     },
     "execution_count": 22,
     "metadata": {},
     "output_type": "execute_result"
    }
   ],
   "source": [
    "dfm = pd.merge(dfc_grp, dfp_grp, on=\"name\", suffixes=([\"_c\", \"_p\"]), how=\"inner\")\n",
    "dfm[\"inc_profit\"] = dfm[\"q_amt_c\"] - dfm[\"q_amt_p\"]\n",
    "dfm[\"percent\"] = round(dfm[\"inc_profit\"] / abs(dfm[\"q_amt_p\"]) * 100, 2)\n",
    "dfm[\"year\"] = year\n",
    "dfm[\"quarter\"] = \"Q\" + str(quarter)\n",
    "df_percent = dfm[cols]\n",
    "df_percent.head().style.format(format_dict)"
   ]
  },
  {
   "cell_type": "code",
   "execution_count": 24,
   "metadata": {},
   "outputs": [
    {
     "name": "stdout",
     "output_type": "stream",
     "text": [
      "Rows deleted: 13\n"
     ]
    }
   ],
   "source": [
    "# Create the SQL query with parameter binding\n",
    "sql = text(\"DELETE FROM qt_profits WHERE year = :year AND quarter = :quarter\")\n",
    "\n",
    "# Execute the query with parameters\n",
    "params = {'year': year, 'quarter': f'Q{quarter}'}\n",
    "rp = conlt.execute(sql, params)\n",
    "\n",
    "# Print the number of rows affected\n",
    "print(\"Rows deleted:\", rp.rowcount)"
   ]
  },
  {
   "cell_type": "code",
   "execution_count": 26,
   "metadata": {},
   "outputs": [
    {
     "data": {
      "text/html": [
       "<div>\n",
       "<style scoped>\n",
       "    .dataframe tbody tr th:only-of-type {\n",
       "        vertical-align: middle;\n",
       "    }\n",
       "\n",
       "    .dataframe tbody tr th {\n",
       "        vertical-align: top;\n",
       "    }\n",
       "\n",
       "    .dataframe thead th {\n",
       "        text-align: right;\n",
       "    }\n",
       "</style>\n",
       "<table border=\"1\" class=\"dataframe\">\n",
       "  <thead>\n",
       "    <tr style=\"text-align: right;\">\n",
       "      <th></th>\n",
       "      <th>name</th>\n",
       "      <th>id</th>\n",
       "    </tr>\n",
       "  </thead>\n",
       "  <tbody>\n",
       "    <tr>\n",
       "      <th>276</th>\n",
       "      <td>SHANG</td>\n",
       "      <td>442</td>\n",
       "    </tr>\n",
       "    <tr>\n",
       "      <th>258</th>\n",
       "      <td>SABUY</td>\n",
       "      <td>721</td>\n",
       "    </tr>\n",
       "    <tr>\n",
       "      <th>311</th>\n",
       "      <td>SUN</td>\n",
       "      <td>667</td>\n",
       "    </tr>\n",
       "    <tr>\n",
       "      <th>44</th>\n",
       "      <td>BCT</td>\n",
       "      <td>729</td>\n",
       "    </tr>\n",
       "    <tr>\n",
       "      <th>323</th>\n",
       "      <td>TASCO</td>\n",
       "      <td>502</td>\n",
       "    </tr>\n",
       "  </tbody>\n",
       "</table>\n",
       "</div>"
      ],
      "text/plain": [
       "      name   id\n",
       "276  SHANG  442\n",
       "258  SABUY  721\n",
       "311    SUN  667\n",
       "44     BCT  729\n",
       "323  TASCO  502"
      ]
     },
     "execution_count": 26,
     "metadata": {},
     "output_type": "execute_result"
    }
   ],
   "source": [
    "sql = \"SELECT name, id FROM tickers\"\n",
    "tickers = pd.read_sql(sql, conlt)\n",
    "tickers.sample(5)"
   ]
  },
  {
   "cell_type": "code",
   "execution_count": 28,
   "metadata": {},
   "outputs": [
    {
     "data": {
      "text/html": [
       "<style type=\"text/css\">\n",
       "</style>\n",
       "<table id=\"T_86807\">\n",
       "  <thead>\n",
       "    <tr>\n",
       "      <th class=\"blank level0\" >&nbsp;</th>\n",
       "      <th id=\"T_86807_level0_col0\" class=\"col_heading level0 col0\" >name</th>\n",
       "      <th id=\"T_86807_level0_col1\" class=\"col_heading level0 col1\" >year</th>\n",
       "      <th id=\"T_86807_level0_col2\" class=\"col_heading level0 col2\" >quarter</th>\n",
       "      <th id=\"T_86807_level0_col3\" class=\"col_heading level0 col3\" >q_amt_c</th>\n",
       "      <th id=\"T_86807_level0_col4\" class=\"col_heading level0 col4\" >q_amt_p</th>\n",
       "      <th id=\"T_86807_level0_col5\" class=\"col_heading level0 col5\" >inc_profit</th>\n",
       "      <th id=\"T_86807_level0_col6\" class=\"col_heading level0 col6\" >percent</th>\n",
       "      <th id=\"T_86807_level0_col7\" class=\"col_heading level0 col7\" >id</th>\n",
       "    </tr>\n",
       "  </thead>\n",
       "  <tbody>\n",
       "    <tr>\n",
       "      <th id=\"T_86807_level0_row0\" class=\"row_heading level0 row0\" >0</th>\n",
       "      <td id=\"T_86807_row0_col0\" class=\"data row0 col0\" >BAY</td>\n",
       "      <td id=\"T_86807_row0_col1\" class=\"data row0 col1\" >2024</td>\n",
       "      <td id=\"T_86807_row0_col2\" class=\"data row0 col2\" >Q4</td>\n",
       "      <td id=\"T_86807_row0_col3\" class=\"data row0 col3\" >29,699,751</td>\n",
       "      <td id=\"T_86807_row0_col4\" class=\"data row0 col4\" >31,155,715</td>\n",
       "      <td id=\"T_86807_row0_col5\" class=\"data row0 col5\" >-1,455,964</td>\n",
       "      <td id=\"T_86807_row0_col6\" class=\"data row0 col6\" >-4.67%</td>\n",
       "      <td id=\"T_86807_row0_col7\" class=\"data row0 col7\" >49</td>\n",
       "    </tr>\n",
       "    <tr>\n",
       "      <th id=\"T_86807_level0_row1\" class=\"row_heading level0 row1\" >1</th>\n",
       "      <td id=\"T_86807_row1_col0\" class=\"data row1 col0\" >BBL</td>\n",
       "      <td id=\"T_86807_row1_col1\" class=\"data row1 col1\" >2024</td>\n",
       "      <td id=\"T_86807_row1_col2\" class=\"data row1 col2\" >Q4</td>\n",
       "      <td id=\"T_86807_row1_col3\" class=\"data row1 col3\" >45,211,145</td>\n",
       "      <td id=\"T_86807_row1_col4\" class=\"data row1 col4\" >43,669,640</td>\n",
       "      <td id=\"T_86807_row1_col5\" class=\"data row1 col5\" >1,541,505</td>\n",
       "      <td id=\"T_86807_row1_col6\" class=\"data row1 col6\" >3.53%</td>\n",
       "      <td id=\"T_86807_row1_col7\" class=\"data row1 col7\" >50</td>\n",
       "    </tr>\n",
       "    <tr>\n",
       "      <th id=\"T_86807_level0_row2\" class=\"row_heading level0 row2\" >2</th>\n",
       "      <td id=\"T_86807_row2_col0\" class=\"data row2 col0\" >FPT</td>\n",
       "      <td id=\"T_86807_row2_col1\" class=\"data row2 col1\" >2024</td>\n",
       "      <td id=\"T_86807_row2_col2\" class=\"data row2 col2\" >Q4</td>\n",
       "      <td id=\"T_86807_row2_col3\" class=\"data row2 col3\" >1,438,028</td>\n",
       "      <td id=\"T_86807_row2_col4\" class=\"data row2 col4\" >1,636,546</td>\n",
       "      <td id=\"T_86807_row2_col5\" class=\"data row2 col5\" >-198,518</td>\n",
       "      <td id=\"T_86807_row2_col6\" class=\"data row2 col6\" >-12.13%</td>\n",
       "      <td id=\"T_86807_row2_col7\" class=\"data row2 col7\" >746</td>\n",
       "    </tr>\n",
       "    <tr>\n",
       "      <th id=\"T_86807_level0_row3\" class=\"row_heading level0 row3\" >3</th>\n",
       "      <td id=\"T_86807_row3_col0\" class=\"data row3 col0\" >GVREIT</td>\n",
       "      <td id=\"T_86807_row3_col1\" class=\"data row3 col1\" >2024</td>\n",
       "      <td id=\"T_86807_row3_col2\" class=\"data row3 col2\" >Q4</td>\n",
       "      <td id=\"T_86807_row3_col3\" class=\"data row3 col3\" >457,671</td>\n",
       "      <td id=\"T_86807_row3_col4\" class=\"data row3 col4\" >523,108</td>\n",
       "      <td id=\"T_86807_row3_col5\" class=\"data row3 col5\" >-65,437</td>\n",
       "      <td id=\"T_86807_row3_col6\" class=\"data row3 col6\" >-12.51%</td>\n",
       "      <td id=\"T_86807_row3_col7\" class=\"data row3 col7\" >654</td>\n",
       "    </tr>\n",
       "    <tr>\n",
       "      <th id=\"T_86807_level0_row4\" class=\"row_heading level0 row4\" >4</th>\n",
       "      <td id=\"T_86807_row4_col0\" class=\"data row4 col0\" >KBANK</td>\n",
       "      <td id=\"T_86807_row4_col1\" class=\"data row4 col1\" >2024</td>\n",
       "      <td id=\"T_86807_row4_col2\" class=\"data row4 col2\" >Q4</td>\n",
       "      <td id=\"T_86807_row4_col3\" class=\"data row4 col3\" >48,598,125</td>\n",
       "      <td id=\"T_86807_row4_col4\" class=\"data row4 col4\" >47,491,913</td>\n",
       "      <td id=\"T_86807_row4_col5\" class=\"data row4 col5\" >1,106,212</td>\n",
       "      <td id=\"T_86807_row4_col6\" class=\"data row4 col6\" >2.33%</td>\n",
       "      <td id=\"T_86807_row4_col7\" class=\"data row4 col7\" >245</td>\n",
       "    </tr>\n",
       "  </tbody>\n",
       "</table>\n"
      ],
      "text/plain": [
       "<pandas.io.formats.style.Styler at 0x1c471df2540>"
      ]
     },
     "execution_count": 28,
     "metadata": {},
     "output_type": "execute_result"
    }
   ],
   "source": [
    "df_ins = pd.merge(df_percent, tickers, on=\"name\", how=\"inner\")\n",
    "df_ins.head().style.format(format_dict)"
   ]
  },
  {
   "cell_type": "code",
   "execution_count": 30,
   "metadata": {},
   "outputs": [],
   "source": [
    "# Convert DataFrame to list of records\n",
    "rcds = df_ins.values.tolist()\n",
    "\n",
    "# Define column names in the same order as values\n",
    "columns = ['name', 'year', 'quarter', 'latest_amt', 'previous_amt', 'inc_amt', 'inc_pct', 'ticker_id']\n",
    "\n",
    "# SQL insert statement with named parameters\n",
    "sql = text(\"\"\"\n",
    "    INSERT INTO qt_profits \n",
    "    (name, year, quarter, latest_amt, previous_amt, inc_amt, inc_pct, ticker_id)\n",
    "    VALUES (:name, :year, :quarter, :latest_amt, :previous_amt, :inc_amt, :inc_pct, :ticker_id)\n",
    "\"\"\")\n",
    "\n",
    "try:\n",
    "    # Execute inserts\n",
    "    for rcd in rcds:\n",
    "        # Convert list to dictionary\n",
    "        params = dict(zip(columns, rcd))\n",
    "        conlt.execute(sql, params)\n",
    "except Exception as e:\n",
    "    raise e"
   ]
  },
  {
   "cell_type": "markdown",
   "metadata": {},
   "source": [
    "### End of loop"
   ]
  },
  {
   "cell_type": "code",
   "execution_count": 32,
   "metadata": {},
   "outputs": [
    {
     "data": {
      "text/html": [
       "<style type=\"text/css\">\n",
       "</style>\n",
       "<table id=\"T_a180b\">\n",
       "  <thead>\n",
       "    <tr>\n",
       "      <th class=\"blank level0\" >&nbsp;</th>\n",
       "      <th id=\"T_a180b_level0_col0\" class=\"col_heading level0 col0\" >name</th>\n",
       "      <th id=\"T_a180b_level0_col1\" class=\"col_heading level0 col1\" >year</th>\n",
       "      <th id=\"T_a180b_level0_col2\" class=\"col_heading level0 col2\" >quarter</th>\n",
       "      <th id=\"T_a180b_level0_col3\" class=\"col_heading level0 col3\" >q_amt_c</th>\n",
       "      <th id=\"T_a180b_level0_col4\" class=\"col_heading level0 col4\" >q_amt_p</th>\n",
       "      <th id=\"T_a180b_level0_col5\" class=\"col_heading level0 col5\" >inc_profit</th>\n",
       "      <th id=\"T_a180b_level0_col6\" class=\"col_heading level0 col6\" >percent</th>\n",
       "    </tr>\n",
       "  </thead>\n",
       "  <tbody>\n",
       "    <tr>\n",
       "      <th id=\"T_a180b_level0_row0\" class=\"row_heading level0 row0\" >0</th>\n",
       "      <td id=\"T_a180b_row0_col0\" class=\"data row0 col0\" >BAY</td>\n",
       "      <td id=\"T_a180b_row0_col1\" class=\"data row0 col1\" >2024</td>\n",
       "      <td id=\"T_a180b_row0_col2\" class=\"data row0 col2\" >Q4</td>\n",
       "      <td id=\"T_a180b_row0_col3\" class=\"data row0 col3\" >29,699,751</td>\n",
       "      <td id=\"T_a180b_row0_col4\" class=\"data row0 col4\" >31,155,715</td>\n",
       "      <td id=\"T_a180b_row0_col5\" class=\"data row0 col5\" >-1,455,964</td>\n",
       "      <td id=\"T_a180b_row0_col6\" class=\"data row0 col6\" >-4.67%</td>\n",
       "    </tr>\n",
       "    <tr>\n",
       "      <th id=\"T_a180b_level0_row1\" class=\"row_heading level0 row1\" >1</th>\n",
       "      <td id=\"T_a180b_row1_col0\" class=\"data row1 col0\" >BBL</td>\n",
       "      <td id=\"T_a180b_row1_col1\" class=\"data row1 col1\" >2024</td>\n",
       "      <td id=\"T_a180b_row1_col2\" class=\"data row1 col2\" >Q4</td>\n",
       "      <td id=\"T_a180b_row1_col3\" class=\"data row1 col3\" >45,211,145</td>\n",
       "      <td id=\"T_a180b_row1_col4\" class=\"data row1 col4\" >43,669,640</td>\n",
       "      <td id=\"T_a180b_row1_col5\" class=\"data row1 col5\" >1,541,505</td>\n",
       "      <td id=\"T_a180b_row1_col6\" class=\"data row1 col6\" >3.53%</td>\n",
       "    </tr>\n",
       "    <tr>\n",
       "      <th id=\"T_a180b_level0_row2\" class=\"row_heading level0 row2\" >2</th>\n",
       "      <td id=\"T_a180b_row2_col0\" class=\"data row2 col0\" >FPT</td>\n",
       "      <td id=\"T_a180b_row2_col1\" class=\"data row2 col1\" >2024</td>\n",
       "      <td id=\"T_a180b_row2_col2\" class=\"data row2 col2\" >Q4</td>\n",
       "      <td id=\"T_a180b_row2_col3\" class=\"data row2 col3\" >1,438,028</td>\n",
       "      <td id=\"T_a180b_row2_col4\" class=\"data row2 col4\" >1,636,546</td>\n",
       "      <td id=\"T_a180b_row2_col5\" class=\"data row2 col5\" >-198,518</td>\n",
       "      <td id=\"T_a180b_row2_col6\" class=\"data row2 col6\" >-12.13%</td>\n",
       "    </tr>\n",
       "    <tr>\n",
       "      <th id=\"T_a180b_level0_row3\" class=\"row_heading level0 row3\" >3</th>\n",
       "      <td id=\"T_a180b_row3_col0\" class=\"data row3 col0\" >GVREIT</td>\n",
       "      <td id=\"T_a180b_row3_col1\" class=\"data row3 col1\" >2024</td>\n",
       "      <td id=\"T_a180b_row3_col2\" class=\"data row3 col2\" >Q4</td>\n",
       "      <td id=\"T_a180b_row3_col3\" class=\"data row3 col3\" >457,671</td>\n",
       "      <td id=\"T_a180b_row3_col4\" class=\"data row3 col4\" >523,108</td>\n",
       "      <td id=\"T_a180b_row3_col5\" class=\"data row3 col5\" >-65,437</td>\n",
       "      <td id=\"T_a180b_row3_col6\" class=\"data row3 col6\" >-12.51%</td>\n",
       "    </tr>\n",
       "    <tr>\n",
       "      <th id=\"T_a180b_level0_row4\" class=\"row_heading level0 row4\" >4</th>\n",
       "      <td id=\"T_a180b_row4_col0\" class=\"data row4 col0\" >KBANK</td>\n",
       "      <td id=\"T_a180b_row4_col1\" class=\"data row4 col1\" >2024</td>\n",
       "      <td id=\"T_a180b_row4_col2\" class=\"data row4 col2\" >Q4</td>\n",
       "      <td id=\"T_a180b_row4_col3\" class=\"data row4 col3\" >48,598,125</td>\n",
       "      <td id=\"T_a180b_row4_col4\" class=\"data row4 col4\" >47,491,913</td>\n",
       "      <td id=\"T_a180b_row4_col5\" class=\"data row4 col5\" >1,106,212</td>\n",
       "      <td id=\"T_a180b_row4_col6\" class=\"data row4 col6\" >2.33%</td>\n",
       "    </tr>\n",
       "  </tbody>\n",
       "</table>\n"
      ],
      "text/plain": [
       "<pandas.io.formats.style.Styler at 0x1c471de7290>"
      ]
     },
     "execution_count": 32,
     "metadata": {},
     "output_type": "execute_result"
    }
   ],
   "source": [
    "criteria_1 = df_ins.q_amt_c > 440_000\n",
    "df_ins.loc[criteria_1, cols].head().style.format(format_dict)"
   ]
  },
  {
   "cell_type": "code",
   "execution_count": 34,
   "metadata": {},
   "outputs": [
    {
     "data": {
      "text/html": [
       "<style type=\"text/css\">\n",
       "</style>\n",
       "<table id=\"T_9bbd8\">\n",
       "  <thead>\n",
       "    <tr>\n",
       "      <th class=\"blank level0\" >&nbsp;</th>\n",
       "      <th id=\"T_9bbd8_level0_col0\" class=\"col_heading level0 col0\" >name</th>\n",
       "      <th id=\"T_9bbd8_level0_col1\" class=\"col_heading level0 col1\" >year</th>\n",
       "      <th id=\"T_9bbd8_level0_col2\" class=\"col_heading level0 col2\" >quarter</th>\n",
       "      <th id=\"T_9bbd8_level0_col3\" class=\"col_heading level0 col3\" >q_amt_c</th>\n",
       "      <th id=\"T_9bbd8_level0_col4\" class=\"col_heading level0 col4\" >q_amt_p</th>\n",
       "      <th id=\"T_9bbd8_level0_col5\" class=\"col_heading level0 col5\" >inc_profit</th>\n",
       "      <th id=\"T_9bbd8_level0_col6\" class=\"col_heading level0 col6\" >percent</th>\n",
       "    </tr>\n",
       "  </thead>\n",
       "  <tbody>\n",
       "    <tr>\n",
       "      <th id=\"T_9bbd8_level0_row0\" class=\"row_heading level0 row0\" >0</th>\n",
       "      <td id=\"T_9bbd8_row0_col0\" class=\"data row0 col0\" >BAY</td>\n",
       "      <td id=\"T_9bbd8_row0_col1\" class=\"data row0 col1\" >2024</td>\n",
       "      <td id=\"T_9bbd8_row0_col2\" class=\"data row0 col2\" >Q4</td>\n",
       "      <td id=\"T_9bbd8_row0_col3\" class=\"data row0 col3\" >29,699,751</td>\n",
       "      <td id=\"T_9bbd8_row0_col4\" class=\"data row0 col4\" >31,155,715</td>\n",
       "      <td id=\"T_9bbd8_row0_col5\" class=\"data row0 col5\" >-1,455,964</td>\n",
       "      <td id=\"T_9bbd8_row0_col6\" class=\"data row0 col6\" >-4.67%</td>\n",
       "    </tr>\n",
       "    <tr>\n",
       "      <th id=\"T_9bbd8_level0_row1\" class=\"row_heading level0 row1\" >1</th>\n",
       "      <td id=\"T_9bbd8_row1_col0\" class=\"data row1 col0\" >BBL</td>\n",
       "      <td id=\"T_9bbd8_row1_col1\" class=\"data row1 col1\" >2024</td>\n",
       "      <td id=\"T_9bbd8_row1_col2\" class=\"data row1 col2\" >Q4</td>\n",
       "      <td id=\"T_9bbd8_row1_col3\" class=\"data row1 col3\" >45,211,145</td>\n",
       "      <td id=\"T_9bbd8_row1_col4\" class=\"data row1 col4\" >43,669,640</td>\n",
       "      <td id=\"T_9bbd8_row1_col5\" class=\"data row1 col5\" >1,541,505</td>\n",
       "      <td id=\"T_9bbd8_row1_col6\" class=\"data row1 col6\" >3.53%</td>\n",
       "    </tr>\n",
       "    <tr>\n",
       "      <th id=\"T_9bbd8_level0_row2\" class=\"row_heading level0 row2\" >2</th>\n",
       "      <td id=\"T_9bbd8_row2_col0\" class=\"data row2 col0\" >FPT</td>\n",
       "      <td id=\"T_9bbd8_row2_col1\" class=\"data row2 col1\" >2024</td>\n",
       "      <td id=\"T_9bbd8_row2_col2\" class=\"data row2 col2\" >Q4</td>\n",
       "      <td id=\"T_9bbd8_row2_col3\" class=\"data row2 col3\" >1,438,028</td>\n",
       "      <td id=\"T_9bbd8_row2_col4\" class=\"data row2 col4\" >1,636,546</td>\n",
       "      <td id=\"T_9bbd8_row2_col5\" class=\"data row2 col5\" >-198,518</td>\n",
       "      <td id=\"T_9bbd8_row2_col6\" class=\"data row2 col6\" >-12.13%</td>\n",
       "    </tr>\n",
       "    <tr>\n",
       "      <th id=\"T_9bbd8_level0_row3\" class=\"row_heading level0 row3\" >3</th>\n",
       "      <td id=\"T_9bbd8_row3_col0\" class=\"data row3 col0\" >GVREIT</td>\n",
       "      <td id=\"T_9bbd8_row3_col1\" class=\"data row3 col1\" >2024</td>\n",
       "      <td id=\"T_9bbd8_row3_col2\" class=\"data row3 col2\" >Q4</td>\n",
       "      <td id=\"T_9bbd8_row3_col3\" class=\"data row3 col3\" >457,671</td>\n",
       "      <td id=\"T_9bbd8_row3_col4\" class=\"data row3 col4\" >523,108</td>\n",
       "      <td id=\"T_9bbd8_row3_col5\" class=\"data row3 col5\" >-65,437</td>\n",
       "      <td id=\"T_9bbd8_row3_col6\" class=\"data row3 col6\" >-12.51%</td>\n",
       "    </tr>\n",
       "    <tr>\n",
       "      <th id=\"T_9bbd8_level0_row4\" class=\"row_heading level0 row4\" >4</th>\n",
       "      <td id=\"T_9bbd8_row4_col0\" class=\"data row4 col0\" >KBANK</td>\n",
       "      <td id=\"T_9bbd8_row4_col1\" class=\"data row4 col1\" >2024</td>\n",
       "      <td id=\"T_9bbd8_row4_col2\" class=\"data row4 col2\" >Q4</td>\n",
       "      <td id=\"T_9bbd8_row4_col3\" class=\"data row4 col3\" >48,598,125</td>\n",
       "      <td id=\"T_9bbd8_row4_col4\" class=\"data row4 col4\" >47,491,913</td>\n",
       "      <td id=\"T_9bbd8_row4_col5\" class=\"data row4 col5\" >1,106,212</td>\n",
       "      <td id=\"T_9bbd8_row4_col6\" class=\"data row4 col6\" >2.33%</td>\n",
       "    </tr>\n",
       "  </tbody>\n",
       "</table>\n"
      ],
      "text/plain": [
       "<pandas.io.formats.style.Styler at 0x1c472d0e9f0>"
      ]
     },
     "execution_count": 34,
     "metadata": {},
     "output_type": "execute_result"
    }
   ],
   "source": [
    "criteria_2 = df_ins.q_amt_p > 400_000\n",
    "df_ins.loc[criteria_2, cols].head().style.format(format_dict)"
   ]
  },
  {
   "cell_type": "code",
   "execution_count": 36,
   "metadata": {},
   "outputs": [
    {
     "data": {
      "text/html": [
       "<style type=\"text/css\">\n",
       "</style>\n",
       "<table id=\"T_0c160\">\n",
       "  <thead>\n",
       "    <tr>\n",
       "      <th class=\"blank level0\" >&nbsp;</th>\n",
       "      <th id=\"T_0c160_level0_col0\" class=\"col_heading level0 col0\" >name</th>\n",
       "      <th id=\"T_0c160_level0_col1\" class=\"col_heading level0 col1\" >year</th>\n",
       "      <th id=\"T_0c160_level0_col2\" class=\"col_heading level0 col2\" >quarter</th>\n",
       "      <th id=\"T_0c160_level0_col3\" class=\"col_heading level0 col3\" >q_amt_c</th>\n",
       "      <th id=\"T_0c160_level0_col4\" class=\"col_heading level0 col4\" >q_amt_p</th>\n",
       "      <th id=\"T_0c160_level0_col5\" class=\"col_heading level0 col5\" >inc_profit</th>\n",
       "      <th id=\"T_0c160_level0_col6\" class=\"col_heading level0 col6\" >percent</th>\n",
       "    </tr>\n",
       "  </thead>\n",
       "  <tbody>\n",
       "    <tr>\n",
       "      <th id=\"T_0c160_level0_row0\" class=\"row_heading level0 row0\" >5</th>\n",
       "      <td id=\"T_0c160_row0_col0\" class=\"data row0 col0\" >KKP</td>\n",
       "      <td id=\"T_0c160_row0_col1\" class=\"data row0 col1\" >2024</td>\n",
       "      <td id=\"T_0c160_row0_col2\" class=\"data row0 col2\" >Q4</td>\n",
       "      <td id=\"T_0c160_row0_col3\" class=\"data row0 col3\" >4,985,068</td>\n",
       "      <td id=\"T_0c160_row0_col4\" class=\"data row0 col4\" >4,249,177</td>\n",
       "      <td id=\"T_0c160_row0_col5\" class=\"data row0 col5\" >735,891</td>\n",
       "      <td id=\"T_0c160_row0_col6\" class=\"data row0 col6\" >17.32%</td>\n",
       "    </tr>\n",
       "    <tr>\n",
       "      <th id=\"T_0c160_level0_row1\" class=\"row_heading level0 row1\" >6</th>\n",
       "      <td id=\"T_0c160_row1_col0\" class=\"data row1 col0\" >KTB</td>\n",
       "      <td id=\"T_0c160_row1_col1\" class=\"data row1 col1\" >2024</td>\n",
       "      <td id=\"T_0c160_row1_col2\" class=\"data row1 col2\" >Q4</td>\n",
       "      <td id=\"T_0c160_row1_col3\" class=\"data row1 col3\" >43,855,657</td>\n",
       "      <td id=\"T_0c160_row1_col4\" class=\"data row1 col4\" >39,491,857</td>\n",
       "      <td id=\"T_0c160_row1_col5\" class=\"data row1 col5\" >4,363,800</td>\n",
       "      <td id=\"T_0c160_row1_col6\" class=\"data row1 col6\" >11.05%</td>\n",
       "    </tr>\n",
       "    <tr>\n",
       "      <th id=\"T_0c160_level0_row2\" class=\"row_heading level0 row2\" >8</th>\n",
       "      <td id=\"T_0c160_row2_col0\" class=\"data row2 col0\" >LHFG</td>\n",
       "      <td id=\"T_0c160_row2_col1\" class=\"data row2 col1\" >2024</td>\n",
       "      <td id=\"T_0c160_row2_col2\" class=\"data row2 col2\" >Q4</td>\n",
       "      <td id=\"T_0c160_row2_col3\" class=\"data row2 col3\" >2,046,992</td>\n",
       "      <td id=\"T_0c160_row2_col4\" class=\"data row2 col4\" >1,822,134</td>\n",
       "      <td id=\"T_0c160_row2_col5\" class=\"data row2 col5\" >224,858</td>\n",
       "      <td id=\"T_0c160_row2_col6\" class=\"data row2 col6\" >12.34%</td>\n",
       "    </tr>\n",
       "    <tr>\n",
       "      <th id=\"T_0c160_level0_row3\" class=\"row_heading level0 row3\" >9</th>\n",
       "      <td id=\"T_0c160_row3_col0\" class=\"data row3 col0\" >MST</td>\n",
       "      <td id=\"T_0c160_row3_col1\" class=\"data row3 col1\" >2024</td>\n",
       "      <td id=\"T_0c160_row3_col2\" class=\"data row3 col2\" >Q4</td>\n",
       "      <td id=\"T_0c160_row3_col3\" class=\"data row3 col3\" >462,132</td>\n",
       "      <td id=\"T_0c160_row3_col4\" class=\"data row3 col4\" >378,798</td>\n",
       "      <td id=\"T_0c160_row3_col5\" class=\"data row3 col5\" >83,334</td>\n",
       "      <td id=\"T_0c160_row3_col6\" class=\"data row3 col6\" >22.00%</td>\n",
       "    </tr>\n",
       "    <tr>\n",
       "      <th id=\"T_0c160_level0_row4\" class=\"row_heading level0 row4\" >12</th>\n",
       "      <td id=\"T_0c160_row4_col0\" class=\"data row4 col0\" >SCC</td>\n",
       "      <td id=\"T_0c160_row4_col1\" class=\"data row4 col1\" >2024</td>\n",
       "      <td id=\"T_0c160_row4_col2\" class=\"data row4 col2\" >Q4</td>\n",
       "      <td id=\"T_0c160_row4_col3\" class=\"data row4 col3\" >6,341,638</td>\n",
       "      <td id=\"T_0c160_row4_col4\" class=\"data row4 col4\" >5,719,716</td>\n",
       "      <td id=\"T_0c160_row4_col5\" class=\"data row4 col5\" >621,922</td>\n",
       "      <td id=\"T_0c160_row4_col6\" class=\"data row4 col6\" >10.87%</td>\n",
       "    </tr>\n",
       "  </tbody>\n",
       "</table>\n"
      ],
      "text/plain": [
       "<pandas.io.formats.style.Styler at 0x1c471df3500>"
      ]
     },
     "execution_count": 36,
     "metadata": {},
     "output_type": "execute_result"
    }
   ],
   "source": [
    "criteria_3 = df_ins.percent > 10.00\n",
    "df_ins.loc[criteria_3, cols].head().style.format(format_dict)"
   ]
  },
  {
   "cell_type": "code",
   "execution_count": 38,
   "metadata": {},
   "outputs": [
    {
     "data": {
      "text/html": [
       "<style type=\"text/css\">\n",
       "</style>\n",
       "<table id=\"T_70f73\">\n",
       "  <thead>\n",
       "    <tr>\n",
       "      <th class=\"blank level0\" >&nbsp;</th>\n",
       "      <th id=\"T_70f73_level0_col0\" class=\"col_heading level0 col0\" >name</th>\n",
       "      <th id=\"T_70f73_level0_col1\" class=\"col_heading level0 col1\" >year</th>\n",
       "      <th id=\"T_70f73_level0_col2\" class=\"col_heading level0 col2\" >quarter</th>\n",
       "      <th id=\"T_70f73_level0_col3\" class=\"col_heading level0 col3\" >q_amt_c</th>\n",
       "      <th id=\"T_70f73_level0_col4\" class=\"col_heading level0 col4\" >q_amt_p</th>\n",
       "      <th id=\"T_70f73_level0_col5\" class=\"col_heading level0 col5\" >inc_profit</th>\n",
       "      <th id=\"T_70f73_level0_col6\" class=\"col_heading level0 col6\" >percent</th>\n",
       "    </tr>\n",
       "  </thead>\n",
       "  <tbody>\n",
       "    <tr>\n",
       "      <th id=\"T_70f73_level0_row0\" class=\"row_heading level0 row0\" >5</th>\n",
       "      <td id=\"T_70f73_row0_col0\" class=\"data row0 col0\" >KKP</td>\n",
       "      <td id=\"T_70f73_row0_col1\" class=\"data row0 col1\" >2024</td>\n",
       "      <td id=\"T_70f73_row0_col2\" class=\"data row0 col2\" >Q4</td>\n",
       "      <td id=\"T_70f73_row0_col3\" class=\"data row0 col3\" >4,985,068</td>\n",
       "      <td id=\"T_70f73_row0_col4\" class=\"data row0 col4\" >4,249,177</td>\n",
       "      <td id=\"T_70f73_row0_col5\" class=\"data row0 col5\" >735,891</td>\n",
       "      <td id=\"T_70f73_row0_col6\" class=\"data row0 col6\" >17.32%</td>\n",
       "    </tr>\n",
       "    <tr>\n",
       "      <th id=\"T_70f73_level0_row1\" class=\"row_heading level0 row1\" >6</th>\n",
       "      <td id=\"T_70f73_row1_col0\" class=\"data row1 col0\" >KTB</td>\n",
       "      <td id=\"T_70f73_row1_col1\" class=\"data row1 col1\" >2024</td>\n",
       "      <td id=\"T_70f73_row1_col2\" class=\"data row1 col2\" >Q4</td>\n",
       "      <td id=\"T_70f73_row1_col3\" class=\"data row1 col3\" >43,855,657</td>\n",
       "      <td id=\"T_70f73_row1_col4\" class=\"data row1 col4\" >39,491,857</td>\n",
       "      <td id=\"T_70f73_row1_col5\" class=\"data row1 col5\" >4,363,800</td>\n",
       "      <td id=\"T_70f73_row1_col6\" class=\"data row1 col6\" >11.05%</td>\n",
       "    </tr>\n",
       "    <tr>\n",
       "      <th id=\"T_70f73_level0_row2\" class=\"row_heading level0 row2\" >8</th>\n",
       "      <td id=\"T_70f73_row2_col0\" class=\"data row2 col0\" >LHFG</td>\n",
       "      <td id=\"T_70f73_row2_col1\" class=\"data row2 col1\" >2024</td>\n",
       "      <td id=\"T_70f73_row2_col2\" class=\"data row2 col2\" >Q4</td>\n",
       "      <td id=\"T_70f73_row2_col3\" class=\"data row2 col3\" >2,046,992</td>\n",
       "      <td id=\"T_70f73_row2_col4\" class=\"data row2 col4\" >1,822,134</td>\n",
       "      <td id=\"T_70f73_row2_col5\" class=\"data row2 col5\" >224,858</td>\n",
       "      <td id=\"T_70f73_row2_col6\" class=\"data row2 col6\" >12.34%</td>\n",
       "    </tr>\n",
       "    <tr>\n",
       "      <th id=\"T_70f73_level0_row3\" class=\"row_heading level0 row3\" >12</th>\n",
       "      <td id=\"T_70f73_row3_col0\" class=\"data row3 col0\" >SCC</td>\n",
       "      <td id=\"T_70f73_row3_col1\" class=\"data row3 col1\" >2024</td>\n",
       "      <td id=\"T_70f73_row3_col2\" class=\"data row3 col2\" >Q4</td>\n",
       "      <td id=\"T_70f73_row3_col3\" class=\"data row3 col3\" >6,341,638</td>\n",
       "      <td id=\"T_70f73_row3_col4\" class=\"data row3 col4\" >5,719,716</td>\n",
       "      <td id=\"T_70f73_row3_col5\" class=\"data row3 col5\" >621,922</td>\n",
       "      <td id=\"T_70f73_row3_col6\" class=\"data row3 col6\" >10.87%</td>\n",
       "    </tr>\n",
       "  </tbody>\n",
       "</table>\n"
      ],
      "text/plain": [
       "<pandas.io.formats.style.Styler at 0x1c472b842c0>"
      ]
     },
     "execution_count": 38,
     "metadata": {},
     "output_type": "execute_result"
    }
   ],
   "source": [
    "df_ins_criteria = criteria_1 & criteria_2 & criteria_3\n",
    "df_ins.loc[df_ins_criteria, cols].head().style.format(format_dict)"
   ]
  },
  {
   "cell_type": "code",
   "execution_count": 40,
   "metadata": {},
   "outputs": [
    {
     "data": {
      "text/html": [
       "<style type=\"text/css\">\n",
       "</style>\n",
       "<table id=\"T_f5929\">\n",
       "  <thead>\n",
       "    <tr>\n",
       "      <th class=\"blank level0\" >&nbsp;</th>\n",
       "      <th id=\"T_f5929_level0_col0\" class=\"col_heading level0 col0\" >name</th>\n",
       "      <th id=\"T_f5929_level0_col1\" class=\"col_heading level0 col1\" >year</th>\n",
       "      <th id=\"T_f5929_level0_col2\" class=\"col_heading level0 col2\" >quarter</th>\n",
       "      <th id=\"T_f5929_level0_col3\" class=\"col_heading level0 col3\" >q_amt_c</th>\n",
       "      <th id=\"T_f5929_level0_col4\" class=\"col_heading level0 col4\" >q_amt_p</th>\n",
       "      <th id=\"T_f5929_level0_col5\" class=\"col_heading level0 col5\" >inc_profit</th>\n",
       "      <th id=\"T_f5929_level0_col6\" class=\"col_heading level0 col6\" >percent</th>\n",
       "      <th id=\"T_f5929_level0_col7\" class=\"col_heading level0 col7\" >id</th>\n",
       "    </tr>\n",
       "  </thead>\n",
       "  <tbody>\n",
       "    <tr>\n",
       "      <th id=\"T_f5929_level0_row0\" class=\"row_heading level0 row0\" >5</th>\n",
       "      <td id=\"T_f5929_row0_col0\" class=\"data row0 col0\" >KKP</td>\n",
       "      <td id=\"T_f5929_row0_col1\" class=\"data row0 col1\" >2024</td>\n",
       "      <td id=\"T_f5929_row0_col2\" class=\"data row0 col2\" >Q4</td>\n",
       "      <td id=\"T_f5929_row0_col3\" class=\"data row0 col3\" >4,985,068</td>\n",
       "      <td id=\"T_f5929_row0_col4\" class=\"data row0 col4\" >4,249,177</td>\n",
       "      <td id=\"T_f5929_row0_col5\" class=\"data row0 col5\" >735,891</td>\n",
       "      <td id=\"T_f5929_row0_col6\" class=\"data row0 col6\" >17.32%</td>\n",
       "      <td id=\"T_f5929_row0_col7\" class=\"data row0 col7\" >255</td>\n",
       "    </tr>\n",
       "    <tr>\n",
       "      <th id=\"T_f5929_level0_row1\" class=\"row_heading level0 row1\" >8</th>\n",
       "      <td id=\"T_f5929_row1_col0\" class=\"data row1 col0\" >LHFG</td>\n",
       "      <td id=\"T_f5929_row1_col1\" class=\"data row1 col1\" >2024</td>\n",
       "      <td id=\"T_f5929_row1_col2\" class=\"data row1 col2\" >Q4</td>\n",
       "      <td id=\"T_f5929_row1_col3\" class=\"data row1 col3\" >2,046,992</td>\n",
       "      <td id=\"T_f5929_row1_col4\" class=\"data row1 col4\" >1,822,134</td>\n",
       "      <td id=\"T_f5929_row1_col5\" class=\"data row1 col5\" >224,858</td>\n",
       "      <td id=\"T_f5929_row1_col6\" class=\"data row1 col6\" >12.34%</td>\n",
       "      <td id=\"T_f5929_row1_col7\" class=\"data row1 col7\" >268</td>\n",
       "    </tr>\n",
       "    <tr>\n",
       "      <th id=\"T_f5929_level0_row2\" class=\"row_heading level0 row2\" >6</th>\n",
       "      <td id=\"T_f5929_row2_col0\" class=\"data row2 col0\" >KTB</td>\n",
       "      <td id=\"T_f5929_row2_col1\" class=\"data row2 col1\" >2024</td>\n",
       "      <td id=\"T_f5929_row2_col2\" class=\"data row2 col2\" >Q4</td>\n",
       "      <td id=\"T_f5929_row2_col3\" class=\"data row2 col3\" >43,855,657</td>\n",
       "      <td id=\"T_f5929_row2_col4\" class=\"data row2 col4\" >39,491,857</td>\n",
       "      <td id=\"T_f5929_row2_col5\" class=\"data row2 col5\" >4,363,800</td>\n",
       "      <td id=\"T_f5929_row2_col6\" class=\"data row2 col6\" >11.05%</td>\n",
       "      <td id=\"T_f5929_row2_col7\" class=\"data row2 col7\" >258</td>\n",
       "    </tr>\n",
       "    <tr>\n",
       "      <th id=\"T_f5929_level0_row3\" class=\"row_heading level0 row3\" >12</th>\n",
       "      <td id=\"T_f5929_row3_col0\" class=\"data row3 col0\" >SCC</td>\n",
       "      <td id=\"T_f5929_row3_col1\" class=\"data row3 col1\" >2024</td>\n",
       "      <td id=\"T_f5929_row3_col2\" class=\"data row3 col2\" >Q4</td>\n",
       "      <td id=\"T_f5929_row3_col3\" class=\"data row3 col3\" >6,341,638</td>\n",
       "      <td id=\"T_f5929_row3_col4\" class=\"data row3 col4\" >5,719,716</td>\n",
       "      <td id=\"T_f5929_row3_col5\" class=\"data row3 col5\" >621,922</td>\n",
       "      <td id=\"T_f5929_row3_col6\" class=\"data row3 col6\" >10.87%</td>\n",
       "      <td id=\"T_f5929_row3_col7\" class=\"data row3 col7\" >427</td>\n",
       "    </tr>\n",
       "  </tbody>\n",
       "</table>\n"
      ],
      "text/plain": [
       "<pandas.io.formats.style.Styler at 0x1c472d218e0>"
      ]
     },
     "execution_count": 40,
     "metadata": {},
     "output_type": "execute_result"
    }
   ],
   "source": [
    "df_ins[df_ins_criteria].sort_values(by=[\"percent\"], ascending=[False]).head().style.format(format_dict)"
   ]
  },
  {
   "cell_type": "code",
   "execution_count": 42,
   "metadata": {},
   "outputs": [
    {
     "data": {
      "text/html": [
       "<style type=\"text/css\">\n",
       "</style>\n",
       "<table id=\"T_6da48\">\n",
       "  <thead>\n",
       "    <tr>\n",
       "      <th class=\"blank level0\" >&nbsp;</th>\n",
       "      <th id=\"T_6da48_level0_col0\" class=\"col_heading level0 col0\" >name</th>\n",
       "      <th id=\"T_6da48_level0_col1\" class=\"col_heading level0 col1\" >year</th>\n",
       "      <th id=\"T_6da48_level0_col2\" class=\"col_heading level0 col2\" >quarter</th>\n",
       "      <th id=\"T_6da48_level0_col3\" class=\"col_heading level0 col3\" >q_amt_c</th>\n",
       "      <th id=\"T_6da48_level0_col4\" class=\"col_heading level0 col4\" >q_amt_p</th>\n",
       "      <th id=\"T_6da48_level0_col5\" class=\"col_heading level0 col5\" >inc_profit</th>\n",
       "      <th id=\"T_6da48_level0_col6\" class=\"col_heading level0 col6\" >percent</th>\n",
       "      <th id=\"T_6da48_level0_col7\" class=\"col_heading level0 col7\" >id</th>\n",
       "    </tr>\n",
       "  </thead>\n",
       "  <tbody>\n",
       "    <tr>\n",
       "      <th id=\"T_6da48_level0_row0\" class=\"row_heading level0 row0\" >5</th>\n",
       "      <td id=\"T_6da48_row0_col0\" class=\"data row0 col0\" >KKP</td>\n",
       "      <td id=\"T_6da48_row0_col1\" class=\"data row0 col1\" >2024</td>\n",
       "      <td id=\"T_6da48_row0_col2\" class=\"data row0 col2\" >Q4</td>\n",
       "      <td id=\"T_6da48_row0_col3\" class=\"data row0 col3\" >4,985,068</td>\n",
       "      <td id=\"T_6da48_row0_col4\" class=\"data row0 col4\" >4,249,177</td>\n",
       "      <td id=\"T_6da48_row0_col5\" class=\"data row0 col5\" >735,891</td>\n",
       "      <td id=\"T_6da48_row0_col6\" class=\"data row0 col6\" >17.32%</td>\n",
       "      <td id=\"T_6da48_row0_col7\" class=\"data row0 col7\" >255</td>\n",
       "    </tr>\n",
       "    <tr>\n",
       "      <th id=\"T_6da48_level0_row1\" class=\"row_heading level0 row1\" >6</th>\n",
       "      <td id=\"T_6da48_row1_col0\" class=\"data row1 col0\" >KTB</td>\n",
       "      <td id=\"T_6da48_row1_col1\" class=\"data row1 col1\" >2024</td>\n",
       "      <td id=\"T_6da48_row1_col2\" class=\"data row1 col2\" >Q4</td>\n",
       "      <td id=\"T_6da48_row1_col3\" class=\"data row1 col3\" >43,855,657</td>\n",
       "      <td id=\"T_6da48_row1_col4\" class=\"data row1 col4\" >39,491,857</td>\n",
       "      <td id=\"T_6da48_row1_col5\" class=\"data row1 col5\" >4,363,800</td>\n",
       "      <td id=\"T_6da48_row1_col6\" class=\"data row1 col6\" >11.05%</td>\n",
       "      <td id=\"T_6da48_row1_col7\" class=\"data row1 col7\" >258</td>\n",
       "    </tr>\n",
       "    <tr>\n",
       "      <th id=\"T_6da48_level0_row2\" class=\"row_heading level0 row2\" >8</th>\n",
       "      <td id=\"T_6da48_row2_col0\" class=\"data row2 col0\" >LHFG</td>\n",
       "      <td id=\"T_6da48_row2_col1\" class=\"data row2 col1\" >2024</td>\n",
       "      <td id=\"T_6da48_row2_col2\" class=\"data row2 col2\" >Q4</td>\n",
       "      <td id=\"T_6da48_row2_col3\" class=\"data row2 col3\" >2,046,992</td>\n",
       "      <td id=\"T_6da48_row2_col4\" class=\"data row2 col4\" >1,822,134</td>\n",
       "      <td id=\"T_6da48_row2_col5\" class=\"data row2 col5\" >224,858</td>\n",
       "      <td id=\"T_6da48_row2_col6\" class=\"data row2 col6\" >12.34%</td>\n",
       "      <td id=\"T_6da48_row2_col7\" class=\"data row2 col7\" >268</td>\n",
       "    </tr>\n",
       "    <tr>\n",
       "      <th id=\"T_6da48_level0_row3\" class=\"row_heading level0 row3\" >12</th>\n",
       "      <td id=\"T_6da48_row3_col0\" class=\"data row3 col0\" >SCC</td>\n",
       "      <td id=\"T_6da48_row3_col1\" class=\"data row3 col1\" >2024</td>\n",
       "      <td id=\"T_6da48_row3_col2\" class=\"data row3 col2\" >Q4</td>\n",
       "      <td id=\"T_6da48_row3_col3\" class=\"data row3 col3\" >6,341,638</td>\n",
       "      <td id=\"T_6da48_row3_col4\" class=\"data row3 col4\" >5,719,716</td>\n",
       "      <td id=\"T_6da48_row3_col5\" class=\"data row3 col5\" >621,922</td>\n",
       "      <td id=\"T_6da48_row3_col6\" class=\"data row3 col6\" >10.87%</td>\n",
       "      <td id=\"T_6da48_row3_col7\" class=\"data row3 col7\" >427</td>\n",
       "    </tr>\n",
       "  </tbody>\n",
       "</table>\n"
      ],
      "text/plain": [
       "<pandas.io.formats.style.Styler at 0x1c472d0c4d0>"
      ]
     },
     "execution_count": 42,
     "metadata": {},
     "output_type": "execute_result"
    }
   ],
   "source": [
    "df_ins[df_ins_criteria].sort_values(by=[\"name\"], ascending=[True]).head().style.format(format_dict)"
   ]
  },
  {
   "cell_type": "code",
   "execution_count": 44,
   "metadata": {},
   "outputs": [
    {
     "data": {
      "text/html": [
       "<style type=\"text/css\">\n",
       "</style>\n",
       "<table id=\"T_f795e\">\n",
       "  <thead>\n",
       "    <tr>\n",
       "      <th class=\"blank level0\" >&nbsp;</th>\n",
       "      <th id=\"T_f795e_level0_col0\" class=\"col_heading level0 col0\" >name</th>\n",
       "      <th id=\"T_f795e_level0_col1\" class=\"col_heading level0 col1\" >year</th>\n",
       "      <th id=\"T_f795e_level0_col2\" class=\"col_heading level0 col2\" >quarter</th>\n",
       "      <th id=\"T_f795e_level0_col3\" class=\"col_heading level0 col3\" >q_amt_c</th>\n",
       "      <th id=\"T_f795e_level0_col4\" class=\"col_heading level0 col4\" >q_amt_p</th>\n",
       "      <th id=\"T_f795e_level0_col5\" class=\"col_heading level0 col5\" >inc_profit</th>\n",
       "      <th id=\"T_f795e_level0_col6\" class=\"col_heading level0 col6\" >percent</th>\n",
       "      <th id=\"T_f795e_level0_col7\" class=\"col_heading level0 col7\" >id</th>\n",
       "    </tr>\n",
       "  </thead>\n",
       "  <tbody>\n",
       "    <tr>\n",
       "      <th id=\"T_f795e_level0_row0\" class=\"row_heading level0 row0\" >5</th>\n",
       "      <td id=\"T_f795e_row0_col0\" class=\"data row0 col0\" >KKP</td>\n",
       "      <td id=\"T_f795e_row0_col1\" class=\"data row0 col1\" >2024</td>\n",
       "      <td id=\"T_f795e_row0_col2\" class=\"data row0 col2\" >Q4</td>\n",
       "      <td id=\"T_f795e_row0_col3\" class=\"data row0 col3\" >4,985,068</td>\n",
       "      <td id=\"T_f795e_row0_col4\" class=\"data row0 col4\" >4,249,177</td>\n",
       "      <td id=\"T_f795e_row0_col5\" class=\"data row0 col5\" >735,891</td>\n",
       "      <td id=\"T_f795e_row0_col6\" class=\"data row0 col6\" >17.32%</td>\n",
       "      <td id=\"T_f795e_row0_col7\" class=\"data row0 col7\" >255</td>\n",
       "    </tr>\n",
       "    <tr>\n",
       "      <th id=\"T_f795e_level0_row1\" class=\"row_heading level0 row1\" >6</th>\n",
       "      <td id=\"T_f795e_row1_col0\" class=\"data row1 col0\" >KTB</td>\n",
       "      <td id=\"T_f795e_row1_col1\" class=\"data row1 col1\" >2024</td>\n",
       "      <td id=\"T_f795e_row1_col2\" class=\"data row1 col2\" >Q4</td>\n",
       "      <td id=\"T_f795e_row1_col3\" class=\"data row1 col3\" >43,855,657</td>\n",
       "      <td id=\"T_f795e_row1_col4\" class=\"data row1 col4\" >39,491,857</td>\n",
       "      <td id=\"T_f795e_row1_col5\" class=\"data row1 col5\" >4,363,800</td>\n",
       "      <td id=\"T_f795e_row1_col6\" class=\"data row1 col6\" >11.05%</td>\n",
       "      <td id=\"T_f795e_row1_col7\" class=\"data row1 col7\" >258</td>\n",
       "    </tr>\n",
       "    <tr>\n",
       "      <th id=\"T_f795e_level0_row2\" class=\"row_heading level0 row2\" >8</th>\n",
       "      <td id=\"T_f795e_row2_col0\" class=\"data row2 col0\" >LHFG</td>\n",
       "      <td id=\"T_f795e_row2_col1\" class=\"data row2 col1\" >2024</td>\n",
       "      <td id=\"T_f795e_row2_col2\" class=\"data row2 col2\" >Q4</td>\n",
       "      <td id=\"T_f795e_row2_col3\" class=\"data row2 col3\" >2,046,992</td>\n",
       "      <td id=\"T_f795e_row2_col4\" class=\"data row2 col4\" >1,822,134</td>\n",
       "      <td id=\"T_f795e_row2_col5\" class=\"data row2 col5\" >224,858</td>\n",
       "      <td id=\"T_f795e_row2_col6\" class=\"data row2 col6\" >12.34%</td>\n",
       "      <td id=\"T_f795e_row2_col7\" class=\"data row2 col7\" >268</td>\n",
       "    </tr>\n",
       "    <tr>\n",
       "      <th id=\"T_f795e_level0_row3\" class=\"row_heading level0 row3\" >12</th>\n",
       "      <td id=\"T_f795e_row3_col0\" class=\"data row3 col0\" >SCC</td>\n",
       "      <td id=\"T_f795e_row3_col1\" class=\"data row3 col1\" >2024</td>\n",
       "      <td id=\"T_f795e_row3_col2\" class=\"data row3 col2\" >Q4</td>\n",
       "      <td id=\"T_f795e_row3_col3\" class=\"data row3 col3\" >6,341,638</td>\n",
       "      <td id=\"T_f795e_row3_col4\" class=\"data row3 col4\" >5,719,716</td>\n",
       "      <td id=\"T_f795e_row3_col5\" class=\"data row3 col5\" >621,922</td>\n",
       "      <td id=\"T_f795e_row3_col6\" class=\"data row3 col6\" >10.87%</td>\n",
       "      <td id=\"T_f795e_row3_col7\" class=\"data row3 col7\" >427</td>\n",
       "    </tr>\n",
       "  </tbody>\n",
       "</table>\n"
      ],
      "text/plain": [
       "<pandas.io.formats.style.Styler at 0x1c472d0d610>"
      ]
     },
     "execution_count": 44,
     "metadata": {},
     "output_type": "execute_result"
    }
   ],
   "source": [
    "df_ins[df_ins_criteria].sort_values(by=[\"name\"], ascending=[True]).head().style.format(format_dict)"
   ]
  },
  {
   "cell_type": "code",
   "execution_count": 50,
   "metadata": {},
   "outputs": [],
   "source": [
    "conlt.commit()\n",
    "conlt.close()"
   ]
  },
  {
   "cell_type": "code",
   "execution_count": null,
   "metadata": {},
   "outputs": [],
   "source": []
  }
 ],
 "metadata": {
  "anaconda-cloud": {},
  "kernelspec": {
   "display_name": "Python 3 (ipykernel)",
   "language": "python",
   "name": "python3"
  },
  "language_info": {
   "codemirror_mode": {
    "name": "ipython",
    "version": 3
   },
   "file_extension": ".py",
   "mimetype": "text/x-python",
   "name": "python",
   "nbconvert_exporter": "python",
   "pygments_lexer": "ipython3",
   "version": "3.12.3"
  }
 },
 "nbformat": 4,
 "nbformat_minor": 4
}
