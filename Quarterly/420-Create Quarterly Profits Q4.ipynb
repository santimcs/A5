{
 "cells": [
  {
   "cell_type": "markdown",
   "metadata": {},
   "source": [
    "### Restart and Run All Cells"
   ]
  },
  {
   "cell_type": "code",
   "execution_count": 2,
   "metadata": {},
   "outputs": [
    {
     "name": "stdout",
     "output_type": "stream",
     "text": [
      "2025:02:22 12:30:59\n"
     ]
    }
   ],
   "source": [
    "import pandas as pd\n",
    "from datetime import date, timedelta, datetime\n",
    "from sqlalchemy import create_engine, text\n",
    "engine = create_engine(\"sqlite:///c:\\\\ruby\\\\portlt\\\\db\\\\development.sqlite3\")\n",
    "conlt = engine.connect()\n",
    "year = 2024\n",
    "quarter = 4\n",
    "current_time = datetime.now()\n",
    "formatted_time = current_time.strftime(\"%Y:%m:%d %H:%M:%S\")\n",
    "print(formatted_time)"
   ]
  },
  {
   "cell_type": "code",
   "execution_count": 3,
   "metadata": {},
   "outputs": [],
   "source": [
    "cols = 'name year quarter q_amt_c q_amt_p inc_profit percent'.split()\n",
    "\n",
    "format_dict = {\n",
    "                'q_amt':'{:,}','q_amt_c':'{:,}','q_amt_p':'{:,}','inc_profit':'{:,}',\n",
    "                'yoy_gain':'{:,}','acc_gain':'{:,}',   \n",
    "                'latest_amt':'{:,}','previous_amt':'{:,}','inc_amt':'{:,}',\n",
    "                'q_eps':'{:.4f}','y_eps':'{:.4f}','aq_eps':'{:.4f}','ay_eps':'{:.4f}',\n",
    "                'percent':'{:.2f}%','inc_pct':'{:.2f}%'\n",
    "              }"
   ]
  },
  {
   "cell_type": "code",
   "execution_count": 4,
   "metadata": {},
   "outputs": [
    {
     "name": "stdout",
     "output_type": "stream",
     "text": [
      "\n",
      "SELECT name,year,quarter,q_amt \n",
      "FROM epss \n",
      "WHERE (year = 2024 AND quarter <= 4) \n",
      "OR (year = 2024-1 AND quarter >= 4+1)\n",
      "ORDER BY year DESC, quarter DESC\n",
      "\n"
     ]
    }
   ],
   "source": [
    "sql = \"\"\"\n",
    "SELECT name,year,quarter,q_amt \n",
    "FROM epss \n",
    "WHERE (year = %s AND quarter <= %s) \n",
    "OR (year = %s-1 AND quarter >= %s+1)\n",
    "ORDER BY year DESC, quarter DESC\n",
    "\"\"\"\n",
    "sql = sql % (year, quarter, year, quarter)\n",
    "print(sql)"
   ]
  },
  {
   "cell_type": "code",
   "execution_count": 5,
   "metadata": {},
   "outputs": [
    {
     "data": {
      "text/plain": [
       "(97, 5)"
      ]
     },
     "execution_count": 5,
     "metadata": {},
     "output_type": "execute_result"
    }
   ],
   "source": [
    "dfc = pd.read_sql(sql, conlt)\n",
    "dfc[\"Counter\"] = 1\n",
    "dfc_grp = dfc.groupby([\"name\"], as_index=False).sum()\n",
    "dfc_grp = dfc_grp[dfc_grp[\"Counter\"] == 4]\n",
    "dfc_grp.shape"
   ]
  },
  {
   "cell_type": "code",
   "execution_count": 6,
   "metadata": {},
   "outputs": [
    {
     "name": "stdout",
     "output_type": "stream",
     "text": [
      "\n",
      "SELECT name,year,quarter,q_amt \n",
      "FROM epss \n",
      "WHERE (year = 2024 AND quarter <= 4-1) \n",
      "OR (year = 2024-1 AND quarter >= 4) \n",
      "ORDER BY year DESC, quarter DESC\n"
     ]
    }
   ],
   "source": [
    "sql = \"\"\"\n",
    "SELECT name,year,quarter,q_amt \n",
    "FROM epss \n",
    "WHERE (year = %s AND quarter <= %s-1) \n",
    "OR (year = %s-1 AND quarter >= %s) \n",
    "ORDER BY year DESC, quarter DESC\"\"\"\n",
    "sql = sql % (year, quarter, year, quarter)\n",
    "print(sql)"
   ]
  },
  {
   "cell_type": "code",
   "execution_count": 7,
   "metadata": {},
   "outputs": [
    {
     "data": {
      "text/html": [
       "<style type=\"text/css\">\n",
       "</style>\n",
       "<table id=\"T_8b471\">\n",
       "  <thead>\n",
       "    <tr>\n",
       "      <th class=\"blank level0\" >&nbsp;</th>\n",
       "      <th id=\"T_8b471_level0_col0\" class=\"col_heading level0 col0\" >name</th>\n",
       "      <th id=\"T_8b471_level0_col1\" class=\"col_heading level0 col1\" >year</th>\n",
       "      <th id=\"T_8b471_level0_col2\" class=\"col_heading level0 col2\" >quarter</th>\n",
       "      <th id=\"T_8b471_level0_col3\" class=\"col_heading level0 col3\" >q_amt</th>\n",
       "      <th id=\"T_8b471_level0_col4\" class=\"col_heading level0 col4\" >Counter</th>\n",
       "    </tr>\n",
       "  </thead>\n",
       "  <tbody>\n",
       "    <tr>\n",
       "      <th id=\"T_8b471_level0_row0\" class=\"row_heading level0 row0\" >0</th>\n",
       "      <td id=\"T_8b471_row0_col0\" class=\"data row0 col0\" >3BBIF</td>\n",
       "      <td id=\"T_8b471_row0_col1\" class=\"data row0 col1\" >8095</td>\n",
       "      <td id=\"T_8b471_row0_col2\" class=\"data row0 col2\" >10</td>\n",
       "      <td id=\"T_8b471_row0_col3\" class=\"data row0 col3\" >2,443,671</td>\n",
       "      <td id=\"T_8b471_row0_col4\" class=\"data row0 col4\" >4</td>\n",
       "    </tr>\n",
       "    <tr>\n",
       "      <th id=\"T_8b471_level0_row1\" class=\"row_heading level0 row1\" >1</th>\n",
       "      <td id=\"T_8b471_row1_col0\" class=\"data row1 col0\" >ACE</td>\n",
       "      <td id=\"T_8b471_row1_col1\" class=\"data row1 col1\" >8095</td>\n",
       "      <td id=\"T_8b471_row1_col2\" class=\"data row1 col2\" >10</td>\n",
       "      <td id=\"T_8b471_row1_col3\" class=\"data row1 col3\" >750,207</td>\n",
       "      <td id=\"T_8b471_row1_col4\" class=\"data row1 col4\" >4</td>\n",
       "    </tr>\n",
       "    <tr>\n",
       "      <th id=\"T_8b471_level0_row2\" class=\"row_heading level0 row2\" >2</th>\n",
       "      <td id=\"T_8b471_row2_col0\" class=\"data row2 col0\" >ADVANC</td>\n",
       "      <td id=\"T_8b471_row2_col1\" class=\"data row2 col1\" >8095</td>\n",
       "      <td id=\"T_8b471_row2_col2\" class=\"data row2 col2\" >10</td>\n",
       "      <td id=\"T_8b471_row2_col3\" class=\"data row2 col3\" >32,818,977</td>\n",
       "      <td id=\"T_8b471_row2_col4\" class=\"data row2 col4\" >4</td>\n",
       "    </tr>\n",
       "    <tr>\n",
       "      <th id=\"T_8b471_level0_row3\" class=\"row_heading level0 row3\" >3</th>\n",
       "      <td id=\"T_8b471_row3_col0\" class=\"data row3 col0\" >AEONTS</td>\n",
       "      <td id=\"T_8b471_row3_col1\" class=\"data row3 col1\" >8095</td>\n",
       "      <td id=\"T_8b471_row3_col2\" class=\"data row3 col2\" >10</td>\n",
       "      <td id=\"T_8b471_row3_col3\" class=\"data row3 col3\" >3,228,445</td>\n",
       "      <td id=\"T_8b471_row3_col4\" class=\"data row3 col4\" >4</td>\n",
       "    </tr>\n",
       "    <tr>\n",
       "      <th id=\"T_8b471_level0_row4\" class=\"row_heading level0 row4\" >4</th>\n",
       "      <td id=\"T_8b471_row4_col0\" class=\"data row4 col0\" >AH</td>\n",
       "      <td id=\"T_8b471_row4_col1\" class=\"data row4 col1\" >8095</td>\n",
       "      <td id=\"T_8b471_row4_col2\" class=\"data row4 col2\" >10</td>\n",
       "      <td id=\"T_8b471_row4_col3\" class=\"data row4 col3\" >764,738</td>\n",
       "      <td id=\"T_8b471_row4_col4\" class=\"data row4 col4\" >4</td>\n",
       "    </tr>\n",
       "  </tbody>\n",
       "</table>\n"
      ],
      "text/plain": [
       "<pandas.io.formats.style.Styler at 0x2a147055100>"
      ]
     },
     "execution_count": 7,
     "metadata": {},
     "output_type": "execute_result"
    }
   ],
   "source": [
    "dfp = pd.read_sql(sql, conlt)\n",
    "dfp[\"Counter\"] = 1\n",
    "dfp_grp = dfp.groupby([\"name\"], as_index=False).sum()\n",
    "dfp_grp = dfp_grp[dfp_grp[\"Counter\"] == 4]\n",
    "dfp_grp.head().style.format(format_dict)"
   ]
  },
  {
   "cell_type": "code",
   "execution_count": 8,
   "metadata": {},
   "outputs": [
    {
     "data": {
      "text/plain": [
       "(224,)"
      ]
     },
     "execution_count": 8,
     "metadata": {},
     "output_type": "execute_result"
    }
   ],
   "source": [
    "dfp.name.unique().shape"
   ]
  },
  {
   "cell_type": "code",
   "execution_count": 9,
   "metadata": {},
   "outputs": [
    {
     "data": {
      "text/plain": [
       "(226, 15)"
      ]
     },
     "execution_count": 9,
     "metadata": {},
     "output_type": "execute_result"
    }
   ],
   "source": [
    "sql = \"\"\"\n",
    "SELECT *\n",
    "FROM stocks\n",
    "\"\"\"\n",
    "stocks = pd.read_sql(sql, conlt)\n",
    "stocks.shape"
   ]
  },
  {
   "cell_type": "code",
   "execution_count": 10,
   "metadata": {},
   "outputs": [
    {
     "data": {
      "text/plain": [
       "(394, 9)"
      ]
     },
     "execution_count": 10,
     "metadata": {},
     "output_type": "execute_result"
    }
   ],
   "source": [
    "sql = \"\"\"\n",
    "SELECT *\n",
    "FROM tickers\n",
    "\"\"\"\n",
    "tickers = pd.read_sql(sql, conlt)\n",
    "tickers.shape"
   ]
  },
  {
   "cell_type": "code",
   "execution_count": 11,
   "metadata": {},
   "outputs": [
    {
     "data": {
      "text/html": [
       "<style type=\"text/css\">\n",
       "</style>\n",
       "<table id=\"T_6047f\">\n",
       "  <thead>\n",
       "    <tr>\n",
       "      <th class=\"blank level0\" >&nbsp;</th>\n",
       "      <th id=\"T_6047f_level0_col0\" class=\"col_heading level0 col0\" >name</th>\n",
       "      <th id=\"T_6047f_level0_col1\" class=\"col_heading level0 col1\" >year</th>\n",
       "      <th id=\"T_6047f_level0_col2\" class=\"col_heading level0 col2\" >quarter</th>\n",
       "      <th id=\"T_6047f_level0_col3\" class=\"col_heading level0 col3\" >q_amt_c</th>\n",
       "      <th id=\"T_6047f_level0_col4\" class=\"col_heading level0 col4\" >q_amt_p</th>\n",
       "      <th id=\"T_6047f_level0_col5\" class=\"col_heading level0 col5\" >inc_profit</th>\n",
       "      <th id=\"T_6047f_level0_col6\" class=\"col_heading level0 col6\" >percent</th>\n",
       "    </tr>\n",
       "  </thead>\n",
       "  <tbody>\n",
       "    <tr>\n",
       "      <th id=\"T_6047f_level0_row0\" class=\"row_heading level0 row0\" >0</th>\n",
       "      <td id=\"T_6047f_row0_col0\" class=\"data row0 col0\" >3BBIF</td>\n",
       "      <td id=\"T_6047f_row0_col1\" class=\"data row0 col1\" >2024</td>\n",
       "      <td id=\"T_6047f_row0_col2\" class=\"data row0 col2\" >Q4</td>\n",
       "      <td id=\"T_6047f_row0_col3\" class=\"data row0 col3\" >5,279,119</td>\n",
       "      <td id=\"T_6047f_row0_col4\" class=\"data row0 col4\" >2,443,671</td>\n",
       "      <td id=\"T_6047f_row0_col5\" class=\"data row0 col5\" >2,835,448</td>\n",
       "      <td id=\"T_6047f_row0_col6\" class=\"data row0 col6\" >116.03%</td>\n",
       "    </tr>\n",
       "    <tr>\n",
       "      <th id=\"T_6047f_level0_row1\" class=\"row_heading level0 row1\" >1</th>\n",
       "      <td id=\"T_6047f_row1_col0\" class=\"data row1 col0\" >ADVANC</td>\n",
       "      <td id=\"T_6047f_row1_col1\" class=\"data row1 col1\" >2024</td>\n",
       "      <td id=\"T_6047f_row1_col2\" class=\"data row1 col2\" >Q4</td>\n",
       "      <td id=\"T_6047f_row1_col3\" class=\"data row1 col3\" >35,075,357</td>\n",
       "      <td id=\"T_6047f_row1_col4\" class=\"data row1 col4\" >32,818,977</td>\n",
       "      <td id=\"T_6047f_row1_col5\" class=\"data row1 col5\" >2,256,380</td>\n",
       "      <td id=\"T_6047f_row1_col6\" class=\"data row1 col6\" >6.88%</td>\n",
       "    </tr>\n",
       "    <tr>\n",
       "      <th id=\"T_6047f_level0_row2\" class=\"row_heading level0 row2\" >2</th>\n",
       "      <td id=\"T_6047f_row2_col0\" class=\"data row2 col0\" >AIE</td>\n",
       "      <td id=\"T_6047f_row2_col1\" class=\"data row2 col1\" >2024</td>\n",
       "      <td id=\"T_6047f_row2_col2\" class=\"data row2 col2\" >Q4</td>\n",
       "      <td id=\"T_6047f_row2_col3\" class=\"data row2 col3\" >241,922</td>\n",
       "      <td id=\"T_6047f_row2_col4\" class=\"data row2 col4\" >138,452</td>\n",
       "      <td id=\"T_6047f_row2_col5\" class=\"data row2 col5\" >103,470</td>\n",
       "      <td id=\"T_6047f_row2_col6\" class=\"data row2 col6\" >74.73%</td>\n",
       "    </tr>\n",
       "    <tr>\n",
       "      <th id=\"T_6047f_level0_row3\" class=\"row_heading level0 row3\" >3</th>\n",
       "      <td id=\"T_6047f_row3_col0\" class=\"data row3 col0\" >AIMIRT</td>\n",
       "      <td id=\"T_6047f_row3_col1\" class=\"data row3 col1\" >2024</td>\n",
       "      <td id=\"T_6047f_row3_col2\" class=\"data row3 col2\" >Q4</td>\n",
       "      <td id=\"T_6047f_row3_col3\" class=\"data row3 col3\" >948,696</td>\n",
       "      <td id=\"T_6047f_row3_col4\" class=\"data row3 col4\" >698,124</td>\n",
       "      <td id=\"T_6047f_row3_col5\" class=\"data row3 col5\" >250,572</td>\n",
       "      <td id=\"T_6047f_row3_col6\" class=\"data row3 col6\" >35.89%</td>\n",
       "    </tr>\n",
       "    <tr>\n",
       "      <th id=\"T_6047f_level0_row4\" class=\"row_heading level0 row4\" >4</th>\n",
       "      <td id=\"T_6047f_row4_col0\" class=\"data row4 col0\" >AIT</td>\n",
       "      <td id=\"T_6047f_row4_col1\" class=\"data row4 col1\" >2024</td>\n",
       "      <td id=\"T_6047f_row4_col2\" class=\"data row4 col2\" >Q4</td>\n",
       "      <td id=\"T_6047f_row4_col3\" class=\"data row4 col3\" >572,462</td>\n",
       "      <td id=\"T_6047f_row4_col4\" class=\"data row4 col4\" >584,604</td>\n",
       "      <td id=\"T_6047f_row4_col5\" class=\"data row4 col5\" >-12,142</td>\n",
       "      <td id=\"T_6047f_row4_col6\" class=\"data row4 col6\" >-2.08%</td>\n",
       "    </tr>\n",
       "  </tbody>\n",
       "</table>\n"
      ],
      "text/plain": [
       "<pandas.io.formats.style.Styler at 0x2a147fba000>"
      ]
     },
     "execution_count": 11,
     "metadata": {},
     "output_type": "execute_result"
    }
   ],
   "source": [
    "dfm = pd.merge(dfc_grp, dfp_grp, on=\"name\", suffixes=([\"_c\", \"_p\"]), how=\"inner\")\n",
    "dfm[\"inc_profit\"] = dfm[\"q_amt_c\"] - dfm[\"q_amt_p\"]\n",
    "dfm[\"percent\"] = round(dfm[\"inc_profit\"] / abs(dfm[\"q_amt_p\"]) * 100, 2)\n",
    "dfm[\"year\"] = year\n",
    "dfm[\"quarter\"] = \"Q\" + str(quarter)\n",
    "df_percent = dfm[cols]\n",
    "df_percent.head().style.format(format_dict)"
   ]
  },
  {
   "cell_type": "code",
   "execution_count": 12,
   "metadata": {},
   "outputs": [
    {
     "name": "stdout",
     "output_type": "stream",
     "text": [
      "Rows deleted: 70\n"
     ]
    }
   ],
   "source": [
    "# Create the SQL query with parameter binding\n",
    "sql = text(\"DELETE FROM qt_profits WHERE year = :year AND quarter = :quarter\")\n",
    "\n",
    "# Execute the query with parameters\n",
    "params = {'year': year, 'quarter': f'Q{quarter}'}\n",
    "rp = conlt.execute(sql, params)\n",
    "\n",
    "# Print the number of rows affected\n",
    "print(\"Rows deleted:\", rp.rowcount)"
   ]
  },
  {
   "cell_type": "code",
   "execution_count": 13,
   "metadata": {},
   "outputs": [
    {
     "data": {
      "text/html": [
       "<div>\n",
       "<style scoped>\n",
       "    .dataframe tbody tr th:only-of-type {\n",
       "        vertical-align: middle;\n",
       "    }\n",
       "\n",
       "    .dataframe tbody tr th {\n",
       "        vertical-align: top;\n",
       "    }\n",
       "\n",
       "    .dataframe thead th {\n",
       "        text-align: right;\n",
       "    }\n",
       "</style>\n",
       "<table border=\"1\" class=\"dataframe\">\n",
       "  <thead>\n",
       "    <tr style=\"text-align: right;\">\n",
       "      <th></th>\n",
       "      <th>name</th>\n",
       "      <th>id</th>\n",
       "    </tr>\n",
       "  </thead>\n",
       "  <tbody>\n",
       "    <tr>\n",
       "      <th>52</th>\n",
       "      <td>BGRIM</td>\n",
       "      <td>59</td>\n",
       "    </tr>\n",
       "    <tr>\n",
       "      <th>299</th>\n",
       "      <td>SPRC</td>\n",
       "      <td>470</td>\n",
       "    </tr>\n",
       "    <tr>\n",
       "      <th>58</th>\n",
       "      <td>BOFFICE</td>\n",
       "      <td>670</td>\n",
       "    </tr>\n",
       "    <tr>\n",
       "      <th>213</th>\n",
       "      <td>OSP</td>\n",
       "      <td>681</td>\n",
       "    </tr>\n",
       "    <tr>\n",
       "      <th>388</th>\n",
       "      <td>WICE</td>\n",
       "      <td>624</td>\n",
       "    </tr>\n",
       "  </tbody>\n",
       "</table>\n",
       "</div>"
      ],
      "text/plain": [
       "        name   id\n",
       "52     BGRIM   59\n",
       "299     SPRC  470\n",
       "58   BOFFICE  670\n",
       "213      OSP  681\n",
       "388     WICE  624"
      ]
     },
     "execution_count": 13,
     "metadata": {},
     "output_type": "execute_result"
    }
   ],
   "source": [
    "sql = \"SELECT name, id FROM tickers\"\n",
    "tickers = pd.read_sql(sql, conlt)\n",
    "tickers.sample(5)"
   ]
  },
  {
   "cell_type": "code",
   "execution_count": 14,
   "metadata": {},
   "outputs": [
    {
     "data": {
      "text/html": [
       "<style type=\"text/css\">\n",
       "</style>\n",
       "<table id=\"T_fc235\">\n",
       "  <thead>\n",
       "    <tr>\n",
       "      <th class=\"blank level0\" >&nbsp;</th>\n",
       "      <th id=\"T_fc235_level0_col0\" class=\"col_heading level0 col0\" >name</th>\n",
       "      <th id=\"T_fc235_level0_col1\" class=\"col_heading level0 col1\" >year</th>\n",
       "      <th id=\"T_fc235_level0_col2\" class=\"col_heading level0 col2\" >quarter</th>\n",
       "      <th id=\"T_fc235_level0_col3\" class=\"col_heading level0 col3\" >q_amt_c</th>\n",
       "      <th id=\"T_fc235_level0_col4\" class=\"col_heading level0 col4\" >q_amt_p</th>\n",
       "      <th id=\"T_fc235_level0_col5\" class=\"col_heading level0 col5\" >inc_profit</th>\n",
       "      <th id=\"T_fc235_level0_col6\" class=\"col_heading level0 col6\" >percent</th>\n",
       "      <th id=\"T_fc235_level0_col7\" class=\"col_heading level0 col7\" >id</th>\n",
       "    </tr>\n",
       "  </thead>\n",
       "  <tbody>\n",
       "    <tr>\n",
       "      <th id=\"T_fc235_level0_row0\" class=\"row_heading level0 row0\" >0</th>\n",
       "      <td id=\"T_fc235_row0_col0\" class=\"data row0 col0\" >3BBIF</td>\n",
       "      <td id=\"T_fc235_row0_col1\" class=\"data row0 col1\" >2024</td>\n",
       "      <td id=\"T_fc235_row0_col2\" class=\"data row0 col2\" >Q4</td>\n",
       "      <td id=\"T_fc235_row0_col3\" class=\"data row0 col3\" >5,279,119</td>\n",
       "      <td id=\"T_fc235_row0_col4\" class=\"data row0 col4\" >2,443,671</td>\n",
       "      <td id=\"T_fc235_row0_col5\" class=\"data row0 col5\" >2,835,448</td>\n",
       "      <td id=\"T_fc235_row0_col6\" class=\"data row0 col6\" >116.03%</td>\n",
       "      <td id=\"T_fc235_row0_col7\" class=\"data row0 col7\" >234</td>\n",
       "    </tr>\n",
       "    <tr>\n",
       "      <th id=\"T_fc235_level0_row1\" class=\"row_heading level0 row1\" >1</th>\n",
       "      <td id=\"T_fc235_row1_col0\" class=\"data row1 col0\" >ADVANC</td>\n",
       "      <td id=\"T_fc235_row1_col1\" class=\"data row1 col1\" >2024</td>\n",
       "      <td id=\"T_fc235_row1_col2\" class=\"data row1 col2\" >Q4</td>\n",
       "      <td id=\"T_fc235_row1_col3\" class=\"data row1 col3\" >35,075,357</td>\n",
       "      <td id=\"T_fc235_row1_col4\" class=\"data row1 col4\" >32,818,977</td>\n",
       "      <td id=\"T_fc235_row1_col5\" class=\"data row1 col5\" >2,256,380</td>\n",
       "      <td id=\"T_fc235_row1_col6\" class=\"data row1 col6\" >6.88%</td>\n",
       "      <td id=\"T_fc235_row1_col7\" class=\"data row1 col7\" >6</td>\n",
       "    </tr>\n",
       "    <tr>\n",
       "      <th id=\"T_fc235_level0_row2\" class=\"row_heading level0 row2\" >2</th>\n",
       "      <td id=\"T_fc235_row2_col0\" class=\"data row2 col0\" >AIE</td>\n",
       "      <td id=\"T_fc235_row2_col1\" class=\"data row2 col1\" >2024</td>\n",
       "      <td id=\"T_fc235_row2_col2\" class=\"data row2 col2\" >Q4</td>\n",
       "      <td id=\"T_fc235_row2_col3\" class=\"data row2 col3\" >241,922</td>\n",
       "      <td id=\"T_fc235_row2_col4\" class=\"data row2 col4\" >138,452</td>\n",
       "      <td id=\"T_fc235_row2_col5\" class=\"data row2 col5\" >103,470</td>\n",
       "      <td id=\"T_fc235_row2_col6\" class=\"data row2 col6\" >74.73%</td>\n",
       "      <td id=\"T_fc235_row2_col7\" class=\"data row2 col7\" >720</td>\n",
       "    </tr>\n",
       "    <tr>\n",
       "      <th id=\"T_fc235_level0_row3\" class=\"row_heading level0 row3\" >3</th>\n",
       "      <td id=\"T_fc235_row3_col0\" class=\"data row3 col0\" >AIMIRT</td>\n",
       "      <td id=\"T_fc235_row3_col1\" class=\"data row3 col1\" >2024</td>\n",
       "      <td id=\"T_fc235_row3_col2\" class=\"data row3 col2\" >Q4</td>\n",
       "      <td id=\"T_fc235_row3_col3\" class=\"data row3 col3\" >948,696</td>\n",
       "      <td id=\"T_fc235_row3_col4\" class=\"data row3 col4\" >698,124</td>\n",
       "      <td id=\"T_fc235_row3_col5\" class=\"data row3 col5\" >250,572</td>\n",
       "      <td id=\"T_fc235_row3_col6\" class=\"data row3 col6\" >35.89%</td>\n",
       "      <td id=\"T_fc235_row3_col7\" class=\"data row3 col7\" >669</td>\n",
       "    </tr>\n",
       "    <tr>\n",
       "      <th id=\"T_fc235_level0_row4\" class=\"row_heading level0 row4\" >4</th>\n",
       "      <td id=\"T_fc235_row4_col0\" class=\"data row4 col0\" >AIT</td>\n",
       "      <td id=\"T_fc235_row4_col1\" class=\"data row4 col1\" >2024</td>\n",
       "      <td id=\"T_fc235_row4_col2\" class=\"data row4 col2\" >Q4</td>\n",
       "      <td id=\"T_fc235_row4_col3\" class=\"data row4 col3\" >572,462</td>\n",
       "      <td id=\"T_fc235_row4_col4\" class=\"data row4 col4\" >584,604</td>\n",
       "      <td id=\"T_fc235_row4_col5\" class=\"data row4 col5\" >-12,142</td>\n",
       "      <td id=\"T_fc235_row4_col6\" class=\"data row4 col6\" >-2.08%</td>\n",
       "      <td id=\"T_fc235_row4_col7\" class=\"data row4 col7\" >11</td>\n",
       "    </tr>\n",
       "  </tbody>\n",
       "</table>\n"
      ],
      "text/plain": [
       "<pandas.io.formats.style.Styler at 0x2a147092f00>"
      ]
     },
     "execution_count": 14,
     "metadata": {},
     "output_type": "execute_result"
    }
   ],
   "source": [
    "df_ins = pd.merge(df_percent, tickers, on=\"name\", how=\"inner\")\n",
    "df_ins.head().style.format(format_dict)"
   ]
  },
  {
   "cell_type": "code",
   "execution_count": 15,
   "metadata": {},
   "outputs": [],
   "source": [
    "# Convert DataFrame to list of records\n",
    "rcds = df_ins.values.tolist()\n",
    "\n",
    "# Define column names in the same order as values\n",
    "columns = ['name', 'year', 'quarter', 'latest_amt', 'previous_amt', 'inc_amt', 'inc_pct', 'ticker_id']\n",
    "\n",
    "# SQL insert statement with named parameters\n",
    "sql = text(\"\"\"\n",
    "    INSERT INTO qt_profits \n",
    "    (name, year, quarter, latest_amt, previous_amt, inc_amt, inc_pct, ticker_id)\n",
    "    VALUES (:name, :year, :quarter, :latest_amt, :previous_amt, :inc_amt, :inc_pct, :ticker_id)\n",
    "\"\"\")\n",
    "\n",
    "try:\n",
    "    # Execute inserts\n",
    "    for rcd in rcds:\n",
    "        # Convert list to dictionary\n",
    "        params = dict(zip(columns, rcd))\n",
    "        conlt.execute(sql, params)\n",
    "except Exception as e:\n",
    "    raise e"
   ]
  },
  {
   "cell_type": "markdown",
   "metadata": {},
   "source": [
    "### End of loop"
   ]
  },
  {
   "cell_type": "code",
   "execution_count": 17,
   "metadata": {},
   "outputs": [
    {
     "data": {
      "text/html": [
       "<style type=\"text/css\">\n",
       "</style>\n",
       "<table id=\"T_04651\">\n",
       "  <thead>\n",
       "    <tr>\n",
       "      <th class=\"blank level0\" >&nbsp;</th>\n",
       "      <th id=\"T_04651_level0_col0\" class=\"col_heading level0 col0\" >name</th>\n",
       "      <th id=\"T_04651_level0_col1\" class=\"col_heading level0 col1\" >year</th>\n",
       "      <th id=\"T_04651_level0_col2\" class=\"col_heading level0 col2\" >quarter</th>\n",
       "      <th id=\"T_04651_level0_col3\" class=\"col_heading level0 col3\" >q_amt_c</th>\n",
       "      <th id=\"T_04651_level0_col4\" class=\"col_heading level0 col4\" >q_amt_p</th>\n",
       "      <th id=\"T_04651_level0_col5\" class=\"col_heading level0 col5\" >inc_profit</th>\n",
       "      <th id=\"T_04651_level0_col6\" class=\"col_heading level0 col6\" >percent</th>\n",
       "    </tr>\n",
       "  </thead>\n",
       "  <tbody>\n",
       "    <tr>\n",
       "      <th id=\"T_04651_level0_row0\" class=\"row_heading level0 row0\" >0</th>\n",
       "      <td id=\"T_04651_row0_col0\" class=\"data row0 col0\" >3BBIF</td>\n",
       "      <td id=\"T_04651_row0_col1\" class=\"data row0 col1\" >2024</td>\n",
       "      <td id=\"T_04651_row0_col2\" class=\"data row0 col2\" >Q4</td>\n",
       "      <td id=\"T_04651_row0_col3\" class=\"data row0 col3\" >5,279,119</td>\n",
       "      <td id=\"T_04651_row0_col4\" class=\"data row0 col4\" >2,443,671</td>\n",
       "      <td id=\"T_04651_row0_col5\" class=\"data row0 col5\" >2,835,448</td>\n",
       "      <td id=\"T_04651_row0_col6\" class=\"data row0 col6\" >116.03%</td>\n",
       "    </tr>\n",
       "    <tr>\n",
       "      <th id=\"T_04651_level0_row1\" class=\"row_heading level0 row1\" >1</th>\n",
       "      <td id=\"T_04651_row1_col0\" class=\"data row1 col0\" >ADVANC</td>\n",
       "      <td id=\"T_04651_row1_col1\" class=\"data row1 col1\" >2024</td>\n",
       "      <td id=\"T_04651_row1_col2\" class=\"data row1 col2\" >Q4</td>\n",
       "      <td id=\"T_04651_row1_col3\" class=\"data row1 col3\" >35,075,357</td>\n",
       "      <td id=\"T_04651_row1_col4\" class=\"data row1 col4\" >32,818,977</td>\n",
       "      <td id=\"T_04651_row1_col5\" class=\"data row1 col5\" >2,256,380</td>\n",
       "      <td id=\"T_04651_row1_col6\" class=\"data row1 col6\" >6.88%</td>\n",
       "    </tr>\n",
       "    <tr>\n",
       "      <th id=\"T_04651_level0_row2\" class=\"row_heading level0 row2\" >3</th>\n",
       "      <td id=\"T_04651_row2_col0\" class=\"data row2 col0\" >AIMIRT</td>\n",
       "      <td id=\"T_04651_row2_col1\" class=\"data row2 col1\" >2024</td>\n",
       "      <td id=\"T_04651_row2_col2\" class=\"data row2 col2\" >Q4</td>\n",
       "      <td id=\"T_04651_row2_col3\" class=\"data row2 col3\" >948,696</td>\n",
       "      <td id=\"T_04651_row2_col4\" class=\"data row2 col4\" >698,124</td>\n",
       "      <td id=\"T_04651_row2_col5\" class=\"data row2 col5\" >250,572</td>\n",
       "      <td id=\"T_04651_row2_col6\" class=\"data row2 col6\" >35.89%</td>\n",
       "    </tr>\n",
       "    <tr>\n",
       "      <th id=\"T_04651_level0_row3\" class=\"row_heading level0 row3\" >4</th>\n",
       "      <td id=\"T_04651_row3_col0\" class=\"data row3 col0\" >AIT</td>\n",
       "      <td id=\"T_04651_row3_col1\" class=\"data row3 col1\" >2024</td>\n",
       "      <td id=\"T_04651_row3_col2\" class=\"data row3 col2\" >Q4</td>\n",
       "      <td id=\"T_04651_row3_col3\" class=\"data row3 col3\" >572,462</td>\n",
       "      <td id=\"T_04651_row3_col4\" class=\"data row3 col4\" >584,604</td>\n",
       "      <td id=\"T_04651_row3_col5\" class=\"data row3 col5\" >-12,142</td>\n",
       "      <td id=\"T_04651_row3_col6\" class=\"data row3 col6\" >-2.08%</td>\n",
       "    </tr>\n",
       "    <tr>\n",
       "      <th id=\"T_04651_level0_row4\" class=\"row_heading level0 row4\" >6</th>\n",
       "      <td id=\"T_04651_row4_col0\" class=\"data row4 col0\" >ASW</td>\n",
       "      <td id=\"T_04651_row4_col1\" class=\"data row4 col1\" >2024</td>\n",
       "      <td id=\"T_04651_row4_col2\" class=\"data row4 col2\" >Q4</td>\n",
       "      <td id=\"T_04651_row4_col3\" class=\"data row4 col3\" >1,456,721</td>\n",
       "      <td id=\"T_04651_row4_col4\" class=\"data row4 col4\" >1,783,985</td>\n",
       "      <td id=\"T_04651_row4_col5\" class=\"data row4 col5\" >-327,264</td>\n",
       "      <td id=\"T_04651_row4_col6\" class=\"data row4 col6\" >-18.34%</td>\n",
       "    </tr>\n",
       "  </tbody>\n",
       "</table>\n"
      ],
      "text/plain": [
       "<pandas.io.formats.style.Styler at 0x2a147fbacf0>"
      ]
     },
     "execution_count": 17,
     "metadata": {},
     "output_type": "execute_result"
    }
   ],
   "source": [
    "criteria_1 = df_ins.q_amt_c > 440_000\n",
    "df_ins.loc[criteria_1, cols].head().style.format(format_dict)"
   ]
  },
  {
   "cell_type": "code",
   "execution_count": 18,
   "metadata": {},
   "outputs": [
    {
     "data": {
      "text/html": [
       "<style type=\"text/css\">\n",
       "</style>\n",
       "<table id=\"T_ec4c5\">\n",
       "  <thead>\n",
       "    <tr>\n",
       "      <th class=\"blank level0\" >&nbsp;</th>\n",
       "      <th id=\"T_ec4c5_level0_col0\" class=\"col_heading level0 col0\" >name</th>\n",
       "      <th id=\"T_ec4c5_level0_col1\" class=\"col_heading level0 col1\" >year</th>\n",
       "      <th id=\"T_ec4c5_level0_col2\" class=\"col_heading level0 col2\" >quarter</th>\n",
       "      <th id=\"T_ec4c5_level0_col3\" class=\"col_heading level0 col3\" >q_amt_c</th>\n",
       "      <th id=\"T_ec4c5_level0_col4\" class=\"col_heading level0 col4\" >q_amt_p</th>\n",
       "      <th id=\"T_ec4c5_level0_col5\" class=\"col_heading level0 col5\" >inc_profit</th>\n",
       "      <th id=\"T_ec4c5_level0_col6\" class=\"col_heading level0 col6\" >percent</th>\n",
       "    </tr>\n",
       "  </thead>\n",
       "  <tbody>\n",
       "    <tr>\n",
       "      <th id=\"T_ec4c5_level0_row0\" class=\"row_heading level0 row0\" >0</th>\n",
       "      <td id=\"T_ec4c5_row0_col0\" class=\"data row0 col0\" >3BBIF</td>\n",
       "      <td id=\"T_ec4c5_row0_col1\" class=\"data row0 col1\" >2024</td>\n",
       "      <td id=\"T_ec4c5_row0_col2\" class=\"data row0 col2\" >Q4</td>\n",
       "      <td id=\"T_ec4c5_row0_col3\" class=\"data row0 col3\" >5,279,119</td>\n",
       "      <td id=\"T_ec4c5_row0_col4\" class=\"data row0 col4\" >2,443,671</td>\n",
       "      <td id=\"T_ec4c5_row0_col5\" class=\"data row0 col5\" >2,835,448</td>\n",
       "      <td id=\"T_ec4c5_row0_col6\" class=\"data row0 col6\" >116.03%</td>\n",
       "    </tr>\n",
       "    <tr>\n",
       "      <th id=\"T_ec4c5_level0_row1\" class=\"row_heading level0 row1\" >1</th>\n",
       "      <td id=\"T_ec4c5_row1_col0\" class=\"data row1 col0\" >ADVANC</td>\n",
       "      <td id=\"T_ec4c5_row1_col1\" class=\"data row1 col1\" >2024</td>\n",
       "      <td id=\"T_ec4c5_row1_col2\" class=\"data row1 col2\" >Q4</td>\n",
       "      <td id=\"T_ec4c5_row1_col3\" class=\"data row1 col3\" >35,075,357</td>\n",
       "      <td id=\"T_ec4c5_row1_col4\" class=\"data row1 col4\" >32,818,977</td>\n",
       "      <td id=\"T_ec4c5_row1_col5\" class=\"data row1 col5\" >2,256,380</td>\n",
       "      <td id=\"T_ec4c5_row1_col6\" class=\"data row1 col6\" >6.88%</td>\n",
       "    </tr>\n",
       "    <tr>\n",
       "      <th id=\"T_ec4c5_level0_row2\" class=\"row_heading level0 row2\" >3</th>\n",
       "      <td id=\"T_ec4c5_row2_col0\" class=\"data row2 col0\" >AIMIRT</td>\n",
       "      <td id=\"T_ec4c5_row2_col1\" class=\"data row2 col1\" >2024</td>\n",
       "      <td id=\"T_ec4c5_row2_col2\" class=\"data row2 col2\" >Q4</td>\n",
       "      <td id=\"T_ec4c5_row2_col3\" class=\"data row2 col3\" >948,696</td>\n",
       "      <td id=\"T_ec4c5_row2_col4\" class=\"data row2 col4\" >698,124</td>\n",
       "      <td id=\"T_ec4c5_row2_col5\" class=\"data row2 col5\" >250,572</td>\n",
       "      <td id=\"T_ec4c5_row2_col6\" class=\"data row2 col6\" >35.89%</td>\n",
       "    </tr>\n",
       "    <tr>\n",
       "      <th id=\"T_ec4c5_level0_row3\" class=\"row_heading level0 row3\" >4</th>\n",
       "      <td id=\"T_ec4c5_row3_col0\" class=\"data row3 col0\" >AIT</td>\n",
       "      <td id=\"T_ec4c5_row3_col1\" class=\"data row3 col1\" >2024</td>\n",
       "      <td id=\"T_ec4c5_row3_col2\" class=\"data row3 col2\" >Q4</td>\n",
       "      <td id=\"T_ec4c5_row3_col3\" class=\"data row3 col3\" >572,462</td>\n",
       "      <td id=\"T_ec4c5_row3_col4\" class=\"data row3 col4\" >584,604</td>\n",
       "      <td id=\"T_ec4c5_row3_col5\" class=\"data row3 col5\" >-12,142</td>\n",
       "      <td id=\"T_ec4c5_row3_col6\" class=\"data row3 col6\" >-2.08%</td>\n",
       "    </tr>\n",
       "    <tr>\n",
       "      <th id=\"T_ec4c5_level0_row4\" class=\"row_heading level0 row4\" >5</th>\n",
       "      <td id=\"T_ec4c5_row4_col0\" class=\"data row4 col0\" >ASK</td>\n",
       "      <td id=\"T_ec4c5_row4_col1\" class=\"data row4 col1\" >2024</td>\n",
       "      <td id=\"T_ec4c5_row4_col2\" class=\"data row4 col2\" >Q4</td>\n",
       "      <td id=\"T_ec4c5_row4_col3\" class=\"data row4 col3\" >331,797</td>\n",
       "      <td id=\"T_ec4c5_row4_col4\" class=\"data row4 col4\" >476,368</td>\n",
       "      <td id=\"T_ec4c5_row4_col5\" class=\"data row4 col5\" >-144,571</td>\n",
       "      <td id=\"T_ec4c5_row4_col6\" class=\"data row4 col6\" >-30.35%</td>\n",
       "    </tr>\n",
       "  </tbody>\n",
       "</table>\n"
      ],
      "text/plain": [
       "<pandas.io.formats.style.Styler at 0x2a147f503e0>"
      ]
     },
     "execution_count": 18,
     "metadata": {},
     "output_type": "execute_result"
    }
   ],
   "source": [
    "criteria_2 = df_ins.q_amt_p > 400_000\n",
    "df_ins.loc[criteria_2, cols].head().style.format(format_dict)"
   ]
  },
  {
   "cell_type": "code",
   "execution_count": 19,
   "metadata": {},
   "outputs": [
    {
     "data": {
      "text/html": [
       "<style type=\"text/css\">\n",
       "</style>\n",
       "<table id=\"T_6f95f\">\n",
       "  <thead>\n",
       "    <tr>\n",
       "      <th class=\"blank level0\" >&nbsp;</th>\n",
       "      <th id=\"T_6f95f_level0_col0\" class=\"col_heading level0 col0\" >name</th>\n",
       "      <th id=\"T_6f95f_level0_col1\" class=\"col_heading level0 col1\" >year</th>\n",
       "      <th id=\"T_6f95f_level0_col2\" class=\"col_heading level0 col2\" >quarter</th>\n",
       "      <th id=\"T_6f95f_level0_col3\" class=\"col_heading level0 col3\" >q_amt_c</th>\n",
       "      <th id=\"T_6f95f_level0_col4\" class=\"col_heading level0 col4\" >q_amt_p</th>\n",
       "      <th id=\"T_6f95f_level0_col5\" class=\"col_heading level0 col5\" >inc_profit</th>\n",
       "      <th id=\"T_6f95f_level0_col6\" class=\"col_heading level0 col6\" >percent</th>\n",
       "    </tr>\n",
       "  </thead>\n",
       "  <tbody>\n",
       "    <tr>\n",
       "      <th id=\"T_6f95f_level0_row0\" class=\"row_heading level0 row0\" >0</th>\n",
       "      <td id=\"T_6f95f_row0_col0\" class=\"data row0 col0\" >3BBIF</td>\n",
       "      <td id=\"T_6f95f_row0_col1\" class=\"data row0 col1\" >2024</td>\n",
       "      <td id=\"T_6f95f_row0_col2\" class=\"data row0 col2\" >Q4</td>\n",
       "      <td id=\"T_6f95f_row0_col3\" class=\"data row0 col3\" >5,279,119</td>\n",
       "      <td id=\"T_6f95f_row0_col4\" class=\"data row0 col4\" >2,443,671</td>\n",
       "      <td id=\"T_6f95f_row0_col5\" class=\"data row0 col5\" >2,835,448</td>\n",
       "      <td id=\"T_6f95f_row0_col6\" class=\"data row0 col6\" >116.03%</td>\n",
       "    </tr>\n",
       "    <tr>\n",
       "      <th id=\"T_6f95f_level0_row1\" class=\"row_heading level0 row1\" >2</th>\n",
       "      <td id=\"T_6f95f_row1_col0\" class=\"data row1 col0\" >AIE</td>\n",
       "      <td id=\"T_6f95f_row1_col1\" class=\"data row1 col1\" >2024</td>\n",
       "      <td id=\"T_6f95f_row1_col2\" class=\"data row1 col2\" >Q4</td>\n",
       "      <td id=\"T_6f95f_row1_col3\" class=\"data row1 col3\" >241,922</td>\n",
       "      <td id=\"T_6f95f_row1_col4\" class=\"data row1 col4\" >138,452</td>\n",
       "      <td id=\"T_6f95f_row1_col5\" class=\"data row1 col5\" >103,470</td>\n",
       "      <td id=\"T_6f95f_row1_col6\" class=\"data row1 col6\" >74.73%</td>\n",
       "    </tr>\n",
       "    <tr>\n",
       "      <th id=\"T_6f95f_level0_row2\" class=\"row_heading level0 row2\" >3</th>\n",
       "      <td id=\"T_6f95f_row2_col0\" class=\"data row2 col0\" >AIMIRT</td>\n",
       "      <td id=\"T_6f95f_row2_col1\" class=\"data row2 col1\" >2024</td>\n",
       "      <td id=\"T_6f95f_row2_col2\" class=\"data row2 col2\" >Q4</td>\n",
       "      <td id=\"T_6f95f_row2_col3\" class=\"data row2 col3\" >948,696</td>\n",
       "      <td id=\"T_6f95f_row2_col4\" class=\"data row2 col4\" >698,124</td>\n",
       "      <td id=\"T_6f95f_row2_col5\" class=\"data row2 col5\" >250,572</td>\n",
       "      <td id=\"T_6f95f_row2_col6\" class=\"data row2 col6\" >35.89%</td>\n",
       "    </tr>\n",
       "    <tr>\n",
       "      <th id=\"T_6f95f_level0_row3\" class=\"row_heading level0 row3\" >9</th>\n",
       "      <td id=\"T_6f95f_row3_col0\" class=\"data row3 col0\" >BCP</td>\n",
       "      <td id=\"T_6f95f_row3_col1\" class=\"data row3 col1\" >2024</td>\n",
       "      <td id=\"T_6f95f_row3_col2\" class=\"data row3 col2\" >Q4</td>\n",
       "      <td id=\"T_6f95f_row3_col3\" class=\"data row3 col3\" >2,184,088</td>\n",
       "      <td id=\"T_6f95f_row3_col4\" class=\"data row3 col4\" >1,190,697</td>\n",
       "      <td id=\"T_6f95f_row3_col5\" class=\"data row3 col5\" >993,391</td>\n",
       "      <td id=\"T_6f95f_row3_col6\" class=\"data row3 col6\" >83.43%</td>\n",
       "    </tr>\n",
       "    <tr>\n",
       "      <th id=\"T_6f95f_level0_row4\" class=\"row_heading level0 row4\" >10</th>\n",
       "      <td id=\"T_6f95f_row4_col0\" class=\"data row4 col0\" >BCPG</td>\n",
       "      <td id=\"T_6f95f_row4_col1\" class=\"data row4 col1\" >2024</td>\n",
       "      <td id=\"T_6f95f_row4_col2\" class=\"data row4 col2\" >Q4</td>\n",
       "      <td id=\"T_6f95f_row4_col3\" class=\"data row4 col3\" >1,819,389</td>\n",
       "      <td id=\"T_6f95f_row4_col4\" class=\"data row4 col4\" >1,481,869</td>\n",
       "      <td id=\"T_6f95f_row4_col5\" class=\"data row4 col5\" >337,520</td>\n",
       "      <td id=\"T_6f95f_row4_col6\" class=\"data row4 col6\" >22.78%</td>\n",
       "    </tr>\n",
       "  </tbody>\n",
       "</table>\n"
      ],
      "text/plain": [
       "<pandas.io.formats.style.Styler at 0x2a147f8b0b0>"
      ]
     },
     "execution_count": 19,
     "metadata": {},
     "output_type": "execute_result"
    }
   ],
   "source": [
    "criteria_3 = df_ins.percent > 10.00\n",
    "df_ins.loc[criteria_3, cols].head().style.format(format_dict)"
   ]
  },
  {
   "cell_type": "code",
   "execution_count": 20,
   "metadata": {},
   "outputs": [
    {
     "data": {
      "text/html": [
       "<style type=\"text/css\">\n",
       "</style>\n",
       "<table id=\"T_8b034\">\n",
       "  <thead>\n",
       "    <tr>\n",
       "      <th class=\"blank level0\" >&nbsp;</th>\n",
       "      <th id=\"T_8b034_level0_col0\" class=\"col_heading level0 col0\" >name</th>\n",
       "      <th id=\"T_8b034_level0_col1\" class=\"col_heading level0 col1\" >year</th>\n",
       "      <th id=\"T_8b034_level0_col2\" class=\"col_heading level0 col2\" >quarter</th>\n",
       "      <th id=\"T_8b034_level0_col3\" class=\"col_heading level0 col3\" >q_amt_c</th>\n",
       "      <th id=\"T_8b034_level0_col4\" class=\"col_heading level0 col4\" >q_amt_p</th>\n",
       "      <th id=\"T_8b034_level0_col5\" class=\"col_heading level0 col5\" >inc_profit</th>\n",
       "      <th id=\"T_8b034_level0_col6\" class=\"col_heading level0 col6\" >percent</th>\n",
       "    </tr>\n",
       "  </thead>\n",
       "  <tbody>\n",
       "    <tr>\n",
       "      <th id=\"T_8b034_level0_row0\" class=\"row_heading level0 row0\" >0</th>\n",
       "      <td id=\"T_8b034_row0_col0\" class=\"data row0 col0\" >3BBIF</td>\n",
       "      <td id=\"T_8b034_row0_col1\" class=\"data row0 col1\" >2024</td>\n",
       "      <td id=\"T_8b034_row0_col2\" class=\"data row0 col2\" >Q4</td>\n",
       "      <td id=\"T_8b034_row0_col3\" class=\"data row0 col3\" >5,279,119</td>\n",
       "      <td id=\"T_8b034_row0_col4\" class=\"data row0 col4\" >2,443,671</td>\n",
       "      <td id=\"T_8b034_row0_col5\" class=\"data row0 col5\" >2,835,448</td>\n",
       "      <td id=\"T_8b034_row0_col6\" class=\"data row0 col6\" >116.03%</td>\n",
       "    </tr>\n",
       "    <tr>\n",
       "      <th id=\"T_8b034_level0_row1\" class=\"row_heading level0 row1\" >3</th>\n",
       "      <td id=\"T_8b034_row1_col0\" class=\"data row1 col0\" >AIMIRT</td>\n",
       "      <td id=\"T_8b034_row1_col1\" class=\"data row1 col1\" >2024</td>\n",
       "      <td id=\"T_8b034_row1_col2\" class=\"data row1 col2\" >Q4</td>\n",
       "      <td id=\"T_8b034_row1_col3\" class=\"data row1 col3\" >948,696</td>\n",
       "      <td id=\"T_8b034_row1_col4\" class=\"data row1 col4\" >698,124</td>\n",
       "      <td id=\"T_8b034_row1_col5\" class=\"data row1 col5\" >250,572</td>\n",
       "      <td id=\"T_8b034_row1_col6\" class=\"data row1 col6\" >35.89%</td>\n",
       "    </tr>\n",
       "    <tr>\n",
       "      <th id=\"T_8b034_level0_row2\" class=\"row_heading level0 row2\" >9</th>\n",
       "      <td id=\"T_8b034_row2_col0\" class=\"data row2 col0\" >BCP</td>\n",
       "      <td id=\"T_8b034_row2_col1\" class=\"data row2 col1\" >2024</td>\n",
       "      <td id=\"T_8b034_row2_col2\" class=\"data row2 col2\" >Q4</td>\n",
       "      <td id=\"T_8b034_row2_col3\" class=\"data row2 col3\" >2,184,088</td>\n",
       "      <td id=\"T_8b034_row2_col4\" class=\"data row2 col4\" >1,190,697</td>\n",
       "      <td id=\"T_8b034_row2_col5\" class=\"data row2 col5\" >993,391</td>\n",
       "      <td id=\"T_8b034_row2_col6\" class=\"data row2 col6\" >83.43%</td>\n",
       "    </tr>\n",
       "    <tr>\n",
       "      <th id=\"T_8b034_level0_row3\" class=\"row_heading level0 row3\" >10</th>\n",
       "      <td id=\"T_8b034_row3_col0\" class=\"data row3 col0\" >BCPG</td>\n",
       "      <td id=\"T_8b034_row3_col1\" class=\"data row3 col1\" >2024</td>\n",
       "      <td id=\"T_8b034_row3_col2\" class=\"data row3 col2\" >Q4</td>\n",
       "      <td id=\"T_8b034_row3_col3\" class=\"data row3 col3\" >1,819,389</td>\n",
       "      <td id=\"T_8b034_row3_col4\" class=\"data row3 col4\" >1,481,869</td>\n",
       "      <td id=\"T_8b034_row3_col5\" class=\"data row3 col5\" >337,520</td>\n",
       "      <td id=\"T_8b034_row3_col6\" class=\"data row3 col6\" >22.78%</td>\n",
       "    </tr>\n",
       "    <tr>\n",
       "      <th id=\"T_8b034_level0_row4\" class=\"row_heading level0 row4\" >14</th>\n",
       "      <td id=\"T_8b034_row4_col0\" class=\"data row4 col0\" >BLA</td>\n",
       "      <td id=\"T_8b034_row4_col1\" class=\"data row4 col1\" >2024</td>\n",
       "      <td id=\"T_8b034_row4_col2\" class=\"data row4 col2\" >Q4</td>\n",
       "      <td id=\"T_8b034_row4_col3\" class=\"data row4 col3\" >4,317,070</td>\n",
       "      <td id=\"T_8b034_row4_col4\" class=\"data row4 col4\" >3,027,476</td>\n",
       "      <td id=\"T_8b034_row4_col5\" class=\"data row4 col5\" >1,289,594</td>\n",
       "      <td id=\"T_8b034_row4_col6\" class=\"data row4 col6\" >42.60%</td>\n",
       "    </tr>\n",
       "  </tbody>\n",
       "</table>\n"
      ],
      "text/plain": [
       "<pandas.io.formats.style.Styler at 0x2a147fa65d0>"
      ]
     },
     "execution_count": 20,
     "metadata": {},
     "output_type": "execute_result"
    }
   ],
   "source": [
    "df_ins_criteria = criteria_1 & criteria_2 & criteria_3\n",
    "df_ins.loc[df_ins_criteria, cols].head().style.format(format_dict)"
   ]
  },
  {
   "cell_type": "code",
   "execution_count": 21,
   "metadata": {},
   "outputs": [
    {
     "data": {
      "text/html": [
       "<style type=\"text/css\">\n",
       "</style>\n",
       "<table id=\"T_6031f\">\n",
       "  <thead>\n",
       "    <tr>\n",
       "      <th class=\"blank level0\" >&nbsp;</th>\n",
       "      <th id=\"T_6031f_level0_col0\" class=\"col_heading level0 col0\" >name</th>\n",
       "      <th id=\"T_6031f_level0_col1\" class=\"col_heading level0 col1\" >year</th>\n",
       "      <th id=\"T_6031f_level0_col2\" class=\"col_heading level0 col2\" >quarter</th>\n",
       "      <th id=\"T_6031f_level0_col3\" class=\"col_heading level0 col3\" >q_amt_c</th>\n",
       "      <th id=\"T_6031f_level0_col4\" class=\"col_heading level0 col4\" >q_amt_p</th>\n",
       "      <th id=\"T_6031f_level0_col5\" class=\"col_heading level0 col5\" >inc_profit</th>\n",
       "      <th id=\"T_6031f_level0_col6\" class=\"col_heading level0 col6\" >percent</th>\n",
       "      <th id=\"T_6031f_level0_col7\" class=\"col_heading level0 col7\" >id</th>\n",
       "    </tr>\n",
       "  </thead>\n",
       "  <tbody>\n",
       "    <tr>\n",
       "      <th id=\"T_6031f_level0_row0\" class=\"row_heading level0 row0\" >81</th>\n",
       "      <td id=\"T_6031f_row0_col0\" class=\"data row0 col0\" >TFG</td>\n",
       "      <td id=\"T_6031f_row0_col1\" class=\"data row0 col1\" >2024</td>\n",
       "      <td id=\"T_6031f_row0_col2\" class=\"data row0 col2\" >Q4</td>\n",
       "      <td id=\"T_6031f_row0_col3\" class=\"data row0 col3\" >3,166,564</td>\n",
       "      <td id=\"T_6031f_row0_col4\" class=\"data row0 col4\" >1,427,538</td>\n",
       "      <td id=\"T_6031f_row0_col5\" class=\"data row0 col5\" >1,739,026</td>\n",
       "      <td id=\"T_6031f_row0_col6\" class=\"data row0 col6\" >121.82%</td>\n",
       "      <td id=\"T_6031f_row0_col7\" class=\"data row0 col7\" >513</td>\n",
       "    </tr>\n",
       "    <tr>\n",
       "      <th id=\"T_6031f_level0_row1\" class=\"row_heading level0 row1\" >0</th>\n",
       "      <td id=\"T_6031f_row1_col0\" class=\"data row1 col0\" >3BBIF</td>\n",
       "      <td id=\"T_6031f_row1_col1\" class=\"data row1 col1\" >2024</td>\n",
       "      <td id=\"T_6031f_row1_col2\" class=\"data row1 col2\" >Q4</td>\n",
       "      <td id=\"T_6031f_row1_col3\" class=\"data row1 col3\" >5,279,119</td>\n",
       "      <td id=\"T_6031f_row1_col4\" class=\"data row1 col4\" >2,443,671</td>\n",
       "      <td id=\"T_6031f_row1_col5\" class=\"data row1 col5\" >2,835,448</td>\n",
       "      <td id=\"T_6031f_row1_col6\" class=\"data row1 col6\" >116.03%</td>\n",
       "      <td id=\"T_6031f_row1_col7\" class=\"data row1 col7\" >234</td>\n",
       "    </tr>\n",
       "    <tr>\n",
       "      <th id=\"T_6031f_level0_row2\" class=\"row_heading level0 row2\" >9</th>\n",
       "      <td id=\"T_6031f_row2_col0\" class=\"data row2 col0\" >BCP</td>\n",
       "      <td id=\"T_6031f_row2_col1\" class=\"data row2 col1\" >2024</td>\n",
       "      <td id=\"T_6031f_row2_col2\" class=\"data row2 col2\" >Q4</td>\n",
       "      <td id=\"T_6031f_row2_col3\" class=\"data row2 col3\" >2,184,088</td>\n",
       "      <td id=\"T_6031f_row2_col4\" class=\"data row2 col4\" >1,190,697</td>\n",
       "      <td id=\"T_6031f_row2_col5\" class=\"data row2 col5\" >993,391</td>\n",
       "      <td id=\"T_6031f_row2_col6\" class=\"data row2 col6\" >83.43%</td>\n",
       "      <td id=\"T_6031f_row2_col7\" class=\"data row2 col7\" >52</td>\n",
       "    </tr>\n",
       "    <tr>\n",
       "      <th id=\"T_6031f_level0_row3\" class=\"row_heading level0 row3\" >61</th>\n",
       "      <td id=\"T_6031f_row3_col0\" class=\"data row3 col0\" >RCL</td>\n",
       "      <td id=\"T_6031f_row3_col1\" class=\"data row3 col1\" >2024</td>\n",
       "      <td id=\"T_6031f_row3_col2\" class=\"data row3 col2\" >Q4</td>\n",
       "      <td id=\"T_6031f_row3_col3\" class=\"data row3 col3\" >9,170,542</td>\n",
       "      <td id=\"T_6031f_row3_col4\" class=\"data row3 col4\" >5,280,406</td>\n",
       "      <td id=\"T_6031f_row3_col5\" class=\"data row3 col5\" >3,890,136</td>\n",
       "      <td id=\"T_6031f_row3_col6\" class=\"data row3 col6\" >73.67%</td>\n",
       "      <td id=\"T_6031f_row3_col7\" class=\"data row3 col7\" >396</td>\n",
       "    </tr>\n",
       "    <tr>\n",
       "      <th id=\"T_6031f_level0_row4\" class=\"row_heading level0 row4\" >54</th>\n",
       "      <td id=\"T_6031f_row4_col0\" class=\"data row4 col0\" >OR</td>\n",
       "      <td id=\"T_6031f_row4_col1\" class=\"data row4 col1\" >2024</td>\n",
       "      <td id=\"T_6031f_row4_col2\" class=\"data row4 col2\" >Q4</td>\n",
       "      <td id=\"T_6031f_row4_col3\" class=\"data row4 col3\" >7,650,313</td>\n",
       "      <td id=\"T_6031f_row4_col4\" class=\"data row4 col4\" >4,843,875</td>\n",
       "      <td id=\"T_6031f_row4_col5\" class=\"data row4 col5\" >2,806,438</td>\n",
       "      <td id=\"T_6031f_row4_col6\" class=\"data row4 col6\" >57.94%</td>\n",
       "      <td id=\"T_6031f_row4_col7\" class=\"data row4 col7\" >715</td>\n",
       "    </tr>\n",
       "  </tbody>\n",
       "</table>\n"
      ],
      "text/plain": [
       "<pandas.io.formats.style.Styler at 0x2a144b0f3e0>"
      ]
     },
     "execution_count": 21,
     "metadata": {},
     "output_type": "execute_result"
    }
   ],
   "source": [
    "df_ins[df_ins_criteria].sort_values(by=[\"percent\"], ascending=[False]).head().style.format(format_dict)"
   ]
  },
  {
   "cell_type": "code",
   "execution_count": 22,
   "metadata": {},
   "outputs": [
    {
     "data": {
      "text/html": [
       "<style type=\"text/css\">\n",
       "</style>\n",
       "<table id=\"T_6566b\">\n",
       "  <thead>\n",
       "    <tr>\n",
       "      <th class=\"blank level0\" >&nbsp;</th>\n",
       "      <th id=\"T_6566b_level0_col0\" class=\"col_heading level0 col0\" >name</th>\n",
       "      <th id=\"T_6566b_level0_col1\" class=\"col_heading level0 col1\" >year</th>\n",
       "      <th id=\"T_6566b_level0_col2\" class=\"col_heading level0 col2\" >quarter</th>\n",
       "      <th id=\"T_6566b_level0_col3\" class=\"col_heading level0 col3\" >q_amt_c</th>\n",
       "      <th id=\"T_6566b_level0_col4\" class=\"col_heading level0 col4\" >q_amt_p</th>\n",
       "      <th id=\"T_6566b_level0_col5\" class=\"col_heading level0 col5\" >inc_profit</th>\n",
       "      <th id=\"T_6566b_level0_col6\" class=\"col_heading level0 col6\" >percent</th>\n",
       "      <th id=\"T_6566b_level0_col7\" class=\"col_heading level0 col7\" >id</th>\n",
       "    </tr>\n",
       "  </thead>\n",
       "  <tbody>\n",
       "    <tr>\n",
       "      <th id=\"T_6566b_level0_row0\" class=\"row_heading level0 row0\" >0</th>\n",
       "      <td id=\"T_6566b_row0_col0\" class=\"data row0 col0\" >3BBIF</td>\n",
       "      <td id=\"T_6566b_row0_col1\" class=\"data row0 col1\" >2024</td>\n",
       "      <td id=\"T_6566b_row0_col2\" class=\"data row0 col2\" >Q4</td>\n",
       "      <td id=\"T_6566b_row0_col3\" class=\"data row0 col3\" >5,279,119</td>\n",
       "      <td id=\"T_6566b_row0_col4\" class=\"data row0 col4\" >2,443,671</td>\n",
       "      <td id=\"T_6566b_row0_col5\" class=\"data row0 col5\" >2,835,448</td>\n",
       "      <td id=\"T_6566b_row0_col6\" class=\"data row0 col6\" >116.03%</td>\n",
       "      <td id=\"T_6566b_row0_col7\" class=\"data row0 col7\" >234</td>\n",
       "    </tr>\n",
       "    <tr>\n",
       "      <th id=\"T_6566b_level0_row1\" class=\"row_heading level0 row1\" >3</th>\n",
       "      <td id=\"T_6566b_row1_col0\" class=\"data row1 col0\" >AIMIRT</td>\n",
       "      <td id=\"T_6566b_row1_col1\" class=\"data row1 col1\" >2024</td>\n",
       "      <td id=\"T_6566b_row1_col2\" class=\"data row1 col2\" >Q4</td>\n",
       "      <td id=\"T_6566b_row1_col3\" class=\"data row1 col3\" >948,696</td>\n",
       "      <td id=\"T_6566b_row1_col4\" class=\"data row1 col4\" >698,124</td>\n",
       "      <td id=\"T_6566b_row1_col5\" class=\"data row1 col5\" >250,572</td>\n",
       "      <td id=\"T_6566b_row1_col6\" class=\"data row1 col6\" >35.89%</td>\n",
       "      <td id=\"T_6566b_row1_col7\" class=\"data row1 col7\" >669</td>\n",
       "    </tr>\n",
       "    <tr>\n",
       "      <th id=\"T_6566b_level0_row2\" class=\"row_heading level0 row2\" >9</th>\n",
       "      <td id=\"T_6566b_row2_col0\" class=\"data row2 col0\" >BCP</td>\n",
       "      <td id=\"T_6566b_row2_col1\" class=\"data row2 col1\" >2024</td>\n",
       "      <td id=\"T_6566b_row2_col2\" class=\"data row2 col2\" >Q4</td>\n",
       "      <td id=\"T_6566b_row2_col3\" class=\"data row2 col3\" >2,184,088</td>\n",
       "      <td id=\"T_6566b_row2_col4\" class=\"data row2 col4\" >1,190,697</td>\n",
       "      <td id=\"T_6566b_row2_col5\" class=\"data row2 col5\" >993,391</td>\n",
       "      <td id=\"T_6566b_row2_col6\" class=\"data row2 col6\" >83.43%</td>\n",
       "      <td id=\"T_6566b_row2_col7\" class=\"data row2 col7\" >52</td>\n",
       "    </tr>\n",
       "    <tr>\n",
       "      <th id=\"T_6566b_level0_row3\" class=\"row_heading level0 row3\" >10</th>\n",
       "      <td id=\"T_6566b_row3_col0\" class=\"data row3 col0\" >BCPG</td>\n",
       "      <td id=\"T_6566b_row3_col1\" class=\"data row3 col1\" >2024</td>\n",
       "      <td id=\"T_6566b_row3_col2\" class=\"data row3 col2\" >Q4</td>\n",
       "      <td id=\"T_6566b_row3_col3\" class=\"data row3 col3\" >1,819,389</td>\n",
       "      <td id=\"T_6566b_row3_col4\" class=\"data row3 col4\" >1,481,869</td>\n",
       "      <td id=\"T_6566b_row3_col5\" class=\"data row3 col5\" >337,520</td>\n",
       "      <td id=\"T_6566b_row3_col6\" class=\"data row3 col6\" >22.78%</td>\n",
       "      <td id=\"T_6566b_row3_col7\" class=\"data row3 col7\" >53</td>\n",
       "    </tr>\n",
       "    <tr>\n",
       "      <th id=\"T_6566b_level0_row4\" class=\"row_heading level0 row4\" >14</th>\n",
       "      <td id=\"T_6566b_row4_col0\" class=\"data row4 col0\" >BLA</td>\n",
       "      <td id=\"T_6566b_row4_col1\" class=\"data row4 col1\" >2024</td>\n",
       "      <td id=\"T_6566b_row4_col2\" class=\"data row4 col2\" >Q4</td>\n",
       "      <td id=\"T_6566b_row4_col3\" class=\"data row4 col3\" >4,317,070</td>\n",
       "      <td id=\"T_6566b_row4_col4\" class=\"data row4 col4\" >3,027,476</td>\n",
       "      <td id=\"T_6566b_row4_col5\" class=\"data row4 col5\" >1,289,594</td>\n",
       "      <td id=\"T_6566b_row4_col6\" class=\"data row4 col6\" >42.60%</td>\n",
       "      <td id=\"T_6566b_row4_col7\" class=\"data row4 col7\" >70</td>\n",
       "    </tr>\n",
       "  </tbody>\n",
       "</table>\n"
      ],
      "text/plain": [
       "<pandas.io.formats.style.Styler at 0x2a147f884d0>"
      ]
     },
     "execution_count": 22,
     "metadata": {},
     "output_type": "execute_result"
    }
   ],
   "source": [
    "df_ins[df_ins_criteria].sort_values(by=[\"name\"], ascending=[True]).head().style.format(format_dict)"
   ]
  },
  {
   "cell_type": "code",
   "execution_count": 23,
   "metadata": {},
   "outputs": [
    {
     "data": {
      "text/html": [
       "<style type=\"text/css\">\n",
       "</style>\n",
       "<table id=\"T_5bcb5\">\n",
       "  <thead>\n",
       "    <tr>\n",
       "      <th class=\"blank level0\" >&nbsp;</th>\n",
       "      <th id=\"T_5bcb5_level0_col0\" class=\"col_heading level0 col0\" >name</th>\n",
       "      <th id=\"T_5bcb5_level0_col1\" class=\"col_heading level0 col1\" >year</th>\n",
       "      <th id=\"T_5bcb5_level0_col2\" class=\"col_heading level0 col2\" >quarter</th>\n",
       "      <th id=\"T_5bcb5_level0_col3\" class=\"col_heading level0 col3\" >q_amt_c</th>\n",
       "      <th id=\"T_5bcb5_level0_col4\" class=\"col_heading level0 col4\" >q_amt_p</th>\n",
       "      <th id=\"T_5bcb5_level0_col5\" class=\"col_heading level0 col5\" >inc_profit</th>\n",
       "      <th id=\"T_5bcb5_level0_col6\" class=\"col_heading level0 col6\" >percent</th>\n",
       "      <th id=\"T_5bcb5_level0_col7\" class=\"col_heading level0 col7\" >id</th>\n",
       "    </tr>\n",
       "  </thead>\n",
       "  <tbody>\n",
       "    <tr>\n",
       "      <th id=\"T_5bcb5_level0_row0\" class=\"row_heading level0 row0\" >0</th>\n",
       "      <td id=\"T_5bcb5_row0_col0\" class=\"data row0 col0\" >3BBIF</td>\n",
       "      <td id=\"T_5bcb5_row0_col1\" class=\"data row0 col1\" >2024</td>\n",
       "      <td id=\"T_5bcb5_row0_col2\" class=\"data row0 col2\" >Q4</td>\n",
       "      <td id=\"T_5bcb5_row0_col3\" class=\"data row0 col3\" >5,279,119</td>\n",
       "      <td id=\"T_5bcb5_row0_col4\" class=\"data row0 col4\" >2,443,671</td>\n",
       "      <td id=\"T_5bcb5_row0_col5\" class=\"data row0 col5\" >2,835,448</td>\n",
       "      <td id=\"T_5bcb5_row0_col6\" class=\"data row0 col6\" >116.03%</td>\n",
       "      <td id=\"T_5bcb5_row0_col7\" class=\"data row0 col7\" >234</td>\n",
       "    </tr>\n",
       "    <tr>\n",
       "      <th id=\"T_5bcb5_level0_row1\" class=\"row_heading level0 row1\" >3</th>\n",
       "      <td id=\"T_5bcb5_row1_col0\" class=\"data row1 col0\" >AIMIRT</td>\n",
       "      <td id=\"T_5bcb5_row1_col1\" class=\"data row1 col1\" >2024</td>\n",
       "      <td id=\"T_5bcb5_row1_col2\" class=\"data row1 col2\" >Q4</td>\n",
       "      <td id=\"T_5bcb5_row1_col3\" class=\"data row1 col3\" >948,696</td>\n",
       "      <td id=\"T_5bcb5_row1_col4\" class=\"data row1 col4\" >698,124</td>\n",
       "      <td id=\"T_5bcb5_row1_col5\" class=\"data row1 col5\" >250,572</td>\n",
       "      <td id=\"T_5bcb5_row1_col6\" class=\"data row1 col6\" >35.89%</td>\n",
       "      <td id=\"T_5bcb5_row1_col7\" class=\"data row1 col7\" >669</td>\n",
       "    </tr>\n",
       "    <tr>\n",
       "      <th id=\"T_5bcb5_level0_row2\" class=\"row_heading level0 row2\" >9</th>\n",
       "      <td id=\"T_5bcb5_row2_col0\" class=\"data row2 col0\" >BCP</td>\n",
       "      <td id=\"T_5bcb5_row2_col1\" class=\"data row2 col1\" >2024</td>\n",
       "      <td id=\"T_5bcb5_row2_col2\" class=\"data row2 col2\" >Q4</td>\n",
       "      <td id=\"T_5bcb5_row2_col3\" class=\"data row2 col3\" >2,184,088</td>\n",
       "      <td id=\"T_5bcb5_row2_col4\" class=\"data row2 col4\" >1,190,697</td>\n",
       "      <td id=\"T_5bcb5_row2_col5\" class=\"data row2 col5\" >993,391</td>\n",
       "      <td id=\"T_5bcb5_row2_col6\" class=\"data row2 col6\" >83.43%</td>\n",
       "      <td id=\"T_5bcb5_row2_col7\" class=\"data row2 col7\" >52</td>\n",
       "    </tr>\n",
       "    <tr>\n",
       "      <th id=\"T_5bcb5_level0_row3\" class=\"row_heading level0 row3\" >10</th>\n",
       "      <td id=\"T_5bcb5_row3_col0\" class=\"data row3 col0\" >BCPG</td>\n",
       "      <td id=\"T_5bcb5_row3_col1\" class=\"data row3 col1\" >2024</td>\n",
       "      <td id=\"T_5bcb5_row3_col2\" class=\"data row3 col2\" >Q4</td>\n",
       "      <td id=\"T_5bcb5_row3_col3\" class=\"data row3 col3\" >1,819,389</td>\n",
       "      <td id=\"T_5bcb5_row3_col4\" class=\"data row3 col4\" >1,481,869</td>\n",
       "      <td id=\"T_5bcb5_row3_col5\" class=\"data row3 col5\" >337,520</td>\n",
       "      <td id=\"T_5bcb5_row3_col6\" class=\"data row3 col6\" >22.78%</td>\n",
       "      <td id=\"T_5bcb5_row3_col7\" class=\"data row3 col7\" >53</td>\n",
       "    </tr>\n",
       "    <tr>\n",
       "      <th id=\"T_5bcb5_level0_row4\" class=\"row_heading level0 row4\" >14</th>\n",
       "      <td id=\"T_5bcb5_row4_col0\" class=\"data row4 col0\" >BLA</td>\n",
       "      <td id=\"T_5bcb5_row4_col1\" class=\"data row4 col1\" >2024</td>\n",
       "      <td id=\"T_5bcb5_row4_col2\" class=\"data row4 col2\" >Q4</td>\n",
       "      <td id=\"T_5bcb5_row4_col3\" class=\"data row4 col3\" >4,317,070</td>\n",
       "      <td id=\"T_5bcb5_row4_col4\" class=\"data row4 col4\" >3,027,476</td>\n",
       "      <td id=\"T_5bcb5_row4_col5\" class=\"data row4 col5\" >1,289,594</td>\n",
       "      <td id=\"T_5bcb5_row4_col6\" class=\"data row4 col6\" >42.60%</td>\n",
       "      <td id=\"T_5bcb5_row4_col7\" class=\"data row4 col7\" >70</td>\n",
       "    </tr>\n",
       "  </tbody>\n",
       "</table>\n"
      ],
      "text/plain": [
       "<pandas.io.formats.style.Styler at 0x2a147fa78c0>"
      ]
     },
     "execution_count": 23,
     "metadata": {},
     "output_type": "execute_result"
    }
   ],
   "source": [
    "df_ins[df_ins_criteria].sort_values(by=[\"name\"], ascending=[True]).head().style.format(format_dict)"
   ]
  },
  {
   "cell_type": "code",
   "execution_count": 24,
   "metadata": {},
   "outputs": [],
   "source": [
    "conlt.commit()\n",
    "conlt.close()"
   ]
  },
  {
   "cell_type": "code",
   "execution_count": 25,
   "metadata": {},
   "outputs": [
    {
     "name": "stdout",
     "output_type": "stream",
     "text": [
      "2025:02:22 12:31:00\n"
     ]
    }
   ],
   "source": [
    "current_time = datetime.now()\n",
    "formatted_time = current_time.strftime(\"%Y:%m:%d %H:%M:%S\")\n",
    "print(formatted_time)"
   ]
  },
  {
   "cell_type": "code",
   "execution_count": null,
   "metadata": {},
   "outputs": [],
   "source": []
  }
 ],
 "metadata": {
  "anaconda-cloud": {},
  "kernelspec": {
   "display_name": "Python 3 (ipykernel)",
   "language": "python",
   "name": "python3"
  },
  "language_info": {
   "codemirror_mode": {
    "name": "ipython",
    "version": 3
   },
   "file_extension": ".py",
   "mimetype": "text/x-python",
   "name": "python",
   "nbconvert_exporter": "python",
   "pygments_lexer": "ipython3",
   "version": "3.12.3"
  }
 },
 "nbformat": 4,
 "nbformat_minor": 4
}
