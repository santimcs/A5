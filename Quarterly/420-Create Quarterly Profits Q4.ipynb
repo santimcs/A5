{
 "cells": [
  {
   "cell_type": "markdown",
   "metadata": {},
   "source": [
    "### Restart and Run All Cells"
   ]
  },
  {
   "cell_type": "code",
   "execution_count": 50,
   "metadata": {},
   "outputs": [
    {
     "data": {
      "text/plain": [
       "'2025-01-01'"
      ]
     },
     "execution_count": 50,
     "metadata": {},
     "output_type": "execute_result"
    }
   ],
   "source": [
    "import pandas as pd\n",
    "from datetime import date, timedelta\n",
    "from sqlalchemy import create_engine, text\n",
    "engine = create_engine(\"sqlite:///c:\\\\ruby\\\\portlt\\\\db\\\\development.sqlite3\")\n",
    "conlt = engine.connect()\n",
    "year = 2024\n",
    "quarter = 4\n",
    "today = date.today()\n",
    "today_str = today.strftime(\"%Y-%m-%d\")\n",
    "today_str"
   ]
  },
  {
   "cell_type": "code",
   "execution_count": 52,
   "metadata": {},
   "outputs": [],
   "source": [
    "cols = 'name year quarter q_amt_c q_amt_p inc_profit percent'.split()\n",
    "\n",
    "format_dict = {\n",
    "                'q_amt':'{:,}','q_amt_c':'{:,}','q_amt_p':'{:,}','inc_profit':'{:,}',\n",
    "                'yoy_gain':'{:,}','acc_gain':'{:,}',   \n",
    "                'latest_amt':'{:,}','previous_amt':'{:,}','inc_amt':'{:,}',\n",
    "                'q_eps':'{:.4f}','y_eps':'{:.4f}','aq_eps':'{:.4f}','ay_eps':'{:.4f}',\n",
    "                'percent':'{:.2f}%','inc_pct':'{:.2f}%'\n",
    "              }"
   ]
  },
  {
   "cell_type": "code",
   "execution_count": 54,
   "metadata": {},
   "outputs": [
    {
     "name": "stdout",
     "output_type": "stream",
     "text": [
      "\n",
      "SELECT name,year,quarter,q_amt \n",
      "FROM epss \n",
      "WHERE (year = 2024 AND quarter <= 4) \n",
      "OR (year = 2024-1 AND quarter >= 4+1)\n",
      "ORDER BY year DESC, quarter DESC\n",
      "\n"
     ]
    }
   ],
   "source": [
    "sql = \"\"\"\n",
    "SELECT name,year,quarter,q_amt \n",
    "FROM epss \n",
    "WHERE (year = %s AND quarter <= %s) \n",
    "OR (year = %s-1 AND quarter >= %s+1)\n",
    "ORDER BY year DESC, quarter DESC\n",
    "\"\"\"\n",
    "sql = sql % (year, quarter, year, quarter)\n",
    "print(sql)"
   ]
  },
  {
   "cell_type": "code",
   "execution_count": 56,
   "metadata": {},
   "outputs": [
    {
     "data": {
      "text/html": [
       "<div>\n",
       "<style scoped>\n",
       "    .dataframe tbody tr th:only-of-type {\n",
       "        vertical-align: middle;\n",
       "    }\n",
       "\n",
       "    .dataframe tbody tr th {\n",
       "        vertical-align: top;\n",
       "    }\n",
       "\n",
       "    .dataframe thead th {\n",
       "        text-align: right;\n",
       "    }\n",
       "</style>\n",
       "<table border=\"1\" class=\"dataframe\">\n",
       "  <thead>\n",
       "    <tr style=\"text-align: right;\">\n",
       "      <th></th>\n",
       "      <th>name</th>\n",
       "      <th>year</th>\n",
       "      <th>quarter</th>\n",
       "      <th>q_amt</th>\n",
       "      <th>Counter</th>\n",
       "    </tr>\n",
       "  </thead>\n",
       "  <tbody>\n",
       "    <tr>\n",
       "      <th>69</th>\n",
       "      <td>FPT</td>\n",
       "      <td>8096</td>\n",
       "      <td>10</td>\n",
       "      <td>1438028</td>\n",
       "      <td>4</td>\n",
       "    </tr>\n",
       "    <tr>\n",
       "      <th>79</th>\n",
       "      <td>GVREIT</td>\n",
       "      <td>8096</td>\n",
       "      <td>10</td>\n",
       "      <td>457671</td>\n",
       "      <td>4</td>\n",
       "    </tr>\n",
       "    <tr>\n",
       "      <th>185</th>\n",
       "      <td>TFFIF</td>\n",
       "      <td>8096</td>\n",
       "      <td>10</td>\n",
       "      <td>-458370</td>\n",
       "      <td>4</td>\n",
       "    </tr>\n",
       "  </tbody>\n",
       "</table>\n",
       "</div>"
      ],
      "text/plain": [
       "       name  year  quarter    q_amt  Counter\n",
       "69      FPT  8096       10  1438028        4\n",
       "79   GVREIT  8096       10   457671        4\n",
       "185   TFFIF  8096       10  -458370        4"
      ]
     },
     "execution_count": 56,
     "metadata": {},
     "output_type": "execute_result"
    }
   ],
   "source": [
    "dfc = pd.read_sql(sql, conlt)\n",
    "dfc[\"Counter\"] = 1\n",
    "dfc_grp = dfc.groupby([\"name\"], as_index=False).sum()\n",
    "dfc_grp = dfc_grp[dfc_grp[\"Counter\"] == 4]\n",
    "dfc_grp"
   ]
  },
  {
   "cell_type": "code",
   "execution_count": 58,
   "metadata": {},
   "outputs": [
    {
     "name": "stdout",
     "output_type": "stream",
     "text": [
      "\n",
      "SELECT name,year,quarter,q_amt \n",
      "FROM epss \n",
      "WHERE (year = 2024 AND quarter <= 4-1) \n",
      "OR (year = 2024-1 AND quarter >= 4) \n",
      "ORDER BY year DESC, quarter DESC\n"
     ]
    }
   ],
   "source": [
    "sql = \"\"\"\n",
    "SELECT name,year,quarter,q_amt \n",
    "FROM epss \n",
    "WHERE (year = %s AND quarter <= %s-1) \n",
    "OR (year = %s-1 AND quarter >= %s) \n",
    "ORDER BY year DESC, quarter DESC\"\"\"\n",
    "sql = sql % (year, quarter, year, quarter)\n",
    "print(sql)"
   ]
  },
  {
   "cell_type": "code",
   "execution_count": 60,
   "metadata": {},
   "outputs": [
    {
     "data": {
      "text/html": [
       "<style type=\"text/css\">\n",
       "</style>\n",
       "<table id=\"T_a2fa9\">\n",
       "  <thead>\n",
       "    <tr>\n",
       "      <th class=\"blank level0\" >&nbsp;</th>\n",
       "      <th id=\"T_a2fa9_level0_col0\" class=\"col_heading level0 col0\" >name</th>\n",
       "      <th id=\"T_a2fa9_level0_col1\" class=\"col_heading level0 col1\" >year</th>\n",
       "      <th id=\"T_a2fa9_level0_col2\" class=\"col_heading level0 col2\" >quarter</th>\n",
       "      <th id=\"T_a2fa9_level0_col3\" class=\"col_heading level0 col3\" >q_amt</th>\n",
       "      <th id=\"T_a2fa9_level0_col4\" class=\"col_heading level0 col4\" >Counter</th>\n",
       "    </tr>\n",
       "  </thead>\n",
       "  <tbody>\n",
       "    <tr>\n",
       "      <th id=\"T_a2fa9_level0_row0\" class=\"row_heading level0 row0\" >0</th>\n",
       "      <td id=\"T_a2fa9_row0_col0\" class=\"data row0 col0\" >3BBIF</td>\n",
       "      <td id=\"T_a2fa9_row0_col1\" class=\"data row0 col1\" >8095</td>\n",
       "      <td id=\"T_a2fa9_row0_col2\" class=\"data row0 col2\" >10</td>\n",
       "      <td id=\"T_a2fa9_row0_col3\" class=\"data row0 col3\" >2,443,671</td>\n",
       "      <td id=\"T_a2fa9_row0_col4\" class=\"data row0 col4\" >4</td>\n",
       "    </tr>\n",
       "    <tr>\n",
       "      <th id=\"T_a2fa9_level0_row1\" class=\"row_heading level0 row1\" >1</th>\n",
       "      <td id=\"T_a2fa9_row1_col0\" class=\"data row1 col0\" >ACE</td>\n",
       "      <td id=\"T_a2fa9_row1_col1\" class=\"data row1 col1\" >8095</td>\n",
       "      <td id=\"T_a2fa9_row1_col2\" class=\"data row1 col2\" >10</td>\n",
       "      <td id=\"T_a2fa9_row1_col3\" class=\"data row1 col3\" >750,207</td>\n",
       "      <td id=\"T_a2fa9_row1_col4\" class=\"data row1 col4\" >4</td>\n",
       "    </tr>\n",
       "    <tr>\n",
       "      <th id=\"T_a2fa9_level0_row2\" class=\"row_heading level0 row2\" >2</th>\n",
       "      <td id=\"T_a2fa9_row2_col0\" class=\"data row2 col0\" >ADVANC</td>\n",
       "      <td id=\"T_a2fa9_row2_col1\" class=\"data row2 col1\" >8095</td>\n",
       "      <td id=\"T_a2fa9_row2_col2\" class=\"data row2 col2\" >10</td>\n",
       "      <td id=\"T_a2fa9_row2_col3\" class=\"data row2 col3\" >32,818,977</td>\n",
       "      <td id=\"T_a2fa9_row2_col4\" class=\"data row2 col4\" >4</td>\n",
       "    </tr>\n",
       "    <tr>\n",
       "      <th id=\"T_a2fa9_level0_row3\" class=\"row_heading level0 row3\" >4</th>\n",
       "      <td id=\"T_a2fa9_row3_col0\" class=\"data row3 col0\" >AH</td>\n",
       "      <td id=\"T_a2fa9_row3_col1\" class=\"data row3 col1\" >8095</td>\n",
       "      <td id=\"T_a2fa9_row3_col2\" class=\"data row3 col2\" >10</td>\n",
       "      <td id=\"T_a2fa9_row3_col3\" class=\"data row3 col3\" >764,738</td>\n",
       "      <td id=\"T_a2fa9_row3_col4\" class=\"data row3 col4\" >4</td>\n",
       "    </tr>\n",
       "    <tr>\n",
       "      <th id=\"T_a2fa9_level0_row4\" class=\"row_heading level0 row4\" >5</th>\n",
       "      <td id=\"T_a2fa9_row4_col0\" class=\"data row4 col0\" >AIE</td>\n",
       "      <td id=\"T_a2fa9_row4_col1\" class=\"data row4 col1\" >8095</td>\n",
       "      <td id=\"T_a2fa9_row4_col2\" class=\"data row4 col2\" >10</td>\n",
       "      <td id=\"T_a2fa9_row4_col3\" class=\"data row4 col3\" >138,452</td>\n",
       "      <td id=\"T_a2fa9_row4_col4\" class=\"data row4 col4\" >4</td>\n",
       "    </tr>\n",
       "  </tbody>\n",
       "</table>\n"
      ],
      "text/plain": [
       "<pandas.io.formats.style.Styler at 0x1625ddaf590>"
      ]
     },
     "execution_count": 60,
     "metadata": {},
     "output_type": "execute_result"
    }
   ],
   "source": [
    "dfp = pd.read_sql(sql, conlt)\n",
    "dfp[\"Counter\"] = 1\n",
    "dfp_grp = dfp.groupby([\"name\"], as_index=False).sum()\n",
    "dfp_grp = dfp_grp[dfp_grp[\"Counter\"] == 4]\n",
    "dfp_grp.head().style.format(format_dict)"
   ]
  },
  {
   "cell_type": "code",
   "execution_count": 62,
   "metadata": {},
   "outputs": [
    {
     "data": {
      "text/plain": [
       "(224,)"
      ]
     },
     "execution_count": 62,
     "metadata": {},
     "output_type": "execute_result"
    }
   ],
   "source": [
    "dfp.name.unique().shape"
   ]
  },
  {
   "cell_type": "code",
   "execution_count": 64,
   "metadata": {},
   "outputs": [
    {
     "data": {
      "text/plain": [
       "(226, 15)"
      ]
     },
     "execution_count": 64,
     "metadata": {},
     "output_type": "execute_result"
    }
   ],
   "source": [
    "sql = \"\"\"\n",
    "SELECT *\n",
    "FROM stocks\n",
    "\"\"\"\n",
    "stocks = pd.read_sql(sql, conlt)\n",
    "stocks.shape"
   ]
  },
  {
   "cell_type": "code",
   "execution_count": 66,
   "metadata": {},
   "outputs": [
    {
     "data": {
      "text/plain": [
       "(394, 9)"
      ]
     },
     "execution_count": 66,
     "metadata": {},
     "output_type": "execute_result"
    }
   ],
   "source": [
    "sql = \"\"\"\n",
    "SELECT *\n",
    "FROM tickers\n",
    "\"\"\"\n",
    "tickers = pd.read_sql(sql, conlt)\n",
    "tickers.shape"
   ]
  },
  {
   "cell_type": "code",
   "execution_count": 68,
   "metadata": {},
   "outputs": [
    {
     "data": {
      "text/html": [
       "<style type=\"text/css\">\n",
       "</style>\n",
       "<table id=\"T_8df84\">\n",
       "  <thead>\n",
       "    <tr>\n",
       "      <th class=\"blank level0\" >&nbsp;</th>\n",
       "      <th id=\"T_8df84_level0_col0\" class=\"col_heading level0 col0\" >name</th>\n",
       "      <th id=\"T_8df84_level0_col1\" class=\"col_heading level0 col1\" >year</th>\n",
       "      <th id=\"T_8df84_level0_col2\" class=\"col_heading level0 col2\" >quarter</th>\n",
       "      <th id=\"T_8df84_level0_col3\" class=\"col_heading level0 col3\" >q_amt_c</th>\n",
       "      <th id=\"T_8df84_level0_col4\" class=\"col_heading level0 col4\" >q_amt_p</th>\n",
       "      <th id=\"T_8df84_level0_col5\" class=\"col_heading level0 col5\" >inc_profit</th>\n",
       "      <th id=\"T_8df84_level0_col6\" class=\"col_heading level0 col6\" >percent</th>\n",
       "    </tr>\n",
       "  </thead>\n",
       "  <tbody>\n",
       "    <tr>\n",
       "      <th id=\"T_8df84_level0_row0\" class=\"row_heading level0 row0\" >0</th>\n",
       "      <td id=\"T_8df84_row0_col0\" class=\"data row0 col0\" >FPT</td>\n",
       "      <td id=\"T_8df84_row0_col1\" class=\"data row0 col1\" >2024</td>\n",
       "      <td id=\"T_8df84_row0_col2\" class=\"data row0 col2\" >Q4</td>\n",
       "      <td id=\"T_8df84_row0_col3\" class=\"data row0 col3\" >1,438,028</td>\n",
       "      <td id=\"T_8df84_row0_col4\" class=\"data row0 col4\" >1,636,546</td>\n",
       "      <td id=\"T_8df84_row0_col5\" class=\"data row0 col5\" >-198,518</td>\n",
       "      <td id=\"T_8df84_row0_col6\" class=\"data row0 col6\" >-12.13%</td>\n",
       "    </tr>\n",
       "    <tr>\n",
       "      <th id=\"T_8df84_level0_row1\" class=\"row_heading level0 row1\" >1</th>\n",
       "      <td id=\"T_8df84_row1_col0\" class=\"data row1 col0\" >GVREIT</td>\n",
       "      <td id=\"T_8df84_row1_col1\" class=\"data row1 col1\" >2024</td>\n",
       "      <td id=\"T_8df84_row1_col2\" class=\"data row1 col2\" >Q4</td>\n",
       "      <td id=\"T_8df84_row1_col3\" class=\"data row1 col3\" >457,671</td>\n",
       "      <td id=\"T_8df84_row1_col4\" class=\"data row1 col4\" >523,108</td>\n",
       "      <td id=\"T_8df84_row1_col5\" class=\"data row1 col5\" >-65,437</td>\n",
       "      <td id=\"T_8df84_row1_col6\" class=\"data row1 col6\" >-12.51%</td>\n",
       "    </tr>\n",
       "    <tr>\n",
       "      <th id=\"T_8df84_level0_row2\" class=\"row_heading level0 row2\" >2</th>\n",
       "      <td id=\"T_8df84_row2_col0\" class=\"data row2 col0\" >TFFIF</td>\n",
       "      <td id=\"T_8df84_row2_col1\" class=\"data row2 col1\" >2024</td>\n",
       "      <td id=\"T_8df84_row2_col2\" class=\"data row2 col2\" >Q4</td>\n",
       "      <td id=\"T_8df84_row2_col3\" class=\"data row2 col3\" >-458,370</td>\n",
       "      <td id=\"T_8df84_row2_col4\" class=\"data row2 col4\" >9,534,817</td>\n",
       "      <td id=\"T_8df84_row2_col5\" class=\"data row2 col5\" >-9,993,187</td>\n",
       "      <td id=\"T_8df84_row2_col6\" class=\"data row2 col6\" >-104.81%</td>\n",
       "    </tr>\n",
       "  </tbody>\n",
       "</table>\n"
      ],
      "text/plain": [
       "<pandas.io.formats.style.Styler at 0x1625eb301a0>"
      ]
     },
     "execution_count": 68,
     "metadata": {},
     "output_type": "execute_result"
    }
   ],
   "source": [
    "dfm = pd.merge(dfc_grp, dfp_grp, on=\"name\", suffixes=([\"_c\", \"_p\"]), how=\"inner\")\n",
    "dfm[\"inc_profit\"] = dfm[\"q_amt_c\"] - dfm[\"q_amt_p\"]\n",
    "dfm[\"percent\"] = round(dfm[\"inc_profit\"] / abs(dfm[\"q_amt_p\"]) * 100, 2)\n",
    "dfm[\"year\"] = year\n",
    "dfm[\"quarter\"] = \"Q\" + str(quarter)\n",
    "df_percent = dfm[cols]\n",
    "df_percent.head().style.format(format_dict)"
   ]
  },
  {
   "cell_type": "code",
   "execution_count": 70,
   "metadata": {},
   "outputs": [
    {
     "name": "stdout",
     "output_type": "stream",
     "text": [
      "Rows deleted: 0\n"
     ]
    }
   ],
   "source": [
    "# Create the SQL query with parameter binding\n",
    "sql = text(\"DELETE FROM qt_profits WHERE year = :year AND quarter = :quarter\")\n",
    "\n",
    "# Execute the query with parameters\n",
    "params = {'year': year, 'quarter': f'Q{quarter}'}\n",
    "rp = conlt.execute(sql, params)\n",
    "\n",
    "# Print the number of rows affected\n",
    "print(\"Rows deleted:\", rp.rowcount)"
   ]
  },
  {
   "cell_type": "code",
   "execution_count": 72,
   "metadata": {},
   "outputs": [
    {
     "data": {
      "text/html": [
       "<div>\n",
       "<style scoped>\n",
       "    .dataframe tbody tr th:only-of-type {\n",
       "        vertical-align: middle;\n",
       "    }\n",
       "\n",
       "    .dataframe tbody tr th {\n",
       "        vertical-align: top;\n",
       "    }\n",
       "\n",
       "    .dataframe thead th {\n",
       "        text-align: right;\n",
       "    }\n",
       "</style>\n",
       "<table border=\"1\" class=\"dataframe\">\n",
       "  <thead>\n",
       "    <tr style=\"text-align: right;\">\n",
       "      <th></th>\n",
       "      <th>name</th>\n",
       "      <th>id</th>\n",
       "    </tr>\n",
       "  </thead>\n",
       "  <tbody>\n",
       "    <tr>\n",
       "      <th>303</th>\n",
       "      <td>SSC</td>\n",
       "      <td>476</td>\n",
       "    </tr>\n",
       "    <tr>\n",
       "      <th>334</th>\n",
       "      <td>THREL</td>\n",
       "      <td>526</td>\n",
       "    </tr>\n",
       "    <tr>\n",
       "      <th>283</th>\n",
       "      <td>SKE</td>\n",
       "      <td>660</td>\n",
       "    </tr>\n",
       "    <tr>\n",
       "      <th>271</th>\n",
       "      <td>SCP</td>\n",
       "      <td>432</td>\n",
       "    </tr>\n",
       "    <tr>\n",
       "      <th>225</th>\n",
       "      <td>POPF</td>\n",
       "      <td>364</td>\n",
       "    </tr>\n",
       "  </tbody>\n",
       "</table>\n",
       "</div>"
      ],
      "text/plain": [
       "      name   id\n",
       "303    SSC  476\n",
       "334  THREL  526\n",
       "283    SKE  660\n",
       "271    SCP  432\n",
       "225   POPF  364"
      ]
     },
     "execution_count": 72,
     "metadata": {},
     "output_type": "execute_result"
    }
   ],
   "source": [
    "sql = \"SELECT name, id FROM tickers\"\n",
    "tickers = pd.read_sql(sql, conlt)\n",
    "tickers.sample(5)"
   ]
  },
  {
   "cell_type": "code",
   "execution_count": 74,
   "metadata": {},
   "outputs": [
    {
     "data": {
      "text/html": [
       "<style type=\"text/css\">\n",
       "</style>\n",
       "<table id=\"T_ea51f\">\n",
       "  <thead>\n",
       "    <tr>\n",
       "      <th class=\"blank level0\" >&nbsp;</th>\n",
       "      <th id=\"T_ea51f_level0_col0\" class=\"col_heading level0 col0\" >name</th>\n",
       "      <th id=\"T_ea51f_level0_col1\" class=\"col_heading level0 col1\" >year</th>\n",
       "      <th id=\"T_ea51f_level0_col2\" class=\"col_heading level0 col2\" >quarter</th>\n",
       "      <th id=\"T_ea51f_level0_col3\" class=\"col_heading level0 col3\" >q_amt_c</th>\n",
       "      <th id=\"T_ea51f_level0_col4\" class=\"col_heading level0 col4\" >q_amt_p</th>\n",
       "      <th id=\"T_ea51f_level0_col5\" class=\"col_heading level0 col5\" >inc_profit</th>\n",
       "      <th id=\"T_ea51f_level0_col6\" class=\"col_heading level0 col6\" >percent</th>\n",
       "      <th id=\"T_ea51f_level0_col7\" class=\"col_heading level0 col7\" >id</th>\n",
       "    </tr>\n",
       "  </thead>\n",
       "  <tbody>\n",
       "    <tr>\n",
       "      <th id=\"T_ea51f_level0_row0\" class=\"row_heading level0 row0\" >0</th>\n",
       "      <td id=\"T_ea51f_row0_col0\" class=\"data row0 col0\" >FPT</td>\n",
       "      <td id=\"T_ea51f_row0_col1\" class=\"data row0 col1\" >2024</td>\n",
       "      <td id=\"T_ea51f_row0_col2\" class=\"data row0 col2\" >Q4</td>\n",
       "      <td id=\"T_ea51f_row0_col3\" class=\"data row0 col3\" >1,438,028</td>\n",
       "      <td id=\"T_ea51f_row0_col4\" class=\"data row0 col4\" >1,636,546</td>\n",
       "      <td id=\"T_ea51f_row0_col5\" class=\"data row0 col5\" >-198,518</td>\n",
       "      <td id=\"T_ea51f_row0_col6\" class=\"data row0 col6\" >-12.13%</td>\n",
       "      <td id=\"T_ea51f_row0_col7\" class=\"data row0 col7\" >746</td>\n",
       "    </tr>\n",
       "    <tr>\n",
       "      <th id=\"T_ea51f_level0_row1\" class=\"row_heading level0 row1\" >1</th>\n",
       "      <td id=\"T_ea51f_row1_col0\" class=\"data row1 col0\" >GVREIT</td>\n",
       "      <td id=\"T_ea51f_row1_col1\" class=\"data row1 col1\" >2024</td>\n",
       "      <td id=\"T_ea51f_row1_col2\" class=\"data row1 col2\" >Q4</td>\n",
       "      <td id=\"T_ea51f_row1_col3\" class=\"data row1 col3\" >457,671</td>\n",
       "      <td id=\"T_ea51f_row1_col4\" class=\"data row1 col4\" >523,108</td>\n",
       "      <td id=\"T_ea51f_row1_col5\" class=\"data row1 col5\" >-65,437</td>\n",
       "      <td id=\"T_ea51f_row1_col6\" class=\"data row1 col6\" >-12.51%</td>\n",
       "      <td id=\"T_ea51f_row1_col7\" class=\"data row1 col7\" >654</td>\n",
       "    </tr>\n",
       "    <tr>\n",
       "      <th id=\"T_ea51f_level0_row2\" class=\"row_heading level0 row2\" >2</th>\n",
       "      <td id=\"T_ea51f_row2_col0\" class=\"data row2 col0\" >TFFIF</td>\n",
       "      <td id=\"T_ea51f_row2_col1\" class=\"data row2 col1\" >2024</td>\n",
       "      <td id=\"T_ea51f_row2_col2\" class=\"data row2 col2\" >Q4</td>\n",
       "      <td id=\"T_ea51f_row2_col3\" class=\"data row2 col3\" >-458,370</td>\n",
       "      <td id=\"T_ea51f_row2_col4\" class=\"data row2 col4\" >9,534,817</td>\n",
       "      <td id=\"T_ea51f_row2_col5\" class=\"data row2 col5\" >-9,993,187</td>\n",
       "      <td id=\"T_ea51f_row2_col6\" class=\"data row2 col6\" >-104.81%</td>\n",
       "      <td id=\"T_ea51f_row2_col7\" class=\"data row2 col7\" >686</td>\n",
       "    </tr>\n",
       "  </tbody>\n",
       "</table>\n"
      ],
      "text/plain": [
       "<pandas.io.formats.style.Styler at 0x1625b062210>"
      ]
     },
     "execution_count": 74,
     "metadata": {},
     "output_type": "execute_result"
    }
   ],
   "source": [
    "df_ins = pd.merge(df_percent, tickers, on=\"name\", how=\"inner\")\n",
    "df_ins.head().style.format(format_dict)"
   ]
  },
  {
   "cell_type": "code",
   "execution_count": 76,
   "metadata": {},
   "outputs": [],
   "source": [
    "# Convert DataFrame to list of records\n",
    "rcds = df_ins.values.tolist()\n",
    "\n",
    "# Define column names in the same order as values\n",
    "columns = ['name', 'year', 'quarter', 'latest_amt', 'previous_amt', 'inc_amt', 'inc_pct', 'ticker_id']\n",
    "\n",
    "# SQL insert statement with named parameters\n",
    "sql = text(\"\"\"\n",
    "    INSERT INTO qt_profits \n",
    "    (name, year, quarter, latest_amt, previous_amt, inc_amt, inc_pct, ticker_id)\n",
    "    VALUES (:name, :year, :quarter, :latest_amt, :previous_amt, :inc_amt, :inc_pct, :ticker_id)\n",
    "\"\"\")\n",
    "\n",
    "try:\n",
    "    # Execute inserts\n",
    "    for rcd in rcds:\n",
    "        # Convert list to dictionary\n",
    "        params = dict(zip(columns, rcd))\n",
    "        conlt.execute(sql, params)\n",
    "except Exception as e:\n",
    "    raise e"
   ]
  },
  {
   "cell_type": "markdown",
   "metadata": {},
   "source": [
    "### End of loop"
   ]
  },
  {
   "cell_type": "code",
   "execution_count": 17,
   "metadata": {},
   "outputs": [
    {
     "data": {
      "text/html": [
       "<style type=\"text/css\">\n",
       "</style>\n",
       "<table id=\"T_d000e\">\n",
       "  <thead>\n",
       "    <tr>\n",
       "      <th class=\"blank level0\" >&nbsp;</th>\n",
       "      <th id=\"T_d000e_level0_col0\" class=\"col_heading level0 col0\" >name</th>\n",
       "      <th id=\"T_d000e_level0_col1\" class=\"col_heading level0 col1\" >year</th>\n",
       "      <th id=\"T_d000e_level0_col2\" class=\"col_heading level0 col2\" >quarter</th>\n",
       "      <th id=\"T_d000e_level0_col3\" class=\"col_heading level0 col3\" >q_amt_c</th>\n",
       "      <th id=\"T_d000e_level0_col4\" class=\"col_heading level0 col4\" >q_amt_p</th>\n",
       "      <th id=\"T_d000e_level0_col5\" class=\"col_heading level0 col5\" >inc_profit</th>\n",
       "      <th id=\"T_d000e_level0_col6\" class=\"col_heading level0 col6\" >percent</th>\n",
       "    </tr>\n",
       "  </thead>\n",
       "  <tbody>\n",
       "    <tr>\n",
       "      <th id=\"T_d000e_level0_row0\" class=\"row_heading level0 row0\" >0</th>\n",
       "      <td id=\"T_d000e_row0_col0\" class=\"data row0 col0\" >FPT</td>\n",
       "      <td id=\"T_d000e_row0_col1\" class=\"data row0 col1\" >2024</td>\n",
       "      <td id=\"T_d000e_row0_col2\" class=\"data row0 col2\" >Q4</td>\n",
       "      <td id=\"T_d000e_row0_col3\" class=\"data row0 col3\" >1,438,028</td>\n",
       "      <td id=\"T_d000e_row0_col4\" class=\"data row0 col4\" >1,636,546</td>\n",
       "      <td id=\"T_d000e_row0_col5\" class=\"data row0 col5\" >-198,518</td>\n",
       "      <td id=\"T_d000e_row0_col6\" class=\"data row0 col6\" >-12.13%</td>\n",
       "    </tr>\n",
       "    <tr>\n",
       "      <th id=\"T_d000e_level0_row1\" class=\"row_heading level0 row1\" >1</th>\n",
       "      <td id=\"T_d000e_row1_col0\" class=\"data row1 col0\" >GVREIT</td>\n",
       "      <td id=\"T_d000e_row1_col1\" class=\"data row1 col1\" >2024</td>\n",
       "      <td id=\"T_d000e_row1_col2\" class=\"data row1 col2\" >Q4</td>\n",
       "      <td id=\"T_d000e_row1_col3\" class=\"data row1 col3\" >457,671</td>\n",
       "      <td id=\"T_d000e_row1_col4\" class=\"data row1 col4\" >523,108</td>\n",
       "      <td id=\"T_d000e_row1_col5\" class=\"data row1 col5\" >-65,437</td>\n",
       "      <td id=\"T_d000e_row1_col6\" class=\"data row1 col6\" >-12.51%</td>\n",
       "    </tr>\n",
       "  </tbody>\n",
       "</table>\n"
      ],
      "text/plain": [
       "<pandas.io.formats.style.Styler at 0x1625b0629c0>"
      ]
     },
     "execution_count": 17,
     "metadata": {},
     "output_type": "execute_result"
    }
   ],
   "source": [
    "criteria_1 = df_ins.q_amt_c > 440_000\n",
    "df_ins.loc[criteria_1, cols].head().style.format(format_dict)"
   ]
  },
  {
   "cell_type": "code",
   "execution_count": 18,
   "metadata": {},
   "outputs": [
    {
     "data": {
      "text/html": [
       "<style type=\"text/css\">\n",
       "</style>\n",
       "<table id=\"T_3ec6c\">\n",
       "  <thead>\n",
       "    <tr>\n",
       "      <th class=\"blank level0\" >&nbsp;</th>\n",
       "      <th id=\"T_3ec6c_level0_col0\" class=\"col_heading level0 col0\" >name</th>\n",
       "      <th id=\"T_3ec6c_level0_col1\" class=\"col_heading level0 col1\" >year</th>\n",
       "      <th id=\"T_3ec6c_level0_col2\" class=\"col_heading level0 col2\" >quarter</th>\n",
       "      <th id=\"T_3ec6c_level0_col3\" class=\"col_heading level0 col3\" >q_amt_c</th>\n",
       "      <th id=\"T_3ec6c_level0_col4\" class=\"col_heading level0 col4\" >q_amt_p</th>\n",
       "      <th id=\"T_3ec6c_level0_col5\" class=\"col_heading level0 col5\" >inc_profit</th>\n",
       "      <th id=\"T_3ec6c_level0_col6\" class=\"col_heading level0 col6\" >percent</th>\n",
       "    </tr>\n",
       "  </thead>\n",
       "  <tbody>\n",
       "    <tr>\n",
       "      <th id=\"T_3ec6c_level0_row0\" class=\"row_heading level0 row0\" >0</th>\n",
       "      <td id=\"T_3ec6c_row0_col0\" class=\"data row0 col0\" >FPT</td>\n",
       "      <td id=\"T_3ec6c_row0_col1\" class=\"data row0 col1\" >2024</td>\n",
       "      <td id=\"T_3ec6c_row0_col2\" class=\"data row0 col2\" >Q4</td>\n",
       "      <td id=\"T_3ec6c_row0_col3\" class=\"data row0 col3\" >1,438,028</td>\n",
       "      <td id=\"T_3ec6c_row0_col4\" class=\"data row0 col4\" >1,636,546</td>\n",
       "      <td id=\"T_3ec6c_row0_col5\" class=\"data row0 col5\" >-198,518</td>\n",
       "      <td id=\"T_3ec6c_row0_col6\" class=\"data row0 col6\" >-12.13%</td>\n",
       "    </tr>\n",
       "    <tr>\n",
       "      <th id=\"T_3ec6c_level0_row1\" class=\"row_heading level0 row1\" >1</th>\n",
       "      <td id=\"T_3ec6c_row1_col0\" class=\"data row1 col0\" >GVREIT</td>\n",
       "      <td id=\"T_3ec6c_row1_col1\" class=\"data row1 col1\" >2024</td>\n",
       "      <td id=\"T_3ec6c_row1_col2\" class=\"data row1 col2\" >Q4</td>\n",
       "      <td id=\"T_3ec6c_row1_col3\" class=\"data row1 col3\" >457,671</td>\n",
       "      <td id=\"T_3ec6c_row1_col4\" class=\"data row1 col4\" >523,108</td>\n",
       "      <td id=\"T_3ec6c_row1_col5\" class=\"data row1 col5\" >-65,437</td>\n",
       "      <td id=\"T_3ec6c_row1_col6\" class=\"data row1 col6\" >-12.51%</td>\n",
       "    </tr>\n",
       "    <tr>\n",
       "      <th id=\"T_3ec6c_level0_row2\" class=\"row_heading level0 row2\" >2</th>\n",
       "      <td id=\"T_3ec6c_row2_col0\" class=\"data row2 col0\" >TFFIF</td>\n",
       "      <td id=\"T_3ec6c_row2_col1\" class=\"data row2 col1\" >2024</td>\n",
       "      <td id=\"T_3ec6c_row2_col2\" class=\"data row2 col2\" >Q4</td>\n",
       "      <td id=\"T_3ec6c_row2_col3\" class=\"data row2 col3\" >-458,370</td>\n",
       "      <td id=\"T_3ec6c_row2_col4\" class=\"data row2 col4\" >9,534,817</td>\n",
       "      <td id=\"T_3ec6c_row2_col5\" class=\"data row2 col5\" >-9,993,187</td>\n",
       "      <td id=\"T_3ec6c_row2_col6\" class=\"data row2 col6\" >-104.81%</td>\n",
       "    </tr>\n",
       "  </tbody>\n",
       "</table>\n"
      ],
      "text/plain": [
       "<pandas.io.formats.style.Styler at 0x1625dd52e10>"
      ]
     },
     "execution_count": 18,
     "metadata": {},
     "output_type": "execute_result"
    }
   ],
   "source": [
    "criteria_2 = df_ins.q_amt_p > 400_000\n",
    "df_ins.loc[criteria_2, cols].head().style.format(format_dict)"
   ]
  },
  {
   "cell_type": "code",
   "execution_count": 19,
   "metadata": {},
   "outputs": [
    {
     "data": {
      "text/html": [
       "<style type=\"text/css\">\n",
       "</style>\n",
       "<table id=\"T_f7153\">\n",
       "  <thead>\n",
       "    <tr>\n",
       "      <th class=\"blank level0\" >&nbsp;</th>\n",
       "      <th id=\"T_f7153_level0_col0\" class=\"col_heading level0 col0\" >name</th>\n",
       "      <th id=\"T_f7153_level0_col1\" class=\"col_heading level0 col1\" >year</th>\n",
       "      <th id=\"T_f7153_level0_col2\" class=\"col_heading level0 col2\" >quarter</th>\n",
       "      <th id=\"T_f7153_level0_col3\" class=\"col_heading level0 col3\" >q_amt_c</th>\n",
       "      <th id=\"T_f7153_level0_col4\" class=\"col_heading level0 col4\" >q_amt_p</th>\n",
       "      <th id=\"T_f7153_level0_col5\" class=\"col_heading level0 col5\" >inc_profit</th>\n",
       "      <th id=\"T_f7153_level0_col6\" class=\"col_heading level0 col6\" >percent</th>\n",
       "    </tr>\n",
       "  </thead>\n",
       "  <tbody>\n",
       "  </tbody>\n",
       "</table>\n"
      ],
      "text/plain": [
       "<pandas.io.formats.style.Styler at 0x1625eca2180>"
      ]
     },
     "execution_count": 19,
     "metadata": {},
     "output_type": "execute_result"
    }
   ],
   "source": [
    "criteria_3 = df_ins.percent > 10.00\n",
    "df_ins.loc[criteria_3, cols].head().style.format(format_dict)"
   ]
  },
  {
   "cell_type": "code",
   "execution_count": 20,
   "metadata": {},
   "outputs": [
    {
     "data": {
      "text/html": [
       "<style type=\"text/css\">\n",
       "</style>\n",
       "<table id=\"T_76ee3\">\n",
       "  <thead>\n",
       "    <tr>\n",
       "      <th class=\"blank level0\" >&nbsp;</th>\n",
       "      <th id=\"T_76ee3_level0_col0\" class=\"col_heading level0 col0\" >name</th>\n",
       "      <th id=\"T_76ee3_level0_col1\" class=\"col_heading level0 col1\" >year</th>\n",
       "      <th id=\"T_76ee3_level0_col2\" class=\"col_heading level0 col2\" >quarter</th>\n",
       "      <th id=\"T_76ee3_level0_col3\" class=\"col_heading level0 col3\" >q_amt_c</th>\n",
       "      <th id=\"T_76ee3_level0_col4\" class=\"col_heading level0 col4\" >q_amt_p</th>\n",
       "      <th id=\"T_76ee3_level0_col5\" class=\"col_heading level0 col5\" >inc_profit</th>\n",
       "      <th id=\"T_76ee3_level0_col6\" class=\"col_heading level0 col6\" >percent</th>\n",
       "    </tr>\n",
       "  </thead>\n",
       "  <tbody>\n",
       "  </tbody>\n",
       "</table>\n"
      ],
      "text/plain": [
       "<pandas.io.formats.style.Styler at 0x1625be1c6b0>"
      ]
     },
     "execution_count": 20,
     "metadata": {},
     "output_type": "execute_result"
    }
   ],
   "source": [
    "df_ins_criteria = criteria_1 & criteria_2 & criteria_3\n",
    "df_ins.loc[df_ins_criteria, cols].head().style.format(format_dict)"
   ]
  },
  {
   "cell_type": "code",
   "execution_count": 21,
   "metadata": {},
   "outputs": [
    {
     "data": {
      "text/html": [
       "<style type=\"text/css\">\n",
       "</style>\n",
       "<table id=\"T_f2d18\">\n",
       "  <thead>\n",
       "    <tr>\n",
       "      <th class=\"blank level0\" >&nbsp;</th>\n",
       "      <th id=\"T_f2d18_level0_col0\" class=\"col_heading level0 col0\" >name</th>\n",
       "      <th id=\"T_f2d18_level0_col1\" class=\"col_heading level0 col1\" >year</th>\n",
       "      <th id=\"T_f2d18_level0_col2\" class=\"col_heading level0 col2\" >quarter</th>\n",
       "      <th id=\"T_f2d18_level0_col3\" class=\"col_heading level0 col3\" >q_amt_c</th>\n",
       "      <th id=\"T_f2d18_level0_col4\" class=\"col_heading level0 col4\" >q_amt_p</th>\n",
       "      <th id=\"T_f2d18_level0_col5\" class=\"col_heading level0 col5\" >inc_profit</th>\n",
       "      <th id=\"T_f2d18_level0_col6\" class=\"col_heading level0 col6\" >percent</th>\n",
       "      <th id=\"T_f2d18_level0_col7\" class=\"col_heading level0 col7\" >id</th>\n",
       "    </tr>\n",
       "  </thead>\n",
       "  <tbody>\n",
       "  </tbody>\n",
       "</table>\n"
      ],
      "text/plain": [
       "<pandas.io.formats.style.Styler at 0x1625ea76540>"
      ]
     },
     "execution_count": 21,
     "metadata": {},
     "output_type": "execute_result"
    }
   ],
   "source": [
    "df_ins[df_ins_criteria].sort_values(by=[\"percent\"], ascending=[False]).head().style.format(format_dict)"
   ]
  },
  {
   "cell_type": "code",
   "execution_count": 22,
   "metadata": {},
   "outputs": [
    {
     "data": {
      "text/html": [
       "<style type=\"text/css\">\n",
       "</style>\n",
       "<table id=\"T_1305d\">\n",
       "  <thead>\n",
       "    <tr>\n",
       "      <th class=\"blank level0\" >&nbsp;</th>\n",
       "      <th id=\"T_1305d_level0_col0\" class=\"col_heading level0 col0\" >name</th>\n",
       "      <th id=\"T_1305d_level0_col1\" class=\"col_heading level0 col1\" >year</th>\n",
       "      <th id=\"T_1305d_level0_col2\" class=\"col_heading level0 col2\" >quarter</th>\n",
       "      <th id=\"T_1305d_level0_col3\" class=\"col_heading level0 col3\" >q_amt_c</th>\n",
       "      <th id=\"T_1305d_level0_col4\" class=\"col_heading level0 col4\" >q_amt_p</th>\n",
       "      <th id=\"T_1305d_level0_col5\" class=\"col_heading level0 col5\" >inc_profit</th>\n",
       "      <th id=\"T_1305d_level0_col6\" class=\"col_heading level0 col6\" >percent</th>\n",
       "      <th id=\"T_1305d_level0_col7\" class=\"col_heading level0 col7\" >id</th>\n",
       "    </tr>\n",
       "  </thead>\n",
       "  <tbody>\n",
       "  </tbody>\n",
       "</table>\n"
      ],
      "text/plain": [
       "<pandas.io.formats.style.Styler at 0x1625dd52de0>"
      ]
     },
     "execution_count": 22,
     "metadata": {},
     "output_type": "execute_result"
    }
   ],
   "source": [
    "df_ins[df_ins_criteria].sort_values(by=[\"name\"], ascending=[True]).head().style.format(format_dict)"
   ]
  },
  {
   "cell_type": "code",
   "execution_count": 23,
   "metadata": {},
   "outputs": [
    {
     "data": {
      "text/html": [
       "<style type=\"text/css\">\n",
       "</style>\n",
       "<table id=\"T_a858f\">\n",
       "  <thead>\n",
       "    <tr>\n",
       "      <th class=\"blank level0\" >&nbsp;</th>\n",
       "      <th id=\"T_a858f_level0_col0\" class=\"col_heading level0 col0\" >name</th>\n",
       "      <th id=\"T_a858f_level0_col1\" class=\"col_heading level0 col1\" >year</th>\n",
       "      <th id=\"T_a858f_level0_col2\" class=\"col_heading level0 col2\" >quarter</th>\n",
       "      <th id=\"T_a858f_level0_col3\" class=\"col_heading level0 col3\" >q_amt_c</th>\n",
       "      <th id=\"T_a858f_level0_col4\" class=\"col_heading level0 col4\" >q_amt_p</th>\n",
       "      <th id=\"T_a858f_level0_col5\" class=\"col_heading level0 col5\" >inc_profit</th>\n",
       "      <th id=\"T_a858f_level0_col6\" class=\"col_heading level0 col6\" >percent</th>\n",
       "      <th id=\"T_a858f_level0_col7\" class=\"col_heading level0 col7\" >id</th>\n",
       "    </tr>\n",
       "  </thead>\n",
       "  <tbody>\n",
       "  </tbody>\n",
       "</table>\n"
      ],
      "text/plain": [
       "<pandas.io.formats.style.Styler at 0x1625ed166f0>"
      ]
     },
     "execution_count": 23,
     "metadata": {},
     "output_type": "execute_result"
    }
   ],
   "source": [
    "df_ins[df_ins_criteria].sort_values(by=[\"name\"], ascending=[True]).head().style.format(format_dict)"
   ]
  },
  {
   "cell_type": "code",
   "execution_count": 24,
   "metadata": {},
   "outputs": [
    {
     "name": "stdout",
     "output_type": "stream",
     "text": [
      "\n",
      "SELECT name, COUNT(*) AS 'Nbr. of Group of 4 Quarters'\n",
      "FROM qt_profits\n",
      "GROUP BY name\n",
      "HAVING COUNT(*) = 1\n",
      "ORDER BY COUNT(*) DESC, name\n",
      "\n"
     ]
    },
    {
     "data": {
      "text/html": [
       "<div>\n",
       "<style scoped>\n",
       "    .dataframe tbody tr th:only-of-type {\n",
       "        vertical-align: middle;\n",
       "    }\n",
       "\n",
       "    .dataframe tbody tr th {\n",
       "        vertical-align: top;\n",
       "    }\n",
       "\n",
       "    .dataframe thead th {\n",
       "        text-align: right;\n",
       "    }\n",
       "</style>\n",
       "<table border=\"1\" class=\"dataframe\">\n",
       "  <thead>\n",
       "    <tr style=\"text-align: right;\">\n",
       "      <th></th>\n",
       "      <th>name</th>\n",
       "      <th>Nbr. of Group of 4 Quarters</th>\n",
       "    </tr>\n",
       "  </thead>\n",
       "  <tbody>\n",
       "  </tbody>\n",
       "</table>\n",
       "</div>"
      ],
      "text/plain": [
       "Empty DataFrame\n",
       "Columns: [name, Nbr. of Group of 4 Quarters]\n",
       "Index: []"
      ]
     },
     "execution_count": 24,
     "metadata": {},
     "output_type": "execute_result"
    }
   ],
   "source": [
    "sql = \"\"\"\n",
    "SELECT name, COUNT(*) AS 'Nbr. of Group of 4 Quarters'\n",
    "FROM qt_profits\n",
    "GROUP BY name\n",
    "HAVING COUNT(*) = 1\n",
    "ORDER BY COUNT(*) DESC, name\n",
    "\"\"\"\n",
    "print(sql)\n",
    "\n",
    "tmp = pd.read_sql(sql, conlt)\n",
    "tmp"
   ]
  },
  {
   "cell_type": "code",
   "execution_count": 80,
   "metadata": {},
   "outputs": [],
   "source": [
    "conlt.close()"
   ]
  },
  {
   "cell_type": "code",
   "execution_count": null,
   "metadata": {},
   "outputs": [],
   "source": []
  }
 ],
 "metadata": {
  "anaconda-cloud": {},
  "kernelspec": {
   "display_name": "Python 3 (ipykernel)",
   "language": "python",
   "name": "python3"
  },
  "language_info": {
   "codemirror_mode": {
    "name": "ipython",
    "version": 3
   },
   "file_extension": ".py",
   "mimetype": "text/x-python",
   "name": "python",
   "nbconvert_exporter": "python",
   "pygments_lexer": "ipython3",
   "version": "3.12.3"
  }
 },
 "nbformat": 4,
 "nbformat_minor": 4
}
