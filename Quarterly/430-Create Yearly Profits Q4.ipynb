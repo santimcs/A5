{
 "cells": [
  {
   "cell_type": "markdown",
   "metadata": {},
   "source": [
    "### Restart and Run All Cells"
   ]
  },
  {
   "cell_type": "code",
   "execution_count": 2,
   "metadata": {},
   "outputs": [
    {
     "name": "stdout",
     "output_type": "stream",
     "text": [
      "2025:02:12 11:59:10\n"
     ]
    }
   ],
   "source": [
    "import pandas as pd\n",
    "from datetime import date, timedelta, datetime\n",
    "from sqlalchemy import create_engine, text\n",
    "engine = create_engine(\"sqlite:///c:\\\\ruby\\\\portlt\\\\db\\\\development.sqlite3\")\n",
    "conlt = engine.connect()\n",
    "year = 2024\n",
    "quarter = 4\n",
    "today = date.today()\n",
    "today_str = today.strftime(\"%Y-%m-%d\")\n",
    "current_time = datetime.now()\n",
    "formatted_time = current_time.strftime(\"%Y:%m:%d %H:%M:%S\")\n",
    "print(formatted_time)"
   ]
  },
  {
   "cell_type": "code",
   "execution_count": 4,
   "metadata": {},
   "outputs": [],
   "source": [
    "cols = 'name year quarter q_amt_c q_amt_p inc_profit percent'.split()\n",
    "\n",
    "format_dict = {\n",
    "                'q_amt':'{:,}','q_amt_c':'{:,}','q_amt_p':'{:,}','inc_profit':'{:,}',\n",
    "                'yoy_gain':'{:,}','acc_gain':'{:,}',    \n",
    "                'q_eps':'{:.4f}','y_eps':'{:.4f}','aq_eps':'{:.4f}','ay_eps':'{:.4f}',\n",
    "                'percent':'{:.2f}%'\n",
    "              }"
   ]
  },
  {
   "cell_type": "code",
   "execution_count": 6,
   "metadata": {},
   "outputs": [
    {
     "name": "stdout",
     "output_type": "stream",
     "text": [
      "\n",
      "SELECT name,year,quarter,q_amt\n",
      "FROM epss \n",
      "WHERE (year = 2024 AND quarter <= 4) \n",
      "OR (year = 2024-1 AND quarter >= 4+1)\n",
      "ORDER BY year DESC, quarter DESC\n"
     ]
    }
   ],
   "source": [
    "sql = \"\"\"\n",
    "SELECT name,year,quarter,q_amt\n",
    "FROM epss \n",
    "WHERE (year = %s AND quarter <= %s) \n",
    "OR (year = %s-1 AND quarter >= %s+1)\n",
    "ORDER BY year DESC, quarter DESC\"\"\"\n",
    "sql = sql % (year, quarter, year, quarter)\n",
    "print(sql)"
   ]
  },
  {
   "cell_type": "code",
   "execution_count": 8,
   "metadata": {},
   "outputs": [
    {
     "data": {
      "text/html": [
       "<style type=\"text/css\">\n",
       "</style>\n",
       "<table id=\"T_2d5f3\">\n",
       "  <thead>\n",
       "    <tr>\n",
       "      <th class=\"blank level0\" >&nbsp;</th>\n",
       "      <th id=\"T_2d5f3_level0_col0\" class=\"col_heading level0 col0\" >name</th>\n",
       "      <th id=\"T_2d5f3_level0_col1\" class=\"col_heading level0 col1\" >year</th>\n",
       "      <th id=\"T_2d5f3_level0_col2\" class=\"col_heading level0 col2\" >quarter</th>\n",
       "      <th id=\"T_2d5f3_level0_col3\" class=\"col_heading level0 col3\" >q_amt</th>\n",
       "      <th id=\"T_2d5f3_level0_col4\" class=\"col_heading level0 col4\" >Counter</th>\n",
       "    </tr>\n",
       "  </thead>\n",
       "  <tbody>\n",
       "    <tr>\n",
       "      <th id=\"T_2d5f3_level0_row0\" class=\"row_heading level0 row0\" >0</th>\n",
       "      <td id=\"T_2d5f3_row0_col0\" class=\"data row0 col0\" >3BBIF</td>\n",
       "      <td id=\"T_2d5f3_row0_col1\" class=\"data row0 col1\" >8096</td>\n",
       "      <td id=\"T_2d5f3_row0_col2\" class=\"data row0 col2\" >10</td>\n",
       "      <td id=\"T_2d5f3_row0_col3\" class=\"data row0 col3\" >5,279,119</td>\n",
       "      <td id=\"T_2d5f3_row0_col4\" class=\"data row0 col4\" >4</td>\n",
       "    </tr>\n",
       "    <tr>\n",
       "      <th id=\"T_2d5f3_level0_row1\" class=\"row_heading level0 row1\" >2</th>\n",
       "      <td id=\"T_2d5f3_row1_col0\" class=\"data row1 col0\" >ADVANC</td>\n",
       "      <td id=\"T_2d5f3_row1_col1\" class=\"data row1 col1\" >8096</td>\n",
       "      <td id=\"T_2d5f3_row1_col2\" class=\"data row1 col2\" >10</td>\n",
       "      <td id=\"T_2d5f3_row1_col3\" class=\"data row1 col3\" >35,075,357</td>\n",
       "      <td id=\"T_2d5f3_row1_col4\" class=\"data row1 col4\" >4</td>\n",
       "    </tr>\n",
       "    <tr>\n",
       "      <th id=\"T_2d5f3_level0_row2\" class=\"row_heading level0 row2\" >21</th>\n",
       "      <td id=\"T_2d5f3_row2_col0\" class=\"data row2 col0\" >BAY</td>\n",
       "      <td id=\"T_2d5f3_row2_col1\" class=\"data row2 col1\" >8096</td>\n",
       "      <td id=\"T_2d5f3_row2_col2\" class=\"data row2 col2\" >10</td>\n",
       "      <td id=\"T_2d5f3_row2_col3\" class=\"data row2 col3\" >29,699,751</td>\n",
       "      <td id=\"T_2d5f3_row2_col4\" class=\"data row2 col4\" >4</td>\n",
       "    </tr>\n",
       "    <tr>\n",
       "      <th id=\"T_2d5f3_level0_row3\" class=\"row_heading level0 row3\" >22</th>\n",
       "      <td id=\"T_2d5f3_row3_col0\" class=\"data row3 col0\" >BBL</td>\n",
       "      <td id=\"T_2d5f3_row3_col1\" class=\"data row3 col1\" >8096</td>\n",
       "      <td id=\"T_2d5f3_row3_col2\" class=\"data row3 col2\" >10</td>\n",
       "      <td id=\"T_2d5f3_row3_col3\" class=\"data row3 col3\" >45,211,145</td>\n",
       "      <td id=\"T_2d5f3_row3_col4\" class=\"data row3 col4\" >4</td>\n",
       "    </tr>\n",
       "    <tr>\n",
       "      <th id=\"T_2d5f3_level0_row4\" class=\"row_heading level0 row4\" >56</th>\n",
       "      <td id=\"T_2d5f3_row4_col0\" class=\"data row4 col0\" >DCC</td>\n",
       "      <td id=\"T_2d5f3_row4_col1\" class=\"data row4 col1\" >8096</td>\n",
       "      <td id=\"T_2d5f3_row4_col2\" class=\"data row4 col2\" >10</td>\n",
       "      <td id=\"T_2d5f3_row4_col3\" class=\"data row4 col3\" >1,103,565</td>\n",
       "      <td id=\"T_2d5f3_row4_col4\" class=\"data row4 col4\" >4</td>\n",
       "    </tr>\n",
       "  </tbody>\n",
       "</table>\n"
      ],
      "text/plain": [
       "<pandas.io.formats.style.Styler at 0x24a50b44e30>"
      ]
     },
     "execution_count": 8,
     "metadata": {},
     "output_type": "execute_result"
    }
   ],
   "source": [
    "dfc = pd.read_sql(sql, conlt)\n",
    "dfc[\"Counter\"] = 1\n",
    "dfc_grp = dfc.groupby([\"name\"], as_index=False).sum()\n",
    "dfc_grp = dfc_grp[dfc_grp[\"Counter\"] == 4]\n",
    "dfc_grp.head().style.format(format_dict)"
   ]
  },
  {
   "cell_type": "code",
   "execution_count": 10,
   "metadata": {},
   "outputs": [
    {
     "name": "stdout",
     "output_type": "stream",
     "text": [
      "\n",
      "SELECT name,year,quarter,q_amt\n",
      "FROM epss \n",
      "WHERE (year = 2024-1 AND quarter <= 4) \n",
      "OR (year = 2024-2 AND quarter >= 4+1)\n",
      "ORDER BY year DESC, quarter DESC\n",
      "\n"
     ]
    }
   ],
   "source": [
    "sql = \"\"\"\n",
    "SELECT name,year,quarter,q_amt\n",
    "FROM epss \n",
    "WHERE (year = %s-1 AND quarter <= %s) \n",
    "OR (year = %s-2 AND quarter >= %s+1)\n",
    "ORDER BY year DESC, quarter DESC\n",
    "\"\"\"\n",
    "sql = sql % (year, quarter, year, quarter)\n",
    "print(sql)"
   ]
  },
  {
   "cell_type": "code",
   "execution_count": 12,
   "metadata": {},
   "outputs": [
    {
     "data": {
      "text/html": [
       "<style type=\"text/css\">\n",
       "</style>\n",
       "<table id=\"T_c527b\">\n",
       "  <thead>\n",
       "    <tr>\n",
       "      <th class=\"blank level0\" >&nbsp;</th>\n",
       "      <th id=\"T_c527b_level0_col0\" class=\"col_heading level0 col0\" >name</th>\n",
       "      <th id=\"T_c527b_level0_col1\" class=\"col_heading level0 col1\" >year</th>\n",
       "      <th id=\"T_c527b_level0_col2\" class=\"col_heading level0 col2\" >quarter</th>\n",
       "      <th id=\"T_c527b_level0_col3\" class=\"col_heading level0 col3\" >q_amt</th>\n",
       "      <th id=\"T_c527b_level0_col4\" class=\"col_heading level0 col4\" >Counter</th>\n",
       "    </tr>\n",
       "  </thead>\n",
       "  <tbody>\n",
       "    <tr>\n",
       "      <th id=\"T_c527b_level0_row0\" class=\"row_heading level0 row0\" >0</th>\n",
       "      <td id=\"T_c527b_row0_col0\" class=\"data row0 col0\" >3BBIF</td>\n",
       "      <td id=\"T_c527b_row0_col1\" class=\"data row0 col1\" >8092</td>\n",
       "      <td id=\"T_c527b_row0_col2\" class=\"data row0 col2\" >10</td>\n",
       "      <td id=\"T_c527b_row0_col3\" class=\"data row0 col3\" >-11,139,183</td>\n",
       "      <td id=\"T_c527b_row0_col4\" class=\"data row0 col4\" >4</td>\n",
       "    </tr>\n",
       "    <tr>\n",
       "      <th id=\"T_c527b_level0_row1\" class=\"row_heading level0 row1\" >1</th>\n",
       "      <td id=\"T_c527b_row1_col0\" class=\"data row1 col0\" >ACE</td>\n",
       "      <td id=\"T_c527b_row1_col1\" class=\"data row1 col1\" >8092</td>\n",
       "      <td id=\"T_c527b_row1_col2\" class=\"data row1 col2\" >10</td>\n",
       "      <td id=\"T_c527b_row1_col3\" class=\"data row1 col3\" >1,072,511</td>\n",
       "      <td id=\"T_c527b_row1_col4\" class=\"data row1 col4\" >4</td>\n",
       "    </tr>\n",
       "    <tr>\n",
       "      <th id=\"T_c527b_level0_row2\" class=\"row_heading level0 row2\" >2</th>\n",
       "      <td id=\"T_c527b_row2_col0\" class=\"data row2 col0\" >ADVANC</td>\n",
       "      <td id=\"T_c527b_row2_col1\" class=\"data row2 col1\" >8092</td>\n",
       "      <td id=\"T_c527b_row2_col2\" class=\"data row2 col2\" >10</td>\n",
       "      <td id=\"T_c527b_row2_col3\" class=\"data row2 col3\" >29,086,105</td>\n",
       "      <td id=\"T_c527b_row2_col4\" class=\"data row2 col4\" >4</td>\n",
       "    </tr>\n",
       "    <tr>\n",
       "      <th id=\"T_c527b_level0_row3\" class=\"row_heading level0 row3\" >3</th>\n",
       "      <td id=\"T_c527b_row3_col0\" class=\"data row3 col0\" >AEONTS</td>\n",
       "      <td id=\"T_c527b_row3_col1\" class=\"data row3 col1\" >8092</td>\n",
       "      <td id=\"T_c527b_row3_col2\" class=\"data row3 col2\" >10</td>\n",
       "      <td id=\"T_c527b_row3_col3\" class=\"data row3 col3\" >3,258,785</td>\n",
       "      <td id=\"T_c527b_row3_col4\" class=\"data row3 col4\" >4</td>\n",
       "    </tr>\n",
       "    <tr>\n",
       "      <th id=\"T_c527b_level0_row4\" class=\"row_heading level0 row4\" >4</th>\n",
       "      <td id=\"T_c527b_row4_col0\" class=\"data row4 col0\" >AH</td>\n",
       "      <td id=\"T_c527b_row4_col1\" class=\"data row4 col1\" >8092</td>\n",
       "      <td id=\"T_c527b_row4_col2\" class=\"data row4 col2\" >10</td>\n",
       "      <td id=\"T_c527b_row4_col3\" class=\"data row4 col3\" >1,610,435</td>\n",
       "      <td id=\"T_c527b_row4_col4\" class=\"data row4 col4\" >4</td>\n",
       "    </tr>\n",
       "  </tbody>\n",
       "</table>\n"
      ],
      "text/plain": [
       "<pandas.io.formats.style.Styler at 0x24a511668d0>"
      ]
     },
     "execution_count": 12,
     "metadata": {},
     "output_type": "execute_result"
    }
   ],
   "source": [
    "dfp = pd.read_sql(sql, conlt)\n",
    "dfp[\"Counter\"] = 1\n",
    "dfp_grp = dfp.groupby([\"name\"], as_index=False).sum()\n",
    "dfp_grp = dfp_grp[dfp_grp[\"Counter\"] == 4]\n",
    "dfp_grp.head().style.format(format_dict)"
   ]
  },
  {
   "cell_type": "code",
   "execution_count": 14,
   "metadata": {},
   "outputs": [
    {
     "data": {
      "text/html": [
       "<style type=\"text/css\">\n",
       "</style>\n",
       "<table id=\"T_b2697\">\n",
       "  <thead>\n",
       "    <tr>\n",
       "      <th class=\"blank level0\" >&nbsp;</th>\n",
       "      <th id=\"T_b2697_level0_col0\" class=\"col_heading level0 col0\" >name</th>\n",
       "      <th id=\"T_b2697_level0_col1\" class=\"col_heading level0 col1\" >year</th>\n",
       "      <th id=\"T_b2697_level0_col2\" class=\"col_heading level0 col2\" >quarter</th>\n",
       "      <th id=\"T_b2697_level0_col3\" class=\"col_heading level0 col3\" >q_amt_c</th>\n",
       "      <th id=\"T_b2697_level0_col4\" class=\"col_heading level0 col4\" >q_amt_p</th>\n",
       "      <th id=\"T_b2697_level0_col5\" class=\"col_heading level0 col5\" >inc_profit</th>\n",
       "      <th id=\"T_b2697_level0_col6\" class=\"col_heading level0 col6\" >percent</th>\n",
       "    </tr>\n",
       "  </thead>\n",
       "  <tbody>\n",
       "    <tr>\n",
       "      <th id=\"T_b2697_level0_row0\" class=\"row_heading level0 row0\" >0</th>\n",
       "      <td id=\"T_b2697_row0_col0\" class=\"data row0 col0\" >3BBIF</td>\n",
       "      <td id=\"T_b2697_row0_col1\" class=\"data row0 col1\" >2024</td>\n",
       "      <td id=\"T_b2697_row0_col2\" class=\"data row0 col2\" >Q4</td>\n",
       "      <td id=\"T_b2697_row0_col3\" class=\"data row0 col3\" >5,279,119</td>\n",
       "      <td id=\"T_b2697_row0_col4\" class=\"data row0 col4\" >-11,139,183</td>\n",
       "      <td id=\"T_b2697_row0_col5\" class=\"data row0 col5\" >16,418,302</td>\n",
       "      <td id=\"T_b2697_row0_col6\" class=\"data row0 col6\" >147.39%</td>\n",
       "    </tr>\n",
       "    <tr>\n",
       "      <th id=\"T_b2697_level0_row1\" class=\"row_heading level0 row1\" >1</th>\n",
       "      <td id=\"T_b2697_row1_col0\" class=\"data row1 col0\" >ADVANC</td>\n",
       "      <td id=\"T_b2697_row1_col1\" class=\"data row1 col1\" >2024</td>\n",
       "      <td id=\"T_b2697_row1_col2\" class=\"data row1 col2\" >Q4</td>\n",
       "      <td id=\"T_b2697_row1_col3\" class=\"data row1 col3\" >35,075,357</td>\n",
       "      <td id=\"T_b2697_row1_col4\" class=\"data row1 col4\" >29,086,105</td>\n",
       "      <td id=\"T_b2697_row1_col5\" class=\"data row1 col5\" >5,989,252</td>\n",
       "      <td id=\"T_b2697_row1_col6\" class=\"data row1 col6\" >20.59%</td>\n",
       "    </tr>\n",
       "    <tr>\n",
       "      <th id=\"T_b2697_level0_row2\" class=\"row_heading level0 row2\" >2</th>\n",
       "      <td id=\"T_b2697_row2_col0\" class=\"data row2 col0\" >BAY</td>\n",
       "      <td id=\"T_b2697_row2_col1\" class=\"data row2 col1\" >2024</td>\n",
       "      <td id=\"T_b2697_row2_col2\" class=\"data row2 col2\" >Q4</td>\n",
       "      <td id=\"T_b2697_row2_col3\" class=\"data row2 col3\" >29,699,751</td>\n",
       "      <td id=\"T_b2697_row2_col4\" class=\"data row2 col4\" >32,929,523</td>\n",
       "      <td id=\"T_b2697_row2_col5\" class=\"data row2 col5\" >-3,229,772</td>\n",
       "      <td id=\"T_b2697_row2_col6\" class=\"data row2 col6\" >-9.81%</td>\n",
       "    </tr>\n",
       "    <tr>\n",
       "      <th id=\"T_b2697_level0_row3\" class=\"row_heading level0 row3\" >3</th>\n",
       "      <td id=\"T_b2697_row3_col0\" class=\"data row3 col0\" >BBL</td>\n",
       "      <td id=\"T_b2697_row3_col1\" class=\"data row3 col1\" >2024</td>\n",
       "      <td id=\"T_b2697_row3_col2\" class=\"data row3 col2\" >Q4</td>\n",
       "      <td id=\"T_b2697_row3_col3\" class=\"data row3 col3\" >45,211,145</td>\n",
       "      <td id=\"T_b2697_row3_col4\" class=\"data row3 col4\" >41,635,521</td>\n",
       "      <td id=\"T_b2697_row3_col5\" class=\"data row3 col5\" >3,575,624</td>\n",
       "      <td id=\"T_b2697_row3_col6\" class=\"data row3 col6\" >8.59%</td>\n",
       "    </tr>\n",
       "    <tr>\n",
       "      <th id=\"T_b2697_level0_row4\" class=\"row_heading level0 row4\" >4</th>\n",
       "      <td id=\"T_b2697_row4_col0\" class=\"data row4 col0\" >DCC</td>\n",
       "      <td id=\"T_b2697_row4_col1\" class=\"data row4 col1\" >2024</td>\n",
       "      <td id=\"T_b2697_row4_col2\" class=\"data row4 col2\" >Q4</td>\n",
       "      <td id=\"T_b2697_row4_col3\" class=\"data row4 col3\" >1,103,565</td>\n",
       "      <td id=\"T_b2697_row4_col4\" class=\"data row4 col4\" >1,182,168</td>\n",
       "      <td id=\"T_b2697_row4_col5\" class=\"data row4 col5\" >-78,603</td>\n",
       "      <td id=\"T_b2697_row4_col6\" class=\"data row4 col6\" >-6.65%</td>\n",
       "    </tr>\n",
       "  </tbody>\n",
       "</table>\n"
      ],
      "text/plain": [
       "<pandas.io.formats.style.Styler at 0x24a520962a0>"
      ]
     },
     "execution_count": 14,
     "metadata": {},
     "output_type": "execute_result"
    }
   ],
   "source": [
    "dfm = pd.merge(dfc_grp, dfp_grp, on=\"name\", suffixes=([\"_c\", \"_p\"]), how=\"inner\")\n",
    "dfm[\"inc_profit\"] = dfm[\"q_amt_c\"] - dfm[\"q_amt_p\"]\n",
    "dfm[\"percent\"] = round(dfm[\"inc_profit\"] / abs(dfm[\"q_amt_p\"]) * 100, 2)\n",
    "dfm[\"year\"] = year\n",
    "dfm[\"quarter\"] = \"Q\" + str(quarter)\n",
    "df_percent = dfm[cols]\n",
    "df_percent.head().style.format(format_dict)"
   ]
  },
  {
   "cell_type": "code",
   "execution_count": 16,
   "metadata": {},
   "outputs": [
    {
     "name": "stdout",
     "output_type": "stream",
     "text": [
      "Rows deleted: 21\n"
     ]
    }
   ],
   "source": [
    "# Create the SQL query with parameter binding\n",
    "sql = text(\"DELETE FROM yr_profits WHERE year = :year AND quarter = :quarter\")\n",
    "\n",
    "# Execute the query with parameters\n",
    "params = {'year': year, 'quarter': f'Q{quarter}'}\n",
    "rp = conlt.execute(sql, params)\n",
    "\n",
    "# Print the number of rows affected\n",
    "print(\"Rows deleted:\", rp.rowcount)"
   ]
  },
  {
   "cell_type": "code",
   "execution_count": 18,
   "metadata": {},
   "outputs": [
    {
     "data": {
      "text/plain": [
       "31"
      ]
     },
     "execution_count": 18,
     "metadata": {},
     "output_type": "execute_result"
    }
   ],
   "source": [
    "sql = \"SELECT name, id FROM tickers\"\n",
    "tickers = pd.read_sql(sql, conlt)\n",
    "df_ins = pd.merge(df_percent, tickers, on=\"name\", how=\"inner\")\n",
    "rcds = df_ins.values.tolist()\n",
    "len(rcds)"
   ]
  },
  {
   "cell_type": "code",
   "execution_count": 20,
   "metadata": {},
   "outputs": [],
   "source": [
    "# Convert DataFrame to list of records\n",
    "rcds = df_ins.values.tolist()\n",
    "\n",
    "# Define column names in the same order as values\n",
    "columns = ['name', 'year', 'quarter', 'latest_amt', 'previous_amt', 'inc_amt', 'inc_pct', 'ticker_id']\n",
    "\n",
    "# SQL insert statement with named parameters\n",
    "sql = text(\"\"\"\n",
    "    INSERT INTO yr_profits \n",
    "    (name, year, quarter, latest_amt, previous_amt, inc_amt, inc_pct, ticker_id)\n",
    "    VALUES (:name, :year, :quarter, :latest_amt, :previous_amt, :inc_amt, :inc_pct, :ticker_id)\n",
    "\"\"\")\n",
    "\n",
    "try:\n",
    "    # Execute inserts\n",
    "    for rcd in rcds:\n",
    "        # Convert list to dictionary\n",
    "        params = dict(zip(columns, rcd))\n",
    "        conlt.execute(sql, params)\n",
    "except Exception as e:\n",
    "    raise e"
   ]
  },
  {
   "cell_type": "markdown",
   "metadata": {},
   "source": [
    "### End of loop"
   ]
  },
  {
   "cell_type": "code",
   "execution_count": 23,
   "metadata": {},
   "outputs": [
    {
     "data": {
      "text/html": [
       "<style type=\"text/css\">\n",
       "</style>\n",
       "<table id=\"T_c4944\">\n",
       "  <thead>\n",
       "    <tr>\n",
       "      <th class=\"blank level0\" >&nbsp;</th>\n",
       "      <th id=\"T_c4944_level0_col0\" class=\"col_heading level0 col0\" >name</th>\n",
       "      <th id=\"T_c4944_level0_col1\" class=\"col_heading level0 col1\" >year</th>\n",
       "      <th id=\"T_c4944_level0_col2\" class=\"col_heading level0 col2\" >quarter</th>\n",
       "      <th id=\"T_c4944_level0_col3\" class=\"col_heading level0 col3\" >q_amt_c</th>\n",
       "      <th id=\"T_c4944_level0_col4\" class=\"col_heading level0 col4\" >q_amt_p</th>\n",
       "      <th id=\"T_c4944_level0_col5\" class=\"col_heading level0 col5\" >inc_profit</th>\n",
       "      <th id=\"T_c4944_level0_col6\" class=\"col_heading level0 col6\" >percent</th>\n",
       "    </tr>\n",
       "  </thead>\n",
       "  <tbody>\n",
       "    <tr>\n",
       "      <th id=\"T_c4944_level0_row0\" class=\"row_heading level0 row0\" >0</th>\n",
       "      <td id=\"T_c4944_row0_col0\" class=\"data row0 col0\" >3BBIF</td>\n",
       "      <td id=\"T_c4944_row0_col1\" class=\"data row0 col1\" >2024</td>\n",
       "      <td id=\"T_c4944_row0_col2\" class=\"data row0 col2\" >Q4</td>\n",
       "      <td id=\"T_c4944_row0_col3\" class=\"data row0 col3\" >5,279,119</td>\n",
       "      <td id=\"T_c4944_row0_col4\" class=\"data row0 col4\" >-11,139,183</td>\n",
       "      <td id=\"T_c4944_row0_col5\" class=\"data row0 col5\" >16,418,302</td>\n",
       "      <td id=\"T_c4944_row0_col6\" class=\"data row0 col6\" >147.39%</td>\n",
       "    </tr>\n",
       "    <tr>\n",
       "      <th id=\"T_c4944_level0_row1\" class=\"row_heading level0 row1\" >1</th>\n",
       "      <td id=\"T_c4944_row1_col0\" class=\"data row1 col0\" >ADVANC</td>\n",
       "      <td id=\"T_c4944_row1_col1\" class=\"data row1 col1\" >2024</td>\n",
       "      <td id=\"T_c4944_row1_col2\" class=\"data row1 col2\" >Q4</td>\n",
       "      <td id=\"T_c4944_row1_col3\" class=\"data row1 col3\" >35,075,357</td>\n",
       "      <td id=\"T_c4944_row1_col4\" class=\"data row1 col4\" >29,086,105</td>\n",
       "      <td id=\"T_c4944_row1_col5\" class=\"data row1 col5\" >5,989,252</td>\n",
       "      <td id=\"T_c4944_row1_col6\" class=\"data row1 col6\" >20.59%</td>\n",
       "    </tr>\n",
       "    <tr>\n",
       "      <th id=\"T_c4944_level0_row2\" class=\"row_heading level0 row2\" >2</th>\n",
       "      <td id=\"T_c4944_row2_col0\" class=\"data row2 col0\" >BAY</td>\n",
       "      <td id=\"T_c4944_row2_col1\" class=\"data row2 col1\" >2024</td>\n",
       "      <td id=\"T_c4944_row2_col2\" class=\"data row2 col2\" >Q4</td>\n",
       "      <td id=\"T_c4944_row2_col3\" class=\"data row2 col3\" >29,699,751</td>\n",
       "      <td id=\"T_c4944_row2_col4\" class=\"data row2 col4\" >32,929,523</td>\n",
       "      <td id=\"T_c4944_row2_col5\" class=\"data row2 col5\" >-3,229,772</td>\n",
       "      <td id=\"T_c4944_row2_col6\" class=\"data row2 col6\" >-9.81%</td>\n",
       "    </tr>\n",
       "    <tr>\n",
       "      <th id=\"T_c4944_level0_row3\" class=\"row_heading level0 row3\" >3</th>\n",
       "      <td id=\"T_c4944_row3_col0\" class=\"data row3 col0\" >BBL</td>\n",
       "      <td id=\"T_c4944_row3_col1\" class=\"data row3 col1\" >2024</td>\n",
       "      <td id=\"T_c4944_row3_col2\" class=\"data row3 col2\" >Q4</td>\n",
       "      <td id=\"T_c4944_row3_col3\" class=\"data row3 col3\" >45,211,145</td>\n",
       "      <td id=\"T_c4944_row3_col4\" class=\"data row3 col4\" >41,635,521</td>\n",
       "      <td id=\"T_c4944_row3_col5\" class=\"data row3 col5\" >3,575,624</td>\n",
       "      <td id=\"T_c4944_row3_col6\" class=\"data row3 col6\" >8.59%</td>\n",
       "    </tr>\n",
       "    <tr>\n",
       "      <th id=\"T_c4944_level0_row4\" class=\"row_heading level0 row4\" >4</th>\n",
       "      <td id=\"T_c4944_row4_col0\" class=\"data row4 col0\" >DCC</td>\n",
       "      <td id=\"T_c4944_row4_col1\" class=\"data row4 col1\" >2024</td>\n",
       "      <td id=\"T_c4944_row4_col2\" class=\"data row4 col2\" >Q4</td>\n",
       "      <td id=\"T_c4944_row4_col3\" class=\"data row4 col3\" >1,103,565</td>\n",
       "      <td id=\"T_c4944_row4_col4\" class=\"data row4 col4\" >1,182,168</td>\n",
       "      <td id=\"T_c4944_row4_col5\" class=\"data row4 col5\" >-78,603</td>\n",
       "      <td id=\"T_c4944_row4_col6\" class=\"data row4 col6\" >-6.65%</td>\n",
       "    </tr>\n",
       "  </tbody>\n",
       "</table>\n"
      ],
      "text/plain": [
       "<pandas.io.formats.style.Styler at 0x24a520a8aa0>"
      ]
     },
     "execution_count": 23,
     "metadata": {},
     "output_type": "execute_result"
    }
   ],
   "source": [
    "criteria_1 = df_ins.q_amt_c > 440_000\n",
    "df_ins.loc[criteria_1, cols].head().style.format(format_dict)"
   ]
  },
  {
   "cell_type": "code",
   "execution_count": 25,
   "metadata": {},
   "outputs": [
    {
     "data": {
      "text/html": [
       "<style type=\"text/css\">\n",
       "</style>\n",
       "<table id=\"T_3a0b0\">\n",
       "  <thead>\n",
       "    <tr>\n",
       "      <th class=\"blank level0\" >&nbsp;</th>\n",
       "      <th id=\"T_3a0b0_level0_col0\" class=\"col_heading level0 col0\" >name</th>\n",
       "      <th id=\"T_3a0b0_level0_col1\" class=\"col_heading level0 col1\" >year</th>\n",
       "      <th id=\"T_3a0b0_level0_col2\" class=\"col_heading level0 col2\" >quarter</th>\n",
       "      <th id=\"T_3a0b0_level0_col3\" class=\"col_heading level0 col3\" >q_amt_c</th>\n",
       "      <th id=\"T_3a0b0_level0_col4\" class=\"col_heading level0 col4\" >q_amt_p</th>\n",
       "      <th id=\"T_3a0b0_level0_col5\" class=\"col_heading level0 col5\" >inc_profit</th>\n",
       "      <th id=\"T_3a0b0_level0_col6\" class=\"col_heading level0 col6\" >percent</th>\n",
       "    </tr>\n",
       "  </thead>\n",
       "  <tbody>\n",
       "    <tr>\n",
       "      <th id=\"T_3a0b0_level0_row0\" class=\"row_heading level0 row0\" >1</th>\n",
       "      <td id=\"T_3a0b0_row0_col0\" class=\"data row0 col0\" >ADVANC</td>\n",
       "      <td id=\"T_3a0b0_row0_col1\" class=\"data row0 col1\" >2024</td>\n",
       "      <td id=\"T_3a0b0_row0_col2\" class=\"data row0 col2\" >Q4</td>\n",
       "      <td id=\"T_3a0b0_row0_col3\" class=\"data row0 col3\" >35,075,357</td>\n",
       "      <td id=\"T_3a0b0_row0_col4\" class=\"data row0 col4\" >29,086,105</td>\n",
       "      <td id=\"T_3a0b0_row0_col5\" class=\"data row0 col5\" >5,989,252</td>\n",
       "      <td id=\"T_3a0b0_row0_col6\" class=\"data row0 col6\" >20.59%</td>\n",
       "    </tr>\n",
       "    <tr>\n",
       "      <th id=\"T_3a0b0_level0_row1\" class=\"row_heading level0 row1\" >2</th>\n",
       "      <td id=\"T_3a0b0_row1_col0\" class=\"data row1 col0\" >BAY</td>\n",
       "      <td id=\"T_3a0b0_row1_col1\" class=\"data row1 col1\" >2024</td>\n",
       "      <td id=\"T_3a0b0_row1_col2\" class=\"data row1 col2\" >Q4</td>\n",
       "      <td id=\"T_3a0b0_row1_col3\" class=\"data row1 col3\" >29,699,751</td>\n",
       "      <td id=\"T_3a0b0_row1_col4\" class=\"data row1 col4\" >32,929,523</td>\n",
       "      <td id=\"T_3a0b0_row1_col5\" class=\"data row1 col5\" >-3,229,772</td>\n",
       "      <td id=\"T_3a0b0_row1_col6\" class=\"data row1 col6\" >-9.81%</td>\n",
       "    </tr>\n",
       "    <tr>\n",
       "      <th id=\"T_3a0b0_level0_row2\" class=\"row_heading level0 row2\" >3</th>\n",
       "      <td id=\"T_3a0b0_row2_col0\" class=\"data row2 col0\" >BBL</td>\n",
       "      <td id=\"T_3a0b0_row2_col1\" class=\"data row2 col1\" >2024</td>\n",
       "      <td id=\"T_3a0b0_row2_col2\" class=\"data row2 col2\" >Q4</td>\n",
       "      <td id=\"T_3a0b0_row2_col3\" class=\"data row2 col3\" >45,211,145</td>\n",
       "      <td id=\"T_3a0b0_row2_col4\" class=\"data row2 col4\" >41,635,521</td>\n",
       "      <td id=\"T_3a0b0_row2_col5\" class=\"data row2 col5\" >3,575,624</td>\n",
       "      <td id=\"T_3a0b0_row2_col6\" class=\"data row2 col6\" >8.59%</td>\n",
       "    </tr>\n",
       "    <tr>\n",
       "      <th id=\"T_3a0b0_level0_row3\" class=\"row_heading level0 row3\" >4</th>\n",
       "      <td id=\"T_3a0b0_row3_col0\" class=\"data row3 col0\" >DCC</td>\n",
       "      <td id=\"T_3a0b0_row3_col1\" class=\"data row3 col1\" >2024</td>\n",
       "      <td id=\"T_3a0b0_row3_col2\" class=\"data row3 col2\" >Q4</td>\n",
       "      <td id=\"T_3a0b0_row3_col3\" class=\"data row3 col3\" >1,103,565</td>\n",
       "      <td id=\"T_3a0b0_row3_col4\" class=\"data row3 col4\" >1,182,168</td>\n",
       "      <td id=\"T_3a0b0_row3_col5\" class=\"data row3 col5\" >-78,603</td>\n",
       "      <td id=\"T_3a0b0_row3_col6\" class=\"data row3 col6\" >-6.65%</td>\n",
       "    </tr>\n",
       "    <tr>\n",
       "      <th id=\"T_3a0b0_level0_row4\" class=\"row_heading level0 row4\" >5</th>\n",
       "      <td id=\"T_3a0b0_row4_col0\" class=\"data row4 col0\" >FPT</td>\n",
       "      <td id=\"T_3a0b0_row4_col1\" class=\"data row4 col1\" >2024</td>\n",
       "      <td id=\"T_3a0b0_row4_col2\" class=\"data row4 col2\" >Q4</td>\n",
       "      <td id=\"T_3a0b0_row4_col3\" class=\"data row4 col3\" >1,438,028</td>\n",
       "      <td id=\"T_3a0b0_row4_col4\" class=\"data row4 col4\" >1,851,557</td>\n",
       "      <td id=\"T_3a0b0_row4_col5\" class=\"data row4 col5\" >-413,529</td>\n",
       "      <td id=\"T_3a0b0_row4_col6\" class=\"data row4 col6\" >-22.33%</td>\n",
       "    </tr>\n",
       "  </tbody>\n",
       "</table>\n"
      ],
      "text/plain": [
       "<pandas.io.formats.style.Styler at 0x24a52025f10>"
      ]
     },
     "execution_count": 25,
     "metadata": {},
     "output_type": "execute_result"
    }
   ],
   "source": [
    "criteria_2 = df_ins.q_amt_p > 400_000\n",
    "df_ins.loc[criteria_2, cols].head().style.format(format_dict)"
   ]
  },
  {
   "cell_type": "code",
   "execution_count": 27,
   "metadata": {},
   "outputs": [
    {
     "data": {
      "text/html": [
       "<style type=\"text/css\">\n",
       "</style>\n",
       "<table id=\"T_54d1a\">\n",
       "  <thead>\n",
       "    <tr>\n",
       "      <th class=\"blank level0\" >&nbsp;</th>\n",
       "      <th id=\"T_54d1a_level0_col0\" class=\"col_heading level0 col0\" >name</th>\n",
       "      <th id=\"T_54d1a_level0_col1\" class=\"col_heading level0 col1\" >year</th>\n",
       "      <th id=\"T_54d1a_level0_col2\" class=\"col_heading level0 col2\" >quarter</th>\n",
       "      <th id=\"T_54d1a_level0_col3\" class=\"col_heading level0 col3\" >q_amt_c</th>\n",
       "      <th id=\"T_54d1a_level0_col4\" class=\"col_heading level0 col4\" >q_amt_p</th>\n",
       "      <th id=\"T_54d1a_level0_col5\" class=\"col_heading level0 col5\" >inc_profit</th>\n",
       "      <th id=\"T_54d1a_level0_col6\" class=\"col_heading level0 col6\" >percent</th>\n",
       "    </tr>\n",
       "  </thead>\n",
       "  <tbody>\n",
       "    <tr>\n",
       "      <th id=\"T_54d1a_level0_row0\" class=\"row_heading level0 row0\" >0</th>\n",
       "      <td id=\"T_54d1a_row0_col0\" class=\"data row0 col0\" >3BBIF</td>\n",
       "      <td id=\"T_54d1a_row0_col1\" class=\"data row0 col1\" >2024</td>\n",
       "      <td id=\"T_54d1a_row0_col2\" class=\"data row0 col2\" >Q4</td>\n",
       "      <td id=\"T_54d1a_row0_col3\" class=\"data row0 col3\" >5,279,119</td>\n",
       "      <td id=\"T_54d1a_row0_col4\" class=\"data row0 col4\" >-11,139,183</td>\n",
       "      <td id=\"T_54d1a_row0_col5\" class=\"data row0 col5\" >16,418,302</td>\n",
       "      <td id=\"T_54d1a_row0_col6\" class=\"data row0 col6\" >147.39%</td>\n",
       "    </tr>\n",
       "    <tr>\n",
       "      <th id=\"T_54d1a_level0_row1\" class=\"row_heading level0 row1\" >1</th>\n",
       "      <td id=\"T_54d1a_row1_col0\" class=\"data row1 col0\" >ADVANC</td>\n",
       "      <td id=\"T_54d1a_row1_col1\" class=\"data row1 col1\" >2024</td>\n",
       "      <td id=\"T_54d1a_row1_col2\" class=\"data row1 col2\" >Q4</td>\n",
       "      <td id=\"T_54d1a_row1_col3\" class=\"data row1 col3\" >35,075,357</td>\n",
       "      <td id=\"T_54d1a_row1_col4\" class=\"data row1 col4\" >29,086,105</td>\n",
       "      <td id=\"T_54d1a_row1_col5\" class=\"data row1 col5\" >5,989,252</td>\n",
       "      <td id=\"T_54d1a_row1_col6\" class=\"data row1 col6\" >20.59%</td>\n",
       "    </tr>\n",
       "    <tr>\n",
       "      <th id=\"T_54d1a_level0_row2\" class=\"row_heading level0 row2\" >7</th>\n",
       "      <td id=\"T_54d1a_row2_col0\" class=\"data row2 col0\" >GULF</td>\n",
       "      <td id=\"T_54d1a_row2_col1\" class=\"data row2 col1\" >2024</td>\n",
       "      <td id=\"T_54d1a_row2_col2\" class=\"data row2 col2\" >Q4</td>\n",
       "      <td id=\"T_54d1a_row2_col3\" class=\"data row2 col3\" >18,170,334</td>\n",
       "      <td id=\"T_54d1a_row2_col4\" class=\"data row2 col4\" >14,857,734</td>\n",
       "      <td id=\"T_54d1a_row2_col5\" class=\"data row2 col5\" >3,312,600</td>\n",
       "      <td id=\"T_54d1a_row2_col6\" class=\"data row2 col6\" >22.30%</td>\n",
       "    </tr>\n",
       "    <tr>\n",
       "      <th id=\"T_54d1a_level0_row3\" class=\"row_heading level0 row3\" >11</th>\n",
       "      <td id=\"T_54d1a_row3_col0\" class=\"data row3 col0\" >JMART</td>\n",
       "      <td id=\"T_54d1a_row3_col1\" class=\"data row3 col1\" >2024</td>\n",
       "      <td id=\"T_54d1a_row3_col2\" class=\"data row3 col2\" >Q4</td>\n",
       "      <td id=\"T_54d1a_row3_col3\" class=\"data row3 col3\" >1,140,849</td>\n",
       "      <td id=\"T_54d1a_row3_col4\" class=\"data row3 col4\" >-447,011</td>\n",
       "      <td id=\"T_54d1a_row3_col5\" class=\"data row3 col5\" >1,587,860</td>\n",
       "      <td id=\"T_54d1a_row3_col6\" class=\"data row3 col6\" >355.22%</td>\n",
       "    </tr>\n",
       "    <tr>\n",
       "      <th id=\"T_54d1a_level0_row4\" class=\"row_heading level0 row4\" >13</th>\n",
       "      <td id=\"T_54d1a_row4_col0\" class=\"data row4 col0\" >KBANK</td>\n",
       "      <td id=\"T_54d1a_row4_col1\" class=\"data row4 col1\" >2024</td>\n",
       "      <td id=\"T_54d1a_row4_col2\" class=\"data row4 col2\" >Q4</td>\n",
       "      <td id=\"T_54d1a_row4_col3\" class=\"data row4 col3\" >48,598,125</td>\n",
       "      <td id=\"T_54d1a_row4_col4\" class=\"data row4 col4\" >42,405,034</td>\n",
       "      <td id=\"T_54d1a_row4_col5\" class=\"data row4 col5\" >6,193,091</td>\n",
       "      <td id=\"T_54d1a_row4_col6\" class=\"data row4 col6\" >14.60%</td>\n",
       "    </tr>\n",
       "  </tbody>\n",
       "</table>\n"
      ],
      "text/plain": [
       "<pandas.io.formats.style.Styler at 0x24a51bd7c80>"
      ]
     },
     "execution_count": 27,
     "metadata": {},
     "output_type": "execute_result"
    }
   ],
   "source": [
    "criteria_3 = df_ins.percent > 10.00\n",
    "df_ins.loc[criteria_3, cols].head().style.format(format_dict)"
   ]
  },
  {
   "cell_type": "code",
   "execution_count": 29,
   "metadata": {},
   "outputs": [
    {
     "data": {
      "text/html": [
       "<style type=\"text/css\">\n",
       "</style>\n",
       "<table id=\"T_71cea\">\n",
       "  <thead>\n",
       "    <tr>\n",
       "      <th class=\"blank level0\" >&nbsp;</th>\n",
       "      <th id=\"T_71cea_level0_col0\" class=\"col_heading level0 col0\" >name</th>\n",
       "      <th id=\"T_71cea_level0_col1\" class=\"col_heading level0 col1\" >year</th>\n",
       "      <th id=\"T_71cea_level0_col2\" class=\"col_heading level0 col2\" >quarter</th>\n",
       "      <th id=\"T_71cea_level0_col3\" class=\"col_heading level0 col3\" >q_amt_c</th>\n",
       "      <th id=\"T_71cea_level0_col4\" class=\"col_heading level0 col4\" >q_amt_p</th>\n",
       "      <th id=\"T_71cea_level0_col5\" class=\"col_heading level0 col5\" >inc_profit</th>\n",
       "      <th id=\"T_71cea_level0_col6\" class=\"col_heading level0 col6\" >percent</th>\n",
       "    </tr>\n",
       "  </thead>\n",
       "  <tbody>\n",
       "    <tr>\n",
       "      <th id=\"T_71cea_level0_row0\" class=\"row_heading level0 row0\" >21</th>\n",
       "      <td id=\"T_71cea_row0_col0\" class=\"data row0 col0\" >PSL</td>\n",
       "      <td id=\"T_71cea_row0_col1\" class=\"data row0 col1\" >2024</td>\n",
       "      <td id=\"T_71cea_row0_col2\" class=\"data row0 col2\" >Q4</td>\n",
       "      <td id=\"T_71cea_row0_col3\" class=\"data row0 col3\" >1,468,281</td>\n",
       "      <td id=\"T_71cea_row0_col4\" class=\"data row0 col4\" >709,602</td>\n",
       "      <td id=\"T_71cea_row0_col5\" class=\"data row0 col5\" >758,679</td>\n",
       "      <td id=\"T_71cea_row0_col6\" class=\"data row0 col6\" >106.92%</td>\n",
       "    </tr>\n",
       "    <tr>\n",
       "      <th id=\"T_71cea_level0_row1\" class=\"row_heading level0 row1\" >27</th>\n",
       "      <td id=\"T_71cea_row1_col0\" class=\"data row1 col0\" >SVI</td>\n",
       "      <td id=\"T_71cea_row1_col1\" class=\"data row1 col1\" >2024</td>\n",
       "      <td id=\"T_71cea_row1_col2\" class=\"data row1 col2\" >Q4</td>\n",
       "      <td id=\"T_71cea_row1_col3\" class=\"data row1 col3\" >1,385,967</td>\n",
       "      <td id=\"T_71cea_row1_col4\" class=\"data row1 col4\" >924,477</td>\n",
       "      <td id=\"T_71cea_row1_col5\" class=\"data row1 col5\" >461,490</td>\n",
       "      <td id=\"T_71cea_row1_col6\" class=\"data row1 col6\" >49.92%</td>\n",
       "    </tr>\n",
       "    <tr>\n",
       "      <th id=\"T_71cea_level0_row2\" class=\"row_heading level0 row2\" >7</th>\n",
       "      <td id=\"T_71cea_row2_col0\" class=\"data row2 col0\" >GULF</td>\n",
       "      <td id=\"T_71cea_row2_col1\" class=\"data row2 col1\" >2024</td>\n",
       "      <td id=\"T_71cea_row2_col2\" class=\"data row2 col2\" >Q4</td>\n",
       "      <td id=\"T_71cea_row2_col3\" class=\"data row2 col3\" >18,170,334</td>\n",
       "      <td id=\"T_71cea_row2_col4\" class=\"data row2 col4\" >14,857,734</td>\n",
       "      <td id=\"T_71cea_row2_col5\" class=\"data row2 col5\" >3,312,600</td>\n",
       "      <td id=\"T_71cea_row2_col6\" class=\"data row2 col6\" >22.30%</td>\n",
       "    </tr>\n",
       "    <tr>\n",
       "      <th id=\"T_71cea_level0_row3\" class=\"row_heading level0 row3\" >1</th>\n",
       "      <td id=\"T_71cea_row3_col0\" class=\"data row3 col0\" >ADVANC</td>\n",
       "      <td id=\"T_71cea_row3_col1\" class=\"data row3 col1\" >2024</td>\n",
       "      <td id=\"T_71cea_row3_col2\" class=\"data row3 col2\" >Q4</td>\n",
       "      <td id=\"T_71cea_row3_col3\" class=\"data row3 col3\" >35,075,357</td>\n",
       "      <td id=\"T_71cea_row3_col4\" class=\"data row3 col4\" >29,086,105</td>\n",
       "      <td id=\"T_71cea_row3_col5\" class=\"data row3 col5\" >5,989,252</td>\n",
       "      <td id=\"T_71cea_row3_col6\" class=\"data row3 col6\" >20.59%</td>\n",
       "    </tr>\n",
       "    <tr>\n",
       "      <th id=\"T_71cea_level0_row4\" class=\"row_heading level0 row4\" >15</th>\n",
       "      <td id=\"T_71cea_row4_col0\" class=\"data row4 col0\" >KTB</td>\n",
       "      <td id=\"T_71cea_row4_col1\" class=\"data row4 col1\" >2024</td>\n",
       "      <td id=\"T_71cea_row4_col2\" class=\"data row4 col2\" >Q4</td>\n",
       "      <td id=\"T_71cea_row4_col3\" class=\"data row4 col3\" >43,855,657</td>\n",
       "      <td id=\"T_71cea_row4_col4\" class=\"data row4 col4\" >36,615,911</td>\n",
       "      <td id=\"T_71cea_row4_col5\" class=\"data row4 col5\" >7,239,746</td>\n",
       "      <td id=\"T_71cea_row4_col6\" class=\"data row4 col6\" >19.77%</td>\n",
       "    </tr>\n",
       "  </tbody>\n",
       "</table>\n"
      ],
      "text/plain": [
       "<pandas.io.formats.style.Styler at 0x24a520a6e40>"
      ]
     },
     "execution_count": 29,
     "metadata": {},
     "output_type": "execute_result"
    }
   ],
   "source": [
    "final_criteria = criteria_1 & criteria_2 & criteria_3\n",
    "df_ins.loc[final_criteria, cols].sort_values(by=[\"percent\"], ascending=[False]).head().style.format(format_dict)"
   ]
  },
  {
   "cell_type": "code",
   "execution_count": 31,
   "metadata": {},
   "outputs": [
    {
     "data": {
      "text/html": [
       "<style type=\"text/css\">\n",
       "</style>\n",
       "<table id=\"T_53627\">\n",
       "  <thead>\n",
       "    <tr>\n",
       "      <th class=\"blank level0\" >&nbsp;</th>\n",
       "      <th id=\"T_53627_level0_col0\" class=\"col_heading level0 col0\" >name</th>\n",
       "      <th id=\"T_53627_level0_col1\" class=\"col_heading level0 col1\" >year</th>\n",
       "      <th id=\"T_53627_level0_col2\" class=\"col_heading level0 col2\" >quarter</th>\n",
       "      <th id=\"T_53627_level0_col3\" class=\"col_heading level0 col3\" >q_amt_c</th>\n",
       "      <th id=\"T_53627_level0_col4\" class=\"col_heading level0 col4\" >q_amt_p</th>\n",
       "      <th id=\"T_53627_level0_col5\" class=\"col_heading level0 col5\" >inc_profit</th>\n",
       "      <th id=\"T_53627_level0_col6\" class=\"col_heading level0 col6\" >percent</th>\n",
       "    </tr>\n",
       "  </thead>\n",
       "  <tbody>\n",
       "    <tr>\n",
       "      <th id=\"T_53627_level0_row0\" class=\"row_heading level0 row0\" >1</th>\n",
       "      <td id=\"T_53627_row0_col0\" class=\"data row0 col0\" >ADVANC</td>\n",
       "      <td id=\"T_53627_row0_col1\" class=\"data row0 col1\" >2024</td>\n",
       "      <td id=\"T_53627_row0_col2\" class=\"data row0 col2\" >Q4</td>\n",
       "      <td id=\"T_53627_row0_col3\" class=\"data row0 col3\" >35,075,357</td>\n",
       "      <td id=\"T_53627_row0_col4\" class=\"data row0 col4\" >29,086,105</td>\n",
       "      <td id=\"T_53627_row0_col5\" class=\"data row0 col5\" >5,989,252</td>\n",
       "      <td id=\"T_53627_row0_col6\" class=\"data row0 col6\" >20.59%</td>\n",
       "    </tr>\n",
       "    <tr>\n",
       "      <th id=\"T_53627_level0_row1\" class=\"row_heading level0 row1\" >7</th>\n",
       "      <td id=\"T_53627_row1_col0\" class=\"data row1 col0\" >GULF</td>\n",
       "      <td id=\"T_53627_row1_col1\" class=\"data row1 col1\" >2024</td>\n",
       "      <td id=\"T_53627_row1_col2\" class=\"data row1 col2\" >Q4</td>\n",
       "      <td id=\"T_53627_row1_col3\" class=\"data row1 col3\" >18,170,334</td>\n",
       "      <td id=\"T_53627_row1_col4\" class=\"data row1 col4\" >14,857,734</td>\n",
       "      <td id=\"T_53627_row1_col5\" class=\"data row1 col5\" >3,312,600</td>\n",
       "      <td id=\"T_53627_row1_col6\" class=\"data row1 col6\" >22.30%</td>\n",
       "    </tr>\n",
       "    <tr>\n",
       "      <th id=\"T_53627_level0_row2\" class=\"row_heading level0 row2\" >13</th>\n",
       "      <td id=\"T_53627_row2_col0\" class=\"data row2 col0\" >KBANK</td>\n",
       "      <td id=\"T_53627_row2_col1\" class=\"data row2 col1\" >2024</td>\n",
       "      <td id=\"T_53627_row2_col2\" class=\"data row2 col2\" >Q4</td>\n",
       "      <td id=\"T_53627_row2_col3\" class=\"data row2 col3\" >48,598,125</td>\n",
       "      <td id=\"T_53627_row2_col4\" class=\"data row2 col4\" >42,405,034</td>\n",
       "      <td id=\"T_53627_row2_col5\" class=\"data row2 col5\" >6,193,091</td>\n",
       "      <td id=\"T_53627_row2_col6\" class=\"data row2 col6\" >14.60%</td>\n",
       "    </tr>\n",
       "    <tr>\n",
       "      <th id=\"T_53627_level0_row3\" class=\"row_heading level0 row3\" >15</th>\n",
       "      <td id=\"T_53627_row3_col0\" class=\"data row3 col0\" >KTB</td>\n",
       "      <td id=\"T_53627_row3_col1\" class=\"data row3 col1\" >2024</td>\n",
       "      <td id=\"T_53627_row3_col2\" class=\"data row3 col2\" >Q4</td>\n",
       "      <td id=\"T_53627_row3_col3\" class=\"data row3 col3\" >43,855,657</td>\n",
       "      <td id=\"T_53627_row3_col4\" class=\"data row3 col4\" >36,615,911</td>\n",
       "      <td id=\"T_53627_row3_col5\" class=\"data row3 col5\" >7,239,746</td>\n",
       "      <td id=\"T_53627_row3_col6\" class=\"data row3 col6\" >19.77%</td>\n",
       "    </tr>\n",
       "    <tr>\n",
       "      <th id=\"T_53627_level0_row4\" class=\"row_heading level0 row4\" >21</th>\n",
       "      <td id=\"T_53627_row4_col0\" class=\"data row4 col0\" >PSL</td>\n",
       "      <td id=\"T_53627_row4_col1\" class=\"data row4 col1\" >2024</td>\n",
       "      <td id=\"T_53627_row4_col2\" class=\"data row4 col2\" >Q4</td>\n",
       "      <td id=\"T_53627_row4_col3\" class=\"data row4 col3\" >1,468,281</td>\n",
       "      <td id=\"T_53627_row4_col4\" class=\"data row4 col4\" >709,602</td>\n",
       "      <td id=\"T_53627_row4_col5\" class=\"data row4 col5\" >758,679</td>\n",
       "      <td id=\"T_53627_row4_col6\" class=\"data row4 col6\" >106.92%</td>\n",
       "    </tr>\n",
       "  </tbody>\n",
       "</table>\n"
      ],
      "text/plain": [
       "<pandas.io.formats.style.Styler at 0x24a52096570>"
      ]
     },
     "execution_count": 31,
     "metadata": {},
     "output_type": "execute_result"
    }
   ],
   "source": [
    "df_ins.loc[final_criteria, cols].sort_values(by=[\"name\"], ascending=[True]).head().style.format(format_dict)"
   ]
  },
  {
   "cell_type": "code",
   "execution_count": 33,
   "metadata": {},
   "outputs": [
    {
     "data": {
      "text/html": [
       "<style type=\"text/css\">\n",
       "</style>\n",
       "<table id=\"T_0a522\">\n",
       "  <thead>\n",
       "    <tr>\n",
       "      <th class=\"blank level0\" >&nbsp;</th>\n",
       "      <th id=\"T_0a522_level0_col0\" class=\"col_heading level0 col0\" >name</th>\n",
       "      <th id=\"T_0a522_level0_col1\" class=\"col_heading level0 col1\" >year</th>\n",
       "      <th id=\"T_0a522_level0_col2\" class=\"col_heading level0 col2\" >quarter</th>\n",
       "      <th id=\"T_0a522_level0_col3\" class=\"col_heading level0 col3\" >q_amt_c</th>\n",
       "      <th id=\"T_0a522_level0_col4\" class=\"col_heading level0 col4\" >q_amt_p</th>\n",
       "      <th id=\"T_0a522_level0_col5\" class=\"col_heading level0 col5\" >inc_profit</th>\n",
       "      <th id=\"T_0a522_level0_col6\" class=\"col_heading level0 col6\" >percent</th>\n",
       "    </tr>\n",
       "  </thead>\n",
       "  <tbody>\n",
       "    <tr>\n",
       "      <th id=\"T_0a522_level0_row0\" class=\"row_heading level0 row0\" >1</th>\n",
       "      <td id=\"T_0a522_row0_col0\" class=\"data row0 col0\" >ADVANC</td>\n",
       "      <td id=\"T_0a522_row0_col1\" class=\"data row0 col1\" >2024</td>\n",
       "      <td id=\"T_0a522_row0_col2\" class=\"data row0 col2\" >Q4</td>\n",
       "      <td id=\"T_0a522_row0_col3\" class=\"data row0 col3\" >35,075,357</td>\n",
       "      <td id=\"T_0a522_row0_col4\" class=\"data row0 col4\" >29,086,105</td>\n",
       "      <td id=\"T_0a522_row0_col5\" class=\"data row0 col5\" >5,989,252</td>\n",
       "      <td id=\"T_0a522_row0_col6\" class=\"data row0 col6\" >20.59%</td>\n",
       "    </tr>\n",
       "    <tr>\n",
       "      <th id=\"T_0a522_level0_row1\" class=\"row_heading level0 row1\" >7</th>\n",
       "      <td id=\"T_0a522_row1_col0\" class=\"data row1 col0\" >GULF</td>\n",
       "      <td id=\"T_0a522_row1_col1\" class=\"data row1 col1\" >2024</td>\n",
       "      <td id=\"T_0a522_row1_col2\" class=\"data row1 col2\" >Q4</td>\n",
       "      <td id=\"T_0a522_row1_col3\" class=\"data row1 col3\" >18,170,334</td>\n",
       "      <td id=\"T_0a522_row1_col4\" class=\"data row1 col4\" >14,857,734</td>\n",
       "      <td id=\"T_0a522_row1_col5\" class=\"data row1 col5\" >3,312,600</td>\n",
       "      <td id=\"T_0a522_row1_col6\" class=\"data row1 col6\" >22.30%</td>\n",
       "    </tr>\n",
       "    <tr>\n",
       "      <th id=\"T_0a522_level0_row2\" class=\"row_heading level0 row2\" >13</th>\n",
       "      <td id=\"T_0a522_row2_col0\" class=\"data row2 col0\" >KBANK</td>\n",
       "      <td id=\"T_0a522_row2_col1\" class=\"data row2 col1\" >2024</td>\n",
       "      <td id=\"T_0a522_row2_col2\" class=\"data row2 col2\" >Q4</td>\n",
       "      <td id=\"T_0a522_row2_col3\" class=\"data row2 col3\" >48,598,125</td>\n",
       "      <td id=\"T_0a522_row2_col4\" class=\"data row2 col4\" >42,405,034</td>\n",
       "      <td id=\"T_0a522_row2_col5\" class=\"data row2 col5\" >6,193,091</td>\n",
       "      <td id=\"T_0a522_row2_col6\" class=\"data row2 col6\" >14.60%</td>\n",
       "    </tr>\n",
       "    <tr>\n",
       "      <th id=\"T_0a522_level0_row3\" class=\"row_heading level0 row3\" >15</th>\n",
       "      <td id=\"T_0a522_row3_col0\" class=\"data row3 col0\" >KTB</td>\n",
       "      <td id=\"T_0a522_row3_col1\" class=\"data row3 col1\" >2024</td>\n",
       "      <td id=\"T_0a522_row3_col2\" class=\"data row3 col2\" >Q4</td>\n",
       "      <td id=\"T_0a522_row3_col3\" class=\"data row3 col3\" >43,855,657</td>\n",
       "      <td id=\"T_0a522_row3_col4\" class=\"data row3 col4\" >36,615,911</td>\n",
       "      <td id=\"T_0a522_row3_col5\" class=\"data row3 col5\" >7,239,746</td>\n",
       "      <td id=\"T_0a522_row3_col6\" class=\"data row3 col6\" >19.77%</td>\n",
       "    </tr>\n",
       "    <tr>\n",
       "      <th id=\"T_0a522_level0_row4\" class=\"row_heading level0 row4\" >21</th>\n",
       "      <td id=\"T_0a522_row4_col0\" class=\"data row4 col0\" >PSL</td>\n",
       "      <td id=\"T_0a522_row4_col1\" class=\"data row4 col1\" >2024</td>\n",
       "      <td id=\"T_0a522_row4_col2\" class=\"data row4 col2\" >Q4</td>\n",
       "      <td id=\"T_0a522_row4_col3\" class=\"data row4 col3\" >1,468,281</td>\n",
       "      <td id=\"T_0a522_row4_col4\" class=\"data row4 col4\" >709,602</td>\n",
       "      <td id=\"T_0a522_row4_col5\" class=\"data row4 col5\" >758,679</td>\n",
       "      <td id=\"T_0a522_row4_col6\" class=\"data row4 col6\" >106.92%</td>\n",
       "    </tr>\n",
       "  </tbody>\n",
       "</table>\n"
      ],
      "text/plain": [
       "<pandas.io.formats.style.Styler at 0x24a51fcf2f0>"
      ]
     },
     "execution_count": 33,
     "metadata": {},
     "output_type": "execute_result"
    }
   ],
   "source": [
    "df_ins.loc[final_criteria, cols].sort_values(by=[\"name\"], ascending=[True]).head().style.format(format_dict)"
   ]
  },
  {
   "cell_type": "code",
   "execution_count": 35,
   "metadata": {},
   "outputs": [],
   "source": [
    "conlt.commit()\n",
    "conlt.close()"
   ]
  },
  {
   "cell_type": "code",
   "execution_count": 37,
   "metadata": {},
   "outputs": [
    {
     "name": "stdout",
     "output_type": "stream",
     "text": [
      "2025:02:12 12:00:58\n"
     ]
    }
   ],
   "source": [
    "current_time = datetime.now()\n",
    "formatted_time = current_time.strftime(\"%Y:%m:%d %H:%M:%S\")\n",
    "print(formatted_time)"
   ]
  },
  {
   "cell_type": "code",
   "execution_count": null,
   "metadata": {},
   "outputs": [],
   "source": []
  }
 ],
 "metadata": {
  "anaconda-cloud": {},
  "kernelspec": {
   "display_name": "Python 3 (ipykernel)",
   "language": "python",
   "name": "python3"
  },
  "language_info": {
   "codemirror_mode": {
    "name": "ipython",
    "version": 3
   },
   "file_extension": ".py",
   "mimetype": "text/x-python",
   "name": "python",
   "nbconvert_exporter": "python",
   "pygments_lexer": "ipython3",
   "version": "3.12.3"
  }
 },
 "nbformat": 4,
 "nbformat_minor": 4
}
