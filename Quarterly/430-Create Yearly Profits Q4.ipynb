{
 "cells": [
  {
   "cell_type": "markdown",
   "metadata": {},
   "source": [
    "### Restart and Run All Cells"
   ]
  },
  {
   "cell_type": "code",
   "execution_count": 40,
   "metadata": {},
   "outputs": [
    {
     "data": {
      "text/plain": [
       "datetime.datetime(2025, 1, 1, 22, 29, 1, 581577)"
      ]
     },
     "execution_count": 40,
     "metadata": {},
     "output_type": "execute_result"
    }
   ],
   "source": [
    "import pandas as pd\n",
    "from datetime import date, timedelta, datetime\n",
    "from sqlalchemy import create_engine, text\n",
    "engine = create_engine(\"sqlite:///c:\\\\ruby\\\\portlt\\\\db\\\\development.sqlite3\")\n",
    "conlt = engine.connect()\n",
    "year = 2024\n",
    "quarter = 4\n",
    "today = date.today()\n",
    "today_str = today.strftime(\"%Y-%m-%d\")\n",
    "current_time = datetime.now()\n",
    "current_time"
   ]
  },
  {
   "cell_type": "code",
   "execution_count": 42,
   "metadata": {},
   "outputs": [],
   "source": [
    "cols = 'name year quarter q_amt_c q_amt_p inc_profit percent'.split()\n",
    "\n",
    "format_dict = {\n",
    "                'q_amt':'{:,}','q_amt_c':'{:,}','q_amt_p':'{:,}','inc_profit':'{:,}',\n",
    "                'yoy_gain':'{:,}','acc_gain':'{:,}',    \n",
    "                'q_eps':'{:.4f}','y_eps':'{:.4f}','aq_eps':'{:.4f}','ay_eps':'{:.4f}',\n",
    "                'percent':'{:.2f}%'\n",
    "              }"
   ]
  },
  {
   "cell_type": "code",
   "execution_count": 44,
   "metadata": {},
   "outputs": [
    {
     "name": "stdout",
     "output_type": "stream",
     "text": [
      "\n",
      "SELECT name,year,quarter,q_amt\n",
      "FROM epss \n",
      "WHERE (year = 2024 AND quarter <= 4) \n",
      "OR (year = 2024-1 AND quarter >= 4+1)\n",
      "ORDER BY year DESC, quarter DESC\n"
     ]
    }
   ],
   "source": [
    "sql = \"\"\"\n",
    "SELECT name,year,quarter,q_amt\n",
    "FROM epss \n",
    "WHERE (year = %s AND quarter <= %s) \n",
    "OR (year = %s-1 AND quarter >= %s+1)\n",
    "ORDER BY year DESC, quarter DESC\"\"\"\n",
    "sql = sql % (year, quarter, year, quarter)\n",
    "print(sql)"
   ]
  },
  {
   "cell_type": "code",
   "execution_count": 46,
   "metadata": {},
   "outputs": [
    {
     "data": {
      "text/html": [
       "<style type=\"text/css\">\n",
       "</style>\n",
       "<table id=\"T_cf289\">\n",
       "  <thead>\n",
       "    <tr>\n",
       "      <th class=\"blank level0\" >&nbsp;</th>\n",
       "      <th id=\"T_cf289_level0_col0\" class=\"col_heading level0 col0\" >name</th>\n",
       "      <th id=\"T_cf289_level0_col1\" class=\"col_heading level0 col1\" >year</th>\n",
       "      <th id=\"T_cf289_level0_col2\" class=\"col_heading level0 col2\" >quarter</th>\n",
       "      <th id=\"T_cf289_level0_col3\" class=\"col_heading level0 col3\" >q_amt</th>\n",
       "      <th id=\"T_cf289_level0_col4\" class=\"col_heading level0 col4\" >Counter</th>\n",
       "    </tr>\n",
       "  </thead>\n",
       "  <tbody>\n",
       "    <tr>\n",
       "      <th id=\"T_cf289_level0_row0\" class=\"row_heading level0 row0\" >69</th>\n",
       "      <td id=\"T_cf289_row0_col0\" class=\"data row0 col0\" >FPT</td>\n",
       "      <td id=\"T_cf289_row0_col1\" class=\"data row0 col1\" >8096</td>\n",
       "      <td id=\"T_cf289_row0_col2\" class=\"data row0 col2\" >10</td>\n",
       "      <td id=\"T_cf289_row0_col3\" class=\"data row0 col3\" >1,438,028</td>\n",
       "      <td id=\"T_cf289_row0_col4\" class=\"data row0 col4\" >4</td>\n",
       "    </tr>\n",
       "    <tr>\n",
       "      <th id=\"T_cf289_level0_row1\" class=\"row_heading level0 row1\" >79</th>\n",
       "      <td id=\"T_cf289_row1_col0\" class=\"data row1 col0\" >GVREIT</td>\n",
       "      <td id=\"T_cf289_row1_col1\" class=\"data row1 col1\" >8096</td>\n",
       "      <td id=\"T_cf289_row1_col2\" class=\"data row1 col2\" >10</td>\n",
       "      <td id=\"T_cf289_row1_col3\" class=\"data row1 col3\" >457,671</td>\n",
       "      <td id=\"T_cf289_row1_col4\" class=\"data row1 col4\" >4</td>\n",
       "    </tr>\n",
       "    <tr>\n",
       "      <th id=\"T_cf289_level0_row2\" class=\"row_heading level0 row2\" >185</th>\n",
       "      <td id=\"T_cf289_row2_col0\" class=\"data row2 col0\" >TFFIF</td>\n",
       "      <td id=\"T_cf289_row2_col1\" class=\"data row2 col1\" >8096</td>\n",
       "      <td id=\"T_cf289_row2_col2\" class=\"data row2 col2\" >10</td>\n",
       "      <td id=\"T_cf289_row2_col3\" class=\"data row2 col3\" >-458,370</td>\n",
       "      <td id=\"T_cf289_row2_col4\" class=\"data row2 col4\" >4</td>\n",
       "    </tr>\n",
       "  </tbody>\n",
       "</table>\n"
      ],
      "text/plain": [
       "<pandas.io.formats.style.Styler at 0x18f8122ccb0>"
      ]
     },
     "execution_count": 46,
     "metadata": {},
     "output_type": "execute_result"
    }
   ],
   "source": [
    "dfc = pd.read_sql(sql, conlt)\n",
    "dfc[\"Counter\"] = 1\n",
    "dfc_grp = dfc.groupby([\"name\"], as_index=False).sum()\n",
    "dfc_grp = dfc_grp[dfc_grp[\"Counter\"] == 4]\n",
    "dfc_grp.head().style.format(format_dict)"
   ]
  },
  {
   "cell_type": "code",
   "execution_count": 6,
   "metadata": {},
   "outputs": [
    {
     "name": "stdout",
     "output_type": "stream",
     "text": [
      "\n",
      "SELECT name,year,quarter,q_amt\n",
      "FROM epss \n",
      "WHERE (year = 2024-1 AND quarter <= 4) \n",
      "OR (year = 2024-2 AND quarter >= 4+1)\n",
      "ORDER BY year DESC, quarter DESC\n",
      "\n"
     ]
    }
   ],
   "source": [
    "sql = \"\"\"\n",
    "SELECT name,year,quarter,q_amt\n",
    "FROM epss \n",
    "WHERE (year = %s-1 AND quarter <= %s) \n",
    "OR (year = %s-2 AND quarter >= %s+1)\n",
    "ORDER BY year DESC, quarter DESC\n",
    "\"\"\"\n",
    "sql = sql % (year, quarter, year, quarter)\n",
    "print(sql)"
   ]
  },
  {
   "cell_type": "code",
   "execution_count": 48,
   "metadata": {},
   "outputs": [
    {
     "data": {
      "text/html": [
       "<style type=\"text/css\">\n",
       "</style>\n",
       "<table id=\"T_ba17a\">\n",
       "  <thead>\n",
       "    <tr>\n",
       "      <th class=\"blank level0\" >&nbsp;</th>\n",
       "      <th id=\"T_ba17a_level0_col0\" class=\"col_heading level0 col0\" >name</th>\n",
       "      <th id=\"T_ba17a_level0_col1\" class=\"col_heading level0 col1\" >year</th>\n",
       "      <th id=\"T_ba17a_level0_col2\" class=\"col_heading level0 col2\" >quarter</th>\n",
       "      <th id=\"T_ba17a_level0_col3\" class=\"col_heading level0 col3\" >q_amt</th>\n",
       "      <th id=\"T_ba17a_level0_col4\" class=\"col_heading level0 col4\" >Counter</th>\n",
       "    </tr>\n",
       "  </thead>\n",
       "  <tbody>\n",
       "    <tr>\n",
       "      <th id=\"T_ba17a_level0_row0\" class=\"row_heading level0 row0\" >69</th>\n",
       "      <td id=\"T_ba17a_row0_col0\" class=\"data row0 col0\" >FPT</td>\n",
       "      <td id=\"T_ba17a_row0_col1\" class=\"data row0 col1\" >8096</td>\n",
       "      <td id=\"T_ba17a_row0_col2\" class=\"data row0 col2\" >10</td>\n",
       "      <td id=\"T_ba17a_row0_col3\" class=\"data row0 col3\" >1,438,028</td>\n",
       "      <td id=\"T_ba17a_row0_col4\" class=\"data row0 col4\" >4</td>\n",
       "    </tr>\n",
       "    <tr>\n",
       "      <th id=\"T_ba17a_level0_row1\" class=\"row_heading level0 row1\" >79</th>\n",
       "      <td id=\"T_ba17a_row1_col0\" class=\"data row1 col0\" >GVREIT</td>\n",
       "      <td id=\"T_ba17a_row1_col1\" class=\"data row1 col1\" >8096</td>\n",
       "      <td id=\"T_ba17a_row1_col2\" class=\"data row1 col2\" >10</td>\n",
       "      <td id=\"T_ba17a_row1_col3\" class=\"data row1 col3\" >457,671</td>\n",
       "      <td id=\"T_ba17a_row1_col4\" class=\"data row1 col4\" >4</td>\n",
       "    </tr>\n",
       "    <tr>\n",
       "      <th id=\"T_ba17a_level0_row2\" class=\"row_heading level0 row2\" >185</th>\n",
       "      <td id=\"T_ba17a_row2_col0\" class=\"data row2 col0\" >TFFIF</td>\n",
       "      <td id=\"T_ba17a_row2_col1\" class=\"data row2 col1\" >8096</td>\n",
       "      <td id=\"T_ba17a_row2_col2\" class=\"data row2 col2\" >10</td>\n",
       "      <td id=\"T_ba17a_row2_col3\" class=\"data row2 col3\" >-458,370</td>\n",
       "      <td id=\"T_ba17a_row2_col4\" class=\"data row2 col4\" >4</td>\n",
       "    </tr>\n",
       "  </tbody>\n",
       "</table>\n"
      ],
      "text/plain": [
       "<pandas.io.formats.style.Styler at 0x18f841c2ab0>"
      ]
     },
     "execution_count": 48,
     "metadata": {},
     "output_type": "execute_result"
    }
   ],
   "source": [
    "dfp = pd.read_sql(sql, conlt)\n",
    "dfp[\"Counter\"] = 1\n",
    "dfp_grp = dfp.groupby([\"name\"], as_index=False).sum()\n",
    "dfp_grp = dfp_grp[dfp_grp[\"Counter\"] == 4]\n",
    "dfp_grp.head().style.format(format_dict)"
   ]
  },
  {
   "cell_type": "code",
   "execution_count": 50,
   "metadata": {},
   "outputs": [
    {
     "data": {
      "text/html": [
       "<style type=\"text/css\">\n",
       "</style>\n",
       "<table id=\"T_fa537\">\n",
       "  <thead>\n",
       "    <tr>\n",
       "      <th class=\"blank level0\" >&nbsp;</th>\n",
       "      <th id=\"T_fa537_level0_col0\" class=\"col_heading level0 col0\" >name</th>\n",
       "      <th id=\"T_fa537_level0_col1\" class=\"col_heading level0 col1\" >year</th>\n",
       "      <th id=\"T_fa537_level0_col2\" class=\"col_heading level0 col2\" >quarter</th>\n",
       "      <th id=\"T_fa537_level0_col3\" class=\"col_heading level0 col3\" >q_amt_c</th>\n",
       "      <th id=\"T_fa537_level0_col4\" class=\"col_heading level0 col4\" >q_amt_p</th>\n",
       "      <th id=\"T_fa537_level0_col5\" class=\"col_heading level0 col5\" >inc_profit</th>\n",
       "      <th id=\"T_fa537_level0_col6\" class=\"col_heading level0 col6\" >percent</th>\n",
       "    </tr>\n",
       "  </thead>\n",
       "  <tbody>\n",
       "    <tr>\n",
       "      <th id=\"T_fa537_level0_row0\" class=\"row_heading level0 row0\" >0</th>\n",
       "      <td id=\"T_fa537_row0_col0\" class=\"data row0 col0\" >FPT</td>\n",
       "      <td id=\"T_fa537_row0_col1\" class=\"data row0 col1\" >2024</td>\n",
       "      <td id=\"T_fa537_row0_col2\" class=\"data row0 col2\" >Q4</td>\n",
       "      <td id=\"T_fa537_row0_col3\" class=\"data row0 col3\" >1,438,028</td>\n",
       "      <td id=\"T_fa537_row0_col4\" class=\"data row0 col4\" >1,438,028</td>\n",
       "      <td id=\"T_fa537_row0_col5\" class=\"data row0 col5\" >0</td>\n",
       "      <td id=\"T_fa537_row0_col6\" class=\"data row0 col6\" >0.00%</td>\n",
       "    </tr>\n",
       "    <tr>\n",
       "      <th id=\"T_fa537_level0_row1\" class=\"row_heading level0 row1\" >1</th>\n",
       "      <td id=\"T_fa537_row1_col0\" class=\"data row1 col0\" >GVREIT</td>\n",
       "      <td id=\"T_fa537_row1_col1\" class=\"data row1 col1\" >2024</td>\n",
       "      <td id=\"T_fa537_row1_col2\" class=\"data row1 col2\" >Q4</td>\n",
       "      <td id=\"T_fa537_row1_col3\" class=\"data row1 col3\" >457,671</td>\n",
       "      <td id=\"T_fa537_row1_col4\" class=\"data row1 col4\" >457,671</td>\n",
       "      <td id=\"T_fa537_row1_col5\" class=\"data row1 col5\" >0</td>\n",
       "      <td id=\"T_fa537_row1_col6\" class=\"data row1 col6\" >0.00%</td>\n",
       "    </tr>\n",
       "    <tr>\n",
       "      <th id=\"T_fa537_level0_row2\" class=\"row_heading level0 row2\" >2</th>\n",
       "      <td id=\"T_fa537_row2_col0\" class=\"data row2 col0\" >TFFIF</td>\n",
       "      <td id=\"T_fa537_row2_col1\" class=\"data row2 col1\" >2024</td>\n",
       "      <td id=\"T_fa537_row2_col2\" class=\"data row2 col2\" >Q4</td>\n",
       "      <td id=\"T_fa537_row2_col3\" class=\"data row2 col3\" >-458,370</td>\n",
       "      <td id=\"T_fa537_row2_col4\" class=\"data row2 col4\" >-458,370</td>\n",
       "      <td id=\"T_fa537_row2_col5\" class=\"data row2 col5\" >0</td>\n",
       "      <td id=\"T_fa537_row2_col6\" class=\"data row2 col6\" >0.00%</td>\n",
       "    </tr>\n",
       "  </tbody>\n",
       "</table>\n"
      ],
      "text/plain": [
       "<pandas.io.formats.style.Styler at 0x18f83c75d00>"
      ]
     },
     "execution_count": 50,
     "metadata": {},
     "output_type": "execute_result"
    }
   ],
   "source": [
    "dfm = pd.merge(dfc_grp, dfp_grp, on=\"name\", suffixes=([\"_c\", \"_p\"]), how=\"inner\")\n",
    "dfm[\"inc_profit\"] = dfm[\"q_amt_c\"] - dfm[\"q_amt_p\"]\n",
    "dfm[\"percent\"] = round(dfm[\"inc_profit\"] / abs(dfm[\"q_amt_p\"]) * 100, 2)\n",
    "dfm[\"year\"] = year\n",
    "dfm[\"quarter\"] = \"Q\" + str(quarter)\n",
    "df_percent = dfm[cols]\n",
    "df_percent.head().style.format(format_dict)"
   ]
  },
  {
   "cell_type": "code",
   "execution_count": 52,
   "metadata": {},
   "outputs": [
    {
     "name": "stdout",
     "output_type": "stream",
     "text": [
      "Rows deleted: 0\n"
     ]
    }
   ],
   "source": [
    "# Create the SQL query with parameter binding\n",
    "sql = text(\"DELETE FROM yr_profits WHERE year = :year AND quarter = :quarter\")\n",
    "\n",
    "# Execute the query with parameters\n",
    "params = {'year': year, 'quarter': f'Q{quarter}'}\n",
    "rp = conlt.execute(sql, params)\n",
    "\n",
    "# Print the number of rows affected\n",
    "print(\"Rows deleted:\", rp.rowcount)"
   ]
  },
  {
   "cell_type": "code",
   "execution_count": 54,
   "metadata": {},
   "outputs": [
    {
     "data": {
      "text/plain": [
       "3"
      ]
     },
     "execution_count": 54,
     "metadata": {},
     "output_type": "execute_result"
    }
   ],
   "source": [
    "sql = \"SELECT name, id FROM tickers\"\n",
    "tickers = pd.read_sql(sql, conlt)\n",
    "df_ins = pd.merge(df_percent, tickers, on=\"name\", how=\"inner\")\n",
    "rcds = df_ins.values.tolist()\n",
    "len(rcds)"
   ]
  },
  {
   "cell_type": "code",
   "execution_count": 56,
   "metadata": {},
   "outputs": [],
   "source": [
    "# Convert DataFrame to list of records\n",
    "rcds = df_ins.values.tolist()\n",
    "\n",
    "# Define column names in the same order as values\n",
    "columns = ['name', 'year', 'quarter', 'latest_amt', 'previous_amt', 'inc_amt', 'inc_pct', 'ticker_id']\n",
    "\n",
    "# SQL insert statement with named parameters\n",
    "sql = text(\"\"\"\n",
    "    INSERT INTO yr_profits \n",
    "    (name, year, quarter, latest_amt, previous_amt, inc_amt, inc_pct, ticker_id)\n",
    "    VALUES (:name, :year, :quarter, :latest_amt, :previous_amt, :inc_amt, :inc_pct, :ticker_id)\n",
    "\"\"\")\n",
    "\n",
    "try:\n",
    "    # Execute inserts\n",
    "    for rcd in rcds:\n",
    "        # Convert list to dictionary\n",
    "        params = dict(zip(columns, rcd))\n",
    "        conlt.execute(sql, params)\n",
    "except Exception as e:\n",
    "    raise e"
   ]
  },
  {
   "cell_type": "markdown",
   "metadata": {},
   "source": [
    "### End of loop"
   ]
  },
  {
   "cell_type": "code",
   "execution_count": 14,
   "metadata": {},
   "outputs": [
    {
     "data": {
      "text/html": [
       "<style type=\"text/css\">\n",
       "</style>\n",
       "<table id=\"T_e3376\">\n",
       "  <thead>\n",
       "    <tr>\n",
       "      <th class=\"blank level0\" >&nbsp;</th>\n",
       "      <th id=\"T_e3376_level0_col0\" class=\"col_heading level0 col0\" >name</th>\n",
       "      <th id=\"T_e3376_level0_col1\" class=\"col_heading level0 col1\" >year</th>\n",
       "      <th id=\"T_e3376_level0_col2\" class=\"col_heading level0 col2\" >quarter</th>\n",
       "      <th id=\"T_e3376_level0_col3\" class=\"col_heading level0 col3\" >q_amt_c</th>\n",
       "      <th id=\"T_e3376_level0_col4\" class=\"col_heading level0 col4\" >q_amt_p</th>\n",
       "      <th id=\"T_e3376_level0_col5\" class=\"col_heading level0 col5\" >inc_profit</th>\n",
       "      <th id=\"T_e3376_level0_col6\" class=\"col_heading level0 col6\" >percent</th>\n",
       "    </tr>\n",
       "  </thead>\n",
       "  <tbody>\n",
       "    <tr>\n",
       "      <th id=\"T_e3376_level0_row0\" class=\"row_heading level0 row0\" >0</th>\n",
       "      <td id=\"T_e3376_row0_col0\" class=\"data row0 col0\" >FPT</td>\n",
       "      <td id=\"T_e3376_row0_col1\" class=\"data row0 col1\" >2024</td>\n",
       "      <td id=\"T_e3376_row0_col2\" class=\"data row0 col2\" >Q4</td>\n",
       "      <td id=\"T_e3376_row0_col3\" class=\"data row0 col3\" >1,438,028</td>\n",
       "      <td id=\"T_e3376_row0_col4\" class=\"data row0 col4\" >1,851,557</td>\n",
       "      <td id=\"T_e3376_row0_col5\" class=\"data row0 col5\" >-413,529</td>\n",
       "      <td id=\"T_e3376_row0_col6\" class=\"data row0 col6\" >-22.33%</td>\n",
       "    </tr>\n",
       "    <tr>\n",
       "      <th id=\"T_e3376_level0_row1\" class=\"row_heading level0 row1\" >1</th>\n",
       "      <td id=\"T_e3376_row1_col0\" class=\"data row1 col0\" >GVREIT</td>\n",
       "      <td id=\"T_e3376_row1_col1\" class=\"data row1 col1\" >2024</td>\n",
       "      <td id=\"T_e3376_row1_col2\" class=\"data row1 col2\" >Q4</td>\n",
       "      <td id=\"T_e3376_row1_col3\" class=\"data row1 col3\" >457,671</td>\n",
       "      <td id=\"T_e3376_row1_col4\" class=\"data row1 col4\" >565,723</td>\n",
       "      <td id=\"T_e3376_row1_col5\" class=\"data row1 col5\" >-108,052</td>\n",
       "      <td id=\"T_e3376_row1_col6\" class=\"data row1 col6\" >-19.10%</td>\n",
       "    </tr>\n",
       "  </tbody>\n",
       "</table>\n"
      ],
      "text/plain": [
       "<pandas.io.formats.style.Styler at 0x18f841c01a0>"
      ]
     },
     "execution_count": 14,
     "metadata": {},
     "output_type": "execute_result"
    }
   ],
   "source": [
    "criteria_1 = df_ins.q_amt_c > 440_000\n",
    "df_ins.loc[criteria_1, cols].head().style.format(format_dict)"
   ]
  },
  {
   "cell_type": "code",
   "execution_count": 15,
   "metadata": {},
   "outputs": [
    {
     "data": {
      "text/html": [
       "<style type=\"text/css\">\n",
       "</style>\n",
       "<table id=\"T_bdbf1\">\n",
       "  <thead>\n",
       "    <tr>\n",
       "      <th class=\"blank level0\" >&nbsp;</th>\n",
       "      <th id=\"T_bdbf1_level0_col0\" class=\"col_heading level0 col0\" >name</th>\n",
       "      <th id=\"T_bdbf1_level0_col1\" class=\"col_heading level0 col1\" >year</th>\n",
       "      <th id=\"T_bdbf1_level0_col2\" class=\"col_heading level0 col2\" >quarter</th>\n",
       "      <th id=\"T_bdbf1_level0_col3\" class=\"col_heading level0 col3\" >q_amt_c</th>\n",
       "      <th id=\"T_bdbf1_level0_col4\" class=\"col_heading level0 col4\" >q_amt_p</th>\n",
       "      <th id=\"T_bdbf1_level0_col5\" class=\"col_heading level0 col5\" >inc_profit</th>\n",
       "      <th id=\"T_bdbf1_level0_col6\" class=\"col_heading level0 col6\" >percent</th>\n",
       "    </tr>\n",
       "  </thead>\n",
       "  <tbody>\n",
       "    <tr>\n",
       "      <th id=\"T_bdbf1_level0_row0\" class=\"row_heading level0 row0\" >0</th>\n",
       "      <td id=\"T_bdbf1_row0_col0\" class=\"data row0 col0\" >FPT</td>\n",
       "      <td id=\"T_bdbf1_row0_col1\" class=\"data row0 col1\" >2024</td>\n",
       "      <td id=\"T_bdbf1_row0_col2\" class=\"data row0 col2\" >Q4</td>\n",
       "      <td id=\"T_bdbf1_row0_col3\" class=\"data row0 col3\" >1,438,028</td>\n",
       "      <td id=\"T_bdbf1_row0_col4\" class=\"data row0 col4\" >1,851,557</td>\n",
       "      <td id=\"T_bdbf1_row0_col5\" class=\"data row0 col5\" >-413,529</td>\n",
       "      <td id=\"T_bdbf1_row0_col6\" class=\"data row0 col6\" >-22.33%</td>\n",
       "    </tr>\n",
       "    <tr>\n",
       "      <th id=\"T_bdbf1_level0_row1\" class=\"row_heading level0 row1\" >1</th>\n",
       "      <td id=\"T_bdbf1_row1_col0\" class=\"data row1 col0\" >GVREIT</td>\n",
       "      <td id=\"T_bdbf1_row1_col1\" class=\"data row1 col1\" >2024</td>\n",
       "      <td id=\"T_bdbf1_row1_col2\" class=\"data row1 col2\" >Q4</td>\n",
       "      <td id=\"T_bdbf1_row1_col3\" class=\"data row1 col3\" >457,671</td>\n",
       "      <td id=\"T_bdbf1_row1_col4\" class=\"data row1 col4\" >565,723</td>\n",
       "      <td id=\"T_bdbf1_row1_col5\" class=\"data row1 col5\" >-108,052</td>\n",
       "      <td id=\"T_bdbf1_row1_col6\" class=\"data row1 col6\" >-19.10%</td>\n",
       "    </tr>\n",
       "    <tr>\n",
       "      <th id=\"T_bdbf1_level0_row2\" class=\"row_heading level0 row2\" >2</th>\n",
       "      <td id=\"T_bdbf1_row2_col0\" class=\"data row2 col0\" >TFFIF</td>\n",
       "      <td id=\"T_bdbf1_row2_col1\" class=\"data row2 col1\" >2024</td>\n",
       "      <td id=\"T_bdbf1_row2_col2\" class=\"data row2 col2\" >Q4</td>\n",
       "      <td id=\"T_bdbf1_row2_col3\" class=\"data row2 col3\" >-458,370</td>\n",
       "      <td id=\"T_bdbf1_row2_col4\" class=\"data row2 col4\" >9,458,559</td>\n",
       "      <td id=\"T_bdbf1_row2_col5\" class=\"data row2 col5\" >-9,916,929</td>\n",
       "      <td id=\"T_bdbf1_row2_col6\" class=\"data row2 col6\" >-104.85%</td>\n",
       "    </tr>\n",
       "  </tbody>\n",
       "</table>\n"
      ],
      "text/plain": [
       "<pandas.io.formats.style.Styler at 0x18f8334c320>"
      ]
     },
     "execution_count": 15,
     "metadata": {},
     "output_type": "execute_result"
    }
   ],
   "source": [
    "criteria_2 = df_ins.q_amt_p > 400_000\n",
    "df_ins.loc[criteria_2, cols].head().style.format(format_dict)"
   ]
  },
  {
   "cell_type": "code",
   "execution_count": 16,
   "metadata": {},
   "outputs": [
    {
     "data": {
      "text/html": [
       "<style type=\"text/css\">\n",
       "</style>\n",
       "<table id=\"T_bf1c1\">\n",
       "  <thead>\n",
       "    <tr>\n",
       "      <th class=\"blank level0\" >&nbsp;</th>\n",
       "      <th id=\"T_bf1c1_level0_col0\" class=\"col_heading level0 col0\" >name</th>\n",
       "      <th id=\"T_bf1c1_level0_col1\" class=\"col_heading level0 col1\" >year</th>\n",
       "      <th id=\"T_bf1c1_level0_col2\" class=\"col_heading level0 col2\" >quarter</th>\n",
       "      <th id=\"T_bf1c1_level0_col3\" class=\"col_heading level0 col3\" >q_amt_c</th>\n",
       "      <th id=\"T_bf1c1_level0_col4\" class=\"col_heading level0 col4\" >q_amt_p</th>\n",
       "      <th id=\"T_bf1c1_level0_col5\" class=\"col_heading level0 col5\" >inc_profit</th>\n",
       "      <th id=\"T_bf1c1_level0_col6\" class=\"col_heading level0 col6\" >percent</th>\n",
       "    </tr>\n",
       "  </thead>\n",
       "  <tbody>\n",
       "  </tbody>\n",
       "</table>\n"
      ],
      "text/plain": [
       "<pandas.io.formats.style.Styler at 0x18f83fa87d0>"
      ]
     },
     "execution_count": 16,
     "metadata": {},
     "output_type": "execute_result"
    }
   ],
   "source": [
    "criteria_3 = df_ins.percent > 10.00\n",
    "df_ins.loc[criteria_3, cols].head().style.format(format_dict)"
   ]
  },
  {
   "cell_type": "code",
   "execution_count": 17,
   "metadata": {},
   "outputs": [
    {
     "data": {
      "text/html": [
       "<style type=\"text/css\">\n",
       "</style>\n",
       "<table id=\"T_4c7d5\">\n",
       "  <thead>\n",
       "    <tr>\n",
       "      <th class=\"blank level0\" >&nbsp;</th>\n",
       "      <th id=\"T_4c7d5_level0_col0\" class=\"col_heading level0 col0\" >name</th>\n",
       "      <th id=\"T_4c7d5_level0_col1\" class=\"col_heading level0 col1\" >year</th>\n",
       "      <th id=\"T_4c7d5_level0_col2\" class=\"col_heading level0 col2\" >quarter</th>\n",
       "      <th id=\"T_4c7d5_level0_col3\" class=\"col_heading level0 col3\" >q_amt_c</th>\n",
       "      <th id=\"T_4c7d5_level0_col4\" class=\"col_heading level0 col4\" >q_amt_p</th>\n",
       "      <th id=\"T_4c7d5_level0_col5\" class=\"col_heading level0 col5\" >inc_profit</th>\n",
       "      <th id=\"T_4c7d5_level0_col6\" class=\"col_heading level0 col6\" >percent</th>\n",
       "    </tr>\n",
       "  </thead>\n",
       "  <tbody>\n",
       "  </tbody>\n",
       "</table>\n"
      ],
      "text/plain": [
       "<pandas.io.formats.style.Styler at 0x18f84251dc0>"
      ]
     },
     "execution_count": 17,
     "metadata": {},
     "output_type": "execute_result"
    }
   ],
   "source": [
    "final_criteria = criteria_1 & criteria_2 & criteria_3\n",
    "df_ins.loc[final_criteria, cols].sort_values(by=[\"percent\"], ascending=[False]).head().style.format(format_dict)"
   ]
  },
  {
   "cell_type": "code",
   "execution_count": 18,
   "metadata": {},
   "outputs": [
    {
     "data": {
      "text/html": [
       "<style type=\"text/css\">\n",
       "</style>\n",
       "<table id=\"T_4ba7b\">\n",
       "  <thead>\n",
       "    <tr>\n",
       "      <th class=\"blank level0\" >&nbsp;</th>\n",
       "      <th id=\"T_4ba7b_level0_col0\" class=\"col_heading level0 col0\" >name</th>\n",
       "      <th id=\"T_4ba7b_level0_col1\" class=\"col_heading level0 col1\" >year</th>\n",
       "      <th id=\"T_4ba7b_level0_col2\" class=\"col_heading level0 col2\" >quarter</th>\n",
       "      <th id=\"T_4ba7b_level0_col3\" class=\"col_heading level0 col3\" >q_amt_c</th>\n",
       "      <th id=\"T_4ba7b_level0_col4\" class=\"col_heading level0 col4\" >q_amt_p</th>\n",
       "      <th id=\"T_4ba7b_level0_col5\" class=\"col_heading level0 col5\" >inc_profit</th>\n",
       "      <th id=\"T_4ba7b_level0_col6\" class=\"col_heading level0 col6\" >percent</th>\n",
       "    </tr>\n",
       "  </thead>\n",
       "  <tbody>\n",
       "  </tbody>\n",
       "</table>\n"
      ],
      "text/plain": [
       "<pandas.io.formats.style.Styler at 0x18f84273350>"
      ]
     },
     "execution_count": 18,
     "metadata": {},
     "output_type": "execute_result"
    }
   ],
   "source": [
    "df_ins.loc[final_criteria, cols].sort_values(by=[\"name\"], ascending=[True]).head().style.format(format_dict)"
   ]
  },
  {
   "cell_type": "code",
   "execution_count": 19,
   "metadata": {},
   "outputs": [
    {
     "data": {
      "text/html": [
       "<style type=\"text/css\">\n",
       "</style>\n",
       "<table id=\"T_f1efc\">\n",
       "  <thead>\n",
       "    <tr>\n",
       "      <th class=\"blank level0\" >&nbsp;</th>\n",
       "      <th id=\"T_f1efc_level0_col0\" class=\"col_heading level0 col0\" >name</th>\n",
       "      <th id=\"T_f1efc_level0_col1\" class=\"col_heading level0 col1\" >year</th>\n",
       "      <th id=\"T_f1efc_level0_col2\" class=\"col_heading level0 col2\" >quarter</th>\n",
       "      <th id=\"T_f1efc_level0_col3\" class=\"col_heading level0 col3\" >q_amt_c</th>\n",
       "      <th id=\"T_f1efc_level0_col4\" class=\"col_heading level0 col4\" >q_amt_p</th>\n",
       "      <th id=\"T_f1efc_level0_col5\" class=\"col_heading level0 col5\" >inc_profit</th>\n",
       "      <th id=\"T_f1efc_level0_col6\" class=\"col_heading level0 col6\" >percent</th>\n",
       "    </tr>\n",
       "  </thead>\n",
       "  <tbody>\n",
       "  </tbody>\n",
       "</table>\n"
      ],
      "text/plain": [
       "<pandas.io.formats.style.Styler at 0x18f84272de0>"
      ]
     },
     "execution_count": 19,
     "metadata": {},
     "output_type": "execute_result"
    }
   ],
   "source": [
    "df_ins.loc[final_criteria, cols].sort_values(by=[\"name\"], ascending=[True]).head().style.format(format_dict)"
   ]
  },
  {
   "cell_type": "code",
   "execution_count": 20,
   "metadata": {},
   "outputs": [],
   "source": [
    "conlt.close()"
   ]
  },
  {
   "cell_type": "code",
   "execution_count": null,
   "metadata": {},
   "outputs": [],
   "source": []
  }
 ],
 "metadata": {
  "anaconda-cloud": {},
  "kernelspec": {
   "display_name": "Python 3 (ipykernel)",
   "language": "python",
   "name": "python3"
  },
  "language_info": {
   "codemirror_mode": {
    "name": "ipython",
    "version": 3
   },
   "file_extension": ".py",
   "mimetype": "text/x-python",
   "name": "python",
   "nbconvert_exporter": "python",
   "pygments_lexer": "ipython3",
   "version": "3.12.3"
  }
 },
 "nbformat": 4,
 "nbformat_minor": 4
}
