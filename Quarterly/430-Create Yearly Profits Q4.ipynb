{
 "cells": [
  {
   "cell_type": "markdown",
   "metadata": {},
   "source": [
    "### Restart and Run All Cells"
   ]
  },
  {
   "cell_type": "code",
   "execution_count": 2,
   "metadata": {},
   "outputs": [
    {
     "name": "stdout",
     "output_type": "stream",
     "text": [
      "2025:02:22 12:33:38\n"
     ]
    }
   ],
   "source": [
    "import pandas as pd\n",
    "from datetime import date, timedelta, datetime\n",
    "from sqlalchemy import create_engine, text\n",
    "engine = create_engine(\"sqlite:///c:\\\\ruby\\\\portlt\\\\db\\\\development.sqlite3\")\n",
    "conlt = engine.connect()\n",
    "year = 2024\n",
    "quarter = 4\n",
    "current_time = datetime.now()\n",
    "formatted_time = current_time.strftime(\"%Y:%m:%d %H:%M:%S\")\n",
    "print(formatted_time)"
   ]
  },
  {
   "cell_type": "code",
   "execution_count": 3,
   "metadata": {},
   "outputs": [],
   "source": [
    "cols = 'name year quarter q_amt_c q_amt_p inc_profit percent'.split()\n",
    "\n",
    "format_dict = {\n",
    "                'q_amt':'{:,}','q_amt_c':'{:,}','q_amt_p':'{:,}','inc_profit':'{:,}',\n",
    "                'yoy_gain':'{:,}','acc_gain':'{:,}',    \n",
    "                'q_eps':'{:.4f}','y_eps':'{:.4f}','aq_eps':'{:.4f}','ay_eps':'{:.4f}',\n",
    "                'percent':'{:.2f}%'\n",
    "              }"
   ]
  },
  {
   "cell_type": "code",
   "execution_count": 4,
   "metadata": {},
   "outputs": [
    {
     "name": "stdout",
     "output_type": "stream",
     "text": [
      "\n",
      "SELECT name,year,quarter,q_amt\n",
      "FROM epss \n",
      "WHERE (year = 2024 AND quarter <= 4) \n",
      "OR (year = 2024-1 AND quarter >= 4+1)\n",
      "ORDER BY year DESC, quarter DESC\n"
     ]
    }
   ],
   "source": [
    "sql = \"\"\"\n",
    "SELECT name,year,quarter,q_amt\n",
    "FROM epss \n",
    "WHERE (year = %s AND quarter <= %s) \n",
    "OR (year = %s-1 AND quarter >= %s+1)\n",
    "ORDER BY year DESC, quarter DESC\"\"\"\n",
    "sql = sql % (year, quarter, year, quarter)\n",
    "print(sql)"
   ]
  },
  {
   "cell_type": "code",
   "execution_count": 5,
   "metadata": {},
   "outputs": [
    {
     "data": {
      "text/html": [
       "<style type=\"text/css\">\n",
       "</style>\n",
       "<table id=\"T_f6243\">\n",
       "  <thead>\n",
       "    <tr>\n",
       "      <th class=\"blank level0\" >&nbsp;</th>\n",
       "      <th id=\"T_f6243_level0_col0\" class=\"col_heading level0 col0\" >name</th>\n",
       "      <th id=\"T_f6243_level0_col1\" class=\"col_heading level0 col1\" >year</th>\n",
       "      <th id=\"T_f6243_level0_col2\" class=\"col_heading level0 col2\" >quarter</th>\n",
       "      <th id=\"T_f6243_level0_col3\" class=\"col_heading level0 col3\" >q_amt</th>\n",
       "      <th id=\"T_f6243_level0_col4\" class=\"col_heading level0 col4\" >Counter</th>\n",
       "    </tr>\n",
       "  </thead>\n",
       "  <tbody>\n",
       "    <tr>\n",
       "      <th id=\"T_f6243_level0_row0\" class=\"row_heading level0 row0\" >0</th>\n",
       "      <td id=\"T_f6243_row0_col0\" class=\"data row0 col0\" >3BBIF</td>\n",
       "      <td id=\"T_f6243_row0_col1\" class=\"data row0 col1\" >8096</td>\n",
       "      <td id=\"T_f6243_row0_col2\" class=\"data row0 col2\" >10</td>\n",
       "      <td id=\"T_f6243_row0_col3\" class=\"data row0 col3\" >5,279,119</td>\n",
       "      <td id=\"T_f6243_row0_col4\" class=\"data row0 col4\" >4</td>\n",
       "    </tr>\n",
       "    <tr>\n",
       "      <th id=\"T_f6243_level0_row1\" class=\"row_heading level0 row1\" >2</th>\n",
       "      <td id=\"T_f6243_row1_col0\" class=\"data row1 col0\" >ADVANC</td>\n",
       "      <td id=\"T_f6243_row1_col1\" class=\"data row1 col1\" >8096</td>\n",
       "      <td id=\"T_f6243_row1_col2\" class=\"data row1 col2\" >10</td>\n",
       "      <td id=\"T_f6243_row1_col3\" class=\"data row1 col3\" >35,075,357</td>\n",
       "      <td id=\"T_f6243_row1_col4\" class=\"data row1 col4\" >4</td>\n",
       "    </tr>\n",
       "    <tr>\n",
       "      <th id=\"T_f6243_level0_row2\" class=\"row_heading level0 row2\" >5</th>\n",
       "      <td id=\"T_f6243_row2_col0\" class=\"data row2 col0\" >AIE</td>\n",
       "      <td id=\"T_f6243_row2_col1\" class=\"data row2 col1\" >8096</td>\n",
       "      <td id=\"T_f6243_row2_col2\" class=\"data row2 col2\" >10</td>\n",
       "      <td id=\"T_f6243_row2_col3\" class=\"data row2 col3\" >241,922</td>\n",
       "      <td id=\"T_f6243_row2_col4\" class=\"data row2 col4\" >4</td>\n",
       "    </tr>\n",
       "    <tr>\n",
       "      <th id=\"T_f6243_level0_row3\" class=\"row_heading level0 row3\" >6</th>\n",
       "      <td id=\"T_f6243_row3_col0\" class=\"data row3 col0\" >AIMIRT</td>\n",
       "      <td id=\"T_f6243_row3_col1\" class=\"data row3 col1\" >8096</td>\n",
       "      <td id=\"T_f6243_row3_col2\" class=\"data row3 col2\" >10</td>\n",
       "      <td id=\"T_f6243_row3_col3\" class=\"data row3 col3\" >948,696</td>\n",
       "      <td id=\"T_f6243_row3_col4\" class=\"data row3 col4\" >4</td>\n",
       "    </tr>\n",
       "    <tr>\n",
       "      <th id=\"T_f6243_level0_row4\" class=\"row_heading level0 row4\" >7</th>\n",
       "      <td id=\"T_f6243_row4_col0\" class=\"data row4 col0\" >AIT</td>\n",
       "      <td id=\"T_f6243_row4_col1\" class=\"data row4 col1\" >8096</td>\n",
       "      <td id=\"T_f6243_row4_col2\" class=\"data row4 col2\" >10</td>\n",
       "      <td id=\"T_f6243_row4_col3\" class=\"data row4 col3\" >572,462</td>\n",
       "      <td id=\"T_f6243_row4_col4\" class=\"data row4 col4\" >4</td>\n",
       "    </tr>\n",
       "  </tbody>\n",
       "</table>\n"
      ],
      "text/plain": [
       "<pandas.io.formats.style.Styler at 0x24984e57770>"
      ]
     },
     "execution_count": 5,
     "metadata": {},
     "output_type": "execute_result"
    }
   ],
   "source": [
    "dfc = pd.read_sql(sql, conlt)\n",
    "dfc[\"Counter\"] = 1\n",
    "dfc_grp = dfc.groupby([\"name\"], as_index=False).sum()\n",
    "dfc_grp = dfc_grp[dfc_grp[\"Counter\"] == 4]\n",
    "dfc_grp.head().style.format(format_dict)"
   ]
  },
  {
   "cell_type": "code",
   "execution_count": 6,
   "metadata": {},
   "outputs": [
    {
     "name": "stdout",
     "output_type": "stream",
     "text": [
      "\n",
      "SELECT name,year,quarter,q_amt\n",
      "FROM epss \n",
      "WHERE (year = 2024-1 AND quarter <= 4) \n",
      "OR (year = 2024-2 AND quarter >= 4+1)\n",
      "ORDER BY year DESC, quarter DESC\n",
      "\n"
     ]
    }
   ],
   "source": [
    "sql = \"\"\"\n",
    "SELECT name,year,quarter,q_amt\n",
    "FROM epss \n",
    "WHERE (year = %s-1 AND quarter <= %s) \n",
    "OR (year = %s-2 AND quarter >= %s+1)\n",
    "ORDER BY year DESC, quarter DESC\n",
    "\"\"\"\n",
    "sql = sql % (year, quarter, year, quarter)\n",
    "print(sql)"
   ]
  },
  {
   "cell_type": "code",
   "execution_count": 7,
   "metadata": {},
   "outputs": [
    {
     "data": {
      "text/html": [
       "<style type=\"text/css\">\n",
       "</style>\n",
       "<table id=\"T_38848\">\n",
       "  <thead>\n",
       "    <tr>\n",
       "      <th class=\"blank level0\" >&nbsp;</th>\n",
       "      <th id=\"T_38848_level0_col0\" class=\"col_heading level0 col0\" >name</th>\n",
       "      <th id=\"T_38848_level0_col1\" class=\"col_heading level0 col1\" >year</th>\n",
       "      <th id=\"T_38848_level0_col2\" class=\"col_heading level0 col2\" >quarter</th>\n",
       "      <th id=\"T_38848_level0_col3\" class=\"col_heading level0 col3\" >q_amt</th>\n",
       "      <th id=\"T_38848_level0_col4\" class=\"col_heading level0 col4\" >Counter</th>\n",
       "    </tr>\n",
       "  </thead>\n",
       "  <tbody>\n",
       "    <tr>\n",
       "      <th id=\"T_38848_level0_row0\" class=\"row_heading level0 row0\" >0</th>\n",
       "      <td id=\"T_38848_row0_col0\" class=\"data row0 col0\" >3BBIF</td>\n",
       "      <td id=\"T_38848_row0_col1\" class=\"data row0 col1\" >8092</td>\n",
       "      <td id=\"T_38848_row0_col2\" class=\"data row0 col2\" >10</td>\n",
       "      <td id=\"T_38848_row0_col3\" class=\"data row0 col3\" >-11,139,183</td>\n",
       "      <td id=\"T_38848_row0_col4\" class=\"data row0 col4\" >4</td>\n",
       "    </tr>\n",
       "    <tr>\n",
       "      <th id=\"T_38848_level0_row1\" class=\"row_heading level0 row1\" >1</th>\n",
       "      <td id=\"T_38848_row1_col0\" class=\"data row1 col0\" >ACE</td>\n",
       "      <td id=\"T_38848_row1_col1\" class=\"data row1 col1\" >8092</td>\n",
       "      <td id=\"T_38848_row1_col2\" class=\"data row1 col2\" >10</td>\n",
       "      <td id=\"T_38848_row1_col3\" class=\"data row1 col3\" >1,072,511</td>\n",
       "      <td id=\"T_38848_row1_col4\" class=\"data row1 col4\" >4</td>\n",
       "    </tr>\n",
       "    <tr>\n",
       "      <th id=\"T_38848_level0_row2\" class=\"row_heading level0 row2\" >2</th>\n",
       "      <td id=\"T_38848_row2_col0\" class=\"data row2 col0\" >ADVANC</td>\n",
       "      <td id=\"T_38848_row2_col1\" class=\"data row2 col1\" >8092</td>\n",
       "      <td id=\"T_38848_row2_col2\" class=\"data row2 col2\" >10</td>\n",
       "      <td id=\"T_38848_row2_col3\" class=\"data row2 col3\" >29,086,105</td>\n",
       "      <td id=\"T_38848_row2_col4\" class=\"data row2 col4\" >4</td>\n",
       "    </tr>\n",
       "    <tr>\n",
       "      <th id=\"T_38848_level0_row3\" class=\"row_heading level0 row3\" >3</th>\n",
       "      <td id=\"T_38848_row3_col0\" class=\"data row3 col0\" >AEONTS</td>\n",
       "      <td id=\"T_38848_row3_col1\" class=\"data row3 col1\" >8092</td>\n",
       "      <td id=\"T_38848_row3_col2\" class=\"data row3 col2\" >10</td>\n",
       "      <td id=\"T_38848_row3_col3\" class=\"data row3 col3\" >3,258,785</td>\n",
       "      <td id=\"T_38848_row3_col4\" class=\"data row3 col4\" >4</td>\n",
       "    </tr>\n",
       "    <tr>\n",
       "      <th id=\"T_38848_level0_row4\" class=\"row_heading level0 row4\" >4</th>\n",
       "      <td id=\"T_38848_row4_col0\" class=\"data row4 col0\" >AH</td>\n",
       "      <td id=\"T_38848_row4_col1\" class=\"data row4 col1\" >8092</td>\n",
       "      <td id=\"T_38848_row4_col2\" class=\"data row4 col2\" >10</td>\n",
       "      <td id=\"T_38848_row4_col3\" class=\"data row4 col3\" >1,610,435</td>\n",
       "      <td id=\"T_38848_row4_col4\" class=\"data row4 col4\" >4</td>\n",
       "    </tr>\n",
       "  </tbody>\n",
       "</table>\n"
      ],
      "text/plain": [
       "<pandas.io.formats.style.Styler at 0x24986399f10>"
      ]
     },
     "execution_count": 7,
     "metadata": {},
     "output_type": "execute_result"
    }
   ],
   "source": [
    "dfp = pd.read_sql(sql, conlt)\n",
    "dfp[\"Counter\"] = 1\n",
    "dfp_grp = dfp.groupby([\"name\"], as_index=False).sum()\n",
    "dfp_grp = dfp_grp[dfp_grp[\"Counter\"] == 4]\n",
    "dfp_grp.head().style.format(format_dict)"
   ]
  },
  {
   "cell_type": "code",
   "execution_count": 8,
   "metadata": {},
   "outputs": [
    {
     "data": {
      "text/html": [
       "<style type=\"text/css\">\n",
       "</style>\n",
       "<table id=\"T_fd092\">\n",
       "  <thead>\n",
       "    <tr>\n",
       "      <th class=\"blank level0\" >&nbsp;</th>\n",
       "      <th id=\"T_fd092_level0_col0\" class=\"col_heading level0 col0\" >name</th>\n",
       "      <th id=\"T_fd092_level0_col1\" class=\"col_heading level0 col1\" >year</th>\n",
       "      <th id=\"T_fd092_level0_col2\" class=\"col_heading level0 col2\" >quarter</th>\n",
       "      <th id=\"T_fd092_level0_col3\" class=\"col_heading level0 col3\" >q_amt_c</th>\n",
       "      <th id=\"T_fd092_level0_col4\" class=\"col_heading level0 col4\" >q_amt_p</th>\n",
       "      <th id=\"T_fd092_level0_col5\" class=\"col_heading level0 col5\" >inc_profit</th>\n",
       "      <th id=\"T_fd092_level0_col6\" class=\"col_heading level0 col6\" >percent</th>\n",
       "    </tr>\n",
       "  </thead>\n",
       "  <tbody>\n",
       "    <tr>\n",
       "      <th id=\"T_fd092_level0_row0\" class=\"row_heading level0 row0\" >0</th>\n",
       "      <td id=\"T_fd092_row0_col0\" class=\"data row0 col0\" >3BBIF</td>\n",
       "      <td id=\"T_fd092_row0_col1\" class=\"data row0 col1\" >2024</td>\n",
       "      <td id=\"T_fd092_row0_col2\" class=\"data row0 col2\" >Q4</td>\n",
       "      <td id=\"T_fd092_row0_col3\" class=\"data row0 col3\" >5,279,119</td>\n",
       "      <td id=\"T_fd092_row0_col4\" class=\"data row0 col4\" >-11,139,183</td>\n",
       "      <td id=\"T_fd092_row0_col5\" class=\"data row0 col5\" >16,418,302</td>\n",
       "      <td id=\"T_fd092_row0_col6\" class=\"data row0 col6\" >147.39%</td>\n",
       "    </tr>\n",
       "    <tr>\n",
       "      <th id=\"T_fd092_level0_row1\" class=\"row_heading level0 row1\" >1</th>\n",
       "      <td id=\"T_fd092_row1_col0\" class=\"data row1 col0\" >ADVANC</td>\n",
       "      <td id=\"T_fd092_row1_col1\" class=\"data row1 col1\" >2024</td>\n",
       "      <td id=\"T_fd092_row1_col2\" class=\"data row1 col2\" >Q4</td>\n",
       "      <td id=\"T_fd092_row1_col3\" class=\"data row1 col3\" >35,075,357</td>\n",
       "      <td id=\"T_fd092_row1_col4\" class=\"data row1 col4\" >29,086,105</td>\n",
       "      <td id=\"T_fd092_row1_col5\" class=\"data row1 col5\" >5,989,252</td>\n",
       "      <td id=\"T_fd092_row1_col6\" class=\"data row1 col6\" >20.59%</td>\n",
       "    </tr>\n",
       "    <tr>\n",
       "      <th id=\"T_fd092_level0_row2\" class=\"row_heading level0 row2\" >2</th>\n",
       "      <td id=\"T_fd092_row2_col0\" class=\"data row2 col0\" >AIE</td>\n",
       "      <td id=\"T_fd092_row2_col1\" class=\"data row2 col1\" >2024</td>\n",
       "      <td id=\"T_fd092_row2_col2\" class=\"data row2 col2\" >Q4</td>\n",
       "      <td id=\"T_fd092_row2_col3\" class=\"data row2 col3\" >241,922</td>\n",
       "      <td id=\"T_fd092_row2_col4\" class=\"data row2 col4\" >40,267</td>\n",
       "      <td id=\"T_fd092_row2_col5\" class=\"data row2 col5\" >201,655</td>\n",
       "      <td id=\"T_fd092_row2_col6\" class=\"data row2 col6\" >500.79%</td>\n",
       "    </tr>\n",
       "    <tr>\n",
       "      <th id=\"T_fd092_level0_row3\" class=\"row_heading level0 row3\" >3</th>\n",
       "      <td id=\"T_fd092_row3_col0\" class=\"data row3 col0\" >AIMIRT</td>\n",
       "      <td id=\"T_fd092_row3_col1\" class=\"data row3 col1\" >2024</td>\n",
       "      <td id=\"T_fd092_row3_col2\" class=\"data row3 col2\" >Q4</td>\n",
       "      <td id=\"T_fd092_row3_col3\" class=\"data row3 col3\" >948,696</td>\n",
       "      <td id=\"T_fd092_row3_col4\" class=\"data row3 col4\" >501,902</td>\n",
       "      <td id=\"T_fd092_row3_col5\" class=\"data row3 col5\" >446,794</td>\n",
       "      <td id=\"T_fd092_row3_col6\" class=\"data row3 col6\" >89.02%</td>\n",
       "    </tr>\n",
       "    <tr>\n",
       "      <th id=\"T_fd092_level0_row4\" class=\"row_heading level0 row4\" >4</th>\n",
       "      <td id=\"T_fd092_row4_col0\" class=\"data row4 col0\" >AIT</td>\n",
       "      <td id=\"T_fd092_row4_col1\" class=\"data row4 col1\" >2024</td>\n",
       "      <td id=\"T_fd092_row4_col2\" class=\"data row4 col2\" >Q4</td>\n",
       "      <td id=\"T_fd092_row4_col3\" class=\"data row4 col3\" >572,462</td>\n",
       "      <td id=\"T_fd092_row4_col4\" class=\"data row4 col4\" >503,670</td>\n",
       "      <td id=\"T_fd092_row4_col5\" class=\"data row4 col5\" >68,792</td>\n",
       "      <td id=\"T_fd092_row4_col6\" class=\"data row4 col6\" >13.66%</td>\n",
       "    </tr>\n",
       "  </tbody>\n",
       "</table>\n"
      ],
      "text/plain": [
       "<pandas.io.formats.style.Styler at 0x249863fcbf0>"
      ]
     },
     "execution_count": 8,
     "metadata": {},
     "output_type": "execute_result"
    }
   ],
   "source": [
    "dfm = pd.merge(dfc_grp, dfp_grp, on=\"name\", suffixes=([\"_c\", \"_p\"]), how=\"inner\")\n",
    "dfm[\"inc_profit\"] = dfm[\"q_amt_c\"] - dfm[\"q_amt_p\"]\n",
    "dfm[\"percent\"] = round(dfm[\"inc_profit\"] / abs(dfm[\"q_amt_p\"]) * 100, 2)\n",
    "dfm[\"year\"] = year\n",
    "dfm[\"quarter\"] = \"Q\" + str(quarter)\n",
    "df_percent = dfm[cols]\n",
    "df_percent.head().style.format(format_dict)"
   ]
  },
  {
   "cell_type": "code",
   "execution_count": 9,
   "metadata": {},
   "outputs": [
    {
     "name": "stdout",
     "output_type": "stream",
     "text": [
      "Rows deleted: 70\n"
     ]
    }
   ],
   "source": [
    "# Create the SQL query with parameter binding\n",
    "sql = text(\"DELETE FROM yr_profits WHERE year = :year AND quarter = :quarter\")\n",
    "\n",
    "# Execute the query with parameters\n",
    "params = {'year': year, 'quarter': f'Q{quarter}'}\n",
    "rp = conlt.execute(sql, params)\n",
    "\n",
    "# Print the number of rows affected\n",
    "print(\"Rows deleted:\", rp.rowcount)"
   ]
  },
  {
   "cell_type": "code",
   "execution_count": 10,
   "metadata": {},
   "outputs": [
    {
     "data": {
      "text/plain": [
       "97"
      ]
     },
     "execution_count": 10,
     "metadata": {},
     "output_type": "execute_result"
    }
   ],
   "source": [
    "sql = \"SELECT name, id FROM tickers\"\n",
    "tickers = pd.read_sql(sql, conlt)\n",
    "df_ins = pd.merge(df_percent, tickers, on=\"name\", how=\"inner\")\n",
    "rcds = df_ins.values.tolist()\n",
    "len(rcds)"
   ]
  },
  {
   "cell_type": "code",
   "execution_count": 11,
   "metadata": {},
   "outputs": [],
   "source": [
    "# Convert DataFrame to list of records\n",
    "rcds = df_ins.values.tolist()\n",
    "\n",
    "# Define column names in the same order as values\n",
    "columns = ['name', 'year', 'quarter', 'latest_amt', 'previous_amt', 'inc_amt', 'inc_pct', 'ticker_id']\n",
    "\n",
    "# SQL insert statement with named parameters\n",
    "sql = text(\"\"\"\n",
    "    INSERT INTO yr_profits \n",
    "    (name, year, quarter, latest_amt, previous_amt, inc_amt, inc_pct, ticker_id)\n",
    "    VALUES (:name, :year, :quarter, :latest_amt, :previous_amt, :inc_amt, :inc_pct, :ticker_id)\n",
    "\"\"\")\n",
    "\n",
    "try:\n",
    "    # Execute inserts\n",
    "    for rcd in rcds:\n",
    "        # Convert list to dictionary\n",
    "        params = dict(zip(columns, rcd))\n",
    "        conlt.execute(sql, params)\n",
    "except Exception as e:\n",
    "    raise e"
   ]
  },
  {
   "cell_type": "markdown",
   "metadata": {},
   "source": [
    "### End of loop"
   ]
  },
  {
   "cell_type": "code",
   "execution_count": 13,
   "metadata": {},
   "outputs": [
    {
     "data": {
      "text/html": [
       "<style type=\"text/css\">\n",
       "</style>\n",
       "<table id=\"T_62e7b\">\n",
       "  <thead>\n",
       "    <tr>\n",
       "      <th class=\"blank level0\" >&nbsp;</th>\n",
       "      <th id=\"T_62e7b_level0_col0\" class=\"col_heading level0 col0\" >name</th>\n",
       "      <th id=\"T_62e7b_level0_col1\" class=\"col_heading level0 col1\" >year</th>\n",
       "      <th id=\"T_62e7b_level0_col2\" class=\"col_heading level0 col2\" >quarter</th>\n",
       "      <th id=\"T_62e7b_level0_col3\" class=\"col_heading level0 col3\" >q_amt_c</th>\n",
       "      <th id=\"T_62e7b_level0_col4\" class=\"col_heading level0 col4\" >q_amt_p</th>\n",
       "      <th id=\"T_62e7b_level0_col5\" class=\"col_heading level0 col5\" >inc_profit</th>\n",
       "      <th id=\"T_62e7b_level0_col6\" class=\"col_heading level0 col6\" >percent</th>\n",
       "    </tr>\n",
       "  </thead>\n",
       "  <tbody>\n",
       "    <tr>\n",
       "      <th id=\"T_62e7b_level0_row0\" class=\"row_heading level0 row0\" >0</th>\n",
       "      <td id=\"T_62e7b_row0_col0\" class=\"data row0 col0\" >3BBIF</td>\n",
       "      <td id=\"T_62e7b_row0_col1\" class=\"data row0 col1\" >2024</td>\n",
       "      <td id=\"T_62e7b_row0_col2\" class=\"data row0 col2\" >Q4</td>\n",
       "      <td id=\"T_62e7b_row0_col3\" class=\"data row0 col3\" >5,279,119</td>\n",
       "      <td id=\"T_62e7b_row0_col4\" class=\"data row0 col4\" >-11,139,183</td>\n",
       "      <td id=\"T_62e7b_row0_col5\" class=\"data row0 col5\" >16,418,302</td>\n",
       "      <td id=\"T_62e7b_row0_col6\" class=\"data row0 col6\" >147.39%</td>\n",
       "    </tr>\n",
       "    <tr>\n",
       "      <th id=\"T_62e7b_level0_row1\" class=\"row_heading level0 row1\" >1</th>\n",
       "      <td id=\"T_62e7b_row1_col0\" class=\"data row1 col0\" >ADVANC</td>\n",
       "      <td id=\"T_62e7b_row1_col1\" class=\"data row1 col1\" >2024</td>\n",
       "      <td id=\"T_62e7b_row1_col2\" class=\"data row1 col2\" >Q4</td>\n",
       "      <td id=\"T_62e7b_row1_col3\" class=\"data row1 col3\" >35,075,357</td>\n",
       "      <td id=\"T_62e7b_row1_col4\" class=\"data row1 col4\" >29,086,105</td>\n",
       "      <td id=\"T_62e7b_row1_col5\" class=\"data row1 col5\" >5,989,252</td>\n",
       "      <td id=\"T_62e7b_row1_col6\" class=\"data row1 col6\" >20.59%</td>\n",
       "    </tr>\n",
       "    <tr>\n",
       "      <th id=\"T_62e7b_level0_row2\" class=\"row_heading level0 row2\" >3</th>\n",
       "      <td id=\"T_62e7b_row2_col0\" class=\"data row2 col0\" >AIMIRT</td>\n",
       "      <td id=\"T_62e7b_row2_col1\" class=\"data row2 col1\" >2024</td>\n",
       "      <td id=\"T_62e7b_row2_col2\" class=\"data row2 col2\" >Q4</td>\n",
       "      <td id=\"T_62e7b_row2_col3\" class=\"data row2 col3\" >948,696</td>\n",
       "      <td id=\"T_62e7b_row2_col4\" class=\"data row2 col4\" >501,902</td>\n",
       "      <td id=\"T_62e7b_row2_col5\" class=\"data row2 col5\" >446,794</td>\n",
       "      <td id=\"T_62e7b_row2_col6\" class=\"data row2 col6\" >89.02%</td>\n",
       "    </tr>\n",
       "    <tr>\n",
       "      <th id=\"T_62e7b_level0_row3\" class=\"row_heading level0 row3\" >4</th>\n",
       "      <td id=\"T_62e7b_row3_col0\" class=\"data row3 col0\" >AIT</td>\n",
       "      <td id=\"T_62e7b_row3_col1\" class=\"data row3 col1\" >2024</td>\n",
       "      <td id=\"T_62e7b_row3_col2\" class=\"data row3 col2\" >Q4</td>\n",
       "      <td id=\"T_62e7b_row3_col3\" class=\"data row3 col3\" >572,462</td>\n",
       "      <td id=\"T_62e7b_row3_col4\" class=\"data row3 col4\" >503,670</td>\n",
       "      <td id=\"T_62e7b_row3_col5\" class=\"data row3 col5\" >68,792</td>\n",
       "      <td id=\"T_62e7b_row3_col6\" class=\"data row3 col6\" >13.66%</td>\n",
       "    </tr>\n",
       "    <tr>\n",
       "      <th id=\"T_62e7b_level0_row4\" class=\"row_heading level0 row4\" >6</th>\n",
       "      <td id=\"T_62e7b_row4_col0\" class=\"data row4 col0\" >ASW</td>\n",
       "      <td id=\"T_62e7b_row4_col1\" class=\"data row4 col1\" >2024</td>\n",
       "      <td id=\"T_62e7b_row4_col2\" class=\"data row4 col2\" >Q4</td>\n",
       "      <td id=\"T_62e7b_row4_col3\" class=\"data row4 col3\" >1,456,721</td>\n",
       "      <td id=\"T_62e7b_row4_col4\" class=\"data row4 col4\" >1,092,222</td>\n",
       "      <td id=\"T_62e7b_row4_col5\" class=\"data row4 col5\" >364,499</td>\n",
       "      <td id=\"T_62e7b_row4_col6\" class=\"data row4 col6\" >33.37%</td>\n",
       "    </tr>\n",
       "  </tbody>\n",
       "</table>\n"
      ],
      "text/plain": [
       "<pandas.io.formats.style.Styler at 0x24985f85700>"
      ]
     },
     "execution_count": 13,
     "metadata": {},
     "output_type": "execute_result"
    }
   ],
   "source": [
    "criteria_1 = df_ins.q_amt_c > 440_000\n",
    "df_ins.loc[criteria_1, cols].head().style.format(format_dict)"
   ]
  },
  {
   "cell_type": "code",
   "execution_count": 14,
   "metadata": {},
   "outputs": [
    {
     "data": {
      "text/html": [
       "<style type=\"text/css\">\n",
       "</style>\n",
       "<table id=\"T_3f5a2\">\n",
       "  <thead>\n",
       "    <tr>\n",
       "      <th class=\"blank level0\" >&nbsp;</th>\n",
       "      <th id=\"T_3f5a2_level0_col0\" class=\"col_heading level0 col0\" >name</th>\n",
       "      <th id=\"T_3f5a2_level0_col1\" class=\"col_heading level0 col1\" >year</th>\n",
       "      <th id=\"T_3f5a2_level0_col2\" class=\"col_heading level0 col2\" >quarter</th>\n",
       "      <th id=\"T_3f5a2_level0_col3\" class=\"col_heading level0 col3\" >q_amt_c</th>\n",
       "      <th id=\"T_3f5a2_level0_col4\" class=\"col_heading level0 col4\" >q_amt_p</th>\n",
       "      <th id=\"T_3f5a2_level0_col5\" class=\"col_heading level0 col5\" >inc_profit</th>\n",
       "      <th id=\"T_3f5a2_level0_col6\" class=\"col_heading level0 col6\" >percent</th>\n",
       "    </tr>\n",
       "  </thead>\n",
       "  <tbody>\n",
       "    <tr>\n",
       "      <th id=\"T_3f5a2_level0_row0\" class=\"row_heading level0 row0\" >1</th>\n",
       "      <td id=\"T_3f5a2_row0_col0\" class=\"data row0 col0\" >ADVANC</td>\n",
       "      <td id=\"T_3f5a2_row0_col1\" class=\"data row0 col1\" >2024</td>\n",
       "      <td id=\"T_3f5a2_row0_col2\" class=\"data row0 col2\" >Q4</td>\n",
       "      <td id=\"T_3f5a2_row0_col3\" class=\"data row0 col3\" >35,075,357</td>\n",
       "      <td id=\"T_3f5a2_row0_col4\" class=\"data row0 col4\" >29,086,105</td>\n",
       "      <td id=\"T_3f5a2_row0_col5\" class=\"data row0 col5\" >5,989,252</td>\n",
       "      <td id=\"T_3f5a2_row0_col6\" class=\"data row0 col6\" >20.59%</td>\n",
       "    </tr>\n",
       "    <tr>\n",
       "      <th id=\"T_3f5a2_level0_row1\" class=\"row_heading level0 row1\" >3</th>\n",
       "      <td id=\"T_3f5a2_row1_col0\" class=\"data row1 col0\" >AIMIRT</td>\n",
       "      <td id=\"T_3f5a2_row1_col1\" class=\"data row1 col1\" >2024</td>\n",
       "      <td id=\"T_3f5a2_row1_col2\" class=\"data row1 col2\" >Q4</td>\n",
       "      <td id=\"T_3f5a2_row1_col3\" class=\"data row1 col3\" >948,696</td>\n",
       "      <td id=\"T_3f5a2_row1_col4\" class=\"data row1 col4\" >501,902</td>\n",
       "      <td id=\"T_3f5a2_row1_col5\" class=\"data row1 col5\" >446,794</td>\n",
       "      <td id=\"T_3f5a2_row1_col6\" class=\"data row1 col6\" >89.02%</td>\n",
       "    </tr>\n",
       "    <tr>\n",
       "      <th id=\"T_3f5a2_level0_row2\" class=\"row_heading level0 row2\" >4</th>\n",
       "      <td id=\"T_3f5a2_row2_col0\" class=\"data row2 col0\" >AIT</td>\n",
       "      <td id=\"T_3f5a2_row2_col1\" class=\"data row2 col1\" >2024</td>\n",
       "      <td id=\"T_3f5a2_row2_col2\" class=\"data row2 col2\" >Q4</td>\n",
       "      <td id=\"T_3f5a2_row2_col3\" class=\"data row2 col3\" >572,462</td>\n",
       "      <td id=\"T_3f5a2_row2_col4\" class=\"data row2 col4\" >503,670</td>\n",
       "      <td id=\"T_3f5a2_row2_col5\" class=\"data row2 col5\" >68,792</td>\n",
       "      <td id=\"T_3f5a2_row2_col6\" class=\"data row2 col6\" >13.66%</td>\n",
       "    </tr>\n",
       "    <tr>\n",
       "      <th id=\"T_3f5a2_level0_row3\" class=\"row_heading level0 row3\" >5</th>\n",
       "      <td id=\"T_3f5a2_row3_col0\" class=\"data row3 col0\" >ASK</td>\n",
       "      <td id=\"T_3f5a2_row3_col1\" class=\"data row3 col1\" >2024</td>\n",
       "      <td id=\"T_3f5a2_row3_col2\" class=\"data row3 col2\" >Q4</td>\n",
       "      <td id=\"T_3f5a2_row3_col3\" class=\"data row3 col3\" >331,797</td>\n",
       "      <td id=\"T_3f5a2_row3_col4\" class=\"data row3 col4\" >1,218,769</td>\n",
       "      <td id=\"T_3f5a2_row3_col5\" class=\"data row3 col5\" >-886,972</td>\n",
       "      <td id=\"T_3f5a2_row3_col6\" class=\"data row3 col6\" >-72.78%</td>\n",
       "    </tr>\n",
       "    <tr>\n",
       "      <th id=\"T_3f5a2_level0_row4\" class=\"row_heading level0 row4\" >6</th>\n",
       "      <td id=\"T_3f5a2_row4_col0\" class=\"data row4 col0\" >ASW</td>\n",
       "      <td id=\"T_3f5a2_row4_col1\" class=\"data row4 col1\" >2024</td>\n",
       "      <td id=\"T_3f5a2_row4_col2\" class=\"data row4 col2\" >Q4</td>\n",
       "      <td id=\"T_3f5a2_row4_col3\" class=\"data row4 col3\" >1,456,721</td>\n",
       "      <td id=\"T_3f5a2_row4_col4\" class=\"data row4 col4\" >1,092,222</td>\n",
       "      <td id=\"T_3f5a2_row4_col5\" class=\"data row4 col5\" >364,499</td>\n",
       "      <td id=\"T_3f5a2_row4_col6\" class=\"data row4 col6\" >33.37%</td>\n",
       "    </tr>\n",
       "  </tbody>\n",
       "</table>\n"
      ],
      "text/plain": [
       "<pandas.io.formats.style.Styler at 0x2498642ff20>"
      ]
     },
     "execution_count": 14,
     "metadata": {},
     "output_type": "execute_result"
    }
   ],
   "source": [
    "criteria_2 = df_ins.q_amt_p > 400_000\n",
    "df_ins.loc[criteria_2, cols].head().style.format(format_dict)"
   ]
  },
  {
   "cell_type": "code",
   "execution_count": 15,
   "metadata": {},
   "outputs": [
    {
     "data": {
      "text/html": [
       "<style type=\"text/css\">\n",
       "</style>\n",
       "<table id=\"T_39a52\">\n",
       "  <thead>\n",
       "    <tr>\n",
       "      <th class=\"blank level0\" >&nbsp;</th>\n",
       "      <th id=\"T_39a52_level0_col0\" class=\"col_heading level0 col0\" >name</th>\n",
       "      <th id=\"T_39a52_level0_col1\" class=\"col_heading level0 col1\" >year</th>\n",
       "      <th id=\"T_39a52_level0_col2\" class=\"col_heading level0 col2\" >quarter</th>\n",
       "      <th id=\"T_39a52_level0_col3\" class=\"col_heading level0 col3\" >q_amt_c</th>\n",
       "      <th id=\"T_39a52_level0_col4\" class=\"col_heading level0 col4\" >q_amt_p</th>\n",
       "      <th id=\"T_39a52_level0_col5\" class=\"col_heading level0 col5\" >inc_profit</th>\n",
       "      <th id=\"T_39a52_level0_col6\" class=\"col_heading level0 col6\" >percent</th>\n",
       "    </tr>\n",
       "  </thead>\n",
       "  <tbody>\n",
       "    <tr>\n",
       "      <th id=\"T_39a52_level0_row0\" class=\"row_heading level0 row0\" >0</th>\n",
       "      <td id=\"T_39a52_row0_col0\" class=\"data row0 col0\" >3BBIF</td>\n",
       "      <td id=\"T_39a52_row0_col1\" class=\"data row0 col1\" >2024</td>\n",
       "      <td id=\"T_39a52_row0_col2\" class=\"data row0 col2\" >Q4</td>\n",
       "      <td id=\"T_39a52_row0_col3\" class=\"data row0 col3\" >5,279,119</td>\n",
       "      <td id=\"T_39a52_row0_col4\" class=\"data row0 col4\" >-11,139,183</td>\n",
       "      <td id=\"T_39a52_row0_col5\" class=\"data row0 col5\" >16,418,302</td>\n",
       "      <td id=\"T_39a52_row0_col6\" class=\"data row0 col6\" >147.39%</td>\n",
       "    </tr>\n",
       "    <tr>\n",
       "      <th id=\"T_39a52_level0_row1\" class=\"row_heading level0 row1\" >1</th>\n",
       "      <td id=\"T_39a52_row1_col0\" class=\"data row1 col0\" >ADVANC</td>\n",
       "      <td id=\"T_39a52_row1_col1\" class=\"data row1 col1\" >2024</td>\n",
       "      <td id=\"T_39a52_row1_col2\" class=\"data row1 col2\" >Q4</td>\n",
       "      <td id=\"T_39a52_row1_col3\" class=\"data row1 col3\" >35,075,357</td>\n",
       "      <td id=\"T_39a52_row1_col4\" class=\"data row1 col4\" >29,086,105</td>\n",
       "      <td id=\"T_39a52_row1_col5\" class=\"data row1 col5\" >5,989,252</td>\n",
       "      <td id=\"T_39a52_row1_col6\" class=\"data row1 col6\" >20.59%</td>\n",
       "    </tr>\n",
       "    <tr>\n",
       "      <th id=\"T_39a52_level0_row2\" class=\"row_heading level0 row2\" >2</th>\n",
       "      <td id=\"T_39a52_row2_col0\" class=\"data row2 col0\" >AIE</td>\n",
       "      <td id=\"T_39a52_row2_col1\" class=\"data row2 col1\" >2024</td>\n",
       "      <td id=\"T_39a52_row2_col2\" class=\"data row2 col2\" >Q4</td>\n",
       "      <td id=\"T_39a52_row2_col3\" class=\"data row2 col3\" >241,922</td>\n",
       "      <td id=\"T_39a52_row2_col4\" class=\"data row2 col4\" >40,267</td>\n",
       "      <td id=\"T_39a52_row2_col5\" class=\"data row2 col5\" >201,655</td>\n",
       "      <td id=\"T_39a52_row2_col6\" class=\"data row2 col6\" >500.79%</td>\n",
       "    </tr>\n",
       "    <tr>\n",
       "      <th id=\"T_39a52_level0_row3\" class=\"row_heading level0 row3\" >3</th>\n",
       "      <td id=\"T_39a52_row3_col0\" class=\"data row3 col0\" >AIMIRT</td>\n",
       "      <td id=\"T_39a52_row3_col1\" class=\"data row3 col1\" >2024</td>\n",
       "      <td id=\"T_39a52_row3_col2\" class=\"data row3 col2\" >Q4</td>\n",
       "      <td id=\"T_39a52_row3_col3\" class=\"data row3 col3\" >948,696</td>\n",
       "      <td id=\"T_39a52_row3_col4\" class=\"data row3 col4\" >501,902</td>\n",
       "      <td id=\"T_39a52_row3_col5\" class=\"data row3 col5\" >446,794</td>\n",
       "      <td id=\"T_39a52_row3_col6\" class=\"data row3 col6\" >89.02%</td>\n",
       "    </tr>\n",
       "    <tr>\n",
       "      <th id=\"T_39a52_level0_row4\" class=\"row_heading level0 row4\" >4</th>\n",
       "      <td id=\"T_39a52_row4_col0\" class=\"data row4 col0\" >AIT</td>\n",
       "      <td id=\"T_39a52_row4_col1\" class=\"data row4 col1\" >2024</td>\n",
       "      <td id=\"T_39a52_row4_col2\" class=\"data row4 col2\" >Q4</td>\n",
       "      <td id=\"T_39a52_row4_col3\" class=\"data row4 col3\" >572,462</td>\n",
       "      <td id=\"T_39a52_row4_col4\" class=\"data row4 col4\" >503,670</td>\n",
       "      <td id=\"T_39a52_row4_col5\" class=\"data row4 col5\" >68,792</td>\n",
       "      <td id=\"T_39a52_row4_col6\" class=\"data row4 col6\" >13.66%</td>\n",
       "    </tr>\n",
       "  </tbody>\n",
       "</table>\n"
      ],
      "text/plain": [
       "<pandas.io.formats.style.Styler at 0x24986407e00>"
      ]
     },
     "execution_count": 15,
     "metadata": {},
     "output_type": "execute_result"
    }
   ],
   "source": [
    "criteria_3 = df_ins.percent > 10.00\n",
    "df_ins.loc[criteria_3, cols].head().style.format(format_dict)"
   ]
  },
  {
   "cell_type": "code",
   "execution_count": 16,
   "metadata": {},
   "outputs": [
    {
     "data": {
      "text/html": [
       "<style type=\"text/css\">\n",
       "</style>\n",
       "<table id=\"T_e5c72\">\n",
       "  <thead>\n",
       "    <tr>\n",
       "      <th class=\"blank level0\" >&nbsp;</th>\n",
       "      <th id=\"T_e5c72_level0_col0\" class=\"col_heading level0 col0\" >name</th>\n",
       "      <th id=\"T_e5c72_level0_col1\" class=\"col_heading level0 col1\" >year</th>\n",
       "      <th id=\"T_e5c72_level0_col2\" class=\"col_heading level0 col2\" >quarter</th>\n",
       "      <th id=\"T_e5c72_level0_col3\" class=\"col_heading level0 col3\" >q_amt_c</th>\n",
       "      <th id=\"T_e5c72_level0_col4\" class=\"col_heading level0 col4\" >q_amt_p</th>\n",
       "      <th id=\"T_e5c72_level0_col5\" class=\"col_heading level0 col5\" >inc_profit</th>\n",
       "      <th id=\"T_e5c72_level0_col6\" class=\"col_heading level0 col6\" >percent</th>\n",
       "    </tr>\n",
       "  </thead>\n",
       "  <tbody>\n",
       "    <tr>\n",
       "      <th id=\"T_e5c72_level0_row0\" class=\"row_heading level0 row0\" >61</th>\n",
       "      <td id=\"T_e5c72_row0_col0\" class=\"data row0 col0\" >RCL</td>\n",
       "      <td id=\"T_e5c72_row0_col1\" class=\"data row0 col1\" >2024</td>\n",
       "      <td id=\"T_e5c72_row0_col2\" class=\"data row0 col2\" >Q4</td>\n",
       "      <td id=\"T_e5c72_row0_col3\" class=\"data row0 col3\" >9,170,542</td>\n",
       "      <td id=\"T_e5c72_row0_col4\" class=\"data row0 col4\" >1,501,901</td>\n",
       "      <td id=\"T_e5c72_row0_col5\" class=\"data row0 col5\" >7,668,641</td>\n",
       "      <td id=\"T_e5c72_row0_col6\" class=\"data row0 col6\" >510.60%</td>\n",
       "    </tr>\n",
       "    <tr>\n",
       "      <th id=\"T_e5c72_level0_row1\" class=\"row_heading level0 row1\" >62</th>\n",
       "      <td id=\"T_e5c72_row1_col0\" class=\"data row1 col0\" >ROJNA</td>\n",
       "      <td id=\"T_e5c72_row1_col1\" class=\"data row1 col1\" >2024</td>\n",
       "      <td id=\"T_e5c72_row1_col2\" class=\"data row1 col2\" >Q4</td>\n",
       "      <td id=\"T_e5c72_row1_col3\" class=\"data row1 col3\" >3,753,013</td>\n",
       "      <td id=\"T_e5c72_row1_col4\" class=\"data row1 col4\" >979,993</td>\n",
       "      <td id=\"T_e5c72_row1_col5\" class=\"data row1 col5\" >2,773,020</td>\n",
       "      <td id=\"T_e5c72_row1_col6\" class=\"data row1 col6\" >282.96%</td>\n",
       "    </tr>\n",
       "    <tr>\n",
       "      <th id=\"T_e5c72_level0_row2\" class=\"row_heading level0 row2\" >57</th>\n",
       "      <td id=\"T_e5c72_row2_col0\" class=\"data row2 col0\" >PSL</td>\n",
       "      <td id=\"T_e5c72_row2_col1\" class=\"data row2 col1\" >2024</td>\n",
       "      <td id=\"T_e5c72_row2_col2\" class=\"data row2 col2\" >Q4</td>\n",
       "      <td id=\"T_e5c72_row2_col3\" class=\"data row2 col3\" >1,468,281</td>\n",
       "      <td id=\"T_e5c72_row2_col4\" class=\"data row2 col4\" >709,602</td>\n",
       "      <td id=\"T_e5c72_row2_col5\" class=\"data row2 col5\" >758,679</td>\n",
       "      <td id=\"T_e5c72_row2_col6\" class=\"data row2 col6\" >106.92%</td>\n",
       "    </tr>\n",
       "    <tr>\n",
       "      <th id=\"T_e5c72_level0_row3\" class=\"row_heading level0 row3\" >3</th>\n",
       "      <td id=\"T_e5c72_row3_col0\" class=\"data row3 col0\" >AIMIRT</td>\n",
       "      <td id=\"T_e5c72_row3_col1\" class=\"data row3 col1\" >2024</td>\n",
       "      <td id=\"T_e5c72_row3_col2\" class=\"data row3 col2\" >Q4</td>\n",
       "      <td id=\"T_e5c72_row3_col3\" class=\"data row3 col3\" >948,696</td>\n",
       "      <td id=\"T_e5c72_row3_col4\" class=\"data row3 col4\" >501,902</td>\n",
       "      <td id=\"T_e5c72_row3_col5\" class=\"data row3 col5\" >446,794</td>\n",
       "      <td id=\"T_e5c72_row3_col6\" class=\"data row3 col6\" >89.02%</td>\n",
       "    </tr>\n",
       "    <tr>\n",
       "      <th id=\"T_e5c72_level0_row4\" class=\"row_heading level0 row4\" >14</th>\n",
       "      <td id=\"T_e5c72_row4_col0\" class=\"data row4 col0\" >BLA</td>\n",
       "      <td id=\"T_e5c72_row4_col1\" class=\"data row4 col1\" >2024</td>\n",
       "      <td id=\"T_e5c72_row4_col2\" class=\"data row4 col2\" >Q4</td>\n",
       "      <td id=\"T_e5c72_row4_col3\" class=\"data row4 col3\" >4,317,070</td>\n",
       "      <td id=\"T_e5c72_row4_col4\" class=\"data row4 col4\" >2,548,298</td>\n",
       "      <td id=\"T_e5c72_row4_col5\" class=\"data row4 col5\" >1,768,772</td>\n",
       "      <td id=\"T_e5c72_row4_col6\" class=\"data row4 col6\" >69.41%</td>\n",
       "    </tr>\n",
       "  </tbody>\n",
       "</table>\n"
      ],
      "text/plain": [
       "<pandas.io.formats.style.Styler at 0x24982833590>"
      ]
     },
     "execution_count": 16,
     "metadata": {},
     "output_type": "execute_result"
    }
   ],
   "source": [
    "final_criteria = criteria_1 & criteria_2 & criteria_3\n",
    "df_ins.loc[final_criteria, cols].sort_values(by=[\"percent\"], ascending=[False]).head().style.format(format_dict)"
   ]
  },
  {
   "cell_type": "code",
   "execution_count": 17,
   "metadata": {},
   "outputs": [
    {
     "data": {
      "text/html": [
       "<style type=\"text/css\">\n",
       "</style>\n",
       "<table id=\"T_54367\">\n",
       "  <thead>\n",
       "    <tr>\n",
       "      <th class=\"blank level0\" >&nbsp;</th>\n",
       "      <th id=\"T_54367_level0_col0\" class=\"col_heading level0 col0\" >name</th>\n",
       "      <th id=\"T_54367_level0_col1\" class=\"col_heading level0 col1\" >year</th>\n",
       "      <th id=\"T_54367_level0_col2\" class=\"col_heading level0 col2\" >quarter</th>\n",
       "      <th id=\"T_54367_level0_col3\" class=\"col_heading level0 col3\" >q_amt_c</th>\n",
       "      <th id=\"T_54367_level0_col4\" class=\"col_heading level0 col4\" >q_amt_p</th>\n",
       "      <th id=\"T_54367_level0_col5\" class=\"col_heading level0 col5\" >inc_profit</th>\n",
       "      <th id=\"T_54367_level0_col6\" class=\"col_heading level0 col6\" >percent</th>\n",
       "    </tr>\n",
       "  </thead>\n",
       "  <tbody>\n",
       "    <tr>\n",
       "      <th id=\"T_54367_level0_row0\" class=\"row_heading level0 row0\" >1</th>\n",
       "      <td id=\"T_54367_row0_col0\" class=\"data row0 col0\" >ADVANC</td>\n",
       "      <td id=\"T_54367_row0_col1\" class=\"data row0 col1\" >2024</td>\n",
       "      <td id=\"T_54367_row0_col2\" class=\"data row0 col2\" >Q4</td>\n",
       "      <td id=\"T_54367_row0_col3\" class=\"data row0 col3\" >35,075,357</td>\n",
       "      <td id=\"T_54367_row0_col4\" class=\"data row0 col4\" >29,086,105</td>\n",
       "      <td id=\"T_54367_row0_col5\" class=\"data row0 col5\" >5,989,252</td>\n",
       "      <td id=\"T_54367_row0_col6\" class=\"data row0 col6\" >20.59%</td>\n",
       "    </tr>\n",
       "    <tr>\n",
       "      <th id=\"T_54367_level0_row1\" class=\"row_heading level0 row1\" >3</th>\n",
       "      <td id=\"T_54367_row1_col0\" class=\"data row1 col0\" >AIMIRT</td>\n",
       "      <td id=\"T_54367_row1_col1\" class=\"data row1 col1\" >2024</td>\n",
       "      <td id=\"T_54367_row1_col2\" class=\"data row1 col2\" >Q4</td>\n",
       "      <td id=\"T_54367_row1_col3\" class=\"data row1 col3\" >948,696</td>\n",
       "      <td id=\"T_54367_row1_col4\" class=\"data row1 col4\" >501,902</td>\n",
       "      <td id=\"T_54367_row1_col5\" class=\"data row1 col5\" >446,794</td>\n",
       "      <td id=\"T_54367_row1_col6\" class=\"data row1 col6\" >89.02%</td>\n",
       "    </tr>\n",
       "    <tr>\n",
       "      <th id=\"T_54367_level0_row2\" class=\"row_heading level0 row2\" >4</th>\n",
       "      <td id=\"T_54367_row2_col0\" class=\"data row2 col0\" >AIT</td>\n",
       "      <td id=\"T_54367_row2_col1\" class=\"data row2 col1\" >2024</td>\n",
       "      <td id=\"T_54367_row2_col2\" class=\"data row2 col2\" >Q4</td>\n",
       "      <td id=\"T_54367_row2_col3\" class=\"data row2 col3\" >572,462</td>\n",
       "      <td id=\"T_54367_row2_col4\" class=\"data row2 col4\" >503,670</td>\n",
       "      <td id=\"T_54367_row2_col5\" class=\"data row2 col5\" >68,792</td>\n",
       "      <td id=\"T_54367_row2_col6\" class=\"data row2 col6\" >13.66%</td>\n",
       "    </tr>\n",
       "    <tr>\n",
       "      <th id=\"T_54367_level0_row3\" class=\"row_heading level0 row3\" >6</th>\n",
       "      <td id=\"T_54367_row3_col0\" class=\"data row3 col0\" >ASW</td>\n",
       "      <td id=\"T_54367_row3_col1\" class=\"data row3 col1\" >2024</td>\n",
       "      <td id=\"T_54367_row3_col2\" class=\"data row3 col2\" >Q4</td>\n",
       "      <td id=\"T_54367_row3_col3\" class=\"data row3 col3\" >1,456,721</td>\n",
       "      <td id=\"T_54367_row3_col4\" class=\"data row3 col4\" >1,092,222</td>\n",
       "      <td id=\"T_54367_row3_col5\" class=\"data row3 col5\" >364,499</td>\n",
       "      <td id=\"T_54367_row3_col6\" class=\"data row3 col6\" >33.37%</td>\n",
       "    </tr>\n",
       "    <tr>\n",
       "      <th id=\"T_54367_level0_row4\" class=\"row_heading level0 row4\" >10</th>\n",
       "      <td id=\"T_54367_row4_col0\" class=\"data row4 col0\" >BCPG</td>\n",
       "      <td id=\"T_54367_row4_col1\" class=\"data row4 col1\" >2024</td>\n",
       "      <td id=\"T_54367_row4_col2\" class=\"data row4 col2\" >Q4</td>\n",
       "      <td id=\"T_54367_row4_col3\" class=\"data row4 col3\" >1,819,389</td>\n",
       "      <td id=\"T_54367_row4_col4\" class=\"data row4 col4\" >1,104,036</td>\n",
       "      <td id=\"T_54367_row4_col5\" class=\"data row4 col5\" >715,353</td>\n",
       "      <td id=\"T_54367_row4_col6\" class=\"data row4 col6\" >64.79%</td>\n",
       "    </tr>\n",
       "  </tbody>\n",
       "</table>\n"
      ],
      "text/plain": [
       "<pandas.io.formats.style.Styler at 0x2498284e6c0>"
      ]
     },
     "execution_count": 17,
     "metadata": {},
     "output_type": "execute_result"
    }
   ],
   "source": [
    "df_ins.loc[final_criteria, cols].sort_values(by=[\"name\"], ascending=[True]).head().style.format(format_dict)"
   ]
  },
  {
   "cell_type": "code",
   "execution_count": 18,
   "metadata": {},
   "outputs": [
    {
     "data": {
      "text/html": [
       "<style type=\"text/css\">\n",
       "</style>\n",
       "<table id=\"T_424c2\">\n",
       "  <thead>\n",
       "    <tr>\n",
       "      <th class=\"blank level0\" >&nbsp;</th>\n",
       "      <th id=\"T_424c2_level0_col0\" class=\"col_heading level0 col0\" >name</th>\n",
       "      <th id=\"T_424c2_level0_col1\" class=\"col_heading level0 col1\" >year</th>\n",
       "      <th id=\"T_424c2_level0_col2\" class=\"col_heading level0 col2\" >quarter</th>\n",
       "      <th id=\"T_424c2_level0_col3\" class=\"col_heading level0 col3\" >q_amt_c</th>\n",
       "      <th id=\"T_424c2_level0_col4\" class=\"col_heading level0 col4\" >q_amt_p</th>\n",
       "      <th id=\"T_424c2_level0_col5\" class=\"col_heading level0 col5\" >inc_profit</th>\n",
       "      <th id=\"T_424c2_level0_col6\" class=\"col_heading level0 col6\" >percent</th>\n",
       "    </tr>\n",
       "  </thead>\n",
       "  <tbody>\n",
       "    <tr>\n",
       "      <th id=\"T_424c2_level0_row0\" class=\"row_heading level0 row0\" >1</th>\n",
       "      <td id=\"T_424c2_row0_col0\" class=\"data row0 col0\" >ADVANC</td>\n",
       "      <td id=\"T_424c2_row0_col1\" class=\"data row0 col1\" >2024</td>\n",
       "      <td id=\"T_424c2_row0_col2\" class=\"data row0 col2\" >Q4</td>\n",
       "      <td id=\"T_424c2_row0_col3\" class=\"data row0 col3\" >35,075,357</td>\n",
       "      <td id=\"T_424c2_row0_col4\" class=\"data row0 col4\" >29,086,105</td>\n",
       "      <td id=\"T_424c2_row0_col5\" class=\"data row0 col5\" >5,989,252</td>\n",
       "      <td id=\"T_424c2_row0_col6\" class=\"data row0 col6\" >20.59%</td>\n",
       "    </tr>\n",
       "    <tr>\n",
       "      <th id=\"T_424c2_level0_row1\" class=\"row_heading level0 row1\" >3</th>\n",
       "      <td id=\"T_424c2_row1_col0\" class=\"data row1 col0\" >AIMIRT</td>\n",
       "      <td id=\"T_424c2_row1_col1\" class=\"data row1 col1\" >2024</td>\n",
       "      <td id=\"T_424c2_row1_col2\" class=\"data row1 col2\" >Q4</td>\n",
       "      <td id=\"T_424c2_row1_col3\" class=\"data row1 col3\" >948,696</td>\n",
       "      <td id=\"T_424c2_row1_col4\" class=\"data row1 col4\" >501,902</td>\n",
       "      <td id=\"T_424c2_row1_col5\" class=\"data row1 col5\" >446,794</td>\n",
       "      <td id=\"T_424c2_row1_col6\" class=\"data row1 col6\" >89.02%</td>\n",
       "    </tr>\n",
       "    <tr>\n",
       "      <th id=\"T_424c2_level0_row2\" class=\"row_heading level0 row2\" >4</th>\n",
       "      <td id=\"T_424c2_row2_col0\" class=\"data row2 col0\" >AIT</td>\n",
       "      <td id=\"T_424c2_row2_col1\" class=\"data row2 col1\" >2024</td>\n",
       "      <td id=\"T_424c2_row2_col2\" class=\"data row2 col2\" >Q4</td>\n",
       "      <td id=\"T_424c2_row2_col3\" class=\"data row2 col3\" >572,462</td>\n",
       "      <td id=\"T_424c2_row2_col4\" class=\"data row2 col4\" >503,670</td>\n",
       "      <td id=\"T_424c2_row2_col5\" class=\"data row2 col5\" >68,792</td>\n",
       "      <td id=\"T_424c2_row2_col6\" class=\"data row2 col6\" >13.66%</td>\n",
       "    </tr>\n",
       "    <tr>\n",
       "      <th id=\"T_424c2_level0_row3\" class=\"row_heading level0 row3\" >6</th>\n",
       "      <td id=\"T_424c2_row3_col0\" class=\"data row3 col0\" >ASW</td>\n",
       "      <td id=\"T_424c2_row3_col1\" class=\"data row3 col1\" >2024</td>\n",
       "      <td id=\"T_424c2_row3_col2\" class=\"data row3 col2\" >Q4</td>\n",
       "      <td id=\"T_424c2_row3_col3\" class=\"data row3 col3\" >1,456,721</td>\n",
       "      <td id=\"T_424c2_row3_col4\" class=\"data row3 col4\" >1,092,222</td>\n",
       "      <td id=\"T_424c2_row3_col5\" class=\"data row3 col5\" >364,499</td>\n",
       "      <td id=\"T_424c2_row3_col6\" class=\"data row3 col6\" >33.37%</td>\n",
       "    </tr>\n",
       "    <tr>\n",
       "      <th id=\"T_424c2_level0_row4\" class=\"row_heading level0 row4\" >10</th>\n",
       "      <td id=\"T_424c2_row4_col0\" class=\"data row4 col0\" >BCPG</td>\n",
       "      <td id=\"T_424c2_row4_col1\" class=\"data row4 col1\" >2024</td>\n",
       "      <td id=\"T_424c2_row4_col2\" class=\"data row4 col2\" >Q4</td>\n",
       "      <td id=\"T_424c2_row4_col3\" class=\"data row4 col3\" >1,819,389</td>\n",
       "      <td id=\"T_424c2_row4_col4\" class=\"data row4 col4\" >1,104,036</td>\n",
       "      <td id=\"T_424c2_row4_col5\" class=\"data row4 col5\" >715,353</td>\n",
       "      <td id=\"T_424c2_row4_col6\" class=\"data row4 col6\" >64.79%</td>\n",
       "    </tr>\n",
       "  </tbody>\n",
       "</table>\n"
      ],
      "text/plain": [
       "<pandas.io.formats.style.Styler at 0x2498646b3b0>"
      ]
     },
     "execution_count": 18,
     "metadata": {},
     "output_type": "execute_result"
    }
   ],
   "source": [
    "df_ins.loc[final_criteria, cols].sort_values(by=[\"name\"], ascending=[True]).head().style.format(format_dict)"
   ]
  },
  {
   "cell_type": "code",
   "execution_count": 19,
   "metadata": {},
   "outputs": [],
   "source": [
    "conlt.commit()\n",
    "conlt.close()"
   ]
  },
  {
   "cell_type": "code",
   "execution_count": 20,
   "metadata": {},
   "outputs": [
    {
     "name": "stdout",
     "output_type": "stream",
     "text": [
      "2025:02:22 12:33:38\n"
     ]
    }
   ],
   "source": [
    "current_time = datetime.now()\n",
    "formatted_time = current_time.strftime(\"%Y:%m:%d %H:%M:%S\")\n",
    "print(formatted_time)"
   ]
  },
  {
   "cell_type": "code",
   "execution_count": null,
   "metadata": {},
   "outputs": [],
   "source": []
  }
 ],
 "metadata": {
  "anaconda-cloud": {},
  "kernelspec": {
   "display_name": "Python 3 (ipykernel)",
   "language": "python",
   "name": "python3"
  },
  "language_info": {
   "codemirror_mode": {
    "name": "ipython",
    "version": 3
   },
   "file_extension": ".py",
   "mimetype": "text/x-python",
   "name": "python",
   "nbconvert_exporter": "python",
   "pygments_lexer": "ipython3",
   "version": "3.12.3"
  }
 },
 "nbformat": 4,
 "nbformat_minor": 4
}
