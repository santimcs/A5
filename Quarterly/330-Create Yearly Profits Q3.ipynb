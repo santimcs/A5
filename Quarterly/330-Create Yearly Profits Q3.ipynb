{
 "cells": [
  {
   "cell_type": "markdown",
   "metadata": {},
   "source": [
    "### Restart and Run All Cells"
   ]
  },
  {
   "cell_type": "code",
   "execution_count": 18,
   "metadata": {},
   "outputs": [
    {
     "data": {
      "text/plain": [
       "datetime.datetime(2025, 1, 26, 20, 26, 18, 237888)"
      ]
     },
     "execution_count": 18,
     "metadata": {},
     "output_type": "execute_result"
    }
   ],
   "source": [
    "import pandas as pd\n",
    "from datetime import date, timedelta, datetime\n",
    "from sqlalchemy import create_engine, text\n",
    "engine = create_engine(\"sqlite:///c:\\\\ruby\\\\portlt\\\\db\\\\development.sqlite3\")\n",
    "conlt = engine.connect()\n",
    "year = 2024\n",
    "quarter = 3\n",
    "today = date.today()\n",
    "today_str = today.strftime(\"%Y-%m-%d\")\n",
    "current_time = datetime.now()\n",
    "current_time"
   ]
  },
  {
   "cell_type": "code",
   "execution_count": 4,
   "metadata": {},
   "outputs": [],
   "source": [
    "cols = 'name year quarter q_amt_c q_amt_p inc_profit percent'.split()\n",
    "\n",
    "format_dict = {\n",
    "                'q_amt':'{:,}','q_amt_c':'{:,}','q_amt_p':'{:,}','inc_profit':'{:,}',\n",
    "                'yoy_gain':'{:,}','acc_gain':'{:,}',    \n",
    "                'q_eps':'{:.4f}','y_eps':'{:.4f}','aq_eps':'{:.4f}','ay_eps':'{:.4f}',\n",
    "                'percent':'{:.2f}%'\n",
    "              }"
   ]
  },
  {
   "cell_type": "code",
   "execution_count": 6,
   "metadata": {},
   "outputs": [
    {
     "name": "stdout",
     "output_type": "stream",
     "text": [
      "\n",
      "SELECT name,year,quarter,q_amt\n",
      "FROM epss \n",
      "WHERE (year = 2024 AND quarter <= 3) \n",
      "OR (year = 2024-1 AND quarter >= 3+1)\n",
      "ORDER BY year DESC, quarter DESC\n"
     ]
    }
   ],
   "source": [
    "sql = \"\"\"\n",
    "SELECT name,year,quarter,q_amt\n",
    "FROM epss \n",
    "WHERE (year = %s AND quarter <= %s) \n",
    "OR (year = %s-1 AND quarter >= %s+1)\n",
    "ORDER BY year DESC, quarter DESC\"\"\"\n",
    "sql = sql % (year, quarter, year, quarter)\n",
    "print(sql)"
   ]
  },
  {
   "cell_type": "code",
   "execution_count": 8,
   "metadata": {},
   "outputs": [
    {
     "data": {
      "text/html": [
       "<style type=\"text/css\">\n",
       "</style>\n",
       "<table id=\"T_808bb\">\n",
       "  <thead>\n",
       "    <tr>\n",
       "      <th class=\"blank level0\" >&nbsp;</th>\n",
       "      <th id=\"T_808bb_level0_col0\" class=\"col_heading level0 col0\" >name</th>\n",
       "      <th id=\"T_808bb_level0_col1\" class=\"col_heading level0 col1\" >year</th>\n",
       "      <th id=\"T_808bb_level0_col2\" class=\"col_heading level0 col2\" >quarter</th>\n",
       "      <th id=\"T_808bb_level0_col3\" class=\"col_heading level0 col3\" >q_amt</th>\n",
       "      <th id=\"T_808bb_level0_col4\" class=\"col_heading level0 col4\" >Counter</th>\n",
       "    </tr>\n",
       "  </thead>\n",
       "  <tbody>\n",
       "    <tr>\n",
       "      <th id=\"T_808bb_level0_row0\" class=\"row_heading level0 row0\" >196</th>\n",
       "      <td id=\"T_808bb_row0_col0\" class=\"data row0 col0\" >TMT</td>\n",
       "      <td id=\"T_808bb_row0_col1\" class=\"data row0 col1\" >8095</td>\n",
       "      <td id=\"T_808bb_row0_col2\" class=\"data row0 col2\" >10</td>\n",
       "      <td id=\"T_808bb_row0_col3\" class=\"data row0 col3\" >2,213</td>\n",
       "      <td id=\"T_808bb_row0_col4\" class=\"data row0 col4\" >4</td>\n",
       "    </tr>\n",
       "    <tr>\n",
       "      <th id=\"T_808bb_level0_row1\" class=\"row_heading level0 row1\" >163</th>\n",
       "      <td id=\"T_808bb_row1_col0\" class=\"data row1 col0\" >SIS</td>\n",
       "      <td id=\"T_808bb_row1_col1\" class=\"data row1 col1\" >8095</td>\n",
       "      <td id=\"T_808bb_row1_col2\" class=\"data row1 col2\" >10</td>\n",
       "      <td id=\"T_808bb_row1_col3\" class=\"data row1 col3\" >952,446</td>\n",
       "      <td id=\"T_808bb_row1_col4\" class=\"data row1 col4\" >4</td>\n",
       "    </tr>\n",
       "    <tr>\n",
       "      <th id=\"T_808bb_level0_row2\" class=\"row_heading level0 row2\" >107</th>\n",
       "      <td id=\"T_808bb_row2_col0\" class=\"data row2 col0\" >LHFG</td>\n",
       "      <td id=\"T_808bb_row2_col1\" class=\"data row2 col1\" >8095</td>\n",
       "      <td id=\"T_808bb_row2_col2\" class=\"data row2 col2\" >10</td>\n",
       "      <td id=\"T_808bb_row2_col3\" class=\"data row2 col3\" >1,822,134</td>\n",
       "      <td id=\"T_808bb_row2_col4\" class=\"data row2 col4\" >4</td>\n",
       "    </tr>\n",
       "    <tr>\n",
       "      <th id=\"T_808bb_level0_row3\" class=\"row_heading level0 row3\" >56</th>\n",
       "      <td id=\"T_808bb_row3_col0\" class=\"data row3 col0\" >DCC</td>\n",
       "      <td id=\"T_808bb_row3_col1\" class=\"data row3 col1\" >8095</td>\n",
       "      <td id=\"T_808bb_row3_col2\" class=\"data row3 col2\" >10</td>\n",
       "      <td id=\"T_808bb_row3_col3\" class=\"data row3 col3\" >1,128,825</td>\n",
       "      <td id=\"T_808bb_row3_col4\" class=\"data row3 col4\" >4</td>\n",
       "    </tr>\n",
       "    <tr>\n",
       "      <th id=\"T_808bb_level0_row4\" class=\"row_heading level0 row4\" >71</th>\n",
       "      <td id=\"T_808bb_row4_col0\" class=\"data row4 col0\" >GC</td>\n",
       "      <td id=\"T_808bb_row4_col1\" class=\"data row4 col1\" >8095</td>\n",
       "      <td id=\"T_808bb_row4_col2\" class=\"data row4 col2\" >10</td>\n",
       "      <td id=\"T_808bb_row4_col3\" class=\"data row4 col3\" >179,704</td>\n",
       "      <td id=\"T_808bb_row4_col4\" class=\"data row4 col4\" >4</td>\n",
       "    </tr>\n",
       "  </tbody>\n",
       "</table>\n"
      ],
      "text/plain": [
       "<pandas.io.formats.style.Styler at 0x2c61fa79760>"
      ]
     },
     "execution_count": 8,
     "metadata": {},
     "output_type": "execute_result"
    }
   ],
   "source": [
    "dfc = pd.read_sql(sql, conlt)\n",
    "dfc[\"Counter\"] = 1\n",
    "dfc_grp = dfc.groupby([\"name\"], as_index=False).sum()\n",
    "dfc_grp = dfc_grp[dfc_grp[\"Counter\"] == 4]\n",
    "dfc_grp.sample(5).style.format(format_dict)"
   ]
  },
  {
   "cell_type": "code",
   "execution_count": 10,
   "metadata": {},
   "outputs": [
    {
     "name": "stdout",
     "output_type": "stream",
     "text": [
      "\n",
      "SELECT name,year,quarter,q_amt\n",
      "FROM epss \n",
      "WHERE (year = 2024-1 AND quarter <= 3) \n",
      "OR (year = 2024-2 AND quarter >= 3+1)\n",
      "ORDER BY year DESC, quarter DESC\n",
      "\n"
     ]
    }
   ],
   "source": [
    "sql = \"\"\"\n",
    "SELECT name,year,quarter,q_amt\n",
    "FROM epss \n",
    "WHERE (year = %s-1 AND quarter <= %s) \n",
    "OR (year = %s-2 AND quarter >= %s+1)\n",
    "ORDER BY year DESC, quarter DESC\n",
    "\"\"\"\n",
    "sql = sql % (year, quarter, year, quarter)\n",
    "print(sql)"
   ]
  },
  {
   "cell_type": "code",
   "execution_count": 12,
   "metadata": {},
   "outputs": [
    {
     "data": {
      "text/html": [
       "<style type=\"text/css\">\n",
       "</style>\n",
       "<table id=\"T_e34df\">\n",
       "  <thead>\n",
       "    <tr>\n",
       "      <th class=\"blank level0\" >&nbsp;</th>\n",
       "      <th id=\"T_e34df_level0_col0\" class=\"col_heading level0 col0\" >name</th>\n",
       "      <th id=\"T_e34df_level0_col1\" class=\"col_heading level0 col1\" >year</th>\n",
       "      <th id=\"T_e34df_level0_col2\" class=\"col_heading level0 col2\" >quarter</th>\n",
       "      <th id=\"T_e34df_level0_col3\" class=\"col_heading level0 col3\" >q_amt</th>\n",
       "      <th id=\"T_e34df_level0_col4\" class=\"col_heading level0 col4\" >Counter</th>\n",
       "    </tr>\n",
       "  </thead>\n",
       "  <tbody>\n",
       "    <tr>\n",
       "      <th id=\"T_e34df_level0_row0\" class=\"row_heading level0 row0\" >128</th>\n",
       "      <td id=\"T_e34df_row0_col0\" class=\"data row0 col0\" >ORI</td>\n",
       "      <td id=\"T_e34df_row0_col1\" class=\"data row0 col1\" >8091</td>\n",
       "      <td id=\"T_e34df_row0_col2\" class=\"data row0 col2\" >10</td>\n",
       "      <td id=\"T_e34df_row0_col3\" class=\"data row0 col3\" >3,704,716</td>\n",
       "      <td id=\"T_e34df_row0_col4\" class=\"data row0 col4\" >4</td>\n",
       "    </tr>\n",
       "    <tr>\n",
       "      <th id=\"T_e34df_level0_row1\" class=\"row_heading level0 row1\" >115</th>\n",
       "      <td id=\"T_e34df_row1_col0\" class=\"data row1 col0\" >M</td>\n",
       "      <td id=\"T_e34df_row1_col1\" class=\"data row1 col1\" >8091</td>\n",
       "      <td id=\"T_e34df_row1_col2\" class=\"data row1 col2\" >10</td>\n",
       "      <td id=\"T_e34df_row1_col3\" class=\"data row1 col3\" >1,493,614</td>\n",
       "      <td id=\"T_e34df_row1_col4\" class=\"data row1 col4\" >4</td>\n",
       "    </tr>\n",
       "    <tr>\n",
       "      <th id=\"T_e34df_level0_row2\" class=\"row_heading level0 row2\" >24</th>\n",
       "      <td id=\"T_e34df_row2_col0\" class=\"data row2 col0\" >BCP</td>\n",
       "      <td id=\"T_e34df_row2_col1\" class=\"data row2 col1\" >8091</td>\n",
       "      <td id=\"T_e34df_row2_col2\" class=\"data row2 col2\" >10</td>\n",
       "      <td id=\"T_e34df_row2_col3\" class=\"data row2 col3\" >14,682,655</td>\n",
       "      <td id=\"T_e34df_row2_col4\" class=\"data row2 col4\" >4</td>\n",
       "    </tr>\n",
       "    <tr>\n",
       "      <th id=\"T_e34df_level0_row3\" class=\"row_heading level0 row3\" >85</th>\n",
       "      <td id=\"T_e34df_row3_col0\" class=\"data row3 col0\" >ICHI</td>\n",
       "      <td id=\"T_e34df_row3_col1\" class=\"data row3 col1\" >8091</td>\n",
       "      <td id=\"T_e34df_row3_col2\" class=\"data row3 col2\" >10</td>\n",
       "      <td id=\"T_e34df_row3_col3\" class=\"data row3 col3\" >998,241</td>\n",
       "      <td id=\"T_e34df_row3_col4\" class=\"data row3 col4\" >4</td>\n",
       "    </tr>\n",
       "    <tr>\n",
       "      <th id=\"T_e34df_level0_row4\" class=\"row_heading level0 row4\" >153</th>\n",
       "      <td id=\"T_e34df_row4_col0\" class=\"data row4 col0\" >SAPPE</td>\n",
       "      <td id=\"T_e34df_row4_col1\" class=\"data row4 col1\" >8091</td>\n",
       "      <td id=\"T_e34df_row4_col2\" class=\"data row4 col2\" >10</td>\n",
       "      <td id=\"T_e34df_row4_col3\" class=\"data row4 col3\" >1,060,521</td>\n",
       "      <td id=\"T_e34df_row4_col4\" class=\"data row4 col4\" >4</td>\n",
       "    </tr>\n",
       "  </tbody>\n",
       "</table>\n"
      ],
      "text/plain": [
       "<pandas.io.formats.style.Styler at 0x2c622abc770>"
      ]
     },
     "execution_count": 12,
     "metadata": {},
     "output_type": "execute_result"
    }
   ],
   "source": [
    "dfp = pd.read_sql(sql, conlt)\n",
    "dfp[\"Counter\"] = 1\n",
    "dfp_grp = dfp.groupby([\"name\"], as_index=False).sum()\n",
    "dfp_grp = dfp_grp[dfp_grp[\"Counter\"] == 4]\n",
    "dfp_grp.sample(5).style.format(format_dict)"
   ]
  },
  {
   "cell_type": "code",
   "execution_count": 14,
   "metadata": {},
   "outputs": [
    {
     "data": {
      "text/html": [
       "<style type=\"text/css\">\n",
       "</style>\n",
       "<table id=\"T_78f4a\">\n",
       "  <thead>\n",
       "    <tr>\n",
       "      <th class=\"blank level0\" >&nbsp;</th>\n",
       "      <th id=\"T_78f4a_level0_col0\" class=\"col_heading level0 col0\" >name</th>\n",
       "      <th id=\"T_78f4a_level0_col1\" class=\"col_heading level0 col1\" >year</th>\n",
       "      <th id=\"T_78f4a_level0_col2\" class=\"col_heading level0 col2\" >quarter</th>\n",
       "      <th id=\"T_78f4a_level0_col3\" class=\"col_heading level0 col3\" >q_amt_c</th>\n",
       "      <th id=\"T_78f4a_level0_col4\" class=\"col_heading level0 col4\" >q_amt_p</th>\n",
       "      <th id=\"T_78f4a_level0_col5\" class=\"col_heading level0 col5\" >inc_profit</th>\n",
       "      <th id=\"T_78f4a_level0_col6\" class=\"col_heading level0 col6\" >percent</th>\n",
       "    </tr>\n",
       "  </thead>\n",
       "  <tbody>\n",
       "    <tr>\n",
       "      <th id=\"T_78f4a_level0_row0\" class=\"row_heading level0 row0\" >184</th>\n",
       "      <td id=\"T_78f4a_row0_col0\" class=\"data row0 col0\" >TKN</td>\n",
       "      <td id=\"T_78f4a_row0_col1\" class=\"data row0 col1\" >2024</td>\n",
       "      <td id=\"T_78f4a_row0_col2\" class=\"data row0 col2\" >Q3</td>\n",
       "      <td id=\"T_78f4a_row0_col3\" class=\"data row0 col3\" >864,268</td>\n",
       "      <td id=\"T_78f4a_row0_col4\" class=\"data row0 col4\" >697,003</td>\n",
       "      <td id=\"T_78f4a_row0_col5\" class=\"data row0 col5\" >167,265</td>\n",
       "      <td id=\"T_78f4a_row0_col6\" class=\"data row0 col6\" >24.00%</td>\n",
       "    </tr>\n",
       "    <tr>\n",
       "      <th id=\"T_78f4a_level0_row1\" class=\"row_heading level0 row1\" >5</th>\n",
       "      <td id=\"T_78f4a_row1_col0\" class=\"data row1 col0\" >AIE</td>\n",
       "      <td id=\"T_78f4a_row1_col1\" class=\"data row1 col1\" >2024</td>\n",
       "      <td id=\"T_78f4a_row1_col2\" class=\"data row1 col2\" >Q3</td>\n",
       "      <td id=\"T_78f4a_row1_col3\" class=\"data row1 col3\" >138,452</td>\n",
       "      <td id=\"T_78f4a_row1_col4\" class=\"data row1 col4\" >-48,775</td>\n",
       "      <td id=\"T_78f4a_row1_col5\" class=\"data row1 col5\" >187,227</td>\n",
       "      <td id=\"T_78f4a_row1_col6\" class=\"data row1 col6\" >383.86%</td>\n",
       "    </tr>\n",
       "    <tr>\n",
       "      <th id=\"T_78f4a_level0_row2\" class=\"row_heading level0 row2\" >146</th>\n",
       "      <td id=\"T_78f4a_row2_col0\" class=\"data row2 col0\" >SCB</td>\n",
       "      <td id=\"T_78f4a_row2_col1\" class=\"data row2 col1\" >2024</td>\n",
       "      <td id=\"T_78f4a_row2_col2\" class=\"data row2 col2\" >Q3</td>\n",
       "      <td id=\"T_78f4a_row2_col3\" class=\"data row2 col3\" >43,231,036</td>\n",
       "      <td id=\"T_78f4a_row2_col4\" class=\"data row2 col4\" >39,669,206</td>\n",
       "      <td id=\"T_78f4a_row2_col5\" class=\"data row2 col5\" >3,561,830</td>\n",
       "      <td id=\"T_78f4a_row2_col6\" class=\"data row2 col6\" >8.98%</td>\n",
       "    </tr>\n",
       "    <tr>\n",
       "      <th id=\"T_78f4a_level0_row3\" class=\"row_heading level0 row3\" >87</th>\n",
       "      <td id=\"T_78f4a_row3_col0\" class=\"data row3 col0\" >IRPC</td>\n",
       "      <td id=\"T_78f4a_row3_col1\" class=\"data row3 col1\" >2024</td>\n",
       "      <td id=\"T_78f4a_row3_col2\" class=\"data row3 col2\" >Q3</td>\n",
       "      <td id=\"T_78f4a_row3_col3\" class=\"data row3 col3\" >-7,484,396</td>\n",
       "      <td id=\"T_78f4a_row3_col4\" class=\"data row3 col4\" >-6,655,111</td>\n",
       "      <td id=\"T_78f4a_row3_col5\" class=\"data row3 col5\" >-829,285</td>\n",
       "      <td id=\"T_78f4a_row3_col6\" class=\"data row3 col6\" >-12.46%</td>\n",
       "    </tr>\n",
       "    <tr>\n",
       "      <th id=\"T_78f4a_level0_row4\" class=\"row_heading level0 row4\" >29</th>\n",
       "      <td id=\"T_78f4a_row4_col0\" class=\"data row4 col0\" >BEC</td>\n",
       "      <td id=\"T_78f4a_row4_col1\" class=\"data row4 col1\" >2024</td>\n",
       "      <td id=\"T_78f4a_row4_col2\" class=\"data row4 col2\" >Q3</td>\n",
       "      <td id=\"T_78f4a_row4_col3\" class=\"data row4 col3\" >225,034</td>\n",
       "      <td id=\"T_78f4a_row4_col4\" class=\"data row4 col4\" >265,392</td>\n",
       "      <td id=\"T_78f4a_row4_col5\" class=\"data row4 col5\" >-40,358</td>\n",
       "      <td id=\"T_78f4a_row4_col6\" class=\"data row4 col6\" >-15.21%</td>\n",
       "    </tr>\n",
       "  </tbody>\n",
       "</table>\n"
      ],
      "text/plain": [
       "<pandas.io.formats.style.Styler at 0x2c622aec080>"
      ]
     },
     "execution_count": 14,
     "metadata": {},
     "output_type": "execute_result"
    }
   ],
   "source": [
    "dfm = pd.merge(dfc_grp, dfp_grp, on=\"name\", suffixes=([\"_c\", \"_p\"]), how=\"inner\")\n",
    "dfm[\"inc_profit\"] = dfm[\"q_amt_c\"] - dfm[\"q_amt_p\"]\n",
    "dfm[\"percent\"] = round(dfm[\"inc_profit\"] / abs(dfm[\"q_amt_p\"]) * 100, 2)\n",
    "dfm[\"year\"] = year\n",
    "dfm[\"quarter\"] = \"Q\" + str(quarter)\n",
    "df_percent = dfm[cols]\n",
    "df_percent.sample(5).style.format(format_dict)"
   ]
  },
  {
   "cell_type": "code",
   "execution_count": 20,
   "metadata": {},
   "outputs": [
    {
     "name": "stdout",
     "output_type": "stream",
     "text": [
      "Rows deleted: 209\n"
     ]
    }
   ],
   "source": [
    "# Create the SQL query with parameter binding\n",
    "sql = text(\"DELETE FROM yr_profits WHERE year = :year AND quarter = :quarter\")\n",
    "\n",
    "# Execute the query with parameters\n",
    "params = {'year': year, 'quarter': f'Q{quarter}'}\n",
    "rp = conlt.execute(sql, params)\n",
    "\n",
    "# Print the number of rows affected\n",
    "print(\"Rows deleted:\", rp.rowcount)"
   ]
  },
  {
   "cell_type": "code",
   "execution_count": 22,
   "metadata": {},
   "outputs": [
    {
     "data": {
      "text/plain": [
       "212"
      ]
     },
     "execution_count": 22,
     "metadata": {},
     "output_type": "execute_result"
    }
   ],
   "source": [
    "sql = \"SELECT name, id FROM tickers\"\n",
    "tickers = pd.read_sql(sql, conlt)\n",
    "df_ins = pd.merge(df_percent, tickers, on=\"name\", how=\"inner\")\n",
    "rcds = df_ins.values.tolist()\n",
    "len(rcds)"
   ]
  },
  {
   "cell_type": "code",
   "execution_count": 24,
   "metadata": {},
   "outputs": [],
   "source": [
    "# Convert DataFrame to list of records\n",
    "rcds = df_ins.values.tolist()\n",
    "\n",
    "# Define column names in the same order as values\n",
    "columns = ['name', 'year', 'quarter', 'latest_amt', 'previous_amt', 'inc_amt', 'inc_pct', 'ticker_id']\n",
    "\n",
    "# SQL insert statement with named parameters\n",
    "sql = text(\"\"\"\n",
    "    INSERT INTO yr_profits \n",
    "    (name, year, quarter, latest_amt, previous_amt, inc_amt, inc_pct, ticker_id)\n",
    "    VALUES (:name, :year, :quarter, :latest_amt, :previous_amt, :inc_amt, :inc_pct, :ticker_id)\n",
    "\"\"\")\n",
    "\n",
    "try:\n",
    "    # Execute inserts\n",
    "    for rcd in rcds:\n",
    "        # Convert list to dictionary\n",
    "        params = dict(zip(columns, rcd))\n",
    "        conlt.execute(sql, params)\n",
    "except Exception as e:\n",
    "    raise e"
   ]
  },
  {
   "cell_type": "markdown",
   "metadata": {},
   "source": [
    "### End of loop"
   ]
  },
  {
   "cell_type": "code",
   "execution_count": 26,
   "metadata": {},
   "outputs": [
    {
     "data": {
      "text/html": [
       "<style type=\"text/css\">\n",
       "</style>\n",
       "<table id=\"T_517ed\">\n",
       "  <thead>\n",
       "    <tr>\n",
       "      <th class=\"blank level0\" >&nbsp;</th>\n",
       "      <th id=\"T_517ed_level0_col0\" class=\"col_heading level0 col0\" >name</th>\n",
       "      <th id=\"T_517ed_level0_col1\" class=\"col_heading level0 col1\" >year</th>\n",
       "      <th id=\"T_517ed_level0_col2\" class=\"col_heading level0 col2\" >quarter</th>\n",
       "      <th id=\"T_517ed_level0_col3\" class=\"col_heading level0 col3\" >q_amt_c</th>\n",
       "      <th id=\"T_517ed_level0_col4\" class=\"col_heading level0 col4\" >q_amt_p</th>\n",
       "      <th id=\"T_517ed_level0_col5\" class=\"col_heading level0 col5\" >inc_profit</th>\n",
       "      <th id=\"T_517ed_level0_col6\" class=\"col_heading level0 col6\" >percent</th>\n",
       "    </tr>\n",
       "  </thead>\n",
       "  <tbody>\n",
       "    <tr>\n",
       "      <th id=\"T_517ed_level0_row0\" class=\"row_heading level0 row0\" >17</th>\n",
       "      <td id=\"T_517ed_row0_col0\" class=\"data row0 col0\" >AWC</td>\n",
       "      <td id=\"T_517ed_row0_col1\" class=\"data row0 col1\" >2024</td>\n",
       "      <td id=\"T_517ed_row0_col2\" class=\"data row0 col2\" >Q3</td>\n",
       "      <td id=\"T_517ed_row0_col3\" class=\"data row0 col3\" >5,348,602</td>\n",
       "      <td id=\"T_517ed_row0_col4\" class=\"data row0 col4\" >5,085,639</td>\n",
       "      <td id=\"T_517ed_row0_col5\" class=\"data row0 col5\" >262,963</td>\n",
       "      <td id=\"T_517ed_row0_col6\" class=\"data row0 col6\" >5.17%</td>\n",
       "    </tr>\n",
       "    <tr>\n",
       "      <th id=\"T_517ed_level0_row1\" class=\"row_heading level0 row1\" >50</th>\n",
       "      <td id=\"T_517ed_row1_col0\" class=\"data row1 col0\" >CPTGF</td>\n",
       "      <td id=\"T_517ed_row1_col1\" class=\"data row1 col1\" >2024</td>\n",
       "      <td id=\"T_517ed_row1_col2\" class=\"data row1 col2\" >Q3</td>\n",
       "      <td id=\"T_517ed_row1_col3\" class=\"data row1 col3\" >534,277</td>\n",
       "      <td id=\"T_517ed_row1_col4\" class=\"data row1 col4\" >269,492</td>\n",
       "      <td id=\"T_517ed_row1_col5\" class=\"data row1 col5\" >264,785</td>\n",
       "      <td id=\"T_517ed_row1_col6\" class=\"data row1 col6\" >98.25%</td>\n",
       "    </tr>\n",
       "    <tr>\n",
       "      <th id=\"T_517ed_level0_row2\" class=\"row_heading level0 row2\" >26</th>\n",
       "      <td id=\"T_517ed_row2_col0\" class=\"data row2 col0\" >BDMS</td>\n",
       "      <td id=\"T_517ed_row2_col1\" class=\"data row2 col1\" >2024</td>\n",
       "      <td id=\"T_517ed_row2_col2\" class=\"data row2 col2\" >Q3</td>\n",
       "      <td id=\"T_517ed_row2_col3\" class=\"data row2 col3\" >15,606,174</td>\n",
       "      <td id=\"T_517ed_row2_col4\" class=\"data row2 col4\" >13,536,915</td>\n",
       "      <td id=\"T_517ed_row2_col5\" class=\"data row2 col5\" >2,069,259</td>\n",
       "      <td id=\"T_517ed_row2_col6\" class=\"data row2 col6\" >15.29%</td>\n",
       "    </tr>\n",
       "    <tr>\n",
       "      <th id=\"T_517ed_level0_row3\" class=\"row_heading level0 row3\" >182</th>\n",
       "      <td id=\"T_517ed_row3_col0\" class=\"data row3 col0\" >TISCO</td>\n",
       "      <td id=\"T_517ed_row3_col1\" class=\"data row3 col1\" >2024</td>\n",
       "      <td id=\"T_517ed_row3_col2\" class=\"data row3 col2\" >Q3</td>\n",
       "      <td id=\"T_517ed_row3_col3\" class=\"data row3 col3\" >6,977,106</td>\n",
       "      <td id=\"T_517ed_row3_col4\" class=\"data row3 col4\" >7,327,442</td>\n",
       "      <td id=\"T_517ed_row3_col5\" class=\"data row3 col5\" >-350,336</td>\n",
       "      <td id=\"T_517ed_row3_col6\" class=\"data row3 col6\" >-4.78%</td>\n",
       "    </tr>\n",
       "    <tr>\n",
       "      <th id=\"T_517ed_level0_row4\" class=\"row_heading level0 row4\" >98</th>\n",
       "      <td id=\"T_517ed_row4_col0\" class=\"data row4 col0\" >LALIN</td>\n",
       "      <td id=\"T_517ed_row4_col1\" class=\"data row4 col1\" >2024</td>\n",
       "      <td id=\"T_517ed_row4_col2\" class=\"data row4 col2\" >Q3</td>\n",
       "      <td id=\"T_517ed_row4_col3\" class=\"data row4 col3\" >638,823</td>\n",
       "      <td id=\"T_517ed_row4_col4\" class=\"data row4 col4\" >936,181</td>\n",
       "      <td id=\"T_517ed_row4_col5\" class=\"data row4 col5\" >-297,358</td>\n",
       "      <td id=\"T_517ed_row4_col6\" class=\"data row4 col6\" >-31.76%</td>\n",
       "    </tr>\n",
       "  </tbody>\n",
       "</table>\n"
      ],
      "text/plain": [
       "<pandas.io.formats.style.Styler at 0x2c623d40800>"
      ]
     },
     "execution_count": 26,
     "metadata": {},
     "output_type": "execute_result"
    }
   ],
   "source": [
    "criteria_1 = df_ins.q_amt_c > 440_000\n",
    "df_ins.loc[criteria_1, cols].sample(5).style.format(format_dict)"
   ]
  },
  {
   "cell_type": "code",
   "execution_count": 28,
   "metadata": {},
   "outputs": [
    {
     "data": {
      "text/html": [
       "<style type=\"text/css\">\n",
       "</style>\n",
       "<table id=\"T_ea708\">\n",
       "  <thead>\n",
       "    <tr>\n",
       "      <th class=\"blank level0\" >&nbsp;</th>\n",
       "      <th id=\"T_ea708_level0_col0\" class=\"col_heading level0 col0\" >name</th>\n",
       "      <th id=\"T_ea708_level0_col1\" class=\"col_heading level0 col1\" >year</th>\n",
       "      <th id=\"T_ea708_level0_col2\" class=\"col_heading level0 col2\" >quarter</th>\n",
       "      <th id=\"T_ea708_level0_col3\" class=\"col_heading level0 col3\" >q_amt_c</th>\n",
       "      <th id=\"T_ea708_level0_col4\" class=\"col_heading level0 col4\" >q_amt_p</th>\n",
       "      <th id=\"T_ea708_level0_col5\" class=\"col_heading level0 col5\" >inc_profit</th>\n",
       "      <th id=\"T_ea708_level0_col6\" class=\"col_heading level0 col6\" >percent</th>\n",
       "    </tr>\n",
       "  </thead>\n",
       "  <tbody>\n",
       "    <tr>\n",
       "      <th id=\"T_ea708_level0_row0\" class=\"row_heading level0 row0\" >160</th>\n",
       "      <td id=\"T_ea708_row0_col0\" class=\"data row0 col0\" >SPALI</td>\n",
       "      <td id=\"T_ea708_row0_col1\" class=\"data row0 col1\" >2024</td>\n",
       "      <td id=\"T_ea708_row0_col2\" class=\"data row0 col2\" >Q3</td>\n",
       "      <td id=\"T_ea708_row0_col3\" class=\"data row0 col3\" >6,218,832</td>\n",
       "      <td id=\"T_ea708_row0_col4\" class=\"data row0 col4\" >6,143,327</td>\n",
       "      <td id=\"T_ea708_row0_col5\" class=\"data row0 col5\" >75,505</td>\n",
       "      <td id=\"T_ea708_row0_col6\" class=\"data row0 col6\" >1.23%</td>\n",
       "    </tr>\n",
       "    <tr>\n",
       "      <th id=\"T_ea708_level0_row1\" class=\"row_heading level0 row1\" >37</th>\n",
       "      <td id=\"T_ea708_row1_col0\" class=\"data row1 col0\" >BPP</td>\n",
       "      <td id=\"T_ea708_row1_col1\" class=\"data row1 col1\" >2024</td>\n",
       "      <td id=\"T_ea708_row1_col2\" class=\"data row1 col2\" >Q3</td>\n",
       "      <td id=\"T_ea708_row1_col3\" class=\"data row1 col3\" >2,561,484</td>\n",
       "      <td id=\"T_ea708_row1_col4\" class=\"data row1 col4\" >5,370,534</td>\n",
       "      <td id=\"T_ea708_row1_col5\" class=\"data row1 col5\" >-2,809,050</td>\n",
       "      <td id=\"T_ea708_row1_col6\" class=\"data row1 col6\" >-52.30%</td>\n",
       "    </tr>\n",
       "    <tr>\n",
       "      <th id=\"T_ea708_level0_row2\" class=\"row_heading level0 row2\" >62</th>\n",
       "      <td id=\"T_ea708_row2_col0\" class=\"data row2 col0\" >EGCO</td>\n",
       "      <td id=\"T_ea708_row2_col1\" class=\"data row2 col1\" >2024</td>\n",
       "      <td id=\"T_ea708_row2_col2\" class=\"data row2 col2\" >Q3</td>\n",
       "      <td id=\"T_ea708_row2_col3\" class=\"data row2 col3\" >-8,721,105</td>\n",
       "      <td id=\"T_ea708_row2_col4\" class=\"data row2 col4\" >5,591,299</td>\n",
       "      <td id=\"T_ea708_row2_col5\" class=\"data row2 col5\" >-14,312,404</td>\n",
       "      <td id=\"T_ea708_row2_col6\" class=\"data row2 col6\" >-255.98%</td>\n",
       "    </tr>\n",
       "    <tr>\n",
       "      <th id=\"T_ea708_level0_row3\" class=\"row_heading level0 row3\" >153</th>\n",
       "      <td id=\"T_ea708_row3_col0\" class=\"data row3 col0\" >SIRI</td>\n",
       "      <td id=\"T_ea708_row3_col1\" class=\"data row3 col1\" >2024</td>\n",
       "      <td id=\"T_ea708_row3_col2\" class=\"data row3 col2\" >Q3</td>\n",
       "      <td id=\"T_ea708_row3_col3\" class=\"data row3 col3\" >5,309,589</td>\n",
       "      <td id=\"T_ea708_row3_col4\" class=\"data row3 col4\" >6,551,732</td>\n",
       "      <td id=\"T_ea708_row3_col5\" class=\"data row3 col5\" >-1,242,143</td>\n",
       "      <td id=\"T_ea708_row3_col6\" class=\"data row3 col6\" >-18.96%</td>\n",
       "    </tr>\n",
       "    <tr>\n",
       "      <th id=\"T_ea708_level0_row4\" class=\"row_heading level0 row4\" >30</th>\n",
       "      <td id=\"T_ea708_row4_col0\" class=\"data row4 col0\" >BEM</td>\n",
       "      <td id=\"T_ea708_row4_col1\" class=\"data row4 col1\" >2024</td>\n",
       "      <td id=\"T_ea708_row4_col2\" class=\"data row4 col2\" >Q3</td>\n",
       "      <td id=\"T_ea708_row4_col3\" class=\"data row4 col3\" >3,776,194</td>\n",
       "      <td id=\"T_ea708_row4_col4\" class=\"data row4 col4\" >3,222,895</td>\n",
       "      <td id=\"T_ea708_row4_col5\" class=\"data row4 col5\" >553,299</td>\n",
       "      <td id=\"T_ea708_row4_col6\" class=\"data row4 col6\" >17.17%</td>\n",
       "    </tr>\n",
       "  </tbody>\n",
       "</table>\n"
      ],
      "text/plain": [
       "<pandas.io.formats.style.Styler at 0x2c623d42a80>"
      ]
     },
     "execution_count": 28,
     "metadata": {},
     "output_type": "execute_result"
    }
   ],
   "source": [
    "criteria_2 = df_ins.q_amt_p > 400_000\n",
    "df_ins.loc[criteria_2, cols].sample(5).style.format(format_dict)"
   ]
  },
  {
   "cell_type": "code",
   "execution_count": 30,
   "metadata": {},
   "outputs": [
    {
     "data": {
      "text/html": [
       "<style type=\"text/css\">\n",
       "</style>\n",
       "<table id=\"T_55ca0\">\n",
       "  <thead>\n",
       "    <tr>\n",
       "      <th class=\"blank level0\" >&nbsp;</th>\n",
       "      <th id=\"T_55ca0_level0_col0\" class=\"col_heading level0 col0\" >name</th>\n",
       "      <th id=\"T_55ca0_level0_col1\" class=\"col_heading level0 col1\" >year</th>\n",
       "      <th id=\"T_55ca0_level0_col2\" class=\"col_heading level0 col2\" >quarter</th>\n",
       "      <th id=\"T_55ca0_level0_col3\" class=\"col_heading level0 col3\" >q_amt_c</th>\n",
       "      <th id=\"T_55ca0_level0_col4\" class=\"col_heading level0 col4\" >q_amt_p</th>\n",
       "      <th id=\"T_55ca0_level0_col5\" class=\"col_heading level0 col5\" >inc_profit</th>\n",
       "      <th id=\"T_55ca0_level0_col6\" class=\"col_heading level0 col6\" >percent</th>\n",
       "    </tr>\n",
       "  </thead>\n",
       "  <tbody>\n",
       "    <tr>\n",
       "      <th id=\"T_55ca0_level0_row0\" class=\"row_heading level0 row0\" >89</th>\n",
       "      <td id=\"T_55ca0_row0_col0\" class=\"data row0 col0\" >JMART</td>\n",
       "      <td id=\"T_55ca0_row0_col1\" class=\"data row0 col1\" >2024</td>\n",
       "      <td id=\"T_55ca0_row0_col2\" class=\"data row0 col2\" >Q3</td>\n",
       "      <td id=\"T_55ca0_row0_col3\" class=\"data row0 col3\" >996,794</td>\n",
       "      <td id=\"T_55ca0_row0_col4\" class=\"data row0 col4\" >-96,064</td>\n",
       "      <td id=\"T_55ca0_row0_col5\" class=\"data row0 col5\" >1,092,858</td>\n",
       "      <td id=\"T_55ca0_row0_col6\" class=\"data row0 col6\" >1137.64%</td>\n",
       "    </tr>\n",
       "    <tr>\n",
       "      <th id=\"T_55ca0_level0_row1\" class=\"row_heading level0 row1\" >80</th>\n",
       "      <td id=\"T_55ca0_row1_col0\" class=\"data row1 col0\" >ICHI</td>\n",
       "      <td id=\"T_55ca0_row1_col1\" class=\"data row1 col1\" >2024</td>\n",
       "      <td id=\"T_55ca0_row1_col2\" class=\"data row1 col2\" >Q3</td>\n",
       "      <td id=\"T_55ca0_row1_col3\" class=\"data row1 col3\" >1,395,005</td>\n",
       "      <td id=\"T_55ca0_row1_col4\" class=\"data row1 col4\" >998,241</td>\n",
       "      <td id=\"T_55ca0_row1_col5\" class=\"data row1 col5\" >396,764</td>\n",
       "      <td id=\"T_55ca0_row1_col6\" class=\"data row1 col6\" >39.75%</td>\n",
       "    </tr>\n",
       "    <tr>\n",
       "      <th id=\"T_55ca0_level0_row2\" class=\"row_heading level0 row2\" >36</th>\n",
       "      <td id=\"T_55ca0_row2_col0\" class=\"data row2 col0\" >BLA</td>\n",
       "      <td id=\"T_55ca0_row2_col1\" class=\"data row2 col1\" >2024</td>\n",
       "      <td id=\"T_55ca0_row2_col2\" class=\"data row2 col2\" >Q3</td>\n",
       "      <td id=\"T_55ca0_row2_col3\" class=\"data row2 col3\" >3,027,476</td>\n",
       "      <td id=\"T_55ca0_row2_col4\" class=\"data row2 col4\" >2,469,505</td>\n",
       "      <td id=\"T_55ca0_row2_col5\" class=\"data row2 col5\" >557,971</td>\n",
       "      <td id=\"T_55ca0_row2_col6\" class=\"data row2 col6\" >22.59%</td>\n",
       "    </tr>\n",
       "    <tr>\n",
       "      <th id=\"T_55ca0_level0_row3\" class=\"row_heading level0 row3\" >134</th>\n",
       "      <td id=\"T_55ca0_row3_col0\" class=\"data row3 col0\" >RATCH</td>\n",
       "      <td id=\"T_55ca0_row3_col1\" class=\"data row3 col1\" >2024</td>\n",
       "      <td id=\"T_55ca0_row3_col2\" class=\"data row3 col2\" >Q3</td>\n",
       "      <td id=\"T_55ca0_row3_col3\" class=\"data row3 col3\" >5,897,754</td>\n",
       "      <td id=\"T_55ca0_row3_col4\" class=\"data row3 col4\" >4,513,087</td>\n",
       "      <td id=\"T_55ca0_row3_col5\" class=\"data row3 col5\" >1,384,667</td>\n",
       "      <td id=\"T_55ca0_row3_col6\" class=\"data row3 col6\" >30.68%</td>\n",
       "    </tr>\n",
       "    <tr>\n",
       "      <th id=\"T_55ca0_level0_row4\" class=\"row_heading level0 row4\" >200</th>\n",
       "      <td id=\"T_55ca0_row4_col0\" class=\"data row4 col0\" >TVO</td>\n",
       "      <td id=\"T_55ca0_row4_col1\" class=\"data row4 col1\" >2024</td>\n",
       "      <td id=\"T_55ca0_row4_col2\" class=\"data row4 col2\" >Q3</td>\n",
       "      <td id=\"T_55ca0_row4_col3\" class=\"data row4 col3\" >1,611,173</td>\n",
       "      <td id=\"T_55ca0_row4_col4\" class=\"data row4 col4\" >-189,405</td>\n",
       "      <td id=\"T_55ca0_row4_col5\" class=\"data row4 col5\" >1,800,578</td>\n",
       "      <td id=\"T_55ca0_row4_col6\" class=\"data row4 col6\" >950.65%</td>\n",
       "    </tr>\n",
       "  </tbody>\n",
       "</table>\n"
      ],
      "text/plain": [
       "<pandas.io.formats.style.Styler at 0x2c622b24d10>"
      ]
     },
     "execution_count": 30,
     "metadata": {},
     "output_type": "execute_result"
    }
   ],
   "source": [
    "criteria_3 = df_ins.percent > 10.00\n",
    "df_ins.loc[criteria_3, cols].sample(5).style.format(format_dict)"
   ]
  },
  {
   "cell_type": "code",
   "execution_count": 32,
   "metadata": {},
   "outputs": [
    {
     "data": {
      "text/html": [
       "<style type=\"text/css\">\n",
       "</style>\n",
       "<table id=\"T_2ca8e\">\n",
       "  <thead>\n",
       "    <tr>\n",
       "      <th class=\"blank level0\" >&nbsp;</th>\n",
       "      <th id=\"T_2ca8e_level0_col0\" class=\"col_heading level0 col0\" >name</th>\n",
       "      <th id=\"T_2ca8e_level0_col1\" class=\"col_heading level0 col1\" >year</th>\n",
       "      <th id=\"T_2ca8e_level0_col2\" class=\"col_heading level0 col2\" >quarter</th>\n",
       "      <th id=\"T_2ca8e_level0_col3\" class=\"col_heading level0 col3\" >q_amt_c</th>\n",
       "      <th id=\"T_2ca8e_level0_col4\" class=\"col_heading level0 col4\" >q_amt_p</th>\n",
       "      <th id=\"T_2ca8e_level0_col5\" class=\"col_heading level0 col5\" >inc_profit</th>\n",
       "      <th id=\"T_2ca8e_level0_col6\" class=\"col_heading level0 col6\" >percent</th>\n",
       "    </tr>\n",
       "  </thead>\n",
       "  <tbody>\n",
       "    <tr>\n",
       "      <th id=\"T_2ca8e_level0_row0\" class=\"row_heading level0 row0\" >154</th>\n",
       "      <td id=\"T_2ca8e_row0_col0\" class=\"data row0 col0\" >SIS</td>\n",
       "      <td id=\"T_2ca8e_row0_col1\" class=\"data row0 col1\" >2024</td>\n",
       "      <td id=\"T_2ca8e_row0_col2\" class=\"data row0 col2\" >Q3</td>\n",
       "      <td id=\"T_2ca8e_row0_col3\" class=\"data row0 col3\" >952,446</td>\n",
       "      <td id=\"T_2ca8e_row0_col4\" class=\"data row0 col4\" >584,109</td>\n",
       "      <td id=\"T_2ca8e_row0_col5\" class=\"data row0 col5\" >368,337</td>\n",
       "      <td id=\"T_2ca8e_row0_col6\" class=\"data row0 col6\" >63.06%</td>\n",
       "    </tr>\n",
       "    <tr>\n",
       "      <th id=\"T_2ca8e_level0_row1\" class=\"row_heading level0 row1\" >23</th>\n",
       "      <td id=\"T_2ca8e_row1_col0\" class=\"data row1 col0\" >BCH</td>\n",
       "      <td id=\"T_2ca8e_row1_col1\" class=\"data row1 col1\" >2024</td>\n",
       "      <td id=\"T_2ca8e_row1_col2\" class=\"data row1 col2\" >Q3</td>\n",
       "      <td id=\"T_2ca8e_row1_col3\" class=\"data row1 col3\" >1,476,800</td>\n",
       "      <td id=\"T_2ca8e_row1_col4\" class=\"data row1 col4\" >1,248,581</td>\n",
       "      <td id=\"T_2ca8e_row1_col5\" class=\"data row1 col5\" >228,219</td>\n",
       "      <td id=\"T_2ca8e_row1_col6\" class=\"data row1 col6\" >18.28%</td>\n",
       "    </tr>\n",
       "    <tr>\n",
       "      <th id=\"T_2ca8e_level0_row2\" class=\"row_heading level0 row2\" >130</th>\n",
       "      <td id=\"T_2ca8e_row2_col0\" class=\"data row2 col0\" >PTT</td>\n",
       "      <td id=\"T_2ca8e_row2_col1\" class=\"data row2 col1\" >2024</td>\n",
       "      <td id=\"T_2ca8e_row2_col2\" class=\"data row2 col2\" >Q3</td>\n",
       "      <td id=\"T_2ca8e_row2_col3\" class=\"data row2 col3\" >113,525,523</td>\n",
       "      <td id=\"T_2ca8e_row2_col4\" class=\"data row2 col4\" >97,130,880</td>\n",
       "      <td id=\"T_2ca8e_row2_col5\" class=\"data row2 col5\" >16,394,643</td>\n",
       "      <td id=\"T_2ca8e_row2_col6\" class=\"data row2 col6\" >16.88%</td>\n",
       "    </tr>\n",
       "    <tr>\n",
       "      <th id=\"T_2ca8e_level0_row3\" class=\"row_heading level0 row3\" >138</th>\n",
       "      <td id=\"T_2ca8e_row3_col0\" class=\"data row3 col0\" >ROJNA</td>\n",
       "      <td id=\"T_2ca8e_row3_col1\" class=\"data row3 col1\" >2024</td>\n",
       "      <td id=\"T_2ca8e_row3_col2\" class=\"data row3 col2\" >Q3</td>\n",
       "      <td id=\"T_2ca8e_row3_col3\" class=\"data row3 col3\" >3,647,560</td>\n",
       "      <td id=\"T_2ca8e_row3_col4\" class=\"data row3 col4\" >1,174,631</td>\n",
       "      <td id=\"T_2ca8e_row3_col5\" class=\"data row3 col5\" >2,472,929</td>\n",
       "      <td id=\"T_2ca8e_row3_col6\" class=\"data row3 col6\" >210.53%</td>\n",
       "    </tr>\n",
       "    <tr>\n",
       "      <th id=\"T_2ca8e_level0_row4\" class=\"row_heading level0 row4\" >73</th>\n",
       "      <td id=\"T_2ca8e_row4_col0\" class=\"data row4 col0\" >GULF</td>\n",
       "      <td id=\"T_2ca8e_row4_col1\" class=\"data row4 col1\" >2024</td>\n",
       "      <td id=\"T_2ca8e_row4_col2\" class=\"data row4 col2\" >Q3</td>\n",
       "      <td id=\"T_2ca8e_row4_col3\" class=\"data row4 col3\" >19,032,052</td>\n",
       "      <td id=\"T_2ca8e_row4_col4\" class=\"data row4 col4\" >15,500,861</td>\n",
       "      <td id=\"T_2ca8e_row4_col5\" class=\"data row4 col5\" >3,531,191</td>\n",
       "      <td id=\"T_2ca8e_row4_col6\" class=\"data row4 col6\" >22.78%</td>\n",
       "    </tr>\n",
       "  </tbody>\n",
       "</table>\n"
      ],
      "text/plain": [
       "<pandas.io.formats.style.Styler at 0x2c623d47950>"
      ]
     },
     "execution_count": 32,
     "metadata": {},
     "output_type": "execute_result"
    }
   ],
   "source": [
    "final_criteria = criteria_1 & criteria_2 & criteria_3\n",
    "df_ins.loc[final_criteria, cols].sort_values(by=[\"percent\"], ascending=[False]).sample(5).style.format(format_dict)"
   ]
  },
  {
   "cell_type": "code",
   "execution_count": 34,
   "metadata": {},
   "outputs": [
    {
     "data": {
      "text/html": [
       "<style type=\"text/css\">\n",
       "</style>\n",
       "<table id=\"T_18a85\">\n",
       "  <thead>\n",
       "    <tr>\n",
       "      <th class=\"blank level0\" >&nbsp;</th>\n",
       "      <th id=\"T_18a85_level0_col0\" class=\"col_heading level0 col0\" >name</th>\n",
       "      <th id=\"T_18a85_level0_col1\" class=\"col_heading level0 col1\" >year</th>\n",
       "      <th id=\"T_18a85_level0_col2\" class=\"col_heading level0 col2\" >quarter</th>\n",
       "      <th id=\"T_18a85_level0_col3\" class=\"col_heading level0 col3\" >q_amt_c</th>\n",
       "      <th id=\"T_18a85_level0_col4\" class=\"col_heading level0 col4\" >q_amt_p</th>\n",
       "      <th id=\"T_18a85_level0_col5\" class=\"col_heading level0 col5\" >inc_profit</th>\n",
       "      <th id=\"T_18a85_level0_col6\" class=\"col_heading level0 col6\" >percent</th>\n",
       "    </tr>\n",
       "  </thead>\n",
       "  <tbody>\n",
       "    <tr>\n",
       "      <th id=\"T_18a85_level0_row0\" class=\"row_heading level0 row0\" >38</th>\n",
       "      <td id=\"T_18a85_row0_col0\" class=\"data row0 col0\" >CBG</td>\n",
       "      <td id=\"T_18a85_row0_col1\" class=\"data row0 col1\" >2024</td>\n",
       "      <td id=\"T_18a85_row0_col2\" class=\"data row0 col2\" >Q3</td>\n",
       "      <td id=\"T_18a85_row0_col3\" class=\"data row0 col3\" >2,709,312</td>\n",
       "      <td id=\"T_18a85_row0_col4\" class=\"data row0 col4\" >1,683,143</td>\n",
       "      <td id=\"T_18a85_row0_col5\" class=\"data row0 col5\" >1,026,169</td>\n",
       "      <td id=\"T_18a85_row0_col6\" class=\"data row0 col6\" >60.97%</td>\n",
       "    </tr>\n",
       "    <tr>\n",
       "      <th id=\"T_18a85_level0_row1\" class=\"row_heading level0 row1\" >129</th>\n",
       "      <td id=\"T_18a85_row1_col0\" class=\"data row1 col0\" >PTG</td>\n",
       "      <td id=\"T_18a85_row1_col1\" class=\"data row1 col1\" >2024</td>\n",
       "      <td id=\"T_18a85_row1_col2\" class=\"data row1 col2\" >Q3</td>\n",
       "      <td id=\"T_18a85_row1_col3\" class=\"data row1 col3\" >1,329,197</td>\n",
       "      <td id=\"T_18a85_row1_col4\" class=\"data row1 col4\" >404,657</td>\n",
       "      <td id=\"T_18a85_row1_col5\" class=\"data row1 col5\" >924,540</td>\n",
       "      <td id=\"T_18a85_row1_col6\" class=\"data row1 col6\" >228.47%</td>\n",
       "    </tr>\n",
       "    <tr>\n",
       "      <th id=\"T_18a85_level0_row2\" class=\"row_heading level0 row2\" >175</th>\n",
       "      <td id=\"T_18a85_row2_col0\" class=\"data row2 col0\" >TFFIF</td>\n",
       "      <td id=\"T_18a85_row2_col1\" class=\"data row2 col1\" >2024</td>\n",
       "      <td id=\"T_18a85_row2_col2\" class=\"data row2 col2\" >Q3</td>\n",
       "      <td id=\"T_18a85_row2_col3\" class=\"data row2 col3\" >9,534,817</td>\n",
       "      <td id=\"T_18a85_row2_col4\" class=\"data row2 col4\" >2,035,986</td>\n",
       "      <td id=\"T_18a85_row2_col5\" class=\"data row2 col5\" >7,498,831</td>\n",
       "      <td id=\"T_18a85_row2_col6\" class=\"data row2 col6\" >368.31%</td>\n",
       "    </tr>\n",
       "    <tr>\n",
       "      <th id=\"T_18a85_level0_row3\" class=\"row_heading level0 row3\" >91</th>\n",
       "      <td id=\"T_18a85_row3_col0\" class=\"data row3 col0\" >KBANK</td>\n",
       "      <td id=\"T_18a85_row3_col1\" class=\"data row3 col1\" >2024</td>\n",
       "      <td id=\"T_18a85_row3_col2\" class=\"data row3 col2\" >Q3</td>\n",
       "      <td id=\"T_18a85_row3_col3\" class=\"data row3 col3\" >47,491,913</td>\n",
       "      <td id=\"T_18a85_row3_col4\" class=\"data row3 col4\" >36,207,991</td>\n",
       "      <td id=\"T_18a85_row3_col5\" class=\"data row3 col5\" >11,283,922</td>\n",
       "      <td id=\"T_18a85_row3_col6\" class=\"data row3 col6\" >31.16%</td>\n",
       "    </tr>\n",
       "    <tr>\n",
       "      <th id=\"T_18a85_level0_row4\" class=\"row_heading level0 row4\" >154</th>\n",
       "      <td id=\"T_18a85_row4_col0\" class=\"data row4 col0\" >SIS</td>\n",
       "      <td id=\"T_18a85_row4_col1\" class=\"data row4 col1\" >2024</td>\n",
       "      <td id=\"T_18a85_row4_col2\" class=\"data row4 col2\" >Q3</td>\n",
       "      <td id=\"T_18a85_row4_col3\" class=\"data row4 col3\" >952,446</td>\n",
       "      <td id=\"T_18a85_row4_col4\" class=\"data row4 col4\" >584,109</td>\n",
       "      <td id=\"T_18a85_row4_col5\" class=\"data row4 col5\" >368,337</td>\n",
       "      <td id=\"T_18a85_row4_col6\" class=\"data row4 col6\" >63.06%</td>\n",
       "    </tr>\n",
       "  </tbody>\n",
       "</table>\n"
      ],
      "text/plain": [
       "<pandas.io.formats.style.Styler at 0x2c622b24a40>"
      ]
     },
     "execution_count": 34,
     "metadata": {},
     "output_type": "execute_result"
    }
   ],
   "source": [
    "df_ins.loc[final_criteria, cols].sort_values(by=[\"name\"], ascending=[True]).sample(5).style.format(format_dict)"
   ]
  },
  {
   "cell_type": "code",
   "execution_count": 36,
   "metadata": {},
   "outputs": [
    {
     "data": {
      "text/html": [
       "<style type=\"text/css\">\n",
       "</style>\n",
       "<table id=\"T_d290b\">\n",
       "  <thead>\n",
       "    <tr>\n",
       "      <th class=\"blank level0\" >&nbsp;</th>\n",
       "      <th id=\"T_d290b_level0_col0\" class=\"col_heading level0 col0\" >name</th>\n",
       "      <th id=\"T_d290b_level0_col1\" class=\"col_heading level0 col1\" >year</th>\n",
       "      <th id=\"T_d290b_level0_col2\" class=\"col_heading level0 col2\" >quarter</th>\n",
       "      <th id=\"T_d290b_level0_col3\" class=\"col_heading level0 col3\" >q_amt_c</th>\n",
       "      <th id=\"T_d290b_level0_col4\" class=\"col_heading level0 col4\" >q_amt_p</th>\n",
       "      <th id=\"T_d290b_level0_col5\" class=\"col_heading level0 col5\" >inc_profit</th>\n",
       "      <th id=\"T_d290b_level0_col6\" class=\"col_heading level0 col6\" >percent</th>\n",
       "    </tr>\n",
       "  </thead>\n",
       "  <tbody>\n",
       "    <tr>\n",
       "      <th id=\"T_d290b_level0_row0\" class=\"row_heading level0 row0\" >206</th>\n",
       "      <td id=\"T_d290b_row0_col0\" class=\"data row0 col0\" >WHA</td>\n",
       "      <td id=\"T_d290b_row0_col1\" class=\"data row0 col1\" >2024</td>\n",
       "      <td id=\"T_d290b_row0_col2\" class=\"data row0 col2\" >Q3</td>\n",
       "      <td id=\"T_d290b_row0_col3\" class=\"data row0 col3\" >5,526,794</td>\n",
       "      <td id=\"T_d290b_row0_col4\" class=\"data row0 col4\" >4,853,217</td>\n",
       "      <td id=\"T_d290b_row0_col5\" class=\"data row0 col5\" >673,577</td>\n",
       "      <td id=\"T_d290b_row0_col6\" class=\"data row0 col6\" >13.88%</td>\n",
       "    </tr>\n",
       "    <tr>\n",
       "      <th id=\"T_d290b_level0_row1\" class=\"row_heading level0 row1\" >130</th>\n",
       "      <td id=\"T_d290b_row1_col0\" class=\"data row1 col0\" >PTT</td>\n",
       "      <td id=\"T_d290b_row1_col1\" class=\"data row1 col1\" >2024</td>\n",
       "      <td id=\"T_d290b_row1_col2\" class=\"data row1 col2\" >Q3</td>\n",
       "      <td id=\"T_d290b_row1_col3\" class=\"data row1 col3\" >113,525,523</td>\n",
       "      <td id=\"T_d290b_row1_col4\" class=\"data row1 col4\" >97,130,880</td>\n",
       "      <td id=\"T_d290b_row1_col5\" class=\"data row1 col5\" >16,394,643</td>\n",
       "      <td id=\"T_d290b_row1_col6\" class=\"data row1 col6\" >16.88%</td>\n",
       "    </tr>\n",
       "    <tr>\n",
       "      <th id=\"T_d290b_level0_row2\" class=\"row_heading level0 row2\" >129</th>\n",
       "      <td id=\"T_d290b_row2_col0\" class=\"data row2 col0\" >PTG</td>\n",
       "      <td id=\"T_d290b_row2_col1\" class=\"data row2 col1\" >2024</td>\n",
       "      <td id=\"T_d290b_row2_col2\" class=\"data row2 col2\" >Q3</td>\n",
       "      <td id=\"T_d290b_row2_col3\" class=\"data row2 col3\" >1,329,197</td>\n",
       "      <td id=\"T_d290b_row2_col4\" class=\"data row2 col4\" >404,657</td>\n",
       "      <td id=\"T_d290b_row2_col5\" class=\"data row2 col5\" >924,540</td>\n",
       "      <td id=\"T_d290b_row2_col6\" class=\"data row2 col6\" >228.47%</td>\n",
       "    </tr>\n",
       "    <tr>\n",
       "      <th id=\"T_d290b_level0_row3\" class=\"row_heading level0 row3\" >36</th>\n",
       "      <td id=\"T_d290b_row3_col0\" class=\"data row3 col0\" >BLA</td>\n",
       "      <td id=\"T_d290b_row3_col1\" class=\"data row3 col1\" >2024</td>\n",
       "      <td id=\"T_d290b_row3_col2\" class=\"data row3 col2\" >Q3</td>\n",
       "      <td id=\"T_d290b_row3_col3\" class=\"data row3 col3\" >3,027,476</td>\n",
       "      <td id=\"T_d290b_row3_col4\" class=\"data row3 col4\" >2,469,505</td>\n",
       "      <td id=\"T_d290b_row3_col5\" class=\"data row3 col5\" >557,971</td>\n",
       "      <td id=\"T_d290b_row3_col6\" class=\"data row3 col6\" >22.59%</td>\n",
       "    </tr>\n",
       "    <tr>\n",
       "      <th id=\"T_d290b_level0_row4\" class=\"row_heading level0 row4\" >44</th>\n",
       "      <td id=\"T_d290b_row4_col0\" class=\"data row4 col0\" >CPALL</td>\n",
       "      <td id=\"T_d290b_row4_col1\" class=\"data row4 col1\" >2024</td>\n",
       "      <td id=\"T_d290b_row4_col2\" class=\"data row4 col2\" >Q3</td>\n",
       "      <td id=\"T_d290b_row4_col3\" class=\"data row4 col3\" >23,663,397</td>\n",
       "      <td id=\"T_d290b_row4_col4\" class=\"data row4 col4\" >16,123,203</td>\n",
       "      <td id=\"T_d290b_row4_col5\" class=\"data row4 col5\" >7,540,194</td>\n",
       "      <td id=\"T_d290b_row4_col6\" class=\"data row4 col6\" >46.77%</td>\n",
       "    </tr>\n",
       "  </tbody>\n",
       "</table>\n"
      ],
      "text/plain": [
       "<pandas.io.formats.style.Styler at 0x2c6229e30e0>"
      ]
     },
     "execution_count": 36,
     "metadata": {},
     "output_type": "execute_result"
    }
   ],
   "source": [
    "df_ins.loc[final_criteria, cols].sort_values(by=[\"name\"], ascending=[True]).sample(5).style.format(format_dict)"
   ]
  },
  {
   "cell_type": "code",
   "execution_count": 38,
   "metadata": {},
   "outputs": [],
   "source": [
    "conlt.commit()\n",
    "conlt.close()"
   ]
  },
  {
   "cell_type": "code",
   "execution_count": null,
   "metadata": {},
   "outputs": [],
   "source": []
  }
 ],
 "metadata": {
  "anaconda-cloud": {},
  "kernelspec": {
   "display_name": "Python 3 (ipykernel)",
   "language": "python",
   "name": "python3"
  },
  "language_info": {
   "codemirror_mode": {
    "name": "ipython",
    "version": 3
   },
   "file_extension": ".py",
   "mimetype": "text/x-python",
   "name": "python",
   "nbconvert_exporter": "python",
   "pygments_lexer": "ipython3",
   "version": "3.12.3"
  }
 },
 "nbformat": 4,
 "nbformat_minor": 4
}
