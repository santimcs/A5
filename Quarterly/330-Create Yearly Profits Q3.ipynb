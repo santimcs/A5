{
 "cells": [
  {
   "cell_type": "markdown",
   "metadata": {},
   "source": [
    "### Restart and Run All Cells"
   ]
  },
  {
   "cell_type": "code",
   "execution_count": 2,
   "metadata": {},
   "outputs": [
    {
     "data": {
      "text/plain": [
       "datetime.datetime(2025, 8, 16, 16, 26, 17, 483971)"
      ]
     },
     "execution_count": 2,
     "metadata": {},
     "output_type": "execute_result"
    }
   ],
   "source": [
    "import pandas as pd\n",
    "from datetime import date, timedelta, datetime\n",
    "from sqlalchemy import create_engine, text\n",
    "engine = create_engine(\"sqlite:///c:\\\\ruby\\\\portlt\\\\db\\\\development.sqlite3\")\n",
    "conlt = engine.connect()\n",
    "year = 2025\n",
    "quarter = 3\n",
    "today = date.today()\n",
    "today_str = today.strftime(\"%Y-%m-%d\")\n",
    "current_time = datetime.now()\n",
    "current_time"
   ]
  },
  {
   "cell_type": "code",
   "execution_count": 3,
   "metadata": {},
   "outputs": [],
   "source": [
    "cols = 'name year quarter q_amt_c q_amt_p inc_profit percent'.split()\n",
    "\n",
    "format_dict = {\n",
    "                'q_amt':'{:,}','q_amt_c':'{:,}','q_amt_p':'{:,}','inc_profit':'{:,}',\n",
    "                'yoy_gain':'{:,}','acc_gain':'{:,}',    \n",
    "                'q_eps':'{:.4f}','y_eps':'{:.4f}','aq_eps':'{:.4f}','ay_eps':'{:.4f}',\n",
    "                'percent':'{:.2f}%'\n",
    "              }"
   ]
  },
  {
   "cell_type": "code",
   "execution_count": 4,
   "metadata": {},
   "outputs": [
    {
     "name": "stdout",
     "output_type": "stream",
     "text": [
      "\n",
      "SELECT name,year,quarter,q_amt\n",
      "FROM epss \n",
      "WHERE (year = 2025 AND quarter <= 3) \n",
      "OR (year = 2025-1 AND quarter >= 3+1)\n",
      "ORDER BY year DESC, quarter DESC\n"
     ]
    }
   ],
   "source": [
    "sql = \"\"\"\n",
    "SELECT name,year,quarter,q_amt\n",
    "FROM epss \n",
    "WHERE (year = %s AND quarter <= %s) \n",
    "OR (year = %s-1 AND quarter >= %s+1)\n",
    "ORDER BY year DESC, quarter DESC\"\"\"\n",
    "sql = sql % (year, quarter, year, quarter)\n",
    "print(sql)"
   ]
  },
  {
   "cell_type": "code",
   "execution_count": 5,
   "metadata": {},
   "outputs": [
    {
     "data": {
      "text/html": [
       "<style type=\"text/css\">\n",
       "</style>\n",
       "<table id=\"T_ae00e\">\n",
       "  <thead>\n",
       "    <tr>\n",
       "      <th class=\"blank level0\" >&nbsp;</th>\n",
       "      <th id=\"T_ae00e_level0_col0\" class=\"col_heading level0 col0\" >name</th>\n",
       "      <th id=\"T_ae00e_level0_col1\" class=\"col_heading level0 col1\" >year</th>\n",
       "      <th id=\"T_ae00e_level0_col2\" class=\"col_heading level0 col2\" >quarter</th>\n",
       "      <th id=\"T_ae00e_level0_col3\" class=\"col_heading level0 col3\" >q_amt</th>\n",
       "      <th id=\"T_ae00e_level0_col4\" class=\"col_heading level0 col4\" >Counter</th>\n",
       "    </tr>\n",
       "  </thead>\n",
       "  <tbody>\n",
       "    <tr>\n",
       "      <th id=\"T_ae00e_level0_row0\" class=\"row_heading level0 row0\" >68</th>\n",
       "      <td id=\"T_ae00e_row0_col0\" class=\"data row0 col0\" >FPT</td>\n",
       "      <td id=\"T_ae00e_row0_col1\" class=\"data row0 col1\" >8099</td>\n",
       "      <td id=\"T_ae00e_row0_col2\" class=\"data row0 col2\" >10</td>\n",
       "      <td id=\"T_ae00e_row0_col3\" class=\"data row0 col3\" >1,825,089</td>\n",
       "      <td id=\"T_ae00e_row0_col4\" class=\"data row0 col4\" >4</td>\n",
       "    </tr>\n",
       "    <tr>\n",
       "      <th id=\"T_ae00e_level0_row1\" class=\"row_heading level0 row1\" >182</th>\n",
       "      <td id=\"T_ae00e_row1_col0\" class=\"data row1 col0\" >TFFIF</td>\n",
       "      <td id=\"T_ae00e_row1_col1\" class=\"data row1 col1\" >8099</td>\n",
       "      <td id=\"T_ae00e_row1_col2\" class=\"data row1 col2\" >10</td>\n",
       "      <td id=\"T_ae00e_row1_col3\" class=\"data row1 col3\" >-343,604</td>\n",
       "      <td id=\"T_ae00e_row1_col4\" class=\"data row1 col4\" >4</td>\n",
       "    </tr>\n",
       "    <tr>\n",
       "      <th id=\"T_ae00e_level0_row2\" class=\"row_heading level0 row2\" >11</th>\n",
       "      <td id=\"T_ae00e_row2_col0\" class=\"data row2 col0\" >AOT</td>\n",
       "      <td id=\"T_ae00e_row2_col1\" class=\"data row2 col1\" >8099</td>\n",
       "      <td id=\"T_ae00e_row2_col2\" class=\"data row2 col2\" >10</td>\n",
       "      <td id=\"T_ae00e_row2_col3\" class=\"data row2 col3\" >18,534,412</td>\n",
       "      <td id=\"T_ae00e_row2_col4\" class=\"data row2 col4\" >4</td>\n",
       "    </tr>\n",
       "    <tr>\n",
       "      <th id=\"T_ae00e_level0_row3\" class=\"row_heading level0 row3\" >78</th>\n",
       "      <td id=\"T_ae00e_row3_col0\" class=\"data row3 col0\" >GVREIT</td>\n",
       "      <td id=\"T_ae00e_row3_col1\" class=\"data row3 col1\" >8099</td>\n",
       "      <td id=\"T_ae00e_row3_col2\" class=\"data row3 col2\" >10</td>\n",
       "      <td id=\"T_ae00e_row3_col3\" class=\"data row3 col3\" >512,654</td>\n",
       "      <td id=\"T_ae00e_row3_col4\" class=\"data row3 col4\" >4</td>\n",
       "    </tr>\n",
       "    <tr>\n",
       "      <th id=\"T_ae00e_level0_row4\" class=\"row_heading level0 row4\" >114</th>\n",
       "      <td id=\"T_ae00e_row4_col0\" class=\"data row4 col0\" >MC</td>\n",
       "      <td id=\"T_ae00e_row4_col1\" class=\"data row4 col1\" >8099</td>\n",
       "      <td id=\"T_ae00e_row4_col2\" class=\"data row4 col2\" >10</td>\n",
       "      <td id=\"T_ae00e_row4_col3\" class=\"data row4 col3\" >762,095</td>\n",
       "      <td id=\"T_ae00e_row4_col4\" class=\"data row4 col4\" >4</td>\n",
       "    </tr>\n",
       "  </tbody>\n",
       "</table>\n"
      ],
      "text/plain": [
       "<pandas.io.formats.style.Styler at 0x230b3d7f890>"
      ]
     },
     "execution_count": 5,
     "metadata": {},
     "output_type": "execute_result"
    }
   ],
   "source": [
    "dfc = pd.read_sql(sql, conlt)\n",
    "dfc[\"Counter\"] = 1\n",
    "dfc_grp = dfc.groupby([\"name\"], as_index=False).sum()\n",
    "dfc_grp = dfc_grp[dfc_grp[\"Counter\"] == 4]\n",
    "dfc_grp.sample(5).style.format(format_dict)"
   ]
  },
  {
   "cell_type": "code",
   "execution_count": 6,
   "metadata": {},
   "outputs": [
    {
     "name": "stdout",
     "output_type": "stream",
     "text": [
      "\n",
      "SELECT name,year,quarter,q_amt\n",
      "FROM epss \n",
      "WHERE (year = 2025-1 AND quarter <= 3) \n",
      "OR (year = 2025-2 AND quarter >= 3+1)\n",
      "ORDER BY year DESC, quarter DESC\n",
      "\n"
     ]
    }
   ],
   "source": [
    "sql = \"\"\"\n",
    "SELECT name,year,quarter,q_amt\n",
    "FROM epss \n",
    "WHERE (year = %s-1 AND quarter <= %s) \n",
    "OR (year = %s-2 AND quarter >= %s+1)\n",
    "ORDER BY year DESC, quarter DESC\n",
    "\"\"\"\n",
    "sql = sql % (year, quarter, year, quarter)\n",
    "print(sql)"
   ]
  },
  {
   "cell_type": "code",
   "execution_count": 7,
   "metadata": {},
   "outputs": [
    {
     "data": {
      "text/html": [
       "<style type=\"text/css\">\n",
       "</style>\n",
       "<table id=\"T_d212c\">\n",
       "  <thead>\n",
       "    <tr>\n",
       "      <th class=\"blank level0\" >&nbsp;</th>\n",
       "      <th id=\"T_d212c_level0_col0\" class=\"col_heading level0 col0\" >name</th>\n",
       "      <th id=\"T_d212c_level0_col1\" class=\"col_heading level0 col1\" >year</th>\n",
       "      <th id=\"T_d212c_level0_col2\" class=\"col_heading level0 col2\" >quarter</th>\n",
       "      <th id=\"T_d212c_level0_col3\" class=\"col_heading level0 col3\" >q_amt</th>\n",
       "      <th id=\"T_d212c_level0_col4\" class=\"col_heading level0 col4\" >Counter</th>\n",
       "    </tr>\n",
       "  </thead>\n",
       "  <tbody>\n",
       "    <tr>\n",
       "      <th id=\"T_d212c_level0_row0\" class=\"row_heading level0 row0\" >123</th>\n",
       "      <td id=\"T_d212c_row0_col0\" class=\"data row0 col0\" >NOBLE</td>\n",
       "      <td id=\"T_d212c_row0_col1\" class=\"data row0 col1\" >8095</td>\n",
       "      <td id=\"T_d212c_row0_col2\" class=\"data row0 col2\" >10</td>\n",
       "      <td id=\"T_d212c_row0_col3\" class=\"data row0 col3\" >390,978</td>\n",
       "      <td id=\"T_d212c_row0_col4\" class=\"data row0 col4\" >4</td>\n",
       "    </tr>\n",
       "    <tr>\n",
       "      <th id=\"T_d212c_level0_row1\" class=\"row_heading level0 row1\" >175</th>\n",
       "      <td id=\"T_d212c_row1_col0\" class=\"data row1 col0\" >STA</td>\n",
       "      <td id=\"T_d212c_row1_col1\" class=\"data row1 col1\" >8095</td>\n",
       "      <td id=\"T_d212c_row1_col2\" class=\"data row1 col2\" >10</td>\n",
       "      <td id=\"T_d212c_row1_col3\" class=\"data row1 col3\" >393,990</td>\n",
       "      <td id=\"T_d212c_row1_col4\" class=\"data row1 col4\" >4</td>\n",
       "    </tr>\n",
       "    <tr>\n",
       "      <th id=\"T_d212c_level0_row2\" class=\"row_heading level0 row2\" >69</th>\n",
       "      <td id=\"T_d212c_row2_col0\" class=\"data row2 col0\" >FPT</td>\n",
       "      <td id=\"T_d212c_row2_col1\" class=\"data row2 col1\" >8095</td>\n",
       "      <td id=\"T_d212c_row2_col2\" class=\"data row2 col2\" >10</td>\n",
       "      <td id=\"T_d212c_row2_col3\" class=\"data row2 col3\" >1,636,546</td>\n",
       "      <td id=\"T_d212c_row2_col4\" class=\"data row2 col4\" >4</td>\n",
       "    </tr>\n",
       "    <tr>\n",
       "      <th id=\"T_d212c_level0_row3\" class=\"row_heading level0 row3\" >144</th>\n",
       "      <td id=\"T_d212c_row3_col0\" class=\"data row3 col0\" >RBF</td>\n",
       "      <td id=\"T_d212c_row3_col1\" class=\"data row3 col1\" >8095</td>\n",
       "      <td id=\"T_d212c_row3_col2\" class=\"data row3 col2\" >10</td>\n",
       "      <td id=\"T_d212c_row3_col3\" class=\"data row3 col3\" >522,917</td>\n",
       "      <td id=\"T_d212c_row3_col4\" class=\"data row3 col4\" >4</td>\n",
       "    </tr>\n",
       "    <tr>\n",
       "      <th id=\"T_d212c_level0_row4\" class=\"row_heading level0 row4\" >59</th>\n",
       "      <td id=\"T_d212c_row4_col0\" class=\"data row4 col0\" >DIF</td>\n",
       "      <td id=\"T_d212c_row4_col1\" class=\"data row4 col1\" >8095</td>\n",
       "      <td id=\"T_d212c_row4_col2\" class=\"data row4 col2\" >10</td>\n",
       "      <td id=\"T_d212c_row4_col3\" class=\"data row4 col3\" >7,710,754</td>\n",
       "      <td id=\"T_d212c_row4_col4\" class=\"data row4 col4\" >4</td>\n",
       "    </tr>\n",
       "  </tbody>\n",
       "</table>\n"
      ],
      "text/plain": [
       "<pandas.io.formats.style.Styler at 0x230b6ec4590>"
      ]
     },
     "execution_count": 7,
     "metadata": {},
     "output_type": "execute_result"
    }
   ],
   "source": [
    "dfp = pd.read_sql(sql, conlt)\n",
    "dfp[\"Counter\"] = 1\n",
    "dfp_grp = dfp.groupby([\"name\"], as_index=False).sum()\n",
    "dfp_grp = dfp_grp[dfp_grp[\"Counter\"] == 4]\n",
    "dfp_grp.sample(5).style.format(format_dict)"
   ]
  },
  {
   "cell_type": "code",
   "execution_count": 8,
   "metadata": {},
   "outputs": [
    {
     "data": {
      "text/html": [
       "<style type=\"text/css\">\n",
       "</style>\n",
       "<table id=\"T_d7cd3\">\n",
       "  <thead>\n",
       "    <tr>\n",
       "      <th class=\"blank level0\" >&nbsp;</th>\n",
       "      <th id=\"T_d7cd3_level0_col0\" class=\"col_heading level0 col0\" >name</th>\n",
       "      <th id=\"T_d7cd3_level0_col1\" class=\"col_heading level0 col1\" >year</th>\n",
       "      <th id=\"T_d7cd3_level0_col2\" class=\"col_heading level0 col2\" >quarter</th>\n",
       "      <th id=\"T_d7cd3_level0_col3\" class=\"col_heading level0 col3\" >q_amt_c</th>\n",
       "      <th id=\"T_d7cd3_level0_col4\" class=\"col_heading level0 col4\" >q_amt_p</th>\n",
       "      <th id=\"T_d7cd3_level0_col5\" class=\"col_heading level0 col5\" >inc_profit</th>\n",
       "      <th id=\"T_d7cd3_level0_col6\" class=\"col_heading level0 col6\" >percent</th>\n",
       "    </tr>\n",
       "  </thead>\n",
       "  <tbody>\n",
       "    <tr>\n",
       "      <th id=\"T_d7cd3_level0_row0\" class=\"row_heading level0 row0\" >2</th>\n",
       "      <td id=\"T_d7cd3_row0_col0\" class=\"data row0 col0\" >GVREIT</td>\n",
       "      <td id=\"T_d7cd3_row0_col1\" class=\"data row0 col1\" >2025</td>\n",
       "      <td id=\"T_d7cd3_row0_col2\" class=\"data row0 col2\" >Q3</td>\n",
       "      <td id=\"T_d7cd3_row0_col3\" class=\"data row0 col3\" >512,654</td>\n",
       "      <td id=\"T_d7cd3_row0_col4\" class=\"data row0 col4\" >523,108</td>\n",
       "      <td id=\"T_d7cd3_row0_col5\" class=\"data row0 col5\" >-10,454</td>\n",
       "      <td id=\"T_d7cd3_row0_col6\" class=\"data row0 col6\" >-2.00%</td>\n",
       "    </tr>\n",
       "    <tr>\n",
       "      <th id=\"T_d7cd3_level0_row1\" class=\"row_heading level0 row1\" >4</th>\n",
       "      <td id=\"T_d7cd3_row1_col0\" class=\"data row1 col0\" >TFFIF</td>\n",
       "      <td id=\"T_d7cd3_row1_col1\" class=\"data row1 col1\" >2025</td>\n",
       "      <td id=\"T_d7cd3_row1_col2\" class=\"data row1 col2\" >Q3</td>\n",
       "      <td id=\"T_d7cd3_row1_col3\" class=\"data row1 col3\" >-343,604</td>\n",
       "      <td id=\"T_d7cd3_row1_col4\" class=\"data row1 col4\" >9,534,817</td>\n",
       "      <td id=\"T_d7cd3_row1_col5\" class=\"data row1 col5\" >-9,878,421</td>\n",
       "      <td id=\"T_d7cd3_row1_col6\" class=\"data row1 col6\" >-103.60%</td>\n",
       "    </tr>\n",
       "    <tr>\n",
       "      <th id=\"T_d7cd3_level0_row2\" class=\"row_heading level0 row2\" >1</th>\n",
       "      <td id=\"T_d7cd3_row2_col0\" class=\"data row2 col0\" >FPT</td>\n",
       "      <td id=\"T_d7cd3_row2_col1\" class=\"data row2 col1\" >2025</td>\n",
       "      <td id=\"T_d7cd3_row2_col2\" class=\"data row2 col2\" >Q3</td>\n",
       "      <td id=\"T_d7cd3_row2_col3\" class=\"data row2 col3\" >1,825,089</td>\n",
       "      <td id=\"T_d7cd3_row2_col4\" class=\"data row2 col4\" >1,636,546</td>\n",
       "      <td id=\"T_d7cd3_row2_col5\" class=\"data row2 col5\" >188,543</td>\n",
       "      <td id=\"T_d7cd3_row2_col6\" class=\"data row2 col6\" >11.52%</td>\n",
       "    </tr>\n",
       "    <tr>\n",
       "      <th id=\"T_d7cd3_level0_row3\" class=\"row_heading level0 row3\" >3</th>\n",
       "      <td id=\"T_d7cd3_row3_col0\" class=\"data row3 col0\" >MC</td>\n",
       "      <td id=\"T_d7cd3_row3_col1\" class=\"data row3 col1\" >2025</td>\n",
       "      <td id=\"T_d7cd3_row3_col2\" class=\"data row3 col2\" >Q3</td>\n",
       "      <td id=\"T_d7cd3_row3_col3\" class=\"data row3 col3\" >762,095</td>\n",
       "      <td id=\"T_d7cd3_row3_col4\" class=\"data row3 col4\" >694,892</td>\n",
       "      <td id=\"T_d7cd3_row3_col5\" class=\"data row3 col5\" >67,203</td>\n",
       "      <td id=\"T_d7cd3_row3_col6\" class=\"data row3 col6\" >9.67%</td>\n",
       "    </tr>\n",
       "    <tr>\n",
       "      <th id=\"T_d7cd3_level0_row4\" class=\"row_heading level0 row4\" >0</th>\n",
       "      <td id=\"T_d7cd3_row4_col0\" class=\"data row4 col0\" >AOT</td>\n",
       "      <td id=\"T_d7cd3_row4_col1\" class=\"data row4 col1\" >2025</td>\n",
       "      <td id=\"T_d7cd3_row4_col2\" class=\"data row4 col2\" >Q3</td>\n",
       "      <td id=\"T_d7cd3_row4_col3\" class=\"data row4 col3\" >18,534,412</td>\n",
       "      <td id=\"T_d7cd3_row4_col4\" class=\"data row4 col4\" >18,342,282</td>\n",
       "      <td id=\"T_d7cd3_row4_col5\" class=\"data row4 col5\" >192,130</td>\n",
       "      <td id=\"T_d7cd3_row4_col6\" class=\"data row4 col6\" >1.05%</td>\n",
       "    </tr>\n",
       "  </tbody>\n",
       "</table>\n"
      ],
      "text/plain": [
       "<pandas.io.formats.style.Styler at 0x230b6f32900>"
      ]
     },
     "execution_count": 8,
     "metadata": {},
     "output_type": "execute_result"
    }
   ],
   "source": [
    "dfm = pd.merge(dfc_grp, dfp_grp, on=\"name\", suffixes=([\"_c\", \"_p\"]), how=\"inner\")\n",
    "dfm[\"inc_profit\"] = dfm[\"q_amt_c\"] - dfm[\"q_amt_p\"]\n",
    "dfm[\"percent\"] = round(dfm[\"inc_profit\"] / abs(dfm[\"q_amt_p\"]) * 100, 2)\n",
    "dfm[\"year\"] = year\n",
    "dfm[\"quarter\"] = \"Q\" + str(quarter)\n",
    "df_percent = dfm[cols]\n",
    "df_percent.sample(5).style.format(format_dict)"
   ]
  },
  {
   "cell_type": "code",
   "execution_count": 9,
   "metadata": {},
   "outputs": [
    {
     "name": "stdout",
     "output_type": "stream",
     "text": [
      "Rows deleted: 0\n"
     ]
    }
   ],
   "source": [
    "# Create the SQL query with parameter binding\n",
    "sql = text(\"DELETE FROM yr_profits WHERE year = :year AND quarter = :quarter\")\n",
    "\n",
    "# Execute the query with parameters\n",
    "params = {'year': year, 'quarter': f'Q{quarter}'}\n",
    "rp = conlt.execute(sql, params)\n",
    "\n",
    "# Print the number of rows affected\n",
    "print(\"Rows deleted:\", rp.rowcount)"
   ]
  },
  {
   "cell_type": "code",
   "execution_count": 10,
   "metadata": {},
   "outputs": [
    {
     "data": {
      "text/plain": [
       "5"
      ]
     },
     "execution_count": 10,
     "metadata": {},
     "output_type": "execute_result"
    }
   ],
   "source": [
    "sql = \"SELECT name, id FROM tickers\"\n",
    "tickers = pd.read_sql(sql, conlt)\n",
    "df_ins = pd.merge(df_percent, tickers, on=\"name\", how=\"inner\")\n",
    "rcds = df_ins.values.tolist()\n",
    "len(rcds)"
   ]
  },
  {
   "cell_type": "code",
   "execution_count": 11,
   "metadata": {},
   "outputs": [],
   "source": [
    "# Convert DataFrame to list of records\n",
    "rcds = df_ins.values.tolist()\n",
    "\n",
    "# Define column names in the same order as values\n",
    "columns = ['name', 'year', 'quarter', 'latest_amt', 'previous_amt', 'inc_amt', 'inc_pct', 'ticker_id']\n",
    "\n",
    "# SQL insert statement with named parameters\n",
    "sql = text(\"\"\"\n",
    "    INSERT INTO yr_profits \n",
    "    (name, year, quarter, latest_amt, previous_amt, inc_amt, inc_pct, ticker_id)\n",
    "    VALUES (:name, :year, :quarter, :latest_amt, :previous_amt, :inc_amt, :inc_pct, :ticker_id)\n",
    "\"\"\")\n",
    "\n",
    "try:\n",
    "    # Execute inserts\n",
    "    for rcd in rcds:\n",
    "        # Convert list to dictionary\n",
    "        params = dict(zip(columns, rcd))\n",
    "        conlt.execute(sql, params)\n",
    "except Exception as e:\n",
    "    raise e"
   ]
  },
  {
   "cell_type": "markdown",
   "metadata": {},
   "source": [
    "### End of loop"
   ]
  },
  {
   "cell_type": "code",
   "execution_count": 14,
   "metadata": {},
   "outputs": [
    {
     "data": {
      "text/html": [
       "<style type=\"text/css\">\n",
       "</style>\n",
       "<table id=\"T_b4b81\">\n",
       "  <thead>\n",
       "    <tr>\n",
       "      <th class=\"blank level0\" >&nbsp;</th>\n",
       "      <th id=\"T_b4b81_level0_col0\" class=\"col_heading level0 col0\" >name</th>\n",
       "      <th id=\"T_b4b81_level0_col1\" class=\"col_heading level0 col1\" >year</th>\n",
       "      <th id=\"T_b4b81_level0_col2\" class=\"col_heading level0 col2\" >quarter</th>\n",
       "      <th id=\"T_b4b81_level0_col3\" class=\"col_heading level0 col3\" >q_amt_c</th>\n",
       "      <th id=\"T_b4b81_level0_col4\" class=\"col_heading level0 col4\" >q_amt_p</th>\n",
       "      <th id=\"T_b4b81_level0_col5\" class=\"col_heading level0 col5\" >inc_profit</th>\n",
       "      <th id=\"T_b4b81_level0_col6\" class=\"col_heading level0 col6\" >percent</th>\n",
       "    </tr>\n",
       "  </thead>\n",
       "  <tbody>\n",
       "    <tr>\n",
       "      <th id=\"T_b4b81_level0_row0\" class=\"row_heading level0 row0\" >0</th>\n",
       "      <td id=\"T_b4b81_row0_col0\" class=\"data row0 col0\" >AOT</td>\n",
       "      <td id=\"T_b4b81_row0_col1\" class=\"data row0 col1\" >2025</td>\n",
       "      <td id=\"T_b4b81_row0_col2\" class=\"data row0 col2\" >Q3</td>\n",
       "      <td id=\"T_b4b81_row0_col3\" class=\"data row0 col3\" >18,534,412</td>\n",
       "      <td id=\"T_b4b81_row0_col4\" class=\"data row0 col4\" >18,342,282</td>\n",
       "      <td id=\"T_b4b81_row0_col5\" class=\"data row0 col5\" >192,130</td>\n",
       "      <td id=\"T_b4b81_row0_col6\" class=\"data row0 col6\" >1.05%</td>\n",
       "    </tr>\n",
       "    <tr>\n",
       "      <th id=\"T_b4b81_level0_row1\" class=\"row_heading level0 row1\" >1</th>\n",
       "      <td id=\"T_b4b81_row1_col0\" class=\"data row1 col0\" >FPT</td>\n",
       "      <td id=\"T_b4b81_row1_col1\" class=\"data row1 col1\" >2025</td>\n",
       "      <td id=\"T_b4b81_row1_col2\" class=\"data row1 col2\" >Q3</td>\n",
       "      <td id=\"T_b4b81_row1_col3\" class=\"data row1 col3\" >1,825,089</td>\n",
       "      <td id=\"T_b4b81_row1_col4\" class=\"data row1 col4\" >1,636,546</td>\n",
       "      <td id=\"T_b4b81_row1_col5\" class=\"data row1 col5\" >188,543</td>\n",
       "      <td id=\"T_b4b81_row1_col6\" class=\"data row1 col6\" >11.52%</td>\n",
       "    </tr>\n",
       "    <tr>\n",
       "      <th id=\"T_b4b81_level0_row2\" class=\"row_heading level0 row2\" >2</th>\n",
       "      <td id=\"T_b4b81_row2_col0\" class=\"data row2 col0\" >GVREIT</td>\n",
       "      <td id=\"T_b4b81_row2_col1\" class=\"data row2 col1\" >2025</td>\n",
       "      <td id=\"T_b4b81_row2_col2\" class=\"data row2 col2\" >Q3</td>\n",
       "      <td id=\"T_b4b81_row2_col3\" class=\"data row2 col3\" >512,654</td>\n",
       "      <td id=\"T_b4b81_row2_col4\" class=\"data row2 col4\" >523,108</td>\n",
       "      <td id=\"T_b4b81_row2_col5\" class=\"data row2 col5\" >-10,454</td>\n",
       "      <td id=\"T_b4b81_row2_col6\" class=\"data row2 col6\" >-2.00%</td>\n",
       "    </tr>\n",
       "    <tr>\n",
       "      <th id=\"T_b4b81_level0_row3\" class=\"row_heading level0 row3\" >3</th>\n",
       "      <td id=\"T_b4b81_row3_col0\" class=\"data row3 col0\" >MC</td>\n",
       "      <td id=\"T_b4b81_row3_col1\" class=\"data row3 col1\" >2025</td>\n",
       "      <td id=\"T_b4b81_row3_col2\" class=\"data row3 col2\" >Q3</td>\n",
       "      <td id=\"T_b4b81_row3_col3\" class=\"data row3 col3\" >762,095</td>\n",
       "      <td id=\"T_b4b81_row3_col4\" class=\"data row3 col4\" >694,892</td>\n",
       "      <td id=\"T_b4b81_row3_col5\" class=\"data row3 col5\" >67,203</td>\n",
       "      <td id=\"T_b4b81_row3_col6\" class=\"data row3 col6\" >9.67%</td>\n",
       "    </tr>\n",
       "  </tbody>\n",
       "</table>\n"
      ],
      "text/plain": [
       "<pandas.io.formats.style.Styler at 0x230b6f329f0>"
      ]
     },
     "execution_count": 14,
     "metadata": {},
     "output_type": "execute_result"
    }
   ],
   "source": [
    "criteria_1 = df_ins.q_amt_c > 440_000\n",
    "df_ins.loc[criteria_1, cols].style.format(format_dict)"
   ]
  },
  {
   "cell_type": "code",
   "execution_count": 16,
   "metadata": {},
   "outputs": [
    {
     "data": {
      "text/html": [
       "<style type=\"text/css\">\n",
       "</style>\n",
       "<table id=\"T_b267f\">\n",
       "  <thead>\n",
       "    <tr>\n",
       "      <th class=\"blank level0\" >&nbsp;</th>\n",
       "      <th id=\"T_b267f_level0_col0\" class=\"col_heading level0 col0\" >name</th>\n",
       "      <th id=\"T_b267f_level0_col1\" class=\"col_heading level0 col1\" >year</th>\n",
       "      <th id=\"T_b267f_level0_col2\" class=\"col_heading level0 col2\" >quarter</th>\n",
       "      <th id=\"T_b267f_level0_col3\" class=\"col_heading level0 col3\" >q_amt_c</th>\n",
       "      <th id=\"T_b267f_level0_col4\" class=\"col_heading level0 col4\" >q_amt_p</th>\n",
       "      <th id=\"T_b267f_level0_col5\" class=\"col_heading level0 col5\" >inc_profit</th>\n",
       "      <th id=\"T_b267f_level0_col6\" class=\"col_heading level0 col6\" >percent</th>\n",
       "    </tr>\n",
       "  </thead>\n",
       "  <tbody>\n",
       "    <tr>\n",
       "      <th id=\"T_b267f_level0_row0\" class=\"row_heading level0 row0\" >0</th>\n",
       "      <td id=\"T_b267f_row0_col0\" class=\"data row0 col0\" >AOT</td>\n",
       "      <td id=\"T_b267f_row0_col1\" class=\"data row0 col1\" >2025</td>\n",
       "      <td id=\"T_b267f_row0_col2\" class=\"data row0 col2\" >Q3</td>\n",
       "      <td id=\"T_b267f_row0_col3\" class=\"data row0 col3\" >18,534,412</td>\n",
       "      <td id=\"T_b267f_row0_col4\" class=\"data row0 col4\" >18,342,282</td>\n",
       "      <td id=\"T_b267f_row0_col5\" class=\"data row0 col5\" >192,130</td>\n",
       "      <td id=\"T_b267f_row0_col6\" class=\"data row0 col6\" >1.05%</td>\n",
       "    </tr>\n",
       "    <tr>\n",
       "      <th id=\"T_b267f_level0_row1\" class=\"row_heading level0 row1\" >1</th>\n",
       "      <td id=\"T_b267f_row1_col0\" class=\"data row1 col0\" >FPT</td>\n",
       "      <td id=\"T_b267f_row1_col1\" class=\"data row1 col1\" >2025</td>\n",
       "      <td id=\"T_b267f_row1_col2\" class=\"data row1 col2\" >Q3</td>\n",
       "      <td id=\"T_b267f_row1_col3\" class=\"data row1 col3\" >1,825,089</td>\n",
       "      <td id=\"T_b267f_row1_col4\" class=\"data row1 col4\" >1,636,546</td>\n",
       "      <td id=\"T_b267f_row1_col5\" class=\"data row1 col5\" >188,543</td>\n",
       "      <td id=\"T_b267f_row1_col6\" class=\"data row1 col6\" >11.52%</td>\n",
       "    </tr>\n",
       "    <tr>\n",
       "      <th id=\"T_b267f_level0_row2\" class=\"row_heading level0 row2\" >2</th>\n",
       "      <td id=\"T_b267f_row2_col0\" class=\"data row2 col0\" >GVREIT</td>\n",
       "      <td id=\"T_b267f_row2_col1\" class=\"data row2 col1\" >2025</td>\n",
       "      <td id=\"T_b267f_row2_col2\" class=\"data row2 col2\" >Q3</td>\n",
       "      <td id=\"T_b267f_row2_col3\" class=\"data row2 col3\" >512,654</td>\n",
       "      <td id=\"T_b267f_row2_col4\" class=\"data row2 col4\" >523,108</td>\n",
       "      <td id=\"T_b267f_row2_col5\" class=\"data row2 col5\" >-10,454</td>\n",
       "      <td id=\"T_b267f_row2_col6\" class=\"data row2 col6\" >-2.00%</td>\n",
       "    </tr>\n",
       "    <tr>\n",
       "      <th id=\"T_b267f_level0_row3\" class=\"row_heading level0 row3\" >3</th>\n",
       "      <td id=\"T_b267f_row3_col0\" class=\"data row3 col0\" >MC</td>\n",
       "      <td id=\"T_b267f_row3_col1\" class=\"data row3 col1\" >2025</td>\n",
       "      <td id=\"T_b267f_row3_col2\" class=\"data row3 col2\" >Q3</td>\n",
       "      <td id=\"T_b267f_row3_col3\" class=\"data row3 col3\" >762,095</td>\n",
       "      <td id=\"T_b267f_row3_col4\" class=\"data row3 col4\" >694,892</td>\n",
       "      <td id=\"T_b267f_row3_col5\" class=\"data row3 col5\" >67,203</td>\n",
       "      <td id=\"T_b267f_row3_col6\" class=\"data row3 col6\" >9.67%</td>\n",
       "    </tr>\n",
       "    <tr>\n",
       "      <th id=\"T_b267f_level0_row4\" class=\"row_heading level0 row4\" >4</th>\n",
       "      <td id=\"T_b267f_row4_col0\" class=\"data row4 col0\" >TFFIF</td>\n",
       "      <td id=\"T_b267f_row4_col1\" class=\"data row4 col1\" >2025</td>\n",
       "      <td id=\"T_b267f_row4_col2\" class=\"data row4 col2\" >Q3</td>\n",
       "      <td id=\"T_b267f_row4_col3\" class=\"data row4 col3\" >-343,604</td>\n",
       "      <td id=\"T_b267f_row4_col4\" class=\"data row4 col4\" >9,534,817</td>\n",
       "      <td id=\"T_b267f_row4_col5\" class=\"data row4 col5\" >-9,878,421</td>\n",
       "      <td id=\"T_b267f_row4_col6\" class=\"data row4 col6\" >-103.60%</td>\n",
       "    </tr>\n",
       "  </tbody>\n",
       "</table>\n"
      ],
      "text/plain": [
       "<pandas.io.formats.style.Styler at 0x230b6e3daf0>"
      ]
     },
     "execution_count": 16,
     "metadata": {},
     "output_type": "execute_result"
    }
   ],
   "source": [
    "criteria_2 = df_ins.q_amt_p > 400_000\n",
    "df_ins.loc[criteria_2, cols].style.format(format_dict)"
   ]
  },
  {
   "cell_type": "code",
   "execution_count": 18,
   "metadata": {},
   "outputs": [
    {
     "data": {
      "text/html": [
       "<style type=\"text/css\">\n",
       "</style>\n",
       "<table id=\"T_2c2b9\">\n",
       "  <thead>\n",
       "    <tr>\n",
       "      <th class=\"blank level0\" >&nbsp;</th>\n",
       "      <th id=\"T_2c2b9_level0_col0\" class=\"col_heading level0 col0\" >name</th>\n",
       "      <th id=\"T_2c2b9_level0_col1\" class=\"col_heading level0 col1\" >year</th>\n",
       "      <th id=\"T_2c2b9_level0_col2\" class=\"col_heading level0 col2\" >quarter</th>\n",
       "      <th id=\"T_2c2b9_level0_col3\" class=\"col_heading level0 col3\" >q_amt_c</th>\n",
       "      <th id=\"T_2c2b9_level0_col4\" class=\"col_heading level0 col4\" >q_amt_p</th>\n",
       "      <th id=\"T_2c2b9_level0_col5\" class=\"col_heading level0 col5\" >inc_profit</th>\n",
       "      <th id=\"T_2c2b9_level0_col6\" class=\"col_heading level0 col6\" >percent</th>\n",
       "    </tr>\n",
       "  </thead>\n",
       "  <tbody>\n",
       "    <tr>\n",
       "      <th id=\"T_2c2b9_level0_row0\" class=\"row_heading level0 row0\" >1</th>\n",
       "      <td id=\"T_2c2b9_row0_col0\" class=\"data row0 col0\" >FPT</td>\n",
       "      <td id=\"T_2c2b9_row0_col1\" class=\"data row0 col1\" >2025</td>\n",
       "      <td id=\"T_2c2b9_row0_col2\" class=\"data row0 col2\" >Q3</td>\n",
       "      <td id=\"T_2c2b9_row0_col3\" class=\"data row0 col3\" >1,825,089</td>\n",
       "      <td id=\"T_2c2b9_row0_col4\" class=\"data row0 col4\" >1,636,546</td>\n",
       "      <td id=\"T_2c2b9_row0_col5\" class=\"data row0 col5\" >188,543</td>\n",
       "      <td id=\"T_2c2b9_row0_col6\" class=\"data row0 col6\" >11.52%</td>\n",
       "    </tr>\n",
       "  </tbody>\n",
       "</table>\n"
      ],
      "text/plain": [
       "<pandas.io.formats.style.Styler at 0x230b6bd4a10>"
      ]
     },
     "execution_count": 18,
     "metadata": {},
     "output_type": "execute_result"
    }
   ],
   "source": [
    "criteria_3 = df_ins.percent > 10.00\n",
    "df_ins.loc[criteria_3, cols].style.format(format_dict)"
   ]
  },
  {
   "cell_type": "code",
   "execution_count": 22,
   "metadata": {},
   "outputs": [
    {
     "data": {
      "text/html": [
       "<style type=\"text/css\">\n",
       "</style>\n",
       "<table id=\"T_97640\">\n",
       "  <thead>\n",
       "    <tr>\n",
       "      <th class=\"blank level0\" >&nbsp;</th>\n",
       "      <th id=\"T_97640_level0_col0\" class=\"col_heading level0 col0\" >name</th>\n",
       "      <th id=\"T_97640_level0_col1\" class=\"col_heading level0 col1\" >year</th>\n",
       "      <th id=\"T_97640_level0_col2\" class=\"col_heading level0 col2\" >quarter</th>\n",
       "      <th id=\"T_97640_level0_col3\" class=\"col_heading level0 col3\" >q_amt_c</th>\n",
       "      <th id=\"T_97640_level0_col4\" class=\"col_heading level0 col4\" >q_amt_p</th>\n",
       "      <th id=\"T_97640_level0_col5\" class=\"col_heading level0 col5\" >inc_profit</th>\n",
       "      <th id=\"T_97640_level0_col6\" class=\"col_heading level0 col6\" >percent</th>\n",
       "    </tr>\n",
       "  </thead>\n",
       "  <tbody>\n",
       "    <tr>\n",
       "      <th id=\"T_97640_level0_row0\" class=\"row_heading level0 row0\" >1</th>\n",
       "      <td id=\"T_97640_row0_col0\" class=\"data row0 col0\" >FPT</td>\n",
       "      <td id=\"T_97640_row0_col1\" class=\"data row0 col1\" >2025</td>\n",
       "      <td id=\"T_97640_row0_col2\" class=\"data row0 col2\" >Q3</td>\n",
       "      <td id=\"T_97640_row0_col3\" class=\"data row0 col3\" >1,825,089</td>\n",
       "      <td id=\"T_97640_row0_col4\" class=\"data row0 col4\" >1,636,546</td>\n",
       "      <td id=\"T_97640_row0_col5\" class=\"data row0 col5\" >188,543</td>\n",
       "      <td id=\"T_97640_row0_col6\" class=\"data row0 col6\" >11.52%</td>\n",
       "    </tr>\n",
       "  </tbody>\n",
       "</table>\n"
      ],
      "text/plain": [
       "<pandas.io.formats.style.Styler at 0x230b5b44b30>"
      ]
     },
     "execution_count": 22,
     "metadata": {},
     "output_type": "execute_result"
    }
   ],
   "source": [
    "final_criteria = criteria_1 & criteria_2 & criteria_3\n",
    "df_ins.loc[final_criteria, cols].sort_values(by=[\"percent\"], ascending=[False]).style.format(format_dict)"
   ]
  },
  {
   "cell_type": "code",
   "execution_count": 24,
   "metadata": {},
   "outputs": [
    {
     "data": {
      "text/html": [
       "<style type=\"text/css\">\n",
       "</style>\n",
       "<table id=\"T_559b4\">\n",
       "  <thead>\n",
       "    <tr>\n",
       "      <th class=\"blank level0\" >&nbsp;</th>\n",
       "      <th id=\"T_559b4_level0_col0\" class=\"col_heading level0 col0\" >name</th>\n",
       "      <th id=\"T_559b4_level0_col1\" class=\"col_heading level0 col1\" >year</th>\n",
       "      <th id=\"T_559b4_level0_col2\" class=\"col_heading level0 col2\" >quarter</th>\n",
       "      <th id=\"T_559b4_level0_col3\" class=\"col_heading level0 col3\" >q_amt_c</th>\n",
       "      <th id=\"T_559b4_level0_col4\" class=\"col_heading level0 col4\" >q_amt_p</th>\n",
       "      <th id=\"T_559b4_level0_col5\" class=\"col_heading level0 col5\" >inc_profit</th>\n",
       "      <th id=\"T_559b4_level0_col6\" class=\"col_heading level0 col6\" >percent</th>\n",
       "    </tr>\n",
       "  </thead>\n",
       "  <tbody>\n",
       "    <tr>\n",
       "      <th id=\"T_559b4_level0_row0\" class=\"row_heading level0 row0\" >1</th>\n",
       "      <td id=\"T_559b4_row0_col0\" class=\"data row0 col0\" >FPT</td>\n",
       "      <td id=\"T_559b4_row0_col1\" class=\"data row0 col1\" >2025</td>\n",
       "      <td id=\"T_559b4_row0_col2\" class=\"data row0 col2\" >Q3</td>\n",
       "      <td id=\"T_559b4_row0_col3\" class=\"data row0 col3\" >1,825,089</td>\n",
       "      <td id=\"T_559b4_row0_col4\" class=\"data row0 col4\" >1,636,546</td>\n",
       "      <td id=\"T_559b4_row0_col5\" class=\"data row0 col5\" >188,543</td>\n",
       "      <td id=\"T_559b4_row0_col6\" class=\"data row0 col6\" >11.52%</td>\n",
       "    </tr>\n",
       "  </tbody>\n",
       "</table>\n"
      ],
      "text/plain": [
       "<pandas.io.formats.style.Styler at 0x230b6ec5160>"
      ]
     },
     "execution_count": 24,
     "metadata": {},
     "output_type": "execute_result"
    }
   ],
   "source": [
    "df_ins.loc[final_criteria, cols].sort_values(by=[\"name\"], ascending=[True]).style.format(format_dict)"
   ]
  },
  {
   "cell_type": "code",
   "execution_count": 26,
   "metadata": {},
   "outputs": [
    {
     "data": {
      "text/html": [
       "<style type=\"text/css\">\n",
       "</style>\n",
       "<table id=\"T_20595\">\n",
       "  <thead>\n",
       "    <tr>\n",
       "      <th class=\"blank level0\" >&nbsp;</th>\n",
       "      <th id=\"T_20595_level0_col0\" class=\"col_heading level0 col0\" >name</th>\n",
       "      <th id=\"T_20595_level0_col1\" class=\"col_heading level0 col1\" >year</th>\n",
       "      <th id=\"T_20595_level0_col2\" class=\"col_heading level0 col2\" >quarter</th>\n",
       "      <th id=\"T_20595_level0_col3\" class=\"col_heading level0 col3\" >q_amt_c</th>\n",
       "      <th id=\"T_20595_level0_col4\" class=\"col_heading level0 col4\" >q_amt_p</th>\n",
       "      <th id=\"T_20595_level0_col5\" class=\"col_heading level0 col5\" >inc_profit</th>\n",
       "      <th id=\"T_20595_level0_col6\" class=\"col_heading level0 col6\" >percent</th>\n",
       "    </tr>\n",
       "  </thead>\n",
       "  <tbody>\n",
       "    <tr>\n",
       "      <th id=\"T_20595_level0_row0\" class=\"row_heading level0 row0\" >1</th>\n",
       "      <td id=\"T_20595_row0_col0\" class=\"data row0 col0\" >FPT</td>\n",
       "      <td id=\"T_20595_row0_col1\" class=\"data row0 col1\" >2025</td>\n",
       "      <td id=\"T_20595_row0_col2\" class=\"data row0 col2\" >Q3</td>\n",
       "      <td id=\"T_20595_row0_col3\" class=\"data row0 col3\" >1,825,089</td>\n",
       "      <td id=\"T_20595_row0_col4\" class=\"data row0 col4\" >1,636,546</td>\n",
       "      <td id=\"T_20595_row0_col5\" class=\"data row0 col5\" >188,543</td>\n",
       "      <td id=\"T_20595_row0_col6\" class=\"data row0 col6\" >11.52%</td>\n",
       "    </tr>\n",
       "  </tbody>\n",
       "</table>\n"
      ],
      "text/plain": [
       "<pandas.io.formats.style.Styler at 0x230bb1f3c20>"
      ]
     },
     "execution_count": 26,
     "metadata": {},
     "output_type": "execute_result"
    }
   ],
   "source": [
    "df_ins.loc[final_criteria, cols].sort_values(by=[\"name\"], ascending=[True]).style.format(format_dict)"
   ]
  },
  {
   "cell_type": "code",
   "execution_count": 28,
   "metadata": {},
   "outputs": [],
   "source": [
    "conlt.commit()\n",
    "conlt.close()"
   ]
  },
  {
   "cell_type": "code",
   "execution_count": 30,
   "metadata": {},
   "outputs": [
    {
     "name": "stdout",
     "output_type": "stream",
     "text": [
      "2025:08:16 16:27:45\n"
     ]
    }
   ],
   "source": [
    "current_time = datetime.now()\n",
    "formatted_time = current_time.strftime(\"%Y:%m:%d %H:%M:%S\")\n",
    "print(formatted_time)"
   ]
  },
  {
   "cell_type": "code",
   "execution_count": null,
   "metadata": {},
   "outputs": [],
   "source": []
  }
 ],
 "metadata": {
  "anaconda-cloud": {},
  "kernelspec": {
   "display_name": "Python 3 (ipykernel)",
   "language": "python",
   "name": "python3"
  },
  "language_info": {
   "codemirror_mode": {
    "name": "ipython",
    "version": 3
   },
   "file_extension": ".py",
   "mimetype": "text/x-python",
   "name": "python",
   "nbconvert_exporter": "python",
   "pygments_lexer": "ipython3",
   "version": "3.12.3"
  }
 },
 "nbformat": 4,
 "nbformat_minor": 4
}
