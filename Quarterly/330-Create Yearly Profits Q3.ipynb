{
 "cells": [
  {
   "cell_type": "markdown",
   "metadata": {},
   "source": [
    "### Restart and Run All Cells"
   ]
  },
  {
   "cell_type": "code",
   "execution_count": 2,
   "metadata": {},
   "outputs": [
    {
     "data": {
      "text/plain": [
       "datetime.datetime(2025, 2, 15, 15, 23, 7, 860557)"
      ]
     },
     "execution_count": 2,
     "metadata": {},
     "output_type": "execute_result"
    }
   ],
   "source": [
    "import pandas as pd\n",
    "from datetime import date, timedelta, datetime\n",
    "from sqlalchemy import create_engine, text\n",
    "engine = create_engine(\"sqlite:///c:\\\\ruby\\\\portlt\\\\db\\\\development.sqlite3\")\n",
    "conlt = engine.connect()\n",
    "year = 2024\n",
    "quarter = 3\n",
    "today = date.today()\n",
    "today_str = today.strftime(\"%Y-%m-%d\")\n",
    "current_time = datetime.now()\n",
    "current_time"
   ]
  },
  {
   "cell_type": "code",
   "execution_count": 4,
   "metadata": {},
   "outputs": [],
   "source": [
    "cols = 'name year quarter q_amt_c q_amt_p inc_profit percent'.split()\n",
    "\n",
    "format_dict = {\n",
    "                'q_amt':'{:,}','q_amt_c':'{:,}','q_amt_p':'{:,}','inc_profit':'{:,}',\n",
    "                'yoy_gain':'{:,}','acc_gain':'{:,}',    \n",
    "                'q_eps':'{:.4f}','y_eps':'{:.4f}','aq_eps':'{:.4f}','ay_eps':'{:.4f}',\n",
    "                'percent':'{:.2f}%'\n",
    "              }"
   ]
  },
  {
   "cell_type": "code",
   "execution_count": 6,
   "metadata": {},
   "outputs": [
    {
     "name": "stdout",
     "output_type": "stream",
     "text": [
      "\n",
      "SELECT name,year,quarter,q_amt\n",
      "FROM epss \n",
      "WHERE (year = 2024 AND quarter <= 3) \n",
      "OR (year = 2024-1 AND quarter >= 3+1)\n",
      "ORDER BY year DESC, quarter DESC\n"
     ]
    }
   ],
   "source": [
    "sql = \"\"\"\n",
    "SELECT name,year,quarter,q_amt\n",
    "FROM epss \n",
    "WHERE (year = %s AND quarter <= %s) \n",
    "OR (year = %s-1 AND quarter >= %s+1)\n",
    "ORDER BY year DESC, quarter DESC\"\"\"\n",
    "sql = sql % (year, quarter, year, quarter)\n",
    "print(sql)"
   ]
  },
  {
   "cell_type": "code",
   "execution_count": 8,
   "metadata": {},
   "outputs": [
    {
     "data": {
      "text/html": [
       "<style type=\"text/css\">\n",
       "</style>\n",
       "<table id=\"T_95a1d\">\n",
       "  <thead>\n",
       "    <tr>\n",
       "      <th class=\"blank level0\" >&nbsp;</th>\n",
       "      <th id=\"T_95a1d_level0_col0\" class=\"col_heading level0 col0\" >name</th>\n",
       "      <th id=\"T_95a1d_level0_col1\" class=\"col_heading level0 col1\" >year</th>\n",
       "      <th id=\"T_95a1d_level0_col2\" class=\"col_heading level0 col2\" >quarter</th>\n",
       "      <th id=\"T_95a1d_level0_col3\" class=\"col_heading level0 col3\" >q_amt</th>\n",
       "      <th id=\"T_95a1d_level0_col4\" class=\"col_heading level0 col4\" >Counter</th>\n",
       "    </tr>\n",
       "  </thead>\n",
       "  <tbody>\n",
       "    <tr>\n",
       "      <th id=\"T_95a1d_level0_row0\" class=\"row_heading level0 row0\" >71</th>\n",
       "      <td id=\"T_95a1d_row0_col0\" class=\"data row0 col0\" >GC</td>\n",
       "      <td id=\"T_95a1d_row0_col1\" class=\"data row0 col1\" >8095</td>\n",
       "      <td id=\"T_95a1d_row0_col2\" class=\"data row0 col2\" >10</td>\n",
       "      <td id=\"T_95a1d_row0_col3\" class=\"data row0 col3\" >179,704</td>\n",
       "      <td id=\"T_95a1d_row0_col4\" class=\"data row0 col4\" >4</td>\n",
       "    </tr>\n",
       "    <tr>\n",
       "      <th id=\"T_95a1d_level0_row1\" class=\"row_heading level0 row1\" >189</th>\n",
       "      <td id=\"T_95a1d_row1_col0\" class=\"data row1 col0\" >TIDLOR</td>\n",
       "      <td id=\"T_95a1d_row1_col1\" class=\"data row1 col1\" >8095</td>\n",
       "      <td id=\"T_95a1d_row1_col2\" class=\"data row1 col2\" >10</td>\n",
       "      <td id=\"T_95a1d_row1_col3\" class=\"data row1 col3\" >4,087,251</td>\n",
       "      <td id=\"T_95a1d_row1_col4\" class=\"data row1 col4\" >4</td>\n",
       "    </tr>\n",
       "    <tr>\n",
       "      <th id=\"T_95a1d_level0_row2\" class=\"row_heading level0 row2\" >33</th>\n",
       "      <td id=\"T_95a1d_row2_col0\" class=\"data row2 col0\" >BGRIM</td>\n",
       "      <td id=\"T_95a1d_row2_col1\" class=\"data row2 col1\" >8095</td>\n",
       "      <td id=\"T_95a1d_row2_col2\" class=\"data row2 col2\" >10</td>\n",
       "      <td id=\"T_95a1d_row2_col3\" class=\"data row2 col3\" >1,233,128</td>\n",
       "      <td id=\"T_95a1d_row2_col4\" class=\"data row2 col4\" >4</td>\n",
       "    </tr>\n",
       "    <tr>\n",
       "      <th id=\"T_95a1d_level0_row3\" class=\"row_heading level0 row3\" >137</th>\n",
       "      <td id=\"T_95a1d_row3_col0\" class=\"data row3 col0\" >PTG</td>\n",
       "      <td id=\"T_95a1d_row3_col1\" class=\"data row3 col1\" >8095</td>\n",
       "      <td id=\"T_95a1d_row3_col2\" class=\"data row3 col2\" >10</td>\n",
       "      <td id=\"T_95a1d_row3_col3\" class=\"data row3 col3\" >1,329,197</td>\n",
       "      <td id=\"T_95a1d_row3_col4\" class=\"data row3 col4\" >4</td>\n",
       "    </tr>\n",
       "    <tr>\n",
       "      <th id=\"T_95a1d_level0_row4\" class=\"row_heading level0 row4\" >18</th>\n",
       "      <td id=\"T_95a1d_row4_col0\" class=\"data row4 col0\" >BA</td>\n",
       "      <td id=\"T_95a1d_row4_col1\" class=\"data row4 col1\" >8095</td>\n",
       "      <td id=\"T_95a1d_row4_col2\" class=\"data row4 col2\" >10</td>\n",
       "      <td id=\"T_95a1d_row4_col3\" class=\"data row4 col3\" >2,910,875</td>\n",
       "      <td id=\"T_95a1d_row4_col4\" class=\"data row4 col4\" >4</td>\n",
       "    </tr>\n",
       "  </tbody>\n",
       "</table>\n"
      ],
      "text/plain": [
       "<pandas.io.formats.style.Styler at 0x29f92395370>"
      ]
     },
     "execution_count": 8,
     "metadata": {},
     "output_type": "execute_result"
    }
   ],
   "source": [
    "dfc = pd.read_sql(sql, conlt)\n",
    "dfc[\"Counter\"] = 1\n",
    "dfc_grp = dfc.groupby([\"name\"], as_index=False).sum()\n",
    "dfc_grp = dfc_grp[dfc_grp[\"Counter\"] == 4]\n",
    "dfc_grp.sample(5).style.format(format_dict)"
   ]
  },
  {
   "cell_type": "code",
   "execution_count": 10,
   "metadata": {},
   "outputs": [
    {
     "name": "stdout",
     "output_type": "stream",
     "text": [
      "\n",
      "SELECT name,year,quarter,q_amt\n",
      "FROM epss \n",
      "WHERE (year = 2024-1 AND quarter <= 3) \n",
      "OR (year = 2024-2 AND quarter >= 3+1)\n",
      "ORDER BY year DESC, quarter DESC\n",
      "\n"
     ]
    }
   ],
   "source": [
    "sql = \"\"\"\n",
    "SELECT name,year,quarter,q_amt\n",
    "FROM epss \n",
    "WHERE (year = %s-1 AND quarter <= %s) \n",
    "OR (year = %s-2 AND quarter >= %s+1)\n",
    "ORDER BY year DESC, quarter DESC\n",
    "\"\"\"\n",
    "sql = sql % (year, quarter, year, quarter)\n",
    "print(sql)"
   ]
  },
  {
   "cell_type": "code",
   "execution_count": 12,
   "metadata": {},
   "outputs": [
    {
     "data": {
      "text/html": [
       "<style type=\"text/css\">\n",
       "</style>\n",
       "<table id=\"T_d6a91\">\n",
       "  <thead>\n",
       "    <tr>\n",
       "      <th class=\"blank level0\" >&nbsp;</th>\n",
       "      <th id=\"T_d6a91_level0_col0\" class=\"col_heading level0 col0\" >name</th>\n",
       "      <th id=\"T_d6a91_level0_col1\" class=\"col_heading level0 col1\" >year</th>\n",
       "      <th id=\"T_d6a91_level0_col2\" class=\"col_heading level0 col2\" >quarter</th>\n",
       "      <th id=\"T_d6a91_level0_col3\" class=\"col_heading level0 col3\" >q_amt</th>\n",
       "      <th id=\"T_d6a91_level0_col4\" class=\"col_heading level0 col4\" >Counter</th>\n",
       "    </tr>\n",
       "  </thead>\n",
       "  <tbody>\n",
       "    <tr>\n",
       "      <th id=\"T_d6a91_level0_row0\" class=\"row_heading level0 row0\" >8</th>\n",
       "      <td id=\"T_d6a91_row0_col0\" class=\"data row0 col0\" >AJ</td>\n",
       "      <td id=\"T_d6a91_row0_col1\" class=\"data row0 col1\" >8091</td>\n",
       "      <td id=\"T_d6a91_row0_col2\" class=\"data row0 col2\" >10</td>\n",
       "      <td id=\"T_d6a91_row0_col3\" class=\"data row0 col3\" >-549,926</td>\n",
       "      <td id=\"T_d6a91_row0_col4\" class=\"data row0 col4\" >4</td>\n",
       "    </tr>\n",
       "    <tr>\n",
       "      <th id=\"T_d6a91_level0_row1\" class=\"row_heading level0 row1\" >9</th>\n",
       "      <td id=\"T_d6a91_row1_col0\" class=\"data row1 col0\" >AMATA</td>\n",
       "      <td id=\"T_d6a91_row1_col1\" class=\"data row1 col1\" >8091</td>\n",
       "      <td id=\"T_d6a91_row1_col2\" class=\"data row1 col2\" >10</td>\n",
       "      <td id=\"T_d6a91_row1_col3\" class=\"data row1 col3\" >1,987,314</td>\n",
       "      <td id=\"T_d6a91_row1_col4\" class=\"data row1 col4\" >4</td>\n",
       "    </tr>\n",
       "    <tr>\n",
       "      <th id=\"T_d6a91_level0_row2\" class=\"row_heading level0 row2\" >170</th>\n",
       "      <td id=\"T_d6a91_row2_col0\" class=\"data row2 col0\" >SNC</td>\n",
       "      <td id=\"T_d6a91_row2_col1\" class=\"data row2 col1\" >8091</td>\n",
       "      <td id=\"T_d6a91_row2_col2\" class=\"data row2 col2\" >10</td>\n",
       "      <td id=\"T_d6a91_row2_col3\" class=\"data row2 col3\" >231,421</td>\n",
       "      <td id=\"T_d6a91_row2_col4\" class=\"data row2 col4\" >4</td>\n",
       "    </tr>\n",
       "    <tr>\n",
       "      <th id=\"T_d6a91_level0_row3\" class=\"row_heading level0 row3\" >184</th>\n",
       "      <td id=\"T_d6a91_row3_col0\" class=\"data row3 col0\" >SYNEX</td>\n",
       "      <td id=\"T_d6a91_row3_col1\" class=\"data row3 col1\" >8091</td>\n",
       "      <td id=\"T_d6a91_row3_col2\" class=\"data row3 col2\" >10</td>\n",
       "      <td id=\"T_d6a91_row3_col3\" class=\"data row3 col3\" >551,413</td>\n",
       "      <td id=\"T_d6a91_row3_col4\" class=\"data row3 col4\" >4</td>\n",
       "    </tr>\n",
       "    <tr>\n",
       "      <th id=\"T_d6a91_level0_row4\" class=\"row_heading level0 row4\" >108</th>\n",
       "      <td id=\"T_d6a91_row4_col0\" class=\"data row4 col0\" >LH</td>\n",
       "      <td id=\"T_d6a91_row4_col1\" class=\"data row4 col1\" >8091</td>\n",
       "      <td id=\"T_d6a91_row4_col2\" class=\"data row4 col2\" >10</td>\n",
       "      <td id=\"T_d6a91_row4_col3\" class=\"data row4 col3\" >5,982,060</td>\n",
       "      <td id=\"T_d6a91_row4_col4\" class=\"data row4 col4\" >4</td>\n",
       "    </tr>\n",
       "  </tbody>\n",
       "</table>\n"
      ],
      "text/plain": [
       "<pandas.io.formats.style.Styler at 0x29f93440e60>"
      ]
     },
     "execution_count": 12,
     "metadata": {},
     "output_type": "execute_result"
    }
   ],
   "source": [
    "dfp = pd.read_sql(sql, conlt)\n",
    "dfp[\"Counter\"] = 1\n",
    "dfp_grp = dfp.groupby([\"name\"], as_index=False).sum()\n",
    "dfp_grp = dfp_grp[dfp_grp[\"Counter\"] == 4]\n",
    "dfp_grp.sample(5).style.format(format_dict)"
   ]
  },
  {
   "cell_type": "code",
   "execution_count": 14,
   "metadata": {},
   "outputs": [
    {
     "data": {
      "text/html": [
       "<style type=\"text/css\">\n",
       "</style>\n",
       "<table id=\"T_495ad\">\n",
       "  <thead>\n",
       "    <tr>\n",
       "      <th class=\"blank level0\" >&nbsp;</th>\n",
       "      <th id=\"T_495ad_level0_col0\" class=\"col_heading level0 col0\" >name</th>\n",
       "      <th id=\"T_495ad_level0_col1\" class=\"col_heading level0 col1\" >year</th>\n",
       "      <th id=\"T_495ad_level0_col2\" class=\"col_heading level0 col2\" >quarter</th>\n",
       "      <th id=\"T_495ad_level0_col3\" class=\"col_heading level0 col3\" >q_amt_c</th>\n",
       "      <th id=\"T_495ad_level0_col4\" class=\"col_heading level0 col4\" >q_amt_p</th>\n",
       "      <th id=\"T_495ad_level0_col5\" class=\"col_heading level0 col5\" >inc_profit</th>\n",
       "      <th id=\"T_495ad_level0_col6\" class=\"col_heading level0 col6\" >percent</th>\n",
       "    </tr>\n",
       "  </thead>\n",
       "  <tbody>\n",
       "    <tr>\n",
       "      <th id=\"T_495ad_level0_row0\" class=\"row_heading level0 row0\" >193</th>\n",
       "      <td id=\"T_495ad_row0_col0\" class=\"data row0 col0\" >TKS</td>\n",
       "      <td id=\"T_495ad_row0_col1\" class=\"data row0 col1\" >2024</td>\n",
       "      <td id=\"T_495ad_row0_col2\" class=\"data row0 col2\" >Q3</td>\n",
       "      <td id=\"T_495ad_row0_col3\" class=\"data row0 col3\" >80,711</td>\n",
       "      <td id=\"T_495ad_row0_col4\" class=\"data row0 col4\" >290,338</td>\n",
       "      <td id=\"T_495ad_row0_col5\" class=\"data row0 col5\" >-209,627</td>\n",
       "      <td id=\"T_495ad_row0_col6\" class=\"data row0 col6\" >-72.20%</td>\n",
       "    </tr>\n",
       "    <tr>\n",
       "      <th id=\"T_495ad_level0_row1\" class=\"row_heading level0 row1\" >80</th>\n",
       "      <td id=\"T_495ad_row1_col0\" class=\"data row1 col0\" >HANA</td>\n",
       "      <td id=\"T_495ad_row1_col1\" class=\"data row1 col1\" >2024</td>\n",
       "      <td id=\"T_495ad_row1_col2\" class=\"data row1 col2\" >Q3</td>\n",
       "      <td id=\"T_495ad_row1_col3\" class=\"data row1 col3\" >1,220,235</td>\n",
       "      <td id=\"T_495ad_row1_col4\" class=\"data row1 col4\" >2,711,248</td>\n",
       "      <td id=\"T_495ad_row1_col5\" class=\"data row1 col5\" >-1,491,013</td>\n",
       "      <td id=\"T_495ad_row1_col6\" class=\"data row1 col6\" >-54.99%</td>\n",
       "    </tr>\n",
       "    <tr>\n",
       "      <th id=\"T_495ad_level0_row2\" class=\"row_heading level0 row2\" >27</th>\n",
       "      <td id=\"T_495ad_row2_col0\" class=\"data row2 col0\" >BDMS</td>\n",
       "      <td id=\"T_495ad_row2_col1\" class=\"data row2 col1\" >2024</td>\n",
       "      <td id=\"T_495ad_row2_col2\" class=\"data row2 col2\" >Q3</td>\n",
       "      <td id=\"T_495ad_row2_col3\" class=\"data row2 col3\" >15,606,174</td>\n",
       "      <td id=\"T_495ad_row2_col4\" class=\"data row2 col4\" >13,536,915</td>\n",
       "      <td id=\"T_495ad_row2_col5\" class=\"data row2 col5\" >2,069,259</td>\n",
       "      <td id=\"T_495ad_row2_col6\" class=\"data row2 col6\" >15.29%</td>\n",
       "    </tr>\n",
       "    <tr>\n",
       "      <th id=\"T_495ad_level0_row3\" class=\"row_heading level0 row3\" >38</th>\n",
       "      <td id=\"T_495ad_row3_col0\" class=\"data row3 col0\" >BLAND</td>\n",
       "      <td id=\"T_495ad_row3_col1\" class=\"data row3 col1\" >2024</td>\n",
       "      <td id=\"T_495ad_row3_col2\" class=\"data row3 col2\" >Q3</td>\n",
       "      <td id=\"T_495ad_row3_col3\" class=\"data row3 col3\" >1,034,445</td>\n",
       "      <td id=\"T_495ad_row3_col4\" class=\"data row3 col4\" >579,027</td>\n",
       "      <td id=\"T_495ad_row3_col5\" class=\"data row3 col5\" >455,418</td>\n",
       "      <td id=\"T_495ad_row3_col6\" class=\"data row3 col6\" >78.65%</td>\n",
       "    </tr>\n",
       "    <tr>\n",
       "      <th id=\"T_495ad_level0_row4\" class=\"row_heading level0 row4\" >53</th>\n",
       "      <td id=\"T_495ad_row4_col0\" class=\"data row4 col0\" >CPNREIT</td>\n",
       "      <td id=\"T_495ad_row4_col1\" class=\"data row4 col1\" >2024</td>\n",
       "      <td id=\"T_495ad_row4_col2\" class=\"data row4 col2\" >Q3</td>\n",
       "      <td id=\"T_495ad_row4_col3\" class=\"data row4 col3\" >1,911,021</td>\n",
       "      <td id=\"T_495ad_row4_col4\" class=\"data row4 col4\" >2,779,731</td>\n",
       "      <td id=\"T_495ad_row4_col5\" class=\"data row4 col5\" >-868,710</td>\n",
       "      <td id=\"T_495ad_row4_col6\" class=\"data row4 col6\" >-31.25%</td>\n",
       "    </tr>\n",
       "  </tbody>\n",
       "</table>\n"
      ],
      "text/plain": [
       "<pandas.io.formats.style.Styler at 0x29f938dd640>"
      ]
     },
     "execution_count": 14,
     "metadata": {},
     "output_type": "execute_result"
    }
   ],
   "source": [
    "dfm = pd.merge(dfc_grp, dfp_grp, on=\"name\", suffixes=([\"_c\", \"_p\"]), how=\"inner\")\n",
    "dfm[\"inc_profit\"] = dfm[\"q_amt_c\"] - dfm[\"q_amt_p\"]\n",
    "dfm[\"percent\"] = round(dfm[\"inc_profit\"] / abs(dfm[\"q_amt_p\"]) * 100, 2)\n",
    "dfm[\"year\"] = year\n",
    "dfm[\"quarter\"] = \"Q\" + str(quarter)\n",
    "df_percent = dfm[cols]\n",
    "df_percent.sample(5).style.format(format_dict)"
   ]
  },
  {
   "cell_type": "code",
   "execution_count": 16,
   "metadata": {},
   "outputs": [
    {
     "name": "stdout",
     "output_type": "stream",
     "text": [
      "Rows deleted: 212\n"
     ]
    }
   ],
   "source": [
    "# Create the SQL query with parameter binding\n",
    "sql = text(\"DELETE FROM yr_profits WHERE year = :year AND quarter = :quarter\")\n",
    "\n",
    "# Execute the query with parameters\n",
    "params = {'year': year, 'quarter': f'Q{quarter}'}\n",
    "rp = conlt.execute(sql, params)\n",
    "\n",
    "# Print the number of rows affected\n",
    "print(\"Rows deleted:\", rp.rowcount)"
   ]
  },
  {
   "cell_type": "code",
   "execution_count": 18,
   "metadata": {},
   "outputs": [
    {
     "data": {
      "text/plain": [
       "222"
      ]
     },
     "execution_count": 18,
     "metadata": {},
     "output_type": "execute_result"
    }
   ],
   "source": [
    "sql = \"SELECT name, id FROM tickers\"\n",
    "tickers = pd.read_sql(sql, conlt)\n",
    "df_ins = pd.merge(df_percent, tickers, on=\"name\", how=\"inner\")\n",
    "rcds = df_ins.values.tolist()\n",
    "len(rcds)"
   ]
  },
  {
   "cell_type": "code",
   "execution_count": 20,
   "metadata": {},
   "outputs": [],
   "source": [
    "# Convert DataFrame to list of records\n",
    "rcds = df_ins.values.tolist()\n",
    "\n",
    "# Define column names in the same order as values\n",
    "columns = ['name', 'year', 'quarter', 'latest_amt', 'previous_amt', 'inc_amt', 'inc_pct', 'ticker_id']\n",
    "\n",
    "# SQL insert statement with named parameters\n",
    "sql = text(\"\"\"\n",
    "    INSERT INTO yr_profits \n",
    "    (name, year, quarter, latest_amt, previous_amt, inc_amt, inc_pct, ticker_id)\n",
    "    VALUES (:name, :year, :quarter, :latest_amt, :previous_amt, :inc_amt, :inc_pct, :ticker_id)\n",
    "\"\"\")\n",
    "\n",
    "try:\n",
    "    # Execute inserts\n",
    "    for rcd in rcds:\n",
    "        # Convert list to dictionary\n",
    "        params = dict(zip(columns, rcd))\n",
    "        conlt.execute(sql, params)\n",
    "except Exception as e:\n",
    "    raise e"
   ]
  },
  {
   "cell_type": "markdown",
   "metadata": {},
   "source": [
    "### End of loop"
   ]
  },
  {
   "cell_type": "code",
   "execution_count": 23,
   "metadata": {},
   "outputs": [
    {
     "data": {
      "text/html": [
       "<style type=\"text/css\">\n",
       "</style>\n",
       "<table id=\"T_356a0\">\n",
       "  <thead>\n",
       "    <tr>\n",
       "      <th class=\"blank level0\" >&nbsp;</th>\n",
       "      <th id=\"T_356a0_level0_col0\" class=\"col_heading level0 col0\" >name</th>\n",
       "      <th id=\"T_356a0_level0_col1\" class=\"col_heading level0 col1\" >year</th>\n",
       "      <th id=\"T_356a0_level0_col2\" class=\"col_heading level0 col2\" >quarter</th>\n",
       "      <th id=\"T_356a0_level0_col3\" class=\"col_heading level0 col3\" >q_amt_c</th>\n",
       "      <th id=\"T_356a0_level0_col4\" class=\"col_heading level0 col4\" >q_amt_p</th>\n",
       "      <th id=\"T_356a0_level0_col5\" class=\"col_heading level0 col5\" >inc_profit</th>\n",
       "      <th id=\"T_356a0_level0_col6\" class=\"col_heading level0 col6\" >percent</th>\n",
       "    </tr>\n",
       "  </thead>\n",
       "  <tbody>\n",
       "    <tr>\n",
       "      <th id=\"T_356a0_level0_row0\" class=\"row_heading level0 row0\" >166</th>\n",
       "      <td id=\"T_356a0_row0_col0\" class=\"data row0 col0\" >SMPC</td>\n",
       "      <td id=\"T_356a0_row0_col1\" class=\"data row0 col1\" >2024</td>\n",
       "      <td id=\"T_356a0_row0_col2\" class=\"data row0 col2\" >Q3</td>\n",
       "      <td id=\"T_356a0_row0_col3\" class=\"data row0 col3\" >555,334</td>\n",
       "      <td id=\"T_356a0_row0_col4\" class=\"data row0 col4\" >374,751</td>\n",
       "      <td id=\"T_356a0_row0_col5\" class=\"data row0 col5\" >180,583</td>\n",
       "      <td id=\"T_356a0_row0_col6\" class=\"data row0 col6\" >48.19%</td>\n",
       "    </tr>\n",
       "    <tr>\n",
       "      <th id=\"T_356a0_level0_row1\" class=\"row_heading level0 row1\" >139</th>\n",
       "      <td id=\"T_356a0_row1_col0\" class=\"data row1 col0\" >PTTEP</td>\n",
       "      <td id=\"T_356a0_row1_col1\" class=\"data row1 col1\" >2024</td>\n",
       "      <td id=\"T_356a0_row1_col2\" class=\"data row1 col2\" >Q3</td>\n",
       "      <td id=\"T_356a0_row1_col3\" class=\"data row1 col3\" >78,809,014</td>\n",
       "      <td id=\"T_356a0_row1_col4\" class=\"data row1 col4\" >74,033,025</td>\n",
       "      <td id=\"T_356a0_row1_col5\" class=\"data row1 col5\" >4,775,989</td>\n",
       "      <td id=\"T_356a0_row1_col6\" class=\"data row1 col6\" >6.45%</td>\n",
       "    </tr>\n",
       "    <tr>\n",
       "      <th id=\"T_356a0_level0_row2\" class=\"row_heading level0 row2\" >4</th>\n",
       "      <td id=\"T_356a0_row2_col0\" class=\"data row2 col0\" >AH</td>\n",
       "      <td id=\"T_356a0_row2_col1\" class=\"data row2 col1\" >2024</td>\n",
       "      <td id=\"T_356a0_row2_col2\" class=\"data row2 col2\" >Q3</td>\n",
       "      <td id=\"T_356a0_row2_col3\" class=\"data row2 col3\" >764,738</td>\n",
       "      <td id=\"T_356a0_row2_col4\" class=\"data row2 col4\" >1,883,474</td>\n",
       "      <td id=\"T_356a0_row2_col5\" class=\"data row2 col5\" >-1,118,736</td>\n",
       "      <td id=\"T_356a0_row2_col6\" class=\"data row2 col6\" >-59.40%</td>\n",
       "    </tr>\n",
       "    <tr>\n",
       "      <th id=\"T_356a0_level0_row3\" class=\"row_heading level0 row3\" >21</th>\n",
       "      <td id=\"T_356a0_row3_col0\" class=\"data row3 col0\" >BAY</td>\n",
       "      <td id=\"T_356a0_row3_col1\" class=\"data row3 col1\" >2024</td>\n",
       "      <td id=\"T_356a0_row3_col2\" class=\"data row3 col2\" >Q3</td>\n",
       "      <td id=\"T_356a0_row3_col3\" class=\"data row3 col3\" >31,155,715</td>\n",
       "      <td id=\"T_356a0_row3_col4\" class=\"data row3 col4\" >32,588,903</td>\n",
       "      <td id=\"T_356a0_row3_col5\" class=\"data row3 col5\" >-1,433,188</td>\n",
       "      <td id=\"T_356a0_row3_col6\" class=\"data row3 col6\" >-4.40%</td>\n",
       "    </tr>\n",
       "    <tr>\n",
       "      <th id=\"T_356a0_level0_row4\" class=\"row_heading level0 row4\" >12</th>\n",
       "      <td id=\"T_356a0_row4_col0\" class=\"data row4 col0\" >AP</td>\n",
       "      <td id=\"T_356a0_row4_col1\" class=\"data row4 col1\" >2024</td>\n",
       "      <td id=\"T_356a0_row4_col2\" class=\"data row4 col2\" >Q3</td>\n",
       "      <td id=\"T_356a0_row4_col3\" class=\"data row4 col3\" >5,062,056</td>\n",
       "      <td id=\"T_356a0_row4_col4\" class=\"data row4 col4\" >5,874,307</td>\n",
       "      <td id=\"T_356a0_row4_col5\" class=\"data row4 col5\" >-812,251</td>\n",
       "      <td id=\"T_356a0_row4_col6\" class=\"data row4 col6\" >-13.83%</td>\n",
       "    </tr>\n",
       "  </tbody>\n",
       "</table>\n"
      ],
      "text/plain": [
       "<pandas.io.formats.style.Styler at 0x29f938e9730>"
      ]
     },
     "execution_count": 23,
     "metadata": {},
     "output_type": "execute_result"
    }
   ],
   "source": [
    "criteria_1 = df_ins.q_amt_c > 440_000\n",
    "df_ins.loc[criteria_1, cols].sample(5).style.format(format_dict)"
   ]
  },
  {
   "cell_type": "code",
   "execution_count": 25,
   "metadata": {},
   "outputs": [
    {
     "data": {
      "text/html": [
       "<style type=\"text/css\">\n",
       "</style>\n",
       "<table id=\"T_528d0\">\n",
       "  <thead>\n",
       "    <tr>\n",
       "      <th class=\"blank level0\" >&nbsp;</th>\n",
       "      <th id=\"T_528d0_level0_col0\" class=\"col_heading level0 col0\" >name</th>\n",
       "      <th id=\"T_528d0_level0_col1\" class=\"col_heading level0 col1\" >year</th>\n",
       "      <th id=\"T_528d0_level0_col2\" class=\"col_heading level0 col2\" >quarter</th>\n",
       "      <th id=\"T_528d0_level0_col3\" class=\"col_heading level0 col3\" >q_amt_c</th>\n",
       "      <th id=\"T_528d0_level0_col4\" class=\"col_heading level0 col4\" >q_amt_p</th>\n",
       "      <th id=\"T_528d0_level0_col5\" class=\"col_heading level0 col5\" >inc_profit</th>\n",
       "      <th id=\"T_528d0_level0_col6\" class=\"col_heading level0 col6\" >percent</th>\n",
       "    </tr>\n",
       "  </thead>\n",
       "  <tbody>\n",
       "    <tr>\n",
       "      <th id=\"T_528d0_level0_row0\" class=\"row_heading level0 row0\" >106</th>\n",
       "      <td id=\"T_528d0_row0_col0\" class=\"data row0 col0\" >LH</td>\n",
       "      <td id=\"T_528d0_row0_col1\" class=\"data row0 col1\" >2024</td>\n",
       "      <td id=\"T_528d0_row0_col2\" class=\"data row0 col2\" >Q3</td>\n",
       "      <td id=\"T_528d0_row0_col3\" class=\"data row0 col3\" >6,390,464</td>\n",
       "      <td id=\"T_528d0_row0_col4\" class=\"data row0 col4\" >5,982,060</td>\n",
       "      <td id=\"T_528d0_row0_col5\" class=\"data row0 col5\" >408,404</td>\n",
       "      <td id=\"T_528d0_row0_col6\" class=\"data row0 col6\" >6.83%</td>\n",
       "    </tr>\n",
       "    <tr>\n",
       "      <th id=\"T_528d0_level0_row1\" class=\"row_heading level0 row1\" >121</th>\n",
       "      <td id=\"T_528d0_row1_col0\" class=\"data row1 col0\" >NER</td>\n",
       "      <td id=\"T_528d0_row1_col1\" class=\"data row1 col1\" >2024</td>\n",
       "      <td id=\"T_528d0_row1_col2\" class=\"data row1 col2\" >Q3</td>\n",
       "      <td id=\"T_528d0_row1_col3\" class=\"data row1 col3\" >1,754,886</td>\n",
       "      <td id=\"T_528d0_row1_col4\" class=\"data row1 col4\" >1,451,886</td>\n",
       "      <td id=\"T_528d0_row1_col5\" class=\"data row1 col5\" >303,000</td>\n",
       "      <td id=\"T_528d0_row1_col6\" class=\"data row1 col6\" >20.87%</td>\n",
       "    </tr>\n",
       "    <tr>\n",
       "      <th id=\"T_528d0_level0_row2\" class=\"row_heading level0 row2\" >115</th>\n",
       "      <td id=\"T_528d0_row2_col0\" class=\"data row2 col0\" >MC</td>\n",
       "      <td id=\"T_528d0_row2_col1\" class=\"data row2 col1\" >2024</td>\n",
       "      <td id=\"T_528d0_row2_col2\" class=\"data row2 col2\" >Q3</td>\n",
       "      <td id=\"T_528d0_row2_col3\" class=\"data row2 col3\" >694,892</td>\n",
       "      <td id=\"T_528d0_row2_col4\" class=\"data row2 col4\" >901,548</td>\n",
       "      <td id=\"T_528d0_row2_col5\" class=\"data row2 col5\" >-206,656</td>\n",
       "      <td id=\"T_528d0_row2_col6\" class=\"data row2 col6\" >-22.92%</td>\n",
       "    </tr>\n",
       "    <tr>\n",
       "      <th id=\"T_528d0_level0_row3\" class=\"row_heading level0 row3\" >212</th>\n",
       "      <td id=\"T_528d0_row3_col0\" class=\"data row3 col0\" >UTP</td>\n",
       "      <td id=\"T_528d0_row3_col1\" class=\"data row3 col1\" >2024</td>\n",
       "      <td id=\"T_528d0_row3_col2\" class=\"data row3 col2\" >Q3</td>\n",
       "      <td id=\"T_528d0_row3_col3\" class=\"data row3 col3\" >658,746</td>\n",
       "      <td id=\"T_528d0_row3_col4\" class=\"data row3 col4\" >696,237</td>\n",
       "      <td id=\"T_528d0_row3_col5\" class=\"data row3 col5\" >-37,491</td>\n",
       "      <td id=\"T_528d0_row3_col6\" class=\"data row3 col6\" >-5.38%</td>\n",
       "    </tr>\n",
       "    <tr>\n",
       "      <th id=\"T_528d0_level0_row4\" class=\"row_heading level0 row4\" >195</th>\n",
       "      <td id=\"T_528d0_row4_col0\" class=\"data row4 col0\" >TMW</td>\n",
       "      <td id=\"T_528d0_row4_col1\" class=\"data row4 col1\" >2024</td>\n",
       "      <td id=\"T_528d0_row4_col2\" class=\"data row4 col2\" >Q3</td>\n",
       "      <td id=\"T_528d0_row4_col3\" class=\"data row4 col3\" >555,563</td>\n",
       "      <td id=\"T_528d0_row4_col4\" class=\"data row4 col4\" >450,675</td>\n",
       "      <td id=\"T_528d0_row4_col5\" class=\"data row4 col5\" >104,888</td>\n",
       "      <td id=\"T_528d0_row4_col6\" class=\"data row4 col6\" >23.27%</td>\n",
       "    </tr>\n",
       "  </tbody>\n",
       "</table>\n"
      ],
      "text/plain": [
       "<pandas.io.formats.style.Styler at 0x29f938eb740>"
      ]
     },
     "execution_count": 25,
     "metadata": {},
     "output_type": "execute_result"
    }
   ],
   "source": [
    "criteria_2 = df_ins.q_amt_p > 400_000\n",
    "df_ins.loc[criteria_2, cols].sample(5).style.format(format_dict)"
   ]
  },
  {
   "cell_type": "code",
   "execution_count": 27,
   "metadata": {},
   "outputs": [
    {
     "data": {
      "text/html": [
       "<style type=\"text/css\">\n",
       "</style>\n",
       "<table id=\"T_82b04\">\n",
       "  <thead>\n",
       "    <tr>\n",
       "      <th class=\"blank level0\" >&nbsp;</th>\n",
       "      <th id=\"T_82b04_level0_col0\" class=\"col_heading level0 col0\" >name</th>\n",
       "      <th id=\"T_82b04_level0_col1\" class=\"col_heading level0 col1\" >year</th>\n",
       "      <th id=\"T_82b04_level0_col2\" class=\"col_heading level0 col2\" >quarter</th>\n",
       "      <th id=\"T_82b04_level0_col3\" class=\"col_heading level0 col3\" >q_amt_c</th>\n",
       "      <th id=\"T_82b04_level0_col4\" class=\"col_heading level0 col4\" >q_amt_p</th>\n",
       "      <th id=\"T_82b04_level0_col5\" class=\"col_heading level0 col5\" >inc_profit</th>\n",
       "      <th id=\"T_82b04_level0_col6\" class=\"col_heading level0 col6\" >percent</th>\n",
       "    </tr>\n",
       "  </thead>\n",
       "  <tbody>\n",
       "    <tr>\n",
       "      <th id=\"T_82b04_level0_row0\" class=\"row_heading level0 row0\" >23</th>\n",
       "      <td id=\"T_82b04_row0_col0\" class=\"data row0 col0\" >BCH</td>\n",
       "      <td id=\"T_82b04_row0_col1\" class=\"data row0 col1\" >2024</td>\n",
       "      <td id=\"T_82b04_row0_col2\" class=\"data row0 col2\" >Q3</td>\n",
       "      <td id=\"T_82b04_row0_col3\" class=\"data row0 col3\" >1,476,800</td>\n",
       "      <td id=\"T_82b04_row0_col4\" class=\"data row0 col4\" >1,248,581</td>\n",
       "      <td id=\"T_82b04_row0_col5\" class=\"data row0 col5\" >228,219</td>\n",
       "      <td id=\"T_82b04_row0_col6\" class=\"data row0 col6\" >18.28%</td>\n",
       "    </tr>\n",
       "    <tr>\n",
       "      <th id=\"T_82b04_level0_row1\" class=\"row_heading level0 row1\" >94</th>\n",
       "      <td id=\"T_82b04_row1_col0\" class=\"data row1 col0\" >JMART</td>\n",
       "      <td id=\"T_82b04_row1_col1\" class=\"data row1 col1\" >2024</td>\n",
       "      <td id=\"T_82b04_row1_col2\" class=\"data row1 col2\" >Q3</td>\n",
       "      <td id=\"T_82b04_row1_col3\" class=\"data row1 col3\" >996,794</td>\n",
       "      <td id=\"T_82b04_row1_col4\" class=\"data row1 col4\" >-96,064</td>\n",
       "      <td id=\"T_82b04_row1_col5\" class=\"data row1 col5\" >1,092,858</td>\n",
       "      <td id=\"T_82b04_row1_col6\" class=\"data row1 col6\" >1137.64%</td>\n",
       "    </tr>\n",
       "    <tr>\n",
       "      <th id=\"T_82b04_level0_row2\" class=\"row_heading level0 row2\" >206</th>\n",
       "      <td id=\"T_82b04_row2_col0\" class=\"data row2 col0\" >TTB</td>\n",
       "      <td id=\"T_82b04_row2_col1\" class=\"data row2 col1\" >2024</td>\n",
       "      <td id=\"T_82b04_row2_col2\" class=\"data row2 col2\" >Q3</td>\n",
       "      <td id=\"T_82b04_row2_col3\" class=\"data row2 col3\" >20,785,524</td>\n",
       "      <td id=\"T_82b04_row2_col4\" class=\"data row2 col4\" >17,443,015</td>\n",
       "      <td id=\"T_82b04_row2_col5\" class=\"data row2 col5\" >3,342,509</td>\n",
       "      <td id=\"T_82b04_row2_col6\" class=\"data row2 col6\" >19.16%</td>\n",
       "    </tr>\n",
       "    <tr>\n",
       "      <th id=\"T_82b04_level0_row3\" class=\"row_heading level0 row3\" >121</th>\n",
       "      <td id=\"T_82b04_row3_col0\" class=\"data row3 col0\" >NER</td>\n",
       "      <td id=\"T_82b04_row3_col1\" class=\"data row3 col1\" >2024</td>\n",
       "      <td id=\"T_82b04_row3_col2\" class=\"data row3 col2\" >Q3</td>\n",
       "      <td id=\"T_82b04_row3_col3\" class=\"data row3 col3\" >1,754,886</td>\n",
       "      <td id=\"T_82b04_row3_col4\" class=\"data row3 col4\" >1,451,886</td>\n",
       "      <td id=\"T_82b04_row3_col5\" class=\"data row3 col5\" >303,000</td>\n",
       "      <td id=\"T_82b04_row3_col6\" class=\"data row3 col6\" >20.87%</td>\n",
       "    </tr>\n",
       "    <tr>\n",
       "      <th id=\"T_82b04_level0_row4\" class=\"row_heading level0 row4\" >204</th>\n",
       "      <td id=\"T_82b04_row4_col0\" class=\"data row4 col0\" >TSTH</td>\n",
       "      <td id=\"T_82b04_row4_col1\" class=\"data row4 col1\" >2024</td>\n",
       "      <td id=\"T_82b04_row4_col2\" class=\"data row4 col2\" >Q3</td>\n",
       "      <td id=\"T_82b04_row4_col3\" class=\"data row4 col3\" >379,358</td>\n",
       "      <td id=\"T_82b04_row4_col4\" class=\"data row4 col4\" >5,616</td>\n",
       "      <td id=\"T_82b04_row4_col5\" class=\"data row4 col5\" >373,742</td>\n",
       "      <td id=\"T_82b04_row4_col6\" class=\"data row4 col6\" >6654.95%</td>\n",
       "    </tr>\n",
       "  </tbody>\n",
       "</table>\n"
      ],
      "text/plain": [
       "<pandas.io.formats.style.Styler at 0x29f938e95b0>"
      ]
     },
     "execution_count": 27,
     "metadata": {},
     "output_type": "execute_result"
    }
   ],
   "source": [
    "criteria_3 = df_ins.percent > 10.00\n",
    "df_ins.loc[criteria_3, cols].sample(5).style.format(format_dict)"
   ]
  },
  {
   "cell_type": "code",
   "execution_count": 29,
   "metadata": {},
   "outputs": [
    {
     "data": {
      "text/html": [
       "<style type=\"text/css\">\n",
       "</style>\n",
       "<table id=\"T_68e06\">\n",
       "  <thead>\n",
       "    <tr>\n",
       "      <th class=\"blank level0\" >&nbsp;</th>\n",
       "      <th id=\"T_68e06_level0_col0\" class=\"col_heading level0 col0\" >name</th>\n",
       "      <th id=\"T_68e06_level0_col1\" class=\"col_heading level0 col1\" >year</th>\n",
       "      <th id=\"T_68e06_level0_col2\" class=\"col_heading level0 col2\" >quarter</th>\n",
       "      <th id=\"T_68e06_level0_col3\" class=\"col_heading level0 col3\" >q_amt_c</th>\n",
       "      <th id=\"T_68e06_level0_col4\" class=\"col_heading level0 col4\" >q_amt_p</th>\n",
       "      <th id=\"T_68e06_level0_col5\" class=\"col_heading level0 col5\" >inc_profit</th>\n",
       "      <th id=\"T_68e06_level0_col6\" class=\"col_heading level0 col6\" >percent</th>\n",
       "    </tr>\n",
       "  </thead>\n",
       "  <tbody>\n",
       "    <tr>\n",
       "      <th id=\"T_68e06_level0_row0\" class=\"row_heading level0 row0\" >16</th>\n",
       "      <td id=\"T_68e06_row0_col0\" class=\"data row0 col0\" >ASW</td>\n",
       "      <td id=\"T_68e06_row0_col1\" class=\"data row0 col1\" >2024</td>\n",
       "      <td id=\"T_68e06_row0_col2\" class=\"data row0 col2\" >Q3</td>\n",
       "      <td id=\"T_68e06_row0_col3\" class=\"data row0 col3\" >1,783,985</td>\n",
       "      <td id=\"T_68e06_row0_col4\" class=\"data row0 col4\" >1,037,298</td>\n",
       "      <td id=\"T_68e06_row0_col5\" class=\"data row0 col5\" >746,687</td>\n",
       "      <td id=\"T_68e06_row0_col6\" class=\"data row0 col6\" >71.98%</td>\n",
       "    </tr>\n",
       "    <tr>\n",
       "      <th id=\"T_68e06_level0_row1\" class=\"row_heading level0 row1\" >3</th>\n",
       "      <td id=\"T_68e06_row1_col0\" class=\"data row1 col0\" >AEONTS</td>\n",
       "      <td id=\"T_68e06_row1_col1\" class=\"data row1 col1\" >2024</td>\n",
       "      <td id=\"T_68e06_row1_col2\" class=\"data row1 col2\" >Q3</td>\n",
       "      <td id=\"T_68e06_row1_col3\" class=\"data row1 col3\" >3,228,445</td>\n",
       "      <td id=\"T_68e06_row1_col4\" class=\"data row1 col4\" >2,858,168</td>\n",
       "      <td id=\"T_68e06_row1_col5\" class=\"data row1 col5\" >370,277</td>\n",
       "      <td id=\"T_68e06_row1_col6\" class=\"data row1 col6\" >12.96%</td>\n",
       "    </tr>\n",
       "    <tr>\n",
       "      <th id=\"T_68e06_level0_row2\" class=\"row_heading level0 row2\" >33</th>\n",
       "      <td id=\"T_68e06_row2_col0\" class=\"data row2 col0\" >BGRIM</td>\n",
       "      <td id=\"T_68e06_row2_col1\" class=\"data row2 col1\" >2024</td>\n",
       "      <td id=\"T_68e06_row2_col2\" class=\"data row2 col2\" >Q3</td>\n",
       "      <td id=\"T_68e06_row2_col3\" class=\"data row2 col3\" >1,233,128</td>\n",
       "      <td id=\"T_68e06_row2_col4\" class=\"data row2 col4\" >876,507</td>\n",
       "      <td id=\"T_68e06_row2_col5\" class=\"data row2 col5\" >356,621</td>\n",
       "      <td id=\"T_68e06_row2_col6\" class=\"data row2 col6\" >40.69%</td>\n",
       "    </tr>\n",
       "    <tr>\n",
       "      <th id=\"T_68e06_level0_row3\" class=\"row_heading level0 row3\" >150</th>\n",
       "      <td id=\"T_68e06_row3_col0\" class=\"data row3 col0\" >SAPPE</td>\n",
       "      <td id=\"T_68e06_row3_col1\" class=\"data row3 col1\" >2024</td>\n",
       "      <td id=\"T_68e06_row3_col2\" class=\"data row3 col2\" >Q3</td>\n",
       "      <td id=\"T_68e06_row3_col3\" class=\"data row3 col3\" >1,231,443</td>\n",
       "      <td id=\"T_68e06_row3_col4\" class=\"data row3 col4\" >1,060,521</td>\n",
       "      <td id=\"T_68e06_row3_col5\" class=\"data row3 col5\" >170,922</td>\n",
       "      <td id=\"T_68e06_row3_col6\" class=\"data row3 col6\" >16.12%</td>\n",
       "    </tr>\n",
       "    <tr>\n",
       "      <th id=\"T_68e06_level0_row4\" class=\"row_heading level0 row4\" >136</th>\n",
       "      <td id=\"T_68e06_row4_col0\" class=\"data row4 col0\" >PTG</td>\n",
       "      <td id=\"T_68e06_row4_col1\" class=\"data row4 col1\" >2024</td>\n",
       "      <td id=\"T_68e06_row4_col2\" class=\"data row4 col2\" >Q3</td>\n",
       "      <td id=\"T_68e06_row4_col3\" class=\"data row4 col3\" >1,329,197</td>\n",
       "      <td id=\"T_68e06_row4_col4\" class=\"data row4 col4\" >404,657</td>\n",
       "      <td id=\"T_68e06_row4_col5\" class=\"data row4 col5\" >924,540</td>\n",
       "      <td id=\"T_68e06_row4_col6\" class=\"data row4 col6\" >228.47%</td>\n",
       "    </tr>\n",
       "  </tbody>\n",
       "</table>\n"
      ],
      "text/plain": [
       "<pandas.io.formats.style.Styler at 0x29f938e9a00>"
      ]
     },
     "execution_count": 29,
     "metadata": {},
     "output_type": "execute_result"
    }
   ],
   "source": [
    "final_criteria = criteria_1 & criteria_2 & criteria_3\n",
    "df_ins.loc[final_criteria, cols].sort_values(by=[\"percent\"], ascending=[False]).sample(5).style.format(format_dict)"
   ]
  },
  {
   "cell_type": "code",
   "execution_count": 31,
   "metadata": {},
   "outputs": [
    {
     "data": {
      "text/html": [
       "<style type=\"text/css\">\n",
       "</style>\n",
       "<table id=\"T_dc421\">\n",
       "  <thead>\n",
       "    <tr>\n",
       "      <th class=\"blank level0\" >&nbsp;</th>\n",
       "      <th id=\"T_dc421_level0_col0\" class=\"col_heading level0 col0\" >name</th>\n",
       "      <th id=\"T_dc421_level0_col1\" class=\"col_heading level0 col1\" >year</th>\n",
       "      <th id=\"T_dc421_level0_col2\" class=\"col_heading level0 col2\" >quarter</th>\n",
       "      <th id=\"T_dc421_level0_col3\" class=\"col_heading level0 col3\" >q_amt_c</th>\n",
       "      <th id=\"T_dc421_level0_col4\" class=\"col_heading level0 col4\" >q_amt_p</th>\n",
       "      <th id=\"T_dc421_level0_col5\" class=\"col_heading level0 col5\" >inc_profit</th>\n",
       "      <th id=\"T_dc421_level0_col6\" class=\"col_heading level0 col6\" >percent</th>\n",
       "    </tr>\n",
       "  </thead>\n",
       "  <tbody>\n",
       "    <tr>\n",
       "      <th id=\"T_dc421_level0_row0\" class=\"row_heading level0 row0\" >55</th>\n",
       "      <td id=\"T_dc421_row0_col0\" class=\"data row0 col0\" >CRC</td>\n",
       "      <td id=\"T_dc421_row0_col1\" class=\"data row0 col1\" >2024</td>\n",
       "      <td id=\"T_dc421_row0_col2\" class=\"data row0 col2\" >Q3</td>\n",
       "      <td id=\"T_dc421_row0_col3\" class=\"data row0 col3\" >9,098,163</td>\n",
       "      <td id=\"T_dc421_row0_col4\" class=\"data row0 col4\" >8,189,173</td>\n",
       "      <td id=\"T_dc421_row0_col5\" class=\"data row0 col5\" >908,990</td>\n",
       "      <td id=\"T_dc421_row0_col6\" class=\"data row0 col6\" >11.10%</td>\n",
       "    </tr>\n",
       "    <tr>\n",
       "      <th id=\"T_dc421_level0_row1\" class=\"row_heading level0 row1\" >31</th>\n",
       "      <td id=\"T_dc421_row1_col0\" class=\"data row1 col0\" >BEM</td>\n",
       "      <td id=\"T_dc421_row1_col1\" class=\"data row1 col1\" >2024</td>\n",
       "      <td id=\"T_dc421_row1_col2\" class=\"data row1 col2\" >Q3</td>\n",
       "      <td id=\"T_dc421_row1_col3\" class=\"data row1 col3\" >3,776,194</td>\n",
       "      <td id=\"T_dc421_row1_col4\" class=\"data row1 col4\" >3,222,895</td>\n",
       "      <td id=\"T_dc421_row1_col5\" class=\"data row1 col5\" >553,299</td>\n",
       "      <td id=\"T_dc421_row1_col6\" class=\"data row1 col6\" >17.17%</td>\n",
       "    </tr>\n",
       "    <tr>\n",
       "      <th id=\"T_dc421_level0_row2\" class=\"row_heading level0 row2\" >169</th>\n",
       "      <td id=\"T_dc421_row2_col0\" class=\"data row2 col0\" >SPC</td>\n",
       "      <td id=\"T_dc421_row2_col1\" class=\"data row2 col1\" >2024</td>\n",
       "      <td id=\"T_dc421_row2_col2\" class=\"data row2 col2\" >Q3</td>\n",
       "      <td id=\"T_dc421_row2_col3\" class=\"data row2 col3\" >2,640,023</td>\n",
       "      <td id=\"T_dc421_row2_col4\" class=\"data row2 col4\" >1,907,401</td>\n",
       "      <td id=\"T_dc421_row2_col5\" class=\"data row2 col5\" >732,622</td>\n",
       "      <td id=\"T_dc421_row2_col6\" class=\"data row2 col6\" >38.41%</td>\n",
       "    </tr>\n",
       "    <tr>\n",
       "      <th id=\"T_dc421_level0_row3\" class=\"row_heading level0 row3\" >48</th>\n",
       "      <td id=\"T_dc421_row3_col0\" class=\"data row3 col0\" >CPALL</td>\n",
       "      <td id=\"T_dc421_row3_col1\" class=\"data row3 col1\" >2024</td>\n",
       "      <td id=\"T_dc421_row3_col2\" class=\"data row3 col2\" >Q3</td>\n",
       "      <td id=\"T_dc421_row3_col3\" class=\"data row3 col3\" >23,663,397</td>\n",
       "      <td id=\"T_dc421_row3_col4\" class=\"data row3 col4\" >16,123,203</td>\n",
       "      <td id=\"T_dc421_row3_col5\" class=\"data row3 col5\" >7,540,194</td>\n",
       "      <td id=\"T_dc421_row3_col6\" class=\"data row3 col6\" >46.77%</td>\n",
       "    </tr>\n",
       "    <tr>\n",
       "      <th id=\"T_dc421_level0_row4\" class=\"row_heading level0 row4\" >180</th>\n",
       "      <td id=\"T_dc421_row4_col0\" class=\"data row4 col0\" >SYNEX</td>\n",
       "      <td id=\"T_dc421_row4_col1\" class=\"data row4 col1\" >2024</td>\n",
       "      <td id=\"T_dc421_row4_col2\" class=\"data row4 col2\" >Q3</td>\n",
       "      <td id=\"T_dc421_row4_col3\" class=\"data row4 col3\" >628,765</td>\n",
       "      <td id=\"T_dc421_row4_col4\" class=\"data row4 col4\" >551,413</td>\n",
       "      <td id=\"T_dc421_row4_col5\" class=\"data row4 col5\" >77,352</td>\n",
       "      <td id=\"T_dc421_row4_col6\" class=\"data row4 col6\" >14.03%</td>\n",
       "    </tr>\n",
       "  </tbody>\n",
       "</table>\n"
      ],
      "text/plain": [
       "<pandas.io.formats.style.Styler at 0x29f938eb380>"
      ]
     },
     "execution_count": 31,
     "metadata": {},
     "output_type": "execute_result"
    }
   ],
   "source": [
    "df_ins.loc[final_criteria, cols].sort_values(by=[\"name\"], ascending=[True]).sample(5).style.format(format_dict)"
   ]
  },
  {
   "cell_type": "code",
   "execution_count": 33,
   "metadata": {},
   "outputs": [
    {
     "data": {
      "text/html": [
       "<style type=\"text/css\">\n",
       "</style>\n",
       "<table id=\"T_45d3c\">\n",
       "  <thead>\n",
       "    <tr>\n",
       "      <th class=\"blank level0\" >&nbsp;</th>\n",
       "      <th id=\"T_45d3c_level0_col0\" class=\"col_heading level0 col0\" >name</th>\n",
       "      <th id=\"T_45d3c_level0_col1\" class=\"col_heading level0 col1\" >year</th>\n",
       "      <th id=\"T_45d3c_level0_col2\" class=\"col_heading level0 col2\" >quarter</th>\n",
       "      <th id=\"T_45d3c_level0_col3\" class=\"col_heading level0 col3\" >q_amt_c</th>\n",
       "      <th id=\"T_45d3c_level0_col4\" class=\"col_heading level0 col4\" >q_amt_p</th>\n",
       "      <th id=\"T_45d3c_level0_col5\" class=\"col_heading level0 col5\" >inc_profit</th>\n",
       "      <th id=\"T_45d3c_level0_col6\" class=\"col_heading level0 col6\" >percent</th>\n",
       "    </tr>\n",
       "  </thead>\n",
       "  <tbody>\n",
       "    <tr>\n",
       "      <th id=\"T_45d3c_level0_row0\" class=\"row_heading level0 row0\" >43</th>\n",
       "      <td id=\"T_45d3c_row0_col0\" class=\"data row0 col0\" >CENTEL</td>\n",
       "      <td id=\"T_45d3c_row0_col1\" class=\"data row0 col1\" >2024</td>\n",
       "      <td id=\"T_45d3c_row0_col2\" class=\"data row0 col2\" >Q3</td>\n",
       "      <td id=\"T_45d3c_row0_col3\" class=\"data row0 col3\" >1,510,544</td>\n",
       "      <td id=\"T_45d3c_row0_col4\" class=\"data row0 col4\" >1,321,257</td>\n",
       "      <td id=\"T_45d3c_row0_col5\" class=\"data row0 col5\" >189,287</td>\n",
       "      <td id=\"T_45d3c_row0_col6\" class=\"data row0 col6\" >14.33%</td>\n",
       "    </tr>\n",
       "    <tr>\n",
       "      <th id=\"T_45d3c_level0_row1\" class=\"row_heading level0 row1\" >45</th>\n",
       "      <td id=\"T_45d3c_row1_col0\" class=\"data row1 col0\" >CK</td>\n",
       "      <td id=\"T_45d3c_row1_col1\" class=\"data row1 col1\" >2024</td>\n",
       "      <td id=\"T_45d3c_row1_col2\" class=\"data row1 col2\" >Q3</td>\n",
       "      <td id=\"T_45d3c_row1_col3\" class=\"data row1 col3\" >1,773,101</td>\n",
       "      <td id=\"T_45d3c_row1_col4\" class=\"data row1 col4\" >1,456,951</td>\n",
       "      <td id=\"T_45d3c_row1_col5\" class=\"data row1 col5\" >316,150</td>\n",
       "      <td id=\"T_45d3c_row1_col6\" class=\"data row1 col6\" >21.70%</td>\n",
       "    </tr>\n",
       "    <tr>\n",
       "      <th id=\"T_45d3c_level0_row2\" class=\"row_heading level0 row2\" >150</th>\n",
       "      <td id=\"T_45d3c_row2_col0\" class=\"data row2 col0\" >SAPPE</td>\n",
       "      <td id=\"T_45d3c_row2_col1\" class=\"data row2 col1\" >2024</td>\n",
       "      <td id=\"T_45d3c_row2_col2\" class=\"data row2 col2\" >Q3</td>\n",
       "      <td id=\"T_45d3c_row2_col3\" class=\"data row2 col3\" >1,231,443</td>\n",
       "      <td id=\"T_45d3c_row2_col4\" class=\"data row2 col4\" >1,060,521</td>\n",
       "      <td id=\"T_45d3c_row2_col5\" class=\"data row2 col5\" >170,922</td>\n",
       "      <td id=\"T_45d3c_row2_col6\" class=\"data row2 col6\" >16.12%</td>\n",
       "    </tr>\n",
       "    <tr>\n",
       "      <th id=\"T_45d3c_level0_row3\" class=\"row_heading level0 row3\" >51</th>\n",
       "      <td id=\"T_45d3c_row3_col0\" class=\"data row3 col0\" >CPN</td>\n",
       "      <td id=\"T_45d3c_row3_col1\" class=\"data row3 col1\" >2024</td>\n",
       "      <td id=\"T_45d3c_row3_col2\" class=\"data row3 col2\" >Q3</td>\n",
       "      <td id=\"T_45d3c_row3_col3\" class=\"data row3 col3\" >16,811,902</td>\n",
       "      <td id=\"T_45d3c_row3_col4\" class=\"data row3 col4\" >13,891,440</td>\n",
       "      <td id=\"T_45d3c_row3_col5\" class=\"data row3 col5\" >2,920,462</td>\n",
       "      <td id=\"T_45d3c_row3_col6\" class=\"data row3 col6\" >21.02%</td>\n",
       "    </tr>\n",
       "    <tr>\n",
       "      <th id=\"T_45d3c_level0_row4\" class=\"row_heading level0 row4\" >187</th>\n",
       "      <td id=\"T_45d3c_row4_col0\" class=\"data row4 col0\" >TIDLOR</td>\n",
       "      <td id=\"T_45d3c_row4_col1\" class=\"data row4 col1\" >2024</td>\n",
       "      <td id=\"T_45d3c_row4_col2\" class=\"data row4 col2\" >Q3</td>\n",
       "      <td id=\"T_45d3c_row4_col3\" class=\"data row4 col3\" >4,087,251</td>\n",
       "      <td id=\"T_45d3c_row4_col4\" class=\"data row4 col4\" >3,706,501</td>\n",
       "      <td id=\"T_45d3c_row4_col5\" class=\"data row4 col5\" >380,750</td>\n",
       "      <td id=\"T_45d3c_row4_col6\" class=\"data row4 col6\" >10.27%</td>\n",
       "    </tr>\n",
       "  </tbody>\n",
       "</table>\n"
      ],
      "text/plain": [
       "<pandas.io.formats.style.Styler at 0x29f938f0500>"
      ]
     },
     "execution_count": 33,
     "metadata": {},
     "output_type": "execute_result"
    }
   ],
   "source": [
    "df_ins.loc[final_criteria, cols].sort_values(by=[\"name\"], ascending=[True]).sample(5).style.format(format_dict)"
   ]
  },
  {
   "cell_type": "code",
   "execution_count": 35,
   "metadata": {},
   "outputs": [],
   "source": [
    "conlt.commit()\n",
    "conlt.close()"
   ]
  },
  {
   "cell_type": "code",
   "execution_count": null,
   "metadata": {},
   "outputs": [],
   "source": []
  }
 ],
 "metadata": {
  "anaconda-cloud": {},
  "kernelspec": {
   "display_name": "Python 3 (ipykernel)",
   "language": "python",
   "name": "python3"
  },
  "language_info": {
   "codemirror_mode": {
    "name": "ipython",
    "version": 3
   },
   "file_extension": ".py",
   "mimetype": "text/x-python",
   "name": "python",
   "nbconvert_exporter": "python",
   "pygments_lexer": "ipython3",
   "version": "3.12.3"
  }
 },
 "nbformat": 4,
 "nbformat_minor": 4
}
