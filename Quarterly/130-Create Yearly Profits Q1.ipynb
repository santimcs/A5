{
 "cells": [
  {
   "cell_type": "markdown",
   "metadata": {},
   "source": [
    "### Restart and Run All Cells"
   ]
  },
  {
   "cell_type": "code",
   "execution_count": 1,
   "metadata": {},
   "outputs": [
    {
     "name": "stdout",
     "output_type": "stream",
     "text": [
      "2025:02:15 14:54:47\n"
     ]
    }
   ],
   "source": [
    "import pandas as pd\n",
    "from datetime import date, timedelta, datetime\n",
    "from sqlalchemy import create_engine, text\n",
    "\n",
    "engine = create_engine(\"sqlite:///c:\\\\ruby\\\\portlt\\\\db\\\\development.sqlite3\")\n",
    "conlt = engine.connect()\n",
    "\n",
    "year = 2025\n",
    "quarter = 1\n",
    "current_time = datetime.now()\n",
    "formatted_time = current_time.strftime(\"%Y:%m:%d %H:%M:%S\")\n",
    "print(formatted_time)"
   ]
  },
  {
   "cell_type": "code",
   "execution_count": 3,
   "metadata": {},
   "outputs": [],
   "source": [
    "cols = 'name year quarter q_amt_c q_amt_p inc_profit percent'.split()\n",
    "\n",
    "format_dict = {\n",
    "                'q_amt':'{:,}','q_amt_c':'{:,}','q_amt_p':'{:,}','inc_profit':'{:,}',\n",
    "                'yoy_gain':'{:,}','acc_gain':'{:,}',    \n",
    "                'q_eps':'{:.4f}','y_eps':'{:.4f}','aq_eps':'{:.4f}','ay_eps':'{:.4f}',\n",
    "                'percent':'{:.2f}%'\n",
    "              }"
   ]
  },
  {
   "cell_type": "code",
   "execution_count": 5,
   "metadata": {},
   "outputs": [
    {
     "name": "stdout",
     "output_type": "stream",
     "text": [
      "\n",
      "SELECT name,year,quarter,q_amt\n",
      "FROM epss \n",
      "WHERE (year = 2025 AND quarter <= 1) \n",
      "OR (year = 2025-1 AND quarter >= 1+1)\n",
      "ORDER BY year DESC, quarter DESC\n"
     ]
    }
   ],
   "source": [
    "sql = \"\"\"\n",
    "SELECT name,year,quarter,q_amt\n",
    "FROM epss \n",
    "WHERE (year = %s AND quarter <= %s) \n",
    "OR (year = %s-1 AND quarter >= %s+1)\n",
    "ORDER BY year DESC, quarter DESC\"\"\"\n",
    "sql = sql % (year, quarter, year, quarter)\n",
    "print(sql)"
   ]
  },
  {
   "cell_type": "code",
   "execution_count": 7,
   "metadata": {},
   "outputs": [
    {
     "data": {
      "text/html": [
       "<style type=\"text/css\">\n",
       "</style>\n",
       "<table id=\"T_7b85d\">\n",
       "  <thead>\n",
       "    <tr>\n",
       "      <th class=\"blank level0\" >&nbsp;</th>\n",
       "      <th id=\"T_7b85d_level0_col0\" class=\"col_heading level0 col0\" >name</th>\n",
       "      <th id=\"T_7b85d_level0_col1\" class=\"col_heading level0 col1\" >year</th>\n",
       "      <th id=\"T_7b85d_level0_col2\" class=\"col_heading level0 col2\" >quarter</th>\n",
       "      <th id=\"T_7b85d_level0_col3\" class=\"col_heading level0 col3\" >q_amt</th>\n",
       "      <th id=\"T_7b85d_level0_col4\" class=\"col_heading level0 col4\" >Counter</th>\n",
       "    </tr>\n",
       "  </thead>\n",
       "  <tbody>\n",
       "    <tr>\n",
       "      <th id=\"T_7b85d_level0_row0\" class=\"row_heading level0 row0\" >69</th>\n",
       "      <td id=\"T_7b85d_row0_col0\" class=\"data row0 col0\" >FPT</td>\n",
       "      <td id=\"T_7b85d_row0_col1\" class=\"data row0 col1\" >8097</td>\n",
       "      <td id=\"T_7b85d_row0_col2\" class=\"data row0 col2\" >10</td>\n",
       "      <td id=\"T_7b85d_row0_col3\" class=\"data row0 col3\" >1,447,950</td>\n",
       "      <td id=\"T_7b85d_row0_col4\" class=\"data row0 col4\" >4</td>\n",
       "    </tr>\n",
       "    <tr>\n",
       "      <th id=\"T_7b85d_level0_row1\" class=\"row_heading level0 row1\" >79</th>\n",
       "      <td id=\"T_7b85d_row1_col0\" class=\"data row1 col0\" >GVREIT</td>\n",
       "      <td id=\"T_7b85d_row1_col1\" class=\"data row1 col1\" >8097</td>\n",
       "      <td id=\"T_7b85d_row1_col2\" class=\"data row1 col2\" >10</td>\n",
       "      <td id=\"T_7b85d_row1_col3\" class=\"data row1 col3\" >463,216</td>\n",
       "      <td id=\"T_7b85d_row1_col4\" class=\"data row1 col4\" >4</td>\n",
       "    </tr>\n",
       "    <tr>\n",
       "      <th id=\"T_7b85d_level0_row2\" class=\"row_heading level0 row2\" >185</th>\n",
       "      <td id=\"T_7b85d_row2_col0\" class=\"data row2 col0\" >TFFIF</td>\n",
       "      <td id=\"T_7b85d_row2_col1\" class=\"data row2 col1\" >8097</td>\n",
       "      <td id=\"T_7b85d_row2_col2\" class=\"data row2 col2\" >10</td>\n",
       "      <td id=\"T_7b85d_row2_col3\" class=\"data row2 col3\" >-390,062</td>\n",
       "      <td id=\"T_7b85d_row2_col4\" class=\"data row2 col4\" >4</td>\n",
       "    </tr>\n",
       "  </tbody>\n",
       "</table>\n"
      ],
      "text/plain": [
       "<pandas.io.formats.style.Styler at 0x2537763fd70>"
      ]
     },
     "execution_count": 7,
     "metadata": {},
     "output_type": "execute_result"
    }
   ],
   "source": [
    "dfc = pd.read_sql(sql, conlt)\n",
    "dfc[\"Counter\"] = 1\n",
    "dfc_grp = dfc.groupby([\"name\"], as_index=False).sum()\n",
    "dfc_grp = dfc_grp[dfc_grp[\"Counter\"] == 4]\n",
    "dfc_grp.head().style.format(format_dict)"
   ]
  },
  {
   "cell_type": "code",
   "execution_count": 9,
   "metadata": {},
   "outputs": [
    {
     "name": "stdout",
     "output_type": "stream",
     "text": [
      "\n",
      "SELECT name,year,quarter,q_amt\n",
      "FROM epss \n",
      "WHERE (year = 2025-1 AND quarter <= 1) \n",
      "OR (year = 2025-2 AND quarter >= 1+1)\n",
      "ORDER BY year DESC, quarter DESC\n",
      "\n"
     ]
    }
   ],
   "source": [
    "sql = \"\"\"\n",
    "SELECT name,year,quarter,q_amt\n",
    "FROM epss \n",
    "WHERE (year = %s-1 AND quarter <= %s) \n",
    "OR (year = %s-2 AND quarter >= %s+1)\n",
    "ORDER BY year DESC, quarter DESC\n",
    "\"\"\"\n",
    "sql = sql % (year, quarter, year, quarter)\n",
    "print(sql)"
   ]
  },
  {
   "cell_type": "code",
   "execution_count": 11,
   "metadata": {},
   "outputs": [
    {
     "data": {
      "text/html": [
       "<style type=\"text/css\">\n",
       "</style>\n",
       "<table id=\"T_c032a\">\n",
       "  <thead>\n",
       "    <tr>\n",
       "      <th class=\"blank level0\" >&nbsp;</th>\n",
       "      <th id=\"T_c032a_level0_col0\" class=\"col_heading level0 col0\" >name</th>\n",
       "      <th id=\"T_c032a_level0_col1\" class=\"col_heading level0 col1\" >year</th>\n",
       "      <th id=\"T_c032a_level0_col2\" class=\"col_heading level0 col2\" >quarter</th>\n",
       "      <th id=\"T_c032a_level0_col3\" class=\"col_heading level0 col3\" >q_amt</th>\n",
       "      <th id=\"T_c032a_level0_col4\" class=\"col_heading level0 col4\" >Counter</th>\n",
       "    </tr>\n",
       "  </thead>\n",
       "  <tbody>\n",
       "    <tr>\n",
       "      <th id=\"T_c032a_level0_row0\" class=\"row_heading level0 row0\" >0</th>\n",
       "      <td id=\"T_c032a_row0_col0\" class=\"data row0 col0\" >3BBIF</td>\n",
       "      <td id=\"T_c032a_row0_col1\" class=\"data row0 col1\" >8093</td>\n",
       "      <td id=\"T_c032a_row0_col2\" class=\"data row0 col2\" >10</td>\n",
       "      <td id=\"T_c032a_row0_col3\" class=\"data row0 col3\" >-8,619,852</td>\n",
       "      <td id=\"T_c032a_row0_col4\" class=\"data row0 col4\" >4</td>\n",
       "    </tr>\n",
       "    <tr>\n",
       "      <th id=\"T_c032a_level0_row1\" class=\"row_heading level0 row1\" >1</th>\n",
       "      <td id=\"T_c032a_row1_col0\" class=\"data row1 col0\" >ACE</td>\n",
       "      <td id=\"T_c032a_row1_col1\" class=\"data row1 col1\" >8093</td>\n",
       "      <td id=\"T_c032a_row1_col2\" class=\"data row1 col2\" >10</td>\n",
       "      <td id=\"T_c032a_row1_col3\" class=\"data row1 col3\" >1,052,706</td>\n",
       "      <td id=\"T_c032a_row1_col4\" class=\"data row1 col4\" >4</td>\n",
       "    </tr>\n",
       "    <tr>\n",
       "      <th id=\"T_c032a_level0_row2\" class=\"row_heading level0 row2\" >2</th>\n",
       "      <td id=\"T_c032a_row2_col0\" class=\"data row2 col0\" >ADVANC</td>\n",
       "      <td id=\"T_c032a_row2_col1\" class=\"data row2 col1\" >8093</td>\n",
       "      <td id=\"T_c032a_row2_col2\" class=\"data row2 col2\" >10</td>\n",
       "      <td id=\"T_c032a_row2_col3\" class=\"data row2 col3\" >30,780,229</td>\n",
       "      <td id=\"T_c032a_row2_col4\" class=\"data row2 col4\" >4</td>\n",
       "    </tr>\n",
       "    <tr>\n",
       "      <th id=\"T_c032a_level0_row3\" class=\"row_heading level0 row3\" >3</th>\n",
       "      <td id=\"T_c032a_row3_col0\" class=\"data row3 col0\" >AEONTS</td>\n",
       "      <td id=\"T_c032a_row3_col1\" class=\"data row3 col1\" >8093</td>\n",
       "      <td id=\"T_c032a_row3_col2\" class=\"data row3 col2\" >10</td>\n",
       "      <td id=\"T_c032a_row3_col3\" class=\"data row3 col3\" >3,165,741</td>\n",
       "      <td id=\"T_c032a_row3_col4\" class=\"data row3 col4\" >4</td>\n",
       "    </tr>\n",
       "    <tr>\n",
       "      <th id=\"T_c032a_level0_row4\" class=\"row_heading level0 row4\" >4</th>\n",
       "      <td id=\"T_c032a_row4_col0\" class=\"data row4 col0\" >AH</td>\n",
       "      <td id=\"T_c032a_row4_col1\" class=\"data row4 col1\" >8093</td>\n",
       "      <td id=\"T_c032a_row4_col2\" class=\"data row4 col2\" >10</td>\n",
       "      <td id=\"T_c032a_row4_col3\" class=\"data row4 col3\" >1,368,109</td>\n",
       "      <td id=\"T_c032a_row4_col4\" class=\"data row4 col4\" >4</td>\n",
       "    </tr>\n",
       "  </tbody>\n",
       "</table>\n"
      ],
      "text/plain": [
       "<pandas.io.formats.style.Styler at 0x2537aa4e8d0>"
      ]
     },
     "execution_count": 11,
     "metadata": {},
     "output_type": "execute_result"
    }
   ],
   "source": [
    "dfp = pd.read_sql(sql, conlt)\n",
    "dfp[\"Counter\"] = 1\n",
    "dfp_grp = dfp.groupby([\"name\"], as_index=False).sum()\n",
    "dfp_grp = dfp_grp[dfp_grp[\"Counter\"] == 4]\n",
    "dfp_grp.head().style.format(format_dict)"
   ]
  },
  {
   "cell_type": "code",
   "execution_count": 13,
   "metadata": {},
   "outputs": [
    {
     "data": {
      "text/html": [
       "<style type=\"text/css\">\n",
       "</style>\n",
       "<table id=\"T_1d08c\">\n",
       "  <thead>\n",
       "    <tr>\n",
       "      <th class=\"blank level0\" >&nbsp;</th>\n",
       "      <th id=\"T_1d08c_level0_col0\" class=\"col_heading level0 col0\" >name</th>\n",
       "      <th id=\"T_1d08c_level0_col1\" class=\"col_heading level0 col1\" >year</th>\n",
       "      <th id=\"T_1d08c_level0_col2\" class=\"col_heading level0 col2\" >quarter</th>\n",
       "      <th id=\"T_1d08c_level0_col3\" class=\"col_heading level0 col3\" >q_amt_c</th>\n",
       "      <th id=\"T_1d08c_level0_col4\" class=\"col_heading level0 col4\" >q_amt_p</th>\n",
       "      <th id=\"T_1d08c_level0_col5\" class=\"col_heading level0 col5\" >inc_profit</th>\n",
       "      <th id=\"T_1d08c_level0_col6\" class=\"col_heading level0 col6\" >percent</th>\n",
       "    </tr>\n",
       "  </thead>\n",
       "  <tbody>\n",
       "    <tr>\n",
       "      <th id=\"T_1d08c_level0_row0\" class=\"row_heading level0 row0\" >0</th>\n",
       "      <td id=\"T_1d08c_row0_col0\" class=\"data row0 col0\" >FPT</td>\n",
       "      <td id=\"T_1d08c_row0_col1\" class=\"data row0 col1\" >2025</td>\n",
       "      <td id=\"T_1d08c_row0_col2\" class=\"data row0 col2\" >Q1</td>\n",
       "      <td id=\"T_1d08c_row0_col3\" class=\"data row0 col3\" >1,447,950</td>\n",
       "      <td id=\"T_1d08c_row0_col4\" class=\"data row0 col4\" >1,853,193</td>\n",
       "      <td id=\"T_1d08c_row0_col5\" class=\"data row0 col5\" >-405,243</td>\n",
       "      <td id=\"T_1d08c_row0_col6\" class=\"data row0 col6\" >-21.87%</td>\n",
       "    </tr>\n",
       "    <tr>\n",
       "      <th id=\"T_1d08c_level0_row1\" class=\"row_heading level0 row1\" >1</th>\n",
       "      <td id=\"T_1d08c_row1_col0\" class=\"data row1 col0\" >GVREIT</td>\n",
       "      <td id=\"T_1d08c_row1_col1\" class=\"data row1 col1\" >2025</td>\n",
       "      <td id=\"T_1d08c_row1_col2\" class=\"data row1 col2\" >Q1</td>\n",
       "      <td id=\"T_1d08c_row1_col3\" class=\"data row1 col3\" >463,216</td>\n",
       "      <td id=\"T_1d08c_row1_col4\" class=\"data row1 col4\" >567,474</td>\n",
       "      <td id=\"T_1d08c_row1_col5\" class=\"data row1 col5\" >-104,258</td>\n",
       "      <td id=\"T_1d08c_row1_col6\" class=\"data row1 col6\" >-18.37%</td>\n",
       "    </tr>\n",
       "    <tr>\n",
       "      <th id=\"T_1d08c_level0_row2\" class=\"row_heading level0 row2\" >2</th>\n",
       "      <td id=\"T_1d08c_row2_col0\" class=\"data row2 col0\" >TFFIF</td>\n",
       "      <td id=\"T_1d08c_row2_col1\" class=\"data row2 col1\" >2025</td>\n",
       "      <td id=\"T_1d08c_row2_col2\" class=\"data row2 col2\" >Q1</td>\n",
       "      <td id=\"T_1d08c_row2_col3\" class=\"data row2 col3\" >-390,062</td>\n",
       "      <td id=\"T_1d08c_row2_col4\" class=\"data row2 col4\" >9,461,682</td>\n",
       "      <td id=\"T_1d08c_row2_col5\" class=\"data row2 col5\" >-9,851,744</td>\n",
       "      <td id=\"T_1d08c_row2_col6\" class=\"data row2 col6\" >-104.12%</td>\n",
       "    </tr>\n",
       "  </tbody>\n",
       "</table>\n"
      ],
      "text/plain": [
       "<pandas.io.formats.style.Styler at 0x2537aa6a3c0>"
      ]
     },
     "execution_count": 13,
     "metadata": {},
     "output_type": "execute_result"
    }
   ],
   "source": [
    "dfm = pd.merge(dfc_grp, dfp_grp, on=\"name\", suffixes=([\"_c\", \"_p\"]), how=\"inner\")\n",
    "dfm[\"inc_profit\"] = dfm[\"q_amt_c\"] - dfm[\"q_amt_p\"]\n",
    "dfm[\"percent\"] = round(dfm[\"inc_profit\"] / abs(dfm[\"q_amt_p\"]) * 100, 2)\n",
    "dfm[\"year\"] = year\n",
    "dfm[\"quarter\"] = \"Q\" + str(quarter)\n",
    "df_percent = dfm[cols]\n",
    "df_percent.head().style.format(format_dict)"
   ]
  },
  {
   "cell_type": "code",
   "execution_count": 15,
   "metadata": {},
   "outputs": [
    {
     "name": "stdout",
     "output_type": "stream",
     "text": [
      "Rows deleted: 1\n"
     ]
    }
   ],
   "source": [
    "# Create the SQL query with parameter binding\n",
    "sql = text(\"DELETE FROM yr_profits WHERE year = :year AND quarter = :quarter\")\n",
    "\n",
    "# Execute the query with parameters\n",
    "params = {'year': year, 'quarter': f'Q{quarter}'}\n",
    "rp = conlt.execute(sql, params)\n",
    "\n",
    "# Print the number of rows affected\n",
    "print(\"Rows deleted:\", rp.rowcount)"
   ]
  },
  {
   "cell_type": "code",
   "execution_count": 17,
   "metadata": {},
   "outputs": [
    {
     "data": {
      "text/plain": [
       "3"
      ]
     },
     "execution_count": 17,
     "metadata": {},
     "output_type": "execute_result"
    }
   ],
   "source": [
    "sql = \"SELECT name, id FROM tickers\"\n",
    "tickers = pd.read_sql(sql, conlt)\n",
    "df_ins = pd.merge(df_percent, tickers, on=\"name\", how=\"inner\")\n",
    "rcds = df_ins.values.tolist()\n",
    "len(rcds)"
   ]
  },
  {
   "cell_type": "code",
   "execution_count": 19,
   "metadata": {},
   "outputs": [],
   "source": [
    "# Convert DataFrame to list of records\n",
    "rcds = df_ins.values.tolist()\n",
    "\n",
    "# Define column names in the same order as values\n",
    "columns = ['name', 'year', 'quarter', 'latest_amt', 'previous_amt', 'inc_amt', 'inc_pct', 'ticker_id']\n",
    "\n",
    "# SQL insert statement with named parameters\n",
    "sql = text(\"\"\"\n",
    "    INSERT INTO yr_profits \n",
    "    (name, year, quarter, latest_amt, previous_amt, inc_amt, inc_pct, ticker_id)\n",
    "    VALUES (:name, :year, :quarter, :latest_amt, :previous_amt, :inc_amt, :inc_pct, :ticker_id)\n",
    "\"\"\")\n",
    "\n",
    "try:\n",
    "    # Execute inserts\n",
    "    for rcd in rcds:\n",
    "        # Convert list to dictionary\n",
    "        params = dict(zip(columns, rcd))\n",
    "        conlt.execute(sql, params)\n",
    "except Exception as e:\n",
    "    raise e"
   ]
  },
  {
   "cell_type": "markdown",
   "metadata": {},
   "source": [
    "### End of loop"
   ]
  },
  {
   "cell_type": "code",
   "execution_count": 21,
   "metadata": {},
   "outputs": [
    {
     "data": {
      "text/html": [
       "<style type=\"text/css\">\n",
       "</style>\n",
       "<table id=\"T_f189e\">\n",
       "  <thead>\n",
       "    <tr>\n",
       "      <th class=\"blank level0\" >&nbsp;</th>\n",
       "      <th id=\"T_f189e_level0_col0\" class=\"col_heading level0 col0\" >name</th>\n",
       "      <th id=\"T_f189e_level0_col1\" class=\"col_heading level0 col1\" >year</th>\n",
       "      <th id=\"T_f189e_level0_col2\" class=\"col_heading level0 col2\" >quarter</th>\n",
       "      <th id=\"T_f189e_level0_col3\" class=\"col_heading level0 col3\" >q_amt_c</th>\n",
       "      <th id=\"T_f189e_level0_col4\" class=\"col_heading level0 col4\" >q_amt_p</th>\n",
       "      <th id=\"T_f189e_level0_col5\" class=\"col_heading level0 col5\" >inc_profit</th>\n",
       "      <th id=\"T_f189e_level0_col6\" class=\"col_heading level0 col6\" >percent</th>\n",
       "    </tr>\n",
       "  </thead>\n",
       "  <tbody>\n",
       "    <tr>\n",
       "      <th id=\"T_f189e_level0_row0\" class=\"row_heading level0 row0\" >0</th>\n",
       "      <td id=\"T_f189e_row0_col0\" class=\"data row0 col0\" >FPT</td>\n",
       "      <td id=\"T_f189e_row0_col1\" class=\"data row0 col1\" >2025</td>\n",
       "      <td id=\"T_f189e_row0_col2\" class=\"data row0 col2\" >Q1</td>\n",
       "      <td id=\"T_f189e_row0_col3\" class=\"data row0 col3\" >1,447,950</td>\n",
       "      <td id=\"T_f189e_row0_col4\" class=\"data row0 col4\" >1,853,193</td>\n",
       "      <td id=\"T_f189e_row0_col5\" class=\"data row0 col5\" >-405,243</td>\n",
       "      <td id=\"T_f189e_row0_col6\" class=\"data row0 col6\" >-21.87%</td>\n",
       "    </tr>\n",
       "    <tr>\n",
       "      <th id=\"T_f189e_level0_row1\" class=\"row_heading level0 row1\" >1</th>\n",
       "      <td id=\"T_f189e_row1_col0\" class=\"data row1 col0\" >GVREIT</td>\n",
       "      <td id=\"T_f189e_row1_col1\" class=\"data row1 col1\" >2025</td>\n",
       "      <td id=\"T_f189e_row1_col2\" class=\"data row1 col2\" >Q1</td>\n",
       "      <td id=\"T_f189e_row1_col3\" class=\"data row1 col3\" >463,216</td>\n",
       "      <td id=\"T_f189e_row1_col4\" class=\"data row1 col4\" >567,474</td>\n",
       "      <td id=\"T_f189e_row1_col5\" class=\"data row1 col5\" >-104,258</td>\n",
       "      <td id=\"T_f189e_row1_col6\" class=\"data row1 col6\" >-18.37%</td>\n",
       "    </tr>\n",
       "  </tbody>\n",
       "</table>\n"
      ],
      "text/plain": [
       "<pandas.io.formats.style.Styler at 0x2537aa4c920>"
      ]
     },
     "execution_count": 21,
     "metadata": {},
     "output_type": "execute_result"
    }
   ],
   "source": [
    "criteria_1 = df_ins.q_amt_c > 440_000\n",
    "df_ins.loc[criteria_1, cols].head().style.format(format_dict)"
   ]
  },
  {
   "cell_type": "code",
   "execution_count": 23,
   "metadata": {},
   "outputs": [
    {
     "data": {
      "text/html": [
       "<style type=\"text/css\">\n",
       "</style>\n",
       "<table id=\"T_c65a3\">\n",
       "  <thead>\n",
       "    <tr>\n",
       "      <th class=\"blank level0\" >&nbsp;</th>\n",
       "      <th id=\"T_c65a3_level0_col0\" class=\"col_heading level0 col0\" >name</th>\n",
       "      <th id=\"T_c65a3_level0_col1\" class=\"col_heading level0 col1\" >year</th>\n",
       "      <th id=\"T_c65a3_level0_col2\" class=\"col_heading level0 col2\" >quarter</th>\n",
       "      <th id=\"T_c65a3_level0_col3\" class=\"col_heading level0 col3\" >q_amt_c</th>\n",
       "      <th id=\"T_c65a3_level0_col4\" class=\"col_heading level0 col4\" >q_amt_p</th>\n",
       "      <th id=\"T_c65a3_level0_col5\" class=\"col_heading level0 col5\" >inc_profit</th>\n",
       "      <th id=\"T_c65a3_level0_col6\" class=\"col_heading level0 col6\" >percent</th>\n",
       "    </tr>\n",
       "  </thead>\n",
       "  <tbody>\n",
       "    <tr>\n",
       "      <th id=\"T_c65a3_level0_row0\" class=\"row_heading level0 row0\" >0</th>\n",
       "      <td id=\"T_c65a3_row0_col0\" class=\"data row0 col0\" >FPT</td>\n",
       "      <td id=\"T_c65a3_row0_col1\" class=\"data row0 col1\" >2025</td>\n",
       "      <td id=\"T_c65a3_row0_col2\" class=\"data row0 col2\" >Q1</td>\n",
       "      <td id=\"T_c65a3_row0_col3\" class=\"data row0 col3\" >1,447,950</td>\n",
       "      <td id=\"T_c65a3_row0_col4\" class=\"data row0 col4\" >1,853,193</td>\n",
       "      <td id=\"T_c65a3_row0_col5\" class=\"data row0 col5\" >-405,243</td>\n",
       "      <td id=\"T_c65a3_row0_col6\" class=\"data row0 col6\" >-21.87%</td>\n",
       "    </tr>\n",
       "    <tr>\n",
       "      <th id=\"T_c65a3_level0_row1\" class=\"row_heading level0 row1\" >1</th>\n",
       "      <td id=\"T_c65a3_row1_col0\" class=\"data row1 col0\" >GVREIT</td>\n",
       "      <td id=\"T_c65a3_row1_col1\" class=\"data row1 col1\" >2025</td>\n",
       "      <td id=\"T_c65a3_row1_col2\" class=\"data row1 col2\" >Q1</td>\n",
       "      <td id=\"T_c65a3_row1_col3\" class=\"data row1 col3\" >463,216</td>\n",
       "      <td id=\"T_c65a3_row1_col4\" class=\"data row1 col4\" >567,474</td>\n",
       "      <td id=\"T_c65a3_row1_col5\" class=\"data row1 col5\" >-104,258</td>\n",
       "      <td id=\"T_c65a3_row1_col6\" class=\"data row1 col6\" >-18.37%</td>\n",
       "    </tr>\n",
       "    <tr>\n",
       "      <th id=\"T_c65a3_level0_row2\" class=\"row_heading level0 row2\" >2</th>\n",
       "      <td id=\"T_c65a3_row2_col0\" class=\"data row2 col0\" >TFFIF</td>\n",
       "      <td id=\"T_c65a3_row2_col1\" class=\"data row2 col1\" >2025</td>\n",
       "      <td id=\"T_c65a3_row2_col2\" class=\"data row2 col2\" >Q1</td>\n",
       "      <td id=\"T_c65a3_row2_col3\" class=\"data row2 col3\" >-390,062</td>\n",
       "      <td id=\"T_c65a3_row2_col4\" class=\"data row2 col4\" >9,461,682</td>\n",
       "      <td id=\"T_c65a3_row2_col5\" class=\"data row2 col5\" >-9,851,744</td>\n",
       "      <td id=\"T_c65a3_row2_col6\" class=\"data row2 col6\" >-104.12%</td>\n",
       "    </tr>\n",
       "  </tbody>\n",
       "</table>\n"
      ],
      "text/plain": [
       "<pandas.io.formats.style.Styler at 0x2537a93f680>"
      ]
     },
     "execution_count": 23,
     "metadata": {},
     "output_type": "execute_result"
    }
   ],
   "source": [
    "criteria_2 = df_ins.q_amt_p > 400_000\n",
    "df_ins.loc[criteria_2, cols].head().style.format(format_dict)"
   ]
  },
  {
   "cell_type": "code",
   "execution_count": 25,
   "metadata": {},
   "outputs": [
    {
     "data": {
      "text/html": [
       "<style type=\"text/css\">\n",
       "</style>\n",
       "<table id=\"T_4eb78\">\n",
       "  <thead>\n",
       "    <tr>\n",
       "      <th class=\"blank level0\" >&nbsp;</th>\n",
       "      <th id=\"T_4eb78_level0_col0\" class=\"col_heading level0 col0\" >name</th>\n",
       "      <th id=\"T_4eb78_level0_col1\" class=\"col_heading level0 col1\" >year</th>\n",
       "      <th id=\"T_4eb78_level0_col2\" class=\"col_heading level0 col2\" >quarter</th>\n",
       "      <th id=\"T_4eb78_level0_col3\" class=\"col_heading level0 col3\" >q_amt_c</th>\n",
       "      <th id=\"T_4eb78_level0_col4\" class=\"col_heading level0 col4\" >q_amt_p</th>\n",
       "      <th id=\"T_4eb78_level0_col5\" class=\"col_heading level0 col5\" >inc_profit</th>\n",
       "      <th id=\"T_4eb78_level0_col6\" class=\"col_heading level0 col6\" >percent</th>\n",
       "    </tr>\n",
       "  </thead>\n",
       "  <tbody>\n",
       "  </tbody>\n",
       "</table>\n"
      ],
      "text/plain": [
       "<pandas.io.formats.style.Styler at 0x2537aa0faa0>"
      ]
     },
     "execution_count": 25,
     "metadata": {},
     "output_type": "execute_result"
    }
   ],
   "source": [
    "criteria_3 = df_ins.percent > 10.00\n",
    "df_ins.loc[criteria_3, cols].head().style.format(format_dict)"
   ]
  },
  {
   "cell_type": "code",
   "execution_count": 27,
   "metadata": {},
   "outputs": [
    {
     "data": {
      "text/html": [
       "<style type=\"text/css\">\n",
       "</style>\n",
       "<table id=\"T_93fe2\">\n",
       "  <thead>\n",
       "    <tr>\n",
       "      <th class=\"blank level0\" >&nbsp;</th>\n",
       "      <th id=\"T_93fe2_level0_col0\" class=\"col_heading level0 col0\" >name</th>\n",
       "      <th id=\"T_93fe2_level0_col1\" class=\"col_heading level0 col1\" >year</th>\n",
       "      <th id=\"T_93fe2_level0_col2\" class=\"col_heading level0 col2\" >quarter</th>\n",
       "      <th id=\"T_93fe2_level0_col3\" class=\"col_heading level0 col3\" >q_amt_c</th>\n",
       "      <th id=\"T_93fe2_level0_col4\" class=\"col_heading level0 col4\" >q_amt_p</th>\n",
       "      <th id=\"T_93fe2_level0_col5\" class=\"col_heading level0 col5\" >inc_profit</th>\n",
       "      <th id=\"T_93fe2_level0_col6\" class=\"col_heading level0 col6\" >percent</th>\n",
       "    </tr>\n",
       "  </thead>\n",
       "  <tbody>\n",
       "  </tbody>\n",
       "</table>\n"
      ],
      "text/plain": [
       "<pandas.io.formats.style.Styler at 0x2537aa7ffe0>"
      ]
     },
     "execution_count": 27,
     "metadata": {},
     "output_type": "execute_result"
    }
   ],
   "source": [
    "final_criteria = criteria_1 & criteria_2 & criteria_3\n",
    "df_ins.loc[final_criteria, cols].sort_values(by=[\"percent\"], ascending=[False]).head().style.format(format_dict)"
   ]
  },
  {
   "cell_type": "code",
   "execution_count": 29,
   "metadata": {},
   "outputs": [
    {
     "data": {
      "text/html": [
       "<style type=\"text/css\">\n",
       "</style>\n",
       "<table id=\"T_610c5\">\n",
       "  <thead>\n",
       "    <tr>\n",
       "      <th class=\"blank level0\" >&nbsp;</th>\n",
       "      <th id=\"T_610c5_level0_col0\" class=\"col_heading level0 col0\" >name</th>\n",
       "      <th id=\"T_610c5_level0_col1\" class=\"col_heading level0 col1\" >year</th>\n",
       "      <th id=\"T_610c5_level0_col2\" class=\"col_heading level0 col2\" >quarter</th>\n",
       "      <th id=\"T_610c5_level0_col3\" class=\"col_heading level0 col3\" >q_amt_c</th>\n",
       "      <th id=\"T_610c5_level0_col4\" class=\"col_heading level0 col4\" >q_amt_p</th>\n",
       "      <th id=\"T_610c5_level0_col5\" class=\"col_heading level0 col5\" >inc_profit</th>\n",
       "      <th id=\"T_610c5_level0_col6\" class=\"col_heading level0 col6\" >percent</th>\n",
       "    </tr>\n",
       "  </thead>\n",
       "  <tbody>\n",
       "  </tbody>\n",
       "</table>\n"
      ],
      "text/plain": [
       "<pandas.io.formats.style.Styler at 0x2537aaaab10>"
      ]
     },
     "execution_count": 29,
     "metadata": {},
     "output_type": "execute_result"
    }
   ],
   "source": [
    "df_ins.loc[final_criteria, cols].sort_values(by=[\"name\"], ascending=[True]).head().style.format(format_dict)"
   ]
  },
  {
   "cell_type": "code",
   "execution_count": 31,
   "metadata": {},
   "outputs": [
    {
     "data": {
      "text/html": [
       "<style type=\"text/css\">\n",
       "</style>\n",
       "<table id=\"T_df37d\">\n",
       "  <thead>\n",
       "    <tr>\n",
       "      <th class=\"blank level0\" >&nbsp;</th>\n",
       "      <th id=\"T_df37d_level0_col0\" class=\"col_heading level0 col0\" >name</th>\n",
       "      <th id=\"T_df37d_level0_col1\" class=\"col_heading level0 col1\" >year</th>\n",
       "      <th id=\"T_df37d_level0_col2\" class=\"col_heading level0 col2\" >quarter</th>\n",
       "      <th id=\"T_df37d_level0_col3\" class=\"col_heading level0 col3\" >q_amt_c</th>\n",
       "      <th id=\"T_df37d_level0_col4\" class=\"col_heading level0 col4\" >q_amt_p</th>\n",
       "      <th id=\"T_df37d_level0_col5\" class=\"col_heading level0 col5\" >inc_profit</th>\n",
       "      <th id=\"T_df37d_level0_col6\" class=\"col_heading level0 col6\" >percent</th>\n",
       "    </tr>\n",
       "  </thead>\n",
       "  <tbody>\n",
       "  </tbody>\n",
       "</table>\n"
      ],
      "text/plain": [
       "<pandas.io.formats.style.Styler at 0x2537aa7fec0>"
      ]
     },
     "execution_count": 31,
     "metadata": {},
     "output_type": "execute_result"
    }
   ],
   "source": [
    "df_ins.loc[final_criteria, cols].sort_values(by=[\"name\"], ascending=[True]).head().style.format(format_dict)"
   ]
  },
  {
   "cell_type": "code",
   "execution_count": 33,
   "metadata": {},
   "outputs": [],
   "source": [
    "conlt.commit()\n",
    "conlt.close()"
   ]
  },
  {
   "cell_type": "code",
   "execution_count": 35,
   "metadata": {},
   "outputs": [
    {
     "name": "stdout",
     "output_type": "stream",
     "text": [
      "2025:02:15 14:56:38\n"
     ]
    }
   ],
   "source": [
    "current_time = datetime.now()\n",
    "formatted_time = current_time.strftime(\"%Y:%m:%d %H:%M:%S\")\n",
    "print(formatted_time)"
   ]
  },
  {
   "cell_type": "code",
   "execution_count": null,
   "metadata": {},
   "outputs": [],
   "source": []
  }
 ],
 "metadata": {
  "anaconda-cloud": {},
  "kernelspec": {
   "display_name": "Python 3 (ipykernel)",
   "language": "python",
   "name": "python3"
  },
  "language_info": {
   "codemirror_mode": {
    "name": "ipython",
    "version": 3
   },
   "file_extension": ".py",
   "mimetype": "text/x-python",
   "name": "python",
   "nbconvert_exporter": "python",
   "pygments_lexer": "ipython3",
   "version": "3.12.3"
  }
 },
 "nbformat": 4,
 "nbformat_minor": 4
}
