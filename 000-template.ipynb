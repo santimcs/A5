{
 "cells": [
  {
   "cell_type": "code",
   "execution_count": null,
   "id": "32d93bb5-09f1-471e-b5de-d30a3c6155ee",
   "metadata": {},
   "outputs": [],
   "source": [
    "import pandas as pd\n",
    "from datetime import datetime, timedelta\n",
    "from googleapiclient.discovery import build\n",
    "import os\n",
    "import re\n",
    "from dotenv import load_dotenv\n",
    "# Load environment variables from .env file\n",
    "load_dotenv()\n",
    "\n",
    "# Retrieve API key from environment variables\n",
    "YOUTUBE_DEVELOPER_KEY = os.getenv('YOUTUBE_DEVELOPER_KEY')\n",
    "\n",
    "# Verify API key is loaded\n",
    "if not YOUTUBE_DEVELOPER_KEY:\n",
    "    raise ValueError(\"YouTube API key not found. Please create a .env file with YOUTUBE_API_KEY=\")\n",
    "    \n",
    "youtube = build('youtube', 'v3', developerKey=YOUTUBE_DEVELOPER_KEY)"
   ]
  }
 ],
 "metadata": {
  "kernelspec": {
   "display_name": "Python 3 (ipykernel)",
   "language": "python",
   "name": "python3"
  },
  "language_info": {
   "codemirror_mode": {
    "name": "ipython",
    "version": 3
   },
   "file_extension": ".py",
   "mimetype": "text/x-python",
   "name": "python",
   "nbconvert_exporter": "python",
   "pygments_lexer": "ipython3",
   "version": "3.12.3"
  }
 },
 "nbformat": 4,
 "nbformat_minor": 5
}
