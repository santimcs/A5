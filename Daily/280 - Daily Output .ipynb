{
 "cells": [
  {
   "cell_type": "markdown",
   "metadata": {},
   "source": [
    "### Must run step by step as there are command lines to be executed in the middle of the flow"
   ]
  },
  {
   "cell_type": "markdown",
   "metadata": {},
   "source": [
    "### Input files: Price-Today.csv\n",
    "### Output files: daily-sales.csv, daily-sales-prices.csv"
   ]
  },
  {
   "cell_type": "code",
   "execution_count": 3,
   "metadata": {},
   "outputs": [
    {
     "name": "stdout",
     "output_type": "stream",
     "text": [
      "2025-08-07\n"
     ]
    }
   ],
   "source": [
    "import numpy as np\n",
    "import os\n",
    "import pandas as pd\n",
    "from datetime import date, timedelta, datetime\n",
    "from sqlalchemy import create_engine\n",
    "from pandas.tseries.offsets import BDay\n",
    "\n",
    "engine = create_engine(\"sqlite:///c:\\\\ruby\\\\port_lite\\\\db\\\\development.sqlite3\")\n",
    "conlite = engine.connect()\n",
    "\n",
    "today = date.today()\n",
    "print(today)"
   ]
  },
  {
   "cell_type": "code",
   "execution_count": 5,
   "metadata": {},
   "outputs": [
    {
     "name": "stdout",
     "output_type": "stream",
     "text": [
      "Today: 2025-08-07\n",
      "Yesterday: 2025-08-06\n"
     ]
    }
   ],
   "source": [
    "# convert the timedelta object to a BusinessDay object\n",
    "num_business_days = BDay(1)\n",
    "yesterday = today - num_business_days\n",
    "yesterday = yesterday.date()\n",
    "print(f'Today: {today}')\n",
    "print(f'Yesterday: {yesterday}')"
   ]
  },
  {
   "cell_type": "code",
   "execution_count": 7,
   "metadata": {},
   "outputs": [],
   "source": [
    "cols = 'name fm_date to_date fm_price to_price qty max_price min_price percent status'.split()\n",
    "\n",
    "format_dict = {\n",
    "    'fm_price':'{:.2f}','to_price':'{:.2f}','diff':'{:.2f}',\n",
    "    'max_price':'{:.2f}','min_price':'{:.2f}',\n",
    "    'volume':'{:,.2f}','beta':'{:,.2f}',\n",
    "    'pct':'{:,.2f}%','percent':'{:,.2f}%',   \n",
    "    'fm_date':'{:%Y-%m-%d}','to_date':'{:%Y-%m-%d}',\n",
    "    'created_at':'{:%Y-%m-%d}','updated_at':'{:%Y-%m-%d}',\n",
    "    \n",
    "    'qty':'{:,}','available_qty':'{:,}',\n",
    "    'cost':'{:.2f}','buy_target':'{:.2f}','sell_target':'{:.2f}',\n",
    "}"
   ]
  },
  {
   "cell_type": "code",
   "execution_count": 9,
   "metadata": {},
   "outputs": [],
   "source": [
    "# Get the user's home directory\n",
    "user_path = os.path.expanduser('~')\n",
    "# Get the current working directory\n",
    "current_path = os.getcwd()\n",
    "# Derive the base directory (base_dir) by removing the last folder ('Daily')\n",
    "base_path = os.path.dirname(current_path)\n",
    "#C:\\Users\\PC1\\OneDrive\\A5\\Data\n",
    "dat_path = os.path.join(base_path, \"Data\")\n",
    "#C:\\Users\\PC1\\OneDrive\\Imports\\santisoontarinka@gmail.com - Google Drive\\Data>\n",
    "god_path = os.path.join(user_path, \"OneDrive\",\"Imports\",\"santisoontarinka@gmail.com - Google Drive\",\"Data\")\n",
    "#C:\\Users\\PC1\\iCloudDrive\\data\n",
    "icd_path = os.path.join(user_path, \"iCloudDrive\", \"Data\")\n",
    "#C:\\Users\\PC1\\OneDrive\\Documents\\obsidian-git-sync\\Data\n",
    "osd_path = os.path.join(user_path, \"OneDrive\",\"Documents\",\"obsidian-git-sync\",\"Data\")"
   ]
  },
  {
   "cell_type": "code",
   "execution_count": 11,
   "metadata": {},
   "outputs": [
    {
     "name": "stdout",
     "output_type": "stream",
     "text": [
      "User path: C:\\Users\\PC1\n",
      "Current path: C:\\Users\\PC1\\OneDrive\\A5\\Daily\n",
      "Base path: C:\\Users\\PC1\\OneDrive\\A5\n",
      "Data path : C:\\Users\\PC1\\OneDrive\\A5\\Data\n",
      "Google Drive path : C:\\Users\\PC1\\OneDrive\\Imports\\santisoontarinka@gmail.com - Google Drive\\Data\n",
      "iCloudDrive path : C:\\Users\\PC1\\iCloudDrive\\Data\n",
      "OSD path : C:\\Users\\PC1\\OneDrive\\Documents\\obsidian-git-sync\\Data\n"
     ]
    }
   ],
   "source": [
    "print(\"User path:\", user_path)\n",
    "print(f\"Current path: {current_path}\")\n",
    "print(f\"Base path: {base_path}\")\n",
    "print(f\"Data path : {dat_path}\") \n",
    "print(f\"Google Drive path : {god_path}\")\n",
    "print(f\"iCloudDrive path : {icd_path}\") \n",
    "print(f\"OSD path : {osd_path}\") "
   ]
  },
  {
   "cell_type": "code",
   "execution_count": 13,
   "metadata": {
    "scrolled": true
   },
   "outputs": [
    {
     "name": "stdout",
     "output_type": "stream",
     "text": [
      "\n",
      "SELECT DISTINCT a.name\n",
      "FROM sales a \n",
      "WHERE to_date = '2025-08-06'\n",
      "ORDER BY a.name\n",
      "\n"
     ]
    },
    {
     "data": {
      "text/plain": [
       "(11, 1)"
      ]
     },
     "execution_count": 13,
     "metadata": {},
     "output_type": "execute_result"
    }
   ],
   "source": [
    "sql = \"\"\"\n",
    "SELECT DISTINCT a.name\n",
    "FROM sales a \n",
    "WHERE to_date = '%s'\n",
    "ORDER BY a.name\n",
    "\"\"\"\n",
    "sql = sql % yesterday\n",
    "print(sql)\n",
    "tmp = pd.read_sql(sql, conlite)\n",
    "tmp.shape"
   ]
  },
  {
   "cell_type": "code",
   "execution_count": 15,
   "metadata": {},
   "outputs": [
    {
     "name": "stdout",
     "output_type": "stream",
     "text": [
      "\n",
      "SELECT a.name,fm_date,to_date,fm_price,to_price,\n",
      "a.qty,a.max_price,a.min_price,t.status,t.market\n",
      "FROM sales a \n",
      "JOIN stocks t ON a.name = t.name \n",
      "WHERE to_date = '2025-08-06' AND t.status IN (\"B\",\"I\", \"O\", \"S\") \n",
      "ORDER BY t.status, a.name\n",
      "\n"
     ]
    }
   ],
   "source": [
    "sql = \"\"\"\n",
    "SELECT a.name,fm_date,to_date,fm_price,to_price,\n",
    "a.qty,a.max_price,a.min_price,t.status,t.market\n",
    "FROM sales a \n",
    "JOIN stocks t ON a.name = t.name \n",
    "WHERE to_date = '%s' AND t.status IN (\"B\",\"I\", \"O\", \"S\") \n",
    "ORDER BY t.status, a.name\n",
    "\"\"\"\n",
    "sql = sql % yesterday\n",
    "print(sql)"
   ]
  },
  {
   "cell_type": "markdown",
   "metadata": {},
   "source": [
    "### This statement causes program to hang when there is no data"
   ]
  },
  {
   "cell_type": "code",
   "execution_count": 18,
   "metadata": {},
   "outputs": [
    {
     "data": {
      "text/html": [
       "<div>\n",
       "<style scoped>\n",
       "    .dataframe tbody tr th:only-of-type {\n",
       "        vertical-align: middle;\n",
       "    }\n",
       "\n",
       "    .dataframe tbody tr th {\n",
       "        vertical-align: top;\n",
       "    }\n",
       "\n",
       "    .dataframe thead th {\n",
       "        text-align: right;\n",
       "    }\n",
       "</style>\n",
       "<table border=\"1\" class=\"dataframe\">\n",
       "  <thead>\n",
       "    <tr style=\"text-align: right;\">\n",
       "      <th></th>\n",
       "      <th>name</th>\n",
       "      <th>fm_date</th>\n",
       "      <th>to_date</th>\n",
       "      <th>fm_price</th>\n",
       "      <th>to_price</th>\n",
       "      <th>qty</th>\n",
       "      <th>max_price</th>\n",
       "      <th>min_price</th>\n",
       "      <th>status</th>\n",
       "      <th>market</th>\n",
       "      <th>diff</th>\n",
       "      <th>percent</th>\n",
       "    </tr>\n",
       "  </thead>\n",
       "  <tbody>\n",
       "    <tr>\n",
       "      <th>0</th>\n",
       "      <td>DIF</td>\n",
       "      <td>2025-07-31</td>\n",
       "      <td>2025-08-06</td>\n",
       "      <td>8.15</td>\n",
       "      <td>8.35</td>\n",
       "      <td>85607088</td>\n",
       "      <td>8.35</td>\n",
       "      <td>8.15</td>\n",
       "      <td>B</td>\n",
       "      <td>SET</td>\n",
       "      <td>0.20</td>\n",
       "      <td>2.45</td>\n",
       "    </tr>\n",
       "    <tr>\n",
       "      <th>1</th>\n",
       "      <td>GVREIT</td>\n",
       "      <td>2025-08-06</td>\n",
       "      <td>2025-08-06</td>\n",
       "      <td>6.60</td>\n",
       "      <td>6.55</td>\n",
       "      <td>1195892</td>\n",
       "      <td>6.60</td>\n",
       "      <td>6.55</td>\n",
       "      <td>B</td>\n",
       "      <td>SET</td>\n",
       "      <td>-0.05</td>\n",
       "      <td>-0.76</td>\n",
       "    </tr>\n",
       "    <tr>\n",
       "      <th>2</th>\n",
       "      <td>JMT</td>\n",
       "      <td>2025-08-05</td>\n",
       "      <td>2025-08-06</td>\n",
       "      <td>10.50</td>\n",
       "      <td>12.40</td>\n",
       "      <td>86843944</td>\n",
       "      <td>12.40</td>\n",
       "      <td>10.50</td>\n",
       "      <td>B</td>\n",
       "      <td>SET50</td>\n",
       "      <td>1.90</td>\n",
       "      <td>18.10</td>\n",
       "    </tr>\n",
       "    <tr>\n",
       "      <th>3</th>\n",
       "      <td>SENA</td>\n",
       "      <td>2025-08-05</td>\n",
       "      <td>2025-08-06</td>\n",
       "      <td>1.74</td>\n",
       "      <td>1.79</td>\n",
       "      <td>445936</td>\n",
       "      <td>1.82</td>\n",
       "      <td>1.72</td>\n",
       "      <td>B</td>\n",
       "      <td>SET</td>\n",
       "      <td>0.05</td>\n",
       "      <td>2.87</td>\n",
       "    </tr>\n",
       "    <tr>\n",
       "      <th>4</th>\n",
       "      <td>WHAIR</td>\n",
       "      <td>2025-08-05</td>\n",
       "      <td>2025-08-06</td>\n",
       "      <td>5.45</td>\n",
       "      <td>5.55</td>\n",
       "      <td>1631700</td>\n",
       "      <td>5.55</td>\n",
       "      <td>5.40</td>\n",
       "      <td>B</td>\n",
       "      <td>SET</td>\n",
       "      <td>0.10</td>\n",
       "      <td>1.83</td>\n",
       "    </tr>\n",
       "    <tr>\n",
       "      <th>5</th>\n",
       "      <td>WHART</td>\n",
       "      <td>2025-08-05</td>\n",
       "      <td>2025-08-06</td>\n",
       "      <td>9.20</td>\n",
       "      <td>9.40</td>\n",
       "      <td>4356956</td>\n",
       "      <td>9.40</td>\n",
       "      <td>9.20</td>\n",
       "      <td>B</td>\n",
       "      <td>SET</td>\n",
       "      <td>0.20</td>\n",
       "      <td>2.17</td>\n",
       "    </tr>\n",
       "    <tr>\n",
       "      <th>6</th>\n",
       "      <td>AIMIRT</td>\n",
       "      <td>2025-08-05</td>\n",
       "      <td>2025-08-06</td>\n",
       "      <td>9.80</td>\n",
       "      <td>9.85</td>\n",
       "      <td>1565872</td>\n",
       "      <td>9.90</td>\n",
       "      <td>9.55</td>\n",
       "      <td>S</td>\n",
       "      <td>SET</td>\n",
       "      <td>0.05</td>\n",
       "      <td>0.51</td>\n",
       "    </tr>\n",
       "    <tr>\n",
       "      <th>7</th>\n",
       "      <td>IVL</td>\n",
       "      <td>2025-08-06</td>\n",
       "      <td>2025-08-06</td>\n",
       "      <td>22.50</td>\n",
       "      <td>23.70</td>\n",
       "      <td>36456644</td>\n",
       "      <td>23.70</td>\n",
       "      <td>22.40</td>\n",
       "      <td>S</td>\n",
       "      <td>SET50</td>\n",
       "      <td>1.20</td>\n",
       "      <td>5.33</td>\n",
       "    </tr>\n",
       "    <tr>\n",
       "      <th>8</th>\n",
       "      <td>MCS</td>\n",
       "      <td>2025-08-01</td>\n",
       "      <td>2025-08-06</td>\n",
       "      <td>8.30</td>\n",
       "      <td>8.45</td>\n",
       "      <td>1098712</td>\n",
       "      <td>8.45</td>\n",
       "      <td>8.30</td>\n",
       "      <td>S</td>\n",
       "      <td>SET</td>\n",
       "      <td>0.15</td>\n",
       "      <td>1.81</td>\n",
       "    </tr>\n",
       "    <tr>\n",
       "      <th>9</th>\n",
       "      <td>NER</td>\n",
       "      <td>2025-08-05</td>\n",
       "      <td>2025-08-06</td>\n",
       "      <td>4.42</td>\n",
       "      <td>4.52</td>\n",
       "      <td>96832194</td>\n",
       "      <td>4.56</td>\n",
       "      <td>4.22</td>\n",
       "      <td>S</td>\n",
       "      <td>SET</td>\n",
       "      <td>0.10</td>\n",
       "      <td>2.26</td>\n",
       "    </tr>\n",
       "    <tr>\n",
       "      <th>10</th>\n",
       "      <td>PTG</td>\n",
       "      <td>2025-08-06</td>\n",
       "      <td>2025-08-06</td>\n",
       "      <td>6.55</td>\n",
       "      <td>6.85</td>\n",
       "      <td>50285196</td>\n",
       "      <td>6.85</td>\n",
       "      <td>6.55</td>\n",
       "      <td>S</td>\n",
       "      <td>SET100</td>\n",
       "      <td>0.30</td>\n",
       "      <td>4.58</td>\n",
       "    </tr>\n",
       "  </tbody>\n",
       "</table>\n",
       "</div>"
      ],
      "text/plain": [
       "      name    fm_date    to_date  fm_price  to_price       qty  max_price  \\\n",
       "0      DIF 2025-07-31 2025-08-06      8.15      8.35  85607088       8.35   \n",
       "1   GVREIT 2025-08-06 2025-08-06      6.60      6.55   1195892       6.60   \n",
       "2      JMT 2025-08-05 2025-08-06     10.50     12.40  86843944      12.40   \n",
       "3     SENA 2025-08-05 2025-08-06      1.74      1.79    445936       1.82   \n",
       "4    WHAIR 2025-08-05 2025-08-06      5.45      5.55   1631700       5.55   \n",
       "5    WHART 2025-08-05 2025-08-06      9.20      9.40   4356956       9.40   \n",
       "6   AIMIRT 2025-08-05 2025-08-06      9.80      9.85   1565872       9.90   \n",
       "7      IVL 2025-08-06 2025-08-06     22.50     23.70  36456644      23.70   \n",
       "8      MCS 2025-08-01 2025-08-06      8.30      8.45   1098712       8.45   \n",
       "9      NER 2025-08-05 2025-08-06      4.42      4.52  96832194       4.56   \n",
       "10     PTG 2025-08-06 2025-08-06      6.55      6.85  50285196       6.85   \n",
       "\n",
       "    min_price status  market  diff  percent  \n",
       "0        8.15      B     SET  0.20     2.45  \n",
       "1        6.55      B     SET -0.05    -0.76  \n",
       "2       10.50      B   SET50  1.90    18.10  \n",
       "3        1.72      B     SET  0.05     2.87  \n",
       "4        5.40      B     SET  0.10     1.83  \n",
       "5        9.20      B     SET  0.20     2.17  \n",
       "6        9.55      S     SET  0.05     0.51  \n",
       "7       22.40      S   SET50  1.20     5.33  \n",
       "8        8.30      S     SET  0.15     1.81  \n",
       "9        4.22      S     SET  0.10     2.26  \n",
       "10       6.55      S  SET100  0.30     4.58  "
      ]
     },
     "execution_count": 18,
     "metadata": {},
     "output_type": "execute_result"
    }
   ],
   "source": [
    "df = pd.read_sql(sql, conlite)\n",
    "#df.set_index([\"name\"], inplace=True)\n",
    "df['fm_date'] = pd.to_datetime(df['fm_date'])\n",
    "df['to_date'] = pd.to_datetime(df['to_date'])\n",
    "df.eval('diff = to_price - fm_price',inplace=True)\n",
    "df['percent'] = round(df['diff']/df['fm_price']*100,2)\n",
    "#df.style.format(format_dict)\n",
    "df"
   ]
  },
  {
   "cell_type": "code",
   "execution_count": 20,
   "metadata": {},
   "outputs": [
    {
     "data": {
      "text/plain": [
       "(11, 12)"
      ]
     },
     "execution_count": 20,
     "metadata": {},
     "output_type": "execute_result"
    }
   ],
   "source": [
    "df.shape"
   ]
  },
  {
   "cell_type": "markdown",
   "metadata": {},
   "source": [
    "### IF the above count not equal number of orders, there must be something incorrect"
   ]
  },
  {
   "cell_type": "markdown",
   "metadata": {},
   "source": [
    "### Create daily-sales from sales"
   ]
  },
  {
   "cell_type": "code",
   "execution_count": 24,
   "metadata": {},
   "outputs": [
    {
     "data": {
      "text/html": [
       "<style type=\"text/css\">\n",
       "</style>\n",
       "<table id=\"T_86ced\">\n",
       "  <thead>\n",
       "    <tr>\n",
       "      <th class=\"blank level0\" >&nbsp;</th>\n",
       "      <th id=\"T_86ced_level0_col0\" class=\"col_heading level0 col0\" >name</th>\n",
       "      <th id=\"T_86ced_level0_col1\" class=\"col_heading level0 col1\" >fm_date</th>\n",
       "      <th id=\"T_86ced_level0_col2\" class=\"col_heading level0 col2\" >to_date</th>\n",
       "      <th id=\"T_86ced_level0_col3\" class=\"col_heading level0 col3\" >fm_price</th>\n",
       "      <th id=\"T_86ced_level0_col4\" class=\"col_heading level0 col4\" >to_price</th>\n",
       "      <th id=\"T_86ced_level0_col5\" class=\"col_heading level0 col5\" >qty</th>\n",
       "      <th id=\"T_86ced_level0_col6\" class=\"col_heading level0 col6\" >max_price</th>\n",
       "      <th id=\"T_86ced_level0_col7\" class=\"col_heading level0 col7\" >min_price</th>\n",
       "      <th id=\"T_86ced_level0_col8\" class=\"col_heading level0 col8\" >percent</th>\n",
       "      <th id=\"T_86ced_level0_col9\" class=\"col_heading level0 col9\" >status</th>\n",
       "    </tr>\n",
       "  </thead>\n",
       "  <tbody>\n",
       "    <tr>\n",
       "      <th id=\"T_86ced_level0_row0\" class=\"row_heading level0 row0\" >0</th>\n",
       "      <td id=\"T_86ced_row0_col0\" class=\"data row0 col0\" >DIF</td>\n",
       "      <td id=\"T_86ced_row0_col1\" class=\"data row0 col1\" >2025-07-31</td>\n",
       "      <td id=\"T_86ced_row0_col2\" class=\"data row0 col2\" >2025-08-06</td>\n",
       "      <td id=\"T_86ced_row0_col3\" class=\"data row0 col3\" >8.15</td>\n",
       "      <td id=\"T_86ced_row0_col4\" class=\"data row0 col4\" >8.35</td>\n",
       "      <td id=\"T_86ced_row0_col5\" class=\"data row0 col5\" >85,607,088</td>\n",
       "      <td id=\"T_86ced_row0_col6\" class=\"data row0 col6\" >8.35</td>\n",
       "      <td id=\"T_86ced_row0_col7\" class=\"data row0 col7\" >8.15</td>\n",
       "      <td id=\"T_86ced_row0_col8\" class=\"data row0 col8\" >2.45%</td>\n",
       "      <td id=\"T_86ced_row0_col9\" class=\"data row0 col9\" >B</td>\n",
       "    </tr>\n",
       "    <tr>\n",
       "      <th id=\"T_86ced_level0_row1\" class=\"row_heading level0 row1\" >1</th>\n",
       "      <td id=\"T_86ced_row1_col0\" class=\"data row1 col0\" >GVREIT</td>\n",
       "      <td id=\"T_86ced_row1_col1\" class=\"data row1 col1\" >2025-08-06</td>\n",
       "      <td id=\"T_86ced_row1_col2\" class=\"data row1 col2\" >2025-08-06</td>\n",
       "      <td id=\"T_86ced_row1_col3\" class=\"data row1 col3\" >6.60</td>\n",
       "      <td id=\"T_86ced_row1_col4\" class=\"data row1 col4\" >6.55</td>\n",
       "      <td id=\"T_86ced_row1_col5\" class=\"data row1 col5\" >1,195,892</td>\n",
       "      <td id=\"T_86ced_row1_col6\" class=\"data row1 col6\" >6.60</td>\n",
       "      <td id=\"T_86ced_row1_col7\" class=\"data row1 col7\" >6.55</td>\n",
       "      <td id=\"T_86ced_row1_col8\" class=\"data row1 col8\" >-0.76%</td>\n",
       "      <td id=\"T_86ced_row1_col9\" class=\"data row1 col9\" >B</td>\n",
       "    </tr>\n",
       "    <tr>\n",
       "      <th id=\"T_86ced_level0_row2\" class=\"row_heading level0 row2\" >2</th>\n",
       "      <td id=\"T_86ced_row2_col0\" class=\"data row2 col0\" >JMT</td>\n",
       "      <td id=\"T_86ced_row2_col1\" class=\"data row2 col1\" >2025-08-05</td>\n",
       "      <td id=\"T_86ced_row2_col2\" class=\"data row2 col2\" >2025-08-06</td>\n",
       "      <td id=\"T_86ced_row2_col3\" class=\"data row2 col3\" >10.50</td>\n",
       "      <td id=\"T_86ced_row2_col4\" class=\"data row2 col4\" >12.40</td>\n",
       "      <td id=\"T_86ced_row2_col5\" class=\"data row2 col5\" >86,843,944</td>\n",
       "      <td id=\"T_86ced_row2_col6\" class=\"data row2 col6\" >12.40</td>\n",
       "      <td id=\"T_86ced_row2_col7\" class=\"data row2 col7\" >10.50</td>\n",
       "      <td id=\"T_86ced_row2_col8\" class=\"data row2 col8\" >18.10%</td>\n",
       "      <td id=\"T_86ced_row2_col9\" class=\"data row2 col9\" >B</td>\n",
       "    </tr>\n",
       "    <tr>\n",
       "      <th id=\"T_86ced_level0_row3\" class=\"row_heading level0 row3\" >3</th>\n",
       "      <td id=\"T_86ced_row3_col0\" class=\"data row3 col0\" >SENA</td>\n",
       "      <td id=\"T_86ced_row3_col1\" class=\"data row3 col1\" >2025-08-05</td>\n",
       "      <td id=\"T_86ced_row3_col2\" class=\"data row3 col2\" >2025-08-06</td>\n",
       "      <td id=\"T_86ced_row3_col3\" class=\"data row3 col3\" >1.74</td>\n",
       "      <td id=\"T_86ced_row3_col4\" class=\"data row3 col4\" >1.79</td>\n",
       "      <td id=\"T_86ced_row3_col5\" class=\"data row3 col5\" >445,936</td>\n",
       "      <td id=\"T_86ced_row3_col6\" class=\"data row3 col6\" >1.82</td>\n",
       "      <td id=\"T_86ced_row3_col7\" class=\"data row3 col7\" >1.72</td>\n",
       "      <td id=\"T_86ced_row3_col8\" class=\"data row3 col8\" >2.87%</td>\n",
       "      <td id=\"T_86ced_row3_col9\" class=\"data row3 col9\" >B</td>\n",
       "    </tr>\n",
       "    <tr>\n",
       "      <th id=\"T_86ced_level0_row4\" class=\"row_heading level0 row4\" >4</th>\n",
       "      <td id=\"T_86ced_row4_col0\" class=\"data row4 col0\" >WHAIR</td>\n",
       "      <td id=\"T_86ced_row4_col1\" class=\"data row4 col1\" >2025-08-05</td>\n",
       "      <td id=\"T_86ced_row4_col2\" class=\"data row4 col2\" >2025-08-06</td>\n",
       "      <td id=\"T_86ced_row4_col3\" class=\"data row4 col3\" >5.45</td>\n",
       "      <td id=\"T_86ced_row4_col4\" class=\"data row4 col4\" >5.55</td>\n",
       "      <td id=\"T_86ced_row4_col5\" class=\"data row4 col5\" >1,631,700</td>\n",
       "      <td id=\"T_86ced_row4_col6\" class=\"data row4 col6\" >5.55</td>\n",
       "      <td id=\"T_86ced_row4_col7\" class=\"data row4 col7\" >5.40</td>\n",
       "      <td id=\"T_86ced_row4_col8\" class=\"data row4 col8\" >1.83%</td>\n",
       "      <td id=\"T_86ced_row4_col9\" class=\"data row4 col9\" >B</td>\n",
       "    </tr>\n",
       "    <tr>\n",
       "      <th id=\"T_86ced_level0_row5\" class=\"row_heading level0 row5\" >5</th>\n",
       "      <td id=\"T_86ced_row5_col0\" class=\"data row5 col0\" >WHART</td>\n",
       "      <td id=\"T_86ced_row5_col1\" class=\"data row5 col1\" >2025-08-05</td>\n",
       "      <td id=\"T_86ced_row5_col2\" class=\"data row5 col2\" >2025-08-06</td>\n",
       "      <td id=\"T_86ced_row5_col3\" class=\"data row5 col3\" >9.20</td>\n",
       "      <td id=\"T_86ced_row5_col4\" class=\"data row5 col4\" >9.40</td>\n",
       "      <td id=\"T_86ced_row5_col5\" class=\"data row5 col5\" >4,356,956</td>\n",
       "      <td id=\"T_86ced_row5_col6\" class=\"data row5 col6\" >9.40</td>\n",
       "      <td id=\"T_86ced_row5_col7\" class=\"data row5 col7\" >9.20</td>\n",
       "      <td id=\"T_86ced_row5_col8\" class=\"data row5 col8\" >2.17%</td>\n",
       "      <td id=\"T_86ced_row5_col9\" class=\"data row5 col9\" >B</td>\n",
       "    </tr>\n",
       "    <tr>\n",
       "      <th id=\"T_86ced_level0_row6\" class=\"row_heading level0 row6\" >6</th>\n",
       "      <td id=\"T_86ced_row6_col0\" class=\"data row6 col0\" >AIMIRT</td>\n",
       "      <td id=\"T_86ced_row6_col1\" class=\"data row6 col1\" >2025-08-05</td>\n",
       "      <td id=\"T_86ced_row6_col2\" class=\"data row6 col2\" >2025-08-06</td>\n",
       "      <td id=\"T_86ced_row6_col3\" class=\"data row6 col3\" >9.80</td>\n",
       "      <td id=\"T_86ced_row6_col4\" class=\"data row6 col4\" >9.85</td>\n",
       "      <td id=\"T_86ced_row6_col5\" class=\"data row6 col5\" >1,565,872</td>\n",
       "      <td id=\"T_86ced_row6_col6\" class=\"data row6 col6\" >9.90</td>\n",
       "      <td id=\"T_86ced_row6_col7\" class=\"data row6 col7\" >9.55</td>\n",
       "      <td id=\"T_86ced_row6_col8\" class=\"data row6 col8\" >0.51%</td>\n",
       "      <td id=\"T_86ced_row6_col9\" class=\"data row6 col9\" >S</td>\n",
       "    </tr>\n",
       "    <tr>\n",
       "      <th id=\"T_86ced_level0_row7\" class=\"row_heading level0 row7\" >7</th>\n",
       "      <td id=\"T_86ced_row7_col0\" class=\"data row7 col0\" >IVL</td>\n",
       "      <td id=\"T_86ced_row7_col1\" class=\"data row7 col1\" >2025-08-06</td>\n",
       "      <td id=\"T_86ced_row7_col2\" class=\"data row7 col2\" >2025-08-06</td>\n",
       "      <td id=\"T_86ced_row7_col3\" class=\"data row7 col3\" >22.50</td>\n",
       "      <td id=\"T_86ced_row7_col4\" class=\"data row7 col4\" >23.70</td>\n",
       "      <td id=\"T_86ced_row7_col5\" class=\"data row7 col5\" >36,456,644</td>\n",
       "      <td id=\"T_86ced_row7_col6\" class=\"data row7 col6\" >23.70</td>\n",
       "      <td id=\"T_86ced_row7_col7\" class=\"data row7 col7\" >22.40</td>\n",
       "      <td id=\"T_86ced_row7_col8\" class=\"data row7 col8\" >5.33%</td>\n",
       "      <td id=\"T_86ced_row7_col9\" class=\"data row7 col9\" >S</td>\n",
       "    </tr>\n",
       "    <tr>\n",
       "      <th id=\"T_86ced_level0_row8\" class=\"row_heading level0 row8\" >8</th>\n",
       "      <td id=\"T_86ced_row8_col0\" class=\"data row8 col0\" >MCS</td>\n",
       "      <td id=\"T_86ced_row8_col1\" class=\"data row8 col1\" >2025-08-01</td>\n",
       "      <td id=\"T_86ced_row8_col2\" class=\"data row8 col2\" >2025-08-06</td>\n",
       "      <td id=\"T_86ced_row8_col3\" class=\"data row8 col3\" >8.30</td>\n",
       "      <td id=\"T_86ced_row8_col4\" class=\"data row8 col4\" >8.45</td>\n",
       "      <td id=\"T_86ced_row8_col5\" class=\"data row8 col5\" >1,098,712</td>\n",
       "      <td id=\"T_86ced_row8_col6\" class=\"data row8 col6\" >8.45</td>\n",
       "      <td id=\"T_86ced_row8_col7\" class=\"data row8 col7\" >8.30</td>\n",
       "      <td id=\"T_86ced_row8_col8\" class=\"data row8 col8\" >1.81%</td>\n",
       "      <td id=\"T_86ced_row8_col9\" class=\"data row8 col9\" >S</td>\n",
       "    </tr>\n",
       "    <tr>\n",
       "      <th id=\"T_86ced_level0_row9\" class=\"row_heading level0 row9\" >9</th>\n",
       "      <td id=\"T_86ced_row9_col0\" class=\"data row9 col0\" >NER</td>\n",
       "      <td id=\"T_86ced_row9_col1\" class=\"data row9 col1\" >2025-08-05</td>\n",
       "      <td id=\"T_86ced_row9_col2\" class=\"data row9 col2\" >2025-08-06</td>\n",
       "      <td id=\"T_86ced_row9_col3\" class=\"data row9 col3\" >4.42</td>\n",
       "      <td id=\"T_86ced_row9_col4\" class=\"data row9 col4\" >4.52</td>\n",
       "      <td id=\"T_86ced_row9_col5\" class=\"data row9 col5\" >96,832,194</td>\n",
       "      <td id=\"T_86ced_row9_col6\" class=\"data row9 col6\" >4.56</td>\n",
       "      <td id=\"T_86ced_row9_col7\" class=\"data row9 col7\" >4.22</td>\n",
       "      <td id=\"T_86ced_row9_col8\" class=\"data row9 col8\" >2.26%</td>\n",
       "      <td id=\"T_86ced_row9_col9\" class=\"data row9 col9\" >S</td>\n",
       "    </tr>\n",
       "    <tr>\n",
       "      <th id=\"T_86ced_level0_row10\" class=\"row_heading level0 row10\" >10</th>\n",
       "      <td id=\"T_86ced_row10_col0\" class=\"data row10 col0\" >PTG</td>\n",
       "      <td id=\"T_86ced_row10_col1\" class=\"data row10 col1\" >2025-08-06</td>\n",
       "      <td id=\"T_86ced_row10_col2\" class=\"data row10 col2\" >2025-08-06</td>\n",
       "      <td id=\"T_86ced_row10_col3\" class=\"data row10 col3\" >6.55</td>\n",
       "      <td id=\"T_86ced_row10_col4\" class=\"data row10 col4\" >6.85</td>\n",
       "      <td id=\"T_86ced_row10_col5\" class=\"data row10 col5\" >50,285,196</td>\n",
       "      <td id=\"T_86ced_row10_col6\" class=\"data row10 col6\" >6.85</td>\n",
       "      <td id=\"T_86ced_row10_col7\" class=\"data row10 col7\" >6.55</td>\n",
       "      <td id=\"T_86ced_row10_col8\" class=\"data row10 col8\" >4.58%</td>\n",
       "      <td id=\"T_86ced_row10_col9\" class=\"data row10 col9\" >S</td>\n",
       "    </tr>\n",
       "  </tbody>\n",
       "</table>\n"
      ],
      "text/plain": [
       "<pandas.io.formats.style.Styler at 0x27630bcecc0>"
      ]
     },
     "execution_count": 24,
     "metadata": {},
     "output_type": "execute_result"
    }
   ],
   "source": [
    "df[cols].style.format(format_dict)"
   ]
  },
  {
   "cell_type": "code",
   "execution_count": 26,
   "metadata": {},
   "outputs": [],
   "source": [
    "file_name = \"daily-sales.csv\"\n",
    "output_file = os.path.join(dat_path, file_name)\n",
    "god_file = os.path.join(god_path, file_name)\n",
    "icd_file = os.path.join(icd_path, file_name)\n",
    "osd_file = os.path.join(osd_path, file_name)"
   ]
  },
  {
   "cell_type": "code",
   "execution_count": 28,
   "metadata": {},
   "outputs": [
    {
     "name": "stdout",
     "output_type": "stream",
     "text": [
      "Output file : C:\\Users\\PC1\\OneDrive\\A5\\Data\\daily-sales.csv\n",
      "icd_file : C:\\Users\\PC1\\iCloudDrive\\Data\\daily-sales.csv\n",
      "god_file : C:\\Users\\PC1\\OneDrive\\Imports\\santisoontarinka@gmail.com - Google Drive\\Data\\daily-sales.csv\n",
      "osd_file : C:\\Users\\PC1\\OneDrive\\Documents\\obsidian-git-sync\\Data\\daily-sales.csv\n"
     ]
    }
   ],
   "source": [
    "print(f\"Output file : {output_file}\") \n",
    "print(f\"icd_file : {icd_file}\") \n",
    "print(f\"god_file : {god_file}\") \n",
    "print(f\"osd_file : {osd_file}\") "
   ]
  },
  {
   "cell_type": "code",
   "execution_count": 30,
   "metadata": {},
   "outputs": [],
   "source": [
    "df[cols].sort_values(['status','percent'],ascending=[True,True]).to_csv(output_file, header=True, index=False)\n",
    "df[cols].sort_values(['status','percent'],ascending=[True,True]).to_csv(god_file, header=True, index=False)\n",
    "df[cols].sort_values(['status','percent'],ascending=[True,True]).to_csv(icd_file, header=True, index=False)\n",
    "df[cols].sort_values(['status','percent'],ascending=[True,True]).to_csv(osd_file, header=True, index=False)"
   ]
  },
  {
   "cell_type": "code",
   "execution_count": 32,
   "metadata": {},
   "outputs": [
    {
     "data": {
      "text/plain": [
       "(11, 10)"
      ]
     },
     "execution_count": 32,
     "metadata": {},
     "output_type": "execute_result"
    }
   ],
   "source": [
    "sales = df[cols]\n",
    "sales.shape"
   ]
  },
  {
   "cell_type": "code",
   "execution_count": 34,
   "metadata": {},
   "outputs": [
    {
     "name": "stdout",
     "output_type": "stream",
     "text": [
      "Input file: C:\\Users\\PC1\\OneDrive\\A5\\Data\\Price-Today.csv\n"
     ]
    }
   ],
   "source": [
    "file_name = \"Price-Today.csv\"\n",
    "input_file = os.path.join(dat_path, file_name)\n",
    "print(f\"Input file: {input_file}\")"
   ]
  },
  {
   "cell_type": "code",
   "execution_count": 36,
   "metadata": {},
   "outputs": [
    {
     "data": {
      "text/plain": [
       "(169, 10)"
      ]
     },
     "execution_count": 36,
     "metadata": {},
     "output_type": "execute_result"
    }
   ],
   "source": [
    "prices = pd.read_csv(input_file)\n",
    "prices.shape"
   ]
  },
  {
   "cell_type": "code",
   "execution_count": 38,
   "metadata": {},
   "outputs": [
    {
     "data": {
      "text/plain": [
       "(11, 19)"
      ]
     },
     "execution_count": 38,
     "metadata": {},
     "output_type": "execute_result"
    }
   ],
   "source": [
    "df_merge = pd.merge(sales,prices,on='name', how='inner')\n",
    "df_merge.shape"
   ]
  },
  {
   "cell_type": "code",
   "execution_count": 40,
   "metadata": {
    "scrolled": true
   },
   "outputs": [
    {
     "data": {
      "text/html": [
       "<div>\n",
       "<style scoped>\n",
       "    .dataframe tbody tr th:only-of-type {\n",
       "        vertical-align: middle;\n",
       "    }\n",
       "\n",
       "    .dataframe tbody tr th {\n",
       "        vertical-align: top;\n",
       "    }\n",
       "\n",
       "    .dataframe thead th {\n",
       "        text-align: right;\n",
       "    }\n",
       "</style>\n",
       "<table border=\"1\" class=\"dataframe\">\n",
       "  <thead>\n",
       "    <tr style=\"text-align: right;\">\n",
       "      <th></th>\n",
       "      <th>name</th>\n",
       "      <th>fm_date</th>\n",
       "      <th>to_date</th>\n",
       "      <th>fm_price</th>\n",
       "      <th>to_price</th>\n",
       "      <th>qty</th>\n",
       "      <th>max_price</th>\n",
       "      <th>min_price</th>\n",
       "      <th>percent</th>\n",
       "      <th>status</th>\n",
       "      <th>price</th>\n",
       "      <th>change</th>\n",
       "      <th>volume</th>\n",
       "      <th>date</th>\n",
       "    </tr>\n",
       "  </thead>\n",
       "  <tbody>\n",
       "    <tr>\n",
       "      <th>0</th>\n",
       "      <td>DIF</td>\n",
       "      <td>2025-07-31</td>\n",
       "      <td>2025-08-06</td>\n",
       "      <td>8.15</td>\n",
       "      <td>8.35</td>\n",
       "      <td>85607088</td>\n",
       "      <td>8.35</td>\n",
       "      <td>8.15</td>\n",
       "      <td>2.45</td>\n",
       "      <td>B</td>\n",
       "      <td>8.40</td>\n",
       "      <td>0.05</td>\n",
       "      <td>8257569</td>\n",
       "      <td>2025-08-07</td>\n",
       "    </tr>\n",
       "    <tr>\n",
       "      <th>1</th>\n",
       "      <td>GVREIT</td>\n",
       "      <td>2025-08-06</td>\n",
       "      <td>2025-08-06</td>\n",
       "      <td>6.60</td>\n",
       "      <td>6.55</td>\n",
       "      <td>1195892</td>\n",
       "      <td>6.60</td>\n",
       "      <td>6.55</td>\n",
       "      <td>-0.76</td>\n",
       "      <td>B</td>\n",
       "      <td>6.55</td>\n",
       "      <td>0.00</td>\n",
       "      <td>681610</td>\n",
       "      <td>2025-08-07</td>\n",
       "    </tr>\n",
       "    <tr>\n",
       "      <th>2</th>\n",
       "      <td>JMT</td>\n",
       "      <td>2025-08-05</td>\n",
       "      <td>2025-08-06</td>\n",
       "      <td>10.50</td>\n",
       "      <td>12.40</td>\n",
       "      <td>86843944</td>\n",
       "      <td>12.40</td>\n",
       "      <td>10.50</td>\n",
       "      <td>18.10</td>\n",
       "      <td>B</td>\n",
       "      <td>12.10</td>\n",
       "      <td>-0.30</td>\n",
       "      <td>37818799</td>\n",
       "      <td>2025-08-07</td>\n",
       "    </tr>\n",
       "    <tr>\n",
       "      <th>3</th>\n",
       "      <td>SENA</td>\n",
       "      <td>2025-08-05</td>\n",
       "      <td>2025-08-06</td>\n",
       "      <td>1.74</td>\n",
       "      <td>1.79</td>\n",
       "      <td>445936</td>\n",
       "      <td>1.82</td>\n",
       "      <td>1.72</td>\n",
       "      <td>2.87</td>\n",
       "      <td>B</td>\n",
       "      <td>1.81</td>\n",
       "      <td>0.02</td>\n",
       "      <td>260865</td>\n",
       "      <td>2025-08-07</td>\n",
       "    </tr>\n",
       "    <tr>\n",
       "      <th>4</th>\n",
       "      <td>WHAIR</td>\n",
       "      <td>2025-08-05</td>\n",
       "      <td>2025-08-06</td>\n",
       "      <td>5.45</td>\n",
       "      <td>5.55</td>\n",
       "      <td>1631700</td>\n",
       "      <td>5.55</td>\n",
       "      <td>5.40</td>\n",
       "      <td>1.83</td>\n",
       "      <td>B</td>\n",
       "      <td>5.55</td>\n",
       "      <td>0.00</td>\n",
       "      <td>677506</td>\n",
       "      <td>2025-08-07</td>\n",
       "    </tr>\n",
       "    <tr>\n",
       "      <th>5</th>\n",
       "      <td>WHART</td>\n",
       "      <td>2025-08-05</td>\n",
       "      <td>2025-08-06</td>\n",
       "      <td>9.20</td>\n",
       "      <td>9.40</td>\n",
       "      <td>4356956</td>\n",
       "      <td>9.40</td>\n",
       "      <td>9.20</td>\n",
       "      <td>2.17</td>\n",
       "      <td>B</td>\n",
       "      <td>9.30</td>\n",
       "      <td>-0.10</td>\n",
       "      <td>1209113</td>\n",
       "      <td>2025-08-07</td>\n",
       "    </tr>\n",
       "    <tr>\n",
       "      <th>6</th>\n",
       "      <td>AIMIRT</td>\n",
       "      <td>2025-08-05</td>\n",
       "      <td>2025-08-06</td>\n",
       "      <td>9.80</td>\n",
       "      <td>9.85</td>\n",
       "      <td>1565872</td>\n",
       "      <td>9.90</td>\n",
       "      <td>9.55</td>\n",
       "      <td>0.51</td>\n",
       "      <td>S</td>\n",
       "      <td>9.85</td>\n",
       "      <td>0.00</td>\n",
       "      <td>656505</td>\n",
       "      <td>2025-08-07</td>\n",
       "    </tr>\n",
       "    <tr>\n",
       "      <th>7</th>\n",
       "      <td>IVL</td>\n",
       "      <td>2025-08-06</td>\n",
       "      <td>2025-08-06</td>\n",
       "      <td>22.50</td>\n",
       "      <td>23.70</td>\n",
       "      <td>36456644</td>\n",
       "      <td>23.70</td>\n",
       "      <td>22.40</td>\n",
       "      <td>5.33</td>\n",
       "      <td>S</td>\n",
       "      <td>23.40</td>\n",
       "      <td>-0.30</td>\n",
       "      <td>14449557</td>\n",
       "      <td>2025-08-07</td>\n",
       "    </tr>\n",
       "    <tr>\n",
       "      <th>8</th>\n",
       "      <td>MCS</td>\n",
       "      <td>2025-08-01</td>\n",
       "      <td>2025-08-06</td>\n",
       "      <td>8.30</td>\n",
       "      <td>8.45</td>\n",
       "      <td>1098712</td>\n",
       "      <td>8.45</td>\n",
       "      <td>8.30</td>\n",
       "      <td>1.81</td>\n",
       "      <td>S</td>\n",
       "      <td>8.65</td>\n",
       "      <td>0.20</td>\n",
       "      <td>865774</td>\n",
       "      <td>2025-08-07</td>\n",
       "    </tr>\n",
       "    <tr>\n",
       "      <th>9</th>\n",
       "      <td>NER</td>\n",
       "      <td>2025-08-05</td>\n",
       "      <td>2025-08-06</td>\n",
       "      <td>4.42</td>\n",
       "      <td>4.52</td>\n",
       "      <td>96832194</td>\n",
       "      <td>4.56</td>\n",
       "      <td>4.22</td>\n",
       "      <td>2.26</td>\n",
       "      <td>S</td>\n",
       "      <td>4.54</td>\n",
       "      <td>0.02</td>\n",
       "      <td>7354598</td>\n",
       "      <td>2025-08-07</td>\n",
       "    </tr>\n",
       "    <tr>\n",
       "      <th>10</th>\n",
       "      <td>PTG</td>\n",
       "      <td>2025-08-06</td>\n",
       "      <td>2025-08-06</td>\n",
       "      <td>6.55</td>\n",
       "      <td>6.85</td>\n",
       "      <td>50285196</td>\n",
       "      <td>6.85</td>\n",
       "      <td>6.55</td>\n",
       "      <td>4.58</td>\n",
       "      <td>S</td>\n",
       "      <td>6.80</td>\n",
       "      <td>-0.05</td>\n",
       "      <td>6216292</td>\n",
       "      <td>2025-08-07</td>\n",
       "    </tr>\n",
       "  </tbody>\n",
       "</table>\n",
       "</div>"
      ],
      "text/plain": [
       "      name    fm_date    to_date  fm_price  to_price       qty  max_price  \\\n",
       "0      DIF 2025-07-31 2025-08-06      8.15      8.35  85607088       8.35   \n",
       "1   GVREIT 2025-08-06 2025-08-06      6.60      6.55   1195892       6.60   \n",
       "2      JMT 2025-08-05 2025-08-06     10.50     12.40  86843944      12.40   \n",
       "3     SENA 2025-08-05 2025-08-06      1.74      1.79    445936       1.82   \n",
       "4    WHAIR 2025-08-05 2025-08-06      5.45      5.55   1631700       5.55   \n",
       "5    WHART 2025-08-05 2025-08-06      9.20      9.40   4356956       9.40   \n",
       "6   AIMIRT 2025-08-05 2025-08-06      9.80      9.85   1565872       9.90   \n",
       "7      IVL 2025-08-06 2025-08-06     22.50     23.70  36456644      23.70   \n",
       "8      MCS 2025-08-01 2025-08-06      8.30      8.45   1098712       8.45   \n",
       "9      NER 2025-08-05 2025-08-06      4.42      4.52  96832194       4.56   \n",
       "10     PTG 2025-08-06 2025-08-06      6.55      6.85  50285196       6.85   \n",
       "\n",
       "    min_price  percent status  price  change    volume        date  \n",
       "0        8.15     2.45      B   8.40    0.05   8257569  2025-08-07  \n",
       "1        6.55    -0.76      B   6.55    0.00    681610  2025-08-07  \n",
       "2       10.50    18.10      B  12.10   -0.30  37818799  2025-08-07  \n",
       "3        1.72     2.87      B   1.81    0.02    260865  2025-08-07  \n",
       "4        5.40     1.83      B   5.55    0.00    677506  2025-08-07  \n",
       "5        9.20     2.17      B   9.30   -0.10   1209113  2025-08-07  \n",
       "6        9.55     0.51      S   9.85    0.00    656505  2025-08-07  \n",
       "7       22.40     5.33      S  23.40   -0.30  14449557  2025-08-07  \n",
       "8        8.30     1.81      S   8.65    0.20    865774  2025-08-07  \n",
       "9        4.22     2.26      S   4.54    0.02   7354598  2025-08-07  \n",
       "10       6.55     4.58      S   6.80   -0.05   6216292  2025-08-07  "
      ]
     },
     "execution_count": 40,
     "metadata": {},
     "output_type": "execute_result"
    }
   ],
   "source": [
    "colu = 'name fm_date to_date fm_price to_price qty max_price min_price percent status \\\n",
    "price change volume date'.split()\n",
    "df_merge[colu]"
   ]
  },
  {
   "cell_type": "code",
   "execution_count": 42,
   "metadata": {},
   "outputs": [],
   "source": [
    "file_name = \"daily-sales-prices.csv\"\n",
    "output_file = os.path.join(dat_path, file_name)\n",
    "god_file = os.path.join(god_path, file_name)\n",
    "icd_file = os.path.join(icd_path, file_name)\n",
    "osd_file = os.path.join(osd_path, file_name)"
   ]
  },
  {
   "cell_type": "code",
   "execution_count": 44,
   "metadata": {},
   "outputs": [
    {
     "name": "stdout",
     "output_type": "stream",
     "text": [
      "Output file: C:\\Users\\PC1\\OneDrive\\A5\\Data\\daily-sales-prices.csv\n",
      "icd_file : C:\\Users\\PC1\\iCloudDrive\\Data\\daily-sales-prices.csv\n",
      "god_file : C:\\Users\\PC1\\OneDrive\\Imports\\santisoontarinka@gmail.com - Google Drive\\Data\\daily-sales-prices.csv\n",
      "osd_file : C:\\Users\\PC1\\OneDrive\\Documents\\obsidian-git-sync\\Data\\daily-sales-prices.csv\n"
     ]
    }
   ],
   "source": [
    "print(f\"Output file: {output_file}\") \n",
    "print(f\"icd_file : {icd_file}\") \n",
    "print(f\"god_file : {god_file}\") \n",
    "print(f\"osd_file : {osd_file}\") "
   ]
  },
  {
   "cell_type": "code",
   "execution_count": 46,
   "metadata": {},
   "outputs": [],
   "source": [
    "df_merge[colu].sort_values(['name'],ascending=[True]).to_csv(output_file, header=True, index=False)\n",
    "df_merge[colu].sort_values(['name'],ascending=[True]).to_csv(god_file, header=True, index=False)\n",
    "df_merge[colu].sort_values(['name'],ascending=[True]).to_csv(icd_file, header=True, index=False)\n",
    "df_merge[colu].sort_values(['name'],ascending=[True]).to_csv(osd_file, header=True, index=False)"
   ]
  },
  {
   "cell_type": "markdown",
   "metadata": {},
   "source": [
    "### Add or update sells record depends on trend"
   ]
  },
  {
   "cell_type": "code",
   "execution_count": 49,
   "metadata": {},
   "outputs": [
    {
     "data": {
      "text/plain": [
       "'C:\\\\Users\\\\PC1\\\\OneDrive\\\\A5'"
      ]
     },
     "execution_count": 49,
     "metadata": {},
     "output_type": "execute_result"
    }
   ],
   "source": [
    "os.chdir(base_path)\n",
    "%pwd"
   ]
  },
  {
   "cell_type": "code",
   "execution_count": 51,
   "metadata": {},
   "outputs": [
    {
     "name": "stdout",
     "output_type": "stream",
     "text": [
      "Name      From Date    To Date   From     To     Pct      Shares    Max    Min S Action\n",
      "---------------------------------------------------------------------------------------\n",
      "AIMIRT   2025-08-05 2025-08-07   9.80   9.85   0.51%   1,565,872   9.90   9.55 S Update\n",
      "DIF      2025-07-31 2025-08-07   8.15   8.40   3.07%  85,607,088   8.40   8.15 B Update\n",
      "GVREIT   2025-08-06 2025-08-07   6.60   6.55  -0.76%   1,195,892   6.60   6.55 B Update\n",
      "IVL      2025-08-07 2025-08-07  23.70  23.40  -1.27%  36,456,644  23.70  22.40 S Insert\n",
      "JMT      2025-08-07 2025-08-07  12.40  12.10  -2.42%  86,843,944  12.40  10.50 B Insert\n",
      "MCS      2025-08-01 2025-08-07   8.30   8.65   4.22%   1,098,712   8.65   8.30 S Update\n",
      "NER      2025-08-05 2025-08-07   4.42   4.54   2.71%  96,832,194   4.56   4.22 S Update\n",
      "PTG      2025-08-07 2025-08-07   6.85   6.80  -0.73%  50,285,196   6.85   6.55 S Insert\n",
      "SENA     2025-08-05 2025-08-07   1.74   1.81   4.02%     445,936   1.82   1.72 B Update\n",
      "WHAIR    2025-08-05 2025-08-07   5.45   5.55   1.83%   1,631,700   5.55   5.40 B Update\n",
      "WHART    2025-08-07 2025-08-07   9.40   9.30  -1.06%   4,356,956   9.40   9.20 B Insert\n",
      "=======================================================================================\n"
     ]
    }
   ],
   "source": [
    "!ruby ruby\\\\daily-out-new.rb"
   ]
  },
  {
   "cell_type": "code",
   "execution_count": 53,
   "metadata": {},
   "outputs": [
    {
     "data": {
      "text/plain": [
       "'C:\\\\Users\\\\PC1\\\\OneDrive\\\\A5\\\\Daily'"
      ]
     },
     "execution_count": 53,
     "metadata": {},
     "output_type": "execute_result"
    }
   ],
   "source": [
    "os.chdir(current_path)\n",
    "%pwd"
   ]
  },
  {
   "cell_type": "markdown",
   "metadata": {},
   "source": [
    "\n",
    "\n",
    "### cd\\ruby\\port_lite\n",
    "\n",
    "\n",
    "### rails runner db/ins_sales.rb\n",
    "\n"
   ]
  },
  {
   "cell_type": "code",
   "execution_count": 55,
   "metadata": {
    "scrolled": true
   },
   "outputs": [
    {
     "name": "stdout",
     "output_type": "stream",
     "text": [
      "\n",
      "SELECT a.name,fm_date,to_date,fm_price,to_price,\n",
      "a.qty,a.max_price,a.min_price,t.status,t.market\n",
      "FROM sales a \n",
      "JOIN stocks t ON a.name = t.name \n",
      "WHERE to_date = '2025-08-07' AND t.status IN (\"B\",\"I\", \"O\", \"S\") \n",
      "ORDER BY t.status, a.name\n",
      "\n"
     ]
    }
   ],
   "source": [
    "sql = \"\"\"\n",
    "SELECT a.name,fm_date,to_date,fm_price,to_price,\n",
    "a.qty,a.max_price,a.min_price,t.status,t.market\n",
    "FROM sales a \n",
    "JOIN stocks t ON a.name = t.name \n",
    "WHERE to_date = '%s' AND t.status IN (\"B\",\"I\", \"O\", \"S\") \n",
    "ORDER BY t.status, a.name\n",
    "\"\"\"\n",
    "sql = sql % today\n",
    "print(sql)"
   ]
  },
  {
   "cell_type": "code",
   "execution_count": 57,
   "metadata": {},
   "outputs": [
    {
     "data": {
      "text/plain": [
       "(11, 10)"
      ]
     },
     "execution_count": 57,
     "metadata": {},
     "output_type": "execute_result"
    }
   ],
   "source": [
    "df = pd.read_sql(sql, conlite)\n",
    "df.shape"
   ]
  },
  {
   "cell_type": "code",
   "execution_count": 59,
   "metadata": {},
   "outputs": [
    {
     "data": {
      "text/html": [
       "<style type=\"text/css\">\n",
       "</style>\n",
       "<table id=\"T_b2810\">\n",
       "  <thead>\n",
       "    <tr>\n",
       "      <th class=\"blank level0\" >&nbsp;</th>\n",
       "      <th id=\"T_b2810_level0_col0\" class=\"col_heading level0 col0\" >name</th>\n",
       "      <th id=\"T_b2810_level0_col1\" class=\"col_heading level0 col1\" >fm_date</th>\n",
       "      <th id=\"T_b2810_level0_col2\" class=\"col_heading level0 col2\" >to_date</th>\n",
       "      <th id=\"T_b2810_level0_col3\" class=\"col_heading level0 col3\" >fm_price</th>\n",
       "      <th id=\"T_b2810_level0_col4\" class=\"col_heading level0 col4\" >to_price</th>\n",
       "      <th id=\"T_b2810_level0_col5\" class=\"col_heading level0 col5\" >qty</th>\n",
       "      <th id=\"T_b2810_level0_col6\" class=\"col_heading level0 col6\" >max_price</th>\n",
       "      <th id=\"T_b2810_level0_col7\" class=\"col_heading level0 col7\" >min_price</th>\n",
       "      <th id=\"T_b2810_level0_col8\" class=\"col_heading level0 col8\" >status</th>\n",
       "      <th id=\"T_b2810_level0_col9\" class=\"col_heading level0 col9\" >market</th>\n",
       "      <th id=\"T_b2810_level0_col10\" class=\"col_heading level0 col10\" >diff</th>\n",
       "      <th id=\"T_b2810_level0_col11\" class=\"col_heading level0 col11\" >percent</th>\n",
       "    </tr>\n",
       "  </thead>\n",
       "  <tbody>\n",
       "    <tr>\n",
       "      <th id=\"T_b2810_level0_row0\" class=\"row_heading level0 row0\" >0</th>\n",
       "      <td id=\"T_b2810_row0_col0\" class=\"data row0 col0\" >DIF</td>\n",
       "      <td id=\"T_b2810_row0_col1\" class=\"data row0 col1\" >2025-07-31</td>\n",
       "      <td id=\"T_b2810_row0_col2\" class=\"data row0 col2\" >2025-08-07</td>\n",
       "      <td id=\"T_b2810_row0_col3\" class=\"data row0 col3\" >8.15</td>\n",
       "      <td id=\"T_b2810_row0_col4\" class=\"data row0 col4\" >8.40</td>\n",
       "      <td id=\"T_b2810_row0_col5\" class=\"data row0 col5\" >171,214,176</td>\n",
       "      <td id=\"T_b2810_row0_col6\" class=\"data row0 col6\" >8.40</td>\n",
       "      <td id=\"T_b2810_row0_col7\" class=\"data row0 col7\" >8.15</td>\n",
       "      <td id=\"T_b2810_row0_col8\" class=\"data row0 col8\" >B</td>\n",
       "      <td id=\"T_b2810_row0_col9\" class=\"data row0 col9\" >SET</td>\n",
       "      <td id=\"T_b2810_row0_col10\" class=\"data row0 col10\" >0.25</td>\n",
       "      <td id=\"T_b2810_row0_col11\" class=\"data row0 col11\" >3.07%</td>\n",
       "    </tr>\n",
       "    <tr>\n",
       "      <th id=\"T_b2810_level0_row1\" class=\"row_heading level0 row1\" >1</th>\n",
       "      <td id=\"T_b2810_row1_col0\" class=\"data row1 col0\" >GVREIT</td>\n",
       "      <td id=\"T_b2810_row1_col1\" class=\"data row1 col1\" >2025-08-06</td>\n",
       "      <td id=\"T_b2810_row1_col2\" class=\"data row1 col2\" >2025-08-07</td>\n",
       "      <td id=\"T_b2810_row1_col3\" class=\"data row1 col3\" >6.60</td>\n",
       "      <td id=\"T_b2810_row1_col4\" class=\"data row1 col4\" >6.55</td>\n",
       "      <td id=\"T_b2810_row1_col5\" class=\"data row1 col5\" >2,391,784</td>\n",
       "      <td id=\"T_b2810_row1_col6\" class=\"data row1 col6\" >6.60</td>\n",
       "      <td id=\"T_b2810_row1_col7\" class=\"data row1 col7\" >6.55</td>\n",
       "      <td id=\"T_b2810_row1_col8\" class=\"data row1 col8\" >B</td>\n",
       "      <td id=\"T_b2810_row1_col9\" class=\"data row1 col9\" >SET</td>\n",
       "      <td id=\"T_b2810_row1_col10\" class=\"data row1 col10\" >-0.05</td>\n",
       "      <td id=\"T_b2810_row1_col11\" class=\"data row1 col11\" >-0.76%</td>\n",
       "    </tr>\n",
       "    <tr>\n",
       "      <th id=\"T_b2810_level0_row2\" class=\"row_heading level0 row2\" >2</th>\n",
       "      <td id=\"T_b2810_row2_col0\" class=\"data row2 col0\" >JMT</td>\n",
       "      <td id=\"T_b2810_row2_col1\" class=\"data row2 col1\" >2025-08-07</td>\n",
       "      <td id=\"T_b2810_row2_col2\" class=\"data row2 col2\" >2025-08-07</td>\n",
       "      <td id=\"T_b2810_row2_col3\" class=\"data row2 col3\" >12.40</td>\n",
       "      <td id=\"T_b2810_row2_col4\" class=\"data row2 col4\" >12.10</td>\n",
       "      <td id=\"T_b2810_row2_col5\" class=\"data row2 col5\" >86,843,944</td>\n",
       "      <td id=\"T_b2810_row2_col6\" class=\"data row2 col6\" >12.40</td>\n",
       "      <td id=\"T_b2810_row2_col7\" class=\"data row2 col7\" >10.50</td>\n",
       "      <td id=\"T_b2810_row2_col8\" class=\"data row2 col8\" >B</td>\n",
       "      <td id=\"T_b2810_row2_col9\" class=\"data row2 col9\" >SET50</td>\n",
       "      <td id=\"T_b2810_row2_col10\" class=\"data row2 col10\" >-0.30</td>\n",
       "      <td id=\"T_b2810_row2_col11\" class=\"data row2 col11\" >-2.42%</td>\n",
       "    </tr>\n",
       "    <tr>\n",
       "      <th id=\"T_b2810_level0_row3\" class=\"row_heading level0 row3\" >3</th>\n",
       "      <td id=\"T_b2810_row3_col0\" class=\"data row3 col0\" >SENA</td>\n",
       "      <td id=\"T_b2810_row3_col1\" class=\"data row3 col1\" >2025-08-05</td>\n",
       "      <td id=\"T_b2810_row3_col2\" class=\"data row3 col2\" >2025-08-07</td>\n",
       "      <td id=\"T_b2810_row3_col3\" class=\"data row3 col3\" >1.74</td>\n",
       "      <td id=\"T_b2810_row3_col4\" class=\"data row3 col4\" >1.81</td>\n",
       "      <td id=\"T_b2810_row3_col5\" class=\"data row3 col5\" >891,872</td>\n",
       "      <td id=\"T_b2810_row3_col6\" class=\"data row3 col6\" >1.82</td>\n",
       "      <td id=\"T_b2810_row3_col7\" class=\"data row3 col7\" >1.72</td>\n",
       "      <td id=\"T_b2810_row3_col8\" class=\"data row3 col8\" >B</td>\n",
       "      <td id=\"T_b2810_row3_col9\" class=\"data row3 col9\" >SET</td>\n",
       "      <td id=\"T_b2810_row3_col10\" class=\"data row3 col10\" >0.07</td>\n",
       "      <td id=\"T_b2810_row3_col11\" class=\"data row3 col11\" >4.02%</td>\n",
       "    </tr>\n",
       "    <tr>\n",
       "      <th id=\"T_b2810_level0_row4\" class=\"row_heading level0 row4\" >4</th>\n",
       "      <td id=\"T_b2810_row4_col0\" class=\"data row4 col0\" >WHAIR</td>\n",
       "      <td id=\"T_b2810_row4_col1\" class=\"data row4 col1\" >2025-08-05</td>\n",
       "      <td id=\"T_b2810_row4_col2\" class=\"data row4 col2\" >2025-08-07</td>\n",
       "      <td id=\"T_b2810_row4_col3\" class=\"data row4 col3\" >5.45</td>\n",
       "      <td id=\"T_b2810_row4_col4\" class=\"data row4 col4\" >5.55</td>\n",
       "      <td id=\"T_b2810_row4_col5\" class=\"data row4 col5\" >3,263,400</td>\n",
       "      <td id=\"T_b2810_row4_col6\" class=\"data row4 col6\" >5.55</td>\n",
       "      <td id=\"T_b2810_row4_col7\" class=\"data row4 col7\" >5.40</td>\n",
       "      <td id=\"T_b2810_row4_col8\" class=\"data row4 col8\" >B</td>\n",
       "      <td id=\"T_b2810_row4_col9\" class=\"data row4 col9\" >SET</td>\n",
       "      <td id=\"T_b2810_row4_col10\" class=\"data row4 col10\" >0.10</td>\n",
       "      <td id=\"T_b2810_row4_col11\" class=\"data row4 col11\" >1.83%</td>\n",
       "    </tr>\n",
       "    <tr>\n",
       "      <th id=\"T_b2810_level0_row5\" class=\"row_heading level0 row5\" >5</th>\n",
       "      <td id=\"T_b2810_row5_col0\" class=\"data row5 col0\" >WHART</td>\n",
       "      <td id=\"T_b2810_row5_col1\" class=\"data row5 col1\" >2025-08-07</td>\n",
       "      <td id=\"T_b2810_row5_col2\" class=\"data row5 col2\" >2025-08-07</td>\n",
       "      <td id=\"T_b2810_row5_col3\" class=\"data row5 col3\" >9.40</td>\n",
       "      <td id=\"T_b2810_row5_col4\" class=\"data row5 col4\" >9.30</td>\n",
       "      <td id=\"T_b2810_row5_col5\" class=\"data row5 col5\" >4,356,956</td>\n",
       "      <td id=\"T_b2810_row5_col6\" class=\"data row5 col6\" >9.40</td>\n",
       "      <td id=\"T_b2810_row5_col7\" class=\"data row5 col7\" >9.20</td>\n",
       "      <td id=\"T_b2810_row5_col8\" class=\"data row5 col8\" >B</td>\n",
       "      <td id=\"T_b2810_row5_col9\" class=\"data row5 col9\" >SET</td>\n",
       "      <td id=\"T_b2810_row5_col10\" class=\"data row5 col10\" >-0.10</td>\n",
       "      <td id=\"T_b2810_row5_col11\" class=\"data row5 col11\" >-1.06%</td>\n",
       "    </tr>\n",
       "    <tr>\n",
       "      <th id=\"T_b2810_level0_row6\" class=\"row_heading level0 row6\" >6</th>\n",
       "      <td id=\"T_b2810_row6_col0\" class=\"data row6 col0\" >AIMIRT</td>\n",
       "      <td id=\"T_b2810_row6_col1\" class=\"data row6 col1\" >2025-08-05</td>\n",
       "      <td id=\"T_b2810_row6_col2\" class=\"data row6 col2\" >2025-08-07</td>\n",
       "      <td id=\"T_b2810_row6_col3\" class=\"data row6 col3\" >9.80</td>\n",
       "      <td id=\"T_b2810_row6_col4\" class=\"data row6 col4\" >9.85</td>\n",
       "      <td id=\"T_b2810_row6_col5\" class=\"data row6 col5\" >3,131,744</td>\n",
       "      <td id=\"T_b2810_row6_col6\" class=\"data row6 col6\" >9.90</td>\n",
       "      <td id=\"T_b2810_row6_col7\" class=\"data row6 col7\" >9.55</td>\n",
       "      <td id=\"T_b2810_row6_col8\" class=\"data row6 col8\" >S</td>\n",
       "      <td id=\"T_b2810_row6_col9\" class=\"data row6 col9\" >SET</td>\n",
       "      <td id=\"T_b2810_row6_col10\" class=\"data row6 col10\" >0.05</td>\n",
       "      <td id=\"T_b2810_row6_col11\" class=\"data row6 col11\" >0.51%</td>\n",
       "    </tr>\n",
       "    <tr>\n",
       "      <th id=\"T_b2810_level0_row7\" class=\"row_heading level0 row7\" >7</th>\n",
       "      <td id=\"T_b2810_row7_col0\" class=\"data row7 col0\" >IVL</td>\n",
       "      <td id=\"T_b2810_row7_col1\" class=\"data row7 col1\" >2025-08-07</td>\n",
       "      <td id=\"T_b2810_row7_col2\" class=\"data row7 col2\" >2025-08-07</td>\n",
       "      <td id=\"T_b2810_row7_col3\" class=\"data row7 col3\" >23.70</td>\n",
       "      <td id=\"T_b2810_row7_col4\" class=\"data row7 col4\" >23.40</td>\n",
       "      <td id=\"T_b2810_row7_col5\" class=\"data row7 col5\" >36,456,644</td>\n",
       "      <td id=\"T_b2810_row7_col6\" class=\"data row7 col6\" >23.70</td>\n",
       "      <td id=\"T_b2810_row7_col7\" class=\"data row7 col7\" >22.40</td>\n",
       "      <td id=\"T_b2810_row7_col8\" class=\"data row7 col8\" >S</td>\n",
       "      <td id=\"T_b2810_row7_col9\" class=\"data row7 col9\" >SET50</td>\n",
       "      <td id=\"T_b2810_row7_col10\" class=\"data row7 col10\" >-0.30</td>\n",
       "      <td id=\"T_b2810_row7_col11\" class=\"data row7 col11\" >-1.27%</td>\n",
       "    </tr>\n",
       "    <tr>\n",
       "      <th id=\"T_b2810_level0_row8\" class=\"row_heading level0 row8\" >8</th>\n",
       "      <td id=\"T_b2810_row8_col0\" class=\"data row8 col0\" >MCS</td>\n",
       "      <td id=\"T_b2810_row8_col1\" class=\"data row8 col1\" >2025-08-01</td>\n",
       "      <td id=\"T_b2810_row8_col2\" class=\"data row8 col2\" >2025-08-07</td>\n",
       "      <td id=\"T_b2810_row8_col3\" class=\"data row8 col3\" >8.30</td>\n",
       "      <td id=\"T_b2810_row8_col4\" class=\"data row8 col4\" >8.65</td>\n",
       "      <td id=\"T_b2810_row8_col5\" class=\"data row8 col5\" >2,197,424</td>\n",
       "      <td id=\"T_b2810_row8_col6\" class=\"data row8 col6\" >8.65</td>\n",
       "      <td id=\"T_b2810_row8_col7\" class=\"data row8 col7\" >8.30</td>\n",
       "      <td id=\"T_b2810_row8_col8\" class=\"data row8 col8\" >S</td>\n",
       "      <td id=\"T_b2810_row8_col9\" class=\"data row8 col9\" >SET</td>\n",
       "      <td id=\"T_b2810_row8_col10\" class=\"data row8 col10\" >0.35</td>\n",
       "      <td id=\"T_b2810_row8_col11\" class=\"data row8 col11\" >4.22%</td>\n",
       "    </tr>\n",
       "    <tr>\n",
       "      <th id=\"T_b2810_level0_row9\" class=\"row_heading level0 row9\" >9</th>\n",
       "      <td id=\"T_b2810_row9_col0\" class=\"data row9 col0\" >NER</td>\n",
       "      <td id=\"T_b2810_row9_col1\" class=\"data row9 col1\" >2025-08-05</td>\n",
       "      <td id=\"T_b2810_row9_col2\" class=\"data row9 col2\" >2025-08-07</td>\n",
       "      <td id=\"T_b2810_row9_col3\" class=\"data row9 col3\" >4.42</td>\n",
       "      <td id=\"T_b2810_row9_col4\" class=\"data row9 col4\" >4.54</td>\n",
       "      <td id=\"T_b2810_row9_col5\" class=\"data row9 col5\" >193,664,388</td>\n",
       "      <td id=\"T_b2810_row9_col6\" class=\"data row9 col6\" >4.56</td>\n",
       "      <td id=\"T_b2810_row9_col7\" class=\"data row9 col7\" >4.22</td>\n",
       "      <td id=\"T_b2810_row9_col8\" class=\"data row9 col8\" >S</td>\n",
       "      <td id=\"T_b2810_row9_col9\" class=\"data row9 col9\" >SET</td>\n",
       "      <td id=\"T_b2810_row9_col10\" class=\"data row9 col10\" >0.12</td>\n",
       "      <td id=\"T_b2810_row9_col11\" class=\"data row9 col11\" >2.71%</td>\n",
       "    </tr>\n",
       "    <tr>\n",
       "      <th id=\"T_b2810_level0_row10\" class=\"row_heading level0 row10\" >10</th>\n",
       "      <td id=\"T_b2810_row10_col0\" class=\"data row10 col0\" >PTG</td>\n",
       "      <td id=\"T_b2810_row10_col1\" class=\"data row10 col1\" >2025-08-07</td>\n",
       "      <td id=\"T_b2810_row10_col2\" class=\"data row10 col2\" >2025-08-07</td>\n",
       "      <td id=\"T_b2810_row10_col3\" class=\"data row10 col3\" >6.85</td>\n",
       "      <td id=\"T_b2810_row10_col4\" class=\"data row10 col4\" >6.80</td>\n",
       "      <td id=\"T_b2810_row10_col5\" class=\"data row10 col5\" >50,285,196</td>\n",
       "      <td id=\"T_b2810_row10_col6\" class=\"data row10 col6\" >6.85</td>\n",
       "      <td id=\"T_b2810_row10_col7\" class=\"data row10 col7\" >6.55</td>\n",
       "      <td id=\"T_b2810_row10_col8\" class=\"data row10 col8\" >S</td>\n",
       "      <td id=\"T_b2810_row10_col9\" class=\"data row10 col9\" >SET100</td>\n",
       "      <td id=\"T_b2810_row10_col10\" class=\"data row10 col10\" >-0.05</td>\n",
       "      <td id=\"T_b2810_row10_col11\" class=\"data row10 col11\" >-0.73%</td>\n",
       "    </tr>\n",
       "  </tbody>\n",
       "</table>\n"
      ],
      "text/plain": [
       "<pandas.io.formats.style.Styler at 0x27631974080>"
      ]
     },
     "execution_count": 59,
     "metadata": {},
     "output_type": "execute_result"
    }
   ],
   "source": [
    "#df.set_index([\"name\"], inplace=True)\n",
    "df['fm_date'] = pd.to_datetime(df['fm_date'])\n",
    "df['to_date'] = pd.to_datetime(df['to_date'])\n",
    "df.eval('diff = to_price - fm_price',inplace=True)\n",
    "df['percent'] = round(df['diff']/df['fm_price']*100,2)\n",
    "df.style.format(format_dict)"
   ]
  },
  {
   "cell_type": "code",
   "execution_count": 61,
   "metadata": {},
   "outputs": [],
   "source": [
    "df_sort = df.sort_values(by=['percent'],ascending=[True]).copy()"
   ]
  },
  {
   "cell_type": "code",
   "execution_count": 63,
   "metadata": {},
   "outputs": [
    {
     "data": {
      "text/html": [
       "<style type=\"text/css\">\n",
       "</style>\n",
       "<table id=\"T_ead64\">\n",
       "  <thead>\n",
       "    <tr>\n",
       "      <th class=\"blank level0\" >&nbsp;</th>\n",
       "      <th id=\"T_ead64_level0_col0\" class=\"col_heading level0 col0\" >name</th>\n",
       "      <th id=\"T_ead64_level0_col1\" class=\"col_heading level0 col1\" >fm_date</th>\n",
       "      <th id=\"T_ead64_level0_col2\" class=\"col_heading level0 col2\" >to_date</th>\n",
       "      <th id=\"T_ead64_level0_col3\" class=\"col_heading level0 col3\" >fm_price</th>\n",
       "      <th id=\"T_ead64_level0_col4\" class=\"col_heading level0 col4\" >to_price</th>\n",
       "      <th id=\"T_ead64_level0_col5\" class=\"col_heading level0 col5\" >qty</th>\n",
       "      <th id=\"T_ead64_level0_col6\" class=\"col_heading level0 col6\" >max_price</th>\n",
       "      <th id=\"T_ead64_level0_col7\" class=\"col_heading level0 col7\" >min_price</th>\n",
       "      <th id=\"T_ead64_level0_col8\" class=\"col_heading level0 col8\" >status</th>\n",
       "      <th id=\"T_ead64_level0_col9\" class=\"col_heading level0 col9\" >market</th>\n",
       "      <th id=\"T_ead64_level0_col10\" class=\"col_heading level0 col10\" >diff</th>\n",
       "      <th id=\"T_ead64_level0_col11\" class=\"col_heading level0 col11\" >percent</th>\n",
       "    </tr>\n",
       "  </thead>\n",
       "  <tbody>\n",
       "  </tbody>\n",
       "</table>\n"
      ],
      "text/plain": [
       "<pandas.io.formats.style.Styler at 0x27631a9db20>"
      ]
     },
     "execution_count": 63,
     "metadata": {},
     "output_type": "execute_result"
    }
   ],
   "source": [
    "df_sort.query('percent <= -5.00').style.format(format_dict)"
   ]
  },
  {
   "cell_type": "code",
   "execution_count": 65,
   "metadata": {},
   "outputs": [
    {
     "data": {
      "text/html": [
       "<style type=\"text/css\">\n",
       "</style>\n",
       "<table id=\"T_6e68f\">\n",
       "  <thead>\n",
       "    <tr>\n",
       "      <th class=\"blank level0\" >&nbsp;</th>\n",
       "      <th id=\"T_6e68f_level0_col0\" class=\"col_heading level0 col0\" >name</th>\n",
       "      <th id=\"T_6e68f_level0_col1\" class=\"col_heading level0 col1\" >fm_date</th>\n",
       "      <th id=\"T_6e68f_level0_col2\" class=\"col_heading level0 col2\" >to_date</th>\n",
       "      <th id=\"T_6e68f_level0_col3\" class=\"col_heading level0 col3\" >fm_price</th>\n",
       "      <th id=\"T_6e68f_level0_col4\" class=\"col_heading level0 col4\" >to_price</th>\n",
       "      <th id=\"T_6e68f_level0_col5\" class=\"col_heading level0 col5\" >qty</th>\n",
       "      <th id=\"T_6e68f_level0_col6\" class=\"col_heading level0 col6\" >max_price</th>\n",
       "      <th id=\"T_6e68f_level0_col7\" class=\"col_heading level0 col7\" >min_price</th>\n",
       "      <th id=\"T_6e68f_level0_col8\" class=\"col_heading level0 col8\" >status</th>\n",
       "      <th id=\"T_6e68f_level0_col9\" class=\"col_heading level0 col9\" >market</th>\n",
       "      <th id=\"T_6e68f_level0_col10\" class=\"col_heading level0 col10\" >diff</th>\n",
       "      <th id=\"T_6e68f_level0_col11\" class=\"col_heading level0 col11\" >percent</th>\n",
       "    </tr>\n",
       "  </thead>\n",
       "  <tbody>\n",
       "  </tbody>\n",
       "</table>\n"
      ],
      "text/plain": [
       "<pandas.io.formats.style.Styler at 0x276317edbe0>"
      ]
     },
     "execution_count": 65,
     "metadata": {},
     "output_type": "execute_result"
    }
   ],
   "source": [
    "df_sort.query('percent >= 5.00').style.format(format_dict)"
   ]
  },
  {
   "cell_type": "code",
   "execution_count": 67,
   "metadata": {},
   "outputs": [],
   "source": [
    "conlite.close()"
   ]
  },
  {
   "cell_type": "code",
   "execution_count": 69,
   "metadata": {},
   "outputs": [
    {
     "name": "stdout",
     "output_type": "stream",
     "text": [
      "2025-08-07 22:36:22\n"
     ]
    }
   ],
   "source": [
    "# Get the current time\n",
    "current_time = datetime.now()\n",
    "# Format the time to remove milliseconds\n",
    "formatted_time = current_time.strftime(\"%Y-%m-%d %H:%M:%S\")\n",
    "print(formatted_time)"
   ]
  },
  {
   "cell_type": "code",
   "execution_count": null,
   "metadata": {},
   "outputs": [],
   "source": []
  }
 ],
 "metadata": {
  "anaconda-cloud": {},
  "kernelspec": {
   "display_name": "Python 3 (ipykernel)",
   "language": "python",
   "name": "python3"
  },
  "language_info": {
   "codemirror_mode": {
    "name": "ipython",
    "version": 3
   },
   "file_extension": ".py",
   "mimetype": "text/x-python",
   "name": "python",
   "nbconvert_exporter": "python",
   "pygments_lexer": "ipython3",
   "version": "3.12.3"
  }
 },
 "nbformat": 4,
 "nbformat_minor": 4
}
