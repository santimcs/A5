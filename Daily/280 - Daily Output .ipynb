{
 "cells": [
  {
   "cell_type": "markdown",
   "metadata": {},
   "source": [
    "### Must run step by step as there are command lines to be executed in the middle of the flow"
   ]
  },
  {
   "cell_type": "markdown",
   "metadata": {},
   "source": [
    "### Input files: Price-Today.csv\n",
    "### Output files: daily-sales.csv, daily-sales-prices.csv"
   ]
  },
  {
   "cell_type": "code",
   "execution_count": 3,
   "metadata": {},
   "outputs": [
    {
     "name": "stdout",
     "output_type": "stream",
     "text": [
      "2025-07-31\n"
     ]
    }
   ],
   "source": [
    "import numpy as np\n",
    "import os\n",
    "import pandas as pd\n",
    "from datetime import date, timedelta, datetime\n",
    "from sqlalchemy import create_engine\n",
    "from pandas.tseries.offsets import BDay\n",
    "\n",
    "engine = create_engine(\"sqlite:///c:\\\\ruby\\\\port_lite\\\\db\\\\development.sqlite3\")\n",
    "conlite = engine.connect()\n",
    "\n",
    "today = date.today()\n",
    "print(today)"
   ]
  },
  {
   "cell_type": "code",
   "execution_count": 5,
   "metadata": {},
   "outputs": [
    {
     "name": "stdout",
     "output_type": "stream",
     "text": [
      "Today: 2025-07-31\n",
      "Yesterday: 2025-07-30\n"
     ]
    }
   ],
   "source": [
    "# convert the timedelta object to a BusinessDay object\n",
    "num_business_days = BDay(1)\n",
    "yesterday = today - num_business_days\n",
    "yesterday = yesterday.date()\n",
    "print(f'Today: {today}')\n",
    "print(f'Yesterday: {yesterday}')"
   ]
  },
  {
   "cell_type": "code",
   "execution_count": 7,
   "metadata": {},
   "outputs": [],
   "source": [
    "cols = 'name fm_date to_date fm_price to_price qty max_price min_price percent status'.split()\n",
    "\n",
    "format_dict = {\n",
    "    'fm_price':'{:.2f}','to_price':'{:.2f}','diff':'{:.2f}',\n",
    "    'max_price':'{:.2f}','min_price':'{:.2f}',\n",
    "    'volume':'{:,.2f}','beta':'{:,.2f}',\n",
    "    'pct':'{:,.2f}%','percent':'{:,.2f}%',   \n",
    "    'fm_date':'{:%Y-%m-%d}','to_date':'{:%Y-%m-%d}',\n",
    "    'created_at':'{:%Y-%m-%d}','updated_at':'{:%Y-%m-%d}',\n",
    "    \n",
    "    'qty':'{:,}','available_qty':'{:,}',\n",
    "    'cost':'{:.2f}','buy_target':'{:.2f}','sell_target':'{:.2f}',\n",
    "}"
   ]
  },
  {
   "cell_type": "code",
   "execution_count": 9,
   "metadata": {},
   "outputs": [],
   "source": [
    "# Get the user's home directory\n",
    "user_path = os.path.expanduser('~')\n",
    "# Get the current working directory\n",
    "current_path = os.getcwd()\n",
    "# Derive the base directory (base_dir) by removing the last folder ('Daily')\n",
    "base_path = os.path.dirname(current_path)\n",
    "#C:\\Users\\PC1\\OneDrive\\A5\\Data\n",
    "dat_path = os.path.join(base_path, \"Data\")\n",
    "#C:\\Users\\PC1\\OneDrive\\Imports\\santisoontarinka@gmail.com - Google Drive\\Data>\n",
    "god_path = os.path.join(user_path, \"OneDrive\",\"Imports\",\"santisoontarinka@gmail.com - Google Drive\",\"Data\")\n",
    "#C:\\Users\\PC1\\iCloudDrive\\data\n",
    "icd_path = os.path.join(user_path, \"iCloudDrive\", \"Data\")\n",
    "#C:\\Users\\PC1\\OneDrive\\Documents\\obsidian-git-sync\\Data\n",
    "osd_path = os.path.join(user_path, \"OneDrive\",\"Documents\",\"obsidian-git-sync\",\"Data\")"
   ]
  },
  {
   "cell_type": "code",
   "execution_count": 11,
   "metadata": {},
   "outputs": [
    {
     "name": "stdout",
     "output_type": "stream",
     "text": [
      "User path: C:\\Users\\PC1\n",
      "Current path: C:\\Users\\PC1\\OneDrive\\A5\\Daily\n",
      "Base path: C:\\Users\\PC1\\OneDrive\\A5\n",
      "Data path : C:\\Users\\PC1\\OneDrive\\A5\\Data\n",
      "Google Drive path : C:\\Users\\PC1\\OneDrive\\Imports\\santisoontarinka@gmail.com - Google Drive\\Data\n",
      "iCloudDrive path : C:\\Users\\PC1\\iCloudDrive\\Data\n",
      "OSD path : C:\\Users\\PC1\\OneDrive\\Documents\\obsidian-git-sync\\Data\n"
     ]
    }
   ],
   "source": [
    "print(\"User path:\", user_path)\n",
    "print(f\"Current path: {current_path}\")\n",
    "print(f\"Base path: {base_path}\")\n",
    "print(f\"Data path : {dat_path}\") \n",
    "print(f\"Google Drive path : {god_path}\")\n",
    "print(f\"iCloudDrive path : {icd_path}\") \n",
    "print(f\"OSD path : {osd_path}\") "
   ]
  },
  {
   "cell_type": "code",
   "execution_count": 13,
   "metadata": {
    "scrolled": true
   },
   "outputs": [
    {
     "name": "stdout",
     "output_type": "stream",
     "text": [
      "\n",
      "SELECT DISTINCT a.name\n",
      "FROM sales a \n",
      "WHERE to_date = '2025-07-30'\n",
      "ORDER BY a.name\n",
      "\n"
     ]
    },
    {
     "data": {
      "text/plain": [
       "(11, 1)"
      ]
     },
     "execution_count": 13,
     "metadata": {},
     "output_type": "execute_result"
    }
   ],
   "source": [
    "sql = \"\"\"\n",
    "SELECT DISTINCT a.name\n",
    "FROM sales a \n",
    "WHERE to_date = '%s'\n",
    "ORDER BY a.name\n",
    "\"\"\"\n",
    "sql = sql % yesterday\n",
    "print(sql)\n",
    "tmp = pd.read_sql(sql, conlite)\n",
    "tmp.shape"
   ]
  },
  {
   "cell_type": "code",
   "execution_count": 15,
   "metadata": {},
   "outputs": [
    {
     "name": "stdout",
     "output_type": "stream",
     "text": [
      "\n",
      "SELECT a.name,fm_date,to_date,fm_price,to_price,\n",
      "a.qty,a.max_price,a.min_price,t.status,t.market\n",
      "FROM sales a \n",
      "JOIN stocks t ON a.name = t.name \n",
      "WHERE to_date = '2025-07-30' AND t.status IN (\"B\",\"I\", \"O\", \"S\") \n",
      "ORDER BY t.status, a.name\n",
      "\n"
     ]
    }
   ],
   "source": [
    "sql = \"\"\"\n",
    "SELECT a.name,fm_date,to_date,fm_price,to_price,\n",
    "a.qty,a.max_price,a.min_price,t.status,t.market\n",
    "FROM sales a \n",
    "JOIN stocks t ON a.name = t.name \n",
    "WHERE to_date = '%s' AND t.status IN (\"B\",\"I\", \"O\", \"S\") \n",
    "ORDER BY t.status, a.name\n",
    "\"\"\"\n",
    "sql = sql % yesterday\n",
    "print(sql)"
   ]
  },
  {
   "cell_type": "markdown",
   "metadata": {},
   "source": [
    "### This statement causes program to hang when there is no data"
   ]
  },
  {
   "cell_type": "code",
   "execution_count": 18,
   "metadata": {},
   "outputs": [
    {
     "data": {
      "text/html": [
       "<div>\n",
       "<style scoped>\n",
       "    .dataframe tbody tr th:only-of-type {\n",
       "        vertical-align: middle;\n",
       "    }\n",
       "\n",
       "    .dataframe tbody tr th {\n",
       "        vertical-align: top;\n",
       "    }\n",
       "\n",
       "    .dataframe thead th {\n",
       "        text-align: right;\n",
       "    }\n",
       "</style>\n",
       "<table border=\"1\" class=\"dataframe\">\n",
       "  <thead>\n",
       "    <tr style=\"text-align: right;\">\n",
       "      <th></th>\n",
       "      <th>name</th>\n",
       "      <th>fm_date</th>\n",
       "      <th>to_date</th>\n",
       "      <th>fm_price</th>\n",
       "      <th>to_price</th>\n",
       "      <th>qty</th>\n",
       "      <th>max_price</th>\n",
       "      <th>min_price</th>\n",
       "      <th>status</th>\n",
       "      <th>market</th>\n",
       "      <th>diff</th>\n",
       "      <th>percent</th>\n",
       "    </tr>\n",
       "  </thead>\n",
       "  <tbody>\n",
       "    <tr>\n",
       "      <th>0</th>\n",
       "      <td>DIF</td>\n",
       "      <td>2025-07-23</td>\n",
       "      <td>2025-07-30</td>\n",
       "      <td>8.15</td>\n",
       "      <td>8.20</td>\n",
       "      <td>60009200</td>\n",
       "      <td>8.20</td>\n",
       "      <td>8.10</td>\n",
       "      <td>B</td>\n",
       "      <td>SET</td>\n",
       "      <td>0.05</td>\n",
       "      <td>0.61</td>\n",
       "    </tr>\n",
       "    <tr>\n",
       "      <th>1</th>\n",
       "      <td>GVREIT</td>\n",
       "      <td>2025-07-25</td>\n",
       "      <td>2025-07-30</td>\n",
       "      <td>6.55</td>\n",
       "      <td>6.50</td>\n",
       "      <td>728440</td>\n",
       "      <td>6.55</td>\n",
       "      <td>6.50</td>\n",
       "      <td>B</td>\n",
       "      <td>SET</td>\n",
       "      <td>-0.05</td>\n",
       "      <td>-0.76</td>\n",
       "    </tr>\n",
       "    <tr>\n",
       "      <th>2</th>\n",
       "      <td>JMT</td>\n",
       "      <td>2025-07-29</td>\n",
       "      <td>2025-07-30</td>\n",
       "      <td>10.50</td>\n",
       "      <td>11.10</td>\n",
       "      <td>55174650</td>\n",
       "      <td>11.10</td>\n",
       "      <td>10.40</td>\n",
       "      <td>B</td>\n",
       "      <td>SET50</td>\n",
       "      <td>0.60</td>\n",
       "      <td>5.71</td>\n",
       "    </tr>\n",
       "    <tr>\n",
       "      <th>3</th>\n",
       "      <td>SENA</td>\n",
       "      <td>2025-07-24</td>\n",
       "      <td>2025-07-30</td>\n",
       "      <td>1.66</td>\n",
       "      <td>1.78</td>\n",
       "      <td>1131740</td>\n",
       "      <td>1.78</td>\n",
       "      <td>1.65</td>\n",
       "      <td>B</td>\n",
       "      <td>SET</td>\n",
       "      <td>0.12</td>\n",
       "      <td>7.23</td>\n",
       "    </tr>\n",
       "    <tr>\n",
       "      <th>4</th>\n",
       "      <td>WHAIR</td>\n",
       "      <td>2025-07-30</td>\n",
       "      <td>2025-07-30</td>\n",
       "      <td>5.50</td>\n",
       "      <td>5.45</td>\n",
       "      <td>12048560</td>\n",
       "      <td>5.50</td>\n",
       "      <td>4.96</td>\n",
       "      <td>B</td>\n",
       "      <td>SET</td>\n",
       "      <td>-0.05</td>\n",
       "      <td>-0.91</td>\n",
       "    </tr>\n",
       "    <tr>\n",
       "      <th>5</th>\n",
       "      <td>WHART</td>\n",
       "      <td>2025-07-25</td>\n",
       "      <td>2025-07-30</td>\n",
       "      <td>9.35</td>\n",
       "      <td>9.30</td>\n",
       "      <td>952616</td>\n",
       "      <td>9.45</td>\n",
       "      <td>9.30</td>\n",
       "      <td>B</td>\n",
       "      <td>SET</td>\n",
       "      <td>-0.05</td>\n",
       "      <td>-0.53</td>\n",
       "    </tr>\n",
       "    <tr>\n",
       "      <th>6</th>\n",
       "      <td>AIMIRT</td>\n",
       "      <td>2025-07-30</td>\n",
       "      <td>2025-07-30</td>\n",
       "      <td>9.55</td>\n",
       "      <td>9.65</td>\n",
       "      <td>407346</td>\n",
       "      <td>9.70</td>\n",
       "      <td>9.55</td>\n",
       "      <td>S</td>\n",
       "      <td>SET</td>\n",
       "      <td>0.10</td>\n",
       "      <td>1.05</td>\n",
       "    </tr>\n",
       "    <tr>\n",
       "      <th>7</th>\n",
       "      <td>IVL</td>\n",
       "      <td>2025-07-25</td>\n",
       "      <td>2025-07-30</td>\n",
       "      <td>21.30</td>\n",
       "      <td>23.10</td>\n",
       "      <td>26891084</td>\n",
       "      <td>23.10</td>\n",
       "      <td>21.10</td>\n",
       "      <td>S</td>\n",
       "      <td>SET50</td>\n",
       "      <td>1.80</td>\n",
       "      <td>8.45</td>\n",
       "    </tr>\n",
       "    <tr>\n",
       "      <th>8</th>\n",
       "      <td>MCS</td>\n",
       "      <td>2025-07-30</td>\n",
       "      <td>2025-07-30</td>\n",
       "      <td>8.30</td>\n",
       "      <td>8.35</td>\n",
       "      <td>974502</td>\n",
       "      <td>8.40</td>\n",
       "      <td>8.20</td>\n",
       "      <td>S</td>\n",
       "      <td>SET</td>\n",
       "      <td>0.05</td>\n",
       "      <td>0.60</td>\n",
       "    </tr>\n",
       "    <tr>\n",
       "      <th>9</th>\n",
       "      <td>NER</td>\n",
       "      <td>2025-07-25</td>\n",
       "      <td>2025-07-30</td>\n",
       "      <td>4.24</td>\n",
       "      <td>4.40</td>\n",
       "      <td>9808156</td>\n",
       "      <td>4.40</td>\n",
       "      <td>4.22</td>\n",
       "      <td>S</td>\n",
       "      <td>SET</td>\n",
       "      <td>0.16</td>\n",
       "      <td>3.77</td>\n",
       "    </tr>\n",
       "    <tr>\n",
       "      <th>10</th>\n",
       "      <td>PTG</td>\n",
       "      <td>2025-07-29</td>\n",
       "      <td>2025-07-30</td>\n",
       "      <td>6.40</td>\n",
       "      <td>6.85</td>\n",
       "      <td>7745050</td>\n",
       "      <td>6.85</td>\n",
       "      <td>6.40</td>\n",
       "      <td>S</td>\n",
       "      <td>SET100</td>\n",
       "      <td>0.45</td>\n",
       "      <td>7.03</td>\n",
       "    </tr>\n",
       "  </tbody>\n",
       "</table>\n",
       "</div>"
      ],
      "text/plain": [
       "      name    fm_date    to_date  fm_price  to_price       qty  max_price  \\\n",
       "0      DIF 2025-07-23 2025-07-30      8.15      8.20  60009200       8.20   \n",
       "1   GVREIT 2025-07-25 2025-07-30      6.55      6.50    728440       6.55   \n",
       "2      JMT 2025-07-29 2025-07-30     10.50     11.10  55174650      11.10   \n",
       "3     SENA 2025-07-24 2025-07-30      1.66      1.78   1131740       1.78   \n",
       "4    WHAIR 2025-07-30 2025-07-30      5.50      5.45  12048560       5.50   \n",
       "5    WHART 2025-07-25 2025-07-30      9.35      9.30    952616       9.45   \n",
       "6   AIMIRT 2025-07-30 2025-07-30      9.55      9.65    407346       9.70   \n",
       "7      IVL 2025-07-25 2025-07-30     21.30     23.10  26891084      23.10   \n",
       "8      MCS 2025-07-30 2025-07-30      8.30      8.35    974502       8.40   \n",
       "9      NER 2025-07-25 2025-07-30      4.24      4.40   9808156       4.40   \n",
       "10     PTG 2025-07-29 2025-07-30      6.40      6.85   7745050       6.85   \n",
       "\n",
       "    min_price status  market  diff  percent  \n",
       "0        8.10      B     SET  0.05     0.61  \n",
       "1        6.50      B     SET -0.05    -0.76  \n",
       "2       10.40      B   SET50  0.60     5.71  \n",
       "3        1.65      B     SET  0.12     7.23  \n",
       "4        4.96      B     SET -0.05    -0.91  \n",
       "5        9.30      B     SET -0.05    -0.53  \n",
       "6        9.55      S     SET  0.10     1.05  \n",
       "7       21.10      S   SET50  1.80     8.45  \n",
       "8        8.20      S     SET  0.05     0.60  \n",
       "9        4.22      S     SET  0.16     3.77  \n",
       "10       6.40      S  SET100  0.45     7.03  "
      ]
     },
     "execution_count": 18,
     "metadata": {},
     "output_type": "execute_result"
    }
   ],
   "source": [
    "df = pd.read_sql(sql, conlite)\n",
    "#df.set_index([\"name\"], inplace=True)\n",
    "df['fm_date'] = pd.to_datetime(df['fm_date'])\n",
    "df['to_date'] = pd.to_datetime(df['to_date'])\n",
    "df.eval('diff = to_price - fm_price',inplace=True)\n",
    "df['percent'] = round(df['diff']/df['fm_price']*100,2)\n",
    "#df.style.format(format_dict)\n",
    "df"
   ]
  },
  {
   "cell_type": "code",
   "execution_count": 20,
   "metadata": {},
   "outputs": [
    {
     "data": {
      "text/plain": [
       "(11, 12)"
      ]
     },
     "execution_count": 20,
     "metadata": {},
     "output_type": "execute_result"
    }
   ],
   "source": [
    "df.shape"
   ]
  },
  {
   "cell_type": "markdown",
   "metadata": {},
   "source": [
    "### IF the above count not equal number of orders, there must be something incorrect"
   ]
  },
  {
   "cell_type": "markdown",
   "metadata": {},
   "source": [
    "### Create daily-sales from sales"
   ]
  },
  {
   "cell_type": "code",
   "execution_count": 24,
   "metadata": {},
   "outputs": [
    {
     "data": {
      "text/html": [
       "<style type=\"text/css\">\n",
       "</style>\n",
       "<table id=\"T_78cc9\">\n",
       "  <thead>\n",
       "    <tr>\n",
       "      <th class=\"blank level0\" >&nbsp;</th>\n",
       "      <th id=\"T_78cc9_level0_col0\" class=\"col_heading level0 col0\" >name</th>\n",
       "      <th id=\"T_78cc9_level0_col1\" class=\"col_heading level0 col1\" >fm_date</th>\n",
       "      <th id=\"T_78cc9_level0_col2\" class=\"col_heading level0 col2\" >to_date</th>\n",
       "      <th id=\"T_78cc9_level0_col3\" class=\"col_heading level0 col3\" >fm_price</th>\n",
       "      <th id=\"T_78cc9_level0_col4\" class=\"col_heading level0 col4\" >to_price</th>\n",
       "      <th id=\"T_78cc9_level0_col5\" class=\"col_heading level0 col5\" >qty</th>\n",
       "      <th id=\"T_78cc9_level0_col6\" class=\"col_heading level0 col6\" >max_price</th>\n",
       "      <th id=\"T_78cc9_level0_col7\" class=\"col_heading level0 col7\" >min_price</th>\n",
       "      <th id=\"T_78cc9_level0_col8\" class=\"col_heading level0 col8\" >percent</th>\n",
       "      <th id=\"T_78cc9_level0_col9\" class=\"col_heading level0 col9\" >status</th>\n",
       "    </tr>\n",
       "  </thead>\n",
       "  <tbody>\n",
       "    <tr>\n",
       "      <th id=\"T_78cc9_level0_row0\" class=\"row_heading level0 row0\" >0</th>\n",
       "      <td id=\"T_78cc9_row0_col0\" class=\"data row0 col0\" >DIF</td>\n",
       "      <td id=\"T_78cc9_row0_col1\" class=\"data row0 col1\" >2025-07-23</td>\n",
       "      <td id=\"T_78cc9_row0_col2\" class=\"data row0 col2\" >2025-07-30</td>\n",
       "      <td id=\"T_78cc9_row0_col3\" class=\"data row0 col3\" >8.15</td>\n",
       "      <td id=\"T_78cc9_row0_col4\" class=\"data row0 col4\" >8.20</td>\n",
       "      <td id=\"T_78cc9_row0_col5\" class=\"data row0 col5\" >60,009,200</td>\n",
       "      <td id=\"T_78cc9_row0_col6\" class=\"data row0 col6\" >8.20</td>\n",
       "      <td id=\"T_78cc9_row0_col7\" class=\"data row0 col7\" >8.10</td>\n",
       "      <td id=\"T_78cc9_row0_col8\" class=\"data row0 col8\" >0.61%</td>\n",
       "      <td id=\"T_78cc9_row0_col9\" class=\"data row0 col9\" >B</td>\n",
       "    </tr>\n",
       "    <tr>\n",
       "      <th id=\"T_78cc9_level0_row1\" class=\"row_heading level0 row1\" >1</th>\n",
       "      <td id=\"T_78cc9_row1_col0\" class=\"data row1 col0\" >GVREIT</td>\n",
       "      <td id=\"T_78cc9_row1_col1\" class=\"data row1 col1\" >2025-07-25</td>\n",
       "      <td id=\"T_78cc9_row1_col2\" class=\"data row1 col2\" >2025-07-30</td>\n",
       "      <td id=\"T_78cc9_row1_col3\" class=\"data row1 col3\" >6.55</td>\n",
       "      <td id=\"T_78cc9_row1_col4\" class=\"data row1 col4\" >6.50</td>\n",
       "      <td id=\"T_78cc9_row1_col5\" class=\"data row1 col5\" >728,440</td>\n",
       "      <td id=\"T_78cc9_row1_col6\" class=\"data row1 col6\" >6.55</td>\n",
       "      <td id=\"T_78cc9_row1_col7\" class=\"data row1 col7\" >6.50</td>\n",
       "      <td id=\"T_78cc9_row1_col8\" class=\"data row1 col8\" >-0.76%</td>\n",
       "      <td id=\"T_78cc9_row1_col9\" class=\"data row1 col9\" >B</td>\n",
       "    </tr>\n",
       "    <tr>\n",
       "      <th id=\"T_78cc9_level0_row2\" class=\"row_heading level0 row2\" >2</th>\n",
       "      <td id=\"T_78cc9_row2_col0\" class=\"data row2 col0\" >JMT</td>\n",
       "      <td id=\"T_78cc9_row2_col1\" class=\"data row2 col1\" >2025-07-29</td>\n",
       "      <td id=\"T_78cc9_row2_col2\" class=\"data row2 col2\" >2025-07-30</td>\n",
       "      <td id=\"T_78cc9_row2_col3\" class=\"data row2 col3\" >10.50</td>\n",
       "      <td id=\"T_78cc9_row2_col4\" class=\"data row2 col4\" >11.10</td>\n",
       "      <td id=\"T_78cc9_row2_col5\" class=\"data row2 col5\" >55,174,650</td>\n",
       "      <td id=\"T_78cc9_row2_col6\" class=\"data row2 col6\" >11.10</td>\n",
       "      <td id=\"T_78cc9_row2_col7\" class=\"data row2 col7\" >10.40</td>\n",
       "      <td id=\"T_78cc9_row2_col8\" class=\"data row2 col8\" >5.71%</td>\n",
       "      <td id=\"T_78cc9_row2_col9\" class=\"data row2 col9\" >B</td>\n",
       "    </tr>\n",
       "    <tr>\n",
       "      <th id=\"T_78cc9_level0_row3\" class=\"row_heading level0 row3\" >3</th>\n",
       "      <td id=\"T_78cc9_row3_col0\" class=\"data row3 col0\" >SENA</td>\n",
       "      <td id=\"T_78cc9_row3_col1\" class=\"data row3 col1\" >2025-07-24</td>\n",
       "      <td id=\"T_78cc9_row3_col2\" class=\"data row3 col2\" >2025-07-30</td>\n",
       "      <td id=\"T_78cc9_row3_col3\" class=\"data row3 col3\" >1.66</td>\n",
       "      <td id=\"T_78cc9_row3_col4\" class=\"data row3 col4\" >1.78</td>\n",
       "      <td id=\"T_78cc9_row3_col5\" class=\"data row3 col5\" >1,131,740</td>\n",
       "      <td id=\"T_78cc9_row3_col6\" class=\"data row3 col6\" >1.78</td>\n",
       "      <td id=\"T_78cc9_row3_col7\" class=\"data row3 col7\" >1.65</td>\n",
       "      <td id=\"T_78cc9_row3_col8\" class=\"data row3 col8\" >7.23%</td>\n",
       "      <td id=\"T_78cc9_row3_col9\" class=\"data row3 col9\" >B</td>\n",
       "    </tr>\n",
       "    <tr>\n",
       "      <th id=\"T_78cc9_level0_row4\" class=\"row_heading level0 row4\" >4</th>\n",
       "      <td id=\"T_78cc9_row4_col0\" class=\"data row4 col0\" >WHAIR</td>\n",
       "      <td id=\"T_78cc9_row4_col1\" class=\"data row4 col1\" >2025-07-30</td>\n",
       "      <td id=\"T_78cc9_row4_col2\" class=\"data row4 col2\" >2025-07-30</td>\n",
       "      <td id=\"T_78cc9_row4_col3\" class=\"data row4 col3\" >5.50</td>\n",
       "      <td id=\"T_78cc9_row4_col4\" class=\"data row4 col4\" >5.45</td>\n",
       "      <td id=\"T_78cc9_row4_col5\" class=\"data row4 col5\" >12,048,560</td>\n",
       "      <td id=\"T_78cc9_row4_col6\" class=\"data row4 col6\" >5.50</td>\n",
       "      <td id=\"T_78cc9_row4_col7\" class=\"data row4 col7\" >4.96</td>\n",
       "      <td id=\"T_78cc9_row4_col8\" class=\"data row4 col8\" >-0.91%</td>\n",
       "      <td id=\"T_78cc9_row4_col9\" class=\"data row4 col9\" >B</td>\n",
       "    </tr>\n",
       "    <tr>\n",
       "      <th id=\"T_78cc9_level0_row5\" class=\"row_heading level0 row5\" >5</th>\n",
       "      <td id=\"T_78cc9_row5_col0\" class=\"data row5 col0\" >WHART</td>\n",
       "      <td id=\"T_78cc9_row5_col1\" class=\"data row5 col1\" >2025-07-25</td>\n",
       "      <td id=\"T_78cc9_row5_col2\" class=\"data row5 col2\" >2025-07-30</td>\n",
       "      <td id=\"T_78cc9_row5_col3\" class=\"data row5 col3\" >9.35</td>\n",
       "      <td id=\"T_78cc9_row5_col4\" class=\"data row5 col4\" >9.30</td>\n",
       "      <td id=\"T_78cc9_row5_col5\" class=\"data row5 col5\" >952,616</td>\n",
       "      <td id=\"T_78cc9_row5_col6\" class=\"data row5 col6\" >9.45</td>\n",
       "      <td id=\"T_78cc9_row5_col7\" class=\"data row5 col7\" >9.30</td>\n",
       "      <td id=\"T_78cc9_row5_col8\" class=\"data row5 col8\" >-0.53%</td>\n",
       "      <td id=\"T_78cc9_row5_col9\" class=\"data row5 col9\" >B</td>\n",
       "    </tr>\n",
       "    <tr>\n",
       "      <th id=\"T_78cc9_level0_row6\" class=\"row_heading level0 row6\" >6</th>\n",
       "      <td id=\"T_78cc9_row6_col0\" class=\"data row6 col0\" >AIMIRT</td>\n",
       "      <td id=\"T_78cc9_row6_col1\" class=\"data row6 col1\" >2025-07-30</td>\n",
       "      <td id=\"T_78cc9_row6_col2\" class=\"data row6 col2\" >2025-07-30</td>\n",
       "      <td id=\"T_78cc9_row6_col3\" class=\"data row6 col3\" >9.55</td>\n",
       "      <td id=\"T_78cc9_row6_col4\" class=\"data row6 col4\" >9.65</td>\n",
       "      <td id=\"T_78cc9_row6_col5\" class=\"data row6 col5\" >407,346</td>\n",
       "      <td id=\"T_78cc9_row6_col6\" class=\"data row6 col6\" >9.70</td>\n",
       "      <td id=\"T_78cc9_row6_col7\" class=\"data row6 col7\" >9.55</td>\n",
       "      <td id=\"T_78cc9_row6_col8\" class=\"data row6 col8\" >1.05%</td>\n",
       "      <td id=\"T_78cc9_row6_col9\" class=\"data row6 col9\" >S</td>\n",
       "    </tr>\n",
       "    <tr>\n",
       "      <th id=\"T_78cc9_level0_row7\" class=\"row_heading level0 row7\" >7</th>\n",
       "      <td id=\"T_78cc9_row7_col0\" class=\"data row7 col0\" >IVL</td>\n",
       "      <td id=\"T_78cc9_row7_col1\" class=\"data row7 col1\" >2025-07-25</td>\n",
       "      <td id=\"T_78cc9_row7_col2\" class=\"data row7 col2\" >2025-07-30</td>\n",
       "      <td id=\"T_78cc9_row7_col3\" class=\"data row7 col3\" >21.30</td>\n",
       "      <td id=\"T_78cc9_row7_col4\" class=\"data row7 col4\" >23.10</td>\n",
       "      <td id=\"T_78cc9_row7_col5\" class=\"data row7 col5\" >26,891,084</td>\n",
       "      <td id=\"T_78cc9_row7_col6\" class=\"data row7 col6\" >23.10</td>\n",
       "      <td id=\"T_78cc9_row7_col7\" class=\"data row7 col7\" >21.10</td>\n",
       "      <td id=\"T_78cc9_row7_col8\" class=\"data row7 col8\" >8.45%</td>\n",
       "      <td id=\"T_78cc9_row7_col9\" class=\"data row7 col9\" >S</td>\n",
       "    </tr>\n",
       "    <tr>\n",
       "      <th id=\"T_78cc9_level0_row8\" class=\"row_heading level0 row8\" >8</th>\n",
       "      <td id=\"T_78cc9_row8_col0\" class=\"data row8 col0\" >MCS</td>\n",
       "      <td id=\"T_78cc9_row8_col1\" class=\"data row8 col1\" >2025-07-30</td>\n",
       "      <td id=\"T_78cc9_row8_col2\" class=\"data row8 col2\" >2025-07-30</td>\n",
       "      <td id=\"T_78cc9_row8_col3\" class=\"data row8 col3\" >8.30</td>\n",
       "      <td id=\"T_78cc9_row8_col4\" class=\"data row8 col4\" >8.35</td>\n",
       "      <td id=\"T_78cc9_row8_col5\" class=\"data row8 col5\" >974,502</td>\n",
       "      <td id=\"T_78cc9_row8_col6\" class=\"data row8 col6\" >8.40</td>\n",
       "      <td id=\"T_78cc9_row8_col7\" class=\"data row8 col7\" >8.20</td>\n",
       "      <td id=\"T_78cc9_row8_col8\" class=\"data row8 col8\" >0.60%</td>\n",
       "      <td id=\"T_78cc9_row8_col9\" class=\"data row8 col9\" >S</td>\n",
       "    </tr>\n",
       "    <tr>\n",
       "      <th id=\"T_78cc9_level0_row9\" class=\"row_heading level0 row9\" >9</th>\n",
       "      <td id=\"T_78cc9_row9_col0\" class=\"data row9 col0\" >NER</td>\n",
       "      <td id=\"T_78cc9_row9_col1\" class=\"data row9 col1\" >2025-07-25</td>\n",
       "      <td id=\"T_78cc9_row9_col2\" class=\"data row9 col2\" >2025-07-30</td>\n",
       "      <td id=\"T_78cc9_row9_col3\" class=\"data row9 col3\" >4.24</td>\n",
       "      <td id=\"T_78cc9_row9_col4\" class=\"data row9 col4\" >4.40</td>\n",
       "      <td id=\"T_78cc9_row9_col5\" class=\"data row9 col5\" >9,808,156</td>\n",
       "      <td id=\"T_78cc9_row9_col6\" class=\"data row9 col6\" >4.40</td>\n",
       "      <td id=\"T_78cc9_row9_col7\" class=\"data row9 col7\" >4.22</td>\n",
       "      <td id=\"T_78cc9_row9_col8\" class=\"data row9 col8\" >3.77%</td>\n",
       "      <td id=\"T_78cc9_row9_col9\" class=\"data row9 col9\" >S</td>\n",
       "    </tr>\n",
       "    <tr>\n",
       "      <th id=\"T_78cc9_level0_row10\" class=\"row_heading level0 row10\" >10</th>\n",
       "      <td id=\"T_78cc9_row10_col0\" class=\"data row10 col0\" >PTG</td>\n",
       "      <td id=\"T_78cc9_row10_col1\" class=\"data row10 col1\" >2025-07-29</td>\n",
       "      <td id=\"T_78cc9_row10_col2\" class=\"data row10 col2\" >2025-07-30</td>\n",
       "      <td id=\"T_78cc9_row10_col3\" class=\"data row10 col3\" >6.40</td>\n",
       "      <td id=\"T_78cc9_row10_col4\" class=\"data row10 col4\" >6.85</td>\n",
       "      <td id=\"T_78cc9_row10_col5\" class=\"data row10 col5\" >7,745,050</td>\n",
       "      <td id=\"T_78cc9_row10_col6\" class=\"data row10 col6\" >6.85</td>\n",
       "      <td id=\"T_78cc9_row10_col7\" class=\"data row10 col7\" >6.40</td>\n",
       "      <td id=\"T_78cc9_row10_col8\" class=\"data row10 col8\" >7.03%</td>\n",
       "      <td id=\"T_78cc9_row10_col9\" class=\"data row10 col9\" >S</td>\n",
       "    </tr>\n",
       "  </tbody>\n",
       "</table>\n"
      ],
      "text/plain": [
       "<pandas.io.formats.style.Styler at 0x22aa8b14b90>"
      ]
     },
     "execution_count": 24,
     "metadata": {},
     "output_type": "execute_result"
    }
   ],
   "source": [
    "df[cols].style.format(format_dict)"
   ]
  },
  {
   "cell_type": "code",
   "execution_count": 26,
   "metadata": {},
   "outputs": [],
   "source": [
    "file_name = \"daily-sales.csv\"\n",
    "output_file = os.path.join(dat_path, file_name)\n",
    "god_file = os.path.join(god_path, file_name)\n",
    "icd_file = os.path.join(icd_path, file_name)\n",
    "osd_file = os.path.join(osd_path, file_name)"
   ]
  },
  {
   "cell_type": "code",
   "execution_count": 28,
   "metadata": {},
   "outputs": [
    {
     "name": "stdout",
     "output_type": "stream",
     "text": [
      "Output file : C:\\Users\\PC1\\OneDrive\\A5\\Data\\daily-sales.csv\n",
      "icd_file : C:\\Users\\PC1\\iCloudDrive\\Data\\daily-sales.csv\n",
      "god_file : C:\\Users\\PC1\\OneDrive\\Imports\\santisoontarinka@gmail.com - Google Drive\\Data\\daily-sales.csv\n",
      "osd_file : C:\\Users\\PC1\\OneDrive\\Documents\\obsidian-git-sync\\Data\\daily-sales.csv\n"
     ]
    }
   ],
   "source": [
    "print(f\"Output file : {output_file}\") \n",
    "print(f\"icd_file : {icd_file}\") \n",
    "print(f\"god_file : {god_file}\") \n",
    "print(f\"osd_file : {osd_file}\") "
   ]
  },
  {
   "cell_type": "code",
   "execution_count": 30,
   "metadata": {},
   "outputs": [],
   "source": [
    "df[cols].sort_values(['status','percent'],ascending=[True,True]).to_csv(output_file, header=True, index=False)\n",
    "df[cols].sort_values(['status','percent'],ascending=[True,True]).to_csv(god_file, header=True, index=False)\n",
    "df[cols].sort_values(['status','percent'],ascending=[True,True]).to_csv(icd_file, header=True, index=False)\n",
    "df[cols].sort_values(['status','percent'],ascending=[True,True]).to_csv(osd_file, header=True, index=False)"
   ]
  },
  {
   "cell_type": "code",
   "execution_count": 32,
   "metadata": {},
   "outputs": [
    {
     "data": {
      "text/plain": [
       "(11, 10)"
      ]
     },
     "execution_count": 32,
     "metadata": {},
     "output_type": "execute_result"
    }
   ],
   "source": [
    "sales = df[cols]\n",
    "sales.shape"
   ]
  },
  {
   "cell_type": "code",
   "execution_count": 34,
   "metadata": {},
   "outputs": [
    {
     "name": "stdout",
     "output_type": "stream",
     "text": [
      "Input file: C:\\Users\\PC1\\OneDrive\\A5\\Data\\Price-Today.csv\n"
     ]
    }
   ],
   "source": [
    "file_name = \"Price-Today.csv\"\n",
    "input_file = os.path.join(dat_path, file_name)\n",
    "print(f\"Input file: {input_file}\")"
   ]
  },
  {
   "cell_type": "code",
   "execution_count": 36,
   "metadata": {},
   "outputs": [
    {
     "data": {
      "text/plain": [
       "(169, 10)"
      ]
     },
     "execution_count": 36,
     "metadata": {},
     "output_type": "execute_result"
    }
   ],
   "source": [
    "prices = pd.read_csv(input_file)\n",
    "prices.shape"
   ]
  },
  {
   "cell_type": "code",
   "execution_count": 38,
   "metadata": {},
   "outputs": [
    {
     "data": {
      "text/plain": [
       "(11, 19)"
      ]
     },
     "execution_count": 38,
     "metadata": {},
     "output_type": "execute_result"
    }
   ],
   "source": [
    "df_merge = pd.merge(sales,prices,on='name', how='inner')\n",
    "df_merge.shape"
   ]
  },
  {
   "cell_type": "code",
   "execution_count": 40,
   "metadata": {
    "scrolled": true
   },
   "outputs": [
    {
     "data": {
      "text/html": [
       "<div>\n",
       "<style scoped>\n",
       "    .dataframe tbody tr th:only-of-type {\n",
       "        vertical-align: middle;\n",
       "    }\n",
       "\n",
       "    .dataframe tbody tr th {\n",
       "        vertical-align: top;\n",
       "    }\n",
       "\n",
       "    .dataframe thead th {\n",
       "        text-align: right;\n",
       "    }\n",
       "</style>\n",
       "<table border=\"1\" class=\"dataframe\">\n",
       "  <thead>\n",
       "    <tr style=\"text-align: right;\">\n",
       "      <th></th>\n",
       "      <th>name</th>\n",
       "      <th>fm_date</th>\n",
       "      <th>to_date</th>\n",
       "      <th>fm_price</th>\n",
       "      <th>to_price</th>\n",
       "      <th>qty</th>\n",
       "      <th>max_price</th>\n",
       "      <th>min_price</th>\n",
       "      <th>percent</th>\n",
       "      <th>status</th>\n",
       "      <th>price</th>\n",
       "      <th>change</th>\n",
       "      <th>volume</th>\n",
       "      <th>date</th>\n",
       "    </tr>\n",
       "  </thead>\n",
       "  <tbody>\n",
       "    <tr>\n",
       "      <th>0</th>\n",
       "      <td>DIF</td>\n",
       "      <td>2025-07-23</td>\n",
       "      <td>2025-07-30</td>\n",
       "      <td>8.15</td>\n",
       "      <td>8.20</td>\n",
       "      <td>60009200</td>\n",
       "      <td>8.20</td>\n",
       "      <td>8.10</td>\n",
       "      <td>0.61</td>\n",
       "      <td>B</td>\n",
       "      <td>8.15</td>\n",
       "      <td>-0.05</td>\n",
       "      <td>8082306</td>\n",
       "      <td>2025-07-31</td>\n",
       "    </tr>\n",
       "    <tr>\n",
       "      <th>1</th>\n",
       "      <td>GVREIT</td>\n",
       "      <td>2025-07-25</td>\n",
       "      <td>2025-07-30</td>\n",
       "      <td>6.55</td>\n",
       "      <td>6.50</td>\n",
       "      <td>728440</td>\n",
       "      <td>6.55</td>\n",
       "      <td>6.50</td>\n",
       "      <td>-0.76</td>\n",
       "      <td>B</td>\n",
       "      <td>6.55</td>\n",
       "      <td>0.05</td>\n",
       "      <td>224900</td>\n",
       "      <td>2025-07-31</td>\n",
       "    </tr>\n",
       "    <tr>\n",
       "      <th>2</th>\n",
       "      <td>JMT</td>\n",
       "      <td>2025-07-29</td>\n",
       "      <td>2025-07-30</td>\n",
       "      <td>10.50</td>\n",
       "      <td>11.10</td>\n",
       "      <td>55174650</td>\n",
       "      <td>11.10</td>\n",
       "      <td>10.40</td>\n",
       "      <td>5.71</td>\n",
       "      <td>B</td>\n",
       "      <td>11.10</td>\n",
       "      <td>0.00</td>\n",
       "      <td>28129130</td>\n",
       "      <td>2025-07-31</td>\n",
       "    </tr>\n",
       "    <tr>\n",
       "      <th>3</th>\n",
       "      <td>SENA</td>\n",
       "      <td>2025-07-24</td>\n",
       "      <td>2025-07-30</td>\n",
       "      <td>1.66</td>\n",
       "      <td>1.78</td>\n",
       "      <td>1131740</td>\n",
       "      <td>1.78</td>\n",
       "      <td>1.65</td>\n",
       "      <td>7.23</td>\n",
       "      <td>B</td>\n",
       "      <td>1.80</td>\n",
       "      <td>0.02</td>\n",
       "      <td>272948</td>\n",
       "      <td>2025-07-31</td>\n",
       "    </tr>\n",
       "    <tr>\n",
       "      <th>4</th>\n",
       "      <td>WHAIR</td>\n",
       "      <td>2025-07-30</td>\n",
       "      <td>2025-07-30</td>\n",
       "      <td>5.50</td>\n",
       "      <td>5.45</td>\n",
       "      <td>12048560</td>\n",
       "      <td>5.50</td>\n",
       "      <td>4.96</td>\n",
       "      <td>-0.91</td>\n",
       "      <td>B</td>\n",
       "      <td>5.40</td>\n",
       "      <td>-0.05</td>\n",
       "      <td>87459</td>\n",
       "      <td>2025-07-31</td>\n",
       "    </tr>\n",
       "    <tr>\n",
       "      <th>5</th>\n",
       "      <td>WHART</td>\n",
       "      <td>2025-07-25</td>\n",
       "      <td>2025-07-30</td>\n",
       "      <td>9.35</td>\n",
       "      <td>9.30</td>\n",
       "      <td>952616</td>\n",
       "      <td>9.45</td>\n",
       "      <td>9.30</td>\n",
       "      <td>-0.53</td>\n",
       "      <td>B</td>\n",
       "      <td>9.10</td>\n",
       "      <td>-0.20</td>\n",
       "      <td>2043353</td>\n",
       "      <td>2025-07-31</td>\n",
       "    </tr>\n",
       "    <tr>\n",
       "      <th>6</th>\n",
       "      <td>AIMIRT</td>\n",
       "      <td>2025-07-30</td>\n",
       "      <td>2025-07-30</td>\n",
       "      <td>9.55</td>\n",
       "      <td>9.65</td>\n",
       "      <td>407346</td>\n",
       "      <td>9.70</td>\n",
       "      <td>9.55</td>\n",
       "      <td>1.05</td>\n",
       "      <td>S</td>\n",
       "      <td>9.85</td>\n",
       "      <td>0.20</td>\n",
       "      <td>631525</td>\n",
       "      <td>2025-07-31</td>\n",
       "    </tr>\n",
       "    <tr>\n",
       "      <th>7</th>\n",
       "      <td>IVL</td>\n",
       "      <td>2025-07-25</td>\n",
       "      <td>2025-07-30</td>\n",
       "      <td>21.30</td>\n",
       "      <td>23.10</td>\n",
       "      <td>26891084</td>\n",
       "      <td>23.10</td>\n",
       "      <td>21.10</td>\n",
       "      <td>8.45</td>\n",
       "      <td>S</td>\n",
       "      <td>23.10</td>\n",
       "      <td>0.00</td>\n",
       "      <td>18279560</td>\n",
       "      <td>2025-07-31</td>\n",
       "    </tr>\n",
       "    <tr>\n",
       "      <th>8</th>\n",
       "      <td>MCS</td>\n",
       "      <td>2025-07-30</td>\n",
       "      <td>2025-07-30</td>\n",
       "      <td>8.30</td>\n",
       "      <td>8.35</td>\n",
       "      <td>974502</td>\n",
       "      <td>8.40</td>\n",
       "      <td>8.20</td>\n",
       "      <td>0.60</td>\n",
       "      <td>S</td>\n",
       "      <td>8.40</td>\n",
       "      <td>0.05</td>\n",
       "      <td>306635</td>\n",
       "      <td>2025-07-31</td>\n",
       "    </tr>\n",
       "    <tr>\n",
       "      <th>9</th>\n",
       "      <td>NER</td>\n",
       "      <td>2025-07-25</td>\n",
       "      <td>2025-07-30</td>\n",
       "      <td>4.24</td>\n",
       "      <td>4.40</td>\n",
       "      <td>9808156</td>\n",
       "      <td>4.40</td>\n",
       "      <td>4.22</td>\n",
       "      <td>3.77</td>\n",
       "      <td>S</td>\n",
       "      <td>4.42</td>\n",
       "      <td>0.02</td>\n",
       "      <td>6997991</td>\n",
       "      <td>2025-07-31</td>\n",
       "    </tr>\n",
       "    <tr>\n",
       "      <th>10</th>\n",
       "      <td>PTG</td>\n",
       "      <td>2025-07-29</td>\n",
       "      <td>2025-07-30</td>\n",
       "      <td>6.40</td>\n",
       "      <td>6.85</td>\n",
       "      <td>7745050</td>\n",
       "      <td>6.85</td>\n",
       "      <td>6.40</td>\n",
       "      <td>7.03</td>\n",
       "      <td>S</td>\n",
       "      <td>6.75</td>\n",
       "      <td>-0.10</td>\n",
       "      <td>7059554</td>\n",
       "      <td>2025-07-31</td>\n",
       "    </tr>\n",
       "  </tbody>\n",
       "</table>\n",
       "</div>"
      ],
      "text/plain": [
       "      name    fm_date    to_date  fm_price  to_price       qty  max_price  \\\n",
       "0      DIF 2025-07-23 2025-07-30      8.15      8.20  60009200       8.20   \n",
       "1   GVREIT 2025-07-25 2025-07-30      6.55      6.50    728440       6.55   \n",
       "2      JMT 2025-07-29 2025-07-30     10.50     11.10  55174650      11.10   \n",
       "3     SENA 2025-07-24 2025-07-30      1.66      1.78   1131740       1.78   \n",
       "4    WHAIR 2025-07-30 2025-07-30      5.50      5.45  12048560       5.50   \n",
       "5    WHART 2025-07-25 2025-07-30      9.35      9.30    952616       9.45   \n",
       "6   AIMIRT 2025-07-30 2025-07-30      9.55      9.65    407346       9.70   \n",
       "7      IVL 2025-07-25 2025-07-30     21.30     23.10  26891084      23.10   \n",
       "8      MCS 2025-07-30 2025-07-30      8.30      8.35    974502       8.40   \n",
       "9      NER 2025-07-25 2025-07-30      4.24      4.40   9808156       4.40   \n",
       "10     PTG 2025-07-29 2025-07-30      6.40      6.85   7745050       6.85   \n",
       "\n",
       "    min_price  percent status  price  change    volume        date  \n",
       "0        8.10     0.61      B   8.15   -0.05   8082306  2025-07-31  \n",
       "1        6.50    -0.76      B   6.55    0.05    224900  2025-07-31  \n",
       "2       10.40     5.71      B  11.10    0.00  28129130  2025-07-31  \n",
       "3        1.65     7.23      B   1.80    0.02    272948  2025-07-31  \n",
       "4        4.96    -0.91      B   5.40   -0.05     87459  2025-07-31  \n",
       "5        9.30    -0.53      B   9.10   -0.20   2043353  2025-07-31  \n",
       "6        9.55     1.05      S   9.85    0.20    631525  2025-07-31  \n",
       "7       21.10     8.45      S  23.10    0.00  18279560  2025-07-31  \n",
       "8        8.20     0.60      S   8.40    0.05    306635  2025-07-31  \n",
       "9        4.22     3.77      S   4.42    0.02   6997991  2025-07-31  \n",
       "10       6.40     7.03      S   6.75   -0.10   7059554  2025-07-31  "
      ]
     },
     "execution_count": 40,
     "metadata": {},
     "output_type": "execute_result"
    }
   ],
   "source": [
    "colu = 'name fm_date to_date fm_price to_price qty max_price min_price percent status \\\n",
    "price change volume date'.split()\n",
    "df_merge[colu]"
   ]
  },
  {
   "cell_type": "code",
   "execution_count": 42,
   "metadata": {},
   "outputs": [],
   "source": [
    "file_name = \"daily-sales-prices.csv\"\n",
    "output_file = os.path.join(dat_path, file_name)\n",
    "god_file = os.path.join(god_path, file_name)\n",
    "icd_file = os.path.join(icd_path, file_name)\n",
    "osd_file = os.path.join(osd_path, file_name)"
   ]
  },
  {
   "cell_type": "code",
   "execution_count": 44,
   "metadata": {},
   "outputs": [
    {
     "name": "stdout",
     "output_type": "stream",
     "text": [
      "Output file: C:\\Users\\PC1\\OneDrive\\A5\\Data\\daily-sales-prices.csv\n",
      "icd_file : C:\\Users\\PC1\\iCloudDrive\\Data\\daily-sales-prices.csv\n",
      "god_file : C:\\Users\\PC1\\OneDrive\\Imports\\santisoontarinka@gmail.com - Google Drive\\Data\\daily-sales-prices.csv\n",
      "osd_file : C:\\Users\\PC1\\OneDrive\\Documents\\obsidian-git-sync\\Data\\daily-sales-prices.csv\n"
     ]
    }
   ],
   "source": [
    "print(f\"Output file: {output_file}\") \n",
    "print(f\"icd_file : {icd_file}\") \n",
    "print(f\"god_file : {god_file}\") \n",
    "print(f\"osd_file : {osd_file}\") "
   ]
  },
  {
   "cell_type": "code",
   "execution_count": 46,
   "metadata": {},
   "outputs": [],
   "source": [
    "df_merge[colu].sort_values(['name'],ascending=[True]).to_csv(output_file, header=True, index=False)\n",
    "df_merge[colu].sort_values(['name'],ascending=[True]).to_csv(god_file, header=True, index=False)\n",
    "df_merge[colu].sort_values(['name'],ascending=[True]).to_csv(icd_file, header=True, index=False)\n",
    "df_merge[colu].sort_values(['name'],ascending=[True]).to_csv(osd_file, header=True, index=False)"
   ]
  },
  {
   "cell_type": "markdown",
   "metadata": {},
   "source": [
    "### Add or update sells record depends on trend"
   ]
  },
  {
   "cell_type": "code",
   "execution_count": 49,
   "metadata": {},
   "outputs": [
    {
     "data": {
      "text/plain": [
       "'C:\\\\Users\\\\PC1\\\\OneDrive\\\\A5'"
      ]
     },
     "execution_count": 49,
     "metadata": {},
     "output_type": "execute_result"
    }
   ],
   "source": [
    "os.chdir(base_path)\n",
    "%pwd"
   ]
  },
  {
   "cell_type": "code",
   "execution_count": 51,
   "metadata": {},
   "outputs": [
    {
     "name": "stdout",
     "output_type": "stream",
     "text": [
      "Name      From Date    To Date   From     To     Pct      Shares    Max    Min S Action\n",
      "---------------------------------------------------------------------------------------\n",
      "AIMIRT   2025-07-30 2025-07-31   9.55   9.85   3.14%     407,346   9.85   9.55 S Update\n",
      "DIF      2025-07-31 2025-07-31   8.20   8.15  -0.61%  60,009,200   8.20   8.10 B Insert\n",
      "GVREIT   2025-07-31 2025-07-31   6.50   6.55   0.77%     728,440   6.55   6.50 B Insert\n",
      "IVL      2025-07-25 2025-07-31  21.30  23.10   8.45%  26,891,084  23.10  21.10 S Update\n",
      "JMT      2025-07-29 2025-07-31  10.50  11.10   5.71%  55,174,650  11.10  10.40 B Update\n",
      "MCS      2025-07-30 2025-07-31   8.30   8.40    1.2%     974,502   8.40   8.20 S Update\n",
      "NER      2025-07-25 2025-07-31   4.24   4.42   4.25%   9,808,156   4.42   4.22 S Update\n",
      "PTG      2025-07-31 2025-07-31   6.85   6.75  -1.46%   7,745,050   6.85   6.40 S Insert\n",
      "SENA     2025-07-24 2025-07-31   1.66   1.80   8.43%   1,131,740   1.80   1.65 B Update\n",
      "WHAIR    2025-07-30 2025-07-31   5.50   5.40  -1.82%  12,048,560   5.50   4.96 B Update\n",
      "WHART    2025-07-25 2025-07-31   9.35   9.10  -2.67%     952,616   9.45   9.10 B Update\n",
      "=======================================================================================\n"
     ]
    }
   ],
   "source": [
    "!ruby ruby\\\\daily-out-new.rb"
   ]
  },
  {
   "cell_type": "code",
   "execution_count": 53,
   "metadata": {},
   "outputs": [
    {
     "data": {
      "text/plain": [
       "'C:\\\\Users\\\\PC1\\\\OneDrive\\\\A5\\\\Daily'"
      ]
     },
     "execution_count": 53,
     "metadata": {},
     "output_type": "execute_result"
    }
   ],
   "source": [
    "os.chdir(current_path)\n",
    "%pwd"
   ]
  },
  {
   "cell_type": "markdown",
   "metadata": {},
   "source": [
    "\n",
    "\n",
    "### cd\\ruby\\port_lite\n",
    "\n",
    "\n",
    "### rails runner db/ins_sales.rb\n",
    "\n"
   ]
  },
  {
   "cell_type": "code",
   "execution_count": 55,
   "metadata": {
    "scrolled": true
   },
   "outputs": [
    {
     "name": "stdout",
     "output_type": "stream",
     "text": [
      "\n",
      "SELECT a.name,fm_date,to_date,fm_price,to_price,\n",
      "a.qty,a.max_price,a.min_price,t.status,t.market\n",
      "FROM sales a \n",
      "JOIN stocks t ON a.name = t.name \n",
      "WHERE to_date = '2025-07-31' AND t.status IN (\"B\",\"I\", \"O\", \"S\") \n",
      "ORDER BY t.status, a.name\n",
      "\n"
     ]
    }
   ],
   "source": [
    "sql = \"\"\"\n",
    "SELECT a.name,fm_date,to_date,fm_price,to_price,\n",
    "a.qty,a.max_price,a.min_price,t.status,t.market\n",
    "FROM sales a \n",
    "JOIN stocks t ON a.name = t.name \n",
    "WHERE to_date = '%s' AND t.status IN (\"B\",\"I\", \"O\", \"S\") \n",
    "ORDER BY t.status, a.name\n",
    "\"\"\"\n",
    "sql = sql % today\n",
    "print(sql)"
   ]
  },
  {
   "cell_type": "code",
   "execution_count": 57,
   "metadata": {},
   "outputs": [
    {
     "data": {
      "text/plain": [
       "(11, 10)"
      ]
     },
     "execution_count": 57,
     "metadata": {},
     "output_type": "execute_result"
    }
   ],
   "source": [
    "df = pd.read_sql(sql, conlite)\n",
    "df.shape"
   ]
  },
  {
   "cell_type": "code",
   "execution_count": 59,
   "metadata": {},
   "outputs": [
    {
     "data": {
      "text/html": [
       "<style type=\"text/css\">\n",
       "</style>\n",
       "<table id=\"T_2200e\">\n",
       "  <thead>\n",
       "    <tr>\n",
       "      <th class=\"blank level0\" >&nbsp;</th>\n",
       "      <th id=\"T_2200e_level0_col0\" class=\"col_heading level0 col0\" >name</th>\n",
       "      <th id=\"T_2200e_level0_col1\" class=\"col_heading level0 col1\" >fm_date</th>\n",
       "      <th id=\"T_2200e_level0_col2\" class=\"col_heading level0 col2\" >to_date</th>\n",
       "      <th id=\"T_2200e_level0_col3\" class=\"col_heading level0 col3\" >fm_price</th>\n",
       "      <th id=\"T_2200e_level0_col4\" class=\"col_heading level0 col4\" >to_price</th>\n",
       "      <th id=\"T_2200e_level0_col5\" class=\"col_heading level0 col5\" >qty</th>\n",
       "      <th id=\"T_2200e_level0_col6\" class=\"col_heading level0 col6\" >max_price</th>\n",
       "      <th id=\"T_2200e_level0_col7\" class=\"col_heading level0 col7\" >min_price</th>\n",
       "      <th id=\"T_2200e_level0_col8\" class=\"col_heading level0 col8\" >status</th>\n",
       "      <th id=\"T_2200e_level0_col9\" class=\"col_heading level0 col9\" >market</th>\n",
       "      <th id=\"T_2200e_level0_col10\" class=\"col_heading level0 col10\" >diff</th>\n",
       "      <th id=\"T_2200e_level0_col11\" class=\"col_heading level0 col11\" >percent</th>\n",
       "    </tr>\n",
       "  </thead>\n",
       "  <tbody>\n",
       "    <tr>\n",
       "      <th id=\"T_2200e_level0_row0\" class=\"row_heading level0 row0\" >0</th>\n",
       "      <td id=\"T_2200e_row0_col0\" class=\"data row0 col0\" >DIF</td>\n",
       "      <td id=\"T_2200e_row0_col1\" class=\"data row0 col1\" >2025-07-31</td>\n",
       "      <td id=\"T_2200e_row0_col2\" class=\"data row0 col2\" >2025-07-31</td>\n",
       "      <td id=\"T_2200e_row0_col3\" class=\"data row0 col3\" >8.20</td>\n",
       "      <td id=\"T_2200e_row0_col4\" class=\"data row0 col4\" >8.15</td>\n",
       "      <td id=\"T_2200e_row0_col5\" class=\"data row0 col5\" >60,009,200</td>\n",
       "      <td id=\"T_2200e_row0_col6\" class=\"data row0 col6\" >8.20</td>\n",
       "      <td id=\"T_2200e_row0_col7\" class=\"data row0 col7\" >8.10</td>\n",
       "      <td id=\"T_2200e_row0_col8\" class=\"data row0 col8\" >B</td>\n",
       "      <td id=\"T_2200e_row0_col9\" class=\"data row0 col9\" >SET</td>\n",
       "      <td id=\"T_2200e_row0_col10\" class=\"data row0 col10\" >-0.05</td>\n",
       "      <td id=\"T_2200e_row0_col11\" class=\"data row0 col11\" >-0.61%</td>\n",
       "    </tr>\n",
       "    <tr>\n",
       "      <th id=\"T_2200e_level0_row1\" class=\"row_heading level0 row1\" >1</th>\n",
       "      <td id=\"T_2200e_row1_col0\" class=\"data row1 col0\" >GVREIT</td>\n",
       "      <td id=\"T_2200e_row1_col1\" class=\"data row1 col1\" >2025-07-31</td>\n",
       "      <td id=\"T_2200e_row1_col2\" class=\"data row1 col2\" >2025-07-31</td>\n",
       "      <td id=\"T_2200e_row1_col3\" class=\"data row1 col3\" >6.50</td>\n",
       "      <td id=\"T_2200e_row1_col4\" class=\"data row1 col4\" >6.55</td>\n",
       "      <td id=\"T_2200e_row1_col5\" class=\"data row1 col5\" >728,440</td>\n",
       "      <td id=\"T_2200e_row1_col6\" class=\"data row1 col6\" >6.55</td>\n",
       "      <td id=\"T_2200e_row1_col7\" class=\"data row1 col7\" >6.50</td>\n",
       "      <td id=\"T_2200e_row1_col8\" class=\"data row1 col8\" >B</td>\n",
       "      <td id=\"T_2200e_row1_col9\" class=\"data row1 col9\" >SET</td>\n",
       "      <td id=\"T_2200e_row1_col10\" class=\"data row1 col10\" >0.05</td>\n",
       "      <td id=\"T_2200e_row1_col11\" class=\"data row1 col11\" >0.77%</td>\n",
       "    </tr>\n",
       "    <tr>\n",
       "      <th id=\"T_2200e_level0_row2\" class=\"row_heading level0 row2\" >2</th>\n",
       "      <td id=\"T_2200e_row2_col0\" class=\"data row2 col0\" >JMT</td>\n",
       "      <td id=\"T_2200e_row2_col1\" class=\"data row2 col1\" >2025-07-29</td>\n",
       "      <td id=\"T_2200e_row2_col2\" class=\"data row2 col2\" >2025-07-31</td>\n",
       "      <td id=\"T_2200e_row2_col3\" class=\"data row2 col3\" >10.50</td>\n",
       "      <td id=\"T_2200e_row2_col4\" class=\"data row2 col4\" >11.10</td>\n",
       "      <td id=\"T_2200e_row2_col5\" class=\"data row2 col5\" >110,349,300</td>\n",
       "      <td id=\"T_2200e_row2_col6\" class=\"data row2 col6\" >11.10</td>\n",
       "      <td id=\"T_2200e_row2_col7\" class=\"data row2 col7\" >10.40</td>\n",
       "      <td id=\"T_2200e_row2_col8\" class=\"data row2 col8\" >B</td>\n",
       "      <td id=\"T_2200e_row2_col9\" class=\"data row2 col9\" >SET50</td>\n",
       "      <td id=\"T_2200e_row2_col10\" class=\"data row2 col10\" >0.60</td>\n",
       "      <td id=\"T_2200e_row2_col11\" class=\"data row2 col11\" >5.71%</td>\n",
       "    </tr>\n",
       "    <tr>\n",
       "      <th id=\"T_2200e_level0_row3\" class=\"row_heading level0 row3\" >3</th>\n",
       "      <td id=\"T_2200e_row3_col0\" class=\"data row3 col0\" >SENA</td>\n",
       "      <td id=\"T_2200e_row3_col1\" class=\"data row3 col1\" >2025-07-24</td>\n",
       "      <td id=\"T_2200e_row3_col2\" class=\"data row3 col2\" >2025-07-31</td>\n",
       "      <td id=\"T_2200e_row3_col3\" class=\"data row3 col3\" >1.66</td>\n",
       "      <td id=\"T_2200e_row3_col4\" class=\"data row3 col4\" >1.80</td>\n",
       "      <td id=\"T_2200e_row3_col5\" class=\"data row3 col5\" >2,263,480</td>\n",
       "      <td id=\"T_2200e_row3_col6\" class=\"data row3 col6\" >1.80</td>\n",
       "      <td id=\"T_2200e_row3_col7\" class=\"data row3 col7\" >1.65</td>\n",
       "      <td id=\"T_2200e_row3_col8\" class=\"data row3 col8\" >B</td>\n",
       "      <td id=\"T_2200e_row3_col9\" class=\"data row3 col9\" >SET</td>\n",
       "      <td id=\"T_2200e_row3_col10\" class=\"data row3 col10\" >0.14</td>\n",
       "      <td id=\"T_2200e_row3_col11\" class=\"data row3 col11\" >8.43%</td>\n",
       "    </tr>\n",
       "    <tr>\n",
       "      <th id=\"T_2200e_level0_row4\" class=\"row_heading level0 row4\" >4</th>\n",
       "      <td id=\"T_2200e_row4_col0\" class=\"data row4 col0\" >WHAIR</td>\n",
       "      <td id=\"T_2200e_row4_col1\" class=\"data row4 col1\" >2025-07-30</td>\n",
       "      <td id=\"T_2200e_row4_col2\" class=\"data row4 col2\" >2025-07-31</td>\n",
       "      <td id=\"T_2200e_row4_col3\" class=\"data row4 col3\" >5.50</td>\n",
       "      <td id=\"T_2200e_row4_col4\" class=\"data row4 col4\" >5.40</td>\n",
       "      <td id=\"T_2200e_row4_col5\" class=\"data row4 col5\" >24,097,120</td>\n",
       "      <td id=\"T_2200e_row4_col6\" class=\"data row4 col6\" >5.50</td>\n",
       "      <td id=\"T_2200e_row4_col7\" class=\"data row4 col7\" >4.96</td>\n",
       "      <td id=\"T_2200e_row4_col8\" class=\"data row4 col8\" >B</td>\n",
       "      <td id=\"T_2200e_row4_col9\" class=\"data row4 col9\" >SET</td>\n",
       "      <td id=\"T_2200e_row4_col10\" class=\"data row4 col10\" >-0.10</td>\n",
       "      <td id=\"T_2200e_row4_col11\" class=\"data row4 col11\" >-1.82%</td>\n",
       "    </tr>\n",
       "    <tr>\n",
       "      <th id=\"T_2200e_level0_row5\" class=\"row_heading level0 row5\" >5</th>\n",
       "      <td id=\"T_2200e_row5_col0\" class=\"data row5 col0\" >WHART</td>\n",
       "      <td id=\"T_2200e_row5_col1\" class=\"data row5 col1\" >2025-07-25</td>\n",
       "      <td id=\"T_2200e_row5_col2\" class=\"data row5 col2\" >2025-07-31</td>\n",
       "      <td id=\"T_2200e_row5_col3\" class=\"data row5 col3\" >9.35</td>\n",
       "      <td id=\"T_2200e_row5_col4\" class=\"data row5 col4\" >9.10</td>\n",
       "      <td id=\"T_2200e_row5_col5\" class=\"data row5 col5\" >1,905,232</td>\n",
       "      <td id=\"T_2200e_row5_col6\" class=\"data row5 col6\" >9.45</td>\n",
       "      <td id=\"T_2200e_row5_col7\" class=\"data row5 col7\" >9.10</td>\n",
       "      <td id=\"T_2200e_row5_col8\" class=\"data row5 col8\" >B</td>\n",
       "      <td id=\"T_2200e_row5_col9\" class=\"data row5 col9\" >SET</td>\n",
       "      <td id=\"T_2200e_row5_col10\" class=\"data row5 col10\" >-0.25</td>\n",
       "      <td id=\"T_2200e_row5_col11\" class=\"data row5 col11\" >-2.67%</td>\n",
       "    </tr>\n",
       "    <tr>\n",
       "      <th id=\"T_2200e_level0_row6\" class=\"row_heading level0 row6\" >6</th>\n",
       "      <td id=\"T_2200e_row6_col0\" class=\"data row6 col0\" >AIMIRT</td>\n",
       "      <td id=\"T_2200e_row6_col1\" class=\"data row6 col1\" >2025-07-30</td>\n",
       "      <td id=\"T_2200e_row6_col2\" class=\"data row6 col2\" >2025-07-31</td>\n",
       "      <td id=\"T_2200e_row6_col3\" class=\"data row6 col3\" >9.55</td>\n",
       "      <td id=\"T_2200e_row6_col4\" class=\"data row6 col4\" >9.85</td>\n",
       "      <td id=\"T_2200e_row6_col5\" class=\"data row6 col5\" >814,692</td>\n",
       "      <td id=\"T_2200e_row6_col6\" class=\"data row6 col6\" >9.85</td>\n",
       "      <td id=\"T_2200e_row6_col7\" class=\"data row6 col7\" >9.55</td>\n",
       "      <td id=\"T_2200e_row6_col8\" class=\"data row6 col8\" >S</td>\n",
       "      <td id=\"T_2200e_row6_col9\" class=\"data row6 col9\" >SET</td>\n",
       "      <td id=\"T_2200e_row6_col10\" class=\"data row6 col10\" >0.30</td>\n",
       "      <td id=\"T_2200e_row6_col11\" class=\"data row6 col11\" >3.14%</td>\n",
       "    </tr>\n",
       "    <tr>\n",
       "      <th id=\"T_2200e_level0_row7\" class=\"row_heading level0 row7\" >7</th>\n",
       "      <td id=\"T_2200e_row7_col0\" class=\"data row7 col0\" >IVL</td>\n",
       "      <td id=\"T_2200e_row7_col1\" class=\"data row7 col1\" >2025-07-25</td>\n",
       "      <td id=\"T_2200e_row7_col2\" class=\"data row7 col2\" >2025-07-31</td>\n",
       "      <td id=\"T_2200e_row7_col3\" class=\"data row7 col3\" >21.30</td>\n",
       "      <td id=\"T_2200e_row7_col4\" class=\"data row7 col4\" >23.10</td>\n",
       "      <td id=\"T_2200e_row7_col5\" class=\"data row7 col5\" >53,782,168</td>\n",
       "      <td id=\"T_2200e_row7_col6\" class=\"data row7 col6\" >23.10</td>\n",
       "      <td id=\"T_2200e_row7_col7\" class=\"data row7 col7\" >21.10</td>\n",
       "      <td id=\"T_2200e_row7_col8\" class=\"data row7 col8\" >S</td>\n",
       "      <td id=\"T_2200e_row7_col9\" class=\"data row7 col9\" >SET50</td>\n",
       "      <td id=\"T_2200e_row7_col10\" class=\"data row7 col10\" >1.80</td>\n",
       "      <td id=\"T_2200e_row7_col11\" class=\"data row7 col11\" >8.45%</td>\n",
       "    </tr>\n",
       "    <tr>\n",
       "      <th id=\"T_2200e_level0_row8\" class=\"row_heading level0 row8\" >8</th>\n",
       "      <td id=\"T_2200e_row8_col0\" class=\"data row8 col0\" >MCS</td>\n",
       "      <td id=\"T_2200e_row8_col1\" class=\"data row8 col1\" >2025-07-30</td>\n",
       "      <td id=\"T_2200e_row8_col2\" class=\"data row8 col2\" >2025-07-31</td>\n",
       "      <td id=\"T_2200e_row8_col3\" class=\"data row8 col3\" >8.30</td>\n",
       "      <td id=\"T_2200e_row8_col4\" class=\"data row8 col4\" >8.40</td>\n",
       "      <td id=\"T_2200e_row8_col5\" class=\"data row8 col5\" >1,949,004</td>\n",
       "      <td id=\"T_2200e_row8_col6\" class=\"data row8 col6\" >8.40</td>\n",
       "      <td id=\"T_2200e_row8_col7\" class=\"data row8 col7\" >8.20</td>\n",
       "      <td id=\"T_2200e_row8_col8\" class=\"data row8 col8\" >S</td>\n",
       "      <td id=\"T_2200e_row8_col9\" class=\"data row8 col9\" >SET</td>\n",
       "      <td id=\"T_2200e_row8_col10\" class=\"data row8 col10\" >0.10</td>\n",
       "      <td id=\"T_2200e_row8_col11\" class=\"data row8 col11\" >1.20%</td>\n",
       "    </tr>\n",
       "    <tr>\n",
       "      <th id=\"T_2200e_level0_row9\" class=\"row_heading level0 row9\" >9</th>\n",
       "      <td id=\"T_2200e_row9_col0\" class=\"data row9 col0\" >NER</td>\n",
       "      <td id=\"T_2200e_row9_col1\" class=\"data row9 col1\" >2025-07-25</td>\n",
       "      <td id=\"T_2200e_row9_col2\" class=\"data row9 col2\" >2025-07-31</td>\n",
       "      <td id=\"T_2200e_row9_col3\" class=\"data row9 col3\" >4.24</td>\n",
       "      <td id=\"T_2200e_row9_col4\" class=\"data row9 col4\" >4.42</td>\n",
       "      <td id=\"T_2200e_row9_col5\" class=\"data row9 col5\" >19,616,312</td>\n",
       "      <td id=\"T_2200e_row9_col6\" class=\"data row9 col6\" >4.42</td>\n",
       "      <td id=\"T_2200e_row9_col7\" class=\"data row9 col7\" >4.22</td>\n",
       "      <td id=\"T_2200e_row9_col8\" class=\"data row9 col8\" >S</td>\n",
       "      <td id=\"T_2200e_row9_col9\" class=\"data row9 col9\" >SET</td>\n",
       "      <td id=\"T_2200e_row9_col10\" class=\"data row9 col10\" >0.18</td>\n",
       "      <td id=\"T_2200e_row9_col11\" class=\"data row9 col11\" >4.25%</td>\n",
       "    </tr>\n",
       "    <tr>\n",
       "      <th id=\"T_2200e_level0_row10\" class=\"row_heading level0 row10\" >10</th>\n",
       "      <td id=\"T_2200e_row10_col0\" class=\"data row10 col0\" >PTG</td>\n",
       "      <td id=\"T_2200e_row10_col1\" class=\"data row10 col1\" >2025-07-31</td>\n",
       "      <td id=\"T_2200e_row10_col2\" class=\"data row10 col2\" >2025-07-31</td>\n",
       "      <td id=\"T_2200e_row10_col3\" class=\"data row10 col3\" >6.85</td>\n",
       "      <td id=\"T_2200e_row10_col4\" class=\"data row10 col4\" >6.75</td>\n",
       "      <td id=\"T_2200e_row10_col5\" class=\"data row10 col5\" >7,745,050</td>\n",
       "      <td id=\"T_2200e_row10_col6\" class=\"data row10 col6\" >6.85</td>\n",
       "      <td id=\"T_2200e_row10_col7\" class=\"data row10 col7\" >6.40</td>\n",
       "      <td id=\"T_2200e_row10_col8\" class=\"data row10 col8\" >S</td>\n",
       "      <td id=\"T_2200e_row10_col9\" class=\"data row10 col9\" >SET100</td>\n",
       "      <td id=\"T_2200e_row10_col10\" class=\"data row10 col10\" >-0.10</td>\n",
       "      <td id=\"T_2200e_row10_col11\" class=\"data row10 col11\" >-1.46%</td>\n",
       "    </tr>\n",
       "  </tbody>\n",
       "</table>\n"
      ],
      "text/plain": [
       "<pandas.io.formats.style.Styler at 0x22aa99e66c0>"
      ]
     },
     "execution_count": 59,
     "metadata": {},
     "output_type": "execute_result"
    }
   ],
   "source": [
    "#df.set_index([\"name\"], inplace=True)\n",
    "df['fm_date'] = pd.to_datetime(df['fm_date'])\n",
    "df['to_date'] = pd.to_datetime(df['to_date'])\n",
    "df.eval('diff = to_price - fm_price',inplace=True)\n",
    "df['percent'] = round(df['diff']/df['fm_price']*100,2)\n",
    "df.style.format(format_dict)"
   ]
  },
  {
   "cell_type": "code",
   "execution_count": 61,
   "metadata": {},
   "outputs": [],
   "source": [
    "df_sort = df.sort_values(by=['percent'],ascending=[True]).copy()"
   ]
  },
  {
   "cell_type": "code",
   "execution_count": 63,
   "metadata": {},
   "outputs": [
    {
     "data": {
      "text/html": [
       "<style type=\"text/css\">\n",
       "</style>\n",
       "<table id=\"T_2e8fd\">\n",
       "  <thead>\n",
       "    <tr>\n",
       "      <th class=\"blank level0\" >&nbsp;</th>\n",
       "      <th id=\"T_2e8fd_level0_col0\" class=\"col_heading level0 col0\" >name</th>\n",
       "      <th id=\"T_2e8fd_level0_col1\" class=\"col_heading level0 col1\" >fm_date</th>\n",
       "      <th id=\"T_2e8fd_level0_col2\" class=\"col_heading level0 col2\" >to_date</th>\n",
       "      <th id=\"T_2e8fd_level0_col3\" class=\"col_heading level0 col3\" >fm_price</th>\n",
       "      <th id=\"T_2e8fd_level0_col4\" class=\"col_heading level0 col4\" >to_price</th>\n",
       "      <th id=\"T_2e8fd_level0_col5\" class=\"col_heading level0 col5\" >qty</th>\n",
       "      <th id=\"T_2e8fd_level0_col6\" class=\"col_heading level0 col6\" >max_price</th>\n",
       "      <th id=\"T_2e8fd_level0_col7\" class=\"col_heading level0 col7\" >min_price</th>\n",
       "      <th id=\"T_2e8fd_level0_col8\" class=\"col_heading level0 col8\" >status</th>\n",
       "      <th id=\"T_2e8fd_level0_col9\" class=\"col_heading level0 col9\" >market</th>\n",
       "      <th id=\"T_2e8fd_level0_col10\" class=\"col_heading level0 col10\" >diff</th>\n",
       "      <th id=\"T_2e8fd_level0_col11\" class=\"col_heading level0 col11\" >percent</th>\n",
       "    </tr>\n",
       "  </thead>\n",
       "  <tbody>\n",
       "  </tbody>\n",
       "</table>\n"
      ],
      "text/plain": [
       "<pandas.io.formats.style.Styler at 0x22aa9a5cc80>"
      ]
     },
     "execution_count": 63,
     "metadata": {},
     "output_type": "execute_result"
    }
   ],
   "source": [
    "df_sort.query('percent <= -5.00').style.format(format_dict)"
   ]
  },
  {
   "cell_type": "code",
   "execution_count": 65,
   "metadata": {},
   "outputs": [
    {
     "data": {
      "text/html": [
       "<style type=\"text/css\">\n",
       "</style>\n",
       "<table id=\"T_f0562\">\n",
       "  <thead>\n",
       "    <tr>\n",
       "      <th class=\"blank level0\" >&nbsp;</th>\n",
       "      <th id=\"T_f0562_level0_col0\" class=\"col_heading level0 col0\" >name</th>\n",
       "      <th id=\"T_f0562_level0_col1\" class=\"col_heading level0 col1\" >fm_date</th>\n",
       "      <th id=\"T_f0562_level0_col2\" class=\"col_heading level0 col2\" >to_date</th>\n",
       "      <th id=\"T_f0562_level0_col3\" class=\"col_heading level0 col3\" >fm_price</th>\n",
       "      <th id=\"T_f0562_level0_col4\" class=\"col_heading level0 col4\" >to_price</th>\n",
       "      <th id=\"T_f0562_level0_col5\" class=\"col_heading level0 col5\" >qty</th>\n",
       "      <th id=\"T_f0562_level0_col6\" class=\"col_heading level0 col6\" >max_price</th>\n",
       "      <th id=\"T_f0562_level0_col7\" class=\"col_heading level0 col7\" >min_price</th>\n",
       "      <th id=\"T_f0562_level0_col8\" class=\"col_heading level0 col8\" >status</th>\n",
       "      <th id=\"T_f0562_level0_col9\" class=\"col_heading level0 col9\" >market</th>\n",
       "      <th id=\"T_f0562_level0_col10\" class=\"col_heading level0 col10\" >diff</th>\n",
       "      <th id=\"T_f0562_level0_col11\" class=\"col_heading level0 col11\" >percent</th>\n",
       "    </tr>\n",
       "  </thead>\n",
       "  <tbody>\n",
       "    <tr>\n",
       "      <th id=\"T_f0562_level0_row0\" class=\"row_heading level0 row0\" >2</th>\n",
       "      <td id=\"T_f0562_row0_col0\" class=\"data row0 col0\" >JMT</td>\n",
       "      <td id=\"T_f0562_row0_col1\" class=\"data row0 col1\" >2025-07-29</td>\n",
       "      <td id=\"T_f0562_row0_col2\" class=\"data row0 col2\" >2025-07-31</td>\n",
       "      <td id=\"T_f0562_row0_col3\" class=\"data row0 col3\" >10.50</td>\n",
       "      <td id=\"T_f0562_row0_col4\" class=\"data row0 col4\" >11.10</td>\n",
       "      <td id=\"T_f0562_row0_col5\" class=\"data row0 col5\" >110,349,300</td>\n",
       "      <td id=\"T_f0562_row0_col6\" class=\"data row0 col6\" >11.10</td>\n",
       "      <td id=\"T_f0562_row0_col7\" class=\"data row0 col7\" >10.40</td>\n",
       "      <td id=\"T_f0562_row0_col8\" class=\"data row0 col8\" >B</td>\n",
       "      <td id=\"T_f0562_row0_col9\" class=\"data row0 col9\" >SET50</td>\n",
       "      <td id=\"T_f0562_row0_col10\" class=\"data row0 col10\" >0.60</td>\n",
       "      <td id=\"T_f0562_row0_col11\" class=\"data row0 col11\" >5.71%</td>\n",
       "    </tr>\n",
       "    <tr>\n",
       "      <th id=\"T_f0562_level0_row1\" class=\"row_heading level0 row1\" >3</th>\n",
       "      <td id=\"T_f0562_row1_col0\" class=\"data row1 col0\" >SENA</td>\n",
       "      <td id=\"T_f0562_row1_col1\" class=\"data row1 col1\" >2025-07-24</td>\n",
       "      <td id=\"T_f0562_row1_col2\" class=\"data row1 col2\" >2025-07-31</td>\n",
       "      <td id=\"T_f0562_row1_col3\" class=\"data row1 col3\" >1.66</td>\n",
       "      <td id=\"T_f0562_row1_col4\" class=\"data row1 col4\" >1.80</td>\n",
       "      <td id=\"T_f0562_row1_col5\" class=\"data row1 col5\" >2,263,480</td>\n",
       "      <td id=\"T_f0562_row1_col6\" class=\"data row1 col6\" >1.80</td>\n",
       "      <td id=\"T_f0562_row1_col7\" class=\"data row1 col7\" >1.65</td>\n",
       "      <td id=\"T_f0562_row1_col8\" class=\"data row1 col8\" >B</td>\n",
       "      <td id=\"T_f0562_row1_col9\" class=\"data row1 col9\" >SET</td>\n",
       "      <td id=\"T_f0562_row1_col10\" class=\"data row1 col10\" >0.14</td>\n",
       "      <td id=\"T_f0562_row1_col11\" class=\"data row1 col11\" >8.43%</td>\n",
       "    </tr>\n",
       "    <tr>\n",
       "      <th id=\"T_f0562_level0_row2\" class=\"row_heading level0 row2\" >7</th>\n",
       "      <td id=\"T_f0562_row2_col0\" class=\"data row2 col0\" >IVL</td>\n",
       "      <td id=\"T_f0562_row2_col1\" class=\"data row2 col1\" >2025-07-25</td>\n",
       "      <td id=\"T_f0562_row2_col2\" class=\"data row2 col2\" >2025-07-31</td>\n",
       "      <td id=\"T_f0562_row2_col3\" class=\"data row2 col3\" >21.30</td>\n",
       "      <td id=\"T_f0562_row2_col4\" class=\"data row2 col4\" >23.10</td>\n",
       "      <td id=\"T_f0562_row2_col5\" class=\"data row2 col5\" >53,782,168</td>\n",
       "      <td id=\"T_f0562_row2_col6\" class=\"data row2 col6\" >23.10</td>\n",
       "      <td id=\"T_f0562_row2_col7\" class=\"data row2 col7\" >21.10</td>\n",
       "      <td id=\"T_f0562_row2_col8\" class=\"data row2 col8\" >S</td>\n",
       "      <td id=\"T_f0562_row2_col9\" class=\"data row2 col9\" >SET50</td>\n",
       "      <td id=\"T_f0562_row2_col10\" class=\"data row2 col10\" >1.80</td>\n",
       "      <td id=\"T_f0562_row2_col11\" class=\"data row2 col11\" >8.45%</td>\n",
       "    </tr>\n",
       "  </tbody>\n",
       "</table>\n"
      ],
      "text/plain": [
       "<pandas.io.formats.style.Styler at 0x22aa9a77ec0>"
      ]
     },
     "execution_count": 65,
     "metadata": {},
     "output_type": "execute_result"
    }
   ],
   "source": [
    "df_sort.query('percent >= 5.00').style.format(format_dict)"
   ]
  },
  {
   "cell_type": "code",
   "execution_count": 67,
   "metadata": {},
   "outputs": [],
   "source": [
    "conlite.close()"
   ]
  },
  {
   "cell_type": "code",
   "execution_count": 69,
   "metadata": {},
   "outputs": [
    {
     "name": "stdout",
     "output_type": "stream",
     "text": [
      "2025-07-31 20:46:40\n"
     ]
    }
   ],
   "source": [
    "# Get the current time\n",
    "current_time = datetime.now()\n",
    "# Format the time to remove milliseconds\n",
    "formatted_time = current_time.strftime(\"%Y-%m-%d %H:%M:%S\")\n",
    "print(formatted_time)"
   ]
  },
  {
   "cell_type": "code",
   "execution_count": null,
   "metadata": {},
   "outputs": [],
   "source": []
  }
 ],
 "metadata": {
  "anaconda-cloud": {},
  "kernelspec": {
   "display_name": "Python 3 (ipykernel)",
   "language": "python",
   "name": "python3"
  },
  "language_info": {
   "codemirror_mode": {
    "name": "ipython",
    "version": 3
   },
   "file_extension": ".py",
   "mimetype": "text/x-python",
   "name": "python",
   "nbconvert_exporter": "python",
   "pygments_lexer": "ipython3",
   "version": "3.12.3"
  }
 },
 "nbformat": 4,
 "nbformat_minor": 4
}
