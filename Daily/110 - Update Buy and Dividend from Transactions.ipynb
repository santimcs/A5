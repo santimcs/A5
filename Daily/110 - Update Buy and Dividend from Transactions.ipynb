{
 "cells": [
  {
   "cell_type": "code",
   "execution_count": 1,
   "metadata": {},
   "outputs": [],
   "source": [
    "import os\n",
    "import pandas as pd\n",
    "from datetime import date, timedelta, datetime\n",
    "from sqlalchemy import create_engine, text\n",
    "from pandas.tseries.offsets import BDay\n",
    "\n",
    "engine = create_engine('mysql+pymysql://root:@localhost:3306/portfolio_development')\n",
    "conpf = engine.connect()\n",
    "engine = create_engine(\"mysql+pymysql://root:@localhost:3306/stock\")\n",
    "const = engine.connect()\n",
    "engine = create_engine(\"sqlite:///c:\\\\ruby\\\\port_lite\\\\db\\\\development.sqlite3\")\n",
    "conlite = engine.connect()"
   ]
  },
  {
   "cell_type": "code",
   "execution_count": 3,
   "metadata": {},
   "outputs": [
    {
     "name": "stdout",
     "output_type": "stream",
     "text": [
      "today: 2025-10-01\n",
      "yesterday: 2025-09-30\n"
     ]
    }
   ],
   "source": [
    "today = date.today()\n",
    "# convert the timedelta object to a BusinessDay object\n",
    "num_business_days = BDay(1)\n",
    "yesterday = today - num_business_days\n",
    "yesterday = yesterday.date()\n",
    "print(f'today: {today}')\n",
    "print(f'yesterday: {yesterday}')"
   ]
  },
  {
   "cell_type": "code",
   "execution_count": 5,
   "metadata": {},
   "outputs": [],
   "source": [
    "# Get the user's home directory\n",
    "user_path = os.path.expanduser('~')\n",
    "# Get the current working directory\n",
    "current_path = os.getcwd()\n",
    "# Derive the base directory (base_dir) by removing the last folder ('Daily')\n",
    "base_path = os.path.dirname(current_path)\n",
    "#C:\\Users\\PC1\\OneDrive\\A5\\Data\n",
    "dat_path = os.path.join(base_path, \"Data\")\n",
    "#C:\\Users\\PC1\\Downloads\\Datasets\n",
    "dts_path = os.path.join(user_path, \"Downloads\", \"Datasets\")\n",
    "#C:\\Users\\PC1\\OneDrive\\Imports\\santisoontarinka@gmail.com - Google Drive\\Data>\n",
    "god_path = os.path.join(user_path, \"OneDrive\",\"Imports\",\"santisoontarinka@gmail.com - Google Drive\",\"Data\")\n",
    "#C:\\Users\\PC1\\iCloudDrive\\data\n",
    "icd_path = os.path.join(user_path, \"iCloudDrive\", \"Data\")\n",
    "#C:\\Users\\PC1\\OneDrive\\Documents\\obsidian-git-sync\\Data\n",
    "osd_path = os.path.join(user_path, \"OneDrive\",\"Documents\",\"obsidian-git-sync\",\"Data\")\n",
    "#C:\\Users\\PC1\\OneDrive\\A5\\Excel\n",
    "xsl_path = os.path.join(base_path, \"Excel\")"
   ]
  },
  {
   "cell_type": "code",
   "execution_count": 7,
   "metadata": {},
   "outputs": [
    {
     "name": "stdout",
     "output_type": "stream",
     "text": [
      "User path: C:\\Users\\PC1\n",
      "Current path: C:\\Users\\PC1\\OneDrive\\A5\\Daily\n",
      "Base path: C:\\Users\\PC1\\OneDrive\\A5\n",
      "Data path (dat_path): C:\\Users\\PC1\\OneDrive\\A5\\Data\n",
      "Excel path (xsl_path): C:\\Users\\PC1\\OneDrive\\A5\\Excel\n",
      "Google Drive path (god_path): C:\\Users\\PC1\\OneDrive\\Imports\\santisoontarinka@gmail.com - Google Drive\\Data\n",
      "iCloudDrive path (icd_path): C:\\Users\\PC1\\iCloudDrive\\Data\n",
      "Obsidian path (osd_path): C:\\Users\\PC1\\OneDrive\\Documents\\obsidian-git-sync\\Data\n"
     ]
    }
   ],
   "source": [
    "print(\"User path:\", user_path)\n",
    "print(f\"Current path: {current_path}\")\n",
    "print(f\"Base path: {base_path}\")\n",
    "print(f\"Data path (dat_path): {dat_path}\") \n",
    "print(f\"Excel path (xsl_path): {xsl_path}\") \n",
    "print(f\"Google Drive path (god_path): {god_path}\")\n",
    "print(f\"iCloudDrive path (icd_path): {icd_path}\") \n",
    "print(f\"Obsidian path (osd_path): {osd_path}\") "
   ]
  },
  {
   "cell_type": "code",
   "execution_count": 9,
   "metadata": {},
   "outputs": [],
   "source": [
    "format_dict = {\n",
    "    'shares':'{:,}',    \n",
    "    'price':'{:.2f}',\n",
    "    'dividend':'{:.4f}', \n",
    "    'date':'{:%Y-%m-%d}', \n",
    "    \n",
    "    'qty':'{:,}','shares':'{:,}',\n",
    "    'price':'{:.2f}','buy_price':'{:.2f}',\n",
    "    'dividend':'{:.4f}',    \n",
    "    'fee':'{:,.2f}','vat':'{:,.2f}','net':'{:,.2f}',\n",
    "  \n",
    "    'days':'{:,}',\n",
    "    'price':'{:.2f}',\n",
    "    'fee':'{:,.2f}','vat':'{:,.2f}','net':'{:,.2f}','profit':'{:,.2f}',\n",
    "    'percent':'{:,.2f}%','yearly':'{:,.2f}%',   \n",
    "    \n",
    "    'shares':'{:,}',    \n",
    "    'q4':'{:.4f}','q3':'{:.4f}','q2':'{:.4f}','q1':'{:.4f}','dividend':'{:.4f}',\n",
    "    'xdate':'{:%Y-%m-%d}','paiddate':'{:%Y-%m-%d}',\n",
    "    \n",
    "    'qty':'{:,}','available_qty':'{:,}',\n",
    "    'cost':'{:.2f}','max_price':'{:.2f}','min_price':'{:.2f}','buy_target':'{:.2f}','sell_target':'{:.2f}',\n",
    "    'volume':'{:,.2f}','beta':'{:,.2f}',\n",
    "    \n",
    "    'qty':'{:,}','available_qty':'{:,}',\n",
    "    'cost':'{:.2f}','max_price':'{:.2f}','min_price':'{:.2f}','buy_target':'{:.2f}','sell_target':'{:.2f}',\n",
    "    'volume':'{:,.2f}','beta':'{:,.2f}',\n",
    "    }"
   ]
  },
  {
   "cell_type": "code",
   "execution_count": 11,
   "metadata": {},
   "outputs": [],
   "source": [
    "def show_buy(const, name):\n",
    "    sql = \"\"\"\n",
    "    SELECT * \n",
    "    FROM buy \n",
    "    WHERE name = '{}'\n",
    "    \"\"\".format(name)\n",
    "    \n",
    "    df_buy = pd.read_sql(sql, const)\n",
    "    df_buy.drop(['volsell', 'volbal','dividend'], axis=1, inplace=True)\n",
    "    df_buy.rename(columns={'volbuy':'shares'},inplace=True)\n",
    "    df_buy['shares'] = df_buy['shares'].astype('int64')\n",
    "    return df_buy.style.format(format_dict)"
   ]
  },
  {
   "cell_type": "code",
   "execution_count": 13,
   "metadata": {},
   "outputs": [],
   "source": [
    "def show_dividend(const, name):\n",
    "    sql = \"\"\"\n",
    "    SELECT * \n",
    "    FROM dividend \n",
    "    WHERE name = '{}'\n",
    "    \"\"\".format(name)\n",
    "    \n",
    "    df_dividend = pd.read_sql(sql, const)\n",
    "    df_dividend.drop(['PRICE', 'PERCENT'], axis=1, inplace=True)\n",
    "    df_dividend.columns = df_dividend.columns.str.lower()\n",
    "    df_dividend['shares'] = df_dividend['shares'].astype('int64')\n",
    "    df_dividend['xdate'] = pd.to_datetime(df_dividend['xdate'])\n",
    "    df_dividend['paiddate'] = pd.to_datetime(df_dividend['paiddate'])\n",
    "    return df_dividend.style.format(format_dict)"
   ]
  },
  {
   "cell_type": "code",
   "execution_count": 15,
   "metadata": {},
   "outputs": [],
   "source": [
    "def show_stocks(conlite, name):\n",
    "    sql = \"\"\"\n",
    "    SELECT * \n",
    "    FROM stocks \n",
    "    WHERE name = '{}'\n",
    "    \"\"\".format(name)\n",
    "    \n",
    "    df_stocks = pd.read_sql(sql, conlite)\n",
    "    \n",
    "    # Convert bytes columns to string with error handling\n",
    "    for col in df_stocks.columns:\n",
    "        if df_stocks[col].dtype == object and len(df_stocks) > 0:\n",
    "            # Check if first value is bytes\n",
    "            first_val = df_stocks[col].iloc[0] if len(df_stocks) > 0 else None\n",
    "            if isinstance(first_val, bytes):\n",
    "                df_stocks[col] = df_stocks[col].apply(\n",
    "                    lambda x: x.decode('utf-8', errors='replace') if isinstance(x, bytes) else x\n",
    "                )\n",
    "    \n",
    "    # Ensure numeric/date columns are correctly typed\n",
    "    if 'date' in df_stocks.columns:\n",
    "        df_stocks['date'] = pd.to_datetime(df_stocks['date'], errors='coerce')\n",
    "    \n",
    "    # Create a filtered format_dict based on column types\n",
    "    filtered_format_dict = {}\n",
    "    for col, fmt in format_dict.items():\n",
    "        if col in df_stocks.columns:\n",
    "            # Check if column is numeric for numeric formatting\n",
    "            if ('{' in fmt and ('}' in fmt and (',' in fmt or '.' in fmt or '%' in fmt))):\n",
    "                if pd.api.types.is_numeric_dtype(df_stocks[col]):\n",
    "                    filtered_format_dict[col] = fmt\n",
    "            # Check if column is datetime for date formatting\n",
    "            elif '{:%' in fmt:\n",
    "                if pd.api.types.is_datetime64_any_dtype(df_stocks[col]):\n",
    "                    filtered_format_dict[col] = fmt\n",
    "            # For simple string formatting without special characters\n",
    "            else:\n",
    "                filtered_format_dict[col] = fmt\n",
    "    \n",
    "    return df_stocks.style.format(filtered_format_dict)"
   ]
  },
  {
   "cell_type": "code",
   "execution_count": 17,
   "metadata": {},
   "outputs": [],
   "source": [
    "def update_buy(const, name, new_qty, new_price):\n",
    "    # Use parameterized query to avoid SQL injection\n",
    "    sqlUpd = text(\"\"\"\n",
    "        UPDATE buy\n",
    "        SET volbuy = :new_qty,\n",
    "        price = :new_price\n",
    "        WHERE name = :name\n",
    "    \"\"\")\n",
    "    \n",
    "    # Execute the query with parameters\n",
    "    result = const.execute(sqlUpd, {\n",
    "        'new_qty': new_qty,\n",
    "        'new_price': new_price,\n",
    "        'name': name\n",
    "    })\n",
    "\n",
    "    return f\"Records updated = {result.rowcount}\""
   ]
  },
  {
   "cell_type": "code",
   "execution_count": 19,
   "metadata": {},
   "outputs": [],
   "source": [
    "def update_dividend(const, name, new_qty):\n",
    "    # Use parameterized query to avoid SQL injection\n",
    "    sqlUpd = text(\"\"\"\n",
    "        UPDATE dividend\n",
    "        SET shares = :new_qty\n",
    "        WHERE name = :name\n",
    "    \"\"\")\n",
    "    \n",
    "    # Execute the query with parameters\n",
    "    result = const.execute(sqlUpd, {\n",
    "        'new_qty': new_qty,  # Use the scalar value\n",
    "        'name': name\n",
    "    })\n",
    "\n",
    "    return f\"Records updated = {result.rowcount}\""
   ]
  },
  {
   "cell_type": "code",
   "execution_count": 21,
   "metadata": {},
   "outputs": [],
   "source": [
    "def update_stock(conlite, name, new_qty, new_unit_cost, new_buy_target, new_sell_target, new_buy_qty):  \n",
    "    # Use parameterized query to avoid SQL injection\n",
    "    sqlUpd = text(\"\"\"\n",
    "        UPDATE stocks\n",
    "        SET available_qty = :new_qty, \n",
    "            cost = :new_unit_cost,\n",
    "            buy_target = :new_buy_target,\n",
    "            sell_target = :new_sell_target,    \n",
    "            qty = :new_buy_qty\n",
    "        WHERE name = :name\n",
    "    \"\"\")    \n",
    "    # Execute the query with parameters\n",
    "    result = conlite.execute(sqlUpd, {\n",
    "        'new_qty': new_qty,  # Use the scalar value\n",
    "        'new_unit_cost': new_unit_cost, # Use the scalar value \n",
    "        'new_buy_target': new_buy_target,\n",
    "        'new_sell_target': new_sell_target,     \n",
    "        'new_buy_qty': new_buy_qty,\n",
    "        'name': name\n",
    "    })\n",
    "    return f\"Records updated = {result.rowcount}\""
   ]
  },
  {
   "cell_type": "markdown",
   "metadata": {},
   "source": [
    "### End of Definition"
   ]
  },
  {
   "cell_type": "markdown",
   "metadata": {},
   "source": [
    "## Begin of  Buy transaction  "
   ]
  },
  {
   "cell_type": "code",
   "execution_count": 25,
   "metadata": {},
   "outputs": [
    {
     "data": {
      "text/html": [
       "<style type=\"text/css\">\n",
       "</style>\n",
       "<table id=\"T_32857\">\n",
       "  <thead>\n",
       "    <tr>\n",
       "      <th class=\"blank level0\" >&nbsp;</th>\n",
       "      <th id=\"T_32857_level0_col0\" class=\"col_heading level0 col0\" >name</th>\n",
       "      <th id=\"T_32857_level0_col1\" class=\"col_heading level0 col1\" >id</th>\n",
       "      <th id=\"T_32857_level0_col2\" class=\"col_heading level0 col2\" >stock_id</th>\n",
       "      <th id=\"T_32857_level0_col3\" class=\"col_heading level0 col3\" >date</th>\n",
       "      <th id=\"T_32857_level0_col4\" class=\"col_heading level0 col4\" >qty</th>\n",
       "      <th id=\"T_32857_level0_col5\" class=\"col_heading level0 col5\" >price</th>\n",
       "      <th id=\"T_32857_level0_col6\" class=\"col_heading level0 col6\" >fee</th>\n",
       "      <th id=\"T_32857_level0_col7\" class=\"col_heading level0 col7\" >vat</th>\n",
       "      <th id=\"T_32857_level0_col8\" class=\"col_heading level0 col8\" >status</th>\n",
       "      <th id=\"T_32857_level0_col9\" class=\"col_heading level0 col9\" >net</th>\n",
       "      <th id=\"T_32857_level0_col10\" class=\"col_heading level0 col10\" >kind</th>\n",
       "      <th id=\"T_32857_level0_col11\" class=\"col_heading level0 col11\" >chart</th>\n",
       "    </tr>\n",
       "  </thead>\n",
       "  <tbody>\n",
       "    <tr>\n",
       "      <th id=\"T_32857_level0_row0\" class=\"row_heading level0 row0\" >0</th>\n",
       "      <td id=\"T_32857_row0_col0\" class=\"data row0 col0\" >ORI</td>\n",
       "      <td id=\"T_32857_row0_col1\" class=\"data row0 col1\" >1350</td>\n",
       "      <td id=\"T_32857_row0_col2\" class=\"data row0 col2\" >125</td>\n",
       "      <td id=\"T_32857_row0_col3\" class=\"data row0 col3\" >2025-09-08</td>\n",
       "      <td id=\"T_32857_row0_col4\" class=\"data row0 col4\" >10,000</td>\n",
       "      <td id=\"T_32857_row0_col5\" class=\"data row0 col5\" >2.62</td>\n",
       "      <td id=\"T_32857_row0_col6\" class=\"data row0 col6\" >54.23</td>\n",
       "      <td id=\"T_32857_row0_col7\" class=\"data row0 col7\" >3.80</td>\n",
       "      <td id=\"T_32857_row0_col8\" class=\"data row0 col8\" >Sold</td>\n",
       "      <td id=\"T_32857_row0_col9\" class=\"data row0 col9\" >26,258.03</td>\n",
       "      <td id=\"T_32857_row0_col10\" class=\"data row0 col10\" >SHORT</td>\n",
       "      <td id=\"T_32857_row0_col11\" class=\"data row0 col11\" >None</td>\n",
       "    </tr>\n",
       "  </tbody>\n",
       "</table>\n"
      ],
      "text/plain": [
       "<pandas.io.formats.style.Styler at 0x1e89dc41130>"
      ]
     },
     "execution_count": 25,
     "metadata": {},
     "output_type": "execute_result"
    }
   ],
   "source": [
    "sql = \"\"\"\n",
    "SELECT name, B.* \n",
    "FROM buys B\n",
    "JOIN stocks T \n",
    "ON B.stock_id = T.id\n",
    "ORDER BY id DESC\n",
    "LIMIT 1\n",
    "\"\"\"\n",
    "df_buys_latest = pd.read_sql(sql, conpf)\n",
    "df_buys_latest.style.format(format_dict)"
   ]
  },
  {
   "cell_type": "code",
   "execution_count": 27,
   "metadata": {},
   "outputs": [
    {
     "name": "stdout",
     "output_type": "stream",
     "text": [
      "B ORI 10000 2.62\n"
     ]
    }
   ],
   "source": [
    "transaction = 'B'\n",
    "\n",
    "names = df_buys_latest['name']\n",
    "name = names.to_string(index=False)\n",
    "\n",
    "sr_qty = df_buys_latest['qty']\n",
    "qty = sr_qty.to_string(index=False)\n",
    "qty = int(qty)\n",
    "\n",
    "sr_price = df_buys_latest['price']\n",
    "buy_price = sr_price.to_string(index=False)\n",
    "buy_price = float(buy_price)\n",
    "\n",
    "print(transaction, name, qty, buy_price)"
   ]
  },
  {
   "cell_type": "markdown",
   "metadata": {},
   "source": [
    "### Begin of Update buy table in MySQL database from buy transaction"
   ]
  },
  {
   "cell_type": "code",
   "execution_count": 30,
   "metadata": {},
   "outputs": [
    {
     "data": {
      "text/html": [
       "<style type=\"text/css\">\n",
       "</style>\n",
       "<table id=\"T_409d0\">\n",
       "  <thead>\n",
       "    <tr>\n",
       "      <th class=\"blank level0\" >&nbsp;</th>\n",
       "      <th id=\"T_409d0_level0_col0\" class=\"col_heading level0 col0\" >name</th>\n",
       "      <th id=\"T_409d0_level0_col1\" class=\"col_heading level0 col1\" >date</th>\n",
       "      <th id=\"T_409d0_level0_col2\" class=\"col_heading level0 col2\" >shares</th>\n",
       "      <th id=\"T_409d0_level0_col3\" class=\"col_heading level0 col3\" >price</th>\n",
       "      <th id=\"T_409d0_level0_col4\" class=\"col_heading level0 col4\" >active</th>\n",
       "      <th id=\"T_409d0_level0_col5\" class=\"col_heading level0 col5\" >period</th>\n",
       "      <th id=\"T_409d0_level0_col6\" class=\"col_heading level0 col6\" >grade</th>\n",
       "    </tr>\n",
       "  </thead>\n",
       "  <tbody>\n",
       "    <tr>\n",
       "      <th id=\"T_409d0_level0_row0\" class=\"row_heading level0 row0\" >0</th>\n",
       "      <td id=\"T_409d0_row0_col0\" class=\"data row0 col0\" >ORI</td>\n",
       "      <td id=\"T_409d0_row0_col1\" class=\"data row0 col1\" >2022-04-07</td>\n",
       "      <td id=\"T_409d0_row0_col2\" class=\"data row0 col2\" >50,000</td>\n",
       "      <td id=\"T_409d0_row0_col3\" class=\"data row0 col3\" >9.00</td>\n",
       "      <td id=\"T_409d0_row0_col4\" class=\"data row0 col4\" >1</td>\n",
       "      <td id=\"T_409d0_row0_col5\" class=\"data row0 col5\" >4</td>\n",
       "      <td id=\"T_409d0_row0_col6\" class=\"data row0 col6\" >C2</td>\n",
       "    </tr>\n",
       "  </tbody>\n",
       "</table>\n"
      ],
      "text/plain": [
       "<pandas.io.formats.style.Styler at 0x1e89eb97830>"
      ]
     },
     "execution_count": 30,
     "metadata": {},
     "output_type": "execute_result"
    }
   ],
   "source": [
    "sql = \"\"\"\n",
    "    SELECT *\n",
    "    FROM buy \n",
    "    WHERE name = '{}'\n",
    "\"\"\".format(name)\n",
    "    \n",
    "df_buy = pd.read_sql(sql, const)\n",
    "df_buy.drop(['volsell', 'volbal','dividend'], axis=1, inplace=True)\n",
    "df_buy.rename(columns={'volbuy':'shares'},inplace=True)\n",
    "df_buy['shares'] = df_buy['shares'].astype('int64')\n",
    "df_buy.style.format(format_dict)"
   ]
  },
  {
   "cell_type": "markdown",
   "metadata": {},
   "source": [
    "### In case there is the same stock name in port"
   ]
  },
  {
   "cell_type": "code",
   "execution_count": 33,
   "metadata": {},
   "outputs": [
    {
     "data": {
      "text/html": [
       "<style type=\"text/css\">\n",
       "</style>\n",
       "<table id=\"T_2c62a\">\n",
       "  <thead>\n",
       "    <tr>\n",
       "      <th class=\"blank level0\" >&nbsp;</th>\n",
       "      <th id=\"T_2c62a_level0_col0\" class=\"col_heading level0 col0\" >name</th>\n",
       "      <th id=\"T_2c62a_level0_col1\" class=\"col_heading level0 col1\" >date</th>\n",
       "      <th id=\"T_2c62a_level0_col2\" class=\"col_heading level0 col2\" >shares</th>\n",
       "      <th id=\"T_2c62a_level0_col3\" class=\"col_heading level0 col3\" >price</th>\n",
       "      <th id=\"T_2c62a_level0_col4\" class=\"col_heading level0 col4\" >active</th>\n",
       "      <th id=\"T_2c62a_level0_col5\" class=\"col_heading level0 col5\" >period</th>\n",
       "      <th id=\"T_2c62a_level0_col6\" class=\"col_heading level0 col6\" >grade</th>\n",
       "    </tr>\n",
       "  </thead>\n",
       "  <tbody>\n",
       "    <tr>\n",
       "      <th id=\"T_2c62a_level0_row0\" class=\"row_heading level0 row0\" >0</th>\n",
       "      <td id=\"T_2c62a_row0_col0\" class=\"data row0 col0\" >ORI</td>\n",
       "      <td id=\"T_2c62a_row0_col1\" class=\"data row0 col1\" >2022-04-07</td>\n",
       "      <td id=\"T_2c62a_row0_col2\" class=\"data row0 col2\" >50,000</td>\n",
       "      <td id=\"T_2c62a_row0_col3\" class=\"data row0 col3\" >9.00</td>\n",
       "      <td id=\"T_2c62a_row0_col4\" class=\"data row0 col4\" >1</td>\n",
       "      <td id=\"T_2c62a_row0_col5\" class=\"data row0 col5\" >4</td>\n",
       "      <td id=\"T_2c62a_row0_col6\" class=\"data row0 col6\" >C2</td>\n",
       "    </tr>\n",
       "  </tbody>\n",
       "</table>\n"
      ],
      "text/plain": [
       "<pandas.io.formats.style.Styler at 0x1e89e69a150>"
      ]
     },
     "execution_count": 33,
     "metadata": {},
     "output_type": "execute_result"
    }
   ],
   "source": [
    "show_buy(const, name)"
   ]
  },
  {
   "cell_type": "code",
   "execution_count": 35,
   "metadata": {},
   "outputs": [
    {
     "name": "stdout",
     "output_type": "stream",
     "text": [
      "B ORI 60000 9.0\n"
     ]
    }
   ],
   "source": [
    "new_qty = int(df_buy['shares'].iloc[0] + qty)\n",
    "new_unit_cost = df_buy['price'].iloc[0] \n",
    "print(transaction, name, new_qty, new_unit_cost)"
   ]
  },
  {
   "cell_type": "code",
   "execution_count": 37,
   "metadata": {},
   "outputs": [
    {
     "data": {
      "text/plain": [
       "'Records updated = 1'"
      ]
     },
     "execution_count": 37,
     "metadata": {},
     "output_type": "execute_result"
    }
   ],
   "source": [
    "update_buy(const, name, new_qty, new_unit_cost)"
   ]
  },
  {
   "cell_type": "code",
   "execution_count": 39,
   "metadata": {},
   "outputs": [
    {
     "data": {
      "text/html": [
       "<style type=\"text/css\">\n",
       "</style>\n",
       "<table id=\"T_3b4ef\">\n",
       "  <thead>\n",
       "    <tr>\n",
       "      <th class=\"blank level0\" >&nbsp;</th>\n",
       "      <th id=\"T_3b4ef_level0_col0\" class=\"col_heading level0 col0\" >name</th>\n",
       "      <th id=\"T_3b4ef_level0_col1\" class=\"col_heading level0 col1\" >date</th>\n",
       "      <th id=\"T_3b4ef_level0_col2\" class=\"col_heading level0 col2\" >shares</th>\n",
       "      <th id=\"T_3b4ef_level0_col3\" class=\"col_heading level0 col3\" >price</th>\n",
       "      <th id=\"T_3b4ef_level0_col4\" class=\"col_heading level0 col4\" >active</th>\n",
       "      <th id=\"T_3b4ef_level0_col5\" class=\"col_heading level0 col5\" >period</th>\n",
       "      <th id=\"T_3b4ef_level0_col6\" class=\"col_heading level0 col6\" >grade</th>\n",
       "    </tr>\n",
       "  </thead>\n",
       "  <tbody>\n",
       "    <tr>\n",
       "      <th id=\"T_3b4ef_level0_row0\" class=\"row_heading level0 row0\" >0</th>\n",
       "      <td id=\"T_3b4ef_row0_col0\" class=\"data row0 col0\" >ORI</td>\n",
       "      <td id=\"T_3b4ef_row0_col1\" class=\"data row0 col1\" >2022-04-07</td>\n",
       "      <td id=\"T_3b4ef_row0_col2\" class=\"data row0 col2\" >60,000</td>\n",
       "      <td id=\"T_3b4ef_row0_col3\" class=\"data row0 col3\" >9.00</td>\n",
       "      <td id=\"T_3b4ef_row0_col4\" class=\"data row0 col4\" >1</td>\n",
       "      <td id=\"T_3b4ef_row0_col5\" class=\"data row0 col5\" >4</td>\n",
       "      <td id=\"T_3b4ef_row0_col6\" class=\"data row0 col6\" >C2</td>\n",
       "    </tr>\n",
       "  </tbody>\n",
       "</table>\n"
      ],
      "text/plain": [
       "<pandas.io.formats.style.Styler at 0x1e89ec5dcd0>"
      ]
     },
     "execution_count": 39,
     "metadata": {},
     "output_type": "execute_result"
    }
   ],
   "source": [
    "show_buy(const, name)"
   ]
  },
  {
   "cell_type": "markdown",
   "metadata": {},
   "source": [
    "### In case of totally new stock"
   ]
  },
  {
   "cell_type": "code",
   "execution_count": 24,
   "metadata": {},
   "outputs": [],
   "source": [
    "if df_buy.empty:\n",
    "    rcd = {\n",
    "        'name': 'CPF',\n",
    "        'date': '2025-08-21',\n",
    "        'volbuy': 4000,\n",
    "        'price': 24.1,\n",
    "        'volsell': 0,\n",
    "        'volbal': 0,\n",
    "        'active': 1,\n",
    "        'dividend': 0,\n",
    "        'period': 4,\n",
    "        'grade': 'A1'\n",
    "    }\n",
    "    sqlIns = text(\"\"\"\n",
    "    INSERT INTO buy (name, date, volbuy, price, volsell, volbal, active, dividend, period, grade)\n",
    "    VALUES (:name, :date, :volbuy, :price, :volsell, :volbal, :active, :dividend, :period, :grade)\n",
    "    \"\"\")\n",
    "    result = const.execute(sqlIns, rcd)\n",
    "    result.rowcount"
   ]
  },
  {
   "cell_type": "code",
   "execution_count": 25,
   "metadata": {},
   "outputs": [
    {
     "data": {
      "text/html": [
       "<style type=\"text/css\">\n",
       "</style>\n",
       "<table id=\"T_1224e\">\n",
       "  <thead>\n",
       "    <tr>\n",
       "      <th class=\"blank level0\" >&nbsp;</th>\n",
       "      <th id=\"T_1224e_level0_col0\" class=\"col_heading level0 col0\" >name</th>\n",
       "      <th id=\"T_1224e_level0_col1\" class=\"col_heading level0 col1\" >date</th>\n",
       "      <th id=\"T_1224e_level0_col2\" class=\"col_heading level0 col2\" >shares</th>\n",
       "      <th id=\"T_1224e_level0_col3\" class=\"col_heading level0 col3\" >price</th>\n",
       "      <th id=\"T_1224e_level0_col4\" class=\"col_heading level0 col4\" >active</th>\n",
       "      <th id=\"T_1224e_level0_col5\" class=\"col_heading level0 col5\" >period</th>\n",
       "      <th id=\"T_1224e_level0_col6\" class=\"col_heading level0 col6\" >grade</th>\n",
       "    </tr>\n",
       "  </thead>\n",
       "  <tbody>\n",
       "    <tr>\n",
       "      <th id=\"T_1224e_level0_row0\" class=\"row_heading level0 row0\" >0</th>\n",
       "      <td id=\"T_1224e_row0_col0\" class=\"data row0 col0\" >ORI</td>\n",
       "      <td id=\"T_1224e_row0_col1\" class=\"data row0 col1\" >2022-04-07</td>\n",
       "      <td id=\"T_1224e_row0_col2\" class=\"data row0 col2\" >55,000</td>\n",
       "      <td id=\"T_1224e_row0_col3\" class=\"data row0 col3\" >9.00</td>\n",
       "      <td id=\"T_1224e_row0_col4\" class=\"data row0 col4\" >1</td>\n",
       "      <td id=\"T_1224e_row0_col5\" class=\"data row0 col5\" >1</td>\n",
       "      <td id=\"T_1224e_row0_col6\" class=\"data row0 col6\" >C2</td>\n",
       "    </tr>\n",
       "  </tbody>\n",
       "</table>\n"
      ],
      "text/plain": [
       "<pandas.io.formats.style.Styler at 0x255bfa13950>"
      ]
     },
     "execution_count": 25,
     "metadata": {},
     "output_type": "execute_result"
    }
   ],
   "source": [
    "show_buy(const, name)"
   ]
  },
  {
   "cell_type": "markdown",
   "metadata": {},
   "source": [
    "### End of Update buy table in MySQL database from buy transaction"
   ]
  },
  {
   "cell_type": "markdown",
   "metadata": {},
   "source": [
    "### Begin of Update dividend table in MySQL stock database from buy transaction"
   ]
  },
  {
   "cell_type": "code",
   "execution_count": 41,
   "metadata": {},
   "outputs": [
    {
     "data": {
      "text/html": [
       "<style type=\"text/css\">\n",
       "</style>\n",
       "<table id=\"T_f44b8\">\n",
       "  <thead>\n",
       "    <tr>\n",
       "      <th class=\"blank level0\" >&nbsp;</th>\n",
       "      <th id=\"T_f44b8_level0_col0\" class=\"col_heading level0 col0\" >name</th>\n",
       "      <th id=\"T_f44b8_level0_col1\" class=\"col_heading level0 col1\" >q4</th>\n",
       "      <th id=\"T_f44b8_level0_col2\" class=\"col_heading level0 col2\" >q3</th>\n",
       "      <th id=\"T_f44b8_level0_col3\" class=\"col_heading level0 col3\" >q2</th>\n",
       "      <th id=\"T_f44b8_level0_col4\" class=\"col_heading level0 col4\" >q1</th>\n",
       "      <th id=\"T_f44b8_level0_col5\" class=\"col_heading level0 col5\" >dividend</th>\n",
       "      <th id=\"T_f44b8_level0_col6\" class=\"col_heading level0 col6\" >price</th>\n",
       "      <th id=\"T_f44b8_level0_col7\" class=\"col_heading level0 col7\" >percent</th>\n",
       "      <th id=\"T_f44b8_level0_col8\" class=\"col_heading level0 col8\" >shares</th>\n",
       "      <th id=\"T_f44b8_level0_col9\" class=\"col_heading level0 col9\" >xdate</th>\n",
       "      <th id=\"T_f44b8_level0_col10\" class=\"col_heading level0 col10\" >paiddate</th>\n",
       "      <th id=\"T_f44b8_level0_col11\" class=\"col_heading level0 col11\" >kind</th>\n",
       "      <th id=\"T_f44b8_level0_col12\" class=\"col_heading level0 col12\" >actual</th>\n",
       "    </tr>\n",
       "  </thead>\n",
       "  <tbody>\n",
       "    <tr>\n",
       "      <th id=\"T_f44b8_level0_row0\" class=\"row_heading level0 row0\" >0</th>\n",
       "      <td id=\"T_f44b8_row0_col0\" class=\"data row0 col0\" >ORI</td>\n",
       "      <td id=\"T_f44b8_row0_col1\" class=\"data row0 col1\" >0.0000</td>\n",
       "      <td id=\"T_f44b8_row0_col2\" class=\"data row0 col2\" >0.0210</td>\n",
       "      <td id=\"T_f44b8_row0_col3\" class=\"data row0 col3\" >0.0000</td>\n",
       "      <td id=\"T_f44b8_row0_col4\" class=\"data row0 col4\" >0.0000</td>\n",
       "      <td id=\"T_f44b8_row0_col5\" class=\"data row0 col5\" >0.0210</td>\n",
       "      <td id=\"T_f44b8_row0_col6\" class=\"data row0 col6\" >0.00</td>\n",
       "      <td id=\"T_f44b8_row0_col7\" class=\"data row0 col7\" >0.00%</td>\n",
       "      <td id=\"T_f44b8_row0_col8\" class=\"data row0 col8\" >50,000</td>\n",
       "      <td id=\"T_f44b8_row0_col9\" class=\"data row0 col9\" >2025-03-13</td>\n",
       "      <td id=\"T_f44b8_row0_col10\" class=\"data row0 col10\" >2025-05-23</td>\n",
       "      <td id=\"T_f44b8_row0_col11\" class=\"data row0 col11\" ></td>\n",
       "      <td id=\"T_f44b8_row0_col12\" class=\"data row0 col12\" >0</td>\n",
       "    </tr>\n",
       "  </tbody>\n",
       "</table>\n"
      ],
      "text/plain": [
       "<pandas.io.formats.style.Styler at 0x1e89eb94c50>"
      ]
     },
     "execution_count": 41,
     "metadata": {},
     "output_type": "execute_result"
    }
   ],
   "source": [
    "sql = \"\"\"\n",
    "    SELECT * \n",
    "    FROM dividend \n",
    "    WHERE name = '{}'\n",
    "\"\"\".format(name)\n",
    "    \n",
    "df_dividend = pd.read_sql(sql, const)\n",
    "df_dividend.columns = df_dividend.columns.str.lower()\n",
    "df_dividend['shares'] = df_dividend['shares'].astype('int64')\n",
    "\n",
    "df_dividend.style.format(format_dict)"
   ]
  },
  {
   "cell_type": "code",
   "execution_count": 43,
   "metadata": {},
   "outputs": [
    {
     "data": {
      "text/html": [
       "<style type=\"text/css\">\n",
       "</style>\n",
       "<table id=\"T_8805e\">\n",
       "  <thead>\n",
       "    <tr>\n",
       "      <th class=\"blank level0\" >&nbsp;</th>\n",
       "      <th id=\"T_8805e_level0_col0\" class=\"col_heading level0 col0\" >name</th>\n",
       "      <th id=\"T_8805e_level0_col1\" class=\"col_heading level0 col1\" >q4</th>\n",
       "      <th id=\"T_8805e_level0_col2\" class=\"col_heading level0 col2\" >q3</th>\n",
       "      <th id=\"T_8805e_level0_col3\" class=\"col_heading level0 col3\" >q2</th>\n",
       "      <th id=\"T_8805e_level0_col4\" class=\"col_heading level0 col4\" >q1</th>\n",
       "      <th id=\"T_8805e_level0_col5\" class=\"col_heading level0 col5\" >dividend</th>\n",
       "      <th id=\"T_8805e_level0_col6\" class=\"col_heading level0 col6\" >shares</th>\n",
       "      <th id=\"T_8805e_level0_col7\" class=\"col_heading level0 col7\" >xdate</th>\n",
       "      <th id=\"T_8805e_level0_col8\" class=\"col_heading level0 col8\" >paiddate</th>\n",
       "      <th id=\"T_8805e_level0_col9\" class=\"col_heading level0 col9\" >kind</th>\n",
       "      <th id=\"T_8805e_level0_col10\" class=\"col_heading level0 col10\" >actual</th>\n",
       "    </tr>\n",
       "  </thead>\n",
       "  <tbody>\n",
       "    <tr>\n",
       "      <th id=\"T_8805e_level0_row0\" class=\"row_heading level0 row0\" >0</th>\n",
       "      <td id=\"T_8805e_row0_col0\" class=\"data row0 col0\" >ORI</td>\n",
       "      <td id=\"T_8805e_row0_col1\" class=\"data row0 col1\" >0.0000</td>\n",
       "      <td id=\"T_8805e_row0_col2\" class=\"data row0 col2\" >0.0210</td>\n",
       "      <td id=\"T_8805e_row0_col3\" class=\"data row0 col3\" >0.0000</td>\n",
       "      <td id=\"T_8805e_row0_col4\" class=\"data row0 col4\" >0.0000</td>\n",
       "      <td id=\"T_8805e_row0_col5\" class=\"data row0 col5\" >0.0210</td>\n",
       "      <td id=\"T_8805e_row0_col6\" class=\"data row0 col6\" >50,000</td>\n",
       "      <td id=\"T_8805e_row0_col7\" class=\"data row0 col7\" >2025-03-13</td>\n",
       "      <td id=\"T_8805e_row0_col8\" class=\"data row0 col8\" >2025-05-23</td>\n",
       "      <td id=\"T_8805e_row0_col9\" class=\"data row0 col9\" ></td>\n",
       "      <td id=\"T_8805e_row0_col10\" class=\"data row0 col10\" >0</td>\n",
       "    </tr>\n",
       "  </tbody>\n",
       "</table>\n"
      ],
      "text/plain": [
       "<pandas.io.formats.style.Styler at 0x1e89eb169f0>"
      ]
     },
     "execution_count": 43,
     "metadata": {},
     "output_type": "execute_result"
    }
   ],
   "source": [
    "show_dividend(const, name)"
   ]
  },
  {
   "cell_type": "code",
   "execution_count": 45,
   "metadata": {},
   "outputs": [
    {
     "name": "stdout",
     "output_type": "stream",
     "text": [
      "ORI 60000\n"
     ]
    }
   ],
   "source": [
    "new_qty = df_dividend['shares'].iloc[0] + qty\n",
    "print(name, new_qty)"
   ]
  },
  {
   "cell_type": "code",
   "execution_count": 47,
   "metadata": {},
   "outputs": [
    {
     "data": {
      "text/plain": [
       "'Records updated = 1'"
      ]
     },
     "execution_count": 47,
     "metadata": {},
     "output_type": "execute_result"
    }
   ],
   "source": [
    "update_dividend(const, name, new_qty)"
   ]
  },
  {
   "cell_type": "code",
   "execution_count": 49,
   "metadata": {},
   "outputs": [
    {
     "data": {
      "text/html": [
       "<style type=\"text/css\">\n",
       "</style>\n",
       "<table id=\"T_93bbb\">\n",
       "  <thead>\n",
       "    <tr>\n",
       "      <th class=\"blank level0\" >&nbsp;</th>\n",
       "      <th id=\"T_93bbb_level0_col0\" class=\"col_heading level0 col0\" >name</th>\n",
       "      <th id=\"T_93bbb_level0_col1\" class=\"col_heading level0 col1\" >q4</th>\n",
       "      <th id=\"T_93bbb_level0_col2\" class=\"col_heading level0 col2\" >q3</th>\n",
       "      <th id=\"T_93bbb_level0_col3\" class=\"col_heading level0 col3\" >q2</th>\n",
       "      <th id=\"T_93bbb_level0_col4\" class=\"col_heading level0 col4\" >q1</th>\n",
       "      <th id=\"T_93bbb_level0_col5\" class=\"col_heading level0 col5\" >dividend</th>\n",
       "      <th id=\"T_93bbb_level0_col6\" class=\"col_heading level0 col6\" >shares</th>\n",
       "      <th id=\"T_93bbb_level0_col7\" class=\"col_heading level0 col7\" >xdate</th>\n",
       "      <th id=\"T_93bbb_level0_col8\" class=\"col_heading level0 col8\" >paiddate</th>\n",
       "      <th id=\"T_93bbb_level0_col9\" class=\"col_heading level0 col9\" >kind</th>\n",
       "      <th id=\"T_93bbb_level0_col10\" class=\"col_heading level0 col10\" >actual</th>\n",
       "    </tr>\n",
       "  </thead>\n",
       "  <tbody>\n",
       "    <tr>\n",
       "      <th id=\"T_93bbb_level0_row0\" class=\"row_heading level0 row0\" >0</th>\n",
       "      <td id=\"T_93bbb_row0_col0\" class=\"data row0 col0\" >ORI</td>\n",
       "      <td id=\"T_93bbb_row0_col1\" class=\"data row0 col1\" >0.0000</td>\n",
       "      <td id=\"T_93bbb_row0_col2\" class=\"data row0 col2\" >0.0210</td>\n",
       "      <td id=\"T_93bbb_row0_col3\" class=\"data row0 col3\" >0.0000</td>\n",
       "      <td id=\"T_93bbb_row0_col4\" class=\"data row0 col4\" >0.0000</td>\n",
       "      <td id=\"T_93bbb_row0_col5\" class=\"data row0 col5\" >0.0210</td>\n",
       "      <td id=\"T_93bbb_row0_col6\" class=\"data row0 col6\" >60,000</td>\n",
       "      <td id=\"T_93bbb_row0_col7\" class=\"data row0 col7\" >2025-03-13</td>\n",
       "      <td id=\"T_93bbb_row0_col8\" class=\"data row0 col8\" >2025-05-23</td>\n",
       "      <td id=\"T_93bbb_row0_col9\" class=\"data row0 col9\" ></td>\n",
       "      <td id=\"T_93bbb_row0_col10\" class=\"data row0 col10\" >0</td>\n",
       "    </tr>\n",
       "  </tbody>\n",
       "</table>\n"
      ],
      "text/plain": [
       "<pandas.io.formats.style.Styler at 0x1e89ec5e810>"
      ]
     },
     "execution_count": 49,
     "metadata": {},
     "output_type": "execute_result"
    }
   ],
   "source": [
    "show_dividend(const, name)"
   ]
  },
  {
   "cell_type": "markdown",
   "metadata": {},
   "source": [
    "### In case of totally new dividend"
   ]
  },
  {
   "cell_type": "code",
   "execution_count": 34,
   "metadata": {},
   "outputs": [],
   "source": [
    "if df_dividend.empty:\n",
    "    rcd = {\n",
    "        'name': 'CPF',\n",
    "        'q4': '0',\n",
    "        'q3': '0',\n",
    "        'q2': '1.00',\n",
    "        'q1': '0',    \n",
    "        'dividend': '1.00',      \n",
    "        'shares': 4000,\n",
    "        'xdate': '2025-08-29',\n",
    "        'paiddate': '2025-09-12',\n",
    "        'kind': ' ',\n",
    "        'actual': 1\n",
    "    }\n",
    "    sqlIns = text(\"\"\"\n",
    "    INSERT INTO dividend (name, q4, q3, q2, q1, dividend, shares, xdate, paiddate, kind, actual)\n",
    "    VALUES (:name, :q4, :q3, :q2, :q1, :dividend, :shares, :xdate, :paiddate, :kind, :actual)\n",
    "    \"\"\")\n",
    "    print(sqlIns)"
   ]
  },
  {
   "cell_type": "code",
   "execution_count": 35,
   "metadata": {},
   "outputs": [],
   "source": [
    "if df_dividend.empty:\n",
    "    result = const.execute(sqlIns, rcd)\n",
    "    result.rowcount"
   ]
  },
  {
   "cell_type": "code",
   "execution_count": 36,
   "metadata": {},
   "outputs": [
    {
     "data": {
      "text/html": [
       "<style type=\"text/css\">\n",
       "</style>\n",
       "<table id=\"T_02997\">\n",
       "  <thead>\n",
       "    <tr>\n",
       "      <th class=\"blank level0\" >&nbsp;</th>\n",
       "      <th id=\"T_02997_level0_col0\" class=\"col_heading level0 col0\" >name</th>\n",
       "      <th id=\"T_02997_level0_col1\" class=\"col_heading level0 col1\" >q4</th>\n",
       "      <th id=\"T_02997_level0_col2\" class=\"col_heading level0 col2\" >q3</th>\n",
       "      <th id=\"T_02997_level0_col3\" class=\"col_heading level0 col3\" >q2</th>\n",
       "      <th id=\"T_02997_level0_col4\" class=\"col_heading level0 col4\" >q1</th>\n",
       "      <th id=\"T_02997_level0_col5\" class=\"col_heading level0 col5\" >dividend</th>\n",
       "      <th id=\"T_02997_level0_col6\" class=\"col_heading level0 col6\" >shares</th>\n",
       "      <th id=\"T_02997_level0_col7\" class=\"col_heading level0 col7\" >xdate</th>\n",
       "      <th id=\"T_02997_level0_col8\" class=\"col_heading level0 col8\" >paiddate</th>\n",
       "      <th id=\"T_02997_level0_col9\" class=\"col_heading level0 col9\" >kind</th>\n",
       "      <th id=\"T_02997_level0_col10\" class=\"col_heading level0 col10\" >actual</th>\n",
       "    </tr>\n",
       "  </thead>\n",
       "  <tbody>\n",
       "    <tr>\n",
       "      <th id=\"T_02997_level0_row0\" class=\"row_heading level0 row0\" >0</th>\n",
       "      <td id=\"T_02997_row0_col0\" class=\"data row0 col0\" >ORI</td>\n",
       "      <td id=\"T_02997_row0_col1\" class=\"data row0 col1\" >0.0000</td>\n",
       "      <td id=\"T_02997_row0_col2\" class=\"data row0 col2\" >0.0210</td>\n",
       "      <td id=\"T_02997_row0_col3\" class=\"data row0 col3\" >0.0000</td>\n",
       "      <td id=\"T_02997_row0_col4\" class=\"data row0 col4\" >0.0000</td>\n",
       "      <td id=\"T_02997_row0_col5\" class=\"data row0 col5\" >0.0210</td>\n",
       "      <td id=\"T_02997_row0_col6\" class=\"data row0 col6\" >55,000</td>\n",
       "      <td id=\"T_02997_row0_col7\" class=\"data row0 col7\" >2025-03-13</td>\n",
       "      <td id=\"T_02997_row0_col8\" class=\"data row0 col8\" >2025-05-23</td>\n",
       "      <td id=\"T_02997_row0_col9\" class=\"data row0 col9\" ></td>\n",
       "      <td id=\"T_02997_row0_col10\" class=\"data row0 col10\" >0</td>\n",
       "    </tr>\n",
       "  </tbody>\n",
       "</table>\n"
      ],
      "text/plain": [
       "<pandas.io.formats.style.Styler at 0x255bf79a600>"
      ]
     },
     "execution_count": 36,
     "metadata": {},
     "output_type": "execute_result"
    }
   ],
   "source": [
    "show_dividend(const, name)"
   ]
  },
  {
   "cell_type": "markdown",
   "metadata": {},
   "source": [
    "### Begin of Update stocks table in SQLite port_lite database from buy transaction"
   ]
  },
  {
   "cell_type": "code",
   "execution_count": 59,
   "metadata": {},
   "outputs": [
    {
     "data": {
      "text/html": [
       "<div>\n",
       "<style scoped>\n",
       "    .dataframe tbody tr th:only-of-type {\n",
       "        vertical-align: middle;\n",
       "    }\n",
       "\n",
       "    .dataframe tbody tr th {\n",
       "        vertical-align: top;\n",
       "    }\n",
       "\n",
       "    .dataframe thead th {\n",
       "        text-align: right;\n",
       "    }\n",
       "</style>\n",
       "<table border=\"1\" class=\"dataframe\">\n",
       "  <thead>\n",
       "    <tr style=\"text-align: right;\">\n",
       "      <th></th>\n",
       "      <th>name</th>\n",
       "      <th>cost</th>\n",
       "      <th>available_qty</th>\n",
       "    </tr>\n",
       "  </thead>\n",
       "  <tbody>\n",
       "    <tr>\n",
       "      <th>0</th>\n",
       "      <td>ORI</td>\n",
       "      <td>9.0</td>\n",
       "      <td>50000</td>\n",
       "    </tr>\n",
       "  </tbody>\n",
       "</table>\n",
       "</div>"
      ],
      "text/plain": [
       "  name  cost  available_qty\n",
       "0  ORI   9.0          50000"
      ]
     },
     "execution_count": 59,
     "metadata": {},
     "output_type": "execute_result"
    }
   ],
   "source": [
    "sql = \"\"\"\n",
    "    SELECT name, cost, available_qty\n",
    "    FROM stocks\n",
    "    WHERE name = '{}'\n",
    "\"\"\".format(name)\n",
    "\n",
    "df_stocks = pd.read_sql(sql, conlite)\n",
    "df_stocks['available_qty'] = df_stocks['available_qty'].astype('int64')\n",
    "df_stocks"
   ]
  },
  {
   "cell_type": "code",
   "execution_count": 61,
   "metadata": {},
   "outputs": [
    {
     "data": {
      "text/html": [
       "<style type=\"text/css\">\n",
       "</style>\n",
       "<table id=\"T_de4e3\">\n",
       "  <thead>\n",
       "    <tr>\n",
       "      <th class=\"blank level0\" >&nbsp;</th>\n",
       "      <th id=\"T_de4e3_level0_col0\" class=\"col_heading level0 col0\" >id</th>\n",
       "      <th id=\"T_de4e3_level0_col1\" class=\"col_heading level0 col1\" >name</th>\n",
       "      <th id=\"T_de4e3_level0_col2\" class=\"col_heading level0 col2\" >max_price</th>\n",
       "      <th id=\"T_de4e3_level0_col3\" class=\"col_heading level0 col3\" >min_price</th>\n",
       "      <th id=\"T_de4e3_level0_col4\" class=\"col_heading level0 col4\" >status</th>\n",
       "      <th id=\"T_de4e3_level0_col5\" class=\"col_heading level0 col5\" >buy_target</th>\n",
       "      <th id=\"T_de4e3_level0_col6\" class=\"col_heading level0 col6\" >sell_target</th>\n",
       "      <th id=\"T_de4e3_level0_col7\" class=\"col_heading level0 col7\" >volume</th>\n",
       "      <th id=\"T_de4e3_level0_col8\" class=\"col_heading level0 col8\" >beta</th>\n",
       "      <th id=\"T_de4e3_level0_col9\" class=\"col_heading level0 col9\" >cost</th>\n",
       "      <th id=\"T_de4e3_level0_col10\" class=\"col_heading level0 col10\" >qty</th>\n",
       "      <th id=\"T_de4e3_level0_col11\" class=\"col_heading level0 col11\" >buy_spread</th>\n",
       "      <th id=\"T_de4e3_level0_col12\" class=\"col_heading level0 col12\" >sell_spread</th>\n",
       "      <th id=\"T_de4e3_level0_col13\" class=\"col_heading level0 col13\" >available_qty</th>\n",
       "      <th id=\"T_de4e3_level0_col14\" class=\"col_heading level0 col14\" >bl</th>\n",
       "      <th id=\"T_de4e3_level0_col15\" class=\"col_heading level0 col15\" >sh</th>\n",
       "      <th id=\"T_de4e3_level0_col16\" class=\"col_heading level0 col16\" >reason</th>\n",
       "      <th id=\"T_de4e3_level0_col17\" class=\"col_heading level0 col17\" >market</th>\n",
       "    </tr>\n",
       "  </thead>\n",
       "  <tbody>\n",
       "    <tr>\n",
       "      <th id=\"T_de4e3_level0_row0\" class=\"row_heading level0 row0\" >0</th>\n",
       "      <td id=\"T_de4e3_row0_col0\" class=\"data row0 col0\" >116</td>\n",
       "      <td id=\"T_de4e3_row0_col1\" class=\"data row0 col1\" >ORI</td>\n",
       "      <td id=\"T_de4e3_row0_col2\" class=\"data row0 col2\" >0.00</td>\n",
       "      <td id=\"T_de4e3_row0_col3\" class=\"data row0 col3\" >0.00</td>\n",
       "      <td id=\"T_de4e3_row0_col4\" class=\"data row0 col4\" >B</td>\n",
       "      <td id=\"T_de4e3_row0_col5\" class=\"data row0 col5\" >2.00</td>\n",
       "      <td id=\"T_de4e3_row0_col6\" class=\"data row0 col6\" >9.00</td>\n",
       "      <td id=\"T_de4e3_row0_col7\" class=\"data row0 col7\" >0.00</td>\n",
       "      <td id=\"T_de4e3_row0_col8\" class=\"data row0 col8\" >0.00</td>\n",
       "      <td id=\"T_de4e3_row0_col9\" class=\"data row0 col9\" >9.00</td>\n",
       "      <td id=\"T_de4e3_row0_col10\" class=\"data row0 col10\" >10,000</td>\n",
       "      <td id=\"T_de4e3_row0_col11\" class=\"data row0 col11\" >-4</td>\n",
       "      <td id=\"T_de4e3_row0_col12\" class=\"data row0 col12\" >4</td>\n",
       "      <td id=\"T_de4e3_row0_col13\" class=\"data row0 col13\" >50,000</td>\n",
       "      <td id=\"T_de4e3_row0_col14\" class=\"data row0 col14\" >0.000000</td>\n",
       "      <td id=\"T_de4e3_row0_col15\" class=\"data row0 col15\" >0.000000</td>\n",
       "      <td id=\"T_de4e3_row0_col16\" class=\"data row0 col16\" >RD70Pct</td>\n",
       "      <td id=\"T_de4e3_row0_col17\" class=\"data row0 col17\" >SET100</td>\n",
       "    </tr>\n",
       "  </tbody>\n",
       "</table>\n"
      ],
      "text/plain": [
       "<pandas.io.formats.style.Styler at 0x1e89ea4a030>"
      ]
     },
     "execution_count": 61,
     "metadata": {},
     "output_type": "execute_result"
    }
   ],
   "source": [
    "show_stocks(conlite, name)"
   ]
  },
  {
   "cell_type": "code",
   "execution_count": 63,
   "metadata": {},
   "outputs": [
    {
     "data": {
      "text/plain": [
       "60000"
      ]
     },
     "execution_count": 63,
     "metadata": {},
     "output_type": "execute_result"
    }
   ],
   "source": [
    "new_qty = int(df_stocks['available_qty'].iloc[0] + qty)\n",
    "new_qty"
   ]
  },
  {
   "cell_type": "code",
   "execution_count": 65,
   "metadata": {},
   "outputs": [
    {
     "data": {
      "text/plain": [
       "9.0"
      ]
     },
     "execution_count": 65,
     "metadata": {},
     "output_type": "execute_result"
    }
   ],
   "source": [
    "new_unit_cost = df_stocks['cost'].iloc[0]\n",
    "new_unit_cost"
   ]
  },
  {
   "cell_type": "code",
   "execution_count": 67,
   "metadata": {},
   "outputs": [
    {
     "name": "stdout",
     "output_type": "stream",
     "text": [
      "B ORI 60000 9.0 2.0 9.0 10000\n"
     ]
    }
   ],
   "source": [
    "new_buy_target = 2.00\n",
    "new_sell_target = 9.00\n",
    "new_buy_qty = 10_000\n",
    "print(transaction, name, new_qty, new_unit_cost, new_buy_target, new_sell_target, new_buy_qty)"
   ]
  },
  {
   "cell_type": "code",
   "execution_count": 69,
   "metadata": {},
   "outputs": [
    {
     "data": {
      "text/plain": [
       "'Records updated = 1'"
      ]
     },
     "execution_count": 69,
     "metadata": {},
     "output_type": "execute_result"
    }
   ],
   "source": [
    "update_stock(conlite, name, new_qty, new_unit_cost, new_buy_target, new_sell_target, new_buy_qty)"
   ]
  },
  {
   "cell_type": "code",
   "execution_count": 71,
   "metadata": {},
   "outputs": [
    {
     "data": {
      "text/html": [
       "<style type=\"text/css\">\n",
       "</style>\n",
       "<table id=\"T_3ad98\">\n",
       "  <thead>\n",
       "    <tr>\n",
       "      <th class=\"blank level0\" >&nbsp;</th>\n",
       "      <th id=\"T_3ad98_level0_col0\" class=\"col_heading level0 col0\" >id</th>\n",
       "      <th id=\"T_3ad98_level0_col1\" class=\"col_heading level0 col1\" >name</th>\n",
       "      <th id=\"T_3ad98_level0_col2\" class=\"col_heading level0 col2\" >max_price</th>\n",
       "      <th id=\"T_3ad98_level0_col3\" class=\"col_heading level0 col3\" >min_price</th>\n",
       "      <th id=\"T_3ad98_level0_col4\" class=\"col_heading level0 col4\" >status</th>\n",
       "      <th id=\"T_3ad98_level0_col5\" class=\"col_heading level0 col5\" >buy_target</th>\n",
       "      <th id=\"T_3ad98_level0_col6\" class=\"col_heading level0 col6\" >sell_target</th>\n",
       "      <th id=\"T_3ad98_level0_col7\" class=\"col_heading level0 col7\" >volume</th>\n",
       "      <th id=\"T_3ad98_level0_col8\" class=\"col_heading level0 col8\" >beta</th>\n",
       "      <th id=\"T_3ad98_level0_col9\" class=\"col_heading level0 col9\" >cost</th>\n",
       "      <th id=\"T_3ad98_level0_col10\" class=\"col_heading level0 col10\" >qty</th>\n",
       "      <th id=\"T_3ad98_level0_col11\" class=\"col_heading level0 col11\" >buy_spread</th>\n",
       "      <th id=\"T_3ad98_level0_col12\" class=\"col_heading level0 col12\" >sell_spread</th>\n",
       "      <th id=\"T_3ad98_level0_col13\" class=\"col_heading level0 col13\" >available_qty</th>\n",
       "      <th id=\"T_3ad98_level0_col14\" class=\"col_heading level0 col14\" >bl</th>\n",
       "      <th id=\"T_3ad98_level0_col15\" class=\"col_heading level0 col15\" >sh</th>\n",
       "      <th id=\"T_3ad98_level0_col16\" class=\"col_heading level0 col16\" >reason</th>\n",
       "      <th id=\"T_3ad98_level0_col17\" class=\"col_heading level0 col17\" >market</th>\n",
       "    </tr>\n",
       "  </thead>\n",
       "  <tbody>\n",
       "    <tr>\n",
       "      <th id=\"T_3ad98_level0_row0\" class=\"row_heading level0 row0\" >0</th>\n",
       "      <td id=\"T_3ad98_row0_col0\" class=\"data row0 col0\" >116</td>\n",
       "      <td id=\"T_3ad98_row0_col1\" class=\"data row0 col1\" >ORI</td>\n",
       "      <td id=\"T_3ad98_row0_col2\" class=\"data row0 col2\" >0.00</td>\n",
       "      <td id=\"T_3ad98_row0_col3\" class=\"data row0 col3\" >0.00</td>\n",
       "      <td id=\"T_3ad98_row0_col4\" class=\"data row0 col4\" >B</td>\n",
       "      <td id=\"T_3ad98_row0_col5\" class=\"data row0 col5\" >2.00</td>\n",
       "      <td id=\"T_3ad98_row0_col6\" class=\"data row0 col6\" >9.00</td>\n",
       "      <td id=\"T_3ad98_row0_col7\" class=\"data row0 col7\" >0.00</td>\n",
       "      <td id=\"T_3ad98_row0_col8\" class=\"data row0 col8\" >0.00</td>\n",
       "      <td id=\"T_3ad98_row0_col9\" class=\"data row0 col9\" >9.00</td>\n",
       "      <td id=\"T_3ad98_row0_col10\" class=\"data row0 col10\" >10,000</td>\n",
       "      <td id=\"T_3ad98_row0_col11\" class=\"data row0 col11\" >-4</td>\n",
       "      <td id=\"T_3ad98_row0_col12\" class=\"data row0 col12\" >4</td>\n",
       "      <td id=\"T_3ad98_row0_col13\" class=\"data row0 col13\" >60,000</td>\n",
       "      <td id=\"T_3ad98_row0_col14\" class=\"data row0 col14\" >0.000000</td>\n",
       "      <td id=\"T_3ad98_row0_col15\" class=\"data row0 col15\" >0.000000</td>\n",
       "      <td id=\"T_3ad98_row0_col16\" class=\"data row0 col16\" >RD70Pct</td>\n",
       "      <td id=\"T_3ad98_row0_col17\" class=\"data row0 col17\" >SET100</td>\n",
       "    </tr>\n",
       "  </tbody>\n",
       "</table>\n"
      ],
      "text/plain": [
       "<pandas.io.formats.style.Styler at 0x1e89ecc6bd0>"
      ]
     },
     "execution_count": 71,
     "metadata": {},
     "output_type": "execute_result"
    }
   ],
   "source": [
    "show_stocks(conlite, name)"
   ]
  },
  {
   "cell_type": "markdown",
   "metadata": {},
   "source": [
    "### End of Update stocks table in SQLite port_lite database from buy transaction"
   ]
  },
  {
   "cell_type": "markdown",
   "metadata": {},
   "source": [
    "## End of  Buy transaction"
   ]
  },
  {
   "cell_type": "markdown",
   "metadata": {},
   "source": [
    "## Begin of Sale transaction"
   ]
  },
  {
   "cell_type": "code",
   "execution_count": 73,
   "metadata": {},
   "outputs": [
    {
     "data": {
      "text/html": [
       "<style type=\"text/css\">\n",
       "</style>\n",
       "<table id=\"T_f96d5\">\n",
       "  <thead>\n",
       "    <tr>\n",
       "      <th class=\"blank level0\" >&nbsp;</th>\n",
       "      <th id=\"T_f96d5_level0_col0\" class=\"col_heading level0 col0\" >name</th>\n",
       "      <th id=\"T_f96d5_level0_col1\" class=\"col_heading level0 col1\" >stock_id</th>\n",
       "      <th id=\"T_f96d5_level0_col2\" class=\"col_heading level0 col2\" >buy_date</th>\n",
       "      <th id=\"T_f96d5_level0_col3\" class=\"col_heading level0 col3\" >qty</th>\n",
       "      <th id=\"T_f96d5_level0_col4\" class=\"col_heading level0 col4\" >buy_price</th>\n",
       "      <th id=\"T_f96d5_level0_col5\" class=\"col_heading level0 col5\" >id</th>\n",
       "      <th id=\"T_f96d5_level0_col6\" class=\"col_heading level0 col6\" >buy_id</th>\n",
       "      <th id=\"T_f96d5_level0_col7\" class=\"col_heading level0 col7\" >date</th>\n",
       "      <th id=\"T_f96d5_level0_col8\" class=\"col_heading level0 col8\" >price</th>\n",
       "      <th id=\"T_f96d5_level0_col9\" class=\"col_heading level0 col9\" >fee</th>\n",
       "      <th id=\"T_f96d5_level0_col10\" class=\"col_heading level0 col10\" >vat</th>\n",
       "      <th id=\"T_f96d5_level0_col11\" class=\"col_heading level0 col11\" >net</th>\n",
       "      <th id=\"T_f96d5_level0_col12\" class=\"col_heading level0 col12\" >days</th>\n",
       "      <th id=\"T_f96d5_level0_col13\" class=\"col_heading level0 col13\" >profit</th>\n",
       "      <th id=\"T_f96d5_level0_col14\" class=\"col_heading level0 col14\" >percent</th>\n",
       "      <th id=\"T_f96d5_level0_col15\" class=\"col_heading level0 col15\" >yearly</th>\n",
       "      <th id=\"T_f96d5_level0_col16\" class=\"col_heading level0 col16\" >sequence</th>\n",
       "      <th id=\"T_f96d5_level0_col17\" class=\"col_heading level0 col17\" >chart</th>\n",
       "      <th id=\"T_f96d5_level0_col18\" class=\"col_heading level0 col18\" >dividend_id</th>\n",
       "    </tr>\n",
       "  </thead>\n",
       "  <tbody>\n",
       "    <tr>\n",
       "      <th id=\"T_f96d5_level0_row0\" class=\"row_heading level0 row0\" >0</th>\n",
       "      <td id=\"T_f96d5_row0_col0\" class=\"data row0 col0\" >ORI</td>\n",
       "      <td id=\"T_f96d5_row0_col1\" class=\"data row0 col1\" >125</td>\n",
       "      <td id=\"T_f96d5_row0_col2\" class=\"data row0 col2\" >2025-09-08</td>\n",
       "      <td id=\"T_f96d5_row0_col3\" class=\"data row0 col3\" >10,000</td>\n",
       "      <td id=\"T_f96d5_row0_col4\" class=\"data row0 col4\" >2.62</td>\n",
       "      <td id=\"T_f96d5_row0_col5\" class=\"data row0 col5\" >1117</td>\n",
       "      <td id=\"T_f96d5_row0_col6\" class=\"data row0 col6\" >1350</td>\n",
       "      <td id=\"T_f96d5_row0_col7\" class=\"data row0 col7\" >2025-10-01</td>\n",
       "      <td id=\"T_f96d5_row0_col8\" class=\"data row0 col8\" >2.72</td>\n",
       "      <td id=\"T_f96d5_row0_col9\" class=\"data row0 col9\" >56.30</td>\n",
       "      <td id=\"T_f96d5_row0_col10\" class=\"data row0 col10\" >3.94</td>\n",
       "      <td id=\"T_f96d5_row0_col11\" class=\"data row0 col11\" >27,139.76</td>\n",
       "      <td id=\"T_f96d5_row0_col12\" class=\"data row0 col12\" >23</td>\n",
       "      <td id=\"T_f96d5_row0_col13\" class=\"data row0 col13\" >881.73</td>\n",
       "      <td id=\"T_f96d5_row0_col14\" class=\"data row0 col14\" >3.36%</td>\n",
       "      <td id=\"T_f96d5_row0_col15\" class=\"data row0 col15\" >53.29%</td>\n",
       "      <td id=\"T_f96d5_row0_col16\" class=\"data row0 col16\" >-117</td>\n",
       "      <td id=\"T_f96d5_row0_col17\" class=\"data row0 col17\" >None</td>\n",
       "      <td id=\"T_f96d5_row0_col18\" class=\"data row0 col18\" >0</td>\n",
       "    </tr>\n",
       "  </tbody>\n",
       "</table>\n"
      ],
      "text/plain": [
       "<pandas.io.formats.style.Styler at 0x1e89ec5fa10>"
      ]
     },
     "execution_count": 73,
     "metadata": {},
     "output_type": "execute_result"
    }
   ],
   "source": [
    "# Sells table in MySQL portfolio database\n",
    "sql = \"\"\"\n",
    "SELECT name, stock_id, B.date AS buy_date, qty, B.price AS buy_price, S.* \n",
    "FROM sells S\n",
    "JOIN buys B ON S.buy_id = B.id\n",
    "JOIN stocks T ON B.stock_id = T.id\n",
    "ORDER BY S.id DESC\n",
    "LIMIT 1\"\"\"\n",
    "df_sells_latest = pd.read_sql(sql, conpf)\n",
    "df_sells_latest.style.format(format_dict)"
   ]
  },
  {
   "cell_type": "markdown",
   "metadata": {},
   "source": [
    "### In case of sale, retreive buy id from sells record (buy_id)"
   ]
  },
  {
   "cell_type": "code",
   "execution_count": 76,
   "metadata": {},
   "outputs": [
    {
     "name": "stdout",
     "output_type": "stream",
     "text": [
      "ORI -10000 2.62 2.72\n"
     ]
    }
   ],
   "source": [
    "# Buys table in MySQL portfolio database\n",
    "transaction = 'S'\n",
    "\n",
    "names = df_sells_latest['name']\n",
    "name = names.to_string(index=False)\n",
    "\n",
    "sr_qty = df_sells_latest['qty']\n",
    "qty = sr_qty.to_string(index=False)\n",
    "qty = int(qty) * -1\n",
    "\n",
    "sr_price = df_sells_latest['buy_price']\n",
    "buy_price = sr_price.to_string(index=False)\n",
    "buy_price = float(buy_price)\n",
    "\n",
    "sr_price = df_sells_latest['price']\n",
    "sell_price = sr_price.to_string(index=False)\n",
    "sell_price = float(sell_price)\n",
    "\n",
    "buy_ids = df_sells_latest['buy_id']\n",
    "buy_id = buy_ids.to_string(index=False)\n",
    "print(name, qty, buy_price, sell_price)"
   ]
  },
  {
   "cell_type": "markdown",
   "metadata": {},
   "source": [
    "### Begin of Update buy table in MySQL stock database from sale transaction"
   ]
  },
  {
   "cell_type": "code",
   "execution_count": 79,
   "metadata": {},
   "outputs": [
    {
     "data": {
      "text/html": [
       "<style type=\"text/css\">\n",
       "</style>\n",
       "<table id=\"T_60a7f\">\n",
       "  <thead>\n",
       "    <tr>\n",
       "      <th class=\"blank level0\" >&nbsp;</th>\n",
       "      <th id=\"T_60a7f_level0_col0\" class=\"col_heading level0 col0\" >name</th>\n",
       "      <th id=\"T_60a7f_level0_col1\" class=\"col_heading level0 col1\" >date</th>\n",
       "      <th id=\"T_60a7f_level0_col2\" class=\"col_heading level0 col2\" >shares</th>\n",
       "      <th id=\"T_60a7f_level0_col3\" class=\"col_heading level0 col3\" >price</th>\n",
       "      <th id=\"T_60a7f_level0_col4\" class=\"col_heading level0 col4\" >active</th>\n",
       "      <th id=\"T_60a7f_level0_col5\" class=\"col_heading level0 col5\" >period</th>\n",
       "      <th id=\"T_60a7f_level0_col6\" class=\"col_heading level0 col6\" >grade</th>\n",
       "    </tr>\n",
       "  </thead>\n",
       "  <tbody>\n",
       "    <tr>\n",
       "      <th id=\"T_60a7f_level0_row0\" class=\"row_heading level0 row0\" >0</th>\n",
       "      <td id=\"T_60a7f_row0_col0\" class=\"data row0 col0\" >ORI</td>\n",
       "      <td id=\"T_60a7f_row0_col1\" class=\"data row0 col1\" >2022-04-07</td>\n",
       "      <td id=\"T_60a7f_row0_col2\" class=\"data row0 col2\" >60,000</td>\n",
       "      <td id=\"T_60a7f_row0_col3\" class=\"data row0 col3\" >9.00</td>\n",
       "      <td id=\"T_60a7f_row0_col4\" class=\"data row0 col4\" >1</td>\n",
       "      <td id=\"T_60a7f_row0_col5\" class=\"data row0 col5\" >4</td>\n",
       "      <td id=\"T_60a7f_row0_col6\" class=\"data row0 col6\" >C2</td>\n",
       "    </tr>\n",
       "  </tbody>\n",
       "</table>\n"
      ],
      "text/plain": [
       "<pandas.io.formats.style.Styler at 0x1e89ecc7fe0>"
      ]
     },
     "execution_count": 79,
     "metadata": {},
     "output_type": "execute_result"
    }
   ],
   "source": [
    "sql = \"\"\"\n",
    "    SELECT *\n",
    "    FROM buy \n",
    "    WHERE name = '{}'\n",
    "\"\"\".format(name)\n",
    "    \n",
    "df_buy = pd.read_sql(sql, const)\n",
    "df_buy.drop(['volsell', 'volbal','dividend'], axis=1, inplace=True)\n",
    "df_buy.rename(columns={'volbuy':'shares'},inplace=True)\n",
    "df_buy['shares'] = df_buy['shares'].astype('int64')\n",
    "df_buy.style.format(format_dict)"
   ]
  },
  {
   "cell_type": "code",
   "execution_count": 81,
   "metadata": {},
   "outputs": [
    {
     "data": {
      "text/plain": [
       "(60000, 9.0)"
      ]
     },
     "execution_count": 81,
     "metadata": {},
     "output_type": "execute_result"
    }
   ],
   "source": [
    "old_qty = int(df_buy['shares'].iloc[0])\n",
    "old_price = df_buy['price'].iloc[0]\n",
    "old_qty, old_price "
   ]
  },
  {
   "cell_type": "code",
   "execution_count": 83,
   "metadata": {},
   "outputs": [
    {
     "name": "stdout",
     "output_type": "stream",
     "text": [
      "ORI 540000.0 -27200.000000000004 512800.0 50000 9.0\n"
     ]
    }
   ],
   "source": [
    "old_cost_amt = old_qty * old_price\n",
    "sales_amt = qty * sell_price\n",
    "new_qty = old_qty + qty\n",
    "new_cost_amt = old_cost_amt + sales_amt\n",
    "#new_unit_cost = new_cost_amt / new_qty\n",
    "new_unit_cost = old_price\n",
    "print(name, old_cost_amt, sales_amt, new_cost_amt, new_qty, new_unit_cost)"
   ]
  },
  {
   "cell_type": "code",
   "execution_count": 85,
   "metadata": {},
   "outputs": [
    {
     "data": {
      "text/html": [
       "<style type=\"text/css\">\n",
       "</style>\n",
       "<table id=\"T_78414\">\n",
       "  <thead>\n",
       "    <tr>\n",
       "      <th class=\"blank level0\" >&nbsp;</th>\n",
       "      <th id=\"T_78414_level0_col0\" class=\"col_heading level0 col0\" >name</th>\n",
       "      <th id=\"T_78414_level0_col1\" class=\"col_heading level0 col1\" >date</th>\n",
       "      <th id=\"T_78414_level0_col2\" class=\"col_heading level0 col2\" >shares</th>\n",
       "      <th id=\"T_78414_level0_col3\" class=\"col_heading level0 col3\" >price</th>\n",
       "      <th id=\"T_78414_level0_col4\" class=\"col_heading level0 col4\" >active</th>\n",
       "      <th id=\"T_78414_level0_col5\" class=\"col_heading level0 col5\" >period</th>\n",
       "      <th id=\"T_78414_level0_col6\" class=\"col_heading level0 col6\" >grade</th>\n",
       "    </tr>\n",
       "  </thead>\n",
       "  <tbody>\n",
       "    <tr>\n",
       "      <th id=\"T_78414_level0_row0\" class=\"row_heading level0 row0\" >0</th>\n",
       "      <td id=\"T_78414_row0_col0\" class=\"data row0 col0\" >ORI</td>\n",
       "      <td id=\"T_78414_row0_col1\" class=\"data row0 col1\" >2022-04-07</td>\n",
       "      <td id=\"T_78414_row0_col2\" class=\"data row0 col2\" >60,000</td>\n",
       "      <td id=\"T_78414_row0_col3\" class=\"data row0 col3\" >9.00</td>\n",
       "      <td id=\"T_78414_row0_col4\" class=\"data row0 col4\" >1</td>\n",
       "      <td id=\"T_78414_row0_col5\" class=\"data row0 col5\" >4</td>\n",
       "      <td id=\"T_78414_row0_col6\" class=\"data row0 col6\" >C2</td>\n",
       "    </tr>\n",
       "  </tbody>\n",
       "</table>\n"
      ],
      "text/plain": [
       "<pandas.io.formats.style.Styler at 0x1e89ecc73e0>"
      ]
     },
     "execution_count": 85,
     "metadata": {},
     "output_type": "execute_result"
    }
   ],
   "source": [
    "show_buy(const, name)"
   ]
  },
  {
   "cell_type": "code",
   "execution_count": 87,
   "metadata": {},
   "outputs": [
    {
     "name": "stdout",
     "output_type": "stream",
     "text": [
      "S ORI 50000 9.0\n"
     ]
    }
   ],
   "source": [
    "print(transaction, name, new_qty, new_unit_cost)"
   ]
  },
  {
   "cell_type": "code",
   "execution_count": 89,
   "metadata": {},
   "outputs": [
    {
     "data": {
      "text/plain": [
       "'Records updated = 1'"
      ]
     },
     "execution_count": 89,
     "metadata": {},
     "output_type": "execute_result"
    }
   ],
   "source": [
    "update_buy(const, name, new_qty, new_unit_cost)"
   ]
  },
  {
   "cell_type": "code",
   "execution_count": 91,
   "metadata": {},
   "outputs": [
    {
     "data": {
      "text/html": [
       "<style type=\"text/css\">\n",
       "</style>\n",
       "<table id=\"T_aa1e2\">\n",
       "  <thead>\n",
       "    <tr>\n",
       "      <th class=\"blank level0\" >&nbsp;</th>\n",
       "      <th id=\"T_aa1e2_level0_col0\" class=\"col_heading level0 col0\" >name</th>\n",
       "      <th id=\"T_aa1e2_level0_col1\" class=\"col_heading level0 col1\" >date</th>\n",
       "      <th id=\"T_aa1e2_level0_col2\" class=\"col_heading level0 col2\" >shares</th>\n",
       "      <th id=\"T_aa1e2_level0_col3\" class=\"col_heading level0 col3\" >price</th>\n",
       "      <th id=\"T_aa1e2_level0_col4\" class=\"col_heading level0 col4\" >active</th>\n",
       "      <th id=\"T_aa1e2_level0_col5\" class=\"col_heading level0 col5\" >period</th>\n",
       "      <th id=\"T_aa1e2_level0_col6\" class=\"col_heading level0 col6\" >grade</th>\n",
       "    </tr>\n",
       "  </thead>\n",
       "  <tbody>\n",
       "    <tr>\n",
       "      <th id=\"T_aa1e2_level0_row0\" class=\"row_heading level0 row0\" >0</th>\n",
       "      <td id=\"T_aa1e2_row0_col0\" class=\"data row0 col0\" >ORI</td>\n",
       "      <td id=\"T_aa1e2_row0_col1\" class=\"data row0 col1\" >2022-04-07</td>\n",
       "      <td id=\"T_aa1e2_row0_col2\" class=\"data row0 col2\" >50,000</td>\n",
       "      <td id=\"T_aa1e2_row0_col3\" class=\"data row0 col3\" >9.00</td>\n",
       "      <td id=\"T_aa1e2_row0_col4\" class=\"data row0 col4\" >1</td>\n",
       "      <td id=\"T_aa1e2_row0_col5\" class=\"data row0 col5\" >4</td>\n",
       "      <td id=\"T_aa1e2_row0_col6\" class=\"data row0 col6\" >C2</td>\n",
       "    </tr>\n",
       "  </tbody>\n",
       "</table>\n"
      ],
      "text/plain": [
       "<pandas.io.formats.style.Styler at 0x1e89eca0170>"
      ]
     },
     "execution_count": 91,
     "metadata": {},
     "output_type": "execute_result"
    }
   ],
   "source": [
    "show_buy(const, name)"
   ]
  },
  {
   "cell_type": "code",
   "execution_count": 59,
   "metadata": {},
   "outputs": [
    {
     "name": "stdout",
     "output_type": "stream",
     "text": [
      "Records deleted: 0\n"
     ]
    }
   ],
   "source": [
    "# Define the SQL query\n",
    "sqlDel = text(\"\"\"\n",
    "    DELETE FROM buy\n",
    "    WHERE name = :name AND volbuy = 0 AND active = 0;\n",
    "\"\"\")\n",
    "\n",
    "# Execute the query with the correct parameter dictionary\n",
    "result = const.execute(sqlDel, {'name': name})\n",
    "\n",
    "# Print the number of rows deleted\n",
    "print(f\"Records deleted: {result.rowcount}\")  "
   ]
  },
  {
   "cell_type": "markdown",
   "metadata": {},
   "source": [
    "### End of Update buy table in MySQL stock database from sale transaction"
   ]
  },
  {
   "cell_type": "markdown",
   "metadata": {},
   "source": [
    "### Begin of Update dividend table in MySQL stock database from sale transaction"
   ]
  },
  {
   "cell_type": "code",
   "execution_count": 93,
   "metadata": {},
   "outputs": [
    {
     "data": {
      "text/html": [
       "<style type=\"text/css\">\n",
       "</style>\n",
       "<table id=\"T_16fe6\">\n",
       "  <thead>\n",
       "    <tr>\n",
       "      <th class=\"blank level0\" >&nbsp;</th>\n",
       "      <th id=\"T_16fe6_level0_col0\" class=\"col_heading level0 col0\" >name</th>\n",
       "      <th id=\"T_16fe6_level0_col1\" class=\"col_heading level0 col1\" >q4</th>\n",
       "      <th id=\"T_16fe6_level0_col2\" class=\"col_heading level0 col2\" >q3</th>\n",
       "      <th id=\"T_16fe6_level0_col3\" class=\"col_heading level0 col3\" >q2</th>\n",
       "      <th id=\"T_16fe6_level0_col4\" class=\"col_heading level0 col4\" >q1</th>\n",
       "      <th id=\"T_16fe6_level0_col5\" class=\"col_heading level0 col5\" >dividend</th>\n",
       "      <th id=\"T_16fe6_level0_col6\" class=\"col_heading level0 col6\" >price</th>\n",
       "      <th id=\"T_16fe6_level0_col7\" class=\"col_heading level0 col7\" >percent</th>\n",
       "      <th id=\"T_16fe6_level0_col8\" class=\"col_heading level0 col8\" >shares</th>\n",
       "      <th id=\"T_16fe6_level0_col9\" class=\"col_heading level0 col9\" >xdate</th>\n",
       "      <th id=\"T_16fe6_level0_col10\" class=\"col_heading level0 col10\" >paiddate</th>\n",
       "      <th id=\"T_16fe6_level0_col11\" class=\"col_heading level0 col11\" >kind</th>\n",
       "      <th id=\"T_16fe6_level0_col12\" class=\"col_heading level0 col12\" >actual</th>\n",
       "    </tr>\n",
       "  </thead>\n",
       "  <tbody>\n",
       "    <tr>\n",
       "      <th id=\"T_16fe6_level0_row0\" class=\"row_heading level0 row0\" >0</th>\n",
       "      <td id=\"T_16fe6_row0_col0\" class=\"data row0 col0\" >ORI</td>\n",
       "      <td id=\"T_16fe6_row0_col1\" class=\"data row0 col1\" >0.0000</td>\n",
       "      <td id=\"T_16fe6_row0_col2\" class=\"data row0 col2\" >0.0210</td>\n",
       "      <td id=\"T_16fe6_row0_col3\" class=\"data row0 col3\" >0.0000</td>\n",
       "      <td id=\"T_16fe6_row0_col4\" class=\"data row0 col4\" >0.0000</td>\n",
       "      <td id=\"T_16fe6_row0_col5\" class=\"data row0 col5\" >0.0210</td>\n",
       "      <td id=\"T_16fe6_row0_col6\" class=\"data row0 col6\" >0.00</td>\n",
       "      <td id=\"T_16fe6_row0_col7\" class=\"data row0 col7\" >0.00%</td>\n",
       "      <td id=\"T_16fe6_row0_col8\" class=\"data row0 col8\" >60,000</td>\n",
       "      <td id=\"T_16fe6_row0_col9\" class=\"data row0 col9\" >2025-03-13</td>\n",
       "      <td id=\"T_16fe6_row0_col10\" class=\"data row0 col10\" >2025-05-23</td>\n",
       "      <td id=\"T_16fe6_row0_col11\" class=\"data row0 col11\" ></td>\n",
       "      <td id=\"T_16fe6_row0_col12\" class=\"data row0 col12\" >0</td>\n",
       "    </tr>\n",
       "  </tbody>\n",
       "</table>\n"
      ],
      "text/plain": [
       "<pandas.io.formats.style.Styler at 0x1e89ec5f4a0>"
      ]
     },
     "execution_count": 93,
     "metadata": {},
     "output_type": "execute_result"
    }
   ],
   "source": [
    "sql = \"\"\"\n",
    "    SELECT * \n",
    "    FROM dividend \n",
    "    WHERE name = '{}'\n",
    "\"\"\".format(name)\n",
    "    \n",
    "df_dividend = pd.read_sql(sql, const)\n",
    "df_dividend.columns = df_dividend.columns.str.lower()\n",
    "df_dividend['shares'] = df_dividend['shares'].astype('int64')\n",
    "\n",
    "df_dividend.style.format(format_dict)"
   ]
  },
  {
   "cell_type": "code",
   "execution_count": 95,
   "metadata": {},
   "outputs": [
    {
     "data": {
      "text/plain": [
       "50000"
      ]
     },
     "execution_count": 95,
     "metadata": {},
     "output_type": "execute_result"
    }
   ],
   "source": [
    "new_qty = df_dividend['shares'].iloc[0] + qty\n",
    "new_qty"
   ]
  },
  {
   "cell_type": "code",
   "execution_count": 97,
   "metadata": {},
   "outputs": [
    {
     "data": {
      "text/html": [
       "<style type=\"text/css\">\n",
       "</style>\n",
       "<table id=\"T_0bc7d\">\n",
       "  <thead>\n",
       "    <tr>\n",
       "      <th class=\"blank level0\" >&nbsp;</th>\n",
       "      <th id=\"T_0bc7d_level0_col0\" class=\"col_heading level0 col0\" >name</th>\n",
       "      <th id=\"T_0bc7d_level0_col1\" class=\"col_heading level0 col1\" >q4</th>\n",
       "      <th id=\"T_0bc7d_level0_col2\" class=\"col_heading level0 col2\" >q3</th>\n",
       "      <th id=\"T_0bc7d_level0_col3\" class=\"col_heading level0 col3\" >q2</th>\n",
       "      <th id=\"T_0bc7d_level0_col4\" class=\"col_heading level0 col4\" >q1</th>\n",
       "      <th id=\"T_0bc7d_level0_col5\" class=\"col_heading level0 col5\" >dividend</th>\n",
       "      <th id=\"T_0bc7d_level0_col6\" class=\"col_heading level0 col6\" >shares</th>\n",
       "      <th id=\"T_0bc7d_level0_col7\" class=\"col_heading level0 col7\" >xdate</th>\n",
       "      <th id=\"T_0bc7d_level0_col8\" class=\"col_heading level0 col8\" >paiddate</th>\n",
       "      <th id=\"T_0bc7d_level0_col9\" class=\"col_heading level0 col9\" >kind</th>\n",
       "      <th id=\"T_0bc7d_level0_col10\" class=\"col_heading level0 col10\" >actual</th>\n",
       "    </tr>\n",
       "  </thead>\n",
       "  <tbody>\n",
       "    <tr>\n",
       "      <th id=\"T_0bc7d_level0_row0\" class=\"row_heading level0 row0\" >0</th>\n",
       "      <td id=\"T_0bc7d_row0_col0\" class=\"data row0 col0\" >ORI</td>\n",
       "      <td id=\"T_0bc7d_row0_col1\" class=\"data row0 col1\" >0.0000</td>\n",
       "      <td id=\"T_0bc7d_row0_col2\" class=\"data row0 col2\" >0.0210</td>\n",
       "      <td id=\"T_0bc7d_row0_col3\" class=\"data row0 col3\" >0.0000</td>\n",
       "      <td id=\"T_0bc7d_row0_col4\" class=\"data row0 col4\" >0.0000</td>\n",
       "      <td id=\"T_0bc7d_row0_col5\" class=\"data row0 col5\" >0.0210</td>\n",
       "      <td id=\"T_0bc7d_row0_col6\" class=\"data row0 col6\" >60,000</td>\n",
       "      <td id=\"T_0bc7d_row0_col7\" class=\"data row0 col7\" >2025-03-13</td>\n",
       "      <td id=\"T_0bc7d_row0_col8\" class=\"data row0 col8\" >2025-05-23</td>\n",
       "      <td id=\"T_0bc7d_row0_col9\" class=\"data row0 col9\" ></td>\n",
       "      <td id=\"T_0bc7d_row0_col10\" class=\"data row0 col10\" >0</td>\n",
       "    </tr>\n",
       "  </tbody>\n",
       "</table>\n"
      ],
      "text/plain": [
       "<pandas.io.formats.style.Styler at 0x1e89ea4b8c0>"
      ]
     },
     "execution_count": 97,
     "metadata": {},
     "output_type": "execute_result"
    }
   ],
   "source": [
    "show_dividend(const, name)"
   ]
  },
  {
   "cell_type": "code",
   "execution_count": 99,
   "metadata": {},
   "outputs": [
    {
     "data": {
      "text/plain": [
       "'Records updated = 1'"
      ]
     },
     "execution_count": 99,
     "metadata": {},
     "output_type": "execute_result"
    }
   ],
   "source": [
    "update_dividend(const, name, new_qty)"
   ]
  },
  {
   "cell_type": "code",
   "execution_count": 101,
   "metadata": {},
   "outputs": [
    {
     "data": {
      "text/html": [
       "<style type=\"text/css\">\n",
       "</style>\n",
       "<table id=\"T_88871\">\n",
       "  <thead>\n",
       "    <tr>\n",
       "      <th class=\"blank level0\" >&nbsp;</th>\n",
       "      <th id=\"T_88871_level0_col0\" class=\"col_heading level0 col0\" >name</th>\n",
       "      <th id=\"T_88871_level0_col1\" class=\"col_heading level0 col1\" >q4</th>\n",
       "      <th id=\"T_88871_level0_col2\" class=\"col_heading level0 col2\" >q3</th>\n",
       "      <th id=\"T_88871_level0_col3\" class=\"col_heading level0 col3\" >q2</th>\n",
       "      <th id=\"T_88871_level0_col4\" class=\"col_heading level0 col4\" >q1</th>\n",
       "      <th id=\"T_88871_level0_col5\" class=\"col_heading level0 col5\" >dividend</th>\n",
       "      <th id=\"T_88871_level0_col6\" class=\"col_heading level0 col6\" >shares</th>\n",
       "      <th id=\"T_88871_level0_col7\" class=\"col_heading level0 col7\" >xdate</th>\n",
       "      <th id=\"T_88871_level0_col8\" class=\"col_heading level0 col8\" >paiddate</th>\n",
       "      <th id=\"T_88871_level0_col9\" class=\"col_heading level0 col9\" >kind</th>\n",
       "      <th id=\"T_88871_level0_col10\" class=\"col_heading level0 col10\" >actual</th>\n",
       "    </tr>\n",
       "  </thead>\n",
       "  <tbody>\n",
       "    <tr>\n",
       "      <th id=\"T_88871_level0_row0\" class=\"row_heading level0 row0\" >0</th>\n",
       "      <td id=\"T_88871_row0_col0\" class=\"data row0 col0\" >ORI</td>\n",
       "      <td id=\"T_88871_row0_col1\" class=\"data row0 col1\" >0.0000</td>\n",
       "      <td id=\"T_88871_row0_col2\" class=\"data row0 col2\" >0.0210</td>\n",
       "      <td id=\"T_88871_row0_col3\" class=\"data row0 col3\" >0.0000</td>\n",
       "      <td id=\"T_88871_row0_col4\" class=\"data row0 col4\" >0.0000</td>\n",
       "      <td id=\"T_88871_row0_col5\" class=\"data row0 col5\" >0.0210</td>\n",
       "      <td id=\"T_88871_row0_col6\" class=\"data row0 col6\" >50,000</td>\n",
       "      <td id=\"T_88871_row0_col7\" class=\"data row0 col7\" >2025-03-13</td>\n",
       "      <td id=\"T_88871_row0_col8\" class=\"data row0 col8\" >2025-05-23</td>\n",
       "      <td id=\"T_88871_row0_col9\" class=\"data row0 col9\" ></td>\n",
       "      <td id=\"T_88871_row0_col10\" class=\"data row0 col10\" >0</td>\n",
       "    </tr>\n",
       "  </tbody>\n",
       "</table>\n"
      ],
      "text/plain": [
       "<pandas.io.formats.style.Styler at 0x1e89ed069f0>"
      ]
     },
     "execution_count": 101,
     "metadata": {},
     "output_type": "execute_result"
    }
   ],
   "source": [
    "show_dividend(const, name)"
   ]
  },
  {
   "cell_type": "code",
   "execution_count": 67,
   "metadata": {},
   "outputs": [
    {
     "name": "stdout",
     "output_type": "stream",
     "text": [
      "Records deleted: 0\n"
     ]
    }
   ],
   "source": [
    "# Define the SQL query\n",
    "sqlDel = text(\"\"\"\n",
    "    DELETE FROM dividend\n",
    "    WHERE name = :name AND shares = 0 AND actual = 0;\n",
    "\"\"\")\n",
    "\n",
    "# Execute the query with the correct parameter dictionary\n",
    "result = const.execute(sqlDel, {'name': name})\n",
    "\n",
    "# Print the number of rows deleted\n",
    "print(f\"Records deleted: {result.rowcount}\")  "
   ]
  },
  {
   "cell_type": "code",
   "execution_count": 68,
   "metadata": {},
   "outputs": [
    {
     "data": {
      "text/html": [
       "<style type=\"text/css\">\n",
       "</style>\n",
       "<table id=\"T_66989\">\n",
       "  <thead>\n",
       "    <tr>\n",
       "      <th class=\"blank level0\" >&nbsp;</th>\n",
       "      <th id=\"T_66989_level0_col0\" class=\"col_heading level0 col0\" >name</th>\n",
       "      <th id=\"T_66989_level0_col1\" class=\"col_heading level0 col1\" >q4</th>\n",
       "      <th id=\"T_66989_level0_col2\" class=\"col_heading level0 col2\" >q3</th>\n",
       "      <th id=\"T_66989_level0_col3\" class=\"col_heading level0 col3\" >q2</th>\n",
       "      <th id=\"T_66989_level0_col4\" class=\"col_heading level0 col4\" >q1</th>\n",
       "      <th id=\"T_66989_level0_col5\" class=\"col_heading level0 col5\" >dividend</th>\n",
       "      <th id=\"T_66989_level0_col6\" class=\"col_heading level0 col6\" >shares</th>\n",
       "      <th id=\"T_66989_level0_col7\" class=\"col_heading level0 col7\" >xdate</th>\n",
       "      <th id=\"T_66989_level0_col8\" class=\"col_heading level0 col8\" >paiddate</th>\n",
       "      <th id=\"T_66989_level0_col9\" class=\"col_heading level0 col9\" >kind</th>\n",
       "      <th id=\"T_66989_level0_col10\" class=\"col_heading level0 col10\" >actual</th>\n",
       "    </tr>\n",
       "  </thead>\n",
       "  <tbody>\n",
       "    <tr>\n",
       "      <th id=\"T_66989_level0_row0\" class=\"row_heading level0 row0\" >0</th>\n",
       "      <td id=\"T_66989_row0_col0\" class=\"data row0 col0\" >ORI</td>\n",
       "      <td id=\"T_66989_row0_col1\" class=\"data row0 col1\" >0.0000</td>\n",
       "      <td id=\"T_66989_row0_col2\" class=\"data row0 col2\" >0.0210</td>\n",
       "      <td id=\"T_66989_row0_col3\" class=\"data row0 col3\" >0.0000</td>\n",
       "      <td id=\"T_66989_row0_col4\" class=\"data row0 col4\" >0.0000</td>\n",
       "      <td id=\"T_66989_row0_col5\" class=\"data row0 col5\" >0.0210</td>\n",
       "      <td id=\"T_66989_row0_col6\" class=\"data row0 col6\" >50,000</td>\n",
       "      <td id=\"T_66989_row0_col7\" class=\"data row0 col7\" >2025-03-13</td>\n",
       "      <td id=\"T_66989_row0_col8\" class=\"data row0 col8\" >2025-05-23</td>\n",
       "      <td id=\"T_66989_row0_col9\" class=\"data row0 col9\" ></td>\n",
       "      <td id=\"T_66989_row0_col10\" class=\"data row0 col10\" >0</td>\n",
       "    </tr>\n",
       "  </tbody>\n",
       "</table>\n"
      ],
      "text/plain": [
       "<pandas.io.formats.style.Styler at 0x255bfae2780>"
      ]
     },
     "execution_count": 68,
     "metadata": {},
     "output_type": "execute_result"
    }
   ],
   "source": [
    "show_dividend(const, name)"
   ]
  },
  {
   "cell_type": "markdown",
   "metadata": {},
   "source": [
    "### End of Update dividend table in MySQL stock database from sale transaction"
   ]
  },
  {
   "cell_type": "markdown",
   "metadata": {},
   "source": [
    "### Begin of Update stocks table in SQLite port_lite database from sale transaction"
   ]
  },
  {
   "cell_type": "code",
   "execution_count": 103,
   "metadata": {},
   "outputs": [
    {
     "data": {
      "text/html": [
       "<div>\n",
       "<style scoped>\n",
       "    .dataframe tbody tr th:only-of-type {\n",
       "        vertical-align: middle;\n",
       "    }\n",
       "\n",
       "    .dataframe tbody tr th {\n",
       "        vertical-align: top;\n",
       "    }\n",
       "\n",
       "    .dataframe thead th {\n",
       "        text-align: right;\n",
       "    }\n",
       "</style>\n",
       "<table border=\"1\" class=\"dataframe\">\n",
       "  <thead>\n",
       "    <tr style=\"text-align: right;\">\n",
       "      <th></th>\n",
       "      <th>name</th>\n",
       "      <th>cost</th>\n",
       "      <th>available_qty</th>\n",
       "    </tr>\n",
       "  </thead>\n",
       "  <tbody>\n",
       "    <tr>\n",
       "      <th>0</th>\n",
       "      <td>ORI</td>\n",
       "      <td>9.0</td>\n",
       "      <td>60000</td>\n",
       "    </tr>\n",
       "  </tbody>\n",
       "</table>\n",
       "</div>"
      ],
      "text/plain": [
       "  name  cost  available_qty\n",
       "0  ORI   9.0          60000"
      ]
     },
     "execution_count": 103,
     "metadata": {},
     "output_type": "execute_result"
    }
   ],
   "source": [
    "sql = \"\"\"\n",
    "    SELECT name, cost, available_qty\n",
    "    FROM stocks\n",
    "    WHERE name = '{}'\n",
    "\"\"\".format(name)\n",
    "\n",
    "df_stocks = pd.read_sql(sql, conlite)\n",
    "df_stocks['available_qty'] = df_stocks['available_qty'].astype('int64')\n",
    "df_stocks"
   ]
  },
  {
   "cell_type": "code",
   "execution_count": 105,
   "metadata": {},
   "outputs": [],
   "source": [
    "old_qty = int(df_stocks['available_qty'].iloc[0])\n",
    "new_qty = old_qty + qty\n",
    "new_buy_target = 2.00\n",
    "new_sell_target = 9.00\n",
    "new_buy_qty = 10_000"
   ]
  },
  {
   "cell_type": "code",
   "execution_count": 107,
   "metadata": {},
   "outputs": [
    {
     "data": {
      "text/html": [
       "<style type=\"text/css\">\n",
       "</style>\n",
       "<table id=\"T_cf586\">\n",
       "  <thead>\n",
       "    <tr>\n",
       "      <th class=\"blank level0\" >&nbsp;</th>\n",
       "      <th id=\"T_cf586_level0_col0\" class=\"col_heading level0 col0\" >id</th>\n",
       "      <th id=\"T_cf586_level0_col1\" class=\"col_heading level0 col1\" >name</th>\n",
       "      <th id=\"T_cf586_level0_col2\" class=\"col_heading level0 col2\" >max_price</th>\n",
       "      <th id=\"T_cf586_level0_col3\" class=\"col_heading level0 col3\" >min_price</th>\n",
       "      <th id=\"T_cf586_level0_col4\" class=\"col_heading level0 col4\" >status</th>\n",
       "      <th id=\"T_cf586_level0_col5\" class=\"col_heading level0 col5\" >buy_target</th>\n",
       "      <th id=\"T_cf586_level0_col6\" class=\"col_heading level0 col6\" >sell_target</th>\n",
       "      <th id=\"T_cf586_level0_col7\" class=\"col_heading level0 col7\" >volume</th>\n",
       "      <th id=\"T_cf586_level0_col8\" class=\"col_heading level0 col8\" >beta</th>\n",
       "      <th id=\"T_cf586_level0_col9\" class=\"col_heading level0 col9\" >cost</th>\n",
       "      <th id=\"T_cf586_level0_col10\" class=\"col_heading level0 col10\" >qty</th>\n",
       "      <th id=\"T_cf586_level0_col11\" class=\"col_heading level0 col11\" >buy_spread</th>\n",
       "      <th id=\"T_cf586_level0_col12\" class=\"col_heading level0 col12\" >sell_spread</th>\n",
       "      <th id=\"T_cf586_level0_col13\" class=\"col_heading level0 col13\" >available_qty</th>\n",
       "      <th id=\"T_cf586_level0_col14\" class=\"col_heading level0 col14\" >bl</th>\n",
       "      <th id=\"T_cf586_level0_col15\" class=\"col_heading level0 col15\" >sh</th>\n",
       "      <th id=\"T_cf586_level0_col16\" class=\"col_heading level0 col16\" >reason</th>\n",
       "      <th id=\"T_cf586_level0_col17\" class=\"col_heading level0 col17\" >market</th>\n",
       "    </tr>\n",
       "  </thead>\n",
       "  <tbody>\n",
       "    <tr>\n",
       "      <th id=\"T_cf586_level0_row0\" class=\"row_heading level0 row0\" >0</th>\n",
       "      <td id=\"T_cf586_row0_col0\" class=\"data row0 col0\" >116</td>\n",
       "      <td id=\"T_cf586_row0_col1\" class=\"data row0 col1\" >ORI</td>\n",
       "      <td id=\"T_cf586_row0_col2\" class=\"data row0 col2\" >0.00</td>\n",
       "      <td id=\"T_cf586_row0_col3\" class=\"data row0 col3\" >0.00</td>\n",
       "      <td id=\"T_cf586_row0_col4\" class=\"data row0 col4\" >B</td>\n",
       "      <td id=\"T_cf586_row0_col5\" class=\"data row0 col5\" >2.00</td>\n",
       "      <td id=\"T_cf586_row0_col6\" class=\"data row0 col6\" >9.00</td>\n",
       "      <td id=\"T_cf586_row0_col7\" class=\"data row0 col7\" >0.00</td>\n",
       "      <td id=\"T_cf586_row0_col8\" class=\"data row0 col8\" >0.00</td>\n",
       "      <td id=\"T_cf586_row0_col9\" class=\"data row0 col9\" >9.00</td>\n",
       "      <td id=\"T_cf586_row0_col10\" class=\"data row0 col10\" >10,000</td>\n",
       "      <td id=\"T_cf586_row0_col11\" class=\"data row0 col11\" >-4</td>\n",
       "      <td id=\"T_cf586_row0_col12\" class=\"data row0 col12\" >4</td>\n",
       "      <td id=\"T_cf586_row0_col13\" class=\"data row0 col13\" >60,000</td>\n",
       "      <td id=\"T_cf586_row0_col14\" class=\"data row0 col14\" >0.000000</td>\n",
       "      <td id=\"T_cf586_row0_col15\" class=\"data row0 col15\" >0.000000</td>\n",
       "      <td id=\"T_cf586_row0_col16\" class=\"data row0 col16\" >RD70Pct</td>\n",
       "      <td id=\"T_cf586_row0_col17\" class=\"data row0 col17\" >SET100</td>\n",
       "    </tr>\n",
       "  </tbody>\n",
       "</table>\n"
      ],
      "text/plain": [
       "<pandas.io.formats.style.Styler at 0x1e89eca3e60>"
      ]
     },
     "execution_count": 107,
     "metadata": {},
     "output_type": "execute_result"
    }
   ],
   "source": [
    "show_stocks(conlite, name)"
   ]
  },
  {
   "cell_type": "code",
   "execution_count": 109,
   "metadata": {},
   "outputs": [
    {
     "name": "stdout",
     "output_type": "stream",
     "text": [
      "ORI S 50000 2.62 2.0 9.0 10000\n"
     ]
    }
   ],
   "source": [
    "print(name, transaction, new_qty, buy_price, new_buy_target, new_sell_target, new_buy_qty)"
   ]
  },
  {
   "cell_type": "code",
   "execution_count": 111,
   "metadata": {},
   "outputs": [
    {
     "data": {
      "text/plain": [
       "'Records updated = 1'"
      ]
     },
     "execution_count": 111,
     "metadata": {},
     "output_type": "execute_result"
    }
   ],
   "source": [
    "update_stock(conlite, name, new_qty, buy_price, new_buy_target, new_sell_target, new_buy_qty)"
   ]
  },
  {
   "cell_type": "code",
   "execution_count": 113,
   "metadata": {},
   "outputs": [
    {
     "data": {
      "text/html": [
       "<style type=\"text/css\">\n",
       "</style>\n",
       "<table id=\"T_0cdf3\">\n",
       "  <thead>\n",
       "    <tr>\n",
       "      <th class=\"blank level0\" >&nbsp;</th>\n",
       "      <th id=\"T_0cdf3_level0_col0\" class=\"col_heading level0 col0\" >id</th>\n",
       "      <th id=\"T_0cdf3_level0_col1\" class=\"col_heading level0 col1\" >name</th>\n",
       "      <th id=\"T_0cdf3_level0_col2\" class=\"col_heading level0 col2\" >max_price</th>\n",
       "      <th id=\"T_0cdf3_level0_col3\" class=\"col_heading level0 col3\" >min_price</th>\n",
       "      <th id=\"T_0cdf3_level0_col4\" class=\"col_heading level0 col4\" >status</th>\n",
       "      <th id=\"T_0cdf3_level0_col5\" class=\"col_heading level0 col5\" >buy_target</th>\n",
       "      <th id=\"T_0cdf3_level0_col6\" class=\"col_heading level0 col6\" >sell_target</th>\n",
       "      <th id=\"T_0cdf3_level0_col7\" class=\"col_heading level0 col7\" >volume</th>\n",
       "      <th id=\"T_0cdf3_level0_col8\" class=\"col_heading level0 col8\" >beta</th>\n",
       "      <th id=\"T_0cdf3_level0_col9\" class=\"col_heading level0 col9\" >cost</th>\n",
       "      <th id=\"T_0cdf3_level0_col10\" class=\"col_heading level0 col10\" >qty</th>\n",
       "      <th id=\"T_0cdf3_level0_col11\" class=\"col_heading level0 col11\" >buy_spread</th>\n",
       "      <th id=\"T_0cdf3_level0_col12\" class=\"col_heading level0 col12\" >sell_spread</th>\n",
       "      <th id=\"T_0cdf3_level0_col13\" class=\"col_heading level0 col13\" >available_qty</th>\n",
       "      <th id=\"T_0cdf3_level0_col14\" class=\"col_heading level0 col14\" >bl</th>\n",
       "      <th id=\"T_0cdf3_level0_col15\" class=\"col_heading level0 col15\" >sh</th>\n",
       "      <th id=\"T_0cdf3_level0_col16\" class=\"col_heading level0 col16\" >reason</th>\n",
       "      <th id=\"T_0cdf3_level0_col17\" class=\"col_heading level0 col17\" >market</th>\n",
       "    </tr>\n",
       "  </thead>\n",
       "  <tbody>\n",
       "    <tr>\n",
       "      <th id=\"T_0cdf3_level0_row0\" class=\"row_heading level0 row0\" >0</th>\n",
       "      <td id=\"T_0cdf3_row0_col0\" class=\"data row0 col0\" >116</td>\n",
       "      <td id=\"T_0cdf3_row0_col1\" class=\"data row0 col1\" >ORI</td>\n",
       "      <td id=\"T_0cdf3_row0_col2\" class=\"data row0 col2\" >0.00</td>\n",
       "      <td id=\"T_0cdf3_row0_col3\" class=\"data row0 col3\" >0.00</td>\n",
       "      <td id=\"T_0cdf3_row0_col4\" class=\"data row0 col4\" >B</td>\n",
       "      <td id=\"T_0cdf3_row0_col5\" class=\"data row0 col5\" >2.00</td>\n",
       "      <td id=\"T_0cdf3_row0_col6\" class=\"data row0 col6\" >9.00</td>\n",
       "      <td id=\"T_0cdf3_row0_col7\" class=\"data row0 col7\" >0.00</td>\n",
       "      <td id=\"T_0cdf3_row0_col8\" class=\"data row0 col8\" >0.00</td>\n",
       "      <td id=\"T_0cdf3_row0_col9\" class=\"data row0 col9\" >2.62</td>\n",
       "      <td id=\"T_0cdf3_row0_col10\" class=\"data row0 col10\" >10,000</td>\n",
       "      <td id=\"T_0cdf3_row0_col11\" class=\"data row0 col11\" >-4</td>\n",
       "      <td id=\"T_0cdf3_row0_col12\" class=\"data row0 col12\" >4</td>\n",
       "      <td id=\"T_0cdf3_row0_col13\" class=\"data row0 col13\" >50,000</td>\n",
       "      <td id=\"T_0cdf3_row0_col14\" class=\"data row0 col14\" >0.000000</td>\n",
       "      <td id=\"T_0cdf3_row0_col15\" class=\"data row0 col15\" >0.000000</td>\n",
       "      <td id=\"T_0cdf3_row0_col16\" class=\"data row0 col16\" >RD70Pct</td>\n",
       "      <td id=\"T_0cdf3_row0_col17\" class=\"data row0 col17\" >SET100</td>\n",
       "    </tr>\n",
       "  </tbody>\n",
       "</table>\n"
      ],
      "text/plain": [
       "<pandas.io.formats.style.Styler at 0x1e89eca3ec0>"
      ]
     },
     "execution_count": 113,
     "metadata": {},
     "output_type": "execute_result"
    }
   ],
   "source": [
    "show_stocks(conlite, name)"
   ]
  },
  {
   "cell_type": "markdown",
   "metadata": {},
   "source": [
    "### End of Update stocks table in SQLite port_lite database from sale transaction"
   ]
  },
  {
   "cell_type": "markdown",
   "metadata": {},
   "source": [
    "## End of Sale process"
   ]
  },
  {
   "cell_type": "markdown",
   "metadata": {},
   "source": [
    "### ====================================================="
   ]
  },
  {
   "cell_type": "code",
   "execution_count": 80,
   "metadata": {},
   "outputs": [
    {
     "name": "stdout",
     "output_type": "stream",
     "text": [
      "SELECT period, buy.grade AS grade, buy.name AS name, buy.date AS date, FORMAT(volbuy,0) AS volbuy, FORMAT(buy.price,2) AS buy_price, price.price AS mkt_price,FORMAT((volbuy * buy.price),2) AS amtbuy, FORMAT((volbuy * price.price),2) AS amtmkt, FORMAT(((price.price - buy.price) * volbuy),2) AS amtpol, FORMAT((((price.price - buy.price)*volbuy)/(volbuy*buy.price)*100),2) AS pctpol FROM buy INNER JOIN price ON buy.name = price.name WHERE price.date = '2025-08-27' ORDER BY period, buy.name\n"
     ]
    }
   ],
   "source": [
    "#price_date = '2025-02-14'\n",
    "sql = \"SELECT period, buy.grade AS grade, buy.name AS name, buy.date AS date, \\\n",
    "FORMAT(volbuy,0) AS volbuy, FORMAT(buy.price,2) AS buy_price, price.price AS mkt_price,\\\n",
    "FORMAT((volbuy * buy.price),2) AS amtbuy, FORMAT((volbuy * price.price),2) AS amtmkt, \\\n",
    "FORMAT(((price.price - buy.price) * volbuy),2) AS amtpol, \\\n",
    "FORMAT((((price.price - buy.price)*volbuy)/(volbuy*buy.price)*100),2) AS pctpol \\\n",
    "FROM buy INNER JOIN price ON buy.name = price.name WHERE price.date = '{}' \\\n",
    "ORDER BY period, buy.name\".format(yesterday)\n",
    "print(sql)"
   ]
  },
  {
   "cell_type": "code",
   "execution_count": 81,
   "metadata": {
    "scrolled": true
   },
   "outputs": [
    {
     "data": {
      "text/html": [
       "<div>\n",
       "<style scoped>\n",
       "    .dataframe tbody tr th:only-of-type {\n",
       "        vertical-align: middle;\n",
       "    }\n",
       "\n",
       "    .dataframe tbody tr th {\n",
       "        vertical-align: top;\n",
       "    }\n",
       "\n",
       "    .dataframe thead th {\n",
       "        text-align: right;\n",
       "    }\n",
       "</style>\n",
       "<table border=\"1\" class=\"dataframe\">\n",
       "  <thead>\n",
       "    <tr style=\"text-align: right;\">\n",
       "      <th></th>\n",
       "      <th>period</th>\n",
       "      <th>grade</th>\n",
       "      <th>name</th>\n",
       "      <th>date</th>\n",
       "      <th>volbuy</th>\n",
       "      <th>buy_price</th>\n",
       "      <th>mkt_price</th>\n",
       "      <th>amtbuy</th>\n",
       "      <th>amtmkt</th>\n",
       "      <th>amtpol</th>\n",
       "      <th>pctpol</th>\n",
       "    </tr>\n",
       "  </thead>\n",
       "  <tbody>\n",
       "    <tr>\n",
       "      <th>0</th>\n",
       "      <td>1</td>\n",
       "      <td>C1</td>\n",
       "      <td>AH</td>\n",
       "      <td>2023-06-08</td>\n",
       "      <td>1,200</td>\n",
       "      <td>37.00</td>\n",
       "      <td>14.50</td>\n",
       "      <td>44,400.00</td>\n",
       "      <td>17,400.00</td>\n",
       "      <td>-27,000.00</td>\n",
       "      <td>-60.81</td>\n",
       "    </tr>\n",
       "    <tr>\n",
       "      <th>1</th>\n",
       "      <td>1</td>\n",
       "      <td>A1</td>\n",
       "      <td>AWC</td>\n",
       "      <td>2023-06-15</td>\n",
       "      <td>9,000</td>\n",
       "      <td>4.96</td>\n",
       "      <td>2.34</td>\n",
       "      <td>44,640.00</td>\n",
       "      <td>21,060.00</td>\n",
       "      <td>-23,580.00</td>\n",
       "      <td>-52.82</td>\n",
       "    </tr>\n",
       "    <tr>\n",
       "      <th>2</th>\n",
       "      <td>1</td>\n",
       "      <td>A2</td>\n",
       "      <td>JMART</td>\n",
       "      <td>2023-01-20</td>\n",
       "      <td>6,800</td>\n",
       "      <td>33.00</td>\n",
       "      <td>8.35</td>\n",
       "      <td>224,400.00</td>\n",
       "      <td>56,780.00</td>\n",
       "      <td>-167,620.00</td>\n",
       "      <td>-74.70</td>\n",
       "    </tr>\n",
       "    <tr>\n",
       "      <th>3</th>\n",
       "      <td>1</td>\n",
       "      <td>C2</td>\n",
       "      <td>ORI</td>\n",
       "      <td>2022-04-07</td>\n",
       "      <td>50,000</td>\n",
       "      <td>9.00</td>\n",
       "      <td>2.20</td>\n",
       "      <td>450,000.00</td>\n",
       "      <td>110,000.00</td>\n",
       "      <td>-340,000.00</td>\n",
       "      <td>-75.56</td>\n",
       "    </tr>\n",
       "    <tr>\n",
       "      <th>4</th>\n",
       "      <td>1</td>\n",
       "      <td>C2</td>\n",
       "      <td>PTTGC</td>\n",
       "      <td>2021-03-17</td>\n",
       "      <td>6,000</td>\n",
       "      <td>64.75</td>\n",
       "      <td>26.50</td>\n",
       "      <td>388,500.00</td>\n",
       "      <td>159,000.00</td>\n",
       "      <td>-229,500.00</td>\n",
       "      <td>-59.07</td>\n",
       "    </tr>\n",
       "    <tr>\n",
       "      <th>5</th>\n",
       "      <td>1</td>\n",
       "      <td>C2</td>\n",
       "      <td>SCC</td>\n",
       "      <td>2021-09-20</td>\n",
       "      <td>600</td>\n",
       "      <td>405.00</td>\n",
       "      <td>215.00</td>\n",
       "      <td>243,000.00</td>\n",
       "      <td>129,000.00</td>\n",
       "      <td>-114,000.00</td>\n",
       "      <td>-46.91</td>\n",
       "    </tr>\n",
       "    <tr>\n",
       "      <th>6</th>\n",
       "      <td>1</td>\n",
       "      <td>A3</td>\n",
       "      <td>SINGER</td>\n",
       "      <td>2023-01-19</td>\n",
       "      <td>6,000</td>\n",
       "      <td>24.80</td>\n",
       "      <td>5.50</td>\n",
       "      <td>148,800.00</td>\n",
       "      <td>33,000.00</td>\n",
       "      <td>-115,800.00</td>\n",
       "      <td>-77.82</td>\n",
       "    </tr>\n",
       "    <tr>\n",
       "      <th>7</th>\n",
       "      <td>2</td>\n",
       "      <td>A1</td>\n",
       "      <td>AIMIRT</td>\n",
       "      <td>2023-08-17</td>\n",
       "      <td>17,500</td>\n",
       "      <td>10.60</td>\n",
       "      <td>9.70</td>\n",
       "      <td>185,500.00</td>\n",
       "      <td>169,750.00</td>\n",
       "      <td>-15,750.00</td>\n",
       "      <td>-8.49</td>\n",
       "    </tr>\n",
       "    <tr>\n",
       "      <th>8</th>\n",
       "      <td>2</td>\n",
       "      <td>C1</td>\n",
       "      <td>CPNREIT</td>\n",
       "      <td>2022-08-16</td>\n",
       "      <td>55,000</td>\n",
       "      <td>18.00</td>\n",
       "      <td>11.20</td>\n",
       "      <td>990,000.00</td>\n",
       "      <td>616,000.00</td>\n",
       "      <td>-374,000.00</td>\n",
       "      <td>-37.78</td>\n",
       "    </tr>\n",
       "    <tr>\n",
       "      <th>9</th>\n",
       "      <td>2</td>\n",
       "      <td>C1</td>\n",
       "      <td>DIF</td>\n",
       "      <td>2020-08-01</td>\n",
       "      <td>50,000</td>\n",
       "      <td>12.17</td>\n",
       "      <td>8.20</td>\n",
       "      <td>608,500.00</td>\n",
       "      <td>410,000.00</td>\n",
       "      <td>-198,500.00</td>\n",
       "      <td>-32.62</td>\n",
       "    </tr>\n",
       "    <tr>\n",
       "      <th>10</th>\n",
       "      <td>2</td>\n",
       "      <td>C1</td>\n",
       "      <td>GVREIT</td>\n",
       "      <td>2022-08-24</td>\n",
       "      <td>69,000</td>\n",
       "      <td>7.75</td>\n",
       "      <td>6.20</td>\n",
       "      <td>534,750.00</td>\n",
       "      <td>427,800.00</td>\n",
       "      <td>-106,950.00</td>\n",
       "      <td>-20.00</td>\n",
       "    </tr>\n",
       "    <tr>\n",
       "      <th>11</th>\n",
       "      <td>2</td>\n",
       "      <td>A4</td>\n",
       "      <td>MCS</td>\n",
       "      <td>2016-09-20</td>\n",
       "      <td>75,000</td>\n",
       "      <td>15.31</td>\n",
       "      <td>8.25</td>\n",
       "      <td>1,148,400.00</td>\n",
       "      <td>618,750.00</td>\n",
       "      <td>-529,650.00</td>\n",
       "      <td>-46.12</td>\n",
       "    </tr>\n",
       "    <tr>\n",
       "      <th>12</th>\n",
       "      <td>2</td>\n",
       "      <td>A1</td>\n",
       "      <td>NER</td>\n",
       "      <td>2021-09-01</td>\n",
       "      <td>27,000</td>\n",
       "      <td>7.45</td>\n",
       "      <td>4.26</td>\n",
       "      <td>201,150.00</td>\n",
       "      <td>115,020.00</td>\n",
       "      <td>-86,130.00</td>\n",
       "      <td>-42.82</td>\n",
       "    </tr>\n",
       "    <tr>\n",
       "      <th>13</th>\n",
       "      <td>2</td>\n",
       "      <td>A2</td>\n",
       "      <td>PTT</td>\n",
       "      <td>2025-08-08</td>\n",
       "      <td>2,500</td>\n",
       "      <td>32.00</td>\n",
       "      <td>31.75</td>\n",
       "      <td>80,000.00</td>\n",
       "      <td>79,375.00</td>\n",
       "      <td>-625.00</td>\n",
       "      <td>-0.78</td>\n",
       "    </tr>\n",
       "    <tr>\n",
       "      <th>14</th>\n",
       "      <td>2</td>\n",
       "      <td>B1</td>\n",
       "      <td>SENA</td>\n",
       "      <td>2022-03-29</td>\n",
       "      <td>105,000</td>\n",
       "      <td>4.48</td>\n",
       "      <td>1.87</td>\n",
       "      <td>470,400.00</td>\n",
       "      <td>196,350.00</td>\n",
       "      <td>-274,050.00</td>\n",
       "      <td>-58.26</td>\n",
       "    </tr>\n",
       "    <tr>\n",
       "      <th>15</th>\n",
       "      <td>2</td>\n",
       "      <td>C1</td>\n",
       "      <td>TFFIF</td>\n",
       "      <td>2023-07-06</td>\n",
       "      <td>20,000</td>\n",
       "      <td>7.20</td>\n",
       "      <td>6.00</td>\n",
       "      <td>144,000.00</td>\n",
       "      <td>120,000.00</td>\n",
       "      <td>-24,000.00</td>\n",
       "      <td>-16.67</td>\n",
       "    </tr>\n",
       "    <tr>\n",
       "      <th>16</th>\n",
       "      <td>2</td>\n",
       "      <td>B1</td>\n",
       "      <td>WHAIR</td>\n",
       "      <td>2021-10-11</td>\n",
       "      <td>50,000</td>\n",
       "      <td>8.70</td>\n",
       "      <td>5.50</td>\n",
       "      <td>435,000.00</td>\n",
       "      <td>275,000.00</td>\n",
       "      <td>-160,000.00</td>\n",
       "      <td>-36.78</td>\n",
       "    </tr>\n",
       "    <tr>\n",
       "      <th>17</th>\n",
       "      <td>2</td>\n",
       "      <td>C1</td>\n",
       "      <td>WHART</td>\n",
       "      <td>2022-01-05</td>\n",
       "      <td>25,000</td>\n",
       "      <td>11.60</td>\n",
       "      <td>9.15</td>\n",
       "      <td>290,000.00</td>\n",
       "      <td>228,750.00</td>\n",
       "      <td>-61,250.00</td>\n",
       "      <td>-21.12</td>\n",
       "    </tr>\n",
       "    <tr>\n",
       "      <th>18</th>\n",
       "      <td>3</td>\n",
       "      <td>A3</td>\n",
       "      <td>3BBIF</td>\n",
       "      <td>2018-05-17</td>\n",
       "      <td>120,000</td>\n",
       "      <td>10.10</td>\n",
       "      <td>6.20</td>\n",
       "      <td>1,212,000.00</td>\n",
       "      <td>744,000.00</td>\n",
       "      <td>-468,000.00</td>\n",
       "      <td>-38.61</td>\n",
       "    </tr>\n",
       "    <tr>\n",
       "      <th>19</th>\n",
       "      <td>3</td>\n",
       "      <td>B3</td>\n",
       "      <td>BCH</td>\n",
       "      <td>2021-09-07</td>\n",
       "      <td>4,000</td>\n",
       "      <td>21.70</td>\n",
       "      <td>12.70</td>\n",
       "      <td>86,800.00</td>\n",
       "      <td>50,800.00</td>\n",
       "      <td>-36,000.00</td>\n",
       "      <td>-41.47</td>\n",
       "    </tr>\n",
       "    <tr>\n",
       "      <th>20</th>\n",
       "      <td>3</td>\n",
       "      <td>C3</td>\n",
       "      <td>IVL</td>\n",
       "      <td>2022-08-29</td>\n",
       "      <td>7,200</td>\n",
       "      <td>40.00</td>\n",
       "      <td>22.20</td>\n",
       "      <td>288,000.00</td>\n",
       "      <td>159,840.00</td>\n",
       "      <td>-128,160.00</td>\n",
       "      <td>-44.50</td>\n",
       "    </tr>\n",
       "    <tr>\n",
       "      <th>21</th>\n",
       "      <td>3</td>\n",
       "      <td>A3</td>\n",
       "      <td>RCL</td>\n",
       "      <td>2021-11-08</td>\n",
       "      <td>27,000</td>\n",
       "      <td>38.80</td>\n",
       "      <td>28.25</td>\n",
       "      <td>1,047,600.00</td>\n",
       "      <td>762,750.00</td>\n",
       "      <td>-284,850.00</td>\n",
       "      <td>-27.19</td>\n",
       "    </tr>\n",
       "    <tr>\n",
       "      <th>22</th>\n",
       "      <td>3</td>\n",
       "      <td>A4</td>\n",
       "      <td>STA</td>\n",
       "      <td>2021-06-15</td>\n",
       "      <td>10,000</td>\n",
       "      <td>30.00</td>\n",
       "      <td>12.00</td>\n",
       "      <td>300,000.00</td>\n",
       "      <td>120,000.00</td>\n",
       "      <td>-180,000.00</td>\n",
       "      <td>-60.00</td>\n",
       "    </tr>\n",
       "    <tr>\n",
       "      <th>23</th>\n",
       "      <td>3</td>\n",
       "      <td>A1</td>\n",
       "      <td>SYNEX</td>\n",
       "      <td>2022-01-07</td>\n",
       "      <td>17,500</td>\n",
       "      <td>26.40</td>\n",
       "      <td>11.70</td>\n",
       "      <td>462,000.00</td>\n",
       "      <td>204,750.00</td>\n",
       "      <td>-257,250.00</td>\n",
       "      <td>-55.68</td>\n",
       "    </tr>\n",
       "    <tr>\n",
       "      <th>24</th>\n",
       "      <td>3</td>\n",
       "      <td>A4</td>\n",
       "      <td>TVO</td>\n",
       "      <td>2024-11-06</td>\n",
       "      <td>8,000</td>\n",
       "      <td>24.00</td>\n",
       "      <td>24.60</td>\n",
       "      <td>192,000.00</td>\n",
       "      <td>196,800.00</td>\n",
       "      <td>4,800.00</td>\n",
       "      <td>2.50</td>\n",
       "    </tr>\n",
       "    <tr>\n",
       "      <th>25</th>\n",
       "      <td>4</td>\n",
       "      <td>A1</td>\n",
       "      <td>CPF</td>\n",
       "      <td>2025-08-21</td>\n",
       "      <td>5,000</td>\n",
       "      <td>24.10</td>\n",
       "      <td>23.90</td>\n",
       "      <td>120,500.00</td>\n",
       "      <td>119,500.00</td>\n",
       "      <td>-1,000.00</td>\n",
       "      <td>-0.83</td>\n",
       "    </tr>\n",
       "    <tr>\n",
       "      <th>26</th>\n",
       "      <td>4</td>\n",
       "      <td>C3</td>\n",
       "      <td>JMT</td>\n",
       "      <td>2023-01-26</td>\n",
       "      <td>4,200</td>\n",
       "      <td>55.50</td>\n",
       "      <td>11.80</td>\n",
       "      <td>233,100.00</td>\n",
       "      <td>49,560.00</td>\n",
       "      <td>-183,540.00</td>\n",
       "      <td>-78.74</td>\n",
       "    </tr>\n",
       "    <tr>\n",
       "      <th>27</th>\n",
       "      <td>4</td>\n",
       "      <td>B2</td>\n",
       "      <td>PTG</td>\n",
       "      <td>2023-07-12</td>\n",
       "      <td>3,600</td>\n",
       "      <td>11.40</td>\n",
       "      <td>7.80</td>\n",
       "      <td>41,040.00</td>\n",
       "      <td>28,080.00</td>\n",
       "      <td>-12,960.00</td>\n",
       "      <td>-31.58</td>\n",
       "    </tr>\n",
       "    <tr>\n",
       "      <th>28</th>\n",
       "      <td>4</td>\n",
       "      <td>C1</td>\n",
       "      <td>TOA</td>\n",
       "      <td>2023-09-06</td>\n",
       "      <td>1,000</td>\n",
       "      <td>26.00</td>\n",
       "      <td>14.20</td>\n",
       "      <td>26,000.00</td>\n",
       "      <td>14,200.00</td>\n",
       "      <td>-11,800.00</td>\n",
       "      <td>-45.38</td>\n",
       "    </tr>\n",
       "  </tbody>\n",
       "</table>\n",
       "</div>"
      ],
      "text/plain": [
       "   period grade     name        date   volbuy buy_price  mkt_price  \\\n",
       "0       1    C1       AH  2023-06-08    1,200     37.00      14.50   \n",
       "1       1    A1      AWC  2023-06-15    9,000      4.96       2.34   \n",
       "2       1    A2    JMART  2023-01-20    6,800     33.00       8.35   \n",
       "3       1    C2      ORI  2022-04-07   50,000      9.00       2.20   \n",
       "4       1    C2    PTTGC  2021-03-17    6,000     64.75      26.50   \n",
       "5       1    C2      SCC  2021-09-20      600    405.00     215.00   \n",
       "6       1    A3   SINGER  2023-01-19    6,000     24.80       5.50   \n",
       "7       2    A1   AIMIRT  2023-08-17   17,500     10.60       9.70   \n",
       "8       2    C1  CPNREIT  2022-08-16   55,000     18.00      11.20   \n",
       "9       2    C1      DIF  2020-08-01   50,000     12.17       8.20   \n",
       "10      2    C1   GVREIT  2022-08-24   69,000      7.75       6.20   \n",
       "11      2    A4      MCS  2016-09-20   75,000     15.31       8.25   \n",
       "12      2    A1      NER  2021-09-01   27,000      7.45       4.26   \n",
       "13      2    A2      PTT  2025-08-08    2,500     32.00      31.75   \n",
       "14      2    B1     SENA  2022-03-29  105,000      4.48       1.87   \n",
       "15      2    C1    TFFIF  2023-07-06   20,000      7.20       6.00   \n",
       "16      2    B1    WHAIR  2021-10-11   50,000      8.70       5.50   \n",
       "17      2    C1    WHART  2022-01-05   25,000     11.60       9.15   \n",
       "18      3    A3    3BBIF  2018-05-17  120,000     10.10       6.20   \n",
       "19      3    B3      BCH  2021-09-07    4,000     21.70      12.70   \n",
       "20      3    C3      IVL  2022-08-29    7,200     40.00      22.20   \n",
       "21      3    A3      RCL  2021-11-08   27,000     38.80      28.25   \n",
       "22      3    A4      STA  2021-06-15   10,000     30.00      12.00   \n",
       "23      3    A1    SYNEX  2022-01-07   17,500     26.40      11.70   \n",
       "24      3    A4      TVO  2024-11-06    8,000     24.00      24.60   \n",
       "25      4    A1      CPF  2025-08-21    5,000     24.10      23.90   \n",
       "26      4    C3      JMT  2023-01-26    4,200     55.50      11.80   \n",
       "27      4    B2      PTG  2023-07-12    3,600     11.40       7.80   \n",
       "28      4    C1      TOA  2023-09-06    1,000     26.00      14.20   \n",
       "\n",
       "          amtbuy      amtmkt       amtpol  pctpol  \n",
       "0      44,400.00   17,400.00   -27,000.00  -60.81  \n",
       "1      44,640.00   21,060.00   -23,580.00  -52.82  \n",
       "2     224,400.00   56,780.00  -167,620.00  -74.70  \n",
       "3     450,000.00  110,000.00  -340,000.00  -75.56  \n",
       "4     388,500.00  159,000.00  -229,500.00  -59.07  \n",
       "5     243,000.00  129,000.00  -114,000.00  -46.91  \n",
       "6     148,800.00   33,000.00  -115,800.00  -77.82  \n",
       "7     185,500.00  169,750.00   -15,750.00   -8.49  \n",
       "8     990,000.00  616,000.00  -374,000.00  -37.78  \n",
       "9     608,500.00  410,000.00  -198,500.00  -32.62  \n",
       "10    534,750.00  427,800.00  -106,950.00  -20.00  \n",
       "11  1,148,400.00  618,750.00  -529,650.00  -46.12  \n",
       "12    201,150.00  115,020.00   -86,130.00  -42.82  \n",
       "13     80,000.00   79,375.00      -625.00   -0.78  \n",
       "14    470,400.00  196,350.00  -274,050.00  -58.26  \n",
       "15    144,000.00  120,000.00   -24,000.00  -16.67  \n",
       "16    435,000.00  275,000.00  -160,000.00  -36.78  \n",
       "17    290,000.00  228,750.00   -61,250.00  -21.12  \n",
       "18  1,212,000.00  744,000.00  -468,000.00  -38.61  \n",
       "19     86,800.00   50,800.00   -36,000.00  -41.47  \n",
       "20    288,000.00  159,840.00  -128,160.00  -44.50  \n",
       "21  1,047,600.00  762,750.00  -284,850.00  -27.19  \n",
       "22    300,000.00  120,000.00  -180,000.00  -60.00  \n",
       "23    462,000.00  204,750.00  -257,250.00  -55.68  \n",
       "24    192,000.00  196,800.00     4,800.00    2.50  \n",
       "25    120,500.00  119,500.00    -1,000.00   -0.83  \n",
       "26    233,100.00   49,560.00  -183,540.00  -78.74  \n",
       "27     41,040.00   28,080.00   -12,960.00  -31.58  \n",
       "28     26,000.00   14,200.00   -11,800.00  -45.38  "
      ]
     },
     "execution_count": 81,
     "metadata": {},
     "output_type": "execute_result"
    }
   ],
   "source": [
    "df_buy = pd.read_sql(sql, const)\n",
    "df_buy"
   ]
  },
  {
   "cell_type": "code",
   "execution_count": 82,
   "metadata": {},
   "outputs": [],
   "source": [
    "file_name = 'portfolio.csv'\n",
    "output_file = os.path.join(dat_path, file_name)\n",
    "god_file = os.path.join(god_path, file_name)\n",
    "icd_file = os.path.join(icd_path, file_name)\n",
    "osd_file = os.path.join(osd_path, file_name)"
   ]
  },
  {
   "cell_type": "code",
   "execution_count": 83,
   "metadata": {},
   "outputs": [
    {
     "name": "stdout",
     "output_type": "stream",
     "text": [
      "Output file : C:\\Users\\PC1\\OneDrive\\A5\\Data\\portfolio.csv\n",
      "icd_file : C:\\Users\\PC1\\iCloudDrive\\Data\\portfolio.csv\n",
      "god_file : C:\\Users\\PC1\\OneDrive\\Imports\\santisoontarinka@gmail.com - Google Drive\\Data\\portfolio.csv\n",
      "osd_file : C:\\Users\\PC1\\OneDrive\\Documents\\obsidian-git-sync\\Data\\portfolio.csv\n"
     ]
    }
   ],
   "source": [
    "print(f\"Output file : {output_file}\") \n",
    "print(f\"icd_file : {icd_file}\") \n",
    "print(f\"god_file : {god_file}\") \n",
    "print(f\"osd_file : {osd_file}\") "
   ]
  },
  {
   "cell_type": "code",
   "execution_count": 84,
   "metadata": {},
   "outputs": [],
   "source": [
    "df_buy.to_csv(output_file, header=True, index=False)\n",
    "df_buy.to_csv(icd_file, header=True, index=False)\n",
    "df_buy.to_csv(god_file, header=True, index=False)\n",
    "df_buy.to_csv(osd_file, header=True, index=False)"
   ]
  },
  {
   "cell_type": "code",
   "execution_count": 85,
   "metadata": {},
   "outputs": [],
   "source": [
    "file_name = '035-portfolio.xlsx'\n",
    "xsl_file = os.path.join(xsl_path, file_name)\n",
    "df_buy.to_excel(xsl_file, index=False)"
   ]
  },
  {
   "cell_type": "code",
   "execution_count": 152,
   "metadata": {},
   "outputs": [],
   "source": [
    "conlite.commit()"
   ]
  },
  {
   "cell_type": "code",
   "execution_count": null,
   "metadata": {},
   "outputs": [],
   "source": []
  }
 ],
 "metadata": {
  "anaconda-cloud": {},
  "kernelspec": {
   "display_name": "Python 3 (ipykernel)",
   "language": "python",
   "name": "python3"
  },
  "language_info": {
   "codemirror_mode": {
    "name": "ipython",
    "version": 3
   },
   "file_extension": ".py",
   "mimetype": "text/x-python",
   "name": "python",
   "nbconvert_exporter": "python",
   "pygments_lexer": "ipython3",
   "version": "3.12.3"
  }
 },
 "nbformat": 4,
 "nbformat_minor": 4
}
