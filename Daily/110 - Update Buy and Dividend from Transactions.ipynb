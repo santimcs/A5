{
 "cells": [
  {
   "cell_type": "code",
   "execution_count": 1,
   "metadata": {},
   "outputs": [],
   "source": [
    "import os\n",
    "import pandas as pd\n",
    "from datetime import date, timedelta, datetime\n",
    "from sqlalchemy import create_engine, text\n",
    "from pandas.tseries.offsets import BDay\n",
    "\n",
    "engine = create_engine('mysql+pymysql://root:@localhost:3306/portfolio_development')\n",
    "conpf = engine.connect()\n",
    "engine = create_engine(\"mysql+pymysql://root:@localhost:3306/stock\")\n",
    "const = engine.connect()\n",
    "engine = create_engine(\"sqlite:///c:\\\\ruby\\\\port_lite\\\\db\\\\development.sqlite3\")\n",
    "conlite = engine.connect()"
   ]
  },
  {
   "cell_type": "code",
   "execution_count": 3,
   "metadata": {},
   "outputs": [
    {
     "name": "stdout",
     "output_type": "stream",
     "text": [
      "today: 2025-08-28\n",
      "yesterday: 2025-08-27\n"
     ]
    }
   ],
   "source": [
    "today = date.today()\n",
    "# convert the timedelta object to a BusinessDay object\n",
    "num_business_days = BDay(1)\n",
    "yesterday = today - num_business_days\n",
    "yesterday = yesterday.date()\n",
    "print(f'today: {today}')\n",
    "print(f'yesterday: {yesterday}')"
   ]
  },
  {
   "cell_type": "code",
   "execution_count": 5,
   "metadata": {},
   "outputs": [],
   "source": [
    "# Get the user's home directory\n",
    "user_path = os.path.expanduser('~')\n",
    "# Get the current working directory\n",
    "current_path = os.getcwd()\n",
    "# Derive the base directory (base_dir) by removing the last folder ('Daily')\n",
    "base_path = os.path.dirname(current_path)\n",
    "#C:\\Users\\PC1\\OneDrive\\A5\\Data\n",
    "dat_path = os.path.join(base_path, \"Data\")\n",
    "#C:\\Users\\PC1\\Downloads\\Datasets\n",
    "dts_path = os.path.join(user_path, \"Downloads\", \"Datasets\")\n",
    "#C:\\Users\\PC1\\OneDrive\\Imports\\santisoontarinka@gmail.com - Google Drive\\Data>\n",
    "god_path = os.path.join(user_path, \"OneDrive\",\"Imports\",\"santisoontarinka@gmail.com - Google Drive\",\"Data\")\n",
    "#C:\\Users\\PC1\\iCloudDrive\\data\n",
    "icd_path = os.path.join(user_path, \"iCloudDrive\", \"Data\")\n",
    "#C:\\Users\\PC1\\OneDrive\\Documents\\obsidian-git-sync\\Data\n",
    "osd_path = os.path.join(user_path, \"OneDrive\",\"Documents\",\"obsidian-git-sync\",\"Data\")\n",
    "#C:\\Users\\PC1\\OneDrive\\A5\\Excel\n",
    "xsl_path = os.path.join(base_path, \"Excel\")"
   ]
  },
  {
   "cell_type": "code",
   "execution_count": 7,
   "metadata": {},
   "outputs": [
    {
     "name": "stdout",
     "output_type": "stream",
     "text": [
      "User path: C:\\Users\\PC1\n",
      "Current path: C:\\Users\\PC1\\OneDrive\\A5\\Daily\n",
      "Base path: C:\\Users\\PC1\\OneDrive\\A5\n",
      "Data path (dat_path): C:\\Users\\PC1\\OneDrive\\A5\\Data\n",
      "Excel path (xsl_path): C:\\Users\\PC1\\OneDrive\\A5\\Excel\n",
      "Google Drive path (god_path): C:\\Users\\PC1\\OneDrive\\Imports\\santisoontarinka@gmail.com - Google Drive\\Data\n",
      "iCloudDrive path (icd_path): C:\\Users\\PC1\\iCloudDrive\\Data\n",
      "Obsidian path (osd_path): C:\\Users\\PC1\\OneDrive\\Documents\\obsidian-git-sync\\Data\n"
     ]
    }
   ],
   "source": [
    "print(\"User path:\", user_path)\n",
    "print(f\"Current path: {current_path}\")\n",
    "print(f\"Base path: {base_path}\")\n",
    "print(f\"Data path (dat_path): {dat_path}\") \n",
    "print(f\"Excel path (xsl_path): {xsl_path}\") \n",
    "print(f\"Google Drive path (god_path): {god_path}\")\n",
    "print(f\"iCloudDrive path (icd_path): {icd_path}\") \n",
    "print(f\"Obsidian path (osd_path): {osd_path}\") "
   ]
  },
  {
   "cell_type": "code",
   "execution_count": 9,
   "metadata": {},
   "outputs": [],
   "source": [
    "format_dict = {\n",
    "    'shares':'{:,}',    \n",
    "    'price':'{:.2f}',\n",
    "    'dividend':'{:.4f}', \n",
    "    'date':'{:%Y-%m-%d}', \n",
    "    \n",
    "    'qty':'{:,}','shares':'{:,}',\n",
    "    'price':'{:.2f}','buy_price':'{:.2f}',\n",
    "    'dividend':'{:.4f}',    \n",
    "    'fee':'{:,.2f}','vat':'{:,.2f}','net':'{:,.2f}',\n",
    "  \n",
    "    'days':'{:,}',\n",
    "    'price':'{:.2f}',\n",
    "    'fee':'{:,.2f}','vat':'{:,.2f}','net':'{:,.2f}','profit':'{:,.2f}',\n",
    "    'percent':'{:,.2f}%','yearly':'{:,.2f}%',   \n",
    "    \n",
    "    'shares':'{:,}',    \n",
    "    'q4':'{:.4f}','q3':'{:.4f}','q2':'{:.4f}','q1':'{:.4f}','dividend':'{:.4f}',\n",
    "    'xdate':'{:%Y-%m-%d}','paiddate':'{:%Y-%m-%d}',\n",
    "    \n",
    "    'qty':'{:,}','available_qty':'{:,}',\n",
    "    'cost':'{:.2f}','max_price':'{:.2f}','min_price':'{:.2f}','buy_target':'{:.2f}','sell_target':'{:.2f}',\n",
    "    'volume':'{:,.2f}','beta':'{:,.2f}',\n",
    "    \n",
    "    'qty':'{:,}','available_qty':'{:,}',\n",
    "    'cost':'{:.2f}','max_price':'{:.2f}','min_price':'{:.2f}','buy_target':'{:.2f}','sell_target':'{:.2f}',\n",
    "    'volume':'{:,.2f}','beta':'{:,.2f}',\n",
    "    }"
   ]
  },
  {
   "cell_type": "code",
   "execution_count": 11,
   "metadata": {},
   "outputs": [],
   "source": [
    "def show_buy(const, name):\n",
    "    sql = \"\"\"\n",
    "    SELECT * \n",
    "    FROM buy \n",
    "    WHERE name = '{}'\n",
    "    \"\"\".format(name)\n",
    "    \n",
    "    df_buy = pd.read_sql(sql, const)\n",
    "    df_buy.drop(['volsell', 'volbal','dividend'], axis=1, inplace=True)\n",
    "    df_buy.rename(columns={'volbuy':'shares'},inplace=True)\n",
    "    df_buy['shares'] = df_buy['shares'].astype('int64')\n",
    "    return df_buy.style.format(format_dict)"
   ]
  },
  {
   "cell_type": "code",
   "execution_count": 13,
   "metadata": {},
   "outputs": [],
   "source": [
    "def show_dividend(const, name):\n",
    "    sql = \"\"\"\n",
    "    SELECT * \n",
    "    FROM dividend \n",
    "    WHERE name = '{}'\n",
    "    \"\"\".format(name)\n",
    "    \n",
    "    df_dividend = pd.read_sql(sql, const)\n",
    "    df_dividend.drop(['PRICE', 'PERCENT'], axis=1, inplace=True)\n",
    "    df_dividend.columns = df_dividend.columns.str.lower()\n",
    "    df_dividend['shares'] = df_dividend['shares'].astype('int64')\n",
    "    df_dividend['xdate'] = pd.to_datetime(df_dividend['xdate'])\n",
    "    df_dividend['paiddate'] = pd.to_datetime(df_dividend['paiddate'])\n",
    "    return df_dividend.style.format(format_dict)"
   ]
  },
  {
   "cell_type": "code",
   "execution_count": 111,
   "metadata": {},
   "outputs": [],
   "source": [
    "def show_stocks(conlite, name):\n",
    "    sql = \"\"\"\n",
    "    SELECT * \n",
    "    FROM stocks \n",
    "    WHERE name = '{}'\n",
    "    \"\"\".format(name)\n",
    "    \n",
    "    df_stocks = pd.read_sql(sql, conlite)\n",
    "    \n",
    "    # Convert bytes columns to string with error handling\n",
    "    for col in df_stocks.columns:\n",
    "        if df_stocks[col].dtype == object and len(df_stocks) > 0:\n",
    "            # Check if first value is bytes\n",
    "            first_val = df_stocks[col].iloc[0] if len(df_stocks) > 0 else None\n",
    "            if isinstance(first_val, bytes):\n",
    "                df_stocks[col] = df_stocks[col].apply(\n",
    "                    lambda x: x.decode('utf-8', errors='replace') if isinstance(x, bytes) else x\n",
    "                )\n",
    "    \n",
    "    # Ensure numeric/date columns are correctly typed\n",
    "    if 'date' in df_stocks.columns:\n",
    "        df_stocks['date'] = pd.to_datetime(df_stocks['date'], errors='coerce')\n",
    "    \n",
    "    # Create a filtered format_dict based on column types\n",
    "    filtered_format_dict = {}\n",
    "    for col, fmt in format_dict.items():\n",
    "        if col in df_stocks.columns:\n",
    "            # Check if column is numeric for numeric formatting\n",
    "            if ('{' in fmt and ('}' in fmt and (',' in fmt or '.' in fmt or '%' in fmt))):\n",
    "                if pd.api.types.is_numeric_dtype(df_stocks[col]):\n",
    "                    filtered_format_dict[col] = fmt\n",
    "            # Check if column is datetime for date formatting\n",
    "            elif '{:%' in fmt:\n",
    "                if pd.api.types.is_datetime64_any_dtype(df_stocks[col]):\n",
    "                    filtered_format_dict[col] = fmt\n",
    "            # For simple string formatting without special characters\n",
    "            else:\n",
    "                filtered_format_dict[col] = fmt\n",
    "    \n",
    "    return df_stocks.style.format(filtered_format_dict)"
   ]
  },
  {
   "cell_type": "code",
   "execution_count": 17,
   "metadata": {},
   "outputs": [],
   "source": [
    "def update_buy(const, name, new_qty, new_price):\n",
    "    # Use parameterized query to avoid SQL injection\n",
    "    sqlUpd = text(\"\"\"\n",
    "        UPDATE buy\n",
    "        SET volbuy = :new_qty,\n",
    "        price = :new_price\n",
    "        WHERE name = :name\n",
    "    \"\"\")\n",
    "    \n",
    "    # Execute the query with parameters\n",
    "    result = const.execute(sqlUpd, {\n",
    "        'new_qty': new_qty,\n",
    "        'new_price': new_price,\n",
    "        'name': name\n",
    "    })\n",
    "\n",
    "    return f\"Records updated = {result.rowcount}\""
   ]
  },
  {
   "cell_type": "code",
   "execution_count": 19,
   "metadata": {},
   "outputs": [],
   "source": [
    "def update_dividend(const, name, new_qty):\n",
    "    # Use parameterized query to avoid SQL injection\n",
    "    sqlUpd = text(\"\"\"\n",
    "        UPDATE dividend\n",
    "        SET shares = :new_qty\n",
    "        WHERE name = :name\n",
    "    \"\"\")\n",
    "    \n",
    "    # Execute the query with parameters\n",
    "    result = const.execute(sqlUpd, {\n",
    "        'new_qty': new_qty,  # Use the scalar value\n",
    "        'name': name\n",
    "    })\n",
    "\n",
    "    return f\"Records updated = {result.rowcount}\""
   ]
  },
  {
   "cell_type": "code",
   "execution_count": 21,
   "metadata": {},
   "outputs": [],
   "source": [
    "def update_stock(conlite, name, new_qty, new_unit_cost, new_buy_target, new_sell_target, new_buy_qty):  \n",
    "    # Use parameterized query to avoid SQL injection\n",
    "    sqlUpd = text(\"\"\"\n",
    "        UPDATE stocks\n",
    "        SET available_qty = :new_qty, \n",
    "            cost = :new_unit_cost,\n",
    "            buy_target = :new_buy_target,\n",
    "            sell_target = :new_sell_target,    \n",
    "            qty = :new_buy_qty\n",
    "        WHERE name = :name\n",
    "    \"\"\")    \n",
    "    # Execute the query with parameters\n",
    "    result = conlite.execute(sqlUpd, {\n",
    "        'new_qty': new_qty,  # Use the scalar value\n",
    "        'new_unit_cost': new_unit_cost, # Use the scalar value \n",
    "        'new_buy_target': new_buy_target,\n",
    "        'new_sell_target': new_sell_target,     \n",
    "        'new_buy_qty': new_buy_qty,\n",
    "        'name': name\n",
    "    })\n",
    "    return f\"Records updated = {result.rowcount}\""
   ]
  },
  {
   "cell_type": "markdown",
   "metadata": {},
   "source": [
    "### End of Definition"
   ]
  },
  {
   "cell_type": "markdown",
   "metadata": {},
   "source": [
    "## Begin of  Buy transaction  "
   ]
  },
  {
   "cell_type": "code",
   "execution_count": 24,
   "metadata": {},
   "outputs": [
    {
     "data": {
      "text/html": [
       "<style type=\"text/css\">\n",
       "</style>\n",
       "<table id=\"T_6a451\">\n",
       "  <thead>\n",
       "    <tr>\n",
       "      <th class=\"blank level0\" >&nbsp;</th>\n",
       "      <th id=\"T_6a451_level0_col0\" class=\"col_heading level0 col0\" >name</th>\n",
       "      <th id=\"T_6a451_level0_col1\" class=\"col_heading level0 col1\" >id</th>\n",
       "      <th id=\"T_6a451_level0_col2\" class=\"col_heading level0 col2\" >stock_id</th>\n",
       "      <th id=\"T_6a451_level0_col3\" class=\"col_heading level0 col3\" >date</th>\n",
       "      <th id=\"T_6a451_level0_col4\" class=\"col_heading level0 col4\" >qty</th>\n",
       "      <th id=\"T_6a451_level0_col5\" class=\"col_heading level0 col5\" >price</th>\n",
       "      <th id=\"T_6a451_level0_col6\" class=\"col_heading level0 col6\" >fee</th>\n",
       "      <th id=\"T_6a451_level0_col7\" class=\"col_heading level0 col7\" >vat</th>\n",
       "      <th id=\"T_6a451_level0_col8\" class=\"col_heading level0 col8\" >status</th>\n",
       "      <th id=\"T_6a451_level0_col9\" class=\"col_heading level0 col9\" >net</th>\n",
       "      <th id=\"T_6a451_level0_col10\" class=\"col_heading level0 col10\" >kind</th>\n",
       "      <th id=\"T_6a451_level0_col11\" class=\"col_heading level0 col11\" >chart</th>\n",
       "    </tr>\n",
       "  </thead>\n",
       "  <tbody>\n",
       "    <tr>\n",
       "      <th id=\"T_6a451_level0_row0\" class=\"row_heading level0 row0\" >0</th>\n",
       "      <td id=\"T_6a451_row0_col0\" class=\"data row0 col0\" >ORI</td>\n",
       "      <td id=\"T_6a451_row0_col1\" class=\"data row0 col1\" >1344</td>\n",
       "      <td id=\"T_6a451_row0_col2\" class=\"data row0 col2\" >125</td>\n",
       "      <td id=\"T_6a451_row0_col3\" class=\"data row0 col3\" >2025-08-18</td>\n",
       "      <td id=\"T_6a451_row0_col4\" class=\"data row0 col4\" >5,000</td>\n",
       "      <td id=\"T_6a451_row0_col5\" class=\"data row0 col5\" >2.20</td>\n",
       "      <td id=\"T_6a451_row0_col6\" class=\"data row0 col6\" >22.77</td>\n",
       "      <td id=\"T_6a451_row0_col7\" class=\"data row0 col7\" >1.59</td>\n",
       "      <td id=\"T_6a451_row0_col8\" class=\"data row0 col8\" >Sold</td>\n",
       "      <td id=\"T_6a451_row0_col9\" class=\"data row0 col9\" >11,024.36</td>\n",
       "      <td id=\"T_6a451_row0_col10\" class=\"data row0 col10\" >DTD</td>\n",
       "      <td id=\"T_6a451_row0_col11\" class=\"data row0 col11\" >None</td>\n",
       "    </tr>\n",
       "  </tbody>\n",
       "</table>\n"
      ],
      "text/plain": [
       "<pandas.io.formats.style.Styler at 0x1e9662f21b0>"
      ]
     },
     "execution_count": 24,
     "metadata": {},
     "output_type": "execute_result"
    }
   ],
   "source": [
    "sql = \"\"\"\n",
    "SELECT name, B.* \n",
    "FROM buys B\n",
    "JOIN stocks T \n",
    "ON B.stock_id = T.id\n",
    "ORDER BY id DESC\n",
    "LIMIT 1\n",
    "\"\"\"\n",
    "df_buys_latest = pd.read_sql(sql, conpf)\n",
    "df_buys_latest.style.format(format_dict)"
   ]
  },
  {
   "cell_type": "code",
   "execution_count": 26,
   "metadata": {},
   "outputs": [
    {
     "name": "stdout",
     "output_type": "stream",
     "text": [
      "B ORI 5000 2.2\n"
     ]
    }
   ],
   "source": [
    "transaction = 'B'\n",
    "\n",
    "names = df_buys_latest['name']\n",
    "name = names.to_string(index=False)\n",
    "\n",
    "sr_qty = df_buys_latest['qty']\n",
    "qty = sr_qty.to_string(index=False)\n",
    "qty = int(qty)\n",
    "\n",
    "sr_price = df_buys_latest['price']\n",
    "buy_price = sr_price.to_string(index=False)\n",
    "buy_price = float(buy_price)\n",
    "\n",
    "print(transaction, name, qty, buy_price)"
   ]
  },
  {
   "cell_type": "markdown",
   "metadata": {},
   "source": [
    "### Begin of Update buy table in MySQL database from buy transaction"
   ]
  },
  {
   "cell_type": "code",
   "execution_count": 29,
   "metadata": {},
   "outputs": [
    {
     "data": {
      "text/html": [
       "<style type=\"text/css\">\n",
       "</style>\n",
       "<table id=\"T_b5e16\">\n",
       "  <thead>\n",
       "    <tr>\n",
       "      <th class=\"blank level0\" >&nbsp;</th>\n",
       "      <th id=\"T_b5e16_level0_col0\" class=\"col_heading level0 col0\" >name</th>\n",
       "      <th id=\"T_b5e16_level0_col1\" class=\"col_heading level0 col1\" >date</th>\n",
       "      <th id=\"T_b5e16_level0_col2\" class=\"col_heading level0 col2\" >shares</th>\n",
       "      <th id=\"T_b5e16_level0_col3\" class=\"col_heading level0 col3\" >price</th>\n",
       "      <th id=\"T_b5e16_level0_col4\" class=\"col_heading level0 col4\" >active</th>\n",
       "      <th id=\"T_b5e16_level0_col5\" class=\"col_heading level0 col5\" >period</th>\n",
       "      <th id=\"T_b5e16_level0_col6\" class=\"col_heading level0 col6\" >grade</th>\n",
       "    </tr>\n",
       "  </thead>\n",
       "  <tbody>\n",
       "    <tr>\n",
       "      <th id=\"T_b5e16_level0_row0\" class=\"row_heading level0 row0\" >0</th>\n",
       "      <td id=\"T_b5e16_row0_col0\" class=\"data row0 col0\" >ORI</td>\n",
       "      <td id=\"T_b5e16_row0_col1\" class=\"data row0 col1\" >2022-04-07</td>\n",
       "      <td id=\"T_b5e16_row0_col2\" class=\"data row0 col2\" >50,000</td>\n",
       "      <td id=\"T_b5e16_row0_col3\" class=\"data row0 col3\" >9.00</td>\n",
       "      <td id=\"T_b5e16_row0_col4\" class=\"data row0 col4\" >1</td>\n",
       "      <td id=\"T_b5e16_row0_col5\" class=\"data row0 col5\" >1</td>\n",
       "      <td id=\"T_b5e16_row0_col6\" class=\"data row0 col6\" >C2</td>\n",
       "    </tr>\n",
       "  </tbody>\n",
       "</table>\n"
      ],
      "text/plain": [
       "<pandas.io.formats.style.Styler at 0x1e967399cd0>"
      ]
     },
     "execution_count": 29,
     "metadata": {},
     "output_type": "execute_result"
    }
   ],
   "source": [
    "sql = \"\"\"\n",
    "    SELECT *\n",
    "    FROM buy \n",
    "    WHERE name = '{}'\n",
    "\"\"\".format(name)\n",
    "    \n",
    "df_buy = pd.read_sql(sql, const)\n",
    "df_buy.drop(['volsell', 'volbal','dividend'], axis=1, inplace=True)\n",
    "df_buy.rename(columns={'volbuy':'shares'},inplace=True)\n",
    "df_buy['shares'] = df_buy['shares'].astype('int64')\n",
    "df_buy.style.format(format_dict)"
   ]
  },
  {
   "cell_type": "markdown",
   "metadata": {},
   "source": [
    "### In case there is the same stock name in port"
   ]
  },
  {
   "cell_type": "code",
   "execution_count": 31,
   "metadata": {},
   "outputs": [
    {
     "data": {
      "text/html": [
       "<style type=\"text/css\">\n",
       "</style>\n",
       "<table id=\"T_6e224\">\n",
       "  <thead>\n",
       "    <tr>\n",
       "      <th class=\"blank level0\" >&nbsp;</th>\n",
       "      <th id=\"T_6e224_level0_col0\" class=\"col_heading level0 col0\" >name</th>\n",
       "      <th id=\"T_6e224_level0_col1\" class=\"col_heading level0 col1\" >date</th>\n",
       "      <th id=\"T_6e224_level0_col2\" class=\"col_heading level0 col2\" >shares</th>\n",
       "      <th id=\"T_6e224_level0_col3\" class=\"col_heading level0 col3\" >price</th>\n",
       "      <th id=\"T_6e224_level0_col4\" class=\"col_heading level0 col4\" >active</th>\n",
       "      <th id=\"T_6e224_level0_col5\" class=\"col_heading level0 col5\" >period</th>\n",
       "      <th id=\"T_6e224_level0_col6\" class=\"col_heading level0 col6\" >grade</th>\n",
       "    </tr>\n",
       "  </thead>\n",
       "  <tbody>\n",
       "    <tr>\n",
       "      <th id=\"T_6e224_level0_row0\" class=\"row_heading level0 row0\" >0</th>\n",
       "      <td id=\"T_6e224_row0_col0\" class=\"data row0 col0\" >ORI</td>\n",
       "      <td id=\"T_6e224_row0_col1\" class=\"data row0 col1\" >2022-04-07</td>\n",
       "      <td id=\"T_6e224_row0_col2\" class=\"data row0 col2\" >50,000</td>\n",
       "      <td id=\"T_6e224_row0_col3\" class=\"data row0 col3\" >9.00</td>\n",
       "      <td id=\"T_6e224_row0_col4\" class=\"data row0 col4\" >1</td>\n",
       "      <td id=\"T_6e224_row0_col5\" class=\"data row0 col5\" >1</td>\n",
       "      <td id=\"T_6e224_row0_col6\" class=\"data row0 col6\" >C2</td>\n",
       "    </tr>\n",
       "  </tbody>\n",
       "</table>\n"
      ],
      "text/plain": [
       "<pandas.io.formats.style.Styler at 0x1e9673db050>"
      ]
     },
     "execution_count": 31,
     "metadata": {},
     "output_type": "execute_result"
    }
   ],
   "source": [
    "show_buy(const, name)"
   ]
  },
  {
   "cell_type": "code",
   "execution_count": 35,
   "metadata": {},
   "outputs": [
    {
     "name": "stdout",
     "output_type": "stream",
     "text": [
      "B ORI 55000 9.0\n"
     ]
    }
   ],
   "source": [
    "new_qty = int(df_buy['shares'].iloc[0] + qty)\n",
    "new_unit_cost = df_buy['price'].iloc[0] \n",
    "print(transaction, name, new_qty, new_unit_cost)"
   ]
  },
  {
   "cell_type": "code",
   "execution_count": 37,
   "metadata": {},
   "outputs": [
    {
     "data": {
      "text/plain": [
       "'Records updated = 1'"
      ]
     },
     "execution_count": 37,
     "metadata": {},
     "output_type": "execute_result"
    }
   ],
   "source": [
    "update_buy(const, name, new_qty, new_unit_cost)"
   ]
  },
  {
   "cell_type": "code",
   "execution_count": 39,
   "metadata": {},
   "outputs": [
    {
     "data": {
      "text/html": [
       "<style type=\"text/css\">\n",
       "</style>\n",
       "<table id=\"T_76f24\">\n",
       "  <thead>\n",
       "    <tr>\n",
       "      <th class=\"blank level0\" >&nbsp;</th>\n",
       "      <th id=\"T_76f24_level0_col0\" class=\"col_heading level0 col0\" >name</th>\n",
       "      <th id=\"T_76f24_level0_col1\" class=\"col_heading level0 col1\" >date</th>\n",
       "      <th id=\"T_76f24_level0_col2\" class=\"col_heading level0 col2\" >shares</th>\n",
       "      <th id=\"T_76f24_level0_col3\" class=\"col_heading level0 col3\" >price</th>\n",
       "      <th id=\"T_76f24_level0_col4\" class=\"col_heading level0 col4\" >active</th>\n",
       "      <th id=\"T_76f24_level0_col5\" class=\"col_heading level0 col5\" >period</th>\n",
       "      <th id=\"T_76f24_level0_col6\" class=\"col_heading level0 col6\" >grade</th>\n",
       "    </tr>\n",
       "  </thead>\n",
       "  <tbody>\n",
       "    <tr>\n",
       "      <th id=\"T_76f24_level0_row0\" class=\"row_heading level0 row0\" >0</th>\n",
       "      <td id=\"T_76f24_row0_col0\" class=\"data row0 col0\" >ORI</td>\n",
       "      <td id=\"T_76f24_row0_col1\" class=\"data row0 col1\" >2022-04-07</td>\n",
       "      <td id=\"T_76f24_row0_col2\" class=\"data row0 col2\" >55,000</td>\n",
       "      <td id=\"T_76f24_row0_col3\" class=\"data row0 col3\" >9.00</td>\n",
       "      <td id=\"T_76f24_row0_col4\" class=\"data row0 col4\" >1</td>\n",
       "      <td id=\"T_76f24_row0_col5\" class=\"data row0 col5\" >1</td>\n",
       "      <td id=\"T_76f24_row0_col6\" class=\"data row0 col6\" >C2</td>\n",
       "    </tr>\n",
       "  </tbody>\n",
       "</table>\n"
      ],
      "text/plain": [
       "<pandas.io.formats.style.Styler at 0x1e9670f21b0>"
      ]
     },
     "execution_count": 39,
     "metadata": {},
     "output_type": "execute_result"
    }
   ],
   "source": [
    "show_buy(const, name)"
   ]
  },
  {
   "cell_type": "markdown",
   "metadata": {},
   "source": [
    "### In case of totally new stock"
   ]
  },
  {
   "cell_type": "code",
   "execution_count": 24,
   "metadata": {},
   "outputs": [],
   "source": [
    "if df_buy.empty:\n",
    "    rcd = {\n",
    "        'name': 'CPF',\n",
    "        'date': '2025-08-21',\n",
    "        'volbuy': 4000,\n",
    "        'price': 24.1,\n",
    "        'volsell': 0,\n",
    "        'volbal': 0,\n",
    "        'active': 1,\n",
    "        'dividend': 0,\n",
    "        'period': 4,\n",
    "        'grade': 'A1'\n",
    "    }\n",
    "    sqlIns = text(\"\"\"\n",
    "    INSERT INTO buy (name, date, volbuy, price, volsell, volbal, active, dividend, period, grade)\n",
    "    VALUES (:name, :date, :volbuy, :price, :volsell, :volbal, :active, :dividend, :period, :grade)\n",
    "    \"\"\")\n",
    "    result = const.execute(sqlIns, rcd)\n",
    "    result.rowcount"
   ]
  },
  {
   "cell_type": "code",
   "execution_count": 25,
   "metadata": {},
   "outputs": [
    {
     "data": {
      "text/html": [
       "<style type=\"text/css\">\n",
       "</style>\n",
       "<table id=\"T_1c973\">\n",
       "  <thead>\n",
       "    <tr>\n",
       "      <th class=\"blank level0\" >&nbsp;</th>\n",
       "      <th id=\"T_1c973_level0_col0\" class=\"col_heading level0 col0\" >name</th>\n",
       "      <th id=\"T_1c973_level0_col1\" class=\"col_heading level0 col1\" >date</th>\n",
       "      <th id=\"T_1c973_level0_col2\" class=\"col_heading level0 col2\" >shares</th>\n",
       "      <th id=\"T_1c973_level0_col3\" class=\"col_heading level0 col3\" >price</th>\n",
       "      <th id=\"T_1c973_level0_col4\" class=\"col_heading level0 col4\" >active</th>\n",
       "      <th id=\"T_1c973_level0_col5\" class=\"col_heading level0 col5\" >period</th>\n",
       "      <th id=\"T_1c973_level0_col6\" class=\"col_heading level0 col6\" >grade</th>\n",
       "    </tr>\n",
       "  </thead>\n",
       "  <tbody>\n",
       "    <tr>\n",
       "      <th id=\"T_1c973_level0_row0\" class=\"row_heading level0 row0\" >0</th>\n",
       "      <td id=\"T_1c973_row0_col0\" class=\"data row0 col0\" >CPF</td>\n",
       "      <td id=\"T_1c973_row0_col1\" class=\"data row0 col1\" >2025-08-21</td>\n",
       "      <td id=\"T_1c973_row0_col2\" class=\"data row0 col2\" >5,000</td>\n",
       "      <td id=\"T_1c973_row0_col3\" class=\"data row0 col3\" >24.10</td>\n",
       "      <td id=\"T_1c973_row0_col4\" class=\"data row0 col4\" >1</td>\n",
       "      <td id=\"T_1c973_row0_col5\" class=\"data row0 col5\" >4</td>\n",
       "      <td id=\"T_1c973_row0_col6\" class=\"data row0 col6\" >A1</td>\n",
       "    </tr>\n",
       "  </tbody>\n",
       "</table>\n"
      ],
      "text/plain": [
       "<pandas.io.formats.style.Styler at 0x1fee1e6b530>"
      ]
     },
     "execution_count": 25,
     "metadata": {},
     "output_type": "execute_result"
    }
   ],
   "source": [
    "show_buy(const, name)"
   ]
  },
  {
   "cell_type": "markdown",
   "metadata": {},
   "source": [
    "### End of Update buy table in MySQL database from buy transaction"
   ]
  },
  {
   "cell_type": "markdown",
   "metadata": {},
   "source": [
    "### Begin of Update dividend table in MySQL stock database from buy transaction"
   ]
  },
  {
   "cell_type": "code",
   "execution_count": 41,
   "metadata": {},
   "outputs": [
    {
     "data": {
      "text/html": [
       "<style type=\"text/css\">\n",
       "</style>\n",
       "<table id=\"T_dcf15\">\n",
       "  <thead>\n",
       "    <tr>\n",
       "      <th class=\"blank level0\" >&nbsp;</th>\n",
       "      <th id=\"T_dcf15_level0_col0\" class=\"col_heading level0 col0\" >name</th>\n",
       "      <th id=\"T_dcf15_level0_col1\" class=\"col_heading level0 col1\" >q4</th>\n",
       "      <th id=\"T_dcf15_level0_col2\" class=\"col_heading level0 col2\" >q3</th>\n",
       "      <th id=\"T_dcf15_level0_col3\" class=\"col_heading level0 col3\" >q2</th>\n",
       "      <th id=\"T_dcf15_level0_col4\" class=\"col_heading level0 col4\" >q1</th>\n",
       "      <th id=\"T_dcf15_level0_col5\" class=\"col_heading level0 col5\" >dividend</th>\n",
       "      <th id=\"T_dcf15_level0_col6\" class=\"col_heading level0 col6\" >price</th>\n",
       "      <th id=\"T_dcf15_level0_col7\" class=\"col_heading level0 col7\" >percent</th>\n",
       "      <th id=\"T_dcf15_level0_col8\" class=\"col_heading level0 col8\" >shares</th>\n",
       "      <th id=\"T_dcf15_level0_col9\" class=\"col_heading level0 col9\" >xdate</th>\n",
       "      <th id=\"T_dcf15_level0_col10\" class=\"col_heading level0 col10\" >paiddate</th>\n",
       "      <th id=\"T_dcf15_level0_col11\" class=\"col_heading level0 col11\" >kind</th>\n",
       "      <th id=\"T_dcf15_level0_col12\" class=\"col_heading level0 col12\" >actual</th>\n",
       "    </tr>\n",
       "  </thead>\n",
       "  <tbody>\n",
       "    <tr>\n",
       "      <th id=\"T_dcf15_level0_row0\" class=\"row_heading level0 row0\" >0</th>\n",
       "      <td id=\"T_dcf15_row0_col0\" class=\"data row0 col0\" >ORI</td>\n",
       "      <td id=\"T_dcf15_row0_col1\" class=\"data row0 col1\" >0.0000</td>\n",
       "      <td id=\"T_dcf15_row0_col2\" class=\"data row0 col2\" >0.0210</td>\n",
       "      <td id=\"T_dcf15_row0_col3\" class=\"data row0 col3\" >0.0000</td>\n",
       "      <td id=\"T_dcf15_row0_col4\" class=\"data row0 col4\" >0.0000</td>\n",
       "      <td id=\"T_dcf15_row0_col5\" class=\"data row0 col5\" >0.0210</td>\n",
       "      <td id=\"T_dcf15_row0_col6\" class=\"data row0 col6\" >0.00</td>\n",
       "      <td id=\"T_dcf15_row0_col7\" class=\"data row0 col7\" >0.00%</td>\n",
       "      <td id=\"T_dcf15_row0_col8\" class=\"data row0 col8\" >50,000</td>\n",
       "      <td id=\"T_dcf15_row0_col9\" class=\"data row0 col9\" >2025-03-13</td>\n",
       "      <td id=\"T_dcf15_row0_col10\" class=\"data row0 col10\" >2025-05-23</td>\n",
       "      <td id=\"T_dcf15_row0_col11\" class=\"data row0 col11\" ></td>\n",
       "      <td id=\"T_dcf15_row0_col12\" class=\"data row0 col12\" >0</td>\n",
       "    </tr>\n",
       "  </tbody>\n",
       "</table>\n"
      ],
      "text/plain": [
       "<pandas.io.formats.style.Styler at 0x1e967417d10>"
      ]
     },
     "execution_count": 41,
     "metadata": {},
     "output_type": "execute_result"
    }
   ],
   "source": [
    "sql = \"\"\"\n",
    "    SELECT * \n",
    "    FROM dividend \n",
    "    WHERE name = '{}'\n",
    "\"\"\".format(name)\n",
    "    \n",
    "df_dividend = pd.read_sql(sql, const)\n",
    "df_dividend.columns = df_dividend.columns.str.lower()\n",
    "df_dividend['shares'] = df_dividend['shares'].astype('int64')\n",
    "\n",
    "df_dividend.style.format(format_dict)"
   ]
  },
  {
   "cell_type": "code",
   "execution_count": 43,
   "metadata": {},
   "outputs": [
    {
     "data": {
      "text/html": [
       "<style type=\"text/css\">\n",
       "</style>\n",
       "<table id=\"T_411bd\">\n",
       "  <thead>\n",
       "    <tr>\n",
       "      <th class=\"blank level0\" >&nbsp;</th>\n",
       "      <th id=\"T_411bd_level0_col0\" class=\"col_heading level0 col0\" >name</th>\n",
       "      <th id=\"T_411bd_level0_col1\" class=\"col_heading level0 col1\" >q4</th>\n",
       "      <th id=\"T_411bd_level0_col2\" class=\"col_heading level0 col2\" >q3</th>\n",
       "      <th id=\"T_411bd_level0_col3\" class=\"col_heading level0 col3\" >q2</th>\n",
       "      <th id=\"T_411bd_level0_col4\" class=\"col_heading level0 col4\" >q1</th>\n",
       "      <th id=\"T_411bd_level0_col5\" class=\"col_heading level0 col5\" >dividend</th>\n",
       "      <th id=\"T_411bd_level0_col6\" class=\"col_heading level0 col6\" >shares</th>\n",
       "      <th id=\"T_411bd_level0_col7\" class=\"col_heading level0 col7\" >xdate</th>\n",
       "      <th id=\"T_411bd_level0_col8\" class=\"col_heading level0 col8\" >paiddate</th>\n",
       "      <th id=\"T_411bd_level0_col9\" class=\"col_heading level0 col9\" >kind</th>\n",
       "      <th id=\"T_411bd_level0_col10\" class=\"col_heading level0 col10\" >actual</th>\n",
       "    </tr>\n",
       "  </thead>\n",
       "  <tbody>\n",
       "    <tr>\n",
       "      <th id=\"T_411bd_level0_row0\" class=\"row_heading level0 row0\" >0</th>\n",
       "      <td id=\"T_411bd_row0_col0\" class=\"data row0 col0\" >ORI</td>\n",
       "      <td id=\"T_411bd_row0_col1\" class=\"data row0 col1\" >0.0000</td>\n",
       "      <td id=\"T_411bd_row0_col2\" class=\"data row0 col2\" >0.0210</td>\n",
       "      <td id=\"T_411bd_row0_col3\" class=\"data row0 col3\" >0.0000</td>\n",
       "      <td id=\"T_411bd_row0_col4\" class=\"data row0 col4\" >0.0000</td>\n",
       "      <td id=\"T_411bd_row0_col5\" class=\"data row0 col5\" >0.0210</td>\n",
       "      <td id=\"T_411bd_row0_col6\" class=\"data row0 col6\" >50,000</td>\n",
       "      <td id=\"T_411bd_row0_col7\" class=\"data row0 col7\" >2025-03-13</td>\n",
       "      <td id=\"T_411bd_row0_col8\" class=\"data row0 col8\" >2025-05-23</td>\n",
       "      <td id=\"T_411bd_row0_col9\" class=\"data row0 col9\" ></td>\n",
       "      <td id=\"T_411bd_row0_col10\" class=\"data row0 col10\" >0</td>\n",
       "    </tr>\n",
       "  </tbody>\n",
       "</table>\n"
      ],
      "text/plain": [
       "<pandas.io.formats.style.Styler at 0x1e9664f32c0>"
      ]
     },
     "execution_count": 43,
     "metadata": {},
     "output_type": "execute_result"
    }
   ],
   "source": [
    "show_dividend(const, name)"
   ]
  },
  {
   "cell_type": "code",
   "execution_count": 45,
   "metadata": {},
   "outputs": [
    {
     "name": "stdout",
     "output_type": "stream",
     "text": [
      "ORI 55000\n"
     ]
    }
   ],
   "source": [
    "new_qty = df_dividend['shares'].iloc[0] + qty\n",
    "print(name, new_qty)"
   ]
  },
  {
   "cell_type": "code",
   "execution_count": 47,
   "metadata": {},
   "outputs": [
    {
     "data": {
      "text/plain": [
       "'Records updated = 1'"
      ]
     },
     "execution_count": 47,
     "metadata": {},
     "output_type": "execute_result"
    }
   ],
   "source": [
    "update_dividend(const, name, new_qty)"
   ]
  },
  {
   "cell_type": "code",
   "execution_count": 49,
   "metadata": {},
   "outputs": [
    {
     "data": {
      "text/html": [
       "<style type=\"text/css\">\n",
       "</style>\n",
       "<table id=\"T_4de35\">\n",
       "  <thead>\n",
       "    <tr>\n",
       "      <th class=\"blank level0\" >&nbsp;</th>\n",
       "      <th id=\"T_4de35_level0_col0\" class=\"col_heading level0 col0\" >name</th>\n",
       "      <th id=\"T_4de35_level0_col1\" class=\"col_heading level0 col1\" >q4</th>\n",
       "      <th id=\"T_4de35_level0_col2\" class=\"col_heading level0 col2\" >q3</th>\n",
       "      <th id=\"T_4de35_level0_col3\" class=\"col_heading level0 col3\" >q2</th>\n",
       "      <th id=\"T_4de35_level0_col4\" class=\"col_heading level0 col4\" >q1</th>\n",
       "      <th id=\"T_4de35_level0_col5\" class=\"col_heading level0 col5\" >dividend</th>\n",
       "      <th id=\"T_4de35_level0_col6\" class=\"col_heading level0 col6\" >shares</th>\n",
       "      <th id=\"T_4de35_level0_col7\" class=\"col_heading level0 col7\" >xdate</th>\n",
       "      <th id=\"T_4de35_level0_col8\" class=\"col_heading level0 col8\" >paiddate</th>\n",
       "      <th id=\"T_4de35_level0_col9\" class=\"col_heading level0 col9\" >kind</th>\n",
       "      <th id=\"T_4de35_level0_col10\" class=\"col_heading level0 col10\" >actual</th>\n",
       "    </tr>\n",
       "  </thead>\n",
       "  <tbody>\n",
       "    <tr>\n",
       "      <th id=\"T_4de35_level0_row0\" class=\"row_heading level0 row0\" >0</th>\n",
       "      <td id=\"T_4de35_row0_col0\" class=\"data row0 col0\" >ORI</td>\n",
       "      <td id=\"T_4de35_row0_col1\" class=\"data row0 col1\" >0.0000</td>\n",
       "      <td id=\"T_4de35_row0_col2\" class=\"data row0 col2\" >0.0210</td>\n",
       "      <td id=\"T_4de35_row0_col3\" class=\"data row0 col3\" >0.0000</td>\n",
       "      <td id=\"T_4de35_row0_col4\" class=\"data row0 col4\" >0.0000</td>\n",
       "      <td id=\"T_4de35_row0_col5\" class=\"data row0 col5\" >0.0210</td>\n",
       "      <td id=\"T_4de35_row0_col6\" class=\"data row0 col6\" >55,000</td>\n",
       "      <td id=\"T_4de35_row0_col7\" class=\"data row0 col7\" >2025-03-13</td>\n",
       "      <td id=\"T_4de35_row0_col8\" class=\"data row0 col8\" >2025-05-23</td>\n",
       "      <td id=\"T_4de35_row0_col9\" class=\"data row0 col9\" ></td>\n",
       "      <td id=\"T_4de35_row0_col10\" class=\"data row0 col10\" >0</td>\n",
       "    </tr>\n",
       "  </tbody>\n",
       "</table>\n"
      ],
      "text/plain": [
       "<pandas.io.formats.style.Styler at 0x1e967414920>"
      ]
     },
     "execution_count": 49,
     "metadata": {},
     "output_type": "execute_result"
    }
   ],
   "source": [
    "show_dividend(const, name)"
   ]
  },
  {
   "cell_type": "markdown",
   "metadata": {},
   "source": [
    "### In case of totally new dividend"
   ]
  },
  {
   "cell_type": "code",
   "execution_count": 34,
   "metadata": {},
   "outputs": [],
   "source": [
    "if df_dividend.empty:\n",
    "    rcd = {\n",
    "        'name': 'CPF',\n",
    "        'q4': '0',\n",
    "        'q3': '0',\n",
    "        'q2': '1.00',\n",
    "        'q1': '0',    \n",
    "        'dividend': '1.00',      \n",
    "        'shares': 4000,\n",
    "        'xdate': '2025-08-29',\n",
    "        'paiddate': '2025-09-12',\n",
    "        'kind': ' ',\n",
    "        'actual': 1\n",
    "    }\n",
    "    sqlIns = text(\"\"\"\n",
    "    INSERT INTO dividend (name, q4, q3, q2, q1, dividend, shares, xdate, paiddate, kind, actual)\n",
    "    VALUES (:name, :q4, :q3, :q2, :q1, :dividend, :shares, :xdate, :paiddate, :kind, :actual)\n",
    "    \"\"\")\n",
    "    print(sqlIns)"
   ]
  },
  {
   "cell_type": "code",
   "execution_count": 35,
   "metadata": {},
   "outputs": [],
   "source": [
    "if df_dividend.empty:\n",
    "    result = const.execute(sqlIns, rcd)\n",
    "    result.rowcount"
   ]
  },
  {
   "cell_type": "code",
   "execution_count": 36,
   "metadata": {},
   "outputs": [
    {
     "data": {
      "text/html": [
       "<style type=\"text/css\">\n",
       "</style>\n",
       "<table id=\"T_6d914\">\n",
       "  <thead>\n",
       "    <tr>\n",
       "      <th class=\"blank level0\" >&nbsp;</th>\n",
       "      <th id=\"T_6d914_level0_col0\" class=\"col_heading level0 col0\" >name</th>\n",
       "      <th id=\"T_6d914_level0_col1\" class=\"col_heading level0 col1\" >q4</th>\n",
       "      <th id=\"T_6d914_level0_col2\" class=\"col_heading level0 col2\" >q3</th>\n",
       "      <th id=\"T_6d914_level0_col3\" class=\"col_heading level0 col3\" >q2</th>\n",
       "      <th id=\"T_6d914_level0_col4\" class=\"col_heading level0 col4\" >q1</th>\n",
       "      <th id=\"T_6d914_level0_col5\" class=\"col_heading level0 col5\" >dividend</th>\n",
       "      <th id=\"T_6d914_level0_col6\" class=\"col_heading level0 col6\" >shares</th>\n",
       "      <th id=\"T_6d914_level0_col7\" class=\"col_heading level0 col7\" >xdate</th>\n",
       "      <th id=\"T_6d914_level0_col8\" class=\"col_heading level0 col8\" >paiddate</th>\n",
       "      <th id=\"T_6d914_level0_col9\" class=\"col_heading level0 col9\" >kind</th>\n",
       "      <th id=\"T_6d914_level0_col10\" class=\"col_heading level0 col10\" >actual</th>\n",
       "    </tr>\n",
       "  </thead>\n",
       "  <tbody>\n",
       "    <tr>\n",
       "      <th id=\"T_6d914_level0_row0\" class=\"row_heading level0 row0\" >0</th>\n",
       "      <td id=\"T_6d914_row0_col0\" class=\"data row0 col0\" >CPF</td>\n",
       "      <td id=\"T_6d914_row0_col1\" class=\"data row0 col1\" >0.5500</td>\n",
       "      <td id=\"T_6d914_row0_col2\" class=\"data row0 col2\" >0.0000</td>\n",
       "      <td id=\"T_6d914_row0_col3\" class=\"data row0 col3\" >1.0000</td>\n",
       "      <td id=\"T_6d914_row0_col4\" class=\"data row0 col4\" >0.0000</td>\n",
       "      <td id=\"T_6d914_row0_col5\" class=\"data row0 col5\" >1.5500</td>\n",
       "      <td id=\"T_6d914_row0_col6\" class=\"data row0 col6\" >-5,000</td>\n",
       "      <td id=\"T_6d914_row0_col7\" class=\"data row0 col7\" >2025-08-29</td>\n",
       "      <td id=\"T_6d914_row0_col8\" class=\"data row0 col8\" >2025-09-12</td>\n",
       "      <td id=\"T_6d914_row0_col9\" class=\"data row0 col9\" ></td>\n",
       "      <td id=\"T_6d914_row0_col10\" class=\"data row0 col10\" >1</td>\n",
       "    </tr>\n",
       "  </tbody>\n",
       "</table>\n"
      ],
      "text/plain": [
       "<pandas.io.formats.style.Styler at 0x1fede09ff80>"
      ]
     },
     "execution_count": 36,
     "metadata": {},
     "output_type": "execute_result"
    }
   ],
   "source": [
    "show_dividend(const, name)"
   ]
  },
  {
   "cell_type": "markdown",
   "metadata": {},
   "source": [
    "### Begin of Update stocks table in SQLite port_lite database from buy transaction"
   ]
  },
  {
   "cell_type": "code",
   "execution_count": 95,
   "metadata": {},
   "outputs": [
    {
     "data": {
      "text/html": [
       "<div>\n",
       "<style scoped>\n",
       "    .dataframe tbody tr th:only-of-type {\n",
       "        vertical-align: middle;\n",
       "    }\n",
       "\n",
       "    .dataframe tbody tr th {\n",
       "        vertical-align: top;\n",
       "    }\n",
       "\n",
       "    .dataframe thead th {\n",
       "        text-align: right;\n",
       "    }\n",
       "</style>\n",
       "<table border=\"1\" class=\"dataframe\">\n",
       "  <thead>\n",
       "    <tr style=\"text-align: right;\">\n",
       "      <th></th>\n",
       "      <th>name</th>\n",
       "      <th>cost</th>\n",
       "      <th>available_qty</th>\n",
       "    </tr>\n",
       "  </thead>\n",
       "  <tbody>\n",
       "    <tr>\n",
       "      <th>0</th>\n",
       "      <td>ORI</td>\n",
       "      <td>9.0</td>\n",
       "      <td>50000</td>\n",
       "    </tr>\n",
       "  </tbody>\n",
       "</table>\n",
       "</div>"
      ],
      "text/plain": [
       "  name  cost  available_qty\n",
       "0  ORI   9.0          50000"
      ]
     },
     "execution_count": 95,
     "metadata": {},
     "output_type": "execute_result"
    }
   ],
   "source": [
    "sql = \"\"\"\n",
    "    SELECT name, cost, available_qty\n",
    "    FROM stocks\n",
    "    WHERE name = '{}'\n",
    "\"\"\".format(name)\n",
    "\n",
    "df_stocks_tmp = pd.read_sql(sql, conlite)\n",
    "df_stocks_tmp['available_qty'] = df_stocks['available_qty'].astype('int64')\n",
    "df_stocks_tmp"
   ]
  },
  {
   "cell_type": "code",
   "execution_count": 55,
   "metadata": {},
   "outputs": [
    {
     "data": {
      "text/html": [
       "<style type=\"text/css\">\n",
       "</style>\n",
       "<table id=\"T_7717f\">\n",
       "  <thead>\n",
       "    <tr>\n",
       "      <th class=\"blank level0\" >&nbsp;</th>\n",
       "      <th id=\"T_7717f_level0_col0\" class=\"col_heading level0 col0\" >id</th>\n",
       "      <th id=\"T_7717f_level0_col1\" class=\"col_heading level0 col1\" >name</th>\n",
       "      <th id=\"T_7717f_level0_col2\" class=\"col_heading level0 col2\" >max_price</th>\n",
       "      <th id=\"T_7717f_level0_col3\" class=\"col_heading level0 col3\" >min_price</th>\n",
       "      <th id=\"T_7717f_level0_col4\" class=\"col_heading level0 col4\" >status</th>\n",
       "      <th id=\"T_7717f_level0_col5\" class=\"col_heading level0 col5\" >buy_target</th>\n",
       "      <th id=\"T_7717f_level0_col6\" class=\"col_heading level0 col6\" >sell_target</th>\n",
       "      <th id=\"T_7717f_level0_col7\" class=\"col_heading level0 col7\" >volume</th>\n",
       "      <th id=\"T_7717f_level0_col8\" class=\"col_heading level0 col8\" >beta</th>\n",
       "      <th id=\"T_7717f_level0_col9\" class=\"col_heading level0 col9\" >cost</th>\n",
       "      <th id=\"T_7717f_level0_col10\" class=\"col_heading level0 col10\" >qty</th>\n",
       "      <th id=\"T_7717f_level0_col11\" class=\"col_heading level0 col11\" >buy_spread</th>\n",
       "      <th id=\"T_7717f_level0_col12\" class=\"col_heading level0 col12\" >sell_spread</th>\n",
       "      <th id=\"T_7717f_level0_col13\" class=\"col_heading level0 col13\" >available_qty</th>\n",
       "      <th id=\"T_7717f_level0_col14\" class=\"col_heading level0 col14\" >bl</th>\n",
       "      <th id=\"T_7717f_level0_col15\" class=\"col_heading level0 col15\" >sh</th>\n",
       "      <th id=\"T_7717f_level0_col16\" class=\"col_heading level0 col16\" >reason</th>\n",
       "      <th id=\"T_7717f_level0_col17\" class=\"col_heading level0 col17\" >market</th>\n",
       "    </tr>\n",
       "  </thead>\n",
       "  <tbody>\n",
       "    <tr>\n",
       "      <th id=\"T_7717f_level0_row0\" class=\"row_heading level0 row0\" >0</th>\n",
       "      <td id=\"T_7717f_row0_col0\" class=\"data row0 col0\" >116</td>\n",
       "      <td id=\"T_7717f_row0_col1\" class=\"data row0 col1\" >ORI</td>\n",
       "      <td id=\"T_7717f_row0_col2\" class=\"data row0 col2\" >0.00</td>\n",
       "      <td id=\"T_7717f_row0_col3\" class=\"data row0 col3\" >0.00</td>\n",
       "      <td id=\"T_7717f_row0_col4\" class=\"data row0 col4\" >B</td>\n",
       "      <td id=\"T_7717f_row0_col5\" class=\"data row0 col5\" >2.20</td>\n",
       "      <td id=\"T_7717f_row0_col6\" class=\"data row0 col6\" >1.90</td>\n",
       "      <td id=\"T_7717f_row0_col7\" class=\"data row0 col7\" >0.00</td>\n",
       "      <td id=\"T_7717f_row0_col8\" class=\"data row0 col8\" >0.00</td>\n",
       "      <td id=\"T_7717f_row0_col9\" class=\"data row0 col9\" >9.00</td>\n",
       "      <td id=\"T_7717f_row0_col10\" class=\"data row0 col10\" >5,000</td>\n",
       "      <td id=\"T_7717f_row0_col11\" class=\"data row0 col11\" >-4</td>\n",
       "      <td id=\"T_7717f_row0_col12\" class=\"data row0 col12\" >4</td>\n",
       "      <td id=\"T_7717f_row0_col13\" class=\"data row0 col13\" >50,000</td>\n",
       "      <td id=\"T_7717f_row0_col14\" class=\"data row0 col14\" >0.000000</td>\n",
       "      <td id=\"T_7717f_row0_col15\" class=\"data row0 col15\" >0.000000</td>\n",
       "      <td id=\"T_7717f_row0_col16\" class=\"data row0 col16\" >RD70Pct</td>\n",
       "      <td id=\"T_7717f_row0_col17\" class=\"data row0 col17\" >SET100</td>\n",
       "    </tr>\n",
       "  </tbody>\n",
       "</table>\n"
      ],
      "text/plain": [
       "<pandas.io.formats.style.Styler at 0x1e967436f90>"
      ]
     },
     "execution_count": 55,
     "metadata": {},
     "output_type": "execute_result"
    }
   ],
   "source": [
    "show_stocks(conlite, name)"
   ]
  },
  {
   "cell_type": "code",
   "execution_count": 117,
   "metadata": {},
   "outputs": [
    {
     "data": {
      "text/plain": [
       "55000"
      ]
     },
     "execution_count": 117,
     "metadata": {},
     "output_type": "execute_result"
    }
   ],
   "source": [
    "new_qty = int(df_stocks_tmp['available_qty'].iloc[0] + qty)\n",
    "new_qty"
   ]
  },
  {
   "cell_type": "code",
   "execution_count": 101,
   "metadata": {},
   "outputs": [
    {
     "data": {
      "text/plain": [
       "9.0"
      ]
     },
     "execution_count": 101,
     "metadata": {},
     "output_type": "execute_result"
    }
   ],
   "source": [
    "new_unit_cost = df_stocks_tmp['cost'].iloc[0]\n",
    "new_unit_cost"
   ]
  },
  {
   "cell_type": "code",
   "execution_count": 119,
   "metadata": {},
   "outputs": [
    {
     "name": "stdout",
     "output_type": "stream",
     "text": [
      "B ORI 55000 9.0 2.0 9.0 10000\n"
     ]
    }
   ],
   "source": [
    "new_buy_target = 2.00\n",
    "new_sell_target = 9.00\n",
    "new_buy_qty = 10_000\n",
    "print(transaction, name, new_qty, new_unit_cost, new_buy_target, new_sell_target, new_buy_qty)"
   ]
  },
  {
   "cell_type": "code",
   "execution_count": 121,
   "metadata": {},
   "outputs": [
    {
     "data": {
      "text/plain": [
       "'Records updated = 1'"
      ]
     },
     "execution_count": 121,
     "metadata": {},
     "output_type": "execute_result"
    }
   ],
   "source": [
    "update_stock(conlite, name, new_qty, new_unit_cost, new_buy_target, new_sell_target, new_buy_qty)"
   ]
  },
  {
   "cell_type": "code",
   "execution_count": 123,
   "metadata": {},
   "outputs": [
    {
     "data": {
      "text/html": [
       "<style type=\"text/css\">\n",
       "</style>\n",
       "<table id=\"T_b7bb1\">\n",
       "  <thead>\n",
       "    <tr>\n",
       "      <th class=\"blank level0\" >&nbsp;</th>\n",
       "      <th id=\"T_b7bb1_level0_col0\" class=\"col_heading level0 col0\" >id</th>\n",
       "      <th id=\"T_b7bb1_level0_col1\" class=\"col_heading level0 col1\" >name</th>\n",
       "      <th id=\"T_b7bb1_level0_col2\" class=\"col_heading level0 col2\" >max_price</th>\n",
       "      <th id=\"T_b7bb1_level0_col3\" class=\"col_heading level0 col3\" >min_price</th>\n",
       "      <th id=\"T_b7bb1_level0_col4\" class=\"col_heading level0 col4\" >status</th>\n",
       "      <th id=\"T_b7bb1_level0_col5\" class=\"col_heading level0 col5\" >buy_target</th>\n",
       "      <th id=\"T_b7bb1_level0_col6\" class=\"col_heading level0 col6\" >sell_target</th>\n",
       "      <th id=\"T_b7bb1_level0_col7\" class=\"col_heading level0 col7\" >volume</th>\n",
       "      <th id=\"T_b7bb1_level0_col8\" class=\"col_heading level0 col8\" >beta</th>\n",
       "      <th id=\"T_b7bb1_level0_col9\" class=\"col_heading level0 col9\" >cost</th>\n",
       "      <th id=\"T_b7bb1_level0_col10\" class=\"col_heading level0 col10\" >qty</th>\n",
       "      <th id=\"T_b7bb1_level0_col11\" class=\"col_heading level0 col11\" >buy_spread</th>\n",
       "      <th id=\"T_b7bb1_level0_col12\" class=\"col_heading level0 col12\" >sell_spread</th>\n",
       "      <th id=\"T_b7bb1_level0_col13\" class=\"col_heading level0 col13\" >available_qty</th>\n",
       "      <th id=\"T_b7bb1_level0_col14\" class=\"col_heading level0 col14\" >bl</th>\n",
       "      <th id=\"T_b7bb1_level0_col15\" class=\"col_heading level0 col15\" >sh</th>\n",
       "      <th id=\"T_b7bb1_level0_col16\" class=\"col_heading level0 col16\" >reason</th>\n",
       "      <th id=\"T_b7bb1_level0_col17\" class=\"col_heading level0 col17\" >market</th>\n",
       "    </tr>\n",
       "  </thead>\n",
       "  <tbody>\n",
       "    <tr>\n",
       "      <th id=\"T_b7bb1_level0_row0\" class=\"row_heading level0 row0\" >0</th>\n",
       "      <td id=\"T_b7bb1_row0_col0\" class=\"data row0 col0\" >116</td>\n",
       "      <td id=\"T_b7bb1_row0_col1\" class=\"data row0 col1\" >ORI</td>\n",
       "      <td id=\"T_b7bb1_row0_col2\" class=\"data row0 col2\" >0.00</td>\n",
       "      <td id=\"T_b7bb1_row0_col3\" class=\"data row0 col3\" >0.00</td>\n",
       "      <td id=\"T_b7bb1_row0_col4\" class=\"data row0 col4\" >B</td>\n",
       "      <td id=\"T_b7bb1_row0_col5\" class=\"data row0 col5\" >2.00</td>\n",
       "      <td id=\"T_b7bb1_row0_col6\" class=\"data row0 col6\" >9.00</td>\n",
       "      <td id=\"T_b7bb1_row0_col7\" class=\"data row0 col7\" >0.00</td>\n",
       "      <td id=\"T_b7bb1_row0_col8\" class=\"data row0 col8\" >0.00</td>\n",
       "      <td id=\"T_b7bb1_row0_col9\" class=\"data row0 col9\" >9.00</td>\n",
       "      <td id=\"T_b7bb1_row0_col10\" class=\"data row0 col10\" >10,000</td>\n",
       "      <td id=\"T_b7bb1_row0_col11\" class=\"data row0 col11\" >-4</td>\n",
       "      <td id=\"T_b7bb1_row0_col12\" class=\"data row0 col12\" >4</td>\n",
       "      <td id=\"T_b7bb1_row0_col13\" class=\"data row0 col13\" >55,000</td>\n",
       "      <td id=\"T_b7bb1_row0_col14\" class=\"data row0 col14\" >0.000000</td>\n",
       "      <td id=\"T_b7bb1_row0_col15\" class=\"data row0 col15\" >0.000000</td>\n",
       "      <td id=\"T_b7bb1_row0_col16\" class=\"data row0 col16\" >RD70Pct</td>\n",
       "      <td id=\"T_b7bb1_row0_col17\" class=\"data row0 col17\" >SET100</td>\n",
       "    </tr>\n",
       "  </tbody>\n",
       "</table>\n"
      ],
      "text/plain": [
       "<pandas.io.formats.style.Styler at 0x1e969ba7ce0>"
      ]
     },
     "execution_count": 123,
     "metadata": {},
     "output_type": "execute_result"
    }
   ],
   "source": [
    "show_stocks(conlite, name)"
   ]
  },
  {
   "cell_type": "code",
   "execution_count": 125,
   "metadata": {},
   "outputs": [
    {
     "data": {
      "text/plain": [
       "['name', 'cost', 'available_qty']"
      ]
     },
     "execution_count": 125,
     "metadata": {},
     "output_type": "execute_result"
    }
   ],
   "source": [
    "df_stocks.columns.tolist()"
   ]
  },
  {
   "cell_type": "markdown",
   "metadata": {},
   "source": [
    "### End of Update stocks table in SQLite port_lite database from buy transaction"
   ]
  },
  {
   "cell_type": "markdown",
   "metadata": {},
   "source": [
    "## End of  Buy transaction"
   ]
  },
  {
   "cell_type": "markdown",
   "metadata": {},
   "source": [
    "## Begin of Sale transaction"
   ]
  },
  {
   "cell_type": "code",
   "execution_count": 46,
   "metadata": {},
   "outputs": [
    {
     "data": {
      "text/html": [
       "<style type=\"text/css\">\n",
       "</style>\n",
       "<table id=\"T_6525b\">\n",
       "  <thead>\n",
       "    <tr>\n",
       "      <th class=\"blank level0\" >&nbsp;</th>\n",
       "      <th id=\"T_6525b_level0_col0\" class=\"col_heading level0 col0\" >name</th>\n",
       "      <th id=\"T_6525b_level0_col1\" class=\"col_heading level0 col1\" >stock_id</th>\n",
       "      <th id=\"T_6525b_level0_col2\" class=\"col_heading level0 col2\" >buy_date</th>\n",
       "      <th id=\"T_6525b_level0_col3\" class=\"col_heading level0 col3\" >qty</th>\n",
       "      <th id=\"T_6525b_level0_col4\" class=\"col_heading level0 col4\" >buy_price</th>\n",
       "      <th id=\"T_6525b_level0_col5\" class=\"col_heading level0 col5\" >id</th>\n",
       "      <th id=\"T_6525b_level0_col6\" class=\"col_heading level0 col6\" >buy_id</th>\n",
       "      <th id=\"T_6525b_level0_col7\" class=\"col_heading level0 col7\" >date</th>\n",
       "      <th id=\"T_6525b_level0_col8\" class=\"col_heading level0 col8\" >price</th>\n",
       "      <th id=\"T_6525b_level0_col9\" class=\"col_heading level0 col9\" >fee</th>\n",
       "      <th id=\"T_6525b_level0_col10\" class=\"col_heading level0 col10\" >vat</th>\n",
       "      <th id=\"T_6525b_level0_col11\" class=\"col_heading level0 col11\" >net</th>\n",
       "      <th id=\"T_6525b_level0_col12\" class=\"col_heading level0 col12\" >days</th>\n",
       "      <th id=\"T_6525b_level0_col13\" class=\"col_heading level0 col13\" >profit</th>\n",
       "      <th id=\"T_6525b_level0_col14\" class=\"col_heading level0 col14\" >percent</th>\n",
       "      <th id=\"T_6525b_level0_col15\" class=\"col_heading level0 col15\" >yearly</th>\n",
       "      <th id=\"T_6525b_level0_col16\" class=\"col_heading level0 col16\" >sequence</th>\n",
       "      <th id=\"T_6525b_level0_col17\" class=\"col_heading level0 col17\" >chart</th>\n",
       "      <th id=\"T_6525b_level0_col18\" class=\"col_heading level0 col18\" >dividend_id</th>\n",
       "    </tr>\n",
       "  </thead>\n",
       "  <tbody>\n",
       "    <tr>\n",
       "      <th id=\"T_6525b_level0_row0\" class=\"row_heading level0 row0\" >0</th>\n",
       "      <td id=\"T_6525b_row0_col0\" class=\"data row0 col0\" >CPF</td>\n",
       "      <td id=\"T_6525b_row0_col1\" class=\"data row0 col1\" >21</td>\n",
       "      <td id=\"T_6525b_row0_col2\" class=\"data row0 col2\" >2025-08-22</td>\n",
       "      <td id=\"T_6525b_row0_col3\" class=\"data row0 col3\" >5,000</td>\n",
       "      <td id=\"T_6525b_row0_col4\" class=\"data row0 col4\" >24.10</td>\n",
       "      <td id=\"T_6525b_row0_col5\" class=\"data row0 col5\" >1109</td>\n",
       "      <td id=\"T_6525b_row0_col6\" class=\"data row0 col6\" >1342</td>\n",
       "      <td id=\"T_6525b_row0_col7\" class=\"data row0 col7\" >2025-08-22</td>\n",
       "      <td id=\"T_6525b_row0_col8\" class=\"data row0 col8\" >24.30</td>\n",
       "      <td id=\"T_6525b_row0_col9\" class=\"data row0 col9\" >251.51</td>\n",
       "      <td id=\"T_6525b_row0_col10\" class=\"data row0 col10\" >17.61</td>\n",
       "      <td id=\"T_6525b_row0_col11\" class=\"data row0 col11\" >121,230.88</td>\n",
       "      <td id=\"T_6525b_row0_col12\" class=\"data row0 col12\" >1</td>\n",
       "      <td id=\"T_6525b_row0_col13\" class=\"data row0 col13\" >463.98</td>\n",
       "      <td id=\"T_6525b_row0_col14\" class=\"data row0 col14\" >0.38%</td>\n",
       "      <td id=\"T_6525b_row0_col15\" class=\"data row0 col15\" >140.23%</td>\n",
       "      <td id=\"T_6525b_row0_col16\" class=\"data row0 col16\" >-109</td>\n",
       "      <td id=\"T_6525b_row0_col17\" class=\"data row0 col17\" >None</td>\n",
       "      <td id=\"T_6525b_row0_col18\" class=\"data row0 col18\" >0</td>\n",
       "    </tr>\n",
       "  </tbody>\n",
       "</table>\n"
      ],
      "text/plain": [
       "<pandas.io.formats.style.Styler at 0x1fee1ee4b60>"
      ]
     },
     "execution_count": 46,
     "metadata": {},
     "output_type": "execute_result"
    }
   ],
   "source": [
    "# Sells table in MySQL portfolio database\n",
    "sql = \"\"\"\n",
    "SELECT name, stock_id, B.date AS buy_date, qty, B.price AS buy_price, S.* \n",
    "FROM sells S\n",
    "JOIN buys B ON S.buy_id = B.id\n",
    "JOIN stocks T ON B.stock_id = T.id\n",
    "ORDER BY S.id DESC\n",
    "LIMIT 1\"\"\"\n",
    "df_sells_latest = pd.read_sql(sql, conpf)\n",
    "df_sells_latest.style.format(format_dict)"
   ]
  },
  {
   "cell_type": "markdown",
   "metadata": {},
   "source": [
    "### In case of sale, retreive buy id from sells record (buy_id)"
   ]
  },
  {
   "cell_type": "code",
   "execution_count": 48,
   "metadata": {},
   "outputs": [
    {
     "name": "stdout",
     "output_type": "stream",
     "text": [
      "CPF -5000 24.1 24.3\n"
     ]
    }
   ],
   "source": [
    "# Buys table in MySQL portfolio database\n",
    "transaction = 'S'\n",
    "\n",
    "names = df_sells_latest['name']\n",
    "name = names.to_string(index=False)\n",
    "\n",
    "sr_qty = df_sells_latest['qty']\n",
    "qty = sr_qty.to_string(index=False)\n",
    "qty = int(qty) * -1\n",
    "\n",
    "sr_price = df_sells_latest['buy_price']\n",
    "buy_price = sr_price.to_string(index=False)\n",
    "buy_price = float(buy_price)\n",
    "\n",
    "sr_price = df_sells_latest['price']\n",
    "sell_price = sr_price.to_string(index=False)\n",
    "sell_price = float(sell_price)\n",
    "\n",
    "buy_ids = df_sells_latest['buy_id']\n",
    "buy_id = buy_ids.to_string(index=False)\n",
    "print(name, qty, buy_price, sell_price)"
   ]
  },
  {
   "cell_type": "markdown",
   "metadata": {},
   "source": [
    "### Begin of Update buy table in MySQL stock database from sale transaction"
   ]
  },
  {
   "cell_type": "code",
   "execution_count": 50,
   "metadata": {},
   "outputs": [],
   "source": [
    "old_qty = df_buys_latest['qty'].iloc[0]\n",
    "new_qty = old_qty + qty"
   ]
  },
  {
   "cell_type": "code",
   "execution_count": 51,
   "metadata": {},
   "outputs": [
    {
     "data": {
      "text/html": [
       "<style type=\"text/css\">\n",
       "</style>\n",
       "<table id=\"T_bc9ff\">\n",
       "  <thead>\n",
       "    <tr>\n",
       "      <th class=\"blank level0\" >&nbsp;</th>\n",
       "      <th id=\"T_bc9ff_level0_col0\" class=\"col_heading level0 col0\" >name</th>\n",
       "      <th id=\"T_bc9ff_level0_col1\" class=\"col_heading level0 col1\" >date</th>\n",
       "      <th id=\"T_bc9ff_level0_col2\" class=\"col_heading level0 col2\" >shares</th>\n",
       "      <th id=\"T_bc9ff_level0_col3\" class=\"col_heading level0 col3\" >price</th>\n",
       "      <th id=\"T_bc9ff_level0_col4\" class=\"col_heading level0 col4\" >active</th>\n",
       "      <th id=\"T_bc9ff_level0_col5\" class=\"col_heading level0 col5\" >period</th>\n",
       "      <th id=\"T_bc9ff_level0_col6\" class=\"col_heading level0 col6\" >grade</th>\n",
       "    </tr>\n",
       "  </thead>\n",
       "  <tbody>\n",
       "    <tr>\n",
       "      <th id=\"T_bc9ff_level0_row0\" class=\"row_heading level0 row0\" >0</th>\n",
       "      <td id=\"T_bc9ff_row0_col0\" class=\"data row0 col0\" >CPF</td>\n",
       "      <td id=\"T_bc9ff_row0_col1\" class=\"data row0 col1\" >2025-08-21</td>\n",
       "      <td id=\"T_bc9ff_row0_col2\" class=\"data row0 col2\" >5,000</td>\n",
       "      <td id=\"T_bc9ff_row0_col3\" class=\"data row0 col3\" >24.10</td>\n",
       "      <td id=\"T_bc9ff_row0_col4\" class=\"data row0 col4\" >1</td>\n",
       "      <td id=\"T_bc9ff_row0_col5\" class=\"data row0 col5\" >4</td>\n",
       "      <td id=\"T_bc9ff_row0_col6\" class=\"data row0 col6\" >A1</td>\n",
       "    </tr>\n",
       "  </tbody>\n",
       "</table>\n"
      ],
      "text/plain": [
       "<pandas.io.formats.style.Styler at 0x1fede0b9fd0>"
      ]
     },
     "execution_count": 51,
     "metadata": {},
     "output_type": "execute_result"
    }
   ],
   "source": [
    "show_buy(const, name)"
   ]
  },
  {
   "cell_type": "code",
   "execution_count": 52,
   "metadata": {},
   "outputs": [
    {
     "name": "stdout",
     "output_type": "stream",
     "text": [
      "S CPF 0 24.1\n"
     ]
    }
   ],
   "source": [
    "print(transaction, name, new_qty, buy_price)"
   ]
  },
  {
   "cell_type": "code",
   "execution_count": 53,
   "metadata": {},
   "outputs": [
    {
     "data": {
      "text/plain": [
       "'Records updated = 1'"
      ]
     },
     "execution_count": 53,
     "metadata": {},
     "output_type": "execute_result"
    }
   ],
   "source": [
    "update_buy(const, name, new_qty, buy_price)"
   ]
  },
  {
   "cell_type": "code",
   "execution_count": 54,
   "metadata": {},
   "outputs": [
    {
     "data": {
      "text/html": [
       "<style type=\"text/css\">\n",
       "</style>\n",
       "<table id=\"T_21692\">\n",
       "  <thead>\n",
       "    <tr>\n",
       "      <th class=\"blank level0\" >&nbsp;</th>\n",
       "      <th id=\"T_21692_level0_col0\" class=\"col_heading level0 col0\" >name</th>\n",
       "      <th id=\"T_21692_level0_col1\" class=\"col_heading level0 col1\" >date</th>\n",
       "      <th id=\"T_21692_level0_col2\" class=\"col_heading level0 col2\" >shares</th>\n",
       "      <th id=\"T_21692_level0_col3\" class=\"col_heading level0 col3\" >price</th>\n",
       "      <th id=\"T_21692_level0_col4\" class=\"col_heading level0 col4\" >active</th>\n",
       "      <th id=\"T_21692_level0_col5\" class=\"col_heading level0 col5\" >period</th>\n",
       "      <th id=\"T_21692_level0_col6\" class=\"col_heading level0 col6\" >grade</th>\n",
       "    </tr>\n",
       "  </thead>\n",
       "  <tbody>\n",
       "    <tr>\n",
       "      <th id=\"T_21692_level0_row0\" class=\"row_heading level0 row0\" >0</th>\n",
       "      <td id=\"T_21692_row0_col0\" class=\"data row0 col0\" >CPF</td>\n",
       "      <td id=\"T_21692_row0_col1\" class=\"data row0 col1\" >2025-08-21</td>\n",
       "      <td id=\"T_21692_row0_col2\" class=\"data row0 col2\" >0</td>\n",
       "      <td id=\"T_21692_row0_col3\" class=\"data row0 col3\" >24.10</td>\n",
       "      <td id=\"T_21692_row0_col4\" class=\"data row0 col4\" >1</td>\n",
       "      <td id=\"T_21692_row0_col5\" class=\"data row0 col5\" >4</td>\n",
       "      <td id=\"T_21692_row0_col6\" class=\"data row0 col6\" >A1</td>\n",
       "    </tr>\n",
       "  </tbody>\n",
       "</table>\n"
      ],
      "text/plain": [
       "<pandas.io.formats.style.Styler at 0x1fee1efca10>"
      ]
     },
     "execution_count": 54,
     "metadata": {},
     "output_type": "execute_result"
    }
   ],
   "source": [
    "show_buy(const, name)"
   ]
  },
  {
   "cell_type": "code",
   "execution_count": 55,
   "metadata": {},
   "outputs": [
    {
     "name": "stdout",
     "output_type": "stream",
     "text": [
      "Records deleted: 0\n"
     ]
    }
   ],
   "source": [
    "# Define the SQL query\n",
    "sqlDel = text(\"\"\"\n",
    "    DELETE FROM buy\n",
    "    WHERE name = :name AND volbuy = 0 AND active = 0;\n",
    "\"\"\")\n",
    "\n",
    "# Execute the query with the correct parameter dictionary\n",
    "result = const.execute(sqlDel, {'name': name})\n",
    "\n",
    "# Print the number of rows deleted\n",
    "print(f\"Records deleted: {result.rowcount}\")  "
   ]
  },
  {
   "cell_type": "markdown",
   "metadata": {},
   "source": [
    "### End of Update buy table in MySQL stock database from sale transaction"
   ]
  },
  {
   "cell_type": "markdown",
   "metadata": {},
   "source": [
    "### Begin of Update dividend table in MySQL stock database from sale transaction"
   ]
  },
  {
   "cell_type": "code",
   "execution_count": 58,
   "metadata": {},
   "outputs": [
    {
     "data": {
      "text/html": [
       "<style type=\"text/css\">\n",
       "</style>\n",
       "<table id=\"T_ab135\">\n",
       "  <thead>\n",
       "    <tr>\n",
       "      <th class=\"blank level0\" >&nbsp;</th>\n",
       "      <th id=\"T_ab135_level0_col0\" class=\"col_heading level0 col0\" >name</th>\n",
       "      <th id=\"T_ab135_level0_col1\" class=\"col_heading level0 col1\" >q4</th>\n",
       "      <th id=\"T_ab135_level0_col2\" class=\"col_heading level0 col2\" >q3</th>\n",
       "      <th id=\"T_ab135_level0_col3\" class=\"col_heading level0 col3\" >q2</th>\n",
       "      <th id=\"T_ab135_level0_col4\" class=\"col_heading level0 col4\" >q1</th>\n",
       "      <th id=\"T_ab135_level0_col5\" class=\"col_heading level0 col5\" >dividend</th>\n",
       "      <th id=\"T_ab135_level0_col6\" class=\"col_heading level0 col6\" >shares</th>\n",
       "      <th id=\"T_ab135_level0_col7\" class=\"col_heading level0 col7\" >xdate</th>\n",
       "      <th id=\"T_ab135_level0_col8\" class=\"col_heading level0 col8\" >paiddate</th>\n",
       "      <th id=\"T_ab135_level0_col9\" class=\"col_heading level0 col9\" >kind</th>\n",
       "      <th id=\"T_ab135_level0_col10\" class=\"col_heading level0 col10\" >actual</th>\n",
       "    </tr>\n",
       "  </thead>\n",
       "  <tbody>\n",
       "    <tr>\n",
       "      <th id=\"T_ab135_level0_row0\" class=\"row_heading level0 row0\" >0</th>\n",
       "      <td id=\"T_ab135_row0_col0\" class=\"data row0 col0\" >CPF</td>\n",
       "      <td id=\"T_ab135_row0_col1\" class=\"data row0 col1\" >0.5500</td>\n",
       "      <td id=\"T_ab135_row0_col2\" class=\"data row0 col2\" >0.0000</td>\n",
       "      <td id=\"T_ab135_row0_col3\" class=\"data row0 col3\" >1.0000</td>\n",
       "      <td id=\"T_ab135_row0_col4\" class=\"data row0 col4\" >0.0000</td>\n",
       "      <td id=\"T_ab135_row0_col5\" class=\"data row0 col5\" >1.5500</td>\n",
       "      <td id=\"T_ab135_row0_col6\" class=\"data row0 col6\" >-5,000</td>\n",
       "      <td id=\"T_ab135_row0_col7\" class=\"data row0 col7\" >2025-08-29</td>\n",
       "      <td id=\"T_ab135_row0_col8\" class=\"data row0 col8\" >2025-09-12</td>\n",
       "      <td id=\"T_ab135_row0_col9\" class=\"data row0 col9\" ></td>\n",
       "      <td id=\"T_ab135_row0_col10\" class=\"data row0 col10\" >1</td>\n",
       "    </tr>\n",
       "  </tbody>\n",
       "</table>\n"
      ],
      "text/plain": [
       "<pandas.io.formats.style.Styler at 0x1fee1f43ec0>"
      ]
     },
     "execution_count": 58,
     "metadata": {},
     "output_type": "execute_result"
    }
   ],
   "source": [
    "show_dividend(const, name)"
   ]
  },
  {
   "cell_type": "code",
   "execution_count": 59,
   "metadata": {},
   "outputs": [
    {
     "data": {
      "text/plain": [
       "-15000"
      ]
     },
     "execution_count": 59,
     "metadata": {},
     "output_type": "execute_result"
    }
   ],
   "source": [
    "new_qty = df_dividend['shares'].iloc[0] + qty\n",
    "new_qty"
   ]
  },
  {
   "cell_type": "code",
   "execution_count": 60,
   "metadata": {},
   "outputs": [
    {
     "data": {
      "text/plain": [
       "'Records updated = 1'"
      ]
     },
     "execution_count": 60,
     "metadata": {},
     "output_type": "execute_result"
    }
   ],
   "source": [
    "update_dividend(const, name, new_qty)"
   ]
  },
  {
   "cell_type": "code",
   "execution_count": 61,
   "metadata": {},
   "outputs": [
    {
     "name": "stdout",
     "output_type": "stream",
     "text": [
      "Records deleted: 0\n"
     ]
    }
   ],
   "source": [
    "# Define the SQL query\n",
    "sqlDel = text(\"\"\"\n",
    "    DELETE FROM dividend\n",
    "    WHERE name = :name AND shares = 0 AND actual = 0;\n",
    "\"\"\")\n",
    "\n",
    "# Execute the query with the correct parameter dictionary\n",
    "result = const.execute(sqlDel, {'name': name})\n",
    "\n",
    "# Print the number of rows deleted\n",
    "print(f\"Records deleted: {result.rowcount}\")  "
   ]
  },
  {
   "cell_type": "code",
   "execution_count": 62,
   "metadata": {},
   "outputs": [
    {
     "data": {
      "text/html": [
       "<style type=\"text/css\">\n",
       "</style>\n",
       "<table id=\"T_10f92\">\n",
       "  <thead>\n",
       "    <tr>\n",
       "      <th class=\"blank level0\" >&nbsp;</th>\n",
       "      <th id=\"T_10f92_level0_col0\" class=\"col_heading level0 col0\" >name</th>\n",
       "      <th id=\"T_10f92_level0_col1\" class=\"col_heading level0 col1\" >q4</th>\n",
       "      <th id=\"T_10f92_level0_col2\" class=\"col_heading level0 col2\" >q3</th>\n",
       "      <th id=\"T_10f92_level0_col3\" class=\"col_heading level0 col3\" >q2</th>\n",
       "      <th id=\"T_10f92_level0_col4\" class=\"col_heading level0 col4\" >q1</th>\n",
       "      <th id=\"T_10f92_level0_col5\" class=\"col_heading level0 col5\" >dividend</th>\n",
       "      <th id=\"T_10f92_level0_col6\" class=\"col_heading level0 col6\" >shares</th>\n",
       "      <th id=\"T_10f92_level0_col7\" class=\"col_heading level0 col7\" >xdate</th>\n",
       "      <th id=\"T_10f92_level0_col8\" class=\"col_heading level0 col8\" >paiddate</th>\n",
       "      <th id=\"T_10f92_level0_col9\" class=\"col_heading level0 col9\" >kind</th>\n",
       "      <th id=\"T_10f92_level0_col10\" class=\"col_heading level0 col10\" >actual</th>\n",
       "    </tr>\n",
       "  </thead>\n",
       "  <tbody>\n",
       "    <tr>\n",
       "      <th id=\"T_10f92_level0_row0\" class=\"row_heading level0 row0\" >0</th>\n",
       "      <td id=\"T_10f92_row0_col0\" class=\"data row0 col0\" >CPF</td>\n",
       "      <td id=\"T_10f92_row0_col1\" class=\"data row0 col1\" >0.5500</td>\n",
       "      <td id=\"T_10f92_row0_col2\" class=\"data row0 col2\" >0.0000</td>\n",
       "      <td id=\"T_10f92_row0_col3\" class=\"data row0 col3\" >1.0000</td>\n",
       "      <td id=\"T_10f92_row0_col4\" class=\"data row0 col4\" >0.0000</td>\n",
       "      <td id=\"T_10f92_row0_col5\" class=\"data row0 col5\" >1.5500</td>\n",
       "      <td id=\"T_10f92_row0_col6\" class=\"data row0 col6\" >-15,000</td>\n",
       "      <td id=\"T_10f92_row0_col7\" class=\"data row0 col7\" >2025-08-29</td>\n",
       "      <td id=\"T_10f92_row0_col8\" class=\"data row0 col8\" >2025-09-12</td>\n",
       "      <td id=\"T_10f92_row0_col9\" class=\"data row0 col9\" ></td>\n",
       "      <td id=\"T_10f92_row0_col10\" class=\"data row0 col10\" >1</td>\n",
       "    </tr>\n",
       "  </tbody>\n",
       "</table>\n"
      ],
      "text/plain": [
       "<pandas.io.formats.style.Styler at 0x1fee1f41b80>"
      ]
     },
     "execution_count": 62,
     "metadata": {},
     "output_type": "execute_result"
    }
   ],
   "source": [
    "show_dividend(const, name)"
   ]
  },
  {
   "cell_type": "markdown",
   "metadata": {},
   "source": [
    "### End of Update dividend table in MySQL stock database from sale transaction"
   ]
  },
  {
   "cell_type": "markdown",
   "metadata": {},
   "source": [
    "### Begin of Update stocks table in SQLite port_lite database from sale transaction"
   ]
  },
  {
   "cell_type": "code",
   "execution_count": 65,
   "metadata": {},
   "outputs": [
    {
     "data": {
      "text/html": [
       "<div>\n",
       "<style scoped>\n",
       "    .dataframe tbody tr th:only-of-type {\n",
       "        vertical-align: middle;\n",
       "    }\n",
       "\n",
       "    .dataframe tbody tr th {\n",
       "        vertical-align: top;\n",
       "    }\n",
       "\n",
       "    .dataframe thead th {\n",
       "        text-align: right;\n",
       "    }\n",
       "</style>\n",
       "<table border=\"1\" class=\"dataframe\">\n",
       "  <thead>\n",
       "    <tr style=\"text-align: right;\">\n",
       "      <th></th>\n",
       "      <th>name</th>\n",
       "      <th>cost</th>\n",
       "      <th>available_qty</th>\n",
       "    </tr>\n",
       "  </thead>\n",
       "  <tbody>\n",
       "    <tr>\n",
       "      <th>0</th>\n",
       "      <td>CPF</td>\n",
       "      <td>24.1</td>\n",
       "      <td>5000</td>\n",
       "    </tr>\n",
       "  </tbody>\n",
       "</table>\n",
       "</div>"
      ],
      "text/plain": [
       "  name  cost  available_qty\n",
       "0  CPF  24.1           5000"
      ]
     },
     "execution_count": 65,
     "metadata": {},
     "output_type": "execute_result"
    }
   ],
   "source": [
    "sql = \"\"\"\n",
    "    SELECT name, cost, available_qty\n",
    "    FROM stocks\n",
    "    WHERE name = '{}'\n",
    "\"\"\".format(name)\n",
    "\n",
    "df_stocks = pd.read_sql(sql, conlite)\n",
    "df_stocks['available_qty'] = df_stocks['available_qty'].astype('int64')\n",
    "df_stocks"
   ]
  },
  {
   "cell_type": "code",
   "execution_count": 66,
   "metadata": {},
   "outputs": [],
   "source": [
    "old_qty = int(df_stocks['available_qty'].iloc[0])\n",
    "new_qty = old_qty + qty\n",
    "new_buy_target = 24.10\n",
    "new_sell_target = 24.30\n",
    "new_buy_qty = 5000"
   ]
  },
  {
   "cell_type": "code",
   "execution_count": 67,
   "metadata": {},
   "outputs": [
    {
     "data": {
      "text/html": [
       "<style type=\"text/css\">\n",
       "</style>\n",
       "<table id=\"T_22a0b\">\n",
       "  <thead>\n",
       "    <tr>\n",
       "      <th class=\"blank level0\" >&nbsp;</th>\n",
       "      <th id=\"T_22a0b_level0_col0\" class=\"col_heading level0 col0\" >id</th>\n",
       "      <th id=\"T_22a0b_level0_col1\" class=\"col_heading level0 col1\" >name</th>\n",
       "      <th id=\"T_22a0b_level0_col2\" class=\"col_heading level0 col2\" >max_price</th>\n",
       "      <th id=\"T_22a0b_level0_col3\" class=\"col_heading level0 col3\" >min_price</th>\n",
       "      <th id=\"T_22a0b_level0_col4\" class=\"col_heading level0 col4\" >status</th>\n",
       "      <th id=\"T_22a0b_level0_col5\" class=\"col_heading level0 col5\" >buy_target</th>\n",
       "      <th id=\"T_22a0b_level0_col6\" class=\"col_heading level0 col6\" >sell_target</th>\n",
       "      <th id=\"T_22a0b_level0_col7\" class=\"col_heading level0 col7\" >volume</th>\n",
       "      <th id=\"T_22a0b_level0_col8\" class=\"col_heading level0 col8\" >beta</th>\n",
       "      <th id=\"T_22a0b_level0_col9\" class=\"col_heading level0 col9\" >cost</th>\n",
       "      <th id=\"T_22a0b_level0_col10\" class=\"col_heading level0 col10\" >qty</th>\n",
       "      <th id=\"T_22a0b_level0_col11\" class=\"col_heading level0 col11\" >buy_spread</th>\n",
       "      <th id=\"T_22a0b_level0_col12\" class=\"col_heading level0 col12\" >sell_spread</th>\n",
       "      <th id=\"T_22a0b_level0_col13\" class=\"col_heading level0 col13\" >available_qty</th>\n",
       "      <th id=\"T_22a0b_level0_col14\" class=\"col_heading level0 col14\" >bl</th>\n",
       "      <th id=\"T_22a0b_level0_col15\" class=\"col_heading level0 col15\" >sh</th>\n",
       "      <th id=\"T_22a0b_level0_col16\" class=\"col_heading level0 col16\" >reason</th>\n",
       "      <th id=\"T_22a0b_level0_col17\" class=\"col_heading level0 col17\" >market</th>\n",
       "    </tr>\n",
       "  </thead>\n",
       "  <tbody>\n",
       "    <tr>\n",
       "      <th id=\"T_22a0b_level0_row0\" class=\"row_heading level0 row0\" >0</th>\n",
       "      <td id=\"T_22a0b_row0_col0\" class=\"data row0 col0\" >152</td>\n",
       "      <td id=\"T_22a0b_row0_col1\" class=\"data row0 col1\" >CPF</td>\n",
       "      <td id=\"T_22a0b_row0_col2\" class=\"data row0 col2\" >24.40</td>\n",
       "      <td id=\"T_22a0b_row0_col3\" class=\"data row0 col3\" >23.90</td>\n",
       "      <td id=\"T_22a0b_row0_col4\" class=\"data row0 col4\" >B</td>\n",
       "      <td id=\"T_22a0b_row0_col5\" class=\"data row0 col5\" >24.10</td>\n",
       "      <td id=\"T_22a0b_row0_col6\" class=\"data row0 col6\" >24.30</td>\n",
       "      <td id=\"T_22a0b_row0_col7\" class=\"data row0 col7\" >4,000.00</td>\n",
       "      <td id=\"T_22a0b_row0_col8\" class=\"data row0 col8\" >0.00</td>\n",
       "      <td id=\"T_22a0b_row0_col9\" class=\"data row0 col9\" >24.10</td>\n",
       "      <td id=\"T_22a0b_row0_col10\" class=\"data row0 col10\" >5,000</td>\n",
       "      <td id=\"T_22a0b_row0_col11\" class=\"data row0 col11\" >-4</td>\n",
       "      <td id=\"T_22a0b_row0_col12\" class=\"data row0 col12\" >4</td>\n",
       "      <td id=\"T_22a0b_row0_col13\" class=\"data row0 col13\" >5,000</td>\n",
       "      <td id=\"T_22a0b_row0_col14\" class=\"data row0 col14\" >0.000000</td>\n",
       "      <td id=\"T_22a0b_row0_col15\" class=\"data row0 col15\" >0.000000</td>\n",
       "      <td id=\"T_22a0b_row0_col16\" class=\"data row0 col16\" ></td>\n",
       "      <td id=\"T_22a0b_row0_col17\" class=\"data row0 col17\" >SET50</td>\n",
       "    </tr>\n",
       "  </tbody>\n",
       "</table>\n"
      ],
      "text/plain": [
       "<pandas.io.formats.style.Styler at 0x1fee1f3ac30>"
      ]
     },
     "execution_count": 67,
     "metadata": {},
     "output_type": "execute_result"
    }
   ],
   "source": [
    "show_stocks(conlite, name)"
   ]
  },
  {
   "cell_type": "code",
   "execution_count": 68,
   "metadata": {},
   "outputs": [
    {
     "name": "stdout",
     "output_type": "stream",
     "text": [
      "CPF S 0 24.1 24.1 24.3 5000\n"
     ]
    }
   ],
   "source": [
    "print(name, transaction, new_qty, buy_price, new_buy_target, new_sell_target, new_buy_qty)"
   ]
  },
  {
   "cell_type": "code",
   "execution_count": 69,
   "metadata": {},
   "outputs": [
    {
     "data": {
      "text/plain": [
       "'Records updated = 1'"
      ]
     },
     "execution_count": 69,
     "metadata": {},
     "output_type": "execute_result"
    }
   ],
   "source": [
    "update_stock(conlite, name, new_qty, buy_price, new_buy_target, new_sell_target, new_buy_qty)"
   ]
  },
  {
   "cell_type": "code",
   "execution_count": 70,
   "metadata": {},
   "outputs": [
    {
     "data": {
      "text/html": [
       "<style type=\"text/css\">\n",
       "</style>\n",
       "<table id=\"T_659e9\">\n",
       "  <thead>\n",
       "    <tr>\n",
       "      <th class=\"blank level0\" >&nbsp;</th>\n",
       "      <th id=\"T_659e9_level0_col0\" class=\"col_heading level0 col0\" >id</th>\n",
       "      <th id=\"T_659e9_level0_col1\" class=\"col_heading level0 col1\" >name</th>\n",
       "      <th id=\"T_659e9_level0_col2\" class=\"col_heading level0 col2\" >max_price</th>\n",
       "      <th id=\"T_659e9_level0_col3\" class=\"col_heading level0 col3\" >min_price</th>\n",
       "      <th id=\"T_659e9_level0_col4\" class=\"col_heading level0 col4\" >status</th>\n",
       "      <th id=\"T_659e9_level0_col5\" class=\"col_heading level0 col5\" >buy_target</th>\n",
       "      <th id=\"T_659e9_level0_col6\" class=\"col_heading level0 col6\" >sell_target</th>\n",
       "      <th id=\"T_659e9_level0_col7\" class=\"col_heading level0 col7\" >volume</th>\n",
       "      <th id=\"T_659e9_level0_col8\" class=\"col_heading level0 col8\" >beta</th>\n",
       "      <th id=\"T_659e9_level0_col9\" class=\"col_heading level0 col9\" >cost</th>\n",
       "      <th id=\"T_659e9_level0_col10\" class=\"col_heading level0 col10\" >qty</th>\n",
       "      <th id=\"T_659e9_level0_col11\" class=\"col_heading level0 col11\" >buy_spread</th>\n",
       "      <th id=\"T_659e9_level0_col12\" class=\"col_heading level0 col12\" >sell_spread</th>\n",
       "      <th id=\"T_659e9_level0_col13\" class=\"col_heading level0 col13\" >available_qty</th>\n",
       "      <th id=\"T_659e9_level0_col14\" class=\"col_heading level0 col14\" >bl</th>\n",
       "      <th id=\"T_659e9_level0_col15\" class=\"col_heading level0 col15\" >sh</th>\n",
       "      <th id=\"T_659e9_level0_col16\" class=\"col_heading level0 col16\" >reason</th>\n",
       "      <th id=\"T_659e9_level0_col17\" class=\"col_heading level0 col17\" >market</th>\n",
       "    </tr>\n",
       "  </thead>\n",
       "  <tbody>\n",
       "    <tr>\n",
       "      <th id=\"T_659e9_level0_row0\" class=\"row_heading level0 row0\" >0</th>\n",
       "      <td id=\"T_659e9_row0_col0\" class=\"data row0 col0\" >152</td>\n",
       "      <td id=\"T_659e9_row0_col1\" class=\"data row0 col1\" >CPF</td>\n",
       "      <td id=\"T_659e9_row0_col2\" class=\"data row0 col2\" >24.40</td>\n",
       "      <td id=\"T_659e9_row0_col3\" class=\"data row0 col3\" >23.90</td>\n",
       "      <td id=\"T_659e9_row0_col4\" class=\"data row0 col4\" >B</td>\n",
       "      <td id=\"T_659e9_row0_col5\" class=\"data row0 col5\" >24.10</td>\n",
       "      <td id=\"T_659e9_row0_col6\" class=\"data row0 col6\" >24.30</td>\n",
       "      <td id=\"T_659e9_row0_col7\" class=\"data row0 col7\" >4,000.00</td>\n",
       "      <td id=\"T_659e9_row0_col8\" class=\"data row0 col8\" >0.00</td>\n",
       "      <td id=\"T_659e9_row0_col9\" class=\"data row0 col9\" >24.10</td>\n",
       "      <td id=\"T_659e9_row0_col10\" class=\"data row0 col10\" >5,000</td>\n",
       "      <td id=\"T_659e9_row0_col11\" class=\"data row0 col11\" >-4</td>\n",
       "      <td id=\"T_659e9_row0_col12\" class=\"data row0 col12\" >4</td>\n",
       "      <td id=\"T_659e9_row0_col13\" class=\"data row0 col13\" >0</td>\n",
       "      <td id=\"T_659e9_row0_col14\" class=\"data row0 col14\" >0.000000</td>\n",
       "      <td id=\"T_659e9_row0_col15\" class=\"data row0 col15\" >0.000000</td>\n",
       "      <td id=\"T_659e9_row0_col16\" class=\"data row0 col16\" ></td>\n",
       "      <td id=\"T_659e9_row0_col17\" class=\"data row0 col17\" >SET50</td>\n",
       "    </tr>\n",
       "  </tbody>\n",
       "</table>\n"
      ],
      "text/plain": [
       "<pandas.io.formats.style.Styler at 0x1fee2f4b260>"
      ]
     },
     "execution_count": 70,
     "metadata": {},
     "output_type": "execute_result"
    }
   ],
   "source": [
    "show_stocks(conlite, name)"
   ]
  },
  {
   "cell_type": "markdown",
   "metadata": {},
   "source": [
    "### End of Update stocks table in SQLite port_lite database from sale transaction"
   ]
  },
  {
   "cell_type": "markdown",
   "metadata": {},
   "source": [
    "## End of Sale process"
   ]
  },
  {
   "cell_type": "markdown",
   "metadata": {},
   "source": [
    "### ====================================================="
   ]
  },
  {
   "cell_type": "code",
   "execution_count": 74,
   "metadata": {},
   "outputs": [
    {
     "name": "stdout",
     "output_type": "stream",
     "text": [
      "SELECT period, buy.grade AS grade, buy.name AS name, buy.date AS date, FORMAT(volbuy,0) AS volbuy, FORMAT(buy.price,2) AS buy_price, price.price AS mkt_price,FORMAT((volbuy * buy.price),2) AS amtbuy, FORMAT((volbuy * price.price),2) AS amtmkt, FORMAT(((price.price - buy.price) * volbuy),2) AS amtpol, FORMAT((((price.price - buy.price)*volbuy)/(volbuy*buy.price)*100),2) AS pctpol FROM buy INNER JOIN price ON buy.name = price.name WHERE price.date = '2025-08-22' ORDER BY period, buy.name\n"
     ]
    }
   ],
   "source": [
    "#price_date = '2025-02-14'\n",
    "sql = \"SELECT period, buy.grade AS grade, buy.name AS name, buy.date AS date, \\\n",
    "FORMAT(volbuy,0) AS volbuy, FORMAT(buy.price,2) AS buy_price, price.price AS mkt_price,\\\n",
    "FORMAT((volbuy * buy.price),2) AS amtbuy, FORMAT((volbuy * price.price),2) AS amtmkt, \\\n",
    "FORMAT(((price.price - buy.price) * volbuy),2) AS amtpol, \\\n",
    "FORMAT((((price.price - buy.price)*volbuy)/(volbuy*buy.price)*100),2) AS pctpol \\\n",
    "FROM buy INNER JOIN price ON buy.name = price.name WHERE price.date = '{}' \\\n",
    "ORDER BY period, buy.name\".format(yesterday)\n",
    "print(sql)"
   ]
  },
  {
   "cell_type": "code",
   "execution_count": 75,
   "metadata": {
    "scrolled": true
   },
   "outputs": [
    {
     "data": {
      "text/html": [
       "<div>\n",
       "<style scoped>\n",
       "    .dataframe tbody tr th:only-of-type {\n",
       "        vertical-align: middle;\n",
       "    }\n",
       "\n",
       "    .dataframe tbody tr th {\n",
       "        vertical-align: top;\n",
       "    }\n",
       "\n",
       "    .dataframe thead th {\n",
       "        text-align: right;\n",
       "    }\n",
       "</style>\n",
       "<table border=\"1\" class=\"dataframe\">\n",
       "  <thead>\n",
       "    <tr style=\"text-align: right;\">\n",
       "      <th></th>\n",
       "      <th>period</th>\n",
       "      <th>grade</th>\n",
       "      <th>name</th>\n",
       "      <th>date</th>\n",
       "      <th>volbuy</th>\n",
       "      <th>buy_price</th>\n",
       "      <th>mkt_price</th>\n",
       "      <th>amtbuy</th>\n",
       "      <th>amtmkt</th>\n",
       "      <th>amtpol</th>\n",
       "      <th>pctpol</th>\n",
       "    </tr>\n",
       "  </thead>\n",
       "  <tbody>\n",
       "    <tr>\n",
       "      <th>0</th>\n",
       "      <td>1</td>\n",
       "      <td>C1</td>\n",
       "      <td>AH</td>\n",
       "      <td>2023-06-08</td>\n",
       "      <td>1,200</td>\n",
       "      <td>37.00</td>\n",
       "      <td>14.60</td>\n",
       "      <td>44,400.00</td>\n",
       "      <td>17,520.00</td>\n",
       "      <td>-26,880.00</td>\n",
       "      <td>-60.54</td>\n",
       "    </tr>\n",
       "    <tr>\n",
       "      <th>1</th>\n",
       "      <td>1</td>\n",
       "      <td>A1</td>\n",
       "      <td>AWC</td>\n",
       "      <td>2023-06-15</td>\n",
       "      <td>9,000</td>\n",
       "      <td>4.96</td>\n",
       "      <td>2.42</td>\n",
       "      <td>44,640.00</td>\n",
       "      <td>21,780.00</td>\n",
       "      <td>-22,860.00</td>\n",
       "      <td>-51.21</td>\n",
       "    </tr>\n",
       "    <tr>\n",
       "      <th>2</th>\n",
       "      <td>1</td>\n",
       "      <td>A2</td>\n",
       "      <td>JMART</td>\n",
       "      <td>2023-01-20</td>\n",
       "      <td>6,800</td>\n",
       "      <td>33.00</td>\n",
       "      <td>8.35</td>\n",
       "      <td>224,400.00</td>\n",
       "      <td>56,780.00</td>\n",
       "      <td>-167,620.00</td>\n",
       "      <td>-74.70</td>\n",
       "    </tr>\n",
       "    <tr>\n",
       "      <th>3</th>\n",
       "      <td>1</td>\n",
       "      <td>C2</td>\n",
       "      <td>ORI</td>\n",
       "      <td>2022-04-07</td>\n",
       "      <td>50,000</td>\n",
       "      <td>9.00</td>\n",
       "      <td>2.26</td>\n",
       "      <td>450,000.00</td>\n",
       "      <td>113,000.00</td>\n",
       "      <td>-337,000.00</td>\n",
       "      <td>-74.89</td>\n",
       "    </tr>\n",
       "    <tr>\n",
       "      <th>4</th>\n",
       "      <td>1</td>\n",
       "      <td>C2</td>\n",
       "      <td>PTTGC</td>\n",
       "      <td>2021-03-17</td>\n",
       "      <td>6,000</td>\n",
       "      <td>64.75</td>\n",
       "      <td>27.00</td>\n",
       "      <td>388,500.00</td>\n",
       "      <td>162,000.00</td>\n",
       "      <td>-226,500.00</td>\n",
       "      <td>-58.30</td>\n",
       "    </tr>\n",
       "    <tr>\n",
       "      <th>5</th>\n",
       "      <td>1</td>\n",
       "      <td>C2</td>\n",
       "      <td>SCC</td>\n",
       "      <td>2021-09-20</td>\n",
       "      <td>600</td>\n",
       "      <td>405.00</td>\n",
       "      <td>223.00</td>\n",
       "      <td>243,000.00</td>\n",
       "      <td>133,800.00</td>\n",
       "      <td>-109,200.00</td>\n",
       "      <td>-44.94</td>\n",
       "    </tr>\n",
       "    <tr>\n",
       "      <th>6</th>\n",
       "      <td>1</td>\n",
       "      <td>A3</td>\n",
       "      <td>SINGER</td>\n",
       "      <td>2023-01-19</td>\n",
       "      <td>6,000</td>\n",
       "      <td>24.80</td>\n",
       "      <td>5.25</td>\n",
       "      <td>148,800.00</td>\n",
       "      <td>31,500.00</td>\n",
       "      <td>-117,300.00</td>\n",
       "      <td>-78.83</td>\n",
       "    </tr>\n",
       "    <tr>\n",
       "      <th>7</th>\n",
       "      <td>2</td>\n",
       "      <td>A1</td>\n",
       "      <td>AIMIRT</td>\n",
       "      <td>2023-08-17</td>\n",
       "      <td>17,500</td>\n",
       "      <td>10.60</td>\n",
       "      <td>9.55</td>\n",
       "      <td>185,500.00</td>\n",
       "      <td>167,125.00</td>\n",
       "      <td>-18,375.00</td>\n",
       "      <td>-9.91</td>\n",
       "    </tr>\n",
       "    <tr>\n",
       "      <th>8</th>\n",
       "      <td>2</td>\n",
       "      <td>C1</td>\n",
       "      <td>CPNREIT</td>\n",
       "      <td>2022-08-16</td>\n",
       "      <td>55,000</td>\n",
       "      <td>18.00</td>\n",
       "      <td>11.40</td>\n",
       "      <td>990,000.00</td>\n",
       "      <td>627,000.00</td>\n",
       "      <td>-363,000.00</td>\n",
       "      <td>-36.67</td>\n",
       "    </tr>\n",
       "    <tr>\n",
       "      <th>9</th>\n",
       "      <td>2</td>\n",
       "      <td>C1</td>\n",
       "      <td>DIF</td>\n",
       "      <td>2020-08-01</td>\n",
       "      <td>50,000</td>\n",
       "      <td>12.17</td>\n",
       "      <td>8.20</td>\n",
       "      <td>608,500.00</td>\n",
       "      <td>410,000.00</td>\n",
       "      <td>-198,500.00</td>\n",
       "      <td>-32.62</td>\n",
       "    </tr>\n",
       "    <tr>\n",
       "      <th>10</th>\n",
       "      <td>2</td>\n",
       "      <td>C1</td>\n",
       "      <td>GVREIT</td>\n",
       "      <td>2022-08-24</td>\n",
       "      <td>69,000</td>\n",
       "      <td>7.75</td>\n",
       "      <td>6.40</td>\n",
       "      <td>534,750.00</td>\n",
       "      <td>441,600.00</td>\n",
       "      <td>-93,150.00</td>\n",
       "      <td>-17.42</td>\n",
       "    </tr>\n",
       "    <tr>\n",
       "      <th>11</th>\n",
       "      <td>2</td>\n",
       "      <td>A4</td>\n",
       "      <td>MCS</td>\n",
       "      <td>2016-09-20</td>\n",
       "      <td>81,000</td>\n",
       "      <td>14.80</td>\n",
       "      <td>8.45</td>\n",
       "      <td>1,198,800.00</td>\n",
       "      <td>684,450.00</td>\n",
       "      <td>-514,350.00</td>\n",
       "      <td>-42.91</td>\n",
       "    </tr>\n",
       "    <tr>\n",
       "      <th>12</th>\n",
       "      <td>2</td>\n",
       "      <td>A1</td>\n",
       "      <td>NER</td>\n",
       "      <td>2021-09-01</td>\n",
       "      <td>27,000</td>\n",
       "      <td>7.45</td>\n",
       "      <td>4.30</td>\n",
       "      <td>201,150.00</td>\n",
       "      <td>116,100.00</td>\n",
       "      <td>-85,050.00</td>\n",
       "      <td>-42.28</td>\n",
       "    </tr>\n",
       "    <tr>\n",
       "      <th>13</th>\n",
       "      <td>2</td>\n",
       "      <td>A2</td>\n",
       "      <td>PTT</td>\n",
       "      <td>2025-08-08</td>\n",
       "      <td>2,500</td>\n",
       "      <td>32.00</td>\n",
       "      <td>32.00</td>\n",
       "      <td>80,000.00</td>\n",
       "      <td>80,000.00</td>\n",
       "      <td>0.00</td>\n",
       "      <td>0.00</td>\n",
       "    </tr>\n",
       "    <tr>\n",
       "      <th>14</th>\n",
       "      <td>2</td>\n",
       "      <td>B1</td>\n",
       "      <td>SENA</td>\n",
       "      <td>2022-03-29</td>\n",
       "      <td>105,000</td>\n",
       "      <td>4.48</td>\n",
       "      <td>1.86</td>\n",
       "      <td>470,400.00</td>\n",
       "      <td>195,300.00</td>\n",
       "      <td>-275,100.00</td>\n",
       "      <td>-58.48</td>\n",
       "    </tr>\n",
       "    <tr>\n",
       "      <th>15</th>\n",
       "      <td>2</td>\n",
       "      <td>C1</td>\n",
       "      <td>TFFIF</td>\n",
       "      <td>2023-07-06</td>\n",
       "      <td>20,000</td>\n",
       "      <td>7.20</td>\n",
       "      <td>6.05</td>\n",
       "      <td>144,000.00</td>\n",
       "      <td>121,000.00</td>\n",
       "      <td>-23,000.00</td>\n",
       "      <td>-15.97</td>\n",
       "    </tr>\n",
       "    <tr>\n",
       "      <th>16</th>\n",
       "      <td>2</td>\n",
       "      <td>B1</td>\n",
       "      <td>WHAIR</td>\n",
       "      <td>2021-10-11</td>\n",
       "      <td>50,000</td>\n",
       "      <td>8.70</td>\n",
       "      <td>5.40</td>\n",
       "      <td>435,000.00</td>\n",
       "      <td>270,000.00</td>\n",
       "      <td>-165,000.00</td>\n",
       "      <td>-37.93</td>\n",
       "    </tr>\n",
       "    <tr>\n",
       "      <th>17</th>\n",
       "      <td>2</td>\n",
       "      <td>C1</td>\n",
       "      <td>WHART</td>\n",
       "      <td>2022-01-05</td>\n",
       "      <td>25,000</td>\n",
       "      <td>11.60</td>\n",
       "      <td>9.00</td>\n",
       "      <td>290,000.00</td>\n",
       "      <td>225,000.00</td>\n",
       "      <td>-65,000.00</td>\n",
       "      <td>-22.41</td>\n",
       "    </tr>\n",
       "    <tr>\n",
       "      <th>18</th>\n",
       "      <td>3</td>\n",
       "      <td>A3</td>\n",
       "      <td>3BBIF</td>\n",
       "      <td>2018-05-17</td>\n",
       "      <td>120,000</td>\n",
       "      <td>10.10</td>\n",
       "      <td>6.20</td>\n",
       "      <td>1,212,000.00</td>\n",
       "      <td>744,000.00</td>\n",
       "      <td>-468,000.00</td>\n",
       "      <td>-38.61</td>\n",
       "    </tr>\n",
       "    <tr>\n",
       "      <th>19</th>\n",
       "      <td>3</td>\n",
       "      <td>B3</td>\n",
       "      <td>BCH</td>\n",
       "      <td>2021-09-07</td>\n",
       "      <td>4,000</td>\n",
       "      <td>21.70</td>\n",
       "      <td>13.40</td>\n",
       "      <td>86,800.00</td>\n",
       "      <td>53,600.00</td>\n",
       "      <td>-33,200.00</td>\n",
       "      <td>-38.25</td>\n",
       "    </tr>\n",
       "    <tr>\n",
       "      <th>20</th>\n",
       "      <td>3</td>\n",
       "      <td>C3</td>\n",
       "      <td>IVL</td>\n",
       "      <td>2022-08-29</td>\n",
       "      <td>7,200</td>\n",
       "      <td>40.00</td>\n",
       "      <td>22.80</td>\n",
       "      <td>288,000.00</td>\n",
       "      <td>164,160.00</td>\n",
       "      <td>-123,840.00</td>\n",
       "      <td>-43.00</td>\n",
       "    </tr>\n",
       "    <tr>\n",
       "      <th>21</th>\n",
       "      <td>3</td>\n",
       "      <td>A3</td>\n",
       "      <td>RCL</td>\n",
       "      <td>2021-11-08</td>\n",
       "      <td>27,000</td>\n",
       "      <td>38.80</td>\n",
       "      <td>26.75</td>\n",
       "      <td>1,047,600.00</td>\n",
       "      <td>722,250.00</td>\n",
       "      <td>-325,350.00</td>\n",
       "      <td>-31.06</td>\n",
       "    </tr>\n",
       "    <tr>\n",
       "      <th>22</th>\n",
       "      <td>3</td>\n",
       "      <td>A4</td>\n",
       "      <td>STA</td>\n",
       "      <td>2021-06-15</td>\n",
       "      <td>10,000</td>\n",
       "      <td>30.00</td>\n",
       "      <td>12.00</td>\n",
       "      <td>300,000.00</td>\n",
       "      <td>120,000.00</td>\n",
       "      <td>-180,000.00</td>\n",
       "      <td>-60.00</td>\n",
       "    </tr>\n",
       "    <tr>\n",
       "      <th>23</th>\n",
       "      <td>3</td>\n",
       "      <td>A1</td>\n",
       "      <td>SYNEX</td>\n",
       "      <td>2022-01-07</td>\n",
       "      <td>17,500</td>\n",
       "      <td>26.40</td>\n",
       "      <td>11.60</td>\n",
       "      <td>462,000.00</td>\n",
       "      <td>203,000.00</td>\n",
       "      <td>-259,000.00</td>\n",
       "      <td>-56.06</td>\n",
       "    </tr>\n",
       "    <tr>\n",
       "      <th>24</th>\n",
       "      <td>3</td>\n",
       "      <td>A4</td>\n",
       "      <td>TVO</td>\n",
       "      <td>2024-11-06</td>\n",
       "      <td>8,000</td>\n",
       "      <td>24.00</td>\n",
       "      <td>24.40</td>\n",
       "      <td>192,000.00</td>\n",
       "      <td>195,200.00</td>\n",
       "      <td>3,200.00</td>\n",
       "      <td>1.67</td>\n",
       "    </tr>\n",
       "    <tr>\n",
       "      <th>25</th>\n",
       "      <td>4</td>\n",
       "      <td>A1</td>\n",
       "      <td>CPF</td>\n",
       "      <td>2025-08-21</td>\n",
       "      <td>0</td>\n",
       "      <td>24.10</td>\n",
       "      <td>24.30</td>\n",
       "      <td>0.00</td>\n",
       "      <td>0.00</td>\n",
       "      <td>0.00</td>\n",
       "      <td>None</td>\n",
       "    </tr>\n",
       "    <tr>\n",
       "      <th>26</th>\n",
       "      <td>4</td>\n",
       "      <td>C3</td>\n",
       "      <td>JMT</td>\n",
       "      <td>2023-01-26</td>\n",
       "      <td>4,200</td>\n",
       "      <td>55.50</td>\n",
       "      <td>11.40</td>\n",
       "      <td>233,100.00</td>\n",
       "      <td>47,880.00</td>\n",
       "      <td>-185,220.00</td>\n",
       "      <td>-79.46</td>\n",
       "    </tr>\n",
       "    <tr>\n",
       "      <th>27</th>\n",
       "      <td>4</td>\n",
       "      <td>B2</td>\n",
       "      <td>PTG</td>\n",
       "      <td>2023-07-12</td>\n",
       "      <td>3,600</td>\n",
       "      <td>11.40</td>\n",
       "      <td>7.15</td>\n",
       "      <td>41,040.00</td>\n",
       "      <td>25,740.00</td>\n",
       "      <td>-15,300.00</td>\n",
       "      <td>-37.28</td>\n",
       "    </tr>\n",
       "    <tr>\n",
       "      <th>28</th>\n",
       "      <td>4</td>\n",
       "      <td>C1</td>\n",
       "      <td>TOA</td>\n",
       "      <td>2023-09-06</td>\n",
       "      <td>1,000</td>\n",
       "      <td>26.00</td>\n",
       "      <td>14.60</td>\n",
       "      <td>26,000.00</td>\n",
       "      <td>14,600.00</td>\n",
       "      <td>-11,400.00</td>\n",
       "      <td>-43.85</td>\n",
       "    </tr>\n",
       "  </tbody>\n",
       "</table>\n",
       "</div>"
      ],
      "text/plain": [
       "   period grade     name        date   volbuy buy_price  mkt_price  \\\n",
       "0       1    C1       AH  2023-06-08    1,200     37.00      14.60   \n",
       "1       1    A1      AWC  2023-06-15    9,000      4.96       2.42   \n",
       "2       1    A2    JMART  2023-01-20    6,800     33.00       8.35   \n",
       "3       1    C2      ORI  2022-04-07   50,000      9.00       2.26   \n",
       "4       1    C2    PTTGC  2021-03-17    6,000     64.75      27.00   \n",
       "5       1    C2      SCC  2021-09-20      600    405.00     223.00   \n",
       "6       1    A3   SINGER  2023-01-19    6,000     24.80       5.25   \n",
       "7       2    A1   AIMIRT  2023-08-17   17,500     10.60       9.55   \n",
       "8       2    C1  CPNREIT  2022-08-16   55,000     18.00      11.40   \n",
       "9       2    C1      DIF  2020-08-01   50,000     12.17       8.20   \n",
       "10      2    C1   GVREIT  2022-08-24   69,000      7.75       6.40   \n",
       "11      2    A4      MCS  2016-09-20   81,000     14.80       8.45   \n",
       "12      2    A1      NER  2021-09-01   27,000      7.45       4.30   \n",
       "13      2    A2      PTT  2025-08-08    2,500     32.00      32.00   \n",
       "14      2    B1     SENA  2022-03-29  105,000      4.48       1.86   \n",
       "15      2    C1    TFFIF  2023-07-06   20,000      7.20       6.05   \n",
       "16      2    B1    WHAIR  2021-10-11   50,000      8.70       5.40   \n",
       "17      2    C1    WHART  2022-01-05   25,000     11.60       9.00   \n",
       "18      3    A3    3BBIF  2018-05-17  120,000     10.10       6.20   \n",
       "19      3    B3      BCH  2021-09-07    4,000     21.70      13.40   \n",
       "20      3    C3      IVL  2022-08-29    7,200     40.00      22.80   \n",
       "21      3    A3      RCL  2021-11-08   27,000     38.80      26.75   \n",
       "22      3    A4      STA  2021-06-15   10,000     30.00      12.00   \n",
       "23      3    A1    SYNEX  2022-01-07   17,500     26.40      11.60   \n",
       "24      3    A4      TVO  2024-11-06    8,000     24.00      24.40   \n",
       "25      4    A1      CPF  2025-08-21        0     24.10      24.30   \n",
       "26      4    C3      JMT  2023-01-26    4,200     55.50      11.40   \n",
       "27      4    B2      PTG  2023-07-12    3,600     11.40       7.15   \n",
       "28      4    C1      TOA  2023-09-06    1,000     26.00      14.60   \n",
       "\n",
       "          amtbuy      amtmkt       amtpol  pctpol  \n",
       "0      44,400.00   17,520.00   -26,880.00  -60.54  \n",
       "1      44,640.00   21,780.00   -22,860.00  -51.21  \n",
       "2     224,400.00   56,780.00  -167,620.00  -74.70  \n",
       "3     450,000.00  113,000.00  -337,000.00  -74.89  \n",
       "4     388,500.00  162,000.00  -226,500.00  -58.30  \n",
       "5     243,000.00  133,800.00  -109,200.00  -44.94  \n",
       "6     148,800.00   31,500.00  -117,300.00  -78.83  \n",
       "7     185,500.00  167,125.00   -18,375.00   -9.91  \n",
       "8     990,000.00  627,000.00  -363,000.00  -36.67  \n",
       "9     608,500.00  410,000.00  -198,500.00  -32.62  \n",
       "10    534,750.00  441,600.00   -93,150.00  -17.42  \n",
       "11  1,198,800.00  684,450.00  -514,350.00  -42.91  \n",
       "12    201,150.00  116,100.00   -85,050.00  -42.28  \n",
       "13     80,000.00   80,000.00         0.00    0.00  \n",
       "14    470,400.00  195,300.00  -275,100.00  -58.48  \n",
       "15    144,000.00  121,000.00   -23,000.00  -15.97  \n",
       "16    435,000.00  270,000.00  -165,000.00  -37.93  \n",
       "17    290,000.00  225,000.00   -65,000.00  -22.41  \n",
       "18  1,212,000.00  744,000.00  -468,000.00  -38.61  \n",
       "19     86,800.00   53,600.00   -33,200.00  -38.25  \n",
       "20    288,000.00  164,160.00  -123,840.00  -43.00  \n",
       "21  1,047,600.00  722,250.00  -325,350.00  -31.06  \n",
       "22    300,000.00  120,000.00  -180,000.00  -60.00  \n",
       "23    462,000.00  203,000.00  -259,000.00  -56.06  \n",
       "24    192,000.00  195,200.00     3,200.00    1.67  \n",
       "25          0.00        0.00         0.00    None  \n",
       "26    233,100.00   47,880.00  -185,220.00  -79.46  \n",
       "27     41,040.00   25,740.00   -15,300.00  -37.28  \n",
       "28     26,000.00   14,600.00   -11,400.00  -43.85  "
      ]
     },
     "execution_count": 75,
     "metadata": {},
     "output_type": "execute_result"
    }
   ],
   "source": [
    "df_buy = pd.read_sql(sql, const)\n",
    "df_buy"
   ]
  },
  {
   "cell_type": "code",
   "execution_count": 76,
   "metadata": {},
   "outputs": [],
   "source": [
    "file_name = 'portfolio.csv'\n",
    "output_file = os.path.join(dat_path, file_name)\n",
    "god_file = os.path.join(god_path, file_name)\n",
    "icd_file = os.path.join(icd_path, file_name)\n",
    "osd_file = os.path.join(osd_path, file_name)"
   ]
  },
  {
   "cell_type": "code",
   "execution_count": 77,
   "metadata": {},
   "outputs": [
    {
     "name": "stdout",
     "output_type": "stream",
     "text": [
      "Output file : C:\\Users\\PC1\\OneDrive\\A5\\Data\\portfolio.csv\n",
      "icd_file : C:\\Users\\PC1\\iCloudDrive\\Data\\portfolio.csv\n",
      "god_file : C:\\Users\\PC1\\OneDrive\\Imports\\santisoontarinka@gmail.com - Google Drive\\Data\\portfolio.csv\n",
      "osd_file : C:\\Users\\PC1\\OneDrive\\Documents\\obsidian-git-sync\\Data\\portfolio.csv\n"
     ]
    }
   ],
   "source": [
    "print(f\"Output file : {output_file}\") \n",
    "print(f\"icd_file : {icd_file}\") \n",
    "print(f\"god_file : {god_file}\") \n",
    "print(f\"osd_file : {osd_file}\") "
   ]
  },
  {
   "cell_type": "code",
   "execution_count": 78,
   "metadata": {},
   "outputs": [],
   "source": [
    "df_buy.to_csv(output_file, header=True, index=False)\n",
    "df_buy.to_csv(icd_file, header=True, index=False)\n",
    "df_buy.to_csv(god_file, header=True, index=False)\n",
    "df_buy.to_csv(osd_file, header=True, index=False)"
   ]
  },
  {
   "cell_type": "code",
   "execution_count": 79,
   "metadata": {},
   "outputs": [],
   "source": [
    "file_name = '035-portfolio.xlsx'\n",
    "xsl_file = os.path.join(xsl_path, file_name)\n",
    "df_buy.to_excel(xsl_file, index=False)"
   ]
  }
 ],
 "metadata": {
  "anaconda-cloud": {},
  "kernelspec": {
   "display_name": "Python 3 (ipykernel)",
   "language": "python",
   "name": "python3"
  },
  "language_info": {
   "codemirror_mode": {
    "name": "ipython",
    "version": 3
   },
   "file_extension": ".py",
   "mimetype": "text/x-python",
   "name": "python",
   "nbconvert_exporter": "python",
   "pygments_lexer": "ipython3",
   "version": "3.12.3"
  }
 },
 "nbformat": 4,
 "nbformat_minor": 4
}
