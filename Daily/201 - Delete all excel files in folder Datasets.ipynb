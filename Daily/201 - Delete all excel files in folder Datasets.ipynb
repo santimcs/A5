{
 "cells": [
  {
   "cell_type": "code",
   "execution_count": 1,
   "id": "8379c1b4",
   "metadata": {},
   "outputs": [
    {
     "data": {
      "text/plain": [
       "datetime.datetime(2025, 1, 21, 20, 42, 32, 95513)"
      ]
     },
     "execution_count": 1,
     "metadata": {},
     "output_type": "execute_result"
    }
   ],
   "source": [
    "import glob\n",
    "import os\n",
    "from datetime import date, timedelta, datetime\n",
    "\n",
    "#today = date.today()\n",
    "current_time = datetime.now()\n",
    "current_time"
   ]
  },
  {
   "cell_type": "code",
   "execution_count": 3,
   "id": "1a5bb756-5200-4b07-8d6d-1dcef86ec546",
   "metadata": {},
   "outputs": [
    {
     "name": "stdout",
     "output_type": "stream",
     "text": [
      "Current Directory: C:\\Users\\PC1\\OneDrive\\A5\\Daily\n",
      "Required Directory: C:\\Users\\PC1\n"
     ]
    }
   ],
   "source": [
    "# Get the current working directory\n",
    "current_dir = os.getcwd()\n",
    "print(f\"Current Directory: {current_dir}\")\n",
    "\n",
    "# Derive the required directory by removing the last three folders\n",
    "required_dir = os.path.dirname(os.path.dirname(os.path.dirname(current_dir)))\n",
    "print(f\"Required Directory: {required_dir}\")"
   ]
  },
  {
   "cell_type": "code",
   "execution_count": 9,
   "id": "d1b577f3-04bb-4fd8-96aa-c7dfa81ba314",
   "metadata": {},
   "outputs": [
    {
     "name": "stdout",
     "output_type": "stream",
     "text": [
      "dts_path: C:\\Users\\PC1\\Downloads\\Datasets\n"
     ]
    }
   ],
   "source": [
    "dts_path = os.path.join(required_dir, \"Downloads\", \"Datasets\")\n",
    "print(f\"dts_path: {dts_path}\")"
   ]
  },
  {
   "cell_type": "code",
   "execution_count": 11,
   "id": "748fde26-ade3-4f1f-aee1-81895881b7bb",
   "metadata": {},
   "outputs": [
    {
     "name": "stdout",
     "output_type": "stream",
     "text": [
      "Delete C:\\Users\\PC1\\Downloads\\Datasets\\StockQuotation (1).xlsx\n",
      "Delete C:\\Users\\PC1\\Downloads\\Datasets\\StockQuotation (10).xlsx\n",
      "Delete C:\\Users\\PC1\\Downloads\\Datasets\\StockQuotation (11).xlsx\n",
      "Delete C:\\Users\\PC1\\Downloads\\Datasets\\StockQuotation (12).xlsx\n",
      "Delete C:\\Users\\PC1\\Downloads\\Datasets\\StockQuotation (2).xlsx\n",
      "Delete C:\\Users\\PC1\\Downloads\\Datasets\\StockQuotation (3).xlsx\n",
      "Delete C:\\Users\\PC1\\Downloads\\Datasets\\StockQuotation (4).xlsx\n",
      "Delete C:\\Users\\PC1\\Downloads\\Datasets\\StockQuotation (5).xlsx\n",
      "Delete C:\\Users\\PC1\\Downloads\\Datasets\\StockQuotation (6).xlsx\n",
      "Delete C:\\Users\\PC1\\Downloads\\Datasets\\StockQuotation (7).xlsx\n",
      "Delete C:\\Users\\PC1\\Downloads\\Datasets\\StockQuotation (8).xlsx\n",
      "Delete C:\\Users\\PC1\\Downloads\\Datasets\\StockQuotation (9).xlsx\n",
      "Delete C:\\Users\\PC1\\Downloads\\Datasets\\StockQuotation.xlsx\n"
     ]
    }
   ],
   "source": [
    "for filename in glob.glob(os.path.join(dts_path, '*.xlsx')):\n",
    "    print(f'Delete {filename}')\n",
    "    os.remove(filename)"
   ]
  },
  {
   "cell_type": "code",
   "execution_count": null,
   "id": "30d06b9d",
   "metadata": {},
   "outputs": [],
   "source": []
  }
 ],
 "metadata": {
  "kernelspec": {
   "display_name": "Python 3 (ipykernel)",
   "language": "python",
   "name": "python3"
  },
  "language_info": {
   "codemirror_mode": {
    "name": "ipython",
    "version": 3
   },
   "file_extension": ".py",
   "mimetype": "text/x-python",
   "name": "python",
   "nbconvert_exporter": "python",
   "pygments_lexer": "ipython3",
   "version": "3.12.3"
  }
 },
 "nbformat": 4,
 "nbformat_minor": 5
}
