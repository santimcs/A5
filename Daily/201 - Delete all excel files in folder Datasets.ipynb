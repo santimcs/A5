{
 "cells": [
  {
   "cell_type": "code",
   "execution_count": 1,
   "id": "8379c1b4",
   "metadata": {},
   "outputs": [
    {
     "name": "stdout",
     "output_type": "stream",
     "text": [
      "2025-09-05 20:03:52\n"
     ]
    }
   ],
   "source": [
    "import glob\n",
    "import os\n",
    "from datetime import date, timedelta, datetime\n",
    "\n",
    "# Get the current time\n",
    "current_time = datetime.now()\n",
    "# Format the time to remove milliseconds\n",
    "formatted_time = current_time.strftime(\"%Y-%m-%d %H:%M:%S\")\n",
    "print(formatted_time)"
   ]
  },
  {
   "cell_type": "code",
   "execution_count": 3,
   "id": "feaed2b2-8020-45ab-9c57-f0889cb2601e",
   "metadata": {},
   "outputs": [
    {
     "name": "stdout",
     "output_type": "stream",
     "text": [
      "Datasets path: C:\\Users\\PC1\\Downloads\\Datasets\n"
     ]
    }
   ],
   "source": [
    "# Get the user's home directory\n",
    "user_path = os.path.expanduser('~')\n",
    "dts_path = os.path.join(user_path, \"Downloads\", \"Datasets\")\n",
    "print(f\"Datasets path: {dts_path}\")"
   ]
  },
  {
   "cell_type": "code",
   "execution_count": 5,
   "id": "748fde26-ade3-4f1f-aee1-81895881b7bb",
   "metadata": {},
   "outputs": [
    {
     "name": "stdout",
     "output_type": "stream",
     "text": [
      "Delete C:\\Users\\PC1\\Downloads\\Datasets\\StockQuotation (1).xlsx\n",
      "Delete C:\\Users\\PC1\\Downloads\\Datasets\\StockQuotation (10).xlsx\n",
      "Delete C:\\Users\\PC1\\Downloads\\Datasets\\StockQuotation (2).xlsx\n",
      "Delete C:\\Users\\PC1\\Downloads\\Datasets\\StockQuotation (3).xlsx\n",
      "Delete C:\\Users\\PC1\\Downloads\\Datasets\\StockQuotation (4).xlsx\n",
      "Delete C:\\Users\\PC1\\Downloads\\Datasets\\StockQuotation (5).xlsx\n",
      "Delete C:\\Users\\PC1\\Downloads\\Datasets\\StockQuotation (6).xlsx\n",
      "Delete C:\\Users\\PC1\\Downloads\\Datasets\\StockQuotation (7).xlsx\n",
      "Delete C:\\Users\\PC1\\Downloads\\Datasets\\StockQuotation (8).xlsx\n",
      "Delete C:\\Users\\PC1\\Downloads\\Datasets\\StockQuotation (9).xlsx\n",
      "Delete C:\\Users\\PC1\\Downloads\\Datasets\\StockQuotation.xlsx\n"
     ]
    }
   ],
   "source": [
    "for filename in glob.glob(os.path.join(dts_path, '*.xlsx')):\n",
    "    print(f'Delete {filename}')\n",
    "    os.remove(filename)"
   ]
  },
  {
   "cell_type": "code",
   "execution_count": 7,
   "id": "30d06b9d",
   "metadata": {},
   "outputs": [
    {
     "name": "stdout",
     "output_type": "stream",
     "text": [
      "2025-09-05 20:03:54\n"
     ]
    }
   ],
   "source": [
    "# Get the current time\n",
    "current_time = datetime.now()\n",
    "# Format the time to remove milliseconds\n",
    "formatted_time = current_time.strftime(\"%Y-%m-%d %H:%M:%S\")\n",
    "print(formatted_time)"
   ]
  },
  {
   "cell_type": "code",
   "execution_count": null,
   "id": "39843bc9-3ca2-46ec-abf0-c1fdbee89191",
   "metadata": {},
   "outputs": [],
   "source": []
  }
 ],
 "metadata": {
  "kernelspec": {
   "display_name": "Python 3 (ipykernel)",
   "language": "python",
   "name": "python3"
  },
  "language_info": {
   "codemirror_mode": {
    "name": "ipython",
    "version": 3
   },
   "file_extension": ".py",
   "mimetype": "text/x-python",
   "name": "python",
   "nbconvert_exporter": "python",
   "pygments_lexer": "ipython3",
   "version": "3.12.3"
  }
 },
 "nbformat": 4,
 "nbformat_minor": 5
}
