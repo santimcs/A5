{
 "cells": [
  {
   "cell_type": "code",
   "execution_count": 1,
   "id": "77922447-b0c0-44fc-ab3f-83078257bbf2",
   "metadata": {},
   "outputs": [],
   "source": [
    "import os"
   ]
  },
  {
   "cell_type": "code",
   "execution_count": 3,
   "id": "2c7a4989-0259-4d3f-ac83-b29e6096cda1",
   "metadata": {},
   "outputs": [
    {
     "name": "stdout",
     "output_type": "stream",
     "text": [
      "User path: C:\\Users\\PC1\n"
     ]
    }
   ],
   "source": [
    "# Get the user's home directory\n",
    "user_path = os.path.expanduser('~')\n",
    "print(\"User path:\", user_path)"
   ]
  },
  {
   "cell_type": "code",
   "execution_count": 5,
   "id": "5c2d9327-4a08-4906-ab6c-43f1bd049d75",
   "metadata": {},
   "outputs": [
    {
     "name": "stdout",
     "output_type": "stream",
     "text": [
      "Current path: C:\\Users\\PC1\\OneDrive\\A5\\Daily\n"
     ]
    }
   ],
   "source": [
    "# Get the current working directory\n",
    "current_path = os.getcwd()\n",
    "print(f\"Current path: {current_path}\") "
   ]
  },
  {
   "cell_type": "code",
   "execution_count": 7,
   "id": "92effc5d-42fd-44cc-9d06-38059e27a2ce",
   "metadata": {},
   "outputs": [
    {
     "name": "stdout",
     "output_type": "stream",
     "text": [
      "Base path (base_path): C:\\Users\\PC1\\OneDrive\\A5\n"
     ]
    }
   ],
   "source": [
    "# Derive the base directory (base_dir) by removing the last folder ('Daily')\n",
    "base_path = os.path.dirname(current_path)\n",
    "print(f\"Base path (base_path): {base_path}\") "
   ]
  },
  {
   "cell_type": "code",
   "execution_count": 9,
   "id": "95998878-9969-439e-b4c3-f60f632df678",
   "metadata": {},
   "outputs": [
    {
     "name": "stdout",
     "output_type": "stream",
     "text": [
      "iCloudDrive path (icd_path): C:\\Users\\PC1\\iCloudDrive\n"
     ]
    }
   ],
   "source": [
    "icd_path = os.path.join(user_path, \"iCloudDrive\")\n",
    "print(f\"iCloudDrive path (icd_path): {icd_path}\") "
   ]
  },
  {
   "cell_type": "code",
   "execution_count": 11,
   "id": "e34a466e-8448-49f7-9e6d-31d2283f4e50",
   "metadata": {},
   "outputs": [
    {
     "name": "stdout",
     "output_type": "stream",
     "text": [
      "Data path (dat_path): C:\\Users\\PC1\\OneDrive\\A5\\Data\n"
     ]
    }
   ],
   "source": [
    "dat_path = os.path.join(base_path, \"Data\")\n",
    "print(f\"Data path (dat_path): {dat_path}\") "
   ]
  },
  {
   "cell_type": "code",
   "execution_count": 13,
   "id": "6c6e76b1-384e-47f8-9134-cbc50ed1a1d5",
   "metadata": {},
   "outputs": [
    {
     "name": "stdout",
     "output_type": "stream",
     "text": [
      "DataSet path (dts_path): C:\\Users\\PC1\\OneDrive\\Downloads\\Datasets\n"
     ]
    }
   ],
   "source": [
    "dts_path = os.path.join(user_path, \"OneDrive\", \"Downloads\", \"Datasets\")\n",
    "print(f\"DataSet path (dts_path): {dts_path}\") "
   ]
  },
  {
   "cell_type": "code",
   "execution_count": 15,
   "id": "6adc9d58-68f4-46ac-ba3a-2572f1c2e489",
   "metadata": {},
   "outputs": [
    {
     "name": "stdout",
     "output_type": "stream",
     "text": [
      "OSD path (osd_path): C:\\Users\\PC1\\OneDrive\\Documents\\obsidian-git-sync\\Data\n"
     ]
    }
   ],
   "source": [
    "#C:\\Users\\PC1\\OneDrive\\Documents\\obsidian-git-sync\\Data\n",
    "osd_path = os.path.join(user_path, \"OneDrive\",\"Documents\",\"obsidian-git-sync\",\"Data\")\n",
    "print(f\"OSD path (osd_path): {osd_path}\") "
   ]
  },
  {
   "cell_type": "code",
   "execution_count": 17,
   "id": "88a867f5-6b78-4aff-8774-33add0d16390",
   "metadata": {},
   "outputs": [
    {
     "name": "stdout",
     "output_type": "stream",
     "text": [
      "Excel path (xsl_path): C:\\Users\\PC1\\OneDrive\\A5\\Excel\n"
     ]
    }
   ],
   "source": [
    "xsl_path = os.path.join(base_path, \"Excel\")\n",
    "print(f\"Excel path (xsl_path): {xsl_path}\") "
   ]
  },
  {
   "cell_type": "code",
   "execution_count": 19,
   "id": "18a670c9-4023-4e0a-b428-8d02db6cb00c",
   "metadata": {},
   "outputs": [
    {
     "name": "stdout",
     "output_type": "stream",
     "text": [
      "Excel file (xsl_file): C:\\Users\\PC1\\OneDrive\\A5\\Excel\\pub_stock.xlsx\n"
     ]
    }
   ],
   "source": [
    "file_name = 'pub_stock.xlsx'\n",
    "xsl_file = os.path.join(xsl_path, file_name)\n",
    "print(f\"Excel file (xsl_file): {xsl_file}\") "
   ]
  },
  {
   "cell_type": "code",
   "execution_count": 21,
   "id": "30e5d6d8-6fe5-47b4-97fe-1e5e940ef5b1",
   "metadata": {},
   "outputs": [],
   "source": [
    "# Get the user's home directory\n",
    "user_path = os.path.expanduser('~')\n",
    "# Get the current working directory\n",
    "current_path = os.getcwd()\n",
    "# Derive the base directory (base_dir) by removing the last folder ('Daily')\n",
    "base_path = os.path.dirname(current_path)\n",
    "#C:\\Users\\PC1\\OneDrive\\A5\\Data\n",
    "dat_path = os.path.join(base_path, \"Data\")\n",
    "#C:\\Users\\PC1\\Downloads\\Datasets\n",
    "dts_path = os.path.join(user_path, \"Downloads\", \"Datasets\")\n",
    "#C:\\Users\\PC1\\OneDrive\\Imports\\santisoontarinka@gmail.com - Google Drive\\Data>\n",
    "god_path = os.path.join(user_path, \"OneDrive\",\"Imports\",\"santisoontarinka@gmail.com - Google Drive\",\"Data\")\n",
    "#C:\\Users\\PC1\\iCloudDrive\\data\n",
    "icd_path = os.path.join(user_path, \"iCloudDrive\", \"Data\")\n",
    "#C:\\Users\\PC1\\OneDrive\\Documents\\obsidian-git-sync\\Data\n",
    "osd_path = os.path.join(user_path, \"OneDrive\",\"Documents\",\"obsidian-git-sync\",\"Data\")\n",
    "#C:\\Users\\PC1\\OneDrive\\A5\\Excel\n",
    "xsl_path = os.path.join(base_path, \"Excel\")"
   ]
  },
  {
   "cell_type": "code",
   "execution_count": 23,
   "id": "49ae023f-c6de-4eb1-b646-3d40221547fb",
   "metadata": {},
   "outputs": [
    {
     "name": "stdout",
     "output_type": "stream",
     "text": [
      "User path: C:\\Users\\PC1\n",
      "Current path: C:\\Users\\PC1\\OneDrive\\A5\\Daily\n",
      "Data path (dat_path): C:\\Users\\PC1\\OneDrive\\A5\\Data\n",
      "Datasets path (dts_path): C:\\Users\\PC1\\Downloads\\Datasets\n",
      "Excel path (xsl_path): C:\\Users\\PC1\\OneDrive\\A5\\Excel\n",
      "Google Drive path (god_path): C:\\Users\\PC1\\OneDrive\\Imports\\santisoontarinka@gmail.com - Google Drive\\Data\n",
      "iCloudDrive path (icd_path): C:\\Users\\PC1\\iCloudDrive\\Data\n",
      "Obsidian path (osd_path): C:\\Users\\PC1\\OneDrive\\Documents\\obsidian-git-sync\\Data\n"
     ]
    }
   ],
   "source": [
    "print(\"User path:\", user_path)\n",
    "print(f\"Current path: {current_path}\")\n",
    "print(f\"Base path: {base_path}\")\n",
    "print(f\"Data path (dat_path): {dat_path}\") \n",
    "print(f\"Datasets path (dts_path): {dts_path}\") \n",
    "print(f\"Excel path (xsl_path): {xsl_path}\") \n",
    "print(f\"Google Drive path (god_path): {god_path}\")\n",
    "print(f\"iCloudDrive path (icd_path): {icd_path}\") \n",
    "print(f\"Obsidian path (osd_path): {osd_path}\") "
   ]
  },
  {
   "cell_type": "code",
   "execution_count": null,
   "id": "c3bab39a-aa51-4ff2-a020-785cd3c7220c",
   "metadata": {},
   "outputs": [],
   "source": [
    "file_name = \"StockQuotation.xlsx\"\n",
    "input_file = os.path.join(dat_path, file_name)\n",
    "print(f\"Input file : {input_file}\") "
   ]
  },
  {
   "cell_type": "code",
   "execution_count": 33,
   "id": "e827a2b3-5def-45d1-8feb-c7da23890bc3",
   "metadata": {},
   "outputs": [],
   "source": [
    "file_name = \"Price.csv\"\n",
    "output_file = os.path.join(dat_path, file_name)\n",
    "xsl_file = os.path.join(xsl_path, file_name)\n",
    "god_file = os.path.join(god_path, file_name)\n",
    "icd_file = os.path.join(icd_path, file_name)\n",
    "osd_file = os.path.join(osd_path, file_name)"
   ]
  },
  {
   "cell_type": "code",
   "execution_count": 35,
   "id": "26b83bd2-5305-47af-8430-06de8316ac39",
   "metadata": {},
   "outputs": [
    {
     "name": "stdout",
     "output_type": "stream",
     "text": [
      "Output file : C:\\Users\\PC1\\OneDrive\\A5\\Data\\Price.csv\n",
      "xsl_file : C:\\Users\\PC1\\OneDrive\\A5\\Excel\\Price.csv\n",
      "icd_file : C:\\Users\\PC1\\iCloudDrive\\Data\\Price.csv\n",
      "god_file : C:\\Users\\PC1\\OneDrive\\Imports\\santisoontarinka@gmail.com - Google Drive\\Data\\Price.csv\n",
      "osd_file : C:\\Users\\PC1\\OneDrive\\Documents\\obsidian-git-sync\\Data\\Price.csv\n"
     ]
    }
   ],
   "source": [
    "print(f\"Output file : {output_file}\") \n",
    "print(f\"xsl_file : {xsl_file}\") \n",
    "print(f\"icd_file : {icd_file}\") \n",
    "print(f\"god_file : {god_file}\") \n",
    "print(f\"osd_file : {osd_file}\") "
   ]
  },
  {
   "cell_type": "code",
   "execution_count": null,
   "id": "19bea9fa-c8fe-48fe-9a74-1dc4a25dcd2a",
   "metadata": {},
   "outputs": [],
   "source": [
    "conlt.commit()\n",
    "conlt.close()"
   ]
  },
  {
   "cell_type": "code",
   "execution_count": null,
   "id": "39673512-a18b-4ef8-9cb4-8b399da17257",
   "metadata": {},
   "outputs": [],
   "source": [
    "conmy.commit()\n",
    "conmy.close()"
   ]
  },
  {
   "cell_type": "code",
   "execution_count": null,
   "id": "c06cbcb2-8d0d-4e82-aee5-9975d9325712",
   "metadata": {},
   "outputs": [],
   "source": [
    "conpg.commit()\n",
    "conpg.close()"
   ]
  },
  {
   "cell_type": "code",
   "execution_count": null,
   "id": "470ee66a-9ac8-494c-8180-978ec0da5dd3",
   "metadata": {},
   "outputs": [],
   "source": [
    "conar.commit()\n",
    "conlt.close()"
   ]
  }
 ],
 "metadata": {
  "kernelspec": {
   "display_name": "Python 3 (ipykernel)",
   "language": "python",
   "name": "python3"
  },
  "language_info": {
   "codemirror_mode": {
    "name": "ipython",
    "version": 3
   },
   "file_extension": ".py",
   "mimetype": "text/x-python",
   "name": "python",
   "nbconvert_exporter": "python",
   "pygments_lexer": "ipython3",
   "version": "3.12.3"
  }
 },
 "nbformat": 4,
 "nbformat_minor": 5
}
