{
 "cells": [
  {
   "cell_type": "markdown",
   "id": "29764f10",
   "metadata": {},
   "source": [
    "### Restart and Run All Cells"
   ]
  },
  {
   "cell_type": "markdown",
   "id": "d8a383f5",
   "metadata": {},
   "source": [
    "### Input files: Price-Today, orders-log\n",
    "### Output files: Price-for-Order, orders-log, monthly-sales"
   ]
  },
  {
   "cell_type": "code",
   "execution_count": 3,
   "id": "2a2bb67d",
   "metadata": {},
   "outputs": [
    {
     "name": "stdout",
     "output_type": "stream",
     "text": [
      "2025-08-31 2025-08-30\n"
     ]
    }
   ],
   "source": [
    "import glob\n",
    "import os\n",
    "import pandas as pd\n",
    "from datetime import date, timedelta, datetime\n",
    "from pandas.tseries.offsets import *\n",
    "from sqlalchemy import create_engine\n",
    "\n",
    "engine = create_engine(\"sqlite:///c:\\\\ruby\\\\port_lite\\\\db\\\\development.sqlite3\")\n",
    "conlite = engine.connect()\n",
    "engine = create_engine('mysql+pymysql://root:@localhost:3306/portfolio_development')\n",
    "conpf = engine.connect()\n",
    "engine = create_engine(\"mysql+pymysql://root:@localhost:3306/stock\")\n",
    "const = engine.connect()\n",
    "\n",
    "pd.options.display.max_rows = 50\n",
    "#pd.options.display.float_format = '{:.2f}'.format\n",
    "\n",
    "today = date.today()\n",
    "yesterday = today - timedelta(days=1)\n",
    "print(today, yesterday)"
   ]
  },
  {
   "cell_type": "code",
   "execution_count": 4,
   "id": "827c35b1-74ae-4922-afc4-63c50c6d3a5d",
   "metadata": {},
   "outputs": [
    {
     "name": "stdout",
     "output_type": "stream",
     "text": [
      "2025-08-31 17:01:35\n"
     ]
    }
   ],
   "source": [
    "# Get the current time\n",
    "current_time = datetime.now()\n",
    "# Format the time to remove milliseconds\n",
    "fmt_time = current_time.strftime(\"%Y-%m-%d %H:%M:%S\")\n",
    "print(fmt_time)"
   ]
  },
  {
   "cell_type": "code",
   "execution_count": 5,
   "id": "d6b5b24c",
   "metadata": {},
   "outputs": [
    {
     "name": "stdout",
     "output_type": "stream",
     "text": [
      "Data path (dat_path): C:\\Users\\PC1\\OneDrive\\A5\\Data\n",
      "Input file: C:\\Users\\PC1\\OneDrive\\A5\\Data\\Price-Today.csv\n"
     ]
    }
   ],
   "source": [
    "current_path = os.getcwd()\n",
    "base_path = os.path.dirname(current_path)\n",
    "dat_path = os.path.join(base_path, \"Data\")\n",
    "print(f\"Data path (dat_path): {dat_path}\") \n",
    "file_name = \"Price-Today.csv\"\n",
    "input_file = os.path.join(dat_path, file_name)\n",
    "print(f\"Input file: {input_file}\")"
   ]
  },
  {
   "cell_type": "code",
   "execution_count": 6,
   "id": "1c1fe541-7848-47db-90fa-597130927cea",
   "metadata": {},
   "outputs": [],
   "source": [
    "# Define a formatting function that converts a float to a string with two decimal places\n",
    "def to_currency(x):\n",
    "    return '฿{:,.2f}'.format(x)    \n",
    "\n",
    "# Define a formatting function that converts an integer to a string with comma and no decimal places\n",
    "def to_integer(x):\n",
    "    return '{:,.0f}'.format(x)\n",
    "\n",
    "# Define a formatting function that converts an integer to a string with comma and no decimal places\n",
    "def to_percent(x):\n",
    "    return '{:,.2f}%'.format(x)\n",
    "\n",
    "# Define a formatting function that converts an integer to a string with comma and no decimal places\n",
    "def to_date(x):\n",
    "    return '{:%Y-%m-%d}'.format(x)"
   ]
  },
  {
   "cell_type": "code",
   "execution_count": 7,
   "id": "f9f6b3d9",
   "metadata": {},
   "outputs": [
    {
     "data": {
      "text/plain": [
       "name         object\n",
       "date         object\n",
       "price       float64\n",
       "change      float64\n",
       "%change     float64\n",
       "open        float64\n",
       "high        float64\n",
       "low         float64\n",
       "volume        int64\n",
       "value(m)    float64\n",
       "dtype: object"
      ]
     },
     "execution_count": 7,
     "metadata": {},
     "output_type": "execute_result"
    }
   ],
   "source": [
    "df_price_tdy = pd.read_csv(input_file)\n",
    "df_price_tdy.dtypes\n",
    "#df_price_tdy.columns.tolist()"
   ]
  },
  {
   "cell_type": "markdown",
   "id": "244ace00-5566-43a0-b486-8c0be4456a35",
   "metadata": {},
   "source": [
    "### Purchase recently sold stocks if price lower than last sold"
   ]
  },
  {
   "cell_type": "code",
   "execution_count": 9,
   "id": "f14ba2ab-f6f8-4e50-9941-45ec14d6a5cb",
   "metadata": {},
   "outputs": [
    {
     "data": {
      "text/plain": [
       "\"'3BBIF', 'AH', 'AIMIRT', 'AWC', 'BCH', 'CPF', 'CPNREIT', 'DIF', 'GVREIT', 'IVL', 'JMART', 'JMT', 'MCS', 'NER', 'ORI', 'PTG', 'PTT', 'PTTGC', 'RCL', 'SCC', 'SENA', 'SINGER', 'STA', 'SYNEX', 'TFFIF', 'TOA', 'TVO', 'WHAIR', 'WHART'\""
      ]
     },
     "execution_count": 9,
     "metadata": {},
     "output_type": "execute_result"
    }
   ],
   "source": [
    "#Select name from portfolio\n",
    "sql = \"\"\"SELECT name FROM buy\"\"\"\n",
    "df_buy = pd.read_sql(sql, const)\n",
    "names = df_buy.name\n",
    "portfolio = \", \".join(map(lambda name: \"'%s'\" % name, names))\n",
    "portfolio "
   ]
  },
  {
   "cell_type": "code",
   "execution_count": 10,
   "id": "35de6861-8e97-478a-a880-f103249b0159",
   "metadata": {},
   "outputs": [
    {
     "data": {
      "text/plain": [
       "(247, 6)"
      ]
     },
     "execution_count": 10,
     "metadata": {},
     "output_type": "execute_result"
    }
   ],
   "source": [
    "#\n",
    "sql = \"\"\"\n",
    "    SELECT T.name, S.date AS sell_date, S.price AS sell_price, B.price AS buy_price, B.date AS buy_date, B.qty\n",
    "    FROM sells S\n",
    "    JOIN buys B\n",
    "    ON S.buy_id = B.id \n",
    "    JOIN stocks T\n",
    "    ON T.id = B.stock_id \n",
    "    WHERE T.name IN ({})\n",
    "    ORDER BY T.name, S.date DESC\n",
    "\"\"\".format(portfolio)\n",
    "df_sells = pd.read_sql(sql, conpf)\n",
    "df_sells.shape"
   ]
  },
  {
   "cell_type": "code",
   "execution_count": 11,
   "id": "9d35b43b-65cd-4879-ac0c-8c8d39b86869",
   "metadata": {},
   "outputs": [
    {
     "data": {
      "text/plain": [
       "name           object\n",
       "sell_date      object\n",
       "sell_price    float64\n",
       "buy_price     float64\n",
       "buy_date       object\n",
       "qty             int64\n",
       "dtype: object"
      ]
     },
     "execution_count": 11,
     "metadata": {},
     "output_type": "execute_result"
    }
   ],
   "source": [
    "df_sells.dtypes\n",
    "#df_sells.columns.tolist()"
   ]
  },
  {
   "cell_type": "code",
   "execution_count": 12,
   "id": "d15efeb2-ce6d-4fe8-8e70-cf6ccf634e06",
   "metadata": {},
   "outputs": [
    {
     "data": {
      "text/plain": [
       "(27, 6)"
      ]
     },
     "execution_count": 12,
     "metadata": {},
     "output_type": "execute_result"
    }
   ],
   "source": [
    "# Convert dates to datetime if they're not already\n",
    "df_sells['sell_date'] = pd.to_datetime(df_sells['sell_date'])\n",
    "\n",
    "# Get the latest record for each name\n",
    "latest_records = df_sells.sort_values('sell_date', ascending=False).drop_duplicates('name')\n",
    "latest_records.shape"
   ]
  },
  {
   "cell_type": "code",
   "execution_count": 13,
   "id": "50574919-a3e6-4ea4-ba43-489dac955e5e",
   "metadata": {},
   "outputs": [],
   "source": [
    "colu = 'name sell_date qty sell_price price low target %decline'.split()\n",
    "sell_data   = pd.merge(latest_records, df_price_tdy, on='name', how='inner')\n",
    "sell_data['diff'] = sell_data['price'] - sell_data['sell_price']\n",
    "sell_data['%decline'] = round(sell_data['diff'] / (sell_data['sell_price']) * 100,2)\n",
    "#sell_data['sell_date'] = pd.to_datetime(sell_data['sell_date'])\n",
    "sell_data['target'] = round(sell_data['sell_price'] * 0.9,2)\n",
    "#sell_data['amount'] = round(sell_data['target'] * sell_data['qty'])"
   ]
  },
  {
   "cell_type": "code",
   "execution_count": 14,
   "id": "35b9a3ff-337e-4863-ae57-88f8c52f25ed",
   "metadata": {},
   "outputs": [
    {
     "data": {
      "text/html": [
       "<div>\n",
       "<style scoped>\n",
       "    .dataframe tbody tr th:only-of-type {\n",
       "        vertical-align: middle;\n",
       "    }\n",
       "\n",
       "    .dataframe tbody tr th {\n",
       "        vertical-align: top;\n",
       "    }\n",
       "\n",
       "    .dataframe thead th {\n",
       "        text-align: right;\n",
       "    }\n",
       "</style>\n",
       "<table border=\"1\" class=\"dataframe\">\n",
       "  <thead>\n",
       "    <tr style=\"text-align: right;\">\n",
       "      <th></th>\n",
       "      <th>name</th>\n",
       "      <th>sell_date</th>\n",
       "      <th>qty</th>\n",
       "      <th>sell_price</th>\n",
       "      <th>price</th>\n",
       "      <th>low</th>\n",
       "      <th>target</th>\n",
       "      <th>%decline</th>\n",
       "    </tr>\n",
       "  </thead>\n",
       "  <tbody>\n",
       "    <tr>\n",
       "      <th>16</th>\n",
       "      <td>STA</td>\n",
       "      <td>2024-01-03</td>\n",
       "      <td>2500</td>\n",
       "      <td>16.9</td>\n",
       "      <td>12.1</td>\n",
       "      <td>11.9</td>\n",
       "      <td>15.21</td>\n",
       "      <td>-28.4</td>\n",
       "    </tr>\n",
       "  </tbody>\n",
       "</table>\n",
       "</div>"
      ],
      "text/plain": [
       "   name  sell_date   qty  sell_price  price   low  target  %decline\n",
       "16  STA 2024-01-03  2500        16.9   12.1  11.9   15.21     -28.4"
      ]
     },
     "execution_count": 14,
     "metadata": {},
     "output_type": "execute_result"
    }
   ],
   "source": [
    "# Apply filtering with both conditions\n",
    "filtered = sell_data.loc[\n",
    "    (sell_data['sell_price'] >= sell_data['price']),colu]\n",
    "\n",
    "# Sort by %decline   descending\n",
    "filtered = filtered.sort_values('%decline', ascending=True)\n",
    "\n",
    "# Format display (if format_dict is defined)\n",
    "#filtered.style.format(format_dict)\n",
    "filtered.sample()"
   ]
  },
  {
   "cell_type": "code",
   "execution_count": 15,
   "id": "02b2ff9b-00f5-4964-a80c-107a5dd750d4",
   "metadata": {},
   "outputs": [
    {
     "data": {
      "text/html": [
       "<div>\n",
       "<style scoped>\n",
       "    .dataframe tbody tr th:only-of-type {\n",
       "        vertical-align: middle;\n",
       "    }\n",
       "\n",
       "    .dataframe tbody tr th {\n",
       "        vertical-align: top;\n",
       "    }\n",
       "\n",
       "    .dataframe thead th {\n",
       "        text-align: right;\n",
       "    }\n",
       "</style>\n",
       "<table border=\"1\" class=\"dataframe\">\n",
       "  <thead>\n",
       "    <tr style=\"text-align: right;\">\n",
       "      <th></th>\n",
       "      <th>name</th>\n",
       "      <th>sell_date</th>\n",
       "      <th>qty</th>\n",
       "      <th>sell_price</th>\n",
       "      <th>price</th>\n",
       "      <th>low</th>\n",
       "      <th>target</th>\n",
       "      <th>%decline</th>\n",
       "    </tr>\n",
       "  </thead>\n",
       "  <tbody>\n",
       "    <tr>\n",
       "      <th>12</th>\n",
       "      <td>WHART</td>\n",
       "      <td>2024-08-26</td>\n",
       "      <td>5,000</td>\n",
       "      <td>฿10.30</td>\n",
       "      <td>฿9.00</td>\n",
       "      <td>฿9.00</td>\n",
       "      <td>฿9.27</td>\n",
       "      <td>-12.62%</td>\n",
       "    </tr>\n",
       "    <tr>\n",
       "      <th>15</th>\n",
       "      <td>BCH</td>\n",
       "      <td>2024-01-04</td>\n",
       "      <td>2,000</td>\n",
       "      <td>฿22.90</td>\n",
       "      <td>฿13.00</td>\n",
       "      <td>฿12.90</td>\n",
       "      <td>฿20.61</td>\n",
       "      <td>-43.23%</td>\n",
       "    </tr>\n",
       "    <tr>\n",
       "      <th>3</th>\n",
       "      <td>RCL</td>\n",
       "      <td>2025-08-08</td>\n",
       "      <td>3,000</td>\n",
       "      <td>฿31.00</td>\n",
       "      <td>฿27.50</td>\n",
       "      <td>฿27.50</td>\n",
       "      <td>฿27.90</td>\n",
       "      <td>-11.29%</td>\n",
       "    </tr>\n",
       "    <tr>\n",
       "      <th>19</th>\n",
       "      <td>SYNEX</td>\n",
       "      <td>2022-12-30</td>\n",
       "      <td>3,000</td>\n",
       "      <td>฿16.50</td>\n",
       "      <td>฿11.80</td>\n",
       "      <td>฿11.30</td>\n",
       "      <td>฿14.85</td>\n",
       "      <td>-28.48%</td>\n",
       "    </tr>\n",
       "    <tr>\n",
       "      <th>5</th>\n",
       "      <td>JMART</td>\n",
       "      <td>2025-08-07</td>\n",
       "      <td>3,200</td>\n",
       "      <td>฿9.40</td>\n",
       "      <td>฿8.25</td>\n",
       "      <td>฿8.25</td>\n",
       "      <td>฿8.46</td>\n",
       "      <td>-12.23%</td>\n",
       "    </tr>\n",
       "  </tbody>\n",
       "</table>\n",
       "</div>"
      ],
      "text/plain": [
       "     name  sell_date    qty sell_price   price     low  target %decline\n",
       "12  WHART 2024-08-26  5,000     ฿10.30   ฿9.00   ฿9.00   ฿9.27  -12.62%\n",
       "15    BCH 2024-01-04  2,000     ฿22.90  ฿13.00  ฿12.90  ฿20.61  -43.23%\n",
       "3     RCL 2025-08-08  3,000     ฿31.00  ฿27.50  ฿27.50  ฿27.90  -11.29%\n",
       "19  SYNEX 2022-12-30  3,000     ฿16.50  ฿11.80  ฿11.30  ฿14.85  -28.48%\n",
       "5   JMART 2025-08-07  3,200      ฿9.40   ฿8.25   ฿8.25   ฿8.46  -12.23%"
      ]
     },
     "execution_count": 15,
     "metadata": {},
     "output_type": "execute_result"
    }
   ],
   "source": [
    "# Convert columns to interger\n",
    "filtered[\"qty\"] = filtered[\"qty\"].astype(int)\n",
    "# Apply formatting\n",
    "filtered[[\"qty\"]] = filtered[[\"qty\"]].apply(lambda col: col.map(to_integer))\n",
    "filtered[[\"sell_price\", \"price\",\"low\", \"target\"]] = \\\n",
    "filtered[[\"sell_price\", \"price\",\"low\", \"target\"]].apply(lambda col: col.map(to_currency))\n",
    "filtered[[\"%decline\"]] = filtered[[\"%decline\"]].apply(lambda col: col.map(to_percent))\n",
    "filtered.sample(5)"
   ]
  },
  {
   "cell_type": "code",
   "execution_count": 16,
   "id": "a57d3925-bc23-475c-b6f3-bb24b8084c1e",
   "metadata": {},
   "outputs": [
    {
     "data": {
      "text/html": [
       "<div>\n",
       "<style scoped>\n",
       "    .dataframe tbody tr th:only-of-type {\n",
       "        vertical-align: middle;\n",
       "    }\n",
       "\n",
       "    .dataframe tbody tr th {\n",
       "        vertical-align: top;\n",
       "    }\n",
       "\n",
       "    .dataframe thead th {\n",
       "        text-align: right;\n",
       "    }\n",
       "</style>\n",
       "<table border=\"1\" class=\"dataframe\">\n",
       "  <thead>\n",
       "    <tr style=\"text-align: right;\">\n",
       "      <th></th>\n",
       "      <th>name</th>\n",
       "      <th>sell_date</th>\n",
       "      <th>qty</th>\n",
       "      <th>sell_price</th>\n",
       "      <th>price</th>\n",
       "      <th>low</th>\n",
       "      <th>target</th>\n",
       "      <th>%decline</th>\n",
       "    </tr>\n",
       "  </thead>\n",
       "  <tbody>\n",
       "    <tr>\n",
       "      <th>1</th>\n",
       "      <td>MCS</td>\n",
       "      <td>2025-08-27</td>\n",
       "      <td>6000</td>\n",
       "      <td>8.4</td>\n",
       "      <td>8.35</td>\n",
       "      <td>8.3</td>\n",
       "      <td>7.56</td>\n",
       "      <td>-0.6</td>\n",
       "    </tr>\n",
       "  </tbody>\n",
       "</table>\n",
       "</div>"
      ],
      "text/plain": [
       "  name  sell_date   qty  sell_price  price  low  target  %decline\n",
       "1  MCS 2025-08-27  6000         8.4   8.35  8.3    7.56      -0.6"
      ]
     },
     "execution_count": 16,
     "metadata": {},
     "output_type": "execute_result"
    }
   ],
   "source": [
    "# Apply filtering with both conditions\n",
    "filtered = sell_data.loc[\n",
    "    (sell_data['sell_date'].dt.year == 2025) & \n",
    "    (sell_data['sell_price'] >= sell_data['price']),\n",
    "    colu]\n",
    "\n",
    "# Sort by %decline   descending\n",
    "filtered = filtered.sort_values('%decline', ascending=True)\n",
    "\n",
    "filtered.sample()"
   ]
  },
  {
   "cell_type": "code",
   "execution_count": 17,
   "id": "03cc42fd-85af-48fb-a3a0-7e330610b618",
   "metadata": {},
   "outputs": [
    {
     "data": {
      "text/html": [
       "<div>\n",
       "<style scoped>\n",
       "    .dataframe tbody tr th:only-of-type {\n",
       "        vertical-align: middle;\n",
       "    }\n",
       "\n",
       "    .dataframe tbody tr th {\n",
       "        vertical-align: top;\n",
       "    }\n",
       "\n",
       "    .dataframe thead th {\n",
       "        text-align: right;\n",
       "    }\n",
       "</style>\n",
       "<table border=\"1\" class=\"dataframe\">\n",
       "  <thead>\n",
       "    <tr style=\"text-align: right;\">\n",
       "      <th></th>\n",
       "      <th>name</th>\n",
       "      <th>sell_date</th>\n",
       "      <th>qty</th>\n",
       "      <th>sell_price</th>\n",
       "      <th>price</th>\n",
       "      <th>low</th>\n",
       "      <th>target</th>\n",
       "      <th>%decline</th>\n",
       "    </tr>\n",
       "  </thead>\n",
       "  <tbody>\n",
       "    <tr>\n",
       "      <th>5</th>\n",
       "      <td>JMART</td>\n",
       "      <td>2025-08-07</td>\n",
       "      <td>3,200</td>\n",
       "      <td>฿9.40</td>\n",
       "      <td>฿8.25</td>\n",
       "      <td>฿8.25</td>\n",
       "      <td>฿8.46</td>\n",
       "      <td>-12.23%</td>\n",
       "    </tr>\n",
       "    <tr>\n",
       "      <th>3</th>\n",
       "      <td>RCL</td>\n",
       "      <td>2025-08-08</td>\n",
       "      <td>3,000</td>\n",
       "      <td>฿31.00</td>\n",
       "      <td>฿27.50</td>\n",
       "      <td>฿27.50</td>\n",
       "      <td>฿27.90</td>\n",
       "      <td>-11.29%</td>\n",
       "    </tr>\n",
       "    <tr>\n",
       "      <th>2</th>\n",
       "      <td>CPF</td>\n",
       "      <td>2025-08-22</td>\n",
       "      <td>5,000</td>\n",
       "      <td>฿24.30</td>\n",
       "      <td>฿21.90</td>\n",
       "      <td>฿21.90</td>\n",
       "      <td>฿21.87</td>\n",
       "      <td>-9.88%</td>\n",
       "    </tr>\n",
       "    <tr>\n",
       "      <th>4</th>\n",
       "      <td>GVREIT</td>\n",
       "      <td>2025-08-08</td>\n",
       "      <td>6,000</td>\n",
       "      <td>฿6.70</td>\n",
       "      <td>฿6.20</td>\n",
       "      <td>฿6.20</td>\n",
       "      <td>฿6.03</td>\n",
       "      <td>-7.46%</td>\n",
       "    </tr>\n",
       "    <tr>\n",
       "      <th>6</th>\n",
       "      <td>NER</td>\n",
       "      <td>2025-08-06</td>\n",
       "      <td>5,000</td>\n",
       "      <td>฿4.52</td>\n",
       "      <td>฿4.26</td>\n",
       "      <td>฿4.26</td>\n",
       "      <td>฿4.07</td>\n",
       "      <td>-5.75%</td>\n",
       "    </tr>\n",
       "    <tr>\n",
       "      <th>9</th>\n",
       "      <td>IVL</td>\n",
       "      <td>2025-07-30</td>\n",
       "      <td>1,800</td>\n",
       "      <td>฿22.90</td>\n",
       "      <td>฿21.70</td>\n",
       "      <td>฿21.70</td>\n",
       "      <td>฿20.61</td>\n",
       "      <td>-5.24%</td>\n",
       "    </tr>\n",
       "    <tr>\n",
       "      <th>0</th>\n",
       "      <td>ORI</td>\n",
       "      <td>2025-08-28</td>\n",
       "      <td>5,000</td>\n",
       "      <td>฿2.30</td>\n",
       "      <td>฿2.18</td>\n",
       "      <td>฿2.16</td>\n",
       "      <td>฿2.07</td>\n",
       "      <td>-5.22%</td>\n",
       "    </tr>\n",
       "    <tr>\n",
       "      <th>1</th>\n",
       "      <td>MCS</td>\n",
       "      <td>2025-08-27</td>\n",
       "      <td>6,000</td>\n",
       "      <td>฿8.40</td>\n",
       "      <td>฿8.35</td>\n",
       "      <td>฿8.30</td>\n",
       "      <td>฿7.56</td>\n",
       "      <td>-0.60%</td>\n",
       "    </tr>\n",
       "  </tbody>\n",
       "</table>\n",
       "</div>"
      ],
      "text/plain": [
       "     name  sell_date    qty sell_price   price     low  target %decline\n",
       "5   JMART 2025-08-07  3,200      ฿9.40   ฿8.25   ฿8.25   ฿8.46  -12.23%\n",
       "3     RCL 2025-08-08  3,000     ฿31.00  ฿27.50  ฿27.50  ฿27.90  -11.29%\n",
       "2     CPF 2025-08-22  5,000     ฿24.30  ฿21.90  ฿21.90  ฿21.87   -9.88%\n",
       "4  GVREIT 2025-08-08  6,000      ฿6.70   ฿6.20   ฿6.20   ฿6.03   -7.46%\n",
       "6     NER 2025-08-06  5,000      ฿4.52   ฿4.26   ฿4.26   ฿4.07   -5.75%\n",
       "9     IVL 2025-07-30  1,800     ฿22.90  ฿21.70  ฿21.70  ฿20.61   -5.24%\n",
       "0     ORI 2025-08-28  5,000      ฿2.30   ฿2.18   ฿2.16   ฿2.07   -5.22%\n",
       "1     MCS 2025-08-27  6,000      ฿8.40   ฿8.35   ฿8.30   ฿7.56   -0.60%"
      ]
     },
     "execution_count": 17,
     "metadata": {},
     "output_type": "execute_result"
    }
   ],
   "source": [
    "# Convert columns to interger\n",
    "filtered[\"qty\"] = filtered[\"qty\"].astype(int)\n",
    "# Apply formatting\n",
    "filtered[[\"qty\"]] = filtered[[\"qty\"]].apply(lambda col: col.map(to_integer))\n",
    "filtered[[\"sell_price\", \"price\",\"low\", \"target\"]] = \\\n",
    "filtered[[\"sell_price\", \"price\",\"low\", \"target\"]].apply(lambda col: col.map(to_currency))\n",
    "filtered[[\"%decline\"]] = filtered[[\"%decline\"]].apply(lambda col: col.map(to_percent))\n",
    "filtered"
   ]
  },
  {
   "cell_type": "code",
   "execution_count": 18,
   "id": "938cae83-14c9-49d6-b4bc-62596bedcff3",
   "metadata": {},
   "outputs": [
    {
     "name": "stdout",
     "output_type": "stream",
     "text": [
      "Ruby path (ruby_path): C:\\Users\\PC1\\OneDrive\\A5\\Ruby\n"
     ]
    }
   ],
   "source": [
    "current_path = os.getcwd()\n",
    "base_path = os.path.dirname(current_path)\n",
    "ruby_path = os.path.join(base_path, \"Ruby\")\n",
    "print(f\"Ruby path (ruby_path): {ruby_path}\") "
   ]
  },
  {
   "cell_type": "code",
   "execution_count": 19,
   "id": "0136488e-a16d-46b3-9a58-f16528063627",
   "metadata": {},
   "outputs": [],
   "source": [
    "file_name = \"watch-list-buys.xlsx\"  \n",
    "output_file = os.path.join(ruby_path, file_name)\n",
    "\n",
    "# Apply formatting\n",
    "filtered[[\"sell_date\"]] = filtered[[\"sell_date\"]].apply(lambda col: col.map(to_date))\n",
    "\n",
    "# Export to Excel\n",
    "filtered.sort_values('name', ascending=True).to_excel(\n",
    "    output_file, \n",
    "    header=True, \n",
    "    index=False\n",
    ")"
   ]
  },
  {
   "cell_type": "markdown",
   "id": "d0b02880-9abd-4ae8-adb9-03a1b7848428",
   "metadata": {},
   "source": [
    "### Profit per Month"
   ]
  },
  {
   "cell_type": "code",
   "execution_count": 21,
   "id": "0873917b",
   "metadata": {},
   "outputs": [
    {
     "name": "stdout",
     "output_type": "stream",
     "text": [
      "\n",
      "    SELECT name, YEAR(sells.date) AS sell_year, MONTH(sells.date) AS sell_month, \n",
      "           sells.price AS sell_price, buys.price AS buy_price, (sells.price - buys.price) AS diff, \n",
      "           qty, (sells.price * qty) AS sell_amt, (buys.price * qty) AS buy_amt, \n",
      "           (sells.price - buys.price) * qty AS gross, \n",
      "           ROUND((sells.price - buys.price)/buys.price*100,2) AS pct, days\n",
      "    FROM sells JOIN buys ON sells.buy_id = buys.id\n",
      "    JOIN stocks ON buys.stock_id = stocks.id\n",
      "    WHERE YEAR(sells.date) = 2025 AND MONTH(sells.date) = 7\n",
      "    ORDER BY sells.date DESC, name\n",
      "\n"
     ]
    }
   ],
   "source": [
    "year = 2025\n",
    "month = 7\n",
    "sql = '''\n",
    "    SELECT name, YEAR(sells.date) AS sell_year, MONTH(sells.date) AS sell_month, \n",
    "           sells.price AS sell_price, buys.price AS buy_price, (sells.price - buys.price) AS diff, \n",
    "           qty, (sells.price * qty) AS sell_amt, (buys.price * qty) AS buy_amt, \n",
    "           (sells.price - buys.price) * qty AS gross, \n",
    "           ROUND((sells.price - buys.price)/buys.price*100,2) AS pct, days\n",
    "    FROM sells JOIN buys ON sells.buy_id = buys.id\n",
    "    JOIN stocks ON buys.stock_id = stocks.id\n",
    "    WHERE YEAR(sells.date) = {} AND MONTH(sells.date) = {}\n",
    "    ORDER BY sells.date DESC, name\n",
    "'''.format(year, month)\n",
    "\n",
    "sells_df = pd.read_sql(sql, conpf)\n",
    "print(sql)"
   ]
  },
  {
   "cell_type": "code",
   "execution_count": 22,
   "id": "dbe9d338",
   "metadata": {},
   "outputs": [
    {
     "data": {
      "text/html": [
       "<div>\n",
       "<style scoped>\n",
       "    .dataframe tbody tr th:only-of-type {\n",
       "        vertical-align: middle;\n",
       "    }\n",
       "\n",
       "    .dataframe tbody tr th {\n",
       "        vertical-align: top;\n",
       "    }\n",
       "\n",
       "    .dataframe thead th {\n",
       "        text-align: right;\n",
       "    }\n",
       "</style>\n",
       "<table border=\"1\" class=\"dataframe\">\n",
       "  <thead>\n",
       "    <tr style=\"text-align: right;\">\n",
       "      <th></th>\n",
       "      <th>name</th>\n",
       "      <th>sell_year</th>\n",
       "      <th>sell_month</th>\n",
       "      <th>sell_price</th>\n",
       "      <th>buy_price</th>\n",
       "      <th>diff</th>\n",
       "      <th>qty</th>\n",
       "      <th>sell_amt</th>\n",
       "      <th>buy_amt</th>\n",
       "      <th>gross</th>\n",
       "      <th>pct</th>\n",
       "      <th>days</th>\n",
       "    </tr>\n",
       "  </thead>\n",
       "  <tbody>\n",
       "    <tr>\n",
       "      <th>0</th>\n",
       "      <td>IVL</td>\n",
       "      <td>2025</td>\n",
       "      <td>7</td>\n",
       "      <td>22.9</td>\n",
       "      <td>20.0</td>\n",
       "      <td>2.9</td>\n",
       "      <td>1800</td>\n",
       "      <td>41220.0</td>\n",
       "      <td>36000.0</td>\n",
       "      <td>5220.0</td>\n",
       "      <td>14.50</td>\n",
       "      <td>51</td>\n",
       "    </tr>\n",
       "    <tr>\n",
       "      <th>1</th>\n",
       "      <td>WHAIR</td>\n",
       "      <td>2025</td>\n",
       "      <td>7</td>\n",
       "      <td>5.5</td>\n",
       "      <td>4.7</td>\n",
       "      <td>0.8</td>\n",
       "      <td>10000</td>\n",
       "      <td>55000.0</td>\n",
       "      <td>47000.0</td>\n",
       "      <td>8000.0</td>\n",
       "      <td>17.02</td>\n",
       "      <td>75</td>\n",
       "    </tr>\n",
       "    <tr>\n",
       "      <th>2</th>\n",
       "      <td>KCE</td>\n",
       "      <td>2025</td>\n",
       "      <td>7</td>\n",
       "      <td>22.9</td>\n",
       "      <td>87.0</td>\n",
       "      <td>-64.1</td>\n",
       "      <td>1000</td>\n",
       "      <td>22900.0</td>\n",
       "      <td>87000.0</td>\n",
       "      <td>-64100.0</td>\n",
       "      <td>-73.68</td>\n",
       "      <td>1391</td>\n",
       "    </tr>\n",
       "    <tr>\n",
       "      <th>3</th>\n",
       "      <td>KCE</td>\n",
       "      <td>2025</td>\n",
       "      <td>7</td>\n",
       "      <td>22.4</td>\n",
       "      <td>87.0</td>\n",
       "      <td>-64.6</td>\n",
       "      <td>1000</td>\n",
       "      <td>22400.0</td>\n",
       "      <td>87000.0</td>\n",
       "      <td>-64600.0</td>\n",
       "      <td>-74.25</td>\n",
       "      <td>1386</td>\n",
       "    </tr>\n",
       "    <tr>\n",
       "      <th>4</th>\n",
       "      <td>KCE</td>\n",
       "      <td>2025</td>\n",
       "      <td>7</td>\n",
       "      <td>22.2</td>\n",
       "      <td>87.0</td>\n",
       "      <td>-64.8</td>\n",
       "      <td>1000</td>\n",
       "      <td>22200.0</td>\n",
       "      <td>87000.0</td>\n",
       "      <td>-64800.0</td>\n",
       "      <td>-74.48</td>\n",
       "      <td>1312</td>\n",
       "    </tr>\n",
       "    <tr>\n",
       "      <th>5</th>\n",
       "      <td>KCE</td>\n",
       "      <td>2025</td>\n",
       "      <td>7</td>\n",
       "      <td>21.7</td>\n",
       "      <td>87.0</td>\n",
       "      <td>-65.3</td>\n",
       "      <td>1000</td>\n",
       "      <td>21700.0</td>\n",
       "      <td>87000.0</td>\n",
       "      <td>-65300.0</td>\n",
       "      <td>-75.06</td>\n",
       "      <td>1310</td>\n",
       "    </tr>\n",
       "    <tr>\n",
       "      <th>6</th>\n",
       "      <td>JMT</td>\n",
       "      <td>2025</td>\n",
       "      <td>7</td>\n",
       "      <td>10.2</td>\n",
       "      <td>9.0</td>\n",
       "      <td>1.2</td>\n",
       "      <td>2500</td>\n",
       "      <td>25500.0</td>\n",
       "      <td>22500.0</td>\n",
       "      <td>3000.0</td>\n",
       "      <td>13.33</td>\n",
       "      <td>29</td>\n",
       "    </tr>\n",
       "    <tr>\n",
       "      <th>7</th>\n",
       "      <td>KCE</td>\n",
       "      <td>2025</td>\n",
       "      <td>7</td>\n",
       "      <td>21.0</td>\n",
       "      <td>81.0</td>\n",
       "      <td>-60.0</td>\n",
       "      <td>1000</td>\n",
       "      <td>21000.0</td>\n",
       "      <td>81000.0</td>\n",
       "      <td>-60000.0</td>\n",
       "      <td>-74.07</td>\n",
       "      <td>1262</td>\n",
       "    </tr>\n",
       "    <tr>\n",
       "      <th>8</th>\n",
       "      <td>KCE</td>\n",
       "      <td>2025</td>\n",
       "      <td>7</td>\n",
       "      <td>19.6</td>\n",
       "      <td>81.0</td>\n",
       "      <td>-61.4</td>\n",
       "      <td>1000</td>\n",
       "      <td>19600.0</td>\n",
       "      <td>81000.0</td>\n",
       "      <td>-61400.0</td>\n",
       "      <td>-75.80</td>\n",
       "      <td>1261</td>\n",
       "    </tr>\n",
       "  </tbody>\n",
       "</table>\n",
       "</div>"
      ],
      "text/plain": [
       "    name  sell_year  sell_month  sell_price  buy_price  diff    qty  sell_amt  \\\n",
       "0    IVL       2025           7        22.9       20.0   2.9   1800   41220.0   \n",
       "1  WHAIR       2025           7         5.5        4.7   0.8  10000   55000.0   \n",
       "2    KCE       2025           7        22.9       87.0 -64.1   1000   22900.0   \n",
       "3    KCE       2025           7        22.4       87.0 -64.6   1000   22400.0   \n",
       "4    KCE       2025           7        22.2       87.0 -64.8   1000   22200.0   \n",
       "5    KCE       2025           7        21.7       87.0 -65.3   1000   21700.0   \n",
       "6    JMT       2025           7        10.2        9.0   1.2   2500   25500.0   \n",
       "7    KCE       2025           7        21.0       81.0 -60.0   1000   21000.0   \n",
       "8    KCE       2025           7        19.6       81.0 -61.4   1000   19600.0   \n",
       "\n",
       "   buy_amt    gross    pct  days  \n",
       "0  36000.0   5220.0  14.50    51  \n",
       "1  47000.0   8000.0  17.02    75  \n",
       "2  87000.0 -64100.0 -73.68  1391  \n",
       "3  87000.0 -64600.0 -74.25  1386  \n",
       "4  87000.0 -64800.0 -74.48  1312  \n",
       "5  87000.0 -65300.0 -75.06  1310  \n",
       "6  22500.0   3000.0  13.33    29  \n",
       "7  81000.0 -60000.0 -74.07  1262  \n",
       "8  81000.0 -61400.0 -75.80  1261  "
      ]
     },
     "execution_count": 22,
     "metadata": {},
     "output_type": "execute_result"
    }
   ],
   "source": [
    "sells_df"
   ]
  },
  {
   "cell_type": "code",
   "execution_count": 23,
   "id": "15d59f94",
   "metadata": {},
   "outputs": [
    {
     "name": "stdout",
     "output_type": "stream",
     "text": [
      "Monthly Profit Amount: -363,980.00\n"
     ]
    }
   ],
   "source": [
    "print(f\"Monthly Profit Amount: {sells_df.gross.sum():,.2f}\")"
   ]
  },
  {
   "cell_type": "code",
   "execution_count": 24,
   "id": "ff23d38c",
   "metadata": {},
   "outputs": [
    {
     "name": "stdout",
     "output_type": "stream",
     "text": [
      "2025-08-31 17:01:35\n"
     ]
    }
   ],
   "source": [
    "# Get the current time\n",
    "current_time = datetime.now()\n",
    "# Format the time to remove millisAeconds\n",
    "fmt_time = current_time.strftime(\"%Y-%m-%d %H:%M:%S\")\n",
    "print(fmt_time)"
   ]
  },
  {
   "cell_type": "code",
   "execution_count": null,
   "id": "e2d7d5de-57b3-497c-a2bf-b0381bc37835",
   "metadata": {},
   "outputs": [],
   "source": []
  }
 ],
 "metadata": {
  "kernelspec": {
   "display_name": "Python 3 (ipykernel)",
   "language": "python",
   "name": "python3"
  },
  "language_info": {
   "codemirror_mode": {
    "name": "ipython",
    "version": 3
   },
   "file_extension": ".py",
   "mimetype": "text/x-python",
   "name": "python",
   "nbconvert_exporter": "python",
   "pygments_lexer": "ipython3",
   "version": "3.12.3"
  }
 },
 "nbformat": 4,
 "nbformat_minor": 5
}
