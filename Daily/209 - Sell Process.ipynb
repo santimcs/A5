{
 "cells": [
  {
   "cell_type": "markdown",
   "id": "29764f10",
   "metadata": {},
   "source": [
    "### Restart and Run All Cells"
   ]
  },
  {
   "cell_type": "markdown",
   "id": "d8a383f5",
   "metadata": {},
   "source": [
    "### Input files: Price-Today, orders-log\n",
    "### Output files: Price-for-Order, orders-log, monthly-sales"
   ]
  },
  {
   "cell_type": "code",
   "execution_count": 3,
   "id": "2a2bb67d",
   "metadata": {},
   "outputs": [
    {
     "name": "stdout",
     "output_type": "stream",
     "text": [
      "2025-09-09 2025-09-08\n"
     ]
    }
   ],
   "source": [
    "import glob\n",
    "import os\n",
    "import pandas as pd\n",
    "from datetime import date, timedelta, datetime\n",
    "from pandas.tseries.offsets import *\n",
    "from sqlalchemy import create_engine\n",
    "\n",
    "engine = create_engine(\"sqlite:///c:\\\\ruby\\\\port_lite\\\\db\\\\development.sqlite3\")\n",
    "conlite = engine.connect()\n",
    "engine = create_engine('mysql+pymysql://root:@localhost:3306/portfolio_development')\n",
    "conpf = engine.connect()\n",
    "engine = create_engine(\"mysql+pymysql://root:@localhost:3306/stock\")\n",
    "const = engine.connect()\n",
    "\n",
    "format_dict = {'qty':'{:,}',\n",
    "              'sell_price':'{:,.2f}','buy_price':'{:,.2f}','diff':'{:,.2f}', 'target':'{:,.2f}','low':'{:,.2f}',\n",
    "              'cost':'{:,.2f}','price':'{:,.2f}','%change':'{:,.2f}','%profit':'{:,.2f}','profit':'{:,.2f}',\n",
    "              'sell_amt':'{:,.2f}','buy_amt':'{:,.2f}','gross':'{:,.2f}','amount':'{:,.2f}',\n",
    "              'cst_amt':'{:,.2f}','mkt_amt':'{:,.2f}','difa':'{:,.2f}','current':'{:,.2f}','change':'{:,.2f}',  \n",
    "              'pct':'{:,.2f}%','net':'{:,.2f}','%change':'{:,.2f}%','%profit':'{:,.2f}%','sell_date':'{:%Y-%m-%d}','%decline':'{:,.2f}%'\n",
    "              }\n",
    "pd.options.display.max_rows = 50\n",
    "#pd.options.display.float_format = '{:.2f}'.format\n",
    "\n",
    "today = date.today()\n",
    "yesterday = today - timedelta(days=1)\n",
    "print(today, yesterday)"
   ]
  },
  {
   "cell_type": "code",
   "execution_count": 4,
   "id": "827c35b1-74ae-4922-afc4-63c50c6d3a5d",
   "metadata": {},
   "outputs": [
    {
     "name": "stdout",
     "output_type": "stream",
     "text": [
      "2025-09-09 20:04:49\n"
     ]
    }
   ],
   "source": [
    "# Get the current time\n",
    "current_time = datetime.now()\n",
    "# Format the time to remove milliseconds\n",
    "fmt_time = current_time.strftime(\"%Y-%m-%d %H:%M:%S\")\n",
    "print(fmt_time)"
   ]
  },
  {
   "cell_type": "code",
   "execution_count": 5,
   "id": "d6b5b24c",
   "metadata": {},
   "outputs": [
    {
     "name": "stdout",
     "output_type": "stream",
     "text": [
      "Data path (dat_path): C:\\Users\\PC1\\OneDrive\\A5\\Data\n",
      "Input file: C:\\Users\\PC1\\OneDrive\\A5\\Data\\Price-Today.csv\n"
     ]
    }
   ],
   "source": [
    "current_path = os.getcwd()\n",
    "base_path = os.path.dirname(current_path)\n",
    "dat_path = os.path.join(base_path, \"Data\")\n",
    "print(f\"Data path (dat_path): {dat_path}\") \n",
    "file_name = \"Price-Today.csv\"\n",
    "input_file = os.path.join(dat_path, file_name)\n",
    "print(f\"Input file: {input_file}\")"
   ]
  },
  {
   "cell_type": "code",
   "execution_count": 6,
   "id": "1c1fe541-7848-47db-90fa-597130927cea",
   "metadata": {},
   "outputs": [],
   "source": [
    "# Define a formatting function that converts a float to a string with two decimal places\n",
    "def to_currency(x):\n",
    "    return '฿{:,.2f}'.format(x)    \n",
    "\n",
    "# Define a formatting function that converts an integer to a string with comma and no decimal places\n",
    "def to_integer(x):\n",
    "    return '{:,.0f}'.format(x)\n",
    "\n",
    "# Define a formatting function that converts an integer to a string with comma and no decimal places\n",
    "def to_percent(x):\n",
    "    return '{:,.2f}%'.format(x)\n",
    "\n",
    "# Define a formatting function that converts an integer to a string with comma and no decimal places\n",
    "def to_date(x):\n",
    "    return '{:%Y-%m-%d}'.format(x)"
   ]
  },
  {
   "cell_type": "code",
   "execution_count": 7,
   "id": "f9f6b3d9",
   "metadata": {},
   "outputs": [
    {
     "data": {
      "text/plain": [
       "name         object\n",
       "date         object\n",
       "price       float64\n",
       "change      float64\n",
       "%change     float64\n",
       "open        float64\n",
       "high        float64\n",
       "low         float64\n",
       "volume        int64\n",
       "value(m)    float64\n",
       "dtype: object"
      ]
     },
     "execution_count": 7,
     "metadata": {},
     "output_type": "execute_result"
    }
   ],
   "source": [
    "df_price_tdy = pd.read_csv(input_file)\n",
    "df_price_tdy.dtypes\n",
    "#df_price_tdy.columns.tolist()"
   ]
  },
  {
   "cell_type": "markdown",
   "id": "244ace00-5566-43a0-b486-8c0be4456a35",
   "metadata": {},
   "source": [
    "### Purchase recently sold stocks if price lower than last sold"
   ]
  },
  {
   "cell_type": "code",
   "execution_count": 9,
   "id": "f14ba2ab-f6f8-4e50-9941-45ec14d6a5cb",
   "metadata": {},
   "outputs": [
    {
     "data": {
      "text/plain": [
       "\"'3BBIF', 'AH', 'AIMIRT', 'AWC', 'BCH', 'CPF', 'CPNREIT', 'DIF', 'GVREIT', 'IVL', 'JMART', 'JMT', 'MCS', 'NER', 'ORI', 'PTG', 'PTT', 'PTTGC', 'RCL', 'SCC', 'SENA', 'SINGER', 'STA', 'SYNEX', 'TFFIF', 'TOA', 'TVO', 'WHAIR', 'WHART'\""
      ]
     },
     "execution_count": 9,
     "metadata": {},
     "output_type": "execute_result"
    }
   ],
   "source": [
    "#Select name from portfolio\n",
    "sql = \"\"\"SELECT name FROM buy\"\"\"\n",
    "df_buy = pd.read_sql(sql, const)\n",
    "names = df_buy.name\n",
    "portfolio = \", \".join(map(lambda name: \"'%s'\" % name, names))\n",
    "portfolio "
   ]
  },
  {
   "cell_type": "code",
   "execution_count": 10,
   "id": "6ed3c89b-dbeb-4971-96e6-0ed6ff55b30e",
   "metadata": {},
   "outputs": [
    {
     "data": {
      "text/html": [
       "<style type=\"text/css\">\n",
       "</style>\n",
       "<table id=\"T_0e363\">\n",
       "  <thead>\n",
       "    <tr>\n",
       "      <th id=\"T_0e363_level0_col0\" class=\"col_heading level0 col0\" >date</th>\n",
       "      <th id=\"T_0e363_level0_col1\" class=\"col_heading level0 col1\" >qty</th>\n",
       "      <th id=\"T_0e363_level0_col2\" class=\"col_heading level0 col2\" >price</th>\n",
       "      <th id=\"T_0e363_level0_col3\" class=\"col_heading level0 col3\" >net</th>\n",
       "      <th id=\"T_0e363_level0_col4\" class=\"col_heading level0 col4\" >price</th>\n",
       "      <th id=\"T_0e363_level0_col5\" class=\"col_heading level0 col5\" >net</th>\n",
       "      <th id=\"T_0e363_level0_col6\" class=\"col_heading level0 col6\" >profit</th>\n",
       "    </tr>\n",
       "  </thead>\n",
       "  <tbody>\n",
       "    <tr>\n",
       "      <td id=\"T_0e363_row0_col0\" class=\"data row0 col0\" >2025-09-08</td>\n",
       "      <td id=\"T_0e363_row0_col1\" class=\"data row0 col1\" >5,000</td>\n",
       "      <td id=\"T_0e363_row0_col2\" class=\"data row0 col2\" >24.10</td>\n",
       "      <td id=\"T_0e363_row0_col3\" class=\"data row0 col3\" >120,766.90</td>\n",
       "      <td id=\"T_0e363_row0_col4\" class=\"data row0 col4\" >23.40</td>\n",
       "      <td id=\"T_0e363_row0_col5\" class=\"data row0 col5\" >116,740.86</td>\n",
       "      <td id=\"T_0e363_row0_col6\" class=\"data row0 col6\" >-4,026.04</td>\n",
       "    </tr>\n",
       "  </tbody>\n",
       "</table>\n"
      ],
      "text/plain": [
       "<pandas.io.formats.style.Styler at 0x1eddaf7fe90>"
      ]
     },
     "execution_count": 10,
     "metadata": {},
     "output_type": "execute_result"
    }
   ],
   "source": [
    "sql = \"\"\"\n",
    "    SELECT S.date, B.qty, B.price, B.net,  S.price, S.net, S.profit\n",
    "    FROM sells S\n",
    "    JOIN buys B\n",
    "    ON S.buy_id = B.id \n",
    "    JOIN stocks T\n",
    "    ON T.id = B.stock_id \n",
    "    WHERE T.name IN ({})\n",
    "    ORDER BY S.date DESC\n",
    "    LIMIT 1\n",
    "\"\"\".format(portfolio)\n",
    "df_tmp = pd.read_sql(sql, conpf)\n",
    "df_tmp.style.format(format_dict).hide(axis=\"index\")"
   ]
  },
  {
   "cell_type": "code",
   "execution_count": 11,
   "id": "35de6861-8e97-478a-a880-f103249b0159",
   "metadata": {},
   "outputs": [
    {
     "data": {
      "text/plain": [
       "(249, 6)"
      ]
     },
     "execution_count": 11,
     "metadata": {},
     "output_type": "execute_result"
    }
   ],
   "source": [
    "#\n",
    "sql = \"\"\"\n",
    "    SELECT T.name, S.date AS sell_date, S.price AS sell_price, B.price AS buy_price, B.date AS buy_date, B.qty\n",
    "    FROM sells S\n",
    "    JOIN buys B\n",
    "    ON S.buy_id = B.id \n",
    "    JOIN stocks T\n",
    "    ON T.id = B.stock_id \n",
    "    WHERE T.name IN ({})\n",
    "    ORDER BY T.name, S.date DESC\n",
    "\"\"\".format(portfolio)\n",
    "df_sells = pd.read_sql(sql, conpf)\n",
    "df_sells.shape"
   ]
  },
  {
   "cell_type": "code",
   "execution_count": 12,
   "id": "9d35b43b-65cd-4879-ac0c-8c8d39b86869",
   "metadata": {},
   "outputs": [
    {
     "data": {
      "text/plain": [
       "name           object\n",
       "sell_date      object\n",
       "sell_price    float64\n",
       "buy_price     float64\n",
       "buy_date       object\n",
       "qty             int64\n",
       "dtype: object"
      ]
     },
     "execution_count": 12,
     "metadata": {},
     "output_type": "execute_result"
    }
   ],
   "source": [
    "df_sells.dtypes\n",
    "#df_sells.columns.tolist()"
   ]
  },
  {
   "cell_type": "code",
   "execution_count": 13,
   "id": "d15efeb2-ce6d-4fe8-8e70-cf6ccf634e06",
   "metadata": {},
   "outputs": [
    {
     "data": {
      "text/plain": [
       "(27, 6)"
      ]
     },
     "execution_count": 13,
     "metadata": {},
     "output_type": "execute_result"
    }
   ],
   "source": [
    "# Convert dates to datetime if they're not already\n",
    "df_sells['sell_date'] = pd.to_datetime(df_sells['sell_date'])\n",
    "\n",
    "# Get the latest record for each name\n",
    "latest_records = df_sells.sort_values('sell_date', ascending=False).drop_duplicates('name')\n",
    "latest_records.shape"
   ]
  },
  {
   "cell_type": "code",
   "execution_count": 14,
   "id": "50574919-a3e6-4ea4-ba43-489dac955e5e",
   "metadata": {},
   "outputs": [],
   "source": [
    "colu = 'name sell_date qty sell_price price low target %decline'.split()\n",
    "sell_data   = pd.merge(latest_records, df_price_tdy, on='name', how='inner')\n",
    "sell_data['diff'] = sell_data['price'] - sell_data['sell_price']\n",
    "sell_data['%decline'] = round(sell_data['diff'] / (sell_data['sell_price']) * 100,2)\n",
    "#sell_data['sell_date'] = pd.to_datetime(sell_data['sell_date'])\n",
    "sell_data['target'] = round(sell_data['sell_price'] * 0.9,2)\n",
    "#sell_data['amount'] = round(sell_data['target'] * sell_data['qty'])"
   ]
  },
  {
   "cell_type": "code",
   "execution_count": 15,
   "id": "35b9a3ff-337e-4863-ae57-88f8c52f25ed",
   "metadata": {},
   "outputs": [
    {
     "data": {
      "text/html": [
       "<style type=\"text/css\">\n",
       "</style>\n",
       "<table id=\"T_d951b\">\n",
       "  <thead>\n",
       "    <tr>\n",
       "      <th id=\"T_d951b_level0_col0\" class=\"col_heading level0 col0\" >name</th>\n",
       "      <th id=\"T_d951b_level0_col1\" class=\"col_heading level0 col1\" >sell_date</th>\n",
       "      <th id=\"T_d951b_level0_col2\" class=\"col_heading level0 col2\" >qty</th>\n",
       "      <th id=\"T_d951b_level0_col3\" class=\"col_heading level0 col3\" >sell_price</th>\n",
       "      <th id=\"T_d951b_level0_col4\" class=\"col_heading level0 col4\" >price</th>\n",
       "      <th id=\"T_d951b_level0_col5\" class=\"col_heading level0 col5\" >low</th>\n",
       "      <th id=\"T_d951b_level0_col6\" class=\"col_heading level0 col6\" >target</th>\n",
       "      <th id=\"T_d951b_level0_col7\" class=\"col_heading level0 col7\" >%decline</th>\n",
       "    </tr>\n",
       "  </thead>\n",
       "  <tbody>\n",
       "    <tr>\n",
       "      <td id=\"T_d951b_row0_col0\" class=\"data row0 col0\" >SENA</td>\n",
       "      <td id=\"T_d951b_row0_col1\" class=\"data row0 col1\" >2021-12-17</td>\n",
       "      <td id=\"T_d951b_row0_col2\" class=\"data row0 col2\" >75,000</td>\n",
       "      <td id=\"T_d951b_row0_col3\" class=\"data row0 col3\" >4.08</td>\n",
       "      <td id=\"T_d951b_row0_col4\" class=\"data row0 col4\" >1.94</td>\n",
       "      <td id=\"T_d951b_row0_col5\" class=\"data row0 col5\" >1.91</td>\n",
       "      <td id=\"T_d951b_row0_col6\" class=\"data row0 col6\" >3.67</td>\n",
       "      <td id=\"T_d951b_row0_col7\" class=\"data row0 col7\" >-52.45%</td>\n",
       "    </tr>\n",
       "  </tbody>\n",
       "</table>\n"
      ],
      "text/plain": [
       "<pandas.io.formats.style.Styler at 0x1eddc75d610>"
      ]
     },
     "execution_count": 15,
     "metadata": {},
     "output_type": "execute_result"
    }
   ],
   "source": [
    "# Apply filtering with both conditions\n",
    "filtered = sell_data.loc[\n",
    "    (sell_data['sell_price'] >= sell_data['price']),colu]\n",
    "\n",
    "# Sort by %decline   descending\n",
    "filtered = filtered.sort_values('%decline', ascending=True)\n",
    "\n",
    "# Format display (if format_dict is defined)\n",
    "#filtered.style.format(format_dict)\n",
    "filtered.sample().style.format(format_dict).hide(axis=\"index\")"
   ]
  },
  {
   "cell_type": "code",
   "execution_count": 16,
   "id": "150a8502-828d-4c0e-9df6-218cf29c33a9",
   "metadata": {},
   "outputs": [
    {
     "data": {
      "text/html": [
       "<style type=\"text/css\">\n",
       "</style>\n",
       "<table id=\"T_ce2c9\">\n",
       "  <thead>\n",
       "    <tr>\n",
       "      <th id=\"T_ce2c9_level0_col0\" class=\"col_heading level0 col0\" >name</th>\n",
       "      <th id=\"T_ce2c9_level0_col1\" class=\"col_heading level0 col1\" >sell_date</th>\n",
       "      <th id=\"T_ce2c9_level0_col2\" class=\"col_heading level0 col2\" >qty</th>\n",
       "      <th id=\"T_ce2c9_level0_col3\" class=\"col_heading level0 col3\" >sell_price</th>\n",
       "      <th id=\"T_ce2c9_level0_col4\" class=\"col_heading level0 col4\" >price</th>\n",
       "      <th id=\"T_ce2c9_level0_col5\" class=\"col_heading level0 col5\" >low</th>\n",
       "      <th id=\"T_ce2c9_level0_col6\" class=\"col_heading level0 col6\" >target</th>\n",
       "      <th id=\"T_ce2c9_level0_col7\" class=\"col_heading level0 col7\" >%decline</th>\n",
       "    </tr>\n",
       "  </thead>\n",
       "  <tbody>\n",
       "    <tr>\n",
       "      <td id=\"T_ce2c9_row0_col0\" class=\"data row0 col0\" >TVO</td>\n",
       "      <td id=\"T_ce2c9_row0_col1\" class=\"data row0 col1\" >2021-09-15</td>\n",
       "      <td id=\"T_ce2c9_row0_col2\" class=\"data row0 col2\" >6,000</td>\n",
       "      <td id=\"T_ce2c9_row0_col3\" class=\"data row0 col3\" >32.00</td>\n",
       "      <td id=\"T_ce2c9_row0_col4\" class=\"data row0 col4\" >25.50</td>\n",
       "      <td id=\"T_ce2c9_row0_col5\" class=\"data row0 col5\" >25.00</td>\n",
       "      <td id=\"T_ce2c9_row0_col6\" class=\"data row0 col6\" >28.80</td>\n",
       "      <td id=\"T_ce2c9_row0_col7\" class=\"data row0 col7\" >-20.31%</td>\n",
       "    </tr>\n",
       "    <tr>\n",
       "      <td id=\"T_ce2c9_row1_col0\" class=\"data row1 col0\" >RCL</td>\n",
       "      <td id=\"T_ce2c9_row1_col1\" class=\"data row1 col1\" >2025-08-08</td>\n",
       "      <td id=\"T_ce2c9_row1_col2\" class=\"data row1 col2\" >3,000</td>\n",
       "      <td id=\"T_ce2c9_row1_col3\" class=\"data row1 col3\" >31.00</td>\n",
       "      <td id=\"T_ce2c9_row1_col4\" class=\"data row1 col4\" >27.00</td>\n",
       "      <td id=\"T_ce2c9_row1_col5\" class=\"data row1 col5\" >26.50</td>\n",
       "      <td id=\"T_ce2c9_row1_col6\" class=\"data row1 col6\" >27.90</td>\n",
       "      <td id=\"T_ce2c9_row1_col7\" class=\"data row1 col7\" >-12.90%</td>\n",
       "    </tr>\n",
       "    <tr>\n",
       "      <td id=\"T_ce2c9_row2_col0\" class=\"data row2 col0\" >SINGER</td>\n",
       "      <td id=\"T_ce2c9_row2_col1\" class=\"data row2 col1\" >2023-01-09</td>\n",
       "      <td id=\"T_ce2c9_row2_col2\" class=\"data row2 col2\" >3,600</td>\n",
       "      <td id=\"T_ce2c9_row2_col3\" class=\"data row2 col3\" >29.25</td>\n",
       "      <td id=\"T_ce2c9_row2_col4\" class=\"data row2 col4\" >6.95</td>\n",
       "      <td id=\"T_ce2c9_row2_col5\" class=\"data row2 col5\" >6.50</td>\n",
       "      <td id=\"T_ce2c9_row2_col6\" class=\"data row2 col6\" >26.32</td>\n",
       "      <td id=\"T_ce2c9_row2_col7\" class=\"data row2 col7\" >-76.24%</td>\n",
       "    </tr>\n",
       "    <tr>\n",
       "      <td id=\"T_ce2c9_row3_col0\" class=\"data row3 col0\" >SCC</td>\n",
       "      <td id=\"T_ce2c9_row3_col1\" class=\"data row3 col1\" >2022-11-07</td>\n",
       "      <td id=\"T_ce2c9_row3_col2\" class=\"data row3 col2\" >300</td>\n",
       "      <td id=\"T_ce2c9_row3_col3\" class=\"data row3 col3\" >340.00</td>\n",
       "      <td id=\"T_ce2c9_row3_col4\" class=\"data row3 col4\" >222.00</td>\n",
       "      <td id=\"T_ce2c9_row3_col5\" class=\"data row3 col5\" >219.00</td>\n",
       "      <td id=\"T_ce2c9_row3_col6\" class=\"data row3 col6\" >306.00</td>\n",
       "      <td id=\"T_ce2c9_row3_col7\" class=\"data row3 col7\" >-34.71%</td>\n",
       "    </tr>\n",
       "    <tr>\n",
       "      <td id=\"T_ce2c9_row4_col0\" class=\"data row4 col0\" >PTTGC</td>\n",
       "      <td id=\"T_ce2c9_row4_col1\" class=\"data row4 col1\" >2023-01-17</td>\n",
       "      <td id=\"T_ce2c9_row4_col2\" class=\"data row4 col2\" >3,000</td>\n",
       "      <td id=\"T_ce2c9_row4_col3\" class=\"data row4 col3\" >50.75</td>\n",
       "      <td id=\"T_ce2c9_row4_col4\" class=\"data row4 col4\" >27.50</td>\n",
       "      <td id=\"T_ce2c9_row4_col5\" class=\"data row4 col5\" >26.75</td>\n",
       "      <td id=\"T_ce2c9_row4_col6\" class=\"data row4 col6\" >45.68</td>\n",
       "      <td id=\"T_ce2c9_row4_col7\" class=\"data row4 col7\" >-45.81%</td>\n",
       "    </tr>\n",
       "  </tbody>\n",
       "</table>\n"
      ],
      "text/plain": [
       "<pandas.io.formats.style.Styler at 0x1eddc75cdd0>"
      ]
     },
     "execution_count": 16,
     "metadata": {},
     "output_type": "execute_result"
    }
   ],
   "source": [
    "# Convert to datetime\n",
    "filtered['sell_date'] = pd.to_datetime(filtered['sell_date'])\n",
    "filtered.sample(5).style.format(format_dict).hide(axis=\"index\")"
   ]
  },
  {
   "cell_type": "code",
   "execution_count": 17,
   "id": "3bcf1c99-0f19-4e73-9320-8f65ba1f0b93",
   "metadata": {},
   "outputs": [
    {
     "data": {
      "text/html": [
       "<style type=\"text/css\">\n",
       "</style>\n",
       "<table id=\"T_2de72\">\n",
       "  <thead>\n",
       "    <tr>\n",
       "      <th id=\"T_2de72_level0_col0\" class=\"col_heading level0 col0\" >name</th>\n",
       "      <th id=\"T_2de72_level0_col1\" class=\"col_heading level0 col1\" >sell_date</th>\n",
       "      <th id=\"T_2de72_level0_col2\" class=\"col_heading level0 col2\" >qty</th>\n",
       "      <th id=\"T_2de72_level0_col3\" class=\"col_heading level0 col3\" >sell_price</th>\n",
       "      <th id=\"T_2de72_level0_col4\" class=\"col_heading level0 col4\" >price</th>\n",
       "      <th id=\"T_2de72_level0_col5\" class=\"col_heading level0 col5\" >low</th>\n",
       "      <th id=\"T_2de72_level0_col6\" class=\"col_heading level0 col6\" >target</th>\n",
       "      <th id=\"T_2de72_level0_col7\" class=\"col_heading level0 col7\" >%decline</th>\n",
       "    </tr>\n",
       "  </thead>\n",
       "  <tbody>\n",
       "    <tr>\n",
       "      <td id=\"T_2de72_row0_col0\" class=\"data row0 col0\" >RCL</td>\n",
       "      <td id=\"T_2de72_row0_col1\" class=\"data row0 col1\" >2025-08-08</td>\n",
       "      <td id=\"T_2de72_row0_col2\" class=\"data row0 col2\" >3,000</td>\n",
       "      <td id=\"T_2de72_row0_col3\" class=\"data row0 col3\" >31.00</td>\n",
       "      <td id=\"T_2de72_row0_col4\" class=\"data row0 col4\" >27.00</td>\n",
       "      <td id=\"T_2de72_row0_col5\" class=\"data row0 col5\" >26.50</td>\n",
       "      <td id=\"T_2de72_row0_col6\" class=\"data row0 col6\" >27.90</td>\n",
       "      <td id=\"T_2de72_row0_col7\" class=\"data row0 col7\" >-12.90%</td>\n",
       "    </tr>\n",
       "    <tr>\n",
       "      <td id=\"T_2de72_row1_col0\" class=\"data row1 col0\" >GVREIT</td>\n",
       "      <td id=\"T_2de72_row1_col1\" class=\"data row1 col1\" >2025-08-08</td>\n",
       "      <td id=\"T_2de72_row1_col2\" class=\"data row1 col2\" >6,000</td>\n",
       "      <td id=\"T_2de72_row1_col3\" class=\"data row1 col3\" >6.70</td>\n",
       "      <td id=\"T_2de72_row1_col4\" class=\"data row1 col4\" >6.30</td>\n",
       "      <td id=\"T_2de72_row1_col5\" class=\"data row1 col5\" >6.30</td>\n",
       "      <td id=\"T_2de72_row1_col6\" class=\"data row1 col6\" >6.03</td>\n",
       "      <td id=\"T_2de72_row1_col7\" class=\"data row1 col7\" >-5.97%</td>\n",
       "    </tr>\n",
       "    <tr>\n",
       "      <td id=\"T_2de72_row2_col0\" class=\"data row2 col0\" >CPF</td>\n",
       "      <td id=\"T_2de72_row2_col1\" class=\"data row2 col1\" >2025-09-08</td>\n",
       "      <td id=\"T_2de72_row2_col2\" class=\"data row2 col2\" >5,000</td>\n",
       "      <td id=\"T_2de72_row2_col3\" class=\"data row2 col3\" >23.40</td>\n",
       "      <td id=\"T_2de72_row2_col4\" class=\"data row2 col4\" >23.10</td>\n",
       "      <td id=\"T_2de72_row2_col5\" class=\"data row2 col5\" >23.10</td>\n",
       "      <td id=\"T_2de72_row2_col6\" class=\"data row2 col6\" >21.06</td>\n",
       "      <td id=\"T_2de72_row2_col7\" class=\"data row2 col7\" >-1.28%</td>\n",
       "    </tr>\n",
       "    <tr>\n",
       "      <td id=\"T_2de72_row3_col0\" class=\"data row3 col0\" >WHAIR</td>\n",
       "      <td id=\"T_2de72_row3_col1\" class=\"data row3 col1\" >2025-07-30</td>\n",
       "      <td id=\"T_2de72_row3_col2\" class=\"data row3 col2\" >10,000</td>\n",
       "      <td id=\"T_2de72_row3_col3\" class=\"data row3 col3\" >5.50</td>\n",
       "      <td id=\"T_2de72_row3_col4\" class=\"data row3 col4\" >5.50</td>\n",
       "      <td id=\"T_2de72_row3_col5\" class=\"data row3 col5\" >5.50</td>\n",
       "      <td id=\"T_2de72_row3_col6\" class=\"data row3 col6\" >4.95</td>\n",
       "      <td id=\"T_2de72_row3_col7\" class=\"data row3 col7\" >0.00%</td>\n",
       "    </tr>\n",
       "  </tbody>\n",
       "</table>\n"
      ],
      "text/plain": [
       "<pandas.io.formats.style.Styler at 0x1edd894a900>"
      ]
     },
     "execution_count": 17,
     "metadata": {},
     "output_type": "execute_result"
    }
   ],
   "source": [
    "# Apply filtering with both conditions\n",
    "filtered = sell_data.loc[\n",
    "    (sell_data['sell_date'].dt.year == 2025) & \n",
    "    (sell_data['sell_price'] >= sell_data['price']),\n",
    "    colu]\n",
    "\n",
    "# Sort by %decline   descending\n",
    "filtered = filtered.sort_values('%decline', ascending=True)\n",
    "filtered.style.format(format_dict).hide(axis=\"index\")"
   ]
  },
  {
   "cell_type": "code",
   "execution_count": 18,
   "id": "938cae83-14c9-49d6-b4bc-62596bedcff3",
   "metadata": {},
   "outputs": [
    {
     "name": "stdout",
     "output_type": "stream",
     "text": [
      "Ruby path (ruby_path): C:\\Users\\PC1\\OneDrive\\A5\\Ruby\n"
     ]
    }
   ],
   "source": [
    "current_path = os.getcwd()\n",
    "base_path = os.path.dirname(current_path)\n",
    "ruby_path = os.path.join(base_path, \"Ruby\")\n",
    "print(f\"Ruby path (ruby_path): {ruby_path}\") "
   ]
  },
  {
   "cell_type": "code",
   "execution_count": 19,
   "id": "0136488e-a16d-46b3-9a58-f16528063627",
   "metadata": {},
   "outputs": [],
   "source": [
    "file_name = \"watch-list-buys.xlsx\"  \n",
    "output_file = os.path.join(ruby_path, file_name)\n",
    "\n",
    "# Apply formatting\n",
    "filtered[[\"sell_date\"]] = filtered[[\"sell_date\"]].apply(lambda col: col.map(to_date))\n",
    "\n",
    "# Export to Excel\n",
    "filtered.sort_values('name', ascending=True).to_excel(\n",
    "    output_file, \n",
    "    header=True, \n",
    "    index=False\n",
    ")"
   ]
  },
  {
   "cell_type": "markdown",
   "id": "d0b02880-9abd-4ae8-adb9-03a1b7848428",
   "metadata": {},
   "source": [
    "### Profit per Month"
   ]
  },
  {
   "cell_type": "code",
   "execution_count": 21,
   "id": "d0f1b7da-92b6-4f8b-ae83-fd2e300ac910",
   "metadata": {},
   "outputs": [],
   "source": [
    "year = 2025\n",
    "month = 9\n",
    "sql = '''\n",
    "    SELECT name, S.date, B.qty, B.price AS buy, B.net AS cost_amt, S.price AS sell, S.net AS sale_amt, S.profit\n",
    "    FROM sells S JOIN buys B ON S.buy_id = B.id\n",
    "    JOIN stocks T ON B.stock_id = T.id\n",
    "    WHERE YEAR(S.date) = {} AND MONTH(S.date) = {}\n",
    "    ORDER BY S.date ASC, name\n",
    "'''.format(year, month)\n",
    "\n",
    "df_sells = pd.read_sql(sql, conpf)\n",
    "#print(sql)"
   ]
  },
  {
   "cell_type": "code",
   "execution_count": 22,
   "id": "c450976b-1e9f-487e-89ee-692d5633b95e",
   "metadata": {},
   "outputs": [
    {
     "data": {
      "text/html": [
       "<style type=\"text/css\">\n",
       "</style>\n",
       "<table id=\"T_14ca1\">\n",
       "  <thead>\n",
       "    <tr>\n",
       "      <th id=\"T_14ca1_level0_col0\" class=\"col_heading level0 col0\" >name</th>\n",
       "      <th id=\"T_14ca1_level0_col1\" class=\"col_heading level0 col1\" >date</th>\n",
       "      <th id=\"T_14ca1_level0_col2\" class=\"col_heading level0 col2\" >qty</th>\n",
       "      <th id=\"T_14ca1_level0_col3\" class=\"col_heading level0 col3\" >buy</th>\n",
       "      <th id=\"T_14ca1_level0_col4\" class=\"col_heading level0 col4\" >cost_amt</th>\n",
       "      <th id=\"T_14ca1_level0_col5\" class=\"col_heading level0 col5\" >sell</th>\n",
       "      <th id=\"T_14ca1_level0_col6\" class=\"col_heading level0 col6\" >sale_amt</th>\n",
       "      <th id=\"T_14ca1_level0_col7\" class=\"col_heading level0 col7\" >profit</th>\n",
       "    </tr>\n",
       "  </thead>\n",
       "  <tbody>\n",
       "    <tr>\n",
       "      <td id=\"T_14ca1_row0_col0\" class=\"data row0 col0\" >DIF</td>\n",
       "      <td id=\"T_14ca1_row0_col1\" class=\"data row0 col1\" >2025-09-03</td>\n",
       "      <td id=\"T_14ca1_row0_col2\" class=\"data row0 col2\" >5000</td>\n",
       "      <td id=\"T_14ca1_row0_col3\" class=\"data row0 col3\" >7.50</td>\n",
       "      <td id=\"T_14ca1_row0_col4\" class=\"data row0 col4\" >37,583.06</td>\n",
       "      <td id=\"T_14ca1_row0_col5\" class=\"data row0 col5\" >8.30</td>\n",
       "      <td id=\"T_14ca1_row0_col6\" class=\"data row0 col6\" >41,408.08</td>\n",
       "      <td id=\"T_14ca1_row0_col7\" class=\"data row0 col7\" >3,825.02</td>\n",
       "    </tr>\n",
       "    <tr>\n",
       "      <td id=\"T_14ca1_row1_col0\" class=\"data row1 col0\" >CPF</td>\n",
       "      <td id=\"T_14ca1_row1_col1\" class=\"data row1 col1\" >2025-09-08</td>\n",
       "      <td id=\"T_14ca1_row1_col2\" class=\"data row1 col2\" >5000</td>\n",
       "      <td id=\"T_14ca1_row1_col3\" class=\"data row1 col3\" >24.10</td>\n",
       "      <td id=\"T_14ca1_row1_col4\" class=\"data row1 col4\" >120,766.90</td>\n",
       "      <td id=\"T_14ca1_row1_col5\" class=\"data row1 col5\" >23.40</td>\n",
       "      <td id=\"T_14ca1_row1_col6\" class=\"data row1 col6\" >116,740.86</td>\n",
       "      <td id=\"T_14ca1_row1_col7\" class=\"data row1 col7\" >-4,026.04</td>\n",
       "    </tr>\n",
       "  </tbody>\n",
       "</table>\n"
      ],
      "text/plain": [
       "<pandas.io.formats.style.Styler at 0x1eddb8578c0>"
      ]
     },
     "metadata": {},
     "output_type": "display_data"
    }
   ],
   "source": [
    "# Format all floats (pandas 1.4.0+)\n",
    "display(df_sells.style.format({\n",
    "    col: '{:,.2f}' for col in df_sells.select_dtypes(include=float).columns\n",
    "}).hide(axis=\"index\"))"
   ]
  },
  {
   "cell_type": "code",
   "execution_count": 23,
   "id": "52206bc5-20a7-452b-afd1-776361dacfab",
   "metadata": {},
   "outputs": [
    {
     "data": {
      "text/html": [
       "<style type=\"text/css\">\n",
       "</style>\n",
       "<table id=\"T_526af\">\n",
       "  <thead>\n",
       "    <tr>\n",
       "      <th id=\"T_526af_level0_col0\" class=\"col_heading level0 col0\" >name</th>\n",
       "      <th id=\"T_526af_level0_col1\" class=\"col_heading level0 col1\" >date</th>\n",
       "      <th id=\"T_526af_level0_col2\" class=\"col_heading level0 col2\" >qty</th>\n",
       "      <th id=\"T_526af_level0_col3\" class=\"col_heading level0 col3\" >buy</th>\n",
       "      <th id=\"T_526af_level0_col4\" class=\"col_heading level0 col4\" >cost_amt</th>\n",
       "      <th id=\"T_526af_level0_col5\" class=\"col_heading level0 col5\" >sell</th>\n",
       "      <th id=\"T_526af_level0_col6\" class=\"col_heading level0 col6\" >sale_amt</th>\n",
       "      <th id=\"T_526af_level0_col7\" class=\"col_heading level0 col7\" >profit</th>\n",
       "    </tr>\n",
       "  </thead>\n",
       "  <tbody>\n",
       "    <tr>\n",
       "      <td id=\"T_526af_row0_col0\" class=\"data row0 col0\" >DIF</td>\n",
       "      <td id=\"T_526af_row0_col1\" class=\"data row0 col1\" >2025-09-03</td>\n",
       "      <td id=\"T_526af_row0_col2\" class=\"data row0 col2\" >5,000</td>\n",
       "      <td id=\"T_526af_row0_col3\" class=\"data row0 col3\" >฿7.50</td>\n",
       "      <td id=\"T_526af_row0_col4\" class=\"data row0 col4\" >฿37,583.06</td>\n",
       "      <td id=\"T_526af_row0_col5\" class=\"data row0 col5\" >฿8.30</td>\n",
       "      <td id=\"T_526af_row0_col6\" class=\"data row0 col6\" >฿41,408.08</td>\n",
       "      <td id=\"T_526af_row0_col7\" class=\"data row0 col7\" >฿3,825.02</td>\n",
       "    </tr>\n",
       "    <tr>\n",
       "      <td id=\"T_526af_row1_col0\" class=\"data row1 col0\" >CPF</td>\n",
       "      <td id=\"T_526af_row1_col1\" class=\"data row1 col1\" >2025-09-08</td>\n",
       "      <td id=\"T_526af_row1_col2\" class=\"data row1 col2\" >5,000</td>\n",
       "      <td id=\"T_526af_row1_col3\" class=\"data row1 col3\" >฿24.10</td>\n",
       "      <td id=\"T_526af_row1_col4\" class=\"data row1 col4\" >฿120,766.90</td>\n",
       "      <td id=\"T_526af_row1_col5\" class=\"data row1 col5\" >฿23.40</td>\n",
       "      <td id=\"T_526af_row1_col6\" class=\"data row1 col6\" >฿116,740.86</td>\n",
       "      <td id=\"T_526af_row1_col7\" class=\"data row1 col7\" >฿-4,026.04</td>\n",
       "    </tr>\n",
       "  </tbody>\n",
       "</table>\n"
      ],
      "text/plain": [
       "<pandas.io.formats.style.Styler at 0x1eddc90b230>"
      ]
     },
     "execution_count": 23,
     "metadata": {},
     "output_type": "execute_result"
    }
   ],
   "source": [
    "# Convert columns to interger\n",
    "df_sells[\"qty\"] = df_sells[\"qty\"].astype(int)\n",
    "# Apply formatting\n",
    "df_sells[[\"qty\"]] = df_sells[[\"qty\"]].apply(lambda col: col.map(to_integer))\n",
    "df_sells[[\"buy\", \"cost_amt\",\"sell\", \"sale_amt\", \"profit\"]] = \\\n",
    "df_sells[[\"buy\", \"cost_amt\",\"sell\", \"sale_amt\", \"profit\"]].apply(lambda col: col.map(to_currency))\n",
    "df_sells[[\"date\"]] = df_sells[[\"date\"]].apply(lambda col: col.map(to_date))\n",
    "df_sells.style.hide(axis=\"index\")"
   ]
  },
  {
   "cell_type": "code",
   "execution_count": 24,
   "id": "15d59f94",
   "metadata": {},
   "outputs": [
    {
     "name": "stdout",
     "output_type": "stream",
     "text": [
      "Monthly Profit Amount: -201.02\n"
     ]
    }
   ],
   "source": [
    "df_sells = pd.read_sql(sql, conpf)\n",
    "print(f\"Monthly Profit Amount: {df_sells.profit.sum():,.2f}\")"
   ]
  },
  {
   "cell_type": "code",
   "execution_count": 25,
   "id": "ff23d38c",
   "metadata": {},
   "outputs": [
    {
     "name": "stdout",
     "output_type": "stream",
     "text": [
      "2025-09-09 20:04:50\n"
     ]
    }
   ],
   "source": [
    "# Get the current time\n",
    "current_time = datetime.now()\n",
    "# Format the time to remove millisAeconds\n",
    "fmt_time = current_time.strftime(\"%Y-%m-%d %H:%M:%S\")\n",
    "print(fmt_time)"
   ]
  },
  {
   "cell_type": "code",
   "execution_count": null,
   "id": "e2d7d5de-57b3-497c-a2bf-b0381bc37835",
   "metadata": {},
   "outputs": [],
   "source": []
  }
 ],
 "metadata": {
  "kernelspec": {
   "display_name": "Python 3 (ipykernel)",
   "language": "python",
   "name": "python3"
  },
  "language_info": {
   "codemirror_mode": {
    "name": "ipython",
    "version": 3
   },
   "file_extension": ".py",
   "mimetype": "text/x-python",
   "name": "python",
   "nbconvert_exporter": "python",
   "pygments_lexer": "ipython3",
   "version": "3.12.3"
  }
 },
 "nbformat": 4,
 "nbformat_minor": 5
}
