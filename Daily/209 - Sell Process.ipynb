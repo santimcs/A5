{
 "cells": [
  {
   "cell_type": "markdown",
   "id": "d8a383f5",
   "metadata": {},
   "source": [
    "### Input files: Price-Today, orders-log\n",
    "### Output files: Price-for-Order, orders-log, monthly-sales"
   ]
  },
  {
   "cell_type": "code",
   "execution_count": 2,
   "id": "2a2bb67d",
   "metadata": {},
   "outputs": [
    {
     "name": "stdout",
     "output_type": "stream",
     "text": [
      "2025-08-07 2025-08-06\n"
     ]
    }
   ],
   "source": [
    "import glob\n",
    "import os\n",
    "import pandas as pd\n",
    "from datetime import date, timedelta, datetime\n",
    "from pandas.tseries.offsets import *\n",
    "from sqlalchemy import create_engine\n",
    "\n",
    "engine = create_engine(\"sqlite:///c:\\\\ruby\\\\port_lite\\\\db\\\\development.sqlite3\")\n",
    "conlite = engine.connect()\n",
    "engine = create_engine('mysql+pymysql://root:@localhost:3306/portfolio_development')\n",
    "conpf = engine.connect()\n",
    "engine = create_engine(\"mysql+pymysql://root:@localhost:3306/stock\")\n",
    "const = engine.connect()\n",
    "\n",
    "# Define formatting dictionary for all columns\n",
    "format_dict = {\n",
    "    'qty': '{:,.0f}',          # Comma-separated, no decimals (10,000)\n",
    "    'days': '{:,}',     \n",
    "    'sell_price': '{:.2f}',     # 2 decimals (2.82)\n",
    "    'price': '{:.2f}',          # 2 decimals (1.87)\n",
    "    'target': '{:.2f}',          # 2 decimals (1.87)    \n",
    "    'buy_price': '{:.2f}',          # 2 decimals (1.87)    \n",
    "    'difa': '{:,.2f}',          # Comma-separated, 2 decimals (-9,500.00)\n",
    "    'diff': '{:.2f}',          # 2 decimals (1.87)\n",
    "    'sell_amt': '{:,.2f}',          # 2 decimals (1.87)    \n",
    "    'buy_amt': '{:,.2f}',          # Comma-separated, 2 decimals (-9,500.00)    \n",
    "    'amount': '{:,.2f}',          # Comma-separated, 2 decimals (-9,500.00)     \n",
    "    'gross': '{:,.2f}',          # 2 decimals (1.87)    \n",
    "    'pct': '{:,.2f}%',          # Comma-separated, 2 decimals (-9,500.00)    \n",
    "    '%change': '{:.2f}%',        # 2 decimals (-1.58)\n",
    "    '%profit': '{:.2f}%',        # 2 decimals (-33.69)\n",
    "    '%decline': '{:.2f}%',        # 2 decimals (-33.69)    \n",
    "    'sell_date': '{:%Y-%m-%d}'  # Date without time (2025-03-03)\n",
    "}\n",
    "\n",
    "pd.options.display.max_rows = 50\n",
    "pd.options.display.float_format = '{:.2f}'.format\n",
    "\n",
    "today = date.today()\n",
    "yesterday = today - timedelta(days=1)\n",
    "print(today, yesterday)"
   ]
  },
  {
   "cell_type": "code",
   "execution_count": 3,
   "id": "827c35b1-74ae-4922-afc4-63c50c6d3a5d",
   "metadata": {},
   "outputs": [
    {
     "name": "stdout",
     "output_type": "stream",
     "text": [
      "2025-08-07 23:03:58\n"
     ]
    }
   ],
   "source": [
    "# Get the current time\n",
    "current_time = datetime.now()\n",
    "# Format the time to remove milliseconds\n",
    "formatted_time = current_time.strftime(\"%Y-%m-%d %H:%M:%S\")\n",
    "print(formatted_time)"
   ]
  },
  {
   "cell_type": "markdown",
   "id": "29764f10",
   "metadata": {},
   "source": [
    "### Restart and Run All Cells"
   ]
  },
  {
   "cell_type": "code",
   "execution_count": 5,
   "id": "d6b5b24c",
   "metadata": {},
   "outputs": [
    {
     "name": "stdout",
     "output_type": "stream",
     "text": [
      "Data path (dat_path): C:\\Users\\PC1\\OneDrive\\A5\\Data\n",
      "Input file: C:\\Users\\PC1\\OneDrive\\A5\\Data\\Price-Today.csv\n"
     ]
    }
   ],
   "source": [
    "current_path = os.getcwd()\n",
    "base_path = os.path.dirname(current_path)\n",
    "dat_path = os.path.join(base_path, \"Data\")\n",
    "print(f\"Data path (dat_path): {dat_path}\") \n",
    "file_name = \"Price-Today.csv\"\n",
    "input_file = os.path.join(dat_path, file_name)\n",
    "print(f\"Input file: {input_file}\")"
   ]
  },
  {
   "cell_type": "code",
   "execution_count": 6,
   "id": "f9f6b3d9",
   "metadata": {},
   "outputs": [
    {
     "data": {
      "text/plain": [
       "(169, 10)"
      ]
     },
     "execution_count": 6,
     "metadata": {},
     "output_type": "execute_result"
    }
   ],
   "source": [
    "prices = pd.read_csv(input_file)\n",
    "prices.shape"
   ]
  },
  {
   "cell_type": "markdown",
   "id": "244ace00-5566-43a0-b486-8c0be4456a35",
   "metadata": {},
   "source": [
    "### Purchase recently sold stocks if price lower than last sold"
   ]
  },
  {
   "cell_type": "code",
   "execution_count": 8,
   "id": "f14ba2ab-f6f8-4e50-9941-45ec14d6a5cb",
   "metadata": {},
   "outputs": [
    {
     "data": {
      "text/plain": [
       "\"'3BBIF', 'AH', 'AIMIRT', 'AWC', 'BCH', 'CPNREIT', 'DIF', 'GVREIT', 'IVL', 'JMART', 'JMT', 'MCS', 'NER', 'ORI', 'PTG', 'PTTGC', 'RCL', 'SCC', 'SENA', 'SINGER', 'STA', 'SYNEX', 'TFFIF', 'TOA', 'TVO', 'WHAIR', 'WHART'\""
      ]
     },
     "execution_count": 8,
     "metadata": {},
     "output_type": "execute_result"
    }
   ],
   "source": [
    "#Select name from portfolio\n",
    "sql = \"\"\"SELECT name FROM buy\"\"\"\n",
    "portfolio = pd.read_sql(sql, const)\n",
    "names = portfolio.name\n",
    "in_p = \", \".join(map(lambda name: \"'%s'\" % name, names))\n",
    "in_p"
   ]
  },
  {
   "cell_type": "code",
   "execution_count": 9,
   "id": "35de6861-8e97-478a-a880-f103249b0159",
   "metadata": {},
   "outputs": [
    {
     "data": {
      "text/plain": [
       "(221, 6)"
      ]
     },
     "execution_count": 9,
     "metadata": {},
     "output_type": "execute_result"
    }
   ],
   "source": [
    "#\n",
    "sql = \"\"\"\n",
    "SELECT T.name, S.date AS sell_date, S.price AS sell_price, B.price AS buy_price, B.date AS buy_date, B.qty\n",
    "FROM sells S\n",
    "JOIN buys B\n",
    "ON S.buy_id = B.id \n",
    "JOIN stocks T\n",
    "ON T.id = B.stock_id \n",
    "WHERE T.name IN (%s)\n",
    "ORDER BY T.name, S.date DESC\"\"\"\n",
    "sql = sql % (in_p)\n",
    "sells = pd.read_sql(sql, conpf)\n",
    "sells.shape"
   ]
  },
  {
   "cell_type": "code",
   "execution_count": 10,
   "id": "9d35b43b-65cd-4879-ac0c-8c8d39b86869",
   "metadata": {},
   "outputs": [
    {
     "data": {
      "text/plain": [
       "name           object\n",
       "sell_date      object\n",
       "sell_price    float64\n",
       "buy_price     float64\n",
       "buy_date       object\n",
       "qty             int64\n",
       "dtype: object"
      ]
     },
     "execution_count": 10,
     "metadata": {},
     "output_type": "execute_result"
    }
   ],
   "source": [
    "sells.dtypes"
   ]
  },
  {
   "cell_type": "markdown",
   "id": "cf0f5ed8",
   "metadata": {},
   "source": [
    "### PTT"
   ]
  },
  {
   "cell_type": "code",
   "execution_count": 12,
   "id": "ea35b0a5-9283-48df-90c0-ef3e8cf633af",
   "metadata": {},
   "outputs": [
    {
     "data": {
      "text/html": [
       "<div>\n",
       "<style scoped>\n",
       "    .dataframe tbody tr th:only-of-type {\n",
       "        vertical-align: middle;\n",
       "    }\n",
       "\n",
       "    .dataframe tbody tr th {\n",
       "        vertical-align: top;\n",
       "    }\n",
       "\n",
       "    .dataframe thead th {\n",
       "        text-align: right;\n",
       "    }\n",
       "</style>\n",
       "<table border=\"1\" class=\"dataframe\">\n",
       "  <thead>\n",
       "    <tr style=\"text-align: right;\">\n",
       "      <th></th>\n",
       "      <th>name</th>\n",
       "      <th>sell_date</th>\n",
       "      <th>sell_price</th>\n",
       "      <th>buy_price</th>\n",
       "      <th>buy_date</th>\n",
       "      <th>qty</th>\n",
       "    </tr>\n",
       "  </thead>\n",
       "  <tbody>\n",
       "    <tr>\n",
       "      <th>217</th>\n",
       "      <td>WHART</td>\n",
       "      <td>2021-06-11</td>\n",
       "      <td>13.30</td>\n",
       "      <td>13.00</td>\n",
       "      <td>2021-06-10</td>\n",
       "      <td>10000</td>\n",
       "    </tr>\n",
       "    <tr>\n",
       "      <th>218</th>\n",
       "      <td>WHART</td>\n",
       "      <td>2021-06-02</td>\n",
       "      <td>13.30</td>\n",
       "      <td>13.00</td>\n",
       "      <td>2021-06-01</td>\n",
       "      <td>10000</td>\n",
       "    </tr>\n",
       "    <tr>\n",
       "      <th>219</th>\n",
       "      <td>WHART</td>\n",
       "      <td>2021-05-28</td>\n",
       "      <td>13.40</td>\n",
       "      <td>13.30</td>\n",
       "      <td>2021-05-27</td>\n",
       "      <td>9000</td>\n",
       "    </tr>\n",
       "    <tr>\n",
       "      <th>220</th>\n",
       "      <td>WHART</td>\n",
       "      <td>2021-03-04</td>\n",
       "      <td>11.50</td>\n",
       "      <td>11.40</td>\n",
       "      <td>2021-03-03</td>\n",
       "      <td>10000</td>\n",
       "    </tr>\n",
       "    <tr>\n",
       "      <th>221</th>\n",
       "      <td>PTT</td>\n",
       "      <td>2025-01-31</td>\n",
       "      <td>33.00</td>\n",
       "      <td>30.00</td>\n",
       "      <td>2025-01-01</td>\n",
       "      <td>2500</td>\n",
       "    </tr>\n",
       "  </tbody>\n",
       "</table>\n",
       "</div>"
      ],
      "text/plain": [
       "      name   sell_date  sell_price  buy_price    buy_date    qty\n",
       "217  WHART  2021-06-11       13.30      13.00  2021-06-10  10000\n",
       "218  WHART  2021-06-02       13.30      13.00  2021-06-01  10000\n",
       "219  WHART  2021-05-28       13.40      13.30  2021-05-27   9000\n",
       "220  WHART  2021-03-04       11.50      11.40  2021-03-03  10000\n",
       "221    PTT  2025-01-31       33.00      30.00  2025-01-01   2500"
      ]
     },
     "execution_count": 12,
     "metadata": {},
     "output_type": "execute_result"
    }
   ],
   "source": [
    "# Create a new row as a DataFrame\n",
    "new_row = pd.DataFrame([['PTT', '2025-01-31', 33.00, 30.00, '2025-01-01', 2500]],\n",
    "                      columns=sells.columns)\n",
    "\n",
    "# Concatenate with original DataFrame\n",
    "sells = pd.concat([sells, new_row], ignore_index=True)\n",
    "sells.tail()"
   ]
  },
  {
   "cell_type": "markdown",
   "id": "acec2505",
   "metadata": {},
   "source": [
    "### JMART"
   ]
  },
  {
   "cell_type": "code",
   "execution_count": 14,
   "id": "f29559a4-226c-4b48-a5df-43c8b6c86980",
   "metadata": {},
   "outputs": [
    {
     "data": {
      "text/html": [
       "<div>\n",
       "<style scoped>\n",
       "    .dataframe tbody tr th:only-of-type {\n",
       "        vertical-align: middle;\n",
       "    }\n",
       "\n",
       "    .dataframe tbody tr th {\n",
       "        vertical-align: top;\n",
       "    }\n",
       "\n",
       "    .dataframe thead th {\n",
       "        text-align: right;\n",
       "    }\n",
       "</style>\n",
       "<table border=\"1\" class=\"dataframe\">\n",
       "  <thead>\n",
       "    <tr style=\"text-align: right;\">\n",
       "      <th></th>\n",
       "      <th>name</th>\n",
       "      <th>sell_date</th>\n",
       "      <th>sell_price</th>\n",
       "      <th>buy_price</th>\n",
       "      <th>buy_date</th>\n",
       "      <th>qty</th>\n",
       "    </tr>\n",
       "  </thead>\n",
       "  <tbody>\n",
       "    <tr>\n",
       "      <th>218</th>\n",
       "      <td>WHART</td>\n",
       "      <td>2021-06-02</td>\n",
       "      <td>13.30</td>\n",
       "      <td>13.00</td>\n",
       "      <td>2021-06-01</td>\n",
       "      <td>10000</td>\n",
       "    </tr>\n",
       "    <tr>\n",
       "      <th>219</th>\n",
       "      <td>WHART</td>\n",
       "      <td>2021-05-28</td>\n",
       "      <td>13.40</td>\n",
       "      <td>13.30</td>\n",
       "      <td>2021-05-27</td>\n",
       "      <td>9000</td>\n",
       "    </tr>\n",
       "    <tr>\n",
       "      <th>220</th>\n",
       "      <td>WHART</td>\n",
       "      <td>2021-03-04</td>\n",
       "      <td>11.50</td>\n",
       "      <td>11.40</td>\n",
       "      <td>2021-03-03</td>\n",
       "      <td>10000</td>\n",
       "    </tr>\n",
       "    <tr>\n",
       "      <th>221</th>\n",
       "      <td>PTT</td>\n",
       "      <td>2025-01-31</td>\n",
       "      <td>33.00</td>\n",
       "      <td>30.00</td>\n",
       "      <td>2025-01-01</td>\n",
       "      <td>2500</td>\n",
       "    </tr>\n",
       "    <tr>\n",
       "      <th>222</th>\n",
       "      <td>JMART</td>\n",
       "      <td>2025-01-01</td>\n",
       "      <td>24.10</td>\n",
       "      <td>8.00</td>\n",
       "      <td>2025-01-01</td>\n",
       "      <td>3200</td>\n",
       "    </tr>\n",
       "  </tbody>\n",
       "</table>\n",
       "</div>"
      ],
      "text/plain": [
       "      name   sell_date  sell_price  buy_price    buy_date    qty\n",
       "218  WHART  2021-06-02       13.30      13.00  2021-06-01  10000\n",
       "219  WHART  2021-05-28       13.40      13.30  2021-05-27   9000\n",
       "220  WHART  2021-03-04       11.50      11.40  2021-03-03  10000\n",
       "221    PTT  2025-01-31       33.00      30.00  2025-01-01   2500\n",
       "222  JMART  2025-01-01       24.10       8.00  2025-01-01   3200"
      ]
     },
     "execution_count": 14,
     "metadata": {},
     "output_type": "execute_result"
    }
   ],
   "source": [
    "# Create a new row as a DataFrame\n",
    "new_row = pd.DataFrame([['JMART', '2025-01-01', 24.10, 8.00, '2025-01-01', 3200]],\n",
    "                      columns=sells.columns)\n",
    "\n",
    "# Concatenate with original DataFrame\n",
    "sells = pd.concat([sells, new_row], ignore_index=True)\n",
    "sells.tail()"
   ]
  },
  {
   "cell_type": "code",
   "execution_count": 15,
   "id": "d15efeb2-ce6d-4fe8-8e70-cf6ccf634e06",
   "metadata": {},
   "outputs": [
    {
     "data": {
      "text/plain": [
       "(26, 6)"
      ]
     },
     "execution_count": 15,
     "metadata": {},
     "output_type": "execute_result"
    }
   ],
   "source": [
    "# Convert dates to datetime if they're not already\n",
    "sells['sell_date'] = pd.to_datetime(sells['sell_date'])\n",
    "\n",
    "# Get the latest record for each name\n",
    "latest_records = sells.sort_values('sell_date', ascending=False).drop_duplicates('name')\n",
    "latest_records.shape"
   ]
  },
  {
   "cell_type": "code",
   "execution_count": 16,
   "id": "50574919-a3e6-4ea4-ba43-489dac955e5e",
   "metadata": {},
   "outputs": [],
   "source": [
    "colu = 'name qty sell_price price target %decline sell_date amount'.split()\n",
    "sell_data   = pd.merge(latest_records, prices, on='name', how='inner')\n",
    "sell_data['diff'] = sell_data['price'] - sell_data['sell_price']\n",
    "sell_data['%decline'] = round(sell_data['diff'] / (sell_data['sell_price']) * 100,2)\n",
    "#sell_data['sell_date'] = pd.to_datetime(sell_data['sell_date'])\n",
    "sell_data['target'] = round(sell_data['sell_price'] * 0.9,2)\n",
    "sell_data['amount'] = round(sell_data['target'] * sell_data['qty'])"
   ]
  },
  {
   "cell_type": "code",
   "execution_count": 17,
   "id": "35b9a3ff-337e-4863-ae57-88f8c52f25ed",
   "metadata": {},
   "outputs": [
    {
     "data": {
      "text/html": [
       "<style type=\"text/css\">\n",
       "</style>\n",
       "<table id=\"T_64c3d\">\n",
       "  <thead>\n",
       "    <tr>\n",
       "      <th class=\"blank level0\" >&nbsp;</th>\n",
       "      <th id=\"T_64c3d_level0_col0\" class=\"col_heading level0 col0\" >name</th>\n",
       "      <th id=\"T_64c3d_level0_col1\" class=\"col_heading level0 col1\" >qty</th>\n",
       "      <th id=\"T_64c3d_level0_col2\" class=\"col_heading level0 col2\" >sell_price</th>\n",
       "      <th id=\"T_64c3d_level0_col3\" class=\"col_heading level0 col3\" >price</th>\n",
       "      <th id=\"T_64c3d_level0_col4\" class=\"col_heading level0 col4\" >target</th>\n",
       "      <th id=\"T_64c3d_level0_col5\" class=\"col_heading level0 col5\" >%decline</th>\n",
       "      <th id=\"T_64c3d_level0_col6\" class=\"col_heading level0 col6\" >sell_date</th>\n",
       "      <th id=\"T_64c3d_level0_col7\" class=\"col_heading level0 col7\" >amount</th>\n",
       "    </tr>\n",
       "  </thead>\n",
       "  <tbody>\n",
       "    <tr>\n",
       "      <th id=\"T_64c3d_level0_row0\" class=\"row_heading level0 row0\" >17</th>\n",
       "      <td id=\"T_64c3d_row0_col0\" class=\"data row0 col0\" >SINGER</td>\n",
       "      <td id=\"T_64c3d_row0_col1\" class=\"data row0 col1\" >3,600</td>\n",
       "      <td id=\"T_64c3d_row0_col2\" class=\"data row0 col2\" >29.25</td>\n",
       "      <td id=\"T_64c3d_row0_col3\" class=\"data row0 col3\" >5.80</td>\n",
       "      <td id=\"T_64c3d_row0_col4\" class=\"data row0 col4\" >26.32</td>\n",
       "      <td id=\"T_64c3d_row0_col5\" class=\"data row0 col5\" >-80.17%</td>\n",
       "      <td id=\"T_64c3d_row0_col6\" class=\"data row0 col6\" >2023-01-09</td>\n",
       "      <td id=\"T_64c3d_row0_col7\" class=\"data row0 col7\" >94,752.00</td>\n",
       "    </tr>\n",
       "    <tr>\n",
       "      <th id=\"T_64c3d_level0_row1\" class=\"row_heading level0 row1\" >25</th>\n",
       "      <td id=\"T_64c3d_row1_col0\" class=\"data row1 col0\" >PTG</td>\n",
       "      <td id=\"T_64c3d_row1_col1\" class=\"data row1 col1\" >6,000</td>\n",
       "      <td id=\"T_64c3d_row1_col2\" class=\"data row1 col2\" >19.20</td>\n",
       "      <td id=\"T_64c3d_row1_col3\" class=\"data row1 col3\" >6.80</td>\n",
       "      <td id=\"T_64c3d_row1_col4\" class=\"data row1 col4\" >17.28</td>\n",
       "      <td id=\"T_64c3d_row1_col5\" class=\"data row1 col5\" >-64.58%</td>\n",
       "      <td id=\"T_64c3d_row1_col6\" class=\"data row1 col6\" >2021-03-02</td>\n",
       "      <td id=\"T_64c3d_row1_col7\" class=\"data row1 col7\" >103,680.00</td>\n",
       "    </tr>\n",
       "    <tr>\n",
       "      <th id=\"T_64c3d_level0_row2\" class=\"row_heading level0 row2\" >22</th>\n",
       "      <td id=\"T_64c3d_row2_col0\" class=\"data row2 col0\" >SENA</td>\n",
       "      <td id=\"T_64c3d_row2_col1\" class=\"data row2 col1\" >75,000</td>\n",
       "      <td id=\"T_64c3d_row2_col2\" class=\"data row2 col2\" >4.08</td>\n",
       "      <td id=\"T_64c3d_row2_col3\" class=\"data row2 col3\" >1.81</td>\n",
       "      <td id=\"T_64c3d_row2_col4\" class=\"data row2 col4\" >3.67</td>\n",
       "      <td id=\"T_64c3d_row2_col5\" class=\"data row2 col5\" >-55.64%</td>\n",
       "      <td id=\"T_64c3d_row2_col6\" class=\"data row2 col6\" >2021-12-17</td>\n",
       "      <td id=\"T_64c3d_row2_col7\" class=\"data row2 col7\" >275,250.00</td>\n",
       "    </tr>\n",
       "    <tr>\n",
       "      <th id=\"T_64c3d_level0_row3\" class=\"row_heading level0 row3\" >23</th>\n",
       "      <td id=\"T_64c3d_row3_col0\" class=\"data row3 col0\" >TOA</td>\n",
       "      <td id=\"T_64c3d_row3_col1\" class=\"data row3 col1\" >3,000</td>\n",
       "      <td id=\"T_64c3d_row3_col2\" class=\"data row3 col2\" >33.00</td>\n",
       "      <td id=\"T_64c3d_row3_col3\" class=\"data row3 col3\" >14.80</td>\n",
       "      <td id=\"T_64c3d_row3_col4\" class=\"data row3 col4\" >29.70</td>\n",
       "      <td id=\"T_64c3d_row3_col5\" class=\"data row3 col5\" >-55.15%</td>\n",
       "      <td id=\"T_64c3d_row3_col6\" class=\"data row3 col6\" >2021-09-21</td>\n",
       "      <td id=\"T_64c3d_row3_col7\" class=\"data row3 col7\" >89,100.00</td>\n",
       "    </tr>\n",
       "    <tr>\n",
       "      <th id=\"T_64c3d_level0_row4\" class=\"row_heading level0 row4\" >16</th>\n",
       "      <td id=\"T_64c3d_row4_col0\" class=\"data row4 col0\" >PTTGC</td>\n",
       "      <td id=\"T_64c3d_row4_col1\" class=\"data row4 col1\" >3,000</td>\n",
       "      <td id=\"T_64c3d_row4_col2\" class=\"data row4 col2\" >50.75</td>\n",
       "      <td id=\"T_64c3d_row4_col3\" class=\"data row4 col3\" >24.20</td>\n",
       "      <td id=\"T_64c3d_row4_col4\" class=\"data row4 col4\" >45.68</td>\n",
       "      <td id=\"T_64c3d_row4_col5\" class=\"data row4 col5\" >-52.32%</td>\n",
       "      <td id=\"T_64c3d_row4_col6\" class=\"data row4 col6\" >2023-01-17</td>\n",
       "      <td id=\"T_64c3d_row4_col7\" class=\"data row4 col7\" >137,040.00</td>\n",
       "    </tr>\n",
       "    <tr>\n",
       "      <th id=\"T_64c3d_level0_row5\" class=\"row_heading level0 row5\" >19</th>\n",
       "      <td id=\"T_64c3d_row5_col0\" class=\"data row5 col0\" >SCC</td>\n",
       "      <td id=\"T_64c3d_row5_col1\" class=\"data row5 col1\" >300</td>\n",
       "      <td id=\"T_64c3d_row5_col2\" class=\"data row5 col2\" >340.00</td>\n",
       "      <td id=\"T_64c3d_row5_col3\" class=\"data row5 col3\" >203.00</td>\n",
       "      <td id=\"T_64c3d_row5_col4\" class=\"data row5 col4\" >306.00</td>\n",
       "      <td id=\"T_64c3d_row5_col5\" class=\"data row5 col5\" >-40.29%</td>\n",
       "      <td id=\"T_64c3d_row5_col6\" class=\"data row5 col6\" >2022-11-07</td>\n",
       "      <td id=\"T_64c3d_row5_col7\" class=\"data row5 col7\" >91,800.00</td>\n",
       "    </tr>\n",
       "    <tr>\n",
       "      <th id=\"T_64c3d_level0_row6\" class=\"row_heading level0 row6\" >14</th>\n",
       "      <td id=\"T_64c3d_row6_col0\" class=\"data row6 col0\" >BCH</td>\n",
       "      <td id=\"T_64c3d_row6_col1\" class=\"data row6 col1\" >2,000</td>\n",
       "      <td id=\"T_64c3d_row6_col2\" class=\"data row6 col2\" >22.90</td>\n",
       "      <td id=\"T_64c3d_row6_col3\" class=\"data row6 col3\" >14.30</td>\n",
       "      <td id=\"T_64c3d_row6_col4\" class=\"data row6 col4\" >20.61</td>\n",
       "      <td id=\"T_64c3d_row6_col5\" class=\"data row6 col5\" >-37.55%</td>\n",
       "      <td id=\"T_64c3d_row6_col6\" class=\"data row6 col6\" >2024-01-04</td>\n",
       "      <td id=\"T_64c3d_row6_col7\" class=\"data row6 col7\" >41,220.00</td>\n",
       "    </tr>\n",
       "    <tr>\n",
       "      <th id=\"T_64c3d_level0_row7\" class=\"row_heading level0 row7\" >24</th>\n",
       "      <td id=\"T_64c3d_row7_col0\" class=\"data row7 col0\" >TVO</td>\n",
       "      <td id=\"T_64c3d_row7_col1\" class=\"data row7 col1\" >6,000</td>\n",
       "      <td id=\"T_64c3d_row7_col2\" class=\"data row7 col2\" >32.00</td>\n",
       "      <td id=\"T_64c3d_row7_col3\" class=\"data row7 col3\" >23.30</td>\n",
       "      <td id=\"T_64c3d_row7_col4\" class=\"data row7 col4\" >28.80</td>\n",
       "      <td id=\"T_64c3d_row7_col5\" class=\"data row7 col5\" >-27.19%</td>\n",
       "      <td id=\"T_64c3d_row7_col6\" class=\"data row7 col6\" >2021-09-15</td>\n",
       "      <td id=\"T_64c3d_row7_col7\" class=\"data row7 col7\" >172,800.00</td>\n",
       "    </tr>\n",
       "    <tr>\n",
       "      <th id=\"T_64c3d_level0_row8\" class=\"row_heading level0 row8\" >18</th>\n",
       "      <td id=\"T_64c3d_row8_col0\" class=\"data row8 col0\" >SYNEX</td>\n",
       "      <td id=\"T_64c3d_row8_col1\" class=\"data row8 col1\" >3,000</td>\n",
       "      <td id=\"T_64c3d_row8_col2\" class=\"data row8 col2\" >16.50</td>\n",
       "      <td id=\"T_64c3d_row8_col3\" class=\"data row8 col3\" >12.60</td>\n",
       "      <td id=\"T_64c3d_row8_col4\" class=\"data row8 col4\" >14.85</td>\n",
       "      <td id=\"T_64c3d_row8_col5\" class=\"data row8 col5\" >-23.64%</td>\n",
       "      <td id=\"T_64c3d_row8_col6\" class=\"data row8 col6\" >2022-12-30</td>\n",
       "      <td id=\"T_64c3d_row8_col7\" class=\"data row8 col7\" >44,550.00</td>\n",
       "    </tr>\n",
       "    <tr>\n",
       "      <th id=\"T_64c3d_level0_row9\" class=\"row_heading level0 row9\" >21</th>\n",
       "      <td id=\"T_64c3d_row9_col0\" class=\"data row9 col0\" >AIMIRT</td>\n",
       "      <td id=\"T_64c3d_row9_col1\" class=\"data row9 col1\" >10,000</td>\n",
       "      <td id=\"T_64c3d_row9_col2\" class=\"data row9 col2\" >12.70</td>\n",
       "      <td id=\"T_64c3d_row9_col3\" class=\"data row9 col3\" >9.85</td>\n",
       "      <td id=\"T_64c3d_row9_col4\" class=\"data row9 col4\" >11.43</td>\n",
       "      <td id=\"T_64c3d_row9_col5\" class=\"data row9 col5\" >-22.44%</td>\n",
       "      <td id=\"T_64c3d_row9_col6\" class=\"data row9 col6\" >2022-04-18</td>\n",
       "      <td id=\"T_64c3d_row9_col7\" class=\"data row9 col7\" >114,300.00</td>\n",
       "    </tr>\n",
       "    <tr>\n",
       "      <th id=\"T_64c3d_level0_row10\" class=\"row_heading level0 row10\" >15</th>\n",
       "      <td id=\"T_64c3d_row10_col0\" class=\"data row10 col0\" >STA</td>\n",
       "      <td id=\"T_64c3d_row10_col1\" class=\"data row10 col1\" >2,500</td>\n",
       "      <td id=\"T_64c3d_row10_col2\" class=\"data row10 col2\" >16.90</td>\n",
       "      <td id=\"T_64c3d_row10_col3\" class=\"data row10 col3\" >14.00</td>\n",
       "      <td id=\"T_64c3d_row10_col4\" class=\"data row10 col4\" >15.21</td>\n",
       "      <td id=\"T_64c3d_row10_col5\" class=\"data row10 col5\" >-17.16%</td>\n",
       "      <td id=\"T_64c3d_row10_col6\" class=\"data row10 col6\" >2024-01-03</td>\n",
       "      <td id=\"T_64c3d_row10_col7\" class=\"data row10 col7\" >38,025.00</td>\n",
       "    </tr>\n",
       "    <tr>\n",
       "      <th id=\"T_64c3d_level0_row11\" class=\"row_heading level0 row11\" >13</th>\n",
       "      <td id=\"T_64c3d_row11_col0\" class=\"data row11 col0\" >TFFIF</td>\n",
       "      <td id=\"T_64c3d_row11_col1\" class=\"data row11 col1\" >2,500</td>\n",
       "      <td id=\"T_64c3d_row11_col2\" class=\"data row11 col2\" >7.00</td>\n",
       "      <td id=\"T_64c3d_row11_col3\" class=\"data row11 col3\" >6.10</td>\n",
       "      <td id=\"T_64c3d_row11_col4\" class=\"data row11 col4\" >6.30</td>\n",
       "      <td id=\"T_64c3d_row11_col5\" class=\"data row11 col5\" >-12.86%</td>\n",
       "      <td id=\"T_64c3d_row11_col6\" class=\"data row11 col6\" >2024-01-04</td>\n",
       "      <td id=\"T_64c3d_row11_col7\" class=\"data row11 col7\" >15,750.00</td>\n",
       "    </tr>\n",
       "    <tr>\n",
       "      <th id=\"T_64c3d_level0_row12\" class=\"row_heading level0 row12\" >11</th>\n",
       "      <td id=\"T_64c3d_row12_col0\" class=\"data row12 col0\" >WHART</td>\n",
       "      <td id=\"T_64c3d_row12_col1\" class=\"data row12 col1\" >5,000</td>\n",
       "      <td id=\"T_64c3d_row12_col2\" class=\"data row12 col2\" >10.30</td>\n",
       "      <td id=\"T_64c3d_row12_col3\" class=\"data row12 col3\" >9.30</td>\n",
       "      <td id=\"T_64c3d_row12_col4\" class=\"data row12 col4\" >9.27</td>\n",
       "      <td id=\"T_64c3d_row12_col5\" class=\"data row12 col5\" >-9.71%</td>\n",
       "      <td id=\"T_64c3d_row12_col6\" class=\"data row12 col6\" >2024-08-26</td>\n",
       "      <td id=\"T_64c3d_row12_col7\" class=\"data row12 col7\" >46,350.00</td>\n",
       "    </tr>\n",
       "    <tr>\n",
       "      <th id=\"T_64c3d_level0_row13\" class=\"row_heading level0 row13\" >10</th>\n",
       "      <td id=\"T_64c3d_row13_col0\" class=\"data row13 col0\" >CPNREIT</td>\n",
       "      <td id=\"T_64c3d_row13_col1\" class=\"data row13 col1\" >5,000</td>\n",
       "      <td id=\"T_64c3d_row13_col2\" class=\"data row13 col2\" >12.70</td>\n",
       "      <td id=\"T_64c3d_row13_col3\" class=\"data row13 col3\" >11.50</td>\n",
       "      <td id=\"T_64c3d_row13_col4\" class=\"data row13 col4\" >11.43</td>\n",
       "      <td id=\"T_64c3d_row13_col5\" class=\"data row13 col5\" >-9.45%</td>\n",
       "      <td id=\"T_64c3d_row13_col6\" class=\"data row13 col6\" >2024-09-10</td>\n",
       "      <td id=\"T_64c3d_row13_col7\" class=\"data row13 col7\" >57,150.00</td>\n",
       "    </tr>\n",
       "    <tr>\n",
       "      <th id=\"T_64c3d_level0_row14\" class=\"row_heading level0 row14\" >9</th>\n",
       "      <td id=\"T_64c3d_row14_col0\" class=\"data row14 col0\" >GVREIT</td>\n",
       "      <td id=\"T_64c3d_row14_col1\" class=\"data row14 col1\" >6,000</td>\n",
       "      <td id=\"T_64c3d_row14_col2\" class=\"data row14 col2\" >6.95</td>\n",
       "      <td id=\"T_64c3d_row14_col3\" class=\"data row14 col3\" >6.55</td>\n",
       "      <td id=\"T_64c3d_row14_col4\" class=\"data row14 col4\" >6.26</td>\n",
       "      <td id=\"T_64c3d_row14_col5\" class=\"data row14 col5\" >-5.76%</td>\n",
       "      <td id=\"T_64c3d_row14_col6\" class=\"data row14 col6\" >2024-09-19</td>\n",
       "      <td id=\"T_64c3d_row14_col7\" class=\"data row14 col7\" >37,560.00</td>\n",
       "    </tr>\n",
       "    <tr>\n",
       "      <th id=\"T_64c3d_level0_row15\" class=\"row_heading level0 row15\" >8</th>\n",
       "      <td id=\"T_64c3d_row15_col0\" class=\"data row15 col0\" >3BBIF</td>\n",
       "      <td id=\"T_64c3d_row15_col1\" class=\"data row15 col1\" >10,000</td>\n",
       "      <td id=\"T_64c3d_row15_col2\" class=\"data row15 col2\" >6.50</td>\n",
       "      <td id=\"T_64c3d_row15_col3\" class=\"data row15 col3\" >6.35</td>\n",
       "      <td id=\"T_64c3d_row15_col4\" class=\"data row15 col4\" >5.85</td>\n",
       "      <td id=\"T_64c3d_row15_col5\" class=\"data row15 col5\" >-2.31%</td>\n",
       "      <td id=\"T_64c3d_row15_col6\" class=\"data row15 col6\" >2024-09-20</td>\n",
       "      <td id=\"T_64c3d_row15_col7\" class=\"data row15 col7\" >58,500.00</td>\n",
       "    </tr>\n",
       "    <tr>\n",
       "      <th id=\"T_64c3d_level0_row16\" class=\"row_heading level0 row16\" >6</th>\n",
       "      <td id=\"T_64c3d_row16_col0\" class=\"data row16 col0\" >PTT</td>\n",
       "      <td id=\"T_64c3d_row16_col1\" class=\"data row16 col1\" >2,500</td>\n",
       "      <td id=\"T_64c3d_row16_col2\" class=\"data row16 col2\" >33.00</td>\n",
       "      <td id=\"T_64c3d_row16_col3\" class=\"data row16 col3\" >32.25</td>\n",
       "      <td id=\"T_64c3d_row16_col4\" class=\"data row16 col4\" >29.70</td>\n",
       "      <td id=\"T_64c3d_row16_col5\" class=\"data row16 col5\" >-2.27%</td>\n",
       "      <td id=\"T_64c3d_row16_col6\" class=\"data row16 col6\" >2025-01-31</td>\n",
       "      <td id=\"T_64c3d_row16_col7\" class=\"data row16 col7\" >74,250.00</td>\n",
       "    </tr>\n",
       "    <tr>\n",
       "      <th id=\"T_64c3d_level0_row17\" class=\"row_heading level0 row17\" >1</th>\n",
       "      <td id=\"T_64c3d_row17_col0\" class=\"data row17 col0\" >JMART</td>\n",
       "      <td id=\"T_64c3d_row17_col1\" class=\"data row17 col1\" >3,200</td>\n",
       "      <td id=\"T_64c3d_row17_col2\" class=\"data row17 col2\" >9.40</td>\n",
       "      <td id=\"T_64c3d_row17_col3\" class=\"data row17 col3\" >9.20</td>\n",
       "      <td id=\"T_64c3d_row17_col4\" class=\"data row17 col4\" >8.46</td>\n",
       "      <td id=\"T_64c3d_row17_col5\" class=\"data row17 col5\" >-2.13%</td>\n",
       "      <td id=\"T_64c3d_row17_col6\" class=\"data row17 col6\" >2025-08-07</td>\n",
       "      <td id=\"T_64c3d_row17_col7\" class=\"data row17 col7\" >27,072.00</td>\n",
       "    </tr>\n",
       "    <tr>\n",
       "      <th id=\"T_64c3d_level0_row18\" class=\"row_heading level0 row18\" >20</th>\n",
       "      <td id=\"T_64c3d_row18_col0\" class=\"data row18 col0\" >RCL</td>\n",
       "      <td id=\"T_64c3d_row18_col1\" class=\"data row18 col1\" >3,000</td>\n",
       "      <td id=\"T_64c3d_row18_col2\" class=\"data row18 col2\" >29.25</td>\n",
       "      <td id=\"T_64c3d_row18_col3\" class=\"data row18 col3\" >29.25</td>\n",
       "      <td id=\"T_64c3d_row18_col4\" class=\"data row18 col4\" >26.32</td>\n",
       "      <td id=\"T_64c3d_row18_col5\" class=\"data row18 col5\" >0.00%</td>\n",
       "      <td id=\"T_64c3d_row18_col6\" class=\"data row18 col6\" >2022-10-19</td>\n",
       "      <td id=\"T_64c3d_row18_col7\" class=\"data row18 col7\" >78,960.00</td>\n",
       "    </tr>\n",
       "  </tbody>\n",
       "</table>\n"
      ],
      "text/plain": [
       "<pandas.io.formats.style.Styler at 0x1413c5e27e0>"
      ]
     },
     "execution_count": 17,
     "metadata": {},
     "output_type": "execute_result"
    }
   ],
   "source": [
    "# Apply filtering with both conditions\n",
    "filtered = sell_data.loc[\n",
    "    (sell_data['sell_price'] >= sell_data['price']),\n",
    "    colu]\n",
    "\n",
    "# Sort by %decline   descending\n",
    "filtered = filtered.sort_values('%decline', ascending=True)\n",
    "\n",
    "# Format display (if format_dict is defined)\n",
    "filtered.style.format(format_dict)"
   ]
  },
  {
   "cell_type": "code",
   "execution_count": 18,
   "id": "a57d3925-bc23-475c-b6f3-bb24b8084c1e",
   "metadata": {},
   "outputs": [
    {
     "data": {
      "text/html": [
       "<style type=\"text/css\">\n",
       "</style>\n",
       "<table id=\"T_702a2\">\n",
       "  <thead>\n",
       "    <tr>\n",
       "      <th class=\"blank level0\" >&nbsp;</th>\n",
       "      <th id=\"T_702a2_level0_col0\" class=\"col_heading level0 col0\" >name</th>\n",
       "      <th id=\"T_702a2_level0_col1\" class=\"col_heading level0 col1\" >qty</th>\n",
       "      <th id=\"T_702a2_level0_col2\" class=\"col_heading level0 col2\" >sell_price</th>\n",
       "      <th id=\"T_702a2_level0_col3\" class=\"col_heading level0 col3\" >price</th>\n",
       "      <th id=\"T_702a2_level0_col4\" class=\"col_heading level0 col4\" >target</th>\n",
       "      <th id=\"T_702a2_level0_col5\" class=\"col_heading level0 col5\" >%decline</th>\n",
       "      <th id=\"T_702a2_level0_col6\" class=\"col_heading level0 col6\" >sell_date</th>\n",
       "      <th id=\"T_702a2_level0_col7\" class=\"col_heading level0 col7\" >amount</th>\n",
       "    </tr>\n",
       "  </thead>\n",
       "  <tbody>\n",
       "    <tr>\n",
       "      <th id=\"T_702a2_level0_row0\" class=\"row_heading level0 row0\" >6</th>\n",
       "      <td id=\"T_702a2_row0_col0\" class=\"data row0 col0\" >PTT</td>\n",
       "      <td id=\"T_702a2_row0_col1\" class=\"data row0 col1\" >2,500</td>\n",
       "      <td id=\"T_702a2_row0_col2\" class=\"data row0 col2\" >33.00</td>\n",
       "      <td id=\"T_702a2_row0_col3\" class=\"data row0 col3\" >32.25</td>\n",
       "      <td id=\"T_702a2_row0_col4\" class=\"data row0 col4\" >29.70</td>\n",
       "      <td id=\"T_702a2_row0_col5\" class=\"data row0 col5\" >-2.27%</td>\n",
       "      <td id=\"T_702a2_row0_col6\" class=\"data row0 col6\" >2025-01-31</td>\n",
       "      <td id=\"T_702a2_row0_col7\" class=\"data row0 col7\" >74,250.00</td>\n",
       "    </tr>\n",
       "    <tr>\n",
       "      <th id=\"T_702a2_level0_row1\" class=\"row_heading level0 row1\" >1</th>\n",
       "      <td id=\"T_702a2_row1_col0\" class=\"data row1 col0\" >JMART</td>\n",
       "      <td id=\"T_702a2_row1_col1\" class=\"data row1 col1\" >3,200</td>\n",
       "      <td id=\"T_702a2_row1_col2\" class=\"data row1 col2\" >9.40</td>\n",
       "      <td id=\"T_702a2_row1_col3\" class=\"data row1 col3\" >9.20</td>\n",
       "      <td id=\"T_702a2_row1_col4\" class=\"data row1 col4\" >8.46</td>\n",
       "      <td id=\"T_702a2_row1_col5\" class=\"data row1 col5\" >-2.13%</td>\n",
       "      <td id=\"T_702a2_row1_col6\" class=\"data row1 col6\" >2025-08-07</td>\n",
       "      <td id=\"T_702a2_row1_col7\" class=\"data row1 col7\" >27,072.00</td>\n",
       "    </tr>\n",
       "  </tbody>\n",
       "</table>\n"
      ],
      "text/plain": [
       "<pandas.io.formats.style.Styler at 0x1413d51b680>"
      ]
     },
     "execution_count": 18,
     "metadata": {},
     "output_type": "execute_result"
    }
   ],
   "source": [
    "# Apply filtering with both conditions\n",
    "filtered = sell_data.loc[\n",
    "    (sell_data['sell_date'].dt.year == 2025) & \n",
    "    (sell_data['sell_price'] >= sell_data['price']),\n",
    "    colu]\n",
    "\n",
    "# Sort by %decline   descending\n",
    "filtered = filtered.sort_values('%decline', ascending=True)\n",
    "\n",
    "# Format display (if format_dict is defined)\n",
    "filtered.style.format(format_dict)"
   ]
  },
  {
   "cell_type": "code",
   "execution_count": 19,
   "id": "938cae83-14c9-49d6-b4bc-62596bedcff3",
   "metadata": {},
   "outputs": [
    {
     "name": "stdout",
     "output_type": "stream",
     "text": [
      "Ruby path (ruby_path): C:\\Users\\PC1\\OneDrive\\A5\\Ruby\n"
     ]
    }
   ],
   "source": [
    "current_path = os.getcwd()\n",
    "base_path = os.path.dirname(current_path)\n",
    "ruby_path = os.path.join(base_path, \"Ruby\")\n",
    "print(f\"Ruby path (ruby_path): {ruby_path}\") "
   ]
  },
  {
   "cell_type": "code",
   "execution_count": 20,
   "id": "6ab6d611-5b78-4cde-811d-9e6decfd9a39",
   "metadata": {},
   "outputs": [],
   "source": [
    "file_name = \"watch-list-buys.xlsx\"  \n",
    "output_file = os.path.join(ruby_path, file_name)\n",
    "\n",
    "# Apply formatting to the DataFrame (not Styler)\n",
    "filtered_formatted = filtered.copy()\n",
    "filtered_formatted['sell_date'] = filtered_formatted['sell_date'].dt.strftime('%Y-%m-%d')  # Format date\n",
    "filtered_formatted['sell_price'] = filtered_formatted['sell_price'].map('{:,.2f}'.format)  # Format currency\n",
    "filtered_formatted['price'] = filtered_formatted['price'].map('{:.2f}'.format)  # Format currency\n",
    "filtered_formatted['target'] = filtered_formatted['target'].map('{:.2f}'.format)  # Format currency\n",
    "filtered_formatted['%decline'] = filtered_formatted['%decline'].map('{:.2f}%'.format)  # Format percentage\n",
    "filtered_formatted['qty'] = filtered_formatted['qty'].map('{:,}'.format)  # Format qty with commas\n",
    "filtered_formatted['amount'] = filtered_formatted['amount'].map('{:,.2f}'.format)  # Format currency\n",
    "\n",
    "# Export to Excel\n",
    "filtered_formatted.sort_values('%decline', ascending=True).to_excel(\n",
    "    output_file, \n",
    "    header=True, \n",
    "    index=False\n",
    ")"
   ]
  },
  {
   "cell_type": "markdown",
   "id": "d0b02880-9abd-4ae8-adb9-03a1b7848428",
   "metadata": {},
   "source": [
    "### Profit per Month"
   ]
  },
  {
   "cell_type": "code",
   "execution_count": 22,
   "id": "0873917b",
   "metadata": {},
   "outputs": [
    {
     "name": "stdout",
     "output_type": "stream",
     "text": [
      "\n",
      "SELECT name, YEAR(sells.date) AS sell_year, MONTH(sells.date) AS sell_month, \n",
      "       sells.price AS sell_price, buys.price AS buy_price, (sells.price - buys.price) AS diff, \n",
      "       qty, (sells.price * qty) AS sell_amt, (buys.price * qty) AS buy_amt, \n",
      "       (sells.price - buys.price) * qty AS gross, \n",
      "       ROUND((sells.price - buys.price)/buys.price*100,2) AS pct, days\n",
      "FROM sells JOIN buys ON sells.buy_id = buys.id\n",
      "JOIN stocks ON buys.stock_id = stocks.id\n",
      "WHERE YEAR(sells.date) = 2025 AND MONTH(sells.date) = 7\n",
      "ORDER BY sells.date DESC, name\n"
     ]
    }
   ],
   "source": [
    "year = 2025\n",
    "month = 7\n",
    "sql = '''\n",
    "SELECT name, YEAR(sells.date) AS sell_year, MONTH(sells.date) AS sell_month, \n",
    "       sells.price AS sell_price, buys.price AS buy_price, (sells.price - buys.price) AS diff, \n",
    "       qty, (sells.price * qty) AS sell_amt, (buys.price * qty) AS buy_amt, \n",
    "       (sells.price - buys.price) * qty AS gross, \n",
    "       ROUND((sells.price - buys.price)/buys.price*100,2) AS pct, days\n",
    "FROM sells JOIN buys ON sells.buy_id = buys.id\n",
    "JOIN stocks ON buys.stock_id = stocks.id\n",
    "WHERE YEAR(sells.date) = %s AND MONTH(sells.date) = %s\n",
    "ORDER BY sells.date DESC, name'''\n",
    "sql = sql % (year, month)\n",
    "sells_df = pd.read_sql(sql, conpf)\n",
    "print(sql)"
   ]
  },
  {
   "cell_type": "code",
   "execution_count": 23,
   "id": "dbe9d338",
   "metadata": {},
   "outputs": [
    {
     "data": {
      "text/html": [
       "<style type=\"text/css\">\n",
       "</style>\n",
       "<table id=\"T_71426\">\n",
       "  <thead>\n",
       "    <tr>\n",
       "      <th class=\"blank level0\" >&nbsp;</th>\n",
       "      <th id=\"T_71426_level0_col0\" class=\"col_heading level0 col0\" >name</th>\n",
       "      <th id=\"T_71426_level0_col1\" class=\"col_heading level0 col1\" >sell_year</th>\n",
       "      <th id=\"T_71426_level0_col2\" class=\"col_heading level0 col2\" >sell_month</th>\n",
       "      <th id=\"T_71426_level0_col3\" class=\"col_heading level0 col3\" >sell_price</th>\n",
       "      <th id=\"T_71426_level0_col4\" class=\"col_heading level0 col4\" >buy_price</th>\n",
       "      <th id=\"T_71426_level0_col5\" class=\"col_heading level0 col5\" >diff</th>\n",
       "      <th id=\"T_71426_level0_col6\" class=\"col_heading level0 col6\" >qty</th>\n",
       "      <th id=\"T_71426_level0_col7\" class=\"col_heading level0 col7\" >sell_amt</th>\n",
       "      <th id=\"T_71426_level0_col8\" class=\"col_heading level0 col8\" >buy_amt</th>\n",
       "      <th id=\"T_71426_level0_col9\" class=\"col_heading level0 col9\" >gross</th>\n",
       "      <th id=\"T_71426_level0_col10\" class=\"col_heading level0 col10\" >pct</th>\n",
       "      <th id=\"T_71426_level0_col11\" class=\"col_heading level0 col11\" >days</th>\n",
       "    </tr>\n",
       "  </thead>\n",
       "  <tbody>\n",
       "    <tr>\n",
       "      <th id=\"T_71426_level0_row0\" class=\"row_heading level0 row0\" >0</th>\n",
       "      <td id=\"T_71426_row0_col0\" class=\"data row0 col0\" >IVL</td>\n",
       "      <td id=\"T_71426_row0_col1\" class=\"data row0 col1\" >2025</td>\n",
       "      <td id=\"T_71426_row0_col2\" class=\"data row0 col2\" >7</td>\n",
       "      <td id=\"T_71426_row0_col3\" class=\"data row0 col3\" >22.90</td>\n",
       "      <td id=\"T_71426_row0_col4\" class=\"data row0 col4\" >20.00</td>\n",
       "      <td id=\"T_71426_row0_col5\" class=\"data row0 col5\" >2.90</td>\n",
       "      <td id=\"T_71426_row0_col6\" class=\"data row0 col6\" >1,800</td>\n",
       "      <td id=\"T_71426_row0_col7\" class=\"data row0 col7\" >41,220.00</td>\n",
       "      <td id=\"T_71426_row0_col8\" class=\"data row0 col8\" >36,000.00</td>\n",
       "      <td id=\"T_71426_row0_col9\" class=\"data row0 col9\" >5,220.00</td>\n",
       "      <td id=\"T_71426_row0_col10\" class=\"data row0 col10\" >14.50%</td>\n",
       "      <td id=\"T_71426_row0_col11\" class=\"data row0 col11\" >51</td>\n",
       "    </tr>\n",
       "    <tr>\n",
       "      <th id=\"T_71426_level0_row1\" class=\"row_heading level0 row1\" >1</th>\n",
       "      <td id=\"T_71426_row1_col0\" class=\"data row1 col0\" >WHAIR</td>\n",
       "      <td id=\"T_71426_row1_col1\" class=\"data row1 col1\" >2025</td>\n",
       "      <td id=\"T_71426_row1_col2\" class=\"data row1 col2\" >7</td>\n",
       "      <td id=\"T_71426_row1_col3\" class=\"data row1 col3\" >5.50</td>\n",
       "      <td id=\"T_71426_row1_col4\" class=\"data row1 col4\" >4.70</td>\n",
       "      <td id=\"T_71426_row1_col5\" class=\"data row1 col5\" >0.80</td>\n",
       "      <td id=\"T_71426_row1_col6\" class=\"data row1 col6\" >10,000</td>\n",
       "      <td id=\"T_71426_row1_col7\" class=\"data row1 col7\" >55,000.00</td>\n",
       "      <td id=\"T_71426_row1_col8\" class=\"data row1 col8\" >47,000.00</td>\n",
       "      <td id=\"T_71426_row1_col9\" class=\"data row1 col9\" >8,000.00</td>\n",
       "      <td id=\"T_71426_row1_col10\" class=\"data row1 col10\" >17.02%</td>\n",
       "      <td id=\"T_71426_row1_col11\" class=\"data row1 col11\" >75</td>\n",
       "    </tr>\n",
       "    <tr>\n",
       "      <th id=\"T_71426_level0_row2\" class=\"row_heading level0 row2\" >2</th>\n",
       "      <td id=\"T_71426_row2_col0\" class=\"data row2 col0\" >KCE</td>\n",
       "      <td id=\"T_71426_row2_col1\" class=\"data row2 col1\" >2025</td>\n",
       "      <td id=\"T_71426_row2_col2\" class=\"data row2 col2\" >7</td>\n",
       "      <td id=\"T_71426_row2_col3\" class=\"data row2 col3\" >22.90</td>\n",
       "      <td id=\"T_71426_row2_col4\" class=\"data row2 col4\" >87.00</td>\n",
       "      <td id=\"T_71426_row2_col5\" class=\"data row2 col5\" >-64.10</td>\n",
       "      <td id=\"T_71426_row2_col6\" class=\"data row2 col6\" >1,000</td>\n",
       "      <td id=\"T_71426_row2_col7\" class=\"data row2 col7\" >22,900.00</td>\n",
       "      <td id=\"T_71426_row2_col8\" class=\"data row2 col8\" >87,000.00</td>\n",
       "      <td id=\"T_71426_row2_col9\" class=\"data row2 col9\" >-64,100.00</td>\n",
       "      <td id=\"T_71426_row2_col10\" class=\"data row2 col10\" >-73.68%</td>\n",
       "      <td id=\"T_71426_row2_col11\" class=\"data row2 col11\" >1,391</td>\n",
       "    </tr>\n",
       "    <tr>\n",
       "      <th id=\"T_71426_level0_row3\" class=\"row_heading level0 row3\" >3</th>\n",
       "      <td id=\"T_71426_row3_col0\" class=\"data row3 col0\" >KCE</td>\n",
       "      <td id=\"T_71426_row3_col1\" class=\"data row3 col1\" >2025</td>\n",
       "      <td id=\"T_71426_row3_col2\" class=\"data row3 col2\" >7</td>\n",
       "      <td id=\"T_71426_row3_col3\" class=\"data row3 col3\" >22.40</td>\n",
       "      <td id=\"T_71426_row3_col4\" class=\"data row3 col4\" >87.00</td>\n",
       "      <td id=\"T_71426_row3_col5\" class=\"data row3 col5\" >-64.60</td>\n",
       "      <td id=\"T_71426_row3_col6\" class=\"data row3 col6\" >1,000</td>\n",
       "      <td id=\"T_71426_row3_col7\" class=\"data row3 col7\" >22,400.00</td>\n",
       "      <td id=\"T_71426_row3_col8\" class=\"data row3 col8\" >87,000.00</td>\n",
       "      <td id=\"T_71426_row3_col9\" class=\"data row3 col9\" >-64,600.00</td>\n",
       "      <td id=\"T_71426_row3_col10\" class=\"data row3 col10\" >-74.25%</td>\n",
       "      <td id=\"T_71426_row3_col11\" class=\"data row3 col11\" >1,386</td>\n",
       "    </tr>\n",
       "    <tr>\n",
       "      <th id=\"T_71426_level0_row4\" class=\"row_heading level0 row4\" >4</th>\n",
       "      <td id=\"T_71426_row4_col0\" class=\"data row4 col0\" >KCE</td>\n",
       "      <td id=\"T_71426_row4_col1\" class=\"data row4 col1\" >2025</td>\n",
       "      <td id=\"T_71426_row4_col2\" class=\"data row4 col2\" >7</td>\n",
       "      <td id=\"T_71426_row4_col3\" class=\"data row4 col3\" >22.20</td>\n",
       "      <td id=\"T_71426_row4_col4\" class=\"data row4 col4\" >87.00</td>\n",
       "      <td id=\"T_71426_row4_col5\" class=\"data row4 col5\" >-64.80</td>\n",
       "      <td id=\"T_71426_row4_col6\" class=\"data row4 col6\" >1,000</td>\n",
       "      <td id=\"T_71426_row4_col7\" class=\"data row4 col7\" >22,200.00</td>\n",
       "      <td id=\"T_71426_row4_col8\" class=\"data row4 col8\" >87,000.00</td>\n",
       "      <td id=\"T_71426_row4_col9\" class=\"data row4 col9\" >-64,800.00</td>\n",
       "      <td id=\"T_71426_row4_col10\" class=\"data row4 col10\" >-74.48%</td>\n",
       "      <td id=\"T_71426_row4_col11\" class=\"data row4 col11\" >1,312</td>\n",
       "    </tr>\n",
       "    <tr>\n",
       "      <th id=\"T_71426_level0_row5\" class=\"row_heading level0 row5\" >5</th>\n",
       "      <td id=\"T_71426_row5_col0\" class=\"data row5 col0\" >KCE</td>\n",
       "      <td id=\"T_71426_row5_col1\" class=\"data row5 col1\" >2025</td>\n",
       "      <td id=\"T_71426_row5_col2\" class=\"data row5 col2\" >7</td>\n",
       "      <td id=\"T_71426_row5_col3\" class=\"data row5 col3\" >21.70</td>\n",
       "      <td id=\"T_71426_row5_col4\" class=\"data row5 col4\" >87.00</td>\n",
       "      <td id=\"T_71426_row5_col5\" class=\"data row5 col5\" >-65.30</td>\n",
       "      <td id=\"T_71426_row5_col6\" class=\"data row5 col6\" >1,000</td>\n",
       "      <td id=\"T_71426_row5_col7\" class=\"data row5 col7\" >21,700.00</td>\n",
       "      <td id=\"T_71426_row5_col8\" class=\"data row5 col8\" >87,000.00</td>\n",
       "      <td id=\"T_71426_row5_col9\" class=\"data row5 col9\" >-65,300.00</td>\n",
       "      <td id=\"T_71426_row5_col10\" class=\"data row5 col10\" >-75.06%</td>\n",
       "      <td id=\"T_71426_row5_col11\" class=\"data row5 col11\" >1,310</td>\n",
       "    </tr>\n",
       "    <tr>\n",
       "      <th id=\"T_71426_level0_row6\" class=\"row_heading level0 row6\" >6</th>\n",
       "      <td id=\"T_71426_row6_col0\" class=\"data row6 col0\" >JMT</td>\n",
       "      <td id=\"T_71426_row6_col1\" class=\"data row6 col1\" >2025</td>\n",
       "      <td id=\"T_71426_row6_col2\" class=\"data row6 col2\" >7</td>\n",
       "      <td id=\"T_71426_row6_col3\" class=\"data row6 col3\" >10.20</td>\n",
       "      <td id=\"T_71426_row6_col4\" class=\"data row6 col4\" >9.00</td>\n",
       "      <td id=\"T_71426_row6_col5\" class=\"data row6 col5\" >1.20</td>\n",
       "      <td id=\"T_71426_row6_col6\" class=\"data row6 col6\" >2,500</td>\n",
       "      <td id=\"T_71426_row6_col7\" class=\"data row6 col7\" >25,500.00</td>\n",
       "      <td id=\"T_71426_row6_col8\" class=\"data row6 col8\" >22,500.00</td>\n",
       "      <td id=\"T_71426_row6_col9\" class=\"data row6 col9\" >3,000.00</td>\n",
       "      <td id=\"T_71426_row6_col10\" class=\"data row6 col10\" >13.33%</td>\n",
       "      <td id=\"T_71426_row6_col11\" class=\"data row6 col11\" >29</td>\n",
       "    </tr>\n",
       "    <tr>\n",
       "      <th id=\"T_71426_level0_row7\" class=\"row_heading level0 row7\" >7</th>\n",
       "      <td id=\"T_71426_row7_col0\" class=\"data row7 col0\" >KCE</td>\n",
       "      <td id=\"T_71426_row7_col1\" class=\"data row7 col1\" >2025</td>\n",
       "      <td id=\"T_71426_row7_col2\" class=\"data row7 col2\" >7</td>\n",
       "      <td id=\"T_71426_row7_col3\" class=\"data row7 col3\" >21.00</td>\n",
       "      <td id=\"T_71426_row7_col4\" class=\"data row7 col4\" >81.00</td>\n",
       "      <td id=\"T_71426_row7_col5\" class=\"data row7 col5\" >-60.00</td>\n",
       "      <td id=\"T_71426_row7_col6\" class=\"data row7 col6\" >1,000</td>\n",
       "      <td id=\"T_71426_row7_col7\" class=\"data row7 col7\" >21,000.00</td>\n",
       "      <td id=\"T_71426_row7_col8\" class=\"data row7 col8\" >81,000.00</td>\n",
       "      <td id=\"T_71426_row7_col9\" class=\"data row7 col9\" >-60,000.00</td>\n",
       "      <td id=\"T_71426_row7_col10\" class=\"data row7 col10\" >-74.07%</td>\n",
       "      <td id=\"T_71426_row7_col11\" class=\"data row7 col11\" >1,262</td>\n",
       "    </tr>\n",
       "    <tr>\n",
       "      <th id=\"T_71426_level0_row8\" class=\"row_heading level0 row8\" >8</th>\n",
       "      <td id=\"T_71426_row8_col0\" class=\"data row8 col0\" >KCE</td>\n",
       "      <td id=\"T_71426_row8_col1\" class=\"data row8 col1\" >2025</td>\n",
       "      <td id=\"T_71426_row8_col2\" class=\"data row8 col2\" >7</td>\n",
       "      <td id=\"T_71426_row8_col3\" class=\"data row8 col3\" >19.60</td>\n",
       "      <td id=\"T_71426_row8_col4\" class=\"data row8 col4\" >81.00</td>\n",
       "      <td id=\"T_71426_row8_col5\" class=\"data row8 col5\" >-61.40</td>\n",
       "      <td id=\"T_71426_row8_col6\" class=\"data row8 col6\" >1,000</td>\n",
       "      <td id=\"T_71426_row8_col7\" class=\"data row8 col7\" >19,600.00</td>\n",
       "      <td id=\"T_71426_row8_col8\" class=\"data row8 col8\" >81,000.00</td>\n",
       "      <td id=\"T_71426_row8_col9\" class=\"data row8 col9\" >-61,400.00</td>\n",
       "      <td id=\"T_71426_row8_col10\" class=\"data row8 col10\" >-75.80%</td>\n",
       "      <td id=\"T_71426_row8_col11\" class=\"data row8 col11\" >1,261</td>\n",
       "    </tr>\n",
       "  </tbody>\n",
       "</table>\n"
      ],
      "text/plain": [
       "<pandas.io.formats.style.Styler at 0x1413e953e00>"
      ]
     },
     "execution_count": 23,
     "metadata": {},
     "output_type": "execute_result"
    }
   ],
   "source": [
    "sells_df.style.format(format_dict)"
   ]
  },
  {
   "cell_type": "code",
   "execution_count": 24,
   "id": "15d59f94",
   "metadata": {},
   "outputs": [
    {
     "name": "stdout",
     "output_type": "stream",
     "text": [
      "Monthly Profit Amount: -363,980.00\n"
     ]
    }
   ],
   "source": [
    "print(f\"Monthly Profit Amount: {sells_df.gross.sum():,.2f}\")"
   ]
  },
  {
   "cell_type": "code",
   "execution_count": 25,
   "id": "ff23d38c",
   "metadata": {},
   "outputs": [
    {
     "name": "stdout",
     "output_type": "stream",
     "text": [
      "2025-08-07 23:03:59\n"
     ]
    }
   ],
   "source": [
    "# Get the current time\n",
    "current_time = datetime.now()\n",
    "# Format the time to remove millisAeconds\n",
    "formatted_time = current_time.strftime(\"%Y-%m-%d %H:%M:%S\")\n",
    "print(formatted_time)"
   ]
  },
  {
   "cell_type": "code",
   "execution_count": null,
   "id": "e2d7d5de-57b3-497c-a2bf-b0381bc37835",
   "metadata": {},
   "outputs": [],
   "source": []
  }
 ],
 "metadata": {
  "kernelspec": {
   "display_name": "Python 3 (ipykernel)",
   "language": "python",
   "name": "python3"
  },
  "language_info": {
   "codemirror_mode": {
    "name": "ipython",
    "version": 3
   },
   "file_extension": ".py",
   "mimetype": "text/x-python",
   "name": "python",
   "nbconvert_exporter": "python",
   "pygments_lexer": "ipython3",
   "version": "3.12.3"
  }
 },
 "nbformat": 4,
 "nbformat_minor": 5
}
