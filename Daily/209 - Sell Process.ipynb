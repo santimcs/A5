{
 "cells": [
  {
   "cell_type": "markdown",
   "id": "29764f10",
   "metadata": {},
   "source": [
    "### Restart and Run All Cells"
   ]
  },
  {
   "cell_type": "markdown",
   "id": "d8a383f5",
   "metadata": {},
   "source": [
    "### Input files: Price-Today, orders-log\n",
    "### Output files: Price-for-Order, orders-log, monthly-sales"
   ]
  },
  {
   "cell_type": "code",
   "execution_count": 3,
   "id": "2a2bb67d",
   "metadata": {},
   "outputs": [
    {
     "name": "stdout",
     "output_type": "stream",
     "text": [
      "2025-09-03 2025-09-02\n"
     ]
    }
   ],
   "source": [
    "import glob\n",
    "import os\n",
    "import pandas as pd\n",
    "from datetime import date, timedelta, datetime\n",
    "from pandas.tseries.offsets import *\n",
    "from sqlalchemy import create_engine\n",
    "\n",
    "engine = create_engine(\"sqlite:///c:\\\\ruby\\\\port_lite\\\\db\\\\development.sqlite3\")\n",
    "conlite = engine.connect()\n",
    "engine = create_engine('mysql+pymysql://root:@localhost:3306/portfolio_development')\n",
    "conpf = engine.connect()\n",
    "engine = create_engine(\"mysql+pymysql://root:@localhost:3306/stock\")\n",
    "const = engine.connect()\n",
    "\n",
    "pd.options.display.max_rows = 50\n",
    "#pd.options.display.float_format = '{:.2f}'.format\n",
    "\n",
    "today = date.today()\n",
    "yesterday = today - timedelta(days=1)\n",
    "print(today, yesterday)"
   ]
  },
  {
   "cell_type": "code",
   "execution_count": 4,
   "id": "827c35b1-74ae-4922-afc4-63c50c6d3a5d",
   "metadata": {},
   "outputs": [
    {
     "name": "stdout",
     "output_type": "stream",
     "text": [
      "2025-09-03 20:15:15\n"
     ]
    }
   ],
   "source": [
    "# Get the current time\n",
    "current_time = datetime.now()\n",
    "# Format the time to remove milliseconds\n",
    "fmt_time = current_time.strftime(\"%Y-%m-%d %H:%M:%S\")\n",
    "print(fmt_time)"
   ]
  },
  {
   "cell_type": "code",
   "execution_count": 5,
   "id": "d6b5b24c",
   "metadata": {},
   "outputs": [
    {
     "name": "stdout",
     "output_type": "stream",
     "text": [
      "Data path (dat_path): C:\\Users\\PC1\\OneDrive\\A5\\Data\n",
      "Input file: C:\\Users\\PC1\\OneDrive\\A5\\Data\\Price-Today.csv\n"
     ]
    }
   ],
   "source": [
    "current_path = os.getcwd()\n",
    "base_path = os.path.dirname(current_path)\n",
    "dat_path = os.path.join(base_path, \"Data\")\n",
    "print(f\"Data path (dat_path): {dat_path}\") \n",
    "file_name = \"Price-Today.csv\"\n",
    "input_file = os.path.join(dat_path, file_name)\n",
    "print(f\"Input file: {input_file}\")"
   ]
  },
  {
   "cell_type": "code",
   "execution_count": 6,
   "id": "1c1fe541-7848-47db-90fa-597130927cea",
   "metadata": {},
   "outputs": [],
   "source": [
    "# Define a formatting function that converts a float to a string with two decimal places\n",
    "def to_currency(x):\n",
    "    return '฿{:,.2f}'.format(x)    \n",
    "\n",
    "# Define a formatting function that converts an integer to a string with comma and no decimal places\n",
    "def to_integer(x):\n",
    "    return '{:,.0f}'.format(x)\n",
    "\n",
    "# Define a formatting function that converts an integer to a string with comma and no decimal places\n",
    "def to_percent(x):\n",
    "    return '{:,.2f}%'.format(x)\n",
    "\n",
    "# Define a formatting function that converts an integer to a string with comma and no decimal places\n",
    "def to_date(x):\n",
    "    return '{:%Y-%m-%d}'.format(x)"
   ]
  },
  {
   "cell_type": "code",
   "execution_count": 7,
   "id": "f9f6b3d9",
   "metadata": {},
   "outputs": [
    {
     "data": {
      "text/plain": [
       "name         object\n",
       "date         object\n",
       "price       float64\n",
       "change      float64\n",
       "%change     float64\n",
       "open        float64\n",
       "high        float64\n",
       "low         float64\n",
       "volume        int64\n",
       "value(m)    float64\n",
       "dtype: object"
      ]
     },
     "execution_count": 7,
     "metadata": {},
     "output_type": "execute_result"
    }
   ],
   "source": [
    "df_price_tdy = pd.read_csv(input_file)\n",
    "df_price_tdy.dtypes\n",
    "#df_price_tdy.columns.tolist()"
   ]
  },
  {
   "cell_type": "markdown",
   "id": "244ace00-5566-43a0-b486-8c0be4456a35",
   "metadata": {},
   "source": [
    "### Purchase recently sold stocks if price lower than last sold"
   ]
  },
  {
   "cell_type": "code",
   "execution_count": 9,
   "id": "f14ba2ab-f6f8-4e50-9941-45ec14d6a5cb",
   "metadata": {},
   "outputs": [
    {
     "data": {
      "text/plain": [
       "\"'3BBIF', 'AH', 'AIMIRT', 'AWC', 'BCH', 'CPF', 'CPNREIT', 'DIF', 'GVREIT', 'IVL', 'JMART', 'JMT', 'MCS', 'NER', 'ORI', 'PTG', 'PTT', 'PTTGC', 'RCL', 'SCC', 'SENA', 'SINGER', 'STA', 'SYNEX', 'TFFIF', 'TOA', 'TVO', 'WHAIR', 'WHART'\""
      ]
     },
     "execution_count": 9,
     "metadata": {},
     "output_type": "execute_result"
    }
   ],
   "source": [
    "#Select name from portfolio\n",
    "sql = \"\"\"SELECT name FROM buy\"\"\"\n",
    "df_buy = pd.read_sql(sql, const)\n",
    "names = df_buy.name\n",
    "portfolio = \", \".join(map(lambda name: \"'%s'\" % name, names))\n",
    "portfolio "
   ]
  },
  {
   "cell_type": "code",
   "execution_count": 10,
   "id": "6ed3c89b-dbeb-4971-96e6-0ed6ff55b30e",
   "metadata": {},
   "outputs": [
    {
     "data": {
      "text/html": [
       "<div>\n",
       "<style scoped>\n",
       "    .dataframe tbody tr th:only-of-type {\n",
       "        vertical-align: middle;\n",
       "    }\n",
       "\n",
       "    .dataframe tbody tr th {\n",
       "        vertical-align: top;\n",
       "    }\n",
       "\n",
       "    .dataframe thead th {\n",
       "        text-align: right;\n",
       "    }\n",
       "</style>\n",
       "<table border=\"1\" class=\"dataframe\">\n",
       "  <thead>\n",
       "    <tr style=\"text-align: right;\">\n",
       "      <th></th>\n",
       "      <th>date</th>\n",
       "      <th>qty</th>\n",
       "      <th>price</th>\n",
       "      <th>net</th>\n",
       "      <th>price</th>\n",
       "      <th>net</th>\n",
       "      <th>profit</th>\n",
       "    </tr>\n",
       "  </thead>\n",
       "  <tbody>\n",
       "    <tr>\n",
       "      <th>0</th>\n",
       "      <td>2025-09-03</td>\n",
       "      <td>5000</td>\n",
       "      <td>7.5</td>\n",
       "      <td>37583.06</td>\n",
       "      <td>8.3</td>\n",
       "      <td>41408.08</td>\n",
       "      <td>3825.02</td>\n",
       "    </tr>\n",
       "  </tbody>\n",
       "</table>\n",
       "</div>"
      ],
      "text/plain": [
       "         date   qty  price       net  price       net   profit\n",
       "0  2025-09-03  5000    7.5  37583.06    8.3  41408.08  3825.02"
      ]
     },
     "execution_count": 10,
     "metadata": {},
     "output_type": "execute_result"
    }
   ],
   "source": [
    "sql = \"\"\"\n",
    "    SELECT S.date, B.qty, B.price, B.net,  S.price, S.net, S.profit\n",
    "    FROM sells S\n",
    "    JOIN buys B\n",
    "    ON S.buy_id = B.id \n",
    "    JOIN stocks T\n",
    "    ON T.id = B.stock_id \n",
    "    WHERE T.name IN ({})\n",
    "    ORDER BY S.date DESC\n",
    "    LIMIT 1\n",
    "\"\"\".format(portfolio)\n",
    "df_tmp = pd.read_sql(sql, conpf)\n",
    "df_tmp"
   ]
  },
  {
   "cell_type": "code",
   "execution_count": 11,
   "id": "35de6861-8e97-478a-a880-f103249b0159",
   "metadata": {},
   "outputs": [
    {
     "data": {
      "text/plain": [
       "(248, 6)"
      ]
     },
     "execution_count": 11,
     "metadata": {},
     "output_type": "execute_result"
    }
   ],
   "source": [
    "#\n",
    "sql = \"\"\"\n",
    "    SELECT T.name, S.date AS sell_date, S.price AS sell_price, B.price AS buy_price, B.date AS buy_date, B.qty\n",
    "    FROM sells S\n",
    "    JOIN buys B\n",
    "    ON S.buy_id = B.id \n",
    "    JOIN stocks T\n",
    "    ON T.id = B.stock_id \n",
    "    WHERE T.name IN ({})\n",
    "    ORDER BY T.name, S.date DESC\n",
    "\"\"\".format(portfolio)\n",
    "df_sells = pd.read_sql(sql, conpf)\n",
    "df_sells.shape"
   ]
  },
  {
   "cell_type": "code",
   "execution_count": 12,
   "id": "9d35b43b-65cd-4879-ac0c-8c8d39b86869",
   "metadata": {},
   "outputs": [
    {
     "data": {
      "text/plain": [
       "name           object\n",
       "sell_date      object\n",
       "sell_price    float64\n",
       "buy_price     float64\n",
       "buy_date       object\n",
       "qty             int64\n",
       "dtype: object"
      ]
     },
     "execution_count": 12,
     "metadata": {},
     "output_type": "execute_result"
    }
   ],
   "source": [
    "df_sells.dtypes\n",
    "#df_sells.columns.tolist()"
   ]
  },
  {
   "cell_type": "code",
   "execution_count": 13,
   "id": "d15efeb2-ce6d-4fe8-8e70-cf6ccf634e06",
   "metadata": {},
   "outputs": [
    {
     "data": {
      "text/plain": [
       "(27, 6)"
      ]
     },
     "execution_count": 13,
     "metadata": {},
     "output_type": "execute_result"
    }
   ],
   "source": [
    "# Convert dates to datetime if they're not already\n",
    "df_sells['sell_date'] = pd.to_datetime(df_sells['sell_date'])\n",
    "\n",
    "# Get the latest record for each name\n",
    "latest_records = df_sells.sort_values('sell_date', ascending=False).drop_duplicates('name')\n",
    "latest_records.shape"
   ]
  },
  {
   "cell_type": "code",
   "execution_count": 14,
   "id": "50574919-a3e6-4ea4-ba43-489dac955e5e",
   "metadata": {},
   "outputs": [],
   "source": [
    "colu = 'name sell_date qty sell_price price low target %decline'.split()\n",
    "sell_data   = pd.merge(latest_records, df_price_tdy, on='name', how='inner')\n",
    "sell_data['diff'] = sell_data['price'] - sell_data['sell_price']\n",
    "sell_data['%decline'] = round(sell_data['diff'] / (sell_data['sell_price']) * 100,2)\n",
    "#sell_data['sell_date'] = pd.to_datetime(sell_data['sell_date'])\n",
    "sell_data['target'] = round(sell_data['sell_price'] * 0.9,2)\n",
    "#sell_data['amount'] = round(sell_data['target'] * sell_data['qty'])"
   ]
  },
  {
   "cell_type": "code",
   "execution_count": 15,
   "id": "35b9a3ff-337e-4863-ae57-88f8c52f25ed",
   "metadata": {},
   "outputs": [
    {
     "data": {
      "text/html": [
       "<style type=\"text/css\">\n",
       "</style>\n",
       "<table id=\"T_a70da\">\n",
       "  <thead>\n",
       "    <tr>\n",
       "      <th id=\"T_a70da_level0_col0\" class=\"col_heading level0 col0\" >name</th>\n",
       "      <th id=\"T_a70da_level0_col1\" class=\"col_heading level0 col1\" >sell_date</th>\n",
       "      <th id=\"T_a70da_level0_col2\" class=\"col_heading level0 col2\" >qty</th>\n",
       "      <th id=\"T_a70da_level0_col3\" class=\"col_heading level0 col3\" >sell_price</th>\n",
       "      <th id=\"T_a70da_level0_col4\" class=\"col_heading level0 col4\" >price</th>\n",
       "      <th id=\"T_a70da_level0_col5\" class=\"col_heading level0 col5\" >low</th>\n",
       "      <th id=\"T_a70da_level0_col6\" class=\"col_heading level0 col6\" >target</th>\n",
       "      <th id=\"T_a70da_level0_col7\" class=\"col_heading level0 col7\" >%decline</th>\n",
       "    </tr>\n",
       "  </thead>\n",
       "  <tbody>\n",
       "    <tr>\n",
       "      <td id=\"T_a70da_row0_col0\" class=\"data row0 col0\" >SENA</td>\n",
       "      <td id=\"T_a70da_row0_col1\" class=\"data row0 col1\" >2021-12-17 00:00:00</td>\n",
       "      <td id=\"T_a70da_row0_col2\" class=\"data row0 col2\" >75000</td>\n",
       "      <td id=\"T_a70da_row0_col3\" class=\"data row0 col3\" >4.080000</td>\n",
       "      <td id=\"T_a70da_row0_col4\" class=\"data row0 col4\" >1.870000</td>\n",
       "      <td id=\"T_a70da_row0_col5\" class=\"data row0 col5\" >1.830000</td>\n",
       "      <td id=\"T_a70da_row0_col6\" class=\"data row0 col6\" >3.670000</td>\n",
       "      <td id=\"T_a70da_row0_col7\" class=\"data row0 col7\" >-54.170000</td>\n",
       "    </tr>\n",
       "  </tbody>\n",
       "</table>\n"
      ],
      "text/plain": [
       "<pandas.io.formats.style.Styler at 0x1bec5b1ff50>"
      ]
     },
     "execution_count": 15,
     "metadata": {},
     "output_type": "execute_result"
    }
   ],
   "source": [
    "# Apply filtering with both conditions\n",
    "filtered = sell_data.loc[\n",
    "    (sell_data['sell_price'] >= sell_data['price']),colu]\n",
    "\n",
    "# Sort by %decline   descending\n",
    "filtered = filtered.sort_values('%decline', ascending=True)\n",
    "\n",
    "# Format display (if format_dict is defined)\n",
    "#filtered.style.format(format_dict)\n",
    "filtered.sample().style.hide(axis=\"index\")"
   ]
  },
  {
   "cell_type": "code",
   "execution_count": 16,
   "id": "02b2ff9b-00f5-4964-a80c-107a5dd750d4",
   "metadata": {},
   "outputs": [
    {
     "data": {
      "text/html": [
       "<style type=\"text/css\">\n",
       "</style>\n",
       "<table id=\"T_4ade0\">\n",
       "  <thead>\n",
       "    <tr>\n",
       "      <th id=\"T_4ade0_level0_col0\" class=\"col_heading level0 col0\" >name</th>\n",
       "      <th id=\"T_4ade0_level0_col1\" class=\"col_heading level0 col1\" >sell_date</th>\n",
       "      <th id=\"T_4ade0_level0_col2\" class=\"col_heading level0 col2\" >qty</th>\n",
       "      <th id=\"T_4ade0_level0_col3\" class=\"col_heading level0 col3\" >sell_price</th>\n",
       "      <th id=\"T_4ade0_level0_col4\" class=\"col_heading level0 col4\" >price</th>\n",
       "      <th id=\"T_4ade0_level0_col5\" class=\"col_heading level0 col5\" >low</th>\n",
       "      <th id=\"T_4ade0_level0_col6\" class=\"col_heading level0 col6\" >target</th>\n",
       "      <th id=\"T_4ade0_level0_col7\" class=\"col_heading level0 col7\" >%decline</th>\n",
       "    </tr>\n",
       "  </thead>\n",
       "  <tbody>\n",
       "    <tr>\n",
       "      <td id=\"T_4ade0_row0_col0\" class=\"data row0 col0\" >CPF</td>\n",
       "      <td id=\"T_4ade0_row0_col1\" class=\"data row0 col1\" >2025-08-22 00:00:00</td>\n",
       "      <td id=\"T_4ade0_row0_col2\" class=\"data row0 col2\" >5,000</td>\n",
       "      <td id=\"T_4ade0_row0_col3\" class=\"data row0 col3\" >฿24.30</td>\n",
       "      <td id=\"T_4ade0_row0_col4\" class=\"data row0 col4\" >฿22.30</td>\n",
       "      <td id=\"T_4ade0_row0_col5\" class=\"data row0 col5\" >฿22.20</td>\n",
       "      <td id=\"T_4ade0_row0_col6\" class=\"data row0 col6\" >฿21.87</td>\n",
       "      <td id=\"T_4ade0_row0_col7\" class=\"data row0 col7\" >-8.23%</td>\n",
       "    </tr>\n",
       "    <tr>\n",
       "      <td id=\"T_4ade0_row1_col0\" class=\"data row1 col0\" >SENA</td>\n",
       "      <td id=\"T_4ade0_row1_col1\" class=\"data row1 col1\" >2021-12-17 00:00:00</td>\n",
       "      <td id=\"T_4ade0_row1_col2\" class=\"data row1 col2\" >75,000</td>\n",
       "      <td id=\"T_4ade0_row1_col3\" class=\"data row1 col3\" >฿4.08</td>\n",
       "      <td id=\"T_4ade0_row1_col4\" class=\"data row1 col4\" >฿1.87</td>\n",
       "      <td id=\"T_4ade0_row1_col5\" class=\"data row1 col5\" >฿1.83</td>\n",
       "      <td id=\"T_4ade0_row1_col6\" class=\"data row1 col6\" >฿3.67</td>\n",
       "      <td id=\"T_4ade0_row1_col7\" class=\"data row1 col7\" >-54.17%</td>\n",
       "    </tr>\n",
       "    <tr>\n",
       "      <td id=\"T_4ade0_row2_col0\" class=\"data row2 col0\" >TFFIF</td>\n",
       "      <td id=\"T_4ade0_row2_col1\" class=\"data row2 col1\" >2024-01-04 00:00:00</td>\n",
       "      <td id=\"T_4ade0_row2_col2\" class=\"data row2 col2\" >2,500</td>\n",
       "      <td id=\"T_4ade0_row2_col3\" class=\"data row2 col3\" >฿7.00</td>\n",
       "      <td id=\"T_4ade0_row2_col4\" class=\"data row2 col4\" >฿5.85</td>\n",
       "      <td id=\"T_4ade0_row2_col5\" class=\"data row2 col5\" >฿5.80</td>\n",
       "      <td id=\"T_4ade0_row2_col6\" class=\"data row2 col6\" >฿6.30</td>\n",
       "      <td id=\"T_4ade0_row2_col7\" class=\"data row2 col7\" >-16.43%</td>\n",
       "    </tr>\n",
       "    <tr>\n",
       "      <td id=\"T_4ade0_row3_col0\" class=\"data row3 col0\" >PTT</td>\n",
       "      <td id=\"T_4ade0_row3_col1\" class=\"data row3 col1\" >2022-10-06 00:00:00</td>\n",
       "      <td id=\"T_4ade0_row3_col2\" class=\"data row3 col2\" >4,500</td>\n",
       "      <td id=\"T_4ade0_row3_col3\" class=\"data row3 col3\" >฿34.75</td>\n",
       "      <td id=\"T_4ade0_row3_col4\" class=\"data row3 col4\" >฿32.00</td>\n",
       "      <td id=\"T_4ade0_row3_col5\" class=\"data row3 col5\" >฿31.50</td>\n",
       "      <td id=\"T_4ade0_row3_col6\" class=\"data row3 col6\" >฿31.28</td>\n",
       "      <td id=\"T_4ade0_row3_col7\" class=\"data row3 col7\" >-7.91%</td>\n",
       "    </tr>\n",
       "    <tr>\n",
       "      <td id=\"T_4ade0_row4_col0\" class=\"data row4 col0\" >ORI</td>\n",
       "      <td id=\"T_4ade0_row4_col1\" class=\"data row4 col1\" >2025-08-28 00:00:00</td>\n",
       "      <td id=\"T_4ade0_row4_col2\" class=\"data row4 col2\" >5,000</td>\n",
       "      <td id=\"T_4ade0_row4_col3\" class=\"data row4 col3\" >฿2.30</td>\n",
       "      <td id=\"T_4ade0_row4_col4\" class=\"data row4 col4\" >฿2.22</td>\n",
       "      <td id=\"T_4ade0_row4_col5\" class=\"data row4 col5\" >฿2.22</td>\n",
       "      <td id=\"T_4ade0_row4_col6\" class=\"data row4 col6\" >฿2.07</td>\n",
       "      <td id=\"T_4ade0_row4_col7\" class=\"data row4 col7\" >-3.48%</td>\n",
       "    </tr>\n",
       "  </tbody>\n",
       "</table>\n"
      ],
      "text/plain": [
       "<pandas.io.formats.style.Styler at 0x1bec2c39d00>"
      ]
     },
     "execution_count": 16,
     "metadata": {},
     "output_type": "execute_result"
    }
   ],
   "source": [
    "# Convert columns to interger\n",
    "filtered[\"qty\"] = filtered[\"qty\"].astype(int)\n",
    "# Apply formatting\n",
    "filtered[[\"qty\"]] = filtered[[\"qty\"]].apply(lambda col: col.map(to_integer))\n",
    "filtered[[\"sell_price\", \"price\",\"low\", \"target\"]] = \\\n",
    "filtered[[\"sell_price\", \"price\",\"low\", \"target\"]].apply(lambda col: col.map(to_currency))\n",
    "filtered[[\"%decline\"]] = filtered[[\"%decline\"]].apply(lambda col: col.map(to_percent))\n",
    "filtered.sample(5).style.hide(axis=\"index\")"
   ]
  },
  {
   "cell_type": "code",
   "execution_count": 17,
   "id": "a57d3925-bc23-475c-b6f3-bb24b8084c1e",
   "metadata": {},
   "outputs": [
    {
     "data": {
      "text/html": [
       "<style type=\"text/css\">\n",
       "</style>\n",
       "<table id=\"T_74d2d\">\n",
       "  <thead>\n",
       "    <tr>\n",
       "      <th id=\"T_74d2d_level0_col0\" class=\"col_heading level0 col0\" >name</th>\n",
       "      <th id=\"T_74d2d_level0_col1\" class=\"col_heading level0 col1\" >sell_date</th>\n",
       "      <th id=\"T_74d2d_level0_col2\" class=\"col_heading level0 col2\" >qty</th>\n",
       "      <th id=\"T_74d2d_level0_col3\" class=\"col_heading level0 col3\" >sell_price</th>\n",
       "      <th id=\"T_74d2d_level0_col4\" class=\"col_heading level0 col4\" >price</th>\n",
       "      <th id=\"T_74d2d_level0_col5\" class=\"col_heading level0 col5\" >low</th>\n",
       "      <th id=\"T_74d2d_level0_col6\" class=\"col_heading level0 col6\" >target</th>\n",
       "      <th id=\"T_74d2d_level0_col7\" class=\"col_heading level0 col7\" >%decline</th>\n",
       "    </tr>\n",
       "  </thead>\n",
       "  <tbody>\n",
       "    <tr>\n",
       "      <td id=\"T_74d2d_row0_col0\" class=\"data row0 col0\" >IVL</td>\n",
       "      <td id=\"T_74d2d_row0_col1\" class=\"data row0 col1\" >2025-07-30 00:00:00</td>\n",
       "      <td id=\"T_74d2d_row0_col2\" class=\"data row0 col2\" >1800</td>\n",
       "      <td id=\"T_74d2d_row0_col3\" class=\"data row0 col3\" >22.900000</td>\n",
       "      <td id=\"T_74d2d_row0_col4\" class=\"data row0 col4\" >21.800000</td>\n",
       "      <td id=\"T_74d2d_row0_col5\" class=\"data row0 col5\" >21.700000</td>\n",
       "      <td id=\"T_74d2d_row0_col6\" class=\"data row0 col6\" >20.610000</td>\n",
       "      <td id=\"T_74d2d_row0_col7\" class=\"data row0 col7\" >-4.800000</td>\n",
       "    </tr>\n",
       "  </tbody>\n",
       "</table>\n"
      ],
      "text/plain": [
       "<pandas.io.formats.style.Styler at 0x1bec69cf560>"
      ]
     },
     "execution_count": 17,
     "metadata": {},
     "output_type": "execute_result"
    }
   ],
   "source": [
    "# Apply filtering with both conditions\n",
    "filtered = sell_data.loc[\n",
    "    (sell_data['sell_date'].dt.year == 2025) & \n",
    "    (sell_data['sell_price'] >= sell_data['price']),\n",
    "    colu]\n",
    "\n",
    "# Sort by %decline   descending\n",
    "filtered = filtered.sort_values('%decline', ascending=True)\n",
    "\n",
    "filtered.sample().style.hide(axis=\"index\")"
   ]
  },
  {
   "cell_type": "code",
   "execution_count": 18,
   "id": "03cc42fd-85af-48fb-a3a0-7e330610b618",
   "metadata": {},
   "outputs": [
    {
     "data": {
      "text/html": [
       "<style type=\"text/css\">\n",
       "</style>\n",
       "<table id=\"T_14502\">\n",
       "  <thead>\n",
       "    <tr>\n",
       "      <th id=\"T_14502_level0_col0\" class=\"col_heading level0 col0\" >name</th>\n",
       "      <th id=\"T_14502_level0_col1\" class=\"col_heading level0 col1\" >sell_date</th>\n",
       "      <th id=\"T_14502_level0_col2\" class=\"col_heading level0 col2\" >qty</th>\n",
       "      <th id=\"T_14502_level0_col3\" class=\"col_heading level0 col3\" >sell_price</th>\n",
       "      <th id=\"T_14502_level0_col4\" class=\"col_heading level0 col4\" >price</th>\n",
       "      <th id=\"T_14502_level0_col5\" class=\"col_heading level0 col5\" >low</th>\n",
       "      <th id=\"T_14502_level0_col6\" class=\"col_heading level0 col6\" >target</th>\n",
       "      <th id=\"T_14502_level0_col7\" class=\"col_heading level0 col7\" >%decline</th>\n",
       "    </tr>\n",
       "  </thead>\n",
       "  <tbody>\n",
       "    <tr>\n",
       "      <td id=\"T_14502_row0_col0\" class=\"data row0 col0\" >RCL</td>\n",
       "      <td id=\"T_14502_row0_col1\" class=\"data row0 col1\" >2025-08-08 00:00:00</td>\n",
       "      <td id=\"T_14502_row0_col2\" class=\"data row0 col2\" >3,000</td>\n",
       "      <td id=\"T_14502_row0_col3\" class=\"data row0 col3\" >฿31.00</td>\n",
       "      <td id=\"T_14502_row0_col4\" class=\"data row0 col4\" >฿27.00</td>\n",
       "      <td id=\"T_14502_row0_col5\" class=\"data row0 col5\" >฿26.75</td>\n",
       "      <td id=\"T_14502_row0_col6\" class=\"data row0 col6\" >฿27.90</td>\n",
       "      <td id=\"T_14502_row0_col7\" class=\"data row0 col7\" >-12.90%</td>\n",
       "    </tr>\n",
       "    <tr>\n",
       "      <td id=\"T_14502_row1_col0\" class=\"data row1 col0\" >CPF</td>\n",
       "      <td id=\"T_14502_row1_col1\" class=\"data row1 col1\" >2025-08-22 00:00:00</td>\n",
       "      <td id=\"T_14502_row1_col2\" class=\"data row1 col2\" >5,000</td>\n",
       "      <td id=\"T_14502_row1_col3\" class=\"data row1 col3\" >฿24.30</td>\n",
       "      <td id=\"T_14502_row1_col4\" class=\"data row1 col4\" >฿22.30</td>\n",
       "      <td id=\"T_14502_row1_col5\" class=\"data row1 col5\" >฿22.20</td>\n",
       "      <td id=\"T_14502_row1_col6\" class=\"data row1 col6\" >฿21.87</td>\n",
       "      <td id=\"T_14502_row1_col7\" class=\"data row1 col7\" >-8.23%</td>\n",
       "    </tr>\n",
       "    <tr>\n",
       "      <td id=\"T_14502_row2_col0\" class=\"data row2 col0\" >GVREIT</td>\n",
       "      <td id=\"T_14502_row2_col1\" class=\"data row2 col1\" >2025-08-08 00:00:00</td>\n",
       "      <td id=\"T_14502_row2_col2\" class=\"data row2 col2\" >6,000</td>\n",
       "      <td id=\"T_14502_row2_col3\" class=\"data row2 col3\" >฿6.70</td>\n",
       "      <td id=\"T_14502_row2_col4\" class=\"data row2 col4\" >฿6.25</td>\n",
       "      <td id=\"T_14502_row2_col5\" class=\"data row2 col5\" >฿6.20</td>\n",
       "      <td id=\"T_14502_row2_col6\" class=\"data row2 col6\" >฿6.03</td>\n",
       "      <td id=\"T_14502_row2_col7\" class=\"data row2 col7\" >-6.72%</td>\n",
       "    </tr>\n",
       "    <tr>\n",
       "      <td id=\"T_14502_row3_col0\" class=\"data row3 col0\" >IVL</td>\n",
       "      <td id=\"T_14502_row3_col1\" class=\"data row3 col1\" >2025-07-30 00:00:00</td>\n",
       "      <td id=\"T_14502_row3_col2\" class=\"data row3 col2\" >1,800</td>\n",
       "      <td id=\"T_14502_row3_col3\" class=\"data row3 col3\" >฿22.90</td>\n",
       "      <td id=\"T_14502_row3_col4\" class=\"data row3 col4\" >฿21.80</td>\n",
       "      <td id=\"T_14502_row3_col5\" class=\"data row3 col5\" >฿21.70</td>\n",
       "      <td id=\"T_14502_row3_col6\" class=\"data row3 col6\" >฿20.61</td>\n",
       "      <td id=\"T_14502_row3_col7\" class=\"data row3 col7\" >-4.80%</td>\n",
       "    </tr>\n",
       "    <tr>\n",
       "      <td id=\"T_14502_row4_col0\" class=\"data row4 col0\" >JMART</td>\n",
       "      <td id=\"T_14502_row4_col1\" class=\"data row4 col1\" >2025-08-07 00:00:00</td>\n",
       "      <td id=\"T_14502_row4_col2\" class=\"data row4 col2\" >3,200</td>\n",
       "      <td id=\"T_14502_row4_col3\" class=\"data row4 col3\" >฿9.40</td>\n",
       "      <td id=\"T_14502_row4_col4\" class=\"data row4 col4\" >฿9.05</td>\n",
       "      <td id=\"T_14502_row4_col5\" class=\"data row4 col5\" >฿8.45</td>\n",
       "      <td id=\"T_14502_row4_col6\" class=\"data row4 col6\" >฿8.46</td>\n",
       "      <td id=\"T_14502_row4_col7\" class=\"data row4 col7\" >-3.72%</td>\n",
       "    </tr>\n",
       "    <tr>\n",
       "      <td id=\"T_14502_row5_col0\" class=\"data row5 col0\" >NER</td>\n",
       "      <td id=\"T_14502_row5_col1\" class=\"data row5 col1\" >2025-08-06 00:00:00</td>\n",
       "      <td id=\"T_14502_row5_col2\" class=\"data row5 col2\" >5,000</td>\n",
       "      <td id=\"T_14502_row5_col3\" class=\"data row5 col3\" >฿4.52</td>\n",
       "      <td id=\"T_14502_row5_col4\" class=\"data row5 col4\" >฿4.36</td>\n",
       "      <td id=\"T_14502_row5_col5\" class=\"data row5 col5\" >฿4.30</td>\n",
       "      <td id=\"T_14502_row5_col6\" class=\"data row5 col6\" >฿4.07</td>\n",
       "      <td id=\"T_14502_row5_col7\" class=\"data row5 col7\" >-3.54%</td>\n",
       "    </tr>\n",
       "    <tr>\n",
       "      <td id=\"T_14502_row6_col0\" class=\"data row6 col0\" >ORI</td>\n",
       "      <td id=\"T_14502_row6_col1\" class=\"data row6 col1\" >2025-08-28 00:00:00</td>\n",
       "      <td id=\"T_14502_row6_col2\" class=\"data row6 col2\" >5,000</td>\n",
       "      <td id=\"T_14502_row6_col3\" class=\"data row6 col3\" >฿2.30</td>\n",
       "      <td id=\"T_14502_row6_col4\" class=\"data row6 col4\" >฿2.22</td>\n",
       "      <td id=\"T_14502_row6_col5\" class=\"data row6 col5\" >฿2.22</td>\n",
       "      <td id=\"T_14502_row6_col6\" class=\"data row6 col6\" >฿2.07</td>\n",
       "      <td id=\"T_14502_row6_col7\" class=\"data row6 col7\" >-3.48%</td>\n",
       "    </tr>\n",
       "    <tr>\n",
       "      <td id=\"T_14502_row7_col0\" class=\"data row7 col0\" >WHAIR</td>\n",
       "      <td id=\"T_14502_row7_col1\" class=\"data row7 col1\" >2025-07-30 00:00:00</td>\n",
       "      <td id=\"T_14502_row7_col2\" class=\"data row7 col2\" >10,000</td>\n",
       "      <td id=\"T_14502_row7_col3\" class=\"data row7 col3\" >฿5.50</td>\n",
       "      <td id=\"T_14502_row7_col4\" class=\"data row7 col4\" >฿5.45</td>\n",
       "      <td id=\"T_14502_row7_col5\" class=\"data row7 col5\" >฿5.45</td>\n",
       "      <td id=\"T_14502_row7_col6\" class=\"data row7 col6\" >฿4.95</td>\n",
       "      <td id=\"T_14502_row7_col7\" class=\"data row7 col7\" >-0.91%</td>\n",
       "    </tr>\n",
       "    <tr>\n",
       "      <td id=\"T_14502_row8_col0\" class=\"data row8 col0\" >MCS</td>\n",
       "      <td id=\"T_14502_row8_col1\" class=\"data row8 col1\" >2025-08-27 00:00:00</td>\n",
       "      <td id=\"T_14502_row8_col2\" class=\"data row8 col2\" >6,000</td>\n",
       "      <td id=\"T_14502_row8_col3\" class=\"data row8 col3\" >฿8.40</td>\n",
       "      <td id=\"T_14502_row8_col4\" class=\"data row8 col4\" >฿8.40</td>\n",
       "      <td id=\"T_14502_row8_col5\" class=\"data row8 col5\" >฿8.25</td>\n",
       "      <td id=\"T_14502_row8_col6\" class=\"data row8 col6\" >฿7.56</td>\n",
       "      <td id=\"T_14502_row8_col7\" class=\"data row8 col7\" >0.00%</td>\n",
       "    </tr>\n",
       "  </tbody>\n",
       "</table>\n"
      ],
      "text/plain": [
       "<pandas.io.formats.style.Styler at 0x1bec58c57c0>"
      ]
     },
     "execution_count": 18,
     "metadata": {},
     "output_type": "execute_result"
    }
   ],
   "source": [
    "# Convert columns to interger\n",
    "filtered[\"qty\"] = filtered[\"qty\"].astype(int)\n",
    "# Apply formatting\n",
    "filtered[[\"qty\"]] = filtered[[\"qty\"]].apply(lambda col: col.map(to_integer))\n",
    "filtered[[\"sell_price\", \"price\",\"low\", \"target\"]] = \\\n",
    "filtered[[\"sell_price\", \"price\",\"low\", \"target\"]].apply(lambda col: col.map(to_currency))\n",
    "filtered[[\"%decline\"]] = filtered[[\"%decline\"]].apply(lambda col: col.map(to_percent))\n",
    "filtered.style.hide(axis=\"index\")"
   ]
  },
  {
   "cell_type": "code",
   "execution_count": 19,
   "id": "938cae83-14c9-49d6-b4bc-62596bedcff3",
   "metadata": {},
   "outputs": [
    {
     "name": "stdout",
     "output_type": "stream",
     "text": [
      "Ruby path (ruby_path): C:\\Users\\PC1\\OneDrive\\A5\\Ruby\n"
     ]
    }
   ],
   "source": [
    "current_path = os.getcwd()\n",
    "base_path = os.path.dirname(current_path)\n",
    "ruby_path = os.path.join(base_path, \"Ruby\")\n",
    "print(f\"Ruby path (ruby_path): {ruby_path}\") "
   ]
  },
  {
   "cell_type": "code",
   "execution_count": 20,
   "id": "0136488e-a16d-46b3-9a58-f16528063627",
   "metadata": {},
   "outputs": [],
   "source": [
    "file_name = \"watch-list-buys.xlsx\"  \n",
    "output_file = os.path.join(ruby_path, file_name)\n",
    "\n",
    "# Apply formatting\n",
    "filtered[[\"sell_date\"]] = filtered[[\"sell_date\"]].apply(lambda col: col.map(to_date))\n",
    "\n",
    "# Export to Excel\n",
    "filtered.sort_values('name', ascending=True).to_excel(\n",
    "    output_file, \n",
    "    header=True, \n",
    "    index=False\n",
    ")"
   ]
  },
  {
   "cell_type": "markdown",
   "id": "d0b02880-9abd-4ae8-adb9-03a1b7848428",
   "metadata": {},
   "source": [
    "### Profit per Month"
   ]
  },
  {
   "cell_type": "code",
   "execution_count": 22,
   "id": "d0f1b7da-92b6-4f8b-ae83-fd2e300ac910",
   "metadata": {},
   "outputs": [],
   "source": [
    "year = 2025\n",
    "month = 8\n",
    "sql = '''\n",
    "    SELECT name, S.date, B.qty, B.price AS buy, B.net AS cost_amt, S.price AS sell, S.net AS sale_amt, S.profit\n",
    "    FROM sells S JOIN buys B ON S.buy_id = B.id\n",
    "    JOIN stocks T ON B.stock_id = T.id\n",
    "    WHERE YEAR(S.date) = {} AND MONTH(S.date) = {}\n",
    "    ORDER BY S.date ASC, name\n",
    "'''.format(year, month)\n",
    "\n",
    "df_sells = pd.read_sql(sql, conpf)\n",
    "#print(sql)"
   ]
  },
  {
   "cell_type": "code",
   "execution_count": 23,
   "id": "c450976b-1e9f-487e-89ee-692d5633b95e",
   "metadata": {},
   "outputs": [
    {
     "data": {
      "text/html": [
       "<style type=\"text/css\">\n",
       "</style>\n",
       "<table id=\"T_a393c\">\n",
       "  <thead>\n",
       "    <tr>\n",
       "      <th id=\"T_a393c_level0_col0\" class=\"col_heading level0 col0\" >name</th>\n",
       "      <th id=\"T_a393c_level0_col1\" class=\"col_heading level0 col1\" >date</th>\n",
       "      <th id=\"T_a393c_level0_col2\" class=\"col_heading level0 col2\" >qty</th>\n",
       "      <th id=\"T_a393c_level0_col3\" class=\"col_heading level0 col3\" >buy</th>\n",
       "      <th id=\"T_a393c_level0_col4\" class=\"col_heading level0 col4\" >cost_amt</th>\n",
       "      <th id=\"T_a393c_level0_col5\" class=\"col_heading level0 col5\" >sell</th>\n",
       "      <th id=\"T_a393c_level0_col6\" class=\"col_heading level0 col6\" >sale_amt</th>\n",
       "      <th id=\"T_a393c_level0_col7\" class=\"col_heading level0 col7\" >profit</th>\n",
       "    </tr>\n",
       "  </thead>\n",
       "  <tbody>\n",
       "    <tr>\n",
       "      <td id=\"T_a393c_row0_col0\" class=\"data row0 col0\" >ORI</td>\n",
       "      <td id=\"T_a393c_row0_col1\" class=\"data row0 col1\" >2025-08-05</td>\n",
       "      <td id=\"T_a393c_row0_col2\" class=\"data row0 col2\" >10000</td>\n",
       "      <td id=\"T_a393c_row0_col3\" class=\"data row0 col3\" >1.88</td>\n",
       "      <td id=\"T_a393c_row0_col4\" class=\"data row0 col4\" >18,841.64</td>\n",
       "      <td id=\"T_a393c_row0_col5\" class=\"data row0 col5\" >1.90</td>\n",
       "      <td id=\"T_a393c_row0_col6\" class=\"data row0 col6\" >18,957.92</td>\n",
       "      <td id=\"T_a393c_row0_col7\" class=\"data row0 col7\" >116.28</td>\n",
       "    </tr>\n",
       "    <tr>\n",
       "      <td id=\"T_a393c_row1_col0\" class=\"data row1 col0\" >JMT</td>\n",
       "      <td id=\"T_a393c_row1_col1\" class=\"data row1 col1\" >2025-08-06</td>\n",
       "      <td id=\"T_a393c_row1_col2\" class=\"data row1 col2\" >2800</td>\n",
       "      <td id=\"T_a393c_row1_col3\" class=\"data row1 col3\" >10.50</td>\n",
       "      <td id=\"T_a393c_row1_col4\" class=\"data row1 col4\" >29,465.12</td>\n",
       "      <td id=\"T_a393c_row1_col5\" class=\"data row1 col5\" >11.60</td>\n",
       "      <td id=\"T_a393c_row1_col6\" class=\"data row1 col6\" >32,408.06</td>\n",
       "      <td id=\"T_a393c_row1_col7\" class=\"data row1 col7\" >2,942.94</td>\n",
       "    </tr>\n",
       "    <tr>\n",
       "      <td id=\"T_a393c_row2_col0\" class=\"data row2 col0\" >NER</td>\n",
       "      <td id=\"T_a393c_row2_col1\" class=\"data row2 col1\" >2025-08-06</td>\n",
       "      <td id=\"T_a393c_row2_col2\" class=\"data row2 col2\" >5000</td>\n",
       "      <td id=\"T_a393c_row2_col3\" class=\"data row2 col3\" >3.90</td>\n",
       "      <td id=\"T_a393c_row2_col4\" class=\"data row2 col4\" >19,543.20</td>\n",
       "      <td id=\"T_a393c_row2_col5\" class=\"data row2 col5\" >4.52</td>\n",
       "      <td id=\"T_a393c_row2_col6\" class=\"data row2 col6\" >22,549.95</td>\n",
       "      <td id=\"T_a393c_row2_col7\" class=\"data row2 col7\" >3,006.75</td>\n",
       "    </tr>\n",
       "    <tr>\n",
       "      <td id=\"T_a393c_row3_col0\" class=\"data row3 col0\" >JMART</td>\n",
       "      <td id=\"T_a393c_row3_col1\" class=\"data row3 col1\" >2025-08-07</td>\n",
       "      <td id=\"T_a393c_row3_col2\" class=\"data row3 col2\" >3200</td>\n",
       "      <td id=\"T_a393c_row3_col3\" class=\"data row3 col3\" >9.25</td>\n",
       "      <td id=\"T_a393c_row3_col4\" class=\"data row3 col4\" >29,665.56</td>\n",
       "      <td id=\"T_a393c_row3_col5\" class=\"data row3 col5\" >9.40</td>\n",
       "      <td id=\"T_a393c_row3_col6\" class=\"data row3 col6\" >30,013.37</td>\n",
       "      <td id=\"T_a393c_row3_col7\" class=\"data row3 col7\" >347.81</td>\n",
       "    </tr>\n",
       "    <tr>\n",
       "      <td id=\"T_a393c_row4_col0\" class=\"data row4 col0\" >ORI</td>\n",
       "      <td id=\"T_a393c_row4_col1\" class=\"data row4 col1\" >2025-08-07</td>\n",
       "      <td id=\"T_a393c_row4_col2\" class=\"data row4 col2\" >10000</td>\n",
       "      <td id=\"T_a393c_row4_col3\" class=\"data row4 col3\" >1.85</td>\n",
       "      <td id=\"T_a393c_row4_col4\" class=\"data row4 col4\" >18,540.98</td>\n",
       "      <td id=\"T_a393c_row4_col5\" class=\"data row4 col5\" >2.06</td>\n",
       "      <td id=\"T_a393c_row4_col6\" class=\"data row4 col6\" >20,554.38</td>\n",
       "      <td id=\"T_a393c_row4_col7\" class=\"data row4 col7\" >2,013.40</td>\n",
       "    </tr>\n",
       "    <tr>\n",
       "      <td id=\"T_a393c_row5_col0\" class=\"data row5 col0\" >GVREIT</td>\n",
       "      <td id=\"T_a393c_row5_col1\" class=\"data row5 col1\" >2025-08-08</td>\n",
       "      <td id=\"T_a393c_row5_col2\" class=\"data row5 col2\" >6000</td>\n",
       "      <td id=\"T_a393c_row5_col3\" class=\"data row5 col3\" >6.10</td>\n",
       "      <td id=\"T_a393c_row5_col4\" class=\"data row5 col4\" >36,681.06</td>\n",
       "      <td id=\"T_a393c_row5_col5\" class=\"data row5 col5\" >6.70</td>\n",
       "      <td id=\"T_a393c_row5_col6\" class=\"data row5 col6\" >40,110.97</td>\n",
       "      <td id=\"T_a393c_row5_col7\" class=\"data row5 col7\" >3,429.91</td>\n",
       "    </tr>\n",
       "    <tr>\n",
       "      <td id=\"T_a393c_row6_col0\" class=\"data row6 col0\" >RCL</td>\n",
       "      <td id=\"T_a393c_row6_col1\" class=\"data row6 col1\" >2025-08-08</td>\n",
       "      <td id=\"T_a393c_row6_col2\" class=\"data row6 col2\" >3000</td>\n",
       "      <td id=\"T_a393c_row6_col3\" class=\"data row6 col3\" >27.75</td>\n",
       "      <td id=\"T_a393c_row6_col4\" class=\"data row6 col4\" >83,434.39</td>\n",
       "      <td id=\"T_a393c_row6_col5\" class=\"data row6 col5\" >31.00</td>\n",
       "      <td id=\"T_a393c_row6_col6\" class=\"data row6 col6\" >92,794.01</td>\n",
       "      <td id=\"T_a393c_row6_col7\" class=\"data row6 col7\" >9,359.62</td>\n",
       "    </tr>\n",
       "    <tr>\n",
       "      <td id=\"T_a393c_row7_col0\" class=\"data row7 col0\" >CPF</td>\n",
       "      <td id=\"T_a393c_row7_col1\" class=\"data row7 col1\" >2025-08-20</td>\n",
       "      <td id=\"T_a393c_row7_col2\" class=\"data row7 col2\" >4000</td>\n",
       "      <td id=\"T_a393c_row7_col3\" class=\"data row7 col3\" >24.10</td>\n",
       "      <td id=\"T_a393c_row7_col4\" class=\"data row7 col4\" >96,613.52</td>\n",
       "      <td id=\"T_a393c_row7_col5\" class=\"data row7 col5\" >24.30</td>\n",
       "      <td id=\"T_a393c_row7_col6\" class=\"data row7 col6\" >96,984.72</td>\n",
       "      <td id=\"T_a393c_row7_col7\" class=\"data row7 col7\" >371.20</td>\n",
       "    </tr>\n",
       "    <tr>\n",
       "      <td id=\"T_a393c_row8_col0\" class=\"data row8 col0\" >CPF</td>\n",
       "      <td id=\"T_a393c_row8_col1\" class=\"data row8 col1\" >2025-08-21</td>\n",
       "      <td id=\"T_a393c_row8_col2\" class=\"data row8 col2\" >4000</td>\n",
       "      <td id=\"T_a393c_row8_col3\" class=\"data row8 col3\" >24.10</td>\n",
       "      <td id=\"T_a393c_row8_col4\" class=\"data row8 col4\" >96,613.52</td>\n",
       "      <td id=\"T_a393c_row8_col5\" class=\"data row8 col5\" >24.30</td>\n",
       "      <td id=\"T_a393c_row8_col6\" class=\"data row8 col6\" >96,984.72</td>\n",
       "      <td id=\"T_a393c_row8_col7\" class=\"data row8 col7\" >371.20</td>\n",
       "    </tr>\n",
       "    <tr>\n",
       "      <td id=\"T_a393c_row9_col0\" class=\"data row9 col0\" >CPF</td>\n",
       "      <td id=\"T_a393c_row9_col1\" class=\"data row9 col1\" >2025-08-22</td>\n",
       "      <td id=\"T_a393c_row9_col2\" class=\"data row9 col2\" >5000</td>\n",
       "      <td id=\"T_a393c_row9_col3\" class=\"data row9 col3\" >24.10</td>\n",
       "      <td id=\"T_a393c_row9_col4\" class=\"data row9 col4\" >120,766.90</td>\n",
       "      <td id=\"T_a393c_row9_col5\" class=\"data row9 col5\" >24.30</td>\n",
       "      <td id=\"T_a393c_row9_col6\" class=\"data row9 col6\" >121,230.88</td>\n",
       "      <td id=\"T_a393c_row9_col7\" class=\"data row9 col7\" >463.98</td>\n",
       "    </tr>\n",
       "    <tr>\n",
       "      <td id=\"T_a393c_row10_col0\" class=\"data row10 col0\" >MCS</td>\n",
       "      <td id=\"T_a393c_row10_col1\" class=\"data row10 col1\" >2025-08-27</td>\n",
       "      <td id=\"T_a393c_row10_col2\" class=\"data row10 col2\" >6000</td>\n",
       "      <td id=\"T_a393c_row10_col3\" class=\"data row10 col3\" >7.30</td>\n",
       "      <td id=\"T_a393c_row10_col4\" class=\"data row10 col4\" >43,897.02</td>\n",
       "      <td id=\"T_a393c_row10_col5\" class=\"data row10 col5\" >8.40</td>\n",
       "      <td id=\"T_a393c_row10_col6\" class=\"data row10 col6\" >50,288.37</td>\n",
       "      <td id=\"T_a393c_row10_col7\" class=\"data row10 col7\" >6,391.35</td>\n",
       "    </tr>\n",
       "    <tr>\n",
       "      <td id=\"T_a393c_row11_col0\" class=\"data row11 col0\" >ORI</td>\n",
       "      <td id=\"T_a393c_row11_col1\" class=\"data row11 col1\" >2025-08-28</td>\n",
       "      <td id=\"T_a393c_row11_col2\" class=\"data row11 col2\" >5000</td>\n",
       "      <td id=\"T_a393c_row11_col3\" class=\"data row11 col3\" >2.20</td>\n",
       "      <td id=\"T_a393c_row11_col4\" class=\"data row11 col4\" >11,024.36</td>\n",
       "      <td id=\"T_a393c_row11_col5\" class=\"data row11 col5\" >2.30</td>\n",
       "      <td id=\"T_a393c_row11_col6\" class=\"data row11 col6\" >11,474.52</td>\n",
       "      <td id=\"T_a393c_row11_col7\" class=\"data row11 col7\" >450.16</td>\n",
       "    </tr>\n",
       "  </tbody>\n",
       "</table>\n"
      ],
      "text/plain": [
       "<pandas.io.formats.style.Styler at 0x1bec68f5be0>"
      ]
     },
     "metadata": {},
     "output_type": "display_data"
    }
   ],
   "source": [
    "# Format all floats (pandas 1.4.0+)\n",
    "display(df_sells.style.format({\n",
    "    col: '{:,.2f}' for col in df_sells.select_dtypes(include=float).columns\n",
    "}).hide(axis=\"index\"))"
   ]
  },
  {
   "cell_type": "code",
   "execution_count": 24,
   "id": "52206bc5-20a7-452b-afd1-776361dacfab",
   "metadata": {},
   "outputs": [
    {
     "data": {
      "text/html": [
       "<style type=\"text/css\">\n",
       "</style>\n",
       "<table id=\"T_68ad7\">\n",
       "  <thead>\n",
       "    <tr>\n",
       "      <th id=\"T_68ad7_level0_col0\" class=\"col_heading level0 col0\" >name</th>\n",
       "      <th id=\"T_68ad7_level0_col1\" class=\"col_heading level0 col1\" >date</th>\n",
       "      <th id=\"T_68ad7_level0_col2\" class=\"col_heading level0 col2\" >qty</th>\n",
       "      <th id=\"T_68ad7_level0_col3\" class=\"col_heading level0 col3\" >buy</th>\n",
       "      <th id=\"T_68ad7_level0_col4\" class=\"col_heading level0 col4\" >cost_amt</th>\n",
       "      <th id=\"T_68ad7_level0_col5\" class=\"col_heading level0 col5\" >sell</th>\n",
       "      <th id=\"T_68ad7_level0_col6\" class=\"col_heading level0 col6\" >sale_amt</th>\n",
       "      <th id=\"T_68ad7_level0_col7\" class=\"col_heading level0 col7\" >profit</th>\n",
       "    </tr>\n",
       "  </thead>\n",
       "  <tbody>\n",
       "    <tr>\n",
       "      <td id=\"T_68ad7_row0_col0\" class=\"data row0 col0\" >ORI</td>\n",
       "      <td id=\"T_68ad7_row0_col1\" class=\"data row0 col1\" >2025-08-05</td>\n",
       "      <td id=\"T_68ad7_row0_col2\" class=\"data row0 col2\" >10,000</td>\n",
       "      <td id=\"T_68ad7_row0_col3\" class=\"data row0 col3\" >฿1.88</td>\n",
       "      <td id=\"T_68ad7_row0_col4\" class=\"data row0 col4\" >฿18,841.64</td>\n",
       "      <td id=\"T_68ad7_row0_col5\" class=\"data row0 col5\" >฿1.90</td>\n",
       "      <td id=\"T_68ad7_row0_col6\" class=\"data row0 col6\" >฿18,957.92</td>\n",
       "      <td id=\"T_68ad7_row0_col7\" class=\"data row0 col7\" >฿116.28</td>\n",
       "    </tr>\n",
       "    <tr>\n",
       "      <td id=\"T_68ad7_row1_col0\" class=\"data row1 col0\" >JMT</td>\n",
       "      <td id=\"T_68ad7_row1_col1\" class=\"data row1 col1\" >2025-08-06</td>\n",
       "      <td id=\"T_68ad7_row1_col2\" class=\"data row1 col2\" >2,800</td>\n",
       "      <td id=\"T_68ad7_row1_col3\" class=\"data row1 col3\" >฿10.50</td>\n",
       "      <td id=\"T_68ad7_row1_col4\" class=\"data row1 col4\" >฿29,465.12</td>\n",
       "      <td id=\"T_68ad7_row1_col5\" class=\"data row1 col5\" >฿11.60</td>\n",
       "      <td id=\"T_68ad7_row1_col6\" class=\"data row1 col6\" >฿32,408.06</td>\n",
       "      <td id=\"T_68ad7_row1_col7\" class=\"data row1 col7\" >฿2,942.94</td>\n",
       "    </tr>\n",
       "    <tr>\n",
       "      <td id=\"T_68ad7_row2_col0\" class=\"data row2 col0\" >NER</td>\n",
       "      <td id=\"T_68ad7_row2_col1\" class=\"data row2 col1\" >2025-08-06</td>\n",
       "      <td id=\"T_68ad7_row2_col2\" class=\"data row2 col2\" >5,000</td>\n",
       "      <td id=\"T_68ad7_row2_col3\" class=\"data row2 col3\" >฿3.90</td>\n",
       "      <td id=\"T_68ad7_row2_col4\" class=\"data row2 col4\" >฿19,543.20</td>\n",
       "      <td id=\"T_68ad7_row2_col5\" class=\"data row2 col5\" >฿4.52</td>\n",
       "      <td id=\"T_68ad7_row2_col6\" class=\"data row2 col6\" >฿22,549.95</td>\n",
       "      <td id=\"T_68ad7_row2_col7\" class=\"data row2 col7\" >฿3,006.75</td>\n",
       "    </tr>\n",
       "    <tr>\n",
       "      <td id=\"T_68ad7_row3_col0\" class=\"data row3 col0\" >JMART</td>\n",
       "      <td id=\"T_68ad7_row3_col1\" class=\"data row3 col1\" >2025-08-07</td>\n",
       "      <td id=\"T_68ad7_row3_col2\" class=\"data row3 col2\" >3,200</td>\n",
       "      <td id=\"T_68ad7_row3_col3\" class=\"data row3 col3\" >฿9.25</td>\n",
       "      <td id=\"T_68ad7_row3_col4\" class=\"data row3 col4\" >฿29,665.56</td>\n",
       "      <td id=\"T_68ad7_row3_col5\" class=\"data row3 col5\" >฿9.40</td>\n",
       "      <td id=\"T_68ad7_row3_col6\" class=\"data row3 col6\" >฿30,013.37</td>\n",
       "      <td id=\"T_68ad7_row3_col7\" class=\"data row3 col7\" >฿347.81</td>\n",
       "    </tr>\n",
       "    <tr>\n",
       "      <td id=\"T_68ad7_row4_col0\" class=\"data row4 col0\" >ORI</td>\n",
       "      <td id=\"T_68ad7_row4_col1\" class=\"data row4 col1\" >2025-08-07</td>\n",
       "      <td id=\"T_68ad7_row4_col2\" class=\"data row4 col2\" >10,000</td>\n",
       "      <td id=\"T_68ad7_row4_col3\" class=\"data row4 col3\" >฿1.85</td>\n",
       "      <td id=\"T_68ad7_row4_col4\" class=\"data row4 col4\" >฿18,540.98</td>\n",
       "      <td id=\"T_68ad7_row4_col5\" class=\"data row4 col5\" >฿2.06</td>\n",
       "      <td id=\"T_68ad7_row4_col6\" class=\"data row4 col6\" >฿20,554.38</td>\n",
       "      <td id=\"T_68ad7_row4_col7\" class=\"data row4 col7\" >฿2,013.40</td>\n",
       "    </tr>\n",
       "    <tr>\n",
       "      <td id=\"T_68ad7_row5_col0\" class=\"data row5 col0\" >GVREIT</td>\n",
       "      <td id=\"T_68ad7_row5_col1\" class=\"data row5 col1\" >2025-08-08</td>\n",
       "      <td id=\"T_68ad7_row5_col2\" class=\"data row5 col2\" >6,000</td>\n",
       "      <td id=\"T_68ad7_row5_col3\" class=\"data row5 col3\" >฿6.10</td>\n",
       "      <td id=\"T_68ad7_row5_col4\" class=\"data row5 col4\" >฿36,681.06</td>\n",
       "      <td id=\"T_68ad7_row5_col5\" class=\"data row5 col5\" >฿6.70</td>\n",
       "      <td id=\"T_68ad7_row5_col6\" class=\"data row5 col6\" >฿40,110.97</td>\n",
       "      <td id=\"T_68ad7_row5_col7\" class=\"data row5 col7\" >฿3,429.91</td>\n",
       "    </tr>\n",
       "    <tr>\n",
       "      <td id=\"T_68ad7_row6_col0\" class=\"data row6 col0\" >RCL</td>\n",
       "      <td id=\"T_68ad7_row6_col1\" class=\"data row6 col1\" >2025-08-08</td>\n",
       "      <td id=\"T_68ad7_row6_col2\" class=\"data row6 col2\" >3,000</td>\n",
       "      <td id=\"T_68ad7_row6_col3\" class=\"data row6 col3\" >฿27.75</td>\n",
       "      <td id=\"T_68ad7_row6_col4\" class=\"data row6 col4\" >฿83,434.39</td>\n",
       "      <td id=\"T_68ad7_row6_col5\" class=\"data row6 col5\" >฿31.00</td>\n",
       "      <td id=\"T_68ad7_row6_col6\" class=\"data row6 col6\" >฿92,794.01</td>\n",
       "      <td id=\"T_68ad7_row6_col7\" class=\"data row6 col7\" >฿9,359.62</td>\n",
       "    </tr>\n",
       "    <tr>\n",
       "      <td id=\"T_68ad7_row7_col0\" class=\"data row7 col0\" >CPF</td>\n",
       "      <td id=\"T_68ad7_row7_col1\" class=\"data row7 col1\" >2025-08-20</td>\n",
       "      <td id=\"T_68ad7_row7_col2\" class=\"data row7 col2\" >4,000</td>\n",
       "      <td id=\"T_68ad7_row7_col3\" class=\"data row7 col3\" >฿24.10</td>\n",
       "      <td id=\"T_68ad7_row7_col4\" class=\"data row7 col4\" >฿96,613.52</td>\n",
       "      <td id=\"T_68ad7_row7_col5\" class=\"data row7 col5\" >฿24.30</td>\n",
       "      <td id=\"T_68ad7_row7_col6\" class=\"data row7 col6\" >฿96,984.72</td>\n",
       "      <td id=\"T_68ad7_row7_col7\" class=\"data row7 col7\" >฿371.20</td>\n",
       "    </tr>\n",
       "    <tr>\n",
       "      <td id=\"T_68ad7_row8_col0\" class=\"data row8 col0\" >CPF</td>\n",
       "      <td id=\"T_68ad7_row8_col1\" class=\"data row8 col1\" >2025-08-21</td>\n",
       "      <td id=\"T_68ad7_row8_col2\" class=\"data row8 col2\" >4,000</td>\n",
       "      <td id=\"T_68ad7_row8_col3\" class=\"data row8 col3\" >฿24.10</td>\n",
       "      <td id=\"T_68ad7_row8_col4\" class=\"data row8 col4\" >฿96,613.52</td>\n",
       "      <td id=\"T_68ad7_row8_col5\" class=\"data row8 col5\" >฿24.30</td>\n",
       "      <td id=\"T_68ad7_row8_col6\" class=\"data row8 col6\" >฿96,984.72</td>\n",
       "      <td id=\"T_68ad7_row8_col7\" class=\"data row8 col7\" >฿371.20</td>\n",
       "    </tr>\n",
       "    <tr>\n",
       "      <td id=\"T_68ad7_row9_col0\" class=\"data row9 col0\" >CPF</td>\n",
       "      <td id=\"T_68ad7_row9_col1\" class=\"data row9 col1\" >2025-08-22</td>\n",
       "      <td id=\"T_68ad7_row9_col2\" class=\"data row9 col2\" >5,000</td>\n",
       "      <td id=\"T_68ad7_row9_col3\" class=\"data row9 col3\" >฿24.10</td>\n",
       "      <td id=\"T_68ad7_row9_col4\" class=\"data row9 col4\" >฿120,766.90</td>\n",
       "      <td id=\"T_68ad7_row9_col5\" class=\"data row9 col5\" >฿24.30</td>\n",
       "      <td id=\"T_68ad7_row9_col6\" class=\"data row9 col6\" >฿121,230.88</td>\n",
       "      <td id=\"T_68ad7_row9_col7\" class=\"data row9 col7\" >฿463.98</td>\n",
       "    </tr>\n",
       "    <tr>\n",
       "      <td id=\"T_68ad7_row10_col0\" class=\"data row10 col0\" >MCS</td>\n",
       "      <td id=\"T_68ad7_row10_col1\" class=\"data row10 col1\" >2025-08-27</td>\n",
       "      <td id=\"T_68ad7_row10_col2\" class=\"data row10 col2\" >6,000</td>\n",
       "      <td id=\"T_68ad7_row10_col3\" class=\"data row10 col3\" >฿7.30</td>\n",
       "      <td id=\"T_68ad7_row10_col4\" class=\"data row10 col4\" >฿43,897.02</td>\n",
       "      <td id=\"T_68ad7_row10_col5\" class=\"data row10 col5\" >฿8.40</td>\n",
       "      <td id=\"T_68ad7_row10_col6\" class=\"data row10 col6\" >฿50,288.37</td>\n",
       "      <td id=\"T_68ad7_row10_col7\" class=\"data row10 col7\" >฿6,391.35</td>\n",
       "    </tr>\n",
       "    <tr>\n",
       "      <td id=\"T_68ad7_row11_col0\" class=\"data row11 col0\" >ORI</td>\n",
       "      <td id=\"T_68ad7_row11_col1\" class=\"data row11 col1\" >2025-08-28</td>\n",
       "      <td id=\"T_68ad7_row11_col2\" class=\"data row11 col2\" >5,000</td>\n",
       "      <td id=\"T_68ad7_row11_col3\" class=\"data row11 col3\" >฿2.20</td>\n",
       "      <td id=\"T_68ad7_row11_col4\" class=\"data row11 col4\" >฿11,024.36</td>\n",
       "      <td id=\"T_68ad7_row11_col5\" class=\"data row11 col5\" >฿2.30</td>\n",
       "      <td id=\"T_68ad7_row11_col6\" class=\"data row11 col6\" >฿11,474.52</td>\n",
       "      <td id=\"T_68ad7_row11_col7\" class=\"data row11 col7\" >฿450.16</td>\n",
       "    </tr>\n",
       "  </tbody>\n",
       "</table>\n"
      ],
      "text/plain": [
       "<pandas.io.formats.style.Styler at 0x1bec68f5be0>"
      ]
     },
     "execution_count": 24,
     "metadata": {},
     "output_type": "execute_result"
    }
   ],
   "source": [
    "# Convert columns to interger\n",
    "df_sells[\"qty\"] = df_sells[\"qty\"].astype(int)\n",
    "# Apply formatting\n",
    "df_sells[[\"qty\"]] = df_sells[[\"qty\"]].apply(lambda col: col.map(to_integer))\n",
    "df_sells[[\"buy\", \"cost_amt\",\"sell\", \"sale_amt\", \"profit\"]] = \\\n",
    "df_sells[[\"buy\", \"cost_amt\",\"sell\", \"sale_amt\", \"profit\"]].apply(lambda col: col.map(to_currency))\n",
    "df_sells[[\"date\"]] = df_sells[[\"date\"]].apply(lambda col: col.map(to_date))\n",
    "df_sells.style.hide(axis=\"index\")"
   ]
  },
  {
   "cell_type": "code",
   "execution_count": 25,
   "id": "15d59f94",
   "metadata": {},
   "outputs": [
    {
     "name": "stdout",
     "output_type": "stream",
     "text": [
      "Monthly Profit Amount: 29,264.60\n"
     ]
    }
   ],
   "source": [
    "df_sells = pd.read_sql(sql, conpf)\n",
    "print(f\"Monthly Profit Amount: {df_sells.profit.sum():,.2f}\")"
   ]
  },
  {
   "cell_type": "code",
   "execution_count": 26,
   "id": "ff23d38c",
   "metadata": {},
   "outputs": [
    {
     "name": "stdout",
     "output_type": "stream",
     "text": [
      "2025-09-03 20:15:16\n"
     ]
    }
   ],
   "source": [
    "# Get the current time\n",
    "current_time = datetime.now()\n",
    "# Format the time to remove millisAeconds\n",
    "fmt_time = current_time.strftime(\"%Y-%m-%d %H:%M:%S\")\n",
    "print(fmt_time)"
   ]
  },
  {
   "cell_type": "code",
   "execution_count": null,
   "id": "e2d7d5de-57b3-497c-a2bf-b0381bc37835",
   "metadata": {},
   "outputs": [],
   "source": []
  }
 ],
 "metadata": {
  "kernelspec": {
   "display_name": "Python 3 (ipykernel)",
   "language": "python",
   "name": "python3"
  },
  "language_info": {
   "codemirror_mode": {
    "name": "ipython",
    "version": 3
   },
   "file_extension": ".py",
   "mimetype": "text/x-python",
   "name": "python",
   "nbconvert_exporter": "python",
   "pygments_lexer": "ipython3",
   "version": "3.12.3"
  }
 },
 "nbformat": 4,
 "nbformat_minor": 5
}
