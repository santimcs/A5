{
 "cells": [
  {
   "cell_type": "markdown",
   "id": "3cd84ca6-d867-4d56-a171-26f8a7e8f67b",
   "metadata": {},
   "source": [
    "### SET100, sSET, SETCLMV, SETHD, SETESG, SETWB, PROP, PFREIT, TRANS, ICT,ENERG"
   ]
  },
  {
   "cell_type": "raw",
   "id": "d958afb5-ad36-4e64-b088-548e23237b37",
   "metadata": {},
   "source": []
  },
  {
   "cell_type": "markdown",
   "id": "4e755f85",
   "metadata": {},
   "source": [
    "### https://www.setsmart.com/ssm/stockQuotation/indexSector;selectedCase=SET100"
   ]
  },
  {
   "cell_type": "code",
   "execution_count": null,
   "id": "aab942ee",
   "metadata": {},
   "outputs": [],
   "source": []
  }
 ],
 "metadata": {
  "kernelspec": {
   "display_name": "Python 3 (ipykernel)",
   "language": "python",
   "name": "python3"
  },
  "language_info": {
   "codemirror_mode": {
    "name": "ipython",
    "version": 3
   },
   "file_extension": ".py",
   "mimetype": "text/x-python",
   "name": "python",
   "nbconvert_exporter": "python",
   "pygments_lexer": "ipython3",
   "version": "3.12.3"
  }
 },
 "nbformat": 4,
 "nbformat_minor": 5
}
