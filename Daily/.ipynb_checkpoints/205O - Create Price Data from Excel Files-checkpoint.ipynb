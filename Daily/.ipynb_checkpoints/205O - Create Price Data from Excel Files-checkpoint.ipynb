{
 "cells": [
  {
   "cell_type": "markdown",
   "id": "a99b885f",
   "metadata": {},
   "source": [
    "### Restart & Run All Cells"
   ]
  },
  {
   "cell_type": "code",
   "execution_count": 2,
   "id": "fc682742-f4c0-44fb-afa4-94ce66ccc792",
   "metadata": {},
   "outputs": [
    {
     "name": "stdout",
     "output_type": "stream",
     "text": [
      "2025-07-02 2025-07-01\n"
     ]
    }
   ],
   "source": [
    "import glob\n",
    "import os\n",
    "import pandas as pd\n",
    "from datetime import date, timedelta, datetime\n",
    "from pandas.tseries.offsets import *\n",
    "from sqlalchemy import create_engine\n",
    "\n",
    "engine = create_engine(\"sqlite:///c:\\\\ruby\\\\port_lite\\\\db\\\\development.sqlite3\")\n",
    "conlite = engine.connect()\n",
    "\n",
    "today = date.today()\n",
    "yesterday = today - timedelta(days=1)\n",
    "print(today, yesterday)"
   ]
  },
  {
   "cell_type": "code",
   "execution_count": 3,
   "id": "1c8d5605-f8c9-478d-890b-94be5ba8211b",
   "metadata": {},
   "outputs": [
    {
     "name": "stdout",
     "output_type": "stream",
     "text": [
      "Downloads path (dow_path): C:\\Users\\PC1\\Downloads\n"
     ]
    }
   ],
   "source": [
    "# Get the user's home directory\n",
    "user_path = os.path.expanduser('~')\n",
    "#print(\"User path:\", user_path)\n",
    "\n",
    "dow_path = os.path.join(user_path, \"Downloads\")\n",
    "print(f\"Downloads path (dow_path): {dow_path}\") "
   ]
  },
  {
   "cell_type": "code",
   "execution_count": 4,
   "id": "d5555f92",
   "metadata": {},
   "outputs": [],
   "source": [
    "# Dictionary of file categories and their extensions\n",
    "categories = {\n",
    "    'Images': ['jpeg', 'jpg', 'png'],\n",
    "    'PDFs': ['pdf'],\n",
    "    'Datasets': ['csv', 'xlsx', 'xls'],\n",
    "    'Videos': ['mp4','m4a'],\n",
    "    'Zips': ['zip'],\n",
    "    'EXEs': ['exe', 'msi'],\n",
    "    'Pythons': ['ipynb'],\n",
    "    'Workflows': ['json'],\n",
    "    'Models': ['safetensors','ckpt','sft'],\n",
    "}\n",
    "# Function to classify a file\n",
    "def classify_file(filename):\n",
    "    # Find the file extension\n",
    "    extension = filename.split('.')[-1]\n",
    "\n",
    "    # Iterate over the categories\n",
    "    for category, extensions in categories.items():\n",
    "        # If the extension matches one of the extensions in the category, move the file\n",
    "        if extension in extensions:\n",
    "            # Construct the file paths\n",
    "            source_path = os.path.join(dow_path, filename)\n",
    "            dest_path = os.path.join(dow_path, category, filename)\n",
    "\n",
    "            # Move the file\n",
    "            os.rename(source_path, dest_path)\n",
    "            print(f'Moved {filename} to {category}')\n",
    "            break"
   ]
  },
  {
   "cell_type": "code",
   "execution_count": 5,
   "id": "39e5807f",
   "metadata": {},
   "outputs": [
    {
     "ename": "FileExistsError",
     "evalue": "[WinError 183] Cannot create a file when that file already exists: 'C:\\\\Users\\\\PC1\\\\Downloads\\\\StockQuotation (1).xlsx' -> 'C:\\\\Users\\\\PC1\\\\Downloads\\\\Datasets\\\\StockQuotation (1).xlsx'",
     "output_type": "error",
     "traceback": [
      "\u001b[1;31m---------------------------------------------------------------------------\u001b[0m",
      "\u001b[1;31mFileExistsError\u001b[0m                           Traceback (most recent call last)",
      "Cell \u001b[1;32mIn[5], line 3\u001b[0m\n\u001b[0;32m      1\u001b[0m \u001b[38;5;66;03m# Classify all existing files in the directory\u001b[39;00m\n\u001b[0;32m      2\u001b[0m \u001b[38;5;28;01mfor\u001b[39;00m filename \u001b[38;5;129;01min\u001b[39;00m os\u001b[38;5;241m.\u001b[39mlistdir(dow_path):\n\u001b[1;32m----> 3\u001b[0m     classify_file(filename)\n",
      "Cell \u001b[1;32mIn[4], line 27\u001b[0m, in \u001b[0;36mclassify_file\u001b[1;34m(filename)\u001b[0m\n\u001b[0;32m     24\u001b[0m dest_path \u001b[38;5;241m=\u001b[39m os\u001b[38;5;241m.\u001b[39mpath\u001b[38;5;241m.\u001b[39mjoin(dow_path, category, filename)\n\u001b[0;32m     26\u001b[0m \u001b[38;5;66;03m# Move the file\u001b[39;00m\n\u001b[1;32m---> 27\u001b[0m os\u001b[38;5;241m.\u001b[39mrename(source_path, dest_path)\n\u001b[0;32m     28\u001b[0m \u001b[38;5;28mprint\u001b[39m(\u001b[38;5;124mf\u001b[39m\u001b[38;5;124m'\u001b[39m\u001b[38;5;124mMoved \u001b[39m\u001b[38;5;132;01m{\u001b[39;00mfilename\u001b[38;5;132;01m}\u001b[39;00m\u001b[38;5;124m to \u001b[39m\u001b[38;5;132;01m{\u001b[39;00mcategory\u001b[38;5;132;01m}\u001b[39;00m\u001b[38;5;124m'\u001b[39m)\n\u001b[0;32m     29\u001b[0m \u001b[38;5;28;01mbreak\u001b[39;00m\n",
      "\u001b[1;31mFileExistsError\u001b[0m: [WinError 183] Cannot create a file when that file already exists: 'C:\\\\Users\\\\PC1\\\\Downloads\\\\StockQuotation (1).xlsx' -> 'C:\\\\Users\\\\PC1\\\\Downloads\\\\Datasets\\\\StockQuotation (1).xlsx'"
     ]
    }
   ],
   "source": [
    "# Classify all existing files in the directory\n",
    "for filename in os.listdir(dow_path):\n",
    "    classify_file(filename)"
   ]
  },
  {
   "cell_type": "code",
   "execution_count": null,
   "id": "2f1eb4b2-9276-4022-8b4c-97297235984a",
   "metadata": {},
   "outputs": [],
   "source": [
    "today, yesterday"
   ]
  },
  {
   "cell_type": "code",
   "execution_count": null,
   "id": "40762574-33e8-4ed8-91a6-b86f7c8c992f",
   "metadata": {},
   "outputs": [],
   "source": [
    "# Get the current time\n",
    "current_time = datetime.now()\n",
    "# Format the time to remove milliseconds\n",
    "formatted_time = current_time.strftime(\"%Y-%m-%d %H:%M:%S\")\n",
    "print(formatted_time)"
   ]
  },
  {
   "cell_type": "code",
   "execution_count": null,
   "id": "931bae20-7a8f-4d9e-8cc1-5fa517adb985",
   "metadata": {},
   "outputs": [],
   "source": []
  }
 ],
 "metadata": {
  "kernelspec": {
   "display_name": "Python 3 (ipykernel)",
   "language": "python",
   "name": "python3"
  },
  "language_info": {
   "codemirror_mode": {
    "name": "ipython",
    "version": 3
   },
   "file_extension": ".py",
   "mimetype": "text/x-python",
   "name": "python",
   "nbconvert_exporter": "python",
   "pygments_lexer": "ipython3",
   "version": "3.12.3"
  }
 },
 "nbformat": 4,
 "nbformat_minor": 5
}
