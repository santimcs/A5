{
 "cells": [
  {
   "cell_type": "code",
   "execution_count": 1,
   "metadata": {},
   "outputs": [],
   "source": [
    "import os\n",
    "import pandas as pd\n",
    "import numpy as np\n",
    "from datetime import date, timedelta, datetime\n",
    "from sqlalchemy import create_engine, text\n",
    "from pandas.tseries.offsets import BDay\n",
    "\n",
    "engine = create_engine('mysql+pymysql://root:@localhost:3306/portfolio_development')\n",
    "conpf = engine.connect()\n",
    "engine = create_engine(\"mysql+pymysql://root:@localhost:3306/stock\")\n",
    "const = engine.connect()\n",
    "engine = create_engine(\"sqlite:///c:\\\\ruby\\\\port_lite\\\\db\\\\development.sqlite3\")\n",
    "conlite = engine.connect()"
   ]
  },
  {
   "cell_type": "code",
   "execution_count": 3,
   "metadata": {},
   "outputs": [
    {
     "name": "stdout",
     "output_type": "stream",
     "text": [
      "today: 2025-10-16\n",
      "yesterday: 2025-10-15\n"
     ]
    }
   ],
   "source": [
    "today = date.today()\n",
    "# convert the timedelta object to a BusinessDay object\n",
    "num_business_days = BDay(1)\n",
    "yesterday = today - num_business_days\n",
    "yesterday = yesterday.date()\n",
    "print(f'today: {today}')\n",
    "print(f'yesterday: {yesterday}')"
   ]
  },
  {
   "cell_type": "code",
   "execution_count": 5,
   "metadata": {},
   "outputs": [],
   "source": [
    "# Get the user's home directory\n",
    "user_path = os.path.expanduser('~')\n",
    "# Get the current working directory\n",
    "current_path = os.getcwd()\n",
    "# Derive the base directory (base_dir) by removing the last folder ('Daily')\n",
    "base_path = os.path.dirname(current_path)\n",
    "#C:\\Users\\PC1\\OneDrive\\A5\\Data\n",
    "dat_path = os.path.join(base_path, \"Data\")\n",
    "#C:\\Users\\PC1\\Downloads\\Datasets\n",
    "dts_path = os.path.join(user_path, \"Downloads\", \"Datasets\")\n",
    "#C:\\Users\\PC1\\OneDrive\\Imports\\santisoontarinka@gmail.com - Google Drive\\Data>\n",
    "god_path = os.path.join(user_path, \"OneDrive\",\"Imports\",\"santisoontarinka@gmail.com - Google Drive\",\"Data\")\n",
    "#C:\\Users\\PC1\\iCloudDrive\\data\n",
    "icd_path = os.path.join(user_path, \"iCloudDrive\", \"Data\")\n",
    "#C:\\Users\\PC1\\OneDrive\\Documents\\obsidian-git-sync\\Data\n",
    "osd_path = os.path.join(user_path, \"OneDrive\",\"Documents\",\"obsidian-git-sync\",\"Data\")\n",
    "#C:\\Users\\PC1\\OneDrive\\A5\\Excel\n",
    "xsl_path = os.path.join(base_path, \"Excel\")"
   ]
  },
  {
   "cell_type": "code",
   "execution_count": 7,
   "metadata": {},
   "outputs": [
    {
     "name": "stdout",
     "output_type": "stream",
     "text": [
      "User path: C:\\Users\\PC1\n",
      "Current path: C:\\Users\\PC1\\OneDrive\\A5\\Daily\n",
      "Base path: C:\\Users\\PC1\\OneDrive\\A5\n",
      "Data path (dat_path): C:\\Users\\PC1\\OneDrive\\A5\\Data\n",
      "Excel path (xsl_path): C:\\Users\\PC1\\OneDrive\\A5\\Excel\n",
      "Google Drive path (god_path): C:\\Users\\PC1\\OneDrive\\Imports\\santisoontarinka@gmail.com - Google Drive\\Data\n",
      "iCloudDrive path (icd_path): C:\\Users\\PC1\\iCloudDrive\\Data\n",
      "Obsidian path (osd_path): C:\\Users\\PC1\\OneDrive\\Documents\\obsidian-git-sync\\Data\n"
     ]
    }
   ],
   "source": [
    "print(\"User path:\", user_path)\n",
    "print(f\"Current path: {current_path}\")\n",
    "print(f\"Base path: {base_path}\")\n",
    "print(f\"Data path (dat_path): {dat_path}\") \n",
    "print(f\"Excel path (xsl_path): {xsl_path}\") \n",
    "print(f\"Google Drive path (god_path): {god_path}\")\n",
    "print(f\"iCloudDrive path (icd_path): {icd_path}\") \n",
    "print(f\"Obsidian path (osd_path): {osd_path}\") "
   ]
  },
  {
   "cell_type": "code",
   "execution_count": 9,
   "metadata": {},
   "outputs": [],
   "source": [
    "format_dict = {\n",
    "    'shares':'{:,}',    \n",
    "    'price':'{:.2f}',\n",
    "    'dividend':'{:.4f}', \n",
    "    'date':'{:%Y-%m-%d}', \n",
    "    \n",
    "    'qty':'{:,}','shares':'{:,}',\n",
    "    'price':'{:.2f}','buy_price':'{:.2f}',\n",
    "    'dividend':'{:.4f}',    \n",
    "    'fee':'{:,.2f}','vat':'{:,.2f}','net':'{:,.2f}',\n",
    "  \n",
    "    'days':'{:,}',\n",
    "    'price':'{:.2f}',\n",
    "    'fee':'{:,.2f}','vat':'{:,.2f}','net':'{:,.2f}','profit':'{:,.2f}',\n",
    "    'percent':'{:,.2f}%','yearly':'{:,.2f}%',   \n",
    "    \n",
    "    'shares':'{:,}',    \n",
    "    'q4':'{:.4f}','q3':'{:.4f}','q2':'{:.4f}','q1':'{:.4f}','dividend':'{:.4f}',\n",
    "    'xdate':'{:%Y-%m-%d}','paiddate':'{:%Y-%m-%d}',\n",
    "    \n",
    "    'qty':'{:,}','available_qty':'{:,}',\n",
    "    'cost':'{:.2f}','max_price':'{:.2f}','min_price':'{:.2f}','buy_target':'{:.2f}','sell_target':'{:.2f}',\n",
    "    'volume':'{:,.0f}','beta':'{:,.2f}',\n",
    "    }"
   ]
  },
  {
   "cell_type": "code",
   "execution_count": 11,
   "metadata": {},
   "outputs": [],
   "source": [
    "def show_buy(const, name):\n",
    "    sql = \"\"\"\n",
    "    SELECT * \n",
    "    FROM buy \n",
    "    WHERE name = '{}'\n",
    "    \"\"\".format(name)\n",
    "    \n",
    "    df_buy = pd.read_sql(sql, const)\n",
    "    df_buy.drop(['volsell', 'volbal','dividend'], axis=1, inplace=True)\n",
    "    df_buy.rename(columns={'volbuy':'shares'},inplace=True)\n",
    "    df_buy['shares'] = df_buy['shares'].astype('int64')\n",
    "    return df_buy.style.format(format_dict).hide(axis=\"index\")"
   ]
  },
  {
   "cell_type": "code",
   "execution_count": 13,
   "metadata": {},
   "outputs": [],
   "source": [
    "def show_dividend(const, name):\n",
    "    sql = \"\"\"\n",
    "    SELECT * \n",
    "    FROM dividend \n",
    "    WHERE name = '{}'\n",
    "    \"\"\".format(name)\n",
    "    \n",
    "    df_dividend = pd.read_sql(sql, const)\n",
    "    df_dividend.drop(['PRICE', 'PERCENT'], axis=1, inplace=True)\n",
    "    df_dividend.columns = df_dividend.columns.str.lower()\n",
    "    df_dividend['shares'] = df_dividend['shares'].astype('int64')\n",
    "    df_dividend['xdate'] = pd.to_datetime(df_dividend['xdate'])\n",
    "    df_dividend['paiddate'] = pd.to_datetime(df_dividend['paiddate'])\n",
    "    return df_dividend.style.format(format_dict).hide(axis=\"index\")"
   ]
  },
  {
   "cell_type": "code",
   "execution_count": 15,
   "metadata": {},
   "outputs": [],
   "source": [
    "def show_stocks(conlite, name):\n",
    "    sql = \"\"\"\n",
    "    SELECT * \n",
    "    FROM stocks \n",
    "    WHERE name = '{}'\n",
    "    \"\"\".format(name)\n",
    "    \n",
    "    df_stocks = pd.read_sql(sql, conlite)\n",
    "    return df_stocks.style.format(format_dict).hide(axis=\"index\")"
   ]
  },
  {
   "cell_type": "code",
   "execution_count": 17,
   "metadata": {},
   "outputs": [],
   "source": [
    "def update_buy(const, name, new_qty, new_price):\n",
    "    # Use parameterized query to avoid SQL injection\n",
    "    sqlUpd = text(\"\"\"\n",
    "        UPDATE buy\n",
    "        SET volbuy = :new_qty,\n",
    "        price = :new_price\n",
    "        WHERE name = :name\n",
    "    \"\"\")\n",
    "    \n",
    "    # Execute the query with parameters\n",
    "    result = const.execute(sqlUpd, {\n",
    "        'new_qty': new_qty,\n",
    "        'new_price': new_price,\n",
    "        'name': name\n",
    "    })\n",
    "\n",
    "    return f\"Records updated = {result.rowcount}\""
   ]
  },
  {
   "cell_type": "code",
   "execution_count": 19,
   "metadata": {},
   "outputs": [],
   "source": [
    "def update_dividend(const, name, new_qty):\n",
    "    # Use parameterized query to avoid SQL injection\n",
    "    sqlUpd = text(\"\"\"\n",
    "        UPDATE dividend\n",
    "        SET shares = :new_qty\n",
    "        WHERE name = :name\n",
    "    \"\"\")\n",
    "    \n",
    "    # Execute the query with parameters\n",
    "    result = const.execute(sqlUpd, {\n",
    "        'new_qty': new_qty,  # Use the scalar value\n",
    "        'name': name\n",
    "    })\n",
    "\n",
    "    return f\"Records updated = {result.rowcount}\""
   ]
  },
  {
   "cell_type": "code",
   "execution_count": 21,
   "metadata": {},
   "outputs": [],
   "source": [
    "def update_stock(conlite, name, new_qty, new_unit_cost, new_buy_target, new_sell_target, new_buy_qty):  \n",
    "    print(f\"Updating {name} with available_qty = {new_qty} (type: {type(new_qty)})\")\n",
    "    \n",
    "    # Convert numpy.int64 to native Python int\n",
    "    new_qty = int(new_qty)\n",
    "    \n",
    "    sqlUpd = text(\"\"\"\n",
    "        UPDATE stocks\n",
    "        SET available_qty = :new_qty, \n",
    "            cost = :new_unit_cost,\n",
    "            buy_target = :new_buy_target,\n",
    "            sell_target = :new_sell_target,    \n",
    "            qty = :new_buy_qty\n",
    "        WHERE name = :name\n",
    "    \"\"\")    \n",
    "    \n",
    "    result = conlite.execute(sqlUpd, {\n",
    "        'new_qty': new_qty,\n",
    "        'new_unit_cost': new_unit_cost,\n",
    "        'new_buy_target': new_buy_target,\n",
    "        'new_sell_target': new_sell_target,     \n",
    "        'new_buy_qty': new_buy_qty,\n",
    "        'name': name\n",
    "    })\n",
    "    \n",
    "    conlite.commit()\n",
    "    \n",
    "    # Verify the update worked - wrap the SQL in text()\n",
    "    verify_sql = text(\"SELECT available_qty FROM stocks WHERE name = :name\")\n",
    "    verify_result = conlite.execute(verify_sql, {'name': name})\n",
    "    updated_value = verify_result.fetchone()[0]\n",
    "    print(f\"Value after update: {updated_value} (type: {type(updated_value)})\")\n",
    "    \n",
    "    return f\"Records updated = {result.rowcount}\""
   ]
  },
  {
   "cell_type": "code",
   "execution_count": 23,
   "metadata": {},
   "outputs": [],
   "source": [
    "def debug_stock(conlite, name):\n",
    "    # Check the actual data type and value\n",
    "    sql = \"\"\"\n",
    "    SELECT name, available_qty, typeof(available_qty) as type\n",
    "    FROM stocks \n",
    "    WHERE name = ?\n",
    "    \"\"\"\n",
    "    df = pd.read_sql(sql, conlite, params=[name])\n",
    "    print(f\"Data type of available_qty: {df['type'].iloc[0]}\")\n",
    "    print(f\"Value of available_qty: {df['available_qty'].iloc[0]}\")\n",
    "    return df"
   ]
  },
  {
   "cell_type": "markdown",
   "metadata": {},
   "source": [
    "### End of Definition"
   ]
  },
  {
   "cell_type": "markdown",
   "metadata": {},
   "source": [
    "## Begin of  Buy transaction  "
   ]
  },
  {
   "cell_type": "code",
   "execution_count": 27,
   "metadata": {},
   "outputs": [
    {
     "data": {
      "text/html": [
       "<style type=\"text/css\">\n",
       "</style>\n",
       "<table id=\"T_e6c72\">\n",
       "  <thead>\n",
       "    <tr>\n",
       "      <th id=\"T_e6c72_level0_col0\" class=\"col_heading level0 col0\" >name</th>\n",
       "      <th id=\"T_e6c72_level0_col1\" class=\"col_heading level0 col1\" >id</th>\n",
       "      <th id=\"T_e6c72_level0_col2\" class=\"col_heading level0 col2\" >stock_id</th>\n",
       "      <th id=\"T_e6c72_level0_col3\" class=\"col_heading level0 col3\" >date</th>\n",
       "      <th id=\"T_e6c72_level0_col4\" class=\"col_heading level0 col4\" >qty</th>\n",
       "      <th id=\"T_e6c72_level0_col5\" class=\"col_heading level0 col5\" >price</th>\n",
       "      <th id=\"T_e6c72_level0_col6\" class=\"col_heading level0 col6\" >fee</th>\n",
       "      <th id=\"T_e6c72_level0_col7\" class=\"col_heading level0 col7\" >vat</th>\n",
       "      <th id=\"T_e6c72_level0_col8\" class=\"col_heading level0 col8\" >status</th>\n",
       "      <th id=\"T_e6c72_level0_col9\" class=\"col_heading level0 col9\" >net</th>\n",
       "      <th id=\"T_e6c72_level0_col10\" class=\"col_heading level0 col10\" >kind</th>\n",
       "      <th id=\"T_e6c72_level0_col11\" class=\"col_heading level0 col11\" >chart</th>\n",
       "    </tr>\n",
       "  </thead>\n",
       "  <tbody>\n",
       "    <tr>\n",
       "      <td id=\"T_e6c72_row0_col0\" class=\"data row0 col0\" >PTT</td>\n",
       "      <td id=\"T_e6c72_row0_col1\" class=\"data row0 col1\" >1353</td>\n",
       "      <td id=\"T_e6c72_row0_col2\" class=\"data row0 col2\" >118</td>\n",
       "      <td id=\"T_e6c72_row0_col3\" class=\"data row0 col3\" >2025-10-16</td>\n",
       "      <td id=\"T_e6c72_row0_col4\" class=\"data row0 col4\" >2,500</td>\n",
       "      <td id=\"T_e6c72_row0_col5\" class=\"data row0 col5\" >31.00</td>\n",
       "      <td id=\"T_e6c72_row0_col6\" class=\"data row0 col6\" >160.43</td>\n",
       "      <td id=\"T_e6c72_row0_col7\" class=\"data row0 col7\" >11.23</td>\n",
       "      <td id=\"T_e6c72_row0_col8\" class=\"data row0 col8\" >Active</td>\n",
       "      <td id=\"T_e6c72_row0_col9\" class=\"data row0 col9\" >77,671.66</td>\n",
       "      <td id=\"T_e6c72_row0_col10\" class=\"data row0 col10\" >HD</td>\n",
       "      <td id=\"T_e6c72_row0_col11\" class=\"data row0 col11\" >None</td>\n",
       "    </tr>\n",
       "  </tbody>\n",
       "</table>\n"
      ],
      "text/plain": [
       "<pandas.io.formats.style.Styler at 0x17cbdb1f710>"
      ]
     },
     "metadata": {},
     "output_type": "display_data"
    }
   ],
   "source": [
    "sql = \"\"\"\n",
    "SELECT name, B.* \n",
    "FROM buys B\n",
    "JOIN stocks T \n",
    "ON B.stock_id = T.id\n",
    "ORDER BY id DESC\n",
    "LIMIT 1\n",
    "\"\"\"\n",
    "df_buys_latest = pd.read_sql(sql, conpf)\n",
    "\n",
    "display(df_buys_latest.style.format(format_dict).hide(axis=\"index\"))"
   ]
  },
  {
   "cell_type": "code",
   "execution_count": 29,
   "metadata": {},
   "outputs": [
    {
     "name": "stdout",
     "output_type": "stream",
     "text": [
      "B PTT 2500 31.0\n"
     ]
    }
   ],
   "source": [
    "transaction = 'B'\n",
    "\n",
    "names = df_buys_latest['name']\n",
    "name = names.to_string(index=False)\n",
    "\n",
    "sr_qty = df_buys_latest['qty']\n",
    "qty = sr_qty.to_string(index=False)\n",
    "qty = int(qty)\n",
    "\n",
    "sr_price = df_buys_latest['price']\n",
    "buy_price = sr_price.to_string(index=False)\n",
    "buy_price = float(buy_price)\n",
    "\n",
    "print(transaction, name, qty, buy_price)"
   ]
  },
  {
   "cell_type": "markdown",
   "metadata": {},
   "source": [
    "### Begin of Update buy table in MySQL database from buy transaction"
   ]
  },
  {
   "cell_type": "code",
   "execution_count": 32,
   "metadata": {},
   "outputs": [
    {
     "data": {
      "text/html": [
       "<style type=\"text/css\">\n",
       "</style>\n",
       "<table id=\"T_a1d82\">\n",
       "  <thead>\n",
       "    <tr>\n",
       "      <th id=\"T_a1d82_level0_col0\" class=\"col_heading level0 col0\" >name</th>\n",
       "      <th id=\"T_a1d82_level0_col1\" class=\"col_heading level0 col1\" >date</th>\n",
       "      <th id=\"T_a1d82_level0_col2\" class=\"col_heading level0 col2\" >shares</th>\n",
       "      <th id=\"T_a1d82_level0_col3\" class=\"col_heading level0 col3\" >price</th>\n",
       "      <th id=\"T_a1d82_level0_col4\" class=\"col_heading level0 col4\" >active</th>\n",
       "      <th id=\"T_a1d82_level0_col5\" class=\"col_heading level0 col5\" >period</th>\n",
       "      <th id=\"T_a1d82_level0_col6\" class=\"col_heading level0 col6\" >grade</th>\n",
       "    </tr>\n",
       "  </thead>\n",
       "  <tbody>\n",
       "    <tr>\n",
       "      <td id=\"T_a1d82_row0_col0\" class=\"data row0 col0\" >PTT</td>\n",
       "      <td id=\"T_a1d82_row0_col1\" class=\"data row0 col1\" >2025-08-08</td>\n",
       "      <td id=\"T_a1d82_row0_col2\" class=\"data row0 col2\" >7500</td>\n",
       "      <td id=\"T_a1d82_row0_col3\" class=\"data row0 col3\" >32.000000</td>\n",
       "      <td id=\"T_a1d82_row0_col4\" class=\"data row0 col4\" >1</td>\n",
       "      <td id=\"T_a1d82_row0_col5\" class=\"data row0 col5\" >2</td>\n",
       "      <td id=\"T_a1d82_row0_col6\" class=\"data row0 col6\" >A2</td>\n",
       "    </tr>\n",
       "  </tbody>\n",
       "</table>\n"
      ],
      "text/plain": [
       "<pandas.io.formats.style.Styler at 0x17cbefcef00>"
      ]
     },
     "execution_count": 32,
     "metadata": {},
     "output_type": "execute_result"
    }
   ],
   "source": [
    "sql = \"\"\"\n",
    "    SELECT *\n",
    "    FROM buy \n",
    "    WHERE name = '{}'\n",
    "\"\"\".format(name)\n",
    "    \n",
    "df_buy = pd.read_sql(sql, const)\n",
    "df_buy.drop(['volsell', 'volbal','dividend'], axis=1, inplace=True)\n",
    "df_buy.rename(columns={'volbuy':'shares'},inplace=True)\n",
    "df_buy['shares'] = df_buy['shares'].astype('int64')\n",
    "df_buy.style.hide(axis=\"index\")"
   ]
  },
  {
   "cell_type": "markdown",
   "metadata": {},
   "source": [
    "### In case there is the same stock name in port"
   ]
  },
  {
   "cell_type": "code",
   "execution_count": 35,
   "metadata": {},
   "outputs": [
    {
     "data": {
      "text/html": [
       "<style type=\"text/css\">\n",
       "</style>\n",
       "<table id=\"T_19fa4\">\n",
       "  <thead>\n",
       "    <tr>\n",
       "      <th id=\"T_19fa4_level0_col0\" class=\"col_heading level0 col0\" >name</th>\n",
       "      <th id=\"T_19fa4_level0_col1\" class=\"col_heading level0 col1\" >date</th>\n",
       "      <th id=\"T_19fa4_level0_col2\" class=\"col_heading level0 col2\" >shares</th>\n",
       "      <th id=\"T_19fa4_level0_col3\" class=\"col_heading level0 col3\" >price</th>\n",
       "      <th id=\"T_19fa4_level0_col4\" class=\"col_heading level0 col4\" >active</th>\n",
       "      <th id=\"T_19fa4_level0_col5\" class=\"col_heading level0 col5\" >period</th>\n",
       "      <th id=\"T_19fa4_level0_col6\" class=\"col_heading level0 col6\" >grade</th>\n",
       "    </tr>\n",
       "  </thead>\n",
       "  <tbody>\n",
       "    <tr>\n",
       "      <td id=\"T_19fa4_row0_col0\" class=\"data row0 col0\" >PTT</td>\n",
       "      <td id=\"T_19fa4_row0_col1\" class=\"data row0 col1\" >2025-08-08</td>\n",
       "      <td id=\"T_19fa4_row0_col2\" class=\"data row0 col2\" >7,500</td>\n",
       "      <td id=\"T_19fa4_row0_col3\" class=\"data row0 col3\" >32.00</td>\n",
       "      <td id=\"T_19fa4_row0_col4\" class=\"data row0 col4\" >1</td>\n",
       "      <td id=\"T_19fa4_row0_col5\" class=\"data row0 col5\" >2</td>\n",
       "      <td id=\"T_19fa4_row0_col6\" class=\"data row0 col6\" >A2</td>\n",
       "    </tr>\n",
       "  </tbody>\n",
       "</table>\n"
      ],
      "text/plain": [
       "<pandas.io.formats.style.Styler at 0x17cbf1a7ec0>"
      ]
     },
     "execution_count": 35,
     "metadata": {},
     "output_type": "execute_result"
    }
   ],
   "source": [
    "show_buy(const, name)"
   ]
  },
  {
   "cell_type": "code",
   "execution_count": 37,
   "metadata": {},
   "outputs": [
    {
     "data": {
      "text/html": [
       "<style type=\"text/css\">\n",
       "</style>\n",
       "<table id=\"T_7015e\">\n",
       "  <thead>\n",
       "    <tr>\n",
       "      <th id=\"T_7015e_level0_col0\" class=\"col_heading level0 col0\" >name</th>\n",
       "      <th id=\"T_7015e_level0_col1\" class=\"col_heading level0 col1\" >id</th>\n",
       "      <th id=\"T_7015e_level0_col2\" class=\"col_heading level0 col2\" >stock_id</th>\n",
       "      <th id=\"T_7015e_level0_col3\" class=\"col_heading level0 col3\" >date</th>\n",
       "      <th id=\"T_7015e_level0_col4\" class=\"col_heading level0 col4\" >qty</th>\n",
       "      <th id=\"T_7015e_level0_col5\" class=\"col_heading level0 col5\" >price</th>\n",
       "      <th id=\"T_7015e_level0_col6\" class=\"col_heading level0 col6\" >fee</th>\n",
       "      <th id=\"T_7015e_level0_col7\" class=\"col_heading level0 col7\" >vat</th>\n",
       "      <th id=\"T_7015e_level0_col8\" class=\"col_heading level0 col8\" >status</th>\n",
       "      <th id=\"T_7015e_level0_col9\" class=\"col_heading level0 col9\" >net</th>\n",
       "      <th id=\"T_7015e_level0_col10\" class=\"col_heading level0 col10\" >kind</th>\n",
       "      <th id=\"T_7015e_level0_col11\" class=\"col_heading level0 col11\" >chart</th>\n",
       "    </tr>\n",
       "  </thead>\n",
       "  <tbody>\n",
       "    <tr>\n",
       "      <td id=\"T_7015e_row0_col0\" class=\"data row0 col0\" >PTT</td>\n",
       "      <td id=\"T_7015e_row0_col1\" class=\"data row0 col1\" >1353</td>\n",
       "      <td id=\"T_7015e_row0_col2\" class=\"data row0 col2\" >118</td>\n",
       "      <td id=\"T_7015e_row0_col3\" class=\"data row0 col3\" >2025-10-16</td>\n",
       "      <td id=\"T_7015e_row0_col4\" class=\"data row0 col4\" >2,500</td>\n",
       "      <td id=\"T_7015e_row0_col5\" class=\"data row0 col5\" >31.00</td>\n",
       "      <td id=\"T_7015e_row0_col6\" class=\"data row0 col6\" >160.43</td>\n",
       "      <td id=\"T_7015e_row0_col7\" class=\"data row0 col7\" >11.23</td>\n",
       "      <td id=\"T_7015e_row0_col8\" class=\"data row0 col8\" >Active</td>\n",
       "      <td id=\"T_7015e_row0_col9\" class=\"data row0 col9\" >77,671.66</td>\n",
       "      <td id=\"T_7015e_row0_col10\" class=\"data row0 col10\" >HD</td>\n",
       "      <td id=\"T_7015e_row0_col11\" class=\"data row0 col11\" >None</td>\n",
       "    </tr>\n",
       "    <tr>\n",
       "      <td id=\"T_7015e_row1_col0\" class=\"data row1 col0\" >PTT</td>\n",
       "      <td id=\"T_7015e_row1_col1\" class=\"data row1 col1\" >1349</td>\n",
       "      <td id=\"T_7015e_row1_col2\" class=\"data row1 col2\" >118</td>\n",
       "      <td id=\"T_7015e_row1_col3\" class=\"data row1 col3\" >2025-09-19</td>\n",
       "      <td id=\"T_7015e_row1_col4\" class=\"data row1 col4\" >2,500</td>\n",
       "      <td id=\"T_7015e_row1_col5\" class=\"data row1 col5\" >33.00</td>\n",
       "      <td id=\"T_7015e_row1_col6\" class=\"data row1 col6\" >170.78</td>\n",
       "      <td id=\"T_7015e_row1_col7\" class=\"data row1 col7\" >11.95</td>\n",
       "      <td id=\"T_7015e_row1_col8\" class=\"data row1 col8\" >Active</td>\n",
       "      <td id=\"T_7015e_row1_col9\" class=\"data row1 col9\" >82,682.73</td>\n",
       "      <td id=\"T_7015e_row1_col10\" class=\"data row1 col10\" >HD</td>\n",
       "      <td id=\"T_7015e_row1_col11\" class=\"data row1 col11\" >None</td>\n",
       "    </tr>\n",
       "    <tr>\n",
       "      <td id=\"T_7015e_row2_col0\" class=\"data row2 col0\" >PTT</td>\n",
       "      <td id=\"T_7015e_row2_col1\" class=\"data row2 col1\" >1345</td>\n",
       "      <td id=\"T_7015e_row2_col2\" class=\"data row2 col2\" >118</td>\n",
       "      <td id=\"T_7015e_row2_col3\" class=\"data row2 col3\" >2025-09-01</td>\n",
       "      <td id=\"T_7015e_row2_col4\" class=\"data row2 col4\" >2,500</td>\n",
       "      <td id=\"T_7015e_row2_col5\" class=\"data row2 col5\" >31.00</td>\n",
       "      <td id=\"T_7015e_row2_col6\" class=\"data row2 col6\" >160.43</td>\n",
       "      <td id=\"T_7015e_row2_col7\" class=\"data row2 col7\" >11.23</td>\n",
       "      <td id=\"T_7015e_row2_col8\" class=\"data row2 col8\" >Active</td>\n",
       "      <td id=\"T_7015e_row2_col9\" class=\"data row2 col9\" >77,671.66</td>\n",
       "      <td id=\"T_7015e_row2_col10\" class=\"data row2 col10\" >HD</td>\n",
       "      <td id=\"T_7015e_row2_col11\" class=\"data row2 col11\" >None</td>\n",
       "    </tr>\n",
       "    <tr>\n",
       "      <td id=\"T_7015e_row3_col0\" class=\"data row3 col0\" >PTT</td>\n",
       "      <td id=\"T_7015e_row3_col1\" class=\"data row3 col1\" >1336</td>\n",
       "      <td id=\"T_7015e_row3_col2\" class=\"data row3 col2\" >118</td>\n",
       "      <td id=\"T_7015e_row3_col3\" class=\"data row3 col3\" >2025-08-08</td>\n",
       "      <td id=\"T_7015e_row3_col4\" class=\"data row3 col4\" >2,500</td>\n",
       "      <td id=\"T_7015e_row3_col5\" class=\"data row3 col5\" >32.00</td>\n",
       "      <td id=\"T_7015e_row3_col6\" class=\"data row3 col6\" >165.60</td>\n",
       "      <td id=\"T_7015e_row3_col7\" class=\"data row3 col7\" >11.59</td>\n",
       "      <td id=\"T_7015e_row3_col8\" class=\"data row3 col8\" >Active</td>\n",
       "      <td id=\"T_7015e_row3_col9\" class=\"data row3 col9\" >80,177.19</td>\n",
       "      <td id=\"T_7015e_row3_col10\" class=\"data row3 col10\" >HD</td>\n",
       "      <td id=\"T_7015e_row3_col11\" class=\"data row3 col11\" >None</td>\n",
       "    </tr>\n",
       "  </tbody>\n",
       "</table>\n"
      ],
      "text/plain": [
       "<pandas.io.formats.style.Styler at 0x17cbe404050>"
      ]
     },
     "execution_count": 37,
     "metadata": {},
     "output_type": "execute_result"
    }
   ],
   "source": [
    "sql = \"\"\"\n",
    "    SELECT name, B.* \n",
    "    FROM buys B\n",
    "    JOIN stocks T \n",
    "    ON B.stock_id = T.id\n",
    "    WHERE name = '{}' AND status = 'Active'\n",
    "    ORDER BY id DESC\n",
    "\"\"\".format(name)\n",
    "df_buys = pd.read_sql(sql, conpf)\n",
    "# Format all floats (pandas 1.4.0+)\n",
    "#display(df_buys.style.format({\n",
    "#    col: '{:,.2f}' for col in df_buys.select_dtypes(include=float).columns\n",
    "#}).hide(axis=\"index\"))\n",
    "df_buys.style.format(format_dict).hide(axis=\"index\")"
   ]
  },
  {
   "cell_type": "code",
   "execution_count": 39,
   "metadata": {},
   "outputs": [
    {
     "name": "stdout",
     "output_type": "stream",
     "text": [
      "Total qty: 10,000\n",
      "Average Unit Cost: 31.75\n"
     ]
    }
   ],
   "source": [
    "# Ensure the DataFrame is sorted by id descending and reset index\n",
    "df_buys = df_buys.sort_values('id', ascending=False).reset_index(drop=True)\n",
    "\n",
    "# Exclude the first row (latest transaction)\n",
    "#excluded_df = df_buys.iloc[1:]\n",
    "\n",
    "# Calculate total price*qty and total qty\n",
    "total_price_qty = (df_buys['price'] * df_buys['qty']).sum()\n",
    "total_qty = df_buys['qty'].sum()\n",
    "\n",
    "# Compute average unit cost\n",
    "average_unit_cost = total_price_qty / total_qty\n",
    "\n",
    "print(f\"Total qty: {total_qty:,.0f}\")\n",
    "print(f\"Average Unit Cost: {average_unit_cost:.2f}\")"
   ]
  },
  {
   "cell_type": "code",
   "execution_count": 41,
   "metadata": {},
   "outputs": [
    {
     "name": "stdout",
     "output_type": "stream",
     "text": [
      "Average unit cost excluding latest row: 32.00\n",
      "Average unit cost including latest row: 31.75\n"
     ]
    }
   ],
   "source": [
    "# Excluding latest row\n",
    "df_excluding_latest = df_buys[df_buys['id'] != df_buys['id'].max()]\n",
    "avg_excluding = (df_excluding_latest.eval('qty * price').sum() / \n",
    "                 df_excluding_latest['qty'].sum())\n",
    "\n",
    "# Including all rows\n",
    "avg_including = (df_buys.eval('qty * price').sum() / df_buys['qty'].sum())\n",
    "\n",
    "print(f\"Average unit cost excluding latest row: {avg_excluding:.2f}\")\n",
    "print(f\"Average unit cost including latest row: {avg_including:.2f}\")"
   ]
  },
  {
   "cell_type": "code",
   "execution_count": 43,
   "metadata": {},
   "outputs": [
    {
     "name": "stdout",
     "output_type": "stream",
     "text": [
      "B PTT 10000 31.75\n"
     ]
    }
   ],
   "source": [
    "new_qty = total_qty\n",
    "new_unit_cost = avg_including\n",
    "print(transaction, name, new_qty, new_unit_cost)"
   ]
  },
  {
   "cell_type": "code",
   "execution_count": 45,
   "metadata": {},
   "outputs": [
    {
     "data": {
      "text/plain": [
       "'Records updated = 1'"
      ]
     },
     "execution_count": 45,
     "metadata": {},
     "output_type": "execute_result"
    }
   ],
   "source": [
    "update_buy(const, name, new_qty, new_unit_cost)"
   ]
  },
  {
   "cell_type": "code",
   "execution_count": 47,
   "metadata": {},
   "outputs": [
    {
     "data": {
      "text/html": [
       "<style type=\"text/css\">\n",
       "</style>\n",
       "<table id=\"T_08265\">\n",
       "  <thead>\n",
       "    <tr>\n",
       "      <th id=\"T_08265_level0_col0\" class=\"col_heading level0 col0\" >name</th>\n",
       "      <th id=\"T_08265_level0_col1\" class=\"col_heading level0 col1\" >date</th>\n",
       "      <th id=\"T_08265_level0_col2\" class=\"col_heading level0 col2\" >shares</th>\n",
       "      <th id=\"T_08265_level0_col3\" class=\"col_heading level0 col3\" >price</th>\n",
       "      <th id=\"T_08265_level0_col4\" class=\"col_heading level0 col4\" >active</th>\n",
       "      <th id=\"T_08265_level0_col5\" class=\"col_heading level0 col5\" >period</th>\n",
       "      <th id=\"T_08265_level0_col6\" class=\"col_heading level0 col6\" >grade</th>\n",
       "    </tr>\n",
       "  </thead>\n",
       "  <tbody>\n",
       "    <tr>\n",
       "      <td id=\"T_08265_row0_col0\" class=\"data row0 col0\" >PTT</td>\n",
       "      <td id=\"T_08265_row0_col1\" class=\"data row0 col1\" >2025-08-08</td>\n",
       "      <td id=\"T_08265_row0_col2\" class=\"data row0 col2\" >10,000</td>\n",
       "      <td id=\"T_08265_row0_col3\" class=\"data row0 col3\" >31.75</td>\n",
       "      <td id=\"T_08265_row0_col4\" class=\"data row0 col4\" >1</td>\n",
       "      <td id=\"T_08265_row0_col5\" class=\"data row0 col5\" >2</td>\n",
       "      <td id=\"T_08265_row0_col6\" class=\"data row0 col6\" >A2</td>\n",
       "    </tr>\n",
       "  </tbody>\n",
       "</table>\n"
      ],
      "text/plain": [
       "<pandas.io.formats.style.Styler at 0x17cbb4a96a0>"
      ]
     },
     "execution_count": 47,
     "metadata": {},
     "output_type": "execute_result"
    }
   ],
   "source": [
    "show_buy(const, name)"
   ]
  },
  {
   "cell_type": "markdown",
   "metadata": {},
   "source": [
    "### In case of totally new stock"
   ]
  },
  {
   "cell_type": "code",
   "execution_count": 72,
   "metadata": {},
   "outputs": [],
   "source": [
    "if df_buy.empty:\n",
    "    rcd = {\n",
    "        'name': 'CPF',\n",
    "        'date': '2025-08-21',\n",
    "        'volbuy': 4000,\n",
    "        'price': 24.1,\n",
    "        'volsell': 0,\n",
    "        'volbal': 0,\n",
    "        'active': 1,\n",
    "        'dividend': 0,\n",
    "        'period': 4,\n",
    "        'grade': 'A1'\n",
    "    }\n",
    "    sqlIns = text(\"\"\"\n",
    "    INSERT INTO buy (name, date, volbuy, price, volsell, volbal, active, dividend, period, grade)\n",
    "    VALUES (:name, :date, :volbuy, :price, :volsell, :volbal, :active, :dividend, :period, :grade)\n",
    "    \"\"\")\n",
    "    result = const.execute(sqlIns, rcd)\n",
    "    result.rowcount"
   ]
  },
  {
   "cell_type": "code",
   "execution_count": 74,
   "metadata": {},
   "outputs": [
    {
     "data": {
      "text/html": [
       "<style type=\"text/css\">\n",
       "</style>\n",
       "<table id=\"T_9db0c\">\n",
       "  <thead>\n",
       "    <tr>\n",
       "      <th id=\"T_9db0c_level0_col0\" class=\"col_heading level0 col0\" >name</th>\n",
       "      <th id=\"T_9db0c_level0_col1\" class=\"col_heading level0 col1\" >date</th>\n",
       "      <th id=\"T_9db0c_level0_col2\" class=\"col_heading level0 col2\" >shares</th>\n",
       "      <th id=\"T_9db0c_level0_col3\" class=\"col_heading level0 col3\" >price</th>\n",
       "      <th id=\"T_9db0c_level0_col4\" class=\"col_heading level0 col4\" >active</th>\n",
       "      <th id=\"T_9db0c_level0_col5\" class=\"col_heading level0 col5\" >period</th>\n",
       "      <th id=\"T_9db0c_level0_col6\" class=\"col_heading level0 col6\" >grade</th>\n",
       "    </tr>\n",
       "  </thead>\n",
       "  <tbody>\n",
       "    <tr>\n",
       "      <td id=\"T_9db0c_row0_col0\" class=\"data row0 col0\" >PTT</td>\n",
       "      <td id=\"T_9db0c_row0_col1\" class=\"data row0 col1\" >2025-08-08</td>\n",
       "      <td id=\"T_9db0c_row0_col2\" class=\"data row0 col2\" >7,500</td>\n",
       "      <td id=\"T_9db0c_row0_col3\" class=\"data row0 col3\" >32.00</td>\n",
       "      <td id=\"T_9db0c_row0_col4\" class=\"data row0 col4\" >1</td>\n",
       "      <td id=\"T_9db0c_row0_col5\" class=\"data row0 col5\" >2</td>\n",
       "      <td id=\"T_9db0c_row0_col6\" class=\"data row0 col6\" >A2</td>\n",
       "    </tr>\n",
       "  </tbody>\n",
       "</table>\n"
      ],
      "text/plain": [
       "<pandas.io.formats.style.Styler at 0x15e841127e0>"
      ]
     },
     "execution_count": 74,
     "metadata": {},
     "output_type": "execute_result"
    }
   ],
   "source": [
    "show_buy(const, name)"
   ]
  },
  {
   "cell_type": "markdown",
   "metadata": {},
   "source": [
    "### End of Update buy table in MySQL database from buy transaction"
   ]
  },
  {
   "cell_type": "markdown",
   "metadata": {},
   "source": [
    "### Begin of Update dividend table in MySQL stock database from buy transaction"
   ]
  },
  {
   "cell_type": "code",
   "execution_count": 49,
   "metadata": {},
   "outputs": [
    {
     "data": {
      "text/html": [
       "<style type=\"text/css\">\n",
       "</style>\n",
       "<table id=\"T_a0a10\">\n",
       "  <thead>\n",
       "    <tr>\n",
       "      <th id=\"T_a0a10_level0_col0\" class=\"col_heading level0 col0\" >name</th>\n",
       "      <th id=\"T_a0a10_level0_col1\" class=\"col_heading level0 col1\" >q4</th>\n",
       "      <th id=\"T_a0a10_level0_col2\" class=\"col_heading level0 col2\" >q3</th>\n",
       "      <th id=\"T_a0a10_level0_col3\" class=\"col_heading level0 col3\" >q2</th>\n",
       "      <th id=\"T_a0a10_level0_col4\" class=\"col_heading level0 col4\" >q1</th>\n",
       "      <th id=\"T_a0a10_level0_col5\" class=\"col_heading level0 col5\" >dividend</th>\n",
       "      <th id=\"T_a0a10_level0_col6\" class=\"col_heading level0 col6\" >price</th>\n",
       "      <th id=\"T_a0a10_level0_col7\" class=\"col_heading level0 col7\" >percent</th>\n",
       "      <th id=\"T_a0a10_level0_col8\" class=\"col_heading level0 col8\" >shares</th>\n",
       "      <th id=\"T_a0a10_level0_col9\" class=\"col_heading level0 col9\" >xdate</th>\n",
       "      <th id=\"T_a0a10_level0_col10\" class=\"col_heading level0 col10\" >paiddate</th>\n",
       "      <th id=\"T_a0a10_level0_col11\" class=\"col_heading level0 col11\" >kind</th>\n",
       "      <th id=\"T_a0a10_level0_col12\" class=\"col_heading level0 col12\" >actual</th>\n",
       "    </tr>\n",
       "  </thead>\n",
       "  <tbody>\n",
       "    <tr>\n",
       "      <td id=\"T_a0a10_row0_col0\" class=\"data row0 col0\" >PTT</td>\n",
       "      <td id=\"T_a0a10_row0_col1\" class=\"data row0 col1\" >1.3000</td>\n",
       "      <td id=\"T_a0a10_row0_col2\" class=\"data row0 col2\" >0.0000</td>\n",
       "      <td id=\"T_a0a10_row0_col3\" class=\"data row0 col3\" >0.9000</td>\n",
       "      <td id=\"T_a0a10_row0_col4\" class=\"data row0 col4\" >0.0000</td>\n",
       "      <td id=\"T_a0a10_row0_col5\" class=\"data row0 col5\" >2.2000</td>\n",
       "      <td id=\"T_a0a10_row0_col6\" class=\"data row0 col6\" >0.00</td>\n",
       "      <td id=\"T_a0a10_row0_col7\" class=\"data row0 col7\" >0.00%</td>\n",
       "      <td id=\"T_a0a10_row0_col8\" class=\"data row0 col8\" >7,500</td>\n",
       "      <td id=\"T_a0a10_row0_col9\" class=\"data row0 col9\" >2025-09-01</td>\n",
       "      <td id=\"T_a0a10_row0_col10\" class=\"data row0 col10\" >2025-09-17</td>\n",
       "      <td id=\"T_a0a10_row0_col11\" class=\"data row0 col11\" ></td>\n",
       "      <td id=\"T_a0a10_row0_col12\" class=\"data row0 col12\" >1</td>\n",
       "    </tr>\n",
       "  </tbody>\n",
       "</table>\n"
      ],
      "text/plain": [
       "<pandas.io.formats.style.Styler at 0x17cbf181be0>"
      ]
     },
     "execution_count": 49,
     "metadata": {},
     "output_type": "execute_result"
    }
   ],
   "source": [
    "sql = \"\"\"\n",
    "    SELECT * \n",
    "    FROM dividend \n",
    "    WHERE name = '{}'\n",
    "\"\"\".format(name)\n",
    "    \n",
    "df_dividend = pd.read_sql(sql, const)\n",
    "df_dividend.columns = df_dividend.columns.str.lower()\n",
    "df_dividend['shares'] = df_dividend['shares'].astype('int64')\n",
    "\n",
    "df_dividend.style.format(format_dict).hide(axis=\"index\")"
   ]
  },
  {
   "cell_type": "code",
   "execution_count": 51,
   "metadata": {},
   "outputs": [
    {
     "data": {
      "text/html": [
       "<style type=\"text/css\">\n",
       "</style>\n",
       "<table id=\"T_39a59\">\n",
       "  <thead>\n",
       "    <tr>\n",
       "      <th id=\"T_39a59_level0_col0\" class=\"col_heading level0 col0\" >name</th>\n",
       "      <th id=\"T_39a59_level0_col1\" class=\"col_heading level0 col1\" >q4</th>\n",
       "      <th id=\"T_39a59_level0_col2\" class=\"col_heading level0 col2\" >q3</th>\n",
       "      <th id=\"T_39a59_level0_col3\" class=\"col_heading level0 col3\" >q2</th>\n",
       "      <th id=\"T_39a59_level0_col4\" class=\"col_heading level0 col4\" >q1</th>\n",
       "      <th id=\"T_39a59_level0_col5\" class=\"col_heading level0 col5\" >dividend</th>\n",
       "      <th id=\"T_39a59_level0_col6\" class=\"col_heading level0 col6\" >shares</th>\n",
       "      <th id=\"T_39a59_level0_col7\" class=\"col_heading level0 col7\" >xdate</th>\n",
       "      <th id=\"T_39a59_level0_col8\" class=\"col_heading level0 col8\" >paiddate</th>\n",
       "      <th id=\"T_39a59_level0_col9\" class=\"col_heading level0 col9\" >kind</th>\n",
       "      <th id=\"T_39a59_level0_col10\" class=\"col_heading level0 col10\" >actual</th>\n",
       "    </tr>\n",
       "  </thead>\n",
       "  <tbody>\n",
       "    <tr>\n",
       "      <td id=\"T_39a59_row0_col0\" class=\"data row0 col0\" >PTT</td>\n",
       "      <td id=\"T_39a59_row0_col1\" class=\"data row0 col1\" >1.3000</td>\n",
       "      <td id=\"T_39a59_row0_col2\" class=\"data row0 col2\" >0.0000</td>\n",
       "      <td id=\"T_39a59_row0_col3\" class=\"data row0 col3\" >0.9000</td>\n",
       "      <td id=\"T_39a59_row0_col4\" class=\"data row0 col4\" >0.0000</td>\n",
       "      <td id=\"T_39a59_row0_col5\" class=\"data row0 col5\" >2.2000</td>\n",
       "      <td id=\"T_39a59_row0_col6\" class=\"data row0 col6\" >7,500</td>\n",
       "      <td id=\"T_39a59_row0_col7\" class=\"data row0 col7\" >2025-09-01</td>\n",
       "      <td id=\"T_39a59_row0_col8\" class=\"data row0 col8\" >2025-09-17</td>\n",
       "      <td id=\"T_39a59_row0_col9\" class=\"data row0 col9\" ></td>\n",
       "      <td id=\"T_39a59_row0_col10\" class=\"data row0 col10\" >1</td>\n",
       "    </tr>\n",
       "  </tbody>\n",
       "</table>\n"
      ],
      "text/plain": [
       "<pandas.io.formats.style.Styler at 0x17cbf112d20>"
      ]
     },
     "execution_count": 51,
     "metadata": {},
     "output_type": "execute_result"
    }
   ],
   "source": [
    "show_dividend(const, name)"
   ]
  },
  {
   "cell_type": "code",
   "execution_count": 53,
   "metadata": {},
   "outputs": [
    {
     "name": "stdout",
     "output_type": "stream",
     "text": [
      "PTT 10000\n"
     ]
    }
   ],
   "source": [
    "new_qty = total_qty\n",
    "print(name, new_qty)"
   ]
  },
  {
   "cell_type": "code",
   "execution_count": 55,
   "metadata": {},
   "outputs": [
    {
     "data": {
      "text/plain": [
       "'Records updated = 1'"
      ]
     },
     "execution_count": 55,
     "metadata": {},
     "output_type": "execute_result"
    }
   ],
   "source": [
    "update_dividend(const, name, new_qty)"
   ]
  },
  {
   "cell_type": "code",
   "execution_count": 57,
   "metadata": {},
   "outputs": [
    {
     "data": {
      "text/html": [
       "<style type=\"text/css\">\n",
       "</style>\n",
       "<table id=\"T_54904\">\n",
       "  <thead>\n",
       "    <tr>\n",
       "      <th id=\"T_54904_level0_col0\" class=\"col_heading level0 col0\" >name</th>\n",
       "      <th id=\"T_54904_level0_col1\" class=\"col_heading level0 col1\" >q4</th>\n",
       "      <th id=\"T_54904_level0_col2\" class=\"col_heading level0 col2\" >q3</th>\n",
       "      <th id=\"T_54904_level0_col3\" class=\"col_heading level0 col3\" >q2</th>\n",
       "      <th id=\"T_54904_level0_col4\" class=\"col_heading level0 col4\" >q1</th>\n",
       "      <th id=\"T_54904_level0_col5\" class=\"col_heading level0 col5\" >dividend</th>\n",
       "      <th id=\"T_54904_level0_col6\" class=\"col_heading level0 col6\" >shares</th>\n",
       "      <th id=\"T_54904_level0_col7\" class=\"col_heading level0 col7\" >xdate</th>\n",
       "      <th id=\"T_54904_level0_col8\" class=\"col_heading level0 col8\" >paiddate</th>\n",
       "      <th id=\"T_54904_level0_col9\" class=\"col_heading level0 col9\" >kind</th>\n",
       "      <th id=\"T_54904_level0_col10\" class=\"col_heading level0 col10\" >actual</th>\n",
       "    </tr>\n",
       "  </thead>\n",
       "  <tbody>\n",
       "    <tr>\n",
       "      <td id=\"T_54904_row0_col0\" class=\"data row0 col0\" >PTT</td>\n",
       "      <td id=\"T_54904_row0_col1\" class=\"data row0 col1\" >1.3000</td>\n",
       "      <td id=\"T_54904_row0_col2\" class=\"data row0 col2\" >0.0000</td>\n",
       "      <td id=\"T_54904_row0_col3\" class=\"data row0 col3\" >0.9000</td>\n",
       "      <td id=\"T_54904_row0_col4\" class=\"data row0 col4\" >0.0000</td>\n",
       "      <td id=\"T_54904_row0_col5\" class=\"data row0 col5\" >2.2000</td>\n",
       "      <td id=\"T_54904_row0_col6\" class=\"data row0 col6\" >10,000</td>\n",
       "      <td id=\"T_54904_row0_col7\" class=\"data row0 col7\" >2025-09-01</td>\n",
       "      <td id=\"T_54904_row0_col8\" class=\"data row0 col8\" >2025-09-17</td>\n",
       "      <td id=\"T_54904_row0_col9\" class=\"data row0 col9\" ></td>\n",
       "      <td id=\"T_54904_row0_col10\" class=\"data row0 col10\" >1</td>\n",
       "    </tr>\n",
       "  </tbody>\n",
       "</table>\n"
      ],
      "text/plain": [
       "<pandas.io.formats.style.Styler at 0x17cbf2e3410>"
      ]
     },
     "execution_count": 57,
     "metadata": {},
     "output_type": "execute_result"
    }
   ],
   "source": [
    "show_dividend(const, name)"
   ]
  },
  {
   "cell_type": "markdown",
   "metadata": {},
   "source": [
    "### In case of totally new dividend"
   ]
  },
  {
   "cell_type": "code",
   "execution_count": 34,
   "metadata": {},
   "outputs": [],
   "source": [
    "if df_dividend.empty:\n",
    "    rcd = {\n",
    "        'name': 'CPF',\n",
    "        'q4': '0',\n",
    "        'q3': '0',\n",
    "        'q2': '1.00',\n",
    "        'q1': '0',    \n",
    "        'dividend': '1.00',      \n",
    "        'shares': 4000,\n",
    "        'xdate': '2025-08-29',\n",
    "        'paiddate': '2025-09-12',\n",
    "        'kind': ' ',\n",
    "        'actual': 1\n",
    "    }\n",
    "    sqlIns = text(\"\"\"\n",
    "    INSERT INTO dividend (name, q4, q3, q2, q1, dividend, shares, xdate, paiddate, kind, actual)\n",
    "    VALUES (:name, :q4, :q3, :q2, :q1, :dividend, :shares, :xdate, :paiddate, :kind, :actual)\n",
    "    \"\"\")\n",
    "    print(sqlIns)"
   ]
  },
  {
   "cell_type": "code",
   "execution_count": 35,
   "metadata": {},
   "outputs": [],
   "source": [
    "if df_dividend.empty:\n",
    "    result = const.execute(sqlIns, rcd)\n",
    "    result.rowcount"
   ]
  },
  {
   "cell_type": "code",
   "execution_count": 36,
   "metadata": {},
   "outputs": [
    {
     "data": {
      "text/html": [
       "<style type=\"text/css\">\n",
       "</style>\n",
       "<table id=\"T_db82f\">\n",
       "  <thead>\n",
       "    <tr>\n",
       "      <th class=\"blank level0\" >&nbsp;</th>\n",
       "      <th id=\"T_db82f_level0_col0\" class=\"col_heading level0 col0\" >name</th>\n",
       "      <th id=\"T_db82f_level0_col1\" class=\"col_heading level0 col1\" >q4</th>\n",
       "      <th id=\"T_db82f_level0_col2\" class=\"col_heading level0 col2\" >q3</th>\n",
       "      <th id=\"T_db82f_level0_col3\" class=\"col_heading level0 col3\" >q2</th>\n",
       "      <th id=\"T_db82f_level0_col4\" class=\"col_heading level0 col4\" >q1</th>\n",
       "      <th id=\"T_db82f_level0_col5\" class=\"col_heading level0 col5\" >dividend</th>\n",
       "      <th id=\"T_db82f_level0_col6\" class=\"col_heading level0 col6\" >shares</th>\n",
       "      <th id=\"T_db82f_level0_col7\" class=\"col_heading level0 col7\" >xdate</th>\n",
       "      <th id=\"T_db82f_level0_col8\" class=\"col_heading level0 col8\" >paiddate</th>\n",
       "      <th id=\"T_db82f_level0_col9\" class=\"col_heading level0 col9\" >kind</th>\n",
       "      <th id=\"T_db82f_level0_col10\" class=\"col_heading level0 col10\" >actual</th>\n",
       "    </tr>\n",
       "  </thead>\n",
       "  <tbody>\n",
       "    <tr>\n",
       "      <th id=\"T_db82f_level0_row0\" class=\"row_heading level0 row0\" >0</th>\n",
       "      <td id=\"T_db82f_row0_col0\" class=\"data row0 col0\" >CPF</td>\n",
       "      <td id=\"T_db82f_row0_col1\" class=\"data row0 col1\" >0.5500</td>\n",
       "      <td id=\"T_db82f_row0_col2\" class=\"data row0 col2\" >0.0000</td>\n",
       "      <td id=\"T_db82f_row0_col3\" class=\"data row0 col3\" >1.0000</td>\n",
       "      <td id=\"T_db82f_row0_col4\" class=\"data row0 col4\" >0.0000</td>\n",
       "      <td id=\"T_db82f_row0_col5\" class=\"data row0 col5\" >1.5500</td>\n",
       "      <td id=\"T_db82f_row0_col6\" class=\"data row0 col6\" >-10,000</td>\n",
       "      <td id=\"T_db82f_row0_col7\" class=\"data row0 col7\" >2025-08-29</td>\n",
       "      <td id=\"T_db82f_row0_col8\" class=\"data row0 col8\" >2025-09-12</td>\n",
       "      <td id=\"T_db82f_row0_col9\" class=\"data row0 col9\" ></td>\n",
       "      <td id=\"T_db82f_row0_col10\" class=\"data row0 col10\" >1</td>\n",
       "    </tr>\n",
       "  </tbody>\n",
       "</table>\n"
      ],
      "text/plain": [
       "<pandas.io.formats.style.Styler at 0x21257618d10>"
      ]
     },
     "execution_count": 36,
     "metadata": {},
     "output_type": "execute_result"
    }
   ],
   "source": [
    "show_dividend(const, name)"
   ]
  },
  {
   "cell_type": "markdown",
   "metadata": {},
   "source": [
    "### Begin of Update stocks table in SQLite port_lite database from buy transaction"
   ]
  },
  {
   "cell_type": "code",
   "execution_count": 59,
   "metadata": {},
   "outputs": [
    {
     "data": {
      "text/html": [
       "<style type=\"text/css\">\n",
       "</style>\n",
       "<table id=\"T_518a8\">\n",
       "  <thead>\n",
       "    <tr>\n",
       "      <th id=\"T_518a8_level0_col0\" class=\"col_heading level0 col0\" >name</th>\n",
       "      <th id=\"T_518a8_level0_col1\" class=\"col_heading level0 col1\" >cost</th>\n",
       "      <th id=\"T_518a8_level0_col2\" class=\"col_heading level0 col2\" >available_qty</th>\n",
       "    </tr>\n",
       "  </thead>\n",
       "  <tbody>\n",
       "    <tr>\n",
       "      <td id=\"T_518a8_row0_col0\" class=\"data row0 col0\" >PTT</td>\n",
       "      <td id=\"T_518a8_row0_col1\" class=\"data row0 col1\" >32.00</td>\n",
       "      <td id=\"T_518a8_row0_col2\" class=\"data row0 col2\" >7,500</td>\n",
       "    </tr>\n",
       "  </tbody>\n",
       "</table>\n"
      ],
      "text/plain": [
       "<pandas.io.formats.style.Styler at 0x17cbf28ed20>"
      ]
     },
     "execution_count": 59,
     "metadata": {},
     "output_type": "execute_result"
    }
   ],
   "source": [
    "sql = \"\"\"\n",
    "    SELECT name, cost, CAST(available_qty AS INTEGER) as available_qty\n",
    "    FROM stocks\n",
    "    WHERE name = '{}'\n",
    "\"\"\".format(name)\n",
    "\n",
    "df_stocks = pd.read_sql(sql, conlite)\n",
    "df_stocks['available_qty'] = df_stocks['available_qty'].astype('int64')\n",
    "df_stocks.style.format(format_dict).hide(axis=\"index\")"
   ]
  },
  {
   "cell_type": "code",
   "execution_count": 61,
   "metadata": {},
   "outputs": [
    {
     "data": {
      "text/html": [
       "<style type=\"text/css\">\n",
       "</style>\n",
       "<table id=\"T_9c84a\">\n",
       "  <thead>\n",
       "    <tr>\n",
       "      <th id=\"T_9c84a_level0_col0\" class=\"col_heading level0 col0\" >id</th>\n",
       "      <th id=\"T_9c84a_level0_col1\" class=\"col_heading level0 col1\" >name</th>\n",
       "      <th id=\"T_9c84a_level0_col2\" class=\"col_heading level0 col2\" >max_price</th>\n",
       "      <th id=\"T_9c84a_level0_col3\" class=\"col_heading level0 col3\" >min_price</th>\n",
       "      <th id=\"T_9c84a_level0_col4\" class=\"col_heading level0 col4\" >status</th>\n",
       "      <th id=\"T_9c84a_level0_col5\" class=\"col_heading level0 col5\" >buy_target</th>\n",
       "      <th id=\"T_9c84a_level0_col6\" class=\"col_heading level0 col6\" >sell_target</th>\n",
       "      <th id=\"T_9c84a_level0_col7\" class=\"col_heading level0 col7\" >volume</th>\n",
       "      <th id=\"T_9c84a_level0_col8\" class=\"col_heading level0 col8\" >beta</th>\n",
       "      <th id=\"T_9c84a_level0_col9\" class=\"col_heading level0 col9\" >cost</th>\n",
       "      <th id=\"T_9c84a_level0_col10\" class=\"col_heading level0 col10\" >qty</th>\n",
       "      <th id=\"T_9c84a_level0_col11\" class=\"col_heading level0 col11\" >buy_spread</th>\n",
       "      <th id=\"T_9c84a_level0_col12\" class=\"col_heading level0 col12\" >sell_spread</th>\n",
       "      <th id=\"T_9c84a_level0_col13\" class=\"col_heading level0 col13\" >available_qty</th>\n",
       "      <th id=\"T_9c84a_level0_col14\" class=\"col_heading level0 col14\" >bl</th>\n",
       "      <th id=\"T_9c84a_level0_col15\" class=\"col_heading level0 col15\" >sh</th>\n",
       "      <th id=\"T_9c84a_level0_col16\" class=\"col_heading level0 col16\" >reason</th>\n",
       "      <th id=\"T_9c84a_level0_col17\" class=\"col_heading level0 col17\" >market</th>\n",
       "    </tr>\n",
       "  </thead>\n",
       "  <tbody>\n",
       "    <tr>\n",
       "      <td id=\"T_9c84a_row0_col0\" class=\"data row0 col0\" >151</td>\n",
       "      <td id=\"T_9c84a_row0_col1\" class=\"data row0 col1\" >PTT</td>\n",
       "      <td id=\"T_9c84a_row0_col2\" class=\"data row0 col2\" >35.00</td>\n",
       "      <td id=\"T_9c84a_row0_col3\" class=\"data row0 col3\" >27.00</td>\n",
       "      <td id=\"T_9c84a_row0_col4\" class=\"data row0 col4\" >S</td>\n",
       "      <td id=\"T_9c84a_row0_col5\" class=\"data row0 col5\" >32.00</td>\n",
       "      <td id=\"T_9c84a_row0_col6\" class=\"data row0 col6\" >35.25</td>\n",
       "      <td id=\"T_9c84a_row0_col7\" class=\"data row0 col7\" >0</td>\n",
       "      <td id=\"T_9c84a_row0_col8\" class=\"data row0 col8\" >0.54</td>\n",
       "      <td id=\"T_9c84a_row0_col9\" class=\"data row0 col9\" >32.00</td>\n",
       "      <td id=\"T_9c84a_row0_col10\" class=\"data row0 col10\" >2,500</td>\n",
       "      <td id=\"T_9c84a_row0_col11\" class=\"data row0 col11\" >-4</td>\n",
       "      <td id=\"T_9c84a_row0_col12\" class=\"data row0 col12\" >4</td>\n",
       "      <td id=\"T_9c84a_row0_col13\" class=\"data row0 col13\" >7,500</td>\n",
       "      <td id=\"T_9c84a_row0_col14\" class=\"data row0 col14\" >0.000000</td>\n",
       "      <td id=\"T_9c84a_row0_col15\" class=\"data row0 col15\" >0.000000</td>\n",
       "      <td id=\"T_9c84a_row0_col16\" class=\"data row0 col16\" ></td>\n",
       "      <td id=\"T_9c84a_row0_col17\" class=\"data row0 col17\" >SET50</td>\n",
       "    </tr>\n",
       "  </tbody>\n",
       "</table>\n"
      ],
      "text/plain": [
       "<pandas.io.formats.style.Styler at 0x17cbf319f70>"
      ]
     },
     "execution_count": 61,
     "metadata": {},
     "output_type": "execute_result"
    }
   ],
   "source": [
    "show_stocks(conlite, name)"
   ]
  },
  {
   "cell_type": "code",
   "execution_count": 65,
   "metadata": {},
   "outputs": [
    {
     "name": "stdout",
     "output_type": "stream",
     "text": [
      "B PTT 10000 31.0 30.5 31.5 2500\n"
     ]
    }
   ],
   "source": [
    "new_buy_target = 30.50\n",
    "new_sell_target = 31.50\n",
    "new_buy_qty = 2_500\n",
    "print(transaction, name, new_qty, buy_price, new_buy_target, new_sell_target, new_buy_qty)"
   ]
  },
  {
   "cell_type": "code",
   "execution_count": 67,
   "metadata": {},
   "outputs": [
    {
     "name": "stdout",
     "output_type": "stream",
     "text": [
      "Updating PTT with available_qty = 10000 (type: <class 'numpy.int64'>)\n",
      "Value after update: 10000 (type: <class 'int'>)\n"
     ]
    },
    {
     "data": {
      "text/plain": [
       "'Records updated = 1'"
      ]
     },
     "execution_count": 67,
     "metadata": {},
     "output_type": "execute_result"
    }
   ],
   "source": [
    "update_stock(conlite, name, new_qty, new_unit_cost, new_buy_target, new_sell_target, new_buy_qty)"
   ]
  },
  {
   "cell_type": "code",
   "execution_count": 69,
   "metadata": {},
   "outputs": [
    {
     "data": {
      "text/html": [
       "<style type=\"text/css\">\n",
       "</style>\n",
       "<table id=\"T_42ee9\">\n",
       "  <thead>\n",
       "    <tr>\n",
       "      <th id=\"T_42ee9_level0_col0\" class=\"col_heading level0 col0\" >id</th>\n",
       "      <th id=\"T_42ee9_level0_col1\" class=\"col_heading level0 col1\" >name</th>\n",
       "      <th id=\"T_42ee9_level0_col2\" class=\"col_heading level0 col2\" >max_price</th>\n",
       "      <th id=\"T_42ee9_level0_col3\" class=\"col_heading level0 col3\" >min_price</th>\n",
       "      <th id=\"T_42ee9_level0_col4\" class=\"col_heading level0 col4\" >status</th>\n",
       "      <th id=\"T_42ee9_level0_col5\" class=\"col_heading level0 col5\" >buy_target</th>\n",
       "      <th id=\"T_42ee9_level0_col6\" class=\"col_heading level0 col6\" >sell_target</th>\n",
       "      <th id=\"T_42ee9_level0_col7\" class=\"col_heading level0 col7\" >volume</th>\n",
       "      <th id=\"T_42ee9_level0_col8\" class=\"col_heading level0 col8\" >beta</th>\n",
       "      <th id=\"T_42ee9_level0_col9\" class=\"col_heading level0 col9\" >cost</th>\n",
       "      <th id=\"T_42ee9_level0_col10\" class=\"col_heading level0 col10\" >qty</th>\n",
       "      <th id=\"T_42ee9_level0_col11\" class=\"col_heading level0 col11\" >buy_spread</th>\n",
       "      <th id=\"T_42ee9_level0_col12\" class=\"col_heading level0 col12\" >sell_spread</th>\n",
       "      <th id=\"T_42ee9_level0_col13\" class=\"col_heading level0 col13\" >available_qty</th>\n",
       "      <th id=\"T_42ee9_level0_col14\" class=\"col_heading level0 col14\" >bl</th>\n",
       "      <th id=\"T_42ee9_level0_col15\" class=\"col_heading level0 col15\" >sh</th>\n",
       "      <th id=\"T_42ee9_level0_col16\" class=\"col_heading level0 col16\" >reason</th>\n",
       "      <th id=\"T_42ee9_level0_col17\" class=\"col_heading level0 col17\" >market</th>\n",
       "    </tr>\n",
       "  </thead>\n",
       "  <tbody>\n",
       "    <tr>\n",
       "      <td id=\"T_42ee9_row0_col0\" class=\"data row0 col0\" >151</td>\n",
       "      <td id=\"T_42ee9_row0_col1\" class=\"data row0 col1\" >PTT</td>\n",
       "      <td id=\"T_42ee9_row0_col2\" class=\"data row0 col2\" >35.00</td>\n",
       "      <td id=\"T_42ee9_row0_col3\" class=\"data row0 col3\" >27.00</td>\n",
       "      <td id=\"T_42ee9_row0_col4\" class=\"data row0 col4\" >S</td>\n",
       "      <td id=\"T_42ee9_row0_col5\" class=\"data row0 col5\" >30.50</td>\n",
       "      <td id=\"T_42ee9_row0_col6\" class=\"data row0 col6\" >31.50</td>\n",
       "      <td id=\"T_42ee9_row0_col7\" class=\"data row0 col7\" >0</td>\n",
       "      <td id=\"T_42ee9_row0_col8\" class=\"data row0 col8\" >0.54</td>\n",
       "      <td id=\"T_42ee9_row0_col9\" class=\"data row0 col9\" >31.75</td>\n",
       "      <td id=\"T_42ee9_row0_col10\" class=\"data row0 col10\" >2,500</td>\n",
       "      <td id=\"T_42ee9_row0_col11\" class=\"data row0 col11\" >-4</td>\n",
       "      <td id=\"T_42ee9_row0_col12\" class=\"data row0 col12\" >4</td>\n",
       "      <td id=\"T_42ee9_row0_col13\" class=\"data row0 col13\" >10,000</td>\n",
       "      <td id=\"T_42ee9_row0_col14\" class=\"data row0 col14\" >0.000000</td>\n",
       "      <td id=\"T_42ee9_row0_col15\" class=\"data row0 col15\" >0.000000</td>\n",
       "      <td id=\"T_42ee9_row0_col16\" class=\"data row0 col16\" ></td>\n",
       "      <td id=\"T_42ee9_row0_col17\" class=\"data row0 col17\" >SET50</td>\n",
       "    </tr>\n",
       "  </tbody>\n",
       "</table>\n"
      ],
      "text/plain": [
       "<pandas.io.formats.style.Styler at 0x17cbf1601d0>"
      ]
     },
     "execution_count": 69,
     "metadata": {},
     "output_type": "execute_result"
    }
   ],
   "source": [
    "show_stocks(conlite, name)"
   ]
  },
  {
   "cell_type": "markdown",
   "metadata": {},
   "source": [
    "### End of Update stocks table in SQLite port_lite database from buy transaction"
   ]
  },
  {
   "cell_type": "markdown",
   "metadata": {},
   "source": [
    "## End of  Buy transaction"
   ]
  },
  {
   "cell_type": "markdown",
   "metadata": {},
   "source": [
    "### ====================================================="
   ]
  },
  {
   "cell_type": "code",
   "execution_count": 65,
   "metadata": {},
   "outputs": [
    {
     "name": "stdout",
     "output_type": "stream",
     "text": [
      "\n",
      "    SELECT period, buy.grade AS grade, buy.name AS name, buy.date AS date, \n",
      "    FORMAT(volbuy,0) AS volbuy, FORMAT(buy.price,2) AS buy_price, price.price AS mkt_price,\n",
      "    FORMAT((volbuy * buy.price),2) AS amtbuy, FORMAT((volbuy * price.price),2) AS amtmkt, \n",
      "    FORMAT(((price.price - buy.price) * volbuy),2) AS amtpol, \n",
      "    FORMAT((((price.price - buy.price)*volbuy)/(volbuy*buy.price)*100),2) AS pctpol \n",
      "    FROM buy INNER JOIN price ON buy.name = price.name WHERE price.date = '2025-09-15' \n",
      "    ORDER BY period, buy.name\n",
      "\n"
     ]
    }
   ],
   "source": [
    "#price_date = '2025-02-14'\n",
    "sql = \"\"\"\n",
    "    SELECT period, buy.grade AS grade, buy.name AS name, buy.date AS date, \n",
    "    FORMAT(volbuy,0) AS volbuy, FORMAT(buy.price,2) AS buy_price, price.price AS mkt_price,\n",
    "    FORMAT((volbuy * buy.price),2) AS amtbuy, FORMAT((volbuy * price.price),2) AS amtmkt, \n",
    "    FORMAT(((price.price - buy.price) * volbuy),2) AS amtpol, \n",
    "    FORMAT((((price.price - buy.price)*volbuy)/(volbuy*buy.price)*100),2) AS pctpol \n",
    "    FROM buy INNER JOIN price ON buy.name = price.name WHERE price.date = '{}' \n",
    "    ORDER BY period, buy.name\n",
    "\"\"\".format(yesterday)\n",
    "print(sql)"
   ]
  },
  {
   "cell_type": "code",
   "execution_count": 67,
   "metadata": {
    "scrolled": true
   },
   "outputs": [
    {
     "data": {
      "text/html": [
       "<div>\n",
       "<style scoped>\n",
       "    .dataframe tbody tr th:only-of-type {\n",
       "        vertical-align: middle;\n",
       "    }\n",
       "\n",
       "    .dataframe tbody tr th {\n",
       "        vertical-align: top;\n",
       "    }\n",
       "\n",
       "    .dataframe thead th {\n",
       "        text-align: right;\n",
       "    }\n",
       "</style>\n",
       "<table border=\"1\" class=\"dataframe\">\n",
       "  <thead>\n",
       "    <tr style=\"text-align: right;\">\n",
       "      <th></th>\n",
       "      <th>period</th>\n",
       "      <th>grade</th>\n",
       "      <th>name</th>\n",
       "      <th>date</th>\n",
       "      <th>volbuy</th>\n",
       "      <th>buy_price</th>\n",
       "      <th>mkt_price</th>\n",
       "      <th>amtbuy</th>\n",
       "      <th>amtmkt</th>\n",
       "      <th>amtpol</th>\n",
       "      <th>pctpol</th>\n",
       "    </tr>\n",
       "  </thead>\n",
       "  <tbody>\n",
       "    <tr>\n",
       "      <th>0</th>\n",
       "      <td>1</td>\n",
       "      <td>C1</td>\n",
       "      <td>AH</td>\n",
       "      <td>2023-06-08</td>\n",
       "      <td>1,200</td>\n",
       "      <td>37.00</td>\n",
       "      <td>13.90</td>\n",
       "      <td>44,400.00</td>\n",
       "      <td>16,680.00</td>\n",
       "      <td>-27,720.00</td>\n",
       "      <td>-62.43</td>\n",
       "    </tr>\n",
       "    <tr>\n",
       "      <th>1</th>\n",
       "      <td>1</td>\n",
       "      <td>A1</td>\n",
       "      <td>AWC</td>\n",
       "      <td>2023-06-15</td>\n",
       "      <td>9,000</td>\n",
       "      <td>4.96</td>\n",
       "      <td>2.42</td>\n",
       "      <td>44,640.00</td>\n",
       "      <td>21,780.00</td>\n",
       "      <td>-22,860.00</td>\n",
       "      <td>-51.21</td>\n",
       "    </tr>\n",
       "    <tr>\n",
       "      <th>2</th>\n",
       "      <td>1</td>\n",
       "      <td>A2</td>\n",
       "      <td>JMART</td>\n",
       "      <td>2023-01-20</td>\n",
       "      <td>6,800</td>\n",
       "      <td>33.00</td>\n",
       "      <td>10.30</td>\n",
       "      <td>224,400.00</td>\n",
       "      <td>70,040.00</td>\n",
       "      <td>-154,360.00</td>\n",
       "      <td>-68.79</td>\n",
       "    </tr>\n",
       "    <tr>\n",
       "      <th>3</th>\n",
       "      <td>1</td>\n",
       "      <td>C3</td>\n",
       "      <td>JMT</td>\n",
       "      <td>2023-01-26</td>\n",
       "      <td>4,200</td>\n",
       "      <td>55.50</td>\n",
       "      <td>12.80</td>\n",
       "      <td>233,100.00</td>\n",
       "      <td>53,760.00</td>\n",
       "      <td>-179,340.00</td>\n",
       "      <td>-76.94</td>\n",
       "    </tr>\n",
       "    <tr>\n",
       "      <th>4</th>\n",
       "      <td>1</td>\n",
       "      <td>B2</td>\n",
       "      <td>PTG</td>\n",
       "      <td>2023-07-12</td>\n",
       "      <td>3,600</td>\n",
       "      <td>11.40</td>\n",
       "      <td>8.50</td>\n",
       "      <td>41,040.00</td>\n",
       "      <td>30,600.00</td>\n",
       "      <td>-10,440.00</td>\n",
       "      <td>-25.44</td>\n",
       "    </tr>\n",
       "    <tr>\n",
       "      <th>5</th>\n",
       "      <td>1</td>\n",
       "      <td>C1</td>\n",
       "      <td>TOA</td>\n",
       "      <td>2023-09-06</td>\n",
       "      <td>1,000</td>\n",
       "      <td>26.00</td>\n",
       "      <td>14.60</td>\n",
       "      <td>26,000.00</td>\n",
       "      <td>14,600.00</td>\n",
       "      <td>-11,400.00</td>\n",
       "      <td>-43.85</td>\n",
       "    </tr>\n",
       "    <tr>\n",
       "      <th>6</th>\n",
       "      <td>2</td>\n",
       "      <td>A1</td>\n",
       "      <td>AIMIRT</td>\n",
       "      <td>2023-08-17</td>\n",
       "      <td>17,500</td>\n",
       "      <td>10.60</td>\n",
       "      <td>10.10</td>\n",
       "      <td>185,500.00</td>\n",
       "      <td>176,750.00</td>\n",
       "      <td>-8,750.00</td>\n",
       "      <td>-4.72</td>\n",
       "    </tr>\n",
       "    <tr>\n",
       "      <th>7</th>\n",
       "      <td>2</td>\n",
       "      <td>C1</td>\n",
       "      <td>CPNREIT</td>\n",
       "      <td>2022-08-16</td>\n",
       "      <td>55,000</td>\n",
       "      <td>18.00</td>\n",
       "      <td>11.90</td>\n",
       "      <td>990,000.00</td>\n",
       "      <td>654,500.00</td>\n",
       "      <td>-335,500.00</td>\n",
       "      <td>-33.89</td>\n",
       "    </tr>\n",
       "    <tr>\n",
       "      <th>8</th>\n",
       "      <td>2</td>\n",
       "      <td>C1</td>\n",
       "      <td>DIF</td>\n",
       "      <td>2020-08-01</td>\n",
       "      <td>45,000</td>\n",
       "      <td>12.70</td>\n",
       "      <td>9.30</td>\n",
       "      <td>571,500.00</td>\n",
       "      <td>418,500.00</td>\n",
       "      <td>-153,000.00</td>\n",
       "      <td>-26.77</td>\n",
       "    </tr>\n",
       "    <tr>\n",
       "      <th>9</th>\n",
       "      <td>2</td>\n",
       "      <td>C1</td>\n",
       "      <td>GVREIT</td>\n",
       "      <td>2022-08-24</td>\n",
       "      <td>69,000</td>\n",
       "      <td>7.75</td>\n",
       "      <td>6.40</td>\n",
       "      <td>534,750.00</td>\n",
       "      <td>441,600.00</td>\n",
       "      <td>-93,150.00</td>\n",
       "      <td>-17.42</td>\n",
       "    </tr>\n",
       "    <tr>\n",
       "      <th>10</th>\n",
       "      <td>2</td>\n",
       "      <td>A4</td>\n",
       "      <td>MCS</td>\n",
       "      <td>2016-09-20</td>\n",
       "      <td>75,000</td>\n",
       "      <td>15.31</td>\n",
       "      <td>8.70</td>\n",
       "      <td>1,148,400.00</td>\n",
       "      <td>652,500.00</td>\n",
       "      <td>-495,900.00</td>\n",
       "      <td>-43.18</td>\n",
       "    </tr>\n",
       "    <tr>\n",
       "      <th>11</th>\n",
       "      <td>2</td>\n",
       "      <td>A1</td>\n",
       "      <td>NER</td>\n",
       "      <td>2021-09-01</td>\n",
       "      <td>27,000</td>\n",
       "      <td>7.45</td>\n",
       "      <td>4.44</td>\n",
       "      <td>201,150.00</td>\n",
       "      <td>119,880.00</td>\n",
       "      <td>-81,270.00</td>\n",
       "      <td>-40.40</td>\n",
       "    </tr>\n",
       "    <tr>\n",
       "      <th>12</th>\n",
       "      <td>2</td>\n",
       "      <td>A2</td>\n",
       "      <td>PTT</td>\n",
       "      <td>2025-08-08</td>\n",
       "      <td>5,000</td>\n",
       "      <td>31.50</td>\n",
       "      <td>32.75</td>\n",
       "      <td>157,500.00</td>\n",
       "      <td>163,750.00</td>\n",
       "      <td>6,250.00</td>\n",
       "      <td>3.97</td>\n",
       "    </tr>\n",
       "    <tr>\n",
       "      <th>13</th>\n",
       "      <td>2</td>\n",
       "      <td>B1</td>\n",
       "      <td>SENA</td>\n",
       "      <td>2022-03-29</td>\n",
       "      <td>105,000</td>\n",
       "      <td>4.48</td>\n",
       "      <td>1.94</td>\n",
       "      <td>470,400.00</td>\n",
       "      <td>203,700.00</td>\n",
       "      <td>-266,700.00</td>\n",
       "      <td>-56.70</td>\n",
       "    </tr>\n",
       "    <tr>\n",
       "      <th>14</th>\n",
       "      <td>2</td>\n",
       "      <td>C1</td>\n",
       "      <td>TFFIF</td>\n",
       "      <td>2023-07-06</td>\n",
       "      <td>20,000</td>\n",
       "      <td>7.20</td>\n",
       "      <td>6.10</td>\n",
       "      <td>144,000.00</td>\n",
       "      <td>122,000.00</td>\n",
       "      <td>-22,000.00</td>\n",
       "      <td>-15.28</td>\n",
       "    </tr>\n",
       "    <tr>\n",
       "      <th>15</th>\n",
       "      <td>2</td>\n",
       "      <td>B1</td>\n",
       "      <td>WHAIR</td>\n",
       "      <td>2021-10-11</td>\n",
       "      <td>50,000</td>\n",
       "      <td>8.70</td>\n",
       "      <td>5.95</td>\n",
       "      <td>435,000.00</td>\n",
       "      <td>297,500.00</td>\n",
       "      <td>-137,500.00</td>\n",
       "      <td>-31.61</td>\n",
       "    </tr>\n",
       "    <tr>\n",
       "      <th>16</th>\n",
       "      <td>2</td>\n",
       "      <td>C1</td>\n",
       "      <td>WHART</td>\n",
       "      <td>2022-01-05</td>\n",
       "      <td>20,000</td>\n",
       "      <td>12.30</td>\n",
       "      <td>9.65</td>\n",
       "      <td>246,000.00</td>\n",
       "      <td>193,000.00</td>\n",
       "      <td>-53,000.00</td>\n",
       "      <td>-21.54</td>\n",
       "    </tr>\n",
       "    <tr>\n",
       "      <th>17</th>\n",
       "      <td>3</td>\n",
       "      <td>A3</td>\n",
       "      <td>3BBIF</td>\n",
       "      <td>2018-05-17</td>\n",
       "      <td>120,000</td>\n",
       "      <td>10.10</td>\n",
       "      <td>6.75</td>\n",
       "      <td>1,212,000.00</td>\n",
       "      <td>810,000.00</td>\n",
       "      <td>-402,000.00</td>\n",
       "      <td>-33.17</td>\n",
       "    </tr>\n",
       "    <tr>\n",
       "      <th>18</th>\n",
       "      <td>3</td>\n",
       "      <td>B3</td>\n",
       "      <td>BCH</td>\n",
       "      <td>2021-09-07</td>\n",
       "      <td>4,000</td>\n",
       "      <td>21.70</td>\n",
       "      <td>13.40</td>\n",
       "      <td>86,800.00</td>\n",
       "      <td>53,600.00</td>\n",
       "      <td>-33,200.00</td>\n",
       "      <td>-38.25</td>\n",
       "    </tr>\n",
       "    <tr>\n",
       "      <th>19</th>\n",
       "      <td>3</td>\n",
       "      <td>A3</td>\n",
       "      <td>RCL</td>\n",
       "      <td>2021-11-08</td>\n",
       "      <td>27,000</td>\n",
       "      <td>38.80</td>\n",
       "      <td>28.25</td>\n",
       "      <td>1,047,600.00</td>\n",
       "      <td>762,750.00</td>\n",
       "      <td>-284,850.00</td>\n",
       "      <td>-27.19</td>\n",
       "    </tr>\n",
       "    <tr>\n",
       "      <th>20</th>\n",
       "      <td>3</td>\n",
       "      <td>A4</td>\n",
       "      <td>STA</td>\n",
       "      <td>2021-06-15</td>\n",
       "      <td>10,000</td>\n",
       "      <td>30.00</td>\n",
       "      <td>13.60</td>\n",
       "      <td>300,000.00</td>\n",
       "      <td>136,000.00</td>\n",
       "      <td>-164,000.00</td>\n",
       "      <td>-54.67</td>\n",
       "    </tr>\n",
       "    <tr>\n",
       "      <th>21</th>\n",
       "      <td>3</td>\n",
       "      <td>A1</td>\n",
       "      <td>SYNEX</td>\n",
       "      <td>2022-01-07</td>\n",
       "      <td>17,500</td>\n",
       "      <td>26.40</td>\n",
       "      <td>12.30</td>\n",
       "      <td>462,000.00</td>\n",
       "      <td>215,250.00</td>\n",
       "      <td>-246,750.00</td>\n",
       "      <td>-53.41</td>\n",
       "    </tr>\n",
       "    <tr>\n",
       "      <th>22</th>\n",
       "      <td>3</td>\n",
       "      <td>A4</td>\n",
       "      <td>TVO</td>\n",
       "      <td>2024-11-06</td>\n",
       "      <td>4,000</td>\n",
       "      <td>24.90</td>\n",
       "      <td>25.75</td>\n",
       "      <td>99,600.00</td>\n",
       "      <td>103,000.00</td>\n",
       "      <td>3,400.00</td>\n",
       "      <td>3.41</td>\n",
       "    </tr>\n",
       "    <tr>\n",
       "      <th>23</th>\n",
       "      <td>4</td>\n",
       "      <td>A1</td>\n",
       "      <td>CPF</td>\n",
       "      <td>2025-08-21</td>\n",
       "      <td>5,000</td>\n",
       "      <td>23.70</td>\n",
       "      <td>23.70</td>\n",
       "      <td>118,500.00</td>\n",
       "      <td>118,500.00</td>\n",
       "      <td>0.00</td>\n",
       "      <td>0.00</td>\n",
       "    </tr>\n",
       "    <tr>\n",
       "      <th>24</th>\n",
       "      <td>4</td>\n",
       "      <td>C3</td>\n",
       "      <td>IVL</td>\n",
       "      <td>2022-08-29</td>\n",
       "      <td>7,200</td>\n",
       "      <td>40.00</td>\n",
       "      <td>23.20</td>\n",
       "      <td>288,000.00</td>\n",
       "      <td>167,040.00</td>\n",
       "      <td>-120,960.00</td>\n",
       "      <td>-42.00</td>\n",
       "    </tr>\n",
       "    <tr>\n",
       "      <th>25</th>\n",
       "      <td>4</td>\n",
       "      <td>C2</td>\n",
       "      <td>ORI</td>\n",
       "      <td>2022-04-07</td>\n",
       "      <td>50,000</td>\n",
       "      <td>9.00</td>\n",
       "      <td>2.80</td>\n",
       "      <td>450,000.00</td>\n",
       "      <td>140,000.00</td>\n",
       "      <td>-310,000.00</td>\n",
       "      <td>-68.89</td>\n",
       "    </tr>\n",
       "    <tr>\n",
       "      <th>26</th>\n",
       "      <td>4</td>\n",
       "      <td>C2</td>\n",
       "      <td>PTTGC</td>\n",
       "      <td>2021-03-17</td>\n",
       "      <td>6,000</td>\n",
       "      <td>64.75</td>\n",
       "      <td>27.75</td>\n",
       "      <td>388,500.00</td>\n",
       "      <td>166,500.00</td>\n",
       "      <td>-222,000.00</td>\n",
       "      <td>-57.14</td>\n",
       "    </tr>\n",
       "    <tr>\n",
       "      <th>27</th>\n",
       "      <td>4</td>\n",
       "      <td>C2</td>\n",
       "      <td>SCC</td>\n",
       "      <td>2021-09-20</td>\n",
       "      <td>600</td>\n",
       "      <td>405.00</td>\n",
       "      <td>227.00</td>\n",
       "      <td>243,000.00</td>\n",
       "      <td>136,200.00</td>\n",
       "      <td>-106,800.00</td>\n",
       "      <td>-43.95</td>\n",
       "    </tr>\n",
       "    <tr>\n",
       "      <th>28</th>\n",
       "      <td>4</td>\n",
       "      <td>A3</td>\n",
       "      <td>SINGER</td>\n",
       "      <td>2023-01-19</td>\n",
       "      <td>6,000</td>\n",
       "      <td>24.80</td>\n",
       "      <td>7.60</td>\n",
       "      <td>148,800.00</td>\n",
       "      <td>45,600.00</td>\n",
       "      <td>-103,200.00</td>\n",
       "      <td>-69.35</td>\n",
       "    </tr>\n",
       "  </tbody>\n",
       "</table>\n",
       "</div>"
      ],
      "text/plain": [
       "   period grade     name        date   volbuy buy_price  mkt_price  \\\n",
       "0       1    C1       AH  2023-06-08    1,200     37.00      13.90   \n",
       "1       1    A1      AWC  2023-06-15    9,000      4.96       2.42   \n",
       "2       1    A2    JMART  2023-01-20    6,800     33.00      10.30   \n",
       "3       1    C3      JMT  2023-01-26    4,200     55.50      12.80   \n",
       "4       1    B2      PTG  2023-07-12    3,600     11.40       8.50   \n",
       "5       1    C1      TOA  2023-09-06    1,000     26.00      14.60   \n",
       "6       2    A1   AIMIRT  2023-08-17   17,500     10.60      10.10   \n",
       "7       2    C1  CPNREIT  2022-08-16   55,000     18.00      11.90   \n",
       "8       2    C1      DIF  2020-08-01   45,000     12.70       9.30   \n",
       "9       2    C1   GVREIT  2022-08-24   69,000      7.75       6.40   \n",
       "10      2    A4      MCS  2016-09-20   75,000     15.31       8.70   \n",
       "11      2    A1      NER  2021-09-01   27,000      7.45       4.44   \n",
       "12      2    A2      PTT  2025-08-08    5,000     31.50      32.75   \n",
       "13      2    B1     SENA  2022-03-29  105,000      4.48       1.94   \n",
       "14      2    C1    TFFIF  2023-07-06   20,000      7.20       6.10   \n",
       "15      2    B1    WHAIR  2021-10-11   50,000      8.70       5.95   \n",
       "16      2    C1    WHART  2022-01-05   20,000     12.30       9.65   \n",
       "17      3    A3    3BBIF  2018-05-17  120,000     10.10       6.75   \n",
       "18      3    B3      BCH  2021-09-07    4,000     21.70      13.40   \n",
       "19      3    A3      RCL  2021-11-08   27,000     38.80      28.25   \n",
       "20      3    A4      STA  2021-06-15   10,000     30.00      13.60   \n",
       "21      3    A1    SYNEX  2022-01-07   17,500     26.40      12.30   \n",
       "22      3    A4      TVO  2024-11-06    4,000     24.90      25.75   \n",
       "23      4    A1      CPF  2025-08-21    5,000     23.70      23.70   \n",
       "24      4    C3      IVL  2022-08-29    7,200     40.00      23.20   \n",
       "25      4    C2      ORI  2022-04-07   50,000      9.00       2.80   \n",
       "26      4    C2    PTTGC  2021-03-17    6,000     64.75      27.75   \n",
       "27      4    C2      SCC  2021-09-20      600    405.00     227.00   \n",
       "28      4    A3   SINGER  2023-01-19    6,000     24.80       7.60   \n",
       "\n",
       "          amtbuy      amtmkt       amtpol  pctpol  \n",
       "0      44,400.00   16,680.00   -27,720.00  -62.43  \n",
       "1      44,640.00   21,780.00   -22,860.00  -51.21  \n",
       "2     224,400.00   70,040.00  -154,360.00  -68.79  \n",
       "3     233,100.00   53,760.00  -179,340.00  -76.94  \n",
       "4      41,040.00   30,600.00   -10,440.00  -25.44  \n",
       "5      26,000.00   14,600.00   -11,400.00  -43.85  \n",
       "6     185,500.00  176,750.00    -8,750.00   -4.72  \n",
       "7     990,000.00  654,500.00  -335,500.00  -33.89  \n",
       "8     571,500.00  418,500.00  -153,000.00  -26.77  \n",
       "9     534,750.00  441,600.00   -93,150.00  -17.42  \n",
       "10  1,148,400.00  652,500.00  -495,900.00  -43.18  \n",
       "11    201,150.00  119,880.00   -81,270.00  -40.40  \n",
       "12    157,500.00  163,750.00     6,250.00    3.97  \n",
       "13    470,400.00  203,700.00  -266,700.00  -56.70  \n",
       "14    144,000.00  122,000.00   -22,000.00  -15.28  \n",
       "15    435,000.00  297,500.00  -137,500.00  -31.61  \n",
       "16    246,000.00  193,000.00   -53,000.00  -21.54  \n",
       "17  1,212,000.00  810,000.00  -402,000.00  -33.17  \n",
       "18     86,800.00   53,600.00   -33,200.00  -38.25  \n",
       "19  1,047,600.00  762,750.00  -284,850.00  -27.19  \n",
       "20    300,000.00  136,000.00  -164,000.00  -54.67  \n",
       "21    462,000.00  215,250.00  -246,750.00  -53.41  \n",
       "22     99,600.00  103,000.00     3,400.00    3.41  \n",
       "23    118,500.00  118,500.00         0.00    0.00  \n",
       "24    288,000.00  167,040.00  -120,960.00  -42.00  \n",
       "25    450,000.00  140,000.00  -310,000.00  -68.89  \n",
       "26    388,500.00  166,500.00  -222,000.00  -57.14  \n",
       "27    243,000.00  136,200.00  -106,800.00  -43.95  \n",
       "28    148,800.00   45,600.00  -103,200.00  -69.35  "
      ]
     },
     "execution_count": 67,
     "metadata": {},
     "output_type": "execute_result"
    }
   ],
   "source": [
    "df_buy = pd.read_sql(sql, const)\n",
    "df_buy"
   ]
  },
  {
   "cell_type": "code",
   "execution_count": 69,
   "metadata": {},
   "outputs": [],
   "source": [
    "file_name = 'portfolio.csv'\n",
    "output_file = os.path.join(dat_path, file_name)\n",
    "god_file = os.path.join(god_path, file_name)\n",
    "icd_file = os.path.join(icd_path, file_name)\n",
    "osd_file = os.path.join(osd_path, file_name)"
   ]
  },
  {
   "cell_type": "code",
   "execution_count": 71,
   "metadata": {},
   "outputs": [
    {
     "name": "stdout",
     "output_type": "stream",
     "text": [
      "Output file : C:\\Users\\PC1\\OneDrive\\A5\\Data\\portfolio.csv\n",
      "icd_file : C:\\Users\\PC1\\iCloudDrive\\Data\\portfolio.csv\n",
      "god_file : C:\\Users\\PC1\\OneDrive\\Imports\\santisoontarinka@gmail.com - Google Drive\\Data\\portfolio.csv\n",
      "osd_file : C:\\Users\\PC1\\OneDrive\\Documents\\obsidian-git-sync\\Data\\portfolio.csv\n"
     ]
    }
   ],
   "source": [
    "print(f\"Output file : {output_file}\") \n",
    "print(f\"icd_file : {icd_file}\") \n",
    "print(f\"god_file : {god_file}\") \n",
    "print(f\"osd_file : {osd_file}\") "
   ]
  },
  {
   "cell_type": "code",
   "execution_count": 73,
   "metadata": {},
   "outputs": [],
   "source": [
    "df_buy.to_csv(output_file, header=True, index=False)\n",
    "df_buy.to_csv(icd_file, header=True, index=False)\n",
    "df_buy.to_csv(god_file, header=True, index=False)\n",
    "df_buy.to_csv(osd_file, header=True, index=False)"
   ]
  },
  {
   "cell_type": "code",
   "execution_count": 75,
   "metadata": {},
   "outputs": [],
   "source": [
    "file_name = '035-portfolio.xlsx'\n",
    "xsl_file = os.path.join(xsl_path, file_name)\n",
    "df_buy.to_excel(xsl_file, index=False)"
   ]
  },
  {
   "cell_type": "code",
   "execution_count": null,
   "metadata": {},
   "outputs": [],
   "source": []
  }
 ],
 "metadata": {
  "anaconda-cloud": {},
  "kernelspec": {
   "display_name": "Python 3 (ipykernel)",
   "language": "python",
   "name": "python3"
  },
  "language_info": {
   "codemirror_mode": {
    "name": "ipython",
    "version": 3
   },
   "file_extension": ".py",
   "mimetype": "text/x-python",
   "name": "python",
   "nbconvert_exporter": "python",
   "pygments_lexer": "ipython3",
   "version": "3.12.3"
  }
 },
 "nbformat": 4,
 "nbformat_minor": 4
}
