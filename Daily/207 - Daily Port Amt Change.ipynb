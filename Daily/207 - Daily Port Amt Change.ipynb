{
 "cells": [
  {
   "cell_type": "markdown",
   "id": "369c7685",
   "metadata": {},
   "source": [
    "### Input files: Price-Today.csv"
   ]
  },
  {
   "cell_type": "code",
   "execution_count": 2,
   "id": "2a2bb67d",
   "metadata": {},
   "outputs": [
    {
     "name": "stdout",
     "output_type": "stream",
     "text": [
      "2025-10-24 2025-10-23\n"
     ]
    }
   ],
   "source": [
    "import glob\n",
    "import os\n",
    "import pandas as pd\n",
    "from datetime import date, timedelta, datetime\n",
    "from pandas.tseries.offsets import *\n",
    "from sqlalchemy import create_engine\n",
    "\n",
    "engine = create_engine(\"mysql+pymysql://root:@localhost:3306/stock\")\n",
    "const = engine.connect()\n",
    "\n",
    "format_dict = {'qty':'{:,}','volbuy':'{:,}',\n",
    "              'price_x':'{:,.2f}','price_y':'{:,.2f}','change':'{:,.2f}','price':'{:,.2f}',\n",
    "              'chg_amt':'{:,.2f}','buy_amt':'{:,.2f}','gross':'{:,.2f}','amount':'{:,.2f}',\n",
    "              'percent':'{:,.2f}','net':'{:,.2f}','dividend':'{:,.4f}'}\n",
    "\n",
    "pd.options.display.max_rows = 31\n",
    "pd.options.display.float_format = '{:.2f}'.format\n",
    "\n",
    "today = date.today()\n",
    "yesterday = today - timedelta(days=1)\n",
    "print(today, yesterday)"
   ]
  },
  {
   "cell_type": "code",
   "execution_count": 3,
   "id": "7940d493-8ffd-4327-9ad3-7c1da60e7d5d",
   "metadata": {},
   "outputs": [],
   "source": [
    "# If run after actual work day\n",
    "#today = today - timedelta(days=2)\n",
    "#print(today)"
   ]
  },
  {
   "cell_type": "code",
   "execution_count": 4,
   "id": "20838b19",
   "metadata": {},
   "outputs": [
    {
     "name": "stdout",
     "output_type": "stream",
     "text": [
      "today: 2025-10-24\n",
      "yesterday: 2025-10-23\n"
     ]
    }
   ],
   "source": [
    "num_business_days = BDay(1)\n",
    "yesterday = today - num_business_days\n",
    "print(f'today: {today}')\n",
    "yesterday = yesterday.date()\n",
    "print(f'yesterday: {yesterday}')"
   ]
  },
  {
   "cell_type": "code",
   "execution_count": 5,
   "id": "2dd96f6b-f287-483f-9a40-a59c40cc33b7",
   "metadata": {},
   "outputs": [
    {
     "name": "stdout",
     "output_type": "stream",
     "text": [
      "2025-10-24 20:18:22\n"
     ]
    }
   ],
   "source": [
    "# Get the current time\n",
    "current_time = datetime.now()\n",
    "# Format the time to remove milliseconds\n",
    "formatted_time = current_time.strftime(\"%Y-%m-%d %H:%M:%S\")\n",
    "print(formatted_time)"
   ]
  },
  {
   "cell_type": "markdown",
   "id": "29764f10",
   "metadata": {},
   "source": [
    "### Restart and Run All Cells"
   ]
  },
  {
   "cell_type": "code",
   "execution_count": 7,
   "id": "c9aa9986-ae97-40fb-93fb-a45b5783e201",
   "metadata": {},
   "outputs": [],
   "source": [
    "# Get the user's home directory\n",
    "user_path = os.path.expanduser('~')\n",
    "# Get the current working directory\n",
    "current_path = os.getcwd()\n",
    "# Derive the base directory (base_dir) by removing the last folder ('Daily')\n",
    "base_path = os.path.dirname(current_path)\n",
    "#C:\\Users\\PC1\\OneDrive\\A5\\Data\n",
    "dat_path = os.path.join(base_path, \"Data\")\n",
    "#C:\\Users\\PC1\\OneDrive\\Imports\\santisoontarinka@gmail.com - Google Drive\\Data>\n",
    "god_path = os.path.join(user_path, \"OneDrive\",\"Imports\",\"santisoontarinka@gmail.com - Google Drive\",\"Data\")\n",
    "#C:\\Users\\PC1\\iCloudDrive\\data\n",
    "icd_path = os.path.join(user_path, \"iCloudDrive\", \"Data\")\n",
    "#C:\\Users\\PC1\\OneDrive\\Documents\\obsidian-git-sync\\Data\n",
    "osd_path = os.path.join(user_path, \"OneDrive\",\"Documents\",\"obsidian-git-sync\",\"Data\")"
   ]
  },
  {
   "cell_type": "code",
   "execution_count": 8,
   "id": "a1958f6d-9e73-40fe-a5a1-9a94e3d3602a",
   "metadata": {},
   "outputs": [
    {
     "name": "stdout",
     "output_type": "stream",
     "text": [
      "User path: C:\\Users\\PC1\n",
      "Current path: C:\\Users\\PC1\\OneDrive\\A5\\Daily\n",
      "Base path: C:\\Users\\PC1\\OneDrive\\A5\n",
      "Data path (dat_path): C:\\Users\\PC1\\OneDrive\\A5\\Data\n",
      "Google Drive path (god_path): C:\\Users\\PC1\\OneDrive\\Imports\\santisoontarinka@gmail.com - Google Drive\\Data\n",
      "iCloudDrive path (icd_path): C:\\Users\\PC1\\iCloudDrive\\Data\n",
      "Obsidian path (osd_path): C:\\Users\\PC1\\OneDrive\\Documents\\obsidian-git-sync\\Data\n"
     ]
    }
   ],
   "source": [
    "print(\"User path:\", user_path)\n",
    "print(f\"Current path: {current_path}\")\n",
    "print(f\"Base path: {base_path}\")\n",
    "print(f\"Data path (dat_path): {dat_path}\") \n",
    "print(f\"Google Drive path (god_path): {god_path}\")\n",
    "print(f\"iCloudDrive path (icd_path): {icd_path}\") \n",
    "print(f\"Obsidian path (osd_path): {osd_path}\") "
   ]
  },
  {
   "cell_type": "markdown",
   "id": "e01955e8",
   "metadata": {},
   "source": [
    "## Must rerun whenever there is change in orders"
   ]
  },
  {
   "cell_type": "code",
   "execution_count": 10,
   "id": "d4b5fc44",
   "metadata": {},
   "outputs": [
    {
     "data": {
      "text/html": [
       "<style type=\"text/css\">\n",
       "</style>\n",
       "<table id=\"T_37f58\">\n",
       "  <thead>\n",
       "    <tr>\n",
       "      <th id=\"T_37f58_level0_col0\" class=\"col_heading level0 col0\" >name</th>\n",
       "      <th id=\"T_37f58_level0_col1\" class=\"col_heading level0 col1\" >date</th>\n",
       "      <th id=\"T_37f58_level0_col2\" class=\"col_heading level0 col2\" >volbuy</th>\n",
       "      <th id=\"T_37f58_level0_col3\" class=\"col_heading level0 col3\" >price</th>\n",
       "      <th id=\"T_37f58_level0_col4\" class=\"col_heading level0 col4\" >active</th>\n",
       "      <th id=\"T_37f58_level0_col5\" class=\"col_heading level0 col5\" >dividend</th>\n",
       "      <th id=\"T_37f58_level0_col6\" class=\"col_heading level0 col6\" >period</th>\n",
       "      <th id=\"T_37f58_level0_col7\" class=\"col_heading level0 col7\" >grade</th>\n",
       "    </tr>\n",
       "  </thead>\n",
       "  <tbody>\n",
       "    <tr>\n",
       "      <td id=\"T_37f58_row0_col0\" class=\"data row0 col0\" >3BBIF</td>\n",
       "      <td id=\"T_37f58_row0_col1\" class=\"data row0 col1\" >2018-05-17</td>\n",
       "      <td id=\"T_37f58_row0_col2\" class=\"data row0 col2\" >120,000</td>\n",
       "      <td id=\"T_37f58_row0_col3\" class=\"data row0 col3\" >10.10</td>\n",
       "      <td id=\"T_37f58_row0_col4\" class=\"data row0 col4\" >1</td>\n",
       "      <td id=\"T_37f58_row0_col5\" class=\"data row0 col5\" >0.1546</td>\n",
       "      <td id=\"T_37f58_row0_col6\" class=\"data row0 col6\" >3</td>\n",
       "      <td id=\"T_37f58_row0_col7\" class=\"data row0 col7\" >A3</td>\n",
       "    </tr>\n",
       "    <tr>\n",
       "      <td id=\"T_37f58_row1_col0\" class=\"data row1 col0\" >AH</td>\n",
       "      <td id=\"T_37f58_row1_col1\" class=\"data row1 col1\" >2023-06-08</td>\n",
       "      <td id=\"T_37f58_row1_col2\" class=\"data row1 col2\" >1,200</td>\n",
       "      <td id=\"T_37f58_row1_col3\" class=\"data row1 col3\" >37.00</td>\n",
       "      <td id=\"T_37f58_row1_col4\" class=\"data row1 col4\" >1</td>\n",
       "      <td id=\"T_37f58_row1_col5\" class=\"data row1 col5\" >0.7900</td>\n",
       "      <td id=\"T_37f58_row1_col6\" class=\"data row1 col6\" >1</td>\n",
       "      <td id=\"T_37f58_row1_col7\" class=\"data row1 col7\" >C1</td>\n",
       "    </tr>\n",
       "    <tr>\n",
       "      <td id=\"T_37f58_row2_col0\" class=\"data row2 col0\" >AIMIRT</td>\n",
       "      <td id=\"T_37f58_row2_col1\" class=\"data row2 col1\" >2023-08-17</td>\n",
       "      <td id=\"T_37f58_row2_col2\" class=\"data row2 col2\" >17,500</td>\n",
       "      <td id=\"T_37f58_row2_col3\" class=\"data row2 col3\" >10.60</td>\n",
       "      <td id=\"T_37f58_row2_col4\" class=\"data row2 col4\" >1</td>\n",
       "      <td id=\"T_37f58_row2_col5\" class=\"data row2 col5\" >0.8500</td>\n",
       "      <td id=\"T_37f58_row2_col6\" class=\"data row2 col6\" >2</td>\n",
       "      <td id=\"T_37f58_row2_col7\" class=\"data row2 col7\" >A1</td>\n",
       "    </tr>\n",
       "    <tr>\n",
       "      <td id=\"T_37f58_row3_col0\" class=\"data row3 col0\" >AWC</td>\n",
       "      <td id=\"T_37f58_row3_col1\" class=\"data row3 col1\" >2023-06-15</td>\n",
       "      <td id=\"T_37f58_row3_col2\" class=\"data row3 col2\" >9,000</td>\n",
       "      <td id=\"T_37f58_row3_col3\" class=\"data row3 col3\" >4.96</td>\n",
       "      <td id=\"T_37f58_row3_col4\" class=\"data row3 col4\" >1</td>\n",
       "      <td id=\"T_37f58_row3_col5\" class=\"data row3 col5\" >0.0750</td>\n",
       "      <td id=\"T_37f58_row3_col6\" class=\"data row3 col6\" >1</td>\n",
       "      <td id=\"T_37f58_row3_col7\" class=\"data row3 col7\" >A1</td>\n",
       "    </tr>\n",
       "    <tr>\n",
       "      <td id=\"T_37f58_row4_col0\" class=\"data row4 col0\" >BCH</td>\n",
       "      <td id=\"T_37f58_row4_col1\" class=\"data row4 col1\" >2021-09-07</td>\n",
       "      <td id=\"T_37f58_row4_col2\" class=\"data row4 col2\" >4,000</td>\n",
       "      <td id=\"T_37f58_row4_col3\" class=\"data row4 col3\" >21.70</td>\n",
       "      <td id=\"T_37f58_row4_col4\" class=\"data row4 col4\" >1</td>\n",
       "      <td id=\"T_37f58_row4_col5\" class=\"data row4 col5\" >0.4300</td>\n",
       "      <td id=\"T_37f58_row4_col6\" class=\"data row4 col6\" >3</td>\n",
       "      <td id=\"T_37f58_row4_col7\" class=\"data row4 col7\" >B3</td>\n",
       "    </tr>\n",
       "    <tr>\n",
       "      <td id=\"T_37f58_row5_col0\" class=\"data row5 col0\" >CPF</td>\n",
       "      <td id=\"T_37f58_row5_col1\" class=\"data row5 col1\" >2025-08-21</td>\n",
       "      <td id=\"T_37f58_row5_col2\" class=\"data row5 col2\" >10,000</td>\n",
       "      <td id=\"T_37f58_row5_col3\" class=\"data row5 col3\" >23.40</td>\n",
       "      <td id=\"T_37f58_row5_col4\" class=\"data row5 col4\" >1</td>\n",
       "      <td id=\"T_37f58_row5_col5\" class=\"data row5 col5\" >1.5500</td>\n",
       "      <td id=\"T_37f58_row5_col6\" class=\"data row5 col6\" >4</td>\n",
       "      <td id=\"T_37f58_row5_col7\" class=\"data row5 col7\" >A1</td>\n",
       "    </tr>\n",
       "    <tr>\n",
       "      <td id=\"T_37f58_row6_col0\" class=\"data row6 col0\" >CPNREIT</td>\n",
       "      <td id=\"T_37f58_row6_col1\" class=\"data row6 col1\" >2022-08-16</td>\n",
       "      <td id=\"T_37f58_row6_col2\" class=\"data row6 col2\" >55,000</td>\n",
       "      <td id=\"T_37f58_row6_col3\" class=\"data row6 col3\" >18.00</td>\n",
       "      <td id=\"T_37f58_row6_col4\" class=\"data row6 col4\" >1</td>\n",
       "      <td id=\"T_37f58_row6_col5\" class=\"data row6 col5\" >0.7966</td>\n",
       "      <td id=\"T_37f58_row6_col6\" class=\"data row6 col6\" >2</td>\n",
       "      <td id=\"T_37f58_row6_col7\" class=\"data row6 col7\" >C1</td>\n",
       "    </tr>\n",
       "    <tr>\n",
       "      <td id=\"T_37f58_row7_col0\" class=\"data row7 col0\" >DIF</td>\n",
       "      <td id=\"T_37f58_row7_col1\" class=\"data row7 col1\" >2020-08-01</td>\n",
       "      <td id=\"T_37f58_row7_col2\" class=\"data row7 col2\" >45,000</td>\n",
       "      <td id=\"T_37f58_row7_col3\" class=\"data row7 col3\" >12.70</td>\n",
       "      <td id=\"T_37f58_row7_col4\" class=\"data row7 col4\" >1</td>\n",
       "      <td id=\"T_37f58_row7_col5\" class=\"data row7 col5\" >0.8888</td>\n",
       "      <td id=\"T_37f58_row7_col6\" class=\"data row7 col6\" >2</td>\n",
       "      <td id=\"T_37f58_row7_col7\" class=\"data row7 col7\" >C1</td>\n",
       "    </tr>\n",
       "    <tr>\n",
       "      <td id=\"T_37f58_row8_col0\" class=\"data row8 col0\" >GVREIT</td>\n",
       "      <td id=\"T_37f58_row8_col1\" class=\"data row8 col1\" >2022-08-24</td>\n",
       "      <td id=\"T_37f58_row8_col2\" class=\"data row8 col2\" >69,000</td>\n",
       "      <td id=\"T_37f58_row8_col3\" class=\"data row8 col3\" >7.75</td>\n",
       "      <td id=\"T_37f58_row8_col4\" class=\"data row8 col4\" >1</td>\n",
       "      <td id=\"T_37f58_row8_col5\" class=\"data row8 col5\" >0.8043</td>\n",
       "      <td id=\"T_37f58_row8_col6\" class=\"data row8 col6\" >2</td>\n",
       "      <td id=\"T_37f58_row8_col7\" class=\"data row8 col7\" >C1</td>\n",
       "    </tr>\n",
       "    <tr>\n",
       "      <td id=\"T_37f58_row9_col0\" class=\"data row9 col0\" >IVL</td>\n",
       "      <td id=\"T_37f58_row9_col1\" class=\"data row9 col1\" >2022-08-29</td>\n",
       "      <td id=\"T_37f58_row9_col2\" class=\"data row9 col2\" >7,200</td>\n",
       "      <td id=\"T_37f58_row9_col3\" class=\"data row9 col3\" >40.00</td>\n",
       "      <td id=\"T_37f58_row9_col4\" class=\"data row9 col4\" >1</td>\n",
       "      <td id=\"T_37f58_row9_col5\" class=\"data row9 col5\" >0.7000</td>\n",
       "      <td id=\"T_37f58_row9_col6\" class=\"data row9 col6\" >4</td>\n",
       "      <td id=\"T_37f58_row9_col7\" class=\"data row9 col7\" >C3</td>\n",
       "    </tr>\n",
       "    <tr>\n",
       "      <td id=\"T_37f58_row10_col0\" class=\"data row10 col0\" >JMART</td>\n",
       "      <td id=\"T_37f58_row10_col1\" class=\"data row10 col1\" >2023-01-20</td>\n",
       "      <td id=\"T_37f58_row10_col2\" class=\"data row10 col2\" >6,800</td>\n",
       "      <td id=\"T_37f58_row10_col3\" class=\"data row10 col3\" >33.00</td>\n",
       "      <td id=\"T_37f58_row10_col4\" class=\"data row10 col4\" >1</td>\n",
       "      <td id=\"T_37f58_row10_col5\" class=\"data row10 col5\" >0.4700</td>\n",
       "      <td id=\"T_37f58_row10_col6\" class=\"data row10 col6\" >1</td>\n",
       "      <td id=\"T_37f58_row10_col7\" class=\"data row10 col7\" >A2</td>\n",
       "    </tr>\n",
       "    <tr>\n",
       "      <td id=\"T_37f58_row11_col0\" class=\"data row11 col0\" >JMT</td>\n",
       "      <td id=\"T_37f58_row11_col1\" class=\"data row11 col1\" >2023-01-26</td>\n",
       "      <td id=\"T_37f58_row11_col2\" class=\"data row11 col2\" >7,000</td>\n",
       "      <td id=\"T_37f58_row11_col3\" class=\"data row11 col3\" >37.70</td>\n",
       "      <td id=\"T_37f58_row11_col4\" class=\"data row11 col4\" >1</td>\n",
       "      <td id=\"T_37f58_row11_col5\" class=\"data row11 col5\" >0.5200</td>\n",
       "      <td id=\"T_37f58_row11_col6\" class=\"data row11 col6\" >1</td>\n",
       "      <td id=\"T_37f58_row11_col7\" class=\"data row11 col7\" >C3</td>\n",
       "    </tr>\n",
       "    <tr>\n",
       "      <td id=\"T_37f58_row12_col0\" class=\"data row12 col0\" >MCS</td>\n",
       "      <td id=\"T_37f58_row12_col1\" class=\"data row12 col1\" >2016-09-20</td>\n",
       "      <td id=\"T_37f58_row12_col2\" class=\"data row12 col2\" >75,000</td>\n",
       "      <td id=\"T_37f58_row12_col3\" class=\"data row12 col3\" >15.31</td>\n",
       "      <td id=\"T_37f58_row12_col4\" class=\"data row12 col4\" >1</td>\n",
       "      <td id=\"T_37f58_row12_col5\" class=\"data row12 col5\" >0.7500</td>\n",
       "      <td id=\"T_37f58_row12_col6\" class=\"data row12 col6\" >2</td>\n",
       "      <td id=\"T_37f58_row12_col7\" class=\"data row12 col7\" >A4</td>\n",
       "    </tr>\n",
       "    <tr>\n",
       "      <td id=\"T_37f58_row13_col0\" class=\"data row13 col0\" >NER</td>\n",
       "      <td id=\"T_37f58_row13_col1\" class=\"data row13 col1\" >2021-09-01</td>\n",
       "      <td id=\"T_37f58_row13_col2\" class=\"data row13 col2\" >27,000</td>\n",
       "      <td id=\"T_37f58_row13_col3\" class=\"data row13 col3\" >7.45</td>\n",
       "      <td id=\"T_37f58_row13_col4\" class=\"data row13 col4\" >1</td>\n",
       "      <td id=\"T_37f58_row13_col5\" class=\"data row13 col5\" >0.3600</td>\n",
       "      <td id=\"T_37f58_row13_col6\" class=\"data row13 col6\" >2</td>\n",
       "      <td id=\"T_37f58_row13_col7\" class=\"data row13 col7\" >A1</td>\n",
       "    </tr>\n",
       "    <tr>\n",
       "      <td id=\"T_37f58_row14_col0\" class=\"data row14 col0\" >ORI</td>\n",
       "      <td id=\"T_37f58_row14_col1\" class=\"data row14 col1\" >2022-04-07</td>\n",
       "      <td id=\"T_37f58_row14_col2\" class=\"data row14 col2\" >50,000</td>\n",
       "      <td id=\"T_37f58_row14_col3\" class=\"data row14 col3\" >9.00</td>\n",
       "      <td id=\"T_37f58_row14_col4\" class=\"data row14 col4\" >1</td>\n",
       "      <td id=\"T_37f58_row14_col5\" class=\"data row14 col5\" >0.0210</td>\n",
       "      <td id=\"T_37f58_row14_col6\" class=\"data row14 col6\" >4</td>\n",
       "      <td id=\"T_37f58_row14_col7\" class=\"data row14 col7\" >C2</td>\n",
       "    </tr>\n",
       "    <tr>\n",
       "      <td id=\"T_37f58_row15_col0\" class=\"data row15 col0\" >PTG</td>\n",
       "      <td id=\"T_37f58_row15_col1\" class=\"data row15 col1\" >2023-07-12</td>\n",
       "      <td id=\"T_37f58_row15_col2\" class=\"data row15 col2\" >3,600</td>\n",
       "      <td id=\"T_37f58_row15_col3\" class=\"data row15 col3\" >11.40</td>\n",
       "      <td id=\"T_37f58_row15_col4\" class=\"data row15 col4\" >1</td>\n",
       "      <td id=\"T_37f58_row15_col5\" class=\"data row15 col5\" >0.3500</td>\n",
       "      <td id=\"T_37f58_row15_col6\" class=\"data row15 col6\" >3</td>\n",
       "      <td id=\"T_37f58_row15_col7\" class=\"data row15 col7\" >C2</td>\n",
       "    </tr>\n",
       "    <tr>\n",
       "      <td id=\"T_37f58_row16_col0\" class=\"data row16 col0\" >PTT</td>\n",
       "      <td id=\"T_37f58_row16_col1\" class=\"data row16 col1\" >2025-08-08</td>\n",
       "      <td id=\"T_37f58_row16_col2\" class=\"data row16 col2\" >7,500</td>\n",
       "      <td id=\"T_37f58_row16_col3\" class=\"data row16 col3\" >32.00</td>\n",
       "      <td id=\"T_37f58_row16_col4\" class=\"data row16 col4\" >1</td>\n",
       "      <td id=\"T_37f58_row16_col5\" class=\"data row16 col5\" >2.2000</td>\n",
       "      <td id=\"T_37f58_row16_col6\" class=\"data row16 col6\" >2</td>\n",
       "      <td id=\"T_37f58_row16_col7\" class=\"data row16 col7\" >A2</td>\n",
       "    </tr>\n",
       "    <tr>\n",
       "      <td id=\"T_37f58_row17_col0\" class=\"data row17 col0\" >PTTGC</td>\n",
       "      <td id=\"T_37f58_row17_col1\" class=\"data row17 col1\" >2021-03-17</td>\n",
       "      <td id=\"T_37f58_row17_col2\" class=\"data row17 col2\" >6,000</td>\n",
       "      <td id=\"T_37f58_row17_col3\" class=\"data row17 col3\" >64.75</td>\n",
       "      <td id=\"T_37f58_row17_col4\" class=\"data row17 col4\" >1</td>\n",
       "      <td id=\"T_37f58_row17_col5\" class=\"data row17 col5\" >0.5000</td>\n",
       "      <td id=\"T_37f58_row17_col6\" class=\"data row17 col6\" >4</td>\n",
       "      <td id=\"T_37f58_row17_col7\" class=\"data row17 col7\" >C2</td>\n",
       "    </tr>\n",
       "    <tr>\n",
       "      <td id=\"T_37f58_row18_col0\" class=\"data row18 col0\" >RCL</td>\n",
       "      <td id=\"T_37f58_row18_col1\" class=\"data row18 col1\" >2021-11-08</td>\n",
       "      <td id=\"T_37f58_row18_col2\" class=\"data row18 col2\" >27,000</td>\n",
       "      <td id=\"T_37f58_row18_col3\" class=\"data row18 col3\" >38.78</td>\n",
       "      <td id=\"T_37f58_row18_col4\" class=\"data row18 col4\" >1</td>\n",
       "      <td id=\"T_37f58_row18_col5\" class=\"data row18 col5\" >2.5000</td>\n",
       "      <td id=\"T_37f58_row18_col6\" class=\"data row18 col6\" >3</td>\n",
       "      <td id=\"T_37f58_row18_col7\" class=\"data row18 col7\" >A3</td>\n",
       "    </tr>\n",
       "    <tr>\n",
       "      <td id=\"T_37f58_row19_col0\" class=\"data row19 col0\" >SCC</td>\n",
       "      <td id=\"T_37f58_row19_col1\" class=\"data row19 col1\" >2021-09-20</td>\n",
       "      <td id=\"T_37f58_row19_col2\" class=\"data row19 col2\" >600</td>\n",
       "      <td id=\"T_37f58_row19_col3\" class=\"data row19 col3\" >405.00</td>\n",
       "      <td id=\"T_37f58_row19_col4\" class=\"data row19 col4\" >1</td>\n",
       "      <td id=\"T_37f58_row19_col5\" class=\"data row19 col5\" >5.0000</td>\n",
       "      <td id=\"T_37f58_row19_col6\" class=\"data row19 col6\" >4</td>\n",
       "      <td id=\"T_37f58_row19_col7\" class=\"data row19 col7\" >C2</td>\n",
       "    </tr>\n",
       "    <tr>\n",
       "      <td id=\"T_37f58_row20_col0\" class=\"data row20 col0\" >SENA</td>\n",
       "      <td id=\"T_37f58_row20_col1\" class=\"data row20 col1\" >2022-03-29</td>\n",
       "      <td id=\"T_37f58_row20_col2\" class=\"data row20 col2\" >105,000</td>\n",
       "      <td id=\"T_37f58_row20_col3\" class=\"data row20 col3\" >4.48</td>\n",
       "      <td id=\"T_37f58_row20_col4\" class=\"data row20 col4\" >1</td>\n",
       "      <td id=\"T_37f58_row20_col5\" class=\"data row20 col5\" >0.1112</td>\n",
       "      <td id=\"T_37f58_row20_col6\" class=\"data row20 col6\" >2</td>\n",
       "      <td id=\"T_37f58_row20_col7\" class=\"data row20 col7\" >B1</td>\n",
       "    </tr>\n",
       "    <tr>\n",
       "      <td id=\"T_37f58_row21_col0\" class=\"data row21 col0\" >SINGER</td>\n",
       "      <td id=\"T_37f58_row21_col1\" class=\"data row21 col1\" >2023-01-19</td>\n",
       "      <td id=\"T_37f58_row21_col2\" class=\"data row21 col2\" >6,000</td>\n",
       "      <td id=\"T_37f58_row21_col3\" class=\"data row21 col3\" >24.80</td>\n",
       "      <td id=\"T_37f58_row21_col4\" class=\"data row21 col4\" >1</td>\n",
       "      <td id=\"T_37f58_row21_col5\" class=\"data row21 col5\" >0.0000</td>\n",
       "      <td id=\"T_37f58_row21_col6\" class=\"data row21 col6\" >4</td>\n",
       "      <td id=\"T_37f58_row21_col7\" class=\"data row21 col7\" >A3</td>\n",
       "    </tr>\n",
       "    <tr>\n",
       "      <td id=\"T_37f58_row22_col0\" class=\"data row22 col0\" >STA</td>\n",
       "      <td id=\"T_37f58_row22_col1\" class=\"data row22 col1\" >2021-06-15</td>\n",
       "      <td id=\"T_37f58_row22_col2\" class=\"data row22 col2\" >10,000</td>\n",
       "      <td id=\"T_37f58_row22_col3\" class=\"data row22 col3\" >30.00</td>\n",
       "      <td id=\"T_37f58_row22_col4\" class=\"data row22 col4\" >1</td>\n",
       "      <td id=\"T_37f58_row22_col5\" class=\"data row22 col5\" >1.0000</td>\n",
       "      <td id=\"T_37f58_row22_col6\" class=\"data row22 col6\" >3</td>\n",
       "      <td id=\"T_37f58_row22_col7\" class=\"data row22 col7\" >A4</td>\n",
       "    </tr>\n",
       "    <tr>\n",
       "      <td id=\"T_37f58_row23_col0\" class=\"data row23 col0\" >SYNEX</td>\n",
       "      <td id=\"T_37f58_row23_col1\" class=\"data row23 col1\" >2022-01-07</td>\n",
       "      <td id=\"T_37f58_row23_col2\" class=\"data row23 col2\" >17,500</td>\n",
       "      <td id=\"T_37f58_row23_col3\" class=\"data row23 col3\" >26.40</td>\n",
       "      <td id=\"T_37f58_row23_col4\" class=\"data row23 col4\" >1</td>\n",
       "      <td id=\"T_37f58_row23_col5\" class=\"data row23 col5\" >0.4400</td>\n",
       "      <td id=\"T_37f58_row23_col6\" class=\"data row23 col6\" >3</td>\n",
       "      <td id=\"T_37f58_row23_col7\" class=\"data row23 col7\" >A1</td>\n",
       "    </tr>\n",
       "    <tr>\n",
       "      <td id=\"T_37f58_row24_col0\" class=\"data row24 col0\" >TFFIF</td>\n",
       "      <td id=\"T_37f58_row24_col1\" class=\"data row24 col1\" >2023-07-06</td>\n",
       "      <td id=\"T_37f58_row24_col2\" class=\"data row24 col2\" >20,000</td>\n",
       "      <td id=\"T_37f58_row24_col3\" class=\"data row24 col3\" >7.20</td>\n",
       "      <td id=\"T_37f58_row24_col4\" class=\"data row24 col4\" >1</td>\n",
       "      <td id=\"T_37f58_row24_col5\" class=\"data row24 col5\" >0.4532</td>\n",
       "      <td id=\"T_37f58_row24_col6\" class=\"data row24 col6\" >2</td>\n",
       "      <td id=\"T_37f58_row24_col7\" class=\"data row24 col7\" >C1</td>\n",
       "    </tr>\n",
       "    <tr>\n",
       "      <td id=\"T_37f58_row25_col0\" class=\"data row25 col0\" >TOA</td>\n",
       "      <td id=\"T_37f58_row25_col1\" class=\"data row25 col1\" >2023-09-06</td>\n",
       "      <td id=\"T_37f58_row25_col2\" class=\"data row25 col2\" >1,000</td>\n",
       "      <td id=\"T_37f58_row25_col3\" class=\"data row25 col3\" >26.00</td>\n",
       "      <td id=\"T_37f58_row25_col4\" class=\"data row25 col4\" >1</td>\n",
       "      <td id=\"T_37f58_row25_col5\" class=\"data row25 col5\" >0.6300</td>\n",
       "      <td id=\"T_37f58_row25_col6\" class=\"data row25 col6\" >1</td>\n",
       "      <td id=\"T_37f58_row25_col7\" class=\"data row25 col7\" >C1</td>\n",
       "    </tr>\n",
       "    <tr>\n",
       "      <td id=\"T_37f58_row26_col0\" class=\"data row26 col0\" >TVO</td>\n",
       "      <td id=\"T_37f58_row26_col1\" class=\"data row26 col1\" >2024-11-06</td>\n",
       "      <td id=\"T_37f58_row26_col2\" class=\"data row26 col2\" >4,000</td>\n",
       "      <td id=\"T_37f58_row26_col3\" class=\"data row26 col3\" >24.90</td>\n",
       "      <td id=\"T_37f58_row26_col4\" class=\"data row26 col4\" >1</td>\n",
       "      <td id=\"T_37f58_row26_col5\" class=\"data row26 col5\" >1.7300</td>\n",
       "      <td id=\"T_37f58_row26_col6\" class=\"data row26 col6\" >3</td>\n",
       "      <td id=\"T_37f58_row26_col7\" class=\"data row26 col7\" >A4</td>\n",
       "    </tr>\n",
       "    <tr>\n",
       "      <td id=\"T_37f58_row27_col0\" class=\"data row27 col0\" >WHAIR</td>\n",
       "      <td id=\"T_37f58_row27_col1\" class=\"data row27 col1\" >2021-10-11</td>\n",
       "      <td id=\"T_37f58_row27_col2\" class=\"data row27 col2\" >50,000</td>\n",
       "      <td id=\"T_37f58_row27_col3\" class=\"data row27 col3\" >8.70</td>\n",
       "      <td id=\"T_37f58_row27_col4\" class=\"data row27 col4\" >1</td>\n",
       "      <td id=\"T_37f58_row27_col5\" class=\"data row27 col5\" >0.5461</td>\n",
       "      <td id=\"T_37f58_row27_col6\" class=\"data row27 col6\" >2</td>\n",
       "      <td id=\"T_37f58_row27_col7\" class=\"data row27 col7\" >B1</td>\n",
       "    </tr>\n",
       "    <tr>\n",
       "      <td id=\"T_37f58_row28_col0\" class=\"data row28 col0\" >WHART</td>\n",
       "      <td id=\"T_37f58_row28_col1\" class=\"data row28 col1\" >2022-01-05</td>\n",
       "      <td id=\"T_37f58_row28_col2\" class=\"data row28 col2\" >20,000</td>\n",
       "      <td id=\"T_37f58_row28_col3\" class=\"data row28 col3\" >12.30</td>\n",
       "      <td id=\"T_37f58_row28_col4\" class=\"data row28 col4\" >1</td>\n",
       "      <td id=\"T_37f58_row28_col5\" class=\"data row28 col5\" >0.6920</td>\n",
       "      <td id=\"T_37f58_row28_col6\" class=\"data row28 col6\" >2</td>\n",
       "      <td id=\"T_37f58_row28_col7\" class=\"data row28 col7\" >C1</td>\n",
       "    </tr>\n",
       "  </tbody>\n",
       "</table>\n"
      ],
      "text/plain": [
       "<pandas.io.formats.style.Styler at 0x291b38d85f0>"
      ]
     },
     "execution_count": 10,
     "metadata": {},
     "output_type": "execute_result"
    }
   ],
   "source": [
    "sql = \"\"\"\n",
    "SELECT name, date, volbuy, price, active, dividend, period, grade \n",
    "FROM buy\n",
    "ORDER BY name\"\"\"\n",
    "stocks = pd.read_sql(sql, const)\n",
    "stocks['volbuy'] = stocks['volbuy'].astype('int64')\n",
    "stocks.style.format(format_dict).hide(axis=\"index\")"
   ]
  },
  {
   "cell_type": "code",
   "execution_count": 11,
   "id": "018d9072",
   "metadata": {},
   "outputs": [
    {
     "data": {
      "text/plain": [
       "\"'3BBIF', 'AH', 'AIMIRT', 'AWC', 'BCH', 'CPF', 'CPNREIT', 'DIF', 'GVREIT', 'IVL', 'JMART', 'JMT', 'MCS', 'NER', 'ORI', 'PTG', 'PTT', 'PTTGC', 'RCL', 'SCC', 'SENA', 'SINGER', 'STA', 'SYNEX', 'TFFIF', 'TOA', 'TVO', 'WHAIR', 'WHART'\""
      ]
     },
     "execution_count": 11,
     "metadata": {},
     "output_type": "execute_result"
    }
   ],
   "source": [
    "names = stocks[\"name\"].values.tolist()\n",
    "in_p = \", \".join(map(lambda name: \"'%s'\" % name, names))\n",
    "in_p"
   ]
  },
  {
   "cell_type": "code",
   "execution_count": 12,
   "id": "d6b5b24c",
   "metadata": {},
   "outputs": [
    {
     "name": "stdout",
     "output_type": "stream",
     "text": [
      "Input file: C:\\Users\\PC1\\OneDrive\\A5\\Data\\Price-Today.csv\n"
     ]
    }
   ],
   "source": [
    "file_name = \"Price-Today.csv\"\n",
    "input_file = os.path.join(dat_path, file_name)\n",
    "print(f\"Input file: {input_file}\")"
   ]
  },
  {
   "cell_type": "code",
   "execution_count": 13,
   "id": "f9f6b3d9",
   "metadata": {},
   "outputs": [
    {
     "data": {
      "text/plain": [
       "(168, 10)"
      ]
     },
     "execution_count": 13,
     "metadata": {},
     "output_type": "execute_result"
    }
   ],
   "source": [
    "prices = pd.read_csv(input_file)\n",
    "prices.shape"
   ]
  },
  {
   "cell_type": "code",
   "execution_count": 14,
   "id": "5b436ae1",
   "metadata": {},
   "outputs": [
    {
     "data": {
      "text/plain": [
       "(29, 17)"
      ]
     },
     "execution_count": 14,
     "metadata": {},
     "output_type": "execute_result"
    }
   ],
   "source": [
    "df_merge  = pd.merge(stocks, prices, on = 'name', how='inner')\n",
    "df_merge.shape"
   ]
  },
  {
   "cell_type": "markdown",
   "id": "dca31fd8",
   "metadata": {},
   "source": [
    "### Convert column name to make it valid for df.query"
   ]
  },
  {
   "cell_type": "code",
   "execution_count": 16,
   "id": "74604b91",
   "metadata": {},
   "outputs": [],
   "source": [
    "pd.options.display.max_rows = 30\n",
    "df_merge['percent'] = df_merge['%change']\n",
    "df_merge['chg_amt'] = df_merge['volbuy'] * df_merge['change']\n",
    "df_merge['volbuy'] = df_merge['volbuy'].astype('int64')\n",
    "colo = ['name', 'volbuy', 'price_x', 'price_y', 'change', 'percent', 'chg_amt']\n",
    "filter = df_merge['percent'] != 0\n",
    "df_pct = df_merge[filter][colo].sort_values(by='percent', ascending=True).copy()\n",
    "df_amt = df_merge[filter][colo].sort_values(by='chg_amt', ascending=True).copy()"
   ]
  },
  {
   "cell_type": "code",
   "execution_count": 17,
   "id": "3dd1574d",
   "metadata": {},
   "outputs": [
    {
     "data": {
      "text/plain": [
       "(27, 7)"
      ]
     },
     "execution_count": 17,
     "metadata": {},
     "output_type": "execute_result"
    }
   ],
   "source": [
    "df_pct.shape"
   ]
  },
  {
   "cell_type": "code",
   "execution_count": 18,
   "id": "f21670dc",
   "metadata": {},
   "outputs": [
    {
     "data": {
      "text/plain": [
       "(27, 7)"
      ]
     },
     "execution_count": 18,
     "metadata": {},
     "output_type": "execute_result"
    }
   ],
   "source": [
    "df_amt.shape"
   ]
  },
  {
   "cell_type": "code",
   "execution_count": 19,
   "id": "d964ad8e",
   "metadata": {},
   "outputs": [
    {
     "data": {
      "text/html": [
       "<style type=\"text/css\">\n",
       "</style>\n",
       "<table id=\"T_aebb7\">\n",
       "  <thead>\n",
       "    <tr>\n",
       "      <th id=\"T_aebb7_level0_col0\" class=\"col_heading level0 col0\" >name</th>\n",
       "      <th id=\"T_aebb7_level0_col1\" class=\"col_heading level0 col1\" >volbuy</th>\n",
       "      <th id=\"T_aebb7_level0_col2\" class=\"col_heading level0 col2\" >price_x</th>\n",
       "      <th id=\"T_aebb7_level0_col3\" class=\"col_heading level0 col3\" >price_y</th>\n",
       "      <th id=\"T_aebb7_level0_col4\" class=\"col_heading level0 col4\" >change</th>\n",
       "      <th id=\"T_aebb7_level0_col5\" class=\"col_heading level0 col5\" >percent</th>\n",
       "      <th id=\"T_aebb7_level0_col6\" class=\"col_heading level0 col6\" >chg_amt</th>\n",
       "    </tr>\n",
       "  </thead>\n",
       "  <tbody>\n",
       "  </tbody>\n",
       "</table>\n"
      ],
      "text/plain": [
       "<pandas.io.formats.style.Styler at 0x291b706eea0>"
      ]
     },
     "execution_count": 19,
     "metadata": {},
     "output_type": "execute_result"
    }
   ],
   "source": [
    "df_pct.query('percent >= 3.00').style.format(format_dict).hide(axis=\"index\")"
   ]
  },
  {
   "cell_type": "code",
   "execution_count": 20,
   "id": "d529804c",
   "metadata": {},
   "outputs": [
    {
     "data": {
      "text/html": [
       "<style type=\"text/css\">\n",
       "</style>\n",
       "<table id=\"T_cf7a0\">\n",
       "  <thead>\n",
       "    <tr>\n",
       "      <th id=\"T_cf7a0_level0_col0\" class=\"col_heading level0 col0\" >name</th>\n",
       "      <th id=\"T_cf7a0_level0_col1\" class=\"col_heading level0 col1\" >volbuy</th>\n",
       "      <th id=\"T_cf7a0_level0_col2\" class=\"col_heading level0 col2\" >price_x</th>\n",
       "      <th id=\"T_cf7a0_level0_col3\" class=\"col_heading level0 col3\" >price_y</th>\n",
       "      <th id=\"T_cf7a0_level0_col4\" class=\"col_heading level0 col4\" >change</th>\n",
       "      <th id=\"T_cf7a0_level0_col5\" class=\"col_heading level0 col5\" >percent</th>\n",
       "      <th id=\"T_cf7a0_level0_col6\" class=\"col_heading level0 col6\" >chg_amt</th>\n",
       "    </tr>\n",
       "  </thead>\n",
       "  <tbody>\n",
       "  </tbody>\n",
       "</table>\n"
      ],
      "text/plain": [
       "<pandas.io.formats.style.Styler at 0x291b797e000>"
      ]
     },
     "execution_count": 20,
     "metadata": {},
     "output_type": "execute_result"
    }
   ],
   "source": [
    "df_pct.query('percent < -3.00').style.format(format_dict).hide(axis=\"index\")"
   ]
  },
  {
   "cell_type": "code",
   "execution_count": 21,
   "id": "1ede7b61",
   "metadata": {},
   "outputs": [
    {
     "data": {
      "text/html": [
       "<style type=\"text/css\">\n",
       "</style>\n",
       "<table id=\"T_fd459\">\n",
       "  <thead>\n",
       "    <tr>\n",
       "      <th id=\"T_fd459_level0_col0\" class=\"col_heading level0 col0\" >name</th>\n",
       "      <th id=\"T_fd459_level0_col1\" class=\"col_heading level0 col1\" >volbuy</th>\n",
       "      <th id=\"T_fd459_level0_col2\" class=\"col_heading level0 col2\" >price_x</th>\n",
       "      <th id=\"T_fd459_level0_col3\" class=\"col_heading level0 col3\" >price_y</th>\n",
       "      <th id=\"T_fd459_level0_col4\" class=\"col_heading level0 col4\" >change</th>\n",
       "      <th id=\"T_fd459_level0_col5\" class=\"col_heading level0 col5\" >percent</th>\n",
       "      <th id=\"T_fd459_level0_col6\" class=\"col_heading level0 col6\" >chg_amt</th>\n",
       "    </tr>\n",
       "  </thead>\n",
       "  <tbody>\n",
       "  </tbody>\n",
       "</table>\n"
      ],
      "text/plain": [
       "<pandas.io.formats.style.Styler at 0x291b7a6fc80>"
      ]
     },
     "execution_count": 21,
     "metadata": {},
     "output_type": "execute_result"
    }
   ],
   "source": [
    "df_amt.query('chg_amt >= 6000').style.format(format_dict).hide(axis=\"index\")"
   ]
  },
  {
   "cell_type": "code",
   "execution_count": 22,
   "id": "a7c3bce3",
   "metadata": {},
   "outputs": [
    {
     "data": {
      "text/html": [
       "<style type=\"text/css\">\n",
       "</style>\n",
       "<table id=\"T_db3b5\">\n",
       "  <thead>\n",
       "    <tr>\n",
       "      <th id=\"T_db3b5_level0_col0\" class=\"col_heading level0 col0\" >name</th>\n",
       "      <th id=\"T_db3b5_level0_col1\" class=\"col_heading level0 col1\" >volbuy</th>\n",
       "      <th id=\"T_db3b5_level0_col2\" class=\"col_heading level0 col2\" >price_x</th>\n",
       "      <th id=\"T_db3b5_level0_col3\" class=\"col_heading level0 col3\" >price_y</th>\n",
       "      <th id=\"T_db3b5_level0_col4\" class=\"col_heading level0 col4\" >change</th>\n",
       "      <th id=\"T_db3b5_level0_col5\" class=\"col_heading level0 col5\" >percent</th>\n",
       "      <th id=\"T_db3b5_level0_col6\" class=\"col_heading level0 col6\" >chg_amt</th>\n",
       "    </tr>\n",
       "  </thead>\n",
       "  <tbody>\n",
       "    <tr>\n",
       "      <td id=\"T_db3b5_row0_col0\" class=\"data row0 col0\" >RCL</td>\n",
       "      <td id=\"T_db3b5_row0_col1\" class=\"data row0 col1\" >27,000</td>\n",
       "      <td id=\"T_db3b5_row0_col2\" class=\"data row0 col2\" >38.78</td>\n",
       "      <td id=\"T_db3b5_row0_col3\" class=\"data row0 col3\" >25.75</td>\n",
       "      <td id=\"T_db3b5_row0_col4\" class=\"data row0 col4\" >-0.25</td>\n",
       "      <td id=\"T_db3b5_row0_col5\" class=\"data row0 col5\" >-0.96</td>\n",
       "      <td id=\"T_db3b5_row0_col6\" class=\"data row0 col6\" >-6,750.00</td>\n",
       "    </tr>\n",
       "  </tbody>\n",
       "</table>\n"
      ],
      "text/plain": [
       "<pandas.io.formats.style.Styler at 0x291b7a47b00>"
      ]
     },
     "execution_count": 22,
     "metadata": {},
     "output_type": "execute_result"
    }
   ],
   "source": [
    "df_amt.query('chg_amt < -6000').style.format(format_dict).hide(axis=\"index\")"
   ]
  },
  {
   "cell_type": "code",
   "execution_count": 23,
   "id": "84effa78-e8d5-48a8-ac7f-4b59ae96d0ee",
   "metadata": {},
   "outputs": [],
   "source": [
    "float_formatter = \"฿{:,.2f}\""
   ]
  },
  {
   "cell_type": "code",
   "execution_count": 24,
   "id": "34d44c2d-8a48-4f0a-8781-d575cac5ddca",
   "metadata": {},
   "outputs": [
    {
     "data": {
      "text/plain": [
       "'฿21,975.00'"
      ]
     },
     "execution_count": 24,
     "metadata": {},
     "output_type": "execute_result"
    }
   ],
   "source": [
    "float_formatter.format(df_amt.query('chg_amt >= 0')['chg_amt'].sum())"
   ]
  },
  {
   "cell_type": "code",
   "execution_count": 25,
   "id": "fa3a3ede",
   "metadata": {},
   "outputs": [
    {
     "data": {
      "text/plain": [
       "'฿-30,200.00'"
      ]
     },
     "execution_count": 25,
     "metadata": {},
     "output_type": "execute_result"
    }
   ],
   "source": [
    "float_formatter.format(df_amt.query('chg_amt < 0')['chg_amt'].sum())"
   ]
  },
  {
   "cell_type": "code",
   "execution_count": 26,
   "id": "71314eb9-dc2f-4aaa-870b-05a65469986b",
   "metadata": {},
   "outputs": [
    {
     "data": {
      "text/plain": [
       "'฿-8,225.00'"
      ]
     },
     "execution_count": 26,
     "metadata": {},
     "output_type": "execute_result"
    }
   ],
   "source": [
    "float_formatter.format(df_amt.chg_amt.sum())"
   ]
  },
  {
   "cell_type": "code",
   "execution_count": 27,
   "id": "87d37abc-1540-4237-b6e3-4182fb10861c",
   "metadata": {},
   "outputs": [
    {
     "name": "stdout",
     "output_type": "stream",
     "text": [
      "2025-10-24 20:18:23\n"
     ]
    }
   ],
   "source": [
    "# Get the current time\n",
    "current_time = datetime.now()\n",
    "# Format the time to remove milliseconds\n",
    "formatted_time = current_time.strftime(\"%Y-%m-%d %H:%M:%S\")\n",
    "print(formatted_time)"
   ]
  },
  {
   "cell_type": "code",
   "execution_count": null,
   "id": "d079f537-f5fc-4de9-af01-020e4f10504d",
   "metadata": {},
   "outputs": [],
   "source": []
  }
 ],
 "metadata": {
  "kernelspec": {
   "display_name": "Python 3 (ipykernel)",
   "language": "python",
   "name": "python3"
  },
  "language_info": {
   "codemirror_mode": {
    "name": "ipython",
    "version": 3
   },
   "file_extension": ".py",
   "mimetype": "text/x-python",
   "name": "python",
   "nbconvert_exporter": "python",
   "pygments_lexer": "ipython3",
   "version": "3.12.3"
  }
 },
 "nbformat": 4,
 "nbformat_minor": 5
}
