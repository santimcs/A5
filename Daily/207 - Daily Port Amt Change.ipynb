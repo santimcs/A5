{
 "cells": [
  {
   "cell_type": "markdown",
   "id": "369c7685",
   "metadata": {},
   "source": [
    "### Input files: Price-Today.csv"
   ]
  },
  {
   "cell_type": "code",
   "execution_count": 2,
   "id": "2a2bb67d",
   "metadata": {},
   "outputs": [
    {
     "name": "stdout",
     "output_type": "stream",
     "text": [
      "2025-08-04 2025-08-03\n"
     ]
    }
   ],
   "source": [
    "import glob\n",
    "import os\n",
    "import pandas as pd\n",
    "from datetime import date, timedelta, datetime\n",
    "from pandas.tseries.offsets import *\n",
    "from sqlalchemy import create_engine\n",
    "\n",
    "engine = create_engine(\"mysql+pymysql://root:@localhost:3306/stock\")\n",
    "const = engine.connect()\n",
    "\n",
    "format_dict = {'qty':'{:,}','volbuy':'{:,}',\n",
    "              'price_x':'{:,.2f}','price_y':'{:,.2f}','change':'{:,.2f}','price':'{:,.2f}',\n",
    "              'chg_amt':'{:,.2f}','buy_amt':'{:,.2f}','gross':'{:,.2f}','amount':'{:,.2f}',\n",
    "              'percent':'{:,.2f}','net':'{:,.2f}','dividend':'{:,.4f}'}\n",
    "\n",
    "pd.options.display.max_rows = 31\n",
    "pd.options.display.float_format = '{:.2f}'.format\n",
    "\n",
    "today = date.today()\n",
    "yesterday = today - timedelta(days=1)\n",
    "print(today, yesterday)"
   ]
  },
  {
   "cell_type": "code",
   "execution_count": 3,
   "id": "7940d493-8ffd-4327-9ad3-7c1da60e7d5d",
   "metadata": {},
   "outputs": [
    {
     "name": "stdout",
     "output_type": "stream",
     "text": [
      "2025-08-04\n"
     ]
    }
   ],
   "source": [
    "# If run after actual work day\n",
    "#today = today - timedelta(days=2)\n",
    "print(today)"
   ]
  },
  {
   "cell_type": "code",
   "execution_count": 4,
   "id": "20838b19",
   "metadata": {},
   "outputs": [
    {
     "name": "stdout",
     "output_type": "stream",
     "text": [
      "today: 2025-08-04\n",
      "yesterday: 2025-08-01\n"
     ]
    }
   ],
   "source": [
    "num_business_days = BDay(1)\n",
    "yesterday = today - num_business_days\n",
    "print(f'today: {today}')\n",
    "yesterday = yesterday.date()\n",
    "print(f'yesterday: {yesterday}')"
   ]
  },
  {
   "cell_type": "code",
   "execution_count": 5,
   "id": "2dd96f6b-f287-483f-9a40-a59c40cc33b7",
   "metadata": {},
   "outputs": [
    {
     "name": "stdout",
     "output_type": "stream",
     "text": [
      "2025-08-04 20:20:39\n"
     ]
    }
   ],
   "source": [
    "# Get the current time\n",
    "current_time = datetime.now()\n",
    "# Format the time to remove milliseconds\n",
    "formatted_time = current_time.strftime(\"%Y-%m-%d %H:%M:%S\")\n",
    "print(formatted_time)"
   ]
  },
  {
   "cell_type": "markdown",
   "id": "29764f10",
   "metadata": {},
   "source": [
    "### Restart and Run All Cells"
   ]
  },
  {
   "cell_type": "code",
   "execution_count": 7,
   "id": "c9aa9986-ae97-40fb-93fb-a45b5783e201",
   "metadata": {},
   "outputs": [],
   "source": [
    "# Get the user's home directory\n",
    "user_path = os.path.expanduser('~')\n",
    "# Get the current working directory\n",
    "current_path = os.getcwd()\n",
    "# Derive the base directory (base_dir) by removing the last folder ('Daily')\n",
    "base_path = os.path.dirname(current_path)\n",
    "#C:\\Users\\PC1\\OneDrive\\A5\\Data\n",
    "dat_path = os.path.join(base_path, \"Data\")\n",
    "#C:\\Users\\PC1\\OneDrive\\Imports\\santisoontarinka@gmail.com - Google Drive\\Data>\n",
    "god_path = os.path.join(user_path, \"OneDrive\",\"Imports\",\"santisoontarinka@gmail.com - Google Drive\",\"Data\")\n",
    "#C:\\Users\\PC1\\iCloudDrive\\data\n",
    "icd_path = os.path.join(user_path, \"iCloudDrive\", \"Data\")\n",
    "#C:\\Users\\PC1\\OneDrive\\Documents\\obsidian-git-sync\\Data\n",
    "osd_path = os.path.join(user_path, \"OneDrive\",\"Documents\",\"obsidian-git-sync\",\"Data\")"
   ]
  },
  {
   "cell_type": "code",
   "execution_count": 8,
   "id": "a1958f6d-9e73-40fe-a5a1-9a94e3d3602a",
   "metadata": {},
   "outputs": [
    {
     "name": "stdout",
     "output_type": "stream",
     "text": [
      "User path: C:\\Users\\PC1\n",
      "Current path: C:\\Users\\PC1\\OneDrive\\A5\\Daily\n",
      "Base path: C:\\Users\\PC1\\OneDrive\\A5\n",
      "Data path (dat_path): C:\\Users\\PC1\\OneDrive\\A5\\Data\n",
      "Google Drive path (god_path): C:\\Users\\PC1\\OneDrive\\Imports\\santisoontarinka@gmail.com - Google Drive\\Data\n",
      "iCloudDrive path (icd_path): C:\\Users\\PC1\\iCloudDrive\\Data\n",
      "Obsidian path (osd_path): C:\\Users\\PC1\\OneDrive\\Documents\\obsidian-git-sync\\Data\n"
     ]
    }
   ],
   "source": [
    "print(\"User path:\", user_path)\n",
    "print(f\"Current path: {current_path}\")\n",
    "print(f\"Base path: {base_path}\")\n",
    "print(f\"Data path (dat_path): {dat_path}\") \n",
    "print(f\"Google Drive path (god_path): {god_path}\")\n",
    "print(f\"iCloudDrive path (icd_path): {icd_path}\") \n",
    "print(f\"Obsidian path (osd_path): {osd_path}\") "
   ]
  },
  {
   "cell_type": "markdown",
   "id": "e01955e8",
   "metadata": {},
   "source": [
    "## Must rerun whenever there is change in orders"
   ]
  },
  {
   "cell_type": "code",
   "execution_count": 10,
   "id": "d4b5fc44",
   "metadata": {},
   "outputs": [
    {
     "data": {
      "text/html": [
       "<div>\n",
       "<style scoped>\n",
       "    .dataframe tbody tr th:only-of-type {\n",
       "        vertical-align: middle;\n",
       "    }\n",
       "\n",
       "    .dataframe tbody tr th {\n",
       "        vertical-align: top;\n",
       "    }\n",
       "\n",
       "    .dataframe thead th {\n",
       "        text-align: right;\n",
       "    }\n",
       "</style>\n",
       "<table border=\"1\" class=\"dataframe\">\n",
       "  <thead>\n",
       "    <tr style=\"text-align: right;\">\n",
       "      <th></th>\n",
       "      <th>name</th>\n",
       "      <th>date</th>\n",
       "      <th>volbuy</th>\n",
       "      <th>price</th>\n",
       "      <th>active</th>\n",
       "      <th>dividend</th>\n",
       "      <th>period</th>\n",
       "      <th>grade</th>\n",
       "    </tr>\n",
       "  </thead>\n",
       "  <tbody>\n",
       "    <tr>\n",
       "      <th>0</th>\n",
       "      <td>3BBIF</td>\n",
       "      <td>2018-05-17</td>\n",
       "      <td>120000</td>\n",
       "      <td>10.10</td>\n",
       "      <td>1</td>\n",
       "      <td>0.00</td>\n",
       "      <td>3</td>\n",
       "      <td>A3</td>\n",
       "    </tr>\n",
       "    <tr>\n",
       "      <th>1</th>\n",
       "      <td>AH</td>\n",
       "      <td>2023-06-08</td>\n",
       "      <td>1200</td>\n",
       "      <td>37.00</td>\n",
       "      <td>1</td>\n",
       "      <td>0.78</td>\n",
       "      <td>1</td>\n",
       "      <td>C1</td>\n",
       "    </tr>\n",
       "    <tr>\n",
       "      <th>2</th>\n",
       "      <td>AIMIRT</td>\n",
       "      <td>2023-08-17</td>\n",
       "      <td>12500</td>\n",
       "      <td>10.90</td>\n",
       "      <td>1</td>\n",
       "      <td>0.79</td>\n",
       "      <td>2</td>\n",
       "      <td>A1</td>\n",
       "    </tr>\n",
       "    <tr>\n",
       "      <th>3</th>\n",
       "      <td>AWC</td>\n",
       "      <td>2023-06-15</td>\n",
       "      <td>9000</td>\n",
       "      <td>4.96</td>\n",
       "      <td>1</td>\n",
       "      <td>0.07</td>\n",
       "      <td>1</td>\n",
       "      <td>A1</td>\n",
       "    </tr>\n",
       "    <tr>\n",
       "      <th>4</th>\n",
       "      <td>BCH</td>\n",
       "      <td>2021-09-07</td>\n",
       "      <td>4000</td>\n",
       "      <td>21.70</td>\n",
       "      <td>1</td>\n",
       "      <td>0.40</td>\n",
       "      <td>3</td>\n",
       "      <td>B3</td>\n",
       "    </tr>\n",
       "    <tr>\n",
       "      <th>5</th>\n",
       "      <td>CPNREIT</td>\n",
       "      <td>2022-08-16</td>\n",
       "      <td>55000</td>\n",
       "      <td>18.00</td>\n",
       "      <td>1</td>\n",
       "      <td>0.57</td>\n",
       "      <td>2</td>\n",
       "      <td>C1</td>\n",
       "    </tr>\n",
       "    <tr>\n",
       "      <th>6</th>\n",
       "      <td>DIF</td>\n",
       "      <td>2020-08-01</td>\n",
       "      <td>40000</td>\n",
       "      <td>13.10</td>\n",
       "      <td>1</td>\n",
       "      <td>0.89</td>\n",
       "      <td>2</td>\n",
       "      <td>C1</td>\n",
       "    </tr>\n",
       "    <tr>\n",
       "      <th>7</th>\n",
       "      <td>GVREIT</td>\n",
       "      <td>2022-08-24</td>\n",
       "      <td>75000</td>\n",
       "      <td>7.64</td>\n",
       "      <td>1</td>\n",
       "      <td>0.80</td>\n",
       "      <td>2</td>\n",
       "      <td>C1</td>\n",
       "    </tr>\n",
       "    <tr>\n",
       "      <th>8</th>\n",
       "      <td>IVL</td>\n",
       "      <td>2022-08-29</td>\n",
       "      <td>7200</td>\n",
       "      <td>40.00</td>\n",
       "      <td>1</td>\n",
       "      <td>0.70</td>\n",
       "      <td>3</td>\n",
       "      <td>C3</td>\n",
       "    </tr>\n",
       "    <tr>\n",
       "      <th>9</th>\n",
       "      <td>JMART</td>\n",
       "      <td>2023-01-20</td>\n",
       "      <td>6800</td>\n",
       "      <td>33.00</td>\n",
       "      <td>1</td>\n",
       "      <td>0.47</td>\n",
       "      <td>1</td>\n",
       "      <td>A2</td>\n",
       "    </tr>\n",
       "    <tr>\n",
       "      <th>10</th>\n",
       "      <td>JMT</td>\n",
       "      <td>2023-01-26</td>\n",
       "      <td>7000</td>\n",
       "      <td>37.50</td>\n",
       "      <td>1</td>\n",
       "      <td>0.66</td>\n",
       "      <td>4</td>\n",
       "      <td>C3</td>\n",
       "    </tr>\n",
       "    <tr>\n",
       "      <th>11</th>\n",
       "      <td>MCS</td>\n",
       "      <td>2016-09-20</td>\n",
       "      <td>81000</td>\n",
       "      <td>14.80</td>\n",
       "      <td>1</td>\n",
       "      <td>0.70</td>\n",
       "      <td>2</td>\n",
       "      <td>A4</td>\n",
       "    </tr>\n",
       "    <tr>\n",
       "      <th>12</th>\n",
       "      <td>NER</td>\n",
       "      <td>2021-09-01</td>\n",
       "      <td>32000</td>\n",
       "      <td>6.90</td>\n",
       "      <td>1</td>\n",
       "      <td>0.36</td>\n",
       "      <td>2</td>\n",
       "      <td>A1</td>\n",
       "    </tr>\n",
       "    <tr>\n",
       "      <th>13</th>\n",
       "      <td>ORI</td>\n",
       "      <td>2022-04-07</td>\n",
       "      <td>60000</td>\n",
       "      <td>8.97</td>\n",
       "      <td>1</td>\n",
       "      <td>0.02</td>\n",
       "      <td>1</td>\n",
       "      <td>C2</td>\n",
       "    </tr>\n",
       "    <tr>\n",
       "      <th>14</th>\n",
       "      <td>PTG</td>\n",
       "      <td>2023-07-12</td>\n",
       "      <td>3600</td>\n",
       "      <td>11.40</td>\n",
       "      <td>1</td>\n",
       "      <td>0.35</td>\n",
       "      <td>4</td>\n",
       "      <td>B2</td>\n",
       "    </tr>\n",
       "    <tr>\n",
       "      <th>15</th>\n",
       "      <td>PTTGC</td>\n",
       "      <td>2021-03-17</td>\n",
       "      <td>6000</td>\n",
       "      <td>64.75</td>\n",
       "      <td>1</td>\n",
       "      <td>0.50</td>\n",
       "      <td>1</td>\n",
       "      <td>C2</td>\n",
       "    </tr>\n",
       "    <tr>\n",
       "      <th>16</th>\n",
       "      <td>RCL</td>\n",
       "      <td>2021-11-08</td>\n",
       "      <td>27000</td>\n",
       "      <td>38.75</td>\n",
       "      <td>1</td>\n",
       "      <td>2.50</td>\n",
       "      <td>3</td>\n",
       "      <td>A3</td>\n",
       "    </tr>\n",
       "    <tr>\n",
       "      <th>17</th>\n",
       "      <td>SCC</td>\n",
       "      <td>2021-09-20</td>\n",
       "      <td>600</td>\n",
       "      <td>405.00</td>\n",
       "      <td>1</td>\n",
       "      <td>5.00</td>\n",
       "      <td>1</td>\n",
       "      <td>C2</td>\n",
       "    </tr>\n",
       "    <tr>\n",
       "      <th>18</th>\n",
       "      <td>SENA</td>\n",
       "      <td>2022-03-29</td>\n",
       "      <td>105000</td>\n",
       "      <td>4.48</td>\n",
       "      <td>1</td>\n",
       "      <td>0.11</td>\n",
       "      <td>2</td>\n",
       "      <td>B1</td>\n",
       "    </tr>\n",
       "    <tr>\n",
       "      <th>19</th>\n",
       "      <td>SINGER</td>\n",
       "      <td>2023-01-19</td>\n",
       "      <td>6000</td>\n",
       "      <td>24.80</td>\n",
       "      <td>1</td>\n",
       "      <td>0.00</td>\n",
       "      <td>1</td>\n",
       "      <td>A3</td>\n",
       "    </tr>\n",
       "    <tr>\n",
       "      <th>20</th>\n",
       "      <td>STA</td>\n",
       "      <td>2021-06-15</td>\n",
       "      <td>10000</td>\n",
       "      <td>30.00</td>\n",
       "      <td>1</td>\n",
       "      <td>1.00</td>\n",
       "      <td>3</td>\n",
       "      <td>A4</td>\n",
       "    </tr>\n",
       "    <tr>\n",
       "      <th>21</th>\n",
       "      <td>SYNEX</td>\n",
       "      <td>2022-01-07</td>\n",
       "      <td>15000</td>\n",
       "      <td>28.70</td>\n",
       "      <td>1</td>\n",
       "      <td>0.44</td>\n",
       "      <td>3</td>\n",
       "      <td>A1</td>\n",
       "    </tr>\n",
       "    <tr>\n",
       "      <th>22</th>\n",
       "      <td>TFFIF</td>\n",
       "      <td>2023-07-06</td>\n",
       "      <td>20000</td>\n",
       "      <td>7.50</td>\n",
       "      <td>1</td>\n",
       "      <td>0.46</td>\n",
       "      <td>2</td>\n",
       "      <td>C1</td>\n",
       "    </tr>\n",
       "    <tr>\n",
       "      <th>23</th>\n",
       "      <td>TOA</td>\n",
       "      <td>2023-09-06</td>\n",
       "      <td>1000</td>\n",
       "      <td>26.00</td>\n",
       "      <td>1</td>\n",
       "      <td>0.60</td>\n",
       "      <td>4</td>\n",
       "      <td>C1</td>\n",
       "    </tr>\n",
       "    <tr>\n",
       "      <th>24</th>\n",
       "      <td>TVO</td>\n",
       "      <td>2024-11-06</td>\n",
       "      <td>8000</td>\n",
       "      <td>24.00</td>\n",
       "      <td>1</td>\n",
       "      <td>1.73</td>\n",
       "      <td>3</td>\n",
       "      <td>A4</td>\n",
       "    </tr>\n",
       "    <tr>\n",
       "      <th>25</th>\n",
       "      <td>WHAIR</td>\n",
       "      <td>2021-10-11</td>\n",
       "      <td>50000</td>\n",
       "      <td>8.70</td>\n",
       "      <td>1</td>\n",
       "      <td>0.55</td>\n",
       "      <td>2</td>\n",
       "      <td>B1</td>\n",
       "    </tr>\n",
       "    <tr>\n",
       "      <th>26</th>\n",
       "      <td>WHART</td>\n",
       "      <td>2022-01-05</td>\n",
       "      <td>25000</td>\n",
       "      <td>11.60</td>\n",
       "      <td>1</td>\n",
       "      <td>0.71</td>\n",
       "      <td>2</td>\n",
       "      <td>C1</td>\n",
       "    </tr>\n",
       "  </tbody>\n",
       "</table>\n",
       "</div>"
      ],
      "text/plain": [
       "       name        date  volbuy  price  active  dividend period grade\n",
       "0     3BBIF  2018-05-17  120000  10.10       1      0.00      3    A3\n",
       "1        AH  2023-06-08    1200  37.00       1      0.78      1    C1\n",
       "2    AIMIRT  2023-08-17   12500  10.90       1      0.79      2    A1\n",
       "3       AWC  2023-06-15    9000   4.96       1      0.07      1    A1\n",
       "4       BCH  2021-09-07    4000  21.70       1      0.40      3    B3\n",
       "5   CPNREIT  2022-08-16   55000  18.00       1      0.57      2    C1\n",
       "6       DIF  2020-08-01   40000  13.10       1      0.89      2    C1\n",
       "7    GVREIT  2022-08-24   75000   7.64       1      0.80      2    C1\n",
       "8       IVL  2022-08-29    7200  40.00       1      0.70      3    C3\n",
       "9     JMART  2023-01-20    6800  33.00       1      0.47      1    A2\n",
       "10      JMT  2023-01-26    7000  37.50       1      0.66      4    C3\n",
       "11      MCS  2016-09-20   81000  14.80       1      0.70      2    A4\n",
       "12      NER  2021-09-01   32000   6.90       1      0.36      2    A1\n",
       "13      ORI  2022-04-07   60000   8.97       1      0.02      1    C2\n",
       "14      PTG  2023-07-12    3600  11.40       1      0.35      4    B2\n",
       "15    PTTGC  2021-03-17    6000  64.75       1      0.50      1    C2\n",
       "16      RCL  2021-11-08   27000  38.75       1      2.50      3    A3\n",
       "17      SCC  2021-09-20     600 405.00       1      5.00      1    C2\n",
       "18     SENA  2022-03-29  105000   4.48       1      0.11      2    B1\n",
       "19   SINGER  2023-01-19    6000  24.80       1      0.00      1    A3\n",
       "20      STA  2021-06-15   10000  30.00       1      1.00      3    A4\n",
       "21    SYNEX  2022-01-07   15000  28.70       1      0.44      3    A1\n",
       "22    TFFIF  2023-07-06   20000   7.50       1      0.46      2    C1\n",
       "23      TOA  2023-09-06    1000  26.00       1      0.60      4    C1\n",
       "24      TVO  2024-11-06    8000  24.00       1      1.73      3    A4\n",
       "25    WHAIR  2021-10-11   50000   8.70       1      0.55      2    B1\n",
       "26    WHART  2022-01-05   25000  11.60       1      0.71      2    C1"
      ]
     },
     "execution_count": 10,
     "metadata": {},
     "output_type": "execute_result"
    }
   ],
   "source": [
    "sql = \"\"\"\n",
    "SELECT name, date, volbuy, price, active, dividend, period, grade \n",
    "FROM buy\n",
    "ORDER BY name\"\"\"\n",
    "stocks = pd.read_sql(sql, const)\n",
    "stocks['volbuy'] = stocks['volbuy'].astype('int64')\n",
    "stocks"
   ]
  },
  {
   "cell_type": "code",
   "execution_count": 11,
   "id": "018d9072",
   "metadata": {},
   "outputs": [
    {
     "data": {
      "text/plain": [
       "\"'3BBIF', 'AH', 'AIMIRT', 'AWC', 'BCH', 'CPNREIT', 'DIF', 'GVREIT', 'IVL', 'JMART', 'JMT', 'MCS', 'NER', 'ORI', 'PTG', 'PTTGC', 'RCL', 'SCC', 'SENA', 'SINGER', 'STA', 'SYNEX', 'TFFIF', 'TOA', 'TVO', 'WHAIR', 'WHART'\""
      ]
     },
     "execution_count": 11,
     "metadata": {},
     "output_type": "execute_result"
    }
   ],
   "source": [
    "names = stocks[\"name\"].values.tolist()\n",
    "in_p = \", \".join(map(lambda name: \"'%s'\" % name, names))\n",
    "in_p"
   ]
  },
  {
   "cell_type": "code",
   "execution_count": 12,
   "id": "d6b5b24c",
   "metadata": {},
   "outputs": [
    {
     "name": "stdout",
     "output_type": "stream",
     "text": [
      "Input file: C:\\Users\\PC1\\OneDrive\\A5\\Data\\Price-Today.csv\n"
     ]
    }
   ],
   "source": [
    "file_name = \"Price-Today.csv\"\n",
    "input_file = os.path.join(dat_path, file_name)\n",
    "print(f\"Input file: {input_file}\")"
   ]
  },
  {
   "cell_type": "code",
   "execution_count": 13,
   "id": "f9f6b3d9",
   "metadata": {},
   "outputs": [
    {
     "data": {
      "text/plain": [
       "(169, 10)"
      ]
     },
     "execution_count": 13,
     "metadata": {},
     "output_type": "execute_result"
    }
   ],
   "source": [
    "prices = pd.read_csv(input_file)\n",
    "prices.shape"
   ]
  },
  {
   "cell_type": "code",
   "execution_count": 14,
   "id": "5b436ae1",
   "metadata": {},
   "outputs": [
    {
     "data": {
      "text/plain": [
       "(27, 17)"
      ]
     },
     "execution_count": 14,
     "metadata": {},
     "output_type": "execute_result"
    }
   ],
   "source": [
    "df_merge  = pd.merge(stocks, prices, on = 'name', how='inner')\n",
    "df_merge.shape"
   ]
  },
  {
   "cell_type": "markdown",
   "id": "dca31fd8",
   "metadata": {},
   "source": [
    "### Convert column name to make it valid for df.query"
   ]
  },
  {
   "cell_type": "code",
   "execution_count": 16,
   "id": "74604b91",
   "metadata": {},
   "outputs": [],
   "source": [
    "pd.options.display.max_rows = 30\n",
    "df_merge['percent'] = df_merge['%change']\n",
    "df_merge['chg_amt'] = df_merge['volbuy'] * df_merge['change']\n",
    "df_merge['volbuy'] = df_merge['volbuy'].astype('int64')\n",
    "colo = ['name', 'volbuy', 'price_x', 'price_y', 'change', 'percent', 'chg_amt']\n",
    "filter = df_merge['percent'] != 0\n",
    "df_pct = df_merge[filter][colo].sort_values(by='percent', ascending=True).copy()\n",
    "df_amt = df_merge[filter][colo].sort_values(by='chg_amt', ascending=True).copy()"
   ]
  },
  {
   "cell_type": "code",
   "execution_count": 17,
   "id": "3dd1574d",
   "metadata": {},
   "outputs": [
    {
     "data": {
      "text/plain": [
       "(21, 7)"
      ]
     },
     "execution_count": 17,
     "metadata": {},
     "output_type": "execute_result"
    }
   ],
   "source": [
    "df_pct.shape"
   ]
  },
  {
   "cell_type": "code",
   "execution_count": 18,
   "id": "f21670dc",
   "metadata": {},
   "outputs": [
    {
     "data": {
      "text/plain": [
       "(21, 7)"
      ]
     },
     "execution_count": 18,
     "metadata": {},
     "output_type": "execute_result"
    }
   ],
   "source": [
    "df_amt.shape"
   ]
  },
  {
   "cell_type": "code",
   "execution_count": 19,
   "id": "d964ad8e",
   "metadata": {},
   "outputs": [
    {
     "data": {
      "text/html": [
       "<style type=\"text/css\">\n",
       "</style>\n",
       "<table id=\"T_b5c87\">\n",
       "  <thead>\n",
       "    <tr>\n",
       "      <th class=\"blank level0\" >&nbsp;</th>\n",
       "      <th id=\"T_b5c87_level0_col0\" class=\"col_heading level0 col0\" >name</th>\n",
       "      <th id=\"T_b5c87_level0_col1\" class=\"col_heading level0 col1\" >volbuy</th>\n",
       "      <th id=\"T_b5c87_level0_col2\" class=\"col_heading level0 col2\" >price_x</th>\n",
       "      <th id=\"T_b5c87_level0_col3\" class=\"col_heading level0 col3\" >price_y</th>\n",
       "      <th id=\"T_b5c87_level0_col4\" class=\"col_heading level0 col4\" >change</th>\n",
       "      <th id=\"T_b5c87_level0_col5\" class=\"col_heading level0 col5\" >percent</th>\n",
       "      <th id=\"T_b5c87_level0_col6\" class=\"col_heading level0 col6\" >chg_amt</th>\n",
       "    </tr>\n",
       "  </thead>\n",
       "  <tbody>\n",
       "    <tr>\n",
       "      <th id=\"T_b5c87_level0_row0\" class=\"row_heading level0 row0\" >17</th>\n",
       "      <td id=\"T_b5c87_row0_col0\" class=\"data row0 col0\" >SCC</td>\n",
       "      <td id=\"T_b5c87_row0_col1\" class=\"data row0 col1\" >600</td>\n",
       "      <td id=\"T_b5c87_row0_col2\" class=\"data row0 col2\" >405.00</td>\n",
       "      <td id=\"T_b5c87_row0_col3\" class=\"data row0 col3\" >203.00</td>\n",
       "      <td id=\"T_b5c87_row0_col4\" class=\"data row0 col4\" >6.00</td>\n",
       "      <td id=\"T_b5c87_row0_col5\" class=\"data row0 col5\" >3.05</td>\n",
       "      <td id=\"T_b5c87_row0_col6\" class=\"data row0 col6\" >3,600.00</td>\n",
       "    </tr>\n",
       "  </tbody>\n",
       "</table>\n"
      ],
      "text/plain": [
       "<pandas.io.formats.style.Styler at 0x1f3cd3af740>"
      ]
     },
     "execution_count": 19,
     "metadata": {},
     "output_type": "execute_result"
    }
   ],
   "source": [
    "df_pct.query('percent >= 3.00').style.format(format_dict)"
   ]
  },
  {
   "cell_type": "code",
   "execution_count": 20,
   "id": "d529804c",
   "metadata": {},
   "outputs": [
    {
     "data": {
      "text/html": [
       "<style type=\"text/css\">\n",
       "</style>\n",
       "<table id=\"T_7620c\">\n",
       "  <thead>\n",
       "    <tr>\n",
       "      <th class=\"blank level0\" >&nbsp;</th>\n",
       "      <th id=\"T_7620c_level0_col0\" class=\"col_heading level0 col0\" >name</th>\n",
       "      <th id=\"T_7620c_level0_col1\" class=\"col_heading level0 col1\" >volbuy</th>\n",
       "      <th id=\"T_7620c_level0_col2\" class=\"col_heading level0 col2\" >price_x</th>\n",
       "      <th id=\"T_7620c_level0_col3\" class=\"col_heading level0 col3\" >price_y</th>\n",
       "      <th id=\"T_7620c_level0_col4\" class=\"col_heading level0 col4\" >change</th>\n",
       "      <th id=\"T_7620c_level0_col5\" class=\"col_heading level0 col5\" >percent</th>\n",
       "      <th id=\"T_7620c_level0_col6\" class=\"col_heading level0 col6\" >chg_amt</th>\n",
       "    </tr>\n",
       "  </thead>\n",
       "  <tbody>\n",
       "  </tbody>\n",
       "</table>\n"
      ],
      "text/plain": [
       "<pandas.io.formats.style.Styler at 0x1f3cd5cdc70>"
      ]
     },
     "execution_count": 20,
     "metadata": {},
     "output_type": "execute_result"
    }
   ],
   "source": [
    "df_pct.query('percent < -3.00').style.format(format_dict)"
   ]
  },
  {
   "cell_type": "code",
   "execution_count": 21,
   "id": "1ede7b61",
   "metadata": {},
   "outputs": [
    {
     "data": {
      "text/html": [
       "<style type=\"text/css\">\n",
       "</style>\n",
       "<table id=\"T_1d17a\">\n",
       "  <thead>\n",
       "    <tr>\n",
       "      <th class=\"blank level0\" >&nbsp;</th>\n",
       "      <th id=\"T_1d17a_level0_col0\" class=\"col_heading level0 col0\" >name</th>\n",
       "      <th id=\"T_1d17a_level0_col1\" class=\"col_heading level0 col1\" >volbuy</th>\n",
       "      <th id=\"T_1d17a_level0_col2\" class=\"col_heading level0 col2\" >price_x</th>\n",
       "      <th id=\"T_1d17a_level0_col3\" class=\"col_heading level0 col3\" >price_y</th>\n",
       "      <th id=\"T_1d17a_level0_col4\" class=\"col_heading level0 col4\" >change</th>\n",
       "      <th id=\"T_1d17a_level0_col5\" class=\"col_heading level0 col5\" >percent</th>\n",
       "      <th id=\"T_1d17a_level0_col6\" class=\"col_heading level0 col6\" >chg_amt</th>\n",
       "    </tr>\n",
       "  </thead>\n",
       "  <tbody>\n",
       "    <tr>\n",
       "      <th id=\"T_1d17a_level0_row0\" class=\"row_heading level0 row0\" >0</th>\n",
       "      <td id=\"T_1d17a_row0_col0\" class=\"data row0 col0\" >3BBIF</td>\n",
       "      <td id=\"T_1d17a_row0_col1\" class=\"data row0 col1\" >120,000</td>\n",
       "      <td id=\"T_1d17a_row0_col2\" class=\"data row0 col2\" >10.10</td>\n",
       "      <td id=\"T_1d17a_row0_col3\" class=\"data row0 col3\" >6.10</td>\n",
       "      <td id=\"T_1d17a_row0_col4\" class=\"data row0 col4\" >0.05</td>\n",
       "      <td id=\"T_1d17a_row0_col5\" class=\"data row0 col5\" >0.83</td>\n",
       "      <td id=\"T_1d17a_row0_col6\" class=\"data row0 col6\" >6,000.00</td>\n",
       "    </tr>\n",
       "  </tbody>\n",
       "</table>\n"
      ],
      "text/plain": [
       "<pandas.io.formats.style.Styler at 0x1f3ce463860>"
      ]
     },
     "execution_count": 21,
     "metadata": {},
     "output_type": "execute_result"
    }
   ],
   "source": [
    "df_amt.query('chg_amt >= 6000').style.format(format_dict)"
   ]
  },
  {
   "cell_type": "code",
   "execution_count": 22,
   "id": "a7c3bce3",
   "metadata": {},
   "outputs": [
    {
     "data": {
      "text/html": [
       "<style type=\"text/css\">\n",
       "</style>\n",
       "<table id=\"T_8cb8e\">\n",
       "  <thead>\n",
       "    <tr>\n",
       "      <th class=\"blank level0\" >&nbsp;</th>\n",
       "      <th id=\"T_8cb8e_level0_col0\" class=\"col_heading level0 col0\" >name</th>\n",
       "      <th id=\"T_8cb8e_level0_col1\" class=\"col_heading level0 col1\" >volbuy</th>\n",
       "      <th id=\"T_8cb8e_level0_col2\" class=\"col_heading level0 col2\" >price_x</th>\n",
       "      <th id=\"T_8cb8e_level0_col3\" class=\"col_heading level0 col3\" >price_y</th>\n",
       "      <th id=\"T_8cb8e_level0_col4\" class=\"col_heading level0 col4\" >change</th>\n",
       "      <th id=\"T_8cb8e_level0_col5\" class=\"col_heading level0 col5\" >percent</th>\n",
       "      <th id=\"T_8cb8e_level0_col6\" class=\"col_heading level0 col6\" >chg_amt</th>\n",
       "    </tr>\n",
       "  </thead>\n",
       "  <tbody>\n",
       "    <tr>\n",
       "      <th id=\"T_8cb8e_level0_row0\" class=\"row_heading level0 row0\" >16</th>\n",
       "      <td id=\"T_8cb8e_row0_col0\" class=\"data row0 col0\" >RCL</td>\n",
       "      <td id=\"T_8cb8e_row0_col1\" class=\"data row0 col1\" >27,000</td>\n",
       "      <td id=\"T_8cb8e_row0_col2\" class=\"data row0 col2\" >38.75</td>\n",
       "      <td id=\"T_8cb8e_row0_col3\" class=\"data row0 col3\" >28.50</td>\n",
       "      <td id=\"T_8cb8e_row0_col4\" class=\"data row0 col4\" >-0.75</td>\n",
       "      <td id=\"T_8cb8e_row0_col5\" class=\"data row0 col5\" >-2.56</td>\n",
       "      <td id=\"T_8cb8e_row0_col6\" class=\"data row0 col6\" >-20,250.00</td>\n",
       "    </tr>\n",
       "  </tbody>\n",
       "</table>\n"
      ],
      "text/plain": [
       "<pandas.io.formats.style.Styler at 0x1f3ce463050>"
      ]
     },
     "execution_count": 22,
     "metadata": {},
     "output_type": "execute_result"
    }
   ],
   "source": [
    "df_amt.query('chg_amt < -6000').style.format(format_dict)"
   ]
  },
  {
   "cell_type": "code",
   "execution_count": 23,
   "id": "84effa78-e8d5-48a8-ac7f-4b59ae96d0ee",
   "metadata": {},
   "outputs": [],
   "source": [
    "float_formatter = \"฿{:,.2f}\""
   ]
  },
  {
   "cell_type": "code",
   "execution_count": 24,
   "id": "34d44c2d-8a48-4f0a-8781-d575cac5ddca",
   "metadata": {},
   "outputs": [
    {
     "data": {
      "text/plain": [
       "'฿27,290.00'"
      ]
     },
     "execution_count": 24,
     "metadata": {},
     "output_type": "execute_result"
    }
   ],
   "source": [
    "float_formatter.format(df_amt.query('chg_amt >= 0')['chg_amt'].sum())"
   ]
  },
  {
   "cell_type": "code",
   "execution_count": 25,
   "id": "fa3a3ede",
   "metadata": {},
   "outputs": [
    {
     "data": {
      "text/plain": [
       "'฿-33,845.00'"
      ]
     },
     "execution_count": 25,
     "metadata": {},
     "output_type": "execute_result"
    }
   ],
   "source": [
    "float_formatter.format(df_amt.query('chg_amt < 0')['chg_amt'].sum())"
   ]
  },
  {
   "cell_type": "code",
   "execution_count": 26,
   "id": "71314eb9-dc2f-4aaa-870b-05a65469986b",
   "metadata": {},
   "outputs": [
    {
     "data": {
      "text/plain": [
       "'฿-6,555.00'"
      ]
     },
     "execution_count": 26,
     "metadata": {},
     "output_type": "execute_result"
    }
   ],
   "source": [
    "float_formatter.format(df_amt.chg_amt.sum())"
   ]
  },
  {
   "cell_type": "code",
   "execution_count": 27,
   "id": "87d37abc-1540-4237-b6e3-4182fb10861c",
   "metadata": {},
   "outputs": [
    {
     "name": "stdout",
     "output_type": "stream",
     "text": [
      "2025-08-04 20:20:40\n"
     ]
    }
   ],
   "source": [
    "# Get the current time\n",
    "current_time = datetime.now()\n",
    "# Format the time to remove milliseconds\n",
    "formatted_time = current_time.strftime(\"%Y-%m-%d %H:%M:%S\")\n",
    "print(formatted_time)"
   ]
  },
  {
   "cell_type": "code",
   "execution_count": null,
   "id": "d079f537-f5fc-4de9-af01-020e4f10504d",
   "metadata": {},
   "outputs": [],
   "source": []
  }
 ],
 "metadata": {
  "kernelspec": {
   "display_name": "Python 3 (ipykernel)",
   "language": "python",
   "name": "python3"
  },
  "language_info": {
   "codemirror_mode": {
    "name": "ipython",
    "version": 3
   },
   "file_extension": ".py",
   "mimetype": "text/x-python",
   "name": "python",
   "nbconvert_exporter": "python",
   "pygments_lexer": "ipython3",
   "version": "3.12.3"
  }
 },
 "nbformat": 4,
 "nbformat_minor": 5
}
