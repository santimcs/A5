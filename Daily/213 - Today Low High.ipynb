{
 "cells": [
  {
   "cell_type": "markdown",
   "id": "930356c6",
   "metadata": {},
   "source": [
    "### Start and Run All"
   ]
  },
  {
   "cell_type": "code",
   "execution_count": 2,
   "id": "d7cfc693",
   "metadata": {},
   "outputs": [
    {
     "data": {
      "text/plain": [
       "datetime.datetime(2025, 1, 23, 21, 19, 9, 165856)"
      ]
     },
     "execution_count": 2,
     "metadata": {},
     "output_type": "execute_result"
    }
   ],
   "source": [
    "import os\n",
    "import pandas as pd\n",
    "from urllib import request\n",
    "from bs4 import BeautifulSoup\n",
    "# from datetime import date, timedelta\n",
    "from datetime import datetime\n",
    "from time import sleep, strftime\n",
    "current_time = datetime.now()\n",
    "current_time"
   ]
  },
  {
   "cell_type": "code",
   "execution_count": 4,
   "id": "0cbdda38-ec42-4470-bede-c468ba46f8d8",
   "metadata": {},
   "outputs": [],
   "source": [
    "url = \"https://www.set.or.th/en/market/product/stock/quote/\"\n",
    "percent_span = '' "
   ]
  },
  {
   "cell_type": "code",
   "execution_count": 6,
   "id": "6e4b7508-0071-480d-99c8-a6c070027294",
   "metadata": {},
   "outputs": [],
   "source": [
    "# Get the user's home directory\n",
    "user_path = os.path.expanduser('~')\n",
    "# Get the current working directory\n",
    "current_path = os.getcwd()\n",
    "# Derive the base directory (base_dir) by removing the last folder ('Daily')\n",
    "base_path = os.path.dirname(current_path)\n",
    "#C:\\Users\\PC1\\OneDrive\\A5\\Data\n",
    "dat_path = os.path.join(base_path, \"Data\")\n",
    "#C:\\Users\\PC1\\OneDrive\\Imports\\santisoontarinka@gmail.com - Google Drive\\Data>\n",
    "god_path = os.path.join(user_path, \"OneDrive\",\"Imports\",\"santisoontarinka@gmail.com - Google Drive\",\"Data\")\n",
    "#C:\\Users\\PC1\\iCloudDrive\\data\n",
    "icd_path = os.path.join(user_path, \"iCloudDrive\", \"Data\")\n",
    "#C:\\Users\\PC1\\OneDrive\\Documents\\obsidian-git-sync\\Data\n",
    "osd_path = os.path.join(user_path, \"OneDrive\",\"Documents\",\"obsidian-git-sync\",\"Data\")"
   ]
  },
  {
   "cell_type": "code",
   "execution_count": 8,
   "id": "07defeb3-a742-4e64-8089-7e4fe5b8b93c",
   "metadata": {},
   "outputs": [
    {
     "name": "stdout",
     "output_type": "stream",
     "text": [
      "User path: C:\\Users\\PC1\n",
      "Current path: C:\\Users\\PC1\\OneDrive\\A5\\Daily\n",
      "Base path: C:\\Users\\PC1\\OneDrive\\A5\n",
      "Data path : C:\\Users\\PC1\\OneDrive\\A5\\Data\n",
      "Google Drive path : C:\\Users\\PC1\\OneDrive\\Imports\\santisoontarinka@gmail.com - Google Drive\\Data\n",
      "iCloudDrive path : C:\\Users\\PC1\\iCloudDrive\\Data\n",
      "OSD path : C:\\Users\\PC1\\OneDrive\\Documents\\obsidian-git-sync\\Data\n"
     ]
    }
   ],
   "source": [
    "print(\"User path:\", user_path)\n",
    "print(f\"Current path: {current_path}\")\n",
    "print(f\"Base path: {base_path}\")\n",
    "print(f\"Data path : {dat_path}\") \n",
    "print(f\"Google Drive path : {god_path}\")\n",
    "print(f\"iCloudDrive path : {icd_path}\") \n",
    "print(f\"OSD path : {osd_path}\") "
   ]
  },
  {
   "cell_type": "code",
   "execution_count": 10,
   "id": "08576879-dc60-431b-a31a-e1893e2d7922",
   "metadata": {},
   "outputs": [
    {
     "name": "stdout",
     "output_type": "stream",
     "text": [
      "Input file : C:\\Users\\PC1\\OneDrive\\A5\\Data\\name-ttl.csv\n"
     ]
    }
   ],
   "source": [
    "file_name = \"name-ttl.csv\"\n",
    "input_file = os.path.join(dat_path, file_name)\n",
    "print(f\"Input file : {input_file}\") "
   ]
  },
  {
   "cell_type": "code",
   "execution_count": 12,
   "id": "9b9668db-0773-4de5-9bd4-864c377dab80",
   "metadata": {},
   "outputs": [],
   "source": [
    "file_name = \"price-hilo.csv\"\n",
    "output_file = os.path.join(dat_path, file_name)\n",
    "god_file = os.path.join(god_path, file_name)\n",
    "icd_file = os.path.join(icd_path, file_name)\n",
    "osd_file = os.path.join(osd_path, file_name)"
   ]
  },
  {
   "cell_type": "code",
   "execution_count": 14,
   "id": "66c38ef5-8643-4ad3-81ff-9e2275d426d5",
   "metadata": {},
   "outputs": [
    {
     "name": "stdout",
     "output_type": "stream",
     "text": [
      "Output file : C:\\Users\\PC1\\OneDrive\\A5\\Data\\price-hilo.csv\n",
      "icd_file : C:\\Users\\PC1\\iCloudDrive\\Data\\price-hilo.csv\n",
      "god_file : C:\\Users\\PC1\\OneDrive\\Imports\\santisoontarinka@gmail.com - Google Drive\\Data\\price-hilo.csv\n",
      "osd_file : C:\\Users\\PC1\\OneDrive\\Documents\\obsidian-git-sync\\Data\\price-hilo.csv\n"
     ]
    }
   ],
   "source": [
    "print(f\"Output file : {output_file}\") \n",
    "print(f\"icd_file : {icd_file}\") \n",
    "print(f\"god_file : {god_file}\") \n",
    "print(f\"osd_file : {osd_file}\")"
   ]
  },
  {
   "cell_type": "code",
   "execution_count": 16,
   "id": "c1ec2693",
   "metadata": {},
   "outputs": [],
   "source": [
    "def cvt_str_to_flt(input_str):\n",
    "    # Check for the special pattern and return 0\n",
    "    if input_str == '(-)':\n",
    "        return 0\n",
    "    \n",
    "    # Remove parentheses and percent sign\n",
    "    cleaned_str = input_str.replace('(', '').replace(')', '').replace('%', '')\n",
    "\n",
    "    # Convert to float\n",
    "    try:\n",
    "        return float(cleaned_str)\n",
    "    except ValueError:\n",
    "        # Handle the case where the conversion fails\n",
    "        return None\n",
    " "
   ]
  },
  {
   "cell_type": "code",
   "execution_count": 18,
   "id": "334bed1f",
   "metadata": {},
   "outputs": [],
   "source": [
    "def get_stock_data(in_df):\n",
    "\n",
    "    in_df.columns = ['name']\n",
    "    \n",
    "    output_columns = ['name', 'price', 'today_low', 'today_high', 'year_low', 'year_high', 'percent', 'updated_at']\n",
    "    # Initialize an empty DataFrame with specified columns\n",
    "    out_df = pd.DataFrame(columns=output_columns)\n",
    "    \n",
    "    for index, row in in_df.iterrows():\n",
    "        name = str(row['name']).upper()\n",
    "        response = request.urlopen(url + name + '/price')\n",
    "        html_page = BeautifulSoup(response, 'html.parser')\n",
    "        \n",
    "  #      price = html_page.find('div', class_='value text-white mb-0 me-2 lh-1 stock-info').text.strip()        \n",
    "  #      if (price == '-'):\n",
    "  #          price = '0.00'        \n",
    "\n",
    "        price_div = html_page.find('div', class_='value text-white mb-0 me-2 lh-1 stock-info')\n",
    "        if price_div:\n",
    "            price = price_div.text.strip()\n",
    "        else:\n",
    "            print(f\"Price div not found for {name}\")\n",
    "            price = '0.00'     \n",
    "            \n",
    "        # Try to find the <h3> tag with the class 'theme-success'\n",
    "        h3_tag = html_page.find('h3', class_='theme-success')\n",
    "        if h3_tag:\n",
    "        # Find all <span> tags within the found <h3> tag\n",
    "            span_tags = h3_tag.find_all('span')\n",
    "    \n",
    "            if len(span_tags) > 1:\n",
    "                # Extract the text from the second <span> tag\n",
    "                percent_span = span_tags[1].text\n",
    "                # print(percent_span)\n",
    "                \n",
    "        # Try to find the <h3> tag with the class 'theme-danger'\n",
    "        h3_tag = html_page.find('h3', class_='theme-danger')\n",
    "        if h3_tag:\n",
    "        # Find all <span> tags within the found <h3> tag\n",
    "            span_tags = h3_tag.find_all('span')\n",
    "    \n",
    "            if len(span_tags) > 1:\n",
    "                # Extract the text from the second <span> tag\n",
    "                percent_span = span_tags[1].text\n",
    "                # print(percent_span)    \n",
    "                \n",
    "        # Try to find the <h3> tag with the class 'theme-danger'\n",
    "        h3_tag = html_page.find('h3', class_='theme-normal')\n",
    "        if h3_tag:\n",
    "        # Find all <span> tags within the found <h3> tag\n",
    "            span_tags = h3_tag.find_all('span')\n",
    "    \n",
    "            if len(span_tags) > 1:\n",
    "                # Extract the text from the second <span> tag\n",
    "                percent_span = span_tags[1].text\n",
    "                # print(percent_span)   \n",
    "                \n",
    "        percent = cvt_str_to_flt(percent_span)\n",
    "                \n",
    "        values_low = html_page.find_all('span', class_='title-font-family fs-16px fw-bolder me-auto lh-1')\n",
    "        today_low = values_low[0].text\n",
    "        if (today_low == '-'):\n",
    "            today_low = '0.00'\n",
    "        \n",
    "        values_high = html_page.find_all('span', class_='title-font-family fs-16px fw-bolder lh-1')\n",
    "        today_high = values_high[0].text\n",
    "        if (today_high == '-'):\n",
    "            today_high = '0.00'         \n",
    "        \n",
    "        year_low = values_low[1].text        \n",
    "        year_high = values_high[1].text     \n",
    "        \n",
    "        # Find the div with the specific class, then find the span within it\n",
    "        div = html_page.find('div', class_='price-detail-date d-flex align-items-center text-nowrap fs-12px')\n",
    "        if div:\n",
    "            span = div.find('span')\n",
    "            if span:\n",
    "                text = span.get_text()\n",
    "#                 print(text)\n",
    "            else:\n",
    "                print(\"Span not found\")\n",
    "        else:\n",
    "            print(\"Div not found\")\n",
    "            \n",
    "        # Extract the date part from the string\n",
    "        # Assuming the date is always in the format 'dd Mon yyyy'\n",
    "        date_str = ' '.join(text.split()[2:5])\n",
    "\n",
    "        # Parse the date string into a datetime object\n",
    "        date_obj = datetime.strptime(date_str, '%d %b %Y')\n",
    "\n",
    "        # Format the datetime object to 'yyyy-mm-dd'\n",
    "        updated_at = date_obj.strftime('%Y-%m-%d')\n",
    "\n",
    "#         print(updated_at)\n",
    "        \n",
    "        # Append row to the DataFrame and print the row\n",
    "        out_df.loc[len(out_df)] = [name, price, today_low, today_high, year_low, year_high, percent, updated_at]\n",
    "#       print(out_df.iloc[-1].to_string(header=False, index=False)) \n",
    "        print(','.join(map(str, out_df.iloc[-1])))\n",
    "        sleep(1)\n",
    "        \n",
    "    return out_df  # return the final dataframe with all values populated"
   ]
  },
  {
   "cell_type": "code",
   "execution_count": 20,
   "id": "94abc8d4",
   "metadata": {},
   "outputs": [
    {
     "name": "stdout",
     "output_type": "stream",
     "text": [
      "Start at:  09:22 PM\n"
     ]
    }
   ],
   "source": [
    "start_time = strftime(\"%I:%M %p\")\n",
    "print('Start at: ', start_time)"
   ]
  },
  {
   "cell_type": "code",
   "execution_count": 22,
   "id": "23b565ec",
   "metadata": {},
   "outputs": [
    {
     "name": "stdout",
     "output_type": "stream",
     "text": [
      "ACE,1.26,1.25,1.27,1.25,1.60,0.0,2025-01-23\n",
      "ADVANC,283.00,283.00,288.00,193.00,299.00,-2.08,2025-01-23\n",
      "AEONTS,113.50,113.50,118.50,107.00,168.50,-3.81,2025-01-23\n",
      "AH,14.10,13.90,14.40,14.00,29.50,-0.7,2025-01-23\n",
      "AIE,0.78,0.77,0.79,0.74,1.51,-1.27,2025-01-23\n",
      "AIMIRT,10.40,10.40,10.50,10.20,11.20,-0.95,2025-01-23\n",
      "AIT,4.26,4.24,4.38,3.62,5.05,-1.84,2025-01-23\n",
      "AJ,2.48,2.44,2.56,2.36,7.15,1.64,2025-01-23\n",
      "AMATA,26.75,26.75,27.50,20.10,31.00,-2.73,2025-01-23\n",
      "ANAN,0.50,0.50,0.52,0.48,1.03,-1.96,2025-01-23\n",
      "AOT,57.00,57.00,58.00,55.00,67.50,-2.15,2025-01-23\n",
      "AP,7.75,7.75,7.85,7.50,11.20,-0.64,2025-01-23\n",
      "ASIAN,7.75,7.75,7.85,6.35,11.20,0.0,2025-01-23\n",
      "ASK,8.70,8.60,8.95,8.40,20.30,-1.69,2025-01-23\n",
      "ASP,2.32,2.32,2.36,2.12,2.88,-0.85,2025-01-23\n",
      "ASW,7.85,7.75,7.85,7.35,8.45,0.0,2025-01-23\n",
      "AWC,3.08,3.06,3.12,2.88,4.58,-0.65,2025-01-23\n",
      "BA,19.00,18.90,19.40,14.20,26.00,-2.56,2025-01-23\n",
      "BAM,5.65,5.65,5.80,5.35,10.40,-0.88,2025-01-23\n",
      "BANPU,5.15,5.15,5.35,4.38,7.50,-0.96,2025-01-23\n",
      "BAY,23.80,23.80,24.00,22.20,29.00,-0.42,2025-01-23\n",
      "BBL,154.00,154.00,156.50,129.00,159.50,-1.6,2025-01-23\n",
      "BCH,15.00,14.90,15.20,14.10,23.80,-0.66,2025-01-23\n",
      "BCP,34.00,33.75,34.75,26.50,47.50,-2.16,2025-01-23\n",
      "BCPG,6.60,6.45,6.65,5.05,8.45,1.54,2025-01-23\n",
      "BCT,65.00,62.25,65.25,53.00,76.75,0.0,2025-01-23\n",
      "BDMS,23.70,23.60,24.00,23.10,31.25,-1.66,2025-01-23\n",
      "BE8,13.50,12.80,13.90,10.60,30.25,6.3,2025-01-23\n",
      "BEAUTY,0.28,0.28,0.29,0.27,0.84,0.0,2025-01-23\n",
      "BEC,4.06,4.00,4.08,3.50,5.25,-0.98,2025-01-23\n",
      "BEM,6.65,6.65,6.75,6.60,8.45,-1.48,2025-01-23\n",
      "BGC,6.80,6.60,6.80,5.90,7.90,0.74,2025-01-23\n",
      "BGRIM,15.60,15.20,15.90,14.30,30.00,1.3,2025-01-23\n",
      "BH,189.00,188.50,192.00,184.50,284.00,-1.05,2025-01-23\n",
      "BJC,22.20,22.10,22.50,19.20,26.25,-1.77,2025-01-23\n",
      "BKIH,285.00,284.00,285.00,279.00,316.00,0.71,2025-01-23\n",
      "BLA,18.60,18.50,19.20,16.30,25.75,-2.62,2025-01-23\n",
      "BLAND,0.52,0.51,0.54,0.51,0.77,-3.7,2025-01-23\n",
      "BPP,8.70,8.65,8.80,8.60,15.20,-0.57,2025-01-23\n",
      "BTS,5.85,5.80,5.95,3.72,6.90,-0.85,2025-01-23\n",
      "BTSGIF,2.94,2.94,2.96,2.92,3.70,-0.68,2025-01-23\n",
      "CBG,79.50,79.00,81.00,61.25,82.00,0.63,2025-01-23\n",
      "CENTEL,29.50,29.50,30.25,28.00,46.50,-1.67,2025-01-23\n",
      "CHG,2.28,2.28,2.34,2.12,3.22,0.88,2025-01-23\n",
      "CK,16.80,16.40,16.80,16.30,24.60,0.6,2025-01-23\n",
      "CKP,2.94,2.92,2.98,2.86,4.28,-0.68,2025-01-23\n",
      "COM7,22.60,22.60,23.40,16.40,28.25,-2.16,2025-01-23\n",
      "CPALL,55.25,55.00,56.00,51.25,68.00,-0.9,2025-01-23\n",
      "CPF,21.50,21.50,22.00,17.00,26.00,-2.27,2025-01-23\n",
      "CPN,52.50,52.25,53.50,52.25,68.75,-1.87,2025-01-23\n",
      "CPNCG,6.25,6.20,6.25,5.30,7.15,0.0,2025-01-23\n",
      "CPNREIT,12.20,12.10,12.30,9.90,13.60,0.83,2025-01-23\n",
      "CRC,33.75,33.50,34.00,24.20,37.75,-1.46,2025-01-23\n",
      "DCC,1.59,1.59,1.62,1.56,2.16,-0.63,2025-01-23\n",
      "DCON,0.29,0.29,0.30,0.29,0.55,0.0,2025-01-23\n",
      "DELTA,146.50,146.50,150.50,63.25,173.50,-0.34,2025-01-23\n",
      "DIF,8.40,8.35,8.45,7.45,9.85,-0.59,2025-01-23\n",
      "DOHOME,8.25,8.20,8.55,8.05,12.60,-3.51,2025-01-23\n",
      "DRT,7.45,7.40,7.50,7.35,8.45,0.0,2025-01-23\n",
      "EA,2.90,2.88,3.12,2.14,28.66,-3.97,2025-01-23\n",
      "EASTW,2.16,2.12,2.24,2.02,4.16,0.0,2025-01-23\n",
      "ECL,0.83,0.82,0.85,0.67,1.51,0.0,2025-01-23\n",
      "EGATIF,5.95,5.95,6.00,5.75,6.40,0.0,2025-01-23\n",
      "EGCO,113.50,112.50,115.00,94.50,135.00,-1.3,2025-01-23\n",
      "EPG,3.56,3.54,3.66,3.52,8.00,-2.73,2025-01-23\n",
      "FORTH,9.30,9.20,9.50,8.80,19.80,-0.53,2025-01-23\n",
      "FPT,9.00,9.00,9.20,9.10,15.40,-2.17,2025-01-23\n",
      "FSMART,6.95,6.95,7.25,4.60,9.15,-1.42,2025-01-23\n",
      "FTREIT,10.10,10.00,10.20,7.80,11.30,0.0,2025-01-23\n",
      "GC,4.94,4.92,4.94,4.72,5.55,0.0,2025-01-23\n",
      "GFPT,9.60,9.60,9.90,9.50,13.40,-3.03,2025-01-23\n",
      "GGC,3.94,3.94,4.10,3.94,9.35,-4.37,2025-01-23\n",
      "GLOBAL,11.80,11.70,12.40,12.40,17.40,-4.84,2025-01-23\n",
      "GPSC,32.00,31.75,33.00,30.00,56.50,-1.54,2025-01-23\n",
      "GRAMMY,8.00,8.00,8.00,3.90,8.90,0.0,2025-01-23\n",
      "GULF,59.75,59.50,60.50,37.00,70.75,-0.83,2025-01-23\n",
      "GUNKUL,2.02,2.02,2.06,1.94,3.18,-0.98,2025-01-23\n",
      "GVREIT,6.50,6.50,6.55,4.98,7.15,0.0,2025-01-23\n",
      "HANA,24.00,24.00,24.70,22.50,51.50,0.0,2025-01-23\n",
      "HFT,4.26,4.26,4.34,3.92,4.82,-0.47,2025-01-23\n",
      "HMPRO,8.65,8.60,8.95,7.65,11.60,-3.35,2025-01-23\n",
      "HTC,16.10,16.10,16.20,15.00,18.20,0.0,2025-01-23\n",
      "ICHI,13.30,13.20,13.40,13.10,18.80,0.76,2025-01-23\n",
      "III,5.05,5.00,5.10,4.64,10.20,-0.98,2025-01-23\n",
      "ILM,15.40,15.30,15.50,14.70,22.60,0.0,2025-01-23\n",
      "IMH,4.44,4.42,4.48,4.04,7.95,-1.33,2025-01-23\n",
      "IMPACT,10.50,10.50,10.70,9.15,12.80,-1.87,2025-01-23\n",
      "INOX,0.48,0.44,0.52,0.40,0.67,9.09,2025-01-23\n",
      "INTUCH,99.00,99.00,101.00,65.25,114.50,-1.98,2025-01-23\n",
      "IP,2.88,2.86,3.00,2.82,7.30,-0.69,2025-01-23\n",
      "IRPC,1.13,1.13,1.17,1.10,2.06,-2.59,2025-01-23\n",
      "IVL,22.60,22.30,22.90,16.00,27.50,0.89,2025-01-23\n",
      "3BBIF,5.15,5.10,5.15,5.00,6.75,0.0,2025-01-23\n",
      "JMART,11.20,11.20,11.50,9.10,17.70,0.9,2025-01-23\n",
      "JMT,15.00,14.70,15.30,9.90,25.25,1.35,2025-01-23\n",
      "KBANK,159.00,159.00,161.50,118.50,163.50,-0.31,2025-01-23\n",
      "KCE,22.70,22.60,23.30,21.30,48.50,-0.87,2025-01-23\n",
      "KEX,1.44,1.39,1.45,1.39,6.50,2.86,2025-01-23\n",
      "KGI,4.20,4.18,4.22,3.98,4.90,0.0,2025-01-23\n",
      "KKP,53.00,53.00,54.50,37.00,55.50,-1.85,2025-01-23\n",
      "KSL,1.79,1.78,1.82,1.65,2.68,0.0,2025-01-23\n",
      "KTB,22.70,22.70,23.10,15.40,23.00,-1.3,2025-01-23\n",
      "KTC,51.00,51.00,51.50,37.00,52.00,-0.97,2025-01-23\n",
      "KYE,284.00,284.00,286.00,280.00,342.00,0.35,2025-01-23\n",
      "LALIN,5.80,5.75,5.80,5.65,8.05,0.87,2025-01-23\n",
      "LANNA,16.40,16.40,16.60,13.60,17.50,-0.61,2025-01-23\n",
      "LH,4.74,4.74,4.90,4.58,7.80,-3.27,2025-01-23\n",
      "LHFG,0.73,0.73,0.75,0.71,1.04,-2.67,2025-01-23\n",
      "LHK,3.52,3.50,3.54,3.42,4.40,-0.56,2025-01-23\n",
      "LIT,0.61,0.60,0.62,0.55,1.55,-1.61,2025-01-23\n",
      "LPH,4.28,4.28,4.30,4.24,4.98,0.47,2025-01-23\n",
      "LPN,2.14,2.12,2.18,2.06,3.88,0.0,2025-01-23\n",
      "M,18.30,18.20,18.90,18.90,39.50,-3.17,2025-01-23\n",
      "MAJOR,14.30,14.20,14.30,11.70,16.00,0.7,2025-01-23\n",
      "MBAX,1.82,1.81,1.83,1.72,3.48,0.55,2025-01-23\n",
      "MC,10.10,9.95,10.30,9.65,14.90,-0.98,2025-01-23\n",
      "MCS,6.30,6.20,6.30,6.10,8.20,0.8,2025-01-23\n",
      "MEGA,33.00,32.75,34.00,32.00,44.25,-1.49,2025-01-23\n",
      "MINT,23.80,23.60,24.10,23.10,34.00,-1.24,2025-01-23\n",
      "MST,9.00,8.90,9.00,8.75,11.00,0.0,2025-01-23\n",
      "MTC,43.75,43.25,44.75,37.50,54.00,-1.69,2025-01-23\n",
      "NER,4.92,4.90,5.00,4.48,6.45,-1.6,2025-01-23\n",
      "NOBLE,2.36,2.32,2.42,2.42,4.10,-2.48,2025-01-23\n",
      "ONEE,3.66,3.66,3.74,3.02,5.35,0.0,2025-01-23\n",
      "OR,11.50,11.40,11.80,11.50,19.00,-2.54,2025-01-23\n",
      "ORI,3.40,3.40,3.46,3.32,8.65,-0.58,2025-01-23\n",
      "OSP,20.80,20.60,20.90,18.30,25.00,0.0,2025-01-23\n",
      "PAP,1.83,1.74,1.88,1.46,2.96,5.17,2025-01-23\n",
      "PCSGH,3.34,3.34,3.50,3.26,5.35,-0.6,2025-01-23\n",
      "PDG,2.60,2.54,2.60,2.30,2.82,1.56,2025-01-23\n",
      "PLANB,6.90,6.80,7.00,6.40,9.20,0.73,2025-01-23\n",
      "POPF,6.35,6.25,6.35,5.35,6.70,0.0,2025-01-23\n",
      "PREB,4.26,4.26,4.26,4.00,6.60,0.0,2025-01-23\n",
      "PRM,7.30,7.25,7.45,5.40,9.30,-1.35,2025-01-23\n",
      "PSH,6.65,6.65,6.85,6.45,12.60,-1.48,2025-01-23\n",
      "PSL,6.15,6.10,6.20,6.10,11.20,-0.81,2025-01-23\n",
      "PTG,7.50,7.50,7.65,7.45,10.70,-1.32,2025-01-23\n",
      "PTL,10.30,10.20,10.40,9.15,14.40,0.0,2025-01-23\n",
      "PTT,30.50,30.50,31.25,30.00,36.25,-2.4,2025-01-23\n",
      "PTTEP,121.00,121.00,123.50,116.00,164.50,-2.42,2025-01-23\n",
      "PTTGC,20.70,20.70,21.50,20.60,41.25,-3.72,2025-01-23\n",
      "QH,1.72,1.72,1.74,1.59,2.30,-0.58,2025-01-23\n",
      "RATCH,28.25,28.25,28.75,25.25,34.25,-0.88,2025-01-23\n",
      "RBF,5.65,5.55,5.85,5.00,13.30,-2.59,2025-01-23\n",
      "RCL,24.90,24.90,25.75,16.20,31.75,-1.39,2025-01-23\n",
      "RJH,19.50,19.50,19.90,18.70,27.25,-0.51,2025-01-23\n",
      "ROJNA,5.90,5.90,6.00,5.05,8.05,-0.84,2025-01-23\n",
      "RS,1.21,1.21,1.29,1.12,7.35,-6.92,2025-01-23\n",
      "S11,1.98,1.98,2.00,1.68,3.90,0.51,2025-01-23\n",
      "SABUY,0.56,0.55,0.58,0.38,5.50,0.0,2025-01-23\n",
      "SAPPE,59.25,59.25,60.50,57.75,107.50,-0.42,2025-01-23\n",
      "SAT,10.30,10.30,10.50,10.00,18.90,0.0,2025-01-23\n",
      "SAWAD,38.75,38.75,40.00,27.25,45.50,-0.64,2025-01-23\n",
      "SC,2.62,2.60,2.68,2.30,4.00,-1.5,2025-01-23\n",
      "SCB,122.50,122.50,125.00,100.00,125.00,-1.61,2025-01-23\n",
      "SCC,150.00,150.00,155.00,150.50,278.00,-2.91,2025-01-23\n",
      "SCCC,161.00,160.50,162.00,127.50,177.50,0.0,2025-01-23\n",
      "SCGP,16.40,16.40,17.00,16.60,35.25,-5.2,2025-01-23\n",
      "SENA,2.20,2.18,2.20,2.16,3.02,0.0,2025-01-23\n",
      "SGP,7.10,7.05,7.15,6.55,8.45,-0.7,2025-01-23\n",
      "SINGER,6.85,6.85,7.15,6.35,12.70,-0.72,2025-01-23\n",
      "SIRI,1.71,1.71,1.73,1.51,1.94,-0.58,2025-01-23\n",
      "SIS,26.25,26.25,27.25,20.80,31.25,0.96,2025-01-23\n",
      "SJWD,8.80,8.80,9.00,8.80,16.70,-1.12,2025-01-23\n",
      "SKN,5.30,5.30,5.40,4.04,6.40,-1.85,2025-01-23\n",
      "SKR,8.65,8.55,8.75,8.65,10.70,-1.14,2025-01-23\n",
      "SMPC,9.35,9.25,9.35,6.45,10.10,0.54,2025-01-23\n",
      "SNC,5.30,5.25,5.35,4.72,8.85,0.0,2025-01-23\n",
      "SPALI,16.80,16.70,17.10,14.80,21.60,0.0,2025-01-23\n",
      "SPC,57.50,57.50,57.75,57.00,63.75,0.0,2025-01-23\n",
      "SPCG,8.00,8.00,8.10,7.95,12.70,-1.23,2025-01-23\n",
      "SPRC,5.55,5.55,5.75,5.45,9.40,-1.77,2025-01-23\n",
      "SPRIME,4.18,4.18,4.20,3.66,4.84,-0.48,2025-01-23\n",
      "SSP,5.25,5.10,5.25,5.10,8.50,0.0,2025-01-23\n",
      "STA,16.60,16.50,16.90,15.30,25.75,1.22,2025-01-23\n",
      "STANLY,218.00,218.00,219.00,198.50,233.00,0.0,2025-01-23\n",
      "STGT,9.00,8.95,9.25,6.70,13.30,0.56,2025-01-23\n",
      "SUPER,0.22,0.21,0.23,0.21,0.43,0.0,2025-01-23\n",
      "SUPEREIF,6.20,6.15,6.20,5.60,7.05,0.0,2025-01-23\n",
      "SVI,6.90,6.70,6.95,5.95,9.40,2.99,2025-01-23\n",
      "SYNEX,13.20,13.20,13.60,9.70,16.70,-2.22,2025-01-23\n",
      "TASCO,18.10,18.10,18.40,15.40,20.00,-1.63,2025-01-23\n",
      "TCAP,49.75,49.75,50.75,43.25,53.50,-1.97,2025-01-23\n",
      "TFFIF,6.30,6.25,6.30,6.00,7.20,0.0,2025-01-23\n",
      "TFG,3.30,3.24,3.34,3.20,4.84,-0.6,2025-01-23\n",
      "THANI,1.36,1.35,1.37,1.27,2.50,0.0,2025-01-23\n",
      "THG,13.50,13.30,13.60,12.40,50.00,1.5,2025-01-23\n",
      "TIDLOR,16.50,16.40,16.90,12.50,22.56,-1.2,2025-01-23\n",
      "TIPH,20.10,20.00,20.40,19.90,32.25,0.0,2025-01-23\n",
      "TIPCO,10.10,10.10,10.20,9.30,10.60,0.0,2025-01-23\n",
      "TISCO,98.00,98.00,99.25,90.00,101.50,-1.01,2025-01-23\n",
      "TK,3.90,3.84,4.00,3.82,5.75,-2.5,2025-01-23\n",
      "TKN,8.70,8.60,8.75,7.70,12.30,1.75,2025-01-23\n",
      "TKS,5.50,5.40,5.55,5.20,9.00,0.0,2025-01-23\n",
      "TMT,3.20,3.04,3.28,2.94,6.15,5.26,2025-01-23\n",
      "TMW,58.00,58.00,59.50,44.75,66.75,-1.28,2025-01-23\n",
      "TOA,13.10,12.90,13.20,12.40,26.00,0.0,2025-01-23\n",
      "TOP,25.50,25.50,26.25,24.50,60.75,-1.92,2025-01-23\n",
      "TPIPL,1.00,0.99,1.01,0.98,1.45,0.0,2025-01-23\n",
      "TPIPP,2.96,2.94,2.96,2.70,3.42,0.68,2025-01-23\n",
      "TQM,19.30,18.80,19.40,18.80,33.25,1.05,2025-01-23\n",
      "TRUE,11.60,11.60,11.80,5.35,12.40,-1.69,2025-01-23\n",
      "TSE,0.73,0.69,0.73,0.69,2.12,5.8,2025-01-23\n",
      "TSTH,0.59,0.54,0.60,0.47,0.90,11.32,2025-01-23\n",
      "TTA,4.64,4.62,4.76,4.56,8.50,-0.43,2025-01-23\n",
      "TTB,1.87,1.87,1.92,1.59,2.06,-1.58,2025-01-23\n",
      "TTLPF,14.20,14.10,14.20,13.20,20.30,0.0,2025-01-23\n",
      "TTW,8.90,8.90,8.95,8.50,10.10,0.0,2025-01-23\n",
      "TU,11.30,11.20,12.00,11.80,16.00,-6.61,2025-01-23\n",
      "TVO,21.00,21.00,21.20,18.60,25.25,0.0,2025-01-23\n",
      "TYCN,1.83,1.82,1.85,1.84,2.78,-1.08,2025-01-23\n",
      "UTP,7.60,7.60,7.70,7.30,12.00,0.0,2025-01-23\n",
      "VGI,3.28,3.26,3.34,1.20,3.68,-1.2,2025-01-23\n",
      "VIBHA,1.87,1.87,1.89,1.72,2.34,-1.06,2025-01-23\n",
      "VNG,2.98,2.92,2.98,2.90,3.92,1.36,2025-01-23\n",
      "WHA,5.00,5.00,5.10,4.50,6.20,-0.99,2025-01-23\n",
      "WHAIR,6.45,6.45,6.50,5.20,6.75,0.0,2025-01-23\n",
      "WHART,10.20,10.10,10.30,7.65,10.80,0.0,2025-01-23\n",
      "WHAUP,3.96,3.94,4.12,3.78,5.50,-2.46,2025-01-23\n",
      "WICE,3.50,3.50,3.54,3.44,7.55,-1.13,2025-01-23\n",
      "WORK,5.25,5.20,5.40,5.25,11.10,-2.78,2025-01-23\n"
     ]
    }
   ],
   "source": [
    "df = pd.read_csv(input_file, header=None)\n",
    "out_df = get_stock_data(df)"
   ]
  },
  {
   "cell_type": "code",
   "execution_count": 24,
   "id": "d31edacf",
   "metadata": {},
   "outputs": [
    {
     "name": "stdout",
     "output_type": "stream",
     "text": [
      "End at:  09:28 PM\n"
     ]
    }
   ],
   "source": [
    "end_time = strftime(\"%I:%M %p\")\n",
    "print('End at: ', end_time)"
   ]
  },
  {
   "cell_type": "code",
   "execution_count": 26,
   "id": "b89c4ae7",
   "metadata": {},
   "outputs": [
    {
     "data": {
      "text/html": [
       "<div>\n",
       "<style scoped>\n",
       "    .dataframe tbody tr th:only-of-type {\n",
       "        vertical-align: middle;\n",
       "    }\n",
       "\n",
       "    .dataframe tbody tr th {\n",
       "        vertical-align: top;\n",
       "    }\n",
       "\n",
       "    .dataframe thead th {\n",
       "        text-align: right;\n",
       "    }\n",
       "</style>\n",
       "<table border=\"1\" class=\"dataframe\">\n",
       "  <thead>\n",
       "    <tr style=\"text-align: right;\">\n",
       "      <th></th>\n",
       "      <th>name</th>\n",
       "      <th>price</th>\n",
       "      <th>today_low</th>\n",
       "      <th>today_high</th>\n",
       "      <th>year_low</th>\n",
       "      <th>year_high</th>\n",
       "      <th>percent</th>\n",
       "      <th>updated_at</th>\n",
       "    </tr>\n",
       "  </thead>\n",
       "  <tbody>\n",
       "  </tbody>\n",
       "</table>\n",
       "</div>"
      ],
      "text/plain": [
       "Empty DataFrame\n",
       "Columns: [name, price, today_low, today_high, year_low, year_high, percent, updated_at]\n",
       "Index: []"
      ]
     },
     "execution_count": 26,
     "metadata": {},
     "output_type": "execute_result"
    }
   ],
   "source": [
    "out_df.query('price == \"-\"')"
   ]
  },
  {
   "cell_type": "code",
   "execution_count": 28,
   "id": "784f1b6d",
   "metadata": {},
   "outputs": [
    {
     "data": {
      "text/plain": [
       "(221, 8)"
      ]
     },
     "execution_count": 28,
     "metadata": {},
     "output_type": "execute_result"
    }
   ],
   "source": [
    "out_df.shape"
   ]
  },
  {
   "cell_type": "code",
   "execution_count": 30,
   "id": "6326d0c5",
   "metadata": {},
   "outputs": [],
   "source": [
    "out_df = out_df[out_df['name'] != 'BCT']"
   ]
  },
  {
   "cell_type": "code",
   "execution_count": 36,
   "id": "2a293f55-436e-45d1-9966-50d12c26e659",
   "metadata": {},
   "outputs": [],
   "source": [
    "out_df = out_df[out_df['name'] != 'LPF']"
   ]
  },
  {
   "cell_type": "code",
   "execution_count": 38,
   "id": "cc4b3547-5ea9-4ac6-bd11-896e67d464ed",
   "metadata": {},
   "outputs": [],
   "source": [
    "out_df = out_df[out_df['name'] != 'TYCN']"
   ]
  },
  {
   "cell_type": "code",
   "execution_count": 40,
   "id": "865622c2-dad3-4ba8-b35a-898461fe5e9a",
   "metadata": {},
   "outputs": [],
   "source": [
    "out_df = out_df[out_df['name'] != 'GRAMMY']"
   ]
  },
  {
   "cell_type": "code",
   "execution_count": 42,
   "id": "cb2d763d-5b75-4ace-b87a-f165c8e6cb91",
   "metadata": {},
   "outputs": [],
   "source": [
    "out_df = out_df[out_df['name'] != 'KYE']"
   ]
  },
  {
   "cell_type": "code",
   "execution_count": 28,
   "id": "b2771ed1",
   "metadata": {},
   "outputs": [
    {
     "data": {
      "text/plain": [
       "(221, 8)"
      ]
     },
     "execution_count": 28,
     "metadata": {},
     "output_type": "execute_result"
    }
   ],
   "source": [
    "out_df.shape"
   ]
  },
  {
   "cell_type": "code",
   "execution_count": 30,
   "id": "eb2ffec6",
   "metadata": {},
   "outputs": [],
   "source": [
    "out_df['price'] = out_df['price'].astype('float')\n",
    "out_df['today_low'] = out_df['today_low'].astype('float')\n",
    "out_df['today_high'] = out_df['today_high'].astype('float')\n",
    "out_df['year_low'] = out_df['year_low'].astype('float')\n",
    "out_df['year_high'] = out_df['year_high'].astype('float')\n",
    "out_df['percent'] = out_df['percent'].astype('float')"
   ]
  },
  {
   "cell_type": "code",
   "execution_count": 32,
   "id": "f4fb1a3c",
   "metadata": {},
   "outputs": [],
   "source": [
    "sorted_out_df = out_df.sort_values('percent')"
   ]
  },
  {
   "cell_type": "code",
   "execution_count": 34,
   "id": "032f0eea",
   "metadata": {},
   "outputs": [
    {
     "data": {
      "text/html": [
       "<div>\n",
       "<style scoped>\n",
       "    .dataframe tbody tr th:only-of-type {\n",
       "        vertical-align: middle;\n",
       "    }\n",
       "\n",
       "    .dataframe tbody tr th {\n",
       "        vertical-align: top;\n",
       "    }\n",
       "\n",
       "    .dataframe thead th {\n",
       "        text-align: right;\n",
       "    }\n",
       "</style>\n",
       "<table border=\"1\" class=\"dataframe\">\n",
       "  <thead>\n",
       "    <tr style=\"text-align: right;\">\n",
       "      <th></th>\n",
       "      <th>name</th>\n",
       "      <th>price</th>\n",
       "      <th>today_low</th>\n",
       "      <th>today_high</th>\n",
       "      <th>year_low</th>\n",
       "      <th>year_high</th>\n",
       "      <th>percent</th>\n",
       "      <th>updated_at</th>\n",
       "    </tr>\n",
       "  </thead>\n",
       "  <tbody>\n",
       "    <tr>\n",
       "      <th>208</th>\n",
       "      <td>TU</td>\n",
       "      <td>11.30</td>\n",
       "      <td>11.20</td>\n",
       "      <td>12.00</td>\n",
       "      <td>11.80</td>\n",
       "      <td>16.00</td>\n",
       "      <td>-6.61</td>\n",
       "      <td>2025-01-23</td>\n",
       "    </tr>\n",
       "    <tr>\n",
       "      <th>157</th>\n",
       "      <td>SCGP</td>\n",
       "      <td>16.40</td>\n",
       "      <td>16.40</td>\n",
       "      <td>17.00</td>\n",
       "      <td>16.60</td>\n",
       "      <td>35.25</td>\n",
       "      <td>-5.20</td>\n",
       "      <td>2025-01-23</td>\n",
       "    </tr>\n",
       "    <tr>\n",
       "      <th>72</th>\n",
       "      <td>GLOBAL</td>\n",
       "      <td>11.80</td>\n",
       "      <td>11.70</td>\n",
       "      <td>12.40</td>\n",
       "      <td>12.40</td>\n",
       "      <td>17.40</td>\n",
       "      <td>-4.84</td>\n",
       "      <td>2025-01-23</td>\n",
       "    </tr>\n",
       "    <tr>\n",
       "      <th>112</th>\n",
       "      <td>M</td>\n",
       "      <td>18.30</td>\n",
       "      <td>18.20</td>\n",
       "      <td>18.90</td>\n",
       "      <td>18.90</td>\n",
       "      <td>39.50</td>\n",
       "      <td>-3.17</td>\n",
       "      <td>2025-01-23</td>\n",
       "    </tr>\n",
       "    <tr>\n",
       "      <th>155</th>\n",
       "      <td>SCC</td>\n",
       "      <td>150.00</td>\n",
       "      <td>150.00</td>\n",
       "      <td>155.00</td>\n",
       "      <td>150.50</td>\n",
       "      <td>278.00</td>\n",
       "      <td>-2.91</td>\n",
       "      <td>2025-01-23</td>\n",
       "    </tr>\n",
       "    <tr>\n",
       "      <th>220</th>\n",
       "      <td>WORK</td>\n",
       "      <td>5.25</td>\n",
       "      <td>5.20</td>\n",
       "      <td>5.40</td>\n",
       "      <td>5.25</td>\n",
       "      <td>11.10</td>\n",
       "      <td>-2.78</td>\n",
       "      <td>2025-01-23</td>\n",
       "    </tr>\n",
       "    <tr>\n",
       "      <th>124</th>\n",
       "      <td>OR</td>\n",
       "      <td>11.50</td>\n",
       "      <td>11.40</td>\n",
       "      <td>11.80</td>\n",
       "      <td>11.50</td>\n",
       "      <td>19.00</td>\n",
       "      <td>-2.54</td>\n",
       "      <td>2025-01-23</td>\n",
       "    </tr>\n",
       "    <tr>\n",
       "      <th>122</th>\n",
       "      <td>NOBLE</td>\n",
       "      <td>2.36</td>\n",
       "      <td>2.32</td>\n",
       "      <td>2.42</td>\n",
       "      <td>2.42</td>\n",
       "      <td>4.10</td>\n",
       "      <td>-2.48</td>\n",
       "      <td>2025-01-23</td>\n",
       "    </tr>\n",
       "    <tr>\n",
       "      <th>66</th>\n",
       "      <td>FPT</td>\n",
       "      <td>9.00</td>\n",
       "      <td>9.00</td>\n",
       "      <td>9.20</td>\n",
       "      <td>9.10</td>\n",
       "      <td>15.40</td>\n",
       "      <td>-2.17</td>\n",
       "      <td>2025-01-23</td>\n",
       "    </tr>\n",
       "    <tr>\n",
       "      <th>165</th>\n",
       "      <td>SKR</td>\n",
       "      <td>8.65</td>\n",
       "      <td>8.55</td>\n",
       "      <td>8.75</td>\n",
       "      <td>8.65</td>\n",
       "      <td>10.70</td>\n",
       "      <td>-1.14</td>\n",
       "      <td>2025-01-23</td>\n",
       "    </tr>\n",
       "    <tr>\n",
       "      <th>210</th>\n",
       "      <td>TYCN</td>\n",
       "      <td>1.83</td>\n",
       "      <td>1.82</td>\n",
       "      <td>1.85</td>\n",
       "      <td>1.84</td>\n",
       "      <td>2.78</td>\n",
       "      <td>-1.08</td>\n",
       "      <td>2025-01-23</td>\n",
       "    </tr>\n",
       "    <tr>\n",
       "      <th>3</th>\n",
       "      <td>AH</td>\n",
       "      <td>14.10</td>\n",
       "      <td>13.90</td>\n",
       "      <td>14.40</td>\n",
       "      <td>14.00</td>\n",
       "      <td>29.50</td>\n",
       "      <td>-0.70</td>\n",
       "      <td>2025-01-23</td>\n",
       "    </tr>\n",
       "  </tbody>\n",
       "</table>\n",
       "</div>"
      ],
      "text/plain": [
       "       name   price  today_low  today_high  year_low  year_high  percent  \\\n",
       "208      TU   11.30      11.20       12.00     11.80      16.00    -6.61   \n",
       "157    SCGP   16.40      16.40       17.00     16.60      35.25    -5.20   \n",
       "72   GLOBAL   11.80      11.70       12.40     12.40      17.40    -4.84   \n",
       "112       M   18.30      18.20       18.90     18.90      39.50    -3.17   \n",
       "155     SCC  150.00     150.00      155.00    150.50     278.00    -2.91   \n",
       "220    WORK    5.25       5.20        5.40      5.25      11.10    -2.78   \n",
       "124      OR   11.50      11.40       11.80     11.50      19.00    -2.54   \n",
       "122   NOBLE    2.36       2.32        2.42      2.42       4.10    -2.48   \n",
       "66      FPT    9.00       9.00        9.20      9.10      15.40    -2.17   \n",
       "165     SKR    8.65       8.55        8.75      8.65      10.70    -1.14   \n",
       "210    TYCN    1.83       1.82        1.85      1.84       2.78    -1.08   \n",
       "3        AH   14.10      13.90       14.40     14.00      29.50    -0.70   \n",
       "\n",
       "     updated_at  \n",
       "208  2025-01-23  \n",
       "157  2025-01-23  \n",
       "72   2025-01-23  \n",
       "112  2025-01-23  \n",
       "155  2025-01-23  \n",
       "220  2025-01-23  \n",
       "124  2025-01-23  \n",
       "122  2025-01-23  \n",
       "66   2025-01-23  \n",
       "165  2025-01-23  \n",
       "210  2025-01-23  \n",
       "3    2025-01-23  "
      ]
     },
     "execution_count": 34,
     "metadata": {},
     "output_type": "execute_result"
    }
   ],
   "source": [
    "sorted_out_df.query('today_low < year_low')"
   ]
  },
  {
   "cell_type": "code",
   "execution_count": 36,
   "id": "7af7c28e",
   "metadata": {},
   "outputs": [
    {
     "data": {
      "text/plain": [
       "12"
      ]
     },
     "execution_count": 36,
     "metadata": {},
     "output_type": "execute_result"
    }
   ],
   "source": [
    "out_df.query('today_low < year_low').shape[0]"
   ]
  },
  {
   "cell_type": "code",
   "execution_count": 38,
   "id": "8e04b03d",
   "metadata": {},
   "outputs": [
    {
     "data": {
      "text/html": [
       "<div>\n",
       "<style scoped>\n",
       "    .dataframe tbody tr th:only-of-type {\n",
       "        vertical-align: middle;\n",
       "    }\n",
       "\n",
       "    .dataframe tbody tr th {\n",
       "        vertical-align: top;\n",
       "    }\n",
       "\n",
       "    .dataframe thead th {\n",
       "        text-align: right;\n",
       "    }\n",
       "</style>\n",
       "<table border=\"1\" class=\"dataframe\">\n",
       "  <thead>\n",
       "    <tr style=\"text-align: right;\">\n",
       "      <th></th>\n",
       "      <th>name</th>\n",
       "      <th>price</th>\n",
       "      <th>today_low</th>\n",
       "      <th>today_high</th>\n",
       "      <th>year_low</th>\n",
       "      <th>year_high</th>\n",
       "      <th>percent</th>\n",
       "      <th>updated_at</th>\n",
       "    </tr>\n",
       "  </thead>\n",
       "  <tbody>\n",
       "    <tr>\n",
       "      <th>101</th>\n",
       "      <td>KTB</td>\n",
       "      <td>22.7</td>\n",
       "      <td>22.7</td>\n",
       "      <td>23.1</td>\n",
       "      <td>15.4</td>\n",
       "      <td>23.0</td>\n",
       "      <td>-1.3</td>\n",
       "      <td>2025-01-23</td>\n",
       "    </tr>\n",
       "  </tbody>\n",
       "</table>\n",
       "</div>"
      ],
      "text/plain": [
       "    name  price  today_low  today_high  year_low  year_high  percent  \\\n",
       "101  KTB   22.7       22.7        23.1      15.4       23.0     -1.3   \n",
       "\n",
       "     updated_at  \n",
       "101  2025-01-23  "
      ]
     },
     "execution_count": 38,
     "metadata": {},
     "output_type": "execute_result"
    }
   ],
   "source": [
    "sorted_out_df.query('today_high > year_high')"
   ]
  },
  {
   "cell_type": "code",
   "execution_count": 40,
   "id": "290a9607",
   "metadata": {},
   "outputs": [
    {
     "data": {
      "text/plain": [
       "1"
      ]
     },
     "execution_count": 40,
     "metadata": {},
     "output_type": "execute_result"
    }
   ],
   "source": [
    "out_df.query('today_high > year_high').shape[0]"
   ]
  },
  {
   "cell_type": "code",
   "execution_count": 42,
   "id": "5fbeba56-2a63-4650-898b-6447a81f95f5",
   "metadata": {},
   "outputs": [],
   "source": [
    "file_name = \"Price-Hilo.csv\"\n",
    "output_file = os.path.join(dat_path, file_name)\n",
    "god_file = os.path.join(god_path, file_name)\n",
    "icd_file = os.path.join(icd_path, file_name)\n",
    "osd_file = os.path.join(osd_path, file_name)"
   ]
  },
  {
   "cell_type": "code",
   "execution_count": 44,
   "id": "da6183ac-2f05-4f67-b200-fe83634d29dc",
   "metadata": {},
   "outputs": [
    {
     "name": "stdout",
     "output_type": "stream",
     "text": [
      "output_file : C:\\Users\\PC1\\OneDrive\\A5\\Data\\Price-Hilo.csv\n",
      "icd_file : C:\\Users\\PC1\\iCloudDrive\\Data\\Price-Hilo.csv\n",
      "god_file : C:\\Users\\PC1\\OneDrive\\Imports\\santisoontarinka@gmail.com - Google Drive\\Data\\Price-Hilo.csv\n",
      "osd_file : C:\\Users\\PC1\\OneDrive\\Documents\\obsidian-git-sync\\Data\\Price-Hilo.csv\n"
     ]
    }
   ],
   "source": [
    "print(f\"output_file : {output_file}\") \n",
    "print(f\"icd_file : {icd_file}\") \n",
    "print(f\"god_file : {god_file}\") \n",
    "print(f\"osd_file : {osd_file}\") "
   ]
  },
  {
   "cell_type": "code",
   "execution_count": 46,
   "id": "8017b53b",
   "metadata": {},
   "outputs": [],
   "source": [
    "out_df.to_csv(output_file, index=False)  \n",
    "out_df.to_csv(god_file, index=False) \n",
    "out_df.to_csv(icd_file, index=False)  \n",
    "out_df.to_csv(osd_file, index=False) "
   ]
  },
  {
   "cell_type": "code",
   "execution_count": 48,
   "id": "80692fae-6308-4695-bcac-5124ce4d44e3",
   "metadata": {},
   "outputs": [
    {
     "data": {
      "text/plain": [
       "datetime.datetime(2025, 1, 23, 21, 31, 33, 177051)"
      ]
     },
     "execution_count": 48,
     "metadata": {},
     "output_type": "execute_result"
    }
   ],
   "source": [
    "current_time = datetime.now()\n",
    "current_time"
   ]
  },
  {
   "cell_type": "code",
   "execution_count": null,
   "id": "65000f4d-e754-421d-a607-19d51228cc7f",
   "metadata": {},
   "outputs": [],
   "source": []
  }
 ],
 "metadata": {
  "kernelspec": {
   "display_name": "Python 3 (ipykernel)",
   "language": "python",
   "name": "python3"
  },
  "language_info": {
   "codemirror_mode": {
    "name": "ipython",
    "version": 3
   },
   "file_extension": ".py",
   "mimetype": "text/x-python",
   "name": "python",
   "nbconvert_exporter": "python",
   "pygments_lexer": "ipython3",
   "version": "3.12.3"
  }
 },
 "nbformat": 4,
 "nbformat_minor": 5
}
