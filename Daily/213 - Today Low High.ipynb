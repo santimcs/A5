{
 "cells": [
  {
   "cell_type": "markdown",
   "id": "930356c6",
   "metadata": {},
   "source": [
    "### Start and Run All"
   ]
  },
  {
   "cell_type": "code",
   "execution_count": 2,
   "id": "d7cfc693",
   "metadata": {},
   "outputs": [
    {
     "name": "stdout",
     "output_type": "stream",
     "text": [
      "2025-08-21 20:30:37\n"
     ]
    }
   ],
   "source": [
    "import os\n",
    "import pandas as pd\n",
    "from urllib import request\n",
    "from bs4 import BeautifulSoup\n",
    "# from datetime import date, timedelta\n",
    "from datetime import datetime\n",
    "from time import sleep, strftime\n",
    "\n",
    "# Get the current time\n",
    "current_time = datetime.now()\n",
    "# Format the time to remove milliseconds\n",
    "formatted_time = current_time.strftime(\"%Y-%m-%d %H:%M:%S\")\n",
    "print(formatted_time)"
   ]
  },
  {
   "cell_type": "code",
   "execution_count": 3,
   "id": "0cbdda38-ec42-4470-bede-c468ba46f8d8",
   "metadata": {},
   "outputs": [],
   "source": [
    "url = \"https://www.set.or.th/en/market/product/stock/quote/\"\n",
    "percent_span = '' "
   ]
  },
  {
   "cell_type": "code",
   "execution_count": 4,
   "id": "6e4b7508-0071-480d-99c8-a6c070027294",
   "metadata": {},
   "outputs": [],
   "source": [
    "# Get the user's home directory\n",
    "user_path = os.path.expanduser('~')\n",
    "# Get the current working directory\n",
    "current_path = os.getcwd()\n",
    "# Derive the base directory (base_dir) by removing the last folder ('Daily')\n",
    "base_path = os.path.dirname(current_path)\n",
    "#C:\\Users\\PC1\\OneDrive\\A5\\Data\n",
    "dat_path = os.path.join(base_path, \"Data\")\n",
    "#C:\\Users\\PC1\\OneDrive\\Imports\\santisoontarinka@gmail.com - Google Drive\\Data>\n",
    "god_path = os.path.join(user_path, \"OneDrive\",\"Imports\",\"santisoontarinka@gmail.com - Google Drive\",\"Data\")\n",
    "#C:\\Users\\PC1\\iCloudDrive\\data\n",
    "icd_path = os.path.join(user_path, \"iCloudDrive\", \"Data\")\n",
    "#C:\\Users\\PC1\\OneDrive\\Documents\\obsidian-git-sync\\Data\n",
    "osd_path = os.path.join(user_path, \"OneDrive\",\"Documents\",\"obsidian-git-sync\",\"Data\")"
   ]
  },
  {
   "cell_type": "code",
   "execution_count": 5,
   "id": "07defeb3-a742-4e64-8089-7e4fe5b8b93c",
   "metadata": {},
   "outputs": [
    {
     "name": "stdout",
     "output_type": "stream",
     "text": [
      "User path: C:\\Users\\PC1\n",
      "Current path: C:\\Users\\PC1\\OneDrive\\A5\\Daily\n",
      "Base path: C:\\Users\\PC1\\OneDrive\\A5\n",
      "Data path : C:\\Users\\PC1\\OneDrive\\A5\\Data\n",
      "Google Drive path : C:\\Users\\PC1\\OneDrive\\Imports\\santisoontarinka@gmail.com - Google Drive\\Data\n",
      "iCloudDrive path : C:\\Users\\PC1\\iCloudDrive\\Data\n",
      "Obsidian path : C:\\Users\\PC1\\OneDrive\\Documents\\obsidian-git-sync\\Data\n"
     ]
    }
   ],
   "source": [
    "print(\"User path:\", user_path)\n",
    "print(f\"Current path: {current_path}\")\n",
    "print(f\"Base path: {base_path}\")\n",
    "print(f\"Data path : {dat_path}\") \n",
    "print(f\"Google Drive path : {god_path}\")\n",
    "print(f\"iCloudDrive path : {icd_path}\") \n",
    "print(f\"Obsidian path : {osd_path}\") "
   ]
  },
  {
   "cell_type": "code",
   "execution_count": 6,
   "id": "08576879-dc60-431b-a31a-e1893e2d7922",
   "metadata": {},
   "outputs": [
    {
     "name": "stdout",
     "output_type": "stream",
     "text": [
      "Input file : C:\\Users\\PC1\\OneDrive\\A5\\Data\\name-ttl.csv\n"
     ]
    }
   ],
   "source": [
    "file_name = \"name-ttl.csv\"\n",
    "input_file = os.path.join(dat_path, file_name)\n",
    "print(f\"Input file : {input_file}\") "
   ]
  },
  {
   "cell_type": "code",
   "execution_count": 7,
   "id": "9b9668db-0773-4de5-9bd4-864c377dab80",
   "metadata": {},
   "outputs": [],
   "source": [
    "file_name = \"price-hilo.csv\"\n",
    "output_file = os.path.join(dat_path, file_name)\n",
    "god_file = os.path.join(god_path, file_name)\n",
    "icd_file = os.path.join(icd_path, file_name)\n",
    "osd_file = os.path.join(osd_path, file_name)"
   ]
  },
  {
   "cell_type": "code",
   "execution_count": 8,
   "id": "66c38ef5-8643-4ad3-81ff-9e2275d426d5",
   "metadata": {},
   "outputs": [
    {
     "name": "stdout",
     "output_type": "stream",
     "text": [
      "Output file : C:\\Users\\PC1\\OneDrive\\A5\\Data\\price-hilo.csv\n",
      "icd_file : C:\\Users\\PC1\\iCloudDrive\\Data\\price-hilo.csv\n",
      "god_file : C:\\Users\\PC1\\OneDrive\\Imports\\santisoontarinka@gmail.com - Google Drive\\Data\\price-hilo.csv\n",
      "osd_file : C:\\Users\\PC1\\OneDrive\\Documents\\obsidian-git-sync\\Data\\price-hilo.csv\n"
     ]
    }
   ],
   "source": [
    "print(f\"Output file : {output_file}\") \n",
    "print(f\"icd_file : {icd_file}\") \n",
    "print(f\"god_file : {god_file}\") \n",
    "print(f\"osd_file : {osd_file}\")"
   ]
  },
  {
   "cell_type": "code",
   "execution_count": 9,
   "id": "c1ec2693",
   "metadata": {},
   "outputs": [],
   "source": [
    "def cvt_str_to_flt(input_str):\n",
    "    # Check for the special pattern and return 0\n",
    "    if input_str == '(-)':\n",
    "        return 0\n",
    "    \n",
    "    # Remove parentheses and percent sign\n",
    "    cleaned_str = input_str.replace('(', '').replace(')', '').replace('%', '')\n",
    "\n",
    "    # Convert to float\n",
    "    try:\n",
    "        return float(cleaned_str)\n",
    "    except ValueError:\n",
    "        # Handle the case where the conversion fails\n",
    "        return None\n",
    " "
   ]
  },
  {
   "cell_type": "code",
   "execution_count": 10,
   "id": "334bed1f",
   "metadata": {},
   "outputs": [],
   "source": [
    "def get_stock_data(in_df):\n",
    "\n",
    "    in_df.columns = ['name']\n",
    "    \n",
    "    output_columns = ['name', 'price', 'today_low', 'today_high', 'year_low', 'year_high', 'percent', 'updated_at']\n",
    "    # Initialize an empty DataFrame with specified columns\n",
    "    out_df = pd.DataFrame(columns=output_columns)\n",
    "    \n",
    "    for index, row in in_df.iterrows():\n",
    "        name = str(row['name']).upper()\n",
    "        response = request.urlopen(url + name + '/price')\n",
    "        html_page = BeautifulSoup(response, 'html.parser')\n",
    "        \n",
    "  #      price = html_page.find('div', class_='value text-white mb-0 me-2 lh-1 stock-info').text.strip()        \n",
    "  #      if (price == '-'):\n",
    "  #          price = '0.00'        \n",
    "\n",
    "        price_div = html_page.find('div', class_='value text-white mb-0 me-2 lh-1 stock-info')\n",
    "        if price_div:\n",
    "            price = price_div.text.strip()\n",
    "        else:\n",
    "            print(f\"Price div not found for {name}\")\n",
    "            price = '0.00'     \n",
    "            \n",
    "        # Try to find the <h3> tag with the class 'theme-success'\n",
    "        h3_tag = html_page.find('h3', class_='theme-success')\n",
    "        if h3_tag:\n",
    "        # Find all <span> tags within the found <h3> tag\n",
    "            span_tags = h3_tag.find_all('span')\n",
    "    \n",
    "            if len(span_tags) > 1:\n",
    "                # Extract the text from the second <span> tag\n",
    "                percent_span = span_tags[1].text\n",
    "                # print(percent_span)\n",
    "                \n",
    "        # Try to find the <h3> tag with the class 'theme-danger'\n",
    "        h3_tag = html_page.find('h3', class_='theme-danger')\n",
    "        if h3_tag:\n",
    "        # Find all <span> tags within the found <h3> tag\n",
    "            span_tags = h3_tag.find_all('span')\n",
    "    \n",
    "            if len(span_tags) > 1:\n",
    "                # Extract the text from the second <span> tag\n",
    "                percent_span = span_tags[1].text\n",
    "                # print(percent_span)    \n",
    "                \n",
    "        # Try to find the <h3> tag with the class 'theme-danger'\n",
    "        h3_tag = html_page.find('h3', class_='theme-normal')\n",
    "        if h3_tag:\n",
    "        # Find all <span> tags within the found <h3> tag\n",
    "            span_tags = h3_tag.find_all('span')\n",
    "    \n",
    "            if len(span_tags) > 1:\n",
    "                # Extract the text from the second <span> tag\n",
    "                percent_span = span_tags[1].text\n",
    "                # print(percent_span)   \n",
    "                \n",
    "        percent = cvt_str_to_flt(percent_span)\n",
    "                \n",
    "        values_low = html_page.find_all('span', class_='title-font-family fs-16px fw-bolder me-auto lh-1')\n",
    "        today_low = values_low[0].text\n",
    "        if (today_low == '-'):\n",
    "            today_low = '0.00'\n",
    "        \n",
    "        values_high = html_page.find_all('span', class_='title-font-family fs-16px fw-bolder lh-1')\n",
    "        today_high = values_high[0].text\n",
    "        if (today_high == '-'):\n",
    "            today_high = '0.00'         \n",
    "        \n",
    "        year_low = values_low[1].text        \n",
    "        year_high = values_high[1].text     \n",
    "        \n",
    "        # Find the div with the specific class, then find the span within it\n",
    "        div = html_page.find('div', class_='price-detail-date d-flex align-items-center text-nowrap fs-12px')\n",
    "        if div:\n",
    "            span = div.find('span')\n",
    "            if span:\n",
    "                text = span.get_text()\n",
    "#                 print(text)\n",
    "            else:\n",
    "                print(\"Span not found\")\n",
    "        else:\n",
    "            print(\"Div not found\")\n",
    "            \n",
    "        # Extract the date part from the string\n",
    "        # Assuming the date is always in the format 'dd Mon yyyy'\n",
    "        date_str = ' '.join(text.split()[2:5])\n",
    "\n",
    "        # Parse the date string into a datetime object\n",
    "        date_obj = datetime.strptime(date_str, '%d %b %Y')\n",
    "\n",
    "        # Format the datetime object to 'yyyy-mm-dd'\n",
    "        updated_at = date_obj.strftime('%Y-%m-%d')\n",
    "\n",
    "#         print(updated_at)\n",
    "        \n",
    "        # Append row to the DataFrame and print the row\n",
    "        out_df.loc[len(out_df)] = [name, price, today_low, today_high, year_low, year_high, percent, updated_at]\n",
    "#       print(out_df.iloc[-1].to_string(header=False, index=False)) \n",
    "        print(','.join(map(str, out_df.iloc[-1])))\n",
    "        sleep(1)\n",
    "        \n",
    "    return out_df  # return the final dataframe with all values populated"
   ]
  },
  {
   "cell_type": "code",
   "execution_count": 11,
   "id": "94abc8d4",
   "metadata": {},
   "outputs": [
    {
     "name": "stdout",
     "output_type": "stream",
     "text": [
      "Start at:  08:30 PM\n"
     ]
    }
   ],
   "source": [
    "start_time = strftime(\"%I:%M %p\")\n",
    "print('Start at: ', start_time)"
   ]
  },
  {
   "cell_type": "code",
   "execution_count": 12,
   "id": "23b565ec",
   "metadata": {
    "scrolled": true
   },
   "outputs": [
    {
     "name": "stdout",
     "output_type": "stream",
     "text": [
      "ACE,1.29,1.28,1.29,1.23,1.49,0.0,2025-08-21\n",
      "ADVANC,291.00,290.00,293.00,241.00,309.00,-0.34,2025-08-21\n",
      "AEONTS,105.50,104.50,106.00,90.50,148.00,-0.47,2025-08-21\n",
      "AH,14.80,14.50,14.90,10.00,23.20,2.07,2025-08-21\n",
      "AIE,1.12,1.11,1.17,0.72,1.80,-1.75,2025-08-21\n",
      "AIMIRT,9.60,9.55,9.60,9.20,11.20,0.52,2025-08-21\n",
      "AIT,4.88,4.88,4.94,3.86,5.30,-3.37,2025-08-21\n",
      "AJ,2.24,2.22,2.34,1.94,5.80,0.9,2025-08-21\n",
      "AMATA,16.60,16.30,16.80,11.20,31.00,0.61,2025-08-21\n",
      "ANAN,0.51,0.49,0.51,0.37,0.85,2.0,2025-08-21\n",
      "AOT,37.75,37.25,38.25,26.75,65.00,-0.66,2025-08-21\n",
      "AP,7.45,7.40,7.65,5.60,10.50,-1.32,2025-08-21\n",
      "ASIAN,7.75,7.65,7.80,6.50,10.10,0.65,2025-08-21\n",
      "ASK,7.60,7.60,7.70,6.20,15.30,-0.65,2025-08-21\n",
      "ASP,2.44,2.36,2.44,1.81,2.70,1.67,2025-08-21\n",
      "ASW,6.15,5.95,6.25,5.55,8.20,-1.6,2025-08-21\n",
      "AWC,2.40,2.38,2.52,1.55,3.94,-4.0,2025-08-21\n",
      "BA,13.90,13.70,14.30,10.60,26.00,-1.42,2025-08-21\n",
      "BAM,8.00,7.65,8.00,5.35,10.20,1.91,2025-08-21\n",
      "BANPU,4.80,4.68,4.86,4.00,7.50,2.13,2025-08-21\n",
      "BAY,23.20,23.20,23.80,20.70,29.00,-0.43,2025-08-21\n",
      "BBL,155.00,154.00,155.50,131.00,161.50,0.32,2025-08-21\n",
      "BCH,13.40,13.20,13.50,12.30,19.20,0.0,2025-08-21\n",
      "BCP,32.75,32.50,33.75,26.50,41.00,0.0,2025-08-21\n",
      "BCPG,8.20,8.05,8.25,5.05,8.75,0.61,2025-08-21\n",
      "BCT,48.00,47.75,48.00,43.50,76.75,3.23,2025-08-21\n",
      "BDMS,21.10,21.00,21.30,19.80,31.25,-0.94,2025-08-21\n",
      "BE8,5.70,5.70,5.85,5.20,21.20,-1.72,2025-08-21\n",
      "BEAUTY,0.40,0.38,0.43,0.19,0.57,5.26,2025-08-21\n",
      "BEC,2.20,2.16,2.24,1.79,4.68,-1.79,2025-08-21\n",
      "BEM,5.40,5.30,5.45,4.56,8.30,0.93,2025-08-21\n",
      "BGC,4.86,4.86,4.92,4.54,7.90,-1.22,2025-08-21\n",
      "BGRIM,11.60,11.20,11.70,8.90,24.80,1.75,2025-08-21\n",
      "BH,176.50,176.00,182.50,130.00,284.00,-2.49,2025-08-21\n",
      "BJC,17.50,17.10,17.70,16.50,25.75,0.0,2025-08-21\n",
      "BKIH,289.00,286.00,289.00,271.00,316.00,-0.69,2025-08-21\n",
      "BLA,18.50,18.30,18.80,14.00,25.75,-1.6,2025-08-21\n",
      "BLAND,0.50,0.50,0.52,0.38,0.70,-1.96,2025-08-21\n",
      "BPP,8.20,8.10,8.35,6.20,13.60,-0.61,2025-08-21\n",
      "BTS,3.40,3.40,3.44,3.28,6.40,-1.16,2025-08-21\n",
      "BTSGIF,2.66,2.64,2.68,2.54,3.52,0.0,2025-08-21\n",
      "CBG,52.00,52.00,53.25,46.50,82.00,-3.26,2025-08-21\n",
      "CENTEL,28.75,28.50,29.00,19.40,41.25,-1.71,2025-08-21\n",
      "CHG,1.66,1.66,1.69,1.39,3.00,-0.6,2025-08-21\n",
      "CK,14.30,14.30,14.60,10.20,21.10,-0.69,2025-08-21\n",
      "CKP,2.80,2.80,2.86,2.10,4.04,-1.41,2025-08-21\n",
      "COM7,25.75,25.75,26.50,16.70,28.25,0.0,2025-08-21\n",
      "CPALL,45.25,45.00,45.75,41.50,68.00,-0.55,2025-08-21\n",
      "CPF,24.40,24.10,24.50,19.80,26.50,0.83,2025-08-21\n",
      "CPN,54.00,53.25,54.25,41.00,68.75,0.47,2025-08-21\n",
      "CPNCG,5.90,5.85,5.90,5.30,6.65,0.0,2025-08-21\n",
      "CPNREIT,11.40,11.20,11.40,10.20,13.60,0.88,2025-08-21\n",
      "CRC,21.00,20.60,21.30,15.80,36.00,1.45,2025-08-21\n",
      "DCC,1.40,1.39,1.41,1.18,2.04,0.0,2025-08-21\n",
      "DCON,0.25,0.24,0.26,0.23,0.41,4.17,2025-08-21\n",
      "DELTA,146.50,145.00,149.50,51.25,173.50,1.03,2025-08-21\n",
      "DIF,8.20,8.10,8.20,7.35,9.85,1.23,2025-08-21\n",
      "DOHOME,3.68,3.66,3.84,2.26,11.26,-3.66,2025-08-21\n",
      "DRT,5.35,5.35,5.40,4.42,8.15,0.0,2025-08-21\n",
      "EA,2.60,2.58,2.66,1.73,7.32,-0.76,2025-08-21\n",
      "EASTW,2.16,2.14,2.22,1.57,3.90,0.0,2025-08-21\n",
      "EGATIF,6.05,5.95,6.10,5.75,6.40,-0.82,2025-08-21\n",
      "EGCO,115.00,114.50,116.00,85.00,128.50,-0.43,2025-08-21\n",
      "EPG,3.06,3.06,3.14,2.12,5.25,-2.55,2025-08-21\n",
      "FORTH,7.15,7.10,7.25,6.05,15.00,0.7,2025-08-21\n",
      "FPT,6.20,6.15,6.25,5.85,14.00,-0.8,2025-08-21\n",
      "FSMART,6.10,6.10,6.15,5.35,9.15,-0.81,2025-08-21\n",
      "FTREIT,9.65,9.65,9.75,8.60,11.30,-1.03,2025-08-21\n",
      "GC,4.16,4.14,4.22,3.40,5.10,-5.45,2025-08-21\n",
      "GFPT,10.60,10.40,10.80,8.00,12.70,1.92,2025-08-21\n",
      "GGC,3.82,3.80,3.98,3.20,5.45,-1.55,2025-08-21\n",
      "GLOBAL,6.30,6.15,6.45,4.16,16.27,0.0,2025-08-21\n",
      "GPSC,37.50,36.00,37.50,22.40,49.75,4.17,2025-08-21\n",
      "GRAMMY,4.54,4.52,4.54,4.30,8.50,0.44,2025-08-21\n",
      "GUNKUL,1.75,1.73,1.77,1.31,2.96,1.74,2025-08-21\n",
      "GVREIT,6.35,6.25,6.35,5.25,7.15,1.6,2025-08-21\n",
      "HANA,23.20,21.40,23.30,14.00,44.00,7.91,2025-08-21\n",
      "HFT,4.12,3.98,4.14,3.32,4.76,4.04,2025-08-21\n",
      "HMPRO,6.95,6.90,7.15,5.70,11.10,-2.8,2025-08-21\n",
      "HTC,15.20,14.90,15.20,14.50,17.70,1.33,2025-08-21\n",
      "ICHI,11.60,11.60,11.80,9.40,17.00,-0.85,2025-08-21\n",
      "III,5.00,4.84,5.15,4.18,7.20,2.88,2025-08-21\n",
      "ILM,14.10,14.10,14.20,11.50,18.90,0.0,2025-08-21\n",
      "IMH,3.94,3.92,3.94,3.50,6.05,1.03,2025-08-21\n",
      "IMPACT,10.10,10.00,10.30,9.25,12.80,0.0,2025-08-21\n",
      "INOX,0.40,0.39,0.41,0.35,0.67,0.0,2025-08-21\n",
      "IP,3.28,3.24,3.36,2.02,5.15,-1.2,2025-08-21\n",
      "IRPC,1.07,1.03,1.10,0.70,1.86,7.0,2025-08-21\n",
      "IVL,23.50,21.80,23.50,16.90,27.50,9.3,2025-08-21\n",
      "3BBIF,6.20,6.15,6.20,5.00,6.75,0.81,2025-08-21\n",
      "JMART,8.45,8.40,8.65,5.20,17.70,0.6,2025-08-21\n",
      "JMT,11.40,11.30,11.70,7.35,22.00,-0.87,2025-08-21\n",
      "KBANK,167.00,166.50,170.50,138.50,171.50,-1.47,2025-08-21\n",
      "KCE,26.75,25.75,27.25,13.70,40.75,1.9,2025-08-21\n",
      "KEX,1.48,1.48,1.49,0.78,3.40,0.0,2025-08-21\n",
      "KGI,3.90,3.88,3.90,3.40,4.66,0.52,2025-08-21\n",
      "KKP,57.00,57.00,57.75,41.75,58.25,-1.3,2025-08-21\n",
      "KSL,1.48,1.46,1.50,1.25,2.36,-0.67,2025-08-21\n",
      "KTB,24.00,24.00,24.40,18.00,24.70,-1.23,2025-08-21\n",
      "KTC,27.75,27.75,29.00,21.80,52.25,-3.48,2025-08-21\n",
      "KYE,292.00,292.00,292.00,280.00,324.00,0.0,2025-08-21\n",
      "LALIN,5.05,5.00,5.05,4.80,6.80,0.0,2025-08-21\n",
      "LANNA,15.80,15.70,15.80,14.10,17.50,0.64,2025-08-21\n",
      "LH,3.94,3.92,3.98,3.18,6.50,-0.51,2025-08-21\n",
      "LHFG,0.78,0.77,0.79,0.72,0.96,0.0,2025-08-21\n",
      "LHK,3.54,3.50,3.54,3.02,4.12,0.0,2025-08-21\n",
      "LIT,0.78,0.74,0.80,0.39,1.34,4.0,2025-08-21\n",
      "LPH,3.90,3.88,3.94,3.20,4.78,0.0,2025-08-21\n",
      "LPN,1.73,1.71,1.73,1.61,3.38,0.58,2025-08-21\n",
      "M,23.50,23.50,24.50,13.80,30.75,0.0,2025-08-21\n",
      "MAJOR,8.25,8.20,8.40,7.35,16.00,1.23,2025-08-21\n",
      "MBAX,1.38,1.38,1.39,1.17,3.10,1.47,2025-08-21\n",
      "MC,10.60,10.50,10.60,9.15,13.00,0.95,2025-08-21\n",
      "MCS,8.60,8.50,8.60,5.80,9.20,0.0,2025-08-21\n",
      "MEGA,29.50,29.25,30.00,24.30,41.25,-0.84,2025-08-21\n",
      "MINT,24.30,24.10,24.70,21.70,29.50,-1.62,2025-08-21\n",
      "MST,7.30,7.25,7.35,5.50,10.30,0.0,2025-08-21\n",
      "MTC,37.00,36.25,37.25,33.75,54.00,-0.67,2025-08-21\n",
      "NER,4.30,4.28,4.44,3.88,5.65,-2.71,2025-08-21\n",
      "NOBLE,1.80,1.77,1.84,1.60,3.46,1.12,2025-08-21\n",
      "ONEE,2.36,2.36,2.40,1.99,4.68,-0.84,2025-08-21\n",
      "OR,12.70,12.70,13.10,10.10,17.80,-3.05,2025-08-21\n",
      "ORI,2.26,2.20,2.36,1.50,5.75,-3.42,2025-08-21\n",
      "OSP,17.50,17.20,17.70,12.90,24.30,1.16,2025-08-21\n",
      "PAP,1.74,1.72,1.75,1.31,2.96,-0.57,2025-08-21\n",
      "PCSGH,3.28,3.24,3.28,2.46,4.82,0.61,2025-08-21\n",
      "PDG,2.74,2.72,2.74,2.36,2.88,0.0,2025-08-21\n",
      "PLANB,4.66,4.64,4.74,4.08,8.60,-0.85,2025-08-21\n",
      "POPF,5.80,5.70,5.80,5.40,6.70,0.87,2025-08-21\n",
      "PREB,3.64,3.60,3.68,3.34,5.55,0.0,2025-08-21\n",
      "PRM,6.20,6.10,6.20,5.10,9.30,0.0,2025-08-21\n",
      "PSH,4.16,4.16,4.24,3.66,9.80,0.0,2025-08-21\n",
      "PSL,6.15,6.15,6.25,4.96,9.60,-2.38,2025-08-21\n",
      "PTG,7.00,7.00,7.15,5.45,10.70,-0.71,2025-08-21\n",
      "PTL,9.85,9.85,9.95,9.20,14.40,0.0,2025-08-21\n",
      "PTT,32.00,31.75,32.25,27.00,35.00,0.0,2025-08-21\n",
      "PTTEP,112.50,112.00,113.50,93.00,146.00,0.0,2025-08-21\n",
      "PTTGC,28.00,25.00,28.00,14.20,32.75,14.75,2025-08-21\n",
      "QH,1.39,1.38,1.41,1.15,2.00,-0.71,2025-08-21\n",
      "RATCH,26.25,26.25,26.75,22.50,34.25,0.0,2025-08-21\n",
      "RBF,4.02,3.96,4.04,3.04,7.40,0.5,2025-08-21\n",
      "RCL,27.25,27.00,27.75,18.20,31.75,0.93,2025-08-21\n",
      "RJH,13.90,13.70,13.90,11.50,26.25,0.72,2025-08-21\n",
      "ROJNA,4.64,4.62,4.68,4.14,7.50,0.0,2025-08-21\n",
      "RS,0.28,0.27,0.29,0.19,6.30,0.0,2025-08-21\n",
      "S11,3.24,3.22,3.28,1.86,3.70,0.62,2025-08-21\n",
      "SAPPE,33.75,32.00,39.50,27.50,83.00,-14.01,2025-08-21\n",
      "SAT,12.90,12.90,13.10,9.95,13.70,-3.01,2025-08-21\n",
      "SAWAD,25.25,24.90,25.75,14.80,41.36,-2.88,2025-08-21\n",
      "SC,1.87,1.85,1.87,1.40,3.22,0.54,2025-08-21\n",
      "SCB,128.50,128.00,130.00,105.50,133.00,-0.77,2025-08-21\n",
      "SCC,227.00,218.00,227.00,124.50,255.00,5.09,2025-08-21\n",
      "SCCC,151.50,151.00,152.50,138.50,177.50,-3.19,2025-08-21\n",
      "SCGP,18.60,17.50,18.60,10.70,32.25,5.68,2025-08-21\n",
      "SENA,1.85,1.83,1.86,1.54,2.50,-0.54,2025-08-21\n",
      "SGP,6.65,6.35,6.65,5.00,7.65,0.0,2025-08-21\n",
      "SINGER,5.30,5.25,5.45,3.92,12.70,-0.93,2025-08-21\n",
      "SIRI,1.51,1.49,1.52,1.11,1.94,0.0,2025-08-21\n",
      "SIS,20.70,20.70,21.10,17.60,31.25,-1.9,2025-08-21\n",
      "SJWD,10.10,9.75,10.20,5.75,12.50,4.12,2025-08-21\n",
      "SKN,5.65,5.60,5.65,5.05,6.40,0.89,2025-08-21\n",
      "SKR,7.80,7.40,7.80,6.20,9.80,4.7,2025-08-21\n",
      "SMPC,8.80,8.70,8.85,7.80,9.95,0.0,2025-08-21\n",
      "SNC,5.85,5.75,5.85,4.96,7.35,1.74,2025-08-21\n",
      "SPALI,15.80,15.60,16.00,13.20,21.10,0.0,2025-08-21\n",
      "SPC,58.50,58.25,58.50,53.00,61.50,0.0,2025-08-21\n",
      "SPCG,8.40,8.30,8.45,6.60,9.40,0.6,2025-08-21\n",
      "SPRC,4.60,4.56,4.70,4.26,7.55,-3.77,2025-08-21\n",
      "SPRIME,3.34,3.32,3.34,3.00,4.56,0.0,2025-08-21\n",
      "SSP,4.00,3.98,4.00,3.94,6.40,0.0,2025-08-21\n",
      "STA,12.00,11.90,12.30,10.30,25.75,0.0,2025-08-21\n",
      "STANLY,181.00,180.50,181.50,181.00,225.00,0.0,2025-08-21\n",
      "STGT,6.60,6.55,6.65,5.10,13.30,0.76,2025-08-21\n",
      "SUPER,0.15,0.14,0.15,0.12,0.32,7.14,2025-08-21\n",
      "SUPEREIF,5.40,5.30,5.40,4.72,7.05,0.93,2025-08-21\n",
      "SVI,5.90,5.85,6.00,5.55,9.40,0.0,2025-08-21\n",
      "SYNEX,11.50,11.50,11.70,9.30,16.70,0.88,2025-08-21\n",
      "TASCO,14.50,14.50,14.60,13.20,20.00,-0.68,2025-08-21\n",
      "TCAP,50.75,50.25,50.75,44.25,53.50,0.5,2025-08-21\n",
      "TFFIF,6.05,6.05,6.10,5.25,7.20,-0.82,2025-08-21\n",
      "TFG,5.85,5.85,6.00,3.02,6.10,-2.5,2025-08-21\n",
      "THANI,1.68,1.66,1.72,1.15,2.26,-1.75,2025-08-21\n",
      "THG,8.40,8.30,8.60,7.75,37.00,-2.33,2025-08-21\n",
      "TIPH,20.00,20.00,20.30,16.70,30.50,-0.99,2025-08-21\n",
      "TIPCO,8.75,8.75,8.80,8.35,10.40,-1.13,2025-08-21\n",
      "TISCO,100.50,100.50,101.50,92.00,102.50,-0.5,2025-08-21\n",
      "TK,4.22,4.16,4.24,3.28,5.45,0.0,2025-08-21\n",
      "TKN,5.65,5.65,5.70,5.00,11.80,0.0,2025-08-21\n",
      "TKS,5.95,5.90,6.00,4.90,8.15,-0.83,2025-08-21\n",
      "TMT,3.06,3.02,3.06,2.60,5.40,0.0,2025-08-21\n",
      "TMW,52.25,52.25,52.75,47.00,66.75,-0.95,2025-08-21\n",
      "TOA,14.40,14.20,14.80,9.35,20.50,-1.37,2025-08-21\n",
      "TOP,32.00,31.50,32.75,21.00,55.50,0.0,2025-08-21\n",
      "TPIPL,0.82,0.80,0.86,0.72,1.29,-2.38,2025-08-21\n",
      "TPIPP,2.26,2.24,2.30,1.99,3.14,0.89,2025-08-21\n",
      "TQM,14.30,14.30,14.60,12.20,33.25,-1.38,2025-08-21\n",
      "TRUE,11.30,11.20,11.80,10.10,13.30,-1.74,2025-08-21\n",
      "TSE,0.41,0.41,0.43,0.29,1.24,0.0,2025-08-21\n",
      "TSTH,0.76,0.76,0.78,0.47,0.93,-2.56,2025-08-21\n",
      "TTA,4.28,4.16,4.30,3.22,6.55,2.88,2025-08-21\n",
      "TTB,1.93,1.92,1.95,1.72,2.06,-0.52,2025-08-21\n",
      "TTLPF,10.90,10.90,11.00,10.80,16.60,-0.91,2025-08-21\n",
      "TTW,9.10,9.05,9.15,8.45,9.50,0.0,2025-08-21\n",
      "TU,12.30,12.10,12.50,8.60,15.80,0.82,2025-08-21\n",
      "TVO,25.25,25.25,25.75,19.70,25.50,0.0,2025-08-21\n",
      "TYCN,1.71,1.71,1.71,1.62,2.62,-1.16,2025-08-21\n",
      "UTP,7.95,7.90,7.95,7.20,11.30,0.63,2025-08-21\n",
      "VGI,2.06,2.06,2.14,1.86,3.68,-1.9,2025-08-21\n",
      "VIBHA,1.46,1.43,1.48,1.37,2.30,0.0,2025-08-21\n",
      "VNG,1.97,1.94,2.00,1.89,3.82,-1.01,2025-08-21\n",
      "WHA,3.64,3.58,3.66,2.26,6.20,1.11,2025-08-21\n",
      "WHAIR,5.35,5.35,5.40,4.12,6.75,0.0,2025-08-21\n",
      "WHART,9.05,9.05,9.15,8.55,10.80,-0.55,2025-08-21\n",
      "WHAUP,3.54,3.46,3.54,2.76,5.50,2.31,2025-08-21\n",
      "WICE,2.86,2.84,2.96,2.34,6.95,-2.05,2025-08-21\n",
      "WORK,4.26,4.24,4.34,3.82,10.40,-0.47,2025-08-21\n"
     ]
    }
   ],
   "source": [
    "df = pd.read_csv(input_file, header=None)\n",
    "out_df = get_stock_data(df)"
   ]
  },
  {
   "cell_type": "code",
   "execution_count": 13,
   "id": "d31edacf",
   "metadata": {},
   "outputs": [
    {
     "name": "stdout",
     "output_type": "stream",
     "text": [
      "End at:  08:35 PM\n"
     ]
    }
   ],
   "source": [
    "end_time = strftime(\"%I:%M %p\")\n",
    "print('End at: ', end_time)"
   ]
  },
  {
   "cell_type": "code",
   "execution_count": 14,
   "id": "b89c4ae7",
   "metadata": {},
   "outputs": [
    {
     "data": {
      "text/html": [
       "<div>\n",
       "<style scoped>\n",
       "    .dataframe tbody tr th:only-of-type {\n",
       "        vertical-align: middle;\n",
       "    }\n",
       "\n",
       "    .dataframe tbody tr th {\n",
       "        vertical-align: top;\n",
       "    }\n",
       "\n",
       "    .dataframe thead th {\n",
       "        text-align: right;\n",
       "    }\n",
       "</style>\n",
       "<table border=\"1\" class=\"dataframe\">\n",
       "  <thead>\n",
       "    <tr style=\"text-align: right;\">\n",
       "      <th></th>\n",
       "      <th>name</th>\n",
       "      <th>price</th>\n",
       "      <th>today_low</th>\n",
       "      <th>today_high</th>\n",
       "      <th>year_low</th>\n",
       "      <th>year_high</th>\n",
       "      <th>percent</th>\n",
       "      <th>updated_at</th>\n",
       "    </tr>\n",
       "  </thead>\n",
       "  <tbody>\n",
       "  </tbody>\n",
       "</table>\n",
       "</div>"
      ],
      "text/plain": [
       "Empty DataFrame\n",
       "Columns: [name, price, today_low, today_high, year_low, year_high, percent, updated_at]\n",
       "Index: []"
      ]
     },
     "execution_count": 14,
     "metadata": {},
     "output_type": "execute_result"
    }
   ],
   "source": [
    "out_df.query('price == \"-\"')"
   ]
  },
  {
   "cell_type": "code",
   "execution_count": 15,
   "id": "784f1b6d",
   "metadata": {},
   "outputs": [
    {
     "data": {
      "text/plain": [
       "(216, 8)"
      ]
     },
     "execution_count": 15,
     "metadata": {},
     "output_type": "execute_result"
    }
   ],
   "source": [
    "out_df.shape"
   ]
  },
  {
   "cell_type": "code",
   "execution_count": 16,
   "id": "6326d0c5",
   "metadata": {},
   "outputs": [],
   "source": [
    "out_df = out_df[out_df['name'] != 'BCT']"
   ]
  },
  {
   "cell_type": "code",
   "execution_count": 17,
   "id": "2a293f55-436e-45d1-9966-50d12c26e659",
   "metadata": {},
   "outputs": [],
   "source": [
    "out_df = out_df[out_df['name'] != 'LPF']"
   ]
  },
  {
   "cell_type": "code",
   "execution_count": 18,
   "id": "cc4b3547-5ea9-4ac6-bd11-896e67d464ed",
   "metadata": {},
   "outputs": [],
   "source": [
    "out_df = out_df[out_df['name'] != 'TYCN']"
   ]
  },
  {
   "cell_type": "code",
   "execution_count": 19,
   "id": "865622c2-dad3-4ba8-b35a-898461fe5e9a",
   "metadata": {},
   "outputs": [],
   "source": [
    "out_df = out_df[out_df['name'] != 'GRAMMY']"
   ]
  },
  {
   "cell_type": "code",
   "execution_count": 20,
   "id": "cb2d763d-5b75-4ace-b87a-f165c8e6cb91",
   "metadata": {},
   "outputs": [],
   "source": [
    "out_df = out_df[out_df['name'] != 'MST']"
   ]
  },
  {
   "cell_type": "code",
   "execution_count": 21,
   "id": "e65305f0-157a-4129-a758-15c02e8df06a",
   "metadata": {},
   "outputs": [],
   "source": [
    "out_df = out_df[out_df['name'] != 'SPC']"
   ]
  },
  {
   "cell_type": "code",
   "execution_count": 22,
   "id": "cb55b5f6-0679-4191-aeda-ab0cf45f18e7",
   "metadata": {},
   "outputs": [],
   "source": [
    "out_df = out_df[out_df['name'] != 'SPRIME']"
   ]
  },
  {
   "cell_type": "code",
   "execution_count": 23,
   "id": "981854f1-01a1-4e26-b2a9-4f58948a33ec",
   "metadata": {},
   "outputs": [],
   "source": [
    "out_df = out_df[out_df['name'] != 'FPT']"
   ]
  },
  {
   "cell_type": "code",
   "execution_count": 24,
   "id": "a2833967-e889-4ad5-97b2-8234ba35c31c",
   "metadata": {},
   "outputs": [],
   "source": [
    "out_df = out_df[out_df['name'] != 'GGC']"
   ]
  },
  {
   "cell_type": "code",
   "execution_count": 25,
   "id": "b2771ed1",
   "metadata": {},
   "outputs": [
    {
     "data": {
      "text/plain": [
       "(208, 8)"
      ]
     },
     "execution_count": 25,
     "metadata": {},
     "output_type": "execute_result"
    }
   ],
   "source": [
    "out_df.shape"
   ]
  },
  {
   "cell_type": "code",
   "execution_count": 26,
   "id": "eb2ffec6",
   "metadata": {},
   "outputs": [],
   "source": [
    "out_df['price'] = out_df['price'].astype('float')\n",
    "out_df['today_low'] = out_df['today_low'].astype('float')\n",
    "out_df['today_high'] = out_df['today_high'].astype('float')\n",
    "out_df['year_low'] = out_df['year_low'].astype('float')\n",
    "out_df['year_high'] = out_df['year_high'].astype('float')\n",
    "out_df['percent'] = out_df['percent'].astype('float')"
   ]
  },
  {
   "cell_type": "code",
   "execution_count": 27,
   "id": "f4fb1a3c",
   "metadata": {},
   "outputs": [],
   "source": [
    "sorted_out_df = out_df.sort_values('percent')"
   ]
  },
  {
   "cell_type": "code",
   "execution_count": 28,
   "id": "032f0eea",
   "metadata": {},
   "outputs": [
    {
     "data": {
      "text/html": [
       "<div>\n",
       "<style scoped>\n",
       "    .dataframe tbody tr th:only-of-type {\n",
       "        vertical-align: middle;\n",
       "    }\n",
       "\n",
       "    .dataframe tbody tr th {\n",
       "        vertical-align: top;\n",
       "    }\n",
       "\n",
       "    .dataframe thead th {\n",
       "        text-align: right;\n",
       "    }\n",
       "</style>\n",
       "<table border=\"1\" class=\"dataframe\">\n",
       "  <thead>\n",
       "    <tr style=\"text-align: right;\">\n",
       "      <th></th>\n",
       "      <th>name</th>\n",
       "      <th>price</th>\n",
       "      <th>today_low</th>\n",
       "      <th>today_high</th>\n",
       "      <th>year_low</th>\n",
       "      <th>year_high</th>\n",
       "      <th>percent</th>\n",
       "      <th>updated_at</th>\n",
       "    </tr>\n",
       "  </thead>\n",
       "  <tbody>\n",
       "    <tr>\n",
       "      <th>171</th>\n",
       "      <td>STANLY</td>\n",
       "      <td>181.0</td>\n",
       "      <td>180.5</td>\n",
       "      <td>181.5</td>\n",
       "      <td>181.0</td>\n",
       "      <td>225.0</td>\n",
       "      <td>0.0</td>\n",
       "      <td>2025-08-21</td>\n",
       "    </tr>\n",
       "  </tbody>\n",
       "</table>\n",
       "</div>"
      ],
      "text/plain": [
       "       name  price  today_low  today_high  year_low  year_high  percent  \\\n",
       "171  STANLY  181.0      180.5       181.5     181.0      225.0      0.0   \n",
       "\n",
       "     updated_at  \n",
       "171  2025-08-21  "
      ]
     },
     "execution_count": 28,
     "metadata": {},
     "output_type": "execute_result"
    }
   ],
   "source": [
    "sorted_out_df.query('today_low < year_low')"
   ]
  },
  {
   "cell_type": "code",
   "execution_count": 29,
   "id": "8e04b03d",
   "metadata": {},
   "outputs": [
    {
     "data": {
      "text/html": [
       "<div>\n",
       "<style scoped>\n",
       "    .dataframe tbody tr th:only-of-type {\n",
       "        vertical-align: middle;\n",
       "    }\n",
       "\n",
       "    .dataframe tbody tr th {\n",
       "        vertical-align: top;\n",
       "    }\n",
       "\n",
       "    .dataframe thead th {\n",
       "        text-align: right;\n",
       "    }\n",
       "</style>\n",
       "<table border=\"1\" class=\"dataframe\">\n",
       "  <thead>\n",
       "    <tr style=\"text-align: right;\">\n",
       "      <th></th>\n",
       "      <th>name</th>\n",
       "      <th>price</th>\n",
       "      <th>today_low</th>\n",
       "      <th>today_high</th>\n",
       "      <th>year_low</th>\n",
       "      <th>year_high</th>\n",
       "      <th>percent</th>\n",
       "      <th>updated_at</th>\n",
       "    </tr>\n",
       "  </thead>\n",
       "  <tbody>\n",
       "    <tr>\n",
       "      <th>204</th>\n",
       "      <td>TVO</td>\n",
       "      <td>25.25</td>\n",
       "      <td>25.25</td>\n",
       "      <td>25.75</td>\n",
       "      <td>19.7</td>\n",
       "      <td>25.5</td>\n",
       "      <td>0.0</td>\n",
       "      <td>2025-08-21</td>\n",
       "    </tr>\n",
       "  </tbody>\n",
       "</table>\n",
       "</div>"
      ],
      "text/plain": [
       "    name  price  today_low  today_high  year_low  year_high  percent  \\\n",
       "204  TVO  25.25      25.25       25.75      19.7       25.5      0.0   \n",
       "\n",
       "     updated_at  \n",
       "204  2025-08-21  "
      ]
     },
     "execution_count": 29,
     "metadata": {},
     "output_type": "execute_result"
    }
   ],
   "source": [
    "sorted_out_df.query('today_high > year_high')"
   ]
  },
  {
   "cell_type": "code",
   "execution_count": 30,
   "id": "290a9607",
   "metadata": {},
   "outputs": [
    {
     "data": {
      "text/html": [
       "<div>\n",
       "<style scoped>\n",
       "    .dataframe tbody tr th:only-of-type {\n",
       "        vertical-align: middle;\n",
       "    }\n",
       "\n",
       "    .dataframe tbody tr th {\n",
       "        vertical-align: top;\n",
       "    }\n",
       "\n",
       "    .dataframe thead th {\n",
       "        text-align: right;\n",
       "    }\n",
       "</style>\n",
       "<table border=\"1\" class=\"dataframe\">\n",
       "  <thead>\n",
       "    <tr style=\"text-align: right;\">\n",
       "      <th></th>\n",
       "      <th>name</th>\n",
       "      <th>price</th>\n",
       "      <th>today_low</th>\n",
       "      <th>today_high</th>\n",
       "      <th>year_low</th>\n",
       "      <th>year_high</th>\n",
       "      <th>percent</th>\n",
       "      <th>updated_at</th>\n",
       "    </tr>\n",
       "  </thead>\n",
       "  <tbody>\n",
       "    <tr>\n",
       "      <th>204</th>\n",
       "      <td>TVO</td>\n",
       "      <td>25.25</td>\n",
       "      <td>25.25</td>\n",
       "      <td>25.75</td>\n",
       "      <td>19.7</td>\n",
       "      <td>25.5</td>\n",
       "      <td>0.0</td>\n",
       "      <td>2025-08-21</td>\n",
       "    </tr>\n",
       "  </tbody>\n",
       "</table>\n",
       "</div>"
      ],
      "text/plain": [
       "    name  price  today_low  today_high  year_low  year_high  percent  \\\n",
       "204  TVO  25.25      25.25       25.75      19.7       25.5      0.0   \n",
       "\n",
       "     updated_at  \n",
       "204  2025-08-21  "
      ]
     },
     "execution_count": 30,
     "metadata": {},
     "output_type": "execute_result"
    }
   ],
   "source": [
    "out_df.query('today_high > year_high')"
   ]
  },
  {
   "cell_type": "code",
   "execution_count": 31,
   "id": "5fbeba56-2a63-4650-898b-6447a81f95f5",
   "metadata": {},
   "outputs": [],
   "source": [
    "file_name = \"Price-Hilo.csv\"\n",
    "output_file = os.path.join(dat_path, file_name)\n",
    "god_file = os.path.join(god_path, file_name)\n",
    "icd_file = os.path.join(icd_path, file_name)\n",
    "osd_file = os.path.join(osd_path, file_name)"
   ]
  },
  {
   "cell_type": "code",
   "execution_count": 32,
   "id": "da6183ac-2f05-4f67-b200-fe83634d29dc",
   "metadata": {},
   "outputs": [
    {
     "name": "stdout",
     "output_type": "stream",
     "text": [
      "output_file : C:\\Users\\PC1\\OneDrive\\A5\\Data\\Price-Hilo.csv\n",
      "icd_file : C:\\Users\\PC1\\iCloudDrive\\Data\\Price-Hilo.csv\n",
      "god_file : C:\\Users\\PC1\\OneDrive\\Imports\\santisoontarinka@gmail.com - Google Drive\\Data\\Price-Hilo.csv\n",
      "osd_file : C:\\Users\\PC1\\OneDrive\\Documents\\obsidian-git-sync\\Data\\Price-Hilo.csv\n"
     ]
    }
   ],
   "source": [
    "print(f\"output_file : {output_file}\") \n",
    "print(f\"icd_file : {icd_file}\") \n",
    "print(f\"god_file : {god_file}\") \n",
    "print(f\"osd_file : {osd_file}\") "
   ]
  },
  {
   "cell_type": "code",
   "execution_count": 33,
   "id": "8017b53b",
   "metadata": {},
   "outputs": [],
   "source": [
    "out_df.to_csv(output_file, index=False)  \n",
    "out_df.to_csv(god_file, index=False) \n",
    "out_df.to_csv(icd_file, index=False)  \n",
    "out_df.to_csv(osd_file, index=False) "
   ]
  },
  {
   "cell_type": "code",
   "execution_count": 34,
   "id": "80692fae-6308-4695-bcac-5124ce4d44e3",
   "metadata": {},
   "outputs": [
    {
     "name": "stdout",
     "output_type": "stream",
     "text": [
      "2025-08-21 20:35:49\n"
     ]
    }
   ],
   "source": [
    "# Get the current time\n",
    "current_time = datetime.now()\n",
    "# Format the time to remove milliseconds\n",
    "formatted_time = current_time.strftime(\"%Y-%m-%d %H:%M:%S\")\n",
    "print(formatted_time)"
   ]
  }
 ],
 "metadata": {
  "kernelspec": {
   "display_name": "Python 3 (ipykernel)",
   "language": "python",
   "name": "python3"
  },
  "language_info": {
   "codemirror_mode": {
    "name": "ipython",
    "version": 3
   },
   "file_extension": ".py",
   "mimetype": "text/x-python",
   "name": "python",
   "nbconvert_exporter": "python",
   "pygments_lexer": "ipython3",
   "version": "3.12.3"
  }
 },
 "nbformat": 4,
 "nbformat_minor": 5
}
