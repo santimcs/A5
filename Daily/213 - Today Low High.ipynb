{
 "cells": [
  {
   "cell_type": "markdown",
   "id": "930356c6",
   "metadata": {},
   "source": [
    "### Start and Run All"
   ]
  },
  {
   "cell_type": "code",
   "execution_count": 2,
   "id": "d7cfc693",
   "metadata": {},
   "outputs": [
    {
     "name": "stdout",
     "output_type": "stream",
     "text": [
      "2025-08-14 21:04:28\n"
     ]
    }
   ],
   "source": [
    "import os\n",
    "import pandas as pd\n",
    "from urllib import request\n",
    "from bs4 import BeautifulSoup\n",
    "# from datetime import date, timedelta\n",
    "from datetime import datetime\n",
    "from time import sleep, strftime\n",
    "\n",
    "# Get the current time\n",
    "current_time = datetime.now()\n",
    "# Format the time to remove milliseconds\n",
    "formatted_time = current_time.strftime(\"%Y-%m-%d %H:%M:%S\")\n",
    "print(formatted_time)"
   ]
  },
  {
   "cell_type": "code",
   "execution_count": 3,
   "id": "0cbdda38-ec42-4470-bede-c468ba46f8d8",
   "metadata": {},
   "outputs": [],
   "source": [
    "url = \"https://www.set.or.th/en/market/product/stock/quote/\"\n",
    "percent_span = '' "
   ]
  },
  {
   "cell_type": "code",
   "execution_count": 4,
   "id": "6e4b7508-0071-480d-99c8-a6c070027294",
   "metadata": {},
   "outputs": [],
   "source": [
    "# Get the user's home directory\n",
    "user_path = os.path.expanduser('~')\n",
    "# Get the current working directory\n",
    "current_path = os.getcwd()\n",
    "# Derive the base directory (base_dir) by removing the last folder ('Daily')\n",
    "base_path = os.path.dirname(current_path)\n",
    "#C:\\Users\\PC1\\OneDrive\\A5\\Data\n",
    "dat_path = os.path.join(base_path, \"Data\")\n",
    "#C:\\Users\\PC1\\OneDrive\\Imports\\santisoontarinka@gmail.com - Google Drive\\Data>\n",
    "god_path = os.path.join(user_path, \"OneDrive\",\"Imports\",\"santisoontarinka@gmail.com - Google Drive\",\"Data\")\n",
    "#C:\\Users\\PC1\\iCloudDrive\\data\n",
    "icd_path = os.path.join(user_path, \"iCloudDrive\", \"Data\")\n",
    "#C:\\Users\\PC1\\OneDrive\\Documents\\obsidian-git-sync\\Data\n",
    "osd_path = os.path.join(user_path, \"OneDrive\",\"Documents\",\"obsidian-git-sync\",\"Data\")"
   ]
  },
  {
   "cell_type": "code",
   "execution_count": 5,
   "id": "07defeb3-a742-4e64-8089-7e4fe5b8b93c",
   "metadata": {},
   "outputs": [
    {
     "name": "stdout",
     "output_type": "stream",
     "text": [
      "User path: C:\\Users\\PC1\n",
      "Current path: C:\\Users\\PC1\\OneDrive\\A5\\Daily\n",
      "Base path: C:\\Users\\PC1\\OneDrive\\A5\n",
      "Data path : C:\\Users\\PC1\\OneDrive\\A5\\Data\n",
      "Google Drive path : C:\\Users\\PC1\\OneDrive\\Imports\\santisoontarinka@gmail.com - Google Drive\\Data\n",
      "iCloudDrive path : C:\\Users\\PC1\\iCloudDrive\\Data\n",
      "Obsidian path : C:\\Users\\PC1\\OneDrive\\Documents\\obsidian-git-sync\\Data\n"
     ]
    }
   ],
   "source": [
    "print(\"User path:\", user_path)\n",
    "print(f\"Current path: {current_path}\")\n",
    "print(f\"Base path: {base_path}\")\n",
    "print(f\"Data path : {dat_path}\") \n",
    "print(f\"Google Drive path : {god_path}\")\n",
    "print(f\"iCloudDrive path : {icd_path}\") \n",
    "print(f\"Obsidian path : {osd_path}\") "
   ]
  },
  {
   "cell_type": "code",
   "execution_count": 6,
   "id": "08576879-dc60-431b-a31a-e1893e2d7922",
   "metadata": {},
   "outputs": [
    {
     "name": "stdout",
     "output_type": "stream",
     "text": [
      "Input file : C:\\Users\\PC1\\OneDrive\\A5\\Data\\name-ttl.csv\n"
     ]
    }
   ],
   "source": [
    "file_name = \"name-ttl.csv\"\n",
    "input_file = os.path.join(dat_path, file_name)\n",
    "print(f\"Input file : {input_file}\") "
   ]
  },
  {
   "cell_type": "code",
   "execution_count": 7,
   "id": "9b9668db-0773-4de5-9bd4-864c377dab80",
   "metadata": {},
   "outputs": [],
   "source": [
    "file_name = \"price-hilo.csv\"\n",
    "output_file = os.path.join(dat_path, file_name)\n",
    "god_file = os.path.join(god_path, file_name)\n",
    "icd_file = os.path.join(icd_path, file_name)\n",
    "osd_file = os.path.join(osd_path, file_name)"
   ]
  },
  {
   "cell_type": "code",
   "execution_count": 8,
   "id": "66c38ef5-8643-4ad3-81ff-9e2275d426d5",
   "metadata": {},
   "outputs": [
    {
     "name": "stdout",
     "output_type": "stream",
     "text": [
      "Output file : C:\\Users\\PC1\\OneDrive\\A5\\Data\\price-hilo.csv\n",
      "icd_file : C:\\Users\\PC1\\iCloudDrive\\Data\\price-hilo.csv\n",
      "god_file : C:\\Users\\PC1\\OneDrive\\Imports\\santisoontarinka@gmail.com - Google Drive\\Data\\price-hilo.csv\n",
      "osd_file : C:\\Users\\PC1\\OneDrive\\Documents\\obsidian-git-sync\\Data\\price-hilo.csv\n"
     ]
    }
   ],
   "source": [
    "print(f\"Output file : {output_file}\") \n",
    "print(f\"icd_file : {icd_file}\") \n",
    "print(f\"god_file : {god_file}\") \n",
    "print(f\"osd_file : {osd_file}\")"
   ]
  },
  {
   "cell_type": "code",
   "execution_count": 9,
   "id": "c1ec2693",
   "metadata": {},
   "outputs": [],
   "source": [
    "def cvt_str_to_flt(input_str):\n",
    "    # Check for the special pattern and return 0\n",
    "    if input_str == '(-)':\n",
    "        return 0\n",
    "    \n",
    "    # Remove parentheses and percent sign\n",
    "    cleaned_str = input_str.replace('(', '').replace(')', '').replace('%', '')\n",
    "\n",
    "    # Convert to float\n",
    "    try:\n",
    "        return float(cleaned_str)\n",
    "    except ValueError:\n",
    "        # Handle the case where the conversion fails\n",
    "        return None\n",
    " "
   ]
  },
  {
   "cell_type": "code",
   "execution_count": 10,
   "id": "334bed1f",
   "metadata": {},
   "outputs": [],
   "source": [
    "def get_stock_data(in_df):\n",
    "\n",
    "    in_df.columns = ['name']\n",
    "    \n",
    "    output_columns = ['name', 'price', 'today_low', 'today_high', 'year_low', 'year_high', 'percent', 'updated_at']\n",
    "    # Initialize an empty DataFrame with specified columns\n",
    "    out_df = pd.DataFrame(columns=output_columns)\n",
    "    \n",
    "    for index, row in in_df.iterrows():\n",
    "        name = str(row['name']).upper()\n",
    "        response = request.urlopen(url + name + '/price')\n",
    "        html_page = BeautifulSoup(response, 'html.parser')\n",
    "        \n",
    "  #      price = html_page.find('div', class_='value text-white mb-0 me-2 lh-1 stock-info').text.strip()        \n",
    "  #      if (price == '-'):\n",
    "  #          price = '0.00'        \n",
    "\n",
    "        price_div = html_page.find('div', class_='value text-white mb-0 me-2 lh-1 stock-info')\n",
    "        if price_div:\n",
    "            price = price_div.text.strip()\n",
    "        else:\n",
    "            print(f\"Price div not found for {name}\")\n",
    "            price = '0.00'     \n",
    "            \n",
    "        # Try to find the <h3> tag with the class 'theme-success'\n",
    "        h3_tag = html_page.find('h3', class_='theme-success')\n",
    "        if h3_tag:\n",
    "        # Find all <span> tags within the found <h3> tag\n",
    "            span_tags = h3_tag.find_all('span')\n",
    "    \n",
    "            if len(span_tags) > 1:\n",
    "                # Extract the text from the second <span> tag\n",
    "                percent_span = span_tags[1].text\n",
    "                # print(percent_span)\n",
    "                \n",
    "        # Try to find the <h3> tag with the class 'theme-danger'\n",
    "        h3_tag = html_page.find('h3', class_='theme-danger')\n",
    "        if h3_tag:\n",
    "        # Find all <span> tags within the found <h3> tag\n",
    "            span_tags = h3_tag.find_all('span')\n",
    "    \n",
    "            if len(span_tags) > 1:\n",
    "                # Extract the text from the second <span> tag\n",
    "                percent_span = span_tags[1].text\n",
    "                # print(percent_span)    \n",
    "                \n",
    "        # Try to find the <h3> tag with the class 'theme-danger'\n",
    "        h3_tag = html_page.find('h3', class_='theme-normal')\n",
    "        if h3_tag:\n",
    "        # Find all <span> tags within the found <h3> tag\n",
    "            span_tags = h3_tag.find_all('span')\n",
    "    \n",
    "            if len(span_tags) > 1:\n",
    "                # Extract the text from the second <span> tag\n",
    "                percent_span = span_tags[1].text\n",
    "                # print(percent_span)   \n",
    "                \n",
    "        percent = cvt_str_to_flt(percent_span)\n",
    "                \n",
    "        values_low = html_page.find_all('span', class_='title-font-family fs-16px fw-bolder me-auto lh-1')\n",
    "        today_low = values_low[0].text\n",
    "        if (today_low == '-'):\n",
    "            today_low = '0.00'\n",
    "        \n",
    "        values_high = html_page.find_all('span', class_='title-font-family fs-16px fw-bolder lh-1')\n",
    "        today_high = values_high[0].text\n",
    "        if (today_high == '-'):\n",
    "            today_high = '0.00'         \n",
    "        \n",
    "        year_low = values_low[1].text        \n",
    "        year_high = values_high[1].text     \n",
    "        \n",
    "        # Find the div with the specific class, then find the span within it\n",
    "        div = html_page.find('div', class_='price-detail-date d-flex align-items-center text-nowrap fs-12px')\n",
    "        if div:\n",
    "            span = div.find('span')\n",
    "            if span:\n",
    "                text = span.get_text()\n",
    "#                 print(text)\n",
    "            else:\n",
    "                print(\"Span not found\")\n",
    "        else:\n",
    "            print(\"Div not found\")\n",
    "            \n",
    "        # Extract the date part from the string\n",
    "        # Assuming the date is always in the format 'dd Mon yyyy'\n",
    "        date_str = ' '.join(text.split()[2:5])\n",
    "\n",
    "        # Parse the date string into a datetime object\n",
    "        date_obj = datetime.strptime(date_str, '%d %b %Y')\n",
    "\n",
    "        # Format the datetime object to 'yyyy-mm-dd'\n",
    "        updated_at = date_obj.strftime('%Y-%m-%d')\n",
    "\n",
    "#         print(updated_at)\n",
    "        \n",
    "        # Append row to the DataFrame and print the row\n",
    "        out_df.loc[len(out_df)] = [name, price, today_low, today_high, year_low, year_high, percent, updated_at]\n",
    "#       print(out_df.iloc[-1].to_string(header=False, index=False)) \n",
    "        print(','.join(map(str, out_df.iloc[-1])))\n",
    "        sleep(1)\n",
    "        \n",
    "    return out_df  # return the final dataframe with all values populated"
   ]
  },
  {
   "cell_type": "code",
   "execution_count": 11,
   "id": "94abc8d4",
   "metadata": {},
   "outputs": [
    {
     "name": "stdout",
     "output_type": "stream",
     "text": [
      "Start at:  09:04 PM\n"
     ]
    }
   ],
   "source": [
    "start_time = strftime(\"%I:%M %p\")\n",
    "print('Start at: ', start_time)"
   ]
  },
  {
   "cell_type": "code",
   "execution_count": 12,
   "id": "23b565ec",
   "metadata": {
    "scrolled": true
   },
   "outputs": [
    {
     "name": "stdout",
     "output_type": "stream",
     "text": [
      "ACE,1.30,1.29,1.31,1.23,1.49,-0.76,2025-08-14\n",
      "ADVANC,300.00,299.00,303.00,237.00,309.00,-0.33,2025-08-14\n",
      "AEONTS,104.50,104.50,108.00,90.50,148.00,-2.79,2025-08-14\n",
      "AH,15.30,15.30,15.80,10.00,23.20,-1.92,2025-08-14\n",
      "AIE,1.10,1.08,1.16,0.72,1.80,-5.17,2025-08-14\n",
      "AIMIRT,9.90,9.85,9.95,9.20,11.20,0.0,2025-08-14\n",
      "AIT,5.05,5.05,5.15,3.86,5.30,-0.98,2025-08-14\n",
      "AJ,2.24,2.20,2.30,1.94,5.80,-0.88,2025-08-14\n",
      "AMATA,16.20,16.10,16.60,11.20,31.00,-1.82,2025-08-14\n",
      "ANAN,0.42,0.42,0.44,0.37,0.85,-4.55,2025-08-14\n",
      "AOT,38.50,38.25,40.00,26.75,65.00,-3.75,2025-08-14\n",
      "AP,7.85,7.60,7.85,5.60,10.50,2.61,2025-08-14\n",
      "ASIAN,7.55,7.45,7.70,6.50,10.50,2.03,2025-08-14\n",
      "ASK,7.45,7.45,7.90,6.20,15.30,-5.1,2025-08-14\n",
      "ASP,2.36,2.34,2.40,1.81,2.70,-0.84,2025-08-14\n",
      "ASW,6.55,6.50,6.55,5.55,8.20,0.0,2025-08-14\n",
      "AWC,2.38,2.22,2.42,1.55,3.94,6.25,2025-08-14\n",
      "BA,14.70,14.50,15.00,10.60,26.00,-2.65,2025-08-14\n",
      "BAM,8.45,8.20,8.60,5.35,10.20,0.6,2025-08-14\n",
      "BANPU,4.82,4.76,4.94,4.00,7.50,-1.63,2025-08-14\n",
      "BAY,23.50,23.20,23.90,20.70,29.00,-0.84,2025-08-14\n",
      "BBL,153.50,153.00,154.50,129.00,161.50,-0.97,2025-08-14\n",
      "BCH,14.10,14.10,14.60,12.30,19.20,-3.42,2025-08-14\n",
      "BCP,32.25,32.25,33.75,26.50,41.00,-4.44,2025-08-14\n",
      "BCPG,8.25,8.10,8.40,5.05,8.65,-0.6,2025-08-14\n",
      "BCT,47.50,47.00,47.75,43.50,76.75,-1.04,2025-08-14\n",
      "BDMS,21.70,21.60,22.60,19.80,31.25,-5.24,2025-08-14\n",
      "BE8,5.65,5.65,6.10,5.20,21.20,-6.61,2025-08-14\n",
      "BEAUTY,0.31,0.30,0.31,0.19,0.57,0.0,2025-08-14\n",
      "BEC,2.36,2.32,2.44,1.79,4.68,-1.67,2025-08-14\n",
      "BEM,5.50,5.40,5.50,4.56,8.30,0.92,2025-08-14\n",
      "BGC,4.98,4.98,5.10,4.54,7.90,-2.35,2025-08-14\n",
      "BGRIM,11.40,11.20,11.80,8.90,24.80,-1.72,2025-08-14\n",
      "BH,184.00,183.50,189.00,130.00,284.00,-2.13,2025-08-14\n",
      "BJC,18.60,18.50,19.10,16.50,25.75,-0.53,2025-08-14\n",
      "BKIH,290.00,289.00,291.00,271.00,316.00,0.0,2025-08-14\n",
      "BLA,18.60,18.00,18.60,14.00,25.75,3.91,2025-08-14\n",
      "BLAND,0.51,0.49,0.52,0.38,0.70,2.0,2025-08-14\n",
      "BPP,8.20,8.15,8.35,6.20,13.60,-1.8,2025-08-14\n",
      "BTS,3.44,3.42,3.50,3.28,6.40,-1.15,2025-08-14\n",
      "BTSGIF,2.68,2.66,2.70,2.54,3.52,0.0,2025-08-14\n",
      "CBG,55.00,54.50,56.25,46.50,82.00,-1.79,2025-08-14\n",
      "CENTEL,27.00,27.00,28.25,19.40,41.25,-6.09,2025-08-14\n",
      "CHG,1.78,1.78,1.84,1.39,3.00,-2.73,2025-08-14\n",
      "CK,13.50,13.20,14.00,10.20,21.10,-2.88,2025-08-14\n",
      "CKP,2.84,2.84,2.92,2.10,4.04,-2.07,2025-08-14\n",
      "COM7,24.50,23.90,25.25,16.70,28.25,-2.0,2025-08-14\n",
      "CPALL,46.25,46.00,46.75,41.50,68.00,0.54,2025-08-14\n",
      "CPF,24.20,23.60,24.40,19.80,26.50,2.54,2025-08-14\n",
      "CPN,54.25,52.50,54.50,41.00,68.75,2.84,2025-08-14\n",
      "CPNCG,6.15,6.05,6.15,5.30,6.65,0.82,2025-08-14\n",
      "CPNREIT,11.50,11.50,11.90,10.20,13.60,-2.54,2025-08-14\n",
      "CRC,20.40,20.00,20.90,15.80,36.00,-4.23,2025-08-14\n",
      "DCC,1.43,1.43,1.46,1.18,2.04,-1.38,2025-08-14\n",
      "DCON,0.25,0.24,0.26,0.23,0.41,4.17,2025-08-14\n",
      "DELTA,151.00,151.00,156.50,51.25,173.50,-1.95,2025-08-14\n",
      "DIF,8.40,8.35,8.45,7.35,9.85,-0.59,2025-08-14\n",
      "DOHOME,3.92,3.82,3.98,2.26,11.26,1.55,2025-08-14\n",
      "DRT,5.35,5.30,5.45,4.42,8.15,0.0,2025-08-14\n",
      "EA,2.62,2.60,2.72,1.73,7.32,-6.43,2025-08-14\n",
      "EASTW,2.08,2.08,2.14,1.57,3.90,-1.89,2025-08-14\n",
      "EGATIF,6.00,6.00,6.05,5.75,6.40,-0.83,2025-08-14\n",
      "EGCO,113.00,112.00,113.50,85.00,128.50,0.0,2025-08-14\n",
      "EPG,3.08,3.06,3.22,2.12,5.25,1.99,2025-08-14\n",
      "FORTH,7.15,7.00,7.25,6.05,15.00,0.0,2025-08-14\n",
      "FPT,6.15,6.15,6.25,5.85,14.00,0.0,2025-08-14\n",
      "FSMART,5.85,5.60,7.20,5.10,9.15,-17.02,2025-08-14\n",
      "FTREIT,9.80,9.65,9.85,8.60,11.30,0.0,2025-08-14\n",
      "GC,4.30,4.24,4.32,3.40,5.10,0.94,2025-08-14\n",
      "GFPT,10.10,10.00,10.40,8.00,13.10,-1.94,2025-08-14\n",
      "GGC,3.88,3.88,3.94,3.20,5.45,-0.51,2025-08-14\n",
      "GLOBAL,6.20,6.10,6.35,4.16,16.27,-1.59,2025-08-14\n",
      "GPSC,36.50,35.50,36.50,22.40,49.75,0.69,2025-08-14\n",
      "GRAMMY,4.58,4.54,4.58,4.30,8.50,0.0,2025-08-14\n",
      "GUNKUL,1.78,1.78,1.84,1.31,2.96,-1.66,2025-08-14\n",
      "GVREIT,6.45,6.30,6.80,5.25,7.15,-5.15,2025-08-14\n",
      "HANA,22.50,22.30,23.00,14.00,44.00,-3.02,2025-08-14\n",
      "HFT,3.96,3.92,4.00,3.32,4.80,-1.0,2025-08-14\n",
      "HMPRO,7.05,7.00,7.15,5.70,11.10,-0.7,2025-08-14\n",
      "HTC,15.20,15.20,15.40,14.50,17.70,0.0,2025-08-14\n",
      "ICHI,11.20,11.10,11.30,9.40,17.00,0.9,2025-08-14\n",
      "III,4.72,4.72,5.05,4.18,7.20,-6.53,2025-08-14\n",
      "ILM,14.20,14.20,14.90,11.50,18.90,-2.74,2025-08-14\n",
      "IMH,3.96,3.94,3.96,3.50,6.05,0.51,2025-08-14\n",
      "IMPACT,9.95,9.90,10.10,9.25,12.80,-0.5,2025-08-14\n",
      "INOX,0.42,0.41,0.42,0.35,0.67,2.44,2025-08-14\n",
      "IP,3.46,3.38,3.54,2.02,5.15,0.0,2025-08-14\n",
      "IRPC,0.97,0.97,1.01,0.70,1.86,-3.0,2025-08-14\n",
      "IVL,22.20,22.20,23.50,16.00,27.50,-3.48,2025-08-14\n",
      "3BBIF,6.25,6.25,6.40,5.00,6.75,-1.57,2025-08-14\n",
      "JMART,8.15,8.05,8.90,5.20,17.70,-8.94,2025-08-14\n",
      "JMT,11.50,11.10,12.00,7.35,22.00,-4.17,2025-08-14\n",
      "KBANK,169.00,167.50,169.00,128.50,170.00,0.0,2025-08-14\n",
      "KCE,26.25,24.40,27.00,13.70,41.50,1.94,2025-08-14\n",
      "KEX,1.48,1.48,1.49,0.78,3.40,0.0,2025-08-14\n",
      "KGI,3.94,3.92,3.98,3.40,4.66,-1.5,2025-08-14\n",
      "KKP,57.75,57.00,58.00,38.00,58.25,0.0,2025-08-14\n",
      "KSL,1.53,1.52,1.54,1.25,2.36,-0.65,2025-08-14\n",
      "KTB,24.10,24.00,24.40,17.70,24.70,-1.23,2025-08-14\n",
      "KTC,29.25,29.00,30.00,21.80,52.25,-1.68,2025-08-14\n",
      "KYE,291.00,291.00,294.00,280.00,324.00,-0.34,2025-08-14\n",
      "LALIN,5.10,4.98,5.10,4.80,6.80,2.41,2025-08-14\n",
      "LANNA,16.40,16.20,16.60,14.10,17.50,0.0,2025-08-14\n",
      "LH,4.04,3.98,4.08,3.18,6.50,1.51,2025-08-14\n",
      "LHFG,0.78,0.78,0.80,0.72,0.96,-1.27,2025-08-14\n",
      "LHK,3.56,3.56,3.60,3.02,4.12,-0.56,2025-08-14\n",
      "LIT,0.75,0.75,0.79,0.39,1.34,-6.25,2025-08-14\n",
      "LPH,4.02,4.02,4.18,3.20,4.78,-3.83,2025-08-14\n",
      "LPN,1.75,1.74,1.77,1.61,3.38,-0.57,2025-08-14\n",
      "M,24.20,23.80,24.60,13.80,30.75,-3.2,2025-08-14\n",
      "MAJOR,8.70,8.55,8.80,7.35,16.00,-1.14,2025-08-14\n",
      "MBAX,1.38,1.38,1.39,1.17,3.10,0.0,2025-08-14\n",
      "MC,10.50,10.50,10.80,9.15,13.00,-1.87,2025-08-14\n",
      "MCS,8.55,8.50,8.80,5.80,9.20,-2.29,2025-08-14\n",
      "MEGA,31.25,30.50,31.25,24.30,41.25,0.81,2025-08-14\n",
      "MINT,24.70,24.10,24.70,21.70,29.50,0.41,2025-08-14\n",
      "MST,7.15,7.15,7.15,5.50,10.30,-0.69,2025-08-14\n",
      "MTC,37.75,36.50,38.25,33.75,54.00,0.67,2025-08-14\n",
      "NER,4.52,4.50,4.60,3.88,5.65,-1.31,2025-08-14\n",
      "NOBLE,1.77,1.75,1.80,1.60,3.46,-1.67,2025-08-14\n",
      "ONEE,2.34,2.30,2.42,1.99,4.68,-1.68,2025-08-14\n",
      "OR,13.50,13.10,13.70,10.10,17.80,3.85,2025-08-14\n",
      "ORI,2.04,1.99,2.16,1.50,5.75,-4.67,2025-08-14\n",
      "OSP,18.10,18.00,18.50,12.90,24.30,-1.63,2025-08-14\n",
      "PAP,1.76,1.76,1.87,1.31,2.96,0.57,2025-08-14\n",
      "PCSGH,3.30,3.24,3.30,2.46,4.84,0.61,2025-08-14\n",
      "PDG,2.84,2.82,2.86,2.36,2.86,0.0,2025-08-14\n",
      "PLANB,4.80,4.76,4.94,4.08,8.60,-2.04,2025-08-14\n",
      "POPF,6.00,5.95,6.00,5.40,6.70,-0.83,2025-08-14\n",
      "PREB,3.50,3.48,3.62,3.34,5.55,-1.13,2025-08-14\n",
      "PRM,6.40,6.30,6.50,5.10,9.30,-1.54,2025-08-14\n",
      "PSH,4.36,4.36,4.50,3.66,9.80,-2.68,2025-08-14\n",
      "PSL,6.40,6.40,6.60,4.96,9.60,-2.29,2025-08-14\n",
      "PTG,6.90,6.90,7.10,5.45,10.70,-2.13,2025-08-14\n",
      "PTL,9.80,9.80,9.90,9.20,14.40,-0.51,2025-08-14\n",
      "PTT,32.25,32.00,32.50,27.00,35.00,-0.77,2025-08-14\n",
      "PTTEP,115.50,115.50,118.00,93.00,147.50,-2.12,2025-08-14\n",
      "PTTGC,23.00,23.00,24.70,14.20,32.75,-4.17,2025-08-14\n",
      "QH,1.41,1.39,1.42,1.15,2.00,0.71,2025-08-14\n",
      "RATCH,26.25,26.25,26.75,22.50,34.25,-0.94,2025-08-14\n",
      "RBF,3.78,3.74,3.94,3.04,7.40,-0.53,2025-08-14\n",
      "RCL,28.75,28.50,30.50,18.20,31.75,-4.96,2025-08-14\n",
      "RJH,13.60,13.40,14.00,11.50,26.25,-4.23,2025-08-14\n",
      "ROJNA,4.82,4.82,4.88,4.14,7.50,-1.23,2025-08-14\n",
      "RS,0.27,0.25,0.29,0.19,6.30,-6.9,2025-08-14\n",
      "S11,3.18,3.08,3.24,1.72,3.70,-1.85,2025-08-14\n",
      "SAPPE,39.00,38.00,39.75,27.50,98.00,3.31,2025-08-14\n",
      "SAT,13.40,13.20,13.50,9.95,13.70,0.0,2025-08-14\n",
      "SAWAD,22.60,22.10,22.80,14.80,41.36,-0.44,2025-08-14\n",
      "SC,1.89,1.85,1.90,1.40,3.22,1.07,2025-08-14\n",
      "SCB,130.00,130.00,131.50,101.50,133.00,-1.14,2025-08-14\n",
      "SCC,202.00,200.00,204.00,124.50,255.00,-0.98,2025-08-14\n",
      "SCCC,156.00,154.00,157.00,136.50,177.50,1.3,2025-08-14\n",
      "SCGP,17.30,17.30,18.20,10.70,32.25,-3.35,2025-08-14\n",
      "SENA,1.78,1.75,1.79,1.54,2.50,0.0,2025-08-14\n",
      "SGP,6.60,5.00,6.60,5.90,7.65,-0.75,2025-08-14\n",
      "SINGER,5.40,5.20,5.60,3.92,12.70,-4.42,2025-08-14\n",
      "SIRI,1.53,1.51,1.54,1.11,1.94,0.0,2025-08-14\n",
      "SIS,21.20,21.00,22.30,17.60,31.25,-4.93,2025-08-14\n",
      "SJWD,8.75,8.75,9.20,5.75,12.50,-4.37,2025-08-14\n",
      "SKN,5.55,5.45,5.75,5.05,6.40,-4.31,2025-08-14\n",
      "SKR,7.20,7.10,7.35,6.20,9.80,-2.04,2025-08-14\n",
      "SMPC,9.30,9.25,9.40,7.80,10.10,0.54,2025-08-14\n",
      "SNC,5.85,5.75,5.95,4.86,7.35,-1.68,2025-08-14\n",
      "SPALI,16.00,15.60,16.10,13.20,21.10,1.27,2025-08-14\n",
      "SPC,58.25,58.25,58.50,53.00,61.50,-0.43,2025-08-14\n",
      "SPCG,8.30,8.25,8.35,6.60,9.40,0.0,2025-08-14\n",
      "SPRC,4.80,4.80,5.05,4.26,7.55,-3.23,2025-08-14\n",
      "SPRIME,3.42,3.42,3.46,3.00,4.56,0.0,2025-08-14\n",
      "SSP,4.10,4.08,4.10,4.04,6.40,0.0,2025-08-14\n",
      "STA,11.90,11.70,12.80,10.30,25.75,-6.3,2025-08-14\n",
      "STANLY,183.50,183.50,184.50,183.50,225.00,-0.54,2025-08-14\n",
      "STGT,6.95,6.90,7.15,5.10,13.30,0.0,2025-08-14\n",
      "SUPER,0.15,0.14,0.16,0.12,0.32,-6.25,2025-08-14\n",
      "SUPEREIF,5.40,5.40,5.50,4.72,7.05,-0.92,2025-08-14\n",
      "SVI,5.80,5.80,5.90,5.55,9.40,-1.69,2025-08-14\n",
      "SYNEX,12.20,12.00,12.60,9.30,16.70,-2.4,2025-08-14\n",
      "TASCO,14.70,14.60,15.00,13.20,20.00,-2.0,2025-08-14\n",
      "TCAP,50.50,50.00,50.75,44.25,53.50,1.0,2025-08-14\n",
      "TFFIF,6.05,6.00,6.10,5.25,7.20,-0.82,2025-08-14\n",
      "TFG,6.00,5.75,6.05,3.02,5.70,5.26,2025-08-14\n",
      "THANI,1.57,1.54,1.68,1.15,2.26,-5.99,2025-08-14\n",
      "THG,8.65,8.65,9.05,7.75,37.00,-4.42,2025-08-14\n",
      "TIPH,20.00,19.70,20.20,16.70,30.50,0.0,2025-08-14\n",
      "TIPCO,8.90,8.80,8.90,8.35,10.40,0.56,2025-08-14\n",
      "TISCO,101.00,100.50,102.50,90.25,102.50,-0.98,2025-08-14\n",
      "TK,4.08,4.00,4.18,3.28,5.45,-3.32,2025-08-14\n",
      "TKN,5.90,5.85,6.00,5.00,11.80,-1.67,2025-08-14\n",
      "TKS,6.15,6.10,6.30,4.90,8.15,-0.81,2025-08-14\n",
      "TMT,3.10,3.08,3.20,2.60,5.40,-2.52,2025-08-14\n",
      "TMW,50.00,49.75,50.25,47.00,66.75,0.0,2025-08-14\n",
      "TOA,14.70,14.50,15.30,9.35,20.50,-2.0,2025-08-14\n",
      "TOP,32.25,32.25,34.25,21.00,55.50,-5.84,2025-08-14\n",
      "TPIPL,0.88,0.87,0.90,0.72,1.29,-1.12,2025-08-14\n",
      "TPIPP,2.34,2.32,2.38,1.99,3.14,0.0,2025-08-14\n",
      "TQM,14.80,14.40,14.80,12.20,33.25,0.68,2025-08-14\n",
      "TRUE,10.70,10.60,10.80,10.00,13.30,-0.93,2025-08-14\n",
      "TSE,0.40,0.40,0.43,0.29,1.24,-6.98,2025-08-14\n",
      "TSTH,0.78,0.78,0.81,0.47,0.93,-3.7,2025-08-14\n",
      "TTA,4.36,4.34,4.48,3.22,6.55,-2.24,2025-08-14\n",
      "TTB,1.92,1.91,1.94,1.69,2.06,-1.03,2025-08-14\n",
      "TTLPF,10.80,10.80,11.00,10.90,16.80,-0.92,2025-08-14\n",
      "TTW,9.10,9.00,9.10,8.45,9.50,0.55,2025-08-14\n",
      "TU,12.70,12.50,12.80,8.60,15.80,0.79,2025-08-14\n",
      "TVO,25.00,24.60,25.25,19.70,25.25,2.46,2025-08-14\n",
      "TYCN,1.80,1.69,1.80,1.62,2.62,5.26,2025-08-14\n",
      "UTP,7.85,7.80,7.95,7.20,11.30,1.29,2025-08-14\n",
      "VGI,2.06,2.06,2.10,1.65,3.68,-0.96,2025-08-14\n",
      "VIBHA,1.49,1.49,1.51,1.37,2.30,-0.67,2025-08-14\n",
      "VNG,2.02,2.00,2.02,1.89,3.82,0.0,2025-08-14\n",
      "WHA,3.54,3.52,3.60,2.26,6.20,-1.67,2025-08-14\n",
      "WHAIR,5.50,5.45,5.55,4.12,6.75,0.92,2025-08-14\n",
      "WHART,9.40,9.40,9.55,8.55,10.80,-1.05,2025-08-14\n",
      "WHAUP,3.40,3.32,3.46,2.76,5.50,-1.73,2025-08-14\n",
      "WICE,2.88,2.84,3.24,2.34,6.95,-12.73,2025-08-14\n",
      "WORK,4.38,4.28,4.40,3.82,10.40,0.0,2025-08-14\n"
     ]
    }
   ],
   "source": [
    "df = pd.read_csv(input_file, header=None)\n",
    "out_df = get_stock_data(df)"
   ]
  },
  {
   "cell_type": "code",
   "execution_count": 13,
   "id": "d31edacf",
   "metadata": {},
   "outputs": [
    {
     "name": "stdout",
     "output_type": "stream",
     "text": [
      "End at:  09:09 PM\n"
     ]
    }
   ],
   "source": [
    "end_time = strftime(\"%I:%M %p\")\n",
    "print('End at: ', end_time)"
   ]
  },
  {
   "cell_type": "code",
   "execution_count": 14,
   "id": "b89c4ae7",
   "metadata": {},
   "outputs": [
    {
     "data": {
      "text/html": [
       "<div>\n",
       "<style scoped>\n",
       "    .dataframe tbody tr th:only-of-type {\n",
       "        vertical-align: middle;\n",
       "    }\n",
       "\n",
       "    .dataframe tbody tr th {\n",
       "        vertical-align: top;\n",
       "    }\n",
       "\n",
       "    .dataframe thead th {\n",
       "        text-align: right;\n",
       "    }\n",
       "</style>\n",
       "<table border=\"1\" class=\"dataframe\">\n",
       "  <thead>\n",
       "    <tr style=\"text-align: right;\">\n",
       "      <th></th>\n",
       "      <th>name</th>\n",
       "      <th>price</th>\n",
       "      <th>today_low</th>\n",
       "      <th>today_high</th>\n",
       "      <th>year_low</th>\n",
       "      <th>year_high</th>\n",
       "      <th>percent</th>\n",
       "      <th>updated_at</th>\n",
       "    </tr>\n",
       "  </thead>\n",
       "  <tbody>\n",
       "  </tbody>\n",
       "</table>\n",
       "</div>"
      ],
      "text/plain": [
       "Empty DataFrame\n",
       "Columns: [name, price, today_low, today_high, year_low, year_high, percent, updated_at]\n",
       "Index: []"
      ]
     },
     "execution_count": 14,
     "metadata": {},
     "output_type": "execute_result"
    }
   ],
   "source": [
    "out_df.query('price == \"-\"')"
   ]
  },
  {
   "cell_type": "code",
   "execution_count": 15,
   "id": "784f1b6d",
   "metadata": {},
   "outputs": [
    {
     "data": {
      "text/plain": [
       "(216, 8)"
      ]
     },
     "execution_count": 15,
     "metadata": {},
     "output_type": "execute_result"
    }
   ],
   "source": [
    "out_df.shape"
   ]
  },
  {
   "cell_type": "code",
   "execution_count": 16,
   "id": "6326d0c5",
   "metadata": {},
   "outputs": [],
   "source": [
    "out_df = out_df[out_df['name'] != 'BCT']"
   ]
  },
  {
   "cell_type": "code",
   "execution_count": 17,
   "id": "2a293f55-436e-45d1-9966-50d12c26e659",
   "metadata": {},
   "outputs": [],
   "source": [
    "out_df = out_df[out_df['name'] != 'LPF']"
   ]
  },
  {
   "cell_type": "code",
   "execution_count": 18,
   "id": "cc4b3547-5ea9-4ac6-bd11-896e67d464ed",
   "metadata": {},
   "outputs": [],
   "source": [
    "out_df = out_df[out_df['name'] != 'TYCN']"
   ]
  },
  {
   "cell_type": "code",
   "execution_count": 19,
   "id": "865622c2-dad3-4ba8-b35a-898461fe5e9a",
   "metadata": {},
   "outputs": [],
   "source": [
    "out_df = out_df[out_df['name'] != 'GRAMMY']"
   ]
  },
  {
   "cell_type": "code",
   "execution_count": 20,
   "id": "cb2d763d-5b75-4ace-b87a-f165c8e6cb91",
   "metadata": {},
   "outputs": [],
   "source": [
    "out_df = out_df[out_df['name'] != 'MST']"
   ]
  },
  {
   "cell_type": "code",
   "execution_count": 21,
   "id": "e65305f0-157a-4129-a758-15c02e8df06a",
   "metadata": {},
   "outputs": [],
   "source": [
    "out_df = out_df[out_df['name'] != 'SPC']"
   ]
  },
  {
   "cell_type": "code",
   "execution_count": 22,
   "id": "cb55b5f6-0679-4191-aeda-ab0cf45f18e7",
   "metadata": {},
   "outputs": [],
   "source": [
    "out_df = out_df[out_df['name'] != 'SPRIME']"
   ]
  },
  {
   "cell_type": "code",
   "execution_count": 23,
   "id": "981854f1-01a1-4e26-b2a9-4f58948a33ec",
   "metadata": {},
   "outputs": [],
   "source": [
    "out_df = out_df[out_df['name'] != 'FPT']"
   ]
  },
  {
   "cell_type": "code",
   "execution_count": 24,
   "id": "a2833967-e889-4ad5-97b2-8234ba35c31c",
   "metadata": {},
   "outputs": [],
   "source": [
    "out_df = out_df[out_df['name'] != 'GGC']"
   ]
  },
  {
   "cell_type": "code",
   "execution_count": 25,
   "id": "b2771ed1",
   "metadata": {},
   "outputs": [
    {
     "data": {
      "text/plain": [
       "(208, 8)"
      ]
     },
     "execution_count": 25,
     "metadata": {},
     "output_type": "execute_result"
    }
   ],
   "source": [
    "out_df.shape"
   ]
  },
  {
   "cell_type": "code",
   "execution_count": 26,
   "id": "eb2ffec6",
   "metadata": {},
   "outputs": [],
   "source": [
    "out_df['price'] = out_df['price'].astype('float')\n",
    "out_df['today_low'] = out_df['today_low'].astype('float')\n",
    "out_df['today_high'] = out_df['today_high'].astype('float')\n",
    "out_df['year_low'] = out_df['year_low'].astype('float')\n",
    "out_df['year_high'] = out_df['year_high'].astype('float')\n",
    "out_df['percent'] = out_df['percent'].astype('float')"
   ]
  },
  {
   "cell_type": "code",
   "execution_count": 27,
   "id": "f4fb1a3c",
   "metadata": {},
   "outputs": [],
   "source": [
    "sorted_out_df = out_df.sort_values('percent')"
   ]
  },
  {
   "cell_type": "code",
   "execution_count": 28,
   "id": "032f0eea",
   "metadata": {},
   "outputs": [
    {
     "data": {
      "text/html": [
       "<div>\n",
       "<style scoped>\n",
       "    .dataframe tbody tr th:only-of-type {\n",
       "        vertical-align: middle;\n",
       "    }\n",
       "\n",
       "    .dataframe tbody tr th {\n",
       "        vertical-align: top;\n",
       "    }\n",
       "\n",
       "    .dataframe thead th {\n",
       "        text-align: right;\n",
       "    }\n",
       "</style>\n",
       "<table border=\"1\" class=\"dataframe\">\n",
       "  <thead>\n",
       "    <tr style=\"text-align: right;\">\n",
       "      <th></th>\n",
       "      <th>name</th>\n",
       "      <th>price</th>\n",
       "      <th>today_low</th>\n",
       "      <th>today_high</th>\n",
       "      <th>year_low</th>\n",
       "      <th>year_high</th>\n",
       "      <th>percent</th>\n",
       "      <th>updated_at</th>\n",
       "    </tr>\n",
       "  </thead>\n",
       "  <tbody>\n",
       "    <tr>\n",
       "      <th>201</th>\n",
       "      <td>TTLPF</td>\n",
       "      <td>10.8</td>\n",
       "      <td>10.8</td>\n",
       "      <td>11.0</td>\n",
       "      <td>10.9</td>\n",
       "      <td>16.80</td>\n",
       "      <td>-0.92</td>\n",
       "      <td>2025-08-14</td>\n",
       "    </tr>\n",
       "    <tr>\n",
       "      <th>155</th>\n",
       "      <td>SGP</td>\n",
       "      <td>6.6</td>\n",
       "      <td>5.0</td>\n",
       "      <td>6.6</td>\n",
       "      <td>5.9</td>\n",
       "      <td>7.65</td>\n",
       "      <td>-0.75</td>\n",
       "      <td>2025-08-14</td>\n",
       "    </tr>\n",
       "  </tbody>\n",
       "</table>\n",
       "</div>"
      ],
      "text/plain": [
       "      name  price  today_low  today_high  year_low  year_high  percent  \\\n",
       "201  TTLPF   10.8       10.8        11.0      10.9      16.80    -0.92   \n",
       "155    SGP    6.6        5.0         6.6       5.9       7.65    -0.75   \n",
       "\n",
       "     updated_at  \n",
       "201  2025-08-14  \n",
       "155  2025-08-14  "
      ]
     },
     "execution_count": 28,
     "metadata": {},
     "output_type": "execute_result"
    }
   ],
   "source": [
    "sorted_out_df.query('today_low < year_low')"
   ]
  },
  {
   "cell_type": "code",
   "execution_count": 29,
   "id": "8e04b03d",
   "metadata": {},
   "outputs": [
    {
     "data": {
      "text/html": [
       "<div>\n",
       "<style scoped>\n",
       "    .dataframe tbody tr th:only-of-type {\n",
       "        vertical-align: middle;\n",
       "    }\n",
       "\n",
       "    .dataframe tbody tr th {\n",
       "        vertical-align: top;\n",
       "    }\n",
       "\n",
       "    .dataframe thead th {\n",
       "        text-align: right;\n",
       "    }\n",
       "</style>\n",
       "<table border=\"1\" class=\"dataframe\">\n",
       "  <thead>\n",
       "    <tr style=\"text-align: right;\">\n",
       "      <th></th>\n",
       "      <th>name</th>\n",
       "      <th>price</th>\n",
       "      <th>today_low</th>\n",
       "      <th>today_high</th>\n",
       "      <th>year_low</th>\n",
       "      <th>year_high</th>\n",
       "      <th>percent</th>\n",
       "      <th>updated_at</th>\n",
       "    </tr>\n",
       "  </thead>\n",
       "  <tbody>\n",
       "    <tr>\n",
       "      <th>180</th>\n",
       "      <td>TFG</td>\n",
       "      <td>6.0</td>\n",
       "      <td>5.75</td>\n",
       "      <td>6.05</td>\n",
       "      <td>3.02</td>\n",
       "      <td>5.7</td>\n",
       "      <td>5.26</td>\n",
       "      <td>2025-08-14</td>\n",
       "    </tr>\n",
       "  </tbody>\n",
       "</table>\n",
       "</div>"
      ],
      "text/plain": [
       "    name  price  today_low  today_high  year_low  year_high  percent  \\\n",
       "180  TFG    6.0       5.75        6.05      3.02        5.7     5.26   \n",
       "\n",
       "     updated_at  \n",
       "180  2025-08-14  "
      ]
     },
     "execution_count": 29,
     "metadata": {},
     "output_type": "execute_result"
    }
   ],
   "source": [
    "sorted_out_df.query('today_high > year_high')"
   ]
  },
  {
   "cell_type": "code",
   "execution_count": 30,
   "id": "290a9607",
   "metadata": {},
   "outputs": [
    {
     "data": {
      "text/html": [
       "<div>\n",
       "<style scoped>\n",
       "    .dataframe tbody tr th:only-of-type {\n",
       "        vertical-align: middle;\n",
       "    }\n",
       "\n",
       "    .dataframe tbody tr th {\n",
       "        vertical-align: top;\n",
       "    }\n",
       "\n",
       "    .dataframe thead th {\n",
       "        text-align: right;\n",
       "    }\n",
       "</style>\n",
       "<table border=\"1\" class=\"dataframe\">\n",
       "  <thead>\n",
       "    <tr style=\"text-align: right;\">\n",
       "      <th></th>\n",
       "      <th>name</th>\n",
       "      <th>price</th>\n",
       "      <th>today_low</th>\n",
       "      <th>today_high</th>\n",
       "      <th>year_low</th>\n",
       "      <th>year_high</th>\n",
       "      <th>percent</th>\n",
       "      <th>updated_at</th>\n",
       "    </tr>\n",
       "  </thead>\n",
       "  <tbody>\n",
       "    <tr>\n",
       "      <th>180</th>\n",
       "      <td>TFG</td>\n",
       "      <td>6.0</td>\n",
       "      <td>5.75</td>\n",
       "      <td>6.05</td>\n",
       "      <td>3.02</td>\n",
       "      <td>5.7</td>\n",
       "      <td>5.26</td>\n",
       "      <td>2025-08-14</td>\n",
       "    </tr>\n",
       "  </tbody>\n",
       "</table>\n",
       "</div>"
      ],
      "text/plain": [
       "    name  price  today_low  today_high  year_low  year_high  percent  \\\n",
       "180  TFG    6.0       5.75        6.05      3.02        5.7     5.26   \n",
       "\n",
       "     updated_at  \n",
       "180  2025-08-14  "
      ]
     },
     "execution_count": 30,
     "metadata": {},
     "output_type": "execute_result"
    }
   ],
   "source": [
    "out_df.query('today_high > year_high')"
   ]
  },
  {
   "cell_type": "code",
   "execution_count": 31,
   "id": "5fbeba56-2a63-4650-898b-6447a81f95f5",
   "metadata": {},
   "outputs": [],
   "source": [
    "file_name = \"Price-Hilo.csv\"\n",
    "output_file = os.path.join(dat_path, file_name)\n",
    "god_file = os.path.join(god_path, file_name)\n",
    "icd_file = os.path.join(icd_path, file_name)\n",
    "osd_file = os.path.join(osd_path, file_name)"
   ]
  },
  {
   "cell_type": "code",
   "execution_count": 32,
   "id": "da6183ac-2f05-4f67-b200-fe83634d29dc",
   "metadata": {},
   "outputs": [
    {
     "name": "stdout",
     "output_type": "stream",
     "text": [
      "output_file : C:\\Users\\PC1\\OneDrive\\A5\\Data\\Price-Hilo.csv\n",
      "icd_file : C:\\Users\\PC1\\iCloudDrive\\Data\\Price-Hilo.csv\n",
      "god_file : C:\\Users\\PC1\\OneDrive\\Imports\\santisoontarinka@gmail.com - Google Drive\\Data\\Price-Hilo.csv\n",
      "osd_file : C:\\Users\\PC1\\OneDrive\\Documents\\obsidian-git-sync\\Data\\Price-Hilo.csv\n"
     ]
    }
   ],
   "source": [
    "print(f\"output_file : {output_file}\") \n",
    "print(f\"icd_file : {icd_file}\") \n",
    "print(f\"god_file : {god_file}\") \n",
    "print(f\"osd_file : {osd_file}\") "
   ]
  },
  {
   "cell_type": "code",
   "execution_count": 33,
   "id": "8017b53b",
   "metadata": {},
   "outputs": [],
   "source": [
    "out_df.to_csv(output_file, index=False)  \n",
    "out_df.to_csv(god_file, index=False) \n",
    "out_df.to_csv(icd_file, index=False)  \n",
    "out_df.to_csv(osd_file, index=False) "
   ]
  },
  {
   "cell_type": "code",
   "execution_count": 34,
   "id": "80692fae-6308-4695-bcac-5124ce4d44e3",
   "metadata": {},
   "outputs": [
    {
     "name": "stdout",
     "output_type": "stream",
     "text": [
      "2025-08-14 21:09:40\n"
     ]
    }
   ],
   "source": [
    "# Get the current time\n",
    "current_time = datetime.now()\n",
    "# Format the time to remove milliseconds\n",
    "formatted_time = current_time.strftime(\"%Y-%m-%d %H:%M:%S\")\n",
    "print(formatted_time)"
   ]
  }
 ],
 "metadata": {
  "kernelspec": {
   "display_name": "Python 3 (ipykernel)",
   "language": "python",
   "name": "python3"
  },
  "language_info": {
   "codemirror_mode": {
    "name": "ipython",
    "version": 3
   },
   "file_extension": ".py",
   "mimetype": "text/x-python",
   "name": "python",
   "nbconvert_exporter": "python",
   "pygments_lexer": "ipython3",
   "version": "3.12.3"
  }
 },
 "nbformat": 4,
 "nbformat_minor": 5
}
