{
 "cells": [
  {
   "cell_type": "markdown",
   "id": "930356c6",
   "metadata": {},
   "source": [
    "### Start and Run All"
   ]
  },
  {
   "cell_type": "code",
   "execution_count": 2,
   "id": "d7cfc693",
   "metadata": {},
   "outputs": [
    {
     "name": "stdout",
     "output_type": "stream",
     "text": [
      "2025-08-25 20:02:32\n"
     ]
    }
   ],
   "source": [
    "import os\n",
    "import pandas as pd\n",
    "from urllib import request\n",
    "from bs4 import BeautifulSoup\n",
    "# from datetime import date, timedelta\n",
    "from datetime import datetime\n",
    "from time import sleep, strftime\n",
    "\n",
    "# Get the current time\n",
    "current_time = datetime.now()\n",
    "# Format the time to remove milliseconds\n",
    "formatted_time = current_time.strftime(\"%Y-%m-%d %H:%M:%S\")\n",
    "print(formatted_time)"
   ]
  },
  {
   "cell_type": "code",
   "execution_count": 3,
   "id": "0cbdda38-ec42-4470-bede-c468ba46f8d8",
   "metadata": {},
   "outputs": [],
   "source": [
    "url = \"https://www.set.or.th/en/market/product/stock/quote/\"\n",
    "percent_span = '' "
   ]
  },
  {
   "cell_type": "code",
   "execution_count": 4,
   "id": "6e4b7508-0071-480d-99c8-a6c070027294",
   "metadata": {},
   "outputs": [],
   "source": [
    "# Get the user's home directory\n",
    "user_path = os.path.expanduser('~')\n",
    "# Get the current working directory\n",
    "current_path = os.getcwd()\n",
    "# Derive the base directory (base_dir) by removing the last folder ('Daily')\n",
    "base_path = os.path.dirname(current_path)\n",
    "#C:\\Users\\PC1\\OneDrive\\A5\\Data\n",
    "dat_path = os.path.join(base_path, \"Data\")\n",
    "#C:\\Users\\PC1\\OneDrive\\Imports\\santisoontarinka@gmail.com - Google Drive\\Data>\n",
    "god_path = os.path.join(user_path, \"OneDrive\",\"Imports\",\"santisoontarinka@gmail.com - Google Drive\",\"Data\")\n",
    "#C:\\Users\\PC1\\iCloudDrive\\data\n",
    "icd_path = os.path.join(user_path, \"iCloudDrive\", \"Data\")\n",
    "#C:\\Users\\PC1\\OneDrive\\Documents\\obsidian-git-sync\\Data\n",
    "osd_path = os.path.join(user_path, \"OneDrive\",\"Documents\",\"obsidian-git-sync\",\"Data\")"
   ]
  },
  {
   "cell_type": "code",
   "execution_count": 5,
   "id": "07defeb3-a742-4e64-8089-7e4fe5b8b93c",
   "metadata": {},
   "outputs": [
    {
     "name": "stdout",
     "output_type": "stream",
     "text": [
      "User path: C:\\Users\\PC1\n",
      "Current path: C:\\Users\\PC1\\OneDrive\\A5\\Daily\n",
      "Base path: C:\\Users\\PC1\\OneDrive\\A5\n",
      "Data path : C:\\Users\\PC1\\OneDrive\\A5\\Data\n",
      "Google Drive path : C:\\Users\\PC1\\OneDrive\\Imports\\santisoontarinka@gmail.com - Google Drive\\Data\n",
      "iCloudDrive path : C:\\Users\\PC1\\iCloudDrive\\Data\n",
      "Obsidian path : C:\\Users\\PC1\\OneDrive\\Documents\\obsidian-git-sync\\Data\n"
     ]
    }
   ],
   "source": [
    "print(\"User path:\", user_path)\n",
    "print(f\"Current path: {current_path}\")\n",
    "print(f\"Base path: {base_path}\")\n",
    "print(f\"Data path : {dat_path}\") \n",
    "print(f\"Google Drive path : {god_path}\")\n",
    "print(f\"iCloudDrive path : {icd_path}\") \n",
    "print(f\"Obsidian path : {osd_path}\") "
   ]
  },
  {
   "cell_type": "code",
   "execution_count": 6,
   "id": "08576879-dc60-431b-a31a-e1893e2d7922",
   "metadata": {},
   "outputs": [
    {
     "name": "stdout",
     "output_type": "stream",
     "text": [
      "Input file : C:\\Users\\PC1\\OneDrive\\A5\\Data\\name-ttl.csv\n"
     ]
    }
   ],
   "source": [
    "file_name = \"name-ttl.csv\"\n",
    "input_file = os.path.join(dat_path, file_name)\n",
    "print(f\"Input file : {input_file}\") "
   ]
  },
  {
   "cell_type": "code",
   "execution_count": 7,
   "id": "9b9668db-0773-4de5-9bd4-864c377dab80",
   "metadata": {},
   "outputs": [],
   "source": [
    "file_name = \"price-hilo.csv\"\n",
    "output_file = os.path.join(dat_path, file_name)\n",
    "god_file = os.path.join(god_path, file_name)\n",
    "icd_file = os.path.join(icd_path, file_name)\n",
    "osd_file = os.path.join(osd_path, file_name)"
   ]
  },
  {
   "cell_type": "code",
   "execution_count": 8,
   "id": "66c38ef5-8643-4ad3-81ff-9e2275d426d5",
   "metadata": {},
   "outputs": [
    {
     "name": "stdout",
     "output_type": "stream",
     "text": [
      "Output file : C:\\Users\\PC1\\OneDrive\\A5\\Data\\price-hilo.csv\n",
      "icd_file : C:\\Users\\PC1\\iCloudDrive\\Data\\price-hilo.csv\n",
      "god_file : C:\\Users\\PC1\\OneDrive\\Imports\\santisoontarinka@gmail.com - Google Drive\\Data\\price-hilo.csv\n",
      "osd_file : C:\\Users\\PC1\\OneDrive\\Documents\\obsidian-git-sync\\Data\\price-hilo.csv\n"
     ]
    }
   ],
   "source": [
    "print(f\"Output file : {output_file}\") \n",
    "print(f\"icd_file : {icd_file}\") \n",
    "print(f\"god_file : {god_file}\") \n",
    "print(f\"osd_file : {osd_file}\")"
   ]
  },
  {
   "cell_type": "code",
   "execution_count": 9,
   "id": "c1ec2693",
   "metadata": {},
   "outputs": [],
   "source": [
    "def cvt_str_to_flt(input_str):\n",
    "    # Check for the special pattern and return 0\n",
    "    if input_str == '(-)':\n",
    "        return 0\n",
    "    \n",
    "    # Remove parentheses and percent sign\n",
    "    cleaned_str = input_str.replace('(', '').replace(')', '').replace('%', '')\n",
    "\n",
    "    # Convert to float\n",
    "    try:\n",
    "        return float(cleaned_str)\n",
    "    except ValueError:\n",
    "        # Handle the case where the conversion fails\n",
    "        return None\n",
    " "
   ]
  },
  {
   "cell_type": "code",
   "execution_count": 10,
   "id": "334bed1f",
   "metadata": {},
   "outputs": [],
   "source": [
    "def get_stock_data(in_df):\n",
    "\n",
    "    in_df.columns = ['name']\n",
    "    \n",
    "    output_columns = ['name', 'price', 'today_low', 'today_high', 'year_low', 'year_high', 'percent', 'updated_at']\n",
    "    # Initialize an empty DataFrame with specified columns\n",
    "    out_df = pd.DataFrame(columns=output_columns)\n",
    "    \n",
    "    for index, row in in_df.iterrows():\n",
    "        name = str(row['name']).upper()\n",
    "        response = request.urlopen(url + name + '/price')\n",
    "        html_page = BeautifulSoup(response, 'html.parser')\n",
    "        \n",
    "  #      price = html_page.find('div', class_='value text-white mb-0 me-2 lh-1 stock-info').text.strip()        \n",
    "  #      if (price == '-'):\n",
    "  #          price = '0.00'        \n",
    "\n",
    "        price_div = html_page.find('div', class_='value text-white mb-0 me-2 lh-1 stock-info')\n",
    "        if price_div:\n",
    "            price = price_div.text.strip()\n",
    "        else:\n",
    "            print(f\"Price div not found for {name}\")\n",
    "            price = '0.00'     \n",
    "            \n",
    "        # Try to find the <h3> tag with the class 'theme-success'\n",
    "        h3_tag = html_page.find('h3', class_='theme-success')\n",
    "        if h3_tag:\n",
    "        # Find all <span> tags within the found <h3> tag\n",
    "            span_tags = h3_tag.find_all('span')\n",
    "    \n",
    "            if len(span_tags) > 1:\n",
    "                # Extract the text from the second <span> tag\n",
    "                percent_span = span_tags[1].text\n",
    "                # print(percent_span)\n",
    "                \n",
    "        # Try to find the <h3> tag with the class 'theme-danger'\n",
    "        h3_tag = html_page.find('h3', class_='theme-danger')\n",
    "        if h3_tag:\n",
    "        # Find all <span> tags within the found <h3> tag\n",
    "            span_tags = h3_tag.find_all('span')\n",
    "    \n",
    "            if len(span_tags) > 1:\n",
    "                # Extract the text from the second <span> tag\n",
    "                percent_span = span_tags[1].text\n",
    "                # print(percent_span)    \n",
    "                \n",
    "        # Try to find the <h3> tag with the class 'theme-danger'\n",
    "        h3_tag = html_page.find('h3', class_='theme-normal')\n",
    "        if h3_tag:\n",
    "        # Find all <span> tags within the found <h3> tag\n",
    "            span_tags = h3_tag.find_all('span')\n",
    "    \n",
    "            if len(span_tags) > 1:\n",
    "                # Extract the text from the second <span> tag\n",
    "                percent_span = span_tags[1].text\n",
    "                # print(percent_span)   \n",
    "                \n",
    "        percent = cvt_str_to_flt(percent_span)\n",
    "                \n",
    "        values_low = html_page.find_all('span', class_='title-font-family fs-16px fw-bolder me-auto lh-1')\n",
    "        today_low = values_low[0].text\n",
    "        if (today_low == '-'):\n",
    "            today_low = '0.00'\n",
    "        \n",
    "        values_high = html_page.find_all('span', class_='title-font-family fs-16px fw-bolder lh-1')\n",
    "        today_high = values_high[0].text\n",
    "        if (today_high == '-'):\n",
    "            today_high = '0.00'         \n",
    "        \n",
    "        year_low = values_low[1].text        \n",
    "        year_high = values_high[1].text     \n",
    "        \n",
    "        # Find the div with the specific class, then find the span within it\n",
    "        div = html_page.find('div', class_='price-detail-date d-flex align-items-center text-nowrap fs-12px')\n",
    "        if div:\n",
    "            span = div.find('span')\n",
    "            if span:\n",
    "                text = span.get_text()\n",
    "#                 print(text)\n",
    "            else:\n",
    "                print(\"Span not found\")\n",
    "        else:\n",
    "            print(\"Div not found\")\n",
    "            \n",
    "        # Extract the date part from the string\n",
    "        # Assuming the date is always in the format 'dd Mon yyyy'\n",
    "        date_str = ' '.join(text.split()[2:5])\n",
    "\n",
    "        # Parse the date string into a datetime object\n",
    "        date_obj = datetime.strptime(date_str, '%d %b %Y')\n",
    "\n",
    "        # Format the datetime object to 'yyyy-mm-dd'\n",
    "        updated_at = date_obj.strftime('%Y-%m-%d')\n",
    "\n",
    "#         print(updated_at)\n",
    "        \n",
    "        # Append row to the DataFrame and print the row\n",
    "        out_df.loc[len(out_df)] = [name, price, today_low, today_high, year_low, year_high, percent, updated_at]\n",
    "#       print(out_df.iloc[-1].to_string(header=False, index=False)) \n",
    "        print(','.join(map(str, out_df.iloc[-1])))\n",
    "        sleep(1)\n",
    "        \n",
    "    return out_df  # return the final dataframe with all values populated"
   ]
  },
  {
   "cell_type": "code",
   "execution_count": 11,
   "id": "94abc8d4",
   "metadata": {},
   "outputs": [
    {
     "name": "stdout",
     "output_type": "stream",
     "text": [
      "Start at:  08:02 PM\n"
     ]
    }
   ],
   "source": [
    "start_time = strftime(\"%I:%M %p\")\n",
    "print('Start at: ', start_time)"
   ]
  },
  {
   "cell_type": "code",
   "execution_count": 12,
   "id": "23b565ec",
   "metadata": {
    "scrolled": true
   },
   "outputs": [
    {
     "name": "stdout",
     "output_type": "stream",
     "text": [
      "ACE,1.30,1.28,1.30,1.23,1.49,0.78,2025-08-25\n",
      "ADVANC,291.00,290.00,296.00,242.00,309.00,0.0,2025-08-25\n",
      "AEONTS,107.50,104.00,109.00,90.50,148.00,3.86,2025-08-25\n",
      "AH,15.00,14.70,15.00,10.00,23.20,2.74,2025-08-25\n",
      "AIE,1.15,1.12,1.17,0.72,1.80,0.88,2025-08-25\n",
      "AIMIRT,9.70,9.55,9.70,9.20,11.20,1.57,2025-08-25\n",
      "AIT,4.92,4.88,4.96,3.86,5.30,0.41,2025-08-25\n",
      "AJ,2.28,2.26,2.32,1.94,5.80,0.0,2025-08-25\n",
      "AMATA,16.90,16.60,17.00,11.20,31.00,1.2,2025-08-25\n",
      "ANAN,0.50,0.49,0.51,0.37,0.85,0.0,2025-08-25\n",
      "AOT,38.00,37.50,38.75,26.75,65.00,1.33,2025-08-25\n",
      "AP,7.60,7.45,7.60,5.60,10.50,2.7,2025-08-25\n",
      "ASIAN,7.75,7.65,7.80,6.50,10.00,0.65,2025-08-25\n",
      "ASK,7.50,7.50,7.60,6.20,15.30,0.0,2025-08-25\n",
      "ASP,2.46,2.40,2.46,1.81,2.70,0.82,2025-08-25\n",
      "ASW,6.25,6.15,6.25,5.55,8.20,0.81,2025-08-25\n",
      "AWC,2.40,2.38,2.46,1.55,3.94,-0.83,2025-08-25\n",
      "BA,14.00,14.00,14.40,10.60,26.00,0.0,2025-08-25\n",
      "BAM,8.20,8.00,8.30,5.35,10.20,3.14,2025-08-25\n",
      "BANPU,4.82,4.82,4.92,4.00,7.50,-0.41,2025-08-25\n",
      "BAY,23.60,23.30,23.60,20.70,29.00,0.85,2025-08-25\n",
      "BBL,155.50,155.00,157.50,131.00,161.50,-0.64,2025-08-25\n",
      "BCH,13.10,13.00,13.50,12.30,19.20,-2.24,2025-08-25\n",
      "BCP,33.25,33.00,33.50,26.50,41.00,0.76,2025-08-25\n",
      "BCPG,8.50,8.35,8.95,5.05,8.75,4.29,2025-08-25\n",
      "BCT,47.50,46.75,48.00,43.50,76.75,-1.04,2025-08-25\n",
      "BDMS,20.90,20.80,21.20,19.80,31.25,-0.48,2025-08-25\n",
      "BE8,5.95,5.85,6.05,5.20,21.20,1.71,2025-08-25\n",
      "BEAUTY,0.38,0.36,0.40,0.19,0.57,0.0,2025-08-25\n",
      "BEC,2.26,2.22,2.28,1.79,4.68,0.89,2025-08-25\n",
      "BEM,5.40,5.35,5.45,4.56,8.30,0.0,2025-08-25\n",
      "BGC,4.88,4.86,4.88,4.54,7.90,0.41,2025-08-25\n",
      "BGRIM,12.80,12.20,13.10,8.90,24.80,5.79,2025-08-25\n",
      "BH,179.00,177.50,182.50,130.00,284.00,-0.56,2025-08-25\n",
      "BJC,17.60,17.30,17.80,16.50,25.75,1.73,2025-08-25\n",
      "BKIH,288.00,287.00,288.00,271.00,316.00,0.0,2025-08-25\n",
      "BLA,18.60,18.40,18.70,14.00,25.75,0.54,2025-08-25\n",
      "BLAND,0.50,0.50,0.52,0.38,0.70,0.0,2025-08-25\n",
      "BPP,8.60,8.30,8.65,6.20,13.60,3.61,2025-08-25\n",
      "BTS,3.46,3.42,3.50,3.28,6.40,1.17,2025-08-25\n",
      "BTSGIF,2.50,2.46,2.50,2.54,3.52,-6.02,2025-08-25\n",
      "CBG,52.50,52.50,53.25,46.50,82.00,0.48,2025-08-25\n",
      "CENTEL,29.00,28.75,29.25,19.40,41.25,0.87,2025-08-25\n",
      "CHG,1.64,1.63,1.66,1.39,3.00,0.0,2025-08-25\n",
      "CK,14.30,14.30,14.60,10.20,21.10,0.0,2025-08-25\n",
      "CKP,2.88,2.88,2.94,2.10,4.04,0.0,2025-08-25\n",
      "COM7,25.50,25.25,26.25,16.70,28.25,0.0,2025-08-25\n",
      "CPALL,45.75,45.25,46.00,41.50,68.00,1.67,2025-08-25\n",
      "CPF,24.20,24.10,24.50,19.80,26.50,-0.41,2025-08-25\n",
      "CPN,55.00,53.75,55.25,41.00,68.75,2.8,2025-08-25\n",
      "CPNCG,5.90,5.85,5.90,5.30,6.65,0.0,2025-08-25\n",
      "CPNREIT,11.40,11.30,11.50,10.20,13.60,0.0,2025-08-25\n",
      "CRC,21.90,21.40,22.30,15.80,36.00,3.79,2025-08-25\n",
      "DCC,1.43,1.39,1.43,1.18,2.04,2.88,2025-08-25\n",
      "DCON,0.25,0.25,0.26,0.23,0.41,0.0,2025-08-25\n",
      "DELTA,153.00,151.50,155.00,51.25,173.50,1.32,2025-08-25\n",
      "DIF,8.25,8.15,8.25,7.35,9.85,0.61,2025-08-25\n",
      "DOHOME,3.82,3.70,3.92,2.26,11.26,4.37,2025-08-25\n",
      "DRT,5.40,5.35,5.40,4.42,8.15,0.93,2025-08-25\n",
      "EA,2.68,2.66,2.74,1.73,7.32,1.52,2025-08-25\n",
      "EASTW,2.26,2.18,2.28,1.57,3.90,3.67,2025-08-25\n",
      "EGATIF,6.05,6.00,6.10,5.75,6.40,0.0,2025-08-25\n",
      "EGCO,116.50,116.00,118.00,85.00,128.50,0.43,2025-08-25\n",
      "EPG,3.12,3.08,3.18,2.12,5.25,1.3,2025-08-25\n",
      "FORTH,7.05,7.00,7.15,6.05,15.00,-0.7,2025-08-25\n",
      "FPT,6.25,6.15,6.25,5.85,14.00,1.63,2025-08-25\n",
      "FSMART,6.25,6.15,6.25,5.35,9.15,1.63,2025-08-25\n",
      "FTREIT,9.75,9.60,9.75,8.60,11.30,2.09,2025-08-25\n",
      "GC,4.14,4.12,4.22,3.40,5.10,-0.48,2025-08-25\n",
      "GFPT,10.10,10.00,10.30,8.00,12.50,-1.94,2025-08-25\n",
      "GGC,3.88,3.82,3.98,3.20,5.45,0.52,2025-08-25\n",
      "GLOBAL,6.45,6.35,6.60,4.16,16.27,3.2,2025-08-25\n",
      "GPSC,40.00,37.75,40.50,22.40,49.75,7.38,2025-08-25\n",
      "GRAMMY,4.62,4.60,4.64,4.30,8.50,0.87,2025-08-25\n",
      "GUNKUL,1.81,1.81,1.85,1.31,2.96,0.56,2025-08-25\n",
      "GVREIT,6.45,6.35,6.45,5.25,7.15,0.78,2025-08-25\n",
      "HANA,24.50,24.40,25.50,14.00,44.00,-1.21,2025-08-25\n",
      "HFT,4.20,4.10,4.22,3.32,4.76,1.45,2025-08-25\n",
      "HMPRO,7.20,7.05,7.25,5.70,11.10,2.13,2025-08-25\n",
      "HTC,15.10,15.10,15.40,14.50,17.70,-1.31,2025-08-25\n",
      "ICHI,11.70,11.60,11.80,9.40,17.00,0.0,2025-08-25\n",
      "III,4.88,4.88,5.00,4.18,7.20,-1.21,2025-08-25\n",
      "ILM,14.50,14.20,14.60,11.50,18.90,2.84,2025-08-25\n",
      "IMH,3.94,3.88,3.94,3.50,6.05,0.0,2025-08-25\n",
      "IMPACT,10.10,10.00,10.20,9.25,12.80,1.0,2025-08-25\n",
      "INOX,0.40,0.39,0.40,0.35,0.67,0.0,2025-08-25\n",
      "IP,3.36,3.28,3.42,2.02,5.15,1.2,2025-08-25\n",
      "IRPC,1.05,1.04,1.06,0.70,1.86,1.94,2025-08-25\n",
      "IVL,23.30,23.00,23.70,16.90,27.50,2.19,2025-08-25\n",
      "3BBIF,6.25,6.15,6.30,5.00,6.75,0.81,2025-08-25\n",
      "JMART,8.60,8.50,8.70,5.20,17.70,2.99,2025-08-25\n",
      "JMT,12.20,11.60,12.30,7.35,22.00,7.02,2025-08-25\n",
      "KBANK,165.50,164.50,168.00,140.00,171.50,-0.9,2025-08-25\n",
      "KCE,26.50,26.25,27.50,13.70,40.75,-1.85,2025-08-25\n",
      "KEX,1.48,1.48,1.48,0.78,3.40,0.0,2025-08-25\n",
      "KGI,3.92,3.90,3.92,3.40,4.66,1.03,2025-08-25\n",
      "KKP,56.75,56.75,57.25,43.50,58.25,0.0,2025-08-25\n",
      "KSL,1.40,1.39,1.47,1.25,2.36,-4.11,2025-08-25\n",
      "KTB,24.10,24.00,24.20,18.20,24.70,0.42,2025-08-25\n",
      "KTC,28.50,28.25,28.75,21.80,52.25,2.7,2025-08-25\n",
      "KYE,292.00,290.00,293.00,280.00,324.00,0.34,2025-08-25\n",
      "LALIN,5.00,5.00,5.05,4.80,6.80,-0.99,2025-08-25\n",
      "LANNA,16.00,15.90,16.10,14.10,17.50,0.63,2025-08-25\n",
      "LH,4.00,3.96,4.02,3.18,6.50,1.52,2025-08-25\n",
      "LHFG,0.77,0.77,0.78,0.72,0.96,-1.28,2025-08-25\n",
      "LHK,3.52,3.52,3.54,3.02,4.12,-0.56,2025-08-25\n",
      "LIT,0.78,0.78,0.82,0.39,1.34,1.3,2025-08-25\n",
      "LPH,3.92,3.88,3.92,3.20,4.78,-1.01,2025-08-25\n",
      "LPN,1.75,1.72,1.75,1.61,3.38,1.16,2025-08-25\n",
      "M,23.60,23.40,23.80,13.80,30.75,0.43,2025-08-25\n",
      "MAJOR,8.30,8.20,8.55,7.35,16.00,1.84,2025-08-25\n",
      "MBAX,1.40,1.33,1.40,1.17,3.10,1.45,2025-08-25\n",
      "MC,10.70,10.50,10.70,9.15,13.00,0.94,2025-08-25\n",
      "MCS,8.55,8.45,8.65,5.80,9.20,1.18,2025-08-25\n",
      "MEGA,29.75,29.25,30.25,24.30,41.25,0.85,2025-08-25\n",
      "MINT,24.70,24.40,24.90,21.70,29.50,0.82,2025-08-25\n",
      "MST,7.35,7.35,7.40,5.50,10.30,0.68,2025-08-25\n",
      "MTC,38.00,37.50,38.50,33.75,54.00,2.7,2025-08-25\n",
      "NER,4.34,4.30,4.34,3.88,5.65,0.93,2025-08-25\n",
      "NOBLE,1.86,1.82,1.86,1.60,3.46,3.33,2025-08-25\n",
      "ONEE,2.32,2.32,2.36,1.99,4.68,-0.85,2025-08-25\n",
      "OR,12.90,12.90,13.20,10.10,17.80,0.78,2025-08-25\n",
      "ORI,2.28,2.24,2.38,1.50,5.75,0.88,2025-08-25\n",
      "OSP,17.70,17.30,17.80,12.90,24.30,2.31,2025-08-25\n",
      "PAP,1.77,1.74,1.77,1.31,2.96,1.72,2025-08-25\n",
      "PCSGH,3.08,3.08,3.12,2.46,4.82,-1.28,2025-08-25\n",
      "PDG,2.70,2.68,2.70,2.36,2.88,0.0,2025-08-25\n",
      "PLANB,4.98,4.86,5.10,4.08,8.60,3.32,2025-08-25\n",
      "POPF,5.80,5.75,5.80,5.40,6.70,0.0,2025-08-25\n",
      "PREB,3.58,3.58,3.62,3.34,5.55,-1.1,2025-08-25\n",
      "PRM,6.15,6.10,6.25,5.10,9.30,-0.81,2025-08-25\n",
      "PSH,4.24,4.20,4.28,3.66,9.80,-0.47,2025-08-25\n",
      "PSL,6.30,6.25,6.35,4.96,9.60,0.8,2025-08-25\n",
      "PTG,7.35,7.20,7.40,5.45,10.70,2.8,2025-08-25\n",
      "PTL,9.75,9.75,9.80,9.20,14.40,0.0,2025-08-25\n",
      "PTT,32.25,32.00,32.25,27.00,35.00,0.78,2025-08-25\n",
      "PTTEP,113.50,113.00,114.50,93.00,146.00,0.89,2025-08-25\n",
      "PTTGC,27.25,26.75,27.75,14.20,32.75,0.93,2025-08-25\n",
      "QH,1.41,1.40,1.42,1.15,2.00,0.0,2025-08-25\n",
      "RATCH,27.00,26.75,27.25,22.50,34.25,1.89,2025-08-25\n",
      "RBF,4.22,4.04,4.26,3.04,7.40,3.94,2025-08-25\n",
      "RCL,27.00,26.75,27.25,18.20,31.75,0.93,2025-08-25\n",
      "RJH,13.90,13.80,14.00,11.50,26.25,0.0,2025-08-25\n",
      "ROJNA,4.72,4.70,4.76,4.14,7.50,0.85,2025-08-25\n",
      "RS,0.27,0.26,0.28,0.19,6.30,-3.57,2025-08-25\n",
      "S11,3.20,3.20,3.24,1.86,3.70,-1.23,2025-08-25\n",
      "SAPPE,33.00,32.75,33.25,27.50,83.00,1.54,2025-08-25\n",
      "SAT,13.00,12.90,13.20,9.95,13.70,-0.76,2025-08-25\n",
      "SAWAD,25.25,24.90,25.50,14.80,41.36,3.48,2025-08-25\n",
      "SC,1.88,1.86,1.89,1.40,3.22,1.08,2025-08-25\n",
      "SCB,129.00,128.50,130.00,105.50,133.00,-0.39,2025-08-25\n",
      "SCC,226.00,224.00,227.00,124.50,255.00,1.35,2025-08-25\n",
      "SCCC,150.50,150.50,151.00,138.50,177.50,-0.33,2025-08-25\n",
      "SCGP,18.10,18.00,18.50,10.70,32.25,-0.55,2025-08-25\n",
      "SENA,1.88,1.84,1.88,1.54,2.50,1.08,2025-08-25\n",
      "SGP,6.70,6.40,6.70,5.00,7.65,0.75,2025-08-25\n",
      "SINGER,5.70,5.40,5.75,3.92,12.70,8.57,2025-08-25\n",
      "SIRI,1.52,1.50,1.52,1.11,1.94,1.33,2025-08-25\n",
      "SIS,20.80,20.70,21.00,17.60,31.25,0.97,2025-08-25\n",
      "SJWD,10.20,10.20,10.30,5.75,12.50,-0.97,2025-08-25\n",
      "SKN,5.65,5.60,5.70,5.05,6.40,0.0,2025-08-25\n",
      "SKR,8.15,7.75,8.30,6.20,9.80,4.49,2025-08-25\n",
      "SMPC,8.80,8.75,8.85,7.80,9.95,0.0,2025-08-25\n",
      "SNC,6.00,5.95,6.10,4.96,7.35,0.84,2025-08-25\n",
      "SPALI,16.30,15.80,16.30,13.20,21.10,3.82,2025-08-25\n",
      "SPC,58.00,57.75,58.00,53.00,61.50,-0.85,2025-08-25\n",
      "SPCG,8.55,8.45,8.55,6.60,9.40,1.18,2025-08-25\n",
      "SPRC,4.70,4.66,4.72,4.26,7.55,0.86,2025-08-25\n",
      "SPRIME,3.32,3.30,3.34,3.00,4.56,0.0,2025-08-25\n",
      "SSP,4.00,3.94,4.00,3.94,6.40,0.0,2025-08-25\n",
      "STA,12.10,12.10,12.20,10.30,25.75,0.83,2025-08-25\n",
      "STANLY,180.00,176.00,181.50,180.00,225.00,-0.28,2025-08-25\n",
      "STGT,6.55,6.50,6.70,5.10,13.30,-0.76,2025-08-25\n",
      "SUPER,0.15,0.14,0.15,0.12,0.32,0.0,2025-08-25\n",
      "SUPEREIF,5.35,5.35,5.40,4.72,7.05,0.0,2025-08-25\n",
      "SVI,6.00,5.95,6.05,5.55,9.40,-0.83,2025-08-25\n",
      "SYNEX,11.80,11.60,11.80,9.30,16.70,1.72,2025-08-25\n",
      "TASCO,14.60,14.50,14.60,13.20,20.00,0.69,2025-08-25\n",
      "TCAP,51.00,50.50,51.00,44.25,53.50,1.49,2025-08-25\n",
      "TFFIF,6.05,6.00,6.05,5.25,7.20,0.0,2025-08-25\n",
      "TFG,5.50,5.50,5.65,3.02,6.10,-2.65,2025-08-25\n",
      "THANI,1.69,1.69,1.73,1.15,2.26,-0.59,2025-08-25\n",
      "THG,8.45,8.35,8.55,7.75,33.50,0.0,2025-08-25\n",
      "TIPH,20.10,20.00,20.30,16.70,30.50,0.0,2025-08-25\n",
      "TIPCO,8.75,8.70,8.90,8.35,10.40,0.0,2025-08-25\n",
      "TISCO,101.00,100.50,101.50,92.75,102.50,0.0,2025-08-25\n",
      "TK,4.20,4.16,4.24,3.28,5.45,-0.94,2025-08-25\n",
      "TKN,5.80,5.80,5.90,5.00,11.80,0.0,2025-08-25\n",
      "TKS,6.00,5.95,6.10,4.90,8.15,0.0,2025-08-25\n",
      "TMT,3.10,3.08,3.12,2.60,5.40,0.65,2025-08-25\n",
      "TMW,52.50,52.50,53.00,47.00,66.75,-0.47,2025-08-25\n",
      "TOA,14.60,14.50,14.80,9.35,20.50,0.0,2025-08-25\n",
      "TOP,32.75,31.75,32.75,21.00,55.50,2.34,2025-08-25\n",
      "TPIPL,0.81,0.80,0.81,0.72,1.29,1.25,2025-08-25\n",
      "TPIPP,2.28,2.26,2.28,1.99,3.14,1.79,2025-08-25\n",
      "TQM,14.20,14.10,14.40,12.20,33.25,-0.7,2025-08-25\n",
      "TRUE,11.70,11.50,11.90,10.10,13.30,-0.85,2025-08-25\n",
      "TSE,0.40,0.40,0.41,0.29,1.24,0.0,2025-08-25\n",
      "TSTH,0.77,0.76,0.78,0.47,0.93,1.32,2025-08-25\n",
      "TTA,4.42,4.42,4.50,3.22,6.55,-0.9,2025-08-25\n",
      "TTB,1.91,1.91,1.93,1.72,2.06,-0.52,2025-08-25\n",
      "TTLPF,11.00,10.90,11.00,10.80,16.60,0.0,2025-08-25\n",
      "TTW,9.15,9.10,9.15,8.45,9.50,0.0,2025-08-25\n",
      "TU,12.40,12.20,12.50,8.60,15.80,0.0,2025-08-25\n",
      "TVO,24.20,23.90,24.60,19.70,25.75,-0.82,2025-08-25\n",
      "TYCN,-,0.00,0.00,1.62,2.62,0.0,2025-08-25\n",
      "UTP,7.95,7.90,8.00,7.20,11.30,-0.63,2025-08-25\n",
      "VGI,2.14,2.14,2.20,1.86,3.68,-2.73,2025-08-25\n",
      "VIBHA,1.46,1.45,1.47,1.37,2.30,0.0,2025-08-25\n",
      "VNG,1.97,1.96,1.97,1.89,3.82,0.0,2025-08-25\n",
      "WHA,3.72,3.64,3.74,2.26,6.20,2.76,2025-08-25\n",
      "WHAIR,5.50,5.40,5.50,4.12,6.75,1.85,2025-08-25\n",
      "WHART,9.05,9.00,9.10,8.55,10.80,0.56,2025-08-25\n",
      "WHAUP,3.68,3.64,3.74,2.76,5.50,2.22,2025-08-25\n",
      "WICE,2.92,2.88,2.94,2.34,6.95,0.69,2025-08-25\n",
      "WORK,4.26,4.24,4.30,3.82,10.40,-0.47,2025-08-25\n"
     ]
    }
   ],
   "source": [
    "df = pd.read_csv(input_file, header=None)\n",
    "out_df = get_stock_data(df)"
   ]
  },
  {
   "cell_type": "code",
   "execution_count": 13,
   "id": "d31edacf",
   "metadata": {},
   "outputs": [
    {
     "name": "stdout",
     "output_type": "stream",
     "text": [
      "End at:  08:07 PM\n"
     ]
    }
   ],
   "source": [
    "end_time = strftime(\"%I:%M %p\")\n",
    "print('End at: ', end_time)"
   ]
  },
  {
   "cell_type": "code",
   "execution_count": 14,
   "id": "b89c4ae7",
   "metadata": {},
   "outputs": [
    {
     "data": {
      "text/html": [
       "<div>\n",
       "<style scoped>\n",
       "    .dataframe tbody tr th:only-of-type {\n",
       "        vertical-align: middle;\n",
       "    }\n",
       "\n",
       "    .dataframe tbody tr th {\n",
       "        vertical-align: top;\n",
       "    }\n",
       "\n",
       "    .dataframe thead th {\n",
       "        text-align: right;\n",
       "    }\n",
       "</style>\n",
       "<table border=\"1\" class=\"dataframe\">\n",
       "  <thead>\n",
       "    <tr style=\"text-align: right;\">\n",
       "      <th></th>\n",
       "      <th>name</th>\n",
       "      <th>price</th>\n",
       "      <th>today_low</th>\n",
       "      <th>today_high</th>\n",
       "      <th>year_low</th>\n",
       "      <th>year_high</th>\n",
       "      <th>percent</th>\n",
       "      <th>updated_at</th>\n",
       "    </tr>\n",
       "  </thead>\n",
       "  <tbody>\n",
       "    <tr>\n",
       "      <th>205</th>\n",
       "      <td>TYCN</td>\n",
       "      <td>-</td>\n",
       "      <td>0.00</td>\n",
       "      <td>0.00</td>\n",
       "      <td>1.62</td>\n",
       "      <td>2.62</td>\n",
       "      <td>0.0</td>\n",
       "      <td>2025-08-25</td>\n",
       "    </tr>\n",
       "  </tbody>\n",
       "</table>\n",
       "</div>"
      ],
      "text/plain": [
       "     name price today_low today_high year_low year_high  percent  updated_at\n",
       "205  TYCN     -      0.00       0.00     1.62      2.62      0.0  2025-08-25"
      ]
     },
     "execution_count": 14,
     "metadata": {},
     "output_type": "execute_result"
    }
   ],
   "source": [
    "out_df.query('price == \"-\"')"
   ]
  },
  {
   "cell_type": "code",
   "execution_count": 15,
   "id": "784f1b6d",
   "metadata": {},
   "outputs": [
    {
     "data": {
      "text/plain": [
       "(216, 8)"
      ]
     },
     "execution_count": 15,
     "metadata": {},
     "output_type": "execute_result"
    }
   ],
   "source": [
    "out_df.shape"
   ]
  },
  {
   "cell_type": "code",
   "execution_count": 16,
   "id": "6326d0c5",
   "metadata": {},
   "outputs": [],
   "source": [
    "out_df = out_df[out_df['name'] != 'BCT']"
   ]
  },
  {
   "cell_type": "code",
   "execution_count": 17,
   "id": "2a293f55-436e-45d1-9966-50d12c26e659",
   "metadata": {},
   "outputs": [],
   "source": [
    "out_df = out_df[out_df['name'] != 'LPF']"
   ]
  },
  {
   "cell_type": "code",
   "execution_count": 18,
   "id": "cc4b3547-5ea9-4ac6-bd11-896e67d464ed",
   "metadata": {},
   "outputs": [],
   "source": [
    "out_df = out_df[out_df['name'] != 'TYCN']"
   ]
  },
  {
   "cell_type": "code",
   "execution_count": 19,
   "id": "865622c2-dad3-4ba8-b35a-898461fe5e9a",
   "metadata": {},
   "outputs": [],
   "source": [
    "out_df = out_df[out_df['name'] != 'GRAMMY']"
   ]
  },
  {
   "cell_type": "code",
   "execution_count": 20,
   "id": "cb2d763d-5b75-4ace-b87a-f165c8e6cb91",
   "metadata": {},
   "outputs": [],
   "source": [
    "out_df = out_df[out_df['name'] != 'MST']"
   ]
  },
  {
   "cell_type": "code",
   "execution_count": 21,
   "id": "e65305f0-157a-4129-a758-15c02e8df06a",
   "metadata": {},
   "outputs": [],
   "source": [
    "out_df = out_df[out_df['name'] != 'SPC']"
   ]
  },
  {
   "cell_type": "code",
   "execution_count": 22,
   "id": "cb55b5f6-0679-4191-aeda-ab0cf45f18e7",
   "metadata": {},
   "outputs": [],
   "source": [
    "out_df = out_df[out_df['name'] != 'SPRIME']"
   ]
  },
  {
   "cell_type": "code",
   "execution_count": 23,
   "id": "981854f1-01a1-4e26-b2a9-4f58948a33ec",
   "metadata": {},
   "outputs": [],
   "source": [
    "out_df = out_df[out_df['name'] != 'FPT']"
   ]
  },
  {
   "cell_type": "code",
   "execution_count": 24,
   "id": "a2833967-e889-4ad5-97b2-8234ba35c31c",
   "metadata": {},
   "outputs": [],
   "source": [
    "out_df = out_df[out_df['name'] != 'GGC']"
   ]
  },
  {
   "cell_type": "code",
   "execution_count": 25,
   "id": "b2771ed1",
   "metadata": {},
   "outputs": [
    {
     "data": {
      "text/plain": [
       "(208, 8)"
      ]
     },
     "execution_count": 25,
     "metadata": {},
     "output_type": "execute_result"
    }
   ],
   "source": [
    "out_df.shape"
   ]
  },
  {
   "cell_type": "code",
   "execution_count": 26,
   "id": "eb2ffec6",
   "metadata": {},
   "outputs": [],
   "source": [
    "out_df['price'] = out_df['price'].astype('float')\n",
    "out_df['today_low'] = out_df['today_low'].astype('float')\n",
    "out_df['today_high'] = out_df['today_high'].astype('float')\n",
    "out_df['year_low'] = out_df['year_low'].astype('float')\n",
    "out_df['year_high'] = out_df['year_high'].astype('float')\n",
    "out_df['percent'] = out_df['percent'].astype('float')"
   ]
  },
  {
   "cell_type": "code",
   "execution_count": 27,
   "id": "f4fb1a3c",
   "metadata": {},
   "outputs": [],
   "source": [
    "sorted_out_df = out_df.sort_values('percent')"
   ]
  },
  {
   "cell_type": "code",
   "execution_count": 28,
   "id": "032f0eea",
   "metadata": {},
   "outputs": [
    {
     "data": {
      "text/html": [
       "<div>\n",
       "<style scoped>\n",
       "    .dataframe tbody tr th:only-of-type {\n",
       "        vertical-align: middle;\n",
       "    }\n",
       "\n",
       "    .dataframe tbody tr th {\n",
       "        vertical-align: top;\n",
       "    }\n",
       "\n",
       "    .dataframe thead th {\n",
       "        text-align: right;\n",
       "    }\n",
       "</style>\n",
       "<table border=\"1\" class=\"dataframe\">\n",
       "  <thead>\n",
       "    <tr style=\"text-align: right;\">\n",
       "      <th></th>\n",
       "      <th>name</th>\n",
       "      <th>price</th>\n",
       "      <th>today_low</th>\n",
       "      <th>today_high</th>\n",
       "      <th>year_low</th>\n",
       "      <th>year_high</th>\n",
       "      <th>percent</th>\n",
       "      <th>updated_at</th>\n",
       "    </tr>\n",
       "  </thead>\n",
       "  <tbody>\n",
       "    <tr>\n",
       "      <th>40</th>\n",
       "      <td>BTSGIF</td>\n",
       "      <td>2.5</td>\n",
       "      <td>2.46</td>\n",
       "      <td>2.5</td>\n",
       "      <td>2.54</td>\n",
       "      <td>3.52</td>\n",
       "      <td>-6.02</td>\n",
       "      <td>2025-08-25</td>\n",
       "    </tr>\n",
       "    <tr>\n",
       "      <th>171</th>\n",
       "      <td>STANLY</td>\n",
       "      <td>180.0</td>\n",
       "      <td>176.00</td>\n",
       "      <td>181.5</td>\n",
       "      <td>180.00</td>\n",
       "      <td>225.00</td>\n",
       "      <td>-0.28</td>\n",
       "      <td>2025-08-25</td>\n",
       "    </tr>\n",
       "  </tbody>\n",
       "</table>\n",
       "</div>"
      ],
      "text/plain": [
       "       name  price  today_low  today_high  year_low  year_high  percent  \\\n",
       "40   BTSGIF    2.5       2.46         2.5      2.54       3.52    -6.02   \n",
       "171  STANLY  180.0     176.00       181.5    180.00     225.00    -0.28   \n",
       "\n",
       "     updated_at  \n",
       "40   2025-08-25  \n",
       "171  2025-08-25  "
      ]
     },
     "execution_count": 28,
     "metadata": {},
     "output_type": "execute_result"
    }
   ],
   "source": [
    "sorted_out_df.query('today_low < year_low')"
   ]
  },
  {
   "cell_type": "code",
   "execution_count": 29,
   "id": "8e04b03d",
   "metadata": {},
   "outputs": [
    {
     "data": {
      "text/html": [
       "<div>\n",
       "<style scoped>\n",
       "    .dataframe tbody tr th:only-of-type {\n",
       "        vertical-align: middle;\n",
       "    }\n",
       "\n",
       "    .dataframe tbody tr th {\n",
       "        vertical-align: top;\n",
       "    }\n",
       "\n",
       "    .dataframe thead th {\n",
       "        text-align: right;\n",
       "    }\n",
       "</style>\n",
       "<table border=\"1\" class=\"dataframe\">\n",
       "  <thead>\n",
       "    <tr style=\"text-align: right;\">\n",
       "      <th></th>\n",
       "      <th>name</th>\n",
       "      <th>price</th>\n",
       "      <th>today_low</th>\n",
       "      <th>today_high</th>\n",
       "      <th>year_low</th>\n",
       "      <th>year_high</th>\n",
       "      <th>percent</th>\n",
       "      <th>updated_at</th>\n",
       "    </tr>\n",
       "  </thead>\n",
       "  <tbody>\n",
       "    <tr>\n",
       "      <th>24</th>\n",
       "      <td>BCPG</td>\n",
       "      <td>8.5</td>\n",
       "      <td>8.35</td>\n",
       "      <td>8.95</td>\n",
       "      <td>5.05</td>\n",
       "      <td>8.75</td>\n",
       "      <td>4.29</td>\n",
       "      <td>2025-08-25</td>\n",
       "    </tr>\n",
       "  </tbody>\n",
       "</table>\n",
       "</div>"
      ],
      "text/plain": [
       "    name  price  today_low  today_high  year_low  year_high  percent  \\\n",
       "24  BCPG    8.5       8.35        8.95      5.05       8.75     4.29   \n",
       "\n",
       "    updated_at  \n",
       "24  2025-08-25  "
      ]
     },
     "execution_count": 29,
     "metadata": {},
     "output_type": "execute_result"
    }
   ],
   "source": [
    "sorted_out_df.query('today_high > year_high')"
   ]
  },
  {
   "cell_type": "code",
   "execution_count": 30,
   "id": "290a9607",
   "metadata": {},
   "outputs": [
    {
     "data": {
      "text/html": [
       "<div>\n",
       "<style scoped>\n",
       "    .dataframe tbody tr th:only-of-type {\n",
       "        vertical-align: middle;\n",
       "    }\n",
       "\n",
       "    .dataframe tbody tr th {\n",
       "        vertical-align: top;\n",
       "    }\n",
       "\n",
       "    .dataframe thead th {\n",
       "        text-align: right;\n",
       "    }\n",
       "</style>\n",
       "<table border=\"1\" class=\"dataframe\">\n",
       "  <thead>\n",
       "    <tr style=\"text-align: right;\">\n",
       "      <th></th>\n",
       "      <th>name</th>\n",
       "      <th>price</th>\n",
       "      <th>today_low</th>\n",
       "      <th>today_high</th>\n",
       "      <th>year_low</th>\n",
       "      <th>year_high</th>\n",
       "      <th>percent</th>\n",
       "      <th>updated_at</th>\n",
       "    </tr>\n",
       "  </thead>\n",
       "  <tbody>\n",
       "    <tr>\n",
       "      <th>24</th>\n",
       "      <td>BCPG</td>\n",
       "      <td>8.5</td>\n",
       "      <td>8.35</td>\n",
       "      <td>8.95</td>\n",
       "      <td>5.05</td>\n",
       "      <td>8.75</td>\n",
       "      <td>4.29</td>\n",
       "      <td>2025-08-25</td>\n",
       "    </tr>\n",
       "  </tbody>\n",
       "</table>\n",
       "</div>"
      ],
      "text/plain": [
       "    name  price  today_low  today_high  year_low  year_high  percent  \\\n",
       "24  BCPG    8.5       8.35        8.95      5.05       8.75     4.29   \n",
       "\n",
       "    updated_at  \n",
       "24  2025-08-25  "
      ]
     },
     "execution_count": 30,
     "metadata": {},
     "output_type": "execute_result"
    }
   ],
   "source": [
    "out_df.query('today_high > year_high')"
   ]
  },
  {
   "cell_type": "code",
   "execution_count": 31,
   "id": "5fbeba56-2a63-4650-898b-6447a81f95f5",
   "metadata": {},
   "outputs": [],
   "source": [
    "file_name = \"Price-Hilo.csv\"\n",
    "output_file = os.path.join(dat_path, file_name)\n",
    "god_file = os.path.join(god_path, file_name)\n",
    "icd_file = os.path.join(icd_path, file_name)\n",
    "osd_file = os.path.join(osd_path, file_name)"
   ]
  },
  {
   "cell_type": "code",
   "execution_count": 32,
   "id": "da6183ac-2f05-4f67-b200-fe83634d29dc",
   "metadata": {},
   "outputs": [
    {
     "name": "stdout",
     "output_type": "stream",
     "text": [
      "output_file : C:\\Users\\PC1\\OneDrive\\A5\\Data\\Price-Hilo.csv\n",
      "icd_file : C:\\Users\\PC1\\iCloudDrive\\Data\\Price-Hilo.csv\n",
      "god_file : C:\\Users\\PC1\\OneDrive\\Imports\\santisoontarinka@gmail.com - Google Drive\\Data\\Price-Hilo.csv\n",
      "osd_file : C:\\Users\\PC1\\OneDrive\\Documents\\obsidian-git-sync\\Data\\Price-Hilo.csv\n"
     ]
    }
   ],
   "source": [
    "print(f\"output_file : {output_file}\") \n",
    "print(f\"icd_file : {icd_file}\") \n",
    "print(f\"god_file : {god_file}\") \n",
    "print(f\"osd_file : {osd_file}\") "
   ]
  },
  {
   "cell_type": "code",
   "execution_count": 33,
   "id": "8017b53b",
   "metadata": {},
   "outputs": [],
   "source": [
    "out_df.to_csv(output_file, index=False)  \n",
    "out_df.to_csv(god_file, index=False) \n",
    "out_df.to_csv(icd_file, index=False)  \n",
    "out_df.to_csv(osd_file, index=False) "
   ]
  },
  {
   "cell_type": "code",
   "execution_count": 34,
   "id": "80692fae-6308-4695-bcac-5124ce4d44e3",
   "metadata": {},
   "outputs": [
    {
     "name": "stdout",
     "output_type": "stream",
     "text": [
      "2025-08-25 20:07:39\n"
     ]
    }
   ],
   "source": [
    "# Get the current time\n",
    "current_time = datetime.now()\n",
    "# Format the time to remove milliseconds\n",
    "formatted_time = current_time.strftime(\"%Y-%m-%d %H:%M:%S\")\n",
    "print(formatted_time)"
   ]
  }
 ],
 "metadata": {
  "kernelspec": {
   "display_name": "Python 3 (ipykernel)",
   "language": "python",
   "name": "python3"
  },
  "language_info": {
   "codemirror_mode": {
    "name": "ipython",
    "version": 3
   },
   "file_extension": ".py",
   "mimetype": "text/x-python",
   "name": "python",
   "nbconvert_exporter": "python",
   "pygments_lexer": "ipython3",
   "version": "3.12.3"
  }
 },
 "nbformat": 4,
 "nbformat_minor": 5
}
