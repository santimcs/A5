{
 "cells": [
  {
   "cell_type": "markdown",
   "id": "930356c6",
   "metadata": {},
   "source": [
    "### Start and Run All"
   ]
  },
  {
   "cell_type": "code",
   "execution_count": 2,
   "id": "d7cfc693",
   "metadata": {},
   "outputs": [
    {
     "name": "stdout",
     "output_type": "stream",
     "text": [
      "2025-08-07 22:22:07\n"
     ]
    }
   ],
   "source": [
    "import os\n",
    "import pandas as pd\n",
    "from urllib import request\n",
    "from bs4 import BeautifulSoup\n",
    "# from datetime import date, timedelta\n",
    "from datetime import datetime\n",
    "from time import sleep, strftime\n",
    "\n",
    "# Get the current time\n",
    "current_time = datetime.now()\n",
    "# Format the time to remove milliseconds\n",
    "formatted_time = current_time.strftime(\"%Y-%m-%d %H:%M:%S\")\n",
    "print(formatted_time)"
   ]
  },
  {
   "cell_type": "code",
   "execution_count": 3,
   "id": "0cbdda38-ec42-4470-bede-c468ba46f8d8",
   "metadata": {},
   "outputs": [],
   "source": [
    "url = \"https://www.set.or.th/en/market/product/stock/quote/\"\n",
    "percent_span = '' "
   ]
  },
  {
   "cell_type": "code",
   "execution_count": 4,
   "id": "6e4b7508-0071-480d-99c8-a6c070027294",
   "metadata": {},
   "outputs": [],
   "source": [
    "# Get the user's home directory\n",
    "user_path = os.path.expanduser('~')\n",
    "# Get the current working directory\n",
    "current_path = os.getcwd()\n",
    "# Derive the base directory (base_dir) by removing the last folder ('Daily')\n",
    "base_path = os.path.dirname(current_path)\n",
    "#C:\\Users\\PC1\\OneDrive\\A5\\Data\n",
    "dat_path = os.path.join(base_path, \"Data\")\n",
    "#C:\\Users\\PC1\\OneDrive\\Imports\\santisoontarinka@gmail.com - Google Drive\\Data>\n",
    "god_path = os.path.join(user_path, \"OneDrive\",\"Imports\",\"santisoontarinka@gmail.com - Google Drive\",\"Data\")\n",
    "#C:\\Users\\PC1\\iCloudDrive\\data\n",
    "icd_path = os.path.join(user_path, \"iCloudDrive\", \"Data\")\n",
    "#C:\\Users\\PC1\\OneDrive\\Documents\\obsidian-git-sync\\Data\n",
    "osd_path = os.path.join(user_path, \"OneDrive\",\"Documents\",\"obsidian-git-sync\",\"Data\")"
   ]
  },
  {
   "cell_type": "code",
   "execution_count": 5,
   "id": "07defeb3-a742-4e64-8089-7e4fe5b8b93c",
   "metadata": {},
   "outputs": [
    {
     "name": "stdout",
     "output_type": "stream",
     "text": [
      "User path: C:\\Users\\PC1\n",
      "Current path: C:\\Users\\PC1\\OneDrive\\A5\\Daily\n",
      "Base path: C:\\Users\\PC1\\OneDrive\\A5\n",
      "Data path : C:\\Users\\PC1\\OneDrive\\A5\\Data\n",
      "Google Drive path : C:\\Users\\PC1\\OneDrive\\Imports\\santisoontarinka@gmail.com - Google Drive\\Data\n",
      "iCloudDrive path : C:\\Users\\PC1\\iCloudDrive\\Data\n",
      "Obsidian path : C:\\Users\\PC1\\OneDrive\\Documents\\obsidian-git-sync\\Data\n"
     ]
    }
   ],
   "source": [
    "print(\"User path:\", user_path)\n",
    "print(f\"Current path: {current_path}\")\n",
    "print(f\"Base path: {base_path}\")\n",
    "print(f\"Data path : {dat_path}\") \n",
    "print(f\"Google Drive path : {god_path}\")\n",
    "print(f\"iCloudDrive path : {icd_path}\") \n",
    "print(f\"Obsidian path : {osd_path}\") "
   ]
  },
  {
   "cell_type": "code",
   "execution_count": 6,
   "id": "08576879-dc60-431b-a31a-e1893e2d7922",
   "metadata": {},
   "outputs": [
    {
     "name": "stdout",
     "output_type": "stream",
     "text": [
      "Input file : C:\\Users\\PC1\\OneDrive\\A5\\Data\\name-ttl.csv\n"
     ]
    }
   ],
   "source": [
    "file_name = \"name-ttl.csv\"\n",
    "input_file = os.path.join(dat_path, file_name)\n",
    "print(f\"Input file : {input_file}\") "
   ]
  },
  {
   "cell_type": "code",
   "execution_count": 7,
   "id": "9b9668db-0773-4de5-9bd4-864c377dab80",
   "metadata": {},
   "outputs": [],
   "source": [
    "file_name = \"price-hilo.csv\"\n",
    "output_file = os.path.join(dat_path, file_name)\n",
    "god_file = os.path.join(god_path, file_name)\n",
    "icd_file = os.path.join(icd_path, file_name)\n",
    "osd_file = os.path.join(osd_path, file_name)"
   ]
  },
  {
   "cell_type": "code",
   "execution_count": 8,
   "id": "66c38ef5-8643-4ad3-81ff-9e2275d426d5",
   "metadata": {},
   "outputs": [
    {
     "name": "stdout",
     "output_type": "stream",
     "text": [
      "Output file : C:\\Users\\PC1\\OneDrive\\A5\\Data\\price-hilo.csv\n",
      "icd_file : C:\\Users\\PC1\\iCloudDrive\\Data\\price-hilo.csv\n",
      "god_file : C:\\Users\\PC1\\OneDrive\\Imports\\santisoontarinka@gmail.com - Google Drive\\Data\\price-hilo.csv\n",
      "osd_file : C:\\Users\\PC1\\OneDrive\\Documents\\obsidian-git-sync\\Data\\price-hilo.csv\n"
     ]
    }
   ],
   "source": [
    "print(f\"Output file : {output_file}\") \n",
    "print(f\"icd_file : {icd_file}\") \n",
    "print(f\"god_file : {god_file}\") \n",
    "print(f\"osd_file : {osd_file}\")"
   ]
  },
  {
   "cell_type": "code",
   "execution_count": 9,
   "id": "c1ec2693",
   "metadata": {},
   "outputs": [],
   "source": [
    "def cvt_str_to_flt(input_str):\n",
    "    # Check for the special pattern and return 0\n",
    "    if input_str == '(-)':\n",
    "        return 0\n",
    "    \n",
    "    # Remove parentheses and percent sign\n",
    "    cleaned_str = input_str.replace('(', '').replace(')', '').replace('%', '')\n",
    "\n",
    "    # Convert to float\n",
    "    try:\n",
    "        return float(cleaned_str)\n",
    "    except ValueError:\n",
    "        # Handle the case where the conversion fails\n",
    "        return None\n",
    " "
   ]
  },
  {
   "cell_type": "code",
   "execution_count": 10,
   "id": "334bed1f",
   "metadata": {},
   "outputs": [],
   "source": [
    "def get_stock_data(in_df):\n",
    "\n",
    "    in_df.columns = ['name']\n",
    "    \n",
    "    output_columns = ['name', 'price', 'today_low', 'today_high', 'year_low', 'year_high', 'percent', 'updated_at']\n",
    "    # Initialize an empty DataFrame with specified columns\n",
    "    out_df = pd.DataFrame(columns=output_columns)\n",
    "    \n",
    "    for index, row in in_df.iterrows():\n",
    "        name = str(row['name']).upper()\n",
    "        response = request.urlopen(url + name + '/price')\n",
    "        html_page = BeautifulSoup(response, 'html.parser')\n",
    "        \n",
    "  #      price = html_page.find('div', class_='value text-white mb-0 me-2 lh-1 stock-info').text.strip()        \n",
    "  #      if (price == '-'):\n",
    "  #          price = '0.00'        \n",
    "\n",
    "        price_div = html_page.find('div', class_='value text-white mb-0 me-2 lh-1 stock-info')\n",
    "        if price_div:\n",
    "            price = price_div.text.strip()\n",
    "        else:\n",
    "            print(f\"Price div not found for {name}\")\n",
    "            price = '0.00'     \n",
    "            \n",
    "        # Try to find the <h3> tag with the class 'theme-success'\n",
    "        h3_tag = html_page.find('h3', class_='theme-success')\n",
    "        if h3_tag:\n",
    "        # Find all <span> tags within the found <h3> tag\n",
    "            span_tags = h3_tag.find_all('span')\n",
    "    \n",
    "            if len(span_tags) > 1:\n",
    "                # Extract the text from the second <span> tag\n",
    "                percent_span = span_tags[1].text\n",
    "                # print(percent_span)\n",
    "                \n",
    "        # Try to find the <h3> tag with the class 'theme-danger'\n",
    "        h3_tag = html_page.find('h3', class_='theme-danger')\n",
    "        if h3_tag:\n",
    "        # Find all <span> tags within the found <h3> tag\n",
    "            span_tags = h3_tag.find_all('span')\n",
    "    \n",
    "            if len(span_tags) > 1:\n",
    "                # Extract the text from the second <span> tag\n",
    "                percent_span = span_tags[1].text\n",
    "                # print(percent_span)    \n",
    "                \n",
    "        # Try to find the <h3> tag with the class 'theme-danger'\n",
    "        h3_tag = html_page.find('h3', class_='theme-normal')\n",
    "        if h3_tag:\n",
    "        # Find all <span> tags within the found <h3> tag\n",
    "            span_tags = h3_tag.find_all('span')\n",
    "    \n",
    "            if len(span_tags) > 1:\n",
    "                # Extract the text from the second <span> tag\n",
    "                percent_span = span_tags[1].text\n",
    "                # print(percent_span)   \n",
    "                \n",
    "        percent = cvt_str_to_flt(percent_span)\n",
    "                \n",
    "        values_low = html_page.find_all('span', class_='title-font-family fs-16px fw-bolder me-auto lh-1')\n",
    "        today_low = values_low[0].text\n",
    "        if (today_low == '-'):\n",
    "            today_low = '0.00'\n",
    "        \n",
    "        values_high = html_page.find_all('span', class_='title-font-family fs-16px fw-bolder lh-1')\n",
    "        today_high = values_high[0].text\n",
    "        if (today_high == '-'):\n",
    "            today_high = '0.00'         \n",
    "        \n",
    "        year_low = values_low[1].text        \n",
    "        year_high = values_high[1].text     \n",
    "        \n",
    "        # Find the div with the specific class, then find the span within it\n",
    "        div = html_page.find('div', class_='price-detail-date d-flex align-items-center text-nowrap fs-12px')\n",
    "        if div:\n",
    "            span = div.find('span')\n",
    "            if span:\n",
    "                text = span.get_text()\n",
    "#                 print(text)\n",
    "            else:\n",
    "                print(\"Span not found\")\n",
    "        else:\n",
    "            print(\"Div not found\")\n",
    "            \n",
    "        # Extract the date part from the string\n",
    "        # Assuming the date is always in the format 'dd Mon yyyy'\n",
    "        date_str = ' '.join(text.split()[2:5])\n",
    "\n",
    "        # Parse the date string into a datetime object\n",
    "        date_obj = datetime.strptime(date_str, '%d %b %Y')\n",
    "\n",
    "        # Format the datetime object to 'yyyy-mm-dd'\n",
    "        updated_at = date_obj.strftime('%Y-%m-%d')\n",
    "\n",
    "#         print(updated_at)\n",
    "        \n",
    "        # Append row to the DataFrame and print the row\n",
    "        out_df.loc[len(out_df)] = [name, price, today_low, today_high, year_low, year_high, percent, updated_at]\n",
    "#       print(out_df.iloc[-1].to_string(header=False, index=False)) \n",
    "        print(','.join(map(str, out_df.iloc[-1])))\n",
    "        sleep(1)\n",
    "        \n",
    "    return out_df  # return the final dataframe with all values populated"
   ]
  },
  {
   "cell_type": "code",
   "execution_count": 11,
   "id": "94abc8d4",
   "metadata": {},
   "outputs": [
    {
     "name": "stdout",
     "output_type": "stream",
     "text": [
      "Start at:  10:22 PM\n"
     ]
    }
   ],
   "source": [
    "start_time = strftime(\"%I:%M %p\")\n",
    "print('Start at: ', start_time)"
   ]
  },
  {
   "cell_type": "code",
   "execution_count": 12,
   "id": "23b565ec",
   "metadata": {
    "scrolled": true
   },
   "outputs": [
    {
     "name": "stdout",
     "output_type": "stream",
     "text": [
      "ACE,1.30,1.29,1.30,1.23,1.49,0.78,2025-08-07\n",
      "ADVANC,298.00,297.00,305.00,235.00,309.00,0.68,2025-08-07\n",
      "AEONTS,105.50,104.50,107.50,90.50,148.00,0.48,2025-08-07\n",
      "AH,15.60,15.40,15.60,10.00,23.20,1.96,2025-08-07\n",
      "AIE,1.22,1.21,1.25,0.72,1.80,-0.81,2025-08-07\n",
      "AIMIRT,9.85,9.75,9.90,9.20,11.20,0.0,2025-08-07\n",
      "AIT,5.15,5.10,5.20,3.74,5.30,0.98,2025-08-07\n",
      "AJ,2.58,2.56,2.68,1.94,5.80,0.0,2025-08-07\n",
      "AMATA,16.70,16.50,17.00,11.20,31.00,0.0,2025-08-07\n",
      "ANAN,0.45,0.43,0.47,0.37,0.85,2.27,2025-08-07\n",
      "AOT,40.50,39.75,41.00,26.75,65.00,1.25,2025-08-07\n",
      "AP,7.45,7.45,7.65,5.60,10.50,-1.97,2025-08-07\n",
      "ASIAN,7.55,7.50,7.65,6.50,10.50,0.0,2025-08-07\n",
      "ASK,8.20,8.10,8.45,6.20,15.30,1.23,2025-08-07\n",
      "ASP,2.42,2.40,2.46,1.81,2.70,0.83,2025-08-07\n",
      "ASW,6.55,6.45,6.65,5.55,8.20,0.0,2025-08-07\n",
      "AWC,2.34,2.24,2.46,1.55,3.94,2.63,2025-08-07\n",
      "BA,14.90,14.90,15.70,10.60,26.00,-0.67,2025-08-07\n",
      "BAM,8.30,8.25,8.45,5.35,10.20,-1.19,2025-08-07\n",
      "BANPU,5.00,4.98,5.10,4.00,7.50,-0.99,2025-08-07\n",
      "BAY,22.80,22.80,23.30,20.70,29.00,0.0,2025-08-07\n",
      "BBL,152.50,151.50,154.50,129.00,161.50,0.33,2025-08-07\n",
      "BCH,14.30,14.20,14.50,12.30,19.20,-0.69,2025-08-07\n",
      "BCP,34.00,33.50,34.75,26.50,41.00,-1.45,2025-08-07\n",
      "BCPG,7.55,7.05,7.75,5.05,7.80,7.86,2025-08-07\n",
      "BCT,47.50,47.00,47.50,43.50,76.75,1.06,2025-08-07\n",
      "BDMS,22.20,22.00,22.50,19.80,31.25,-0.89,2025-08-07\n",
      "BE8,7.60,7.60,8.00,5.20,21.20,-1.94,2025-08-07\n",
      "BEAUTY,0.32,0.30,0.34,0.19,0.57,3.23,2025-08-07\n",
      "BEC,2.70,2.56,2.72,1.79,4.68,4.65,2025-08-07\n",
      "BEM,5.55,5.45,5.65,4.56,8.30,0.91,2025-08-07\n",
      "BGC,5.00,4.94,5.05,4.54,7.90,1.21,2025-08-07\n",
      "BGRIM,12.40,12.10,13.00,8.90,24.80,5.08,2025-08-07\n",
      "BH,189.50,187.00,194.00,130.00,284.00,0.0,2025-08-07\n",
      "BJC,19.40,19.20,19.90,16.50,25.75,-0.51,2025-08-07\n",
      "BKIH,291.00,289.00,291.00,271.00,316.00,0.34,2025-08-07\n",
      "BLA,17.90,17.80,18.30,14.00,25.75,-1.1,2025-08-07\n",
      "BLAND,0.50,0.49,0.51,0.38,0.70,2.04,2025-08-07\n",
      "BPP,8.20,8.00,8.25,6.20,13.60,1.86,2025-08-07\n",
      "BTS,3.60,3.58,3.74,3.28,6.40,-0.55,2025-08-07\n",
      "BTSGIF,2.66,2.64,2.68,2.54,3.52,-0.75,2025-08-07\n",
      "CBG,57.25,56.75,58.75,46.50,82.00,0.0,2025-08-07\n",
      "CENTEL,28.25,28.25,29.50,19.40,41.25,-2.59,2025-08-07\n",
      "CHG,1.82,1.81,1.85,1.39,3.00,-0.55,2025-08-07\n",
      "CK,13.90,13.80,14.10,10.20,21.10,0.72,2025-08-07\n",
      "CKP,2.90,2.84,2.94,2.10,4.04,0.69,2025-08-07\n",
      "COM7,23.40,23.20,23.80,16.70,28.25,0.86,2025-08-07\n",
      "CPALL,47.50,47.00,48.25,41.50,68.00,1.06,2025-08-07\n",
      "CPF,24.10,23.70,24.70,19.80,26.50,1.69,2025-08-07\n",
      "CPN,52.50,52.25,53.50,41.00,68.75,0.48,2025-08-07\n",
      "CPNCG,6.15,6.05,6.15,5.30,6.65,1.65,2025-08-07\n",
      "CPNREIT,11.50,11.40,11.60,10.20,13.60,-0.86,2025-08-07\n",
      "CRC,22.10,22.00,22.50,15.80,36.00,-1.34,2025-08-07\n",
      "DCC,1.44,1.44,1.47,1.18,2.04,-1.37,2025-08-07\n",
      "DCON,0.23,0.23,0.24,0.23,0.41,0.0,2025-08-07\n",
      "DELTA,147.00,145.50,148.50,51.25,173.50,-0.34,2025-08-07\n",
      "DIF,8.40,8.30,8.40,7.35,9.85,0.6,2025-08-07\n",
      "DOHOME,4.00,4.00,4.28,2.26,11.26,-8.68,2025-08-07\n",
      "DRT,5.30,5.25,5.40,4.42,8.15,0.0,2025-08-07\n",
      "EA,3.00,2.92,3.16,1.73,7.32,2.74,2025-08-07\n",
      "EASTW,2.10,2.08,2.16,1.57,3.90,-2.78,2025-08-07\n",
      "EGATIF,6.00,5.95,6.05,5.75,6.40,-0.83,2025-08-07\n",
      "EGCO,113.50,112.50,117.00,85.00,128.50,1.34,2025-08-07\n",
      "EPG,3.04,3.04,3.16,2.12,5.25,-1.94,2025-08-07\n",
      "FORTH,7.25,7.20,7.45,6.05,15.00,0.0,2025-08-07\n",
      "FPT,6.05,6.00,6.10,5.85,14.00,0.83,2025-08-07\n",
      "FSMART,6.90,6.90,7.15,4.74,9.15,1.47,2025-08-07\n",
      "FTREIT,9.35,9.35,9.50,8.60,11.30,-1.06,2025-08-07\n",
      "GC,4.08,4.00,4.16,3.40,5.20,3.55,2025-08-07\n",
      "GFPT,10.20,10.10,10.30,8.00,13.20,0.99,2025-08-07\n",
      "GGC,3.94,3.92,3.96,3.20,5.45,-1.01,2025-08-07\n",
      "GLOBAL,6.65,6.65,7.15,4.16,16.27,-6.99,2025-08-07\n",
      "GPSC,36.25,35.25,37.75,22.40,49.75,7.41,2025-08-07\n",
      "GRAMMY,4.58,4.56,4.62,4.30,8.50,-0.87,2025-08-07\n",
      "GUNKUL,1.85,1.83,1.88,1.31,2.96,1.65,2025-08-07\n",
      "GVREIT,6.55,6.50,6.60,5.25,7.15,0.0,2025-08-07\n",
      "HANA,22.30,22.20,22.90,14.00,44.00,-3.04,2025-08-07\n",
      "HFT,4.12,4.12,4.16,3.32,4.82,0.0,2025-08-07\n",
      "HMPRO,7.00,6.95,7.25,5.70,11.10,-2.1,2025-08-07\n",
      "HTC,15.30,15.20,15.40,14.50,17.70,0.0,2025-08-07\n",
      "ICHI,11.40,11.30,11.70,9.40,17.00,0.0,2025-08-07\n",
      "III,4.90,4.72,4.90,4.18,7.20,2.94,2025-08-07\n",
      "ILM,13.90,13.80,14.00,11.50,18.90,0.0,2025-08-07\n",
      "IMH,3.94,3.90,3.94,3.50,6.05,0.51,2025-08-07\n",
      "IMPACT,9.90,9.70,9.90,9.25,12.80,2.06,2025-08-07\n",
      "INOX,0.42,0.41,0.42,0.35,0.67,2.44,2025-08-07\n",
      "IP,3.50,3.48,3.64,2.02,5.15,1.16,2025-08-07\n",
      "IRPC,0.99,0.99,1.02,0.70,1.86,-2.94,2025-08-07\n",
      "IVL,23.40,23.30,23.90,16.00,27.50,-1.27,2025-08-07\n",
      "3BBIF,6.35,6.25,6.35,5.00,6.75,0.79,2025-08-07\n",
      "JMART,9.20,9.05,9.60,5.20,17.70,-3.66,2025-08-07\n",
      "JMT,12.10,12.00,12.60,7.35,22.00,-2.42,2025-08-07\n",
      "KBANK,166.50,165.50,168.50,127.00,167.50,0.0,2025-08-07\n",
      "KCE,24.00,23.90,24.70,13.70,41.50,-2.83,2025-08-07\n",
      "KEX,1.48,1.48,1.49,0.78,3.40,0.0,2025-08-07\n",
      "KGI,3.92,3.92,3.96,3.40,4.66,0.51,2025-08-07\n",
      "KKP,57.00,56.25,57.25,37.75,58.25,0.88,2025-08-07\n",
      "KSL,1.52,1.51,1.58,1.25,2.36,-1.3,2025-08-07\n",
      "KTB,23.50,23.40,24.20,17.10,24.70,2.17,2025-08-07\n",
      "KTC,29.00,28.75,29.75,21.80,52.25,-0.85,2025-08-07\n",
      "KYE,292.00,291.00,298.00,280.00,324.00,-1.68,2025-08-07\n",
      "LALIN,4.98,4.94,5.00,4.80,6.80,-0.4,2025-08-07\n",
      "LANNA,16.20,16.20,16.40,14.00,17.50,-1.22,2025-08-07\n",
      "LH,3.98,3.96,4.06,3.18,6.50,-1.49,2025-08-07\n",
      "LHFG,0.77,0.77,0.80,0.71,0.96,-3.75,2025-08-07\n",
      "LHK,3.56,3.54,3.58,3.02,4.12,-0.56,2025-08-07\n",
      "LIT,0.72,0.71,0.75,0.39,1.34,1.41,2025-08-07\n",
      "LPH,4.14,3.70,4.26,3.20,4.78,10.7,2025-08-07\n",
      "LPN,1.76,1.76,1.78,1.61,3.38,0.0,2025-08-07\n",
      "M,24.50,24.40,25.25,13.80,30.75,-2.0,2025-08-07\n",
      "MAJOR,8.60,8.55,8.75,7.35,16.00,-1.15,2025-08-07\n",
      "MBAX,1.40,1.38,1.40,1.17,3.10,1.45,2025-08-07\n",
      "MC,10.30,10.20,10.40,9.15,13.00,-0.96,2025-08-07\n",
      "MCS,8.65,8.45,8.70,5.80,9.20,2.37,2025-08-07\n",
      "MEGA,30.50,30.25,31.00,24.30,41.25,0.0,2025-08-07\n",
      "MINT,24.70,24.50,25.25,21.70,29.50,1.65,2025-08-07\n",
      "MST,7.30,7.25,7.40,5.50,10.30,0.69,2025-08-07\n",
      "MTC,38.75,38.50,39.50,33.75,54.00,-0.64,2025-08-07\n",
      "NER,4.54,4.50,4.60,3.88,5.65,0.44,2025-08-07\n",
      "NOBLE,1.81,1.80,1.88,1.60,3.46,-1.63,2025-08-07\n",
      "ONEE,2.40,2.38,2.46,1.99,4.68,0.84,2025-08-07\n",
      "OR,12.90,12.90,13.30,10.10,17.80,-1.53,2025-08-07\n",
      "ORI,2.14,2.06,2.24,1.50,5.75,7.0,2025-08-07\n",
      "OSP,18.50,18.40,18.80,12.90,24.30,-1.6,2025-08-07\n",
      "PAP,1.74,1.72,1.80,1.31,2.96,1.75,2025-08-07\n",
      "PCSGH,3.12,3.12,3.14,2.46,4.98,-0.64,2025-08-07\n",
      "PDG,2.78,2.76,2.82,2.36,2.86,0.72,2025-08-07\n",
      "PLANB,5.20,5.20,5.35,4.08,8.60,-2.8,2025-08-07\n",
      "POPF,6.00,5.90,6.00,5.40,6.70,0.84,2025-08-07\n",
      "PREB,3.58,3.50,3.58,3.34,5.55,1.13,2025-08-07\n",
      "PRM,6.40,6.40,6.55,5.10,9.30,-1.54,2025-08-07\n",
      "PSH,4.56,4.52,4.64,3.66,9.80,0.88,2025-08-07\n",
      "PSL,6.55,6.50,6.70,4.96,9.60,-0.76,2025-08-07\n",
      "PTG,6.80,6.70,7.00,5.45,10.70,-0.73,2025-08-07\n",
      "PTL,10.60,10.60,10.80,9.20,14.40,-0.93,2025-08-07\n",
      "PTT,32.25,32.00,32.50,27.00,35.00,0.0,2025-08-07\n",
      "PTTEP,122.50,122.50,124.00,93.00,150.50,-0.41,2025-08-07\n",
      "PTTGC,24.20,24.10,24.80,14.20,32.75,-2.02,2025-08-07\n",
      "QH,1.46,1.46,1.49,1.15,2.00,0.0,2025-08-07\n",
      "RATCH,26.50,26.25,27.25,22.50,34.25,0.95,2025-08-07\n",
      "RBF,3.70,3.70,3.88,3.04,7.40,-1.07,2025-08-07\n",
      "RCL,29.25,29.25,29.75,18.20,31.00,-0.85,2025-08-07\n",
      "RJH,14.20,14.10,14.30,11.50,26.25,0.0,2025-08-07\n",
      "ROJNA,4.88,4.82,4.90,4.14,7.50,1.24,2025-08-07\n",
      "RS,0.30,0.23,0.30,0.19,6.30,30.43,2025-08-07\n",
      "S11,3.22,3.14,3.26,1.68,3.70,1.9,2025-08-07\n",
      "SAPPE,39.25,38.25,41.75,27.50,98.00,2.61,2025-08-07\n",
      "SAT,12.70,12.70,13.10,9.95,13.70,-1.55,2025-08-07\n",
      "SAWAD,22.70,22.50,23.10,14.80,41.36,0.44,2025-08-07\n",
      "SC,1.82,1.81,1.86,1.40,3.22,-1.09,2025-08-07\n",
      "SCB,128.50,128.00,130.00,100.50,129.00,0.0,2025-08-07\n",
      "SCC,203.00,201.00,206.00,124.50,255.00,-0.98,2025-08-07\n",
      "SCCC,150.50,150.50,152.00,134.00,177.50,0.33,2025-08-07\n",
      "SCGP,18.40,18.30,18.90,10.70,32.25,-1.6,2025-08-07\n",
      "SENA,1.81,1.76,1.81,1.54,2.50,1.12,2025-08-07\n",
      "SGP,6.60,6.55,6.65,5.90,7.65,-1.49,2025-08-07\n",
      "SINGER,5.80,5.70,5.90,3.92,12.70,-0.85,2025-08-07\n",
      "SIRI,1.51,1.49,1.53,1.11,1.94,-0.66,2025-08-07\n",
      "SIS,22.80,22.60,23.20,17.60,31.25,-0.44,2025-08-07\n",
      "SJWD,8.95,8.90,9.10,5.75,12.50,-0.56,2025-08-07\n",
      "SKN,5.75,5.65,5.75,5.05,6.40,0.88,2025-08-07\n",
      "SKR,7.20,7.10,7.20,6.20,9.80,1.41,2025-08-07\n",
      "SMPC,8.55,8.50,8.60,7.80,10.10,0.0,2025-08-07\n",
      "SNC,6.00,6.00,6.10,4.72,7.35,-0.83,2025-08-07\n",
      "SPALI,15.90,15.70,16.10,13.20,21.10,1.27,2025-08-07\n",
      "SPC,58.50,58.25,58.50,53.00,61.50,0.0,2025-08-07\n",
      "SPCG,8.20,8.20,8.35,6.60,9.40,-1.2,2025-08-07\n",
      "SPRC,5.60,5.55,5.70,4.26,7.55,-0.88,2025-08-07\n",
      "SPRIME,3.46,3.38,3.46,3.00,4.56,1.76,2025-08-07\n",
      "SSP,4.08,4.08,4.10,4.04,6.40,0.0,2025-08-07\n",
      "STA,14.00,13.90,14.40,10.30,25.75,0.0,2025-08-07\n",
      "STANLY,184.00,184.00,184.50,183.50,225.00,0.0,2025-08-07\n",
      "STGT,7.05,7.05,7.25,5.10,13.30,-0.7,2025-08-07\n",
      "SUPER,0.16,0.15,0.16,0.12,0.32,6.67,2025-08-07\n",
      "SUPEREIF,5.20,5.15,5.25,4.72,7.05,-0.95,2025-08-07\n",
      "SVI,5.90,5.85,6.10,5.55,9.40,-3.28,2025-08-07\n",
      "SYNEX,12.60,12.40,12.80,9.30,16.70,0.0,2025-08-07\n",
      "TASCO,15.00,14.90,15.20,13.20,20.00,0.67,2025-08-07\n",
      "TCAP,49.00,48.75,49.25,44.25,53.50,1.03,2025-08-07\n",
      "TFFIF,6.10,6.00,6.10,5.25,7.20,0.83,2025-08-07\n",
      "TFG,5.20,5.10,5.30,3.02,5.45,1.96,2025-08-07\n",
      "THANI,1.72,1.69,1.82,1.15,2.26,-6.52,2025-08-07\n",
      "THG,9.60,8.85,9.60,7.75,37.00,7.87,2025-08-07\n",
      "TIPH,20.20,19.70,20.30,16.70,30.50,1.51,2025-08-07\n",
      "TIPCO,8.85,8.85,8.95,8.35,10.40,0.0,2025-08-07\n",
      "TISCO,99.75,99.25,100.00,90.00,101.00,0.0,2025-08-07\n",
      "TK,4.14,4.06,4.20,3.28,5.45,1.97,2025-08-07\n",
      "TKN,6.00,5.95,6.25,5.00,11.80,-0.83,2025-08-07\n",
      "TKS,5.80,5.75,5.95,4.90,8.15,0.87,2025-08-07\n",
      "TMT,3.32,3.32,3.40,2.60,5.40,-1.19,2025-08-07\n",
      "TMW,49.50,49.00,49.50,45.00,66.75,1.02,2025-08-07\n",
      "TOA,14.80,14.50,14.80,9.35,20.50,1.37,2025-08-07\n",
      "TOP,33.50,33.50,34.25,21.00,55.50,-1.47,2025-08-07\n",
      "TPIPL,0.93,0.93,0.95,0.72,1.29,-1.06,2025-08-07\n",
      "TPIPP,2.40,2.38,2.44,1.99,3.14,0.0,2025-08-07\n",
      "TQM,15.20,15.10,15.60,12.20,33.25,-1.94,2025-08-07\n",
      "TRUE,11.00,11.00,11.40,9.65,13.30,-1.79,2025-08-07\n",
      "TSE,0.45,0.44,0.46,0.29,1.24,0.0,2025-08-07\n",
      "TSTH,0.79,0.79,0.81,0.47,0.93,0.0,2025-08-07\n",
      "TTA,4.46,4.42,4.50,3.22,6.55,0.9,2025-08-07\n",
      "TTB,1.92,1.90,1.94,1.64,2.06,0.0,2025-08-07\n",
      "TTLPF,11.00,10.90,11.00,10.90,17.00,0.0,2025-08-07\n",
      "TTW,9.10,9.05,9.10,8.45,9.50,0.0,2025-08-07\n",
      "TU,12.70,12.40,12.70,8.60,15.80,2.42,2025-08-07\n",
      "TVO,23.30,23.30,23.50,19.70,25.25,0.0,2025-08-07\n",
      "TYCN,1.68,1.68,1.75,1.62,2.62,-7.69,2025-08-07\n",
      "UTP,7.70,7.60,7.80,7.20,11.30,1.32,2025-08-07\n",
      "VGI,2.12,2.10,2.14,1.65,3.68,0.0,2025-08-07\n",
      "VIBHA,1.50,1.50,1.52,1.37,2.30,-0.66,2025-08-07\n",
      "VNG,2.02,1.99,2.02,1.89,3.82,0.0,2025-08-07\n",
      "WHA,3.62,3.60,3.70,2.26,6.20,0.56,2025-08-07\n",
      "WHAIR,5.55,5.45,5.55,4.12,6.75,0.0,2025-08-07\n",
      "WHART,9.30,9.30,9.50,8.55,10.80,-1.06,2025-08-07\n",
      "WHAUP,3.48,3.46,3.58,2.76,5.50,0.58,2025-08-07\n",
      "WICE,3.32,3.24,3.36,2.34,6.95,1.22,2025-08-07\n",
      "WORK,4.52,4.16,4.60,3.82,10.40,9.18,2025-08-07\n"
     ]
    }
   ],
   "source": [
    "df = pd.read_csv(input_file, header=None)\n",
    "out_df = get_stock_data(df)"
   ]
  },
  {
   "cell_type": "code",
   "execution_count": 13,
   "id": "d31edacf",
   "metadata": {},
   "outputs": [
    {
     "name": "stdout",
     "output_type": "stream",
     "text": [
      "End at:  10:27 PM\n"
     ]
    }
   ],
   "source": [
    "end_time = strftime(\"%I:%M %p\")\n",
    "print('End at: ', end_time)"
   ]
  },
  {
   "cell_type": "code",
   "execution_count": 14,
   "id": "b89c4ae7",
   "metadata": {},
   "outputs": [
    {
     "data": {
      "text/html": [
       "<div>\n",
       "<style scoped>\n",
       "    .dataframe tbody tr th:only-of-type {\n",
       "        vertical-align: middle;\n",
       "    }\n",
       "\n",
       "    .dataframe tbody tr th {\n",
       "        vertical-align: top;\n",
       "    }\n",
       "\n",
       "    .dataframe thead th {\n",
       "        text-align: right;\n",
       "    }\n",
       "</style>\n",
       "<table border=\"1\" class=\"dataframe\">\n",
       "  <thead>\n",
       "    <tr style=\"text-align: right;\">\n",
       "      <th></th>\n",
       "      <th>name</th>\n",
       "      <th>price</th>\n",
       "      <th>today_low</th>\n",
       "      <th>today_high</th>\n",
       "      <th>year_low</th>\n",
       "      <th>year_high</th>\n",
       "      <th>percent</th>\n",
       "      <th>updated_at</th>\n",
       "    </tr>\n",
       "  </thead>\n",
       "  <tbody>\n",
       "  </tbody>\n",
       "</table>\n",
       "</div>"
      ],
      "text/plain": [
       "Empty DataFrame\n",
       "Columns: [name, price, today_low, today_high, year_low, year_high, percent, updated_at]\n",
       "Index: []"
      ]
     },
     "execution_count": 14,
     "metadata": {},
     "output_type": "execute_result"
    }
   ],
   "source": [
    "out_df.query('price == \"-\"')"
   ]
  },
  {
   "cell_type": "code",
   "execution_count": 15,
   "id": "784f1b6d",
   "metadata": {},
   "outputs": [
    {
     "data": {
      "text/plain": [
       "(216, 8)"
      ]
     },
     "execution_count": 15,
     "metadata": {},
     "output_type": "execute_result"
    }
   ],
   "source": [
    "out_df.shape"
   ]
  },
  {
   "cell_type": "code",
   "execution_count": 16,
   "id": "6326d0c5",
   "metadata": {},
   "outputs": [],
   "source": [
    "out_df = out_df[out_df['name'] != 'BCT']"
   ]
  },
  {
   "cell_type": "code",
   "execution_count": 17,
   "id": "2a293f55-436e-45d1-9966-50d12c26e659",
   "metadata": {},
   "outputs": [],
   "source": [
    "out_df = out_df[out_df['name'] != 'LPF']"
   ]
  },
  {
   "cell_type": "code",
   "execution_count": 18,
   "id": "cc4b3547-5ea9-4ac6-bd11-896e67d464ed",
   "metadata": {},
   "outputs": [],
   "source": [
    "out_df = out_df[out_df['name'] != 'TYCN']"
   ]
  },
  {
   "cell_type": "code",
   "execution_count": 19,
   "id": "865622c2-dad3-4ba8-b35a-898461fe5e9a",
   "metadata": {},
   "outputs": [],
   "source": [
    "out_df = out_df[out_df['name'] != 'GRAMMY']"
   ]
  },
  {
   "cell_type": "code",
   "execution_count": 20,
   "id": "cb2d763d-5b75-4ace-b87a-f165c8e6cb91",
   "metadata": {},
   "outputs": [],
   "source": [
    "out_df = out_df[out_df['name'] != 'MST']"
   ]
  },
  {
   "cell_type": "code",
   "execution_count": 21,
   "id": "e65305f0-157a-4129-a758-15c02e8df06a",
   "metadata": {},
   "outputs": [],
   "source": [
    "out_df = out_df[out_df['name'] != 'SPC']"
   ]
  },
  {
   "cell_type": "code",
   "execution_count": 22,
   "id": "cb55b5f6-0679-4191-aeda-ab0cf45f18e7",
   "metadata": {},
   "outputs": [],
   "source": [
    "out_df = out_df[out_df['name'] != 'SPRIME']"
   ]
  },
  {
   "cell_type": "code",
   "execution_count": 23,
   "id": "981854f1-01a1-4e26-b2a9-4f58948a33ec",
   "metadata": {},
   "outputs": [],
   "source": [
    "out_df = out_df[out_df['name'] != 'FPT']"
   ]
  },
  {
   "cell_type": "code",
   "execution_count": 24,
   "id": "a2833967-e889-4ad5-97b2-8234ba35c31c",
   "metadata": {},
   "outputs": [],
   "source": [
    "out_df = out_df[out_df['name'] != 'GGC']"
   ]
  },
  {
   "cell_type": "code",
   "execution_count": 25,
   "id": "b2771ed1",
   "metadata": {},
   "outputs": [
    {
     "data": {
      "text/plain": [
       "(208, 8)"
      ]
     },
     "execution_count": 25,
     "metadata": {},
     "output_type": "execute_result"
    }
   ],
   "source": [
    "out_df.shape"
   ]
  },
  {
   "cell_type": "code",
   "execution_count": 26,
   "id": "eb2ffec6",
   "metadata": {},
   "outputs": [],
   "source": [
    "out_df['price'] = out_df['price'].astype('float')\n",
    "out_df['today_low'] = out_df['today_low'].astype('float')\n",
    "out_df['today_high'] = out_df['today_high'].astype('float')\n",
    "out_df['year_low'] = out_df['year_low'].astype('float')\n",
    "out_df['year_high'] = out_df['year_high'].astype('float')\n",
    "out_df['percent'] = out_df['percent'].astype('float')"
   ]
  },
  {
   "cell_type": "code",
   "execution_count": 27,
   "id": "f4fb1a3c",
   "metadata": {},
   "outputs": [],
   "source": [
    "sorted_out_df = out_df.sort_values('percent')"
   ]
  },
  {
   "cell_type": "code",
   "execution_count": 28,
   "id": "032f0eea",
   "metadata": {},
   "outputs": [
    {
     "data": {
      "text/html": [
       "<div>\n",
       "<style scoped>\n",
       "    .dataframe tbody tr th:only-of-type {\n",
       "        vertical-align: middle;\n",
       "    }\n",
       "\n",
       "    .dataframe tbody tr th {\n",
       "        vertical-align: top;\n",
       "    }\n",
       "\n",
       "    .dataframe thead th {\n",
       "        text-align: right;\n",
       "    }\n",
       "</style>\n",
       "<table border=\"1\" class=\"dataframe\">\n",
       "  <thead>\n",
       "    <tr style=\"text-align: right;\">\n",
       "      <th></th>\n",
       "      <th>name</th>\n",
       "      <th>price</th>\n",
       "      <th>today_low</th>\n",
       "      <th>today_high</th>\n",
       "      <th>year_low</th>\n",
       "      <th>year_high</th>\n",
       "      <th>percent</th>\n",
       "      <th>updated_at</th>\n",
       "    </tr>\n",
       "  </thead>\n",
       "  <tbody>\n",
       "  </tbody>\n",
       "</table>\n",
       "</div>"
      ],
      "text/plain": [
       "Empty DataFrame\n",
       "Columns: [name, price, today_low, today_high, year_low, year_high, percent, updated_at]\n",
       "Index: []"
      ]
     },
     "execution_count": 28,
     "metadata": {},
     "output_type": "execute_result"
    }
   ],
   "source": [
    "sorted_out_df.query('today_low < year_low')"
   ]
  },
  {
   "cell_type": "code",
   "execution_count": 29,
   "id": "8e04b03d",
   "metadata": {},
   "outputs": [
    {
     "data": {
      "text/html": [
       "<div>\n",
       "<style scoped>\n",
       "    .dataframe tbody tr th:only-of-type {\n",
       "        vertical-align: middle;\n",
       "    }\n",
       "\n",
       "    .dataframe tbody tr th {\n",
       "        vertical-align: top;\n",
       "    }\n",
       "\n",
       "    .dataframe thead th {\n",
       "        text-align: right;\n",
       "    }\n",
       "</style>\n",
       "<table border=\"1\" class=\"dataframe\">\n",
       "  <thead>\n",
       "    <tr style=\"text-align: right;\">\n",
       "      <th></th>\n",
       "      <th>name</th>\n",
       "      <th>price</th>\n",
       "      <th>today_low</th>\n",
       "      <th>today_high</th>\n",
       "      <th>year_low</th>\n",
       "      <th>year_high</th>\n",
       "      <th>percent</th>\n",
       "      <th>updated_at</th>\n",
       "    </tr>\n",
       "  </thead>\n",
       "  <tbody>\n",
       "    <tr>\n",
       "      <th>150</th>\n",
       "      <td>SCB</td>\n",
       "      <td>128.5</td>\n",
       "      <td>128.0</td>\n",
       "      <td>130.0</td>\n",
       "      <td>100.5</td>\n",
       "      <td>129.0</td>\n",
       "      <td>0.0</td>\n",
       "      <td>2025-08-07</td>\n",
       "    </tr>\n",
       "    <tr>\n",
       "      <th>92</th>\n",
       "      <td>KBANK</td>\n",
       "      <td>166.5</td>\n",
       "      <td>165.5</td>\n",
       "      <td>168.5</td>\n",
       "      <td>127.0</td>\n",
       "      <td>167.5</td>\n",
       "      <td>0.0</td>\n",
       "      <td>2025-08-07</td>\n",
       "    </tr>\n",
       "  </tbody>\n",
       "</table>\n",
       "</div>"
      ],
      "text/plain": [
       "      name  price  today_low  today_high  year_low  year_high  percent  \\\n",
       "150    SCB  128.5      128.0       130.0     100.5      129.0      0.0   \n",
       "92   KBANK  166.5      165.5       168.5     127.0      167.5      0.0   \n",
       "\n",
       "     updated_at  \n",
       "150  2025-08-07  \n",
       "92   2025-08-07  "
      ]
     },
     "execution_count": 29,
     "metadata": {},
     "output_type": "execute_result"
    }
   ],
   "source": [
    "sorted_out_df.query('today_high > year_high')"
   ]
  },
  {
   "cell_type": "code",
   "execution_count": 30,
   "id": "290a9607",
   "metadata": {},
   "outputs": [
    {
     "data": {
      "text/html": [
       "<div>\n",
       "<style scoped>\n",
       "    .dataframe tbody tr th:only-of-type {\n",
       "        vertical-align: middle;\n",
       "    }\n",
       "\n",
       "    .dataframe tbody tr th {\n",
       "        vertical-align: top;\n",
       "    }\n",
       "\n",
       "    .dataframe thead th {\n",
       "        text-align: right;\n",
       "    }\n",
       "</style>\n",
       "<table border=\"1\" class=\"dataframe\">\n",
       "  <thead>\n",
       "    <tr style=\"text-align: right;\">\n",
       "      <th></th>\n",
       "      <th>name</th>\n",
       "      <th>price</th>\n",
       "      <th>today_low</th>\n",
       "      <th>today_high</th>\n",
       "      <th>year_low</th>\n",
       "      <th>year_high</th>\n",
       "      <th>percent</th>\n",
       "      <th>updated_at</th>\n",
       "    </tr>\n",
       "  </thead>\n",
       "  <tbody>\n",
       "    <tr>\n",
       "      <th>92</th>\n",
       "      <td>KBANK</td>\n",
       "      <td>166.5</td>\n",
       "      <td>165.5</td>\n",
       "      <td>168.5</td>\n",
       "      <td>127.0</td>\n",
       "      <td>167.5</td>\n",
       "      <td>0.0</td>\n",
       "      <td>2025-08-07</td>\n",
       "    </tr>\n",
       "    <tr>\n",
       "      <th>150</th>\n",
       "      <td>SCB</td>\n",
       "      <td>128.5</td>\n",
       "      <td>128.0</td>\n",
       "      <td>130.0</td>\n",
       "      <td>100.5</td>\n",
       "      <td>129.0</td>\n",
       "      <td>0.0</td>\n",
       "      <td>2025-08-07</td>\n",
       "    </tr>\n",
       "  </tbody>\n",
       "</table>\n",
       "</div>"
      ],
      "text/plain": [
       "      name  price  today_low  today_high  year_low  year_high  percent  \\\n",
       "92   KBANK  166.5      165.5       168.5     127.0      167.5      0.0   \n",
       "150    SCB  128.5      128.0       130.0     100.5      129.0      0.0   \n",
       "\n",
       "     updated_at  \n",
       "92   2025-08-07  \n",
       "150  2025-08-07  "
      ]
     },
     "execution_count": 30,
     "metadata": {},
     "output_type": "execute_result"
    }
   ],
   "source": [
    "out_df.query('today_high > year_high')"
   ]
  },
  {
   "cell_type": "code",
   "execution_count": 31,
   "id": "5fbeba56-2a63-4650-898b-6447a81f95f5",
   "metadata": {},
   "outputs": [],
   "source": [
    "file_name = \"Price-Hilo.csv\"\n",
    "output_file = os.path.join(dat_path, file_name)\n",
    "god_file = os.path.join(god_path, file_name)\n",
    "icd_file = os.path.join(icd_path, file_name)\n",
    "osd_file = os.path.join(osd_path, file_name)"
   ]
  },
  {
   "cell_type": "code",
   "execution_count": 32,
   "id": "da6183ac-2f05-4f67-b200-fe83634d29dc",
   "metadata": {},
   "outputs": [
    {
     "name": "stdout",
     "output_type": "stream",
     "text": [
      "output_file : C:\\Users\\PC1\\OneDrive\\A5\\Data\\Price-Hilo.csv\n",
      "icd_file : C:\\Users\\PC1\\iCloudDrive\\Data\\Price-Hilo.csv\n",
      "god_file : C:\\Users\\PC1\\OneDrive\\Imports\\santisoontarinka@gmail.com - Google Drive\\Data\\Price-Hilo.csv\n",
      "osd_file : C:\\Users\\PC1\\OneDrive\\Documents\\obsidian-git-sync\\Data\\Price-Hilo.csv\n"
     ]
    }
   ],
   "source": [
    "print(f\"output_file : {output_file}\") \n",
    "print(f\"icd_file : {icd_file}\") \n",
    "print(f\"god_file : {god_file}\") \n",
    "print(f\"osd_file : {osd_file}\") "
   ]
  },
  {
   "cell_type": "code",
   "execution_count": 33,
   "id": "8017b53b",
   "metadata": {},
   "outputs": [],
   "source": [
    "out_df.to_csv(output_file, index=False)  \n",
    "out_df.to_csv(god_file, index=False) \n",
    "out_df.to_csv(icd_file, index=False)  \n",
    "out_df.to_csv(osd_file, index=False) "
   ]
  },
  {
   "cell_type": "code",
   "execution_count": 34,
   "id": "80692fae-6308-4695-bcac-5124ce4d44e3",
   "metadata": {},
   "outputs": [
    {
     "name": "stdout",
     "output_type": "stream",
     "text": [
      "2025-08-07 22:27:16\n"
     ]
    }
   ],
   "source": [
    "# Get the current time\n",
    "current_time = datetime.now()\n",
    "# Format the time to remove milliseconds\n",
    "formatted_time = current_time.strftime(\"%Y-%m-%d %H:%M:%S\")\n",
    "print(formatted_time)"
   ]
  }
 ],
 "metadata": {
  "kernelspec": {
   "display_name": "Python 3 (ipykernel)",
   "language": "python",
   "name": "python3"
  },
  "language_info": {
   "codemirror_mode": {
    "name": "ipython",
    "version": 3
   },
   "file_extension": ".py",
   "mimetype": "text/x-python",
   "name": "python",
   "nbconvert_exporter": "python",
   "pygments_lexer": "ipython3",
   "version": "3.12.3"
  }
 },
 "nbformat": 4,
 "nbformat_minor": 5
}
