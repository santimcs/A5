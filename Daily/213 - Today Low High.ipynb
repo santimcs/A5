{
 "cells": [
  {
   "cell_type": "markdown",
   "id": "930356c6",
   "metadata": {},
   "source": [
    "### Start and Run All"
   ]
  },
  {
   "cell_type": "code",
   "execution_count": 2,
   "id": "d7cfc693",
   "metadata": {},
   "outputs": [
    {
     "name": "stdout",
     "output_type": "stream",
     "text": [
      "2025-09-05 21:37:50\n"
     ]
    }
   ],
   "source": [
    "import os\n",
    "import pandas as pd\n",
    "from urllib import request\n",
    "from bs4 import BeautifulSoup\n",
    "# from datetime import date, timedelta\n",
    "from datetime import datetime\n",
    "from time import sleep, strftime\n",
    "\n",
    "# Get the current time\n",
    "current_time = datetime.now()\n",
    "# Format the time to remove milliseconds\n",
    "formatted_time = current_time.strftime(\"%Y-%m-%d %H:%M:%S\")\n",
    "print(formatted_time)"
   ]
  },
  {
   "cell_type": "code",
   "execution_count": 3,
   "id": "0cbdda38-ec42-4470-bede-c468ba46f8d8",
   "metadata": {},
   "outputs": [],
   "source": [
    "url = \"https://www.set.or.th/en/market/product/stock/quote/\"\n",
    "percent_span = '' "
   ]
  },
  {
   "cell_type": "code",
   "execution_count": 4,
   "id": "6e4b7508-0071-480d-99c8-a6c070027294",
   "metadata": {},
   "outputs": [],
   "source": [
    "# Get the user's home directory\n",
    "user_path = os.path.expanduser('~')\n",
    "# Get the current working directory\n",
    "current_path = os.getcwd()\n",
    "# Derive the base directory (base_dir) by removing the last folder ('Daily')\n",
    "base_path = os.path.dirname(current_path)\n",
    "#C:\\Users\\PC1\\OneDrive\\A5\\Data\n",
    "dat_path = os.path.join(base_path, \"Data\")\n",
    "#C:\\Users\\PC1\\OneDrive\\Imports\\santisoontarinka@gmail.com - Google Drive\\Data>\n",
    "god_path = os.path.join(user_path, \"OneDrive\",\"Imports\",\"santisoontarinka@gmail.com - Google Drive\",\"Data\")\n",
    "#C:\\Users\\PC1\\iCloudDrive\\data\n",
    "icd_path = os.path.join(user_path, \"iCloudDrive\", \"Data\")\n",
    "#C:\\Users\\PC1\\OneDrive\\Documents\\obsidian-git-sync\\Data\n",
    "osd_path = os.path.join(user_path, \"OneDrive\",\"Documents\",\"obsidian-git-sync\",\"Data\")"
   ]
  },
  {
   "cell_type": "code",
   "execution_count": 5,
   "id": "07defeb3-a742-4e64-8089-7e4fe5b8b93c",
   "metadata": {},
   "outputs": [
    {
     "name": "stdout",
     "output_type": "stream",
     "text": [
      "User path: C:\\Users\\PC1\n",
      "Current path: C:\\Users\\PC1\\OneDrive\\A5\\Daily\n",
      "Base path: C:\\Users\\PC1\\OneDrive\\A5\n",
      "Data path : C:\\Users\\PC1\\OneDrive\\A5\\Data\n",
      "Google Drive path : C:\\Users\\PC1\\OneDrive\\Imports\\santisoontarinka@gmail.com - Google Drive\\Data\n",
      "iCloudDrive path : C:\\Users\\PC1\\iCloudDrive\\Data\n",
      "Obsidian path : C:\\Users\\PC1\\OneDrive\\Documents\\obsidian-git-sync\\Data\n"
     ]
    }
   ],
   "source": [
    "print(\"User path:\", user_path)\n",
    "print(f\"Current path: {current_path}\")\n",
    "print(f\"Base path: {base_path}\")\n",
    "print(f\"Data path : {dat_path}\") \n",
    "print(f\"Google Drive path : {god_path}\")\n",
    "print(f\"iCloudDrive path : {icd_path}\") \n",
    "print(f\"Obsidian path : {osd_path}\") "
   ]
  },
  {
   "cell_type": "code",
   "execution_count": 6,
   "id": "08576879-dc60-431b-a31a-e1893e2d7922",
   "metadata": {},
   "outputs": [
    {
     "name": "stdout",
     "output_type": "stream",
     "text": [
      "Input file : C:\\Users\\PC1\\OneDrive\\A5\\Data\\name-ttl.csv\n"
     ]
    }
   ],
   "source": [
    "file_name = \"name-ttl.csv\"\n",
    "input_file = os.path.join(dat_path, file_name)\n",
    "print(f\"Input file : {input_file}\") "
   ]
  },
  {
   "cell_type": "code",
   "execution_count": 7,
   "id": "9b9668db-0773-4de5-9bd4-864c377dab80",
   "metadata": {},
   "outputs": [],
   "source": [
    "file_name = \"price-hilo.csv\"\n",
    "output_file = os.path.join(dat_path, file_name)\n",
    "god_file = os.path.join(god_path, file_name)\n",
    "icd_file = os.path.join(icd_path, file_name)\n",
    "osd_file = os.path.join(osd_path, file_name)"
   ]
  },
  {
   "cell_type": "code",
   "execution_count": 8,
   "id": "66c38ef5-8643-4ad3-81ff-9e2275d426d5",
   "metadata": {},
   "outputs": [
    {
     "name": "stdout",
     "output_type": "stream",
     "text": [
      "Output file : C:\\Users\\PC1\\OneDrive\\A5\\Data\\price-hilo.csv\n",
      "icd_file : C:\\Users\\PC1\\iCloudDrive\\Data\\price-hilo.csv\n",
      "god_file : C:\\Users\\PC1\\OneDrive\\Imports\\santisoontarinka@gmail.com - Google Drive\\Data\\price-hilo.csv\n",
      "osd_file : C:\\Users\\PC1\\OneDrive\\Documents\\obsidian-git-sync\\Data\\price-hilo.csv\n"
     ]
    }
   ],
   "source": [
    "print(f\"Output file : {output_file}\") \n",
    "print(f\"icd_file : {icd_file}\") \n",
    "print(f\"god_file : {god_file}\") \n",
    "print(f\"osd_file : {osd_file}\")"
   ]
  },
  {
   "cell_type": "code",
   "execution_count": 9,
   "id": "c1ec2693",
   "metadata": {},
   "outputs": [],
   "source": [
    "def cvt_str_to_flt(input_str):\n",
    "    # Check for the special pattern and return 0\n",
    "    if input_str == '(-)':\n",
    "        return 0\n",
    "    \n",
    "    # Remove parentheses and percent sign\n",
    "    cleaned_str = input_str.replace('(', '').replace(')', '').replace('%', '')\n",
    "\n",
    "    # Convert to float\n",
    "    try:\n",
    "        return float(cleaned_str)\n",
    "    except ValueError:\n",
    "        # Handle the case where the conversion fails\n",
    "        return None\n",
    " "
   ]
  },
  {
   "cell_type": "code",
   "execution_count": 10,
   "id": "334bed1f",
   "metadata": {},
   "outputs": [],
   "source": [
    "def get_stock_data(in_df):\n",
    "\n",
    "    in_df.columns = ['name']\n",
    "    \n",
    "    output_columns = ['name', 'price', 'today_low', 'today_high', 'year_low', 'year_high', 'percent', 'updated_at']\n",
    "    # Initialize an empty DataFrame with specified columns\n",
    "    out_df = pd.DataFrame(columns=output_columns)\n",
    "    \n",
    "    for index, row in in_df.iterrows():\n",
    "        name = str(row['name']).upper()\n",
    "        response = request.urlopen(url + name + '/price')\n",
    "        html_page = BeautifulSoup(response, 'html.parser')\n",
    "        \n",
    "  #      price = html_page.find('div', class_='value text-white mb-0 me-2 lh-1 stock-info').text.strip()        \n",
    "  #      if (price == '-'):\n",
    "  #          price = '0.00'        \n",
    "\n",
    "        price_div = html_page.find('div', class_='value text-white mb-0 me-2 lh-1 stock-info')\n",
    "        if price_div:\n",
    "            price = price_div.text.strip()\n",
    "        else:\n",
    "            print(f\"Price div not found for {name}\")\n",
    "            price = '0.00'     \n",
    "            \n",
    "        # Try to find the <h3> tag with the class 'theme-success'\n",
    "        h3_tag = html_page.find('h3', class_='theme-success')\n",
    "        if h3_tag:\n",
    "        # Find all <span> tags within the found <h3> tag\n",
    "            span_tags = h3_tag.find_all('span')\n",
    "    \n",
    "            if len(span_tags) > 1:\n",
    "                # Extract the text from the second <span> tag\n",
    "                percent_span = span_tags[1].text\n",
    "                # print(percent_span)\n",
    "                \n",
    "        # Try to find the <h3> tag with the class 'theme-danger'\n",
    "        h3_tag = html_page.find('h3', class_='theme-danger')\n",
    "        if h3_tag:\n",
    "        # Find all <span> tags within the found <h3> tag\n",
    "            span_tags = h3_tag.find_all('span')\n",
    "    \n",
    "            if len(span_tags) > 1:\n",
    "                # Extract the text from the second <span> tag\n",
    "                percent_span = span_tags[1].text\n",
    "                # print(percent_span)    \n",
    "                \n",
    "        # Try to find the <h3> tag with the class 'theme-danger'\n",
    "        h3_tag = html_page.find('h3', class_='theme-normal')\n",
    "        if h3_tag:\n",
    "        # Find all <span> tags within the found <h3> tag\n",
    "            span_tags = h3_tag.find_all('span')\n",
    "    \n",
    "            if len(span_tags) > 1:\n",
    "                # Extract the text from the second <span> tag\n",
    "                percent_span = span_tags[1].text\n",
    "                # print(percent_span)   \n",
    "                \n",
    "        percent = cvt_str_to_flt(percent_span)\n",
    "                \n",
    "        values_low = html_page.find_all('span', class_='title-font-family fs-16px fw-bolder me-auto lh-1')\n",
    "        today_low = values_low[0].text\n",
    "        if (today_low == '-'):\n",
    "            today_low = '0.00'\n",
    "        \n",
    "        values_high = html_page.find_all('span', class_='title-font-family fs-16px fw-bolder lh-1')\n",
    "        today_high = values_high[0].text\n",
    "        if (today_high == '-'):\n",
    "            today_high = '0.00'         \n",
    "        \n",
    "        year_low = values_low[1].text        \n",
    "        year_high = values_high[1].text     \n",
    "        \n",
    "        # Find the div with the specific class, then find the span within it\n",
    "        div = html_page.find('div', class_='price-detail-date d-flex align-items-center text-nowrap fs-12px')\n",
    "        if div:\n",
    "            span = div.find('span')\n",
    "            if span:\n",
    "                text = span.get_text()\n",
    "#                 print(text)\n",
    "            else:\n",
    "                print(\"Span not found\")\n",
    "        else:\n",
    "            print(\"Div not found\")\n",
    "            \n",
    "        # Extract the date part from the string\n",
    "        # Assuming the date is always in the format 'dd Mon yyyy'\n",
    "        date_str = ' '.join(text.split()[2:5])\n",
    "\n",
    "        # Parse the date string into a datetime object\n",
    "        date_obj = datetime.strptime(date_str, '%d %b %Y')\n",
    "\n",
    "        # Format the datetime object to 'yyyy-mm-dd'\n",
    "        updated_at = date_obj.strftime('%Y-%m-%d')\n",
    "\n",
    "#         print(updated_at)\n",
    "        \n",
    "        # Append row to the DataFrame and print the row\n",
    "        out_df.loc[len(out_df)] = [name, price, today_low, today_high, year_low, year_high, percent, updated_at]\n",
    "#       print(out_df.iloc[-1].to_string(header=False, index=False)) \n",
    "        print(','.join(map(str, out_df.iloc[-1])))\n",
    "        sleep(1)\n",
    "        \n",
    "    return out_df  # return the final dataframe with all values populated"
   ]
  },
  {
   "cell_type": "code",
   "execution_count": 11,
   "id": "94abc8d4",
   "metadata": {},
   "outputs": [
    {
     "name": "stdout",
     "output_type": "stream",
     "text": [
      "Start at:  09:37 PM\n"
     ]
    }
   ],
   "source": [
    "start_time = strftime(\"%I:%M %p\")\n",
    "print('Start at: ', start_time)"
   ]
  },
  {
   "cell_type": "code",
   "execution_count": 12,
   "id": "23b565ec",
   "metadata": {
    "scrolled": true
   },
   "outputs": [
    {
     "name": "stdout",
     "output_type": "stream",
     "text": [
      "ACE,1.32,1.29,1.34,1.23,1.49,2.33,2025-09-05\n",
      "ADVANC,293.00,290.00,294.00,249.00,309.00,0.34,2025-09-05\n",
      "AEONTS,112.50,112.00,114.00,90.50,148.00,0.45,2025-09-05\n",
      "AH,14.30,14.20,14.50,10.00,23.20,0.7,2025-09-05\n",
      "AIE,1.12,1.11,1.13,0.72,1.80,1.82,2025-09-05\n",
      "AIMIRT,9.75,9.70,9.75,9.20,11.20,0.0,2025-09-05\n",
      "AIT,5.00,4.98,5.05,3.92,5.30,0.0,2025-09-05\n",
      "AJ,2.34,2.26,2.50,1.94,5.80,4.46,2025-09-05\n",
      "AMATA,16.60,16.30,16.90,11.20,31.00,1.84,2025-09-05\n",
      "ANAN,0.51,0.50,0.53,0.37,0.85,-3.77,2025-09-05\n",
      "AOT,38.50,37.00,38.75,26.75,65.00,3.36,2025-09-05\n",
      "AP,8.20,7.85,8.20,5.60,10.50,4.46,2025-09-05\n",
      "ASIAN,7.15,7.10,7.25,6.50,9.55,0.7,2025-09-05\n",
      "ASK,7.80,7.70,7.85,6.20,15.30,1.96,2025-09-05\n",
      "ASP,2.72,2.64,2.72,1.81,2.74,3.03,2025-09-05\n",
      "ASW,5.15,5.10,5.20,4.90,8.20,0.98,2025-09-05\n",
      "AWC,2.38,2.30,2.42,1.55,3.94,2.59,2025-09-05\n",
      "BA,14.20,14.00,14.40,10.60,26.00,1.43,2025-09-05\n",
      "BAM,8.30,8.10,8.50,5.35,10.20,2.47,2025-09-05\n",
      "BANPU,4.98,4.90,5.05,4.00,7.50,1.63,2025-09-05\n",
      "BAY,23.90,23.60,23.90,20.70,29.00,1.27,2025-09-05\n",
      "BBL,152.00,151.50,154.50,131.00,161.50,-0.98,2025-09-05\n",
      "BCH,13.00,12.80,13.20,12.30,19.20,2.36,2025-09-05\n",
      "BCP,30.75,30.25,31.75,26.50,41.00,-3.91,2025-09-05\n",
      "BCPG,7.90,7.60,8.15,5.05,8.95,-1.25,2025-09-05\n",
      "BCT,47.50,46.75,48.00,43.50,76.75,-0.52,2025-09-05\n",
      "BDMS,21.00,20.70,21.10,19.80,31.25,1.45,2025-09-05\n",
      "BE8,6.15,5.85,6.20,5.20,21.20,5.13,2025-09-05\n",
      "BEAUTY,0.60,0.54,0.60,0.19,0.66,3.45,2025-09-05\n",
      "BEC,2.22,2.20,2.28,1.79,4.68,0.91,2025-09-05\n",
      "BEM,5.25,5.05,5.40,4.56,8.30,2.94,2025-09-05\n",
      "BGC,4.70,4.66,4.70,4.54,7.90,0.86,2025-09-05\n",
      "BGRIM,13.00,12.60,13.10,8.90,24.80,4.0,2025-09-05\n",
      "BH,185.50,185.00,188.00,130.00,284.00,0.27,2025-09-05\n",
      "BJC,19.10,18.50,19.20,16.50,25.75,2.14,2025-09-05\n",
      "BKIH,288.00,285.00,288.00,271.00,316.00,-0.35,2025-09-05\n",
      "BLA,18.00,17.80,18.20,14.00,25.75,1.12,2025-09-05\n",
      "BLAND,0.51,0.50,0.51,0.38,0.70,0.0,2025-09-05\n",
      "BPP,8.60,8.45,8.70,6.20,13.60,1.18,2025-09-05\n",
      "BTS,3.30,3.22,3.36,3.04,6.40,2.48,2025-09-05\n",
      "BTSGIF,2.50,2.46,2.50,2.46,3.52,0.81,2025-09-05\n",
      "CBG,55.25,54.75,56.25,46.50,82.00,0.45,2025-09-05\n",
      "CENTEL,31.50,30.25,31.50,19.40,41.25,4.13,2025-09-05\n",
      "CHG,1.67,1.63,1.67,1.39,3.00,1.83,2025-09-05\n",
      "CK,15.80,15.00,15.80,10.20,21.10,6.04,2025-09-05\n",
      "CKP,2.88,2.82,2.90,2.10,4.04,2.86,2025-09-05\n",
      "COM7,25.75,25.25,26.00,16.70,28.25,0.98,2025-09-05\n",
      "CPALL,47.50,46.75,47.75,41.50,68.00,1.6,2025-09-05\n",
      "CPF,22.50,21.90,22.70,19.80,26.50,3.21,2025-09-05\n",
      "CPN,55.25,55.00,56.25,41.00,68.75,-0.45,2025-09-05\n",
      "CPNCG,6.05,5.95,6.05,5.75,6.65,1.68,2025-09-05\n",
      "CPNREIT,11.20,11.10,11.20,10.20,13.60,0.0,2025-09-05\n",
      "CRC,23.80,23.10,23.80,15.80,36.00,1.71,2025-09-05\n",
      "DCC,1.41,1.39,1.42,1.18,2.04,0.0,2025-09-05\n",
      "DCON,0.25,0.25,0.27,0.23,0.41,0.0,2025-09-05\n",
      "DELTA,147.50,146.50,149.00,51.25,173.50,1.37,2025-09-05\n",
      "DIF,8.55,8.40,8.55,7.35,9.85,1.18,2025-09-05\n",
      "DOHOME,4.10,4.00,4.16,2.26,11.07,3.02,2025-09-05\n",
      "DRT,5.25,5.25,5.30,4.42,8.15,-0.94,2025-09-05\n",
      "EA,2.82,2.66,2.88,1.73,7.32,5.22,2025-09-05\n",
      "EASTW,2.56,2.30,2.68,1.57,3.90,12.28,2025-09-05\n",
      "EGATIF,6.00,5.95,6.00,5.75,6.40,0.0,2025-09-05\n",
      "EGCO,113.00,112.50,114.00,85.00,128.50,-3.42,2025-09-05\n",
      "EPG,3.12,3.02,3.16,2.12,5.25,2.63,2025-09-05\n",
      "FORTH,7.60,7.25,7.70,6.05,15.00,6.29,2025-09-05\n",
      "FPT,6.30,6.15,6.30,5.85,14.00,1.61,2025-09-05\n",
      "FSMART,6.95,6.70,7.15,5.35,9.15,5.3,2025-09-05\n",
      "FTREIT,9.20,9.10,9.20,8.60,11.30,0.55,2025-09-05\n",
      "GC,4.04,4.00,4.04,3.40,5.10,0.0,2025-09-05\n",
      "GFPT,9.60,9.50,9.70,8.00,12.40,0.52,2025-09-05\n",
      "GGC,3.90,3.84,3.90,3.20,5.45,1.04,2025-09-05\n",
      "GLOBAL,7.90,7.75,8.15,4.16,16.27,1.94,2025-09-05\n",
      "GPSC,41.25,40.75,41.75,22.40,49.75,2.48,2025-09-05\n",
      "GRAMMY,4.60,4.54,4.60,4.30,8.50,0.0,2025-09-05\n",
      "GUNKUL,1.96,1.93,1.99,1.31,2.96,2.08,2025-09-05\n",
      "GVREIT,6.30,6.25,6.30,5.70,7.15,0.8,2025-09-05\n",
      "HANA,25.25,24.70,25.25,14.00,44.00,2.64,2025-09-05\n",
      "HFT,4.22,4.16,4.22,3.32,4.76,0.96,2025-09-05\n",
      "HMPRO,7.70,7.65,7.85,5.70,11.10,0.65,2025-09-05\n",
      "HTC,15.30,15.20,15.30,14.50,17.70,0.0,2025-09-05\n",
      "ICHI,11.50,11.30,11.60,9.40,17.00,0.88,2025-09-05\n",
      "III,4.84,4.82,4.90,4.18,7.20,1.26,2025-09-05\n",
      "ILM,14.60,14.50,14.60,11.50,18.90,0.69,2025-09-05\n",
      "IMH,4.20,4.16,4.36,3.50,6.05,-0.94,2025-09-05\n",
      "IMPACT,9.85,9.80,9.85,9.25,12.80,0.0,2025-09-05\n",
      "INOX,0.42,0.40,0.42,0.35,0.67,2.44,2025-09-05\n",
      "IP,3.36,3.28,3.36,2.02,5.15,0.0,2025-09-05\n",
      "IRPC,1.29,1.15,1.29,0.70,1.86,10.26,2025-09-05\n",
      "IVL,22.10,21.60,22.10,16.90,27.50,2.79,2025-09-05\n",
      "3BBIF,6.45,6.30,6.45,5.00,6.75,2.38,2025-09-05\n",
      "JMART,9.45,9.00,9.60,5.20,17.70,5.0,2025-09-05\n",
      "JMT,12.20,11.90,12.50,7.35,22.00,3.39,2025-09-05\n",
      "KBANK,170.00,167.50,171.00,144.50,172.00,-0.58,2025-09-05\n",
      "KCE,26.50,25.75,26.75,13.70,40.75,1.92,2025-09-05\n",
      "KEX,1.49,1.49,1.50,0.78,3.40,0.0,2025-09-05\n",
      "KGI,3.94,3.90,3.94,3.40,4.66,0.51,2025-09-05\n",
      "KKP,60.00,59.50,60.50,43.50,62.00,0.0,2025-09-05\n",
      "KSL,1.40,1.38,1.40,1.25,2.36,1.45,2025-09-05\n",
      "KTB,25.25,24.90,25.50,18.90,25.50,0.0,2025-09-05\n",
      "KTC,29.50,29.00,29.75,21.80,52.25,2.61,2025-09-05\n",
      "KYE,291.00,289.00,292.00,280.00,324.00,0.34,2025-09-05\n",
      "LALIN,5.00,4.94,5.00,4.80,6.80,1.21,2025-09-05\n",
      "LANNA,15.50,15.30,15.50,14.10,17.50,1.31,2025-09-05\n",
      "LH,4.12,4.06,4.14,3.18,6.50,0.49,2025-09-05\n",
      "LHFG,0.77,0.75,0.78,0.72,0.96,-1.28,2025-09-05\n",
      "LHK,3.56,3.52,3.56,3.02,4.12,0.56,2025-09-05\n",
      "LIT,0.88,0.87,0.90,0.39,1.34,1.15,2025-09-05\n",
      "LPH,4.10,4.06,4.10,3.20,4.78,0.49,2025-09-05\n",
      "LPN,1.73,1.71,1.73,1.61,3.38,0.0,2025-09-05\n",
      "M,24.80,23.60,25.25,13.80,30.75,5.53,2025-09-05\n",
      "MAJOR,8.15,8.10,8.30,7.35,16.00,0.62,2025-09-05\n",
      "MBAX,1.39,1.39,1.40,1.17,3.10,-0.71,2025-09-05\n",
      "MC,11.00,10.90,11.10,9.15,13.00,0.0,2025-09-05\n",
      "MCS,8.50,8.40,8.55,5.80,9.20,1.19,2025-09-05\n",
      "MEGA,29.75,29.50,29.75,24.30,41.25,0.85,2025-09-05\n",
      "MINT,24.30,24.00,24.70,21.70,29.50,0.41,2025-09-05\n",
      "MST,7.20,7.20,7.20,5.50,10.30,1.41,2025-09-05\n",
      "MTC,42.00,40.50,42.50,33.75,54.00,3.7,2025-09-05\n",
      "NER,4.46,4.38,4.46,3.88,5.65,1.83,2025-09-05\n",
      "NOBLE,2.22,2.10,2.24,1.60,3.46,3.74,2025-09-05\n",
      "ONEE,2.30,2.28,2.32,1.99,4.68,0.0,2025-09-05\n",
      "OR,14.40,13.90,14.40,10.10,17.80,4.35,2025-09-05\n",
      "ORI,2.42,2.24,2.44,1.50,5.75,8.04,2025-09-05\n",
      "OSP,17.60,17.20,17.90,12.90,24.30,2.33,2025-09-05\n",
      "PAP,1.78,1.76,1.80,1.31,2.96,1.14,2025-09-05\n",
      "PCSGH,3.06,3.02,3.06,2.46,4.74,1.32,2025-09-05\n",
      "PDG,2.74,2.72,2.74,2.36,2.88,0.74,2025-09-05\n",
      "PLANB,5.05,4.80,5.20,4.08,8.60,5.21,2025-09-05\n",
      "POPF,6.15,6.05,6.15,5.40,6.70,0.82,2025-09-05\n",
      "PREB,3.62,3.56,3.64,3.34,5.55,0.0,2025-09-05\n",
      "PRM,6.55,6.45,6.55,5.10,9.30,1.55,2025-09-05\n",
      "PSH,4.38,4.24,4.38,3.66,9.80,3.79,2025-09-05\n",
      "PSL,6.35,6.30,6.45,4.96,9.60,0.0,2025-09-05\n",
      "PTG,8.45,8.00,8.75,5.45,10.70,6.29,2025-09-05\n",
      "PTL,9.80,9.40,9.80,9.20,14.40,4.26,2025-09-05\n",
      "PTT,31.50,31.25,32.00,27.00,35.00,-0.79,2025-09-05\n",
      "PTTEP,112.00,112.00,113.50,93.00,144.00,-1.32,2025-09-05\n",
      "PTTGC,27.75,26.50,28.00,14.20,32.75,4.72,2025-09-05\n",
      "QH,1.40,1.38,1.41,1.15,2.00,1.45,2025-09-05\n",
      "RATCH,26.00,25.75,26.00,22.50,34.25,0.0,2025-09-05\n",
      "RBF,4.20,4.16,4.22,3.04,7.40,0.0,2025-09-05\n",
      "RCL,27.25,27.00,27.50,18.20,31.75,0.0,2025-09-05\n",
      "RJH,13.10,13.00,13.30,11.50,26.25,0.77,2025-09-05\n",
      "ROJNA,4.80,4.74,4.80,4.14,7.50,1.69,2025-09-05\n",
      "RS,0.29,0.28,0.30,0.19,6.30,3.57,2025-09-05\n",
      "S11,3.26,3.20,3.38,1.86,3.70,1.88,2025-09-05\n",
      "SAPPE,33.25,32.75,33.50,27.50,83.00,2.31,2025-09-05\n",
      "SAT,13.20,13.00,13.30,9.95,13.70,1.54,2025-09-05\n",
      "SAWAD,28.25,27.25,28.50,14.80,41.36,2.73,2025-09-05\n",
      "SC,1.82,1.79,1.82,1.40,3.22,0.55,2025-09-05\n",
      "SCB,126.50,126.50,127.50,105.50,133.00,-0.39,2025-09-05\n",
      "SCC,219.00,214.00,221.00,124.50,255.00,2.82,2025-09-05\n",
      "SCCC,149.00,148.50,149.50,138.50,177.50,0.34,2025-09-05\n",
      "SCGP,17.90,17.40,18.20,10.70,32.25,3.47,2025-09-05\n",
      "SENA,1.88,1.87,1.88,1.54,2.50,0.53,2025-09-05\n",
      "SGP,6.40,6.40,6.55,5.00,7.65,-2.29,2025-09-05\n",
      "SINGER,6.20,5.85,6.30,3.92,12.70,6.9,2025-09-05\n",
      "SIRI,1.48,1.42,1.48,1.11,1.94,3.5,2025-09-05\n",
      "SIS,21.80,21.50,21.90,17.60,31.25,0.93,2025-09-05\n",
      "SJWD,10.20,10.00,10.30,5.75,12.50,3.03,2025-09-05\n",
      "SKN,-,0.00,0.00,5.05,6.40,0.0,2025-09-05\n",
      "SKR,8.25,8.15,8.25,6.20,9.80,0.61,2025-09-05\n",
      "SMPC,9.05,9.00,9.05,7.80,9.95,0.56,2025-09-05\n",
      "SNC,5.90,5.80,5.90,4.96,7.35,0.0,2025-09-05\n",
      "SPALI,17.00,16.70,17.10,13.20,21.10,0.59,2025-09-05\n",
      "SPC,57.50,57.25,57.50,53.00,60.75,0.0,2025-09-05\n",
      "SPCG,8.30,8.25,8.35,6.60,9.40,0.61,2025-09-05\n",
      "SPRC,4.82,4.70,4.86,4.26,7.25,1.69,2025-09-05\n",
      "SPRIME,3.34,3.32,3.34,3.00,4.56,0.6,2025-09-05\n",
      "SSP,3.98,3.96,3.98,3.88,6.35,0.0,2025-09-05\n",
      "STA,12.70,12.20,12.80,10.30,25.75,4.1,2025-09-05\n",
      "STANLY,183.00,181.00,183.00,176.00,225.00,1.1,2025-09-05\n",
      "STGT,6.45,6.20,6.50,5.10,13.30,4.03,2025-09-05\n",
      "SUPER,0.15,0.14,0.16,0.12,0.32,7.14,2025-09-05\n",
      "SUPEREIF,5.30,5.30,5.35,4.72,7.05,0.0,2025-09-05\n",
      "SVI,5.85,5.80,5.90,5.55,9.40,0.0,2025-09-05\n",
      "SYNEX,12.60,12.50,12.70,9.30,16.70,1.61,2025-09-05\n",
      "TASCO,14.90,14.70,14.90,13.20,20.00,1.36,2025-09-05\n",
      "TCAP,50.75,50.50,51.00,44.25,53.50,0.0,2025-09-05\n",
      "TFFIF,5.90,5.85,5.90,5.25,7.20,0.0,2025-09-05\n",
      "TFG,4.90,4.84,4.98,3.02,6.10,-0.81,2025-09-05\n",
      "THANI,1.80,1.76,1.82,1.15,2.26,2.86,2025-09-05\n",
      "THG,6.55,6.45,6.65,6.45,28.24,1.55,2025-09-05\n",
      "TIPH,21.30,20.90,21.30,16.70,30.50,0.95,2025-09-05\n",
      "TIPCO,8.55,8.55,8.65,8.35,10.40,0.0,2025-09-05\n",
      "TISCO,101.50,101.50,102.50,95.00,102.50,-0.49,2025-09-05\n",
      "TK,4.46,4.26,4.46,3.28,5.45,5.69,2025-09-05\n",
      "TKN,5.80,5.80,5.90,5.00,11.80,0.0,2025-09-05\n",
      "TKS,6.15,6.05,6.20,4.90,8.10,0.82,2025-09-05\n",
      "TMT,3.10,3.08,3.10,2.60,5.40,0.0,2025-09-05\n",
      "TMW,53.50,52.75,53.75,47.00,66.75,0.47,2025-09-05\n",
      "TOA,15.20,15.00,15.20,9.35,20.50,1.33,2025-09-05\n",
      "TOP,33.75,33.50,34.25,21.00,55.50,0.75,2025-09-05\n",
      "TPIPL,0.70,0.69,0.72,0.70,1.29,-1.41,2025-09-05\n",
      "TPIPP,2.22,2.22,2.26,1.99,3.14,-0.89,2025-09-05\n",
      "TQM,13.50,13.40,13.60,12.20,33.25,1.5,2025-09-05\n",
      "TRUE,11.30,11.10,11.40,10.10,13.30,0.89,2025-09-05\n",
      "TSE,0.48,0.48,0.50,0.29,1.24,-2.04,2025-09-05\n",
      "TSTH,0.76,0.75,0.77,0.47,0.93,1.33,2025-09-05\n",
      "TTA,4.34,4.28,4.34,3.22,6.55,1.88,2025-09-05\n",
      "TTB,1.91,1.89,1.91,1.72,2.06,0.0,2025-09-05\n",
      "TTLPF,10.50,10.40,10.50,10.30,16.20,0.0,2025-09-05\n",
      "TTW,9.20,9.15,9.20,8.45,9.50,0.0,2025-09-05\n",
      "TU,12.50,12.50,12.70,8.60,15.60,-1.57,2025-09-05\n",
      "TVO,25.00,24.60,25.00,19.70,25.75,0.0,2025-09-05\n",
      "TYCN,-,0.00,0.00,1.62,2.62,0.0,2025-09-05\n",
      "UTP,7.70,7.60,7.70,7.20,11.30,1.32,2025-09-05\n",
      "VGI,2.10,2.08,2.14,1.86,3.68,0.0,2025-09-05\n",
      "VIBHA,1.47,1.44,1.47,1.37,2.30,1.38,2025-09-05\n",
      "VNG,2.02,1.99,2.02,1.89,3.82,1.51,2025-09-05\n",
      "WHA,3.70,3.66,3.76,2.26,6.20,1.09,2025-09-05\n",
      "WHAIR,5.50,5.45,5.55,4.12,6.75,0.92,2025-09-05\n",
      "WHART,9.00,8.90,9.00,8.55,10.80,0.56,2025-09-05\n",
      "WHAUP,3.90,3.88,3.98,2.76,5.50,1.04,2025-09-05\n",
      "WICE,2.98,2.94,2.98,2.34,6.95,0.68,2025-09-05\n",
      "WORK,4.20,4.20,4.22,3.82,10.40,-0.47,2025-09-05\n"
     ]
    }
   ],
   "source": [
    "df = pd.read_csv(input_file, header=None)\n",
    "out_df = get_stock_data(df)"
   ]
  },
  {
   "cell_type": "code",
   "execution_count": 13,
   "id": "d31edacf",
   "metadata": {},
   "outputs": [
    {
     "name": "stdout",
     "output_type": "stream",
     "text": [
      "End at:  09:43 PM\n"
     ]
    }
   ],
   "source": [
    "end_time = strftime(\"%I:%M %p\")\n",
    "print('End at: ', end_time)"
   ]
  },
  {
   "cell_type": "code",
   "execution_count": 14,
   "id": "b89c4ae7",
   "metadata": {},
   "outputs": [
    {
     "data": {
      "text/html": [
       "<div>\n",
       "<style scoped>\n",
       "    .dataframe tbody tr th:only-of-type {\n",
       "        vertical-align: middle;\n",
       "    }\n",
       "\n",
       "    .dataframe tbody tr th {\n",
       "        vertical-align: top;\n",
       "    }\n",
       "\n",
       "    .dataframe thead th {\n",
       "        text-align: right;\n",
       "    }\n",
       "</style>\n",
       "<table border=\"1\" class=\"dataframe\">\n",
       "  <thead>\n",
       "    <tr style=\"text-align: right;\">\n",
       "      <th></th>\n",
       "      <th>name</th>\n",
       "      <th>price</th>\n",
       "      <th>today_low</th>\n",
       "      <th>today_high</th>\n",
       "      <th>year_low</th>\n",
       "      <th>year_high</th>\n",
       "      <th>percent</th>\n",
       "      <th>updated_at</th>\n",
       "    </tr>\n",
       "  </thead>\n",
       "  <tbody>\n",
       "    <tr>\n",
       "      <th>160</th>\n",
       "      <td>SKN</td>\n",
       "      <td>-</td>\n",
       "      <td>0.00</td>\n",
       "      <td>0.00</td>\n",
       "      <td>5.05</td>\n",
       "      <td>6.40</td>\n",
       "      <td>0.0</td>\n",
       "      <td>2025-09-05</td>\n",
       "    </tr>\n",
       "    <tr>\n",
       "      <th>205</th>\n",
       "      <td>TYCN</td>\n",
       "      <td>-</td>\n",
       "      <td>0.00</td>\n",
       "      <td>0.00</td>\n",
       "      <td>1.62</td>\n",
       "      <td>2.62</td>\n",
       "      <td>0.0</td>\n",
       "      <td>2025-09-05</td>\n",
       "    </tr>\n",
       "  </tbody>\n",
       "</table>\n",
       "</div>"
      ],
      "text/plain": [
       "     name price today_low today_high year_low year_high  percent  updated_at\n",
       "160   SKN     -      0.00       0.00     5.05      6.40      0.0  2025-09-05\n",
       "205  TYCN     -      0.00       0.00     1.62      2.62      0.0  2025-09-05"
      ]
     },
     "execution_count": 14,
     "metadata": {},
     "output_type": "execute_result"
    }
   ],
   "source": [
    "out_df.query('price == \"-\"')"
   ]
  },
  {
   "cell_type": "code",
   "execution_count": 15,
   "id": "784f1b6d",
   "metadata": {},
   "outputs": [
    {
     "data": {
      "text/plain": [
       "(216, 8)"
      ]
     },
     "execution_count": 15,
     "metadata": {},
     "output_type": "execute_result"
    }
   ],
   "source": [
    "out_df.shape"
   ]
  },
  {
   "cell_type": "code",
   "execution_count": 16,
   "id": "6326d0c5",
   "metadata": {},
   "outputs": [],
   "source": [
    "out_df = out_df[out_df['name'] != 'BCT']"
   ]
  },
  {
   "cell_type": "code",
   "execution_count": 17,
   "id": "2a293f55-436e-45d1-9966-50d12c26e659",
   "metadata": {},
   "outputs": [],
   "source": [
    "out_df = out_df[out_df['name'] != 'LPF']"
   ]
  },
  {
   "cell_type": "code",
   "execution_count": 18,
   "id": "cc4b3547-5ea9-4ac6-bd11-896e67d464ed",
   "metadata": {},
   "outputs": [],
   "source": [
    "out_df = out_df[out_df['name'] != 'TYCN']"
   ]
  },
  {
   "cell_type": "code",
   "execution_count": 19,
   "id": "865622c2-dad3-4ba8-b35a-898461fe5e9a",
   "metadata": {},
   "outputs": [],
   "source": [
    "out_df = out_df[out_df['name'] != 'GRAMMY']"
   ]
  },
  {
   "cell_type": "code",
   "execution_count": 20,
   "id": "cb2d763d-5b75-4ace-b87a-f165c8e6cb91",
   "metadata": {},
   "outputs": [],
   "source": [
    "out_df = out_df[out_df['name'] != 'MST']"
   ]
  },
  {
   "cell_type": "code",
   "execution_count": 21,
   "id": "e65305f0-157a-4129-a758-15c02e8df06a",
   "metadata": {},
   "outputs": [],
   "source": [
    "out_df = out_df[out_df['name'] != 'SPC']"
   ]
  },
  {
   "cell_type": "code",
   "execution_count": 22,
   "id": "cb55b5f6-0679-4191-aeda-ab0cf45f18e7",
   "metadata": {},
   "outputs": [],
   "source": [
    "out_df = out_df[out_df['name'] != 'SPRIME']"
   ]
  },
  {
   "cell_type": "code",
   "execution_count": 23,
   "id": "981854f1-01a1-4e26-b2a9-4f58948a33ec",
   "metadata": {},
   "outputs": [],
   "source": [
    "out_df = out_df[out_df['name'] != 'FPT']"
   ]
  },
  {
   "cell_type": "code",
   "execution_count": 24,
   "id": "a2833967-e889-4ad5-97b2-8234ba35c31c",
   "metadata": {},
   "outputs": [],
   "source": [
    "out_df = out_df[out_df['name'] != 'GGC']"
   ]
  },
  {
   "cell_type": "code",
   "execution_count": 27,
   "id": "40da6b49-9c79-425a-9cae-a6608c2062a4",
   "metadata": {},
   "outputs": [],
   "source": [
    "out_df = out_df[out_df['name'] != 'SKN']"
   ]
  },
  {
   "cell_type": "code",
   "execution_count": 29,
   "id": "b2771ed1",
   "metadata": {},
   "outputs": [
    {
     "data": {
      "text/plain": [
       "(207, 8)"
      ]
     },
     "execution_count": 29,
     "metadata": {},
     "output_type": "execute_result"
    }
   ],
   "source": [
    "out_df.shape"
   ]
  },
  {
   "cell_type": "code",
   "execution_count": 31,
   "id": "eb2ffec6",
   "metadata": {},
   "outputs": [],
   "source": [
    "out_df['price'] = out_df['price'].astype('float')\n",
    "out_df['today_low'] = out_df['today_low'].astype('float')\n",
    "out_df['today_high'] = out_df['today_high'].astype('float')\n",
    "out_df['year_low'] = out_df['year_low'].astype('float')\n",
    "out_df['year_high'] = out_df['year_high'].astype('float')\n",
    "out_df['percent'] = out_df['percent'].astype('float')"
   ]
  },
  {
   "cell_type": "code",
   "execution_count": 33,
   "id": "f4fb1a3c",
   "metadata": {},
   "outputs": [],
   "source": [
    "sorted_out_df = out_df.sort_values('percent')"
   ]
  },
  {
   "cell_type": "code",
   "execution_count": 35,
   "id": "032f0eea",
   "metadata": {},
   "outputs": [
    {
     "data": {
      "text/html": [
       "<div>\n",
       "<style scoped>\n",
       "    .dataframe tbody tr th:only-of-type {\n",
       "        vertical-align: middle;\n",
       "    }\n",
       "\n",
       "    .dataframe tbody tr th {\n",
       "        vertical-align: top;\n",
       "    }\n",
       "\n",
       "    .dataframe thead th {\n",
       "        text-align: right;\n",
       "    }\n",
       "</style>\n",
       "<table border=\"1\" class=\"dataframe\">\n",
       "  <thead>\n",
       "    <tr style=\"text-align: right;\">\n",
       "      <th></th>\n",
       "      <th>name</th>\n",
       "      <th>price</th>\n",
       "      <th>today_low</th>\n",
       "      <th>today_high</th>\n",
       "      <th>year_low</th>\n",
       "      <th>year_high</th>\n",
       "      <th>percent</th>\n",
       "      <th>updated_at</th>\n",
       "    </tr>\n",
       "  </thead>\n",
       "  <tbody>\n",
       "    <tr>\n",
       "      <th>193</th>\n",
       "      <td>TPIPL</td>\n",
       "      <td>0.7</td>\n",
       "      <td>0.69</td>\n",
       "      <td>0.72</td>\n",
       "      <td>0.7</td>\n",
       "      <td>1.29</td>\n",
       "      <td>-1.41</td>\n",
       "      <td>2025-09-05</td>\n",
       "    </tr>\n",
       "  </tbody>\n",
       "</table>\n",
       "</div>"
      ],
      "text/plain": [
       "      name  price  today_low  today_high  year_low  year_high  percent  \\\n",
       "193  TPIPL    0.7       0.69        0.72       0.7       1.29    -1.41   \n",
       "\n",
       "     updated_at  \n",
       "193  2025-09-05  "
      ]
     },
     "execution_count": 35,
     "metadata": {},
     "output_type": "execute_result"
    }
   ],
   "source": [
    "sorted_out_df.query('today_low < year_low')"
   ]
  },
  {
   "cell_type": "code",
   "execution_count": 37,
   "id": "8e04b03d",
   "metadata": {},
   "outputs": [
    {
     "data": {
      "text/html": [
       "<div>\n",
       "<style scoped>\n",
       "    .dataframe tbody tr th:only-of-type {\n",
       "        vertical-align: middle;\n",
       "    }\n",
       "\n",
       "    .dataframe tbody tr th {\n",
       "        vertical-align: top;\n",
       "    }\n",
       "\n",
       "    .dataframe thead th {\n",
       "        text-align: right;\n",
       "    }\n",
       "</style>\n",
       "<table border=\"1\" class=\"dataframe\">\n",
       "  <thead>\n",
       "    <tr style=\"text-align: right;\">\n",
       "      <th></th>\n",
       "      <th>name</th>\n",
       "      <th>price</th>\n",
       "      <th>today_low</th>\n",
       "      <th>today_high</th>\n",
       "      <th>year_low</th>\n",
       "      <th>year_high</th>\n",
       "      <th>percent</th>\n",
       "      <th>updated_at</th>\n",
       "    </tr>\n",
       "  </thead>\n",
       "  <tbody>\n",
       "  </tbody>\n",
       "</table>\n",
       "</div>"
      ],
      "text/plain": [
       "Empty DataFrame\n",
       "Columns: [name, price, today_low, today_high, year_low, year_high, percent, updated_at]\n",
       "Index: []"
      ]
     },
     "execution_count": 37,
     "metadata": {},
     "output_type": "execute_result"
    }
   ],
   "source": [
    "sorted_out_df.query('today_high > year_high')"
   ]
  },
  {
   "cell_type": "code",
   "execution_count": 39,
   "id": "290a9607",
   "metadata": {},
   "outputs": [
    {
     "data": {
      "text/html": [
       "<div>\n",
       "<style scoped>\n",
       "    .dataframe tbody tr th:only-of-type {\n",
       "        vertical-align: middle;\n",
       "    }\n",
       "\n",
       "    .dataframe tbody tr th {\n",
       "        vertical-align: top;\n",
       "    }\n",
       "\n",
       "    .dataframe thead th {\n",
       "        text-align: right;\n",
       "    }\n",
       "</style>\n",
       "<table border=\"1\" class=\"dataframe\">\n",
       "  <thead>\n",
       "    <tr style=\"text-align: right;\">\n",
       "      <th></th>\n",
       "      <th>name</th>\n",
       "      <th>price</th>\n",
       "      <th>today_low</th>\n",
       "      <th>today_high</th>\n",
       "      <th>year_low</th>\n",
       "      <th>year_high</th>\n",
       "      <th>percent</th>\n",
       "      <th>updated_at</th>\n",
       "    </tr>\n",
       "  </thead>\n",
       "  <tbody>\n",
       "  </tbody>\n",
       "</table>\n",
       "</div>"
      ],
      "text/plain": [
       "Empty DataFrame\n",
       "Columns: [name, price, today_low, today_high, year_low, year_high, percent, updated_at]\n",
       "Index: []"
      ]
     },
     "execution_count": 39,
     "metadata": {},
     "output_type": "execute_result"
    }
   ],
   "source": [
    "out_df.query('today_high > year_high')"
   ]
  },
  {
   "cell_type": "code",
   "execution_count": 41,
   "id": "5fbeba56-2a63-4650-898b-6447a81f95f5",
   "metadata": {},
   "outputs": [],
   "source": [
    "file_name = \"Price-Hilo.csv\"\n",
    "output_file = os.path.join(dat_path, file_name)\n",
    "god_file = os.path.join(god_path, file_name)\n",
    "icd_file = os.path.join(icd_path, file_name)\n",
    "osd_file = os.path.join(osd_path, file_name)"
   ]
  },
  {
   "cell_type": "code",
   "execution_count": 43,
   "id": "da6183ac-2f05-4f67-b200-fe83634d29dc",
   "metadata": {},
   "outputs": [
    {
     "name": "stdout",
     "output_type": "stream",
     "text": [
      "output_file : C:\\Users\\PC1\\OneDrive\\A5\\Data\\Price-Hilo.csv\n",
      "icd_file : C:\\Users\\PC1\\iCloudDrive\\Data\\Price-Hilo.csv\n",
      "god_file : C:\\Users\\PC1\\OneDrive\\Imports\\santisoontarinka@gmail.com - Google Drive\\Data\\Price-Hilo.csv\n",
      "osd_file : C:\\Users\\PC1\\OneDrive\\Documents\\obsidian-git-sync\\Data\\Price-Hilo.csv\n"
     ]
    }
   ],
   "source": [
    "print(f\"output_file : {output_file}\") \n",
    "print(f\"icd_file : {icd_file}\") \n",
    "print(f\"god_file : {god_file}\") \n",
    "print(f\"osd_file : {osd_file}\") "
   ]
  },
  {
   "cell_type": "code",
   "execution_count": 45,
   "id": "8017b53b",
   "metadata": {},
   "outputs": [],
   "source": [
    "out_df.to_csv(output_file, index=False)  \n",
    "out_df.to_csv(god_file, index=False) \n",
    "out_df.to_csv(icd_file, index=False)  \n",
    "out_df.to_csv(osd_file, index=False) "
   ]
  },
  {
   "cell_type": "code",
   "execution_count": 47,
   "id": "80692fae-6308-4695-bcac-5124ce4d44e3",
   "metadata": {},
   "outputs": [
    {
     "name": "stdout",
     "output_type": "stream",
     "text": [
      "2025-09-05 21:47:37\n"
     ]
    }
   ],
   "source": [
    "# Get the current time\n",
    "current_time = datetime.now()\n",
    "# Format the time to remove milliseconds\n",
    "formatted_time = current_time.strftime(\"%Y-%m-%d %H:%M:%S\")\n",
    "print(formatted_time)"
   ]
  },
  {
   "cell_type": "code",
   "execution_count": null,
   "id": "ef2b1958-d5b3-4ae8-b179-6afa07dba2d0",
   "metadata": {},
   "outputs": [],
   "source": []
  }
 ],
 "metadata": {
  "kernelspec": {
   "display_name": "Python 3 (ipykernel)",
   "language": "python",
   "name": "python3"
  },
  "language_info": {
   "codemirror_mode": {
    "name": "ipython",
    "version": 3
   },
   "file_extension": ".py",
   "mimetype": "text/x-python",
   "name": "python",
   "nbconvert_exporter": "python",
   "pygments_lexer": "ipython3",
   "version": "3.12.3"
  }
 },
 "nbformat": 4,
 "nbformat_minor": 5
}
