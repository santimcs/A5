{
 "cells": [
  {
   "cell_type": "markdown",
   "id": "8fc27a80-5e71-4b48-ba9b-741744050465",
   "metadata": {},
   "source": [
    "### Start and Run All"
   ]
  },
  {
   "cell_type": "code",
   "execution_count": 2,
   "id": "d7cfc693",
   "metadata": {},
   "outputs": [
    {
     "name": "stdout",
     "output_type": "stream",
     "text": [
      "2025-09-19 20:23:41\n"
     ]
    }
   ],
   "source": [
    "import os\n",
    "import pandas as pd\n",
    "from urllib import request\n",
    "from bs4 import BeautifulSoup\n",
    "# from datetime import date, timedelta\n",
    "from datetime import datetime\n",
    "from time import sleep, strftime\n",
    "\n",
    "# Get the current time\n",
    "current_time = datetime.now()\n",
    "# Format the time to remove milliseconds\n",
    "formatted_time = current_time.strftime(\"%Y-%m-%d %H:%M:%S\")\n",
    "print(formatted_time)"
   ]
  },
  {
   "cell_type": "code",
   "execution_count": 3,
   "id": "0cbdda38-ec42-4470-bede-c468ba46f8d8",
   "metadata": {},
   "outputs": [],
   "source": [
    "url = \"https://www.set.or.th/en/market/product/stock/quote/\"\n",
    "percent_span = '' "
   ]
  },
  {
   "cell_type": "code",
   "execution_count": 4,
   "id": "6e4b7508-0071-480d-99c8-a6c070027294",
   "metadata": {},
   "outputs": [],
   "source": [
    "# Get the user's home directory\n",
    "user_path = os.path.expanduser('~')\n",
    "# Get the current working directory\n",
    "current_path = os.getcwd()\n",
    "# Derive the base directory (base_dir) by removing the last folder ('Daily')\n",
    "base_path = os.path.dirname(current_path)\n",
    "#C:\\Users\\PC1\\OneDrive\\A5\\Data\n",
    "dat_path = os.path.join(base_path, \"Data\")\n",
    "#C:\\Users\\PC1\\OneDrive\\Imports\\santisoontarinka@gmail.com - Google Drive\\Data>\n",
    "god_path = os.path.join(user_path, \"OneDrive\",\"Imports\",\"santisoontarinka@gmail.com - Google Drive\",\"Data\")\n",
    "#C:\\Users\\PC1\\iCloudDrive\\data\n",
    "icd_path = os.path.join(user_path, \"iCloudDrive\", \"Data\")\n",
    "#C:\\Users\\PC1\\OneDrive\\Documents\\obsidian-git-sync\\Data\n",
    "osd_path = os.path.join(user_path, \"OneDrive\",\"Documents\",\"obsidian-git-sync\",\"Data\")"
   ]
  },
  {
   "cell_type": "code",
   "execution_count": 5,
   "id": "07defeb3-a742-4e64-8089-7e4fe5b8b93c",
   "metadata": {},
   "outputs": [
    {
     "name": "stdout",
     "output_type": "stream",
     "text": [
      "User path: C:\\Users\\PC1\n",
      "Current path: C:\\Users\\PC1\\OneDrive\\A5\\Daily\n",
      "Base path: C:\\Users\\PC1\\OneDrive\\A5\n",
      "Data path : C:\\Users\\PC1\\OneDrive\\A5\\Data\n",
      "Google Drive path : C:\\Users\\PC1\\OneDrive\\Imports\\santisoontarinka@gmail.com - Google Drive\\Data\n",
      "iCloudDrive path : C:\\Users\\PC1\\iCloudDrive\\Data\n",
      "Obsidian path : C:\\Users\\PC1\\OneDrive\\Documents\\obsidian-git-sync\\Data\n"
     ]
    }
   ],
   "source": [
    "print(\"User path:\", user_path)\n",
    "print(f\"Current path: {current_path}\")\n",
    "print(f\"Base path: {base_path}\")\n",
    "print(f\"Data path : {dat_path}\") \n",
    "print(f\"Google Drive path : {god_path}\")\n",
    "print(f\"iCloudDrive path : {icd_path}\") \n",
    "print(f\"Obsidian path : {osd_path}\") "
   ]
  },
  {
   "cell_type": "code",
   "execution_count": 6,
   "id": "08576879-dc60-431b-a31a-e1893e2d7922",
   "metadata": {},
   "outputs": [
    {
     "name": "stdout",
     "output_type": "stream",
     "text": [
      "Input file : C:\\Users\\PC1\\OneDrive\\A5\\Data\\name-ttl.csv\n"
     ]
    }
   ],
   "source": [
    "file_name = \"name-ttl.csv\"\n",
    "input_file = os.path.join(dat_path, file_name)\n",
    "print(f\"Input file : {input_file}\") "
   ]
  },
  {
   "cell_type": "code",
   "execution_count": 7,
   "id": "9b9668db-0773-4de5-9bd4-864c377dab80",
   "metadata": {},
   "outputs": [],
   "source": [
    "file_name = \"price-hilo.csv\"\n",
    "output_file = os.path.join(dat_path, file_name)\n",
    "god_file = os.path.join(god_path, file_name)\n",
    "icd_file = os.path.join(icd_path, file_name)\n",
    "osd_file = os.path.join(osd_path, file_name)"
   ]
  },
  {
   "cell_type": "code",
   "execution_count": 8,
   "id": "66c38ef5-8643-4ad3-81ff-9e2275d426d5",
   "metadata": {},
   "outputs": [
    {
     "name": "stdout",
     "output_type": "stream",
     "text": [
      "Output file : C:\\Users\\PC1\\OneDrive\\A5\\Data\\price-hilo.csv\n",
      "icd_file : C:\\Users\\PC1\\iCloudDrive\\Data\\price-hilo.csv\n",
      "god_file : C:\\Users\\PC1\\OneDrive\\Imports\\santisoontarinka@gmail.com - Google Drive\\Data\\price-hilo.csv\n",
      "osd_file : C:\\Users\\PC1\\OneDrive\\Documents\\obsidian-git-sync\\Data\\price-hilo.csv\n"
     ]
    }
   ],
   "source": [
    "print(f\"Output file : {output_file}\") \n",
    "print(f\"icd_file : {icd_file}\") \n",
    "print(f\"god_file : {god_file}\") \n",
    "print(f\"osd_file : {osd_file}\")"
   ]
  },
  {
   "cell_type": "code",
   "execution_count": 9,
   "id": "c1ec2693",
   "metadata": {},
   "outputs": [],
   "source": [
    "def cvt_str_to_flt(input_str):\n",
    "    # Check for the special pattern and return 0\n",
    "    if input_str == '(-)':\n",
    "        return 0\n",
    "    \n",
    "    # Remove parentheses and percent sign\n",
    "    cleaned_str = input_str.replace('(', '').replace(')', '').replace('%', '')\n",
    "\n",
    "    # Convert to float\n",
    "    try:\n",
    "        return float(cleaned_str)\n",
    "    except ValueError:\n",
    "        # Handle the case where the conversion fails\n",
    "        return None\n",
    " "
   ]
  },
  {
   "cell_type": "code",
   "execution_count": 10,
   "id": "334bed1f",
   "metadata": {},
   "outputs": [],
   "source": [
    "def get_stock_data(in_df):\n",
    "\n",
    "    in_df.columns = ['name']\n",
    "    \n",
    "    output_columns = ['name', 'price', 'today_low', 'today_high', 'year_low', 'year_high', 'percent', 'updated_at']\n",
    "    # Initialize an empty DataFrame with specified columns\n",
    "    out_df = pd.DataFrame(columns=output_columns)\n",
    "    \n",
    "    for index, row in in_df.iterrows():\n",
    "        name = str(row['name']).upper()\n",
    "        response = request.urlopen(url + name + '/price')\n",
    "        html_page = BeautifulSoup(response, 'html.parser')\n",
    "        \n",
    "  #      price = html_page.find('div', class_='value text-white mb-0 me-2 lh-1 stock-info').text.strip()        \n",
    "  #      if (price == '-'):\n",
    "  #          price = '0.00'        \n",
    "\n",
    "        price_div = html_page.find('div', class_='value text-white mb-0 me-2 lh-1 stock-info')\n",
    "        if price_div:\n",
    "            price = price_div.text.strip()\n",
    "        else:\n",
    "            print(f\"Price div not found for {name}\")\n",
    "            price = '0.00'     \n",
    "            \n",
    "        # Try to find the <h3> tag with the class 'theme-success'\n",
    "        h3_tag = html_page.find('h3', class_='theme-success')\n",
    "        if h3_tag:\n",
    "        # Find all <span> tags within the found <h3> tag\n",
    "            span_tags = h3_tag.find_all('span')\n",
    "    \n",
    "            if len(span_tags) > 1:\n",
    "                # Extract the text from the second <span> tag\n",
    "                percent_span = span_tags[1].text\n",
    "                # print(percent_span)\n",
    "                \n",
    "        # Try to find the <h3> tag with the class 'theme-danger'\n",
    "        h3_tag = html_page.find('h3', class_='theme-danger')\n",
    "        if h3_tag:\n",
    "        # Find all <span> tags within the found <h3> tag\n",
    "            span_tags = h3_tag.find_all('span')\n",
    "    \n",
    "            if len(span_tags) > 1:\n",
    "                # Extract the text from the second <span> tag\n",
    "                percent_span = span_tags[1].text\n",
    "                # print(percent_span)    \n",
    "                \n",
    "        # Try to find the <h3> tag with the class 'theme-danger'\n",
    "        h3_tag = html_page.find('h3', class_='theme-normal')\n",
    "        if h3_tag:\n",
    "        # Find all <span> tags within the found <h3> tag\n",
    "            span_tags = h3_tag.find_all('span')\n",
    "    \n",
    "            if len(span_tags) > 1:\n",
    "                # Extract the text from the second <span> tag\n",
    "                percent_span = span_tags[1].text\n",
    "                # print(percent_span)   \n",
    "                \n",
    "        percent = cvt_str_to_flt(percent_span)\n",
    "                \n",
    "        values_low = html_page.find_all('span', class_='title-font-family fs-16px fw-bolder me-auto lh-1')\n",
    "        today_low = values_low[0].text\n",
    "        if (today_low == '-'):\n",
    "            today_low = '0.00'\n",
    "        \n",
    "        values_high = html_page.find_all('span', class_='title-font-family fs-16px fw-bolder lh-1')\n",
    "        today_high = values_high[0].text\n",
    "        if (today_high == '-'):\n",
    "            today_high = '0.00'         \n",
    "        \n",
    "        year_low = values_low[1].text        \n",
    "        year_high = values_high[1].text     \n",
    "        \n",
    "        # Find the div with the specific class, then find the span within it\n",
    "        div = html_page.find('div', class_='price-detail-date d-flex align-items-center text-nowrap fs-12px')\n",
    "        if div:\n",
    "            span = div.find('span')\n",
    "            if span:\n",
    "                text = span.get_text()\n",
    "#                 print(text)\n",
    "            else:\n",
    "                print(\"Span not found\")\n",
    "        else:\n",
    "            print(\"Div not found\")\n",
    "            \n",
    "        # Extract the date part from the string\n",
    "        # Assuming the date is always in the format 'dd Mon yyyy'\n",
    "        date_str = ' '.join(text.split()[2:5])\n",
    "\n",
    "        # Parse the date string into a datetime object\n",
    "        date_obj = datetime.strptime(date_str, '%d %b %Y')\n",
    "\n",
    "        # Format the datetime object to 'yyyy-mm-dd'\n",
    "        updated_at = date_obj.strftime('%Y-%m-%d')\n",
    "\n",
    "#         print(updated_at)\n",
    "        \n",
    "        # Append row to the DataFrame and print the row\n",
    "        out_df.loc[len(out_df)] = [name, price, today_low, today_high, year_low, year_high, percent, updated_at]\n",
    "#       print(out_df.iloc[-1].to_string(header=False, index=False)) \n",
    "        print(','.join(map(str, out_df.iloc[-1])))\n",
    "        sleep(1)\n",
    "        \n",
    "    return out_df  # return the final dataframe with all values populated"
   ]
  },
  {
   "cell_type": "code",
   "execution_count": 11,
   "id": "94abc8d4",
   "metadata": {},
   "outputs": [
    {
     "name": "stdout",
     "output_type": "stream",
     "text": [
      "Start at:  08:23 PM\n"
     ]
    }
   ],
   "source": [
    "start_time = strftime(\"%I:%M %p\")\n",
    "print('Start at: ', start_time)"
   ]
  },
  {
   "cell_type": "code",
   "execution_count": 12,
   "id": "23b565ec",
   "metadata": {
    "scrolled": true
   },
   "outputs": [
    {
     "name": "stdout",
     "output_type": "stream",
     "text": [
      "ACE,1.30,1.29,1.30,1.23,1.47,0.78,2025-09-19\n",
      "ADVANC,294.00,292.00,295.00,254.00,309.00,0.34,2025-09-19\n",
      "AEONTS,120.00,114.50,122.50,90.50,148.00,4.8,2025-09-19\n",
      "AH,14.00,13.90,14.10,10.00,23.20,0.0,2025-09-19\n",
      "AIE,1.17,1.17,1.19,0.72,1.80,0.0,2025-09-19\n",
      "AIMIRT,10.40,10.30,10.50,9.20,11.20,-0.95,2025-09-19\n",
      "AIT,4.94,4.94,4.98,3.92,5.30,-0.8,2025-09-19\n",
      "AJ,2.68,2.52,2.76,1.94,5.80,7.2,2025-09-19\n",
      "AMATA,17.20,17.10,17.40,11.20,31.00,0.58,2025-09-19\n",
      "ANAN,0.52,0.51,0.53,0.37,0.85,-1.89,2025-09-19\n",
      "AOT,39.00,38.75,40.00,26.75,65.00,-1.89,2025-09-19\n",
      "AP,8.90,8.60,8.90,5.60,10.50,2.3,2025-09-19\n",
      "ASIAN,7.20,7.20,7.30,6.50,9.50,-0.69,2025-09-19\n",
      "ASK,8.80,8.25,8.85,6.20,15.30,6.67,2025-09-19\n",
      "ASP,2.72,2.68,2.72,1.81,2.80,0.0,2025-09-19\n",
      "ASW,5.35,5.10,5.40,4.90,8.20,1.9,2025-09-19\n",
      "AWC,2.40,2.40,2.50,1.55,3.94,-2.44,2025-09-19\n",
      "BA,13.60,13.60,13.80,10.60,26.00,-1.45,2025-09-19\n",
      "BAM,8.20,8.00,8.30,5.35,10.20,2.5,2025-09-19\n",
      "BANPU,4.84,4.80,4.88,4.00,7.50,-0.41,2025-09-19\n",
      "BAY,23.60,23.50,23.70,20.70,27.75,0.43,2025-09-19\n",
      "BBL,147.50,147.50,149.50,131.00,161.50,-0.34,2025-09-19\n",
      "BCH,13.80,13.70,14.30,12.30,19.20,1.47,2025-09-19\n",
      "BCP,31.25,31.25,31.75,26.50,41.00,-0.79,2025-09-19\n",
      "BCPG,8.25,8.15,8.30,5.05,8.95,0.61,2025-09-19\n",
      "BCT,-,0.00,0.00,43.50,76.75,0.0,2025-09-19\n",
      "BDMS,20.70,20.70,21.00,19.80,31.25,-1.9,2025-09-19\n",
      "BE8,6.45,6.45,6.65,5.20,21.20,-0.77,2025-09-19\n",
      "BEAUTY,0.62,0.61,0.63,0.19,0.68,1.64,2025-09-19\n",
      "BEC,2.18,2.18,2.24,1.79,4.68,-1.8,2025-09-19\n",
      "BEM,5.15,5.15,5.30,4.56,8.30,-1.9,2025-09-19\n",
      "BGC,4.84,4.82,4.84,4.54,7.90,0.41,2025-09-19\n",
      "BGRIM,13.50,13.40,13.70,8.90,24.80,1.5,2025-09-19\n",
      "BH,181.00,178.00,185.00,130.00,280.00,-1.09,2025-09-19\n",
      "BJC,20.00,19.80,20.30,16.50,25.75,-1.48,2025-09-19\n",
      "BKIH,307.00,305.00,307.00,271.00,316.00,0.66,2025-09-19\n",
      "BLA,19.30,18.90,19.30,14.00,25.75,1.58,2025-09-19\n",
      "BLAND,0.53,0.52,0.54,0.38,0.69,1.92,2025-09-19\n",
      "BPP,8.30,8.25,8.40,6.20,13.60,0.61,2025-09-19\n",
      "BTS,3.22,3.22,3.26,3.04,6.40,-0.62,2025-09-19\n",
      "BTSGIF,2.64,2.62,2.68,2.46,3.48,-1.49,2025-09-19\n",
      "CBG,57.50,57.00,58.00,46.50,82.00,-0.86,2025-09-19\n",
      "CENTEL,32.50,32.50,33.75,19.40,41.25,-2.99,2025-09-19\n",
      "CHG,1.71,1.69,1.72,1.39,3.00,0.59,2025-09-19\n",
      "CK,17.50,17.20,17.60,10.20,21.00,0.57,2025-09-19\n",
      "CKP,2.88,2.86,2.92,2.10,4.04,-0.69,2025-09-19\n",
      "COM7,24.80,24.80,25.50,16.70,28.25,-1.78,2025-09-19\n",
      "CPALL,48.00,48.00,49.00,41.50,68.00,-1.54,2025-09-19\n",
      "CPF,23.20,22.80,23.30,19.80,26.50,0.43,2025-09-19\n",
      "CPN,56.25,56.00,57.00,41.00,68.75,-1.75,2025-09-19\n",
      "CPNCG,6.25,6.20,6.25,5.75,6.65,0.81,2025-09-19\n",
      "CPNREIT,11.50,11.50,11.90,10.20,13.60,-2.54,2025-09-19\n",
      "CRC,22.40,21.80,22.60,15.80,36.00,0.0,2025-09-19\n",
      "DCC,1.40,1.40,1.42,1.18,2.04,-0.71,2025-09-19\n",
      "DCON,0.26,0.26,0.28,0.23,0.41,-3.7,2025-09-19\n",
      "DELTA,161.00,161.00,164.50,51.25,173.50,-0.92,2025-09-19\n",
      "DIF,9.15,9.05,9.15,7.35,9.85,0.0,2025-09-19\n",
      "DOHOME,4.10,4.08,4.18,2.26,10.88,-0.97,2025-09-19\n",
      "DRT,5.40,5.40,5.50,4.42,8.15,-1.82,2025-09-19\n",
      "EA,3.60,3.54,3.72,1.73,6.77,0.56,2025-09-19\n",
      "EASTW,3.18,3.14,3.22,1.57,3.58,0.0,2025-09-19\n",
      "EGATIF,6.00,5.95,6.05,5.75,6.40,0.0,2025-09-19\n",
      "EGCO,116.50,115.00,116.50,85.00,128.50,0.87,2025-09-19\n",
      "EPG,3.22,3.22,3.32,2.12,5.25,-1.83,2025-09-19\n",
      "FORTH,9.35,9.35,10.00,6.05,14.80,-3.61,2025-09-19\n",
      "FPT,6.75,6.65,6.75,5.85,14.00,1.5,2025-09-19\n",
      "FSMART,8.90,8.45,9.00,5.35,9.15,2.89,2025-09-19\n",
      "FTREIT,10.10,10.00,10.20,8.60,11.10,1.0,2025-09-19\n",
      "GC,4.00,4.00,4.06,3.40,5.10,-1.48,2025-09-19\n",
      "GFPT,9.95,9.95,10.20,8.00,12.10,-1.49,2025-09-19\n",
      "GGC,3.84,3.80,3.86,3.20,5.45,-0.52,2025-09-19\n",
      "GLOBAL,8.05,8.05,8.45,4.16,16.27,-4.17,2025-09-19\n",
      "GPSC,40.75,39.50,40.75,22.40,49.75,1.24,2025-09-19\n",
      "GRAMMY,4.60,4.60,4.74,4.30,8.50,-2.95,2025-09-19\n",
      "GUNKUL,2.00,1.98,2.06,1.31,2.96,0.0,2025-09-19\n",
      "GVREIT,6.50,6.45,6.55,6.15,7.15,0.0,2025-09-19\n",
      "HANA,25.00,25.00,25.50,14.00,44.00,-0.99,2025-09-19\n",
      "HFT,4.16,4.16,4.22,3.32,4.76,-2.35,2025-09-19\n",
      "HMPRO,7.65,7.60,7.80,5.70,11.00,-0.65,2025-09-19\n",
      "HTC,15.00,15.00,15.10,14.50,17.70,0.0,2025-09-19\n",
      "ICHI,12.70,12.70,12.90,9.40,17.00,-0.78,2025-09-19\n",
      "III,4.94,4.92,4.98,4.18,7.20,0.41,2025-09-19\n",
      "ILM,14.60,14.60,14.80,11.50,18.90,-1.35,2025-09-19\n",
      "IMH,4.26,4.26,4.38,3.50,5.85,-2.74,2025-09-19\n",
      "IMPACT,10.30,10.30,10.40,9.25,12.80,0.0,2025-09-19\n",
      "INOX,0.41,0.40,0.42,0.35,0.67,0.0,2025-09-19\n",
      "IP,4.20,4.20,4.54,2.02,5.15,-1.41,2025-09-19\n",
      "IRPC,1.24,1.23,1.26,0.70,1.86,0.0,2025-09-19\n",
      "IVL,23.10,22.80,23.10,16.90,27.50,0.87,2025-09-19\n",
      "3BBIF,6.45,6.40,6.60,5.00,6.85,-3.01,2025-09-19\n",
      "JMART,9.85,9.75,10.10,5.20,16.80,-1.01,2025-09-19\n",
      "JMT,12.70,12.60,13.00,7.35,22.00,0.0,2025-09-19\n",
      "KBANK,164.50,163.00,165.50,145.00,173.00,1.23,2025-09-19\n",
      "KCE,25.00,25.00,25.75,13.70,40.75,-0.99,2025-09-19\n",
      "KEX,1.49,1.49,1.50,0.78,3.22,0.0,2025-09-19\n",
      "KGI,4.00,4.00,4.02,3.40,4.60,0.0,2025-09-19\n",
      "KKP,58.25,58.25,59.25,43.50,62.00,-1.27,2025-09-19\n",
      "KSL,1.40,1.39,1.41,1.25,2.36,0.0,2025-09-19\n",
      "KTB,25.25,25.25,25.75,19.70,26.50,0.0,2025-09-19\n",
      "KTC,30.50,30.50,31.50,21.80,52.25,0.0,2025-09-19\n",
      "KYE,291.00,291.00,291.00,280.00,324.00,0.0,2025-09-19\n",
      "LALIN,5.05,5.00,5.10,4.80,6.80,0.0,2025-09-19\n",
      "LANNA,15.90,15.80,16.00,14.10,17.10,0.0,2025-09-19\n",
      "LH,4.42,4.38,4.46,3.18,6.50,-0.9,2025-09-19\n",
      "LHFG,0.76,0.76,0.77,0.72,0.90,0.0,2025-09-19\n",
      "LHK,3.58,3.54,3.58,3.02,4.10,0.0,2025-09-19\n",
      "LIT,0.85,0.85,0.87,0.39,1.34,0.0,2025-09-19\n",
      "LPH,4.22,4.16,4.24,3.20,4.78,-0.47,2025-09-19\n",
      "LPN,1.77,1.75,1.79,1.61,3.38,0.0,2025-09-19\n",
      "M,32.00,31.50,32.00,13.80,32.50,1.59,2025-09-19\n",
      "MAJOR,7.90,7.85,8.05,7.35,16.00,-1.86,2025-09-19\n",
      "MBAX,1.46,1.42,1.46,1.17,3.10,0.69,2025-09-19\n",
      "MC,11.10,11.10,11.20,9.15,13.00,-0.89,2025-09-19\n",
      "MCS,8.40,8.40,8.45,5.80,9.20,0.0,2025-09-19\n",
      "MEGA,31.50,31.25,31.75,24.30,41.25,0.8,2025-09-19\n",
      "MINT,23.80,23.80,24.10,21.70,29.50,-0.83,2025-09-19\n",
      "MST,7.05,7.05,7.10,5.50,10.30,-0.7,2025-09-19\n",
      "MTC,42.00,42.00,43.50,33.75,54.00,-0.59,2025-09-19\n",
      "NER,4.24,4.10,4.24,3.88,5.65,0.95,2025-09-19\n",
      "NOBLE,2.20,2.20,2.24,1.60,3.36,0.0,2025-09-19\n",
      "ONEE,2.36,2.30,2.36,1.99,4.68,1.72,2025-09-19\n",
      "OR,13.80,13.60,14.00,10.10,17.80,0.0,2025-09-19\n",
      "ORI,2.90,2.90,3.02,1.50,5.55,-2.68,2025-09-19\n",
      "OSP,18.80,18.40,18.80,12.90,24.30,-0.53,2025-09-19\n",
      "PAP,2.00,2.00,2.06,1.31,2.96,1.01,2025-09-19\n",
      "PCSGH,3.14,3.12,3.14,2.46,4.66,0.0,2025-09-19\n",
      "PDG,2.74,2.74,2.78,2.36,2.88,-1.44,2025-09-19\n",
      "PLANB,4.72,4.68,4.90,4.08,8.60,-3.28,2025-09-19\n",
      "POPF,6.25,6.25,6.30,5.40,6.70,-0.79,2025-09-19\n",
      "PREB,3.64,3.58,3.64,3.34,5.55,0.0,2025-09-19\n",
      "PRM,6.80,6.70,6.85,5.10,9.30,0.0,2025-09-19\n",
      "PSH,4.34,4.34,4.56,3.66,9.75,-4.82,2025-09-19\n",
      "PSL,7.35,7.20,7.40,4.96,9.60,2.8,2025-09-19\n",
      "PTG,8.90,8.85,9.05,5.45,10.70,-1.11,2025-09-19\n",
      "PTL,12.00,10.90,12.20,9.20,14.40,12.15,2025-09-19\n",
      "PTT,33.25,32.75,33.50,27.00,34.75,0.76,2025-09-19\n",
      "PTTEP,115.00,115.00,116.00,93.00,141.00,0.0,2025-09-19\n",
      "PTTGC,27.50,27.00,27.75,14.20,32.75,0.92,2025-09-19\n",
      "QH,1.40,1.39,1.42,1.15,2.00,-1.41,2025-09-19\n",
      "RATCH,26.00,26.00,26.50,22.50,34.25,-0.95,2025-09-19\n",
      "RBF,4.12,4.08,4.18,3.04,7.40,0.49,2025-09-19\n",
      "RCL,27.50,27.50,28.25,18.20,31.75,0.0,2025-09-19\n",
      "RJH,13.40,13.30,13.60,11.50,26.25,0.0,2025-09-19\n",
      "ROJNA,4.92,4.92,5.05,4.14,7.50,-0.81,2025-09-19\n",
      "RS,0.32,0.30,0.33,0.19,6.30,0.0,2025-09-19\n",
      "S11,3.36,3.36,3.44,1.86,3.70,-2.33,2025-09-19\n",
      "SAPPE,34.50,34.25,35.00,27.50,83.00,-0.72,2025-09-19\n",
      "SAT,13.60,13.50,13.70,9.95,13.90,0.74,2025-09-19\n",
      "SAWAD,30.00,29.25,30.50,14.80,41.36,2.56,2025-09-19\n",
      "SC,2.04,2.00,2.04,1.40,3.22,0.0,2025-09-19\n",
      "SCB,126.00,125.00,127.00,108.50,133.00,0.8,2025-09-19\n",
      "SCC,226.00,226.00,229.00,124.50,255.00,-1.31,2025-09-19\n",
      "SCCC,149.00,149.00,151.00,138.50,177.50,-1.0,2025-09-19\n",
      "SCGP,18.60,18.60,19.00,10.70,32.25,-2.11,2025-09-19\n",
      "SENA,1.98,1.96,1.99,1.54,2.50,0.51,2025-09-19\n",
      "SGP,6.70,6.60,6.70,5.00,7.65,1.52,2025-09-19\n",
      "SINGER,7.45,7.40,7.70,3.92,12.70,0.0,2025-09-19\n",
      "SIRI,1.52,1.49,1.53,1.11,1.94,0.0,2025-09-19\n",
      "SIS,20.50,20.50,21.00,17.60,31.25,-1.91,2025-09-19\n",
      "SJWD,10.10,10.00,10.20,5.75,12.50,1.0,2025-09-19\n",
      "SKN,5.65,5.65,5.80,5.05,6.40,-1.74,2025-09-19\n",
      "SKR,8.10,8.00,8.10,6.20,9.80,1.25,2025-09-19\n",
      "SMPC,9.05,9.00,9.10,7.80,9.95,0.56,2025-09-19\n",
      "SNC,5.95,5.90,6.00,4.96,7.35,0.85,2025-09-19\n",
      "SPALI,18.10,17.60,18.10,13.20,21.10,0.56,2025-09-19\n",
      "SPC,58.00,57.75,58.00,53.00,60.75,0.0,2025-09-19\n",
      "SPCG,8.50,8.40,8.50,6.60,9.40,0.0,2025-09-19\n",
      "SPRC,5.00,4.98,5.05,4.26,7.25,0.0,2025-09-19\n",
      "SPRIME,3.52,3.48,3.54,3.00,4.56,0.57,2025-09-19\n",
      "SSP,3.94,3.92,3.98,3.88,6.30,0.0,2025-09-19\n",
      "STA,12.90,12.90,13.20,10.30,25.75,-0.77,2025-09-19\n",
      "STANLY,182.50,182.50,182.50,176.00,225.00,-0.27,2025-09-19\n",
      "STGT,7.10,6.85,7.10,5.10,12.80,4.41,2025-09-19\n",
      "SUPER,0.13,0.13,0.15,0.12,0.32,-7.14,2025-09-19\n",
      "SUPEREIF,5.50,5.50,6.35,4.72,7.05,0.0,2025-09-19\n",
      "SVI,6.10,5.95,6.10,5.55,9.40,0.83,2025-09-19\n",
      "SYNEX,12.60,12.40,12.60,9.30,16.70,0.0,2025-09-19\n",
      "TASCO,15.20,15.20,15.30,13.20,20.00,0.0,2025-09-19\n",
      "TCAP,50.50,50.50,51.00,44.25,53.00,-0.49,2025-09-19\n",
      "TFFIF,6.10,6.05,6.15,5.25,7.05,-0.81,2025-09-19\n",
      "TFG,5.25,5.20,5.30,3.02,6.10,0.0,2025-09-19\n",
      "THANI,1.76,1.76,1.85,1.15,2.26,-3.83,2025-09-19\n",
      "THG,6.30,6.30,6.50,6.15,23.57,-3.08,2025-09-19\n",
      "TIPH,22.70,22.70,23.20,16.70,30.50,-0.87,2025-09-19\n",
      "TIPCO,8.55,8.50,8.60,8.35,10.40,0.0,2025-09-19\n",
      "TISCO,101.50,100.00,101.50,95.00,103.00,1.5,2025-09-19\n",
      "TK,4.86,4.80,4.88,3.28,5.45,0.0,2025-09-19\n",
      "TKN,5.80,5.80,6.05,5.00,11.80,-4.13,2025-09-19\n",
      "TKS,6.00,5.95,6.10,4.90,8.00,-1.64,2025-09-19\n",
      "TMT,3.12,3.08,3.14,2.60,5.40,-0.64,2025-09-19\n",
      "TMW,53.50,53.00,53.75,47.00,66.75,-0.47,2025-09-19\n",
      "TOA,14.30,14.20,14.70,9.35,20.50,0.0,2025-09-19\n",
      "TOP,37.00,36.25,37.00,21.00,52.25,1.37,2025-09-19\n",
      "TPIPL,0.82,0.81,0.83,0.69,1.27,1.23,2025-09-19\n",
      "TPIPP,2.26,2.24,2.26,1.99,3.12,0.89,2025-09-19\n",
      "TQM,14.00,14.00,15.50,12.20,33.25,-7.28,2025-09-19\n",
      "TRUE,10.80,10.80,11.20,10.10,13.30,-4.42,2025-09-19\n",
      "TSE,0.64,0.59,0.66,0.29,1.24,6.67,2025-09-19\n",
      "TSTH,0.73,0.73,0.74,0.47,0.93,-1.35,2025-09-19\n",
      "TTA,4.92,4.90,5.00,3.22,6.55,1.23,2025-09-19\n",
      "TTB,1.87,1.87,1.89,1.72,2.02,0.0,2025-09-19\n",
      "TTLPF,10.70,10.60,10.70,10.30,16.00,0.94,2025-09-19\n",
      "TTW,9.05,9.00,9.05,8.45,9.45,0.56,2025-09-19\n",
      "TU,12.20,12.20,12.40,8.60,15.50,-0.81,2025-09-19\n",
      "TVO,25.00,25.00,25.75,19.70,26.00,-1.96,2025-09-19\n",
      "TYCN,1.77,1.77,1.77,1.62,2.62,-1.67,2025-09-19\n",
      "UTP,7.85,7.75,7.85,7.20,11.20,0.64,2025-09-19\n",
      "VGI,1.88,1.88,1.92,1.86,3.68,-1.05,2025-09-19\n",
      "VIBHA,1.46,1.46,1.48,1.37,2.24,-0.68,2025-09-19\n",
      "VNG,2.16,2.14,2.20,1.89,3.82,0.0,2025-09-19\n",
      "WHA,3.78,3.72,3.78,2.26,6.20,1.07,2025-09-19\n",
      "WHAIR,6.10,6.10,6.15,4.12,6.75,0.0,2025-09-19\n",
      "WHART,9.85,9.70,9.85,8.55,10.70,0.0,2025-09-19\n",
      "WHAUP,4.10,4.06,4.12,2.76,5.50,0.99,2025-09-19\n",
      "WICE,3.08,3.08,3.14,2.34,6.95,1.32,2025-09-19\n",
      "WORK,4.30,4.24,4.30,3.82,10.00,0.94,2025-09-19\n"
     ]
    }
   ],
   "source": [
    "df = pd.read_csv(input_file, header=None)\n",
    "out_df = get_stock_data(df)"
   ]
  },
  {
   "cell_type": "code",
   "execution_count": 13,
   "id": "d31edacf",
   "metadata": {},
   "outputs": [
    {
     "name": "stdout",
     "output_type": "stream",
     "text": [
      "End at:  08:28 PM\n"
     ]
    }
   ],
   "source": [
    "end_time = strftime(\"%I:%M %p\")\n",
    "print('End at: ', end_time)"
   ]
  },
  {
   "cell_type": "code",
   "execution_count": 14,
   "id": "b89c4ae7",
   "metadata": {},
   "outputs": [
    {
     "data": {
      "text/html": [
       "<div>\n",
       "<style scoped>\n",
       "    .dataframe tbody tr th:only-of-type {\n",
       "        vertical-align: middle;\n",
       "    }\n",
       "\n",
       "    .dataframe tbody tr th {\n",
       "        vertical-align: top;\n",
       "    }\n",
       "\n",
       "    .dataframe thead th {\n",
       "        text-align: right;\n",
       "    }\n",
       "</style>\n",
       "<table border=\"1\" class=\"dataframe\">\n",
       "  <thead>\n",
       "    <tr style=\"text-align: right;\">\n",
       "      <th></th>\n",
       "      <th>name</th>\n",
       "      <th>price</th>\n",
       "      <th>today_low</th>\n",
       "      <th>today_high</th>\n",
       "      <th>year_low</th>\n",
       "      <th>year_high</th>\n",
       "      <th>percent</th>\n",
       "      <th>updated_at</th>\n",
       "    </tr>\n",
       "  </thead>\n",
       "  <tbody>\n",
       "    <tr>\n",
       "      <th>25</th>\n",
       "      <td>BCT</td>\n",
       "      <td>-</td>\n",
       "      <td>0.00</td>\n",
       "      <td>0.00</td>\n",
       "      <td>43.50</td>\n",
       "      <td>76.75</td>\n",
       "      <td>0.0</td>\n",
       "      <td>2025-09-19</td>\n",
       "    </tr>\n",
       "  </tbody>\n",
       "</table>\n",
       "</div>"
      ],
      "text/plain": [
       "   name price today_low today_high year_low year_high  percent  updated_at\n",
       "25  BCT     -      0.00       0.00    43.50     76.75      0.0  2025-09-19"
      ]
     },
     "execution_count": 14,
     "metadata": {},
     "output_type": "execute_result"
    }
   ],
   "source": [
    "out_df.query('price == \"-\"')"
   ]
  },
  {
   "cell_type": "code",
   "execution_count": 15,
   "id": "784f1b6d",
   "metadata": {},
   "outputs": [
    {
     "data": {
      "text/plain": [
       "(216, 8)"
      ]
     },
     "execution_count": 15,
     "metadata": {},
     "output_type": "execute_result"
    }
   ],
   "source": [
    "out_df.shape"
   ]
  },
  {
   "cell_type": "code",
   "execution_count": 16,
   "id": "6326d0c5",
   "metadata": {},
   "outputs": [],
   "source": [
    "out_df = out_df[out_df['name'] != 'BCT']"
   ]
  },
  {
   "cell_type": "code",
   "execution_count": 17,
   "id": "2a293f55-436e-45d1-9966-50d12c26e659",
   "metadata": {},
   "outputs": [],
   "source": [
    "out_df = out_df[out_df['name'] != 'LPF']"
   ]
  },
  {
   "cell_type": "code",
   "execution_count": 18,
   "id": "cc4b3547-5ea9-4ac6-bd11-896e67d464ed",
   "metadata": {},
   "outputs": [],
   "source": [
    "out_df = out_df[out_df['name'] != 'TYCN']"
   ]
  },
  {
   "cell_type": "code",
   "execution_count": 19,
   "id": "865622c2-dad3-4ba8-b35a-898461fe5e9a",
   "metadata": {},
   "outputs": [],
   "source": [
    "out_df = out_df[out_df['name'] != 'GRAMMY']"
   ]
  },
  {
   "cell_type": "code",
   "execution_count": 20,
   "id": "cb2d763d-5b75-4ace-b87a-f165c8e6cb91",
   "metadata": {},
   "outputs": [],
   "source": [
    "out_df = out_df[out_df['name'] != 'MST']"
   ]
  },
  {
   "cell_type": "code",
   "execution_count": 21,
   "id": "e65305f0-157a-4129-a758-15c02e8df06a",
   "metadata": {},
   "outputs": [],
   "source": [
    "out_df = out_df[out_df['name'] != 'SPC']"
   ]
  },
  {
   "cell_type": "code",
   "execution_count": 22,
   "id": "cb55b5f6-0679-4191-aeda-ab0cf45f18e7",
   "metadata": {},
   "outputs": [],
   "source": [
    "out_df = out_df[out_df['name'] != 'SPRIME']"
   ]
  },
  {
   "cell_type": "code",
   "execution_count": 23,
   "id": "981854f1-01a1-4e26-b2a9-4f58948a33ec",
   "metadata": {},
   "outputs": [],
   "source": [
    "out_df = out_df[out_df['name'] != 'FPT']"
   ]
  },
  {
   "cell_type": "code",
   "execution_count": 24,
   "id": "a2833967-e889-4ad5-97b2-8234ba35c31c",
   "metadata": {},
   "outputs": [],
   "source": [
    "out_df = out_df[out_df['name'] != 'GGC']"
   ]
  },
  {
   "cell_type": "code",
   "execution_count": 25,
   "id": "40da6b49-9c79-425a-9cae-a6608c2062a4",
   "metadata": {},
   "outputs": [],
   "source": [
    "out_df = out_df[out_df['name'] != 'SKN']"
   ]
  },
  {
   "cell_type": "code",
   "execution_count": 26,
   "id": "390bf9c1-c27e-4f76-b69c-4a64e6f8f737",
   "metadata": {},
   "outputs": [],
   "source": [
    "out_df = out_df[out_df['name'] != 'KYE']"
   ]
  },
  {
   "cell_type": "code",
   "execution_count": 27,
   "id": "b2771ed1",
   "metadata": {},
   "outputs": [
    {
     "data": {
      "text/plain": [
       "(206, 8)"
      ]
     },
     "execution_count": 27,
     "metadata": {},
     "output_type": "execute_result"
    }
   ],
   "source": [
    "out_df.shape"
   ]
  },
  {
   "cell_type": "code",
   "execution_count": 28,
   "id": "eb2ffec6",
   "metadata": {},
   "outputs": [],
   "source": [
    "out_df['price'] = out_df['price'].astype('float')\n",
    "out_df['today_low'] = out_df['today_low'].astype('float')\n",
    "out_df['today_high'] = out_df['today_high'].astype('float')\n",
    "out_df['year_low'] = out_df['year_low'].astype('float')\n",
    "out_df['year_high'] = out_df['year_high'].astype('float')\n",
    "out_df['percent'] = out_df['percent'].astype('float')"
   ]
  },
  {
   "cell_type": "code",
   "execution_count": 29,
   "id": "f4fb1a3c",
   "metadata": {},
   "outputs": [],
   "source": [
    "sorted_out_df = out_df.sort_values('percent')"
   ]
  },
  {
   "cell_type": "code",
   "execution_count": 30,
   "id": "032f0eea",
   "metadata": {},
   "outputs": [
    {
     "data": {
      "text/html": [
       "<div>\n",
       "<style scoped>\n",
       "    .dataframe tbody tr th:only-of-type {\n",
       "        vertical-align: middle;\n",
       "    }\n",
       "\n",
       "    .dataframe tbody tr th {\n",
       "        vertical-align: top;\n",
       "    }\n",
       "\n",
       "    .dataframe thead th {\n",
       "        text-align: right;\n",
       "    }\n",
       "</style>\n",
       "<table border=\"1\" class=\"dataframe\">\n",
       "  <thead>\n",
       "    <tr style=\"text-align: right;\">\n",
       "      <th></th>\n",
       "      <th>name</th>\n",
       "      <th>price</th>\n",
       "      <th>today_low</th>\n",
       "      <th>today_high</th>\n",
       "      <th>year_low</th>\n",
       "      <th>year_high</th>\n",
       "      <th>percent</th>\n",
       "      <th>updated_at</th>\n",
       "    </tr>\n",
       "  </thead>\n",
       "  <tbody>\n",
       "  </tbody>\n",
       "</table>\n",
       "</div>"
      ],
      "text/plain": [
       "Empty DataFrame\n",
       "Columns: [name, price, today_low, today_high, year_low, year_high, percent, updated_at]\n",
       "Index: []"
      ]
     },
     "execution_count": 30,
     "metadata": {},
     "output_type": "execute_result"
    }
   ],
   "source": [
    "sorted_out_df.query('today_low < year_low')"
   ]
  },
  {
   "cell_type": "code",
   "execution_count": 31,
   "id": "8e04b03d",
   "metadata": {},
   "outputs": [
    {
     "data": {
      "text/html": [
       "<div>\n",
       "<style scoped>\n",
       "    .dataframe tbody tr th:only-of-type {\n",
       "        vertical-align: middle;\n",
       "    }\n",
       "\n",
       "    .dataframe tbody tr th {\n",
       "        vertical-align: top;\n",
       "    }\n",
       "\n",
       "    .dataframe thead th {\n",
       "        text-align: right;\n",
       "    }\n",
       "</style>\n",
       "<table border=\"1\" class=\"dataframe\">\n",
       "  <thead>\n",
       "    <tr style=\"text-align: right;\">\n",
       "      <th></th>\n",
       "      <th>name</th>\n",
       "      <th>price</th>\n",
       "      <th>today_low</th>\n",
       "      <th>today_high</th>\n",
       "      <th>year_low</th>\n",
       "      <th>year_high</th>\n",
       "      <th>percent</th>\n",
       "      <th>updated_at</th>\n",
       "    </tr>\n",
       "  </thead>\n",
       "  <tbody>\n",
       "  </tbody>\n",
       "</table>\n",
       "</div>"
      ],
      "text/plain": [
       "Empty DataFrame\n",
       "Columns: [name, price, today_low, today_high, year_low, year_high, percent, updated_at]\n",
       "Index: []"
      ]
     },
     "execution_count": 31,
     "metadata": {},
     "output_type": "execute_result"
    }
   ],
   "source": [
    "sorted_out_df.query('today_high > year_high')"
   ]
  },
  {
   "cell_type": "code",
   "execution_count": 32,
   "id": "290a9607",
   "metadata": {},
   "outputs": [
    {
     "data": {
      "text/html": [
       "<div>\n",
       "<style scoped>\n",
       "    .dataframe tbody tr th:only-of-type {\n",
       "        vertical-align: middle;\n",
       "    }\n",
       "\n",
       "    .dataframe tbody tr th {\n",
       "        vertical-align: top;\n",
       "    }\n",
       "\n",
       "    .dataframe thead th {\n",
       "        text-align: right;\n",
       "    }\n",
       "</style>\n",
       "<table border=\"1\" class=\"dataframe\">\n",
       "  <thead>\n",
       "    <tr style=\"text-align: right;\">\n",
       "      <th></th>\n",
       "      <th>name</th>\n",
       "      <th>price</th>\n",
       "      <th>today_low</th>\n",
       "      <th>today_high</th>\n",
       "      <th>year_low</th>\n",
       "      <th>year_high</th>\n",
       "      <th>percent</th>\n",
       "      <th>updated_at</th>\n",
       "    </tr>\n",
       "  </thead>\n",
       "  <tbody>\n",
       "  </tbody>\n",
       "</table>\n",
       "</div>"
      ],
      "text/plain": [
       "Empty DataFrame\n",
       "Columns: [name, price, today_low, today_high, year_low, year_high, percent, updated_at]\n",
       "Index: []"
      ]
     },
     "execution_count": 32,
     "metadata": {},
     "output_type": "execute_result"
    }
   ],
   "source": [
    "out_df.query('today_high > year_high')"
   ]
  },
  {
   "cell_type": "code",
   "execution_count": 33,
   "id": "5fbeba56-2a63-4650-898b-6447a81f95f5",
   "metadata": {},
   "outputs": [],
   "source": [
    "file_name = \"Price-Hilo.csv\"\n",
    "output_file = os.path.join(dat_path, file_name)\n",
    "god_file = os.path.join(god_path, file_name)\n",
    "icd_file = os.path.join(icd_path, file_name)\n",
    "osd_file = os.path.join(osd_path, file_name)"
   ]
  },
  {
   "cell_type": "code",
   "execution_count": 34,
   "id": "da6183ac-2f05-4f67-b200-fe83634d29dc",
   "metadata": {},
   "outputs": [
    {
     "name": "stdout",
     "output_type": "stream",
     "text": [
      "output_file : C:\\Users\\PC1\\OneDrive\\A5\\Data\\Price-Hilo.csv\n",
      "icd_file : C:\\Users\\PC1\\iCloudDrive\\Data\\Price-Hilo.csv\n",
      "god_file : C:\\Users\\PC1\\OneDrive\\Imports\\santisoontarinka@gmail.com - Google Drive\\Data\\Price-Hilo.csv\n",
      "osd_file : C:\\Users\\PC1\\OneDrive\\Documents\\obsidian-git-sync\\Data\\Price-Hilo.csv\n"
     ]
    }
   ],
   "source": [
    "print(f\"output_file : {output_file}\") \n",
    "print(f\"icd_file : {icd_file}\") \n",
    "print(f\"god_file : {god_file}\") \n",
    "print(f\"osd_file : {osd_file}\") "
   ]
  },
  {
   "cell_type": "code",
   "execution_count": 35,
   "id": "8017b53b",
   "metadata": {},
   "outputs": [],
   "source": [
    "out_df.to_csv(output_file, index=False)  \n",
    "out_df.to_csv(god_file, index=False) \n",
    "out_df.to_csv(icd_file, index=False)  \n",
    "out_df.to_csv(osd_file, index=False) "
   ]
  },
  {
   "cell_type": "code",
   "execution_count": 36,
   "id": "80692fae-6308-4695-bcac-5124ce4d44e3",
   "metadata": {},
   "outputs": [
    {
     "name": "stdout",
     "output_type": "stream",
     "text": [
      "2025-09-19 20:28:48\n"
     ]
    }
   ],
   "source": [
    "# Get the current time\n",
    "current_time = datetime.now()\n",
    "# Format the time to remove milliseconds\n",
    "formatted_time = current_time.strftime(\"%Y-%m-%d %H:%M:%S\")\n",
    "print(formatted_time)"
   ]
  },
  {
   "cell_type": "code",
   "execution_count": null,
   "id": "ef2b1958-d5b3-4ae8-b179-6afa07dba2d0",
   "metadata": {},
   "outputs": [],
   "source": []
  }
 ],
 "metadata": {
  "kernelspec": {
   "display_name": "Python 3 (ipykernel)",
   "language": "python",
   "name": "python3"
  },
  "language_info": {
   "codemirror_mode": {
    "name": "ipython",
    "version": 3
   },
   "file_extension": ".py",
   "mimetype": "text/x-python",
   "name": "python",
   "nbconvert_exporter": "python",
   "pygments_lexer": "ipython3",
   "version": "3.12.3"
  }
 },
 "nbformat": 4,
 "nbformat_minor": 5
}
