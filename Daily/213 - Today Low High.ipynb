{
 "cells": [
  {
   "cell_type": "markdown",
   "id": "930356c6",
   "metadata": {},
   "source": [
    "### Start and Run All"
   ]
  },
  {
   "cell_type": "code",
   "execution_count": 2,
   "id": "d7cfc693",
   "metadata": {},
   "outputs": [
    {
     "name": "stdout",
     "output_type": "stream",
     "text": [
      "2025-08-19 20:49:01\n"
     ]
    }
   ],
   "source": [
    "import os\n",
    "import pandas as pd\n",
    "from urllib import request\n",
    "from bs4 import BeautifulSoup\n",
    "# from datetime import date, timedelta\n",
    "from datetime import datetime\n",
    "from time import sleep, strftime\n",
    "\n",
    "# Get the current time\n",
    "current_time = datetime.now()\n",
    "# Format the time to remove milliseconds\n",
    "formatted_time = current_time.strftime(\"%Y-%m-%d %H:%M:%S\")\n",
    "print(formatted_time)"
   ]
  },
  {
   "cell_type": "code",
   "execution_count": 3,
   "id": "0cbdda38-ec42-4470-bede-c468ba46f8d8",
   "metadata": {},
   "outputs": [],
   "source": [
    "url = \"https://www.set.or.th/en/market/product/stock/quote/\"\n",
    "percent_span = '' "
   ]
  },
  {
   "cell_type": "code",
   "execution_count": 4,
   "id": "6e4b7508-0071-480d-99c8-a6c070027294",
   "metadata": {},
   "outputs": [],
   "source": [
    "# Get the user's home directory\n",
    "user_path = os.path.expanduser('~')\n",
    "# Get the current working directory\n",
    "current_path = os.getcwd()\n",
    "# Derive the base directory (base_dir) by removing the last folder ('Daily')\n",
    "base_path = os.path.dirname(current_path)\n",
    "#C:\\Users\\PC1\\OneDrive\\A5\\Data\n",
    "dat_path = os.path.join(base_path, \"Data\")\n",
    "#C:\\Users\\PC1\\OneDrive\\Imports\\santisoontarinka@gmail.com - Google Drive\\Data>\n",
    "god_path = os.path.join(user_path, \"OneDrive\",\"Imports\",\"santisoontarinka@gmail.com - Google Drive\",\"Data\")\n",
    "#C:\\Users\\PC1\\iCloudDrive\\data\n",
    "icd_path = os.path.join(user_path, \"iCloudDrive\", \"Data\")\n",
    "#C:\\Users\\PC1\\OneDrive\\Documents\\obsidian-git-sync\\Data\n",
    "osd_path = os.path.join(user_path, \"OneDrive\",\"Documents\",\"obsidian-git-sync\",\"Data\")"
   ]
  },
  {
   "cell_type": "code",
   "execution_count": 5,
   "id": "07defeb3-a742-4e64-8089-7e4fe5b8b93c",
   "metadata": {},
   "outputs": [
    {
     "name": "stdout",
     "output_type": "stream",
     "text": [
      "User path: C:\\Users\\PC1\n",
      "Current path: C:\\Users\\PC1\\OneDrive\\A5\\Daily\n",
      "Base path: C:\\Users\\PC1\\OneDrive\\A5\n",
      "Data path : C:\\Users\\PC1\\OneDrive\\A5\\Data\n",
      "Google Drive path : C:\\Users\\PC1\\OneDrive\\Imports\\santisoontarinka@gmail.com - Google Drive\\Data\n",
      "iCloudDrive path : C:\\Users\\PC1\\iCloudDrive\\Data\n",
      "Obsidian path : C:\\Users\\PC1\\OneDrive\\Documents\\obsidian-git-sync\\Data\n"
     ]
    }
   ],
   "source": [
    "print(\"User path:\", user_path)\n",
    "print(f\"Current path: {current_path}\")\n",
    "print(f\"Base path: {base_path}\")\n",
    "print(f\"Data path : {dat_path}\") \n",
    "print(f\"Google Drive path : {god_path}\")\n",
    "print(f\"iCloudDrive path : {icd_path}\") \n",
    "print(f\"Obsidian path : {osd_path}\") "
   ]
  },
  {
   "cell_type": "code",
   "execution_count": 6,
   "id": "08576879-dc60-431b-a31a-e1893e2d7922",
   "metadata": {},
   "outputs": [
    {
     "name": "stdout",
     "output_type": "stream",
     "text": [
      "Input file : C:\\Users\\PC1\\OneDrive\\A5\\Data\\name-ttl.csv\n"
     ]
    }
   ],
   "source": [
    "file_name = \"name-ttl.csv\"\n",
    "input_file = os.path.join(dat_path, file_name)\n",
    "print(f\"Input file : {input_file}\") "
   ]
  },
  {
   "cell_type": "code",
   "execution_count": 7,
   "id": "9b9668db-0773-4de5-9bd4-864c377dab80",
   "metadata": {},
   "outputs": [],
   "source": [
    "file_name = \"price-hilo.csv\"\n",
    "output_file = os.path.join(dat_path, file_name)\n",
    "god_file = os.path.join(god_path, file_name)\n",
    "icd_file = os.path.join(icd_path, file_name)\n",
    "osd_file = os.path.join(osd_path, file_name)"
   ]
  },
  {
   "cell_type": "code",
   "execution_count": 8,
   "id": "66c38ef5-8643-4ad3-81ff-9e2275d426d5",
   "metadata": {},
   "outputs": [
    {
     "name": "stdout",
     "output_type": "stream",
     "text": [
      "Output file : C:\\Users\\PC1\\OneDrive\\A5\\Data\\price-hilo.csv\n",
      "icd_file : C:\\Users\\PC1\\iCloudDrive\\Data\\price-hilo.csv\n",
      "god_file : C:\\Users\\PC1\\OneDrive\\Imports\\santisoontarinka@gmail.com - Google Drive\\Data\\price-hilo.csv\n",
      "osd_file : C:\\Users\\PC1\\OneDrive\\Documents\\obsidian-git-sync\\Data\\price-hilo.csv\n"
     ]
    }
   ],
   "source": [
    "print(f\"Output file : {output_file}\") \n",
    "print(f\"icd_file : {icd_file}\") \n",
    "print(f\"god_file : {god_file}\") \n",
    "print(f\"osd_file : {osd_file}\")"
   ]
  },
  {
   "cell_type": "code",
   "execution_count": 9,
   "id": "c1ec2693",
   "metadata": {},
   "outputs": [],
   "source": [
    "def cvt_str_to_flt(input_str):\n",
    "    # Check for the special pattern and return 0\n",
    "    if input_str == '(-)':\n",
    "        return 0\n",
    "    \n",
    "    # Remove parentheses and percent sign\n",
    "    cleaned_str = input_str.replace('(', '').replace(')', '').replace('%', '')\n",
    "\n",
    "    # Convert to float\n",
    "    try:\n",
    "        return float(cleaned_str)\n",
    "    except ValueError:\n",
    "        # Handle the case where the conversion fails\n",
    "        return None\n",
    " "
   ]
  },
  {
   "cell_type": "code",
   "execution_count": 10,
   "id": "334bed1f",
   "metadata": {},
   "outputs": [],
   "source": [
    "def get_stock_data(in_df):\n",
    "\n",
    "    in_df.columns = ['name']\n",
    "    \n",
    "    output_columns = ['name', 'price', 'today_low', 'today_high', 'year_low', 'year_high', 'percent', 'updated_at']\n",
    "    # Initialize an empty DataFrame with specified columns\n",
    "    out_df = pd.DataFrame(columns=output_columns)\n",
    "    \n",
    "    for index, row in in_df.iterrows():\n",
    "        name = str(row['name']).upper()\n",
    "        response = request.urlopen(url + name + '/price')\n",
    "        html_page = BeautifulSoup(response, 'html.parser')\n",
    "        \n",
    "  #      price = html_page.find('div', class_='value text-white mb-0 me-2 lh-1 stock-info').text.strip()        \n",
    "  #      if (price == '-'):\n",
    "  #          price = '0.00'        \n",
    "\n",
    "        price_div = html_page.find('div', class_='value text-white mb-0 me-2 lh-1 stock-info')\n",
    "        if price_div:\n",
    "            price = price_div.text.strip()\n",
    "        else:\n",
    "            print(f\"Price div not found for {name}\")\n",
    "            price = '0.00'     \n",
    "            \n",
    "        # Try to find the <h3> tag with the class 'theme-success'\n",
    "        h3_tag = html_page.find('h3', class_='theme-success')\n",
    "        if h3_tag:\n",
    "        # Find all <span> tags within the found <h3> tag\n",
    "            span_tags = h3_tag.find_all('span')\n",
    "    \n",
    "            if len(span_tags) > 1:\n",
    "                # Extract the text from the second <span> tag\n",
    "                percent_span = span_tags[1].text\n",
    "                # print(percent_span)\n",
    "                \n",
    "        # Try to find the <h3> tag with the class 'theme-danger'\n",
    "        h3_tag = html_page.find('h3', class_='theme-danger')\n",
    "        if h3_tag:\n",
    "        # Find all <span> tags within the found <h3> tag\n",
    "            span_tags = h3_tag.find_all('span')\n",
    "    \n",
    "            if len(span_tags) > 1:\n",
    "                # Extract the text from the second <span> tag\n",
    "                percent_span = span_tags[1].text\n",
    "                # print(percent_span)    \n",
    "                \n",
    "        # Try to find the <h3> tag with the class 'theme-danger'\n",
    "        h3_tag = html_page.find('h3', class_='theme-normal')\n",
    "        if h3_tag:\n",
    "        # Find all <span> tags within the found <h3> tag\n",
    "            span_tags = h3_tag.find_all('span')\n",
    "    \n",
    "            if len(span_tags) > 1:\n",
    "                # Extract the text from the second <span> tag\n",
    "                percent_span = span_tags[1].text\n",
    "                # print(percent_span)   \n",
    "                \n",
    "        percent = cvt_str_to_flt(percent_span)\n",
    "                \n",
    "        values_low = html_page.find_all('span', class_='title-font-family fs-16px fw-bolder me-auto lh-1')\n",
    "        today_low = values_low[0].text\n",
    "        if (today_low == '-'):\n",
    "            today_low = '0.00'\n",
    "        \n",
    "        values_high = html_page.find_all('span', class_='title-font-family fs-16px fw-bolder lh-1')\n",
    "        today_high = values_high[0].text\n",
    "        if (today_high == '-'):\n",
    "            today_high = '0.00'         \n",
    "        \n",
    "        year_low = values_low[1].text        \n",
    "        year_high = values_high[1].text     \n",
    "        \n",
    "        # Find the div with the specific class, then find the span within it\n",
    "        div = html_page.find('div', class_='price-detail-date d-flex align-items-center text-nowrap fs-12px')\n",
    "        if div:\n",
    "            span = div.find('span')\n",
    "            if span:\n",
    "                text = span.get_text()\n",
    "#                 print(text)\n",
    "            else:\n",
    "                print(\"Span not found\")\n",
    "        else:\n",
    "            print(\"Div not found\")\n",
    "            \n",
    "        # Extract the date part from the string\n",
    "        # Assuming the date is always in the format 'dd Mon yyyy'\n",
    "        date_str = ' '.join(text.split()[2:5])\n",
    "\n",
    "        # Parse the date string into a datetime object\n",
    "        date_obj = datetime.strptime(date_str, '%d %b %Y')\n",
    "\n",
    "        # Format the datetime object to 'yyyy-mm-dd'\n",
    "        updated_at = date_obj.strftime('%Y-%m-%d')\n",
    "\n",
    "#         print(updated_at)\n",
    "        \n",
    "        # Append row to the DataFrame and print the row\n",
    "        out_df.loc[len(out_df)] = [name, price, today_low, today_high, year_low, year_high, percent, updated_at]\n",
    "#       print(out_df.iloc[-1].to_string(header=False, index=False)) \n",
    "        print(','.join(map(str, out_df.iloc[-1])))\n",
    "        sleep(1)\n",
    "        \n",
    "    return out_df  # return the final dataframe with all values populated"
   ]
  },
  {
   "cell_type": "code",
   "execution_count": 11,
   "id": "94abc8d4",
   "metadata": {},
   "outputs": [
    {
     "name": "stdout",
     "output_type": "stream",
     "text": [
      "Start at:  08:49 PM\n"
     ]
    }
   ],
   "source": [
    "start_time = strftime(\"%I:%M %p\")\n",
    "print('Start at: ', start_time)"
   ]
  },
  {
   "cell_type": "code",
   "execution_count": 12,
   "id": "23b565ec",
   "metadata": {
    "scrolled": true
   },
   "outputs": [
    {
     "name": "stdout",
     "output_type": "stream",
     "text": [
      "ACE,1.29,1.28,1.30,1.23,1.49,-1.53,2025-08-19\n",
      "ADVANC,290.00,286.00,291.00,237.00,309.00,-1.36,2025-08-19\n",
      "AEONTS,105.00,105.00,105.50,90.50,148.00,-0.94,2025-08-19\n",
      "AH,14.50,14.50,14.80,10.00,23.20,-2.03,2025-08-19\n",
      "AIE,1.09,1.09,1.12,0.72,1.80,-0.91,2025-08-19\n",
      "AIMIRT,9.55,9.55,9.65,9.20,11.20,-2.05,2025-08-19\n",
      "AIT,5.10,5.05,5.10,3.86,5.30,0.99,2025-08-19\n",
      "AJ,2.20,2.18,2.42,1.94,5.80,0.92,2025-08-19\n",
      "AMATA,16.00,16.00,16.30,11.20,31.00,-2.44,2025-08-19\n",
      "ANAN,0.49,0.49,0.53,0.37,0.85,0.0,2025-08-19\n",
      "AOT,38.00,37.75,38.75,26.75,65.00,0.66,2025-08-19\n",
      "AP,7.45,7.40,7.55,5.60,10.50,-1.32,2025-08-19\n",
      "ASIAN,7.65,7.60,7.80,6.50,10.50,0.66,2025-08-19\n",
      "ASK,7.65,7.65,7.85,6.20,15.30,0.66,2025-08-19\n",
      "ASP,2.40,2.36,2.40,1.81,2.70,0.0,2025-08-19\n",
      "ASW,6.40,6.30,6.50,5.55,8.20,-1.54,2025-08-19\n",
      "AWC,2.42,2.32,2.44,1.55,3.94,2.54,2025-08-19\n",
      "BA,14.30,14.10,14.80,10.60,26.00,-0.69,2025-08-19\n",
      "BAM,7.90,7.90,8.35,5.35,10.20,-4.82,2025-08-19\n",
      "BANPU,4.66,4.66,4.74,4.00,7.50,-1.27,2025-08-19\n",
      "BAY,23.40,23.20,23.40,20.70,29.00,0.43,2025-08-19\n",
      "BBL,154.00,152.00,155.00,130.50,161.50,0.98,2025-08-19\n",
      "BCH,13.10,13.10,13.30,12.30,19.20,-0.76,2025-08-19\n",
      "BCP,31.75,31.00,32.25,26.50,41.00,0.0,2025-08-19\n",
      "BCPG,8.05,7.90,8.15,5.05,8.75,0.63,2025-08-19\n",
      "BCT,47.50,47.25,47.50,43.50,76.75,0.53,2025-08-19\n",
      "BDMS,21.00,21.00,21.20,19.80,31.25,-0.47,2025-08-19\n",
      "BE8,5.55,5.55,5.75,5.20,21.20,-0.89,2025-08-19\n",
      "BEAUTY,0.29,0.29,0.31,0.19,0.57,-6.45,2025-08-19\n",
      "BEC,2.24,2.22,2.28,1.79,4.68,-1.75,2025-08-19\n",
      "BEM,5.35,5.35,5.40,4.56,8.30,-0.93,2025-08-19\n",
      "BGC,4.90,4.90,4.94,4.54,7.90,-0.41,2025-08-19\n",
      "BGRIM,11.10,11.00,11.30,8.90,24.80,-0.89,2025-08-19\n",
      "BH,179.50,175.50,181.00,130.00,284.00,0.28,2025-08-19\n",
      "BJC,17.40,17.40,17.80,16.50,25.75,-1.14,2025-08-19\n",
      "BKIH,292.00,291.00,292.00,271.00,316.00,0.69,2025-08-19\n",
      "BLA,18.60,18.60,19.10,14.00,25.75,-1.59,2025-08-19\n",
      "BLAND,0.49,0.49,0.52,0.38,0.70,-3.92,2025-08-19\n",
      "BPP,8.20,8.15,8.25,6.20,13.60,-0.61,2025-08-19\n",
      "BTS,3.50,3.34,3.52,3.28,6.40,4.17,2025-08-19\n",
      "BTSGIF,2.66,2.64,2.68,2.54,3.52,0.0,2025-08-19\n",
      "CBG,55.00,53.25,55.00,46.50,82.00,3.29,2025-08-19\n",
      "CENTEL,28.00,27.00,28.50,19.40,41.25,1.82,2025-08-19\n",
      "CHG,1.66,1.65,1.68,1.39,3.00,-0.6,2025-08-19\n",
      "CK,14.10,14.00,14.20,10.20,21.10,0.71,2025-08-19\n",
      "CKP,2.84,2.78,2.86,2.10,4.04,2.16,2025-08-19\n",
      "COM7,24.70,24.30,24.70,16.70,28.25,0.82,2025-08-19\n",
      "CPALL,44.75,44.75,46.00,41.50,68.00,-1.1,2025-08-19\n",
      "CPF,23.50,23.50,23.90,19.80,26.50,-1.26,2025-08-19\n",
      "CPN,52.00,52.00,53.25,41.00,68.75,-0.95,2025-08-19\n",
      "CPNCG,5.95,5.90,5.95,5.30,6.65,0.85,2025-08-19\n",
      "CPNREIT,11.40,11.30,11.50,10.20,13.60,-0.87,2025-08-19\n",
      "CRC,19.70,19.40,20.10,15.80,36.00,0.0,2025-08-19\n",
      "DCC,1.39,1.39,1.40,1.18,2.04,0.0,2025-08-19\n",
      "DCON,0.25,0.24,0.27,0.23,0.41,4.17,2025-08-19\n",
      "DELTA,146.00,146.00,148.50,51.25,173.50,-1.02,2025-08-19\n",
      "DIF,8.10,8.10,8.15,7.35,9.85,-0.61,2025-08-19\n",
      "DOHOME,3.66,3.64,3.78,2.26,11.26,-2.66,2025-08-19\n",
      "DRT,5.40,5.35,5.40,4.42,8.15,0.93,2025-08-19\n",
      "EA,2.56,2.56,2.64,1.73,7.32,-2.29,2025-08-19\n",
      "EASTW,2.12,2.06,2.30,1.57,3.90,1.92,2025-08-19\n",
      "EGATIF,6.00,5.95,6.05,5.75,6.40,0.0,2025-08-19\n",
      "EGCO,114.00,114.00,115.00,85.00,128.50,-0.44,2025-08-19\n",
      "EPG,3.00,2.98,3.16,2.12,5.25,-3.85,2025-08-19\n",
      "FORTH,7.05,7.00,7.15,6.05,15.00,0.0,2025-08-19\n",
      "FPT,6.20,6.20,6.25,5.85,14.00,0.81,2025-08-19\n",
      "FSMART,6.10,6.10,6.25,5.35,9.15,-0.81,2025-08-19\n",
      "FTREIT,9.75,9.60,9.75,8.60,11.30,0.0,2025-08-19\n",
      "GC,4.38,4.36,4.42,3.40,5.10,0.0,2025-08-19\n",
      "GFPT,10.20,10.10,10.30,8.00,13.00,0.0,2025-08-19\n",
      "GGC,3.90,3.90,3.92,3.20,5.45,-1.02,2025-08-19\n",
      "GLOBAL,6.10,6.10,6.25,4.16,16.27,-2.4,2025-08-19\n",
      "GPSC,36.25,35.25,36.25,22.40,49.75,1.4,2025-08-19\n",
      "GRAMMY,4.52,4.52,4.66,4.30,8.50,-1.74,2025-08-19\n",
      "GUNKUL,1.70,1.70,1.75,1.31,2.96,-2.3,2025-08-19\n",
      "GVREIT,6.30,6.30,6.45,5.25,7.15,-2.33,2025-08-19\n",
      "HANA,21.20,21.00,21.60,14.00,44.00,0.0,2025-08-19\n",
      "HFT,4.02,3.94,4.04,3.32,4.78,3.61,2025-08-19\n",
      "HMPRO,7.15,6.95,7.20,5.70,11.10,2.88,2025-08-19\n",
      "HTC,14.80,14.70,15.00,14.50,17.70,-1.33,2025-08-19\n",
      "ICHI,11.60,11.60,11.90,9.40,17.00,-0.85,2025-08-19\n",
      "III,4.68,4.62,4.72,4.18,7.20,-1.27,2025-08-19\n",
      "ILM,14.50,14.30,14.50,11.50,18.90,0.69,2025-08-19\n",
      "IMH,3.94,3.92,3.94,3.50,6.05,0.0,2025-08-19\n",
      "IMPACT,10.00,10.00,10.20,9.25,12.80,-0.99,2025-08-19\n",
      "INOX,0.40,0.40,0.41,0.35,0.67,0.0,2025-08-19\n",
      "IP,3.38,3.32,3.52,2.02,5.15,-2.31,2025-08-19\n",
      "IRPC,0.92,0.92,0.94,0.70,1.86,0.0,2025-08-19\n",
      "IVL,20.30,20.30,21.20,16.90,27.50,-3.79,2025-08-19\n",
      "3BBIF,6.15,6.10,6.20,5.00,6.75,0.0,2025-08-19\n",
      "JMART,8.25,8.15,8.60,5.20,17.70,1.23,2025-08-19\n",
      "JMT,11.20,11.20,11.80,7.35,22.00,-1.75,2025-08-19\n",
      "KBANK,169.00,168.00,171.50,133.00,170.00,0.3,2025-08-19\n",
      "KCE,26.25,25.25,26.75,13.70,40.75,3.96,2025-08-19\n",
      "KEX,1.48,1.48,1.49,0.78,3.40,0.0,2025-08-19\n",
      "KGI,3.88,3.86,3.90,3.40,4.66,0.52,2025-08-19\n",
      "KKP,57.25,57.25,57.75,39.75,58.25,-0.43,2025-08-19\n",
      "KSL,1.50,1.47,1.50,1.25,2.36,1.35,2025-08-19\n",
      "KTB,24.20,23.80,24.30,18.00,24.70,-0.41,2025-08-19\n",
      "KTC,28.25,28.00,28.75,21.80,52.25,0.0,2025-08-19\n",
      "KYE,290.00,290.00,290.00,280.00,324.00,0.0,2025-08-19\n",
      "LALIN,5.05,5.05,5.10,4.80,6.80,0.0,2025-08-19\n",
      "LANNA,15.80,15.70,16.20,14.10,17.50,-3.07,2025-08-19\n",
      "LH,3.98,3.96,4.02,3.18,6.50,-0.5,2025-08-19\n",
      "LHFG,0.78,0.78,0.79,0.72,0.96,0.0,2025-08-19\n",
      "LHK,3.54,3.52,3.54,3.02,4.12,0.0,2025-08-19\n",
      "LIT,0.77,0.77,0.81,0.39,1.34,0.0,2025-08-19\n",
      "LPH,3.84,3.80,3.88,3.20,4.78,0.0,2025-08-19\n",
      "LPN,1.74,1.73,1.76,1.61,3.38,-0.57,2025-08-19\n",
      "M,23.60,23.50,24.00,13.80,30.75,0.43,2025-08-19\n",
      "MAJOR,8.25,8.15,8.30,7.35,16.00,-0.6,2025-08-19\n",
      "MBAX,1.33,1.33,1.37,1.17,3.10,-0.75,2025-08-19\n",
      "MC,10.50,10.40,10.60,9.15,13.00,0.0,2025-08-19\n",
      "MCS,8.60,8.55,8.70,5.80,9.20,0.58,2025-08-19\n",
      "MEGA,29.50,29.50,30.00,24.30,41.25,-1.67,2025-08-19\n",
      "MINT,24.10,24.10,24.40,21.70,29.50,0.0,2025-08-19\n",
      "MST,7.25,7.15,7.25,5.50,10.30,0.0,2025-08-19\n",
      "MTC,35.75,35.75,36.75,33.75,54.00,-0.69,2025-08-19\n",
      "NER,4.44,4.42,4.48,3.88,5.65,0.0,2025-08-19\n",
      "NOBLE,1.75,1.71,1.77,1.60,3.46,2.34,2025-08-19\n",
      "ONEE,2.36,2.30,2.38,1.99,4.68,3.51,2025-08-19\n",
      "OR,13.00,13.00,13.30,10.10,17.80,-0.76,2025-08-19\n",
      "ORI,2.28,2.26,2.46,1.50,5.75,-4.2,2025-08-19\n",
      "OSP,16.80,16.80,17.40,12.90,24.30,-3.45,2025-08-19\n",
      "PAP,1.77,1.74,1.79,1.31,2.96,-0.56,2025-08-19\n",
      "PCSGH,3.26,3.20,3.26,2.46,4.82,1.24,2025-08-19\n",
      "PDG,2.86,2.86,2.88,2.36,2.88,0.0,2025-08-19\n",
      "PLANB,4.74,4.68,4.76,4.08,8.60,1.28,2025-08-19\n",
      "POPF,5.70,5.70,5.80,5.40,6.70,-1.72,2025-08-19\n",
      "PREB,3.60,3.56,3.60,3.34,5.55,0.0,2025-08-19\n",
      "PRM,6.20,6.10,6.20,5.10,9.30,1.64,2025-08-19\n",
      "PSH,4.14,4.14,4.24,3.66,9.80,-1.43,2025-08-19\n",
      "PSL,6.30,6.25,6.40,4.96,9.60,-2.33,2025-08-19\n",
      "PTG,6.80,6.80,7.00,5.45,10.70,-2.16,2025-08-19\n",
      "PTL,9.80,9.75,9.85,9.20,14.40,0.51,2025-08-19\n",
      "PTT,31.75,31.75,32.25,27.00,35.00,-1.55,2025-08-19\n",
      "PTTEP,110.00,110.00,113.00,93.00,146.00,-2.65,2025-08-19\n",
      "PTTGC,22.10,22.10,22.70,14.20,32.75,-1.78,2025-08-19\n",
      "QH,1.37,1.37,1.39,1.15,2.00,-1.44,2025-08-19\n",
      "RATCH,25.75,25.75,26.25,22.50,34.25,-0.96,2025-08-19\n",
      "RBF,4.06,3.94,4.08,3.04,7.40,1.5,2025-08-19\n",
      "RCL,27.00,27.00,28.00,18.20,31.75,-1.82,2025-08-19\n",
      "RJH,13.60,13.60,13.80,11.50,26.25,0.0,2025-08-19\n",
      "ROJNA,4.68,4.68,4.76,4.14,7.50,-1.68,2025-08-19\n",
      "RS,0.26,0.26,0.30,0.19,6.30,-13.33,2025-08-19\n",
      "S11,3.18,3.14,3.18,1.76,3.70,1.92,2025-08-19\n",
      "SAPPE,38.00,37.75,39.00,27.50,90.75,0.0,2025-08-19\n",
      "SAT,13.20,13.20,13.50,9.95,13.70,-1.49,2025-08-19\n",
      "SAWAD,24.70,24.20,25.25,14.80,41.36,3.78,2025-08-19\n",
      "SC,1.86,1.86,1.91,1.40,3.22,-2.11,2025-08-19\n",
      "SCB,129.00,129.00,131.00,103.50,133.00,-0.39,2025-08-19\n",
      "SCC,201.00,201.00,206.00,124.50,255.00,-1.95,2025-08-19\n",
      "SCCC,156.00,155.00,156.00,138.50,177.50,0.65,2025-08-19\n",
      "SCGP,16.60,16.60,17.10,10.70,32.25,-2.92,2025-08-19\n",
      "SENA,1.83,1.83,1.85,1.54,2.50,0.0,2025-08-19\n",
      "SGP,6.40,6.40,6.60,5.00,7.65,-4.48,2025-08-19\n",
      "SINGER,5.30,5.25,5.45,3.92,12.70,0.95,2025-08-19\n",
      "SIRI,1.48,1.48,1.51,1.11,1.94,-1.33,2025-08-19\n",
      "SIS,20.20,20.20,20.80,17.60,31.25,-2.42,2025-08-19\n",
      "SJWD,9.10,9.05,9.35,5.75,12.50,-1.09,2025-08-19\n",
      "SKN,5.60,5.55,5.65,5.05,6.40,-0.88,2025-08-19\n",
      "SKR,7.40,7.30,7.45,6.20,9.80,0.68,2025-08-19\n",
      "SMPC,9.30,9.20,9.35,7.80,10.10,0.54,2025-08-19\n",
      "SNC,5.75,5.55,5.80,4.96,7.35,-1.71,2025-08-19\n",
      "SPALI,15.60,15.60,15.80,13.20,21.10,0.0,2025-08-19\n",
      "SPC,58.50,57.50,58.50,53.00,61.50,1.3,2025-08-19\n",
      "SPCG,8.45,8.40,8.50,6.60,9.40,-0.59,2025-08-19\n",
      "SPRC,4.70,4.66,4.76,4.26,7.55,-0.42,2025-08-19\n",
      "SPRIME,3.42,3.42,3.48,3.00,4.56,-1.16,2025-08-19\n",
      "SSP,4.02,3.96,4.04,3.94,6.40,2.03,2025-08-19\n",
      "STA,11.90,11.90,12.10,10.30,25.75,-0.83,2025-08-19\n",
      "STANLY,182.00,182.00,183.00,183.00,225.00,-0.55,2025-08-19\n",
      "STGT,6.45,6.30,6.60,5.10,13.30,-0.77,2025-08-19\n",
      "SUPER,0.14,0.14,0.15,0.12,0.32,0.0,2025-08-19\n",
      "SUPEREIF,5.60,5.55,5.65,4.72,7.05,0.0,2025-08-19\n",
      "SVI,5.80,5.75,5.85,5.55,9.40,-0.85,2025-08-19\n",
      "SYNEX,11.20,11.20,11.50,9.30,16.70,0.0,2025-08-19\n",
      "TASCO,14.40,14.40,14.70,13.20,20.00,-2.04,2025-08-19\n",
      "TCAP,50.25,50.25,50.75,44.25,53.50,0.0,2025-08-19\n",
      "TFFIF,6.05,6.05,6.10,5.25,7.20,0.0,2025-08-19\n",
      "TFG,5.90,5.85,6.05,3.02,6.10,0.0,2025-08-19\n",
      "THANI,1.71,1.61,1.74,1.15,2.26,4.27,2025-08-19\n",
      "THG,8.65,8.60,8.75,7.75,37.00,0.58,2025-08-19\n",
      "TIPH,20.10,20.10,20.40,16.70,30.50,-0.5,2025-08-19\n",
      "TIPCO,8.75,8.75,8.80,8.35,10.40,-0.57,2025-08-19\n",
      "TISCO,101.00,100.00,101.50,91.25,102.50,0.0,2025-08-19\n",
      "TK,4.22,4.16,4.22,3.28,5.45,0.96,2025-08-19\n",
      "TKN,5.70,5.70,5.80,5.00,11.80,-0.87,2025-08-19\n",
      "TKS,6.00,5.90,6.00,4.90,8.15,2.56,2025-08-19\n",
      "TMT,3.08,3.04,3.08,2.60,5.40,0.0,2025-08-19\n",
      "TMW,52.25,51.75,52.50,47.00,66.75,0.0,2025-08-19\n",
      "TOA,14.50,14.30,15.20,9.35,20.50,-3.97,2025-08-19\n",
      "TOP,30.50,30.25,31.75,21.00,55.50,-4.69,2025-08-19\n",
      "TPIPL,0.89,0.87,0.90,0.72,1.29,2.3,2025-08-19\n",
      "TPIPP,2.32,2.30,2.34,1.99,3.14,-0.85,2025-08-19\n",
      "TQM,14.70,14.40,14.70,12.20,33.25,2.08,2025-08-19\n",
      "TRUE,11.00,10.70,11.20,10.10,13.30,1.85,2025-08-19\n",
      "TSE,0.39,0.39,0.40,0.29,1.24,-2.5,2025-08-19\n",
      "TSTH,0.78,0.77,0.79,0.47,0.93,0.0,2025-08-19\n",
      "TTA,4.14,4.14,4.20,3.22,6.55,-0.48,2025-08-19\n",
      "TTB,1.94,1.93,1.96,1.72,2.06,0.52,2025-08-19\n",
      "TTLPF,10.90,10.90,11.00,10.80,16.70,0.0,2025-08-19\n",
      "TTW,9.05,9.00,9.10,8.45,9.50,0.56,2025-08-19\n",
      "TU,12.40,12.00,12.40,8.60,15.80,2.48,2025-08-19\n",
      "TVO,25.00,25.00,25.25,19.70,25.25,-0.99,2025-08-19\n",
      "TYCN,1.73,1.72,1.73,1.62,2.62,-0.57,2025-08-19\n",
      "UTP,7.85,7.80,7.90,7.20,11.30,0.0,2025-08-19\n",
      "VGI,2.10,2.00,2.14,1.75,3.68,3.96,2025-08-19\n",
      "VIBHA,1.46,1.46,1.48,1.37,2.30,-1.35,2025-08-19\n",
      "VNG,1.99,1.97,2.00,1.89,3.82,-0.5,2025-08-19\n",
      "WHA,3.44,3.44,3.50,2.26,6.20,-1.15,2025-08-19\n",
      "WHAIR,5.35,5.35,5.45,4.12,6.75,-0.93,2025-08-19\n",
      "WHART,9.10,9.10,9.20,8.55,10.80,-0.55,2025-08-19\n",
      "WHAUP,3.32,3.32,3.38,2.76,5.50,-1.78,2025-08-19\n",
      "WICE,2.94,2.80,2.96,2.34,6.95,0.0,2025-08-19\n",
      "WORK,4.28,4.26,4.36,3.82,10.40,-1.83,2025-08-19\n"
     ]
    }
   ],
   "source": [
    "df = pd.read_csv(input_file, header=None)\n",
    "out_df = get_stock_data(df)"
   ]
  },
  {
   "cell_type": "code",
   "execution_count": 13,
   "id": "d31edacf",
   "metadata": {},
   "outputs": [
    {
     "name": "stdout",
     "output_type": "stream",
     "text": [
      "End at:  08:54 PM\n"
     ]
    }
   ],
   "source": [
    "end_time = strftime(\"%I:%M %p\")\n",
    "print('End at: ', end_time)"
   ]
  },
  {
   "cell_type": "code",
   "execution_count": 14,
   "id": "b89c4ae7",
   "metadata": {},
   "outputs": [
    {
     "data": {
      "text/html": [
       "<div>\n",
       "<style scoped>\n",
       "    .dataframe tbody tr th:only-of-type {\n",
       "        vertical-align: middle;\n",
       "    }\n",
       "\n",
       "    .dataframe tbody tr th {\n",
       "        vertical-align: top;\n",
       "    }\n",
       "\n",
       "    .dataframe thead th {\n",
       "        text-align: right;\n",
       "    }\n",
       "</style>\n",
       "<table border=\"1\" class=\"dataframe\">\n",
       "  <thead>\n",
       "    <tr style=\"text-align: right;\">\n",
       "      <th></th>\n",
       "      <th>name</th>\n",
       "      <th>price</th>\n",
       "      <th>today_low</th>\n",
       "      <th>today_high</th>\n",
       "      <th>year_low</th>\n",
       "      <th>year_high</th>\n",
       "      <th>percent</th>\n",
       "      <th>updated_at</th>\n",
       "    </tr>\n",
       "  </thead>\n",
       "  <tbody>\n",
       "  </tbody>\n",
       "</table>\n",
       "</div>"
      ],
      "text/plain": [
       "Empty DataFrame\n",
       "Columns: [name, price, today_low, today_high, year_low, year_high, percent, updated_at]\n",
       "Index: []"
      ]
     },
     "execution_count": 14,
     "metadata": {},
     "output_type": "execute_result"
    }
   ],
   "source": [
    "out_df.query('price == \"-\"')"
   ]
  },
  {
   "cell_type": "code",
   "execution_count": 15,
   "id": "784f1b6d",
   "metadata": {},
   "outputs": [
    {
     "data": {
      "text/plain": [
       "(216, 8)"
      ]
     },
     "execution_count": 15,
     "metadata": {},
     "output_type": "execute_result"
    }
   ],
   "source": [
    "out_df.shape"
   ]
  },
  {
   "cell_type": "code",
   "execution_count": 16,
   "id": "6326d0c5",
   "metadata": {},
   "outputs": [],
   "source": [
    "out_df = out_df[out_df['name'] != 'BCT']"
   ]
  },
  {
   "cell_type": "code",
   "execution_count": 17,
   "id": "2a293f55-436e-45d1-9966-50d12c26e659",
   "metadata": {},
   "outputs": [],
   "source": [
    "out_df = out_df[out_df['name'] != 'LPF']"
   ]
  },
  {
   "cell_type": "code",
   "execution_count": 18,
   "id": "cc4b3547-5ea9-4ac6-bd11-896e67d464ed",
   "metadata": {},
   "outputs": [],
   "source": [
    "out_df = out_df[out_df['name'] != 'TYCN']"
   ]
  },
  {
   "cell_type": "code",
   "execution_count": 19,
   "id": "865622c2-dad3-4ba8-b35a-898461fe5e9a",
   "metadata": {},
   "outputs": [],
   "source": [
    "out_df = out_df[out_df['name'] != 'GRAMMY']"
   ]
  },
  {
   "cell_type": "code",
   "execution_count": 20,
   "id": "cb2d763d-5b75-4ace-b87a-f165c8e6cb91",
   "metadata": {},
   "outputs": [],
   "source": [
    "out_df = out_df[out_df['name'] != 'MST']"
   ]
  },
  {
   "cell_type": "code",
   "execution_count": 21,
   "id": "e65305f0-157a-4129-a758-15c02e8df06a",
   "metadata": {},
   "outputs": [],
   "source": [
    "out_df = out_df[out_df['name'] != 'SPC']"
   ]
  },
  {
   "cell_type": "code",
   "execution_count": 22,
   "id": "cb55b5f6-0679-4191-aeda-ab0cf45f18e7",
   "metadata": {},
   "outputs": [],
   "source": [
    "out_df = out_df[out_df['name'] != 'SPRIME']"
   ]
  },
  {
   "cell_type": "code",
   "execution_count": 23,
   "id": "981854f1-01a1-4e26-b2a9-4f58948a33ec",
   "metadata": {},
   "outputs": [],
   "source": [
    "out_df = out_df[out_df['name'] != 'FPT']"
   ]
  },
  {
   "cell_type": "code",
   "execution_count": 24,
   "id": "a2833967-e889-4ad5-97b2-8234ba35c31c",
   "metadata": {},
   "outputs": [],
   "source": [
    "out_df = out_df[out_df['name'] != 'GGC']"
   ]
  },
  {
   "cell_type": "code",
   "execution_count": 25,
   "id": "b2771ed1",
   "metadata": {},
   "outputs": [
    {
     "data": {
      "text/plain": [
       "(208, 8)"
      ]
     },
     "execution_count": 25,
     "metadata": {},
     "output_type": "execute_result"
    }
   ],
   "source": [
    "out_df.shape"
   ]
  },
  {
   "cell_type": "code",
   "execution_count": 26,
   "id": "eb2ffec6",
   "metadata": {},
   "outputs": [],
   "source": [
    "out_df['price'] = out_df['price'].astype('float')\n",
    "out_df['today_low'] = out_df['today_low'].astype('float')\n",
    "out_df['today_high'] = out_df['today_high'].astype('float')\n",
    "out_df['year_low'] = out_df['year_low'].astype('float')\n",
    "out_df['year_high'] = out_df['year_high'].astype('float')\n",
    "out_df['percent'] = out_df['percent'].astype('float')"
   ]
  },
  {
   "cell_type": "code",
   "execution_count": 27,
   "id": "f4fb1a3c",
   "metadata": {},
   "outputs": [],
   "source": [
    "sorted_out_df = out_df.sort_values('percent')"
   ]
  },
  {
   "cell_type": "code",
   "execution_count": 28,
   "id": "032f0eea",
   "metadata": {},
   "outputs": [
    {
     "data": {
      "text/html": [
       "<div>\n",
       "<style scoped>\n",
       "    .dataframe tbody tr th:only-of-type {\n",
       "        vertical-align: middle;\n",
       "    }\n",
       "\n",
       "    .dataframe tbody tr th {\n",
       "        vertical-align: top;\n",
       "    }\n",
       "\n",
       "    .dataframe thead th {\n",
       "        text-align: right;\n",
       "    }\n",
       "</style>\n",
       "<table border=\"1\" class=\"dataframe\">\n",
       "  <thead>\n",
       "    <tr style=\"text-align: right;\">\n",
       "      <th></th>\n",
       "      <th>name</th>\n",
       "      <th>price</th>\n",
       "      <th>today_low</th>\n",
       "      <th>today_high</th>\n",
       "      <th>year_low</th>\n",
       "      <th>year_high</th>\n",
       "      <th>percent</th>\n",
       "      <th>updated_at</th>\n",
       "    </tr>\n",
       "  </thead>\n",
       "  <tbody>\n",
       "    <tr>\n",
       "      <th>171</th>\n",
       "      <td>STANLY</td>\n",
       "      <td>182.0</td>\n",
       "      <td>182.0</td>\n",
       "      <td>183.0</td>\n",
       "      <td>183.0</td>\n",
       "      <td>225.0</td>\n",
       "      <td>-0.55</td>\n",
       "      <td>2025-08-19</td>\n",
       "    </tr>\n",
       "  </tbody>\n",
       "</table>\n",
       "</div>"
      ],
      "text/plain": [
       "       name  price  today_low  today_high  year_low  year_high  percent  \\\n",
       "171  STANLY  182.0      182.0       183.0     183.0      225.0    -0.55   \n",
       "\n",
       "     updated_at  \n",
       "171  2025-08-19  "
      ]
     },
     "execution_count": 28,
     "metadata": {},
     "output_type": "execute_result"
    }
   ],
   "source": [
    "sorted_out_df.query('today_low < year_low')"
   ]
  },
  {
   "cell_type": "code",
   "execution_count": 29,
   "id": "8e04b03d",
   "metadata": {},
   "outputs": [
    {
     "data": {
      "text/html": [
       "<div>\n",
       "<style scoped>\n",
       "    .dataframe tbody tr th:only-of-type {\n",
       "        vertical-align: middle;\n",
       "    }\n",
       "\n",
       "    .dataframe tbody tr th {\n",
       "        vertical-align: top;\n",
       "    }\n",
       "\n",
       "    .dataframe thead th {\n",
       "        text-align: right;\n",
       "    }\n",
       "</style>\n",
       "<table border=\"1\" class=\"dataframe\">\n",
       "  <thead>\n",
       "    <tr style=\"text-align: right;\">\n",
       "      <th></th>\n",
       "      <th>name</th>\n",
       "      <th>price</th>\n",
       "      <th>today_low</th>\n",
       "      <th>today_high</th>\n",
       "      <th>year_low</th>\n",
       "      <th>year_high</th>\n",
       "      <th>percent</th>\n",
       "      <th>updated_at</th>\n",
       "    </tr>\n",
       "  </thead>\n",
       "  <tbody>\n",
       "    <tr>\n",
       "      <th>92</th>\n",
       "      <td>KBANK</td>\n",
       "      <td>169.0</td>\n",
       "      <td>168.0</td>\n",
       "      <td>171.5</td>\n",
       "      <td>133.0</td>\n",
       "      <td>170.0</td>\n",
       "      <td>0.3</td>\n",
       "      <td>2025-08-19</td>\n",
       "    </tr>\n",
       "  </tbody>\n",
       "</table>\n",
       "</div>"
      ],
      "text/plain": [
       "     name  price  today_low  today_high  year_low  year_high  percent  \\\n",
       "92  KBANK  169.0      168.0       171.5     133.0      170.0      0.3   \n",
       "\n",
       "    updated_at  \n",
       "92  2025-08-19  "
      ]
     },
     "execution_count": 29,
     "metadata": {},
     "output_type": "execute_result"
    }
   ],
   "source": [
    "sorted_out_df.query('today_high > year_high')"
   ]
  },
  {
   "cell_type": "code",
   "execution_count": 30,
   "id": "290a9607",
   "metadata": {},
   "outputs": [
    {
     "data": {
      "text/html": [
       "<div>\n",
       "<style scoped>\n",
       "    .dataframe tbody tr th:only-of-type {\n",
       "        vertical-align: middle;\n",
       "    }\n",
       "\n",
       "    .dataframe tbody tr th {\n",
       "        vertical-align: top;\n",
       "    }\n",
       "\n",
       "    .dataframe thead th {\n",
       "        text-align: right;\n",
       "    }\n",
       "</style>\n",
       "<table border=\"1\" class=\"dataframe\">\n",
       "  <thead>\n",
       "    <tr style=\"text-align: right;\">\n",
       "      <th></th>\n",
       "      <th>name</th>\n",
       "      <th>price</th>\n",
       "      <th>today_low</th>\n",
       "      <th>today_high</th>\n",
       "      <th>year_low</th>\n",
       "      <th>year_high</th>\n",
       "      <th>percent</th>\n",
       "      <th>updated_at</th>\n",
       "    </tr>\n",
       "  </thead>\n",
       "  <tbody>\n",
       "    <tr>\n",
       "      <th>92</th>\n",
       "      <td>KBANK</td>\n",
       "      <td>169.0</td>\n",
       "      <td>168.0</td>\n",
       "      <td>171.5</td>\n",
       "      <td>133.0</td>\n",
       "      <td>170.0</td>\n",
       "      <td>0.3</td>\n",
       "      <td>2025-08-19</td>\n",
       "    </tr>\n",
       "  </tbody>\n",
       "</table>\n",
       "</div>"
      ],
      "text/plain": [
       "     name  price  today_low  today_high  year_low  year_high  percent  \\\n",
       "92  KBANK  169.0      168.0       171.5     133.0      170.0      0.3   \n",
       "\n",
       "    updated_at  \n",
       "92  2025-08-19  "
      ]
     },
     "execution_count": 30,
     "metadata": {},
     "output_type": "execute_result"
    }
   ],
   "source": [
    "out_df.query('today_high > year_high')"
   ]
  },
  {
   "cell_type": "code",
   "execution_count": 31,
   "id": "5fbeba56-2a63-4650-898b-6447a81f95f5",
   "metadata": {},
   "outputs": [],
   "source": [
    "file_name = \"Price-Hilo.csv\"\n",
    "output_file = os.path.join(dat_path, file_name)\n",
    "god_file = os.path.join(god_path, file_name)\n",
    "icd_file = os.path.join(icd_path, file_name)\n",
    "osd_file = os.path.join(osd_path, file_name)"
   ]
  },
  {
   "cell_type": "code",
   "execution_count": 32,
   "id": "da6183ac-2f05-4f67-b200-fe83634d29dc",
   "metadata": {},
   "outputs": [
    {
     "name": "stdout",
     "output_type": "stream",
     "text": [
      "output_file : C:\\Users\\PC1\\OneDrive\\A5\\Data\\Price-Hilo.csv\n",
      "icd_file : C:\\Users\\PC1\\iCloudDrive\\Data\\Price-Hilo.csv\n",
      "god_file : C:\\Users\\PC1\\OneDrive\\Imports\\santisoontarinka@gmail.com - Google Drive\\Data\\Price-Hilo.csv\n",
      "osd_file : C:\\Users\\PC1\\OneDrive\\Documents\\obsidian-git-sync\\Data\\Price-Hilo.csv\n"
     ]
    }
   ],
   "source": [
    "print(f\"output_file : {output_file}\") \n",
    "print(f\"icd_file : {icd_file}\") \n",
    "print(f\"god_file : {god_file}\") \n",
    "print(f\"osd_file : {osd_file}\") "
   ]
  },
  {
   "cell_type": "code",
   "execution_count": 33,
   "id": "8017b53b",
   "metadata": {},
   "outputs": [],
   "source": [
    "out_df.to_csv(output_file, index=False)  \n",
    "out_df.to_csv(god_file, index=False) \n",
    "out_df.to_csv(icd_file, index=False)  \n",
    "out_df.to_csv(osd_file, index=False) "
   ]
  },
  {
   "cell_type": "code",
   "execution_count": 34,
   "id": "80692fae-6308-4695-bcac-5124ce4d44e3",
   "metadata": {},
   "outputs": [
    {
     "name": "stdout",
     "output_type": "stream",
     "text": [
      "2025-08-19 20:54:07\n"
     ]
    }
   ],
   "source": [
    "# Get the current time\n",
    "current_time = datetime.now()\n",
    "# Format the time to remove milliseconds\n",
    "formatted_time = current_time.strftime(\"%Y-%m-%d %H:%M:%S\")\n",
    "print(formatted_time)"
   ]
  }
 ],
 "metadata": {
  "kernelspec": {
   "display_name": "Python 3 (ipykernel)",
   "language": "python",
   "name": "python3"
  },
  "language_info": {
   "codemirror_mode": {
    "name": "ipython",
    "version": 3
   },
   "file_extension": ".py",
   "mimetype": "text/x-python",
   "name": "python",
   "nbconvert_exporter": "python",
   "pygments_lexer": "ipython3",
   "version": "3.12.3"
  }
 },
 "nbformat": 4,
 "nbformat_minor": 5
}
