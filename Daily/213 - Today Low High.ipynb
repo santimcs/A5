{
 "cells": [
  {
   "cell_type": "markdown",
   "id": "930356c6",
   "metadata": {},
   "source": [
    "### Start and Run All"
   ]
  },
  {
   "cell_type": "code",
   "execution_count": 2,
   "id": "d7cfc693",
   "metadata": {},
   "outputs": [
    {
     "name": "stdout",
     "output_type": "stream",
     "text": [
      "2025-08-08 20:58:15\n"
     ]
    }
   ],
   "source": [
    "import os\n",
    "import pandas as pd\n",
    "from urllib import request\n",
    "from bs4 import BeautifulSoup\n",
    "# from datetime import date, timedelta\n",
    "from datetime import datetime\n",
    "from time import sleep, strftime\n",
    "\n",
    "# Get the current time\n",
    "current_time = datetime.now()\n",
    "# Format the time to remove milliseconds\n",
    "formatted_time = current_time.strftime(\"%Y-%m-%d %H:%M:%S\")\n",
    "print(formatted_time)"
   ]
  },
  {
   "cell_type": "code",
   "execution_count": 3,
   "id": "0cbdda38-ec42-4470-bede-c468ba46f8d8",
   "metadata": {},
   "outputs": [],
   "source": [
    "url = \"https://www.set.or.th/en/market/product/stock/quote/\"\n",
    "percent_span = '' "
   ]
  },
  {
   "cell_type": "code",
   "execution_count": 4,
   "id": "6e4b7508-0071-480d-99c8-a6c070027294",
   "metadata": {},
   "outputs": [],
   "source": [
    "# Get the user's home directory\n",
    "user_path = os.path.expanduser('~')\n",
    "# Get the current working directory\n",
    "current_path = os.getcwd()\n",
    "# Derive the base directory (base_dir) by removing the last folder ('Daily')\n",
    "base_path = os.path.dirname(current_path)\n",
    "#C:\\Users\\PC1\\OneDrive\\A5\\Data\n",
    "dat_path = os.path.join(base_path, \"Data\")\n",
    "#C:\\Users\\PC1\\OneDrive\\Imports\\santisoontarinka@gmail.com - Google Drive\\Data>\n",
    "god_path = os.path.join(user_path, \"OneDrive\",\"Imports\",\"santisoontarinka@gmail.com - Google Drive\",\"Data\")\n",
    "#C:\\Users\\PC1\\iCloudDrive\\data\n",
    "icd_path = os.path.join(user_path, \"iCloudDrive\", \"Data\")\n",
    "#C:\\Users\\PC1\\OneDrive\\Documents\\obsidian-git-sync\\Data\n",
    "osd_path = os.path.join(user_path, \"OneDrive\",\"Documents\",\"obsidian-git-sync\",\"Data\")"
   ]
  },
  {
   "cell_type": "code",
   "execution_count": 5,
   "id": "07defeb3-a742-4e64-8089-7e4fe5b8b93c",
   "metadata": {},
   "outputs": [
    {
     "name": "stdout",
     "output_type": "stream",
     "text": [
      "User path: C:\\Users\\PC1\n",
      "Current path: C:\\Users\\PC1\\OneDrive\\A5\\Daily\n",
      "Base path: C:\\Users\\PC1\\OneDrive\\A5\n",
      "Data path : C:\\Users\\PC1\\OneDrive\\A5\\Data\n",
      "Google Drive path : C:\\Users\\PC1\\OneDrive\\Imports\\santisoontarinka@gmail.com - Google Drive\\Data\n",
      "iCloudDrive path : C:\\Users\\PC1\\iCloudDrive\\Data\n",
      "Obsidian path : C:\\Users\\PC1\\OneDrive\\Documents\\obsidian-git-sync\\Data\n"
     ]
    }
   ],
   "source": [
    "print(\"User path:\", user_path)\n",
    "print(f\"Current path: {current_path}\")\n",
    "print(f\"Base path: {base_path}\")\n",
    "print(f\"Data path : {dat_path}\") \n",
    "print(f\"Google Drive path : {god_path}\")\n",
    "print(f\"iCloudDrive path : {icd_path}\") \n",
    "print(f\"Obsidian path : {osd_path}\") "
   ]
  },
  {
   "cell_type": "code",
   "execution_count": 6,
   "id": "08576879-dc60-431b-a31a-e1893e2d7922",
   "metadata": {},
   "outputs": [
    {
     "name": "stdout",
     "output_type": "stream",
     "text": [
      "Input file : C:\\Users\\PC1\\OneDrive\\A5\\Data\\name-ttl.csv\n"
     ]
    }
   ],
   "source": [
    "file_name = \"name-ttl.csv\"\n",
    "input_file = os.path.join(dat_path, file_name)\n",
    "print(f\"Input file : {input_file}\") "
   ]
  },
  {
   "cell_type": "code",
   "execution_count": 7,
   "id": "9b9668db-0773-4de5-9bd4-864c377dab80",
   "metadata": {},
   "outputs": [],
   "source": [
    "file_name = \"price-hilo.csv\"\n",
    "output_file = os.path.join(dat_path, file_name)\n",
    "god_file = os.path.join(god_path, file_name)\n",
    "icd_file = os.path.join(icd_path, file_name)\n",
    "osd_file = os.path.join(osd_path, file_name)"
   ]
  },
  {
   "cell_type": "code",
   "execution_count": 8,
   "id": "66c38ef5-8643-4ad3-81ff-9e2275d426d5",
   "metadata": {},
   "outputs": [
    {
     "name": "stdout",
     "output_type": "stream",
     "text": [
      "Output file : C:\\Users\\PC1\\OneDrive\\A5\\Data\\price-hilo.csv\n",
      "icd_file : C:\\Users\\PC1\\iCloudDrive\\Data\\price-hilo.csv\n",
      "god_file : C:\\Users\\PC1\\OneDrive\\Imports\\santisoontarinka@gmail.com - Google Drive\\Data\\price-hilo.csv\n",
      "osd_file : C:\\Users\\PC1\\OneDrive\\Documents\\obsidian-git-sync\\Data\\price-hilo.csv\n"
     ]
    }
   ],
   "source": [
    "print(f\"Output file : {output_file}\") \n",
    "print(f\"icd_file : {icd_file}\") \n",
    "print(f\"god_file : {god_file}\") \n",
    "print(f\"osd_file : {osd_file}\")"
   ]
  },
  {
   "cell_type": "code",
   "execution_count": 9,
   "id": "c1ec2693",
   "metadata": {},
   "outputs": [],
   "source": [
    "def cvt_str_to_flt(input_str):\n",
    "    # Check for the special pattern and return 0\n",
    "    if input_str == '(-)':\n",
    "        return 0\n",
    "    \n",
    "    # Remove parentheses and percent sign\n",
    "    cleaned_str = input_str.replace('(', '').replace(')', '').replace('%', '')\n",
    "\n",
    "    # Convert to float\n",
    "    try:\n",
    "        return float(cleaned_str)\n",
    "    except ValueError:\n",
    "        # Handle the case where the conversion fails\n",
    "        return None\n",
    " "
   ]
  },
  {
   "cell_type": "code",
   "execution_count": 10,
   "id": "334bed1f",
   "metadata": {},
   "outputs": [],
   "source": [
    "def get_stock_data(in_df):\n",
    "\n",
    "    in_df.columns = ['name']\n",
    "    \n",
    "    output_columns = ['name', 'price', 'today_low', 'today_high', 'year_low', 'year_high', 'percent', 'updated_at']\n",
    "    # Initialize an empty DataFrame with specified columns\n",
    "    out_df = pd.DataFrame(columns=output_columns)\n",
    "    \n",
    "    for index, row in in_df.iterrows():\n",
    "        name = str(row['name']).upper()\n",
    "        response = request.urlopen(url + name + '/price')\n",
    "        html_page = BeautifulSoup(response, 'html.parser')\n",
    "        \n",
    "  #      price = html_page.find('div', class_='value text-white mb-0 me-2 lh-1 stock-info').text.strip()        \n",
    "  #      if (price == '-'):\n",
    "  #          price = '0.00'        \n",
    "\n",
    "        price_div = html_page.find('div', class_='value text-white mb-0 me-2 lh-1 stock-info')\n",
    "        if price_div:\n",
    "            price = price_div.text.strip()\n",
    "        else:\n",
    "            print(f\"Price div not found for {name}\")\n",
    "            price = '0.00'     \n",
    "            \n",
    "        # Try to find the <h3> tag with the class 'theme-success'\n",
    "        h3_tag = html_page.find('h3', class_='theme-success')\n",
    "        if h3_tag:\n",
    "        # Find all <span> tags within the found <h3> tag\n",
    "            span_tags = h3_tag.find_all('span')\n",
    "    \n",
    "            if len(span_tags) > 1:\n",
    "                # Extract the text from the second <span> tag\n",
    "                percent_span = span_tags[1].text\n",
    "                # print(percent_span)\n",
    "                \n",
    "        # Try to find the <h3> tag with the class 'theme-danger'\n",
    "        h3_tag = html_page.find('h3', class_='theme-danger')\n",
    "        if h3_tag:\n",
    "        # Find all <span> tags within the found <h3> tag\n",
    "            span_tags = h3_tag.find_all('span')\n",
    "    \n",
    "            if len(span_tags) > 1:\n",
    "                # Extract the text from the second <span> tag\n",
    "                percent_span = span_tags[1].text\n",
    "                # print(percent_span)    \n",
    "                \n",
    "        # Try to find the <h3> tag with the class 'theme-danger'\n",
    "        h3_tag = html_page.find('h3', class_='theme-normal')\n",
    "        if h3_tag:\n",
    "        # Find all <span> tags within the found <h3> tag\n",
    "            span_tags = h3_tag.find_all('span')\n",
    "    \n",
    "            if len(span_tags) > 1:\n",
    "                # Extract the text from the second <span> tag\n",
    "                percent_span = span_tags[1].text\n",
    "                # print(percent_span)   \n",
    "                \n",
    "        percent = cvt_str_to_flt(percent_span)\n",
    "                \n",
    "        values_low = html_page.find_all('span', class_='title-font-family fs-16px fw-bolder me-auto lh-1')\n",
    "        today_low = values_low[0].text\n",
    "        if (today_low == '-'):\n",
    "            today_low = '0.00'\n",
    "        \n",
    "        values_high = html_page.find_all('span', class_='title-font-family fs-16px fw-bolder lh-1')\n",
    "        today_high = values_high[0].text\n",
    "        if (today_high == '-'):\n",
    "            today_high = '0.00'         \n",
    "        \n",
    "        year_low = values_low[1].text        \n",
    "        year_high = values_high[1].text     \n",
    "        \n",
    "        # Find the div with the specific class, then find the span within it\n",
    "        div = html_page.find('div', class_='price-detail-date d-flex align-items-center text-nowrap fs-12px')\n",
    "        if div:\n",
    "            span = div.find('span')\n",
    "            if span:\n",
    "                text = span.get_text()\n",
    "#                 print(text)\n",
    "            else:\n",
    "                print(\"Span not found\")\n",
    "        else:\n",
    "            print(\"Div not found\")\n",
    "            \n",
    "        # Extract the date part from the string\n",
    "        # Assuming the date is always in the format 'dd Mon yyyy'\n",
    "        date_str = ' '.join(text.split()[2:5])\n",
    "\n",
    "        # Parse the date string into a datetime object\n",
    "        date_obj = datetime.strptime(date_str, '%d %b %Y')\n",
    "\n",
    "        # Format the datetime object to 'yyyy-mm-dd'\n",
    "        updated_at = date_obj.strftime('%Y-%m-%d')\n",
    "\n",
    "#         print(updated_at)\n",
    "        \n",
    "        # Append row to the DataFrame and print the row\n",
    "        out_df.loc[len(out_df)] = [name, price, today_low, today_high, year_low, year_high, percent, updated_at]\n",
    "#       print(out_df.iloc[-1].to_string(header=False, index=False)) \n",
    "        print(','.join(map(str, out_df.iloc[-1])))\n",
    "        sleep(1)\n",
    "        \n",
    "    return out_df  # return the final dataframe with all values populated"
   ]
  },
  {
   "cell_type": "code",
   "execution_count": 11,
   "id": "94abc8d4",
   "metadata": {},
   "outputs": [
    {
     "name": "stdout",
     "output_type": "stream",
     "text": [
      "Start at:  08:58 PM\n"
     ]
    }
   ],
   "source": [
    "start_time = strftime(\"%I:%M %p\")\n",
    "print('Start at: ', start_time)"
   ]
  },
  {
   "cell_type": "code",
   "execution_count": 12,
   "id": "23b565ec",
   "metadata": {
    "scrolled": true
   },
   "outputs": [
    {
     "name": "stdout",
     "output_type": "stream",
     "text": [
      "ACE,1.30,1.29,1.31,1.23,1.49,0.0,2025-08-08\n",
      "ADVANC,297.00,295.00,302.00,237.00,309.00,-0.34,2025-08-08\n",
      "AEONTS,104.00,102.50,105.50,90.50,148.00,-1.42,2025-08-08\n",
      "AH,15.60,15.40,15.70,10.00,23.20,0.0,2025-08-08\n",
      "AIE,1.18,1.17,1.23,0.72,1.80,-3.28,2025-08-08\n",
      "AIMIRT,9.90,9.85,9.95,9.20,11.20,0.51,2025-08-08\n",
      "AIT,5.20,5.15,5.20,3.74,5.30,0.97,2025-08-08\n",
      "AJ,2.58,2.56,2.64,1.94,5.80,0.0,2025-08-08\n",
      "AMATA,16.60,16.40,16.70,11.20,31.00,-0.6,2025-08-08\n",
      "ANAN,0.43,0.43,0.46,0.37,0.85,-4.44,2025-08-08\n",
      "AOT,39.75,39.50,40.50,26.75,65.00,-1.85,2025-08-08\n",
      "AP,7.40,7.30,7.50,5.60,10.50,-0.67,2025-08-08\n",
      "ASIAN,7.55,7.45,7.60,6.50,10.50,0.0,2025-08-08\n",
      "ASK,8.15,8.10,8.20,6.20,15.30,-0.61,2025-08-08\n",
      "ASP,2.38,2.38,2.44,1.81,2.70,-1.65,2025-08-08\n",
      "ASW,6.55,6.45,6.55,5.55,8.20,0.0,2025-08-08\n",
      "AWC,2.26,2.22,2.34,1.55,3.94,-3.42,2025-08-08\n",
      "BA,14.90,14.60,15.30,10.60,26.00,0.0,2025-08-08\n",
      "BAM,8.40,8.20,8.40,5.35,10.20,1.2,2025-08-08\n",
      "BANPU,5.00,4.94,5.05,4.00,7.50,0.0,2025-08-08\n",
      "BAY,22.90,22.80,23.10,20.70,29.00,0.44,2025-08-08\n",
      "BBL,155.00,152.00,155.50,129.00,161.50,1.64,2025-08-08\n",
      "BCH,14.30,14.10,14.50,12.30,19.20,0.0,2025-08-08\n",
      "BCP,33.50,33.25,34.00,26.50,41.00,-1.47,2025-08-08\n",
      "BCPG,8.20,7.65,8.20,5.05,7.80,8.61,2025-08-08\n",
      "BCT,48.50,47.50,48.50,43.50,76.75,2.11,2025-08-08\n",
      "BDMS,22.10,22.00,22.50,19.80,31.25,-0.45,2025-08-08\n",
      "BE8,7.50,7.35,7.70,5.20,21.20,-1.32,2025-08-08\n",
      "BEAUTY,0.31,0.31,0.33,0.19,0.57,-3.13,2025-08-08\n",
      "BEC,2.60,2.58,2.70,1.79,4.68,-3.7,2025-08-08\n",
      "BEM,5.50,5.40,5.55,4.56,8.30,-0.9,2025-08-08\n",
      "BGC,5.10,5.00,5.15,4.54,7.90,2.0,2025-08-08\n",
      "BGRIM,11.90,11.70,12.30,8.90,24.80,-4.03,2025-08-08\n",
      "BH,190.00,187.50,191.50,130.00,284.00,0.26,2025-08-08\n",
      "BJC,19.10,19.00,19.30,16.50,25.75,-1.55,2025-08-08\n",
      "BKIH,288.00,288.00,291.00,271.00,316.00,-1.03,2025-08-08\n",
      "BLA,18.50,17.90,18.70,14.00,25.75,3.35,2025-08-08\n",
      "BLAND,0.50,0.49,0.51,0.38,0.70,0.0,2025-08-08\n",
      "BPP,8.20,8.05,8.40,6.20,13.60,0.0,2025-08-08\n",
      "BTS,3.52,3.48,3.60,3.28,6.40,-2.22,2025-08-08\n",
      "BTSGIF,2.66,2.64,2.68,2.54,3.52,0.0,2025-08-08\n",
      "CBG,56.25,55.50,57.00,46.50,82.00,-1.75,2025-08-08\n",
      "CENTEL,28.00,27.50,28.25,19.40,41.25,-0.88,2025-08-08\n",
      "CHG,1.81,1.78,1.84,1.39,3.00,-0.55,2025-08-08\n",
      "CK,13.70,13.60,14.00,10.20,21.10,-1.44,2025-08-08\n",
      "CKP,2.90,2.88,3.00,2.10,4.04,0.0,2025-08-08\n",
      "COM7,23.40,23.20,23.60,16.70,28.25,0.0,2025-08-08\n",
      "CPALL,46.25,45.75,47.25,41.50,68.00,-2.63,2025-08-08\n",
      "CPF,23.80,23.70,24.20,19.80,26.50,-1.24,2025-08-08\n",
      "CPN,51.75,51.00,52.50,41.00,68.75,-1.43,2025-08-08\n",
      "CPNCG,6.05,6.00,6.10,5.30,6.65,-1.63,2025-08-08\n",
      "CPNREIT,11.50,11.40,11.60,10.20,13.60,0.0,2025-08-08\n",
      "CRC,21.50,21.30,22.10,15.80,36.00,-2.71,2025-08-08\n",
      "DCC,1.46,1.44,1.46,1.18,2.04,1.39,2025-08-08\n",
      "DCON,0.24,0.23,0.25,0.23,0.41,4.35,2025-08-08\n",
      "DELTA,144.00,143.00,147.00,51.25,173.50,-2.04,2025-08-08\n",
      "DIF,8.45,8.35,8.45,7.35,9.85,0.6,2025-08-08\n",
      "DOHOME,3.96,3.92,4.08,2.26,11.26,-1.0,2025-08-08\n",
      "DRT,5.40,5.25,5.40,4.42,8.15,1.89,2025-08-08\n",
      "EA,2.94,2.94,3.04,1.73,7.32,-2.0,2025-08-08\n",
      "EASTW,2.10,2.08,2.14,1.57,3.90,0.0,2025-08-08\n",
      "EGATIF,6.00,6.00,6.10,5.75,6.40,0.0,2025-08-08\n",
      "EGCO,114.00,113.00,115.00,85.00,128.50,0.44,2025-08-08\n",
      "EPG,3.00,2.96,3.06,2.12,5.25,-1.32,2025-08-08\n",
      "FORTH,7.25,7.15,7.30,6.05,15.00,0.0,2025-08-08\n",
      "FPT,6.10,6.05,6.25,5.85,14.00,0.83,2025-08-08\n",
      "FSMART,7.05,6.90,7.05,4.74,9.15,2.17,2025-08-08\n",
      "FTREIT,9.45,9.45,9.55,8.60,11.30,1.07,2025-08-08\n",
      "GC,4.10,4.08,4.16,3.40,5.20,0.49,2025-08-08\n",
      "GFPT,10.10,10.10,10.20,8.00,13.10,-0.98,2025-08-08\n",
      "GGC,3.90,3.88,3.92,3.20,5.45,-1.02,2025-08-08\n",
      "GLOBAL,6.60,6.45,6.75,4.16,16.27,-0.75,2025-08-08\n",
      "GPSC,36.25,35.50,36.50,22.40,49.75,0.0,2025-08-08\n",
      "GRAMMY,4.58,4.54,4.58,4.30,8.50,0.0,2025-08-08\n",
      "GUNKUL,1.83,1.82,1.85,1.31,2.96,-1.08,2025-08-08\n",
      "GVREIT,6.65,6.55,6.70,5.25,7.15,1.53,2025-08-08\n",
      "HANA,22.20,22.20,22.80,14.00,44.00,-0.45,2025-08-08\n",
      "HFT,4.10,4.08,4.14,3.32,4.82,-0.49,2025-08-08\n",
      "HMPRO,7.00,6.60,7.00,5.70,11.10,0.0,2025-08-08\n",
      "HTC,15.30,15.20,15.40,14.50,17.70,0.0,2025-08-08\n",
      "ICHI,11.30,11.10,11.40,9.40,17.00,-0.88,2025-08-08\n",
      "III,5.05,4.86,5.15,4.18,7.20,3.06,2025-08-08\n",
      "ILM,13.70,13.60,14.00,11.50,18.90,-1.44,2025-08-08\n",
      "IMH,3.94,3.92,3.94,3.50,6.05,0.0,2025-08-08\n",
      "IMPACT,9.95,9.95,10.10,9.25,12.80,0.51,2025-08-08\n",
      "INOX,0.41,0.41,0.42,0.35,0.67,-2.38,2025-08-08\n",
      "IP,3.50,3.36,3.50,2.02,5.15,0.0,2025-08-08\n",
      "IRPC,0.97,0.95,1.00,0.70,1.86,-2.02,2025-08-08\n",
      "IVL,22.80,22.50,23.40,16.00,27.50,-2.56,2025-08-08\n",
      "3BBIF,6.35,6.30,6.40,5.00,6.75,0.0,2025-08-08\n",
      "JMART,9.35,8.75,9.75,5.20,17.70,1.63,2025-08-08\n",
      "JMT,12.00,11.70,12.30,7.35,22.00,-0.83,2025-08-08\n",
      "KBANK,168.00,166.50,169.50,127.00,168.50,0.9,2025-08-08\n",
      "KCE,24.20,24.10,24.60,13.70,41.50,0.83,2025-08-08\n",
      "KEX,1.49,1.48,1.49,0.78,3.40,0.68,2025-08-08\n",
      "KGI,3.94,3.90,3.94,3.40,4.66,0.51,2025-08-08\n",
      "KKP,57.50,56.75,57.75,37.75,58.25,0.88,2025-08-08\n",
      "KSL,1.55,1.50,1.55,1.25,2.36,1.97,2025-08-08\n",
      "KTB,24.10,23.50,24.20,17.50,24.70,2.55,2025-08-08\n",
      "KTC,29.50,29.00,30.00,21.80,52.25,1.72,2025-08-08\n",
      "KYE,290.00,290.00,293.00,280.00,324.00,-0.68,2025-08-08\n",
      "LALIN,4.96,4.96,5.00,4.80,6.80,-0.4,2025-08-08\n",
      "LANNA,16.30,16.20,16.40,14.00,17.50,0.62,2025-08-08\n",
      "LH,3.94,3.92,4.00,3.18,6.50,-1.01,2025-08-08\n",
      "LHFG,0.78,0.78,0.79,0.71,0.96,1.3,2025-08-08\n",
      "LHK,3.58,3.56,3.60,3.02,4.12,0.56,2025-08-08\n",
      "LIT,0.72,0.71,0.73,0.39,1.34,0.0,2025-08-08\n",
      "LPH,4.28,4.14,4.44,3.20,4.78,3.38,2025-08-08\n",
      "LPN,1.77,1.75,1.78,1.61,3.38,0.57,2025-08-08\n",
      "M,24.80,24.30,25.25,13.80,30.75,1.22,2025-08-08\n",
      "MAJOR,8.70,8.40,8.75,7.35,16.00,1.16,2025-08-08\n",
      "MBAX,1.37,1.37,1.39,1.17,3.10,-2.14,2025-08-08\n",
      "MC,10.30,10.20,10.40,9.15,13.00,0.0,2025-08-08\n",
      "MCS,8.65,8.60,8.70,5.80,9.20,0.0,2025-08-08\n",
      "MEGA,30.50,30.50,30.75,24.30,41.25,0.0,2025-08-08\n",
      "MINT,24.50,24.30,24.80,21.70,29.50,-0.81,2025-08-08\n",
      "MST,7.25,7.25,7.30,5.50,10.30,-0.68,2025-08-08\n",
      "MTC,37.25,37.25,38.25,33.75,54.00,-3.87,2025-08-08\n",
      "NER,4.58,4.50,4.60,3.88,5.65,0.88,2025-08-08\n",
      "NOBLE,1.80,1.79,1.86,1.60,3.46,-0.55,2025-08-08\n",
      "ONEE,2.38,2.38,2.44,1.99,4.68,-0.83,2025-08-08\n",
      "OR,12.90,12.30,12.90,10.10,17.80,0.0,2025-08-08\n",
      "ORI,2.12,2.08,2.16,1.50,5.75,-0.93,2025-08-08\n",
      "OSP,18.40,18.20,18.50,12.90,24.30,-0.54,2025-08-08\n",
      "PAP,1.75,1.75,1.79,1.31,2.96,0.57,2025-08-08\n",
      "PCSGH,3.10,3.08,3.14,2.46,4.98,-0.64,2025-08-08\n",
      "PDG,2.84,2.78,2.84,2.36,2.86,2.16,2025-08-08\n",
      "PLANB,5.10,5.05,5.25,4.08,8.60,-1.92,2025-08-08\n",
      "POPF,6.05,5.95,6.05,5.40,6.70,0.83,2025-08-08\n",
      "PREB,3.52,3.52,3.60,3.34,5.55,-1.68,2025-08-08\n",
      "PRM,6.40,6.35,6.45,5.10,9.30,0.0,2025-08-08\n",
      "PSH,4.46,4.44,4.58,3.66,9.80,-2.19,2025-08-08\n",
      "PSL,6.75,6.50,6.80,4.96,9.60,3.05,2025-08-08\n",
      "PTG,6.75,6.65,6.80,5.45,10.70,-0.74,2025-08-08\n",
      "PTL,10.30,10.20,10.50,9.20,14.40,-2.83,2025-08-08\n",
      "PTT,32.00,31.75,32.50,27.00,35.00,-0.78,2025-08-08\n",
      "PTTEP,119.00,118.00,119.50,93.00,150.50,-2.86,2025-08-08\n",
      "PTTGC,24.10,23.80,24.40,14.20,32.75,-0.41,2025-08-08\n",
      "QH,1.45,1.42,1.46,1.15,2.00,-0.68,2025-08-08\n",
      "RATCH,26.75,26.50,27.00,22.50,34.25,0.94,2025-08-08\n",
      "RBF,3.68,3.58,3.76,3.04,7.40,-0.54,2025-08-08\n",
      "RCL,31.25,29.25,31.75,18.20,31.00,6.84,2025-08-08\n",
      "RJH,14.20,14.10,14.20,11.50,26.25,0.0,2025-08-08\n",
      "ROJNA,4.86,4.82,4.88,4.14,7.50,-0.41,2025-08-08\n",
      "RS,0.31,0.29,0.35,0.19,6.30,3.33,2025-08-08\n",
      "S11,3.28,3.18,3.30,1.68,3.70,1.86,2025-08-08\n",
      "SAPPE,38.00,37.75,39.00,27.50,98.00,-3.18,2025-08-08\n",
      "SAT,12.70,12.50,12.90,9.95,13.70,0.0,2025-08-08\n",
      "SAWAD,22.00,21.90,22.70,14.80,41.36,-3.08,2025-08-08\n",
      "SC,1.83,1.79,1.84,1.40,3.22,0.55,2025-08-08\n",
      "SCB,130.00,128.00,130.50,100.50,130.00,1.17,2025-08-08\n",
      "SCC,203.00,201.00,204.00,124.50,255.00,0.0,2025-08-08\n",
      "SCCC,151.50,151.00,152.00,135.00,177.50,0.66,2025-08-08\n",
      "SCGP,18.10,17.90,18.30,10.70,32.25,-1.63,2025-08-08\n",
      "SENA,1.78,1.77,1.80,1.54,2.50,-1.66,2025-08-08\n",
      "SGP,6.70,6.55,6.70,5.90,7.65,1.52,2025-08-08\n",
      "SINGER,5.70,5.60,5.90,3.92,12.70,-1.72,2025-08-08\n",
      "SIRI,1.51,1.49,1.52,1.11,1.94,0.0,2025-08-08\n",
      "SIS,22.80,22.60,23.10,17.60,31.25,0.0,2025-08-08\n",
      "SJWD,9.00,8.95,9.10,5.75,12.50,0.56,2025-08-08\n",
      "SKN,5.80,5.55,5.80,5.05,6.40,0.87,2025-08-08\n",
      "SKR,7.15,7.05,7.20,6.20,9.80,-0.69,2025-08-08\n",
      "SMPC,9.20,8.80,9.25,7.80,10.10,7.6,2025-08-08\n",
      "SNC,5.95,5.95,6.05,4.72,7.35,-0.83,2025-08-08\n",
      "SPALI,15.50,15.30,15.80,13.20,21.10,-2.52,2025-08-08\n",
      "SPC,58.25,58.25,58.75,53.00,61.50,-0.43,2025-08-08\n",
      "SPCG,8.30,8.20,8.35,6.60,9.40,1.22,2025-08-08\n",
      "SPRC,5.60,5.50,5.65,4.26,7.55,0.0,2025-08-08\n",
      "SPRIME,3.42,3.42,3.46,3.00,4.56,-1.16,2025-08-08\n",
      "SSP,4.10,4.08,4.10,4.04,6.40,0.49,2025-08-08\n",
      "STA,13.80,13.80,14.10,10.30,25.75,-1.43,2025-08-08\n",
      "STANLY,183.50,183.50,184.50,183.50,225.00,-0.27,2025-08-08\n",
      "STGT,7.05,6.90,7.05,5.10,13.30,0.0,2025-08-08\n",
      "SUPER,0.15,0.15,0.16,0.12,0.32,-6.25,2025-08-08\n",
      "SUPEREIF,5.25,5.15,5.25,4.72,7.05,0.96,2025-08-08\n",
      "SVI,5.90,5.75,5.95,5.55,9.40,0.0,2025-08-08\n",
      "SYNEX,12.50,12.20,12.60,9.30,16.70,-0.79,2025-08-08\n",
      "TASCO,14.90,14.80,15.10,13.20,20.00,-0.67,2025-08-08\n",
      "TCAP,49.25,48.50,49.50,44.25,53.50,0.51,2025-08-08\n",
      "TFFIF,6.05,6.00,6.10,5.25,7.20,-0.82,2025-08-08\n",
      "TFG,5.25,5.10,5.25,3.02,5.45,0.96,2025-08-08\n",
      "THANI,1.66,1.66,1.73,1.15,2.26,-3.49,2025-08-08\n",
      "THG,9.35,9.30,9.70,7.75,37.00,-2.6,2025-08-08\n",
      "TIPH,20.30,19.90,20.40,16.70,30.50,0.5,2025-08-08\n",
      "TIPCO,8.85,8.80,8.95,8.35,10.40,0.0,2025-08-08\n",
      "TISCO,101.00,99.50,101.00,90.00,101.00,1.25,2025-08-08\n",
      "TK,4.22,4.16,4.24,3.28,5.45,1.93,2025-08-08\n",
      "TKN,6.05,6.00,6.25,5.00,11.80,0.83,2025-08-08\n",
      "TKS,6.20,5.80,6.30,4.90,8.15,6.9,2025-08-08\n",
      "TMT,3.38,3.32,3.42,2.60,5.40,1.81,2025-08-08\n",
      "TMW,49.75,49.50,53.00,46.25,66.75,0.51,2025-08-08\n",
      "TOA,14.60,14.40,14.90,9.35,20.50,-1.35,2025-08-08\n",
      "TOP,34.00,33.50,34.25,21.00,55.50,1.49,2025-08-08\n",
      "TPIPL,0.91,0.90,0.95,0.72,1.29,-2.15,2025-08-08\n",
      "TPIPP,2.44,2.40,2.44,1.99,3.14,1.67,2025-08-08\n",
      "TQM,15.10,14.90,15.40,12.20,33.25,-0.66,2025-08-08\n",
      "TRUE,10.80,10.70,11.10,9.85,13.30,-1.82,2025-08-08\n",
      "TSE,0.45,0.44,0.46,0.29,1.24,0.0,2025-08-08\n",
      "TSTH,0.80,0.79,0.80,0.47,0.93,1.27,2025-08-08\n",
      "TTA,4.54,4.46,4.56,3.22,6.55,1.79,2025-08-08\n",
      "TTB,1.93,1.91,1.94,1.64,2.06,0.52,2025-08-08\n",
      "TTLPF,11.00,10.90,11.00,10.90,17.00,0.0,2025-08-08\n",
      "TTW,9.10,9.05,9.15,8.45,9.50,0.0,2025-08-08\n",
      "TU,12.50,12.40,12.70,8.60,15.80,-1.57,2025-08-08\n",
      "TVO,23.60,23.40,23.60,19.70,25.25,1.29,2025-08-08\n",
      "TYCN,1.72,1.69,1.78,1.62,2.62,2.38,2025-08-08\n",
      "UTP,7.70,7.65,7.75,7.20,11.30,0.0,2025-08-08\n",
      "VGI,2.06,2.04,2.10,1.65,3.68,-2.83,2025-08-08\n",
      "VIBHA,1.50,1.50,1.51,1.37,2.30,0.0,2025-08-08\n",
      "VNG,2.00,2.00,2.02,1.89,3.82,-0.99,2025-08-08\n",
      "WHA,3.54,3.52,3.60,2.26,6.20,-2.21,2025-08-08\n",
      "WHAIR,5.50,5.45,5.55,4.12,6.75,-0.9,2025-08-08\n",
      "WHART,9.30,9.30,9.45,8.55,10.80,0.0,2025-08-08\n",
      "WHAUP,3.46,3.42,3.50,2.76,5.50,-0.57,2025-08-08\n",
      "WICE,3.30,3.26,3.36,2.34,6.95,-0.6,2025-08-08\n",
      "WORK,4.40,4.36,4.50,3.82,10.40,-2.65,2025-08-08\n"
     ]
    }
   ],
   "source": [
    "df = pd.read_csv(input_file, header=None)\n",
    "out_df = get_stock_data(df)"
   ]
  },
  {
   "cell_type": "code",
   "execution_count": 13,
   "id": "d31edacf",
   "metadata": {},
   "outputs": [
    {
     "name": "stdout",
     "output_type": "stream",
     "text": [
      "End at:  09:03 PM\n"
     ]
    }
   ],
   "source": [
    "end_time = strftime(\"%I:%M %p\")\n",
    "print('End at: ', end_time)"
   ]
  },
  {
   "cell_type": "code",
   "execution_count": 14,
   "id": "b89c4ae7",
   "metadata": {},
   "outputs": [
    {
     "data": {
      "text/html": [
       "<div>\n",
       "<style scoped>\n",
       "    .dataframe tbody tr th:only-of-type {\n",
       "        vertical-align: middle;\n",
       "    }\n",
       "\n",
       "    .dataframe tbody tr th {\n",
       "        vertical-align: top;\n",
       "    }\n",
       "\n",
       "    .dataframe thead th {\n",
       "        text-align: right;\n",
       "    }\n",
       "</style>\n",
       "<table border=\"1\" class=\"dataframe\">\n",
       "  <thead>\n",
       "    <tr style=\"text-align: right;\">\n",
       "      <th></th>\n",
       "      <th>name</th>\n",
       "      <th>price</th>\n",
       "      <th>today_low</th>\n",
       "      <th>today_high</th>\n",
       "      <th>year_low</th>\n",
       "      <th>year_high</th>\n",
       "      <th>percent</th>\n",
       "      <th>updated_at</th>\n",
       "    </tr>\n",
       "  </thead>\n",
       "  <tbody>\n",
       "  </tbody>\n",
       "</table>\n",
       "</div>"
      ],
      "text/plain": [
       "Empty DataFrame\n",
       "Columns: [name, price, today_low, today_high, year_low, year_high, percent, updated_at]\n",
       "Index: []"
      ]
     },
     "execution_count": 14,
     "metadata": {},
     "output_type": "execute_result"
    }
   ],
   "source": [
    "out_df.query('price == \"-\"')"
   ]
  },
  {
   "cell_type": "code",
   "execution_count": 15,
   "id": "784f1b6d",
   "metadata": {},
   "outputs": [
    {
     "data": {
      "text/plain": [
       "(216, 8)"
      ]
     },
     "execution_count": 15,
     "metadata": {},
     "output_type": "execute_result"
    }
   ],
   "source": [
    "out_df.shape"
   ]
  },
  {
   "cell_type": "code",
   "execution_count": 16,
   "id": "6326d0c5",
   "metadata": {},
   "outputs": [],
   "source": [
    "out_df = out_df[out_df['name'] != 'BCT']"
   ]
  },
  {
   "cell_type": "code",
   "execution_count": 17,
   "id": "2a293f55-436e-45d1-9966-50d12c26e659",
   "metadata": {},
   "outputs": [],
   "source": [
    "out_df = out_df[out_df['name'] != 'LPF']"
   ]
  },
  {
   "cell_type": "code",
   "execution_count": 18,
   "id": "cc4b3547-5ea9-4ac6-bd11-896e67d464ed",
   "metadata": {},
   "outputs": [],
   "source": [
    "out_df = out_df[out_df['name'] != 'TYCN']"
   ]
  },
  {
   "cell_type": "code",
   "execution_count": 19,
   "id": "865622c2-dad3-4ba8-b35a-898461fe5e9a",
   "metadata": {},
   "outputs": [],
   "source": [
    "out_df = out_df[out_df['name'] != 'GRAMMY']"
   ]
  },
  {
   "cell_type": "code",
   "execution_count": 20,
   "id": "cb2d763d-5b75-4ace-b87a-f165c8e6cb91",
   "metadata": {},
   "outputs": [],
   "source": [
    "out_df = out_df[out_df['name'] != 'MST']"
   ]
  },
  {
   "cell_type": "code",
   "execution_count": 21,
   "id": "e65305f0-157a-4129-a758-15c02e8df06a",
   "metadata": {},
   "outputs": [],
   "source": [
    "out_df = out_df[out_df['name'] != 'SPC']"
   ]
  },
  {
   "cell_type": "code",
   "execution_count": 22,
   "id": "cb55b5f6-0679-4191-aeda-ab0cf45f18e7",
   "metadata": {},
   "outputs": [],
   "source": [
    "out_df = out_df[out_df['name'] != 'SPRIME']"
   ]
  },
  {
   "cell_type": "code",
   "execution_count": 23,
   "id": "981854f1-01a1-4e26-b2a9-4f58948a33ec",
   "metadata": {},
   "outputs": [],
   "source": [
    "out_df = out_df[out_df['name'] != 'FPT']"
   ]
  },
  {
   "cell_type": "code",
   "execution_count": 24,
   "id": "a2833967-e889-4ad5-97b2-8234ba35c31c",
   "metadata": {},
   "outputs": [],
   "source": [
    "out_df = out_df[out_df['name'] != 'GGC']"
   ]
  },
  {
   "cell_type": "code",
   "execution_count": 25,
   "id": "b2771ed1",
   "metadata": {},
   "outputs": [
    {
     "data": {
      "text/plain": [
       "(208, 8)"
      ]
     },
     "execution_count": 25,
     "metadata": {},
     "output_type": "execute_result"
    }
   ],
   "source": [
    "out_df.shape"
   ]
  },
  {
   "cell_type": "code",
   "execution_count": 26,
   "id": "eb2ffec6",
   "metadata": {},
   "outputs": [],
   "source": [
    "out_df['price'] = out_df['price'].astype('float')\n",
    "out_df['today_low'] = out_df['today_low'].astype('float')\n",
    "out_df['today_high'] = out_df['today_high'].astype('float')\n",
    "out_df['year_low'] = out_df['year_low'].astype('float')\n",
    "out_df['year_high'] = out_df['year_high'].astype('float')\n",
    "out_df['percent'] = out_df['percent'].astype('float')"
   ]
  },
  {
   "cell_type": "code",
   "execution_count": 27,
   "id": "f4fb1a3c",
   "metadata": {},
   "outputs": [],
   "source": [
    "sorted_out_df = out_df.sort_values('percent')"
   ]
  },
  {
   "cell_type": "code",
   "execution_count": 28,
   "id": "032f0eea",
   "metadata": {},
   "outputs": [
    {
     "data": {
      "text/html": [
       "<div>\n",
       "<style scoped>\n",
       "    .dataframe tbody tr th:only-of-type {\n",
       "        vertical-align: middle;\n",
       "    }\n",
       "\n",
       "    .dataframe tbody tr th {\n",
       "        vertical-align: top;\n",
       "    }\n",
       "\n",
       "    .dataframe thead th {\n",
       "        text-align: right;\n",
       "    }\n",
       "</style>\n",
       "<table border=\"1\" class=\"dataframe\">\n",
       "  <thead>\n",
       "    <tr style=\"text-align: right;\">\n",
       "      <th></th>\n",
       "      <th>name</th>\n",
       "      <th>price</th>\n",
       "      <th>today_low</th>\n",
       "      <th>today_high</th>\n",
       "      <th>year_low</th>\n",
       "      <th>year_high</th>\n",
       "      <th>percent</th>\n",
       "      <th>updated_at</th>\n",
       "    </tr>\n",
       "  </thead>\n",
       "  <tbody>\n",
       "  </tbody>\n",
       "</table>\n",
       "</div>"
      ],
      "text/plain": [
       "Empty DataFrame\n",
       "Columns: [name, price, today_low, today_high, year_low, year_high, percent, updated_at]\n",
       "Index: []"
      ]
     },
     "execution_count": 28,
     "metadata": {},
     "output_type": "execute_result"
    }
   ],
   "source": [
    "sorted_out_df.query('today_low < year_low')"
   ]
  },
  {
   "cell_type": "code",
   "execution_count": 29,
   "id": "8e04b03d",
   "metadata": {},
   "outputs": [
    {
     "data": {
      "text/html": [
       "<div>\n",
       "<style scoped>\n",
       "    .dataframe tbody tr th:only-of-type {\n",
       "        vertical-align: middle;\n",
       "    }\n",
       "\n",
       "    .dataframe tbody tr th {\n",
       "        vertical-align: top;\n",
       "    }\n",
       "\n",
       "    .dataframe thead th {\n",
       "        text-align: right;\n",
       "    }\n",
       "</style>\n",
       "<table border=\"1\" class=\"dataframe\">\n",
       "  <thead>\n",
       "    <tr style=\"text-align: right;\">\n",
       "      <th></th>\n",
       "      <th>name</th>\n",
       "      <th>price</th>\n",
       "      <th>today_low</th>\n",
       "      <th>today_high</th>\n",
       "      <th>year_low</th>\n",
       "      <th>year_high</th>\n",
       "      <th>percent</th>\n",
       "      <th>updated_at</th>\n",
       "    </tr>\n",
       "  </thead>\n",
       "  <tbody>\n",
       "    <tr>\n",
       "      <th>92</th>\n",
       "      <td>KBANK</td>\n",
       "      <td>168.00</td>\n",
       "      <td>166.50</td>\n",
       "      <td>169.50</td>\n",
       "      <td>127.00</td>\n",
       "      <td>168.5</td>\n",
       "      <td>0.90</td>\n",
       "      <td>2025-08-08</td>\n",
       "    </tr>\n",
       "    <tr>\n",
       "      <th>150</th>\n",
       "      <td>SCB</td>\n",
       "      <td>130.00</td>\n",
       "      <td>128.00</td>\n",
       "      <td>130.50</td>\n",
       "      <td>100.50</td>\n",
       "      <td>130.0</td>\n",
       "      <td>1.17</td>\n",
       "      <td>2025-08-08</td>\n",
       "    </tr>\n",
       "    <tr>\n",
       "      <th>141</th>\n",
       "      <td>RCL</td>\n",
       "      <td>31.25</td>\n",
       "      <td>29.25</td>\n",
       "      <td>31.75</td>\n",
       "      <td>18.20</td>\n",
       "      <td>31.0</td>\n",
       "      <td>6.84</td>\n",
       "      <td>2025-08-08</td>\n",
       "    </tr>\n",
       "    <tr>\n",
       "      <th>24</th>\n",
       "      <td>BCPG</td>\n",
       "      <td>8.20</td>\n",
       "      <td>7.65</td>\n",
       "      <td>8.20</td>\n",
       "      <td>5.05</td>\n",
       "      <td>7.8</td>\n",
       "      <td>8.61</td>\n",
       "      <td>2025-08-08</td>\n",
       "    </tr>\n",
       "  </tbody>\n",
       "</table>\n",
       "</div>"
      ],
      "text/plain": [
       "      name   price  today_low  today_high  year_low  year_high  percent  \\\n",
       "92   KBANK  168.00     166.50      169.50    127.00      168.5     0.90   \n",
       "150    SCB  130.00     128.00      130.50    100.50      130.0     1.17   \n",
       "141    RCL   31.25      29.25       31.75     18.20       31.0     6.84   \n",
       "24    BCPG    8.20       7.65        8.20      5.05        7.8     8.61   \n",
       "\n",
       "     updated_at  \n",
       "92   2025-08-08  \n",
       "150  2025-08-08  \n",
       "141  2025-08-08  \n",
       "24   2025-08-08  "
      ]
     },
     "execution_count": 29,
     "metadata": {},
     "output_type": "execute_result"
    }
   ],
   "source": [
    "sorted_out_df.query('today_high > year_high')"
   ]
  },
  {
   "cell_type": "code",
   "execution_count": 30,
   "id": "290a9607",
   "metadata": {},
   "outputs": [
    {
     "data": {
      "text/html": [
       "<div>\n",
       "<style scoped>\n",
       "    .dataframe tbody tr th:only-of-type {\n",
       "        vertical-align: middle;\n",
       "    }\n",
       "\n",
       "    .dataframe tbody tr th {\n",
       "        vertical-align: top;\n",
       "    }\n",
       "\n",
       "    .dataframe thead th {\n",
       "        text-align: right;\n",
       "    }\n",
       "</style>\n",
       "<table border=\"1\" class=\"dataframe\">\n",
       "  <thead>\n",
       "    <tr style=\"text-align: right;\">\n",
       "      <th></th>\n",
       "      <th>name</th>\n",
       "      <th>price</th>\n",
       "      <th>today_low</th>\n",
       "      <th>today_high</th>\n",
       "      <th>year_low</th>\n",
       "      <th>year_high</th>\n",
       "      <th>percent</th>\n",
       "      <th>updated_at</th>\n",
       "    </tr>\n",
       "  </thead>\n",
       "  <tbody>\n",
       "    <tr>\n",
       "      <th>24</th>\n",
       "      <td>BCPG</td>\n",
       "      <td>8.20</td>\n",
       "      <td>7.65</td>\n",
       "      <td>8.20</td>\n",
       "      <td>5.05</td>\n",
       "      <td>7.8</td>\n",
       "      <td>8.61</td>\n",
       "      <td>2025-08-08</td>\n",
       "    </tr>\n",
       "    <tr>\n",
       "      <th>92</th>\n",
       "      <td>KBANK</td>\n",
       "      <td>168.00</td>\n",
       "      <td>166.50</td>\n",
       "      <td>169.50</td>\n",
       "      <td>127.00</td>\n",
       "      <td>168.5</td>\n",
       "      <td>0.90</td>\n",
       "      <td>2025-08-08</td>\n",
       "    </tr>\n",
       "    <tr>\n",
       "      <th>141</th>\n",
       "      <td>RCL</td>\n",
       "      <td>31.25</td>\n",
       "      <td>29.25</td>\n",
       "      <td>31.75</td>\n",
       "      <td>18.20</td>\n",
       "      <td>31.0</td>\n",
       "      <td>6.84</td>\n",
       "      <td>2025-08-08</td>\n",
       "    </tr>\n",
       "    <tr>\n",
       "      <th>150</th>\n",
       "      <td>SCB</td>\n",
       "      <td>130.00</td>\n",
       "      <td>128.00</td>\n",
       "      <td>130.50</td>\n",
       "      <td>100.50</td>\n",
       "      <td>130.0</td>\n",
       "      <td>1.17</td>\n",
       "      <td>2025-08-08</td>\n",
       "    </tr>\n",
       "  </tbody>\n",
       "</table>\n",
       "</div>"
      ],
      "text/plain": [
       "      name   price  today_low  today_high  year_low  year_high  percent  \\\n",
       "24    BCPG    8.20       7.65        8.20      5.05        7.8     8.61   \n",
       "92   KBANK  168.00     166.50      169.50    127.00      168.5     0.90   \n",
       "141    RCL   31.25      29.25       31.75     18.20       31.0     6.84   \n",
       "150    SCB  130.00     128.00      130.50    100.50      130.0     1.17   \n",
       "\n",
       "     updated_at  \n",
       "24   2025-08-08  \n",
       "92   2025-08-08  \n",
       "141  2025-08-08  \n",
       "150  2025-08-08  "
      ]
     },
     "execution_count": 30,
     "metadata": {},
     "output_type": "execute_result"
    }
   ],
   "source": [
    "out_df.query('today_high > year_high')"
   ]
  },
  {
   "cell_type": "code",
   "execution_count": 31,
   "id": "5fbeba56-2a63-4650-898b-6447a81f95f5",
   "metadata": {},
   "outputs": [],
   "source": [
    "file_name = \"Price-Hilo.csv\"\n",
    "output_file = os.path.join(dat_path, file_name)\n",
    "god_file = os.path.join(god_path, file_name)\n",
    "icd_file = os.path.join(icd_path, file_name)\n",
    "osd_file = os.path.join(osd_path, file_name)"
   ]
  },
  {
   "cell_type": "code",
   "execution_count": 32,
   "id": "da6183ac-2f05-4f67-b200-fe83634d29dc",
   "metadata": {},
   "outputs": [
    {
     "name": "stdout",
     "output_type": "stream",
     "text": [
      "output_file : C:\\Users\\PC1\\OneDrive\\A5\\Data\\Price-Hilo.csv\n",
      "icd_file : C:\\Users\\PC1\\iCloudDrive\\Data\\Price-Hilo.csv\n",
      "god_file : C:\\Users\\PC1\\OneDrive\\Imports\\santisoontarinka@gmail.com - Google Drive\\Data\\Price-Hilo.csv\n",
      "osd_file : C:\\Users\\PC1\\OneDrive\\Documents\\obsidian-git-sync\\Data\\Price-Hilo.csv\n"
     ]
    }
   ],
   "source": [
    "print(f\"output_file : {output_file}\") \n",
    "print(f\"icd_file : {icd_file}\") \n",
    "print(f\"god_file : {god_file}\") \n",
    "print(f\"osd_file : {osd_file}\") "
   ]
  },
  {
   "cell_type": "code",
   "execution_count": 33,
   "id": "8017b53b",
   "metadata": {},
   "outputs": [],
   "source": [
    "out_df.to_csv(output_file, index=False)  \n",
    "out_df.to_csv(god_file, index=False) \n",
    "out_df.to_csv(icd_file, index=False)  \n",
    "out_df.to_csv(osd_file, index=False) "
   ]
  },
  {
   "cell_type": "code",
   "execution_count": 34,
   "id": "80692fae-6308-4695-bcac-5124ce4d44e3",
   "metadata": {},
   "outputs": [
    {
     "name": "stdout",
     "output_type": "stream",
     "text": [
      "2025-08-08 21:03:30\n"
     ]
    }
   ],
   "source": [
    "# Get the current time\n",
    "current_time = datetime.now()\n",
    "# Format the time to remove milliseconds\n",
    "formatted_time = current_time.strftime(\"%Y-%m-%d %H:%M:%S\")\n",
    "print(formatted_time)"
   ]
  }
 ],
 "metadata": {
  "kernelspec": {
   "display_name": "Python 3 (ipykernel)",
   "language": "python",
   "name": "python3"
  },
  "language_info": {
   "codemirror_mode": {
    "name": "ipython",
    "version": 3
   },
   "file_extension": ".py",
   "mimetype": "text/x-python",
   "name": "python",
   "nbconvert_exporter": "python",
   "pygments_lexer": "ipython3",
   "version": "3.12.3"
  }
 },
 "nbformat": 4,
 "nbformat_minor": 5
}
