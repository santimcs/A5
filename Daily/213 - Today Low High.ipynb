{
 "cells": [
  {
   "cell_type": "markdown",
   "id": "930356c6",
   "metadata": {},
   "source": [
    "### Start and Run All"
   ]
  },
  {
   "cell_type": "code",
   "execution_count": 2,
   "id": "d7cfc693",
   "metadata": {},
   "outputs": [
    {
     "name": "stdout",
     "output_type": "stream",
     "text": [
      "2025-09-03 20:17:45\n"
     ]
    }
   ],
   "source": [
    "import os\n",
    "import pandas as pd\n",
    "from urllib import request\n",
    "from bs4 import BeautifulSoup\n",
    "# from datetime import date, timedelta\n",
    "from datetime import datetime\n",
    "from time import sleep, strftime\n",
    "\n",
    "# Get the current time\n",
    "current_time = datetime.now()\n",
    "# Format the time to remove milliseconds\n",
    "formatted_time = current_time.strftime(\"%Y-%m-%d %H:%M:%S\")\n",
    "print(formatted_time)"
   ]
  },
  {
   "cell_type": "code",
   "execution_count": 3,
   "id": "0cbdda38-ec42-4470-bede-c468ba46f8d8",
   "metadata": {},
   "outputs": [],
   "source": [
    "url = \"https://www.set.or.th/en/market/product/stock/quote/\"\n",
    "percent_span = '' "
   ]
  },
  {
   "cell_type": "code",
   "execution_count": 4,
   "id": "6e4b7508-0071-480d-99c8-a6c070027294",
   "metadata": {},
   "outputs": [],
   "source": [
    "# Get the user's home directory\n",
    "user_path = os.path.expanduser('~')\n",
    "# Get the current working directory\n",
    "current_path = os.getcwd()\n",
    "# Derive the base directory (base_dir) by removing the last folder ('Daily')\n",
    "base_path = os.path.dirname(current_path)\n",
    "#C:\\Users\\PC1\\OneDrive\\A5\\Data\n",
    "dat_path = os.path.join(base_path, \"Data\")\n",
    "#C:\\Users\\PC1\\OneDrive\\Imports\\santisoontarinka@gmail.com - Google Drive\\Data>\n",
    "god_path = os.path.join(user_path, \"OneDrive\",\"Imports\",\"santisoontarinka@gmail.com - Google Drive\",\"Data\")\n",
    "#C:\\Users\\PC1\\iCloudDrive\\data\n",
    "icd_path = os.path.join(user_path, \"iCloudDrive\", \"Data\")\n",
    "#C:\\Users\\PC1\\OneDrive\\Documents\\obsidian-git-sync\\Data\n",
    "osd_path = os.path.join(user_path, \"OneDrive\",\"Documents\",\"obsidian-git-sync\",\"Data\")"
   ]
  },
  {
   "cell_type": "code",
   "execution_count": 5,
   "id": "07defeb3-a742-4e64-8089-7e4fe5b8b93c",
   "metadata": {},
   "outputs": [
    {
     "name": "stdout",
     "output_type": "stream",
     "text": [
      "User path: C:\\Users\\PC1\n",
      "Current path: C:\\Users\\PC1\\OneDrive\\A5\\Daily\n",
      "Base path: C:\\Users\\PC1\\OneDrive\\A5\n",
      "Data path : C:\\Users\\PC1\\OneDrive\\A5\\Data\n",
      "Google Drive path : C:\\Users\\PC1\\OneDrive\\Imports\\santisoontarinka@gmail.com - Google Drive\\Data\n",
      "iCloudDrive path : C:\\Users\\PC1\\iCloudDrive\\Data\n",
      "Obsidian path : C:\\Users\\PC1\\OneDrive\\Documents\\obsidian-git-sync\\Data\n"
     ]
    }
   ],
   "source": [
    "print(\"User path:\", user_path)\n",
    "print(f\"Current path: {current_path}\")\n",
    "print(f\"Base path: {base_path}\")\n",
    "print(f\"Data path : {dat_path}\") \n",
    "print(f\"Google Drive path : {god_path}\")\n",
    "print(f\"iCloudDrive path : {icd_path}\") \n",
    "print(f\"Obsidian path : {osd_path}\") "
   ]
  },
  {
   "cell_type": "code",
   "execution_count": 6,
   "id": "08576879-dc60-431b-a31a-e1893e2d7922",
   "metadata": {},
   "outputs": [
    {
     "name": "stdout",
     "output_type": "stream",
     "text": [
      "Input file : C:\\Users\\PC1\\OneDrive\\A5\\Data\\name-ttl.csv\n"
     ]
    }
   ],
   "source": [
    "file_name = \"name-ttl.csv\"\n",
    "input_file = os.path.join(dat_path, file_name)\n",
    "print(f\"Input file : {input_file}\") "
   ]
  },
  {
   "cell_type": "code",
   "execution_count": 7,
   "id": "9b9668db-0773-4de5-9bd4-864c377dab80",
   "metadata": {},
   "outputs": [],
   "source": [
    "file_name = \"price-hilo.csv\"\n",
    "output_file = os.path.join(dat_path, file_name)\n",
    "god_file = os.path.join(god_path, file_name)\n",
    "icd_file = os.path.join(icd_path, file_name)\n",
    "osd_file = os.path.join(osd_path, file_name)"
   ]
  },
  {
   "cell_type": "code",
   "execution_count": 8,
   "id": "66c38ef5-8643-4ad3-81ff-9e2275d426d5",
   "metadata": {},
   "outputs": [
    {
     "name": "stdout",
     "output_type": "stream",
     "text": [
      "Output file : C:\\Users\\PC1\\OneDrive\\A5\\Data\\price-hilo.csv\n",
      "icd_file : C:\\Users\\PC1\\iCloudDrive\\Data\\price-hilo.csv\n",
      "god_file : C:\\Users\\PC1\\OneDrive\\Imports\\santisoontarinka@gmail.com - Google Drive\\Data\\price-hilo.csv\n",
      "osd_file : C:\\Users\\PC1\\OneDrive\\Documents\\obsidian-git-sync\\Data\\price-hilo.csv\n"
     ]
    }
   ],
   "source": [
    "print(f\"Output file : {output_file}\") \n",
    "print(f\"icd_file : {icd_file}\") \n",
    "print(f\"god_file : {god_file}\") \n",
    "print(f\"osd_file : {osd_file}\")"
   ]
  },
  {
   "cell_type": "code",
   "execution_count": 9,
   "id": "c1ec2693",
   "metadata": {},
   "outputs": [],
   "source": [
    "def cvt_str_to_flt(input_str):\n",
    "    # Check for the special pattern and return 0\n",
    "    if input_str == '(-)':\n",
    "        return 0\n",
    "    \n",
    "    # Remove parentheses and percent sign\n",
    "    cleaned_str = input_str.replace('(', '').replace(')', '').replace('%', '')\n",
    "\n",
    "    # Convert to float\n",
    "    try:\n",
    "        return float(cleaned_str)\n",
    "    except ValueError:\n",
    "        # Handle the case where the conversion fails\n",
    "        return None\n",
    " "
   ]
  },
  {
   "cell_type": "code",
   "execution_count": 10,
   "id": "334bed1f",
   "metadata": {},
   "outputs": [],
   "source": [
    "def get_stock_data(in_df):\n",
    "\n",
    "    in_df.columns = ['name']\n",
    "    \n",
    "    output_columns = ['name', 'price', 'today_low', 'today_high', 'year_low', 'year_high', 'percent', 'updated_at']\n",
    "    # Initialize an empty DataFrame with specified columns\n",
    "    out_df = pd.DataFrame(columns=output_columns)\n",
    "    \n",
    "    for index, row in in_df.iterrows():\n",
    "        name = str(row['name']).upper()\n",
    "        response = request.urlopen(url + name + '/price')\n",
    "        html_page = BeautifulSoup(response, 'html.parser')\n",
    "        \n",
    "  #      price = html_page.find('div', class_='value text-white mb-0 me-2 lh-1 stock-info').text.strip()        \n",
    "  #      if (price == '-'):\n",
    "  #          price = '0.00'        \n",
    "\n",
    "        price_div = html_page.find('div', class_='value text-white mb-0 me-2 lh-1 stock-info')\n",
    "        if price_div:\n",
    "            price = price_div.text.strip()\n",
    "        else:\n",
    "            print(f\"Price div not found for {name}\")\n",
    "            price = '0.00'     \n",
    "            \n",
    "        # Try to find the <h3> tag with the class 'theme-success'\n",
    "        h3_tag = html_page.find('h3', class_='theme-success')\n",
    "        if h3_tag:\n",
    "        # Find all <span> tags within the found <h3> tag\n",
    "            span_tags = h3_tag.find_all('span')\n",
    "    \n",
    "            if len(span_tags) > 1:\n",
    "                # Extract the text from the second <span> tag\n",
    "                percent_span = span_tags[1].text\n",
    "                # print(percent_span)\n",
    "                \n",
    "        # Try to find the <h3> tag with the class 'theme-danger'\n",
    "        h3_tag = html_page.find('h3', class_='theme-danger')\n",
    "        if h3_tag:\n",
    "        # Find all <span> tags within the found <h3> tag\n",
    "            span_tags = h3_tag.find_all('span')\n",
    "    \n",
    "            if len(span_tags) > 1:\n",
    "                # Extract the text from the second <span> tag\n",
    "                percent_span = span_tags[1].text\n",
    "                # print(percent_span)    \n",
    "                \n",
    "        # Try to find the <h3> tag with the class 'theme-danger'\n",
    "        h3_tag = html_page.find('h3', class_='theme-normal')\n",
    "        if h3_tag:\n",
    "        # Find all <span> tags within the found <h3> tag\n",
    "            span_tags = h3_tag.find_all('span')\n",
    "    \n",
    "            if len(span_tags) > 1:\n",
    "                # Extract the text from the second <span> tag\n",
    "                percent_span = span_tags[1].text\n",
    "                # print(percent_span)   \n",
    "                \n",
    "        percent = cvt_str_to_flt(percent_span)\n",
    "                \n",
    "        values_low = html_page.find_all('span', class_='title-font-family fs-16px fw-bolder me-auto lh-1')\n",
    "        today_low = values_low[0].text\n",
    "        if (today_low == '-'):\n",
    "            today_low = '0.00'\n",
    "        \n",
    "        values_high = html_page.find_all('span', class_='title-font-family fs-16px fw-bolder lh-1')\n",
    "        today_high = values_high[0].text\n",
    "        if (today_high == '-'):\n",
    "            today_high = '0.00'         \n",
    "        \n",
    "        year_low = values_low[1].text        \n",
    "        year_high = values_high[1].text     \n",
    "        \n",
    "        # Find the div with the specific class, then find the span within it\n",
    "        div = html_page.find('div', class_='price-detail-date d-flex align-items-center text-nowrap fs-12px')\n",
    "        if div:\n",
    "            span = div.find('span')\n",
    "            if span:\n",
    "                text = span.get_text()\n",
    "#                 print(text)\n",
    "            else:\n",
    "                print(\"Span not found\")\n",
    "        else:\n",
    "            print(\"Div not found\")\n",
    "            \n",
    "        # Extract the date part from the string\n",
    "        # Assuming the date is always in the format 'dd Mon yyyy'\n",
    "        date_str = ' '.join(text.split()[2:5])\n",
    "\n",
    "        # Parse the date string into a datetime object\n",
    "        date_obj = datetime.strptime(date_str, '%d %b %Y')\n",
    "\n",
    "        # Format the datetime object to 'yyyy-mm-dd'\n",
    "        updated_at = date_obj.strftime('%Y-%m-%d')\n",
    "\n",
    "#         print(updated_at)\n",
    "        \n",
    "        # Append row to the DataFrame and print the row\n",
    "        out_df.loc[len(out_df)] = [name, price, today_low, today_high, year_low, year_high, percent, updated_at]\n",
    "#       print(out_df.iloc[-1].to_string(header=False, index=False)) \n",
    "        print(','.join(map(str, out_df.iloc[-1])))\n",
    "        sleep(1)\n",
    "        \n",
    "    return out_df  # return the final dataframe with all values populated"
   ]
  },
  {
   "cell_type": "code",
   "execution_count": 11,
   "id": "94abc8d4",
   "metadata": {},
   "outputs": [
    {
     "name": "stdout",
     "output_type": "stream",
     "text": [
      "Start at:  08:17 PM\n"
     ]
    }
   ],
   "source": [
    "start_time = strftime(\"%I:%M %p\")\n",
    "print('Start at: ', start_time)"
   ]
  },
  {
   "cell_type": "code",
   "execution_count": 12,
   "id": "23b565ec",
   "metadata": {
    "scrolled": true
   },
   "outputs": [
    {
     "name": "stdout",
     "output_type": "stream",
     "text": [
      "ACE,1.29,1.28,1.31,1.23,1.49,0.0,2025-09-03\n",
      "ADVANC,298.00,296.00,302.00,245.00,309.00,-0.67,2025-09-03\n",
      "AEONTS,112.00,109.00,112.00,90.50,148.00,2.75,2025-09-03\n",
      "AH,14.40,14.20,14.50,10.00,23.20,1.41,2025-09-03\n",
      "AIE,1.14,1.10,1.14,0.72,1.80,3.64,2025-09-03\n",
      "AIMIRT,9.75,9.70,9.75,9.20,11.20,0.0,2025-09-03\n",
      "AIT,4.96,4.94,4.98,3.92,5.30,-0.4,2025-09-03\n",
      "AJ,2.28,2.24,2.28,1.94,5.80,0.88,2025-09-03\n",
      "AMATA,16.60,15.80,16.60,11.20,31.00,5.73,2025-09-03\n",
      "ANAN,0.51,0.50,0.53,0.37,0.85,0.0,2025-09-03\n",
      "AOT,36.75,35.75,37.00,26.75,65.00,1.38,2025-09-03\n",
      "AP,7.55,7.45,7.60,5.60,10.50,-0.66,2025-09-03\n",
      "ASIAN,7.15,7.15,7.25,6.50,9.55,-1.38,2025-09-03\n",
      "ASK,7.60,7.55,7.65,6.20,15.30,2.01,2025-09-03\n",
      "ASP,2.70,2.58,2.72,1.81,2.70,3.85,2025-09-03\n",
      "ASW,5.70,5.50,5.90,5.20,8.20,2.7,2025-09-03\n",
      "AWC,2.32,2.26,2.34,1.55,3.94,2.65,2025-09-03\n",
      "BA,14.00,13.70,14.10,10.60,26.00,2.94,2025-09-03\n",
      "BAM,8.10,7.90,8.15,5.35,10.20,1.25,2025-09-03\n",
      "BANPU,4.92,4.88,4.96,4.00,7.50,-0.4,2025-09-03\n",
      "BAY,23.60,23.50,23.80,20.70,29.00,0.43,2025-09-03\n",
      "BBL,155.00,154.50,156.00,131.00,161.50,-0.32,2025-09-03\n",
      "BCH,12.90,12.80,13.10,12.30,19.20,-0.77,2025-09-03\n",
      "BCP,32.50,32.50,33.75,26.50,41.00,-4.41,2025-09-03\n",
      "BCPG,8.20,8.10,8.65,5.05,8.95,-4.09,2025-09-03\n",
      "BCT,47.75,46.75,48.00,43.50,76.75,0.0,2025-09-03\n",
      "BDMS,20.60,20.50,20.90,19.80,31.25,-0.48,2025-09-03\n",
      "BE8,5.85,5.75,5.85,5.20,21.20,1.74,2025-09-03\n",
      "BEAUTY,0.61,0.60,0.64,0.19,0.66,0.0,2025-09-03\n",
      "BEC,2.22,2.12,2.24,1.79,4.68,4.72,2025-09-03\n",
      "BEM,5.10,5.10,5.30,4.56,8.30,-1.92,2025-09-03\n",
      "BGC,4.78,4.76,4.80,4.54,7.90,0.42,2025-09-03\n",
      "BGRIM,12.80,12.50,13.10,8.90,24.80,1.59,2025-09-03\n",
      "BH,187.50,187.50,191.00,130.00,284.00,-0.27,2025-09-03\n",
      "BJC,18.90,17.70,19.00,16.50,25.75,6.18,2025-09-03\n",
      "BKIH,289.00,287.00,289.00,271.00,316.00,0.35,2025-09-03\n",
      "BLA,17.80,17.60,18.00,14.00,25.75,0.56,2025-09-03\n",
      "BLAND,0.51,0.50,0.51,0.38,0.70,2.0,2025-09-03\n",
      "BPP,8.45,8.45,8.70,6.20,13.60,-1.17,2025-09-03\n",
      "BTS,3.18,3.10,3.20,3.04,6.40,2.58,2025-09-03\n",
      "BTSGIF,2.48,2.46,2.50,2.46,3.52,0.0,2025-09-03\n",
      "CBG,54.25,52.25,55.00,46.50,82.00,3.83,2025-09-03\n",
      "CENTEL,29.00,28.75,29.25,19.40,41.25,0.0,2025-09-03\n",
      "CHG,1.63,1.62,1.64,1.39,3.00,0.0,2025-09-03\n",
      "CK,14.70,14.40,14.80,10.20,21.10,-0.68,2025-09-03\n",
      "CKP,2.78,2.74,2.80,2.10,4.04,0.72,2025-09-03\n",
      "COM7,26.00,25.50,26.00,16.70,28.25,1.96,2025-09-03\n",
      "CPALL,47.00,45.50,47.25,41.50,68.00,3.3,2025-09-03\n",
      "CPF,22.30,22.20,22.50,19.80,26.50,-0.45,2025-09-03\n",
      "CPN,54.00,53.25,54.25,41.00,68.75,0.0,2025-09-03\n",
      "CPNCG,5.95,5.90,6.00,5.55,6.65,0.85,2025-09-03\n",
      "CPNREIT,11.10,11.00,11.30,10.20,13.60,-1.77,2025-09-03\n",
      "CRC,23.50,22.80,23.80,15.80,36.00,1.29,2025-09-03\n",
      "DCC,1.41,1.39,1.41,1.18,2.04,0.71,2025-09-03\n",
      "DCON,0.26,0.25,0.26,0.23,0.41,4.0,2025-09-03\n",
      "DELTA,151.00,148.00,152.50,51.25,173.50,2.72,2025-09-03\n",
      "DIF,8.45,8.25,8.45,7.35,9.85,2.42,2025-09-03\n",
      "DOHOME,4.04,3.82,4.06,2.26,11.07,5.76,2025-09-03\n",
      "DRT,5.25,5.25,5.35,4.42,8.15,0.0,2025-09-03\n",
      "EA,2.62,2.50,2.66,1.73,7.32,4.8,2025-09-03\n",
      "EASTW,2.32,2.30,2.38,1.57,3.90,0.0,2025-09-03\n",
      "EGATIF,5.95,5.90,6.00,5.75,6.40,0.85,2025-09-03\n",
      "EGCO,118.50,117.50,118.50,85.00,128.50,0.85,2025-09-03\n",
      "EPG,3.10,3.02,3.14,2.12,5.25,1.97,2025-09-03\n",
      "FORTH,6.90,6.90,6.95,6.05,15.00,0.73,2025-09-03\n",
      "FPT,6.25,6.20,6.30,5.85,14.00,0.81,2025-09-03\n",
      "FSMART,6.20,6.10,6.25,5.35,9.15,1.64,2025-09-03\n",
      "FTREIT,9.15,9.10,9.30,8.60,11.30,-2.14,2025-09-03\n",
      "GC,4.04,4.00,4.04,3.40,5.10,-0.49,2025-09-03\n",
      "GFPT,9.70,9.60,9.80,8.00,12.40,0.0,2025-09-03\n",
      "GGC,3.88,3.72,3.88,3.20,5.45,-0.51,2025-09-03\n",
      "GLOBAL,7.85,7.55,8.20,4.16,16.27,2.61,2025-09-03\n",
      "GPSC,41.50,40.75,42.00,22.40,49.75,0.61,2025-09-03\n",
      "GRAMMY,-,0.00,0.00,4.30,8.50,0.0,2025-09-03\n",
      "GUNKUL,1.83,1.75,1.84,1.31,2.96,3.98,2025-09-03\n",
      "GVREIT,6.25,6.20,6.30,5.55,7.15,0.81,2025-09-03\n",
      "HANA,24.90,24.20,25.00,14.00,44.00,2.05,2025-09-03\n",
      "HFT,4.24,4.16,4.24,3.32,4.76,0.95,2025-09-03\n",
      "HMPRO,7.65,7.50,7.95,5.70,11.10,1.32,2025-09-03\n",
      "HTC,15.30,15.10,15.30,14.50,17.70,0.66,2025-09-03\n",
      "ICHI,11.50,11.40,11.60,9.40,17.00,0.0,2025-09-03\n",
      "III,4.82,4.78,4.82,4.18,7.20,1.26,2025-09-03\n",
      "ILM,14.30,14.30,14.50,11.50,18.90,-0.69,2025-09-03\n",
      "IMH,4.10,4.02,4.20,3.50,6.05,-1.44,2025-09-03\n",
      "IMPACT,9.80,9.80,9.85,9.25,12.80,0.0,2025-09-03\n",
      "INOX,0.40,0.40,0.41,0.35,0.67,0.0,2025-09-03\n",
      "IP,3.38,3.16,3.40,2.02,5.15,-0.59,2025-09-03\n",
      "IRPC,1.13,1.12,1.17,0.70,1.86,0.89,2025-09-03\n",
      "IVL,21.80,21.70,22.20,16.90,27.50,-0.46,2025-09-03\n",
      "3BBIF,6.25,6.20,6.25,5.00,6.75,0.81,2025-09-03\n",
      "JMART,9.05,8.45,9.25,5.20,17.70,6.47,2025-09-03\n",
      "JMT,12.10,11.60,12.30,7.35,22.00,3.42,2025-09-03\n",
      "KBANK,170.50,169.50,172.00,142.00,171.50,0.0,2025-09-03\n",
      "KCE,26.00,25.75,26.50,13.70,40.75,-0.95,2025-09-03\n",
      "KEX,1.49,1.49,1.49,0.78,3.40,0.0,2025-09-03\n",
      "KGI,3.94,3.92,3.94,3.40,4.66,0.51,2025-09-03\n",
      "KKP,60.50,59.75,60.75,43.50,62.00,0.0,2025-09-03\n",
      "KSL,1.39,1.37,1.39,1.25,2.36,0.0,2025-09-03\n",
      "KTB,25.25,25.00,25.50,18.30,25.25,0.0,2025-09-03\n",
      "KTC,28.50,27.00,28.75,21.80,52.25,4.59,2025-09-03\n",
      "KYE,291.00,291.00,294.00,280.00,324.00,0.0,2025-09-03\n",
      "LALIN,4.96,4.96,4.98,4.80,6.80,-0.4,2025-09-03\n",
      "LANNA,15.40,15.30,15.50,14.10,17.50,0.0,2025-09-03\n",
      "LH,4.06,3.98,4.10,3.18,6.50,1.0,2025-09-03\n",
      "LHFG,0.78,0.77,0.79,0.72,0.96,0.0,2025-09-03\n",
      "LHK,3.50,3.50,3.54,3.02,4.12,-0.57,2025-09-03\n",
      "LIT,0.87,0.82,0.88,0.39,1.34,0.0,2025-09-03\n",
      "LPH,4.08,4.02,4.08,3.20,4.78,0.99,2025-09-03\n",
      "LPN,1.73,1.72,1.75,1.61,3.38,-0.57,2025-09-03\n",
      "M,23.60,22.20,23.60,13.80,30.75,3.51,2025-09-03\n",
      "MAJOR,8.25,7.90,8.30,7.35,16.00,4.43,2025-09-03\n",
      "MBAX,1.42,1.37,1.42,1.17,3.10,4.41,2025-09-03\n",
      "MC,10.90,10.90,11.10,9.15,13.00,-0.91,2025-09-03\n",
      "MCS,8.40,8.25,8.45,5.80,9.20,1.82,2025-09-03\n",
      "MEGA,28.75,28.00,28.75,24.30,41.25,1.77,2025-09-03\n",
      "MINT,23.80,23.50,24.00,21.70,29.50,0.85,2025-09-03\n",
      "MST,7.15,7.10,7.20,5.50,10.30,0.7,2025-09-03\n",
      "MTC,39.00,38.00,39.25,33.75,54.00,0.65,2025-09-03\n",
      "NER,4.36,4.30,4.38,3.88,5.65,1.4,2025-09-03\n",
      "NOBLE,2.06,2.04,2.16,1.60,3.46,-1.9,2025-09-03\n",
      "ONEE,2.30,2.30,2.34,1.99,4.68,0.0,2025-09-03\n",
      "OR,13.60,13.20,13.60,10.10,17.80,3.03,2025-09-03\n",
      "ORI,2.22,2.22,2.28,1.50,5.75,0.0,2025-09-03\n",
      "OSP,17.10,16.60,17.20,12.90,24.30,3.64,2025-09-03\n",
      "PAP,1.76,1.75,1.80,1.31,2.96,1.15,2025-09-03\n",
      "PCSGH,3.02,3.00,3.02,2.46,4.76,0.67,2025-09-03\n",
      "PDG,2.70,2.70,2.72,2.36,2.88,-0.74,2025-09-03\n",
      "PLANB,4.76,4.50,5.00,4.08,8.60,7.69,2025-09-03\n",
      "POPF,6.05,5.95,6.05,5.40,6.70,0.83,2025-09-03\n",
      "PREB,3.62,3.54,3.62,3.34,5.55,0.56,2025-09-03\n",
      "PRM,6.45,6.45,6.60,5.10,9.30,-2.27,2025-09-03\n",
      "PSH,4.16,4.12,4.20,3.66,9.80,0.97,2025-09-03\n",
      "PSL,6.40,6.30,6.45,4.96,9.60,0.79,2025-09-03\n",
      "PTG,7.70,7.65,7.95,5.45,10.70,0.0,2025-09-03\n",
      "PTL,9.50,9.40,9.50,9.20,14.40,0.53,2025-09-03\n",
      "PTT,32.00,31.50,32.25,27.00,35.00,1.59,2025-09-03\n",
      "PTTEP,115.50,114.50,116.50,93.00,144.00,-0.43,2025-09-03\n",
      "PTTGC,27.50,26.75,27.75,14.20,32.75,-0.9,2025-09-03\n",
      "QH,1.37,1.37,1.39,1.15,2.00,-0.72,2025-09-03\n",
      "RATCH,26.00,25.75,26.25,22.50,34.25,0.0,2025-09-03\n",
      "RBF,4.12,4.10,4.20,3.04,7.40,0.49,2025-09-03\n",
      "RCL,27.00,26.75,27.25,18.20,31.75,0.0,2025-09-03\n",
      "RJH,13.00,13.00,13.20,11.50,26.25,-0.76,2025-09-03\n",
      "ROJNA,4.68,4.68,4.74,4.14,7.50,-0.85,2025-09-03\n",
      "RS,0.30,0.26,0.31,0.19,6.30,11.11,2025-09-03\n",
      "S11,3.16,3.12,3.18,1.86,3.70,0.0,2025-09-03\n",
      "SAPPE,33.25,32.75,33.25,27.50,83.00,0.0,2025-09-03\n",
      "SAT,12.90,12.90,13.00,9.95,13.70,-1.53,2025-09-03\n",
      "SAWAD,27.00,26.00,27.00,14.80,41.36,2.86,2025-09-03\n",
      "SC,1.78,1.77,1.80,1.40,3.22,-1.66,2025-09-03\n",
      "SCB,127.00,126.50,128.00,105.50,133.00,0.4,2025-09-03\n",
      "SCC,217.00,216.00,220.00,124.50,255.00,0.46,2025-09-03\n",
      "SCCC,149.50,149.00,150.00,138.50,177.50,0.34,2025-09-03\n",
      "SCGP,17.70,17.50,17.90,10.70,32.25,0.0,2025-09-03\n",
      "SENA,1.87,1.83,1.87,1.54,2.50,0.0,2025-09-03\n",
      "SGP,6.55,6.40,6.55,5.00,7.65,-0.76,2025-09-03\n",
      "SINGER,5.90,5.65,6.00,3.92,12.70,3.51,2025-09-03\n",
      "SIRI,1.41,1.41,1.45,1.11,1.94,-2.76,2025-09-03\n",
      "SIS,21.60,21.30,21.70,17.60,31.25,0.47,2025-09-03\n",
      "SJWD,10.20,10.10,10.40,5.75,12.50,2.0,2025-09-03\n",
      "SKN,5.65,5.65,5.65,5.05,6.40,-0.88,2025-09-03\n",
      "SKR,8.05,7.90,8.05,6.20,9.80,0.63,2025-09-03\n",
      "SMPC,9.00,8.90,9.00,7.80,9.95,0.56,2025-09-03\n",
      "SNC,5.90,5.80,5.90,4.96,7.35,0.0,2025-09-03\n",
      "SPALI,16.00,15.50,16.00,13.20,21.10,0.63,2025-09-03\n",
      "SPC,57.50,57.25,57.50,53.00,60.75,0.0,2025-09-03\n",
      "SPCG,8.40,8.20,8.40,6.60,9.40,2.44,2025-09-03\n",
      "SPRC,4.76,4.72,4.82,4.26,7.25,-0.83,2025-09-03\n",
      "SPRIME,3.34,3.30,3.34,3.00,4.56,1.21,2025-09-03\n",
      "SSP,3.98,3.88,3.98,3.88,6.35,1.02,2025-09-03\n",
      "STA,12.00,11.70,12.10,10.30,25.75,2.56,2025-09-03\n",
      "STANLY,181.50,181.00,182.50,176.00,225.00,-0.27,2025-09-03\n",
      "STGT,6.15,6.10,6.25,5.10,13.30,0.82,2025-09-03\n",
      "SUPER,0.15,0.14,0.15,0.12,0.32,7.14,2025-09-03\n",
      "SUPEREIF,5.30,5.25,5.30,4.72,7.05,0.0,2025-09-03\n",
      "SVI,5.85,5.80,5.95,5.55,9.40,-0.85,2025-09-03\n",
      "SYNEX,12.30,12.00,12.40,9.30,16.70,2.5,2025-09-03\n",
      "TASCO,14.60,14.50,14.60,13.20,20.00,0.0,2025-09-03\n",
      "TCAP,51.00,50.50,51.25,44.25,53.50,-0.49,2025-09-03\n",
      "TFFIF,5.85,5.80,5.85,5.25,7.20,0.0,2025-09-03\n",
      "TFG,5.00,5.00,5.15,3.02,6.10,-0.99,2025-09-03\n",
      "THANI,1.74,1.71,1.78,1.15,2.26,1.75,2025-09-03\n",
      "THG,6.70,6.65,6.85,6.80,28.24,-2.19,2025-09-03\n",
      "TIPH,21.10,20.60,21.10,16.70,30.50,0.96,2025-09-03\n",
      "TIPCO,8.55,8.55,8.65,8.35,10.40,-0.58,2025-09-03\n",
      "TISCO,102.00,101.50,102.50,95.00,102.50,0.0,2025-09-03\n",
      "TK,4.20,4.14,4.20,3.28,5.45,0.48,2025-09-03\n",
      "TKN,5.90,5.60,6.00,5.00,11.80,5.36,2025-09-03\n",
      "TKS,6.20,6.00,6.45,4.90,8.10,4.2,2025-09-03\n",
      "TMT,3.08,3.06,3.12,2.60,5.40,-0.65,2025-09-03\n",
      "TMW,52.00,52.00,52.25,47.00,66.75,-0.95,2025-09-03\n",
      "TOA,14.90,14.90,15.50,9.35,20.50,-0.67,2025-09-03\n",
      "TOP,33.75,33.50,34.50,21.00,55.50,-2.88,2025-09-03\n",
      "TPIPL,0.73,0.72,0.75,0.70,1.29,1.39,2025-09-03\n",
      "TPIPP,2.24,2.20,2.28,1.99,3.14,0.9,2025-09-03\n",
      "TQM,13.40,13.30,13.50,12.20,33.25,0.0,2025-09-03\n",
      "TRUE,11.40,11.40,11.80,10.10,13.30,-2.56,2025-09-03\n",
      "TSE,0.49,0.49,0.51,0.29,1.24,0.0,2025-09-03\n",
      "TSTH,0.74,0.74,0.77,0.47,0.93,-3.9,2025-09-03\n",
      "TTA,4.28,4.28,4.34,3.22,6.55,-0.47,2025-09-03\n",
      "TTB,1.91,1.90,1.92,1.72,2.06,0.53,2025-09-03\n",
      "TTLPF,10.40,10.40,10.50,10.30,16.20,-0.95,2025-09-03\n",
      "TTW,9.20,9.10,9.20,8.45,9.50,0.55,2025-09-03\n",
      "TU,12.40,12.20,12.40,8.60,15.70,0.0,2025-09-03\n",
      "TVO,24.80,24.70,25.25,19.70,25.75,0.4,2025-09-03\n",
      "TYCN,1.81,1.81,1.81,1.62,2.62,1.12,2025-09-03\n",
      "UTP,7.55,7.50,7.60,7.20,11.30,0.0,2025-09-03\n",
      "VGI,2.08,2.08,2.20,1.86,3.68,-0.95,2025-09-03\n",
      "VIBHA,1.44,1.44,1.45,1.37,2.30,-0.69,2025-09-03\n",
      "VNG,1.98,1.95,1.99,1.89,3.82,-1.0,2025-09-03\n",
      "WHA,3.70,3.56,3.70,2.26,6.20,3.35,2025-09-03\n",
      "WHAIR,5.45,5.45,5.55,4.12,6.75,-0.91,2025-09-03\n",
      "WHART,8.95,8.90,9.05,8.55,10.80,-1.1,2025-09-03\n",
      "WHAUP,3.86,3.84,3.94,2.76,5.50,-2.03,2025-09-03\n",
      "WICE,2.90,2.86,2.92,2.34,6.95,0.69,2025-09-03\n",
      "WORK,4.26,4.22,4.28,3.82,10.40,1.43,2025-09-03\n"
     ]
    }
   ],
   "source": [
    "df = pd.read_csv(input_file, header=None)\n",
    "out_df = get_stock_data(df)"
   ]
  },
  {
   "cell_type": "code",
   "execution_count": 13,
   "id": "d31edacf",
   "metadata": {},
   "outputs": [
    {
     "name": "stdout",
     "output_type": "stream",
     "text": [
      "End at:  08:22 PM\n"
     ]
    }
   ],
   "source": [
    "end_time = strftime(\"%I:%M %p\")\n",
    "print('End at: ', end_time)"
   ]
  },
  {
   "cell_type": "code",
   "execution_count": 14,
   "id": "b89c4ae7",
   "metadata": {},
   "outputs": [
    {
     "data": {
      "text/html": [
       "<div>\n",
       "<style scoped>\n",
       "    .dataframe tbody tr th:only-of-type {\n",
       "        vertical-align: middle;\n",
       "    }\n",
       "\n",
       "    .dataframe tbody tr th {\n",
       "        vertical-align: top;\n",
       "    }\n",
       "\n",
       "    .dataframe thead th {\n",
       "        text-align: right;\n",
       "    }\n",
       "</style>\n",
       "<table border=\"1\" class=\"dataframe\">\n",
       "  <thead>\n",
       "    <tr style=\"text-align: right;\">\n",
       "      <th></th>\n",
       "      <th>name</th>\n",
       "      <th>price</th>\n",
       "      <th>today_low</th>\n",
       "      <th>today_high</th>\n",
       "      <th>year_low</th>\n",
       "      <th>year_high</th>\n",
       "      <th>percent</th>\n",
       "      <th>updated_at</th>\n",
       "    </tr>\n",
       "  </thead>\n",
       "  <tbody>\n",
       "    <tr>\n",
       "      <th>73</th>\n",
       "      <td>GRAMMY</td>\n",
       "      <td>-</td>\n",
       "      <td>0.00</td>\n",
       "      <td>0.00</td>\n",
       "      <td>4.30</td>\n",
       "      <td>8.50</td>\n",
       "      <td>0.0</td>\n",
       "      <td>2025-09-03</td>\n",
       "    </tr>\n",
       "  </tbody>\n",
       "</table>\n",
       "</div>"
      ],
      "text/plain": [
       "      name price today_low today_high year_low year_high  percent  updated_at\n",
       "73  GRAMMY     -      0.00       0.00     4.30      8.50      0.0  2025-09-03"
      ]
     },
     "execution_count": 14,
     "metadata": {},
     "output_type": "execute_result"
    }
   ],
   "source": [
    "out_df.query('price == \"-\"')"
   ]
  },
  {
   "cell_type": "code",
   "execution_count": 15,
   "id": "784f1b6d",
   "metadata": {},
   "outputs": [
    {
     "data": {
      "text/plain": [
       "(216, 8)"
      ]
     },
     "execution_count": 15,
     "metadata": {},
     "output_type": "execute_result"
    }
   ],
   "source": [
    "out_df.shape"
   ]
  },
  {
   "cell_type": "code",
   "execution_count": 16,
   "id": "6326d0c5",
   "metadata": {},
   "outputs": [],
   "source": [
    "out_df = out_df[out_df['name'] != 'BCT']"
   ]
  },
  {
   "cell_type": "code",
   "execution_count": 17,
   "id": "2a293f55-436e-45d1-9966-50d12c26e659",
   "metadata": {},
   "outputs": [],
   "source": [
    "out_df = out_df[out_df['name'] != 'LPF']"
   ]
  },
  {
   "cell_type": "code",
   "execution_count": 18,
   "id": "cc4b3547-5ea9-4ac6-bd11-896e67d464ed",
   "metadata": {},
   "outputs": [],
   "source": [
    "out_df = out_df[out_df['name'] != 'TYCN']"
   ]
  },
  {
   "cell_type": "code",
   "execution_count": 19,
   "id": "865622c2-dad3-4ba8-b35a-898461fe5e9a",
   "metadata": {},
   "outputs": [],
   "source": [
    "out_df = out_df[out_df['name'] != 'GRAMMY']"
   ]
  },
  {
   "cell_type": "code",
   "execution_count": 20,
   "id": "cb2d763d-5b75-4ace-b87a-f165c8e6cb91",
   "metadata": {},
   "outputs": [],
   "source": [
    "out_df = out_df[out_df['name'] != 'MST']"
   ]
  },
  {
   "cell_type": "code",
   "execution_count": 21,
   "id": "e65305f0-157a-4129-a758-15c02e8df06a",
   "metadata": {},
   "outputs": [],
   "source": [
    "out_df = out_df[out_df['name'] != 'SPC']"
   ]
  },
  {
   "cell_type": "code",
   "execution_count": 22,
   "id": "cb55b5f6-0679-4191-aeda-ab0cf45f18e7",
   "metadata": {},
   "outputs": [],
   "source": [
    "out_df = out_df[out_df['name'] != 'SPRIME']"
   ]
  },
  {
   "cell_type": "code",
   "execution_count": 23,
   "id": "981854f1-01a1-4e26-b2a9-4f58948a33ec",
   "metadata": {},
   "outputs": [],
   "source": [
    "out_df = out_df[out_df['name'] != 'FPT']"
   ]
  },
  {
   "cell_type": "code",
   "execution_count": 24,
   "id": "a2833967-e889-4ad5-97b2-8234ba35c31c",
   "metadata": {},
   "outputs": [],
   "source": [
    "out_df = out_df[out_df['name'] != 'GGC']"
   ]
  },
  {
   "cell_type": "code",
   "execution_count": 25,
   "id": "b2771ed1",
   "metadata": {},
   "outputs": [
    {
     "data": {
      "text/plain": [
       "(208, 8)"
      ]
     },
     "execution_count": 25,
     "metadata": {},
     "output_type": "execute_result"
    }
   ],
   "source": [
    "out_df.shape"
   ]
  },
  {
   "cell_type": "code",
   "execution_count": 26,
   "id": "eb2ffec6",
   "metadata": {},
   "outputs": [],
   "source": [
    "out_df['price'] = out_df['price'].astype('float')\n",
    "out_df['today_low'] = out_df['today_low'].astype('float')\n",
    "out_df['today_high'] = out_df['today_high'].astype('float')\n",
    "out_df['year_low'] = out_df['year_low'].astype('float')\n",
    "out_df['year_high'] = out_df['year_high'].astype('float')\n",
    "out_df['percent'] = out_df['percent'].astype('float')"
   ]
  },
  {
   "cell_type": "code",
   "execution_count": 27,
   "id": "f4fb1a3c",
   "metadata": {},
   "outputs": [],
   "source": [
    "sorted_out_df = out_df.sort_values('percent')"
   ]
  },
  {
   "cell_type": "code",
   "execution_count": 28,
   "id": "032f0eea",
   "metadata": {},
   "outputs": [
    {
     "data": {
      "text/html": [
       "<div>\n",
       "<style scoped>\n",
       "    .dataframe tbody tr th:only-of-type {\n",
       "        vertical-align: middle;\n",
       "    }\n",
       "\n",
       "    .dataframe tbody tr th {\n",
       "        vertical-align: top;\n",
       "    }\n",
       "\n",
       "    .dataframe thead th {\n",
       "        text-align: right;\n",
       "    }\n",
       "</style>\n",
       "<table border=\"1\" class=\"dataframe\">\n",
       "  <thead>\n",
       "    <tr style=\"text-align: right;\">\n",
       "      <th></th>\n",
       "      <th>name</th>\n",
       "      <th>price</th>\n",
       "      <th>today_low</th>\n",
       "      <th>today_high</th>\n",
       "      <th>year_low</th>\n",
       "      <th>year_high</th>\n",
       "      <th>percent</th>\n",
       "      <th>updated_at</th>\n",
       "    </tr>\n",
       "  </thead>\n",
       "  <tbody>\n",
       "    <tr>\n",
       "      <th>182</th>\n",
       "      <td>THG</td>\n",
       "      <td>6.7</td>\n",
       "      <td>6.65</td>\n",
       "      <td>6.85</td>\n",
       "      <td>6.8</td>\n",
       "      <td>28.24</td>\n",
       "      <td>-2.19</td>\n",
       "      <td>2025-09-03</td>\n",
       "    </tr>\n",
       "  </tbody>\n",
       "</table>\n",
       "</div>"
      ],
      "text/plain": [
       "    name  price  today_low  today_high  year_low  year_high  percent  \\\n",
       "182  THG    6.7       6.65        6.85       6.8      28.24    -2.19   \n",
       "\n",
       "     updated_at  \n",
       "182  2025-09-03  "
      ]
     },
     "execution_count": 28,
     "metadata": {},
     "output_type": "execute_result"
    }
   ],
   "source": [
    "sorted_out_df.query('today_low < year_low')"
   ]
  },
  {
   "cell_type": "code",
   "execution_count": 29,
   "id": "8e04b03d",
   "metadata": {},
   "outputs": [
    {
     "data": {
      "text/html": [
       "<div>\n",
       "<style scoped>\n",
       "    .dataframe tbody tr th:only-of-type {\n",
       "        vertical-align: middle;\n",
       "    }\n",
       "\n",
       "    .dataframe tbody tr th {\n",
       "        vertical-align: top;\n",
       "    }\n",
       "\n",
       "    .dataframe thead th {\n",
       "        text-align: right;\n",
       "    }\n",
       "</style>\n",
       "<table border=\"1\" class=\"dataframe\">\n",
       "  <thead>\n",
       "    <tr style=\"text-align: right;\">\n",
       "      <th></th>\n",
       "      <th>name</th>\n",
       "      <th>price</th>\n",
       "      <th>today_low</th>\n",
       "      <th>today_high</th>\n",
       "      <th>year_low</th>\n",
       "      <th>year_high</th>\n",
       "      <th>percent</th>\n",
       "      <th>updated_at</th>\n",
       "    </tr>\n",
       "  </thead>\n",
       "  <tbody>\n",
       "    <tr>\n",
       "      <th>92</th>\n",
       "      <td>KBANK</td>\n",
       "      <td>170.50</td>\n",
       "      <td>169.50</td>\n",
       "      <td>172.00</td>\n",
       "      <td>142.00</td>\n",
       "      <td>171.50</td>\n",
       "      <td>0.00</td>\n",
       "      <td>2025-09-03</td>\n",
       "    </tr>\n",
       "    <tr>\n",
       "      <th>98</th>\n",
       "      <td>KTB</td>\n",
       "      <td>25.25</td>\n",
       "      <td>25.00</td>\n",
       "      <td>25.50</td>\n",
       "      <td>18.30</td>\n",
       "      <td>25.25</td>\n",
       "      <td>0.00</td>\n",
       "      <td>2025-09-03</td>\n",
       "    </tr>\n",
       "    <tr>\n",
       "      <th>14</th>\n",
       "      <td>ASP</td>\n",
       "      <td>2.70</td>\n",
       "      <td>2.58</td>\n",
       "      <td>2.72</td>\n",
       "      <td>1.81</td>\n",
       "      <td>2.70</td>\n",
       "      <td>3.85</td>\n",
       "      <td>2025-09-03</td>\n",
       "    </tr>\n",
       "  </tbody>\n",
       "</table>\n",
       "</div>"
      ],
      "text/plain": [
       "     name   price  today_low  today_high  year_low  year_high  percent  \\\n",
       "92  KBANK  170.50     169.50      172.00    142.00     171.50     0.00   \n",
       "98    KTB   25.25      25.00       25.50     18.30      25.25     0.00   \n",
       "14    ASP    2.70       2.58        2.72      1.81       2.70     3.85   \n",
       "\n",
       "    updated_at  \n",
       "92  2025-09-03  \n",
       "98  2025-09-03  \n",
       "14  2025-09-03  "
      ]
     },
     "execution_count": 29,
     "metadata": {},
     "output_type": "execute_result"
    }
   ],
   "source": [
    "sorted_out_df.query('today_high > year_high')"
   ]
  },
  {
   "cell_type": "code",
   "execution_count": 30,
   "id": "290a9607",
   "metadata": {},
   "outputs": [
    {
     "data": {
      "text/html": [
       "<div>\n",
       "<style scoped>\n",
       "    .dataframe tbody tr th:only-of-type {\n",
       "        vertical-align: middle;\n",
       "    }\n",
       "\n",
       "    .dataframe tbody tr th {\n",
       "        vertical-align: top;\n",
       "    }\n",
       "\n",
       "    .dataframe thead th {\n",
       "        text-align: right;\n",
       "    }\n",
       "</style>\n",
       "<table border=\"1\" class=\"dataframe\">\n",
       "  <thead>\n",
       "    <tr style=\"text-align: right;\">\n",
       "      <th></th>\n",
       "      <th>name</th>\n",
       "      <th>price</th>\n",
       "      <th>today_low</th>\n",
       "      <th>today_high</th>\n",
       "      <th>year_low</th>\n",
       "      <th>year_high</th>\n",
       "      <th>percent</th>\n",
       "      <th>updated_at</th>\n",
       "    </tr>\n",
       "  </thead>\n",
       "  <tbody>\n",
       "    <tr>\n",
       "      <th>14</th>\n",
       "      <td>ASP</td>\n",
       "      <td>2.70</td>\n",
       "      <td>2.58</td>\n",
       "      <td>2.72</td>\n",
       "      <td>1.81</td>\n",
       "      <td>2.70</td>\n",
       "      <td>3.85</td>\n",
       "      <td>2025-09-03</td>\n",
       "    </tr>\n",
       "    <tr>\n",
       "      <th>92</th>\n",
       "      <td>KBANK</td>\n",
       "      <td>170.50</td>\n",
       "      <td>169.50</td>\n",
       "      <td>172.00</td>\n",
       "      <td>142.00</td>\n",
       "      <td>171.50</td>\n",
       "      <td>0.00</td>\n",
       "      <td>2025-09-03</td>\n",
       "    </tr>\n",
       "    <tr>\n",
       "      <th>98</th>\n",
       "      <td>KTB</td>\n",
       "      <td>25.25</td>\n",
       "      <td>25.00</td>\n",
       "      <td>25.50</td>\n",
       "      <td>18.30</td>\n",
       "      <td>25.25</td>\n",
       "      <td>0.00</td>\n",
       "      <td>2025-09-03</td>\n",
       "    </tr>\n",
       "  </tbody>\n",
       "</table>\n",
       "</div>"
      ],
      "text/plain": [
       "     name   price  today_low  today_high  year_low  year_high  percent  \\\n",
       "14    ASP    2.70       2.58        2.72      1.81       2.70     3.85   \n",
       "92  KBANK  170.50     169.50      172.00    142.00     171.50     0.00   \n",
       "98    KTB   25.25      25.00       25.50     18.30      25.25     0.00   \n",
       "\n",
       "    updated_at  \n",
       "14  2025-09-03  \n",
       "92  2025-09-03  \n",
       "98  2025-09-03  "
      ]
     },
     "execution_count": 30,
     "metadata": {},
     "output_type": "execute_result"
    }
   ],
   "source": [
    "out_df.query('today_high > year_high')"
   ]
  },
  {
   "cell_type": "code",
   "execution_count": 31,
   "id": "5fbeba56-2a63-4650-898b-6447a81f95f5",
   "metadata": {},
   "outputs": [],
   "source": [
    "file_name = \"Price-Hilo.csv\"\n",
    "output_file = os.path.join(dat_path, file_name)\n",
    "god_file = os.path.join(god_path, file_name)\n",
    "icd_file = os.path.join(icd_path, file_name)\n",
    "osd_file = os.path.join(osd_path, file_name)"
   ]
  },
  {
   "cell_type": "code",
   "execution_count": 32,
   "id": "da6183ac-2f05-4f67-b200-fe83634d29dc",
   "metadata": {},
   "outputs": [
    {
     "name": "stdout",
     "output_type": "stream",
     "text": [
      "output_file : C:\\Users\\PC1\\OneDrive\\A5\\Data\\Price-Hilo.csv\n",
      "icd_file : C:\\Users\\PC1\\iCloudDrive\\Data\\Price-Hilo.csv\n",
      "god_file : C:\\Users\\PC1\\OneDrive\\Imports\\santisoontarinka@gmail.com - Google Drive\\Data\\Price-Hilo.csv\n",
      "osd_file : C:\\Users\\PC1\\OneDrive\\Documents\\obsidian-git-sync\\Data\\Price-Hilo.csv\n"
     ]
    }
   ],
   "source": [
    "print(f\"output_file : {output_file}\") \n",
    "print(f\"icd_file : {icd_file}\") \n",
    "print(f\"god_file : {god_file}\") \n",
    "print(f\"osd_file : {osd_file}\") "
   ]
  },
  {
   "cell_type": "code",
   "execution_count": 33,
   "id": "8017b53b",
   "metadata": {},
   "outputs": [],
   "source": [
    "out_df.to_csv(output_file, index=False)  \n",
    "out_df.to_csv(god_file, index=False) \n",
    "out_df.to_csv(icd_file, index=False)  \n",
    "out_df.to_csv(osd_file, index=False) "
   ]
  },
  {
   "cell_type": "code",
   "execution_count": 34,
   "id": "80692fae-6308-4695-bcac-5124ce4d44e3",
   "metadata": {},
   "outputs": [
    {
     "name": "stdout",
     "output_type": "stream",
     "text": [
      "2025-09-03 20:22:51\n"
     ]
    }
   ],
   "source": [
    "# Get the current time\n",
    "current_time = datetime.now()\n",
    "# Format the time to remove milliseconds\n",
    "formatted_time = current_time.strftime(\"%Y-%m-%d %H:%M:%S\")\n",
    "print(formatted_time)"
   ]
  }
 ],
 "metadata": {
  "kernelspec": {
   "display_name": "Python 3 (ipykernel)",
   "language": "python",
   "name": "python3"
  },
  "language_info": {
   "codemirror_mode": {
    "name": "ipython",
    "version": 3
   },
   "file_extension": ".py",
   "mimetype": "text/x-python",
   "name": "python",
   "nbconvert_exporter": "python",
   "pygments_lexer": "ipython3",
   "version": "3.12.3"
  }
 },
 "nbformat": 4,
 "nbformat_minor": 5
}
