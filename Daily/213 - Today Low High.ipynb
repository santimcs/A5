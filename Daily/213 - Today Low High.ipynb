{
 "cells": [
  {
   "cell_type": "markdown",
   "id": "8fc27a80-5e71-4b48-ba9b-741744050465",
   "metadata": {},
   "source": [
    "### Start and Run All"
   ]
  },
  {
   "cell_type": "code",
   "execution_count": 2,
   "id": "1ee081c2-fd13-4ee2-a838-a6e47ec75269",
   "metadata": {},
   "outputs": [
    {
     "name": "stdout",
     "output_type": "stream",
     "text": [
      "2025-10-31 20:21:35\n"
     ]
    }
   ],
   "source": [
    "import os\n",
    "import pandas as pd\n",
    "from urllib import request\n",
    "from bs4 import BeautifulSoup\n",
    "# from datetime import date, timedelta\n",
    "from datetime import datetime\n",
    "from time import sleep, strftime\n",
    "\n",
    "# Get the current time\n",
    "current_time = datetime.now()\n",
    "# Format the time to remove milliseconds\n",
    "formatted_time = current_time.strftime(\"%Y-%m-%d %H:%M:%S\")\n",
    "print(formatted_time)"
   ]
  },
  {
   "cell_type": "code",
   "execution_count": 3,
   "id": "0cbdda38-ec42-4470-bede-c468ba46f8d8",
   "metadata": {},
   "outputs": [],
   "source": [
    "url = \"https://www.set.or.th/en/market/product/stock/quote/\"\n",
    "percent_span = '' "
   ]
  },
  {
   "cell_type": "code",
   "execution_count": 4,
   "id": "6e4b7508-0071-480d-99c8-a6c070027294",
   "metadata": {},
   "outputs": [],
   "source": [
    "# Get the user's home directory\n",
    "user_path = os.path.expanduser('~')\n",
    "# Get the current working directory\n",
    "current_path = os.getcwd()\n",
    "# Derive the base directory (base_dir) by removing the last folder ('Daily')\n",
    "base_path = os.path.dirname(current_path)\n",
    "#C:\\Users\\PC1\\OneDrive\\A5\\Data\n",
    "dat_path = os.path.join(base_path, \"Data\")\n",
    "#C:\\Users\\PC1\\OneDrive\\Imports\\santisoontarinka@gmail.com - Google Drive\\Data>\n",
    "god_path = os.path.join(user_path, \"OneDrive\",\"Imports\",\"santisoontarinka@gmail.com - Google Drive\",\"Data\")\n",
    "#C:\\Users\\PC1\\iCloudDrive\\data\n",
    "icd_path = os.path.join(user_path, \"iCloudDrive\", \"Data\")\n",
    "#C:\\Users\\PC1\\OneDrive\\Documents\\obsidian-git-sync\\Data\n",
    "osd_path = os.path.join(user_path, \"OneDrive\",\"Documents\",\"obsidian-git-sync\",\"Data\")"
   ]
  },
  {
   "cell_type": "code",
   "execution_count": 5,
   "id": "07defeb3-a742-4e64-8089-7e4fe5b8b93c",
   "metadata": {},
   "outputs": [
    {
     "name": "stdout",
     "output_type": "stream",
     "text": [
      "User path: C:\\Users\\PC1\n",
      "Current path: C:\\Users\\PC1\\OneDrive\\A5\\Daily\n",
      "Base path: C:\\Users\\PC1\\OneDrive\\A5\n",
      "Data path : C:\\Users\\PC1\\OneDrive\\A5\\Data\n",
      "Google Drive path : C:\\Users\\PC1\\OneDrive\\Imports\\santisoontarinka@gmail.com - Google Drive\\Data\n",
      "iCloudDrive path : C:\\Users\\PC1\\iCloudDrive\\Data\n",
      "Obsidian path : C:\\Users\\PC1\\OneDrive\\Documents\\obsidian-git-sync\\Data\n"
     ]
    }
   ],
   "source": [
    "print(\"User path:\", user_path)\n",
    "print(f\"Current path: {current_path}\")\n",
    "print(f\"Base path: {base_path}\")\n",
    "print(f\"Data path : {dat_path}\") \n",
    "print(f\"Google Drive path : {god_path}\")\n",
    "print(f\"iCloudDrive path : {icd_path}\") \n",
    "print(f\"Obsidian path : {osd_path}\") "
   ]
  },
  {
   "cell_type": "code",
   "execution_count": 6,
   "id": "08576879-dc60-431b-a31a-e1893e2d7922",
   "metadata": {},
   "outputs": [
    {
     "name": "stdout",
     "output_type": "stream",
     "text": [
      "Input file : C:\\Users\\PC1\\OneDrive\\A5\\Data\\name-ttl.csv\n"
     ]
    }
   ],
   "source": [
    "file_name = \"name-ttl.csv\"\n",
    "input_file = os.path.join(dat_path, file_name)\n",
    "print(f\"Input file : {input_file}\") "
   ]
  },
  {
   "cell_type": "code",
   "execution_count": 7,
   "id": "9b9668db-0773-4de5-9bd4-864c377dab80",
   "metadata": {},
   "outputs": [],
   "source": [
    "file_name = \"price-hilo.csv\"\n",
    "output_file = os.path.join(dat_path, file_name)\n",
    "god_file = os.path.join(god_path, file_name)\n",
    "icd_file = os.path.join(icd_path, file_name)\n",
    "osd_file = os.path.join(osd_path, file_name)"
   ]
  },
  {
   "cell_type": "code",
   "execution_count": 8,
   "id": "66c38ef5-8643-4ad3-81ff-9e2275d426d5",
   "metadata": {},
   "outputs": [
    {
     "name": "stdout",
     "output_type": "stream",
     "text": [
      "Output file : C:\\Users\\PC1\\OneDrive\\A5\\Data\\price-hilo.csv\n",
      "icd_file : C:\\Users\\PC1\\iCloudDrive\\Data\\price-hilo.csv\n",
      "god_file : C:\\Users\\PC1\\OneDrive\\Imports\\santisoontarinka@gmail.com - Google Drive\\Data\\price-hilo.csv\n",
      "osd_file : C:\\Users\\PC1\\OneDrive\\Documents\\obsidian-git-sync\\Data\\price-hilo.csv\n"
     ]
    }
   ],
   "source": [
    "print(f\"Output file : {output_file}\") \n",
    "print(f\"icd_file : {icd_file}\") \n",
    "print(f\"god_file : {god_file}\") \n",
    "print(f\"osd_file : {osd_file}\")"
   ]
  },
  {
   "cell_type": "code",
   "execution_count": 9,
   "id": "c1ec2693",
   "metadata": {},
   "outputs": [],
   "source": [
    "def cvt_str_to_flt(input_str):\n",
    "    # Check for the special pattern and return 0\n",
    "    if input_str == '(-)':\n",
    "        return 0\n",
    "    \n",
    "    # Remove parentheses and percent sign\n",
    "    cleaned_str = input_str.replace('(', '').replace(')', '').replace('%', '')\n",
    "\n",
    "    # Convert to float\n",
    "    try:\n",
    "        return float(cleaned_str)\n",
    "    except ValueError:\n",
    "        # Handle the case where the conversion fails\n",
    "        return None\n",
    " "
   ]
  },
  {
   "cell_type": "code",
   "execution_count": 10,
   "id": "334bed1f",
   "metadata": {},
   "outputs": [],
   "source": [
    "def get_stock_data(in_df):\n",
    "\n",
    "    in_df.columns = ['name']\n",
    "    \n",
    "    output_columns = ['name', 'price', 'today_low', 'today_high', 'year_low', 'year_high', 'percent', 'updated_at']\n",
    "    # Initialize an empty DataFrame with specified columns\n",
    "    out_df = pd.DataFrame(columns=output_columns)\n",
    "    \n",
    "    for index, row in in_df.iterrows():\n",
    "        name = str(row['name']).upper()\n",
    "        response = request.urlopen(url + name + '/price')\n",
    "        html_page = BeautifulSoup(response, 'html.parser')\n",
    "        \n",
    "  #      price = html_page.find('div', class_='value text-white mb-0 me-2 lh-1 stock-info').text.strip()        \n",
    "  #      if (price == '-'):\n",
    "  #          price = '0.00'        \n",
    "\n",
    "        price_div = html_page.find('div', class_='value text-white mb-0 me-2 lh-1 stock-info')\n",
    "        if price_div:\n",
    "            price = price_div.text.strip()\n",
    "        else:\n",
    "            print(f\"Price div not found for {name}\")\n",
    "            price = '0.00'     \n",
    "            \n",
    "        # Try to find the <h3> tag with the class 'theme-success'\n",
    "        h3_tag = html_page.find('h3', class_='theme-success')\n",
    "        if h3_tag:\n",
    "        # Find all <span> tags within the found <h3> tag\n",
    "            span_tags = h3_tag.find_all('span')\n",
    "    \n",
    "            if len(span_tags) > 1:\n",
    "                # Extract the text from the second <span> tag\n",
    "                percent_span = span_tags[1].text\n",
    "                # print(percent_span)\n",
    "                \n",
    "        # Try to find the <h3> tag with the class 'theme-danger'\n",
    "        h3_tag = html_page.find('h3', class_='theme-danger')\n",
    "        if h3_tag:\n",
    "        # Find all <span> tags within the found <h3> tag\n",
    "            span_tags = h3_tag.find_all('span')\n",
    "    \n",
    "            if len(span_tags) > 1:\n",
    "                # Extract the text from the second <span> tag\n",
    "                percent_span = span_tags[1].text\n",
    "                # print(percent_span)    \n",
    "                \n",
    "        # Try to find the <h3> tag with the class 'theme-danger'\n",
    "        h3_tag = html_page.find('h3', class_='theme-normal')\n",
    "        if h3_tag:\n",
    "        # Find all <span> tags within the found <h3> tag\n",
    "            span_tags = h3_tag.find_all('span')\n",
    "    \n",
    "            if len(span_tags) > 1:\n",
    "                # Extract the text from the second <span> tag\n",
    "                percent_span = span_tags[1].text\n",
    "                # print(percent_span)   \n",
    "                \n",
    "        percent = cvt_str_to_flt(percent_span)\n",
    "                \n",
    "        values_low = html_page.find_all('span', class_='title-font-family fs-16px fw-bolder me-auto lh-1')\n",
    "        today_low = values_low[0].text\n",
    "        if (today_low == '-'):\n",
    "            today_low = '0.00'\n",
    "        \n",
    "        values_high = html_page.find_all('span', class_='title-font-family fs-16px fw-bolder lh-1')\n",
    "        today_high = values_high[0].text\n",
    "        if (today_high == '-'):\n",
    "            today_high = '0.00'         \n",
    "        \n",
    "        year_low = values_low[1].text        \n",
    "        year_high = values_high[1].text     \n",
    "        \n",
    "        # Find the div with the specific class, then find the span within it\n",
    "        div = html_page.find('div', class_='price-detail-date d-flex align-items-center text-nowrap fs-12px')\n",
    "        if div:\n",
    "            span = div.find('span')\n",
    "            if span:\n",
    "                text = span.get_text()\n",
    "#                 print(text)\n",
    "            else:\n",
    "                print(\"Span not found\")\n",
    "        else:\n",
    "            print(\"Div not found\")\n",
    "            \n",
    "        # Extract the date part from the string\n",
    "        # Assuming the date is always in the format 'dd Mon yyyy'\n",
    "        date_str = ' '.join(text.split()[2:5])\n",
    "\n",
    "        # Parse the date string into a datetime object\n",
    "        date_obj = datetime.strptime(date_str, '%d %b %Y')\n",
    "\n",
    "        # Format the datetime object to 'yyyy-mm-dd'\n",
    "        updated_at = date_obj.strftime('%Y-%m-%d')\n",
    "\n",
    "#         print(updated_at)\n",
    "        \n",
    "        # Append row to the DataFrame and print the row\n",
    "        out_df.loc[len(out_df)] = [name, price, today_low, today_high, year_low, year_high, percent, updated_at]\n",
    "#       print(out_df.iloc[-1].to_string(header=False, index=False)) \n",
    "        print(','.join(map(str, out_df.iloc[-1])))\n",
    "        sleep(2)\n",
    "        \n",
    "    return out_df  # return the final dataframe with all values populated"
   ]
  },
  {
   "cell_type": "code",
   "execution_count": 11,
   "id": "94abc8d4",
   "metadata": {},
   "outputs": [
    {
     "name": "stdout",
     "output_type": "stream",
     "text": [
      "Start at:  08:21 PM\n"
     ]
    }
   ],
   "source": [
    "start_time = strftime(\"%I:%M %p\")\n",
    "print('Start at: ', start_time)"
   ]
  },
  {
   "cell_type": "code",
   "execution_count": 12,
   "id": "23b565ec",
   "metadata": {
    "scrolled": true
   },
   "outputs": [
    {
     "name": "stdout",
     "output_type": "stream",
     "text": [
      "ACE,1.31,1.29,1.31,1.23,1.38,0.77,2025-10-31\n",
      "ADVANC,302.00,301.00,305.00,259.00,316.00,-0.98,2025-10-31\n",
      "AEONTS,105.50,104.50,107.00,90.50,140.50,-1.4,2025-10-31\n",
      "AH,12.30,12.00,12.50,10.00,20.10,2.5,2025-10-31\n",
      "AIE,1.08,1.05,1.08,0.72,1.80,0.93,2025-10-31\n",
      "AIMIRT,10.20,10.20,10.30,9.20,10.90,-0.97,2025-10-31\n",
      "AIT,4.82,4.82,4.86,3.92,5.30,0.0,2025-10-31\n",
      "AJ,2.04,2.02,2.08,1.94,5.10,0.99,2025-10-31\n",
      "AMATA,14.40,14.30,14.60,11.20,31.00,0.0,2025-10-31\n",
      "ANAN,0.45,0.44,0.46,0.37,0.79,0.0,2025-10-31\n",
      "AOT,41.25,40.75,42.00,26.75,63.00,0.0,2025-10-31\n",
      "AP,8.65,8.40,8.65,5.60,9.65,0.58,2025-10-31\n",
      "ASIAN,7.30,7.30,7.40,6.50,9.40,-0.68,2025-10-31\n",
      "ASK,7.75,7.70,7.75,6.20,12.40,0.0,2025-10-31\n",
      "ASP,2.22,2.18,2.22,1.81,2.80,0.0,2025-10-31\n",
      "ASW,6.25,6.05,6.25,4.90,8.20,0.0,2025-10-31\n",
      "AWC,2.20,2.14,2.20,1.55,3.80,2.8,2025-10-31\n",
      "BA,13.00,12.90,13.20,10.60,26.00,1.56,2025-10-31\n",
      "BAM,6.75,6.70,6.85,5.35,8.65,-0.74,2025-10-31\n",
      "BANPU,5.05,4.86,5.15,4.00,6.45,1.0,2025-10-31\n",
      "BAY,24.30,24.20,24.30,20.70,25.50,0.41,2025-10-31\n",
      "BBL,158.50,157.50,159.50,131.00,163.00,0.0,2025-10-31\n",
      "BCH,11.30,10.80,11.30,10.70,17.70,2.73,2025-10-31\n",
      "BCP,29.50,29.25,30.00,26.50,41.00,0.85,2025-10-31\n",
      "BCPG,8.25,8.20,8.35,5.05,9.60,-0.6,2025-10-31\n",
      "BCT,50.00,50.00,50.00,43.50,73.00,0.5,2025-10-31\n",
      "BDMS,18.90,18.60,19.10,18.70,28.00,-0.53,2025-10-31\n",
      "BE8,5.20,5.15,5.20,5.10,17.60,0.97,2025-10-31\n",
      "BEAUTY,0.57,0.53,0.57,0.19,0.68,7.55,2025-10-31\n",
      "BEC,1.95,1.94,1.97,1.79,4.26,0.0,2025-10-31\n",
      "BEM,5.15,5.10,5.20,4.56,8.00,0.0,2025-10-31\n",
      "BGC,4.50,4.48,4.52,4.48,7.90,-0.88,2025-10-31\n",
      "BGRIM,16.20,15.90,16.20,8.90,22.40,1.25,2025-10-31\n",
      "BH,172.00,170.00,173.50,130.00,272.00,-0.58,2025-10-31\n",
      "BJC,18.30,18.20,18.40,16.50,24.60,-0.54,2025-10-31\n",
      "BKIH,306.00,305.00,306.00,271.00,310.00,0.0,2025-10-31\n",
      "BLA,18.00,17.70,18.10,14.00,25.75,1.12,2025-10-31\n",
      "BLAND,0.50,0.49,0.50,0.38,0.63,0.0,2025-10-31\n",
      "BPP,12.80,12.80,12.90,6.20,12.90,0.0,2025-10-31\n",
      "BTS,2.94,2.94,3.08,2.80,6.40,-2.0,2025-10-31\n",
      "BTSGIF,2.68,2.66,2.68,2.46,3.26,0.0,2025-10-31\n",
      "CBG,45.00,44.75,45.50,44.00,82.00,-1.1,2025-10-31\n",
      "CENTEL,32.25,31.50,32.25,19.40,38.50,1.57,2025-10-31\n",
      "CHG,1.57,1.54,1.57,1.39,2.94,0.64,2025-10-31\n",
      "CK,15.30,15.20,15.40,10.20,20.00,0.0,2025-10-31\n",
      "CKP,2.56,2.52,2.56,2.10,3.68,0.79,2025-10-31\n",
      "COM7,25.00,24.90,25.50,16.70,28.25,0.0,2025-10-31\n",
      "CPALL,46.00,45.75,46.25,41.50,65.25,-0.54,2025-10-31\n",
      "CPF,21.10,21.10,21.50,19.80,26.50,-1.4,2025-10-31\n",
      "CPN,53.75,52.25,54.00,41.00,64.75,2.38,2025-10-31\n",
      "CPNCG,6.25,6.20,6.25,5.75,6.50,0.81,2025-10-31\n",
      "CPNREIT,11.40,11.30,11.40,10.20,12.60,0.88,2025-10-31\n",
      "CRC,20.50,20.30,20.60,15.80,36.00,0.99,2025-10-31\n",
      "DCC,1.32,1.31,1.33,1.18,1.96,0.0,2025-10-31\n",
      "DCON,0.24,0.23,0.24,0.23,0.34,0.0,2025-10-31\n",
      "DELTA,217.00,213.00,223.00,51.25,232.00,-1.36,2025-10-31\n",
      "DIF,9.30,9.30,9.35,7.35,9.50,-0.53,2025-10-31\n",
      "DOHOME,3.90,3.90,3.98,2.26,10.12,-2.01,2025-10-31\n",
      "DRT,5.25,5.20,5.25,4.42,7.95,0.0,2025-10-31\n",
      "EA,3.06,3.00,3.10,1.73,5.59,0.66,2025-10-31\n",
      "EASTW,2.52,2.52,2.58,1.57,3.30,-2.33,2025-10-31\n",
      "EGATIF,6.10,6.05,6.10,5.75,6.15,0.83,2025-10-31\n",
      "EGCO,123.00,122.50,124.50,85.00,143.00,-0.81,2025-10-31\n",
      "EPG,2.80,2.78,2.88,2.12,5.05,-0.71,2025-10-31\n",
      "FORTH,6.90,6.90,7.10,6.05,13.30,-2.82,2025-10-31\n",
      "FPT,6.40,6.40,6.40,5.85,13.40,0.0,2025-10-31\n",
      "FSMART,7.40,7.30,7.50,5.35,9.85,-1.33,2025-10-31\n",
      "FTREIT,10.50,10.30,10.50,8.60,10.70,1.94,2025-10-31\n",
      "GC,3.94,3.92,3.94,3.40,5.10,0.51,2025-10-31\n",
      "GFPT,10.30,10.20,10.50,8.00,11.20,-0.96,2025-10-31\n",
      "GGC,3.56,3.56,3.58,3.20,5.45,-0.56,2025-10-31\n",
      "GLOBAL,6.90,6.85,7.35,4.16,15.99,-6.12,2025-10-31\n",
      "GPSC,41.50,41.00,41.50,22.40,45.00,0.61,2025-10-31\n",
      "GRAMMY,4.66,4.40,4.66,4.20,8.45,0.0,2025-10-31\n",
      "GUNKUL,2.06,2.04,2.08,1.31,2.72,0.0,2025-10-31\n",
      "GVREIT,6.50,6.50,6.55,6.15,6.95,-0.76,2025-10-31\n",
      "HANA,23.20,23.10,23.60,14.00,40.50,-0.43,2025-10-31\n",
      "HFT,3.66,3.60,3.68,3.32,4.62,1.1,2025-10-31\n",
      "HMPRO,6.55,6.40,6.55,5.70,9.95,1.55,2025-10-31\n",
      "HTC,15.10,14.90,15.10,14.50,17.20,1.34,2025-10-31\n",
      "ICHI,12.30,12.20,12.40,9.40,16.60,0.0,2025-10-31\n",
      "III,4.64,4.54,4.64,4.18,6.40,1.75,2025-10-31\n",
      "ILM,14.30,14.00,14.60,11.50,17.70,-2.05,2025-10-31\n",
      "IMH,3.80,3.80,3.88,3.48,5.30,0.0,2025-10-31\n",
      "IMPACT,10.00,9.95,10.00,9.25,11.80,0.5,2025-10-31\n",
      "INOX,0.38,0.38,0.40,0.35,0.56,0.0,2025-10-31\n",
      "IP,3.90,3.80,3.94,2.02,4.54,1.56,2025-10-31\n",
      "IRPC,1.15,1.12,1.17,0.70,1.54,1.77,2025-10-31\n",
      "IVL,19.10,19.10,19.80,16.90,27.50,-3.05,2025-10-31\n",
      "3BBIF,6.75,6.70,6.75,5.00,6.85,0.75,2025-10-31\n",
      "JMART,7.80,7.70,7.90,5.20,15.60,0.0,2025-10-31\n",
      "JMT,9.75,9.65,9.85,7.35,20.30,1.04,2025-10-31\n",
      "KBANK,186.50,184.50,188.00,145.00,186.00,0.54,2025-10-31\n",
      "KCE,25.50,25.25,26.00,13.70,38.75,-1.92,2025-10-31\n",
      "KGI,3.92,3.90,3.92,3.40,4.40,1.03,2025-10-31\n",
      "KKP,65.75,65.00,66.00,43.50,66.75,0.0,2025-10-31\n",
      "KSL,1.38,1.36,1.38,1.25,2.10,0.73,2025-10-31\n",
      "KTB,27.25,26.75,27.25,19.70,27.50,0.0,2025-10-31\n",
      "KTC,28.50,28.25,28.75,21.80,52.25,-0.87,2025-10-31\n",
      "KYE,283.00,283.00,285.00,280.00,324.00,-0.7,2025-10-31\n",
      "LALIN,5.00,5.00,5.15,4.80,6.50,-0.99,2025-10-31\n",
      "LANNA,15.40,15.30,15.40,14.10,17.10,0.65,2025-10-31\n",
      "LH,3.90,3.84,3.92,3.18,5.85,1.04,2025-10-31\n",
      "LHFG,0.78,0.77,0.79,0.72,0.86,0.0,2025-10-31\n",
      "LHK,3.50,3.48,3.50,3.02,3.96,1.16,2025-10-31\n",
      "LIT,0.61,0.59,0.62,0.39,1.13,0.0,2025-10-31\n",
      "LPH,3.68,3.64,3.68,3.20,4.54,0.0,2025-10-31\n",
      "LPN,1.64,1.63,1.65,1.61,3.00,-1.2,2025-10-31\n",
      "M,32.75,31.75,32.75,13.80,35.25,1.55,2025-10-31\n",
      "MAJOR,7.10,6.75,7.10,6.90,15.20,2.9,2025-10-31\n",
      "MBAX,1.37,1.37,1.38,1.17,2.94,-0.72,2025-10-31\n",
      "MC,11.20,11.10,11.30,9.15,11.60,0.0,2025-10-31\n",
      "MCS,8.20,8.10,8.20,5.80,9.20,0.0,2025-10-31\n",
      "MEGA,29.50,29.00,29.75,24.30,39.50,0.0,2025-10-31\n",
      "MINT,23.00,22.50,23.00,21.70,29.50,1.77,2025-10-31\n",
      "MST,6.80,6.80,6.85,5.50,10.20,0.0,2025-10-31\n",
      "MTC,40.50,39.75,40.50,33.75,51.50,0.62,2025-10-31\n",
      "NER,4.16,4.14,4.16,3.88,5.10,0.48,2025-10-31\n",
      "NOBLE,2.14,2.12,2.14,1.60,3.08,-0.93,2025-10-31\n",
      "ONEE,1.97,1.96,1.99,1.96,4.68,-0.51,2025-10-31\n",
      "OR,14.70,14.50,14.70,10.10,15.70,0.0,2025-10-31\n",
      "ORI,2.26,2.24,2.32,1.50,4.86,-0.88,2025-10-31\n",
      "OSP,15.70,15.40,15.70,12.90,22.10,0.0,2025-10-31\n",
      "PAP,1.88,1.88,1.88,1.31,2.28,0.0,2025-10-31\n",
      "PCSGH,3.02,2.98,3.02,2.46,4.50,0.67,2025-10-31\n",
      "PDG,2.80,2.78,2.80,2.36,2.88,0.0,2025-10-31\n",
      "PLANB,4.18,4.10,4.26,3.94,7.65,-1.42,2025-10-31\n",
      "POPF,6.40,6.35,6.45,5.40,6.70,0.0,2025-10-31\n",
      "PREB,3.62,3.58,3.62,3.34,5.25,1.69,2025-10-31\n",
      "PRM,6.45,6.45,6.55,5.10,9.30,-0.77,2025-10-31\n",
      "PSH,3.72,3.70,3.74,3.66,8.90,0.0,2025-10-31\n",
      "PSL,6.70,6.60,6.75,4.96,8.65,1.52,2025-10-31\n",
      "PTG,8.00,7.95,8.10,5.45,9.65,0.0,2025-10-31\n",
      "PTL,9.45,9.35,9.65,9.20,14.50,-1.05,2025-10-31\n",
      "PTT,30.75,30.50,31.00,27.00,34.25,-0.81,2025-10-31\n",
      "PTTEP,107.00,107.00,108.50,93.00,133.00,-1.38,2025-10-31\n",
      "PTTGC,25.25,24.70,25.75,14.20,28.75,0.0,2025-10-31\n",
      "QH,1.32,1.28,1.32,1.15,1.87,3.13,2025-10-31\n",
      "RATCH,27.75,27.25,27.75,22.50,33.00,0.91,2025-10-31\n",
      "RBF,3.60,3.60,3.64,3.04,7.40,0.0,2025-10-31\n",
      "RCL,25.75,25.50,26.00,18.20,31.75,0.0,2025-10-31\n",
      "RJH,12.90,12.80,13.10,11.50,26.25,-1.53,2025-10-31\n",
      "ROJNA,4.48,4.38,4.48,4.14,7.35,2.28,2025-10-31\n",
      "RS,0.22,0.20,0.23,0.19,6.15,4.76,2025-10-31\n",
      "S11,3.18,3.14,3.20,1.86,3.70,-1.24,2025-10-31\n",
      "SAPPE,36.25,36.00,36.50,27.50,83.00,0.69,2025-10-31\n",
      "SAT,13.10,13.00,13.20,9.95,13.90,0.0,2025-10-31\n",
      "SAWAD,28.25,28.25,28.75,14.80,39.09,-1.74,2025-10-31\n",
      "SC,1.70,1.66,1.70,1.40,3.04,1.8,2025-10-31\n",
      "SCB,131.00,129.50,132.00,111.00,135.50,0.38,2025-10-31\n",
      "SCC,204.00,202.00,212.00,124.50,231.00,-3.77,2025-10-31\n",
      "SCCC,142.00,141.00,142.00,138.50,169.00,0.35,2025-10-31\n",
      "SCGP,18.20,18.10,18.80,10.70,26.25,-2.67,2025-10-31\n",
      "SENA,1.87,1.84,1.87,1.54,2.36,-0.53,2025-10-31\n",
      "SGP,6.40,6.40,6.55,5.00,7.50,-3.03,2025-10-31\n",
      "SINGER,5.80,5.75,5.90,3.92,11.20,-0.85,2025-10-31\n",
      "SIRI,1.40,1.39,1.41,1.11,1.87,-0.71,2025-10-31\n",
      "SIS,18.50,18.30,19.00,17.60,31.25,-2.63,2025-10-31\n",
      "SJWD,8.30,8.15,8.35,5.75,12.40,0.61,2025-10-31\n",
      "SKN,5.75,5.75,5.75,5.05,6.40,-0.86,2025-10-31\n",
      "SKR,7.75,7.65,7.85,6.20,9.80,-1.27,2025-10-31\n",
      "SMPC,8.85,8.85,8.90,7.80,9.95,-0.56,2025-10-31\n",
      "SNC,6.00,5.90,6.00,4.96,7.35,0.84,2025-10-31\n",
      "SPALI,17.10,16.70,17.10,13.20,20.40,0.0,2025-10-31\n",
      "SPC,57.50,57.50,58.00,53.00,60.75,-0.86,2025-10-31\n",
      "SPCG,8.30,8.20,8.30,6.60,8.85,1.22,2025-10-31\n",
      "SPRC,4.80,4.72,4.82,4.26,7.20,0.84,2025-10-31\n",
      "SPRIME,3.48,3.44,3.48,3.00,4.28,0.58,2025-10-31\n",
      "SSP,3.44,3.40,3.44,3.40,5.85,0.0,2025-10-31\n",
      "STA,11.90,11.90,12.20,10.30,21.50,-1.65,2025-10-31\n",
      "STANLY,193.50,192.50,193.50,176.00,225.00,0.78,2025-10-31\n",
      "STGT,6.70,6.65,6.75,5.10,11.40,-0.74,2025-10-31\n",
      "SUPER,0.13,0.12,0.13,0.12,0.29,0.0,2025-10-31\n",
      "SUPEREIF,5.40,5.35,5.45,4.72,6.90,0.93,2025-10-31\n",
      "SVI,6.20,6.15,6.35,5.55,9.40,-2.36,2025-10-31\n",
      "SYNEX,10.50,10.30,10.70,9.30,16.70,-0.94,2025-10-31\n",
      "TASCO,13.90,13.80,13.90,13.20,20.00,0.72,2025-10-31\n",
      "TCAP,51.00,50.75,51.25,44.25,53.00,0.49,2025-10-31\n",
      "TFFIF,6.05,6.05,6.10,5.25,6.60,-0.82,2025-10-31\n",
      "TFG,4.54,4.54,4.68,3.02,6.10,-3.4,2025-10-31\n",
      "THANI,1.60,1.58,1.61,1.15,2.02,1.27,2025-10-31\n",
      "THG,8.05,8.00,8.25,6.15,17.79,0.63,2025-10-31\n",
      "TIPH,21.80,21.50,21.90,16.70,27.50,1.4,2025-10-31\n",
      "TIPCO,7.80,7.75,7.85,7.80,10.40,-0.64,2025-10-31\n",
      "TISCO,107.50,107.00,108.00,95.00,109.00,0.0,2025-10-31\n",
      "TK,4.42,4.40,4.46,3.28,4.90,-0.9,2025-10-31\n",
      "TKN,4.88,4.82,4.96,4.50,10.60,1.24,2025-10-31\n",
      "TKS,5.60,5.45,5.60,4.90,7.25,2.75,2025-10-31\n",
      "TMT,3.00,2.94,3.00,2.60,4.14,0.0,2025-10-31\n",
      "TMW,50.75,50.50,50.75,47.00,66.75,0.0,2025-10-31\n",
      "TOA,12.90,12.90,13.10,9.35,18.00,-1.53,2025-10-31\n",
      "TOP,35.75,35.00,35.75,21.00,45.00,0.7,2025-10-31\n",
      "TPIPL,0.72,0.71,0.72,0.69,1.17,0.0,2025-10-31\n",
      "TPIPP,2.06,2.04,2.06,1.99,3.08,0.98,2025-10-31\n",
      "TQM,12.30,12.30,12.60,11.90,26.25,-2.38,2025-10-31\n",
      "TRUE,11.30,11.30,11.40,10.10,13.30,0.0,2025-10-31\n",
      "TSE,0.45,0.43,0.45,0.29,1.03,2.27,2025-10-31\n",
      "TSTH,0.74,0.72,0.74,0.47,0.93,1.37,2025-10-31\n",
      "TTA,4.40,4.34,4.50,3.22,6.30,0.0,2025-10-31\n",
      "TTB,1.85,1.85,1.87,1.72,2.02,0.0,2025-10-31\n",
      "TTLPF,10.50,10.50,10.60,10.30,15.80,0.0,2025-10-31\n",
      "TTW,9.05,9.00,9.05,8.45,9.25,0.0,2025-10-31\n",
      "TU,13.10,12.50,13.10,8.60,15.50,3.15,2025-10-31\n",
      "TVO,24.20,23.90,24.20,19.70,26.00,0.0,2025-10-31\n",
      "TYCN,1.77,1.73,1.77,1.62,2.20,-1.12,2025-10-31\n",
      "UTP,7.70,7.60,7.75,7.20,10.90,0.0,2025-10-31\n",
      "VGI,1.25,1.24,1.34,1.21,3.68,-5.3,2025-10-31\n",
      "VIBHA,1.44,1.44,1.46,1.37,2.12,0.0,2025-10-31\n",
      "VNG,2.00,1.92,2.02,1.89,3.56,-0.99,2025-10-31\n",
      "WHA,3.26,3.22,3.28,2.26,6.15,0.0,2025-10-31\n",
      "WHAIR,6.05,6.05,6.15,4.12,6.75,-1.63,2025-10-31\n",
      "WHART,9.70,9.70,9.75,8.55,10.50,0.0,2025-10-31\n",
      "WHAUP,4.08,4.04,4.12,2.76,5.40,2.0,2025-10-31\n",
      "WICE,2.60,2.58,2.68,2.34,6.00,-0.76,2025-10-31\n",
      "WORK,4.12,4.10,4.20,3.82,8.85,-0.96,2025-10-31\n"
     ]
    }
   ],
   "source": [
    "df = pd.read_csv(input_file, header=None)\n",
    "out_df = get_stock_data(df)"
   ]
  },
  {
   "cell_type": "code",
   "execution_count": 13,
   "id": "d31edacf",
   "metadata": {},
   "outputs": [
    {
     "name": "stdout",
     "output_type": "stream",
     "text": [
      "End at:  08:30 PM\n"
     ]
    }
   ],
   "source": [
    "end_time = strftime(\"%I:%M %p\")\n",
    "print('End at: ', end_time)"
   ]
  },
  {
   "cell_type": "code",
   "execution_count": 14,
   "id": "b89c4ae7",
   "metadata": {},
   "outputs": [
    {
     "data": {
      "text/html": [
       "<div>\n",
       "<style scoped>\n",
       "    .dataframe tbody tr th:only-of-type {\n",
       "        vertical-align: middle;\n",
       "    }\n",
       "\n",
       "    .dataframe tbody tr th {\n",
       "        vertical-align: top;\n",
       "    }\n",
       "\n",
       "    .dataframe thead th {\n",
       "        text-align: right;\n",
       "    }\n",
       "</style>\n",
       "<table border=\"1\" class=\"dataframe\">\n",
       "  <thead>\n",
       "    <tr style=\"text-align: right;\">\n",
       "      <th></th>\n",
       "      <th>name</th>\n",
       "      <th>price</th>\n",
       "      <th>today_low</th>\n",
       "      <th>today_high</th>\n",
       "      <th>year_low</th>\n",
       "      <th>year_high</th>\n",
       "      <th>percent</th>\n",
       "      <th>updated_at</th>\n",
       "    </tr>\n",
       "  </thead>\n",
       "  <tbody>\n",
       "  </tbody>\n",
       "</table>\n",
       "</div>"
      ],
      "text/plain": [
       "Empty DataFrame\n",
       "Columns: [name, price, today_low, today_high, year_low, year_high, percent, updated_at]\n",
       "Index: []"
      ]
     },
     "execution_count": 14,
     "metadata": {},
     "output_type": "execute_result"
    }
   ],
   "source": [
    "out_df.query('price == \"-\"')"
   ]
  },
  {
   "cell_type": "code",
   "execution_count": 15,
   "id": "784f1b6d",
   "metadata": {},
   "outputs": [
    {
     "data": {
      "text/plain": [
       "(215, 8)"
      ]
     },
     "execution_count": 15,
     "metadata": {},
     "output_type": "execute_result"
    }
   ],
   "source": [
    "out_df.shape"
   ]
  },
  {
   "cell_type": "code",
   "execution_count": 16,
   "id": "6326d0c5",
   "metadata": {},
   "outputs": [],
   "source": [
    "out_df = out_df[out_df['name'] != 'BCT']"
   ]
  },
  {
   "cell_type": "code",
   "execution_count": 17,
   "id": "2a293f55-436e-45d1-9966-50d12c26e659",
   "metadata": {},
   "outputs": [],
   "source": [
    "out_df = out_df[out_df['name'] != 'LPF']"
   ]
  },
  {
   "cell_type": "code",
   "execution_count": 18,
   "id": "cc4b3547-5ea9-4ac6-bd11-896e67d464ed",
   "metadata": {},
   "outputs": [],
   "source": [
    "out_df = out_df[out_df['name'] != 'TYCN']"
   ]
  },
  {
   "cell_type": "code",
   "execution_count": 19,
   "id": "865622c2-dad3-4ba8-b35a-898461fe5e9a",
   "metadata": {},
   "outputs": [],
   "source": [
    "out_df = out_df[out_df['name'] != 'GRAMMY']"
   ]
  },
  {
   "cell_type": "code",
   "execution_count": 20,
   "id": "cb2d763d-5b75-4ace-b87a-f165c8e6cb91",
   "metadata": {},
   "outputs": [],
   "source": [
    "out_df = out_df[out_df['name'] != 'MST']"
   ]
  },
  {
   "cell_type": "code",
   "execution_count": 21,
   "id": "e65305f0-157a-4129-a758-15c02e8df06a",
   "metadata": {},
   "outputs": [],
   "source": [
    "out_df = out_df[out_df['name'] != 'SPC']"
   ]
  },
  {
   "cell_type": "code",
   "execution_count": 22,
   "id": "cb55b5f6-0679-4191-aeda-ab0cf45f18e7",
   "metadata": {},
   "outputs": [],
   "source": [
    "out_df = out_df[out_df['name'] != 'SPRIME']"
   ]
  },
  {
   "cell_type": "code",
   "execution_count": 23,
   "id": "981854f1-01a1-4e26-b2a9-4f58948a33ec",
   "metadata": {},
   "outputs": [],
   "source": [
    "out_df = out_df[out_df['name'] != 'FPT']"
   ]
  },
  {
   "cell_type": "code",
   "execution_count": 24,
   "id": "a2833967-e889-4ad5-97b2-8234ba35c31c",
   "metadata": {},
   "outputs": [],
   "source": [
    "out_df = out_df[out_df['name'] != 'GGC']"
   ]
  },
  {
   "cell_type": "code",
   "execution_count": 25,
   "id": "40da6b49-9c79-425a-9cae-a6608c2062a4",
   "metadata": {},
   "outputs": [],
   "source": [
    "out_df = out_df[out_df['name'] != 'SKN']"
   ]
  },
  {
   "cell_type": "code",
   "execution_count": 26,
   "id": "390bf9c1-c27e-4f76-b69c-4a64e6f8f737",
   "metadata": {},
   "outputs": [],
   "source": [
    "out_df = out_df[out_df['name'] != 'KYE']"
   ]
  },
  {
   "cell_type": "code",
   "execution_count": 27,
   "id": "8dbd83e7-d113-4560-bce3-adbaf3b8bb95",
   "metadata": {},
   "outputs": [],
   "source": [
    "out_df = out_df[out_df['name'] != 'PDG']"
   ]
  },
  {
   "cell_type": "code",
   "execution_count": 28,
   "id": "8f023784-0f5a-485e-99ff-69ebda4061be",
   "metadata": {},
   "outputs": [],
   "source": [
    "out_df = out_df[out_df['name'] != 'PREB']"
   ]
  },
  {
   "cell_type": "code",
   "execution_count": 29,
   "id": "b2771ed1",
   "metadata": {},
   "outputs": [
    {
     "data": {
      "text/plain": [
       "(203, 8)"
      ]
     },
     "execution_count": 29,
     "metadata": {},
     "output_type": "execute_result"
    }
   ],
   "source": [
    "out_df.shape"
   ]
  },
  {
   "cell_type": "code",
   "execution_count": 30,
   "id": "eb2ffec6",
   "metadata": {},
   "outputs": [],
   "source": [
    "out_df['price'] = out_df['price'].astype('float')\n",
    "out_df['today_low'] = out_df['today_low'].astype('float')\n",
    "out_df['today_high'] = out_df['today_high'].astype('float')\n",
    "out_df['year_low'] = out_df['year_low'].astype('float')\n",
    "out_df['year_high'] = out_df['year_high'].astype('float')\n",
    "out_df['percent'] = out_df['percent'].astype('float')"
   ]
  },
  {
   "cell_type": "code",
   "execution_count": 31,
   "id": "f4fb1a3c",
   "metadata": {},
   "outputs": [],
   "source": [
    "sorted_out_df = out_df.sort_values('percent')"
   ]
  },
  {
   "cell_type": "code",
   "execution_count": 32,
   "id": "032f0eea",
   "metadata": {},
   "outputs": [
    {
     "data": {
      "text/html": [
       "<div>\n",
       "<style scoped>\n",
       "    .dataframe tbody tr th:only-of-type {\n",
       "        vertical-align: middle;\n",
       "    }\n",
       "\n",
       "    .dataframe tbody tr th {\n",
       "        vertical-align: top;\n",
       "    }\n",
       "\n",
       "    .dataframe thead th {\n",
       "        text-align: right;\n",
       "    }\n",
       "</style>\n",
       "<table border=\"1\" class=\"dataframe\">\n",
       "  <thead>\n",
       "    <tr style=\"text-align: right;\">\n",
       "      <th></th>\n",
       "      <th>name</th>\n",
       "      <th>price</th>\n",
       "      <th>today_low</th>\n",
       "      <th>today_high</th>\n",
       "      <th>year_low</th>\n",
       "      <th>year_high</th>\n",
       "      <th>percent</th>\n",
       "      <th>updated_at</th>\n",
       "    </tr>\n",
       "  </thead>\n",
       "  <tbody>\n",
       "    <tr>\n",
       "      <th>183</th>\n",
       "      <td>TIPCO</td>\n",
       "      <td>7.8</td>\n",
       "      <td>7.75</td>\n",
       "      <td>7.85</td>\n",
       "      <td>7.8</td>\n",
       "      <td>10.4</td>\n",
       "      <td>-0.64</td>\n",
       "      <td>2025-10-31</td>\n",
       "    </tr>\n",
       "    <tr>\n",
       "      <th>26</th>\n",
       "      <td>BDMS</td>\n",
       "      <td>18.9</td>\n",
       "      <td>18.60</td>\n",
       "      <td>19.10</td>\n",
       "      <td>18.7</td>\n",
       "      <td>28.0</td>\n",
       "      <td>-0.53</td>\n",
       "      <td>2025-10-31</td>\n",
       "    </tr>\n",
       "    <tr>\n",
       "      <th>109</th>\n",
       "      <td>MAJOR</td>\n",
       "      <td>7.1</td>\n",
       "      <td>6.75</td>\n",
       "      <td>7.10</td>\n",
       "      <td>6.9</td>\n",
       "      <td>15.2</td>\n",
       "      <td>2.90</td>\n",
       "      <td>2025-10-31</td>\n",
       "    </tr>\n",
       "  </tbody>\n",
       "</table>\n",
       "</div>"
      ],
      "text/plain": [
       "      name  price  today_low  today_high  year_low  year_high  percent  \\\n",
       "183  TIPCO    7.8       7.75        7.85       7.8       10.4    -0.64   \n",
       "26    BDMS   18.9      18.60       19.10      18.7       28.0    -0.53   \n",
       "109  MAJOR    7.1       6.75        7.10       6.9       15.2     2.90   \n",
       "\n",
       "     updated_at  \n",
       "183  2025-10-31  \n",
       "26   2025-10-31  \n",
       "109  2025-10-31  "
      ]
     },
     "execution_count": 32,
     "metadata": {},
     "output_type": "execute_result"
    }
   ],
   "source": [
    "sorted_out_df.query('today_low < year_low')"
   ]
  },
  {
   "cell_type": "code",
   "execution_count": 33,
   "id": "8e04b03d",
   "metadata": {},
   "outputs": [
    {
     "data": {
      "text/html": [
       "<div>\n",
       "<style scoped>\n",
       "    .dataframe tbody tr th:only-of-type {\n",
       "        vertical-align: middle;\n",
       "    }\n",
       "\n",
       "    .dataframe tbody tr th {\n",
       "        vertical-align: top;\n",
       "    }\n",
       "\n",
       "    .dataframe thead th {\n",
       "        text-align: right;\n",
       "    }\n",
       "</style>\n",
       "<table border=\"1\" class=\"dataframe\">\n",
       "  <thead>\n",
       "    <tr style=\"text-align: right;\">\n",
       "      <th></th>\n",
       "      <th>name</th>\n",
       "      <th>price</th>\n",
       "      <th>today_low</th>\n",
       "      <th>today_high</th>\n",
       "      <th>year_low</th>\n",
       "      <th>year_high</th>\n",
       "      <th>percent</th>\n",
       "      <th>updated_at</th>\n",
       "    </tr>\n",
       "  </thead>\n",
       "  <tbody>\n",
       "    <tr>\n",
       "      <th>92</th>\n",
       "      <td>KBANK</td>\n",
       "      <td>186.5</td>\n",
       "      <td>184.5</td>\n",
       "      <td>188.0</td>\n",
       "      <td>145.0</td>\n",
       "      <td>186.0</td>\n",
       "      <td>0.54</td>\n",
       "      <td>2025-10-31</td>\n",
       "    </tr>\n",
       "  </tbody>\n",
       "</table>\n",
       "</div>"
      ],
      "text/plain": [
       "     name  price  today_low  today_high  year_low  year_high  percent  \\\n",
       "92  KBANK  186.5      184.5       188.0     145.0      186.0     0.54   \n",
       "\n",
       "    updated_at  \n",
       "92  2025-10-31  "
      ]
     },
     "execution_count": 33,
     "metadata": {},
     "output_type": "execute_result"
    }
   ],
   "source": [
    "sorted_out_df.query('today_high > year_high')"
   ]
  },
  {
   "cell_type": "code",
   "execution_count": 34,
   "id": "290a9607",
   "metadata": {},
   "outputs": [
    {
     "data": {
      "text/html": [
       "<div>\n",
       "<style scoped>\n",
       "    .dataframe tbody tr th:only-of-type {\n",
       "        vertical-align: middle;\n",
       "    }\n",
       "\n",
       "    .dataframe tbody tr th {\n",
       "        vertical-align: top;\n",
       "    }\n",
       "\n",
       "    .dataframe thead th {\n",
       "        text-align: right;\n",
       "    }\n",
       "</style>\n",
       "<table border=\"1\" class=\"dataframe\">\n",
       "  <thead>\n",
       "    <tr style=\"text-align: right;\">\n",
       "      <th></th>\n",
       "      <th>name</th>\n",
       "      <th>price</th>\n",
       "      <th>today_low</th>\n",
       "      <th>today_high</th>\n",
       "      <th>year_low</th>\n",
       "      <th>year_high</th>\n",
       "      <th>percent</th>\n",
       "      <th>updated_at</th>\n",
       "    </tr>\n",
       "  </thead>\n",
       "  <tbody>\n",
       "    <tr>\n",
       "      <th>92</th>\n",
       "      <td>KBANK</td>\n",
       "      <td>186.5</td>\n",
       "      <td>184.5</td>\n",
       "      <td>188.0</td>\n",
       "      <td>145.0</td>\n",
       "      <td>186.0</td>\n",
       "      <td>0.54</td>\n",
       "      <td>2025-10-31</td>\n",
       "    </tr>\n",
       "  </tbody>\n",
       "</table>\n",
       "</div>"
      ],
      "text/plain": [
       "     name  price  today_low  today_high  year_low  year_high  percent  \\\n",
       "92  KBANK  186.5      184.5       188.0     145.0      186.0     0.54   \n",
       "\n",
       "    updated_at  \n",
       "92  2025-10-31  "
      ]
     },
     "execution_count": 34,
     "metadata": {},
     "output_type": "execute_result"
    }
   ],
   "source": [
    "out_df.query('today_high > year_high')"
   ]
  },
  {
   "cell_type": "code",
   "execution_count": 35,
   "id": "5fbeba56-2a63-4650-898b-6447a81f95f5",
   "metadata": {},
   "outputs": [],
   "source": [
    "file_name = \"Price-Hilo.csv\"\n",
    "output_file = os.path.join(dat_path, file_name)\n",
    "god_file = os.path.join(god_path, file_name)\n",
    "icd_file = os.path.join(icd_path, file_name)\n",
    "osd_file = os.path.join(osd_path, file_name)"
   ]
  },
  {
   "cell_type": "code",
   "execution_count": 36,
   "id": "da6183ac-2f05-4f67-b200-fe83634d29dc",
   "metadata": {},
   "outputs": [
    {
     "name": "stdout",
     "output_type": "stream",
     "text": [
      "output_file : C:\\Users\\PC1\\OneDrive\\A5\\Data\\Price-Hilo.csv\n",
      "icd_file : C:\\Users\\PC1\\iCloudDrive\\Data\\Price-Hilo.csv\n",
      "god_file : C:\\Users\\PC1\\OneDrive\\Imports\\santisoontarinka@gmail.com - Google Drive\\Data\\Price-Hilo.csv\n",
      "osd_file : C:\\Users\\PC1\\OneDrive\\Documents\\obsidian-git-sync\\Data\\Price-Hilo.csv\n"
     ]
    }
   ],
   "source": [
    "print(f\"output_file : {output_file}\") \n",
    "print(f\"icd_file : {icd_file}\") \n",
    "print(f\"god_file : {god_file}\") \n",
    "print(f\"osd_file : {osd_file}\") "
   ]
  },
  {
   "cell_type": "code",
   "execution_count": 37,
   "id": "8017b53b",
   "metadata": {},
   "outputs": [],
   "source": [
    "out_df.to_csv(output_file, index=False)  \n",
    "out_df.to_csv(god_file, index=False) \n",
    "out_df.to_csv(icd_file, index=False)  \n",
    "out_df.to_csv(osd_file, index=False) "
   ]
  },
  {
   "cell_type": "code",
   "execution_count": 38,
   "id": "80692fae-6308-4695-bcac-5124ce4d44e3",
   "metadata": {},
   "outputs": [
    {
     "name": "stdout",
     "output_type": "stream",
     "text": [
      "2025-10-31 20:30:24\n"
     ]
    }
   ],
   "source": [
    "# Get the current time\n",
    "current_time = datetime.now()\n",
    "# Format the time to remove milliseconds\n",
    "formatted_time = current_time.strftime(\"%Y-%m-%d %H:%M:%S\")\n",
    "print(formatted_time)"
   ]
  }
 ],
 "metadata": {
  "kernelspec": {
   "display_name": "Python 3 (ipykernel)",
   "language": "python",
   "name": "python3"
  },
  "language_info": {
   "codemirror_mode": {
    "name": "ipython",
    "version": 3
   },
   "file_extension": ".py",
   "mimetype": "text/x-python",
   "name": "python",
   "nbconvert_exporter": "python",
   "pygments_lexer": "ipython3",
   "version": "3.12.3"
  }
 },
 "nbformat": 4,
 "nbformat_minor": 5
}
