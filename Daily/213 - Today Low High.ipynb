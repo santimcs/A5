{
 "cells": [
  {
   "cell_type": "markdown",
   "id": "8fc27a80-5e71-4b48-ba9b-741744050465",
   "metadata": {},
   "source": [
    "### Start and Run All"
   ]
  },
  {
   "cell_type": "code",
   "execution_count": 2,
   "id": "d7cfc693",
   "metadata": {},
   "outputs": [
    {
     "name": "stdout",
     "output_type": "stream",
     "text": [
      "2025-10-08 20:27:34\n"
     ]
    }
   ],
   "source": [
    "import os\n",
    "import pandas as pd\n",
    "from urllib import request\n",
    "from bs4 import BeautifulSoup\n",
    "# from datetime import date, timedelta\n",
    "from datetime import datetime\n",
    "from time import sleep, strftime\n",
    "\n",
    "# Get the current time\n",
    "current_time = datetime.now()\n",
    "# Format the time to remove milliseconds\n",
    "formatted_time = current_time.strftime(\"%Y-%m-%d %H:%M:%S\")\n",
    "print(formatted_time)"
   ]
  },
  {
   "cell_type": "code",
   "execution_count": 3,
   "id": "0cbdda38-ec42-4470-bede-c468ba46f8d8",
   "metadata": {},
   "outputs": [],
   "source": [
    "url = \"https://www.set.or.th/en/market/product/stock/quote/\"\n",
    "percent_span = '' "
   ]
  },
  {
   "cell_type": "code",
   "execution_count": 4,
   "id": "6e4b7508-0071-480d-99c8-a6c070027294",
   "metadata": {},
   "outputs": [],
   "source": [
    "# Get the user's home directory\n",
    "user_path = os.path.expanduser('~')\n",
    "# Get the current working directory\n",
    "current_path = os.getcwd()\n",
    "# Derive the base directory (base_dir) by removing the last folder ('Daily')\n",
    "base_path = os.path.dirname(current_path)\n",
    "#C:\\Users\\PC1\\OneDrive\\A5\\Data\n",
    "dat_path = os.path.join(base_path, \"Data\")\n",
    "#C:\\Users\\PC1\\OneDrive\\Imports\\santisoontarinka@gmail.com - Google Drive\\Data>\n",
    "god_path = os.path.join(user_path, \"OneDrive\",\"Imports\",\"santisoontarinka@gmail.com - Google Drive\",\"Data\")\n",
    "#C:\\Users\\PC1\\iCloudDrive\\data\n",
    "icd_path = os.path.join(user_path, \"iCloudDrive\", \"Data\")\n",
    "#C:\\Users\\PC1\\OneDrive\\Documents\\obsidian-git-sync\\Data\n",
    "osd_path = os.path.join(user_path, \"OneDrive\",\"Documents\",\"obsidian-git-sync\",\"Data\")"
   ]
  },
  {
   "cell_type": "code",
   "execution_count": 5,
   "id": "07defeb3-a742-4e64-8089-7e4fe5b8b93c",
   "metadata": {},
   "outputs": [
    {
     "name": "stdout",
     "output_type": "stream",
     "text": [
      "User path: C:\\Users\\PC1\n",
      "Current path: C:\\Users\\PC1\\OneDrive\\A5\\Daily\n",
      "Base path: C:\\Users\\PC1\\OneDrive\\A5\n",
      "Data path : C:\\Users\\PC1\\OneDrive\\A5\\Data\n",
      "Google Drive path : C:\\Users\\PC1\\OneDrive\\Imports\\santisoontarinka@gmail.com - Google Drive\\Data\n",
      "iCloudDrive path : C:\\Users\\PC1\\iCloudDrive\\Data\n",
      "Obsidian path : C:\\Users\\PC1\\OneDrive\\Documents\\obsidian-git-sync\\Data\n"
     ]
    }
   ],
   "source": [
    "print(\"User path:\", user_path)\n",
    "print(f\"Current path: {current_path}\")\n",
    "print(f\"Base path: {base_path}\")\n",
    "print(f\"Data path : {dat_path}\") \n",
    "print(f\"Google Drive path : {god_path}\")\n",
    "print(f\"iCloudDrive path : {icd_path}\") \n",
    "print(f\"Obsidian path : {osd_path}\") "
   ]
  },
  {
   "cell_type": "code",
   "execution_count": 6,
   "id": "08576879-dc60-431b-a31a-e1893e2d7922",
   "metadata": {},
   "outputs": [
    {
     "name": "stdout",
     "output_type": "stream",
     "text": [
      "Input file : C:\\Users\\PC1\\OneDrive\\A5\\Data\\name-ttl.csv\n"
     ]
    }
   ],
   "source": [
    "file_name = \"name-ttl.csv\"\n",
    "input_file = os.path.join(dat_path, file_name)\n",
    "print(f\"Input file : {input_file}\") "
   ]
  },
  {
   "cell_type": "code",
   "execution_count": 7,
   "id": "9b9668db-0773-4de5-9bd4-864c377dab80",
   "metadata": {},
   "outputs": [],
   "source": [
    "file_name = \"price-hilo.csv\"\n",
    "output_file = os.path.join(dat_path, file_name)\n",
    "god_file = os.path.join(god_path, file_name)\n",
    "icd_file = os.path.join(icd_path, file_name)\n",
    "osd_file = os.path.join(osd_path, file_name)"
   ]
  },
  {
   "cell_type": "code",
   "execution_count": 8,
   "id": "66c38ef5-8643-4ad3-81ff-9e2275d426d5",
   "metadata": {},
   "outputs": [
    {
     "name": "stdout",
     "output_type": "stream",
     "text": [
      "Output file : C:\\Users\\PC1\\OneDrive\\A5\\Data\\price-hilo.csv\n",
      "icd_file : C:\\Users\\PC1\\iCloudDrive\\Data\\price-hilo.csv\n",
      "god_file : C:\\Users\\PC1\\OneDrive\\Imports\\santisoontarinka@gmail.com - Google Drive\\Data\\price-hilo.csv\n",
      "osd_file : C:\\Users\\PC1\\OneDrive\\Documents\\obsidian-git-sync\\Data\\price-hilo.csv\n"
     ]
    }
   ],
   "source": [
    "print(f\"Output file : {output_file}\") \n",
    "print(f\"icd_file : {icd_file}\") \n",
    "print(f\"god_file : {god_file}\") \n",
    "print(f\"osd_file : {osd_file}\")"
   ]
  },
  {
   "cell_type": "code",
   "execution_count": 9,
   "id": "c1ec2693",
   "metadata": {},
   "outputs": [],
   "source": [
    "def cvt_str_to_flt(input_str):\n",
    "    # Check for the special pattern and return 0\n",
    "    if input_str == '(-)':\n",
    "        return 0\n",
    "    \n",
    "    # Remove parentheses and percent sign\n",
    "    cleaned_str = input_str.replace('(', '').replace(')', '').replace('%', '')\n",
    "\n",
    "    # Convert to float\n",
    "    try:\n",
    "        return float(cleaned_str)\n",
    "    except ValueError:\n",
    "        # Handle the case where the conversion fails\n",
    "        return None\n",
    " "
   ]
  },
  {
   "cell_type": "code",
   "execution_count": 10,
   "id": "334bed1f",
   "metadata": {},
   "outputs": [],
   "source": [
    "def get_stock_data(in_df):\n",
    "\n",
    "    in_df.columns = ['name']\n",
    "    \n",
    "    output_columns = ['name', 'price', 'today_low', 'today_high', 'year_low', 'year_high', 'percent', 'updated_at']\n",
    "    # Initialize an empty DataFrame with specified columns\n",
    "    out_df = pd.DataFrame(columns=output_columns)\n",
    "    \n",
    "    for index, row in in_df.iterrows():\n",
    "        name = str(row['name']).upper()\n",
    "        response = request.urlopen(url + name + '/price')\n",
    "        html_page = BeautifulSoup(response, 'html.parser')\n",
    "        \n",
    "  #      price = html_page.find('div', class_='value text-white mb-0 me-2 lh-1 stock-info').text.strip()        \n",
    "  #      if (price == '-'):\n",
    "  #          price = '0.00'        \n",
    "\n",
    "        price_div = html_page.find('div', class_='value text-white mb-0 me-2 lh-1 stock-info')\n",
    "        if price_div:\n",
    "            price = price_div.text.strip()\n",
    "        else:\n",
    "            print(f\"Price div not found for {name}\")\n",
    "            price = '0.00'     \n",
    "            \n",
    "        # Try to find the <h3> tag with the class 'theme-success'\n",
    "        h3_tag = html_page.find('h3', class_='theme-success')\n",
    "        if h3_tag:\n",
    "        # Find all <span> tags within the found <h3> tag\n",
    "            span_tags = h3_tag.find_all('span')\n",
    "    \n",
    "            if len(span_tags) > 1:\n",
    "                # Extract the text from the second <span> tag\n",
    "                percent_span = span_tags[1].text\n",
    "                # print(percent_span)\n",
    "                \n",
    "        # Try to find the <h3> tag with the class 'theme-danger'\n",
    "        h3_tag = html_page.find('h3', class_='theme-danger')\n",
    "        if h3_tag:\n",
    "        # Find all <span> tags within the found <h3> tag\n",
    "            span_tags = h3_tag.find_all('span')\n",
    "    \n",
    "            if len(span_tags) > 1:\n",
    "                # Extract the text from the second <span> tag\n",
    "                percent_span = span_tags[1].text\n",
    "                # print(percent_span)    \n",
    "                \n",
    "        # Try to find the <h3> tag with the class 'theme-danger'\n",
    "        h3_tag = html_page.find('h3', class_='theme-normal')\n",
    "        if h3_tag:\n",
    "        # Find all <span> tags within the found <h3> tag\n",
    "            span_tags = h3_tag.find_all('span')\n",
    "    \n",
    "            if len(span_tags) > 1:\n",
    "                # Extract the text from the second <span> tag\n",
    "                percent_span = span_tags[1].text\n",
    "                # print(percent_span)   \n",
    "                \n",
    "        percent = cvt_str_to_flt(percent_span)\n",
    "                \n",
    "        values_low = html_page.find_all('span', class_='title-font-family fs-16px fw-bolder me-auto lh-1')\n",
    "        today_low = values_low[0].text\n",
    "        if (today_low == '-'):\n",
    "            today_low = '0.00'\n",
    "        \n",
    "        values_high = html_page.find_all('span', class_='title-font-family fs-16px fw-bolder lh-1')\n",
    "        today_high = values_high[0].text\n",
    "        if (today_high == '-'):\n",
    "            today_high = '0.00'         \n",
    "        \n",
    "        year_low = values_low[1].text        \n",
    "        year_high = values_high[1].text     \n",
    "        \n",
    "        # Find the div with the specific class, then find the span within it\n",
    "        div = html_page.find('div', class_='price-detail-date d-flex align-items-center text-nowrap fs-12px')\n",
    "        if div:\n",
    "            span = div.find('span')\n",
    "            if span:\n",
    "                text = span.get_text()\n",
    "#                 print(text)\n",
    "            else:\n",
    "                print(\"Span not found\")\n",
    "        else:\n",
    "            print(\"Div not found\")\n",
    "            \n",
    "        # Extract the date part from the string\n",
    "        # Assuming the date is always in the format 'dd Mon yyyy'\n",
    "        date_str = ' '.join(text.split()[2:5])\n",
    "\n",
    "        # Parse the date string into a datetime object\n",
    "        date_obj = datetime.strptime(date_str, '%d %b %Y')\n",
    "\n",
    "        # Format the datetime object to 'yyyy-mm-dd'\n",
    "        updated_at = date_obj.strftime('%Y-%m-%d')\n",
    "\n",
    "#         print(updated_at)\n",
    "        \n",
    "        # Append row to the DataFrame and print the row\n",
    "        out_df.loc[len(out_df)] = [name, price, today_low, today_high, year_low, year_high, percent, updated_at]\n",
    "#       print(out_df.iloc[-1].to_string(header=False, index=False)) \n",
    "        print(','.join(map(str, out_df.iloc[-1])))\n",
    "        sleep(1)\n",
    "        \n",
    "    return out_df  # return the final dataframe with all values populated"
   ]
  },
  {
   "cell_type": "code",
   "execution_count": 11,
   "id": "94abc8d4",
   "metadata": {},
   "outputs": [
    {
     "name": "stdout",
     "output_type": "stream",
     "text": [
      "Start at:  08:27 PM\n"
     ]
    }
   ],
   "source": [
    "start_time = strftime(\"%I:%M %p\")\n",
    "print('Start at: ', start_time)"
   ]
  },
  {
   "cell_type": "code",
   "execution_count": 12,
   "id": "23b565ec",
   "metadata": {
    "scrolled": true
   },
   "outputs": [
    {
     "name": "stdout",
     "output_type": "stream",
     "text": [
      "ACE,1.30,1.29,1.31,1.23,1.40,0.78,2025-10-08\n",
      "ADVANC,292.00,291.00,293.00,259.00,309.00,0.0,2025-10-08\n",
      "AEONTS,118.50,116.00,118.50,90.50,148.00,1.28,2025-10-08\n",
      "AH,13.70,13.60,13.80,10.00,23.10,0.0,2025-10-08\n",
      "AIE,1.13,1.12,1.14,0.72,1.80,0.0,2025-10-08\n",
      "AIMIRT,10.30,10.20,10.40,9.20,11.00,0.0,2025-10-08\n",
      "AIT,4.86,4.84,4.88,3.92,5.30,0.41,2025-10-08\n",
      "AJ,2.28,2.28,2.32,1.94,5.50,0.0,2025-10-08\n",
      "AMATA,16.10,16.10,16.40,11.20,31.00,-0.62,2025-10-08\n",
      "ANAN,0.49,0.49,0.51,0.37,0.79,0.0,2025-10-08\n",
      "AOT,42.25,42.00,42.75,26.75,64.50,-0.59,2025-10-08\n",
      "AP,8.90,8.70,8.90,5.60,10.50,1.71,2025-10-08\n",
      "ASIAN,7.40,7.30,7.40,6.50,9.50,0.0,2025-10-08\n",
      "ASK,8.75,8.70,8.90,6.20,13.90,-0.57,2025-10-08\n",
      "ASP,2.28,2.26,2.30,1.81,2.80,0.0,2025-10-08\n",
      "ASW,6.25,6.05,6.25,4.90,8.20,0.81,2025-10-08\n",
      "AWC,2.24,2.24,2.30,1.55,3.86,0.0,2025-10-08\n",
      "BA,14.20,14.20,14.50,10.60,26.00,-1.39,2025-10-08\n",
      "BAM,8.15,8.00,8.45,5.35,9.70,6.54,2025-10-08\n",
      "BANPU,4.52,4.50,4.54,4.00,7.10,0.0,2025-10-08\n",
      "BAY,23.50,23.50,23.80,20.70,27.25,-0.42,2025-10-08\n",
      "BBL,150.50,148.00,151.00,131.00,161.50,1.01,2025-10-08\n",
      "BCH,12.70,12.70,12.90,12.30,19.20,-0.78,2025-10-08\n",
      "BCP,30.25,30.25,30.50,26.50,41.00,0.0,2025-10-08\n",
      "BCPG,9.00,8.50,9.00,5.05,8.95,4.65,2025-10-08\n",
      "BCT,48.00,47.25,48.00,43.50,76.00,1.05,2025-10-08\n",
      "BDMS,20.00,20.00,20.30,19.80,30.25,-1.48,2025-10-08\n",
      "BE8,5.80,5.75,6.15,5.20,20.30,-2.52,2025-10-08\n",
      "BEAUTY,0.49,0.48,0.50,0.19,0.68,0.0,2025-10-08\n",
      "BEC,2.14,2.10,2.16,1.79,4.68,0.0,2025-10-08\n",
      "BEM,5.10,5.05,5.40,4.56,8.30,-4.67,2025-10-08\n",
      "BGC,4.74,4.70,4.74,4.54,7.90,0.0,2025-10-08\n",
      "BGRIM,14.20,14.10,14.60,8.90,24.80,-1.39,2025-10-08\n",
      "BH,172.00,171.50,175.50,130.00,280.00,-1.43,2025-10-08\n",
      "BJC,20.20,20.10,20.50,16.50,25.75,0.5,2025-10-08\n",
      "BKIH,306.00,303.00,306.00,271.00,316.00,0.33,2025-10-08\n",
      "BLA,18.60,18.50,18.80,14.00,25.75,-0.53,2025-10-08\n",
      "BLAND,0.50,0.50,0.51,0.38,0.64,-1.96,2025-10-08\n",
      "BPP,9.30,8.50,9.35,6.20,13.20,9.41,2025-10-08\n",
      "BTS,3.04,3.02,3.10,3.00,6.40,-1.3,2025-10-08\n",
      "BTSGIF,2.66,2.64,2.68,2.46,3.30,0.76,2025-10-08\n",
      "CBG,53.25,53.25,54.00,46.50,82.00,-0.47,2025-10-08\n",
      "CENTEL,32.00,31.75,32.50,19.40,39.00,0.79,2025-10-08\n",
      "CHG,1.57,1.57,1.65,1.39,3.00,-1.88,2025-10-08\n",
      "CK,16.60,16.00,16.80,10.20,20.60,3.11,2025-10-08\n",
      "CKP,2.72,2.70,2.78,2.10,4.04,-0.73,2025-10-08\n",
      "COM7,27.00,26.75,27.50,16.70,28.25,0.93,2025-10-08\n",
      "CPALL,48.25,48.00,48.75,41.50,68.00,0.0,2025-10-08\n",
      "CPF,23.20,22.80,23.40,19.80,26.50,1.75,2025-10-08\n",
      "CPN,54.75,54.25,55.25,41.00,68.75,0.46,2025-10-08\n",
      "CPNCG,6.20,6.15,6.20,5.75,6.55,0.0,2025-10-08\n",
      "CPNREIT,11.60,11.40,11.60,10.20,12.90,0.87,2025-10-08\n",
      "CRC,21.90,21.60,22.00,15.80,36.00,1.39,2025-10-08\n",
      "DCC,1.38,1.36,1.40,1.18,1.98,0.0,2025-10-08\n",
      "DCON,0.25,0.25,0.26,0.23,0.34,-3.85,2025-10-08\n",
      "DELTA,191.50,187.50,194.50,51.25,193.00,1.06,2025-10-08\n",
      "DIF,9.15,9.05,9.15,7.35,9.50,0.55,2025-10-08\n",
      "DOHOME,3.98,3.96,4.22,2.26,10.12,-1.97,2025-10-08\n",
      "DRT,5.40,5.40,5.45,4.42,8.05,0.0,2025-10-08\n",
      "EA,3.18,3.18,3.24,1.73,6.35,-1.24,2025-10-08\n",
      "EASTW,2.90,2.88,2.96,1.57,3.30,-0.68,2025-10-08\n",
      "EGATIF,6.00,6.00,6.05,5.75,6.15,0.0,2025-10-08\n",
      "EGCO,124.50,116.50,124.50,85.00,128.50,5.96,2025-10-08\n",
      "EPG,3.22,3.20,3.26,2.12,5.25,-1.23,2025-10-08\n",
      "FORTH,8.40,8.40,8.60,6.05,14.40,0.0,2025-10-08\n",
      "FPT,6.70,6.55,6.70,5.85,14.00,2.29,2025-10-08\n",
      "FSMART,8.80,8.80,9.15,5.35,9.85,-3.83,2025-10-08\n",
      "FTREIT,10.20,10.10,10.30,8.60,11.10,0.99,2025-10-08\n",
      "GC,4.00,3.96,4.02,3.40,5.10,0.5,2025-10-08\n",
      "GFPT,9.95,9.90,10.10,8.00,12.00,0.0,2025-10-08\n",
      "GGC,3.72,3.72,3.76,3.20,5.45,0.0,2025-10-08\n",
      "GLOBAL,7.65,7.60,8.05,4.16,16.27,-3.16,2025-10-08\n",
      "GPSC,39.00,38.50,39.75,22.40,49.25,1.3,2025-10-08\n",
      "GRAMMY,4.60,4.52,4.60,4.30,8.45,-0.43,2025-10-08\n",
      "GUNKUL,1.97,1.94,1.98,1.31,2.92,-0.51,2025-10-08\n",
      "GVREIT,6.50,6.45,6.50,6.15,7.05,0.0,2025-10-08\n",
      "HANA,24.20,24.20,24.90,14.00,42.50,-2.42,2025-10-08\n",
      "HFT,4.24,4.20,4.30,3.32,4.64,-1.4,2025-10-08\n",
      "HMPRO,7.45,7.40,7.55,5.70,10.80,0.68,2025-10-08\n",
      "HTC,14.90,14.90,15.00,14.50,17.70,-0.67,2025-10-08\n",
      "ICHI,13.20,13.10,13.30,9.40,16.60,0.76,2025-10-08\n",
      "III,4.64,4.64,4.72,4.18,6.85,-1.69,2025-10-08\n",
      "ILM,16.00,15.80,16.20,11.50,18.90,1.27,2025-10-08\n",
      "IMH,4.08,4.08,4.10,3.50,5.45,-0.97,2025-10-08\n",
      "IMPACT,10.00,10.00,10.10,9.25,12.40,-0.99,2025-10-08\n",
      "INOX,0.41,0.40,0.41,0.35,0.61,2.5,2025-10-08\n",
      "IP,4.20,4.14,4.26,2.02,4.54,1.45,2025-10-08\n",
      "IRPC,1.16,1.14,1.17,0.70,1.71,0.87,2025-10-08\n",
      "IVL,20.90,20.80,21.70,16.90,27.50,-3.24,2025-10-08\n",
      "3BBIF,6.55,6.50,6.60,5.00,6.85,0.0,2025-10-08\n",
      "JMART,9.00,9.00,9.40,5.20,16.80,-2.7,2025-10-08\n",
      "JMT,11.60,11.50,12.00,7.35,22.00,0.0,2025-10-08\n",
      "KBANK,167.50,166.00,168.00,145.00,173.00,0.9,2025-10-08\n",
      "KCE,25.00,24.80,25.50,13.70,39.75,-0.99,2025-10-08\n",
      "KEX,0.63,0.63,0.67,0.61,2.82,-3.08,2025-10-08\n",
      "KGI,3.96,3.94,3.98,3.40,4.52,0.51,2025-10-08\n",
      "KKP,61.25,59.50,61.50,43.50,62.00,2.94,2025-10-08\n",
      "KSL,1.41,1.39,1.41,1.25,2.20,0.71,2025-10-08\n",
      "KTB,25.00,24.80,25.25,19.70,26.50,0.81,2025-10-08\n",
      "KTC,31.25,31.00,31.75,21.80,52.25,-1.57,2025-10-08\n",
      "KYE,287.00,286.00,288.00,280.00,324.00,0.0,2025-10-08\n",
      "LALIN,5.00,4.98,5.05,4.80,6.70,-0.99,2025-10-08\n",
      "LANNA,15.60,15.60,15.80,14.10,17.10,0.0,2025-10-08\n",
      "LH,4.26,4.26,4.30,3.18,6.35,0.47,2025-10-08\n",
      "LHFG,0.74,0.74,0.76,0.72,0.88,0.0,2025-10-08\n",
      "LHK,3.52,3.48,3.54,3.02,3.98,-0.56,2025-10-08\n",
      "LIT,0.79,0.79,0.81,0.39,1.34,-2.47,2025-10-08\n",
      "LPH,3.90,3.84,3.94,3.20,4.66,1.04,2025-10-08\n",
      "LPN,1.75,1.73,1.75,1.61,3.38,0.57,2025-10-08\n",
      "M,34.25,34.00,34.50,13.80,35.25,0.0,2025-10-08\n",
      "MAJOR,7.85,7.85,7.95,7.35,16.00,-0.63,2025-10-08\n",
      "MBAX,1.37,1.37,1.37,1.17,2.98,-1.44,2025-10-08\n",
      "MC,11.10,11.10,11.30,9.15,13.00,-0.89,2025-10-08\n",
      "MCS,8.25,8.20,8.30,5.80,9.20,0.61,2025-10-08\n",
      "MEGA,30.25,30.00,30.50,24.30,41.25,-0.82,2025-10-08\n",
      "MINT,23.00,22.80,23.20,21.70,29.50,-0.86,2025-10-08\n",
      "MST,7.05,6.95,7.05,5.50,10.30,0.0,2025-10-08\n",
      "MTC,40.25,39.50,41.75,33.75,54.00,-1.83,2025-10-08\n",
      "NER,4.24,4.24,4.28,3.88,5.35,-0.47,2025-10-08\n",
      "NOBLE,2.22,2.20,2.32,1.60,3.18,0.91,2025-10-08\n",
      "ONEE,2.26,2.24,2.32,1.99,4.68,0.89,2025-10-08\n",
      "OR,13.50,13.50,14.00,10.10,17.10,-3.57,2025-10-08\n",
      "ORI,2.66,2.58,2.80,1.50,5.30,3.1,2025-10-08\n",
      "OSP,17.00,16.90,17.30,12.90,22.80,-0.58,2025-10-08\n",
      "PAP,2.04,1.97,2.04,1.31,2.48,0.0,2025-10-08\n",
      "PCSGH,3.06,3.02,3.10,2.46,4.66,0.66,2025-10-08\n",
      "PDG,2.76,2.76,2.80,2.36,2.88,-0.72,2025-10-08\n",
      "PLANB,4.32,4.32,4.44,4.08,8.50,-1.82,2025-10-08\n",
      "POPF,6.30,6.30,6.35,5.40,6.70,-0.79,2025-10-08\n",
      "PREB,-,0.00,0.00,3.34,5.25,0.0,2025-10-08\n",
      "PRM,6.50,6.40,6.55,5.10,9.30,-5.11,2025-10-08\n",
      "PSH,4.06,4.06,4.14,3.66,9.50,-0.49,2025-10-08\n",
      "PSL,7.15,7.00,7.20,4.96,9.05,1.42,2025-10-08\n",
      "PTG,9.25,9.20,9.40,5.45,10.40,0.0,2025-10-08\n",
      "PTL,10.10,10.00,10.30,9.20,14.50,-1.94,2025-10-08\n",
      "PTT,32.00,31.75,32.25,27.00,34.75,0.0,2025-10-08\n",
      "PTTEP,113.50,113.50,115.00,93.00,136.00,-0.87,2025-10-08\n",
      "PTTGC,25.25,25.00,25.75,14.20,29.75,-0.98,2025-10-08\n",
      "QH,1.36,1.35,1.37,1.15,1.99,0.74,2025-10-08\n",
      "RATCH,26.75,26.00,27.00,22.50,34.25,1.9,2025-10-08\n",
      "RBF,4.00,3.94,4.08,3.04,7.40,1.01,2025-10-08\n",
      "RCL,26.50,26.25,26.75,18.20,31.75,-0.93,2025-10-08\n",
      "RJH,13.30,13.20,13.50,11.50,26.25,-0.75,2025-10-08\n",
      "ROJNA,4.78,4.78,4.84,4.14,7.50,-0.83,2025-10-08\n",
      "RS,0.26,0.26,0.27,0.19,6.30,-3.7,2025-10-08\n",
      "S11,3.28,3.22,3.28,1.86,3.70,1.23,2025-10-08\n",
      "SAPPE,36.00,36.00,37.25,27.50,83.00,-3.36,2025-10-08\n",
      "SAT,13.10,13.10,13.30,9.95,13.90,0.0,2025-10-08\n",
      "SAWAD,30.00,29.50,31.00,14.80,40.45,-2.44,2025-10-08\n",
      "SC,1.87,1.86,1.89,1.40,3.18,1.08,2025-10-08\n",
      "SCB,129.50,127.00,129.50,108.50,133.00,1.97,2025-10-08\n",
      "SCC,218.00,215.00,225.00,124.50,245.00,-2.24,2025-10-08\n",
      "SCCC,148.50,148.50,149.00,138.50,177.50,-0.34,2025-10-08\n",
      "SCGP,18.00,18.00,18.40,10.70,30.25,-2.17,2025-10-08\n",
      "SENA,1.95,1.93,1.95,1.54,2.42,-0.51,2025-10-08\n",
      "SGP,6.60,6.50,6.60,5.00,7.60,0.0,2025-10-08\n",
      "SINGER,7.05,7.00,7.30,3.92,12.70,-0.7,2025-10-08\n",
      "SIRI,1.45,1.44,1.47,1.11,1.93,0.69,2025-10-08\n",
      "SIS,20.50,20.40,20.70,17.60,31.25,-0.49,2025-10-08\n",
      "SJWD,8.70,8.70,9.15,5.75,12.40,-3.33,2025-10-08\n",
      "SKN,5.75,5.75,5.85,5.05,6.40,-0.86,2025-10-08\n",
      "SKR,8.00,7.85,8.00,6.20,9.80,1.91,2025-10-08\n",
      "SMPC,9.00,9.00,9.05,7.80,9.95,0.0,2025-10-08\n",
      "SNC,5.85,5.70,5.95,4.96,7.35,-0.85,2025-10-08\n",
      "SPALI,18.00,17.90,18.10,13.20,20.80,0.0,2025-10-08\n",
      "SPC,58.00,57.75,58.00,53.00,60.75,0.0,2025-10-08\n",
      "SPCG,8.30,8.30,8.40,6.60,9.05,-0.6,2025-10-08\n",
      "SPRC,4.68,4.64,4.70,4.26,7.20,0.43,2025-10-08\n",
      "SPRIME,3.46,3.46,3.50,3.00,4.36,-0.57,2025-10-08\n",
      "SSP,3.48,3.46,3.50,3.40,6.05,-0.57,2025-10-08\n",
      "STA,12.40,12.40,12.70,10.30,22.10,-1.59,2025-10-08\n",
      "STANLY,181.50,181.50,182.00,176.00,225.00,-0.27,2025-10-08\n",
      "STGT,7.15,7.15,7.35,5.10,12.00,-2.05,2025-10-08\n",
      "SUPER,0.14,0.13,0.14,0.12,0.30,7.69,2025-10-08\n",
      "SUPEREIF,5.50,5.50,5.55,4.72,7.05,-0.9,2025-10-08\n",
      "SVI,6.10,6.10,6.15,5.55,9.40,0.0,2025-10-08\n",
      "SYNEX,11.30,11.30,11.80,9.30,16.70,-4.24,2025-10-08\n",
      "TASCO,14.30,14.10,14.50,13.20,20.00,-0.69,2025-10-08\n",
      "TCAP,50.50,50.00,50.75,44.25,53.00,0.5,2025-10-08\n",
      "TFFIF,6.10,6.05,6.15,5.25,6.85,0.0,2025-10-08\n",
      "TFG,5.15,4.94,5.30,3.02,6.10,4.25,2025-10-08\n",
      "THANI,1.63,1.62,1.68,1.15,2.22,0.0,2025-10-08\n",
      "THG,7.10,7.05,7.25,6.15,21.88,-1.39,2025-10-08\n",
      "TIPH,21.90,21.80,22.10,16.70,28.75,-0.45,2025-10-08\n",
      "TIPCO,8.30,8.25,8.35,8.20,10.40,-0.6,2025-10-08\n",
      "TISCO,102.50,102.00,103.50,95.00,103.50,0.0,2025-10-08\n",
      "TK,4.70,4.62,4.70,3.28,5.00,0.0,2025-10-08\n",
      "TKN,5.70,5.65,5.75,5.00,11.80,1.79,2025-10-08\n",
      "TKS,6.15,6.00,6.15,4.90,7.50,1.65,2025-10-08\n",
      "TMT,3.00,3.00,3.04,2.60,4.70,-0.66,2025-10-08\n",
      "TMW,51.50,51.00,52.00,47.00,66.75,-0.48,2025-10-08\n",
      "TOA,13.60,13.40,13.90,9.35,19.70,0.74,2025-10-08\n",
      "TOP,34.75,34.75,35.50,21.00,51.75,-1.42,2025-10-08\n",
      "TPIPL,0.75,0.74,0.76,0.69,1.20,0.0,2025-10-08\n",
      "TPIPP,2.20,2.20,2.22,1.99,3.10,0.0,2025-10-08\n",
      "TQM,13.00,12.90,13.10,12.20,32.75,-0.76,2025-10-08\n",
      "TRUE,10.90,10.90,11.10,10.10,13.30,-0.91,2025-10-08\n",
      "TSE,0.54,0.54,0.56,0.29,1.13,0.0,2025-10-08\n",
      "TSTH,0.77,0.76,0.78,0.47,0.93,0.0,2025-10-08\n",
      "TTA,4.70,4.68,4.84,3.22,6.30,-0.84,2025-10-08\n",
      "TTB,1.85,1.84,1.87,1.72,2.02,0.0,2025-10-08\n",
      "TTLPF,10.60,10.50,10.60,10.30,15.90,0.0,2025-10-08\n",
      "TTW,8.95,8.90,9.00,8.45,9.45,0.0,2025-10-08\n",
      "TU,12.50,12.40,12.80,8.60,15.50,0.81,2025-10-08\n",
      "TVO,24.90,24.90,25.25,19.70,26.00,-0.4,2025-10-08\n",
      "TYCN,1.83,1.77,1.83,1.62,2.32,0.0,2025-10-08\n",
      "UTP,7.70,7.65,7.75,7.20,11.00,0.65,2025-10-08\n",
      "VGI,1.51,1.47,1.55,1.47,3.68,0.67,2025-10-08\n",
      "VIBHA,1.49,1.48,1.52,1.37,2.12,0.0,2025-10-08\n",
      "VNG,2.08,2.04,2.10,1.89,3.68,0.0,2025-10-08\n",
      "WHA,3.56,3.56,3.64,2.26,6.20,-1.11,2025-10-08\n",
      "WHAIR,6.05,6.00,6.05,4.12,6.75,0.83,2025-10-08\n",
      "WHART,9.70,9.65,9.75,8.55,10.70,-0.51,2025-10-08\n",
      "WHAUP,4.04,4.04,4.16,2.76,5.50,-2.42,2025-10-08\n",
      "WICE,2.98,2.94,3.02,2.34,6.65,-0.67,2025-10-08\n",
      "WORK,4.26,4.22,4.26,3.82,9.90,0.0,2025-10-08\n"
     ]
    }
   ],
   "source": [
    "df = pd.read_csv(input_file, header=None)\n",
    "out_df = get_stock_data(df)"
   ]
  },
  {
   "cell_type": "code",
   "execution_count": 13,
   "id": "d31edacf",
   "metadata": {},
   "outputs": [
    {
     "name": "stdout",
     "output_type": "stream",
     "text": [
      "End at:  08:32 PM\n"
     ]
    }
   ],
   "source": [
    "end_time = strftime(\"%I:%M %p\")\n",
    "print('End at: ', end_time)"
   ]
  },
  {
   "cell_type": "code",
   "execution_count": 14,
   "id": "b89c4ae7",
   "metadata": {},
   "outputs": [
    {
     "data": {
      "text/html": [
       "<div>\n",
       "<style scoped>\n",
       "    .dataframe tbody tr th:only-of-type {\n",
       "        vertical-align: middle;\n",
       "    }\n",
       "\n",
       "    .dataframe tbody tr th {\n",
       "        vertical-align: top;\n",
       "    }\n",
       "\n",
       "    .dataframe thead th {\n",
       "        text-align: right;\n",
       "    }\n",
       "</style>\n",
       "<table border=\"1\" class=\"dataframe\">\n",
       "  <thead>\n",
       "    <tr style=\"text-align: right;\">\n",
       "      <th></th>\n",
       "      <th>name</th>\n",
       "      <th>price</th>\n",
       "      <th>today_low</th>\n",
       "      <th>today_high</th>\n",
       "      <th>year_low</th>\n",
       "      <th>year_high</th>\n",
       "      <th>percent</th>\n",
       "      <th>updated_at</th>\n",
       "    </tr>\n",
       "  </thead>\n",
       "  <tbody>\n",
       "    <tr>\n",
       "      <th>129</th>\n",
       "      <td>PREB</td>\n",
       "      <td>-</td>\n",
       "      <td>0.00</td>\n",
       "      <td>0.00</td>\n",
       "      <td>3.34</td>\n",
       "      <td>5.25</td>\n",
       "      <td>0.0</td>\n",
       "      <td>2025-10-08</td>\n",
       "    </tr>\n",
       "  </tbody>\n",
       "</table>\n",
       "</div>"
      ],
      "text/plain": [
       "     name price today_low today_high year_low year_high  percent  updated_at\n",
       "129  PREB     -      0.00       0.00     3.34      5.25      0.0  2025-10-08"
      ]
     },
     "execution_count": 14,
     "metadata": {},
     "output_type": "execute_result"
    }
   ],
   "source": [
    "out_df.query('price == \"-\"')"
   ]
  },
  {
   "cell_type": "code",
   "execution_count": 15,
   "id": "784f1b6d",
   "metadata": {},
   "outputs": [
    {
     "data": {
      "text/plain": [
       "(216, 8)"
      ]
     },
     "execution_count": 15,
     "metadata": {},
     "output_type": "execute_result"
    }
   ],
   "source": [
    "out_df.shape"
   ]
  },
  {
   "cell_type": "code",
   "execution_count": 16,
   "id": "6326d0c5",
   "metadata": {},
   "outputs": [],
   "source": [
    "out_df = out_df[out_df['name'] != 'BCT']"
   ]
  },
  {
   "cell_type": "code",
   "execution_count": 17,
   "id": "2a293f55-436e-45d1-9966-50d12c26e659",
   "metadata": {},
   "outputs": [],
   "source": [
    "out_df = out_df[out_df['name'] != 'LPF']"
   ]
  },
  {
   "cell_type": "code",
   "execution_count": 18,
   "id": "cc4b3547-5ea9-4ac6-bd11-896e67d464ed",
   "metadata": {},
   "outputs": [],
   "source": [
    "out_df = out_df[out_df['name'] != 'TYCN']"
   ]
  },
  {
   "cell_type": "code",
   "execution_count": 19,
   "id": "865622c2-dad3-4ba8-b35a-898461fe5e9a",
   "metadata": {},
   "outputs": [],
   "source": [
    "out_df = out_df[out_df['name'] != 'GRAMMY']"
   ]
  },
  {
   "cell_type": "code",
   "execution_count": 20,
   "id": "cb2d763d-5b75-4ace-b87a-f165c8e6cb91",
   "metadata": {},
   "outputs": [],
   "source": [
    "out_df = out_df[out_df['name'] != 'MST']"
   ]
  },
  {
   "cell_type": "code",
   "execution_count": 21,
   "id": "e65305f0-157a-4129-a758-15c02e8df06a",
   "metadata": {},
   "outputs": [],
   "source": [
    "out_df = out_df[out_df['name'] != 'SPC']"
   ]
  },
  {
   "cell_type": "code",
   "execution_count": 22,
   "id": "cb55b5f6-0679-4191-aeda-ab0cf45f18e7",
   "metadata": {},
   "outputs": [],
   "source": [
    "out_df = out_df[out_df['name'] != 'SPRIME']"
   ]
  },
  {
   "cell_type": "code",
   "execution_count": 23,
   "id": "981854f1-01a1-4e26-b2a9-4f58948a33ec",
   "metadata": {},
   "outputs": [],
   "source": [
    "out_df = out_df[out_df['name'] != 'FPT']"
   ]
  },
  {
   "cell_type": "code",
   "execution_count": 24,
   "id": "a2833967-e889-4ad5-97b2-8234ba35c31c",
   "metadata": {},
   "outputs": [],
   "source": [
    "out_df = out_df[out_df['name'] != 'GGC']"
   ]
  },
  {
   "cell_type": "code",
   "execution_count": 25,
   "id": "40da6b49-9c79-425a-9cae-a6608c2062a4",
   "metadata": {},
   "outputs": [],
   "source": [
    "out_df = out_df[out_df['name'] != 'SKN']"
   ]
  },
  {
   "cell_type": "code",
   "execution_count": 26,
   "id": "390bf9c1-c27e-4f76-b69c-4a64e6f8f737",
   "metadata": {},
   "outputs": [],
   "source": [
    "out_df = out_df[out_df['name'] != 'KYE']"
   ]
  },
  {
   "cell_type": "code",
   "execution_count": 27,
   "id": "8dbd83e7-d113-4560-bce3-adbaf3b8bb95",
   "metadata": {},
   "outputs": [],
   "source": [
    "out_df = out_df[out_df['name'] != 'PDG']"
   ]
  },
  {
   "cell_type": "code",
   "execution_count": 30,
   "id": "8f023784-0f5a-485e-99ff-69ebda4061be",
   "metadata": {},
   "outputs": [],
   "source": [
    "out_df = out_df[out_df['name'] != 'PREB']"
   ]
  },
  {
   "cell_type": "code",
   "execution_count": 32,
   "id": "b2771ed1",
   "metadata": {},
   "outputs": [
    {
     "data": {
      "text/plain": [
       "(204, 8)"
      ]
     },
     "execution_count": 32,
     "metadata": {},
     "output_type": "execute_result"
    }
   ],
   "source": [
    "out_df.shape"
   ]
  },
  {
   "cell_type": "code",
   "execution_count": 34,
   "id": "eb2ffec6",
   "metadata": {},
   "outputs": [],
   "source": [
    "out_df['price'] = out_df['price'].astype('float')\n",
    "out_df['today_low'] = out_df['today_low'].astype('float')\n",
    "out_df['today_high'] = out_df['today_high'].astype('float')\n",
    "out_df['year_low'] = out_df['year_low'].astype('float')\n",
    "out_df['year_high'] = out_df['year_high'].astype('float')\n",
    "out_df['percent'] = out_df['percent'].astype('float')"
   ]
  },
  {
   "cell_type": "code",
   "execution_count": 36,
   "id": "f4fb1a3c",
   "metadata": {},
   "outputs": [],
   "source": [
    "sorted_out_df = out_df.sort_values('percent')"
   ]
  },
  {
   "cell_type": "code",
   "execution_count": 38,
   "id": "032f0eea",
   "metadata": {},
   "outputs": [
    {
     "data": {
      "text/html": [
       "<div>\n",
       "<style scoped>\n",
       "    .dataframe tbody tr th:only-of-type {\n",
       "        vertical-align: middle;\n",
       "    }\n",
       "\n",
       "    .dataframe tbody tr th {\n",
       "        vertical-align: top;\n",
       "    }\n",
       "\n",
       "    .dataframe thead th {\n",
       "        text-align: right;\n",
       "    }\n",
       "</style>\n",
       "<table border=\"1\" class=\"dataframe\">\n",
       "  <thead>\n",
       "    <tr style=\"text-align: right;\">\n",
       "      <th></th>\n",
       "      <th>name</th>\n",
       "      <th>price</th>\n",
       "      <th>today_low</th>\n",
       "      <th>today_high</th>\n",
       "      <th>year_low</th>\n",
       "      <th>year_high</th>\n",
       "      <th>percent</th>\n",
       "      <th>updated_at</th>\n",
       "    </tr>\n",
       "  </thead>\n",
       "  <tbody>\n",
       "  </tbody>\n",
       "</table>\n",
       "</div>"
      ],
      "text/plain": [
       "Empty DataFrame\n",
       "Columns: [name, price, today_low, today_high, year_low, year_high, percent, updated_at]\n",
       "Index: []"
      ]
     },
     "execution_count": 38,
     "metadata": {},
     "output_type": "execute_result"
    }
   ],
   "source": [
    "sorted_out_df.query('today_low < year_low')"
   ]
  },
  {
   "cell_type": "code",
   "execution_count": 40,
   "id": "8e04b03d",
   "metadata": {},
   "outputs": [
    {
     "data": {
      "text/html": [
       "<div>\n",
       "<style scoped>\n",
       "    .dataframe tbody tr th:only-of-type {\n",
       "        vertical-align: middle;\n",
       "    }\n",
       "\n",
       "    .dataframe tbody tr th {\n",
       "        vertical-align: top;\n",
       "    }\n",
       "\n",
       "    .dataframe thead th {\n",
       "        text-align: right;\n",
       "    }\n",
       "</style>\n",
       "<table border=\"1\" class=\"dataframe\">\n",
       "  <thead>\n",
       "    <tr style=\"text-align: right;\">\n",
       "      <th></th>\n",
       "      <th>name</th>\n",
       "      <th>price</th>\n",
       "      <th>today_low</th>\n",
       "      <th>today_high</th>\n",
       "      <th>year_low</th>\n",
       "      <th>year_high</th>\n",
       "      <th>percent</th>\n",
       "      <th>updated_at</th>\n",
       "    </tr>\n",
       "  </thead>\n",
       "  <tbody>\n",
       "    <tr>\n",
       "      <th>55</th>\n",
       "      <td>DELTA</td>\n",
       "      <td>191.5</td>\n",
       "      <td>187.5</td>\n",
       "      <td>194.5</td>\n",
       "      <td>51.25</td>\n",
       "      <td>193.00</td>\n",
       "      <td>1.06</td>\n",
       "      <td>2025-10-08</td>\n",
       "    </tr>\n",
       "    <tr>\n",
       "      <th>24</th>\n",
       "      <td>BCPG</td>\n",
       "      <td>9.0</td>\n",
       "      <td>8.5</td>\n",
       "      <td>9.0</td>\n",
       "      <td>5.05</td>\n",
       "      <td>8.95</td>\n",
       "      <td>4.65</td>\n",
       "      <td>2025-10-08</td>\n",
       "    </tr>\n",
       "  </tbody>\n",
       "</table>\n",
       "</div>"
      ],
      "text/plain": [
       "     name  price  today_low  today_high  year_low  year_high  percent  \\\n",
       "55  DELTA  191.5      187.5       194.5     51.25     193.00     1.06   \n",
       "24   BCPG    9.0        8.5         9.0      5.05       8.95     4.65   \n",
       "\n",
       "    updated_at  \n",
       "55  2025-10-08  \n",
       "24  2025-10-08  "
      ]
     },
     "execution_count": 40,
     "metadata": {},
     "output_type": "execute_result"
    }
   ],
   "source": [
    "sorted_out_df.query('today_high > year_high')"
   ]
  },
  {
   "cell_type": "code",
   "execution_count": 42,
   "id": "290a9607",
   "metadata": {},
   "outputs": [
    {
     "data": {
      "text/html": [
       "<div>\n",
       "<style scoped>\n",
       "    .dataframe tbody tr th:only-of-type {\n",
       "        vertical-align: middle;\n",
       "    }\n",
       "\n",
       "    .dataframe tbody tr th {\n",
       "        vertical-align: top;\n",
       "    }\n",
       "\n",
       "    .dataframe thead th {\n",
       "        text-align: right;\n",
       "    }\n",
       "</style>\n",
       "<table border=\"1\" class=\"dataframe\">\n",
       "  <thead>\n",
       "    <tr style=\"text-align: right;\">\n",
       "      <th></th>\n",
       "      <th>name</th>\n",
       "      <th>price</th>\n",
       "      <th>today_low</th>\n",
       "      <th>today_high</th>\n",
       "      <th>year_low</th>\n",
       "      <th>year_high</th>\n",
       "      <th>percent</th>\n",
       "      <th>updated_at</th>\n",
       "    </tr>\n",
       "  </thead>\n",
       "  <tbody>\n",
       "    <tr>\n",
       "      <th>24</th>\n",
       "      <td>BCPG</td>\n",
       "      <td>9.0</td>\n",
       "      <td>8.5</td>\n",
       "      <td>9.0</td>\n",
       "      <td>5.05</td>\n",
       "      <td>8.95</td>\n",
       "      <td>4.65</td>\n",
       "      <td>2025-10-08</td>\n",
       "    </tr>\n",
       "    <tr>\n",
       "      <th>55</th>\n",
       "      <td>DELTA</td>\n",
       "      <td>191.5</td>\n",
       "      <td>187.5</td>\n",
       "      <td>194.5</td>\n",
       "      <td>51.25</td>\n",
       "      <td>193.00</td>\n",
       "      <td>1.06</td>\n",
       "      <td>2025-10-08</td>\n",
       "    </tr>\n",
       "  </tbody>\n",
       "</table>\n",
       "</div>"
      ],
      "text/plain": [
       "     name  price  today_low  today_high  year_low  year_high  percent  \\\n",
       "24   BCPG    9.0        8.5         9.0      5.05       8.95     4.65   \n",
       "55  DELTA  191.5      187.5       194.5     51.25     193.00     1.06   \n",
       "\n",
       "    updated_at  \n",
       "24  2025-10-08  \n",
       "55  2025-10-08  "
      ]
     },
     "execution_count": 42,
     "metadata": {},
     "output_type": "execute_result"
    }
   ],
   "source": [
    "out_df.query('today_high > year_high')"
   ]
  },
  {
   "cell_type": "code",
   "execution_count": 44,
   "id": "5fbeba56-2a63-4650-898b-6447a81f95f5",
   "metadata": {},
   "outputs": [],
   "source": [
    "file_name = \"Price-Hilo.csv\"\n",
    "output_file = os.path.join(dat_path, file_name)\n",
    "god_file = os.path.join(god_path, file_name)\n",
    "icd_file = os.path.join(icd_path, file_name)\n",
    "osd_file = os.path.join(osd_path, file_name)"
   ]
  },
  {
   "cell_type": "code",
   "execution_count": 46,
   "id": "da6183ac-2f05-4f67-b200-fe83634d29dc",
   "metadata": {},
   "outputs": [
    {
     "name": "stdout",
     "output_type": "stream",
     "text": [
      "output_file : C:\\Users\\PC1\\OneDrive\\A5\\Data\\Price-Hilo.csv\n",
      "icd_file : C:\\Users\\PC1\\iCloudDrive\\Data\\Price-Hilo.csv\n",
      "god_file : C:\\Users\\PC1\\OneDrive\\Imports\\santisoontarinka@gmail.com - Google Drive\\Data\\Price-Hilo.csv\n",
      "osd_file : C:\\Users\\PC1\\OneDrive\\Documents\\obsidian-git-sync\\Data\\Price-Hilo.csv\n"
     ]
    }
   ],
   "source": [
    "print(f\"output_file : {output_file}\") \n",
    "print(f\"icd_file : {icd_file}\") \n",
    "print(f\"god_file : {god_file}\") \n",
    "print(f\"osd_file : {osd_file}\") "
   ]
  },
  {
   "cell_type": "code",
   "execution_count": 48,
   "id": "8017b53b",
   "metadata": {},
   "outputs": [],
   "source": [
    "out_df.to_csv(output_file, index=False)  \n",
    "out_df.to_csv(god_file, index=False) \n",
    "out_df.to_csv(icd_file, index=False)  \n",
    "out_df.to_csv(osd_file, index=False) "
   ]
  },
  {
   "cell_type": "code",
   "execution_count": 50,
   "id": "80692fae-6308-4695-bcac-5124ce4d44e3",
   "metadata": {},
   "outputs": [
    {
     "name": "stdout",
     "output_type": "stream",
     "text": [
      "2025-10-08 20:40:35\n"
     ]
    }
   ],
   "source": [
    "# Get the current time\n",
    "current_time = datetime.now()\n",
    "# Format the time to remove milliseconds\n",
    "formatted_time = current_time.strftime(\"%Y-%m-%d %H:%M:%S\")\n",
    "print(formatted_time)"
   ]
  },
  {
   "cell_type": "code",
   "execution_count": null,
   "id": "0d06430f-554a-40e1-8e36-a7809b0bb632",
   "metadata": {},
   "outputs": [],
   "source": []
  }
 ],
 "metadata": {
  "kernelspec": {
   "display_name": "Python 3 (ipykernel)",
   "language": "python",
   "name": "python3"
  },
  "language_info": {
   "codemirror_mode": {
    "name": "ipython",
    "version": 3
   },
   "file_extension": ".py",
   "mimetype": "text/x-python",
   "name": "python",
   "nbconvert_exporter": "python",
   "pygments_lexer": "ipython3",
   "version": "3.12.3"
  }
 },
 "nbformat": 4,
 "nbformat_minor": 5
}
