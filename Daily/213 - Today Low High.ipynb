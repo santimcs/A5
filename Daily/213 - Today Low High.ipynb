{
 "cells": [
  {
   "cell_type": "markdown",
   "id": "930356c6",
   "metadata": {},
   "source": [
    "### Start and Run All"
   ]
  },
  {
   "cell_type": "code",
   "execution_count": 2,
   "id": "d7cfc693",
   "metadata": {},
   "outputs": [
    {
     "name": "stdout",
     "output_type": "stream",
     "text": [
      "2025-08-22 22:19:11\n"
     ]
    }
   ],
   "source": [
    "import os\n",
    "import pandas as pd\n",
    "from urllib import request\n",
    "from bs4 import BeautifulSoup\n",
    "# from datetime import date, timedelta\n",
    "from datetime import datetime\n",
    "from time import sleep, strftime\n",
    "\n",
    "# Get the current time\n",
    "current_time = datetime.now()\n",
    "# Format the time to remove milliseconds\n",
    "formatted_time = current_time.strftime(\"%Y-%m-%d %H:%M:%S\")\n",
    "print(formatted_time)"
   ]
  },
  {
   "cell_type": "code",
   "execution_count": 3,
   "id": "0cbdda38-ec42-4470-bede-c468ba46f8d8",
   "metadata": {},
   "outputs": [],
   "source": [
    "url = \"https://www.set.or.th/en/market/product/stock/quote/\"\n",
    "percent_span = '' "
   ]
  },
  {
   "cell_type": "code",
   "execution_count": 4,
   "id": "6e4b7508-0071-480d-99c8-a6c070027294",
   "metadata": {},
   "outputs": [],
   "source": [
    "# Get the user's home directory\n",
    "user_path = os.path.expanduser('~')\n",
    "# Get the current working directory\n",
    "current_path = os.getcwd()\n",
    "# Derive the base directory (base_dir) by removing the last folder ('Daily')\n",
    "base_path = os.path.dirname(current_path)\n",
    "#C:\\Users\\PC1\\OneDrive\\A5\\Data\n",
    "dat_path = os.path.join(base_path, \"Data\")\n",
    "#C:\\Users\\PC1\\OneDrive\\Imports\\santisoontarinka@gmail.com - Google Drive\\Data>\n",
    "god_path = os.path.join(user_path, \"OneDrive\",\"Imports\",\"santisoontarinka@gmail.com - Google Drive\",\"Data\")\n",
    "#C:\\Users\\PC1\\iCloudDrive\\data\n",
    "icd_path = os.path.join(user_path, \"iCloudDrive\", \"Data\")\n",
    "#C:\\Users\\PC1\\OneDrive\\Documents\\obsidian-git-sync\\Data\n",
    "osd_path = os.path.join(user_path, \"OneDrive\",\"Documents\",\"obsidian-git-sync\",\"Data\")"
   ]
  },
  {
   "cell_type": "code",
   "execution_count": 5,
   "id": "07defeb3-a742-4e64-8089-7e4fe5b8b93c",
   "metadata": {},
   "outputs": [
    {
     "name": "stdout",
     "output_type": "stream",
     "text": [
      "User path: C:\\Users\\PC1\n",
      "Current path: C:\\Users\\PC1\\OneDrive\\A5\\Daily\n",
      "Base path: C:\\Users\\PC1\\OneDrive\\A5\n",
      "Data path : C:\\Users\\PC1\\OneDrive\\A5\\Data\n",
      "Google Drive path : C:\\Users\\PC1\\OneDrive\\Imports\\santisoontarinka@gmail.com - Google Drive\\Data\n",
      "iCloudDrive path : C:\\Users\\PC1\\iCloudDrive\\Data\n",
      "Obsidian path : C:\\Users\\PC1\\OneDrive\\Documents\\obsidian-git-sync\\Data\n"
     ]
    }
   ],
   "source": [
    "print(\"User path:\", user_path)\n",
    "print(f\"Current path: {current_path}\")\n",
    "print(f\"Base path: {base_path}\")\n",
    "print(f\"Data path : {dat_path}\") \n",
    "print(f\"Google Drive path : {god_path}\")\n",
    "print(f\"iCloudDrive path : {icd_path}\") \n",
    "print(f\"Obsidian path : {osd_path}\") "
   ]
  },
  {
   "cell_type": "code",
   "execution_count": 6,
   "id": "08576879-dc60-431b-a31a-e1893e2d7922",
   "metadata": {},
   "outputs": [
    {
     "name": "stdout",
     "output_type": "stream",
     "text": [
      "Input file : C:\\Users\\PC1\\OneDrive\\A5\\Data\\name-ttl.csv\n"
     ]
    }
   ],
   "source": [
    "file_name = \"name-ttl.csv\"\n",
    "input_file = os.path.join(dat_path, file_name)\n",
    "print(f\"Input file : {input_file}\") "
   ]
  },
  {
   "cell_type": "code",
   "execution_count": 7,
   "id": "9b9668db-0773-4de5-9bd4-864c377dab80",
   "metadata": {},
   "outputs": [],
   "source": [
    "file_name = \"price-hilo.csv\"\n",
    "output_file = os.path.join(dat_path, file_name)\n",
    "god_file = os.path.join(god_path, file_name)\n",
    "icd_file = os.path.join(icd_path, file_name)\n",
    "osd_file = os.path.join(osd_path, file_name)"
   ]
  },
  {
   "cell_type": "code",
   "execution_count": 8,
   "id": "66c38ef5-8643-4ad3-81ff-9e2275d426d5",
   "metadata": {},
   "outputs": [
    {
     "name": "stdout",
     "output_type": "stream",
     "text": [
      "Output file : C:\\Users\\PC1\\OneDrive\\A5\\Data\\price-hilo.csv\n",
      "icd_file : C:\\Users\\PC1\\iCloudDrive\\Data\\price-hilo.csv\n",
      "god_file : C:\\Users\\PC1\\OneDrive\\Imports\\santisoontarinka@gmail.com - Google Drive\\Data\\price-hilo.csv\n",
      "osd_file : C:\\Users\\PC1\\OneDrive\\Documents\\obsidian-git-sync\\Data\\price-hilo.csv\n"
     ]
    }
   ],
   "source": [
    "print(f\"Output file : {output_file}\") \n",
    "print(f\"icd_file : {icd_file}\") \n",
    "print(f\"god_file : {god_file}\") \n",
    "print(f\"osd_file : {osd_file}\")"
   ]
  },
  {
   "cell_type": "code",
   "execution_count": 9,
   "id": "c1ec2693",
   "metadata": {},
   "outputs": [],
   "source": [
    "def cvt_str_to_flt(input_str):\n",
    "    # Check for the special pattern and return 0\n",
    "    if input_str == '(-)':\n",
    "        return 0\n",
    "    \n",
    "    # Remove parentheses and percent sign\n",
    "    cleaned_str = input_str.replace('(', '').replace(')', '').replace('%', '')\n",
    "\n",
    "    # Convert to float\n",
    "    try:\n",
    "        return float(cleaned_str)\n",
    "    except ValueError:\n",
    "        # Handle the case where the conversion fails\n",
    "        return None\n",
    " "
   ]
  },
  {
   "cell_type": "code",
   "execution_count": 10,
   "id": "334bed1f",
   "metadata": {},
   "outputs": [],
   "source": [
    "def get_stock_data(in_df):\n",
    "\n",
    "    in_df.columns = ['name']\n",
    "    \n",
    "    output_columns = ['name', 'price', 'today_low', 'today_high', 'year_low', 'year_high', 'percent', 'updated_at']\n",
    "    # Initialize an empty DataFrame with specified columns\n",
    "    out_df = pd.DataFrame(columns=output_columns)\n",
    "    \n",
    "    for index, row in in_df.iterrows():\n",
    "        name = str(row['name']).upper()\n",
    "        response = request.urlopen(url + name + '/price')\n",
    "        html_page = BeautifulSoup(response, 'html.parser')\n",
    "        \n",
    "  #      price = html_page.find('div', class_='value text-white mb-0 me-2 lh-1 stock-info').text.strip()        \n",
    "  #      if (price == '-'):\n",
    "  #          price = '0.00'        \n",
    "\n",
    "        price_div = html_page.find('div', class_='value text-white mb-0 me-2 lh-1 stock-info')\n",
    "        if price_div:\n",
    "            price = price_div.text.strip()\n",
    "        else:\n",
    "            print(f\"Price div not found for {name}\")\n",
    "            price = '0.00'     \n",
    "            \n",
    "        # Try to find the <h3> tag with the class 'theme-success'\n",
    "        h3_tag = html_page.find('h3', class_='theme-success')\n",
    "        if h3_tag:\n",
    "        # Find all <span> tags within the found <h3> tag\n",
    "            span_tags = h3_tag.find_all('span')\n",
    "    \n",
    "            if len(span_tags) > 1:\n",
    "                # Extract the text from the second <span> tag\n",
    "                percent_span = span_tags[1].text\n",
    "                # print(percent_span)\n",
    "                \n",
    "        # Try to find the <h3> tag with the class 'theme-danger'\n",
    "        h3_tag = html_page.find('h3', class_='theme-danger')\n",
    "        if h3_tag:\n",
    "        # Find all <span> tags within the found <h3> tag\n",
    "            span_tags = h3_tag.find_all('span')\n",
    "    \n",
    "            if len(span_tags) > 1:\n",
    "                # Extract the text from the second <span> tag\n",
    "                percent_span = span_tags[1].text\n",
    "                # print(percent_span)    \n",
    "                \n",
    "        # Try to find the <h3> tag with the class 'theme-danger'\n",
    "        h3_tag = html_page.find('h3', class_='theme-normal')\n",
    "        if h3_tag:\n",
    "        # Find all <span> tags within the found <h3> tag\n",
    "            span_tags = h3_tag.find_all('span')\n",
    "    \n",
    "            if len(span_tags) > 1:\n",
    "                # Extract the text from the second <span> tag\n",
    "                percent_span = span_tags[1].text\n",
    "                # print(percent_span)   \n",
    "                \n",
    "        percent = cvt_str_to_flt(percent_span)\n",
    "                \n",
    "        values_low = html_page.find_all('span', class_='title-font-family fs-16px fw-bolder me-auto lh-1')\n",
    "        today_low = values_low[0].text\n",
    "        if (today_low == '-'):\n",
    "            today_low = '0.00'\n",
    "        \n",
    "        values_high = html_page.find_all('span', class_='title-font-family fs-16px fw-bolder lh-1')\n",
    "        today_high = values_high[0].text\n",
    "        if (today_high == '-'):\n",
    "            today_high = '0.00'         \n",
    "        \n",
    "        year_low = values_low[1].text        \n",
    "        year_high = values_high[1].text     \n",
    "        \n",
    "        # Find the div with the specific class, then find the span within it\n",
    "        div = html_page.find('div', class_='price-detail-date d-flex align-items-center text-nowrap fs-12px')\n",
    "        if div:\n",
    "            span = div.find('span')\n",
    "            if span:\n",
    "                text = span.get_text()\n",
    "#                 print(text)\n",
    "            else:\n",
    "                print(\"Span not found\")\n",
    "        else:\n",
    "            print(\"Div not found\")\n",
    "            \n",
    "        # Extract the date part from the string\n",
    "        # Assuming the date is always in the format 'dd Mon yyyy'\n",
    "        date_str = ' '.join(text.split()[2:5])\n",
    "\n",
    "        # Parse the date string into a datetime object\n",
    "        date_obj = datetime.strptime(date_str, '%d %b %Y')\n",
    "\n",
    "        # Format the datetime object to 'yyyy-mm-dd'\n",
    "        updated_at = date_obj.strftime('%Y-%m-%d')\n",
    "\n",
    "#         print(updated_at)\n",
    "        \n",
    "        # Append row to the DataFrame and print the row\n",
    "        out_df.loc[len(out_df)] = [name, price, today_low, today_high, year_low, year_high, percent, updated_at]\n",
    "#       print(out_df.iloc[-1].to_string(header=False, index=False)) \n",
    "        print(','.join(map(str, out_df.iloc[-1])))\n",
    "        sleep(1)\n",
    "        \n",
    "    return out_df  # return the final dataframe with all values populated"
   ]
  },
  {
   "cell_type": "code",
   "execution_count": 11,
   "id": "94abc8d4",
   "metadata": {},
   "outputs": [
    {
     "name": "stdout",
     "output_type": "stream",
     "text": [
      "Start at:  10:19 PM\n"
     ]
    }
   ],
   "source": [
    "start_time = strftime(\"%I:%M %p\")\n",
    "print('Start at: ', start_time)"
   ]
  },
  {
   "cell_type": "code",
   "execution_count": 12,
   "id": "23b565ec",
   "metadata": {
    "scrolled": true
   },
   "outputs": [
    {
     "name": "stdout",
     "output_type": "stream",
     "text": [
      "ACE,1.29,1.28,1.30,1.23,1.49,0.0,2025-08-22\n",
      "ADVANC,291.00,291.00,294.00,241.00,309.00,0.0,2025-08-22\n",
      "AEONTS,103.50,102.50,105.00,90.50,148.00,-1.9,2025-08-22\n",
      "AH,14.60,14.60,15.00,10.00,23.20,-1.35,2025-08-22\n",
      "AIE,1.14,1.12,1.18,0.72,1.80,1.79,2025-08-22\n",
      "AIMIRT,9.55,9.55,9.60,9.20,11.20,-0.52,2025-08-22\n",
      "AIT,4.90,4.84,4.92,3.86,5.30,0.41,2025-08-22\n",
      "AJ,2.28,2.24,2.30,1.94,5.80,1.79,2025-08-22\n",
      "AMATA,16.70,16.40,16.90,11.20,31.00,0.6,2025-08-22\n",
      "ANAN,0.50,0.50,0.52,0.37,0.85,-1.96,2025-08-22\n",
      "AOT,37.50,37.50,38.00,26.75,65.00,-0.66,2025-08-22\n",
      "AP,7.40,7.40,7.50,5.60,10.50,-0.67,2025-08-22\n",
      "ASIAN,7.70,7.65,7.75,6.50,10.10,-0.65,2025-08-22\n",
      "ASK,7.50,7.50,7.65,6.20,15.30,-1.32,2025-08-22\n",
      "ASP,2.44,2.40,2.44,1.81,2.70,0.0,2025-08-22\n",
      "ASW,6.20,5.80,6.20,5.55,8.20,0.81,2025-08-22\n",
      "AWC,2.42,2.38,2.46,1.55,3.94,0.83,2025-08-22\n",
      "BA,14.00,13.80,14.20,10.60,26.00,0.72,2025-08-22\n",
      "BAM,7.95,7.90,8.10,5.35,10.20,-0.63,2025-08-22\n",
      "BANPU,4.84,4.74,4.88,4.00,7.50,0.83,2025-08-22\n",
      "BAY,23.40,23.20,23.40,20.70,29.00,0.86,2025-08-22\n",
      "BBL,156.50,154.50,157.00,131.00,161.50,0.97,2025-08-22\n",
      "BCH,13.40,13.30,13.50,12.30,19.20,0.0,2025-08-22\n",
      "BCP,33.00,32.75,33.25,26.50,41.00,0.76,2025-08-22\n",
      "BCPG,8.15,8.10,8.25,5.05,8.75,-0.61,2025-08-22\n",
      "BCT,48.00,46.50,48.00,43.50,76.75,0.0,2025-08-22\n",
      "BDMS,21.00,20.90,21.30,19.80,31.25,-0.47,2025-08-22\n",
      "BE8,5.85,5.70,5.90,5.20,21.20,2.63,2025-08-22\n",
      "BEAUTY,0.38,0.36,0.39,0.19,0.57,-5.0,2025-08-22\n",
      "BEC,2.24,2.18,2.26,1.79,4.68,1.82,2025-08-22\n",
      "BEM,5.40,5.35,5.45,4.56,8.30,0.0,2025-08-22\n",
      "BGC,4.86,4.84,4.88,4.54,7.90,0.0,2025-08-22\n",
      "BGRIM,12.10,11.40,12.20,8.90,24.80,4.31,2025-08-22\n",
      "BH,180.00,176.00,181.50,130.00,284.00,1.98,2025-08-22\n",
      "BJC,17.30,17.20,17.50,16.50,25.75,-1.14,2025-08-22\n",
      "BKIH,288.00,287.00,289.00,271.00,316.00,-0.35,2025-08-22\n",
      "BLA,18.50,18.30,18.60,14.00,25.75,0.0,2025-08-22\n",
      "BLAND,0.50,0.50,0.52,0.38,0.70,0.0,2025-08-22\n",
      "BPP,8.30,8.15,8.30,6.20,13.60,1.22,2025-08-22\n",
      "BTS,3.42,3.38,3.48,3.28,6.40,0.59,2025-08-22\n",
      "BTSGIF,2.66,2.64,2.68,2.54,3.52,0.0,2025-08-22\n",
      "CBG,52.25,51.75,52.50,46.50,82.00,0.48,2025-08-22\n",
      "CENTEL,28.75,28.50,29.00,19.40,41.25,0.0,2025-08-22\n",
      "CHG,1.64,1.63,1.67,1.39,3.00,-1.2,2025-08-22\n",
      "CK,14.30,14.20,14.60,10.20,21.10,0.0,2025-08-22\n",
      "CKP,2.88,2.82,2.90,2.10,4.04,2.86,2025-08-22\n",
      "COM7,25.50,25.25,26.25,16.70,28.25,-0.97,2025-08-22\n",
      "CPALL,45.00,45.00,45.50,41.50,68.00,-0.55,2025-08-22\n",
      "CPF,24.30,24.00,24.50,19.80,26.50,-0.41,2025-08-22\n",
      "CPN,53.50,53.25,54.25,41.00,68.75,-0.93,2025-08-22\n",
      "CPNCG,5.90,5.90,5.90,5.30,6.65,0.0,2025-08-22\n",
      "CPNREIT,11.40,11.30,11.50,10.20,13.60,0.0,2025-08-22\n",
      "CRC,21.10,20.80,21.10,15.80,36.00,0.48,2025-08-22\n",
      "DCC,1.39,1.39,1.41,1.18,2.04,-0.71,2025-08-22\n",
      "DCON,0.25,0.24,0.27,0.23,0.41,0.0,2025-08-22\n",
      "DELTA,151.00,147.00,153.00,51.25,173.50,3.07,2025-08-22\n",
      "DIF,8.20,8.15,8.20,7.35,9.85,0.0,2025-08-22\n",
      "DOHOME,3.66,3.66,3.74,2.26,11.26,-0.54,2025-08-22\n",
      "DRT,5.35,5.30,5.40,4.42,8.15,0.0,2025-08-22\n",
      "EA,2.64,2.62,2.70,1.73,7.32,1.54,2025-08-22\n",
      "EASTW,2.18,2.16,2.22,1.57,3.90,0.93,2025-08-22\n",
      "EGATIF,6.05,6.00,6.05,5.75,6.40,0.0,2025-08-22\n",
      "EGCO,116.00,115.00,116.50,85.00,128.50,0.87,2025-08-22\n",
      "EPG,3.08,3.04,3.12,2.12,5.25,0.65,2025-08-22\n",
      "FORTH,7.10,7.10,7.20,6.05,15.00,-0.7,2025-08-22\n",
      "FPT,6.15,6.15,6.30,5.85,14.00,-0.81,2025-08-22\n",
      "FSMART,6.15,6.10,6.20,5.35,9.15,0.82,2025-08-22\n",
      "FTREIT,9.55,9.55,9.70,8.60,11.30,-1.04,2025-08-22\n",
      "GC,4.16,4.10,4.18,3.40,5.10,0.0,2025-08-22\n",
      "GFPT,10.30,10.20,10.60,8.00,12.50,-2.83,2025-08-22\n",
      "GGC,3.86,3.82,3.90,3.20,5.45,1.05,2025-08-22\n",
      "GLOBAL,6.25,6.25,6.40,4.16,16.27,-0.79,2025-08-22\n",
      "GPSC,37.25,36.50,37.75,22.40,49.75,-0.67,2025-08-22\n",
      "GRAMMY,4.58,4.54,4.58,4.30,8.50,0.88,2025-08-22\n",
      "GUNKUL,1.80,1.76,1.81,1.31,2.96,2.86,2025-08-22\n",
      "GVREIT,6.40,6.35,6.40,5.25,7.15,0.79,2025-08-22\n",
      "HANA,24.80,23.70,25.25,14.00,44.00,6.9,2025-08-22\n",
      "HFT,4.14,4.08,4.18,3.32,4.76,0.49,2025-08-22\n",
      "HMPRO,7.05,6.90,7.05,5.70,11.10,1.44,2025-08-22\n",
      "HTC,15.30,15.20,15.30,14.50,17.70,0.66,2025-08-22\n",
      "ICHI,11.70,11.60,11.70,9.40,17.00,0.86,2025-08-22\n",
      "III,4.94,4.92,5.05,4.18,7.20,-1.2,2025-08-22\n",
      "ILM,14.10,14.00,14.10,11.50,18.90,0.0,2025-08-22\n",
      "IMH,3.94,3.88,3.94,3.50,6.05,0.0,2025-08-22\n",
      "IMPACT,10.00,10.00,10.20,9.25,12.80,-0.99,2025-08-22\n",
      "INOX,0.40,0.40,0.41,0.35,0.67,0.0,2025-08-22\n",
      "IP,3.32,3.24,3.34,2.02,5.15,1.22,2025-08-22\n",
      "IRPC,1.03,1.02,1.05,0.70,1.86,-3.74,2025-08-22\n",
      "IVL,22.80,22.60,23.20,16.90,27.50,-2.98,2025-08-22\n",
      "3BBIF,6.20,6.10,6.20,5.00,6.75,0.0,2025-08-22\n",
      "JMART,8.35,8.35,8.55,5.20,17.70,-1.18,2025-08-22\n",
      "JMT,11.40,11.20,11.50,7.35,22.00,0.0,2025-08-22\n",
      "KBANK,167.00,166.00,168.50,139.50,171.50,0.0,2025-08-22\n",
      "KCE,27.00,26.25,28.25,13.70,40.75,0.93,2025-08-22\n",
      "KEX,1.48,1.48,1.49,0.78,3.40,0.0,2025-08-22\n",
      "KGI,3.88,3.88,3.90,3.40,4.66,-0.51,2025-08-22\n",
      "KKP,56.75,56.50,57.00,42.50,58.25,-0.44,2025-08-22\n",
      "KSL,1.46,1.43,1.49,1.25,2.36,-1.35,2025-08-22\n",
      "KTB,24.00,23.90,24.10,18.20,24.70,0.0,2025-08-22\n",
      "KTC,27.75,27.75,28.25,21.80,52.25,0.0,2025-08-22\n",
      "KYE,291.00,291.00,293.00,280.00,324.00,-0.34,2025-08-22\n",
      "LALIN,5.05,5.00,5.05,4.80,6.80,0.0,2025-08-22\n",
      "LANNA,15.90,15.70,16.00,14.10,17.50,0.63,2025-08-22\n",
      "LH,3.94,3.94,4.00,3.18,6.50,0.0,2025-08-22\n",
      "LHFG,0.78,0.77,0.78,0.72,0.96,0.0,2025-08-22\n",
      "LHK,3.54,3.52,3.54,3.02,4.12,0.0,2025-08-22\n",
      "LIT,0.77,0.77,0.82,0.39,1.34,-1.28,2025-08-22\n",
      "LPH,3.96,3.92,3.96,3.20,4.78,1.54,2025-08-22\n",
      "LPN,1.73,1.71,1.73,1.61,3.38,0.0,2025-08-22\n",
      "M,23.50,23.20,23.60,13.80,30.75,0.0,2025-08-22\n",
      "MAJOR,8.15,8.15,8.30,7.35,16.00,-1.21,2025-08-22\n",
      "MBAX,1.38,1.38,1.39,1.17,3.10,0.0,2025-08-22\n",
      "MC,10.60,10.50,10.70,9.15,13.00,0.0,2025-08-22\n",
      "MCS,8.45,8.35,8.65,5.80,9.20,-1.74,2025-08-22\n",
      "MEGA,29.50,29.25,29.75,24.30,41.25,0.0,2025-08-22\n",
      "MINT,24.50,24.30,24.70,21.70,29.50,0.82,2025-08-22\n",
      "MST,7.30,7.25,7.30,5.50,10.30,0.0,2025-08-22\n",
      "MTC,37.00,36.50,37.50,33.75,54.00,0.0,2025-08-22\n",
      "NER,4.30,4.24,4.32,3.88,5.65,0.0,2025-08-22\n",
      "NOBLE,1.80,1.80,1.84,1.60,3.46,0.0,2025-08-22\n",
      "ONEE,2.34,2.28,2.34,1.99,4.68,-0.85,2025-08-22\n",
      "OR,12.80,12.50,12.90,10.10,17.80,0.79,2025-08-22\n",
      "ORI,2.26,2.22,2.32,1.50,5.75,0.0,2025-08-22\n",
      "OSP,17.30,17.30,17.60,12.90,24.30,-1.14,2025-08-22\n",
      "PAP,1.74,1.74,1.78,1.31,2.96,0.0,2025-08-22\n",
      "PCSGH,3.12,3.06,3.12,2.46,4.82,-4.88,2025-08-22\n",
      "PDG,2.70,2.70,2.72,2.36,2.88,-1.46,2025-08-22\n",
      "PLANB,4.82,4.68,4.86,4.08,8.60,3.43,2025-08-22\n",
      "POPF,5.80,5.75,5.80,5.40,6.70,0.0,2025-08-22\n",
      "PREB,3.62,3.58,3.62,3.34,5.55,-0.55,2025-08-22\n",
      "PRM,6.20,6.10,6.20,5.10,9.30,0.0,2025-08-22\n",
      "PSH,4.26,4.20,4.36,3.66,9.80,2.4,2025-08-22\n",
      "PSL,6.25,6.10,6.30,4.96,9.60,1.63,2025-08-22\n",
      "PTG,7.15,6.95,7.25,5.45,10.70,2.14,2025-08-22\n",
      "PTL,9.75,9.70,9.90,9.20,14.40,-1.02,2025-08-22\n",
      "PTT,32.00,31.75,32.25,27.00,35.00,0.0,2025-08-22\n",
      "PTTEP,112.50,112.00,113.50,93.00,146.00,0.0,2025-08-22\n",
      "PTTGC,27.00,26.25,27.50,14.20,32.75,-3.57,2025-08-22\n",
      "QH,1.41,1.39,1.42,1.15,2.00,1.44,2025-08-22\n",
      "RATCH,26.50,26.00,26.50,22.50,34.25,0.95,2025-08-22\n",
      "RBF,4.06,3.98,4.06,3.04,7.40,1.0,2025-08-22\n",
      "RCL,26.75,26.75,27.25,18.20,31.75,-1.83,2025-08-22\n",
      "RJH,13.90,13.80,14.00,11.50,26.25,0.0,2025-08-22\n",
      "ROJNA,4.68,4.66,4.74,4.14,7.50,0.86,2025-08-22\n",
      "RS,0.28,0.27,0.29,0.19,6.30,0.0,2025-08-22\n",
      "S11,3.24,3.20,3.24,1.86,3.70,0.0,2025-08-22\n",
      "SAPPE,32.50,32.50,33.75,27.50,83.00,-3.7,2025-08-22\n",
      "SAT,13.10,12.90,13.20,9.95,13.70,1.55,2025-08-22\n",
      "SAWAD,24.40,24.30,25.25,14.80,41.36,-3.37,2025-08-22\n",
      "SC,1.86,1.85,1.89,1.40,3.22,-0.53,2025-08-22\n",
      "SCB,129.50,128.00,130.00,105.50,133.00,0.78,2025-08-22\n",
      "SCC,223.00,222.00,227.00,124.50,255.00,-1.76,2025-08-22\n",
      "SCCC,151.00,150.50,151.50,138.50,177.50,-0.33,2025-08-22\n",
      "SCGP,18.20,18.10,18.60,10.70,32.25,-2.15,2025-08-22\n",
      "SENA,1.86,1.84,1.86,1.54,2.50,0.54,2025-08-22\n",
      "SGP,6.65,6.40,6.65,5.00,7.65,0.0,2025-08-22\n",
      "SINGER,5.25,5.20,5.35,3.92,12.70,-0.94,2025-08-22\n",
      "SIRI,1.50,1.49,1.51,1.11,1.94,-0.66,2025-08-22\n",
      "SIS,20.60,20.60,21.10,17.60,31.25,-0.48,2025-08-22\n",
      "SJWD,10.30,10.00,10.40,5.75,12.50,1.98,2025-08-22\n",
      "SKN,5.65,5.65,5.65,5.05,6.40,0.0,2025-08-22\n",
      "SKR,7.80,7.70,7.85,6.20,9.80,0.0,2025-08-22\n",
      "SMPC,8.80,8.60,8.80,7.80,9.95,0.0,2025-08-22\n",
      "SNC,5.95,5.85,5.95,4.96,7.35,1.71,2025-08-22\n",
      "SPALI,15.70,15.70,15.90,13.20,21.10,-0.63,2025-08-22\n",
      "SPC,58.50,58.25,58.50,53.00,61.50,0.0,2025-08-22\n",
      "SPCG,8.45,8.35,8.50,6.60,9.40,0.6,2025-08-22\n",
      "SPRC,4.66,4.58,4.74,4.26,7.55,1.3,2025-08-22\n",
      "SPRIME,3.32,3.28,3.32,3.00,4.56,-0.6,2025-08-22\n",
      "SSP,4.00,3.98,4.00,3.94,6.40,0.0,2025-08-22\n",
      "STA,12.00,11.80,12.20,10.30,25.75,0.0,2025-08-22\n",
      "STANLY,180.50,180.00,181.50,180.50,225.00,-0.28,2025-08-22\n",
      "STGT,6.60,6.60,6.70,5.10,13.30,0.0,2025-08-22\n",
      "SUPER,0.15,0.14,0.15,0.12,0.32,0.0,2025-08-22\n",
      "SUPEREIF,5.35,5.30,5.40,4.72,7.05,-0.93,2025-08-22\n",
      "SVI,6.05,5.90,6.10,5.55,9.40,2.54,2025-08-22\n",
      "SYNEX,11.60,11.60,11.80,9.30,16.70,0.87,2025-08-22\n",
      "TASCO,14.50,14.40,14.60,13.20,20.00,0.0,2025-08-22\n",
      "TCAP,50.25,50.25,50.75,44.25,53.50,-0.99,2025-08-22\n",
      "TFFIF,6.05,6.00,6.05,5.25,7.20,0.0,2025-08-22\n",
      "TFG,5.65,5.55,5.70,3.02,6.10,-3.42,2025-08-22\n",
      "THANI,1.70,1.66,1.72,1.15,2.26,1.19,2025-08-22\n",
      "THG,8.45,8.30,8.70,7.75,37.00,0.6,2025-08-22\n",
      "TIPH,20.10,19.90,20.20,16.70,30.50,0.5,2025-08-22\n",
      "TIPCO,8.75,8.75,8.80,8.35,10.40,0.0,2025-08-22\n",
      "TISCO,101.00,100.50,101.50,92.50,102.50,0.5,2025-08-22\n",
      "TK,4.24,4.20,4.24,3.28,5.45,0.47,2025-08-22\n",
      "TKN,5.80,5.65,5.85,5.00,11.80,2.65,2025-08-22\n",
      "TKS,6.00,5.90,6.05,4.90,8.15,0.84,2025-08-22\n",
      "TMT,3.08,3.08,3.10,2.60,5.40,0.65,2025-08-22\n",
      "TMW,52.75,52.25,52.75,47.00,66.75,0.96,2025-08-22\n",
      "TOA,14.60,14.20,14.60,9.35,20.50,1.39,2025-08-22\n",
      "TOP,32.00,32.00,32.75,21.00,55.50,0.0,2025-08-22\n",
      "TPIPL,0.80,0.79,0.82,0.72,1.29,-2.44,2025-08-22\n",
      "TPIPP,2.24,2.24,2.28,1.99,3.14,-0.88,2025-08-22\n",
      "TQM,14.30,14.20,14.40,12.20,33.25,0.0,2025-08-22\n",
      "TRUE,11.80,11.20,11.90,10.10,13.30,4.42,2025-08-22\n",
      "TSE,0.40,0.39,0.42,0.29,1.24,-2.44,2025-08-22\n",
      "TSTH,0.76,0.75,0.78,0.47,0.93,0.0,2025-08-22\n",
      "TTA,4.46,4.32,4.48,3.22,6.55,4.21,2025-08-22\n",
      "TTB,1.92,1.91,1.94,1.72,2.06,-0.52,2025-08-22\n",
      "TTLPF,11.00,10.90,11.00,10.80,16.60,0.92,2025-08-22\n",
      "TTW,9.15,9.10,9.15,8.45,9.50,0.55,2025-08-22\n",
      "TU,12.40,12.30,12.50,8.60,15.80,0.81,2025-08-22\n",
      "TVO,24.40,24.20,24.60,19.70,25.75,-3.37,2025-08-22\n",
      "TYCN,1.74,1.72,1.74,1.62,2.62,1.75,2025-08-22\n",
      "UTP,8.00,7.90,8.00,7.20,11.30,0.63,2025-08-22\n",
      "VGI,2.20,2.08,2.28,1.86,3.68,6.8,2025-08-22\n",
      "VIBHA,1.46,1.44,1.48,1.37,2.30,0.0,2025-08-22\n",
      "VNG,1.97,1.96,1.97,1.89,3.82,0.0,2025-08-22\n",
      "WHA,3.62,3.58,3.66,2.26,6.20,-0.55,2025-08-22\n",
      "WHAIR,5.40,5.35,5.40,4.12,6.75,0.93,2025-08-22\n",
      "WHART,9.00,8.95,9.15,8.55,10.80,-0.55,2025-08-22\n",
      "WHAUP,3.60,3.54,3.62,2.76,5.50,1.69,2025-08-22\n",
      "WICE,2.90,2.86,2.92,2.34,6.95,1.4,2025-08-22\n",
      "WORK,4.28,4.24,4.28,3.82,10.40,0.47,2025-08-22\n"
     ]
    }
   ],
   "source": [
    "df = pd.read_csv(input_file, header=None)\n",
    "out_df = get_stock_data(df)"
   ]
  },
  {
   "cell_type": "code",
   "execution_count": 13,
   "id": "d31edacf",
   "metadata": {},
   "outputs": [
    {
     "name": "stdout",
     "output_type": "stream",
     "text": [
      "End at:  10:24 PM\n"
     ]
    }
   ],
   "source": [
    "end_time = strftime(\"%I:%M %p\")\n",
    "print('End at: ', end_time)"
   ]
  },
  {
   "cell_type": "code",
   "execution_count": 14,
   "id": "b89c4ae7",
   "metadata": {},
   "outputs": [
    {
     "data": {
      "text/html": [
       "<div>\n",
       "<style scoped>\n",
       "    .dataframe tbody tr th:only-of-type {\n",
       "        vertical-align: middle;\n",
       "    }\n",
       "\n",
       "    .dataframe tbody tr th {\n",
       "        vertical-align: top;\n",
       "    }\n",
       "\n",
       "    .dataframe thead th {\n",
       "        text-align: right;\n",
       "    }\n",
       "</style>\n",
       "<table border=\"1\" class=\"dataframe\">\n",
       "  <thead>\n",
       "    <tr style=\"text-align: right;\">\n",
       "      <th></th>\n",
       "      <th>name</th>\n",
       "      <th>price</th>\n",
       "      <th>today_low</th>\n",
       "      <th>today_high</th>\n",
       "      <th>year_low</th>\n",
       "      <th>year_high</th>\n",
       "      <th>percent</th>\n",
       "      <th>updated_at</th>\n",
       "    </tr>\n",
       "  </thead>\n",
       "  <tbody>\n",
       "  </tbody>\n",
       "</table>\n",
       "</div>"
      ],
      "text/plain": [
       "Empty DataFrame\n",
       "Columns: [name, price, today_low, today_high, year_low, year_high, percent, updated_at]\n",
       "Index: []"
      ]
     },
     "execution_count": 14,
     "metadata": {},
     "output_type": "execute_result"
    }
   ],
   "source": [
    "out_df.query('price == \"-\"')"
   ]
  },
  {
   "cell_type": "code",
   "execution_count": 15,
   "id": "784f1b6d",
   "metadata": {},
   "outputs": [
    {
     "data": {
      "text/plain": [
       "(216, 8)"
      ]
     },
     "execution_count": 15,
     "metadata": {},
     "output_type": "execute_result"
    }
   ],
   "source": [
    "out_df.shape"
   ]
  },
  {
   "cell_type": "code",
   "execution_count": 16,
   "id": "6326d0c5",
   "metadata": {},
   "outputs": [],
   "source": [
    "out_df = out_df[out_df['name'] != 'BCT']"
   ]
  },
  {
   "cell_type": "code",
   "execution_count": 17,
   "id": "2a293f55-436e-45d1-9966-50d12c26e659",
   "metadata": {},
   "outputs": [],
   "source": [
    "out_df = out_df[out_df['name'] != 'LPF']"
   ]
  },
  {
   "cell_type": "code",
   "execution_count": 18,
   "id": "cc4b3547-5ea9-4ac6-bd11-896e67d464ed",
   "metadata": {},
   "outputs": [],
   "source": [
    "out_df = out_df[out_df['name'] != 'TYCN']"
   ]
  },
  {
   "cell_type": "code",
   "execution_count": 19,
   "id": "865622c2-dad3-4ba8-b35a-898461fe5e9a",
   "metadata": {},
   "outputs": [],
   "source": [
    "out_df = out_df[out_df['name'] != 'GRAMMY']"
   ]
  },
  {
   "cell_type": "code",
   "execution_count": 20,
   "id": "cb2d763d-5b75-4ace-b87a-f165c8e6cb91",
   "metadata": {},
   "outputs": [],
   "source": [
    "out_df = out_df[out_df['name'] != 'MST']"
   ]
  },
  {
   "cell_type": "code",
   "execution_count": 21,
   "id": "e65305f0-157a-4129-a758-15c02e8df06a",
   "metadata": {},
   "outputs": [],
   "source": [
    "out_df = out_df[out_df['name'] != 'SPC']"
   ]
  },
  {
   "cell_type": "code",
   "execution_count": 22,
   "id": "cb55b5f6-0679-4191-aeda-ab0cf45f18e7",
   "metadata": {},
   "outputs": [],
   "source": [
    "out_df = out_df[out_df['name'] != 'SPRIME']"
   ]
  },
  {
   "cell_type": "code",
   "execution_count": 23,
   "id": "981854f1-01a1-4e26-b2a9-4f58948a33ec",
   "metadata": {},
   "outputs": [],
   "source": [
    "out_df = out_df[out_df['name'] != 'FPT']"
   ]
  },
  {
   "cell_type": "code",
   "execution_count": 24,
   "id": "a2833967-e889-4ad5-97b2-8234ba35c31c",
   "metadata": {},
   "outputs": [],
   "source": [
    "out_df = out_df[out_df['name'] != 'GGC']"
   ]
  },
  {
   "cell_type": "code",
   "execution_count": 25,
   "id": "b2771ed1",
   "metadata": {},
   "outputs": [
    {
     "data": {
      "text/plain": [
       "(208, 8)"
      ]
     },
     "execution_count": 25,
     "metadata": {},
     "output_type": "execute_result"
    }
   ],
   "source": [
    "out_df.shape"
   ]
  },
  {
   "cell_type": "code",
   "execution_count": 26,
   "id": "eb2ffec6",
   "metadata": {},
   "outputs": [],
   "source": [
    "out_df['price'] = out_df['price'].astype('float')\n",
    "out_df['today_low'] = out_df['today_low'].astype('float')\n",
    "out_df['today_high'] = out_df['today_high'].astype('float')\n",
    "out_df['year_low'] = out_df['year_low'].astype('float')\n",
    "out_df['year_high'] = out_df['year_high'].astype('float')\n",
    "out_df['percent'] = out_df['percent'].astype('float')"
   ]
  },
  {
   "cell_type": "code",
   "execution_count": 27,
   "id": "f4fb1a3c",
   "metadata": {},
   "outputs": [],
   "source": [
    "sorted_out_df = out_df.sort_values('percent')"
   ]
  },
  {
   "cell_type": "code",
   "execution_count": 28,
   "id": "032f0eea",
   "metadata": {},
   "outputs": [
    {
     "data": {
      "text/html": [
       "<div>\n",
       "<style scoped>\n",
       "    .dataframe tbody tr th:only-of-type {\n",
       "        vertical-align: middle;\n",
       "    }\n",
       "\n",
       "    .dataframe tbody tr th {\n",
       "        vertical-align: top;\n",
       "    }\n",
       "\n",
       "    .dataframe thead th {\n",
       "        text-align: right;\n",
       "    }\n",
       "</style>\n",
       "<table border=\"1\" class=\"dataframe\">\n",
       "  <thead>\n",
       "    <tr style=\"text-align: right;\">\n",
       "      <th></th>\n",
       "      <th>name</th>\n",
       "      <th>price</th>\n",
       "      <th>today_low</th>\n",
       "      <th>today_high</th>\n",
       "      <th>year_low</th>\n",
       "      <th>year_high</th>\n",
       "      <th>percent</th>\n",
       "      <th>updated_at</th>\n",
       "    </tr>\n",
       "  </thead>\n",
       "  <tbody>\n",
       "    <tr>\n",
       "      <th>171</th>\n",
       "      <td>STANLY</td>\n",
       "      <td>180.5</td>\n",
       "      <td>180.0</td>\n",
       "      <td>181.5</td>\n",
       "      <td>180.5</td>\n",
       "      <td>225.0</td>\n",
       "      <td>-0.28</td>\n",
       "      <td>2025-08-22</td>\n",
       "    </tr>\n",
       "  </tbody>\n",
       "</table>\n",
       "</div>"
      ],
      "text/plain": [
       "       name  price  today_low  today_high  year_low  year_high  percent  \\\n",
       "171  STANLY  180.5      180.0       181.5     180.5      225.0    -0.28   \n",
       "\n",
       "     updated_at  \n",
       "171  2025-08-22  "
      ]
     },
     "execution_count": 28,
     "metadata": {},
     "output_type": "execute_result"
    }
   ],
   "source": [
    "sorted_out_df.query('today_low < year_low')"
   ]
  },
  {
   "cell_type": "code",
   "execution_count": 29,
   "id": "8e04b03d",
   "metadata": {},
   "outputs": [
    {
     "data": {
      "text/html": [
       "<div>\n",
       "<style scoped>\n",
       "    .dataframe tbody tr th:only-of-type {\n",
       "        vertical-align: middle;\n",
       "    }\n",
       "\n",
       "    .dataframe tbody tr th {\n",
       "        vertical-align: top;\n",
       "    }\n",
       "\n",
       "    .dataframe thead th {\n",
       "        text-align: right;\n",
       "    }\n",
       "</style>\n",
       "<table border=\"1\" class=\"dataframe\">\n",
       "  <thead>\n",
       "    <tr style=\"text-align: right;\">\n",
       "      <th></th>\n",
       "      <th>name</th>\n",
       "      <th>price</th>\n",
       "      <th>today_low</th>\n",
       "      <th>today_high</th>\n",
       "      <th>year_low</th>\n",
       "      <th>year_high</th>\n",
       "      <th>percent</th>\n",
       "      <th>updated_at</th>\n",
       "    </tr>\n",
       "  </thead>\n",
       "  <tbody>\n",
       "  </tbody>\n",
       "</table>\n",
       "</div>"
      ],
      "text/plain": [
       "Empty DataFrame\n",
       "Columns: [name, price, today_low, today_high, year_low, year_high, percent, updated_at]\n",
       "Index: []"
      ]
     },
     "execution_count": 29,
     "metadata": {},
     "output_type": "execute_result"
    }
   ],
   "source": [
    "sorted_out_df.query('today_high > year_high')"
   ]
  },
  {
   "cell_type": "code",
   "execution_count": 30,
   "id": "290a9607",
   "metadata": {},
   "outputs": [
    {
     "data": {
      "text/html": [
       "<div>\n",
       "<style scoped>\n",
       "    .dataframe tbody tr th:only-of-type {\n",
       "        vertical-align: middle;\n",
       "    }\n",
       "\n",
       "    .dataframe tbody tr th {\n",
       "        vertical-align: top;\n",
       "    }\n",
       "\n",
       "    .dataframe thead th {\n",
       "        text-align: right;\n",
       "    }\n",
       "</style>\n",
       "<table border=\"1\" class=\"dataframe\">\n",
       "  <thead>\n",
       "    <tr style=\"text-align: right;\">\n",
       "      <th></th>\n",
       "      <th>name</th>\n",
       "      <th>price</th>\n",
       "      <th>today_low</th>\n",
       "      <th>today_high</th>\n",
       "      <th>year_low</th>\n",
       "      <th>year_high</th>\n",
       "      <th>percent</th>\n",
       "      <th>updated_at</th>\n",
       "    </tr>\n",
       "  </thead>\n",
       "  <tbody>\n",
       "  </tbody>\n",
       "</table>\n",
       "</div>"
      ],
      "text/plain": [
       "Empty DataFrame\n",
       "Columns: [name, price, today_low, today_high, year_low, year_high, percent, updated_at]\n",
       "Index: []"
      ]
     },
     "execution_count": 30,
     "metadata": {},
     "output_type": "execute_result"
    }
   ],
   "source": [
    "out_df.query('today_high > year_high')"
   ]
  },
  {
   "cell_type": "code",
   "execution_count": 31,
   "id": "5fbeba56-2a63-4650-898b-6447a81f95f5",
   "metadata": {},
   "outputs": [],
   "source": [
    "file_name = \"Price-Hilo.csv\"\n",
    "output_file = os.path.join(dat_path, file_name)\n",
    "god_file = os.path.join(god_path, file_name)\n",
    "icd_file = os.path.join(icd_path, file_name)\n",
    "osd_file = os.path.join(osd_path, file_name)"
   ]
  },
  {
   "cell_type": "code",
   "execution_count": 32,
   "id": "da6183ac-2f05-4f67-b200-fe83634d29dc",
   "metadata": {},
   "outputs": [
    {
     "name": "stdout",
     "output_type": "stream",
     "text": [
      "output_file : C:\\Users\\PC1\\OneDrive\\A5\\Data\\Price-Hilo.csv\n",
      "icd_file : C:\\Users\\PC1\\iCloudDrive\\Data\\Price-Hilo.csv\n",
      "god_file : C:\\Users\\PC1\\OneDrive\\Imports\\santisoontarinka@gmail.com - Google Drive\\Data\\Price-Hilo.csv\n",
      "osd_file : C:\\Users\\PC1\\OneDrive\\Documents\\obsidian-git-sync\\Data\\Price-Hilo.csv\n"
     ]
    }
   ],
   "source": [
    "print(f\"output_file : {output_file}\") \n",
    "print(f\"icd_file : {icd_file}\") \n",
    "print(f\"god_file : {god_file}\") \n",
    "print(f\"osd_file : {osd_file}\") "
   ]
  },
  {
   "cell_type": "code",
   "execution_count": 33,
   "id": "8017b53b",
   "metadata": {},
   "outputs": [],
   "source": [
    "out_df.to_csv(output_file, index=False)  \n",
    "out_df.to_csv(god_file, index=False) \n",
    "out_df.to_csv(icd_file, index=False)  \n",
    "out_df.to_csv(osd_file, index=False) "
   ]
  },
  {
   "cell_type": "code",
   "execution_count": 34,
   "id": "80692fae-6308-4695-bcac-5124ce4d44e3",
   "metadata": {},
   "outputs": [
    {
     "name": "stdout",
     "output_type": "stream",
     "text": [
      "2025-08-22 22:24:26\n"
     ]
    }
   ],
   "source": [
    "# Get the current time\n",
    "current_time = datetime.now()\n",
    "# Format the time to remove milliseconds\n",
    "formatted_time = current_time.strftime(\"%Y-%m-%d %H:%M:%S\")\n",
    "print(formatted_time)"
   ]
  }
 ],
 "metadata": {
  "kernelspec": {
   "display_name": "Python 3 (ipykernel)",
   "language": "python",
   "name": "python3"
  },
  "language_info": {
   "codemirror_mode": {
    "name": "ipython",
    "version": 3
   },
   "file_extension": ".py",
   "mimetype": "text/x-python",
   "name": "python",
   "nbconvert_exporter": "python",
   "pygments_lexer": "ipython3",
   "version": "3.12.3"
  }
 },
 "nbformat": 4,
 "nbformat_minor": 5
}
