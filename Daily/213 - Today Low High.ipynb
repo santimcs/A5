{
 "cells": [
  {
   "cell_type": "markdown",
   "id": "930356c6",
   "metadata": {},
   "source": [
    "### Start and Run All"
   ]
  },
  {
   "cell_type": "code",
   "execution_count": 2,
   "id": "d7cfc693",
   "metadata": {},
   "outputs": [
    {
     "name": "stdout",
     "output_type": "stream",
     "text": [
      "2025-08-01 20:26:25\n"
     ]
    }
   ],
   "source": [
    "import os\n",
    "import pandas as pd\n",
    "from urllib import request\n",
    "from bs4 import BeautifulSoup\n",
    "# from datetime import date, timedelta\n",
    "from datetime import datetime\n",
    "from time import sleep, strftime\n",
    "\n",
    "# Get the current time\n",
    "current_time = datetime.now()\n",
    "# Format the time to remove milliseconds\n",
    "formatted_time = current_time.strftime(\"%Y-%m-%d %H:%M:%S\")\n",
    "print(formatted_time)"
   ]
  },
  {
   "cell_type": "code",
   "execution_count": 3,
   "id": "0cbdda38-ec42-4470-bede-c468ba46f8d8",
   "metadata": {},
   "outputs": [],
   "source": [
    "url = \"https://www.set.or.th/en/market/product/stock/quote/\"\n",
    "percent_span = '' "
   ]
  },
  {
   "cell_type": "code",
   "execution_count": 4,
   "id": "6e4b7508-0071-480d-99c8-a6c070027294",
   "metadata": {},
   "outputs": [],
   "source": [
    "# Get the user's home directory\n",
    "user_path = os.path.expanduser('~')\n",
    "# Get the current working directory\n",
    "current_path = os.getcwd()\n",
    "# Derive the base directory (base_dir) by removing the last folder ('Daily')\n",
    "base_path = os.path.dirname(current_path)\n",
    "#C:\\Users\\PC1\\OneDrive\\A5\\Data\n",
    "dat_path = os.path.join(base_path, \"Data\")\n",
    "#C:\\Users\\PC1\\OneDrive\\Imports\\santisoontarinka@gmail.com - Google Drive\\Data>\n",
    "god_path = os.path.join(user_path, \"OneDrive\",\"Imports\",\"santisoontarinka@gmail.com - Google Drive\",\"Data\")\n",
    "#C:\\Users\\PC1\\iCloudDrive\\data\n",
    "icd_path = os.path.join(user_path, \"iCloudDrive\", \"Data\")\n",
    "#C:\\Users\\PC1\\OneDrive\\Documents\\obsidian-git-sync\\Data\n",
    "osd_path = os.path.join(user_path, \"OneDrive\",\"Documents\",\"obsidian-git-sync\",\"Data\")"
   ]
  },
  {
   "cell_type": "code",
   "execution_count": 5,
   "id": "07defeb3-a742-4e64-8089-7e4fe5b8b93c",
   "metadata": {},
   "outputs": [
    {
     "name": "stdout",
     "output_type": "stream",
     "text": [
      "User path: C:\\Users\\PC1\n",
      "Current path: C:\\Users\\PC1\\OneDrive\\A5\\Daily\n",
      "Base path: C:\\Users\\PC1\\OneDrive\\A5\n",
      "Data path : C:\\Users\\PC1\\OneDrive\\A5\\Data\n",
      "Google Drive path : C:\\Users\\PC1\\OneDrive\\Imports\\santisoontarinka@gmail.com - Google Drive\\Data\n",
      "iCloudDrive path : C:\\Users\\PC1\\iCloudDrive\\Data\n",
      "Obsidian path : C:\\Users\\PC1\\OneDrive\\Documents\\obsidian-git-sync\\Data\n"
     ]
    }
   ],
   "source": [
    "print(\"User path:\", user_path)\n",
    "print(f\"Current path: {current_path}\")\n",
    "print(f\"Base path: {base_path}\")\n",
    "print(f\"Data path : {dat_path}\") \n",
    "print(f\"Google Drive path : {god_path}\")\n",
    "print(f\"iCloudDrive path : {icd_path}\") \n",
    "print(f\"Obsidian path : {osd_path}\") "
   ]
  },
  {
   "cell_type": "code",
   "execution_count": 6,
   "id": "08576879-dc60-431b-a31a-e1893e2d7922",
   "metadata": {},
   "outputs": [
    {
     "name": "stdout",
     "output_type": "stream",
     "text": [
      "Input file : C:\\Users\\PC1\\OneDrive\\A5\\Data\\name-ttl.csv\n"
     ]
    }
   ],
   "source": [
    "file_name = \"name-ttl.csv\"\n",
    "input_file = os.path.join(dat_path, file_name)\n",
    "print(f\"Input file : {input_file}\") "
   ]
  },
  {
   "cell_type": "code",
   "execution_count": 7,
   "id": "9b9668db-0773-4de5-9bd4-864c377dab80",
   "metadata": {},
   "outputs": [],
   "source": [
    "file_name = \"price-hilo.csv\"\n",
    "output_file = os.path.join(dat_path, file_name)\n",
    "god_file = os.path.join(god_path, file_name)\n",
    "icd_file = os.path.join(icd_path, file_name)\n",
    "osd_file = os.path.join(osd_path, file_name)"
   ]
  },
  {
   "cell_type": "code",
   "execution_count": 8,
   "id": "66c38ef5-8643-4ad3-81ff-9e2275d426d5",
   "metadata": {},
   "outputs": [
    {
     "name": "stdout",
     "output_type": "stream",
     "text": [
      "Output file : C:\\Users\\PC1\\OneDrive\\A5\\Data\\price-hilo.csv\n",
      "icd_file : C:\\Users\\PC1\\iCloudDrive\\Data\\price-hilo.csv\n",
      "god_file : C:\\Users\\PC1\\OneDrive\\Imports\\santisoontarinka@gmail.com - Google Drive\\Data\\price-hilo.csv\n",
      "osd_file : C:\\Users\\PC1\\OneDrive\\Documents\\obsidian-git-sync\\Data\\price-hilo.csv\n"
     ]
    }
   ],
   "source": [
    "print(f\"Output file : {output_file}\") \n",
    "print(f\"icd_file : {icd_file}\") \n",
    "print(f\"god_file : {god_file}\") \n",
    "print(f\"osd_file : {osd_file}\")"
   ]
  },
  {
   "cell_type": "code",
   "execution_count": 9,
   "id": "c1ec2693",
   "metadata": {},
   "outputs": [],
   "source": [
    "def cvt_str_to_flt(input_str):\n",
    "    # Check for the special pattern and return 0\n",
    "    if input_str == '(-)':\n",
    "        return 0\n",
    "    \n",
    "    # Remove parentheses and percent sign\n",
    "    cleaned_str = input_str.replace('(', '').replace(')', '').replace('%', '')\n",
    "\n",
    "    # Convert to float\n",
    "    try:\n",
    "        return float(cleaned_str)\n",
    "    except ValueError:\n",
    "        # Handle the case where the conversion fails\n",
    "        return None\n",
    " "
   ]
  },
  {
   "cell_type": "code",
   "execution_count": 10,
   "id": "334bed1f",
   "metadata": {},
   "outputs": [],
   "source": [
    "def get_stock_data(in_df):\n",
    "\n",
    "    in_df.columns = ['name']\n",
    "    \n",
    "    output_columns = ['name', 'price', 'today_low', 'today_high', 'year_low', 'year_high', 'percent', 'updated_at']\n",
    "    # Initialize an empty DataFrame with specified columns\n",
    "    out_df = pd.DataFrame(columns=output_columns)\n",
    "    \n",
    "    for index, row in in_df.iterrows():\n",
    "        name = str(row['name']).upper()\n",
    "        response = request.urlopen(url + name + '/price')\n",
    "        html_page = BeautifulSoup(response, 'html.parser')\n",
    "        \n",
    "  #      price = html_page.find('div', class_='value text-white mb-0 me-2 lh-1 stock-info').text.strip()        \n",
    "  #      if (price == '-'):\n",
    "  #          price = '0.00'        \n",
    "\n",
    "        price_div = html_page.find('div', class_='value text-white mb-0 me-2 lh-1 stock-info')\n",
    "        if price_div:\n",
    "            price = price_div.text.strip()\n",
    "        else:\n",
    "            print(f\"Price div not found for {name}\")\n",
    "            price = '0.00'     \n",
    "            \n",
    "        # Try to find the <h3> tag with the class 'theme-success'\n",
    "        h3_tag = html_page.find('h3', class_='theme-success')\n",
    "        if h3_tag:\n",
    "        # Find all <span> tags within the found <h3> tag\n",
    "            span_tags = h3_tag.find_all('span')\n",
    "    \n",
    "            if len(span_tags) > 1:\n",
    "                # Extract the text from the second <span> tag\n",
    "                percent_span = span_tags[1].text\n",
    "                # print(percent_span)\n",
    "                \n",
    "        # Try to find the <h3> tag with the class 'theme-danger'\n",
    "        h3_tag = html_page.find('h3', class_='theme-danger')\n",
    "        if h3_tag:\n",
    "        # Find all <span> tags within the found <h3> tag\n",
    "            span_tags = h3_tag.find_all('span')\n",
    "    \n",
    "            if len(span_tags) > 1:\n",
    "                # Extract the text from the second <span> tag\n",
    "                percent_span = span_tags[1].text\n",
    "                # print(percent_span)    \n",
    "                \n",
    "        # Try to find the <h3> tag with the class 'theme-danger'\n",
    "        h3_tag = html_page.find('h3', class_='theme-normal')\n",
    "        if h3_tag:\n",
    "        # Find all <span> tags within the found <h3> tag\n",
    "            span_tags = h3_tag.find_all('span')\n",
    "    \n",
    "            if len(span_tags) > 1:\n",
    "                # Extract the text from the second <span> tag\n",
    "                percent_span = span_tags[1].text\n",
    "                # print(percent_span)   \n",
    "                \n",
    "        percent = cvt_str_to_flt(percent_span)\n",
    "                \n",
    "        values_low = html_page.find_all('span', class_='title-font-family fs-16px fw-bolder me-auto lh-1')\n",
    "        today_low = values_low[0].text\n",
    "        if (today_low == '-'):\n",
    "            today_low = '0.00'\n",
    "        \n",
    "        values_high = html_page.find_all('span', class_='title-font-family fs-16px fw-bolder lh-1')\n",
    "        today_high = values_high[0].text\n",
    "        if (today_high == '-'):\n",
    "            today_high = '0.00'         \n",
    "        \n",
    "        year_low = values_low[1].text        \n",
    "        year_high = values_high[1].text     \n",
    "        \n",
    "        # Find the div with the specific class, then find the span within it\n",
    "        div = html_page.find('div', class_='price-detail-date d-flex align-items-center text-nowrap fs-12px')\n",
    "        if div:\n",
    "            span = div.find('span')\n",
    "            if span:\n",
    "                text = span.get_text()\n",
    "#                 print(text)\n",
    "            else:\n",
    "                print(\"Span not found\")\n",
    "        else:\n",
    "            print(\"Div not found\")\n",
    "            \n",
    "        # Extract the date part from the string\n",
    "        # Assuming the date is always in the format 'dd Mon yyyy'\n",
    "        date_str = ' '.join(text.split()[2:5])\n",
    "\n",
    "        # Parse the date string into a datetime object\n",
    "        date_obj = datetime.strptime(date_str, '%d %b %Y')\n",
    "\n",
    "        # Format the datetime object to 'yyyy-mm-dd'\n",
    "        updated_at = date_obj.strftime('%Y-%m-%d')\n",
    "\n",
    "#         print(updated_at)\n",
    "        \n",
    "        # Append row to the DataFrame and print the row\n",
    "        out_df.loc[len(out_df)] = [name, price, today_low, today_high, year_low, year_high, percent, updated_at]\n",
    "#       print(out_df.iloc[-1].to_string(header=False, index=False)) \n",
    "        print(','.join(map(str, out_df.iloc[-1])))\n",
    "        sleep(1)\n",
    "        \n",
    "    return out_df  # return the final dataframe with all values populated"
   ]
  },
  {
   "cell_type": "code",
   "execution_count": 11,
   "id": "94abc8d4",
   "metadata": {},
   "outputs": [
    {
     "name": "stdout",
     "output_type": "stream",
     "text": [
      "Start at:  08:26 PM\n"
     ]
    }
   ],
   "source": [
    "start_time = strftime(\"%I:%M %p\")\n",
    "print('Start at: ', start_time)"
   ]
  },
  {
   "cell_type": "code",
   "execution_count": 12,
   "id": "23b565ec",
   "metadata": {
    "scrolled": true
   },
   "outputs": [
    {
     "name": "stdout",
     "output_type": "stream",
     "text": [
      "ACE,1.30,1.29,1.31,1.23,1.49,-0.76,2025-08-01\n",
      "ADVANC,288.00,287.00,292.00,233.00,309.00,-1.03,2025-08-01\n",
      "AEONTS,98.25,98.25,101.50,90.50,148.00,-0.51,2025-08-01\n",
      "AH,15.00,14.80,15.00,10.00,23.20,0.0,2025-08-01\n",
      "AIE,1.16,1.16,1.22,0.72,1.80,-3.33,2025-08-01\n",
      "AIMIRT,9.85,9.75,9.90,9.20,11.20,0.0,2025-08-01\n",
      "AIT,5.15,5.15,5.25,3.74,5.30,-1.9,2025-08-01\n",
      "AJ,2.60,2.58,2.70,1.94,5.80,-2.26,2025-08-01\n",
      "AMATA,16.30,16.20,17.30,11.20,31.00,1.88,2025-08-01\n",
      "ANAN,0.42,0.42,0.43,0.37,0.85,-2.33,2025-08-01\n",
      "AOT,39.50,39.25,41.50,26.75,65.00,-3.66,2025-08-01\n",
      "AP,7.25,7.25,7.45,5.60,10.50,0.0,2025-08-01\n",
      "ASIAN,7.45,7.30,7.50,6.50,10.50,2.76,2025-08-01\n",
      "ASK,7.60,7.50,7.80,6.20,15.30,-1.3,2025-08-01\n",
      "ASP,2.44,2.42,2.52,1.81,2.70,-2.4,2025-08-01\n",
      "ASW,6.45,6.40,6.60,5.55,8.20,-0.77,2025-08-01\n",
      "AWC,2.04,2.04,2.14,1.55,3.94,-2.86,2025-08-01\n",
      "BA,15.30,14.90,15.80,10.60,26.00,2.0,2025-08-01\n",
      "BAM,8.40,8.10,8.55,5.35,10.20,0.6,2025-08-01\n",
      "BANPU,4.92,4.92,5.15,4.00,7.50,-2.57,2025-08-01\n",
      "BAY,22.40,22.30,22.90,20.70,29.00,-1.32,2025-08-01\n",
      "BBL,148.50,148.00,149.50,129.00,161.50,0.34,2025-08-01\n",
      "BCH,13.70,13.60,14.30,12.30,19.20,-2.14,2025-08-01\n",
      "BCP,33.75,33.50,34.50,26.50,41.00,-0.74,2025-08-01\n",
      "BCPG,6.50,6.50,6.80,5.05,7.80,-2.99,2025-08-01\n",
      "BCT,47.50,47.50,47.50,43.50,76.75,0.53,2025-08-01\n",
      "BDMS,20.90,20.90,21.70,19.80,31.25,-2.79,2025-08-01\n",
      "BE8,7.25,7.15,7.40,5.20,21.20,0.69,2025-08-01\n",
      "BEAUTY,0.30,0.29,0.32,0.19,0.57,0.0,2025-08-01\n",
      "BEC,2.56,2.54,2.64,1.79,4.68,-1.54,2025-08-01\n",
      "BEM,5.40,5.35,5.60,4.56,8.30,-2.7,2025-08-01\n",
      "BGC,4.76,4.74,4.78,4.54,7.90,0.42,2025-08-01\n",
      "BGRIM,11.10,11.10,11.90,8.90,24.80,-5.13,2025-08-01\n",
      "BH,168.00,168.00,172.50,130.00,284.00,-1.18,2025-08-01\n",
      "BJC,18.60,18.60,19.40,16.50,25.75,-3.13,2025-08-01\n",
      "BKIH,288.00,286.00,288.00,271.00,316.00,0.0,2025-08-01\n",
      "BLA,17.50,17.40,18.00,14.00,25.75,-1.13,2025-08-01\n",
      "BLAND,0.50,0.48,0.51,0.38,0.70,0.0,2025-08-01\n",
      "BPP,7.55,7.50,7.95,6.20,13.60,-5.03,2025-08-01\n",
      "BTS,3.46,3.46,3.68,3.28,6.40,-1.7,2025-08-01\n",
      "BTSGIF,2.62,2.60,2.64,2.54,3.52,0.77,2025-08-01\n",
      "CBG,55.00,54.75,56.25,46.50,82.00,-0.45,2025-08-01\n",
      "CENTEL,27.50,27.50,29.00,19.40,41.50,-3.51,2025-08-01\n",
      "CHG,1.71,1.71,1.77,1.39,3.00,-2.29,2025-08-01\n",
      "CK,13.20,13.10,13.80,10.20,21.10,-2.22,2025-08-01\n",
      "CKP,2.58,2.56,2.66,2.10,4.04,-1.53,2025-08-01\n",
      "COM7,22.00,21.70,22.90,16.70,28.25,0.92,2025-08-01\n",
      "CPALL,44.75,44.75,47.50,41.50,68.00,-5.29,2025-08-01\n",
      "CPF,23.40,23.00,23.90,19.80,26.50,2.63,2025-08-01\n",
      "CPN,50.25,50.25,52.50,41.00,68.75,-3.83,2025-08-01\n",
      "CPNCG,6.05,6.00,6.10,5.30,6.65,0.0,2025-08-01\n",
      "CPNREIT,11.10,11.10,11.40,10.20,13.60,-1.77,2025-08-01\n",
      "CRC,20.40,20.40,22.00,15.80,36.00,-5.12,2025-08-01\n",
      "DCC,1.45,1.45,1.50,1.18,2.16,-2.03,2025-08-01\n",
      "DCON,0.24,0.23,0.24,0.23,0.41,0.0,2025-08-01\n",
      "DELTA,142.00,142.00,151.00,51.25,173.50,-2.74,2025-08-01\n",
      "DIF,8.15,8.15,8.20,7.35,9.85,0.0,2025-08-01\n",
      "DOHOME,3.82,3.82,4.08,2.26,11.26,-4.98,2025-08-01\n",
      "DRT,5.30,5.25,5.40,4.42,8.15,0.0,2025-08-01\n",
      "EA,2.82,2.82,2.96,1.73,7.32,-2.76,2025-08-01\n",
      "EASTW,2.00,2.00,2.10,1.57,3.90,-3.85,2025-08-01\n",
      "EGATIF,5.95,5.95,6.00,5.75,6.40,-0.83,2025-08-01\n",
      "EGCO,109.00,108.50,111.00,85.00,128.50,-1.36,2025-08-01\n",
      "EPG,2.84,2.82,2.92,2.12,5.25,-3.4,2025-08-01\n",
      "FORTH,7.05,7.05,7.15,6.05,15.00,0.0,2025-08-01\n",
      "FPT,6.10,6.05,6.20,5.85,14.50,0.0,2025-08-01\n",
      "FSMART,6.45,6.35,6.70,4.72,9.15,-2.27,2025-08-01\n",
      "FTREIT,9.35,9.30,9.45,8.60,11.30,0.0,2025-08-01\n",
      "GC,3.80,3.78,3.82,3.40,5.20,0.0,2025-08-01\n",
      "GFPT,10.10,9.85,10.30,8.00,13.20,4.12,2025-08-01\n",
      "GGC,3.94,3.94,3.98,3.20,5.45,-1.5,2025-08-01\n",
      "GLOBAL,6.40,6.30,6.90,4.16,16.27,-5.19,2025-08-01\n",
      "GPSC,32.50,32.25,34.00,22.40,49.75,-2.99,2025-08-01\n",
      "GRAMMY,4.70,4.68,4.72,4.30,8.50,-0.42,2025-08-01\n",
      "GUNKUL,1.71,1.70,1.75,1.31,2.96,-1.16,2025-08-01\n",
      "GVREIT,6.55,6.55,6.60,5.15,7.15,0.0,2025-08-01\n",
      "HANA,22.60,22.60,24.40,14.00,47.50,-2.16,2025-08-01\n",
      "HFT,4.24,4.22,4.30,3.32,4.82,0.0,2025-08-01\n",
      "HMPRO,7.00,7.00,7.35,5.70,11.10,-2.1,2025-08-01\n",
      "HTC,15.20,15.00,15.30,14.50,17.70,-0.65,2025-08-01\n",
      "ICHI,10.90,10.90,11.40,9.40,17.00,-2.68,2025-08-01\n",
      "III,4.64,4.64,4.80,4.18,7.20,-2.52,2025-08-01\n",
      "ILM,13.60,13.50,14.10,11.50,18.90,-3.55,2025-08-01\n",
      "IMH,3.90,3.88,3.90,3.50,6.05,0.0,2025-08-01\n",
      "IMPACT,9.65,9.60,9.80,9.25,12.80,0.0,2025-08-01\n",
      "INOX,0.40,0.40,0.42,0.35,0.67,-4.76,2025-08-01\n",
      "IP,3.26,3.26,3.32,2.02,5.15,-1.21,2025-08-01\n",
      "IRPC,0.99,0.99,1.06,0.70,1.86,-3.88,2025-08-01\n",
      "IVL,22.40,22.40,23.50,16.00,27.50,-3.03,2025-08-01\n",
      "3BBIF,6.05,6.05,6.15,5.00,6.75,0.0,2025-08-01\n",
      "JMART,7.35,7.35,7.85,5.20,17.70,-3.92,2025-08-01\n",
      "JMT,10.60,10.60,11.30,7.35,22.00,-4.5,2025-08-01\n",
      "KBANK,160.50,160.00,162.50,127.00,167.50,-0.93,2025-08-01\n",
      "KCE,24.20,24.20,26.25,13.70,45.75,-2.42,2025-08-01\n",
      "KEX,1.48,1.48,1.49,0.78,3.40,0.0,2025-08-01\n",
      "KGI,3.90,3.86,3.96,3.40,4.66,0.0,2025-08-01\n",
      "KKP,55.00,54.25,55.25,37.00,58.25,-0.45,2025-08-01\n",
      "KSL,1.53,1.51,1.54,1.25,2.36,1.32,2025-08-01\n",
      "KTB,22.10,21.90,22.30,17.10,24.70,0.45,2025-08-01\n",
      "KTC,27.75,27.75,29.00,21.80,52.25,-2.63,2025-08-01\n",
      "KYE,321.00,320.00,323.00,280.00,324.00,0.0,2025-08-01\n",
      "LALIN,4.90,4.88,4.90,4.80,6.80,0.41,2025-08-01\n",
      "LANNA,16.80,16.70,16.90,13.90,17.50,0.0,2025-08-01\n",
      "LH,3.82,3.80,3.90,3.18,6.50,0.0,2025-08-01\n",
      "LHFG,0.78,0.77,0.79,0.71,0.96,0.0,2025-08-01\n",
      "LHK,3.54,3.50,3.56,3.02,4.12,1.14,2025-08-01\n",
      "LIT,0.72,0.72,0.75,0.39,1.34,-4.0,2025-08-01\n",
      "LPH,3.72,3.68,3.72,3.20,4.78,0.0,2025-08-01\n",
      "LPN,1.73,1.73,1.75,1.61,3.38,-0.57,2025-08-01\n",
      "M,22.50,22.30,23.70,13.80,30.75,-3.02,2025-08-01\n",
      "MAJOR,8.60,8.45,8.70,7.35,16.00,1.78,2025-08-01\n",
      "MBAX,1.38,1.38,1.41,1.17,3.10,-1.43,2025-08-01\n",
      "MC,10.10,10.10,10.20,9.15,13.00,1.0,2025-08-01\n",
      "MCS,8.30,8.30,8.40,5.80,9.20,-1.19,2025-08-01\n",
      "MEGA,30.25,30.00,30.50,24.30,41.25,-1.63,2025-08-01\n",
      "MINT,23.70,23.60,25.50,21.70,29.75,-5.2,2025-08-01\n",
      "MST,7.05,7.00,7.05,5.50,10.30,0.0,2025-08-01\n",
      "MTC,36.00,36.00,38.50,33.75,54.00,-4.64,2025-08-01\n",
      "NER,4.46,4.44,4.56,3.88,5.65,0.9,2025-08-01\n",
      "NOBLE,1.86,1.83,1.86,1.60,3.46,0.54,2025-08-01\n",
      "ONEE,2.38,2.38,2.52,1.99,4.68,-3.25,2025-08-01\n",
      "OR,13.20,13.20,14.00,10.10,17.80,-5.04,2025-08-01\n",
      "ORI,1.87,1.85,1.92,1.50,5.75,-1.58,2025-08-01\n",
      "OSP,17.60,17.50,18.30,12.90,24.30,-1.68,2025-08-01\n",
      "PAP,1.76,1.73,1.80,1.31,2.96,1.73,2025-08-01\n",
      "PCSGH,3.14,3.12,3.18,2.46,5.00,0.0,2025-08-01\n",
      "PDG,2.74,2.74,2.74,2.36,2.86,0.0,2025-08-01\n",
      "PLANB,5.10,5.05,5.40,4.08,8.60,-3.77,2025-08-01\n",
      "POPF,5.80,5.75,5.80,5.40,6.70,0.87,2025-08-01\n",
      "PREB,3.50,3.48,3.50,3.34,5.55,0.0,2025-08-01\n",
      "PRM,6.50,6.45,6.55,5.10,9.30,0.0,2025-08-01\n",
      "PSH,4.32,4.32,4.46,3.66,9.80,-3.14,2025-08-01\n",
      "PSL,6.45,6.45,6.70,4.96,9.60,-2.27,2025-08-01\n",
      "PTG,6.55,6.55,6.85,5.45,10.70,-2.96,2025-08-01\n",
      "PTL,10.60,10.50,10.90,9.20,14.40,0.0,2025-08-01\n",
      "PTT,32.25,32.00,33.50,27.00,35.00,-3.01,2025-08-01\n",
      "PTTEP,123.50,123.00,126.50,93.00,151.00,-1.98,2025-08-01\n",
      "PTTGC,23.70,23.60,24.70,14.20,32.75,0.0,2025-08-01\n",
      "QH,1.43,1.42,1.46,1.15,2.00,0.0,2025-08-01\n",
      "RATCH,26.00,25.75,26.50,22.50,34.25,-1.89,2025-08-01\n",
      "RBF,3.76,3.76,3.90,3.04,7.65,-2.08,2025-08-01\n",
      "RCL,29.25,29.25,30.75,18.20,31.00,-4.1,2025-08-01\n",
      "RJH,13.90,13.80,14.10,11.50,26.25,-1.42,2025-08-01\n",
      "ROJNA,4.70,4.70,4.92,4.14,7.50,0.0,2025-08-01\n",
      "RS,0.23,0.22,0.24,0.19,6.45,-4.17,2025-08-01\n",
      "S11,3.08,3.08,3.18,1.68,3.70,-3.14,2025-08-01\n",
      "SAPPE,37.75,37.50,39.50,27.50,98.00,-2.58,2025-08-01\n",
      "SAT,12.90,12.90,13.20,9.95,13.70,-0.77,2025-08-01\n",
      "SAWAD,19.40,19.40,20.60,14.80,41.36,-4.43,2025-08-01\n",
      "SC,1.75,1.74,1.80,1.40,3.22,-2.23,2025-08-01\n",
      "SCB,125.00,124.50,127.00,100.50,128.00,-1.19,2025-08-01\n",
      "SCC,197.00,196.50,203.00,124.50,255.00,-1.99,2025-08-01\n",
      "SCCC,149.50,149.00,152.50,133.50,177.50,-0.66,2025-08-01\n",
      "SCGP,17.80,17.80,18.90,10.70,32.25,-4.81,2025-08-01\n",
      "SENA,1.77,1.72,1.82,1.54,2.50,-1.67,2025-08-01\n",
      "SGP,6.70,6.60,6.70,5.90,7.65,0.0,2025-08-01\n",
      "SINGER,5.10,5.10,5.45,3.92,12.70,-2.86,2025-08-01\n",
      "SIRI,1.48,1.47,1.52,1.11,1.94,0.0,2025-08-01\n",
      "SIS,22.30,22.10,22.70,17.60,31.25,2.29,2025-08-01\n",
      "SJWD,8.30,8.25,8.60,5.75,12.60,-2.35,2025-08-01\n",
      "SKN,5.65,5.65,5.70,5.05,6.40,0.89,2025-08-01\n",
      "SKR,6.95,6.85,6.95,6.20,9.80,0.72,2025-08-01\n",
      "SMPC,8.50,8.50,8.65,6.45,10.10,0.0,2025-08-01\n",
      "SNC,5.95,5.90,5.95,4.72,7.35,0.0,2025-08-01\n",
      "SPALI,15.60,15.50,16.00,13.20,21.10,0.0,2025-08-01\n",
      "SPC,58.50,58.25,58.50,53.00,61.50,0.0,2025-08-01\n",
      "SPCG,8.20,8.20,8.40,6.60,9.40,0.0,2025-08-01\n",
      "SPRC,5.55,5.50,5.75,4.26,7.95,-2.63,2025-08-01\n",
      "SPRIME,3.32,3.30,3.34,3.00,4.56,0.0,2025-08-01\n",
      "SSP,4.12,4.06,4.12,4.08,6.40,0.0,2025-08-01\n",
      "STA,13.80,13.80,15.00,10.30,25.75,-2.13,2025-08-01\n",
      "STANLY,185.50,185.50,186.50,184.50,225.00,-0.27,2025-08-01\n",
      "STGT,6.95,6.95,7.50,5.10,13.30,-1.42,2025-08-01\n",
      "SUPER,0.15,0.14,0.16,0.12,0.32,7.14,2025-08-01\n",
      "SUPEREIF,5.25,5.15,5.25,4.72,7.05,0.96,2025-08-01\n",
      "SVI,6.20,6.20,6.40,5.55,9.40,0.0,2025-08-01\n",
      "SYNEX,11.60,11.50,12.30,9.30,16.70,-2.52,2025-08-01\n",
      "TASCO,14.40,14.40,14.90,13.20,20.00,-3.36,2025-08-01\n",
      "TCAP,48.25,48.25,49.25,44.00,53.50,-2.03,2025-08-01\n",
      "TFFIF,6.00,5.95,6.05,5.25,7.20,0.84,2025-08-01\n",
      "TFG,5.15,5.00,5.15,3.02,5.45,4.25,2025-08-01\n",
      "THANI,1.65,1.65,1.69,1.15,2.26,-1.2,2025-08-01\n",
      "THG,8.75,8.70,8.95,7.75,37.00,-2.23,2025-08-01\n",
      "TIPH,18.90,18.90,19.40,16.70,30.50,-0.53,2025-08-01\n",
      "TIPCO,8.70,8.65,8.70,8.35,10.40,0.0,2025-08-01\n",
      "TISCO,98.75,98.75,99.50,90.00,101.00,-0.5,2025-08-01\n",
      "TK,3.82,3.80,3.82,3.28,5.45,0.0,2025-08-01\n",
      "TKN,5.80,5.80,6.10,5.00,11.80,-3.33,2025-08-01\n",
      "TKS,5.70,5.65,5.80,4.90,8.15,-0.87,2025-08-01\n",
      "TMT,3.30,3.30,3.34,2.60,5.40,0.0,2025-08-01\n",
      "TMW,48.25,48.25,48.75,44.75,66.75,-0.52,2025-08-01\n",
      "TOA,13.50,13.40,14.30,9.35,20.50,-3.57,2025-08-01\n",
      "TOP,33.75,33.50,35.00,21.00,55.50,-2.17,2025-08-01\n",
      "TPIPL,0.91,0.90,0.94,0.72,1.29,-1.09,2025-08-01\n",
      "TPIPP,2.24,2.22,2.26,1.99,3.14,0.9,2025-08-01\n",
      "TQM,14.80,14.70,15.10,12.20,33.25,-2.63,2025-08-01\n",
      "TRUE,10.30,10.30,10.70,9.05,13.30,-0.96,2025-08-01\n",
      "TSE,0.46,0.46,0.48,0.29,1.24,-2.13,2025-08-01\n",
      "TSTH,0.79,0.78,0.81,0.47,0.93,-1.25,2025-08-01\n",
      "TTA,4.34,4.34,4.44,3.22,6.55,-0.46,2025-08-01\n",
      "TTB,1.91,1.91,1.93,1.63,2.06,-1.04,2025-08-01\n",
      "TTLPF,11.00,10.90,11.10,11.00,17.00,0.0,2025-08-01\n",
      "TTW,9.00,9.00,9.05,8.45,9.50,0.56,2025-08-01\n",
      "TU,11.80,11.30,11.80,8.60,15.80,6.31,2025-08-01\n",
      "TVO,22.70,22.70,23.00,19.50,25.25,0.0,2025-08-01\n",
      "TYCN,1.65,1.65,1.67,1.62,2.62,-2.37,2025-08-01\n",
      "UTP,7.60,7.60,7.70,7.20,11.30,0.0,2025-08-01\n",
      "VGI,2.08,2.08,2.14,1.64,3.68,-0.95,2025-08-01\n",
      "VIBHA,1.50,1.49,1.52,1.37,2.30,-0.66,2025-08-01\n",
      "VNG,2.02,1.95,2.02,1.89,3.82,4.12,2025-08-01\n",
      "WHA,3.54,3.54,3.88,2.26,6.20,-1.12,2025-08-01\n",
      "WHAIR,5.50,5.40,5.50,4.12,6.75,1.85,2025-08-01\n",
      "WHART,9.30,9.20,9.35,8.55,10.80,2.2,2025-08-01\n",
      "WHAUP,3.40,3.36,3.54,2.76,5.50,-0.58,2025-08-01\n",
      "WICE,3.16,3.12,3.28,2.34,7.00,-0.63,2025-08-01\n",
      "WORK,4.12,4.12,4.18,3.82,10.40,-0.96,2025-08-01\n"
     ]
    }
   ],
   "source": [
    "df = pd.read_csv(input_file, header=None)\n",
    "out_df = get_stock_data(df)"
   ]
  },
  {
   "cell_type": "code",
   "execution_count": 13,
   "id": "d31edacf",
   "metadata": {},
   "outputs": [
    {
     "name": "stdout",
     "output_type": "stream",
     "text": [
      "End at:  08:31 PM\n"
     ]
    }
   ],
   "source": [
    "end_time = strftime(\"%I:%M %p\")\n",
    "print('End at: ', end_time)"
   ]
  },
  {
   "cell_type": "code",
   "execution_count": 14,
   "id": "b89c4ae7",
   "metadata": {},
   "outputs": [
    {
     "data": {
      "text/html": [
       "<div>\n",
       "<style scoped>\n",
       "    .dataframe tbody tr th:only-of-type {\n",
       "        vertical-align: middle;\n",
       "    }\n",
       "\n",
       "    .dataframe tbody tr th {\n",
       "        vertical-align: top;\n",
       "    }\n",
       "\n",
       "    .dataframe thead th {\n",
       "        text-align: right;\n",
       "    }\n",
       "</style>\n",
       "<table border=\"1\" class=\"dataframe\">\n",
       "  <thead>\n",
       "    <tr style=\"text-align: right;\">\n",
       "      <th></th>\n",
       "      <th>name</th>\n",
       "      <th>price</th>\n",
       "      <th>today_low</th>\n",
       "      <th>today_high</th>\n",
       "      <th>year_low</th>\n",
       "      <th>year_high</th>\n",
       "      <th>percent</th>\n",
       "      <th>updated_at</th>\n",
       "    </tr>\n",
       "  </thead>\n",
       "  <tbody>\n",
       "  </tbody>\n",
       "</table>\n",
       "</div>"
      ],
      "text/plain": [
       "Empty DataFrame\n",
       "Columns: [name, price, today_low, today_high, year_low, year_high, percent, updated_at]\n",
       "Index: []"
      ]
     },
     "execution_count": 14,
     "metadata": {},
     "output_type": "execute_result"
    }
   ],
   "source": [
    "out_df.query('price == \"-\"')"
   ]
  },
  {
   "cell_type": "code",
   "execution_count": 15,
   "id": "784f1b6d",
   "metadata": {},
   "outputs": [
    {
     "data": {
      "text/plain": [
       "(216, 8)"
      ]
     },
     "execution_count": 15,
     "metadata": {},
     "output_type": "execute_result"
    }
   ],
   "source": [
    "out_df.shape"
   ]
  },
  {
   "cell_type": "code",
   "execution_count": 16,
   "id": "6326d0c5",
   "metadata": {},
   "outputs": [],
   "source": [
    "out_df = out_df[out_df['name'] != 'BCT']"
   ]
  },
  {
   "cell_type": "code",
   "execution_count": 17,
   "id": "2a293f55-436e-45d1-9966-50d12c26e659",
   "metadata": {},
   "outputs": [],
   "source": [
    "out_df = out_df[out_df['name'] != 'LPF']"
   ]
  },
  {
   "cell_type": "code",
   "execution_count": 18,
   "id": "cc4b3547-5ea9-4ac6-bd11-896e67d464ed",
   "metadata": {},
   "outputs": [],
   "source": [
    "out_df = out_df[out_df['name'] != 'TYCN']"
   ]
  },
  {
   "cell_type": "code",
   "execution_count": 19,
   "id": "865622c2-dad3-4ba8-b35a-898461fe5e9a",
   "metadata": {},
   "outputs": [],
   "source": [
    "out_df = out_df[out_df['name'] != 'GRAMMY']"
   ]
  },
  {
   "cell_type": "code",
   "execution_count": 20,
   "id": "cb2d763d-5b75-4ace-b87a-f165c8e6cb91",
   "metadata": {},
   "outputs": [],
   "source": [
    "out_df = out_df[out_df['name'] != 'MST']"
   ]
  },
  {
   "cell_type": "code",
   "execution_count": 21,
   "id": "e65305f0-157a-4129-a758-15c02e8df06a",
   "metadata": {},
   "outputs": [],
   "source": [
    "out_df = out_df[out_df['name'] != 'SPC']"
   ]
  },
  {
   "cell_type": "code",
   "execution_count": 22,
   "id": "cb55b5f6-0679-4191-aeda-ab0cf45f18e7",
   "metadata": {},
   "outputs": [],
   "source": [
    "out_df = out_df[out_df['name'] != 'SPRIME']"
   ]
  },
  {
   "cell_type": "code",
   "execution_count": 23,
   "id": "981854f1-01a1-4e26-b2a9-4f58948a33ec",
   "metadata": {},
   "outputs": [],
   "source": [
    "out_df = out_df[out_df['name'] != 'FPT']"
   ]
  },
  {
   "cell_type": "code",
   "execution_count": 24,
   "id": "a2833967-e889-4ad5-97b2-8234ba35c31c",
   "metadata": {},
   "outputs": [],
   "source": [
    "out_df = out_df[out_df['name'] != 'GGC']"
   ]
  },
  {
   "cell_type": "code",
   "execution_count": 25,
   "id": "b2771ed1",
   "metadata": {},
   "outputs": [
    {
     "data": {
      "text/plain": [
       "(208, 8)"
      ]
     },
     "execution_count": 25,
     "metadata": {},
     "output_type": "execute_result"
    }
   ],
   "source": [
    "out_df.shape"
   ]
  },
  {
   "cell_type": "code",
   "execution_count": 26,
   "id": "eb2ffec6",
   "metadata": {},
   "outputs": [],
   "source": [
    "out_df['price'] = out_df['price'].astype('float')\n",
    "out_df['today_low'] = out_df['today_low'].astype('float')\n",
    "out_df['today_high'] = out_df['today_high'].astype('float')\n",
    "out_df['year_low'] = out_df['year_low'].astype('float')\n",
    "out_df['year_high'] = out_df['year_high'].astype('float')\n",
    "out_df['percent'] = out_df['percent'].astype('float')"
   ]
  },
  {
   "cell_type": "code",
   "execution_count": 27,
   "id": "f4fb1a3c",
   "metadata": {},
   "outputs": [],
   "source": [
    "sorted_out_df = out_df.sort_values('percent')"
   ]
  },
  {
   "cell_type": "code",
   "execution_count": 28,
   "id": "032f0eea",
   "metadata": {},
   "outputs": [
    {
     "data": {
      "text/html": [
       "<div>\n",
       "<style scoped>\n",
       "    .dataframe tbody tr th:only-of-type {\n",
       "        vertical-align: middle;\n",
       "    }\n",
       "\n",
       "    .dataframe tbody tr th {\n",
       "        vertical-align: top;\n",
       "    }\n",
       "\n",
       "    .dataframe thead th {\n",
       "        text-align: right;\n",
       "    }\n",
       "</style>\n",
       "<table border=\"1\" class=\"dataframe\">\n",
       "  <thead>\n",
       "    <tr style=\"text-align: right;\">\n",
       "      <th></th>\n",
       "      <th>name</th>\n",
       "      <th>price</th>\n",
       "      <th>today_low</th>\n",
       "      <th>today_high</th>\n",
       "      <th>year_low</th>\n",
       "      <th>year_high</th>\n",
       "      <th>percent</th>\n",
       "      <th>updated_at</th>\n",
       "    </tr>\n",
       "  </thead>\n",
       "  <tbody>\n",
       "    <tr>\n",
       "      <th>169</th>\n",
       "      <td>SSP</td>\n",
       "      <td>4.12</td>\n",
       "      <td>4.06</td>\n",
       "      <td>4.12</td>\n",
       "      <td>4.08</td>\n",
       "      <td>6.4</td>\n",
       "      <td>0.0</td>\n",
       "      <td>2025-08-01</td>\n",
       "    </tr>\n",
       "    <tr>\n",
       "      <th>201</th>\n",
       "      <td>TTLPF</td>\n",
       "      <td>11.00</td>\n",
       "      <td>10.90</td>\n",
       "      <td>11.10</td>\n",
       "      <td>11.00</td>\n",
       "      <td>17.0</td>\n",
       "      <td>0.0</td>\n",
       "      <td>2025-08-01</td>\n",
       "    </tr>\n",
       "  </tbody>\n",
       "</table>\n",
       "</div>"
      ],
      "text/plain": [
       "      name  price  today_low  today_high  year_low  year_high  percent  \\\n",
       "169    SSP   4.12       4.06        4.12      4.08        6.4      0.0   \n",
       "201  TTLPF  11.00      10.90       11.10     11.00       17.0      0.0   \n",
       "\n",
       "     updated_at  \n",
       "169  2025-08-01  \n",
       "201  2025-08-01  "
      ]
     },
     "execution_count": 28,
     "metadata": {},
     "output_type": "execute_result"
    }
   ],
   "source": [
    "sorted_out_df.query('today_low < year_low')"
   ]
  },
  {
   "cell_type": "code",
   "execution_count": 29,
   "id": "8e04b03d",
   "metadata": {},
   "outputs": [
    {
     "data": {
      "text/html": [
       "<div>\n",
       "<style scoped>\n",
       "    .dataframe tbody tr th:only-of-type {\n",
       "        vertical-align: middle;\n",
       "    }\n",
       "\n",
       "    .dataframe tbody tr th {\n",
       "        vertical-align: top;\n",
       "    }\n",
       "\n",
       "    .dataframe thead th {\n",
       "        text-align: right;\n",
       "    }\n",
       "</style>\n",
       "<table border=\"1\" class=\"dataframe\">\n",
       "  <thead>\n",
       "    <tr style=\"text-align: right;\">\n",
       "      <th></th>\n",
       "      <th>name</th>\n",
       "      <th>price</th>\n",
       "      <th>today_low</th>\n",
       "      <th>today_high</th>\n",
       "      <th>year_low</th>\n",
       "      <th>year_high</th>\n",
       "      <th>percent</th>\n",
       "      <th>updated_at</th>\n",
       "    </tr>\n",
       "  </thead>\n",
       "  <tbody>\n",
       "  </tbody>\n",
       "</table>\n",
       "</div>"
      ],
      "text/plain": [
       "Empty DataFrame\n",
       "Columns: [name, price, today_low, today_high, year_low, year_high, percent, updated_at]\n",
       "Index: []"
      ]
     },
     "execution_count": 29,
     "metadata": {},
     "output_type": "execute_result"
    }
   ],
   "source": [
    "sorted_out_df.query('today_high > year_high')"
   ]
  },
  {
   "cell_type": "code",
   "execution_count": 30,
   "id": "290a9607",
   "metadata": {},
   "outputs": [
    {
     "data": {
      "text/html": [
       "<div>\n",
       "<style scoped>\n",
       "    .dataframe tbody tr th:only-of-type {\n",
       "        vertical-align: middle;\n",
       "    }\n",
       "\n",
       "    .dataframe tbody tr th {\n",
       "        vertical-align: top;\n",
       "    }\n",
       "\n",
       "    .dataframe thead th {\n",
       "        text-align: right;\n",
       "    }\n",
       "</style>\n",
       "<table border=\"1\" class=\"dataframe\">\n",
       "  <thead>\n",
       "    <tr style=\"text-align: right;\">\n",
       "      <th></th>\n",
       "      <th>name</th>\n",
       "      <th>price</th>\n",
       "      <th>today_low</th>\n",
       "      <th>today_high</th>\n",
       "      <th>year_low</th>\n",
       "      <th>year_high</th>\n",
       "      <th>percent</th>\n",
       "      <th>updated_at</th>\n",
       "    </tr>\n",
       "  </thead>\n",
       "  <tbody>\n",
       "  </tbody>\n",
       "</table>\n",
       "</div>"
      ],
      "text/plain": [
       "Empty DataFrame\n",
       "Columns: [name, price, today_low, today_high, year_low, year_high, percent, updated_at]\n",
       "Index: []"
      ]
     },
     "execution_count": 30,
     "metadata": {},
     "output_type": "execute_result"
    }
   ],
   "source": [
    "out_df.query('today_high > year_high')"
   ]
  },
  {
   "cell_type": "code",
   "execution_count": 31,
   "id": "5fbeba56-2a63-4650-898b-6447a81f95f5",
   "metadata": {},
   "outputs": [],
   "source": [
    "file_name = \"Price-Hilo.csv\"\n",
    "output_file = os.path.join(dat_path, file_name)\n",
    "god_file = os.path.join(god_path, file_name)\n",
    "icd_file = os.path.join(icd_path, file_name)\n",
    "osd_file = os.path.join(osd_path, file_name)"
   ]
  },
  {
   "cell_type": "code",
   "execution_count": 32,
   "id": "da6183ac-2f05-4f67-b200-fe83634d29dc",
   "metadata": {},
   "outputs": [
    {
     "name": "stdout",
     "output_type": "stream",
     "text": [
      "output_file : C:\\Users\\PC1\\OneDrive\\A5\\Data\\Price-Hilo.csv\n",
      "icd_file : C:\\Users\\PC1\\iCloudDrive\\Data\\Price-Hilo.csv\n",
      "god_file : C:\\Users\\PC1\\OneDrive\\Imports\\santisoontarinka@gmail.com - Google Drive\\Data\\Price-Hilo.csv\n",
      "osd_file : C:\\Users\\PC1\\OneDrive\\Documents\\obsidian-git-sync\\Data\\Price-Hilo.csv\n"
     ]
    }
   ],
   "source": [
    "print(f\"output_file : {output_file}\") \n",
    "print(f\"icd_file : {icd_file}\") \n",
    "print(f\"god_file : {god_file}\") \n",
    "print(f\"osd_file : {osd_file}\") "
   ]
  },
  {
   "cell_type": "code",
   "execution_count": 33,
   "id": "8017b53b",
   "metadata": {},
   "outputs": [],
   "source": [
    "out_df.to_csv(output_file, index=False)  \n",
    "out_df.to_csv(god_file, index=False) \n",
    "out_df.to_csv(icd_file, index=False)  \n",
    "out_df.to_csv(osd_file, index=False) "
   ]
  },
  {
   "cell_type": "code",
   "execution_count": 34,
   "id": "80692fae-6308-4695-bcac-5124ce4d44e3",
   "metadata": {},
   "outputs": [
    {
     "name": "stdout",
     "output_type": "stream",
     "text": [
      "2025-08-01 20:31:31\n"
     ]
    }
   ],
   "source": [
    "# Get the current time\n",
    "current_time = datetime.now()\n",
    "# Format the time to remove milliseconds\n",
    "formatted_time = current_time.strftime(\"%Y-%m-%d %H:%M:%S\")\n",
    "print(formatted_time)"
   ]
  }
 ],
 "metadata": {
  "kernelspec": {
   "display_name": "Python 3 (ipykernel)",
   "language": "python",
   "name": "python3"
  },
  "language_info": {
   "codemirror_mode": {
    "name": "ipython",
    "version": 3
   },
   "file_extension": ".py",
   "mimetype": "text/x-python",
   "name": "python",
   "nbconvert_exporter": "python",
   "pygments_lexer": "ipython3",
   "version": "3.12.3"
  }
 },
 "nbformat": 4,
 "nbformat_minor": 5
}
