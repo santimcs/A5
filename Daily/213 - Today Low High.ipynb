{
 "cells": [
  {
   "cell_type": "markdown",
   "id": "930356c6",
   "metadata": {},
   "source": [
    "### Start and Run All"
   ]
  },
  {
   "cell_type": "code",
   "execution_count": 2,
   "id": "d7cfc693",
   "metadata": {},
   "outputs": [
    {
     "name": "stdout",
     "output_type": "stream",
     "text": [
      "2025-08-27 20:28:21\n"
     ]
    }
   ],
   "source": [
    "import os\n",
    "import pandas as pd\n",
    "from urllib import request\n",
    "from bs4 import BeautifulSoup\n",
    "# from datetime import date, timedelta\n",
    "from datetime import datetime\n",
    "from time import sleep, strftime\n",
    "\n",
    "# Get the current time\n",
    "current_time = datetime.now()\n",
    "# Format the time to remove milliseconds\n",
    "formatted_time = current_time.strftime(\"%Y-%m-%d %H:%M:%S\")\n",
    "print(formatted_time)"
   ]
  },
  {
   "cell_type": "code",
   "execution_count": 3,
   "id": "0cbdda38-ec42-4470-bede-c468ba46f8d8",
   "metadata": {},
   "outputs": [],
   "source": [
    "url = \"https://www.set.or.th/en/market/product/stock/quote/\"\n",
    "percent_span = '' "
   ]
  },
  {
   "cell_type": "code",
   "execution_count": 4,
   "id": "6e4b7508-0071-480d-99c8-a6c070027294",
   "metadata": {},
   "outputs": [],
   "source": [
    "# Get the user's home directory\n",
    "user_path = os.path.expanduser('~')\n",
    "# Get the current working directory\n",
    "current_path = os.getcwd()\n",
    "# Derive the base directory (base_dir) by removing the last folder ('Daily')\n",
    "base_path = os.path.dirname(current_path)\n",
    "#C:\\Users\\PC1\\OneDrive\\A5\\Data\n",
    "dat_path = os.path.join(base_path, \"Data\")\n",
    "#C:\\Users\\PC1\\OneDrive\\Imports\\santisoontarinka@gmail.com - Google Drive\\Data>\n",
    "god_path = os.path.join(user_path, \"OneDrive\",\"Imports\",\"santisoontarinka@gmail.com - Google Drive\",\"Data\")\n",
    "#C:\\Users\\PC1\\iCloudDrive\\data\n",
    "icd_path = os.path.join(user_path, \"iCloudDrive\", \"Data\")\n",
    "#C:\\Users\\PC1\\OneDrive\\Documents\\obsidian-git-sync\\Data\n",
    "osd_path = os.path.join(user_path, \"OneDrive\",\"Documents\",\"obsidian-git-sync\",\"Data\")"
   ]
  },
  {
   "cell_type": "code",
   "execution_count": 5,
   "id": "07defeb3-a742-4e64-8089-7e4fe5b8b93c",
   "metadata": {},
   "outputs": [
    {
     "name": "stdout",
     "output_type": "stream",
     "text": [
      "User path: C:\\Users\\PC1\n",
      "Current path: C:\\Users\\PC1\\OneDrive\\A5\\Daily\n",
      "Base path: C:\\Users\\PC1\\OneDrive\\A5\n",
      "Data path : C:\\Users\\PC1\\OneDrive\\A5\\Data\n",
      "Google Drive path : C:\\Users\\PC1\\OneDrive\\Imports\\santisoontarinka@gmail.com - Google Drive\\Data\n",
      "iCloudDrive path : C:\\Users\\PC1\\iCloudDrive\\Data\n",
      "Obsidian path : C:\\Users\\PC1\\OneDrive\\Documents\\obsidian-git-sync\\Data\n"
     ]
    }
   ],
   "source": [
    "print(\"User path:\", user_path)\n",
    "print(f\"Current path: {current_path}\")\n",
    "print(f\"Base path: {base_path}\")\n",
    "print(f\"Data path : {dat_path}\") \n",
    "print(f\"Google Drive path : {god_path}\")\n",
    "print(f\"iCloudDrive path : {icd_path}\") \n",
    "print(f\"Obsidian path : {osd_path}\") "
   ]
  },
  {
   "cell_type": "code",
   "execution_count": 6,
   "id": "08576879-dc60-431b-a31a-e1893e2d7922",
   "metadata": {},
   "outputs": [
    {
     "name": "stdout",
     "output_type": "stream",
     "text": [
      "Input file : C:\\Users\\PC1\\OneDrive\\A5\\Data\\name-ttl.csv\n"
     ]
    }
   ],
   "source": [
    "file_name = \"name-ttl.csv\"\n",
    "input_file = os.path.join(dat_path, file_name)\n",
    "print(f\"Input file : {input_file}\") "
   ]
  },
  {
   "cell_type": "code",
   "execution_count": 7,
   "id": "9b9668db-0773-4de5-9bd4-864c377dab80",
   "metadata": {},
   "outputs": [],
   "source": [
    "file_name = \"price-hilo.csv\"\n",
    "output_file = os.path.join(dat_path, file_name)\n",
    "god_file = os.path.join(god_path, file_name)\n",
    "icd_file = os.path.join(icd_path, file_name)\n",
    "osd_file = os.path.join(osd_path, file_name)"
   ]
  },
  {
   "cell_type": "code",
   "execution_count": 8,
   "id": "66c38ef5-8643-4ad3-81ff-9e2275d426d5",
   "metadata": {},
   "outputs": [
    {
     "name": "stdout",
     "output_type": "stream",
     "text": [
      "Output file : C:\\Users\\PC1\\OneDrive\\A5\\Data\\price-hilo.csv\n",
      "icd_file : C:\\Users\\PC1\\iCloudDrive\\Data\\price-hilo.csv\n",
      "god_file : C:\\Users\\PC1\\OneDrive\\Imports\\santisoontarinka@gmail.com - Google Drive\\Data\\price-hilo.csv\n",
      "osd_file : C:\\Users\\PC1\\OneDrive\\Documents\\obsidian-git-sync\\Data\\price-hilo.csv\n"
     ]
    }
   ],
   "source": [
    "print(f\"Output file : {output_file}\") \n",
    "print(f\"icd_file : {icd_file}\") \n",
    "print(f\"god_file : {god_file}\") \n",
    "print(f\"osd_file : {osd_file}\")"
   ]
  },
  {
   "cell_type": "code",
   "execution_count": 9,
   "id": "c1ec2693",
   "metadata": {},
   "outputs": [],
   "source": [
    "def cvt_str_to_flt(input_str):\n",
    "    # Check for the special pattern and return 0\n",
    "    if input_str == '(-)':\n",
    "        return 0\n",
    "    \n",
    "    # Remove parentheses and percent sign\n",
    "    cleaned_str = input_str.replace('(', '').replace(')', '').replace('%', '')\n",
    "\n",
    "    # Convert to float\n",
    "    try:\n",
    "        return float(cleaned_str)\n",
    "    except ValueError:\n",
    "        # Handle the case where the conversion fails\n",
    "        return None\n",
    " "
   ]
  },
  {
   "cell_type": "code",
   "execution_count": 10,
   "id": "334bed1f",
   "metadata": {},
   "outputs": [],
   "source": [
    "def get_stock_data(in_df):\n",
    "\n",
    "    in_df.columns = ['name']\n",
    "    \n",
    "    output_columns = ['name', 'price', 'today_low', 'today_high', 'year_low', 'year_high', 'percent', 'updated_at']\n",
    "    # Initialize an empty DataFrame with specified columns\n",
    "    out_df = pd.DataFrame(columns=output_columns)\n",
    "    \n",
    "    for index, row in in_df.iterrows():\n",
    "        name = str(row['name']).upper()\n",
    "        response = request.urlopen(url + name + '/price')\n",
    "        html_page = BeautifulSoup(response, 'html.parser')\n",
    "        \n",
    "  #      price = html_page.find('div', class_='value text-white mb-0 me-2 lh-1 stock-info').text.strip()        \n",
    "  #      if (price == '-'):\n",
    "  #          price = '0.00'        \n",
    "\n",
    "        price_div = html_page.find('div', class_='value text-white mb-0 me-2 lh-1 stock-info')\n",
    "        if price_div:\n",
    "            price = price_div.text.strip()\n",
    "        else:\n",
    "            print(f\"Price div not found for {name}\")\n",
    "            price = '0.00'     \n",
    "            \n",
    "        # Try to find the <h3> tag with the class 'theme-success'\n",
    "        h3_tag = html_page.find('h3', class_='theme-success')\n",
    "        if h3_tag:\n",
    "        # Find all <span> tags within the found <h3> tag\n",
    "            span_tags = h3_tag.find_all('span')\n",
    "    \n",
    "            if len(span_tags) > 1:\n",
    "                # Extract the text from the second <span> tag\n",
    "                percent_span = span_tags[1].text\n",
    "                # print(percent_span)\n",
    "                \n",
    "        # Try to find the <h3> tag with the class 'theme-danger'\n",
    "        h3_tag = html_page.find('h3', class_='theme-danger')\n",
    "        if h3_tag:\n",
    "        # Find all <span> tags within the found <h3> tag\n",
    "            span_tags = h3_tag.find_all('span')\n",
    "    \n",
    "            if len(span_tags) > 1:\n",
    "                # Extract the text from the second <span> tag\n",
    "                percent_span = span_tags[1].text\n",
    "                # print(percent_span)    \n",
    "                \n",
    "        # Try to find the <h3> tag with the class 'theme-danger'\n",
    "        h3_tag = html_page.find('h3', class_='theme-normal')\n",
    "        if h3_tag:\n",
    "        # Find all <span> tags within the found <h3> tag\n",
    "            span_tags = h3_tag.find_all('span')\n",
    "    \n",
    "            if len(span_tags) > 1:\n",
    "                # Extract the text from the second <span> tag\n",
    "                percent_span = span_tags[1].text\n",
    "                # print(percent_span)   \n",
    "                \n",
    "        percent = cvt_str_to_flt(percent_span)\n",
    "                \n",
    "        values_low = html_page.find_all('span', class_='title-font-family fs-16px fw-bolder me-auto lh-1')\n",
    "        today_low = values_low[0].text\n",
    "        if (today_low == '-'):\n",
    "            today_low = '0.00'\n",
    "        \n",
    "        values_high = html_page.find_all('span', class_='title-font-family fs-16px fw-bolder lh-1')\n",
    "        today_high = values_high[0].text\n",
    "        if (today_high == '-'):\n",
    "            today_high = '0.00'         \n",
    "        \n",
    "        year_low = values_low[1].text        \n",
    "        year_high = values_high[1].text     \n",
    "        \n",
    "        # Find the div with the specific class, then find the span within it\n",
    "        div = html_page.find('div', class_='price-detail-date d-flex align-items-center text-nowrap fs-12px')\n",
    "        if div:\n",
    "            span = div.find('span')\n",
    "            if span:\n",
    "                text = span.get_text()\n",
    "#                 print(text)\n",
    "            else:\n",
    "                print(\"Span not found\")\n",
    "        else:\n",
    "            print(\"Div not found\")\n",
    "            \n",
    "        # Extract the date part from the string\n",
    "        # Assuming the date is always in the format 'dd Mon yyyy'\n",
    "        date_str = ' '.join(text.split()[2:5])\n",
    "\n",
    "        # Parse the date string into a datetime object\n",
    "        date_obj = datetime.strptime(date_str, '%d %b %Y')\n",
    "\n",
    "        # Format the datetime object to 'yyyy-mm-dd'\n",
    "        updated_at = date_obj.strftime('%Y-%m-%d')\n",
    "\n",
    "#         print(updated_at)\n",
    "        \n",
    "        # Append row to the DataFrame and print the row\n",
    "        out_df.loc[len(out_df)] = [name, price, today_low, today_high, year_low, year_high, percent, updated_at]\n",
    "#       print(out_df.iloc[-1].to_string(header=False, index=False)) \n",
    "        print(','.join(map(str, out_df.iloc[-1])))\n",
    "        sleep(1)\n",
    "        \n",
    "    return out_df  # return the final dataframe with all values populated"
   ]
  },
  {
   "cell_type": "code",
   "execution_count": 11,
   "id": "94abc8d4",
   "metadata": {},
   "outputs": [
    {
     "name": "stdout",
     "output_type": "stream",
     "text": [
      "Start at:  08:28 PM\n"
     ]
    }
   ],
   "source": [
    "start_time = strftime(\"%I:%M %p\")\n",
    "print('Start at: ', start_time)"
   ]
  },
  {
   "cell_type": "code",
   "execution_count": 12,
   "id": "23b565ec",
   "metadata": {
    "scrolled": true
   },
   "outputs": [
    {
     "name": "stdout",
     "output_type": "stream",
     "text": [
      "ACE,1.31,1.29,1.31,1.23,1.49,0.77,2025-08-27\n",
      "ADVANC,299.00,297.00,300.00,244.00,309.00,0.34,2025-08-27\n",
      "AEONTS,111.00,106.00,114.50,90.50,148.00,4.72,2025-08-27\n",
      "AH,14.50,14.50,14.70,10.00,23.20,-3.33,2025-08-27\n",
      "AIE,1.13,1.12,1.16,0.72,1.80,-2.59,2025-08-27\n",
      "AIMIRT,9.70,9.70,9.75,9.20,11.20,0.0,2025-08-27\n",
      "AIT,4.86,4.86,4.94,3.86,5.30,-1.22,2025-08-27\n",
      "AJ,2.22,2.22,2.30,1.94,5.80,-1.77,2025-08-27\n",
      "AMATA,16.20,16.20,16.60,11.20,31.00,-1.22,2025-08-27\n",
      "ANAN,0.50,0.50,0.53,0.37,0.85,-3.85,2025-08-27\n",
      "AOT,36.75,36.50,37.50,26.75,65.00,-0.68,2025-08-27\n",
      "AP,7.40,7.35,7.45,5.60,10.50,0.0,2025-08-27\n",
      "ASIAN,7.15,7.15,7.25,6.50,9.75,-0.69,2025-08-27\n",
      "ASK,7.25,7.20,7.40,6.20,15.30,0.0,2025-08-27\n",
      "ASP,2.48,2.44,2.48,1.81,2.70,0.0,2025-08-27\n",
      "ASW,5.60,5.25,5.90,5.55,8.20,-4.27,2025-08-27\n",
      "AWC,2.34,2.34,2.40,1.55,3.94,-1.68,2025-08-27\n",
      "BA,13.60,13.50,14.00,10.60,26.00,-2.16,2025-08-27\n",
      "BAM,8.10,8.00,8.30,5.35,10.20,1.25,2025-08-27\n",
      "BANPU,4.70,4.70,4.88,4.00,7.50,-2.89,2025-08-27\n",
      "BAY,23.40,23.40,23.50,20.70,29.00,0.0,2025-08-27\n",
      "BBL,153.50,153.00,155.50,131.00,161.50,-0.32,2025-08-27\n",
      "BCH,12.70,12.50,12.90,12.30,19.20,0.0,2025-08-27\n",
      "BCP,32.00,32.00,32.75,26.50,41.00,-2.29,2025-08-27\n",
      "BCPG,8.30,8.25,8.55,5.05,8.95,-2.35,2025-08-27\n",
      "BCT,47.25,46.00,48.00,43.50,76.75,-0.53,2025-08-27\n",
      "BDMS,20.80,20.70,21.00,19.80,31.25,0.48,2025-08-27\n",
      "BE8,5.70,5.70,5.95,5.20,21.20,-2.56,2025-08-27\n",
      "BEAUTY,0.52,0.44,0.54,0.19,0.57,20.93,2025-08-27\n",
      "BEC,2.14,2.14,2.22,1.79,4.68,-2.73,2025-08-27\n",
      "BEM,5.10,5.10,5.25,4.56,8.30,-2.86,2025-08-27\n",
      "BGC,4.86,4.86,4.90,4.54,7.90,-0.41,2025-08-27\n",
      "BGRIM,11.80,11.70,12.30,8.90,24.80,-4.07,2025-08-27\n",
      "BH,174.50,174.50,178.00,130.00,284.00,-1.13,2025-08-27\n",
      "BJC,17.00,16.90,17.20,16.50,25.75,-0.58,2025-08-27\n",
      "BKIH,287.00,287.00,288.00,271.00,316.00,0.0,2025-08-27\n",
      "BLA,17.50,17.40,18.10,14.00,25.75,-2.78,2025-08-27\n",
      "BLAND,0.50,0.50,0.52,0.38,0.70,-1.96,2025-08-27\n",
      "BPP,8.45,8.45,8.55,6.20,13.60,-0.59,2025-08-27\n",
      "BTS,3.22,3.22,3.34,3.28,6.40,-3.01,2025-08-27\n",
      "BTSGIF,2.50,2.48,2.52,2.46,3.52,0.0,2025-08-27\n",
      "CBG,51.00,51.00,52.50,46.50,82.00,-1.92,2025-08-27\n",
      "CENTEL,29.00,29.00,30.50,19.40,41.25,0.0,2025-08-27\n",
      "CHG,1.58,1.58,1.62,1.39,3.00,-1.86,2025-08-27\n",
      "CK,14.00,13.90,14.30,10.20,21.10,-1.41,2025-08-27\n",
      "CKP,2.76,2.74,2.82,2.10,4.04,-2.13,2025-08-27\n",
      "COM7,25.75,25.75,26.50,16.70,28.25,-0.96,2025-08-27\n",
      "CPALL,44.75,44.50,45.25,41.50,68.00,-0.56,2025-08-27\n",
      "CPF,23.90,23.90,24.20,19.80,26.50,-0.42,2025-08-27\n",
      "CPN,54.50,53.50,55.00,41.00,68.75,1.4,2025-08-27\n",
      "CPNCG,5.90,5.85,5.90,5.40,6.65,0.0,2025-08-27\n",
      "CPNREIT,11.20,11.20,11.40,10.20,13.60,-1.75,2025-08-27\n",
      "CRC,22.20,21.50,22.60,15.80,36.00,2.78,2025-08-27\n",
      "DCC,1.40,1.40,1.42,1.18,2.04,0.0,2025-08-27\n",
      "DCON,0.24,0.24,0.26,0.23,0.41,0.0,2025-08-27\n",
      "DELTA,154.00,150.00,158.50,51.25,173.50,2.67,2025-08-27\n",
      "DIF,8.20,8.15,8.25,7.35,9.85,0.0,2025-08-27\n",
      "DOHOME,3.72,3.72,3.84,2.26,11.07,0.0,2025-08-27\n",
      "DRT,5.40,5.35,5.45,4.42,8.15,0.93,2025-08-27\n",
      "EA,2.52,2.52,2.62,1.73,7.32,-3.08,2025-08-27\n",
      "EASTW,2.36,2.24,2.74,1.57,3.90,6.31,2025-08-27\n",
      "EGATIF,6.05,6.00,6.15,5.75,6.40,0.0,2025-08-27\n",
      "EGCO,115.00,114.50,116.00,85.00,128.50,0.0,2025-08-27\n",
      "EPG,3.00,3.00,3.10,2.12,5.25,-2.6,2025-08-27\n",
      "FORTH,6.80,6.80,7.05,6.05,15.00,-2.86,2025-08-27\n",
      "FPT,6.20,6.15,6.20,5.85,14.00,0.0,2025-08-27\n",
      "FSMART,6.00,5.95,6.10,5.35,9.15,0.84,2025-08-27\n",
      "FTREIT,9.60,9.50,9.70,8.60,11.30,-1.03,2025-08-27\n",
      "GC,4.10,4.06,4.14,3.40,5.10,0.0,2025-08-27\n",
      "GFPT,10.00,10.00,10.40,8.00,12.50,-1.96,2025-08-27\n",
      "GGC,3.86,3.86,3.90,3.20,5.45,0.0,2025-08-27\n",
      "GLOBAL,6.20,6.15,6.35,4.16,16.27,0.81,2025-08-27\n",
      "GPSC,40.00,39.25,40.25,22.40,49.75,-0.62,2025-08-27\n",
      "GRAMMY,4.94,4.52,4.94,4.30,8.50,8.33,2025-08-27\n",
      "GUNKUL,1.78,1.76,1.83,1.31,2.96,-0.56,2025-08-27\n",
      "GVREIT,6.20,6.15,6.25,5.25,7.15,-3.88,2025-08-27\n",
      "HANA,24.70,24.50,25.50,14.00,44.00,-2.18,2025-08-27\n",
      "HFT,4.26,4.10,4.28,3.32,4.76,3.9,2025-08-27\n",
      "HMPRO,7.35,7.25,7.55,5.70,11.10,1.38,2025-08-27\n",
      "HTC,15.00,14.90,15.10,14.50,17.70,0.67,2025-08-27\n",
      "ICHI,11.40,11.30,11.70,9.40,17.00,-3.39,2025-08-27\n",
      "III,4.82,4.82,4.98,4.18,7.20,-2.82,2025-08-27\n",
      "ILM,14.40,14.30,14.50,11.50,18.90,0.0,2025-08-27\n",
      "IMH,3.90,3.86,3.92,3.50,6.05,-0.51,2025-08-27\n",
      "IMPACT,10.00,9.95,10.10,9.25,12.80,-0.99,2025-08-27\n",
      "INOX,0.39,0.39,0.40,0.35,0.67,-2.5,2025-08-27\n",
      "IP,3.28,3.28,3.40,2.02,5.15,-2.96,2025-08-27\n",
      "IRPC,1.00,1.00,1.03,0.70,1.86,-2.91,2025-08-27\n",
      "IVL,22.20,22.10,23.40,16.90,27.50,-5.53,2025-08-27\n",
      "3BBIF,6.20,6.20,6.30,5.00,6.75,-0.8,2025-08-27\n",
      "JMART,8.35,8.30,8.70,5.20,17.70,-2.34,2025-08-27\n",
      "JMT,11.80,11.70,12.20,7.35,22.00,0.0,2025-08-27\n",
      "KBANK,163.50,163.00,165.50,140.50,171.50,-0.3,2025-08-27\n",
      "KCE,25.75,25.50,26.50,13.70,40.75,-2.83,2025-08-27\n",
      "KEX,1.48,1.48,1.49,0.78,3.40,0.0,2025-08-27\n",
      "KGI,3.86,3.86,3.90,3.40,4.66,-1.03,2025-08-27\n",
      "KKP,57.00,56.50,57.25,43.50,58.25,0.0,2025-08-27\n",
      "KSL,1.40,1.38,1.41,1.25,2.36,0.72,2025-08-27\n",
      "KTB,24.40,24.30,25.25,18.20,24.70,0.41,2025-08-27\n",
      "KTC,27.25,27.25,28.00,21.80,52.25,-1.8,2025-08-27\n",
      "KYE,291.00,290.00,292.00,280.00,324.00,-0.34,2025-08-27\n",
      "LALIN,5.10,5.05,5.10,4.80,6.80,0.99,2025-08-27\n",
      "LANNA,16.10,16.00,16.10,14.10,17.50,0.0,2025-08-27\n",
      "LH,3.90,3.90,3.98,3.18,6.50,-1.02,2025-08-27\n",
      "LHFG,0.77,0.77,0.78,0.72,0.96,0.0,2025-08-27\n",
      "LHK,3.52,3.52,3.54,3.02,4.12,0.0,2025-08-27\n",
      "LIT,0.86,0.85,0.97,0.39,1.34,-4.44,2025-08-27\n",
      "LPH,3.98,3.96,3.98,3.20,4.78,0.51,2025-08-27\n",
      "LPN,1.72,1.70,1.73,1.61,3.38,-1.71,2025-08-27\n",
      "M,22.40,22.20,23.00,13.80,30.75,-2.61,2025-08-27\n",
      "MAJOR,8.15,7.95,8.20,7.35,16.00,0.0,2025-08-27\n",
      "MBAX,1.37,1.37,1.44,1.17,3.10,-1.44,2025-08-27\n",
      "MC,10.70,10.60,10.70,9.15,13.00,0.94,2025-08-27\n",
      "MCS,8.25,8.25,8.45,5.80,9.20,-1.79,2025-08-27\n",
      "MEGA,28.25,28.00,28.75,24.30,41.25,-3.42,2025-08-27\n",
      "MINT,23.90,23.80,24.40,21.70,29.50,-0.42,2025-08-27\n",
      "MST,7.30,7.30,7.40,5.50,10.30,-0.68,2025-08-27\n",
      "MTC,38.00,37.00,38.50,33.75,54.00,2.7,2025-08-27\n",
      "NER,4.26,4.26,4.32,3.88,5.65,-0.93,2025-08-27\n",
      "NOBLE,1.83,1.81,1.88,1.60,3.46,1.1,2025-08-27\n",
      "ONEE,2.28,2.26,2.32,1.99,4.68,-0.87,2025-08-27\n",
      "OR,12.50,12.40,12.80,10.10,17.80,0.81,2025-08-27\n",
      "ORI,2.20,2.20,2.26,1.50,5.75,-1.79,2025-08-27\n",
      "OSP,17.10,17.00,17.30,12.90,24.30,0.59,2025-08-27\n",
      "PAP,1.74,1.73,1.75,1.31,2.96,-0.57,2025-08-27\n",
      "PCSGH,3.04,3.04,3.08,2.46,4.76,-0.65,2025-08-27\n",
      "PDG,2.70,2.70,2.76,2.36,2.88,-0.74,2025-08-27\n",
      "PLANB,4.66,4.66,4.90,4.08,8.60,-2.92,2025-08-27\n",
      "POPF,5.85,5.80,5.85,5.40,6.70,0.86,2025-08-27\n",
      "PREB,3.58,3.56,3.60,3.34,5.55,0.0,2025-08-27\n",
      "PRM,6.00,5.95,6.10,5.10,9.30,-1.64,2025-08-27\n",
      "PSH,4.20,4.14,4.20,3.66,9.80,0.48,2025-08-27\n",
      "PSL,6.55,6.35,6.60,4.96,9.60,3.15,2025-08-27\n",
      "PTG,7.80,7.50,7.85,5.45,10.70,4.7,2025-08-27\n",
      "PTL,9.70,9.65,9.70,9.20,14.40,0.0,2025-08-27\n",
      "PTT,31.75,31.75,32.00,27.00,35.00,-0.78,2025-08-27\n",
      "PTTEP,111.50,111.50,113.50,93.00,146.00,-1.76,2025-08-27\n",
      "PTTGC,26.50,26.00,27.25,14.20,32.75,-1.85,2025-08-27\n",
      "QH,1.39,1.38,1.42,1.15,2.00,0.72,2025-08-27\n",
      "RATCH,26.75,26.75,27.00,22.50,34.25,0.0,2025-08-27\n",
      "RBF,4.06,4.06,4.20,3.04,7.40,-0.98,2025-08-27\n",
      "RCL,28.25,28.25,29.00,18.20,31.75,0.89,2025-08-27\n",
      "RJH,13.50,13.50,13.70,11.50,26.25,-0.74,2025-08-27\n",
      "ROJNA,4.76,4.74,4.82,4.14,7.50,0.85,2025-08-27\n",
      "RS,0.29,0.28,0.31,0.19,6.30,3.57,2025-08-27\n",
      "S11,3.22,3.14,3.22,1.86,3.70,0.0,2025-08-27\n",
      "SAPPE,32.75,32.75,33.25,27.50,83.00,0.0,2025-08-27\n",
      "SAT,13.00,13.00,13.20,9.95,13.70,-0.76,2025-08-27\n",
      "SAWAD,25.00,24.90,25.75,14.80,41.36,0.4,2025-08-27\n",
      "SC,1.82,1.81,1.84,1.40,3.22,-2.67,2025-08-27\n",
      "SCB,127.50,127.00,128.50,105.50,133.00,0.39,2025-08-27\n",
      "SCC,215.00,214.00,220.00,124.50,255.00,-1.83,2025-08-27\n",
      "SCCC,149.00,149.00,152.00,138.50,177.50,0.0,2025-08-27\n",
      "SCGP,17.20,17.20,18.00,10.70,32.25,-3.37,2025-08-27\n",
      "SENA,1.87,1.85,1.87,1.54,2.50,0.0,2025-08-27\n",
      "SGP,6.55,6.40,6.55,5.00,7.65,0.77,2025-08-27\n",
      "SINGER,5.50,5.50,5.75,3.92,12.70,-0.9,2025-08-27\n",
      "SIRI,1.51,1.51,1.53,1.11,1.94,0.0,2025-08-27\n",
      "SIS,21.10,21.10,21.70,17.60,31.25,-1.86,2025-08-27\n",
      "SJWD,10.10,10.00,10.40,5.75,12.50,0.0,2025-08-27\n",
      "SKN,5.65,5.60,5.65,5.05,6.40,0.89,2025-08-27\n",
      "SKR,8.10,8.00,8.20,6.20,9.80,-0.61,2025-08-27\n",
      "SMPC,8.80,8.80,8.85,7.80,9.95,0.0,2025-08-27\n",
      "SNC,5.90,5.85,5.95,4.96,7.35,-1.67,2025-08-27\n",
      "SPALI,15.40,15.30,15.60,13.20,21.10,-3.75,2025-08-27\n",
      "SPC,58.25,58.25,58.50,53.00,61.50,0.0,2025-08-27\n",
      "SPCG,8.55,8.50,8.60,6.60,9.40,0.59,2025-08-27\n",
      "SPRC,4.54,4.54,4.62,4.26,7.55,-1.3,2025-08-27\n",
      "SPRIME,3.30,3.30,3.38,3.00,4.56,0.0,2025-08-27\n",
      "SSP,3.96,3.92,3.98,3.94,6.35,-0.5,2025-08-27\n",
      "STA,12.00,12.00,12.40,10.30,25.75,-1.64,2025-08-27\n",
      "STANLY,179.00,178.50,180.00,176.00,225.00,0.28,2025-08-27\n",
      "STGT,6.35,6.30,6.50,5.10,13.30,-1.55,2025-08-27\n",
      "SUPER,0.15,0.14,0.15,0.12,0.32,7.14,2025-08-27\n",
      "SUPEREIF,5.20,5.20,5.35,4.72,7.05,-1.89,2025-08-27\n",
      "SVI,6.00,5.95,6.05,5.55,9.40,0.0,2025-08-27\n",
      "SYNEX,11.70,11.70,11.90,9.30,16.70,0.86,2025-08-27\n",
      "TASCO,14.40,14.40,14.50,13.20,20.00,0.0,2025-08-27\n",
      "TCAP,50.75,50.25,51.00,44.25,53.50,0.0,2025-08-27\n",
      "TFFIF,6.00,5.95,6.05,5.25,7.20,0.0,2025-08-27\n",
      "TFG,5.30,5.20,5.50,3.02,6.10,-3.64,2025-08-27\n",
      "THANI,1.67,1.66,1.71,1.15,2.26,0.0,2025-08-27\n",
      "THG,8.15,8.05,8.45,7.75,32.75,-1.81,2025-08-27\n",
      "TIPH,20.10,20.00,20.20,16.70,30.50,0.5,2025-08-27\n",
      "TIPCO,8.80,8.70,8.80,8.35,10.40,1.15,2025-08-27\n",
      "TISCO,101.00,101.00,102.00,93.50,102.50,0.0,2025-08-27\n",
      "TK,4.16,4.14,4.20,3.28,5.45,0.48,2025-08-27\n",
      "TKN,5.50,5.45,5.65,5.00,11.80,-2.65,2025-08-27\n",
      "TKS,5.90,5.90,6.00,4.90,8.10,-1.67,2025-08-27\n",
      "TMT,3.08,3.04,3.10,2.60,5.40,-0.65,2025-08-27\n",
      "TMW,52.75,52.50,52.75,47.00,66.75,0.48,2025-08-27\n",
      "TOA,14.20,14.10,14.70,9.35,20.50,-2.07,2025-08-27\n",
      "TOP,31.75,31.75,32.25,21.00,55.50,-1.55,2025-08-27\n",
      "TPIPL,0.74,0.73,0.75,0.72,1.29,-1.33,2025-08-27\n",
      "TPIPP,2.18,2.18,2.24,1.99,3.14,-2.68,2025-08-27\n",
      "TQM,13.50,13.50,13.70,12.20,33.25,-4.93,2025-08-27\n",
      "TRUE,11.80,11.70,12.00,10.10,13.30,-1.67,2025-08-27\n",
      "TSE,0.43,0.43,0.46,0.29,1.24,-4.44,2025-08-27\n",
      "TSTH,0.77,0.76,0.78,0.47,0.93,-1.28,2025-08-27\n",
      "TTA,4.32,4.32,4.40,3.22,6.55,-0.92,2025-08-27\n",
      "TTB,1.90,1.90,1.93,1.72,2.06,-1.04,2025-08-27\n",
      "TTLPF,11.00,10.90,11.00,10.80,16.60,0.0,2025-08-27\n",
      "TTW,9.10,9.10,9.15,8.45,9.50,0.0,2025-08-27\n",
      "TU,12.10,12.10,12.40,8.60,15.80,-2.42,2025-08-27\n",
      "TVO,24.60,24.40,24.70,19.70,25.75,0.82,2025-08-27\n",
      "TYCN,1.73,1.69,1.75,1.62,2.62,-2.26,2025-08-27\n",
      "UTP,7.65,7.60,7.70,7.20,11.30,0.0,2025-08-27\n",
      "VGI,2.08,2.06,2.10,1.86,3.68,0.0,2025-08-27\n",
      "VIBHA,1.46,1.45,1.47,1.37,2.30,0.69,2025-08-27\n",
      "VNG,1.98,1.96,1.98,1.89,3.82,1.02,2025-08-27\n",
      "WHA,3.62,3.62,3.70,2.26,6.20,-0.55,2025-08-27\n",
      "WHAIR,5.50,5.50,5.60,4.12,6.75,-0.9,2025-08-27\n",
      "WHART,9.15,9.05,9.20,8.55,10.80,0.55,2025-08-27\n",
      "WHAUP,3.70,3.64,3.74,2.76,5.50,1.65,2025-08-27\n",
      "WICE,2.88,2.86,2.92,2.34,6.95,-0.69,2025-08-27\n",
      "WORK,4.22,4.20,4.26,3.82,10.40,-0.47,2025-08-27\n"
     ]
    }
   ],
   "source": [
    "df = pd.read_csv(input_file, header=None)\n",
    "out_df = get_stock_data(df)"
   ]
  },
  {
   "cell_type": "code",
   "execution_count": 13,
   "id": "d31edacf",
   "metadata": {},
   "outputs": [
    {
     "name": "stdout",
     "output_type": "stream",
     "text": [
      "End at:  08:33 PM\n"
     ]
    }
   ],
   "source": [
    "end_time = strftime(\"%I:%M %p\")\n",
    "print('End at: ', end_time)"
   ]
  },
  {
   "cell_type": "code",
   "execution_count": 14,
   "id": "b89c4ae7",
   "metadata": {},
   "outputs": [
    {
     "data": {
      "text/html": [
       "<div>\n",
       "<style scoped>\n",
       "    .dataframe tbody tr th:only-of-type {\n",
       "        vertical-align: middle;\n",
       "    }\n",
       "\n",
       "    .dataframe tbody tr th {\n",
       "        vertical-align: top;\n",
       "    }\n",
       "\n",
       "    .dataframe thead th {\n",
       "        text-align: right;\n",
       "    }\n",
       "</style>\n",
       "<table border=\"1\" class=\"dataframe\">\n",
       "  <thead>\n",
       "    <tr style=\"text-align: right;\">\n",
       "      <th></th>\n",
       "      <th>name</th>\n",
       "      <th>price</th>\n",
       "      <th>today_low</th>\n",
       "      <th>today_high</th>\n",
       "      <th>year_low</th>\n",
       "      <th>year_high</th>\n",
       "      <th>percent</th>\n",
       "      <th>updated_at</th>\n",
       "    </tr>\n",
       "  </thead>\n",
       "  <tbody>\n",
       "  </tbody>\n",
       "</table>\n",
       "</div>"
      ],
      "text/plain": [
       "Empty DataFrame\n",
       "Columns: [name, price, today_low, today_high, year_low, year_high, percent, updated_at]\n",
       "Index: []"
      ]
     },
     "execution_count": 14,
     "metadata": {},
     "output_type": "execute_result"
    }
   ],
   "source": [
    "out_df.query('price == \"-\"')"
   ]
  },
  {
   "cell_type": "code",
   "execution_count": 15,
   "id": "784f1b6d",
   "metadata": {},
   "outputs": [
    {
     "data": {
      "text/plain": [
       "(216, 8)"
      ]
     },
     "execution_count": 15,
     "metadata": {},
     "output_type": "execute_result"
    }
   ],
   "source": [
    "out_df.shape"
   ]
  },
  {
   "cell_type": "code",
   "execution_count": 16,
   "id": "6326d0c5",
   "metadata": {},
   "outputs": [],
   "source": [
    "out_df = out_df[out_df['name'] != 'BCT']"
   ]
  },
  {
   "cell_type": "code",
   "execution_count": 17,
   "id": "2a293f55-436e-45d1-9966-50d12c26e659",
   "metadata": {},
   "outputs": [],
   "source": [
    "out_df = out_df[out_df['name'] != 'LPF']"
   ]
  },
  {
   "cell_type": "code",
   "execution_count": 18,
   "id": "cc4b3547-5ea9-4ac6-bd11-896e67d464ed",
   "metadata": {},
   "outputs": [],
   "source": [
    "out_df = out_df[out_df['name'] != 'TYCN']"
   ]
  },
  {
   "cell_type": "code",
   "execution_count": 19,
   "id": "865622c2-dad3-4ba8-b35a-898461fe5e9a",
   "metadata": {},
   "outputs": [],
   "source": [
    "out_df = out_df[out_df['name'] != 'GRAMMY']"
   ]
  },
  {
   "cell_type": "code",
   "execution_count": 20,
   "id": "cb2d763d-5b75-4ace-b87a-f165c8e6cb91",
   "metadata": {},
   "outputs": [],
   "source": [
    "out_df = out_df[out_df['name'] != 'MST']"
   ]
  },
  {
   "cell_type": "code",
   "execution_count": 21,
   "id": "e65305f0-157a-4129-a758-15c02e8df06a",
   "metadata": {},
   "outputs": [],
   "source": [
    "out_df = out_df[out_df['name'] != 'SPC']"
   ]
  },
  {
   "cell_type": "code",
   "execution_count": 22,
   "id": "cb55b5f6-0679-4191-aeda-ab0cf45f18e7",
   "metadata": {},
   "outputs": [],
   "source": [
    "out_df = out_df[out_df['name'] != 'SPRIME']"
   ]
  },
  {
   "cell_type": "code",
   "execution_count": 23,
   "id": "981854f1-01a1-4e26-b2a9-4f58948a33ec",
   "metadata": {},
   "outputs": [],
   "source": [
    "out_df = out_df[out_df['name'] != 'FPT']"
   ]
  },
  {
   "cell_type": "code",
   "execution_count": 24,
   "id": "a2833967-e889-4ad5-97b2-8234ba35c31c",
   "metadata": {},
   "outputs": [],
   "source": [
    "out_df = out_df[out_df['name'] != 'GGC']"
   ]
  },
  {
   "cell_type": "code",
   "execution_count": 25,
   "id": "b2771ed1",
   "metadata": {},
   "outputs": [
    {
     "data": {
      "text/plain": [
       "(208, 8)"
      ]
     },
     "execution_count": 25,
     "metadata": {},
     "output_type": "execute_result"
    }
   ],
   "source": [
    "out_df.shape"
   ]
  },
  {
   "cell_type": "code",
   "execution_count": 26,
   "id": "eb2ffec6",
   "metadata": {},
   "outputs": [],
   "source": [
    "out_df['price'] = out_df['price'].astype('float')\n",
    "out_df['today_low'] = out_df['today_low'].astype('float')\n",
    "out_df['today_high'] = out_df['today_high'].astype('float')\n",
    "out_df['year_low'] = out_df['year_low'].astype('float')\n",
    "out_df['year_high'] = out_df['year_high'].astype('float')\n",
    "out_df['percent'] = out_df['percent'].astype('float')"
   ]
  },
  {
   "cell_type": "code",
   "execution_count": 27,
   "id": "f4fb1a3c",
   "metadata": {},
   "outputs": [],
   "source": [
    "sorted_out_df = out_df.sort_values('percent')"
   ]
  },
  {
   "cell_type": "code",
   "execution_count": 28,
   "id": "032f0eea",
   "metadata": {},
   "outputs": [
    {
     "data": {
      "text/html": [
       "<div>\n",
       "<style scoped>\n",
       "    .dataframe tbody tr th:only-of-type {\n",
       "        vertical-align: middle;\n",
       "    }\n",
       "\n",
       "    .dataframe tbody tr th {\n",
       "        vertical-align: top;\n",
       "    }\n",
       "\n",
       "    .dataframe thead th {\n",
       "        text-align: right;\n",
       "    }\n",
       "</style>\n",
       "<table border=\"1\" class=\"dataframe\">\n",
       "  <thead>\n",
       "    <tr style=\"text-align: right;\">\n",
       "      <th></th>\n",
       "      <th>name</th>\n",
       "      <th>price</th>\n",
       "      <th>today_low</th>\n",
       "      <th>today_high</th>\n",
       "      <th>year_low</th>\n",
       "      <th>year_high</th>\n",
       "      <th>percent</th>\n",
       "      <th>updated_at</th>\n",
       "    </tr>\n",
       "  </thead>\n",
       "  <tbody>\n",
       "    <tr>\n",
       "      <th>15</th>\n",
       "      <td>ASW</td>\n",
       "      <td>5.60</td>\n",
       "      <td>5.25</td>\n",
       "      <td>5.90</td>\n",
       "      <td>5.55</td>\n",
       "      <td>8.20</td>\n",
       "      <td>-4.27</td>\n",
       "      <td>2025-08-27</td>\n",
       "    </tr>\n",
       "    <tr>\n",
       "      <th>39</th>\n",
       "      <td>BTS</td>\n",
       "      <td>3.22</td>\n",
       "      <td>3.22</td>\n",
       "      <td>3.34</td>\n",
       "      <td>3.28</td>\n",
       "      <td>6.40</td>\n",
       "      <td>-3.01</td>\n",
       "      <td>2025-08-27</td>\n",
       "    </tr>\n",
       "    <tr>\n",
       "      <th>169</th>\n",
       "      <td>SSP</td>\n",
       "      <td>3.96</td>\n",
       "      <td>3.92</td>\n",
       "      <td>3.98</td>\n",
       "      <td>3.94</td>\n",
       "      <td>6.35</td>\n",
       "      <td>-0.50</td>\n",
       "      <td>2025-08-27</td>\n",
       "    </tr>\n",
       "  </tbody>\n",
       "</table>\n",
       "</div>"
      ],
      "text/plain": [
       "    name  price  today_low  today_high  year_low  year_high  percent  \\\n",
       "15   ASW   5.60       5.25        5.90      5.55       8.20    -4.27   \n",
       "39   BTS   3.22       3.22        3.34      3.28       6.40    -3.01   \n",
       "169  SSP   3.96       3.92        3.98      3.94       6.35    -0.50   \n",
       "\n",
       "     updated_at  \n",
       "15   2025-08-27  \n",
       "39   2025-08-27  \n",
       "169  2025-08-27  "
      ]
     },
     "execution_count": 28,
     "metadata": {},
     "output_type": "execute_result"
    }
   ],
   "source": [
    "sorted_out_df.query('today_low < year_low')"
   ]
  },
  {
   "cell_type": "code",
   "execution_count": 29,
   "id": "8e04b03d",
   "metadata": {},
   "outputs": [
    {
     "data": {
      "text/html": [
       "<div>\n",
       "<style scoped>\n",
       "    .dataframe tbody tr th:only-of-type {\n",
       "        vertical-align: middle;\n",
       "    }\n",
       "\n",
       "    .dataframe tbody tr th {\n",
       "        vertical-align: top;\n",
       "    }\n",
       "\n",
       "    .dataframe thead th {\n",
       "        text-align: right;\n",
       "    }\n",
       "</style>\n",
       "<table border=\"1\" class=\"dataframe\">\n",
       "  <thead>\n",
       "    <tr style=\"text-align: right;\">\n",
       "      <th></th>\n",
       "      <th>name</th>\n",
       "      <th>price</th>\n",
       "      <th>today_low</th>\n",
       "      <th>today_high</th>\n",
       "      <th>year_low</th>\n",
       "      <th>year_high</th>\n",
       "      <th>percent</th>\n",
       "      <th>updated_at</th>\n",
       "    </tr>\n",
       "  </thead>\n",
       "  <tbody>\n",
       "    <tr>\n",
       "      <th>98</th>\n",
       "      <td>KTB</td>\n",
       "      <td>24.4</td>\n",
       "      <td>24.3</td>\n",
       "      <td>25.25</td>\n",
       "      <td>18.2</td>\n",
       "      <td>24.7</td>\n",
       "      <td>0.41</td>\n",
       "      <td>2025-08-27</td>\n",
       "    </tr>\n",
       "  </tbody>\n",
       "</table>\n",
       "</div>"
      ],
      "text/plain": [
       "   name  price  today_low  today_high  year_low  year_high  percent  \\\n",
       "98  KTB   24.4       24.3       25.25      18.2       24.7     0.41   \n",
       "\n",
       "    updated_at  \n",
       "98  2025-08-27  "
      ]
     },
     "execution_count": 29,
     "metadata": {},
     "output_type": "execute_result"
    }
   ],
   "source": [
    "sorted_out_df.query('today_high > year_high')"
   ]
  },
  {
   "cell_type": "code",
   "execution_count": 30,
   "id": "290a9607",
   "metadata": {},
   "outputs": [
    {
     "data": {
      "text/html": [
       "<div>\n",
       "<style scoped>\n",
       "    .dataframe tbody tr th:only-of-type {\n",
       "        vertical-align: middle;\n",
       "    }\n",
       "\n",
       "    .dataframe tbody tr th {\n",
       "        vertical-align: top;\n",
       "    }\n",
       "\n",
       "    .dataframe thead th {\n",
       "        text-align: right;\n",
       "    }\n",
       "</style>\n",
       "<table border=\"1\" class=\"dataframe\">\n",
       "  <thead>\n",
       "    <tr style=\"text-align: right;\">\n",
       "      <th></th>\n",
       "      <th>name</th>\n",
       "      <th>price</th>\n",
       "      <th>today_low</th>\n",
       "      <th>today_high</th>\n",
       "      <th>year_low</th>\n",
       "      <th>year_high</th>\n",
       "      <th>percent</th>\n",
       "      <th>updated_at</th>\n",
       "    </tr>\n",
       "  </thead>\n",
       "  <tbody>\n",
       "    <tr>\n",
       "      <th>98</th>\n",
       "      <td>KTB</td>\n",
       "      <td>24.4</td>\n",
       "      <td>24.3</td>\n",
       "      <td>25.25</td>\n",
       "      <td>18.2</td>\n",
       "      <td>24.7</td>\n",
       "      <td>0.41</td>\n",
       "      <td>2025-08-27</td>\n",
       "    </tr>\n",
       "  </tbody>\n",
       "</table>\n",
       "</div>"
      ],
      "text/plain": [
       "   name  price  today_low  today_high  year_low  year_high  percent  \\\n",
       "98  KTB   24.4       24.3       25.25      18.2       24.7     0.41   \n",
       "\n",
       "    updated_at  \n",
       "98  2025-08-27  "
      ]
     },
     "execution_count": 30,
     "metadata": {},
     "output_type": "execute_result"
    }
   ],
   "source": [
    "out_df.query('today_high > year_high')"
   ]
  },
  {
   "cell_type": "code",
   "execution_count": 31,
   "id": "5fbeba56-2a63-4650-898b-6447a81f95f5",
   "metadata": {},
   "outputs": [],
   "source": [
    "file_name = \"Price-Hilo.csv\"\n",
    "output_file = os.path.join(dat_path, file_name)\n",
    "god_file = os.path.join(god_path, file_name)\n",
    "icd_file = os.path.join(icd_path, file_name)\n",
    "osd_file = os.path.join(osd_path, file_name)"
   ]
  },
  {
   "cell_type": "code",
   "execution_count": 32,
   "id": "da6183ac-2f05-4f67-b200-fe83634d29dc",
   "metadata": {},
   "outputs": [
    {
     "name": "stdout",
     "output_type": "stream",
     "text": [
      "output_file : C:\\Users\\PC1\\OneDrive\\A5\\Data\\Price-Hilo.csv\n",
      "icd_file : C:\\Users\\PC1\\iCloudDrive\\Data\\Price-Hilo.csv\n",
      "god_file : C:\\Users\\PC1\\OneDrive\\Imports\\santisoontarinka@gmail.com - Google Drive\\Data\\Price-Hilo.csv\n",
      "osd_file : C:\\Users\\PC1\\OneDrive\\Documents\\obsidian-git-sync\\Data\\Price-Hilo.csv\n"
     ]
    }
   ],
   "source": [
    "print(f\"output_file : {output_file}\") \n",
    "print(f\"icd_file : {icd_file}\") \n",
    "print(f\"god_file : {god_file}\") \n",
    "print(f\"osd_file : {osd_file}\") "
   ]
  },
  {
   "cell_type": "code",
   "execution_count": 33,
   "id": "8017b53b",
   "metadata": {},
   "outputs": [],
   "source": [
    "out_df.to_csv(output_file, index=False)  \n",
    "out_df.to_csv(god_file, index=False) \n",
    "out_df.to_csv(icd_file, index=False)  \n",
    "out_df.to_csv(osd_file, index=False) "
   ]
  },
  {
   "cell_type": "code",
   "execution_count": 34,
   "id": "80692fae-6308-4695-bcac-5124ce4d44e3",
   "metadata": {},
   "outputs": [
    {
     "name": "stdout",
     "output_type": "stream",
     "text": [
      "2025-08-27 20:33:32\n"
     ]
    }
   ],
   "source": [
    "# Get the current time\n",
    "current_time = datetime.now()\n",
    "# Format the time to remove milliseconds\n",
    "formatted_time = current_time.strftime(\"%Y-%m-%d %H:%M:%S\")\n",
    "print(formatted_time)"
   ]
  }
 ],
 "metadata": {
  "kernelspec": {
   "display_name": "Python 3 (ipykernel)",
   "language": "python",
   "name": "python3"
  },
  "language_info": {
   "codemirror_mode": {
    "name": "ipython",
    "version": 3
   },
   "file_extension": ".py",
   "mimetype": "text/x-python",
   "name": "python",
   "nbconvert_exporter": "python",
   "pygments_lexer": "ipython3",
   "version": "3.12.3"
  }
 },
 "nbformat": 4,
 "nbformat_minor": 5
}
