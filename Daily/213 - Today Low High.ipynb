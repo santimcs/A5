{
 "cells": [
  {
   "cell_type": "markdown",
   "id": "930356c6",
   "metadata": {},
   "source": [
    "### Start and Run All"
   ]
  },
  {
   "cell_type": "code",
   "execution_count": 2,
   "id": "d7cfc693",
   "metadata": {},
   "outputs": [
    {
     "name": "stdout",
     "output_type": "stream",
     "text": [
      "2025-09-08 20:21:03\n"
     ]
    }
   ],
   "source": [
    "import os\n",
    "import pandas as pd\n",
    "from urllib import request\n",
    "from bs4 import BeautifulSoup\n",
    "# from datetime import date, timedelta\n",
    "from datetime import datetime\n",
    "from time import sleep, strftime\n",
    "\n",
    "# Get the current time\n",
    "current_time = datetime.now()\n",
    "# Format the time to remove milliseconds\n",
    "formatted_time = current_time.strftime(\"%Y-%m-%d %H:%M:%S\")\n",
    "print(formatted_time)"
   ]
  },
  {
   "cell_type": "code",
   "execution_count": 3,
   "id": "0cbdda38-ec42-4470-bede-c468ba46f8d8",
   "metadata": {},
   "outputs": [],
   "source": [
    "url = \"https://www.set.or.th/en/market/product/stock/quote/\"\n",
    "percent_span = '' "
   ]
  },
  {
   "cell_type": "code",
   "execution_count": 4,
   "id": "6e4b7508-0071-480d-99c8-a6c070027294",
   "metadata": {},
   "outputs": [],
   "source": [
    "# Get the user's home directory\n",
    "user_path = os.path.expanduser('~')\n",
    "# Get the current working directory\n",
    "current_path = os.getcwd()\n",
    "# Derive the base directory (base_dir) by removing the last folder ('Daily')\n",
    "base_path = os.path.dirname(current_path)\n",
    "#C:\\Users\\PC1\\OneDrive\\A5\\Data\n",
    "dat_path = os.path.join(base_path, \"Data\")\n",
    "#C:\\Users\\PC1\\OneDrive\\Imports\\santisoontarinka@gmail.com - Google Drive\\Data>\n",
    "god_path = os.path.join(user_path, \"OneDrive\",\"Imports\",\"santisoontarinka@gmail.com - Google Drive\",\"Data\")\n",
    "#C:\\Users\\PC1\\iCloudDrive\\data\n",
    "icd_path = os.path.join(user_path, \"iCloudDrive\", \"Data\")\n",
    "#C:\\Users\\PC1\\OneDrive\\Documents\\obsidian-git-sync\\Data\n",
    "osd_path = os.path.join(user_path, \"OneDrive\",\"Documents\",\"obsidian-git-sync\",\"Data\")"
   ]
  },
  {
   "cell_type": "code",
   "execution_count": 5,
   "id": "07defeb3-a742-4e64-8089-7e4fe5b8b93c",
   "metadata": {},
   "outputs": [
    {
     "name": "stdout",
     "output_type": "stream",
     "text": [
      "User path: C:\\Users\\PC1\n",
      "Current path: C:\\Users\\PC1\\OneDrive\\A5\\Daily\n",
      "Base path: C:\\Users\\PC1\\OneDrive\\A5\n",
      "Data path : C:\\Users\\PC1\\OneDrive\\A5\\Data\n",
      "Google Drive path : C:\\Users\\PC1\\OneDrive\\Imports\\santisoontarinka@gmail.com - Google Drive\\Data\n",
      "iCloudDrive path : C:\\Users\\PC1\\iCloudDrive\\Data\n",
      "Obsidian path : C:\\Users\\PC1\\OneDrive\\Documents\\obsidian-git-sync\\Data\n"
     ]
    }
   ],
   "source": [
    "print(\"User path:\", user_path)\n",
    "print(f\"Current path: {current_path}\")\n",
    "print(f\"Base path: {base_path}\")\n",
    "print(f\"Data path : {dat_path}\") \n",
    "print(f\"Google Drive path : {god_path}\")\n",
    "print(f\"iCloudDrive path : {icd_path}\") \n",
    "print(f\"Obsidian path : {osd_path}\") "
   ]
  },
  {
   "cell_type": "code",
   "execution_count": 6,
   "id": "08576879-dc60-431b-a31a-e1893e2d7922",
   "metadata": {},
   "outputs": [
    {
     "name": "stdout",
     "output_type": "stream",
     "text": [
      "Input file : C:\\Users\\PC1\\OneDrive\\A5\\Data\\name-ttl.csv\n"
     ]
    }
   ],
   "source": [
    "file_name = \"name-ttl.csv\"\n",
    "input_file = os.path.join(dat_path, file_name)\n",
    "print(f\"Input file : {input_file}\") "
   ]
  },
  {
   "cell_type": "code",
   "execution_count": 7,
   "id": "9b9668db-0773-4de5-9bd4-864c377dab80",
   "metadata": {},
   "outputs": [],
   "source": [
    "file_name = \"price-hilo.csv\"\n",
    "output_file = os.path.join(dat_path, file_name)\n",
    "god_file = os.path.join(god_path, file_name)\n",
    "icd_file = os.path.join(icd_path, file_name)\n",
    "osd_file = os.path.join(osd_path, file_name)"
   ]
  },
  {
   "cell_type": "code",
   "execution_count": 8,
   "id": "66c38ef5-8643-4ad3-81ff-9e2275d426d5",
   "metadata": {},
   "outputs": [
    {
     "name": "stdout",
     "output_type": "stream",
     "text": [
      "Output file : C:\\Users\\PC1\\OneDrive\\A5\\Data\\price-hilo.csv\n",
      "icd_file : C:\\Users\\PC1\\iCloudDrive\\Data\\price-hilo.csv\n",
      "god_file : C:\\Users\\PC1\\OneDrive\\Imports\\santisoontarinka@gmail.com - Google Drive\\Data\\price-hilo.csv\n",
      "osd_file : C:\\Users\\PC1\\OneDrive\\Documents\\obsidian-git-sync\\Data\\price-hilo.csv\n"
     ]
    }
   ],
   "source": [
    "print(f\"Output file : {output_file}\") \n",
    "print(f\"icd_file : {icd_file}\") \n",
    "print(f\"god_file : {god_file}\") \n",
    "print(f\"osd_file : {osd_file}\")"
   ]
  },
  {
   "cell_type": "code",
   "execution_count": 9,
   "id": "c1ec2693",
   "metadata": {},
   "outputs": [],
   "source": [
    "def cvt_str_to_flt(input_str):\n",
    "    # Check for the special pattern and return 0\n",
    "    if input_str == '(-)':\n",
    "        return 0\n",
    "    \n",
    "    # Remove parentheses and percent sign\n",
    "    cleaned_str = input_str.replace('(', '').replace(')', '').replace('%', '')\n",
    "\n",
    "    # Convert to float\n",
    "    try:\n",
    "        return float(cleaned_str)\n",
    "    except ValueError:\n",
    "        # Handle the case where the conversion fails\n",
    "        return None\n",
    " "
   ]
  },
  {
   "cell_type": "code",
   "execution_count": 10,
   "id": "334bed1f",
   "metadata": {},
   "outputs": [],
   "source": [
    "def get_stock_data(in_df):\n",
    "\n",
    "    in_df.columns = ['name']\n",
    "    \n",
    "    output_columns = ['name', 'price', 'today_low', 'today_high', 'year_low', 'year_high', 'percent', 'updated_at']\n",
    "    # Initialize an empty DataFrame with specified columns\n",
    "    out_df = pd.DataFrame(columns=output_columns)\n",
    "    \n",
    "    for index, row in in_df.iterrows():\n",
    "        name = str(row['name']).upper()\n",
    "        response = request.urlopen(url + name + '/price')\n",
    "        html_page = BeautifulSoup(response, 'html.parser')\n",
    "        \n",
    "  #      price = html_page.find('div', class_='value text-white mb-0 me-2 lh-1 stock-info').text.strip()        \n",
    "  #      if (price == '-'):\n",
    "  #          price = '0.00'        \n",
    "\n",
    "        price_div = html_page.find('div', class_='value text-white mb-0 me-2 lh-1 stock-info')\n",
    "        if price_div:\n",
    "            price = price_div.text.strip()\n",
    "        else:\n",
    "            print(f\"Price div not found for {name}\")\n",
    "            price = '0.00'     \n",
    "            \n",
    "        # Try to find the <h3> tag with the class 'theme-success'\n",
    "        h3_tag = html_page.find('h3', class_='theme-success')\n",
    "        if h3_tag:\n",
    "        # Find all <span> tags within the found <h3> tag\n",
    "            span_tags = h3_tag.find_all('span')\n",
    "    \n",
    "            if len(span_tags) > 1:\n",
    "                # Extract the text from the second <span> tag\n",
    "                percent_span = span_tags[1].text\n",
    "                # print(percent_span)\n",
    "                \n",
    "        # Try to find the <h3> tag with the class 'theme-danger'\n",
    "        h3_tag = html_page.find('h3', class_='theme-danger')\n",
    "        if h3_tag:\n",
    "        # Find all <span> tags within the found <h3> tag\n",
    "            span_tags = h3_tag.find_all('span')\n",
    "    \n",
    "            if len(span_tags) > 1:\n",
    "                # Extract the text from the second <span> tag\n",
    "                percent_span = span_tags[1].text\n",
    "                # print(percent_span)    \n",
    "                \n",
    "        # Try to find the <h3> tag with the class 'theme-danger'\n",
    "        h3_tag = html_page.find('h3', class_='theme-normal')\n",
    "        if h3_tag:\n",
    "        # Find all <span> tags within the found <h3> tag\n",
    "            span_tags = h3_tag.find_all('span')\n",
    "    \n",
    "            if len(span_tags) > 1:\n",
    "                # Extract the text from the second <span> tag\n",
    "                percent_span = span_tags[1].text\n",
    "                # print(percent_span)   \n",
    "                \n",
    "        percent = cvt_str_to_flt(percent_span)\n",
    "                \n",
    "        values_low = html_page.find_all('span', class_='title-font-family fs-16px fw-bolder me-auto lh-1')\n",
    "        today_low = values_low[0].text\n",
    "        if (today_low == '-'):\n",
    "            today_low = '0.00'\n",
    "        \n",
    "        values_high = html_page.find_all('span', class_='title-font-family fs-16px fw-bolder lh-1')\n",
    "        today_high = values_high[0].text\n",
    "        if (today_high == '-'):\n",
    "            today_high = '0.00'         \n",
    "        \n",
    "        year_low = values_low[1].text        \n",
    "        year_high = values_high[1].text     \n",
    "        \n",
    "        # Find the div with the specific class, then find the span within it\n",
    "        div = html_page.find('div', class_='price-detail-date d-flex align-items-center text-nowrap fs-12px')\n",
    "        if div:\n",
    "            span = div.find('span')\n",
    "            if span:\n",
    "                text = span.get_text()\n",
    "#                 print(text)\n",
    "            else:\n",
    "                print(\"Span not found\")\n",
    "        else:\n",
    "            print(\"Div not found\")\n",
    "            \n",
    "        # Extract the date part from the string\n",
    "        # Assuming the date is always in the format 'dd Mon yyyy'\n",
    "        date_str = ' '.join(text.split()[2:5])\n",
    "\n",
    "        # Parse the date string into a datetime object\n",
    "        date_obj = datetime.strptime(date_str, '%d %b %Y')\n",
    "\n",
    "        # Format the datetime object to 'yyyy-mm-dd'\n",
    "        updated_at = date_obj.strftime('%Y-%m-%d')\n",
    "\n",
    "#         print(updated_at)\n",
    "        \n",
    "        # Append row to the DataFrame and print the row\n",
    "        out_df.loc[len(out_df)] = [name, price, today_low, today_high, year_low, year_high, percent, updated_at]\n",
    "#       print(out_df.iloc[-1].to_string(header=False, index=False)) \n",
    "        print(','.join(map(str, out_df.iloc[-1])))\n",
    "        sleep(1)\n",
    "        \n",
    "    return out_df  # return the final dataframe with all values populated"
   ]
  },
  {
   "cell_type": "code",
   "execution_count": 11,
   "id": "94abc8d4",
   "metadata": {},
   "outputs": [
    {
     "name": "stdout",
     "output_type": "stream",
     "text": [
      "Start at:  08:21 PM\n"
     ]
    }
   ],
   "source": [
    "start_time = strftime(\"%I:%M %p\")\n",
    "print('Start at: ', start_time)"
   ]
  },
  {
   "cell_type": "code",
   "execution_count": 12,
   "id": "23b565ec",
   "metadata": {
    "scrolled": true
   },
   "outputs": [
    {
     "name": "stdout",
     "output_type": "stream",
     "text": [
      "ACE,1.30,1.30,1.33,1.23,1.49,-1.52,2025-09-08\n",
      "ADVANC,290.00,290.00,295.00,253.00,309.00,-1.02,2025-09-08\n",
      "AEONTS,115.00,111.50,116.50,90.50,148.00,2.22,2025-09-08\n",
      "AH,14.50,14.30,14.70,10.00,23.20,1.4,2025-09-08\n",
      "AIE,1.13,1.11,1.16,0.72,1.80,0.89,2025-09-08\n",
      "AIMIRT,9.70,9.65,9.80,9.20,11.20,-0.51,2025-09-08\n",
      "AIT,4.98,4.96,5.10,3.92,5.30,-0.4,2025-09-08\n",
      "AJ,2.32,2.32,2.38,1.94,5.80,-0.85,2025-09-08\n",
      "AMATA,16.80,16.60,17.00,11.20,31.00,1.2,2025-09-08\n",
      "ANAN,0.55,0.55,0.60,0.37,0.85,7.84,2025-09-08\n",
      "AOT,37.75,37.75,39.00,26.75,65.00,-1.95,2025-09-08\n",
      "AP,8.10,8.00,8.15,5.60,10.50,-1.22,2025-09-08\n",
      "ASIAN,7.20,7.15,7.30,6.50,9.55,0.7,2025-09-08\n",
      "ASK,8.10,7.80,8.15,6.20,15.30,3.85,2025-09-08\n",
      "ASP,2.72,2.68,2.74,1.81,2.74,0.0,2025-09-08\n",
      "ASW,5.20,5.10,5.20,4.90,8.20,0.97,2025-09-08\n",
      "AWC,2.38,2.38,2.44,1.55,3.94,0.0,2025-09-08\n",
      "BA,14.40,14.30,14.60,10.60,26.00,1.41,2025-09-08\n",
      "BAM,8.30,8.25,8.45,5.35,10.20,0.0,2025-09-08\n",
      "BANPU,4.96,4.92,5.05,4.00,7.50,-0.4,2025-09-08\n",
      "BAY,24.00,23.90,24.60,20.70,29.00,0.42,2025-09-08\n",
      "BBL,153.00,152.50,153.50,131.00,161.50,0.66,2025-09-08\n",
      "BCH,13.10,12.90,13.20,12.30,19.20,0.77,2025-09-08\n",
      "BCP,30.75,30.25,31.25,26.50,41.00,0.0,2025-09-08\n",
      "BCPG,8.30,7.95,8.30,5.05,8.95,5.06,2025-09-08\n",
      "BCT,47.50,47.00,48.00,43.50,76.75,0.0,2025-09-08\n",
      "BDMS,20.80,20.70,21.10,19.80,31.25,-0.95,2025-09-08\n",
      "BE8,6.25,6.15,6.40,5.20,21.20,1.63,2025-09-08\n",
      "BEAUTY,0.56,0.56,0.62,0.19,0.66,-6.67,2025-09-08\n",
      "BEC,2.26,2.22,2.28,1.79,4.68,1.8,2025-09-08\n",
      "BEM,5.50,5.25,5.50,4.56,8.30,4.76,2025-09-08\n",
      "BGC,4.68,4.68,4.72,4.54,7.90,-0.43,2025-09-08\n",
      "BGRIM,12.80,12.80,13.40,8.90,24.80,-1.54,2025-09-08\n",
      "BH,185.50,184.00,186.50,130.00,284.00,0.0,2025-09-08\n",
      "BJC,21.00,19.60,21.00,16.50,25.75,9.95,2025-09-08\n",
      "BKIH,289.00,288.00,289.00,271.00,316.00,0.35,2025-09-08\n",
      "BLA,17.70,17.50,18.00,14.00,25.75,-1.67,2025-09-08\n",
      "BLAND,0.51,0.50,0.52,0.38,0.70,0.0,2025-09-08\n",
      "BPP,8.60,8.50,8.75,6.20,13.60,0.0,2025-09-08\n",
      "BTS,3.44,3.32,3.44,3.04,6.40,4.24,2025-09-08\n",
      "BTSGIF,2.54,2.50,2.54,2.46,3.52,1.6,2025-09-08\n",
      "CBG,61.00,56.50,61.00,46.50,82.00,10.41,2025-09-08\n",
      "CENTEL,32.50,31.75,34.00,19.40,41.25,3.17,2025-09-08\n",
      "CHG,1.68,1.66,1.69,1.39,3.00,0.6,2025-09-08\n",
      "CK,16.20,15.80,16.50,10.20,21.10,2.53,2025-09-08\n",
      "CKP,2.92,2.86,2.94,2.10,4.04,1.39,2025-09-08\n",
      "COM7,25.00,24.80,25.75,16.70,28.25,-2.91,2025-09-08\n",
      "CPALL,48.25,48.00,49.25,41.50,68.00,1.58,2025-09-08\n",
      "CPF,23.50,22.70,23.60,19.80,26.50,4.44,2025-09-08\n",
      "CPN,56.50,55.50,57.25,41.00,68.75,2.26,2025-09-08\n",
      "CPNCG,6.05,6.00,6.10,5.75,6.65,0.0,2025-09-08\n",
      "CPNREIT,11.10,11.00,11.20,10.20,13.60,-0.89,2025-09-08\n",
      "CRC,24.00,23.90,25.25,15.80,36.00,0.84,2025-09-08\n",
      "DCC,1.41,1.39,1.42,1.18,2.04,0.0,2025-09-08\n",
      "DCON,0.25,0.25,0.26,0.23,0.41,0.0,2025-09-08\n",
      "DELTA,143.00,141.00,148.00,51.25,173.50,-3.05,2025-09-08\n",
      "DIF,8.60,8.55,8.65,7.35,9.85,0.58,2025-09-08\n",
      "DOHOME,4.30,4.14,4.52,2.26,11.07,4.88,2025-09-08\n",
      "DRT,5.30,5.25,5.35,4.42,8.15,0.95,2025-09-08\n",
      "EA,2.74,2.72,2.88,1.73,7.32,-2.84,2025-09-08\n",
      "EASTW,2.84,2.54,2.94,1.57,3.90,10.94,2025-09-08\n",
      "EGATIF,5.95,5.95,6.00,5.75,6.40,-0.83,2025-09-08\n",
      "EGCO,111.50,111.50,113.00,85.00,128.50,-1.33,2025-09-08\n",
      "EPG,3.22,3.14,3.26,2.12,5.25,3.21,2025-09-08\n",
      "FORTH,8.10,7.80,8.20,6.05,15.00,6.58,2025-09-08\n",
      "FPT,6.30,6.25,6.45,5.85,14.00,0.0,2025-09-08\n",
      "FSMART,7.25,7.10,7.35,5.35,9.15,4.32,2025-09-08\n",
      "FTREIT,9.45,9.30,9.50,8.60,11.30,2.72,2025-09-08\n",
      "GC,4.04,3.98,4.04,3.40,5.10,0.0,2025-09-08\n",
      "GFPT,9.70,9.55,9.75,8.00,12.40,1.04,2025-09-08\n",
      "GGC,3.88,3.84,3.90,3.20,5.45,-0.51,2025-09-08\n",
      "GLOBAL,8.10,7.95,8.40,4.16,16.27,2.53,2025-09-08\n",
      "GPSC,40.50,40.25,41.25,22.40,49.75,-1.82,2025-09-08\n",
      "GRAMMY,4.60,4.60,4.64,4.30,8.50,0.0,2025-09-08\n",
      "GUNKUL,2.00,1.98,2.04,1.31,2.96,2.04,2025-09-08\n",
      "GVREIT,6.25,6.25,6.30,5.85,7.15,-0.79,2025-09-08\n",
      "HANA,24.50,24.30,25.25,14.00,44.00,-2.97,2025-09-08\n",
      "HFT,4.22,4.16,4.24,3.32,4.76,0.0,2025-09-08\n",
      "HMPRO,7.80,7.75,7.95,5.70,11.10,1.3,2025-09-08\n",
      "HTC,15.30,15.10,15.40,14.50,17.70,0.0,2025-09-08\n",
      "ICHI,12.20,11.60,12.20,9.40,17.00,6.09,2025-09-08\n",
      "III,4.90,4.86,4.96,4.18,7.20,1.24,2025-09-08\n",
      "ILM,15.00,14.60,15.00,11.50,18.90,2.74,2025-09-08\n",
      "IMH,4.24,4.16,4.26,3.50,6.05,0.95,2025-09-08\n",
      "IMPACT,9.95,9.85,10.00,9.25,12.80,1.02,2025-09-08\n",
      "INOX,0.41,0.41,0.43,0.35,0.67,-2.38,2025-09-08\n",
      "IP,3.40,3.28,3.40,2.02,5.15,1.19,2025-09-08\n",
      "IRPC,1.27,1.27,1.32,0.70,1.86,-1.55,2025-09-08\n",
      "IVL,23.30,22.40,23.70,16.90,27.50,5.43,2025-09-08\n",
      "3BBIF,6.40,6.35,6.50,5.00,6.75,-0.78,2025-09-08\n",
      "JMART,10.10,9.35,10.30,5.20,17.70,6.88,2025-09-08\n",
      "JMT,12.80,12.30,12.90,7.35,22.00,4.92,2025-09-08\n",
      "KBANK,172.00,171.00,173.00,145.00,172.00,1.18,2025-09-08\n",
      "KCE,25.50,25.25,26.50,13.70,40.75,-3.77,2025-09-08\n",
      "KEX,1.49,1.49,1.50,0.78,3.40,0.0,2025-09-08\n",
      "KGI,3.90,3.90,3.94,3.40,4.66,-1.02,2025-09-08\n",
      "KKP,60.25,59.75,60.75,43.50,62.00,0.42,2025-09-08\n",
      "KSL,1.41,1.39,1.41,1.25,2.36,0.71,2025-09-08\n",
      "KTB,25.50,25.25,26.00,19.30,25.50,0.99,2025-09-08\n",
      "KTC,29.25,29.00,29.50,21.80,52.25,-0.85,2025-09-08\n",
      "KYE,289.00,288.00,293.00,280.00,324.00,-0.69,2025-09-08\n",
      "LALIN,4.98,4.98,5.00,4.80,6.80,-0.4,2025-09-08\n",
      "LANNA,15.50,15.40,15.50,14.10,17.10,0.0,2025-09-08\n",
      "LH,4.20,4.12,4.22,3.18,6.50,1.94,2025-09-08\n",
      "LHFG,0.76,0.76,0.77,0.72,0.96,-1.3,2025-09-08\n",
      "LHK,3.56,3.52,3.56,3.02,4.12,0.0,2025-09-08\n",
      "LIT,0.90,0.87,0.93,0.39,1.34,2.27,2025-09-08\n",
      "LPH,4.10,4.08,4.12,3.20,4.78,0.0,2025-09-08\n",
      "LPN,1.75,1.73,1.76,1.61,3.38,1.16,2025-09-08\n",
      "M,26.00,25.00,26.00,13.80,30.75,4.84,2025-09-08\n",
      "MAJOR,8.25,8.15,8.30,7.35,16.00,1.23,2025-09-08\n",
      "MBAX,1.40,1.40,1.41,1.17,3.10,0.72,2025-09-08\n",
      "MC,11.10,11.00,11.20,9.15,13.00,0.91,2025-09-08\n",
      "MCS,8.65,8.50,8.65,5.80,9.20,1.76,2025-09-08\n",
      "MEGA,32.00,29.75,32.00,24.30,41.25,7.56,2025-09-08\n",
      "MINT,24.30,24.20,24.60,21.70,29.50,0.0,2025-09-08\n",
      "MST,7.15,7.05,7.20,5.50,10.30,-0.69,2025-09-08\n",
      "MTC,43.00,42.00,43.50,33.75,54.00,2.38,2025-09-08\n",
      "NER,4.54,4.46,4.58,3.88,5.65,1.79,2025-09-08\n",
      "NOBLE,2.20,2.10,2.22,1.60,3.46,-0.9,2025-09-08\n",
      "ONEE,2.36,2.30,2.36,1.99,4.68,2.61,2025-09-08\n",
      "OR,14.60,14.20,14.70,10.10,17.80,1.39,2025-09-08\n",
      "ORI,2.74,2.42,2.76,1.50,5.75,13.22,2025-09-08\n",
      "OSP,18.90,18.10,19.10,12.90,24.30,7.39,2025-09-08\n",
      "PAP,1.78,1.76,1.81,1.31,2.96,0.0,2025-09-08\n",
      "PCSGH,3.12,3.06,3.12,2.46,4.72,1.96,2025-09-08\n",
      "PDG,2.72,2.72,2.74,2.36,2.88,-0.73,2025-09-08\n",
      "PLANB,4.90,4.82,5.00,4.08,8.60,-2.97,2025-09-08\n",
      "POPF,6.15,6.10,6.15,5.40,6.70,0.0,2025-09-08\n",
      "PREB,3.62,3.60,3.66,3.34,5.55,0.0,2025-09-08\n",
      "PRM,6.50,6.50,6.65,5.10,9.30,-0.76,2025-09-08\n",
      "PSH,4.34,4.34,4.42,3.66,9.80,-0.91,2025-09-08\n",
      "PSL,6.40,6.35,6.50,4.96,9.60,0.79,2025-09-08\n",
      "PTG,8.50,8.40,8.70,5.45,10.70,0.59,2025-09-08\n",
      "PTL,9.75,9.75,9.80,9.20,14.40,-0.51,2025-09-08\n",
      "PTT,31.75,31.50,32.25,27.00,35.00,0.79,2025-09-08\n",
      "PTTEP,112.00,111.00,112.50,93.00,144.00,0.0,2025-09-08\n",
      "PTTGC,27.50,27.50,28.50,14.20,32.75,-0.9,2025-09-08\n",
      "QH,1.40,1.39,1.41,1.15,2.00,0.0,2025-09-08\n",
      "RATCH,26.00,25.75,26.00,22.50,34.25,0.0,2025-09-08\n",
      "RBF,4.22,4.20,4.40,3.04,7.40,0.48,2025-09-08\n",
      "RCL,26.75,26.50,27.50,18.20,31.75,-1.83,2025-09-08\n",
      "RJH,13.10,12.90,13.30,11.50,26.25,0.0,2025-09-08\n",
      "ROJNA,4.82,4.80,4.86,4.14,7.50,0.42,2025-09-08\n",
      "RS,0.30,0.28,0.31,0.19,6.30,3.45,2025-09-08\n",
      "S11,3.30,3.24,3.36,1.86,3.70,1.23,2025-09-08\n",
      "SAPPE,33.75,33.25,34.25,27.50,83.00,1.5,2025-09-08\n",
      "SAT,13.20,13.10,13.30,9.95,13.70,0.0,2025-09-08\n",
      "SAWAD,29.25,28.25,29.25,14.80,41.36,3.54,2025-09-08\n",
      "SC,1.79,1.79,1.82,1.40,3.22,-1.65,2025-09-08\n",
      "SCB,126.00,125.00,127.00,108.00,133.00,-0.4,2025-09-08\n",
      "SCC,224.00,220.00,224.00,124.50,255.00,2.28,2025-09-08\n",
      "SCCC,149.50,149.00,151.00,138.50,177.50,0.34,2025-09-08\n",
      "SCGP,18.00,17.80,18.60,10.70,32.25,0.56,2025-09-08\n",
      "SENA,1.93,1.88,1.94,1.54,2.50,2.66,2025-09-08\n",
      "SGP,6.40,6.40,6.50,5.00,7.65,0.0,2025-09-08\n",
      "SINGER,6.50,6.20,6.60,3.92,12.70,4.84,2025-09-08\n",
      "SIRI,1.47,1.46,1.50,1.11,1.94,-0.68,2025-09-08\n",
      "SIS,22.10,21.70,22.20,17.60,31.25,1.38,2025-09-08\n",
      "SJWD,10.10,10.10,10.40,5.75,12.50,-0.98,2025-09-08\n",
      "SKN,5.70,5.65,5.70,5.05,6.40,0.88,2025-09-08\n",
      "SKR,8.25,8.20,8.30,6.20,9.80,0.0,2025-09-08\n",
      "SMPC,9.05,9.00,9.05,7.80,9.95,0.0,2025-09-08\n",
      "SNC,5.90,5.80,5.90,4.96,7.35,0.0,2025-09-08\n",
      "SPALI,16.80,16.60,17.10,13.20,21.10,-1.18,2025-09-08\n",
      "SPC,58.00,57.50,58.00,53.00,60.75,0.87,2025-09-08\n",
      "SPCG,8.30,8.25,8.35,6.60,9.40,0.0,2025-09-08\n",
      "SPRC,4.82,4.76,4.86,4.26,7.25,0.0,2025-09-08\n",
      "SPRIME,3.34,3.32,3.34,3.00,4.56,0.0,2025-09-08\n",
      "SSP,3.98,3.94,3.98,3.88,6.35,0.0,2025-09-08\n",
      "STA,13.70,12.70,13.70,10.30,25.75,7.87,2025-09-08\n",
      "STANLY,181.50,181.50,183.50,176.00,225.00,-0.82,2025-09-08\n",
      "STGT,6.85,6.55,6.90,5.10,13.30,6.2,2025-09-08\n",
      "SUPER,0.15,0.14,0.16,0.12,0.32,0.0,2025-09-08\n",
      "SUPEREIF,5.30,5.20,5.30,4.72,7.05,0.0,2025-09-08\n",
      "SVI,5.85,5.75,5.90,5.55,9.40,0.0,2025-09-08\n",
      "SYNEX,12.20,12.10,12.70,9.30,16.70,-3.17,2025-09-08\n",
      "TASCO,15.20,14.90,15.30,13.20,20.00,2.01,2025-09-08\n",
      "TCAP,51.25,50.75,51.25,44.25,53.50,0.99,2025-09-08\n",
      "TFFIF,5.95,5.90,6.00,5.25,7.20,0.85,2025-09-08\n",
      "TFG,5.05,4.96,5.10,3.02,6.10,3.06,2025-09-08\n",
      "THANI,1.78,1.78,1.81,1.15,2.26,-1.11,2025-09-08\n",
      "THG,6.55,6.50,6.65,6.45,28.24,0.0,2025-09-08\n",
      "TIPH,21.50,21.30,21.60,16.70,30.50,0.94,2025-09-08\n",
      "TIPCO,8.60,8.55,8.65,8.35,10.40,0.58,2025-09-08\n",
      "TISCO,102.50,101.50,103.00,95.00,102.50,0.99,2025-09-08\n",
      "TK,4.46,4.40,4.46,3.28,5.45,0.0,2025-09-08\n",
      "TKN,6.00,5.80,6.10,5.00,11.80,3.45,2025-09-08\n",
      "TKS,6.15,6.10,6.30,4.90,8.10,0.0,2025-09-08\n",
      "TMT,3.12,3.10,3.12,2.60,5.40,0.65,2025-09-08\n",
      "TMW,53.50,53.00,54.00,47.00,66.75,0.0,2025-09-08\n",
      "TOA,15.50,15.20,15.60,9.35,20.50,1.97,2025-09-08\n",
      "TOP,33.75,33.50,34.50,21.00,55.50,0.0,2025-09-08\n",
      "TPIPL,0.71,0.69,0.71,0.69,1.29,1.43,2025-09-08\n",
      "TPIPP,2.26,2.24,2.30,1.99,3.14,1.8,2025-09-08\n",
      "TQM,13.90,13.60,14.00,12.20,33.25,2.96,2025-09-08\n",
      "TRUE,11.30,11.20,11.50,10.10,13.30,0.0,2025-09-08\n",
      "TSE,0.49,0.47,0.50,0.29,1.24,2.08,2025-09-08\n",
      "TSTH,0.75,0.74,0.76,0.47,0.93,-1.32,2025-09-08\n",
      "TTA,4.36,4.34,4.42,3.22,6.55,0.46,2025-09-08\n",
      "TTB,1.89,1.89,1.92,1.72,2.06,-1.05,2025-09-08\n",
      "TTLPF,10.50,10.40,10.50,10.30,16.20,0.0,2025-09-08\n",
      "TTW,9.20,9.15,9.25,8.45,9.50,0.0,2025-09-08\n",
      "TU,12.70,12.50,12.80,8.60,15.60,1.6,2025-09-08\n",
      "TVO,25.25,24.90,25.25,19.70,25.75,1.0,2025-09-08\n",
      "TYCN,1.73,1.72,1.83,1.62,2.62,-4.42,2025-09-08\n",
      "UTP,7.75,7.65,7.80,7.20,11.30,0.65,2025-09-08\n",
      "VGI,2.02,2.02,2.10,1.86,3.68,-3.81,2025-09-08\n",
      "VIBHA,1.45,1.45,1.48,1.37,2.30,-1.36,2025-09-08\n",
      "VNG,2.04,2.00,2.06,1.89,3.82,0.99,2025-09-08\n",
      "WHA,3.72,3.70,3.78,2.26,6.20,0.54,2025-09-08\n",
      "WHAIR,5.50,5.45,5.55,4.12,6.75,0.0,2025-09-08\n",
      "WHART,9.15,9.05,9.20,8.55,10.80,1.67,2025-09-08\n",
      "WHAUP,3.86,3.86,3.94,2.76,5.50,-1.03,2025-09-08\n",
      "WICE,2.92,2.92,2.98,2.34,6.95,-2.01,2025-09-08\n",
      "WORK,4.20,4.20,4.22,3.82,10.40,0.0,2025-09-08\n"
     ]
    }
   ],
   "source": [
    "df = pd.read_csv(input_file, header=None)\n",
    "out_df = get_stock_data(df)"
   ]
  },
  {
   "cell_type": "code",
   "execution_count": 13,
   "id": "d31edacf",
   "metadata": {},
   "outputs": [
    {
     "name": "stdout",
     "output_type": "stream",
     "text": [
      "End at:  08:26 PM\n"
     ]
    }
   ],
   "source": [
    "end_time = strftime(\"%I:%M %p\")\n",
    "print('End at: ', end_time)"
   ]
  },
  {
   "cell_type": "code",
   "execution_count": 14,
   "id": "b89c4ae7",
   "metadata": {},
   "outputs": [
    {
     "data": {
      "text/html": [
       "<div>\n",
       "<style scoped>\n",
       "    .dataframe tbody tr th:only-of-type {\n",
       "        vertical-align: middle;\n",
       "    }\n",
       "\n",
       "    .dataframe tbody tr th {\n",
       "        vertical-align: top;\n",
       "    }\n",
       "\n",
       "    .dataframe thead th {\n",
       "        text-align: right;\n",
       "    }\n",
       "</style>\n",
       "<table border=\"1\" class=\"dataframe\">\n",
       "  <thead>\n",
       "    <tr style=\"text-align: right;\">\n",
       "      <th></th>\n",
       "      <th>name</th>\n",
       "      <th>price</th>\n",
       "      <th>today_low</th>\n",
       "      <th>today_high</th>\n",
       "      <th>year_low</th>\n",
       "      <th>year_high</th>\n",
       "      <th>percent</th>\n",
       "      <th>updated_at</th>\n",
       "    </tr>\n",
       "  </thead>\n",
       "  <tbody>\n",
       "  </tbody>\n",
       "</table>\n",
       "</div>"
      ],
      "text/plain": [
       "Empty DataFrame\n",
       "Columns: [name, price, today_low, today_high, year_low, year_high, percent, updated_at]\n",
       "Index: []"
      ]
     },
     "execution_count": 14,
     "metadata": {},
     "output_type": "execute_result"
    }
   ],
   "source": [
    "out_df.query('price == \"-\"')"
   ]
  },
  {
   "cell_type": "code",
   "execution_count": 15,
   "id": "784f1b6d",
   "metadata": {},
   "outputs": [
    {
     "data": {
      "text/plain": [
       "(216, 8)"
      ]
     },
     "execution_count": 15,
     "metadata": {},
     "output_type": "execute_result"
    }
   ],
   "source": [
    "out_df.shape"
   ]
  },
  {
   "cell_type": "code",
   "execution_count": 16,
   "id": "6326d0c5",
   "metadata": {},
   "outputs": [],
   "source": [
    "out_df = out_df[out_df['name'] != 'BCT']"
   ]
  },
  {
   "cell_type": "code",
   "execution_count": 17,
   "id": "2a293f55-436e-45d1-9966-50d12c26e659",
   "metadata": {},
   "outputs": [],
   "source": [
    "out_df = out_df[out_df['name'] != 'LPF']"
   ]
  },
  {
   "cell_type": "code",
   "execution_count": 18,
   "id": "cc4b3547-5ea9-4ac6-bd11-896e67d464ed",
   "metadata": {},
   "outputs": [],
   "source": [
    "out_df = out_df[out_df['name'] != 'TYCN']"
   ]
  },
  {
   "cell_type": "code",
   "execution_count": 19,
   "id": "865622c2-dad3-4ba8-b35a-898461fe5e9a",
   "metadata": {},
   "outputs": [],
   "source": [
    "out_df = out_df[out_df['name'] != 'GRAMMY']"
   ]
  },
  {
   "cell_type": "code",
   "execution_count": 20,
   "id": "cb2d763d-5b75-4ace-b87a-f165c8e6cb91",
   "metadata": {},
   "outputs": [],
   "source": [
    "out_df = out_df[out_df['name'] != 'MST']"
   ]
  },
  {
   "cell_type": "code",
   "execution_count": 21,
   "id": "e65305f0-157a-4129-a758-15c02e8df06a",
   "metadata": {},
   "outputs": [],
   "source": [
    "out_df = out_df[out_df['name'] != 'SPC']"
   ]
  },
  {
   "cell_type": "code",
   "execution_count": 22,
   "id": "cb55b5f6-0679-4191-aeda-ab0cf45f18e7",
   "metadata": {},
   "outputs": [],
   "source": [
    "out_df = out_df[out_df['name'] != 'SPRIME']"
   ]
  },
  {
   "cell_type": "code",
   "execution_count": 23,
   "id": "981854f1-01a1-4e26-b2a9-4f58948a33ec",
   "metadata": {},
   "outputs": [],
   "source": [
    "out_df = out_df[out_df['name'] != 'FPT']"
   ]
  },
  {
   "cell_type": "code",
   "execution_count": 24,
   "id": "a2833967-e889-4ad5-97b2-8234ba35c31c",
   "metadata": {},
   "outputs": [],
   "source": [
    "out_df = out_df[out_df['name'] != 'GGC']"
   ]
  },
  {
   "cell_type": "code",
   "execution_count": 25,
   "id": "40da6b49-9c79-425a-9cae-a6608c2062a4",
   "metadata": {},
   "outputs": [],
   "source": [
    "out_df = out_df[out_df['name'] != 'SKN']"
   ]
  },
  {
   "cell_type": "code",
   "execution_count": 26,
   "id": "b2771ed1",
   "metadata": {},
   "outputs": [
    {
     "data": {
      "text/plain": [
       "(207, 8)"
      ]
     },
     "execution_count": 26,
     "metadata": {},
     "output_type": "execute_result"
    }
   ],
   "source": [
    "out_df.shape"
   ]
  },
  {
   "cell_type": "code",
   "execution_count": 27,
   "id": "eb2ffec6",
   "metadata": {},
   "outputs": [],
   "source": [
    "out_df['price'] = out_df['price'].astype('float')\n",
    "out_df['today_low'] = out_df['today_low'].astype('float')\n",
    "out_df['today_high'] = out_df['today_high'].astype('float')\n",
    "out_df['year_low'] = out_df['year_low'].astype('float')\n",
    "out_df['year_high'] = out_df['year_high'].astype('float')\n",
    "out_df['percent'] = out_df['percent'].astype('float')"
   ]
  },
  {
   "cell_type": "code",
   "execution_count": 28,
   "id": "f4fb1a3c",
   "metadata": {},
   "outputs": [],
   "source": [
    "sorted_out_df = out_df.sort_values('percent')"
   ]
  },
  {
   "cell_type": "code",
   "execution_count": 29,
   "id": "032f0eea",
   "metadata": {},
   "outputs": [
    {
     "data": {
      "text/html": [
       "<div>\n",
       "<style scoped>\n",
       "    .dataframe tbody tr th:only-of-type {\n",
       "        vertical-align: middle;\n",
       "    }\n",
       "\n",
       "    .dataframe tbody tr th {\n",
       "        vertical-align: top;\n",
       "    }\n",
       "\n",
       "    .dataframe thead th {\n",
       "        text-align: right;\n",
       "    }\n",
       "</style>\n",
       "<table border=\"1\" class=\"dataframe\">\n",
       "  <thead>\n",
       "    <tr style=\"text-align: right;\">\n",
       "      <th></th>\n",
       "      <th>name</th>\n",
       "      <th>price</th>\n",
       "      <th>today_low</th>\n",
       "      <th>today_high</th>\n",
       "      <th>year_low</th>\n",
       "      <th>year_high</th>\n",
       "      <th>percent</th>\n",
       "      <th>updated_at</th>\n",
       "    </tr>\n",
       "  </thead>\n",
       "  <tbody>\n",
       "  </tbody>\n",
       "</table>\n",
       "</div>"
      ],
      "text/plain": [
       "Empty DataFrame\n",
       "Columns: [name, price, today_low, today_high, year_low, year_high, percent, updated_at]\n",
       "Index: []"
      ]
     },
     "execution_count": 29,
     "metadata": {},
     "output_type": "execute_result"
    }
   ],
   "source": [
    "sorted_out_df.query('today_low < year_low')"
   ]
  },
  {
   "cell_type": "code",
   "execution_count": 30,
   "id": "8e04b03d",
   "metadata": {},
   "outputs": [
    {
     "data": {
      "text/html": [
       "<div>\n",
       "<style scoped>\n",
       "    .dataframe tbody tr th:only-of-type {\n",
       "        vertical-align: middle;\n",
       "    }\n",
       "\n",
       "    .dataframe tbody tr th {\n",
       "        vertical-align: top;\n",
       "    }\n",
       "\n",
       "    .dataframe thead th {\n",
       "        text-align: right;\n",
       "    }\n",
       "</style>\n",
       "<table border=\"1\" class=\"dataframe\">\n",
       "  <thead>\n",
       "    <tr style=\"text-align: right;\">\n",
       "      <th></th>\n",
       "      <th>name</th>\n",
       "      <th>price</th>\n",
       "      <th>today_low</th>\n",
       "      <th>today_high</th>\n",
       "      <th>year_low</th>\n",
       "      <th>year_high</th>\n",
       "      <th>percent</th>\n",
       "      <th>updated_at</th>\n",
       "    </tr>\n",
       "  </thead>\n",
       "  <tbody>\n",
       "    <tr>\n",
       "      <th>98</th>\n",
       "      <td>KTB</td>\n",
       "      <td>25.5</td>\n",
       "      <td>25.25</td>\n",
       "      <td>26.0</td>\n",
       "      <td>19.3</td>\n",
       "      <td>25.5</td>\n",
       "      <td>0.99</td>\n",
       "      <td>2025-09-08</td>\n",
       "    </tr>\n",
       "    <tr>\n",
       "      <th>185</th>\n",
       "      <td>TISCO</td>\n",
       "      <td>102.5</td>\n",
       "      <td>101.50</td>\n",
       "      <td>103.0</td>\n",
       "      <td>95.0</td>\n",
       "      <td>102.5</td>\n",
       "      <td>0.99</td>\n",
       "      <td>2025-09-08</td>\n",
       "    </tr>\n",
       "    <tr>\n",
       "      <th>92</th>\n",
       "      <td>KBANK</td>\n",
       "      <td>172.0</td>\n",
       "      <td>171.00</td>\n",
       "      <td>173.0</td>\n",
       "      <td>145.0</td>\n",
       "      <td>172.0</td>\n",
       "      <td>1.18</td>\n",
       "      <td>2025-09-08</td>\n",
       "    </tr>\n",
       "  </tbody>\n",
       "</table>\n",
       "</div>"
      ],
      "text/plain": [
       "      name  price  today_low  today_high  year_low  year_high  percent  \\\n",
       "98     KTB   25.5      25.25        26.0      19.3       25.5     0.99   \n",
       "185  TISCO  102.5     101.50       103.0      95.0      102.5     0.99   \n",
       "92   KBANK  172.0     171.00       173.0     145.0      172.0     1.18   \n",
       "\n",
       "     updated_at  \n",
       "98   2025-09-08  \n",
       "185  2025-09-08  \n",
       "92   2025-09-08  "
      ]
     },
     "execution_count": 30,
     "metadata": {},
     "output_type": "execute_result"
    }
   ],
   "source": [
    "sorted_out_df.query('today_high > year_high')"
   ]
  },
  {
   "cell_type": "code",
   "execution_count": 31,
   "id": "290a9607",
   "metadata": {},
   "outputs": [
    {
     "data": {
      "text/html": [
       "<div>\n",
       "<style scoped>\n",
       "    .dataframe tbody tr th:only-of-type {\n",
       "        vertical-align: middle;\n",
       "    }\n",
       "\n",
       "    .dataframe tbody tr th {\n",
       "        vertical-align: top;\n",
       "    }\n",
       "\n",
       "    .dataframe thead th {\n",
       "        text-align: right;\n",
       "    }\n",
       "</style>\n",
       "<table border=\"1\" class=\"dataframe\">\n",
       "  <thead>\n",
       "    <tr style=\"text-align: right;\">\n",
       "      <th></th>\n",
       "      <th>name</th>\n",
       "      <th>price</th>\n",
       "      <th>today_low</th>\n",
       "      <th>today_high</th>\n",
       "      <th>year_low</th>\n",
       "      <th>year_high</th>\n",
       "      <th>percent</th>\n",
       "      <th>updated_at</th>\n",
       "    </tr>\n",
       "  </thead>\n",
       "  <tbody>\n",
       "    <tr>\n",
       "      <th>92</th>\n",
       "      <td>KBANK</td>\n",
       "      <td>172.0</td>\n",
       "      <td>171.00</td>\n",
       "      <td>173.0</td>\n",
       "      <td>145.0</td>\n",
       "      <td>172.0</td>\n",
       "      <td>1.18</td>\n",
       "      <td>2025-09-08</td>\n",
       "    </tr>\n",
       "    <tr>\n",
       "      <th>98</th>\n",
       "      <td>KTB</td>\n",
       "      <td>25.5</td>\n",
       "      <td>25.25</td>\n",
       "      <td>26.0</td>\n",
       "      <td>19.3</td>\n",
       "      <td>25.5</td>\n",
       "      <td>0.99</td>\n",
       "      <td>2025-09-08</td>\n",
       "    </tr>\n",
       "    <tr>\n",
       "      <th>185</th>\n",
       "      <td>TISCO</td>\n",
       "      <td>102.5</td>\n",
       "      <td>101.50</td>\n",
       "      <td>103.0</td>\n",
       "      <td>95.0</td>\n",
       "      <td>102.5</td>\n",
       "      <td>0.99</td>\n",
       "      <td>2025-09-08</td>\n",
       "    </tr>\n",
       "  </tbody>\n",
       "</table>\n",
       "</div>"
      ],
      "text/plain": [
       "      name  price  today_low  today_high  year_low  year_high  percent  \\\n",
       "92   KBANK  172.0     171.00       173.0     145.0      172.0     1.18   \n",
       "98     KTB   25.5      25.25        26.0      19.3       25.5     0.99   \n",
       "185  TISCO  102.5     101.50       103.0      95.0      102.5     0.99   \n",
       "\n",
       "     updated_at  \n",
       "92   2025-09-08  \n",
       "98   2025-09-08  \n",
       "185  2025-09-08  "
      ]
     },
     "execution_count": 31,
     "metadata": {},
     "output_type": "execute_result"
    }
   ],
   "source": [
    "out_df.query('today_high > year_high')"
   ]
  },
  {
   "cell_type": "code",
   "execution_count": 32,
   "id": "5fbeba56-2a63-4650-898b-6447a81f95f5",
   "metadata": {},
   "outputs": [],
   "source": [
    "file_name = \"Price-Hilo.csv\"\n",
    "output_file = os.path.join(dat_path, file_name)\n",
    "god_file = os.path.join(god_path, file_name)\n",
    "icd_file = os.path.join(icd_path, file_name)\n",
    "osd_file = os.path.join(osd_path, file_name)"
   ]
  },
  {
   "cell_type": "code",
   "execution_count": 33,
   "id": "da6183ac-2f05-4f67-b200-fe83634d29dc",
   "metadata": {},
   "outputs": [
    {
     "name": "stdout",
     "output_type": "stream",
     "text": [
      "output_file : C:\\Users\\PC1\\OneDrive\\A5\\Data\\Price-Hilo.csv\n",
      "icd_file : C:\\Users\\PC1\\iCloudDrive\\Data\\Price-Hilo.csv\n",
      "god_file : C:\\Users\\PC1\\OneDrive\\Imports\\santisoontarinka@gmail.com - Google Drive\\Data\\Price-Hilo.csv\n",
      "osd_file : C:\\Users\\PC1\\OneDrive\\Documents\\obsidian-git-sync\\Data\\Price-Hilo.csv\n"
     ]
    }
   ],
   "source": [
    "print(f\"output_file : {output_file}\") \n",
    "print(f\"icd_file : {icd_file}\") \n",
    "print(f\"god_file : {god_file}\") \n",
    "print(f\"osd_file : {osd_file}\") "
   ]
  },
  {
   "cell_type": "code",
   "execution_count": 34,
   "id": "8017b53b",
   "metadata": {},
   "outputs": [],
   "source": [
    "out_df.to_csv(output_file, index=False)  \n",
    "out_df.to_csv(god_file, index=False) \n",
    "out_df.to_csv(icd_file, index=False)  \n",
    "out_df.to_csv(osd_file, index=False) "
   ]
  },
  {
   "cell_type": "code",
   "execution_count": 35,
   "id": "80692fae-6308-4695-bcac-5124ce4d44e3",
   "metadata": {},
   "outputs": [
    {
     "name": "stdout",
     "output_type": "stream",
     "text": [
      "2025-09-08 20:26:16\n"
     ]
    }
   ],
   "source": [
    "# Get the current time\n",
    "current_time = datetime.now()\n",
    "# Format the time to remove milliseconds\n",
    "formatted_time = current_time.strftime(\"%Y-%m-%d %H:%M:%S\")\n",
    "print(formatted_time)"
   ]
  },
  {
   "cell_type": "code",
   "execution_count": null,
   "id": "ef2b1958-d5b3-4ae8-b179-6afa07dba2d0",
   "metadata": {},
   "outputs": [],
   "source": []
  }
 ],
 "metadata": {
  "kernelspec": {
   "display_name": "Python 3 (ipykernel)",
   "language": "python",
   "name": "python3"
  },
  "language_info": {
   "codemirror_mode": {
    "name": "ipython",
    "version": 3
   },
   "file_extension": ".py",
   "mimetype": "text/x-python",
   "name": "python",
   "nbconvert_exporter": "python",
   "pygments_lexer": "ipython3",
   "version": "3.12.3"
  }
 },
 "nbformat": 4,
 "nbformat_minor": 5
}
