{
 "cells": [
  {
   "cell_type": "markdown",
   "id": "930356c6",
   "metadata": {},
   "source": [
    "### Start and Run All"
   ]
  },
  {
   "cell_type": "code",
   "execution_count": 2,
   "id": "d7cfc693",
   "metadata": {},
   "outputs": [
    {
     "data": {
      "text/plain": [
       "datetime.datetime(2025, 1, 24, 20, 58, 30, 442497)"
      ]
     },
     "execution_count": 2,
     "metadata": {},
     "output_type": "execute_result"
    }
   ],
   "source": [
    "import os\n",
    "import pandas as pd\n",
    "from urllib import request\n",
    "from bs4 import BeautifulSoup\n",
    "# from datetime import date, timedelta\n",
    "from datetime import datetime\n",
    "from time import sleep, strftime\n",
    "current_time = datetime.now()\n",
    "current_time"
   ]
  },
  {
   "cell_type": "code",
   "execution_count": 3,
   "id": "0cbdda38-ec42-4470-bede-c468ba46f8d8",
   "metadata": {},
   "outputs": [],
   "source": [
    "url = \"https://www.set.or.th/en/market/product/stock/quote/\"\n",
    "percent_span = '' "
   ]
  },
  {
   "cell_type": "code",
   "execution_count": 4,
   "id": "6e4b7508-0071-480d-99c8-a6c070027294",
   "metadata": {},
   "outputs": [],
   "source": [
    "# Get the user's home directory\n",
    "user_path = os.path.expanduser('~')\n",
    "# Get the current working directory\n",
    "current_path = os.getcwd()\n",
    "# Derive the base directory (base_dir) by removing the last folder ('Daily')\n",
    "base_path = os.path.dirname(current_path)\n",
    "#C:\\Users\\PC1\\OneDrive\\A5\\Data\n",
    "dat_path = os.path.join(base_path, \"Data\")\n",
    "#C:\\Users\\PC1\\OneDrive\\Imports\\santisoontarinka@gmail.com - Google Drive\\Data>\n",
    "god_path = os.path.join(user_path, \"OneDrive\",\"Imports\",\"santisoontarinka@gmail.com - Google Drive\",\"Data\")\n",
    "#C:\\Users\\PC1\\iCloudDrive\\data\n",
    "icd_path = os.path.join(user_path, \"iCloudDrive\", \"Data\")\n",
    "#C:\\Users\\PC1\\OneDrive\\Documents\\obsidian-git-sync\\Data\n",
    "osd_path = os.path.join(user_path, \"OneDrive\",\"Documents\",\"obsidian-git-sync\",\"Data\")"
   ]
  },
  {
   "cell_type": "code",
   "execution_count": 23,
   "id": "07defeb3-a742-4e64-8089-7e4fe5b8b93c",
   "metadata": {},
   "outputs": [
    {
     "name": "stdout",
     "output_type": "stream",
     "text": [
      "User path: C:\\Users\\PC1\n",
      "Current path: C:\\Users\\PC1\\OneDrive\\A5\\Daily\n",
      "Base path: C:\\Users\\PC1\\OneDrive\\A5\n",
      "Data path : C:\\Users\\PC1\\OneDrive\\A5\\Data\n",
      "Google Drive path : C:\\Users\\PC1\\OneDrive\\Imports\\santisoontarinka@gmail.com - Google Drive\\Data\n",
      "iCloudDrive path : C:\\Users\\PC1\\iCloudDrive\\Data\n",
      "Obsidian path : C:\\Users\\PC1\\OneDrive\\Documents\\obsidian-git-sync\\Data\n"
     ]
    }
   ],
   "source": [
    "print(\"User path:\", user_path)\n",
    "print(f\"Current path: {current_path}\")\n",
    "print(f\"Base path: {base_path}\")\n",
    "print(f\"Data path : {dat_path}\") \n",
    "print(f\"Google Drive path : {god_path}\")\n",
    "print(f\"iCloudDrive path : {icd_path}\") \n",
    "print(f\"Obsidian path : {osd_path}\") "
   ]
  },
  {
   "cell_type": "code",
   "execution_count": 6,
   "id": "08576879-dc60-431b-a31a-e1893e2d7922",
   "metadata": {},
   "outputs": [
    {
     "name": "stdout",
     "output_type": "stream",
     "text": [
      "Input file : C:\\Users\\PC1\\OneDrive\\A5\\Data\\name-ttl.csv\n"
     ]
    }
   ],
   "source": [
    "file_name = \"name-ttl.csv\"\n",
    "input_file = os.path.join(dat_path, file_name)\n",
    "print(f\"Input file : {input_file}\") "
   ]
  },
  {
   "cell_type": "code",
   "execution_count": 7,
   "id": "9b9668db-0773-4de5-9bd4-864c377dab80",
   "metadata": {},
   "outputs": [],
   "source": [
    "file_name = \"price-hilo.csv\"\n",
    "output_file = os.path.join(dat_path, file_name)\n",
    "god_file = os.path.join(god_path, file_name)\n",
    "icd_file = os.path.join(icd_path, file_name)\n",
    "osd_file = os.path.join(osd_path, file_name)"
   ]
  },
  {
   "cell_type": "code",
   "execution_count": 8,
   "id": "66c38ef5-8643-4ad3-81ff-9e2275d426d5",
   "metadata": {},
   "outputs": [
    {
     "name": "stdout",
     "output_type": "stream",
     "text": [
      "Output file : C:\\Users\\PC1\\OneDrive\\A5\\Data\\price-hilo.csv\n",
      "icd_file : C:\\Users\\PC1\\iCloudDrive\\Data\\price-hilo.csv\n",
      "god_file : C:\\Users\\PC1\\OneDrive\\Imports\\santisoontarinka@gmail.com - Google Drive\\Data\\price-hilo.csv\n",
      "osd_file : C:\\Users\\PC1\\OneDrive\\Documents\\obsidian-git-sync\\Data\\price-hilo.csv\n"
     ]
    }
   ],
   "source": [
    "print(f\"Output file : {output_file}\") \n",
    "print(f\"icd_file : {icd_file}\") \n",
    "print(f\"god_file : {god_file}\") \n",
    "print(f\"osd_file : {osd_file}\")"
   ]
  },
  {
   "cell_type": "code",
   "execution_count": 9,
   "id": "c1ec2693",
   "metadata": {},
   "outputs": [],
   "source": [
    "def cvt_str_to_flt(input_str):\n",
    "    # Check for the special pattern and return 0\n",
    "    if input_str == '(-)':\n",
    "        return 0\n",
    "    \n",
    "    # Remove parentheses and percent sign\n",
    "    cleaned_str = input_str.replace('(', '').replace(')', '').replace('%', '')\n",
    "\n",
    "    # Convert to float\n",
    "    try:\n",
    "        return float(cleaned_str)\n",
    "    except ValueError:\n",
    "        # Handle the case where the conversion fails\n",
    "        return None\n",
    " "
   ]
  },
  {
   "cell_type": "code",
   "execution_count": 10,
   "id": "334bed1f",
   "metadata": {},
   "outputs": [],
   "source": [
    "def get_stock_data(in_df):\n",
    "\n",
    "    in_df.columns = ['name']\n",
    "    \n",
    "    output_columns = ['name', 'price', 'today_low', 'today_high', 'year_low', 'year_high', 'percent', 'updated_at']\n",
    "    # Initialize an empty DataFrame with specified columns\n",
    "    out_df = pd.DataFrame(columns=output_columns)\n",
    "    \n",
    "    for index, row in in_df.iterrows():\n",
    "        name = str(row['name']).upper()\n",
    "        response = request.urlopen(url + name + '/price')\n",
    "        html_page = BeautifulSoup(response, 'html.parser')\n",
    "        \n",
    "  #      price = html_page.find('div', class_='value text-white mb-0 me-2 lh-1 stock-info').text.strip()        \n",
    "  #      if (price == '-'):\n",
    "  #          price = '0.00'        \n",
    "\n",
    "        price_div = html_page.find('div', class_='value text-white mb-0 me-2 lh-1 stock-info')\n",
    "        if price_div:\n",
    "            price = price_div.text.strip()\n",
    "        else:\n",
    "            print(f\"Price div not found for {name}\")\n",
    "            price = '0.00'     \n",
    "            \n",
    "        # Try to find the <h3> tag with the class 'theme-success'\n",
    "        h3_tag = html_page.find('h3', class_='theme-success')\n",
    "        if h3_tag:\n",
    "        # Find all <span> tags within the found <h3> tag\n",
    "            span_tags = h3_tag.find_all('span')\n",
    "    \n",
    "            if len(span_tags) > 1:\n",
    "                # Extract the text from the second <span> tag\n",
    "                percent_span = span_tags[1].text\n",
    "                # print(percent_span)\n",
    "                \n",
    "        # Try to find the <h3> tag with the class 'theme-danger'\n",
    "        h3_tag = html_page.find('h3', class_='theme-danger')\n",
    "        if h3_tag:\n",
    "        # Find all <span> tags within the found <h3> tag\n",
    "            span_tags = h3_tag.find_all('span')\n",
    "    \n",
    "            if len(span_tags) > 1:\n",
    "                # Extract the text from the second <span> tag\n",
    "                percent_span = span_tags[1].text\n",
    "                # print(percent_span)    \n",
    "                \n",
    "        # Try to find the <h3> tag with the class 'theme-danger'\n",
    "        h3_tag = html_page.find('h3', class_='theme-normal')\n",
    "        if h3_tag:\n",
    "        # Find all <span> tags within the found <h3> tag\n",
    "            span_tags = h3_tag.find_all('span')\n",
    "    \n",
    "            if len(span_tags) > 1:\n",
    "                # Extract the text from the second <span> tag\n",
    "                percent_span = span_tags[1].text\n",
    "                # print(percent_span)   \n",
    "                \n",
    "        percent = cvt_str_to_flt(percent_span)\n",
    "                \n",
    "        values_low = html_page.find_all('span', class_='title-font-family fs-16px fw-bolder me-auto lh-1')\n",
    "        today_low = values_low[0].text\n",
    "        if (today_low == '-'):\n",
    "            today_low = '0.00'\n",
    "        \n",
    "        values_high = html_page.find_all('span', class_='title-font-family fs-16px fw-bolder lh-1')\n",
    "        today_high = values_high[0].text\n",
    "        if (today_high == '-'):\n",
    "            today_high = '0.00'         \n",
    "        \n",
    "        year_low = values_low[1].text        \n",
    "        year_high = values_high[1].text     \n",
    "        \n",
    "        # Find the div with the specific class, then find the span within it\n",
    "        div = html_page.find('div', class_='price-detail-date d-flex align-items-center text-nowrap fs-12px')\n",
    "        if div:\n",
    "            span = div.find('span')\n",
    "            if span:\n",
    "                text = span.get_text()\n",
    "#                 print(text)\n",
    "            else:\n",
    "                print(\"Span not found\")\n",
    "        else:\n",
    "            print(\"Div not found\")\n",
    "            \n",
    "        # Extract the date part from the string\n",
    "        # Assuming the date is always in the format 'dd Mon yyyy'\n",
    "        date_str = ' '.join(text.split()[2:5])\n",
    "\n",
    "        # Parse the date string into a datetime object\n",
    "        date_obj = datetime.strptime(date_str, '%d %b %Y')\n",
    "\n",
    "        # Format the datetime object to 'yyyy-mm-dd'\n",
    "        updated_at = date_obj.strftime('%Y-%m-%d')\n",
    "\n",
    "#         print(updated_at)\n",
    "        \n",
    "        # Append row to the DataFrame and print the row\n",
    "        out_df.loc[len(out_df)] = [name, price, today_low, today_high, year_low, year_high, percent, updated_at]\n",
    "#       print(out_df.iloc[-1].to_string(header=False, index=False)) \n",
    "        print(','.join(map(str, out_df.iloc[-1])))\n",
    "        sleep(1)\n",
    "        \n",
    "    return out_df  # return the final dataframe with all values populated"
   ]
  },
  {
   "cell_type": "code",
   "execution_count": 11,
   "id": "94abc8d4",
   "metadata": {},
   "outputs": [
    {
     "name": "stdout",
     "output_type": "stream",
     "text": [
      "Start at:  08:58 PM\n"
     ]
    }
   ],
   "source": [
    "start_time = strftime(\"%I:%M %p\")\n",
    "print('Start at: ', start_time)"
   ]
  },
  {
   "cell_type": "code",
   "execution_count": 12,
   "id": "23b565ec",
   "metadata": {},
   "outputs": [
    {
     "name": "stdout",
     "output_type": "stream",
     "text": [
      "ACE,1.25,1.25,1.27,1.25,1.60,-0.79,2025-01-24\n",
      "ADVANC,287.00,284.00,287.00,193.00,299.00,1.41,2025-01-24\n",
      "AEONTS,115.50,114.50,116.50,107.00,168.50,1.76,2025-01-24\n",
      "AH,13.80,13.70,14.00,13.90,29.50,-2.13,2025-01-24\n",
      "AIE,0.85,0.77,0.90,0.74,1.51,8.97,2025-01-24\n",
      "AIMIRT,10.50,10.40,10.50,10.20,11.20,0.96,2025-01-24\n",
      "AIT,4.38,4.26,4.38,3.62,5.05,2.82,2025-01-24\n",
      "AJ,2.80,2.50,3.18,2.36,7.15,12.9,2025-01-24\n",
      "AMATA,26.25,25.50,27.00,20.10,31.00,-1.87,2025-01-24\n",
      "ANAN,0.51,0.50,0.52,0.48,1.03,2.0,2025-01-24\n",
      "AOT,56.25,56.00,57.50,55.00,67.50,-1.32,2025-01-24\n",
      "AP,7.80,7.75,7.80,7.50,11.20,0.65,2025-01-24\n",
      "ASIAN,7.85,7.70,7.90,6.35,11.20,1.29,2025-01-24\n",
      "ASK,8.85,8.75,8.85,8.40,20.30,1.72,2025-01-24\n",
      "ASP,2.32,2.32,2.34,2.12,2.88,0.0,2025-01-24\n",
      "ASW,7.80,7.75,7.85,7.35,8.45,-0.64,2025-01-24\n",
      "AWC,3.12,3.08,3.14,2.88,4.58,1.3,2025-01-24\n",
      "BA,19.00,18.70,19.20,14.30,26.00,0.0,2025-01-24\n",
      "BAM,5.75,5.60,5.80,5.35,10.40,1.77,2025-01-24\n",
      "BANPU,5.30,5.15,5.35,4.38,7.50,2.91,2025-01-24\n",
      "BAY,23.80,23.80,24.00,22.20,29.00,0.0,2025-01-24\n",
      "BBL,152.50,152.50,155.50,129.00,159.50,-0.97,2025-01-24\n",
      "BCH,15.00,14.90,15.10,14.10,23.80,0.0,2025-01-24\n",
      "BCP,35.50,34.00,35.75,26.50,47.50,4.41,2025-01-24\n",
      "BCPG,6.65,6.60,6.75,5.05,8.45,0.76,2025-01-24\n",
      "BCT,-,0.00,0.00,53.00,76.75,0.0,2025-01-24\n",
      "BDMS,23.60,23.30,23.70,23.10,31.25,-0.42,2025-01-24\n",
      "BE8,13.80,13.30,13.80,10.60,30.25,2.22,2025-01-24\n",
      "BEAUTY,0.28,0.28,0.29,0.27,0.84,0.0,2025-01-24\n",
      "BEC,4.22,4.08,4.22,3.50,5.25,3.94,2025-01-24\n",
      "BEM,6.65,6.55,6.65,6.60,8.45,0.0,2025-01-24\n",
      "BGC,6.80,6.65,6.85,5.90,7.90,0.0,2025-01-24\n",
      "BGRIM,15.70,15.50,15.80,14.30,30.00,0.64,2025-01-24\n",
      "BH,186.00,185.00,188.00,184.50,284.00,-1.59,2025-01-24\n",
      "BJC,22.10,21.80,22.20,19.20,26.25,-0.45,2025-01-24\n",
      "BKIH,284.00,283.00,285.00,279.00,316.00,-0.35,2025-01-24\n",
      "BLA,18.80,18.70,19.00,16.30,25.75,1.08,2025-01-24\n",
      "BLAND,0.51,0.50,0.52,0.51,0.76,-1.92,2025-01-24\n",
      "BPP,8.90,8.60,8.90,8.60,15.20,2.3,2025-01-24\n",
      "BTS,6.15,5.80,6.15,3.72,6.90,5.13,2025-01-24\n",
      "BTSGIF,2.96,2.94,2.96,2.92,3.70,0.68,2025-01-24\n",
      "CBG,79.50,79.00,80.25,61.25,82.00,0.0,2025-01-24\n",
      "CENTEL,30.50,29.75,30.75,28.00,46.50,3.39,2025-01-24\n",
      "CHG,2.28,2.26,2.34,2.12,3.22,0.0,2025-01-24\n",
      "CK,16.70,16.60,16.80,16.30,24.60,-0.6,2025-01-24\n",
      "CKP,2.96,2.92,2.98,2.86,4.28,0.68,2025-01-24\n",
      "COM7,22.80,22.70,23.00,16.40,28.25,0.88,2025-01-24\n",
      "CPALL,55.50,54.75,55.50,51.50,68.00,0.45,2025-01-24\n",
      "CPF,22.20,21.70,22.30,17.00,26.00,3.26,2025-01-24\n",
      "CPN,53.50,52.75,54.00,52.25,68.75,1.9,2025-01-24\n",
      "CPNCG,6.20,6.20,6.25,5.30,7.15,-0.8,2025-01-24\n",
      "CPNREIT,12.20,12.10,12.30,9.90,13.60,0.0,2025-01-24\n",
      "CRC,34.25,33.75,34.50,24.20,37.75,1.48,2025-01-24\n",
      "DCC,1.61,1.59,1.62,1.56,2.16,1.26,2025-01-24\n",
      "DCON,0.29,0.29,0.30,0.29,0.55,0.0,2025-01-24\n",
      "DELTA,147.00,144.50,148.00,63.25,173.50,0.34,2025-01-24\n",
      "DIF,8.40,8.35,8.45,7.45,9.85,0.0,2025-01-24\n",
      "DOHOME,8.25,8.25,8.35,8.05,12.60,0.0,2025-01-24\n",
      "DRT,7.45,7.45,7.50,7.35,8.45,0.0,2025-01-24\n",
      "EA,2.94,2.92,3.00,2.14,28.66,1.38,2025-01-24\n",
      "EASTW,2.26,2.16,2.26,2.02,4.14,4.63,2025-01-24\n",
      "ECL,0.85,0.84,0.85,0.67,1.51,2.41,2025-01-24\n",
      "EGATIF,5.95,5.90,6.00,5.75,6.40,0.0,2025-01-24\n",
      "EGCO,115.00,113.00,115.00,94.50,135.00,1.32,2025-01-24\n",
      "EPG,3.62,3.54,3.64,3.52,8.00,1.69,2025-01-24\n",
      "FORTH,9.30,9.20,9.50,8.80,19.00,0.0,2025-01-24\n",
      "FPT,8.80,8.80,9.00,9.00,15.40,-2.22,2025-01-24\n",
      "FSMART,7.25,6.90,7.25,4.60,9.15,4.32,2025-01-24\n",
      "FTREIT,10.10,10.10,10.20,7.80,11.30,0.0,2025-01-24\n",
      "GC,4.94,4.90,4.94,4.72,5.55,0.0,2025-01-24\n",
      "GFPT,9.70,9.50,9.70,9.50,13.40,1.04,2025-01-24\n",
      "GGC,4.12,3.92,4.46,3.94,9.35,4.57,2025-01-24\n",
      "GLOBAL,11.80,11.70,12.00,11.70,17.40,0.0,2025-01-24\n",
      "GPSC,32.50,32.00,32.75,30.00,56.50,1.56,2025-01-24\n",
      "GRAMMY,8.00,7.75,8.00,3.90,8.90,0.0,2025-01-24\n",
      "GULF,60.50,59.75,60.75,37.00,70.75,1.26,2025-01-24\n",
      "GUNKUL,2.12,2.04,2.12,1.94,3.18,4.95,2025-01-24\n",
      "GVREIT,6.55,6.50,6.55,4.98,7.15,0.77,2025-01-24\n",
      "HANA,24.50,24.10,24.60,22.50,51.50,2.08,2025-01-24\n",
      "HFT,4.30,4.24,4.30,3.92,4.82,0.94,2025-01-24\n",
      "HMPRO,8.90,8.70,8.95,7.65,11.60,2.89,2025-01-24\n",
      "HTC,16.00,15.90,16.20,15.00,18.20,-0.62,2025-01-24\n",
      "ICHI,13.00,12.80,13.30,13.10,18.80,-2.26,2025-01-24\n",
      "III,5.05,5.05,5.40,4.64,10.20,0.0,2025-01-24\n",
      "ILM,15.40,15.20,15.40,14.70,22.60,0.0,2025-01-24\n",
      "IMH,4.46,4.44,4.46,4.04,7.95,0.45,2025-01-24\n",
      "IMPACT,10.60,10.50,10.60,9.15,12.80,0.95,2025-01-24\n",
      "INOX,0.46,0.45,0.48,0.40,0.67,-4.17,2025-01-24\n",
      "INTUCH,99.50,99.00,100.50,65.25,114.50,0.51,2025-01-24\n",
      "IP,2.84,2.84,2.98,2.82,7.30,-1.39,2025-01-24\n",
      "IRPC,1.17,1.13,1.18,1.10,2.06,3.54,2025-01-24\n",
      "IVL,23.70,22.80,23.90,16.00,27.50,4.87,2025-01-24\n",
      "3BBIF,5.20,5.10,5.20,5.00,6.75,0.97,2025-01-24\n",
      "JMART,11.30,11.20,11.50,9.10,17.70,0.89,2025-01-24\n",
      "JMT,15.40,15.10,15.50,9.90,25.25,2.67,2025-01-24\n",
      "KBANK,158.50,158.00,161.00,118.50,163.50,-0.31,2025-01-24\n",
      "KCE,23.10,22.80,23.20,21.30,48.25,1.76,2025-01-24\n",
      "KEX,1.40,1.38,1.47,1.39,6.50,-2.78,2025-01-24\n",
      "KGI,4.20,4.18,4.20,3.98,4.90,0.0,2025-01-24\n",
      "KKP,53.50,53.00,53.75,37.00,55.50,0.94,2025-01-24\n",
      "KSL,1.79,1.79,1.80,1.65,2.68,0.0,2025-01-24\n",
      "KTB,22.60,22.60,23.00,15.40,23.10,-0.44,2025-01-24\n",
      "KTC,51.50,50.75,52.00,37.00,52.00,0.98,2025-01-24\n",
      "KYE,286.00,284.00,286.00,280.00,342.00,0.7,2025-01-24\n",
      "LALIN,5.75,5.70,5.80,5.65,8.05,-0.86,2025-01-24\n",
      "LANNA,16.40,16.00,16.40,13.60,17.50,0.0,2025-01-24\n",
      "LH,4.80,4.72,4.80,4.58,7.80,1.27,2025-01-24\n",
      "LHFG,0.74,0.73,0.75,0.71,1.04,1.37,2025-01-24\n",
      "LHK,3.52,3.50,3.52,3.42,4.40,0.0,2025-01-24\n",
      "LIT,0.62,0.61,0.63,0.55,1.55,1.64,2025-01-24\n",
      "LPH,4.26,4.20,4.26,4.24,4.98,-0.47,2025-01-24\n",
      "LPN,2.16,2.14,2.22,2.06,3.86,0.93,2025-01-24\n",
      "M,18.60,18.20,18.70,18.20,39.50,1.64,2025-01-24\n",
      "MAJOR,14.20,14.10,14.30,11.70,16.00,-0.7,2025-01-24\n",
      "MBAX,1.83,1.80,1.84,1.72,3.48,0.55,2025-01-24\n",
      "MC,10.00,9.95,10.10,9.65,14.90,-0.99,2025-01-24\n",
      "MCS,6.35,6.30,6.35,6.10,8.20,0.79,2025-01-24\n",
      "MEGA,33.00,32.75,33.00,32.00,44.25,0.0,2025-01-24\n",
      "MINT,23.90,23.60,24.10,23.10,34.00,0.42,2025-01-24\n",
      "MST,-,0.00,0.00,8.75,11.00,0.0,2025-01-24\n",
      "MTC,43.50,43.50,44.25,37.50,54.00,-0.57,2025-01-24\n",
      "NER,4.94,4.90,4.98,4.48,6.45,0.41,2025-01-24\n",
      "NOBLE,2.36,2.32,2.38,2.32,4.10,0.0,2025-01-24\n",
      "ONEE,3.74,3.66,3.74,3.02,5.35,2.19,2025-01-24\n",
      "OR,11.60,11.50,11.70,11.40,19.00,0.87,2025-01-24\n",
      "ORI,3.42,3.40,3.46,3.32,8.65,0.59,2025-01-24\n",
      "OSP,20.70,20.30,20.80,18.30,25.00,-0.48,2025-01-24\n",
      "PAP,1.84,1.80,1.87,1.46,2.96,0.55,2025-01-24\n",
      "PCSGH,3.38,3.30,3.46,3.26,5.30,1.2,2025-01-24\n",
      "PDG,2.56,2.56,2.60,2.30,2.82,-1.54,2025-01-24\n",
      "PLANB,6.95,6.90,7.10,6.40,9.20,0.72,2025-01-24\n",
      "POPF,6.35,6.30,6.40,5.35,6.70,0.0,2025-01-24\n",
      "PREB,4.28,4.26,4.28,4.00,6.60,0.47,2025-01-24\n",
      "PRM,7.35,7.20,7.40,5.40,9.30,0.68,2025-01-24\n",
      "PSH,6.75,6.65,6.75,6.45,12.60,1.5,2025-01-24\n",
      "PSL,6.20,6.10,6.25,6.10,11.20,0.81,2025-01-24\n",
      "PTG,7.60,7.45,7.60,7.45,10.70,1.33,2025-01-24\n",
      "PTL,10.50,10.30,10.70,9.15,14.40,1.94,2025-01-24\n",
      "PTT,30.75,30.50,31.00,30.00,36.25,0.82,2025-01-24\n",
      "PTTEP,122.50,120.50,123.00,116.00,164.50,1.24,2025-01-24\n",
      "PTTGC,22.40,20.90,22.40,20.60,41.25,8.21,2025-01-24\n",
      "QH,1.73,1.72,1.73,1.59,2.30,0.58,2025-01-24\n",
      "RATCH,29.25,28.25,29.25,25.25,34.25,3.54,2025-01-24\n",
      "RBF,5.60,5.40,5.75,5.00,13.30,-0.88,2025-01-24\n",
      "RCL,25.00,24.80,25.25,16.20,31.75,0.4,2025-01-24\n",
      "RJH,19.80,19.40,19.80,18.70,27.25,1.54,2025-01-24\n",
      "ROJNA,5.90,5.80,6.00,5.05,8.05,0.0,2025-01-24\n",
      "RS,1.22,1.22,1.26,1.12,7.35,0.83,2025-01-24\n",
      "S11,2.10,1.98,2.10,1.68,3.90,6.06,2025-01-24\n",
      "SABUY,0.56,0.55,0.57,0.38,5.50,0.0,2025-01-24\n",
      "SAPPE,59.00,58.00,59.50,57.75,107.50,-0.42,2025-01-24\n",
      "SAT,10.50,10.30,10.60,10.00,18.90,1.94,2025-01-24\n",
      "SAWAD,38.75,38.25,39.25,27.25,45.50,0.0,2025-01-24\n",
      "SC,2.68,2.60,2.68,2.30,4.00,2.29,2025-01-24\n",
      "SCB,123.00,122.50,124.50,100.00,125.00,0.41,2025-01-24\n",
      "SCC,156.00,151.00,156.00,150.00,278.00,4.0,2025-01-24\n",
      "SCCC,161.00,161.00,161.50,127.50,177.50,0.0,2025-01-24\n",
      "SCGP,16.70,16.40,16.90,16.40,35.25,1.83,2025-01-24\n",
      "SENA,2.20,2.18,2.20,2.16,3.02,0.0,2025-01-24\n",
      "SGP,7.25,7.25,7.40,6.55,8.45,2.11,2025-01-24\n",
      "SINGER,7.10,6.95,7.10,6.35,12.70,3.65,2025-01-24\n",
      "SIRI,1.71,1.70,1.72,1.51,1.94,0.0,2025-01-24\n",
      "SIS,27.75,26.00,27.75,20.80,31.25,5.71,2025-01-24\n",
      "SJWD,8.85,8.80,9.00,8.80,16.70,0.57,2025-01-24\n",
      "SKN,5.35,5.30,5.35,4.04,6.40,0.94,2025-01-24\n",
      "SKR,8.70,8.55,8.70,8.55,10.70,0.58,2025-01-24\n",
      "SMPC,9.40,9.35,9.40,6.45,10.10,0.53,2025-01-24\n",
      "SNC,5.30,5.25,5.35,4.72,8.85,0.0,2025-01-24\n",
      "SPALI,16.80,16.60,17.00,14.80,21.60,0.0,2025-01-24\n",
      "SPC,57.75,57.50,57.75,57.00,63.75,0.43,2025-01-24\n",
      "SPCG,8.05,8.00,8.05,7.95,12.70,0.63,2025-01-24\n",
      "SPRC,5.60,5.50,5.65,5.45,9.40,0.9,2025-01-24\n",
      "SPRIME,4.20,4.18,4.20,3.66,4.84,0.48,2025-01-24\n",
      "SSP,5.35,5.15,5.40,5.10,8.50,1.9,2025-01-24\n",
      "STA,16.60,16.50,16.80,15.40,25.75,0.0,2025-01-24\n",
      "STANLY,218.00,217.00,218.00,198.50,233.00,0.0,2025-01-24\n",
      "STGT,8.85,8.85,9.00,6.70,13.30,-1.67,2025-01-24\n",
      "SUPER,0.22,0.22,0.23,0.21,0.43,0.0,2025-01-24\n",
      "SUPEREIF,6.25,6.20,6.30,5.60,7.05,0.81,2025-01-24\n",
      "SVI,6.85,6.80,7.00,5.95,9.40,-0.72,2025-01-24\n",
      "SYNEX,13.20,13.10,13.40,9.70,16.70,0.0,2025-01-24\n",
      "TASCO,18.20,18.10,18.30,15.40,20.00,0.55,2025-01-24\n",
      "TCAP,49.75,49.75,50.25,43.25,53.50,0.0,2025-01-24\n",
      "TFFIF,6.40,6.25,6.40,6.00,7.20,1.59,2025-01-24\n",
      "TFG,3.30,3.26,3.36,3.20,4.84,0.0,2025-01-24\n",
      "THANI,1.32,1.32,1.38,1.27,2.50,-2.94,2025-01-24\n",
      "THG,14.60,13.40,14.80,12.40,49.25,8.15,2025-01-24\n",
      "TIDLOR,16.80,16.40,16.80,12.50,22.56,1.82,2025-01-24\n",
      "TIPH,20.20,20.10,20.20,19.90,32.25,0.5,2025-01-24\n",
      "TIPCO,10.10,10.10,10.10,9.30,10.60,0.0,2025-01-24\n",
      "TISCO,98.50,98.00,98.75,90.00,101.50,0.51,2025-01-24\n",
      "TK,3.92,3.88,3.92,3.82,5.75,0.51,2025-01-24\n",
      "TKN,8.90,8.65,8.90,7.70,12.30,2.3,2025-01-24\n",
      "TKS,5.50,5.45,5.55,5.20,9.00,0.0,2025-01-24\n",
      "TMT,3.20,3.16,3.26,2.94,6.05,0.0,2025-01-24\n",
      "TMW,59.25,58.00,59.25,44.75,66.75,2.16,2025-01-24\n",
      "TOA,13.30,13.00,13.40,12.40,26.00,1.53,2025-01-24\n",
      "TOP,27.00,25.50,27.00,24.50,60.75,5.88,2025-01-24\n",
      "TPIPL,1.00,1.00,1.01,0.98,1.45,0.0,2025-01-24\n",
      "TPIPP,2.96,2.94,2.96,2.70,3.42,0.0,2025-01-24\n",
      "TQM,19.20,19.10,19.50,18.80,33.25,-0.52,2025-01-24\n",
      "TRUE,11.80,11.60,11.90,5.50,12.40,1.72,2025-01-24\n",
      "TSE,0.72,0.71,0.72,0.69,2.10,-1.37,2025-01-24\n",
      "TSTH,0.60,0.57,0.60,0.47,0.90,1.69,2025-01-24\n",
      "TTA,4.70,4.60,4.70,4.56,8.50,1.29,2025-01-24\n",
      "TTB,1.87,1.86,1.90,1.59,2.06,0.0,2025-01-24\n",
      "TTLPF,14.20,14.10,14.20,13.20,20.30,0.0,2025-01-24\n",
      "TTW,8.95,8.90,8.95,8.50,10.10,0.56,2025-01-24\n",
      "TU,11.60,11.30,11.60,11.20,16.00,2.65,2025-01-24\n",
      "TVO,21.40,21.10,21.50,18.60,25.25,1.9,2025-01-24\n",
      "TYCN,1.83,1.83,1.83,1.82,2.78,0.0,2025-01-24\n",
      "UTP,7.70,7.60,7.70,7.30,12.00,1.32,2025-01-24\n",
      "VGI,3.42,3.28,3.46,1.20,3.68,4.27,2025-01-24\n",
      "VIBHA,1.88,1.86,1.89,1.72,2.34,0.53,2025-01-24\n",
      "VNG,2.98,2.90,2.98,2.90,3.92,0.0,2025-01-24\n",
      "WHA,4.90,4.88,5.05,4.50,6.20,-2.0,2025-01-24\n",
      "WHAIR,6.45,6.40,6.50,5.20,6.75,0.0,2025-01-24\n",
      "WHART,10.30,10.10,10.30,7.65,10.80,0.98,2025-01-24\n",
      "WHAUP,4.00,3.94,4.02,3.78,5.50,1.01,2025-01-24\n",
      "WICE,3.66,3.52,3.96,3.44,7.55,4.57,2025-01-24\n",
      "WORK,5.20,5.00,5.20,5.20,11.10,-0.95,2025-01-24\n"
     ]
    }
   ],
   "source": [
    "df = pd.read_csv(input_file, header=None)\n",
    "out_df = get_stock_data(df)"
   ]
  },
  {
   "cell_type": "code",
   "execution_count": 25,
   "id": "d31edacf",
   "metadata": {},
   "outputs": [
    {
     "name": "stdout",
     "output_type": "stream",
     "text": [
      "End at:  09:05 PM\n"
     ]
    }
   ],
   "source": [
    "end_time = strftime(\"%I:%M %p\")\n",
    "print('End at: ', end_time)"
   ]
  },
  {
   "cell_type": "code",
   "execution_count": 27,
   "id": "b89c4ae7",
   "metadata": {},
   "outputs": [
    {
     "data": {
      "text/html": [
       "<div>\n",
       "<style scoped>\n",
       "    .dataframe tbody tr th:only-of-type {\n",
       "        vertical-align: middle;\n",
       "    }\n",
       "\n",
       "    .dataframe tbody tr th {\n",
       "        vertical-align: top;\n",
       "    }\n",
       "\n",
       "    .dataframe thead th {\n",
       "        text-align: right;\n",
       "    }\n",
       "</style>\n",
       "<table border=\"1\" class=\"dataframe\">\n",
       "  <thead>\n",
       "    <tr style=\"text-align: right;\">\n",
       "      <th></th>\n",
       "      <th>name</th>\n",
       "      <th>price</th>\n",
       "      <th>today_low</th>\n",
       "      <th>today_high</th>\n",
       "      <th>year_low</th>\n",
       "      <th>year_high</th>\n",
       "      <th>percent</th>\n",
       "      <th>updated_at</th>\n",
       "    </tr>\n",
       "  </thead>\n",
       "  <tbody>\n",
       "    <tr>\n",
       "      <th>119</th>\n",
       "      <td>MST</td>\n",
       "      <td>-</td>\n",
       "      <td>0.00</td>\n",
       "      <td>0.00</td>\n",
       "      <td>8.75</td>\n",
       "      <td>11.00</td>\n",
       "      <td>0.0</td>\n",
       "      <td>2025-01-24</td>\n",
       "    </tr>\n",
       "  </tbody>\n",
       "</table>\n",
       "</div>"
      ],
      "text/plain": [
       "    name price today_low today_high year_low year_high  percent  updated_at\n",
       "119  MST     -      0.00       0.00     8.75     11.00      0.0  2025-01-24"
      ]
     },
     "execution_count": 27,
     "metadata": {},
     "output_type": "execute_result"
    }
   ],
   "source": [
    "out_df.query('price == \"-\"')"
   ]
  },
  {
   "cell_type": "code",
   "execution_count": 15,
   "id": "784f1b6d",
   "metadata": {},
   "outputs": [
    {
     "data": {
      "text/plain": [
       "(221, 8)"
      ]
     },
     "execution_count": 15,
     "metadata": {},
     "output_type": "execute_result"
    }
   ],
   "source": [
    "out_df.shape"
   ]
  },
  {
   "cell_type": "code",
   "execution_count": 16,
   "id": "6326d0c5",
   "metadata": {},
   "outputs": [],
   "source": [
    "out_df = out_df[out_df['name'] != 'BCT']"
   ]
  },
  {
   "cell_type": "code",
   "execution_count": 17,
   "id": "2a293f55-436e-45d1-9966-50d12c26e659",
   "metadata": {},
   "outputs": [],
   "source": [
    "out_df = out_df[out_df['name'] != 'LPF']"
   ]
  },
  {
   "cell_type": "code",
   "execution_count": 18,
   "id": "cc4b3547-5ea9-4ac6-bd11-896e67d464ed",
   "metadata": {},
   "outputs": [],
   "source": [
    "out_df = out_df[out_df['name'] != 'TYCN']"
   ]
  },
  {
   "cell_type": "code",
   "execution_count": 19,
   "id": "865622c2-dad3-4ba8-b35a-898461fe5e9a",
   "metadata": {},
   "outputs": [],
   "source": [
    "out_df = out_df[out_df['name'] != 'GRAMMY']"
   ]
  },
  {
   "cell_type": "code",
   "execution_count": 29,
   "id": "cb2d763d-5b75-4ace-b87a-f165c8e6cb91",
   "metadata": {},
   "outputs": [],
   "source": [
    "out_df = out_df[out_df['name'] != 'MST']"
   ]
  },
  {
   "cell_type": "code",
   "execution_count": 31,
   "id": "b2771ed1",
   "metadata": {},
   "outputs": [
    {
     "data": {
      "text/plain": [
       "(216, 8)"
      ]
     },
     "execution_count": 31,
     "metadata": {},
     "output_type": "execute_result"
    }
   ],
   "source": [
    "out_df.shape"
   ]
  },
  {
   "cell_type": "code",
   "execution_count": 33,
   "id": "eb2ffec6",
   "metadata": {},
   "outputs": [],
   "source": [
    "out_df['price'] = out_df['price'].astype('float')\n",
    "out_df['today_low'] = out_df['today_low'].astype('float')\n",
    "out_df['today_high'] = out_df['today_high'].astype('float')\n",
    "out_df['year_low'] = out_df['year_low'].astype('float')\n",
    "out_df['year_high'] = out_df['year_high'].astype('float')\n",
    "out_df['percent'] = out_df['percent'].astype('float')"
   ]
  },
  {
   "cell_type": "code",
   "execution_count": 35,
   "id": "f4fb1a3c",
   "metadata": {},
   "outputs": [],
   "source": [
    "sorted_out_df = out_df.sort_values('percent')"
   ]
  },
  {
   "cell_type": "code",
   "execution_count": 37,
   "id": "032f0eea",
   "metadata": {},
   "outputs": [
    {
     "data": {
      "text/html": [
       "<div>\n",
       "<style scoped>\n",
       "    .dataframe tbody tr th:only-of-type {\n",
       "        vertical-align: middle;\n",
       "    }\n",
       "\n",
       "    .dataframe tbody tr th {\n",
       "        vertical-align: top;\n",
       "    }\n",
       "\n",
       "    .dataframe thead th {\n",
       "        text-align: right;\n",
       "    }\n",
       "</style>\n",
       "<table border=\"1\" class=\"dataframe\">\n",
       "  <thead>\n",
       "    <tr style=\"text-align: right;\">\n",
       "      <th></th>\n",
       "      <th>name</th>\n",
       "      <th>price</th>\n",
       "      <th>today_low</th>\n",
       "      <th>today_high</th>\n",
       "      <th>year_low</th>\n",
       "      <th>year_high</th>\n",
       "      <th>percent</th>\n",
       "      <th>updated_at</th>\n",
       "    </tr>\n",
       "  </thead>\n",
       "  <tbody>\n",
       "    <tr>\n",
       "      <th>97</th>\n",
       "      <td>KEX</td>\n",
       "      <td>1.40</td>\n",
       "      <td>1.38</td>\n",
       "      <td>1.47</td>\n",
       "      <td>1.39</td>\n",
       "      <td>6.50</td>\n",
       "      <td>-2.78</td>\n",
       "      <td>2025-01-24</td>\n",
       "    </tr>\n",
       "    <tr>\n",
       "      <th>82</th>\n",
       "      <td>ICHI</td>\n",
       "      <td>13.00</td>\n",
       "      <td>12.80</td>\n",
       "      <td>13.30</td>\n",
       "      <td>13.10</td>\n",
       "      <td>18.80</td>\n",
       "      <td>-2.26</td>\n",
       "      <td>2025-01-24</td>\n",
       "    </tr>\n",
       "    <tr>\n",
       "      <th>66</th>\n",
       "      <td>FPT</td>\n",
       "      <td>8.80</td>\n",
       "      <td>8.80</td>\n",
       "      <td>9.00</td>\n",
       "      <td>9.00</td>\n",
       "      <td>15.40</td>\n",
       "      <td>-2.22</td>\n",
       "      <td>2025-01-24</td>\n",
       "    </tr>\n",
       "    <tr>\n",
       "      <th>3</th>\n",
       "      <td>AH</td>\n",
       "      <td>13.80</td>\n",
       "      <td>13.70</td>\n",
       "      <td>14.00</td>\n",
       "      <td>13.90</td>\n",
       "      <td>29.50</td>\n",
       "      <td>-2.13</td>\n",
       "      <td>2025-01-24</td>\n",
       "    </tr>\n",
       "    <tr>\n",
       "      <th>37</th>\n",
       "      <td>BLAND</td>\n",
       "      <td>0.51</td>\n",
       "      <td>0.50</td>\n",
       "      <td>0.52</td>\n",
       "      <td>0.51</td>\n",
       "      <td>0.76</td>\n",
       "      <td>-1.92</td>\n",
       "      <td>2025-01-24</td>\n",
       "    </tr>\n",
       "    <tr>\n",
       "      <th>220</th>\n",
       "      <td>WORK</td>\n",
       "      <td>5.20</td>\n",
       "      <td>5.00</td>\n",
       "      <td>5.20</td>\n",
       "      <td>5.20</td>\n",
       "      <td>11.10</td>\n",
       "      <td>-0.95</td>\n",
       "      <td>2025-01-24</td>\n",
       "    </tr>\n",
       "    <tr>\n",
       "      <th>110</th>\n",
       "      <td>LPH</td>\n",
       "      <td>4.26</td>\n",
       "      <td>4.20</td>\n",
       "      <td>4.26</td>\n",
       "      <td>4.24</td>\n",
       "      <td>4.98</td>\n",
       "      <td>-0.47</td>\n",
       "      <td>2025-01-24</td>\n",
       "    </tr>\n",
       "    <tr>\n",
       "      <th>30</th>\n",
       "      <td>BEM</td>\n",
       "      <td>6.65</td>\n",
       "      <td>6.55</td>\n",
       "      <td>6.65</td>\n",
       "      <td>6.60</td>\n",
       "      <td>8.45</td>\n",
       "      <td>0.00</td>\n",
       "      <td>2025-01-24</td>\n",
       "    </tr>\n",
       "    <tr>\n",
       "      <th>71</th>\n",
       "      <td>GGC</td>\n",
       "      <td>4.12</td>\n",
       "      <td>3.92</td>\n",
       "      <td>4.46</td>\n",
       "      <td>3.94</td>\n",
       "      <td>9.35</td>\n",
       "      <td>4.57</td>\n",
       "      <td>2025-01-24</td>\n",
       "    </tr>\n",
       "  </tbody>\n",
       "</table>\n",
       "</div>"
      ],
      "text/plain": [
       "      name  price  today_low  today_high  year_low  year_high  percent  \\\n",
       "97     KEX   1.40       1.38        1.47      1.39       6.50    -2.78   \n",
       "82    ICHI  13.00      12.80       13.30     13.10      18.80    -2.26   \n",
       "66     FPT   8.80       8.80        9.00      9.00      15.40    -2.22   \n",
       "3       AH  13.80      13.70       14.00     13.90      29.50    -2.13   \n",
       "37   BLAND   0.51       0.50        0.52      0.51       0.76    -1.92   \n",
       "220   WORK   5.20       5.00        5.20      5.20      11.10    -0.95   \n",
       "110    LPH   4.26       4.20        4.26      4.24       4.98    -0.47   \n",
       "30     BEM   6.65       6.55        6.65      6.60       8.45     0.00   \n",
       "71     GGC   4.12       3.92        4.46      3.94       9.35     4.57   \n",
       "\n",
       "     updated_at  \n",
       "97   2025-01-24  \n",
       "82   2025-01-24  \n",
       "66   2025-01-24  \n",
       "3    2025-01-24  \n",
       "37   2025-01-24  \n",
       "220  2025-01-24  \n",
       "110  2025-01-24  \n",
       "30   2025-01-24  \n",
       "71   2025-01-24  "
      ]
     },
     "execution_count": 37,
     "metadata": {},
     "output_type": "execute_result"
    }
   ],
   "source": [
    "sorted_out_df.query('today_low < year_low')"
   ]
  },
  {
   "cell_type": "code",
   "execution_count": 39,
   "id": "7af7c28e",
   "metadata": {},
   "outputs": [
    {
     "data": {
      "text/plain": [
       "9"
      ]
     },
     "execution_count": 39,
     "metadata": {},
     "output_type": "execute_result"
    }
   ],
   "source": [
    "out_df.query('today_low < year_low').shape[0]"
   ]
  },
  {
   "cell_type": "code",
   "execution_count": 41,
   "id": "8e04b03d",
   "metadata": {},
   "outputs": [
    {
     "data": {
      "text/html": [
       "<div>\n",
       "<style scoped>\n",
       "    .dataframe tbody tr th:only-of-type {\n",
       "        vertical-align: middle;\n",
       "    }\n",
       "\n",
       "    .dataframe tbody tr th {\n",
       "        vertical-align: top;\n",
       "    }\n",
       "\n",
       "    .dataframe thead th {\n",
       "        text-align: right;\n",
       "    }\n",
       "</style>\n",
       "<table border=\"1\" class=\"dataframe\">\n",
       "  <thead>\n",
       "    <tr style=\"text-align: right;\">\n",
       "      <th></th>\n",
       "      <th>name</th>\n",
       "      <th>price</th>\n",
       "      <th>today_low</th>\n",
       "      <th>today_high</th>\n",
       "      <th>year_low</th>\n",
       "      <th>year_high</th>\n",
       "      <th>percent</th>\n",
       "      <th>updated_at</th>\n",
       "    </tr>\n",
       "  </thead>\n",
       "  <tbody>\n",
       "  </tbody>\n",
       "</table>\n",
       "</div>"
      ],
      "text/plain": [
       "Empty DataFrame\n",
       "Columns: [name, price, today_low, today_high, year_low, year_high, percent, updated_at]\n",
       "Index: []"
      ]
     },
     "execution_count": 41,
     "metadata": {},
     "output_type": "execute_result"
    }
   ],
   "source": [
    "sorted_out_df.query('today_high > year_high')"
   ]
  },
  {
   "cell_type": "code",
   "execution_count": 43,
   "id": "290a9607",
   "metadata": {},
   "outputs": [
    {
     "data": {
      "text/plain": [
       "0"
      ]
     },
     "execution_count": 43,
     "metadata": {},
     "output_type": "execute_result"
    }
   ],
   "source": [
    "out_df.query('today_high > year_high').shape[0]"
   ]
  },
  {
   "cell_type": "code",
   "execution_count": 45,
   "id": "5fbeba56-2a63-4650-898b-6447a81f95f5",
   "metadata": {},
   "outputs": [],
   "source": [
    "file_name = \"Price-Hilo.csv\"\n",
    "output_file = os.path.join(dat_path, file_name)\n",
    "god_file = os.path.join(god_path, file_name)\n",
    "icd_file = os.path.join(icd_path, file_name)\n",
    "osd_file = os.path.join(osd_path, file_name)"
   ]
  },
  {
   "cell_type": "code",
   "execution_count": 47,
   "id": "da6183ac-2f05-4f67-b200-fe83634d29dc",
   "metadata": {},
   "outputs": [
    {
     "name": "stdout",
     "output_type": "stream",
     "text": [
      "output_file : C:\\Users\\PC1\\OneDrive\\A5\\Data\\Price-Hilo.csv\n",
      "icd_file : C:\\Users\\PC1\\iCloudDrive\\Data\\Price-Hilo.csv\n",
      "god_file : C:\\Users\\PC1\\OneDrive\\Imports\\santisoontarinka@gmail.com - Google Drive\\Data\\Price-Hilo.csv\n",
      "osd_file : C:\\Users\\PC1\\OneDrive\\Documents\\obsidian-git-sync\\Data\\Price-Hilo.csv\n"
     ]
    }
   ],
   "source": [
    "print(f\"output_file : {output_file}\") \n",
    "print(f\"icd_file : {icd_file}\") \n",
    "print(f\"god_file : {god_file}\") \n",
    "print(f\"osd_file : {osd_file}\") "
   ]
  },
  {
   "cell_type": "code",
   "execution_count": 49,
   "id": "8017b53b",
   "metadata": {},
   "outputs": [],
   "source": [
    "out_df.to_csv(output_file, index=False)  \n",
    "out_df.to_csv(god_file, index=False) \n",
    "out_df.to_csv(icd_file, index=False)  \n",
    "out_df.to_csv(osd_file, index=False) "
   ]
  },
  {
   "cell_type": "code",
   "execution_count": 51,
   "id": "80692fae-6308-4695-bcac-5124ce4d44e3",
   "metadata": {},
   "outputs": [
    {
     "data": {
      "text/plain": [
       "datetime.datetime(2025, 1, 24, 21, 6, 14, 259917)"
      ]
     },
     "execution_count": 51,
     "metadata": {},
     "output_type": "execute_result"
    }
   ],
   "source": [
    "current_time = datetime.now()\n",
    "current_time"
   ]
  },
  {
   "cell_type": "code",
   "execution_count": null,
   "id": "65000f4d-e754-421d-a607-19d51228cc7f",
   "metadata": {},
   "outputs": [],
   "source": []
  }
 ],
 "metadata": {
  "kernelspec": {
   "display_name": "Python 3 (ipykernel)",
   "language": "python",
   "name": "python3"
  },
  "language_info": {
   "codemirror_mode": {
    "name": "ipython",
    "version": 3
   },
   "file_extension": ".py",
   "mimetype": "text/x-python",
   "name": "python",
   "nbconvert_exporter": "python",
   "pygments_lexer": "ipython3",
   "version": "3.12.3"
  }
 },
 "nbformat": 4,
 "nbformat_minor": 5
}
