{
 "cells": [
  {
   "cell_type": "markdown",
   "id": "8fc27a80-5e71-4b48-ba9b-741744050465",
   "metadata": {},
   "source": [
    "### Start and Run All"
   ]
  },
  {
   "cell_type": "code",
   "execution_count": 2,
   "id": "d7cfc693",
   "metadata": {},
   "outputs": [
    {
     "name": "stdout",
     "output_type": "stream",
     "text": [
      "2025-10-10 20:26:08\n"
     ]
    }
   ],
   "source": [
    "import os\n",
    "import pandas as pd\n",
    "from urllib import request\n",
    "from bs4 import BeautifulSoup\n",
    "# from datetime import date, timedelta\n",
    "from datetime import datetime\n",
    "from time import sleep, strftime\n",
    "\n",
    "# Get the current time\n",
    "current_time = datetime.now()\n",
    "# Format the time to remove milliseconds\n",
    "formatted_time = current_time.strftime(\"%Y-%m-%d %H:%M:%S\")\n",
    "print(formatted_time)"
   ]
  },
  {
   "cell_type": "code",
   "execution_count": 3,
   "id": "0cbdda38-ec42-4470-bede-c468ba46f8d8",
   "metadata": {},
   "outputs": [],
   "source": [
    "url = \"https://www.set.or.th/en/market/product/stock/quote/\"\n",
    "percent_span = '' "
   ]
  },
  {
   "cell_type": "code",
   "execution_count": 4,
   "id": "6e4b7508-0071-480d-99c8-a6c070027294",
   "metadata": {},
   "outputs": [],
   "source": [
    "# Get the user's home directory\n",
    "user_path = os.path.expanduser('~')\n",
    "# Get the current working directory\n",
    "current_path = os.getcwd()\n",
    "# Derive the base directory (base_dir) by removing the last folder ('Daily')\n",
    "base_path = os.path.dirname(current_path)\n",
    "#C:\\Users\\PC1\\OneDrive\\A5\\Data\n",
    "dat_path = os.path.join(base_path, \"Data\")\n",
    "#C:\\Users\\PC1\\OneDrive\\Imports\\santisoontarinka@gmail.com - Google Drive\\Data>\n",
    "god_path = os.path.join(user_path, \"OneDrive\",\"Imports\",\"santisoontarinka@gmail.com - Google Drive\",\"Data\")\n",
    "#C:\\Users\\PC1\\iCloudDrive\\data\n",
    "icd_path = os.path.join(user_path, \"iCloudDrive\", \"Data\")\n",
    "#C:\\Users\\PC1\\OneDrive\\Documents\\obsidian-git-sync\\Data\n",
    "osd_path = os.path.join(user_path, \"OneDrive\",\"Documents\",\"obsidian-git-sync\",\"Data\")"
   ]
  },
  {
   "cell_type": "code",
   "execution_count": 5,
   "id": "07defeb3-a742-4e64-8089-7e4fe5b8b93c",
   "metadata": {},
   "outputs": [
    {
     "name": "stdout",
     "output_type": "stream",
     "text": [
      "User path: C:\\Users\\PC1\n",
      "Current path: C:\\Users\\PC1\\OneDrive\\A5\\Daily\n",
      "Base path: C:\\Users\\PC1\\OneDrive\\A5\n",
      "Data path : C:\\Users\\PC1\\OneDrive\\A5\\Data\n",
      "Google Drive path : C:\\Users\\PC1\\OneDrive\\Imports\\santisoontarinka@gmail.com - Google Drive\\Data\n",
      "iCloudDrive path : C:\\Users\\PC1\\iCloudDrive\\Data\n",
      "Obsidian path : C:\\Users\\PC1\\OneDrive\\Documents\\obsidian-git-sync\\Data\n"
     ]
    }
   ],
   "source": [
    "print(\"User path:\", user_path)\n",
    "print(f\"Current path: {current_path}\")\n",
    "print(f\"Base path: {base_path}\")\n",
    "print(f\"Data path : {dat_path}\") \n",
    "print(f\"Google Drive path : {god_path}\")\n",
    "print(f\"iCloudDrive path : {icd_path}\") \n",
    "print(f\"Obsidian path : {osd_path}\") "
   ]
  },
  {
   "cell_type": "code",
   "execution_count": 6,
   "id": "08576879-dc60-431b-a31a-e1893e2d7922",
   "metadata": {},
   "outputs": [
    {
     "name": "stdout",
     "output_type": "stream",
     "text": [
      "Input file : C:\\Users\\PC1\\OneDrive\\A5\\Data\\name-ttl.csv\n"
     ]
    }
   ],
   "source": [
    "file_name = \"name-ttl.csv\"\n",
    "input_file = os.path.join(dat_path, file_name)\n",
    "print(f\"Input file : {input_file}\") "
   ]
  },
  {
   "cell_type": "code",
   "execution_count": 7,
   "id": "9b9668db-0773-4de5-9bd4-864c377dab80",
   "metadata": {},
   "outputs": [],
   "source": [
    "file_name = \"price-hilo.csv\"\n",
    "output_file = os.path.join(dat_path, file_name)\n",
    "god_file = os.path.join(god_path, file_name)\n",
    "icd_file = os.path.join(icd_path, file_name)\n",
    "osd_file = os.path.join(osd_path, file_name)"
   ]
  },
  {
   "cell_type": "code",
   "execution_count": 8,
   "id": "66c38ef5-8643-4ad3-81ff-9e2275d426d5",
   "metadata": {},
   "outputs": [
    {
     "name": "stdout",
     "output_type": "stream",
     "text": [
      "Output file : C:\\Users\\PC1\\OneDrive\\A5\\Data\\price-hilo.csv\n",
      "icd_file : C:\\Users\\PC1\\iCloudDrive\\Data\\price-hilo.csv\n",
      "god_file : C:\\Users\\PC1\\OneDrive\\Imports\\santisoontarinka@gmail.com - Google Drive\\Data\\price-hilo.csv\n",
      "osd_file : C:\\Users\\PC1\\OneDrive\\Documents\\obsidian-git-sync\\Data\\price-hilo.csv\n"
     ]
    }
   ],
   "source": [
    "print(f\"Output file : {output_file}\") \n",
    "print(f\"icd_file : {icd_file}\") \n",
    "print(f\"god_file : {god_file}\") \n",
    "print(f\"osd_file : {osd_file}\")"
   ]
  },
  {
   "cell_type": "code",
   "execution_count": 9,
   "id": "c1ec2693",
   "metadata": {},
   "outputs": [],
   "source": [
    "def cvt_str_to_flt(input_str):\n",
    "    # Check for the special pattern and return 0\n",
    "    if input_str == '(-)':\n",
    "        return 0\n",
    "    \n",
    "    # Remove parentheses and percent sign\n",
    "    cleaned_str = input_str.replace('(', '').replace(')', '').replace('%', '')\n",
    "\n",
    "    # Convert to float\n",
    "    try:\n",
    "        return float(cleaned_str)\n",
    "    except ValueError:\n",
    "        # Handle the case where the conversion fails\n",
    "        return None\n",
    " "
   ]
  },
  {
   "cell_type": "code",
   "execution_count": 10,
   "id": "334bed1f",
   "metadata": {},
   "outputs": [],
   "source": [
    "def get_stock_data(in_df):\n",
    "\n",
    "    in_df.columns = ['name']\n",
    "    \n",
    "    output_columns = ['name', 'price', 'today_low', 'today_high', 'year_low', 'year_high', 'percent', 'updated_at']\n",
    "    # Initialize an empty DataFrame with specified columns\n",
    "    out_df = pd.DataFrame(columns=output_columns)\n",
    "    \n",
    "    for index, row in in_df.iterrows():\n",
    "        name = str(row['name']).upper()\n",
    "        response = request.urlopen(url + name + '/price')\n",
    "        html_page = BeautifulSoup(response, 'html.parser')\n",
    "        \n",
    "  #      price = html_page.find('div', class_='value text-white mb-0 me-2 lh-1 stock-info').text.strip()        \n",
    "  #      if (price == '-'):\n",
    "  #          price = '0.00'        \n",
    "\n",
    "        price_div = html_page.find('div', class_='value text-white mb-0 me-2 lh-1 stock-info')\n",
    "        if price_div:\n",
    "            price = price_div.text.strip()\n",
    "        else:\n",
    "            print(f\"Price div not found for {name}\")\n",
    "            price = '0.00'     \n",
    "            \n",
    "        # Try to find the <h3> tag with the class 'theme-success'\n",
    "        h3_tag = html_page.find('h3', class_='theme-success')\n",
    "        if h3_tag:\n",
    "        # Find all <span> tags within the found <h3> tag\n",
    "            span_tags = h3_tag.find_all('span')\n",
    "    \n",
    "            if len(span_tags) > 1:\n",
    "                # Extract the text from the second <span> tag\n",
    "                percent_span = span_tags[1].text\n",
    "                # print(percent_span)\n",
    "                \n",
    "        # Try to find the <h3> tag with the class 'theme-danger'\n",
    "        h3_tag = html_page.find('h3', class_='theme-danger')\n",
    "        if h3_tag:\n",
    "        # Find all <span> tags within the found <h3> tag\n",
    "            span_tags = h3_tag.find_all('span')\n",
    "    \n",
    "            if len(span_tags) > 1:\n",
    "                # Extract the text from the second <span> tag\n",
    "                percent_span = span_tags[1].text\n",
    "                # print(percent_span)    \n",
    "                \n",
    "        # Try to find the <h3> tag with the class 'theme-danger'\n",
    "        h3_tag = html_page.find('h3', class_='theme-normal')\n",
    "        if h3_tag:\n",
    "        # Find all <span> tags within the found <h3> tag\n",
    "            span_tags = h3_tag.find_all('span')\n",
    "    \n",
    "            if len(span_tags) > 1:\n",
    "                # Extract the text from the second <span> tag\n",
    "                percent_span = span_tags[1].text\n",
    "                # print(percent_span)   \n",
    "                \n",
    "        percent = cvt_str_to_flt(percent_span)\n",
    "                \n",
    "        values_low = html_page.find_all('span', class_='title-font-family fs-16px fw-bolder me-auto lh-1')\n",
    "        today_low = values_low[0].text\n",
    "        if (today_low == '-'):\n",
    "            today_low = '0.00'\n",
    "        \n",
    "        values_high = html_page.find_all('span', class_='title-font-family fs-16px fw-bolder lh-1')\n",
    "        today_high = values_high[0].text\n",
    "        if (today_high == '-'):\n",
    "            today_high = '0.00'         \n",
    "        \n",
    "        year_low = values_low[1].text        \n",
    "        year_high = values_high[1].text     \n",
    "        \n",
    "        # Find the div with the specific class, then find the span within it\n",
    "        div = html_page.find('div', class_='price-detail-date d-flex align-items-center text-nowrap fs-12px')\n",
    "        if div:\n",
    "            span = div.find('span')\n",
    "            if span:\n",
    "                text = span.get_text()\n",
    "#                 print(text)\n",
    "            else:\n",
    "                print(\"Span not found\")\n",
    "        else:\n",
    "            print(\"Div not found\")\n",
    "            \n",
    "        # Extract the date part from the string\n",
    "        # Assuming the date is always in the format 'dd Mon yyyy'\n",
    "        date_str = ' '.join(text.split()[2:5])\n",
    "\n",
    "        # Parse the date string into a datetime object\n",
    "        date_obj = datetime.strptime(date_str, '%d %b %Y')\n",
    "\n",
    "        # Format the datetime object to 'yyyy-mm-dd'\n",
    "        updated_at = date_obj.strftime('%Y-%m-%d')\n",
    "\n",
    "#         print(updated_at)\n",
    "        \n",
    "        # Append row to the DataFrame and print the row\n",
    "        out_df.loc[len(out_df)] = [name, price, today_low, today_high, year_low, year_high, percent, updated_at]\n",
    "#       print(out_df.iloc[-1].to_string(header=False, index=False)) \n",
    "        print(','.join(map(str, out_df.iloc[-1])))\n",
    "        sleep(1)\n",
    "        \n",
    "    return out_df  # return the final dataframe with all values populated"
   ]
  },
  {
   "cell_type": "code",
   "execution_count": 11,
   "id": "94abc8d4",
   "metadata": {},
   "outputs": [
    {
     "name": "stdout",
     "output_type": "stream",
     "text": [
      "Start at:  08:26 PM\n"
     ]
    }
   ],
   "source": [
    "start_time = strftime(\"%I:%M %p\")\n",
    "print('Start at: ', start_time)"
   ]
  },
  {
   "cell_type": "code",
   "execution_count": 12,
   "id": "23b565ec",
   "metadata": {
    "scrolled": true
   },
   "outputs": [
    {
     "name": "stdout",
     "output_type": "stream",
     "text": [
      "ACE,1.31,1.29,1.31,1.23,1.39,0.0,2025-10-10\n",
      "ADVANC,295.00,295.00,299.00,259.00,309.00,-1.01,2025-10-10\n",
      "AEONTS,115.00,114.00,116.00,90.50,148.00,0.0,2025-10-10\n",
      "AH,13.60,13.60,13.80,10.00,22.90,0.0,2025-10-10\n",
      "AIE,1.11,1.10,1.14,0.72,1.80,-1.77,2025-10-10\n",
      "AIMIRT,10.20,10.20,10.40,9.20,11.00,-1.92,2025-10-10\n",
      "AIT,4.88,4.84,4.90,3.92,5.30,0.83,2025-10-10\n",
      "AJ,2.24,2.20,2.28,1.94,5.40,-0.88,2025-10-10\n",
      "AMATA,16.50,16.20,16.60,11.20,31.00,-0.6,2025-10-10\n",
      "ANAN,0.49,0.49,0.50,0.37,0.79,0.0,2025-10-10\n",
      "AOT,41.00,40.75,43.25,26.75,64.50,-4.65,2025-10-10\n",
      "AP,8.70,8.65,8.75,5.60,10.50,0.0,2025-10-10\n",
      "ASIAN,7.40,7.40,7.50,6.50,9.40,-1.33,2025-10-10\n",
      "ASK,8.55,8.55,8.70,6.20,13.90,-1.16,2025-10-10\n",
      "ASP,2.28,2.24,2.28,1.81,2.80,1.79,2025-10-10\n",
      "ASW,6.25,6.15,6.25,4.90,8.20,0.81,2025-10-10\n",
      "AWC,2.18,2.16,2.26,1.55,3.86,-2.68,2025-10-10\n",
      "BA,13.90,13.80,14.10,10.60,26.00,-1.42,2025-10-10\n",
      "BAM,8.05,8.00,8.15,5.35,9.70,-0.62,2025-10-10\n",
      "BANPU,4.44,4.44,4.56,4.00,6.95,-2.63,2025-10-10\n",
      "BAY,23.80,23.60,23.80,20.70,27.25,0.42,2025-10-10\n",
      "BBL,149.50,149.50,150.50,131.00,161.50,0.0,2025-10-10\n",
      "BCH,12.70,12.60,12.80,12.30,19.20,0.79,2025-10-10\n",
      "BCP,30.00,30.00,30.50,26.50,41.00,-0.83,2025-10-10\n",
      "BCPG,9.30,9.25,9.45,5.05,9.60,-2.62,2025-10-10\n",
      "BCT,47.25,47.00,47.75,43.50,76.00,-2.58,2025-10-10\n",
      "BDMS,20.20,19.90,20.40,19.80,30.25,0.5,2025-10-10\n",
      "BE8,5.65,5.60,5.75,5.20,20.30,-1.74,2025-10-10\n",
      "BEAUTY,0.52,0.46,0.52,0.19,0.68,6.12,2025-10-10\n",
      "BEC,2.12,2.08,2.14,1.79,4.68,-0.93,2025-10-10\n",
      "BEM,5.25,5.20,5.30,4.56,8.30,0.0,2025-10-10\n",
      "BGC,4.72,4.70,4.72,4.54,7.90,0.0,2025-10-10\n",
      "BGRIM,15.30,15.10,15.50,8.90,24.80,-1.29,2025-10-10\n",
      "BH,175.50,172.00,178.00,130.00,280.00,1.45,2025-10-10\n",
      "BJC,19.90,19.70,20.30,16.50,25.50,-1.49,2025-10-10\n",
      "BKIH,305.00,303.00,305.00,271.00,316.00,0.33,2025-10-10\n",
      "BLA,18.60,18.50,18.80,14.00,25.75,-1.06,2025-10-10\n",
      "BLAND,0.51,0.50,0.51,0.38,0.64,0.0,2025-10-10\n",
      "BPP,10.20,9.90,10.60,6.20,13.20,2.0,2025-10-10\n",
      "BTS,3.02,3.02,3.04,3.00,6.40,-0.66,2025-10-10\n",
      "BTSGIF,2.66,2.64,2.68,2.46,3.30,-0.75,2025-10-10\n",
      "CBG,52.25,52.25,53.00,46.50,82.00,-0.48,2025-10-10\n",
      "CENTEL,30.25,30.00,31.50,19.40,38.75,-3.97,2025-10-10\n",
      "CHG,1.62,1.60,1.65,1.39,3.00,1.25,2025-10-10\n",
      "CK,16.40,16.40,16.70,10.20,20.60,-2.38,2025-10-10\n",
      "CKP,2.62,2.62,2.72,2.10,4.04,-4.38,2025-10-10\n",
      "COM7,27.25,26.75,28.00,16.70,28.25,-2.68,2025-10-10\n",
      "CPALL,48.00,47.75,48.50,41.50,68.00,-1.03,2025-10-10\n",
      "CPF,22.90,22.80,23.10,19.80,26.50,-1.29,2025-10-10\n",
      "CPN,54.50,54.25,55.25,41.00,68.75,-0.91,2025-10-10\n",
      "CPNCG,6.20,6.15,6.20,5.75,6.55,0.0,2025-10-10\n",
      "CPNREIT,11.50,11.50,11.60,10.20,12.90,-0.86,2025-10-10\n",
      "CRC,21.00,21.00,21.50,15.80,36.00,-1.87,2025-10-10\n",
      "DCC,1.39,1.37,1.39,1.18,1.97,0.72,2025-10-10\n",
      "DCON,0.26,0.25,0.26,0.23,0.34,4.0,2025-10-10\n",
      "DELTA,179.50,173.50,183.00,51.25,201.00,-9.11,2025-10-10\n",
      "DIF,9.15,9.10,9.20,7.35,9.50,0.55,2025-10-10\n",
      "DOHOME,3.86,3.86,3.96,2.26,10.12,-2.53,2025-10-10\n",
      "DRT,5.40,5.35,5.45,4.42,8.05,0.0,2025-10-10\n",
      "EA,3.18,3.16,3.24,1.73,6.35,-1.85,2025-10-10\n",
      "EASTW,2.80,2.76,2.86,1.57,3.30,-1.41,2025-10-10\n",
      "EGATIF,6.00,6.00,6.05,5.75,6.15,0.0,2025-10-10\n",
      "EGCO,136.50,133.00,138.00,85.00,138.00,0.74,2025-10-10\n",
      "EPG,3.18,3.12,3.18,2.12,5.25,0.63,2025-10-10\n",
      "FORTH,8.00,8.00,8.30,6.05,14.40,-3.03,2025-10-10\n",
      "FPT,6.75,6.65,6.75,5.85,13.60,0.75,2025-10-10\n",
      "FSMART,8.65,8.55,8.90,5.35,9.85,-1.7,2025-10-10\n",
      "FTREIT,10.40,10.20,10.40,8.60,11.10,0.97,2025-10-10\n",
      "GC,4.00,3.96,4.00,3.40,5.10,0.0,2025-10-10\n",
      "GFPT,9.95,9.90,9.95,8.00,12.00,0.0,2025-10-10\n",
      "GGC,3.74,3.74,3.74,3.20,5.45,0.0,2025-10-10\n",
      "GLOBAL,7.50,7.45,7.75,4.16,16.18,-0.66,2025-10-10\n",
      "GPSC,40.50,40.25,41.50,22.40,49.25,-1.82,2025-10-10\n",
      "GRAMMY,4.50,4.22,4.50,4.20,8.45,-2.17,2025-10-10\n",
      "GUNKUL,2.10,2.04,2.14,1.31,2.92,-0.94,2025-10-10\n",
      "GVREIT,6.50,6.45,6.50,6.15,7.05,0.78,2025-10-10\n",
      "HANA,23.80,23.70,24.30,14.00,42.25,-3.25,2025-10-10\n",
      "HFT,4.18,4.18,4.22,3.32,4.64,-0.48,2025-10-10\n",
      "HMPRO,7.25,7.25,7.50,5.70,10.80,-2.68,2025-10-10\n",
      "HTC,15.00,14.80,15.00,14.50,17.70,0.67,2025-10-10\n",
      "ICHI,13.10,12.90,13.30,9.40,16.60,0.0,2025-10-10\n",
      "III,4.64,4.56,4.64,4.18,6.55,0.0,2025-10-10\n",
      "ILM,16.00,16.00,16.20,11.50,18.90,-0.62,2025-10-10\n",
      "IMH,4.02,4.00,4.08,3.50,5.45,0.0,2025-10-10\n",
      "IMPACT,10.10,10.00,10.10,9.25,12.40,0.0,2025-10-10\n",
      "INOX,0.40,0.40,0.41,0.35,0.60,0.0,2025-10-10\n",
      "IP,4.10,4.08,4.18,2.02,4.54,0.0,2025-10-10\n",
      "IRPC,1.15,1.13,1.16,0.70,1.70,0.0,2025-10-10\n",
      "IVL,21.50,21.10,21.70,16.90,27.50,1.9,2025-10-10\n",
      "3BBIF,6.60,6.50,6.65,5.00,6.85,1.54,2025-10-10\n",
      "JMART,8.80,8.75,8.90,5.20,16.80,-1.12,2025-10-10\n",
      "JMT,11.40,11.30,11.50,7.35,22.00,-0.87,2025-10-10\n",
      "KBANK,166.50,165.50,167.50,145.00,173.00,0.0,2025-10-10\n",
      "KCE,25.25,25.25,25.75,13.70,39.50,-2.88,2025-10-10\n",
      "KEX,0.50,0.45,0.55,0.56,2.78,-18.03,2025-10-10\n",
      "KGI,3.96,3.94,3.96,3.40,4.52,0.51,2025-10-10\n",
      "KKP,61.25,60.50,62.00,43.50,62.00,0.41,2025-10-10\n",
      "KSL,1.39,1.38,1.40,1.25,2.20,0.0,2025-10-10\n",
      "KTB,24.80,24.60,25.00,19.70,26.50,0.0,2025-10-10\n",
      "KTC,31.00,30.75,31.25,21.80,52.25,-1.59,2025-10-10\n",
      "KYE,286.00,286.00,288.00,280.00,324.00,-0.35,2025-10-10\n",
      "LALIN,5.00,5.00,5.05,4.80,6.70,-0.99,2025-10-10\n",
      "LANNA,15.60,15.60,15.70,14.10,17.10,0.0,2025-10-10\n",
      "LH,4.28,4.24,4.30,3.18,6.35,0.0,2025-10-10\n",
      "LHFG,0.76,0.74,0.76,0.72,0.88,1.33,2025-10-10\n",
      "LHK,3.48,3.40,3.50,3.02,3.96,0.0,2025-10-10\n",
      "LIT,0.77,0.76,0.80,0.39,1.34,-2.53,2025-10-10\n",
      "LPH,3.88,3.84,3.90,3.20,4.66,0.0,2025-10-10\n",
      "LPN,1.75,1.74,1.75,1.61,3.34,0.0,2025-10-10\n",
      "M,32.75,32.75,33.50,13.80,35.25,-1.5,2025-10-10\n",
      "MAJOR,8.00,7.90,8.05,7.35,16.00,1.27,2025-10-10\n",
      "MBAX,1.40,1.39,1.40,1.17,2.98,0.72,2025-10-10\n",
      "MC,11.30,11.10,11.40,9.15,13.00,0.0,2025-10-10\n",
      "MCS,8.35,8.25,8.40,5.80,9.20,1.21,2025-10-10\n",
      "MEGA,30.50,30.00,30.50,24.30,41.25,0.83,2025-10-10\n",
      "MINT,23.10,22.60,23.20,21.70,29.50,0.87,2025-10-10\n",
      "MST,7.00,6.95,7.05,5.50,10.30,-0.71,2025-10-10\n",
      "MTC,40.50,39.75,40.50,33.75,54.00,0.0,2025-10-10\n",
      "NER,4.24,4.20,4.24,3.88,5.20,0.0,2025-10-10\n",
      "NOBLE,2.20,2.16,2.20,1.60,3.18,0.0,2025-10-10\n",
      "ONEE,2.28,2.24,2.28,1.99,4.68,0.0,2025-10-10\n",
      "OR,13.40,13.20,13.90,10.10,17.00,0.0,2025-10-10\n",
      "ORI,2.62,2.60,2.66,1.50,5.30,0.0,2025-10-10\n",
      "OSP,16.70,16.60,16.90,12.90,22.80,-1.18,2025-10-10\n",
      "PAP,2.00,1.93,2.04,1.31,2.48,0.5,2025-10-10\n",
      "PCSGH,3.02,3.02,3.06,2.46,4.66,-0.66,2025-10-10\n",
      "PDG,2.82,2.82,2.82,2.36,2.88,2.17,2025-10-10\n",
      "PLANB,4.34,4.32,4.36,4.08,8.50,-0.46,2025-10-10\n",
      "POPF,6.35,6.25,6.35,5.40,6.70,0.0,2025-10-10\n",
      "PREB,3.64,3.64,3.64,3.34,5.25,-0.55,2025-10-10\n",
      "PRM,6.50,6.40,6.55,5.10,9.30,-1.52,2025-10-10\n",
      "PSH,4.04,4.02,4.10,3.66,9.50,-0.98,2025-10-10\n",
      "PSL,7.10,7.00,7.20,4.96,8.85,-0.7,2025-10-10\n",
      "PTG,9.15,9.05,9.20,5.45,10.40,0.0,2025-10-10\n",
      "PTL,9.90,9.85,10.00,9.20,14.50,-1.0,2025-10-10\n",
      "PTT,31.50,31.50,32.00,27.00,34.75,-1.56,2025-10-10\n",
      "PTTEP,111.50,111.50,113.00,93.00,135.50,-1.33,2025-10-10\n",
      "PTTGC,25.25,25.00,25.75,14.20,29.50,1.0,2025-10-10\n",
      "QH,1.36,1.35,1.36,1.15,1.99,0.0,2025-10-10\n",
      "RATCH,28.00,27.75,28.50,22.50,34.25,-0.88,2025-10-10\n",
      "RBF,3.96,3.96,4.06,3.04,7.40,-2.46,2025-10-10\n",
      "RCL,26.50,26.25,26.75,18.20,31.75,-0.93,2025-10-10\n",
      "RJH,13.30,13.20,13.40,11.50,26.25,-0.75,2025-10-10\n",
      "ROJNA,4.80,4.78,4.82,4.14,7.50,-0.41,2025-10-10\n",
      "RS,0.26,0.25,0.26,0.19,6.30,0.0,2025-10-10\n",
      "S11,3.22,3.18,3.22,1.86,3.70,0.0,2025-10-10\n",
      "SAPPE,36.00,36.00,36.75,27.50,83.00,-0.69,2025-10-10\n",
      "SAT,13.10,13.10,13.20,9.95,13.90,0.0,2025-10-10\n",
      "SAWAD,30.00,29.50,30.25,14.80,40.45,0.0,2025-10-10\n",
      "SC,1.87,1.86,1.89,1.40,3.18,-0.53,2025-10-10\n",
      "SCB,129.00,128.50,129.50,108.50,133.00,0.0,2025-10-10\n",
      "SCC,212.00,211.00,215.00,124.50,243.00,-0.47,2025-10-10\n",
      "SCCC,148.50,148.00,149.00,138.50,177.50,0.0,2025-10-10\n",
      "SCGP,18.20,18.10,18.40,10.70,28.25,-1.62,2025-10-10\n",
      "SENA,1.95,1.92,1.95,1.54,2.42,0.0,2025-10-10\n",
      "SGP,6.60,6.50,6.60,5.00,7.55,0.0,2025-10-10\n",
      "SINGER,6.80,6.80,6.95,3.92,12.70,-2.16,2025-10-10\n",
      "SIRI,1.44,1.44,1.46,1.11,1.93,-1.37,2025-10-10\n",
      "SIS,20.50,20.40,20.60,17.60,31.25,0.0,2025-10-10\n",
      "SJWD,8.90,8.70,8.90,5.75,12.40,1.14,2025-10-10\n",
      "SKN,5.80,5.70,5.85,5.05,6.40,0.87,2025-10-10\n",
      "SKR,7.95,7.85,8.00,6.20,9.80,0.0,2025-10-10\n",
      "SMPC,9.00,9.00,9.05,7.80,9.95,-0.55,2025-10-10\n",
      "SNC,5.90,5.80,5.95,4.96,7.35,0.0,2025-10-10\n",
      "SPALI,17.70,17.70,17.90,13.20,20.80,-1.67,2025-10-10\n",
      "SPC,58.00,58.00,58.25,53.00,60.75,0.0,2025-10-10\n",
      "SPCG,8.55,8.40,8.55,6.60,9.00,0.59,2025-10-10\n",
      "SPRC,4.58,4.58,4.70,4.26,7.20,-1.72,2025-10-10\n",
      "SPRIME,3.44,3.44,3.48,3.00,4.36,-0.58,2025-10-10\n",
      "SSP,3.48,3.44,3.48,3.40,6.05,0.58,2025-10-10\n",
      "STA,12.50,12.30,12.60,10.30,21.50,0.0,2025-10-10\n",
      "STANLY,182.50,181.00,182.50,176.00,225.00,0.27,2025-10-10\n",
      "STGT,7.00,7.00,7.30,5.10,11.70,-2.1,2025-10-10\n",
      "SUPER,0.13,0.13,0.14,0.12,0.30,-7.14,2025-10-10\n",
      "SUPEREIF,5.50,5.45,5.60,4.72,7.05,0.0,2025-10-10\n",
      "SVI,6.25,6.10,6.40,5.55,9.40,-1.57,2025-10-10\n",
      "SYNEX,11.00,11.00,11.20,9.30,16.70,-2.65,2025-10-10\n",
      "TASCO,13.80,13.80,14.30,13.20,20.00,-3.5,2025-10-10\n",
      "TCAP,50.25,50.00,50.50,44.25,53.00,0.0,2025-10-10\n",
      "TFFIF,6.10,6.10,6.15,5.25,6.85,0.0,2025-10-10\n",
      "TFG,5.05,5.00,5.15,3.02,6.10,-1.94,2025-10-10\n",
      "THANI,1.63,1.61,1.64,1.15,2.22,-0.61,2025-10-10\n",
      "THG,6.90,6.85,7.15,6.15,21.88,-2.13,2025-10-10\n",
      "TIPH,21.60,21.40,21.70,16.70,28.25,-0.46,2025-10-10\n",
      "TIPCO,8.30,8.20,8.35,8.20,10.40,1.22,2025-10-10\n",
      "TISCO,104.00,103.00,105.00,95.00,104.00,0.48,2025-10-10\n",
      "TK,4.72,4.64,4.72,3.28,5.00,1.29,2025-10-10\n",
      "TKN,5.60,5.55,5.65,5.00,11.80,-0.88,2025-10-10\n",
      "TKS,6.00,5.95,6.05,4.90,7.50,0.0,2025-10-10\n",
      "TMT,3.02,3.00,3.02,2.60,4.70,0.0,2025-10-10\n",
      "TMW,51.50,51.00,52.00,47.00,66.75,0.98,2025-10-10\n",
      "TOA,13.50,13.50,13.80,9.35,19.30,-0.74,2025-10-10\n",
      "TOP,34.00,33.75,35.50,21.00,50.50,-2.86,2025-10-10\n",
      "TPIPL,0.75,0.73,0.75,0.69,1.20,0.0,2025-10-10\n",
      "TPIPP,2.18,2.18,2.20,1.99,3.10,-0.91,2025-10-10\n",
      "TQM,13.10,13.00,13.20,12.20,32.50,0.77,2025-10-10\n",
      "TRUE,11.10,11.00,11.20,10.10,13.30,0.91,2025-10-10\n",
      "TSE,0.53,0.52,0.54,0.29,1.13,-1.85,2025-10-10\n",
      "TSTH,0.76,0.75,0.77,0.47,0.93,-1.3,2025-10-10\n",
      "TTA,4.66,4.64,4.68,3.22,6.30,-0.43,2025-10-10\n",
      "TTB,1.84,1.84,1.85,1.72,2.02,-0.54,2025-10-10\n",
      "TTLPF,10.60,10.60,10.60,10.30,15.90,0.0,2025-10-10\n",
      "TTW,9.00,8.95,9.00,8.45,9.40,0.0,2025-10-10\n",
      "TU,12.70,12.60,12.90,8.60,15.50,0.0,2025-10-10\n",
      "TVO,24.90,24.80,25.25,19.70,26.00,-0.4,2025-10-10\n",
      "TYCN,1.83,1.79,1.83,1.62,2.28,1.67,2025-10-10\n",
      "UTP,7.75,7.70,7.75,7.20,11.00,0.65,2025-10-10\n",
      "VGI,1.48,1.48,1.51,1.47,3.68,-1.99,2025-10-10\n",
      "VIBHA,1.51,1.49,1.51,1.37,2.12,0.67,2025-10-10\n",
      "VNG,2.06,2.04,2.10,1.89,3.68,-0.96,2025-10-10\n",
      "WHA,3.66,3.60,3.70,2.26,6.20,0.0,2025-10-10\n",
      "WHAIR,6.00,5.90,6.00,4.12,6.75,1.69,2025-10-10\n",
      "WHART,9.65,9.60,9.75,8.55,10.70,-0.52,2025-10-10\n",
      "WHAUP,4.22,4.14,4.24,2.76,5.50,-0.47,2025-10-10\n",
      "WICE,2.92,2.92,3.00,2.34,6.65,-2.01,2025-10-10\n",
      "WORK,4.28,4.22,4.28,3.82,9.90,0.0,2025-10-10\n"
     ]
    }
   ],
   "source": [
    "df = pd.read_csv(input_file, header=None)\n",
    "out_df = get_stock_data(df)"
   ]
  },
  {
   "cell_type": "code",
   "execution_count": 13,
   "id": "d31edacf",
   "metadata": {},
   "outputs": [
    {
     "name": "stdout",
     "output_type": "stream",
     "text": [
      "End at:  08:31 PM\n"
     ]
    }
   ],
   "source": [
    "end_time = strftime(\"%I:%M %p\")\n",
    "print('End at: ', end_time)"
   ]
  },
  {
   "cell_type": "code",
   "execution_count": 14,
   "id": "b89c4ae7",
   "metadata": {},
   "outputs": [
    {
     "data": {
      "text/html": [
       "<div>\n",
       "<style scoped>\n",
       "    .dataframe tbody tr th:only-of-type {\n",
       "        vertical-align: middle;\n",
       "    }\n",
       "\n",
       "    .dataframe tbody tr th {\n",
       "        vertical-align: top;\n",
       "    }\n",
       "\n",
       "    .dataframe thead th {\n",
       "        text-align: right;\n",
       "    }\n",
       "</style>\n",
       "<table border=\"1\" class=\"dataframe\">\n",
       "  <thead>\n",
       "    <tr style=\"text-align: right;\">\n",
       "      <th></th>\n",
       "      <th>name</th>\n",
       "      <th>price</th>\n",
       "      <th>today_low</th>\n",
       "      <th>today_high</th>\n",
       "      <th>year_low</th>\n",
       "      <th>year_high</th>\n",
       "      <th>percent</th>\n",
       "      <th>updated_at</th>\n",
       "    </tr>\n",
       "  </thead>\n",
       "  <tbody>\n",
       "  </tbody>\n",
       "</table>\n",
       "</div>"
      ],
      "text/plain": [
       "Empty DataFrame\n",
       "Columns: [name, price, today_low, today_high, year_low, year_high, percent, updated_at]\n",
       "Index: []"
      ]
     },
     "execution_count": 14,
     "metadata": {},
     "output_type": "execute_result"
    }
   ],
   "source": [
    "out_df.query('price == \"-\"')"
   ]
  },
  {
   "cell_type": "code",
   "execution_count": 15,
   "id": "784f1b6d",
   "metadata": {},
   "outputs": [
    {
     "data": {
      "text/plain": [
       "(216, 8)"
      ]
     },
     "execution_count": 15,
     "metadata": {},
     "output_type": "execute_result"
    }
   ],
   "source": [
    "out_df.shape"
   ]
  },
  {
   "cell_type": "code",
   "execution_count": 16,
   "id": "6326d0c5",
   "metadata": {},
   "outputs": [],
   "source": [
    "out_df = out_df[out_df['name'] != 'BCT']"
   ]
  },
  {
   "cell_type": "code",
   "execution_count": 17,
   "id": "2a293f55-436e-45d1-9966-50d12c26e659",
   "metadata": {},
   "outputs": [],
   "source": [
    "out_df = out_df[out_df['name'] != 'LPF']"
   ]
  },
  {
   "cell_type": "code",
   "execution_count": 18,
   "id": "cc4b3547-5ea9-4ac6-bd11-896e67d464ed",
   "metadata": {},
   "outputs": [],
   "source": [
    "out_df = out_df[out_df['name'] != 'TYCN']"
   ]
  },
  {
   "cell_type": "code",
   "execution_count": 19,
   "id": "865622c2-dad3-4ba8-b35a-898461fe5e9a",
   "metadata": {},
   "outputs": [],
   "source": [
    "out_df = out_df[out_df['name'] != 'GRAMMY']"
   ]
  },
  {
   "cell_type": "code",
   "execution_count": 20,
   "id": "cb2d763d-5b75-4ace-b87a-f165c8e6cb91",
   "metadata": {},
   "outputs": [],
   "source": [
    "out_df = out_df[out_df['name'] != 'MST']"
   ]
  },
  {
   "cell_type": "code",
   "execution_count": 21,
   "id": "e65305f0-157a-4129-a758-15c02e8df06a",
   "metadata": {},
   "outputs": [],
   "source": [
    "out_df = out_df[out_df['name'] != 'SPC']"
   ]
  },
  {
   "cell_type": "code",
   "execution_count": 22,
   "id": "cb55b5f6-0679-4191-aeda-ab0cf45f18e7",
   "metadata": {},
   "outputs": [],
   "source": [
    "out_df = out_df[out_df['name'] != 'SPRIME']"
   ]
  },
  {
   "cell_type": "code",
   "execution_count": 23,
   "id": "981854f1-01a1-4e26-b2a9-4f58948a33ec",
   "metadata": {},
   "outputs": [],
   "source": [
    "out_df = out_df[out_df['name'] != 'FPT']"
   ]
  },
  {
   "cell_type": "code",
   "execution_count": 24,
   "id": "a2833967-e889-4ad5-97b2-8234ba35c31c",
   "metadata": {},
   "outputs": [],
   "source": [
    "out_df = out_df[out_df['name'] != 'GGC']"
   ]
  },
  {
   "cell_type": "code",
   "execution_count": 25,
   "id": "40da6b49-9c79-425a-9cae-a6608c2062a4",
   "metadata": {},
   "outputs": [],
   "source": [
    "out_df = out_df[out_df['name'] != 'SKN']"
   ]
  },
  {
   "cell_type": "code",
   "execution_count": 26,
   "id": "390bf9c1-c27e-4f76-b69c-4a64e6f8f737",
   "metadata": {},
   "outputs": [],
   "source": [
    "out_df = out_df[out_df['name'] != 'KYE']"
   ]
  },
  {
   "cell_type": "code",
   "execution_count": 27,
   "id": "8dbd83e7-d113-4560-bce3-adbaf3b8bb95",
   "metadata": {},
   "outputs": [],
   "source": [
    "out_df = out_df[out_df['name'] != 'PDG']"
   ]
  },
  {
   "cell_type": "code",
   "execution_count": 28,
   "id": "8f023784-0f5a-485e-99ff-69ebda4061be",
   "metadata": {},
   "outputs": [],
   "source": [
    "out_df = out_df[out_df['name'] != 'PREB']"
   ]
  },
  {
   "cell_type": "code",
   "execution_count": 29,
   "id": "b2771ed1",
   "metadata": {},
   "outputs": [
    {
     "data": {
      "text/plain": [
       "(204, 8)"
      ]
     },
     "execution_count": 29,
     "metadata": {},
     "output_type": "execute_result"
    }
   ],
   "source": [
    "out_df.shape"
   ]
  },
  {
   "cell_type": "code",
   "execution_count": 30,
   "id": "eb2ffec6",
   "metadata": {},
   "outputs": [],
   "source": [
    "out_df['price'] = out_df['price'].astype('float')\n",
    "out_df['today_low'] = out_df['today_low'].astype('float')\n",
    "out_df['today_high'] = out_df['today_high'].astype('float')\n",
    "out_df['year_low'] = out_df['year_low'].astype('float')\n",
    "out_df['year_high'] = out_df['year_high'].astype('float')\n",
    "out_df['percent'] = out_df['percent'].astype('float')"
   ]
  },
  {
   "cell_type": "code",
   "execution_count": 31,
   "id": "f4fb1a3c",
   "metadata": {},
   "outputs": [],
   "source": [
    "sorted_out_df = out_df.sort_values('percent')"
   ]
  },
  {
   "cell_type": "code",
   "execution_count": 32,
   "id": "032f0eea",
   "metadata": {},
   "outputs": [
    {
     "data": {
      "text/html": [
       "<div>\n",
       "<style scoped>\n",
       "    .dataframe tbody tr th:only-of-type {\n",
       "        vertical-align: middle;\n",
       "    }\n",
       "\n",
       "    .dataframe tbody tr th {\n",
       "        vertical-align: top;\n",
       "    }\n",
       "\n",
       "    .dataframe thead th {\n",
       "        text-align: right;\n",
       "    }\n",
       "</style>\n",
       "<table border=\"1\" class=\"dataframe\">\n",
       "  <thead>\n",
       "    <tr style=\"text-align: right;\">\n",
       "      <th></th>\n",
       "      <th>name</th>\n",
       "      <th>price</th>\n",
       "      <th>today_low</th>\n",
       "      <th>today_high</th>\n",
       "      <th>year_low</th>\n",
       "      <th>year_high</th>\n",
       "      <th>percent</th>\n",
       "      <th>updated_at</th>\n",
       "    </tr>\n",
       "  </thead>\n",
       "  <tbody>\n",
       "    <tr>\n",
       "      <th>94</th>\n",
       "      <td>KEX</td>\n",
       "      <td>0.5</td>\n",
       "      <td>0.45</td>\n",
       "      <td>0.55</td>\n",
       "      <td>0.56</td>\n",
       "      <td>2.78</td>\n",
       "      <td>-18.03</td>\n",
       "      <td>2025-10-10</td>\n",
       "    </tr>\n",
       "  </tbody>\n",
       "</table>\n",
       "</div>"
      ],
      "text/plain": [
       "   name  price  today_low  today_high  year_low  year_high  percent  \\\n",
       "94  KEX    0.5       0.45        0.55      0.56       2.78   -18.03   \n",
       "\n",
       "    updated_at  \n",
       "94  2025-10-10  "
      ]
     },
     "execution_count": 32,
     "metadata": {},
     "output_type": "execute_result"
    }
   ],
   "source": [
    "sorted_out_df.query('today_low < year_low')"
   ]
  },
  {
   "cell_type": "code",
   "execution_count": 33,
   "id": "8e04b03d",
   "metadata": {},
   "outputs": [
    {
     "data": {
      "text/html": [
       "<div>\n",
       "<style scoped>\n",
       "    .dataframe tbody tr th:only-of-type {\n",
       "        vertical-align: middle;\n",
       "    }\n",
       "\n",
       "    .dataframe tbody tr th {\n",
       "        vertical-align: top;\n",
       "    }\n",
       "\n",
       "    .dataframe thead th {\n",
       "        text-align: right;\n",
       "    }\n",
       "</style>\n",
       "<table border=\"1\" class=\"dataframe\">\n",
       "  <thead>\n",
       "    <tr style=\"text-align: right;\">\n",
       "      <th></th>\n",
       "      <th>name</th>\n",
       "      <th>price</th>\n",
       "      <th>today_low</th>\n",
       "      <th>today_high</th>\n",
       "      <th>year_low</th>\n",
       "      <th>year_high</th>\n",
       "      <th>percent</th>\n",
       "      <th>updated_at</th>\n",
       "    </tr>\n",
       "  </thead>\n",
       "  <tbody>\n",
       "    <tr>\n",
       "      <th>185</th>\n",
       "      <td>TISCO</td>\n",
       "      <td>104.0</td>\n",
       "      <td>103.0</td>\n",
       "      <td>105.0</td>\n",
       "      <td>95.0</td>\n",
       "      <td>104.0</td>\n",
       "      <td>0.48</td>\n",
       "      <td>2025-10-10</td>\n",
       "    </tr>\n",
       "  </tbody>\n",
       "</table>\n",
       "</div>"
      ],
      "text/plain": [
       "      name  price  today_low  today_high  year_low  year_high  percent  \\\n",
       "185  TISCO  104.0      103.0       105.0      95.0      104.0     0.48   \n",
       "\n",
       "     updated_at  \n",
       "185  2025-10-10  "
      ]
     },
     "execution_count": 33,
     "metadata": {},
     "output_type": "execute_result"
    }
   ],
   "source": [
    "sorted_out_df.query('today_high > year_high')"
   ]
  },
  {
   "cell_type": "code",
   "execution_count": 34,
   "id": "290a9607",
   "metadata": {},
   "outputs": [
    {
     "data": {
      "text/html": [
       "<div>\n",
       "<style scoped>\n",
       "    .dataframe tbody tr th:only-of-type {\n",
       "        vertical-align: middle;\n",
       "    }\n",
       "\n",
       "    .dataframe tbody tr th {\n",
       "        vertical-align: top;\n",
       "    }\n",
       "\n",
       "    .dataframe thead th {\n",
       "        text-align: right;\n",
       "    }\n",
       "</style>\n",
       "<table border=\"1\" class=\"dataframe\">\n",
       "  <thead>\n",
       "    <tr style=\"text-align: right;\">\n",
       "      <th></th>\n",
       "      <th>name</th>\n",
       "      <th>price</th>\n",
       "      <th>today_low</th>\n",
       "      <th>today_high</th>\n",
       "      <th>year_low</th>\n",
       "      <th>year_high</th>\n",
       "      <th>percent</th>\n",
       "      <th>updated_at</th>\n",
       "    </tr>\n",
       "  </thead>\n",
       "  <tbody>\n",
       "    <tr>\n",
       "      <th>185</th>\n",
       "      <td>TISCO</td>\n",
       "      <td>104.0</td>\n",
       "      <td>103.0</td>\n",
       "      <td>105.0</td>\n",
       "      <td>95.0</td>\n",
       "      <td>104.0</td>\n",
       "      <td>0.48</td>\n",
       "      <td>2025-10-10</td>\n",
       "    </tr>\n",
       "  </tbody>\n",
       "</table>\n",
       "</div>"
      ],
      "text/plain": [
       "      name  price  today_low  today_high  year_low  year_high  percent  \\\n",
       "185  TISCO  104.0      103.0       105.0      95.0      104.0     0.48   \n",
       "\n",
       "     updated_at  \n",
       "185  2025-10-10  "
      ]
     },
     "execution_count": 34,
     "metadata": {},
     "output_type": "execute_result"
    }
   ],
   "source": [
    "out_df.query('today_high > year_high')"
   ]
  },
  {
   "cell_type": "code",
   "execution_count": 35,
   "id": "5fbeba56-2a63-4650-898b-6447a81f95f5",
   "metadata": {},
   "outputs": [],
   "source": [
    "file_name = \"Price-Hilo.csv\"\n",
    "output_file = os.path.join(dat_path, file_name)\n",
    "god_file = os.path.join(god_path, file_name)\n",
    "icd_file = os.path.join(icd_path, file_name)\n",
    "osd_file = os.path.join(osd_path, file_name)"
   ]
  },
  {
   "cell_type": "code",
   "execution_count": 36,
   "id": "da6183ac-2f05-4f67-b200-fe83634d29dc",
   "metadata": {},
   "outputs": [
    {
     "name": "stdout",
     "output_type": "stream",
     "text": [
      "output_file : C:\\Users\\PC1\\OneDrive\\A5\\Data\\Price-Hilo.csv\n",
      "icd_file : C:\\Users\\PC1\\iCloudDrive\\Data\\Price-Hilo.csv\n",
      "god_file : C:\\Users\\PC1\\OneDrive\\Imports\\santisoontarinka@gmail.com - Google Drive\\Data\\Price-Hilo.csv\n",
      "osd_file : C:\\Users\\PC1\\OneDrive\\Documents\\obsidian-git-sync\\Data\\Price-Hilo.csv\n"
     ]
    }
   ],
   "source": [
    "print(f\"output_file : {output_file}\") \n",
    "print(f\"icd_file : {icd_file}\") \n",
    "print(f\"god_file : {god_file}\") \n",
    "print(f\"osd_file : {osd_file}\") "
   ]
  },
  {
   "cell_type": "code",
   "execution_count": 37,
   "id": "8017b53b",
   "metadata": {},
   "outputs": [],
   "source": [
    "out_df.to_csv(output_file, index=False)  \n",
    "out_df.to_csv(god_file, index=False) \n",
    "out_df.to_csv(icd_file, index=False)  \n",
    "out_df.to_csv(osd_file, index=False) "
   ]
  },
  {
   "cell_type": "code",
   "execution_count": 38,
   "id": "80692fae-6308-4695-bcac-5124ce4d44e3",
   "metadata": {},
   "outputs": [
    {
     "name": "stdout",
     "output_type": "stream",
     "text": [
      "2025-10-10 20:31:13\n"
     ]
    }
   ],
   "source": [
    "# Get the current time\n",
    "current_time = datetime.now()\n",
    "# Format the time to remove milliseconds\n",
    "formatted_time = current_time.strftime(\"%Y-%m-%d %H:%M:%S\")\n",
    "print(formatted_time)"
   ]
  },
  {
   "cell_type": "code",
   "execution_count": null,
   "id": "0d06430f-554a-40e1-8e36-a7809b0bb632",
   "metadata": {},
   "outputs": [],
   "source": []
  }
 ],
 "metadata": {
  "kernelspec": {
   "display_name": "Python 3 (ipykernel)",
   "language": "python",
   "name": "python3"
  },
  "language_info": {
   "codemirror_mode": {
    "name": "ipython",
    "version": 3
   },
   "file_extension": ".py",
   "mimetype": "text/x-python",
   "name": "python",
   "nbconvert_exporter": "python",
   "pygments_lexer": "ipython3",
   "version": "3.12.3"
  }
 },
 "nbformat": 4,
 "nbformat_minor": 5
}
