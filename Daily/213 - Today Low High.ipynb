{
 "cells": [
  {
   "cell_type": "markdown",
   "id": "930356c6",
   "metadata": {},
   "source": [
    "### Start and Run All"
   ]
  },
  {
   "cell_type": "code",
   "execution_count": 2,
   "id": "d7cfc693",
   "metadata": {},
   "outputs": [
    {
     "name": "stdout",
     "output_type": "stream",
     "text": [
      "2025-08-04 20:25:02\n"
     ]
    }
   ],
   "source": [
    "import os\n",
    "import pandas as pd\n",
    "from urllib import request\n",
    "from bs4 import BeautifulSoup\n",
    "# from datetime import date, timedelta\n",
    "from datetime import datetime\n",
    "from time import sleep, strftime\n",
    "\n",
    "# Get the current time\n",
    "current_time = datetime.now()\n",
    "# Format the time to remove milliseconds\n",
    "formatted_time = current_time.strftime(\"%Y-%m-%d %H:%M:%S\")\n",
    "print(formatted_time)"
   ]
  },
  {
   "cell_type": "code",
   "execution_count": 3,
   "id": "0cbdda38-ec42-4470-bede-c468ba46f8d8",
   "metadata": {},
   "outputs": [],
   "source": [
    "url = \"https://www.set.or.th/en/market/product/stock/quote/\"\n",
    "percent_span = '' "
   ]
  },
  {
   "cell_type": "code",
   "execution_count": 4,
   "id": "6e4b7508-0071-480d-99c8-a6c070027294",
   "metadata": {},
   "outputs": [],
   "source": [
    "# Get the user's home directory\n",
    "user_path = os.path.expanduser('~')\n",
    "# Get the current working directory\n",
    "current_path = os.getcwd()\n",
    "# Derive the base directory (base_dir) by removing the last folder ('Daily')\n",
    "base_path = os.path.dirname(current_path)\n",
    "#C:\\Users\\PC1\\OneDrive\\A5\\Data\n",
    "dat_path = os.path.join(base_path, \"Data\")\n",
    "#C:\\Users\\PC1\\OneDrive\\Imports\\santisoontarinka@gmail.com - Google Drive\\Data>\n",
    "god_path = os.path.join(user_path, \"OneDrive\",\"Imports\",\"santisoontarinka@gmail.com - Google Drive\",\"Data\")\n",
    "#C:\\Users\\PC1\\iCloudDrive\\data\n",
    "icd_path = os.path.join(user_path, \"iCloudDrive\", \"Data\")\n",
    "#C:\\Users\\PC1\\OneDrive\\Documents\\obsidian-git-sync\\Data\n",
    "osd_path = os.path.join(user_path, \"OneDrive\",\"Documents\",\"obsidian-git-sync\",\"Data\")"
   ]
  },
  {
   "cell_type": "code",
   "execution_count": 5,
   "id": "07defeb3-a742-4e64-8089-7e4fe5b8b93c",
   "metadata": {},
   "outputs": [
    {
     "name": "stdout",
     "output_type": "stream",
     "text": [
      "User path: C:\\Users\\PC1\n",
      "Current path: C:\\Users\\PC1\\OneDrive\\A5\\Daily\n",
      "Base path: C:\\Users\\PC1\\OneDrive\\A5\n",
      "Data path : C:\\Users\\PC1\\OneDrive\\A5\\Data\n",
      "Google Drive path : C:\\Users\\PC1\\OneDrive\\Imports\\santisoontarinka@gmail.com - Google Drive\\Data\n",
      "iCloudDrive path : C:\\Users\\PC1\\iCloudDrive\\Data\n",
      "Obsidian path : C:\\Users\\PC1\\OneDrive\\Documents\\obsidian-git-sync\\Data\n"
     ]
    }
   ],
   "source": [
    "print(\"User path:\", user_path)\n",
    "print(f\"Current path: {current_path}\")\n",
    "print(f\"Base path: {base_path}\")\n",
    "print(f\"Data path : {dat_path}\") \n",
    "print(f\"Google Drive path : {god_path}\")\n",
    "print(f\"iCloudDrive path : {icd_path}\") \n",
    "print(f\"Obsidian path : {osd_path}\") "
   ]
  },
  {
   "cell_type": "code",
   "execution_count": 6,
   "id": "08576879-dc60-431b-a31a-e1893e2d7922",
   "metadata": {},
   "outputs": [
    {
     "name": "stdout",
     "output_type": "stream",
     "text": [
      "Input file : C:\\Users\\PC1\\OneDrive\\A5\\Data\\name-ttl.csv\n"
     ]
    }
   ],
   "source": [
    "file_name = \"name-ttl.csv\"\n",
    "input_file = os.path.join(dat_path, file_name)\n",
    "print(f\"Input file : {input_file}\") "
   ]
  },
  {
   "cell_type": "code",
   "execution_count": 7,
   "id": "9b9668db-0773-4de5-9bd4-864c377dab80",
   "metadata": {},
   "outputs": [],
   "source": [
    "file_name = \"price-hilo.csv\"\n",
    "output_file = os.path.join(dat_path, file_name)\n",
    "god_file = os.path.join(god_path, file_name)\n",
    "icd_file = os.path.join(icd_path, file_name)\n",
    "osd_file = os.path.join(osd_path, file_name)"
   ]
  },
  {
   "cell_type": "code",
   "execution_count": 8,
   "id": "66c38ef5-8643-4ad3-81ff-9e2275d426d5",
   "metadata": {},
   "outputs": [
    {
     "name": "stdout",
     "output_type": "stream",
     "text": [
      "Output file : C:\\Users\\PC1\\OneDrive\\A5\\Data\\price-hilo.csv\n",
      "icd_file : C:\\Users\\PC1\\iCloudDrive\\Data\\price-hilo.csv\n",
      "god_file : C:\\Users\\PC1\\OneDrive\\Imports\\santisoontarinka@gmail.com - Google Drive\\Data\\price-hilo.csv\n",
      "osd_file : C:\\Users\\PC1\\OneDrive\\Documents\\obsidian-git-sync\\Data\\price-hilo.csv\n"
     ]
    }
   ],
   "source": [
    "print(f\"Output file : {output_file}\") \n",
    "print(f\"icd_file : {icd_file}\") \n",
    "print(f\"god_file : {god_file}\") \n",
    "print(f\"osd_file : {osd_file}\")"
   ]
  },
  {
   "cell_type": "code",
   "execution_count": 9,
   "id": "c1ec2693",
   "metadata": {},
   "outputs": [],
   "source": [
    "def cvt_str_to_flt(input_str):\n",
    "    # Check for the special pattern and return 0\n",
    "    if input_str == '(-)':\n",
    "        return 0\n",
    "    \n",
    "    # Remove parentheses and percent sign\n",
    "    cleaned_str = input_str.replace('(', '').replace(')', '').replace('%', '')\n",
    "\n",
    "    # Convert to float\n",
    "    try:\n",
    "        return float(cleaned_str)\n",
    "    except ValueError:\n",
    "        # Handle the case where the conversion fails\n",
    "        return None\n",
    " "
   ]
  },
  {
   "cell_type": "code",
   "execution_count": 10,
   "id": "334bed1f",
   "metadata": {},
   "outputs": [],
   "source": [
    "def get_stock_data(in_df):\n",
    "\n",
    "    in_df.columns = ['name']\n",
    "    \n",
    "    output_columns = ['name', 'price', 'today_low', 'today_high', 'year_low', 'year_high', 'percent', 'updated_at']\n",
    "    # Initialize an empty DataFrame with specified columns\n",
    "    out_df = pd.DataFrame(columns=output_columns)\n",
    "    \n",
    "    for index, row in in_df.iterrows():\n",
    "        name = str(row['name']).upper()\n",
    "        response = request.urlopen(url + name + '/price')\n",
    "        html_page = BeautifulSoup(response, 'html.parser')\n",
    "        \n",
    "  #      price = html_page.find('div', class_='value text-white mb-0 me-2 lh-1 stock-info').text.strip()        \n",
    "  #      if (price == '-'):\n",
    "  #          price = '0.00'        \n",
    "\n",
    "        price_div = html_page.find('div', class_='value text-white mb-0 me-2 lh-1 stock-info')\n",
    "        if price_div:\n",
    "            price = price_div.text.strip()\n",
    "        else:\n",
    "            print(f\"Price div not found for {name}\")\n",
    "            price = '0.00'     \n",
    "            \n",
    "        # Try to find the <h3> tag with the class 'theme-success'\n",
    "        h3_tag = html_page.find('h3', class_='theme-success')\n",
    "        if h3_tag:\n",
    "        # Find all <span> tags within the found <h3> tag\n",
    "            span_tags = h3_tag.find_all('span')\n",
    "    \n",
    "            if len(span_tags) > 1:\n",
    "                # Extract the text from the second <span> tag\n",
    "                percent_span = span_tags[1].text\n",
    "                # print(percent_span)\n",
    "                \n",
    "        # Try to find the <h3> tag with the class 'theme-danger'\n",
    "        h3_tag = html_page.find('h3', class_='theme-danger')\n",
    "        if h3_tag:\n",
    "        # Find all <span> tags within the found <h3> tag\n",
    "            span_tags = h3_tag.find_all('span')\n",
    "    \n",
    "            if len(span_tags) > 1:\n",
    "                # Extract the text from the second <span> tag\n",
    "                percent_span = span_tags[1].text\n",
    "                # print(percent_span)    \n",
    "                \n",
    "        # Try to find the <h3> tag with the class 'theme-danger'\n",
    "        h3_tag = html_page.find('h3', class_='theme-normal')\n",
    "        if h3_tag:\n",
    "        # Find all <span> tags within the found <h3> tag\n",
    "            span_tags = h3_tag.find_all('span')\n",
    "    \n",
    "            if len(span_tags) > 1:\n",
    "                # Extract the text from the second <span> tag\n",
    "                percent_span = span_tags[1].text\n",
    "                # print(percent_span)   \n",
    "                \n",
    "        percent = cvt_str_to_flt(percent_span)\n",
    "                \n",
    "        values_low = html_page.find_all('span', class_='title-font-family fs-16px fw-bolder me-auto lh-1')\n",
    "        today_low = values_low[0].text\n",
    "        if (today_low == '-'):\n",
    "            today_low = '0.00'\n",
    "        \n",
    "        values_high = html_page.find_all('span', class_='title-font-family fs-16px fw-bolder lh-1')\n",
    "        today_high = values_high[0].text\n",
    "        if (today_high == '-'):\n",
    "            today_high = '0.00'         \n",
    "        \n",
    "        year_low = values_low[1].text        \n",
    "        year_high = values_high[1].text     \n",
    "        \n",
    "        # Find the div with the specific class, then find the span within it\n",
    "        div = html_page.find('div', class_='price-detail-date d-flex align-items-center text-nowrap fs-12px')\n",
    "        if div:\n",
    "            span = div.find('span')\n",
    "            if span:\n",
    "                text = span.get_text()\n",
    "#                 print(text)\n",
    "            else:\n",
    "                print(\"Span not found\")\n",
    "        else:\n",
    "            print(\"Div not found\")\n",
    "            \n",
    "        # Extract the date part from the string\n",
    "        # Assuming the date is always in the format 'dd Mon yyyy'\n",
    "        date_str = ' '.join(text.split()[2:5])\n",
    "\n",
    "        # Parse the date string into a datetime object\n",
    "        date_obj = datetime.strptime(date_str, '%d %b %Y')\n",
    "\n",
    "        # Format the datetime object to 'yyyy-mm-dd'\n",
    "        updated_at = date_obj.strftime('%Y-%m-%d')\n",
    "\n",
    "#         print(updated_at)\n",
    "        \n",
    "        # Append row to the DataFrame and print the row\n",
    "        out_df.loc[len(out_df)] = [name, price, today_low, today_high, year_low, year_high, percent, updated_at]\n",
    "#       print(out_df.iloc[-1].to_string(header=False, index=False)) \n",
    "        print(','.join(map(str, out_df.iloc[-1])))\n",
    "        sleep(1)\n",
    "        \n",
    "    return out_df  # return the final dataframe with all values populated"
   ]
  },
  {
   "cell_type": "code",
   "execution_count": 11,
   "id": "94abc8d4",
   "metadata": {},
   "outputs": [
    {
     "name": "stdout",
     "output_type": "stream",
     "text": [
      "Start at:  08:25 PM\n"
     ]
    }
   ],
   "source": [
    "start_time = strftime(\"%I:%M %p\")\n",
    "print('Start at: ', start_time)"
   ]
  },
  {
   "cell_type": "code",
   "execution_count": 12,
   "id": "23b565ec",
   "metadata": {
    "scrolled": true
   },
   "outputs": [
    {
     "name": "stdout",
     "output_type": "stream",
     "text": [
      "ACE,1.30,1.29,1.30,1.23,1.49,0.0,2025-08-04\n",
      "ADVANC,290.00,287.00,290.00,233.00,309.00,0.69,2025-08-04\n",
      "AEONTS,98.50,97.25,99.00,90.50,148.00,0.25,2025-08-04\n",
      "AH,14.80,14.50,15.00,10.00,23.20,-1.33,2025-08-04\n",
      "AIE,1.20,1.16,1.20,0.72,1.80,3.45,2025-08-04\n",
      "AIMIRT,9.80,9.80,9.85,9.20,11.20,-0.51,2025-08-04\n",
      "AIT,5.15,5.10,5.20,3.74,5.30,0.0,2025-08-04\n",
      "AJ,2.52,2.48,2.58,1.94,5.80,-3.08,2025-08-04\n",
      "AMATA,15.70,15.60,16.30,11.20,31.00,-3.68,2025-08-04\n",
      "ANAN,0.42,0.41,0.43,0.37,0.85,0.0,2025-08-04\n",
      "AOT,39.75,39.00,40.00,26.75,65.00,0.63,2025-08-04\n",
      "AP,7.25,7.05,7.35,5.60,10.50,0.0,2025-08-04\n",
      "ASIAN,7.40,7.35,7.45,6.50,10.50,-0.67,2025-08-04\n",
      "ASK,7.70,7.50,7.70,6.20,15.30,1.32,2025-08-04\n",
      "ASP,2.38,2.36,2.46,1.81,2.70,-2.46,2025-08-04\n",
      "ASW,6.50,6.40,6.60,5.55,8.20,0.78,2025-08-04\n",
      "AWC,2.06,2.02,2.10,1.55,3.94,0.98,2025-08-04\n",
      "BA,14.70,14.30,15.30,10.60,26.00,-3.92,2025-08-04\n",
      "BAM,8.20,8.05,8.40,5.35,10.20,-2.38,2025-08-04\n",
      "BANPU,4.94,4.88,5.05,4.00,7.50,0.41,2025-08-04\n",
      "BAY,22.80,22.20,22.80,20.70,29.00,1.79,2025-08-04\n",
      "BBL,148.00,147.00,149.50,129.00,161.50,-0.34,2025-08-04\n",
      "BCH,13.90,13.60,14.10,12.30,19.20,1.46,2025-08-04\n",
      "BCP,33.75,33.00,34.00,26.50,41.00,0.0,2025-08-04\n",
      "BCPG,6.50,6.35,6.50,5.05,7.80,0.0,2025-08-04\n",
      "BCT,46.00,46.00,47.50,43.50,76.75,-3.16,2025-08-04\n",
      "BDMS,21.20,20.90,21.40,19.80,31.25,1.44,2025-08-04\n",
      "BE8,7.15,7.05,7.35,5.20,21.20,-1.38,2025-08-04\n",
      "BEAUTY,0.30,0.29,0.30,0.19,0.57,0.0,2025-08-04\n",
      "BEC,2.56,2.50,2.64,1.79,4.68,0.0,2025-08-04\n",
      "BEM,5.40,5.25,5.40,4.56,8.30,0.0,2025-08-04\n",
      "BGC,4.78,4.76,4.78,4.54,7.90,0.42,2025-08-04\n",
      "BGRIM,11.10,10.90,11.20,8.90,24.80,0.0,2025-08-04\n",
      "BH,178.50,166.50,179.00,130.00,284.00,6.25,2025-08-04\n",
      "BJC,18.80,18.50,18.90,16.50,25.75,1.08,2025-08-04\n",
      "BKIH,288.00,286.00,288.00,271.00,316.00,0.0,2025-08-04\n",
      "BLA,17.50,17.10,17.60,14.00,25.75,0.0,2025-08-04\n",
      "BLAND,0.48,0.48,0.50,0.38,0.70,-4.0,2025-08-04\n",
      "BPP,7.50,7.40,7.55,6.20,13.60,-0.66,2025-08-04\n",
      "BTS,3.44,3.40,3.48,3.28,6.40,-0.58,2025-08-04\n",
      "BTSGIF,2.62,2.62,2.64,2.54,3.52,0.0,2025-08-04\n",
      "CBG,54.75,54.00,55.50,46.50,82.00,-0.45,2025-08-04\n",
      "CENTEL,28.00,27.25,28.25,19.40,41.25,1.82,2025-08-04\n",
      "CHG,1.77,1.68,1.78,1.39,3.00,3.51,2025-08-04\n",
      "CK,13.00,12.80,13.20,10.20,21.10,-1.52,2025-08-04\n",
      "CKP,2.60,2.52,2.62,2.10,4.04,0.78,2025-08-04\n",
      "COM7,21.60,21.40,22.20,16.70,28.25,-1.82,2025-08-04\n",
      "CPALL,45.75,44.75,46.00,41.50,68.00,2.23,2025-08-04\n",
      "CPF,22.90,22.70,23.30,19.80,26.50,-2.14,2025-08-04\n",
      "CPN,51.25,50.50,51.75,41.00,68.75,1.99,2025-08-04\n",
      "CPNCG,6.05,6.05,6.10,5.30,6.65,0.0,2025-08-04\n",
      "CPNREIT,11.20,11.10,11.30,10.20,13.60,0.9,2025-08-04\n",
      "CRC,20.60,20.10,21.00,15.80,36.00,0.98,2025-08-04\n",
      "DCC,1.46,1.41,1.46,1.18,2.04,0.69,2025-08-04\n",
      "DCON,0.23,0.23,0.24,0.23,0.41,-4.17,2025-08-04\n",
      "DELTA,147.50,142.00,148.00,51.25,173.50,3.87,2025-08-04\n",
      "DIF,8.20,8.15,8.20,7.35,9.85,0.61,2025-08-04\n",
      "DOHOME,3.86,3.78,3.92,2.26,11.26,1.05,2025-08-04\n",
      "DRT,5.25,5.25,5.40,4.42,8.15,-0.94,2025-08-04\n",
      "EA,2.78,2.74,2.84,1.73,7.32,-1.42,2025-08-04\n",
      "EASTW,2.08,2.00,2.12,1.57,3.90,4.0,2025-08-04\n",
      "EGATIF,5.90,5.90,6.00,5.75,6.40,-0.84,2025-08-04\n",
      "EGCO,110.50,108.00,111.00,85.00,128.50,1.38,2025-08-04\n",
      "EPG,2.76,2.76,2.86,2.12,5.25,-2.82,2025-08-04\n",
      "FORTH,7.25,7.05,7.25,6.05,15.00,2.84,2025-08-04\n",
      "FPT,6.10,6.10,6.15,5.85,14.50,0.0,2025-08-04\n",
      "FSMART,6.30,6.00,6.40,4.72,9.15,-2.33,2025-08-04\n",
      "FTREIT,9.30,9.25,9.40,8.60,11.30,-0.53,2025-08-04\n",
      "GC,3.80,3.78,3.82,3.40,5.20,0.0,2025-08-04\n",
      "GFPT,9.80,9.75,10.00,8.00,13.20,-2.97,2025-08-04\n",
      "GGC,3.94,3.94,3.96,3.20,5.45,0.0,2025-08-04\n",
      "GLOBAL,6.55,6.25,6.60,4.16,16.27,2.34,2025-08-04\n",
      "GPSC,32.25,31.75,32.50,22.40,49.75,-0.77,2025-08-04\n",
      "GRAMMY,4.68,4.66,4.70,4.30,8.50,-0.43,2025-08-04\n",
      "GUNKUL,1.67,1.64,1.72,1.31,2.96,-2.34,2025-08-04\n",
      "GVREIT,6.55,6.50,6.55,5.20,7.15,0.0,2025-08-04\n",
      "HANA,22.50,22.20,23.00,14.00,46.00,-0.44,2025-08-04\n",
      "HFT,4.10,4.00,4.12,3.32,4.82,-3.3,2025-08-04\n",
      "HMPRO,7.00,6.85,7.05,5.70,11.10,0.0,2025-08-04\n",
      "HTC,15.30,15.10,15.40,14.50,17.70,0.66,2025-08-04\n",
      "ICHI,11.00,10.70,11.10,9.40,17.00,0.92,2025-08-04\n",
      "III,4.64,4.64,4.68,4.18,7.20,0.0,2025-08-04\n",
      "ILM,13.60,13.50,13.80,11.50,18.90,0.0,2025-08-04\n",
      "IMH,3.90,3.88,3.90,3.50,6.05,0.0,2025-08-04\n",
      "IMPACT,9.70,9.60,9.70,9.25,12.80,0.52,2025-08-04\n",
      "INOX,0.40,0.40,0.42,0.35,0.67,0.0,2025-08-04\n",
      "IP,3.30,3.24,3.34,2.02,5.15,1.23,2025-08-04\n",
      "IRPC,1.00,0.95,1.01,0.70,1.86,1.01,2025-08-04\n",
      "IVL,22.70,22.10,22.80,16.00,27.50,1.34,2025-08-04\n",
      "3BBIF,6.10,6.05,6.10,5.00,6.75,0.83,2025-08-04\n",
      "JMART,7.35,7.20,7.45,5.20,17.70,0.0,2025-08-04\n",
      "JMT,10.50,10.40,10.80,7.35,22.00,-0.94,2025-08-04\n",
      "KBANK,162.50,160.00,162.50,127.00,167.50,1.25,2025-08-04\n",
      "KCE,23.60,23.30,24.30,13.70,44.75,-2.48,2025-08-04\n",
      "KEX,1.48,1.48,1.49,0.78,3.40,0.0,2025-08-04\n",
      "KGI,3.86,3.84,3.90,3.40,4.66,-1.03,2025-08-04\n",
      "KKP,55.25,54.25,55.25,37.00,58.25,0.45,2025-08-04\n",
      "KSL,1.53,1.52,1.54,1.25,2.36,0.0,2025-08-04\n",
      "KTB,22.10,21.80,22.20,17.10,24.70,0.0,2025-08-04\n",
      "KTC,28.00,27.50,28.25,21.80,52.25,0.9,2025-08-04\n",
      "KYE,299.00,294.00,299.00,280.00,324.00,-6.85,2025-08-04\n",
      "LALIN,4.92,4.88,4.94,4.80,6.80,0.41,2025-08-04\n",
      "LANNA,16.80,16.60,16.90,13.90,17.50,0.0,2025-08-04\n",
      "LH,3.82,3.76,3.84,3.18,6.50,0.0,2025-08-04\n",
      "LHFG,0.78,0.76,0.78,0.71,0.96,0.0,2025-08-04\n",
      "LHK,3.54,3.50,3.56,3.02,4.12,0.0,2025-08-04\n",
      "LIT,0.69,0.69,0.72,0.39,1.34,-4.17,2025-08-04\n",
      "LPH,3.72,3.68,3.72,3.20,4.78,0.0,2025-08-04\n",
      "LPN,1.74,1.71,1.74,1.61,3.38,0.58,2025-08-04\n",
      "M,22.20,22.10,22.60,13.80,30.75,-1.33,2025-08-04\n",
      "MAJOR,8.40,8.30,8.60,7.35,16.00,-2.33,2025-08-04\n",
      "MBAX,1.40,1.34,1.47,1.17,3.10,1.45,2025-08-04\n",
      "MC,10.00,9.90,10.10,9.15,13.00,-0.99,2025-08-04\n",
      "MCS,8.35,8.30,8.40,5.80,9.20,0.6,2025-08-04\n",
      "MEGA,30.00,29.00,30.50,24.30,41.25,-0.83,2025-08-04\n",
      "MINT,23.80,23.50,24.00,21.70,29.50,0.42,2025-08-04\n",
      "MST,7.05,6.95,7.20,5.50,10.30,0.0,2025-08-04\n",
      "MTC,37.00,36.00,37.50,33.75,54.00,2.78,2025-08-04\n",
      "NER,4.42,4.40,4.52,3.88,5.65,-0.9,2025-08-04\n",
      "NOBLE,1.86,1.84,1.87,1.60,3.46,0.0,2025-08-04\n",
      "ONEE,2.38,2.36,2.40,1.99,4.68,0.0,2025-08-04\n",
      "OR,13.60,13.30,13.60,10.10,17.80,3.03,2025-08-04\n",
      "ORI,1.84,1.81,1.87,1.50,5.75,-1.6,2025-08-04\n",
      "OSP,17.70,17.40,17.80,12.90,24.30,0.57,2025-08-04\n",
      "PAP,1.75,1.69,1.77,1.31,2.96,-0.57,2025-08-04\n",
      "PCSGH,3.10,3.10,3.16,2.46,4.98,-1.27,2025-08-04\n",
      "PDG,2.76,2.74,2.76,2.36,2.86,0.73,2025-08-04\n",
      "PLANB,5.15,5.00,5.15,4.08,8.60,0.98,2025-08-04\n",
      "POPF,5.80,5.75,5.80,5.40,6.70,0.0,2025-08-04\n",
      "PREB,3.50,3.48,3.52,3.34,5.55,0.0,2025-08-04\n",
      "PRM,6.35,6.30,6.55,5.10,9.30,-2.31,2025-08-04\n",
      "PSH,4.32,4.26,4.38,3.66,9.80,0.0,2025-08-04\n",
      "PSL,6.45,6.30,6.55,4.96,9.60,0.0,2025-08-04\n",
      "PTG,6.55,6.45,6.65,5.45,10.70,0.0,2025-08-04\n",
      "PTL,10.50,10.50,10.60,9.20,14.40,-0.94,2025-08-04\n",
      "PTT,32.00,32.00,32.50,27.00,35.00,-0.78,2025-08-04\n",
      "PTTEP,122.50,122.00,123.00,93.00,150.50,-0.81,2025-08-04\n",
      "PTTGC,24.00,23.10,24.20,14.20,32.75,1.27,2025-08-04\n",
      "QH,1.42,1.41,1.44,1.15,2.00,-0.7,2025-08-04\n",
      "RATCH,26.00,25.50,26.25,22.50,34.25,0.0,2025-08-04\n",
      "RBF,3.66,3.64,3.74,3.04,7.60,-2.66,2025-08-04\n",
      "RCL,28.50,28.50,29.25,18.20,31.00,-2.56,2025-08-04\n",
      "RJH,13.90,13.80,14.00,11.50,26.25,0.0,2025-08-04\n",
      "ROJNA,4.66,4.66,4.72,4.14,7.50,-0.85,2025-08-04\n",
      "RS,0.23,0.21,0.23,0.19,6.45,0.0,2025-08-04\n",
      "S11,3.08,3.02,3.12,1.68,3.70,0.0,2025-08-04\n",
      "SAPPE,38.25,37.50,38.75,27.50,98.00,1.32,2025-08-04\n",
      "SAT,12.70,12.70,12.90,9.95,13.70,-1.55,2025-08-04\n",
      "SAWAD,19.60,19.20,19.70,14.80,41.36,1.03,2025-08-04\n",
      "SC,1.76,1.73,1.77,1.40,3.22,0.57,2025-08-04\n",
      "SCB,126.50,125.00,127.00,100.50,128.00,1.2,2025-08-04\n",
      "SCC,203.00,197.50,204.00,124.50,255.00,3.05,2025-08-04\n",
      "SCCC,149.50,149.00,150.00,133.50,177.50,0.0,2025-08-04\n",
      "SCGP,17.80,17.50,17.90,10.70,32.25,0.0,2025-08-04\n",
      "SENA,1.74,1.71,1.76,1.54,2.50,-1.69,2025-08-04\n",
      "SGP,6.70,6.60,6.70,5.90,7.65,0.0,2025-08-04\n",
      "SINGER,5.10,5.00,5.20,3.92,12.70,0.0,2025-08-04\n",
      "SIRI,1.46,1.44,1.48,1.11,1.94,-1.35,2025-08-04\n",
      "SIS,22.30,21.60,22.30,17.60,31.25,0.0,2025-08-04\n",
      "SJWD,8.35,8.15,8.45,5.75,12.50,0.6,2025-08-04\n",
      "SKN,5.65,5.65,5.70,5.05,6.40,0.0,2025-08-04\n",
      "SKR,6.95,6.85,7.00,6.20,9.80,0.0,2025-08-04\n",
      "SMPC,8.50,8.45,8.55,6.45,10.10,0.0,2025-08-04\n",
      "SNC,5.90,5.85,5.95,4.72,7.35,-0.84,2025-08-04\n",
      "SPALI,15.60,15.30,15.80,13.20,21.10,0.0,2025-08-04\n",
      "SPC,58.25,58.25,58.50,53.00,61.50,-0.43,2025-08-04\n",
      "SPCG,8.25,8.10,8.30,6.60,9.40,0.61,2025-08-04\n",
      "SPRC,5.45,5.35,5.55,4.26,7.95,-1.8,2025-08-04\n",
      "SPRIME,3.34,3.30,3.34,3.00,4.56,0.6,2025-08-04\n",
      "SSP,4.08,4.08,4.12,4.06,6.40,-0.97,2025-08-04\n",
      "STA,13.80,13.50,13.80,10.30,25.75,0.0,2025-08-04\n",
      "STANLY,184.50,184.50,185.50,184.50,225.00,-0.54,2025-08-04\n",
      "STGT,7.00,6.75,7.10,5.10,13.30,0.72,2025-08-04\n",
      "SUPER,0.14,0.14,0.15,0.12,0.32,-6.67,2025-08-04\n",
      "SUPEREIF,5.25,5.15,5.25,4.72,7.05,0.0,2025-08-04\n",
      "SVI,6.10,6.00,6.20,5.55,9.40,-1.61,2025-08-04\n",
      "SYNEX,11.60,11.30,11.70,9.30,16.70,0.0,2025-08-04\n",
      "TASCO,14.60,14.30,14.70,13.20,20.00,1.39,2025-08-04\n",
      "TCAP,48.25,48.00,48.75,44.00,53.50,0.0,2025-08-04\n",
      "TFFIF,6.05,5.95,6.05,5.25,7.20,0.83,2025-08-04\n",
      "TFG,5.05,5.00,5.20,3.02,5.45,-1.94,2025-08-04\n",
      "THANI,1.64,1.62,1.68,1.15,2.26,-0.61,2025-08-04\n",
      "THG,8.60,8.55,8.75,7.75,37.00,-1.71,2025-08-04\n",
      "TIPH,18.90,18.60,19.10,16.70,30.50,0.0,2025-08-04\n",
      "TIPCO,8.70,8.60,8.75,8.35,10.40,0.0,2025-08-04\n",
      "TISCO,99.00,98.50,99.00,90.00,101.00,0.25,2025-08-04\n",
      "TK,3.84,3.80,3.84,3.28,5.45,0.52,2025-08-04\n",
      "TKN,5.75,5.70,5.80,5.00,11.80,-0.86,2025-08-04\n",
      "TKS,5.65,5.60,5.75,4.90,8.15,-0.88,2025-08-04\n",
      "TMT,3.34,3.28,3.38,2.60,5.40,1.21,2025-08-04\n",
      "TMW,48.50,48.25,48.75,44.75,66.75,0.52,2025-08-04\n",
      "TOA,13.70,13.10,13.90,9.35,20.50,1.48,2025-08-04\n",
      "TOP,33.00,32.50,33.75,21.00,55.50,-2.22,2025-08-04\n",
      "TPIPL,0.90,0.89,0.91,0.72,1.29,-1.1,2025-08-04\n",
      "TPIPP,2.24,2.20,2.26,1.99,3.14,0.0,2025-08-04\n",
      "TQM,14.50,14.50,14.80,12.20,33.25,-2.03,2025-08-04\n",
      "TRUE,10.80,10.30,10.80,9.05,13.30,4.85,2025-08-04\n",
      "TSE,0.47,0.46,0.51,0.29,1.24,2.17,2025-08-04\n",
      "TSTH,0.80,0.77,0.80,0.47,0.93,1.27,2025-08-04\n",
      "TTA,4.28,4.28,4.36,3.22,6.55,-1.38,2025-08-04\n",
      "TTB,1.91,1.90,1.92,1.63,2.06,0.0,2025-08-04\n",
      "TTLPF,11.00,10.90,11.00,10.90,17.00,0.0,2025-08-04\n",
      "TTW,9.05,8.95,9.05,8.45,9.50,0.56,2025-08-04\n",
      "TU,11.50,10.90,12.00,8.60,15.80,-2.54,2025-08-04\n",
      "TVO,22.60,22.50,22.80,19.50,25.25,-0.44,2025-08-04\n",
      "TYCN,1.75,1.68,1.75,1.62,2.62,6.06,2025-08-04\n",
      "UTP,7.60,7.50,7.65,7.20,11.30,0.0,2025-08-04\n",
      "VGI,2.08,2.04,2.10,1.65,3.68,0.0,2025-08-04\n",
      "VIBHA,1.49,1.48,1.50,1.37,2.30,-0.67,2025-08-04\n",
      "VNG,2.02,2.00,2.14,1.89,3.82,0.0,2025-08-04\n",
      "WHA,3.48,3.44,3.58,2.26,6.20,-1.69,2025-08-04\n",
      "WHAIR,5.45,5.40,5.50,4.12,6.75,-0.91,2025-08-04\n",
      "WHART,9.20,9.20,9.30,8.55,10.80,-1.08,2025-08-04\n",
      "WHAUP,3.34,3.30,3.40,2.76,5.50,-1.76,2025-08-04\n",
      "WICE,3.08,3.08,3.20,2.34,7.00,-2.53,2025-08-04\n",
      "WORK,4.04,4.04,4.12,3.82,10.40,-1.94,2025-08-04\n"
     ]
    }
   ],
   "source": [
    "df = pd.read_csv(input_file, header=None)\n",
    "out_df = get_stock_data(df)"
   ]
  },
  {
   "cell_type": "code",
   "execution_count": 13,
   "id": "d31edacf",
   "metadata": {},
   "outputs": [
    {
     "name": "stdout",
     "output_type": "stream",
     "text": [
      "End at:  08:30 PM\n"
     ]
    }
   ],
   "source": [
    "end_time = strftime(\"%I:%M %p\")\n",
    "print('End at: ', end_time)"
   ]
  },
  {
   "cell_type": "code",
   "execution_count": 14,
   "id": "b89c4ae7",
   "metadata": {},
   "outputs": [
    {
     "data": {
      "text/html": [
       "<div>\n",
       "<style scoped>\n",
       "    .dataframe tbody tr th:only-of-type {\n",
       "        vertical-align: middle;\n",
       "    }\n",
       "\n",
       "    .dataframe tbody tr th {\n",
       "        vertical-align: top;\n",
       "    }\n",
       "\n",
       "    .dataframe thead th {\n",
       "        text-align: right;\n",
       "    }\n",
       "</style>\n",
       "<table border=\"1\" class=\"dataframe\">\n",
       "  <thead>\n",
       "    <tr style=\"text-align: right;\">\n",
       "      <th></th>\n",
       "      <th>name</th>\n",
       "      <th>price</th>\n",
       "      <th>today_low</th>\n",
       "      <th>today_high</th>\n",
       "      <th>year_low</th>\n",
       "      <th>year_high</th>\n",
       "      <th>percent</th>\n",
       "      <th>updated_at</th>\n",
       "    </tr>\n",
       "  </thead>\n",
       "  <tbody>\n",
       "  </tbody>\n",
       "</table>\n",
       "</div>"
      ],
      "text/plain": [
       "Empty DataFrame\n",
       "Columns: [name, price, today_low, today_high, year_low, year_high, percent, updated_at]\n",
       "Index: []"
      ]
     },
     "execution_count": 14,
     "metadata": {},
     "output_type": "execute_result"
    }
   ],
   "source": [
    "out_df.query('price == \"-\"')"
   ]
  },
  {
   "cell_type": "code",
   "execution_count": 15,
   "id": "784f1b6d",
   "metadata": {},
   "outputs": [
    {
     "data": {
      "text/plain": [
       "(216, 8)"
      ]
     },
     "execution_count": 15,
     "metadata": {},
     "output_type": "execute_result"
    }
   ],
   "source": [
    "out_df.shape"
   ]
  },
  {
   "cell_type": "code",
   "execution_count": 16,
   "id": "6326d0c5",
   "metadata": {},
   "outputs": [],
   "source": [
    "out_df = out_df[out_df['name'] != 'BCT']"
   ]
  },
  {
   "cell_type": "code",
   "execution_count": 17,
   "id": "2a293f55-436e-45d1-9966-50d12c26e659",
   "metadata": {},
   "outputs": [],
   "source": [
    "out_df = out_df[out_df['name'] != 'LPF']"
   ]
  },
  {
   "cell_type": "code",
   "execution_count": 18,
   "id": "cc4b3547-5ea9-4ac6-bd11-896e67d464ed",
   "metadata": {},
   "outputs": [],
   "source": [
    "out_df = out_df[out_df['name'] != 'TYCN']"
   ]
  },
  {
   "cell_type": "code",
   "execution_count": 19,
   "id": "865622c2-dad3-4ba8-b35a-898461fe5e9a",
   "metadata": {},
   "outputs": [],
   "source": [
    "out_df = out_df[out_df['name'] != 'GRAMMY']"
   ]
  },
  {
   "cell_type": "code",
   "execution_count": 20,
   "id": "cb2d763d-5b75-4ace-b87a-f165c8e6cb91",
   "metadata": {},
   "outputs": [],
   "source": [
    "out_df = out_df[out_df['name'] != 'MST']"
   ]
  },
  {
   "cell_type": "code",
   "execution_count": 21,
   "id": "e65305f0-157a-4129-a758-15c02e8df06a",
   "metadata": {},
   "outputs": [],
   "source": [
    "out_df = out_df[out_df['name'] != 'SPC']"
   ]
  },
  {
   "cell_type": "code",
   "execution_count": 22,
   "id": "cb55b5f6-0679-4191-aeda-ab0cf45f18e7",
   "metadata": {},
   "outputs": [],
   "source": [
    "out_df = out_df[out_df['name'] != 'SPRIME']"
   ]
  },
  {
   "cell_type": "code",
   "execution_count": 23,
   "id": "981854f1-01a1-4e26-b2a9-4f58948a33ec",
   "metadata": {},
   "outputs": [],
   "source": [
    "out_df = out_df[out_df['name'] != 'FPT']"
   ]
  },
  {
   "cell_type": "code",
   "execution_count": 24,
   "id": "a2833967-e889-4ad5-97b2-8234ba35c31c",
   "metadata": {},
   "outputs": [],
   "source": [
    "out_df = out_df[out_df['name'] != 'GGC']"
   ]
  },
  {
   "cell_type": "code",
   "execution_count": 25,
   "id": "b2771ed1",
   "metadata": {},
   "outputs": [
    {
     "data": {
      "text/plain": [
       "(208, 8)"
      ]
     },
     "execution_count": 25,
     "metadata": {},
     "output_type": "execute_result"
    }
   ],
   "source": [
    "out_df.shape"
   ]
  },
  {
   "cell_type": "code",
   "execution_count": 26,
   "id": "eb2ffec6",
   "metadata": {},
   "outputs": [],
   "source": [
    "out_df['price'] = out_df['price'].astype('float')\n",
    "out_df['today_low'] = out_df['today_low'].astype('float')\n",
    "out_df['today_high'] = out_df['today_high'].astype('float')\n",
    "out_df['year_low'] = out_df['year_low'].astype('float')\n",
    "out_df['year_high'] = out_df['year_high'].astype('float')\n",
    "out_df['percent'] = out_df['percent'].astype('float')"
   ]
  },
  {
   "cell_type": "code",
   "execution_count": 27,
   "id": "f4fb1a3c",
   "metadata": {},
   "outputs": [],
   "source": [
    "sorted_out_df = out_df.sort_values('percent')"
   ]
  },
  {
   "cell_type": "code",
   "execution_count": 28,
   "id": "032f0eea",
   "metadata": {},
   "outputs": [
    {
     "data": {
      "text/html": [
       "<div>\n",
       "<style scoped>\n",
       "    .dataframe tbody tr th:only-of-type {\n",
       "        vertical-align: middle;\n",
       "    }\n",
       "\n",
       "    .dataframe tbody tr th {\n",
       "        vertical-align: top;\n",
       "    }\n",
       "\n",
       "    .dataframe thead th {\n",
       "        text-align: right;\n",
       "    }\n",
       "</style>\n",
       "<table border=\"1\" class=\"dataframe\">\n",
       "  <thead>\n",
       "    <tr style=\"text-align: right;\">\n",
       "      <th></th>\n",
       "      <th>name</th>\n",
       "      <th>price</th>\n",
       "      <th>today_low</th>\n",
       "      <th>today_high</th>\n",
       "      <th>year_low</th>\n",
       "      <th>year_high</th>\n",
       "      <th>percent</th>\n",
       "      <th>updated_at</th>\n",
       "    </tr>\n",
       "  </thead>\n",
       "  <tbody>\n",
       "  </tbody>\n",
       "</table>\n",
       "</div>"
      ],
      "text/plain": [
       "Empty DataFrame\n",
       "Columns: [name, price, today_low, today_high, year_low, year_high, percent, updated_at]\n",
       "Index: []"
      ]
     },
     "execution_count": 28,
     "metadata": {},
     "output_type": "execute_result"
    }
   ],
   "source": [
    "sorted_out_df.query('today_low < year_low')"
   ]
  },
  {
   "cell_type": "code",
   "execution_count": 29,
   "id": "8e04b03d",
   "metadata": {},
   "outputs": [
    {
     "data": {
      "text/html": [
       "<div>\n",
       "<style scoped>\n",
       "    .dataframe tbody tr th:only-of-type {\n",
       "        vertical-align: middle;\n",
       "    }\n",
       "\n",
       "    .dataframe tbody tr th {\n",
       "        vertical-align: top;\n",
       "    }\n",
       "\n",
       "    .dataframe thead th {\n",
       "        text-align: right;\n",
       "    }\n",
       "</style>\n",
       "<table border=\"1\" class=\"dataframe\">\n",
       "  <thead>\n",
       "    <tr style=\"text-align: right;\">\n",
       "      <th></th>\n",
       "      <th>name</th>\n",
       "      <th>price</th>\n",
       "      <th>today_low</th>\n",
       "      <th>today_high</th>\n",
       "      <th>year_low</th>\n",
       "      <th>year_high</th>\n",
       "      <th>percent</th>\n",
       "      <th>updated_at</th>\n",
       "    </tr>\n",
       "  </thead>\n",
       "  <tbody>\n",
       "  </tbody>\n",
       "</table>\n",
       "</div>"
      ],
      "text/plain": [
       "Empty DataFrame\n",
       "Columns: [name, price, today_low, today_high, year_low, year_high, percent, updated_at]\n",
       "Index: []"
      ]
     },
     "execution_count": 29,
     "metadata": {},
     "output_type": "execute_result"
    }
   ],
   "source": [
    "sorted_out_df.query('today_high > year_high')"
   ]
  },
  {
   "cell_type": "code",
   "execution_count": 30,
   "id": "290a9607",
   "metadata": {},
   "outputs": [
    {
     "data": {
      "text/html": [
       "<div>\n",
       "<style scoped>\n",
       "    .dataframe tbody tr th:only-of-type {\n",
       "        vertical-align: middle;\n",
       "    }\n",
       "\n",
       "    .dataframe tbody tr th {\n",
       "        vertical-align: top;\n",
       "    }\n",
       "\n",
       "    .dataframe thead th {\n",
       "        text-align: right;\n",
       "    }\n",
       "</style>\n",
       "<table border=\"1\" class=\"dataframe\">\n",
       "  <thead>\n",
       "    <tr style=\"text-align: right;\">\n",
       "      <th></th>\n",
       "      <th>name</th>\n",
       "      <th>price</th>\n",
       "      <th>today_low</th>\n",
       "      <th>today_high</th>\n",
       "      <th>year_low</th>\n",
       "      <th>year_high</th>\n",
       "      <th>percent</th>\n",
       "      <th>updated_at</th>\n",
       "    </tr>\n",
       "  </thead>\n",
       "  <tbody>\n",
       "  </tbody>\n",
       "</table>\n",
       "</div>"
      ],
      "text/plain": [
       "Empty DataFrame\n",
       "Columns: [name, price, today_low, today_high, year_low, year_high, percent, updated_at]\n",
       "Index: []"
      ]
     },
     "execution_count": 30,
     "metadata": {},
     "output_type": "execute_result"
    }
   ],
   "source": [
    "out_df.query('today_high > year_high')"
   ]
  },
  {
   "cell_type": "code",
   "execution_count": 31,
   "id": "5fbeba56-2a63-4650-898b-6447a81f95f5",
   "metadata": {},
   "outputs": [],
   "source": [
    "file_name = \"Price-Hilo.csv\"\n",
    "output_file = os.path.join(dat_path, file_name)\n",
    "god_file = os.path.join(god_path, file_name)\n",
    "icd_file = os.path.join(icd_path, file_name)\n",
    "osd_file = os.path.join(osd_path, file_name)"
   ]
  },
  {
   "cell_type": "code",
   "execution_count": 32,
   "id": "da6183ac-2f05-4f67-b200-fe83634d29dc",
   "metadata": {},
   "outputs": [
    {
     "name": "stdout",
     "output_type": "stream",
     "text": [
      "output_file : C:\\Users\\PC1\\OneDrive\\A5\\Data\\Price-Hilo.csv\n",
      "icd_file : C:\\Users\\PC1\\iCloudDrive\\Data\\Price-Hilo.csv\n",
      "god_file : C:\\Users\\PC1\\OneDrive\\Imports\\santisoontarinka@gmail.com - Google Drive\\Data\\Price-Hilo.csv\n",
      "osd_file : C:\\Users\\PC1\\OneDrive\\Documents\\obsidian-git-sync\\Data\\Price-Hilo.csv\n"
     ]
    }
   ],
   "source": [
    "print(f\"output_file : {output_file}\") \n",
    "print(f\"icd_file : {icd_file}\") \n",
    "print(f\"god_file : {god_file}\") \n",
    "print(f\"osd_file : {osd_file}\") "
   ]
  },
  {
   "cell_type": "code",
   "execution_count": 33,
   "id": "8017b53b",
   "metadata": {},
   "outputs": [],
   "source": [
    "out_df.to_csv(output_file, index=False)  \n",
    "out_df.to_csv(god_file, index=False) \n",
    "out_df.to_csv(icd_file, index=False)  \n",
    "out_df.to_csv(osd_file, index=False) "
   ]
  },
  {
   "cell_type": "code",
   "execution_count": 34,
   "id": "80692fae-6308-4695-bcac-5124ce4d44e3",
   "metadata": {},
   "outputs": [
    {
     "name": "stdout",
     "output_type": "stream",
     "text": [
      "2025-08-04 20:30:03\n"
     ]
    }
   ],
   "source": [
    "# Get the current time\n",
    "current_time = datetime.now()\n",
    "# Format the time to remove milliseconds\n",
    "formatted_time = current_time.strftime(\"%Y-%m-%d %H:%M:%S\")\n",
    "print(formatted_time)"
   ]
  }
 ],
 "metadata": {
  "kernelspec": {
   "display_name": "Python 3 (ipykernel)",
   "language": "python",
   "name": "python3"
  },
  "language_info": {
   "codemirror_mode": {
    "name": "ipython",
    "version": 3
   },
   "file_extension": ".py",
   "mimetype": "text/x-python",
   "name": "python",
   "nbconvert_exporter": "python",
   "pygments_lexer": "ipython3",
   "version": "3.12.3"
  }
 },
 "nbformat": 4,
 "nbformat_minor": 5
}
