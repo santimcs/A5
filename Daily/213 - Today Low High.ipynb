{
 "cells": [
  {
   "cell_type": "markdown",
   "id": "930356c6",
   "metadata": {},
   "source": [
    "### Start and Run All"
   ]
  },
  {
   "cell_type": "code",
   "execution_count": 2,
   "id": "d7cfc693",
   "metadata": {},
   "outputs": [
    {
     "name": "stdout",
     "output_type": "stream",
     "text": [
      "2025-08-28 21:06:44\n"
     ]
    }
   ],
   "source": [
    "import os\n",
    "import pandas as pd\n",
    "from urllib import request\n",
    "from bs4 import BeautifulSoup\n",
    "# from datetime import date, timedelta\n",
    "from datetime import datetime\n",
    "from time import sleep, strftime\n",
    "\n",
    "# Get the current time\n",
    "current_time = datetime.now()\n",
    "# Format the time to remove milliseconds\n",
    "formatted_time = current_time.strftime(\"%Y-%m-%d %H:%M:%S\")\n",
    "print(formatted_time)"
   ]
  },
  {
   "cell_type": "code",
   "execution_count": 3,
   "id": "0cbdda38-ec42-4470-bede-c468ba46f8d8",
   "metadata": {},
   "outputs": [],
   "source": [
    "url = \"https://www.set.or.th/en/market/product/stock/quote/\"\n",
    "percent_span = '' "
   ]
  },
  {
   "cell_type": "code",
   "execution_count": 4,
   "id": "6e4b7508-0071-480d-99c8-a6c070027294",
   "metadata": {},
   "outputs": [],
   "source": [
    "# Get the user's home directory\n",
    "user_path = os.path.expanduser('~')\n",
    "# Get the current working directory\n",
    "current_path = os.getcwd()\n",
    "# Derive the base directory (base_dir) by removing the last folder ('Daily')\n",
    "base_path = os.path.dirname(current_path)\n",
    "#C:\\Users\\PC1\\OneDrive\\A5\\Data\n",
    "dat_path = os.path.join(base_path, \"Data\")\n",
    "#C:\\Users\\PC1\\OneDrive\\Imports\\santisoontarinka@gmail.com - Google Drive\\Data>\n",
    "god_path = os.path.join(user_path, \"OneDrive\",\"Imports\",\"santisoontarinka@gmail.com - Google Drive\",\"Data\")\n",
    "#C:\\Users\\PC1\\iCloudDrive\\data\n",
    "icd_path = os.path.join(user_path, \"iCloudDrive\", \"Data\")\n",
    "#C:\\Users\\PC1\\OneDrive\\Documents\\obsidian-git-sync\\Data\n",
    "osd_path = os.path.join(user_path, \"OneDrive\",\"Documents\",\"obsidian-git-sync\",\"Data\")"
   ]
  },
  {
   "cell_type": "code",
   "execution_count": 5,
   "id": "07defeb3-a742-4e64-8089-7e4fe5b8b93c",
   "metadata": {},
   "outputs": [
    {
     "name": "stdout",
     "output_type": "stream",
     "text": [
      "User path: C:\\Users\\PC1\n",
      "Current path: C:\\Users\\PC1\\OneDrive\\A5\\Daily\n",
      "Base path: C:\\Users\\PC1\\OneDrive\\A5\n",
      "Data path : C:\\Users\\PC1\\OneDrive\\A5\\Data\n",
      "Google Drive path : C:\\Users\\PC1\\OneDrive\\Imports\\santisoontarinka@gmail.com - Google Drive\\Data\n",
      "iCloudDrive path : C:\\Users\\PC1\\iCloudDrive\\Data\n",
      "Obsidian path : C:\\Users\\PC1\\OneDrive\\Documents\\obsidian-git-sync\\Data\n"
     ]
    }
   ],
   "source": [
    "print(\"User path:\", user_path)\n",
    "print(f\"Current path: {current_path}\")\n",
    "print(f\"Base path: {base_path}\")\n",
    "print(f\"Data path : {dat_path}\") \n",
    "print(f\"Google Drive path : {god_path}\")\n",
    "print(f\"iCloudDrive path : {icd_path}\") \n",
    "print(f\"Obsidian path : {osd_path}\") "
   ]
  },
  {
   "cell_type": "code",
   "execution_count": 6,
   "id": "08576879-dc60-431b-a31a-e1893e2d7922",
   "metadata": {},
   "outputs": [
    {
     "name": "stdout",
     "output_type": "stream",
     "text": [
      "Input file : C:\\Users\\PC1\\OneDrive\\A5\\Data\\name-ttl.csv\n"
     ]
    }
   ],
   "source": [
    "file_name = \"name-ttl.csv\"\n",
    "input_file = os.path.join(dat_path, file_name)\n",
    "print(f\"Input file : {input_file}\") "
   ]
  },
  {
   "cell_type": "code",
   "execution_count": 7,
   "id": "9b9668db-0773-4de5-9bd4-864c377dab80",
   "metadata": {},
   "outputs": [],
   "source": [
    "file_name = \"price-hilo.csv\"\n",
    "output_file = os.path.join(dat_path, file_name)\n",
    "god_file = os.path.join(god_path, file_name)\n",
    "icd_file = os.path.join(icd_path, file_name)\n",
    "osd_file = os.path.join(osd_path, file_name)"
   ]
  },
  {
   "cell_type": "code",
   "execution_count": 8,
   "id": "66c38ef5-8643-4ad3-81ff-9e2275d426d5",
   "metadata": {},
   "outputs": [
    {
     "name": "stdout",
     "output_type": "stream",
     "text": [
      "Output file : C:\\Users\\PC1\\OneDrive\\A5\\Data\\price-hilo.csv\n",
      "icd_file : C:\\Users\\PC1\\iCloudDrive\\Data\\price-hilo.csv\n",
      "god_file : C:\\Users\\PC1\\OneDrive\\Imports\\santisoontarinka@gmail.com - Google Drive\\Data\\price-hilo.csv\n",
      "osd_file : C:\\Users\\PC1\\OneDrive\\Documents\\obsidian-git-sync\\Data\\price-hilo.csv\n"
     ]
    }
   ],
   "source": [
    "print(f\"Output file : {output_file}\") \n",
    "print(f\"icd_file : {icd_file}\") \n",
    "print(f\"god_file : {god_file}\") \n",
    "print(f\"osd_file : {osd_file}\")"
   ]
  },
  {
   "cell_type": "code",
   "execution_count": 9,
   "id": "c1ec2693",
   "metadata": {},
   "outputs": [],
   "source": [
    "def cvt_str_to_flt(input_str):\n",
    "    # Check for the special pattern and return 0\n",
    "    if input_str == '(-)':\n",
    "        return 0\n",
    "    \n",
    "    # Remove parentheses and percent sign\n",
    "    cleaned_str = input_str.replace('(', '').replace(')', '').replace('%', '')\n",
    "\n",
    "    # Convert to float\n",
    "    try:\n",
    "        return float(cleaned_str)\n",
    "    except ValueError:\n",
    "        # Handle the case where the conversion fails\n",
    "        return None\n",
    " "
   ]
  },
  {
   "cell_type": "code",
   "execution_count": 10,
   "id": "334bed1f",
   "metadata": {},
   "outputs": [],
   "source": [
    "def get_stock_data(in_df):\n",
    "\n",
    "    in_df.columns = ['name']\n",
    "    \n",
    "    output_columns = ['name', 'price', 'today_low', 'today_high', 'year_low', 'year_high', 'percent', 'updated_at']\n",
    "    # Initialize an empty DataFrame with specified columns\n",
    "    out_df = pd.DataFrame(columns=output_columns)\n",
    "    \n",
    "    for index, row in in_df.iterrows():\n",
    "        name = str(row['name']).upper()\n",
    "        response = request.urlopen(url + name + '/price')\n",
    "        html_page = BeautifulSoup(response, 'html.parser')\n",
    "        \n",
    "  #      price = html_page.find('div', class_='value text-white mb-0 me-2 lh-1 stock-info').text.strip()        \n",
    "  #      if (price == '-'):\n",
    "  #          price = '0.00'        \n",
    "\n",
    "        price_div = html_page.find('div', class_='value text-white mb-0 me-2 lh-1 stock-info')\n",
    "        if price_div:\n",
    "            price = price_div.text.strip()\n",
    "        else:\n",
    "            print(f\"Price div not found for {name}\")\n",
    "            price = '0.00'     \n",
    "            \n",
    "        # Try to find the <h3> tag with the class 'theme-success'\n",
    "        h3_tag = html_page.find('h3', class_='theme-success')\n",
    "        if h3_tag:\n",
    "        # Find all <span> tags within the found <h3> tag\n",
    "            span_tags = h3_tag.find_all('span')\n",
    "    \n",
    "            if len(span_tags) > 1:\n",
    "                # Extract the text from the second <span> tag\n",
    "                percent_span = span_tags[1].text\n",
    "                # print(percent_span)\n",
    "                \n",
    "        # Try to find the <h3> tag with the class 'theme-danger'\n",
    "        h3_tag = html_page.find('h3', class_='theme-danger')\n",
    "        if h3_tag:\n",
    "        # Find all <span> tags within the found <h3> tag\n",
    "            span_tags = h3_tag.find_all('span')\n",
    "    \n",
    "            if len(span_tags) > 1:\n",
    "                # Extract the text from the second <span> tag\n",
    "                percent_span = span_tags[1].text\n",
    "                # print(percent_span)    \n",
    "                \n",
    "        # Try to find the <h3> tag with the class 'theme-danger'\n",
    "        h3_tag = html_page.find('h3', class_='theme-normal')\n",
    "        if h3_tag:\n",
    "        # Find all <span> tags within the found <h3> tag\n",
    "            span_tags = h3_tag.find_all('span')\n",
    "    \n",
    "            if len(span_tags) > 1:\n",
    "                # Extract the text from the second <span> tag\n",
    "                percent_span = span_tags[1].text\n",
    "                # print(percent_span)   \n",
    "                \n",
    "        percent = cvt_str_to_flt(percent_span)\n",
    "                \n",
    "        values_low = html_page.find_all('span', class_='title-font-family fs-16px fw-bolder me-auto lh-1')\n",
    "        today_low = values_low[0].text\n",
    "        if (today_low == '-'):\n",
    "            today_low = '0.00'\n",
    "        \n",
    "        values_high = html_page.find_all('span', class_='title-font-family fs-16px fw-bolder lh-1')\n",
    "        today_high = values_high[0].text\n",
    "        if (today_high == '-'):\n",
    "            today_high = '0.00'         \n",
    "        \n",
    "        year_low = values_low[1].text        \n",
    "        year_high = values_high[1].text     \n",
    "        \n",
    "        # Find the div with the specific class, then find the span within it\n",
    "        div = html_page.find('div', class_='price-detail-date d-flex align-items-center text-nowrap fs-12px')\n",
    "        if div:\n",
    "            span = div.find('span')\n",
    "            if span:\n",
    "                text = span.get_text()\n",
    "#                 print(text)\n",
    "            else:\n",
    "                print(\"Span not found\")\n",
    "        else:\n",
    "            print(\"Div not found\")\n",
    "            \n",
    "        # Extract the date part from the string\n",
    "        # Assuming the date is always in the format 'dd Mon yyyy'\n",
    "        date_str = ' '.join(text.split()[2:5])\n",
    "\n",
    "        # Parse the date string into a datetime object\n",
    "        date_obj = datetime.strptime(date_str, '%d %b %Y')\n",
    "\n",
    "        # Format the datetime object to 'yyyy-mm-dd'\n",
    "        updated_at = date_obj.strftime('%Y-%m-%d')\n",
    "\n",
    "#         print(updated_at)\n",
    "        \n",
    "        # Append row to the DataFrame and print the row\n",
    "        out_df.loc[len(out_df)] = [name, price, today_low, today_high, year_low, year_high, percent, updated_at]\n",
    "#       print(out_df.iloc[-1].to_string(header=False, index=False)) \n",
    "        print(','.join(map(str, out_df.iloc[-1])))\n",
    "        sleep(1)\n",
    "        \n",
    "    return out_df  # return the final dataframe with all values populated"
   ]
  },
  {
   "cell_type": "code",
   "execution_count": 11,
   "id": "94abc8d4",
   "metadata": {},
   "outputs": [
    {
     "name": "stdout",
     "output_type": "stream",
     "text": [
      "Start at:  09:06 PM\n"
     ]
    }
   ],
   "source": [
    "start_time = strftime(\"%I:%M %p\")\n",
    "print('Start at: ', start_time)"
   ]
  },
  {
   "cell_type": "code",
   "execution_count": 12,
   "id": "23b565ec",
   "metadata": {
    "scrolled": true
   },
   "outputs": [
    {
     "name": "stdout",
     "output_type": "stream",
     "text": [
      "ACE,1.29,1.29,1.30,1.23,1.49,-1.53,2025-08-28\n",
      "ADVANC,299.00,297.00,301.00,244.00,309.00,0.0,2025-08-28\n",
      "AEONTS,112.00,110.50,112.00,90.50,148.00,0.9,2025-08-28\n",
      "AH,14.40,14.40,14.50,10.00,23.20,-0.69,2025-08-28\n",
      "AIE,1.12,1.11,1.15,0.72,1.80,-0.88,2025-08-28\n",
      "AIMIRT,9.70,9.65,9.75,9.20,11.20,0.0,2025-08-28\n",
      "AIT,4.90,4.86,4.92,3.86,5.30,0.82,2025-08-28\n",
      "AJ,2.24,2.22,2.28,1.94,5.80,0.9,2025-08-28\n",
      "AMATA,16.00,15.90,16.30,11.20,31.00,-1.23,2025-08-28\n",
      "ANAN,0.49,0.49,0.51,0.37,0.85,-2.0,2025-08-28\n",
      "AOT,36.75,36.50,37.25,26.75,65.00,0.0,2025-08-28\n",
      "AP,7.45,7.35,7.50,5.60,10.50,0.68,2025-08-28\n",
      "ASIAN,7.10,7.05,7.15,6.50,9.70,-0.7,2025-08-28\n",
      "ASK,7.35,7.25,7.45,6.20,15.30,1.38,2025-08-28\n",
      "ASP,2.50,2.46,2.50,1.81,2.70,0.81,2025-08-28\n",
      "ASW,5.30,5.25,5.65,5.25,8.20,-5.36,2025-08-28\n",
      "AWC,2.36,2.32,2.38,1.55,3.94,0.85,2025-08-28\n",
      "BA,13.50,13.30,13.90,10.60,26.00,-0.74,2025-08-28\n",
      "BAM,8.05,8.05,8.20,5.35,10.20,-0.62,2025-08-28\n",
      "BANPU,4.82,4.76,4.84,4.00,7.50,2.55,2025-08-28\n",
      "BAY,23.50,23.40,23.70,20.70,29.00,0.43,2025-08-28\n",
      "BBL,155.50,153.50,156.50,131.00,161.50,1.3,2025-08-28\n",
      "BCH,13.40,12.50,13.40,12.30,19.20,5.51,2025-08-28\n",
      "BCP,32.75,32.00,32.75,26.50,41.00,2.34,2025-08-28\n",
      "BCPG,8.50,8.30,8.60,5.05,8.95,2.41,2025-08-28\n",
      "BCT,47.50,47.50,47.50,43.50,76.75,0.53,2025-08-28\n",
      "BDMS,20.80,20.70,21.10,19.80,31.25,0.0,2025-08-28\n",
      "BE8,5.65,5.65,5.75,5.20,21.20,-0.88,2025-08-28\n",
      "BEAUTY,0.51,0.46,0.60,0.19,0.57,-1.92,2025-08-28\n",
      "BEC,2.14,2.10,2.16,1.79,4.68,0.0,2025-08-28\n",
      "BEM,5.35,5.05,5.35,4.56,8.30,4.9,2025-08-28\n",
      "BGC,4.88,4.86,4.88,4.54,7.90,0.41,2025-08-28\n",
      "BGRIM,13.00,12.00,13.20,8.90,24.80,10.17,2025-08-28\n",
      "BH,178.50,174.50,179.50,130.00,284.00,2.29,2025-08-28\n",
      "BJC,17.50,17.00,17.50,16.50,25.75,2.94,2025-08-28\n",
      "BKIH,287.00,287.00,288.00,271.00,316.00,0.0,2025-08-28\n",
      "BLA,17.90,17.50,18.00,14.00,25.75,2.29,2025-08-28\n",
      "BLAND,0.51,0.49,0.51,0.38,0.70,2.0,2025-08-28\n",
      "BPP,8.70,8.45,8.75,6.20,13.60,2.96,2025-08-28\n",
      "BTS,3.26,3.22,3.28,3.22,6.40,1.24,2025-08-28\n",
      "BTSGIF,2.50,2.48,2.50,2.46,3.52,0.0,2025-08-28\n",
      "CBG,50.75,50.75,51.25,46.50,82.00,-0.49,2025-08-28\n",
      "CENTEL,30.50,29.50,30.75,19.40,41.25,5.17,2025-08-28\n",
      "CHG,1.60,1.58,1.61,1.39,3.00,1.27,2025-08-28\n",
      "CK,14.40,14.00,14.60,10.20,21.10,2.86,2025-08-28\n",
      "CKP,2.82,2.76,2.82,2.10,4.04,2.17,2025-08-28\n",
      "COM7,25.50,25.50,26.50,16.70,28.25,-0.97,2025-08-28\n",
      "CPALL,44.50,44.25,45.00,41.50,68.00,-0.56,2025-08-28\n",
      "CPF,23.90,23.90,24.20,19.80,26.50,0.0,2025-08-28\n",
      "CPN,54.00,54.00,55.00,41.00,68.75,-0.92,2025-08-28\n",
      "CPNCG,5.90,5.85,5.90,5.40,6.65,0.0,2025-08-28\n",
      "CPNREIT,11.20,11.20,11.30,10.20,13.60,0.0,2025-08-28\n",
      "CRC,22.10,22.10,22.50,15.80,36.00,-0.45,2025-08-28\n",
      "DCC,1.40,1.39,1.42,1.18,2.04,0.0,2025-08-28\n",
      "DCON,0.24,0.24,0.25,0.23,0.41,0.0,2025-08-28\n",
      "DELTA,150.00,150.00,154.00,51.25,173.50,-2.6,2025-08-28\n",
      "DIF,8.20,8.15,8.25,7.35,9.85,0.0,2025-08-28\n",
      "DOHOME,3.56,3.48,3.76,2.26,11.07,-4.3,2025-08-28\n",
      "DRT,5.45,5.35,5.45,4.42,8.15,0.93,2025-08-28\n",
      "EA,2.56,2.52,2.60,1.73,7.32,1.59,2025-08-28\n",
      "EASTW,2.32,2.30,2.40,1.57,3.90,-1.69,2025-08-28\n",
      "EGATIF,5.90,5.85,5.95,5.75,6.40,-2.48,2025-08-28\n",
      "EGCO,117.00,114.50,117.00,85.00,128.50,1.74,2025-08-28\n",
      "EPG,3.00,2.98,3.06,2.12,5.25,0.0,2025-08-28\n",
      "FORTH,6.80,6.75,6.90,6.05,15.00,0.0,2025-08-28\n",
      "FPT,6.15,6.10,6.20,5.85,14.00,-0.81,2025-08-28\n",
      "FSMART,6.05,5.95,6.05,5.35,9.15,0.83,2025-08-28\n",
      "FTREIT,9.50,9.50,9.60,8.60,11.30,-1.04,2025-08-28\n",
      "GC,4.06,3.90,4.10,3.40,5.10,-0.98,2025-08-28\n",
      "GFPT,9.90,9.90,10.10,8.00,12.50,-1.0,2025-08-28\n",
      "GGC,3.90,3.88,3.90,3.20,5.45,1.04,2025-08-28\n",
      "GLOBAL,6.30,6.05,6.30,4.16,16.27,1.61,2025-08-28\n",
      "GPSC,42.00,39.75,42.25,22.40,49.75,5.0,2025-08-28\n",
      "GRAMMY,4.66,4.66,4.96,4.30,8.50,-5.67,2025-08-28\n",
      "GUNKUL,1.82,1.78,1.84,1.31,2.96,2.25,2025-08-28\n",
      "GVREIT,6.20,6.15,6.25,5.25,7.15,0.0,2025-08-28\n",
      "HANA,24.80,24.50,25.25,14.00,44.00,0.4,2025-08-28\n",
      "HFT,4.22,4.18,4.26,3.32,4.76,-0.94,2025-08-28\n",
      "HMPRO,7.20,7.15,7.35,5.70,11.10,-2.04,2025-08-28\n",
      "HTC,15.00,14.90,15.10,14.50,17.70,0.0,2025-08-28\n",
      "ICHI,11.40,11.30,11.50,9.40,17.00,0.0,2025-08-28\n",
      "III,4.84,4.78,4.84,4.18,7.20,0.41,2025-08-28\n",
      "ILM,14.30,14.30,14.50,11.50,18.90,-0.69,2025-08-28\n",
      "IMH,4.00,3.86,4.16,3.50,6.05,2.56,2025-08-28\n",
      "IMPACT,10.00,10.00,10.10,9.25,12.80,0.0,2025-08-28\n",
      "INOX,0.41,0.39,0.42,0.35,0.67,5.13,2025-08-28\n",
      "IP,3.26,3.20,3.34,2.02,5.15,-0.61,2025-08-28\n",
      "IRPC,1.03,1.00,1.04,0.70,1.86,3.0,2025-08-28\n",
      "IVL,21.90,21.70,22.50,16.90,27.50,-1.35,2025-08-28\n",
      "3BBIF,6.20,6.20,6.25,5.00,6.75,0.0,2025-08-28\n",
      "JMART,8.45,8.30,8.50,5.20,17.70,1.2,2025-08-28\n",
      "JMT,11.90,11.60,12.00,7.35,22.00,0.85,2025-08-28\n",
      "KBANK,167.50,164.00,168.00,140.50,171.50,2.45,2025-08-28\n",
      "KCE,25.75,25.25,26.00,13.70,40.75,0.0,2025-08-28\n",
      "KEX,1.48,1.48,1.49,0.78,3.40,0.0,2025-08-28\n",
      "KGI,3.90,3.86,3.90,3.40,4.66,1.04,2025-08-28\n",
      "KKP,59.75,56.75,59.75,43.50,58.25,4.82,2025-08-28\n",
      "KSL,1.39,1.36,1.40,1.25,2.36,-0.71,2025-08-28\n",
      "KTB,24.80,24.40,25.00,18.20,25.25,1.64,2025-08-28\n",
      "KTC,27.50,27.25,27.75,21.80,52.25,0.92,2025-08-28\n",
      "KYE,290.00,289.00,292.00,280.00,324.00,-0.34,2025-08-28\n",
      "LALIN,4.94,4.90,5.00,4.80,6.80,-3.14,2025-08-28\n",
      "LANNA,15.90,15.90,16.10,14.10,17.50,-1.24,2025-08-28\n",
      "LH,3.92,3.88,3.94,3.18,6.50,0.51,2025-08-28\n",
      "LHFG,0.79,0.77,0.79,0.72,0.96,2.6,2025-08-28\n",
      "LHK,3.54,3.52,3.56,3.02,4.12,0.57,2025-08-28\n",
      "LIT,0.89,0.86,0.91,0.39,1.34,3.49,2025-08-28\n",
      "LPH,3.98,3.96,3.98,3.20,4.78,0.0,2025-08-28\n",
      "LPN,1.72,1.71,1.73,1.61,3.38,0.0,2025-08-28\n",
      "M,22.20,22.00,22.70,13.80,30.75,-0.89,2025-08-28\n",
      "MAJOR,8.00,7.90,8.15,7.35,16.00,-1.84,2025-08-28\n",
      "MBAX,1.37,1.37,1.38,1.17,3.10,0.0,2025-08-28\n",
      "MC,10.60,10.60,10.70,9.15,13.00,-0.93,2025-08-28\n",
      "MCS,8.30,8.15,8.40,5.80,9.20,0.61,2025-08-28\n",
      "MEGA,28.25,28.00,28.25,24.30,41.25,0.0,2025-08-28\n",
      "MINT,23.90,23.80,24.20,21.70,29.50,0.0,2025-08-28\n",
      "MST,7.35,7.25,7.35,5.50,10.30,0.68,2025-08-28\n",
      "MTC,37.75,37.75,38.25,33.75,54.00,-0.66,2025-08-28\n",
      "NER,4.28,4.26,4.30,3.88,5.65,0.47,2025-08-28\n",
      "NOBLE,1.83,1.83,1.86,1.60,3.46,0.0,2025-08-28\n",
      "ONEE,2.26,2.26,2.30,1.99,4.68,-0.88,2025-08-28\n",
      "OR,13.00,12.50,13.10,10.10,17.80,4.0,2025-08-28\n",
      "ORI,2.20,2.18,2.24,1.50,5.75,0.0,2025-08-28\n",
      "OSP,16.50,16.30,16.70,12.90,24.30,-3.51,2025-08-28\n",
      "PAP,1.76,1.74,1.78,1.31,2.96,1.15,2025-08-28\n",
      "PCSGH,3.02,3.00,3.04,2.46,4.76,-0.66,2025-08-28\n",
      "PDG,2.70,2.70,2.70,2.36,2.88,0.0,2025-08-28\n",
      "PLANB,4.60,4.54,4.68,4.08,8.60,-1.29,2025-08-28\n",
      "POPF,5.90,5.80,5.90,5.40,6.70,0.85,2025-08-28\n",
      "PREB,3.58,3.50,3.62,3.34,5.55,0.0,2025-08-28\n",
      "PRM,6.10,5.95,6.10,5.10,9.30,1.67,2025-08-28\n",
      "PSH,4.12,4.12,4.16,3.66,9.80,-1.9,2025-08-28\n",
      "PSL,6.50,6.50,6.65,4.96,9.60,-0.76,2025-08-28\n",
      "PTG,7.70,7.65,7.80,5.45,10.70,-1.28,2025-08-28\n",
      "PTL,9.55,9.55,9.65,9.20,14.40,-1.55,2025-08-28\n",
      "PTT,31.50,31.25,31.75,27.00,35.00,-0.79,2025-08-28\n",
      "PTTEP,113.50,112.50,114.50,93.00,144.00,1.79,2025-08-28\n",
      "PTTGC,26.25,26.00,26.75,14.20,32.75,-0.94,2025-08-28\n",
      "QH,1.39,1.38,1.40,1.15,2.00,0.0,2025-08-28\n",
      "RATCH,27.00,26.75,27.00,22.50,34.25,0.93,2025-08-28\n",
      "RBF,4.10,4.00,4.12,3.04,7.40,0.99,2025-08-28\n",
      "RCL,28.00,27.75,28.25,18.20,31.75,-0.88,2025-08-28\n",
      "RJH,13.50,13.50,13.60,11.50,26.25,0.0,2025-08-28\n",
      "ROJNA,4.70,4.68,4.76,4.14,7.50,-1.26,2025-08-28\n",
      "RS,0.27,0.26,0.29,0.19,6.30,-6.9,2025-08-28\n",
      "S11,3.22,3.14,3.22,1.86,3.70,0.0,2025-08-28\n",
      "SAPPE,33.00,32.75,33.25,27.50,83.00,0.76,2025-08-28\n",
      "SAT,13.00,13.00,13.20,9.95,13.70,0.0,2025-08-28\n",
      "SAWAD,25.75,25.25,25.75,14.80,41.36,3.0,2025-08-28\n",
      "SC,1.82,1.80,1.82,1.40,3.22,0.0,2025-08-28\n",
      "SCB,128.00,128.00,129.00,105.50,133.00,0.39,2025-08-28\n",
      "SCC,214.00,214.00,217.00,124.50,255.00,-0.47,2025-08-28\n",
      "SCCC,150.00,149.00,150.00,138.50,177.50,0.67,2025-08-28\n",
      "SCGP,17.30,17.00,17.50,10.70,32.25,0.58,2025-08-28\n",
      "SENA,1.86,1.84,1.86,1.54,2.50,-0.53,2025-08-28\n",
      "SGP,6.50,6.35,6.50,5.00,7.65,-0.76,2025-08-28\n",
      "SINGER,5.60,5.50,5.65,3.92,12.70,1.82,2025-08-28\n",
      "SIRI,1.45,1.43,1.45,1.11,1.94,-3.97,2025-08-28\n",
      "SIS,21.20,20.80,21.30,17.60,31.25,0.47,2025-08-28\n",
      "SJWD,10.10,10.00,10.20,5.75,12.50,0.0,2025-08-28\n",
      "SKN,5.65,5.65,5.70,5.05,6.40,0.0,2025-08-28\n",
      "SKR,7.95,7.80,8.05,6.20,9.80,-1.85,2025-08-28\n",
      "SMPC,8.85,8.80,8.85,7.80,9.95,0.57,2025-08-28\n",
      "SNC,5.90,5.85,5.90,4.96,7.35,0.0,2025-08-28\n",
      "SPALI,15.20,15.20,15.40,13.20,21.10,-1.3,2025-08-28\n",
      "SPC,58.00,58.00,58.25,53.00,61.50,-0.43,2025-08-28\n",
      "SPCG,8.55,8.50,8.60,6.60,9.40,0.0,2025-08-28\n",
      "SPRC,4.56,4.54,4.60,4.26,7.25,0.44,2025-08-28\n",
      "SPRIME,3.32,3.28,3.34,3.00,4.56,0.61,2025-08-28\n",
      "SSP,3.96,3.94,3.96,3.92,6.35,0.0,2025-08-28\n",
      "STA,12.00,12.00,12.20,10.30,25.75,0.0,2025-08-28\n",
      "STANLY,179.00,178.50,180.00,176.00,225.00,0.0,2025-08-28\n",
      "STGT,6.40,6.35,6.45,5.10,13.30,0.79,2025-08-28\n",
      "SUPER,0.14,0.14,0.15,0.12,0.32,-6.67,2025-08-28\n",
      "SUPEREIF,5.25,5.15,5.30,4.72,7.05,0.96,2025-08-28\n",
      "SVI,5.90,5.70,6.00,5.55,9.40,-1.67,2025-08-28\n",
      "SYNEX,11.70,11.70,11.90,9.30,16.70,0.0,2025-08-28\n",
      "TASCO,14.40,14.30,14.40,13.20,20.00,0.0,2025-08-28\n",
      "TCAP,50.75,50.50,51.00,44.25,53.50,0.0,2025-08-28\n",
      "TFFIF,5.95,5.90,5.95,5.25,7.20,-0.83,2025-08-28\n",
      "TFG,5.25,5.20,5.30,3.02,6.10,-0.94,2025-08-28\n",
      "THANI,1.67,1.67,1.69,1.15,2.26,0.0,2025-08-28\n",
      "THG,7.30,7.25,7.50,6.89,28.24,-10.43,2025-08-28\n",
      "TIPH,20.20,20.00,20.20,16.70,30.50,0.5,2025-08-28\n",
      "TIPCO,8.75,8.70,8.80,8.35,10.40,-0.57,2025-08-28\n",
      "TISCO,101.00,100.50,101.50,93.50,102.50,0.0,2025-08-28\n",
      "TK,4.22,4.14,4.30,3.28,5.45,1.44,2025-08-28\n",
      "TKN,5.55,5.40,5.55,5.00,11.80,0.91,2025-08-28\n",
      "TKS,5.85,5.75,5.95,4.90,8.10,-0.85,2025-08-28\n",
      "TMT,3.10,3.10,3.14,2.60,5.40,0.65,2025-08-28\n",
      "TMW,52.25,52.00,52.75,47.00,66.75,-0.95,2025-08-28\n",
      "TOA,14.30,13.70,14.40,9.35,20.50,0.7,2025-08-28\n",
      "TOP,32.50,31.75,32.50,21.00,55.50,2.36,2025-08-28\n",
      "TPIPL,0.75,0.73,0.75,0.72,1.29,1.35,2025-08-28\n",
      "TPIPP,2.22,2.16,2.22,1.99,3.14,1.83,2025-08-28\n",
      "TQM,13.60,13.50,13.70,12.20,33.25,0.74,2025-08-28\n",
      "TRUE,11.80,11.70,12.00,10.10,13.30,0.0,2025-08-28\n",
      "TSE,0.44,0.43,0.45,0.29,1.24,2.33,2025-08-28\n",
      "TSTH,0.77,0.76,0.77,0.47,0.93,0.0,2025-08-28\n",
      "TTA,4.34,4.30,4.36,3.22,6.55,0.46,2025-08-28\n",
      "TTB,1.91,1.90,1.92,1.72,2.06,0.53,2025-08-28\n",
      "TTLPF,10.60,10.30,10.70,10.80,16.20,-3.64,2025-08-28\n",
      "TTW,9.15,9.10,9.15,8.45,9.50,0.55,2025-08-28\n",
      "TU,12.20,12.10,12.50,8.60,15.80,0.83,2025-08-28\n",
      "TVO,25.00,24.70,25.25,19.70,25.75,1.63,2025-08-28\n",
      "TYCN,1.72,1.72,1.76,1.62,2.62,-0.58,2025-08-28\n",
      "UTP,7.65,7.60,7.70,7.20,11.30,0.0,2025-08-28\n",
      "VGI,2.12,2.06,2.14,1.86,3.68,1.92,2025-08-28\n",
      "VIBHA,1.47,1.45,1.48,1.37,2.30,0.68,2025-08-28\n",
      "VNG,2.00,1.98,2.06,1.89,3.82,1.01,2025-08-28\n",
      "WHA,3.60,3.58,3.64,2.26,6.20,-0.55,2025-08-28\n",
      "WHAIR,5.55,5.50,5.60,4.12,6.75,0.91,2025-08-28\n",
      "WHART,9.15,9.15,9.25,8.55,10.80,0.0,2025-08-28\n",
      "WHAUP,3.70,3.64,3.74,2.76,5.50,0.0,2025-08-28\n",
      "WICE,2.86,2.84,2.90,2.34,6.95,-0.69,2025-08-28\n",
      "WORK,4.24,4.20,4.24,3.82,10.40,0.47,2025-08-28\n"
     ]
    }
   ],
   "source": [
    "df = pd.read_csv(input_file, header=None)\n",
    "out_df = get_stock_data(df)"
   ]
  },
  {
   "cell_type": "code",
   "execution_count": 13,
   "id": "d31edacf",
   "metadata": {},
   "outputs": [
    {
     "name": "stdout",
     "output_type": "stream",
     "text": [
      "End at:  09:11 PM\n"
     ]
    }
   ],
   "source": [
    "end_time = strftime(\"%I:%M %p\")\n",
    "print('End at: ', end_time)"
   ]
  },
  {
   "cell_type": "code",
   "execution_count": 14,
   "id": "b89c4ae7",
   "metadata": {},
   "outputs": [
    {
     "data": {
      "text/html": [
       "<div>\n",
       "<style scoped>\n",
       "    .dataframe tbody tr th:only-of-type {\n",
       "        vertical-align: middle;\n",
       "    }\n",
       "\n",
       "    .dataframe tbody tr th {\n",
       "        vertical-align: top;\n",
       "    }\n",
       "\n",
       "    .dataframe thead th {\n",
       "        text-align: right;\n",
       "    }\n",
       "</style>\n",
       "<table border=\"1\" class=\"dataframe\">\n",
       "  <thead>\n",
       "    <tr style=\"text-align: right;\">\n",
       "      <th></th>\n",
       "      <th>name</th>\n",
       "      <th>price</th>\n",
       "      <th>today_low</th>\n",
       "      <th>today_high</th>\n",
       "      <th>year_low</th>\n",
       "      <th>year_high</th>\n",
       "      <th>percent</th>\n",
       "      <th>updated_at</th>\n",
       "    </tr>\n",
       "  </thead>\n",
       "  <tbody>\n",
       "  </tbody>\n",
       "</table>\n",
       "</div>"
      ],
      "text/plain": [
       "Empty DataFrame\n",
       "Columns: [name, price, today_low, today_high, year_low, year_high, percent, updated_at]\n",
       "Index: []"
      ]
     },
     "execution_count": 14,
     "metadata": {},
     "output_type": "execute_result"
    }
   ],
   "source": [
    "out_df.query('price == \"-\"')"
   ]
  },
  {
   "cell_type": "code",
   "execution_count": 15,
   "id": "784f1b6d",
   "metadata": {},
   "outputs": [
    {
     "data": {
      "text/plain": [
       "(216, 8)"
      ]
     },
     "execution_count": 15,
     "metadata": {},
     "output_type": "execute_result"
    }
   ],
   "source": [
    "out_df.shape"
   ]
  },
  {
   "cell_type": "code",
   "execution_count": 16,
   "id": "6326d0c5",
   "metadata": {},
   "outputs": [],
   "source": [
    "out_df = out_df[out_df['name'] != 'BCT']"
   ]
  },
  {
   "cell_type": "code",
   "execution_count": 17,
   "id": "2a293f55-436e-45d1-9966-50d12c26e659",
   "metadata": {},
   "outputs": [],
   "source": [
    "out_df = out_df[out_df['name'] != 'LPF']"
   ]
  },
  {
   "cell_type": "code",
   "execution_count": 18,
   "id": "cc4b3547-5ea9-4ac6-bd11-896e67d464ed",
   "metadata": {},
   "outputs": [],
   "source": [
    "out_df = out_df[out_df['name'] != 'TYCN']"
   ]
  },
  {
   "cell_type": "code",
   "execution_count": 19,
   "id": "865622c2-dad3-4ba8-b35a-898461fe5e9a",
   "metadata": {},
   "outputs": [],
   "source": [
    "out_df = out_df[out_df['name'] != 'GRAMMY']"
   ]
  },
  {
   "cell_type": "code",
   "execution_count": 20,
   "id": "cb2d763d-5b75-4ace-b87a-f165c8e6cb91",
   "metadata": {},
   "outputs": [],
   "source": [
    "out_df = out_df[out_df['name'] != 'MST']"
   ]
  },
  {
   "cell_type": "code",
   "execution_count": 21,
   "id": "e65305f0-157a-4129-a758-15c02e8df06a",
   "metadata": {},
   "outputs": [],
   "source": [
    "out_df = out_df[out_df['name'] != 'SPC']"
   ]
  },
  {
   "cell_type": "code",
   "execution_count": 22,
   "id": "cb55b5f6-0679-4191-aeda-ab0cf45f18e7",
   "metadata": {},
   "outputs": [],
   "source": [
    "out_df = out_df[out_df['name'] != 'SPRIME']"
   ]
  },
  {
   "cell_type": "code",
   "execution_count": 23,
   "id": "981854f1-01a1-4e26-b2a9-4f58948a33ec",
   "metadata": {},
   "outputs": [],
   "source": [
    "out_df = out_df[out_df['name'] != 'FPT']"
   ]
  },
  {
   "cell_type": "code",
   "execution_count": 24,
   "id": "a2833967-e889-4ad5-97b2-8234ba35c31c",
   "metadata": {},
   "outputs": [],
   "source": [
    "out_df = out_df[out_df['name'] != 'GGC']"
   ]
  },
  {
   "cell_type": "code",
   "execution_count": 25,
   "id": "b2771ed1",
   "metadata": {},
   "outputs": [
    {
     "data": {
      "text/plain": [
       "(208, 8)"
      ]
     },
     "execution_count": 25,
     "metadata": {},
     "output_type": "execute_result"
    }
   ],
   "source": [
    "out_df.shape"
   ]
  },
  {
   "cell_type": "code",
   "execution_count": 26,
   "id": "eb2ffec6",
   "metadata": {},
   "outputs": [],
   "source": [
    "out_df['price'] = out_df['price'].astype('float')\n",
    "out_df['today_low'] = out_df['today_low'].astype('float')\n",
    "out_df['today_high'] = out_df['today_high'].astype('float')\n",
    "out_df['year_low'] = out_df['year_low'].astype('float')\n",
    "out_df['year_high'] = out_df['year_high'].astype('float')\n",
    "out_df['percent'] = out_df['percent'].astype('float')"
   ]
  },
  {
   "cell_type": "code",
   "execution_count": 27,
   "id": "f4fb1a3c",
   "metadata": {},
   "outputs": [],
   "source": [
    "sorted_out_df = out_df.sort_values('percent')"
   ]
  },
  {
   "cell_type": "code",
   "execution_count": 28,
   "id": "032f0eea",
   "metadata": {},
   "outputs": [
    {
     "data": {
      "text/html": [
       "<div>\n",
       "<style scoped>\n",
       "    .dataframe tbody tr th:only-of-type {\n",
       "        vertical-align: middle;\n",
       "    }\n",
       "\n",
       "    .dataframe tbody tr th {\n",
       "        vertical-align: top;\n",
       "    }\n",
       "\n",
       "    .dataframe thead th {\n",
       "        text-align: right;\n",
       "    }\n",
       "</style>\n",
       "<table border=\"1\" class=\"dataframe\">\n",
       "  <thead>\n",
       "    <tr style=\"text-align: right;\">\n",
       "      <th></th>\n",
       "      <th>name</th>\n",
       "      <th>price</th>\n",
       "      <th>today_low</th>\n",
       "      <th>today_high</th>\n",
       "      <th>year_low</th>\n",
       "      <th>year_high</th>\n",
       "      <th>percent</th>\n",
       "      <th>updated_at</th>\n",
       "    </tr>\n",
       "  </thead>\n",
       "  <tbody>\n",
       "    <tr>\n",
       "      <th>201</th>\n",
       "      <td>TTLPF</td>\n",
       "      <td>10.6</td>\n",
       "      <td>10.3</td>\n",
       "      <td>10.7</td>\n",
       "      <td>10.8</td>\n",
       "      <td>16.2</td>\n",
       "      <td>-3.64</td>\n",
       "      <td>2025-08-28</td>\n",
       "    </tr>\n",
       "  </tbody>\n",
       "</table>\n",
       "</div>"
      ],
      "text/plain": [
       "      name  price  today_low  today_high  year_low  year_high  percent  \\\n",
       "201  TTLPF   10.6       10.3        10.7      10.8       16.2    -3.64   \n",
       "\n",
       "     updated_at  \n",
       "201  2025-08-28  "
      ]
     },
     "execution_count": 28,
     "metadata": {},
     "output_type": "execute_result"
    }
   ],
   "source": [
    "sorted_out_df.query('today_low < year_low')"
   ]
  },
  {
   "cell_type": "code",
   "execution_count": 29,
   "id": "8e04b03d",
   "metadata": {},
   "outputs": [
    {
     "data": {
      "text/html": [
       "<div>\n",
       "<style scoped>\n",
       "    .dataframe tbody tr th:only-of-type {\n",
       "        vertical-align: middle;\n",
       "    }\n",
       "\n",
       "    .dataframe tbody tr th {\n",
       "        vertical-align: top;\n",
       "    }\n",
       "\n",
       "    .dataframe thead th {\n",
       "        text-align: right;\n",
       "    }\n",
       "</style>\n",
       "<table border=\"1\" class=\"dataframe\">\n",
       "  <thead>\n",
       "    <tr style=\"text-align: right;\">\n",
       "      <th></th>\n",
       "      <th>name</th>\n",
       "      <th>price</th>\n",
       "      <th>today_low</th>\n",
       "      <th>today_high</th>\n",
       "      <th>year_low</th>\n",
       "      <th>year_high</th>\n",
       "      <th>percent</th>\n",
       "      <th>updated_at</th>\n",
       "    </tr>\n",
       "  </thead>\n",
       "  <tbody>\n",
       "    <tr>\n",
       "      <th>28</th>\n",
       "      <td>BEAUTY</td>\n",
       "      <td>0.51</td>\n",
       "      <td>0.46</td>\n",
       "      <td>0.60</td>\n",
       "      <td>0.19</td>\n",
       "      <td>0.57</td>\n",
       "      <td>-1.92</td>\n",
       "      <td>2025-08-28</td>\n",
       "    </tr>\n",
       "    <tr>\n",
       "      <th>96</th>\n",
       "      <td>KKP</td>\n",
       "      <td>59.75</td>\n",
       "      <td>56.75</td>\n",
       "      <td>59.75</td>\n",
       "      <td>43.50</td>\n",
       "      <td>58.25</td>\n",
       "      <td>4.82</td>\n",
       "      <td>2025-08-28</td>\n",
       "    </tr>\n",
       "  </tbody>\n",
       "</table>\n",
       "</div>"
      ],
      "text/plain": [
       "      name  price  today_low  today_high  year_low  year_high  percent  \\\n",
       "28  BEAUTY   0.51       0.46        0.60      0.19       0.57    -1.92   \n",
       "96     KKP  59.75      56.75       59.75     43.50      58.25     4.82   \n",
       "\n",
       "    updated_at  \n",
       "28  2025-08-28  \n",
       "96  2025-08-28  "
      ]
     },
     "execution_count": 29,
     "metadata": {},
     "output_type": "execute_result"
    }
   ],
   "source": [
    "sorted_out_df.query('today_high > year_high')"
   ]
  },
  {
   "cell_type": "code",
   "execution_count": 30,
   "id": "290a9607",
   "metadata": {},
   "outputs": [
    {
     "data": {
      "text/html": [
       "<div>\n",
       "<style scoped>\n",
       "    .dataframe tbody tr th:only-of-type {\n",
       "        vertical-align: middle;\n",
       "    }\n",
       "\n",
       "    .dataframe tbody tr th {\n",
       "        vertical-align: top;\n",
       "    }\n",
       "\n",
       "    .dataframe thead th {\n",
       "        text-align: right;\n",
       "    }\n",
       "</style>\n",
       "<table border=\"1\" class=\"dataframe\">\n",
       "  <thead>\n",
       "    <tr style=\"text-align: right;\">\n",
       "      <th></th>\n",
       "      <th>name</th>\n",
       "      <th>price</th>\n",
       "      <th>today_low</th>\n",
       "      <th>today_high</th>\n",
       "      <th>year_low</th>\n",
       "      <th>year_high</th>\n",
       "      <th>percent</th>\n",
       "      <th>updated_at</th>\n",
       "    </tr>\n",
       "  </thead>\n",
       "  <tbody>\n",
       "    <tr>\n",
       "      <th>28</th>\n",
       "      <td>BEAUTY</td>\n",
       "      <td>0.51</td>\n",
       "      <td>0.46</td>\n",
       "      <td>0.60</td>\n",
       "      <td>0.19</td>\n",
       "      <td>0.57</td>\n",
       "      <td>-1.92</td>\n",
       "      <td>2025-08-28</td>\n",
       "    </tr>\n",
       "    <tr>\n",
       "      <th>96</th>\n",
       "      <td>KKP</td>\n",
       "      <td>59.75</td>\n",
       "      <td>56.75</td>\n",
       "      <td>59.75</td>\n",
       "      <td>43.50</td>\n",
       "      <td>58.25</td>\n",
       "      <td>4.82</td>\n",
       "      <td>2025-08-28</td>\n",
       "    </tr>\n",
       "  </tbody>\n",
       "</table>\n",
       "</div>"
      ],
      "text/plain": [
       "      name  price  today_low  today_high  year_low  year_high  percent  \\\n",
       "28  BEAUTY   0.51       0.46        0.60      0.19       0.57    -1.92   \n",
       "96     KKP  59.75      56.75       59.75     43.50      58.25     4.82   \n",
       "\n",
       "    updated_at  \n",
       "28  2025-08-28  \n",
       "96  2025-08-28  "
      ]
     },
     "execution_count": 30,
     "metadata": {},
     "output_type": "execute_result"
    }
   ],
   "source": [
    "out_df.query('today_high > year_high')"
   ]
  },
  {
   "cell_type": "code",
   "execution_count": 31,
   "id": "5fbeba56-2a63-4650-898b-6447a81f95f5",
   "metadata": {},
   "outputs": [],
   "source": [
    "file_name = \"Price-Hilo.csv\"\n",
    "output_file = os.path.join(dat_path, file_name)\n",
    "god_file = os.path.join(god_path, file_name)\n",
    "icd_file = os.path.join(icd_path, file_name)\n",
    "osd_file = os.path.join(osd_path, file_name)"
   ]
  },
  {
   "cell_type": "code",
   "execution_count": 32,
   "id": "da6183ac-2f05-4f67-b200-fe83634d29dc",
   "metadata": {},
   "outputs": [
    {
     "name": "stdout",
     "output_type": "stream",
     "text": [
      "output_file : C:\\Users\\PC1\\OneDrive\\A5\\Data\\Price-Hilo.csv\n",
      "icd_file : C:\\Users\\PC1\\iCloudDrive\\Data\\Price-Hilo.csv\n",
      "god_file : C:\\Users\\PC1\\OneDrive\\Imports\\santisoontarinka@gmail.com - Google Drive\\Data\\Price-Hilo.csv\n",
      "osd_file : C:\\Users\\PC1\\OneDrive\\Documents\\obsidian-git-sync\\Data\\Price-Hilo.csv\n"
     ]
    }
   ],
   "source": [
    "print(f\"output_file : {output_file}\") \n",
    "print(f\"icd_file : {icd_file}\") \n",
    "print(f\"god_file : {god_file}\") \n",
    "print(f\"osd_file : {osd_file}\") "
   ]
  },
  {
   "cell_type": "code",
   "execution_count": 33,
   "id": "8017b53b",
   "metadata": {},
   "outputs": [],
   "source": [
    "out_df.to_csv(output_file, index=False)  \n",
    "out_df.to_csv(god_file, index=False) \n",
    "out_df.to_csv(icd_file, index=False)  \n",
    "out_df.to_csv(osd_file, index=False) "
   ]
  },
  {
   "cell_type": "code",
   "execution_count": 34,
   "id": "80692fae-6308-4695-bcac-5124ce4d44e3",
   "metadata": {},
   "outputs": [
    {
     "name": "stdout",
     "output_type": "stream",
     "text": [
      "2025-08-28 21:11:51\n"
     ]
    }
   ],
   "source": [
    "# Get the current time\n",
    "current_time = datetime.now()\n",
    "# Format the time to remove milliseconds\n",
    "formatted_time = current_time.strftime(\"%Y-%m-%d %H:%M:%S\")\n",
    "print(formatted_time)"
   ]
  }
 ],
 "metadata": {
  "kernelspec": {
   "display_name": "Python 3 (ipykernel)",
   "language": "python",
   "name": "python3"
  },
  "language_info": {
   "codemirror_mode": {
    "name": "ipython",
    "version": 3
   },
   "file_extension": ".py",
   "mimetype": "text/x-python",
   "name": "python",
   "nbconvert_exporter": "python",
   "pygments_lexer": "ipython3",
   "version": "3.12.3"
  }
 },
 "nbformat": 4,
 "nbformat_minor": 5
}
