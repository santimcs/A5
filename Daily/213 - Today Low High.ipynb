{
 "cells": [
  {
   "cell_type": "markdown",
   "id": "930356c6",
   "metadata": {},
   "source": [
    "### Start and Run All"
   ]
  },
  {
   "cell_type": "code",
   "execution_count": 2,
   "id": "d7cfc693",
   "metadata": {},
   "outputs": [
    {
     "data": {
      "text/plain": [
       "datetime.datetime(2025, 1, 21, 21, 59, 17, 709624)"
      ]
     },
     "execution_count": 2,
     "metadata": {},
     "output_type": "execute_result"
    }
   ],
   "source": [
    "import os\n",
    "import pandas as pd\n",
    "from urllib import request\n",
    "from bs4 import BeautifulSoup\n",
    "# from datetime import date, timedelta\n",
    "from datetime import datetime\n",
    "from time import sleep, strftime\n",
    "current_time = datetime.now()\n",
    "current_time"
   ]
  },
  {
   "cell_type": "code",
   "execution_count": 4,
   "id": "0cbdda38-ec42-4470-bede-c468ba46f8d8",
   "metadata": {},
   "outputs": [],
   "source": [
    "url = \"https://www.set.or.th/en/market/product/stock/quote/\"\n",
    "percent_span = '' "
   ]
  },
  {
   "cell_type": "code",
   "execution_count": 6,
   "id": "6e4b7508-0071-480d-99c8-a6c070027294",
   "metadata": {},
   "outputs": [],
   "source": [
    "# Get the user's home directory\n",
    "user_path = os.path.expanduser('~')\n",
    "# Get the current working directory\n",
    "current_path = os.getcwd()\n",
    "# Derive the base directory (base_dir) by removing the last folder ('Daily')\n",
    "base_path = os.path.dirname(current_path)\n",
    "#C:\\Users\\PC1\\OneDrive\\A5\\Data\n",
    "dat_path = os.path.join(base_path, \"Data\")\n",
    "#C:\\Users\\PC1\\Downloads\\Datasets\n",
    "dts_path = os.path.join(user_path, \"Downloads\", \"Datasets\")\n",
    "#C:\\Users\\PC1\\OneDrive\\Imports\\santisoontarinka@gmail.com - Google Drive\\Data>\n",
    "god_path = os.path.join(user_path, \"OneDrive\",\"Imports\",\"santisoontarinka@gmail.com - Google Drive\",\"Data\")\n",
    "#C:\\Users\\PC1\\iCloudDrive\\data\n",
    "icd_path = os.path.join(user_path, \"iCloudDrive\", \"Data\")\n",
    "#C:\\Users\\PC1\\OneDrive\\Documents\\obsidian-git-sync\\Data\n",
    "osd_path = os.path.join(user_path, \"OneDrive\",\"Documents\",\"obsidian-git-sync\",\"Data\")\n",
    "#C:\\Users\\PC1\\OneDrive\\A5\\Excel\n",
    "xsl_path = os.path.join(base_path, \"Excel\")"
   ]
  },
  {
   "cell_type": "code",
   "execution_count": 8,
   "id": "07defeb3-a742-4e64-8089-7e4fe5b8b93c",
   "metadata": {},
   "outputs": [
    {
     "name": "stdout",
     "output_type": "stream",
     "text": [
      "User path: C:\\Users\\PC1\n",
      "Current path: C:\\Users\\PC1\\OneDrive\\A5\\Daily\n",
      "Data path (dat_path): C:\\Users\\PC1\\OneDrive\\A5\\Data\n",
      "Datasets path (dts_path): C:\\Users\\PC1\\Downloads\\Datasets\n",
      "Excel path (xsl_path): C:\\Users\\PC1\\OneDrive\\A5\\Excel\n",
      "Google Drive path (god_path): C:\\Users\\PC1\\OneDrive\\Imports\\santisoontarinka@gmail.com - Google Drive\\Data\n",
      "iCloudDrive path (icd_path): C:\\Users\\PC1\\iCloudDrive\\Data\n",
      "OSD path (osd_path): C:\\Users\\PC1\\OneDrive\\Documents\\obsidian-git-sync\\Data\n"
     ]
    }
   ],
   "source": [
    "print(\"User path:\", user_path)\n",
    "print(f\"Current path: {current_path}\")\n",
    "print(f\"Data path (dat_path): {dat_path}\") \n",
    "print(f\"Datasets path (dts_path): {dts_path}\") \n",
    "print(f\"Excel path (xsl_path): {xsl_path}\") \n",
    "print(f\"Google Drive path (god_path): {god_path}\")\n",
    "print(f\"iCloudDrive path (icd_path): {icd_path}\") \n",
    "print(f\"OSD path (osd_path): {osd_path}\") "
   ]
  },
  {
   "cell_type": "code",
   "execution_count": 10,
   "id": "08576879-dc60-431b-a31a-e1893e2d7922",
   "metadata": {},
   "outputs": [
    {
     "name": "stdout",
     "output_type": "stream",
     "text": [
      "Input file (input_file): C:\\Users\\PC1\\OneDrive\\A5\\Data\\name-ttl.csv\n"
     ]
    }
   ],
   "source": [
    "file_name = \"name-ttl.csv\"\n",
    "input_file = os.path.join(dat_path, file_name)\n",
    "print(f\"Input file (input_file): {input_file}\") "
   ]
  },
  {
   "cell_type": "code",
   "execution_count": 12,
   "id": "9b9668db-0773-4de5-9bd4-864c377dab80",
   "metadata": {},
   "outputs": [],
   "source": [
    "file_name = \"price-hilo.csv\"\n",
    "output_file = os.path.join(dat_path, file_name)\n",
    "god_file = os.path.join(god_path, file_name)\n",
    "icd_file = os.path.join(icd_path, file_name)\n",
    "osd_file = os.path.join(osd_path, file_name)"
   ]
  },
  {
   "cell_type": "code",
   "execution_count": 14,
   "id": "66c38ef5-8643-4ad3-81ff-9e2275d426d5",
   "metadata": {},
   "outputs": [
    {
     "name": "stdout",
     "output_type": "stream",
     "text": [
      "output_file (output_file): C:\\Users\\PC1\\OneDrive\\A5\\Data\\price-hilo.csv\n",
      "icd_file (icd_file): C:\\Users\\PC1\\iCloudDrive\\Data\\price-hilo.csv\n",
      "god_file (god_file): C:\\Users\\PC1\\OneDrive\\Imports\\santisoontarinka@gmail.com - Google Drive\\Data\\price-hilo.csv\n",
      "osd_file (osd_file): C:\\Users\\PC1\\OneDrive\\Documents\\obsidian-git-sync\\Data\\price-hilo.csv\n"
     ]
    }
   ],
   "source": [
    "print(f\"output_file (output_file): {output_file}\") \n",
    "print(f\"icd_file (icd_file): {icd_file}\") \n",
    "print(f\"god_file (god_file): {god_file}\") \n",
    "print(f\"osd_file (osd_file): {osd_file}\")"
   ]
  },
  {
   "cell_type": "code",
   "execution_count": 16,
   "id": "c1ec2693",
   "metadata": {},
   "outputs": [],
   "source": [
    "def cvt_str_to_flt(input_str):\n",
    "    # Check for the special pattern and return 0\n",
    "    if input_str == '(-)':\n",
    "        return 0\n",
    "    \n",
    "    # Remove parentheses and percent sign\n",
    "    cleaned_str = input_str.replace('(', '').replace(')', '').replace('%', '')\n",
    "\n",
    "    # Convert to float\n",
    "    try:\n",
    "        return float(cleaned_str)\n",
    "    except ValueError:\n",
    "        # Handle the case where the conversion fails\n",
    "        return None\n",
    " "
   ]
  },
  {
   "cell_type": "code",
   "execution_count": 18,
   "id": "334bed1f",
   "metadata": {},
   "outputs": [],
   "source": [
    "def get_stock_data(in_df):\n",
    "\n",
    "    in_df.columns = ['name']\n",
    "    \n",
    "    output_columns = ['name', 'price', 'today_low', 'today_high', 'year_low', 'year_high', 'percent', 'updated_at']\n",
    "    # Initialize an empty DataFrame with specified columns\n",
    "    out_df = pd.DataFrame(columns=output_columns)\n",
    "    \n",
    "    for index, row in in_df.iterrows():\n",
    "        name = str(row['name']).upper()\n",
    "        response = request.urlopen(url + name + '/price')\n",
    "        html_page = BeautifulSoup(response, 'html.parser')\n",
    "        \n",
    "  #      price = html_page.find('div', class_='value text-white mb-0 me-2 lh-1 stock-info').text.strip()        \n",
    "  #      if (price == '-'):\n",
    "  #          price = '0.00'        \n",
    "\n",
    "        price_div = html_page.find('div', class_='value text-white mb-0 me-2 lh-1 stock-info')\n",
    "        if price_div:\n",
    "            price = price_div.text.strip()\n",
    "        else:\n",
    "            print(f\"Price div not found for {name}\")\n",
    "            price = '0.00'     \n",
    "            \n",
    "        # Try to find the <h3> tag with the class 'theme-success'\n",
    "        h3_tag = html_page.find('h3', class_='theme-success')\n",
    "        if h3_tag:\n",
    "        # Find all <span> tags within the found <h3> tag\n",
    "            span_tags = h3_tag.find_all('span')\n",
    "    \n",
    "            if len(span_tags) > 1:\n",
    "                # Extract the text from the second <span> tag\n",
    "                percent_span = span_tags[1].text\n",
    "                # print(percent_span)\n",
    "                \n",
    "        # Try to find the <h3> tag with the class 'theme-danger'\n",
    "        h3_tag = html_page.find('h3', class_='theme-danger')\n",
    "        if h3_tag:\n",
    "        # Find all <span> tags within the found <h3> tag\n",
    "            span_tags = h3_tag.find_all('span')\n",
    "    \n",
    "            if len(span_tags) > 1:\n",
    "                # Extract the text from the second <span> tag\n",
    "                percent_span = span_tags[1].text\n",
    "                # print(percent_span)    \n",
    "                \n",
    "        # Try to find the <h3> tag with the class 'theme-danger'\n",
    "        h3_tag = html_page.find('h3', class_='theme-normal')\n",
    "        if h3_tag:\n",
    "        # Find all <span> tags within the found <h3> tag\n",
    "            span_tags = h3_tag.find_all('span')\n",
    "    \n",
    "            if len(span_tags) > 1:\n",
    "                # Extract the text from the second <span> tag\n",
    "                percent_span = span_tags[1].text\n",
    "                # print(percent_span)   \n",
    "                \n",
    "        percent = cvt_str_to_flt(percent_span)\n",
    "                \n",
    "        values_low = html_page.find_all('span', class_='title-font-family fs-16px fw-bolder me-auto lh-1')\n",
    "        today_low = values_low[0].text\n",
    "        if (today_low == '-'):\n",
    "            today_low = '0.00'\n",
    "        \n",
    "        values_high = html_page.find_all('span', class_='title-font-family fs-16px fw-bolder lh-1')\n",
    "        today_high = values_high[0].text\n",
    "        if (today_high == '-'):\n",
    "            today_high = '0.00'         \n",
    "        \n",
    "        year_low = values_low[1].text        \n",
    "        year_high = values_high[1].text     \n",
    "        \n",
    "        # Find the div with the specific class, then find the span within it\n",
    "        div = html_page.find('div', class_='price-detail-date d-flex align-items-center text-nowrap fs-12px')\n",
    "        if div:\n",
    "            span = div.find('span')\n",
    "            if span:\n",
    "                text = span.get_text()\n",
    "#                 print(text)\n",
    "            else:\n",
    "                print(\"Span not found\")\n",
    "        else:\n",
    "            print(\"Div not found\")\n",
    "            \n",
    "        # Extract the date part from the string\n",
    "        # Assuming the date is always in the format 'dd Mon yyyy'\n",
    "        date_str = ' '.join(text.split()[2:5])\n",
    "\n",
    "        # Parse the date string into a datetime object\n",
    "        date_obj = datetime.strptime(date_str, '%d %b %Y')\n",
    "\n",
    "        # Format the datetime object to 'yyyy-mm-dd'\n",
    "        updated_at = date_obj.strftime('%Y-%m-%d')\n",
    "\n",
    "#         print(updated_at)\n",
    "        \n",
    "        # Append row to the DataFrame and print the row\n",
    "        out_df.loc[len(out_df)] = [name, price, today_low, today_high, year_low, year_high, percent, updated_at]\n",
    "#       print(out_df.iloc[-1].to_string(header=False, index=False)) \n",
    "        print(','.join(map(str, out_df.iloc[-1])))\n",
    "        sleep(1)\n",
    "        \n",
    "    return out_df  # return the final dataframe with all values populated"
   ]
  },
  {
   "cell_type": "code",
   "execution_count": 20,
   "id": "94abc8d4",
   "metadata": {},
   "outputs": [
    {
     "name": "stdout",
     "output_type": "stream",
     "text": [
      "Start at:  10:05 PM\n"
     ]
    }
   ],
   "source": [
    "start_time = strftime(\"%I:%M %p\")\n",
    "print('Start at: ', start_time)"
   ]
  },
  {
   "cell_type": "code",
   "execution_count": 26,
   "id": "23b565ec",
   "metadata": {},
   "outputs": [
    {
     "name": "stdout",
     "output_type": "stream",
     "text": [
      "ACE,1.26,1.26,1.28,1.25,1.60,-0.79,2025-01-21\n",
      "ADVANC,288.00,282.00,288.00,193.00,299.00,1.77,2025-01-21\n",
      "AEONTS,116.50,115.00,117.50,107.00,168.50,1.75,2025-01-21\n",
      "AH,14.90,14.90,15.20,14.30,30.50,0.0,2025-01-21\n",
      "AIE,0.79,0.74,0.79,0.74,1.51,5.33,2025-01-21\n",
      "AIMIRT,10.50,10.40,10.50,10.20,11.20,0.0,2025-01-21\n",
      "AIT,4.26,4.02,4.26,3.62,5.05,4.41,2025-01-21\n",
      "AJ,2.42,2.36,2.44,2.38,7.15,0.83,2025-01-21\n",
      "AMATA,26.75,26.50,27.25,20.10,31.00,1.9,2025-01-21\n",
      "ANAN,0.51,0.48,0.51,0.48,1.03,2.0,2025-01-21\n",
      "AOT,57.75,57.25,58.50,55.00,67.50,0.43,2025-01-21\n",
      "AP,7.75,7.60,7.85,7.50,11.20,0.65,2025-01-21\n",
      "ASIAN,7.75,7.65,7.80,6.35,11.20,1.31,2025-01-21\n",
      "ASK,8.65,8.40,8.75,8.40,20.30,2.98,2025-01-21\n",
      "ASP,2.34,2.30,2.34,2.12,2.88,1.74,2025-01-21\n",
      "ASW,7.80,7.75,7.80,7.35,8.45,0.0,2025-01-21\n",
      "AWC,3.10,3.06,3.16,2.88,4.58,1.97,2025-01-21\n",
      "BA,19.60,19.20,19.70,14.20,26.00,3.16,2025-01-21\n",
      "BAM,5.75,5.55,5.80,5.35,10.40,4.55,2025-01-21\n",
      "BANPU,5.15,5.10,5.25,4.38,7.50,0.98,2025-01-21\n",
      "BAY,23.90,23.90,24.20,22.20,29.00,-0.83,2025-01-21\n",
      "BBL,151.50,150.00,152.00,129.00,159.50,0.33,2025-01-21\n",
      "BCH,14.50,14.30,14.90,14.10,23.80,2.11,2025-01-21\n",
      "BCP,33.50,33.25,34.50,26.50,47.50,-2.9,2025-01-21\n",
      "BCPG,6.30,6.20,6.40,5.05,8.45,-0.79,2025-01-21\n",
      "BCT,65.00,65.00,67.50,53.00,76.75,-2.26,2025-01-21\n",
      "BDMS,23.80,23.40,24.10,23.10,31.25,1.71,2025-01-21\n",
      "BE8,12.70,12.30,12.70,10.60,30.25,5.83,2025-01-21\n",
      "BEAUTY,0.28,0.27,0.29,0.27,0.84,3.7,2025-01-21\n",
      "BEC,3.80,3.78,3.82,3.50,5.25,0.53,2025-01-21\n",
      "BEM,6.70,6.65,6.75,6.60,8.45,0.75,2025-01-21\n",
      "BGC,6.80,6.70,6.80,5.90,7.90,0.74,2025-01-21\n",
      "BGRIM,15.80,15.00,16.00,14.30,30.00,6.04,2025-01-21\n",
      "BH,193.00,191.50,196.00,184.50,284.00,1.31,2025-01-21\n",
      "BJC,22.90,22.40,22.90,19.20,26.25,2.69,2025-01-21\n",
      "BKIH,283.00,283.00,286.00,279.00,316.00,-0.35,2025-01-21\n",
      "BLA,19.20,19.10,19.80,16.30,25.75,-1.54,2025-01-21\n",
      "BLAND,0.53,0.53,0.55,0.51,0.78,-3.64,2025-01-21\n",
      "BPP,8.90,8.65,8.95,8.60,15.20,3.49,2025-01-21\n",
      "BTS,5.80,5.55,5.80,3.72,6.90,3.57,2025-01-21\n",
      "BTSGIF,2.98,2.94,2.98,2.92,3.70,0.68,2025-01-21\n",
      "CBG,78.00,75.75,78.00,61.25,82.00,2.97,2025-01-21\n",
      "CENTEL,29.75,28.50,30.00,28.00,46.50,5.31,2025-01-21\n",
      "CHG,2.24,2.18,2.28,2.12,3.24,3.7,2025-01-21\n",
      "CK,16.60,16.40,16.80,16.30,24.60,1.22,2025-01-21\n",
      "CKP,2.98,2.92,3.00,2.86,4.28,1.36,2025-01-21\n",
      "COM7,23.80,23.10,24.10,16.40,28.25,3.48,2025-01-21\n",
      "CPALL,56.75,56.50,57.50,51.25,68.00,0.89,2025-01-21\n",
      "CPF,22.20,22.10,22.50,17.00,26.00,0.0,2025-01-21\n",
      "CPN,53.50,52.75,54.75,52.25,68.75,1.42,2025-01-21\n",
      "CPNCG,6.20,6.20,6.30,5.30,7.15,-0.8,2025-01-21\n",
      "CPNREIT,12.10,11.90,12.20,9.90,13.60,1.68,2025-01-21\n",
      "CRC,34.50,34.25,34.75,24.20,37.75,0.0,2025-01-21\n",
      "DCC,1.62,1.62,1.65,1.56,2.16,0.62,2025-01-21\n",
      "DCON,0.29,0.29,0.30,0.29,0.55,-3.33,2025-01-21\n",
      "DELTA,142.50,141.50,144.50,63.25,173.50,1.42,2025-01-21\n",
      "DIF,8.45,8.35,8.45,7.45,9.85,1.2,2025-01-21\n",
      "DOHOME,8.45,8.40,8.80,8.05,12.60,-2.87,2025-01-21\n",
      "DRT,7.50,7.45,7.50,7.35,8.45,0.67,2025-01-21\n",
      "EA,3.08,2.90,3.10,2.14,28.66,6.21,2025-01-21\n",
      "EASTW,2.14,2.10,2.16,2.02,4.18,0.94,2025-01-21\n",
      "ECL,0.82,0.80,0.85,0.67,1.51,2.5,2025-01-21\n",
      "EGATIF,5.95,5.90,5.95,5.75,6.40,0.0,2025-01-21\n",
      "EGCO,114.50,113.00,114.50,94.50,135.00,0.88,2025-01-21\n",
      "EPG,3.62,3.54,3.66,3.52,8.00,2.84,2025-01-21\n",
      "FORTH,9.40,9.00,9.45,8.80,20.10,3.87,2025-01-21\n",
      "FPT,9.30,9.30,9.35,9.30,15.40,-2.11,2025-01-21\n",
      "FSMART,7.05,6.80,7.10,4.60,9.15,2.92,2025-01-21\n",
      "FTREIT,10.10,10.10,10.20,7.80,11.30,0.0,2025-01-21\n",
      "GC,4.92,4.90,4.94,4.72,5.55,0.0,2025-01-21\n",
      "GFPT,10.00,9.70,10.10,9.50,13.40,2.04,2025-01-21\n",
      "GGC,4.00,4.00,4.10,3.94,9.35,0.0,2025-01-21\n",
      "GLOBAL,12.70,12.50,12.80,12.40,17.40,0.0,2025-01-21\n",
      "GPSC,33.00,30.50,33.25,30.00,56.50,8.2,2025-01-21\n",
      "GRAMMY,8.00,8.00,8.00,3.90,8.90,-1.23,2025-01-21\n",
      "GULF,59.50,59.25,60.75,37.00,70.75,0.42,2025-01-21\n",
      "GUNKUL,2.06,1.98,2.08,1.94,3.18,3.52,2025-01-21\n",
      "GVREIT,6.55,6.50,6.60,4.98,7.15,0.0,2025-01-21\n",
      "HANA,24.50,23.10,24.70,22.50,51.50,6.99,2025-01-21\n",
      "HFT,4.26,4.26,4.34,3.92,4.82,0.0,2025-01-21\n",
      "HMPRO,9.05,8.80,9.15,7.65,11.60,1.69,2025-01-21\n",
      "HTC,16.00,15.90,16.10,15.00,18.20,-0.62,2025-01-21\n",
      "ICHI,13.50,13.20,13.50,13.10,18.80,2.27,2025-01-21\n",
      "III,5.05,4.98,5.05,4.64,10.20,0.0,2025-01-21\n",
      "ILM,15.00,15.00,15.30,14.70,23.30,0.0,2025-01-21\n",
      "IMH,4.50,4.48,4.50,4.04,7.95,0.9,2025-01-21\n",
      "IMPACT,10.60,10.50,10.70,9.15,12.80,0.0,2025-01-21\n",
      "INOX,0.44,0.44,0.45,0.40,0.67,0.0,2025-01-21\n",
      "INTUCH,100.50,100.00,101.50,65.25,114.50,0.5,2025-01-21\n",
      "IP,2.90,2.86,2.92,2.82,7.30,-1.36,2025-01-21\n",
      "IRPC,1.17,1.16,1.18,1.10,2.06,0.86,2025-01-21\n",
      "IVL,22.90,22.60,23.60,16.00,27.50,-2.14,2025-01-21\n",
      "3BBIF,5.10,5.05,5.15,5.00,6.75,-0.97,2025-01-21\n",
      "JMART,11.20,10.80,11.30,9.10,17.70,4.67,2025-01-21\n",
      "JMT,14.90,14.60,15.20,9.90,25.50,4.2,2025-01-21\n",
      "KBANK,158.50,156.50,160.00,118.50,163.50,-0.94,2025-01-21\n",
      "KCE,23.20,22.10,23.50,21.30,49.00,5.45,2025-01-21\n",
      "KEX,1.43,1.42,1.45,1.40,6.50,-0.69,2025-01-21\n",
      "KGI,4.20,4.16,4.20,3.98,4.90,0.48,2025-01-21\n",
      "KKP,52.25,52.00,52.75,37.00,55.50,1.46,2025-01-21\n",
      "KSL,1.80,1.79,1.81,1.65,2.70,0.0,2025-01-21\n",
      "KTB,21.80,21.70,22.00,15.40,22.40,-0.46,2025-01-21\n",
      "KTC,51.75,50.50,52.00,37.00,51.00,1.97,2025-01-21\n",
      "KYE,287.00,287.00,288.00,280.00,342.00,0.35,2025-01-21\n",
      "LALIN,5.75,5.75,5.80,5.65,8.05,0.0,2025-01-21\n",
      "LANNA,16.00,16.00,16.10,13.60,17.50,0.0,2025-01-21\n",
      "LH,4.90,4.72,4.90,4.58,7.80,2.51,2025-01-21\n",
      "LHFG,0.74,0.73,0.75,0.71,1.04,0.0,2025-01-21\n",
      "LHK,3.54,3.52,3.54,3.42,4.40,0.57,2025-01-21\n",
      "LIT,0.58,0.56,0.58,0.55,1.55,5.45,2025-01-21\n",
      "LPH,4.26,4.26,4.28,4.24,4.98,-0.47,2025-01-21\n",
      "LPN,2.10,2.06,2.14,2.12,3.90,-0.94,2025-01-21\n",
      "M,19.70,19.10,19.70,18.90,39.50,3.14,2025-01-21\n",
      "MAJOR,14.20,14.10,14.40,11.70,16.00,-0.7,2025-01-21\n",
      "MBAX,1.81,1.80,1.85,1.72,3.48,0.0,2025-01-21\n",
      "MC,9.95,9.75,10.00,9.65,14.90,2.05,2025-01-21\n",
      "MCS,6.35,6.30,6.35,6.10,8.20,0.79,2025-01-21\n",
      "MEGA,33.00,32.75,33.25,32.00,44.25,0.76,2025-01-21\n",
      "MINT,24.30,24.00,24.90,23.10,34.00,2.1,2025-01-21\n",
      "MST,9.20,9.10,9.20,8.75,11.00,1.1,2025-01-21\n",
      "MTC,43.75,43.00,44.25,37.50,54.00,2.34,2025-01-21\n",
      "NER,4.94,4.90,4.96,4.48,6.45,0.0,2025-01-21\n",
      "NOBLE,2.50,2.46,2.50,2.46,4.10,0.81,2025-01-21\n",
      "ONEE,3.68,3.64,3.76,3.02,5.35,0.55,2025-01-21\n",
      "OR,11.80,11.70,12.00,11.50,19.00,0.0,2025-01-21\n",
      "ORI,3.40,3.34,3.44,3.32,8.65,2.41,2025-01-21\n",
      "OSP,21.50,21.20,21.60,18.30,25.00,1.42,2025-01-21\n",
      "PAP,1.73,1.71,1.73,1.46,2.96,1.17,2025-01-21\n",
      "PCSGH,3.28,3.28,3.30,3.26,5.35,0.0,2025-01-21\n",
      "PDG,2.58,2.54,2.62,2.30,2.82,1.57,2025-01-21\n",
      "PLANB,6.90,6.75,7.00,6.40,9.20,2.22,2025-01-21\n",
      "POPF,6.25,6.20,6.25,5.35,6.70,-0.79,2025-01-21\n",
      "PREB,4.26,4.26,4.26,4.00,6.60,0.0,2025-01-21\n",
      "PRM,7.75,7.65,7.90,5.40,9.30,-1.27,2025-01-21\n",
      "PSH,6.80,6.70,6.80,6.45,12.60,3.03,2025-01-21\n",
      "PSL,6.45,6.25,6.45,6.10,11.20,4.03,2025-01-21\n",
      "PTG,7.60,7.50,7.65,7.45,10.70,1.33,2025-01-21\n",
      "PTL,10.30,10.30,10.50,9.15,14.40,0.98,2025-01-21\n",
      "PTT,31.25,30.50,31.25,30.00,36.25,1.63,2025-01-21\n",
      "PTTEP,122.50,122.00,125.00,116.00,164.50,-3.16,2025-01-21\n",
      "PTTGC,21.40,20.90,21.60,20.60,41.25,1.42,2025-01-21\n",
      "QH,1.73,1.71,1.74,1.59,2.30,0.58,2025-01-21\n",
      "RATCH,29.00,28.25,29.25,25.25,34.25,3.57,2025-01-21\n",
      "RBF,5.75,5.70,5.85,5.00,13.40,1.77,2025-01-21\n",
      "RCL,25.25,24.90,25.50,16.20,31.75,1.0,2025-01-21\n",
      "RJH,19.70,19.00,19.70,18.70,27.25,3.68,2025-01-21\n",
      "ROJNA,5.80,5.65,5.85,5.05,8.05,1.75,2025-01-21\n",
      "RS,1.23,1.20,1.29,1.12,7.35,0.0,2025-01-21\n",
      "S11,1.96,1.93,1.99,1.68,3.90,0.51,2025-01-21\n",
      "SABUY,0.56,0.52,0.56,0.38,5.50,7.69,2025-01-21\n",
      "SAPPE,60.00,59.50,61.25,57.75,107.50,0.42,2025-01-21\n",
      "SAT,10.60,10.50,10.70,10.00,18.90,0.95,2025-01-21\n",
      "SAWAD,38.25,37.00,38.50,27.25,45.50,4.08,2025-01-21\n",
      "SC,2.54,2.52,2.58,2.30,4.00,0.79,2025-01-21\n",
      "SCB,122.50,120.00,123.00,100.00,122.50,0.82,2025-01-21\n",
      "SCC,156.50,156.00,159.00,150.50,278.00,0.97,2025-01-21\n",
      "SCCC,161.00,160.50,161.50,127.50,177.50,0.0,2025-01-21\n",
      "SCGP,17.50,17.10,17.70,16.60,35.25,2.34,2025-01-21\n",
      "SENA,2.18,2.16,2.20,2.16,3.02,0.0,2025-01-21\n",
      "SGP,7.15,7.15,7.25,6.55,8.45,0.0,2025-01-21\n",
      "SINGER,6.95,6.65,7.10,6.35,12.70,5.3,2025-01-21\n",
      "SIRI,1.71,1.69,1.71,1.51,1.94,0.59,2025-01-21\n",
      "SIS,25.75,25.25,26.00,20.80,31.25,1.98,2025-01-21\n",
      "SJWD,9.00,8.85,9.10,8.80,16.70,1.69,2025-01-21\n",
      "SKN,5.45,5.45,5.50,4.04,6.40,1.87,2025-01-21\n",
      "SKR,8.70,8.70,8.85,8.65,10.70,-1.14,2025-01-21\n",
      "SMPC,9.25,9.25,9.30,6.45,10.10,-0.54,2025-01-21\n",
      "SNC,5.30,5.20,5.30,4.72,8.90,0.95,2025-01-21\n",
      "SPALI,16.90,16.40,17.10,14.80,21.60,1.81,2025-01-21\n",
      "SPC,57.25,57.25,57.75,57.00,63.75,0.44,2025-01-21\n",
      "SPCG,8.00,7.95,8.10,8.00,12.70,0.0,2025-01-21\n",
      "SPRC,5.55,5.45,5.75,5.65,9.40,-2.63,2025-01-21\n",
      "SPRIME,4.20,4.18,4.20,3.66,4.84,0.48,2025-01-21\n",
      "SSP,5.15,5.10,5.20,5.10,8.50,-0.96,2025-01-21\n",
      "STA,16.60,16.60,16.90,15.30,25.75,0.0,2025-01-21\n",
      "STANLY,218.00,218.00,219.00,198.50,233.00,0.0,2025-01-21\n",
      "STGT,8.90,8.80,9.05,6.70,13.30,0.56,2025-01-21\n",
      "SUPER,0.22,0.21,0.23,0.21,0.43,4.76,2025-01-21\n",
      "SUPEREIF,6.35,6.30,6.35,5.60,7.05,0.79,2025-01-21\n",
      "SVI,6.70,6.65,6.80,5.95,9.40,1.52,2025-01-21\n",
      "SYNEX,13.50,13.00,13.50,9.70,16.70,3.05,2025-01-21\n",
      "TASCO,18.20,18.00,18.30,15.40,20.00,1.11,2025-01-21\n",
      "TCAP,50.00,49.50,50.00,43.25,53.50,0.5,2025-01-21\n",
      "TFFIF,6.30,6.30,6.35,6.00,7.20,0.8,2025-01-21\n",
      "TFG,3.34,3.26,3.42,3.20,4.84,1.83,2025-01-21\n",
      "THANI,1.34,1.28,1.37,1.27,2.50,5.51,2025-01-21\n",
      "THG,13.50,13.20,13.80,12.40,52.25,1.5,2025-01-21\n",
      "TIDLOR,16.50,15.60,16.70,12.50,22.56,7.14,2025-01-21\n",
      "TIPH,20.00,19.90,20.20,19.90,32.25,0.5,2025-01-21\n",
      "TIPCO,10.20,10.00,10.20,9.30,10.60,2.0,2025-01-21\n",
      "TISCO,99.00,98.50,99.00,90.00,101.50,0.25,2025-01-21\n",
      "TK,3.90,3.82,3.90,3.86,5.75,0.0,2025-01-21\n",
      "TKN,8.40,8.30,8.45,7.70,12.30,0.6,2025-01-21\n",
      "TKS,5.55,5.45,5.55,5.20,9.00,0.91,2025-01-21\n",
      "TMT,3.00,3.00,3.02,2.94,6.15,0.67,2025-01-21\n",
      "TMW,57.75,57.75,58.50,44.75,66.75,-0.86,2025-01-21\n",
      "TOA,13.40,13.20,13.70,12.40,26.00,2.29,2025-01-21\n",
      "TOP,26.50,26.25,26.75,24.50,60.75,-0.93,2025-01-21\n",
      "TPIPL,0.99,0.98,1.01,0.98,1.45,1.02,2025-01-21\n",
      "TPIPP,2.92,2.92,2.94,2.70,3.42,-0.68,2025-01-21\n",
      "TQM,20.00,18.80,20.10,19.30,33.25,3.63,2025-01-21\n",
      "TRUE,11.90,11.90,12.20,5.30,12.40,0.0,2025-01-21\n",
      "TSE,0.73,0.72,0.75,0.72,2.12,0.0,2025-01-21\n",
      "TSTH,0.52,0.52,0.54,0.47,0.90,0.0,2025-01-21\n",
      "TTA,4.72,4.62,4.76,4.56,8.50,2.16,2025-01-21\n",
      "TTB,1.83,1.82,1.86,1.59,2.06,-1.08,2025-01-21\n",
      "TTLPF,14.20,13.20,14.20,13.50,20.30,0.0,2025-01-21\n",
      "TTW,8.95,8.85,8.95,8.50,10.10,0.0,2025-01-21\n",
      "TU,12.10,12.00,12.20,11.80,16.00,0.83,2025-01-21\n",
      "TVO,21.10,21.10,21.30,18.60,25.25,0.0,2025-01-21\n",
      "TYCN,-,0.00,0.00,1.84,2.78,0.0,2025-01-21\n",
      "UTP,7.70,7.65,7.80,7.30,12.00,0.0,2025-01-21\n",
      "VGI,3.22,3.10,3.24,1.20,3.68,1.9,2025-01-21\n",
      "VIBHA,1.86,1.85,1.87,1.72,2.34,-0.53,2025-01-21\n",
      "VNG,2.98,2.94,2.98,2.92,3.92,1.36,2025-01-21\n",
      "WHA,5.00,4.86,5.15,4.50,6.20,2.46,2025-01-21\n",
      "WHAIR,6.50,6.45,6.50,5.20,6.75,0.78,2025-01-21\n",
      "WHART,10.20,10.10,10.20,7.65,10.80,0.99,2025-01-21\n",
      "WHAUP,4.06,3.96,4.08,3.78,5.50,2.53,2025-01-21\n",
      "WICE,3.54,3.44,3.54,3.46,7.55,2.31,2025-01-21\n",
      "WORK,5.45,5.35,5.45,5.25,11.10,1.87,2025-01-21\n"
     ]
    }
   ],
   "source": [
    "df = pd.read_csv(input_file, header=None)\n",
    "out_df = get_stock_data(df)"
   ]
  },
  {
   "cell_type": "code",
   "execution_count": 28,
   "id": "d31edacf",
   "metadata": {},
   "outputs": [
    {
     "name": "stdout",
     "output_type": "stream",
     "text": [
      "End at:  10:15 PM\n"
     ]
    }
   ],
   "source": [
    "end_time = strftime(\"%I:%M %p\")\n",
    "print('End at: ', end_time)"
   ]
  },
  {
   "cell_type": "code",
   "execution_count": 30,
   "id": "b89c4ae7",
   "metadata": {},
   "outputs": [
    {
     "data": {
      "text/html": [
       "<div>\n",
       "<style scoped>\n",
       "    .dataframe tbody tr th:only-of-type {\n",
       "        vertical-align: middle;\n",
       "    }\n",
       "\n",
       "    .dataframe tbody tr th {\n",
       "        vertical-align: top;\n",
       "    }\n",
       "\n",
       "    .dataframe thead th {\n",
       "        text-align: right;\n",
       "    }\n",
       "</style>\n",
       "<table border=\"1\" class=\"dataframe\">\n",
       "  <thead>\n",
       "    <tr style=\"text-align: right;\">\n",
       "      <th></th>\n",
       "      <th>name</th>\n",
       "      <th>price</th>\n",
       "      <th>today_low</th>\n",
       "      <th>today_high</th>\n",
       "      <th>year_low</th>\n",
       "      <th>year_high</th>\n",
       "      <th>percent</th>\n",
       "      <th>updated_at</th>\n",
       "    </tr>\n",
       "  </thead>\n",
       "  <tbody>\n",
       "    <tr>\n",
       "      <th>210</th>\n",
       "      <td>TYCN</td>\n",
       "      <td>-</td>\n",
       "      <td>0.00</td>\n",
       "      <td>0.00</td>\n",
       "      <td>1.84</td>\n",
       "      <td>2.78</td>\n",
       "      <td>0.0</td>\n",
       "      <td>2025-01-21</td>\n",
       "    </tr>\n",
       "  </tbody>\n",
       "</table>\n",
       "</div>"
      ],
      "text/plain": [
       "     name price today_low today_high year_low year_high  percent  updated_at\n",
       "210  TYCN     -      0.00       0.00     1.84      2.78      0.0  2025-01-21"
      ]
     },
     "execution_count": 30,
     "metadata": {},
     "output_type": "execute_result"
    }
   ],
   "source": [
    "out_df.query('price == \"-\"')"
   ]
  },
  {
   "cell_type": "code",
   "execution_count": 32,
   "id": "784f1b6d",
   "metadata": {},
   "outputs": [
    {
     "data": {
      "text/plain": [
       "(221, 8)"
      ]
     },
     "execution_count": 32,
     "metadata": {},
     "output_type": "execute_result"
    }
   ],
   "source": [
    "out_df.shape"
   ]
  },
  {
   "cell_type": "code",
   "execution_count": 34,
   "id": "6326d0c5",
   "metadata": {},
   "outputs": [],
   "source": [
    "out_df = out_df[out_df['name'] != 'BCT']"
   ]
  },
  {
   "cell_type": "code",
   "execution_count": 36,
   "id": "2a293f55-436e-45d1-9966-50d12c26e659",
   "metadata": {},
   "outputs": [],
   "source": [
    "out_df = out_df[out_df['name'] != 'LPF']"
   ]
  },
  {
   "cell_type": "code",
   "execution_count": 38,
   "id": "cc4b3547-5ea9-4ac6-bd11-896e67d464ed",
   "metadata": {},
   "outputs": [],
   "source": [
    "out_df = out_df[out_df['name'] != 'TYCN']"
   ]
  },
  {
   "cell_type": "code",
   "execution_count": 40,
   "id": "865622c2-dad3-4ba8-b35a-898461fe5e9a",
   "metadata": {},
   "outputs": [],
   "source": [
    "out_df = out_df[out_df['name'] != 'GRAMMY']"
   ]
  },
  {
   "cell_type": "code",
   "execution_count": 42,
   "id": "cb2d763d-5b75-4ace-b87a-f165c8e6cb91",
   "metadata": {},
   "outputs": [],
   "source": [
    "out_df = out_df[out_df['name'] != 'KYE']"
   ]
  },
  {
   "cell_type": "code",
   "execution_count": 44,
   "id": "b2771ed1",
   "metadata": {},
   "outputs": [
    {
     "data": {
      "text/plain": [
       "(217, 8)"
      ]
     },
     "execution_count": 44,
     "metadata": {},
     "output_type": "execute_result"
    }
   ],
   "source": [
    "out_df.shape"
   ]
  },
  {
   "cell_type": "code",
   "execution_count": 46,
   "id": "eb2ffec6",
   "metadata": {},
   "outputs": [],
   "source": [
    "out_df['price'] = out_df['price'].astype('float')\n",
    "out_df['today_low'] = out_df['today_low'].astype('float')\n",
    "out_df['today_high'] = out_df['today_high'].astype('float')\n",
    "out_df['year_low'] = out_df['year_low'].astype('float')\n",
    "out_df['year_high'] = out_df['year_high'].astype('float')\n",
    "out_df['percent'] = out_df['percent'].astype('float')"
   ]
  },
  {
   "cell_type": "code",
   "execution_count": 48,
   "id": "f4fb1a3c",
   "metadata": {},
   "outputs": [],
   "source": [
    "sorted_out_df = out_df.sort_values('percent')"
   ]
  },
  {
   "cell_type": "code",
   "execution_count": 50,
   "id": "032f0eea",
   "metadata": {},
   "outputs": [
    {
     "data": {
      "text/html": [
       "<div>\n",
       "<style scoped>\n",
       "    .dataframe tbody tr th:only-of-type {\n",
       "        vertical-align: middle;\n",
       "    }\n",
       "\n",
       "    .dataframe tbody tr th {\n",
       "        vertical-align: top;\n",
       "    }\n",
       "\n",
       "    .dataframe thead th {\n",
       "        text-align: right;\n",
       "    }\n",
       "</style>\n",
       "<table border=\"1\" class=\"dataframe\">\n",
       "  <thead>\n",
       "    <tr style=\"text-align: right;\">\n",
       "      <th></th>\n",
       "      <th>name</th>\n",
       "      <th>price</th>\n",
       "      <th>today_low</th>\n",
       "      <th>today_high</th>\n",
       "      <th>year_low</th>\n",
       "      <th>year_high</th>\n",
       "      <th>percent</th>\n",
       "      <th>updated_at</th>\n",
       "    </tr>\n",
       "  </thead>\n",
       "  <tbody>\n",
       "    <tr>\n",
       "      <th>171</th>\n",
       "      <td>SPRC</td>\n",
       "      <td>5.55</td>\n",
       "      <td>5.45</td>\n",
       "      <td>5.75</td>\n",
       "      <td>5.65</td>\n",
       "      <td>9.40</td>\n",
       "      <td>-2.63</td>\n",
       "      <td>2025-01-21</td>\n",
       "    </tr>\n",
       "    <tr>\n",
       "      <th>111</th>\n",
       "      <td>LPN</td>\n",
       "      <td>2.10</td>\n",
       "      <td>2.06</td>\n",
       "      <td>2.14</td>\n",
       "      <td>2.12</td>\n",
       "      <td>3.90</td>\n",
       "      <td>-0.94</td>\n",
       "      <td>2025-01-21</td>\n",
       "    </tr>\n",
       "    <tr>\n",
       "      <th>206</th>\n",
       "      <td>TTLPF</td>\n",
       "      <td>14.20</td>\n",
       "      <td>13.20</td>\n",
       "      <td>14.20</td>\n",
       "      <td>13.50</td>\n",
       "      <td>20.30</td>\n",
       "      <td>0.00</td>\n",
       "      <td>2025-01-21</td>\n",
       "    </tr>\n",
       "    <tr>\n",
       "      <th>191</th>\n",
       "      <td>TK</td>\n",
       "      <td>3.90</td>\n",
       "      <td>3.82</td>\n",
       "      <td>3.90</td>\n",
       "      <td>3.86</td>\n",
       "      <td>5.75</td>\n",
       "      <td>0.00</td>\n",
       "      <td>2025-01-21</td>\n",
       "    </tr>\n",
       "    <tr>\n",
       "      <th>170</th>\n",
       "      <td>SPCG</td>\n",
       "      <td>8.00</td>\n",
       "      <td>7.95</td>\n",
       "      <td>8.10</td>\n",
       "      <td>8.00</td>\n",
       "      <td>12.70</td>\n",
       "      <td>0.00</td>\n",
       "      <td>2025-01-21</td>\n",
       "    </tr>\n",
       "    <tr>\n",
       "      <th>7</th>\n",
       "      <td>AJ</td>\n",
       "      <td>2.42</td>\n",
       "      <td>2.36</td>\n",
       "      <td>2.44</td>\n",
       "      <td>2.38</td>\n",
       "      <td>7.15</td>\n",
       "      <td>0.83</td>\n",
       "      <td>2025-01-21</td>\n",
       "    </tr>\n",
       "    <tr>\n",
       "      <th>219</th>\n",
       "      <td>WICE</td>\n",
       "      <td>3.54</td>\n",
       "      <td>3.44</td>\n",
       "      <td>3.54</td>\n",
       "      <td>3.46</td>\n",
       "      <td>7.55</td>\n",
       "      <td>2.31</td>\n",
       "      <td>2025-01-21</td>\n",
       "    </tr>\n",
       "    <tr>\n",
       "      <th>200</th>\n",
       "      <td>TQM</td>\n",
       "      <td>20.00</td>\n",
       "      <td>18.80</td>\n",
       "      <td>20.10</td>\n",
       "      <td>19.30</td>\n",
       "      <td>33.25</td>\n",
       "      <td>3.63</td>\n",
       "      <td>2025-01-21</td>\n",
       "    </tr>\n",
       "  </tbody>\n",
       "</table>\n",
       "</div>"
      ],
      "text/plain": [
       "      name  price  today_low  today_high  year_low  year_high  percent  \\\n",
       "171   SPRC   5.55       5.45        5.75      5.65       9.40    -2.63   \n",
       "111    LPN   2.10       2.06        2.14      2.12       3.90    -0.94   \n",
       "206  TTLPF  14.20      13.20       14.20     13.50      20.30     0.00   \n",
       "191     TK   3.90       3.82        3.90      3.86       5.75     0.00   \n",
       "170   SPCG   8.00       7.95        8.10      8.00      12.70     0.00   \n",
       "7       AJ   2.42       2.36        2.44      2.38       7.15     0.83   \n",
       "219   WICE   3.54       3.44        3.54      3.46       7.55     2.31   \n",
       "200    TQM  20.00      18.80       20.10     19.30      33.25     3.63   \n",
       "\n",
       "     updated_at  \n",
       "171  2025-01-21  \n",
       "111  2025-01-21  \n",
       "206  2025-01-21  \n",
       "191  2025-01-21  \n",
       "170  2025-01-21  \n",
       "7    2025-01-21  \n",
       "219  2025-01-21  \n",
       "200  2025-01-21  "
      ]
     },
     "execution_count": 50,
     "metadata": {},
     "output_type": "execute_result"
    }
   ],
   "source": [
    "sorted_out_df.query('today_low < year_low')"
   ]
  },
  {
   "cell_type": "code",
   "execution_count": 52,
   "id": "7af7c28e",
   "metadata": {},
   "outputs": [
    {
     "data": {
      "text/plain": [
       "8"
      ]
     },
     "execution_count": 52,
     "metadata": {},
     "output_type": "execute_result"
    }
   ],
   "source": [
    "out_df.query('today_low < year_low').shape[0]"
   ]
  },
  {
   "cell_type": "code",
   "execution_count": 54,
   "id": "8e04b03d",
   "metadata": {},
   "outputs": [
    {
     "data": {
      "text/html": [
       "<div>\n",
       "<style scoped>\n",
       "    .dataframe tbody tr th:only-of-type {\n",
       "        vertical-align: middle;\n",
       "    }\n",
       "\n",
       "    .dataframe tbody tr th {\n",
       "        vertical-align: top;\n",
       "    }\n",
       "\n",
       "    .dataframe thead th {\n",
       "        text-align: right;\n",
       "    }\n",
       "</style>\n",
       "<table border=\"1\" class=\"dataframe\">\n",
       "  <thead>\n",
       "    <tr style=\"text-align: right;\">\n",
       "      <th></th>\n",
       "      <th>name</th>\n",
       "      <th>price</th>\n",
       "      <th>today_low</th>\n",
       "      <th>today_high</th>\n",
       "      <th>year_low</th>\n",
       "      <th>year_high</th>\n",
       "      <th>percent</th>\n",
       "      <th>updated_at</th>\n",
       "    </tr>\n",
       "  </thead>\n",
       "  <tbody>\n",
       "    <tr>\n",
       "      <th>154</th>\n",
       "      <td>SCB</td>\n",
       "      <td>122.50</td>\n",
       "      <td>120.0</td>\n",
       "      <td>123.0</td>\n",
       "      <td>100.0</td>\n",
       "      <td>122.5</td>\n",
       "      <td>0.82</td>\n",
       "      <td>2025-01-21</td>\n",
       "    </tr>\n",
       "    <tr>\n",
       "      <th>102</th>\n",
       "      <td>KTC</td>\n",
       "      <td>51.75</td>\n",
       "      <td>50.5</td>\n",
       "      <td>52.0</td>\n",
       "      <td>37.0</td>\n",
       "      <td>51.0</td>\n",
       "      <td>1.97</td>\n",
       "      <td>2025-01-21</td>\n",
       "    </tr>\n",
       "  </tbody>\n",
       "</table>\n",
       "</div>"
      ],
      "text/plain": [
       "    name   price  today_low  today_high  year_low  year_high  percent  \\\n",
       "154  SCB  122.50      120.0       123.0     100.0      122.5     0.82   \n",
       "102  KTC   51.75       50.5        52.0      37.0       51.0     1.97   \n",
       "\n",
       "     updated_at  \n",
       "154  2025-01-21  \n",
       "102  2025-01-21  "
      ]
     },
     "execution_count": 54,
     "metadata": {},
     "output_type": "execute_result"
    }
   ],
   "source": [
    "sorted_out_df.query('today_high > year_high')"
   ]
  },
  {
   "cell_type": "code",
   "execution_count": 56,
   "id": "290a9607",
   "metadata": {},
   "outputs": [
    {
     "data": {
      "text/plain": [
       "2"
      ]
     },
     "execution_count": 56,
     "metadata": {},
     "output_type": "execute_result"
    }
   ],
   "source": [
    "out_df.query('today_high > year_high').shape[0]"
   ]
  },
  {
   "cell_type": "code",
   "execution_count": 24,
   "id": "4494ec9a",
   "metadata": {},
   "outputs": [
    {
     "name": "stdout",
     "output_type": "stream",
     "text": [
      "..\\Data\\name-ttl.csv ..\\Data\\price-hilo.csv\n"
     ]
    }
   ],
   "source": [
    "file_in = os.path.join(input_dir, input_file)\n",
    "file_out = os.path.join(output_dir, \"price-hilo.csv\")\n",
    "print(file_in, file_out)"
   ]
  },
  {
   "cell_type": "code",
   "execution_count": 58,
   "id": "5fbeba56-2a63-4650-898b-6447a81f95f5",
   "metadata": {},
   "outputs": [],
   "source": [
    "file_name = \"Price-Hilo.csv\"\n",
    "output_file = os.path.join(dat_path, file_name)\n",
    "god_file = os.path.join(god_path, file_name)\n",
    "icd_file = os.path.join(icd_path, file_name)\n",
    "osd_file = os.path.join(osd_path, file_name)"
   ]
  },
  {
   "cell_type": "code",
   "execution_count": 60,
   "id": "da6183ac-2f05-4f67-b200-fe83634d29dc",
   "metadata": {},
   "outputs": [
    {
     "name": "stdout",
     "output_type": "stream",
     "text": [
      "output_file (output_file): C:\\Users\\PC1\\OneDrive\\A5\\Data\\Price-Hilo.csv\n",
      "icd_file (icd_file): C:\\Users\\PC1\\iCloudDrive\\Data\\Price-Hilo.csv\n",
      "god_file (god_file): C:\\Users\\PC1\\OneDrive\\Imports\\santisoontarinka@gmail.com - Google Drive\\Data\\Price-Hilo.csv\n",
      "osd_file (osd_file): C:\\Users\\PC1\\OneDrive\\Documents\\obsidian-git-sync\\Data\\Price-Hilo.csv\n"
     ]
    }
   ],
   "source": [
    "print(f\"output_file (output_file): {output_file}\") \n",
    "print(f\"icd_file (icd_file): {icd_file}\") \n",
    "print(f\"god_file (god_file): {god_file}\") \n",
    "print(f\"osd_file (osd_file): {osd_file}\") "
   ]
  },
  {
   "cell_type": "code",
   "execution_count": 62,
   "id": "8017b53b",
   "metadata": {},
   "outputs": [],
   "source": [
    "out_df.to_csv(output_file, index=False)  \n",
    "out_df.to_csv(god_file, index=False) \n",
    "out_df.to_csv(icd_file, index=False)  \n",
    "out_df.to_csv(osd_file, index=False) "
   ]
  },
  {
   "cell_type": "code",
   "execution_count": 64,
   "id": "80692fae-6308-4695-bcac-5124ce4d44e3",
   "metadata": {},
   "outputs": [
    {
     "data": {
      "text/plain": [
       "datetime.datetime(2025, 1, 21, 21, 59, 17, 709624)"
      ]
     },
     "execution_count": 64,
     "metadata": {},
     "output_type": "execute_result"
    }
   ],
   "source": [
    "current_time"
   ]
  },
  {
   "cell_type": "code",
   "execution_count": null,
   "id": "65000f4d-e754-421d-a607-19d51228cc7f",
   "metadata": {},
   "outputs": [],
   "source": []
  }
 ],
 "metadata": {
  "kernelspec": {
   "display_name": "Python 3 (ipykernel)",
   "language": "python",
   "name": "python3"
  },
  "language_info": {
   "codemirror_mode": {
    "name": "ipython",
    "version": 3
   },
   "file_extension": ".py",
   "mimetype": "text/x-python",
   "name": "python",
   "nbconvert_exporter": "python",
   "pygments_lexer": "ipython3",
   "version": "3.12.3"
  }
 },
 "nbformat": 4,
 "nbformat_minor": 5
}
