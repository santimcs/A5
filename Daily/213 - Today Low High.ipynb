{
 "cells": [
  {
   "cell_type": "markdown",
   "id": "930356c6",
   "metadata": {},
   "source": [
    "### \n",
    "Start and Run All"
   ]
  },
  {
   "cell_type": "code",
   "execution_count": 2,
   "id": "d7cfc693",
   "metadata": {},
   "outputs": [
    {
     "name": "stdout",
     "output_type": "stream",
     "text": [
      "2025-09-12 23:15:26\n"
     ]
    }
   ],
   "source": [
    "import os\n",
    "import pandas as pd\n",
    "from urllib import request\n",
    "from bs4 import BeautifulSoup\n",
    "# from datetime import date, timedelta\n",
    "from datetime import datetime\n",
    "from time import sleep, strftime\n",
    "\n",
    "# Get the current time\n",
    "current_time = datetime.now()\n",
    "# Format the time to remove milliseconds\n",
    "formatted_time = current_time.strftime(\"%Y-%m-%d %H:%M:%S\")\n",
    "print(formatted_time)"
   ]
  },
  {
   "cell_type": "code",
   "execution_count": 3,
   "id": "0cbdda38-ec42-4470-bede-c468ba46f8d8",
   "metadata": {},
   "outputs": [],
   "source": [
    "url = \"https://www.set.or.th/en/market/product/stock/quote/\"\n",
    "percent_span = '' "
   ]
  },
  {
   "cell_type": "code",
   "execution_count": 4,
   "id": "6e4b7508-0071-480d-99c8-a6c070027294",
   "metadata": {},
   "outputs": [],
   "source": [
    "# Get the user's home directory\n",
    "user_path = os.path.expanduser('~')\n",
    "# Get the current working directory\n",
    "current_path = os.getcwd()\n",
    "# Derive the base directory (base_dir) by removing the last folder ('Daily')\n",
    "base_path = os.path.dirname(current_path)\n",
    "#C:\\Users\\PC1\\OneDrive\\A5\\Data\n",
    "dat_path = os.path.join(base_path, \"Data\")\n",
    "#C:\\Users\\PC1\\OneDrive\\Imports\\santisoontarinka@gmail.com - Google Drive\\Data>\n",
    "god_path = os.path.join(user_path, \"OneDrive\",\"Imports\",\"santisoontarinka@gmail.com - Google Drive\",\"Data\")\n",
    "#C:\\Users\\PC1\\iCloudDrive\\data\n",
    "icd_path = os.path.join(user_path, \"iCloudDrive\", \"Data\")\n",
    "#C:\\Users\\PC1\\OneDrive\\Documents\\obsidian-git-sync\\Data\n",
    "osd_path = os.path.join(user_path, \"OneDrive\",\"Documents\",\"obsidian-git-sync\",\"Data\")"
   ]
  },
  {
   "cell_type": "code",
   "execution_count": 5,
   "id": "07defeb3-a742-4e64-8089-7e4fe5b8b93c",
   "metadata": {},
   "outputs": [
    {
     "name": "stdout",
     "output_type": "stream",
     "text": [
      "User path: C:\\Users\\PC1\n",
      "Current path: C:\\Users\\PC1\\OneDrive\\A5\\Daily\n",
      "Base path: C:\\Users\\PC1\\OneDrive\\A5\n",
      "Data path : C:\\Users\\PC1\\OneDrive\\A5\\Data\n",
      "Google Drive path : C:\\Users\\PC1\\OneDrive\\Imports\\santisoontarinka@gmail.com - Google Drive\\Data\n",
      "iCloudDrive path : C:\\Users\\PC1\\iCloudDrive\\Data\n",
      "Obsidian path : C:\\Users\\PC1\\OneDrive\\Documents\\obsidian-git-sync\\Data\n"
     ]
    }
   ],
   "source": [
    "print(\"User path:\", user_path)\n",
    "print(f\"Current path: {current_path}\")\n",
    "print(f\"Base path: {base_path}\")\n",
    "print(f\"Data path : {dat_path}\") \n",
    "print(f\"Google Drive path : {god_path}\")\n",
    "print(f\"iCloudDrive path : {icd_path}\") \n",
    "print(f\"Obsidian path : {osd_path}\") "
   ]
  },
  {
   "cell_type": "code",
   "execution_count": 6,
   "id": "08576879-dc60-431b-a31a-e1893e2d7922",
   "metadata": {},
   "outputs": [
    {
     "name": "stdout",
     "output_type": "stream",
     "text": [
      "Input file : C:\\Users\\PC1\\OneDrive\\A5\\Data\\name-ttl.csv\n"
     ]
    }
   ],
   "source": [
    "file_name = \"name-ttl.csv\"\n",
    "input_file = os.path.join(dat_path, file_name)\n",
    "print(f\"Input file : {input_file}\") "
   ]
  },
  {
   "cell_type": "code",
   "execution_count": 7,
   "id": "9b9668db-0773-4de5-9bd4-864c377dab80",
   "metadata": {},
   "outputs": [],
   "source": [
    "file_name = \"price-hilo.csv\"\n",
    "output_file = os.path.join(dat_path, file_name)\n",
    "god_file = os.path.join(god_path, file_name)\n",
    "icd_file = os.path.join(icd_path, file_name)\n",
    "osd_file = os.path.join(osd_path, file_name)"
   ]
  },
  {
   "cell_type": "code",
   "execution_count": 8,
   "id": "66c38ef5-8643-4ad3-81ff-9e2275d426d5",
   "metadata": {},
   "outputs": [
    {
     "name": "stdout",
     "output_type": "stream",
     "text": [
      "Output file : C:\\Users\\PC1\\OneDrive\\A5\\Data\\price-hilo.csv\n",
      "icd_file : C:\\Users\\PC1\\iCloudDrive\\Data\\price-hilo.csv\n",
      "god_file : C:\\Users\\PC1\\OneDrive\\Imports\\santisoontarinka@gmail.com - Google Drive\\Data\\price-hilo.csv\n",
      "osd_file : C:\\Users\\PC1\\OneDrive\\Documents\\obsidian-git-sync\\Data\\price-hilo.csv\n"
     ]
    }
   ],
   "source": [
    "print(f\"Output file : {output_file}\") \n",
    "print(f\"icd_file : {icd_file}\") \n",
    "print(f\"god_file : {god_file}\") \n",
    "print(f\"osd_file : {osd_file}\")"
   ]
  },
  {
   "cell_type": "code",
   "execution_count": 9,
   "id": "c1ec2693",
   "metadata": {},
   "outputs": [],
   "source": [
    "def cvt_str_to_flt(input_str):\n",
    "    # Check for the special pattern and return 0\n",
    "    if input_str == '(-)':\n",
    "        return 0\n",
    "    \n",
    "    # Remove parentheses and percent sign\n",
    "    cleaned_str = input_str.replace('(', '').replace(')', '').replace('%', '')\n",
    "\n",
    "    # Convert to float\n",
    "    try:\n",
    "        return float(cleaned_str)\n",
    "    except ValueError:\n",
    "        # Handle the case where the conversion fails\n",
    "        return None\n",
    " "
   ]
  },
  {
   "cell_type": "code",
   "execution_count": 10,
   "id": "334bed1f",
   "metadata": {},
   "outputs": [],
   "source": [
    "def get_stock_data(in_df):\n",
    "\n",
    "    in_df.columns = ['name']\n",
    "    \n",
    "    output_columns = ['name', 'price', 'today_low', 'today_high', 'year_low', 'year_high', 'percent', 'updated_at']\n",
    "    # Initialize an empty DataFrame with specified columns\n",
    "    out_df = pd.DataFrame(columns=output_columns)\n",
    "    \n",
    "    for index, row in in_df.iterrows():\n",
    "        name = str(row['name']).upper()\n",
    "        response = request.urlopen(url + name + '/price')\n",
    "        html_page = BeautifulSoup(response, 'html.parser')\n",
    "        \n",
    "  #      price = html_page.find('div', class_='value text-white mb-0 me-2 lh-1 stock-info').text.strip()        \n",
    "  #      if (price == '-'):\n",
    "  #          price = '0.00'        \n",
    "\n",
    "        price_div = html_page.find('div', class_='value text-white mb-0 me-2 lh-1 stock-info')\n",
    "        if price_div:\n",
    "            price = price_div.text.strip()\n",
    "        else:\n",
    "            print(f\"Price div not found for {name}\")\n",
    "            price = '0.00'     \n",
    "            \n",
    "        # Try to find the <h3> tag with the class 'theme-success'\n",
    "        h3_tag = html_page.find('h3', class_='theme-success')\n",
    "        if h3_tag:\n",
    "        # Find all <span> tags within the found <h3> tag\n",
    "            span_tags = h3_tag.find_all('span')\n",
    "    \n",
    "            if len(span_tags) > 1:\n",
    "                # Extract the text from the second <span> tag\n",
    "                percent_span = span_tags[1].text\n",
    "                # print(percent_span)\n",
    "                \n",
    "        # Try to find the <h3> tag with the class 'theme-danger'\n",
    "        h3_tag = html_page.find('h3', class_='theme-danger')\n",
    "        if h3_tag:\n",
    "        # Find all <span> tags within the found <h3> tag\n",
    "            span_tags = h3_tag.find_all('span')\n",
    "    \n",
    "            if len(span_tags) > 1:\n",
    "                # Extract the text from the second <span> tag\n",
    "                percent_span = span_tags[1].text\n",
    "                # print(percent_span)    \n",
    "                \n",
    "        # Try to find the <h3> tag with the class 'theme-danger'\n",
    "        h3_tag = html_page.find('h3', class_='theme-normal')\n",
    "        if h3_tag:\n",
    "        # Find all <span> tags within the found <h3> tag\n",
    "            span_tags = h3_tag.find_all('span')\n",
    "    \n",
    "            if len(span_tags) > 1:\n",
    "                # Extract the text from the second <span> tag\n",
    "                percent_span = span_tags[1].text\n",
    "                # print(percent_span)   \n",
    "                \n",
    "        percent = cvt_str_to_flt(percent_span)\n",
    "                \n",
    "        values_low = html_page.find_all('span', class_='title-font-family fs-16px fw-bolder me-auto lh-1')\n",
    "        today_low = values_low[0].text\n",
    "        if (today_low == '-'):\n",
    "            today_low = '0.00'\n",
    "        \n",
    "        values_high = html_page.find_all('span', class_='title-font-family fs-16px fw-bolder lh-1')\n",
    "        today_high = values_high[0].text\n",
    "        if (today_high == '-'):\n",
    "            today_high = '0.00'         \n",
    "        \n",
    "        year_low = values_low[1].text        \n",
    "        year_high = values_high[1].text     \n",
    "        \n",
    "        # Find the div with the specific class, then find the span within it\n",
    "        div = html_page.find('div', class_='price-detail-date d-flex align-items-center text-nowrap fs-12px')\n",
    "        if div:\n",
    "            span = div.find('span')\n",
    "            if span:\n",
    "                text = span.get_text()\n",
    "#                 print(text)\n",
    "            else:\n",
    "                print(\"Span not found\")\n",
    "        else:\n",
    "            print(\"Div not found\")\n",
    "            \n",
    "        # Extract the date part from the string\n",
    "        # Assuming the date is always in the format 'dd Mon yyyy'\n",
    "        date_str = ' '.join(text.split()[2:5])\n",
    "\n",
    "        # Parse the date string into a datetime object\n",
    "        date_obj = datetime.strptime(date_str, '%d %b %Y')\n",
    "\n",
    "        # Format the datetime object to 'yyyy-mm-dd'\n",
    "        updated_at = date_obj.strftime('%Y-%m-%d')\n",
    "\n",
    "#         print(updated_at)\n",
    "        \n",
    "        # Append row to the DataFrame and print the row\n",
    "        out_df.loc[len(out_df)] = [name, price, today_low, today_high, year_low, year_high, percent, updated_at]\n",
    "#       print(out_df.iloc[-1].to_string(header=False, index=False)) \n",
    "        print(','.join(map(str, out_df.iloc[-1])))\n",
    "        sleep(1)\n",
    "        \n",
    "    return out_df  # return the final dataframe with all values populated"
   ]
  },
  {
   "cell_type": "code",
   "execution_count": 11,
   "id": "94abc8d4",
   "metadata": {},
   "outputs": [
    {
     "name": "stdout",
     "output_type": "stream",
     "text": [
      "Start at:  11:15 PM\n"
     ]
    }
   ],
   "source": [
    "start_time = strftime(\"%I:%M %p\")\n",
    "print('Start at: ', start_time)"
   ]
  },
  {
   "cell_type": "code",
   "execution_count": 12,
   "id": "23b565ec",
   "metadata": {
    "scrolled": true
   },
   "outputs": [
    {
     "name": "stdout",
     "output_type": "stream",
     "text": [
      "ACE,1.30,1.29,1.30,1.23,1.47,0.0,2025-09-12\n",
      "ADVANC,292.00,290.00,294.00,253.00,309.00,-0.34,2025-09-12\n",
      "AEONTS,114.50,114.00,117.00,90.50,148.00,0.0,2025-09-12\n",
      "AH,14.40,14.40,14.60,10.00,23.20,0.0,2025-09-12\n",
      "AIE,1.18,1.16,1.21,0.72,1.80,0.0,2025-09-12\n",
      "AIMIRT,10.00,9.85,10.10,9.20,11.20,0.0,2025-09-12\n",
      "AIT,4.98,4.98,5.05,3.92,5.30,0.0,2025-09-12\n",
      "AJ,2.46,2.46,2.56,1.94,5.80,-1.6,2025-09-12\n",
      "AMATA,17.10,17.00,17.60,11.20,31.00,-1.72,2025-09-12\n",
      "ANAN,0.53,0.53,0.55,0.37,0.85,-1.85,2025-09-12\n",
      "AOT,38.50,38.00,39.00,26.75,65.00,1.99,2025-09-12\n",
      "AP,8.10,8.00,8.10,5.60,10.50,0.62,2025-09-12\n",
      "ASIAN,7.40,7.25,7.45,6.50,9.50,2.07,2025-09-12\n",
      "ASK,8.10,8.10,8.20,6.20,15.30,-1.22,2025-09-12\n",
      "ASP,2.74,2.66,2.74,1.81,2.80,0.0,2025-09-12\n",
      "ASW,5.25,5.10,5.25,4.90,8.20,2.94,2025-09-12\n",
      "AWC,2.32,2.32,2.36,1.55,3.94,0.0,2025-09-12\n",
      "BA,13.80,13.70,14.10,10.60,26.00,0.0,2025-09-12\n",
      "BAM,8.10,8.05,8.35,5.35,10.20,-2.41,2025-09-12\n",
      "BANPU,4.84,4.84,4.92,4.00,7.50,-0.82,2025-09-12\n",
      "BAY,23.80,23.60,23.80,20.70,28.25,0.42,2025-09-12\n",
      "BBL,149.00,149.00,150.50,131.00,161.50,0.0,2025-09-12\n",
      "BCH,13.10,13.00,13.30,12.30,19.20,0.0,2025-09-12\n",
      "BCP,31.00,31.00,31.50,26.50,41.00,-1.59,2025-09-12\n",
      "BCPG,8.25,8.20,8.40,5.05,8.95,-1.2,2025-09-12\n",
      "BCT,47.75,47.75,48.00,43.50,76.75,-0.52,2025-09-12\n",
      "BDMS,21.00,20.90,21.10,19.80,31.25,0.48,2025-09-12\n",
      "BE8,6.25,6.25,6.35,5.20,21.20,0.81,2025-09-12\n",
      "BEAUTY,0.59,0.59,0.63,0.19,0.66,-1.67,2025-09-12\n",
      "BEC,2.22,2.22,2.28,1.79,4.68,-1.77,2025-09-12\n",
      "BEM,5.35,5.30,5.50,4.56,8.30,-0.93,2025-09-12\n",
      "BGC,4.80,4.80,4.82,4.54,7.90,-0.41,2025-09-12\n",
      "BGRIM,13.90,13.80,14.30,8.90,24.80,-3.47,2025-09-12\n",
      "BH,182.50,182.00,185.50,130.00,284.00,0.27,2025-09-12\n",
      "BJC,20.70,20.60,21.10,16.50,25.75,-0.48,2025-09-12\n",
      "BKIH,304.00,299.00,305.00,271.00,316.00,1.67,2025-09-12\n",
      "BLA,18.80,18.40,18.90,14.00,25.75,2.17,2025-09-12\n",
      "BLAND,0.53,0.52,0.54,0.38,0.69,0.0,2025-09-12\n",
      "BPP,8.40,8.35,8.45,6.20,13.60,0.0,2025-09-12\n",
      "BTS,3.34,3.32,3.38,3.04,6.40,1.21,2025-09-12\n",
      "BTSGIF,2.60,2.58,2.62,2.46,3.52,0.78,2025-09-12\n",
      "CBG,57.75,57.75,59.00,46.50,82.00,-0.43,2025-09-12\n",
      "CENTEL,32.25,32.00,33.25,19.40,41.25,0.78,2025-09-12\n",
      "CHG,1.68,1.68,1.70,1.39,3.00,0.0,2025-09-12\n",
      "CK,17.20,17.00,17.30,10.20,21.10,1.18,2025-09-12\n",
      "CKP,2.92,2.88,2.96,2.10,4.04,0.0,2025-09-12\n",
      "COM7,24.10,23.90,24.40,16.70,28.25,-0.41,2025-09-12\n",
      "CPALL,48.25,48.00,48.75,41.50,68.00,1.05,2025-09-12\n",
      "CPF,23.50,23.40,23.80,19.80,26.50,0.0,2025-09-12\n",
      "CPN,56.75,56.50,57.75,41.00,68.75,-0.44,2025-09-12\n",
      "CPNCG,6.15,6.10,6.15,5.75,6.65,0.0,2025-09-12\n",
      "CPNREIT,11.80,11.60,11.80,10.20,13.60,1.72,2025-09-12\n",
      "CRC,23.50,23.30,24.00,15.80,36.00,-0.84,2025-09-12\n",
      "DCC,1.43,1.42,1.48,1.18,2.04,0.0,2025-09-12\n",
      "DCON,0.26,0.25,0.27,0.23,0.41,0.0,2025-09-12\n",
      "DELTA,157.00,154.50,158.00,51.25,173.50,1.62,2025-09-12\n",
      "DIF,9.05,8.90,9.05,7.35,9.85,2.26,2025-09-12\n",
      "DOHOME,4.20,4.16,4.36,2.26,10.88,-2.33,2025-09-12\n",
      "DRT,5.35,5.30,5.40,4.42,8.15,0.94,2025-09-12\n",
      "EA,2.96,2.86,2.98,1.73,7.32,2.07,2025-09-12\n",
      "EASTW,2.80,2.78,2.90,1.57,3.90,-1.41,2025-09-12\n",
      "EGATIF,6.05,5.95,6.05,5.75,6.40,0.83,2025-09-12\n",
      "EGCO,115.50,115.50,116.50,85.00,128.50,-0.43,2025-09-12\n",
      "EPG,3.28,3.20,3.28,2.12,5.25,1.23,2025-09-12\n",
      "FORTH,8.20,8.20,8.55,6.05,15.00,0.0,2025-09-12\n",
      "FPT,6.55,6.40,6.70,5.85,14.00,-0.76,2025-09-12\n",
      "FSMART,7.25,7.20,7.55,5.35,9.15,1.4,2025-09-12\n",
      "FTREIT,9.75,9.50,9.80,8.60,11.30,2.09,2025-09-12\n",
      "GC,4.04,3.98,4.04,3.40,5.10,0.0,2025-09-12\n",
      "GFPT,10.00,10.00,10.30,8.00,12.10,1.01,2025-09-12\n",
      "GGC,3.90,3.90,3.90,3.20,5.45,0.52,2025-09-12\n",
      "GLOBAL,8.15,7.95,8.25,4.16,16.27,0.0,2025-09-12\n",
      "GPSC,41.00,40.50,42.00,22.40,49.75,-2.38,2025-09-12\n",
      "GRAMMY,4.58,4.52,4.60,4.30,8.50,-2.14,2025-09-12\n",
      "GUNKUL,2.00,1.99,2.04,1.31,2.96,0.0,2025-09-12\n",
      "GVREIT,6.40,6.40,6.50,6.05,7.15,0.0,2025-09-12\n",
      "HANA,26.00,25.50,26.50,14.00,44.00,2.97,2025-09-12\n",
      "HFT,4.28,4.20,4.34,3.32,4.76,2.88,2025-09-12\n",
      "HMPRO,7.55,7.50,7.75,5.70,11.10,-1.31,2025-09-12\n",
      "HTC,15.10,14.90,15.10,14.50,17.70,0.67,2025-09-12\n",
      "ICHI,12.60,12.60,13.00,9.40,17.00,-1.56,2025-09-12\n",
      "III,4.92,4.92,4.98,4.18,7.20,-0.81,2025-09-12\n",
      "ILM,15.00,14.90,15.00,11.50,18.90,0.67,2025-09-12\n",
      "IMH,4.24,4.24,4.30,3.50,5.85,-1.4,2025-09-12\n",
      "IMPACT,10.60,10.40,10.70,9.25,12.80,0.0,2025-09-12\n",
      "INOX,0.43,0.42,0.45,0.35,0.67,4.88,2025-09-12\n",
      "IP,3.32,3.26,3.38,2.02,5.15,0.0,2025-09-12\n",
      "IRPC,1.27,1.25,1.28,0.70,1.86,1.6,2025-09-12\n",
      "IVL,23.80,23.60,24.30,16.90,27.50,0.0,2025-09-12\n",
      "3BBIF,6.70,6.65,6.75,5.00,6.75,-0.74,2025-09-12\n",
      "JMART,10.10,10.10,10.50,5.20,17.70,-0.98,2025-09-12\n",
      "JMT,13.00,12.80,13.20,7.35,22.00,0.0,2025-09-12\n",
      "KBANK,166.00,166.00,168.00,145.00,173.00,-0.9,2025-09-12\n",
      "KCE,26.00,25.50,26.50,13.70,40.75,1.96,2025-09-12\n",
      "KEX,1.49,1.49,1.50,0.78,3.40,0.0,2025-09-12\n",
      "KGI,3.96,3.94,3.96,3.40,4.60,0.0,2025-09-12\n",
      "KKP,59.25,59.00,59.50,43.50,62.00,0.42,2025-09-12\n",
      "KSL,1.42,1.41,1.43,1.25,2.36,-0.7,2025-09-12\n",
      "KTB,26.25,25.75,26.50,19.70,26.25,0.0,2025-09-12\n",
      "KTC,29.50,28.75,30.00,21.80,52.25,3.51,2025-09-12\n",
      "KYE,292.00,291.00,292.00,280.00,324.00,1.04,2025-09-12\n",
      "LALIN,5.05,5.00,5.05,4.80,6.80,1.0,2025-09-12\n",
      "LANNA,15.90,15.70,16.00,14.10,17.10,1.27,2025-09-12\n",
      "LH,4.28,4.24,4.32,3.18,6.50,0.0,2025-09-12\n",
      "LHFG,0.76,0.76,0.77,0.72,0.91,0.0,2025-09-12\n",
      "LHK,3.58,3.56,3.58,3.02,4.12,0.0,2025-09-12\n",
      "LIT,0.88,0.85,0.89,0.39,1.34,2.33,2025-09-12\n",
      "LPH,4.26,4.26,4.30,3.20,4.78,0.0,2025-09-12\n",
      "LPN,1.74,1.73,1.75,1.61,3.38,-0.57,2025-09-12\n",
      "M,28.50,28.00,29.00,13.80,30.75,0.0,2025-09-12\n",
      "MAJOR,8.20,8.15,8.30,7.35,16.00,0.61,2025-09-12\n",
      "MBAX,1.38,1.38,1.43,1.17,3.10,-2.82,2025-09-12\n",
      "MC,11.10,11.00,11.20,9.15,13.00,0.0,2025-09-12\n",
      "MCS,8.65,8.65,8.85,5.80,9.20,-0.57,2025-09-12\n",
      "MEGA,32.00,32.00,32.75,24.30,41.25,-1.54,2025-09-12\n",
      "MINT,24.20,23.90,24.50,21.70,29.50,1.26,2025-09-12\n",
      "MST,7.15,7.10,7.15,5.50,10.30,1.42,2025-09-12\n",
      "MTC,43.25,42.50,43.50,33.75,54.00,2.98,2025-09-12\n",
      "NER,4.48,4.48,4.52,3.88,5.65,0.0,2025-09-12\n",
      "NOBLE,2.12,2.12,2.18,1.60,3.36,-1.85,2025-09-12\n",
      "ONEE,2.38,2.36,2.40,1.99,4.68,0.85,2025-09-12\n",
      "OR,14.20,14.20,14.60,10.10,17.80,-2.07,2025-09-12\n",
      "ORI,2.72,2.66,2.86,1.50,5.65,-4.23,2025-09-12\n",
      "OSP,19.00,18.90,19.30,12.90,24.30,0.0,2025-09-12\n",
      "PAP,1.94,1.87,1.97,1.31,2.96,5.43,2025-09-12\n",
      "PCSGH,3.14,3.14,3.16,2.46,4.66,0.0,2025-09-12\n",
      "PDG,2.74,2.74,2.76,2.36,2.88,-0.72,2025-09-12\n",
      "PLANB,4.86,4.86,4.94,4.08,8.60,-0.41,2025-09-12\n",
      "POPF,6.40,6.25,6.40,5.40,6.70,2.4,2025-09-12\n",
      "PREB,3.64,3.60,3.64,3.34,5.55,0.55,2025-09-12\n",
      "PRM,6.65,6.60,6.80,5.10,9.30,-2.21,2025-09-12\n",
      "PSH,4.54,4.48,4.56,3.66,9.75,0.0,2025-09-12\n",
      "PSL,6.95,6.95,7.15,4.96,9.60,-2.11,2025-09-12\n",
      "PTG,8.40,8.30,8.45,5.45,10.70,-0.59,2025-09-12\n",
      "PTL,10.10,10.00,10.20,9.20,14.40,1.0,2025-09-12\n",
      "PTT,33.50,33.00,33.50,27.00,34.75,0.75,2025-09-12\n",
      "PTTEP,113.00,112.00,113.50,93.00,141.00,0.0,2025-09-12\n",
      "PTTGC,27.75,27.75,28.75,14.20,32.75,0.0,2025-09-12\n",
      "QH,1.41,1.40,1.43,1.15,2.00,0.0,2025-09-12\n",
      "RATCH,26.50,26.25,26.75,22.50,34.25,0.0,2025-09-12\n",
      "RBF,4.24,4.24,4.32,3.04,7.40,-1.85,2025-09-12\n",
      "RCL,29.00,28.50,29.50,18.20,31.75,0.0,2025-09-12\n",
      "RJH,13.40,13.30,13.40,11.50,26.25,0.0,2025-09-12\n",
      "ROJNA,5.00,4.96,5.05,4.14,7.50,0.81,2025-09-12\n",
      "RS,0.28,0.27,0.29,0.19,6.30,-3.45,2025-09-12\n",
      "S11,3.34,3.26,3.38,1.86,3.70,1.21,2025-09-12\n",
      "SAPPE,33.00,33.00,33.75,27.50,83.00,0.0,2025-09-12\n",
      "SAT,13.50,13.50,13.70,9.95,13.90,-1.46,2025-09-12\n",
      "SAWAD,30.50,30.25,31.00,14.80,41.36,0.0,2025-09-12\n",
      "SC,1.92,1.86,1.93,1.40,3.22,3.23,2025-09-12\n",
      "SCB,127.00,126.50,127.50,108.50,133.00,0.0,2025-09-12\n",
      "SCC,228.00,226.00,230.00,124.50,255.00,0.44,2025-09-12\n",
      "SCCC,151.00,150.00,152.00,138.50,177.50,0.67,2025-09-12\n",
      "SCGP,19.10,18.40,19.20,10.70,32.25,4.37,2025-09-12\n",
      "SENA,1.94,1.92,1.97,1.54,2.50,0.0,2025-09-12\n",
      "SGP,6.70,6.65,6.70,5.00,7.65,0.0,2025-09-12\n",
      "SINGER,7.50,7.45,7.70,3.92,12.70,0.0,2025-09-12\n",
      "SIRI,1.49,1.48,1.51,1.11,1.94,-0.67,2025-09-12\n",
      "SIS,21.10,21.10,21.70,17.60,31.25,-2.31,2025-09-12\n",
      "SJWD,10.60,10.20,10.70,5.75,12.50,3.92,2025-09-12\n",
      "SKN,5.70,5.70,5.75,5.05,6.40,0.0,2025-09-12\n",
      "SKR,8.05,7.90,8.05,6.20,9.80,1.26,2025-09-12\n",
      "SMPC,9.05,9.00,9.05,7.80,9.95,0.0,2025-09-12\n",
      "SNC,6.05,6.00,6.05,4.96,7.35,0.83,2025-09-12\n",
      "SPALI,17.40,17.20,17.60,13.20,21.10,0.58,2025-09-12\n",
      "SPC,58.00,58.00,58.00,53.00,60.75,0.0,2025-09-12\n",
      "SPCG,8.40,8.30,8.40,6.60,9.40,1.82,2025-09-12\n",
      "SPRC,4.96,4.96,5.05,4.26,7.25,-0.8,2025-09-12\n",
      "SPRIME,3.46,3.44,3.50,3.00,4.56,0.58,2025-09-12\n",
      "SSP,4.00,3.98,4.00,3.88,6.35,0.0,2025-09-12\n",
      "STA,13.20,13.10,13.50,10.30,25.75,0.0,2025-09-12\n",
      "STANLY,183.00,182.50,183.00,176.00,225.00,0.27,2025-09-12\n",
      "STGT,6.80,6.75,6.85,5.10,13.30,0.74,2025-09-12\n",
      "SUPER,0.16,0.15,0.16,0.12,0.32,6.67,2025-09-12\n",
      "SUPEREIF,5.35,5.30,5.35,4.72,7.05,0.94,2025-09-12\n",
      "SVI,6.00,5.95,6.05,5.55,9.40,-0.83,2025-09-12\n",
      "SYNEX,12.40,12.30,12.50,9.30,16.70,1.64,2025-09-12\n",
      "TASCO,15.00,15.00,15.20,13.20,20.00,0.0,2025-09-12\n",
      "TCAP,50.00,49.75,50.50,44.25,53.50,-2.44,2025-09-12\n",
      "TFFIF,6.10,6.05,6.10,5.25,7.10,0.0,2025-09-12\n",
      "TFG,5.15,5.15,5.40,3.02,6.10,-1.9,2025-09-12\n",
      "THANI,1.76,1.76,1.79,1.15,2.26,0.57,2025-09-12\n",
      "THG,6.50,6.45,6.60,6.45,25.13,-0.76,2025-09-12\n",
      "TIPH,22.10,21.20,22.10,16.70,30.50,4.25,2025-09-12\n",
      "TIPCO,8.60,8.55,8.60,8.35,10.40,0.58,2025-09-12\n",
      "TISCO,100.00,99.75,100.50,95.00,103.00,0.5,2025-09-12\n",
      "TK,4.54,4.54,4.58,3.28,5.45,0.44,2025-09-12\n",
      "TKN,6.30,6.25,6.45,5.00,11.80,0.8,2025-09-12\n",
      "TKS,6.05,6.00,6.10,4.90,8.10,0.0,2025-09-12\n",
      "TMT,3.16,3.12,3.16,2.60,5.40,1.28,2025-09-12\n",
      "TMW,53.50,53.25,53.50,47.00,66.75,-0.47,2025-09-12\n",
      "TOA,14.80,14.70,15.20,9.35,20.50,-2.63,2025-09-12\n",
      "TOP,35.50,34.50,35.50,21.00,52.25,1.43,2025-09-12\n",
      "TPIPL,0.82,0.80,0.83,0.69,1.27,1.23,2025-09-12\n",
      "TPIPP,2.28,2.26,2.30,1.99,3.12,0.88,2025-09-12\n",
      "TQM,14.30,14.20,14.70,12.20,33.25,-1.38,2025-09-12\n",
      "TRUE,11.20,11.10,11.40,10.10,13.30,-0.88,2025-09-12\n",
      "TSE,0.51,0.51,0.53,0.29,1.24,0.0,2025-09-12\n",
      "TSTH,0.76,0.74,0.76,0.47,0.93,1.33,2025-09-12\n",
      "TTA,4.58,4.54,4.62,3.22,6.55,0.0,2025-09-12\n",
      "TTB,1.89,1.89,1.91,1.72,2.06,-0.53,2025-09-12\n",
      "TTLPF,10.60,10.50,10.60,10.30,16.00,0.0,2025-09-12\n",
      "TTW,9.00,8.95,9.00,8.45,9.45,0.0,2025-09-12\n",
      "TU,12.50,12.40,12.70,8.60,15.50,-0.79,2025-09-12\n",
      "TVO,25.25,25.25,25.75,19.70,25.75,-1.94,2025-09-12\n",
      "TYCN,1.79,1.79,1.79,1.62,2.62,-1.65,2025-09-12\n",
      "UTP,7.95,7.80,7.95,7.20,11.20,0.63,2025-09-12\n",
      "VGI,2.02,2.00,2.06,1.86,3.68,0.0,2025-09-12\n",
      "VIBHA,1.46,1.46,1.48,1.37,2.24,-0.68,2025-09-12\n",
      "VNG,2.14,2.12,2.20,1.89,3.82,-1.83,2025-09-12\n",
      "WHA,3.78,3.76,3.82,2.26,6.20,0.0,2025-09-12\n",
      "WHAIR,5.65,5.60,5.70,4.12,6.75,1.8,2025-09-12\n",
      "WHART,9.55,9.35,9.55,8.55,10.80,1.6,2025-09-12\n",
      "WHAUP,4.18,4.10,4.24,2.76,5.50,3.98,2025-09-12\n",
      "WICE,3.16,3.10,3.18,2.34,6.95,1.28,2025-09-12\n",
      "WORK,4.22,4.20,4.24,3.82,10.20,0.0,2025-09-12\n"
     ]
    }
   ],
   "source": [
    "df = pd.read_csv(input_file, header=None)\n",
    "out_df = get_stock_data(df)"
   ]
  },
  {
   "cell_type": "code",
   "execution_count": 13,
   "id": "d31edacf",
   "metadata": {},
   "outputs": [
    {
     "name": "stdout",
     "output_type": "stream",
     "text": [
      "End at:  11:20 PM\n"
     ]
    }
   ],
   "source": [
    "end_time = strftime(\"%I:%M %p\")\n",
    "print('End at: ', end_time)"
   ]
  },
  {
   "cell_type": "code",
   "execution_count": 14,
   "id": "b89c4ae7",
   "metadata": {},
   "outputs": [
    {
     "data": {
      "text/html": [
       "<div>\n",
       "<style scoped>\n",
       "    .dataframe tbody tr th:only-of-type {\n",
       "        vertical-align: middle;\n",
       "    }\n",
       "\n",
       "    .dataframe tbody tr th {\n",
       "        vertical-align: top;\n",
       "    }\n",
       "\n",
       "    .dataframe thead th {\n",
       "        text-align: right;\n",
       "    }\n",
       "</style>\n",
       "<table border=\"1\" class=\"dataframe\">\n",
       "  <thead>\n",
       "    <tr style=\"text-align: right;\">\n",
       "      <th></th>\n",
       "      <th>name</th>\n",
       "      <th>price</th>\n",
       "      <th>today_low</th>\n",
       "      <th>today_high</th>\n",
       "      <th>year_low</th>\n",
       "      <th>year_high</th>\n",
       "      <th>percent</th>\n",
       "      <th>updated_at</th>\n",
       "    </tr>\n",
       "  </thead>\n",
       "  <tbody>\n",
       "  </tbody>\n",
       "</table>\n",
       "</div>"
      ],
      "text/plain": [
       "Empty DataFrame\n",
       "Columns: [name, price, today_low, today_high, year_low, year_high, percent, updated_at]\n",
       "Index: []"
      ]
     },
     "execution_count": 14,
     "metadata": {},
     "output_type": "execute_result"
    }
   ],
   "source": [
    "out_df.query('price == \"-\"')"
   ]
  },
  {
   "cell_type": "code",
   "execution_count": 15,
   "id": "784f1b6d",
   "metadata": {},
   "outputs": [
    {
     "data": {
      "text/plain": [
       "(216, 8)"
      ]
     },
     "execution_count": 15,
     "metadata": {},
     "output_type": "execute_result"
    }
   ],
   "source": [
    "out_df.shape"
   ]
  },
  {
   "cell_type": "code",
   "execution_count": 16,
   "id": "6326d0c5",
   "metadata": {},
   "outputs": [],
   "source": [
    "out_df = out_df[out_df['name'] != 'BCT']"
   ]
  },
  {
   "cell_type": "code",
   "execution_count": 17,
   "id": "2a293f55-436e-45d1-9966-50d12c26e659",
   "metadata": {},
   "outputs": [],
   "source": [
    "out_df = out_df[out_df['name'] != 'LPF']"
   ]
  },
  {
   "cell_type": "code",
   "execution_count": 18,
   "id": "cc4b3547-5ea9-4ac6-bd11-896e67d464ed",
   "metadata": {},
   "outputs": [],
   "source": [
    "out_df = out_df[out_df['name'] != 'TYCN']"
   ]
  },
  {
   "cell_type": "code",
   "execution_count": 19,
   "id": "865622c2-dad3-4ba8-b35a-898461fe5e9a",
   "metadata": {},
   "outputs": [],
   "source": [
    "out_df = out_df[out_df['name'] != 'GRAMMY']"
   ]
  },
  {
   "cell_type": "code",
   "execution_count": 20,
   "id": "cb2d763d-5b75-4ace-b87a-f165c8e6cb91",
   "metadata": {},
   "outputs": [],
   "source": [
    "out_df = out_df[out_df['name'] != 'MST']"
   ]
  },
  {
   "cell_type": "code",
   "execution_count": 21,
   "id": "e65305f0-157a-4129-a758-15c02e8df06a",
   "metadata": {},
   "outputs": [],
   "source": [
    "out_df = out_df[out_df['name'] != 'SPC']"
   ]
  },
  {
   "cell_type": "code",
   "execution_count": 22,
   "id": "cb55b5f6-0679-4191-aeda-ab0cf45f18e7",
   "metadata": {},
   "outputs": [],
   "source": [
    "out_df = out_df[out_df['name'] != 'SPRIME']"
   ]
  },
  {
   "cell_type": "code",
   "execution_count": 23,
   "id": "981854f1-01a1-4e26-b2a9-4f58948a33ec",
   "metadata": {},
   "outputs": [],
   "source": [
    "out_df = out_df[out_df['name'] != 'FPT']"
   ]
  },
  {
   "cell_type": "code",
   "execution_count": 24,
   "id": "a2833967-e889-4ad5-97b2-8234ba35c31c",
   "metadata": {},
   "outputs": [],
   "source": [
    "out_df = out_df[out_df['name'] != 'GGC']"
   ]
  },
  {
   "cell_type": "code",
   "execution_count": 25,
   "id": "40da6b49-9c79-425a-9cae-a6608c2062a4",
   "metadata": {},
   "outputs": [],
   "source": [
    "out_df = out_df[out_df['name'] != 'SKN']"
   ]
  },
  {
   "cell_type": "code",
   "execution_count": 26,
   "id": "b2771ed1",
   "metadata": {},
   "outputs": [
    {
     "data": {
      "text/plain": [
       "(207, 8)"
      ]
     },
     "execution_count": 26,
     "metadata": {},
     "output_type": "execute_result"
    }
   ],
   "source": [
    "out_df.shape"
   ]
  },
  {
   "cell_type": "code",
   "execution_count": 27,
   "id": "eb2ffec6",
   "metadata": {},
   "outputs": [],
   "source": [
    "out_df['price'] = out_df['price'].astype('float')\n",
    "out_df['today_low'] = out_df['today_low'].astype('float')\n",
    "out_df['today_high'] = out_df['today_high'].astype('float')\n",
    "out_df['year_low'] = out_df['year_low'].astype('float')\n",
    "out_df['year_high'] = out_df['year_high'].astype('float')\n",
    "out_df['percent'] = out_df['percent'].astype('float')"
   ]
  },
  {
   "cell_type": "code",
   "execution_count": 28,
   "id": "f4fb1a3c",
   "metadata": {},
   "outputs": [],
   "source": [
    "sorted_out_df = out_df.sort_values('percent')"
   ]
  },
  {
   "cell_type": "code",
   "execution_count": 29,
   "id": "032f0eea",
   "metadata": {},
   "outputs": [
    {
     "data": {
      "text/html": [
       "<div>\n",
       "<style scoped>\n",
       "    .dataframe tbody tr th:only-of-type {\n",
       "        vertical-align: middle;\n",
       "    }\n",
       "\n",
       "    .dataframe tbody tr th {\n",
       "        vertical-align: top;\n",
       "    }\n",
       "\n",
       "    .dataframe thead th {\n",
       "        text-align: right;\n",
       "    }\n",
       "</style>\n",
       "<table border=\"1\" class=\"dataframe\">\n",
       "  <thead>\n",
       "    <tr style=\"text-align: right;\">\n",
       "      <th></th>\n",
       "      <th>name</th>\n",
       "      <th>price</th>\n",
       "      <th>today_low</th>\n",
       "      <th>today_high</th>\n",
       "      <th>year_low</th>\n",
       "      <th>year_high</th>\n",
       "      <th>percent</th>\n",
       "      <th>updated_at</th>\n",
       "    </tr>\n",
       "  </thead>\n",
       "  <tbody>\n",
       "  </tbody>\n",
       "</table>\n",
       "</div>"
      ],
      "text/plain": [
       "Empty DataFrame\n",
       "Columns: [name, price, today_low, today_high, year_low, year_high, percent, updated_at]\n",
       "Index: []"
      ]
     },
     "execution_count": 29,
     "metadata": {},
     "output_type": "execute_result"
    }
   ],
   "source": [
    "sorted_out_df.query('today_low < year_low')"
   ]
  },
  {
   "cell_type": "code",
   "execution_count": 30,
   "id": "8e04b03d",
   "metadata": {},
   "outputs": [
    {
     "data": {
      "text/html": [
       "<div>\n",
       "<style scoped>\n",
       "    .dataframe tbody tr th:only-of-type {\n",
       "        vertical-align: middle;\n",
       "    }\n",
       "\n",
       "    .dataframe tbody tr th {\n",
       "        vertical-align: top;\n",
       "    }\n",
       "\n",
       "    .dataframe thead th {\n",
       "        text-align: right;\n",
       "    }\n",
       "</style>\n",
       "<table border=\"1\" class=\"dataframe\">\n",
       "  <thead>\n",
       "    <tr style=\"text-align: right;\">\n",
       "      <th></th>\n",
       "      <th>name</th>\n",
       "      <th>price</th>\n",
       "      <th>today_low</th>\n",
       "      <th>today_high</th>\n",
       "      <th>year_low</th>\n",
       "      <th>year_high</th>\n",
       "      <th>percent</th>\n",
       "      <th>updated_at</th>\n",
       "    </tr>\n",
       "  </thead>\n",
       "  <tbody>\n",
       "    <tr>\n",
       "      <th>98</th>\n",
       "      <td>KTB</td>\n",
       "      <td>26.25</td>\n",
       "      <td>25.75</td>\n",
       "      <td>26.5</td>\n",
       "      <td>19.7</td>\n",
       "      <td>26.25</td>\n",
       "      <td>0.0</td>\n",
       "      <td>2025-09-12</td>\n",
       "    </tr>\n",
       "  </tbody>\n",
       "</table>\n",
       "</div>"
      ],
      "text/plain": [
       "   name  price  today_low  today_high  year_low  year_high  percent  \\\n",
       "98  KTB  26.25      25.75        26.5      19.7      26.25      0.0   \n",
       "\n",
       "    updated_at  \n",
       "98  2025-09-12  "
      ]
     },
     "execution_count": 30,
     "metadata": {},
     "output_type": "execute_result"
    }
   ],
   "source": [
    "sorted_out_df.query('today_high > year_high')"
   ]
  },
  {
   "cell_type": "code",
   "execution_count": 31,
   "id": "290a9607",
   "metadata": {},
   "outputs": [
    {
     "data": {
      "text/html": [
       "<div>\n",
       "<style scoped>\n",
       "    .dataframe tbody tr th:only-of-type {\n",
       "        vertical-align: middle;\n",
       "    }\n",
       "\n",
       "    .dataframe tbody tr th {\n",
       "        vertical-align: top;\n",
       "    }\n",
       "\n",
       "    .dataframe thead th {\n",
       "        text-align: right;\n",
       "    }\n",
       "</style>\n",
       "<table border=\"1\" class=\"dataframe\">\n",
       "  <thead>\n",
       "    <tr style=\"text-align: right;\">\n",
       "      <th></th>\n",
       "      <th>name</th>\n",
       "      <th>price</th>\n",
       "      <th>today_low</th>\n",
       "      <th>today_high</th>\n",
       "      <th>year_low</th>\n",
       "      <th>year_high</th>\n",
       "      <th>percent</th>\n",
       "      <th>updated_at</th>\n",
       "    </tr>\n",
       "  </thead>\n",
       "  <tbody>\n",
       "    <tr>\n",
       "      <th>98</th>\n",
       "      <td>KTB</td>\n",
       "      <td>26.25</td>\n",
       "      <td>25.75</td>\n",
       "      <td>26.5</td>\n",
       "      <td>19.7</td>\n",
       "      <td>26.25</td>\n",
       "      <td>0.0</td>\n",
       "      <td>2025-09-12</td>\n",
       "    </tr>\n",
       "  </tbody>\n",
       "</table>\n",
       "</div>"
      ],
      "text/plain": [
       "   name  price  today_low  today_high  year_low  year_high  percent  \\\n",
       "98  KTB  26.25      25.75        26.5      19.7      26.25      0.0   \n",
       "\n",
       "    updated_at  \n",
       "98  2025-09-12  "
      ]
     },
     "execution_count": 31,
     "metadata": {},
     "output_type": "execute_result"
    }
   ],
   "source": [
    "out_df.query('today_high > year_high')"
   ]
  },
  {
   "cell_type": "code",
   "execution_count": 32,
   "id": "5fbeba56-2a63-4650-898b-6447a81f95f5",
   "metadata": {},
   "outputs": [],
   "source": [
    "file_name = \"Price-Hilo.csv\"\n",
    "output_file = os.path.join(dat_path, file_name)\n",
    "god_file = os.path.join(god_path, file_name)\n",
    "icd_file = os.path.join(icd_path, file_name)\n",
    "osd_file = os.path.join(osd_path, file_name)"
   ]
  },
  {
   "cell_type": "code",
   "execution_count": 33,
   "id": "da6183ac-2f05-4f67-b200-fe83634d29dc",
   "metadata": {},
   "outputs": [
    {
     "name": "stdout",
     "output_type": "stream",
     "text": [
      "output_file : C:\\Users\\PC1\\OneDrive\\A5\\Data\\Price-Hilo.csv\n",
      "icd_file : C:\\Users\\PC1\\iCloudDrive\\Data\\Price-Hilo.csv\n",
      "god_file : C:\\Users\\PC1\\OneDrive\\Imports\\santisoontarinka@gmail.com - Google Drive\\Data\\Price-Hilo.csv\n",
      "osd_file : C:\\Users\\PC1\\OneDrive\\Documents\\obsidian-git-sync\\Data\\Price-Hilo.csv\n"
     ]
    }
   ],
   "source": [
    "print(f\"output_file : {output_file}\") \n",
    "print(f\"icd_file : {icd_file}\") \n",
    "print(f\"god_file : {god_file}\") \n",
    "print(f\"osd_file : {osd_file}\") "
   ]
  },
  {
   "cell_type": "code",
   "execution_count": 34,
   "id": "8017b53b",
   "metadata": {},
   "outputs": [],
   "source": [
    "out_df.to_csv(output_file, index=False)  \n",
    "out_df.to_csv(god_file, index=False) \n",
    "out_df.to_csv(icd_file, index=False)  \n",
    "out_df.to_csv(osd_file, index=False) "
   ]
  },
  {
   "cell_type": "code",
   "execution_count": 35,
   "id": "80692fae-6308-4695-bcac-5124ce4d44e3",
   "metadata": {},
   "outputs": [
    {
     "name": "stdout",
     "output_type": "stream",
     "text": [
      "2025-09-12 23:20:32\n"
     ]
    }
   ],
   "source": [
    "# Get the current time\n",
    "current_time = datetime.now()\n",
    "# Format the time to remove milliseconds\n",
    "formatted_time = current_time.strftime(\"%Y-%m-%d %H:%M:%S\")\n",
    "print(formatted_time)"
   ]
  },
  {
   "cell_type": "code",
   "execution_count": null,
   "id": "ef2b1958-d5b3-4ae8-b179-6afa07dba2d0",
   "metadata": {},
   "outputs": [],
   "source": []
  }
 ],
 "metadata": {
  "kernelspec": {
   "display_name": "Python 3 (ipykernel)",
   "language": "python",
   "name": "python3"
  },
  "language_info": {
   "codemirror_mode": {
    "name": "ipython",
    "version": 3
   },
   "file_extension": ".py",
   "mimetype": "text/x-python",
   "name": "python",
   "nbconvert_exporter": "python",
   "pygments_lexer": "ipython3",
   "version": "3.12.3"
  }
 },
 "nbformat": 4,
 "nbformat_minor": 5
}
