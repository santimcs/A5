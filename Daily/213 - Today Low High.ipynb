{
 "cells": [
  {
   "cell_type": "markdown",
   "id": "930356c6",
   "metadata": {},
   "source": [
    "### Start and Run All"
   ]
  },
  {
   "cell_type": "code",
   "execution_count": 2,
   "id": "d7cfc693",
   "metadata": {},
   "outputs": [
    {
     "data": {
      "text/plain": [
       "datetime.datetime(2025, 1, 22, 21, 38, 29, 285926)"
      ]
     },
     "execution_count": 2,
     "metadata": {},
     "output_type": "execute_result"
    }
   ],
   "source": [
    "import os\n",
    "import pandas as pd\n",
    "from urllib import request\n",
    "from bs4 import BeautifulSoup\n",
    "# from datetime import date, timedelta\n",
    "from datetime import datetime\n",
    "from time import sleep, strftime\n",
    "current_time = datetime.now()\n",
    "current_time"
   ]
  },
  {
   "cell_type": "code",
   "execution_count": 4,
   "id": "0cbdda38-ec42-4470-bede-c468ba46f8d8",
   "metadata": {},
   "outputs": [],
   "source": [
    "url = \"https://www.set.or.th/en/market/product/stock/quote/\"\n",
    "percent_span = '' "
   ]
  },
  {
   "cell_type": "code",
   "execution_count": 6,
   "id": "6e4b7508-0071-480d-99c8-a6c070027294",
   "metadata": {},
   "outputs": [],
   "source": [
    "# Get the user's home directory\n",
    "user_path = os.path.expanduser('~')\n",
    "# Get the current working directory\n",
    "current_path = os.getcwd()\n",
    "# Derive the base directory (base_dir) by removing the last folder ('Daily')\n",
    "base_path = os.path.dirname(current_path)\n",
    "#C:\\Users\\PC1\\OneDrive\\A5\\Data\n",
    "dat_path = os.path.join(base_path, \"Data\")\n",
    "#C:\\Users\\PC1\\OneDrive\\Imports\\santisoontarinka@gmail.com - Google Drive\\Data>\n",
    "god_path = os.path.join(user_path, \"OneDrive\",\"Imports\",\"santisoontarinka@gmail.com - Google Drive\",\"Data\")\n",
    "#C:\\Users\\PC1\\iCloudDrive\\data\n",
    "icd_path = os.path.join(user_path, \"iCloudDrive\", \"Data\")\n",
    "#C:\\Users\\PC1\\OneDrive\\Documents\\obsidian-git-sync\\Data\n",
    "osd_path = os.path.join(user_path, \"OneDrive\",\"Documents\",\"obsidian-git-sync\",\"Data\")"
   ]
  },
  {
   "cell_type": "code",
   "execution_count": 8,
   "id": "07defeb3-a742-4e64-8089-7e4fe5b8b93c",
   "metadata": {},
   "outputs": [
    {
     "name": "stdout",
     "output_type": "stream",
     "text": [
      "User path: C:\\Users\\PC1\n",
      "Current path: C:\\Users\\PC1\\OneDrive\\A5\\Daily\n",
      "Data path (dat_path): C:\\Users\\PC1\\OneDrive\\A5\\Data\n",
      "Google Drive path (god_path): C:\\Users\\PC1\\OneDrive\\Imports\\santisoontarinka@gmail.com - Google Drive\\Data\n",
      "iCloudDrive path (icd_path): C:\\Users\\PC1\\iCloudDrive\\Data\n",
      "OSD path (osd_path): C:\\Users\\PC1\\OneDrive\\Documents\\obsidian-git-sync\\Data\n"
     ]
    }
   ],
   "source": [
    "print(\"User path:\", user_path)\n",
    "print(f\"Current path: {current_path}\")\n",
    "print(f\"Data path (dat_path): {dat_path}\") \n",
    "print(f\"Google Drive path (god_path): {god_path}\")\n",
    "print(f\"iCloudDrive path (icd_path): {icd_path}\") \n",
    "print(f\"OSD path (osd_path): {osd_path}\") "
   ]
  },
  {
   "cell_type": "code",
   "execution_count": 10,
   "id": "08576879-dc60-431b-a31a-e1893e2d7922",
   "metadata": {},
   "outputs": [
    {
     "name": "stdout",
     "output_type": "stream",
     "text": [
      "Input file : C:\\Users\\PC1\\OneDrive\\A5\\Data\\name-ttl.csv\n"
     ]
    }
   ],
   "source": [
    "file_name = \"name-ttl.csv\"\n",
    "input_file = os.path.join(dat_path, file_name)\n",
    "print(f\"Input file : {input_file}\") "
   ]
  },
  {
   "cell_type": "code",
   "execution_count": 12,
   "id": "9b9668db-0773-4de5-9bd4-864c377dab80",
   "metadata": {},
   "outputs": [],
   "source": [
    "file_name = \"price-hilo.csv\"\n",
    "output_file = os.path.join(dat_path, file_name)\n",
    "god_file = os.path.join(god_path, file_name)\n",
    "icd_file = os.path.join(icd_path, file_name)\n",
    "osd_file = os.path.join(osd_path, file_name)"
   ]
  },
  {
   "cell_type": "code",
   "execution_count": 14,
   "id": "66c38ef5-8643-4ad3-81ff-9e2275d426d5",
   "metadata": {},
   "outputs": [
    {
     "name": "stdout",
     "output_type": "stream",
     "text": [
      "output_file (output_file): C:\\Users\\PC1\\OneDrive\\A5\\Data\\price-hilo.csv\n",
      "icd_file (icd_file): C:\\Users\\PC1\\iCloudDrive\\Data\\price-hilo.csv\n",
      "god_file (god_file): C:\\Users\\PC1\\OneDrive\\Imports\\santisoontarinka@gmail.com - Google Drive\\Data\\price-hilo.csv\n",
      "osd_file (osd_file): C:\\Users\\PC1\\OneDrive\\Documents\\obsidian-git-sync\\Data\\price-hilo.csv\n"
     ]
    }
   ],
   "source": [
    "print(f\"output_file (output_file): {output_file}\") \n",
    "print(f\"icd_file (icd_file): {icd_file}\") \n",
    "print(f\"god_file (god_file): {god_file}\") \n",
    "print(f\"osd_file (osd_file): {osd_file}\")"
   ]
  },
  {
   "cell_type": "code",
   "execution_count": 16,
   "id": "c1ec2693",
   "metadata": {},
   "outputs": [],
   "source": [
    "def cvt_str_to_flt(input_str):\n",
    "    # Check for the special pattern and return 0\n",
    "    if input_str == '(-)':\n",
    "        return 0\n",
    "    \n",
    "    # Remove parentheses and percent sign\n",
    "    cleaned_str = input_str.replace('(', '').replace(')', '').replace('%', '')\n",
    "\n",
    "    # Convert to float\n",
    "    try:\n",
    "        return float(cleaned_str)\n",
    "    except ValueError:\n",
    "        # Handle the case where the conversion fails\n",
    "        return None\n",
    " "
   ]
  },
  {
   "cell_type": "code",
   "execution_count": 18,
   "id": "334bed1f",
   "metadata": {},
   "outputs": [],
   "source": [
    "def get_stock_data(in_df):\n",
    "\n",
    "    in_df.columns = ['name']\n",
    "    \n",
    "    output_columns = ['name', 'price', 'today_low', 'today_high', 'year_low', 'year_high', 'percent', 'updated_at']\n",
    "    # Initialize an empty DataFrame with specified columns\n",
    "    out_df = pd.DataFrame(columns=output_columns)\n",
    "    \n",
    "    for index, row in in_df.iterrows():\n",
    "        name = str(row['name']).upper()\n",
    "        response = request.urlopen(url + name + '/price')\n",
    "        html_page = BeautifulSoup(response, 'html.parser')\n",
    "        \n",
    "  #      price = html_page.find('div', class_='value text-white mb-0 me-2 lh-1 stock-info').text.strip()        \n",
    "  #      if (price == '-'):\n",
    "  #          price = '0.00'        \n",
    "\n",
    "        price_div = html_page.find('div', class_='value text-white mb-0 me-2 lh-1 stock-info')\n",
    "        if price_div:\n",
    "            price = price_div.text.strip()\n",
    "        else:\n",
    "            print(f\"Price div not found for {name}\")\n",
    "            price = '0.00'     \n",
    "            \n",
    "        # Try to find the <h3> tag with the class 'theme-success'\n",
    "        h3_tag = html_page.find('h3', class_='theme-success')\n",
    "        if h3_tag:\n",
    "        # Find all <span> tags within the found <h3> tag\n",
    "            span_tags = h3_tag.find_all('span')\n",
    "    \n",
    "            if len(span_tags) > 1:\n",
    "                # Extract the text from the second <span> tag\n",
    "                percent_span = span_tags[1].text\n",
    "                # print(percent_span)\n",
    "                \n",
    "        # Try to find the <h3> tag with the class 'theme-danger'\n",
    "        h3_tag = html_page.find('h3', class_='theme-danger')\n",
    "        if h3_tag:\n",
    "        # Find all <span> tags within the found <h3> tag\n",
    "            span_tags = h3_tag.find_all('span')\n",
    "    \n",
    "            if len(span_tags) > 1:\n",
    "                # Extract the text from the second <span> tag\n",
    "                percent_span = span_tags[1].text\n",
    "                # print(percent_span)    \n",
    "                \n",
    "        # Try to find the <h3> tag with the class 'theme-danger'\n",
    "        h3_tag = html_page.find('h3', class_='theme-normal')\n",
    "        if h3_tag:\n",
    "        # Find all <span> tags within the found <h3> tag\n",
    "            span_tags = h3_tag.find_all('span')\n",
    "    \n",
    "            if len(span_tags) > 1:\n",
    "                # Extract the text from the second <span> tag\n",
    "                percent_span = span_tags[1].text\n",
    "                # print(percent_span)   \n",
    "                \n",
    "        percent = cvt_str_to_flt(percent_span)\n",
    "                \n",
    "        values_low = html_page.find_all('span', class_='title-font-family fs-16px fw-bolder me-auto lh-1')\n",
    "        today_low = values_low[0].text\n",
    "        if (today_low == '-'):\n",
    "            today_low = '0.00'\n",
    "        \n",
    "        values_high = html_page.find_all('span', class_='title-font-family fs-16px fw-bolder lh-1')\n",
    "        today_high = values_high[0].text\n",
    "        if (today_high == '-'):\n",
    "            today_high = '0.00'         \n",
    "        \n",
    "        year_low = values_low[1].text        \n",
    "        year_high = values_high[1].text     \n",
    "        \n",
    "        # Find the div with the specific class, then find the span within it\n",
    "        div = html_page.find('div', class_='price-detail-date d-flex align-items-center text-nowrap fs-12px')\n",
    "        if div:\n",
    "            span = div.find('span')\n",
    "            if span:\n",
    "                text = span.get_text()\n",
    "#                 print(text)\n",
    "            else:\n",
    "                print(\"Span not found\")\n",
    "        else:\n",
    "            print(\"Div not found\")\n",
    "            \n",
    "        # Extract the date part from the string\n",
    "        # Assuming the date is always in the format 'dd Mon yyyy'\n",
    "        date_str = ' '.join(text.split()[2:5])\n",
    "\n",
    "        # Parse the date string into a datetime object\n",
    "        date_obj = datetime.strptime(date_str, '%d %b %Y')\n",
    "\n",
    "        # Format the datetime object to 'yyyy-mm-dd'\n",
    "        updated_at = date_obj.strftime('%Y-%m-%d')\n",
    "\n",
    "#         print(updated_at)\n",
    "        \n",
    "        # Append row to the DataFrame and print the row\n",
    "        out_df.loc[len(out_df)] = [name, price, today_low, today_high, year_low, year_high, percent, updated_at]\n",
    "#       print(out_df.iloc[-1].to_string(header=False, index=False)) \n",
    "        print(','.join(map(str, out_df.iloc[-1])))\n",
    "        sleep(1)\n",
    "        \n",
    "    return out_df  # return the final dataframe with all values populated"
   ]
  },
  {
   "cell_type": "code",
   "execution_count": 20,
   "id": "94abc8d4",
   "metadata": {},
   "outputs": [
    {
     "name": "stdout",
     "output_type": "stream",
     "text": [
      "Start at:  09:40 PM\n"
     ]
    }
   ],
   "source": [
    "start_time = strftime(\"%I:%M %p\")\n",
    "print('Start at: ', start_time)"
   ]
  },
  {
   "cell_type": "code",
   "execution_count": 22,
   "id": "23b565ec",
   "metadata": {},
   "outputs": [
    {
     "name": "stdout",
     "output_type": "stream",
     "text": [
      "ACE,1.26,1.25,1.27,1.25,1.60,0.0,2025-01-22\n",
      "ADVANC,289.00,286.00,290.00,193.00,299.00,0.35,2025-01-22\n",
      "AEONTS,118.00,116.50,119.00,107.00,168.50,1.29,2025-01-22\n",
      "AH,14.20,14.00,15.00,14.30,30.50,-4.7,2025-01-22\n",
      "AIE,0.79,0.77,0.79,0.74,1.51,0.0,2025-01-22\n",
      "AIMIRT,10.50,10.40,10.50,10.20,11.20,0.0,2025-01-22\n",
      "AIT,4.34,4.20,4.36,3.62,5.05,1.88,2025-01-22\n",
      "AJ,2.44,2.38,2.46,2.36,7.15,0.83,2025-01-22\n",
      "AMATA,27.50,26.75,27.75,20.10,31.00,2.8,2025-01-22\n",
      "ANAN,0.51,0.50,0.52,0.48,1.03,0.0,2025-01-22\n",
      "AOT,58.25,57.75,58.50,55.00,67.50,0.87,2025-01-22\n",
      "AP,7.80,7.75,7.85,7.50,11.20,0.65,2025-01-22\n",
      "ASIAN,7.75,7.70,7.80,6.35,11.20,0.0,2025-01-22\n",
      "ASK,8.85,8.70,8.95,8.40,20.30,2.31,2025-01-22\n",
      "ASP,2.34,2.34,2.36,2.12,2.88,0.0,2025-01-22\n",
      "ASW,7.85,7.80,7.85,7.35,8.45,0.64,2025-01-22\n",
      "AWC,3.10,3.10,3.16,2.88,4.58,0.0,2025-01-22\n",
      "BA,19.50,19.30,19.80,14.20,26.00,-0.51,2025-01-22\n",
      "BAM,5.70,5.65,5.85,5.35,10.40,-0.87,2025-01-22\n",
      "BANPU,5.20,5.20,5.35,4.38,7.50,0.97,2025-01-22\n",
      "BAY,23.90,23.80,24.10,22.20,29.00,0.0,2025-01-22\n",
      "BBL,156.50,152.50,156.50,129.00,159.50,3.3,2025-01-22\n",
      "BCH,15.10,14.40,15.20,14.10,23.80,4.14,2025-01-22\n",
      "BCP,34.75,33.25,35.00,26.50,47.50,3.73,2025-01-22\n",
      "BCPG,6.50,6.35,6.55,5.05,8.45,3.17,2025-01-22\n",
      "BCT,-,0.00,0.00,53.00,76.75,0.0,2025-01-22\n",
      "BDMS,24.10,23.60,24.30,23.10,31.25,1.26,2025-01-22\n",
      "BE8,12.70,12.30,13.00,10.60,30.25,0.0,2025-01-22\n",
      "BEAUTY,0.28,0.27,0.29,0.27,0.84,0.0,2025-01-22\n",
      "BEC,4.10,3.80,4.10,3.50,5.25,7.89,2025-01-22\n",
      "BEM,6.75,6.70,6.80,6.60,8.45,0.75,2025-01-22\n",
      "BGC,6.75,6.70,6.85,5.90,7.90,-0.74,2025-01-22\n",
      "BGRIM,15.40,15.40,16.00,14.30,30.00,-2.53,2025-01-22\n",
      "BH,191.00,188.00,193.00,184.50,284.00,-1.04,2025-01-22\n",
      "BJC,22.60,22.40,23.00,19.20,26.25,-1.31,2025-01-22\n",
      "BKIH,283.00,283.00,286.00,279.00,316.00,0.0,2025-01-22\n",
      "BLA,19.10,19.00,19.40,16.30,25.75,-0.52,2025-01-22\n",
      "BLAND,0.54,0.52,0.54,0.51,0.78,1.89,2025-01-22\n",
      "BPP,8.75,8.70,9.00,8.60,15.20,-1.69,2025-01-22\n",
      "BTS,5.90,5.75,5.90,3.72,6.90,1.72,2025-01-22\n",
      "BTSGIF,2.96,2.94,2.98,2.92,3.70,-0.67,2025-01-22\n",
      "CBG,79.00,78.50,81.00,61.25,82.00,1.28,2025-01-22\n",
      "CENTEL,30.00,29.75,31.50,28.00,46.50,0.84,2025-01-22\n",
      "CHG,2.26,2.22,2.30,2.12,3.24,0.89,2025-01-22\n",
      "CK,16.70,16.50,16.80,16.30,24.60,0.6,2025-01-22\n",
      "CKP,2.96,2.96,3.02,2.86,4.28,-0.67,2025-01-22\n",
      "COM7,23.10,23.00,23.80,16.40,28.25,-2.94,2025-01-22\n",
      "CPALL,55.75,55.50,57.00,51.25,68.00,-1.76,2025-01-22\n",
      "CPF,22.00,21.80,22.30,17.00,26.00,-0.9,2025-01-22\n",
      "CPN,53.50,53.00,54.25,52.25,68.75,0.0,2025-01-22\n",
      "CPNCG,6.25,6.20,6.25,5.30,7.15,0.81,2025-01-22\n",
      "CPNREIT,12.10,12.00,12.20,9.90,13.60,0.0,2025-01-22\n",
      "CRC,34.25,33.75,35.00,24.20,37.75,-0.72,2025-01-22\n",
      "DCC,1.60,1.60,1.65,1.56,2.16,-1.23,2025-01-22\n",
      "DCON,0.29,0.29,0.30,0.29,0.55,0.0,2025-01-22\n",
      "DELTA,147.00,143.50,147.00,63.25,173.50,3.16,2025-01-22\n",
      "DIF,8.45,8.40,8.50,7.45,9.85,0.0,2025-01-22\n",
      "DOHOME,8.55,8.45,8.70,8.05,12.60,1.18,2025-01-22\n",
      "DRT,7.45,7.40,7.50,7.35,8.45,-0.67,2025-01-22\n",
      "EA,3.02,3.02,3.16,2.14,28.66,-1.95,2025-01-22\n",
      "EASTW,2.16,2.12,2.16,2.02,4.18,0.93,2025-01-22\n",
      "ECL,0.83,0.82,0.86,0.67,1.51,1.22,2025-01-22\n",
      "EGATIF,5.95,5.95,6.00,5.75,6.40,0.0,2025-01-22\n",
      "EGCO,115.00,113.50,115.00,94.50,135.00,0.44,2025-01-22\n",
      "EPG,3.66,3.60,3.74,3.52,8.00,1.1,2025-01-22\n",
      "FORTH,9.35,9.25,9.50,8.80,20.10,-0.53,2025-01-22\n",
      "FPT,9.20,9.10,9.30,9.30,15.40,-1.08,2025-01-22\n",
      "FSMART,7.05,6.90,7.10,4.60,9.15,0.0,2025-01-22\n",
      "FTREIT,10.10,10.00,10.20,7.80,11.30,0.0,2025-01-22\n",
      "GC,4.94,4.90,4.94,4.72,5.55,0.41,2025-01-22\n",
      "GFPT,9.90,9.80,10.00,9.50,13.40,-1.0,2025-01-22\n",
      "GGC,4.12,4.04,4.12,3.94,9.35,3.0,2025-01-22\n",
      "GLOBAL,12.40,12.40,12.80,12.40,17.40,-2.36,2025-01-22\n",
      "GPSC,32.50,31.75,33.75,30.00,56.50,-1.52,2025-01-22\n",
      "GRAMMY,8.00,7.90,8.00,3.90,8.90,0.0,2025-01-22\n",
      "GULF,60.25,59.50,60.75,37.00,70.75,1.26,2025-01-22\n",
      "GUNKUL,2.04,2.04,2.08,1.94,3.18,-0.97,2025-01-22\n",
      "GVREIT,6.50,6.50,6.55,4.98,7.15,-0.76,2025-01-22\n",
      "HANA,24.00,23.90,24.80,22.50,51.50,-2.04,2025-01-22\n",
      "HFT,4.28,4.26,4.34,3.92,4.82,0.47,2025-01-22\n",
      "HMPRO,8.95,8.95,9.15,7.65,11.60,-1.1,2025-01-22\n",
      "HTC,16.10,16.00,16.20,15.00,18.20,0.63,2025-01-22\n",
      "ICHI,13.20,13.20,13.60,13.10,18.80,-2.22,2025-01-22\n",
      "III,5.10,5.05,5.10,4.64,10.20,0.99,2025-01-22\n",
      "ILM,15.40,15.20,15.80,14.70,23.30,2.67,2025-01-22\n",
      "IMH,4.50,4.48,4.50,4.04,7.95,0.0,2025-01-22\n",
      "IMPACT,10.70,10.50,10.70,9.15,12.80,0.94,2025-01-22\n",
      "INOX,0.44,0.44,0.45,0.40,0.67,0.0,2025-01-22\n",
      "INTUCH,101.00,100.00,101.00,65.25,114.50,0.5,2025-01-22\n",
      "IP,2.90,2.88,2.92,2.82,7.30,0.0,2025-01-22\n",
      "IRPC,1.16,1.16,1.18,1.10,2.06,-0.85,2025-01-22\n",
      "IVL,22.40,22.30,23.50,16.00,27.50,-2.18,2025-01-22\n",
      "3BBIF,5.15,5.10,5.15,5.00,6.75,0.98,2025-01-22\n",
      "JMART,11.10,11.10,11.40,9.10,17.70,-0.89,2025-01-22\n",
      "JMT,14.80,14.80,15.30,9.90,25.50,-0.67,2025-01-22\n",
      "KBANK,159.50,156.00,161.00,118.50,163.50,0.63,2025-01-22\n",
      "KCE,22.90,22.80,23.50,21.30,49.00,-1.29,2025-01-22\n",
      "KEX,1.40,1.39,1.42,1.40,6.50,-2.1,2025-01-22\n",
      "KGI,4.20,4.18,4.22,3.98,4.90,0.0,2025-01-22\n",
      "KKP,54.00,52.25,54.25,37.00,55.50,3.35,2025-01-22\n",
      "KSL,1.79,1.79,1.81,1.65,2.70,-0.56,2025-01-22\n",
      "KTB,23.00,21.80,23.00,15.40,22.40,5.5,2025-01-22\n",
      "KTC,51.50,51.25,52.00,37.00,52.00,-0.48,2025-01-22\n",
      "KYE,283.00,283.00,287.00,280.00,342.00,-1.39,2025-01-22\n",
      "LALIN,5.75,5.75,5.85,5.65,8.05,0.0,2025-01-22\n",
      "LANNA,16.50,16.00,16.50,13.60,17.50,3.13,2025-01-22\n",
      "LH,4.90,4.84,4.90,4.58,7.80,0.0,2025-01-22\n",
      "LHFG,0.75,0.73,0.75,0.71,1.04,1.35,2025-01-22\n",
      "LHK,3.54,3.52,3.54,3.42,4.40,0.0,2025-01-22\n",
      "LIT,0.62,0.58,0.64,0.55,1.55,6.9,2025-01-22\n",
      "LPH,4.26,4.26,4.26,4.24,4.98,0.0,2025-01-22\n",
      "LPN,2.14,2.10,2.22,2.06,3.90,1.9,2025-01-22\n",
      "M,18.90,18.90,19.70,18.90,39.50,-4.06,2025-01-22\n",
      "MAJOR,14.20,14.10,14.30,11.70,16.00,0.0,2025-01-22\n",
      "MBAX,1.81,1.80,1.85,1.72,3.48,0.0,2025-01-22\n",
      "MC,10.20,9.85,10.30,9.65,14.90,2.51,2025-01-22\n",
      "MCS,6.25,6.25,6.40,6.10,8.20,-1.57,2025-01-22\n",
      "MEGA,33.50,33.50,34.00,32.00,44.25,1.52,2025-01-22\n",
      "MINT,24.10,23.90,24.60,23.10,34.00,-0.82,2025-01-22\n",
      "MST,9.00,9.00,9.20,8.75,11.00,-2.17,2025-01-22\n",
      "MTC,44.50,44.00,45.00,37.50,54.00,1.71,2025-01-22\n",
      "NER,5.00,4.96,5.10,4.48,6.45,1.21,2025-01-22\n",
      "NOBLE,2.42,2.42,2.50,2.46,4.10,-3.2,2025-01-22\n",
      "ONEE,3.66,3.62,3.68,3.02,5.35,-0.54,2025-01-22\n",
      "OR,11.80,11.50,11.90,11.50,19.00,0.0,2025-01-22\n",
      "ORI,3.42,3.40,3.52,3.32,8.65,0.59,2025-01-22\n",
      "OSP,20.80,20.80,21.60,18.30,25.00,-3.26,2025-01-22\n",
      "PAP,1.74,1.73,1.75,1.46,2.96,0.58,2025-01-22\n",
      "PCSGH,3.36,3.30,3.36,3.26,5.35,2.44,2025-01-22\n",
      "PDG,2.56,2.56,2.60,2.30,2.82,-0.78,2025-01-22\n",
      "PLANB,6.85,6.80,7.00,6.40,9.20,-0.72,2025-01-22\n",
      "POPF,6.35,6.25,6.35,5.35,6.70,1.6,2025-01-22\n",
      "PREB,4.26,4.20,4.26,4.00,6.60,0.0,2025-01-22\n",
      "PRM,7.40,7.30,7.75,5.40,9.30,-4.52,2025-01-22\n",
      "PSH,6.75,6.70,6.85,6.45,12.60,-0.74,2025-01-22\n",
      "PSL,6.20,6.15,6.40,6.10,11.20,-3.88,2025-01-22\n",
      "PTG,7.60,7.55,7.70,7.45,10.70,0.0,2025-01-22\n",
      "PTL,10.30,10.30,10.40,9.15,14.40,0.0,2025-01-22\n",
      "PTT,31.25,31.00,31.50,30.00,36.25,0.0,2025-01-22\n",
      "PTTEP,124.00,121.50,124.00,116.00,164.50,1.22,2025-01-22\n",
      "PTTGC,21.50,21.20,21.80,20.60,41.25,0.47,2025-01-22\n",
      "QH,1.73,1.72,1.75,1.59,2.30,0.0,2025-01-22\n",
      "RATCH,28.50,28.50,29.25,25.25,34.25,-1.72,2025-01-22\n",
      "RBF,5.80,5.60,6.05,5.00,13.40,0.87,2025-01-22\n",
      "RCL,25.25,25.00,25.50,16.20,31.75,0.0,2025-01-22\n",
      "RJH,19.60,19.30,19.90,18.70,27.25,-0.51,2025-01-22\n",
      "ROJNA,5.95,5.80,6.00,5.05,8.05,2.59,2025-01-22\n",
      "RS,1.30,1.21,1.31,1.12,7.35,5.69,2025-01-22\n",
      "S11,1.97,1.96,2.00,1.68,3.90,0.51,2025-01-22\n",
      "SABUY,0.56,0.55,0.57,0.38,5.50,0.0,2025-01-22\n",
      "SAPPE,59.50,59.00,60.75,57.75,107.50,-0.83,2025-01-22\n",
      "SAT,10.30,10.30,10.80,10.00,18.90,-2.83,2025-01-22\n",
      "SAWAD,39.00,38.00,39.50,27.25,45.50,1.96,2025-01-22\n",
      "SC,2.66,2.58,2.70,2.30,4.00,4.72,2025-01-22\n",
      "SCB,124.50,122.00,125.00,100.00,123.00,1.63,2025-01-22\n",
      "SCC,154.50,154.50,158.50,150.50,278.00,-1.28,2025-01-22\n",
      "SCCC,161.00,160.00,162.00,127.50,177.50,0.0,2025-01-22\n",
      "SCGP,17.30,17.20,17.70,16.60,35.25,-1.14,2025-01-22\n",
      "SENA,2.20,2.16,2.20,2.16,3.02,0.92,2025-01-22\n",
      "SGP,7.15,7.10,7.15,6.55,8.45,0.0,2025-01-22\n",
      "SINGER,6.90,6.90,7.20,6.35,12.70,-0.72,2025-01-22\n",
      "SIRI,1.72,1.71,1.73,1.51,1.94,0.58,2025-01-22\n",
      "SIS,26.00,25.75,26.75,20.80,31.25,0.97,2025-01-22\n",
      "SJWD,8.90,8.90,9.10,8.80,16.70,-1.11,2025-01-22\n",
      "SKN,5.40,5.35,5.50,4.04,6.40,-0.92,2025-01-22\n",
      "SKR,8.75,8.70,8.80,8.65,10.70,0.57,2025-01-22\n",
      "SMPC,9.30,9.25,9.30,6.45,10.10,0.54,2025-01-22\n",
      "SNC,5.30,5.25,5.40,4.72,8.90,0.0,2025-01-22\n",
      "SPALI,16.80,16.60,16.90,14.80,21.60,-0.59,2025-01-22\n",
      "SPC,57.50,57.50,57.75,57.00,63.75,0.44,2025-01-22\n",
      "SPCG,8.10,8.00,8.10,7.95,12.70,1.25,2025-01-22\n",
      "SPRC,5.65,5.45,5.65,5.45,9.40,1.8,2025-01-22\n",
      "SPRIME,4.20,4.20,4.22,3.66,4.84,0.0,2025-01-22\n",
      "SSP,5.25,5.15,5.40,5.10,8.50,1.94,2025-01-22\n",
      "STA,16.40,16.40,16.80,15.30,25.75,-1.2,2025-01-22\n",
      "STANLY,218.00,218.00,219.00,198.50,233.00,0.0,2025-01-22\n",
      "STGT,8.95,8.95,9.15,6.70,13.30,0.56,2025-01-22\n",
      "SUPER,0.22,0.22,0.23,0.21,0.43,0.0,2025-01-22\n",
      "SUPEREIF,6.20,6.20,6.30,5.60,7.05,-2.36,2025-01-22\n",
      "SVI,6.70,6.70,6.75,5.95,9.40,0.0,2025-01-22\n",
      "SYNEX,13.50,13.30,13.60,9.70,16.70,0.0,2025-01-22\n",
      "TASCO,18.40,18.10,18.40,15.40,20.00,1.1,2025-01-22\n",
      "TCAP,50.75,49.75,51.00,43.25,53.50,1.5,2025-01-22\n",
      "TFFIF,6.30,6.25,6.35,6.00,7.20,0.0,2025-01-22\n",
      "TFG,3.32,3.32,3.38,3.20,4.84,-0.6,2025-01-22\n",
      "THANI,1.36,1.34,1.38,1.27,2.50,1.49,2025-01-22\n",
      "THG,13.30,13.20,13.70,12.40,52.25,-1.48,2025-01-22\n",
      "TIDLOR,16.70,16.40,17.10,12.50,22.56,1.21,2025-01-22\n",
      "TIPH,20.10,20.10,20.20,19.90,32.25,0.5,2025-01-22\n",
      "TIPCO,10.10,10.10,10.20,9.30,10.60,-0.98,2025-01-22\n",
      "TISCO,99.00,98.75,99.50,90.00,101.50,0.0,2025-01-22\n",
      "TK,4.00,3.90,4.08,3.82,5.75,2.56,2025-01-22\n",
      "TKN,8.55,8.40,8.70,7.70,12.30,1.79,2025-01-22\n",
      "TKS,5.50,5.40,5.55,5.20,9.00,-0.9,2025-01-22\n",
      "TMT,3.04,3.02,3.06,2.94,6.15,1.33,2025-01-22\n",
      "TMW,58.75,58.00,60.00,44.75,66.75,1.73,2025-01-22\n",
      "TOA,13.10,13.10,13.50,12.40,26.00,-2.24,2025-01-22\n",
      "TOP,26.00,25.75,26.75,24.50,60.75,-1.89,2025-01-22\n",
      "TPIPL,1.00,0.99,1.01,0.98,1.45,1.01,2025-01-22\n",
      "TPIPP,2.94,2.92,2.96,2.70,3.42,0.68,2025-01-22\n",
      "TQM,19.10,19.10,19.80,18.80,33.25,-4.5,2025-01-22\n",
      "TRUE,11.80,11.50,12.10,5.30,12.40,-0.84,2025-01-22\n",
      "TSE,0.69,0.69,0.73,0.72,2.12,-5.48,2025-01-22\n",
      "TSTH,0.53,0.53,0.54,0.47,0.90,1.92,2025-01-22\n",
      "TTA,4.66,4.64,4.74,4.56,8.50,-1.27,2025-01-22\n",
      "TTB,1.90,1.83,1.91,1.59,2.06,3.83,2025-01-22\n",
      "TTLPF,14.20,14.20,14.30,13.20,20.30,0.0,2025-01-22\n",
      "TTW,8.90,8.90,9.00,8.50,10.10,-0.56,2025-01-22\n",
      "TU,12.10,12.00,12.30,11.80,16.00,0.0,2025-01-22\n",
      "TVO,21.00,21.00,21.30,18.60,25.25,-0.47,2025-01-22\n",
      "TYCN,1.85,1.85,1.87,1.84,2.78,-1.6,2025-01-22\n",
      "UTP,7.60,7.60,7.80,7.30,12.00,-1.3,2025-01-22\n",
      "VGI,3.32,3.18,3.32,1.20,3.68,3.11,2025-01-22\n",
      "VIBHA,1.89,1.86,1.89,1.72,2.34,1.61,2025-01-22\n",
      "VNG,2.94,2.90,2.94,2.92,3.92,-1.34,2025-01-22\n",
      "WHA,5.05,4.96,5.20,4.50,6.20,1.0,2025-01-22\n",
      "WHAIR,6.45,6.45,6.50,5.20,6.75,-0.77,2025-01-22\n",
      "WHART,10.20,10.10,10.20,7.65,10.80,0.0,2025-01-22\n",
      "WHAUP,4.06,4.04,4.10,3.78,5.50,0.0,2025-01-22\n",
      "WICE,3.54,3.50,3.54,3.44,7.55,0.0,2025-01-22\n",
      "WORK,5.40,5.30,5.50,5.25,11.10,-0.92,2025-01-22\n"
     ]
    }
   ],
   "source": [
    "df = pd.read_csv(input_file, header=None)\n",
    "out_df = get_stock_data(df)"
   ]
  },
  {
   "cell_type": "code",
   "execution_count": 24,
   "id": "d31edacf",
   "metadata": {},
   "outputs": [
    {
     "name": "stdout",
     "output_type": "stream",
     "text": [
      "End at:  09:49 PM\n"
     ]
    }
   ],
   "source": [
    "end_time = strftime(\"%I:%M %p\")\n",
    "print('End at: ', end_time)"
   ]
  },
  {
   "cell_type": "code",
   "execution_count": 26,
   "id": "b89c4ae7",
   "metadata": {},
   "outputs": [
    {
     "data": {
      "text/html": [
       "<div>\n",
       "<style scoped>\n",
       "    .dataframe tbody tr th:only-of-type {\n",
       "        vertical-align: middle;\n",
       "    }\n",
       "\n",
       "    .dataframe tbody tr th {\n",
       "        vertical-align: top;\n",
       "    }\n",
       "\n",
       "    .dataframe thead th {\n",
       "        text-align: right;\n",
       "    }\n",
       "</style>\n",
       "<table border=\"1\" class=\"dataframe\">\n",
       "  <thead>\n",
       "    <tr style=\"text-align: right;\">\n",
       "      <th></th>\n",
       "      <th>name</th>\n",
       "      <th>price</th>\n",
       "      <th>today_low</th>\n",
       "      <th>today_high</th>\n",
       "      <th>year_low</th>\n",
       "      <th>year_high</th>\n",
       "      <th>percent</th>\n",
       "      <th>updated_at</th>\n",
       "    </tr>\n",
       "  </thead>\n",
       "  <tbody>\n",
       "    <tr>\n",
       "      <th>25</th>\n",
       "      <td>BCT</td>\n",
       "      <td>-</td>\n",
       "      <td>0.00</td>\n",
       "      <td>0.00</td>\n",
       "      <td>53.00</td>\n",
       "      <td>76.75</td>\n",
       "      <td>0.0</td>\n",
       "      <td>2025-01-22</td>\n",
       "    </tr>\n",
       "  </tbody>\n",
       "</table>\n",
       "</div>"
      ],
      "text/plain": [
       "   name price today_low today_high year_low year_high  percent  updated_at\n",
       "25  BCT     -      0.00       0.00    53.00     76.75      0.0  2025-01-22"
      ]
     },
     "execution_count": 26,
     "metadata": {},
     "output_type": "execute_result"
    }
   ],
   "source": [
    "out_df.query('price == \"-\"')"
   ]
  },
  {
   "cell_type": "code",
   "execution_count": 28,
   "id": "784f1b6d",
   "metadata": {},
   "outputs": [
    {
     "data": {
      "text/plain": [
       "(221, 8)"
      ]
     },
     "execution_count": 28,
     "metadata": {},
     "output_type": "execute_result"
    }
   ],
   "source": [
    "out_df.shape"
   ]
  },
  {
   "cell_type": "code",
   "execution_count": 30,
   "id": "6326d0c5",
   "metadata": {},
   "outputs": [],
   "source": [
    "out_df = out_df[out_df['name'] != 'BCT']"
   ]
  },
  {
   "cell_type": "code",
   "execution_count": 36,
   "id": "2a293f55-436e-45d1-9966-50d12c26e659",
   "metadata": {},
   "outputs": [],
   "source": [
    "out_df = out_df[out_df['name'] != 'LPF']"
   ]
  },
  {
   "cell_type": "code",
   "execution_count": 38,
   "id": "cc4b3547-5ea9-4ac6-bd11-896e67d464ed",
   "metadata": {},
   "outputs": [],
   "source": [
    "out_df = out_df[out_df['name'] != 'TYCN']"
   ]
  },
  {
   "cell_type": "code",
   "execution_count": 40,
   "id": "865622c2-dad3-4ba8-b35a-898461fe5e9a",
   "metadata": {},
   "outputs": [],
   "source": [
    "out_df = out_df[out_df['name'] != 'GRAMMY']"
   ]
  },
  {
   "cell_type": "code",
   "execution_count": 42,
   "id": "cb2d763d-5b75-4ace-b87a-f165c8e6cb91",
   "metadata": {},
   "outputs": [],
   "source": [
    "out_df = out_df[out_df['name'] != 'KYE']"
   ]
  },
  {
   "cell_type": "code",
   "execution_count": 32,
   "id": "b2771ed1",
   "metadata": {},
   "outputs": [
    {
     "data": {
      "text/plain": [
       "(220, 8)"
      ]
     },
     "execution_count": 32,
     "metadata": {},
     "output_type": "execute_result"
    }
   ],
   "source": [
    "out_df.shape"
   ]
  },
  {
   "cell_type": "code",
   "execution_count": 34,
   "id": "eb2ffec6",
   "metadata": {},
   "outputs": [],
   "source": [
    "out_df['price'] = out_df['price'].astype('float')\n",
    "out_df['today_low'] = out_df['today_low'].astype('float')\n",
    "out_df['today_high'] = out_df['today_high'].astype('float')\n",
    "out_df['year_low'] = out_df['year_low'].astype('float')\n",
    "out_df['year_high'] = out_df['year_high'].astype('float')\n",
    "out_df['percent'] = out_df['percent'].astype('float')"
   ]
  },
  {
   "cell_type": "code",
   "execution_count": 36,
   "id": "f4fb1a3c",
   "metadata": {},
   "outputs": [],
   "source": [
    "sorted_out_df = out_df.sort_values('percent')"
   ]
  },
  {
   "cell_type": "code",
   "execution_count": 38,
   "id": "032f0eea",
   "metadata": {},
   "outputs": [
    {
     "data": {
      "text/html": [
       "<div>\n",
       "<style scoped>\n",
       "    .dataframe tbody tr th:only-of-type {\n",
       "        vertical-align: middle;\n",
       "    }\n",
       "\n",
       "    .dataframe tbody tr th {\n",
       "        vertical-align: top;\n",
       "    }\n",
       "\n",
       "    .dataframe thead th {\n",
       "        text-align: right;\n",
       "    }\n",
       "</style>\n",
       "<table border=\"1\" class=\"dataframe\">\n",
       "  <thead>\n",
       "    <tr style=\"text-align: right;\">\n",
       "      <th></th>\n",
       "      <th>name</th>\n",
       "      <th>price</th>\n",
       "      <th>today_low</th>\n",
       "      <th>today_high</th>\n",
       "      <th>year_low</th>\n",
       "      <th>year_high</th>\n",
       "      <th>percent</th>\n",
       "      <th>updated_at</th>\n",
       "    </tr>\n",
       "  </thead>\n",
       "  <tbody>\n",
       "    <tr>\n",
       "      <th>202</th>\n",
       "      <td>TSE</td>\n",
       "      <td>0.69</td>\n",
       "      <td>0.69</td>\n",
       "      <td>0.73</td>\n",
       "      <td>0.72</td>\n",
       "      <td>2.12</td>\n",
       "      <td>-5.48</td>\n",
       "      <td>2025-01-22</td>\n",
       "    </tr>\n",
       "    <tr>\n",
       "      <th>3</th>\n",
       "      <td>AH</td>\n",
       "      <td>14.20</td>\n",
       "      <td>14.00</td>\n",
       "      <td>15.00</td>\n",
       "      <td>14.30</td>\n",
       "      <td>30.50</td>\n",
       "      <td>-4.70</td>\n",
       "      <td>2025-01-22</td>\n",
       "    </tr>\n",
       "    <tr>\n",
       "      <th>122</th>\n",
       "      <td>NOBLE</td>\n",
       "      <td>2.42</td>\n",
       "      <td>2.42</td>\n",
       "      <td>2.50</td>\n",
       "      <td>2.46</td>\n",
       "      <td>4.10</td>\n",
       "      <td>-3.20</td>\n",
       "      <td>2025-01-22</td>\n",
       "    </tr>\n",
       "    <tr>\n",
       "      <th>97</th>\n",
       "      <td>KEX</td>\n",
       "      <td>1.40</td>\n",
       "      <td>1.39</td>\n",
       "      <td>1.42</td>\n",
       "      <td>1.40</td>\n",
       "      <td>6.50</td>\n",
       "      <td>-2.10</td>\n",
       "      <td>2025-01-22</td>\n",
       "    </tr>\n",
       "    <tr>\n",
       "      <th>214</th>\n",
       "      <td>VNG</td>\n",
       "      <td>2.94</td>\n",
       "      <td>2.90</td>\n",
       "      <td>2.94</td>\n",
       "      <td>2.92</td>\n",
       "      <td>3.92</td>\n",
       "      <td>-1.34</td>\n",
       "      <td>2025-01-22</td>\n",
       "    </tr>\n",
       "    <tr>\n",
       "      <th>66</th>\n",
       "      <td>FPT</td>\n",
       "      <td>9.20</td>\n",
       "      <td>9.10</td>\n",
       "      <td>9.30</td>\n",
       "      <td>9.30</td>\n",
       "      <td>15.40</td>\n",
       "      <td>-1.08</td>\n",
       "      <td>2025-01-22</td>\n",
       "    </tr>\n",
       "  </tbody>\n",
       "</table>\n",
       "</div>"
      ],
      "text/plain": [
       "      name  price  today_low  today_high  year_low  year_high  percent  \\\n",
       "202    TSE   0.69       0.69        0.73      0.72       2.12    -5.48   \n",
       "3       AH  14.20      14.00       15.00     14.30      30.50    -4.70   \n",
       "122  NOBLE   2.42       2.42        2.50      2.46       4.10    -3.20   \n",
       "97     KEX   1.40       1.39        1.42      1.40       6.50    -2.10   \n",
       "214    VNG   2.94       2.90        2.94      2.92       3.92    -1.34   \n",
       "66     FPT   9.20       9.10        9.30      9.30      15.40    -1.08   \n",
       "\n",
       "     updated_at  \n",
       "202  2025-01-22  \n",
       "3    2025-01-22  \n",
       "122  2025-01-22  \n",
       "97   2025-01-22  \n",
       "214  2025-01-22  \n",
       "66   2025-01-22  "
      ]
     },
     "execution_count": 38,
     "metadata": {},
     "output_type": "execute_result"
    }
   ],
   "source": [
    "sorted_out_df.query('today_low < year_low')"
   ]
  },
  {
   "cell_type": "code",
   "execution_count": 40,
   "id": "7af7c28e",
   "metadata": {},
   "outputs": [
    {
     "data": {
      "text/plain": [
       "6"
      ]
     },
     "execution_count": 40,
     "metadata": {},
     "output_type": "execute_result"
    }
   ],
   "source": [
    "out_df.query('today_low < year_low').shape[0]"
   ]
  },
  {
   "cell_type": "code",
   "execution_count": 42,
   "id": "8e04b03d",
   "metadata": {},
   "outputs": [
    {
     "data": {
      "text/html": [
       "<div>\n",
       "<style scoped>\n",
       "    .dataframe tbody tr th:only-of-type {\n",
       "        vertical-align: middle;\n",
       "    }\n",
       "\n",
       "    .dataframe tbody tr th {\n",
       "        vertical-align: top;\n",
       "    }\n",
       "\n",
       "    .dataframe thead th {\n",
       "        text-align: right;\n",
       "    }\n",
       "</style>\n",
       "<table border=\"1\" class=\"dataframe\">\n",
       "  <thead>\n",
       "    <tr style=\"text-align: right;\">\n",
       "      <th></th>\n",
       "      <th>name</th>\n",
       "      <th>price</th>\n",
       "      <th>today_low</th>\n",
       "      <th>today_high</th>\n",
       "      <th>year_low</th>\n",
       "      <th>year_high</th>\n",
       "      <th>percent</th>\n",
       "      <th>updated_at</th>\n",
       "    </tr>\n",
       "  </thead>\n",
       "  <tbody>\n",
       "    <tr>\n",
       "      <th>154</th>\n",
       "      <td>SCB</td>\n",
       "      <td>124.5</td>\n",
       "      <td>122.0</td>\n",
       "      <td>125.0</td>\n",
       "      <td>100.0</td>\n",
       "      <td>123.0</td>\n",
       "      <td>1.63</td>\n",
       "      <td>2025-01-22</td>\n",
       "    </tr>\n",
       "    <tr>\n",
       "      <th>101</th>\n",
       "      <td>KTB</td>\n",
       "      <td>23.0</td>\n",
       "      <td>21.8</td>\n",
       "      <td>23.0</td>\n",
       "      <td>15.4</td>\n",
       "      <td>22.4</td>\n",
       "      <td>5.50</td>\n",
       "      <td>2025-01-22</td>\n",
       "    </tr>\n",
       "  </tbody>\n",
       "</table>\n",
       "</div>"
      ],
      "text/plain": [
       "    name  price  today_low  today_high  year_low  year_high  percent  \\\n",
       "154  SCB  124.5      122.0       125.0     100.0      123.0     1.63   \n",
       "101  KTB   23.0       21.8        23.0      15.4       22.4     5.50   \n",
       "\n",
       "     updated_at  \n",
       "154  2025-01-22  \n",
       "101  2025-01-22  "
      ]
     },
     "execution_count": 42,
     "metadata": {},
     "output_type": "execute_result"
    }
   ],
   "source": [
    "sorted_out_df.query('today_high > year_high')"
   ]
  },
  {
   "cell_type": "code",
   "execution_count": 44,
   "id": "290a9607",
   "metadata": {},
   "outputs": [
    {
     "data": {
      "text/plain": [
       "2"
      ]
     },
     "execution_count": 44,
     "metadata": {},
     "output_type": "execute_result"
    }
   ],
   "source": [
    "out_df.query('today_high > year_high').shape[0]"
   ]
  },
  {
   "cell_type": "code",
   "execution_count": 46,
   "id": "5fbeba56-2a63-4650-898b-6447a81f95f5",
   "metadata": {},
   "outputs": [],
   "source": [
    "file_name = \"Price-Hilo.csv\"\n",
    "output_file = os.path.join(dat_path, file_name)\n",
    "god_file = os.path.join(god_path, file_name)\n",
    "icd_file = os.path.join(icd_path, file_name)\n",
    "osd_file = os.path.join(osd_path, file_name)"
   ]
  },
  {
   "cell_type": "code",
   "execution_count": 48,
   "id": "da6183ac-2f05-4f67-b200-fe83634d29dc",
   "metadata": {},
   "outputs": [
    {
     "name": "stdout",
     "output_type": "stream",
     "text": [
      "output_file (output_file): C:\\Users\\PC1\\OneDrive\\A5\\Data\\Price-Hilo.csv\n",
      "icd_file (icd_file): C:\\Users\\PC1\\iCloudDrive\\Data\\Price-Hilo.csv\n",
      "god_file (god_file): C:\\Users\\PC1\\OneDrive\\Imports\\santisoontarinka@gmail.com - Google Drive\\Data\\Price-Hilo.csv\n",
      "osd_file (osd_file): C:\\Users\\PC1\\OneDrive\\Documents\\obsidian-git-sync\\Data\\Price-Hilo.csv\n"
     ]
    }
   ],
   "source": [
    "print(f\"output_file (output_file): {output_file}\") \n",
    "print(f\"icd_file (icd_file): {icd_file}\") \n",
    "print(f\"god_file (god_file): {god_file}\") \n",
    "print(f\"osd_file (osd_file): {osd_file}\") "
   ]
  },
  {
   "cell_type": "code",
   "execution_count": 50,
   "id": "8017b53b",
   "metadata": {},
   "outputs": [],
   "source": [
    "out_df.to_csv(output_file, index=False)  \n",
    "out_df.to_csv(god_file, index=False) \n",
    "out_df.to_csv(icd_file, index=False)  \n",
    "out_df.to_csv(osd_file, index=False) "
   ]
  },
  {
   "cell_type": "code",
   "execution_count": 52,
   "id": "80692fae-6308-4695-bcac-5124ce4d44e3",
   "metadata": {},
   "outputs": [
    {
     "data": {
      "text/plain": [
       "datetime.datetime(2025, 1, 22, 21, 38, 29, 285926)"
      ]
     },
     "execution_count": 52,
     "metadata": {},
     "output_type": "execute_result"
    }
   ],
   "source": [
    "current_time"
   ]
  },
  {
   "cell_type": "code",
   "execution_count": null,
   "id": "65000f4d-e754-421d-a607-19d51228cc7f",
   "metadata": {},
   "outputs": [],
   "source": []
  }
 ],
 "metadata": {
  "kernelspec": {
   "display_name": "Python 3 (ipykernel)",
   "language": "python",
   "name": "python3"
  },
  "language_info": {
   "codemirror_mode": {
    "name": "ipython",
    "version": 3
   },
   "file_extension": ".py",
   "mimetype": "text/x-python",
   "name": "python",
   "nbconvert_exporter": "python",
   "pygments_lexer": "ipython3",
   "version": "3.12.3"
  }
 },
 "nbformat": 4,
 "nbformat_minor": 5
}
