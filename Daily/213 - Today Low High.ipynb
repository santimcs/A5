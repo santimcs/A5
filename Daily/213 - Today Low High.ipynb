{
 "cells": [
  {
   "cell_type": "markdown",
   "id": "930356c6",
   "metadata": {},
   "source": [
    "### Start and Run All"
   ]
  },
  {
   "cell_type": "code",
   "execution_count": 2,
   "id": "d7cfc693",
   "metadata": {},
   "outputs": [
    {
     "name": "stdout",
     "output_type": "stream",
     "text": [
      "2025-02-20 20:41:44\n"
     ]
    }
   ],
   "source": [
    "import os\n",
    "import pandas as pd\n",
    "from urllib import request\n",
    "from bs4 import BeautifulSoup\n",
    "# from datetime import date, timedelta\n",
    "from datetime import datetime\n",
    "from time import sleep, strftime\n",
    "\n",
    "# Get the current time\n",
    "current_time = datetime.now()\n",
    "# Format the time to remove milliseconds\n",
    "formatted_time = current_time.strftime(\"%Y-%m-%d %H:%M:%S\")\n",
    "print(formatted_time)"
   ]
  },
  {
   "cell_type": "code",
   "execution_count": 3,
   "id": "0cbdda38-ec42-4470-bede-c468ba46f8d8",
   "metadata": {},
   "outputs": [],
   "source": [
    "url = \"https://www.set.or.th/en/market/product/stock/quote/\"\n",
    "percent_span = '' "
   ]
  },
  {
   "cell_type": "code",
   "execution_count": 4,
   "id": "6e4b7508-0071-480d-99c8-a6c070027294",
   "metadata": {},
   "outputs": [],
   "source": [
    "# Get the user's home directory\n",
    "user_path = os.path.expanduser('~')\n",
    "# Get the current working directory\n",
    "current_path = os.getcwd()\n",
    "# Derive the base directory (base_dir) by removing the last folder ('Daily')\n",
    "base_path = os.path.dirname(current_path)\n",
    "#C:\\Users\\PC1\\OneDrive\\A5\\Data\n",
    "dat_path = os.path.join(base_path, \"Data\")\n",
    "#C:\\Users\\PC1\\OneDrive\\Imports\\santisoontarinka@gmail.com - Google Drive\\Data>\n",
    "god_path = os.path.join(user_path, \"OneDrive\",\"Imports\",\"santisoontarinka@gmail.com - Google Drive\",\"Data\")\n",
    "#C:\\Users\\PC1\\iCloudDrive\\data\n",
    "icd_path = os.path.join(user_path, \"iCloudDrive\", \"Data\")\n",
    "#C:\\Users\\PC1\\OneDrive\\Documents\\obsidian-git-sync\\Data\n",
    "osd_path = os.path.join(user_path, \"OneDrive\",\"Documents\",\"obsidian-git-sync\",\"Data\")"
   ]
  },
  {
   "cell_type": "code",
   "execution_count": 5,
   "id": "07defeb3-a742-4e64-8089-7e4fe5b8b93c",
   "metadata": {},
   "outputs": [
    {
     "name": "stdout",
     "output_type": "stream",
     "text": [
      "User path: C:\\Users\\PC1\n",
      "Current path: C:\\Users\\PC1\\OneDrive\\A5\\Daily\n",
      "Base path: C:\\Users\\PC1\\OneDrive\\A5\n",
      "Data path : C:\\Users\\PC1\\OneDrive\\A5\\Data\n",
      "Google Drive path : C:\\Users\\PC1\\OneDrive\\Imports\\santisoontarinka@gmail.com - Google Drive\\Data\n",
      "iCloudDrive path : C:\\Users\\PC1\\iCloudDrive\\Data\n",
      "Obsidian path : C:\\Users\\PC1\\OneDrive\\Documents\\obsidian-git-sync\\Data\n"
     ]
    }
   ],
   "source": [
    "print(\"User path:\", user_path)\n",
    "print(f\"Current path: {current_path}\")\n",
    "print(f\"Base path: {base_path}\")\n",
    "print(f\"Data path : {dat_path}\") \n",
    "print(f\"Google Drive path : {god_path}\")\n",
    "print(f\"iCloudDrive path : {icd_path}\") \n",
    "print(f\"Obsidian path : {osd_path}\") "
   ]
  },
  {
   "cell_type": "code",
   "execution_count": 6,
   "id": "08576879-dc60-431b-a31a-e1893e2d7922",
   "metadata": {},
   "outputs": [
    {
     "name": "stdout",
     "output_type": "stream",
     "text": [
      "Input file : C:\\Users\\PC1\\OneDrive\\A5\\Data\\name-ttl.csv\n"
     ]
    }
   ],
   "source": [
    "file_name = \"name-ttl.csv\"\n",
    "input_file = os.path.join(dat_path, file_name)\n",
    "print(f\"Input file : {input_file}\") "
   ]
  },
  {
   "cell_type": "code",
   "execution_count": 7,
   "id": "9b9668db-0773-4de5-9bd4-864c377dab80",
   "metadata": {},
   "outputs": [],
   "source": [
    "file_name = \"price-hilo.csv\"\n",
    "output_file = os.path.join(dat_path, file_name)\n",
    "god_file = os.path.join(god_path, file_name)\n",
    "icd_file = os.path.join(icd_path, file_name)\n",
    "osd_file = os.path.join(osd_path, file_name)"
   ]
  },
  {
   "cell_type": "code",
   "execution_count": 8,
   "id": "66c38ef5-8643-4ad3-81ff-9e2275d426d5",
   "metadata": {},
   "outputs": [
    {
     "name": "stdout",
     "output_type": "stream",
     "text": [
      "Output file : C:\\Users\\PC1\\OneDrive\\A5\\Data\\price-hilo.csv\n",
      "icd_file : C:\\Users\\PC1\\iCloudDrive\\Data\\price-hilo.csv\n",
      "god_file : C:\\Users\\PC1\\OneDrive\\Imports\\santisoontarinka@gmail.com - Google Drive\\Data\\price-hilo.csv\n",
      "osd_file : C:\\Users\\PC1\\OneDrive\\Documents\\obsidian-git-sync\\Data\\price-hilo.csv\n"
     ]
    }
   ],
   "source": [
    "print(f\"Output file : {output_file}\") \n",
    "print(f\"icd_file : {icd_file}\") \n",
    "print(f\"god_file : {god_file}\") \n",
    "print(f\"osd_file : {osd_file}\")"
   ]
  },
  {
   "cell_type": "code",
   "execution_count": 9,
   "id": "c1ec2693",
   "metadata": {},
   "outputs": [],
   "source": [
    "def cvt_str_to_flt(input_str):\n",
    "    # Check for the special pattern and return 0\n",
    "    if input_str == '(-)':\n",
    "        return 0\n",
    "    \n",
    "    # Remove parentheses and percent sign\n",
    "    cleaned_str = input_str.replace('(', '').replace(')', '').replace('%', '')\n",
    "\n",
    "    # Convert to float\n",
    "    try:\n",
    "        return float(cleaned_str)\n",
    "    except ValueError:\n",
    "        # Handle the case where the conversion fails\n",
    "        return None\n",
    " "
   ]
  },
  {
   "cell_type": "code",
   "execution_count": 10,
   "id": "334bed1f",
   "metadata": {},
   "outputs": [],
   "source": [
    "def get_stock_data(in_df):\n",
    "\n",
    "    in_df.columns = ['name']\n",
    "    \n",
    "    output_columns = ['name', 'price', 'today_low', 'today_high', 'year_low', 'year_high', 'percent', 'updated_at']\n",
    "    # Initialize an empty DataFrame with specified columns\n",
    "    out_df = pd.DataFrame(columns=output_columns)\n",
    "    \n",
    "    for index, row in in_df.iterrows():\n",
    "        name = str(row['name']).upper()\n",
    "        response = request.urlopen(url + name + '/price')\n",
    "        html_page = BeautifulSoup(response, 'html.parser')\n",
    "        \n",
    "  #      price = html_page.find('div', class_='value text-white mb-0 me-2 lh-1 stock-info').text.strip()        \n",
    "  #      if (price == '-'):\n",
    "  #          price = '0.00'        \n",
    "\n",
    "        price_div = html_page.find('div', class_='value text-white mb-0 me-2 lh-1 stock-info')\n",
    "        if price_div:\n",
    "            price = price_div.text.strip()\n",
    "        else:\n",
    "            print(f\"Price div not found for {name}\")\n",
    "            price = '0.00'     \n",
    "            \n",
    "        # Try to find the <h3> tag with the class 'theme-success'\n",
    "        h3_tag = html_page.find('h3', class_='theme-success')\n",
    "        if h3_tag:\n",
    "        # Find all <span> tags within the found <h3> tag\n",
    "            span_tags = h3_tag.find_all('span')\n",
    "    \n",
    "            if len(span_tags) > 1:\n",
    "                # Extract the text from the second <span> tag\n",
    "                percent_span = span_tags[1].text\n",
    "                # print(percent_span)\n",
    "                \n",
    "        # Try to find the <h3> tag with the class 'theme-danger'\n",
    "        h3_tag = html_page.find('h3', class_='theme-danger')\n",
    "        if h3_tag:\n",
    "        # Find all <span> tags within the found <h3> tag\n",
    "            span_tags = h3_tag.find_all('span')\n",
    "    \n",
    "            if len(span_tags) > 1:\n",
    "                # Extract the text from the second <span> tag\n",
    "                percent_span = span_tags[1].text\n",
    "                # print(percent_span)    \n",
    "                \n",
    "        # Try to find the <h3> tag with the class 'theme-danger'\n",
    "        h3_tag = html_page.find('h3', class_='theme-normal')\n",
    "        if h3_tag:\n",
    "        # Find all <span> tags within the found <h3> tag\n",
    "            span_tags = h3_tag.find_all('span')\n",
    "    \n",
    "            if len(span_tags) > 1:\n",
    "                # Extract the text from the second <span> tag\n",
    "                percent_span = span_tags[1].text\n",
    "                # print(percent_span)   \n",
    "                \n",
    "        percent = cvt_str_to_flt(percent_span)\n",
    "                \n",
    "        values_low = html_page.find_all('span', class_='title-font-family fs-16px fw-bolder me-auto lh-1')\n",
    "        today_low = values_low[0].text\n",
    "        if (today_low == '-'):\n",
    "            today_low = '0.00'\n",
    "        \n",
    "        values_high = html_page.find_all('span', class_='title-font-family fs-16px fw-bolder lh-1')\n",
    "        today_high = values_high[0].text\n",
    "        if (today_high == '-'):\n",
    "            today_high = '0.00'         \n",
    "        \n",
    "        year_low = values_low[1].text        \n",
    "        year_high = values_high[1].text     \n",
    "        \n",
    "        # Find the div with the specific class, then find the span within it\n",
    "        div = html_page.find('div', class_='price-detail-date d-flex align-items-center text-nowrap fs-12px')\n",
    "        if div:\n",
    "            span = div.find('span')\n",
    "            if span:\n",
    "                text = span.get_text()\n",
    "#                 print(text)\n",
    "            else:\n",
    "                print(\"Span not found\")\n",
    "        else:\n",
    "            print(\"Div not found\")\n",
    "            \n",
    "        # Extract the date part from the string\n",
    "        # Assuming the date is always in the format 'dd Mon yyyy'\n",
    "        date_str = ' '.join(text.split()[2:5])\n",
    "\n",
    "        # Parse the date string into a datetime object\n",
    "        date_obj = datetime.strptime(date_str, '%d %b %Y')\n",
    "\n",
    "        # Format the datetime object to 'yyyy-mm-dd'\n",
    "        updated_at = date_obj.strftime('%Y-%m-%d')\n",
    "\n",
    "#         print(updated_at)\n",
    "        \n",
    "        # Append row to the DataFrame and print the row\n",
    "        out_df.loc[len(out_df)] = [name, price, today_low, today_high, year_low, year_high, percent, updated_at]\n",
    "#       print(out_df.iloc[-1].to_string(header=False, index=False)) \n",
    "        print(','.join(map(str, out_df.iloc[-1])))\n",
    "        sleep(1)\n",
    "        \n",
    "    return out_df  # return the final dataframe with all values populated"
   ]
  },
  {
   "cell_type": "code",
   "execution_count": 11,
   "id": "94abc8d4",
   "metadata": {},
   "outputs": [
    {
     "name": "stdout",
     "output_type": "stream",
     "text": [
      "Start at:  08:41 PM\n"
     ]
    }
   ],
   "source": [
    "start_time = strftime(\"%I:%M %p\")\n",
    "print('Start at: ', start_time)"
   ]
  },
  {
   "cell_type": "code",
   "execution_count": 12,
   "id": "23b565ec",
   "metadata": {},
   "outputs": [
    {
     "name": "stdout",
     "output_type": "stream",
     "text": [
      "ACE,1.29,1.27,1.31,1.23,1.52,-1.53,2025-02-20\n",
      "ADVANC,283.00,283.00,289.00,193.00,307.00,-4.07,2025-02-20\n",
      "AEONTS,110.00,108.50,112.00,103.50,168.50,-1.79,2025-02-20\n",
      "AH,14.00,13.90,14.40,13.70,26.00,-0.71,2025-02-20\n",
      "AIE,1.58,1.40,1.65,0.72,1.51,23.44,2025-02-20\n",
      "AIMIRT,10.70,10.60,10.80,10.20,11.20,0.94,2025-02-20\n",
      "AIT,4.58,4.56,4.74,3.74,5.05,-4.18,2025-02-20\n",
      "AJ,2.40,2.36,2.58,2.26,7.15,-4.0,2025-02-20\n",
      "AMATA,24.90,24.60,25.25,20.10,31.00,-0.4,2025-02-20\n",
      "ANAN,0.44,0.44,0.46,0.40,0.94,-2.22,2025-02-20\n",
      "AOT,43.75,42.75,44.25,41.50,67.50,1.16,2025-02-20\n",
      "AP,8.20,8.15,8.60,7.50,11.20,-5.75,2025-02-20\n",
      "ASIAN,7.85,7.70,7.85,6.35,11.20,1.29,2025-02-20\n",
      "ASK,7.25,7.20,7.35,7.00,19.20,0.0,2025-02-20\n",
      "ASP,2.30,2.28,2.32,2.12,2.88,-0.86,2025-02-20\n",
      "ASW,7.55,7.50,7.60,7.35,8.45,-0.66,2025-02-20\n",
      "AWC,3.14,3.10,3.18,2.88,4.58,-0.63,2025-02-20\n",
      "BA,20.90,20.50,21.20,15.10,26.00,0.0,2025-02-20\n",
      "BAM,6.25,6.20,6.45,5.35,10.40,-3.1,2025-02-20\n",
      "BANPU,4.50,4.48,4.64,4.38,7.50,-1.75,2025-02-20\n",
      "BAY,23.70,23.70,24.10,22.20,29.00,0.0,2025-02-20\n",
      "BBL,161.50,159.00,161.50,129.00,161.00,0.62,2025-02-20\n",
      "BCH,15.70,15.50,15.90,13.40,22.30,0.0,2025-02-20\n",
      "BCP,36.50,36.25,37.25,26.50,47.50,-2.01,2025-02-20\n",
      "BCPG,7.05,7.00,7.15,5.05,8.25,0.0,2025-02-20\n",
      "BCT,69.00,69.00,69.00,53.00,76.75,-1.08,2025-02-20\n",
      "BDMS,23.20,23.00,23.40,22.20,31.25,-0.43,2025-02-20\n",
      "BE8,12.70,12.70,13.30,10.60,29.50,-3.05,2025-02-20\n",
      "BEAUTY,0.24,0.23,0.26,0.21,0.73,9.09,2025-02-20\n",
      "BEC,3.86,3.82,3.88,3.50,5.25,0.0,2025-02-20\n",
      "BEM,6.50,6.45,6.50,6.40,8.45,0.0,2025-02-20\n",
      "BGC,6.75,6.65,6.80,5.90,7.90,-0.74,2025-02-20\n",
      "BGRIM,12.70,12.50,13.20,12.30,30.00,-2.31,2025-02-20\n",
      "BH,186.50,184.00,190.00,171.50,284.00,0.81,2025-02-20\n",
      "BJC,22.20,21.80,22.30,19.20,26.25,-0.89,2025-02-20\n",
      "BKIH,290.00,287.00,292.00,279.00,316.00,0.69,2025-02-20\n",
      "BLA,21.50,21.10,22.50,16.30,25.75,7.5,2025-02-20\n",
      "BLAND,0.49,0.48,0.49,0.48,0.72,2.08,2025-02-20\n",
      "BPP,8.30,8.30,8.65,8.05,15.20,-1.19,2025-02-20\n",
      "BTS,6.00,5.95,6.20,3.72,6.45,-0.83,2025-02-20\n",
      "BTSGIF,3.04,3.02,3.04,2.92,3.70,0.0,2025-02-20\n",
      "CBG,73.00,72.00,73.00,61.25,82.00,-0.34,2025-02-20\n",
      "CENTEL,29.75,29.25,30.00,26.00,46.50,0.0,2025-02-20\n",
      "CHG,2.28,2.26,2.30,2.04,3.08,0.0,2025-02-20\n",
      "CK,15.00,14.80,15.40,14.90,24.60,-1.32,2025-02-20\n",
      "CKP,2.64,2.58,2.88,2.58,4.28,-7.69,2025-02-20\n",
      "COM7,21.50,21.20,21.90,16.40,28.25,-0.92,2025-02-20\n",
      "CPALL,52.25,50.75,52.25,46.75,68.00,1.95,2025-02-20\n",
      "CPF,21.80,21.70,22.60,17.60,26.00,-5.22,2025-02-20\n",
      "CPN,51.25,51.00,52.00,48.75,68.75,-0.49,2025-02-20\n",
      "CPNCG,6.05,6.05,6.10,5.30,6.65,-1.63,2025-02-20\n",
      "CPNREIT,12.30,12.10,12.30,9.90,13.60,0.82,2025-02-20\n",
      "CRC,33.75,33.50,34.25,24.20,37.75,-2.17,2025-02-20\n",
      "DCC,1.48,1.48,1.52,1.48,2.16,-1.33,2025-02-20\n",
      "DCON,0.30,0.29,0.30,0.28,0.53,0.0,2025-02-20\n",
      "DELTA,77.25,75.50,80.50,63.25,173.50,-0.64,2025-02-20\n",
      "DIF,8.10,8.10,8.20,7.45,9.85,-0.61,2025-02-20\n",
      "DOHOME,7.00,6.80,7.40,5.95,12.60,5.26,2025-02-20\n",
      "DRT,7.45,7.35,7.45,6.80,8.40,1.36,2025-02-20\n",
      "EA,2.80,2.78,3.00,2.14,28.31,-1.41,2025-02-20\n",
      "EASTW,2.20,2.14,2.22,2.02,4.04,0.0,2025-02-20\n",
      "ECL,0.91,0.91,0.94,0.67,1.51,-1.09,2025-02-20\n",
      "EGATIF,6.05,6.05,6.10,5.75,6.40,0.0,2025-02-20\n",
      "EGCO,100.50,100.50,103.50,94.50,132.00,-2.43,2025-02-20\n",
      "EPG,3.38,3.28,3.40,3.00,7.85,0.0,2025-02-20\n",
      "FORTH,8.00,7.95,8.35,7.80,18.80,-1.84,2025-02-20\n",
      "FPT,7.00,7.00,7.15,7.05,15.40,-2.78,2025-02-20\n",
      "FSMART,7.15,7.00,7.20,4.60,9.15,0.7,2025-02-20\n",
      "FTREIT,10.20,10.10,10.30,7.80,11.30,0.0,2025-02-20\n",
      "GC,5.00,4.98,5.00,4.72,5.50,0.4,2025-02-20\n",
      "GFPT,9.15,8.95,9.20,8.20,13.40,0.55,2025-02-20\n",
      "GGC,4.00,4.00,4.10,3.84,8.90,0.0,2025-02-20\n",
      "GLOBAL,8.25,8.20,8.55,7.80,17.40,-2.37,2025-02-20\n",
      "GPSC,28.00,27.50,29.50,25.75,56.50,-4.27,2025-02-20\n",
      "GRAMMY,7.00,6.50,7.05,3.90,8.90,0.72,2025-02-20\n",
      "GULF,51.25,51.25,56.50,37.00,70.75,-9.29,2025-02-20\n",
      "GUNKUL,1.80,1.78,1.86,1.75,3.10,-2.7,2025-02-20\n",
      "GVREIT,6.85,6.75,6.90,4.98,7.15,0.0,2025-02-20\n",
      "HANA,21.60,21.40,22.30,20.50,49.75,-2.26,2025-02-20\n",
      "HFT,4.22,4.18,4.26,3.92,4.82,0.0,2025-02-20\n",
      "HMPRO,8.45,8.35,8.75,7.65,11.60,-2.87,2025-02-20\n",
      "HTC,16.80,16.60,16.90,15.00,18.20,1.2,2025-02-20\n",
      "ICHI,13.40,13.40,13.90,12.00,18.80,-1.47,2025-02-20\n",
      "III,5.05,5.00,5.15,4.18,9.95,0.0,2025-02-20\n",
      "ILM,14.60,14.50,15.20,13.80,22.60,-3.31,2025-02-20\n",
      "IMH,4.36,4.26,4.38,4.00,7.65,0.46,2025-02-20\n",
      "IMPACT,10.40,10.40,10.60,9.15,12.80,0.0,2025-02-20\n",
      "INOX,0.45,0.45,0.47,0.40,0.67,0.0,2025-02-20\n",
      "INTUCH,82.50,82.50,91.25,65.25,114.50,-10.33,2025-02-20\n",
      "IP,2.12,2.10,2.18,2.08,7.30,-2.75,2025-02-20\n",
      "IRPC,1.01,1.01,1.04,1.00,2.06,-1.94,2025-02-20\n",
      "IVL,22.10,22.00,22.60,16.00,27.50,-1.34,2025-02-20\n",
      "3BBIF,5.25,5.25,5.30,5.00,6.75,-0.94,2025-02-20\n",
      "JMART,10.30,10.20,10.70,9.10,17.70,-0.96,2025-02-20\n",
      "JMT,13.90,13.70,14.20,9.90,24.40,-2.11,2025-02-20\n",
      "KBANK,164.00,161.00,164.50,119.50,163.50,0.31,2025-02-20\n",
      "KCE,21.20,20.70,21.60,19.50,47.75,0.0,2025-02-20\n",
      "KEX,1.25,1.19,1.27,1.19,6.50,0.0,2025-02-20\n",
      "KGI,4.24,4.22,4.24,3.98,4.90,0.0,2025-02-20\n",
      "KKP,55.50,53.75,56.25,37.00,55.50,3.74,2025-02-20\n",
      "KSL,1.72,1.71,1.75,1.57,2.62,-0.58,2025-02-20\n",
      "KTB,24.40,24.10,24.70,15.70,24.10,1.67,2025-02-20\n",
      "KTC,50.75,50.50,51.25,37.00,52.25,-1.93,2025-02-20\n",
      "KYE,294.00,294.00,297.00,280.00,342.00,0.68,2025-02-20\n",
      "LALIN,5.45,5.40,5.50,5.30,8.00,0.0,2025-02-20\n",
      "LANNA,16.60,16.50,16.80,13.60,17.50,-0.6,2025-02-20\n",
      "LH,4.54,4.52,4.66,4.18,7.75,-3.4,2025-02-20\n",
      "LHFG,0.76,0.76,0.78,0.71,1.04,-2.56,2025-02-20\n",
      "LHK,3.36,3.34,3.40,3.30,4.20,-0.59,2025-02-20\n",
      "LIT,0.51,0.51,0.53,0.47,1.55,0.0,2025-02-20\n",
      "LPH,4.06,4.02,4.06,3.98,4.90,1.0,2025-02-20\n",
      "LPN,2.16,2.14,2.18,2.06,3.78,0.0,2025-02-20\n",
      "M,19.60,19.10,19.70,16.70,39.50,1.55,2025-02-20\n",
      "MAJOR,13.10,12.90,13.30,11.70,16.00,-1.5,2025-02-20\n",
      "MBAX,1.88,1.87,1.89,1.72,3.34,0.0,2025-02-20\n",
      "MC,11.20,11.00,11.30,9.65,14.90,1.82,2025-02-20\n",
      "MCS,6.80,6.70,7.00,5.80,8.20,-1.45,2025-02-20\n",
      "MEGA,32.25,31.75,33.00,29.75,43.75,0.78,2025-02-20\n",
      "MINT,28.25,27.50,28.50,22.90,34.00,0.0,2025-02-20\n",
      "MST,8.70,8.60,8.75,8.60,10.70,0.58,2025-02-20\n",
      "MTC,47.25,46.75,48.50,37.50,54.00,-2.07,2025-02-20\n",
      "NER,4.86,4.78,4.96,4.48,6.45,-3.76,2025-02-20\n",
      "NOBLE,2.18,2.14,2.18,1.99,3.82,0.0,2025-02-20\n",
      "ONEE,3.24,3.20,3.28,3.02,5.35,-1.22,2025-02-20\n",
      "OR,12.30,12.30,12.60,10.70,19.00,-1.6,2025-02-20\n",
      "ORI,3.14,3.14,3.30,2.84,8.10,-3.68,2025-02-20\n",
      "OSP,14.90,14.60,15.30,14.40,25.00,-3.25,2025-02-20\n",
      "PAP,1.65,1.65,1.69,1.46,2.96,0.0,2025-02-20\n",
      "PCSGH,3.66,3.54,3.86,3.26,5.30,-4.19,2025-02-20\n",
      "PDG,2.60,2.54,2.60,2.30,2.82,8.33,2025-02-20\n",
      "PLANB,7.10,7.00,7.20,6.40,9.20,0.71,2025-02-20\n",
      "POPF,5.80,5.80,5.90,5.35,6.70,-1.69,2025-02-20\n",
      "PREB,4.10,4.06,4.16,4.00,6.45,-0.49,2025-02-20\n",
      "PRM,7.55,7.40,7.60,6.15,9.30,1.34,2025-02-20\n",
      "PSH,5.95,5.80,6.00,5.55,12.60,0.0,2025-02-20\n",
      "PSL,6.55,6.45,6.70,5.60,11.20,2.34,2025-02-20\n",
      "PTG,7.70,7.50,7.70,6.80,10.70,-0.65,2025-02-20\n",
      "PTL,10.50,10.30,10.80,9.15,14.40,-0.94,2025-02-20\n",
      "PTT,31.50,31.00,31.75,30.00,36.25,0.0,2025-02-20\n",
      "PTTEP,125.50,125.00,127.00,116.00,164.50,-1.95,2025-02-20\n",
      "PTTGC,19.20,19.00,20.00,18.60,41.25,-1.03,2025-02-20\n",
      "QH,1.64,1.62,1.66,1.57,2.30,-0.61,2025-02-20\n",
      "RATCH,27.75,27.75,28.75,25.25,34.25,-3.48,2025-02-20\n",
      "RBF,4.96,4.86,5.05,4.62,12.40,0.0,2025-02-20\n",
      "RCL,25.25,25.00,25.75,16.20,31.75,-0.98,2025-02-20\n",
      "RJH,18.50,18.10,18.60,16.80,26.50,-0.54,2025-02-20\n",
      "ROJNA,5.90,5.85,6.10,5.05,8.05,-1.67,2025-02-20\n",
      "RS,0.84,0.84,0.91,0.73,7.35,-2.33,2025-02-20\n",
      "S11,2.50,2.40,2.60,1.68,3.64,0.0,2025-02-20\n",
      "SABUY,0.46,0.45,0.49,0.38,5.50,-4.17,2025-02-20\n",
      "SAPPE,52.50,52.50,55.00,48.50,107.50,-3.67,2025-02-20\n",
      "SAT,12.20,11.90,12.50,10.00,18.90,11.93,2025-02-20\n",
      "SAWAD,39.00,38.75,40.00,27.25,45.50,-2.5,2025-02-20\n",
      "SC,2.60,2.56,2.64,2.30,4.00,-0.76,2025-02-20\n",
      "SCB,127.50,126.00,128.00,100.00,128.00,0.39,2025-02-20\n",
      "SCC,143.00,143.00,149.00,142.50,275.00,-2.72,2025-02-20\n",
      "SCCC,160.00,159.50,161.50,127.50,177.50,-0.93,2025-02-20\n",
      "SCGP,14.50,14.50,15.40,14.80,35.25,-6.45,2025-02-20\n",
      "SENA,2.22,2.18,2.22,2.08,3.02,0.91,2025-02-20\n",
      "SGP,7.00,6.90,7.20,6.55,8.45,-2.78,2025-02-20\n",
      "SINGER,6.00,5.90,6.25,5.60,12.70,-2.44,2025-02-20\n",
      "SIRI,1.66,1.65,1.70,1.51,1.94,-2.35,2025-02-20\n",
      "SIS,25.25,25.25,25.75,20.80,31.25,-0.98,2025-02-20\n",
      "SJWD,7.40,7.25,7.60,7.20,16.70,-1.33,2025-02-20\n",
      "SKN,5.50,5.40,5.55,4.04,6.40,0.92,2025-02-20\n",
      "SKR,8.05,8.05,8.25,8.05,10.70,-3.01,2025-02-20\n",
      "SMPC,9.30,9.25,9.30,6.45,10.10,0.0,2025-02-20\n",
      "SNC,5.35,5.20,5.35,4.72,8.00,0.94,2025-02-20\n",
      "SPALI,15.90,15.70,16.30,14.80,21.60,-2.45,2025-02-20\n",
      "SPC,58.50,58.50,59.00,57.00,63.75,-1.27,2025-02-20\n",
      "SPCG,7.95,7.90,7.95,7.50,12.70,0.63,2025-02-20\n",
      "SPRC,5.45,5.35,5.65,4.92,9.40,1.87,2025-02-20\n",
      "SPRIME,4.20,4.18,4.20,3.66,4.76,0.48,2025-02-20\n",
      "SSP,5.30,5.15,5.30,4.96,8.20,1.92,2025-02-20\n",
      "STA,16.70,16.50,17.00,14.20,25.75,1.21,2025-02-20\n",
      "STANLY,219.00,218.00,219.00,199.50,233.00,0.46,2025-02-20\n",
      "STGT,7.95,7.90,8.20,7.05,13.30,-1.24,2025-02-20\n",
      "SUPER,0.18,0.18,0.19,0.17,0.41,0.0,2025-02-20\n",
      "SUPEREIF,6.35,6.30,6.40,5.60,7.05,0.79,2025-02-20\n",
      "SVI,7.20,7.10,7.25,5.95,9.40,0.7,2025-02-20\n",
      "SYNEX,10.50,10.30,10.80,9.70,16.70,2.94,2025-02-20\n",
      "TASCO,16.90,16.90,17.40,15.40,20.00,-2.31,2025-02-20\n",
      "TCAP,50.75,50.00,50.75,43.25,53.50,0.5,2025-02-20\n",
      "TFFIF,6.40,6.35,6.45,6.00,7.20,-0.78,2025-02-20\n",
      "TFG,3.52,3.44,3.56,3.02,4.84,1.15,2025-02-20\n",
      "THANI,1.55,1.50,1.63,1.15,2.50,-1.9,2025-02-20\n",
      "THG,13.60,13.30,14.10,12.40,47.00,-2.86,2025-02-20\n",
      "TIDLOR,18.40,18.00,18.50,12.50,22.56,1.1,2025-02-20\n",
      "TIPH,22.50,22.10,22.60,19.90,32.25,1.35,2025-02-20\n",
      "TIPCO,9.95,9.95,10.00,9.45,10.60,-0.5,2025-02-20\n",
      "TISCO,99.25,98.75,99.50,90.00,101.50,0.0,2025-02-20\n",
      "TK,3.72,3.68,3.72,3.44,5.60,0.54,2025-02-20\n",
      "TKN,9.05,8.95,9.25,7.70,12.30,0.56,2025-02-20\n",
      "TKS,5.30,5.20,5.40,4.94,9.00,-0.93,2025-02-20\n",
      "TMT,3.00,2.98,3.04,2.94,6.05,-1.32,2025-02-20\n",
      "TMW,56.75,56.75,58.25,44.75,66.75,-1.73,2025-02-20\n",
      "TOA,12.20,12.00,12.70,11.60,26.00,-3.17,2025-02-20\n",
      "TOP,26.25,25.50,26.75,23.10,60.75,-1.87,2025-02-20\n",
      "TPIPL,0.96,0.95,0.97,0.92,1.45,0.0,2025-02-20\n",
      "TPIPP,2.90,2.88,2.92,2.70,3.42,0.0,2025-02-20\n",
      "TQM,17.80,17.40,17.80,16.00,33.25,0.56,2025-02-20\n",
      "TRUE,12.80,12.70,13.20,6.45,13.30,-3.03,2025-02-20\n",
      "TSE,0.68,0.67,0.70,0.62,1.88,-2.86,2025-02-20\n",
      "TSTH,0.54,0.53,0.55,0.47,0.90,0.0,2025-02-20\n",
      "TTA,4.70,4.60,4.78,3.96,8.50,3.07,2025-02-20\n",
      "TTB,1.98,1.96,2.00,1.59,2.06,-1.98,2025-02-20\n",
      "TTLPF,13.90,13.90,14.00,13.20,20.30,0.0,2025-02-20\n",
      "TTW,9.05,9.00,9.10,8.50,9.90,0.0,2025-02-20\n",
      "TU,11.70,11.60,12.00,10.70,15.90,-2.5,2025-02-20\n",
      "TVO,22.20,21.90,22.30,18.60,25.25,0.91,2025-02-20\n",
      "TYCN,-,0.00,0.00,1.80,2.78,0.0,2025-02-20\n",
      "UTP,8.20,8.20,8.50,7.30,12.00,0.61,2025-02-20\n",
      "VGI,3.16,3.12,3.44,1.20,3.68,-2.47,2025-02-20\n",
      "VIBHA,1.90,1.86,1.90,1.72,2.34,0.0,2025-02-20\n",
      "VNG,2.78,2.76,2.82,2.76,3.92,-0.71,2025-02-20\n",
      "WHA,4.60,4.54,4.64,4.38,6.20,-1.71,2025-02-20\n",
      "WHAIR,5.85,5.80,6.35,5.20,6.75,-7.87,2025-02-20\n",
      "WHART,10.20,10.10,10.30,7.65,10.80,0.0,2025-02-20\n",
      "WHAUP,3.60,3.56,3.66,3.16,5.50,0.0,2025-02-20\n",
      "WICE,3.26,3.24,3.36,3.10,7.55,-1.21,2025-02-20\n",
      "WORK,6.10,6.00,6.15,5.00,11.10,0.0,2025-02-20\n"
     ]
    }
   ],
   "source": [
    "df = pd.read_csv(input_file, header=None)\n",
    "out_df = get_stock_data(df)"
   ]
  },
  {
   "cell_type": "code",
   "execution_count": 13,
   "id": "d31edacf",
   "metadata": {},
   "outputs": [
    {
     "name": "stdout",
     "output_type": "stream",
     "text": [
      "End at:  08:47 PM\n"
     ]
    }
   ],
   "source": [
    "end_time = strftime(\"%I:%M %p\")\n",
    "print('End at: ', end_time)"
   ]
  },
  {
   "cell_type": "code",
   "execution_count": 14,
   "id": "b89c4ae7",
   "metadata": {},
   "outputs": [
    {
     "data": {
      "text/html": [
       "<div>\n",
       "<style scoped>\n",
       "    .dataframe tbody tr th:only-of-type {\n",
       "        vertical-align: middle;\n",
       "    }\n",
       "\n",
       "    .dataframe tbody tr th {\n",
       "        vertical-align: top;\n",
       "    }\n",
       "\n",
       "    .dataframe thead th {\n",
       "        text-align: right;\n",
       "    }\n",
       "</style>\n",
       "<table border=\"1\" class=\"dataframe\">\n",
       "  <thead>\n",
       "    <tr style=\"text-align: right;\">\n",
       "      <th></th>\n",
       "      <th>name</th>\n",
       "      <th>price</th>\n",
       "      <th>today_low</th>\n",
       "      <th>today_high</th>\n",
       "      <th>year_low</th>\n",
       "      <th>year_high</th>\n",
       "      <th>percent</th>\n",
       "      <th>updated_at</th>\n",
       "    </tr>\n",
       "  </thead>\n",
       "  <tbody>\n",
       "    <tr>\n",
       "      <th>210</th>\n",
       "      <td>TYCN</td>\n",
       "      <td>-</td>\n",
       "      <td>0.00</td>\n",
       "      <td>0.00</td>\n",
       "      <td>1.80</td>\n",
       "      <td>2.78</td>\n",
       "      <td>0.0</td>\n",
       "      <td>2025-02-20</td>\n",
       "    </tr>\n",
       "  </tbody>\n",
       "</table>\n",
       "</div>"
      ],
      "text/plain": [
       "     name price today_low today_high year_low year_high  percent  updated_at\n",
       "210  TYCN     -      0.00       0.00     1.80      2.78      0.0  2025-02-20"
      ]
     },
     "execution_count": 14,
     "metadata": {},
     "output_type": "execute_result"
    }
   ],
   "source": [
    "out_df.query('price == \"-\"')"
   ]
  },
  {
   "cell_type": "code",
   "execution_count": 15,
   "id": "784f1b6d",
   "metadata": {},
   "outputs": [
    {
     "data": {
      "text/plain": [
       "(221, 8)"
      ]
     },
     "execution_count": 15,
     "metadata": {},
     "output_type": "execute_result"
    }
   ],
   "source": [
    "out_df.shape"
   ]
  },
  {
   "cell_type": "code",
   "execution_count": 16,
   "id": "6326d0c5",
   "metadata": {},
   "outputs": [],
   "source": [
    "out_df = out_df[out_df['name'] != 'BCT']"
   ]
  },
  {
   "cell_type": "code",
   "execution_count": 17,
   "id": "2a293f55-436e-45d1-9966-50d12c26e659",
   "metadata": {},
   "outputs": [],
   "source": [
    "out_df = out_df[out_df['name'] != 'LPF']"
   ]
  },
  {
   "cell_type": "code",
   "execution_count": 18,
   "id": "cc4b3547-5ea9-4ac6-bd11-896e67d464ed",
   "metadata": {},
   "outputs": [],
   "source": [
    "out_df = out_df[out_df['name'] != 'TYCN']"
   ]
  },
  {
   "cell_type": "code",
   "execution_count": 19,
   "id": "865622c2-dad3-4ba8-b35a-898461fe5e9a",
   "metadata": {},
   "outputs": [],
   "source": [
    "out_df = out_df[out_df['name'] != 'GRAMMY']"
   ]
  },
  {
   "cell_type": "code",
   "execution_count": 20,
   "id": "cb2d763d-5b75-4ace-b87a-f165c8e6cb91",
   "metadata": {},
   "outputs": [],
   "source": [
    "out_df = out_df[out_df['name'] != 'MST']"
   ]
  },
  {
   "cell_type": "code",
   "execution_count": 21,
   "id": "b2771ed1",
   "metadata": {},
   "outputs": [
    {
     "data": {
      "text/plain": [
       "(217, 8)"
      ]
     },
     "execution_count": 21,
     "metadata": {},
     "output_type": "execute_result"
    }
   ],
   "source": [
    "out_df.shape"
   ]
  },
  {
   "cell_type": "code",
   "execution_count": 22,
   "id": "eb2ffec6",
   "metadata": {},
   "outputs": [],
   "source": [
    "out_df['price'] = out_df['price'].astype('float')\n",
    "out_df['today_low'] = out_df['today_low'].astype('float')\n",
    "out_df['today_high'] = out_df['today_high'].astype('float')\n",
    "out_df['year_low'] = out_df['year_low'].astype('float')\n",
    "out_df['year_high'] = out_df['year_high'].astype('float')\n",
    "out_df['percent'] = out_df['percent'].astype('float')"
   ]
  },
  {
   "cell_type": "code",
   "execution_count": 23,
   "id": "f4fb1a3c",
   "metadata": {},
   "outputs": [],
   "source": [
    "sorted_out_df = out_df.sort_values('percent')"
   ]
  },
  {
   "cell_type": "code",
   "execution_count": 24,
   "id": "032f0eea",
   "metadata": {},
   "outputs": [
    {
     "data": {
      "text/html": [
       "<div>\n",
       "<style scoped>\n",
       "    .dataframe tbody tr th:only-of-type {\n",
       "        vertical-align: middle;\n",
       "    }\n",
       "\n",
       "    .dataframe tbody tr th {\n",
       "        vertical-align: top;\n",
       "    }\n",
       "\n",
       "    .dataframe thead th {\n",
       "        text-align: right;\n",
       "    }\n",
       "</style>\n",
       "<table border=\"1\" class=\"dataframe\">\n",
       "  <thead>\n",
       "    <tr style=\"text-align: right;\">\n",
       "      <th></th>\n",
       "      <th>name</th>\n",
       "      <th>price</th>\n",
       "      <th>today_low</th>\n",
       "      <th>today_high</th>\n",
       "      <th>year_low</th>\n",
       "      <th>year_high</th>\n",
       "      <th>percent</th>\n",
       "      <th>updated_at</th>\n",
       "    </tr>\n",
       "  </thead>\n",
       "  <tbody>\n",
       "    <tr>\n",
       "      <th>157</th>\n",
       "      <td>SCGP</td>\n",
       "      <td>14.5</td>\n",
       "      <td>14.5</td>\n",
       "      <td>15.40</td>\n",
       "      <td>14.80</td>\n",
       "      <td>35.25</td>\n",
       "      <td>-6.45</td>\n",
       "      <td>2025-02-20</td>\n",
       "    </tr>\n",
       "    <tr>\n",
       "      <th>66</th>\n",
       "      <td>FPT</td>\n",
       "      <td>7.0</td>\n",
       "      <td>7.0</td>\n",
       "      <td>7.15</td>\n",
       "      <td>7.05</td>\n",
       "      <td>15.40</td>\n",
       "      <td>-2.78</td>\n",
       "      <td>2025-02-20</td>\n",
       "    </tr>\n",
       "    <tr>\n",
       "      <th>44</th>\n",
       "      <td>CK</td>\n",
       "      <td>15.0</td>\n",
       "      <td>14.8</td>\n",
       "      <td>15.40</td>\n",
       "      <td>14.90</td>\n",
       "      <td>24.60</td>\n",
       "      <td>-1.32</td>\n",
       "      <td>2025-02-20</td>\n",
       "    </tr>\n",
       "  </tbody>\n",
       "</table>\n",
       "</div>"
      ],
      "text/plain": [
       "     name  price  today_low  today_high  year_low  year_high  percent  \\\n",
       "157  SCGP   14.5       14.5       15.40     14.80      35.25    -6.45   \n",
       "66    FPT    7.0        7.0        7.15      7.05      15.40    -2.78   \n",
       "44     CK   15.0       14.8       15.40     14.90      24.60    -1.32   \n",
       "\n",
       "     updated_at  \n",
       "157  2025-02-20  \n",
       "66   2025-02-20  \n",
       "44   2025-02-20  "
      ]
     },
     "execution_count": 24,
     "metadata": {},
     "output_type": "execute_result"
    }
   ],
   "source": [
    "sorted_out_df.query('today_low < year_low')"
   ]
  },
  {
   "cell_type": "code",
   "execution_count": 25,
   "id": "f62f475b-0a76-4b26-a4f9-5354c12435b2",
   "metadata": {},
   "outputs": [
    {
     "data": {
      "text/html": [
       "<div>\n",
       "<style scoped>\n",
       "    .dataframe tbody tr th:only-of-type {\n",
       "        vertical-align: middle;\n",
       "    }\n",
       "\n",
       "    .dataframe tbody tr th {\n",
       "        vertical-align: top;\n",
       "    }\n",
       "\n",
       "    .dataframe thead th {\n",
       "        text-align: right;\n",
       "    }\n",
       "</style>\n",
       "<table border=\"1\" class=\"dataframe\">\n",
       "  <thead>\n",
       "    <tr style=\"text-align: right;\">\n",
       "      <th></th>\n",
       "      <th>name</th>\n",
       "      <th>price</th>\n",
       "      <th>today_low</th>\n",
       "      <th>today_high</th>\n",
       "      <th>year_low</th>\n",
       "      <th>year_high</th>\n",
       "      <th>percent</th>\n",
       "      <th>updated_at</th>\n",
       "    </tr>\n",
       "  </thead>\n",
       "  <tbody>\n",
       "    <tr>\n",
       "      <th>116</th>\n",
       "      <td>MCS</td>\n",
       "      <td>6.8</td>\n",
       "      <td>6.7</td>\n",
       "      <td>7.0</td>\n",
       "      <td>5.8</td>\n",
       "      <td>8.2</td>\n",
       "      <td>-1.45</td>\n",
       "      <td>2025-02-20</td>\n",
       "    </tr>\n",
       "  </tbody>\n",
       "</table>\n",
       "</div>"
      ],
      "text/plain": [
       "    name  price  today_low  today_high  year_low  year_high  percent  \\\n",
       "116  MCS    6.8        6.7         7.0       5.8        8.2    -1.45   \n",
       "\n",
       "     updated_at  \n",
       "116  2025-02-20  "
      ]
     },
     "execution_count": 25,
     "metadata": {},
     "output_type": "execute_result"
    }
   ],
   "source": [
    "sorted_out_df.query('name == \"MCS\"')"
   ]
  },
  {
   "cell_type": "code",
   "execution_count": 26,
   "id": "7af7c28e",
   "metadata": {},
   "outputs": [
    {
     "data": {
      "text/html": [
       "<div>\n",
       "<style scoped>\n",
       "    .dataframe tbody tr th:only-of-type {\n",
       "        vertical-align: middle;\n",
       "    }\n",
       "\n",
       "    .dataframe tbody tr th {\n",
       "        vertical-align: top;\n",
       "    }\n",
       "\n",
       "    .dataframe thead th {\n",
       "        text-align: right;\n",
       "    }\n",
       "</style>\n",
       "<table border=\"1\" class=\"dataframe\">\n",
       "  <thead>\n",
       "    <tr style=\"text-align: right;\">\n",
       "      <th></th>\n",
       "      <th>name</th>\n",
       "      <th>price</th>\n",
       "      <th>today_low</th>\n",
       "      <th>today_high</th>\n",
       "      <th>year_low</th>\n",
       "      <th>year_high</th>\n",
       "      <th>percent</th>\n",
       "      <th>updated_at</th>\n",
       "    </tr>\n",
       "  </thead>\n",
       "  <tbody>\n",
       "    <tr>\n",
       "      <th>44</th>\n",
       "      <td>CK</td>\n",
       "      <td>15.0</td>\n",
       "      <td>14.8</td>\n",
       "      <td>15.40</td>\n",
       "      <td>14.90</td>\n",
       "      <td>24.60</td>\n",
       "      <td>-1.32</td>\n",
       "      <td>2025-02-20</td>\n",
       "    </tr>\n",
       "    <tr>\n",
       "      <th>66</th>\n",
       "      <td>FPT</td>\n",
       "      <td>7.0</td>\n",
       "      <td>7.0</td>\n",
       "      <td>7.15</td>\n",
       "      <td>7.05</td>\n",
       "      <td>15.40</td>\n",
       "      <td>-2.78</td>\n",
       "      <td>2025-02-20</td>\n",
       "    </tr>\n",
       "    <tr>\n",
       "      <th>157</th>\n",
       "      <td>SCGP</td>\n",
       "      <td>14.5</td>\n",
       "      <td>14.5</td>\n",
       "      <td>15.40</td>\n",
       "      <td>14.80</td>\n",
       "      <td>35.25</td>\n",
       "      <td>-6.45</td>\n",
       "      <td>2025-02-20</td>\n",
       "    </tr>\n",
       "  </tbody>\n",
       "</table>\n",
       "</div>"
      ],
      "text/plain": [
       "     name  price  today_low  today_high  year_low  year_high  percent  \\\n",
       "44     CK   15.0       14.8       15.40     14.90      24.60    -1.32   \n",
       "66    FPT    7.0        7.0        7.15      7.05      15.40    -2.78   \n",
       "157  SCGP   14.5       14.5       15.40     14.80      35.25    -6.45   \n",
       "\n",
       "     updated_at  \n",
       "44   2025-02-20  \n",
       "66   2025-02-20  \n",
       "157  2025-02-20  "
      ]
     },
     "execution_count": 26,
     "metadata": {},
     "output_type": "execute_result"
    }
   ],
   "source": [
    "out_df.query('today_low < year_low')"
   ]
  },
  {
   "cell_type": "code",
   "execution_count": 27,
   "id": "8e04b03d",
   "metadata": {},
   "outputs": [
    {
     "data": {
      "text/html": [
       "<div>\n",
       "<style scoped>\n",
       "    .dataframe tbody tr th:only-of-type {\n",
       "        vertical-align: middle;\n",
       "    }\n",
       "\n",
       "    .dataframe tbody tr th {\n",
       "        vertical-align: top;\n",
       "    }\n",
       "\n",
       "    .dataframe thead th {\n",
       "        text-align: right;\n",
       "    }\n",
       "</style>\n",
       "<table border=\"1\" class=\"dataframe\">\n",
       "  <thead>\n",
       "    <tr style=\"text-align: right;\">\n",
       "      <th></th>\n",
       "      <th>name</th>\n",
       "      <th>price</th>\n",
       "      <th>today_low</th>\n",
       "      <th>today_high</th>\n",
       "      <th>year_low</th>\n",
       "      <th>year_high</th>\n",
       "      <th>percent</th>\n",
       "      <th>updated_at</th>\n",
       "    </tr>\n",
       "  </thead>\n",
       "  <tbody>\n",
       "    <tr>\n",
       "      <th>95</th>\n",
       "      <td>KBANK</td>\n",
       "      <td>164.00</td>\n",
       "      <td>161.00</td>\n",
       "      <td>164.50</td>\n",
       "      <td>119.50</td>\n",
       "      <td>163.50</td>\n",
       "      <td>0.31</td>\n",
       "      <td>2025-02-20</td>\n",
       "    </tr>\n",
       "    <tr>\n",
       "      <th>21</th>\n",
       "      <td>BBL</td>\n",
       "      <td>161.50</td>\n",
       "      <td>159.00</td>\n",
       "      <td>161.50</td>\n",
       "      <td>129.00</td>\n",
       "      <td>161.00</td>\n",
       "      <td>0.62</td>\n",
       "      <td>2025-02-20</td>\n",
       "    </tr>\n",
       "    <tr>\n",
       "      <th>101</th>\n",
       "      <td>KTB</td>\n",
       "      <td>24.40</td>\n",
       "      <td>24.10</td>\n",
       "      <td>24.70</td>\n",
       "      <td>15.70</td>\n",
       "      <td>24.10</td>\n",
       "      <td>1.67</td>\n",
       "      <td>2025-02-20</td>\n",
       "    </tr>\n",
       "    <tr>\n",
       "      <th>99</th>\n",
       "      <td>KKP</td>\n",
       "      <td>55.50</td>\n",
       "      <td>53.75</td>\n",
       "      <td>56.25</td>\n",
       "      <td>37.00</td>\n",
       "      <td>55.50</td>\n",
       "      <td>3.74</td>\n",
       "      <td>2025-02-20</td>\n",
       "    </tr>\n",
       "    <tr>\n",
       "      <th>4</th>\n",
       "      <td>AIE</td>\n",
       "      <td>1.58</td>\n",
       "      <td>1.40</td>\n",
       "      <td>1.65</td>\n",
       "      <td>0.72</td>\n",
       "      <td>1.51</td>\n",
       "      <td>23.44</td>\n",
       "      <td>2025-02-20</td>\n",
       "    </tr>\n",
       "  </tbody>\n",
       "</table>\n",
       "</div>"
      ],
      "text/plain": [
       "      name   price  today_low  today_high  year_low  year_high  percent  \\\n",
       "95   KBANK  164.00     161.00      164.50    119.50     163.50     0.31   \n",
       "21     BBL  161.50     159.00      161.50    129.00     161.00     0.62   \n",
       "101    KTB   24.40      24.10       24.70     15.70      24.10     1.67   \n",
       "99     KKP   55.50      53.75       56.25     37.00      55.50     3.74   \n",
       "4      AIE    1.58       1.40        1.65      0.72       1.51    23.44   \n",
       "\n",
       "     updated_at  \n",
       "95   2025-02-20  \n",
       "21   2025-02-20  \n",
       "101  2025-02-20  \n",
       "99   2025-02-20  \n",
       "4    2025-02-20  "
      ]
     },
     "execution_count": 27,
     "metadata": {},
     "output_type": "execute_result"
    }
   ],
   "source": [
    "sorted_out_df.query('today_high > year_high')"
   ]
  },
  {
   "cell_type": "code",
   "execution_count": 28,
   "id": "290a9607",
   "metadata": {},
   "outputs": [
    {
     "data": {
      "text/html": [
       "<div>\n",
       "<style scoped>\n",
       "    .dataframe tbody tr th:only-of-type {\n",
       "        vertical-align: middle;\n",
       "    }\n",
       "\n",
       "    .dataframe tbody tr th {\n",
       "        vertical-align: top;\n",
       "    }\n",
       "\n",
       "    .dataframe thead th {\n",
       "        text-align: right;\n",
       "    }\n",
       "</style>\n",
       "<table border=\"1\" class=\"dataframe\">\n",
       "  <thead>\n",
       "    <tr style=\"text-align: right;\">\n",
       "      <th></th>\n",
       "      <th>name</th>\n",
       "      <th>price</th>\n",
       "      <th>today_low</th>\n",
       "      <th>today_high</th>\n",
       "      <th>year_low</th>\n",
       "      <th>year_high</th>\n",
       "      <th>percent</th>\n",
       "      <th>updated_at</th>\n",
       "    </tr>\n",
       "  </thead>\n",
       "  <tbody>\n",
       "    <tr>\n",
       "      <th>4</th>\n",
       "      <td>AIE</td>\n",
       "      <td>1.58</td>\n",
       "      <td>1.40</td>\n",
       "      <td>1.65</td>\n",
       "      <td>0.72</td>\n",
       "      <td>1.51</td>\n",
       "      <td>23.44</td>\n",
       "      <td>2025-02-20</td>\n",
       "    </tr>\n",
       "    <tr>\n",
       "      <th>21</th>\n",
       "      <td>BBL</td>\n",
       "      <td>161.50</td>\n",
       "      <td>159.00</td>\n",
       "      <td>161.50</td>\n",
       "      <td>129.00</td>\n",
       "      <td>161.00</td>\n",
       "      <td>0.62</td>\n",
       "      <td>2025-02-20</td>\n",
       "    </tr>\n",
       "    <tr>\n",
       "      <th>95</th>\n",
       "      <td>KBANK</td>\n",
       "      <td>164.00</td>\n",
       "      <td>161.00</td>\n",
       "      <td>164.50</td>\n",
       "      <td>119.50</td>\n",
       "      <td>163.50</td>\n",
       "      <td>0.31</td>\n",
       "      <td>2025-02-20</td>\n",
       "    </tr>\n",
       "    <tr>\n",
       "      <th>99</th>\n",
       "      <td>KKP</td>\n",
       "      <td>55.50</td>\n",
       "      <td>53.75</td>\n",
       "      <td>56.25</td>\n",
       "      <td>37.00</td>\n",
       "      <td>55.50</td>\n",
       "      <td>3.74</td>\n",
       "      <td>2025-02-20</td>\n",
       "    </tr>\n",
       "    <tr>\n",
       "      <th>101</th>\n",
       "      <td>KTB</td>\n",
       "      <td>24.40</td>\n",
       "      <td>24.10</td>\n",
       "      <td>24.70</td>\n",
       "      <td>15.70</td>\n",
       "      <td>24.10</td>\n",
       "      <td>1.67</td>\n",
       "      <td>2025-02-20</td>\n",
       "    </tr>\n",
       "  </tbody>\n",
       "</table>\n",
       "</div>"
      ],
      "text/plain": [
       "      name   price  today_low  today_high  year_low  year_high  percent  \\\n",
       "4      AIE    1.58       1.40        1.65      0.72       1.51    23.44   \n",
       "21     BBL  161.50     159.00      161.50    129.00     161.00     0.62   \n",
       "95   KBANK  164.00     161.00      164.50    119.50     163.50     0.31   \n",
       "99     KKP   55.50      53.75       56.25     37.00      55.50     3.74   \n",
       "101    KTB   24.40      24.10       24.70     15.70      24.10     1.67   \n",
       "\n",
       "     updated_at  \n",
       "4    2025-02-20  \n",
       "21   2025-02-20  \n",
       "95   2025-02-20  \n",
       "99   2025-02-20  \n",
       "101  2025-02-20  "
      ]
     },
     "execution_count": 28,
     "metadata": {},
     "output_type": "execute_result"
    }
   ],
   "source": [
    "out_df.query('today_high > year_high')"
   ]
  },
  {
   "cell_type": "code",
   "execution_count": 29,
   "id": "5fbeba56-2a63-4650-898b-6447a81f95f5",
   "metadata": {},
   "outputs": [],
   "source": [
    "file_name = \"Price-Hilo.csv\"\n",
    "output_file = os.path.join(dat_path, file_name)\n",
    "god_file = os.path.join(god_path, file_name)\n",
    "icd_file = os.path.join(icd_path, file_name)\n",
    "osd_file = os.path.join(osd_path, file_name)"
   ]
  },
  {
   "cell_type": "code",
   "execution_count": 30,
   "id": "da6183ac-2f05-4f67-b200-fe83634d29dc",
   "metadata": {},
   "outputs": [
    {
     "name": "stdout",
     "output_type": "stream",
     "text": [
      "output_file : C:\\Users\\PC1\\OneDrive\\A5\\Data\\Price-Hilo.csv\n",
      "icd_file : C:\\Users\\PC1\\iCloudDrive\\Data\\Price-Hilo.csv\n",
      "god_file : C:\\Users\\PC1\\OneDrive\\Imports\\santisoontarinka@gmail.com - Google Drive\\Data\\Price-Hilo.csv\n",
      "osd_file : C:\\Users\\PC1\\OneDrive\\Documents\\obsidian-git-sync\\Data\\Price-Hilo.csv\n"
     ]
    }
   ],
   "source": [
    "print(f\"output_file : {output_file}\") \n",
    "print(f\"icd_file : {icd_file}\") \n",
    "print(f\"god_file : {god_file}\") \n",
    "print(f\"osd_file : {osd_file}\") "
   ]
  },
  {
   "cell_type": "code",
   "execution_count": 31,
   "id": "8017b53b",
   "metadata": {},
   "outputs": [],
   "source": [
    "out_df.to_csv(output_file, index=False)  \n",
    "out_df.to_csv(god_file, index=False) \n",
    "out_df.to_csv(icd_file, index=False)  \n",
    "out_df.to_csv(osd_file, index=False) "
   ]
  },
  {
   "cell_type": "code",
   "execution_count": 32,
   "id": "80692fae-6308-4695-bcac-5124ce4d44e3",
   "metadata": {},
   "outputs": [
    {
     "name": "stdout",
     "output_type": "stream",
     "text": [
      "2025-02-20 20:47:00\n"
     ]
    }
   ],
   "source": [
    "# Get the current time\n",
    "current_time = datetime.now()\n",
    "# Format the time to remove milliseconds\n",
    "formatted_time = current_time.strftime(\"%Y-%m-%d %H:%M:%S\")\n",
    "print(formatted_time)"
   ]
  },
  {
   "cell_type": "code",
   "execution_count": null,
   "id": "65000f4d-e754-421d-a607-19d51228cc7f",
   "metadata": {},
   "outputs": [],
   "source": []
  }
 ],
 "metadata": {
  "kernelspec": {
   "display_name": "Python 3 (ipykernel)",
   "language": "python",
   "name": "python3"
  },
  "language_info": {
   "codemirror_mode": {
    "name": "ipython",
    "version": 3
   },
   "file_extension": ".py",
   "mimetype": "text/x-python",
   "name": "python",
   "nbconvert_exporter": "python",
   "pygments_lexer": "ipython3",
   "version": "3.12.3"
  }
 },
 "nbformat": 4,
 "nbformat_minor": 5
}
