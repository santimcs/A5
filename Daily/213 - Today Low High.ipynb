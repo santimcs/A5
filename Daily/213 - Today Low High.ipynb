{
 "cells": [
  {
   "cell_type": "markdown",
   "id": "930356c6",
   "metadata": {},
   "source": [
    "### Start and Run All"
   ]
  },
  {
   "cell_type": "code",
   "execution_count": 2,
   "id": "d7cfc693",
   "metadata": {},
   "outputs": [
    {
     "name": "stdout",
     "output_type": "stream",
     "text": [
      "2025-02-11 20:23:32\n"
     ]
    }
   ],
   "source": [
    "import os\n",
    "import pandas as pd\n",
    "from urllib import request\n",
    "from bs4 import BeautifulSoup\n",
    "# from datetime import date, timedelta\n",
    "from datetime import datetime\n",
    "from time import sleep, strftime\n",
    "\n",
    "# Get the current time\n",
    "current_time = datetime.now()\n",
    "# Format the time to remove milliseconds\n",
    "formatted_time = current_time.strftime(\"%Y-%m-%d %H:%M:%S\")\n",
    "print(formatted_time)"
   ]
  },
  {
   "cell_type": "code",
   "execution_count": 3,
   "id": "0cbdda38-ec42-4470-bede-c468ba46f8d8",
   "metadata": {},
   "outputs": [],
   "source": [
    "url = \"https://www.set.or.th/en/market/product/stock/quote/\"\n",
    "percent_span = '' "
   ]
  },
  {
   "cell_type": "code",
   "execution_count": 4,
   "id": "6e4b7508-0071-480d-99c8-a6c070027294",
   "metadata": {},
   "outputs": [],
   "source": [
    "# Get the user's home directory\n",
    "user_path = os.path.expanduser('~')\n",
    "# Get the current working directory\n",
    "current_path = os.getcwd()\n",
    "# Derive the base directory (base_dir) by removing the last folder ('Daily')\n",
    "base_path = os.path.dirname(current_path)\n",
    "#C:\\Users\\PC1\\OneDrive\\A5\\Data\n",
    "dat_path = os.path.join(base_path, \"Data\")\n",
    "#C:\\Users\\PC1\\OneDrive\\Imports\\santisoontarinka@gmail.com - Google Drive\\Data>\n",
    "god_path = os.path.join(user_path, \"OneDrive\",\"Imports\",\"santisoontarinka@gmail.com - Google Drive\",\"Data\")\n",
    "#C:\\Users\\PC1\\iCloudDrive\\data\n",
    "icd_path = os.path.join(user_path, \"iCloudDrive\", \"Data\")\n",
    "#C:\\Users\\PC1\\OneDrive\\Documents\\obsidian-git-sync\\Data\n",
    "osd_path = os.path.join(user_path, \"OneDrive\",\"Documents\",\"obsidian-git-sync\",\"Data\")"
   ]
  },
  {
   "cell_type": "code",
   "execution_count": 5,
   "id": "07defeb3-a742-4e64-8089-7e4fe5b8b93c",
   "metadata": {},
   "outputs": [
    {
     "name": "stdout",
     "output_type": "stream",
     "text": [
      "User path: C:\\Users\\PC1\n",
      "Current path: C:\\Users\\PC1\\OneDrive\\A5\\Daily\n",
      "Base path: C:\\Users\\PC1\\OneDrive\\A5\n",
      "Data path : C:\\Users\\PC1\\OneDrive\\A5\\Data\n",
      "Google Drive path : C:\\Users\\PC1\\OneDrive\\Imports\\santisoontarinka@gmail.com - Google Drive\\Data\n",
      "iCloudDrive path : C:\\Users\\PC1\\iCloudDrive\\Data\n",
      "Obsidian path : C:\\Users\\PC1\\OneDrive\\Documents\\obsidian-git-sync\\Data\n"
     ]
    }
   ],
   "source": [
    "print(\"User path:\", user_path)\n",
    "print(f\"Current path: {current_path}\")\n",
    "print(f\"Base path: {base_path}\")\n",
    "print(f\"Data path : {dat_path}\") \n",
    "print(f\"Google Drive path : {god_path}\")\n",
    "print(f\"iCloudDrive path : {icd_path}\") \n",
    "print(f\"Obsidian path : {osd_path}\") "
   ]
  },
  {
   "cell_type": "code",
   "execution_count": 6,
   "id": "08576879-dc60-431b-a31a-e1893e2d7922",
   "metadata": {},
   "outputs": [
    {
     "name": "stdout",
     "output_type": "stream",
     "text": [
      "Input file : C:\\Users\\PC1\\OneDrive\\A5\\Data\\name-ttl.csv\n"
     ]
    }
   ],
   "source": [
    "file_name = \"name-ttl.csv\"\n",
    "input_file = os.path.join(dat_path, file_name)\n",
    "print(f\"Input file : {input_file}\") "
   ]
  },
  {
   "cell_type": "code",
   "execution_count": 7,
   "id": "9b9668db-0773-4de5-9bd4-864c377dab80",
   "metadata": {},
   "outputs": [],
   "source": [
    "file_name = \"price-hilo.csv\"\n",
    "output_file = os.path.join(dat_path, file_name)\n",
    "god_file = os.path.join(god_path, file_name)\n",
    "icd_file = os.path.join(icd_path, file_name)\n",
    "osd_file = os.path.join(osd_path, file_name)"
   ]
  },
  {
   "cell_type": "code",
   "execution_count": 8,
   "id": "66c38ef5-8643-4ad3-81ff-9e2275d426d5",
   "metadata": {},
   "outputs": [
    {
     "name": "stdout",
     "output_type": "stream",
     "text": [
      "Output file : C:\\Users\\PC1\\OneDrive\\A5\\Data\\price-hilo.csv\n",
      "icd_file : C:\\Users\\PC1\\iCloudDrive\\Data\\price-hilo.csv\n",
      "god_file : C:\\Users\\PC1\\OneDrive\\Imports\\santisoontarinka@gmail.com - Google Drive\\Data\\price-hilo.csv\n",
      "osd_file : C:\\Users\\PC1\\OneDrive\\Documents\\obsidian-git-sync\\Data\\price-hilo.csv\n"
     ]
    }
   ],
   "source": [
    "print(f\"Output file : {output_file}\") \n",
    "print(f\"icd_file : {icd_file}\") \n",
    "print(f\"god_file : {god_file}\") \n",
    "print(f\"osd_file : {osd_file}\")"
   ]
  },
  {
   "cell_type": "code",
   "execution_count": 9,
   "id": "c1ec2693",
   "metadata": {},
   "outputs": [],
   "source": [
    "def cvt_str_to_flt(input_str):\n",
    "    # Check for the special pattern and return 0\n",
    "    if input_str == '(-)':\n",
    "        return 0\n",
    "    \n",
    "    # Remove parentheses and percent sign\n",
    "    cleaned_str = input_str.replace('(', '').replace(')', '').replace('%', '')\n",
    "\n",
    "    # Convert to float\n",
    "    try:\n",
    "        return float(cleaned_str)\n",
    "    except ValueError:\n",
    "        # Handle the case where the conversion fails\n",
    "        return None\n",
    " "
   ]
  },
  {
   "cell_type": "code",
   "execution_count": 10,
   "id": "334bed1f",
   "metadata": {},
   "outputs": [],
   "source": [
    "def get_stock_data(in_df):\n",
    "\n",
    "    in_df.columns = ['name']\n",
    "    \n",
    "    output_columns = ['name', 'price', 'today_low', 'today_high', 'year_low', 'year_high', 'percent', 'updated_at']\n",
    "    # Initialize an empty DataFrame with specified columns\n",
    "    out_df = pd.DataFrame(columns=output_columns)\n",
    "    \n",
    "    for index, row in in_df.iterrows():\n",
    "        name = str(row['name']).upper()\n",
    "        response = request.urlopen(url + name + '/price')\n",
    "        html_page = BeautifulSoup(response, 'html.parser')\n",
    "        \n",
    "  #      price = html_page.find('div', class_='value text-white mb-0 me-2 lh-1 stock-info').text.strip()        \n",
    "  #      if (price == '-'):\n",
    "  #          price = '0.00'        \n",
    "\n",
    "        price_div = html_page.find('div', class_='value text-white mb-0 me-2 lh-1 stock-info')\n",
    "        if price_div:\n",
    "            price = price_div.text.strip()\n",
    "        else:\n",
    "            print(f\"Price div not found for {name}\")\n",
    "            price = '0.00'     \n",
    "            \n",
    "        # Try to find the <h3> tag with the class 'theme-success'\n",
    "        h3_tag = html_page.find('h3', class_='theme-success')\n",
    "        if h3_tag:\n",
    "        # Find all <span> tags within the found <h3> tag\n",
    "            span_tags = h3_tag.find_all('span')\n",
    "    \n",
    "            if len(span_tags) > 1:\n",
    "                # Extract the text from the second <span> tag\n",
    "                percent_span = span_tags[1].text\n",
    "                # print(percent_span)\n",
    "                \n",
    "        # Try to find the <h3> tag with the class 'theme-danger'\n",
    "        h3_tag = html_page.find('h3', class_='theme-danger')\n",
    "        if h3_tag:\n",
    "        # Find all <span> tags within the found <h3> tag\n",
    "            span_tags = h3_tag.find_all('span')\n",
    "    \n",
    "            if len(span_tags) > 1:\n",
    "                # Extract the text from the second <span> tag\n",
    "                percent_span = span_tags[1].text\n",
    "                # print(percent_span)    \n",
    "                \n",
    "        # Try to find the <h3> tag with the class 'theme-danger'\n",
    "        h3_tag = html_page.find('h3', class_='theme-normal')\n",
    "        if h3_tag:\n",
    "        # Find all <span> tags within the found <h3> tag\n",
    "            span_tags = h3_tag.find_all('span')\n",
    "    \n",
    "            if len(span_tags) > 1:\n",
    "                # Extract the text from the second <span> tag\n",
    "                percent_span = span_tags[1].text\n",
    "                # print(percent_span)   \n",
    "                \n",
    "        percent = cvt_str_to_flt(percent_span)\n",
    "                \n",
    "        values_low = html_page.find_all('span', class_='title-font-family fs-16px fw-bolder me-auto lh-1')\n",
    "        today_low = values_low[0].text\n",
    "        if (today_low == '-'):\n",
    "            today_low = '0.00'\n",
    "        \n",
    "        values_high = html_page.find_all('span', class_='title-font-family fs-16px fw-bolder lh-1')\n",
    "        today_high = values_high[0].text\n",
    "        if (today_high == '-'):\n",
    "            today_high = '0.00'         \n",
    "        \n",
    "        year_low = values_low[1].text        \n",
    "        year_high = values_high[1].text     \n",
    "        \n",
    "        # Find the div with the specific class, then find the span within it\n",
    "        div = html_page.find('div', class_='price-detail-date d-flex align-items-center text-nowrap fs-12px')\n",
    "        if div:\n",
    "            span = div.find('span')\n",
    "            if span:\n",
    "                text = span.get_text()\n",
    "#                 print(text)\n",
    "            else:\n",
    "                print(\"Span not found\")\n",
    "        else:\n",
    "            print(\"Div not found\")\n",
    "            \n",
    "        # Extract the date part from the string\n",
    "        # Assuming the date is always in the format 'dd Mon yyyy'\n",
    "        date_str = ' '.join(text.split()[2:5])\n",
    "\n",
    "        # Parse the date string into a datetime object\n",
    "        date_obj = datetime.strptime(date_str, '%d %b %Y')\n",
    "\n",
    "        # Format the datetime object to 'yyyy-mm-dd'\n",
    "        updated_at = date_obj.strftime('%Y-%m-%d')\n",
    "\n",
    "#         print(updated_at)\n",
    "        \n",
    "        # Append row to the DataFrame and print the row\n",
    "        out_df.loc[len(out_df)] = [name, price, today_low, today_high, year_low, year_high, percent, updated_at]\n",
    "#       print(out_df.iloc[-1].to_string(header=False, index=False)) \n",
    "        print(','.join(map(str, out_df.iloc[-1])))\n",
    "        sleep(1)\n",
    "        \n",
    "    return out_df  # return the final dataframe with all values populated"
   ]
  },
  {
   "cell_type": "code",
   "execution_count": 11,
   "id": "94abc8d4",
   "metadata": {},
   "outputs": [
    {
     "name": "stdout",
     "output_type": "stream",
     "text": [
      "Start at:  08:23 PM\n"
     ]
    }
   ],
   "source": [
    "start_time = strftime(\"%I:%M %p\")\n",
    "print('Start at: ', start_time)"
   ]
  },
  {
   "cell_type": "code",
   "execution_count": 12,
   "id": "23b565ec",
   "metadata": {},
   "outputs": [
    {
     "name": "stdout",
     "output_type": "stream",
     "text": [
      "ACE,1.29,1.27,1.31,1.23,1.53,-1.53,2025-02-11\n",
      "ADVANC,284.00,280.00,285.00,193.00,299.00,0.35,2025-02-11\n",
      "AEONTS,110.00,107.50,110.50,103.50,168.50,2.33,2025-02-11\n",
      "AH,14.00,14.00,14.20,13.70,26.75,-0.71,2025-02-11\n",
      "AIE,0.75,0.73,0.75,0.73,1.51,1.35,2025-02-11\n",
      "AIMIRT,10.50,10.40,10.50,10.20,11.20,0.0,2025-02-11\n",
      "AIT,4.62,4.36,4.62,3.74,5.05,5.96,2025-02-11\n",
      "AJ,2.38,2.28,2.38,2.26,7.15,1.71,2025-02-11\n",
      "AMATA,24.70,24.20,24.80,20.10,31.00,3.35,2025-02-11\n",
      "ANAN,0.41,0.40,0.43,0.40,0.94,2.5,2025-02-11\n",
      "AOT,54.75,54.00,55.50,53.25,67.50,0.92,2025-02-11\n",
      "AP,7.95,7.70,8.00,7.50,11.20,3.92,2025-02-11\n",
      "ASIAN,6.90,6.70,7.05,6.35,11.20,0.0,2025-02-11\n",
      "ASK,7.90,7.50,8.00,7.40,19.70,6.04,2025-02-11\n",
      "ASP,2.30,2.28,2.30,2.12,2.88,0.0,2025-02-11\n",
      "ASW,7.70,7.65,7.70,7.35,8.45,-0.65,2025-02-11\n",
      "AWC,3.00,2.92,3.04,2.88,4.58,2.04,2025-02-11\n",
      "BA,19.40,18.30,19.50,15.10,26.00,7.78,2025-02-11\n",
      "BAM,6.00,5.90,6.05,5.35,10.40,0.84,2025-02-11\n",
      "BANPU,4.66,4.60,4.72,4.38,7.50,0.0,2025-02-11\n",
      "BAY,23.10,23.10,23.30,22.20,29.00,-0.86,2025-02-11\n",
      "BBL,153.00,152.00,154.00,129.00,159.50,0.33,2025-02-11\n",
      "BCH,14.20,13.40,14.50,13.40,22.30,5.97,2025-02-11\n",
      "BCP,36.25,35.00,36.25,26.50,47.50,2.84,2025-02-11\n",
      "BCPG,6.80,6.70,6.85,5.05,8.45,0.74,2025-02-11\n",
      "BCT,-,0.00,0.00,53.00,76.75,0.0,2025-02-11\n",
      "BDMS,22.90,22.50,23.00,22.20,31.25,1.33,2025-02-11\n",
      "BE8,13.50,13.50,13.90,10.60,30.00,0.0,2025-02-11\n",
      "BEAUTY,0.23,0.21,0.23,0.22,0.83,4.55,2025-02-11\n",
      "BEC,3.92,3.84,3.92,3.50,5.25,1.55,2025-02-11\n",
      "BEM,6.65,6.50,6.65,6.40,8.45,1.53,2025-02-11\n",
      "BGC,6.70,6.55,6.70,5.90,7.90,0.0,2025-02-11\n",
      "BGRIM,12.60,12.60,13.00,12.30,30.00,-0.79,2025-02-11\n",
      "BH,175.50,173.00,176.50,171.50,284.00,1.15,2025-02-11\n",
      "BJC,21.50,21.00,21.60,19.20,26.25,2.38,2025-02-11\n",
      "BKIH,285.00,285.00,286.00,279.00,316.00,0.0,2025-02-11\n",
      "BLA,19.40,18.70,19.40,16.30,25.75,3.74,2025-02-11\n",
      "BLAND,0.49,0.49,0.50,0.48,0.74,0.0,2025-02-11\n",
      "BPP,8.45,8.40,8.55,8.30,15.20,0.6,2025-02-11\n",
      "BTS,6.15,5.95,6.15,3.72,6.45,2.5,2025-02-11\n",
      "BTSGIF,2.96,2.94,2.98,2.92,3.70,-0.67,2025-02-11\n",
      "CBG,71.50,68.25,71.50,61.25,82.00,4.76,2025-02-11\n",
      "CENTEL,28.00,27.50,28.25,26.00,46.50,2.75,2025-02-11\n",
      "CHG,2.16,2.04,2.18,2.04,3.08,5.88,2025-02-11\n",
      "CK,15.90,15.30,15.90,14.90,24.60,2.58,2025-02-11\n",
      "CKP,2.74,2.64,2.74,2.58,4.28,3.79,2025-02-11\n",
      "COM7,21.40,21.00,21.50,16.40,28.25,0.94,2025-02-11\n",
      "CPALL,50.75,49.25,51.25,46.75,68.00,1.5,2025-02-11\n",
      "CPF,20.90,20.40,21.00,17.60,26.00,1.95,2025-02-11\n",
      "CPN,53.25,51.50,53.50,49.25,68.75,3.4,2025-02-11\n",
      "CPNCG,6.30,6.25,6.30,5.30,7.05,0.0,2025-02-11\n",
      "CPNREIT,12.00,11.80,12.00,9.90,13.60,0.0,2025-02-11\n",
      "CRC,34.00,32.75,34.25,24.20,37.75,3.03,2025-02-11\n",
      "DCC,1.56,1.54,1.62,1.50,2.16,-3.7,2025-02-11\n",
      "DCON,0.30,0.29,0.30,0.28,0.55,3.45,2025-02-11\n",
      "DELTA,114.00,112.50,115.00,63.25,173.50,1.79,2025-02-11\n",
      "DIF,8.45,8.40,8.50,7.45,9.85,0.6,2025-02-11\n",
      "DOHOME,6.75,6.45,6.80,5.95,12.60,4.65,2025-02-11\n",
      "DRT,7.05,6.95,7.10,6.80,8.40,0.71,2025-02-11\n",
      "EA,2.58,2.58,2.66,2.14,28.31,0.0,2025-02-11\n",
      "EASTW,2.12,2.08,2.12,2.02,4.04,0.95,2025-02-11\n",
      "ECL,0.92,0.90,0.93,0.67,1.51,1.1,2025-02-11\n",
      "EGATIF,5.95,5.95,6.00,5.75,6.40,-0.83,2025-02-11\n",
      "EGCO,99.50,98.25,101.00,94.50,133.00,-0.5,2025-02-11\n",
      "EPG,3.22,3.08,3.30,3.00,7.85,2.55,2025-02-11\n",
      "FORTH,8.30,8.20,8.30,7.80,18.80,1.22,2025-02-11\n",
      "FPT,7.10,7.05,7.30,7.15,15.40,-4.05,2025-02-11\n",
      "FSMART,6.40,6.15,6.40,4.60,9.15,3.23,2025-02-11\n",
      "FTREIT,10.30,10.10,10.40,7.80,11.30,1.98,2025-02-11\n",
      "GC,4.92,4.90,4.92,4.72,5.55,0.0,2025-02-11\n",
      "GFPT,8.70,8.55,8.80,8.50,13.40,1.16,2025-02-11\n",
      "GGC,4.10,4.10,4.12,3.88,9.00,0.0,2025-02-11\n",
      "GLOBAL,9.15,8.80,9.20,8.70,17.40,3.39,2025-02-11\n",
      "GPSC,25.75,25.75,26.75,25.75,56.50,-1.9,2025-02-11\n",
      "GRAMMY,6.90,6.90,6.90,3.90,8.90,0.0,2025-02-11\n",
      "GULF,56.50,55.50,57.00,37.00,70.75,-1.31,2025-02-11\n",
      "GUNKUL,1.82,1.80,1.85,1.75,3.14,2.25,2025-02-11\n",
      "GVREIT,6.65,6.55,6.65,4.98,7.15,0.76,2025-02-11\n",
      "HANA,21.80,20.90,21.90,20.50,51.50,4.81,2025-02-11\n",
      "HFT,4.18,4.10,4.18,3.92,4.82,1.95,2025-02-11\n",
      "HMPRO,8.45,8.10,8.45,7.65,11.60,4.32,2025-02-11\n",
      "HTC,16.00,15.80,16.10,15.00,18.20,1.27,2025-02-11\n",
      "ICHI,12.90,12.70,13.00,12.00,18.80,2.38,2025-02-11\n",
      "III,4.70,4.60,4.70,4.18,10.20,1.29,2025-02-11\n",
      "ILM,14.30,13.80,14.50,13.80,22.60,2.88,2025-02-11\n",
      "IMH,4.36,4.26,4.44,4.00,7.80,2.35,2025-02-11\n",
      "IMPACT,10.30,10.10,10.40,9.15,12.80,0.98,2025-02-11\n",
      "INOX,0.42,0.41,0.43,0.40,0.67,0.0,2025-02-11\n",
      "INTUCH,98.50,96.75,99.00,65.25,114.50,-1.01,2025-02-11\n",
      "IP,2.20,2.18,2.28,2.18,7.30,-1.79,2025-02-11\n",
      "IRPC,1.03,1.02,1.05,1.03,2.06,0.0,2025-02-11\n",
      "IVL,23.00,22.70,23.40,16.00,27.50,0.0,2025-02-11\n",
      "3BBIF,5.45,5.35,5.45,5.00,6.75,0.93,2025-02-11\n",
      "JMART,10.00,9.75,10.20,9.10,17.70,2.04,2025-02-11\n",
      "JMT,14.10,13.90,14.40,9.90,25.25,2.17,2025-02-11\n",
      "KBANK,158.00,158.00,160.00,118.50,163.50,-0.63,2025-02-11\n",
      "KCE,21.20,19.70,21.20,19.60,47.75,7.07,2025-02-11\n",
      "KEX,1.37,1.35,1.38,1.35,6.50,1.48,2025-02-11\n",
      "KGI,4.20,4.18,4.20,3.98,4.90,0.0,2025-02-11\n",
      "KKP,51.00,50.50,51.75,37.00,55.50,-0.97,2025-02-11\n",
      "KSL,1.70,1.68,1.71,1.57,2.62,0.59,2025-02-11\n",
      "KTB,23.30,23.20,23.70,15.40,24.00,-1.69,2025-02-11\n",
      "KTC,51.50,49.25,51.75,37.00,52.25,1.48,2025-02-11\n",
      "KYE,289.00,288.00,289.00,280.00,342.00,1.4,2025-02-11\n",
      "LALIN,5.50,5.40,5.50,5.35,8.05,0.0,2025-02-11\n",
      "LANNA,16.30,16.20,16.30,13.60,17.50,0.62,2025-02-11\n",
      "LH,4.32,4.24,4.36,4.18,7.75,1.41,2025-02-11\n",
      "LHFG,0.75,0.74,0.76,0.71,1.04,0.0,2025-02-11\n",
      "LHK,3.36,3.34,3.38,3.34,4.30,0.0,2025-02-11\n",
      "LIT,0.51,0.48,0.51,0.49,1.55,4.08,2025-02-11\n",
      "LPH,4.10,4.08,4.12,4.06,4.94,-0.49,2025-02-11\n",
      "LPN,2.10,2.06,2.12,2.06,3.84,-0.94,2025-02-11\n",
      "M,18.20,17.20,18.30,16.70,39.50,5.81,2025-02-11\n",
      "MAJOR,13.70,13.50,13.70,11.70,16.00,0.0,2025-02-11\n",
      "MBAX,1.85,1.80,1.85,1.72,3.38,2.21,2025-02-11\n",
      "MC,10.10,9.90,10.10,9.65,14.90,0.0,2025-02-11\n",
      "MCS,6.25,5.85,6.25,5.80,8.20,6.84,2025-02-11\n",
      "MEGA,30.50,29.75,30.75,29.75,43.75,1.67,2025-02-11\n",
      "MINT,25.75,25.25,26.00,22.90,34.00,0.98,2025-02-11\n",
      "MST,8.85,8.80,8.90,8.75,10.90,0.0,2025-02-11\n",
      "MTC,44.25,42.75,44.75,37.50,54.00,2.91,2025-02-11\n",
      "NER,4.70,4.64,4.70,4.48,6.45,1.73,2025-02-11\n",
      "NOBLE,2.06,2.02,2.08,1.99,3.86,1.98,2025-02-11\n",
      "ONEE,3.34,3.26,3.42,3.02,5.35,2.45,2025-02-11\n",
      "OR,11.40,11.00,11.40,10.70,19.00,2.7,2025-02-11\n",
      "ORI,3.10,3.04,3.12,2.94,8.50,1.97,2025-02-11\n",
      "OSP,14.90,14.40,15.10,14.40,25.00,1.36,2025-02-11\n",
      "PAP,1.65,1.62,1.65,1.46,2.96,0.0,2025-02-11\n",
      "PCSGH,3.66,3.62,3.70,3.26,5.30,1.67,2025-02-11\n",
      "PDG,2.36,2.36,2.42,2.30,2.82,-2.48,2025-02-11\n",
      "PLANB,6.90,6.75,6.95,6.40,9.20,0.73,2025-02-11\n",
      "POPF,6.30,6.25,6.30,5.35,6.70,0.0,2025-02-11\n",
      "PREB,4.04,4.00,4.10,4.00,6.55,-1.46,2025-02-11\n",
      "PRM,7.75,7.60,7.80,6.10,9.30,1.31,2025-02-11\n",
      "PSH,6.10,5.85,6.10,5.80,12.60,4.27,2025-02-11\n",
      "PSL,6.25,5.90,6.30,5.60,11.20,9.65,2025-02-11\n",
      "PTG,7.10,7.00,7.15,6.80,10.70,-0.7,2025-02-11\n",
      "PTL,10.00,9.95,10.10,9.15,14.40,0.0,2025-02-11\n",
      "PTT,30.50,30.25,30.75,30.00,36.25,0.83,2025-02-11\n",
      "PTTEP,126.50,124.00,127.00,116.00,164.50,1.61,2025-02-11\n",
      "PTTGC,20.40,19.50,20.40,19.40,41.25,4.08,2025-02-11\n",
      "QH,1.61,1.58,1.62,1.57,2.30,1.26,2025-02-11\n",
      "RATCH,27.00,26.50,27.25,25.25,34.25,1.89,2025-02-11\n",
      "RBF,4.96,4.80,4.98,4.76,12.90,2.9,2025-02-11\n",
      "RCL,23.40,22.30,23.50,16.20,31.75,4.93,2025-02-11\n",
      "RJH,17.70,17.00,17.80,16.80,26.50,3.51,2025-02-11\n",
      "ROJNA,5.75,5.55,5.75,5.05,8.05,0.88,2025-02-11\n",
      "RS,0.89,0.87,0.92,0.85,7.35,1.14,2025-02-11\n",
      "S11,1.93,1.90,1.94,1.68,3.70,3.76,2025-02-11\n",
      "SABUY,0.49,0.49,0.51,0.38,5.50,-2.0,2025-02-11\n",
      "SAPPE,52.50,50.50,53.25,48.50,107.50,3.96,2025-02-11\n",
      "SAT,10.20,10.10,10.30,10.00,18.90,0.99,2025-02-11\n",
      "SAWAD,37.25,35.50,37.75,27.25,45.50,4.2,2025-02-11\n",
      "SC,2.58,2.54,2.60,2.30,4.00,1.57,2025-02-11\n",
      "SCB,125.50,125.00,126.50,100.00,127.50,-0.79,2025-02-11\n",
      "SCC,147.00,145.00,147.50,142.50,275.00,1.03,2025-02-11\n",
      "SCCC,159.00,157.50,159.00,127.50,177.50,0.95,2025-02-11\n",
      "SCGP,15.20,15.20,15.70,14.90,35.25,-2.56,2025-02-11\n",
      "SENA,2.14,2.10,2.14,2.10,3.02,0.0,2025-02-11\n",
      "SGP,7.05,6.95,7.05,6.55,8.45,0.71,2025-02-11\n",
      "SINGER,6.40,6.30,6.55,5.95,12.70,1.59,2025-02-11\n",
      "SIRI,1.60,1.58,1.64,1.51,1.94,0.0,2025-02-11\n",
      "SIS,25.25,24.80,25.50,20.80,31.25,1.0,2025-02-11\n",
      "SJWD,7.75,7.55,7.80,7.20,16.70,0.65,2025-02-11\n",
      "SKN,5.45,5.40,5.50,4.04,6.40,0.0,2025-02-11\n",
      "SKR,8.50,8.45,8.55,8.35,10.70,-0.58,2025-02-11\n",
      "SMPC,9.05,9.00,9.10,6.45,10.10,0.56,2025-02-11\n",
      "SNC,5.45,5.35,5.45,4.72,8.70,0.93,2025-02-11\n",
      "SPALI,15.70,15.20,15.90,14.80,21.60,3.29,2025-02-11\n",
      "SPC,58.75,58.50,58.75,57.00,63.75,0.43,2025-02-11\n",
      "SPCG,7.80,7.55,7.85,7.50,12.70,3.31,2025-02-11\n",
      "SPRC,5.10,5.00,5.15,4.92,9.40,2.41,2025-02-11\n",
      "SPRIME,4.20,4.18,4.20,3.66,4.78,0.0,2025-02-11\n",
      "SSP,5.10,5.05,5.35,4.98,8.45,-2.86,2025-02-11\n",
      "STA,14.60,14.30,14.70,14.20,25.75,1.39,2025-02-11\n",
      "STANLY,218.00,218.00,219.00,199.50,233.00,-0.46,2025-02-11\n",
      "STGT,7.35,7.20,7.40,6.85,13.30,1.38,2025-02-11\n",
      "SUPER,0.19,0.19,0.20,0.18,0.43,0.0,2025-02-11\n",
      "SUPEREIF,6.20,6.15,6.20,5.60,7.05,0.0,2025-02-11\n",
      "SVI,7.00,7.00,7.15,5.95,9.40,-0.71,2025-02-11\n",
      "SYNEX,10.50,10.10,10.80,9.70,16.70,-0.94,2025-02-11\n",
      "TASCO,17.40,17.20,17.50,15.40,20.00,0.58,2025-02-11\n",
      "TCAP,49.50,49.25,49.75,43.25,53.50,0.51,2025-02-11\n",
      "TFFIF,6.30,6.30,6.40,6.00,7.20,0.0,2025-02-11\n",
      "TFG,3.14,3.04,3.14,3.02,4.84,2.61,2025-02-11\n",
      "THANI,1.19,1.16,1.21,1.15,2.50,1.71,2025-02-11\n",
      "THG,13.00,12.60,13.10,12.40,48.25,2.36,2025-02-11\n",
      "TIDLOR,17.60,16.80,17.60,12.50,22.56,4.76,2025-02-11\n",
      "TIPH,21.20,21.10,21.60,19.90,32.25,-0.47,2025-02-11\n",
      "TIPCO,10.10,10.10,10.20,9.40,10.60,0.0,2025-02-11\n",
      "TISCO,98.50,97.75,98.75,90.00,101.50,0.51,2025-02-11\n",
      "TK,3.62,3.44,3.62,3.46,5.70,2.84,2025-02-11\n",
      "TKN,8.35,8.30,8.45,7.70,12.30,0.0,2025-02-11\n",
      "TKS,5.15,5.05,5.25,4.94,9.00,0.0,2025-02-11\n",
      "TMT,3.04,3.02,3.04,2.94,6.05,-0.65,2025-02-11\n",
      "TMW,58.50,57.75,58.75,44.75,66.75,3.08,2025-02-11\n",
      "TOA,12.20,12.00,12.40,11.60,26.00,1.67,2025-02-11\n",
      "TOP,24.40,23.50,24.80,23.10,60.75,1.24,2025-02-11\n",
      "TPIPL,0.96,0.94,0.97,0.94,1.45,0.0,2025-02-11\n",
      "TPIPP,2.94,2.92,2.94,2.70,3.42,0.0,2025-02-11\n",
      "TQM,16.90,16.70,17.00,16.20,33.25,0.6,2025-02-11\n",
      "TRUE,12.60,12.40,12.70,6.20,12.80,-0.79,2025-02-11\n",
      "TSE,0.64,0.62,0.64,0.62,2.04,3.23,2025-02-11\n",
      "TSTH,0.53,0.52,0.55,0.47,0.90,1.92,2025-02-11\n",
      "TTA,4.28,4.04,4.30,3.96,8.50,5.94,2025-02-11\n",
      "TTB,1.94,1.94,1.96,1.59,2.06,-1.02,2025-02-11\n",
      "TTLPF,13.90,13.90,14.00,13.20,20.30,2.21,2025-02-11\n",
      "TTW,8.90,8.80,8.95,8.50,10.10,1.14,2025-02-11\n",
      "TU,11.50,11.40,11.60,11.20,16.00,0.0,2025-02-11\n",
      "TVO,21.00,20.70,21.00,18.60,25.25,1.45,2025-02-11\n",
      "TYCN,1.88,1.88,1.88,1.80,2.78,-0.53,2025-02-11\n",
      "UTP,7.75,7.70,7.80,7.30,12.00,0.65,2025-02-11\n",
      "VGI,3.08,2.92,3.10,1.20,3.68,5.48,2025-02-11\n",
      "VIBHA,1.85,1.83,1.86,1.72,2.34,0.0,2025-02-11\n",
      "VNG,2.80,2.78,2.82,2.78,3.92,-0.71,2025-02-11\n",
      "WHA,4.64,4.52,4.68,4.38,6.20,1.75,2025-02-11\n",
      "WHAIR,6.25,6.15,6.25,5.20,6.75,1.63,2025-02-11\n",
      "WHART,10.20,10.00,10.20,7.65,10.80,2.0,2025-02-11\n",
      "WHAUP,3.60,3.46,3.62,3.16,5.50,4.65,2025-02-11\n",
      "WICE,3.30,3.24,3.30,3.10,7.55,0.0,2025-02-11\n",
      "WORK,5.70,5.55,5.80,5.00,11.10,-0.87,2025-02-11\n"
     ]
    }
   ],
   "source": [
    "df = pd.read_csv(input_file, header=None)\n",
    "out_df = get_stock_data(df)"
   ]
  },
  {
   "cell_type": "code",
   "execution_count": 13,
   "id": "d31edacf",
   "metadata": {},
   "outputs": [
    {
     "name": "stdout",
     "output_type": "stream",
     "text": [
      "End at:  08:28 PM\n"
     ]
    }
   ],
   "source": [
    "end_time = strftime(\"%I:%M %p\")\n",
    "print('End at: ', end_time)"
   ]
  },
  {
   "cell_type": "code",
   "execution_count": 14,
   "id": "b89c4ae7",
   "metadata": {},
   "outputs": [
    {
     "data": {
      "text/html": [
       "<div>\n",
       "<style scoped>\n",
       "    .dataframe tbody tr th:only-of-type {\n",
       "        vertical-align: middle;\n",
       "    }\n",
       "\n",
       "    .dataframe tbody tr th {\n",
       "        vertical-align: top;\n",
       "    }\n",
       "\n",
       "    .dataframe thead th {\n",
       "        text-align: right;\n",
       "    }\n",
       "</style>\n",
       "<table border=\"1\" class=\"dataframe\">\n",
       "  <thead>\n",
       "    <tr style=\"text-align: right;\">\n",
       "      <th></th>\n",
       "      <th>name</th>\n",
       "      <th>price</th>\n",
       "      <th>today_low</th>\n",
       "      <th>today_high</th>\n",
       "      <th>year_low</th>\n",
       "      <th>year_high</th>\n",
       "      <th>percent</th>\n",
       "      <th>updated_at</th>\n",
       "    </tr>\n",
       "  </thead>\n",
       "  <tbody>\n",
       "    <tr>\n",
       "      <th>25</th>\n",
       "      <td>BCT</td>\n",
       "      <td>-</td>\n",
       "      <td>0.00</td>\n",
       "      <td>0.00</td>\n",
       "      <td>53.00</td>\n",
       "      <td>76.75</td>\n",
       "      <td>0.0</td>\n",
       "      <td>2025-02-11</td>\n",
       "    </tr>\n",
       "  </tbody>\n",
       "</table>\n",
       "</div>"
      ],
      "text/plain": [
       "   name price today_low today_high year_low year_high  percent  updated_at\n",
       "25  BCT     -      0.00       0.00    53.00     76.75      0.0  2025-02-11"
      ]
     },
     "execution_count": 14,
     "metadata": {},
     "output_type": "execute_result"
    }
   ],
   "source": [
    "out_df.query('price == \"-\"')"
   ]
  },
  {
   "cell_type": "code",
   "execution_count": 15,
   "id": "784f1b6d",
   "metadata": {},
   "outputs": [
    {
     "data": {
      "text/plain": [
       "(221, 8)"
      ]
     },
     "execution_count": 15,
     "metadata": {},
     "output_type": "execute_result"
    }
   ],
   "source": [
    "out_df.shape"
   ]
  },
  {
   "cell_type": "code",
   "execution_count": 16,
   "id": "6326d0c5",
   "metadata": {},
   "outputs": [],
   "source": [
    "out_df = out_df[out_df['name'] != 'BCT']"
   ]
  },
  {
   "cell_type": "code",
   "execution_count": 17,
   "id": "2a293f55-436e-45d1-9966-50d12c26e659",
   "metadata": {},
   "outputs": [],
   "source": [
    "out_df = out_df[out_df['name'] != 'LPF']"
   ]
  },
  {
   "cell_type": "code",
   "execution_count": 18,
   "id": "cc4b3547-5ea9-4ac6-bd11-896e67d464ed",
   "metadata": {},
   "outputs": [],
   "source": [
    "out_df = out_df[out_df['name'] != 'TYCN']"
   ]
  },
  {
   "cell_type": "code",
   "execution_count": 19,
   "id": "865622c2-dad3-4ba8-b35a-898461fe5e9a",
   "metadata": {},
   "outputs": [],
   "source": [
    "out_df = out_df[out_df['name'] != 'GRAMMY']"
   ]
  },
  {
   "cell_type": "code",
   "execution_count": 20,
   "id": "cb2d763d-5b75-4ace-b87a-f165c8e6cb91",
   "metadata": {},
   "outputs": [],
   "source": [
    "out_df = out_df[out_df['name'] != 'MST']"
   ]
  },
  {
   "cell_type": "code",
   "execution_count": 21,
   "id": "b2771ed1",
   "metadata": {},
   "outputs": [
    {
     "data": {
      "text/plain": [
       "(217, 8)"
      ]
     },
     "execution_count": 21,
     "metadata": {},
     "output_type": "execute_result"
    }
   ],
   "source": [
    "out_df.shape"
   ]
  },
  {
   "cell_type": "code",
   "execution_count": 22,
   "id": "eb2ffec6",
   "metadata": {},
   "outputs": [],
   "source": [
    "out_df['price'] = out_df['price'].astype('float')\n",
    "out_df['today_low'] = out_df['today_low'].astype('float')\n",
    "out_df['today_high'] = out_df['today_high'].astype('float')\n",
    "out_df['year_low'] = out_df['year_low'].astype('float')\n",
    "out_df['year_high'] = out_df['year_high'].astype('float')\n",
    "out_df['percent'] = out_df['percent'].astype('float')"
   ]
  },
  {
   "cell_type": "code",
   "execution_count": 23,
   "id": "f4fb1a3c",
   "metadata": {},
   "outputs": [],
   "source": [
    "sorted_out_df = out_df.sort_values('percent')"
   ]
  },
  {
   "cell_type": "code",
   "execution_count": 24,
   "id": "032f0eea",
   "metadata": {},
   "outputs": [
    {
     "data": {
      "text/html": [
       "<div>\n",
       "<style scoped>\n",
       "    .dataframe tbody tr th:only-of-type {\n",
       "        vertical-align: middle;\n",
       "    }\n",
       "\n",
       "    .dataframe tbody tr th {\n",
       "        vertical-align: top;\n",
       "    }\n",
       "\n",
       "    .dataframe thead th {\n",
       "        text-align: right;\n",
       "    }\n",
       "</style>\n",
       "<table border=\"1\" class=\"dataframe\">\n",
       "  <thead>\n",
       "    <tr style=\"text-align: right;\">\n",
       "      <th></th>\n",
       "      <th>name</th>\n",
       "      <th>price</th>\n",
       "      <th>today_low</th>\n",
       "      <th>today_high</th>\n",
       "      <th>year_low</th>\n",
       "      <th>year_high</th>\n",
       "      <th>percent</th>\n",
       "      <th>updated_at</th>\n",
       "    </tr>\n",
       "  </thead>\n",
       "  <tbody>\n",
       "    <tr>\n",
       "      <th>66</th>\n",
       "      <td>FPT</td>\n",
       "      <td>7.10</td>\n",
       "      <td>7.05</td>\n",
       "      <td>7.30</td>\n",
       "      <td>7.15</td>\n",
       "      <td>15.40</td>\n",
       "      <td>-4.05</td>\n",
       "      <td>2025-02-11</td>\n",
       "    </tr>\n",
       "    <tr>\n",
       "      <th>90</th>\n",
       "      <td>IRPC</td>\n",
       "      <td>1.03</td>\n",
       "      <td>1.02</td>\n",
       "      <td>1.05</td>\n",
       "      <td>1.03</td>\n",
       "      <td>2.06</td>\n",
       "      <td>0.00</td>\n",
       "      <td>2025-02-11</td>\n",
       "    </tr>\n",
       "    <tr>\n",
       "      <th>191</th>\n",
       "      <td>TK</td>\n",
       "      <td>3.62</td>\n",
       "      <td>3.44</td>\n",
       "      <td>3.62</td>\n",
       "      <td>3.46</td>\n",
       "      <td>5.70</td>\n",
       "      <td>2.84</td>\n",
       "      <td>2025-02-11</td>\n",
       "    </tr>\n",
       "    <tr>\n",
       "      <th>109</th>\n",
       "      <td>LIT</td>\n",
       "      <td>0.51</td>\n",
       "      <td>0.48</td>\n",
       "      <td>0.51</td>\n",
       "      <td>0.49</td>\n",
       "      <td>1.55</td>\n",
       "      <td>4.08</td>\n",
       "      <td>2025-02-11</td>\n",
       "    </tr>\n",
       "    <tr>\n",
       "      <th>28</th>\n",
       "      <td>BEAUTY</td>\n",
       "      <td>0.23</td>\n",
       "      <td>0.21</td>\n",
       "      <td>0.23</td>\n",
       "      <td>0.22</td>\n",
       "      <td>0.83</td>\n",
       "      <td>4.55</td>\n",
       "      <td>2025-02-11</td>\n",
       "    </tr>\n",
       "  </tbody>\n",
       "</table>\n",
       "</div>"
      ],
      "text/plain": [
       "       name  price  today_low  today_high  year_low  year_high  percent  \\\n",
       "66      FPT   7.10       7.05        7.30      7.15      15.40    -4.05   \n",
       "90     IRPC   1.03       1.02        1.05      1.03       2.06     0.00   \n",
       "191      TK   3.62       3.44        3.62      3.46       5.70     2.84   \n",
       "109     LIT   0.51       0.48        0.51      0.49       1.55     4.08   \n",
       "28   BEAUTY   0.23       0.21        0.23      0.22       0.83     4.55   \n",
       "\n",
       "     updated_at  \n",
       "66   2025-02-11  \n",
       "90   2025-02-11  \n",
       "191  2025-02-11  \n",
       "109  2025-02-11  \n",
       "28   2025-02-11  "
      ]
     },
     "execution_count": 24,
     "metadata": {},
     "output_type": "execute_result"
    }
   ],
   "source": [
    "sorted_out_df.query('today_low < year_low')"
   ]
  },
  {
   "cell_type": "code",
   "execution_count": 25,
   "id": "f62f475b-0a76-4b26-a4f9-5354c12435b2",
   "metadata": {},
   "outputs": [
    {
     "data": {
      "text/html": [
       "<div>\n",
       "<style scoped>\n",
       "    .dataframe tbody tr th:only-of-type {\n",
       "        vertical-align: middle;\n",
       "    }\n",
       "\n",
       "    .dataframe tbody tr th {\n",
       "        vertical-align: top;\n",
       "    }\n",
       "\n",
       "    .dataframe thead th {\n",
       "        text-align: right;\n",
       "    }\n",
       "</style>\n",
       "<table border=\"1\" class=\"dataframe\">\n",
       "  <thead>\n",
       "    <tr style=\"text-align: right;\">\n",
       "      <th></th>\n",
       "      <th>name</th>\n",
       "      <th>price</th>\n",
       "      <th>today_low</th>\n",
       "      <th>today_high</th>\n",
       "      <th>year_low</th>\n",
       "      <th>year_high</th>\n",
       "      <th>percent</th>\n",
       "      <th>updated_at</th>\n",
       "    </tr>\n",
       "  </thead>\n",
       "  <tbody>\n",
       "    <tr>\n",
       "      <th>116</th>\n",
       "      <td>MCS</td>\n",
       "      <td>6.25</td>\n",
       "      <td>5.85</td>\n",
       "      <td>6.25</td>\n",
       "      <td>5.8</td>\n",
       "      <td>8.2</td>\n",
       "      <td>6.84</td>\n",
       "      <td>2025-02-11</td>\n",
       "    </tr>\n",
       "  </tbody>\n",
       "</table>\n",
       "</div>"
      ],
      "text/plain": [
       "    name  price  today_low  today_high  year_low  year_high  percent  \\\n",
       "116  MCS   6.25       5.85        6.25       5.8        8.2     6.84   \n",
       "\n",
       "     updated_at  \n",
       "116  2025-02-11  "
      ]
     },
     "execution_count": 25,
     "metadata": {},
     "output_type": "execute_result"
    }
   ],
   "source": [
    "sorted_out_df.query('name == \"MCS\"')"
   ]
  },
  {
   "cell_type": "code",
   "execution_count": 26,
   "id": "7af7c28e",
   "metadata": {},
   "outputs": [
    {
     "data": {
      "text/html": [
       "<div>\n",
       "<style scoped>\n",
       "    .dataframe tbody tr th:only-of-type {\n",
       "        vertical-align: middle;\n",
       "    }\n",
       "\n",
       "    .dataframe tbody tr th {\n",
       "        vertical-align: top;\n",
       "    }\n",
       "\n",
       "    .dataframe thead th {\n",
       "        text-align: right;\n",
       "    }\n",
       "</style>\n",
       "<table border=\"1\" class=\"dataframe\">\n",
       "  <thead>\n",
       "    <tr style=\"text-align: right;\">\n",
       "      <th></th>\n",
       "      <th>name</th>\n",
       "      <th>price</th>\n",
       "      <th>today_low</th>\n",
       "      <th>today_high</th>\n",
       "      <th>year_low</th>\n",
       "      <th>year_high</th>\n",
       "      <th>percent</th>\n",
       "      <th>updated_at</th>\n",
       "    </tr>\n",
       "  </thead>\n",
       "  <tbody>\n",
       "    <tr>\n",
       "      <th>28</th>\n",
       "      <td>BEAUTY</td>\n",
       "      <td>0.23</td>\n",
       "      <td>0.21</td>\n",
       "      <td>0.23</td>\n",
       "      <td>0.22</td>\n",
       "      <td>0.83</td>\n",
       "      <td>4.55</td>\n",
       "      <td>2025-02-11</td>\n",
       "    </tr>\n",
       "    <tr>\n",
       "      <th>66</th>\n",
       "      <td>FPT</td>\n",
       "      <td>7.10</td>\n",
       "      <td>7.05</td>\n",
       "      <td>7.30</td>\n",
       "      <td>7.15</td>\n",
       "      <td>15.40</td>\n",
       "      <td>-4.05</td>\n",
       "      <td>2025-02-11</td>\n",
       "    </tr>\n",
       "    <tr>\n",
       "      <th>90</th>\n",
       "      <td>IRPC</td>\n",
       "      <td>1.03</td>\n",
       "      <td>1.02</td>\n",
       "      <td>1.05</td>\n",
       "      <td>1.03</td>\n",
       "      <td>2.06</td>\n",
       "      <td>0.00</td>\n",
       "      <td>2025-02-11</td>\n",
       "    </tr>\n",
       "    <tr>\n",
       "      <th>109</th>\n",
       "      <td>LIT</td>\n",
       "      <td>0.51</td>\n",
       "      <td>0.48</td>\n",
       "      <td>0.51</td>\n",
       "      <td>0.49</td>\n",
       "      <td>1.55</td>\n",
       "      <td>4.08</td>\n",
       "      <td>2025-02-11</td>\n",
       "    </tr>\n",
       "    <tr>\n",
       "      <th>191</th>\n",
       "      <td>TK</td>\n",
       "      <td>3.62</td>\n",
       "      <td>3.44</td>\n",
       "      <td>3.62</td>\n",
       "      <td>3.46</td>\n",
       "      <td>5.70</td>\n",
       "      <td>2.84</td>\n",
       "      <td>2025-02-11</td>\n",
       "    </tr>\n",
       "  </tbody>\n",
       "</table>\n",
       "</div>"
      ],
      "text/plain": [
       "       name  price  today_low  today_high  year_low  year_high  percent  \\\n",
       "28   BEAUTY   0.23       0.21        0.23      0.22       0.83     4.55   \n",
       "66      FPT   7.10       7.05        7.30      7.15      15.40    -4.05   \n",
       "90     IRPC   1.03       1.02        1.05      1.03       2.06     0.00   \n",
       "109     LIT   0.51       0.48        0.51      0.49       1.55     4.08   \n",
       "191      TK   3.62       3.44        3.62      3.46       5.70     2.84   \n",
       "\n",
       "     updated_at  \n",
       "28   2025-02-11  \n",
       "66   2025-02-11  \n",
       "90   2025-02-11  \n",
       "109  2025-02-11  \n",
       "191  2025-02-11  "
      ]
     },
     "execution_count": 26,
     "metadata": {},
     "output_type": "execute_result"
    }
   ],
   "source": [
    "out_df.query('today_low < year_low')"
   ]
  },
  {
   "cell_type": "code",
   "execution_count": 27,
   "id": "8e04b03d",
   "metadata": {},
   "outputs": [
    {
     "data": {
      "text/html": [
       "<div>\n",
       "<style scoped>\n",
       "    .dataframe tbody tr th:only-of-type {\n",
       "        vertical-align: middle;\n",
       "    }\n",
       "\n",
       "    .dataframe tbody tr th {\n",
       "        vertical-align: top;\n",
       "    }\n",
       "\n",
       "    .dataframe thead th {\n",
       "        text-align: right;\n",
       "    }\n",
       "</style>\n",
       "<table border=\"1\" class=\"dataframe\">\n",
       "  <thead>\n",
       "    <tr style=\"text-align: right;\">\n",
       "      <th></th>\n",
       "      <th>name</th>\n",
       "      <th>price</th>\n",
       "      <th>today_low</th>\n",
       "      <th>today_high</th>\n",
       "      <th>year_low</th>\n",
       "      <th>year_high</th>\n",
       "      <th>percent</th>\n",
       "      <th>updated_at</th>\n",
       "    </tr>\n",
       "  </thead>\n",
       "  <tbody>\n",
       "  </tbody>\n",
       "</table>\n",
       "</div>"
      ],
      "text/plain": [
       "Empty DataFrame\n",
       "Columns: [name, price, today_low, today_high, year_low, year_high, percent, updated_at]\n",
       "Index: []"
      ]
     },
     "execution_count": 27,
     "metadata": {},
     "output_type": "execute_result"
    }
   ],
   "source": [
    "sorted_out_df.query('today_high > year_high')"
   ]
  },
  {
   "cell_type": "code",
   "execution_count": 28,
   "id": "290a9607",
   "metadata": {},
   "outputs": [
    {
     "data": {
      "text/html": [
       "<div>\n",
       "<style scoped>\n",
       "    .dataframe tbody tr th:only-of-type {\n",
       "        vertical-align: middle;\n",
       "    }\n",
       "\n",
       "    .dataframe tbody tr th {\n",
       "        vertical-align: top;\n",
       "    }\n",
       "\n",
       "    .dataframe thead th {\n",
       "        text-align: right;\n",
       "    }\n",
       "</style>\n",
       "<table border=\"1\" class=\"dataframe\">\n",
       "  <thead>\n",
       "    <tr style=\"text-align: right;\">\n",
       "      <th></th>\n",
       "      <th>name</th>\n",
       "      <th>price</th>\n",
       "      <th>today_low</th>\n",
       "      <th>today_high</th>\n",
       "      <th>year_low</th>\n",
       "      <th>year_high</th>\n",
       "      <th>percent</th>\n",
       "      <th>updated_at</th>\n",
       "    </tr>\n",
       "  </thead>\n",
       "  <tbody>\n",
       "  </tbody>\n",
       "</table>\n",
       "</div>"
      ],
      "text/plain": [
       "Empty DataFrame\n",
       "Columns: [name, price, today_low, today_high, year_low, year_high, percent, updated_at]\n",
       "Index: []"
      ]
     },
     "execution_count": 28,
     "metadata": {},
     "output_type": "execute_result"
    }
   ],
   "source": [
    "out_df.query('today_high > year_high')"
   ]
  },
  {
   "cell_type": "code",
   "execution_count": 29,
   "id": "5fbeba56-2a63-4650-898b-6447a81f95f5",
   "metadata": {},
   "outputs": [],
   "source": [
    "file_name = \"Price-Hilo.csv\"\n",
    "output_file = os.path.join(dat_path, file_name)\n",
    "god_file = os.path.join(god_path, file_name)\n",
    "icd_file = os.path.join(icd_path, file_name)\n",
    "osd_file = os.path.join(osd_path, file_name)"
   ]
  },
  {
   "cell_type": "code",
   "execution_count": 30,
   "id": "da6183ac-2f05-4f67-b200-fe83634d29dc",
   "metadata": {},
   "outputs": [
    {
     "name": "stdout",
     "output_type": "stream",
     "text": [
      "output_file : C:\\Users\\PC1\\OneDrive\\A5\\Data\\Price-Hilo.csv\n",
      "icd_file : C:\\Users\\PC1\\iCloudDrive\\Data\\Price-Hilo.csv\n",
      "god_file : C:\\Users\\PC1\\OneDrive\\Imports\\santisoontarinka@gmail.com - Google Drive\\Data\\Price-Hilo.csv\n",
      "osd_file : C:\\Users\\PC1\\OneDrive\\Documents\\obsidian-git-sync\\Data\\Price-Hilo.csv\n"
     ]
    }
   ],
   "source": [
    "print(f\"output_file : {output_file}\") \n",
    "print(f\"icd_file : {icd_file}\") \n",
    "print(f\"god_file : {god_file}\") \n",
    "print(f\"osd_file : {osd_file}\") "
   ]
  },
  {
   "cell_type": "code",
   "execution_count": 31,
   "id": "8017b53b",
   "metadata": {},
   "outputs": [],
   "source": [
    "out_df.to_csv(output_file, index=False)  \n",
    "out_df.to_csv(god_file, index=False) \n",
    "out_df.to_csv(icd_file, index=False)  \n",
    "out_df.to_csv(osd_file, index=False) "
   ]
  },
  {
   "cell_type": "code",
   "execution_count": 32,
   "id": "80692fae-6308-4695-bcac-5124ce4d44e3",
   "metadata": {},
   "outputs": [
    {
     "name": "stdout",
     "output_type": "stream",
     "text": [
      "2025-02-11 20:28:56\n"
     ]
    }
   ],
   "source": [
    "# Get the current time\n",
    "current_time = datetime.now()\n",
    "# Format the time to remove milliseconds\n",
    "formatted_time = current_time.strftime(\"%Y-%m-%d %H:%M:%S\")\n",
    "print(formatted_time)"
   ]
  },
  {
   "cell_type": "code",
   "execution_count": null,
   "id": "65000f4d-e754-421d-a607-19d51228cc7f",
   "metadata": {},
   "outputs": [],
   "source": []
  }
 ],
 "metadata": {
  "kernelspec": {
   "display_name": "Python 3 (ipykernel)",
   "language": "python",
   "name": "python3"
  },
  "language_info": {
   "codemirror_mode": {
    "name": "ipython",
    "version": 3
   },
   "file_extension": ".py",
   "mimetype": "text/x-python",
   "name": "python",
   "nbconvert_exporter": "python",
   "pygments_lexer": "ipython3",
   "version": "3.12.3"
  }
 },
 "nbformat": 4,
 "nbformat_minor": 5
}
