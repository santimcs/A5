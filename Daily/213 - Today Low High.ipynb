{
 "cells": [
  {
   "cell_type": "markdown",
   "id": "8fc27a80-5e71-4b48-ba9b-741744050465",
   "metadata": {},
   "source": [
    "### Start and Run All"
   ]
  },
  {
   "cell_type": "code",
   "execution_count": 2,
   "id": "1ee081c2-fd13-4ee2-a838-a6e47ec75269",
   "metadata": {},
   "outputs": [
    {
     "name": "stdout",
     "output_type": "stream",
     "text": [
      "2025-10-24 20:21:48\n"
     ]
    }
   ],
   "source": [
    "import os\n",
    "import pandas as pd\n",
    "from urllib import request\n",
    "from bs4 import BeautifulSoup\n",
    "# from datetime import date, timedelta\n",
    "from datetime import datetime\n",
    "from time import sleep, strftime\n",
    "\n",
    "# Get the current time\n",
    "current_time = datetime.now()\n",
    "# Format the time to remove milliseconds\n",
    "formatted_time = current_time.strftime(\"%Y-%m-%d %H:%M:%S\")\n",
    "print(formatted_time)"
   ]
  },
  {
   "cell_type": "code",
   "execution_count": 3,
   "id": "0cbdda38-ec42-4470-bede-c468ba46f8d8",
   "metadata": {},
   "outputs": [],
   "source": [
    "url = \"https://www.set.or.th/en/market/product/stock/quote/\"\n",
    "percent_span = '' "
   ]
  },
  {
   "cell_type": "code",
   "execution_count": 4,
   "id": "6e4b7508-0071-480d-99c8-a6c070027294",
   "metadata": {},
   "outputs": [],
   "source": [
    "# Get the user's home directory\n",
    "user_path = os.path.expanduser('~')\n",
    "# Get the current working directory\n",
    "current_path = os.getcwd()\n",
    "# Derive the base directory (base_dir) by removing the last folder ('Daily')\n",
    "base_path = os.path.dirname(current_path)\n",
    "#C:\\Users\\PC1\\OneDrive\\A5\\Data\n",
    "dat_path = os.path.join(base_path, \"Data\")\n",
    "#C:\\Users\\PC1\\OneDrive\\Imports\\santisoontarinka@gmail.com - Google Drive\\Data>\n",
    "god_path = os.path.join(user_path, \"OneDrive\",\"Imports\",\"santisoontarinka@gmail.com - Google Drive\",\"Data\")\n",
    "#C:\\Users\\PC1\\iCloudDrive\\data\n",
    "icd_path = os.path.join(user_path, \"iCloudDrive\", \"Data\")\n",
    "#C:\\Users\\PC1\\OneDrive\\Documents\\obsidian-git-sync\\Data\n",
    "osd_path = os.path.join(user_path, \"OneDrive\",\"Documents\",\"obsidian-git-sync\",\"Data\")"
   ]
  },
  {
   "cell_type": "code",
   "execution_count": 5,
   "id": "07defeb3-a742-4e64-8089-7e4fe5b8b93c",
   "metadata": {},
   "outputs": [
    {
     "name": "stdout",
     "output_type": "stream",
     "text": [
      "User path: C:\\Users\\PC1\n",
      "Current path: C:\\Users\\PC1\\OneDrive\\A5\\Daily\n",
      "Base path: C:\\Users\\PC1\\OneDrive\\A5\n",
      "Data path : C:\\Users\\PC1\\OneDrive\\A5\\Data\n",
      "Google Drive path : C:\\Users\\PC1\\OneDrive\\Imports\\santisoontarinka@gmail.com - Google Drive\\Data\n",
      "iCloudDrive path : C:\\Users\\PC1\\iCloudDrive\\Data\n",
      "Obsidian path : C:\\Users\\PC1\\OneDrive\\Documents\\obsidian-git-sync\\Data\n"
     ]
    }
   ],
   "source": [
    "print(\"User path:\", user_path)\n",
    "print(f\"Current path: {current_path}\")\n",
    "print(f\"Base path: {base_path}\")\n",
    "print(f\"Data path : {dat_path}\") \n",
    "print(f\"Google Drive path : {god_path}\")\n",
    "print(f\"iCloudDrive path : {icd_path}\") \n",
    "print(f\"Obsidian path : {osd_path}\") "
   ]
  },
  {
   "cell_type": "code",
   "execution_count": 6,
   "id": "08576879-dc60-431b-a31a-e1893e2d7922",
   "metadata": {},
   "outputs": [
    {
     "name": "stdout",
     "output_type": "stream",
     "text": [
      "Input file : C:\\Users\\PC1\\OneDrive\\A5\\Data\\name-ttl.csv\n"
     ]
    }
   ],
   "source": [
    "file_name = \"name-ttl.csv\"\n",
    "input_file = os.path.join(dat_path, file_name)\n",
    "print(f\"Input file : {input_file}\") "
   ]
  },
  {
   "cell_type": "code",
   "execution_count": 7,
   "id": "9b9668db-0773-4de5-9bd4-864c377dab80",
   "metadata": {},
   "outputs": [],
   "source": [
    "file_name = \"price-hilo.csv\"\n",
    "output_file = os.path.join(dat_path, file_name)\n",
    "god_file = os.path.join(god_path, file_name)\n",
    "icd_file = os.path.join(icd_path, file_name)\n",
    "osd_file = os.path.join(osd_path, file_name)"
   ]
  },
  {
   "cell_type": "code",
   "execution_count": 8,
   "id": "66c38ef5-8643-4ad3-81ff-9e2275d426d5",
   "metadata": {},
   "outputs": [
    {
     "name": "stdout",
     "output_type": "stream",
     "text": [
      "Output file : C:\\Users\\PC1\\OneDrive\\A5\\Data\\price-hilo.csv\n",
      "icd_file : C:\\Users\\PC1\\iCloudDrive\\Data\\price-hilo.csv\n",
      "god_file : C:\\Users\\PC1\\OneDrive\\Imports\\santisoontarinka@gmail.com - Google Drive\\Data\\price-hilo.csv\n",
      "osd_file : C:\\Users\\PC1\\OneDrive\\Documents\\obsidian-git-sync\\Data\\price-hilo.csv\n"
     ]
    }
   ],
   "source": [
    "print(f\"Output file : {output_file}\") \n",
    "print(f\"icd_file : {icd_file}\") \n",
    "print(f\"god_file : {god_file}\") \n",
    "print(f\"osd_file : {osd_file}\")"
   ]
  },
  {
   "cell_type": "code",
   "execution_count": 9,
   "id": "c1ec2693",
   "metadata": {},
   "outputs": [],
   "source": [
    "def cvt_str_to_flt(input_str):\n",
    "    # Check for the special pattern and return 0\n",
    "    if input_str == '(-)':\n",
    "        return 0\n",
    "    \n",
    "    # Remove parentheses and percent sign\n",
    "    cleaned_str = input_str.replace('(', '').replace(')', '').replace('%', '')\n",
    "\n",
    "    # Convert to float\n",
    "    try:\n",
    "        return float(cleaned_str)\n",
    "    except ValueError:\n",
    "        # Handle the case where the conversion fails\n",
    "        return None\n",
    " "
   ]
  },
  {
   "cell_type": "code",
   "execution_count": 10,
   "id": "334bed1f",
   "metadata": {},
   "outputs": [],
   "source": [
    "def get_stock_data(in_df):\n",
    "\n",
    "    in_df.columns = ['name']\n",
    "    \n",
    "    output_columns = ['name', 'price', 'today_low', 'today_high', 'year_low', 'year_high', 'percent', 'updated_at']\n",
    "    # Initialize an empty DataFrame with specified columns\n",
    "    out_df = pd.DataFrame(columns=output_columns)\n",
    "    \n",
    "    for index, row in in_df.iterrows():\n",
    "        name = str(row['name']).upper()\n",
    "        response = request.urlopen(url + name + '/price')\n",
    "        html_page = BeautifulSoup(response, 'html.parser')\n",
    "        \n",
    "  #      price = html_page.find('div', class_='value text-white mb-0 me-2 lh-1 stock-info').text.strip()        \n",
    "  #      if (price == '-'):\n",
    "  #          price = '0.00'        \n",
    "\n",
    "        price_div = html_page.find('div', class_='value text-white mb-0 me-2 lh-1 stock-info')\n",
    "        if price_div:\n",
    "            price = price_div.text.strip()\n",
    "        else:\n",
    "            print(f\"Price div not found for {name}\")\n",
    "            price = '0.00'     \n",
    "            \n",
    "        # Try to find the <h3> tag with the class 'theme-success'\n",
    "        h3_tag = html_page.find('h3', class_='theme-success')\n",
    "        if h3_tag:\n",
    "        # Find all <span> tags within the found <h3> tag\n",
    "            span_tags = h3_tag.find_all('span')\n",
    "    \n",
    "            if len(span_tags) > 1:\n",
    "                # Extract the text from the second <span> tag\n",
    "                percent_span = span_tags[1].text\n",
    "                # print(percent_span)\n",
    "                \n",
    "        # Try to find the <h3> tag with the class 'theme-danger'\n",
    "        h3_tag = html_page.find('h3', class_='theme-danger')\n",
    "        if h3_tag:\n",
    "        # Find all <span> tags within the found <h3> tag\n",
    "            span_tags = h3_tag.find_all('span')\n",
    "    \n",
    "            if len(span_tags) > 1:\n",
    "                # Extract the text from the second <span> tag\n",
    "                percent_span = span_tags[1].text\n",
    "                # print(percent_span)    \n",
    "                \n",
    "        # Try to find the <h3> tag with the class 'theme-danger'\n",
    "        h3_tag = html_page.find('h3', class_='theme-normal')\n",
    "        if h3_tag:\n",
    "        # Find all <span> tags within the found <h3> tag\n",
    "            span_tags = h3_tag.find_all('span')\n",
    "    \n",
    "            if len(span_tags) > 1:\n",
    "                # Extract the text from the second <span> tag\n",
    "                percent_span = span_tags[1].text\n",
    "                # print(percent_span)   \n",
    "                \n",
    "        percent = cvt_str_to_flt(percent_span)\n",
    "                \n",
    "        values_low = html_page.find_all('span', class_='title-font-family fs-16px fw-bolder me-auto lh-1')\n",
    "        today_low = values_low[0].text\n",
    "        if (today_low == '-'):\n",
    "            today_low = '0.00'\n",
    "        \n",
    "        values_high = html_page.find_all('span', class_='title-font-family fs-16px fw-bolder lh-1')\n",
    "        today_high = values_high[0].text\n",
    "        if (today_high == '-'):\n",
    "            today_high = '0.00'         \n",
    "        \n",
    "        year_low = values_low[1].text        \n",
    "        year_high = values_high[1].text     \n",
    "        \n",
    "        # Find the div with the specific class, then find the span within it\n",
    "        div = html_page.find('div', class_='price-detail-date d-flex align-items-center text-nowrap fs-12px')\n",
    "        if div:\n",
    "            span = div.find('span')\n",
    "            if span:\n",
    "                text = span.get_text()\n",
    "#                 print(text)\n",
    "            else:\n",
    "                print(\"Span not found\")\n",
    "        else:\n",
    "            print(\"Div not found\")\n",
    "            \n",
    "        # Extract the date part from the string\n",
    "        # Assuming the date is always in the format 'dd Mon yyyy'\n",
    "        date_str = ' '.join(text.split()[2:5])\n",
    "\n",
    "        # Parse the date string into a datetime object\n",
    "        date_obj = datetime.strptime(date_str, '%d %b %Y')\n",
    "\n",
    "        # Format the datetime object to 'yyyy-mm-dd'\n",
    "        updated_at = date_obj.strftime('%Y-%m-%d')\n",
    "\n",
    "#         print(updated_at)\n",
    "        \n",
    "        # Append row to the DataFrame and print the row\n",
    "        out_df.loc[len(out_df)] = [name, price, today_low, today_high, year_low, year_high, percent, updated_at]\n",
    "#       print(out_df.iloc[-1].to_string(header=False, index=False)) \n",
    "        print(','.join(map(str, out_df.iloc[-1])))\n",
    "        sleep(2)\n",
    "        \n",
    "    return out_df  # return the final dataframe with all values populated"
   ]
  },
  {
   "cell_type": "code",
   "execution_count": 11,
   "id": "94abc8d4",
   "metadata": {},
   "outputs": [
    {
     "name": "stdout",
     "output_type": "stream",
     "text": [
      "Start at:  08:21 PM\n"
     ]
    }
   ],
   "source": [
    "start_time = strftime(\"%I:%M %p\")\n",
    "print('Start at: ', start_time)"
   ]
  },
  {
   "cell_type": "code",
   "execution_count": 12,
   "id": "23b565ec",
   "metadata": {
    "scrolled": true
   },
   "outputs": [
    {
     "name": "stdout",
     "output_type": "stream",
     "text": [
      "ACE,1.30,1.29,1.30,1.23,1.38,-0.76,2025-10-24\n",
      "ADVANC,308.00,303.00,313.00,259.00,309.00,1.65,2025-10-24\n",
      "AEONTS,112.00,109.50,112.00,90.50,140.50,0.0,2025-10-24\n",
      "AH,12.30,12.20,12.60,10.00,21.40,-2.38,2025-10-24\n",
      "AIE,1.07,1.07,1.10,0.72,1.80,-1.83,2025-10-24\n",
      "AIMIRT,10.30,10.30,10.40,9.20,10.90,-0.96,2025-10-24\n",
      "AIT,4.82,4.82,4.86,3.92,5.30,-0.41,2025-10-24\n",
      "AJ,2.08,2.06,2.16,1.94,5.15,-2.8,2025-10-24\n",
      "AMATA,15.10,15.10,15.50,11.20,31.00,-1.31,2025-10-24\n",
      "ANAN,0.48,0.47,0.49,0.37,0.79,2.13,2025-10-24\n",
      "AOT,39.75,39.50,40.25,26.75,63.25,0.63,2025-10-24\n",
      "AP,8.70,8.65,8.75,5.60,9.90,1.16,2025-10-24\n",
      "ASIAN,7.30,7.30,7.40,6.50,9.40,-1.35,2025-10-24\n",
      "ASK,8.05,8.05,8.20,6.20,12.60,-1.23,2025-10-24\n",
      "ASP,2.22,2.20,2.24,1.81,2.80,0.0,2025-10-24\n",
      "ASW,6.20,6.15,6.20,4.90,8.20,0.0,2025-10-24\n",
      "AWC,2.18,2.16,2.22,1.55,3.80,-0.91,2025-10-24\n",
      "BA,12.90,12.80,13.40,10.60,26.00,-3.01,2025-10-24\n",
      "BAM,6.80,6.75,7.05,5.35,9.35,-2.86,2025-10-24\n",
      "BANPU,4.44,4.40,4.48,4.00,6.45,1.37,2025-10-24\n",
      "BAY,24.60,24.30,24.70,20.70,25.50,1.23,2025-10-24\n",
      "BBL,162.50,160.00,163.00,131.00,161.50,1.88,2025-10-24\n",
      "BCH,11.40,11.20,11.70,11.50,18.60,-0.87,2025-10-24\n",
      "BCP,30.25,29.75,30.50,26.50,41.00,3.42,2025-10-24\n",
      "BCPG,8.60,8.60,8.95,5.05,9.60,-2.27,2025-10-24\n",
      "BCT,50.75,49.50,50.75,43.50,76.00,-1.93,2025-10-24\n",
      "BDMS,19.70,19.70,20.10,19.60,28.75,-1.99,2025-10-24\n",
      "BE8,5.60,5.60,5.75,5.20,19.30,0.0,2025-10-24\n",
      "BEAUTY,0.53,0.49,0.54,0.19,0.68,8.16,2025-10-24\n",
      "BEC,1.97,1.97,2.02,1.79,4.28,-1.5,2025-10-24\n",
      "BEM,5.10,5.10,5.15,4.56,8.05,0.0,2025-10-24\n",
      "BGC,4.60,4.58,4.62,4.54,7.90,-0.43,2025-10-24\n",
      "BGRIM,16.20,16.00,16.60,8.90,23.40,2.53,2025-10-24\n",
      "BH,179.00,178.50,182.50,130.00,278.00,-1.1,2025-10-24\n",
      "BJC,19.30,19.30,19.80,16.50,25.00,-2.03,2025-10-24\n",
      "BKIH,305.00,305.00,307.00,271.00,310.00,-0.65,2025-10-24\n",
      "BLA,18.60,18.40,18.70,14.00,25.75,0.54,2025-10-24\n",
      "BLAND,0.49,0.49,0.50,0.38,0.63,-2.0,2025-10-24\n",
      "BPP,10.40,10.40,10.70,6.20,12.80,-1.89,2025-10-24\n",
      "BTS,2.90,2.88,2.96,2.80,6.40,-1.36,2025-10-24\n",
      "BTSGIF,2.66,2.64,2.66,2.46,3.26,0.76,2025-10-24\n",
      "CBG,45.25,44.50,45.50,44.00,82.00,2.26,2025-10-24\n",
      "CENTEL,32.00,31.75,32.50,19.40,38.50,-0.78,2025-10-24\n",
      "CHG,1.54,1.54,1.59,1.39,2.94,-0.65,2025-10-24\n",
      "CK,15.40,15.40,15.70,10.20,20.00,-0.65,2025-10-24\n",
      "CKP,2.62,2.56,2.66,2.10,3.74,1.55,2025-10-24\n",
      "COM7,26.00,25.75,26.50,16.70,28.25,-0.95,2025-10-24\n",
      "CPALL,48.25,47.75,48.50,41.50,66.00,1.05,2025-10-24\n",
      "CPF,21.70,21.40,22.10,19.80,26.50,-1.36,2025-10-24\n",
      "CPN,55.25,54.50,55.75,41.00,66.25,0.91,2025-10-24\n",
      "CPNCG,6.20,6.15,6.20,5.75,6.50,0.81,2025-10-24\n",
      "CPNREIT,11.60,11.50,11.60,10.20,12.60,0.0,2025-10-24\n",
      "CRC,20.60,20.60,20.90,15.80,36.00,-1.44,2025-10-24\n",
      "DCC,1.34,1.33,1.36,1.18,1.96,-0.74,2025-10-24\n",
      "DCON,0.24,0.24,0.25,0.23,0.34,0.0,2025-10-24\n",
      "DELTA,205.00,197.50,207.00,51.25,202.00,2.76,2025-10-24\n",
      "DIF,9.30,9.20,9.30,7.35,9.50,0.54,2025-10-24\n",
      "DOHOME,4.08,4.04,4.20,2.26,10.12,-0.97,2025-10-24\n",
      "DRT,5.30,5.20,5.30,4.42,8.00,0.95,2025-10-24\n",
      "EA,3.20,3.18,3.24,1.73,5.70,0.0,2025-10-24\n",
      "EASTW,2.66,2.64,2.72,1.57,3.30,0.0,2025-10-24\n",
      "EGATIF,6.05,6.00,6.05,5.75,6.15,0.0,2025-10-24\n",
      "EGCO,129.00,127.50,130.00,85.00,143.00,0.0,2025-10-24\n",
      "EPG,2.90,2.88,3.04,2.12,5.05,-3.97,2025-10-24\n",
      "FORTH,7.10,7.10,7.25,6.05,13.40,-1.39,2025-10-24\n",
      "FPT,6.50,6.20,6.65,5.85,13.40,-1.52,2025-10-24\n",
      "FSMART,7.65,7.65,7.90,5.35,9.85,-2.55,2025-10-24\n",
      "FTREIT,10.10,10.10,10.40,8.60,10.80,-1.94,2025-10-24\n",
      "GC,3.96,3.92,3.96,3.40,5.10,0.51,2025-10-24\n",
      "GFPT,10.40,10.30,10.50,8.00,11.70,0.97,2025-10-24\n",
      "GGC,3.70,3.70,3.70,3.20,5.45,0.0,2025-10-24\n",
      "GLOBAL,7.55,7.50,8.15,4.16,15.99,-7.93,2025-10-24\n",
      "GPSC,42.25,42.00,43.00,22.40,46.25,0.6,2025-10-24\n",
      "GRAMMY,4.56,4.36,4.56,4.20,8.45,5.07,2025-10-24\n",
      "GUNKUL,2.12,2.10,2.14,1.31,2.84,0.0,2025-10-24\n",
      "GVREIT,6.50,6.45,6.50,6.15,6.95,0.78,2025-10-24\n",
      "HANA,23.80,23.80,24.30,14.00,40.50,0.42,2025-10-24\n",
      "HFT,3.62,3.60,3.72,3.32,4.64,-1.63,2025-10-24\n",
      "HMPRO,6.90,6.85,7.05,5.70,10.20,-1.43,2025-10-24\n",
      "HTC,14.70,14.60,14.80,14.50,17.40,0.68,2025-10-24\n",
      "ICHI,12.50,12.40,12.60,9.40,16.60,0.0,2025-10-24\n",
      "III,4.58,4.58,4.62,4.18,6.40,-1.29,2025-10-24\n",
      "ILM,14.80,14.70,15.00,11.50,17.90,-0.67,2025-10-24\n",
      "IMH,3.88,3.82,3.90,3.50,5.45,-1.52,2025-10-24\n",
      "IMPACT,10.10,10.00,10.10,9.25,11.90,0.0,2025-10-24\n",
      "INOX,0.40,0.40,0.41,0.35,0.58,0.0,2025-10-24\n",
      "IP,3.86,3.72,3.86,2.02,4.54,3.21,2025-10-24\n",
      "IRPC,1.14,1.13,1.16,0.70,1.54,1.79,2025-10-24\n",
      "IVL,21.00,20.70,21.10,16.90,27.50,1.45,2025-10-24\n",
      "3BBIF,6.60,6.60,6.65,5.00,6.85,0.0,2025-10-24\n",
      "JMART,8.10,8.10,8.35,5.20,15.70,-2.41,2025-10-24\n",
      "JMT,10.00,10.00,10.30,7.35,20.40,-2.91,2025-10-24\n",
      "KBANK,183.00,182.50,185.50,145.00,182.00,1.39,2025-10-24\n",
      "KCE,25.75,25.50,26.50,13.70,38.75,0.0,2025-10-24\n",
      "KGI,3.94,3.92,3.94,3.40,4.48,0.51,2025-10-24\n",
      "KKP,65.00,65.00,66.75,43.50,66.75,-1.14,2025-10-24\n",
      "KSL,1.37,1.36,1.38,1.25,2.10,-0.72,2025-10-24\n",
      "KTB,27.25,26.75,27.50,19.70,27.00,1.87,2025-10-24\n",
      "KTC,29.75,29.75,30.25,21.80,52.25,-0.83,2025-10-24\n",
      "KYE,286.00,286.00,287.00,280.00,324.00,0.35,2025-10-24\n",
      "LALIN,5.05,4.98,5.05,4.80,6.55,0.0,2025-10-24\n",
      "LANNA,15.40,15.20,15.40,14.10,17.10,1.32,2025-10-24\n",
      "LH,3.94,3.88,3.98,3.18,6.00,1.03,2025-10-24\n",
      "LHFG,0.78,0.78,0.79,0.72,0.86,-1.27,2025-10-24\n",
      "LHK,3.50,3.48,3.50,3.02,3.96,0.57,2025-10-24\n",
      "LIT,0.62,0.60,0.63,0.39,1.13,1.64,2025-10-24\n",
      "LPH,3.68,3.66,3.70,3.20,4.58,0.0,2025-10-24\n",
      "LPN,1.67,1.66,1.68,1.61,3.24,-0.6,2025-10-24\n",
      "M,31.75,31.75,33.50,13.80,35.25,-4.51,2025-10-24\n",
      "MAJOR,7.25,7.05,7.45,7.15,15.60,-2.03,2025-10-24\n",
      "MBAX,1.38,1.36,1.39,1.17,2.94,-0.72,2025-10-24\n",
      "MC,11.20,11.10,11.30,9.15,12.90,0.9,2025-10-24\n",
      "MCS,8.25,8.15,8.25,5.80,9.20,0.61,2025-10-24\n",
      "MEGA,29.00,28.75,29.25,24.30,40.00,0.0,2025-10-24\n",
      "MINT,22.90,22.80,23.10,21.70,29.50,-0.43,2025-10-24\n",
      "MST,6.95,6.95,7.05,5.50,10.30,0.72,2025-10-24\n",
      "MTC,42.00,41.50,42.25,33.75,53.50,1.2,2025-10-24\n",
      "NER,4.14,4.10,4.16,3.88,5.10,0.49,2025-10-24\n",
      "NOBLE,2.18,2.16,2.20,1.60,3.14,0.93,2025-10-24\n",
      "ONEE,1.98,1.98,2.04,1.99,4.68,-1.0,2025-10-24\n",
      "OR,13.90,13.90,14.10,10.10,16.10,0.72,2025-10-24\n",
      "ORI,2.30,2.30,2.38,1.50,4.86,-2.54,2025-10-24\n",
      "OSP,16.60,16.10,16.70,12.90,22.10,2.47,2025-10-24\n",
      "PAP,1.90,1.89,1.90,1.31,2.36,0.53,2025-10-24\n",
      "PCSGH,3.00,3.00,3.02,2.46,4.66,0.0,2025-10-24\n",
      "PDG,2.78,2.78,2.82,2.36,2.88,-1.42,2025-10-24\n",
      "PLANB,4.26,4.10,4.30,4.02,7.65,2.9,2025-10-24\n",
      "POPF,6.40,6.40,6.45,5.40,6.70,-0.78,2025-10-24\n",
      "PREB,3.62,3.54,3.62,3.34,5.25,0.56,2025-10-24\n",
      "PRM,6.40,6.35,6.50,5.10,9.30,0.0,2025-10-24\n",
      "PSH,3.84,3.82,3.90,3.66,9.10,0.0,2025-10-24\n",
      "PSL,6.85,6.85,7.00,4.96,8.65,-0.72,2025-10-24\n",
      "PTG,8.50,8.45,8.75,5.45,9.80,-2.86,2025-10-24\n",
      "PTL,9.80,9.75,10.00,9.20,14.50,0.0,2025-10-24\n",
      "PTT,31.75,31.00,31.75,27.00,34.50,2.42,2025-10-24\n",
      "PTTEP,111.50,110.50,112.00,93.00,133.00,3.24,2025-10-24\n",
      "PTTGC,24.10,23.80,24.40,14.20,28.75,0.84,2025-10-24\n",
      "QH,1.26,1.24,1.27,1.15,1.89,1.61,2025-10-24\n",
      "RATCH,28.00,28.00,28.25,22.50,33.50,-0.88,2025-10-24\n",
      "RBF,3.76,3.76,3.84,3.04,7.40,-2.08,2025-10-24\n",
      "RCL,25.75,25.50,26.25,18.20,31.75,-0.96,2025-10-24\n",
      "RJH,13.00,13.00,13.20,11.50,26.25,0.0,2025-10-24\n",
      "ROJNA,4.30,4.26,4.36,4.14,7.50,-0.46,2025-10-24\n",
      "RS,0.23,0.23,0.24,0.19,6.30,0.0,2025-10-24\n",
      "S11,3.22,3.14,3.28,1.86,3.70,0.63,2025-10-24\n",
      "SAPPE,36.50,35.75,36.50,27.50,83.00,0.69,2025-10-24\n",
      "SAT,13.20,13.20,13.50,9.95,13.90,-0.75,2025-10-24\n",
      "SAWAD,29.50,29.25,29.75,14.80,40.00,1.72,2025-10-24\n",
      "SC,1.70,1.69,1.73,1.40,3.04,-0.58,2025-10-24\n",
      "SCB,133.50,133.00,135.50,111.00,135.50,0.0,2025-10-24\n",
      "SCC,209.00,207.00,211.00,124.50,231.00,1.46,2025-10-24\n",
      "SCCC,142.00,141.50,143.00,138.50,169.00,0.0,2025-10-24\n",
      "SCGP,18.30,18.20,18.50,10.70,27.00,0.55,2025-10-24\n",
      "SENA,1.86,1.85,1.89,1.54,2.38,-1.59,2025-10-24\n",
      "SGP,6.60,6.50,6.60,5.00,7.50,0.0,2025-10-24\n",
      "SINGER,6.15,6.15,6.25,3.92,11.20,-1.6,2025-10-24\n",
      "SIRI,1.41,1.41,1.44,1.11,1.87,-0.7,2025-10-24\n",
      "SIS,19.20,19.10,19.40,17.60,31.25,0.0,2025-10-24\n",
      "SJWD,8.25,8.25,8.40,5.75,12.40,-0.6,2025-10-24\n",
      "SKN,5.80,5.80,5.80,5.05,6.40,0.0,2025-10-24\n",
      "SKR,7.85,7.80,7.90,6.20,9.80,-1.26,2025-10-24\n",
      "SMPC,8.95,8.80,9.00,7.80,9.95,1.7,2025-10-24\n",
      "SNC,5.95,5.90,6.05,4.96,7.35,-1.65,2025-10-24\n",
      "SPALI,17.50,17.30,17.60,13.20,20.40,1.16,2025-10-24\n",
      "SPC,57.75,57.75,58.00,53.00,60.75,-0.43,2025-10-24\n",
      "SPCG,8.25,8.10,8.25,6.60,8.90,-0.6,2025-10-24\n",
      "SPRC,4.78,4.68,4.82,4.26,7.20,3.91,2025-10-24\n",
      "SPRIME,3.48,3.48,3.50,3.00,4.28,-0.57,2025-10-24\n",
      "SSP,3.44,3.40,3.48,3.40,5.90,-1.15,2025-10-24\n",
      "STA,12.00,11.80,12.00,10.30,21.50,0.84,2025-10-24\n",
      "STANLY,181.50,181.50,182.00,176.00,225.00,0.28,2025-10-24\n",
      "STGT,6.70,6.70,6.75,5.10,11.40,0.0,2025-10-24\n",
      "SUPER,0.13,0.12,0.14,0.12,0.29,0.0,2025-10-24\n",
      "SUPEREIF,5.35,5.35,5.40,4.72,6.95,-0.93,2025-10-24\n",
      "SVI,6.05,6.00,6.05,5.55,9.40,0.83,2025-10-24\n",
      "SYNEX,10.50,10.50,10.70,9.30,16.70,-0.94,2025-10-24\n",
      "TASCO,13.90,13.90,14.10,13.20,20.00,-0.71,2025-10-24\n",
      "TCAP,52.25,52.00,52.50,44.25,53.00,0.97,2025-10-24\n",
      "TFFIF,6.05,6.05,6.10,5.25,6.60,-0.82,2025-10-24\n",
      "TFG,4.62,4.60,4.70,3.02,6.10,-0.86,2025-10-24\n",
      "THANI,1.57,1.57,1.60,1.15,2.12,-1.26,2025-10-24\n",
      "THG,8.45,8.25,8.70,6.15,18.41,-2.87,2025-10-24\n",
      "TIPH,21.70,21.60,21.90,16.70,27.50,-0.91,2025-10-24\n",
      "TIPCO,8.00,7.90,8.10,7.95,10.40,-1.23,2025-10-24\n",
      "TISCO,108.00,107.00,108.50,95.00,109.00,0.47,2025-10-24\n",
      "TK,4.52,4.46,4.52,3.28,4.98,0.0,2025-10-24\n",
      "TKN,5.20,5.20,5.30,5.00,11.30,0.0,2025-10-24\n",
      "TKS,5.45,5.45,5.60,4.90,7.25,-1.8,2025-10-24\n",
      "TMT,3.02,2.96,3.02,2.60,4.34,0.67,2025-10-24\n",
      "TMW,50.75,49.75,50.75,47.00,66.75,1.0,2025-10-24\n",
      "TOA,12.50,12.20,12.60,9.35,18.60,1.63,2025-10-24\n",
      "TOP,37.00,36.75,37.50,21.00,47.00,2.78,2025-10-24\n",
      "TPIPL,0.72,0.71,0.73,0.69,1.17,0.0,2025-10-24\n",
      "TPIPP,2.08,2.08,2.10,1.99,3.08,0.0,2025-10-24\n",
      "TQM,12.70,12.60,12.80,12.20,26.25,0.0,2025-10-24\n",
      "TRUE,11.40,11.20,11.50,10.10,13.30,1.79,2025-10-24\n",
      "TSE,0.48,0.47,0.49,0.29,1.03,0.0,2025-10-24\n",
      "TSTH,0.74,0.74,0.77,0.47,0.93,-3.9,2025-10-24\n",
      "TTA,4.48,4.42,4.52,3.22,6.30,1.82,2025-10-24\n",
      "TTB,1.88,1.86,1.89,1.72,2.02,1.08,2025-10-24\n",
      "TTLPF,10.60,10.50,10.60,10.30,15.80,0.0,2025-10-24\n",
      "TTW,9.00,8.95,9.00,8.45,9.25,0.0,2025-10-24\n",
      "TU,12.90,12.80,13.10,8.60,15.50,0.78,2025-10-24\n",
      "TVO,24.00,23.80,24.30,19.70,26.00,-0.41,2025-10-24\n",
      "TYCN,1.74,1.66,1.79,1.62,2.22,2.96,2025-10-24\n",
      "UTP,7.65,7.65,7.75,7.20,10.90,-1.29,2025-10-24\n",
      "VGI,1.30,1.28,1.36,1.21,3.68,-4.41,2025-10-24\n",
      "VIBHA,1.46,1.46,1.48,1.37,2.12,-0.68,2025-10-24\n",
      "VNG,2.00,2.00,2.08,1.89,3.56,-2.91,2025-10-24\n",
      "WHA,3.50,3.46,3.56,2.26,6.20,-0.57,2025-10-24\n",
      "WHAIR,5.95,5.95,6.05,4.12,6.75,-0.83,2025-10-24\n",
      "WHART,9.65,9.65,9.75,8.55,10.50,-0.52,2025-10-24\n",
      "WHAUP,4.08,4.06,4.14,2.76,5.45,-0.49,2025-10-24\n",
      "WICE,2.78,2.78,2.82,2.34,6.05,-1.42,2025-10-24\n",
      "WORK,4.20,4.20,4.22,3.82,9.00,0.0,2025-10-24\n"
     ]
    }
   ],
   "source": [
    "df = pd.read_csv(input_file, header=None)\n",
    "out_df = get_stock_data(df)"
   ]
  },
  {
   "cell_type": "code",
   "execution_count": 13,
   "id": "d31edacf",
   "metadata": {},
   "outputs": [
    {
     "name": "stdout",
     "output_type": "stream",
     "text": [
      "End at:  08:30 PM\n"
     ]
    }
   ],
   "source": [
    "end_time = strftime(\"%I:%M %p\")\n",
    "print('End at: ', end_time)"
   ]
  },
  {
   "cell_type": "code",
   "execution_count": 14,
   "id": "b89c4ae7",
   "metadata": {},
   "outputs": [
    {
     "data": {
      "text/html": [
       "<div>\n",
       "<style scoped>\n",
       "    .dataframe tbody tr th:only-of-type {\n",
       "        vertical-align: middle;\n",
       "    }\n",
       "\n",
       "    .dataframe tbody tr th {\n",
       "        vertical-align: top;\n",
       "    }\n",
       "\n",
       "    .dataframe thead th {\n",
       "        text-align: right;\n",
       "    }\n",
       "</style>\n",
       "<table border=\"1\" class=\"dataframe\">\n",
       "  <thead>\n",
       "    <tr style=\"text-align: right;\">\n",
       "      <th></th>\n",
       "      <th>name</th>\n",
       "      <th>price</th>\n",
       "      <th>today_low</th>\n",
       "      <th>today_high</th>\n",
       "      <th>year_low</th>\n",
       "      <th>year_high</th>\n",
       "      <th>percent</th>\n",
       "      <th>updated_at</th>\n",
       "    </tr>\n",
       "  </thead>\n",
       "  <tbody>\n",
       "  </tbody>\n",
       "</table>\n",
       "</div>"
      ],
      "text/plain": [
       "Empty DataFrame\n",
       "Columns: [name, price, today_low, today_high, year_low, year_high, percent, updated_at]\n",
       "Index: []"
      ]
     },
     "execution_count": 14,
     "metadata": {},
     "output_type": "execute_result"
    }
   ],
   "source": [
    "out_df.query('price == \"-\"')"
   ]
  },
  {
   "cell_type": "code",
   "execution_count": 15,
   "id": "784f1b6d",
   "metadata": {},
   "outputs": [
    {
     "data": {
      "text/plain": [
       "(215, 8)"
      ]
     },
     "execution_count": 15,
     "metadata": {},
     "output_type": "execute_result"
    }
   ],
   "source": [
    "out_df.shape"
   ]
  },
  {
   "cell_type": "code",
   "execution_count": 16,
   "id": "6326d0c5",
   "metadata": {},
   "outputs": [],
   "source": [
    "out_df = out_df[out_df['name'] != 'BCT']"
   ]
  },
  {
   "cell_type": "code",
   "execution_count": 17,
   "id": "2a293f55-436e-45d1-9966-50d12c26e659",
   "metadata": {},
   "outputs": [],
   "source": [
    "out_df = out_df[out_df['name'] != 'LPF']"
   ]
  },
  {
   "cell_type": "code",
   "execution_count": 18,
   "id": "cc4b3547-5ea9-4ac6-bd11-896e67d464ed",
   "metadata": {},
   "outputs": [],
   "source": [
    "out_df = out_df[out_df['name'] != 'TYCN']"
   ]
  },
  {
   "cell_type": "code",
   "execution_count": 19,
   "id": "865622c2-dad3-4ba8-b35a-898461fe5e9a",
   "metadata": {},
   "outputs": [],
   "source": [
    "out_df = out_df[out_df['name'] != 'GRAMMY']"
   ]
  },
  {
   "cell_type": "code",
   "execution_count": 20,
   "id": "cb2d763d-5b75-4ace-b87a-f165c8e6cb91",
   "metadata": {},
   "outputs": [],
   "source": [
    "out_df = out_df[out_df['name'] != 'MST']"
   ]
  },
  {
   "cell_type": "code",
   "execution_count": 21,
   "id": "e65305f0-157a-4129-a758-15c02e8df06a",
   "metadata": {},
   "outputs": [],
   "source": [
    "out_df = out_df[out_df['name'] != 'SPC']"
   ]
  },
  {
   "cell_type": "code",
   "execution_count": 22,
   "id": "cb55b5f6-0679-4191-aeda-ab0cf45f18e7",
   "metadata": {},
   "outputs": [],
   "source": [
    "out_df = out_df[out_df['name'] != 'SPRIME']"
   ]
  },
  {
   "cell_type": "code",
   "execution_count": 23,
   "id": "981854f1-01a1-4e26-b2a9-4f58948a33ec",
   "metadata": {},
   "outputs": [],
   "source": [
    "out_df = out_df[out_df['name'] != 'FPT']"
   ]
  },
  {
   "cell_type": "code",
   "execution_count": 24,
   "id": "a2833967-e889-4ad5-97b2-8234ba35c31c",
   "metadata": {},
   "outputs": [],
   "source": [
    "out_df = out_df[out_df['name'] != 'GGC']"
   ]
  },
  {
   "cell_type": "code",
   "execution_count": 25,
   "id": "40da6b49-9c79-425a-9cae-a6608c2062a4",
   "metadata": {},
   "outputs": [],
   "source": [
    "out_df = out_df[out_df['name'] != 'SKN']"
   ]
  },
  {
   "cell_type": "code",
   "execution_count": 26,
   "id": "390bf9c1-c27e-4f76-b69c-4a64e6f8f737",
   "metadata": {},
   "outputs": [],
   "source": [
    "out_df = out_df[out_df['name'] != 'KYE']"
   ]
  },
  {
   "cell_type": "code",
   "execution_count": 27,
   "id": "8dbd83e7-d113-4560-bce3-adbaf3b8bb95",
   "metadata": {},
   "outputs": [],
   "source": [
    "out_df = out_df[out_df['name'] != 'PDG']"
   ]
  },
  {
   "cell_type": "code",
   "execution_count": 28,
   "id": "8f023784-0f5a-485e-99ff-69ebda4061be",
   "metadata": {},
   "outputs": [],
   "source": [
    "out_df = out_df[out_df['name'] != 'PREB']"
   ]
  },
  {
   "cell_type": "code",
   "execution_count": 29,
   "id": "b2771ed1",
   "metadata": {},
   "outputs": [
    {
     "data": {
      "text/plain": [
       "(203, 8)"
      ]
     },
     "execution_count": 29,
     "metadata": {},
     "output_type": "execute_result"
    }
   ],
   "source": [
    "out_df.shape"
   ]
  },
  {
   "cell_type": "code",
   "execution_count": 30,
   "id": "eb2ffec6",
   "metadata": {},
   "outputs": [],
   "source": [
    "out_df['price'] = out_df['price'].astype('float')\n",
    "out_df['today_low'] = out_df['today_low'].astype('float')\n",
    "out_df['today_high'] = out_df['today_high'].astype('float')\n",
    "out_df['year_low'] = out_df['year_low'].astype('float')\n",
    "out_df['year_high'] = out_df['year_high'].astype('float')\n",
    "out_df['percent'] = out_df['percent'].astype('float')"
   ]
  },
  {
   "cell_type": "code",
   "execution_count": 31,
   "id": "f4fb1a3c",
   "metadata": {},
   "outputs": [],
   "source": [
    "sorted_out_df = out_df.sort_values('percent')"
   ]
  },
  {
   "cell_type": "code",
   "execution_count": 32,
   "id": "032f0eea",
   "metadata": {},
   "outputs": [
    {
     "data": {
      "text/html": [
       "<div>\n",
       "<style scoped>\n",
       "    .dataframe tbody tr th:only-of-type {\n",
       "        vertical-align: middle;\n",
       "    }\n",
       "\n",
       "    .dataframe tbody tr th {\n",
       "        vertical-align: top;\n",
       "    }\n",
       "\n",
       "    .dataframe thead th {\n",
       "        text-align: right;\n",
       "    }\n",
       "</style>\n",
       "<table border=\"1\" class=\"dataframe\">\n",
       "  <thead>\n",
       "    <tr style=\"text-align: right;\">\n",
       "      <th></th>\n",
       "      <th>name</th>\n",
       "      <th>price</th>\n",
       "      <th>today_low</th>\n",
       "      <th>today_high</th>\n",
       "      <th>year_low</th>\n",
       "      <th>year_high</th>\n",
       "      <th>percent</th>\n",
       "      <th>updated_at</th>\n",
       "    </tr>\n",
       "  </thead>\n",
       "  <tbody>\n",
       "    <tr>\n",
       "      <th>109</th>\n",
       "      <td>MAJOR</td>\n",
       "      <td>7.25</td>\n",
       "      <td>7.05</td>\n",
       "      <td>7.45</td>\n",
       "      <td>7.15</td>\n",
       "      <td>15.60</td>\n",
       "      <td>-2.03</td>\n",
       "      <td>2025-10-24</td>\n",
       "    </tr>\n",
       "    <tr>\n",
       "      <th>183</th>\n",
       "      <td>TIPCO</td>\n",
       "      <td>8.00</td>\n",
       "      <td>7.90</td>\n",
       "      <td>8.10</td>\n",
       "      <td>7.95</td>\n",
       "      <td>10.40</td>\n",
       "      <td>-1.23</td>\n",
       "      <td>2025-10-24</td>\n",
       "    </tr>\n",
       "    <tr>\n",
       "      <th>119</th>\n",
       "      <td>ONEE</td>\n",
       "      <td>1.98</td>\n",
       "      <td>1.98</td>\n",
       "      <td>2.04</td>\n",
       "      <td>1.99</td>\n",
       "      <td>4.68</td>\n",
       "      <td>-1.00</td>\n",
       "      <td>2025-10-24</td>\n",
       "    </tr>\n",
       "    <tr>\n",
       "      <th>22</th>\n",
       "      <td>BCH</td>\n",
       "      <td>11.40</td>\n",
       "      <td>11.20</td>\n",
       "      <td>11.70</td>\n",
       "      <td>11.50</td>\n",
       "      <td>18.60</td>\n",
       "      <td>-0.87</td>\n",
       "      <td>2025-10-24</td>\n",
       "    </tr>\n",
       "  </tbody>\n",
       "</table>\n",
       "</div>"
      ],
      "text/plain": [
       "      name  price  today_low  today_high  year_low  year_high  percent  \\\n",
       "109  MAJOR   7.25       7.05        7.45      7.15      15.60    -2.03   \n",
       "183  TIPCO   8.00       7.90        8.10      7.95      10.40    -1.23   \n",
       "119   ONEE   1.98       1.98        2.04      1.99       4.68    -1.00   \n",
       "22     BCH  11.40      11.20       11.70     11.50      18.60    -0.87   \n",
       "\n",
       "     updated_at  \n",
       "109  2025-10-24  \n",
       "183  2025-10-24  \n",
       "119  2025-10-24  \n",
       "22   2025-10-24  "
      ]
     },
     "execution_count": 32,
     "metadata": {},
     "output_type": "execute_result"
    }
   ],
   "source": [
    "sorted_out_df.query('today_low < year_low')"
   ]
  },
  {
   "cell_type": "code",
   "execution_count": 33,
   "id": "8e04b03d",
   "metadata": {},
   "outputs": [
    {
     "data": {
      "text/html": [
       "<div>\n",
       "<style scoped>\n",
       "    .dataframe tbody tr th:only-of-type {\n",
       "        vertical-align: middle;\n",
       "    }\n",
       "\n",
       "    .dataframe tbody tr th {\n",
       "        vertical-align: top;\n",
       "    }\n",
       "\n",
       "    .dataframe thead th {\n",
       "        text-align: right;\n",
       "    }\n",
       "</style>\n",
       "<table border=\"1\" class=\"dataframe\">\n",
       "  <thead>\n",
       "    <tr style=\"text-align: right;\">\n",
       "      <th></th>\n",
       "      <th>name</th>\n",
       "      <th>price</th>\n",
       "      <th>today_low</th>\n",
       "      <th>today_high</th>\n",
       "      <th>year_low</th>\n",
       "      <th>year_high</th>\n",
       "      <th>percent</th>\n",
       "      <th>updated_at</th>\n",
       "    </tr>\n",
       "  </thead>\n",
       "  <tbody>\n",
       "    <tr>\n",
       "      <th>92</th>\n",
       "      <td>KBANK</td>\n",
       "      <td>183.00</td>\n",
       "      <td>182.50</td>\n",
       "      <td>185.5</td>\n",
       "      <td>145.00</td>\n",
       "      <td>182.0</td>\n",
       "      <td>1.39</td>\n",
       "      <td>2025-10-24</td>\n",
       "    </tr>\n",
       "    <tr>\n",
       "      <th>1</th>\n",
       "      <td>ADVANC</td>\n",
       "      <td>308.00</td>\n",
       "      <td>303.00</td>\n",
       "      <td>313.0</td>\n",
       "      <td>259.00</td>\n",
       "      <td>309.0</td>\n",
       "      <td>1.65</td>\n",
       "      <td>2025-10-24</td>\n",
       "    </tr>\n",
       "    <tr>\n",
       "      <th>97</th>\n",
       "      <td>KTB</td>\n",
       "      <td>27.25</td>\n",
       "      <td>26.75</td>\n",
       "      <td>27.5</td>\n",
       "      <td>19.70</td>\n",
       "      <td>27.0</td>\n",
       "      <td>1.87</td>\n",
       "      <td>2025-10-24</td>\n",
       "    </tr>\n",
       "    <tr>\n",
       "      <th>21</th>\n",
       "      <td>BBL</td>\n",
       "      <td>162.50</td>\n",
       "      <td>160.00</td>\n",
       "      <td>163.0</td>\n",
       "      <td>131.00</td>\n",
       "      <td>161.5</td>\n",
       "      <td>1.88</td>\n",
       "      <td>2025-10-24</td>\n",
       "    </tr>\n",
       "    <tr>\n",
       "      <th>55</th>\n",
       "      <td>DELTA</td>\n",
       "      <td>205.00</td>\n",
       "      <td>197.50</td>\n",
       "      <td>207.0</td>\n",
       "      <td>51.25</td>\n",
       "      <td>202.0</td>\n",
       "      <td>2.76</td>\n",
       "      <td>2025-10-24</td>\n",
       "    </tr>\n",
       "  </tbody>\n",
       "</table>\n",
       "</div>"
      ],
      "text/plain": [
       "      name   price  today_low  today_high  year_low  year_high  percent  \\\n",
       "92   KBANK  183.00     182.50       185.5    145.00      182.0     1.39   \n",
       "1   ADVANC  308.00     303.00       313.0    259.00      309.0     1.65   \n",
       "97     KTB   27.25      26.75        27.5     19.70       27.0     1.87   \n",
       "21     BBL  162.50     160.00       163.0    131.00      161.5     1.88   \n",
       "55   DELTA  205.00     197.50       207.0     51.25      202.0     2.76   \n",
       "\n",
       "    updated_at  \n",
       "92  2025-10-24  \n",
       "1   2025-10-24  \n",
       "97  2025-10-24  \n",
       "21  2025-10-24  \n",
       "55  2025-10-24  "
      ]
     },
     "execution_count": 33,
     "metadata": {},
     "output_type": "execute_result"
    }
   ],
   "source": [
    "sorted_out_df.query('today_high > year_high')"
   ]
  },
  {
   "cell_type": "code",
   "execution_count": 34,
   "id": "290a9607",
   "metadata": {},
   "outputs": [
    {
     "data": {
      "text/html": [
       "<div>\n",
       "<style scoped>\n",
       "    .dataframe tbody tr th:only-of-type {\n",
       "        vertical-align: middle;\n",
       "    }\n",
       "\n",
       "    .dataframe tbody tr th {\n",
       "        vertical-align: top;\n",
       "    }\n",
       "\n",
       "    .dataframe thead th {\n",
       "        text-align: right;\n",
       "    }\n",
       "</style>\n",
       "<table border=\"1\" class=\"dataframe\">\n",
       "  <thead>\n",
       "    <tr style=\"text-align: right;\">\n",
       "      <th></th>\n",
       "      <th>name</th>\n",
       "      <th>price</th>\n",
       "      <th>today_low</th>\n",
       "      <th>today_high</th>\n",
       "      <th>year_low</th>\n",
       "      <th>year_high</th>\n",
       "      <th>percent</th>\n",
       "      <th>updated_at</th>\n",
       "    </tr>\n",
       "  </thead>\n",
       "  <tbody>\n",
       "    <tr>\n",
       "      <th>1</th>\n",
       "      <td>ADVANC</td>\n",
       "      <td>308.00</td>\n",
       "      <td>303.00</td>\n",
       "      <td>313.0</td>\n",
       "      <td>259.00</td>\n",
       "      <td>309.0</td>\n",
       "      <td>1.65</td>\n",
       "      <td>2025-10-24</td>\n",
       "    </tr>\n",
       "    <tr>\n",
       "      <th>21</th>\n",
       "      <td>BBL</td>\n",
       "      <td>162.50</td>\n",
       "      <td>160.00</td>\n",
       "      <td>163.0</td>\n",
       "      <td>131.00</td>\n",
       "      <td>161.5</td>\n",
       "      <td>1.88</td>\n",
       "      <td>2025-10-24</td>\n",
       "    </tr>\n",
       "    <tr>\n",
       "      <th>55</th>\n",
       "      <td>DELTA</td>\n",
       "      <td>205.00</td>\n",
       "      <td>197.50</td>\n",
       "      <td>207.0</td>\n",
       "      <td>51.25</td>\n",
       "      <td>202.0</td>\n",
       "      <td>2.76</td>\n",
       "      <td>2025-10-24</td>\n",
       "    </tr>\n",
       "    <tr>\n",
       "      <th>92</th>\n",
       "      <td>KBANK</td>\n",
       "      <td>183.00</td>\n",
       "      <td>182.50</td>\n",
       "      <td>185.5</td>\n",
       "      <td>145.00</td>\n",
       "      <td>182.0</td>\n",
       "      <td>1.39</td>\n",
       "      <td>2025-10-24</td>\n",
       "    </tr>\n",
       "    <tr>\n",
       "      <th>97</th>\n",
       "      <td>KTB</td>\n",
       "      <td>27.25</td>\n",
       "      <td>26.75</td>\n",
       "      <td>27.5</td>\n",
       "      <td>19.70</td>\n",
       "      <td>27.0</td>\n",
       "      <td>1.87</td>\n",
       "      <td>2025-10-24</td>\n",
       "    </tr>\n",
       "  </tbody>\n",
       "</table>\n",
       "</div>"
      ],
      "text/plain": [
       "      name   price  today_low  today_high  year_low  year_high  percent  \\\n",
       "1   ADVANC  308.00     303.00       313.0    259.00      309.0     1.65   \n",
       "21     BBL  162.50     160.00       163.0    131.00      161.5     1.88   \n",
       "55   DELTA  205.00     197.50       207.0     51.25      202.0     2.76   \n",
       "92   KBANK  183.00     182.50       185.5    145.00      182.0     1.39   \n",
       "97     KTB   27.25      26.75        27.5     19.70       27.0     1.87   \n",
       "\n",
       "    updated_at  \n",
       "1   2025-10-24  \n",
       "21  2025-10-24  \n",
       "55  2025-10-24  \n",
       "92  2025-10-24  \n",
       "97  2025-10-24  "
      ]
     },
     "execution_count": 34,
     "metadata": {},
     "output_type": "execute_result"
    }
   ],
   "source": [
    "out_df.query('today_high > year_high')"
   ]
  },
  {
   "cell_type": "code",
   "execution_count": 35,
   "id": "5fbeba56-2a63-4650-898b-6447a81f95f5",
   "metadata": {},
   "outputs": [],
   "source": [
    "file_name = \"Price-Hilo.csv\"\n",
    "output_file = os.path.join(dat_path, file_name)\n",
    "god_file = os.path.join(god_path, file_name)\n",
    "icd_file = os.path.join(icd_path, file_name)\n",
    "osd_file = os.path.join(osd_path, file_name)"
   ]
  },
  {
   "cell_type": "code",
   "execution_count": 36,
   "id": "da6183ac-2f05-4f67-b200-fe83634d29dc",
   "metadata": {},
   "outputs": [
    {
     "name": "stdout",
     "output_type": "stream",
     "text": [
      "output_file : C:\\Users\\PC1\\OneDrive\\A5\\Data\\Price-Hilo.csv\n",
      "icd_file : C:\\Users\\PC1\\iCloudDrive\\Data\\Price-Hilo.csv\n",
      "god_file : C:\\Users\\PC1\\OneDrive\\Imports\\santisoontarinka@gmail.com - Google Drive\\Data\\Price-Hilo.csv\n",
      "osd_file : C:\\Users\\PC1\\OneDrive\\Documents\\obsidian-git-sync\\Data\\Price-Hilo.csv\n"
     ]
    }
   ],
   "source": [
    "print(f\"output_file : {output_file}\") \n",
    "print(f\"icd_file : {icd_file}\") \n",
    "print(f\"god_file : {god_file}\") \n",
    "print(f\"osd_file : {osd_file}\") "
   ]
  },
  {
   "cell_type": "code",
   "execution_count": 37,
   "id": "8017b53b",
   "metadata": {},
   "outputs": [],
   "source": [
    "out_df.to_csv(output_file, index=False)  \n",
    "out_df.to_csv(god_file, index=False) \n",
    "out_df.to_csv(icd_file, index=False)  \n",
    "out_df.to_csv(osd_file, index=False) "
   ]
  },
  {
   "cell_type": "code",
   "execution_count": 38,
   "id": "80692fae-6308-4695-bcac-5124ce4d44e3",
   "metadata": {},
   "outputs": [
    {
     "name": "stdout",
     "output_type": "stream",
     "text": [
      "2025-10-24 20:30:39\n"
     ]
    }
   ],
   "source": [
    "# Get the current time\n",
    "current_time = datetime.now()\n",
    "# Format the time to remove milliseconds\n",
    "formatted_time = current_time.strftime(\"%Y-%m-%d %H:%M:%S\")\n",
    "print(formatted_time)"
   ]
  }
 ],
 "metadata": {
  "kernelspec": {
   "display_name": "Python 3 (ipykernel)",
   "language": "python",
   "name": "python3"
  },
  "language_info": {
   "codemirror_mode": {
    "name": "ipython",
    "version": 3
   },
   "file_extension": ".py",
   "mimetype": "text/x-python",
   "name": "python",
   "nbconvert_exporter": "python",
   "pygments_lexer": "ipython3",
   "version": "3.12.3"
  }
 },
 "nbformat": 4,
 "nbformat_minor": 5
}
