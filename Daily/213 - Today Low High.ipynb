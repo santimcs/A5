{
 "cells": [
  {
   "cell_type": "markdown",
   "id": "930356c6",
   "metadata": {},
   "source": [
    "### Start and Run All"
   ]
  },
  {
   "cell_type": "code",
   "execution_count": 2,
   "id": "d7cfc693",
   "metadata": {},
   "outputs": [
    {
     "name": "stdout",
     "output_type": "stream",
     "text": [
      "2025-09-09 20:13:55\n"
     ]
    }
   ],
   "source": [
    "import os\n",
    "import pandas as pd\n",
    "from urllib import request\n",
    "from bs4 import BeautifulSoup\n",
    "# from datetime import date, timedelta\n",
    "from datetime import datetime\n",
    "from time import sleep, strftime\n",
    "\n",
    "# Get the current time\n",
    "current_time = datetime.now()\n",
    "# Format the time to remove milliseconds\n",
    "formatted_time = current_time.strftime(\"%Y-%m-%d %H:%M:%S\")\n",
    "print(formatted_time)"
   ]
  },
  {
   "cell_type": "code",
   "execution_count": 3,
   "id": "0cbdda38-ec42-4470-bede-c468ba46f8d8",
   "metadata": {},
   "outputs": [],
   "source": [
    "url = \"https://www.set.or.th/en/market/product/stock/quote/\"\n",
    "percent_span = '' "
   ]
  },
  {
   "cell_type": "code",
   "execution_count": 4,
   "id": "6e4b7508-0071-480d-99c8-a6c070027294",
   "metadata": {},
   "outputs": [],
   "source": [
    "# Get the user's home directory\n",
    "user_path = os.path.expanduser('~')\n",
    "# Get the current working directory\n",
    "current_path = os.getcwd()\n",
    "# Derive the base directory (base_dir) by removing the last folder ('Daily')\n",
    "base_path = os.path.dirname(current_path)\n",
    "#C:\\Users\\PC1\\OneDrive\\A5\\Data\n",
    "dat_path = os.path.join(base_path, \"Data\")\n",
    "#C:\\Users\\PC1\\OneDrive\\Imports\\santisoontarinka@gmail.com - Google Drive\\Data>\n",
    "god_path = os.path.join(user_path, \"OneDrive\",\"Imports\",\"santisoontarinka@gmail.com - Google Drive\",\"Data\")\n",
    "#C:\\Users\\PC1\\iCloudDrive\\data\n",
    "icd_path = os.path.join(user_path, \"iCloudDrive\", \"Data\")\n",
    "#C:\\Users\\PC1\\OneDrive\\Documents\\obsidian-git-sync\\Data\n",
    "osd_path = os.path.join(user_path, \"OneDrive\",\"Documents\",\"obsidian-git-sync\",\"Data\")"
   ]
  },
  {
   "cell_type": "code",
   "execution_count": 5,
   "id": "07defeb3-a742-4e64-8089-7e4fe5b8b93c",
   "metadata": {},
   "outputs": [
    {
     "name": "stdout",
     "output_type": "stream",
     "text": [
      "User path: C:\\Users\\PC1\n",
      "Current path: C:\\Users\\PC1\\OneDrive\\A5\\Daily\n",
      "Base path: C:\\Users\\PC1\\OneDrive\\A5\n",
      "Data path : C:\\Users\\PC1\\OneDrive\\A5\\Data\n",
      "Google Drive path : C:\\Users\\PC1\\OneDrive\\Imports\\santisoontarinka@gmail.com - Google Drive\\Data\n",
      "iCloudDrive path : C:\\Users\\PC1\\iCloudDrive\\Data\n",
      "Obsidian path : C:\\Users\\PC1\\OneDrive\\Documents\\obsidian-git-sync\\Data\n"
     ]
    }
   ],
   "source": [
    "print(\"User path:\", user_path)\n",
    "print(f\"Current path: {current_path}\")\n",
    "print(f\"Base path: {base_path}\")\n",
    "print(f\"Data path : {dat_path}\") \n",
    "print(f\"Google Drive path : {god_path}\")\n",
    "print(f\"iCloudDrive path : {icd_path}\") \n",
    "print(f\"Obsidian path : {osd_path}\") "
   ]
  },
  {
   "cell_type": "code",
   "execution_count": 6,
   "id": "08576879-dc60-431b-a31a-e1893e2d7922",
   "metadata": {},
   "outputs": [
    {
     "name": "stdout",
     "output_type": "stream",
     "text": [
      "Input file : C:\\Users\\PC1\\OneDrive\\A5\\Data\\name-ttl.csv\n"
     ]
    }
   ],
   "source": [
    "file_name = \"name-ttl.csv\"\n",
    "input_file = os.path.join(dat_path, file_name)\n",
    "print(f\"Input file : {input_file}\") "
   ]
  },
  {
   "cell_type": "code",
   "execution_count": 7,
   "id": "9b9668db-0773-4de5-9bd4-864c377dab80",
   "metadata": {},
   "outputs": [],
   "source": [
    "file_name = \"price-hilo.csv\"\n",
    "output_file = os.path.join(dat_path, file_name)\n",
    "god_file = os.path.join(god_path, file_name)\n",
    "icd_file = os.path.join(icd_path, file_name)\n",
    "osd_file = os.path.join(osd_path, file_name)"
   ]
  },
  {
   "cell_type": "code",
   "execution_count": 8,
   "id": "66c38ef5-8643-4ad3-81ff-9e2275d426d5",
   "metadata": {},
   "outputs": [
    {
     "name": "stdout",
     "output_type": "stream",
     "text": [
      "Output file : C:\\Users\\PC1\\OneDrive\\A5\\Data\\price-hilo.csv\n",
      "icd_file : C:\\Users\\PC1\\iCloudDrive\\Data\\price-hilo.csv\n",
      "god_file : C:\\Users\\PC1\\OneDrive\\Imports\\santisoontarinka@gmail.com - Google Drive\\Data\\price-hilo.csv\n",
      "osd_file : C:\\Users\\PC1\\OneDrive\\Documents\\obsidian-git-sync\\Data\\price-hilo.csv\n"
     ]
    }
   ],
   "source": [
    "print(f\"Output file : {output_file}\") \n",
    "print(f\"icd_file : {icd_file}\") \n",
    "print(f\"god_file : {god_file}\") \n",
    "print(f\"osd_file : {osd_file}\")"
   ]
  },
  {
   "cell_type": "code",
   "execution_count": 9,
   "id": "c1ec2693",
   "metadata": {},
   "outputs": [],
   "source": [
    "def cvt_str_to_flt(input_str):\n",
    "    # Check for the special pattern and return 0\n",
    "    if input_str == '(-)':\n",
    "        return 0\n",
    "    \n",
    "    # Remove parentheses and percent sign\n",
    "    cleaned_str = input_str.replace('(', '').replace(')', '').replace('%', '')\n",
    "\n",
    "    # Convert to float\n",
    "    try:\n",
    "        return float(cleaned_str)\n",
    "    except ValueError:\n",
    "        # Handle the case where the conversion fails\n",
    "        return None\n",
    " "
   ]
  },
  {
   "cell_type": "code",
   "execution_count": 10,
   "id": "334bed1f",
   "metadata": {},
   "outputs": [],
   "source": [
    "def get_stock_data(in_df):\n",
    "\n",
    "    in_df.columns = ['name']\n",
    "    \n",
    "    output_columns = ['name', 'price', 'today_low', 'today_high', 'year_low', 'year_high', 'percent', 'updated_at']\n",
    "    # Initialize an empty DataFrame with specified columns\n",
    "    out_df = pd.DataFrame(columns=output_columns)\n",
    "    \n",
    "    for index, row in in_df.iterrows():\n",
    "        name = str(row['name']).upper()\n",
    "        response = request.urlopen(url + name + '/price')\n",
    "        html_page = BeautifulSoup(response, 'html.parser')\n",
    "        \n",
    "  #      price = html_page.find('div', class_='value text-white mb-0 me-2 lh-1 stock-info').text.strip()        \n",
    "  #      if (price == '-'):\n",
    "  #          price = '0.00'        \n",
    "\n",
    "        price_div = html_page.find('div', class_='value text-white mb-0 me-2 lh-1 stock-info')\n",
    "        if price_div:\n",
    "            price = price_div.text.strip()\n",
    "        else:\n",
    "            print(f\"Price div not found for {name}\")\n",
    "            price = '0.00'     \n",
    "            \n",
    "        # Try to find the <h3> tag with the class 'theme-success'\n",
    "        h3_tag = html_page.find('h3', class_='theme-success')\n",
    "        if h3_tag:\n",
    "        # Find all <span> tags within the found <h3> tag\n",
    "            span_tags = h3_tag.find_all('span')\n",
    "    \n",
    "            if len(span_tags) > 1:\n",
    "                # Extract the text from the second <span> tag\n",
    "                percent_span = span_tags[1].text\n",
    "                # print(percent_span)\n",
    "                \n",
    "        # Try to find the <h3> tag with the class 'theme-danger'\n",
    "        h3_tag = html_page.find('h3', class_='theme-danger')\n",
    "        if h3_tag:\n",
    "        # Find all <span> tags within the found <h3> tag\n",
    "            span_tags = h3_tag.find_all('span')\n",
    "    \n",
    "            if len(span_tags) > 1:\n",
    "                # Extract the text from the second <span> tag\n",
    "                percent_span = span_tags[1].text\n",
    "                # print(percent_span)    \n",
    "                \n",
    "        # Try to find the <h3> tag with the class 'theme-danger'\n",
    "        h3_tag = html_page.find('h3', class_='theme-normal')\n",
    "        if h3_tag:\n",
    "        # Find all <span> tags within the found <h3> tag\n",
    "            span_tags = h3_tag.find_all('span')\n",
    "    \n",
    "            if len(span_tags) > 1:\n",
    "                # Extract the text from the second <span> tag\n",
    "                percent_span = span_tags[1].text\n",
    "                # print(percent_span)   \n",
    "                \n",
    "        percent = cvt_str_to_flt(percent_span)\n",
    "                \n",
    "        values_low = html_page.find_all('span', class_='title-font-family fs-16px fw-bolder me-auto lh-1')\n",
    "        today_low = values_low[0].text\n",
    "        if (today_low == '-'):\n",
    "            today_low = '0.00'\n",
    "        \n",
    "        values_high = html_page.find_all('span', class_='title-font-family fs-16px fw-bolder lh-1')\n",
    "        today_high = values_high[0].text\n",
    "        if (today_high == '-'):\n",
    "            today_high = '0.00'         \n",
    "        \n",
    "        year_low = values_low[1].text        \n",
    "        year_high = values_high[1].text     \n",
    "        \n",
    "        # Find the div with the specific class, then find the span within it\n",
    "        div = html_page.find('div', class_='price-detail-date d-flex align-items-center text-nowrap fs-12px')\n",
    "        if div:\n",
    "            span = div.find('span')\n",
    "            if span:\n",
    "                text = span.get_text()\n",
    "#                 print(text)\n",
    "            else:\n",
    "                print(\"Span not found\")\n",
    "        else:\n",
    "            print(\"Div not found\")\n",
    "            \n",
    "        # Extract the date part from the string\n",
    "        # Assuming the date is always in the format 'dd Mon yyyy'\n",
    "        date_str = ' '.join(text.split()[2:5])\n",
    "\n",
    "        # Parse the date string into a datetime object\n",
    "        date_obj = datetime.strptime(date_str, '%d %b %Y')\n",
    "\n",
    "        # Format the datetime object to 'yyyy-mm-dd'\n",
    "        updated_at = date_obj.strftime('%Y-%m-%d')\n",
    "\n",
    "#         print(updated_at)\n",
    "        \n",
    "        # Append row to the DataFrame and print the row\n",
    "        out_df.loc[len(out_df)] = [name, price, today_low, today_high, year_low, year_high, percent, updated_at]\n",
    "#       print(out_df.iloc[-1].to_string(header=False, index=False)) \n",
    "        print(','.join(map(str, out_df.iloc[-1])))\n",
    "        sleep(2)\n",
    "        \n",
    "    return out_df  # return the final dataframe with all values populated"
   ]
  },
  {
   "cell_type": "code",
   "execution_count": 11,
   "id": "94abc8d4",
   "metadata": {},
   "outputs": [
    {
     "name": "stdout",
     "output_type": "stream",
     "text": [
      "Start at:  08:13 PM\n"
     ]
    }
   ],
   "source": [
    "start_time = strftime(\"%I:%M %p\")\n",
    "print('Start at: ', start_time)"
   ]
  },
  {
   "cell_type": "code",
   "execution_count": 12,
   "id": "23b565ec",
   "metadata": {
    "scrolled": true
   },
   "outputs": [
    {
     "name": "stdout",
     "output_type": "stream",
     "text": [
      "ACE,1.31,1.30,1.32,1.23,1.49,0.77,2025-09-09\n",
      "ADVANC,290.00,290.00,293.00,253.00,309.00,0.0,2025-09-09\n",
      "AEONTS,116.00,113.50,116.00,90.50,148.00,0.87,2025-09-09\n",
      "AH,14.50,14.40,14.60,10.00,23.20,0.0,2025-09-09\n",
      "AIE,1.12,1.12,1.14,0.72,1.80,-0.88,2025-09-09\n",
      "AIMIRT,9.80,9.70,9.80,9.20,11.20,1.03,2025-09-09\n",
      "AIT,4.96,4.94,5.00,3.92,5.30,-0.4,2025-09-09\n",
      "AJ,2.40,2.32,2.42,1.94,5.80,3.45,2025-09-09\n",
      "AMATA,16.90,16.60,17.00,11.20,31.00,0.6,2025-09-09\n",
      "ANAN,0.56,0.54,0.57,0.37,0.85,1.82,2025-09-09\n",
      "AOT,38.50,37.75,38.75,26.75,65.00,1.99,2025-09-09\n",
      "AP,8.10,8.00,8.20,5.60,10.50,0.0,2025-09-09\n",
      "ASIAN,7.25,7.20,7.30,6.50,9.55,0.69,2025-09-09\n",
      "ASK,8.15,8.05,8.20,6.20,15.30,0.62,2025-09-09\n",
      "ASP,2.78,2.68,2.80,1.81,2.74,2.21,2025-09-09\n",
      "ASW,5.20,5.00,5.20,4.90,8.20,0.0,2025-09-09\n",
      "AWC,2.38,2.34,2.42,1.55,3.94,0.0,2025-09-09\n",
      "BA,14.30,14.20,14.50,10.60,26.00,-0.69,2025-09-09\n",
      "BAM,8.40,8.30,8.45,5.35,10.20,1.2,2025-09-09\n",
      "BANPU,4.84,4.80,4.86,4.00,7.50,-2.42,2025-09-09\n",
      "BAY,24.00,23.90,24.20,20.70,29.00,0.0,2025-09-09\n",
      "BBL,152.50,152.50,153.50,131.00,161.50,-0.33,2025-09-09\n",
      "BCH,13.30,13.20,13.40,12.30,19.20,1.53,2025-09-09\n",
      "BCP,31.25,30.75,31.25,26.50,41.00,1.63,2025-09-09\n",
      "BCPG,8.40,8.25,8.45,5.05,8.95,1.2,2025-09-09\n",
      "BCT,47.75,47.75,47.75,43.50,76.75,0.53,2025-09-09\n",
      "BDMS,20.70,20.50,20.70,19.80,31.25,-0.48,2025-09-09\n",
      "BE8,6.40,6.30,6.45,5.20,21.20,2.4,2025-09-09\n",
      "BEAUTY,0.61,0.55,0.62,0.19,0.66,8.93,2025-09-09\n",
      "BEC,2.24,2.24,2.28,1.79,4.68,-0.88,2025-09-09\n",
      "BEM,5.55,5.45,5.75,4.56,8.30,0.91,2025-09-09\n",
      "BGC,4.76,4.68,4.80,4.54,7.90,1.71,2025-09-09\n",
      "BGRIM,13.50,13.00,13.70,8.90,24.80,5.47,2025-09-09\n",
      "BH,186.00,185.00,189.50,130.00,284.00,0.27,2025-09-09\n",
      "BJC,21.00,20.40,21.00,16.50,25.75,0.0,2025-09-09\n",
      "BKIH,290.00,289.00,290.00,271.00,316.00,0.35,2025-09-09\n",
      "BLA,18.50,17.60,18.60,14.00,25.75,4.52,2025-09-09\n",
      "BLAND,0.51,0.51,0.52,0.38,0.70,0.0,2025-09-09\n",
      "BPP,8.65,8.55,8.70,6.20,13.60,0.58,2025-09-09\n",
      "BTS,3.32,3.30,3.46,3.04,6.40,-3.49,2025-09-09\n",
      "BTSGIF,2.56,2.52,2.56,2.46,3.52,0.79,2025-09-09\n",
      "CBG,59.25,58.25,62.00,46.50,82.00,-2.87,2025-09-09\n",
      "CENTEL,33.25,31.50,33.25,19.40,41.25,2.31,2025-09-09\n",
      "CHG,1.72,1.69,1.72,1.39,3.00,2.38,2025-09-09\n",
      "CK,16.70,16.20,16.70,10.20,21.10,3.09,2025-09-09\n",
      "CKP,3.00,2.90,3.00,2.10,4.04,2.74,2025-09-09\n",
      "COM7,25.25,25.00,26.00,16.70,28.25,1.0,2025-09-09\n",
      "CPALL,48.25,47.75,48.75,41.50,68.00,0.0,2025-09-09\n",
      "CPF,23.10,23.10,23.50,19.80,26.50,-1.7,2025-09-09\n",
      "CPN,57.00,56.00,57.75,41.00,68.75,0.88,2025-09-09\n",
      "CPNCG,6.10,6.05,6.10,5.75,6.65,0.83,2025-09-09\n",
      "CPNREIT,11.20,11.10,11.20,10.20,13.60,0.9,2025-09-09\n",
      "CRC,24.10,23.60,24.20,15.80,36.00,0.42,2025-09-09\n",
      "DCC,1.42,1.41,1.45,1.18,2.04,0.71,2025-09-09\n",
      "DCON,0.26,0.25,0.26,0.23,0.41,4.0,2025-09-09\n",
      "DELTA,145.50,142.50,147.50,51.25,173.50,1.75,2025-09-09\n",
      "DIF,8.75,8.60,8.75,7.35,9.85,1.74,2025-09-09\n",
      "DOHOME,4.30,4.22,4.32,2.26,11.07,0.0,2025-09-09\n",
      "DRT,5.25,5.25,5.35,4.42,8.15,-0.94,2025-09-09\n",
      "EA,2.84,2.76,2.94,1.73,7.32,3.65,2025-09-09\n",
      "EASTW,2.84,2.80,2.90,1.57,3.90,0.0,2025-09-09\n",
      "EGATIF,6.00,5.95,6.05,5.75,6.40,0.84,2025-09-09\n",
      "EGCO,113.00,111.50,113.00,85.00,128.50,1.35,2025-09-09\n",
      "EPG,3.24,3.18,3.28,2.12,5.25,0.62,2025-09-09\n",
      "FORTH,8.40,8.25,8.75,6.05,15.00,3.7,2025-09-09\n",
      "FPT,6.40,6.35,6.45,5.85,14.00,1.59,2025-09-09\n",
      "FSMART,7.15,7.05,7.30,5.35,9.15,-1.38,2025-09-09\n",
      "FTREIT,9.50,9.40,9.50,8.60,11.30,0.53,2025-09-09\n",
      "GC,4.04,4.00,4.06,3.40,5.10,0.0,2025-09-09\n",
      "GFPT,9.55,9.55,9.70,8.00,12.40,-1.55,2025-09-09\n",
      "GGC,3.82,3.82,3.88,3.20,5.45,-1.55,2025-09-09\n",
      "GLOBAL,8.10,8.00,8.25,4.16,16.27,0.0,2025-09-09\n",
      "GPSC,41.00,40.50,42.00,22.40,49.75,1.23,2025-09-09\n",
      "GRAMMY,4.60,4.60,4.74,4.30,8.50,0.0,2025-09-09\n",
      "GUNKUL,2.02,1.99,2.02,1.31,2.96,1.0,2025-09-09\n",
      "GVREIT,6.30,6.30,6.35,5.85,7.15,0.8,2025-09-09\n",
      "HANA,25.25,24.50,25.75,14.00,44.00,3.06,2025-09-09\n",
      "HFT,4.24,4.20,4.24,3.32,4.76,0.47,2025-09-09\n",
      "HMPRO,7.85,7.60,7.85,5.70,11.10,0.64,2025-09-09\n",
      "HTC,15.00,14.80,15.00,14.50,17.70,-1.96,2025-09-09\n",
      "ICHI,12.30,12.10,12.40,9.40,17.00,0.82,2025-09-09\n",
      "III,4.90,4.86,4.92,4.18,7.20,0.0,2025-09-09\n",
      "ILM,14.90,14.90,15.10,11.50,18.90,-0.67,2025-09-09\n",
      "IMH,4.20,4.12,4.30,3.50,6.05,-0.94,2025-09-09\n",
      "IMPACT,10.10,9.95,10.10,9.25,12.80,1.51,2025-09-09\n",
      "INOX,0.42,0.40,0.42,0.35,0.67,2.44,2025-09-09\n",
      "IP,3.34,3.28,3.46,2.02,5.15,-1.76,2025-09-09\n",
      "IRPC,1.28,1.24,1.30,0.70,1.86,0.79,2025-09-09\n",
      "IVL,23.20,22.90,23.40,16.90,27.50,-0.43,2025-09-09\n",
      "3BBIF,6.55,6.40,6.55,5.00,6.75,2.34,2025-09-09\n",
      "JMART,10.50,9.95,10.50,5.20,17.70,3.96,2025-09-09\n",
      "JMT,13.20,12.50,13.20,7.35,22.00,3.13,2025-09-09\n",
      "KBANK,171.00,170.00,173.00,145.00,173.00,-0.58,2025-09-09\n",
      "KCE,25.75,25.25,26.50,13.70,40.75,0.98,2025-09-09\n",
      "KEX,1.49,1.49,1.50,0.78,3.40,0.0,2025-09-09\n",
      "KGI,3.94,3.90,3.96,3.40,4.66,1.03,2025-09-09\n",
      "KKP,60.25,59.50,60.25,43.50,62.00,0.0,2025-09-09\n",
      "KSL,1.43,1.41,1.45,1.25,2.36,1.42,2025-09-09\n",
      "KTB,26.00,25.25,26.00,19.70,26.00,1.96,2025-09-09\n",
      "KTC,28.75,28.50,29.25,21.80,52.25,-1.71,2025-09-09\n",
      "KYE,288.00,286.00,291.00,280.00,324.00,-0.35,2025-09-09\n",
      "LALIN,5.00,4.98,5.00,4.80,6.80,0.4,2025-09-09\n",
      "LANNA,15.60,15.30,15.60,14.10,17.10,0.65,2025-09-09\n",
      "LH,4.26,4.16,4.26,3.18,6.50,1.43,2025-09-09\n",
      "LHFG,0.77,0.76,0.77,0.72,0.96,1.32,2025-09-09\n",
      "LHK,3.56,3.54,3.56,3.02,4.12,0.0,2025-09-09\n",
      "LIT,0.86,0.85,0.91,0.39,1.34,-4.44,2025-09-09\n",
      "LPH,4.16,4.10,4.16,3.20,4.78,1.46,2025-09-09\n",
      "LPN,1.74,1.72,1.77,1.61,3.38,-0.57,2025-09-09\n",
      "M,27.50,26.00,27.50,13.80,30.75,5.77,2025-09-09\n",
      "MAJOR,8.30,8.25,8.35,7.35,16.00,0.61,2025-09-09\n",
      "MBAX,1.41,1.40,1.41,1.17,3.10,0.71,2025-09-09\n",
      "MC,11.10,11.10,11.20,9.15,13.00,0.0,2025-09-09\n",
      "MCS,8.65,8.50,8.65,5.80,9.20,0.0,2025-09-09\n",
      "MEGA,32.00,31.50,32.75,24.30,41.25,0.0,2025-09-09\n",
      "MINT,24.10,23.70,24.30,21.70,29.50,-0.82,2025-09-09\n",
      "MST,7.05,6.90,7.10,5.50,10.30,-1.4,2025-09-09\n",
      "MTC,43.25,42.00,43.50,33.75,54.00,0.58,2025-09-09\n",
      "NER,4.54,4.52,4.60,3.88,5.65,0.0,2025-09-09\n",
      "NOBLE,2.18,2.16,2.24,1.60,3.44,-0.91,2025-09-09\n",
      "ONEE,2.38,2.36,2.40,1.99,4.68,0.85,2025-09-09\n",
      "OR,14.50,14.10,14.50,10.10,17.80,-0.68,2025-09-09\n",
      "ORI,3.00,2.72,3.08,1.50,5.65,9.49,2025-09-09\n",
      "OSP,19.40,18.80,19.40,12.90,24.30,2.65,2025-09-09\n",
      "PAP,1.79,1.78,1.81,1.31,2.96,0.56,2025-09-09\n",
      "PCSGH,3.10,3.06,3.12,2.46,4.66,-0.64,2025-09-09\n",
      "PDG,2.76,2.70,2.76,2.36,2.88,1.47,2025-09-09\n",
      "PLANB,4.98,4.88,5.05,4.08,8.60,1.63,2025-09-09\n",
      "POPF,6.15,6.10,6.15,5.40,6.70,0.0,2025-09-09\n",
      "PREB,3.64,3.60,3.66,3.34,5.55,0.55,2025-09-09\n",
      "PRM,6.55,6.50,6.60,5.10,9.30,0.77,2025-09-09\n",
      "PSH,4.38,4.32,4.38,3.66,9.80,0.92,2025-09-09\n",
      "PSL,6.75,6.45,6.75,4.96,9.60,5.47,2025-09-09\n",
      "PTG,8.40,8.20,8.55,5.45,10.70,-1.18,2025-09-09\n",
      "PTL,9.85,9.75,9.85,9.20,14.40,1.03,2025-09-09\n",
      "PTT,32.50,31.75,32.50,27.00,35.00,2.36,2025-09-09\n",
      "PTTEP,111.00,110.50,112.50,93.00,144.00,-0.89,2025-09-09\n",
      "PTTGC,27.50,26.75,27.75,14.20,32.75,0.0,2025-09-09\n",
      "QH,1.39,1.39,1.42,1.15,2.00,-0.71,2025-09-09\n",
      "RATCH,26.25,26.00,26.25,22.50,34.25,0.96,2025-09-09\n",
      "RBF,4.26,4.24,4.32,3.04,7.40,0.95,2025-09-09\n",
      "RCL,27.00,26.50,27.25,18.20,31.75,0.93,2025-09-09\n",
      "RJH,13.20,13.10,13.40,11.50,26.25,0.76,2025-09-09\n",
      "ROJNA,4.90,4.80,4.92,4.14,7.50,1.66,2025-09-09\n",
      "RS,0.29,0.28,0.30,0.19,6.30,-3.33,2025-09-09\n",
      "S11,3.30,3.28,3.34,1.86,3.70,0.0,2025-09-09\n",
      "SAPPE,33.25,33.00,34.00,27.50,83.00,-1.48,2025-09-09\n",
      "SAT,13.50,13.20,13.60,9.95,13.70,2.27,2025-09-09\n",
      "SAWAD,29.75,28.25,29.75,14.80,41.36,1.71,2025-09-09\n",
      "SC,1.89,1.80,1.89,1.40,3.22,5.59,2025-09-09\n",
      "SCB,126.00,125.50,126.50,108.50,133.00,0.0,2025-09-09\n",
      "SCC,222.00,219.00,224.00,124.50,255.00,-0.89,2025-09-09\n",
      "SCCC,151.50,150.00,151.50,138.50,177.50,1.34,2025-09-09\n",
      "SCGP,18.20,17.60,18.30,10.70,32.25,1.11,2025-09-09\n",
      "SENA,1.94,1.91,1.94,1.54,2.50,0.52,2025-09-09\n",
      "SGP,6.60,6.35,6.60,5.00,7.65,3.13,2025-09-09\n",
      "SINGER,6.95,6.50,6.95,3.92,12.70,6.92,2025-09-09\n",
      "SIRI,1.48,1.46,1.50,1.11,1.94,0.68,2025-09-09\n",
      "SIS,22.10,21.80,22.20,17.60,31.25,0.0,2025-09-09\n",
      "SJWD,10.20,10.10,10.50,5.75,12.50,0.99,2025-09-09\n",
      "SKN,5.70,5.70,5.70,5.05,6.40,0.0,2025-09-09\n",
      "SKR,8.15,8.10,8.30,6.20,9.80,-1.21,2025-09-09\n",
      "SMPC,9.00,9.00,9.05,7.80,9.95,-0.55,2025-09-09\n",
      "SNC,6.00,5.90,6.00,4.96,7.35,1.69,2025-09-09\n",
      "SPALI,17.40,16.80,17.90,13.20,21.10,3.57,2025-09-09\n",
      "SPC,58.00,58.00,58.00,53.00,60.75,0.0,2025-09-09\n",
      "SPCG,8.30,8.25,8.35,6.60,9.40,0.0,2025-09-09\n",
      "SPRC,4.82,4.78,4.82,4.26,7.25,0.0,2025-09-09\n",
      "SPRIME,3.36,3.34,3.38,3.00,4.56,0.6,2025-09-09\n",
      "SSP,3.98,3.96,3.98,3.88,6.35,0.0,2025-09-09\n",
      "STA,13.60,13.30,13.90,10.30,25.75,-0.73,2025-09-09\n",
      "STANLY,182.00,182.00,183.00,176.00,225.00,0.28,2025-09-09\n",
      "STGT,6.85,6.70,6.90,5.10,13.30,0.0,2025-09-09\n",
      "SUPER,0.15,0.15,0.16,0.12,0.32,0.0,2025-09-09\n",
      "SUPEREIF,5.35,5.25,5.35,4.72,7.05,0.94,2025-09-09\n",
      "SVI,5.95,5.80,6.00,5.55,9.40,1.71,2025-09-09\n",
      "SYNEX,12.50,12.30,12.70,9.30,16.70,2.46,2025-09-09\n",
      "TASCO,15.00,14.90,15.20,13.20,20.00,-1.32,2025-09-09\n",
      "TCAP,51.25,50.75,51.25,44.25,53.50,0.0,2025-09-09\n",
      "TFFIF,6.05,5.95,6.05,5.25,7.20,1.68,2025-09-09\n",
      "TFG,5.00,4.90,5.15,3.02,6.10,-0.99,2025-09-09\n",
      "THANI,1.79,1.77,1.81,1.15,2.26,0.56,2025-09-09\n",
      "THG,6.90,6.55,7.00,6.45,27.36,5.34,2025-09-09\n",
      "TIPH,21.40,21.30,21.50,16.70,30.50,-0.47,2025-09-09\n",
      "TIPCO,8.65,8.50,8.65,8.35,10.40,0.58,2025-09-09\n",
      "TISCO,102.50,102.00,102.50,95.00,103.00,0.0,2025-09-09\n",
      "TK,4.44,4.40,4.46,3.28,5.45,-0.45,2025-09-09\n",
      "TKN,6.00,5.95,6.10,5.00,11.80,0.0,2025-09-09\n",
      "TKS,6.05,6.00,6.20,4.90,8.10,-1.63,2025-09-09\n",
      "TMT,3.16,3.12,3.30,2.60,5.40,1.28,2025-09-09\n",
      "TMW,53.50,53.00,53.75,47.00,66.75,0.0,2025-09-09\n",
      "TOA,15.30,15.20,15.50,9.35,20.50,-1.29,2025-09-09\n",
      "TOP,33.75,33.50,34.25,21.00,55.50,0.0,2025-09-09\n",
      "TPIPL,0.70,0.69,0.74,0.69,1.29,-1.41,2025-09-09\n",
      "TPIPP,2.28,2.26,2.30,1.99,3.14,0.88,2025-09-09\n",
      "TQM,14.10,13.90,14.10,12.20,33.25,1.44,2025-09-09\n",
      "TRUE,11.40,11.30,11.60,10.10,13.30,0.88,2025-09-09\n",
      "TSE,0.52,0.49,0.54,0.29,1.24,6.12,2025-09-09\n",
      "TSTH,0.74,0.73,0.75,0.47,0.93,-1.33,2025-09-09\n",
      "TTA,4.36,4.36,4.42,3.22,6.55,0.0,2025-09-09\n",
      "TTB,1.88,1.88,1.90,1.72,2.06,-0.53,2025-09-09\n",
      "TTLPF,10.60,10.50,10.60,10.30,16.20,0.95,2025-09-09\n",
      "TTW,9.25,9.15,9.25,8.45,9.50,0.54,2025-09-09\n",
      "TU,12.60,12.40,12.70,8.60,15.60,-0.79,2025-09-09\n",
      "TVO,25.50,25.00,25.50,19.70,25.75,0.99,2025-09-09\n",
      "TYCN,1.75,1.65,1.81,1.62,2.62,1.16,2025-09-09\n",
      "UTP,7.85,7.70,7.85,7.20,11.30,1.29,2025-09-09\n",
      "VGI,2.04,2.02,2.06,1.86,3.68,0.99,2025-09-09\n",
      "VIBHA,1.48,1.46,1.49,1.37,2.30,2.07,2025-09-09\n",
      "VNG,2.06,2.02,2.06,1.89,3.82,0.98,2025-09-09\n",
      "WHA,3.68,3.64,3.74,2.26,6.20,-1.08,2025-09-09\n",
      "WHAIR,5.50,5.50,5.60,4.12,6.75,0.0,2025-09-09\n",
      "WHART,9.30,9.15,9.30,8.55,10.80,1.64,2025-09-09\n",
      "WHAUP,3.94,3.86,3.96,2.76,5.50,2.07,2025-09-09\n",
      "WICE,3.08,2.96,3.10,2.34,6.95,5.48,2025-09-09\n",
      "WORK,4.22,4.18,4.22,3.82,10.40,0.48,2025-09-09\n"
     ]
    }
   ],
   "source": [
    "df = pd.read_csv(input_file, header=None)\n",
    "out_df = get_stock_data(df)"
   ]
  },
  {
   "cell_type": "code",
   "execution_count": 13,
   "id": "d31edacf",
   "metadata": {},
   "outputs": [
    {
     "name": "stdout",
     "output_type": "stream",
     "text": [
      "End at:  08:22 PM\n"
     ]
    }
   ],
   "source": [
    "end_time = strftime(\"%I:%M %p\")\n",
    "print('End at: ', end_time)"
   ]
  },
  {
   "cell_type": "code",
   "execution_count": 14,
   "id": "b89c4ae7",
   "metadata": {},
   "outputs": [
    {
     "data": {
      "text/html": [
       "<div>\n",
       "<style scoped>\n",
       "    .dataframe tbody tr th:only-of-type {\n",
       "        vertical-align: middle;\n",
       "    }\n",
       "\n",
       "    .dataframe tbody tr th {\n",
       "        vertical-align: top;\n",
       "    }\n",
       "\n",
       "    .dataframe thead th {\n",
       "        text-align: right;\n",
       "    }\n",
       "</style>\n",
       "<table border=\"1\" class=\"dataframe\">\n",
       "  <thead>\n",
       "    <tr style=\"text-align: right;\">\n",
       "      <th></th>\n",
       "      <th>name</th>\n",
       "      <th>price</th>\n",
       "      <th>today_low</th>\n",
       "      <th>today_high</th>\n",
       "      <th>year_low</th>\n",
       "      <th>year_high</th>\n",
       "      <th>percent</th>\n",
       "      <th>updated_at</th>\n",
       "    </tr>\n",
       "  </thead>\n",
       "  <tbody>\n",
       "  </tbody>\n",
       "</table>\n",
       "</div>"
      ],
      "text/plain": [
       "Empty DataFrame\n",
       "Columns: [name, price, today_low, today_high, year_low, year_high, percent, updated_at]\n",
       "Index: []"
      ]
     },
     "execution_count": 14,
     "metadata": {},
     "output_type": "execute_result"
    }
   ],
   "source": [
    "out_df.query('price == \"-\"')"
   ]
  },
  {
   "cell_type": "code",
   "execution_count": 15,
   "id": "784f1b6d",
   "metadata": {},
   "outputs": [
    {
     "data": {
      "text/plain": [
       "(216, 8)"
      ]
     },
     "execution_count": 15,
     "metadata": {},
     "output_type": "execute_result"
    }
   ],
   "source": [
    "out_df.shape"
   ]
  },
  {
   "cell_type": "code",
   "execution_count": 16,
   "id": "6326d0c5",
   "metadata": {},
   "outputs": [],
   "source": [
    "out_df = out_df[out_df['name'] != 'BCT']"
   ]
  },
  {
   "cell_type": "code",
   "execution_count": 17,
   "id": "2a293f55-436e-45d1-9966-50d12c26e659",
   "metadata": {},
   "outputs": [],
   "source": [
    "out_df = out_df[out_df['name'] != 'LPF']"
   ]
  },
  {
   "cell_type": "code",
   "execution_count": 18,
   "id": "cc4b3547-5ea9-4ac6-bd11-896e67d464ed",
   "metadata": {},
   "outputs": [],
   "source": [
    "out_df = out_df[out_df['name'] != 'TYCN']"
   ]
  },
  {
   "cell_type": "code",
   "execution_count": 19,
   "id": "865622c2-dad3-4ba8-b35a-898461fe5e9a",
   "metadata": {},
   "outputs": [],
   "source": [
    "out_df = out_df[out_df['name'] != 'GRAMMY']"
   ]
  },
  {
   "cell_type": "code",
   "execution_count": 20,
   "id": "cb2d763d-5b75-4ace-b87a-f165c8e6cb91",
   "metadata": {},
   "outputs": [],
   "source": [
    "out_df = out_df[out_df['name'] != 'MST']"
   ]
  },
  {
   "cell_type": "code",
   "execution_count": 21,
   "id": "e65305f0-157a-4129-a758-15c02e8df06a",
   "metadata": {},
   "outputs": [],
   "source": [
    "out_df = out_df[out_df['name'] != 'SPC']"
   ]
  },
  {
   "cell_type": "code",
   "execution_count": 22,
   "id": "cb55b5f6-0679-4191-aeda-ab0cf45f18e7",
   "metadata": {},
   "outputs": [],
   "source": [
    "out_df = out_df[out_df['name'] != 'SPRIME']"
   ]
  },
  {
   "cell_type": "code",
   "execution_count": 23,
   "id": "981854f1-01a1-4e26-b2a9-4f58948a33ec",
   "metadata": {},
   "outputs": [],
   "source": [
    "out_df = out_df[out_df['name'] != 'FPT']"
   ]
  },
  {
   "cell_type": "code",
   "execution_count": 24,
   "id": "a2833967-e889-4ad5-97b2-8234ba35c31c",
   "metadata": {},
   "outputs": [],
   "source": [
    "out_df = out_df[out_df['name'] != 'GGC']"
   ]
  },
  {
   "cell_type": "code",
   "execution_count": 25,
   "id": "40da6b49-9c79-425a-9cae-a6608c2062a4",
   "metadata": {},
   "outputs": [],
   "source": [
    "out_df = out_df[out_df['name'] != 'SKN']"
   ]
  },
  {
   "cell_type": "code",
   "execution_count": 26,
   "id": "b2771ed1",
   "metadata": {},
   "outputs": [
    {
     "data": {
      "text/plain": [
       "(207, 8)"
      ]
     },
     "execution_count": 26,
     "metadata": {},
     "output_type": "execute_result"
    }
   ],
   "source": [
    "out_df.shape"
   ]
  },
  {
   "cell_type": "code",
   "execution_count": 27,
   "id": "eb2ffec6",
   "metadata": {},
   "outputs": [],
   "source": [
    "out_df['price'] = out_df['price'].astype('float')\n",
    "out_df['today_low'] = out_df['today_low'].astype('float')\n",
    "out_df['today_high'] = out_df['today_high'].astype('float')\n",
    "out_df['year_low'] = out_df['year_low'].astype('float')\n",
    "out_df['year_high'] = out_df['year_high'].astype('float')\n",
    "out_df['percent'] = out_df['percent'].astype('float')"
   ]
  },
  {
   "cell_type": "code",
   "execution_count": 28,
   "id": "f4fb1a3c",
   "metadata": {},
   "outputs": [],
   "source": [
    "sorted_out_df = out_df.sort_values('percent')"
   ]
  },
  {
   "cell_type": "code",
   "execution_count": 29,
   "id": "032f0eea",
   "metadata": {},
   "outputs": [
    {
     "data": {
      "text/html": [
       "<div>\n",
       "<style scoped>\n",
       "    .dataframe tbody tr th:only-of-type {\n",
       "        vertical-align: middle;\n",
       "    }\n",
       "\n",
       "    .dataframe tbody tr th {\n",
       "        vertical-align: top;\n",
       "    }\n",
       "\n",
       "    .dataframe thead th {\n",
       "        text-align: right;\n",
       "    }\n",
       "</style>\n",
       "<table border=\"1\" class=\"dataframe\">\n",
       "  <thead>\n",
       "    <tr style=\"text-align: right;\">\n",
       "      <th></th>\n",
       "      <th>name</th>\n",
       "      <th>price</th>\n",
       "      <th>today_low</th>\n",
       "      <th>today_high</th>\n",
       "      <th>year_low</th>\n",
       "      <th>year_high</th>\n",
       "      <th>percent</th>\n",
       "      <th>updated_at</th>\n",
       "    </tr>\n",
       "  </thead>\n",
       "  <tbody>\n",
       "  </tbody>\n",
       "</table>\n",
       "</div>"
      ],
      "text/plain": [
       "Empty DataFrame\n",
       "Columns: [name, price, today_low, today_high, year_low, year_high, percent, updated_at]\n",
       "Index: []"
      ]
     },
     "execution_count": 29,
     "metadata": {},
     "output_type": "execute_result"
    }
   ],
   "source": [
    "sorted_out_df.query('today_low < year_low')"
   ]
  },
  {
   "cell_type": "code",
   "execution_count": 30,
   "id": "8e04b03d",
   "metadata": {},
   "outputs": [
    {
     "data": {
      "text/html": [
       "<div>\n",
       "<style scoped>\n",
       "    .dataframe tbody tr th:only-of-type {\n",
       "        vertical-align: middle;\n",
       "    }\n",
       "\n",
       "    .dataframe tbody tr th {\n",
       "        vertical-align: top;\n",
       "    }\n",
       "\n",
       "    .dataframe thead th {\n",
       "        text-align: right;\n",
       "    }\n",
       "</style>\n",
       "<table border=\"1\" class=\"dataframe\">\n",
       "  <thead>\n",
       "    <tr style=\"text-align: right;\">\n",
       "      <th></th>\n",
       "      <th>name</th>\n",
       "      <th>price</th>\n",
       "      <th>today_low</th>\n",
       "      <th>today_high</th>\n",
       "      <th>year_low</th>\n",
       "      <th>year_high</th>\n",
       "      <th>percent</th>\n",
       "      <th>updated_at</th>\n",
       "    </tr>\n",
       "  </thead>\n",
       "  <tbody>\n",
       "    <tr>\n",
       "      <th>14</th>\n",
       "      <td>ASP</td>\n",
       "      <td>2.78</td>\n",
       "      <td>2.68</td>\n",
       "      <td>2.8</td>\n",
       "      <td>1.81</td>\n",
       "      <td>2.74</td>\n",
       "      <td>2.21</td>\n",
       "      <td>2025-09-09</td>\n",
       "    </tr>\n",
       "  </tbody>\n",
       "</table>\n",
       "</div>"
      ],
      "text/plain": [
       "   name  price  today_low  today_high  year_low  year_high  percent  \\\n",
       "14  ASP   2.78       2.68         2.8      1.81       2.74     2.21   \n",
       "\n",
       "    updated_at  \n",
       "14  2025-09-09  "
      ]
     },
     "execution_count": 30,
     "metadata": {},
     "output_type": "execute_result"
    }
   ],
   "source": [
    "sorted_out_df.query('today_high > year_high')"
   ]
  },
  {
   "cell_type": "code",
   "execution_count": 31,
   "id": "290a9607",
   "metadata": {},
   "outputs": [
    {
     "data": {
      "text/html": [
       "<div>\n",
       "<style scoped>\n",
       "    .dataframe tbody tr th:only-of-type {\n",
       "        vertical-align: middle;\n",
       "    }\n",
       "\n",
       "    .dataframe tbody tr th {\n",
       "        vertical-align: top;\n",
       "    }\n",
       "\n",
       "    .dataframe thead th {\n",
       "        text-align: right;\n",
       "    }\n",
       "</style>\n",
       "<table border=\"1\" class=\"dataframe\">\n",
       "  <thead>\n",
       "    <tr style=\"text-align: right;\">\n",
       "      <th></th>\n",
       "      <th>name</th>\n",
       "      <th>price</th>\n",
       "      <th>today_low</th>\n",
       "      <th>today_high</th>\n",
       "      <th>year_low</th>\n",
       "      <th>year_high</th>\n",
       "      <th>percent</th>\n",
       "      <th>updated_at</th>\n",
       "    </tr>\n",
       "  </thead>\n",
       "  <tbody>\n",
       "    <tr>\n",
       "      <th>14</th>\n",
       "      <td>ASP</td>\n",
       "      <td>2.78</td>\n",
       "      <td>2.68</td>\n",
       "      <td>2.8</td>\n",
       "      <td>1.81</td>\n",
       "      <td>2.74</td>\n",
       "      <td>2.21</td>\n",
       "      <td>2025-09-09</td>\n",
       "    </tr>\n",
       "  </tbody>\n",
       "</table>\n",
       "</div>"
      ],
      "text/plain": [
       "   name  price  today_low  today_high  year_low  year_high  percent  \\\n",
       "14  ASP   2.78       2.68         2.8      1.81       2.74     2.21   \n",
       "\n",
       "    updated_at  \n",
       "14  2025-09-09  "
      ]
     },
     "execution_count": 31,
     "metadata": {},
     "output_type": "execute_result"
    }
   ],
   "source": [
    "out_df.query('today_high > year_high')"
   ]
  },
  {
   "cell_type": "code",
   "execution_count": 32,
   "id": "5fbeba56-2a63-4650-898b-6447a81f95f5",
   "metadata": {},
   "outputs": [],
   "source": [
    "file_name = \"Price-Hilo.csv\"\n",
    "output_file = os.path.join(dat_path, file_name)\n",
    "god_file = os.path.join(god_path, file_name)\n",
    "icd_file = os.path.join(icd_path, file_name)\n",
    "osd_file = os.path.join(osd_path, file_name)"
   ]
  },
  {
   "cell_type": "code",
   "execution_count": 33,
   "id": "da6183ac-2f05-4f67-b200-fe83634d29dc",
   "metadata": {},
   "outputs": [
    {
     "name": "stdout",
     "output_type": "stream",
     "text": [
      "output_file : C:\\Users\\PC1\\OneDrive\\A5\\Data\\Price-Hilo.csv\n",
      "icd_file : C:\\Users\\PC1\\iCloudDrive\\Data\\Price-Hilo.csv\n",
      "god_file : C:\\Users\\PC1\\OneDrive\\Imports\\santisoontarinka@gmail.com - Google Drive\\Data\\Price-Hilo.csv\n",
      "osd_file : C:\\Users\\PC1\\OneDrive\\Documents\\obsidian-git-sync\\Data\\Price-Hilo.csv\n"
     ]
    }
   ],
   "source": [
    "print(f\"output_file : {output_file}\") \n",
    "print(f\"icd_file : {icd_file}\") \n",
    "print(f\"god_file : {god_file}\") \n",
    "print(f\"osd_file : {osd_file}\") "
   ]
  },
  {
   "cell_type": "code",
   "execution_count": 34,
   "id": "8017b53b",
   "metadata": {},
   "outputs": [],
   "source": [
    "out_df.to_csv(output_file, index=False)  \n",
    "out_df.to_csv(god_file, index=False) \n",
    "out_df.to_csv(icd_file, index=False)  \n",
    "out_df.to_csv(osd_file, index=False) "
   ]
  },
  {
   "cell_type": "code",
   "execution_count": 35,
   "id": "80692fae-6308-4695-bcac-5124ce4d44e3",
   "metadata": {},
   "outputs": [
    {
     "name": "stdout",
     "output_type": "stream",
     "text": [
      "2025-09-09 20:22:43\n"
     ]
    }
   ],
   "source": [
    "# Get the current time\n",
    "current_time = datetime.now()\n",
    "# Format the time to remove milliseconds\n",
    "formatted_time = current_time.strftime(\"%Y-%m-%d %H:%M:%S\")\n",
    "print(formatted_time)"
   ]
  },
  {
   "cell_type": "code",
   "execution_count": null,
   "id": "ef2b1958-d5b3-4ae8-b179-6afa07dba2d0",
   "metadata": {},
   "outputs": [],
   "source": []
  }
 ],
 "metadata": {
  "kernelspec": {
   "display_name": "Python 3 (ipykernel)",
   "language": "python",
   "name": "python3"
  },
  "language_info": {
   "codemirror_mode": {
    "name": "ipython",
    "version": 3
   },
   "file_extension": ".py",
   "mimetype": "text/x-python",
   "name": "python",
   "nbconvert_exporter": "python",
   "pygments_lexer": "ipython3",
   "version": "3.12.3"
  }
 },
 "nbformat": 4,
 "nbformat_minor": 5
}
