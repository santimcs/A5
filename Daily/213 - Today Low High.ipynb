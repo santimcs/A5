{
 "cells": [
  {
   "cell_type": "markdown",
   "id": "930356c6",
   "metadata": {},
   "source": [
    "### Start and Run All"
   ]
  },
  {
   "cell_type": "code",
   "execution_count": 2,
   "id": "d7cfc693",
   "metadata": {},
   "outputs": [
    {
     "name": "stdout",
     "output_type": "stream",
     "text": [
      "2025-08-20 20:36:53\n"
     ]
    }
   ],
   "source": [
    "import os\n",
    "import pandas as pd\n",
    "from urllib import request\n",
    "from bs4 import BeautifulSoup\n",
    "# from datetime import date, timedelta\n",
    "from datetime import datetime\n",
    "from time import sleep, strftime\n",
    "\n",
    "# Get the current time\n",
    "current_time = datetime.now()\n",
    "# Format the time to remove milliseconds\n",
    "formatted_time = current_time.strftime(\"%Y-%m-%d %H:%M:%S\")\n",
    "print(formatted_time)"
   ]
  },
  {
   "cell_type": "code",
   "execution_count": 3,
   "id": "0cbdda38-ec42-4470-bede-c468ba46f8d8",
   "metadata": {},
   "outputs": [],
   "source": [
    "url = \"https://www.set.or.th/en/market/product/stock/quote/\"\n",
    "percent_span = '' "
   ]
  },
  {
   "cell_type": "code",
   "execution_count": 4,
   "id": "6e4b7508-0071-480d-99c8-a6c070027294",
   "metadata": {},
   "outputs": [],
   "source": [
    "# Get the user's home directory\n",
    "user_path = os.path.expanduser('~')\n",
    "# Get the current working directory\n",
    "current_path = os.getcwd()\n",
    "# Derive the base directory (base_dir) by removing the last folder ('Daily')\n",
    "base_path = os.path.dirname(current_path)\n",
    "#C:\\Users\\PC1\\OneDrive\\A5\\Data\n",
    "dat_path = os.path.join(base_path, \"Data\")\n",
    "#C:\\Users\\PC1\\OneDrive\\Imports\\santisoontarinka@gmail.com - Google Drive\\Data>\n",
    "god_path = os.path.join(user_path, \"OneDrive\",\"Imports\",\"santisoontarinka@gmail.com - Google Drive\",\"Data\")\n",
    "#C:\\Users\\PC1\\iCloudDrive\\data\n",
    "icd_path = os.path.join(user_path, \"iCloudDrive\", \"Data\")\n",
    "#C:\\Users\\PC1\\OneDrive\\Documents\\obsidian-git-sync\\Data\n",
    "osd_path = os.path.join(user_path, \"OneDrive\",\"Documents\",\"obsidian-git-sync\",\"Data\")"
   ]
  },
  {
   "cell_type": "code",
   "execution_count": 5,
   "id": "07defeb3-a742-4e64-8089-7e4fe5b8b93c",
   "metadata": {},
   "outputs": [
    {
     "name": "stdout",
     "output_type": "stream",
     "text": [
      "User path: C:\\Users\\PC1\n",
      "Current path: C:\\Users\\PC1\\OneDrive\\A5\\Daily\n",
      "Base path: C:\\Users\\PC1\\OneDrive\\A5\n",
      "Data path : C:\\Users\\PC1\\OneDrive\\A5\\Data\n",
      "Google Drive path : C:\\Users\\PC1\\OneDrive\\Imports\\santisoontarinka@gmail.com - Google Drive\\Data\n",
      "iCloudDrive path : C:\\Users\\PC1\\iCloudDrive\\Data\n",
      "Obsidian path : C:\\Users\\PC1\\OneDrive\\Documents\\obsidian-git-sync\\Data\n"
     ]
    }
   ],
   "source": [
    "print(\"User path:\", user_path)\n",
    "print(f\"Current path: {current_path}\")\n",
    "print(f\"Base path: {base_path}\")\n",
    "print(f\"Data path : {dat_path}\") \n",
    "print(f\"Google Drive path : {god_path}\")\n",
    "print(f\"iCloudDrive path : {icd_path}\") \n",
    "print(f\"Obsidian path : {osd_path}\") "
   ]
  },
  {
   "cell_type": "code",
   "execution_count": 6,
   "id": "08576879-dc60-431b-a31a-e1893e2d7922",
   "metadata": {},
   "outputs": [
    {
     "name": "stdout",
     "output_type": "stream",
     "text": [
      "Input file : C:\\Users\\PC1\\OneDrive\\A5\\Data\\name-ttl.csv\n"
     ]
    }
   ],
   "source": [
    "file_name = \"name-ttl.csv\"\n",
    "input_file = os.path.join(dat_path, file_name)\n",
    "print(f\"Input file : {input_file}\") "
   ]
  },
  {
   "cell_type": "code",
   "execution_count": 7,
   "id": "9b9668db-0773-4de5-9bd4-864c377dab80",
   "metadata": {},
   "outputs": [],
   "source": [
    "file_name = \"price-hilo.csv\"\n",
    "output_file = os.path.join(dat_path, file_name)\n",
    "god_file = os.path.join(god_path, file_name)\n",
    "icd_file = os.path.join(icd_path, file_name)\n",
    "osd_file = os.path.join(osd_path, file_name)"
   ]
  },
  {
   "cell_type": "code",
   "execution_count": 8,
   "id": "66c38ef5-8643-4ad3-81ff-9e2275d426d5",
   "metadata": {},
   "outputs": [
    {
     "name": "stdout",
     "output_type": "stream",
     "text": [
      "Output file : C:\\Users\\PC1\\OneDrive\\A5\\Data\\price-hilo.csv\n",
      "icd_file : C:\\Users\\PC1\\iCloudDrive\\Data\\price-hilo.csv\n",
      "god_file : C:\\Users\\PC1\\OneDrive\\Imports\\santisoontarinka@gmail.com - Google Drive\\Data\\price-hilo.csv\n",
      "osd_file : C:\\Users\\PC1\\OneDrive\\Documents\\obsidian-git-sync\\Data\\price-hilo.csv\n"
     ]
    }
   ],
   "source": [
    "print(f\"Output file : {output_file}\") \n",
    "print(f\"icd_file : {icd_file}\") \n",
    "print(f\"god_file : {god_file}\") \n",
    "print(f\"osd_file : {osd_file}\")"
   ]
  },
  {
   "cell_type": "code",
   "execution_count": 9,
   "id": "c1ec2693",
   "metadata": {},
   "outputs": [],
   "source": [
    "def cvt_str_to_flt(input_str):\n",
    "    # Check for the special pattern and return 0\n",
    "    if input_str == '(-)':\n",
    "        return 0\n",
    "    \n",
    "    # Remove parentheses and percent sign\n",
    "    cleaned_str = input_str.replace('(', '').replace(')', '').replace('%', '')\n",
    "\n",
    "    # Convert to float\n",
    "    try:\n",
    "        return float(cleaned_str)\n",
    "    except ValueError:\n",
    "        # Handle the case where the conversion fails\n",
    "        return None\n",
    " "
   ]
  },
  {
   "cell_type": "code",
   "execution_count": 10,
   "id": "334bed1f",
   "metadata": {},
   "outputs": [],
   "source": [
    "def get_stock_data(in_df):\n",
    "\n",
    "    in_df.columns = ['name']\n",
    "    \n",
    "    output_columns = ['name', 'price', 'today_low', 'today_high', 'year_low', 'year_high', 'percent', 'updated_at']\n",
    "    # Initialize an empty DataFrame with specified columns\n",
    "    out_df = pd.DataFrame(columns=output_columns)\n",
    "    \n",
    "    for index, row in in_df.iterrows():\n",
    "        name = str(row['name']).upper()\n",
    "        response = request.urlopen(url + name + '/price')\n",
    "        html_page = BeautifulSoup(response, 'html.parser')\n",
    "        \n",
    "  #      price = html_page.find('div', class_='value text-white mb-0 me-2 lh-1 stock-info').text.strip()        \n",
    "  #      if (price == '-'):\n",
    "  #          price = '0.00'        \n",
    "\n",
    "        price_div = html_page.find('div', class_='value text-white mb-0 me-2 lh-1 stock-info')\n",
    "        if price_div:\n",
    "            price = price_div.text.strip()\n",
    "        else:\n",
    "            print(f\"Price div not found for {name}\")\n",
    "            price = '0.00'     \n",
    "            \n",
    "        # Try to find the <h3> tag with the class 'theme-success'\n",
    "        h3_tag = html_page.find('h3', class_='theme-success')\n",
    "        if h3_tag:\n",
    "        # Find all <span> tags within the found <h3> tag\n",
    "            span_tags = h3_tag.find_all('span')\n",
    "    \n",
    "            if len(span_tags) > 1:\n",
    "                # Extract the text from the second <span> tag\n",
    "                percent_span = span_tags[1].text\n",
    "                # print(percent_span)\n",
    "                \n",
    "        # Try to find the <h3> tag with the class 'theme-danger'\n",
    "        h3_tag = html_page.find('h3', class_='theme-danger')\n",
    "        if h3_tag:\n",
    "        # Find all <span> tags within the found <h3> tag\n",
    "            span_tags = h3_tag.find_all('span')\n",
    "    \n",
    "            if len(span_tags) > 1:\n",
    "                # Extract the text from the second <span> tag\n",
    "                percent_span = span_tags[1].text\n",
    "                # print(percent_span)    \n",
    "                \n",
    "        # Try to find the <h3> tag with the class 'theme-danger'\n",
    "        h3_tag = html_page.find('h3', class_='theme-normal')\n",
    "        if h3_tag:\n",
    "        # Find all <span> tags within the found <h3> tag\n",
    "            span_tags = h3_tag.find_all('span')\n",
    "    \n",
    "            if len(span_tags) > 1:\n",
    "                # Extract the text from the second <span> tag\n",
    "                percent_span = span_tags[1].text\n",
    "                # print(percent_span)   \n",
    "                \n",
    "        percent = cvt_str_to_flt(percent_span)\n",
    "                \n",
    "        values_low = html_page.find_all('span', class_='title-font-family fs-16px fw-bolder me-auto lh-1')\n",
    "        today_low = values_low[0].text\n",
    "        if (today_low == '-'):\n",
    "            today_low = '0.00'\n",
    "        \n",
    "        values_high = html_page.find_all('span', class_='title-font-family fs-16px fw-bolder lh-1')\n",
    "        today_high = values_high[0].text\n",
    "        if (today_high == '-'):\n",
    "            today_high = '0.00'         \n",
    "        \n",
    "        year_low = values_low[1].text        \n",
    "        year_high = values_high[1].text     \n",
    "        \n",
    "        # Find the div with the specific class, then find the span within it\n",
    "        div = html_page.find('div', class_='price-detail-date d-flex align-items-center text-nowrap fs-12px')\n",
    "        if div:\n",
    "            span = div.find('span')\n",
    "            if span:\n",
    "                text = span.get_text()\n",
    "#                 print(text)\n",
    "            else:\n",
    "                print(\"Span not found\")\n",
    "        else:\n",
    "            print(\"Div not found\")\n",
    "            \n",
    "        # Extract the date part from the string\n",
    "        # Assuming the date is always in the format 'dd Mon yyyy'\n",
    "        date_str = ' '.join(text.split()[2:5])\n",
    "\n",
    "        # Parse the date string into a datetime object\n",
    "        date_obj = datetime.strptime(date_str, '%d %b %Y')\n",
    "\n",
    "        # Format the datetime object to 'yyyy-mm-dd'\n",
    "        updated_at = date_obj.strftime('%Y-%m-%d')\n",
    "\n",
    "#         print(updated_at)\n",
    "        \n",
    "        # Append row to the DataFrame and print the row\n",
    "        out_df.loc[len(out_df)] = [name, price, today_low, today_high, year_low, year_high, percent, updated_at]\n",
    "#       print(out_df.iloc[-1].to_string(header=False, index=False)) \n",
    "        print(','.join(map(str, out_df.iloc[-1])))\n",
    "        sleep(1)\n",
    "        \n",
    "    return out_df  # return the final dataframe with all values populated"
   ]
  },
  {
   "cell_type": "code",
   "execution_count": 11,
   "id": "94abc8d4",
   "metadata": {},
   "outputs": [
    {
     "name": "stdout",
     "output_type": "stream",
     "text": [
      "Start at:  08:36 PM\n"
     ]
    }
   ],
   "source": [
    "start_time = strftime(\"%I:%M %p\")\n",
    "print('Start at: ', start_time)"
   ]
  },
  {
   "cell_type": "code",
   "execution_count": 12,
   "id": "23b565ec",
   "metadata": {
    "scrolled": true
   },
   "outputs": [
    {
     "name": "stdout",
     "output_type": "stream",
     "text": [
      "ACE,1.29,1.28,1.30,1.23,1.49,0.0,2025-08-20\n",
      "ADVANC,292.00,288.00,293.00,241.00,309.00,0.69,2025-08-20\n",
      "AEONTS,106.00,103.50,106.00,90.50,148.00,0.95,2025-08-20\n",
      "AH,14.50,14.40,14.60,10.00,23.20,0.0,2025-08-20\n",
      "AIE,1.14,1.10,1.16,0.72,1.80,4.59,2025-08-20\n",
      "AIMIRT,9.55,9.50,9.60,9.20,11.20,0.0,2025-08-20\n",
      "AIT,5.05,5.00,5.10,3.86,5.30,-0.98,2025-08-20\n",
      "AJ,2.22,2.20,2.28,1.94,5.80,0.91,2025-08-20\n",
      "AMATA,16.50,16.00,16.60,11.20,31.00,3.13,2025-08-20\n",
      "ANAN,0.50,0.49,0.53,0.37,0.85,2.04,2025-08-20\n",
      "AOT,38.00,37.00,38.25,26.75,65.00,0.0,2025-08-20\n",
      "AP,7.55,7.40,7.65,5.60,10.50,1.34,2025-08-20\n",
      "ASIAN,7.70,7.65,7.70,6.50,10.40,0.65,2025-08-20\n",
      "ASK,7.65,7.55,7.70,6.20,15.30,0.0,2025-08-20\n",
      "ASP,2.40,2.34,2.40,1.81,2.70,0.0,2025-08-20\n",
      "ASW,6.25,6.20,6.40,5.55,8.20,-2.34,2025-08-20\n",
      "AWC,2.50,2.38,2.50,1.55,3.94,3.31,2025-08-20\n",
      "BA,14.10,13.70,14.40,10.60,26.00,-1.4,2025-08-20\n",
      "BAM,7.85,7.60,7.85,5.35,10.20,-0.63,2025-08-20\n",
      "BANPU,4.70,4.60,4.72,4.00,7.50,0.86,2025-08-20\n",
      "BAY,23.30,23.00,23.40,20.70,29.00,-0.43,2025-08-20\n",
      "BBL,154.50,153.50,154.50,131.00,161.50,0.32,2025-08-20\n",
      "BCH,13.40,13.00,13.40,12.30,19.20,2.29,2025-08-20\n",
      "BCP,32.75,31.50,33.25,26.50,41.00,3.15,2025-08-20\n",
      "BCPG,8.15,7.95,8.20,5.05,8.75,1.24,2025-08-20\n",
      "BCT,46.50,46.00,47.75,43.50,76.75,-2.11,2025-08-20\n",
      "BDMS,21.30,20.90,21.30,19.80,31.25,1.43,2025-08-20\n",
      "BE8,5.80,5.55,5.80,5.20,21.20,4.5,2025-08-20\n",
      "BEAUTY,0.38,0.30,0.38,0.19,0.57,31.03,2025-08-20\n",
      "BEC,2.24,2.16,2.28,1.79,4.68,0.0,2025-08-20\n",
      "BEM,5.35,5.30,5.40,4.56,8.30,0.0,2025-08-20\n",
      "BGC,4.92,4.90,4.92,4.54,7.90,0.41,2025-08-20\n",
      "BGRIM,11.40,10.90,11.50,8.90,24.80,2.7,2025-08-20\n",
      "BH,181.00,176.50,181.50,130.00,284.00,0.84,2025-08-20\n",
      "BJC,17.50,17.00,17.60,16.50,25.75,0.57,2025-08-20\n",
      "BKIH,291.00,290.00,291.00,271.00,316.00,-0.34,2025-08-20\n",
      "BLA,18.80,18.40,18.90,14.00,25.75,1.08,2025-08-20\n",
      "BLAND,0.51,0.49,0.51,0.38,0.70,4.08,2025-08-20\n",
      "BPP,8.25,8.10,8.25,6.20,13.60,0.61,2025-08-20\n",
      "BTS,3.44,3.40,3.52,3.28,6.40,-1.71,2025-08-20\n",
      "BTSGIF,2.66,2.64,2.68,2.54,3.52,0.0,2025-08-20\n",
      "CBG,53.75,53.00,54.75,46.50,82.00,-2.27,2025-08-20\n",
      "CENTEL,29.25,28.00,29.25,19.40,41.25,4.46,2025-08-20\n",
      "CHG,1.67,1.64,1.68,1.39,3.00,0.6,2025-08-20\n",
      "CK,14.40,14.10,14.50,10.20,21.10,2.13,2025-08-20\n",
      "CKP,2.84,2.76,2.84,2.10,4.04,0.0,2025-08-20\n",
      "COM7,25.75,24.50,25.75,16.70,28.25,4.25,2025-08-20\n",
      "CPALL,45.50,44.75,45.75,41.50,68.00,1.68,2025-08-20\n",
      "CPF,24.20,23.60,24.30,19.80,26.50,2.98,2025-08-20\n",
      "CPN,53.75,52.00,54.00,41.00,68.75,3.37,2025-08-20\n",
      "CPNCG,5.90,5.85,5.90,5.30,6.65,-0.84,2025-08-20\n",
      "CPNREIT,11.30,11.30,11.50,10.20,13.60,-0.88,2025-08-20\n",
      "CRC,20.70,19.70,21.00,15.80,36.00,5.08,2025-08-20\n",
      "DCC,1.40,1.39,1.40,1.18,2.04,0.72,2025-08-20\n",
      "DCON,0.24,0.24,0.27,0.23,0.41,-4.0,2025-08-20\n",
      "DELTA,145.00,140.50,146.00,51.25,173.50,-0.68,2025-08-20\n",
      "DIF,8.10,8.10,8.15,7.35,9.85,0.0,2025-08-20\n",
      "DOHOME,3.82,3.64,3.82,2.26,11.26,4.37,2025-08-20\n",
      "DRT,5.35,5.25,5.40,4.42,8.15,-0.93,2025-08-20\n",
      "EA,2.62,2.56,2.64,1.73,7.32,2.34,2025-08-20\n",
      "EASTW,2.16,2.10,2.24,1.57,3.90,1.89,2025-08-20\n",
      "EGATIF,6.10,6.00,6.10,5.75,6.40,1.67,2025-08-20\n",
      "EGCO,115.50,114.00,115.50,85.00,128.50,1.32,2025-08-20\n",
      "EPG,3.14,3.00,3.16,2.12,5.25,4.67,2025-08-20\n",
      "FORTH,7.10,7.05,7.20,6.05,15.00,0.71,2025-08-20\n",
      "FPT,6.25,6.20,6.25,5.85,14.00,0.81,2025-08-20\n",
      "FSMART,6.15,6.00,6.15,5.35,9.15,0.82,2025-08-20\n",
      "FTREIT,9.75,9.60,9.75,8.60,11.30,0.0,2025-08-20\n",
      "GC,4.40,4.38,4.42,3.40,5.10,0.46,2025-08-20\n",
      "GFPT,10.40,10.10,10.50,8.00,12.80,1.96,2025-08-20\n",
      "GGC,3.88,3.86,3.90,3.20,5.45,-0.51,2025-08-20\n",
      "GLOBAL,6.30,6.05,6.35,4.16,16.27,3.28,2025-08-20\n",
      "GPSC,36.00,35.25,36.25,22.40,49.75,-0.69,2025-08-20\n",
      "GRAMMY,4.52,4.52,4.54,4.30,8.50,0.0,2025-08-20\n",
      "GUNKUL,1.72,1.68,1.73,1.31,2.96,1.18,2025-08-20\n",
      "GVREIT,6.25,6.15,6.30,5.25,7.15,-0.79,2025-08-20\n",
      "HANA,21.50,20.70,21.70,14.00,44.00,1.42,2025-08-20\n",
      "HFT,3.96,3.96,4.02,3.32,4.78,-1.49,2025-08-20\n",
      "HMPRO,7.15,7.00,7.15,5.70,11.10,0.0,2025-08-20\n",
      "HTC,15.00,14.70,15.00,14.50,17.70,1.35,2025-08-20\n",
      "ICHI,11.70,11.50,11.80,9.40,17.00,0.86,2025-08-20\n",
      "III,4.86,4.70,4.90,4.18,7.20,3.85,2025-08-20\n",
      "ILM,14.10,13.90,14.40,11.50,18.90,-2.76,2025-08-20\n",
      "IMH,3.90,3.88,3.90,3.50,6.05,-1.02,2025-08-20\n",
      "IMPACT,10.10,10.00,10.10,9.25,12.80,1.0,2025-08-20\n",
      "INOX,0.40,0.39,0.41,0.35,0.67,0.0,2025-08-20\n",
      "IP,3.32,3.30,3.40,2.02,5.15,-1.78,2025-08-20\n",
      "IRPC,1.00,0.92,1.02,0.70,1.86,8.7,2025-08-20\n",
      "IVL,21.50,20.50,21.60,16.90,27.50,5.91,2025-08-20\n",
      "3BBIF,6.15,6.10,6.20,5.00,6.75,0.0,2025-08-20\n",
      "JMART,8.40,8.15,8.55,5.20,17.70,1.82,2025-08-20\n",
      "JMT,11.50,11.10,11.60,7.35,22.00,2.68,2025-08-20\n",
      "KBANK,169.50,168.00,171.00,138.00,171.50,0.3,2025-08-20\n",
      "KCE,26.25,25.50,26.75,13.70,40.75,0.0,2025-08-20\n",
      "KEX,1.48,1.48,1.48,0.78,3.40,0.0,2025-08-20\n",
      "KGI,3.88,3.86,3.88,3.40,4.66,0.0,2025-08-20\n",
      "KKP,57.75,56.75,57.75,41.75,58.25,0.87,2025-08-20\n",
      "KSL,1.49,1.47,1.50,1.25,2.36,-0.67,2025-08-20\n",
      "KTB,24.30,24.00,24.40,18.00,24.70,0.41,2025-08-20\n",
      "KTC,28.75,28.00,29.00,21.80,52.25,1.77,2025-08-20\n",
      "KYE,292.00,291.00,293.00,280.00,324.00,0.69,2025-08-20\n",
      "LALIN,5.05,5.00,5.05,4.80,6.80,0.0,2025-08-20\n",
      "LANNA,15.70,15.60,16.00,14.10,17.50,-0.63,2025-08-20\n",
      "LH,3.96,3.90,3.98,3.18,6.50,-0.5,2025-08-20\n",
      "LHFG,0.78,0.77,0.79,0.72,0.96,0.0,2025-08-20\n",
      "LHK,3.54,3.50,3.54,3.02,4.12,0.0,2025-08-20\n",
      "LIT,0.75,0.74,0.77,0.39,1.34,-2.6,2025-08-20\n",
      "LPH,3.90,3.84,3.92,3.20,4.78,1.56,2025-08-20\n",
      "LPN,1.72,1.70,1.74,1.61,3.38,-1.15,2025-08-20\n",
      "M,23.50,22.90,23.70,13.80,30.75,-0.42,2025-08-20\n",
      "MAJOR,8.15,8.00,8.20,7.35,16.00,-1.21,2025-08-20\n",
      "MBAX,1.36,1.36,1.38,1.17,3.10,2.26,2025-08-20\n",
      "MC,10.50,10.40,10.60,9.15,13.00,0.0,2025-08-20\n",
      "MCS,8.60,8.45,8.60,5.80,9.20,0.0,2025-08-20\n",
      "MEGA,29.75,29.50,30.00,24.30,41.25,0.85,2025-08-20\n",
      "MINT,24.70,23.90,25.25,21.70,29.50,2.49,2025-08-20\n",
      "MST,7.30,7.20,7.30,5.50,10.30,0.69,2025-08-20\n",
      "MTC,37.25,35.50,37.25,33.75,54.00,4.2,2025-08-20\n",
      "NER,4.42,4.40,4.46,3.88,5.65,-0.45,2025-08-20\n",
      "NOBLE,1.78,1.75,1.80,1.60,3.46,1.71,2025-08-20\n",
      "ONEE,2.38,2.38,2.44,1.99,4.68,0.85,2025-08-20\n",
      "OR,13.10,12.70,13.20,10.10,17.80,0.77,2025-08-20\n",
      "ORI,2.34,2.26,2.34,1.50,5.75,2.63,2025-08-20\n",
      "OSP,17.30,16.70,17.40,12.90,24.30,2.98,2025-08-20\n",
      "PAP,1.75,1.72,1.77,1.31,2.96,-1.13,2025-08-20\n",
      "PCSGH,3.26,3.24,3.28,2.46,4.82,0.0,2025-08-20\n",
      "PDG,2.74,2.72,2.78,2.36,2.88,-4.2,2025-08-20\n",
      "PLANB,4.70,4.56,4.76,4.08,8.60,-0.84,2025-08-20\n",
      "POPF,5.75,5.70,5.75,5.40,6.70,0.88,2025-08-20\n",
      "PREB,3.64,3.58,3.66,3.34,5.55,1.11,2025-08-20\n",
      "PRM,6.20,6.05,6.20,5.10,9.30,0.0,2025-08-20\n",
      "PSH,4.16,4.08,4.20,3.66,9.80,0.48,2025-08-20\n",
      "PSL,6.30,6.25,6.35,4.96,9.60,0.0,2025-08-20\n",
      "PTG,7.05,6.80,7.05,5.45,10.70,3.68,2025-08-20\n",
      "PTL,9.85,9.75,9.85,9.20,14.40,0.51,2025-08-20\n",
      "PTT,32.00,31.75,32.00,27.00,35.00,0.79,2025-08-20\n",
      "PTTEP,112.50,109.50,112.50,93.00,146.00,2.27,2025-08-20\n",
      "PTTGC,24.40,22.30,24.50,14.20,32.75,10.41,2025-08-20\n",
      "QH,1.40,1.36,1.40,1.15,2.00,2.19,2025-08-20\n",
      "RATCH,26.25,26.00,26.50,22.50,34.25,1.94,2025-08-20\n",
      "RBF,4.00,3.98,4.06,3.04,7.40,-1.48,2025-08-20\n",
      "RCL,27.00,26.50,27.25,18.20,31.75,0.0,2025-08-20\n",
      "RJH,13.80,13.60,13.80,11.50,26.25,1.47,2025-08-20\n",
      "ROJNA,4.64,4.64,4.70,4.14,7.50,-0.85,2025-08-20\n",
      "RS,0.28,0.26,0.29,0.19,6.30,7.69,2025-08-20\n",
      "S11,3.22,3.18,3.26,1.86,3.70,1.26,2025-08-20\n",
      "SAPPE,39.25,38.00,39.25,27.50,83.00,3.29,2025-08-20\n",
      "SAT,13.30,13.20,13.40,9.95,13.70,0.76,2025-08-20\n",
      "SAWAD,26.00,24.40,26.00,14.80,41.36,5.26,2025-08-20\n",
      "SC,1.86,1.84,1.87,1.40,3.22,0.0,2025-08-20\n",
      "SCB,129.50,128.50,130.00,105.50,133.00,0.39,2025-08-20\n",
      "SCC,216.00,202.00,219.00,124.50,255.00,7.46,2025-08-20\n",
      "SCCC,156.50,155.00,156.50,138.50,177.50,0.32,2025-08-20\n",
      "SCGP,17.60,16.50,17.80,10.70,32.25,6.02,2025-08-20\n",
      "SENA,1.86,1.84,1.90,1.54,2.50,1.64,2025-08-20\n",
      "SGP,6.65,6.40,6.65,5.00,7.65,3.91,2025-08-20\n",
      "SINGER,5.35,5.15,5.40,3.92,12.70,0.94,2025-08-20\n",
      "SIRI,1.51,1.47,1.51,1.11,1.94,2.03,2025-08-20\n",
      "SIS,21.10,20.30,21.10,17.60,31.25,4.46,2025-08-20\n",
      "SJWD,9.70,9.10,9.75,5.75,12.50,6.59,2025-08-20\n",
      "SKN,5.60,5.60,5.65,5.05,6.40,0.0,2025-08-20\n",
      "SKR,7.45,7.40,7.50,6.20,9.80,0.68,2025-08-20\n",
      "SMPC,8.80,8.75,8.90,7.80,10.10,-5.38,2025-08-20\n",
      "SNC,5.75,5.70,5.80,4.96,7.35,0.0,2025-08-20\n",
      "SPALI,15.80,15.60,16.00,13.20,21.10,1.28,2025-08-20\n",
      "SPC,58.50,58.50,58.50,53.00,61.50,0.0,2025-08-20\n",
      "SPCG,8.35,8.30,8.50,6.60,9.40,-1.18,2025-08-20\n",
      "SPRC,4.78,4.68,4.82,4.26,7.55,1.7,2025-08-20\n",
      "SPRIME,3.34,3.28,3.36,3.00,4.56,-2.34,2025-08-20\n",
      "SSP,4.00,3.96,4.00,3.94,6.40,-0.5,2025-08-20\n",
      "STA,12.00,11.60,12.00,10.30,25.75,0.84,2025-08-20\n",
      "STANLY,181.00,181.00,182.00,182.00,225.00,-0.55,2025-08-20\n",
      "STGT,6.55,6.40,6.60,5.10,13.30,1.55,2025-08-20\n",
      "SUPER,0.14,0.14,0.15,0.12,0.32,0.0,2025-08-20\n",
      "SUPEREIF,5.35,5.25,5.35,4.72,7.05,-4.46,2025-08-20\n",
      "SVI,5.90,5.75,5.90,5.55,9.40,1.72,2025-08-20\n",
      "SYNEX,11.40,11.20,11.50,9.30,16.70,1.79,2025-08-20\n",
      "TASCO,14.60,14.40,14.60,13.20,20.00,1.39,2025-08-20\n",
      "TCAP,50.50,50.25,50.75,44.25,53.50,0.5,2025-08-20\n",
      "TFFIF,6.10,6.00,6.10,5.25,7.20,0.83,2025-08-20\n",
      "TFG,6.00,5.85,6.00,3.02,6.10,1.69,2025-08-20\n",
      "THANI,1.71,1.70,1.74,1.15,2.26,0.0,2025-08-20\n",
      "THG,8.60,8.55,8.75,7.75,37.00,-0.58,2025-08-20\n",
      "TIPH,20.20,20.00,20.20,16.70,30.50,0.5,2025-08-20\n",
      "TIPCO,8.85,8.70,8.85,8.35,10.40,1.14,2025-08-20\n",
      "TISCO,101.00,100.50,101.50,92.00,102.50,0.0,2025-08-20\n",
      "TK,4.22,4.18,4.24,3.28,5.45,0.0,2025-08-20\n",
      "TKN,5.65,5.65,5.75,5.00,11.80,-0.88,2025-08-20\n",
      "TKS,6.00,5.90,6.00,4.90,8.15,0.0,2025-08-20\n",
      "TMT,3.06,3.02,3.06,2.60,5.40,-0.65,2025-08-20\n",
      "TMW,52.75,51.25,52.75,47.00,66.75,0.96,2025-08-20\n",
      "TOA,14.60,14.10,14.80,9.35,20.50,0.69,2025-08-20\n",
      "TOP,32.00,29.75,32.00,21.00,55.50,4.92,2025-08-20\n",
      "TPIPL,0.84,0.82,0.89,0.72,1.29,-5.62,2025-08-20\n",
      "TPIPP,2.24,2.20,2.32,1.99,3.14,-3.45,2025-08-20\n",
      "TQM,14.50,14.40,14.70,12.20,33.25,-1.36,2025-08-20\n",
      "TRUE,11.50,11.00,11.50,10.10,13.30,4.55,2025-08-20\n",
      "TSE,0.41,0.40,0.43,0.29,1.24,5.13,2025-08-20\n",
      "TSTH,0.78,0.77,0.78,0.47,0.93,0.0,2025-08-20\n",
      "TTA,4.16,4.12,4.18,3.22,6.55,0.48,2025-08-20\n",
      "TTB,1.94,1.92,1.94,1.72,2.06,0.0,2025-08-20\n",
      "TTLPF,11.00,10.90,11.00,10.80,16.60,0.92,2025-08-20\n",
      "TTW,9.10,9.05,9.15,8.45,9.50,0.55,2025-08-20\n",
      "TU,12.20,12.10,12.40,8.60,15.80,-1.61,2025-08-20\n",
      "TVO,25.25,25.00,25.50,19.70,25.25,1.0,2025-08-20\n",
      "TYCN,-,0.00,0.00,1.62,2.62,0.0,2025-08-20\n",
      "UTP,7.90,7.85,7.95,7.20,11.30,0.64,2025-08-20\n",
      "VGI,2.10,2.04,2.12,1.86,3.68,0.0,2025-08-20\n",
      "VIBHA,1.46,1.46,1.48,1.37,2.30,0.0,2025-08-20\n",
      "VNG,1.99,1.98,1.99,1.89,3.82,0.0,2025-08-20\n",
      "WHA,3.60,3.48,3.62,2.26,6.20,4.65,2025-08-20\n",
      "WHAIR,5.35,5.35,5.40,4.12,6.75,0.0,2025-08-20\n",
      "WHART,9.10,9.00,9.10,8.55,10.80,0.0,2025-08-20\n",
      "WHAUP,3.46,3.36,3.48,2.76,5.50,4.22,2025-08-20\n",
      "WICE,2.92,2.82,2.92,2.34,6.95,-0.68,2025-08-20\n",
      "WORK,4.28,4.22,4.28,3.82,10.40,0.0,2025-08-20\n"
     ]
    }
   ],
   "source": [
    "df = pd.read_csv(input_file, header=None)\n",
    "out_df = get_stock_data(df)"
   ]
  },
  {
   "cell_type": "code",
   "execution_count": 13,
   "id": "d31edacf",
   "metadata": {},
   "outputs": [
    {
     "name": "stdout",
     "output_type": "stream",
     "text": [
      "End at:  08:42 PM\n"
     ]
    }
   ],
   "source": [
    "end_time = strftime(\"%I:%M %p\")\n",
    "print('End at: ', end_time)"
   ]
  },
  {
   "cell_type": "code",
   "execution_count": 14,
   "id": "b89c4ae7",
   "metadata": {},
   "outputs": [
    {
     "data": {
      "text/html": [
       "<div>\n",
       "<style scoped>\n",
       "    .dataframe tbody tr th:only-of-type {\n",
       "        vertical-align: middle;\n",
       "    }\n",
       "\n",
       "    .dataframe tbody tr th {\n",
       "        vertical-align: top;\n",
       "    }\n",
       "\n",
       "    .dataframe thead th {\n",
       "        text-align: right;\n",
       "    }\n",
       "</style>\n",
       "<table border=\"1\" class=\"dataframe\">\n",
       "  <thead>\n",
       "    <tr style=\"text-align: right;\">\n",
       "      <th></th>\n",
       "      <th>name</th>\n",
       "      <th>price</th>\n",
       "      <th>today_low</th>\n",
       "      <th>today_high</th>\n",
       "      <th>year_low</th>\n",
       "      <th>year_high</th>\n",
       "      <th>percent</th>\n",
       "      <th>updated_at</th>\n",
       "    </tr>\n",
       "  </thead>\n",
       "  <tbody>\n",
       "    <tr>\n",
       "      <th>205</th>\n",
       "      <td>TYCN</td>\n",
       "      <td>-</td>\n",
       "      <td>0.00</td>\n",
       "      <td>0.00</td>\n",
       "      <td>1.62</td>\n",
       "      <td>2.62</td>\n",
       "      <td>0.0</td>\n",
       "      <td>2025-08-20</td>\n",
       "    </tr>\n",
       "  </tbody>\n",
       "</table>\n",
       "</div>"
      ],
      "text/plain": [
       "     name price today_low today_high year_low year_high  percent  updated_at\n",
       "205  TYCN     -      0.00       0.00     1.62      2.62      0.0  2025-08-20"
      ]
     },
     "execution_count": 14,
     "metadata": {},
     "output_type": "execute_result"
    }
   ],
   "source": [
    "out_df.query('price == \"-\"')"
   ]
  },
  {
   "cell_type": "code",
   "execution_count": 15,
   "id": "784f1b6d",
   "metadata": {},
   "outputs": [
    {
     "data": {
      "text/plain": [
       "(216, 8)"
      ]
     },
     "execution_count": 15,
     "metadata": {},
     "output_type": "execute_result"
    }
   ],
   "source": [
    "out_df.shape"
   ]
  },
  {
   "cell_type": "code",
   "execution_count": 16,
   "id": "6326d0c5",
   "metadata": {},
   "outputs": [],
   "source": [
    "out_df = out_df[out_df['name'] != 'BCT']"
   ]
  },
  {
   "cell_type": "code",
   "execution_count": 17,
   "id": "2a293f55-436e-45d1-9966-50d12c26e659",
   "metadata": {},
   "outputs": [],
   "source": [
    "out_df = out_df[out_df['name'] != 'LPF']"
   ]
  },
  {
   "cell_type": "code",
   "execution_count": 18,
   "id": "cc4b3547-5ea9-4ac6-bd11-896e67d464ed",
   "metadata": {},
   "outputs": [],
   "source": [
    "out_df = out_df[out_df['name'] != 'TYCN']"
   ]
  },
  {
   "cell_type": "code",
   "execution_count": 19,
   "id": "865622c2-dad3-4ba8-b35a-898461fe5e9a",
   "metadata": {},
   "outputs": [],
   "source": [
    "out_df = out_df[out_df['name'] != 'GRAMMY']"
   ]
  },
  {
   "cell_type": "code",
   "execution_count": 20,
   "id": "cb2d763d-5b75-4ace-b87a-f165c8e6cb91",
   "metadata": {},
   "outputs": [],
   "source": [
    "out_df = out_df[out_df['name'] != 'MST']"
   ]
  },
  {
   "cell_type": "code",
   "execution_count": 21,
   "id": "e65305f0-157a-4129-a758-15c02e8df06a",
   "metadata": {},
   "outputs": [],
   "source": [
    "out_df = out_df[out_df['name'] != 'SPC']"
   ]
  },
  {
   "cell_type": "code",
   "execution_count": 22,
   "id": "cb55b5f6-0679-4191-aeda-ab0cf45f18e7",
   "metadata": {},
   "outputs": [],
   "source": [
    "out_df = out_df[out_df['name'] != 'SPRIME']"
   ]
  },
  {
   "cell_type": "code",
   "execution_count": 23,
   "id": "981854f1-01a1-4e26-b2a9-4f58948a33ec",
   "metadata": {},
   "outputs": [],
   "source": [
    "out_df = out_df[out_df['name'] != 'FPT']"
   ]
  },
  {
   "cell_type": "code",
   "execution_count": 24,
   "id": "a2833967-e889-4ad5-97b2-8234ba35c31c",
   "metadata": {},
   "outputs": [],
   "source": [
    "out_df = out_df[out_df['name'] != 'GGC']"
   ]
  },
  {
   "cell_type": "code",
   "execution_count": 25,
   "id": "b2771ed1",
   "metadata": {},
   "outputs": [
    {
     "data": {
      "text/plain": [
       "(208, 8)"
      ]
     },
     "execution_count": 25,
     "metadata": {},
     "output_type": "execute_result"
    }
   ],
   "source": [
    "out_df.shape"
   ]
  },
  {
   "cell_type": "code",
   "execution_count": 26,
   "id": "eb2ffec6",
   "metadata": {},
   "outputs": [],
   "source": [
    "out_df['price'] = out_df['price'].astype('float')\n",
    "out_df['today_low'] = out_df['today_low'].astype('float')\n",
    "out_df['today_high'] = out_df['today_high'].astype('float')\n",
    "out_df['year_low'] = out_df['year_low'].astype('float')\n",
    "out_df['year_high'] = out_df['year_high'].astype('float')\n",
    "out_df['percent'] = out_df['percent'].astype('float')"
   ]
  },
  {
   "cell_type": "code",
   "execution_count": 27,
   "id": "f4fb1a3c",
   "metadata": {},
   "outputs": [],
   "source": [
    "sorted_out_df = out_df.sort_values('percent')"
   ]
  },
  {
   "cell_type": "code",
   "execution_count": 28,
   "id": "032f0eea",
   "metadata": {},
   "outputs": [
    {
     "data": {
      "text/html": [
       "<div>\n",
       "<style scoped>\n",
       "    .dataframe tbody tr th:only-of-type {\n",
       "        vertical-align: middle;\n",
       "    }\n",
       "\n",
       "    .dataframe tbody tr th {\n",
       "        vertical-align: top;\n",
       "    }\n",
       "\n",
       "    .dataframe thead th {\n",
       "        text-align: right;\n",
       "    }\n",
       "</style>\n",
       "<table border=\"1\" class=\"dataframe\">\n",
       "  <thead>\n",
       "    <tr style=\"text-align: right;\">\n",
       "      <th></th>\n",
       "      <th>name</th>\n",
       "      <th>price</th>\n",
       "      <th>today_low</th>\n",
       "      <th>today_high</th>\n",
       "      <th>year_low</th>\n",
       "      <th>year_high</th>\n",
       "      <th>percent</th>\n",
       "      <th>updated_at</th>\n",
       "    </tr>\n",
       "  </thead>\n",
       "  <tbody>\n",
       "    <tr>\n",
       "      <th>171</th>\n",
       "      <td>STANLY</td>\n",
       "      <td>181.0</td>\n",
       "      <td>181.0</td>\n",
       "      <td>182.0</td>\n",
       "      <td>182.0</td>\n",
       "      <td>225.0</td>\n",
       "      <td>-0.55</td>\n",
       "      <td>2025-08-20</td>\n",
       "    </tr>\n",
       "  </tbody>\n",
       "</table>\n",
       "</div>"
      ],
      "text/plain": [
       "       name  price  today_low  today_high  year_low  year_high  percent  \\\n",
       "171  STANLY  181.0      181.0       182.0     182.0      225.0    -0.55   \n",
       "\n",
       "     updated_at  \n",
       "171  2025-08-20  "
      ]
     },
     "execution_count": 28,
     "metadata": {},
     "output_type": "execute_result"
    }
   ],
   "source": [
    "sorted_out_df.query('today_low < year_low')"
   ]
  },
  {
   "cell_type": "code",
   "execution_count": 29,
   "id": "8e04b03d",
   "metadata": {},
   "outputs": [
    {
     "data": {
      "text/html": [
       "<div>\n",
       "<style scoped>\n",
       "    .dataframe tbody tr th:only-of-type {\n",
       "        vertical-align: middle;\n",
       "    }\n",
       "\n",
       "    .dataframe tbody tr th {\n",
       "        vertical-align: top;\n",
       "    }\n",
       "\n",
       "    .dataframe thead th {\n",
       "        text-align: right;\n",
       "    }\n",
       "</style>\n",
       "<table border=\"1\" class=\"dataframe\">\n",
       "  <thead>\n",
       "    <tr style=\"text-align: right;\">\n",
       "      <th></th>\n",
       "      <th>name</th>\n",
       "      <th>price</th>\n",
       "      <th>today_low</th>\n",
       "      <th>today_high</th>\n",
       "      <th>year_low</th>\n",
       "      <th>year_high</th>\n",
       "      <th>percent</th>\n",
       "      <th>updated_at</th>\n",
       "    </tr>\n",
       "  </thead>\n",
       "  <tbody>\n",
       "    <tr>\n",
       "      <th>204</th>\n",
       "      <td>TVO</td>\n",
       "      <td>25.25</td>\n",
       "      <td>25.0</td>\n",
       "      <td>25.5</td>\n",
       "      <td>19.7</td>\n",
       "      <td>25.25</td>\n",
       "      <td>1.0</td>\n",
       "      <td>2025-08-20</td>\n",
       "    </tr>\n",
       "  </tbody>\n",
       "</table>\n",
       "</div>"
      ],
      "text/plain": [
       "    name  price  today_low  today_high  year_low  year_high  percent  \\\n",
       "204  TVO  25.25       25.0        25.5      19.7      25.25      1.0   \n",
       "\n",
       "     updated_at  \n",
       "204  2025-08-20  "
      ]
     },
     "execution_count": 29,
     "metadata": {},
     "output_type": "execute_result"
    }
   ],
   "source": [
    "sorted_out_df.query('today_high > year_high')"
   ]
  },
  {
   "cell_type": "code",
   "execution_count": 30,
   "id": "290a9607",
   "metadata": {},
   "outputs": [
    {
     "data": {
      "text/html": [
       "<div>\n",
       "<style scoped>\n",
       "    .dataframe tbody tr th:only-of-type {\n",
       "        vertical-align: middle;\n",
       "    }\n",
       "\n",
       "    .dataframe tbody tr th {\n",
       "        vertical-align: top;\n",
       "    }\n",
       "\n",
       "    .dataframe thead th {\n",
       "        text-align: right;\n",
       "    }\n",
       "</style>\n",
       "<table border=\"1\" class=\"dataframe\">\n",
       "  <thead>\n",
       "    <tr style=\"text-align: right;\">\n",
       "      <th></th>\n",
       "      <th>name</th>\n",
       "      <th>price</th>\n",
       "      <th>today_low</th>\n",
       "      <th>today_high</th>\n",
       "      <th>year_low</th>\n",
       "      <th>year_high</th>\n",
       "      <th>percent</th>\n",
       "      <th>updated_at</th>\n",
       "    </tr>\n",
       "  </thead>\n",
       "  <tbody>\n",
       "    <tr>\n",
       "      <th>204</th>\n",
       "      <td>TVO</td>\n",
       "      <td>25.25</td>\n",
       "      <td>25.0</td>\n",
       "      <td>25.5</td>\n",
       "      <td>19.7</td>\n",
       "      <td>25.25</td>\n",
       "      <td>1.0</td>\n",
       "      <td>2025-08-20</td>\n",
       "    </tr>\n",
       "  </tbody>\n",
       "</table>\n",
       "</div>"
      ],
      "text/plain": [
       "    name  price  today_low  today_high  year_low  year_high  percent  \\\n",
       "204  TVO  25.25       25.0        25.5      19.7      25.25      1.0   \n",
       "\n",
       "     updated_at  \n",
       "204  2025-08-20  "
      ]
     },
     "execution_count": 30,
     "metadata": {},
     "output_type": "execute_result"
    }
   ],
   "source": [
    "out_df.query('today_high > year_high')"
   ]
  },
  {
   "cell_type": "code",
   "execution_count": 31,
   "id": "5fbeba56-2a63-4650-898b-6447a81f95f5",
   "metadata": {},
   "outputs": [],
   "source": [
    "file_name = \"Price-Hilo.csv\"\n",
    "output_file = os.path.join(dat_path, file_name)\n",
    "god_file = os.path.join(god_path, file_name)\n",
    "icd_file = os.path.join(icd_path, file_name)\n",
    "osd_file = os.path.join(osd_path, file_name)"
   ]
  },
  {
   "cell_type": "code",
   "execution_count": 32,
   "id": "da6183ac-2f05-4f67-b200-fe83634d29dc",
   "metadata": {},
   "outputs": [
    {
     "name": "stdout",
     "output_type": "stream",
     "text": [
      "output_file : C:\\Users\\PC1\\OneDrive\\A5\\Data\\Price-Hilo.csv\n",
      "icd_file : C:\\Users\\PC1\\iCloudDrive\\Data\\Price-Hilo.csv\n",
      "god_file : C:\\Users\\PC1\\OneDrive\\Imports\\santisoontarinka@gmail.com - Google Drive\\Data\\Price-Hilo.csv\n",
      "osd_file : C:\\Users\\PC1\\OneDrive\\Documents\\obsidian-git-sync\\Data\\Price-Hilo.csv\n"
     ]
    }
   ],
   "source": [
    "print(f\"output_file : {output_file}\") \n",
    "print(f\"icd_file : {icd_file}\") \n",
    "print(f\"god_file : {god_file}\") \n",
    "print(f\"osd_file : {osd_file}\") "
   ]
  },
  {
   "cell_type": "code",
   "execution_count": 33,
   "id": "8017b53b",
   "metadata": {},
   "outputs": [],
   "source": [
    "out_df.to_csv(output_file, index=False)  \n",
    "out_df.to_csv(god_file, index=False) \n",
    "out_df.to_csv(icd_file, index=False)  \n",
    "out_df.to_csv(osd_file, index=False) "
   ]
  },
  {
   "cell_type": "code",
   "execution_count": 34,
   "id": "80692fae-6308-4695-bcac-5124ce4d44e3",
   "metadata": {},
   "outputs": [
    {
     "name": "stdout",
     "output_type": "stream",
     "text": [
      "2025-08-20 20:42:00\n"
     ]
    }
   ],
   "source": [
    "# Get the current time\n",
    "current_time = datetime.now()\n",
    "# Format the time to remove milliseconds\n",
    "formatted_time = current_time.strftime(\"%Y-%m-%d %H:%M:%S\")\n",
    "print(formatted_time)"
   ]
  }
 ],
 "metadata": {
  "kernelspec": {
   "display_name": "Python 3 (ipykernel)",
   "language": "python",
   "name": "python3"
  },
  "language_info": {
   "codemirror_mode": {
    "name": "ipython",
    "version": 3
   },
   "file_extension": ".py",
   "mimetype": "text/x-python",
   "name": "python",
   "nbconvert_exporter": "python",
   "pygments_lexer": "ipython3",
   "version": "3.12.3"
  }
 },
 "nbformat": 4,
 "nbformat_minor": 5
}
