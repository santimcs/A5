{
 "cells": [
  {
   "cell_type": "markdown",
   "id": "930356c6",
   "metadata": {},
   "source": [
    "### Start and Run All"
   ]
  },
  {
   "cell_type": "code",
   "execution_count": 2,
   "id": "d7cfc693",
   "metadata": {},
   "outputs": [
    {
     "name": "stdout",
     "output_type": "stream",
     "text": [
      "2025-08-06 20:24:17\n"
     ]
    }
   ],
   "source": [
    "import os\n",
    "import pandas as pd\n",
    "from urllib import request\n",
    "from bs4 import BeautifulSoup\n",
    "# from datetime import date, timedelta\n",
    "from datetime import datetime\n",
    "from time import sleep, strftime\n",
    "\n",
    "# Get the current time\n",
    "current_time = datetime.now()\n",
    "# Format the time to remove milliseconds\n",
    "formatted_time = current_time.strftime(\"%Y-%m-%d %H:%M:%S\")\n",
    "print(formatted_time)"
   ]
  },
  {
   "cell_type": "code",
   "execution_count": 3,
   "id": "0cbdda38-ec42-4470-bede-c468ba46f8d8",
   "metadata": {},
   "outputs": [],
   "source": [
    "url = \"https://www.set.or.th/en/market/product/stock/quote/\"\n",
    "percent_span = '' "
   ]
  },
  {
   "cell_type": "code",
   "execution_count": 4,
   "id": "6e4b7508-0071-480d-99c8-a6c070027294",
   "metadata": {},
   "outputs": [],
   "source": [
    "# Get the user's home directory\n",
    "user_path = os.path.expanduser('~')\n",
    "# Get the current working directory\n",
    "current_path = os.getcwd()\n",
    "# Derive the base directory (base_dir) by removing the last folder ('Daily')\n",
    "base_path = os.path.dirname(current_path)\n",
    "#C:\\Users\\PC1\\OneDrive\\A5\\Data\n",
    "dat_path = os.path.join(base_path, \"Data\")\n",
    "#C:\\Users\\PC1\\OneDrive\\Imports\\santisoontarinka@gmail.com - Google Drive\\Data>\n",
    "god_path = os.path.join(user_path, \"OneDrive\",\"Imports\",\"santisoontarinka@gmail.com - Google Drive\",\"Data\")\n",
    "#C:\\Users\\PC1\\iCloudDrive\\data\n",
    "icd_path = os.path.join(user_path, \"iCloudDrive\", \"Data\")\n",
    "#C:\\Users\\PC1\\OneDrive\\Documents\\obsidian-git-sync\\Data\n",
    "osd_path = os.path.join(user_path, \"OneDrive\",\"Documents\",\"obsidian-git-sync\",\"Data\")"
   ]
  },
  {
   "cell_type": "code",
   "execution_count": 5,
   "id": "07defeb3-a742-4e64-8089-7e4fe5b8b93c",
   "metadata": {},
   "outputs": [
    {
     "name": "stdout",
     "output_type": "stream",
     "text": [
      "User path: C:\\Users\\PC1\n",
      "Current path: C:\\Users\\PC1\\OneDrive\\A5\\Daily\n",
      "Base path: C:\\Users\\PC1\\OneDrive\\A5\n",
      "Data path : C:\\Users\\PC1\\OneDrive\\A5\\Data\n",
      "Google Drive path : C:\\Users\\PC1\\OneDrive\\Imports\\santisoontarinka@gmail.com - Google Drive\\Data\n",
      "iCloudDrive path : C:\\Users\\PC1\\iCloudDrive\\Data\n",
      "Obsidian path : C:\\Users\\PC1\\OneDrive\\Documents\\obsidian-git-sync\\Data\n"
     ]
    }
   ],
   "source": [
    "print(\"User path:\", user_path)\n",
    "print(f\"Current path: {current_path}\")\n",
    "print(f\"Base path: {base_path}\")\n",
    "print(f\"Data path : {dat_path}\") \n",
    "print(f\"Google Drive path : {god_path}\")\n",
    "print(f\"iCloudDrive path : {icd_path}\") \n",
    "print(f\"Obsidian path : {osd_path}\") "
   ]
  },
  {
   "cell_type": "code",
   "execution_count": 6,
   "id": "08576879-dc60-431b-a31a-e1893e2d7922",
   "metadata": {},
   "outputs": [
    {
     "name": "stdout",
     "output_type": "stream",
     "text": [
      "Input file : C:\\Users\\PC1\\OneDrive\\A5\\Data\\name-ttl.csv\n"
     ]
    }
   ],
   "source": [
    "file_name = \"name-ttl.csv\"\n",
    "input_file = os.path.join(dat_path, file_name)\n",
    "print(f\"Input file : {input_file}\") "
   ]
  },
  {
   "cell_type": "code",
   "execution_count": 7,
   "id": "9b9668db-0773-4de5-9bd4-864c377dab80",
   "metadata": {},
   "outputs": [],
   "source": [
    "file_name = \"price-hilo.csv\"\n",
    "output_file = os.path.join(dat_path, file_name)\n",
    "god_file = os.path.join(god_path, file_name)\n",
    "icd_file = os.path.join(icd_path, file_name)\n",
    "osd_file = os.path.join(osd_path, file_name)"
   ]
  },
  {
   "cell_type": "code",
   "execution_count": 8,
   "id": "66c38ef5-8643-4ad3-81ff-9e2275d426d5",
   "metadata": {},
   "outputs": [
    {
     "name": "stdout",
     "output_type": "stream",
     "text": [
      "Output file : C:\\Users\\PC1\\OneDrive\\A5\\Data\\price-hilo.csv\n",
      "icd_file : C:\\Users\\PC1\\iCloudDrive\\Data\\price-hilo.csv\n",
      "god_file : C:\\Users\\PC1\\OneDrive\\Imports\\santisoontarinka@gmail.com - Google Drive\\Data\\price-hilo.csv\n",
      "osd_file : C:\\Users\\PC1\\OneDrive\\Documents\\obsidian-git-sync\\Data\\price-hilo.csv\n"
     ]
    }
   ],
   "source": [
    "print(f\"Output file : {output_file}\") \n",
    "print(f\"icd_file : {icd_file}\") \n",
    "print(f\"god_file : {god_file}\") \n",
    "print(f\"osd_file : {osd_file}\")"
   ]
  },
  {
   "cell_type": "code",
   "execution_count": 9,
   "id": "c1ec2693",
   "metadata": {},
   "outputs": [],
   "source": [
    "def cvt_str_to_flt(input_str):\n",
    "    # Check for the special pattern and return 0\n",
    "    if input_str == '(-)':\n",
    "        return 0\n",
    "    \n",
    "    # Remove parentheses and percent sign\n",
    "    cleaned_str = input_str.replace('(', '').replace(')', '').replace('%', '')\n",
    "\n",
    "    # Convert to float\n",
    "    try:\n",
    "        return float(cleaned_str)\n",
    "    except ValueError:\n",
    "        # Handle the case where the conversion fails\n",
    "        return None\n",
    " "
   ]
  },
  {
   "cell_type": "code",
   "execution_count": 10,
   "id": "334bed1f",
   "metadata": {},
   "outputs": [],
   "source": [
    "def get_stock_data(in_df):\n",
    "\n",
    "    in_df.columns = ['name']\n",
    "    \n",
    "    output_columns = ['name', 'price', 'today_low', 'today_high', 'year_low', 'year_high', 'percent', 'updated_at']\n",
    "    # Initialize an empty DataFrame with specified columns\n",
    "    out_df = pd.DataFrame(columns=output_columns)\n",
    "    \n",
    "    for index, row in in_df.iterrows():\n",
    "        name = str(row['name']).upper()\n",
    "        response = request.urlopen(url + name + '/price')\n",
    "        html_page = BeautifulSoup(response, 'html.parser')\n",
    "        \n",
    "  #      price = html_page.find('div', class_='value text-white mb-0 me-2 lh-1 stock-info').text.strip()        \n",
    "  #      if (price == '-'):\n",
    "  #          price = '0.00'        \n",
    "\n",
    "        price_div = html_page.find('div', class_='value text-white mb-0 me-2 lh-1 stock-info')\n",
    "        if price_div:\n",
    "            price = price_div.text.strip()\n",
    "        else:\n",
    "            print(f\"Price div not found for {name}\")\n",
    "            price = '0.00'     \n",
    "            \n",
    "        # Try to find the <h3> tag with the class 'theme-success'\n",
    "        h3_tag = html_page.find('h3', class_='theme-success')\n",
    "        if h3_tag:\n",
    "        # Find all <span> tags within the found <h3> tag\n",
    "            span_tags = h3_tag.find_all('span')\n",
    "    \n",
    "            if len(span_tags) > 1:\n",
    "                # Extract the text from the second <span> tag\n",
    "                percent_span = span_tags[1].text\n",
    "                # print(percent_span)\n",
    "                \n",
    "        # Try to find the <h3> tag with the class 'theme-danger'\n",
    "        h3_tag = html_page.find('h3', class_='theme-danger')\n",
    "        if h3_tag:\n",
    "        # Find all <span> tags within the found <h3> tag\n",
    "            span_tags = h3_tag.find_all('span')\n",
    "    \n",
    "            if len(span_tags) > 1:\n",
    "                # Extract the text from the second <span> tag\n",
    "                percent_span = span_tags[1].text\n",
    "                # print(percent_span)    \n",
    "                \n",
    "        # Try to find the <h3> tag with the class 'theme-danger'\n",
    "        h3_tag = html_page.find('h3', class_='theme-normal')\n",
    "        if h3_tag:\n",
    "        # Find all <span> tags within the found <h3> tag\n",
    "            span_tags = h3_tag.find_all('span')\n",
    "    \n",
    "            if len(span_tags) > 1:\n",
    "                # Extract the text from the second <span> tag\n",
    "                percent_span = span_tags[1].text\n",
    "                # print(percent_span)   \n",
    "                \n",
    "        percent = cvt_str_to_flt(percent_span)\n",
    "                \n",
    "        values_low = html_page.find_all('span', class_='title-font-family fs-16px fw-bolder me-auto lh-1')\n",
    "        today_low = values_low[0].text\n",
    "        if (today_low == '-'):\n",
    "            today_low = '0.00'\n",
    "        \n",
    "        values_high = html_page.find_all('span', class_='title-font-family fs-16px fw-bolder lh-1')\n",
    "        today_high = values_high[0].text\n",
    "        if (today_high == '-'):\n",
    "            today_high = '0.00'         \n",
    "        \n",
    "        year_low = values_low[1].text        \n",
    "        year_high = values_high[1].text     \n",
    "        \n",
    "        # Find the div with the specific class, then find the span within it\n",
    "        div = html_page.find('div', class_='price-detail-date d-flex align-items-center text-nowrap fs-12px')\n",
    "        if div:\n",
    "            span = div.find('span')\n",
    "            if span:\n",
    "                text = span.get_text()\n",
    "#                 print(text)\n",
    "            else:\n",
    "                print(\"Span not found\")\n",
    "        else:\n",
    "            print(\"Div not found\")\n",
    "            \n",
    "        # Extract the date part from the string\n",
    "        # Assuming the date is always in the format 'dd Mon yyyy'\n",
    "        date_str = ' '.join(text.split()[2:5])\n",
    "\n",
    "        # Parse the date string into a datetime object\n",
    "        date_obj = datetime.strptime(date_str, '%d %b %Y')\n",
    "\n",
    "        # Format the datetime object to 'yyyy-mm-dd'\n",
    "        updated_at = date_obj.strftime('%Y-%m-%d')\n",
    "\n",
    "#         print(updated_at)\n",
    "        \n",
    "        # Append row to the DataFrame and print the row\n",
    "        out_df.loc[len(out_df)] = [name, price, today_low, today_high, year_low, year_high, percent, updated_at]\n",
    "#       print(out_df.iloc[-1].to_string(header=False, index=False)) \n",
    "        print(','.join(map(str, out_df.iloc[-1])))\n",
    "        sleep(1)\n",
    "        \n",
    "    return out_df  # return the final dataframe with all values populated"
   ]
  },
  {
   "cell_type": "code",
   "execution_count": 11,
   "id": "94abc8d4",
   "metadata": {},
   "outputs": [
    {
     "name": "stdout",
     "output_type": "stream",
     "text": [
      "Start at:  08:24 PM\n"
     ]
    }
   ],
   "source": [
    "start_time = strftime(\"%I:%M %p\")\n",
    "print('Start at: ', start_time)"
   ]
  },
  {
   "cell_type": "code",
   "execution_count": 12,
   "id": "23b565ec",
   "metadata": {
    "scrolled": true
   },
   "outputs": [
    {
     "name": "stdout",
     "output_type": "stream",
     "text": [
      "ACE,1.29,1.28,1.30,1.23,1.49,-0.77,2025-08-06\n",
      "ADVANC,296.00,293.00,297.00,235.00,309.00,0.34,2025-08-06\n",
      "AEONTS,105.00,103.00,106.00,90.50,148.00,1.94,2025-08-06\n",
      "AH,15.30,14.90,15.30,10.00,23.20,2.0,2025-08-06\n",
      "AIE,1.23,1.21,1.25,0.72,1.80,1.65,2025-08-06\n",
      "AIMIRT,9.85,9.85,9.85,9.20,11.20,0.0,2025-08-06\n",
      "AIT,5.10,5.05,5.15,3.74,5.30,-0.97,2025-08-06\n",
      "AJ,2.58,2.54,2.62,1.94,5.80,0.0,2025-08-06\n",
      "AMATA,16.70,16.20,16.80,11.20,31.00,1.83,2025-08-06\n",
      "ANAN,0.44,0.43,0.45,0.37,0.85,2.33,2025-08-06\n",
      "AOT,40.00,40.00,41.25,26.75,65.00,1.27,2025-08-06\n",
      "AP,7.60,7.45,7.65,5.60,10.50,1.33,2025-08-06\n",
      "ASIAN,7.55,7.45,7.60,6.50,10.50,0.67,2025-08-06\n",
      "ASK,8.10,8.00,8.15,6.20,15.30,0.0,2025-08-06\n",
      "ASP,2.40,2.40,2.44,1.81,2.70,0.84,2025-08-06\n",
      "ASW,6.55,6.45,6.60,5.55,8.20,0.77,2025-08-06\n",
      "AWC,2.28,2.08,2.28,1.55,3.94,8.57,2025-08-06\n",
      "BA,15.00,14.80,15.20,10.60,26.00,0.0,2025-08-06\n",
      "BAM,8.40,8.30,8.50,5.35,10.20,0.6,2025-08-06\n",
      "BANPU,5.05,4.90,5.10,4.00,7.50,2.64,2025-08-06\n",
      "BAY,22.80,22.70,23.20,20.70,29.00,0.44,2025-08-06\n",
      "BBL,152.00,150.00,152.00,129.00,161.50,2.01,2025-08-06\n",
      "BCH,14.40,14.40,14.70,12.30,19.20,0.0,2025-08-06\n",
      "BCP,34.50,34.00,34.75,26.50,41.00,0.0,2025-08-06\n",
      "BCPG,7.00,6.60,7.10,5.05,7.80,6.06,2025-08-06\n",
      "BCT,47.00,46.50,47.00,43.50,76.75,0.0,2025-08-06\n",
      "BDMS,22.40,22.20,22.80,19.80,31.25,0.45,2025-08-06\n",
      "BE8,7.75,7.25,7.75,5.20,21.20,7.64,2025-08-06\n",
      "BEAUTY,0.31,0.30,0.32,0.19,0.57,3.33,2025-08-06\n",
      "BEC,2.58,2.54,2.62,1.79,4.68,0.78,2025-08-06\n",
      "BEM,5.50,5.45,5.55,4.56,8.30,0.92,2025-08-06\n",
      "BGC,4.94,4.82,4.94,4.54,7.90,2.49,2025-08-06\n",
      "BGRIM,11.80,11.30,12.10,8.90,24.80,2.61,2025-08-06\n",
      "BH,189.50,185.50,194.00,130.00,284.00,-2.32,2025-08-06\n",
      "BJC,19.50,18.90,19.60,16.50,25.75,2.63,2025-08-06\n",
      "BKIH,290.00,288.00,290.00,271.00,316.00,0.69,2025-08-06\n",
      "BLA,18.10,17.90,18.50,14.00,25.75,0.56,2025-08-06\n",
      "BLAND,0.49,0.48,0.50,0.38,0.70,0.0,2025-08-06\n",
      "BPP,8.05,7.70,8.05,6.20,13.60,3.87,2025-08-06\n",
      "BTS,3.62,3.52,3.68,3.28,6.40,2.26,2025-08-06\n",
      "BTSGIF,2.68,2.64,2.68,2.54,3.52,0.75,2025-08-06\n",
      "CBG,57.25,56.25,57.50,46.50,82.00,0.0,2025-08-06\n",
      "CENTEL,29.00,28.50,29.50,19.40,41.25,0.0,2025-08-06\n",
      "CHG,1.83,1.83,1.87,1.39,3.00,-1.08,2025-08-06\n",
      "CK,13.80,13.50,13.90,10.20,21.10,2.99,2025-08-06\n",
      "CKP,2.88,2.70,2.92,2.10,4.04,6.67,2025-08-06\n",
      "COM7,23.20,22.30,23.60,16.70,28.25,4.04,2025-08-06\n",
      "CPALL,47.00,46.50,47.75,41.50,68.00,1.62,2025-08-06\n",
      "CPF,23.70,23.40,24.10,19.80,26.50,0.0,2025-08-06\n",
      "CPN,52.25,51.75,52.50,41.00,68.75,0.97,2025-08-06\n",
      "CPNCG,6.05,6.05,6.15,5.30,6.65,-0.82,2025-08-06\n",
      "CPNREIT,11.60,11.30,11.60,10.20,13.60,2.65,2025-08-06\n",
      "CRC,22.40,21.20,22.50,15.80,36.00,4.67,2025-08-06\n",
      "DCC,1.46,1.44,1.47,1.18,2.04,1.39,2025-08-06\n",
      "DCON,0.23,0.23,0.24,0.23,0.41,0.0,2025-08-06\n",
      "DELTA,147.50,145.00,148.50,51.25,173.50,0.0,2025-08-06\n",
      "DIF,8.35,8.25,8.35,7.35,9.85,1.21,2025-08-06\n",
      "DOHOME,4.38,3.98,4.50,2.26,11.26,9.5,2025-08-06\n",
      "DRT,5.30,5.20,5.35,4.42,8.15,0.95,2025-08-06\n",
      "EA,2.92,2.86,2.96,1.73,7.32,0.69,2025-08-06\n",
      "EASTW,2.16,2.12,2.20,1.57,3.90,0.93,2025-08-06\n",
      "EGATIF,6.05,5.95,6.05,5.75,6.40,0.83,2025-08-06\n",
      "EGCO,112.00,110.00,112.00,85.00,128.50,0.9,2025-08-06\n",
      "EPG,3.10,2.90,3.12,2.12,5.25,7.64,2025-08-06\n",
      "FORTH,7.25,7.10,7.30,6.05,15.00,1.4,2025-08-06\n",
      "FPT,6.00,5.95,6.20,5.85,14.00,-1.64,2025-08-06\n",
      "FSMART,6.80,6.50,6.85,4.72,9.15,4.62,2025-08-06\n",
      "FTREIT,9.45,9.45,9.55,8.60,11.30,0.53,2025-08-06\n",
      "GC,3.94,3.86,3.98,3.40,5.20,2.07,2025-08-06\n",
      "GFPT,10.10,9.80,10.20,8.00,13.20,2.02,2025-08-06\n",
      "GGC,3.98,3.94,3.98,3.20,5.45,0.51,2025-08-06\n",
      "GLOBAL,7.15,6.60,7.25,4.16,16.27,5.93,2025-08-06\n",
      "GPSC,33.75,33.00,34.00,22.40,49.75,1.5,2025-08-06\n",
      "GRAMMY,4.62,4.58,4.62,4.30,8.50,0.0,2025-08-06\n",
      "GUNKUL,1.82,1.78,1.86,1.31,2.96,2.25,2025-08-06\n",
      "GVREIT,6.55,6.50,6.60,5.25,7.15,-0.76,2025-08-06\n",
      "HANA,23.00,22.50,23.10,14.00,44.00,0.88,2025-08-06\n",
      "HFT,4.12,4.06,4.14,3.32,4.82,0.0,2025-08-06\n",
      "HMPRO,7.15,6.95,7.20,5.70,11.10,2.88,2025-08-06\n",
      "HTC,15.30,15.20,15.30,14.50,17.70,0.0,2025-08-06\n",
      "ICHI,11.40,11.10,11.50,9.40,17.00,2.7,2025-08-06\n",
      "III,4.76,4.66,4.80,4.18,7.20,2.59,2025-08-06\n",
      "ILM,13.90,13.70,13.90,11.50,18.90,1.46,2025-08-06\n",
      "IMH,3.92,3.88,3.92,3.50,6.05,0.51,2025-08-06\n",
      "IMPACT,9.70,9.70,9.75,9.25,12.80,0.0,2025-08-06\n",
      "INOX,0.41,0.41,0.42,0.35,0.67,0.0,2025-08-06\n",
      "IP,3.46,3.42,3.52,2.02,5.15,2.37,2025-08-06\n",
      "IRPC,1.02,1.00,1.05,0.70,1.86,2.0,2025-08-06\n",
      "IVL,23.70,22.60,23.90,16.00,27.50,5.33,2025-08-06\n",
      "3BBIF,6.30,6.10,6.30,5.00,6.75,3.28,2025-08-06\n",
      "JMART,9.55,7.60,9.65,5.20,17.70,26.49,2025-08-06\n",
      "JMT,12.40,10.90,12.70,7.35,22.00,13.76,2025-08-06\n",
      "KBANK,166.50,165.00,166.50,127.00,167.50,1.52,2025-08-06\n",
      "KCE,24.70,24.20,25.25,13.70,42.50,0.82,2025-08-06\n",
      "KEX,1.48,1.48,1.49,0.78,3.40,0.0,2025-08-06\n",
      "KGI,3.90,3.88,3.90,3.40,4.66,0.0,2025-08-06\n",
      "KKP,56.50,55.75,57.00,37.50,58.25,1.35,2025-08-06\n",
      "KSL,1.54,1.51,1.55,1.25,2.36,0.65,2025-08-06\n",
      "KTB,23.00,22.60,23.10,17.10,24.70,1.32,2025-08-06\n",
      "KTC,29.25,28.25,30.00,21.80,52.25,3.54,2025-08-06\n",
      "KYE,297.00,297.00,299.00,280.00,324.00,-0.67,2025-08-06\n",
      "LALIN,5.00,4.94,5.00,4.80,6.80,0.4,2025-08-06\n",
      "LANNA,16.40,16.20,16.60,13.90,17.50,1.23,2025-08-06\n",
      "LH,4.04,3.86,4.04,3.18,6.50,4.12,2025-08-06\n",
      "LHFG,0.80,0.78,0.80,0.71,0.96,3.9,2025-08-06\n",
      "LHK,3.58,3.54,3.58,3.02,4.12,0.56,2025-08-06\n",
      "LIT,0.71,0.70,0.73,0.39,1.34,1.43,2025-08-06\n",
      "LPH,3.74,3.72,3.74,3.20,4.78,0.54,2025-08-06\n",
      "LPN,1.76,1.73,1.76,1.61,3.38,1.73,2025-08-06\n",
      "M,25.00,24.50,26.00,13.80,30.75,-0.99,2025-08-06\n",
      "MAJOR,8.70,8.45,8.85,7.35,16.00,3.57,2025-08-06\n",
      "MBAX,1.38,1.38,1.43,1.17,3.10,0.0,2025-08-06\n",
      "MC,10.40,10.20,10.40,9.15,13.00,0.97,2025-08-06\n",
      "MCS,8.45,8.40,8.45,5.80,9.20,0.6,2025-08-06\n",
      "MEGA,30.50,30.00,30.50,24.30,41.25,0.0,2025-08-06\n",
      "MINT,24.30,24.00,24.40,21.70,29.50,0.0,2025-08-06\n",
      "MST,7.25,7.10,7.25,5.50,10.30,0.69,2025-08-06\n",
      "MTC,39.00,38.75,40.50,33.75,54.00,1.3,2025-08-06\n",
      "NER,4.52,4.46,4.56,3.88,5.65,1.35,2025-08-06\n",
      "NOBLE,1.84,1.83,1.89,1.60,3.46,0.0,2025-08-06\n",
      "ONEE,2.38,2.34,2.42,1.99,4.68,0.85,2025-08-06\n",
      "OR,13.10,12.70,13.30,10.10,17.80,0.0,2025-08-06\n",
      "ORI,2.00,1.89,2.04,1.50,5.75,5.82,2025-08-06\n",
      "OSP,18.80,18.00,18.90,12.90,24.30,3.3,2025-08-06\n",
      "PAP,1.71,1.70,1.73,1.31,2.96,-1.16,2025-08-06\n",
      "PCSGH,3.14,3.10,3.14,2.46,4.98,0.64,2025-08-06\n",
      "PDG,2.76,2.72,2.78,2.36,2.86,1.47,2025-08-06\n",
      "PLANB,5.35,5.15,5.35,4.08,8.60,2.88,2025-08-06\n",
      "POPF,5.95,5.85,5.95,5.40,6.70,0.85,2025-08-06\n",
      "PREB,3.54,3.50,3.58,3.34,5.55,0.57,2025-08-06\n",
      "PRM,6.50,6.40,6.50,5.10,9.30,0.78,2025-08-06\n",
      "PSH,4.52,4.42,4.54,3.66,9.80,2.73,2025-08-06\n",
      "PSL,6.60,6.45,6.60,4.96,9.60,1.54,2025-08-06\n",
      "PTG,6.85,6.55,6.85,5.45,10.70,4.58,2025-08-06\n",
      "PTL,10.70,10.60,10.70,9.20,14.40,1.9,2025-08-06\n",
      "PTT,32.25,32.00,32.50,27.00,35.00,-0.77,2025-08-06\n",
      "PTTEP,123.00,121.50,124.00,93.00,150.50,0.82,2025-08-06\n",
      "PTTGC,24.70,24.20,25.50,14.20,32.75,2.92,2025-08-06\n",
      "QH,1.46,1.43,1.48,1.15,2.00,1.39,2025-08-06\n",
      "RATCH,26.25,26.00,26.50,22.50,34.25,0.96,2025-08-06\n",
      "RBF,3.74,3.72,3.84,3.04,7.40,0.54,2025-08-06\n",
      "RCL,29.50,29.00,29.75,18.20,31.00,2.61,2025-08-06\n",
      "RJH,14.20,14.10,14.20,11.50,26.25,0.71,2025-08-06\n",
      "ROJNA,4.82,4.70,4.82,4.14,7.50,2.55,2025-08-06\n",
      "RS,0.23,0.21,0.24,0.19,6.30,4.55,2025-08-06\n",
      "S11,3.16,3.04,3.20,1.68,3.70,2.6,2025-08-06\n",
      "SAPPE,38.25,37.75,38.75,27.50,98.00,-0.65,2025-08-06\n",
      "SAT,12.90,12.70,13.10,9.95,13.70,1.57,2025-08-06\n",
      "SAWAD,22.60,21.60,23.40,14.80,41.36,7.62,2025-08-06\n",
      "SC,1.84,1.78,1.85,1.40,3.22,2.79,2025-08-06\n",
      "SCB,128.50,127.00,129.00,100.50,128.00,1.18,2025-08-06\n",
      "SCC,205.00,203.00,208.00,124.50,255.00,1.49,2025-08-06\n",
      "SCCC,150.00,150.00,150.50,133.50,177.50,0.0,2025-08-06\n",
      "SCGP,18.70,18.10,19.00,10.70,32.25,3.31,2025-08-06\n",
      "SENA,1.79,1.77,1.80,1.54,2.50,0.56,2025-08-06\n",
      "SGP,6.70,6.45,6.70,5.90,7.65,1.52,2025-08-06\n",
      "SINGER,5.85,5.25,6.00,3.92,12.70,11.43,2025-08-06\n",
      "SIRI,1.52,1.49,1.53,1.11,1.94,0.66,2025-08-06\n",
      "SIS,22.90,22.40,22.90,17.60,31.25,2.23,2025-08-06\n",
      "SJWD,9.00,8.65,9.15,5.75,12.50,4.05,2025-08-06\n",
      "SKN,5.70,5.60,5.80,5.05,6.40,0.88,2025-08-06\n",
      "SKR,7.10,7.05,7.15,6.20,9.80,0.0,2025-08-06\n",
      "SMPC,8.55,8.45,8.55,7.80,10.10,1.18,2025-08-06\n",
      "SNC,6.05,5.95,6.10,4.72,7.35,1.68,2025-08-06\n",
      "SPALI,15.70,15.50,15.90,13.20,21.10,1.29,2025-08-06\n",
      "SPC,58.50,58.50,58.50,53.00,61.50,0.0,2025-08-06\n",
      "SPCG,8.30,8.20,8.35,6.60,9.40,0.0,2025-08-06\n",
      "SPRC,5.65,5.50,5.70,4.26,7.60,3.67,2025-08-06\n",
      "SPRIME,3.40,3.36,3.40,3.00,4.56,1.19,2025-08-06\n",
      "SSP,4.08,4.04,4.10,4.06,6.40,0.0,2025-08-06\n",
      "STA,14.00,13.90,14.30,10.30,25.75,0.72,2025-08-06\n",
      "STANLY,184.00,184.00,184.50,183.50,225.00,0.0,2025-08-06\n",
      "STGT,7.10,7.05,7.30,5.10,13.30,-1.39,2025-08-06\n",
      "SUPER,0.15,0.14,0.16,0.12,0.32,0.0,2025-08-06\n",
      "SUPEREIF,5.25,5.20,5.25,4.72,7.05,0.0,2025-08-06\n",
      "SVI,6.10,6.00,6.15,5.55,9.40,0.0,2025-08-06\n",
      "SYNEX,12.60,12.10,12.80,9.30,16.70,5.0,2025-08-06\n",
      "TASCO,14.90,14.50,15.00,13.20,20.00,2.05,2025-08-06\n",
      "TCAP,48.50,48.25,49.00,44.25,53.50,0.52,2025-08-06\n",
      "TFFIF,6.05,6.00,6.10,5.25,7.20,0.0,2025-08-06\n",
      "TFG,5.10,5.05,5.20,3.02,5.45,0.0,2025-08-06\n",
      "THANI,1.84,1.73,1.85,1.15,2.26,5.14,2025-08-06\n",
      "THG,8.90,8.75,8.95,7.75,37.00,1.71,2025-08-06\n",
      "TIPH,19.90,19.20,20.00,16.70,30.50,3.65,2025-08-06\n",
      "TIPCO,8.85,8.75,8.90,8.35,10.40,1.14,2025-08-06\n",
      "TISCO,99.75,99.25,100.00,90.00,101.00,0.25,2025-08-06\n",
      "TK,4.06,3.96,4.14,3.28,5.45,2.01,2025-08-06\n",
      "TKN,6.05,5.85,6.10,5.00,11.80,2.54,2025-08-06\n",
      "TKS,5.75,5.60,5.75,4.90,8.15,1.77,2025-08-06\n",
      "TMT,3.36,3.30,3.38,2.60,5.40,0.6,2025-08-06\n",
      "TMW,49.00,48.75,49.00,44.75,66.75,0.51,2025-08-06\n",
      "TOA,14.60,14.30,14.60,9.35,20.50,2.82,2025-08-06\n",
      "TOP,34.00,33.25,34.25,21.00,55.50,1.49,2025-08-06\n",
      "TPIPL,0.94,0.91,0.95,0.72,1.29,1.08,2025-08-06\n",
      "TPIPP,2.40,2.32,2.40,1.99,3.14,4.35,2025-08-06\n",
      "TQM,15.50,14.80,15.70,12.20,33.25,3.33,2025-08-06\n",
      "TRUE,11.20,10.70,11.30,9.60,13.30,2.75,2025-08-06\n",
      "TSE,0.45,0.42,0.48,0.29,1.24,-4.26,2025-08-06\n",
      "TSTH,0.79,0.78,0.81,0.47,0.93,-1.25,2025-08-06\n",
      "TTA,4.42,4.36,4.46,3.22,6.55,1.38,2025-08-06\n",
      "TTB,1.92,1.91,1.94,1.63,2.06,0.0,2025-08-06\n",
      "TTLPF,11.00,10.90,11.00,10.90,17.00,0.0,2025-08-06\n",
      "TTW,9.10,9.05,9.10,8.45,9.50,0.55,2025-08-06\n",
      "TU,12.40,12.10,12.60,8.60,15.80,0.0,2025-08-06\n",
      "TVO,23.30,23.20,23.40,19.50,25.25,0.87,2025-08-06\n",
      "TYCN,-,0.00,0.00,1.62,2.62,0.0,2025-08-06\n",
      "UTP,7.60,7.50,7.65,7.20,11.30,-0.65,2025-08-06\n",
      "VGI,2.12,2.08,2.16,1.65,3.68,0.0,2025-08-06\n",
      "VIBHA,1.51,1.49,1.52,1.37,2.30,0.67,2025-08-06\n",
      "VNG,2.02,2.00,2.04,1.89,3.82,1.0,2025-08-06\n",
      "WHA,3.60,3.52,3.64,2.26,6.20,1.69,2025-08-06\n",
      "WHAIR,5.55,5.50,5.55,4.12,6.75,0.91,2025-08-06\n",
      "WHART,9.40,9.40,9.55,8.55,10.80,0.53,2025-08-06\n",
      "WHAUP,3.46,3.42,3.46,2.76,5.50,1.76,2025-08-06\n",
      "WICE,3.28,3.20,3.28,2.34,6.95,2.5,2025-08-06\n",
      "WORK,4.14,4.10,4.16,3.82,10.40,0.98,2025-08-06\n"
     ]
    }
   ],
   "source": [
    "df = pd.read_csv(input_file, header=None)\n",
    "out_df = get_stock_data(df)"
   ]
  },
  {
   "cell_type": "code",
   "execution_count": 13,
   "id": "d31edacf",
   "metadata": {},
   "outputs": [
    {
     "name": "stdout",
     "output_type": "stream",
     "text": [
      "End at:  08:29 PM\n"
     ]
    }
   ],
   "source": [
    "end_time = strftime(\"%I:%M %p\")\n",
    "print('End at: ', end_time)"
   ]
  },
  {
   "cell_type": "code",
   "execution_count": 14,
   "id": "b89c4ae7",
   "metadata": {},
   "outputs": [
    {
     "data": {
      "text/html": [
       "<div>\n",
       "<style scoped>\n",
       "    .dataframe tbody tr th:only-of-type {\n",
       "        vertical-align: middle;\n",
       "    }\n",
       "\n",
       "    .dataframe tbody tr th {\n",
       "        vertical-align: top;\n",
       "    }\n",
       "\n",
       "    .dataframe thead th {\n",
       "        text-align: right;\n",
       "    }\n",
       "</style>\n",
       "<table border=\"1\" class=\"dataframe\">\n",
       "  <thead>\n",
       "    <tr style=\"text-align: right;\">\n",
       "      <th></th>\n",
       "      <th>name</th>\n",
       "      <th>price</th>\n",
       "      <th>today_low</th>\n",
       "      <th>today_high</th>\n",
       "      <th>year_low</th>\n",
       "      <th>year_high</th>\n",
       "      <th>percent</th>\n",
       "      <th>updated_at</th>\n",
       "    </tr>\n",
       "  </thead>\n",
       "  <tbody>\n",
       "    <tr>\n",
       "      <th>205</th>\n",
       "      <td>TYCN</td>\n",
       "      <td>-</td>\n",
       "      <td>0.00</td>\n",
       "      <td>0.00</td>\n",
       "      <td>1.62</td>\n",
       "      <td>2.62</td>\n",
       "      <td>0.0</td>\n",
       "      <td>2025-08-06</td>\n",
       "    </tr>\n",
       "  </tbody>\n",
       "</table>\n",
       "</div>"
      ],
      "text/plain": [
       "     name price today_low today_high year_low year_high  percent  updated_at\n",
       "205  TYCN     -      0.00       0.00     1.62      2.62      0.0  2025-08-06"
      ]
     },
     "execution_count": 14,
     "metadata": {},
     "output_type": "execute_result"
    }
   ],
   "source": [
    "out_df.query('price == \"-\"')"
   ]
  },
  {
   "cell_type": "code",
   "execution_count": 15,
   "id": "784f1b6d",
   "metadata": {},
   "outputs": [
    {
     "data": {
      "text/plain": [
       "(216, 8)"
      ]
     },
     "execution_count": 15,
     "metadata": {},
     "output_type": "execute_result"
    }
   ],
   "source": [
    "out_df.shape"
   ]
  },
  {
   "cell_type": "code",
   "execution_count": 16,
   "id": "6326d0c5",
   "metadata": {},
   "outputs": [],
   "source": [
    "out_df = out_df[out_df['name'] != 'BCT']"
   ]
  },
  {
   "cell_type": "code",
   "execution_count": 17,
   "id": "2a293f55-436e-45d1-9966-50d12c26e659",
   "metadata": {},
   "outputs": [],
   "source": [
    "out_df = out_df[out_df['name'] != 'LPF']"
   ]
  },
  {
   "cell_type": "code",
   "execution_count": 18,
   "id": "cc4b3547-5ea9-4ac6-bd11-896e67d464ed",
   "metadata": {},
   "outputs": [],
   "source": [
    "out_df = out_df[out_df['name'] != 'TYCN']"
   ]
  },
  {
   "cell_type": "code",
   "execution_count": 19,
   "id": "865622c2-dad3-4ba8-b35a-898461fe5e9a",
   "metadata": {},
   "outputs": [],
   "source": [
    "out_df = out_df[out_df['name'] != 'GRAMMY']"
   ]
  },
  {
   "cell_type": "code",
   "execution_count": 20,
   "id": "cb2d763d-5b75-4ace-b87a-f165c8e6cb91",
   "metadata": {},
   "outputs": [],
   "source": [
    "out_df = out_df[out_df['name'] != 'MST']"
   ]
  },
  {
   "cell_type": "code",
   "execution_count": 21,
   "id": "e65305f0-157a-4129-a758-15c02e8df06a",
   "metadata": {},
   "outputs": [],
   "source": [
    "out_df = out_df[out_df['name'] != 'SPC']"
   ]
  },
  {
   "cell_type": "code",
   "execution_count": 22,
   "id": "cb55b5f6-0679-4191-aeda-ab0cf45f18e7",
   "metadata": {},
   "outputs": [],
   "source": [
    "out_df = out_df[out_df['name'] != 'SPRIME']"
   ]
  },
  {
   "cell_type": "code",
   "execution_count": 23,
   "id": "981854f1-01a1-4e26-b2a9-4f58948a33ec",
   "metadata": {},
   "outputs": [],
   "source": [
    "out_df = out_df[out_df['name'] != 'FPT']"
   ]
  },
  {
   "cell_type": "code",
   "execution_count": 24,
   "id": "a2833967-e889-4ad5-97b2-8234ba35c31c",
   "metadata": {},
   "outputs": [],
   "source": [
    "out_df = out_df[out_df['name'] != 'GGC']"
   ]
  },
  {
   "cell_type": "code",
   "execution_count": 25,
   "id": "b2771ed1",
   "metadata": {},
   "outputs": [
    {
     "data": {
      "text/plain": [
       "(208, 8)"
      ]
     },
     "execution_count": 25,
     "metadata": {},
     "output_type": "execute_result"
    }
   ],
   "source": [
    "out_df.shape"
   ]
  },
  {
   "cell_type": "code",
   "execution_count": 26,
   "id": "eb2ffec6",
   "metadata": {},
   "outputs": [],
   "source": [
    "out_df['price'] = out_df['price'].astype('float')\n",
    "out_df['today_low'] = out_df['today_low'].astype('float')\n",
    "out_df['today_high'] = out_df['today_high'].astype('float')\n",
    "out_df['year_low'] = out_df['year_low'].astype('float')\n",
    "out_df['year_high'] = out_df['year_high'].astype('float')\n",
    "out_df['percent'] = out_df['percent'].astype('float')"
   ]
  },
  {
   "cell_type": "code",
   "execution_count": 27,
   "id": "f4fb1a3c",
   "metadata": {},
   "outputs": [],
   "source": [
    "sorted_out_df = out_df.sort_values('percent')"
   ]
  },
  {
   "cell_type": "code",
   "execution_count": 28,
   "id": "032f0eea",
   "metadata": {},
   "outputs": [
    {
     "data": {
      "text/html": [
       "<div>\n",
       "<style scoped>\n",
       "    .dataframe tbody tr th:only-of-type {\n",
       "        vertical-align: middle;\n",
       "    }\n",
       "\n",
       "    .dataframe tbody tr th {\n",
       "        vertical-align: top;\n",
       "    }\n",
       "\n",
       "    .dataframe thead th {\n",
       "        text-align: right;\n",
       "    }\n",
       "</style>\n",
       "<table border=\"1\" class=\"dataframe\">\n",
       "  <thead>\n",
       "    <tr style=\"text-align: right;\">\n",
       "      <th></th>\n",
       "      <th>name</th>\n",
       "      <th>price</th>\n",
       "      <th>today_low</th>\n",
       "      <th>today_high</th>\n",
       "      <th>year_low</th>\n",
       "      <th>year_high</th>\n",
       "      <th>percent</th>\n",
       "      <th>updated_at</th>\n",
       "    </tr>\n",
       "  </thead>\n",
       "  <tbody>\n",
       "    <tr>\n",
       "      <th>169</th>\n",
       "      <td>SSP</td>\n",
       "      <td>4.08</td>\n",
       "      <td>4.04</td>\n",
       "      <td>4.1</td>\n",
       "      <td>4.06</td>\n",
       "      <td>6.4</td>\n",
       "      <td>0.0</td>\n",
       "      <td>2025-08-06</td>\n",
       "    </tr>\n",
       "  </tbody>\n",
       "</table>\n",
       "</div>"
      ],
      "text/plain": [
       "    name  price  today_low  today_high  year_low  year_high  percent  \\\n",
       "169  SSP   4.08       4.04         4.1      4.06        6.4      0.0   \n",
       "\n",
       "     updated_at  \n",
       "169  2025-08-06  "
      ]
     },
     "execution_count": 28,
     "metadata": {},
     "output_type": "execute_result"
    }
   ],
   "source": [
    "sorted_out_df.query('today_low < year_low')"
   ]
  },
  {
   "cell_type": "code",
   "execution_count": 29,
   "id": "8e04b03d",
   "metadata": {},
   "outputs": [
    {
     "data": {
      "text/html": [
       "<div>\n",
       "<style scoped>\n",
       "    .dataframe tbody tr th:only-of-type {\n",
       "        vertical-align: middle;\n",
       "    }\n",
       "\n",
       "    .dataframe tbody tr th {\n",
       "        vertical-align: top;\n",
       "    }\n",
       "\n",
       "    .dataframe thead th {\n",
       "        text-align: right;\n",
       "    }\n",
       "</style>\n",
       "<table border=\"1\" class=\"dataframe\">\n",
       "  <thead>\n",
       "    <tr style=\"text-align: right;\">\n",
       "      <th></th>\n",
       "      <th>name</th>\n",
       "      <th>price</th>\n",
       "      <th>today_low</th>\n",
       "      <th>today_high</th>\n",
       "      <th>year_low</th>\n",
       "      <th>year_high</th>\n",
       "      <th>percent</th>\n",
       "      <th>updated_at</th>\n",
       "    </tr>\n",
       "  </thead>\n",
       "  <tbody>\n",
       "    <tr>\n",
       "      <th>150</th>\n",
       "      <td>SCB</td>\n",
       "      <td>128.5</td>\n",
       "      <td>127.0</td>\n",
       "      <td>129.0</td>\n",
       "      <td>100.5</td>\n",
       "      <td>128.0</td>\n",
       "      <td>1.18</td>\n",
       "      <td>2025-08-06</td>\n",
       "    </tr>\n",
       "  </tbody>\n",
       "</table>\n",
       "</div>"
      ],
      "text/plain": [
       "    name  price  today_low  today_high  year_low  year_high  percent  \\\n",
       "150  SCB  128.5      127.0       129.0     100.5      128.0     1.18   \n",
       "\n",
       "     updated_at  \n",
       "150  2025-08-06  "
      ]
     },
     "execution_count": 29,
     "metadata": {},
     "output_type": "execute_result"
    }
   ],
   "source": [
    "sorted_out_df.query('today_high > year_high')"
   ]
  },
  {
   "cell_type": "code",
   "execution_count": 30,
   "id": "290a9607",
   "metadata": {},
   "outputs": [
    {
     "data": {
      "text/html": [
       "<div>\n",
       "<style scoped>\n",
       "    .dataframe tbody tr th:only-of-type {\n",
       "        vertical-align: middle;\n",
       "    }\n",
       "\n",
       "    .dataframe tbody tr th {\n",
       "        vertical-align: top;\n",
       "    }\n",
       "\n",
       "    .dataframe thead th {\n",
       "        text-align: right;\n",
       "    }\n",
       "</style>\n",
       "<table border=\"1\" class=\"dataframe\">\n",
       "  <thead>\n",
       "    <tr style=\"text-align: right;\">\n",
       "      <th></th>\n",
       "      <th>name</th>\n",
       "      <th>price</th>\n",
       "      <th>today_low</th>\n",
       "      <th>today_high</th>\n",
       "      <th>year_low</th>\n",
       "      <th>year_high</th>\n",
       "      <th>percent</th>\n",
       "      <th>updated_at</th>\n",
       "    </tr>\n",
       "  </thead>\n",
       "  <tbody>\n",
       "    <tr>\n",
       "      <th>150</th>\n",
       "      <td>SCB</td>\n",
       "      <td>128.5</td>\n",
       "      <td>127.0</td>\n",
       "      <td>129.0</td>\n",
       "      <td>100.5</td>\n",
       "      <td>128.0</td>\n",
       "      <td>1.18</td>\n",
       "      <td>2025-08-06</td>\n",
       "    </tr>\n",
       "  </tbody>\n",
       "</table>\n",
       "</div>"
      ],
      "text/plain": [
       "    name  price  today_low  today_high  year_low  year_high  percent  \\\n",
       "150  SCB  128.5      127.0       129.0     100.5      128.0     1.18   \n",
       "\n",
       "     updated_at  \n",
       "150  2025-08-06  "
      ]
     },
     "execution_count": 30,
     "metadata": {},
     "output_type": "execute_result"
    }
   ],
   "source": [
    "out_df.query('today_high > year_high')"
   ]
  },
  {
   "cell_type": "code",
   "execution_count": 31,
   "id": "5fbeba56-2a63-4650-898b-6447a81f95f5",
   "metadata": {},
   "outputs": [],
   "source": [
    "file_name = \"Price-Hilo.csv\"\n",
    "output_file = os.path.join(dat_path, file_name)\n",
    "god_file = os.path.join(god_path, file_name)\n",
    "icd_file = os.path.join(icd_path, file_name)\n",
    "osd_file = os.path.join(osd_path, file_name)"
   ]
  },
  {
   "cell_type": "code",
   "execution_count": 32,
   "id": "da6183ac-2f05-4f67-b200-fe83634d29dc",
   "metadata": {},
   "outputs": [
    {
     "name": "stdout",
     "output_type": "stream",
     "text": [
      "output_file : C:\\Users\\PC1\\OneDrive\\A5\\Data\\Price-Hilo.csv\n",
      "icd_file : C:\\Users\\PC1\\iCloudDrive\\Data\\Price-Hilo.csv\n",
      "god_file : C:\\Users\\PC1\\OneDrive\\Imports\\santisoontarinka@gmail.com - Google Drive\\Data\\Price-Hilo.csv\n",
      "osd_file : C:\\Users\\PC1\\OneDrive\\Documents\\obsidian-git-sync\\Data\\Price-Hilo.csv\n"
     ]
    }
   ],
   "source": [
    "print(f\"output_file : {output_file}\") \n",
    "print(f\"icd_file : {icd_file}\") \n",
    "print(f\"god_file : {god_file}\") \n",
    "print(f\"osd_file : {osd_file}\") "
   ]
  },
  {
   "cell_type": "code",
   "execution_count": 33,
   "id": "8017b53b",
   "metadata": {},
   "outputs": [],
   "source": [
    "out_df.to_csv(output_file, index=False)  \n",
    "out_df.to_csv(god_file, index=False) \n",
    "out_df.to_csv(icd_file, index=False)  \n",
    "out_df.to_csv(osd_file, index=False) "
   ]
  },
  {
   "cell_type": "code",
   "execution_count": 34,
   "id": "80692fae-6308-4695-bcac-5124ce4d44e3",
   "metadata": {},
   "outputs": [
    {
     "name": "stdout",
     "output_type": "stream",
     "text": [
      "2025-08-06 20:29:26\n"
     ]
    }
   ],
   "source": [
    "# Get the current time\n",
    "current_time = datetime.now()\n",
    "# Format the time to remove milliseconds\n",
    "formatted_time = current_time.strftime(\"%Y-%m-%d %H:%M:%S\")\n",
    "print(formatted_time)"
   ]
  }
 ],
 "metadata": {
  "kernelspec": {
   "display_name": "Python 3 (ipykernel)",
   "language": "python",
   "name": "python3"
  },
  "language_info": {
   "codemirror_mode": {
    "name": "ipython",
    "version": 3
   },
   "file_extension": ".py",
   "mimetype": "text/x-python",
   "name": "python",
   "nbconvert_exporter": "python",
   "pygments_lexer": "ipython3",
   "version": "3.12.3"
  }
 },
 "nbformat": 4,
 "nbformat_minor": 5
}
