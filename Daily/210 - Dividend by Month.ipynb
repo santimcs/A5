{
 "cells": [
  {
   "cell_type": "markdown",
   "id": "29764f10",
   "metadata": {},
   "source": [
    "### Restart and Run All Cells"
   ]
  },
  {
   "cell_type": "markdown",
   "id": "d8a383f5",
   "metadata": {},
   "source": [
    "### Input files: Price-Today, orders-log\n",
    "### Output files: Price-for-Order, orders-log, monthly-sales"
   ]
  },
  {
   "cell_type": "code",
   "execution_count": 37,
   "id": "2a2bb67d",
   "metadata": {},
   "outputs": [
    {
     "name": "stdout",
     "output_type": "stream",
     "text": [
      "2025-09-16 2025-09-15\n"
     ]
    }
   ],
   "source": [
    "import glob\n",
    "import os\n",
    "import pandas as pd\n",
    "from datetime import date, timedelta, datetime\n",
    "from pandas.tseries.offsets import *\n",
    "from sqlalchemy import create_engine\n",
    "\n",
    "engine = create_engine(\"sqlite:///c:\\\\ruby\\\\port_lite\\\\db\\\\development.sqlite3\")\n",
    "conlite = engine.connect()\n",
    "engine = create_engine('mysql+pymysql://root:@localhost:3306/portfolio_development')\n",
    "conpf = engine.connect()\n",
    "engine = create_engine(\"mysql+pymysql://root:@localhost:3306/stock\")\n",
    "const = engine.connect()\n",
    "\n",
    "format_dict = {\n",
    "              'qty':'{:,}','number':'{:,}','net':'{:,.5f}',\n",
    "              'sell_price':'{:,.2f}','buy_price':'{:,.2f}','diff':'{:,.2f}', 'target':'{:,.2f}','low':'{:,.2f}',\n",
    "              'cost':'{:,.2f}','price':'{:,.2f}','%change':'{:,.2f}','%profit':'{:,.2f}','profit':'{:,.2f}',\n",
    "              'sell_amt':'{:,.2f}','buy_amt':'{:,.2f}','gross':'{:,.2f}','amount':'{:,.2f}',\n",
    "              'amt':'{:,.2f}','mkt_amt':'{:,.2f}','difa':'{:,.2f}','current':'{:,.2f}','change':'{:,.2f}',  \n",
    "              'pct':'{:,.2f}%','net':'{:,.2f}','%change':'{:,.2f}%','%profit':'{:,.2f}%','sell_date':'{:%Y-%m-%d}',\n",
    "              '%decline':'{:,.2f}%','ppu':'{:.5f}'\n",
    "              }\n",
    "pd.options.display.max_rows = 50\n",
    "#pd.options.display.float_format = '{:.2f}'.format\n",
    "\n",
    "today = date.today()\n",
    "yesterday = today - timedelta(days=1)\n",
    "print(today, yesterday)"
   ]
  },
  {
   "cell_type": "code",
   "execution_count": 4,
   "id": "827c35b1-74ae-4922-afc4-63c50c6d3a5d",
   "metadata": {},
   "outputs": [
    {
     "name": "stdout",
     "output_type": "stream",
     "text": [
      "2025-09-16 23:09:17\n"
     ]
    }
   ],
   "source": [
    "# Get the current time\n",
    "current_time = datetime.now()\n",
    "# Format the time to remove milliseconds\n",
    "fmt_time = current_time.strftime(\"%Y-%m-%d %H:%M:%S\")\n",
    "print(fmt_time)"
   ]
  },
  {
   "cell_type": "code",
   "execution_count": 5,
   "id": "d6b5b24c",
   "metadata": {},
   "outputs": [
    {
     "name": "stdout",
     "output_type": "stream",
     "text": [
      "Data path (dat_path): C:\\Users\\PC1\\OneDrive\\A5\\Data\n",
      "Input file: C:\\Users\\PC1\\OneDrive\\A5\\Data\\Price-Today.csv\n"
     ]
    }
   ],
   "source": [
    "current_path = os.getcwd()\n",
    "base_path = os.path.dirname(current_path)\n",
    "dat_path = os.path.join(base_path, \"Data\")\n",
    "print(f\"Data path (dat_path): {dat_path}\") \n",
    "file_name = \"Price-Today.csv\"\n",
    "input_file = os.path.join(dat_path, file_name)\n",
    "print(f\"Input file: {input_file}\")"
   ]
  },
  {
   "cell_type": "code",
   "execution_count": 6,
   "id": "1c1fe541-7848-47db-90fa-597130927cea",
   "metadata": {},
   "outputs": [],
   "source": [
    "# Define a formatting function that converts a float to a string with two decimal places\n",
    "def to_currency(x):\n",
    "    return '฿{:,.2f}'.format(x)    \n",
    "\n",
    "# Define a formatting function that converts an integer to a string with comma and no decimal places\n",
    "def to_integer(x):\n",
    "    return '{:,.0f}'.format(x)\n",
    "\n",
    "# Define a formatting function that converts an integer to a string with comma and no decimal places\n",
    "def to_percent(x):\n",
    "    return '{:,.2f}%'.format(x)\n",
    "\n",
    "# Define a formatting function that converts an integer to a string with comma and no decimal places\n",
    "def to_date(x):\n",
    "    return '{:%Y-%m-%d}'.format(x)"
   ]
  },
  {
   "cell_type": "markdown",
   "id": "19540c65-ed2d-442a-88ca-fde2406bf74f",
   "metadata": {},
   "source": [
    "### Dividend per Month"
   ]
  },
  {
   "cell_type": "code",
   "execution_count": 8,
   "id": "d0f1b7da-92b6-4f8b-ae83-fd2e300ac910",
   "metadata": {},
   "outputs": [],
   "source": [
    "year = 2025\n",
    "month = 9\n",
    "sql = '''\n",
    "    SELECT name, p_date, number, ' ' AS Buy, ' ' AS Purchase, ppu, amt, net\n",
    "    FROM dividends\n",
    "    WHERE YEAR(p_date) = {} AND MONTH(p_date) = {}\n",
    "    ORDER BY p_date ASC, name\n",
    "'''.format(year, month)\n",
    "\n",
    "df_dividends= pd.read_sql(sql, conpf)\n",
    "#print(sql)"
   ]
  },
  {
   "cell_type": "code",
   "execution_count": 39,
   "id": "c450976b-1e9f-487e-89ee-692d5633b95e",
   "metadata": {},
   "outputs": [
    {
     "data": {
      "text/html": [
       "<style type=\"text/css\">\n",
       "</style>\n",
       "<table id=\"T_8f009\">\n",
       "  <thead>\n",
       "    <tr>\n",
       "      <th id=\"T_8f009_level0_col0\" class=\"col_heading level0 col0\" >name</th>\n",
       "      <th id=\"T_8f009_level0_col1\" class=\"col_heading level0 col1\" >p_date</th>\n",
       "      <th id=\"T_8f009_level0_col2\" class=\"col_heading level0 col2\" >number</th>\n",
       "      <th id=\"T_8f009_level0_col3\" class=\"col_heading level0 col3\" >Buy</th>\n",
       "      <th id=\"T_8f009_level0_col4\" class=\"col_heading level0 col4\" >Purchase</th>\n",
       "      <th id=\"T_8f009_level0_col5\" class=\"col_heading level0 col5\" >ppu</th>\n",
       "      <th id=\"T_8f009_level0_col6\" class=\"col_heading level0 col6\" >amt</th>\n",
       "      <th id=\"T_8f009_level0_col7\" class=\"col_heading level0 col7\" >net</th>\n",
       "    </tr>\n",
       "  </thead>\n",
       "  <tbody>\n",
       "    <tr>\n",
       "      <td id=\"T_8f009_row0_col0\" class=\"data row0 col0\" >3BBIF</td>\n",
       "      <td id=\"T_8f009_row0_col1\" class=\"data row0 col1\" >2025-09-03</td>\n",
       "      <td id=\"T_8f009_row0_col2\" class=\"data row0 col2\" >120,000</td>\n",
       "      <td id=\"T_8f009_row0_col3\" class=\"data row0 col3\" > </td>\n",
       "      <td id=\"T_8f009_row0_col4\" class=\"data row0 col4\" > </td>\n",
       "      <td id=\"T_8f009_row0_col5\" class=\"data row0 col5\" >0.15455</td>\n",
       "      <td id=\"T_8f009_row0_col6\" class=\"data row0 col6\" >18,546.00</td>\n",
       "      <td id=\"T_8f009_row0_col7\" class=\"data row0 col7\" >16,691.40</td>\n",
       "    </tr>\n",
       "    <tr>\n",
       "      <td id=\"T_8f009_row1_col0\" class=\"data row1 col0\" >AIMIRT</td>\n",
       "      <td id=\"T_8f009_row1_col1\" class=\"data row1 col1\" >2025-09-05</td>\n",
       "      <td id=\"T_8f009_row1_col2\" class=\"data row1 col2\" >17,500</td>\n",
       "      <td id=\"T_8f009_row1_col3\" class=\"data row1 col3\" > </td>\n",
       "      <td id=\"T_8f009_row1_col4\" class=\"data row1 col4\" > </td>\n",
       "      <td id=\"T_8f009_row1_col5\" class=\"data row1 col5\" >0.20500</td>\n",
       "      <td id=\"T_8f009_row1_col6\" class=\"data row1 col6\" >3,587.50</td>\n",
       "      <td id=\"T_8f009_row1_col7\" class=\"data row1 col7\" >3,228.75</td>\n",
       "    </tr>\n",
       "    <tr>\n",
       "      <td id=\"T_8f009_row2_col0\" class=\"data row2 col0\" >NER</td>\n",
       "      <td id=\"T_8f009_row2_col1\" class=\"data row2 col1\" >2025-09-05</td>\n",
       "      <td id=\"T_8f009_row2_col2\" class=\"data row2 col2\" >27,000</td>\n",
       "      <td id=\"T_8f009_row2_col3\" class=\"data row2 col3\" > </td>\n",
       "      <td id=\"T_8f009_row2_col4\" class=\"data row2 col4\" > </td>\n",
       "      <td id=\"T_8f009_row2_col5\" class=\"data row2 col5\" >0.05000</td>\n",
       "      <td id=\"T_8f009_row2_col6\" class=\"data row2 col6\" >1,350.00</td>\n",
       "      <td id=\"T_8f009_row2_col7\" class=\"data row2 col7\" >1,350.00</td>\n",
       "    </tr>\n",
       "    <tr>\n",
       "      <td id=\"T_8f009_row3_col0\" class=\"data row3 col0\" >RCL</td>\n",
       "      <td id=\"T_8f009_row3_col1\" class=\"data row3 col1\" >2025-09-05</td>\n",
       "      <td id=\"T_8f009_row3_col2\" class=\"data row3 col2\" >27,000</td>\n",
       "      <td id=\"T_8f009_row3_col3\" class=\"data row3 col3\" > </td>\n",
       "      <td id=\"T_8f009_row3_col4\" class=\"data row3 col4\" > </td>\n",
       "      <td id=\"T_8f009_row3_col5\" class=\"data row3 col5\" >0.50000</td>\n",
       "      <td id=\"T_8f009_row3_col6\" class=\"data row3 col6\" >13,500.00</td>\n",
       "      <td id=\"T_8f009_row3_col7\" class=\"data row3 col7\" >12,825.00</td>\n",
       "    </tr>\n",
       "    <tr>\n",
       "      <td id=\"T_8f009_row4_col0\" class=\"data row4 col0\" >TVO</td>\n",
       "      <td id=\"T_8f009_row4_col1\" class=\"data row4 col1\" >2025-09-05</td>\n",
       "      <td id=\"T_8f009_row4_col2\" class=\"data row4 col2\" >8,000</td>\n",
       "      <td id=\"T_8f009_row4_col3\" class=\"data row4 col3\" > </td>\n",
       "      <td id=\"T_8f009_row4_col4\" class=\"data row4 col4\" > </td>\n",
       "      <td id=\"T_8f009_row4_col5\" class=\"data row4 col5\" >0.80000</td>\n",
       "      <td id=\"T_8f009_row4_col6\" class=\"data row4 col6\" >6,400.00</td>\n",
       "      <td id=\"T_8f009_row4_col7\" class=\"data row4 col7\" >5,760.00</td>\n",
       "    </tr>\n",
       "    <tr>\n",
       "      <td id=\"T_8f009_row5_col0\" class=\"data row5 col0\" >WHART</td>\n",
       "      <td id=\"T_8f009_row5_col1\" class=\"data row5 col1\" >2025-09-05</td>\n",
       "      <td id=\"T_8f009_row5_col2\" class=\"data row5 col2\" >25,000</td>\n",
       "      <td id=\"T_8f009_row5_col3\" class=\"data row5 col3\" > </td>\n",
       "      <td id=\"T_8f009_row5_col4\" class=\"data row5 col4\" > </td>\n",
       "      <td id=\"T_8f009_row5_col5\" class=\"data row5 col5\" >0.17170</td>\n",
       "      <td id=\"T_8f009_row5_col6\" class=\"data row5 col6\" >4,292.50</td>\n",
       "      <td id=\"T_8f009_row5_col7\" class=\"data row5 col7\" >3,863.25</td>\n",
       "    </tr>\n",
       "    <tr>\n",
       "      <td id=\"T_8f009_row6_col0\" class=\"data row6 col0\" >DIF</td>\n",
       "      <td id=\"T_8f009_row6_col1\" class=\"data row6 col1\" >2025-09-09</td>\n",
       "      <td id=\"T_8f009_row6_col2\" class=\"data row6 col2\" >50,000</td>\n",
       "      <td id=\"T_8f009_row6_col3\" class=\"data row6 col3\" > </td>\n",
       "      <td id=\"T_8f009_row6_col4\" class=\"data row6 col4\" > </td>\n",
       "      <td id=\"T_8f009_row6_col5\" class=\"data row6 col5\" >0.22220</td>\n",
       "      <td id=\"T_8f009_row6_col6\" class=\"data row6 col6\" >11,110.00</td>\n",
       "      <td id=\"T_8f009_row6_col7\" class=\"data row6 col7\" >9,999.00</td>\n",
       "    </tr>\n",
       "    <tr>\n",
       "      <td id=\"T_8f009_row7_col0\" class=\"data row7 col0\" >AH</td>\n",
       "      <td id=\"T_8f009_row7_col1\" class=\"data row7 col1\" >2025-09-10</td>\n",
       "      <td id=\"T_8f009_row7_col2\" class=\"data row7 col2\" >1,200</td>\n",
       "      <td id=\"T_8f009_row7_col3\" class=\"data row7 col3\" > </td>\n",
       "      <td id=\"T_8f009_row7_col4\" class=\"data row7 col4\" > </td>\n",
       "      <td id=\"T_8f009_row7_col5\" class=\"data row7 col5\" >0.31000</td>\n",
       "      <td id=\"T_8f009_row7_col6\" class=\"data row7 col6\" >372.00</td>\n",
       "      <td id=\"T_8f009_row7_col7\" class=\"data row7 col7\" >339.60</td>\n",
       "    </tr>\n",
       "    <tr>\n",
       "      <td id=\"T_8f009_row8_col0\" class=\"data row8 col0\" >MCS</td>\n",
       "      <td id=\"T_8f009_row8_col1\" class=\"data row8 col1\" >2025-09-10</td>\n",
       "      <td id=\"T_8f009_row8_col2\" class=\"data row8 col2\" >81,000</td>\n",
       "      <td id=\"T_8f009_row8_col3\" class=\"data row8 col3\" > </td>\n",
       "      <td id=\"T_8f009_row8_col4\" class=\"data row8 col4\" > </td>\n",
       "      <td id=\"T_8f009_row8_col5\" class=\"data row8 col5\" >0.25000</td>\n",
       "      <td id=\"T_8f009_row8_col6\" class=\"data row8 col6\" >20,250.00</td>\n",
       "      <td id=\"T_8f009_row8_col7\" class=\"data row8 col7\" >19,926.00</td>\n",
       "    </tr>\n",
       "    <tr>\n",
       "      <td id=\"T_8f009_row9_col0\" class=\"data row9 col0\" >SYNEX</td>\n",
       "      <td id=\"T_8f009_row9_col1\" class=\"data row9 col1\" >2025-09-10</td>\n",
       "      <td id=\"T_8f009_row9_col2\" class=\"data row9 col2\" >17,500</td>\n",
       "      <td id=\"T_8f009_row9_col3\" class=\"data row9 col3\" > </td>\n",
       "      <td id=\"T_8f009_row9_col4\" class=\"data row9 col4\" > </td>\n",
       "      <td id=\"T_8f009_row9_col5\" class=\"data row9 col5\" >0.10000</td>\n",
       "      <td id=\"T_8f009_row9_col6\" class=\"data row9 col6\" >1,750.00</td>\n",
       "      <td id=\"T_8f009_row9_col7\" class=\"data row9 col7\" >1,575.00</td>\n",
       "    </tr>\n",
       "    <tr>\n",
       "      <td id=\"T_8f009_row10_col0\" class=\"data row10 col0\" >CPNREIT</td>\n",
       "      <td id=\"T_8f009_row10_col1\" class=\"data row10 col1\" >2025-09-11</td>\n",
       "      <td id=\"T_8f009_row10_col2\" class=\"data row10 col2\" >55,000</td>\n",
       "      <td id=\"T_8f009_row10_col3\" class=\"data row10 col3\" > </td>\n",
       "      <td id=\"T_8f009_row10_col4\" class=\"data row10 col4\" > </td>\n",
       "      <td id=\"T_8f009_row10_col5\" class=\"data row10 col5\" >0.22610</td>\n",
       "      <td id=\"T_8f009_row10_col6\" class=\"data row10 col6\" >12,435.50</td>\n",
       "      <td id=\"T_8f009_row10_col7\" class=\"data row10 col7\" >11,191.95</td>\n",
       "    </tr>\n",
       "    <tr>\n",
       "      <td id=\"T_8f009_row11_col0\" class=\"data row11 col0\" >GVREIT</td>\n",
       "      <td id=\"T_8f009_row11_col1\" class=\"data row11 col1\" >2025-09-11</td>\n",
       "      <td id=\"T_8f009_row11_col2\" class=\"data row11 col2\" >69,000</td>\n",
       "      <td id=\"T_8f009_row11_col3\" class=\"data row11 col3\" > </td>\n",
       "      <td id=\"T_8f009_row11_col4\" class=\"data row11 col4\" > </td>\n",
       "      <td id=\"T_8f009_row11_col5\" class=\"data row11 col5\" >0.19650</td>\n",
       "      <td id=\"T_8f009_row11_col6\" class=\"data row11 col6\" >13,558.50</td>\n",
       "      <td id=\"T_8f009_row11_col7\" class=\"data row11 col7\" >12,202.65</td>\n",
       "    </tr>\n",
       "    <tr>\n",
       "      <td id=\"T_8f009_row12_col0\" class=\"data row12 col0\" >IVL</td>\n",
       "      <td id=\"T_8f009_row12_col1\" class=\"data row12 col1\" >2025-09-11</td>\n",
       "      <td id=\"T_8f009_row12_col2\" class=\"data row12 col2\" >7,200</td>\n",
       "      <td id=\"T_8f009_row12_col3\" class=\"data row12 col3\" > </td>\n",
       "      <td id=\"T_8f009_row12_col4\" class=\"data row12 col4\" > </td>\n",
       "      <td id=\"T_8f009_row12_col5\" class=\"data row12 col5\" >0.17500</td>\n",
       "      <td id=\"T_8f009_row12_col6\" class=\"data row12 col6\" >1,260.00</td>\n",
       "      <td id=\"T_8f009_row12_col7\" class=\"data row12 col7\" >1,134.00</td>\n",
       "    </tr>\n",
       "    <tr>\n",
       "      <td id=\"T_8f009_row13_col0\" class=\"data row13 col0\" >BCH</td>\n",
       "      <td id=\"T_8f009_row13_col1\" class=\"data row13 col1\" >2025-09-12</td>\n",
       "      <td id=\"T_8f009_row13_col2\" class=\"data row13 col2\" >4,000</td>\n",
       "      <td id=\"T_8f009_row13_col3\" class=\"data row13 col3\" > </td>\n",
       "      <td id=\"T_8f009_row13_col4\" class=\"data row13 col4\" > </td>\n",
       "      <td id=\"T_8f009_row13_col5\" class=\"data row13 col5\" >0.15000</td>\n",
       "      <td id=\"T_8f009_row13_col6\" class=\"data row13 col6\" >600.00</td>\n",
       "      <td id=\"T_8f009_row13_col7\" class=\"data row13 col7\" >540.00</td>\n",
       "    </tr>\n",
       "    <tr>\n",
       "      <td id=\"T_8f009_row14_col0\" class=\"data row14 col0\" >CPF</td>\n",
       "      <td id=\"T_8f009_row14_col1\" class=\"data row14 col1\" >2025-09-12</td>\n",
       "      <td id=\"T_8f009_row14_col2\" class=\"data row14 col2\" >5,000</td>\n",
       "      <td id=\"T_8f009_row14_col3\" class=\"data row14 col3\" > </td>\n",
       "      <td id=\"T_8f009_row14_col4\" class=\"data row14 col4\" > </td>\n",
       "      <td id=\"T_8f009_row14_col5\" class=\"data row14 col5\" >1.00000</td>\n",
       "      <td id=\"T_8f009_row14_col6\" class=\"data row14 col6\" >5,000.00</td>\n",
       "      <td id=\"T_8f009_row14_col7\" class=\"data row14 col7\" >4,500.00</td>\n",
       "    </tr>\n",
       "    <tr>\n",
       "      <td id=\"T_8f009_row15_col0\" class=\"data row15 col0\" >JMT</td>\n",
       "      <td id=\"T_8f009_row15_col1\" class=\"data row15 col1\" >2025-09-12</td>\n",
       "      <td id=\"T_8f009_row15_col2\" class=\"data row15 col2\" >4,200</td>\n",
       "      <td id=\"T_8f009_row15_col3\" class=\"data row15 col3\" > </td>\n",
       "      <td id=\"T_8f009_row15_col4\" class=\"data row15 col4\" > </td>\n",
       "      <td id=\"T_8f009_row15_col5\" class=\"data row15 col5\" >0.24000</td>\n",
       "      <td id=\"T_8f009_row15_col6\" class=\"data row15 col6\" >1,008.00</td>\n",
       "      <td id=\"T_8f009_row15_col7\" class=\"data row15 col7\" >907.20</td>\n",
       "    </tr>\n",
       "    <tr>\n",
       "      <td id=\"T_8f009_row16_col0\" class=\"data row16 col0\" >TOA</td>\n",
       "      <td id=\"T_8f009_row16_col1\" class=\"data row16 col1\" >2025-09-12</td>\n",
       "      <td id=\"T_8f009_row16_col2\" class=\"data row16 col2\" >1,000</td>\n",
       "      <td id=\"T_8f009_row16_col3\" class=\"data row16 col3\" > </td>\n",
       "      <td id=\"T_8f009_row16_col4\" class=\"data row16 col4\" > </td>\n",
       "      <td id=\"T_8f009_row16_col5\" class=\"data row16 col5\" >0.36000</td>\n",
       "      <td id=\"T_8f009_row16_col6\" class=\"data row16 col6\" >360.00</td>\n",
       "      <td id=\"T_8f009_row16_col7\" class=\"data row16 col7\" >324.00</td>\n",
       "    </tr>\n",
       "    <tr>\n",
       "      <td id=\"T_8f009_row17_col0\" class=\"data row17 col0\" >TFFIF</td>\n",
       "      <td id=\"T_8f009_row17_col1\" class=\"data row17 col1\" >2025-09-15</td>\n",
       "      <td id=\"T_8f009_row17_col2\" class=\"data row17 col2\" >20,000</td>\n",
       "      <td id=\"T_8f009_row17_col3\" class=\"data row17 col3\" > </td>\n",
       "      <td id=\"T_8f009_row17_col4\" class=\"data row17 col4\" > </td>\n",
       "      <td id=\"T_8f009_row17_col5\" class=\"data row17 col5\" >0.11280</td>\n",
       "      <td id=\"T_8f009_row17_col6\" class=\"data row17 col6\" >2,256.00</td>\n",
       "      <td id=\"T_8f009_row17_col7\" class=\"data row17 col7\" >2,256.00</td>\n",
       "    </tr>\n",
       "    <tr>\n",
       "      <td id=\"T_8f009_row18_col0\" class=\"data row18 col0\" >WHAIR</td>\n",
       "      <td id=\"T_8f009_row18_col1\" class=\"data row18 col1\" >2025-09-15</td>\n",
       "      <td id=\"T_8f009_row18_col2\" class=\"data row18 col2\" >50,000</td>\n",
       "      <td id=\"T_8f009_row18_col3\" class=\"data row18 col3\" > </td>\n",
       "      <td id=\"T_8f009_row18_col4\" class=\"data row18 col4\" > </td>\n",
       "      <td id=\"T_8f009_row18_col5\" class=\"data row18 col5\" >0.13250</td>\n",
       "      <td id=\"T_8f009_row18_col6\" class=\"data row18 col6\" >6,625.00</td>\n",
       "      <td id=\"T_8f009_row18_col7\" class=\"data row18 col7\" >5,962.50</td>\n",
       "    </tr>\n",
       "  </tbody>\n",
       "</table>\n"
      ],
      "text/plain": [
       "<pandas.io.formats.style.Styler at 0x2401581d6a0>"
      ]
     },
     "metadata": {},
     "output_type": "display_data"
    }
   ],
   "source": [
    "# Format all floats (pandas 1.4.0+)\n",
    "display(df_dividends.style.format(format_dict).hide(axis=\"index\"))"
   ]
  },
  {
   "cell_type": "code",
   "execution_count": 10,
   "id": "15d59f94",
   "metadata": {},
   "outputs": [
    {
     "name": "stdout",
     "output_type": "stream",
     "text": [
      "Monthly Dividend Amount: 114,576.30\n"
     ]
    }
   ],
   "source": [
    "df_dividends = pd.read_sql(sql, conpf)\n",
    "print(f\"Monthly Dividend Amount: {df_dividends.net.sum():,.2f}\")"
   ]
  },
  {
   "cell_type": "code",
   "execution_count": 11,
   "id": "ff23d38c",
   "metadata": {},
   "outputs": [
    {
     "name": "stdout",
     "output_type": "stream",
     "text": [
      "2025-09-16 23:09:17\n"
     ]
    }
   ],
   "source": [
    "# Get the current time\n",
    "current_time = datetime.now()\n",
    "# Format the time to remove millisAeconds\n",
    "fmt_time = current_time.strftime(\"%Y-%m-%d %H:%M:%S\")\n",
    "print(fmt_time)"
   ]
  },
  {
   "cell_type": "code",
   "execution_count": null,
   "id": "e2d7d5de-57b3-497c-a2bf-b0381bc37835",
   "metadata": {},
   "outputs": [],
   "source": []
  }
 ],
 "metadata": {
  "kernelspec": {
   "display_name": "Python 3 (ipykernel)",
   "language": "python",
   "name": "python3"
  },
  "language_info": {
   "codemirror_mode": {
    "name": "ipython",
    "version": 3
   },
   "file_extension": ".py",
   "mimetype": "text/x-python",
   "name": "python",
   "nbconvert_exporter": "python",
   "pygments_lexer": "ipython3",
   "version": "3.12.3"
  }
 },
 "nbformat": 4,
 "nbformat_minor": 5
}
