{
 "cells": [
  {
   "cell_type": "markdown",
   "id": "f332f239-f45d-497c-a20b-638ac764fbd6",
   "metadata": {},
   "source": [
    "### Modify 2 statements then Run all - statement: 24"
   ]
  },
  {
   "cell_type": "markdown",
   "id": "53d80b45",
   "metadata": {},
   "source": [
    "### Output files: buy-input\n",
    "### Input files: prices-change"
   ]
  },
  {
   "cell_type": "code",
   "execution_count": 3,
   "id": "31be311b",
   "metadata": {},
   "outputs": [
    {
     "data": {
      "text/plain": [
       "(datetime.date(2025, 1, 24), datetime.date(2025, 1, 23))"
      ]
     },
     "execution_count": 3,
     "metadata": {},
     "output_type": "execute_result"
    }
   ],
   "source": [
    "import os\n",
    "import pandas as pd\n",
    "import numpy as np\n",
    "from sqlalchemy import create_engine\n",
    "from datetime import date, timedelta\n",
    "from pandas.tseries.offsets import * \n",
    "import calendar\n",
    "\n",
    "pd.options.display.max_rows = 31\n",
    "float_formatter = \"฿{:,.2f}\"\n",
    "\n",
    "engine = create_engine(\"mysql+pymysql://root:@localhost:3306/stock\")\n",
    "const = engine.connect()\n",
    "\n",
    "today = date.today()\n",
    "yesterday = today - timedelta(days=1)\n",
    "today, yesterday"
   ]
  },
  {
   "cell_type": "code",
   "execution_count": 4,
   "id": "63fb0153",
   "metadata": {},
   "outputs": [
    {
     "data": {
      "text/plain": [
       "(datetime.date(2025, 1, 24), datetime.date(2025, 1, 23))"
      ]
     },
     "execution_count": 4,
     "metadata": {},
     "output_type": "execute_result"
    }
   ],
   "source": [
    "#today = date(2023, 4, 25)\n",
    "#yesterday = today - timedelta(days=4)\n",
    "today, yesterday"
   ]
  },
  {
   "cell_type": "code",
   "execution_count": 5,
   "id": "980e1dce",
   "metadata": {},
   "outputs": [
    {
     "name": "stdout",
     "output_type": "stream",
     "text": [
      "today: 2025-01-24\n",
      "Today in mm-dd format: 01-24\n",
      "yesterday: 2025-01-23 00:00:00\n"
     ]
    }
   ],
   "source": [
    "# convert the timedelta object to a BusinessDay object\n",
    "num_business_days = BDay(1)\n",
    "yesterday = today - num_business_days\n",
    "print(f'today: {today}')\n",
    "to_mmdd = today.strftime('%m-%d')\n",
    "print(f'Today in mm-dd format: {to_mmdd}')\n",
    "print(f'yesterday: {yesterday}')"
   ]
  },
  {
   "cell_type": "code",
   "execution_count": 6,
   "id": "5952e26f-bc10-4ae8-86cc-7e2b89bb8d9e",
   "metadata": {},
   "outputs": [
    {
     "data": {
      "text/plain": [
       "datetime.date(2025, 1, 24)"
      ]
     },
     "execution_count": 6,
     "metadata": {},
     "output_type": "execute_result"
    }
   ],
   "source": [
    "# If run after actual work day\n",
    "#today = date(2025,1,3)\n",
    "today"
   ]
  },
  {
   "cell_type": "code",
   "execution_count": 7,
   "id": "5fbb9102",
   "metadata": {},
   "outputs": [
    {
     "data": {
      "text/plain": [
       "Timestamp('2025-01-23 00:00:00')"
      ]
     },
     "execution_count": 7,
     "metadata": {},
     "output_type": "execute_result"
    }
   ],
   "source": [
    "#yesterday = yesterday.date()\n",
    "#yesterday = date(2025,1,2)\n",
    "yesterday"
   ]
  },
  {
   "cell_type": "code",
   "execution_count": 8,
   "id": "7e0c75d1-a0ad-4341-b04f-12c5f9409469",
   "metadata": {},
   "outputs": [],
   "source": [
    "# Get the user's home directory\n",
    "user_path = os.path.expanduser('~')\n",
    "# Get the current working directory\n",
    "current_path = os.getcwd()\n",
    "# Derive the base directory (base_dir) by removing the last folder ('Daily')\n",
    "base_path = os.path.dirname(current_path)\n",
    "#C:\\Users\\PC1\\OneDrive\\A5\\Data\n",
    "dat_path = os.path.join(base_path, \"Data\")\n",
    "#C:\\Users\\PC1\\OneDrive\\Imports\\santisoontarinka@gmail.com - Google Drive\\Data>\n",
    "god_path = os.path.join(user_path, \"OneDrive\",\"Imports\",\"santisoontarinka@gmail.com - Google Drive\",\"Data\")\n",
    "#C:\\Users\\PC1\\iCloudDrive\\data\n",
    "icd_path = os.path.join(user_path, \"iCloudDrive\", \"Data\")\n",
    "#C:\\Users\\PC1\\OneDrive\\Documents\\obsidian-git-sync\\Data\n",
    "osd_path = os.path.join(user_path, \"OneDrive\",\"Documents\",\"obsidian-git-sync\",\"Data\")"
   ]
  },
  {
   "cell_type": "code",
   "execution_count": 9,
   "id": "581a6a8a-8d12-4ef5-bd93-495d37a6fec7",
   "metadata": {},
   "outputs": [
    {
     "name": "stdout",
     "output_type": "stream",
     "text": [
      "User path: C:\\Users\\PC1\n",
      "Current path: C:\\Users\\PC1\\OneDrive\\A5\\Daily\n",
      "Base path: C:\\Users\\PC1\\OneDrive\\A5\n",
      "Data path (dat_path): C:\\Users\\PC1\\OneDrive\\A5\\Data\n",
      "Google Drive path (god_path): C:\\Users\\PC1\\OneDrive\\Imports\\santisoontarinka@gmail.com - Google Drive\\Data\n",
      "iCloudDrive path (icd_path): C:\\Users\\PC1\\iCloudDrive\\Data\n",
      "Obsidian path (osd_path): C:\\Users\\PC1\\OneDrive\\Documents\\obsidian-git-sync\\Data\n"
     ]
    }
   ],
   "source": [
    "print(\"User path:\", user_path)\n",
    "print(f\"Current path: {current_path}\")\n",
    "print(f\"Base path: {base_path}\")\n",
    "print(f\"Data path (dat_path): {dat_path}\") \n",
    "print(f\"Google Drive path (god_path): {god_path}\")\n",
    "print(f\"iCloudDrive path (icd_path): {icd_path}\") \n",
    "print(f\"Obsidian path (osd_path): {osd_path}\") "
   ]
  },
  {
   "cell_type": "code",
   "execution_count": null,
   "id": "70d5cc66-2d30-48ec-8519-8438631291fb",
   "metadata": {},
   "outputs": [],
   "source": [
    "sql = '''\n",
    "SELECT period, name, volbuy AS shares\n",
    "FROM buy\n",
    "ORDER BY period, name'''\n",
    "buy = pd.read_sql(sql, const)\n",
    "buy['shares'] = buy['shares'].astype('int64')\n",
    "buy"
   ]
  },
  {
   "cell_type": "code",
   "execution_count": 10,
   "id": "555a99e2-ab61-4cdd-9488-0da910ac2f30",
   "metadata": {},
   "outputs": [],
   "source": [
    "file_name = \"buy-input.csv\"\n",
    "output_file = os.path.join(dat_path, file_name)\n",
    "god_file = os.path.join(god_path, file_name)\n",
    "icd_file = os.path.join(icd_path, file_name)\n",
    "osd_file = os.path.join(osd_path, file_name)"
   ]
  },
  {
   "cell_type": "code",
   "execution_count": 11,
   "id": "5f8353a8-6483-4695-97d5-bbf95ebebfcc",
   "metadata": {},
   "outputs": [
    {
     "name": "stdout",
     "output_type": "stream",
     "text": [
      "Output file: C:\\Users\\PC1\\OneDrive\\A5\\Data\\buy-input.csv\n",
      "icd_file (icd_file): C:\\Users\\PC1\\iCloudDrive\\Data\\buy-input.csv\n",
      "god_file (god_file): C:\\Users\\PC1\\OneDrive\\Imports\\santisoontarinka@gmail.com - Google Drive\\Data\\buy-input.csv\n",
      "osd_file (osd_file): C:\\Users\\PC1\\OneDrive\\Documents\\obsidian-git-sync\\Data\\buy-input.csv\n"
     ]
    }
   ],
   "source": [
    "print(f\"Output file: {output_file}\") \n",
    "print(f\"icd_file (icd_file): {icd_file}\") \n",
    "print(f\"god_file (god_file): {god_file}\") \n",
    "print(f\"osd_file (osd_file): {osd_file}\") "
   ]
  },
  {
   "cell_type": "code",
   "execution_count": 12,
   "id": "08157caa-7b5d-4de2-92c9-b1445cdfa7c5",
   "metadata": {},
   "outputs": [
    {
     "ename": "NameError",
     "evalue": "name 'buy' is not defined",
     "output_type": "error",
     "traceback": [
      "\u001b[1;31m---------------------------------------------------------------------------\u001b[0m",
      "\u001b[1;31mNameError\u001b[0m                                 Traceback (most recent call last)",
      "Cell \u001b[1;32mIn[12], line 1\u001b[0m\n\u001b[1;32m----> 1\u001b[0m buy\u001b[38;5;241m.\u001b[39mto_csv(output_file, index\u001b[38;5;241m=\u001b[39m\u001b[38;5;28;01mFalse\u001b[39;00m)\n\u001b[0;32m      2\u001b[0m buy\u001b[38;5;241m.\u001b[39mto_csv(god_file, index\u001b[38;5;241m=\u001b[39m\u001b[38;5;28;01mFalse\u001b[39;00m)\n\u001b[0;32m      3\u001b[0m buy\u001b[38;5;241m.\u001b[39mto_csv(icd_file, index\u001b[38;5;241m=\u001b[39m\u001b[38;5;28;01mFalse\u001b[39;00m)\n",
      "\u001b[1;31mNameError\u001b[0m: name 'buy' is not defined"
     ]
    }
   ],
   "source": [
    "buy.to_csv(output_file, index=False)\n",
    "buy.to_csv(god_file, index=False)\n",
    "buy.to_csv(icd_file, index=False)\n",
    "buy.to_csv(osd_file, index=False)"
   ]
  },
  {
   "cell_type": "code",
   "execution_count": null,
   "id": "ab5982d3",
   "metadata": {},
   "outputs": [],
   "source": [
    "sql = \"\"\"\n",
    "SELECT *\n",
    "FROM price\n",
    "LIMIT 1\"\"\"\n",
    "prices = pd.read_sql(sql, const)\n",
    "prices.dtypes"
   ]
  },
  {
   "cell_type": "markdown",
   "id": "44d7b76b",
   "metadata": {},
   "source": [
    "### Call ruby ruby\\find-change-fm-2-dates.rb"
   ]
  },
  {
   "cell_type": "code",
   "execution_count": null,
   "id": "9455b6cc-38a9-4ce0-ab0a-3a1c5b467fbc",
   "metadata": {},
   "outputs": [],
   "source": [
    "# Extract the last folder from the base directory\n",
    "last_folder = os.path.basename(base_path)\n",
    "print(f\"Last Folder: {last_folder}\")"
   ]
  },
  {
   "cell_type": "code",
   "execution_count": null,
   "id": "3278d545-de9f-499f-932c-10414eacd653",
   "metadata": {},
   "outputs": [],
   "source": [
    "# Change to the derived directory (optional)\n",
    "os.chdir(base_path)\n",
    "%pwd"
   ]
  },
  {
   "cell_type": "code",
   "execution_count": null,
   "id": "0e9cf2df",
   "metadata": {
    "scrolled": true
   },
   "outputs": [],
   "source": [
    "!ruby ruby\\\\find-change-fm-2-dates.rb '2024-12-30' '{today}' '{last_folder}'"
   ]
  },
  {
   "cell_type": "code",
   "execution_count": null,
   "id": "c2eec668",
   "metadata": {},
   "outputs": [],
   "source": [
    "os.chdir(current_path)\n",
    "%pwd"
   ]
  },
  {
   "cell_type": "code",
   "execution_count": null,
   "id": "d9635cb6-75ab-4f3f-9644-395f32a80769",
   "metadata": {},
   "outputs": [],
   "source": [
    "#data_path = \"../data/\"\n",
    "file_name   = 'prices-change.csv'\n",
    "input_file = os.path.join(dat_path, file_name)\n",
    "print(f\"Input file: {input_file}\") "
   ]
  },
  {
   "cell_type": "code",
   "execution_count": null,
   "id": "e477e241-737b-44ca-8ceb-f348d95019f1",
   "metadata": {},
   "outputs": [],
   "source": [
    "df = pd.read_csv(input_file, sep=',', index_col=None)\n",
    "df"
   ]
  },
  {
   "cell_type": "code",
   "execution_count": null,
   "id": "edebab08",
   "metadata": {},
   "outputs": [],
   "source": [
    "df.sort_values(['spd'],ascending=True)"
   ]
  },
  {
   "cell_type": "code",
   "execution_count": null,
   "id": "8d8f1653-20de-4aff-9627-043f9188d3d6",
   "metadata": {},
   "outputs": [],
   "source": [
    "# Group by 'period' and sum only specific columns\n",
    "result = df.groupby('period')[['shares', 'amount', 'spd']].sum()\n",
    "print(result)"
   ]
  },
  {
   "cell_type": "code",
   "execution_count": null,
   "id": "04485489",
   "metadata": {},
   "outputs": [],
   "source": [
    "df.groupby('period').agg(\n",
    "      ttl_shr = pd.NamedAgg('shares', 'sum'),\n",
    "      avr_p1  = pd.NamedAgg('price1','mean'),\n",
    "      avr_p2  = pd.NamedAgg('price2','mean'),  \n",
    "      avr_chg = pd.NamedAgg('change','mean'),\n",
    "      avr_spd = pd.NamedAgg('spd','mean'),\n",
    "      ttl_amt = pd.NamedAgg('amount', 'sum')\n",
    "   )"
   ]
  },
  {
   "cell_type": "code",
   "execution_count": null,
   "id": "00e37c9d",
   "metadata": {},
   "outputs": [],
   "source": [
    "pl = df.amount.sum()\n",
    "float_formatter.format(pl)"
   ]
  },
  {
   "cell_type": "code",
   "execution_count": null,
   "id": "23765c28",
   "metadata": {},
   "outputs": [],
   "source": [
    "prev_pl = -315_210\n",
    "diff = pl - prev_pl\n",
    "float_formatter.format(diff)"
   ]
  },
  {
   "cell_type": "code",
   "execution_count": null,
   "id": "c04198fc-dcdb-40d4-a751-0904c43c946c",
   "metadata": {},
   "outputs": [],
   "source": []
  }
 ],
 "metadata": {
  "kernelspec": {
   "display_name": "Python 3 (ipykernel)",
   "language": "python",
   "name": "python3"
  },
  "language_info": {
   "codemirror_mode": {
    "name": "ipython",
    "version": 3
   },
   "file_extension": ".py",
   "mimetype": "text/x-python",
   "name": "python",
   "nbconvert_exporter": "python",
   "pygments_lexer": "ipython3",
   "version": "3.12.3"
  }
 },
 "nbformat": 4,
 "nbformat_minor": 5
}
