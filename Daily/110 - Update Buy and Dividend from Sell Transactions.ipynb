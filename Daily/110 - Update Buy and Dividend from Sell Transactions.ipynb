{
 "cells": [
  {
   "cell_type": "code",
   "execution_count": 1,
   "metadata": {},
   "outputs": [],
   "source": [
    "import os\n",
    "import pandas as pd\n",
    "from datetime import date, timedelta, datetime\n",
    "from sqlalchemy import create_engine, text\n",
    "from pandas.tseries.offsets import BDay\n",
    "\n",
    "engine = create_engine('mysql+pymysql://root:@localhost:3306/portfolio_development')\n",
    "conpf = engine.connect()\n",
    "engine = create_engine(\"mysql+pymysql://root:@localhost:3306/stock\")\n",
    "const = engine.connect()\n",
    "engine = create_engine(\"sqlite:///c:\\\\ruby\\\\port_lite\\\\db\\\\development.sqlite3\")\n",
    "conlite = engine.connect()"
   ]
  },
  {
   "cell_type": "code",
   "execution_count": 3,
   "metadata": {},
   "outputs": [
    {
     "name": "stdout",
     "output_type": "stream",
     "text": [
      "today: 2025-09-03\n",
      "yesterday: 2025-09-02\n"
     ]
    }
   ],
   "source": [
    "today = date.today()\n",
    "# convert the timedelta object to a BusinessDay object\n",
    "num_business_days = BDay(1)\n",
    "yesterday = today - num_business_days\n",
    "yesterday = yesterday.date()\n",
    "print(f'today: {today}')\n",
    "print(f'yesterday: {yesterday}')"
   ]
  },
  {
   "cell_type": "code",
   "execution_count": 5,
   "metadata": {},
   "outputs": [],
   "source": [
    "# Get the user's home directory\n",
    "user_path = os.path.expanduser('~')\n",
    "# Get the current working directory\n",
    "current_path = os.getcwd()\n",
    "# Derive the base directory (base_dir) by removing the last folder ('Daily')\n",
    "base_path = os.path.dirname(current_path)\n",
    "#C:\\Users\\PC1\\OneDrive\\A5\\Data\n",
    "dat_path = os.path.join(base_path, \"Data\")\n",
    "#C:\\Users\\PC1\\Downloads\\Datasets\n",
    "dts_path = os.path.join(user_path, \"Downloads\", \"Datasets\")\n",
    "#C:\\Users\\PC1\\OneDrive\\Imports\\santisoontarinka@gmail.com - Google Drive\\Data>\n",
    "god_path = os.path.join(user_path, \"OneDrive\",\"Imports\",\"santisoontarinka@gmail.com - Google Drive\",\"Data\")\n",
    "#C:\\Users\\PC1\\iCloudDrive\\data\n",
    "icd_path = os.path.join(user_path, \"iCloudDrive\", \"Data\")\n",
    "#C:\\Users\\PC1\\OneDrive\\Documents\\obsidian-git-sync\\Data\n",
    "osd_path = os.path.join(user_path, \"OneDrive\",\"Documents\",\"obsidian-git-sync\",\"Data\")\n",
    "#C:\\Users\\PC1\\OneDrive\\A5\\Excel\n",
    "xsl_path = os.path.join(base_path, \"Excel\")"
   ]
  },
  {
   "cell_type": "code",
   "execution_count": 7,
   "metadata": {},
   "outputs": [
    {
     "name": "stdout",
     "output_type": "stream",
     "text": [
      "User path: C:\\Users\\PC1\n",
      "Current path: C:\\Users\\PC1\\OneDrive\\A5\\Daily\n",
      "Base path: C:\\Users\\PC1\\OneDrive\\A5\n",
      "Data path (dat_path): C:\\Users\\PC1\\OneDrive\\A5\\Data\n",
      "Excel path (xsl_path): C:\\Users\\PC1\\OneDrive\\A5\\Excel\n",
      "Google Drive path (god_path): C:\\Users\\PC1\\OneDrive\\Imports\\santisoontarinka@gmail.com - Google Drive\\Data\n",
      "iCloudDrive path (icd_path): C:\\Users\\PC1\\iCloudDrive\\Data\n",
      "Obsidian path (osd_path): C:\\Users\\PC1\\OneDrive\\Documents\\obsidian-git-sync\\Data\n"
     ]
    }
   ],
   "source": [
    "print(\"User path:\", user_path)\n",
    "print(f\"Current path: {current_path}\")\n",
    "print(f\"Base path: {base_path}\")\n",
    "print(f\"Data path (dat_path): {dat_path}\") \n",
    "print(f\"Excel path (xsl_path): {xsl_path}\") \n",
    "print(f\"Google Drive path (god_path): {god_path}\")\n",
    "print(f\"iCloudDrive path (icd_path): {icd_path}\") \n",
    "print(f\"Obsidian path (osd_path): {osd_path}\") "
   ]
  },
  {
   "cell_type": "code",
   "execution_count": 9,
   "metadata": {},
   "outputs": [],
   "source": [
    "format_dict = {\n",
    "    'shares':'{:,}',    \n",
    "    'price':'{:.2f}',\n",
    "    'dividend':'{:.4f}', \n",
    "    'date':'{:%Y-%m-%d}', \n",
    "    \n",
    "    'qty':'{:,}','shares':'{:,}',\n",
    "    'price':'{:.2f}','buy_price':'{:.2f}',\n",
    "    'dividend':'{:.4f}',    \n",
    "    'fee':'{:,.2f}','vat':'{:,.2f}','net':'{:,.2f}',\n",
    "  \n",
    "    'days':'{:,}',\n",
    "    'price':'{:.2f}',\n",
    "    'fee':'{:,.2f}','vat':'{:,.2f}','net':'{:,.2f}','profit':'{:,.2f}',\n",
    "    'percent':'{:,.2f}%','yearly':'{:,.2f}%',   \n",
    "    \n",
    "    'shares':'{:,}',    \n",
    "    'q4':'{:.4f}','q3':'{:.4f}','q2':'{:.4f}','q1':'{:.4f}','dividend':'{:.4f}',\n",
    "    'xdate':'{:%Y-%m-%d}','paiddate':'{:%Y-%m-%d}',\n",
    "    \n",
    "    'qty':'{:,}','available_qty':'{:,}',\n",
    "    'cost':'{:.2f}','max_price':'{:.2f}','min_price':'{:.2f}','buy_target':'{:.2f}','sell_target':'{:.2f}',\n",
    "    'volume':'{:,.2f}','beta':'{:,.2f}',\n",
    "    \n",
    "    'qty':'{:,}','available_qty':'{:,}',\n",
    "    'cost':'{:.2f}','max_price':'{:.2f}','min_price':'{:.2f}','buy_target':'{:.2f}','sell_target':'{:.2f}',\n",
    "    'volume':'{:,.2f}','beta':'{:,.2f}',\n",
    "    }"
   ]
  },
  {
   "cell_type": "code",
   "execution_count": 11,
   "metadata": {},
   "outputs": [],
   "source": [
    "def show_buy(const, name):\n",
    "    sql = \"\"\"\n",
    "    SELECT * \n",
    "    FROM buy \n",
    "    WHERE name = '{}'\n",
    "    \"\"\".format(name)\n",
    "    \n",
    "    df_buy = pd.read_sql(sql, const)\n",
    "    df_buy.drop(['volsell', 'volbal','dividend'], axis=1, inplace=True)\n",
    "    df_buy.rename(columns={'volbuy':'shares'},inplace=True)\n",
    "    df_buy['shares'] = df_buy['shares'].astype('int64')\n",
    "    return df_buy.style.format(format_dict).hide(axis=\"index\")"
   ]
  },
  {
   "cell_type": "code",
   "execution_count": 13,
   "metadata": {},
   "outputs": [],
   "source": [
    "def show_dividend(const, name):\n",
    "    sql = \"\"\"\n",
    "    SELECT * \n",
    "    FROM dividend \n",
    "    WHERE name = '{}'\n",
    "    \"\"\".format(name)\n",
    "    \n",
    "    df_dividend = pd.read_sql(sql, const)\n",
    "    df_dividend.drop(['PRICE', 'PERCENT'], axis=1, inplace=True)\n",
    "    df_dividend.columns = df_dividend.columns.str.lower()\n",
    "    df_dividend['shares'] = df_dividend['shares'].astype('int64')\n",
    "    df_dividend['xdate'] = pd.to_datetime(df_dividend['xdate'])\n",
    "    df_dividend['paiddate'] = pd.to_datetime(df_dividend['paiddate'])\n",
    "    return df_dividend.style.format(format_dict).hide(axis=\"index\")"
   ]
  },
  {
   "cell_type": "code",
   "execution_count": 15,
   "metadata": {},
   "outputs": [],
   "source": [
    "def show_stocks(conlite, name):\n",
    "    sql = \"\"\"\n",
    "    SELECT * \n",
    "    FROM stocks \n",
    "    WHERE name = '{}'\n",
    "    \"\"\".format(name)\n",
    "    \n",
    "    df_stocks = pd.read_sql(sql, conlite)\n",
    "    return df_stocks.style.format(format_dict).hide(axis=\"index\")"
   ]
  },
  {
   "cell_type": "code",
   "execution_count": 17,
   "metadata": {},
   "outputs": [],
   "source": [
    "def update_buy(const, name, new_qty, new_price):\n",
    "    # Use parameterized query to avoid SQL injection\n",
    "    sqlUpd = text(\"\"\"\n",
    "        UPDATE buy\n",
    "        SET volbuy = :new_qty,\n",
    "        price = :new_price\n",
    "        WHERE name = :name\n",
    "    \"\"\")\n",
    "    \n",
    "    # Execute the query with parameters\n",
    "    result = const.execute(sqlUpd, {\n",
    "        'new_qty': new_qty,\n",
    "        'new_price': new_price,\n",
    "        'name': name\n",
    "    })\n",
    "\n",
    "    return f\"Records updated = {result.rowcount}\""
   ]
  },
  {
   "cell_type": "code",
   "execution_count": 19,
   "metadata": {},
   "outputs": [],
   "source": [
    "def update_dividend(const, name, new_qty):\n",
    "    # Use parameterized query to avoid SQL injection\n",
    "    sqlUpd = text(\"\"\"\n",
    "        UPDATE dividend\n",
    "        SET shares = :new_qty\n",
    "        WHERE name = :name\n",
    "    \"\"\")\n",
    "    \n",
    "    # Execute the query with parameters\n",
    "    result = const.execute(sqlUpd, {\n",
    "        'new_qty': new_qty,  # Use the scalar value\n",
    "        'name': name\n",
    "    })\n",
    "\n",
    "    return f\"Records updated = {result.rowcount}\""
   ]
  },
  {
   "cell_type": "code",
   "execution_count": 21,
   "metadata": {},
   "outputs": [],
   "source": [
    "def update_stock(conlite, name, new_qty, new_unit_cost, new_buy_target, new_sell_target, new_buy_qty):  \n",
    "    # Use parameterized query to avoid SQL injection\n",
    "    sqlUpd = text(\"\"\"\n",
    "        UPDATE stocks\n",
    "        SET available_qty = :new_qty, \n",
    "            cost = :new_unit_cost,\n",
    "            buy_target = :new_buy_target,\n",
    "            sell_target = :new_sell_target,    \n",
    "            qty = :new_buy_qty\n",
    "        WHERE name = :name\n",
    "    \"\"\")    \n",
    "    # Execute the query with parameters\n",
    "    result = conlite.execute(sqlUpd, {\n",
    "        'new_qty': new_qty,  # Use the scalar value\n",
    "        'new_unit_cost': new_unit_cost, # Use the scalar value \n",
    "        'new_buy_target': new_buy_target,\n",
    "        'new_sell_target': new_sell_target,     \n",
    "        'new_buy_qty': new_buy_qty,\n",
    "        'name': name\n",
    "    })\n",
    "    return f\"Records updated = {result.rowcount}\""
   ]
  },
  {
   "cell_type": "markdown",
   "metadata": {},
   "source": [
    "### End of Definition"
   ]
  },
  {
   "cell_type": "markdown",
   "metadata": {},
   "source": [
    "## Begin of Sale transaction"
   ]
  },
  {
   "cell_type": "code",
   "execution_count": 25,
   "metadata": {},
   "outputs": [
    {
     "data": {
      "text/html": [
       "<style type=\"text/css\">\n",
       "</style>\n",
       "<table id=\"T_eb8b4\">\n",
       "  <thead>\n",
       "    <tr>\n",
       "      <th id=\"T_eb8b4_level0_col0\" class=\"col_heading level0 col0\" >name</th>\n",
       "      <th id=\"T_eb8b4_level0_col1\" class=\"col_heading level0 col1\" >stock_id</th>\n",
       "      <th id=\"T_eb8b4_level0_col2\" class=\"col_heading level0 col2\" >buy_date</th>\n",
       "      <th id=\"T_eb8b4_level0_col3\" class=\"col_heading level0 col3\" >qty</th>\n",
       "      <th id=\"T_eb8b4_level0_col4\" class=\"col_heading level0 col4\" >buy_price</th>\n",
       "      <th id=\"T_eb8b4_level0_col5\" class=\"col_heading level0 col5\" >id</th>\n",
       "      <th id=\"T_eb8b4_level0_col6\" class=\"col_heading level0 col6\" >buy_id</th>\n",
       "      <th id=\"T_eb8b4_level0_col7\" class=\"col_heading level0 col7\" >date</th>\n",
       "      <th id=\"T_eb8b4_level0_col8\" class=\"col_heading level0 col8\" >price</th>\n",
       "      <th id=\"T_eb8b4_level0_col9\" class=\"col_heading level0 col9\" >fee</th>\n",
       "      <th id=\"T_eb8b4_level0_col10\" class=\"col_heading level0 col10\" >vat</th>\n",
       "      <th id=\"T_eb8b4_level0_col11\" class=\"col_heading level0 col11\" >net</th>\n",
       "      <th id=\"T_eb8b4_level0_col12\" class=\"col_heading level0 col12\" >days</th>\n",
       "      <th id=\"T_eb8b4_level0_col13\" class=\"col_heading level0 col13\" >profit</th>\n",
       "      <th id=\"T_eb8b4_level0_col14\" class=\"col_heading level0 col14\" >percent</th>\n",
       "      <th id=\"T_eb8b4_level0_col15\" class=\"col_heading level0 col15\" >yearly</th>\n",
       "      <th id=\"T_eb8b4_level0_col16\" class=\"col_heading level0 col16\" >sequence</th>\n",
       "      <th id=\"T_eb8b4_level0_col17\" class=\"col_heading level0 col17\" >chart</th>\n",
       "      <th id=\"T_eb8b4_level0_col18\" class=\"col_heading level0 col18\" >dividend_id</th>\n",
       "    </tr>\n",
       "  </thead>\n",
       "  <tbody>\n",
       "    <tr>\n",
       "      <td id=\"T_eb8b4_row0_col0\" class=\"data row0 col0\" >DIF</td>\n",
       "      <td id=\"T_eb8b4_row0_col1\" class=\"data row0 col1\" >81</td>\n",
       "      <td id=\"T_eb8b4_row0_col2\" class=\"data row0 col2\" >2025-04-09</td>\n",
       "      <td id=\"T_eb8b4_row0_col3\" class=\"data row0 col3\" >5,000</td>\n",
       "      <td id=\"T_eb8b4_row0_col4\" class=\"data row0 col4\" >7.50</td>\n",
       "      <td id=\"T_eb8b4_row0_col5\" class=\"data row0 col5\" >1112</td>\n",
       "      <td id=\"T_eb8b4_row0_col6\" class=\"data row0 col6\" >1319</td>\n",
       "      <td id=\"T_eb8b4_row0_col7\" class=\"data row0 col7\" >2025-09-03</td>\n",
       "      <td id=\"T_eb8b4_row0_col8\" class=\"data row0 col8\" >8.30</td>\n",
       "      <td id=\"T_eb8b4_row0_col9\" class=\"data row0 col9\" >85.91</td>\n",
       "      <td id=\"T_eb8b4_row0_col10\" class=\"data row0 col10\" >6.01</td>\n",
       "      <td id=\"T_eb8b4_row0_col11\" class=\"data row0 col11\" >41,408.08</td>\n",
       "      <td id=\"T_eb8b4_row0_col12\" class=\"data row0 col12\" >147</td>\n",
       "      <td id=\"T_eb8b4_row0_col13\" class=\"data row0 col13\" >3,825.02</td>\n",
       "      <td id=\"T_eb8b4_row0_col14\" class=\"data row0 col14\" >10.18%</td>\n",
       "      <td id=\"T_eb8b4_row0_col15\" class=\"data row0 col15\" >25.27%</td>\n",
       "      <td id=\"T_eb8b4_row0_col16\" class=\"data row0 col16\" >-112</td>\n",
       "      <td id=\"T_eb8b4_row0_col17\" class=\"data row0 col17\" >None</td>\n",
       "      <td id=\"T_eb8b4_row0_col18\" class=\"data row0 col18\" >0</td>\n",
       "    </tr>\n",
       "  </tbody>\n",
       "</table>\n"
      ],
      "text/plain": [
       "<pandas.io.formats.style.Styler at 0x1b93937bdd0>"
      ]
     },
     "execution_count": 25,
     "metadata": {},
     "output_type": "execute_result"
    }
   ],
   "source": [
    "# Sells table in MySQL portfolio database\n",
    "sql = \"\"\"\n",
    "SELECT name, stock_id, B.date AS buy_date, qty, B.price AS buy_price, S.* \n",
    "FROM sells S\n",
    "JOIN buys B ON S.buy_id = B.id\n",
    "JOIN stocks T ON B.stock_id = T.id\n",
    "ORDER BY S.id DESC\n",
    "LIMIT 1\"\"\"\n",
    "df_sells_latest = pd.read_sql(sql, conpf)\n",
    "df_sells_latest.style.format(format_dict).hide(axis=\"index\")"
   ]
  },
  {
   "cell_type": "markdown",
   "metadata": {},
   "source": [
    "### In case of sale, retreive buy id from sells record (buy_id)"
   ]
  },
  {
   "cell_type": "code",
   "execution_count": 28,
   "metadata": {},
   "outputs": [
    {
     "name": "stdout",
     "output_type": "stream",
     "text": [
      "DIF -5000 7.5 8.3\n"
     ]
    }
   ],
   "source": [
    "# Buys table in MySQL portfolio database\n",
    "transaction = 'S'\n",
    "\n",
    "names = df_sells_latest['name']\n",
    "name = names.to_string(index=False)\n",
    "\n",
    "sr_qty = df_sells_latest['qty']\n",
    "qty = sr_qty.to_string(index=False)\n",
    "qty = int(qty) * -1\n",
    "\n",
    "sr_price = df_sells_latest['buy_price']\n",
    "buy_price = sr_price.to_string(index=False)\n",
    "buy_price = float(buy_price)\n",
    "\n",
    "sr_price = df_sells_latest['price']\n",
    "sell_price = sr_price.to_string(index=False)\n",
    "sell_price = float(sell_price)\n",
    "\n",
    "buy_ids = df_sells_latest['buy_id']\n",
    "buy_id = buy_ids.to_string(index=False)\n",
    "print(name, qty, buy_price, sell_price)"
   ]
  },
  {
   "cell_type": "markdown",
   "metadata": {},
   "source": [
    "### Begin of Update buy table in MySQL stock database from sale transaction"
   ]
  },
  {
   "cell_type": "code",
   "execution_count": 31,
   "metadata": {},
   "outputs": [
    {
     "data": {
      "text/html": [
       "<style type=\"text/css\">\n",
       "</style>\n",
       "<table id=\"T_92c06\">\n",
       "  <thead>\n",
       "    <tr>\n",
       "      <th id=\"T_92c06_level0_col0\" class=\"col_heading level0 col0\" >name</th>\n",
       "      <th id=\"T_92c06_level0_col1\" class=\"col_heading level0 col1\" >date</th>\n",
       "      <th id=\"T_92c06_level0_col2\" class=\"col_heading level0 col2\" >shares</th>\n",
       "      <th id=\"T_92c06_level0_col3\" class=\"col_heading level0 col3\" >price</th>\n",
       "      <th id=\"T_92c06_level0_col4\" class=\"col_heading level0 col4\" >active</th>\n",
       "      <th id=\"T_92c06_level0_col5\" class=\"col_heading level0 col5\" >period</th>\n",
       "      <th id=\"T_92c06_level0_col6\" class=\"col_heading level0 col6\" >grade</th>\n",
       "    </tr>\n",
       "  </thead>\n",
       "  <tbody>\n",
       "    <tr>\n",
       "      <td id=\"T_92c06_row0_col0\" class=\"data row0 col0\" >DIF</td>\n",
       "      <td id=\"T_92c06_row0_col1\" class=\"data row0 col1\" >2020-08-01</td>\n",
       "      <td id=\"T_92c06_row0_col2\" class=\"data row0 col2\" >45,000</td>\n",
       "      <td id=\"T_92c06_row0_col3\" class=\"data row0 col3\" >12.69</td>\n",
       "      <td id=\"T_92c06_row0_col4\" class=\"data row0 col4\" >1</td>\n",
       "      <td id=\"T_92c06_row0_col5\" class=\"data row0 col5\" >2</td>\n",
       "      <td id=\"T_92c06_row0_col6\" class=\"data row0 col6\" >C1</td>\n",
       "    </tr>\n",
       "  </tbody>\n",
       "</table>\n"
      ],
      "text/plain": [
       "<pandas.io.formats.style.Styler at 0x1b93b840140>"
      ]
     },
     "execution_count": 31,
     "metadata": {},
     "output_type": "execute_result"
    }
   ],
   "source": [
    "sql = \"\"\"\n",
    "    SELECT *\n",
    "    FROM buy \n",
    "    WHERE name = '{}'\n",
    "\"\"\".format(name)\n",
    "    \n",
    "df_buy = pd.read_sql(sql, const)\n",
    "df_buy.drop(['volsell', 'volbal','dividend'], axis=1, inplace=True)\n",
    "df_buy.rename(columns={'volbuy':'shares'},inplace=True)\n",
    "df_buy['shares'] = df_buy['shares'].astype('int64')\n",
    "df_buy.style.format(format_dict).hide(axis=\"index\")"
   ]
  },
  {
   "cell_type": "code",
   "execution_count": 30,
   "metadata": {},
   "outputs": [
    {
     "data": {
      "text/plain": [
       "(50000, 12.17)"
      ]
     },
     "execution_count": 30,
     "metadata": {},
     "output_type": "execute_result"
    }
   ],
   "source": [
    "old_qty = int(df_buy['shares'].iloc[0])\n",
    "old_price = df_buy['price'].iloc[0]\n",
    "old_qty, old_price "
   ]
  },
  {
   "cell_type": "code",
   "execution_count": 33,
   "metadata": {},
   "outputs": [
    {
     "data": {
      "text/html": [
       "<style type=\"text/css\">\n",
       "</style>\n",
       "<table id=\"T_e8ed5\">\n",
       "  <thead>\n",
       "    <tr>\n",
       "      <th id=\"T_e8ed5_level0_col0\" class=\"col_heading level0 col0\" >name</th>\n",
       "      <th id=\"T_e8ed5_level0_col1\" class=\"col_heading level0 col1\" >id</th>\n",
       "      <th id=\"T_e8ed5_level0_col2\" class=\"col_heading level0 col2\" >stock_id</th>\n",
       "      <th id=\"T_e8ed5_level0_col3\" class=\"col_heading level0 col3\" >date</th>\n",
       "      <th id=\"T_e8ed5_level0_col4\" class=\"col_heading level0 col4\" >qty</th>\n",
       "      <th id=\"T_e8ed5_level0_col5\" class=\"col_heading level0 col5\" >price</th>\n",
       "      <th id=\"T_e8ed5_level0_col6\" class=\"col_heading level0 col6\" >fee</th>\n",
       "      <th id=\"T_e8ed5_level0_col7\" class=\"col_heading level0 col7\" >vat</th>\n",
       "      <th id=\"T_e8ed5_level0_col8\" class=\"col_heading level0 col8\" >status</th>\n",
       "      <th id=\"T_e8ed5_level0_col9\" class=\"col_heading level0 col9\" >net</th>\n",
       "      <th id=\"T_e8ed5_level0_col10\" class=\"col_heading level0 col10\" >kind</th>\n",
       "      <th id=\"T_e8ed5_level0_col11\" class=\"col_heading level0 col11\" >chart</th>\n",
       "    </tr>\n",
       "  </thead>\n",
       "  <tbody>\n",
       "    <tr>\n",
       "      <td id=\"T_e8ed5_row0_col0\" class=\"data row0 col0\" >DIF</td>\n",
       "      <td id=\"T_e8ed5_row0_col1\" class=\"data row0 col1\" >1338</td>\n",
       "      <td id=\"T_e8ed5_row0_col2\" class=\"data row0 col2\" >81</td>\n",
       "      <td id=\"T_e8ed5_row0_col3\" class=\"data row0 col3\" >2025-08-14</td>\n",
       "      <td id=\"T_e8ed5_row0_col4\" class=\"data row0 col4\" >10,000</td>\n",
       "      <td id=\"T_e8ed5_row0_col5\" class=\"data row0 col5\" >8.45</td>\n",
       "      <td id=\"T_e8ed5_row0_col6\" class=\"data row0 col6\" >174.92</td>\n",
       "      <td id=\"T_e8ed5_row0_col7\" class=\"data row0 col7\" >12.24</td>\n",
       "      <td id=\"T_e8ed5_row0_col8\" class=\"data row0 col8\" >Active</td>\n",
       "      <td id=\"T_e8ed5_row0_col9\" class=\"data row0 col9\" >84,687.16</td>\n",
       "      <td id=\"T_e8ed5_row0_col10\" class=\"data row0 col10\" >HD</td>\n",
       "      <td id=\"T_e8ed5_row0_col11\" class=\"data row0 col11\" >None</td>\n",
       "    </tr>\n",
       "    <tr>\n",
       "      <td id=\"T_e8ed5_row1_col0\" class=\"data row1 col0\" >DIF</td>\n",
       "      <td id=\"T_e8ed5_row1_col1\" class=\"data row1 col1\" >1312</td>\n",
       "      <td id=\"T_e8ed5_row1_col2\" class=\"data row1 col2\" >81</td>\n",
       "      <td id=\"T_e8ed5_row1_col3\" class=\"data row1 col3\" >2024-11-08</td>\n",
       "      <td id=\"T_e8ed5_row1_col4\" class=\"data row1 col4\" >5,000</td>\n",
       "      <td id=\"T_e8ed5_row1_col5\" class=\"data row1 col5\" >9.10</td>\n",
       "      <td id=\"T_e8ed5_row1_col6\" class=\"data row1 col6\" >94.19</td>\n",
       "      <td id=\"T_e8ed5_row1_col7\" class=\"data row1 col7\" >6.59</td>\n",
       "      <td id=\"T_e8ed5_row1_col8\" class=\"data row1 col8\" >Active</td>\n",
       "      <td id=\"T_e8ed5_row1_col9\" class=\"data row1 col9\" >45,600.78</td>\n",
       "      <td id=\"T_e8ed5_row1_col10\" class=\"data row1 col10\" >HD</td>\n",
       "      <td id=\"T_e8ed5_row1_col11\" class=\"data row1 col11\" >None</td>\n",
       "    </tr>\n",
       "    <tr>\n",
       "      <td id=\"T_e8ed5_row2_col0\" class=\"data row2 col0\" >DIF</td>\n",
       "      <td id=\"T_e8ed5_row2_col1\" class=\"data row2 col1\" >824</td>\n",
       "      <td id=\"T_e8ed5_row2_col2\" class=\"data row2 col2\" >81</td>\n",
       "      <td id=\"T_e8ed5_row2_col3\" class=\"data row2 col3\" >2021-03-02</td>\n",
       "      <td id=\"T_e8ed5_row2_col4\" class=\"data row2 col4\" >20,000</td>\n",
       "      <td id=\"T_e8ed5_row2_col5\" class=\"data row2 col5\" >14.70</td>\n",
       "      <td id=\"T_e8ed5_row2_col6\" class=\"data row2 col6\" >608.58</td>\n",
       "      <td id=\"T_e8ed5_row2_col7\" class=\"data row2 col7\" >42.60</td>\n",
       "      <td id=\"T_e8ed5_row2_col8\" class=\"data row2 col8\" >Active</td>\n",
       "      <td id=\"T_e8ed5_row2_col9\" class=\"data row2 col9\" >294,651.18</td>\n",
       "      <td id=\"T_e8ed5_row2_col10\" class=\"data row2 col10\" >HD</td>\n",
       "      <td id=\"T_e8ed5_row2_col11\" class=\"data row2 col11\" >None</td>\n",
       "    </tr>\n",
       "    <tr>\n",
       "      <td id=\"T_e8ed5_row3_col0\" class=\"data row3 col0\" >DIF</td>\n",
       "      <td id=\"T_e8ed5_row3_col1\" class=\"data row3 col1\" >813</td>\n",
       "      <td id=\"T_e8ed5_row3_col2\" class=\"data row3 col2\" >81</td>\n",
       "      <td id=\"T_e8ed5_row3_col3\" class=\"data row3 col3\" >2021-02-17</td>\n",
       "      <td id=\"T_e8ed5_row3_col4\" class=\"data row3 col4\" >10,000</td>\n",
       "      <td id=\"T_e8ed5_row3_col5\" class=\"data row3 col5\" >14.70</td>\n",
       "      <td id=\"T_e8ed5_row3_col6\" class=\"data row3 col6\" >304.29</td>\n",
       "      <td id=\"T_e8ed5_row3_col7\" class=\"data row3 col7\" >21.30</td>\n",
       "      <td id=\"T_e8ed5_row3_col8\" class=\"data row3 col8\" >Active</td>\n",
       "      <td id=\"T_e8ed5_row3_col9\" class=\"data row3 col9\" >147,325.59</td>\n",
       "      <td id=\"T_e8ed5_row3_col10\" class=\"data row3 col10\" >HD</td>\n",
       "      <td id=\"T_e8ed5_row3_col11\" class=\"data row3 col11\" >None</td>\n",
       "    </tr>\n",
       "  </tbody>\n",
       "</table>\n"
      ],
      "text/plain": [
       "<pandas.io.formats.style.Styler at 0x1b93c6dfa10>"
      ]
     },
     "execution_count": 33,
     "metadata": {},
     "output_type": "execute_result"
    }
   ],
   "source": [
    "sql = \"\"\"\n",
    "    SELECT name, B.* \n",
    "    FROM buys B\n",
    "    JOIN stocks T \n",
    "    ON B.stock_id = T.id\n",
    "    WHERE name = '{}' AND status = 'Active'\n",
    "    ORDER BY id DESC\n",
    "\"\"\".format(name)\n",
    "df_buys = pd.read_sql(sql, conpf)\n",
    "# Format all floats (pandas 1.4.0+)\n",
    "df_buys.style.format(format_dict).hide(axis=\"index\")"
   ]
  },
  {
   "cell_type": "code",
   "execution_count": 35,
   "metadata": {},
   "outputs": [
    {
     "name": "stdout",
     "output_type": "stream",
     "text": [
      "Total qty: 45,000\n",
      "Average Unit Cost: 12.69\n"
     ]
    }
   ],
   "source": [
    "# Calculate total price*qty and total qty\n",
    "total_price_qty = (df_buys['price'] * df_buys['qty']).sum()\n",
    "total_qty = df_buys['qty'].sum()\n",
    "\n",
    "# Compute average unit cost\n",
    "average_unit_cost = round(total_price_qty / total_qty,2)\n",
    "\n",
    "print(f\"Total qty: {total_qty:,.0f}\")\n",
    "print(f\"Average Unit Cost: {average_unit_cost:.2f}\")"
   ]
  },
  {
   "cell_type": "code",
   "execution_count": 37,
   "metadata": {},
   "outputs": [
    {
     "name": "stdout",
     "output_type": "stream",
     "text": [
      "DIF 571000.5 -41500.0 571000.0 45000 12.69\n"
     ]
    }
   ],
   "source": [
    "old_cost_amt = df_buy['shares'].iloc[0] * df_buy['price'].iloc[0]\n",
    "sales_amt = qty * sell_price\n",
    "new_qty = total_qty\n",
    "new_cost_amt = total_price_qty\n",
    "new_unit_cost = average_unit_cost\n",
    "print(name, old_cost_amt, sales_amt, new_cost_amt, new_qty, new_unit_cost)"
   ]
  },
  {
   "cell_type": "code",
   "execution_count": 39,
   "metadata": {},
   "outputs": [
    {
     "data": {
      "text/html": [
       "<style type=\"text/css\">\n",
       "</style>\n",
       "<table id=\"T_92e6a\">\n",
       "  <thead>\n",
       "    <tr>\n",
       "      <th id=\"T_92e6a_level0_col0\" class=\"col_heading level0 col0\" >name</th>\n",
       "      <th id=\"T_92e6a_level0_col1\" class=\"col_heading level0 col1\" >date</th>\n",
       "      <th id=\"T_92e6a_level0_col2\" class=\"col_heading level0 col2\" >shares</th>\n",
       "      <th id=\"T_92e6a_level0_col3\" class=\"col_heading level0 col3\" >price</th>\n",
       "      <th id=\"T_92e6a_level0_col4\" class=\"col_heading level0 col4\" >active</th>\n",
       "      <th id=\"T_92e6a_level0_col5\" class=\"col_heading level0 col5\" >period</th>\n",
       "      <th id=\"T_92e6a_level0_col6\" class=\"col_heading level0 col6\" >grade</th>\n",
       "    </tr>\n",
       "  </thead>\n",
       "  <tbody>\n",
       "    <tr>\n",
       "      <td id=\"T_92e6a_row0_col0\" class=\"data row0 col0\" >DIF</td>\n",
       "      <td id=\"T_92e6a_row0_col1\" class=\"data row0 col1\" >2020-08-01</td>\n",
       "      <td id=\"T_92e6a_row0_col2\" class=\"data row0 col2\" >45,000</td>\n",
       "      <td id=\"T_92e6a_row0_col3\" class=\"data row0 col3\" >12.69</td>\n",
       "      <td id=\"T_92e6a_row0_col4\" class=\"data row0 col4\" >1</td>\n",
       "      <td id=\"T_92e6a_row0_col5\" class=\"data row0 col5\" >2</td>\n",
       "      <td id=\"T_92e6a_row0_col6\" class=\"data row0 col6\" >C1</td>\n",
       "    </tr>\n",
       "  </tbody>\n",
       "</table>\n"
      ],
      "text/plain": [
       "<pandas.io.formats.style.Styler at 0x1b93c6df170>"
      ]
     },
     "execution_count": 39,
     "metadata": {},
     "output_type": "execute_result"
    }
   ],
   "source": [
    "show_buy(const, name)"
   ]
  },
  {
   "cell_type": "code",
   "execution_count": 41,
   "metadata": {},
   "outputs": [
    {
     "name": "stdout",
     "output_type": "stream",
     "text": [
      "DIF 45000 12.69\n"
     ]
    }
   ],
   "source": [
    "print(name, new_qty, new_unit_cost)"
   ]
  },
  {
   "cell_type": "code",
   "execution_count": 53,
   "metadata": {},
   "outputs": [],
   "source": [
    "new_unit_cost = 12.70"
   ]
  },
  {
   "cell_type": "code",
   "execution_count": 55,
   "metadata": {},
   "outputs": [
    {
     "data": {
      "text/plain": [
       "'Records updated = 1'"
      ]
     },
     "execution_count": 55,
     "metadata": {},
     "output_type": "execute_result"
    }
   ],
   "source": [
    "update_buy(const, name, new_qty, new_unit_cost)"
   ]
  },
  {
   "cell_type": "code",
   "execution_count": 57,
   "metadata": {},
   "outputs": [
    {
     "data": {
      "text/html": [
       "<style type=\"text/css\">\n",
       "</style>\n",
       "<table id=\"T_f19de\">\n",
       "  <thead>\n",
       "    <tr>\n",
       "      <th id=\"T_f19de_level0_col0\" class=\"col_heading level0 col0\" >name</th>\n",
       "      <th id=\"T_f19de_level0_col1\" class=\"col_heading level0 col1\" >date</th>\n",
       "      <th id=\"T_f19de_level0_col2\" class=\"col_heading level0 col2\" >shares</th>\n",
       "      <th id=\"T_f19de_level0_col3\" class=\"col_heading level0 col3\" >price</th>\n",
       "      <th id=\"T_f19de_level0_col4\" class=\"col_heading level0 col4\" >active</th>\n",
       "      <th id=\"T_f19de_level0_col5\" class=\"col_heading level0 col5\" >period</th>\n",
       "      <th id=\"T_f19de_level0_col6\" class=\"col_heading level0 col6\" >grade</th>\n",
       "    </tr>\n",
       "  </thead>\n",
       "  <tbody>\n",
       "    <tr>\n",
       "      <td id=\"T_f19de_row0_col0\" class=\"data row0 col0\" >DIF</td>\n",
       "      <td id=\"T_f19de_row0_col1\" class=\"data row0 col1\" >2020-08-01</td>\n",
       "      <td id=\"T_f19de_row0_col2\" class=\"data row0 col2\" >45,000</td>\n",
       "      <td id=\"T_f19de_row0_col3\" class=\"data row0 col3\" >12.70</td>\n",
       "      <td id=\"T_f19de_row0_col4\" class=\"data row0 col4\" >1</td>\n",
       "      <td id=\"T_f19de_row0_col5\" class=\"data row0 col5\" >2</td>\n",
       "      <td id=\"T_f19de_row0_col6\" class=\"data row0 col6\" >C1</td>\n",
       "    </tr>\n",
       "  </tbody>\n",
       "</table>\n"
      ],
      "text/plain": [
       "<pandas.io.formats.style.Styler at 0x1b93c6dc7d0>"
      ]
     },
     "execution_count": 57,
     "metadata": {},
     "output_type": "execute_result"
    }
   ],
   "source": [
    "show_buy(const, name)"
   ]
  },
  {
   "cell_type": "code",
   "execution_count": 47,
   "metadata": {},
   "outputs": [
    {
     "name": "stdout",
     "output_type": "stream",
     "text": [
      "Records deleted: 0\n"
     ]
    }
   ],
   "source": [
    "# Define the SQL query\n",
    "sqlDel = text(\"\"\"\n",
    "    DELETE FROM buy\n",
    "    WHERE name = :name AND volbuy = 0 AND active = 0;\n",
    "\"\"\")\n",
    "\n",
    "# Execute the query with the correct parameter dictionary\n",
    "result = const.execute(sqlDel, {'name': name})\n",
    "\n",
    "# Print the number of rows deleted\n",
    "print(f\"Records deleted: {result.rowcount}\")  "
   ]
  },
  {
   "cell_type": "markdown",
   "metadata": {},
   "source": [
    "### End of Update buy table in MySQL stock database from sale transaction"
   ]
  },
  {
   "cell_type": "markdown",
   "metadata": {},
   "source": [
    "### Begin of Update dividend table in MySQL stock database from sale transaction"
   ]
  },
  {
   "cell_type": "code",
   "execution_count": 51,
   "metadata": {},
   "outputs": [
    {
     "data": {
      "text/html": [
       "<style type=\"text/css\">\n",
       "</style>\n",
       "<table id=\"T_694a1\">\n",
       "  <thead>\n",
       "    <tr>\n",
       "      <th id=\"T_694a1_level0_col0\" class=\"col_heading level0 col0\" >name</th>\n",
       "      <th id=\"T_694a1_level0_col1\" class=\"col_heading level0 col1\" >q4</th>\n",
       "      <th id=\"T_694a1_level0_col2\" class=\"col_heading level0 col2\" >q3</th>\n",
       "      <th id=\"T_694a1_level0_col3\" class=\"col_heading level0 col3\" >q2</th>\n",
       "      <th id=\"T_694a1_level0_col4\" class=\"col_heading level0 col4\" >q1</th>\n",
       "      <th id=\"T_694a1_level0_col5\" class=\"col_heading level0 col5\" >dividend</th>\n",
       "      <th id=\"T_694a1_level0_col6\" class=\"col_heading level0 col6\" >price</th>\n",
       "      <th id=\"T_694a1_level0_col7\" class=\"col_heading level0 col7\" >percent</th>\n",
       "      <th id=\"T_694a1_level0_col8\" class=\"col_heading level0 col8\" >shares</th>\n",
       "      <th id=\"T_694a1_level0_col9\" class=\"col_heading level0 col9\" >xdate</th>\n",
       "      <th id=\"T_694a1_level0_col10\" class=\"col_heading level0 col10\" >paiddate</th>\n",
       "      <th id=\"T_694a1_level0_col11\" class=\"col_heading level0 col11\" >kind</th>\n",
       "      <th id=\"T_694a1_level0_col12\" class=\"col_heading level0 col12\" >actual</th>\n",
       "    </tr>\n",
       "  </thead>\n",
       "  <tbody>\n",
       "    <tr>\n",
       "      <td id=\"T_694a1_row0_col0\" class=\"data row0 col0\" >DIF</td>\n",
       "      <td id=\"T_694a1_row0_col1\" class=\"data row0 col1\" >0.2222</td>\n",
       "      <td id=\"T_694a1_row0_col2\" class=\"data row0 col2\" >0.2222</td>\n",
       "      <td id=\"T_694a1_row0_col3\" class=\"data row0 col3\" >0.2222</td>\n",
       "      <td id=\"T_694a1_row0_col4\" class=\"data row0 col4\" >0.2222</td>\n",
       "      <td id=\"T_694a1_row0_col5\" class=\"data row0 col5\" >0.8888</td>\n",
       "      <td id=\"T_694a1_row0_col6\" class=\"data row0 col6\" >0.00</td>\n",
       "      <td id=\"T_694a1_row0_col7\" class=\"data row0 col7\" >0.00%</td>\n",
       "      <td id=\"T_694a1_row0_col8\" class=\"data row0 col8\" >45,000</td>\n",
       "      <td id=\"T_694a1_row0_col9\" class=\"data row0 col9\" >2025-08-15</td>\n",
       "      <td id=\"T_694a1_row0_col10\" class=\"data row0 col10\" >2025-09-09</td>\n",
       "      <td id=\"T_694a1_row0_col11\" class=\"data row0 col11\" ></td>\n",
       "      <td id=\"T_694a1_row0_col12\" class=\"data row0 col12\" >1</td>\n",
       "    </tr>\n",
       "  </tbody>\n",
       "</table>\n"
      ],
      "text/plain": [
       "<pandas.io.formats.style.Styler at 0x1b93c718050>"
      ]
     },
     "execution_count": 51,
     "metadata": {},
     "output_type": "execute_result"
    }
   ],
   "source": [
    "sql = \"\"\"\n",
    "    SELECT * \n",
    "    FROM dividend \n",
    "    WHERE name = '{}'\n",
    "\"\"\".format(name)\n",
    "    \n",
    "df_dividend = pd.read_sql(sql, const)\n",
    "df_dividend.columns = df_dividend.columns.str.lower()\n",
    "df_dividend['shares'] = df_dividend['shares'].astype('int64')\n",
    "\n",
    "df_dividend.style.format(format_dict).hide(axis=\"index\")"
   ]
  },
  {
   "cell_type": "code",
   "execution_count": 52,
   "metadata": {},
   "outputs": [
    {
     "data": {
      "text/plain": [
       "45000"
      ]
     },
     "execution_count": 52,
     "metadata": {},
     "output_type": "execute_result"
    }
   ],
   "source": [
    "new_qty = df_dividend['shares'].iloc[0] + qty\n",
    "new_qty"
   ]
  },
  {
   "cell_type": "code",
   "execution_count": 54,
   "metadata": {},
   "outputs": [
    {
     "data": {
      "text/html": [
       "<style type=\"text/css\">\n",
       "</style>\n",
       "<table id=\"T_7a0f7\">\n",
       "  <thead>\n",
       "    <tr>\n",
       "      <th id=\"T_7a0f7_level0_col0\" class=\"col_heading level0 col0\" >name</th>\n",
       "      <th id=\"T_7a0f7_level0_col1\" class=\"col_heading level0 col1\" >q4</th>\n",
       "      <th id=\"T_7a0f7_level0_col2\" class=\"col_heading level0 col2\" >q3</th>\n",
       "      <th id=\"T_7a0f7_level0_col3\" class=\"col_heading level0 col3\" >q2</th>\n",
       "      <th id=\"T_7a0f7_level0_col4\" class=\"col_heading level0 col4\" >q1</th>\n",
       "      <th id=\"T_7a0f7_level0_col5\" class=\"col_heading level0 col5\" >dividend</th>\n",
       "      <th id=\"T_7a0f7_level0_col6\" class=\"col_heading level0 col6\" >shares</th>\n",
       "      <th id=\"T_7a0f7_level0_col7\" class=\"col_heading level0 col7\" >xdate</th>\n",
       "      <th id=\"T_7a0f7_level0_col8\" class=\"col_heading level0 col8\" >paiddate</th>\n",
       "      <th id=\"T_7a0f7_level0_col9\" class=\"col_heading level0 col9\" >kind</th>\n",
       "      <th id=\"T_7a0f7_level0_col10\" class=\"col_heading level0 col10\" >actual</th>\n",
       "    </tr>\n",
       "  </thead>\n",
       "  <tbody>\n",
       "    <tr>\n",
       "      <td id=\"T_7a0f7_row0_col0\" class=\"data row0 col0\" >DIF</td>\n",
       "      <td id=\"T_7a0f7_row0_col1\" class=\"data row0 col1\" >0.2222</td>\n",
       "      <td id=\"T_7a0f7_row0_col2\" class=\"data row0 col2\" >0.2222</td>\n",
       "      <td id=\"T_7a0f7_row0_col3\" class=\"data row0 col3\" >0.2222</td>\n",
       "      <td id=\"T_7a0f7_row0_col4\" class=\"data row0 col4\" >0.2222</td>\n",
       "      <td id=\"T_7a0f7_row0_col5\" class=\"data row0 col5\" >0.8888</td>\n",
       "      <td id=\"T_7a0f7_row0_col6\" class=\"data row0 col6\" >50,000</td>\n",
       "      <td id=\"T_7a0f7_row0_col7\" class=\"data row0 col7\" >2025-08-15</td>\n",
       "      <td id=\"T_7a0f7_row0_col8\" class=\"data row0 col8\" >2025-09-09</td>\n",
       "      <td id=\"T_7a0f7_row0_col9\" class=\"data row0 col9\" ></td>\n",
       "      <td id=\"T_7a0f7_row0_col10\" class=\"data row0 col10\" >1</td>\n",
       "    </tr>\n",
       "  </tbody>\n",
       "</table>\n"
      ],
      "text/plain": [
       "<pandas.io.formats.style.Styler at 0x209041a6c30>"
      ]
     },
     "execution_count": 54,
     "metadata": {},
     "output_type": "execute_result"
    }
   ],
   "source": [
    "show_dividend(const, name)"
   ]
  },
  {
   "cell_type": "code",
   "execution_count": 90,
   "metadata": {},
   "outputs": [
    {
     "data": {
      "text/plain": [
       "'Records updated = 1'"
      ]
     },
     "execution_count": 90,
     "metadata": {},
     "output_type": "execute_result"
    }
   ],
   "source": [
    "update_dividend(const, name, new_qty)"
   ]
  },
  {
   "cell_type": "code",
   "execution_count": 92,
   "metadata": {},
   "outputs": [
    {
     "data": {
      "text/html": [
       "<style type=\"text/css\">\n",
       "</style>\n",
       "<table id=\"T_875ba\">\n",
       "  <thead>\n",
       "    <tr>\n",
       "      <th id=\"T_875ba_level0_col0\" class=\"col_heading level0 col0\" >name</th>\n",
       "      <th id=\"T_875ba_level0_col1\" class=\"col_heading level0 col1\" >q4</th>\n",
       "      <th id=\"T_875ba_level0_col2\" class=\"col_heading level0 col2\" >q3</th>\n",
       "      <th id=\"T_875ba_level0_col3\" class=\"col_heading level0 col3\" >q2</th>\n",
       "      <th id=\"T_875ba_level0_col4\" class=\"col_heading level0 col4\" >q1</th>\n",
       "      <th id=\"T_875ba_level0_col5\" class=\"col_heading level0 col5\" >dividend</th>\n",
       "      <th id=\"T_875ba_level0_col6\" class=\"col_heading level0 col6\" >shares</th>\n",
       "      <th id=\"T_875ba_level0_col7\" class=\"col_heading level0 col7\" >xdate</th>\n",
       "      <th id=\"T_875ba_level0_col8\" class=\"col_heading level0 col8\" >paiddate</th>\n",
       "      <th id=\"T_875ba_level0_col9\" class=\"col_heading level0 col9\" >kind</th>\n",
       "      <th id=\"T_875ba_level0_col10\" class=\"col_heading level0 col10\" >actual</th>\n",
       "    </tr>\n",
       "  </thead>\n",
       "  <tbody>\n",
       "    <tr>\n",
       "      <td id=\"T_875ba_row0_col0\" class=\"data row0 col0\" >DIF</td>\n",
       "      <td id=\"T_875ba_row0_col1\" class=\"data row0 col1\" >0.2222</td>\n",
       "      <td id=\"T_875ba_row0_col2\" class=\"data row0 col2\" >0.2222</td>\n",
       "      <td id=\"T_875ba_row0_col3\" class=\"data row0 col3\" >0.2222</td>\n",
       "      <td id=\"T_875ba_row0_col4\" class=\"data row0 col4\" >0.2222</td>\n",
       "      <td id=\"T_875ba_row0_col5\" class=\"data row0 col5\" >0.8888</td>\n",
       "      <td id=\"T_875ba_row0_col6\" class=\"data row0 col6\" >45,000</td>\n",
       "      <td id=\"T_875ba_row0_col7\" class=\"data row0 col7\" >2025-08-15</td>\n",
       "      <td id=\"T_875ba_row0_col8\" class=\"data row0 col8\" >2025-09-09</td>\n",
       "      <td id=\"T_875ba_row0_col9\" class=\"data row0 col9\" ></td>\n",
       "      <td id=\"T_875ba_row0_col10\" class=\"data row0 col10\" >1</td>\n",
       "    </tr>\n",
       "  </tbody>\n",
       "</table>\n"
      ],
      "text/plain": [
       "<pandas.io.formats.style.Styler at 0x20906aa34a0>"
      ]
     },
     "execution_count": 92,
     "metadata": {},
     "output_type": "execute_result"
    }
   ],
   "source": [
    "show_dividend(const, name)"
   ]
  },
  {
   "cell_type": "code",
   "execution_count": 94,
   "metadata": {},
   "outputs": [
    {
     "name": "stdout",
     "output_type": "stream",
     "text": [
      "Records deleted: 0\n"
     ]
    }
   ],
   "source": [
    "# Define the SQL query\n",
    "sqlDel = text(\"\"\"\n",
    "    DELETE FROM dividend\n",
    "    WHERE name = :name AND shares = 0 AND actual = 0;\n",
    "\"\"\")\n",
    "\n",
    "# Execute the query with the correct parameter dictionary\n",
    "result = const.execute(sqlDel, {'name': name})\n",
    "\n",
    "# Print the number of rows deleted\n",
    "print(f\"Records deleted: {result.rowcount}\")  "
   ]
  },
  {
   "cell_type": "code",
   "execution_count": 96,
   "metadata": {},
   "outputs": [
    {
     "data": {
      "text/html": [
       "<style type=\"text/css\">\n",
       "</style>\n",
       "<table id=\"T_d2383\">\n",
       "  <thead>\n",
       "    <tr>\n",
       "      <th id=\"T_d2383_level0_col0\" class=\"col_heading level0 col0\" >name</th>\n",
       "      <th id=\"T_d2383_level0_col1\" class=\"col_heading level0 col1\" >q4</th>\n",
       "      <th id=\"T_d2383_level0_col2\" class=\"col_heading level0 col2\" >q3</th>\n",
       "      <th id=\"T_d2383_level0_col3\" class=\"col_heading level0 col3\" >q2</th>\n",
       "      <th id=\"T_d2383_level0_col4\" class=\"col_heading level0 col4\" >q1</th>\n",
       "      <th id=\"T_d2383_level0_col5\" class=\"col_heading level0 col5\" >dividend</th>\n",
       "      <th id=\"T_d2383_level0_col6\" class=\"col_heading level0 col6\" >shares</th>\n",
       "      <th id=\"T_d2383_level0_col7\" class=\"col_heading level0 col7\" >xdate</th>\n",
       "      <th id=\"T_d2383_level0_col8\" class=\"col_heading level0 col8\" >paiddate</th>\n",
       "      <th id=\"T_d2383_level0_col9\" class=\"col_heading level0 col9\" >kind</th>\n",
       "      <th id=\"T_d2383_level0_col10\" class=\"col_heading level0 col10\" >actual</th>\n",
       "    </tr>\n",
       "  </thead>\n",
       "  <tbody>\n",
       "    <tr>\n",
       "      <td id=\"T_d2383_row0_col0\" class=\"data row0 col0\" >DIF</td>\n",
       "      <td id=\"T_d2383_row0_col1\" class=\"data row0 col1\" >0.2222</td>\n",
       "      <td id=\"T_d2383_row0_col2\" class=\"data row0 col2\" >0.2222</td>\n",
       "      <td id=\"T_d2383_row0_col3\" class=\"data row0 col3\" >0.2222</td>\n",
       "      <td id=\"T_d2383_row0_col4\" class=\"data row0 col4\" >0.2222</td>\n",
       "      <td id=\"T_d2383_row0_col5\" class=\"data row0 col5\" >0.8888</td>\n",
       "      <td id=\"T_d2383_row0_col6\" class=\"data row0 col6\" >45,000</td>\n",
       "      <td id=\"T_d2383_row0_col7\" class=\"data row0 col7\" >2025-08-15</td>\n",
       "      <td id=\"T_d2383_row0_col8\" class=\"data row0 col8\" >2025-09-09</td>\n",
       "      <td id=\"T_d2383_row0_col9\" class=\"data row0 col9\" ></td>\n",
       "      <td id=\"T_d2383_row0_col10\" class=\"data row0 col10\" >1</td>\n",
       "    </tr>\n",
       "  </tbody>\n",
       "</table>\n"
      ],
      "text/plain": [
       "<pandas.io.formats.style.Styler at 0x20904399ac0>"
      ]
     },
     "execution_count": 96,
     "metadata": {},
     "output_type": "execute_result"
    }
   ],
   "source": [
    "show_dividend(const, name)"
   ]
  },
  {
   "cell_type": "markdown",
   "metadata": {},
   "source": [
    "### End of Update dividend table in MySQL stock database from sale transaction"
   ]
  },
  {
   "cell_type": "markdown",
   "metadata": {},
   "source": [
    "### Begin of Update stocks table in SQLite port_lite database from sale transaction"
   ]
  },
  {
   "cell_type": "code",
   "execution_count": 72,
   "metadata": {},
   "outputs": [
    {
     "data": {
      "text/html": [
       "<div>\n",
       "<style scoped>\n",
       "    .dataframe tbody tr th:only-of-type {\n",
       "        vertical-align: middle;\n",
       "    }\n",
       "\n",
       "    .dataframe tbody tr th {\n",
       "        vertical-align: top;\n",
       "    }\n",
       "\n",
       "    .dataframe thead th {\n",
       "        text-align: right;\n",
       "    }\n",
       "</style>\n",
       "<table border=\"1\" class=\"dataframe\">\n",
       "  <thead>\n",
       "    <tr style=\"text-align: right;\">\n",
       "      <th></th>\n",
       "      <th>name</th>\n",
       "      <th>cost</th>\n",
       "      <th>available_qty</th>\n",
       "    </tr>\n",
       "  </thead>\n",
       "  <tbody>\n",
       "    <tr>\n",
       "      <th>0</th>\n",
       "      <td>DIF</td>\n",
       "      <td>12.17</td>\n",
       "      <td>50000</td>\n",
       "    </tr>\n",
       "  </tbody>\n",
       "</table>\n",
       "</div>"
      ],
      "text/plain": [
       "  name   cost  available_qty\n",
       "0  DIF  12.17          50000"
      ]
     },
     "execution_count": 72,
     "metadata": {},
     "output_type": "execute_result"
    }
   ],
   "source": [
    "sql = \"\"\"\n",
    "    SELECT name, cost, available_qty\n",
    "    FROM stocks\n",
    "    WHERE name = '{}'\n",
    "\"\"\".format(name)\n",
    "\n",
    "df_stocks = pd.read_sql(sql, conlite)\n",
    "df_stocks['available_qty'] = df_stocks['available_qty'].astype('int64')\n",
    "df_stocks"
   ]
  },
  {
   "cell_type": "code",
   "execution_count": 74,
   "metadata": {},
   "outputs": [],
   "source": [
    "old_qty = int(df_stocks['available_qty'].iloc[0])\n",
    "new_qty = old_qty + qty\n",
    "new_buy_target = 7.80\n",
    "new_sell_target = 12.70\n",
    "new_buy_qty = 5000"
   ]
  },
  {
   "cell_type": "code",
   "execution_count": 76,
   "metadata": {},
   "outputs": [
    {
     "data": {
      "text/html": [
       "<style type=\"text/css\">\n",
       "</style>\n",
       "<table id=\"T_cd0da\">\n",
       "  <thead>\n",
       "    <tr>\n",
       "      <th id=\"T_cd0da_level0_col0\" class=\"col_heading level0 col0\" >id</th>\n",
       "      <th id=\"T_cd0da_level0_col1\" class=\"col_heading level0 col1\" >name</th>\n",
       "      <th id=\"T_cd0da_level0_col2\" class=\"col_heading level0 col2\" >max_price</th>\n",
       "      <th id=\"T_cd0da_level0_col3\" class=\"col_heading level0 col3\" >min_price</th>\n",
       "      <th id=\"T_cd0da_level0_col4\" class=\"col_heading level0 col4\" >status</th>\n",
       "      <th id=\"T_cd0da_level0_col5\" class=\"col_heading level0 col5\" >buy_target</th>\n",
       "      <th id=\"T_cd0da_level0_col6\" class=\"col_heading level0 col6\" >sell_target</th>\n",
       "      <th id=\"T_cd0da_level0_col7\" class=\"col_heading level0 col7\" >volume</th>\n",
       "      <th id=\"T_cd0da_level0_col8\" class=\"col_heading level0 col8\" >beta</th>\n",
       "      <th id=\"T_cd0da_level0_col9\" class=\"col_heading level0 col9\" >cost</th>\n",
       "      <th id=\"T_cd0da_level0_col10\" class=\"col_heading level0 col10\" >qty</th>\n",
       "      <th id=\"T_cd0da_level0_col11\" class=\"col_heading level0 col11\" >buy_spread</th>\n",
       "      <th id=\"T_cd0da_level0_col12\" class=\"col_heading level0 col12\" >sell_spread</th>\n",
       "      <th id=\"T_cd0da_level0_col13\" class=\"col_heading level0 col13\" >available_qty</th>\n",
       "      <th id=\"T_cd0da_level0_col14\" class=\"col_heading level0 col14\" >bl</th>\n",
       "      <th id=\"T_cd0da_level0_col15\" class=\"col_heading level0 col15\" >sh</th>\n",
       "      <th id=\"T_cd0da_level0_col16\" class=\"col_heading level0 col16\" >reason</th>\n",
       "      <th id=\"T_cd0da_level0_col17\" class=\"col_heading level0 col17\" >market</th>\n",
       "    </tr>\n",
       "  </thead>\n",
       "  <tbody>\n",
       "    <tr>\n",
       "      <td id=\"T_cd0da_row0_col0\" class=\"data row0 col0\" >107</td>\n",
       "      <td id=\"T_cd0da_row0_col1\" class=\"data row0 col1\" >DIF</td>\n",
       "      <td id=\"T_cd0da_row0_col2\" class=\"data row0 col2\" >0.00</td>\n",
       "      <td id=\"T_cd0da_row0_col3\" class=\"data row0 col3\" >0.00</td>\n",
       "      <td id=\"T_cd0da_row0_col4\" class=\"data row0 col4\" >S</td>\n",
       "      <td id=\"T_cd0da_row0_col5\" class=\"data row0 col5\" >8.30</td>\n",
       "      <td id=\"T_cd0da_row0_col6\" class=\"data row0 col6\" >8.30</td>\n",
       "      <td id=\"T_cd0da_row0_col7\" class=\"data row0 col7\" >0.00</td>\n",
       "      <td id=\"T_cd0da_row0_col8\" class=\"data row0 col8\" >0.00</td>\n",
       "      <td id=\"T_cd0da_row0_col9\" class=\"data row0 col9\" >12.17</td>\n",
       "      <td id=\"T_cd0da_row0_col10\" class=\"data row0 col10\" >5,000</td>\n",
       "      <td id=\"T_cd0da_row0_col11\" class=\"data row0 col11\" >-4</td>\n",
       "      <td id=\"T_cd0da_row0_col12\" class=\"data row0 col12\" >4</td>\n",
       "      <td id=\"T_cd0da_row0_col13\" class=\"data row0 col13\" >50,000</td>\n",
       "      <td id=\"T_cd0da_row0_col14\" class=\"data row0 col14\" >0.000000</td>\n",
       "      <td id=\"T_cd0da_row0_col15\" class=\"data row0 col15\" >0.000000</td>\n",
       "      <td id=\"T_cd0da_row0_col16\" class=\"data row0 col16\" >RD40Pct</td>\n",
       "      <td id=\"T_cd0da_row0_col17\" class=\"data row0 col17\" >SET</td>\n",
       "    </tr>\n",
       "  </tbody>\n",
       "</table>\n"
      ],
      "text/plain": [
       "<pandas.io.formats.style.Styler at 0x2090056fe00>"
      ]
     },
     "execution_count": 76,
     "metadata": {},
     "output_type": "execute_result"
    }
   ],
   "source": [
    "show_stocks(conlite, name)"
   ]
  },
  {
   "cell_type": "code",
   "execution_count": 78,
   "metadata": {},
   "outputs": [
    {
     "name": "stdout",
     "output_type": "stream",
     "text": [
      "DIF S 45000 12.688888888888888 7.8 12.7 5000\n"
     ]
    }
   ],
   "source": [
    "print(name, transaction, new_qty, new_unit_cost, new_buy_target, new_sell_target, new_buy_qty)"
   ]
  },
  {
   "cell_type": "code",
   "execution_count": 80,
   "metadata": {},
   "outputs": [
    {
     "data": {
      "text/plain": [
       "'Records updated = 1'"
      ]
     },
     "execution_count": 80,
     "metadata": {},
     "output_type": "execute_result"
    }
   ],
   "source": [
    "update_stock(conlite, name, new_qty, new_unit_cost, new_buy_target, new_sell_target, new_buy_qty)"
   ]
  },
  {
   "cell_type": "code",
   "execution_count": 82,
   "metadata": {},
   "outputs": [
    {
     "data": {
      "text/html": [
       "<style type=\"text/css\">\n",
       "</style>\n",
       "<table id=\"T_467f5\">\n",
       "  <thead>\n",
       "    <tr>\n",
       "      <th id=\"T_467f5_level0_col0\" class=\"col_heading level0 col0\" >id</th>\n",
       "      <th id=\"T_467f5_level0_col1\" class=\"col_heading level0 col1\" >name</th>\n",
       "      <th id=\"T_467f5_level0_col2\" class=\"col_heading level0 col2\" >max_price</th>\n",
       "      <th id=\"T_467f5_level0_col3\" class=\"col_heading level0 col3\" >min_price</th>\n",
       "      <th id=\"T_467f5_level0_col4\" class=\"col_heading level0 col4\" >status</th>\n",
       "      <th id=\"T_467f5_level0_col5\" class=\"col_heading level0 col5\" >buy_target</th>\n",
       "      <th id=\"T_467f5_level0_col6\" class=\"col_heading level0 col6\" >sell_target</th>\n",
       "      <th id=\"T_467f5_level0_col7\" class=\"col_heading level0 col7\" >volume</th>\n",
       "      <th id=\"T_467f5_level0_col8\" class=\"col_heading level0 col8\" >beta</th>\n",
       "      <th id=\"T_467f5_level0_col9\" class=\"col_heading level0 col9\" >cost</th>\n",
       "      <th id=\"T_467f5_level0_col10\" class=\"col_heading level0 col10\" >qty</th>\n",
       "      <th id=\"T_467f5_level0_col11\" class=\"col_heading level0 col11\" >buy_spread</th>\n",
       "      <th id=\"T_467f5_level0_col12\" class=\"col_heading level0 col12\" >sell_spread</th>\n",
       "      <th id=\"T_467f5_level0_col13\" class=\"col_heading level0 col13\" >available_qty</th>\n",
       "      <th id=\"T_467f5_level0_col14\" class=\"col_heading level0 col14\" >bl</th>\n",
       "      <th id=\"T_467f5_level0_col15\" class=\"col_heading level0 col15\" >sh</th>\n",
       "      <th id=\"T_467f5_level0_col16\" class=\"col_heading level0 col16\" >reason</th>\n",
       "      <th id=\"T_467f5_level0_col17\" class=\"col_heading level0 col17\" >market</th>\n",
       "    </tr>\n",
       "  </thead>\n",
       "  <tbody>\n",
       "    <tr>\n",
       "      <td id=\"T_467f5_row0_col0\" class=\"data row0 col0\" >107</td>\n",
       "      <td id=\"T_467f5_row0_col1\" class=\"data row0 col1\" >DIF</td>\n",
       "      <td id=\"T_467f5_row0_col2\" class=\"data row0 col2\" >0.00</td>\n",
       "      <td id=\"T_467f5_row0_col3\" class=\"data row0 col3\" >0.00</td>\n",
       "      <td id=\"T_467f5_row0_col4\" class=\"data row0 col4\" >S</td>\n",
       "      <td id=\"T_467f5_row0_col5\" class=\"data row0 col5\" >7.80</td>\n",
       "      <td id=\"T_467f5_row0_col6\" class=\"data row0 col6\" >12.70</td>\n",
       "      <td id=\"T_467f5_row0_col7\" class=\"data row0 col7\" >0.00</td>\n",
       "      <td id=\"T_467f5_row0_col8\" class=\"data row0 col8\" >0.00</td>\n",
       "      <td id=\"T_467f5_row0_col9\" class=\"data row0 col9\" >12.69</td>\n",
       "      <td id=\"T_467f5_row0_col10\" class=\"data row0 col10\" >5,000</td>\n",
       "      <td id=\"T_467f5_row0_col11\" class=\"data row0 col11\" >-4</td>\n",
       "      <td id=\"T_467f5_row0_col12\" class=\"data row0 col12\" >4</td>\n",
       "      <td id=\"T_467f5_row0_col13\" class=\"data row0 col13\" >45,000</td>\n",
       "      <td id=\"T_467f5_row0_col14\" class=\"data row0 col14\" >0.000000</td>\n",
       "      <td id=\"T_467f5_row0_col15\" class=\"data row0 col15\" >0.000000</td>\n",
       "      <td id=\"T_467f5_row0_col16\" class=\"data row0 col16\" >RD40Pct</td>\n",
       "      <td id=\"T_467f5_row0_col17\" class=\"data row0 col17\" >SET</td>\n",
       "    </tr>\n",
       "  </tbody>\n",
       "</table>\n"
      ],
      "text/plain": [
       "<pandas.io.formats.style.Styler at 0x209042eab40>"
      ]
     },
     "execution_count": 82,
     "metadata": {},
     "output_type": "execute_result"
    }
   ],
   "source": [
    "show_stocks(conlite, name)"
   ]
  },
  {
   "cell_type": "markdown",
   "metadata": {},
   "source": [
    "### End of Update stocks table in SQLite port_lite database from sale transaction"
   ]
  },
  {
   "cell_type": "markdown",
   "metadata": {},
   "source": [
    "## End of Sale process"
   ]
  },
  {
   "cell_type": "markdown",
   "metadata": {},
   "source": [
    "### ====================================================="
   ]
  },
  {
   "cell_type": "code",
   "execution_count": 122,
   "metadata": {},
   "outputs": [
    {
     "name": "stdout",
     "output_type": "stream",
     "text": [
      "\n",
      "    SELECT period, buy.grade AS grade, buy.name AS name, buy.date AS date,     FORMAT(volbuy,0) AS volbuy, FORMAT(buy.price,2) AS buy_price, price.price AS mkt_price,    FORMAT((volbuy * buy.price),2) AS amtbuy, FORMAT((volbuy * price.price),2) AS amtmkt,     FORMAT(((price.price - buy.price) * volbuy),2) AS amtpol,     FORMAT((((price.price - buy.price)*volbuy)/(volbuy*buy.price)*100),2) AS pctpol     FROM buy INNER JOIN price ON buy.name = price.name WHERE price.date = '2025-09-02'     ORDER BY period, buy.name\n",
      "\n"
     ]
    }
   ],
   "source": [
    "#price_date = '2025-02-14'\n",
    "sql = \"\"\"\n",
    "    SELECT period, buy.grade AS grade, buy.name AS name, buy.date AS date, \\\n",
    "    FORMAT(volbuy,0) AS volbuy, FORMAT(buy.price,2) AS buy_price, price.price AS mkt_price,\\\n",
    "    FORMAT((volbuy * buy.price),2) AS amtbuy, FORMAT((volbuy * price.price),2) AS amtmkt, \\\n",
    "    FORMAT(((price.price - buy.price) * volbuy),2) AS amtpol, \\\n",
    "    FORMAT((((price.price - buy.price)*volbuy)/(volbuy*buy.price)*100),2) AS pctpol \\\n",
    "    FROM buy INNER JOIN price ON buy.name = price.name WHERE price.date = '{}' \\\n",
    "    ORDER BY period, buy.name\n",
    "\"\"\".format(yesterday)\n",
    "print(sql)"
   ]
  },
  {
   "cell_type": "code",
   "execution_count": 124,
   "metadata": {},
   "outputs": [
    {
     "data": {
      "text/html": [
       "<style type=\"text/css\">\n",
       "</style>\n",
       "<table id=\"T_90cc1\">\n",
       "  <thead>\n",
       "    <tr>\n",
       "      <th id=\"T_90cc1_level0_col0\" class=\"col_heading level0 col0\" >period</th>\n",
       "      <th id=\"T_90cc1_level0_col1\" class=\"col_heading level0 col1\" >grade</th>\n",
       "      <th id=\"T_90cc1_level0_col2\" class=\"col_heading level0 col2\" >name</th>\n",
       "      <th id=\"T_90cc1_level0_col3\" class=\"col_heading level0 col3\" >date</th>\n",
       "      <th id=\"T_90cc1_level0_col4\" class=\"col_heading level0 col4\" >volbuy</th>\n",
       "      <th id=\"T_90cc1_level0_col5\" class=\"col_heading level0 col5\" >buy_price</th>\n",
       "      <th id=\"T_90cc1_level0_col6\" class=\"col_heading level0 col6\" >mkt_price</th>\n",
       "      <th id=\"T_90cc1_level0_col7\" class=\"col_heading level0 col7\" >amtbuy</th>\n",
       "      <th id=\"T_90cc1_level0_col8\" class=\"col_heading level0 col8\" >amtmkt</th>\n",
       "      <th id=\"T_90cc1_level0_col9\" class=\"col_heading level0 col9\" >amtpol</th>\n",
       "      <th id=\"T_90cc1_level0_col10\" class=\"col_heading level0 col10\" >pctpol</th>\n",
       "    </tr>\n",
       "  </thead>\n",
       "  <tbody>\n",
       "    <tr>\n",
       "      <td id=\"T_90cc1_row0_col0\" class=\"data row0 col0\" >1</td>\n",
       "      <td id=\"T_90cc1_row0_col1\" class=\"data row0 col1\" >C1</td>\n",
       "      <td id=\"T_90cc1_row0_col2\" class=\"data row0 col2\" >AH</td>\n",
       "      <td id=\"T_90cc1_row0_col3\" class=\"data row0 col3\" >2023-06-08</td>\n",
       "      <td id=\"T_90cc1_row0_col4\" class=\"data row0 col4\" >1,200</td>\n",
       "      <td id=\"T_90cc1_row0_col5\" class=\"data row0 col5\" >37.00</td>\n",
       "      <td id=\"T_90cc1_row0_col6\" class=\"data row0 col6\" >14.20</td>\n",
       "      <td id=\"T_90cc1_row0_col7\" class=\"data row0 col7\" >44,400.00</td>\n",
       "      <td id=\"T_90cc1_row0_col8\" class=\"data row0 col8\" >17,040.00</td>\n",
       "      <td id=\"T_90cc1_row0_col9\" class=\"data row0 col9\" >-27,360.00</td>\n",
       "      <td id=\"T_90cc1_row0_col10\" class=\"data row0 col10\" >-61.62%</td>\n",
       "    </tr>\n",
       "    <tr>\n",
       "      <td id=\"T_90cc1_row1_col0\" class=\"data row1 col0\" >1</td>\n",
       "      <td id=\"T_90cc1_row1_col1\" class=\"data row1 col1\" >A1</td>\n",
       "      <td id=\"T_90cc1_row1_col2\" class=\"data row1 col2\" >AWC</td>\n",
       "      <td id=\"T_90cc1_row1_col3\" class=\"data row1 col3\" >2023-06-15</td>\n",
       "      <td id=\"T_90cc1_row1_col4\" class=\"data row1 col4\" >9,000</td>\n",
       "      <td id=\"T_90cc1_row1_col5\" class=\"data row1 col5\" >4.96</td>\n",
       "      <td id=\"T_90cc1_row1_col6\" class=\"data row1 col6\" >2.26</td>\n",
       "      <td id=\"T_90cc1_row1_col7\" class=\"data row1 col7\" >44,640.00</td>\n",
       "      <td id=\"T_90cc1_row1_col8\" class=\"data row1 col8\" >20,340.00</td>\n",
       "      <td id=\"T_90cc1_row1_col9\" class=\"data row1 col9\" >-24,300.00</td>\n",
       "      <td id=\"T_90cc1_row1_col10\" class=\"data row1 col10\" >-54.44%</td>\n",
       "    </tr>\n",
       "    <tr>\n",
       "      <td id=\"T_90cc1_row2_col0\" class=\"data row2 col0\" >1</td>\n",
       "      <td id=\"T_90cc1_row2_col1\" class=\"data row2 col1\" >A2</td>\n",
       "      <td id=\"T_90cc1_row2_col2\" class=\"data row2 col2\" >JMART</td>\n",
       "      <td id=\"T_90cc1_row2_col3\" class=\"data row2 col3\" >2023-01-20</td>\n",
       "      <td id=\"T_90cc1_row2_col4\" class=\"data row2 col4\" >6,800</td>\n",
       "      <td id=\"T_90cc1_row2_col5\" class=\"data row2 col5\" >33.00</td>\n",
       "      <td id=\"T_90cc1_row2_col6\" class=\"data row2 col6\" >8.50</td>\n",
       "      <td id=\"T_90cc1_row2_col7\" class=\"data row2 col7\" >224,400.00</td>\n",
       "      <td id=\"T_90cc1_row2_col8\" class=\"data row2 col8\" >57,800.00</td>\n",
       "      <td id=\"T_90cc1_row2_col9\" class=\"data row2 col9\" >-166,600.00</td>\n",
       "      <td id=\"T_90cc1_row2_col10\" class=\"data row2 col10\" >-74.24%</td>\n",
       "    </tr>\n",
       "    <tr>\n",
       "      <td id=\"T_90cc1_row3_col0\" class=\"data row3 col0\" >1</td>\n",
       "      <td id=\"T_90cc1_row3_col1\" class=\"data row3 col1\" >C2</td>\n",
       "      <td id=\"T_90cc1_row3_col2\" class=\"data row3 col2\" >ORI</td>\n",
       "      <td id=\"T_90cc1_row3_col3\" class=\"data row3 col3\" >2022-04-07</td>\n",
       "      <td id=\"T_90cc1_row3_col4\" class=\"data row3 col4\" >50,000</td>\n",
       "      <td id=\"T_90cc1_row3_col5\" class=\"data row3 col5\" >9.00</td>\n",
       "      <td id=\"T_90cc1_row3_col6\" class=\"data row3 col6\" >2.22</td>\n",
       "      <td id=\"T_90cc1_row3_col7\" class=\"data row3 col7\" >450,000.00</td>\n",
       "      <td id=\"T_90cc1_row3_col8\" class=\"data row3 col8\" >111,000.00</td>\n",
       "      <td id=\"T_90cc1_row3_col9\" class=\"data row3 col9\" >-339,000.00</td>\n",
       "      <td id=\"T_90cc1_row3_col10\" class=\"data row3 col10\" >-75.33%</td>\n",
       "    </tr>\n",
       "    <tr>\n",
       "      <td id=\"T_90cc1_row4_col0\" class=\"data row4 col0\" >1</td>\n",
       "      <td id=\"T_90cc1_row4_col1\" class=\"data row4 col1\" >C2</td>\n",
       "      <td id=\"T_90cc1_row4_col2\" class=\"data row4 col2\" >PTTGC</td>\n",
       "      <td id=\"T_90cc1_row4_col3\" class=\"data row4 col3\" >2021-03-17</td>\n",
       "      <td id=\"T_90cc1_row4_col4\" class=\"data row4 col4\" >6,000</td>\n",
       "      <td id=\"T_90cc1_row4_col5\" class=\"data row4 col5\" >64.75</td>\n",
       "      <td id=\"T_90cc1_row4_col6\" class=\"data row4 col6\" >27.75</td>\n",
       "      <td id=\"T_90cc1_row4_col7\" class=\"data row4 col7\" >388,500.00</td>\n",
       "      <td id=\"T_90cc1_row4_col8\" class=\"data row4 col8\" >166,500.00</td>\n",
       "      <td id=\"T_90cc1_row4_col9\" class=\"data row4 col9\" >-222,000.00</td>\n",
       "      <td id=\"T_90cc1_row4_col10\" class=\"data row4 col10\" >-57.14%</td>\n",
       "    </tr>\n",
       "    <tr>\n",
       "      <td id=\"T_90cc1_row5_col0\" class=\"data row5 col0\" >1</td>\n",
       "      <td id=\"T_90cc1_row5_col1\" class=\"data row5 col1\" >C2</td>\n",
       "      <td id=\"T_90cc1_row5_col2\" class=\"data row5 col2\" >SCC</td>\n",
       "      <td id=\"T_90cc1_row5_col3\" class=\"data row5 col3\" >2021-09-20</td>\n",
       "      <td id=\"T_90cc1_row5_col4\" class=\"data row5 col4\" >600</td>\n",
       "      <td id=\"T_90cc1_row5_col5\" class=\"data row5 col5\" >405.00</td>\n",
       "      <td id=\"T_90cc1_row5_col6\" class=\"data row5 col6\" >216.00</td>\n",
       "      <td id=\"T_90cc1_row5_col7\" class=\"data row5 col7\" >243,000.00</td>\n",
       "      <td id=\"T_90cc1_row5_col8\" class=\"data row5 col8\" >129,600.00</td>\n",
       "      <td id=\"T_90cc1_row5_col9\" class=\"data row5 col9\" >-113,400.00</td>\n",
       "      <td id=\"T_90cc1_row5_col10\" class=\"data row5 col10\" >-46.67%</td>\n",
       "    </tr>\n",
       "    <tr>\n",
       "      <td id=\"T_90cc1_row6_col0\" class=\"data row6 col0\" >1</td>\n",
       "      <td id=\"T_90cc1_row6_col1\" class=\"data row6 col1\" >A3</td>\n",
       "      <td id=\"T_90cc1_row6_col2\" class=\"data row6 col2\" >SINGER</td>\n",
       "      <td id=\"T_90cc1_row6_col3\" class=\"data row6 col3\" >2023-01-19</td>\n",
       "      <td id=\"T_90cc1_row6_col4\" class=\"data row6 col4\" >6,000</td>\n",
       "      <td id=\"T_90cc1_row6_col5\" class=\"data row6 col5\" >24.80</td>\n",
       "      <td id=\"T_90cc1_row6_col6\" class=\"data row6 col6\" >5.70</td>\n",
       "      <td id=\"T_90cc1_row6_col7\" class=\"data row6 col7\" >148,800.00</td>\n",
       "      <td id=\"T_90cc1_row6_col8\" class=\"data row6 col8\" >34,200.00</td>\n",
       "      <td id=\"T_90cc1_row6_col9\" class=\"data row6 col9\" >-114,600.00</td>\n",
       "      <td id=\"T_90cc1_row6_col10\" class=\"data row6 col10\" >-77.02%</td>\n",
       "    </tr>\n",
       "    <tr>\n",
       "      <td id=\"T_90cc1_row7_col0\" class=\"data row7 col0\" >2</td>\n",
       "      <td id=\"T_90cc1_row7_col1\" class=\"data row7 col1\" >A1</td>\n",
       "      <td id=\"T_90cc1_row7_col2\" class=\"data row7 col2\" >AIMIRT</td>\n",
       "      <td id=\"T_90cc1_row7_col3\" class=\"data row7 col3\" >2023-08-17</td>\n",
       "      <td id=\"T_90cc1_row7_col4\" class=\"data row7 col4\" >17,500</td>\n",
       "      <td id=\"T_90cc1_row7_col5\" class=\"data row7 col5\" >10.60</td>\n",
       "      <td id=\"T_90cc1_row7_col6\" class=\"data row7 col6\" >9.75</td>\n",
       "      <td id=\"T_90cc1_row7_col7\" class=\"data row7 col7\" >185,500.00</td>\n",
       "      <td id=\"T_90cc1_row7_col8\" class=\"data row7 col8\" >170,625.00</td>\n",
       "      <td id=\"T_90cc1_row7_col9\" class=\"data row7 col9\" >-14,875.00</td>\n",
       "      <td id=\"T_90cc1_row7_col10\" class=\"data row7 col10\" >-8.02%</td>\n",
       "    </tr>\n",
       "    <tr>\n",
       "      <td id=\"T_90cc1_row8_col0\" class=\"data row8 col0\" >2</td>\n",
       "      <td id=\"T_90cc1_row8_col1\" class=\"data row8 col1\" >C1</td>\n",
       "      <td id=\"T_90cc1_row8_col2\" class=\"data row8 col2\" >CPNREIT</td>\n",
       "      <td id=\"T_90cc1_row8_col3\" class=\"data row8 col3\" >2022-08-16</td>\n",
       "      <td id=\"T_90cc1_row8_col4\" class=\"data row8 col4\" >55,000</td>\n",
       "      <td id=\"T_90cc1_row8_col5\" class=\"data row8 col5\" >18.00</td>\n",
       "      <td id=\"T_90cc1_row8_col6\" class=\"data row8 col6\" >11.30</td>\n",
       "      <td id=\"T_90cc1_row8_col7\" class=\"data row8 col7\" >990,000.00</td>\n",
       "      <td id=\"T_90cc1_row8_col8\" class=\"data row8 col8\" >621,500.00</td>\n",
       "      <td id=\"T_90cc1_row8_col9\" class=\"data row8 col9\" >-368,500.00</td>\n",
       "      <td id=\"T_90cc1_row8_col10\" class=\"data row8 col10\" >-37.22%</td>\n",
       "    </tr>\n",
       "    <tr>\n",
       "      <td id=\"T_90cc1_row9_col0\" class=\"data row9 col0\" >2</td>\n",
       "      <td id=\"T_90cc1_row9_col1\" class=\"data row9 col1\" >C1</td>\n",
       "      <td id=\"T_90cc1_row9_col2\" class=\"data row9 col2\" >DIF</td>\n",
       "      <td id=\"T_90cc1_row9_col3\" class=\"data row9 col3\" >2020-08-01</td>\n",
       "      <td id=\"T_90cc1_row9_col4\" class=\"data row9 col4\" >45,000</td>\n",
       "      <td id=\"T_90cc1_row9_col5\" class=\"data row9 col5\" >12.69</td>\n",
       "      <td id=\"T_90cc1_row9_col6\" class=\"data row9 col6\" >8.25</td>\n",
       "      <td id=\"T_90cc1_row9_col7\" class=\"data row9 col7\" >571,000.50</td>\n",
       "      <td id=\"T_90cc1_row9_col8\" class=\"data row9 col8\" >371,250.00</td>\n",
       "      <td id=\"T_90cc1_row9_col9\" class=\"data row9 col9\" >-199,750.50</td>\n",
       "      <td id=\"T_90cc1_row9_col10\" class=\"data row9 col10\" >-34.98%</td>\n",
       "    </tr>\n",
       "    <tr>\n",
       "      <td id=\"T_90cc1_row10_col0\" class=\"data row10 col0\" >2</td>\n",
       "      <td id=\"T_90cc1_row10_col1\" class=\"data row10 col1\" >C1</td>\n",
       "      <td id=\"T_90cc1_row10_col2\" class=\"data row10 col2\" >GVREIT</td>\n",
       "      <td id=\"T_90cc1_row10_col3\" class=\"data row10 col3\" >2022-08-24</td>\n",
       "      <td id=\"T_90cc1_row10_col4\" class=\"data row10 col4\" >69,000</td>\n",
       "      <td id=\"T_90cc1_row10_col5\" class=\"data row10 col5\" >7.75</td>\n",
       "      <td id=\"T_90cc1_row10_col6\" class=\"data row10 col6\" >6.20</td>\n",
       "      <td id=\"T_90cc1_row10_col7\" class=\"data row10 col7\" >534,750.00</td>\n",
       "      <td id=\"T_90cc1_row10_col8\" class=\"data row10 col8\" >427,800.00</td>\n",
       "      <td id=\"T_90cc1_row10_col9\" class=\"data row10 col9\" >-106,950.00</td>\n",
       "      <td id=\"T_90cc1_row10_col10\" class=\"data row10 col10\" >-20.00%</td>\n",
       "    </tr>\n",
       "    <tr>\n",
       "      <td id=\"T_90cc1_row11_col0\" class=\"data row11 col0\" >2</td>\n",
       "      <td id=\"T_90cc1_row11_col1\" class=\"data row11 col1\" >A4</td>\n",
       "      <td id=\"T_90cc1_row11_col2\" class=\"data row11 col2\" >MCS</td>\n",
       "      <td id=\"T_90cc1_row11_col3\" class=\"data row11 col3\" >2016-09-20</td>\n",
       "      <td id=\"T_90cc1_row11_col4\" class=\"data row11 col4\" >75,000</td>\n",
       "      <td id=\"T_90cc1_row11_col5\" class=\"data row11 col5\" >15.31</td>\n",
       "      <td id=\"T_90cc1_row11_col6\" class=\"data row11 col6\" >8.25</td>\n",
       "      <td id=\"T_90cc1_row11_col7\" class=\"data row11 col7\" >1,148,400.00</td>\n",
       "      <td id=\"T_90cc1_row11_col8\" class=\"data row11 col8\" >618,750.00</td>\n",
       "      <td id=\"T_90cc1_row11_col9\" class=\"data row11 col9\" >-529,650.00</td>\n",
       "      <td id=\"T_90cc1_row11_col10\" class=\"data row11 col10\" >-46.12%</td>\n",
       "    </tr>\n",
       "    <tr>\n",
       "      <td id=\"T_90cc1_row12_col0\" class=\"data row12 col0\" >2</td>\n",
       "      <td id=\"T_90cc1_row12_col1\" class=\"data row12 col1\" >A1</td>\n",
       "      <td id=\"T_90cc1_row12_col2\" class=\"data row12 col2\" >NER</td>\n",
       "      <td id=\"T_90cc1_row12_col3\" class=\"data row12 col3\" >2021-09-01</td>\n",
       "      <td id=\"T_90cc1_row12_col4\" class=\"data row12 col4\" >27,000</td>\n",
       "      <td id=\"T_90cc1_row12_col5\" class=\"data row12 col5\" >7.45</td>\n",
       "      <td id=\"T_90cc1_row12_col6\" class=\"data row12 col6\" >4.30</td>\n",
       "      <td id=\"T_90cc1_row12_col7\" class=\"data row12 col7\" >201,150.00</td>\n",
       "      <td id=\"T_90cc1_row12_col8\" class=\"data row12 col8\" >116,100.00</td>\n",
       "      <td id=\"T_90cc1_row12_col9\" class=\"data row12 col9\" >-85,050.00</td>\n",
       "      <td id=\"T_90cc1_row12_col10\" class=\"data row12 col10\" >-42.28%</td>\n",
       "    </tr>\n",
       "    <tr>\n",
       "      <td id=\"T_90cc1_row13_col0\" class=\"data row13 col0\" >2</td>\n",
       "      <td id=\"T_90cc1_row13_col1\" class=\"data row13 col1\" >A2</td>\n",
       "      <td id=\"T_90cc1_row13_col2\" class=\"data row13 col2\" >PTT</td>\n",
       "      <td id=\"T_90cc1_row13_col3\" class=\"data row13 col3\" >2025-08-08</td>\n",
       "      <td id=\"T_90cc1_row13_col4\" class=\"data row13 col4\" >5,000</td>\n",
       "      <td id=\"T_90cc1_row13_col5\" class=\"data row13 col5\" >31.50</td>\n",
       "      <td id=\"T_90cc1_row13_col6\" class=\"data row13 col6\" >31.50</td>\n",
       "      <td id=\"T_90cc1_row13_col7\" class=\"data row13 col7\" >157,500.00</td>\n",
       "      <td id=\"T_90cc1_row13_col8\" class=\"data row13 col8\" >157,500.00</td>\n",
       "      <td id=\"T_90cc1_row13_col9\" class=\"data row13 col9\" >0.00</td>\n",
       "      <td id=\"T_90cc1_row13_col10\" class=\"data row13 col10\" >0.00%</td>\n",
       "    </tr>\n",
       "    <tr>\n",
       "      <td id=\"T_90cc1_row14_col0\" class=\"data row14 col0\" >2</td>\n",
       "      <td id=\"T_90cc1_row14_col1\" class=\"data row14 col1\" >B1</td>\n",
       "      <td id=\"T_90cc1_row14_col2\" class=\"data row14 col2\" >SENA</td>\n",
       "      <td id=\"T_90cc1_row14_col3\" class=\"data row14 col3\" >2022-03-29</td>\n",
       "      <td id=\"T_90cc1_row14_col4\" class=\"data row14 col4\" >105,000</td>\n",
       "      <td id=\"T_90cc1_row14_col5\" class=\"data row14 col5\" >4.48</td>\n",
       "      <td id=\"T_90cc1_row14_col6\" class=\"data row14 col6\" >1.87</td>\n",
       "      <td id=\"T_90cc1_row14_col7\" class=\"data row14 col7\" >470,400.00</td>\n",
       "      <td id=\"T_90cc1_row14_col8\" class=\"data row14 col8\" >196,350.00</td>\n",
       "      <td id=\"T_90cc1_row14_col9\" class=\"data row14 col9\" >-274,050.00</td>\n",
       "      <td id=\"T_90cc1_row14_col10\" class=\"data row14 col10\" >-58.26%</td>\n",
       "    </tr>\n",
       "    <tr>\n",
       "      <td id=\"T_90cc1_row15_col0\" class=\"data row15 col0\" >2</td>\n",
       "      <td id=\"T_90cc1_row15_col1\" class=\"data row15 col1\" >C1</td>\n",
       "      <td id=\"T_90cc1_row15_col2\" class=\"data row15 col2\" >TFFIF</td>\n",
       "      <td id=\"T_90cc1_row15_col3\" class=\"data row15 col3\" >2023-07-06</td>\n",
       "      <td id=\"T_90cc1_row15_col4\" class=\"data row15 col4\" >20,000</td>\n",
       "      <td id=\"T_90cc1_row15_col5\" class=\"data row15 col5\" >7.20</td>\n",
       "      <td id=\"T_90cc1_row15_col6\" class=\"data row15 col6\" >5.85</td>\n",
       "      <td id=\"T_90cc1_row15_col7\" class=\"data row15 col7\" >144,000.00</td>\n",
       "      <td id=\"T_90cc1_row15_col8\" class=\"data row15 col8\" >117,000.00</td>\n",
       "      <td id=\"T_90cc1_row15_col9\" class=\"data row15 col9\" >-27,000.00</td>\n",
       "      <td id=\"T_90cc1_row15_col10\" class=\"data row15 col10\" >-18.75%</td>\n",
       "    </tr>\n",
       "    <tr>\n",
       "      <td id=\"T_90cc1_row16_col0\" class=\"data row16 col0\" >2</td>\n",
       "      <td id=\"T_90cc1_row16_col1\" class=\"data row16 col1\" >B1</td>\n",
       "      <td id=\"T_90cc1_row16_col2\" class=\"data row16 col2\" >WHAIR</td>\n",
       "      <td id=\"T_90cc1_row16_col3\" class=\"data row16 col3\" >2021-10-11</td>\n",
       "      <td id=\"T_90cc1_row16_col4\" class=\"data row16 col4\" >50,000</td>\n",
       "      <td id=\"T_90cc1_row16_col5\" class=\"data row16 col5\" >8.70</td>\n",
       "      <td id=\"T_90cc1_row16_col6\" class=\"data row16 col6\" >5.50</td>\n",
       "      <td id=\"T_90cc1_row16_col7\" class=\"data row16 col7\" >435,000.00</td>\n",
       "      <td id=\"T_90cc1_row16_col8\" class=\"data row16 col8\" >275,000.00</td>\n",
       "      <td id=\"T_90cc1_row16_col9\" class=\"data row16 col9\" >-160,000.00</td>\n",
       "      <td id=\"T_90cc1_row16_col10\" class=\"data row16 col10\" >-36.78%</td>\n",
       "    </tr>\n",
       "    <tr>\n",
       "      <td id=\"T_90cc1_row17_col0\" class=\"data row17 col0\" >2</td>\n",
       "      <td id=\"T_90cc1_row17_col1\" class=\"data row17 col1\" >C1</td>\n",
       "      <td id=\"T_90cc1_row17_col2\" class=\"data row17 col2\" >WHART</td>\n",
       "      <td id=\"T_90cc1_row17_col3\" class=\"data row17 col3\" >2022-01-05</td>\n",
       "      <td id=\"T_90cc1_row17_col4\" class=\"data row17 col4\" >25,000</td>\n",
       "      <td id=\"T_90cc1_row17_col5\" class=\"data row17 col5\" >11.60</td>\n",
       "      <td id=\"T_90cc1_row17_col6\" class=\"data row17 col6\" >9.05</td>\n",
       "      <td id=\"T_90cc1_row17_col7\" class=\"data row17 col7\" >290,000.00</td>\n",
       "      <td id=\"T_90cc1_row17_col8\" class=\"data row17 col8\" >226,250.00</td>\n",
       "      <td id=\"T_90cc1_row17_col9\" class=\"data row17 col9\" >-63,750.00</td>\n",
       "      <td id=\"T_90cc1_row17_col10\" class=\"data row17 col10\" >-21.98%</td>\n",
       "    </tr>\n",
       "    <tr>\n",
       "      <td id=\"T_90cc1_row18_col0\" class=\"data row18 col0\" >3</td>\n",
       "      <td id=\"T_90cc1_row18_col1\" class=\"data row18 col1\" >A3</td>\n",
       "      <td id=\"T_90cc1_row18_col2\" class=\"data row18 col2\" >3BBIF</td>\n",
       "      <td id=\"T_90cc1_row18_col3\" class=\"data row18 col3\" >2018-05-17</td>\n",
       "      <td id=\"T_90cc1_row18_col4\" class=\"data row18 col4\" >120,000</td>\n",
       "      <td id=\"T_90cc1_row18_col5\" class=\"data row18 col5\" >10.10</td>\n",
       "      <td id=\"T_90cc1_row18_col6\" class=\"data row18 col6\" >6.20</td>\n",
       "      <td id=\"T_90cc1_row18_col7\" class=\"data row18 col7\" >1,212,000.00</td>\n",
       "      <td id=\"T_90cc1_row18_col8\" class=\"data row18 col8\" >744,000.00</td>\n",
       "      <td id=\"T_90cc1_row18_col9\" class=\"data row18 col9\" >-468,000.00</td>\n",
       "      <td id=\"T_90cc1_row18_col10\" class=\"data row18 col10\" >-38.61%</td>\n",
       "    </tr>\n",
       "    <tr>\n",
       "      <td id=\"T_90cc1_row19_col0\" class=\"data row19 col0\" >3</td>\n",
       "      <td id=\"T_90cc1_row19_col1\" class=\"data row19 col1\" >B3</td>\n",
       "      <td id=\"T_90cc1_row19_col2\" class=\"data row19 col2\" >BCH</td>\n",
       "      <td id=\"T_90cc1_row19_col3\" class=\"data row19 col3\" >2021-09-07</td>\n",
       "      <td id=\"T_90cc1_row19_col4\" class=\"data row19 col4\" >4,000</td>\n",
       "      <td id=\"T_90cc1_row19_col5\" class=\"data row19 col5\" >21.70</td>\n",
       "      <td id=\"T_90cc1_row19_col6\" class=\"data row19 col6\" >13.00</td>\n",
       "      <td id=\"T_90cc1_row19_col7\" class=\"data row19 col7\" >86,800.00</td>\n",
       "      <td id=\"T_90cc1_row19_col8\" class=\"data row19 col8\" >52,000.00</td>\n",
       "      <td id=\"T_90cc1_row19_col9\" class=\"data row19 col9\" >-34,800.00</td>\n",
       "      <td id=\"T_90cc1_row19_col10\" class=\"data row19 col10\" >-40.09%</td>\n",
       "    </tr>\n",
       "    <tr>\n",
       "      <td id=\"T_90cc1_row20_col0\" class=\"data row20 col0\" >3</td>\n",
       "      <td id=\"T_90cc1_row20_col1\" class=\"data row20 col1\" >C3</td>\n",
       "      <td id=\"T_90cc1_row20_col2\" class=\"data row20 col2\" >IVL</td>\n",
       "      <td id=\"T_90cc1_row20_col3\" class=\"data row20 col3\" >2022-08-29</td>\n",
       "      <td id=\"T_90cc1_row20_col4\" class=\"data row20 col4\" >7,200</td>\n",
       "      <td id=\"T_90cc1_row20_col5\" class=\"data row20 col5\" >40.00</td>\n",
       "      <td id=\"T_90cc1_row20_col6\" class=\"data row20 col6\" >21.90</td>\n",
       "      <td id=\"T_90cc1_row20_col7\" class=\"data row20 col7\" >288,000.00</td>\n",
       "      <td id=\"T_90cc1_row20_col8\" class=\"data row20 col8\" >157,680.00</td>\n",
       "      <td id=\"T_90cc1_row20_col9\" class=\"data row20 col9\" >-130,320.00</td>\n",
       "      <td id=\"T_90cc1_row20_col10\" class=\"data row20 col10\" >-45.25%</td>\n",
       "    </tr>\n",
       "    <tr>\n",
       "      <td id=\"T_90cc1_row21_col0\" class=\"data row21 col0\" >3</td>\n",
       "      <td id=\"T_90cc1_row21_col1\" class=\"data row21 col1\" >A3</td>\n",
       "      <td id=\"T_90cc1_row21_col2\" class=\"data row21 col2\" >RCL</td>\n",
       "      <td id=\"T_90cc1_row21_col3\" class=\"data row21 col3\" >2021-11-08</td>\n",
       "      <td id=\"T_90cc1_row21_col4\" class=\"data row21 col4\" >27,000</td>\n",
       "      <td id=\"T_90cc1_row21_col5\" class=\"data row21 col5\" >38.80</td>\n",
       "      <td id=\"T_90cc1_row21_col6\" class=\"data row21 col6\" >27.00</td>\n",
       "      <td id=\"T_90cc1_row21_col7\" class=\"data row21 col7\" >1,047,600.00</td>\n",
       "      <td id=\"T_90cc1_row21_col8\" class=\"data row21 col8\" >729,000.00</td>\n",
       "      <td id=\"T_90cc1_row21_col9\" class=\"data row21 col9\" >-318,600.00</td>\n",
       "      <td id=\"T_90cc1_row21_col10\" class=\"data row21 col10\" >-30.41%</td>\n",
       "    </tr>\n",
       "    <tr>\n",
       "      <td id=\"T_90cc1_row22_col0\" class=\"data row22 col0\" >3</td>\n",
       "      <td id=\"T_90cc1_row22_col1\" class=\"data row22 col1\" >A4</td>\n",
       "      <td id=\"T_90cc1_row22_col2\" class=\"data row22 col2\" >STA</td>\n",
       "      <td id=\"T_90cc1_row22_col3\" class=\"data row22 col3\" >2021-06-15</td>\n",
       "      <td id=\"T_90cc1_row22_col4\" class=\"data row22 col4\" >10,000</td>\n",
       "      <td id=\"T_90cc1_row22_col5\" class=\"data row22 col5\" >30.00</td>\n",
       "      <td id=\"T_90cc1_row22_col6\" class=\"data row22 col6\" >11.70</td>\n",
       "      <td id=\"T_90cc1_row22_col7\" class=\"data row22 col7\" >300,000.00</td>\n",
       "      <td id=\"T_90cc1_row22_col8\" class=\"data row22 col8\" >117,000.00</td>\n",
       "      <td id=\"T_90cc1_row22_col9\" class=\"data row22 col9\" >-183,000.00</td>\n",
       "      <td id=\"T_90cc1_row22_col10\" class=\"data row22 col10\" >-61.00%</td>\n",
       "    </tr>\n",
       "    <tr>\n",
       "      <td id=\"T_90cc1_row23_col0\" class=\"data row23 col0\" >3</td>\n",
       "      <td id=\"T_90cc1_row23_col1\" class=\"data row23 col1\" >A1</td>\n",
       "      <td id=\"T_90cc1_row23_col2\" class=\"data row23 col2\" >SYNEX</td>\n",
       "      <td id=\"T_90cc1_row23_col3\" class=\"data row23 col3\" >2022-01-07</td>\n",
       "      <td id=\"T_90cc1_row23_col4\" class=\"data row23 col4\" >17,500</td>\n",
       "      <td id=\"T_90cc1_row23_col5\" class=\"data row23 col5\" >26.40</td>\n",
       "      <td id=\"T_90cc1_row23_col6\" class=\"data row23 col6\" >12.00</td>\n",
       "      <td id=\"T_90cc1_row23_col7\" class=\"data row23 col7\" >462,000.00</td>\n",
       "      <td id=\"T_90cc1_row23_col8\" class=\"data row23 col8\" >210,000.00</td>\n",
       "      <td id=\"T_90cc1_row23_col9\" class=\"data row23 col9\" >-252,000.00</td>\n",
       "      <td id=\"T_90cc1_row23_col10\" class=\"data row23 col10\" >-54.55%</td>\n",
       "    </tr>\n",
       "    <tr>\n",
       "      <td id=\"T_90cc1_row24_col0\" class=\"data row24 col0\" >3</td>\n",
       "      <td id=\"T_90cc1_row24_col1\" class=\"data row24 col1\" >A4</td>\n",
       "      <td id=\"T_90cc1_row24_col2\" class=\"data row24 col2\" >TVO</td>\n",
       "      <td id=\"T_90cc1_row24_col3\" class=\"data row24 col3\" >2024-11-06</td>\n",
       "      <td id=\"T_90cc1_row24_col4\" class=\"data row24 col4\" >8,000</td>\n",
       "      <td id=\"T_90cc1_row24_col5\" class=\"data row24 col5\" >24.00</td>\n",
       "      <td id=\"T_90cc1_row24_col6\" class=\"data row24 col6\" >24.70</td>\n",
       "      <td id=\"T_90cc1_row24_col7\" class=\"data row24 col7\" >192,000.00</td>\n",
       "      <td id=\"T_90cc1_row24_col8\" class=\"data row24 col8\" >197,600.00</td>\n",
       "      <td id=\"T_90cc1_row24_col9\" class=\"data row24 col9\" >5,600.00</td>\n",
       "      <td id=\"T_90cc1_row24_col10\" class=\"data row24 col10\" >2.92%</td>\n",
       "    </tr>\n",
       "    <tr>\n",
       "      <td id=\"T_90cc1_row25_col0\" class=\"data row25 col0\" >4</td>\n",
       "      <td id=\"T_90cc1_row25_col1\" class=\"data row25 col1\" >A1</td>\n",
       "      <td id=\"T_90cc1_row25_col2\" class=\"data row25 col2\" >CPF</td>\n",
       "      <td id=\"T_90cc1_row25_col3\" class=\"data row25 col3\" >2025-08-21</td>\n",
       "      <td id=\"T_90cc1_row25_col4\" class=\"data row25 col4\" >5,000</td>\n",
       "      <td id=\"T_90cc1_row25_col5\" class=\"data row25 col5\" >24.10</td>\n",
       "      <td id=\"T_90cc1_row25_col6\" class=\"data row25 col6\" >22.40</td>\n",
       "      <td id=\"T_90cc1_row25_col7\" class=\"data row25 col7\" >120,500.00</td>\n",
       "      <td id=\"T_90cc1_row25_col8\" class=\"data row25 col8\" >112,000.00</td>\n",
       "      <td id=\"T_90cc1_row25_col9\" class=\"data row25 col9\" >-8,500.00</td>\n",
       "      <td id=\"T_90cc1_row25_col10\" class=\"data row25 col10\" >-7.05%</td>\n",
       "    </tr>\n",
       "    <tr>\n",
       "      <td id=\"T_90cc1_row26_col0\" class=\"data row26 col0\" >4</td>\n",
       "      <td id=\"T_90cc1_row26_col1\" class=\"data row26 col1\" >C3</td>\n",
       "      <td id=\"T_90cc1_row26_col2\" class=\"data row26 col2\" >JMT</td>\n",
       "      <td id=\"T_90cc1_row26_col3\" class=\"data row26 col3\" >2023-01-26</td>\n",
       "      <td id=\"T_90cc1_row26_col4\" class=\"data row26 col4\" >4,200</td>\n",
       "      <td id=\"T_90cc1_row26_col5\" class=\"data row26 col5\" >55.50</td>\n",
       "      <td id=\"T_90cc1_row26_col6\" class=\"data row26 col6\" >11.70</td>\n",
       "      <td id=\"T_90cc1_row26_col7\" class=\"data row26 col7\" >233,100.00</td>\n",
       "      <td id=\"T_90cc1_row26_col8\" class=\"data row26 col8\" >49,140.00</td>\n",
       "      <td id=\"T_90cc1_row26_col9\" class=\"data row26 col9\" >-183,960.00</td>\n",
       "      <td id=\"T_90cc1_row26_col10\" class=\"data row26 col10\" >-78.92%</td>\n",
       "    </tr>\n",
       "    <tr>\n",
       "      <td id=\"T_90cc1_row27_col0\" class=\"data row27 col0\" >4</td>\n",
       "      <td id=\"T_90cc1_row27_col1\" class=\"data row27 col1\" >B2</td>\n",
       "      <td id=\"T_90cc1_row27_col2\" class=\"data row27 col2\" >PTG</td>\n",
       "      <td id=\"T_90cc1_row27_col3\" class=\"data row27 col3\" >2023-07-12</td>\n",
       "      <td id=\"T_90cc1_row27_col4\" class=\"data row27 col4\" >3,600</td>\n",
       "      <td id=\"T_90cc1_row27_col5\" class=\"data row27 col5\" >11.40</td>\n",
       "      <td id=\"T_90cc1_row27_col6\" class=\"data row27 col6\" >7.70</td>\n",
       "      <td id=\"T_90cc1_row27_col7\" class=\"data row27 col7\" >41,040.00</td>\n",
       "      <td id=\"T_90cc1_row27_col8\" class=\"data row27 col8\" >27,720.00</td>\n",
       "      <td id=\"T_90cc1_row27_col9\" class=\"data row27 col9\" >-13,320.00</td>\n",
       "      <td id=\"T_90cc1_row27_col10\" class=\"data row27 col10\" >-32.46%</td>\n",
       "    </tr>\n",
       "    <tr>\n",
       "      <td id=\"T_90cc1_row28_col0\" class=\"data row28 col0\" >4</td>\n",
       "      <td id=\"T_90cc1_row28_col1\" class=\"data row28 col1\" >C1</td>\n",
       "      <td id=\"T_90cc1_row28_col2\" class=\"data row28 col2\" >TOA</td>\n",
       "      <td id=\"T_90cc1_row28_col3\" class=\"data row28 col3\" >2023-09-06</td>\n",
       "      <td id=\"T_90cc1_row28_col4\" class=\"data row28 col4\" >1,000</td>\n",
       "      <td id=\"T_90cc1_row28_col5\" class=\"data row28 col5\" >26.00</td>\n",
       "      <td id=\"T_90cc1_row28_col6\" class=\"data row28 col6\" >15.00</td>\n",
       "      <td id=\"T_90cc1_row28_col7\" class=\"data row28 col7\" >26,000.00</td>\n",
       "      <td id=\"T_90cc1_row28_col8\" class=\"data row28 col8\" >15,000.00</td>\n",
       "      <td id=\"T_90cc1_row28_col9\" class=\"data row28 col9\" >-11,000.00</td>\n",
       "      <td id=\"T_90cc1_row28_col10\" class=\"data row28 col10\" >-42.31%</td>\n",
       "    </tr>\n",
       "  </tbody>\n",
       "</table>\n"
      ],
      "text/plain": [
       "<pandas.io.formats.style.Styler at 0x20906e01a00>"
      ]
     },
     "execution_count": 124,
     "metadata": {},
     "output_type": "execute_result"
    }
   ],
   "source": [
    "sql = \"\"\"\n",
    "    SELECT period, buy.grade AS grade, buy.name AS name, buy.date AS date, \n",
    "    volbuy AS volbuy, buy.price AS buy_price, price.price AS mkt_price,\n",
    "    (volbuy * buy.price) AS amtbuy, (volbuy * price.price) AS amtmkt, \n",
    "    ((price.price - buy.price) * volbuy) AS amtpol, \n",
    "    (((price.price - buy.price)*volbuy)/(volbuy*buy.price)*100) AS pctpol \n",
    "    FROM buy INNER JOIN price ON buy.name = price.name WHERE price.date = '{}' \n",
    "    ORDER BY period, buy.name\n",
    "\"\"\".format(yesterday)\n",
    "\n",
    "df_buy = pd.read_sql(sql, const)\n",
    "\n",
    "# Now apply formatting in pandas with correct numeric types\n",
    "format_dict = {\n",
    "    'volbuy': '{:,.0f}',\n",
    "    'buy_price': '{:,.2f}',\n",
    "    'mkt_price': '{:,.2f}',\n",
    "    'amtbuy': '{:,.2f}',\n",
    "    'amtmkt': '{:,.2f}',\n",
    "    'amtpol': '{:,.2f}',\n",
    "    'pctpol': '{:,.2f}%'\n",
    "}\n",
    "\n",
    "df_buy.style.format(format_dict).hide(axis=\"index\")"
   ]
  },
  {
   "cell_type": "code",
   "execution_count": 126,
   "metadata": {},
   "outputs": [],
   "source": [
    "file_name = 'portfolio.csv'\n",
    "output_file = os.path.join(dat_path, file_name)\n",
    "god_file = os.path.join(god_path, file_name)\n",
    "icd_file = os.path.join(icd_path, file_name)\n",
    "osd_file = os.path.join(osd_path, file_name)"
   ]
  },
  {
   "cell_type": "code",
   "execution_count": 128,
   "metadata": {},
   "outputs": [
    {
     "name": "stdout",
     "output_type": "stream",
     "text": [
      "Output file : C:\\Users\\PC1\\OneDrive\\A5\\Data\\portfolio.csv\n",
      "icd_file : C:\\Users\\PC1\\iCloudDrive\\Data\\portfolio.csv\n",
      "god_file : C:\\Users\\PC1\\OneDrive\\Imports\\santisoontarinka@gmail.com - Google Drive\\Data\\portfolio.csv\n",
      "osd_file : C:\\Users\\PC1\\OneDrive\\Documents\\obsidian-git-sync\\Data\\portfolio.csv\n"
     ]
    }
   ],
   "source": [
    "print(f\"Output file : {output_file}\") \n",
    "print(f\"icd_file : {icd_file}\") \n",
    "print(f\"god_file : {god_file}\") \n",
    "print(f\"osd_file : {osd_file}\") "
   ]
  },
  {
   "cell_type": "code",
   "execution_count": 130,
   "metadata": {},
   "outputs": [],
   "source": [
    "df_buy.to_csv(output_file, header=True, index=False)\n",
    "df_buy.to_csv(icd_file, header=True, index=False)\n",
    "df_buy.to_csv(god_file, header=True, index=False)\n",
    "df_buy.to_csv(osd_file, header=True, index=False)"
   ]
  },
  {
   "cell_type": "code",
   "execution_count": 132,
   "metadata": {},
   "outputs": [],
   "source": [
    "file_name = '035-portfolio.xlsx'\n",
    "xsl_file = os.path.join(xsl_path, file_name)\n",
    "df_buy.to_excel(xsl_file, index=False)"
   ]
  },
  {
   "cell_type": "code",
   "execution_count": null,
   "metadata": {},
   "outputs": [],
   "source": []
  }
 ],
 "metadata": {
  "anaconda-cloud": {},
  "kernelspec": {
   "display_name": "Python 3 (ipykernel)",
   "language": "python",
   "name": "python3"
  },
  "language_info": {
   "codemirror_mode": {
    "name": "ipython",
    "version": 3
   },
   "file_extension": ".py",
   "mimetype": "text/x-python",
   "name": "python",
   "nbconvert_exporter": "python",
   "pygments_lexer": "ipython3",
   "version": "3.12.3"
  }
 },
 "nbformat": 4,
 "nbformat_minor": 4
}
