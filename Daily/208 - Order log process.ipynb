{
 "cells": [
  {
   "cell_type": "markdown",
   "id": "d8a383f5",
   "metadata": {},
   "source": [
    "### Input files: Price-Today, orders-log\n",
    "### Output files: Price-for-Order, orders-log, monthly-sales"
   ]
  },
  {
   "cell_type": "code",
   "execution_count": 2,
   "id": "2a2bb67d",
   "metadata": {},
   "outputs": [
    {
     "name": "stdout",
     "output_type": "stream",
     "text": [
      "2025-02-28 2025-02-27\n"
     ]
    }
   ],
   "source": [
    "import glob\n",
    "import os\n",
    "import pandas as pd\n",
    "from datetime import date, timedelta, datetime\n",
    "from pandas.tseries.offsets import *\n",
    "from sqlalchemy import create_engine\n",
    "\n",
    "engine = create_engine(\"sqlite:///c:\\\\ruby\\\\port_lite\\\\db\\\\development.sqlite3\")\n",
    "conlite = engine.connect()\n",
    "engine = create_engine('mysql+pymysql://root:@localhost:3306/portfolio_development')\n",
    "conpf = engine.connect()\n",
    "\n",
    "format_dict = {'qty':'{:,}',\n",
    "              'sell_price':'{:,.2f}','buy_price':'{:,.2f}','diff':'{:,.2f}',\n",
    "              'sell_amt':'{:,.2f}','buy_amt':'{:,.2f}','gross':'{:,.2f}','amount':'{:,.2f}',\n",
    "              'pct':'{:,.2f}','net':'{:,.2f}'}\n",
    "\n",
    "pd.options.display.max_rows = 50\n",
    "pd.options.display.float_format = '{:.2f}'.format\n",
    "\n",
    "today = date.today()\n",
    "yesterday = today - timedelta(days=1)\n",
    "print(today, yesterday)"
   ]
  },
  {
   "cell_type": "code",
   "execution_count": 3,
   "id": "20838b19",
   "metadata": {},
   "outputs": [
    {
     "name": "stdout",
     "output_type": "stream",
     "text": [
      "today: 2025-02-28\n",
      "yesterday: 2025-02-27\n"
     ]
    }
   ],
   "source": [
    "num_business_days = BDay(1)\n",
    "yesterday = today - num_business_days\n",
    "print(f'today: {today}')\n",
    "yesterday = yesterday.date()\n",
    "print(f'yesterday: {yesterday}')"
   ]
  },
  {
   "cell_type": "code",
   "execution_count": 4,
   "id": "75ae99cf-1264-40eb-b21c-61a74b8b10fd",
   "metadata": {},
   "outputs": [
    {
     "name": "stdout",
     "output_type": "stream",
     "text": [
      "2025-02-28\n"
     ]
    }
   ],
   "source": [
    "# If run after actual work day\n",
    "#today = today - timedelta(days=2)\n",
    "print(today)"
   ]
  },
  {
   "cell_type": "code",
   "execution_count": 5,
   "id": "827c35b1-74ae-4922-afc4-63c50c6d3a5d",
   "metadata": {},
   "outputs": [
    {
     "name": "stdout",
     "output_type": "stream",
     "text": [
      "2025-02-28 20:47:07\n"
     ]
    }
   ],
   "source": [
    "# Get the current time\n",
    "current_time = datetime.now()\n",
    "# Format the time to remove milliseconds\n",
    "formatted_time = current_time.strftime(\"%Y-%m-%d %H:%M:%S\")\n",
    "print(formatted_time)"
   ]
  },
  {
   "cell_type": "markdown",
   "id": "29764f10",
   "metadata": {},
   "source": [
    "### Restart and Run All Cells"
   ]
  },
  {
   "cell_type": "code",
   "execution_count": 7,
   "id": "f7a312be-8512-45c3-bb3d-56f045087797",
   "metadata": {},
   "outputs": [],
   "source": [
    "# Get the user's home directory\n",
    "user_path = os.path.expanduser('~')\n",
    "# Get the current working directory\n",
    "current_path = os.getcwd()\n",
    "# Derive the base directory (base_dir) by removing the last folder ('Daily')\n",
    "base_path = os.path.dirname(current_path)\n",
    "#C:\\Users\\PC1\\OneDrive\\A5\\Data\n",
    "dat_path = os.path.join(base_path, \"Data\")\n",
    "#C:\\Users\\PC1\\OneDrive\\Imports\\santisoontarinka@gmail.com - Google Drive\\Data>\n",
    "god_path = os.path.join(user_path, \"OneDrive\",\"Imports\",\"santisoontarinka@gmail.com - Google Drive\",\"Data\")\n",
    "#C:\\Users\\PC1\\iCloudDrive\\data\n",
    "icd_path = os.path.join(user_path, \"iCloudDrive\", \"Data\")\n",
    "#C:\\Users\\PC1\\OneDrive\\Documents\\obsidian-git-sync\\Data\n",
    "osd_path = os.path.join(user_path, \"OneDrive\",\"Documents\",\"obsidian-git-sync\",\"Data\")"
   ]
  },
  {
   "cell_type": "code",
   "execution_count": 8,
   "id": "5e00013c-ddbb-45ba-9c1a-b1e5f8ec70d3",
   "metadata": {},
   "outputs": [
    {
     "name": "stdout",
     "output_type": "stream",
     "text": [
      "User path: C:\\Users\\PC1\n",
      "Current path: C:\\Users\\PC1\\OneDrive\\A5\\Daily\n",
      "Base path: C:\\Users\\PC1\\OneDrive\\A5\n",
      "Data path (dat_path): C:\\Users\\PC1\\OneDrive\\A5\\Data\n",
      "Google Drive path (god_path): C:\\Users\\PC1\\OneDrive\\Imports\\santisoontarinka@gmail.com - Google Drive\\Data\n",
      "iCloudDrive path (icd_path): C:\\Users\\PC1\\iCloudDrive\\Data\n",
      "Obsidian path (osd_path): C:\\Users\\PC1\\OneDrive\\Documents\\obsidian-git-sync\\Data\n"
     ]
    }
   ],
   "source": [
    "print(\"User path:\", user_path)\n",
    "print(f\"Current path: {current_path}\")\n",
    "print(f\"Base path: {base_path}\")\n",
    "print(f\"Data path (dat_path): {dat_path}\") \n",
    "print(f\"Google Drive path (god_path): {god_path}\")\n",
    "print(f\"iCloudDrive path (icd_path): {icd_path}\") \n",
    "print(f\"Obsidian path (osd_path): {osd_path}\") "
   ]
  },
  {
   "cell_type": "markdown",
   "id": "e01955e8",
   "metadata": {},
   "source": [
    "## Must rerun whenever there is change in orders"
   ]
  },
  {
   "cell_type": "code",
   "execution_count": 10,
   "id": "d4b5fc44",
   "metadata": {},
   "outputs": [
    {
     "data": {
      "text/plain": [
       "(23, 8)"
      ]
     },
     "execution_count": 10,
     "metadata": {},
     "output_type": "execute_result"
    }
   ],
   "source": [
    "sql = \"\"\"\n",
    "SELECT trade, name, qty, price AS target, active, reason, market, xdate \n",
    "FROM orders\n",
    "ORDER BY trade, name\"\"\"\n",
    "orders = pd.read_sql(sql, conlite)\n",
    "orders.shape"
   ]
  },
  {
   "cell_type": "code",
   "execution_count": 11,
   "id": "d6b5b24c",
   "metadata": {},
   "outputs": [
    {
     "name": "stdout",
     "output_type": "stream",
     "text": [
      "Input file: C:\\Users\\PC1\\OneDrive\\A5\\Data\\Price-Today.csv\n"
     ]
    }
   ],
   "source": [
    "file_name = \"Price-Today.csv\"\n",
    "input_file = os.path.join(dat_path, file_name)\n",
    "print(f\"Input file: {input_file}\")"
   ]
  },
  {
   "cell_type": "code",
   "execution_count": 12,
   "id": "f9f6b3d9",
   "metadata": {},
   "outputs": [
    {
     "data": {
      "text/plain": [
       "(182, 10)"
      ]
     },
     "execution_count": 12,
     "metadata": {},
     "output_type": "execute_result"
    }
   ],
   "source": [
    "prices = pd.read_csv(input_file)\n",
    "prices.shape"
   ]
  },
  {
   "cell_type": "code",
   "execution_count": 13,
   "id": "5b436ae1",
   "metadata": {},
   "outputs": [
    {
     "data": {
      "text/plain": [
       "(23, 17)"
      ]
     },
     "execution_count": 13,
     "metadata": {},
     "output_type": "execute_result"
    }
   ],
   "source": [
    "df_merge  = pd.merge(orders, prices, on = 'name', how='inner')\n",
    "df_merge.shape"
   ]
  },
  {
   "cell_type": "code",
   "execution_count": 14,
   "id": "d160b65c",
   "metadata": {},
   "outputs": [],
   "source": [
    "df_merge['spd'] = 0"
   ]
  },
  {
   "cell_type": "code",
   "execution_count": 15,
   "id": "68bb6b33",
   "metadata": {
    "scrolled": true
   },
   "outputs": [
    {
     "data": {
      "text/plain": [
       "(23, 12)"
      ]
     },
     "execution_count": 15,
     "metadata": {},
     "output_type": "execute_result"
    }
   ],
   "source": [
    "colo = ['trade', 'name', 'spd', 'reason', 'market', 'qty', 'target', 'price', 'change', '%change',\n",
    "        'active', 'xdate']\n",
    "df_merge[colo].shape"
   ]
  },
  {
   "cell_type": "code",
   "execution_count": 16,
   "id": "278505f4-a620-4e01-beac-0a8a47df215a",
   "metadata": {},
   "outputs": [],
   "source": [
    "file_name = \"Price-for-Order.csv\"\n",
    "output_file = os.path.join(dat_path, file_name)\n",
    "god_file = os.path.join(god_path, file_name)\n",
    "icd_file = os.path.join(icd_path, file_name)\n",
    "osd_file = os.path.join(osd_path, file_name)"
   ]
  },
  {
   "cell_type": "code",
   "execution_count": 17,
   "id": "f92616e5-84fa-49a8-a66e-18adf0f9c4e0",
   "metadata": {},
   "outputs": [
    {
     "name": "stdout",
     "output_type": "stream",
     "text": [
      "Output file: C:\\Users\\PC1\\OneDrive\\A5\\Data\\Price-for-Order.csv\n",
      "icd_file : C:\\Users\\PC1\\iCloudDrive\\Data\\Price-for-Order.csv\n",
      "god_file : C:\\Users\\PC1\\OneDrive\\Imports\\santisoontarinka@gmail.com - Google Drive\\Data\\Price-for-Order.csv\n",
      "osd_file : C:\\Users\\PC1\\OneDrive\\Documents\\obsidian-git-sync\\Data\\Price-for-Order.csv\n"
     ]
    }
   ],
   "source": [
    "print(f\"Output file: {output_file}\") \n",
    "print(f\"icd_file : {icd_file}\") \n",
    "print(f\"god_file : {god_file}\") \n",
    "print(f\"osd_file : {osd_file}\") "
   ]
  },
  {
   "cell_type": "code",
   "execution_count": 18,
   "id": "95d6fd8b-b39f-47ad-9c34-188ee94095c4",
   "metadata": {},
   "outputs": [],
   "source": [
    "df_merge[colo].to_csv(output_file, header=True, index=False)\n",
    "df_merge[colo].to_csv(god_file, header=True, index=False)\n",
    "df_merge[colo].to_csv(icd_file, header=True, index=False)\n",
    "df_merge[colo].to_csv(osd_file, header=True, index=False)"
   ]
  },
  {
   "cell_type": "markdown",
   "id": "b6dc65ac",
   "metadata": {},
   "source": [
    "### call ruby ruby\\order-log-new.rb"
   ]
  },
  {
   "cell_type": "code",
   "execution_count": 20,
   "id": "e154c230",
   "metadata": {},
   "outputs": [
    {
     "data": {
      "text/plain": [
       "'C:\\\\Users\\\\PC1\\\\OneDrive\\\\A5\\\\Daily'"
      ]
     },
     "execution_count": 20,
     "metadata": {},
     "output_type": "execute_result"
    }
   ],
   "source": [
    "%pwd"
   ]
  },
  {
   "cell_type": "code",
   "execution_count": 21,
   "id": "14494371",
   "metadata": {},
   "outputs": [
    {
     "data": {
      "text/plain": [
       "'C:\\\\Users\\\\PC1\\\\OneDrive\\\\A5'"
      ]
     },
     "execution_count": 21,
     "metadata": {},
     "output_type": "execute_result"
    }
   ],
   "source": [
    "os.chdir(base_path)\n",
    "%pwd"
   ]
  },
  {
   "cell_type": "code",
   "execution_count": 22,
   "id": "055e6f72",
   "metadata": {},
   "outputs": [
    {
     "name": "stdout",
     "output_type": "stream",
     "text": [
      "trade,name,spd,reason,market,qty,target,current,change,%change,active,xdate\n",
      "B,3BBIF,-2,RD50Pct,SET,10000,5.25,5.35,0.05,0.943396,1,2025-02-18\n",
      "B,AIMIRT,-4,RND05pct,SET,5000,10.2,10.6,0.0,0.0,1,2024-11-26\n",
      "B,CPNREIT,-9,RD40Pct,SET,5000,10.8,11.7,-0.2,-1.680672,1,2025-02-27\n",
      "B,DIF,-23,RD50Pct,SET,5000,6.7,7.85,-0.15,-1.875,1,2022-02-13\n",
      "B,GVREIT,-7,RND10Pct,SET,5000,6.2,6.55,-0.05,-0.757576,1,2022-02-26\n",
      "B,JMART,-10,RND75pct,SET50,3200,8.95,9.45,-0.2,-2.072539,1,2022-02-25\n",
      "B,KCE,-43,RD80Pct,SET100,1000,14.0,18.3,-1.4,-7.106599,1,2022-08-26\n",
      "B,MCS,-26,RD60Pct,SET,5000,5.8,7.1,-0.05,-0.699301,0,2025-04-18\n",
      "B,NER,-13,RD40pct,SET,6000,4.7,4.96,0.02,0.404858,0,2025-04-24\n",
      "B,RCL,-31,RD45pct,SET100,3000,21.25,24.4,-0.6,-2.4,1,2022-03-12\n",
      "B,SENA,-18,RD60pct,SET,7000,1.92,2.2,0.0,0.0,0,2024-05-10\n",
      "B,STA,-8,RD50Pct,SET100,2500,15.0,15.8,0.0,0.0,1,2025-04-18\n",
      "B,TFFIF,-6,RD20Pct,SET,5000,6.0,6.3,0.05,0.8,1,2025-02-27\n",
      "B,WHAIR,-5,RD30pct,SET,5000,5.4,5.65,-0.05,-0.877193,1,2022-03-03\n",
      "S,AWC,102,COS,SET50,9000,4.96,2.92,-0.18,-5.806452,0,2024-05-09\n",
      "S,BCH,55,COS,SET100,2000,21.7,16.2,0.5,3.184713,0,2024-08-29\n",
      "S,JMT,231,COS,SET50,900,50.0,11.9,-0.2,-1.652893,0,2025-02-25\n",
      "S,PTG,69,COS,SET100,3600,11.4,7.2,-0.15,-2.040816,0,2024-11-26\n",
      "S,PTTGC,110,RD60pct,SET50,1000,30.0,15.9,-0.2,-1.242236,0,2025-03-03\n",
      "S,SYNEX,-459,RD70pct,SET,2000,0.0,10.9,0.3,2.830189,0,2024-08-27\n",
      "S,TMT,217,RD65pct,SET,6000,10.2,2.68,-0.08,-2.898551,0,2025-03-12\n",
      "S,TVO,27,DTD,SET,4000,25.25,22.4,-0.4,-1.754386,0,2025-03-13\n",
      "S,WHART,19,COS,SET,10000,12.1,10.2,0.0,0.0,0,2025-03-03\n"
     ]
    }
   ],
   "source": [
    "!ruby ruby\\\\order-log-new.rb"
   ]
  },
  {
   "cell_type": "code",
   "execution_count": 23,
   "id": "216be764",
   "metadata": {},
   "outputs": [
    {
     "data": {
      "text/plain": [
       "'C:\\\\Users\\\\PC1\\\\OneDrive\\\\A5\\\\Daily'"
      ]
     },
     "execution_count": 23,
     "metadata": {},
     "output_type": "execute_result"
    }
   ],
   "source": [
    "os.chdir(current_path)\n",
    "%pwd"
   ]
  },
  {
   "cell_type": "code",
   "execution_count": 24,
   "id": "6eaf15c2-8657-4ca4-bbda-2aaec4f7a582",
   "metadata": {},
   "outputs": [
    {
     "name": "stdout",
     "output_type": "stream",
     "text": [
      "Input file: C:\\Users\\PC1\\OneDrive\\A5\\Data\\orders-log.csv\n"
     ]
    }
   ],
   "source": [
    "file_name   = 'orders-log.csv'\n",
    "input_file = os.path.join(dat_path, file_name)\n",
    "print(f\"Input file: {input_file}\")"
   ]
  },
  {
   "cell_type": "code",
   "execution_count": 25,
   "id": "9a39e35e-9b35-4a61-b816-2e742adbe787",
   "metadata": {},
   "outputs": [
    {
     "data": {
      "text/html": [
       "<div>\n",
       "<style scoped>\n",
       "    .dataframe tbody tr th:only-of-type {\n",
       "        vertical-align: middle;\n",
       "    }\n",
       "\n",
       "    .dataframe tbody tr th {\n",
       "        vertical-align: top;\n",
       "    }\n",
       "\n",
       "    .dataframe thead th {\n",
       "        text-align: right;\n",
       "    }\n",
       "</style>\n",
       "<table border=\"1\" class=\"dataframe\">\n",
       "  <thead>\n",
       "    <tr style=\"text-align: right;\">\n",
       "      <th></th>\n",
       "      <th>trade</th>\n",
       "      <th>name</th>\n",
       "      <th>spd</th>\n",
       "      <th>reason</th>\n",
       "      <th>market</th>\n",
       "      <th>qty</th>\n",
       "      <th>target</th>\n",
       "      <th>current</th>\n",
       "      <th>change</th>\n",
       "      <th>%change</th>\n",
       "      <th>active</th>\n",
       "      <th>xdate</th>\n",
       "      <th>amount</th>\n",
       "    </tr>\n",
       "  </thead>\n",
       "  <tbody>\n",
       "    <tr>\n",
       "      <th>0</th>\n",
       "      <td>B</td>\n",
       "      <td>3BBIF</td>\n",
       "      <td>-2</td>\n",
       "      <td>RD50Pct</td>\n",
       "      <td>SET</td>\n",
       "      <td>10000</td>\n",
       "      <td>5.25</td>\n",
       "      <td>5.35</td>\n",
       "      <td>0.05</td>\n",
       "      <td>0.94</td>\n",
       "      <td>1</td>\n",
       "      <td>2025-02-18</td>\n",
       "      <td>52500.00</td>\n",
       "    </tr>\n",
       "  </tbody>\n",
       "</table>\n",
       "</div>"
      ],
      "text/plain": [
       "  trade   name  spd   reason market    qty  target  current  change  %change  \\\n",
       "0     B  3BBIF   -2  RD50Pct    SET  10000    5.25     5.35    0.05     0.94   \n",
       "\n",
       "   active       xdate   amount  \n",
       "0       1  2025-02-18 52500.00  "
      ]
     },
     "execution_count": 25,
     "metadata": {},
     "output_type": "execute_result"
    }
   ],
   "source": [
    "df = pd.read_csv(input_file, sep=',', index_col=None)\n",
    "df['amount'] = df['qty'] * df['target']\n",
    "df.query('spd >= -3 and spd <= 3')"
   ]
  },
  {
   "cell_type": "code",
   "execution_count": 26,
   "id": "e63f55ba",
   "metadata": {},
   "outputs": [
    {
     "data": {
      "text/html": [
       "<div>\n",
       "<style scoped>\n",
       "    .dataframe tbody tr th:only-of-type {\n",
       "        vertical-align: middle;\n",
       "    }\n",
       "\n",
       "    .dataframe tbody tr th {\n",
       "        vertical-align: top;\n",
       "    }\n",
       "\n",
       "    .dataframe thead th {\n",
       "        text-align: right;\n",
       "    }\n",
       "</style>\n",
       "<table border=\"1\" class=\"dataframe\">\n",
       "  <thead>\n",
       "    <tr style=\"text-align: right;\">\n",
       "      <th></th>\n",
       "      <th>trade</th>\n",
       "      <th>name</th>\n",
       "      <th>spd</th>\n",
       "      <th>reason</th>\n",
       "      <th>market</th>\n",
       "      <th>qty</th>\n",
       "      <th>target</th>\n",
       "      <th>current</th>\n",
       "      <th>change</th>\n",
       "      <th>%change</th>\n",
       "      <th>active</th>\n",
       "      <th>xdate</th>\n",
       "      <th>amount</th>\n",
       "    </tr>\n",
       "  </thead>\n",
       "  <tbody>\n",
       "  </tbody>\n",
       "</table>\n",
       "</div>"
      ],
      "text/plain": [
       "Empty DataFrame\n",
       "Columns: [trade, name, spd, reason, market, qty, target, current, change, %change, active, xdate, amount]\n",
       "Index: []"
      ]
     },
     "execution_count": 26,
     "metadata": {},
     "output_type": "execute_result"
    }
   ],
   "source": [
    "df.query('active == 2')"
   ]
  },
  {
   "cell_type": "code",
   "execution_count": 27,
   "id": "5b2278ad",
   "metadata": {
    "scrolled": true
   },
   "outputs": [
    {
     "data": {
      "text/html": [
       "<div>\n",
       "<style scoped>\n",
       "    .dataframe tbody tr th:only-of-type {\n",
       "        vertical-align: middle;\n",
       "    }\n",
       "\n",
       "    .dataframe tbody tr th {\n",
       "        vertical-align: top;\n",
       "    }\n",
       "\n",
       "    .dataframe thead th {\n",
       "        text-align: right;\n",
       "    }\n",
       "</style>\n",
       "<table border=\"1\" class=\"dataframe\">\n",
       "  <thead>\n",
       "    <tr style=\"text-align: right;\">\n",
       "      <th></th>\n",
       "      <th>trade</th>\n",
       "      <th>name</th>\n",
       "      <th>spd</th>\n",
       "      <th>reason</th>\n",
       "      <th>market</th>\n",
       "      <th>qty</th>\n",
       "      <th>target</th>\n",
       "      <th>current</th>\n",
       "      <th>change</th>\n",
       "      <th>%change</th>\n",
       "      <th>active</th>\n",
       "      <th>xdate</th>\n",
       "      <th>amount</th>\n",
       "    </tr>\n",
       "  </thead>\n",
       "  <tbody>\n",
       "    <tr>\n",
       "      <th>0</th>\n",
       "      <td>B</td>\n",
       "      <td>3BBIF</td>\n",
       "      <td>-2</td>\n",
       "      <td>RD50Pct</td>\n",
       "      <td>SET</td>\n",
       "      <td>10000</td>\n",
       "      <td>5.25</td>\n",
       "      <td>5.35</td>\n",
       "      <td>0.05</td>\n",
       "      <td>0.94</td>\n",
       "      <td>1</td>\n",
       "      <td>2025-02-18</td>\n",
       "      <td>52500.00</td>\n",
       "    </tr>\n",
       "    <tr>\n",
       "      <th>1</th>\n",
       "      <td>B</td>\n",
       "      <td>AIMIRT</td>\n",
       "      <td>-4</td>\n",
       "      <td>RND05pct</td>\n",
       "      <td>SET</td>\n",
       "      <td>5000</td>\n",
       "      <td>10.20</td>\n",
       "      <td>10.60</td>\n",
       "      <td>0.00</td>\n",
       "      <td>0.00</td>\n",
       "      <td>1</td>\n",
       "      <td>2024-11-26</td>\n",
       "      <td>51000.00</td>\n",
       "    </tr>\n",
       "    <tr>\n",
       "      <th>2</th>\n",
       "      <td>B</td>\n",
       "      <td>CPNREIT</td>\n",
       "      <td>-9</td>\n",
       "      <td>RD40Pct</td>\n",
       "      <td>SET</td>\n",
       "      <td>5000</td>\n",
       "      <td>10.80</td>\n",
       "      <td>11.70</td>\n",
       "      <td>-0.20</td>\n",
       "      <td>-1.68</td>\n",
       "      <td>1</td>\n",
       "      <td>2025-02-27</td>\n",
       "      <td>54000.00</td>\n",
       "    </tr>\n",
       "    <tr>\n",
       "      <th>3</th>\n",
       "      <td>B</td>\n",
       "      <td>DIF</td>\n",
       "      <td>-23</td>\n",
       "      <td>RD50Pct</td>\n",
       "      <td>SET</td>\n",
       "      <td>5000</td>\n",
       "      <td>6.70</td>\n",
       "      <td>7.85</td>\n",
       "      <td>-0.15</td>\n",
       "      <td>-1.88</td>\n",
       "      <td>1</td>\n",
       "      <td>2022-02-13</td>\n",
       "      <td>33500.00</td>\n",
       "    </tr>\n",
       "    <tr>\n",
       "      <th>4</th>\n",
       "      <td>B</td>\n",
       "      <td>GVREIT</td>\n",
       "      <td>-7</td>\n",
       "      <td>RND10Pct</td>\n",
       "      <td>SET</td>\n",
       "      <td>5000</td>\n",
       "      <td>6.20</td>\n",
       "      <td>6.55</td>\n",
       "      <td>-0.05</td>\n",
       "      <td>-0.76</td>\n",
       "      <td>1</td>\n",
       "      <td>2022-02-26</td>\n",
       "      <td>31000.00</td>\n",
       "    </tr>\n",
       "    <tr>\n",
       "      <th>5</th>\n",
       "      <td>B</td>\n",
       "      <td>JMART</td>\n",
       "      <td>-10</td>\n",
       "      <td>RND75pct</td>\n",
       "      <td>SET50</td>\n",
       "      <td>3200</td>\n",
       "      <td>8.95</td>\n",
       "      <td>9.45</td>\n",
       "      <td>-0.20</td>\n",
       "      <td>-2.07</td>\n",
       "      <td>1</td>\n",
       "      <td>2022-02-25</td>\n",
       "      <td>28640.00</td>\n",
       "    </tr>\n",
       "    <tr>\n",
       "      <th>6</th>\n",
       "      <td>B</td>\n",
       "      <td>KCE</td>\n",
       "      <td>-43</td>\n",
       "      <td>RD80Pct</td>\n",
       "      <td>SET100</td>\n",
       "      <td>1000</td>\n",
       "      <td>14.00</td>\n",
       "      <td>18.30</td>\n",
       "      <td>-1.40</td>\n",
       "      <td>-7.11</td>\n",
       "      <td>1</td>\n",
       "      <td>2022-08-26</td>\n",
       "      <td>14000.00</td>\n",
       "    </tr>\n",
       "    <tr>\n",
       "      <th>9</th>\n",
       "      <td>B</td>\n",
       "      <td>RCL</td>\n",
       "      <td>-31</td>\n",
       "      <td>RD45pct</td>\n",
       "      <td>SET100</td>\n",
       "      <td>3000</td>\n",
       "      <td>21.25</td>\n",
       "      <td>24.40</td>\n",
       "      <td>-0.60</td>\n",
       "      <td>-2.40</td>\n",
       "      <td>1</td>\n",
       "      <td>2022-03-12</td>\n",
       "      <td>63750.00</td>\n",
       "    </tr>\n",
       "    <tr>\n",
       "      <th>11</th>\n",
       "      <td>B</td>\n",
       "      <td>STA</td>\n",
       "      <td>-8</td>\n",
       "      <td>RD50Pct</td>\n",
       "      <td>SET100</td>\n",
       "      <td>2500</td>\n",
       "      <td>15.00</td>\n",
       "      <td>15.80</td>\n",
       "      <td>0.00</td>\n",
       "      <td>0.00</td>\n",
       "      <td>1</td>\n",
       "      <td>2025-04-18</td>\n",
       "      <td>37500.00</td>\n",
       "    </tr>\n",
       "    <tr>\n",
       "      <th>12</th>\n",
       "      <td>B</td>\n",
       "      <td>TFFIF</td>\n",
       "      <td>-6</td>\n",
       "      <td>RD20Pct</td>\n",
       "      <td>SET</td>\n",
       "      <td>5000</td>\n",
       "      <td>6.00</td>\n",
       "      <td>6.30</td>\n",
       "      <td>0.05</td>\n",
       "      <td>0.80</td>\n",
       "      <td>1</td>\n",
       "      <td>2025-02-27</td>\n",
       "      <td>30000.00</td>\n",
       "    </tr>\n",
       "    <tr>\n",
       "      <th>13</th>\n",
       "      <td>B</td>\n",
       "      <td>WHAIR</td>\n",
       "      <td>-5</td>\n",
       "      <td>RD30pct</td>\n",
       "      <td>SET</td>\n",
       "      <td>5000</td>\n",
       "      <td>5.40</td>\n",
       "      <td>5.65</td>\n",
       "      <td>-0.05</td>\n",
       "      <td>-0.88</td>\n",
       "      <td>1</td>\n",
       "      <td>2022-03-03</td>\n",
       "      <td>27000.00</td>\n",
       "    </tr>\n",
       "  </tbody>\n",
       "</table>\n",
       "</div>"
      ],
      "text/plain": [
       "   trade     name  spd    reason  market    qty  target  current  change  \\\n",
       "0      B    3BBIF   -2   RD50Pct     SET  10000    5.25     5.35    0.05   \n",
       "1      B   AIMIRT   -4  RND05pct     SET   5000   10.20    10.60    0.00   \n",
       "2      B  CPNREIT   -9   RD40Pct     SET   5000   10.80    11.70   -0.20   \n",
       "3      B      DIF  -23   RD50Pct     SET   5000    6.70     7.85   -0.15   \n",
       "4      B   GVREIT   -7  RND10Pct     SET   5000    6.20     6.55   -0.05   \n",
       "5      B    JMART  -10  RND75pct   SET50   3200    8.95     9.45   -0.20   \n",
       "6      B      KCE  -43   RD80Pct  SET100   1000   14.00    18.30   -1.40   \n",
       "9      B      RCL  -31   RD45pct  SET100   3000   21.25    24.40   -0.60   \n",
       "11     B      STA   -8   RD50Pct  SET100   2500   15.00    15.80    0.00   \n",
       "12     B    TFFIF   -6   RD20Pct     SET   5000    6.00     6.30    0.05   \n",
       "13     B    WHAIR   -5   RD30pct     SET   5000    5.40     5.65   -0.05   \n",
       "\n",
       "    %change  active       xdate   amount  \n",
       "0      0.94       1  2025-02-18 52500.00  \n",
       "1      0.00       1  2024-11-26 51000.00  \n",
       "2     -1.68       1  2025-02-27 54000.00  \n",
       "3     -1.88       1  2022-02-13 33500.00  \n",
       "4     -0.76       1  2022-02-26 31000.00  \n",
       "5     -2.07       1  2022-02-25 28640.00  \n",
       "6     -7.11       1  2022-08-26 14000.00  \n",
       "9     -2.40       1  2022-03-12 63750.00  \n",
       "11     0.00       1  2025-04-18 37500.00  \n",
       "12     0.80       1  2025-02-27 30000.00  \n",
       "13    -0.88       1  2022-03-03 27000.00  "
      ]
     },
     "execution_count": 27,
     "metadata": {},
     "output_type": "execute_result"
    }
   ],
   "source": [
    "df.query('active == 1')"
   ]
  },
  {
   "cell_type": "code",
   "execution_count": 28,
   "id": "2f83e6dd",
   "metadata": {},
   "outputs": [
    {
     "data": {
      "text/html": [
       "<div>\n",
       "<style scoped>\n",
       "    .dataframe tbody tr th:only-of-type {\n",
       "        vertical-align: middle;\n",
       "    }\n",
       "\n",
       "    .dataframe tbody tr th {\n",
       "        vertical-align: top;\n",
       "    }\n",
       "\n",
       "    .dataframe thead th {\n",
       "        text-align: right;\n",
       "    }\n",
       "</style>\n",
       "<table border=\"1\" class=\"dataframe\">\n",
       "  <thead>\n",
       "    <tr style=\"text-align: right;\">\n",
       "      <th></th>\n",
       "      <th>trade</th>\n",
       "      <th>name</th>\n",
       "      <th>spd</th>\n",
       "      <th>reason</th>\n",
       "      <th>market</th>\n",
       "      <th>qty</th>\n",
       "      <th>target</th>\n",
       "      <th>current</th>\n",
       "      <th>change</th>\n",
       "      <th>%change</th>\n",
       "      <th>active</th>\n",
       "      <th>xdate</th>\n",
       "      <th>amount</th>\n",
       "    </tr>\n",
       "  </thead>\n",
       "  <tbody>\n",
       "    <tr>\n",
       "      <th>1</th>\n",
       "      <td>B</td>\n",
       "      <td>AIMIRT</td>\n",
       "      <td>-4</td>\n",
       "      <td>RND05pct</td>\n",
       "      <td>SET</td>\n",
       "      <td>5000</td>\n",
       "      <td>10.20</td>\n",
       "      <td>10.60</td>\n",
       "      <td>0.00</td>\n",
       "      <td>0.00</td>\n",
       "      <td>1</td>\n",
       "      <td>2024-11-26</td>\n",
       "      <td>51000.00</td>\n",
       "    </tr>\n",
       "  </tbody>\n",
       "</table>\n",
       "</div>"
      ],
      "text/plain": [
       "  trade    name  spd    reason market   qty  target  current  change  %change  \\\n",
       "1     B  AIMIRT   -4  RND05pct    SET  5000   10.20    10.60    0.00     0.00   \n",
       "\n",
       "   active       xdate   amount  \n",
       "1       1  2024-11-26 51000.00  "
      ]
     },
     "execution_count": 28,
     "metadata": {},
     "output_type": "execute_result"
    }
   ],
   "source": [
    "df.query('name == \"AIMIRT\"')"
   ]
  },
  {
   "cell_type": "code",
   "execution_count": 29,
   "id": "0afee87f",
   "metadata": {},
   "outputs": [
    {
     "data": {
      "text/html": [
       "<div>\n",
       "<style scoped>\n",
       "    .dataframe tbody tr th:only-of-type {\n",
       "        vertical-align: middle;\n",
       "    }\n",
       "\n",
       "    .dataframe tbody tr th {\n",
       "        vertical-align: top;\n",
       "    }\n",
       "\n",
       "    .dataframe thead th {\n",
       "        text-align: right;\n",
       "    }\n",
       "</style>\n",
       "<table border=\"1\" class=\"dataframe\">\n",
       "  <thead>\n",
       "    <tr style=\"text-align: right;\">\n",
       "      <th></th>\n",
       "      <th>trade</th>\n",
       "      <th>name</th>\n",
       "      <th>spd</th>\n",
       "      <th>reason</th>\n",
       "      <th>market</th>\n",
       "      <th>qty</th>\n",
       "      <th>target</th>\n",
       "      <th>current</th>\n",
       "      <th>change</th>\n",
       "      <th>%change</th>\n",
       "      <th>active</th>\n",
       "      <th>xdate</th>\n",
       "      <th>amount</th>\n",
       "    </tr>\n",
       "  </thead>\n",
       "  <tbody>\n",
       "    <tr>\n",
       "      <th>7</th>\n",
       "      <td>B</td>\n",
       "      <td>MCS</td>\n",
       "      <td>-26</td>\n",
       "      <td>RD60Pct</td>\n",
       "      <td>SET</td>\n",
       "      <td>5000</td>\n",
       "      <td>5.80</td>\n",
       "      <td>7.10</td>\n",
       "      <td>-0.05</td>\n",
       "      <td>-0.70</td>\n",
       "      <td>0</td>\n",
       "      <td>2025-04-18</td>\n",
       "      <td>29000.00</td>\n",
       "    </tr>\n",
       "    <tr>\n",
       "      <th>8</th>\n",
       "      <td>B</td>\n",
       "      <td>NER</td>\n",
       "      <td>-13</td>\n",
       "      <td>RD40pct</td>\n",
       "      <td>SET</td>\n",
       "      <td>6000</td>\n",
       "      <td>4.70</td>\n",
       "      <td>4.96</td>\n",
       "      <td>0.02</td>\n",
       "      <td>0.40</td>\n",
       "      <td>0</td>\n",
       "      <td>2025-04-24</td>\n",
       "      <td>28200.00</td>\n",
       "    </tr>\n",
       "    <tr>\n",
       "      <th>10</th>\n",
       "      <td>B</td>\n",
       "      <td>SENA</td>\n",
       "      <td>-18</td>\n",
       "      <td>RD60pct</td>\n",
       "      <td>SET</td>\n",
       "      <td>7000</td>\n",
       "      <td>1.92</td>\n",
       "      <td>2.20</td>\n",
       "      <td>0.00</td>\n",
       "      <td>0.00</td>\n",
       "      <td>0</td>\n",
       "      <td>2024-05-10</td>\n",
       "      <td>13440.00</td>\n",
       "    </tr>\n",
       "    <tr>\n",
       "      <th>14</th>\n",
       "      <td>S</td>\n",
       "      <td>AWC</td>\n",
       "      <td>102</td>\n",
       "      <td>COS</td>\n",
       "      <td>SET50</td>\n",
       "      <td>9000</td>\n",
       "      <td>4.96</td>\n",
       "      <td>2.92</td>\n",
       "      <td>-0.18</td>\n",
       "      <td>-5.81</td>\n",
       "      <td>0</td>\n",
       "      <td>2024-05-09</td>\n",
       "      <td>44640.00</td>\n",
       "    </tr>\n",
       "    <tr>\n",
       "      <th>15</th>\n",
       "      <td>S</td>\n",
       "      <td>BCH</td>\n",
       "      <td>55</td>\n",
       "      <td>COS</td>\n",
       "      <td>SET100</td>\n",
       "      <td>2000</td>\n",
       "      <td>21.70</td>\n",
       "      <td>16.20</td>\n",
       "      <td>0.50</td>\n",
       "      <td>3.18</td>\n",
       "      <td>0</td>\n",
       "      <td>2024-08-29</td>\n",
       "      <td>43400.00</td>\n",
       "    </tr>\n",
       "    <tr>\n",
       "      <th>16</th>\n",
       "      <td>S</td>\n",
       "      <td>JMT</td>\n",
       "      <td>231</td>\n",
       "      <td>COS</td>\n",
       "      <td>SET50</td>\n",
       "      <td>900</td>\n",
       "      <td>50.00</td>\n",
       "      <td>11.90</td>\n",
       "      <td>-0.20</td>\n",
       "      <td>-1.65</td>\n",
       "      <td>0</td>\n",
       "      <td>2025-02-25</td>\n",
       "      <td>45000.00</td>\n",
       "    </tr>\n",
       "    <tr>\n",
       "      <th>17</th>\n",
       "      <td>S</td>\n",
       "      <td>PTG</td>\n",
       "      <td>69</td>\n",
       "      <td>COS</td>\n",
       "      <td>SET100</td>\n",
       "      <td>3600</td>\n",
       "      <td>11.40</td>\n",
       "      <td>7.20</td>\n",
       "      <td>-0.15</td>\n",
       "      <td>-2.04</td>\n",
       "      <td>0</td>\n",
       "      <td>2024-11-26</td>\n",
       "      <td>41040.00</td>\n",
       "    </tr>\n",
       "    <tr>\n",
       "      <th>18</th>\n",
       "      <td>S</td>\n",
       "      <td>PTTGC</td>\n",
       "      <td>110</td>\n",
       "      <td>RD60pct</td>\n",
       "      <td>SET50</td>\n",
       "      <td>1000</td>\n",
       "      <td>30.00</td>\n",
       "      <td>15.90</td>\n",
       "      <td>-0.20</td>\n",
       "      <td>-1.24</td>\n",
       "      <td>0</td>\n",
       "      <td>2025-03-03</td>\n",
       "      <td>30000.00</td>\n",
       "    </tr>\n",
       "    <tr>\n",
       "      <th>19</th>\n",
       "      <td>S</td>\n",
       "      <td>SYNEX</td>\n",
       "      <td>-459</td>\n",
       "      <td>RD70pct</td>\n",
       "      <td>SET</td>\n",
       "      <td>2000</td>\n",
       "      <td>0.00</td>\n",
       "      <td>10.90</td>\n",
       "      <td>0.30</td>\n",
       "      <td>2.83</td>\n",
       "      <td>0</td>\n",
       "      <td>2024-08-27</td>\n",
       "      <td>0.00</td>\n",
       "    </tr>\n",
       "    <tr>\n",
       "      <th>20</th>\n",
       "      <td>S</td>\n",
       "      <td>TMT</td>\n",
       "      <td>217</td>\n",
       "      <td>RD65pct</td>\n",
       "      <td>SET</td>\n",
       "      <td>6000</td>\n",
       "      <td>10.20</td>\n",
       "      <td>2.68</td>\n",
       "      <td>-0.08</td>\n",
       "      <td>-2.90</td>\n",
       "      <td>0</td>\n",
       "      <td>2025-03-12</td>\n",
       "      <td>61200.00</td>\n",
       "    </tr>\n",
       "    <tr>\n",
       "      <th>21</th>\n",
       "      <td>S</td>\n",
       "      <td>TVO</td>\n",
       "      <td>27</td>\n",
       "      <td>DTD</td>\n",
       "      <td>SET</td>\n",
       "      <td>4000</td>\n",
       "      <td>25.25</td>\n",
       "      <td>22.40</td>\n",
       "      <td>-0.40</td>\n",
       "      <td>-1.75</td>\n",
       "      <td>0</td>\n",
       "      <td>2025-03-13</td>\n",
       "      <td>101000.00</td>\n",
       "    </tr>\n",
       "    <tr>\n",
       "      <th>22</th>\n",
       "      <td>S</td>\n",
       "      <td>WHART</td>\n",
       "      <td>19</td>\n",
       "      <td>COS</td>\n",
       "      <td>SET</td>\n",
       "      <td>10000</td>\n",
       "      <td>12.10</td>\n",
       "      <td>10.20</td>\n",
       "      <td>0.00</td>\n",
       "      <td>0.00</td>\n",
       "      <td>0</td>\n",
       "      <td>2025-03-03</td>\n",
       "      <td>121000.00</td>\n",
       "    </tr>\n",
       "  </tbody>\n",
       "</table>\n",
       "</div>"
      ],
      "text/plain": [
       "   trade   name  spd   reason  market    qty  target  current  change  \\\n",
       "7      B    MCS  -26  RD60Pct     SET   5000    5.80     7.10   -0.05   \n",
       "8      B    NER  -13  RD40pct     SET   6000    4.70     4.96    0.02   \n",
       "10     B   SENA  -18  RD60pct     SET   7000    1.92     2.20    0.00   \n",
       "14     S    AWC  102      COS   SET50   9000    4.96     2.92   -0.18   \n",
       "15     S    BCH   55      COS  SET100   2000   21.70    16.20    0.50   \n",
       "16     S    JMT  231      COS   SET50    900   50.00    11.90   -0.20   \n",
       "17     S    PTG   69      COS  SET100   3600   11.40     7.20   -0.15   \n",
       "18     S  PTTGC  110  RD60pct   SET50   1000   30.00    15.90   -0.20   \n",
       "19     S  SYNEX -459  RD70pct     SET   2000    0.00    10.90    0.30   \n",
       "20     S    TMT  217  RD65pct     SET   6000   10.20     2.68   -0.08   \n",
       "21     S    TVO   27      DTD     SET   4000   25.25    22.40   -0.40   \n",
       "22     S  WHART   19      COS     SET  10000   12.10    10.20    0.00   \n",
       "\n",
       "    %change  active       xdate    amount  \n",
       "7     -0.70       0  2025-04-18  29000.00  \n",
       "8      0.40       0  2025-04-24  28200.00  \n",
       "10     0.00       0  2024-05-10  13440.00  \n",
       "14    -5.81       0  2024-05-09  44640.00  \n",
       "15     3.18       0  2024-08-29  43400.00  \n",
       "16    -1.65       0  2025-02-25  45000.00  \n",
       "17    -2.04       0  2024-11-26  41040.00  \n",
       "18    -1.24       0  2025-03-03  30000.00  \n",
       "19     2.83       0  2024-08-27      0.00  \n",
       "20    -2.90       0  2025-03-12  61200.00  \n",
       "21    -1.75       0  2025-03-13 101000.00  \n",
       "22     0.00       0  2025-03-03 121000.00  "
      ]
     },
     "execution_count": 29,
     "metadata": {},
     "output_type": "execute_result"
    }
   ],
   "source": [
    "df.query('active == 0')"
   ]
  },
  {
   "cell_type": "code",
   "execution_count": 30,
   "id": "007e8bae",
   "metadata": {
    "scrolled": true
   },
   "outputs": [
    {
     "data": {
      "text/html": [
       "<div>\n",
       "<style scoped>\n",
       "    .dataframe tbody tr th:only-of-type {\n",
       "        vertical-align: middle;\n",
       "    }\n",
       "\n",
       "    .dataframe tbody tr th {\n",
       "        vertical-align: top;\n",
       "    }\n",
       "\n",
       "    .dataframe thead th {\n",
       "        text-align: right;\n",
       "    }\n",
       "</style>\n",
       "<table border=\"1\" class=\"dataframe\">\n",
       "  <thead>\n",
       "    <tr style=\"text-align: right;\">\n",
       "      <th></th>\n",
       "      <th>trade</th>\n",
       "      <th>name</th>\n",
       "      <th>spd</th>\n",
       "      <th>reason</th>\n",
       "      <th>market</th>\n",
       "      <th>qty</th>\n",
       "      <th>target</th>\n",
       "      <th>current</th>\n",
       "      <th>change</th>\n",
       "      <th>%change</th>\n",
       "      <th>active</th>\n",
       "      <th>xdate</th>\n",
       "      <th>amount</th>\n",
       "    </tr>\n",
       "  </thead>\n",
       "  <tbody>\n",
       "    <tr>\n",
       "      <th>6</th>\n",
       "      <td>B</td>\n",
       "      <td>KCE</td>\n",
       "      <td>-43</td>\n",
       "      <td>RD80Pct</td>\n",
       "      <td>SET100</td>\n",
       "      <td>1000</td>\n",
       "      <td>14.00</td>\n",
       "      <td>18.30</td>\n",
       "      <td>-1.40</td>\n",
       "      <td>-7.11</td>\n",
       "      <td>1</td>\n",
       "      <td>2022-08-26</td>\n",
       "      <td>14000.00</td>\n",
       "    </tr>\n",
       "  </tbody>\n",
       "</table>\n",
       "</div>"
      ],
      "text/plain": [
       "  trade name  spd   reason  market   qty  target  current  change  %change  \\\n",
       "6     B  KCE  -43  RD80Pct  SET100  1000   14.00    18.30   -1.40    -7.11   \n",
       "\n",
       "   active       xdate   amount  \n",
       "6       1  2022-08-26 14000.00  "
      ]
     },
     "execution_count": 30,
     "metadata": {},
     "output_type": "execute_result"
    }
   ],
   "source": [
    "df.query('spd <= -40 and trade == \"B\"')"
   ]
  },
  {
   "cell_type": "code",
   "execution_count": 31,
   "id": "e294c091",
   "metadata": {},
   "outputs": [
    {
     "data": {
      "text/html": [
       "<div>\n",
       "<style scoped>\n",
       "    .dataframe tbody tr th:only-of-type {\n",
       "        vertical-align: middle;\n",
       "    }\n",
       "\n",
       "    .dataframe tbody tr th {\n",
       "        vertical-align: top;\n",
       "    }\n",
       "\n",
       "    .dataframe thead th {\n",
       "        text-align: right;\n",
       "    }\n",
       "</style>\n",
       "<table border=\"1\" class=\"dataframe\">\n",
       "  <thead>\n",
       "    <tr style=\"text-align: right;\">\n",
       "      <th></th>\n",
       "      <th>trade</th>\n",
       "      <th>name</th>\n",
       "      <th>spd</th>\n",
       "      <th>reason</th>\n",
       "      <th>market</th>\n",
       "      <th>qty</th>\n",
       "      <th>target</th>\n",
       "      <th>current</th>\n",
       "      <th>change</th>\n",
       "      <th>%change</th>\n",
       "      <th>active</th>\n",
       "      <th>xdate</th>\n",
       "      <th>amount</th>\n",
       "    </tr>\n",
       "  </thead>\n",
       "  <tbody>\n",
       "  </tbody>\n",
       "</table>\n",
       "</div>"
      ],
      "text/plain": [
       "Empty DataFrame\n",
       "Columns: [trade, name, spd, reason, market, qty, target, current, change, %change, active, xdate, amount]\n",
       "Index: []"
      ]
     },
     "execution_count": 31,
     "metadata": {},
     "output_type": "execute_result"
    }
   ],
   "source": [
    "df.query('trade == \"B\" & spd > 0')"
   ]
  },
  {
   "cell_type": "code",
   "execution_count": 32,
   "id": "f5ca51c5",
   "metadata": {},
   "outputs": [
    {
     "data": {
      "text/html": [
       "<div>\n",
       "<style scoped>\n",
       "    .dataframe tbody tr th:only-of-type {\n",
       "        vertical-align: middle;\n",
       "    }\n",
       "\n",
       "    .dataframe tbody tr th {\n",
       "        vertical-align: top;\n",
       "    }\n",
       "\n",
       "    .dataframe thead th {\n",
       "        text-align: right;\n",
       "    }\n",
       "</style>\n",
       "<table border=\"1\" class=\"dataframe\">\n",
       "  <thead>\n",
       "    <tr style=\"text-align: right;\">\n",
       "      <th></th>\n",
       "      <th>trade</th>\n",
       "      <th>name</th>\n",
       "      <th>spd</th>\n",
       "      <th>reason</th>\n",
       "      <th>market</th>\n",
       "      <th>qty</th>\n",
       "      <th>target</th>\n",
       "      <th>current</th>\n",
       "      <th>change</th>\n",
       "      <th>%change</th>\n",
       "      <th>active</th>\n",
       "      <th>xdate</th>\n",
       "      <th>amount</th>\n",
       "    </tr>\n",
       "  </thead>\n",
       "  <tbody>\n",
       "    <tr>\n",
       "      <th>19</th>\n",
       "      <td>S</td>\n",
       "      <td>SYNEX</td>\n",
       "      <td>-459</td>\n",
       "      <td>RD70pct</td>\n",
       "      <td>SET</td>\n",
       "      <td>2000</td>\n",
       "      <td>0.00</td>\n",
       "      <td>10.90</td>\n",
       "      <td>0.30</td>\n",
       "      <td>2.83</td>\n",
       "      <td>0</td>\n",
       "      <td>2024-08-27</td>\n",
       "      <td>0.00</td>\n",
       "    </tr>\n",
       "  </tbody>\n",
       "</table>\n",
       "</div>"
      ],
      "text/plain": [
       "   trade   name  spd   reason market   qty  target  current  change  %change  \\\n",
       "19     S  SYNEX -459  RD70pct    SET  2000    0.00    10.90    0.30     2.83   \n",
       "\n",
       "    active       xdate  amount  \n",
       "19       0  2024-08-27    0.00  "
      ]
     },
     "execution_count": 32,
     "metadata": {},
     "output_type": "execute_result"
    }
   ],
   "source": [
    "df.query('trade == \"S\" & spd < 0')"
   ]
  },
  {
   "cell_type": "code",
   "execution_count": 33,
   "id": "83a6c159-4140-43a4-877e-2088dffc690c",
   "metadata": {},
   "outputs": [],
   "source": [
    "colx = ['trade', 'name', 'spd', 'reason', 'market', 'qty', 'target', 'current', 'change', '%change',\n",
    "        'active', 'xdate']"
   ]
  },
  {
   "cell_type": "code",
   "execution_count": 34,
   "id": "5dbc762a-b148-4e90-8e6f-72aa07f70a37",
   "metadata": {},
   "outputs": [],
   "source": [
    "file_name = \"orders-log.csv\"\n",
    "output_file = os.path.join(dat_path, file_name)\n",
    "god_file = os.path.join(god_path, file_name)\n",
    "icd_file = os.path.join(icd_path, file_name)\n",
    "osd_file = os.path.join(osd_path, file_name)"
   ]
  },
  {
   "cell_type": "code",
   "execution_count": 35,
   "id": "77e25af6-7faa-4b74-9b07-af9978b7dbfd",
   "metadata": {},
   "outputs": [
    {
     "name": "stdout",
     "output_type": "stream",
     "text": [
      "output_file : C:\\Users\\PC1\\OneDrive\\A5\\Data\\orders-log.csv\n",
      "icd_file : C:\\Users\\PC1\\iCloudDrive\\Data\\orders-log.csv\n",
      "god_file : C:\\Users\\PC1\\OneDrive\\Imports\\santisoontarinka@gmail.com - Google Drive\\Data\\orders-log.csv\n",
      "osd_file : C:\\Users\\PC1\\OneDrive\\Documents\\obsidian-git-sync\\Data\\orders-log.csv\n"
     ]
    }
   ],
   "source": [
    "print(f\"output_file : {output_file}\") \n",
    "print(f\"icd_file : {icd_file}\") \n",
    "print(f\"god_file : {god_file}\") \n",
    "print(f\"osd_file : {osd_file}\") "
   ]
  },
  {
   "cell_type": "code",
   "execution_count": 36,
   "id": "53ad05c9-1827-43f0-9753-eb28b219ffd5",
   "metadata": {},
   "outputs": [],
   "source": [
    "df[colx].to_csv(output_file, header=True, index=False)\n",
    "df[colx].to_csv(god_file, header=True, index=False)\n",
    "df[colx].to_csv(icd_file, header=True, index=False)\n",
    "df[colx].to_csv(osd_file, header=True, index=False)"
   ]
  },
  {
   "cell_type": "markdown",
   "id": "dca31fd8",
   "metadata": {},
   "source": [
    "### Convert column name to make it valid for df.query"
   ]
  },
  {
   "cell_type": "code",
   "execution_count": 38,
   "id": "ca97c7d7",
   "metadata": {},
   "outputs": [],
   "source": [
    "df['percent'] = df['%change']"
   ]
  },
  {
   "cell_type": "code",
   "execution_count": 39,
   "id": "95fb8b5e",
   "metadata": {},
   "outputs": [
    {
     "data": {
      "text/html": [
       "<div>\n",
       "<style scoped>\n",
       "    .dataframe tbody tr th:only-of-type {\n",
       "        vertical-align: middle;\n",
       "    }\n",
       "\n",
       "    .dataframe tbody tr th {\n",
       "        vertical-align: top;\n",
       "    }\n",
       "\n",
       "    .dataframe thead th {\n",
       "        text-align: right;\n",
       "    }\n",
       "</style>\n",
       "<table border=\"1\" class=\"dataframe\">\n",
       "  <thead>\n",
       "    <tr style=\"text-align: right;\">\n",
       "      <th></th>\n",
       "      <th>trade</th>\n",
       "      <th>name</th>\n",
       "      <th>spd</th>\n",
       "      <th>reason</th>\n",
       "      <th>market</th>\n",
       "      <th>qty</th>\n",
       "      <th>target</th>\n",
       "      <th>current</th>\n",
       "      <th>change</th>\n",
       "      <th>%change</th>\n",
       "      <th>active</th>\n",
       "      <th>xdate</th>\n",
       "      <th>amount</th>\n",
       "      <th>percent</th>\n",
       "    </tr>\n",
       "  </thead>\n",
       "  <tbody>\n",
       "    <tr>\n",
       "      <th>5</th>\n",
       "      <td>B</td>\n",
       "      <td>JMART</td>\n",
       "      <td>-10</td>\n",
       "      <td>RND75pct</td>\n",
       "      <td>SET50</td>\n",
       "      <td>3200</td>\n",
       "      <td>8.95</td>\n",
       "      <td>9.45</td>\n",
       "      <td>-0.20</td>\n",
       "      <td>-2.07</td>\n",
       "      <td>1</td>\n",
       "      <td>2022-02-25</td>\n",
       "      <td>28640.00</td>\n",
       "      <td>-2.07</td>\n",
       "    </tr>\n",
       "    <tr>\n",
       "      <th>6</th>\n",
       "      <td>B</td>\n",
       "      <td>KCE</td>\n",
       "      <td>-43</td>\n",
       "      <td>RD80Pct</td>\n",
       "      <td>SET100</td>\n",
       "      <td>1000</td>\n",
       "      <td>14.00</td>\n",
       "      <td>18.30</td>\n",
       "      <td>-1.40</td>\n",
       "      <td>-7.11</td>\n",
       "      <td>1</td>\n",
       "      <td>2022-08-26</td>\n",
       "      <td>14000.00</td>\n",
       "      <td>-7.11</td>\n",
       "    </tr>\n",
       "    <tr>\n",
       "      <th>9</th>\n",
       "      <td>B</td>\n",
       "      <td>RCL</td>\n",
       "      <td>-31</td>\n",
       "      <td>RD45pct</td>\n",
       "      <td>SET100</td>\n",
       "      <td>3000</td>\n",
       "      <td>21.25</td>\n",
       "      <td>24.40</td>\n",
       "      <td>-0.60</td>\n",
       "      <td>-2.40</td>\n",
       "      <td>1</td>\n",
       "      <td>2022-03-12</td>\n",
       "      <td>63750.00</td>\n",
       "      <td>-2.40</td>\n",
       "    </tr>\n",
       "    <tr>\n",
       "      <th>14</th>\n",
       "      <td>S</td>\n",
       "      <td>AWC</td>\n",
       "      <td>102</td>\n",
       "      <td>COS</td>\n",
       "      <td>SET50</td>\n",
       "      <td>9000</td>\n",
       "      <td>4.96</td>\n",
       "      <td>2.92</td>\n",
       "      <td>-0.18</td>\n",
       "      <td>-5.81</td>\n",
       "      <td>0</td>\n",
       "      <td>2024-05-09</td>\n",
       "      <td>44640.00</td>\n",
       "      <td>-5.81</td>\n",
       "    </tr>\n",
       "    <tr>\n",
       "      <th>17</th>\n",
       "      <td>S</td>\n",
       "      <td>PTG</td>\n",
       "      <td>69</td>\n",
       "      <td>COS</td>\n",
       "      <td>SET100</td>\n",
       "      <td>3600</td>\n",
       "      <td>11.40</td>\n",
       "      <td>7.20</td>\n",
       "      <td>-0.15</td>\n",
       "      <td>-2.04</td>\n",
       "      <td>0</td>\n",
       "      <td>2024-11-26</td>\n",
       "      <td>41040.00</td>\n",
       "      <td>-2.04</td>\n",
       "    </tr>\n",
       "    <tr>\n",
       "      <th>20</th>\n",
       "      <td>S</td>\n",
       "      <td>TMT</td>\n",
       "      <td>217</td>\n",
       "      <td>RD65pct</td>\n",
       "      <td>SET</td>\n",
       "      <td>6000</td>\n",
       "      <td>10.20</td>\n",
       "      <td>2.68</td>\n",
       "      <td>-0.08</td>\n",
       "      <td>-2.90</td>\n",
       "      <td>0</td>\n",
       "      <td>2025-03-12</td>\n",
       "      <td>61200.00</td>\n",
       "      <td>-2.90</td>\n",
       "    </tr>\n",
       "  </tbody>\n",
       "</table>\n",
       "</div>"
      ],
      "text/plain": [
       "   trade   name  spd    reason  market   qty  target  current  change  \\\n",
       "5      B  JMART  -10  RND75pct   SET50  3200    8.95     9.45   -0.20   \n",
       "6      B    KCE  -43   RD80Pct  SET100  1000   14.00    18.30   -1.40   \n",
       "9      B    RCL  -31   RD45pct  SET100  3000   21.25    24.40   -0.60   \n",
       "14     S    AWC  102       COS   SET50  9000    4.96     2.92   -0.18   \n",
       "17     S    PTG   69       COS  SET100  3600   11.40     7.20   -0.15   \n",
       "20     S    TMT  217   RD65pct     SET  6000   10.20     2.68   -0.08   \n",
       "\n",
       "    %change  active       xdate   amount  percent  \n",
       "5     -2.07       1  2022-02-25 28640.00    -2.07  \n",
       "6     -7.11       1  2022-08-26 14000.00    -7.11  \n",
       "9     -2.40       1  2022-03-12 63750.00    -2.40  \n",
       "14    -5.81       0  2024-05-09 44640.00    -5.81  \n",
       "17    -2.04       0  2024-11-26 41040.00    -2.04  \n",
       "20    -2.90       0  2025-03-12 61200.00    -2.90  "
      ]
     },
     "execution_count": 39,
     "metadata": {},
     "output_type": "execute_result"
    }
   ],
   "source": [
    "df.query('percent < -2')"
   ]
  },
  {
   "cell_type": "code",
   "execution_count": 40,
   "id": "d964ad8e",
   "metadata": {},
   "outputs": [
    {
     "data": {
      "text/html": [
       "<div>\n",
       "<style scoped>\n",
       "    .dataframe tbody tr th:only-of-type {\n",
       "        vertical-align: middle;\n",
       "    }\n",
       "\n",
       "    .dataframe tbody tr th {\n",
       "        vertical-align: top;\n",
       "    }\n",
       "\n",
       "    .dataframe thead th {\n",
       "        text-align: right;\n",
       "    }\n",
       "</style>\n",
       "<table border=\"1\" class=\"dataframe\">\n",
       "  <thead>\n",
       "    <tr style=\"text-align: right;\">\n",
       "      <th></th>\n",
       "      <th>trade</th>\n",
       "      <th>name</th>\n",
       "      <th>spd</th>\n",
       "      <th>reason</th>\n",
       "      <th>market</th>\n",
       "      <th>qty</th>\n",
       "      <th>target</th>\n",
       "      <th>current</th>\n",
       "      <th>change</th>\n",
       "      <th>%change</th>\n",
       "      <th>active</th>\n",
       "      <th>xdate</th>\n",
       "      <th>amount</th>\n",
       "      <th>percent</th>\n",
       "    </tr>\n",
       "  </thead>\n",
       "  <tbody>\n",
       "    <tr>\n",
       "      <th>15</th>\n",
       "      <td>S</td>\n",
       "      <td>BCH</td>\n",
       "      <td>55</td>\n",
       "      <td>COS</td>\n",
       "      <td>SET100</td>\n",
       "      <td>2000</td>\n",
       "      <td>21.70</td>\n",
       "      <td>16.20</td>\n",
       "      <td>0.50</td>\n",
       "      <td>3.18</td>\n",
       "      <td>0</td>\n",
       "      <td>2024-08-29</td>\n",
       "      <td>43400.00</td>\n",
       "      <td>3.18</td>\n",
       "    </tr>\n",
       "    <tr>\n",
       "      <th>19</th>\n",
       "      <td>S</td>\n",
       "      <td>SYNEX</td>\n",
       "      <td>-459</td>\n",
       "      <td>RD70pct</td>\n",
       "      <td>SET</td>\n",
       "      <td>2000</td>\n",
       "      <td>0.00</td>\n",
       "      <td>10.90</td>\n",
       "      <td>0.30</td>\n",
       "      <td>2.83</td>\n",
       "      <td>0</td>\n",
       "      <td>2024-08-27</td>\n",
       "      <td>0.00</td>\n",
       "      <td>2.83</td>\n",
       "    </tr>\n",
       "  </tbody>\n",
       "</table>\n",
       "</div>"
      ],
      "text/plain": [
       "   trade   name  spd   reason  market   qty  target  current  change  %change  \\\n",
       "15     S    BCH   55      COS  SET100  2000   21.70    16.20    0.50     3.18   \n",
       "19     S  SYNEX -459  RD70pct     SET  2000    0.00    10.90    0.30     2.83   \n",
       "\n",
       "    active       xdate   amount  percent  \n",
       "15       0  2024-08-29 43400.00     3.18  \n",
       "19       0  2024-08-27     0.00     2.83  "
      ]
     },
     "execution_count": 40,
     "metadata": {},
     "output_type": "execute_result"
    }
   ],
   "source": [
    "df.query('percent >= 2.00')"
   ]
  },
  {
   "cell_type": "code",
   "execution_count": 41,
   "id": "21b45ef0",
   "metadata": {
    "scrolled": true
   },
   "outputs": [
    {
     "data": {
      "text/html": [
       "<div>\n",
       "<style scoped>\n",
       "    .dataframe tbody tr th:only-of-type {\n",
       "        vertical-align: middle;\n",
       "    }\n",
       "\n",
       "    .dataframe tbody tr th {\n",
       "        vertical-align: top;\n",
       "    }\n",
       "\n",
       "    .dataframe thead th {\n",
       "        text-align: right;\n",
       "    }\n",
       "</style>\n",
       "<table border=\"1\" class=\"dataframe\">\n",
       "  <thead>\n",
       "    <tr style=\"text-align: right;\">\n",
       "      <th></th>\n",
       "      <th>trade</th>\n",
       "      <th>name</th>\n",
       "      <th>spd</th>\n",
       "      <th>reason</th>\n",
       "      <th>market</th>\n",
       "      <th>qty</th>\n",
       "      <th>target</th>\n",
       "      <th>current</th>\n",
       "      <th>change</th>\n",
       "      <th>%change</th>\n",
       "      <th>active</th>\n",
       "      <th>xdate</th>\n",
       "      <th>amount</th>\n",
       "      <th>percent</th>\n",
       "    </tr>\n",
       "  </thead>\n",
       "  <tbody>\n",
       "    <tr>\n",
       "      <th>0</th>\n",
       "      <td>B</td>\n",
       "      <td>3BBIF</td>\n",
       "      <td>-2</td>\n",
       "      <td>RD50Pct</td>\n",
       "      <td>SET</td>\n",
       "      <td>10000</td>\n",
       "      <td>5.25</td>\n",
       "      <td>5.35</td>\n",
       "      <td>0.05</td>\n",
       "      <td>0.94</td>\n",
       "      <td>1</td>\n",
       "      <td>2025-02-18</td>\n",
       "      <td>52500.00</td>\n",
       "      <td>0.94</td>\n",
       "    </tr>\n",
       "    <tr>\n",
       "      <th>1</th>\n",
       "      <td>B</td>\n",
       "      <td>AIMIRT</td>\n",
       "      <td>-4</td>\n",
       "      <td>RND05pct</td>\n",
       "      <td>SET</td>\n",
       "      <td>5000</td>\n",
       "      <td>10.20</td>\n",
       "      <td>10.60</td>\n",
       "      <td>0.00</td>\n",
       "      <td>0.00</td>\n",
       "      <td>1</td>\n",
       "      <td>2024-11-26</td>\n",
       "      <td>51000.00</td>\n",
       "      <td>0.00</td>\n",
       "    </tr>\n",
       "    <tr>\n",
       "      <th>13</th>\n",
       "      <td>B</td>\n",
       "      <td>WHAIR</td>\n",
       "      <td>-5</td>\n",
       "      <td>RD30pct</td>\n",
       "      <td>SET</td>\n",
       "      <td>5000</td>\n",
       "      <td>5.40</td>\n",
       "      <td>5.65</td>\n",
       "      <td>-0.05</td>\n",
       "      <td>-0.88</td>\n",
       "      <td>1</td>\n",
       "      <td>2022-03-03</td>\n",
       "      <td>27000.00</td>\n",
       "      <td>-0.88</td>\n",
       "    </tr>\n",
       "    <tr>\n",
       "      <th>12</th>\n",
       "      <td>B</td>\n",
       "      <td>TFFIF</td>\n",
       "      <td>-6</td>\n",
       "      <td>RD20Pct</td>\n",
       "      <td>SET</td>\n",
       "      <td>5000</td>\n",
       "      <td>6.00</td>\n",
       "      <td>6.30</td>\n",
       "      <td>0.05</td>\n",
       "      <td>0.80</td>\n",
       "      <td>1</td>\n",
       "      <td>2025-02-27</td>\n",
       "      <td>30000.00</td>\n",
       "      <td>0.80</td>\n",
       "    </tr>\n",
       "    <tr>\n",
       "      <th>4</th>\n",
       "      <td>B</td>\n",
       "      <td>GVREIT</td>\n",
       "      <td>-7</td>\n",
       "      <td>RND10Pct</td>\n",
       "      <td>SET</td>\n",
       "      <td>5000</td>\n",
       "      <td>6.20</td>\n",
       "      <td>6.55</td>\n",
       "      <td>-0.05</td>\n",
       "      <td>-0.76</td>\n",
       "      <td>1</td>\n",
       "      <td>2022-02-26</td>\n",
       "      <td>31000.00</td>\n",
       "      <td>-0.76</td>\n",
       "    </tr>\n",
       "    <tr>\n",
       "      <th>11</th>\n",
       "      <td>B</td>\n",
       "      <td>STA</td>\n",
       "      <td>-8</td>\n",
       "      <td>RD50Pct</td>\n",
       "      <td>SET100</td>\n",
       "      <td>2500</td>\n",
       "      <td>15.00</td>\n",
       "      <td>15.80</td>\n",
       "      <td>0.00</td>\n",
       "      <td>0.00</td>\n",
       "      <td>1</td>\n",
       "      <td>2025-04-18</td>\n",
       "      <td>37500.00</td>\n",
       "      <td>0.00</td>\n",
       "    </tr>\n",
       "    <tr>\n",
       "      <th>2</th>\n",
       "      <td>B</td>\n",
       "      <td>CPNREIT</td>\n",
       "      <td>-9</td>\n",
       "      <td>RD40Pct</td>\n",
       "      <td>SET</td>\n",
       "      <td>5000</td>\n",
       "      <td>10.80</td>\n",
       "      <td>11.70</td>\n",
       "      <td>-0.20</td>\n",
       "      <td>-1.68</td>\n",
       "      <td>1</td>\n",
       "      <td>2025-02-27</td>\n",
       "      <td>54000.00</td>\n",
       "      <td>-1.68</td>\n",
       "    </tr>\n",
       "    <tr>\n",
       "      <th>5</th>\n",
       "      <td>B</td>\n",
       "      <td>JMART</td>\n",
       "      <td>-10</td>\n",
       "      <td>RND75pct</td>\n",
       "      <td>SET50</td>\n",
       "      <td>3200</td>\n",
       "      <td>8.95</td>\n",
       "      <td>9.45</td>\n",
       "      <td>-0.20</td>\n",
       "      <td>-2.07</td>\n",
       "      <td>1</td>\n",
       "      <td>2022-02-25</td>\n",
       "      <td>28640.00</td>\n",
       "      <td>-2.07</td>\n",
       "    </tr>\n",
       "    <tr>\n",
       "      <th>8</th>\n",
       "      <td>B</td>\n",
       "      <td>NER</td>\n",
       "      <td>-13</td>\n",
       "      <td>RD40pct</td>\n",
       "      <td>SET</td>\n",
       "      <td>6000</td>\n",
       "      <td>4.70</td>\n",
       "      <td>4.96</td>\n",
       "      <td>0.02</td>\n",
       "      <td>0.40</td>\n",
       "      <td>0</td>\n",
       "      <td>2025-04-24</td>\n",
       "      <td>28200.00</td>\n",
       "      <td>0.40</td>\n",
       "    </tr>\n",
       "    <tr>\n",
       "      <th>10</th>\n",
       "      <td>B</td>\n",
       "      <td>SENA</td>\n",
       "      <td>-18</td>\n",
       "      <td>RD60pct</td>\n",
       "      <td>SET</td>\n",
       "      <td>7000</td>\n",
       "      <td>1.92</td>\n",
       "      <td>2.20</td>\n",
       "      <td>0.00</td>\n",
       "      <td>0.00</td>\n",
       "      <td>0</td>\n",
       "      <td>2024-05-10</td>\n",
       "      <td>13440.00</td>\n",
       "      <td>0.00</td>\n",
       "    </tr>\n",
       "    <tr>\n",
       "      <th>3</th>\n",
       "      <td>B</td>\n",
       "      <td>DIF</td>\n",
       "      <td>-23</td>\n",
       "      <td>RD50Pct</td>\n",
       "      <td>SET</td>\n",
       "      <td>5000</td>\n",
       "      <td>6.70</td>\n",
       "      <td>7.85</td>\n",
       "      <td>-0.15</td>\n",
       "      <td>-1.88</td>\n",
       "      <td>1</td>\n",
       "      <td>2022-02-13</td>\n",
       "      <td>33500.00</td>\n",
       "      <td>-1.88</td>\n",
       "    </tr>\n",
       "    <tr>\n",
       "      <th>7</th>\n",
       "      <td>B</td>\n",
       "      <td>MCS</td>\n",
       "      <td>-26</td>\n",
       "      <td>RD60Pct</td>\n",
       "      <td>SET</td>\n",
       "      <td>5000</td>\n",
       "      <td>5.80</td>\n",
       "      <td>7.10</td>\n",
       "      <td>-0.05</td>\n",
       "      <td>-0.70</td>\n",
       "      <td>0</td>\n",
       "      <td>2025-04-18</td>\n",
       "      <td>29000.00</td>\n",
       "      <td>-0.70</td>\n",
       "    </tr>\n",
       "    <tr>\n",
       "      <th>9</th>\n",
       "      <td>B</td>\n",
       "      <td>RCL</td>\n",
       "      <td>-31</td>\n",
       "      <td>RD45pct</td>\n",
       "      <td>SET100</td>\n",
       "      <td>3000</td>\n",
       "      <td>21.25</td>\n",
       "      <td>24.40</td>\n",
       "      <td>-0.60</td>\n",
       "      <td>-2.40</td>\n",
       "      <td>1</td>\n",
       "      <td>2022-03-12</td>\n",
       "      <td>63750.00</td>\n",
       "      <td>-2.40</td>\n",
       "    </tr>\n",
       "    <tr>\n",
       "      <th>6</th>\n",
       "      <td>B</td>\n",
       "      <td>KCE</td>\n",
       "      <td>-43</td>\n",
       "      <td>RD80Pct</td>\n",
       "      <td>SET100</td>\n",
       "      <td>1000</td>\n",
       "      <td>14.00</td>\n",
       "      <td>18.30</td>\n",
       "      <td>-1.40</td>\n",
       "      <td>-7.11</td>\n",
       "      <td>1</td>\n",
       "      <td>2022-08-26</td>\n",
       "      <td>14000.00</td>\n",
       "      <td>-7.11</td>\n",
       "    </tr>\n",
       "  </tbody>\n",
       "</table>\n",
       "</div>"
      ],
      "text/plain": [
       "   trade     name  spd    reason  market    qty  target  current  change  \\\n",
       "0      B    3BBIF   -2   RD50Pct     SET  10000    5.25     5.35    0.05   \n",
       "1      B   AIMIRT   -4  RND05pct     SET   5000   10.20    10.60    0.00   \n",
       "13     B    WHAIR   -5   RD30pct     SET   5000    5.40     5.65   -0.05   \n",
       "12     B    TFFIF   -6   RD20Pct     SET   5000    6.00     6.30    0.05   \n",
       "4      B   GVREIT   -7  RND10Pct     SET   5000    6.20     6.55   -0.05   \n",
       "11     B      STA   -8   RD50Pct  SET100   2500   15.00    15.80    0.00   \n",
       "2      B  CPNREIT   -9   RD40Pct     SET   5000   10.80    11.70   -0.20   \n",
       "5      B    JMART  -10  RND75pct   SET50   3200    8.95     9.45   -0.20   \n",
       "8      B      NER  -13   RD40pct     SET   6000    4.70     4.96    0.02   \n",
       "10     B     SENA  -18   RD60pct     SET   7000    1.92     2.20    0.00   \n",
       "3      B      DIF  -23   RD50Pct     SET   5000    6.70     7.85   -0.15   \n",
       "7      B      MCS  -26   RD60Pct     SET   5000    5.80     7.10   -0.05   \n",
       "9      B      RCL  -31   RD45pct  SET100   3000   21.25    24.40   -0.60   \n",
       "6      B      KCE  -43   RD80Pct  SET100   1000   14.00    18.30   -1.40   \n",
       "\n",
       "    %change  active       xdate   amount  percent  \n",
       "0      0.94       1  2025-02-18 52500.00     0.94  \n",
       "1      0.00       1  2024-11-26 51000.00     0.00  \n",
       "13    -0.88       1  2022-03-03 27000.00    -0.88  \n",
       "12     0.80       1  2025-02-27 30000.00     0.80  \n",
       "4     -0.76       1  2022-02-26 31000.00    -0.76  \n",
       "11     0.00       1  2025-04-18 37500.00     0.00  \n",
       "2     -1.68       1  2025-02-27 54000.00    -1.68  \n",
       "5     -2.07       1  2022-02-25 28640.00    -2.07  \n",
       "8      0.40       0  2025-04-24 28200.00     0.40  \n",
       "10     0.00       0  2024-05-10 13440.00     0.00  \n",
       "3     -1.88       1  2022-02-13 33500.00    -1.88  \n",
       "7     -0.70       0  2025-04-18 29000.00    -0.70  \n",
       "9     -2.40       1  2022-03-12 63750.00    -2.40  \n",
       "6     -7.11       1  2022-08-26 14000.00    -7.11  "
      ]
     },
     "execution_count": 41,
     "metadata": {},
     "output_type": "execute_result"
    }
   ],
   "source": [
    "df.loc[df.trade == 'B'].sort_values('spd',ascending=False)"
   ]
  },
  {
   "cell_type": "markdown",
   "id": "0b6a9434",
   "metadata": {},
   "source": [
    "### Sell recently purchased stocks if profitable"
   ]
  },
  {
   "cell_type": "code",
   "execution_count": 43,
   "id": "3e6546c3",
   "metadata": {},
   "outputs": [
    {
     "data": {
      "text/plain": [
       "(112, 4)"
      ]
     },
     "execution_count": 43,
     "metadata": {},
     "output_type": "execute_result"
    }
   ],
   "source": [
    "#pd.set_option('display.max_rows', 40)\n",
    "sql = \"\"\"SELECT name, qty, price AS cost, date \n",
    "FROM buys B \n",
    "JOIN stocks S \n",
    "ON stock_id = S.id \n",
    "WHERE status = 'Active'\n",
    "ORDER BY name, date\"\"\"\n",
    "buys = pd.read_sql(sql, conpf)\n",
    "buys.shape"
   ]
  },
  {
   "cell_type": "code",
   "execution_count": 44,
   "id": "cfc17b1f",
   "metadata": {},
   "outputs": [],
   "source": [
    "colu = 'name date_x qty cost price difa %change %profit'.split()\n",
    "buys_price = pd.merge(buys, prices, on='name', how='inner')\n",
    "buys_price['diff'] = buys_price['price'] - buys_price['cost']\n",
    "buys_price['difa'] = buys_price['diff'] * buys_price['qty']\n",
    "buys_price['%profit'] = round(buys_price['difa'] / (buys_price['qty'] * buys_price['cost']) * 100,2)"
   ]
  },
  {
   "cell_type": "code",
   "execution_count": 45,
   "id": "f4ac8868",
   "metadata": {},
   "outputs": [
    {
     "data": {
      "text/plain": [
       "(109, 8)"
      ]
     },
     "execution_count": 45,
     "metadata": {},
     "output_type": "execute_result"
    }
   ],
   "source": [
    "laggards = buys_price.loc[buys_price.cost > buys_price.price,colu]\n",
    "laggards.shape"
   ]
  },
  {
   "cell_type": "code",
   "execution_count": 46,
   "id": "0a9732c8",
   "metadata": {},
   "outputs": [
    {
     "data": {
      "text/html": [
       "<div>\n",
       "<style scoped>\n",
       "    .dataframe tbody tr th:only-of-type {\n",
       "        vertical-align: middle;\n",
       "    }\n",
       "\n",
       "    .dataframe tbody tr th {\n",
       "        vertical-align: top;\n",
       "    }\n",
       "\n",
       "    .dataframe thead th {\n",
       "        text-align: right;\n",
       "    }\n",
       "</style>\n",
       "<table border=\"1\" class=\"dataframe\">\n",
       "  <thead>\n",
       "    <tr style=\"text-align: right;\">\n",
       "      <th></th>\n",
       "      <th>name</th>\n",
       "      <th>date_x</th>\n",
       "      <th>qty</th>\n",
       "      <th>cost</th>\n",
       "      <th>price</th>\n",
       "      <th>difa</th>\n",
       "      <th>%change</th>\n",
       "      <th>%profit</th>\n",
       "    </tr>\n",
       "  </thead>\n",
       "  <tbody>\n",
       "    <tr>\n",
       "      <th>64</th>\n",
       "      <td>ORI</td>\n",
       "      <td>2025-02-17</td>\n",
       "      <td>10000</td>\n",
       "      <td>2.90</td>\n",
       "      <td>2.96</td>\n",
       "      <td>600.00</td>\n",
       "      <td>-2.63</td>\n",
       "      <td>2.07</td>\n",
       "    </tr>\n",
       "    <tr>\n",
       "      <th>31</th>\n",
       "      <td>GVREIT</td>\n",
       "      <td>2023-09-22</td>\n",
       "      <td>6000</td>\n",
       "      <td>6.10</td>\n",
       "      <td>6.55</td>\n",
       "      <td>2700.00</td>\n",
       "      <td>-0.76</td>\n",
       "      <td>7.38</td>\n",
       "    </tr>\n",
       "    <tr>\n",
       "      <th>8</th>\n",
       "      <td>AIMIRT</td>\n",
       "      <td>2024-06-17</td>\n",
       "      <td>2500</td>\n",
       "      <td>10.50</td>\n",
       "      <td>10.60</td>\n",
       "      <td>250.00</td>\n",
       "      <td>0.00</td>\n",
       "      <td>0.95</td>\n",
       "    </tr>\n",
       "  </tbody>\n",
       "</table>\n",
       "</div>"
      ],
      "text/plain": [
       "      name      date_x    qty  cost  price    difa  %change  %profit\n",
       "64     ORI  2025-02-17  10000  2.90   2.96  600.00    -2.63     2.07\n",
       "31  GVREIT  2023-09-22   6000  6.10   6.55 2700.00    -0.76     7.38\n",
       "8   AIMIRT  2024-06-17   2500 10.50  10.60  250.00     0.00     0.95"
      ]
     },
     "execution_count": 46,
     "metadata": {},
     "output_type": "execute_result"
    }
   ],
   "source": [
    "watch_list = buys_price.loc[buys_price.cost <= buys_price.price,colu]\n",
    "watch_list.sort_values('name',ascending=False)"
   ]
  },
  {
   "cell_type": "markdown",
   "id": "4cde016b",
   "metadata": {},
   "source": [
    "### Profit per Month"
   ]
  },
  {
   "cell_type": "code",
   "execution_count": 48,
   "id": "0873917b",
   "metadata": {},
   "outputs": [
    {
     "name": "stdout",
     "output_type": "stream",
     "text": [
      "\n",
      "SELECT name, YEAR(sells.date) AS sell_year, MONTH(sells.date) AS sell_month, \n",
      "       sells.price AS sell_price, buys.price AS buy_price, (sells.price - buys.price) AS diff, \n",
      "       qty, (sells.price * qty) AS sell_amt, (buys.price * qty) AS buy_amt, \n",
      "       (sells.price - buys.price) * qty AS gross, \n",
      "       ROUND((sells.price - buys.price)/buys.price*100,2) AS pct, days\n",
      "FROM sells JOIN buys ON sells.buy_id = buys.id\n",
      "JOIN stocks ON buys.stock_id = stocks.id\n",
      "WHERE YEAR(sells.date) = 2025 AND MONTH(sells.date) = 2\n",
      "ORDER BY sells.date DESC, name\n"
     ]
    }
   ],
   "source": [
    "year = 2025\n",
    "month = 2\n",
    "sql = '''\n",
    "SELECT name, YEAR(sells.date) AS sell_year, MONTH(sells.date) AS sell_month, \n",
    "       sells.price AS sell_price, buys.price AS buy_price, (sells.price - buys.price) AS diff, \n",
    "       qty, (sells.price * qty) AS sell_amt, (buys.price * qty) AS buy_amt, \n",
    "       (sells.price - buys.price) * qty AS gross, \n",
    "       ROUND((sells.price - buys.price)/buys.price*100,2) AS pct, days\n",
    "FROM sells JOIN buys ON sells.buy_id = buys.id\n",
    "JOIN stocks ON buys.stock_id = stocks.id\n",
    "WHERE YEAR(sells.date) = %s AND MONTH(sells.date) = %s\n",
    "ORDER BY sells.date DESC, name'''\n",
    "sql = sql % (year, month)\n",
    "sells_df = pd.read_sql(sql, conpf)\n",
    "print(sql)"
   ]
  },
  {
   "cell_type": "code",
   "execution_count": 49,
   "id": "dbe9d338",
   "metadata": {},
   "outputs": [
    {
     "data": {
      "text/html": [
       "<div>\n",
       "<style scoped>\n",
       "    .dataframe tbody tr th:only-of-type {\n",
       "        vertical-align: middle;\n",
       "    }\n",
       "\n",
       "    .dataframe tbody tr th {\n",
       "        vertical-align: top;\n",
       "    }\n",
       "\n",
       "    .dataframe thead th {\n",
       "        text-align: right;\n",
       "    }\n",
       "</style>\n",
       "<table border=\"1\" class=\"dataframe\">\n",
       "  <thead>\n",
       "    <tr style=\"text-align: right;\">\n",
       "      <th></th>\n",
       "      <th>name</th>\n",
       "      <th>sell_year</th>\n",
       "      <th>sell_month</th>\n",
       "      <th>sell_price</th>\n",
       "      <th>buy_price</th>\n",
       "      <th>diff</th>\n",
       "      <th>qty</th>\n",
       "      <th>sell_amt</th>\n",
       "      <th>buy_amt</th>\n",
       "      <th>gross</th>\n",
       "      <th>pct</th>\n",
       "      <th>days</th>\n",
       "    </tr>\n",
       "  </thead>\n",
       "  <tbody>\n",
       "    <tr>\n",
       "      <th>0</th>\n",
       "      <td>TMT</td>\n",
       "      <td>2025</td>\n",
       "      <td>2</td>\n",
       "      <td>2.94</td>\n",
       "      <td>10.00</td>\n",
       "      <td>-7.06</td>\n",
       "      <td>12000</td>\n",
       "      <td>35280.00</td>\n",
       "      <td>120000.00</td>\n",
       "      <td>-84720.00</td>\n",
       "      <td>-70.60</td>\n",
       "      <td>1239</td>\n",
       "    </tr>\n",
       "    <tr>\n",
       "      <th>1</th>\n",
       "      <td>TMT</td>\n",
       "      <td>2025</td>\n",
       "      <td>2</td>\n",
       "      <td>2.94</td>\n",
       "      <td>10.90</td>\n",
       "      <td>-7.96</td>\n",
       "      <td>15000</td>\n",
       "      <td>44100.00</td>\n",
       "      <td>163500.00</td>\n",
       "      <td>-119400.00</td>\n",
       "      <td>-73.03</td>\n",
       "      <td>1288</td>\n",
       "    </tr>\n",
       "    <tr>\n",
       "      <th>2</th>\n",
       "      <td>TMT</td>\n",
       "      <td>2025</td>\n",
       "      <td>2</td>\n",
       "      <td>2.94</td>\n",
       "      <td>9.30</td>\n",
       "      <td>-6.36</td>\n",
       "      <td>9000</td>\n",
       "      <td>26460.00</td>\n",
       "      <td>83700.00</td>\n",
       "      <td>-57240.00</td>\n",
       "      <td>-68.39</td>\n",
       "      <td>993</td>\n",
       "    </tr>\n",
       "    <tr>\n",
       "      <th>3</th>\n",
       "      <td>ASK</td>\n",
       "      <td>2025</td>\n",
       "      <td>2</td>\n",
       "      <td>7.35</td>\n",
       "      <td>12.00</td>\n",
       "      <td>-4.65</td>\n",
       "      <td>1500</td>\n",
       "      <td>11025.00</td>\n",
       "      <td>18000.00</td>\n",
       "      <td>-6975.00</td>\n",
       "      <td>-38.75</td>\n",
       "      <td>115</td>\n",
       "    </tr>\n",
       "    <tr>\n",
       "      <th>4</th>\n",
       "      <td>ASK</td>\n",
       "      <td>2025</td>\n",
       "      <td>2</td>\n",
       "      <td>7.35</td>\n",
       "      <td>31.00</td>\n",
       "      <td>-23.65</td>\n",
       "      <td>4500</td>\n",
       "      <td>33075.00</td>\n",
       "      <td>139500.00</td>\n",
       "      <td>-106425.00</td>\n",
       "      <td>-76.29</td>\n",
       "      <td>732</td>\n",
       "    </tr>\n",
       "  </tbody>\n",
       "</table>\n",
       "</div>"
      ],
      "text/plain": [
       "  name  sell_year  sell_month  sell_price  buy_price   diff    qty  sell_amt  \\\n",
       "0  TMT       2025           2        2.94      10.00  -7.06  12000  35280.00   \n",
       "1  TMT       2025           2        2.94      10.90  -7.96  15000  44100.00   \n",
       "2  TMT       2025           2        2.94       9.30  -6.36   9000  26460.00   \n",
       "3  ASK       2025           2        7.35      12.00  -4.65   1500  11025.00   \n",
       "4  ASK       2025           2        7.35      31.00 -23.65   4500  33075.00   \n",
       "\n",
       "    buy_amt      gross    pct  days  \n",
       "0 120000.00  -84720.00 -70.60  1239  \n",
       "1 163500.00 -119400.00 -73.03  1288  \n",
       "2  83700.00  -57240.00 -68.39   993  \n",
       "3  18000.00   -6975.00 -38.75   115  \n",
       "4 139500.00 -106425.00 -76.29   732  "
      ]
     },
     "execution_count": 49,
     "metadata": {},
     "output_type": "execute_result"
    }
   ],
   "source": [
    "sells_df"
   ]
  },
  {
   "cell_type": "code",
   "execution_count": 50,
   "id": "15d59f94",
   "metadata": {},
   "outputs": [
    {
     "name": "stdout",
     "output_type": "stream",
     "text": [
      "Monthly Profit Amount: -374,760.00\n"
     ]
    }
   ],
   "source": [
    "print(f\"Monthly Profit Amount: {sells_df.gross.sum():,.2f}\")"
   ]
  },
  {
   "cell_type": "code",
   "execution_count": 51,
   "id": "141ad35d-fbdc-489e-a0dd-2df6497e8ca1",
   "metadata": {},
   "outputs": [],
   "source": [
    "file_name = \"monthly-sales.csv\"\n",
    "output_file = os.path.join(dat_path, file_name)\n",
    "god_file = os.path.join(god_path, file_name)\n",
    "icd_file = os.path.join(icd_path, file_name)\n",
    "osd_file = os.path.join(osd_path, file_name)"
   ]
  },
  {
   "cell_type": "code",
   "execution_count": 52,
   "id": "13b9620f-4783-4971-b535-475118237eab",
   "metadata": {},
   "outputs": [
    {
     "name": "stdout",
     "output_type": "stream",
     "text": [
      "output_file : C:\\Users\\PC1\\OneDrive\\A5\\Data\\monthly-sales.csv\n",
      "icd_file : C:\\Users\\PC1\\iCloudDrive\\Data\\monthly-sales.csv\n",
      "god_file : C:\\Users\\PC1\\OneDrive\\Imports\\santisoontarinka@gmail.com - Google Drive\\Data\\monthly-sales.csv\n",
      "osd_file : C:\\Users\\PC1\\OneDrive\\Documents\\obsidian-git-sync\\Data\\monthly-sales.csv\n"
     ]
    }
   ],
   "source": [
    "print(f\"output_file : {output_file}\") \n",
    "print(f\"icd_file : {icd_file}\") \n",
    "print(f\"god_file : {god_file}\") \n",
    "print(f\"osd_file : {osd_file}\") "
   ]
  },
  {
   "cell_type": "code",
   "execution_count": 53,
   "id": "55163491-8a2b-4436-a977-be87096934dc",
   "metadata": {},
   "outputs": [],
   "source": [
    "sells_df.to_csv(output_file, header=True, index=False)\n",
    "sells_df.to_csv(god_file, header=True, index=False)\n",
    "sells_df.to_csv(icd_file, header=True, index=False)\n",
    "sells_df.to_csv(osd_file, header=True, index=False)"
   ]
  },
  {
   "cell_type": "code",
   "execution_count": 54,
   "id": "2bd22547",
   "metadata": {},
   "outputs": [
    {
     "data": {
      "text/html": [
       "<style type=\"text/css\">\n",
       "</style>\n",
       "<table id=\"T_1d163\">\n",
       "  <thead>\n",
       "    <tr>\n",
       "      <th class=\"blank level0\" >&nbsp;</th>\n",
       "      <th id=\"T_1d163_level0_col0\" class=\"col_heading level0 col0\" >name</th>\n",
       "      <th id=\"T_1d163_level0_col1\" class=\"col_heading level0 col1\" >sell_year</th>\n",
       "      <th id=\"T_1d163_level0_col2\" class=\"col_heading level0 col2\" >sell_month</th>\n",
       "      <th id=\"T_1d163_level0_col3\" class=\"col_heading level0 col3\" >sell_price</th>\n",
       "      <th id=\"T_1d163_level0_col4\" class=\"col_heading level0 col4\" >buy_price</th>\n",
       "      <th id=\"T_1d163_level0_col5\" class=\"col_heading level0 col5\" >diff</th>\n",
       "      <th id=\"T_1d163_level0_col6\" class=\"col_heading level0 col6\" >qty</th>\n",
       "      <th id=\"T_1d163_level0_col7\" class=\"col_heading level0 col7\" >sell_amt</th>\n",
       "      <th id=\"T_1d163_level0_col8\" class=\"col_heading level0 col8\" >buy_amt</th>\n",
       "      <th id=\"T_1d163_level0_col9\" class=\"col_heading level0 col9\" >gross</th>\n",
       "      <th id=\"T_1d163_level0_col10\" class=\"col_heading level0 col10\" >pct</th>\n",
       "      <th id=\"T_1d163_level0_col11\" class=\"col_heading level0 col11\" >days</th>\n",
       "      <th id=\"T_1d163_level0_col12\" class=\"col_heading level0 col12\" >profit_per_day</th>\n",
       "    </tr>\n",
       "  </thead>\n",
       "  <tbody>\n",
       "    <tr>\n",
       "      <th id=\"T_1d163_level0_row0\" class=\"row_heading level0 row0\" >0</th>\n",
       "      <td id=\"T_1d163_row0_col0\" class=\"data row0 col0\" >TMT</td>\n",
       "      <td id=\"T_1d163_row0_col1\" class=\"data row0 col1\" >2025</td>\n",
       "      <td id=\"T_1d163_row0_col2\" class=\"data row0 col2\" >2</td>\n",
       "      <td id=\"T_1d163_row0_col3\" class=\"data row0 col3\" >2.94</td>\n",
       "      <td id=\"T_1d163_row0_col4\" class=\"data row0 col4\" >10.00</td>\n",
       "      <td id=\"T_1d163_row0_col5\" class=\"data row0 col5\" >-7.06</td>\n",
       "      <td id=\"T_1d163_row0_col6\" class=\"data row0 col6\" >12,000</td>\n",
       "      <td id=\"T_1d163_row0_col7\" class=\"data row0 col7\" >35,280.00</td>\n",
       "      <td id=\"T_1d163_row0_col8\" class=\"data row0 col8\" >120,000.00</td>\n",
       "      <td id=\"T_1d163_row0_col9\" class=\"data row0 col9\" >-84,720.00</td>\n",
       "      <td id=\"T_1d163_row0_col10\" class=\"data row0 col10\" >-70.60</td>\n",
       "      <td id=\"T_1d163_row0_col11\" class=\"data row0 col11\" >1239</td>\n",
       "      <td id=\"T_1d163_row0_col12\" class=\"data row0 col12\" >-0.056981</td>\n",
       "    </tr>\n",
       "    <tr>\n",
       "      <th id=\"T_1d163_level0_row1\" class=\"row_heading level0 row1\" >1</th>\n",
       "      <td id=\"T_1d163_row1_col0\" class=\"data row1 col0\" >TMT</td>\n",
       "      <td id=\"T_1d163_row1_col1\" class=\"data row1 col1\" >2025</td>\n",
       "      <td id=\"T_1d163_row1_col2\" class=\"data row1 col2\" >2</td>\n",
       "      <td id=\"T_1d163_row1_col3\" class=\"data row1 col3\" >2.94</td>\n",
       "      <td id=\"T_1d163_row1_col4\" class=\"data row1 col4\" >10.90</td>\n",
       "      <td id=\"T_1d163_row1_col5\" class=\"data row1 col5\" >-7.96</td>\n",
       "      <td id=\"T_1d163_row1_col6\" class=\"data row1 col6\" >15,000</td>\n",
       "      <td id=\"T_1d163_row1_col7\" class=\"data row1 col7\" >44,100.00</td>\n",
       "      <td id=\"T_1d163_row1_col8\" class=\"data row1 col8\" >163,500.00</td>\n",
       "      <td id=\"T_1d163_row1_col9\" class=\"data row1 col9\" >-119,400.00</td>\n",
       "      <td id=\"T_1d163_row1_col10\" class=\"data row1 col10\" >-73.03</td>\n",
       "      <td id=\"T_1d163_row1_col11\" class=\"data row1 col11\" >1288</td>\n",
       "      <td id=\"T_1d163_row1_col12\" class=\"data row1 col12\" >-0.056698</td>\n",
       "    </tr>\n",
       "    <tr>\n",
       "      <th id=\"T_1d163_level0_row2\" class=\"row_heading level0 row2\" >2</th>\n",
       "      <td id=\"T_1d163_row2_col0\" class=\"data row2 col0\" >TMT</td>\n",
       "      <td id=\"T_1d163_row2_col1\" class=\"data row2 col1\" >2025</td>\n",
       "      <td id=\"T_1d163_row2_col2\" class=\"data row2 col2\" >2</td>\n",
       "      <td id=\"T_1d163_row2_col3\" class=\"data row2 col3\" >2.94</td>\n",
       "      <td id=\"T_1d163_row2_col4\" class=\"data row2 col4\" >9.30</td>\n",
       "      <td id=\"T_1d163_row2_col5\" class=\"data row2 col5\" >-6.36</td>\n",
       "      <td id=\"T_1d163_row2_col6\" class=\"data row2 col6\" >9,000</td>\n",
       "      <td id=\"T_1d163_row2_col7\" class=\"data row2 col7\" >26,460.00</td>\n",
       "      <td id=\"T_1d163_row2_col8\" class=\"data row2 col8\" >83,700.00</td>\n",
       "      <td id=\"T_1d163_row2_col9\" class=\"data row2 col9\" >-57,240.00</td>\n",
       "      <td id=\"T_1d163_row2_col10\" class=\"data row2 col10\" >-68.39</td>\n",
       "      <td id=\"T_1d163_row2_col11\" class=\"data row2 col11\" >993</td>\n",
       "      <td id=\"T_1d163_row2_col12\" class=\"data row2 col12\" >-0.068869</td>\n",
       "    </tr>\n",
       "    <tr>\n",
       "      <th id=\"T_1d163_level0_row3\" class=\"row_heading level0 row3\" >3</th>\n",
       "      <td id=\"T_1d163_row3_col0\" class=\"data row3 col0\" >ASK</td>\n",
       "      <td id=\"T_1d163_row3_col1\" class=\"data row3 col1\" >2025</td>\n",
       "      <td id=\"T_1d163_row3_col2\" class=\"data row3 col2\" >2</td>\n",
       "      <td id=\"T_1d163_row3_col3\" class=\"data row3 col3\" >7.35</td>\n",
       "      <td id=\"T_1d163_row3_col4\" class=\"data row3 col4\" >12.00</td>\n",
       "      <td id=\"T_1d163_row3_col5\" class=\"data row3 col5\" >-4.65</td>\n",
       "      <td id=\"T_1d163_row3_col6\" class=\"data row3 col6\" >1,500</td>\n",
       "      <td id=\"T_1d163_row3_col7\" class=\"data row3 col7\" >11,025.00</td>\n",
       "      <td id=\"T_1d163_row3_col8\" class=\"data row3 col8\" >18,000.00</td>\n",
       "      <td id=\"T_1d163_row3_col9\" class=\"data row3 col9\" >-6,975.00</td>\n",
       "      <td id=\"T_1d163_row3_col10\" class=\"data row3 col10\" >-38.75</td>\n",
       "      <td id=\"T_1d163_row3_col11\" class=\"data row3 col11\" >115</td>\n",
       "      <td id=\"T_1d163_row3_col12\" class=\"data row3 col12\" >-0.336957</td>\n",
       "    </tr>\n",
       "    <tr>\n",
       "      <th id=\"T_1d163_level0_row4\" class=\"row_heading level0 row4\" >4</th>\n",
       "      <td id=\"T_1d163_row4_col0\" class=\"data row4 col0\" >ASK</td>\n",
       "      <td id=\"T_1d163_row4_col1\" class=\"data row4 col1\" >2025</td>\n",
       "      <td id=\"T_1d163_row4_col2\" class=\"data row4 col2\" >2</td>\n",
       "      <td id=\"T_1d163_row4_col3\" class=\"data row4 col3\" >7.35</td>\n",
       "      <td id=\"T_1d163_row4_col4\" class=\"data row4 col4\" >31.00</td>\n",
       "      <td id=\"T_1d163_row4_col5\" class=\"data row4 col5\" >-23.65</td>\n",
       "      <td id=\"T_1d163_row4_col6\" class=\"data row4 col6\" >4,500</td>\n",
       "      <td id=\"T_1d163_row4_col7\" class=\"data row4 col7\" >33,075.00</td>\n",
       "      <td id=\"T_1d163_row4_col8\" class=\"data row4 col8\" >139,500.00</td>\n",
       "      <td id=\"T_1d163_row4_col9\" class=\"data row4 col9\" >-106,425.00</td>\n",
       "      <td id=\"T_1d163_row4_col10\" class=\"data row4 col10\" >-76.29</td>\n",
       "      <td id=\"T_1d163_row4_col11\" class=\"data row4 col11\" >732</td>\n",
       "      <td id=\"T_1d163_row4_col12\" class=\"data row4 col12\" >-0.104222</td>\n",
       "    </tr>\n",
       "  </tbody>\n",
       "</table>\n"
      ],
      "text/plain": [
       "<pandas.io.formats.style.Styler at 0x1f15fdfa180>"
      ]
     },
     "execution_count": 54,
     "metadata": {},
     "output_type": "execute_result"
    }
   ],
   "source": [
    "sells_df['profit_per_day'] = (sells_df['gross'] / sells_df['buy_amt']) / sells_df['days'] * 100\n",
    "sells_df.style.format(format_dict)"
   ]
  },
  {
   "cell_type": "code",
   "execution_count": 55,
   "id": "72125ca7",
   "metadata": {},
   "outputs": [
    {
     "data": {
      "text/plain": [
       "-374760.0"
      ]
     },
     "execution_count": 55,
     "metadata": {},
     "output_type": "execute_result"
    }
   ],
   "source": [
    "sells_df.gross.sum()"
   ]
  },
  {
   "cell_type": "code",
   "execution_count": 56,
   "id": "eb62bb1b",
   "metadata": {},
   "outputs": [
    {
     "name": "stdout",
     "output_type": "stream",
     "text": [
      "Average Profit Percent: -0.12%\n"
     ]
    }
   ],
   "source": [
    "average_profit_percent = sells_df['profit_per_day'].mean()\n",
    "print(f\"Average Profit Percent: {average_profit_percent:.2f}%\")"
   ]
  },
  {
   "cell_type": "code",
   "execution_count": 57,
   "id": "9e7944db",
   "metadata": {},
   "outputs": [
    {
     "data": {
      "text/plain": [
       "'February 28, 2025'"
      ]
     },
     "execution_count": 57,
     "metadata": {},
     "output_type": "execute_result"
    }
   ],
   "source": [
    "#dt = date(2023, 11, 8)\n",
    "dt = today\n",
    "dt.strftime(\"%B %d, %Y\")"
   ]
  },
  {
   "cell_type": "code",
   "execution_count": 58,
   "id": "e1bafc00",
   "metadata": {},
   "outputs": [
    {
     "name": "stdout",
     "output_type": "stream",
     "text": [
      "Hello, Alice! Today is February 28, 2025.\n"
     ]
    }
   ],
   "source": [
    "print(\"Hello, {}! Today is {:%B %d, %Y}.\".format(\"Alice\", dt))"
   ]
  },
  {
   "cell_type": "code",
   "execution_count": 59,
   "id": "ff23d38c",
   "metadata": {},
   "outputs": [
    {
     "name": "stdout",
     "output_type": "stream",
     "text": [
      "2025-02-28 20:47:08\n"
     ]
    }
   ],
   "source": [
    "# Get the current time\n",
    "current_time = datetime.now()\n",
    "# Format the time to remove milliseconds\n",
    "formatted_time = current_time.strftime(\"%Y-%m-%d %H:%M:%S\")\n",
    "print(formatted_time)"
   ]
  },
  {
   "cell_type": "code",
   "execution_count": null,
   "id": "3b7c6545-32cd-4885-98b8-d8e0dc7c9479",
   "metadata": {},
   "outputs": [],
   "source": []
  }
 ],
 "metadata": {
  "kernelspec": {
   "display_name": "Python 3 (ipykernel)",
   "language": "python",
   "name": "python3"
  },
  "language_info": {
   "codemirror_mode": {
    "name": "ipython",
    "version": 3
   },
   "file_extension": ".py",
   "mimetype": "text/x-python",
   "name": "python",
   "nbconvert_exporter": "python",
   "pygments_lexer": "ipython3",
   "version": "3.12.3"
  }
 },
 "nbformat": 4,
 "nbformat_minor": 5
}
