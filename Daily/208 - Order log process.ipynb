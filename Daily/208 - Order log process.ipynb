{
 "cells": [
  {
   "cell_type": "markdown",
   "id": "d8a383f5",
   "metadata": {},
   "source": [
    "### Input files: Price-Today, orders-log\n",
    "### Output files: Price-for-Order, orders-log, monthly-sales"
   ]
  },
  {
   "cell_type": "code",
   "execution_count": 2,
   "id": "2a2bb67d",
   "metadata": {},
   "outputs": [
    {
     "name": "stdout",
     "output_type": "stream",
     "text": [
      "2025-09-09 2025-09-08\n"
     ]
    }
   ],
   "source": [
    "import glob\n",
    "import os\n",
    "import pandas as pd\n",
    "from datetime import date, timedelta, datetime\n",
    "from pandas.tseries.offsets import *\n",
    "from sqlalchemy import create_engine\n",
    "\n",
    "engine = create_engine(\"sqlite:///c:\\\\ruby\\\\port_lite\\\\db\\\\development.sqlite3\")\n",
    "conlite = engine.connect()\n",
    "engine = create_engine('mysql+pymysql://root:@localhost:3306/portfolio_development')\n",
    "conpf = engine.connect()\n",
    "\n",
    "format_dict = {'qty':'{:,}',\n",
    "              'sell_price':'{:,.2f}','buy_price':'{:,.2f}','diff':'{:,.2f}', 'target':'{:,.2f}',\n",
    "              'cost':'{:,.2f}','price':'{:,.2f}','%change':'{:,.2f}','%profit':'{:,.2f}',\n",
    "              'sell_amt':'{:,.2f}','buy_amt':'{:,.2f}','gross':'{:,.2f}','amount':'{:,.2f}',\n",
    "              'cst_amt':'{:,.2f}','mkt_amt':'{:,.2f}','difa':'{:,.2f}','current':'{:,.2f}','change':'{:,.2f}',  \n",
    "              'pct':'{:,.2f}%','net':'{:,.2f}','%change':'{:,.2f}%','%profit':'{:,.2f}%'\n",
    "              }\n",
    "pd.options.display.max_rows = 50\n",
    "pd.options.display.float_format = '{:.2f}'.format\n",
    "\n",
    "today = date.today()\n",
    "yesterday = today - timedelta(days=1)\n",
    "print(today, yesterday)"
   ]
  },
  {
   "cell_type": "code",
   "execution_count": 3,
   "id": "20838b19",
   "metadata": {},
   "outputs": [
    {
     "name": "stdout",
     "output_type": "stream",
     "text": [
      "today: 2025-09-09\n",
      "yesterday: 2025-09-08\n"
     ]
    }
   ],
   "source": [
    "num_business_days = BDay(1)\n",
    "yesterday = today - num_business_days\n",
    "print(f'today: {today}')\n",
    "yesterday = yesterday.date()\n",
    "print(f'yesterday: {yesterday}')"
   ]
  },
  {
   "cell_type": "code",
   "execution_count": 4,
   "id": "75ae99cf-1264-40eb-b21c-61a74b8b10fd",
   "metadata": {},
   "outputs": [],
   "source": [
    "# If run after actual work day\n",
    "#today = today - timedelta(days=2)\n",
    "#print(today)"
   ]
  },
  {
   "cell_type": "code",
   "execution_count": 5,
   "id": "827c35b1-74ae-4922-afc4-63c50c6d3a5d",
   "metadata": {},
   "outputs": [
    {
     "name": "stdout",
     "output_type": "stream",
     "text": [
      "2025-09-09 20:02:22\n"
     ]
    }
   ],
   "source": [
    "# Get the current time\n",
    "current_time = datetime.now()\n",
    "# Format the time to remove milliseconds\n",
    "formatted_time = current_time.strftime(\"%Y-%m-%d %H:%M:%S\")\n",
    "print(formatted_time)"
   ]
  },
  {
   "cell_type": "markdown",
   "id": "29764f10",
   "metadata": {},
   "source": [
    "### Restart and Run All Cells"
   ]
  },
  {
   "cell_type": "code",
   "execution_count": 7,
   "id": "f7a312be-8512-45c3-bb3d-56f045087797",
   "metadata": {},
   "outputs": [],
   "source": [
    "# Get the user's home directory\n",
    "user_path = os.path.expanduser('~')\n",
    "# Get the current working directory\n",
    "current_path = os.getcwd()\n",
    "# Derive the base directory (base_dir) by removing the last folder ('Daily')\n",
    "base_path = os.path.dirname(current_path)\n",
    "#C:\\Users\\PC1\\OneDrive\\A5\\Data\n",
    "dat_path = os.path.join(base_path, \"Data\")\n",
    "#C:\\Users\\PC1\\OneDrive\\A5\\Ruby\n",
    "ruby_path = os.path.join(base_path, \"Ruby\")\n",
    "#C:\\Users\\PC1\\OneDrive\\Imports\\santisoontarinka@gmail.com - Google Drive\\Data>\n",
    "god_path = os.path.join(user_path, \"OneDrive\",\"Imports\",\"santisoontarinka@gmail.com - Google Drive\",\"Data\")\n",
    "#C:\\Users\\PC1\\iCloudDrive\\data\n",
    "icd_path = os.path.join(user_path, \"iCloudDrive\", \"Data\")\n",
    "#C:\\Users\\PC1\\OneDrive\\Documents\\obsidian-git-sync\\Data\n",
    "osd_path = os.path.join(user_path, \"OneDrive\",\"Documents\",\"obsidian-git-sync\",\"Data\")"
   ]
  },
  {
   "cell_type": "code",
   "execution_count": 8,
   "id": "5e00013c-ddbb-45ba-9c1a-b1e5f8ec70d3",
   "metadata": {},
   "outputs": [
    {
     "name": "stdout",
     "output_type": "stream",
     "text": [
      "User path: C:\\Users\\PC1\n",
      "Current path: C:\\Users\\PC1\\OneDrive\\A5\\Daily\n",
      "Base path: C:\\Users\\PC1\\OneDrive\\A5\n",
      "Data path (dat_path): C:\\Users\\PC1\\OneDrive\\A5\\Data\n",
      "Ruby path (ruby_path): C:\\Users\\PC1\\OneDrive\\A5\\Ruby\n",
      "Google Drive path (god_path): C:\\Users\\PC1\\OneDrive\\Imports\\santisoontarinka@gmail.com - Google Drive\\Data\n",
      "iCloudDrive path (icd_path): C:\\Users\\PC1\\iCloudDrive\\Data\n",
      "Obsidian path (osd_path): C:\\Users\\PC1\\OneDrive\\Documents\\obsidian-git-sync\\Data\n"
     ]
    }
   ],
   "source": [
    "print(\"User path:\", user_path)\n",
    "print(f\"Current path: {current_path}\")\n",
    "print(f\"Base path: {base_path}\")\n",
    "print(f\"Data path (dat_path): {dat_path}\") \n",
    "print(f\"Ruby path (ruby_path): {ruby_path}\") \n",
    "print(f\"Google Drive path (god_path): {god_path}\")\n",
    "print(f\"iCloudDrive path (icd_path): {icd_path}\") \n",
    "print(f\"Obsidian path (osd_path): {osd_path}\") "
   ]
  },
  {
   "cell_type": "markdown",
   "id": "e01955e8",
   "metadata": {},
   "source": [
    "## Must rerun whenever there is change in orders"
   ]
  },
  {
   "cell_type": "code",
   "execution_count": 10,
   "id": "d4b5fc44",
   "metadata": {},
   "outputs": [
    {
     "data": {
      "text/plain": [
       "(18, 8)"
      ]
     },
     "execution_count": 10,
     "metadata": {},
     "output_type": "execute_result"
    }
   ],
   "source": [
    "sql = \"\"\"\n",
    "SELECT trade, name, qty, price AS target, active, reason, market, xdate \n",
    "FROM orders\n",
    "ORDER BY trade, name\"\"\"\n",
    "orders = pd.read_sql(sql, conlite)\n",
    "orders.shape"
   ]
  },
  {
   "cell_type": "code",
   "execution_count": 11,
   "id": "d6b5b24c",
   "metadata": {},
   "outputs": [
    {
     "name": "stdout",
     "output_type": "stream",
     "text": [
      "Input file: C:\\Users\\PC1\\OneDrive\\A5\\Data\\Price-Today.csv\n"
     ]
    }
   ],
   "source": [
    "file_name = \"Price-Today.csv\"\n",
    "input_file = os.path.join(dat_path, file_name)\n",
    "print(f\"Input file: {input_file}\")"
   ]
  },
  {
   "cell_type": "code",
   "execution_count": 12,
   "id": "f9f6b3d9",
   "metadata": {},
   "outputs": [
    {
     "data": {
      "text/plain": [
       "(169, 10)"
      ]
     },
     "execution_count": 12,
     "metadata": {},
     "output_type": "execute_result"
    }
   ],
   "source": [
    "prices = pd.read_csv(input_file)\n",
    "prices.shape"
   ]
  },
  {
   "cell_type": "code",
   "execution_count": 13,
   "id": "5b436ae1",
   "metadata": {},
   "outputs": [
    {
     "data": {
      "text/plain": [
       "(18, 17)"
      ]
     },
     "execution_count": 13,
     "metadata": {},
     "output_type": "execute_result"
    }
   ],
   "source": [
    "df_merge  = pd.merge(orders, prices, on = 'name', how='inner')\n",
    "df_merge.shape"
   ]
  },
  {
   "cell_type": "code",
   "execution_count": 14,
   "id": "d160b65c",
   "metadata": {},
   "outputs": [],
   "source": [
    "df_merge['spd'] = 0"
   ]
  },
  {
   "cell_type": "code",
   "execution_count": 15,
   "id": "68bb6b33",
   "metadata": {
    "scrolled": true
   },
   "outputs": [
    {
     "data": {
      "text/plain": [
       "(18, 12)"
      ]
     },
     "execution_count": 15,
     "metadata": {},
     "output_type": "execute_result"
    }
   ],
   "source": [
    "colo = ['trade', 'name', 'spd', 'reason', 'market', 'qty', 'target', 'price', 'change', '%change',\n",
    "        'active', 'xdate']\n",
    "df_merge[colo].shape"
   ]
  },
  {
   "cell_type": "code",
   "execution_count": 16,
   "id": "278505f4-a620-4e01-beac-0a8a47df215a",
   "metadata": {},
   "outputs": [],
   "source": [
    "file_name = \"Price-for-Order.csv\"\n",
    "output_file = os.path.join(dat_path, file_name)\n",
    "god_file = os.path.join(god_path, file_name)\n",
    "icd_file = os.path.join(icd_path, file_name)\n",
    "osd_file = os.path.join(osd_path, file_name)"
   ]
  },
  {
   "cell_type": "code",
   "execution_count": 17,
   "id": "f92616e5-84fa-49a8-a66e-18adf0f9c4e0",
   "metadata": {},
   "outputs": [
    {
     "name": "stdout",
     "output_type": "stream",
     "text": [
      "Output file: C:\\Users\\PC1\\OneDrive\\A5\\Data\\Price-for-Order.csv\n",
      "icd_file : C:\\Users\\PC1\\iCloudDrive\\Data\\Price-for-Order.csv\n",
      "god_file : C:\\Users\\PC1\\OneDrive\\Imports\\santisoontarinka@gmail.com - Google Drive\\Data\\Price-for-Order.csv\n",
      "osd_file : C:\\Users\\PC1\\OneDrive\\Documents\\obsidian-git-sync\\Data\\Price-for-Order.csv\n"
     ]
    }
   ],
   "source": [
    "print(f\"Output file: {output_file}\") \n",
    "print(f\"icd_file : {icd_file}\") \n",
    "print(f\"god_file : {god_file}\") \n",
    "print(f\"osd_file : {osd_file}\") "
   ]
  },
  {
   "cell_type": "code",
   "execution_count": 18,
   "id": "95d6fd8b-b39f-47ad-9c34-188ee94095c4",
   "metadata": {},
   "outputs": [],
   "source": [
    "df_merge[colo].to_csv(output_file, header=True, index=False)\n",
    "df_merge[colo].to_csv(god_file, header=True, index=False)\n",
    "df_merge[colo].to_csv(icd_file, header=True, index=False)\n",
    "df_merge[colo].to_csv(osd_file, header=True, index=False)"
   ]
  },
  {
   "cell_type": "markdown",
   "id": "b6dc65ac",
   "metadata": {},
   "source": [
    "### call ruby ruby\\order-log-new.rb"
   ]
  },
  {
   "cell_type": "code",
   "execution_count": 20,
   "id": "e154c230",
   "metadata": {},
   "outputs": [
    {
     "data": {
      "text/plain": [
       "'C:\\\\Users\\\\PC1\\\\OneDrive\\\\A5\\\\Daily'"
      ]
     },
     "execution_count": 20,
     "metadata": {},
     "output_type": "execute_result"
    }
   ],
   "source": [
    "%pwd"
   ]
  },
  {
   "cell_type": "code",
   "execution_count": 21,
   "id": "14494371",
   "metadata": {},
   "outputs": [
    {
     "data": {
      "text/plain": [
       "'C:\\\\Users\\\\PC1\\\\OneDrive\\\\A5'"
      ]
     },
     "execution_count": 21,
     "metadata": {},
     "output_type": "execute_result"
    }
   ],
   "source": [
    "os.chdir(base_path)\n",
    "%pwd"
   ]
  },
  {
   "cell_type": "code",
   "execution_count": 22,
   "id": "055e6f72",
   "metadata": {},
   "outputs": [
    {
     "name": "stdout",
     "output_type": "stream",
     "text": [
      "trade,name,spd,reason,market,qty,target,current,change,%change,active,xdate\n",
      "B,AIMIRT,-14,RND15pct,SET,2500,9.1,9.8,0.1,1.030928,0,2025-08-19\n",
      "B,GVREIT,-6,RND20Pct,SET,6000,6.0,6.3,0.05,0.8,1,2025-08-27\n",
      "B,IVL,-26,CSSTGT,SET50,1800,20.6,23.2,-0.1,-0.429185,0,2025-08-27\n",
      "B,JMART,-45,RD80Pct,SET50,3200,8.0,10.5,0.4,3.960396,0,2025-05-09\n",
      "B,JMT,-22,RD75pct,SET50,2800,11.0,13.2,0.4,3.125,0,2025-08-26\n",
      "B,NER,-27,CSSMIN,SET,5000,4.0,4.54,0.0,0.0,0,2025-08-22\n",
      "B,ORI,-50,RD70Pct,SET100,10000,2.0,3.0,0.26,9.489051,0,2025-03-13\n",
      "B,RCL,4,RD35pct,SET100,3000,28.0,27.0,0.25,0.934579,1,2025-08-22\n",
      "B,TFFIF,-1,RD30Pct,SET,10000,6.0,6.05,0.1,1.680672,1,2025-08-28\n",
      "B,WHAIR,-14,RD50pct,SET,10000,4.9,5.5,0.0,0.0,0,2025-08-18\n",
      "S,CPF,3,,SET50,5000,23.4,23.1,-0.4,-1.702128,2,2022-08-29\n",
      "S,DIF,11,RD40Pct,SET,10000,9.3,8.75,0.15,1.744186,0,2025-08-15\n",
      "S,MCS,2,20Pct,SET,6000,8.75,8.65,0.0,0.0,1,2025-08-26\n",
      "S,PTG,45,COS,SET100,3600,11.4,8.4,-0.1,-1.176471,0,2025-03-10\n",
      "S,PTT,7,,SET50,2500,34.25,32.5,0.75,2.362205,1,2025-03-06\n",
      "S,SYNEX,14,RD70pct,SET,2500,13.9,12.5,0.3,2.459016,0,2025-08-26\n",
      "S,TVO,0,DTD,SET,4000,25.5,25.5,0.25,0.990099,1,2025-08-22\n",
      "S,WHART,8,RD30Pct,SET,5000,9.7,9.3,0.15,1.639344,1,2025-08-18\n"
     ]
    }
   ],
   "source": [
    "!ruby ruby\\\\order-log-new.rb"
   ]
  },
  {
   "cell_type": "code",
   "execution_count": 23,
   "id": "216be764",
   "metadata": {},
   "outputs": [
    {
     "data": {
      "text/plain": [
       "'C:\\\\Users\\\\PC1\\\\OneDrive\\\\A5\\\\Daily'"
      ]
     },
     "execution_count": 23,
     "metadata": {},
     "output_type": "execute_result"
    }
   ],
   "source": [
    "os.chdir(current_path)\n",
    "%pwd"
   ]
  },
  {
   "cell_type": "code",
   "execution_count": 24,
   "id": "6eaf15c2-8657-4ca4-bbda-2aaec4f7a582",
   "metadata": {},
   "outputs": [
    {
     "name": "stdout",
     "output_type": "stream",
     "text": [
      "Input file: C:\\Users\\PC1\\OneDrive\\A5\\Data\\orders-log.csv\n"
     ]
    }
   ],
   "source": [
    "file_name   = 'orders-log.csv'\n",
    "input_file = os.path.join(dat_path, file_name)\n",
    "print(f\"Input file: {input_file}\")"
   ]
  },
  {
   "cell_type": "code",
   "execution_count": 25,
   "id": "9a39e35e-9b35-4a61-b816-2e742adbe787",
   "metadata": {},
   "outputs": [
    {
     "data": {
      "text/html": [
       "<style type=\"text/css\">\n",
       "</style>\n",
       "<table id=\"T_6989b\">\n",
       "  <thead>\n",
       "    <tr>\n",
       "      <th id=\"T_6989b_level0_col0\" class=\"col_heading level0 col0\" >trade</th>\n",
       "      <th id=\"T_6989b_level0_col1\" class=\"col_heading level0 col1\" >name</th>\n",
       "      <th id=\"T_6989b_level0_col2\" class=\"col_heading level0 col2\" >spd</th>\n",
       "      <th id=\"T_6989b_level0_col3\" class=\"col_heading level0 col3\" >reason</th>\n",
       "      <th id=\"T_6989b_level0_col4\" class=\"col_heading level0 col4\" >market</th>\n",
       "      <th id=\"T_6989b_level0_col5\" class=\"col_heading level0 col5\" >qty</th>\n",
       "      <th id=\"T_6989b_level0_col6\" class=\"col_heading level0 col6\" >target</th>\n",
       "      <th id=\"T_6989b_level0_col7\" class=\"col_heading level0 col7\" >current</th>\n",
       "      <th id=\"T_6989b_level0_col8\" class=\"col_heading level0 col8\" >change</th>\n",
       "      <th id=\"T_6989b_level0_col9\" class=\"col_heading level0 col9\" >%change</th>\n",
       "      <th id=\"T_6989b_level0_col10\" class=\"col_heading level0 col10\" >active</th>\n",
       "      <th id=\"T_6989b_level0_col11\" class=\"col_heading level0 col11\" >xdate</th>\n",
       "      <th id=\"T_6989b_level0_col12\" class=\"col_heading level0 col12\" >amount</th>\n",
       "    </tr>\n",
       "  </thead>\n",
       "  <tbody>\n",
       "    <tr>\n",
       "      <td id=\"T_6989b_row0_col0\" class=\"data row0 col0\" >B</td>\n",
       "      <td id=\"T_6989b_row0_col1\" class=\"data row0 col1\" >TFFIF</td>\n",
       "      <td id=\"T_6989b_row0_col2\" class=\"data row0 col2\" >-1</td>\n",
       "      <td id=\"T_6989b_row0_col3\" class=\"data row0 col3\" >RD30Pct</td>\n",
       "      <td id=\"T_6989b_row0_col4\" class=\"data row0 col4\" >SET</td>\n",
       "      <td id=\"T_6989b_row0_col5\" class=\"data row0 col5\" >10,000</td>\n",
       "      <td id=\"T_6989b_row0_col6\" class=\"data row0 col6\" >6.00</td>\n",
       "      <td id=\"T_6989b_row0_col7\" class=\"data row0 col7\" >6.05</td>\n",
       "      <td id=\"T_6989b_row0_col8\" class=\"data row0 col8\" >0.10</td>\n",
       "      <td id=\"T_6989b_row0_col9\" class=\"data row0 col9\" >1.68%</td>\n",
       "      <td id=\"T_6989b_row0_col10\" class=\"data row0 col10\" >1</td>\n",
       "      <td id=\"T_6989b_row0_col11\" class=\"data row0 col11\" >2025-08-28</td>\n",
       "      <td id=\"T_6989b_row0_col12\" class=\"data row0 col12\" >60,000.00</td>\n",
       "    </tr>\n",
       "    <tr>\n",
       "      <td id=\"T_6989b_row1_col0\" class=\"data row1 col0\" >S</td>\n",
       "      <td id=\"T_6989b_row1_col1\" class=\"data row1 col1\" >CPF</td>\n",
       "      <td id=\"T_6989b_row1_col2\" class=\"data row1 col2\" >3</td>\n",
       "      <td id=\"T_6989b_row1_col3\" class=\"data row1 col3\" >nan</td>\n",
       "      <td id=\"T_6989b_row1_col4\" class=\"data row1 col4\" >SET50</td>\n",
       "      <td id=\"T_6989b_row1_col5\" class=\"data row1 col5\" >5,000</td>\n",
       "      <td id=\"T_6989b_row1_col6\" class=\"data row1 col6\" >23.40</td>\n",
       "      <td id=\"T_6989b_row1_col7\" class=\"data row1 col7\" >23.10</td>\n",
       "      <td id=\"T_6989b_row1_col8\" class=\"data row1 col8\" >-0.40</td>\n",
       "      <td id=\"T_6989b_row1_col9\" class=\"data row1 col9\" >-1.70%</td>\n",
       "      <td id=\"T_6989b_row1_col10\" class=\"data row1 col10\" >2</td>\n",
       "      <td id=\"T_6989b_row1_col11\" class=\"data row1 col11\" >2022-08-29</td>\n",
       "      <td id=\"T_6989b_row1_col12\" class=\"data row1 col12\" >117,000.00</td>\n",
       "    </tr>\n",
       "    <tr>\n",
       "      <td id=\"T_6989b_row2_col0\" class=\"data row2 col0\" >S</td>\n",
       "      <td id=\"T_6989b_row2_col1\" class=\"data row2 col1\" >MCS</td>\n",
       "      <td id=\"T_6989b_row2_col2\" class=\"data row2 col2\" >2</td>\n",
       "      <td id=\"T_6989b_row2_col3\" class=\"data row2 col3\" >20Pct</td>\n",
       "      <td id=\"T_6989b_row2_col4\" class=\"data row2 col4\" >SET</td>\n",
       "      <td id=\"T_6989b_row2_col5\" class=\"data row2 col5\" >6,000</td>\n",
       "      <td id=\"T_6989b_row2_col6\" class=\"data row2 col6\" >8.75</td>\n",
       "      <td id=\"T_6989b_row2_col7\" class=\"data row2 col7\" >8.65</td>\n",
       "      <td id=\"T_6989b_row2_col8\" class=\"data row2 col8\" >0.00</td>\n",
       "      <td id=\"T_6989b_row2_col9\" class=\"data row2 col9\" >0.00%</td>\n",
       "      <td id=\"T_6989b_row2_col10\" class=\"data row2 col10\" >1</td>\n",
       "      <td id=\"T_6989b_row2_col11\" class=\"data row2 col11\" >2025-08-26</td>\n",
       "      <td id=\"T_6989b_row2_col12\" class=\"data row2 col12\" >52,500.00</td>\n",
       "    </tr>\n",
       "    <tr>\n",
       "      <td id=\"T_6989b_row3_col0\" class=\"data row3 col0\" >S</td>\n",
       "      <td id=\"T_6989b_row3_col1\" class=\"data row3 col1\" >TVO</td>\n",
       "      <td id=\"T_6989b_row3_col2\" class=\"data row3 col2\" >0</td>\n",
       "      <td id=\"T_6989b_row3_col3\" class=\"data row3 col3\" >DTD</td>\n",
       "      <td id=\"T_6989b_row3_col4\" class=\"data row3 col4\" >SET</td>\n",
       "      <td id=\"T_6989b_row3_col5\" class=\"data row3 col5\" >4,000</td>\n",
       "      <td id=\"T_6989b_row3_col6\" class=\"data row3 col6\" >25.50</td>\n",
       "      <td id=\"T_6989b_row3_col7\" class=\"data row3 col7\" >25.50</td>\n",
       "      <td id=\"T_6989b_row3_col8\" class=\"data row3 col8\" >0.25</td>\n",
       "      <td id=\"T_6989b_row3_col9\" class=\"data row3 col9\" >0.99%</td>\n",
       "      <td id=\"T_6989b_row3_col10\" class=\"data row3 col10\" >1</td>\n",
       "      <td id=\"T_6989b_row3_col11\" class=\"data row3 col11\" >2025-08-22</td>\n",
       "      <td id=\"T_6989b_row3_col12\" class=\"data row3 col12\" >102,000.00</td>\n",
       "    </tr>\n",
       "  </tbody>\n",
       "</table>\n"
      ],
      "text/plain": [
       "<pandas.io.formats.style.Styler at 0x21a93a6acc0>"
      ]
     },
     "execution_count": 25,
     "metadata": {},
     "output_type": "execute_result"
    }
   ],
   "source": [
    "df = pd.read_csv(input_file, sep=',', index_col=None)\n",
    "df['amount'] = df['qty'] * df['target']\n",
    "df.query('spd >= -3 and spd <= 3').style.format(format_dict).hide(axis=\"index\")"
   ]
  },
  {
   "cell_type": "code",
   "execution_count": 26,
   "id": "e63f55ba",
   "metadata": {},
   "outputs": [
    {
     "data": {
      "text/html": [
       "<div>\n",
       "<style scoped>\n",
       "    .dataframe tbody tr th:only-of-type {\n",
       "        vertical-align: middle;\n",
       "    }\n",
       "\n",
       "    .dataframe tbody tr th {\n",
       "        vertical-align: top;\n",
       "    }\n",
       "\n",
       "    .dataframe thead th {\n",
       "        text-align: right;\n",
       "    }\n",
       "</style>\n",
       "<table border=\"1\" class=\"dataframe\">\n",
       "  <thead>\n",
       "    <tr style=\"text-align: right;\">\n",
       "      <th></th>\n",
       "      <th>trade</th>\n",
       "      <th>name</th>\n",
       "      <th>spd</th>\n",
       "      <th>reason</th>\n",
       "      <th>market</th>\n",
       "      <th>qty</th>\n",
       "      <th>target</th>\n",
       "      <th>current</th>\n",
       "      <th>change</th>\n",
       "      <th>%change</th>\n",
       "      <th>active</th>\n",
       "      <th>xdate</th>\n",
       "      <th>amount</th>\n",
       "    </tr>\n",
       "  </thead>\n",
       "  <tbody>\n",
       "    <tr>\n",
       "      <th>10</th>\n",
       "      <td>S</td>\n",
       "      <td>CPF</td>\n",
       "      <td>3</td>\n",
       "      <td>NaN</td>\n",
       "      <td>SET50</td>\n",
       "      <td>5000</td>\n",
       "      <td>23.40</td>\n",
       "      <td>23.10</td>\n",
       "      <td>-0.40</td>\n",
       "      <td>-1.70</td>\n",
       "      <td>2</td>\n",
       "      <td>2022-08-29</td>\n",
       "      <td>117000.00</td>\n",
       "    </tr>\n",
       "  </tbody>\n",
       "</table>\n",
       "</div>"
      ],
      "text/plain": [
       "   trade name  spd reason market   qty  target  current  change  %change  \\\n",
       "10     S  CPF    3    NaN  SET50  5000   23.40    23.10   -0.40    -1.70   \n",
       "\n",
       "    active       xdate    amount  \n",
       "10       2  2022-08-29 117000.00  "
      ]
     },
     "execution_count": 26,
     "metadata": {},
     "output_type": "execute_result"
    }
   ],
   "source": [
    "df.query('active == 2')"
   ]
  },
  {
   "cell_type": "code",
   "execution_count": 27,
   "id": "5b2278ad",
   "metadata": {
    "scrolled": true
   },
   "outputs": [
    {
     "data": {
      "text/html": [
       "<style type=\"text/css\">\n",
       "</style>\n",
       "<table id=\"T_443a3\">\n",
       "  <thead>\n",
       "    <tr>\n",
       "      <th id=\"T_443a3_level0_col0\" class=\"col_heading level0 col0\" >trade</th>\n",
       "      <th id=\"T_443a3_level0_col1\" class=\"col_heading level0 col1\" >name</th>\n",
       "      <th id=\"T_443a3_level0_col2\" class=\"col_heading level0 col2\" >spd</th>\n",
       "      <th id=\"T_443a3_level0_col3\" class=\"col_heading level0 col3\" >reason</th>\n",
       "      <th id=\"T_443a3_level0_col4\" class=\"col_heading level0 col4\" >market</th>\n",
       "      <th id=\"T_443a3_level0_col5\" class=\"col_heading level0 col5\" >qty</th>\n",
       "      <th id=\"T_443a3_level0_col6\" class=\"col_heading level0 col6\" >target</th>\n",
       "      <th id=\"T_443a3_level0_col7\" class=\"col_heading level0 col7\" >current</th>\n",
       "      <th id=\"T_443a3_level0_col8\" class=\"col_heading level0 col8\" >change</th>\n",
       "      <th id=\"T_443a3_level0_col9\" class=\"col_heading level0 col9\" >%change</th>\n",
       "      <th id=\"T_443a3_level0_col10\" class=\"col_heading level0 col10\" >active</th>\n",
       "      <th id=\"T_443a3_level0_col11\" class=\"col_heading level0 col11\" >xdate</th>\n",
       "      <th id=\"T_443a3_level0_col12\" class=\"col_heading level0 col12\" >amount</th>\n",
       "    </tr>\n",
       "  </thead>\n",
       "  <tbody>\n",
       "    <tr>\n",
       "      <td id=\"T_443a3_row0_col0\" class=\"data row0 col0\" >B</td>\n",
       "      <td id=\"T_443a3_row0_col1\" class=\"data row0 col1\" >GVREIT</td>\n",
       "      <td id=\"T_443a3_row0_col2\" class=\"data row0 col2\" >-6</td>\n",
       "      <td id=\"T_443a3_row0_col3\" class=\"data row0 col3\" >RND20Pct</td>\n",
       "      <td id=\"T_443a3_row0_col4\" class=\"data row0 col4\" >SET</td>\n",
       "      <td id=\"T_443a3_row0_col5\" class=\"data row0 col5\" >6,000</td>\n",
       "      <td id=\"T_443a3_row0_col6\" class=\"data row0 col6\" >6.00</td>\n",
       "      <td id=\"T_443a3_row0_col7\" class=\"data row0 col7\" >6.30</td>\n",
       "      <td id=\"T_443a3_row0_col8\" class=\"data row0 col8\" >0.05</td>\n",
       "      <td id=\"T_443a3_row0_col9\" class=\"data row0 col9\" >0.80%</td>\n",
       "      <td id=\"T_443a3_row0_col10\" class=\"data row0 col10\" >1</td>\n",
       "      <td id=\"T_443a3_row0_col11\" class=\"data row0 col11\" >2025-08-27</td>\n",
       "      <td id=\"T_443a3_row0_col12\" class=\"data row0 col12\" >36,000.00</td>\n",
       "    </tr>\n",
       "    <tr>\n",
       "      <td id=\"T_443a3_row1_col0\" class=\"data row1 col0\" >B</td>\n",
       "      <td id=\"T_443a3_row1_col1\" class=\"data row1 col1\" >RCL</td>\n",
       "      <td id=\"T_443a3_row1_col2\" class=\"data row1 col2\" >4</td>\n",
       "      <td id=\"T_443a3_row1_col3\" class=\"data row1 col3\" >RD35pct</td>\n",
       "      <td id=\"T_443a3_row1_col4\" class=\"data row1 col4\" >SET100</td>\n",
       "      <td id=\"T_443a3_row1_col5\" class=\"data row1 col5\" >3,000</td>\n",
       "      <td id=\"T_443a3_row1_col6\" class=\"data row1 col6\" >28.00</td>\n",
       "      <td id=\"T_443a3_row1_col7\" class=\"data row1 col7\" >27.00</td>\n",
       "      <td id=\"T_443a3_row1_col8\" class=\"data row1 col8\" >0.25</td>\n",
       "      <td id=\"T_443a3_row1_col9\" class=\"data row1 col9\" >0.93%</td>\n",
       "      <td id=\"T_443a3_row1_col10\" class=\"data row1 col10\" >1</td>\n",
       "      <td id=\"T_443a3_row1_col11\" class=\"data row1 col11\" >2025-08-22</td>\n",
       "      <td id=\"T_443a3_row1_col12\" class=\"data row1 col12\" >84,000.00</td>\n",
       "    </tr>\n",
       "    <tr>\n",
       "      <td id=\"T_443a3_row2_col0\" class=\"data row2 col0\" >B</td>\n",
       "      <td id=\"T_443a3_row2_col1\" class=\"data row2 col1\" >TFFIF</td>\n",
       "      <td id=\"T_443a3_row2_col2\" class=\"data row2 col2\" >-1</td>\n",
       "      <td id=\"T_443a3_row2_col3\" class=\"data row2 col3\" >RD30Pct</td>\n",
       "      <td id=\"T_443a3_row2_col4\" class=\"data row2 col4\" >SET</td>\n",
       "      <td id=\"T_443a3_row2_col5\" class=\"data row2 col5\" >10,000</td>\n",
       "      <td id=\"T_443a3_row2_col6\" class=\"data row2 col6\" >6.00</td>\n",
       "      <td id=\"T_443a3_row2_col7\" class=\"data row2 col7\" >6.05</td>\n",
       "      <td id=\"T_443a3_row2_col8\" class=\"data row2 col8\" >0.10</td>\n",
       "      <td id=\"T_443a3_row2_col9\" class=\"data row2 col9\" >1.68%</td>\n",
       "      <td id=\"T_443a3_row2_col10\" class=\"data row2 col10\" >1</td>\n",
       "      <td id=\"T_443a3_row2_col11\" class=\"data row2 col11\" >2025-08-28</td>\n",
       "      <td id=\"T_443a3_row2_col12\" class=\"data row2 col12\" >60,000.00</td>\n",
       "    </tr>\n",
       "    <tr>\n",
       "      <td id=\"T_443a3_row3_col0\" class=\"data row3 col0\" >S</td>\n",
       "      <td id=\"T_443a3_row3_col1\" class=\"data row3 col1\" >MCS</td>\n",
       "      <td id=\"T_443a3_row3_col2\" class=\"data row3 col2\" >2</td>\n",
       "      <td id=\"T_443a3_row3_col3\" class=\"data row3 col3\" >20Pct</td>\n",
       "      <td id=\"T_443a3_row3_col4\" class=\"data row3 col4\" >SET</td>\n",
       "      <td id=\"T_443a3_row3_col5\" class=\"data row3 col5\" >6,000</td>\n",
       "      <td id=\"T_443a3_row3_col6\" class=\"data row3 col6\" >8.75</td>\n",
       "      <td id=\"T_443a3_row3_col7\" class=\"data row3 col7\" >8.65</td>\n",
       "      <td id=\"T_443a3_row3_col8\" class=\"data row3 col8\" >0.00</td>\n",
       "      <td id=\"T_443a3_row3_col9\" class=\"data row3 col9\" >0.00%</td>\n",
       "      <td id=\"T_443a3_row3_col10\" class=\"data row3 col10\" >1</td>\n",
       "      <td id=\"T_443a3_row3_col11\" class=\"data row3 col11\" >2025-08-26</td>\n",
       "      <td id=\"T_443a3_row3_col12\" class=\"data row3 col12\" >52,500.00</td>\n",
       "    </tr>\n",
       "    <tr>\n",
       "      <td id=\"T_443a3_row4_col0\" class=\"data row4 col0\" >S</td>\n",
       "      <td id=\"T_443a3_row4_col1\" class=\"data row4 col1\" >PTT</td>\n",
       "      <td id=\"T_443a3_row4_col2\" class=\"data row4 col2\" >7</td>\n",
       "      <td id=\"T_443a3_row4_col3\" class=\"data row4 col3\" >nan</td>\n",
       "      <td id=\"T_443a3_row4_col4\" class=\"data row4 col4\" >SET50</td>\n",
       "      <td id=\"T_443a3_row4_col5\" class=\"data row4 col5\" >2,500</td>\n",
       "      <td id=\"T_443a3_row4_col6\" class=\"data row4 col6\" >34.25</td>\n",
       "      <td id=\"T_443a3_row4_col7\" class=\"data row4 col7\" >32.50</td>\n",
       "      <td id=\"T_443a3_row4_col8\" class=\"data row4 col8\" >0.75</td>\n",
       "      <td id=\"T_443a3_row4_col9\" class=\"data row4 col9\" >2.36%</td>\n",
       "      <td id=\"T_443a3_row4_col10\" class=\"data row4 col10\" >1</td>\n",
       "      <td id=\"T_443a3_row4_col11\" class=\"data row4 col11\" >2025-03-06</td>\n",
       "      <td id=\"T_443a3_row4_col12\" class=\"data row4 col12\" >85,625.00</td>\n",
       "    </tr>\n",
       "    <tr>\n",
       "      <td id=\"T_443a3_row5_col0\" class=\"data row5 col0\" >S</td>\n",
       "      <td id=\"T_443a3_row5_col1\" class=\"data row5 col1\" >TVO</td>\n",
       "      <td id=\"T_443a3_row5_col2\" class=\"data row5 col2\" >0</td>\n",
       "      <td id=\"T_443a3_row5_col3\" class=\"data row5 col3\" >DTD</td>\n",
       "      <td id=\"T_443a3_row5_col4\" class=\"data row5 col4\" >SET</td>\n",
       "      <td id=\"T_443a3_row5_col5\" class=\"data row5 col5\" >4,000</td>\n",
       "      <td id=\"T_443a3_row5_col6\" class=\"data row5 col6\" >25.50</td>\n",
       "      <td id=\"T_443a3_row5_col7\" class=\"data row5 col7\" >25.50</td>\n",
       "      <td id=\"T_443a3_row5_col8\" class=\"data row5 col8\" >0.25</td>\n",
       "      <td id=\"T_443a3_row5_col9\" class=\"data row5 col9\" >0.99%</td>\n",
       "      <td id=\"T_443a3_row5_col10\" class=\"data row5 col10\" >1</td>\n",
       "      <td id=\"T_443a3_row5_col11\" class=\"data row5 col11\" >2025-08-22</td>\n",
       "      <td id=\"T_443a3_row5_col12\" class=\"data row5 col12\" >102,000.00</td>\n",
       "    </tr>\n",
       "    <tr>\n",
       "      <td id=\"T_443a3_row6_col0\" class=\"data row6 col0\" >S</td>\n",
       "      <td id=\"T_443a3_row6_col1\" class=\"data row6 col1\" >WHART</td>\n",
       "      <td id=\"T_443a3_row6_col2\" class=\"data row6 col2\" >8</td>\n",
       "      <td id=\"T_443a3_row6_col3\" class=\"data row6 col3\" >RD30Pct</td>\n",
       "      <td id=\"T_443a3_row6_col4\" class=\"data row6 col4\" >SET</td>\n",
       "      <td id=\"T_443a3_row6_col5\" class=\"data row6 col5\" >5,000</td>\n",
       "      <td id=\"T_443a3_row6_col6\" class=\"data row6 col6\" >9.70</td>\n",
       "      <td id=\"T_443a3_row6_col7\" class=\"data row6 col7\" >9.30</td>\n",
       "      <td id=\"T_443a3_row6_col8\" class=\"data row6 col8\" >0.15</td>\n",
       "      <td id=\"T_443a3_row6_col9\" class=\"data row6 col9\" >1.64%</td>\n",
       "      <td id=\"T_443a3_row6_col10\" class=\"data row6 col10\" >1</td>\n",
       "      <td id=\"T_443a3_row6_col11\" class=\"data row6 col11\" >2025-08-18</td>\n",
       "      <td id=\"T_443a3_row6_col12\" class=\"data row6 col12\" >48,500.00</td>\n",
       "    </tr>\n",
       "  </tbody>\n",
       "</table>\n"
      ],
      "text/plain": [
       "<pandas.io.formats.style.Styler at 0x21a93eefa10>"
      ]
     },
     "execution_count": 27,
     "metadata": {},
     "output_type": "execute_result"
    }
   ],
   "source": [
    "df.query('active == 1').style.format(format_dict).hide(axis=\"index\")"
   ]
  },
  {
   "cell_type": "code",
   "execution_count": 28,
   "id": "0afee87f",
   "metadata": {},
   "outputs": [
    {
     "data": {
      "text/html": [
       "<style type=\"text/css\">\n",
       "</style>\n",
       "<table id=\"T_a49e3\">\n",
       "  <thead>\n",
       "    <tr>\n",
       "      <th id=\"T_a49e3_level0_col0\" class=\"col_heading level0 col0\" >trade</th>\n",
       "      <th id=\"T_a49e3_level0_col1\" class=\"col_heading level0 col1\" >name</th>\n",
       "      <th id=\"T_a49e3_level0_col2\" class=\"col_heading level0 col2\" >spd</th>\n",
       "      <th id=\"T_a49e3_level0_col3\" class=\"col_heading level0 col3\" >reason</th>\n",
       "      <th id=\"T_a49e3_level0_col4\" class=\"col_heading level0 col4\" >market</th>\n",
       "      <th id=\"T_a49e3_level0_col5\" class=\"col_heading level0 col5\" >qty</th>\n",
       "      <th id=\"T_a49e3_level0_col6\" class=\"col_heading level0 col6\" >target</th>\n",
       "      <th id=\"T_a49e3_level0_col7\" class=\"col_heading level0 col7\" >current</th>\n",
       "      <th id=\"T_a49e3_level0_col8\" class=\"col_heading level0 col8\" >change</th>\n",
       "      <th id=\"T_a49e3_level0_col9\" class=\"col_heading level0 col9\" >%change</th>\n",
       "      <th id=\"T_a49e3_level0_col10\" class=\"col_heading level0 col10\" >active</th>\n",
       "      <th id=\"T_a49e3_level0_col11\" class=\"col_heading level0 col11\" >xdate</th>\n",
       "      <th id=\"T_a49e3_level0_col12\" class=\"col_heading level0 col12\" >amount</th>\n",
       "    </tr>\n",
       "  </thead>\n",
       "  <tbody>\n",
       "    <tr>\n",
       "      <td id=\"T_a49e3_row0_col0\" class=\"data row0 col0\" >B</td>\n",
       "      <td id=\"T_a49e3_row0_col1\" class=\"data row0 col1\" >AIMIRT</td>\n",
       "      <td id=\"T_a49e3_row0_col2\" class=\"data row0 col2\" >-14</td>\n",
       "      <td id=\"T_a49e3_row0_col3\" class=\"data row0 col3\" >RND15pct</td>\n",
       "      <td id=\"T_a49e3_row0_col4\" class=\"data row0 col4\" >SET</td>\n",
       "      <td id=\"T_a49e3_row0_col5\" class=\"data row0 col5\" >2,500</td>\n",
       "      <td id=\"T_a49e3_row0_col6\" class=\"data row0 col6\" >9.10</td>\n",
       "      <td id=\"T_a49e3_row0_col7\" class=\"data row0 col7\" >9.80</td>\n",
       "      <td id=\"T_a49e3_row0_col8\" class=\"data row0 col8\" >0.10</td>\n",
       "      <td id=\"T_a49e3_row0_col9\" class=\"data row0 col9\" >1.03%</td>\n",
       "      <td id=\"T_a49e3_row0_col10\" class=\"data row0 col10\" >0</td>\n",
       "      <td id=\"T_a49e3_row0_col11\" class=\"data row0 col11\" >2025-08-19</td>\n",
       "      <td id=\"T_a49e3_row0_col12\" class=\"data row0 col12\" >22,750.00</td>\n",
       "    </tr>\n",
       "    <tr>\n",
       "      <td id=\"T_a49e3_row1_col0\" class=\"data row1 col0\" >B</td>\n",
       "      <td id=\"T_a49e3_row1_col1\" class=\"data row1 col1\" >IVL</td>\n",
       "      <td id=\"T_a49e3_row1_col2\" class=\"data row1 col2\" >-26</td>\n",
       "      <td id=\"T_a49e3_row1_col3\" class=\"data row1 col3\" >CSSTGT</td>\n",
       "      <td id=\"T_a49e3_row1_col4\" class=\"data row1 col4\" >SET50</td>\n",
       "      <td id=\"T_a49e3_row1_col5\" class=\"data row1 col5\" >1,800</td>\n",
       "      <td id=\"T_a49e3_row1_col6\" class=\"data row1 col6\" >20.60</td>\n",
       "      <td id=\"T_a49e3_row1_col7\" class=\"data row1 col7\" >23.20</td>\n",
       "      <td id=\"T_a49e3_row1_col8\" class=\"data row1 col8\" >-0.10</td>\n",
       "      <td id=\"T_a49e3_row1_col9\" class=\"data row1 col9\" >-0.43%</td>\n",
       "      <td id=\"T_a49e3_row1_col10\" class=\"data row1 col10\" >0</td>\n",
       "      <td id=\"T_a49e3_row1_col11\" class=\"data row1 col11\" >2025-08-27</td>\n",
       "      <td id=\"T_a49e3_row1_col12\" class=\"data row1 col12\" >37,080.00</td>\n",
       "    </tr>\n",
       "    <tr>\n",
       "      <td id=\"T_a49e3_row2_col0\" class=\"data row2 col0\" >B</td>\n",
       "      <td id=\"T_a49e3_row2_col1\" class=\"data row2 col1\" >JMART</td>\n",
       "      <td id=\"T_a49e3_row2_col2\" class=\"data row2 col2\" >-45</td>\n",
       "      <td id=\"T_a49e3_row2_col3\" class=\"data row2 col3\" >RD80Pct</td>\n",
       "      <td id=\"T_a49e3_row2_col4\" class=\"data row2 col4\" >SET50</td>\n",
       "      <td id=\"T_a49e3_row2_col5\" class=\"data row2 col5\" >3,200</td>\n",
       "      <td id=\"T_a49e3_row2_col6\" class=\"data row2 col6\" >8.00</td>\n",
       "      <td id=\"T_a49e3_row2_col7\" class=\"data row2 col7\" >10.50</td>\n",
       "      <td id=\"T_a49e3_row2_col8\" class=\"data row2 col8\" >0.40</td>\n",
       "      <td id=\"T_a49e3_row2_col9\" class=\"data row2 col9\" >3.96%</td>\n",
       "      <td id=\"T_a49e3_row2_col10\" class=\"data row2 col10\" >0</td>\n",
       "      <td id=\"T_a49e3_row2_col11\" class=\"data row2 col11\" >2025-05-09</td>\n",
       "      <td id=\"T_a49e3_row2_col12\" class=\"data row2 col12\" >25,600.00</td>\n",
       "    </tr>\n",
       "    <tr>\n",
       "      <td id=\"T_a49e3_row3_col0\" class=\"data row3 col0\" >B</td>\n",
       "      <td id=\"T_a49e3_row3_col1\" class=\"data row3 col1\" >JMT</td>\n",
       "      <td id=\"T_a49e3_row3_col2\" class=\"data row3 col2\" >-22</td>\n",
       "      <td id=\"T_a49e3_row3_col3\" class=\"data row3 col3\" >RD75pct</td>\n",
       "      <td id=\"T_a49e3_row3_col4\" class=\"data row3 col4\" >SET50</td>\n",
       "      <td id=\"T_a49e3_row3_col5\" class=\"data row3 col5\" >2,800</td>\n",
       "      <td id=\"T_a49e3_row3_col6\" class=\"data row3 col6\" >11.00</td>\n",
       "      <td id=\"T_a49e3_row3_col7\" class=\"data row3 col7\" >13.20</td>\n",
       "      <td id=\"T_a49e3_row3_col8\" class=\"data row3 col8\" >0.40</td>\n",
       "      <td id=\"T_a49e3_row3_col9\" class=\"data row3 col9\" >3.12%</td>\n",
       "      <td id=\"T_a49e3_row3_col10\" class=\"data row3 col10\" >0</td>\n",
       "      <td id=\"T_a49e3_row3_col11\" class=\"data row3 col11\" >2025-08-26</td>\n",
       "      <td id=\"T_a49e3_row3_col12\" class=\"data row3 col12\" >30,800.00</td>\n",
       "    </tr>\n",
       "    <tr>\n",
       "      <td id=\"T_a49e3_row4_col0\" class=\"data row4 col0\" >B</td>\n",
       "      <td id=\"T_a49e3_row4_col1\" class=\"data row4 col1\" >NER</td>\n",
       "      <td id=\"T_a49e3_row4_col2\" class=\"data row4 col2\" >-27</td>\n",
       "      <td id=\"T_a49e3_row4_col3\" class=\"data row4 col3\" >CSSMIN</td>\n",
       "      <td id=\"T_a49e3_row4_col4\" class=\"data row4 col4\" >SET</td>\n",
       "      <td id=\"T_a49e3_row4_col5\" class=\"data row4 col5\" >5,000</td>\n",
       "      <td id=\"T_a49e3_row4_col6\" class=\"data row4 col6\" >4.00</td>\n",
       "      <td id=\"T_a49e3_row4_col7\" class=\"data row4 col7\" >4.54</td>\n",
       "      <td id=\"T_a49e3_row4_col8\" class=\"data row4 col8\" >0.00</td>\n",
       "      <td id=\"T_a49e3_row4_col9\" class=\"data row4 col9\" >0.00%</td>\n",
       "      <td id=\"T_a49e3_row4_col10\" class=\"data row4 col10\" >0</td>\n",
       "      <td id=\"T_a49e3_row4_col11\" class=\"data row4 col11\" >2025-08-22</td>\n",
       "      <td id=\"T_a49e3_row4_col12\" class=\"data row4 col12\" >20,000.00</td>\n",
       "    </tr>\n",
       "    <tr>\n",
       "      <td id=\"T_a49e3_row5_col0\" class=\"data row5 col0\" >B</td>\n",
       "      <td id=\"T_a49e3_row5_col1\" class=\"data row5 col1\" >ORI</td>\n",
       "      <td id=\"T_a49e3_row5_col2\" class=\"data row5 col2\" >-50</td>\n",
       "      <td id=\"T_a49e3_row5_col3\" class=\"data row5 col3\" >RD70Pct</td>\n",
       "      <td id=\"T_a49e3_row5_col4\" class=\"data row5 col4\" >SET100</td>\n",
       "      <td id=\"T_a49e3_row5_col5\" class=\"data row5 col5\" >10,000</td>\n",
       "      <td id=\"T_a49e3_row5_col6\" class=\"data row5 col6\" >2.00</td>\n",
       "      <td id=\"T_a49e3_row5_col7\" class=\"data row5 col7\" >3.00</td>\n",
       "      <td id=\"T_a49e3_row5_col8\" class=\"data row5 col8\" >0.26</td>\n",
       "      <td id=\"T_a49e3_row5_col9\" class=\"data row5 col9\" >9.49%</td>\n",
       "      <td id=\"T_a49e3_row5_col10\" class=\"data row5 col10\" >0</td>\n",
       "      <td id=\"T_a49e3_row5_col11\" class=\"data row5 col11\" >2025-03-13</td>\n",
       "      <td id=\"T_a49e3_row5_col12\" class=\"data row5 col12\" >20,000.00</td>\n",
       "    </tr>\n",
       "    <tr>\n",
       "      <td id=\"T_a49e3_row6_col0\" class=\"data row6 col0\" >B</td>\n",
       "      <td id=\"T_a49e3_row6_col1\" class=\"data row6 col1\" >WHAIR</td>\n",
       "      <td id=\"T_a49e3_row6_col2\" class=\"data row6 col2\" >-14</td>\n",
       "      <td id=\"T_a49e3_row6_col3\" class=\"data row6 col3\" >RD50pct</td>\n",
       "      <td id=\"T_a49e3_row6_col4\" class=\"data row6 col4\" >SET</td>\n",
       "      <td id=\"T_a49e3_row6_col5\" class=\"data row6 col5\" >10,000</td>\n",
       "      <td id=\"T_a49e3_row6_col6\" class=\"data row6 col6\" >4.90</td>\n",
       "      <td id=\"T_a49e3_row6_col7\" class=\"data row6 col7\" >5.50</td>\n",
       "      <td id=\"T_a49e3_row6_col8\" class=\"data row6 col8\" >0.00</td>\n",
       "      <td id=\"T_a49e3_row6_col9\" class=\"data row6 col9\" >0.00%</td>\n",
       "      <td id=\"T_a49e3_row6_col10\" class=\"data row6 col10\" >0</td>\n",
       "      <td id=\"T_a49e3_row6_col11\" class=\"data row6 col11\" >2025-08-18</td>\n",
       "      <td id=\"T_a49e3_row6_col12\" class=\"data row6 col12\" >49,000.00</td>\n",
       "    </tr>\n",
       "    <tr>\n",
       "      <td id=\"T_a49e3_row7_col0\" class=\"data row7 col0\" >S</td>\n",
       "      <td id=\"T_a49e3_row7_col1\" class=\"data row7 col1\" >DIF</td>\n",
       "      <td id=\"T_a49e3_row7_col2\" class=\"data row7 col2\" >11</td>\n",
       "      <td id=\"T_a49e3_row7_col3\" class=\"data row7 col3\" >RD40Pct</td>\n",
       "      <td id=\"T_a49e3_row7_col4\" class=\"data row7 col4\" >SET</td>\n",
       "      <td id=\"T_a49e3_row7_col5\" class=\"data row7 col5\" >10,000</td>\n",
       "      <td id=\"T_a49e3_row7_col6\" class=\"data row7 col6\" >9.30</td>\n",
       "      <td id=\"T_a49e3_row7_col7\" class=\"data row7 col7\" >8.75</td>\n",
       "      <td id=\"T_a49e3_row7_col8\" class=\"data row7 col8\" >0.15</td>\n",
       "      <td id=\"T_a49e3_row7_col9\" class=\"data row7 col9\" >1.74%</td>\n",
       "      <td id=\"T_a49e3_row7_col10\" class=\"data row7 col10\" >0</td>\n",
       "      <td id=\"T_a49e3_row7_col11\" class=\"data row7 col11\" >2025-08-15</td>\n",
       "      <td id=\"T_a49e3_row7_col12\" class=\"data row7 col12\" >93,000.00</td>\n",
       "    </tr>\n",
       "    <tr>\n",
       "      <td id=\"T_a49e3_row8_col0\" class=\"data row8 col0\" >S</td>\n",
       "      <td id=\"T_a49e3_row8_col1\" class=\"data row8 col1\" >PTG</td>\n",
       "      <td id=\"T_a49e3_row8_col2\" class=\"data row8 col2\" >45</td>\n",
       "      <td id=\"T_a49e3_row8_col3\" class=\"data row8 col3\" >COS</td>\n",
       "      <td id=\"T_a49e3_row8_col4\" class=\"data row8 col4\" >SET100</td>\n",
       "      <td id=\"T_a49e3_row8_col5\" class=\"data row8 col5\" >3,600</td>\n",
       "      <td id=\"T_a49e3_row8_col6\" class=\"data row8 col6\" >11.40</td>\n",
       "      <td id=\"T_a49e3_row8_col7\" class=\"data row8 col7\" >8.40</td>\n",
       "      <td id=\"T_a49e3_row8_col8\" class=\"data row8 col8\" >-0.10</td>\n",
       "      <td id=\"T_a49e3_row8_col9\" class=\"data row8 col9\" >-1.18%</td>\n",
       "      <td id=\"T_a49e3_row8_col10\" class=\"data row8 col10\" >0</td>\n",
       "      <td id=\"T_a49e3_row8_col11\" class=\"data row8 col11\" >2025-03-10</td>\n",
       "      <td id=\"T_a49e3_row8_col12\" class=\"data row8 col12\" >41,040.00</td>\n",
       "    </tr>\n",
       "    <tr>\n",
       "      <td id=\"T_a49e3_row9_col0\" class=\"data row9 col0\" >S</td>\n",
       "      <td id=\"T_a49e3_row9_col1\" class=\"data row9 col1\" >SYNEX</td>\n",
       "      <td id=\"T_a49e3_row9_col2\" class=\"data row9 col2\" >14</td>\n",
       "      <td id=\"T_a49e3_row9_col3\" class=\"data row9 col3\" >RD70pct</td>\n",
       "      <td id=\"T_a49e3_row9_col4\" class=\"data row9 col4\" >SET</td>\n",
       "      <td id=\"T_a49e3_row9_col5\" class=\"data row9 col5\" >2,500</td>\n",
       "      <td id=\"T_a49e3_row9_col6\" class=\"data row9 col6\" >13.90</td>\n",
       "      <td id=\"T_a49e3_row9_col7\" class=\"data row9 col7\" >12.50</td>\n",
       "      <td id=\"T_a49e3_row9_col8\" class=\"data row9 col8\" >0.30</td>\n",
       "      <td id=\"T_a49e3_row9_col9\" class=\"data row9 col9\" >2.46%</td>\n",
       "      <td id=\"T_a49e3_row9_col10\" class=\"data row9 col10\" >0</td>\n",
       "      <td id=\"T_a49e3_row9_col11\" class=\"data row9 col11\" >2025-08-26</td>\n",
       "      <td id=\"T_a49e3_row9_col12\" class=\"data row9 col12\" >34,750.00</td>\n",
       "    </tr>\n",
       "  </tbody>\n",
       "</table>\n"
      ],
      "text/plain": [
       "<pandas.io.formats.style.Styler at 0x21a93f20aa0>"
      ]
     },
     "execution_count": 28,
     "metadata": {},
     "output_type": "execute_result"
    }
   ],
   "source": [
    "df.query('active == 0').style.format(format_dict).hide(axis=\"index\")"
   ]
  },
  {
   "cell_type": "code",
   "execution_count": 29,
   "id": "007e8bae",
   "metadata": {
    "scrolled": true
   },
   "outputs": [
    {
     "data": {
      "text/html": [
       "<style type=\"text/css\">\n",
       "</style>\n",
       "<table id=\"T_ea429\">\n",
       "  <thead>\n",
       "    <tr>\n",
       "      <th id=\"T_ea429_level0_col0\" class=\"col_heading level0 col0\" >trade</th>\n",
       "      <th id=\"T_ea429_level0_col1\" class=\"col_heading level0 col1\" >name</th>\n",
       "      <th id=\"T_ea429_level0_col2\" class=\"col_heading level0 col2\" >spd</th>\n",
       "      <th id=\"T_ea429_level0_col3\" class=\"col_heading level0 col3\" >reason</th>\n",
       "      <th id=\"T_ea429_level0_col4\" class=\"col_heading level0 col4\" >market</th>\n",
       "      <th id=\"T_ea429_level0_col5\" class=\"col_heading level0 col5\" >qty</th>\n",
       "      <th id=\"T_ea429_level0_col6\" class=\"col_heading level0 col6\" >target</th>\n",
       "      <th id=\"T_ea429_level0_col7\" class=\"col_heading level0 col7\" >current</th>\n",
       "      <th id=\"T_ea429_level0_col8\" class=\"col_heading level0 col8\" >change</th>\n",
       "      <th id=\"T_ea429_level0_col9\" class=\"col_heading level0 col9\" >%change</th>\n",
       "      <th id=\"T_ea429_level0_col10\" class=\"col_heading level0 col10\" >active</th>\n",
       "      <th id=\"T_ea429_level0_col11\" class=\"col_heading level0 col11\" >xdate</th>\n",
       "      <th id=\"T_ea429_level0_col12\" class=\"col_heading level0 col12\" >amount</th>\n",
       "    </tr>\n",
       "  </thead>\n",
       "  <tbody>\n",
       "    <tr>\n",
       "      <td id=\"T_ea429_row0_col0\" class=\"data row0 col0\" >B</td>\n",
       "      <td id=\"T_ea429_row0_col1\" class=\"data row0 col1\" >JMART</td>\n",
       "      <td id=\"T_ea429_row0_col2\" class=\"data row0 col2\" >-45</td>\n",
       "      <td id=\"T_ea429_row0_col3\" class=\"data row0 col3\" >RD80Pct</td>\n",
       "      <td id=\"T_ea429_row0_col4\" class=\"data row0 col4\" >SET50</td>\n",
       "      <td id=\"T_ea429_row0_col5\" class=\"data row0 col5\" >3,200</td>\n",
       "      <td id=\"T_ea429_row0_col6\" class=\"data row0 col6\" >8.00</td>\n",
       "      <td id=\"T_ea429_row0_col7\" class=\"data row0 col7\" >10.50</td>\n",
       "      <td id=\"T_ea429_row0_col8\" class=\"data row0 col8\" >0.40</td>\n",
       "      <td id=\"T_ea429_row0_col9\" class=\"data row0 col9\" >3.96%</td>\n",
       "      <td id=\"T_ea429_row0_col10\" class=\"data row0 col10\" >0</td>\n",
       "      <td id=\"T_ea429_row0_col11\" class=\"data row0 col11\" >2025-05-09</td>\n",
       "      <td id=\"T_ea429_row0_col12\" class=\"data row0 col12\" >25,600.00</td>\n",
       "    </tr>\n",
       "    <tr>\n",
       "      <td id=\"T_ea429_row1_col0\" class=\"data row1 col0\" >B</td>\n",
       "      <td id=\"T_ea429_row1_col1\" class=\"data row1 col1\" >ORI</td>\n",
       "      <td id=\"T_ea429_row1_col2\" class=\"data row1 col2\" >-50</td>\n",
       "      <td id=\"T_ea429_row1_col3\" class=\"data row1 col3\" >RD70Pct</td>\n",
       "      <td id=\"T_ea429_row1_col4\" class=\"data row1 col4\" >SET100</td>\n",
       "      <td id=\"T_ea429_row1_col5\" class=\"data row1 col5\" >10,000</td>\n",
       "      <td id=\"T_ea429_row1_col6\" class=\"data row1 col6\" >2.00</td>\n",
       "      <td id=\"T_ea429_row1_col7\" class=\"data row1 col7\" >3.00</td>\n",
       "      <td id=\"T_ea429_row1_col8\" class=\"data row1 col8\" >0.26</td>\n",
       "      <td id=\"T_ea429_row1_col9\" class=\"data row1 col9\" >9.49%</td>\n",
       "      <td id=\"T_ea429_row1_col10\" class=\"data row1 col10\" >0</td>\n",
       "      <td id=\"T_ea429_row1_col11\" class=\"data row1 col11\" >2025-03-13</td>\n",
       "      <td id=\"T_ea429_row1_col12\" class=\"data row1 col12\" >20,000.00</td>\n",
       "    </tr>\n",
       "  </tbody>\n",
       "</table>\n"
      ],
      "text/plain": [
       "<pandas.io.formats.style.Styler at 0x21a94947a10>"
      ]
     },
     "execution_count": 29,
     "metadata": {},
     "output_type": "execute_result"
    }
   ],
   "source": [
    "df.query('spd <= -40 and trade == \"B\"').style.format(format_dict).hide(axis=\"index\")"
   ]
  },
  {
   "cell_type": "code",
   "execution_count": 30,
   "id": "e294c091",
   "metadata": {},
   "outputs": [
    {
     "data": {
      "text/html": [
       "<style type=\"text/css\">\n",
       "</style>\n",
       "<table id=\"T_e59e2\">\n",
       "  <thead>\n",
       "    <tr>\n",
       "      <th id=\"T_e59e2_level0_col0\" class=\"col_heading level0 col0\" >trade</th>\n",
       "      <th id=\"T_e59e2_level0_col1\" class=\"col_heading level0 col1\" >name</th>\n",
       "      <th id=\"T_e59e2_level0_col2\" class=\"col_heading level0 col2\" >spd</th>\n",
       "      <th id=\"T_e59e2_level0_col3\" class=\"col_heading level0 col3\" >reason</th>\n",
       "      <th id=\"T_e59e2_level0_col4\" class=\"col_heading level0 col4\" >market</th>\n",
       "      <th id=\"T_e59e2_level0_col5\" class=\"col_heading level0 col5\" >qty</th>\n",
       "      <th id=\"T_e59e2_level0_col6\" class=\"col_heading level0 col6\" >target</th>\n",
       "      <th id=\"T_e59e2_level0_col7\" class=\"col_heading level0 col7\" >current</th>\n",
       "      <th id=\"T_e59e2_level0_col8\" class=\"col_heading level0 col8\" >change</th>\n",
       "      <th id=\"T_e59e2_level0_col9\" class=\"col_heading level0 col9\" >%change</th>\n",
       "      <th id=\"T_e59e2_level0_col10\" class=\"col_heading level0 col10\" >active</th>\n",
       "      <th id=\"T_e59e2_level0_col11\" class=\"col_heading level0 col11\" >xdate</th>\n",
       "      <th id=\"T_e59e2_level0_col12\" class=\"col_heading level0 col12\" >amount</th>\n",
       "    </tr>\n",
       "  </thead>\n",
       "  <tbody>\n",
       "    <tr>\n",
       "      <td id=\"T_e59e2_row0_col0\" class=\"data row0 col0\" >B</td>\n",
       "      <td id=\"T_e59e2_row0_col1\" class=\"data row0 col1\" >RCL</td>\n",
       "      <td id=\"T_e59e2_row0_col2\" class=\"data row0 col2\" >4</td>\n",
       "      <td id=\"T_e59e2_row0_col3\" class=\"data row0 col3\" >RD35pct</td>\n",
       "      <td id=\"T_e59e2_row0_col4\" class=\"data row0 col4\" >SET100</td>\n",
       "      <td id=\"T_e59e2_row0_col5\" class=\"data row0 col5\" >3,000</td>\n",
       "      <td id=\"T_e59e2_row0_col6\" class=\"data row0 col6\" >28.00</td>\n",
       "      <td id=\"T_e59e2_row0_col7\" class=\"data row0 col7\" >27.00</td>\n",
       "      <td id=\"T_e59e2_row0_col8\" class=\"data row0 col8\" >0.25</td>\n",
       "      <td id=\"T_e59e2_row0_col9\" class=\"data row0 col9\" >0.93%</td>\n",
       "      <td id=\"T_e59e2_row0_col10\" class=\"data row0 col10\" >1</td>\n",
       "      <td id=\"T_e59e2_row0_col11\" class=\"data row0 col11\" >2025-08-22</td>\n",
       "      <td id=\"T_e59e2_row0_col12\" class=\"data row0 col12\" >84,000.00</td>\n",
       "    </tr>\n",
       "  </tbody>\n",
       "</table>\n"
      ],
      "text/plain": [
       "<pandas.io.formats.style.Styler at 0x21a94dd8260>"
      ]
     },
     "execution_count": 30,
     "metadata": {},
     "output_type": "execute_result"
    }
   ],
   "source": [
    "df.query('trade == \"B\" & spd > 0').style.format(format_dict).hide(axis=\"index\")"
   ]
  },
  {
   "cell_type": "code",
   "execution_count": 31,
   "id": "f5ca51c5",
   "metadata": {},
   "outputs": [
    {
     "data": {
      "text/html": [
       "<style type=\"text/css\">\n",
       "</style>\n",
       "<table id=\"T_e387b\">\n",
       "  <thead>\n",
       "    <tr>\n",
       "      <th id=\"T_e387b_level0_col0\" class=\"col_heading level0 col0\" >trade</th>\n",
       "      <th id=\"T_e387b_level0_col1\" class=\"col_heading level0 col1\" >name</th>\n",
       "      <th id=\"T_e387b_level0_col2\" class=\"col_heading level0 col2\" >spd</th>\n",
       "      <th id=\"T_e387b_level0_col3\" class=\"col_heading level0 col3\" >reason</th>\n",
       "      <th id=\"T_e387b_level0_col4\" class=\"col_heading level0 col4\" >market</th>\n",
       "      <th id=\"T_e387b_level0_col5\" class=\"col_heading level0 col5\" >qty</th>\n",
       "      <th id=\"T_e387b_level0_col6\" class=\"col_heading level0 col6\" >target</th>\n",
       "      <th id=\"T_e387b_level0_col7\" class=\"col_heading level0 col7\" >current</th>\n",
       "      <th id=\"T_e387b_level0_col8\" class=\"col_heading level0 col8\" >change</th>\n",
       "      <th id=\"T_e387b_level0_col9\" class=\"col_heading level0 col9\" >%change</th>\n",
       "      <th id=\"T_e387b_level0_col10\" class=\"col_heading level0 col10\" >active</th>\n",
       "      <th id=\"T_e387b_level0_col11\" class=\"col_heading level0 col11\" >xdate</th>\n",
       "      <th id=\"T_e387b_level0_col12\" class=\"col_heading level0 col12\" >amount</th>\n",
       "    </tr>\n",
       "  </thead>\n",
       "  <tbody>\n",
       "  </tbody>\n",
       "</table>\n"
      ],
      "text/plain": [
       "<pandas.io.formats.style.Styler at 0x21a94d94ec0>"
      ]
     },
     "execution_count": 31,
     "metadata": {},
     "output_type": "execute_result"
    }
   ],
   "source": [
    "df.query('trade == \"S\" & spd < 0').style.format(format_dict).hide(axis=\"index\")"
   ]
  },
  {
   "cell_type": "code",
   "execution_count": 32,
   "id": "83a6c159-4140-43a4-877e-2088dffc690c",
   "metadata": {},
   "outputs": [],
   "source": [
    "colx = ['trade', 'name', 'spd', 'reason', 'market', 'qty', 'target', 'current', 'change', '%change',\n",
    "        'active', 'xdate']"
   ]
  },
  {
   "cell_type": "code",
   "execution_count": 33,
   "id": "5dbc762a-b148-4e90-8e6f-72aa07f70a37",
   "metadata": {},
   "outputs": [],
   "source": [
    "file_name = \"orders-log.csv\"\n",
    "output_file = os.path.join(dat_path, file_name)\n",
    "god_file = os.path.join(god_path, file_name)\n",
    "icd_file = os.path.join(icd_path, file_name)\n",
    "osd_file = os.path.join(osd_path, file_name)"
   ]
  },
  {
   "cell_type": "code",
   "execution_count": 34,
   "id": "77e25af6-7faa-4b74-9b07-af9978b7dbfd",
   "metadata": {},
   "outputs": [
    {
     "name": "stdout",
     "output_type": "stream",
     "text": [
      "output_file : C:\\Users\\PC1\\OneDrive\\A5\\Data\\orders-log.csv\n",
      "icd_file : C:\\Users\\PC1\\iCloudDrive\\Data\\orders-log.csv\n",
      "god_file : C:\\Users\\PC1\\OneDrive\\Imports\\santisoontarinka@gmail.com - Google Drive\\Data\\orders-log.csv\n",
      "osd_file : C:\\Users\\PC1\\OneDrive\\Documents\\obsidian-git-sync\\Data\\orders-log.csv\n"
     ]
    }
   ],
   "source": [
    "print(f\"output_file : {output_file}\") \n",
    "print(f\"icd_file : {icd_file}\") \n",
    "print(f\"god_file : {god_file}\") \n",
    "print(f\"osd_file : {osd_file}\") "
   ]
  },
  {
   "cell_type": "code",
   "execution_count": 35,
   "id": "53ad05c9-1827-43f0-9753-eb28b219ffd5",
   "metadata": {},
   "outputs": [],
   "source": [
    "df[colx].to_csv(output_file, header=True, index=False)\n",
    "df[colx].to_csv(god_file, header=True, index=False)\n",
    "df[colx].to_csv(icd_file, header=True, index=False)\n",
    "df[colx].to_csv(osd_file, header=True, index=False)"
   ]
  },
  {
   "cell_type": "markdown",
   "id": "dca31fd8",
   "metadata": {},
   "source": [
    "### Convert column name to make it valid for df.query"
   ]
  },
  {
   "cell_type": "code",
   "execution_count": 37,
   "id": "ca97c7d7",
   "metadata": {},
   "outputs": [],
   "source": [
    "df['percent'] = df['%change']"
   ]
  },
  {
   "cell_type": "code",
   "execution_count": 38,
   "id": "95fb8b5e",
   "metadata": {},
   "outputs": [
    {
     "data": {
      "text/html": [
       "<style type=\"text/css\">\n",
       "</style>\n",
       "<table id=\"T_8decb\">\n",
       "  <thead>\n",
       "    <tr>\n",
       "      <th id=\"T_8decb_level0_col0\" class=\"col_heading level0 col0\" >trade</th>\n",
       "      <th id=\"T_8decb_level0_col1\" class=\"col_heading level0 col1\" >name</th>\n",
       "      <th id=\"T_8decb_level0_col2\" class=\"col_heading level0 col2\" >spd</th>\n",
       "      <th id=\"T_8decb_level0_col3\" class=\"col_heading level0 col3\" >reason</th>\n",
       "      <th id=\"T_8decb_level0_col4\" class=\"col_heading level0 col4\" >market</th>\n",
       "      <th id=\"T_8decb_level0_col5\" class=\"col_heading level0 col5\" >qty</th>\n",
       "      <th id=\"T_8decb_level0_col6\" class=\"col_heading level0 col6\" >target</th>\n",
       "      <th id=\"T_8decb_level0_col7\" class=\"col_heading level0 col7\" >current</th>\n",
       "      <th id=\"T_8decb_level0_col8\" class=\"col_heading level0 col8\" >change</th>\n",
       "      <th id=\"T_8decb_level0_col9\" class=\"col_heading level0 col9\" >%change</th>\n",
       "      <th id=\"T_8decb_level0_col10\" class=\"col_heading level0 col10\" >active</th>\n",
       "      <th id=\"T_8decb_level0_col11\" class=\"col_heading level0 col11\" >xdate</th>\n",
       "      <th id=\"T_8decb_level0_col12\" class=\"col_heading level0 col12\" >amount</th>\n",
       "      <th id=\"T_8decb_level0_col13\" class=\"col_heading level0 col13\" >percent</th>\n",
       "    </tr>\n",
       "  </thead>\n",
       "  <tbody>\n",
       "  </tbody>\n",
       "</table>\n"
      ],
      "text/plain": [
       "<pandas.io.formats.style.Styler at 0x21a93e3f5c0>"
      ]
     },
     "execution_count": 38,
     "metadata": {},
     "output_type": "execute_result"
    }
   ],
   "source": [
    "df.query('percent < -2').style.format(format_dict).hide(axis=\"index\")"
   ]
  },
  {
   "cell_type": "code",
   "execution_count": 39,
   "id": "d964ad8e",
   "metadata": {},
   "outputs": [
    {
     "data": {
      "text/html": [
       "<style type=\"text/css\">\n",
       "</style>\n",
       "<table id=\"T_444e8\">\n",
       "  <thead>\n",
       "    <tr>\n",
       "      <th id=\"T_444e8_level0_col0\" class=\"col_heading level0 col0\" >trade</th>\n",
       "      <th id=\"T_444e8_level0_col1\" class=\"col_heading level0 col1\" >name</th>\n",
       "      <th id=\"T_444e8_level0_col2\" class=\"col_heading level0 col2\" >spd</th>\n",
       "      <th id=\"T_444e8_level0_col3\" class=\"col_heading level0 col3\" >reason</th>\n",
       "      <th id=\"T_444e8_level0_col4\" class=\"col_heading level0 col4\" >market</th>\n",
       "      <th id=\"T_444e8_level0_col5\" class=\"col_heading level0 col5\" >qty</th>\n",
       "      <th id=\"T_444e8_level0_col6\" class=\"col_heading level0 col6\" >target</th>\n",
       "      <th id=\"T_444e8_level0_col7\" class=\"col_heading level0 col7\" >current</th>\n",
       "      <th id=\"T_444e8_level0_col8\" class=\"col_heading level0 col8\" >change</th>\n",
       "      <th id=\"T_444e8_level0_col9\" class=\"col_heading level0 col9\" >%change</th>\n",
       "      <th id=\"T_444e8_level0_col10\" class=\"col_heading level0 col10\" >active</th>\n",
       "      <th id=\"T_444e8_level0_col11\" class=\"col_heading level0 col11\" >xdate</th>\n",
       "      <th id=\"T_444e8_level0_col12\" class=\"col_heading level0 col12\" >amount</th>\n",
       "      <th id=\"T_444e8_level0_col13\" class=\"col_heading level0 col13\" >percent</th>\n",
       "    </tr>\n",
       "  </thead>\n",
       "  <tbody>\n",
       "    <tr>\n",
       "      <td id=\"T_444e8_row0_col0\" class=\"data row0 col0\" >B</td>\n",
       "      <td id=\"T_444e8_row0_col1\" class=\"data row0 col1\" >JMART</td>\n",
       "      <td id=\"T_444e8_row0_col2\" class=\"data row0 col2\" >-45</td>\n",
       "      <td id=\"T_444e8_row0_col3\" class=\"data row0 col3\" >RD80Pct</td>\n",
       "      <td id=\"T_444e8_row0_col4\" class=\"data row0 col4\" >SET50</td>\n",
       "      <td id=\"T_444e8_row0_col5\" class=\"data row0 col5\" >3,200</td>\n",
       "      <td id=\"T_444e8_row0_col6\" class=\"data row0 col6\" >8.00</td>\n",
       "      <td id=\"T_444e8_row0_col7\" class=\"data row0 col7\" >10.50</td>\n",
       "      <td id=\"T_444e8_row0_col8\" class=\"data row0 col8\" >0.40</td>\n",
       "      <td id=\"T_444e8_row0_col9\" class=\"data row0 col9\" >3.96%</td>\n",
       "      <td id=\"T_444e8_row0_col10\" class=\"data row0 col10\" >0</td>\n",
       "      <td id=\"T_444e8_row0_col11\" class=\"data row0 col11\" >2025-05-09</td>\n",
       "      <td id=\"T_444e8_row0_col12\" class=\"data row0 col12\" >25,600.00</td>\n",
       "      <td id=\"T_444e8_row0_col13\" class=\"data row0 col13\" >3.960396</td>\n",
       "    </tr>\n",
       "    <tr>\n",
       "      <td id=\"T_444e8_row1_col0\" class=\"data row1 col0\" >B</td>\n",
       "      <td id=\"T_444e8_row1_col1\" class=\"data row1 col1\" >JMT</td>\n",
       "      <td id=\"T_444e8_row1_col2\" class=\"data row1 col2\" >-22</td>\n",
       "      <td id=\"T_444e8_row1_col3\" class=\"data row1 col3\" >RD75pct</td>\n",
       "      <td id=\"T_444e8_row1_col4\" class=\"data row1 col4\" >SET50</td>\n",
       "      <td id=\"T_444e8_row1_col5\" class=\"data row1 col5\" >2,800</td>\n",
       "      <td id=\"T_444e8_row1_col6\" class=\"data row1 col6\" >11.00</td>\n",
       "      <td id=\"T_444e8_row1_col7\" class=\"data row1 col7\" >13.20</td>\n",
       "      <td id=\"T_444e8_row1_col8\" class=\"data row1 col8\" >0.40</td>\n",
       "      <td id=\"T_444e8_row1_col9\" class=\"data row1 col9\" >3.12%</td>\n",
       "      <td id=\"T_444e8_row1_col10\" class=\"data row1 col10\" >0</td>\n",
       "      <td id=\"T_444e8_row1_col11\" class=\"data row1 col11\" >2025-08-26</td>\n",
       "      <td id=\"T_444e8_row1_col12\" class=\"data row1 col12\" >30,800.00</td>\n",
       "      <td id=\"T_444e8_row1_col13\" class=\"data row1 col13\" >3.125000</td>\n",
       "    </tr>\n",
       "    <tr>\n",
       "      <td id=\"T_444e8_row2_col0\" class=\"data row2 col0\" >B</td>\n",
       "      <td id=\"T_444e8_row2_col1\" class=\"data row2 col1\" >ORI</td>\n",
       "      <td id=\"T_444e8_row2_col2\" class=\"data row2 col2\" >-50</td>\n",
       "      <td id=\"T_444e8_row2_col3\" class=\"data row2 col3\" >RD70Pct</td>\n",
       "      <td id=\"T_444e8_row2_col4\" class=\"data row2 col4\" >SET100</td>\n",
       "      <td id=\"T_444e8_row2_col5\" class=\"data row2 col5\" >10,000</td>\n",
       "      <td id=\"T_444e8_row2_col6\" class=\"data row2 col6\" >2.00</td>\n",
       "      <td id=\"T_444e8_row2_col7\" class=\"data row2 col7\" >3.00</td>\n",
       "      <td id=\"T_444e8_row2_col8\" class=\"data row2 col8\" >0.26</td>\n",
       "      <td id=\"T_444e8_row2_col9\" class=\"data row2 col9\" >9.49%</td>\n",
       "      <td id=\"T_444e8_row2_col10\" class=\"data row2 col10\" >0</td>\n",
       "      <td id=\"T_444e8_row2_col11\" class=\"data row2 col11\" >2025-03-13</td>\n",
       "      <td id=\"T_444e8_row2_col12\" class=\"data row2 col12\" >20,000.00</td>\n",
       "      <td id=\"T_444e8_row2_col13\" class=\"data row2 col13\" >9.489051</td>\n",
       "    </tr>\n",
       "    <tr>\n",
       "      <td id=\"T_444e8_row3_col0\" class=\"data row3 col0\" >S</td>\n",
       "      <td id=\"T_444e8_row3_col1\" class=\"data row3 col1\" >PTT</td>\n",
       "      <td id=\"T_444e8_row3_col2\" class=\"data row3 col2\" >7</td>\n",
       "      <td id=\"T_444e8_row3_col3\" class=\"data row3 col3\" >nan</td>\n",
       "      <td id=\"T_444e8_row3_col4\" class=\"data row3 col4\" >SET50</td>\n",
       "      <td id=\"T_444e8_row3_col5\" class=\"data row3 col5\" >2,500</td>\n",
       "      <td id=\"T_444e8_row3_col6\" class=\"data row3 col6\" >34.25</td>\n",
       "      <td id=\"T_444e8_row3_col7\" class=\"data row3 col7\" >32.50</td>\n",
       "      <td id=\"T_444e8_row3_col8\" class=\"data row3 col8\" >0.75</td>\n",
       "      <td id=\"T_444e8_row3_col9\" class=\"data row3 col9\" >2.36%</td>\n",
       "      <td id=\"T_444e8_row3_col10\" class=\"data row3 col10\" >1</td>\n",
       "      <td id=\"T_444e8_row3_col11\" class=\"data row3 col11\" >2025-03-06</td>\n",
       "      <td id=\"T_444e8_row3_col12\" class=\"data row3 col12\" >85,625.00</td>\n",
       "      <td id=\"T_444e8_row3_col13\" class=\"data row3 col13\" >2.362205</td>\n",
       "    </tr>\n",
       "    <tr>\n",
       "      <td id=\"T_444e8_row4_col0\" class=\"data row4 col0\" >S</td>\n",
       "      <td id=\"T_444e8_row4_col1\" class=\"data row4 col1\" >SYNEX</td>\n",
       "      <td id=\"T_444e8_row4_col2\" class=\"data row4 col2\" >14</td>\n",
       "      <td id=\"T_444e8_row4_col3\" class=\"data row4 col3\" >RD70pct</td>\n",
       "      <td id=\"T_444e8_row4_col4\" class=\"data row4 col4\" >SET</td>\n",
       "      <td id=\"T_444e8_row4_col5\" class=\"data row4 col5\" >2,500</td>\n",
       "      <td id=\"T_444e8_row4_col6\" class=\"data row4 col6\" >13.90</td>\n",
       "      <td id=\"T_444e8_row4_col7\" class=\"data row4 col7\" >12.50</td>\n",
       "      <td id=\"T_444e8_row4_col8\" class=\"data row4 col8\" >0.30</td>\n",
       "      <td id=\"T_444e8_row4_col9\" class=\"data row4 col9\" >2.46%</td>\n",
       "      <td id=\"T_444e8_row4_col10\" class=\"data row4 col10\" >0</td>\n",
       "      <td id=\"T_444e8_row4_col11\" class=\"data row4 col11\" >2025-08-26</td>\n",
       "      <td id=\"T_444e8_row4_col12\" class=\"data row4 col12\" >34,750.00</td>\n",
       "      <td id=\"T_444e8_row4_col13\" class=\"data row4 col13\" >2.459016</td>\n",
       "    </tr>\n",
       "  </tbody>\n",
       "</table>\n"
      ],
      "text/plain": [
       "<pandas.io.formats.style.Styler at 0x21a94dd8d40>"
      ]
     },
     "execution_count": 39,
     "metadata": {},
     "output_type": "execute_result"
    }
   ],
   "source": [
    "df.query('percent >= 2.00').style.format(format_dict).hide(axis=\"index\")"
   ]
  },
  {
   "cell_type": "code",
   "execution_count": 40,
   "id": "21b45ef0",
   "metadata": {
    "scrolled": true
   },
   "outputs": [
    {
     "data": {
      "text/html": [
       "<style type=\"text/css\">\n",
       "</style>\n",
       "<table id=\"T_bbe1f\">\n",
       "  <thead>\n",
       "    <tr>\n",
       "      <th id=\"T_bbe1f_level0_col0\" class=\"col_heading level0 col0\" >trade</th>\n",
       "      <th id=\"T_bbe1f_level0_col1\" class=\"col_heading level0 col1\" >name</th>\n",
       "      <th id=\"T_bbe1f_level0_col2\" class=\"col_heading level0 col2\" >spd</th>\n",
       "      <th id=\"T_bbe1f_level0_col3\" class=\"col_heading level0 col3\" >reason</th>\n",
       "      <th id=\"T_bbe1f_level0_col4\" class=\"col_heading level0 col4\" >market</th>\n",
       "      <th id=\"T_bbe1f_level0_col5\" class=\"col_heading level0 col5\" >qty</th>\n",
       "      <th id=\"T_bbe1f_level0_col6\" class=\"col_heading level0 col6\" >target</th>\n",
       "      <th id=\"T_bbe1f_level0_col7\" class=\"col_heading level0 col7\" >current</th>\n",
       "      <th id=\"T_bbe1f_level0_col8\" class=\"col_heading level0 col8\" >change</th>\n",
       "      <th id=\"T_bbe1f_level0_col9\" class=\"col_heading level0 col9\" >%change</th>\n",
       "      <th id=\"T_bbe1f_level0_col10\" class=\"col_heading level0 col10\" >active</th>\n",
       "      <th id=\"T_bbe1f_level0_col11\" class=\"col_heading level0 col11\" >xdate</th>\n",
       "      <th id=\"T_bbe1f_level0_col12\" class=\"col_heading level0 col12\" >amount</th>\n",
       "      <th id=\"T_bbe1f_level0_col13\" class=\"col_heading level0 col13\" >percent</th>\n",
       "    </tr>\n",
       "  </thead>\n",
       "  <tbody>\n",
       "    <tr>\n",
       "      <td id=\"T_bbe1f_row0_col0\" class=\"data row0 col0\" >B</td>\n",
       "      <td id=\"T_bbe1f_row0_col1\" class=\"data row0 col1\" >RCL</td>\n",
       "      <td id=\"T_bbe1f_row0_col2\" class=\"data row0 col2\" >4</td>\n",
       "      <td id=\"T_bbe1f_row0_col3\" class=\"data row0 col3\" >RD35pct</td>\n",
       "      <td id=\"T_bbe1f_row0_col4\" class=\"data row0 col4\" >SET100</td>\n",
       "      <td id=\"T_bbe1f_row0_col5\" class=\"data row0 col5\" >3,000</td>\n",
       "      <td id=\"T_bbe1f_row0_col6\" class=\"data row0 col6\" >28.00</td>\n",
       "      <td id=\"T_bbe1f_row0_col7\" class=\"data row0 col7\" >27.00</td>\n",
       "      <td id=\"T_bbe1f_row0_col8\" class=\"data row0 col8\" >0.25</td>\n",
       "      <td id=\"T_bbe1f_row0_col9\" class=\"data row0 col9\" >0.93%</td>\n",
       "      <td id=\"T_bbe1f_row0_col10\" class=\"data row0 col10\" >1</td>\n",
       "      <td id=\"T_bbe1f_row0_col11\" class=\"data row0 col11\" >2025-08-22</td>\n",
       "      <td id=\"T_bbe1f_row0_col12\" class=\"data row0 col12\" >84,000.00</td>\n",
       "      <td id=\"T_bbe1f_row0_col13\" class=\"data row0 col13\" >0.934579</td>\n",
       "    </tr>\n",
       "    <tr>\n",
       "      <td id=\"T_bbe1f_row1_col0\" class=\"data row1 col0\" >B</td>\n",
       "      <td id=\"T_bbe1f_row1_col1\" class=\"data row1 col1\" >TFFIF</td>\n",
       "      <td id=\"T_bbe1f_row1_col2\" class=\"data row1 col2\" >-1</td>\n",
       "      <td id=\"T_bbe1f_row1_col3\" class=\"data row1 col3\" >RD30Pct</td>\n",
       "      <td id=\"T_bbe1f_row1_col4\" class=\"data row1 col4\" >SET</td>\n",
       "      <td id=\"T_bbe1f_row1_col5\" class=\"data row1 col5\" >10,000</td>\n",
       "      <td id=\"T_bbe1f_row1_col6\" class=\"data row1 col6\" >6.00</td>\n",
       "      <td id=\"T_bbe1f_row1_col7\" class=\"data row1 col7\" >6.05</td>\n",
       "      <td id=\"T_bbe1f_row1_col8\" class=\"data row1 col8\" >0.10</td>\n",
       "      <td id=\"T_bbe1f_row1_col9\" class=\"data row1 col9\" >1.68%</td>\n",
       "      <td id=\"T_bbe1f_row1_col10\" class=\"data row1 col10\" >1</td>\n",
       "      <td id=\"T_bbe1f_row1_col11\" class=\"data row1 col11\" >2025-08-28</td>\n",
       "      <td id=\"T_bbe1f_row1_col12\" class=\"data row1 col12\" >60,000.00</td>\n",
       "      <td id=\"T_bbe1f_row1_col13\" class=\"data row1 col13\" >1.680672</td>\n",
       "    </tr>\n",
       "    <tr>\n",
       "      <td id=\"T_bbe1f_row2_col0\" class=\"data row2 col0\" >B</td>\n",
       "      <td id=\"T_bbe1f_row2_col1\" class=\"data row2 col1\" >GVREIT</td>\n",
       "      <td id=\"T_bbe1f_row2_col2\" class=\"data row2 col2\" >-6</td>\n",
       "      <td id=\"T_bbe1f_row2_col3\" class=\"data row2 col3\" >RND20Pct</td>\n",
       "      <td id=\"T_bbe1f_row2_col4\" class=\"data row2 col4\" >SET</td>\n",
       "      <td id=\"T_bbe1f_row2_col5\" class=\"data row2 col5\" >6,000</td>\n",
       "      <td id=\"T_bbe1f_row2_col6\" class=\"data row2 col6\" >6.00</td>\n",
       "      <td id=\"T_bbe1f_row2_col7\" class=\"data row2 col7\" >6.30</td>\n",
       "      <td id=\"T_bbe1f_row2_col8\" class=\"data row2 col8\" >0.05</td>\n",
       "      <td id=\"T_bbe1f_row2_col9\" class=\"data row2 col9\" >0.80%</td>\n",
       "      <td id=\"T_bbe1f_row2_col10\" class=\"data row2 col10\" >1</td>\n",
       "      <td id=\"T_bbe1f_row2_col11\" class=\"data row2 col11\" >2025-08-27</td>\n",
       "      <td id=\"T_bbe1f_row2_col12\" class=\"data row2 col12\" >36,000.00</td>\n",
       "      <td id=\"T_bbe1f_row2_col13\" class=\"data row2 col13\" >0.800000</td>\n",
       "    </tr>\n",
       "    <tr>\n",
       "      <td id=\"T_bbe1f_row3_col0\" class=\"data row3 col0\" >B</td>\n",
       "      <td id=\"T_bbe1f_row3_col1\" class=\"data row3 col1\" >AIMIRT</td>\n",
       "      <td id=\"T_bbe1f_row3_col2\" class=\"data row3 col2\" >-14</td>\n",
       "      <td id=\"T_bbe1f_row3_col3\" class=\"data row3 col3\" >RND15pct</td>\n",
       "      <td id=\"T_bbe1f_row3_col4\" class=\"data row3 col4\" >SET</td>\n",
       "      <td id=\"T_bbe1f_row3_col5\" class=\"data row3 col5\" >2,500</td>\n",
       "      <td id=\"T_bbe1f_row3_col6\" class=\"data row3 col6\" >9.10</td>\n",
       "      <td id=\"T_bbe1f_row3_col7\" class=\"data row3 col7\" >9.80</td>\n",
       "      <td id=\"T_bbe1f_row3_col8\" class=\"data row3 col8\" >0.10</td>\n",
       "      <td id=\"T_bbe1f_row3_col9\" class=\"data row3 col9\" >1.03%</td>\n",
       "      <td id=\"T_bbe1f_row3_col10\" class=\"data row3 col10\" >0</td>\n",
       "      <td id=\"T_bbe1f_row3_col11\" class=\"data row3 col11\" >2025-08-19</td>\n",
       "      <td id=\"T_bbe1f_row3_col12\" class=\"data row3 col12\" >22,750.00</td>\n",
       "      <td id=\"T_bbe1f_row3_col13\" class=\"data row3 col13\" >1.030928</td>\n",
       "    </tr>\n",
       "    <tr>\n",
       "      <td id=\"T_bbe1f_row4_col0\" class=\"data row4 col0\" >B</td>\n",
       "      <td id=\"T_bbe1f_row4_col1\" class=\"data row4 col1\" >WHAIR</td>\n",
       "      <td id=\"T_bbe1f_row4_col2\" class=\"data row4 col2\" >-14</td>\n",
       "      <td id=\"T_bbe1f_row4_col3\" class=\"data row4 col3\" >RD50pct</td>\n",
       "      <td id=\"T_bbe1f_row4_col4\" class=\"data row4 col4\" >SET</td>\n",
       "      <td id=\"T_bbe1f_row4_col5\" class=\"data row4 col5\" >10,000</td>\n",
       "      <td id=\"T_bbe1f_row4_col6\" class=\"data row4 col6\" >4.90</td>\n",
       "      <td id=\"T_bbe1f_row4_col7\" class=\"data row4 col7\" >5.50</td>\n",
       "      <td id=\"T_bbe1f_row4_col8\" class=\"data row4 col8\" >0.00</td>\n",
       "      <td id=\"T_bbe1f_row4_col9\" class=\"data row4 col9\" >0.00%</td>\n",
       "      <td id=\"T_bbe1f_row4_col10\" class=\"data row4 col10\" >0</td>\n",
       "      <td id=\"T_bbe1f_row4_col11\" class=\"data row4 col11\" >2025-08-18</td>\n",
       "      <td id=\"T_bbe1f_row4_col12\" class=\"data row4 col12\" >49,000.00</td>\n",
       "      <td id=\"T_bbe1f_row4_col13\" class=\"data row4 col13\" >0.000000</td>\n",
       "    </tr>\n",
       "    <tr>\n",
       "      <td id=\"T_bbe1f_row5_col0\" class=\"data row5 col0\" >B</td>\n",
       "      <td id=\"T_bbe1f_row5_col1\" class=\"data row5 col1\" >JMT</td>\n",
       "      <td id=\"T_bbe1f_row5_col2\" class=\"data row5 col2\" >-22</td>\n",
       "      <td id=\"T_bbe1f_row5_col3\" class=\"data row5 col3\" >RD75pct</td>\n",
       "      <td id=\"T_bbe1f_row5_col4\" class=\"data row5 col4\" >SET50</td>\n",
       "      <td id=\"T_bbe1f_row5_col5\" class=\"data row5 col5\" >2,800</td>\n",
       "      <td id=\"T_bbe1f_row5_col6\" class=\"data row5 col6\" >11.00</td>\n",
       "      <td id=\"T_bbe1f_row5_col7\" class=\"data row5 col7\" >13.20</td>\n",
       "      <td id=\"T_bbe1f_row5_col8\" class=\"data row5 col8\" >0.40</td>\n",
       "      <td id=\"T_bbe1f_row5_col9\" class=\"data row5 col9\" >3.12%</td>\n",
       "      <td id=\"T_bbe1f_row5_col10\" class=\"data row5 col10\" >0</td>\n",
       "      <td id=\"T_bbe1f_row5_col11\" class=\"data row5 col11\" >2025-08-26</td>\n",
       "      <td id=\"T_bbe1f_row5_col12\" class=\"data row5 col12\" >30,800.00</td>\n",
       "      <td id=\"T_bbe1f_row5_col13\" class=\"data row5 col13\" >3.125000</td>\n",
       "    </tr>\n",
       "    <tr>\n",
       "      <td id=\"T_bbe1f_row6_col0\" class=\"data row6 col0\" >B</td>\n",
       "      <td id=\"T_bbe1f_row6_col1\" class=\"data row6 col1\" >IVL</td>\n",
       "      <td id=\"T_bbe1f_row6_col2\" class=\"data row6 col2\" >-26</td>\n",
       "      <td id=\"T_bbe1f_row6_col3\" class=\"data row6 col3\" >CSSTGT</td>\n",
       "      <td id=\"T_bbe1f_row6_col4\" class=\"data row6 col4\" >SET50</td>\n",
       "      <td id=\"T_bbe1f_row6_col5\" class=\"data row6 col5\" >1,800</td>\n",
       "      <td id=\"T_bbe1f_row6_col6\" class=\"data row6 col6\" >20.60</td>\n",
       "      <td id=\"T_bbe1f_row6_col7\" class=\"data row6 col7\" >23.20</td>\n",
       "      <td id=\"T_bbe1f_row6_col8\" class=\"data row6 col8\" >-0.10</td>\n",
       "      <td id=\"T_bbe1f_row6_col9\" class=\"data row6 col9\" >-0.43%</td>\n",
       "      <td id=\"T_bbe1f_row6_col10\" class=\"data row6 col10\" >0</td>\n",
       "      <td id=\"T_bbe1f_row6_col11\" class=\"data row6 col11\" >2025-08-27</td>\n",
       "      <td id=\"T_bbe1f_row6_col12\" class=\"data row6 col12\" >37,080.00</td>\n",
       "      <td id=\"T_bbe1f_row6_col13\" class=\"data row6 col13\" >-0.429185</td>\n",
       "    </tr>\n",
       "    <tr>\n",
       "      <td id=\"T_bbe1f_row7_col0\" class=\"data row7 col0\" >B</td>\n",
       "      <td id=\"T_bbe1f_row7_col1\" class=\"data row7 col1\" >NER</td>\n",
       "      <td id=\"T_bbe1f_row7_col2\" class=\"data row7 col2\" >-27</td>\n",
       "      <td id=\"T_bbe1f_row7_col3\" class=\"data row7 col3\" >CSSMIN</td>\n",
       "      <td id=\"T_bbe1f_row7_col4\" class=\"data row7 col4\" >SET</td>\n",
       "      <td id=\"T_bbe1f_row7_col5\" class=\"data row7 col5\" >5,000</td>\n",
       "      <td id=\"T_bbe1f_row7_col6\" class=\"data row7 col6\" >4.00</td>\n",
       "      <td id=\"T_bbe1f_row7_col7\" class=\"data row7 col7\" >4.54</td>\n",
       "      <td id=\"T_bbe1f_row7_col8\" class=\"data row7 col8\" >0.00</td>\n",
       "      <td id=\"T_bbe1f_row7_col9\" class=\"data row7 col9\" >0.00%</td>\n",
       "      <td id=\"T_bbe1f_row7_col10\" class=\"data row7 col10\" >0</td>\n",
       "      <td id=\"T_bbe1f_row7_col11\" class=\"data row7 col11\" >2025-08-22</td>\n",
       "      <td id=\"T_bbe1f_row7_col12\" class=\"data row7 col12\" >20,000.00</td>\n",
       "      <td id=\"T_bbe1f_row7_col13\" class=\"data row7 col13\" >0.000000</td>\n",
       "    </tr>\n",
       "    <tr>\n",
       "      <td id=\"T_bbe1f_row8_col0\" class=\"data row8 col0\" >B</td>\n",
       "      <td id=\"T_bbe1f_row8_col1\" class=\"data row8 col1\" >JMART</td>\n",
       "      <td id=\"T_bbe1f_row8_col2\" class=\"data row8 col2\" >-45</td>\n",
       "      <td id=\"T_bbe1f_row8_col3\" class=\"data row8 col3\" >RD80Pct</td>\n",
       "      <td id=\"T_bbe1f_row8_col4\" class=\"data row8 col4\" >SET50</td>\n",
       "      <td id=\"T_bbe1f_row8_col5\" class=\"data row8 col5\" >3,200</td>\n",
       "      <td id=\"T_bbe1f_row8_col6\" class=\"data row8 col6\" >8.00</td>\n",
       "      <td id=\"T_bbe1f_row8_col7\" class=\"data row8 col7\" >10.50</td>\n",
       "      <td id=\"T_bbe1f_row8_col8\" class=\"data row8 col8\" >0.40</td>\n",
       "      <td id=\"T_bbe1f_row8_col9\" class=\"data row8 col9\" >3.96%</td>\n",
       "      <td id=\"T_bbe1f_row8_col10\" class=\"data row8 col10\" >0</td>\n",
       "      <td id=\"T_bbe1f_row8_col11\" class=\"data row8 col11\" >2025-05-09</td>\n",
       "      <td id=\"T_bbe1f_row8_col12\" class=\"data row8 col12\" >25,600.00</td>\n",
       "      <td id=\"T_bbe1f_row8_col13\" class=\"data row8 col13\" >3.960396</td>\n",
       "    </tr>\n",
       "    <tr>\n",
       "      <td id=\"T_bbe1f_row9_col0\" class=\"data row9 col0\" >B</td>\n",
       "      <td id=\"T_bbe1f_row9_col1\" class=\"data row9 col1\" >ORI</td>\n",
       "      <td id=\"T_bbe1f_row9_col2\" class=\"data row9 col2\" >-50</td>\n",
       "      <td id=\"T_bbe1f_row9_col3\" class=\"data row9 col3\" >RD70Pct</td>\n",
       "      <td id=\"T_bbe1f_row9_col4\" class=\"data row9 col4\" >SET100</td>\n",
       "      <td id=\"T_bbe1f_row9_col5\" class=\"data row9 col5\" >10,000</td>\n",
       "      <td id=\"T_bbe1f_row9_col6\" class=\"data row9 col6\" >2.00</td>\n",
       "      <td id=\"T_bbe1f_row9_col7\" class=\"data row9 col7\" >3.00</td>\n",
       "      <td id=\"T_bbe1f_row9_col8\" class=\"data row9 col8\" >0.26</td>\n",
       "      <td id=\"T_bbe1f_row9_col9\" class=\"data row9 col9\" >9.49%</td>\n",
       "      <td id=\"T_bbe1f_row9_col10\" class=\"data row9 col10\" >0</td>\n",
       "      <td id=\"T_bbe1f_row9_col11\" class=\"data row9 col11\" >2025-03-13</td>\n",
       "      <td id=\"T_bbe1f_row9_col12\" class=\"data row9 col12\" >20,000.00</td>\n",
       "      <td id=\"T_bbe1f_row9_col13\" class=\"data row9 col13\" >9.489051</td>\n",
       "    </tr>\n",
       "  </tbody>\n",
       "</table>\n"
      ],
      "text/plain": [
       "<pandas.io.formats.style.Styler at 0x21a93e96750>"
      ]
     },
     "execution_count": 40,
     "metadata": {},
     "output_type": "execute_result"
    }
   ],
   "source": [
    "df.loc[df.trade == 'B'].sort_values('spd',ascending=False).style.format(format_dict).hide(axis=\"index\")"
   ]
  },
  {
   "cell_type": "markdown",
   "id": "0b6a9434",
   "metadata": {},
   "source": [
    "### Sell recently purchased stocks if profitable"
   ]
  },
  {
   "cell_type": "code",
   "execution_count": 42,
   "id": "3e6546c3",
   "metadata": {},
   "outputs": [
    {
     "data": {
      "text/plain": [
       "(112, 4)"
      ]
     },
     "execution_count": 42,
     "metadata": {},
     "output_type": "execute_result"
    }
   ],
   "source": [
    "#pd.set_option('display.max_rows', 40)\n",
    "sql = \"\"\"SELECT name, qty, price AS cost, date \n",
    "FROM buys B \n",
    "JOIN stocks S \n",
    "ON stock_id = S.id \n",
    "WHERE status = 'Active'\n",
    "ORDER BY name, date\"\"\"\n",
    "buys = pd.read_sql(sql, conpf)\n",
    "buys.shape"
   ]
  },
  {
   "cell_type": "code",
   "execution_count": 43,
   "id": "cfc17b1f",
   "metadata": {},
   "outputs": [],
   "source": [
    "colu = 'name date_x qty cost price target %change %profit cst_amt mkt_amt difa'.split()\n",
    "buys_price = pd.merge(buys, prices, on='name', how='inner')\n",
    "buys_price['diff'] = buys_price['price'] - buys_price['cost']\n",
    "buys_price['difa'] = buys_price['diff'] * buys_price['qty']\n",
    "buys_price['%profit'] = round(buys_price['difa'] / (buys_price['qty'] * buys_price['cost']) * 100,2)"
   ]
  },
  {
   "cell_type": "code",
   "execution_count": 44,
   "id": "83c5b232-04b9-4141-8054-56e46b741397",
   "metadata": {},
   "outputs": [],
   "source": [
    "buys_price['cst_amt'] = buys_price['qty'] * buys_price['cost']\n",
    "buys_price['mkt_amt'] = buys_price['qty'] * buys_price['price']\n",
    "buys_price['target'] = buys_price['cost'] * 1.1"
   ]
  },
  {
   "cell_type": "code",
   "execution_count": 45,
   "id": "f4ac8868",
   "metadata": {},
   "outputs": [
    {
     "data": {
      "text/plain": [
       "(105, 11)"
      ]
     },
     "execution_count": 45,
     "metadata": {},
     "output_type": "execute_result"
    }
   ],
   "source": [
    "laggards = buys_price.loc[buys_price.cost > buys_price.price,colu]\n",
    "laggards.shape"
   ]
  },
  {
   "cell_type": "code",
   "execution_count": 46,
   "id": "0a9732c8",
   "metadata": {},
   "outputs": [
    {
     "data": {
      "text/html": [
       "<style type=\"text/css\">\n",
       "</style>\n",
       "<table id=\"T_7f420\">\n",
       "  <thead>\n",
       "    <tr>\n",
       "      <th id=\"T_7f420_level0_col0\" class=\"col_heading level0 col0\" >name</th>\n",
       "      <th id=\"T_7f420_level0_col1\" class=\"col_heading level0 col1\" >date_x</th>\n",
       "      <th id=\"T_7f420_level0_col2\" class=\"col_heading level0 col2\" >qty</th>\n",
       "      <th id=\"T_7f420_level0_col3\" class=\"col_heading level0 col3\" >cost</th>\n",
       "      <th id=\"T_7f420_level0_col4\" class=\"col_heading level0 col4\" >price</th>\n",
       "      <th id=\"T_7f420_level0_col5\" class=\"col_heading level0 col5\" >target</th>\n",
       "      <th id=\"T_7f420_level0_col6\" class=\"col_heading level0 col6\" >%change</th>\n",
       "      <th id=\"T_7f420_level0_col7\" class=\"col_heading level0 col7\" >%profit</th>\n",
       "      <th id=\"T_7f420_level0_col8\" class=\"col_heading level0 col8\" >cst_amt</th>\n",
       "      <th id=\"T_7f420_level0_col9\" class=\"col_heading level0 col9\" >mkt_amt</th>\n",
       "      <th id=\"T_7f420_level0_col10\" class=\"col_heading level0 col10\" >difa</th>\n",
       "    </tr>\n",
       "  </thead>\n",
       "  <tbody>\n",
       "    <tr>\n",
       "      <td id=\"T_7f420_row0_col0\" class=\"data row0 col0\" >TVO</td>\n",
       "      <td id=\"T_7f420_row0_col1\" class=\"data row0 col1\" >2025-03-12</td>\n",
       "      <td id=\"T_7f420_row0_col2\" class=\"data row0 col2\" >4,000</td>\n",
       "      <td id=\"T_7f420_row0_col3\" class=\"data row0 col3\" >23.10</td>\n",
       "      <td id=\"T_7f420_row0_col4\" class=\"data row0 col4\" >25.50</td>\n",
       "      <td id=\"T_7f420_row0_col5\" class=\"data row0 col5\" >25.41</td>\n",
       "      <td id=\"T_7f420_row0_col6\" class=\"data row0 col6\" >0.99%</td>\n",
       "      <td id=\"T_7f420_row0_col7\" class=\"data row0 col7\" >10.39%</td>\n",
       "      <td id=\"T_7f420_row0_col8\" class=\"data row0 col8\" >92,400.00</td>\n",
       "      <td id=\"T_7f420_row0_col9\" class=\"data row0 col9\" >102,000.00</td>\n",
       "      <td id=\"T_7f420_row0_col10\" class=\"data row0 col10\" >9,600.00</td>\n",
       "    </tr>\n",
       "    <tr>\n",
       "      <td id=\"T_7f420_row1_col0\" class=\"data row1 col0\" >WHART</td>\n",
       "      <td id=\"T_7f420_row1_col1\" class=\"data row1 col1\" >2025-07-08</td>\n",
       "      <td id=\"T_7f420_row1_col2\" class=\"data row1 col2\" >5,000</td>\n",
       "      <td id=\"T_7f420_row1_col3\" class=\"data row1 col3\" >8.80</td>\n",
       "      <td id=\"T_7f420_row1_col4\" class=\"data row1 col4\" >9.30</td>\n",
       "      <td id=\"T_7f420_row1_col5\" class=\"data row1 col5\" >9.68</td>\n",
       "      <td id=\"T_7f420_row1_col6\" class=\"data row1 col6\" >1.64%</td>\n",
       "      <td id=\"T_7f420_row1_col7\" class=\"data row1 col7\" >5.68%</td>\n",
       "      <td id=\"T_7f420_row1_col8\" class=\"data row1 col8\" >44,000.00</td>\n",
       "      <td id=\"T_7f420_row1_col9\" class=\"data row1 col9\" >46,500.00</td>\n",
       "      <td id=\"T_7f420_row1_col10\" class=\"data row1 col10\" >2,500.00</td>\n",
       "    </tr>\n",
       "    <tr>\n",
       "      <td id=\"T_7f420_row2_col0\" class=\"data row2 col0\" >PTT</td>\n",
       "      <td id=\"T_7f420_row2_col1\" class=\"data row2 col1\" >2025-09-01</td>\n",
       "      <td id=\"T_7f420_row2_col2\" class=\"data row2 col2\" >2,500</td>\n",
       "      <td id=\"T_7f420_row2_col3\" class=\"data row2 col3\" >31.00</td>\n",
       "      <td id=\"T_7f420_row2_col4\" class=\"data row2 col4\" >32.50</td>\n",
       "      <td id=\"T_7f420_row2_col5\" class=\"data row2 col5\" >34.10</td>\n",
       "      <td id=\"T_7f420_row2_col6\" class=\"data row2 col6\" >2.36%</td>\n",
       "      <td id=\"T_7f420_row2_col7\" class=\"data row2 col7\" >4.84%</td>\n",
       "      <td id=\"T_7f420_row2_col8\" class=\"data row2 col8\" >77,500.00</td>\n",
       "      <td id=\"T_7f420_row2_col9\" class=\"data row2 col9\" >81,250.00</td>\n",
       "      <td id=\"T_7f420_row2_col10\" class=\"data row2 col10\" >3,750.00</td>\n",
       "    </tr>\n",
       "    <tr>\n",
       "      <td id=\"T_7f420_row3_col0\" class=\"data row3 col0\" >DIF</td>\n",
       "      <td id=\"T_7f420_row3_col1\" class=\"data row3 col1\" >2025-08-14</td>\n",
       "      <td id=\"T_7f420_row3_col2\" class=\"data row3 col2\" >10,000</td>\n",
       "      <td id=\"T_7f420_row3_col3\" class=\"data row3 col3\" >8.45</td>\n",
       "      <td id=\"T_7f420_row3_col4\" class=\"data row3 col4\" >8.75</td>\n",
       "      <td id=\"T_7f420_row3_col5\" class=\"data row3 col5\" >9.29</td>\n",
       "      <td id=\"T_7f420_row3_col6\" class=\"data row3 col6\" >1.74%</td>\n",
       "      <td id=\"T_7f420_row3_col7\" class=\"data row3 col7\" >3.55%</td>\n",
       "      <td id=\"T_7f420_row3_col8\" class=\"data row3 col8\" >84,500.00</td>\n",
       "      <td id=\"T_7f420_row3_col9\" class=\"data row3 col9\" >87,500.00</td>\n",
       "      <td id=\"T_7f420_row3_col10\" class=\"data row3 col10\" >3,000.00</td>\n",
       "    </tr>\n",
       "    <tr>\n",
       "      <td id=\"T_7f420_row4_col0\" class=\"data row4 col0\" >TVO</td>\n",
       "      <td id=\"T_7f420_row4_col1\" class=\"data row4 col1\" >2024-11-06</td>\n",
       "      <td id=\"T_7f420_row4_col2\" class=\"data row4 col2\" >4,000</td>\n",
       "      <td id=\"T_7f420_row4_col3\" class=\"data row4 col3\" >24.90</td>\n",
       "      <td id=\"T_7f420_row4_col4\" class=\"data row4 col4\" >25.50</td>\n",
       "      <td id=\"T_7f420_row4_col5\" class=\"data row4 col5\" >27.39</td>\n",
       "      <td id=\"T_7f420_row4_col6\" class=\"data row4 col6\" >0.99%</td>\n",
       "      <td id=\"T_7f420_row4_col7\" class=\"data row4 col7\" >2.41%</td>\n",
       "      <td id=\"T_7f420_row4_col8\" class=\"data row4 col8\" >99,600.00</td>\n",
       "      <td id=\"T_7f420_row4_col9\" class=\"data row4 col9\" >102,000.00</td>\n",
       "      <td id=\"T_7f420_row4_col10\" class=\"data row4 col10\" >2,400.00</td>\n",
       "    </tr>\n",
       "    <tr>\n",
       "      <td id=\"T_7f420_row5_col0\" class=\"data row5 col0\" >PTT</td>\n",
       "      <td id=\"T_7f420_row5_col1\" class=\"data row5 col1\" >2025-08-08</td>\n",
       "      <td id=\"T_7f420_row5_col2\" class=\"data row5 col2\" >2,500</td>\n",
       "      <td id=\"T_7f420_row5_col3\" class=\"data row5 col3\" >32.00</td>\n",
       "      <td id=\"T_7f420_row5_col4\" class=\"data row5 col4\" >32.50</td>\n",
       "      <td id=\"T_7f420_row5_col5\" class=\"data row5 col5\" >35.20</td>\n",
       "      <td id=\"T_7f420_row5_col6\" class=\"data row5 col6\" >2.36%</td>\n",
       "      <td id=\"T_7f420_row5_col7\" class=\"data row5 col7\" >1.56%</td>\n",
       "      <td id=\"T_7f420_row5_col8\" class=\"data row5 col8\" >80,000.00</td>\n",
       "      <td id=\"T_7f420_row5_col9\" class=\"data row5 col9\" >81,250.00</td>\n",
       "      <td id=\"T_7f420_row5_col10\" class=\"data row5 col10\" >1,250.00</td>\n",
       "    </tr>\n",
       "    <tr>\n",
       "      <td id=\"T_7f420_row6_col0\" class=\"data row6 col0\" >AIMIRT</td>\n",
       "      <td id=\"T_7f420_row6_col1\" class=\"data row6 col1\" >2025-08-13</td>\n",
       "      <td id=\"T_7f420_row6_col2\" class=\"data row6 col2\" >2,500</td>\n",
       "      <td id=\"T_7f420_row6_col3\" class=\"data row6 col3\" >9.80</td>\n",
       "      <td id=\"T_7f420_row6_col4\" class=\"data row6 col4\" >9.80</td>\n",
       "      <td id=\"T_7f420_row6_col5\" class=\"data row6 col5\" >10.78</td>\n",
       "      <td id=\"T_7f420_row6_col6\" class=\"data row6 col6\" >1.03%</td>\n",
       "      <td id=\"T_7f420_row6_col7\" class=\"data row6 col7\" >0.00%</td>\n",
       "      <td id=\"T_7f420_row6_col8\" class=\"data row6 col8\" >24,500.00</td>\n",
       "      <td id=\"T_7f420_row6_col9\" class=\"data row6 col9\" >24,500.00</td>\n",
       "      <td id=\"T_7f420_row6_col10\" class=\"data row6 col10\" >0.00</td>\n",
       "    </tr>\n",
       "  </tbody>\n",
       "</table>\n"
      ],
      "text/plain": [
       "<pandas.io.formats.style.Styler at 0x21a94e3e4b0>"
      ]
     },
     "execution_count": 46,
     "metadata": {},
     "output_type": "execute_result"
    }
   ],
   "source": [
    "watch_list = buys_price.loc[buys_price.cost <= buys_price.price,colu]\n",
    "watch_list.sort_values('%profit',ascending=False).style.format(format_dict).hide(axis=\"index\")"
   ]
  },
  {
   "cell_type": "code",
   "execution_count": 47,
   "id": "549390cd",
   "metadata": {},
   "outputs": [
    {
     "name": "stdout",
     "output_type": "stream",
     "text": [
      "Ruby path (ruby_path): C:\\Users\\PC1\\OneDrive\\A5\\Ruby\n"
     ]
    }
   ],
   "source": [
    "current_path = os.getcwd()\n",
    "base_path = os.path.dirname(current_path)\n",
    "ruby_path = os.path.join(base_path, \"Ruby\")\n",
    "print(f\"Ruby path (ruby_path): {ruby_path}\") "
   ]
  },
  {
   "cell_type": "code",
   "execution_count": 48,
   "id": "db49528d-6d0e-4889-99e9-4612f1b00f73",
   "metadata": {},
   "outputs": [],
   "source": [
    "file_name = \"watch-list-sell.xlsx\"\n",
    "output_file = os.path.join(ruby_path, file_name)\n",
    "watch_list[colu].sort_values('%profit',ascending=False).to_excel(output_file, header=True, index=False)"
   ]
  },
  {
   "cell_type": "code",
   "execution_count": 49,
   "id": "62b87bc1-3685-4586-b4f1-cce41318e265",
   "metadata": {},
   "outputs": [
    {
     "data": {
      "text/plain": [
       "'฿22,500.00'"
      ]
     },
     "execution_count": 49,
     "metadata": {},
     "output_type": "execute_result"
    }
   ],
   "source": [
    "float_formatter = \"฿{:,.2f}\"\n",
    "float_formatter.format(watch_list.difa.sum())"
   ]
  },
  {
   "cell_type": "code",
   "execution_count": 50,
   "id": "1e32383e-066d-4988-a233-ac3a0d453773",
   "metadata": {},
   "outputs": [
    {
     "data": {
      "text/html": [
       "<style type=\"text/css\">\n",
       "</style>\n",
       "<table id=\"T_8f49d\">\n",
       "  <thead>\n",
       "    <tr>\n",
       "      <th id=\"T_8f49d_level0_col0\" class=\"col_heading level0 col0\" >name</th>\n",
       "      <th id=\"T_8f49d_level0_col1\" class=\"col_heading level0 col1\" >date_x</th>\n",
       "      <th id=\"T_8f49d_level0_col2\" class=\"col_heading level0 col2\" >qty</th>\n",
       "      <th id=\"T_8f49d_level0_col3\" class=\"col_heading level0 col3\" >cost</th>\n",
       "      <th id=\"T_8f49d_level0_col4\" class=\"col_heading level0 col4\" >price</th>\n",
       "      <th id=\"T_8f49d_level0_col5\" class=\"col_heading level0 col5\" >target</th>\n",
       "      <th id=\"T_8f49d_level0_col6\" class=\"col_heading level0 col6\" >%change</th>\n",
       "      <th id=\"T_8f49d_level0_col7\" class=\"col_heading level0 col7\" >%profit</th>\n",
       "      <th id=\"T_8f49d_level0_col8\" class=\"col_heading level0 col8\" >cst_amt</th>\n",
       "      <th id=\"T_8f49d_level0_col9\" class=\"col_heading level0 col9\" >mkt_amt</th>\n",
       "      <th id=\"T_8f49d_level0_col10\" class=\"col_heading level0 col10\" >difa</th>\n",
       "    </tr>\n",
       "  </thead>\n",
       "  <tbody>\n",
       "    <tr>\n",
       "      <td id=\"T_8f49d_row0_col0\" class=\"data row0 col0\" >TVO</td>\n",
       "      <td id=\"T_8f49d_row0_col1\" class=\"data row0 col1\" >2025-03-12</td>\n",
       "      <td id=\"T_8f49d_row0_col2\" class=\"data row0 col2\" >4,000</td>\n",
       "      <td id=\"T_8f49d_row0_col3\" class=\"data row0 col3\" >23.10</td>\n",
       "      <td id=\"T_8f49d_row0_col4\" class=\"data row0 col4\" >25.50</td>\n",
       "      <td id=\"T_8f49d_row0_col5\" class=\"data row0 col5\" >25.41</td>\n",
       "      <td id=\"T_8f49d_row0_col6\" class=\"data row0 col6\" >0.99%</td>\n",
       "      <td id=\"T_8f49d_row0_col7\" class=\"data row0 col7\" >10.39%</td>\n",
       "      <td id=\"T_8f49d_row0_col8\" class=\"data row0 col8\" >92,400.00</td>\n",
       "      <td id=\"T_8f49d_row0_col9\" class=\"data row0 col9\" >102,000.00</td>\n",
       "      <td id=\"T_8f49d_row0_col10\" class=\"data row0 col10\" >9,600.00</td>\n",
       "    </tr>\n",
       "  </tbody>\n",
       "</table>\n"
      ],
      "text/plain": [
       "<pandas.io.formats.style.Styler at 0x21a96192d50>"
      ]
     },
     "execution_count": 50,
     "metadata": {},
     "output_type": "execute_result"
    }
   ],
   "source": [
    "sell_list = buys_price.loc[buys_price['%profit'] >= 10.00,colu]\n",
    "sell_list.sort_values('%profit',ascending=False).style.format(format_dict).hide(axis=\"index\")"
   ]
  },
  {
   "cell_type": "code",
   "execution_count": 51,
   "id": "339fe0fa-3220-4351-b2a3-1f153c9a8653",
   "metadata": {},
   "outputs": [
    {
     "data": {
      "text/plain": [
       "'฿92,400.00'"
      ]
     },
     "execution_count": 51,
     "metadata": {},
     "output_type": "execute_result"
    }
   ],
   "source": [
    "float_formatter = \"฿{:,.2f}\"\n",
    "float_formatter.format(sell_list.cst_amt.sum())"
   ]
  },
  {
   "cell_type": "code",
   "execution_count": 52,
   "id": "ca90efd3-2caf-4b78-9039-b5fee8d10b73",
   "metadata": {},
   "outputs": [
    {
     "data": {
      "text/plain": [
       "'฿102,000.00'"
      ]
     },
     "execution_count": 52,
     "metadata": {},
     "output_type": "execute_result"
    }
   ],
   "source": [
    "float_formatter = \"฿{:,.2f}\"\n",
    "float_formatter.format(sell_list.mkt_amt.sum())"
   ]
  },
  {
   "cell_type": "code",
   "execution_count": 53,
   "id": "4f5f1482-0f3c-402a-b475-b0dca9efacdd",
   "metadata": {},
   "outputs": [
    {
     "data": {
      "text/plain": [
       "'฿9,600.00'"
      ]
     },
     "execution_count": 53,
     "metadata": {},
     "output_type": "execute_result"
    }
   ],
   "source": [
    "float_formatter = \"฿{:,.2f}\"\n",
    "float_formatter.format(sell_list.difa.sum())"
   ]
  },
  {
   "cell_type": "markdown",
   "id": "4cde016b",
   "metadata": {},
   "source": [
    "### Profit per Month"
   ]
  },
  {
   "cell_type": "code",
   "execution_count": 55,
   "id": "0873917b",
   "metadata": {},
   "outputs": [
    {
     "name": "stdout",
     "output_type": "stream",
     "text": [
      "\n",
      "SELECT name, YEAR(sells.date) AS sell_year, MONTH(sells.date) AS sell_month, \n",
      "       sells.price AS sell_price, buys.price AS buy_price, (sells.price - buys.price) AS diff, \n",
      "       qty, (sells.price * qty) AS sell_amt, (buys.price * qty) AS buy_amt, \n",
      "       (sells.price - buys.price) * qty AS gross, \n",
      "       ROUND((sells.price - buys.price)/buys.price*100,2) AS pct, days\n",
      "FROM sells JOIN buys ON sells.buy_id = buys.id\n",
      "JOIN stocks ON buys.stock_id = stocks.id\n",
      "WHERE YEAR(sells.date) = 2025 AND MONTH(sells.date) = 9\n",
      "ORDER BY sells.date DESC, name\n"
     ]
    }
   ],
   "source": [
    "year = 2025\n",
    "month = 9\n",
    "sql = '''\n",
    "SELECT name, YEAR(sells.date) AS sell_year, MONTH(sells.date) AS sell_month, \n",
    "       sells.price AS sell_price, buys.price AS buy_price, (sells.price - buys.price) AS diff, \n",
    "       qty, (sells.price * qty) AS sell_amt, (buys.price * qty) AS buy_amt, \n",
    "       (sells.price - buys.price) * qty AS gross, \n",
    "       ROUND((sells.price - buys.price)/buys.price*100,2) AS pct, days\n",
    "FROM sells JOIN buys ON sells.buy_id = buys.id\n",
    "JOIN stocks ON buys.stock_id = stocks.id\n",
    "WHERE YEAR(sells.date) = %s AND MONTH(sells.date) = %s\n",
    "ORDER BY sells.date DESC, name'''\n",
    "sql = sql % (year, month)\n",
    "sells_df = pd.read_sql(sql, conpf)\n",
    "print(sql)"
   ]
  },
  {
   "cell_type": "code",
   "execution_count": 56,
   "id": "dbe9d338",
   "metadata": {},
   "outputs": [
    {
     "data": {
      "text/html": [
       "<style type=\"text/css\">\n",
       "</style>\n",
       "<table id=\"T_42a29\">\n",
       "  <thead>\n",
       "    <tr>\n",
       "      <th id=\"T_42a29_level0_col0\" class=\"col_heading level0 col0\" >name</th>\n",
       "      <th id=\"T_42a29_level0_col1\" class=\"col_heading level0 col1\" >sell_year</th>\n",
       "      <th id=\"T_42a29_level0_col2\" class=\"col_heading level0 col2\" >sell_month</th>\n",
       "      <th id=\"T_42a29_level0_col3\" class=\"col_heading level0 col3\" >sell_price</th>\n",
       "      <th id=\"T_42a29_level0_col4\" class=\"col_heading level0 col4\" >buy_price</th>\n",
       "      <th id=\"T_42a29_level0_col5\" class=\"col_heading level0 col5\" >diff</th>\n",
       "      <th id=\"T_42a29_level0_col6\" class=\"col_heading level0 col6\" >qty</th>\n",
       "      <th id=\"T_42a29_level0_col7\" class=\"col_heading level0 col7\" >sell_amt</th>\n",
       "      <th id=\"T_42a29_level0_col8\" class=\"col_heading level0 col8\" >buy_amt</th>\n",
       "      <th id=\"T_42a29_level0_col9\" class=\"col_heading level0 col9\" >gross</th>\n",
       "      <th id=\"T_42a29_level0_col10\" class=\"col_heading level0 col10\" >pct</th>\n",
       "      <th id=\"T_42a29_level0_col11\" class=\"col_heading level0 col11\" >days</th>\n",
       "    </tr>\n",
       "  </thead>\n",
       "  <tbody>\n",
       "    <tr>\n",
       "      <td id=\"T_42a29_row0_col0\" class=\"data row0 col0\" >CPF</td>\n",
       "      <td id=\"T_42a29_row0_col1\" class=\"data row0 col1\" >2025</td>\n",
       "      <td id=\"T_42a29_row0_col2\" class=\"data row0 col2\" >9</td>\n",
       "      <td id=\"T_42a29_row0_col3\" class=\"data row0 col3\" >23.40</td>\n",
       "      <td id=\"T_42a29_row0_col4\" class=\"data row0 col4\" >24.10</td>\n",
       "      <td id=\"T_42a29_row0_col5\" class=\"data row0 col5\" >-0.70</td>\n",
       "      <td id=\"T_42a29_row0_col6\" class=\"data row0 col6\" >5,000</td>\n",
       "      <td id=\"T_42a29_row0_col7\" class=\"data row0 col7\" >117,000.00</td>\n",
       "      <td id=\"T_42a29_row0_col8\" class=\"data row0 col8\" >120,500.00</td>\n",
       "      <td id=\"T_42a29_row0_col9\" class=\"data row0 col9\" >-3,500.00</td>\n",
       "      <td id=\"T_42a29_row0_col10\" class=\"data row0 col10\" >-2.90%</td>\n",
       "      <td id=\"T_42a29_row0_col11\" class=\"data row0 col11\" >13</td>\n",
       "    </tr>\n",
       "    <tr>\n",
       "      <td id=\"T_42a29_row1_col0\" class=\"data row1 col0\" >DIF</td>\n",
       "      <td id=\"T_42a29_row1_col1\" class=\"data row1 col1\" >2025</td>\n",
       "      <td id=\"T_42a29_row1_col2\" class=\"data row1 col2\" >9</td>\n",
       "      <td id=\"T_42a29_row1_col3\" class=\"data row1 col3\" >8.30</td>\n",
       "      <td id=\"T_42a29_row1_col4\" class=\"data row1 col4\" >7.50</td>\n",
       "      <td id=\"T_42a29_row1_col5\" class=\"data row1 col5\" >0.80</td>\n",
       "      <td id=\"T_42a29_row1_col6\" class=\"data row1 col6\" >5,000</td>\n",
       "      <td id=\"T_42a29_row1_col7\" class=\"data row1 col7\" >41,500.00</td>\n",
       "      <td id=\"T_42a29_row1_col8\" class=\"data row1 col8\" >37,500.00</td>\n",
       "      <td id=\"T_42a29_row1_col9\" class=\"data row1 col9\" >4,000.00</td>\n",
       "      <td id=\"T_42a29_row1_col10\" class=\"data row1 col10\" >10.67%</td>\n",
       "      <td id=\"T_42a29_row1_col11\" class=\"data row1 col11\" >147</td>\n",
       "    </tr>\n",
       "  </tbody>\n",
       "</table>\n"
      ],
      "text/plain": [
       "<pandas.io.formats.style.Styler at 0x21a96244260>"
      ]
     },
     "execution_count": 56,
     "metadata": {},
     "output_type": "execute_result"
    }
   ],
   "source": [
    "sells_df.style.format(format_dict).hide(axis=\"index\")"
   ]
  },
  {
   "cell_type": "code",
   "execution_count": 57,
   "id": "15d59f94",
   "metadata": {},
   "outputs": [
    {
     "name": "stdout",
     "output_type": "stream",
     "text": [
      "Monthly Profit Amount: 500.00\n"
     ]
    }
   ],
   "source": [
    "print(f\"Monthly Profit Amount: {sells_df.gross.sum():,.2f}\")"
   ]
  },
  {
   "cell_type": "code",
   "execution_count": 58,
   "id": "141ad35d-fbdc-489e-a0dd-2df6497e8ca1",
   "metadata": {},
   "outputs": [],
   "source": [
    "file_name = \"monthly-sales.csv\"\n",
    "output_file = os.path.join(dat_path, file_name)\n",
    "god_file = os.path.join(god_path, file_name)\n",
    "icd_file = os.path.join(icd_path, file_name)\n",
    "osd_file = os.path.join(osd_path, file_name)"
   ]
  },
  {
   "cell_type": "code",
   "execution_count": 59,
   "id": "13b9620f-4783-4971-b535-475118237eab",
   "metadata": {},
   "outputs": [
    {
     "name": "stdout",
     "output_type": "stream",
     "text": [
      "output_file : C:\\Users\\PC1\\OneDrive\\A5\\Data\\monthly-sales.csv\n",
      "icd_file : C:\\Users\\PC1\\iCloudDrive\\Data\\monthly-sales.csv\n",
      "god_file : C:\\Users\\PC1\\OneDrive\\Imports\\santisoontarinka@gmail.com - Google Drive\\Data\\monthly-sales.csv\n",
      "osd_file : C:\\Users\\PC1\\OneDrive\\Documents\\obsidian-git-sync\\Data\\monthly-sales.csv\n"
     ]
    }
   ],
   "source": [
    "print(f\"output_file : {output_file}\") \n",
    "print(f\"icd_file : {icd_file}\") \n",
    "print(f\"god_file : {god_file}\") \n",
    "print(f\"osd_file : {osd_file}\") "
   ]
  },
  {
   "cell_type": "code",
   "execution_count": 60,
   "id": "55163491-8a2b-4436-a977-be87096934dc",
   "metadata": {},
   "outputs": [],
   "source": [
    "sells_df.to_csv(output_file, header=True, index=False)\n",
    "sells_df.to_csv(god_file, header=True, index=False)\n",
    "sells_df.to_csv(icd_file, header=True, index=False)\n",
    "sells_df.to_csv(osd_file, header=True, index=False)"
   ]
  },
  {
   "cell_type": "code",
   "execution_count": 61,
   "id": "2bd22547",
   "metadata": {},
   "outputs": [
    {
     "data": {
      "text/html": [
       "<style type=\"text/css\">\n",
       "</style>\n",
       "<table id=\"T_9de40\">\n",
       "  <thead>\n",
       "    <tr>\n",
       "      <th id=\"T_9de40_level0_col0\" class=\"col_heading level0 col0\" >name</th>\n",
       "      <th id=\"T_9de40_level0_col1\" class=\"col_heading level0 col1\" >sell_year</th>\n",
       "      <th id=\"T_9de40_level0_col2\" class=\"col_heading level0 col2\" >sell_month</th>\n",
       "      <th id=\"T_9de40_level0_col3\" class=\"col_heading level0 col3\" >sell_price</th>\n",
       "      <th id=\"T_9de40_level0_col4\" class=\"col_heading level0 col4\" >buy_price</th>\n",
       "      <th id=\"T_9de40_level0_col5\" class=\"col_heading level0 col5\" >diff</th>\n",
       "      <th id=\"T_9de40_level0_col6\" class=\"col_heading level0 col6\" >qty</th>\n",
       "      <th id=\"T_9de40_level0_col7\" class=\"col_heading level0 col7\" >sell_amt</th>\n",
       "      <th id=\"T_9de40_level0_col8\" class=\"col_heading level0 col8\" >buy_amt</th>\n",
       "      <th id=\"T_9de40_level0_col9\" class=\"col_heading level0 col9\" >gross</th>\n",
       "      <th id=\"T_9de40_level0_col10\" class=\"col_heading level0 col10\" >pct</th>\n",
       "      <th id=\"T_9de40_level0_col11\" class=\"col_heading level0 col11\" >days</th>\n",
       "      <th id=\"T_9de40_level0_col12\" class=\"col_heading level0 col12\" >profit_per_day</th>\n",
       "    </tr>\n",
       "  </thead>\n",
       "  <tbody>\n",
       "    <tr>\n",
       "      <td id=\"T_9de40_row0_col0\" class=\"data row0 col0\" >CPF</td>\n",
       "      <td id=\"T_9de40_row0_col1\" class=\"data row0 col1\" >2025</td>\n",
       "      <td id=\"T_9de40_row0_col2\" class=\"data row0 col2\" >9</td>\n",
       "      <td id=\"T_9de40_row0_col3\" class=\"data row0 col3\" >23.40</td>\n",
       "      <td id=\"T_9de40_row0_col4\" class=\"data row0 col4\" >24.10</td>\n",
       "      <td id=\"T_9de40_row0_col5\" class=\"data row0 col5\" >-0.70</td>\n",
       "      <td id=\"T_9de40_row0_col6\" class=\"data row0 col6\" >5,000</td>\n",
       "      <td id=\"T_9de40_row0_col7\" class=\"data row0 col7\" >117,000.00</td>\n",
       "      <td id=\"T_9de40_row0_col8\" class=\"data row0 col8\" >120,500.00</td>\n",
       "      <td id=\"T_9de40_row0_col9\" class=\"data row0 col9\" >-3,500.00</td>\n",
       "      <td id=\"T_9de40_row0_col10\" class=\"data row0 col10\" >-2.90%</td>\n",
       "      <td id=\"T_9de40_row0_col11\" class=\"data row0 col11\" >13</td>\n",
       "      <td id=\"T_9de40_row0_col12\" class=\"data row0 col12\" >-0.223428</td>\n",
       "    </tr>\n",
       "    <tr>\n",
       "      <td id=\"T_9de40_row1_col0\" class=\"data row1 col0\" >DIF</td>\n",
       "      <td id=\"T_9de40_row1_col1\" class=\"data row1 col1\" >2025</td>\n",
       "      <td id=\"T_9de40_row1_col2\" class=\"data row1 col2\" >9</td>\n",
       "      <td id=\"T_9de40_row1_col3\" class=\"data row1 col3\" >8.30</td>\n",
       "      <td id=\"T_9de40_row1_col4\" class=\"data row1 col4\" >7.50</td>\n",
       "      <td id=\"T_9de40_row1_col5\" class=\"data row1 col5\" >0.80</td>\n",
       "      <td id=\"T_9de40_row1_col6\" class=\"data row1 col6\" >5,000</td>\n",
       "      <td id=\"T_9de40_row1_col7\" class=\"data row1 col7\" >41,500.00</td>\n",
       "      <td id=\"T_9de40_row1_col8\" class=\"data row1 col8\" >37,500.00</td>\n",
       "      <td id=\"T_9de40_row1_col9\" class=\"data row1 col9\" >4,000.00</td>\n",
       "      <td id=\"T_9de40_row1_col10\" class=\"data row1 col10\" >10.67%</td>\n",
       "      <td id=\"T_9de40_row1_col11\" class=\"data row1 col11\" >147</td>\n",
       "      <td id=\"T_9de40_row1_col12\" class=\"data row1 col12\" >0.072562</td>\n",
       "    </tr>\n",
       "  </tbody>\n",
       "</table>\n"
      ],
      "text/plain": [
       "<pandas.io.formats.style.Styler at 0x21a9620fd10>"
      ]
     },
     "execution_count": 61,
     "metadata": {},
     "output_type": "execute_result"
    }
   ],
   "source": [
    "sells_df['profit_per_day'] = (sells_df['gross'] / sells_df['buy_amt']) / sells_df['days'] * 100\n",
    "sells_df.style.format(format_dict).hide(axis=\"index\")"
   ]
  },
  {
   "cell_type": "code",
   "execution_count": 62,
   "id": "72125ca7",
   "metadata": {},
   "outputs": [
    {
     "data": {
      "text/plain": [
       "'฿500.00'"
      ]
     },
     "execution_count": 62,
     "metadata": {},
     "output_type": "execute_result"
    }
   ],
   "source": [
    "float_formatter = \"฿{:,.2f}\"\n",
    "float_formatter.format(sells_df.gross.sum())"
   ]
  },
  {
   "cell_type": "code",
   "execution_count": 63,
   "id": "eb62bb1b",
   "metadata": {},
   "outputs": [
    {
     "name": "stdout",
     "output_type": "stream",
     "text": [
      "Average Profit Percent: -0.08%\n"
     ]
    }
   ],
   "source": [
    "average_profit_percent = sells_df['profit_per_day'].mean()\n",
    "print(f\"Average Profit Percent: {average_profit_percent:.2f}%\")"
   ]
  },
  {
   "cell_type": "code",
   "execution_count": 64,
   "id": "9e7944db",
   "metadata": {},
   "outputs": [
    {
     "data": {
      "text/plain": [
       "'September 09, 2025'"
      ]
     },
     "execution_count": 64,
     "metadata": {},
     "output_type": "execute_result"
    }
   ],
   "source": [
    "#dt = date(2023, 11, 8)\n",
    "dt = today\n",
    "dt.strftime(\"%B %d, %Y\")"
   ]
  },
  {
   "cell_type": "code",
   "execution_count": 65,
   "id": "e1bafc00",
   "metadata": {},
   "outputs": [
    {
     "name": "stdout",
     "output_type": "stream",
     "text": [
      "Hello, Alice! Today is September 09, 2025.\n"
     ]
    }
   ],
   "source": [
    "print(\"Hello, {}! Today is {:%B %d, %Y}.\".format(\"Alice\", dt))"
   ]
  },
  {
   "cell_type": "code",
   "execution_count": 66,
   "id": "a77f991b-0572-48dc-9066-926df7a3e479",
   "metadata": {},
   "outputs": [],
   "source": [
    "conlite.commit()\n",
    "conlite.close()"
   ]
  },
  {
   "cell_type": "code",
   "execution_count": 67,
   "id": "ff23d38c",
   "metadata": {},
   "outputs": [
    {
     "name": "stdout",
     "output_type": "stream",
     "text": [
      "2025-09-09 20:02:23\n"
     ]
    }
   ],
   "source": [
    "# Get the current time\n",
    "current_time = datetime.now()\n",
    "# Format the time to remove millisAeconds\n",
    "formatted_time = current_time.strftime(\"%Y-%m-%d %H:%M:%S\")\n",
    "print(formatted_time)"
   ]
  },
  {
   "cell_type": "code",
   "execution_count": null,
   "id": "e2d7d5de-57b3-497c-a2bf-b0381bc37835",
   "metadata": {},
   "outputs": [],
   "source": []
  }
 ],
 "metadata": {
  "kernelspec": {
   "display_name": "Python 3 (ipykernel)",
   "language": "python",
   "name": "python3"
  },
  "language_info": {
   "codemirror_mode": {
    "name": "ipython",
    "version": 3
   },
   "file_extension": ".py",
   "mimetype": "text/x-python",
   "name": "python",
   "nbconvert_exporter": "python",
   "pygments_lexer": "ipython3",
   "version": "3.12.3"
  }
 },
 "nbformat": 4,
 "nbformat_minor": 5
}
