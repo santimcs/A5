{
 "cells": [
  {
   "cell_type": "markdown",
   "id": "d8a383f5",
   "metadata": {},
   "source": [
    "### Input files: Price-Today, orders-log\n",
    "### Output files: Price-for-Order, orders-log, monthly-sales"
   ]
  },
  {
   "cell_type": "code",
   "execution_count": 2,
   "id": "2a2bb67d",
   "metadata": {},
   "outputs": [
    {
     "data": {
      "text/plain": [
       "(datetime.date(2025, 1, 31), datetime.date(2025, 1, 30))"
      ]
     },
     "execution_count": 2,
     "metadata": {},
     "output_type": "execute_result"
    }
   ],
   "source": [
    "import glob\n",
    "import os\n",
    "import pandas as pd\n",
    "from datetime import date, timedelta\n",
    "from pandas.tseries.offsets import *\n",
    "from sqlalchemy import create_engine\n",
    "\n",
    "engine = create_engine(\"sqlite:///c:\\\\ruby\\\\port_lite\\\\db\\\\development.sqlite3\")\n",
    "conlite = engine.connect()\n",
    "engine = create_engine('mysql+pymysql://root:@localhost:3306/portfolio_development')\n",
    "conpf = engine.connect()\n",
    "\n",
    "format_dict = {'qty':'{:,}',\n",
    "              'sell_price':'{:,.2f}','buy_price':'{:,.2f}','diff':'{:,.2f}',\n",
    "              'sell_amt':'{:,.2f}','buy_amt':'{:,.2f}','gross':'{:,.2f}','amount':'{:,.2f}',\n",
    "              'pct':'{:,.2f}','net':'{:,.2f}'}\n",
    "\n",
    "pd.options.display.max_rows = 50\n",
    "pd.options.display.float_format = '{:.2f}'.format\n",
    "\n",
    "today = date.today()\n",
    "yesterday = today - timedelta(days=1)\n",
    "today, yesterday"
   ]
  },
  {
   "cell_type": "code",
   "execution_count": 3,
   "id": "20838b19",
   "metadata": {},
   "outputs": [
    {
     "name": "stdout",
     "output_type": "stream",
     "text": [
      "today: 2025-01-31\n",
      "yesterday: 2025-01-30\n"
     ]
    }
   ],
   "source": [
    "num_business_days = BDay(1)\n",
    "yesterday = today - num_business_days\n",
    "print(f'today: {today}')\n",
    "yesterday = yesterday.date()\n",
    "print(f'yesterday: {yesterday}')"
   ]
  },
  {
   "cell_type": "code",
   "execution_count": 4,
   "id": "75ae99cf-1264-40eb-b21c-61a74b8b10fd",
   "metadata": {},
   "outputs": [
    {
     "data": {
      "text/plain": [
       "datetime.date(2025, 1, 31)"
      ]
     },
     "execution_count": 4,
     "metadata": {},
     "output_type": "execute_result"
    }
   ],
   "source": [
    "# If run after actual work day\n",
    "#today = today - timedelta(days=2)\n",
    "today"
   ]
  },
  {
   "cell_type": "markdown",
   "id": "29764f10",
   "metadata": {},
   "source": [
    "### Restart and Run All Cells"
   ]
  },
  {
   "cell_type": "code",
   "execution_count": 6,
   "id": "f7a312be-8512-45c3-bb3d-56f045087797",
   "metadata": {},
   "outputs": [],
   "source": [
    "# Get the user's home directory\n",
    "user_path = os.path.expanduser('~')\n",
    "# Get the current working directory\n",
    "current_path = os.getcwd()\n",
    "# Derive the base directory (base_dir) by removing the last folder ('Daily')\n",
    "base_path = os.path.dirname(current_path)\n",
    "#C:\\Users\\PC1\\OneDrive\\A5\\Data\n",
    "dat_path = os.path.join(base_path, \"Data\")\n",
    "#C:\\Users\\PC1\\OneDrive\\Imports\\santisoontarinka@gmail.com - Google Drive\\Data>\n",
    "god_path = os.path.join(user_path, \"OneDrive\",\"Imports\",\"santisoontarinka@gmail.com - Google Drive\",\"Data\")\n",
    "#C:\\Users\\PC1\\iCloudDrive\\data\n",
    "icd_path = os.path.join(user_path, \"iCloudDrive\", \"Data\")\n",
    "#C:\\Users\\PC1\\OneDrive\\Documents\\obsidian-git-sync\\Data\n",
    "osd_path = os.path.join(user_path, \"OneDrive\",\"Documents\",\"obsidian-git-sync\",\"Data\")"
   ]
  },
  {
   "cell_type": "code",
   "execution_count": 7,
   "id": "5e00013c-ddbb-45ba-9c1a-b1e5f8ec70d3",
   "metadata": {},
   "outputs": [
    {
     "name": "stdout",
     "output_type": "stream",
     "text": [
      "User path: C:\\Users\\PC1\n",
      "Current path: C:\\Users\\PC1\\OneDrive\\A5\\Daily\n",
      "Base path: C:\\Users\\PC1\\OneDrive\\A5\n",
      "Data path (dat_path): C:\\Users\\PC1\\OneDrive\\A5\\Data\n",
      "Google Drive path (god_path): C:\\Users\\PC1\\OneDrive\\Imports\\santisoontarinka@gmail.com - Google Drive\\Data\n",
      "iCloudDrive path (icd_path): C:\\Users\\PC1\\iCloudDrive\\Data\n",
      "Obsidian path (osd_path): C:\\Users\\PC1\\OneDrive\\Documents\\obsidian-git-sync\\Data\n"
     ]
    }
   ],
   "source": [
    "print(\"User path:\", user_path)\n",
    "print(f\"Current path: {current_path}\")\n",
    "print(f\"Base path: {base_path}\")\n",
    "print(f\"Data path (dat_path): {dat_path}\") \n",
    "print(f\"Google Drive path (god_path): {god_path}\")\n",
    "print(f\"iCloudDrive path (icd_path): {icd_path}\") \n",
    "print(f\"Obsidian path (osd_path): {osd_path}\") "
   ]
  },
  {
   "cell_type": "markdown",
   "id": "e01955e8",
   "metadata": {},
   "source": [
    "## Must rerun whenever there is change in orders"
   ]
  },
  {
   "cell_type": "code",
   "execution_count": 9,
   "id": "d4b5fc44",
   "metadata": {},
   "outputs": [
    {
     "data": {
      "text/plain": [
       "(20, 8)"
      ]
     },
     "execution_count": 9,
     "metadata": {},
     "output_type": "execute_result"
    }
   ],
   "source": [
    "sql = \"\"\"\n",
    "SELECT trade, name, qty, price AS target, active, reason, market, xdate \n",
    "FROM orders\n",
    "ORDER BY trade, name\"\"\"\n",
    "orders = pd.read_sql(sql, conlite)\n",
    "orders.shape"
   ]
  },
  {
   "cell_type": "code",
   "execution_count": 10,
   "id": "d6b5b24c",
   "metadata": {},
   "outputs": [
    {
     "name": "stdout",
     "output_type": "stream",
     "text": [
      "Input file: C:\\Users\\PC1\\OneDrive\\A5\\Data\\Price-Today.csv\n"
     ]
    }
   ],
   "source": [
    "file_name = \"Price-Today.csv\"\n",
    "input_file = os.path.join(dat_path, file_name)\n",
    "print(f\"Input file: {input_file}\")"
   ]
  },
  {
   "cell_type": "code",
   "execution_count": 11,
   "id": "f9f6b3d9",
   "metadata": {},
   "outputs": [
    {
     "data": {
      "text/plain": [
       "(182, 10)"
      ]
     },
     "execution_count": 11,
     "metadata": {},
     "output_type": "execute_result"
    }
   ],
   "source": [
    "prices = pd.read_csv(input_file)\n",
    "prices.shape"
   ]
  },
  {
   "cell_type": "code",
   "execution_count": 12,
   "id": "5b436ae1",
   "metadata": {},
   "outputs": [
    {
     "data": {
      "text/plain": [
       "(20, 17)"
      ]
     },
     "execution_count": 12,
     "metadata": {},
     "output_type": "execute_result"
    }
   ],
   "source": [
    "df_merge  = pd.merge(orders, prices, on = 'name', how='inner')\n",
    "df_merge.shape"
   ]
  },
  {
   "cell_type": "code",
   "execution_count": 13,
   "id": "d160b65c",
   "metadata": {},
   "outputs": [],
   "source": [
    "df_merge['spd'] = 0"
   ]
  },
  {
   "cell_type": "code",
   "execution_count": 14,
   "id": "68bb6b33",
   "metadata": {
    "scrolled": true
   },
   "outputs": [
    {
     "data": {
      "text/plain": [
       "(20, 12)"
      ]
     },
     "execution_count": 14,
     "metadata": {},
     "output_type": "execute_result"
    }
   ],
   "source": [
    "colo = ['trade', 'name', 'spd', 'reason', 'market', 'qty', 'target', 'price', 'change', '%change',\n",
    "        'active', 'xdate']\n",
    "df_merge[colo].shape"
   ]
  },
  {
   "cell_type": "code",
   "execution_count": 15,
   "id": "278505f4-a620-4e01-beac-0a8a47df215a",
   "metadata": {},
   "outputs": [],
   "source": [
    "file_name = \"Price-for-Order.csv\"\n",
    "output_file = os.path.join(dat_path, file_name)\n",
    "god_file = os.path.join(god_path, file_name)\n",
    "icd_file = os.path.join(icd_path, file_name)\n",
    "osd_file = os.path.join(osd_path, file_name)"
   ]
  },
  {
   "cell_type": "code",
   "execution_count": 16,
   "id": "f92616e5-84fa-49a8-a66e-18adf0f9c4e0",
   "metadata": {},
   "outputs": [
    {
     "name": "stdout",
     "output_type": "stream",
     "text": [
      "Output file: C:\\Users\\PC1\\OneDrive\\A5\\Data\\Price-for-Order.csv\n",
      "icd_file : C:\\Users\\PC1\\iCloudDrive\\Data\\Price-for-Order.csv\n",
      "god_file : C:\\Users\\PC1\\OneDrive\\Imports\\santisoontarinka@gmail.com - Google Drive\\Data\\Price-for-Order.csv\n",
      "osd_file : C:\\Users\\PC1\\OneDrive\\Documents\\obsidian-git-sync\\Data\\Price-for-Order.csv\n"
     ]
    }
   ],
   "source": [
    "print(f\"Output file: {output_file}\") \n",
    "print(f\"icd_file : {icd_file}\") \n",
    "print(f\"god_file : {god_file}\") \n",
    "print(f\"osd_file : {osd_file}\") "
   ]
  },
  {
   "cell_type": "code",
   "execution_count": 17,
   "id": "95d6fd8b-b39f-47ad-9c34-188ee94095c4",
   "metadata": {},
   "outputs": [],
   "source": [
    "df_merge[colo].to_csv(output_file, header=True, index=False)\n",
    "df_merge[colo].to_csv(god_file, header=True, index=False)\n",
    "df_merge[colo].to_csv(icd_file, header=True, index=False)\n",
    "df_merge[colo].to_csv(osd_file, header=True, index=False)"
   ]
  },
  {
   "cell_type": "markdown",
   "id": "b6dc65ac",
   "metadata": {},
   "source": [
    "### call ruby ruby\\order-log-new.rb"
   ]
  },
  {
   "cell_type": "code",
   "execution_count": 19,
   "id": "e154c230",
   "metadata": {},
   "outputs": [
    {
     "data": {
      "text/plain": [
       "'C:\\\\Users\\\\PC1\\\\OneDrive\\\\A5\\\\Daily'"
      ]
     },
     "execution_count": 19,
     "metadata": {},
     "output_type": "execute_result"
    }
   ],
   "source": [
    "%pwd"
   ]
  },
  {
   "cell_type": "code",
   "execution_count": 20,
   "id": "14494371",
   "metadata": {},
   "outputs": [
    {
     "data": {
      "text/plain": [
       "'C:\\\\Users\\\\PC1\\\\OneDrive\\\\A5'"
      ]
     },
     "execution_count": 20,
     "metadata": {},
     "output_type": "execute_result"
    }
   ],
   "source": [
    "os.chdir(base_path)\n",
    "%pwd"
   ]
  },
  {
   "cell_type": "code",
   "execution_count": 21,
   "id": "055e6f72",
   "metadata": {},
   "outputs": [
    {
     "name": "stdout",
     "output_type": "stream",
     "text": [
      "trade,name,spd,reason,market,qty,target,current,change,%change,active,xdate\n",
      "B,3BBIF,0,RD50Pct,SET,10000,5.25,5.25,0.0,0.0,1,2024-11-13\n",
      "B,AIMIRT,-3,RND05pct,SET,5000,10.2,10.5,0.1,0.961538,1,2024-11-26\n",
      "B,CPNREIT,-13,RD40Pct,SET,5000,10.8,12.1,-0.4,-3.2,0,2024-11-26\n",
      "B,DIF,-2,RD40Pct,SET,5000,8.3,8.4,0.0,0.0,1,2024-11-14\n",
      "B,GVREIT,-10,RND20Pct,SET,6000,6.25,6.75,0.1,1.503759,1,2024-08-28\n",
      "B,JMART,3,RND65pct,SET50,3200,11.2,10.9,-0.4,-3.539823,1,2024-09-30\n",
      "B,KCE,8,RD70Pct,SET100,1000,22.8,22.0,-0.2,-0.900901,1,2024-08-26\n",
      "B,MCS,-8,RD50Pct,SET,5000,5.8,6.2,-0.05,-0.8,1,2024-08-23\n",
      "B,NER,-10,RD40pct,SET,6000,4.7,4.9,-0.06,-1.209677,0,2024-08-23\n",
      "B,SENA,-17,RD60pct,SET,7000,1.92,2.18,0.0,0.0,0,2024-05-10\n",
      "B,TFFIF,-6,RD20Pct,SET,5000,6.0,6.3,0.0,0.0,1,2024-12-12\n",
      "B,WHAIR,-9,RD30pct,SET,5000,6.0,6.45,0.0,0.0,1,2024-11-21\n",
      "S,AWC,90,COS,SET50,9000,4.96,3.16,-0.02,-0.628931,0,2024-05-09\n",
      "S,BCH,74,COS,SET100,2000,21.7,14.3,0.0,0.0,0,2024-08-29\n",
      "S,JMT,203,COS,SET50,900,50.0,14.7,-0.6,-3.921569,0,2024-08-22\n",
      "S,PTG,64,COS,SET100,3600,11.4,7.45,-0.25,-3.246753,0,2024-11-26\n",
      "S,RCL,65,RD60pct,SET100,3000,38.75,24.0,-0.3,-1.234568,0,2024-11-21\n",
      "S,SYNEX,-484,RD70pct,SET,2000,0.0,13.4,0.2,1.515152,0,2024-08-27\n",
      "S,TVO,41,DTD,SET,4000,25.25,21.0,-0.2,-0.943396,0,2025-03-13\n",
      "S,WHART,21,COS,SET,10000,12.1,10.0,0.0,0.0,0,2024-11-25\n"
     ]
    }
   ],
   "source": [
    "!ruby ruby\\\\order-log-new.rb"
   ]
  },
  {
   "cell_type": "code",
   "execution_count": 22,
   "id": "216be764",
   "metadata": {},
   "outputs": [
    {
     "data": {
      "text/plain": [
       "'C:\\\\Users\\\\PC1\\\\OneDrive\\\\A5\\\\Daily'"
      ]
     },
     "execution_count": 22,
     "metadata": {},
     "output_type": "execute_result"
    }
   ],
   "source": [
    "os.chdir(current_path)\n",
    "%pwd"
   ]
  },
  {
   "cell_type": "code",
   "execution_count": 23,
   "id": "6eaf15c2-8657-4ca4-bbda-2aaec4f7a582",
   "metadata": {},
   "outputs": [
    {
     "name": "stdout",
     "output_type": "stream",
     "text": [
      "Input file: C:\\Users\\PC1\\OneDrive\\A5\\Data\\orders-log.csv\n"
     ]
    }
   ],
   "source": [
    "file_name   = 'orders-log.csv'\n",
    "input_file = os.path.join(dat_path, file_name)\n",
    "print(f\"Input file: {input_file}\")"
   ]
  },
  {
   "cell_type": "code",
   "execution_count": 24,
   "id": "9a39e35e-9b35-4a61-b816-2e742adbe787",
   "metadata": {},
   "outputs": [
    {
     "data": {
      "text/html": [
       "<div>\n",
       "<style scoped>\n",
       "    .dataframe tbody tr th:only-of-type {\n",
       "        vertical-align: middle;\n",
       "    }\n",
       "\n",
       "    .dataframe tbody tr th {\n",
       "        vertical-align: top;\n",
       "    }\n",
       "\n",
       "    .dataframe thead th {\n",
       "        text-align: right;\n",
       "    }\n",
       "</style>\n",
       "<table border=\"1\" class=\"dataframe\">\n",
       "  <thead>\n",
       "    <tr style=\"text-align: right;\">\n",
       "      <th></th>\n",
       "      <th>trade</th>\n",
       "      <th>name</th>\n",
       "      <th>spd</th>\n",
       "      <th>reason</th>\n",
       "      <th>market</th>\n",
       "      <th>qty</th>\n",
       "      <th>target</th>\n",
       "      <th>current</th>\n",
       "      <th>change</th>\n",
       "      <th>%change</th>\n",
       "      <th>active</th>\n",
       "      <th>xdate</th>\n",
       "      <th>amount</th>\n",
       "    </tr>\n",
       "  </thead>\n",
       "  <tbody>\n",
       "    <tr>\n",
       "      <th>0</th>\n",
       "      <td>B</td>\n",
       "      <td>3BBIF</td>\n",
       "      <td>0</td>\n",
       "      <td>RD50Pct</td>\n",
       "      <td>SET</td>\n",
       "      <td>10000</td>\n",
       "      <td>5.25</td>\n",
       "      <td>5.25</td>\n",
       "      <td>0.00</td>\n",
       "      <td>0.00</td>\n",
       "      <td>1</td>\n",
       "      <td>2024-11-13</td>\n",
       "      <td>52500.00</td>\n",
       "    </tr>\n",
       "    <tr>\n",
       "      <th>1</th>\n",
       "      <td>B</td>\n",
       "      <td>AIMIRT</td>\n",
       "      <td>-3</td>\n",
       "      <td>RND05pct</td>\n",
       "      <td>SET</td>\n",
       "      <td>5000</td>\n",
       "      <td>10.20</td>\n",
       "      <td>10.50</td>\n",
       "      <td>0.10</td>\n",
       "      <td>0.96</td>\n",
       "      <td>1</td>\n",
       "      <td>2024-11-26</td>\n",
       "      <td>51000.00</td>\n",
       "    </tr>\n",
       "    <tr>\n",
       "      <th>3</th>\n",
       "      <td>B</td>\n",
       "      <td>DIF</td>\n",
       "      <td>-2</td>\n",
       "      <td>RD40Pct</td>\n",
       "      <td>SET</td>\n",
       "      <td>5000</td>\n",
       "      <td>8.30</td>\n",
       "      <td>8.40</td>\n",
       "      <td>0.00</td>\n",
       "      <td>0.00</td>\n",
       "      <td>1</td>\n",
       "      <td>2024-11-14</td>\n",
       "      <td>41500.00</td>\n",
       "    </tr>\n",
       "    <tr>\n",
       "      <th>5</th>\n",
       "      <td>B</td>\n",
       "      <td>JMART</td>\n",
       "      <td>3</td>\n",
       "      <td>RND65pct</td>\n",
       "      <td>SET50</td>\n",
       "      <td>3200</td>\n",
       "      <td>11.20</td>\n",
       "      <td>10.90</td>\n",
       "      <td>-0.40</td>\n",
       "      <td>-3.54</td>\n",
       "      <td>1</td>\n",
       "      <td>2024-09-30</td>\n",
       "      <td>35840.00</td>\n",
       "    </tr>\n",
       "  </tbody>\n",
       "</table>\n",
       "</div>"
      ],
      "text/plain": [
       "  trade    name  spd    reason market    qty  target  current  change  \\\n",
       "0     B   3BBIF    0   RD50Pct    SET  10000    5.25     5.25    0.00   \n",
       "1     B  AIMIRT   -3  RND05pct    SET   5000   10.20    10.50    0.10   \n",
       "3     B     DIF   -2   RD40Pct    SET   5000    8.30     8.40    0.00   \n",
       "5     B   JMART    3  RND65pct  SET50   3200   11.20    10.90   -0.40   \n",
       "\n",
       "   %change  active       xdate   amount  \n",
       "0     0.00       1  2024-11-13 52500.00  \n",
       "1     0.96       1  2024-11-26 51000.00  \n",
       "3     0.00       1  2024-11-14 41500.00  \n",
       "5    -3.54       1  2024-09-30 35840.00  "
      ]
     },
     "execution_count": 24,
     "metadata": {},
     "output_type": "execute_result"
    }
   ],
   "source": [
    "df = pd.read_csv(input_file, sep=',', index_col=None)\n",
    "df['amount'] = df['qty'] * df['target']\n",
    "df.query('spd >= -3 and spd <= 3')"
   ]
  },
  {
   "cell_type": "code",
   "execution_count": 25,
   "id": "e63f55ba",
   "metadata": {},
   "outputs": [
    {
     "data": {
      "text/html": [
       "<div>\n",
       "<style scoped>\n",
       "    .dataframe tbody tr th:only-of-type {\n",
       "        vertical-align: middle;\n",
       "    }\n",
       "\n",
       "    .dataframe tbody tr th {\n",
       "        vertical-align: top;\n",
       "    }\n",
       "\n",
       "    .dataframe thead th {\n",
       "        text-align: right;\n",
       "    }\n",
       "</style>\n",
       "<table border=\"1\" class=\"dataframe\">\n",
       "  <thead>\n",
       "    <tr style=\"text-align: right;\">\n",
       "      <th></th>\n",
       "      <th>trade</th>\n",
       "      <th>name</th>\n",
       "      <th>spd</th>\n",
       "      <th>reason</th>\n",
       "      <th>market</th>\n",
       "      <th>qty</th>\n",
       "      <th>target</th>\n",
       "      <th>current</th>\n",
       "      <th>change</th>\n",
       "      <th>%change</th>\n",
       "      <th>active</th>\n",
       "      <th>xdate</th>\n",
       "      <th>amount</th>\n",
       "    </tr>\n",
       "  </thead>\n",
       "  <tbody>\n",
       "  </tbody>\n",
       "</table>\n",
       "</div>"
      ],
      "text/plain": [
       "Empty DataFrame\n",
       "Columns: [trade, name, spd, reason, market, qty, target, current, change, %change, active, xdate, amount]\n",
       "Index: []"
      ]
     },
     "execution_count": 25,
     "metadata": {},
     "output_type": "execute_result"
    }
   ],
   "source": [
    "df.query('active == 2')"
   ]
  },
  {
   "cell_type": "code",
   "execution_count": 26,
   "id": "5b2278ad",
   "metadata": {},
   "outputs": [
    {
     "data": {
      "text/html": [
       "<div>\n",
       "<style scoped>\n",
       "    .dataframe tbody tr th:only-of-type {\n",
       "        vertical-align: middle;\n",
       "    }\n",
       "\n",
       "    .dataframe tbody tr th {\n",
       "        vertical-align: top;\n",
       "    }\n",
       "\n",
       "    .dataframe thead th {\n",
       "        text-align: right;\n",
       "    }\n",
       "</style>\n",
       "<table border=\"1\" class=\"dataframe\">\n",
       "  <thead>\n",
       "    <tr style=\"text-align: right;\">\n",
       "      <th></th>\n",
       "      <th>trade</th>\n",
       "      <th>name</th>\n",
       "      <th>spd</th>\n",
       "      <th>reason</th>\n",
       "      <th>market</th>\n",
       "      <th>qty</th>\n",
       "      <th>target</th>\n",
       "      <th>current</th>\n",
       "      <th>change</th>\n",
       "      <th>%change</th>\n",
       "      <th>active</th>\n",
       "      <th>xdate</th>\n",
       "      <th>amount</th>\n",
       "    </tr>\n",
       "  </thead>\n",
       "  <tbody>\n",
       "    <tr>\n",
       "      <th>0</th>\n",
       "      <td>B</td>\n",
       "      <td>3BBIF</td>\n",
       "      <td>0</td>\n",
       "      <td>RD50Pct</td>\n",
       "      <td>SET</td>\n",
       "      <td>10000</td>\n",
       "      <td>5.25</td>\n",
       "      <td>5.25</td>\n",
       "      <td>0.00</td>\n",
       "      <td>0.00</td>\n",
       "      <td>1</td>\n",
       "      <td>2024-11-13</td>\n",
       "      <td>52500.00</td>\n",
       "    </tr>\n",
       "    <tr>\n",
       "      <th>1</th>\n",
       "      <td>B</td>\n",
       "      <td>AIMIRT</td>\n",
       "      <td>-3</td>\n",
       "      <td>RND05pct</td>\n",
       "      <td>SET</td>\n",
       "      <td>5000</td>\n",
       "      <td>10.20</td>\n",
       "      <td>10.50</td>\n",
       "      <td>0.10</td>\n",
       "      <td>0.96</td>\n",
       "      <td>1</td>\n",
       "      <td>2024-11-26</td>\n",
       "      <td>51000.00</td>\n",
       "    </tr>\n",
       "    <tr>\n",
       "      <th>3</th>\n",
       "      <td>B</td>\n",
       "      <td>DIF</td>\n",
       "      <td>-2</td>\n",
       "      <td>RD40Pct</td>\n",
       "      <td>SET</td>\n",
       "      <td>5000</td>\n",
       "      <td>8.30</td>\n",
       "      <td>8.40</td>\n",
       "      <td>0.00</td>\n",
       "      <td>0.00</td>\n",
       "      <td>1</td>\n",
       "      <td>2024-11-14</td>\n",
       "      <td>41500.00</td>\n",
       "    </tr>\n",
       "    <tr>\n",
       "      <th>4</th>\n",
       "      <td>B</td>\n",
       "      <td>GVREIT</td>\n",
       "      <td>-10</td>\n",
       "      <td>RND20Pct</td>\n",
       "      <td>SET</td>\n",
       "      <td>6000</td>\n",
       "      <td>6.25</td>\n",
       "      <td>6.75</td>\n",
       "      <td>0.10</td>\n",
       "      <td>1.50</td>\n",
       "      <td>1</td>\n",
       "      <td>2024-08-28</td>\n",
       "      <td>37500.00</td>\n",
       "    </tr>\n",
       "    <tr>\n",
       "      <th>5</th>\n",
       "      <td>B</td>\n",
       "      <td>JMART</td>\n",
       "      <td>3</td>\n",
       "      <td>RND65pct</td>\n",
       "      <td>SET50</td>\n",
       "      <td>3200</td>\n",
       "      <td>11.20</td>\n",
       "      <td>10.90</td>\n",
       "      <td>-0.40</td>\n",
       "      <td>-3.54</td>\n",
       "      <td>1</td>\n",
       "      <td>2024-09-30</td>\n",
       "      <td>35840.00</td>\n",
       "    </tr>\n",
       "    <tr>\n",
       "      <th>6</th>\n",
       "      <td>B</td>\n",
       "      <td>KCE</td>\n",
       "      <td>8</td>\n",
       "      <td>RD70Pct</td>\n",
       "      <td>SET100</td>\n",
       "      <td>1000</td>\n",
       "      <td>22.80</td>\n",
       "      <td>22.00</td>\n",
       "      <td>-0.20</td>\n",
       "      <td>-0.90</td>\n",
       "      <td>1</td>\n",
       "      <td>2024-08-26</td>\n",
       "      <td>22800.00</td>\n",
       "    </tr>\n",
       "    <tr>\n",
       "      <th>7</th>\n",
       "      <td>B</td>\n",
       "      <td>MCS</td>\n",
       "      <td>-8</td>\n",
       "      <td>RD50Pct</td>\n",
       "      <td>SET</td>\n",
       "      <td>5000</td>\n",
       "      <td>5.80</td>\n",
       "      <td>6.20</td>\n",
       "      <td>-0.05</td>\n",
       "      <td>-0.80</td>\n",
       "      <td>1</td>\n",
       "      <td>2024-08-23</td>\n",
       "      <td>29000.00</td>\n",
       "    </tr>\n",
       "    <tr>\n",
       "      <th>10</th>\n",
       "      <td>B</td>\n",
       "      <td>TFFIF</td>\n",
       "      <td>-6</td>\n",
       "      <td>RD20Pct</td>\n",
       "      <td>SET</td>\n",
       "      <td>5000</td>\n",
       "      <td>6.00</td>\n",
       "      <td>6.30</td>\n",
       "      <td>0.00</td>\n",
       "      <td>0.00</td>\n",
       "      <td>1</td>\n",
       "      <td>2024-12-12</td>\n",
       "      <td>30000.00</td>\n",
       "    </tr>\n",
       "    <tr>\n",
       "      <th>11</th>\n",
       "      <td>B</td>\n",
       "      <td>WHAIR</td>\n",
       "      <td>-9</td>\n",
       "      <td>RD30pct</td>\n",
       "      <td>SET</td>\n",
       "      <td>5000</td>\n",
       "      <td>6.00</td>\n",
       "      <td>6.45</td>\n",
       "      <td>0.00</td>\n",
       "      <td>0.00</td>\n",
       "      <td>1</td>\n",
       "      <td>2024-11-21</td>\n",
       "      <td>30000.00</td>\n",
       "    </tr>\n",
       "  </tbody>\n",
       "</table>\n",
       "</div>"
      ],
      "text/plain": [
       "   trade    name  spd    reason  market    qty  target  current  change  \\\n",
       "0      B   3BBIF    0   RD50Pct     SET  10000    5.25     5.25    0.00   \n",
       "1      B  AIMIRT   -3  RND05pct     SET   5000   10.20    10.50    0.10   \n",
       "3      B     DIF   -2   RD40Pct     SET   5000    8.30     8.40    0.00   \n",
       "4      B  GVREIT  -10  RND20Pct     SET   6000    6.25     6.75    0.10   \n",
       "5      B   JMART    3  RND65pct   SET50   3200   11.20    10.90   -0.40   \n",
       "6      B     KCE    8   RD70Pct  SET100   1000   22.80    22.00   -0.20   \n",
       "7      B     MCS   -8   RD50Pct     SET   5000    5.80     6.20   -0.05   \n",
       "10     B   TFFIF   -6   RD20Pct     SET   5000    6.00     6.30    0.00   \n",
       "11     B   WHAIR   -9   RD30pct     SET   5000    6.00     6.45    0.00   \n",
       "\n",
       "    %change  active       xdate   amount  \n",
       "0      0.00       1  2024-11-13 52500.00  \n",
       "1      0.96       1  2024-11-26 51000.00  \n",
       "3      0.00       1  2024-11-14 41500.00  \n",
       "4      1.50       1  2024-08-28 37500.00  \n",
       "5     -3.54       1  2024-09-30 35840.00  \n",
       "6     -0.90       1  2024-08-26 22800.00  \n",
       "7     -0.80       1  2024-08-23 29000.00  \n",
       "10     0.00       1  2024-12-12 30000.00  \n",
       "11     0.00       1  2024-11-21 30000.00  "
      ]
     },
     "execution_count": 26,
     "metadata": {},
     "output_type": "execute_result"
    }
   ],
   "source": [
    "df.query('active == 1')"
   ]
  },
  {
   "cell_type": "code",
   "execution_count": 27,
   "id": "2f83e6dd",
   "metadata": {},
   "outputs": [
    {
     "data": {
      "text/html": [
       "<div>\n",
       "<style scoped>\n",
       "    .dataframe tbody tr th:only-of-type {\n",
       "        vertical-align: middle;\n",
       "    }\n",
       "\n",
       "    .dataframe tbody tr th {\n",
       "        vertical-align: top;\n",
       "    }\n",
       "\n",
       "    .dataframe thead th {\n",
       "        text-align: right;\n",
       "    }\n",
       "</style>\n",
       "<table border=\"1\" class=\"dataframe\">\n",
       "  <thead>\n",
       "    <tr style=\"text-align: right;\">\n",
       "      <th></th>\n",
       "      <th>trade</th>\n",
       "      <th>name</th>\n",
       "      <th>spd</th>\n",
       "      <th>reason</th>\n",
       "      <th>market</th>\n",
       "      <th>qty</th>\n",
       "      <th>target</th>\n",
       "      <th>current</th>\n",
       "      <th>change</th>\n",
       "      <th>%change</th>\n",
       "      <th>active</th>\n",
       "      <th>xdate</th>\n",
       "      <th>amount</th>\n",
       "    </tr>\n",
       "  </thead>\n",
       "  <tbody>\n",
       "    <tr>\n",
       "      <th>1</th>\n",
       "      <td>B</td>\n",
       "      <td>AIMIRT</td>\n",
       "      <td>-3</td>\n",
       "      <td>RND05pct</td>\n",
       "      <td>SET</td>\n",
       "      <td>5000</td>\n",
       "      <td>10.20</td>\n",
       "      <td>10.50</td>\n",
       "      <td>0.10</td>\n",
       "      <td>0.96</td>\n",
       "      <td>1</td>\n",
       "      <td>2024-11-26</td>\n",
       "      <td>51000.00</td>\n",
       "    </tr>\n",
       "  </tbody>\n",
       "</table>\n",
       "</div>"
      ],
      "text/plain": [
       "  trade    name  spd    reason market   qty  target  current  change  %change  \\\n",
       "1     B  AIMIRT   -3  RND05pct    SET  5000   10.20    10.50    0.10     0.96   \n",
       "\n",
       "   active       xdate   amount  \n",
       "1       1  2024-11-26 51000.00  "
      ]
     },
     "execution_count": 27,
     "metadata": {},
     "output_type": "execute_result"
    }
   ],
   "source": [
    "df.query('name == \"AIMIRT\"')"
   ]
  },
  {
   "cell_type": "code",
   "execution_count": 28,
   "id": "0afee87f",
   "metadata": {},
   "outputs": [
    {
     "data": {
      "text/html": [
       "<div>\n",
       "<style scoped>\n",
       "    .dataframe tbody tr th:only-of-type {\n",
       "        vertical-align: middle;\n",
       "    }\n",
       "\n",
       "    .dataframe tbody tr th {\n",
       "        vertical-align: top;\n",
       "    }\n",
       "\n",
       "    .dataframe thead th {\n",
       "        text-align: right;\n",
       "    }\n",
       "</style>\n",
       "<table border=\"1\" class=\"dataframe\">\n",
       "  <thead>\n",
       "    <tr style=\"text-align: right;\">\n",
       "      <th></th>\n",
       "      <th>trade</th>\n",
       "      <th>name</th>\n",
       "      <th>spd</th>\n",
       "      <th>reason</th>\n",
       "      <th>market</th>\n",
       "      <th>qty</th>\n",
       "      <th>target</th>\n",
       "      <th>current</th>\n",
       "      <th>change</th>\n",
       "      <th>%change</th>\n",
       "      <th>active</th>\n",
       "      <th>xdate</th>\n",
       "      <th>amount</th>\n",
       "    </tr>\n",
       "  </thead>\n",
       "  <tbody>\n",
       "    <tr>\n",
       "      <th>2</th>\n",
       "      <td>B</td>\n",
       "      <td>CPNREIT</td>\n",
       "      <td>-13</td>\n",
       "      <td>RD40Pct</td>\n",
       "      <td>SET</td>\n",
       "      <td>5000</td>\n",
       "      <td>10.80</td>\n",
       "      <td>12.10</td>\n",
       "      <td>-0.40</td>\n",
       "      <td>-3.20</td>\n",
       "      <td>0</td>\n",
       "      <td>2024-11-26</td>\n",
       "      <td>54000.00</td>\n",
       "    </tr>\n",
       "    <tr>\n",
       "      <th>8</th>\n",
       "      <td>B</td>\n",
       "      <td>NER</td>\n",
       "      <td>-10</td>\n",
       "      <td>RD40pct</td>\n",
       "      <td>SET</td>\n",
       "      <td>6000</td>\n",
       "      <td>4.70</td>\n",
       "      <td>4.90</td>\n",
       "      <td>-0.06</td>\n",
       "      <td>-1.21</td>\n",
       "      <td>0</td>\n",
       "      <td>2024-08-23</td>\n",
       "      <td>28200.00</td>\n",
       "    </tr>\n",
       "    <tr>\n",
       "      <th>9</th>\n",
       "      <td>B</td>\n",
       "      <td>SENA</td>\n",
       "      <td>-17</td>\n",
       "      <td>RD60pct</td>\n",
       "      <td>SET</td>\n",
       "      <td>7000</td>\n",
       "      <td>1.92</td>\n",
       "      <td>2.18</td>\n",
       "      <td>0.00</td>\n",
       "      <td>0.00</td>\n",
       "      <td>0</td>\n",
       "      <td>2024-05-10</td>\n",
       "      <td>13440.00</td>\n",
       "    </tr>\n",
       "    <tr>\n",
       "      <th>12</th>\n",
       "      <td>S</td>\n",
       "      <td>AWC</td>\n",
       "      <td>90</td>\n",
       "      <td>COS</td>\n",
       "      <td>SET50</td>\n",
       "      <td>9000</td>\n",
       "      <td>4.96</td>\n",
       "      <td>3.16</td>\n",
       "      <td>-0.02</td>\n",
       "      <td>-0.63</td>\n",
       "      <td>0</td>\n",
       "      <td>2024-05-09</td>\n",
       "      <td>44640.00</td>\n",
       "    </tr>\n",
       "    <tr>\n",
       "      <th>13</th>\n",
       "      <td>S</td>\n",
       "      <td>BCH</td>\n",
       "      <td>74</td>\n",
       "      <td>COS</td>\n",
       "      <td>SET100</td>\n",
       "      <td>2000</td>\n",
       "      <td>21.70</td>\n",
       "      <td>14.30</td>\n",
       "      <td>0.00</td>\n",
       "      <td>0.00</td>\n",
       "      <td>0</td>\n",
       "      <td>2024-08-29</td>\n",
       "      <td>43400.00</td>\n",
       "    </tr>\n",
       "    <tr>\n",
       "      <th>14</th>\n",
       "      <td>S</td>\n",
       "      <td>JMT</td>\n",
       "      <td>203</td>\n",
       "      <td>COS</td>\n",
       "      <td>SET50</td>\n",
       "      <td>900</td>\n",
       "      <td>50.00</td>\n",
       "      <td>14.70</td>\n",
       "      <td>-0.60</td>\n",
       "      <td>-3.92</td>\n",
       "      <td>0</td>\n",
       "      <td>2024-08-22</td>\n",
       "      <td>45000.00</td>\n",
       "    </tr>\n",
       "    <tr>\n",
       "      <th>15</th>\n",
       "      <td>S</td>\n",
       "      <td>PTG</td>\n",
       "      <td>64</td>\n",
       "      <td>COS</td>\n",
       "      <td>SET100</td>\n",
       "      <td>3600</td>\n",
       "      <td>11.40</td>\n",
       "      <td>7.45</td>\n",
       "      <td>-0.25</td>\n",
       "      <td>-3.25</td>\n",
       "      <td>0</td>\n",
       "      <td>2024-11-26</td>\n",
       "      <td>41040.00</td>\n",
       "    </tr>\n",
       "    <tr>\n",
       "      <th>16</th>\n",
       "      <td>S</td>\n",
       "      <td>RCL</td>\n",
       "      <td>65</td>\n",
       "      <td>RD60pct</td>\n",
       "      <td>SET100</td>\n",
       "      <td>3000</td>\n",
       "      <td>38.75</td>\n",
       "      <td>24.00</td>\n",
       "      <td>-0.30</td>\n",
       "      <td>-1.23</td>\n",
       "      <td>0</td>\n",
       "      <td>2024-11-21</td>\n",
       "      <td>116250.00</td>\n",
       "    </tr>\n",
       "    <tr>\n",
       "      <th>17</th>\n",
       "      <td>S</td>\n",
       "      <td>SYNEX</td>\n",
       "      <td>-484</td>\n",
       "      <td>RD70pct</td>\n",
       "      <td>SET</td>\n",
       "      <td>2000</td>\n",
       "      <td>0.00</td>\n",
       "      <td>13.40</td>\n",
       "      <td>0.20</td>\n",
       "      <td>1.52</td>\n",
       "      <td>0</td>\n",
       "      <td>2024-08-27</td>\n",
       "      <td>0.00</td>\n",
       "    </tr>\n",
       "    <tr>\n",
       "      <th>18</th>\n",
       "      <td>S</td>\n",
       "      <td>TVO</td>\n",
       "      <td>41</td>\n",
       "      <td>DTD</td>\n",
       "      <td>SET</td>\n",
       "      <td>4000</td>\n",
       "      <td>25.25</td>\n",
       "      <td>21.00</td>\n",
       "      <td>-0.20</td>\n",
       "      <td>-0.94</td>\n",
       "      <td>0</td>\n",
       "      <td>2025-03-13</td>\n",
       "      <td>101000.00</td>\n",
       "    </tr>\n",
       "    <tr>\n",
       "      <th>19</th>\n",
       "      <td>S</td>\n",
       "      <td>WHART</td>\n",
       "      <td>21</td>\n",
       "      <td>COS</td>\n",
       "      <td>SET</td>\n",
       "      <td>10000</td>\n",
       "      <td>12.10</td>\n",
       "      <td>10.00</td>\n",
       "      <td>0.00</td>\n",
       "      <td>0.00</td>\n",
       "      <td>0</td>\n",
       "      <td>2024-11-25</td>\n",
       "      <td>121000.00</td>\n",
       "    </tr>\n",
       "  </tbody>\n",
       "</table>\n",
       "</div>"
      ],
      "text/plain": [
       "   trade     name  spd   reason  market    qty  target  current  change  \\\n",
       "2      B  CPNREIT  -13  RD40Pct     SET   5000   10.80    12.10   -0.40   \n",
       "8      B      NER  -10  RD40pct     SET   6000    4.70     4.90   -0.06   \n",
       "9      B     SENA  -17  RD60pct     SET   7000    1.92     2.18    0.00   \n",
       "12     S      AWC   90      COS   SET50   9000    4.96     3.16   -0.02   \n",
       "13     S      BCH   74      COS  SET100   2000   21.70    14.30    0.00   \n",
       "14     S      JMT  203      COS   SET50    900   50.00    14.70   -0.60   \n",
       "15     S      PTG   64      COS  SET100   3600   11.40     7.45   -0.25   \n",
       "16     S      RCL   65  RD60pct  SET100   3000   38.75    24.00   -0.30   \n",
       "17     S    SYNEX -484  RD70pct     SET   2000    0.00    13.40    0.20   \n",
       "18     S      TVO   41      DTD     SET   4000   25.25    21.00   -0.20   \n",
       "19     S    WHART   21      COS     SET  10000   12.10    10.00    0.00   \n",
       "\n",
       "    %change  active       xdate    amount  \n",
       "2     -3.20       0  2024-11-26  54000.00  \n",
       "8     -1.21       0  2024-08-23  28200.00  \n",
       "9      0.00       0  2024-05-10  13440.00  \n",
       "12    -0.63       0  2024-05-09  44640.00  \n",
       "13     0.00       0  2024-08-29  43400.00  \n",
       "14    -3.92       0  2024-08-22  45000.00  \n",
       "15    -3.25       0  2024-11-26  41040.00  \n",
       "16    -1.23       0  2024-11-21 116250.00  \n",
       "17     1.52       0  2024-08-27      0.00  \n",
       "18    -0.94       0  2025-03-13 101000.00  \n",
       "19     0.00       0  2024-11-25 121000.00  "
      ]
     },
     "execution_count": 28,
     "metadata": {},
     "output_type": "execute_result"
    }
   ],
   "source": [
    "df.query('active == 0')"
   ]
  },
  {
   "cell_type": "code",
   "execution_count": 29,
   "id": "007e8bae",
   "metadata": {
    "scrolled": true
   },
   "outputs": [
    {
     "data": {
      "text/html": [
       "<div>\n",
       "<style scoped>\n",
       "    .dataframe tbody tr th:only-of-type {\n",
       "        vertical-align: middle;\n",
       "    }\n",
       "\n",
       "    .dataframe tbody tr th {\n",
       "        vertical-align: top;\n",
       "    }\n",
       "\n",
       "    .dataframe thead th {\n",
       "        text-align: right;\n",
       "    }\n",
       "</style>\n",
       "<table border=\"1\" class=\"dataframe\">\n",
       "  <thead>\n",
       "    <tr style=\"text-align: right;\">\n",
       "      <th></th>\n",
       "      <th>trade</th>\n",
       "      <th>name</th>\n",
       "      <th>spd</th>\n",
       "      <th>reason</th>\n",
       "      <th>market</th>\n",
       "      <th>qty</th>\n",
       "      <th>target</th>\n",
       "      <th>current</th>\n",
       "      <th>change</th>\n",
       "      <th>%change</th>\n",
       "      <th>active</th>\n",
       "      <th>xdate</th>\n",
       "      <th>amount</th>\n",
       "    </tr>\n",
       "  </thead>\n",
       "  <tbody>\n",
       "  </tbody>\n",
       "</table>\n",
       "</div>"
      ],
      "text/plain": [
       "Empty DataFrame\n",
       "Columns: [trade, name, spd, reason, market, qty, target, current, change, %change, active, xdate, amount]\n",
       "Index: []"
      ]
     },
     "execution_count": 29,
     "metadata": {},
     "output_type": "execute_result"
    }
   ],
   "source": [
    "df.query('spd <= -40 and trade == \"B\"')"
   ]
  },
  {
   "cell_type": "code",
   "execution_count": 30,
   "id": "e294c091",
   "metadata": {},
   "outputs": [
    {
     "data": {
      "text/html": [
       "<div>\n",
       "<style scoped>\n",
       "    .dataframe tbody tr th:only-of-type {\n",
       "        vertical-align: middle;\n",
       "    }\n",
       "\n",
       "    .dataframe tbody tr th {\n",
       "        vertical-align: top;\n",
       "    }\n",
       "\n",
       "    .dataframe thead th {\n",
       "        text-align: right;\n",
       "    }\n",
       "</style>\n",
       "<table border=\"1\" class=\"dataframe\">\n",
       "  <thead>\n",
       "    <tr style=\"text-align: right;\">\n",
       "      <th></th>\n",
       "      <th>trade</th>\n",
       "      <th>name</th>\n",
       "      <th>spd</th>\n",
       "      <th>reason</th>\n",
       "      <th>market</th>\n",
       "      <th>qty</th>\n",
       "      <th>target</th>\n",
       "      <th>current</th>\n",
       "      <th>change</th>\n",
       "      <th>%change</th>\n",
       "      <th>active</th>\n",
       "      <th>xdate</th>\n",
       "      <th>amount</th>\n",
       "    </tr>\n",
       "  </thead>\n",
       "  <tbody>\n",
       "    <tr>\n",
       "      <th>5</th>\n",
       "      <td>B</td>\n",
       "      <td>JMART</td>\n",
       "      <td>3</td>\n",
       "      <td>RND65pct</td>\n",
       "      <td>SET50</td>\n",
       "      <td>3200</td>\n",
       "      <td>11.20</td>\n",
       "      <td>10.90</td>\n",
       "      <td>-0.40</td>\n",
       "      <td>-3.54</td>\n",
       "      <td>1</td>\n",
       "      <td>2024-09-30</td>\n",
       "      <td>35840.00</td>\n",
       "    </tr>\n",
       "    <tr>\n",
       "      <th>6</th>\n",
       "      <td>B</td>\n",
       "      <td>KCE</td>\n",
       "      <td>8</td>\n",
       "      <td>RD70Pct</td>\n",
       "      <td>SET100</td>\n",
       "      <td>1000</td>\n",
       "      <td>22.80</td>\n",
       "      <td>22.00</td>\n",
       "      <td>-0.20</td>\n",
       "      <td>-0.90</td>\n",
       "      <td>1</td>\n",
       "      <td>2024-08-26</td>\n",
       "      <td>22800.00</td>\n",
       "    </tr>\n",
       "  </tbody>\n",
       "</table>\n",
       "</div>"
      ],
      "text/plain": [
       "  trade   name  spd    reason  market   qty  target  current  change  %change  \\\n",
       "5     B  JMART    3  RND65pct   SET50  3200   11.20    10.90   -0.40    -3.54   \n",
       "6     B    KCE    8   RD70Pct  SET100  1000   22.80    22.00   -0.20    -0.90   \n",
       "\n",
       "   active       xdate   amount  \n",
       "5       1  2024-09-30 35840.00  \n",
       "6       1  2024-08-26 22800.00  "
      ]
     },
     "execution_count": 30,
     "metadata": {},
     "output_type": "execute_result"
    }
   ],
   "source": [
    "df.query('trade == \"B\" & spd > 0')"
   ]
  },
  {
   "cell_type": "code",
   "execution_count": 31,
   "id": "f5ca51c5",
   "metadata": {},
   "outputs": [
    {
     "data": {
      "text/html": [
       "<div>\n",
       "<style scoped>\n",
       "    .dataframe tbody tr th:only-of-type {\n",
       "        vertical-align: middle;\n",
       "    }\n",
       "\n",
       "    .dataframe tbody tr th {\n",
       "        vertical-align: top;\n",
       "    }\n",
       "\n",
       "    .dataframe thead th {\n",
       "        text-align: right;\n",
       "    }\n",
       "</style>\n",
       "<table border=\"1\" class=\"dataframe\">\n",
       "  <thead>\n",
       "    <tr style=\"text-align: right;\">\n",
       "      <th></th>\n",
       "      <th>trade</th>\n",
       "      <th>name</th>\n",
       "      <th>spd</th>\n",
       "      <th>reason</th>\n",
       "      <th>market</th>\n",
       "      <th>qty</th>\n",
       "      <th>target</th>\n",
       "      <th>current</th>\n",
       "      <th>change</th>\n",
       "      <th>%change</th>\n",
       "      <th>active</th>\n",
       "      <th>xdate</th>\n",
       "      <th>amount</th>\n",
       "    </tr>\n",
       "  </thead>\n",
       "  <tbody>\n",
       "    <tr>\n",
       "      <th>17</th>\n",
       "      <td>S</td>\n",
       "      <td>SYNEX</td>\n",
       "      <td>-484</td>\n",
       "      <td>RD70pct</td>\n",
       "      <td>SET</td>\n",
       "      <td>2000</td>\n",
       "      <td>0.00</td>\n",
       "      <td>13.40</td>\n",
       "      <td>0.20</td>\n",
       "      <td>1.52</td>\n",
       "      <td>0</td>\n",
       "      <td>2024-08-27</td>\n",
       "      <td>0.00</td>\n",
       "    </tr>\n",
       "  </tbody>\n",
       "</table>\n",
       "</div>"
      ],
      "text/plain": [
       "   trade   name  spd   reason market   qty  target  current  change  %change  \\\n",
       "17     S  SYNEX -484  RD70pct    SET  2000    0.00    13.40    0.20     1.52   \n",
       "\n",
       "    active       xdate  amount  \n",
       "17       0  2024-08-27    0.00  "
      ]
     },
     "execution_count": 31,
     "metadata": {},
     "output_type": "execute_result"
    }
   ],
   "source": [
    "df.query('trade == \"S\" & spd < 0')"
   ]
  },
  {
   "cell_type": "code",
   "execution_count": 32,
   "id": "83a6c159-4140-43a4-877e-2088dffc690c",
   "metadata": {},
   "outputs": [],
   "source": [
    "colx = ['trade', 'name', 'spd', 'reason', 'market', 'qty', 'target', 'current', 'change', '%change',\n",
    "        'active', 'xdate']"
   ]
  },
  {
   "cell_type": "code",
   "execution_count": 33,
   "id": "5dbc762a-b148-4e90-8e6f-72aa07f70a37",
   "metadata": {},
   "outputs": [],
   "source": [
    "file_name = \"orders-log.csv\"\n",
    "output_file = os.path.join(dat_path, file_name)\n",
    "god_file = os.path.join(god_path, file_name)\n",
    "icd_file = os.path.join(icd_path, file_name)\n",
    "osd_file = os.path.join(osd_path, file_name)"
   ]
  },
  {
   "cell_type": "code",
   "execution_count": 34,
   "id": "77e25af6-7faa-4b74-9b07-af9978b7dbfd",
   "metadata": {},
   "outputs": [
    {
     "name": "stdout",
     "output_type": "stream",
     "text": [
      "output_file : C:\\Users\\PC1\\OneDrive\\A5\\Data\\orders-log.csv\n",
      "icd_file : C:\\Users\\PC1\\iCloudDrive\\Data\\orders-log.csv\n",
      "god_file : C:\\Users\\PC1\\OneDrive\\Imports\\santisoontarinka@gmail.com - Google Drive\\Data\\orders-log.csv\n",
      "osd_file : C:\\Users\\PC1\\OneDrive\\Documents\\obsidian-git-sync\\Data\\orders-log.csv\n"
     ]
    }
   ],
   "source": [
    "print(f\"output_file : {output_file}\") \n",
    "print(f\"icd_file : {icd_file}\") \n",
    "print(f\"god_file : {god_file}\") \n",
    "print(f\"osd_file : {osd_file}\") "
   ]
  },
  {
   "cell_type": "code",
   "execution_count": 35,
   "id": "53ad05c9-1827-43f0-9753-eb28b219ffd5",
   "metadata": {},
   "outputs": [],
   "source": [
    "df[colx].to_csv(output_file, header=True, index=False)\n",
    "df[colx].to_csv(god_file, header=True, index=False)\n",
    "df[colx].to_csv(icd_file, header=True, index=False)\n",
    "df[colx].to_csv(osd_file, header=True, index=False)"
   ]
  },
  {
   "cell_type": "markdown",
   "id": "dca31fd8",
   "metadata": {},
   "source": [
    "### Convert column name to make it valid for df.query"
   ]
  },
  {
   "cell_type": "code",
   "execution_count": 37,
   "id": "ca97c7d7",
   "metadata": {},
   "outputs": [],
   "source": [
    "df['percent'] = df['%change']"
   ]
  },
  {
   "cell_type": "code",
   "execution_count": 38,
   "id": "95fb8b5e",
   "metadata": {},
   "outputs": [
    {
     "data": {
      "text/html": [
       "<div>\n",
       "<style scoped>\n",
       "    .dataframe tbody tr th:only-of-type {\n",
       "        vertical-align: middle;\n",
       "    }\n",
       "\n",
       "    .dataframe tbody tr th {\n",
       "        vertical-align: top;\n",
       "    }\n",
       "\n",
       "    .dataframe thead th {\n",
       "        text-align: right;\n",
       "    }\n",
       "</style>\n",
       "<table border=\"1\" class=\"dataframe\">\n",
       "  <thead>\n",
       "    <tr style=\"text-align: right;\">\n",
       "      <th></th>\n",
       "      <th>trade</th>\n",
       "      <th>name</th>\n",
       "      <th>spd</th>\n",
       "      <th>reason</th>\n",
       "      <th>market</th>\n",
       "      <th>qty</th>\n",
       "      <th>target</th>\n",
       "      <th>current</th>\n",
       "      <th>change</th>\n",
       "      <th>%change</th>\n",
       "      <th>active</th>\n",
       "      <th>xdate</th>\n",
       "      <th>amount</th>\n",
       "      <th>percent</th>\n",
       "    </tr>\n",
       "  </thead>\n",
       "  <tbody>\n",
       "    <tr>\n",
       "      <th>2</th>\n",
       "      <td>B</td>\n",
       "      <td>CPNREIT</td>\n",
       "      <td>-13</td>\n",
       "      <td>RD40Pct</td>\n",
       "      <td>SET</td>\n",
       "      <td>5000</td>\n",
       "      <td>10.80</td>\n",
       "      <td>12.10</td>\n",
       "      <td>-0.40</td>\n",
       "      <td>-3.20</td>\n",
       "      <td>0</td>\n",
       "      <td>2024-11-26</td>\n",
       "      <td>54000.00</td>\n",
       "      <td>-3.20</td>\n",
       "    </tr>\n",
       "    <tr>\n",
       "      <th>5</th>\n",
       "      <td>B</td>\n",
       "      <td>JMART</td>\n",
       "      <td>3</td>\n",
       "      <td>RND65pct</td>\n",
       "      <td>SET50</td>\n",
       "      <td>3200</td>\n",
       "      <td>11.20</td>\n",
       "      <td>10.90</td>\n",
       "      <td>-0.40</td>\n",
       "      <td>-3.54</td>\n",
       "      <td>1</td>\n",
       "      <td>2024-09-30</td>\n",
       "      <td>35840.00</td>\n",
       "      <td>-3.54</td>\n",
       "    </tr>\n",
       "    <tr>\n",
       "      <th>14</th>\n",
       "      <td>S</td>\n",
       "      <td>JMT</td>\n",
       "      <td>203</td>\n",
       "      <td>COS</td>\n",
       "      <td>SET50</td>\n",
       "      <td>900</td>\n",
       "      <td>50.00</td>\n",
       "      <td>14.70</td>\n",
       "      <td>-0.60</td>\n",
       "      <td>-3.92</td>\n",
       "      <td>0</td>\n",
       "      <td>2024-08-22</td>\n",
       "      <td>45000.00</td>\n",
       "      <td>-3.92</td>\n",
       "    </tr>\n",
       "    <tr>\n",
       "      <th>15</th>\n",
       "      <td>S</td>\n",
       "      <td>PTG</td>\n",
       "      <td>64</td>\n",
       "      <td>COS</td>\n",
       "      <td>SET100</td>\n",
       "      <td>3600</td>\n",
       "      <td>11.40</td>\n",
       "      <td>7.45</td>\n",
       "      <td>-0.25</td>\n",
       "      <td>-3.25</td>\n",
       "      <td>0</td>\n",
       "      <td>2024-11-26</td>\n",
       "      <td>41040.00</td>\n",
       "      <td>-3.25</td>\n",
       "    </tr>\n",
       "  </tbody>\n",
       "</table>\n",
       "</div>"
      ],
      "text/plain": [
       "   trade     name  spd    reason  market   qty  target  current  change  \\\n",
       "2      B  CPNREIT  -13   RD40Pct     SET  5000   10.80    12.10   -0.40   \n",
       "5      B    JMART    3  RND65pct   SET50  3200   11.20    10.90   -0.40   \n",
       "14     S      JMT  203       COS   SET50   900   50.00    14.70   -0.60   \n",
       "15     S      PTG   64       COS  SET100  3600   11.40     7.45   -0.25   \n",
       "\n",
       "    %change  active       xdate   amount  percent  \n",
       "2     -3.20       0  2024-11-26 54000.00    -3.20  \n",
       "5     -3.54       1  2024-09-30 35840.00    -3.54  \n",
       "14    -3.92       0  2024-08-22 45000.00    -3.92  \n",
       "15    -3.25       0  2024-11-26 41040.00    -3.25  "
      ]
     },
     "execution_count": 38,
     "metadata": {},
     "output_type": "execute_result"
    }
   ],
   "source": [
    "df.query('percent < -2')"
   ]
  },
  {
   "cell_type": "code",
   "execution_count": 39,
   "id": "d964ad8e",
   "metadata": {},
   "outputs": [
    {
     "data": {
      "text/html": [
       "<div>\n",
       "<style scoped>\n",
       "    .dataframe tbody tr th:only-of-type {\n",
       "        vertical-align: middle;\n",
       "    }\n",
       "\n",
       "    .dataframe tbody tr th {\n",
       "        vertical-align: top;\n",
       "    }\n",
       "\n",
       "    .dataframe thead th {\n",
       "        text-align: right;\n",
       "    }\n",
       "</style>\n",
       "<table border=\"1\" class=\"dataframe\">\n",
       "  <thead>\n",
       "    <tr style=\"text-align: right;\">\n",
       "      <th></th>\n",
       "      <th>trade</th>\n",
       "      <th>name</th>\n",
       "      <th>spd</th>\n",
       "      <th>reason</th>\n",
       "      <th>market</th>\n",
       "      <th>qty</th>\n",
       "      <th>target</th>\n",
       "      <th>current</th>\n",
       "      <th>change</th>\n",
       "      <th>%change</th>\n",
       "      <th>active</th>\n",
       "      <th>xdate</th>\n",
       "      <th>amount</th>\n",
       "      <th>percent</th>\n",
       "    </tr>\n",
       "  </thead>\n",
       "  <tbody>\n",
       "  </tbody>\n",
       "</table>\n",
       "</div>"
      ],
      "text/plain": [
       "Empty DataFrame\n",
       "Columns: [trade, name, spd, reason, market, qty, target, current, change, %change, active, xdate, amount, percent]\n",
       "Index: []"
      ]
     },
     "execution_count": 39,
     "metadata": {},
     "output_type": "execute_result"
    }
   ],
   "source": [
    "df.query('percent >= 2.00')"
   ]
  },
  {
   "cell_type": "code",
   "execution_count": 40,
   "id": "21b45ef0",
   "metadata": {
    "scrolled": true
   },
   "outputs": [
    {
     "data": {
      "text/html": [
       "<div>\n",
       "<style scoped>\n",
       "    .dataframe tbody tr th:only-of-type {\n",
       "        vertical-align: middle;\n",
       "    }\n",
       "\n",
       "    .dataframe tbody tr th {\n",
       "        vertical-align: top;\n",
       "    }\n",
       "\n",
       "    .dataframe thead th {\n",
       "        text-align: right;\n",
       "    }\n",
       "</style>\n",
       "<table border=\"1\" class=\"dataframe\">\n",
       "  <thead>\n",
       "    <tr style=\"text-align: right;\">\n",
       "      <th></th>\n",
       "      <th>trade</th>\n",
       "      <th>name</th>\n",
       "      <th>spd</th>\n",
       "      <th>reason</th>\n",
       "      <th>market</th>\n",
       "      <th>qty</th>\n",
       "      <th>target</th>\n",
       "      <th>current</th>\n",
       "      <th>change</th>\n",
       "      <th>%change</th>\n",
       "      <th>active</th>\n",
       "      <th>xdate</th>\n",
       "      <th>amount</th>\n",
       "      <th>percent</th>\n",
       "    </tr>\n",
       "  </thead>\n",
       "  <tbody>\n",
       "    <tr>\n",
       "      <th>6</th>\n",
       "      <td>B</td>\n",
       "      <td>KCE</td>\n",
       "      <td>8</td>\n",
       "      <td>RD70Pct</td>\n",
       "      <td>SET100</td>\n",
       "      <td>1000</td>\n",
       "      <td>22.80</td>\n",
       "      <td>22.00</td>\n",
       "      <td>-0.20</td>\n",
       "      <td>-0.90</td>\n",
       "      <td>1</td>\n",
       "      <td>2024-08-26</td>\n",
       "      <td>22800.00</td>\n",
       "      <td>-0.90</td>\n",
       "    </tr>\n",
       "    <tr>\n",
       "      <th>5</th>\n",
       "      <td>B</td>\n",
       "      <td>JMART</td>\n",
       "      <td>3</td>\n",
       "      <td>RND65pct</td>\n",
       "      <td>SET50</td>\n",
       "      <td>3200</td>\n",
       "      <td>11.20</td>\n",
       "      <td>10.90</td>\n",
       "      <td>-0.40</td>\n",
       "      <td>-3.54</td>\n",
       "      <td>1</td>\n",
       "      <td>2024-09-30</td>\n",
       "      <td>35840.00</td>\n",
       "      <td>-3.54</td>\n",
       "    </tr>\n",
       "    <tr>\n",
       "      <th>0</th>\n",
       "      <td>B</td>\n",
       "      <td>3BBIF</td>\n",
       "      <td>0</td>\n",
       "      <td>RD50Pct</td>\n",
       "      <td>SET</td>\n",
       "      <td>10000</td>\n",
       "      <td>5.25</td>\n",
       "      <td>5.25</td>\n",
       "      <td>0.00</td>\n",
       "      <td>0.00</td>\n",
       "      <td>1</td>\n",
       "      <td>2024-11-13</td>\n",
       "      <td>52500.00</td>\n",
       "      <td>0.00</td>\n",
       "    </tr>\n",
       "    <tr>\n",
       "      <th>3</th>\n",
       "      <td>B</td>\n",
       "      <td>DIF</td>\n",
       "      <td>-2</td>\n",
       "      <td>RD40Pct</td>\n",
       "      <td>SET</td>\n",
       "      <td>5000</td>\n",
       "      <td>8.30</td>\n",
       "      <td>8.40</td>\n",
       "      <td>0.00</td>\n",
       "      <td>0.00</td>\n",
       "      <td>1</td>\n",
       "      <td>2024-11-14</td>\n",
       "      <td>41500.00</td>\n",
       "      <td>0.00</td>\n",
       "    </tr>\n",
       "    <tr>\n",
       "      <th>1</th>\n",
       "      <td>B</td>\n",
       "      <td>AIMIRT</td>\n",
       "      <td>-3</td>\n",
       "      <td>RND05pct</td>\n",
       "      <td>SET</td>\n",
       "      <td>5000</td>\n",
       "      <td>10.20</td>\n",
       "      <td>10.50</td>\n",
       "      <td>0.10</td>\n",
       "      <td>0.96</td>\n",
       "      <td>1</td>\n",
       "      <td>2024-11-26</td>\n",
       "      <td>51000.00</td>\n",
       "      <td>0.96</td>\n",
       "    </tr>\n",
       "    <tr>\n",
       "      <th>10</th>\n",
       "      <td>B</td>\n",
       "      <td>TFFIF</td>\n",
       "      <td>-6</td>\n",
       "      <td>RD20Pct</td>\n",
       "      <td>SET</td>\n",
       "      <td>5000</td>\n",
       "      <td>6.00</td>\n",
       "      <td>6.30</td>\n",
       "      <td>0.00</td>\n",
       "      <td>0.00</td>\n",
       "      <td>1</td>\n",
       "      <td>2024-12-12</td>\n",
       "      <td>30000.00</td>\n",
       "      <td>0.00</td>\n",
       "    </tr>\n",
       "    <tr>\n",
       "      <th>7</th>\n",
       "      <td>B</td>\n",
       "      <td>MCS</td>\n",
       "      <td>-8</td>\n",
       "      <td>RD50Pct</td>\n",
       "      <td>SET</td>\n",
       "      <td>5000</td>\n",
       "      <td>5.80</td>\n",
       "      <td>6.20</td>\n",
       "      <td>-0.05</td>\n",
       "      <td>-0.80</td>\n",
       "      <td>1</td>\n",
       "      <td>2024-08-23</td>\n",
       "      <td>29000.00</td>\n",
       "      <td>-0.80</td>\n",
       "    </tr>\n",
       "    <tr>\n",
       "      <th>11</th>\n",
       "      <td>B</td>\n",
       "      <td>WHAIR</td>\n",
       "      <td>-9</td>\n",
       "      <td>RD30pct</td>\n",
       "      <td>SET</td>\n",
       "      <td>5000</td>\n",
       "      <td>6.00</td>\n",
       "      <td>6.45</td>\n",
       "      <td>0.00</td>\n",
       "      <td>0.00</td>\n",
       "      <td>1</td>\n",
       "      <td>2024-11-21</td>\n",
       "      <td>30000.00</td>\n",
       "      <td>0.00</td>\n",
       "    </tr>\n",
       "    <tr>\n",
       "      <th>4</th>\n",
       "      <td>B</td>\n",
       "      <td>GVREIT</td>\n",
       "      <td>-10</td>\n",
       "      <td>RND20Pct</td>\n",
       "      <td>SET</td>\n",
       "      <td>6000</td>\n",
       "      <td>6.25</td>\n",
       "      <td>6.75</td>\n",
       "      <td>0.10</td>\n",
       "      <td>1.50</td>\n",
       "      <td>1</td>\n",
       "      <td>2024-08-28</td>\n",
       "      <td>37500.00</td>\n",
       "      <td>1.50</td>\n",
       "    </tr>\n",
       "    <tr>\n",
       "      <th>8</th>\n",
       "      <td>B</td>\n",
       "      <td>NER</td>\n",
       "      <td>-10</td>\n",
       "      <td>RD40pct</td>\n",
       "      <td>SET</td>\n",
       "      <td>6000</td>\n",
       "      <td>4.70</td>\n",
       "      <td>4.90</td>\n",
       "      <td>-0.06</td>\n",
       "      <td>-1.21</td>\n",
       "      <td>0</td>\n",
       "      <td>2024-08-23</td>\n",
       "      <td>28200.00</td>\n",
       "      <td>-1.21</td>\n",
       "    </tr>\n",
       "    <tr>\n",
       "      <th>2</th>\n",
       "      <td>B</td>\n",
       "      <td>CPNREIT</td>\n",
       "      <td>-13</td>\n",
       "      <td>RD40Pct</td>\n",
       "      <td>SET</td>\n",
       "      <td>5000</td>\n",
       "      <td>10.80</td>\n",
       "      <td>12.10</td>\n",
       "      <td>-0.40</td>\n",
       "      <td>-3.20</td>\n",
       "      <td>0</td>\n",
       "      <td>2024-11-26</td>\n",
       "      <td>54000.00</td>\n",
       "      <td>-3.20</td>\n",
       "    </tr>\n",
       "    <tr>\n",
       "      <th>9</th>\n",
       "      <td>B</td>\n",
       "      <td>SENA</td>\n",
       "      <td>-17</td>\n",
       "      <td>RD60pct</td>\n",
       "      <td>SET</td>\n",
       "      <td>7000</td>\n",
       "      <td>1.92</td>\n",
       "      <td>2.18</td>\n",
       "      <td>0.00</td>\n",
       "      <td>0.00</td>\n",
       "      <td>0</td>\n",
       "      <td>2024-05-10</td>\n",
       "      <td>13440.00</td>\n",
       "      <td>0.00</td>\n",
       "    </tr>\n",
       "  </tbody>\n",
       "</table>\n",
       "</div>"
      ],
      "text/plain": [
       "   trade     name  spd    reason  market    qty  target  current  change  \\\n",
       "6      B      KCE    8   RD70Pct  SET100   1000   22.80    22.00   -0.20   \n",
       "5      B    JMART    3  RND65pct   SET50   3200   11.20    10.90   -0.40   \n",
       "0      B    3BBIF    0   RD50Pct     SET  10000    5.25     5.25    0.00   \n",
       "3      B      DIF   -2   RD40Pct     SET   5000    8.30     8.40    0.00   \n",
       "1      B   AIMIRT   -3  RND05pct     SET   5000   10.20    10.50    0.10   \n",
       "10     B    TFFIF   -6   RD20Pct     SET   5000    6.00     6.30    0.00   \n",
       "7      B      MCS   -8   RD50Pct     SET   5000    5.80     6.20   -0.05   \n",
       "11     B    WHAIR   -9   RD30pct     SET   5000    6.00     6.45    0.00   \n",
       "4      B   GVREIT  -10  RND20Pct     SET   6000    6.25     6.75    0.10   \n",
       "8      B      NER  -10   RD40pct     SET   6000    4.70     4.90   -0.06   \n",
       "2      B  CPNREIT  -13   RD40Pct     SET   5000   10.80    12.10   -0.40   \n",
       "9      B     SENA  -17   RD60pct     SET   7000    1.92     2.18    0.00   \n",
       "\n",
       "    %change  active       xdate   amount  percent  \n",
       "6     -0.90       1  2024-08-26 22800.00    -0.90  \n",
       "5     -3.54       1  2024-09-30 35840.00    -3.54  \n",
       "0      0.00       1  2024-11-13 52500.00     0.00  \n",
       "3      0.00       1  2024-11-14 41500.00     0.00  \n",
       "1      0.96       1  2024-11-26 51000.00     0.96  \n",
       "10     0.00       1  2024-12-12 30000.00     0.00  \n",
       "7     -0.80       1  2024-08-23 29000.00    -0.80  \n",
       "11     0.00       1  2024-11-21 30000.00     0.00  \n",
       "4      1.50       1  2024-08-28 37500.00     1.50  \n",
       "8     -1.21       0  2024-08-23 28200.00    -1.21  \n",
       "2     -3.20       0  2024-11-26 54000.00    -3.20  \n",
       "9      0.00       0  2024-05-10 13440.00     0.00  "
      ]
     },
     "execution_count": 40,
     "metadata": {},
     "output_type": "execute_result"
    }
   ],
   "source": [
    "df.loc[df.trade == 'B'].sort_values('spd',ascending=False)"
   ]
  },
  {
   "cell_type": "markdown",
   "id": "0b6a9434",
   "metadata": {},
   "source": [
    "### Sell recently purchased stocks if profitable"
   ]
  },
  {
   "cell_type": "code",
   "execution_count": 42,
   "id": "3e6546c3",
   "metadata": {},
   "outputs": [
    {
     "data": {
      "text/plain": [
       "(114, 4)"
      ]
     },
     "execution_count": 42,
     "metadata": {},
     "output_type": "execute_result"
    }
   ],
   "source": [
    "#pd.set_option('display.max_rows', 40)\n",
    "sql = \"\"\"SELECT name, qty, price AS cost, date \n",
    "FROM buys B \n",
    "JOIN stocks S \n",
    "ON stock_id = S.id \n",
    "WHERE status = 'Active'\n",
    "ORDER BY name, date\"\"\"\n",
    "buys = pd.read_sql(sql, conpf)\n",
    "buys.shape"
   ]
  },
  {
   "cell_type": "code",
   "execution_count": 43,
   "id": "cfc17b1f",
   "metadata": {},
   "outputs": [],
   "source": [
    "colu = 'name date_x qty cost price difa %change %profit'.split()\n",
    "buys_price = pd.merge(buys, prices, on='name', how='inner')\n",
    "buys_price['diff'] = buys_price['price'] - buys_price['cost']\n",
    "buys_price['difa'] = buys_price['diff'] * buys_price['qty']\n",
    "buys_price['%profit'] = round(buys_price['difa'] / (buys_price['qty'] * buys_price['cost']) * 100,2)"
   ]
  },
  {
   "cell_type": "code",
   "execution_count": 44,
   "id": "f4ac8868",
   "metadata": {},
   "outputs": [
    {
     "data": {
      "text/plain": [
       "(110, 8)"
      ]
     },
     "execution_count": 44,
     "metadata": {},
     "output_type": "execute_result"
    }
   ],
   "source": [
    "laggards = buys_price.loc[buys_price.cost > buys_price.price,colu]\n",
    "laggards.shape"
   ]
  },
  {
   "cell_type": "code",
   "execution_count": 45,
   "id": "0a9732c8",
   "metadata": {},
   "outputs": [
    {
     "data": {
      "text/html": [
       "<div>\n",
       "<style scoped>\n",
       "    .dataframe tbody tr th:only-of-type {\n",
       "        vertical-align: middle;\n",
       "    }\n",
       "\n",
       "    .dataframe tbody tr th {\n",
       "        vertical-align: top;\n",
       "    }\n",
       "\n",
       "    .dataframe thead th {\n",
       "        text-align: right;\n",
       "    }\n",
       "</style>\n",
       "<table border=\"1\" class=\"dataframe\">\n",
       "  <thead>\n",
       "    <tr style=\"text-align: right;\">\n",
       "      <th></th>\n",
       "      <th>name</th>\n",
       "      <th>date_x</th>\n",
       "      <th>qty</th>\n",
       "      <th>cost</th>\n",
       "      <th>price</th>\n",
       "      <th>difa</th>\n",
       "      <th>%change</th>\n",
       "      <th>%profit</th>\n",
       "    </tr>\n",
       "  </thead>\n",
       "  <tbody>\n",
       "    <tr>\n",
       "      <th>31</th>\n",
       "      <td>GVREIT</td>\n",
       "      <td>2023-09-07</td>\n",
       "      <td>3000</td>\n",
       "      <td>6.60</td>\n",
       "      <td>6.75</td>\n",
       "      <td>450.00</td>\n",
       "      <td>1.50</td>\n",
       "      <td>2.27</td>\n",
       "    </tr>\n",
       "    <tr>\n",
       "      <th>32</th>\n",
       "      <td>GVREIT</td>\n",
       "      <td>2023-09-11</td>\n",
       "      <td>3000</td>\n",
       "      <td>6.60</td>\n",
       "      <td>6.75</td>\n",
       "      <td>450.00</td>\n",
       "      <td>1.50</td>\n",
       "      <td>2.27</td>\n",
       "    </tr>\n",
       "    <tr>\n",
       "      <th>33</th>\n",
       "      <td>GVREIT</td>\n",
       "      <td>2023-09-22</td>\n",
       "      <td>6000</td>\n",
       "      <td>6.10</td>\n",
       "      <td>6.75</td>\n",
       "      <td>3900.00</td>\n",
       "      <td>1.50</td>\n",
       "      <td>10.66</td>\n",
       "    </tr>\n",
       "    <tr>\n",
       "      <th>8</th>\n",
       "      <td>AIMIRT</td>\n",
       "      <td>2024-06-17</td>\n",
       "      <td>2500</td>\n",
       "      <td>10.50</td>\n",
       "      <td>10.50</td>\n",
       "      <td>0.00</td>\n",
       "      <td>0.96</td>\n",
       "      <td>0.00</td>\n",
       "    </tr>\n",
       "  </tbody>\n",
       "</table>\n",
       "</div>"
      ],
      "text/plain": [
       "      name      date_x   qty  cost  price    difa  %change  %profit\n",
       "31  GVREIT  2023-09-07  3000  6.60   6.75  450.00     1.50     2.27\n",
       "32  GVREIT  2023-09-11  3000  6.60   6.75  450.00     1.50     2.27\n",
       "33  GVREIT  2023-09-22  6000  6.10   6.75 3900.00     1.50    10.66\n",
       "8   AIMIRT  2024-06-17  2500 10.50  10.50    0.00     0.96     0.00"
      ]
     },
     "execution_count": 45,
     "metadata": {},
     "output_type": "execute_result"
    }
   ],
   "source": [
    "watch_list = buys_price.loc[buys_price.cost <= buys_price.price,colu]\n",
    "watch_list.sort_values('name',ascending=False)"
   ]
  },
  {
   "cell_type": "markdown",
   "id": "4cde016b",
   "metadata": {},
   "source": [
    "### Profit per Month"
   ]
  },
  {
   "cell_type": "code",
   "execution_count": 47,
   "id": "0873917b",
   "metadata": {},
   "outputs": [
    {
     "name": "stdout",
     "output_type": "stream",
     "text": [
      "\n",
      "SELECT name, YEAR(sells.date) AS sell_year, MONTH(sells.date) AS sell_month, \n",
      "       sells.price AS sell_price, buys.price AS buy_price, (sells.price - buys.price) AS diff, \n",
      "       qty, (sells.price * qty) AS sell_amt, (buys.price * qty) AS buy_amt, \n",
      "       (sells.price - buys.price) * qty AS gross, \n",
      "       ROUND((sells.price - buys.price)/buys.price*100,2) AS pct, days\n",
      "FROM sells JOIN buys ON sells.buy_id = buys.id\n",
      "JOIN stocks ON buys.stock_id = stocks.id\n",
      "WHERE YEAR(sells.date) = 2025 AND MONTH(sells.date) = 1\n",
      "ORDER BY sells.date DESC, name\n"
     ]
    }
   ],
   "source": [
    "year = 2025\n",
    "month = 1\n",
    "sql = '''\n",
    "SELECT name, YEAR(sells.date) AS sell_year, MONTH(sells.date) AS sell_month, \n",
    "       sells.price AS sell_price, buys.price AS buy_price, (sells.price - buys.price) AS diff, \n",
    "       qty, (sells.price * qty) AS sell_amt, (buys.price * qty) AS buy_amt, \n",
    "       (sells.price - buys.price) * qty AS gross, \n",
    "       ROUND((sells.price - buys.price)/buys.price*100,2) AS pct, days\n",
    "FROM sells JOIN buys ON sells.buy_id = buys.id\n",
    "JOIN stocks ON buys.stock_id = stocks.id\n",
    "WHERE YEAR(sells.date) = %s AND MONTH(sells.date) = %s\n",
    "ORDER BY sells.date DESC, name'''\n",
    "sql = sql % (year, month)\n",
    "sells_df = pd.read_sql(sql, conpf)\n",
    "print(sql)"
   ]
  },
  {
   "cell_type": "code",
   "execution_count": 48,
   "id": "dbe9d338",
   "metadata": {},
   "outputs": [
    {
     "data": {
      "text/html": [
       "<div>\n",
       "<style scoped>\n",
       "    .dataframe tbody tr th:only-of-type {\n",
       "        vertical-align: middle;\n",
       "    }\n",
       "\n",
       "    .dataframe tbody tr th {\n",
       "        vertical-align: top;\n",
       "    }\n",
       "\n",
       "    .dataframe thead th {\n",
       "        text-align: right;\n",
       "    }\n",
       "</style>\n",
       "<table border=\"1\" class=\"dataframe\">\n",
       "  <thead>\n",
       "    <tr style=\"text-align: right;\">\n",
       "      <th></th>\n",
       "      <th>name</th>\n",
       "      <th>sell_year</th>\n",
       "      <th>sell_month</th>\n",
       "      <th>sell_price</th>\n",
       "      <th>buy_price</th>\n",
       "      <th>diff</th>\n",
       "      <th>qty</th>\n",
       "      <th>sell_amt</th>\n",
       "      <th>buy_amt</th>\n",
       "      <th>gross</th>\n",
       "      <th>pct</th>\n",
       "      <th>days</th>\n",
       "    </tr>\n",
       "  </thead>\n",
       "  <tbody>\n",
       "  </tbody>\n",
       "</table>\n",
       "</div>"
      ],
      "text/plain": [
       "Empty DataFrame\n",
       "Columns: [name, sell_year, sell_month, sell_price, buy_price, diff, qty, sell_amt, buy_amt, gross, pct, days]\n",
       "Index: []"
      ]
     },
     "execution_count": 48,
     "metadata": {},
     "output_type": "execute_result"
    }
   ],
   "source": [
    "sells_df"
   ]
  },
  {
   "cell_type": "code",
   "execution_count": 49,
   "id": "15d59f94",
   "metadata": {},
   "outputs": [
    {
     "name": "stdout",
     "output_type": "stream",
     "text": [
      "Monthly Profit Amount: 0.00\n"
     ]
    }
   ],
   "source": [
    "print(f\"Monthly Profit Amount: {sells_df.gross.sum():,.2f}\")"
   ]
  },
  {
   "cell_type": "code",
   "execution_count": 50,
   "id": "141ad35d-fbdc-489e-a0dd-2df6497e8ca1",
   "metadata": {},
   "outputs": [],
   "source": [
    "file_name = \"monthly-sales.csv\"\n",
    "output_file = os.path.join(dat_path, file_name)\n",
    "god_file = os.path.join(god_path, file_name)\n",
    "icd_file = os.path.join(icd_path, file_name)\n",
    "osd_file = os.path.join(osd_path, file_name)"
   ]
  },
  {
   "cell_type": "code",
   "execution_count": 51,
   "id": "13b9620f-4783-4971-b535-475118237eab",
   "metadata": {},
   "outputs": [
    {
     "name": "stdout",
     "output_type": "stream",
     "text": [
      "output_file : C:\\Users\\PC1\\OneDrive\\A5\\Data\\monthly-sales.csv\n",
      "icd_file : C:\\Users\\PC1\\iCloudDrive\\Data\\monthly-sales.csv\n",
      "god_file : C:\\Users\\PC1\\OneDrive\\Imports\\santisoontarinka@gmail.com - Google Drive\\Data\\monthly-sales.csv\n",
      "osd_file : C:\\Users\\PC1\\OneDrive\\Documents\\obsidian-git-sync\\Data\\monthly-sales.csv\n"
     ]
    }
   ],
   "source": [
    "print(f\"output_file : {output_file}\") \n",
    "print(f\"icd_file : {icd_file}\") \n",
    "print(f\"god_file : {god_file}\") \n",
    "print(f\"osd_file : {osd_file}\") "
   ]
  },
  {
   "cell_type": "code",
   "execution_count": 52,
   "id": "55163491-8a2b-4436-a977-be87096934dc",
   "metadata": {},
   "outputs": [],
   "source": [
    "sells_df.to_csv(output_file, header=True, index=False)\n",
    "sells_df.to_csv(god_file, header=True, index=False)\n",
    "sells_df.to_csv(icd_file, header=True, index=False)\n",
    "sells_df.to_csv(osd_file, header=True, index=False)"
   ]
  },
  {
   "cell_type": "code",
   "execution_count": 53,
   "id": "2bd22547",
   "metadata": {},
   "outputs": [
    {
     "data": {
      "text/html": [
       "<style type=\"text/css\">\n",
       "</style>\n",
       "<table id=\"T_1d953\">\n",
       "  <thead>\n",
       "    <tr>\n",
       "      <th class=\"blank level0\" >&nbsp;</th>\n",
       "      <th id=\"T_1d953_level0_col0\" class=\"col_heading level0 col0\" >name</th>\n",
       "      <th id=\"T_1d953_level0_col1\" class=\"col_heading level0 col1\" >sell_year</th>\n",
       "      <th id=\"T_1d953_level0_col2\" class=\"col_heading level0 col2\" >sell_month</th>\n",
       "      <th id=\"T_1d953_level0_col3\" class=\"col_heading level0 col3\" >sell_price</th>\n",
       "      <th id=\"T_1d953_level0_col4\" class=\"col_heading level0 col4\" >buy_price</th>\n",
       "      <th id=\"T_1d953_level0_col5\" class=\"col_heading level0 col5\" >diff</th>\n",
       "      <th id=\"T_1d953_level0_col6\" class=\"col_heading level0 col6\" >qty</th>\n",
       "      <th id=\"T_1d953_level0_col7\" class=\"col_heading level0 col7\" >sell_amt</th>\n",
       "      <th id=\"T_1d953_level0_col8\" class=\"col_heading level0 col8\" >buy_amt</th>\n",
       "      <th id=\"T_1d953_level0_col9\" class=\"col_heading level0 col9\" >gross</th>\n",
       "      <th id=\"T_1d953_level0_col10\" class=\"col_heading level0 col10\" >pct</th>\n",
       "      <th id=\"T_1d953_level0_col11\" class=\"col_heading level0 col11\" >days</th>\n",
       "      <th id=\"T_1d953_level0_col12\" class=\"col_heading level0 col12\" >profit_per_day</th>\n",
       "    </tr>\n",
       "  </thead>\n",
       "  <tbody>\n",
       "  </tbody>\n",
       "</table>\n"
      ],
      "text/plain": [
       "<pandas.io.formats.style.Styler at 0x12df97cf410>"
      ]
     },
     "execution_count": 53,
     "metadata": {},
     "output_type": "execute_result"
    }
   ],
   "source": [
    "sells_df['profit_per_day'] = (sells_df['gross'] / sells_df['buy_amt']) / sells_df['days'] * 100\n",
    "sells_df.style.format(format_dict)"
   ]
  },
  {
   "cell_type": "code",
   "execution_count": 54,
   "id": "72125ca7",
   "metadata": {},
   "outputs": [
    {
     "data": {
      "text/plain": [
       "0"
      ]
     },
     "execution_count": 54,
     "metadata": {},
     "output_type": "execute_result"
    }
   ],
   "source": [
    "sells_df.gross.sum()"
   ]
  },
  {
   "cell_type": "code",
   "execution_count": 55,
   "id": "eb62bb1b",
   "metadata": {},
   "outputs": [
    {
     "name": "stdout",
     "output_type": "stream",
     "text": [
      "Average Profit Percent: nan%\n"
     ]
    }
   ],
   "source": [
    "average_profit_percent = sells_df['profit_per_day'].mean()\n",
    "print(f\"Average Profit Percent: {average_profit_percent:.2f}%\")"
   ]
  },
  {
   "cell_type": "code",
   "execution_count": 56,
   "id": "9e7944db",
   "metadata": {},
   "outputs": [
    {
     "data": {
      "text/plain": [
       "'January 31, 2025'"
      ]
     },
     "execution_count": 56,
     "metadata": {},
     "output_type": "execute_result"
    }
   ],
   "source": [
    "#dt = date(2023, 11, 8)\n",
    "dt = today\n",
    "dt.strftime(\"%B %d, %Y\")"
   ]
  },
  {
   "cell_type": "code",
   "execution_count": 57,
   "id": "e1bafc00",
   "metadata": {},
   "outputs": [
    {
     "name": "stdout",
     "output_type": "stream",
     "text": [
      "Hello, Alice! Today is January 31, 2025.\n"
     ]
    }
   ],
   "source": [
    "print(\"Hello, {}! Today is {:%B %d, %Y}.\".format(\"Alice\", dt))"
   ]
  },
  {
   "cell_type": "code",
   "execution_count": null,
   "id": "ff23d38c",
   "metadata": {},
   "outputs": [],
   "source": []
  }
 ],
 "metadata": {
  "kernelspec": {
   "display_name": "Python 3 (ipykernel)",
   "language": "python",
   "name": "python3"
  },
  "language_info": {
   "codemirror_mode": {
    "name": "ipython",
    "version": 3
   },
   "file_extension": ".py",
   "mimetype": "text/x-python",
   "name": "python",
   "nbconvert_exporter": "python",
   "pygments_lexer": "ipython3",
   "version": "3.12.3"
  }
 },
 "nbformat": 4,
 "nbformat_minor": 5
}
