{
 "cells": [
  {
   "cell_type": "markdown",
   "id": "d8a383f5",
   "metadata": {},
   "source": [
    "### Input files: Price-Today, orders-log\n",
    "### Output files: Price-for-Order, orders-log, monthly-sales"
   ]
  },
  {
   "cell_type": "code",
   "execution_count": 2,
   "id": "2a2bb67d",
   "metadata": {},
   "outputs": [
    {
     "name": "stdout",
     "output_type": "stream",
     "text": [
      "2025-08-04 2025-08-03\n"
     ]
    }
   ],
   "source": [
    "import glob\n",
    "import os\n",
    "import pandas as pd\n",
    "from datetime import date, timedelta, datetime\n",
    "from pandas.tseries.offsets import *\n",
    "from sqlalchemy import create_engine\n",
    "\n",
    "engine = create_engine(\"sqlite:///c:\\\\ruby\\\\port_lite\\\\db\\\\development.sqlite3\")\n",
    "conlite = engine.connect()\n",
    "engine = create_engine('mysql+pymysql://root:@localhost:3306/portfolio_development')\n",
    "conpf = engine.connect()\n",
    "\n",
    "format_dict = {'qty':'{:,}',\n",
    "              'sell_price':'{:,.2f}','buy_price':'{:,.2f}','diff':'{:,.2f}',\n",
    "              'cost':'{:,.2f}','price':'{:,.2f}','%change':'{:,.2f}','%profit':'{:,.2f}',\n",
    "              'sell_amt':'{:,.2f}','buy_amt':'{:,.2f}','gross':'{:,.2f}','amount':'{:,.2f}',\n",
    "              'cst_amt':'{:,.2f}','mkt_amt':'{:,.2f}','difa':'{:,.2f}',  \n",
    "              'pct':'{:,.2f}','net':'{:,.2f}'}\n",
    "\n",
    "pd.options.display.max_rows = 50\n",
    "pd.options.display.float_format = '{:.2f}'.format\n",
    "\n",
    "today = date.today()\n",
    "yesterday = today - timedelta(days=1)\n",
    "print(today, yesterday)"
   ]
  },
  {
   "cell_type": "code",
   "execution_count": 3,
   "id": "20838b19",
   "metadata": {},
   "outputs": [
    {
     "name": "stdout",
     "output_type": "stream",
     "text": [
      "today: 2025-08-04\n",
      "yesterday: 2025-08-01\n"
     ]
    }
   ],
   "source": [
    "num_business_days = BDay(1)\n",
    "yesterday = today - num_business_days\n",
    "print(f'today: {today}')\n",
    "yesterday = yesterday.date()\n",
    "print(f'yesterday: {yesterday}')"
   ]
  },
  {
   "cell_type": "code",
   "execution_count": 4,
   "id": "75ae99cf-1264-40eb-b21c-61a74b8b10fd",
   "metadata": {},
   "outputs": [
    {
     "name": "stdout",
     "output_type": "stream",
     "text": [
      "2025-08-04\n"
     ]
    }
   ],
   "source": [
    "# If run after actual work day\n",
    "#today = today - timedelta(days=2)\n",
    "print(today)"
   ]
  },
  {
   "cell_type": "code",
   "execution_count": 5,
   "id": "827c35b1-74ae-4922-afc4-63c50c6d3a5d",
   "metadata": {},
   "outputs": [
    {
     "name": "stdout",
     "output_type": "stream",
     "text": [
      "2025-08-04 20:21:26\n"
     ]
    }
   ],
   "source": [
    "# Get the current time\n",
    "current_time = datetime.now()\n",
    "# Format the time to remove milliseconds\n",
    "formatted_time = current_time.strftime(\"%Y-%m-%d %H:%M:%S\")\n",
    "print(formatted_time)"
   ]
  },
  {
   "cell_type": "markdown",
   "id": "29764f10",
   "metadata": {},
   "source": [
    "### Restart and Run All Cells"
   ]
  },
  {
   "cell_type": "code",
   "execution_count": 7,
   "id": "f7a312be-8512-45c3-bb3d-56f045087797",
   "metadata": {},
   "outputs": [],
   "source": [
    "# Get the user's home directory\n",
    "user_path = os.path.expanduser('~')\n",
    "# Get the current working directory\n",
    "current_path = os.getcwd()\n",
    "# Derive the base directory (base_dir) by removing the last folder ('Daily')\n",
    "base_path = os.path.dirname(current_path)\n",
    "#C:\\Users\\PC1\\OneDrive\\A5\\Data\n",
    "dat_path = os.path.join(base_path, \"Data\")\n",
    "#C:\\Users\\PC1\\OneDrive\\Imports\\santisoontarinka@gmail.com - Google Drive\\Data>\n",
    "god_path = os.path.join(user_path, \"OneDrive\",\"Imports\",\"santisoontarinka@gmail.com - Google Drive\",\"Data\")\n",
    "#C:\\Users\\PC1\\iCloudDrive\\data\n",
    "icd_path = os.path.join(user_path, \"iCloudDrive\", \"Data\")\n",
    "#C:\\Users\\PC1\\OneDrive\\Documents\\obsidian-git-sync\\Data\n",
    "osd_path = os.path.join(user_path, \"OneDrive\",\"Documents\",\"obsidian-git-sync\",\"Data\")"
   ]
  },
  {
   "cell_type": "code",
   "execution_count": 8,
   "id": "5e00013c-ddbb-45ba-9c1a-b1e5f8ec70d3",
   "metadata": {},
   "outputs": [
    {
     "name": "stdout",
     "output_type": "stream",
     "text": [
      "User path: C:\\Users\\PC1\n",
      "Current path: C:\\Users\\PC1\\OneDrive\\A5\\Daily\n",
      "Base path: C:\\Users\\PC1\\OneDrive\\A5\n",
      "Data path (dat_path): C:\\Users\\PC1\\OneDrive\\A5\\Data\n",
      "Google Drive path (god_path): C:\\Users\\PC1\\OneDrive\\Imports\\santisoontarinka@gmail.com - Google Drive\\Data\n",
      "iCloudDrive path (icd_path): C:\\Users\\PC1\\iCloudDrive\\Data\n",
      "Obsidian path (osd_path): C:\\Users\\PC1\\OneDrive\\Documents\\obsidian-git-sync\\Data\n"
     ]
    }
   ],
   "source": [
    "print(\"User path:\", user_path)\n",
    "print(f\"Current path: {current_path}\")\n",
    "print(f\"Base path: {base_path}\")\n",
    "print(f\"Data path (dat_path): {dat_path}\") \n",
    "print(f\"Google Drive path (god_path): {god_path}\")\n",
    "print(f\"iCloudDrive path (icd_path): {icd_path}\") \n",
    "print(f\"Obsidian path (osd_path): {osd_path}\") "
   ]
  },
  {
   "cell_type": "markdown",
   "id": "e01955e8",
   "metadata": {},
   "source": [
    "## Must rerun whenever there is change in orders"
   ]
  },
  {
   "cell_type": "code",
   "execution_count": 10,
   "id": "d4b5fc44",
   "metadata": {},
   "outputs": [
    {
     "data": {
      "text/plain": [
       "(11, 8)"
      ]
     },
     "execution_count": 10,
     "metadata": {},
     "output_type": "execute_result"
    }
   ],
   "source": [
    "sql = \"\"\"\n",
    "SELECT trade, name, qty, price AS target, active, reason, market, xdate \n",
    "FROM orders\n",
    "ORDER BY trade, name\"\"\"\n",
    "orders = pd.read_sql(sql, conlite)\n",
    "orders.shape"
   ]
  },
  {
   "cell_type": "code",
   "execution_count": 11,
   "id": "d6b5b24c",
   "metadata": {},
   "outputs": [
    {
     "name": "stdout",
     "output_type": "stream",
     "text": [
      "Input file: C:\\Users\\PC1\\OneDrive\\A5\\Data\\Price-Today.csv\n"
     ]
    }
   ],
   "source": [
    "file_name = \"Price-Today.csv\"\n",
    "input_file = os.path.join(dat_path, file_name)\n",
    "print(f\"Input file: {input_file}\")"
   ]
  },
  {
   "cell_type": "code",
   "execution_count": 12,
   "id": "f9f6b3d9",
   "metadata": {},
   "outputs": [
    {
     "data": {
      "text/plain": [
       "(169, 10)"
      ]
     },
     "execution_count": 12,
     "metadata": {},
     "output_type": "execute_result"
    }
   ],
   "source": [
    "prices = pd.read_csv(input_file)\n",
    "prices.shape"
   ]
  },
  {
   "cell_type": "code",
   "execution_count": 13,
   "id": "5b436ae1",
   "metadata": {},
   "outputs": [
    {
     "data": {
      "text/plain": [
       "(11, 17)"
      ]
     },
     "execution_count": 13,
     "metadata": {},
     "output_type": "execute_result"
    }
   ],
   "source": [
    "df_merge  = pd.merge(orders, prices, on = 'name', how='inner')\n",
    "df_merge.shape"
   ]
  },
  {
   "cell_type": "code",
   "execution_count": 14,
   "id": "d160b65c",
   "metadata": {},
   "outputs": [],
   "source": [
    "df_merge['spd'] = 0"
   ]
  },
  {
   "cell_type": "code",
   "execution_count": 15,
   "id": "68bb6b33",
   "metadata": {
    "scrolled": true
   },
   "outputs": [
    {
     "data": {
      "text/plain": [
       "(11, 12)"
      ]
     },
     "execution_count": 15,
     "metadata": {},
     "output_type": "execute_result"
    }
   ],
   "source": [
    "colo = ['trade', 'name', 'spd', 'reason', 'market', 'qty', 'target', 'price', 'change', '%change',\n",
    "        'active', 'xdate']\n",
    "df_merge[colo].shape"
   ]
  },
  {
   "cell_type": "code",
   "execution_count": 16,
   "id": "278505f4-a620-4e01-beac-0a8a47df215a",
   "metadata": {},
   "outputs": [],
   "source": [
    "file_name = \"Price-for-Order.csv\"\n",
    "output_file = os.path.join(dat_path, file_name)\n",
    "god_file = os.path.join(god_path, file_name)\n",
    "icd_file = os.path.join(icd_path, file_name)\n",
    "osd_file = os.path.join(osd_path, file_name)"
   ]
  },
  {
   "cell_type": "code",
   "execution_count": 17,
   "id": "f92616e5-84fa-49a8-a66e-18adf0f9c4e0",
   "metadata": {},
   "outputs": [
    {
     "name": "stdout",
     "output_type": "stream",
     "text": [
      "Output file: C:\\Users\\PC1\\OneDrive\\A5\\Data\\Price-for-Order.csv\n",
      "icd_file : C:\\Users\\PC1\\iCloudDrive\\Data\\Price-for-Order.csv\n",
      "god_file : C:\\Users\\PC1\\OneDrive\\Imports\\santisoontarinka@gmail.com - Google Drive\\Data\\Price-for-Order.csv\n",
      "osd_file : C:\\Users\\PC1\\OneDrive\\Documents\\obsidian-git-sync\\Data\\Price-for-Order.csv\n"
     ]
    }
   ],
   "source": [
    "print(f\"Output file: {output_file}\") \n",
    "print(f\"icd_file : {icd_file}\") \n",
    "print(f\"god_file : {god_file}\") \n",
    "print(f\"osd_file : {osd_file}\") "
   ]
  },
  {
   "cell_type": "code",
   "execution_count": 18,
   "id": "95d6fd8b-b39f-47ad-9c34-188ee94095c4",
   "metadata": {},
   "outputs": [],
   "source": [
    "df_merge[colo].to_csv(output_file, header=True, index=False)\n",
    "df_merge[colo].to_csv(god_file, header=True, index=False)\n",
    "df_merge[colo].to_csv(icd_file, header=True, index=False)\n",
    "df_merge[colo].to_csv(osd_file, header=True, index=False)"
   ]
  },
  {
   "cell_type": "markdown",
   "id": "b6dc65ac",
   "metadata": {},
   "source": [
    "### call ruby ruby\\order-log-new.rb"
   ]
  },
  {
   "cell_type": "code",
   "execution_count": 20,
   "id": "e154c230",
   "metadata": {},
   "outputs": [
    {
     "data": {
      "text/plain": [
       "'C:\\\\Users\\\\PC1\\\\OneDrive\\\\A5\\\\Daily'"
      ]
     },
     "execution_count": 20,
     "metadata": {},
     "output_type": "execute_result"
    }
   ],
   "source": [
    "%pwd"
   ]
  },
  {
   "cell_type": "code",
   "execution_count": 21,
   "id": "14494371",
   "metadata": {},
   "outputs": [
    {
     "data": {
      "text/plain": [
       "'C:\\\\Users\\\\PC1\\\\OneDrive\\\\A5'"
      ]
     },
     "execution_count": 21,
     "metadata": {},
     "output_type": "execute_result"
    }
   ],
   "source": [
    "os.chdir(base_path)\n",
    "%pwd"
   ]
  },
  {
   "cell_type": "code",
   "execution_count": 22,
   "id": "055e6f72",
   "metadata": {},
   "outputs": [
    {
     "name": "stdout",
     "output_type": "stream",
     "text": [
      "trade,name,spd,reason,market,qty,target,current,change,%change,active,xdate\n",
      "B,DIF,-10,RD40Pct,SET,5000,7.7,8.2,0.05,0.613497,1,2025-05-14\n",
      "B,GVREIT,-7,RND20Pct,SET,5000,6.2,6.55,0.0,0.0,1,2025-05-28\n",
      "B,JMT,-25,RD75pct,SET50,2500,9.0,10.5,-0.1,-0.943396,0,2025-02-25\n",
      "B,SENA,-30,RD70pct,SET,15000,1.44,1.74,-0.03,-1.694915,0,2025-05-09\n",
      "B,WHAIR,-44,RD50pct,SET,10000,4.3,5.45,-0.05,-0.909091,0,2025-05-26\n",
      "B,WHART,-24,RD30Pct,SET,5000,8.0,9.2,-0.1,-1.075269,0,2025-05-19\n",
      "S,AIMIRT,18,RND15pct,SET,2500,11.5,9.8,-0.05,-0.507614,0,2025-05-19\n",
      "S,IVL,13,CSSTGT,SET50,1000,24.0,22.7,0.3,1.339286,0,2025-05-27\n",
      "S,MCS,8,20Pct,SET,6000,8.75,8.35,0.05,0.60241,1,2025-04-18\n",
      "S,NER,4,CSSMIN,SET,5000,4.5,4.42,-0.04,-0.896861,1,2025-04-24\n",
      "S,PTG,83,COS,SET100,3600,11.4,6.55,0.0,0.0,0,2025-03-10\n"
     ]
    }
   ],
   "source": [
    "!ruby ruby\\\\order-log-new.rb"
   ]
  },
  {
   "cell_type": "code",
   "execution_count": 23,
   "id": "216be764",
   "metadata": {},
   "outputs": [
    {
     "data": {
      "text/plain": [
       "'C:\\\\Users\\\\PC1\\\\OneDrive\\\\A5\\\\Daily'"
      ]
     },
     "execution_count": 23,
     "metadata": {},
     "output_type": "execute_result"
    }
   ],
   "source": [
    "os.chdir(current_path)\n",
    "%pwd"
   ]
  },
  {
   "cell_type": "code",
   "execution_count": 24,
   "id": "6eaf15c2-8657-4ca4-bbda-2aaec4f7a582",
   "metadata": {},
   "outputs": [
    {
     "name": "stdout",
     "output_type": "stream",
     "text": [
      "Input file: C:\\Users\\PC1\\OneDrive\\A5\\Data\\orders-log.csv\n"
     ]
    }
   ],
   "source": [
    "file_name   = 'orders-log.csv'\n",
    "input_file = os.path.join(dat_path, file_name)\n",
    "print(f\"Input file: {input_file}\")"
   ]
  },
  {
   "cell_type": "code",
   "execution_count": 25,
   "id": "9a39e35e-9b35-4a61-b816-2e742adbe787",
   "metadata": {},
   "outputs": [
    {
     "data": {
      "text/html": [
       "<div>\n",
       "<style scoped>\n",
       "    .dataframe tbody tr th:only-of-type {\n",
       "        vertical-align: middle;\n",
       "    }\n",
       "\n",
       "    .dataframe tbody tr th {\n",
       "        vertical-align: top;\n",
       "    }\n",
       "\n",
       "    .dataframe thead th {\n",
       "        text-align: right;\n",
       "    }\n",
       "</style>\n",
       "<table border=\"1\" class=\"dataframe\">\n",
       "  <thead>\n",
       "    <tr style=\"text-align: right;\">\n",
       "      <th></th>\n",
       "      <th>trade</th>\n",
       "      <th>name</th>\n",
       "      <th>spd</th>\n",
       "      <th>reason</th>\n",
       "      <th>market</th>\n",
       "      <th>qty</th>\n",
       "      <th>target</th>\n",
       "      <th>current</th>\n",
       "      <th>change</th>\n",
       "      <th>%change</th>\n",
       "      <th>active</th>\n",
       "      <th>xdate</th>\n",
       "      <th>amount</th>\n",
       "    </tr>\n",
       "  </thead>\n",
       "  <tbody>\n",
       "  </tbody>\n",
       "</table>\n",
       "</div>"
      ],
      "text/plain": [
       "Empty DataFrame\n",
       "Columns: [trade, name, spd, reason, market, qty, target, current, change, %change, active, xdate, amount]\n",
       "Index: []"
      ]
     },
     "execution_count": 25,
     "metadata": {},
     "output_type": "execute_result"
    }
   ],
   "source": [
    "df = pd.read_csv(input_file, sep=',', index_col=None)\n",
    "df['amount'] = df['qty'] * df['target']\n",
    "df.query('spd >= -3 and spd <= 3')"
   ]
  },
  {
   "cell_type": "code",
   "execution_count": 26,
   "id": "e63f55ba",
   "metadata": {},
   "outputs": [
    {
     "data": {
      "text/html": [
       "<div>\n",
       "<style scoped>\n",
       "    .dataframe tbody tr th:only-of-type {\n",
       "        vertical-align: middle;\n",
       "    }\n",
       "\n",
       "    .dataframe tbody tr th {\n",
       "        vertical-align: top;\n",
       "    }\n",
       "\n",
       "    .dataframe thead th {\n",
       "        text-align: right;\n",
       "    }\n",
       "</style>\n",
       "<table border=\"1\" class=\"dataframe\">\n",
       "  <thead>\n",
       "    <tr style=\"text-align: right;\">\n",
       "      <th></th>\n",
       "      <th>trade</th>\n",
       "      <th>name</th>\n",
       "      <th>spd</th>\n",
       "      <th>reason</th>\n",
       "      <th>market</th>\n",
       "      <th>qty</th>\n",
       "      <th>target</th>\n",
       "      <th>current</th>\n",
       "      <th>change</th>\n",
       "      <th>%change</th>\n",
       "      <th>active</th>\n",
       "      <th>xdate</th>\n",
       "      <th>amount</th>\n",
       "    </tr>\n",
       "  </thead>\n",
       "  <tbody>\n",
       "  </tbody>\n",
       "</table>\n",
       "</div>"
      ],
      "text/plain": [
       "Empty DataFrame\n",
       "Columns: [trade, name, spd, reason, market, qty, target, current, change, %change, active, xdate, amount]\n",
       "Index: []"
      ]
     },
     "execution_count": 26,
     "metadata": {},
     "output_type": "execute_result"
    }
   ],
   "source": [
    "df.query('active == 2')"
   ]
  },
  {
   "cell_type": "code",
   "execution_count": 27,
   "id": "5b2278ad",
   "metadata": {
    "scrolled": true
   },
   "outputs": [
    {
     "data": {
      "text/html": [
       "<div>\n",
       "<style scoped>\n",
       "    .dataframe tbody tr th:only-of-type {\n",
       "        vertical-align: middle;\n",
       "    }\n",
       "\n",
       "    .dataframe tbody tr th {\n",
       "        vertical-align: top;\n",
       "    }\n",
       "\n",
       "    .dataframe thead th {\n",
       "        text-align: right;\n",
       "    }\n",
       "</style>\n",
       "<table border=\"1\" class=\"dataframe\">\n",
       "  <thead>\n",
       "    <tr style=\"text-align: right;\">\n",
       "      <th></th>\n",
       "      <th>trade</th>\n",
       "      <th>name</th>\n",
       "      <th>spd</th>\n",
       "      <th>reason</th>\n",
       "      <th>market</th>\n",
       "      <th>qty</th>\n",
       "      <th>target</th>\n",
       "      <th>current</th>\n",
       "      <th>change</th>\n",
       "      <th>%change</th>\n",
       "      <th>active</th>\n",
       "      <th>xdate</th>\n",
       "      <th>amount</th>\n",
       "    </tr>\n",
       "  </thead>\n",
       "  <tbody>\n",
       "    <tr>\n",
       "      <th>0</th>\n",
       "      <td>B</td>\n",
       "      <td>DIF</td>\n",
       "      <td>-10</td>\n",
       "      <td>RD40Pct</td>\n",
       "      <td>SET</td>\n",
       "      <td>5000</td>\n",
       "      <td>7.70</td>\n",
       "      <td>8.20</td>\n",
       "      <td>0.05</td>\n",
       "      <td>0.61</td>\n",
       "      <td>1</td>\n",
       "      <td>2025-05-14</td>\n",
       "      <td>38500.00</td>\n",
       "    </tr>\n",
       "    <tr>\n",
       "      <th>1</th>\n",
       "      <td>B</td>\n",
       "      <td>GVREIT</td>\n",
       "      <td>-7</td>\n",
       "      <td>RND20Pct</td>\n",
       "      <td>SET</td>\n",
       "      <td>5000</td>\n",
       "      <td>6.20</td>\n",
       "      <td>6.55</td>\n",
       "      <td>0.00</td>\n",
       "      <td>0.00</td>\n",
       "      <td>1</td>\n",
       "      <td>2025-05-28</td>\n",
       "      <td>31000.00</td>\n",
       "    </tr>\n",
       "    <tr>\n",
       "      <th>8</th>\n",
       "      <td>S</td>\n",
       "      <td>MCS</td>\n",
       "      <td>8</td>\n",
       "      <td>20Pct</td>\n",
       "      <td>SET</td>\n",
       "      <td>6000</td>\n",
       "      <td>8.75</td>\n",
       "      <td>8.35</td>\n",
       "      <td>0.05</td>\n",
       "      <td>0.60</td>\n",
       "      <td>1</td>\n",
       "      <td>2025-04-18</td>\n",
       "      <td>52500.00</td>\n",
       "    </tr>\n",
       "    <tr>\n",
       "      <th>9</th>\n",
       "      <td>S</td>\n",
       "      <td>NER</td>\n",
       "      <td>4</td>\n",
       "      <td>CSSMIN</td>\n",
       "      <td>SET</td>\n",
       "      <td>5000</td>\n",
       "      <td>4.50</td>\n",
       "      <td>4.42</td>\n",
       "      <td>-0.04</td>\n",
       "      <td>-0.90</td>\n",
       "      <td>1</td>\n",
       "      <td>2025-04-24</td>\n",
       "      <td>22500.00</td>\n",
       "    </tr>\n",
       "  </tbody>\n",
       "</table>\n",
       "</div>"
      ],
      "text/plain": [
       "  trade    name  spd    reason market   qty  target  current  change  %change  \\\n",
       "0     B     DIF  -10   RD40Pct    SET  5000    7.70     8.20    0.05     0.61   \n",
       "1     B  GVREIT   -7  RND20Pct    SET  5000    6.20     6.55    0.00     0.00   \n",
       "8     S     MCS    8     20Pct    SET  6000    8.75     8.35    0.05     0.60   \n",
       "9     S     NER    4    CSSMIN    SET  5000    4.50     4.42   -0.04    -0.90   \n",
       "\n",
       "   active       xdate   amount  \n",
       "0       1  2025-05-14 38500.00  \n",
       "1       1  2025-05-28 31000.00  \n",
       "8       1  2025-04-18 52500.00  \n",
       "9       1  2025-04-24 22500.00  "
      ]
     },
     "execution_count": 27,
     "metadata": {},
     "output_type": "execute_result"
    }
   ],
   "source": [
    "df.query('active == 1')"
   ]
  },
  {
   "cell_type": "code",
   "execution_count": 28,
   "id": "0afee87f",
   "metadata": {},
   "outputs": [
    {
     "data": {
      "text/html": [
       "<div>\n",
       "<style scoped>\n",
       "    .dataframe tbody tr th:only-of-type {\n",
       "        vertical-align: middle;\n",
       "    }\n",
       "\n",
       "    .dataframe tbody tr th {\n",
       "        vertical-align: top;\n",
       "    }\n",
       "\n",
       "    .dataframe thead th {\n",
       "        text-align: right;\n",
       "    }\n",
       "</style>\n",
       "<table border=\"1\" class=\"dataframe\">\n",
       "  <thead>\n",
       "    <tr style=\"text-align: right;\">\n",
       "      <th></th>\n",
       "      <th>trade</th>\n",
       "      <th>name</th>\n",
       "      <th>spd</th>\n",
       "      <th>reason</th>\n",
       "      <th>market</th>\n",
       "      <th>qty</th>\n",
       "      <th>target</th>\n",
       "      <th>current</th>\n",
       "      <th>change</th>\n",
       "      <th>%change</th>\n",
       "      <th>active</th>\n",
       "      <th>xdate</th>\n",
       "      <th>amount</th>\n",
       "    </tr>\n",
       "  </thead>\n",
       "  <tbody>\n",
       "    <tr>\n",
       "      <th>2</th>\n",
       "      <td>B</td>\n",
       "      <td>JMT</td>\n",
       "      <td>-25</td>\n",
       "      <td>RD75pct</td>\n",
       "      <td>SET50</td>\n",
       "      <td>2500</td>\n",
       "      <td>9.00</td>\n",
       "      <td>10.50</td>\n",
       "      <td>-0.10</td>\n",
       "      <td>-0.94</td>\n",
       "      <td>0</td>\n",
       "      <td>2025-02-25</td>\n",
       "      <td>22500.00</td>\n",
       "    </tr>\n",
       "    <tr>\n",
       "      <th>3</th>\n",
       "      <td>B</td>\n",
       "      <td>SENA</td>\n",
       "      <td>-30</td>\n",
       "      <td>RD70pct</td>\n",
       "      <td>SET</td>\n",
       "      <td>15000</td>\n",
       "      <td>1.44</td>\n",
       "      <td>1.74</td>\n",
       "      <td>-0.03</td>\n",
       "      <td>-1.69</td>\n",
       "      <td>0</td>\n",
       "      <td>2025-05-09</td>\n",
       "      <td>21600.00</td>\n",
       "    </tr>\n",
       "    <tr>\n",
       "      <th>4</th>\n",
       "      <td>B</td>\n",
       "      <td>WHAIR</td>\n",
       "      <td>-44</td>\n",
       "      <td>RD50pct</td>\n",
       "      <td>SET</td>\n",
       "      <td>10000</td>\n",
       "      <td>4.30</td>\n",
       "      <td>5.45</td>\n",
       "      <td>-0.05</td>\n",
       "      <td>-0.91</td>\n",
       "      <td>0</td>\n",
       "      <td>2025-05-26</td>\n",
       "      <td>43000.00</td>\n",
       "    </tr>\n",
       "    <tr>\n",
       "      <th>5</th>\n",
       "      <td>B</td>\n",
       "      <td>WHART</td>\n",
       "      <td>-24</td>\n",
       "      <td>RD30Pct</td>\n",
       "      <td>SET</td>\n",
       "      <td>5000</td>\n",
       "      <td>8.00</td>\n",
       "      <td>9.20</td>\n",
       "      <td>-0.10</td>\n",
       "      <td>-1.08</td>\n",
       "      <td>0</td>\n",
       "      <td>2025-05-19</td>\n",
       "      <td>40000.00</td>\n",
       "    </tr>\n",
       "    <tr>\n",
       "      <th>6</th>\n",
       "      <td>S</td>\n",
       "      <td>AIMIRT</td>\n",
       "      <td>18</td>\n",
       "      <td>RND15pct</td>\n",
       "      <td>SET</td>\n",
       "      <td>2500</td>\n",
       "      <td>11.50</td>\n",
       "      <td>9.80</td>\n",
       "      <td>-0.05</td>\n",
       "      <td>-0.51</td>\n",
       "      <td>0</td>\n",
       "      <td>2025-05-19</td>\n",
       "      <td>28750.00</td>\n",
       "    </tr>\n",
       "    <tr>\n",
       "      <th>7</th>\n",
       "      <td>S</td>\n",
       "      <td>IVL</td>\n",
       "      <td>13</td>\n",
       "      <td>CSSTGT</td>\n",
       "      <td>SET50</td>\n",
       "      <td>1000</td>\n",
       "      <td>24.00</td>\n",
       "      <td>22.70</td>\n",
       "      <td>0.30</td>\n",
       "      <td>1.34</td>\n",
       "      <td>0</td>\n",
       "      <td>2025-05-27</td>\n",
       "      <td>24000.00</td>\n",
       "    </tr>\n",
       "    <tr>\n",
       "      <th>10</th>\n",
       "      <td>S</td>\n",
       "      <td>PTG</td>\n",
       "      <td>83</td>\n",
       "      <td>COS</td>\n",
       "      <td>SET100</td>\n",
       "      <td>3600</td>\n",
       "      <td>11.40</td>\n",
       "      <td>6.55</td>\n",
       "      <td>0.00</td>\n",
       "      <td>0.00</td>\n",
       "      <td>0</td>\n",
       "      <td>2025-03-10</td>\n",
       "      <td>41040.00</td>\n",
       "    </tr>\n",
       "  </tbody>\n",
       "</table>\n",
       "</div>"
      ],
      "text/plain": [
       "   trade    name  spd    reason  market    qty  target  current  change  \\\n",
       "2      B     JMT  -25   RD75pct   SET50   2500    9.00    10.50   -0.10   \n",
       "3      B    SENA  -30   RD70pct     SET  15000    1.44     1.74   -0.03   \n",
       "4      B   WHAIR  -44   RD50pct     SET  10000    4.30     5.45   -0.05   \n",
       "5      B   WHART  -24   RD30Pct     SET   5000    8.00     9.20   -0.10   \n",
       "6      S  AIMIRT   18  RND15pct     SET   2500   11.50     9.80   -0.05   \n",
       "7      S     IVL   13    CSSTGT   SET50   1000   24.00    22.70    0.30   \n",
       "10     S     PTG   83       COS  SET100   3600   11.40     6.55    0.00   \n",
       "\n",
       "    %change  active       xdate   amount  \n",
       "2     -0.94       0  2025-02-25 22500.00  \n",
       "3     -1.69       0  2025-05-09 21600.00  \n",
       "4     -0.91       0  2025-05-26 43000.00  \n",
       "5     -1.08       0  2025-05-19 40000.00  \n",
       "6     -0.51       0  2025-05-19 28750.00  \n",
       "7      1.34       0  2025-05-27 24000.00  \n",
       "10     0.00       0  2025-03-10 41040.00  "
      ]
     },
     "execution_count": 28,
     "metadata": {},
     "output_type": "execute_result"
    }
   ],
   "source": [
    "df.query('active == 0')"
   ]
  },
  {
   "cell_type": "code",
   "execution_count": 29,
   "id": "007e8bae",
   "metadata": {
    "scrolled": true
   },
   "outputs": [
    {
     "data": {
      "text/html": [
       "<div>\n",
       "<style scoped>\n",
       "    .dataframe tbody tr th:only-of-type {\n",
       "        vertical-align: middle;\n",
       "    }\n",
       "\n",
       "    .dataframe tbody tr th {\n",
       "        vertical-align: top;\n",
       "    }\n",
       "\n",
       "    .dataframe thead th {\n",
       "        text-align: right;\n",
       "    }\n",
       "</style>\n",
       "<table border=\"1\" class=\"dataframe\">\n",
       "  <thead>\n",
       "    <tr style=\"text-align: right;\">\n",
       "      <th></th>\n",
       "      <th>trade</th>\n",
       "      <th>name</th>\n",
       "      <th>spd</th>\n",
       "      <th>reason</th>\n",
       "      <th>market</th>\n",
       "      <th>qty</th>\n",
       "      <th>target</th>\n",
       "      <th>current</th>\n",
       "      <th>change</th>\n",
       "      <th>%change</th>\n",
       "      <th>active</th>\n",
       "      <th>xdate</th>\n",
       "      <th>amount</th>\n",
       "    </tr>\n",
       "  </thead>\n",
       "  <tbody>\n",
       "    <tr>\n",
       "      <th>4</th>\n",
       "      <td>B</td>\n",
       "      <td>WHAIR</td>\n",
       "      <td>-44</td>\n",
       "      <td>RD50pct</td>\n",
       "      <td>SET</td>\n",
       "      <td>10000</td>\n",
       "      <td>4.30</td>\n",
       "      <td>5.45</td>\n",
       "      <td>-0.05</td>\n",
       "      <td>-0.91</td>\n",
       "      <td>0</td>\n",
       "      <td>2025-05-26</td>\n",
       "      <td>43000.00</td>\n",
       "    </tr>\n",
       "  </tbody>\n",
       "</table>\n",
       "</div>"
      ],
      "text/plain": [
       "  trade   name  spd   reason market    qty  target  current  change  %change  \\\n",
       "4     B  WHAIR  -44  RD50pct    SET  10000    4.30     5.45   -0.05    -0.91   \n",
       "\n",
       "   active       xdate   amount  \n",
       "4       0  2025-05-26 43000.00  "
      ]
     },
     "execution_count": 29,
     "metadata": {},
     "output_type": "execute_result"
    }
   ],
   "source": [
    "df.query('spd <= -40 and trade == \"B\"')"
   ]
  },
  {
   "cell_type": "code",
   "execution_count": 30,
   "id": "e294c091",
   "metadata": {},
   "outputs": [
    {
     "data": {
      "text/html": [
       "<div>\n",
       "<style scoped>\n",
       "    .dataframe tbody tr th:only-of-type {\n",
       "        vertical-align: middle;\n",
       "    }\n",
       "\n",
       "    .dataframe tbody tr th {\n",
       "        vertical-align: top;\n",
       "    }\n",
       "\n",
       "    .dataframe thead th {\n",
       "        text-align: right;\n",
       "    }\n",
       "</style>\n",
       "<table border=\"1\" class=\"dataframe\">\n",
       "  <thead>\n",
       "    <tr style=\"text-align: right;\">\n",
       "      <th></th>\n",
       "      <th>trade</th>\n",
       "      <th>name</th>\n",
       "      <th>spd</th>\n",
       "      <th>reason</th>\n",
       "      <th>market</th>\n",
       "      <th>qty</th>\n",
       "      <th>target</th>\n",
       "      <th>current</th>\n",
       "      <th>change</th>\n",
       "      <th>%change</th>\n",
       "      <th>active</th>\n",
       "      <th>xdate</th>\n",
       "      <th>amount</th>\n",
       "    </tr>\n",
       "  </thead>\n",
       "  <tbody>\n",
       "  </tbody>\n",
       "</table>\n",
       "</div>"
      ],
      "text/plain": [
       "Empty DataFrame\n",
       "Columns: [trade, name, spd, reason, market, qty, target, current, change, %change, active, xdate, amount]\n",
       "Index: []"
      ]
     },
     "execution_count": 30,
     "metadata": {},
     "output_type": "execute_result"
    }
   ],
   "source": [
    "df.query('trade == \"B\" & spd > 0')"
   ]
  },
  {
   "cell_type": "code",
   "execution_count": 31,
   "id": "f5ca51c5",
   "metadata": {},
   "outputs": [
    {
     "data": {
      "text/html": [
       "<div>\n",
       "<style scoped>\n",
       "    .dataframe tbody tr th:only-of-type {\n",
       "        vertical-align: middle;\n",
       "    }\n",
       "\n",
       "    .dataframe tbody tr th {\n",
       "        vertical-align: top;\n",
       "    }\n",
       "\n",
       "    .dataframe thead th {\n",
       "        text-align: right;\n",
       "    }\n",
       "</style>\n",
       "<table border=\"1\" class=\"dataframe\">\n",
       "  <thead>\n",
       "    <tr style=\"text-align: right;\">\n",
       "      <th></th>\n",
       "      <th>trade</th>\n",
       "      <th>name</th>\n",
       "      <th>spd</th>\n",
       "      <th>reason</th>\n",
       "      <th>market</th>\n",
       "      <th>qty</th>\n",
       "      <th>target</th>\n",
       "      <th>current</th>\n",
       "      <th>change</th>\n",
       "      <th>%change</th>\n",
       "      <th>active</th>\n",
       "      <th>xdate</th>\n",
       "      <th>amount</th>\n",
       "    </tr>\n",
       "  </thead>\n",
       "  <tbody>\n",
       "  </tbody>\n",
       "</table>\n",
       "</div>"
      ],
      "text/plain": [
       "Empty DataFrame\n",
       "Columns: [trade, name, spd, reason, market, qty, target, current, change, %change, active, xdate, amount]\n",
       "Index: []"
      ]
     },
     "execution_count": 31,
     "metadata": {},
     "output_type": "execute_result"
    }
   ],
   "source": [
    "df.query('trade == \"S\" & spd < 0')"
   ]
  },
  {
   "cell_type": "code",
   "execution_count": 32,
   "id": "83a6c159-4140-43a4-877e-2088dffc690c",
   "metadata": {},
   "outputs": [],
   "source": [
    "colx = ['trade', 'name', 'spd', 'reason', 'market', 'qty', 'target', 'current', 'change', '%change',\n",
    "        'active', 'xdate']"
   ]
  },
  {
   "cell_type": "code",
   "execution_count": 33,
   "id": "5dbc762a-b148-4e90-8e6f-72aa07f70a37",
   "metadata": {},
   "outputs": [],
   "source": [
    "file_name = \"orders-log.csv\"\n",
    "output_file = os.path.join(dat_path, file_name)\n",
    "god_file = os.path.join(god_path, file_name)\n",
    "icd_file = os.path.join(icd_path, file_name)\n",
    "osd_file = os.path.join(osd_path, file_name)"
   ]
  },
  {
   "cell_type": "code",
   "execution_count": 34,
   "id": "77e25af6-7faa-4b74-9b07-af9978b7dbfd",
   "metadata": {},
   "outputs": [
    {
     "name": "stdout",
     "output_type": "stream",
     "text": [
      "output_file : C:\\Users\\PC1\\OneDrive\\A5\\Data\\orders-log.csv\n",
      "icd_file : C:\\Users\\PC1\\iCloudDrive\\Data\\orders-log.csv\n",
      "god_file : C:\\Users\\PC1\\OneDrive\\Imports\\santisoontarinka@gmail.com - Google Drive\\Data\\orders-log.csv\n",
      "osd_file : C:\\Users\\PC1\\OneDrive\\Documents\\obsidian-git-sync\\Data\\orders-log.csv\n"
     ]
    }
   ],
   "source": [
    "print(f\"output_file : {output_file}\") \n",
    "print(f\"icd_file : {icd_file}\") \n",
    "print(f\"god_file : {god_file}\") \n",
    "print(f\"osd_file : {osd_file}\") "
   ]
  },
  {
   "cell_type": "code",
   "execution_count": 35,
   "id": "53ad05c9-1827-43f0-9753-eb28b219ffd5",
   "metadata": {},
   "outputs": [],
   "source": [
    "df[colx].to_csv(output_file, header=True, index=False)\n",
    "df[colx].to_csv(god_file, header=True, index=False)\n",
    "df[colx].to_csv(icd_file, header=True, index=False)\n",
    "df[colx].to_csv(osd_file, header=True, index=False)"
   ]
  },
  {
   "cell_type": "markdown",
   "id": "dca31fd8",
   "metadata": {},
   "source": [
    "### Convert column name to make it valid for df.query"
   ]
  },
  {
   "cell_type": "code",
   "execution_count": 37,
   "id": "ca97c7d7",
   "metadata": {},
   "outputs": [],
   "source": [
    "df['percent'] = df['%change']"
   ]
  },
  {
   "cell_type": "code",
   "execution_count": 38,
   "id": "95fb8b5e",
   "metadata": {},
   "outputs": [
    {
     "data": {
      "text/html": [
       "<div>\n",
       "<style scoped>\n",
       "    .dataframe tbody tr th:only-of-type {\n",
       "        vertical-align: middle;\n",
       "    }\n",
       "\n",
       "    .dataframe tbody tr th {\n",
       "        vertical-align: top;\n",
       "    }\n",
       "\n",
       "    .dataframe thead th {\n",
       "        text-align: right;\n",
       "    }\n",
       "</style>\n",
       "<table border=\"1\" class=\"dataframe\">\n",
       "  <thead>\n",
       "    <tr style=\"text-align: right;\">\n",
       "      <th></th>\n",
       "      <th>trade</th>\n",
       "      <th>name</th>\n",
       "      <th>spd</th>\n",
       "      <th>reason</th>\n",
       "      <th>market</th>\n",
       "      <th>qty</th>\n",
       "      <th>target</th>\n",
       "      <th>current</th>\n",
       "      <th>change</th>\n",
       "      <th>%change</th>\n",
       "      <th>active</th>\n",
       "      <th>xdate</th>\n",
       "      <th>amount</th>\n",
       "      <th>percent</th>\n",
       "    </tr>\n",
       "  </thead>\n",
       "  <tbody>\n",
       "  </tbody>\n",
       "</table>\n",
       "</div>"
      ],
      "text/plain": [
       "Empty DataFrame\n",
       "Columns: [trade, name, spd, reason, market, qty, target, current, change, %change, active, xdate, amount, percent]\n",
       "Index: []"
      ]
     },
     "execution_count": 38,
     "metadata": {},
     "output_type": "execute_result"
    }
   ],
   "source": [
    "df.query('percent < -2')"
   ]
  },
  {
   "cell_type": "code",
   "execution_count": 39,
   "id": "d964ad8e",
   "metadata": {},
   "outputs": [
    {
     "data": {
      "text/html": [
       "<div>\n",
       "<style scoped>\n",
       "    .dataframe tbody tr th:only-of-type {\n",
       "        vertical-align: middle;\n",
       "    }\n",
       "\n",
       "    .dataframe tbody tr th {\n",
       "        vertical-align: top;\n",
       "    }\n",
       "\n",
       "    .dataframe thead th {\n",
       "        text-align: right;\n",
       "    }\n",
       "</style>\n",
       "<table border=\"1\" class=\"dataframe\">\n",
       "  <thead>\n",
       "    <tr style=\"text-align: right;\">\n",
       "      <th></th>\n",
       "      <th>trade</th>\n",
       "      <th>name</th>\n",
       "      <th>spd</th>\n",
       "      <th>reason</th>\n",
       "      <th>market</th>\n",
       "      <th>qty</th>\n",
       "      <th>target</th>\n",
       "      <th>current</th>\n",
       "      <th>change</th>\n",
       "      <th>%change</th>\n",
       "      <th>active</th>\n",
       "      <th>xdate</th>\n",
       "      <th>amount</th>\n",
       "      <th>percent</th>\n",
       "    </tr>\n",
       "  </thead>\n",
       "  <tbody>\n",
       "  </tbody>\n",
       "</table>\n",
       "</div>"
      ],
      "text/plain": [
       "Empty DataFrame\n",
       "Columns: [trade, name, spd, reason, market, qty, target, current, change, %change, active, xdate, amount, percent]\n",
       "Index: []"
      ]
     },
     "execution_count": 39,
     "metadata": {},
     "output_type": "execute_result"
    }
   ],
   "source": [
    "df.query('percent >= 2.00')"
   ]
  },
  {
   "cell_type": "code",
   "execution_count": 40,
   "id": "21b45ef0",
   "metadata": {
    "scrolled": true
   },
   "outputs": [
    {
     "data": {
      "text/html": [
       "<div>\n",
       "<style scoped>\n",
       "    .dataframe tbody tr th:only-of-type {\n",
       "        vertical-align: middle;\n",
       "    }\n",
       "\n",
       "    .dataframe tbody tr th {\n",
       "        vertical-align: top;\n",
       "    }\n",
       "\n",
       "    .dataframe thead th {\n",
       "        text-align: right;\n",
       "    }\n",
       "</style>\n",
       "<table border=\"1\" class=\"dataframe\">\n",
       "  <thead>\n",
       "    <tr style=\"text-align: right;\">\n",
       "      <th></th>\n",
       "      <th>trade</th>\n",
       "      <th>name</th>\n",
       "      <th>spd</th>\n",
       "      <th>reason</th>\n",
       "      <th>market</th>\n",
       "      <th>qty</th>\n",
       "      <th>target</th>\n",
       "      <th>current</th>\n",
       "      <th>change</th>\n",
       "      <th>%change</th>\n",
       "      <th>active</th>\n",
       "      <th>xdate</th>\n",
       "      <th>amount</th>\n",
       "      <th>percent</th>\n",
       "    </tr>\n",
       "  </thead>\n",
       "  <tbody>\n",
       "    <tr>\n",
       "      <th>1</th>\n",
       "      <td>B</td>\n",
       "      <td>GVREIT</td>\n",
       "      <td>-7</td>\n",
       "      <td>RND20Pct</td>\n",
       "      <td>SET</td>\n",
       "      <td>5000</td>\n",
       "      <td>6.20</td>\n",
       "      <td>6.55</td>\n",
       "      <td>0.00</td>\n",
       "      <td>0.00</td>\n",
       "      <td>1</td>\n",
       "      <td>2025-05-28</td>\n",
       "      <td>31000.00</td>\n",
       "      <td>0.00</td>\n",
       "    </tr>\n",
       "    <tr>\n",
       "      <th>0</th>\n",
       "      <td>B</td>\n",
       "      <td>DIF</td>\n",
       "      <td>-10</td>\n",
       "      <td>RD40Pct</td>\n",
       "      <td>SET</td>\n",
       "      <td>5000</td>\n",
       "      <td>7.70</td>\n",
       "      <td>8.20</td>\n",
       "      <td>0.05</td>\n",
       "      <td>0.61</td>\n",
       "      <td>1</td>\n",
       "      <td>2025-05-14</td>\n",
       "      <td>38500.00</td>\n",
       "      <td>0.61</td>\n",
       "    </tr>\n",
       "    <tr>\n",
       "      <th>5</th>\n",
       "      <td>B</td>\n",
       "      <td>WHART</td>\n",
       "      <td>-24</td>\n",
       "      <td>RD30Pct</td>\n",
       "      <td>SET</td>\n",
       "      <td>5000</td>\n",
       "      <td>8.00</td>\n",
       "      <td>9.20</td>\n",
       "      <td>-0.10</td>\n",
       "      <td>-1.08</td>\n",
       "      <td>0</td>\n",
       "      <td>2025-05-19</td>\n",
       "      <td>40000.00</td>\n",
       "      <td>-1.08</td>\n",
       "    </tr>\n",
       "    <tr>\n",
       "      <th>2</th>\n",
       "      <td>B</td>\n",
       "      <td>JMT</td>\n",
       "      <td>-25</td>\n",
       "      <td>RD75pct</td>\n",
       "      <td>SET50</td>\n",
       "      <td>2500</td>\n",
       "      <td>9.00</td>\n",
       "      <td>10.50</td>\n",
       "      <td>-0.10</td>\n",
       "      <td>-0.94</td>\n",
       "      <td>0</td>\n",
       "      <td>2025-02-25</td>\n",
       "      <td>22500.00</td>\n",
       "      <td>-0.94</td>\n",
       "    </tr>\n",
       "    <tr>\n",
       "      <th>3</th>\n",
       "      <td>B</td>\n",
       "      <td>SENA</td>\n",
       "      <td>-30</td>\n",
       "      <td>RD70pct</td>\n",
       "      <td>SET</td>\n",
       "      <td>15000</td>\n",
       "      <td>1.44</td>\n",
       "      <td>1.74</td>\n",
       "      <td>-0.03</td>\n",
       "      <td>-1.69</td>\n",
       "      <td>0</td>\n",
       "      <td>2025-05-09</td>\n",
       "      <td>21600.00</td>\n",
       "      <td>-1.69</td>\n",
       "    </tr>\n",
       "    <tr>\n",
       "      <th>4</th>\n",
       "      <td>B</td>\n",
       "      <td>WHAIR</td>\n",
       "      <td>-44</td>\n",
       "      <td>RD50pct</td>\n",
       "      <td>SET</td>\n",
       "      <td>10000</td>\n",
       "      <td>4.30</td>\n",
       "      <td>5.45</td>\n",
       "      <td>-0.05</td>\n",
       "      <td>-0.91</td>\n",
       "      <td>0</td>\n",
       "      <td>2025-05-26</td>\n",
       "      <td>43000.00</td>\n",
       "      <td>-0.91</td>\n",
       "    </tr>\n",
       "  </tbody>\n",
       "</table>\n",
       "</div>"
      ],
      "text/plain": [
       "  trade    name  spd    reason market    qty  target  current  change  \\\n",
       "1     B  GVREIT   -7  RND20Pct    SET   5000    6.20     6.55    0.00   \n",
       "0     B     DIF  -10   RD40Pct    SET   5000    7.70     8.20    0.05   \n",
       "5     B   WHART  -24   RD30Pct    SET   5000    8.00     9.20   -0.10   \n",
       "2     B     JMT  -25   RD75pct  SET50   2500    9.00    10.50   -0.10   \n",
       "3     B    SENA  -30   RD70pct    SET  15000    1.44     1.74   -0.03   \n",
       "4     B   WHAIR  -44   RD50pct    SET  10000    4.30     5.45   -0.05   \n",
       "\n",
       "   %change  active       xdate   amount  percent  \n",
       "1     0.00       1  2025-05-28 31000.00     0.00  \n",
       "0     0.61       1  2025-05-14 38500.00     0.61  \n",
       "5    -1.08       0  2025-05-19 40000.00    -1.08  \n",
       "2    -0.94       0  2025-02-25 22500.00    -0.94  \n",
       "3    -1.69       0  2025-05-09 21600.00    -1.69  \n",
       "4    -0.91       0  2025-05-26 43000.00    -0.91  "
      ]
     },
     "execution_count": 40,
     "metadata": {},
     "output_type": "execute_result"
    }
   ],
   "source": [
    "df.loc[df.trade == 'B'].sort_values('spd',ascending=False)"
   ]
  },
  {
   "cell_type": "markdown",
   "id": "0b6a9434",
   "metadata": {},
   "source": [
    "### Sell recently purchased stocks if profitable"
   ]
  },
  {
   "cell_type": "code",
   "execution_count": 42,
   "id": "3e6546c3",
   "metadata": {},
   "outputs": [
    {
     "data": {
      "text/plain": [
       "(111, 4)"
      ]
     },
     "execution_count": 42,
     "metadata": {},
     "output_type": "execute_result"
    }
   ],
   "source": [
    "#pd.set_option('display.max_rows', 40)\n",
    "sql = \"\"\"SELECT name, qty, price AS cost, date \n",
    "FROM buys B \n",
    "JOIN stocks S \n",
    "ON stock_id = S.id \n",
    "WHERE status = 'Active'\n",
    "ORDER BY name, date\"\"\"\n",
    "buys = pd.read_sql(sql, conpf)\n",
    "buys.shape"
   ]
  },
  {
   "cell_type": "code",
   "execution_count": 43,
   "id": "cfc17b1f",
   "metadata": {},
   "outputs": [],
   "source": [
    "colu = 'name date_x qty cost price difa %change %profit cst_amt mkt_amt'.split()\n",
    "buys_price = pd.merge(buys, prices, on='name', how='inner')\n",
    "buys_price['diff'] = buys_price['price'] - buys_price['cost']\n",
    "buys_price['difa'] = buys_price['diff'] * buys_price['qty']\n",
    "buys_price['%profit'] = round(buys_price['difa'] / (buys_price['qty'] * buys_price['cost']) * 100,2)"
   ]
  },
  {
   "cell_type": "code",
   "execution_count": 44,
   "id": "83c5b232-04b9-4141-8054-56e46b741397",
   "metadata": {},
   "outputs": [],
   "source": [
    "buys_price['cst_amt'] = buys_price['qty'] * buys_price['cost']\n",
    "buys_price['mkt_amt'] = buys_price['qty'] * buys_price['price']"
   ]
  },
  {
   "cell_type": "code",
   "execution_count": 45,
   "id": "f4ac8868",
   "metadata": {},
   "outputs": [
    {
     "data": {
      "text/plain": [
       "(104, 10)"
      ]
     },
     "execution_count": 45,
     "metadata": {},
     "output_type": "execute_result"
    }
   ],
   "source": [
    "laggards = buys_price.loc[buys_price.cost > buys_price.price,colu]\n",
    "laggards.shape"
   ]
  },
  {
   "cell_type": "code",
   "execution_count": 46,
   "id": "0a9732c8",
   "metadata": {
    "scrolled": true
   },
   "outputs": [
    {
     "data": {
      "text/html": [
       "<style type=\"text/css\">\n",
       "</style>\n",
       "<table id=\"T_d6db9\">\n",
       "  <thead>\n",
       "    <tr>\n",
       "      <th class=\"blank level0\" >&nbsp;</th>\n",
       "      <th id=\"T_d6db9_level0_col0\" class=\"col_heading level0 col0\" >name</th>\n",
       "      <th id=\"T_d6db9_level0_col1\" class=\"col_heading level0 col1\" >date_x</th>\n",
       "      <th id=\"T_d6db9_level0_col2\" class=\"col_heading level0 col2\" >qty</th>\n",
       "      <th id=\"T_d6db9_level0_col3\" class=\"col_heading level0 col3\" >cost</th>\n",
       "      <th id=\"T_d6db9_level0_col4\" class=\"col_heading level0 col4\" >price</th>\n",
       "      <th id=\"T_d6db9_level0_col5\" class=\"col_heading level0 col5\" >difa</th>\n",
       "      <th id=\"T_d6db9_level0_col6\" class=\"col_heading level0 col6\" >%change</th>\n",
       "      <th id=\"T_d6db9_level0_col7\" class=\"col_heading level0 col7\" >%profit</th>\n",
       "      <th id=\"T_d6db9_level0_col8\" class=\"col_heading level0 col8\" >cst_amt</th>\n",
       "      <th id=\"T_d6db9_level0_col9\" class=\"col_heading level0 col9\" >mkt_amt</th>\n",
       "    </tr>\n",
       "  </thead>\n",
       "  <tbody>\n",
       "    <tr>\n",
       "      <th id=\"T_d6db9_level0_row0\" class=\"row_heading level0 row0\" >51</th>\n",
       "      <td id=\"T_d6db9_row0_col0\" class=\"data row0 col0\" >MCS</td>\n",
       "      <td id=\"T_d6db9_row0_col1\" class=\"data row0 col1\" >2025-02-21</td>\n",
       "      <td id=\"T_d6db9_row0_col2\" class=\"data row0 col2\" >6,000</td>\n",
       "      <td id=\"T_d6db9_row0_col3\" class=\"data row0 col3\" >7.30</td>\n",
       "      <td id=\"T_d6db9_row0_col4\" class=\"data row0 col4\" >8.35</td>\n",
       "      <td id=\"T_d6db9_row0_col5\" class=\"data row0 col5\" >6,300.00</td>\n",
       "      <td id=\"T_d6db9_row0_col6\" class=\"data row0 col6\" >0.60</td>\n",
       "      <td id=\"T_d6db9_row0_col7\" class=\"data row0 col7\" >14.38</td>\n",
       "      <td id=\"T_d6db9_row0_col8\" class=\"data row0 col8\" >43,800.00</td>\n",
       "      <td id=\"T_d6db9_row0_col9\" class=\"data row0 col9\" >50,100.00</td>\n",
       "    </tr>\n",
       "    <tr>\n",
       "      <th id=\"T_d6db9_level0_row1\" class=\"row_heading level0 row1\" >56</th>\n",
       "      <td id=\"T_d6db9_row1_col0\" class=\"data row1 col0\" >NER</td>\n",
       "      <td id=\"T_d6db9_row1_col1\" class=\"data row1 col1\" >2025-06-23</td>\n",
       "      <td id=\"T_d6db9_row1_col2\" class=\"data row1 col2\" >5,000</td>\n",
       "      <td id=\"T_d6db9_row1_col3\" class=\"data row1 col3\" >3.90</td>\n",
       "      <td id=\"T_d6db9_row1_col4\" class=\"data row1 col4\" >4.42</td>\n",
       "      <td id=\"T_d6db9_row1_col5\" class=\"data row1 col5\" >2,600.00</td>\n",
       "      <td id=\"T_d6db9_row1_col6\" class=\"data row1 col6\" >-0.90</td>\n",
       "      <td id=\"T_d6db9_row1_col7\" class=\"data row1 col7\" >13.33</td>\n",
       "      <td id=\"T_d6db9_row1_col8\" class=\"data row1 col8\" >19,500.00</td>\n",
       "      <td id=\"T_d6db9_row1_col9\" class=\"data row1 col9\" >22,100.00</td>\n",
       "    </tr>\n",
       "    <tr>\n",
       "      <th id=\"T_d6db9_level0_row2\" class=\"row_heading level0 row2\" >21</th>\n",
       "      <td id=\"T_d6db9_row2_col0\" class=\"data row2 col0\" >DIF</td>\n",
       "      <td id=\"T_d6db9_row2_col1\" class=\"data row2 col1\" >2025-04-09</td>\n",
       "      <td id=\"T_d6db9_row2_col2\" class=\"data row2 col2\" >5,000</td>\n",
       "      <td id=\"T_d6db9_row2_col3\" class=\"data row2 col3\" >7.50</td>\n",
       "      <td id=\"T_d6db9_row2_col4\" class=\"data row2 col4\" >8.20</td>\n",
       "      <td id=\"T_d6db9_row2_col5\" class=\"data row2 col5\" >3,500.00</td>\n",
       "      <td id=\"T_d6db9_row2_col6\" class=\"data row2 col6\" >0.61</td>\n",
       "      <td id=\"T_d6db9_row2_col7\" class=\"data row2 col7\" >9.33</td>\n",
       "      <td id=\"T_d6db9_row2_col8\" class=\"data row2 col8\" >37,500.00</td>\n",
       "      <td id=\"T_d6db9_row2_col9\" class=\"data row2 col9\" >41,000.00</td>\n",
       "    </tr>\n",
       "    <tr>\n",
       "      <th id=\"T_d6db9_level0_row3\" class=\"row_heading level0 row3\" >31</th>\n",
       "      <td id=\"T_d6db9_row3_col0\" class=\"data row3 col0\" >GVREIT</td>\n",
       "      <td id=\"T_d6db9_row3_col1\" class=\"data row3 col1\" >2023-09-22</td>\n",
       "      <td id=\"T_d6db9_row3_col2\" class=\"data row3 col2\" >6,000</td>\n",
       "      <td id=\"T_d6db9_row3_col3\" class=\"data row3 col3\" >6.10</td>\n",
       "      <td id=\"T_d6db9_row3_col4\" class=\"data row3 col4\" >6.55</td>\n",
       "      <td id=\"T_d6db9_row3_col5\" class=\"data row3 col5\" >2,700.00</td>\n",
       "      <td id=\"T_d6db9_row3_col6\" class=\"data row3 col6\" >0.00</td>\n",
       "      <td id=\"T_d6db9_row3_col7\" class=\"data row3 col7\" >7.38</td>\n",
       "      <td id=\"T_d6db9_row3_col8\" class=\"data row3 col8\" >36,600.00</td>\n",
       "      <td id=\"T_d6db9_row3_col9\" class=\"data row3 col9\" >39,300.00</td>\n",
       "    </tr>\n",
       "    <tr>\n",
       "      <th id=\"T_d6db9_level0_row4\" class=\"row_heading level0 row4\" >110</th>\n",
       "      <td id=\"T_d6db9_row4_col0\" class=\"data row4 col0\" >WHART</td>\n",
       "      <td id=\"T_d6db9_row4_col1\" class=\"data row4 col1\" >2025-07-08</td>\n",
       "      <td id=\"T_d6db9_row4_col2\" class=\"data row4 col2\" >5,000</td>\n",
       "      <td id=\"T_d6db9_row4_col3\" class=\"data row4 col3\" >8.80</td>\n",
       "      <td id=\"T_d6db9_row4_col4\" class=\"data row4 col4\" >9.20</td>\n",
       "      <td id=\"T_d6db9_row4_col5\" class=\"data row4 col5\" >2,000.00</td>\n",
       "      <td id=\"T_d6db9_row4_col6\" class=\"data row4 col6\" >-1.08</td>\n",
       "      <td id=\"T_d6db9_row4_col7\" class=\"data row4 col7\" >4.55</td>\n",
       "      <td id=\"T_d6db9_row4_col8\" class=\"data row4 col8\" >44,000.00</td>\n",
       "      <td id=\"T_d6db9_row4_col9\" class=\"data row4 col9\" >46,000.00</td>\n",
       "    </tr>\n",
       "    <tr>\n",
       "      <th id=\"T_d6db9_level0_row5\" class=\"row_heading level0 row5\" >74</th>\n",
       "      <td id=\"T_d6db9_row5_col0\" class=\"data row5 col0\" >RCL</td>\n",
       "      <td id=\"T_d6db9_row5_col1\" class=\"data row5 col1\" >2022-10-20</td>\n",
       "      <td id=\"T_d6db9_row5_col2\" class=\"data row5 col2\" >3,000</td>\n",
       "      <td id=\"T_d6db9_row5_col3\" class=\"data row5 col3\" >27.75</td>\n",
       "      <td id=\"T_d6db9_row5_col4\" class=\"data row5 col4\" >28.50</td>\n",
       "      <td id=\"T_d6db9_row5_col5\" class=\"data row5 col5\" >2,250.00</td>\n",
       "      <td id=\"T_d6db9_row5_col6\" class=\"data row5 col6\" >-2.56</td>\n",
       "      <td id=\"T_d6db9_row5_col7\" class=\"data row5 col7\" >2.70</td>\n",
       "      <td id=\"T_d6db9_row5_col8\" class=\"data row5 col8\" >83,250.00</td>\n",
       "      <td id=\"T_d6db9_row5_col9\" class=\"data row5 col9\" >85,500.00</td>\n",
       "    </tr>\n",
       "    <tr>\n",
       "      <th id=\"T_d6db9_level0_row6\" class=\"row_heading level0 row6\" >42</th>\n",
       "      <td id=\"T_d6db9_row6_col0\" class=\"data row6 col0\" >JMT</td>\n",
       "      <td id=\"T_d6db9_row6_col1\" class=\"data row6 col1\" >2025-05-19</td>\n",
       "      <td id=\"T_d6db9_row6_col2\" class=\"data row6 col2\" >2,800</td>\n",
       "      <td id=\"T_d6db9_row6_col3\" class=\"data row6 col3\" >10.50</td>\n",
       "      <td id=\"T_d6db9_row6_col4\" class=\"data row6 col4\" >10.50</td>\n",
       "      <td id=\"T_d6db9_row6_col5\" class=\"data row6 col5\" >0.00</td>\n",
       "      <td id=\"T_d6db9_row6_col6\" class=\"data row6 col6\" >-0.94</td>\n",
       "      <td id=\"T_d6db9_row6_col7\" class=\"data row6 col7\" >0.00</td>\n",
       "      <td id=\"T_d6db9_row6_col8\" class=\"data row6 col8\" >29,400.00</td>\n",
       "      <td id=\"T_d6db9_row6_col9\" class=\"data row6 col9\" >29,400.00</td>\n",
       "    </tr>\n",
       "  </tbody>\n",
       "</table>\n"
      ],
      "text/plain": [
       "<pandas.io.formats.style.Styler at 0x1a269bbd640>"
      ]
     },
     "execution_count": 46,
     "metadata": {},
     "output_type": "execute_result"
    }
   ],
   "source": [
    "watch_list = buys_price.loc[buys_price.cost <= buys_price.price,colu]\n",
    "watch_list.sort_values('%profit',ascending=False).style.format(format_dict)"
   ]
  },
  {
   "cell_type": "code",
   "execution_count": 47,
   "id": "62b87bc1-3685-4586-b4f1-cce41318e265",
   "metadata": {},
   "outputs": [
    {
     "data": {
      "text/plain": [
       "'฿19,350.00'"
      ]
     },
     "execution_count": 47,
     "metadata": {},
     "output_type": "execute_result"
    }
   ],
   "source": [
    "float_formatter = \"฿{:,.2f}\"\n",
    "float_formatter.format(watch_list.difa.sum())"
   ]
  },
  {
   "cell_type": "code",
   "execution_count": 48,
   "id": "1e32383e-066d-4988-a233-ac3a0d453773",
   "metadata": {},
   "outputs": [
    {
     "data": {
      "text/html": [
       "<style type=\"text/css\">\n",
       "</style>\n",
       "<table id=\"T_9dc50\">\n",
       "  <thead>\n",
       "    <tr>\n",
       "      <th class=\"blank level0\" >&nbsp;</th>\n",
       "      <th id=\"T_9dc50_level0_col0\" class=\"col_heading level0 col0\" >name</th>\n",
       "      <th id=\"T_9dc50_level0_col1\" class=\"col_heading level0 col1\" >date_x</th>\n",
       "      <th id=\"T_9dc50_level0_col2\" class=\"col_heading level0 col2\" >qty</th>\n",
       "      <th id=\"T_9dc50_level0_col3\" class=\"col_heading level0 col3\" >cost</th>\n",
       "      <th id=\"T_9dc50_level0_col4\" class=\"col_heading level0 col4\" >price</th>\n",
       "      <th id=\"T_9dc50_level0_col5\" class=\"col_heading level0 col5\" >difa</th>\n",
       "      <th id=\"T_9dc50_level0_col6\" class=\"col_heading level0 col6\" >%change</th>\n",
       "      <th id=\"T_9dc50_level0_col7\" class=\"col_heading level0 col7\" >%profit</th>\n",
       "      <th id=\"T_9dc50_level0_col8\" class=\"col_heading level0 col8\" >cst_amt</th>\n",
       "      <th id=\"T_9dc50_level0_col9\" class=\"col_heading level0 col9\" >mkt_amt</th>\n",
       "    </tr>\n",
       "  </thead>\n",
       "  <tbody>\n",
       "    <tr>\n",
       "      <th id=\"T_9dc50_level0_row0\" class=\"row_heading level0 row0\" >51</th>\n",
       "      <td id=\"T_9dc50_row0_col0\" class=\"data row0 col0\" >MCS</td>\n",
       "      <td id=\"T_9dc50_row0_col1\" class=\"data row0 col1\" >2025-02-21</td>\n",
       "      <td id=\"T_9dc50_row0_col2\" class=\"data row0 col2\" >6,000</td>\n",
       "      <td id=\"T_9dc50_row0_col3\" class=\"data row0 col3\" >7.30</td>\n",
       "      <td id=\"T_9dc50_row0_col4\" class=\"data row0 col4\" >8.35</td>\n",
       "      <td id=\"T_9dc50_row0_col5\" class=\"data row0 col5\" >6,300.00</td>\n",
       "      <td id=\"T_9dc50_row0_col6\" class=\"data row0 col6\" >0.60</td>\n",
       "      <td id=\"T_9dc50_row0_col7\" class=\"data row0 col7\" >14.38</td>\n",
       "      <td id=\"T_9dc50_row0_col8\" class=\"data row0 col8\" >43,800.00</td>\n",
       "      <td id=\"T_9dc50_row0_col9\" class=\"data row0 col9\" >50,100.00</td>\n",
       "    </tr>\n",
       "    <tr>\n",
       "      <th id=\"T_9dc50_level0_row1\" class=\"row_heading level0 row1\" >56</th>\n",
       "      <td id=\"T_9dc50_row1_col0\" class=\"data row1 col0\" >NER</td>\n",
       "      <td id=\"T_9dc50_row1_col1\" class=\"data row1 col1\" >2025-06-23</td>\n",
       "      <td id=\"T_9dc50_row1_col2\" class=\"data row1 col2\" >5,000</td>\n",
       "      <td id=\"T_9dc50_row1_col3\" class=\"data row1 col3\" >3.90</td>\n",
       "      <td id=\"T_9dc50_row1_col4\" class=\"data row1 col4\" >4.42</td>\n",
       "      <td id=\"T_9dc50_row1_col5\" class=\"data row1 col5\" >2,600.00</td>\n",
       "      <td id=\"T_9dc50_row1_col6\" class=\"data row1 col6\" >-0.90</td>\n",
       "      <td id=\"T_9dc50_row1_col7\" class=\"data row1 col7\" >13.33</td>\n",
       "      <td id=\"T_9dc50_row1_col8\" class=\"data row1 col8\" >19,500.00</td>\n",
       "      <td id=\"T_9dc50_row1_col9\" class=\"data row1 col9\" >22,100.00</td>\n",
       "    </tr>\n",
       "  </tbody>\n",
       "</table>\n"
      ],
      "text/plain": [
       "<pandas.io.formats.style.Styler at 0x1a26aa434d0>"
      ]
     },
     "execution_count": 48,
     "metadata": {},
     "output_type": "execute_result"
    }
   ],
   "source": [
    "sell_list = buys_price.loc[buys_price['%profit'] >= 10.00,colu]\n",
    "sell_list.sort_values('%profit',ascending=False).style.format(format_dict)"
   ]
  },
  {
   "cell_type": "code",
   "execution_count": 49,
   "id": "339fe0fa-3220-4351-b2a3-1f153c9a8653",
   "metadata": {},
   "outputs": [
    {
     "data": {
      "text/plain": [
       "'฿63,300.00'"
      ]
     },
     "execution_count": 49,
     "metadata": {},
     "output_type": "execute_result"
    }
   ],
   "source": [
    "float_formatter = \"฿{:,.2f}\"\n",
    "float_formatter.format(sell_list.cst_amt.sum())"
   ]
  },
  {
   "cell_type": "code",
   "execution_count": 50,
   "id": "ca90efd3-2caf-4b78-9039-b5fee8d10b73",
   "metadata": {},
   "outputs": [
    {
     "data": {
      "text/plain": [
       "'฿72,200.00'"
      ]
     },
     "execution_count": 50,
     "metadata": {},
     "output_type": "execute_result"
    }
   ],
   "source": [
    "float_formatter = \"฿{:,.2f}\"\n",
    "float_formatter.format(sell_list.mkt_amt.sum())"
   ]
  },
  {
   "cell_type": "code",
   "execution_count": 51,
   "id": "4f5f1482-0f3c-402a-b475-b0dca9efacdd",
   "metadata": {},
   "outputs": [
    {
     "data": {
      "text/plain": [
       "'฿8,900.00'"
      ]
     },
     "execution_count": 51,
     "metadata": {},
     "output_type": "execute_result"
    }
   ],
   "source": [
    "float_formatter = \"฿{:,.2f}\"\n",
    "float_formatter.format(sell_list.difa.sum())"
   ]
  },
  {
   "cell_type": "markdown",
   "id": "4cde016b",
   "metadata": {},
   "source": [
    "### Profit per Month"
   ]
  },
  {
   "cell_type": "code",
   "execution_count": 53,
   "id": "0873917b",
   "metadata": {},
   "outputs": [
    {
     "name": "stdout",
     "output_type": "stream",
     "text": [
      "\n",
      "SELECT name, YEAR(sells.date) AS sell_year, MONTH(sells.date) AS sell_month, \n",
      "       sells.price AS sell_price, buys.price AS buy_price, (sells.price - buys.price) AS diff, \n",
      "       qty, (sells.price * qty) AS sell_amt, (buys.price * qty) AS buy_amt, \n",
      "       (sells.price - buys.price) * qty AS gross, \n",
      "       ROUND((sells.price - buys.price)/buys.price*100,2) AS pct, days\n",
      "FROM sells JOIN buys ON sells.buy_id = buys.id\n",
      "JOIN stocks ON buys.stock_id = stocks.id\n",
      "WHERE YEAR(sells.date) = 2025 AND MONTH(sells.date) = 8\n",
      "ORDER BY sells.date DESC, name\n"
     ]
    }
   ],
   "source": [
    "year = 2025\n",
    "month = 8\n",
    "sql = '''\n",
    "SELECT name, YEAR(sells.date) AS sell_year, MONTH(sells.date) AS sell_month, \n",
    "       sells.price AS sell_price, buys.price AS buy_price, (sells.price - buys.price) AS diff, \n",
    "       qty, (sells.price * qty) AS sell_amt, (buys.price * qty) AS buy_amt, \n",
    "       (sells.price - buys.price) * qty AS gross, \n",
    "       ROUND((sells.price - buys.price)/buys.price*100,2) AS pct, days\n",
    "FROM sells JOIN buys ON sells.buy_id = buys.id\n",
    "JOIN stocks ON buys.stock_id = stocks.id\n",
    "WHERE YEAR(sells.date) = %s AND MONTH(sells.date) = %s\n",
    "ORDER BY sells.date DESC, name'''\n",
    "sql = sql % (year, month)\n",
    "sells_df = pd.read_sql(sql, conpf)\n",
    "print(sql)"
   ]
  },
  {
   "cell_type": "code",
   "execution_count": 54,
   "id": "dbe9d338",
   "metadata": {},
   "outputs": [
    {
     "data": {
      "text/html": [
       "<div>\n",
       "<style scoped>\n",
       "    .dataframe tbody tr th:only-of-type {\n",
       "        vertical-align: middle;\n",
       "    }\n",
       "\n",
       "    .dataframe tbody tr th {\n",
       "        vertical-align: top;\n",
       "    }\n",
       "\n",
       "    .dataframe thead th {\n",
       "        text-align: right;\n",
       "    }\n",
       "</style>\n",
       "<table border=\"1\" class=\"dataframe\">\n",
       "  <thead>\n",
       "    <tr style=\"text-align: right;\">\n",
       "      <th></th>\n",
       "      <th>name</th>\n",
       "      <th>sell_year</th>\n",
       "      <th>sell_month</th>\n",
       "      <th>sell_price</th>\n",
       "      <th>buy_price</th>\n",
       "      <th>diff</th>\n",
       "      <th>qty</th>\n",
       "      <th>sell_amt</th>\n",
       "      <th>buy_amt</th>\n",
       "      <th>gross</th>\n",
       "      <th>pct</th>\n",
       "      <th>days</th>\n",
       "    </tr>\n",
       "  </thead>\n",
       "  <tbody>\n",
       "  </tbody>\n",
       "</table>\n",
       "</div>"
      ],
      "text/plain": [
       "Empty DataFrame\n",
       "Columns: [name, sell_year, sell_month, sell_price, buy_price, diff, qty, sell_amt, buy_amt, gross, pct, days]\n",
       "Index: []"
      ]
     },
     "execution_count": 54,
     "metadata": {},
     "output_type": "execute_result"
    }
   ],
   "source": [
    "sells_df"
   ]
  },
  {
   "cell_type": "code",
   "execution_count": 55,
   "id": "15d59f94",
   "metadata": {},
   "outputs": [
    {
     "name": "stdout",
     "output_type": "stream",
     "text": [
      "Monthly Profit Amount: 0.00\n"
     ]
    }
   ],
   "source": [
    "print(f\"Monthly Profit Amount: {sells_df.gross.sum():,.2f}\")"
   ]
  },
  {
   "cell_type": "code",
   "execution_count": 56,
   "id": "141ad35d-fbdc-489e-a0dd-2df6497e8ca1",
   "metadata": {},
   "outputs": [],
   "source": [
    "file_name = \"monthly-sales.csv\"\n",
    "output_file = os.path.join(dat_path, file_name)\n",
    "god_file = os.path.join(god_path, file_name)\n",
    "icd_file = os.path.join(icd_path, file_name)\n",
    "osd_file = os.path.join(osd_path, file_name)"
   ]
  },
  {
   "cell_type": "code",
   "execution_count": 57,
   "id": "13b9620f-4783-4971-b535-475118237eab",
   "metadata": {},
   "outputs": [
    {
     "name": "stdout",
     "output_type": "stream",
     "text": [
      "output_file : C:\\Users\\PC1\\OneDrive\\A5\\Data\\monthly-sales.csv\n",
      "icd_file : C:\\Users\\PC1\\iCloudDrive\\Data\\monthly-sales.csv\n",
      "god_file : C:\\Users\\PC1\\OneDrive\\Imports\\santisoontarinka@gmail.com - Google Drive\\Data\\monthly-sales.csv\n",
      "osd_file : C:\\Users\\PC1\\OneDrive\\Documents\\obsidian-git-sync\\Data\\monthly-sales.csv\n"
     ]
    }
   ],
   "source": [
    "print(f\"output_file : {output_file}\") \n",
    "print(f\"icd_file : {icd_file}\") \n",
    "print(f\"god_file : {god_file}\") \n",
    "print(f\"osd_file : {osd_file}\") "
   ]
  },
  {
   "cell_type": "code",
   "execution_count": 58,
   "id": "55163491-8a2b-4436-a977-be87096934dc",
   "metadata": {},
   "outputs": [],
   "source": [
    "sells_df.to_csv(output_file, header=True, index=False)\n",
    "sells_df.to_csv(god_file, header=True, index=False)\n",
    "sells_df.to_csv(icd_file, header=True, index=False)\n",
    "sells_df.to_csv(osd_file, header=True, index=False)"
   ]
  },
  {
   "cell_type": "code",
   "execution_count": 59,
   "id": "2bd22547",
   "metadata": {},
   "outputs": [
    {
     "data": {
      "text/html": [
       "<style type=\"text/css\">\n",
       "</style>\n",
       "<table id=\"T_6ac57\">\n",
       "  <thead>\n",
       "    <tr>\n",
       "      <th class=\"blank level0\" >&nbsp;</th>\n",
       "      <th id=\"T_6ac57_level0_col0\" class=\"col_heading level0 col0\" >name</th>\n",
       "      <th id=\"T_6ac57_level0_col1\" class=\"col_heading level0 col1\" >sell_year</th>\n",
       "      <th id=\"T_6ac57_level0_col2\" class=\"col_heading level0 col2\" >sell_month</th>\n",
       "      <th id=\"T_6ac57_level0_col3\" class=\"col_heading level0 col3\" >sell_price</th>\n",
       "      <th id=\"T_6ac57_level0_col4\" class=\"col_heading level0 col4\" >buy_price</th>\n",
       "      <th id=\"T_6ac57_level0_col5\" class=\"col_heading level0 col5\" >diff</th>\n",
       "      <th id=\"T_6ac57_level0_col6\" class=\"col_heading level0 col6\" >qty</th>\n",
       "      <th id=\"T_6ac57_level0_col7\" class=\"col_heading level0 col7\" >sell_amt</th>\n",
       "      <th id=\"T_6ac57_level0_col8\" class=\"col_heading level0 col8\" >buy_amt</th>\n",
       "      <th id=\"T_6ac57_level0_col9\" class=\"col_heading level0 col9\" >gross</th>\n",
       "      <th id=\"T_6ac57_level0_col10\" class=\"col_heading level0 col10\" >pct</th>\n",
       "      <th id=\"T_6ac57_level0_col11\" class=\"col_heading level0 col11\" >days</th>\n",
       "      <th id=\"T_6ac57_level0_col12\" class=\"col_heading level0 col12\" >profit_per_day</th>\n",
       "    </tr>\n",
       "  </thead>\n",
       "  <tbody>\n",
       "  </tbody>\n",
       "</table>\n"
      ],
      "text/plain": [
       "<pandas.io.formats.style.Styler at 0x1a26a972d20>"
      ]
     },
     "execution_count": 59,
     "metadata": {},
     "output_type": "execute_result"
    }
   ],
   "source": [
    "sells_df['profit_per_day'] = (sells_df['gross'] / sells_df['buy_amt']) / sells_df['days'] * 100\n",
    "sells_df.style.format(format_dict)"
   ]
  },
  {
   "cell_type": "code",
   "execution_count": 60,
   "id": "72125ca7",
   "metadata": {},
   "outputs": [
    {
     "data": {
      "text/plain": [
       "'฿0.00'"
      ]
     },
     "execution_count": 60,
     "metadata": {},
     "output_type": "execute_result"
    }
   ],
   "source": [
    "float_formatter = \"฿{:,.2f}\"\n",
    "float_formatter.format(sells_df.gross.sum())"
   ]
  },
  {
   "cell_type": "code",
   "execution_count": 61,
   "id": "eb62bb1b",
   "metadata": {},
   "outputs": [
    {
     "name": "stdout",
     "output_type": "stream",
     "text": [
      "Average Profit Percent: nan%\n"
     ]
    }
   ],
   "source": [
    "average_profit_percent = sells_df['profit_per_day'].mean()\n",
    "print(f\"Average Profit Percent: {average_profit_percent:.2f}%\")"
   ]
  },
  {
   "cell_type": "code",
   "execution_count": 62,
   "id": "9e7944db",
   "metadata": {},
   "outputs": [
    {
     "data": {
      "text/plain": [
       "'August 04, 2025'"
      ]
     },
     "execution_count": 62,
     "metadata": {},
     "output_type": "execute_result"
    }
   ],
   "source": [
    "#dt = date(2023, 11, 8)\n",
    "dt = today\n",
    "dt.strftime(\"%B %d, %Y\")"
   ]
  },
  {
   "cell_type": "code",
   "execution_count": 63,
   "id": "e1bafc00",
   "metadata": {},
   "outputs": [
    {
     "name": "stdout",
     "output_type": "stream",
     "text": [
      "Hello, Alice! Today is August 04, 2025.\n"
     ]
    }
   ],
   "source": [
    "print(\"Hello, {}! Today is {:%B %d, %Y}.\".format(\"Alice\", dt))"
   ]
  },
  {
   "cell_type": "code",
   "execution_count": 64,
   "id": "a77f991b-0572-48dc-9066-926df7a3e479",
   "metadata": {},
   "outputs": [],
   "source": [
    "conlite.commit()\n",
    "conlite.close()"
   ]
  },
  {
   "cell_type": "code",
   "execution_count": 65,
   "id": "ff23d38c",
   "metadata": {},
   "outputs": [
    {
     "name": "stdout",
     "output_type": "stream",
     "text": [
      "2025-08-04 20:21:30\n"
     ]
    }
   ],
   "source": [
    "# Get the current time\n",
    "current_time = datetime.now()\n",
    "# Format the time to remove millisAeconds\n",
    "formatted_time = current_time.strftime(\"%Y-%m-%d %H:%M:%S\")\n",
    "print(formatted_time)"
   ]
  },
  {
   "cell_type": "code",
   "execution_count": null,
   "id": "e2d7d5de-57b3-497c-a2bf-b0381bc37835",
   "metadata": {},
   "outputs": [],
   "source": []
  }
 ],
 "metadata": {
  "kernelspec": {
   "display_name": "Python 3 (ipykernel)",
   "language": "python",
   "name": "python3"
  },
  "language_info": {
   "codemirror_mode": {
    "name": "ipython",
    "version": 3
   },
   "file_extension": ".py",
   "mimetype": "text/x-python",
   "name": "python",
   "nbconvert_exporter": "python",
   "pygments_lexer": "ipython3",
   "version": "3.12.3"
  }
 },
 "nbformat": 4,
 "nbformat_minor": 5
}
