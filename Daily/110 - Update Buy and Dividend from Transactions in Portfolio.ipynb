{
 "cells": [
  {
   "cell_type": "code",
   "execution_count": 1,
   "metadata": {},
   "outputs": [
    {
     "data": {
      "text/plain": [
       "datetime.date(2025, 7, 30)"
      ]
     },
     "execution_count": 1,
     "metadata": {},
     "output_type": "execute_result"
    }
   ],
   "source": [
    "import os\n",
    "import pandas as pd\n",
    "from datetime import date, timedelta, datetime\n",
    "from sqlalchemy import create_engine, text\n",
    "from pandas.tseries.offsets import BDay\n",
    "\n",
    "engine = create_engine('mysql+pymysql://root:@localhost:3306/portfolio_development')\n",
    "conpf = engine.connect()\n",
    "engine = create_engine(\"mysql+pymysql://root:@localhost:3306/stock\")\n",
    "const = engine.connect()\n",
    "engine = create_engine(\"sqlite:///c:\\\\ruby\\\\port_lite\\\\db\\\\development.sqlite3\")\n",
    "conlite = engine.connect()\n",
    "\n",
    "today = date.today()\n",
    "today"
   ]
  },
  {
   "cell_type": "code",
   "execution_count": 5,
   "metadata": {},
   "outputs": [
    {
     "name": "stdout",
     "output_type": "stream",
     "text": [
      "today: 2025-07-30\n",
      "yesterday: 2025-07-29\n"
     ]
    }
   ],
   "source": [
    "# convert the timedelta object to a BusinessDay object\n",
    "num_business_days = BDay(1)\n",
    "yesterday = today - num_business_days\n",
    "yesterday = yesterday.date()\n",
    "print(f'today: {today}')\n",
    "print(f'yesterday: {yesterday}')"
   ]
  },
  {
   "cell_type": "code",
   "execution_count": 7,
   "metadata": {},
   "outputs": [],
   "source": [
    "# Get the user's home directory\n",
    "user_path = os.path.expanduser('~')\n",
    "# Get the current working directory\n",
    "current_path = os.getcwd()\n",
    "# Derive the base directory (base_dir) by removing the last folder ('Daily')\n",
    "base_path = os.path.dirname(current_path)\n",
    "#C:\\Users\\PC1\\OneDrive\\A5\\Data\n",
    "dat_path = os.path.join(base_path, \"Data\")\n",
    "#C:\\Users\\PC1\\Downloads\\Datasets\n",
    "dts_path = os.path.join(user_path, \"Downloads\", \"Datasets\")\n",
    "#C:\\Users\\PC1\\OneDrive\\Imports\\santisoontarinka@gmail.com - Google Drive\\Data>\n",
    "god_path = os.path.join(user_path, \"OneDrive\",\"Imports\",\"santisoontarinka@gmail.com - Google Drive\",\"Data\")\n",
    "#C:\\Users\\PC1\\iCloudDrive\\data\n",
    "icd_path = os.path.join(user_path, \"iCloudDrive\", \"Data\")\n",
    "#C:\\Users\\PC1\\OneDrive\\Documents\\obsidian-git-sync\\Data\n",
    "osd_path = os.path.join(user_path, \"OneDrive\",\"Documents\",\"obsidian-git-sync\",\"Data\")\n",
    "#C:\\Users\\PC1\\OneDrive\\A5\\Excel\n",
    "xsl_path = os.path.join(base_path, \"Excel\")"
   ]
  },
  {
   "cell_type": "code",
   "execution_count": 9,
   "metadata": {},
   "outputs": [
    {
     "name": "stdout",
     "output_type": "stream",
     "text": [
      "User path: C:\\Users\\PC1\n",
      "Current path: C:\\Users\\PC1\\OneDrive\\A5\\Daily\n",
      "Base path: C:\\Users\\PC1\\OneDrive\\A5\n",
      "Data path (dat_path): C:\\Users\\PC1\\OneDrive\\A5\\Data\n",
      "Excel path (xsl_path): C:\\Users\\PC1\\OneDrive\\A5\\Excel\n",
      "Google Drive path (god_path): C:\\Users\\PC1\\OneDrive\\Imports\\santisoontarinka@gmail.com - Google Drive\\Data\n",
      "iCloudDrive path (icd_path): C:\\Users\\PC1\\iCloudDrive\\Data\n",
      "Obsidian path (osd_path): C:\\Users\\PC1\\OneDrive\\Documents\\obsidian-git-sync\\Data\n"
     ]
    }
   ],
   "source": [
    "print(\"User path:\", user_path)\n",
    "print(f\"Current path: {current_path}\")\n",
    "print(f\"Base path: {base_path}\")\n",
    "print(f\"Data path (dat_path): {dat_path}\") \n",
    "print(f\"Excel path (xsl_path): {xsl_path}\") \n",
    "print(f\"Google Drive path (god_path): {god_path}\")\n",
    "print(f\"iCloudDrive path (icd_path): {icd_path}\") \n",
    "print(f\"Obsidian path (osd_path): {osd_path}\") "
   ]
  },
  {
   "cell_type": "markdown",
   "metadata": {},
   "source": [
    "### Tables in the process"
   ]
  },
  {
   "cell_type": "code",
   "execution_count": 12,
   "metadata": {},
   "outputs": [],
   "source": [
    "format_dict = {\n",
    "    'shares':'{:,}',    \n",
    "    'price':'{:.2f}',\n",
    "    'dividend':'{:.4f}', \n",
    "    'date':'{:%Y-%m-%d}', \n",
    "    \n",
    "    'qty':'{:,}','shares':'{:,}',\n",
    "    'price':'{:.2f}','buy_price':'{:.2f}',\n",
    "    'dividend':'{:.4f}',    \n",
    "    'fee':'{:,.2f}','vat':'{:,.2f}','net':'{:,.2f}',\n",
    "  \n",
    "    'days':'{:,}',\n",
    "    'price':'{:.2f}',\n",
    "    'fee':'{:,.2f}','vat':'{:,.2f}','net':'{:,.2f}','profit':'{:,.2f}',\n",
    "    'percent':'{:,.2f}%','yearly':'{:,.2f}%',   \n",
    "    \n",
    "    'shares':'{:,}',    \n",
    "    'q4':'{:.4f}','q3':'{:.4f}','q2':'{:.4f}','q1':'{:.4f}','dividend':'{:.4f}',\n",
    "    'xdate':'{:%Y-%m-%d}','paiddate':'{:%Y-%m-%d}',\n",
    "    \n",
    "    'qty':'{:,}','available_qty':'{:,}',\n",
    "    'cost':'{:.2f}','max_price':'{:.2f}','min_price':'{:.2f}','buy_target':'{:.2f}','sell_target':'{:.2f}',\n",
    "    'volume':'{:,.2f}','beta':'{:,.2f}',\n",
    "    \n",
    "    'qty':'{:,}','available_qty':'{:,}',\n",
    "    'cost':'{:.2f}','max_price':'{:.2f}','min_price':'{:.2f}','buy_target':'{:.2f}','sell_target':'{:.2f}',\n",
    "    'volume':'{:,.2f}','beta':'{:,.2f}',\n",
    "    }"
   ]
  },
  {
   "cell_type": "code",
   "execution_count": 69,
   "metadata": {},
   "outputs": [
    {
     "data": {
      "text/html": [
       "<style type=\"text/css\">\n",
       "</style>\n",
       "<table id=\"T_6da0c\">\n",
       "  <thead>\n",
       "    <tr>\n",
       "      <th class=\"blank level0\" >&nbsp;</th>\n",
       "      <th id=\"T_6da0c_level0_col0\" class=\"col_heading level0 col0\" >name</th>\n",
       "      <th id=\"T_6da0c_level0_col1\" class=\"col_heading level0 col1\" >stock_id</th>\n",
       "      <th id=\"T_6da0c_level0_col2\" class=\"col_heading level0 col2\" >buy_date</th>\n",
       "      <th id=\"T_6da0c_level0_col3\" class=\"col_heading level0 col3\" >qty</th>\n",
       "      <th id=\"T_6da0c_level0_col4\" class=\"col_heading level0 col4\" >buy_price</th>\n",
       "      <th id=\"T_6da0c_level0_col5\" class=\"col_heading level0 col5\" >id</th>\n",
       "      <th id=\"T_6da0c_level0_col6\" class=\"col_heading level0 col6\" >buy_id</th>\n",
       "      <th id=\"T_6da0c_level0_col7\" class=\"col_heading level0 col7\" >date</th>\n",
       "      <th id=\"T_6da0c_level0_col8\" class=\"col_heading level0 col8\" >price</th>\n",
       "      <th id=\"T_6da0c_level0_col9\" class=\"col_heading level0 col9\" >fee</th>\n",
       "      <th id=\"T_6da0c_level0_col10\" class=\"col_heading level0 col10\" >vat</th>\n",
       "      <th id=\"T_6da0c_level0_col11\" class=\"col_heading level0 col11\" >net</th>\n",
       "      <th id=\"T_6da0c_level0_col12\" class=\"col_heading level0 col12\" >days</th>\n",
       "      <th id=\"T_6da0c_level0_col13\" class=\"col_heading level0 col13\" >profit</th>\n",
       "      <th id=\"T_6da0c_level0_col14\" class=\"col_heading level0 col14\" >percent</th>\n",
       "      <th id=\"T_6da0c_level0_col15\" class=\"col_heading level0 col15\" >yearly</th>\n",
       "      <th id=\"T_6da0c_level0_col16\" class=\"col_heading level0 col16\" >sequence</th>\n",
       "      <th id=\"T_6da0c_level0_col17\" class=\"col_heading level0 col17\" >chart</th>\n",
       "      <th id=\"T_6da0c_level0_col18\" class=\"col_heading level0 col18\" >dividend_id</th>\n",
       "    </tr>\n",
       "  </thead>\n",
       "  <tbody>\n",
       "    <tr>\n",
       "      <th id=\"T_6da0c_level0_row0\" class=\"row_heading level0 row0\" >0</th>\n",
       "      <td id=\"T_6da0c_row0_col0\" class=\"data row0 col0\" >WHAIR</td>\n",
       "      <td id=\"T_6da0c_row0_col1\" class=\"data row0 col1\" >156</td>\n",
       "      <td id=\"T_6da0c_row0_col2\" class=\"data row0 col2\" >2025-05-16</td>\n",
       "      <td id=\"T_6da0c_row0_col3\" class=\"data row0 col3\" >10,000</td>\n",
       "      <td id=\"T_6da0c_row0_col4\" class=\"data row0 col4\" >4.70</td>\n",
       "      <td id=\"T_6da0c_row0_col5\" class=\"data row0 col5\" >1099</td>\n",
       "      <td id=\"T_6da0c_row0_col6\" class=\"data row0 col6\" >1320</td>\n",
       "      <td id=\"T_6da0c_row0_col7\" class=\"data row0 col7\" >2025-07-30</td>\n",
       "      <td id=\"T_6da0c_row0_col8\" class=\"data row0 col8\" >5.50</td>\n",
       "      <td id=\"T_6da0c_row0_col9\" class=\"data row0 col9\" >113.85</td>\n",
       "      <td id=\"T_6da0c_row0_col10\" class=\"data row0 col10\" >7.97</td>\n",
       "      <td id=\"T_6da0c_row0_col11\" class=\"data row0 col11\" >54,878.18</td>\n",
       "      <td id=\"T_6da0c_row0_col12\" class=\"data row0 col12\" >75</td>\n",
       "      <td id=\"T_6da0c_row0_col13\" class=\"data row0 col13\" >7,774.08</td>\n",
       "      <td id=\"T_6da0c_row0_col14\" class=\"data row0 col14\" >16.50%</td>\n",
       "      <td id=\"T_6da0c_row0_col15\" class=\"data row0 col15\" >80.32%</td>\n",
       "      <td id=\"T_6da0c_row0_col16\" class=\"data row0 col16\" >-99</td>\n",
       "      <td id=\"T_6da0c_row0_col17\" class=\"data row0 col17\" >None</td>\n",
       "      <td id=\"T_6da0c_row0_col18\" class=\"data row0 col18\" >0</td>\n",
       "    </tr>\n",
       "  </tbody>\n",
       "</table>\n"
      ],
      "text/plain": [
       "<pandas.io.formats.style.Styler at 0x1325abefc20>"
      ]
     },
     "execution_count": 69,
     "metadata": {},
     "output_type": "execute_result"
    }
   ],
   "source": [
    "# Sells table in MySQL portfolio database\n",
    "sql = \"\"\"\n",
    "SELECT name, stock_id, B.date AS buy_date, qty, B.price AS buy_price, S.* \n",
    "FROM sells S\n",
    "JOIN buys B ON S.buy_id = B.id\n",
    "JOIN stocks T ON B.stock_id = T.id\n",
    "ORDER BY S.id DESC\n",
    "LIMIT 1\"\"\"\n",
    "sells = pd.read_sql(sql, conpf)\n",
    "sells.style.format(format_dict)"
   ]
  },
  {
   "cell_type": "markdown",
   "metadata": {},
   "source": [
    "### In case of sale, retreive buy id from sells record (buy_id)"
   ]
  },
  {
   "cell_type": "code",
   "execution_count": 71,
   "metadata": {},
   "outputs": [
    {
     "data": {
      "text/plain": [
       "'WHAIR'"
      ]
     },
     "execution_count": 71,
     "metadata": {},
     "output_type": "execute_result"
    }
   ],
   "source": [
    "# Buys table in MySQL portfolio database\n",
    "transaction = 'S'\n",
    "\n",
    "names = sells['name']\n",
    "name = names.to_string(index=False)\n",
    "name"
   ]
  },
  {
   "cell_type": "code",
   "execution_count": 73,
   "metadata": {},
   "outputs": [
    {
     "name": "stdout",
     "output_type": "stream",
     "text": [
      "\n",
      "SELECT name, B.* \n",
      "FROM buys B\n",
      "JOIN stocks T \n",
      "ON B.stock_id = T.id\n",
      "WHERE B.id = 1320\n",
      "\n"
     ]
    },
    {
     "data": {
      "text/html": [
       "<style type=\"text/css\">\n",
       "</style>\n",
       "<table id=\"T_e4afc\">\n",
       "  <thead>\n",
       "    <tr>\n",
       "      <th class=\"blank level0\" >&nbsp;</th>\n",
       "      <th id=\"T_e4afc_level0_col0\" class=\"col_heading level0 col0\" >name</th>\n",
       "      <th id=\"T_e4afc_level0_col1\" class=\"col_heading level0 col1\" >id</th>\n",
       "      <th id=\"T_e4afc_level0_col2\" class=\"col_heading level0 col2\" >stock_id</th>\n",
       "      <th id=\"T_e4afc_level0_col3\" class=\"col_heading level0 col3\" >date</th>\n",
       "      <th id=\"T_e4afc_level0_col4\" class=\"col_heading level0 col4\" >qty</th>\n",
       "      <th id=\"T_e4afc_level0_col5\" class=\"col_heading level0 col5\" >price</th>\n",
       "      <th id=\"T_e4afc_level0_col6\" class=\"col_heading level0 col6\" >fee</th>\n",
       "      <th id=\"T_e4afc_level0_col7\" class=\"col_heading level0 col7\" >vat</th>\n",
       "      <th id=\"T_e4afc_level0_col8\" class=\"col_heading level0 col8\" >status</th>\n",
       "      <th id=\"T_e4afc_level0_col9\" class=\"col_heading level0 col9\" >net</th>\n",
       "      <th id=\"T_e4afc_level0_col10\" class=\"col_heading level0 col10\" >kind</th>\n",
       "      <th id=\"T_e4afc_level0_col11\" class=\"col_heading level0 col11\" >chart</th>\n",
       "    </tr>\n",
       "  </thead>\n",
       "  <tbody>\n",
       "    <tr>\n",
       "      <th id=\"T_e4afc_level0_row0\" class=\"row_heading level0 row0\" >0</th>\n",
       "      <td id=\"T_e4afc_row0_col0\" class=\"data row0 col0\" >WHAIR</td>\n",
       "      <td id=\"T_e4afc_row0_col1\" class=\"data row0 col1\" >1320</td>\n",
       "      <td id=\"T_e4afc_row0_col2\" class=\"data row0 col2\" >156</td>\n",
       "      <td id=\"T_e4afc_row0_col3\" class=\"data row0 col3\" >2025-05-16</td>\n",
       "      <td id=\"T_e4afc_row0_col4\" class=\"data row0 col4\" >10,000</td>\n",
       "      <td id=\"T_e4afc_row0_col5\" class=\"data row0 col5\" >4.70</td>\n",
       "      <td id=\"T_e4afc_row0_col6\" class=\"data row0 col6\" >97.29</td>\n",
       "      <td id=\"T_e4afc_row0_col7\" class=\"data row0 col7\" >6.81</td>\n",
       "      <td id=\"T_e4afc_row0_col8\" class=\"data row0 col8\" >Sold</td>\n",
       "      <td id=\"T_e4afc_row0_col9\" class=\"data row0 col9\" >47,104.10</td>\n",
       "      <td id=\"T_e4afc_row0_col10\" class=\"data row0 col10\" >HD</td>\n",
       "      <td id=\"T_e4afc_row0_col11\" class=\"data row0 col11\" >None</td>\n",
       "    </tr>\n",
       "  </tbody>\n",
       "</table>\n"
      ],
      "text/plain": [
       "<pandas.io.formats.style.Styler at 0x1325abb8c80>"
      ]
     },
     "execution_count": 73,
     "metadata": {},
     "output_type": "execute_result"
    }
   ],
   "source": [
    "sr_qty = sells['qty']\n",
    "qty = sr_qty.to_string(index=False)\n",
    "qty = int(qty) * -1\n",
    "\n",
    "sr_price = sells['buy_price']\n",
    "buy_price = sr_price.to_string(index=False)\n",
    "buy_price = float(buy_price)\n",
    "\n",
    "sr_price = sells['price']\n",
    "sell_price = sr_price.to_string(index=False)\n",
    "sell_price = float(sell_price)\n",
    "\n",
    "buy_ids = sells['buy_id']\n",
    "buy_id = buy_ids.to_string(index=False)\n",
    "\n",
    "sql = \"\"\"\n",
    "SELECT name, B.* \n",
    "FROM buys B\n",
    "JOIN stocks T \n",
    "ON B.stock_id = T.id\n",
    "WHERE B.id = %s\n",
    "\"\"\"\n",
    "sql = sql % buy_id\n",
    "print(sql)\n",
    "\n",
    "buys = pd.read_sql(sql, conpf)\n",
    "buys.style.format(format_dict)"
   ]
  },
  {
   "cell_type": "code",
   "execution_count": 75,
   "metadata": {},
   "outputs": [
    {
     "data": {
      "text/plain": [
       "('S', 'WHAIR', -10000, 5.5, 4.7)"
      ]
     },
     "execution_count": 75,
     "metadata": {},
     "output_type": "execute_result"
    }
   ],
   "source": [
    "transaction, name, qty, sell_price, buy_price"
   ]
  },
  {
   "cell_type": "markdown",
   "metadata": {},
   "source": [
    "### In case of buy, retreive buy id from latest buy record (id)"
   ]
  },
  {
   "cell_type": "code",
   "execution_count": 18,
   "metadata": {},
   "outputs": [
    {
     "name": "stdout",
     "output_type": "stream",
     "text": [
      "\n",
      "SELECT name, B.* \n",
      "FROM buys B\n",
      "JOIN stocks T \n",
      "ON B.stock_id = T.id\n",
      "ORDER BY id DESC\n",
      "LIMIT 1\n",
      "\n"
     ]
    },
    {
     "data": {
      "text/html": [
       "<style type=\"text/css\">\n",
       "</style>\n",
       "<table id=\"T_e3ea8\">\n",
       "  <thead>\n",
       "    <tr>\n",
       "      <th class=\"blank level0\" >&nbsp;</th>\n",
       "      <th id=\"T_e3ea8_level0_col0\" class=\"col_heading level0 col0\" >name</th>\n",
       "      <th id=\"T_e3ea8_level0_col1\" class=\"col_heading level0 col1\" >id</th>\n",
       "      <th id=\"T_e3ea8_level0_col2\" class=\"col_heading level0 col2\" >stock_id</th>\n",
       "      <th id=\"T_e3ea8_level0_col3\" class=\"col_heading level0 col3\" >date</th>\n",
       "      <th id=\"T_e3ea8_level0_col4\" class=\"col_heading level0 col4\" >qty</th>\n",
       "      <th id=\"T_e3ea8_level0_col5\" class=\"col_heading level0 col5\" >price</th>\n",
       "      <th id=\"T_e3ea8_level0_col6\" class=\"col_heading level0 col6\" >fee</th>\n",
       "      <th id=\"T_e3ea8_level0_col7\" class=\"col_heading level0 col7\" >vat</th>\n",
       "      <th id=\"T_e3ea8_level0_col8\" class=\"col_heading level0 col8\" >status</th>\n",
       "      <th id=\"T_e3ea8_level0_col9\" class=\"col_heading level0 col9\" >net</th>\n",
       "      <th id=\"T_e3ea8_level0_col10\" class=\"col_heading level0 col10\" >kind</th>\n",
       "      <th id=\"T_e3ea8_level0_col11\" class=\"col_heading level0 col11\" >chart</th>\n",
       "    </tr>\n",
       "  </thead>\n",
       "  <tbody>\n",
       "    <tr>\n",
       "      <th id=\"T_e3ea8_level0_row0\" class=\"row_heading level0 row0\" >0</th>\n",
       "      <td id=\"T_e3ea8_row0_col0\" class=\"data row0 col0\" >WHART</td>\n",
       "      <td id=\"T_e3ea8_row0_col1\" class=\"data row0 col1\" >1328</td>\n",
       "      <td id=\"T_e3ea8_row0_col2\" class=\"data row0 col2\" >172</td>\n",
       "      <td id=\"T_e3ea8_row0_col3\" class=\"data row0 col3\" >2025-07-08</td>\n",
       "      <td id=\"T_e3ea8_row0_col4\" class=\"data row0 col4\" >5,000</td>\n",
       "      <td id=\"T_e3ea8_row0_col5\" class=\"data row0 col5\" >8.80</td>\n",
       "      <td id=\"T_e3ea8_row0_col6\" class=\"data row0 col6\" >91.08</td>\n",
       "      <td id=\"T_e3ea8_row0_col7\" class=\"data row0 col7\" >6.38</td>\n",
       "      <td id=\"T_e3ea8_row0_col8\" class=\"data row0 col8\" >Active</td>\n",
       "      <td id=\"T_e3ea8_row0_col9\" class=\"data row0 col9\" >44,097.46</td>\n",
       "      <td id=\"T_e3ea8_row0_col10\" class=\"data row0 col10\" >HD</td>\n",
       "      <td id=\"T_e3ea8_row0_col11\" class=\"data row0 col11\" >None</td>\n",
       "    </tr>\n",
       "  </tbody>\n",
       "</table>\n"
      ],
      "text/plain": [
       "<pandas.io.formats.style.Styler at 0x266f579c620>"
      ]
     },
     "execution_count": 18,
     "metadata": {},
     "output_type": "execute_result"
    }
   ],
   "source": [
    "sql = \"\"\"\n",
    "SELECT name, B.* \n",
    "FROM buys B\n",
    "JOIN stocks T \n",
    "ON B.stock_id = T.id\n",
    "ORDER BY id DESC\n",
    "LIMIT 1\n",
    "\"\"\"\n",
    "print(sql)\n",
    "buys = pd.read_sql(sql, conpf)\n",
    "buys.style.format(format_dict)"
   ]
  },
  {
   "cell_type": "code",
   "execution_count": 20,
   "metadata": {},
   "outputs": [
    {
     "data": {
      "text/plain": [
       "('B', 'WHART', 5000, 8.8)"
      ]
     },
     "execution_count": 20,
     "metadata": {},
     "output_type": "execute_result"
    }
   ],
   "source": [
    "transaction = 'B'\n",
    "\n",
    "names = buys['name']\n",
    "name = names.to_string(index=False)\n",
    "\n",
    "sr_qty = buys['qty']\n",
    "qty = sr_qty.to_string(index=False)\n",
    "qty = int(qty)\n",
    "\n",
    "sr_price = buys['price']\n",
    "buy_price = sr_price.to_string(index=False)\n",
    "buy_price = float(buy_price)\n",
    "\n",
    "transaction, name, qty, buy_price"
   ]
  },
  {
   "cell_type": "markdown",
   "metadata": {},
   "source": [
    "## Begin of Sale transaction"
   ]
  },
  {
   "cell_type": "markdown",
   "metadata": {},
   "source": [
    "### Begin of Update buy table in MySQL stock database from sale transaction"
   ]
  },
  {
   "cell_type": "code",
   "execution_count": 77,
   "metadata": {},
   "outputs": [
    {
     "name": "stdout",
     "output_type": "stream",
     "text": [
      "\n",
      "SELECT * \n",
      "FROM buy \n",
      "WHERE name = 'WHAIR'\n",
      "\n"
     ]
    },
    {
     "data": {
      "text/html": [
       "<style type=\"text/css\">\n",
       "</style>\n",
       "<table id=\"T_48ba5\">\n",
       "  <thead>\n",
       "    <tr>\n",
       "      <th class=\"blank level0\" >&nbsp;</th>\n",
       "      <th id=\"T_48ba5_level0_col0\" class=\"col_heading level0 col0\" >name</th>\n",
       "      <th id=\"T_48ba5_level0_col1\" class=\"col_heading level0 col1\" >date</th>\n",
       "      <th id=\"T_48ba5_level0_col2\" class=\"col_heading level0 col2\" >shares</th>\n",
       "      <th id=\"T_48ba5_level0_col3\" class=\"col_heading level0 col3\" >price</th>\n",
       "      <th id=\"T_48ba5_level0_col4\" class=\"col_heading level0 col4\" >active</th>\n",
       "      <th id=\"T_48ba5_level0_col5\" class=\"col_heading level0 col5\" >period</th>\n",
       "      <th id=\"T_48ba5_level0_col6\" class=\"col_heading level0 col6\" >grade</th>\n",
       "    </tr>\n",
       "  </thead>\n",
       "  <tbody>\n",
       "    <tr>\n",
       "      <th id=\"T_48ba5_level0_row0\" class=\"row_heading level0 row0\" >0</th>\n",
       "      <td id=\"T_48ba5_row0_col0\" class=\"data row0 col0\" >WHAIR</td>\n",
       "      <td id=\"T_48ba5_row0_col1\" class=\"data row0 col1\" >2021-10-11</td>\n",
       "      <td id=\"T_48ba5_row0_col2\" class=\"data row0 col2\" >60,000</td>\n",
       "      <td id=\"T_48ba5_row0_col3\" class=\"data row0 col3\" >8.05</td>\n",
       "      <td id=\"T_48ba5_row0_col4\" class=\"data row0 col4\" >1</td>\n",
       "      <td id=\"T_48ba5_row0_col5\" class=\"data row0 col5\" >2</td>\n",
       "      <td id=\"T_48ba5_row0_col6\" class=\"data row0 col6\" >B1</td>\n",
       "    </tr>\n",
       "  </tbody>\n",
       "</table>\n"
      ],
      "text/plain": [
       "<pandas.io.formats.style.Styler at 0x1325ac11a60>"
      ]
     },
     "execution_count": 77,
     "metadata": {},
     "output_type": "execute_result"
    }
   ],
   "source": [
    "sql = \"\"\"\n",
    "SELECT * \n",
    "FROM buy \n",
    "WHERE name = '%s'\n",
    "\"\"\"\n",
    "sql = sql % name\n",
    "print(sql)\n",
    "\n",
    "buy = pd.read_sql(sql, const)\n",
    "buy.drop(['volsell', 'volbal','dividend'], axis=1, inplace=True)\n",
    "buy.rename(columns={'volbuy':'shares'},inplace=True)\n",
    "buy['shares'] = buy['shares'].astype('int64')\n",
    "buy.style.format(format_dict)"
   ]
  },
  {
   "cell_type": "code",
   "execution_count": 79,
   "metadata": {},
   "outputs": [
    {
     "name": "stdout",
     "output_type": "stream",
     "text": [
      "S WHAIR -10000 4.7\n"
     ]
    }
   ],
   "source": [
    "print(transaction, name, qty, buy_price)"
   ]
  },
  {
   "cell_type": "code",
   "execution_count": 81,
   "metadata": {},
   "outputs": [
    {
     "name": "stdout",
     "output_type": "stream",
     "text": [
      "50000\n"
     ]
    }
   ],
   "source": [
    "new_qty = buy['shares'] + qty\n",
    "print(new_qty.iloc[0])"
   ]
  },
  {
   "cell_type": "code",
   "execution_count": 83,
   "metadata": {},
   "outputs": [
    {
     "data": {
      "text/plain": [
       "8.7"
      ]
     },
     "execution_count": 83,
     "metadata": {},
     "output_type": "execute_result"
    }
   ],
   "source": [
    "new_price = 8.70\n",
    "new_price"
   ]
  },
  {
   "cell_type": "code",
   "execution_count": 85,
   "metadata": {},
   "outputs": [],
   "source": [
    "def update_buy(const, name, new_qty, new_price):\n",
    "    # Extract scalar values from Pandas Series\n",
    "    new_qty_value = int(new_qty.iloc[0])\n",
    "    \n",
    "    # Use parameterized query to avoid SQL injection\n",
    "    sqlUpd = text(\"\"\"\n",
    "        UPDATE buy\n",
    "        SET volbuy = :new_qty,\n",
    "        price = :new_price\n",
    "        WHERE name = :name\n",
    "    \"\"\")\n",
    "    \n",
    "    # Execute the query with parameters\n",
    "    rp = const.execute(sqlUpd, {\n",
    "        'new_qty': new_qty_value,\n",
    "        'new_price': new_price,\n",
    "        'name': name\n",
    "    })\n",
    "\n",
    "    return f\"Records updated = {rp.rowcount}\""
   ]
  },
  {
   "cell_type": "code",
   "execution_count": 87,
   "metadata": {},
   "outputs": [
    {
     "data": {
      "text/plain": [
       "'Records updated = 1'"
      ]
     },
     "execution_count": 87,
     "metadata": {},
     "output_type": "execute_result"
    }
   ],
   "source": [
    "# Example usage\n",
    "update_buy(const, name, new_qty, new_price)"
   ]
  },
  {
   "cell_type": "code",
   "execution_count": 89,
   "metadata": {},
   "outputs": [
    {
     "name": "stdout",
     "output_type": "stream",
     "text": [
      "\n",
      "SELECT * \n",
      "FROM buy \n",
      "WHERE name = 'WHAIR'\n",
      "\n"
     ]
    },
    {
     "data": {
      "text/html": [
       "<style type=\"text/css\">\n",
       "</style>\n",
       "<table id=\"T_2b9d7\">\n",
       "  <thead>\n",
       "    <tr>\n",
       "      <th class=\"blank level0\" >&nbsp;</th>\n",
       "      <th id=\"T_2b9d7_level0_col0\" class=\"col_heading level0 col0\" >name</th>\n",
       "      <th id=\"T_2b9d7_level0_col1\" class=\"col_heading level0 col1\" >date</th>\n",
       "      <th id=\"T_2b9d7_level0_col2\" class=\"col_heading level0 col2\" >shares</th>\n",
       "      <th id=\"T_2b9d7_level0_col3\" class=\"col_heading level0 col3\" >price</th>\n",
       "      <th id=\"T_2b9d7_level0_col4\" class=\"col_heading level0 col4\" >active</th>\n",
       "      <th id=\"T_2b9d7_level0_col5\" class=\"col_heading level0 col5\" >period</th>\n",
       "      <th id=\"T_2b9d7_level0_col6\" class=\"col_heading level0 col6\" >grade</th>\n",
       "    </tr>\n",
       "  </thead>\n",
       "  <tbody>\n",
       "    <tr>\n",
       "      <th id=\"T_2b9d7_level0_row0\" class=\"row_heading level0 row0\" >0</th>\n",
       "      <td id=\"T_2b9d7_row0_col0\" class=\"data row0 col0\" >WHAIR</td>\n",
       "      <td id=\"T_2b9d7_row0_col1\" class=\"data row0 col1\" >2021-10-11</td>\n",
       "      <td id=\"T_2b9d7_row0_col2\" class=\"data row0 col2\" >50,000</td>\n",
       "      <td id=\"T_2b9d7_row0_col3\" class=\"data row0 col3\" >8.70</td>\n",
       "      <td id=\"T_2b9d7_row0_col4\" class=\"data row0 col4\" >1</td>\n",
       "      <td id=\"T_2b9d7_row0_col5\" class=\"data row0 col5\" >2</td>\n",
       "      <td id=\"T_2b9d7_row0_col6\" class=\"data row0 col6\" >B1</td>\n",
       "    </tr>\n",
       "  </tbody>\n",
       "</table>\n"
      ],
      "text/plain": [
       "<pandas.io.formats.style.Styler at 0x1325ac37f20>"
      ]
     },
     "execution_count": 89,
     "metadata": {},
     "output_type": "execute_result"
    }
   ],
   "source": [
    "sql = \"\"\"\n",
    "SELECT * \n",
    "FROM buy \n",
    "WHERE name = '%s'\n",
    "\"\"\"\n",
    "sql = sql % name\n",
    "print(sql)\n",
    "\n",
    "buy = pd.read_sql(sql, const)\n",
    "buy.drop(['volsell', 'volbal','dividend'], axis=1, inplace=True)\n",
    "buy.rename(columns={'volbuy':'shares'},inplace=True)\n",
    "buy['shares'] = buy['shares'].astype('int64')\n",
    "buy.style.format(format_dict)"
   ]
  },
  {
   "cell_type": "code",
   "execution_count": 91,
   "metadata": {},
   "outputs": [
    {
     "name": "stdout",
     "output_type": "stream",
     "text": [
      "Records deleted: 0\n"
     ]
    }
   ],
   "source": [
    "# Define the SQL query\n",
    "sqlDel = text(\"\"\"\n",
    "    DELETE FROM buy\n",
    "    WHERE name = :name AND volbuy = 0;\n",
    "\"\"\")\n",
    "\n",
    "# Execute the query with the correct parameter dictionary\n",
    "result = const.execute(sqlDel, {'name': name})\n",
    "\n",
    "# Print the number of rows deleted\n",
    "print(f\"Records deleted: {result.rowcount}\")  "
   ]
  },
  {
   "cell_type": "markdown",
   "metadata": {},
   "source": [
    "### End of Update buy table in MySQL stock database from sale transaction"
   ]
  },
  {
   "cell_type": "markdown",
   "metadata": {},
   "source": [
    "### Begin of Update dividend table in MySQL stock database from sale transaction"
   ]
  },
  {
   "cell_type": "code",
   "execution_count": 95,
   "metadata": {},
   "outputs": [
    {
     "name": "stdout",
     "output_type": "stream",
     "text": [
      "\n",
      "SELECT * \n",
      "FROM dividend \n",
      "WHERE name = 'WHAIR'\n",
      "\n"
     ]
    },
    {
     "data": {
      "text/html": [
       "<style type=\"text/css\">\n",
       "</style>\n",
       "<table id=\"T_a70ba\">\n",
       "  <thead>\n",
       "    <tr>\n",
       "      <th class=\"blank level0\" >&nbsp;</th>\n",
       "      <th id=\"T_a70ba_level0_col0\" class=\"col_heading level0 col0\" >name</th>\n",
       "      <th id=\"T_a70ba_level0_col1\" class=\"col_heading level0 col1\" >q4</th>\n",
       "      <th id=\"T_a70ba_level0_col2\" class=\"col_heading level0 col2\" >q3</th>\n",
       "      <th id=\"T_a70ba_level0_col3\" class=\"col_heading level0 col3\" >q2</th>\n",
       "      <th id=\"T_a70ba_level0_col4\" class=\"col_heading level0 col4\" >q1</th>\n",
       "      <th id=\"T_a70ba_level0_col5\" class=\"col_heading level0 col5\" >dividend</th>\n",
       "      <th id=\"T_a70ba_level0_col6\" class=\"col_heading level0 col6\" >shares</th>\n",
       "      <th id=\"T_a70ba_level0_col7\" class=\"col_heading level0 col7\" >xdate</th>\n",
       "      <th id=\"T_a70ba_level0_col8\" class=\"col_heading level0 col8\" >paiddate</th>\n",
       "      <th id=\"T_a70ba_level0_col9\" class=\"col_heading level0 col9\" >kind</th>\n",
       "      <th id=\"T_a70ba_level0_col10\" class=\"col_heading level0 col10\" >actual</th>\n",
       "    </tr>\n",
       "  </thead>\n",
       "  <tbody>\n",
       "    <tr>\n",
       "      <th id=\"T_a70ba_level0_row0\" class=\"row_heading level0 row0\" >0</th>\n",
       "      <td id=\"T_a70ba_row0_col0\" class=\"data row0 col0\" >WHAIR</td>\n",
       "      <td id=\"T_a70ba_row0_col1\" class=\"data row0 col1\" >0.0582</td>\n",
       "      <td id=\"T_a70ba_row0_col2\" class=\"data row0 col2\" >0.2229</td>\n",
       "      <td id=\"T_a70ba_row0_col3\" class=\"data row0 col3\" >0.1372</td>\n",
       "      <td id=\"T_a70ba_row0_col4\" class=\"data row0 col4\" >0.1325</td>\n",
       "      <td id=\"T_a70ba_row0_col5\" class=\"data row0 col5\" >0.5508</td>\n",
       "      <td id=\"T_a70ba_row0_col6\" class=\"data row0 col6\" >60,000</td>\n",
       "      <td id=\"T_a70ba_row0_col7\" class=\"data row0 col7\" >2025-05-26</td>\n",
       "      <td id=\"T_a70ba_row0_col8\" class=\"data row0 col8\" >2025-06-25</td>\n",
       "      <td id=\"T_a70ba_row0_col9\" class=\"data row0 col9\" ></td>\n",
       "      <td id=\"T_a70ba_row0_col10\" class=\"data row0 col10\" >0</td>\n",
       "    </tr>\n",
       "  </tbody>\n",
       "</table>\n"
      ],
      "text/plain": [
       "<pandas.io.formats.style.Styler at 0x1325abec800>"
      ]
     },
     "execution_count": 95,
     "metadata": {},
     "output_type": "execute_result"
    }
   ],
   "source": [
    "sql = \"\"\"\n",
    "SELECT * \n",
    "FROM dividend \n",
    "WHERE name = '%s'\n",
    "\"\"\"\n",
    "sql = sql % name\n",
    "print(sql)\n",
    "\n",
    "dividend = pd.read_sql(sql, const)\n",
    "dividend.drop(['PRICE', 'PERCENT'], axis=1, inplace=True)\n",
    "dividend.columns = dividend.columns.str.lower()\n",
    "dividend['shares'] = dividend['shares'].astype('int64')\n",
    "dividend['xdate'] = pd.to_datetime(dividend['xdate'])\n",
    "dividend['paiddate'] = pd.to_datetime(dividend['paiddate'])\n",
    "dividend.style.format(format_dict)"
   ]
  },
  {
   "cell_type": "code",
   "execution_count": 97,
   "metadata": {},
   "outputs": [
    {
     "data": {
      "text/plain": [
       "0    50000\n",
       "Name: shares, dtype: int64"
      ]
     },
     "execution_count": 97,
     "metadata": {},
     "output_type": "execute_result"
    }
   ],
   "source": [
    "new_qty"
   ]
  },
  {
   "cell_type": "code",
   "execution_count": 99,
   "metadata": {},
   "outputs": [],
   "source": [
    "def update_dividend(const, name, new_qty):\n",
    "    # Extract scalar values from Pandas Series\n",
    "    new_qty_value = int(new_qty.iloc[0])\n",
    "    # Use parameterized query to avoid SQL injection\n",
    "    sqlUpd = text(\"\"\"\n",
    "        UPDATE dividend\n",
    "        SET shares = :new_qty\n",
    "        WHERE name = :name\n",
    "    \"\"\")\n",
    "    # Execute the query with parameters\n",
    "    rp = const.execute(sqlUpd, {\n",
    "        'new_qty': new_qty_value,\n",
    "        'name': name\n",
    "    })\n",
    "    return f\"Records updated = {rp.rowcount}\""
   ]
  },
  {
   "cell_type": "code",
   "execution_count": 101,
   "metadata": {},
   "outputs": [
    {
     "data": {
      "text/plain": [
       "'Records updated = 1'"
      ]
     },
     "execution_count": 101,
     "metadata": {},
     "output_type": "execute_result"
    }
   ],
   "source": [
    "update_dividend(const, name, new_qty)"
   ]
  },
  {
   "cell_type": "code",
   "execution_count": 103,
   "metadata": {},
   "outputs": [
    {
     "name": "stdout",
     "output_type": "stream",
     "text": [
      "\n",
      "SELECT * \n",
      "FROM dividend \n",
      "WHERE name = 'WHAIR'\n",
      "\n"
     ]
    },
    {
     "data": {
      "text/html": [
       "<style type=\"text/css\">\n",
       "</style>\n",
       "<table id=\"T_5b339\">\n",
       "  <thead>\n",
       "    <tr>\n",
       "      <th class=\"blank level0\" >&nbsp;</th>\n",
       "      <th id=\"T_5b339_level0_col0\" class=\"col_heading level0 col0\" >name</th>\n",
       "      <th id=\"T_5b339_level0_col1\" class=\"col_heading level0 col1\" >q4</th>\n",
       "      <th id=\"T_5b339_level0_col2\" class=\"col_heading level0 col2\" >q3</th>\n",
       "      <th id=\"T_5b339_level0_col3\" class=\"col_heading level0 col3\" >q2</th>\n",
       "      <th id=\"T_5b339_level0_col4\" class=\"col_heading level0 col4\" >q1</th>\n",
       "      <th id=\"T_5b339_level0_col5\" class=\"col_heading level0 col5\" >dividend</th>\n",
       "      <th id=\"T_5b339_level0_col6\" class=\"col_heading level0 col6\" >shares</th>\n",
       "      <th id=\"T_5b339_level0_col7\" class=\"col_heading level0 col7\" >xdate</th>\n",
       "      <th id=\"T_5b339_level0_col8\" class=\"col_heading level0 col8\" >paiddate</th>\n",
       "      <th id=\"T_5b339_level0_col9\" class=\"col_heading level0 col9\" >kind</th>\n",
       "      <th id=\"T_5b339_level0_col10\" class=\"col_heading level0 col10\" >actual</th>\n",
       "    </tr>\n",
       "  </thead>\n",
       "  <tbody>\n",
       "    <tr>\n",
       "      <th id=\"T_5b339_level0_row0\" class=\"row_heading level0 row0\" >0</th>\n",
       "      <td id=\"T_5b339_row0_col0\" class=\"data row0 col0\" >WHAIR</td>\n",
       "      <td id=\"T_5b339_row0_col1\" class=\"data row0 col1\" >0.0582</td>\n",
       "      <td id=\"T_5b339_row0_col2\" class=\"data row0 col2\" >0.2229</td>\n",
       "      <td id=\"T_5b339_row0_col3\" class=\"data row0 col3\" >0.1372</td>\n",
       "      <td id=\"T_5b339_row0_col4\" class=\"data row0 col4\" >0.1325</td>\n",
       "      <td id=\"T_5b339_row0_col5\" class=\"data row0 col5\" >0.5508</td>\n",
       "      <td id=\"T_5b339_row0_col6\" class=\"data row0 col6\" >50,000</td>\n",
       "      <td id=\"T_5b339_row0_col7\" class=\"data row0 col7\" >2025-05-26</td>\n",
       "      <td id=\"T_5b339_row0_col8\" class=\"data row0 col8\" >2025-06-25</td>\n",
       "      <td id=\"T_5b339_row0_col9\" class=\"data row0 col9\" ></td>\n",
       "      <td id=\"T_5b339_row0_col10\" class=\"data row0 col10\" >0</td>\n",
       "    </tr>\n",
       "  </tbody>\n",
       "</table>\n"
      ],
      "text/plain": [
       "<pandas.io.formats.style.Styler at 0x1325ac8aae0>"
      ]
     },
     "execution_count": 103,
     "metadata": {},
     "output_type": "execute_result"
    }
   ],
   "source": [
    "sql = \"\"\"\n",
    "SELECT * \n",
    "FROM dividend \n",
    "WHERE name = '%s'\n",
    "\"\"\"\n",
    "sql = sql % name\n",
    "print(sql)\n",
    "\n",
    "dividend = pd.read_sql(sql, const)\n",
    "dividend.drop(['PRICE', 'PERCENT'], axis=1, inplace=True)\n",
    "dividend.columns = dividend.columns.str.lower()\n",
    "dividend['shares'] = dividend['shares'].astype('int64')\n",
    "dividend['xdate'] = pd.to_datetime(dividend['xdate'])\n",
    "dividend['paiddate'] = pd.to_datetime(dividend['paiddate'])\n",
    "dividend.style.format(format_dict)"
   ]
  },
  {
   "cell_type": "code",
   "execution_count": 105,
   "metadata": {},
   "outputs": [
    {
     "name": "stdout",
     "output_type": "stream",
     "text": [
      "Records deleted: 0\n"
     ]
    }
   ],
   "source": [
    "# Define the SQL query\n",
    "sqlDel = text(\"\"\"\n",
    "    DELETE FROM dividend\n",
    "    WHERE name = :name AND shares = 0;\n",
    "\"\"\")\n",
    "\n",
    "# Execute the query with the correct parameter dictionary\n",
    "result = const.execute(sqlDel, {'name': name})\n",
    "\n",
    "# Print the number of rows deleted\n",
    "print(f\"Records deleted: {result.rowcount}\")  "
   ]
  },
  {
   "cell_type": "markdown",
   "metadata": {},
   "source": [
    "### End of Update dividend table in MySQL stock database from sale transaction"
   ]
  },
  {
   "cell_type": "markdown",
   "metadata": {},
   "source": [
    "### Begin of Update stocks table in SQLite port_lite database from sale transaction"
   ]
  },
  {
   "cell_type": "code",
   "execution_count": 109,
   "metadata": {},
   "outputs": [
    {
     "name": "stdout",
     "output_type": "stream",
     "text": [
      "\n",
      "SELECT * \n",
      "FROM stocks \n",
      "WHERE name = 'WHAIR'\n",
      "\n"
     ]
    },
    {
     "data": {
      "text/html": [
       "<style type=\"text/css\">\n",
       "</style>\n",
       "<table id=\"T_be404\">\n",
       "  <thead>\n",
       "    <tr>\n",
       "      <th class=\"blank level0\" >&nbsp;</th>\n",
       "      <th id=\"T_be404_level0_col0\" class=\"col_heading level0 col0\" >id</th>\n",
       "      <th id=\"T_be404_level0_col1\" class=\"col_heading level0 col1\" >name</th>\n",
       "      <th id=\"T_be404_level0_col2\" class=\"col_heading level0 col2\" >max_price</th>\n",
       "      <th id=\"T_be404_level0_col3\" class=\"col_heading level0 col3\" >min_price</th>\n",
       "      <th id=\"T_be404_level0_col4\" class=\"col_heading level0 col4\" >status</th>\n",
       "      <th id=\"T_be404_level0_col5\" class=\"col_heading level0 col5\" >buy_target</th>\n",
       "      <th id=\"T_be404_level0_col6\" class=\"col_heading level0 col6\" >sell_target</th>\n",
       "      <th id=\"T_be404_level0_col7\" class=\"col_heading level0 col7\" >volume</th>\n",
       "      <th id=\"T_be404_level0_col8\" class=\"col_heading level0 col8\" >beta</th>\n",
       "      <th id=\"T_be404_level0_col9\" class=\"col_heading level0 col9\" >cost</th>\n",
       "      <th id=\"T_be404_level0_col10\" class=\"col_heading level0 col10\" >qty</th>\n",
       "      <th id=\"T_be404_level0_col11\" class=\"col_heading level0 col11\" >buy_spread</th>\n",
       "      <th id=\"T_be404_level0_col12\" class=\"col_heading level0 col12\" >sell_spread</th>\n",
       "      <th id=\"T_be404_level0_col13\" class=\"col_heading level0 col13\" >available_qty</th>\n",
       "      <th id=\"T_be404_level0_col14\" class=\"col_heading level0 col14\" >bl</th>\n",
       "      <th id=\"T_be404_level0_col15\" class=\"col_heading level0 col15\" >sh</th>\n",
       "      <th id=\"T_be404_level0_col16\" class=\"col_heading level0 col16\" >reason</th>\n",
       "      <th id=\"T_be404_level0_col17\" class=\"col_heading level0 col17\" >market</th>\n",
       "    </tr>\n",
       "  </thead>\n",
       "  <tbody>\n",
       "    <tr>\n",
       "      <th id=\"T_be404_level0_row0\" class=\"row_heading level0 row0\" >0</th>\n",
       "      <td id=\"T_be404_row0_col0\" class=\"data row0 col0\" >127</td>\n",
       "      <td id=\"T_be404_row0_col1\" class=\"data row0 col1\" >WHAIR</td>\n",
       "      <td id=\"T_be404_row0_col2\" class=\"data row0 col2\" >0.00</td>\n",
       "      <td id=\"T_be404_row0_col3\" class=\"data row0 col3\" >0.00</td>\n",
       "      <td id=\"T_be404_row0_col4\" class=\"data row0 col4\" >B</td>\n",
       "      <td id=\"T_be404_row0_col5\" class=\"data row0 col5\" >4.30</td>\n",
       "      <td id=\"T_be404_row0_col6\" class=\"data row0 col6\" >8.05</td>\n",
       "      <td id=\"T_be404_row0_col7\" class=\"data row0 col7\" >0.00</td>\n",
       "      <td id=\"T_be404_row0_col8\" class=\"data row0 col8\" >0.00</td>\n",
       "      <td id=\"T_be404_row0_col9\" class=\"data row0 col9\" >8.05</td>\n",
       "      <td id=\"T_be404_row0_col10\" class=\"data row0 col10\" >10,000</td>\n",
       "      <td id=\"T_be404_row0_col11\" class=\"data row0 col11\" >-4</td>\n",
       "      <td id=\"T_be404_row0_col12\" class=\"data row0 col12\" >4</td>\n",
       "      <td id=\"T_be404_row0_col13\" class=\"data row0 col13\" >60,000</td>\n",
       "      <td id=\"T_be404_row0_col14\" class=\"data row0 col14\" >6.000000</td>\n",
       "      <td id=\"T_be404_row0_col15\" class=\"data row0 col15\" >0.000000</td>\n",
       "      <td id=\"T_be404_row0_col16\" class=\"data row0 col16\" >RD50pct</td>\n",
       "      <td id=\"T_be404_row0_col17\" class=\"data row0 col17\" >SET</td>\n",
       "    </tr>\n",
       "  </tbody>\n",
       "</table>\n"
      ],
      "text/plain": [
       "<pandas.io.formats.style.Styler at 0x1325ac69070>"
      ]
     },
     "execution_count": 109,
     "metadata": {},
     "output_type": "execute_result"
    }
   ],
   "source": [
    "sql = \"\"\"\n",
    "SELECT * \n",
    "FROM stocks \n",
    "WHERE name = '%s'\n",
    "\"\"\"\n",
    "sql = sql % name\n",
    "print(sql)\n",
    "\n",
    "stock = pd.read_sql(sql, conlite)\n",
    "stock.style.format(format_dict)"
   ]
  },
  {
   "cell_type": "code",
   "execution_count": 111,
   "metadata": {},
   "outputs": [
    {
     "name": "stdout",
     "output_type": "stream",
     "text": [
      "WHAIR S 50000 8.7\n"
     ]
    }
   ],
   "source": [
    "# Extract scalar values from Pandas Series (if applicable)\n",
    "new_qty_value = new_qty.iloc[0] if hasattr(new_qty, 'iloc') else new_qty\n",
    "#cost_value = cost.iloc[0] if hasattr(cost, 'iloc') else cost\n",
    "# Print the values\n",
    "print(name, transaction, new_qty_value, new_price)"
   ]
  },
  {
   "cell_type": "code",
   "execution_count": 56,
   "metadata": {},
   "outputs": [],
   "source": [
    "#print(\"Raw cost value before extraction:\", cost)"
   ]
  },
  {
   "cell_type": "code",
   "execution_count": 113,
   "metadata": {},
   "outputs": [],
   "source": [
    "def update_stock(conlite, name, new_qty, new_price):\n",
    "    # Extract scalar values from Pandas Series\n",
    "    new_qty_value = int(new_qty.iloc[0])  \n",
    "    # Use parameterized query to avoid SQL injection\n",
    "    sqlUpd = text(\"\"\"\n",
    "        UPDATE stocks\n",
    "        SET available_qty = :new_qty,\n",
    "        cost = :new_price\n",
    "        WHERE name = :name\n",
    "    \"\"\")    \n",
    "    # Execute the query with parameters\n",
    "    rp = conlite.execute(sqlUpd, {\n",
    "        'new_qty': new_qty_value, # Use the scalar value\n",
    "        'new_price': new_price,\n",
    "        'name': name\n",
    "    })\n",
    "    return f\"Records updated = {rp.rowcount}\""
   ]
  },
  {
   "cell_type": "code",
   "execution_count": 115,
   "metadata": {},
   "outputs": [
    {
     "data": {
      "text/plain": [
       "'Records updated = 1'"
      ]
     },
     "execution_count": 115,
     "metadata": {},
     "output_type": "execute_result"
    }
   ],
   "source": [
    "# Example usage\n",
    "update_stock(conlite, name, new_qty, new_price)"
   ]
  },
  {
   "cell_type": "code",
   "execution_count": 117,
   "metadata": {},
   "outputs": [
    {
     "name": "stdout",
     "output_type": "stream",
     "text": [
      "\n",
      "SELECT * \n",
      "FROM stocks \n",
      "WHERE name = 'WHAIR'\n",
      "\n"
     ]
    },
    {
     "data": {
      "text/html": [
       "<style type=\"text/css\">\n",
       "</style>\n",
       "<table id=\"T_925f8\">\n",
       "  <thead>\n",
       "    <tr>\n",
       "      <th class=\"blank level0\" >&nbsp;</th>\n",
       "      <th id=\"T_925f8_level0_col0\" class=\"col_heading level0 col0\" >id</th>\n",
       "      <th id=\"T_925f8_level0_col1\" class=\"col_heading level0 col1\" >name</th>\n",
       "      <th id=\"T_925f8_level0_col2\" class=\"col_heading level0 col2\" >max_price</th>\n",
       "      <th id=\"T_925f8_level0_col3\" class=\"col_heading level0 col3\" >min_price</th>\n",
       "      <th id=\"T_925f8_level0_col4\" class=\"col_heading level0 col4\" >status</th>\n",
       "      <th id=\"T_925f8_level0_col5\" class=\"col_heading level0 col5\" >buy_target</th>\n",
       "      <th id=\"T_925f8_level0_col6\" class=\"col_heading level0 col6\" >sell_target</th>\n",
       "      <th id=\"T_925f8_level0_col7\" class=\"col_heading level0 col7\" >volume</th>\n",
       "      <th id=\"T_925f8_level0_col8\" class=\"col_heading level0 col8\" >beta</th>\n",
       "      <th id=\"T_925f8_level0_col9\" class=\"col_heading level0 col9\" >cost</th>\n",
       "      <th id=\"T_925f8_level0_col10\" class=\"col_heading level0 col10\" >qty</th>\n",
       "      <th id=\"T_925f8_level0_col11\" class=\"col_heading level0 col11\" >buy_spread</th>\n",
       "      <th id=\"T_925f8_level0_col12\" class=\"col_heading level0 col12\" >sell_spread</th>\n",
       "      <th id=\"T_925f8_level0_col13\" class=\"col_heading level0 col13\" >available_qty</th>\n",
       "      <th id=\"T_925f8_level0_col14\" class=\"col_heading level0 col14\" >bl</th>\n",
       "      <th id=\"T_925f8_level0_col15\" class=\"col_heading level0 col15\" >sh</th>\n",
       "      <th id=\"T_925f8_level0_col16\" class=\"col_heading level0 col16\" >reason</th>\n",
       "      <th id=\"T_925f8_level0_col17\" class=\"col_heading level0 col17\" >market</th>\n",
       "    </tr>\n",
       "  </thead>\n",
       "  <tbody>\n",
       "    <tr>\n",
       "      <th id=\"T_925f8_level0_row0\" class=\"row_heading level0 row0\" >0</th>\n",
       "      <td id=\"T_925f8_row0_col0\" class=\"data row0 col0\" >127</td>\n",
       "      <td id=\"T_925f8_row0_col1\" class=\"data row0 col1\" >WHAIR</td>\n",
       "      <td id=\"T_925f8_row0_col2\" class=\"data row0 col2\" >0.00</td>\n",
       "      <td id=\"T_925f8_row0_col3\" class=\"data row0 col3\" >0.00</td>\n",
       "      <td id=\"T_925f8_row0_col4\" class=\"data row0 col4\" >B</td>\n",
       "      <td id=\"T_925f8_row0_col5\" class=\"data row0 col5\" >4.30</td>\n",
       "      <td id=\"T_925f8_row0_col6\" class=\"data row0 col6\" >8.05</td>\n",
       "      <td id=\"T_925f8_row0_col7\" class=\"data row0 col7\" >0.00</td>\n",
       "      <td id=\"T_925f8_row0_col8\" class=\"data row0 col8\" >0.00</td>\n",
       "      <td id=\"T_925f8_row0_col9\" class=\"data row0 col9\" >8.70</td>\n",
       "      <td id=\"T_925f8_row0_col10\" class=\"data row0 col10\" >10,000</td>\n",
       "      <td id=\"T_925f8_row0_col11\" class=\"data row0 col11\" >-4</td>\n",
       "      <td id=\"T_925f8_row0_col12\" class=\"data row0 col12\" >4</td>\n",
       "      <td id=\"T_925f8_row0_col13\" class=\"data row0 col13\" >50,000</td>\n",
       "      <td id=\"T_925f8_row0_col14\" class=\"data row0 col14\" >6.000000</td>\n",
       "      <td id=\"T_925f8_row0_col15\" class=\"data row0 col15\" >0.000000</td>\n",
       "      <td id=\"T_925f8_row0_col16\" class=\"data row0 col16\" >RD50pct</td>\n",
       "      <td id=\"T_925f8_row0_col17\" class=\"data row0 col17\" >SET</td>\n",
       "    </tr>\n",
       "  </tbody>\n",
       "</table>\n"
      ],
      "text/plain": [
       "<pandas.io.formats.style.Styler at 0x1325ab0ade0>"
      ]
     },
     "execution_count": 117,
     "metadata": {},
     "output_type": "execute_result"
    }
   ],
   "source": [
    "sql = \"\"\"\n",
    "SELECT * \n",
    "FROM stocks \n",
    "WHERE name = '%s'\n",
    "\"\"\"\n",
    "sql = sql % name\n",
    "print(sql)\n",
    "\n",
    "stocks = pd.read_sql(sql, conlite)\n",
    "stocks.style.format(format_dict)"
   ]
  },
  {
   "cell_type": "code",
   "execution_count": 119,
   "metadata": {},
   "outputs": [
    {
     "name": "stdout",
     "output_type": "stream",
     "text": [
      "Records deleted: 0\n"
     ]
    }
   ],
   "source": [
    "# Define the SQL query\n",
    "sqlDel = text(\"\"\"\n",
    "    DELETE FROM stocks\n",
    "    WHERE name = :name AND available_qty = 0;\n",
    "\"\"\")\n",
    "\n",
    "# Execute the query with the correct parameter dictionary\n",
    "result = conlite.execute(sqlDel, {'name': name})\n",
    "\n",
    "# Print the number of rows deleted\n",
    "print(f\"Records deleted: {result.rowcount}\")  "
   ]
  },
  {
   "cell_type": "code",
   "execution_count": 121,
   "metadata": {},
   "outputs": [],
   "source": [
    "conlite.commit()"
   ]
  },
  {
   "cell_type": "markdown",
   "metadata": {},
   "source": [
    "### End of Update stocks table in SQLite port_lite database from sale transaction"
   ]
  },
  {
   "cell_type": "markdown",
   "metadata": {},
   "source": [
    "## End of Sale process"
   ]
  },
  {
   "cell_type": "markdown",
   "metadata": {},
   "source": [
    "### ====================================================="
   ]
  },
  {
   "cell_type": "markdown",
   "metadata": {},
   "source": [
    "## Begin of  Buy process"
   ]
  },
  {
   "cell_type": "markdown",
   "metadata": {},
   "source": [
    "### Begin of Update buy table in MySQL database from buy transaction"
   ]
  },
  {
   "cell_type": "code",
   "execution_count": 67,
   "metadata": {},
   "outputs": [
    {
     "name": "stdout",
     "output_type": "stream",
     "text": [
      "\n",
      "SELECT *, volbuy * price AS cost_amt \n",
      "FROM buy\n",
      "WHERE name = 'KCE'\n",
      "\n"
     ]
    },
    {
     "data": {
      "text/html": [
       "<div>\n",
       "<style scoped>\n",
       "    .dataframe tbody tr th:only-of-type {\n",
       "        vertical-align: middle;\n",
       "    }\n",
       "\n",
       "    .dataframe tbody tr th {\n",
       "        vertical-align: top;\n",
       "    }\n",
       "\n",
       "    .dataframe thead th {\n",
       "        text-align: right;\n",
       "    }\n",
       "</style>\n",
       "<table border=\"1\" class=\"dataframe\">\n",
       "  <thead>\n",
       "    <tr style=\"text-align: right;\">\n",
       "      <th></th>\n",
       "      <th>name</th>\n",
       "      <th>date</th>\n",
       "      <th>shares</th>\n",
       "      <th>price</th>\n",
       "      <th>active</th>\n",
       "      <th>dividend</th>\n",
       "      <th>period</th>\n",
       "      <th>grade</th>\n",
       "      <th>cost_amt</th>\n",
       "    </tr>\n",
       "  </thead>\n",
       "  <tbody>\n",
       "    <tr>\n",
       "      <th>0</th>\n",
       "      <td>KCE</td>\n",
       "      <td>2021-10-07</td>\n",
       "      <td>3000</td>\n",
       "      <td>87.0</td>\n",
       "      <td>1</td>\n",
       "      <td>1.2</td>\n",
       "      <td>4</td>\n",
       "      <td>C2</td>\n",
       "      <td>261000.0</td>\n",
       "    </tr>\n",
       "  </tbody>\n",
       "</table>\n",
       "</div>"
      ],
      "text/plain": [
       "  name       date  shares  price  active  dividend period grade  cost_amt\n",
       "0  KCE 2021-10-07    3000   87.0       1       1.2      4    C2  261000.0"
      ]
     },
     "execution_count": 67,
     "metadata": {},
     "output_type": "execute_result"
    }
   ],
   "source": [
    "sql = \"\"\"\n",
    "SELECT *, volbuy * price AS cost_amt \n",
    "FROM buy\n",
    "WHERE name = '%s'\n",
    "\"\"\"\n",
    "sql = sql % name\n",
    "print(sql)\n",
    "\n",
    "buy = pd.read_sql(sql, const)\n",
    "buy['date'] = pd.to_datetime(buy['date'])\n",
    "buy.drop(['volsell', 'volbal'], axis=1, inplace = True)\n",
    "buy.rename(columns={'volbuy':'shares'}, inplace = True)\n",
    "buy['shares'] = buy['shares'].astype('int64')\n",
    "buy"
   ]
  },
  {
   "cell_type": "code",
   "execution_count": 69,
   "metadata": {},
   "outputs": [
    {
     "name": "stdout",
     "output_type": "stream",
     "text": [
      "S KCE -1000 87.0\n"
     ]
    }
   ],
   "source": [
    "print(transaction, name, qty, buy_price)"
   ]
  },
  {
   "cell_type": "code",
   "execution_count": 26,
   "metadata": {},
   "outputs": [
    {
     "name": "stdout",
     "output_type": "stream",
     "text": [
      "290000.0\n",
      "25000\n",
      "11.6\n"
     ]
    }
   ],
   "source": [
    "new_unit_cost = buy['cost_amt'].iloc[0] + (qty * buy_price)\n",
    "new_qty = buy['shares'].iloc[0] + qty\n",
    "print(new_unit_cost)\n",
    "print(new_qty)\n",
    "new_unit_cost = new_unit_cost / new_qty\n",
    "print(new_unit_cost)"
   ]
  },
  {
   "cell_type": "markdown",
   "metadata": {},
   "source": [
    "### In case there is the same stock name in port"
   ]
  },
  {
   "cell_type": "code",
   "execution_count": 28,
   "metadata": {},
   "outputs": [],
   "source": [
    "def update_buy(const, name, new_qty, new_unit_cost):\n",
    "    # Extract scalar values from Pandas Series\n",
    "    new_qty_value = new_qty\n",
    "    new_unit_cost_value = new_unit_cost\n",
    "    \n",
    "    # Use parameterized query to avoid SQL injection\n",
    "    sqlUpd = text(\"\"\"\n",
    "        UPDATE buy\n",
    "        SET volbuy = :new_qty, \n",
    "            price = :new_unit_cost\n",
    "        WHERE name = :name\n",
    "    \"\"\")\n",
    "    \n",
    "    # Execute the query with parameters\n",
    "    rp = const.execute(sqlUpd, {\n",
    "        'new_qty': new_qty_value,  # Use the scalar value\n",
    "        'new_unit_cost': new_unit_cost_value,  # Use the scalar value\n",
    "        'name': name\n",
    "    })\n",
    "\n",
    "    return f\"Records updated = {rp.rowcount}\""
   ]
  },
  {
   "cell_type": "code",
   "execution_count": 30,
   "metadata": {},
   "outputs": [
    {
     "data": {
      "text/plain": [
       "'Records updated = 1'"
      ]
     },
     "execution_count": 30,
     "metadata": {},
     "output_type": "execute_result"
    }
   ],
   "source": [
    "# Example usage\n",
    "update_buy(const, name, new_qty, new_unit_cost)"
   ]
  },
  {
   "cell_type": "code",
   "execution_count": 32,
   "metadata": {},
   "outputs": [
    {
     "name": "stdout",
     "output_type": "stream",
     "text": [
      "\n",
      "SELECT * \n",
      "FROM buy \n",
      "WHERE name = 'WHART'\n",
      "\n"
     ]
    },
    {
     "data": {
      "text/html": [
       "<style type=\"text/css\">\n",
       "</style>\n",
       "<table id=\"T_3c0a2\">\n",
       "  <thead>\n",
       "    <tr>\n",
       "      <th class=\"blank level0\" >&nbsp;</th>\n",
       "      <th id=\"T_3c0a2_level0_col0\" class=\"col_heading level0 col0\" >name</th>\n",
       "      <th id=\"T_3c0a2_level0_col1\" class=\"col_heading level0 col1\" >date</th>\n",
       "      <th id=\"T_3c0a2_level0_col2\" class=\"col_heading level0 col2\" >shares</th>\n",
       "      <th id=\"T_3c0a2_level0_col3\" class=\"col_heading level0 col3\" >price</th>\n",
       "      <th id=\"T_3c0a2_level0_col4\" class=\"col_heading level0 col4\" >active</th>\n",
       "      <th id=\"T_3c0a2_level0_col5\" class=\"col_heading level0 col5\" >dividend</th>\n",
       "      <th id=\"T_3c0a2_level0_col6\" class=\"col_heading level0 col6\" >period</th>\n",
       "      <th id=\"T_3c0a2_level0_col7\" class=\"col_heading level0 col7\" >grade</th>\n",
       "    </tr>\n",
       "  </thead>\n",
       "  <tbody>\n",
       "    <tr>\n",
       "      <th id=\"T_3c0a2_level0_row0\" class=\"row_heading level0 row0\" >0</th>\n",
       "      <td id=\"T_3c0a2_row0_col0\" class=\"data row0 col0\" >WHART</td>\n",
       "      <td id=\"T_3c0a2_row0_col1\" class=\"data row0 col1\" >2022-01-05</td>\n",
       "      <td id=\"T_3c0a2_row0_col2\" class=\"data row0 col2\" >25,000</td>\n",
       "      <td id=\"T_3c0a2_row0_col3\" class=\"data row0 col3\" >11.60</td>\n",
       "      <td id=\"T_3c0a2_row0_col4\" class=\"data row0 col4\" >1</td>\n",
       "      <td id=\"T_3c0a2_row0_col5\" class=\"data row0 col5\" >0.7133</td>\n",
       "      <td id=\"T_3c0a2_row0_col6\" class=\"data row0 col6\" >2</td>\n",
       "      <td id=\"T_3c0a2_row0_col7\" class=\"data row0 col7\" >C1</td>\n",
       "    </tr>\n",
       "  </tbody>\n",
       "</table>\n"
      ],
      "text/plain": [
       "<pandas.io.formats.style.Styler at 0x266f666be60>"
      ]
     },
     "execution_count": 32,
     "metadata": {},
     "output_type": "execute_result"
    }
   ],
   "source": [
    "sql = \"\"\"\n",
    "SELECT * \n",
    "FROM buy \n",
    "WHERE name = '%s'\n",
    "\"\"\"\n",
    "sql = sql % name\n",
    "print(sql)\n",
    "\n",
    "buy = pd.read_sql(sql, const)\n",
    "buy.drop(['volsell', 'volbal'], axis=1, inplace=True)\n",
    "buy.rename(columns={'volbuy':'shares'},inplace=True)\n",
    "buy['shares'] = buy['shares'].astype('int64')\n",
    "buy.style.format(format_dict)"
   ]
  },
  {
   "cell_type": "markdown",
   "metadata": {},
   "source": [
    "### In case of totally new stock"
   ]
  },
  {
   "cell_type": "code",
   "execution_count": 11,
   "metadata": {},
   "outputs": [
    {
     "data": {
      "text/plain": [
       "['TVO', '2024-11-06', 4000, 24.9, 0, 0, 1, 0, 4, 'A2']"
      ]
     },
     "execution_count": 11,
     "metadata": {},
     "output_type": "execute_result"
    }
   ],
   "source": [
    "rcd = ['TVO', '2024-11-06', 4000, 24.90, 0, 0, 1, 0, 4,'A2']\n",
    "rcd"
   ]
  },
  {
   "cell_type": "code",
   "execution_count": 12,
   "metadata": {},
   "outputs": [
    {
     "name": "stdout",
     "output_type": "stream",
     "text": [
      "\n",
      "INSERT INTO buy (name, date, volbuy, price, volsell, volbal, active, dividend, period, grade)\n",
      "VALUES (%s, %s, %s, %s, %s, %s, %s, %s, %s, %s)\n",
      "\n"
     ]
    }
   ],
   "source": [
    "sqlIns = \"\"\"\n",
    "INSERT INTO buy (name, date, volbuy, price, volsell, volbal, active, dividend, period, grade)\n",
    "VALUES (%s, %s, %s, %s, %s, %s, %s, %s, %s, %s)\n",
    "\"\"\"\n",
    "print(sqlIns)"
   ]
  },
  {
   "cell_type": "code",
   "execution_count": 13,
   "metadata": {},
   "outputs": [
    {
     "data": {
      "text/plain": [
       "1"
      ]
     },
     "execution_count": 13,
     "metadata": {},
     "output_type": "execute_result"
    }
   ],
   "source": [
    "rp = const.execute(sqlIns, rcd)\n",
    "rp.rowcount"
   ]
  },
  {
   "cell_type": "code",
   "execution_count": 15,
   "metadata": {},
   "outputs": [],
   "source": [
    "name = 'TVO'"
   ]
  },
  {
   "cell_type": "code",
   "execution_count": 16,
   "metadata": {},
   "outputs": [
    {
     "name": "stdout",
     "output_type": "stream",
     "text": [
      "\n",
      "SELECT * \n",
      "FROM buy \n",
      "WHERE name = 'TVO'\n",
      "\n"
     ]
    },
    {
     "data": {
      "text/html": [
       "<style type=\"text/css\">\n",
       "</style>\n",
       "<table id=\"T_84260_\">\n",
       "  <thead>\n",
       "    <tr>\n",
       "      <th class=\"blank level0\" >&nbsp;</th>\n",
       "      <th class=\"col_heading level0 col0\" >name</th>\n",
       "      <th class=\"col_heading level0 col1\" >date</th>\n",
       "      <th class=\"col_heading level0 col2\" >shares</th>\n",
       "      <th class=\"col_heading level0 col3\" >price</th>\n",
       "      <th class=\"col_heading level0 col4\" >active</th>\n",
       "      <th class=\"col_heading level0 col5\" >dividend</th>\n",
       "      <th class=\"col_heading level0 col6\" >period</th>\n",
       "      <th class=\"col_heading level0 col7\" >grade</th>\n",
       "    </tr>\n",
       "  </thead>\n",
       "  <tbody>\n",
       "    <tr>\n",
       "      <th id=\"T_84260_level0_row0\" class=\"row_heading level0 row0\" >0</th>\n",
       "      <td id=\"T_84260_row0_col0\" class=\"data row0 col0\" >TVO</td>\n",
       "      <td id=\"T_84260_row0_col1\" class=\"data row0 col1\" >2024-11-06</td>\n",
       "      <td id=\"T_84260_row0_col2\" class=\"data row0 col2\" >4,000</td>\n",
       "      <td id=\"T_84260_row0_col3\" class=\"data row0 col3\" >24.90</td>\n",
       "      <td id=\"T_84260_row0_col4\" class=\"data row0 col4\" >1</td>\n",
       "      <td id=\"T_84260_row0_col5\" class=\"data row0 col5\" >0.0000</td>\n",
       "      <td id=\"T_84260_row0_col6\" class=\"data row0 col6\" >4</td>\n",
       "      <td id=\"T_84260_row0_col7\" class=\"data row0 col7\" >A2</td>\n",
       "    </tr>\n",
       "  </tbody>\n",
       "</table>\n"
      ],
      "text/plain": [
       "<pandas.io.formats.style.Styler at 0x26b126a0a00>"
      ]
     },
     "execution_count": 16,
     "metadata": {},
     "output_type": "execute_result"
    }
   ],
   "source": [
    "sql = \"\"\"\n",
    "SELECT * \n",
    "FROM buy \n",
    "WHERE name = '%s'\n",
    "\"\"\"\n",
    "sql = sql % name\n",
    "print(sql)\n",
    "\n",
    "buy = pd.read_sql(sql, const)\n",
    "buy.drop(['volsell', 'volbal'], axis=1, inplace=True)\n",
    "buy.rename(columns={'volbuy':'shares'},inplace=True)\n",
    "buy['shares'] = buy['shares'].astype('int64')\n",
    "buy.style.format(format_dict)"
   ]
  },
  {
   "cell_type": "markdown",
   "metadata": {},
   "source": [
    "### End of Update buy table in MySQL database from buy transaction"
   ]
  },
  {
   "cell_type": "markdown",
   "metadata": {},
   "source": [
    "### Begin of Update dividend table in MySQL stock database from buy transaction"
   ]
  },
  {
   "cell_type": "code",
   "execution_count": 34,
   "metadata": {},
   "outputs": [
    {
     "name": "stdout",
     "output_type": "stream",
     "text": [
      "\n",
      "SELECT * \n",
      "FROM dividend \n",
      "WHERE name = 'WHART' \n",
      "\n"
     ]
    },
    {
     "data": {
      "text/html": [
       "<style type=\"text/css\">\n",
       "</style>\n",
       "<table id=\"T_5d23d\">\n",
       "  <thead>\n",
       "    <tr>\n",
       "      <th class=\"blank level0\" >&nbsp;</th>\n",
       "      <th id=\"T_5d23d_level0_col0\" class=\"col_heading level0 col0\" >name</th>\n",
       "      <th id=\"T_5d23d_level0_col1\" class=\"col_heading level0 col1\" >q4</th>\n",
       "      <th id=\"T_5d23d_level0_col2\" class=\"col_heading level0 col2\" >q3</th>\n",
       "      <th id=\"T_5d23d_level0_col3\" class=\"col_heading level0 col3\" >q2</th>\n",
       "      <th id=\"T_5d23d_level0_col4\" class=\"col_heading level0 col4\" >q1</th>\n",
       "      <th id=\"T_5d23d_level0_col5\" class=\"col_heading level0 col5\" >dividend</th>\n",
       "      <th id=\"T_5d23d_level0_col6\" class=\"col_heading level0 col6\" >shares</th>\n",
       "      <th id=\"T_5d23d_level0_col7\" class=\"col_heading level0 col7\" >xdate</th>\n",
       "      <th id=\"T_5d23d_level0_col8\" class=\"col_heading level0 col8\" >paiddate</th>\n",
       "      <th id=\"T_5d23d_level0_col9\" class=\"col_heading level0 col9\" >kind</th>\n",
       "      <th id=\"T_5d23d_level0_col10\" class=\"col_heading level0 col10\" >actual</th>\n",
       "    </tr>\n",
       "  </thead>\n",
       "  <tbody>\n",
       "    <tr>\n",
       "      <th id=\"T_5d23d_level0_row0\" class=\"row_heading level0 row0\" >0</th>\n",
       "      <td id=\"T_5d23d_row0_col0\" class=\"data row0 col0\" >WHART</td>\n",
       "      <td id=\"T_5d23d_row0_col1\" class=\"data row0 col1\" >0.1358</td>\n",
       "      <td id=\"T_5d23d_row0_col2\" class=\"data row0 col2\" >0.1930</td>\n",
       "      <td id=\"T_5d23d_row0_col3\" class=\"data row0 col3\" >0.1930</td>\n",
       "      <td id=\"T_5d23d_row0_col4\" class=\"data row0 col4\" >0.1915</td>\n",
       "      <td id=\"T_5d23d_row0_col5\" class=\"data row0 col5\" >0.7133</td>\n",
       "      <td id=\"T_5d23d_row0_col6\" class=\"data row0 col6\" >20,000</td>\n",
       "      <td id=\"T_5d23d_row0_col7\" class=\"data row0 col7\" >2025-05-19</td>\n",
       "      <td id=\"T_5d23d_row0_col8\" class=\"data row0 col8\" >2025-06-06</td>\n",
       "      <td id=\"T_5d23d_row0_col9\" class=\"data row0 col9\" ></td>\n",
       "      <td id=\"T_5d23d_row0_col10\" class=\"data row0 col10\" >0</td>\n",
       "    </tr>\n",
       "  </tbody>\n",
       "</table>\n"
      ],
      "text/plain": [
       "<pandas.io.formats.style.Styler at 0x266f666bf50>"
      ]
     },
     "execution_count": 34,
     "metadata": {},
     "output_type": "execute_result"
    }
   ],
   "source": [
    "sql = \"\"\"\n",
    "SELECT * \n",
    "FROM dividend \n",
    "WHERE name = '%s' \n",
    "\"\"\"\n",
    "sql = sql % name\n",
    "print(sql)\n",
    "\n",
    "dividend = pd.read_sql(sql, const)\n",
    "dividend.drop(['PRICE', 'PERCENT'], axis=1, inplace=True)\n",
    "dividend.columns = dividend.columns.str.lower()\n",
    "dividend['shares'] = dividend['shares'].astype('int64')\n",
    "dividend['xdate'] = pd.to_datetime(dividend['xdate'])\n",
    "dividend['paiddate'] = pd.to_datetime(dividend['paiddate'])\n",
    "dividend.style.format(format_dict)"
   ]
  },
  {
   "cell_type": "code",
   "execution_count": 36,
   "metadata": {},
   "outputs": [
    {
     "name": "stdout",
     "output_type": "stream",
     "text": [
      "25000\n"
     ]
    }
   ],
   "source": [
    "new_qty = dividend['shares'].iloc[0] + qty\n",
    "print(new_qty)"
   ]
  },
  {
   "cell_type": "code",
   "execution_count": 38,
   "metadata": {},
   "outputs": [],
   "source": [
    "def update_dividend(const, name, new_qty):\n",
    "    # Extract scalar values from Pandas Series\n",
    "    new_qty_value = new_qty  \n",
    "    # Use parameterized query to avoid SQL injection\n",
    "    sqlUpd = text(\"\"\"\n",
    "        UPDATE dividend\n",
    "        SET shares = :new_qty\n",
    "        WHERE name = :name\n",
    "    \"\"\")\n",
    "    \n",
    "    # Execute the query with parameters\n",
    "    rp = const.execute(sqlUpd, {\n",
    "        'new_qty': new_qty_value,  # Use the scalar value\n",
    "        'name': name\n",
    "    })\n",
    "\n",
    "    return f\"Records updated = {rp.rowcount}\""
   ]
  },
  {
   "cell_type": "code",
   "execution_count": 40,
   "metadata": {},
   "outputs": [
    {
     "data": {
      "text/plain": [
       "'Records updated = 1'"
      ]
     },
     "execution_count": 40,
     "metadata": {},
     "output_type": "execute_result"
    }
   ],
   "source": [
    "update_dividend(const, name, new_qty)"
   ]
  },
  {
   "cell_type": "code",
   "execution_count": 42,
   "metadata": {},
   "outputs": [
    {
     "name": "stdout",
     "output_type": "stream",
     "text": [
      "\n",
      "SELECT * \n",
      "FROM dividend \n",
      "WHERE name = 'WHART' \n",
      "\n"
     ]
    },
    {
     "data": {
      "text/html": [
       "<style type=\"text/css\">\n",
       "</style>\n",
       "<table id=\"T_e0d19\">\n",
       "  <thead>\n",
       "    <tr>\n",
       "      <th class=\"blank level0\" >&nbsp;</th>\n",
       "      <th id=\"T_e0d19_level0_col0\" class=\"col_heading level0 col0\" >name</th>\n",
       "      <th id=\"T_e0d19_level0_col1\" class=\"col_heading level0 col1\" >q4</th>\n",
       "      <th id=\"T_e0d19_level0_col2\" class=\"col_heading level0 col2\" >q3</th>\n",
       "      <th id=\"T_e0d19_level0_col3\" class=\"col_heading level0 col3\" >q2</th>\n",
       "      <th id=\"T_e0d19_level0_col4\" class=\"col_heading level0 col4\" >q1</th>\n",
       "      <th id=\"T_e0d19_level0_col5\" class=\"col_heading level0 col5\" >dividend</th>\n",
       "      <th id=\"T_e0d19_level0_col6\" class=\"col_heading level0 col6\" >shares</th>\n",
       "      <th id=\"T_e0d19_level0_col7\" class=\"col_heading level0 col7\" >xdate</th>\n",
       "      <th id=\"T_e0d19_level0_col8\" class=\"col_heading level0 col8\" >paiddate</th>\n",
       "      <th id=\"T_e0d19_level0_col9\" class=\"col_heading level0 col9\" >kind</th>\n",
       "      <th id=\"T_e0d19_level0_col10\" class=\"col_heading level0 col10\" >actual</th>\n",
       "    </tr>\n",
       "  </thead>\n",
       "  <tbody>\n",
       "    <tr>\n",
       "      <th id=\"T_e0d19_level0_row0\" class=\"row_heading level0 row0\" >0</th>\n",
       "      <td id=\"T_e0d19_row0_col0\" class=\"data row0 col0\" >WHART</td>\n",
       "      <td id=\"T_e0d19_row0_col1\" class=\"data row0 col1\" >0.1358</td>\n",
       "      <td id=\"T_e0d19_row0_col2\" class=\"data row0 col2\" >0.1930</td>\n",
       "      <td id=\"T_e0d19_row0_col3\" class=\"data row0 col3\" >0.1930</td>\n",
       "      <td id=\"T_e0d19_row0_col4\" class=\"data row0 col4\" >0.1915</td>\n",
       "      <td id=\"T_e0d19_row0_col5\" class=\"data row0 col5\" >0.7133</td>\n",
       "      <td id=\"T_e0d19_row0_col6\" class=\"data row0 col6\" >25,000</td>\n",
       "      <td id=\"T_e0d19_row0_col7\" class=\"data row0 col7\" >2025-05-19</td>\n",
       "      <td id=\"T_e0d19_row0_col8\" class=\"data row0 col8\" >2025-06-06</td>\n",
       "      <td id=\"T_e0d19_row0_col9\" class=\"data row0 col9\" ></td>\n",
       "      <td id=\"T_e0d19_row0_col10\" class=\"data row0 col10\" >0</td>\n",
       "    </tr>\n",
       "  </tbody>\n",
       "</table>\n"
      ],
      "text/plain": [
       "<pandas.io.formats.style.Styler at 0x266f65d90a0>"
      ]
     },
     "execution_count": 42,
     "metadata": {},
     "output_type": "execute_result"
    }
   ],
   "source": [
    "sql = \"\"\"\n",
    "SELECT * \n",
    "FROM dividend \n",
    "WHERE name = '%s' \n",
    "\"\"\"\n",
    "sql = sql % name\n",
    "print(sql)\n",
    "\n",
    "dividend = pd.read_sql(sql, const)\n",
    "dividend.drop(['PRICE', 'PERCENT'], axis=1, inplace=True)\n",
    "dividend.columns = dividend.columns.str.lower()\n",
    "dividend['shares'] = dividend['shares'].astype('int64')\n",
    "dividend['xdate'] = pd.to_datetime(dividend['xdate'])\n",
    "dividend['paiddate'] = pd.to_datetime(dividend['paiddate'])\n",
    "dividend.style.format(format_dict)"
   ]
  },
  {
   "cell_type": "markdown",
   "metadata": {},
   "source": [
    "### In case of totally new stock"
   ]
  },
  {
   "cell_type": "code",
   "execution_count": 15,
   "metadata": {},
   "outputs": [
    {
     "data": {
      "text/plain": [
       "['TOA', 0.25, 0, 0.33, 0, 0.58, 1000, '2023-08-30', '2023-09-14', '', 1]"
      ]
     },
     "execution_count": 15,
     "metadata": {},
     "output_type": "execute_result"
    }
   ],
   "source": [
    "rcd = ['TVO', 0.25, 0, 0.33, 0, 0.58, 1000, '2023-08-30', '2023-09-14', '', 1]\n",
    "rcd"
   ]
  },
  {
   "cell_type": "code",
   "execution_count": 15,
   "metadata": {},
   "outputs": [
    {
     "name": "stdout",
     "output_type": "stream",
     "text": [
      "\n",
      "INSERT INTO dividend (name, q4, q3, q2, q1, dividend, shares, xdate, paiddate, kind, actual)\n",
      "VALUES (%s, %s, %s, %s, %s, %s, %s, %s, %s, %s, %s)\n",
      "\n"
     ]
    }
   ],
   "source": [
    "sqlIns = \"\"\"\n",
    "INSERT INTO dividend (name, q4, q3, q2, q1, dividend, shares, xdate, paiddate, kind, actual)\n",
    "VALUES (%s, %s, %s, %s, %s, %s, %s, %s, %s, %s, %s)\n",
    "\"\"\"\n",
    "print(sqlIns)"
   ]
  },
  {
   "cell_type": "code",
   "execution_count": 16,
   "metadata": {},
   "outputs": [
    {
     "data": {
      "text/plain": [
       "1"
      ]
     },
     "execution_count": 16,
     "metadata": {},
     "output_type": "execute_result"
    }
   ],
   "source": [
    "rp = const.execute(sqlIns, rcd)\n",
    "rp.rowcount"
   ]
  },
  {
   "cell_type": "code",
   "execution_count": 17,
   "metadata": {},
   "outputs": [
    {
     "name": "stdout",
     "output_type": "stream",
     "text": [
      "\n",
      "SELECT * \n",
      "FROM dividend \n",
      "WHERE name = 'TOA' \n",
      "\n"
     ]
    },
    {
     "data": {
      "text/html": [
       "<style type=\"text/css\">\n",
       "</style>\n",
       "<table id=\"T_11606_\">\n",
       "  <thead>\n",
       "    <tr>\n",
       "      <th class=\"blank level0\" >&nbsp;</th>\n",
       "      <th class=\"col_heading level0 col0\" >name</th>\n",
       "      <th class=\"col_heading level0 col1\" >q4</th>\n",
       "      <th class=\"col_heading level0 col2\" >q3</th>\n",
       "      <th class=\"col_heading level0 col3\" >q2</th>\n",
       "      <th class=\"col_heading level0 col4\" >q1</th>\n",
       "      <th class=\"col_heading level0 col5\" >dividend</th>\n",
       "      <th class=\"col_heading level0 col6\" >shares</th>\n",
       "      <th class=\"col_heading level0 col7\" >xdate</th>\n",
       "      <th class=\"col_heading level0 col8\" >paiddate</th>\n",
       "      <th class=\"col_heading level0 col9\" >kind</th>\n",
       "      <th class=\"col_heading level0 col10\" >actual</th>\n",
       "    </tr>\n",
       "  </thead>\n",
       "  <tbody>\n",
       "    <tr>\n",
       "      <th id=\"T_11606_level0_row0\" class=\"row_heading level0 row0\" >0</th>\n",
       "      <td id=\"T_11606_row0_col0\" class=\"data row0 col0\" >TOA</td>\n",
       "      <td id=\"T_11606_row0_col1\" class=\"data row0 col1\" >0.2500</td>\n",
       "      <td id=\"T_11606_row0_col2\" class=\"data row0 col2\" >0.0000</td>\n",
       "      <td id=\"T_11606_row0_col3\" class=\"data row0 col3\" >0.3300</td>\n",
       "      <td id=\"T_11606_row0_col4\" class=\"data row0 col4\" >0.0000</td>\n",
       "      <td id=\"T_11606_row0_col5\" class=\"data row0 col5\" >0.5800</td>\n",
       "      <td id=\"T_11606_row0_col6\" class=\"data row0 col6\" >1,000</td>\n",
       "      <td id=\"T_11606_row0_col7\" class=\"data row0 col7\" >2023-08-30</td>\n",
       "      <td id=\"T_11606_row0_col8\" class=\"data row0 col8\" >2023-09-14</td>\n",
       "      <td id=\"T_11606_row0_col9\" class=\"data row0 col9\" ></td>\n",
       "      <td id=\"T_11606_row0_col10\" class=\"data row0 col10\" >1</td>\n",
       "    </tr>\n",
       "  </tbody>\n",
       "</table>\n"
      ],
      "text/plain": [
       "<pandas.io.formats.style.Styler at 0x1880f06adf0>"
      ]
     },
     "execution_count": 17,
     "metadata": {},
     "output_type": "execute_result"
    }
   ],
   "source": [
    "sql = \"\"\"\n",
    "SELECT * \n",
    "FROM dividend \n",
    "WHERE name = '%s' \n",
    "\"\"\"\n",
    "sql = sql % name\n",
    "print(sql)\n",
    "\n",
    "dividend = pd.read_sql(sql, const)\n",
    "dividend.drop(['PRICE', 'PERCENT'], axis=1, inplace=True)\n",
    "dividend.columns = dividend.columns.str.lower()\n",
    "dividend['shares'] = dividend['shares'].astype('int64')\n",
    "dividend['xdate'] = pd.to_datetime(dividend['xdate'])\n",
    "dividend['paiddate'] = pd.to_datetime(dividend['paiddate'])\n",
    "dividend.style.format(format_dict)"
   ]
  },
  {
   "cell_type": "markdown",
   "metadata": {},
   "source": [
    "### End of Create dividend table in MySQL stock database from buy transaction"
   ]
  },
  {
   "cell_type": "markdown",
   "metadata": {},
   "source": [
    "### Begin of Update stocks table in SQLite port_lite database from buy transaction"
   ]
  },
  {
   "cell_type": "code",
   "execution_count": 44,
   "metadata": {
    "scrolled": true
   },
   "outputs": [
    {
     "name": "stdout",
     "output_type": "stream",
     "text": [
      "\n",
      "SELECT * \n",
      "FROM stocks \n",
      "WHERE name = 'WHART'\n",
      "\n"
     ]
    },
    {
     "data": {
      "text/html": [
       "<div>\n",
       "<style scoped>\n",
       "    .dataframe tbody tr th:only-of-type {\n",
       "        vertical-align: middle;\n",
       "    }\n",
       "\n",
       "    .dataframe tbody tr th {\n",
       "        vertical-align: top;\n",
       "    }\n",
       "\n",
       "    .dataframe thead th {\n",
       "        text-align: right;\n",
       "    }\n",
       "</style>\n",
       "<table border=\"1\" class=\"dataframe\">\n",
       "  <thead>\n",
       "    <tr style=\"text-align: right;\">\n",
       "      <th></th>\n",
       "      <th>id</th>\n",
       "      <th>name</th>\n",
       "      <th>max_price</th>\n",
       "      <th>min_price</th>\n",
       "      <th>status</th>\n",
       "      <th>buy_target</th>\n",
       "      <th>sell_target</th>\n",
       "      <th>volume</th>\n",
       "      <th>beta</th>\n",
       "      <th>cost</th>\n",
       "      <th>qty</th>\n",
       "      <th>buy_spread</th>\n",
       "      <th>sell_spread</th>\n",
       "      <th>available_qty</th>\n",
       "      <th>bl</th>\n",
       "      <th>sh</th>\n",
       "      <th>reason</th>\n",
       "      <th>market</th>\n",
       "    </tr>\n",
       "  </thead>\n",
       "  <tbody>\n",
       "    <tr>\n",
       "      <th>0</th>\n",
       "      <td>149</td>\n",
       "      <td>WHART</td>\n",
       "      <td>0.0</td>\n",
       "      <td>0.0</td>\n",
       "      <td>B</td>\n",
       "      <td>8.8</td>\n",
       "      <td>12.1</td>\n",
       "      <td>0.0</td>\n",
       "      <td>0.0</td>\n",
       "      <td>12.3</td>\n",
       "      <td>5000</td>\n",
       "      <td>-4</td>\n",
       "      <td>4</td>\n",
       "      <td>20000</td>\n",
       "      <td>8.6</td>\n",
       "      <td>11.74</td>\n",
       "      <td>RD30Pct</td>\n",
       "      <td>SET</td>\n",
       "    </tr>\n",
       "  </tbody>\n",
       "</table>\n",
       "</div>"
      ],
      "text/plain": [
       "    id   name  max_price  min_price status  buy_target  sell_target  volume  \\\n",
       "0  149  WHART        0.0        0.0      B         8.8         12.1     0.0   \n",
       "\n",
       "   beta  cost   qty  buy_spread  sell_spread  available_qty   bl     sh  \\\n",
       "0   0.0  12.3  5000          -4            4          20000  8.6  11.74   \n",
       "\n",
       "    reason market  \n",
       "0  RD30Pct    SET  "
      ]
     },
     "execution_count": 44,
     "metadata": {},
     "output_type": "execute_result"
    }
   ],
   "source": [
    "sql = \"\"\"\n",
    "SELECT * \n",
    "FROM stocks \n",
    "WHERE name = '%s'\n",
    "\"\"\"\n",
    "sql = sql % name\n",
    "print(sql)\n",
    "\n",
    "stock = pd.read_sql(sql, conlite)\n",
    "stock"
   ]
  },
  {
   "cell_type": "code",
   "execution_count": 46,
   "metadata": {},
   "outputs": [
    {
     "name": "stdout",
     "output_type": "stream",
     "text": [
      "B WHART 5000 8.8 8.0 9.7 5000\n"
     ]
    }
   ],
   "source": [
    "#\n",
    "new_buy_target = 8.00\n",
    "new_sell_target = 9.7\n",
    "new_buy_qty = 5_000\n",
    "print(transaction, name, qty, buy_price, new_buy_target, new_sell_target, new_buy_qty) "
   ]
  },
  {
   "cell_type": "code",
   "execution_count": 48,
   "metadata": {},
   "outputs": [
    {
     "name": "stdout",
     "output_type": "stream",
     "text": [
      "25000\n"
     ]
    }
   ],
   "source": [
    "print(new_qty)"
   ]
  },
  {
   "cell_type": "code",
   "execution_count": 50,
   "metadata": {},
   "outputs": [
    {
     "name": "stdout",
     "output_type": "stream",
     "text": [
      "11.6\n"
     ]
    }
   ],
   "source": [
    "print(new_unit_cost)"
   ]
  },
  {
   "cell_type": "code",
   "execution_count": 52,
   "metadata": {},
   "outputs": [],
   "source": [
    "def update_stock(conlite, name, new_qty, new_unit_cost, new_buy_target, new_sell_target, new_buy_qty):\n",
    "    # Extract scalar values from Pandas Series\n",
    "    new_qty_value = int(new_qty)\n",
    "    new_unit_cost_value = float(new_unit_cost)   \n",
    "    # Use parameterized query to avoid SQL injection\n",
    "    sqlUpd = text(\"\"\"\n",
    "        UPDATE stocks\n",
    "        SET available_qty = :new_qty, \n",
    "            cost = :new_unit_cost,\n",
    "            buy_target = :new_buy_target,\n",
    "            sell_target = :new_sell_target,    \n",
    "            qty = :new_buy_qty\n",
    "        WHERE name = :name\n",
    "    \"\"\")    \n",
    "    # Execute the query with parameters\n",
    "    rp = conlite.execute(sqlUpd, {\n",
    "        'new_qty': new_qty_value,  # Use the scalar value\n",
    "        'new_unit_cost': new_unit_cost_value, # Use the scalar value \n",
    "        'new_buy_target': new_buy_target,\n",
    "        'new_sell_target': new_sell_target,     \n",
    "        'new_buy_qty': new_buy_qty,\n",
    "        'name': name\n",
    "    })\n",
    "    return f\"Records updated = {rp.rowcount}\""
   ]
  },
  {
   "cell_type": "code",
   "execution_count": 54,
   "metadata": {},
   "outputs": [
    {
     "data": {
      "text/plain": [
       "'Records updated = 1'"
      ]
     },
     "execution_count": 54,
     "metadata": {},
     "output_type": "execute_result"
    }
   ],
   "source": [
    "# Example usage\n",
    "update_stock(conlite, name, new_qty, new_unit_cost, new_buy_target, new_sell_target, new_buy_qty)"
   ]
  },
  {
   "cell_type": "code",
   "execution_count": 56,
   "metadata": {},
   "outputs": [
    {
     "name": "stdout",
     "output_type": "stream",
     "text": [
      "\n",
      "SELECT * \n",
      "FROM stocks \n",
      "WHERE name = 'WHART'\n",
      "\n"
     ]
    },
    {
     "data": {
      "text/html": [
       "<div>\n",
       "<style scoped>\n",
       "    .dataframe tbody tr th:only-of-type {\n",
       "        vertical-align: middle;\n",
       "    }\n",
       "\n",
       "    .dataframe tbody tr th {\n",
       "        vertical-align: top;\n",
       "    }\n",
       "\n",
       "    .dataframe thead th {\n",
       "        text-align: right;\n",
       "    }\n",
       "</style>\n",
       "<table border=\"1\" class=\"dataframe\">\n",
       "  <thead>\n",
       "    <tr style=\"text-align: right;\">\n",
       "      <th></th>\n",
       "      <th>id</th>\n",
       "      <th>name</th>\n",
       "      <th>max_price</th>\n",
       "      <th>min_price</th>\n",
       "      <th>status</th>\n",
       "      <th>buy_target</th>\n",
       "      <th>sell_target</th>\n",
       "      <th>volume</th>\n",
       "      <th>beta</th>\n",
       "      <th>cost</th>\n",
       "      <th>qty</th>\n",
       "      <th>buy_spread</th>\n",
       "      <th>sell_spread</th>\n",
       "      <th>available_qty</th>\n",
       "      <th>bl</th>\n",
       "      <th>sh</th>\n",
       "      <th>reason</th>\n",
       "      <th>market</th>\n",
       "    </tr>\n",
       "  </thead>\n",
       "  <tbody>\n",
       "    <tr>\n",
       "      <th>0</th>\n",
       "      <td>149</td>\n",
       "      <td>WHART</td>\n",
       "      <td>0.0</td>\n",
       "      <td>0.0</td>\n",
       "      <td>B</td>\n",
       "      <td>8.0</td>\n",
       "      <td>9.7</td>\n",
       "      <td>0.0</td>\n",
       "      <td>0.0</td>\n",
       "      <td>11.6</td>\n",
       "      <td>5000</td>\n",
       "      <td>-4</td>\n",
       "      <td>4</td>\n",
       "      <td>25000</td>\n",
       "      <td>8.6</td>\n",
       "      <td>11.74</td>\n",
       "      <td>RD30Pct</td>\n",
       "      <td>SET</td>\n",
       "    </tr>\n",
       "  </tbody>\n",
       "</table>\n",
       "</div>"
      ],
      "text/plain": [
       "    id   name  max_price  min_price status  buy_target  sell_target  volume  \\\n",
       "0  149  WHART        0.0        0.0      B         8.0          9.7     0.0   \n",
       "\n",
       "   beta  cost   qty  buy_spread  sell_spread  available_qty   bl     sh  \\\n",
       "0   0.0  11.6  5000          -4            4          25000  8.6  11.74   \n",
       "\n",
       "    reason market  \n",
       "0  RD30Pct    SET  "
      ]
     },
     "execution_count": 56,
     "metadata": {},
     "output_type": "execute_result"
    }
   ],
   "source": [
    "sql = \"\"\"\n",
    "SELECT * \n",
    "FROM stocks \n",
    "WHERE name = '%s'\n",
    "\"\"\"\n",
    "sql = sql % name\n",
    "print(sql)\n",
    "\n",
    "stock = pd.read_sql(sql, conlite)\n",
    "stock"
   ]
  },
  {
   "cell_type": "markdown",
   "metadata": {},
   "source": [
    "### End of Update stocks table in SQLite port_lite database from buy transaction"
   ]
  },
  {
   "cell_type": "markdown",
   "metadata": {},
   "source": [
    "## End of  Buy process"
   ]
  },
  {
   "cell_type": "markdown",
   "metadata": {},
   "source": [
    "### ================================================="
   ]
  },
  {
   "cell_type": "code",
   "execution_count": 123,
   "metadata": {},
   "outputs": [
    {
     "name": "stdout",
     "output_type": "stream",
     "text": [
      "SELECT period, buy.grade AS grade, buy.name AS name, buy.date AS date, FORMAT(volbuy,0) AS volbuy, FORMAT(buy.price,2) AS buy_price, price.price AS mkt_price,FORMAT((volbuy * buy.price),2) AS amtbuy, FORMAT((volbuy * price.price),2) AS amtmkt, FORMAT(((price.price - buy.price) * volbuy),2) AS amtpol, FORMAT((((price.price - buy.price)*volbuy)/(volbuy*buy.price)*100),2) AS pctpol FROM buy INNER JOIN price ON buy.name = price.name WHERE price.date = '2025-07-29' ORDER BY period, buy.name\n"
     ]
    }
   ],
   "source": [
    "#price_date = '2025-02-14'\n",
    "sql = \"SELECT period, buy.grade AS grade, buy.name AS name, buy.date AS date, \\\n",
    "FORMAT(volbuy,0) AS volbuy, FORMAT(buy.price,2) AS buy_price, price.price AS mkt_price,\\\n",
    "FORMAT((volbuy * buy.price),2) AS amtbuy, FORMAT((volbuy * price.price),2) AS amtmkt, \\\n",
    "FORMAT(((price.price - buy.price) * volbuy),2) AS amtpol, \\\n",
    "FORMAT((((price.price - buy.price)*volbuy)/(volbuy*buy.price)*100),2) AS pctpol \\\n",
    "FROM buy INNER JOIN price ON buy.name = price.name WHERE price.date = '%s' \\\n",
    "ORDER BY period, buy.name\"\n",
    "sql = sql % (yesterday)\n",
    "print(sql)"
   ]
  },
  {
   "cell_type": "code",
   "execution_count": 125,
   "metadata": {
    "scrolled": true
   },
   "outputs": [
    {
     "data": {
      "text/html": [
       "<div>\n",
       "<style scoped>\n",
       "    .dataframe tbody tr th:only-of-type {\n",
       "        vertical-align: middle;\n",
       "    }\n",
       "\n",
       "    .dataframe tbody tr th {\n",
       "        vertical-align: top;\n",
       "    }\n",
       "\n",
       "    .dataframe thead th {\n",
       "        text-align: right;\n",
       "    }\n",
       "</style>\n",
       "<table border=\"1\" class=\"dataframe\">\n",
       "  <thead>\n",
       "    <tr style=\"text-align: right;\">\n",
       "      <th></th>\n",
       "      <th>period</th>\n",
       "      <th>grade</th>\n",
       "      <th>name</th>\n",
       "      <th>date</th>\n",
       "      <th>volbuy</th>\n",
       "      <th>buy_price</th>\n",
       "      <th>mkt_price</th>\n",
       "      <th>amtbuy</th>\n",
       "      <th>amtmkt</th>\n",
       "      <th>amtpol</th>\n",
       "      <th>pctpol</th>\n",
       "    </tr>\n",
       "  </thead>\n",
       "  <tbody>\n",
       "    <tr>\n",
       "      <th>0</th>\n",
       "      <td>1</td>\n",
       "      <td>C1</td>\n",
       "      <td>AH</td>\n",
       "      <td>2023-06-08</td>\n",
       "      <td>1,200</td>\n",
       "      <td>37.00</td>\n",
       "      <td>14.80</td>\n",
       "      <td>44,400.00</td>\n",
       "      <td>17,760.00</td>\n",
       "      <td>-26,640.00</td>\n",
       "      <td>-60.00</td>\n",
       "    </tr>\n",
       "    <tr>\n",
       "      <th>1</th>\n",
       "      <td>1</td>\n",
       "      <td>A1</td>\n",
       "      <td>AWC</td>\n",
       "      <td>2023-06-15</td>\n",
       "      <td>9,000</td>\n",
       "      <td>4.96</td>\n",
       "      <td>2.08</td>\n",
       "      <td>44,640.00</td>\n",
       "      <td>18,720.00</td>\n",
       "      <td>-25,920.00</td>\n",
       "      <td>-58.06</td>\n",
       "    </tr>\n",
       "    <tr>\n",
       "      <th>2</th>\n",
       "      <td>1</td>\n",
       "      <td>A2</td>\n",
       "      <td>JMART</td>\n",
       "      <td>2023-01-20</td>\n",
       "      <td>6,800</td>\n",
       "      <td>33.00</td>\n",
       "      <td>7.55</td>\n",
       "      <td>224,400.00</td>\n",
       "      <td>51,340.00</td>\n",
       "      <td>-173,060.00</td>\n",
       "      <td>-77.12</td>\n",
       "    </tr>\n",
       "    <tr>\n",
       "      <th>3</th>\n",
       "      <td>1</td>\n",
       "      <td>C2</td>\n",
       "      <td>ORI</td>\n",
       "      <td>2022-04-07</td>\n",
       "      <td>60,000</td>\n",
       "      <td>8.98</td>\n",
       "      <td>1.90</td>\n",
       "      <td>538,500.00</td>\n",
       "      <td>114,000.00</td>\n",
       "      <td>-424,500.00</td>\n",
       "      <td>-78.83</td>\n",
       "    </tr>\n",
       "    <tr>\n",
       "      <th>4</th>\n",
       "      <td>1</td>\n",
       "      <td>C2</td>\n",
       "      <td>PTTGC</td>\n",
       "      <td>2021-03-17</td>\n",
       "      <td>6,000</td>\n",
       "      <td>64.75</td>\n",
       "      <td>23.90</td>\n",
       "      <td>388,500.00</td>\n",
       "      <td>143,400.00</td>\n",
       "      <td>-245,100.00</td>\n",
       "      <td>-63.09</td>\n",
       "    </tr>\n",
       "    <tr>\n",
       "      <th>5</th>\n",
       "      <td>1</td>\n",
       "      <td>C2</td>\n",
       "      <td>SCC</td>\n",
       "      <td>2021-09-20</td>\n",
       "      <td>600</td>\n",
       "      <td>405.00</td>\n",
       "      <td>205.00</td>\n",
       "      <td>243,000.00</td>\n",
       "      <td>123,000.00</td>\n",
       "      <td>-120,000.00</td>\n",
       "      <td>-49.38</td>\n",
       "    </tr>\n",
       "    <tr>\n",
       "      <th>6</th>\n",
       "      <td>1</td>\n",
       "      <td>A3</td>\n",
       "      <td>SINGER</td>\n",
       "      <td>2023-01-19</td>\n",
       "      <td>6,000</td>\n",
       "      <td>24.80</td>\n",
       "      <td>5.20</td>\n",
       "      <td>148,800.00</td>\n",
       "      <td>31,200.00</td>\n",
       "      <td>-117,600.00</td>\n",
       "      <td>-79.03</td>\n",
       "    </tr>\n",
       "    <tr>\n",
       "      <th>7</th>\n",
       "      <td>2</td>\n",
       "      <td>A1</td>\n",
       "      <td>AIMIRT</td>\n",
       "      <td>2023-08-17</td>\n",
       "      <td>12,500</td>\n",
       "      <td>10.90</td>\n",
       "      <td>9.55</td>\n",
       "      <td>136,250.00</td>\n",
       "      <td>119,375.00</td>\n",
       "      <td>-16,875.00</td>\n",
       "      <td>-12.39</td>\n",
       "    </tr>\n",
       "    <tr>\n",
       "      <th>8</th>\n",
       "      <td>2</td>\n",
       "      <td>C1</td>\n",
       "      <td>CPNREIT</td>\n",
       "      <td>2022-08-16</td>\n",
       "      <td>55,000</td>\n",
       "      <td>18.00</td>\n",
       "      <td>11.50</td>\n",
       "      <td>990,000.00</td>\n",
       "      <td>632,500.00</td>\n",
       "      <td>-357,500.00</td>\n",
       "      <td>-36.11</td>\n",
       "    </tr>\n",
       "    <tr>\n",
       "      <th>9</th>\n",
       "      <td>2</td>\n",
       "      <td>C1</td>\n",
       "      <td>DIF</td>\n",
       "      <td>2020-08-01</td>\n",
       "      <td>40,000</td>\n",
       "      <td>13.10</td>\n",
       "      <td>8.15</td>\n",
       "      <td>524,000.00</td>\n",
       "      <td>326,000.00</td>\n",
       "      <td>-198,000.00</td>\n",
       "      <td>-37.79</td>\n",
       "    </tr>\n",
       "    <tr>\n",
       "      <th>10</th>\n",
       "      <td>2</td>\n",
       "      <td>C1</td>\n",
       "      <td>GVREIT</td>\n",
       "      <td>2022-08-24</td>\n",
       "      <td>75,000</td>\n",
       "      <td>7.64</td>\n",
       "      <td>6.55</td>\n",
       "      <td>573,000.00</td>\n",
       "      <td>491,250.00</td>\n",
       "      <td>-81,750.00</td>\n",
       "      <td>-14.27</td>\n",
       "    </tr>\n",
       "    <tr>\n",
       "      <th>11</th>\n",
       "      <td>2</td>\n",
       "      <td>A4</td>\n",
       "      <td>MCS</td>\n",
       "      <td>2016-09-20</td>\n",
       "      <td>81,000</td>\n",
       "      <td>14.80</td>\n",
       "      <td>8.30</td>\n",
       "      <td>1,198,800.00</td>\n",
       "      <td>672,300.00</td>\n",
       "      <td>-526,500.00</td>\n",
       "      <td>-43.92</td>\n",
       "    </tr>\n",
       "    <tr>\n",
       "      <th>12</th>\n",
       "      <td>2</td>\n",
       "      <td>A1</td>\n",
       "      <td>NER</td>\n",
       "      <td>2021-09-01</td>\n",
       "      <td>32,000</td>\n",
       "      <td>6.90</td>\n",
       "      <td>4.32</td>\n",
       "      <td>220,800.00</td>\n",
       "      <td>138,240.00</td>\n",
       "      <td>-82,560.00</td>\n",
       "      <td>-37.39</td>\n",
       "    </tr>\n",
       "    <tr>\n",
       "      <th>13</th>\n",
       "      <td>2</td>\n",
       "      <td>B1</td>\n",
       "      <td>SENA</td>\n",
       "      <td>2022-03-29</td>\n",
       "      <td>105,000</td>\n",
       "      <td>4.48</td>\n",
       "      <td>1.68</td>\n",
       "      <td>470,400.00</td>\n",
       "      <td>176,400.00</td>\n",
       "      <td>-294,000.00</td>\n",
       "      <td>-62.50</td>\n",
       "    </tr>\n",
       "    <tr>\n",
       "      <th>14</th>\n",
       "      <td>2</td>\n",
       "      <td>C1</td>\n",
       "      <td>TFFIF</td>\n",
       "      <td>2023-07-06</td>\n",
       "      <td>20,000</td>\n",
       "      <td>7.50</td>\n",
       "      <td>5.90</td>\n",
       "      <td>150,000.00</td>\n",
       "      <td>118,000.00</td>\n",
       "      <td>-32,000.00</td>\n",
       "      <td>-21.33</td>\n",
       "    </tr>\n",
       "    <tr>\n",
       "      <th>15</th>\n",
       "      <td>2</td>\n",
       "      <td>B1</td>\n",
       "      <td>WHAIR</td>\n",
       "      <td>2021-10-11</td>\n",
       "      <td>50,000</td>\n",
       "      <td>8.70</td>\n",
       "      <td>5.50</td>\n",
       "      <td>435,000.00</td>\n",
       "      <td>275,000.00</td>\n",
       "      <td>-160,000.00</td>\n",
       "      <td>-36.78</td>\n",
       "    </tr>\n",
       "    <tr>\n",
       "      <th>16</th>\n",
       "      <td>2</td>\n",
       "      <td>C1</td>\n",
       "      <td>WHART</td>\n",
       "      <td>2022-01-05</td>\n",
       "      <td>25,000</td>\n",
       "      <td>11.60</td>\n",
       "      <td>9.30</td>\n",
       "      <td>290,000.00</td>\n",
       "      <td>232,500.00</td>\n",
       "      <td>-57,500.00</td>\n",
       "      <td>-19.83</td>\n",
       "    </tr>\n",
       "    <tr>\n",
       "      <th>17</th>\n",
       "      <td>3</td>\n",
       "      <td>A3</td>\n",
       "      <td>3BBIF</td>\n",
       "      <td>2018-05-17</td>\n",
       "      <td>120,000</td>\n",
       "      <td>10.10</td>\n",
       "      <td>6.10</td>\n",
       "      <td>1,212,000.00</td>\n",
       "      <td>732,000.00</td>\n",
       "      <td>-480,000.00</td>\n",
       "      <td>-39.60</td>\n",
       "    </tr>\n",
       "    <tr>\n",
       "      <th>18</th>\n",
       "      <td>3</td>\n",
       "      <td>B3</td>\n",
       "      <td>BCH</td>\n",
       "      <td>2021-09-07</td>\n",
       "      <td>4,000</td>\n",
       "      <td>21.70</td>\n",
       "      <td>13.90</td>\n",
       "      <td>86,800.00</td>\n",
       "      <td>55,600.00</td>\n",
       "      <td>-31,200.00</td>\n",
       "      <td>-35.94</td>\n",
       "    </tr>\n",
       "    <tr>\n",
       "      <th>19</th>\n",
       "      <td>3</td>\n",
       "      <td>C3</td>\n",
       "      <td>IVL</td>\n",
       "      <td>2022-08-29</td>\n",
       "      <td>7,200</td>\n",
       "      <td>40.00</td>\n",
       "      <td>22.40</td>\n",
       "      <td>288,000.00</td>\n",
       "      <td>161,280.00</td>\n",
       "      <td>-126,720.00</td>\n",
       "      <td>-44.00</td>\n",
       "    </tr>\n",
       "    <tr>\n",
       "      <th>20</th>\n",
       "      <td>3</td>\n",
       "      <td>A3</td>\n",
       "      <td>RCL</td>\n",
       "      <td>2021-11-08</td>\n",
       "      <td>27,000</td>\n",
       "      <td>38.75</td>\n",
       "      <td>29.75</td>\n",
       "      <td>1,046,250.00</td>\n",
       "      <td>803,250.00</td>\n",
       "      <td>-243,000.00</td>\n",
       "      <td>-23.23</td>\n",
       "    </tr>\n",
       "    <tr>\n",
       "      <th>21</th>\n",
       "      <td>3</td>\n",
       "      <td>A4</td>\n",
       "      <td>STA</td>\n",
       "      <td>2021-06-15</td>\n",
       "      <td>10,000</td>\n",
       "      <td>30.00</td>\n",
       "      <td>13.40</td>\n",
       "      <td>300,000.00</td>\n",
       "      <td>134,000.00</td>\n",
       "      <td>-166,000.00</td>\n",
       "      <td>-55.33</td>\n",
       "    </tr>\n",
       "    <tr>\n",
       "      <th>22</th>\n",
       "      <td>3</td>\n",
       "      <td>A1</td>\n",
       "      <td>SYNEX</td>\n",
       "      <td>2022-01-07</td>\n",
       "      <td>15,000</td>\n",
       "      <td>28.70</td>\n",
       "      <td>11.60</td>\n",
       "      <td>430,500.00</td>\n",
       "      <td>174,000.00</td>\n",
       "      <td>-256,500.00</td>\n",
       "      <td>-59.58</td>\n",
       "    </tr>\n",
       "    <tr>\n",
       "      <th>23</th>\n",
       "      <td>3</td>\n",
       "      <td>A4</td>\n",
       "      <td>TVO</td>\n",
       "      <td>2024-11-06</td>\n",
       "      <td>8,000</td>\n",
       "      <td>24.00</td>\n",
       "      <td>22.90</td>\n",
       "      <td>192,000.00</td>\n",
       "      <td>183,200.00</td>\n",
       "      <td>-8,800.00</td>\n",
       "      <td>-4.58</td>\n",
       "    </tr>\n",
       "    <tr>\n",
       "      <th>24</th>\n",
       "      <td>4</td>\n",
       "      <td>C3</td>\n",
       "      <td>JMT</td>\n",
       "      <td>2023-01-26</td>\n",
       "      <td>7,000</td>\n",
       "      <td>37.50</td>\n",
       "      <td>10.60</td>\n",
       "      <td>262,500.00</td>\n",
       "      <td>74,200.00</td>\n",
       "      <td>-188,300.00</td>\n",
       "      <td>-71.73</td>\n",
       "    </tr>\n",
       "    <tr>\n",
       "      <th>25</th>\n",
       "      <td>4</td>\n",
       "      <td>B2</td>\n",
       "      <td>PTG</td>\n",
       "      <td>2023-07-12</td>\n",
       "      <td>3,600</td>\n",
       "      <td>11.40</td>\n",
       "      <td>6.60</td>\n",
       "      <td>41,040.00</td>\n",
       "      <td>23,760.00</td>\n",
       "      <td>-17,280.00</td>\n",
       "      <td>-42.11</td>\n",
       "    </tr>\n",
       "    <tr>\n",
       "      <th>26</th>\n",
       "      <td>4</td>\n",
       "      <td>C1</td>\n",
       "      <td>TOA</td>\n",
       "      <td>2023-09-06</td>\n",
       "      <td>1,000</td>\n",
       "      <td>26.00</td>\n",
       "      <td>13.20</td>\n",
       "      <td>26,000.00</td>\n",
       "      <td>13,200.00</td>\n",
       "      <td>-12,800.00</td>\n",
       "      <td>-49.23</td>\n",
       "    </tr>\n",
       "  </tbody>\n",
       "</table>\n",
       "</div>"
      ],
      "text/plain": [
       "   period grade     name        date   volbuy buy_price  mkt_price  \\\n",
       "0       1    C1       AH  2023-06-08    1,200     37.00      14.80   \n",
       "1       1    A1      AWC  2023-06-15    9,000      4.96       2.08   \n",
       "2       1    A2    JMART  2023-01-20    6,800     33.00       7.55   \n",
       "3       1    C2      ORI  2022-04-07   60,000      8.98       1.90   \n",
       "4       1    C2    PTTGC  2021-03-17    6,000     64.75      23.90   \n",
       "5       1    C2      SCC  2021-09-20      600    405.00     205.00   \n",
       "6       1    A3   SINGER  2023-01-19    6,000     24.80       5.20   \n",
       "7       2    A1   AIMIRT  2023-08-17   12,500     10.90       9.55   \n",
       "8       2    C1  CPNREIT  2022-08-16   55,000     18.00      11.50   \n",
       "9       2    C1      DIF  2020-08-01   40,000     13.10       8.15   \n",
       "10      2    C1   GVREIT  2022-08-24   75,000      7.64       6.55   \n",
       "11      2    A4      MCS  2016-09-20   81,000     14.80       8.30   \n",
       "12      2    A1      NER  2021-09-01   32,000      6.90       4.32   \n",
       "13      2    B1     SENA  2022-03-29  105,000      4.48       1.68   \n",
       "14      2    C1    TFFIF  2023-07-06   20,000      7.50       5.90   \n",
       "15      2    B1    WHAIR  2021-10-11   50,000      8.70       5.50   \n",
       "16      2    C1    WHART  2022-01-05   25,000     11.60       9.30   \n",
       "17      3    A3    3BBIF  2018-05-17  120,000     10.10       6.10   \n",
       "18      3    B3      BCH  2021-09-07    4,000     21.70      13.90   \n",
       "19      3    C3      IVL  2022-08-29    7,200     40.00      22.40   \n",
       "20      3    A3      RCL  2021-11-08   27,000     38.75      29.75   \n",
       "21      3    A4      STA  2021-06-15   10,000     30.00      13.40   \n",
       "22      3    A1    SYNEX  2022-01-07   15,000     28.70      11.60   \n",
       "23      3    A4      TVO  2024-11-06    8,000     24.00      22.90   \n",
       "24      4    C3      JMT  2023-01-26    7,000     37.50      10.60   \n",
       "25      4    B2      PTG  2023-07-12    3,600     11.40       6.60   \n",
       "26      4    C1      TOA  2023-09-06    1,000     26.00      13.20   \n",
       "\n",
       "          amtbuy      amtmkt       amtpol  pctpol  \n",
       "0      44,400.00   17,760.00   -26,640.00  -60.00  \n",
       "1      44,640.00   18,720.00   -25,920.00  -58.06  \n",
       "2     224,400.00   51,340.00  -173,060.00  -77.12  \n",
       "3     538,500.00  114,000.00  -424,500.00  -78.83  \n",
       "4     388,500.00  143,400.00  -245,100.00  -63.09  \n",
       "5     243,000.00  123,000.00  -120,000.00  -49.38  \n",
       "6     148,800.00   31,200.00  -117,600.00  -79.03  \n",
       "7     136,250.00  119,375.00   -16,875.00  -12.39  \n",
       "8     990,000.00  632,500.00  -357,500.00  -36.11  \n",
       "9     524,000.00  326,000.00  -198,000.00  -37.79  \n",
       "10    573,000.00  491,250.00   -81,750.00  -14.27  \n",
       "11  1,198,800.00  672,300.00  -526,500.00  -43.92  \n",
       "12    220,800.00  138,240.00   -82,560.00  -37.39  \n",
       "13    470,400.00  176,400.00  -294,000.00  -62.50  \n",
       "14    150,000.00  118,000.00   -32,000.00  -21.33  \n",
       "15    435,000.00  275,000.00  -160,000.00  -36.78  \n",
       "16    290,000.00  232,500.00   -57,500.00  -19.83  \n",
       "17  1,212,000.00  732,000.00  -480,000.00  -39.60  \n",
       "18     86,800.00   55,600.00   -31,200.00  -35.94  \n",
       "19    288,000.00  161,280.00  -126,720.00  -44.00  \n",
       "20  1,046,250.00  803,250.00  -243,000.00  -23.23  \n",
       "21    300,000.00  134,000.00  -166,000.00  -55.33  \n",
       "22    430,500.00  174,000.00  -256,500.00  -59.58  \n",
       "23    192,000.00  183,200.00    -8,800.00   -4.58  \n",
       "24    262,500.00   74,200.00  -188,300.00  -71.73  \n",
       "25     41,040.00   23,760.00   -17,280.00  -42.11  \n",
       "26     26,000.00   13,200.00   -12,800.00  -49.23  "
      ]
     },
     "execution_count": 125,
     "metadata": {},
     "output_type": "execute_result"
    }
   ],
   "source": [
    "output = pd.read_sql(sql, const)\n",
    "output"
   ]
  },
  {
   "cell_type": "code",
   "execution_count": 127,
   "metadata": {},
   "outputs": [],
   "source": [
    "file_name = 'portfolio.csv'\n",
    "output_file = os.path.join(dat_path, file_name)\n",
    "god_file = os.path.join(god_path, file_name)\n",
    "icd_file = os.path.join(icd_path, file_name)\n",
    "osd_file = os.path.join(osd_path, file_name)"
   ]
  },
  {
   "cell_type": "code",
   "execution_count": 129,
   "metadata": {},
   "outputs": [
    {
     "name": "stdout",
     "output_type": "stream",
     "text": [
      "Output file : C:\\Users\\PC1\\OneDrive\\A5\\Data\\portfolio.csv\n",
      "icd_file : C:\\Users\\PC1\\iCloudDrive\\Data\\portfolio.csv\n",
      "god_file : C:\\Users\\PC1\\OneDrive\\Imports\\santisoontarinka@gmail.com - Google Drive\\Data\\portfolio.csv\n",
      "osd_file : C:\\Users\\PC1\\OneDrive\\Documents\\obsidian-git-sync\\Data\\portfolio.csv\n"
     ]
    }
   ],
   "source": [
    "print(f\"Output file : {output_file}\") \n",
    "print(f\"icd_file : {icd_file}\") \n",
    "print(f\"god_file : {god_file}\") \n",
    "print(f\"osd_file : {osd_file}\") "
   ]
  },
  {
   "cell_type": "code",
   "execution_count": 131,
   "metadata": {},
   "outputs": [],
   "source": [
    "output.to_csv(output_file, header=True, index=False)\n",
    "output.to_csv(icd_file, header=True, index=False)\n",
    "output.to_csv(god_file, header=True, index=False)\n",
    "output.to_csv(osd_file, header=True, index=False)"
   ]
  },
  {
   "cell_type": "code",
   "execution_count": 133,
   "metadata": {},
   "outputs": [],
   "source": [
    "file_name = '035-portfolio.xlsx'\n",
    "xsl_file = os.path.join(xsl_path, file_name)\n",
    "\n",
    "output.to_excel(xsl_file, index=False)"
   ]
  },
  {
   "cell_type": "code",
   "execution_count": 135,
   "metadata": {},
   "outputs": [],
   "source": [
    "conlite.commit()\n",
    "conlite.close()"
   ]
  },
  {
   "cell_type": "code",
   "execution_count": null,
   "metadata": {},
   "outputs": [],
   "source": []
  }
 ],
 "metadata": {
  "anaconda-cloud": {},
  "kernelspec": {
   "display_name": "Python 3 (ipykernel)",
   "language": "python",
   "name": "python3"
  },
  "language_info": {
   "codemirror_mode": {
    "name": "ipython",
    "version": 3
   },
   "file_extension": ".py",
   "mimetype": "text/x-python",
   "name": "python",
   "nbconvert_exporter": "python",
   "pygments_lexer": "ipython3",
   "version": "3.12.3"
  }
 },
 "nbformat": 4,
 "nbformat_minor": 4
}
