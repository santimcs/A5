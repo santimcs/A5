{
 "cells": [
  {
   "cell_type": "code",
   "execution_count": 1,
   "metadata": {},
   "outputs": [
    {
     "data": {
      "text/plain": [
       "datetime.date(2025, 8, 8)"
      ]
     },
     "execution_count": 1,
     "metadata": {},
     "output_type": "execute_result"
    }
   ],
   "source": [
    "import os\n",
    "import pandas as pd\n",
    "from datetime import date, timedelta, datetime\n",
    "from sqlalchemy import create_engine, text\n",
    "from pandas.tseries.offsets import BDay\n",
    "\n",
    "engine = create_engine('mysql+pymysql://root:@localhost:3306/portfolio_development')\n",
    "conpf = engine.connect()\n",
    "engine = create_engine(\"mysql+pymysql://root:@localhost:3306/stock\")\n",
    "const = engine.connect()\n",
    "engine = create_engine(\"sqlite:///c:\\\\ruby\\\\port_lite\\\\db\\\\development.sqlite3\")\n",
    "conlite = engine.connect()\n",
    "\n",
    "today = date.today()\n",
    "today"
   ]
  },
  {
   "cell_type": "code",
   "execution_count": 3,
   "metadata": {},
   "outputs": [
    {
     "name": "stdout",
     "output_type": "stream",
     "text": [
      "today: 2025-08-08\n",
      "yesterday: 2025-08-07\n"
     ]
    }
   ],
   "source": [
    "# convert the timedelta object to a BusinessDay object\n",
    "num_business_days = BDay(1)\n",
    "yesterday = today - num_business_days\n",
    "yesterday = yesterday.date()\n",
    "print(f'today: {today}')\n",
    "print(f'yesterday: {yesterday}')"
   ]
  },
  {
   "cell_type": "code",
   "execution_count": 5,
   "metadata": {},
   "outputs": [],
   "source": [
    "# Get the user's home directory\n",
    "user_path = os.path.expanduser('~')\n",
    "# Get the current working directory\n",
    "current_path = os.getcwd()\n",
    "# Derive the base directory (base_dir) by removing the last folder ('Daily')\n",
    "base_path = os.path.dirname(current_path)\n",
    "#C:\\Users\\PC1\\OneDrive\\A5\\Data\n",
    "dat_path = os.path.join(base_path, \"Data\")\n",
    "#C:\\Users\\PC1\\Downloads\\Datasets\n",
    "dts_path = os.path.join(user_path, \"Downloads\", \"Datasets\")\n",
    "#C:\\Users\\PC1\\OneDrive\\Imports\\santisoontarinka@gmail.com - Google Drive\\Data>\n",
    "god_path = os.path.join(user_path, \"OneDrive\",\"Imports\",\"santisoontarinka@gmail.com - Google Drive\",\"Data\")\n",
    "#C:\\Users\\PC1\\iCloudDrive\\data\n",
    "icd_path = os.path.join(user_path, \"iCloudDrive\", \"Data\")\n",
    "#C:\\Users\\PC1\\OneDrive\\Documents\\obsidian-git-sync\\Data\n",
    "osd_path = os.path.join(user_path, \"OneDrive\",\"Documents\",\"obsidian-git-sync\",\"Data\")\n",
    "#C:\\Users\\PC1\\OneDrive\\A5\\Excel\n",
    "xsl_path = os.path.join(base_path, \"Excel\")"
   ]
  },
  {
   "cell_type": "code",
   "execution_count": 7,
   "metadata": {},
   "outputs": [
    {
     "name": "stdout",
     "output_type": "stream",
     "text": [
      "User path: C:\\Users\\PC1\n",
      "Current path: C:\\Users\\PC1\\OneDrive\\A5\\Daily\n",
      "Base path: C:\\Users\\PC1\\OneDrive\\A5\n",
      "Data path (dat_path): C:\\Users\\PC1\\OneDrive\\A5\\Data\n",
      "Excel path (xsl_path): C:\\Users\\PC1\\OneDrive\\A5\\Excel\n",
      "Google Drive path (god_path): C:\\Users\\PC1\\OneDrive\\Imports\\santisoontarinka@gmail.com - Google Drive\\Data\n",
      "iCloudDrive path (icd_path): C:\\Users\\PC1\\iCloudDrive\\Data\n",
      "Obsidian path (osd_path): C:\\Users\\PC1\\OneDrive\\Documents\\obsidian-git-sync\\Data\n"
     ]
    }
   ],
   "source": [
    "print(\"User path:\", user_path)\n",
    "print(f\"Current path: {current_path}\")\n",
    "print(f\"Base path: {base_path}\")\n",
    "print(f\"Data path (dat_path): {dat_path}\") \n",
    "print(f\"Excel path (xsl_path): {xsl_path}\") \n",
    "print(f\"Google Drive path (god_path): {god_path}\")\n",
    "print(f\"iCloudDrive path (icd_path): {icd_path}\") \n",
    "print(f\"Obsidian path (osd_path): {osd_path}\") "
   ]
  },
  {
   "cell_type": "markdown",
   "metadata": {},
   "source": [
    "### Tables in the process"
   ]
  },
  {
   "cell_type": "code",
   "execution_count": 10,
   "metadata": {},
   "outputs": [],
   "source": [
    "format_dict = {\n",
    "    'shares':'{:,}',    \n",
    "    'price':'{:.2f}',\n",
    "    'dividend':'{:.4f}', \n",
    "    'date':'{:%Y-%m-%d}', \n",
    "    \n",
    "    'qty':'{:,}','shares':'{:,}',\n",
    "    'price':'{:.2f}','buy_price':'{:.2f}',\n",
    "    'dividend':'{:.4f}',    \n",
    "    'fee':'{:,.2f}','vat':'{:,.2f}','net':'{:,.2f}',\n",
    "  \n",
    "    'days':'{:,}',\n",
    "    'price':'{:.2f}',\n",
    "    'fee':'{:,.2f}','vat':'{:,.2f}','net':'{:,.2f}','profit':'{:,.2f}',\n",
    "    'percent':'{:,.2f}%','yearly':'{:,.2f}%',   \n",
    "    \n",
    "    'shares':'{:,}',    \n",
    "    'q4':'{:.4f}','q3':'{:.4f}','q2':'{:.4f}','q1':'{:.4f}','dividend':'{:.4f}',\n",
    "    'xdate':'{:%Y-%m-%d}','paiddate':'{:%Y-%m-%d}',\n",
    "    \n",
    "    'qty':'{:,}','available_qty':'{:,}',\n",
    "    'cost':'{:.2f}','max_price':'{:.2f}','min_price':'{:.2f}','buy_target':'{:.2f}','sell_target':'{:.2f}',\n",
    "    'volume':'{:,.2f}','beta':'{:,.2f}',\n",
    "    \n",
    "    'qty':'{:,}','available_qty':'{:,}',\n",
    "    'cost':'{:.2f}','max_price':'{:.2f}','min_price':'{:.2f}','buy_target':'{:.2f}','sell_target':'{:.2f}',\n",
    "    'volume':'{:,.2f}','beta':'{:,.2f}',\n",
    "    }"
   ]
  },
  {
   "cell_type": "code",
   "execution_count": 71,
   "metadata": {},
   "outputs": [
    {
     "data": {
      "text/html": [
       "<style type=\"text/css\">\n",
       "</style>\n",
       "<table id=\"T_62c91\">\n",
       "  <thead>\n",
       "    <tr>\n",
       "      <th class=\"blank level0\" >&nbsp;</th>\n",
       "      <th id=\"T_62c91_level0_col0\" class=\"col_heading level0 col0\" >name</th>\n",
       "      <th id=\"T_62c91_level0_col1\" class=\"col_heading level0 col1\" >stock_id</th>\n",
       "      <th id=\"T_62c91_level0_col2\" class=\"col_heading level0 col2\" >buy_date</th>\n",
       "      <th id=\"T_62c91_level0_col3\" class=\"col_heading level0 col3\" >qty</th>\n",
       "      <th id=\"T_62c91_level0_col4\" class=\"col_heading level0 col4\" >buy_price</th>\n",
       "      <th id=\"T_62c91_level0_col5\" class=\"col_heading level0 col5\" >id</th>\n",
       "      <th id=\"T_62c91_level0_col6\" class=\"col_heading level0 col6\" >buy_id</th>\n",
       "      <th id=\"T_62c91_level0_col7\" class=\"col_heading level0 col7\" >date</th>\n",
       "      <th id=\"T_62c91_level0_col8\" class=\"col_heading level0 col8\" >price</th>\n",
       "      <th id=\"T_62c91_level0_col9\" class=\"col_heading level0 col9\" >fee</th>\n",
       "      <th id=\"T_62c91_level0_col10\" class=\"col_heading level0 col10\" >vat</th>\n",
       "      <th id=\"T_62c91_level0_col11\" class=\"col_heading level0 col11\" >net</th>\n",
       "      <th id=\"T_62c91_level0_col12\" class=\"col_heading level0 col12\" >days</th>\n",
       "      <th id=\"T_62c91_level0_col13\" class=\"col_heading level0 col13\" >profit</th>\n",
       "      <th id=\"T_62c91_level0_col14\" class=\"col_heading level0 col14\" >percent</th>\n",
       "      <th id=\"T_62c91_level0_col15\" class=\"col_heading level0 col15\" >yearly</th>\n",
       "      <th id=\"T_62c91_level0_col16\" class=\"col_heading level0 col16\" >sequence</th>\n",
       "      <th id=\"T_62c91_level0_col17\" class=\"col_heading level0 col17\" >chart</th>\n",
       "      <th id=\"T_62c91_level0_col18\" class=\"col_heading level0 col18\" >dividend_id</th>\n",
       "    </tr>\n",
       "  </thead>\n",
       "  <tbody>\n",
       "    <tr>\n",
       "      <th id=\"T_62c91_level0_row0\" class=\"row_heading level0 row0\" >0</th>\n",
       "      <td id=\"T_62c91_row0_col0\" class=\"data row0 col0\" >GVREIT</td>\n",
       "      <td id=\"T_62c91_row0_col1\" class=\"data row0 col1\" >169</td>\n",
       "      <td id=\"T_62c91_row0_col2\" class=\"data row0 col2\" >2023-09-22</td>\n",
       "      <td id=\"T_62c91_row0_col3\" class=\"data row0 col3\" >6,000</td>\n",
       "      <td id=\"T_62c91_row0_col4\" class=\"data row0 col4\" >6.10</td>\n",
       "      <td id=\"T_62c91_row0_col5\" class=\"data row0 col5\" >1106</td>\n",
       "      <td id=\"T_62c91_row0_col6\" class=\"data row0 col6\" >1287</td>\n",
       "      <td id=\"T_62c91_row0_col7\" class=\"data row0 col7\" >2025-08-08</td>\n",
       "      <td id=\"T_62c91_row0_col8\" class=\"data row0 col8\" >6.70</td>\n",
       "      <td id=\"T_62c91_row0_col9\" class=\"data row0 col9\" >83.21</td>\n",
       "      <td id=\"T_62c91_row0_col10\" class=\"data row0 col10\" >5.82</td>\n",
       "      <td id=\"T_62c91_row0_col11\" class=\"data row0 col11\" >40,110.97</td>\n",
       "      <td id=\"T_62c91_row0_col12\" class=\"data row0 col12\" >686</td>\n",
       "      <td id=\"T_62c91_row0_col13\" class=\"data row0 col13\" >3,429.91</td>\n",
       "      <td id=\"T_62c91_row0_col14\" class=\"data row0 col14\" >9.35%</td>\n",
       "      <td id=\"T_62c91_row0_col15\" class=\"data row0 col15\" >4.98%</td>\n",
       "      <td id=\"T_62c91_row0_col16\" class=\"data row0 col16\" >-106</td>\n",
       "      <td id=\"T_62c91_row0_col17\" class=\"data row0 col17\" >None</td>\n",
       "      <td id=\"T_62c91_row0_col18\" class=\"data row0 col18\" >0</td>\n",
       "    </tr>\n",
       "  </tbody>\n",
       "</table>\n"
      ],
      "text/plain": [
       "<pandas.io.formats.style.Styler at 0x1c282ba5430>"
      ]
     },
     "execution_count": 71,
     "metadata": {},
     "output_type": "execute_result"
    }
   ],
   "source": [
    "# Sells table in MySQL portfolio database\n",
    "sql = \"\"\"\n",
    "SELECT name, stock_id, B.date AS buy_date, qty, B.price AS buy_price, S.* \n",
    "FROM sells S\n",
    "JOIN buys B ON S.buy_id = B.id\n",
    "JOIN stocks T ON B.stock_id = T.id\n",
    "ORDER BY S.id DESC\n",
    "LIMIT 1\"\"\"\n",
    "sells = pd.read_sql(sql, conpf)\n",
    "sells.style.format(format_dict)"
   ]
  },
  {
   "cell_type": "markdown",
   "metadata": {},
   "source": [
    "### In case of sale, retreive buy id from sells record (buy_id)"
   ]
  },
  {
   "cell_type": "code",
   "execution_count": 74,
   "metadata": {},
   "outputs": [
    {
     "data": {
      "text/plain": [
       "'GVREIT'"
      ]
     },
     "execution_count": 74,
     "metadata": {},
     "output_type": "execute_result"
    }
   ],
   "source": [
    "# Buys table in MySQL portfolio database\n",
    "transaction = 'S'\n",
    "\n",
    "names = sells['name']\n",
    "name = names.to_string(index=False)\n",
    "name"
   ]
  },
  {
   "cell_type": "code",
   "execution_count": 76,
   "metadata": {},
   "outputs": [
    {
     "name": "stdout",
     "output_type": "stream",
     "text": [
      "\n",
      "SELECT name, B.* \n",
      "FROM buys B\n",
      "JOIN stocks T \n",
      "ON B.stock_id = T.id\n",
      "WHERE B.id = 1287\n",
      "\n"
     ]
    },
    {
     "data": {
      "text/html": [
       "<style type=\"text/css\">\n",
       "</style>\n",
       "<table id=\"T_5628c\">\n",
       "  <thead>\n",
       "    <tr>\n",
       "      <th class=\"blank level0\" >&nbsp;</th>\n",
       "      <th id=\"T_5628c_level0_col0\" class=\"col_heading level0 col0\" >name</th>\n",
       "      <th id=\"T_5628c_level0_col1\" class=\"col_heading level0 col1\" >id</th>\n",
       "      <th id=\"T_5628c_level0_col2\" class=\"col_heading level0 col2\" >stock_id</th>\n",
       "      <th id=\"T_5628c_level0_col3\" class=\"col_heading level0 col3\" >date</th>\n",
       "      <th id=\"T_5628c_level0_col4\" class=\"col_heading level0 col4\" >qty</th>\n",
       "      <th id=\"T_5628c_level0_col5\" class=\"col_heading level0 col5\" >price</th>\n",
       "      <th id=\"T_5628c_level0_col6\" class=\"col_heading level0 col6\" >fee</th>\n",
       "      <th id=\"T_5628c_level0_col7\" class=\"col_heading level0 col7\" >vat</th>\n",
       "      <th id=\"T_5628c_level0_col8\" class=\"col_heading level0 col8\" >status</th>\n",
       "      <th id=\"T_5628c_level0_col9\" class=\"col_heading level0 col9\" >net</th>\n",
       "      <th id=\"T_5628c_level0_col10\" class=\"col_heading level0 col10\" >kind</th>\n",
       "      <th id=\"T_5628c_level0_col11\" class=\"col_heading level0 col11\" >chart</th>\n",
       "    </tr>\n",
       "  </thead>\n",
       "  <tbody>\n",
       "    <tr>\n",
       "      <th id=\"T_5628c_level0_row0\" class=\"row_heading level0 row0\" >0</th>\n",
       "      <td id=\"T_5628c_row0_col0\" class=\"data row0 col0\" >GVREIT</td>\n",
       "      <td id=\"T_5628c_row0_col1\" class=\"data row0 col1\" >1287</td>\n",
       "      <td id=\"T_5628c_row0_col2\" class=\"data row0 col2\" >169</td>\n",
       "      <td id=\"T_5628c_row0_col3\" class=\"data row0 col3\" >2023-09-22</td>\n",
       "      <td id=\"T_5628c_row0_col4\" class=\"data row0 col4\" >6,000</td>\n",
       "      <td id=\"T_5628c_row0_col5\" class=\"data row0 col5\" >6.10</td>\n",
       "      <td id=\"T_5628c_row0_col6\" class=\"data row0 col6\" >75.76</td>\n",
       "      <td id=\"T_5628c_row0_col7\" class=\"data row0 col7\" >5.30</td>\n",
       "      <td id=\"T_5628c_row0_col8\" class=\"data row0 col8\" >Sold</td>\n",
       "      <td id=\"T_5628c_row0_col9\" class=\"data row0 col9\" >36,681.06</td>\n",
       "      <td id=\"T_5628c_row0_col10\" class=\"data row0 col10\" >HD</td>\n",
       "      <td id=\"T_5628c_row0_col11\" class=\"data row0 col11\" >None</td>\n",
       "    </tr>\n",
       "  </tbody>\n",
       "</table>\n"
      ],
      "text/plain": [
       "<pandas.io.formats.style.Styler at 0x1c282d7dd30>"
      ]
     },
     "execution_count": 76,
     "metadata": {},
     "output_type": "execute_result"
    }
   ],
   "source": [
    "sr_qty = sells['qty']\n",
    "qty = sr_qty.to_string(index=False)\n",
    "qty = int(qty) * -1\n",
    "\n",
    "sr_price = sells['buy_price']\n",
    "buy_price = sr_price.to_string(index=False)\n",
    "buy_price = float(buy_price)\n",
    "\n",
    "sr_price = sells['price']\n",
    "sell_price = sr_price.to_string(index=False)\n",
    "sell_price = float(sell_price)\n",
    "\n",
    "buy_ids = sells['buy_id']\n",
    "buy_id = buy_ids.to_string(index=False)\n",
    "\n",
    "sql = \"\"\"\n",
    "SELECT name, B.* \n",
    "FROM buys B\n",
    "JOIN stocks T \n",
    "ON B.stock_id = T.id\n",
    "WHERE B.id = %s\n",
    "\"\"\"\n",
    "sql = sql % buy_id\n",
    "print(sql)\n",
    "\n",
    "buys = pd.read_sql(sql, conpf)\n",
    "buys.style.format(format_dict)"
   ]
  },
  {
   "cell_type": "code",
   "execution_count": 78,
   "metadata": {},
   "outputs": [
    {
     "data": {
      "text/plain": [
       "('S', 'GVREIT', -6000, 6.7, 6.1)"
      ]
     },
     "execution_count": 78,
     "metadata": {},
     "output_type": "execute_result"
    }
   ],
   "source": [
    "transaction, name, qty, sell_price, buy_price"
   ]
  },
  {
   "cell_type": "markdown",
   "metadata": {},
   "source": [
    "### In case of buy, retreive buy id from latest buy record (id)"
   ]
  },
  {
   "cell_type": "code",
   "execution_count": 56,
   "metadata": {},
   "outputs": [
    {
     "name": "stdout",
     "output_type": "stream",
     "text": [
      "\n",
      "SELECT name, B.* \n",
      "FROM buys B\n",
      "JOIN stocks T \n",
      "ON B.stock_id = T.id\n",
      "ORDER BY id DESC\n",
      "LIMIT 1\n",
      "\n"
     ]
    },
    {
     "data": {
      "text/html": [
       "<style type=\"text/css\">\n",
       "</style>\n",
       "<table id=\"T_6c05b\">\n",
       "  <thead>\n",
       "    <tr>\n",
       "      <th class=\"blank level0\" >&nbsp;</th>\n",
       "      <th id=\"T_6c05b_level0_col0\" class=\"col_heading level0 col0\" >name</th>\n",
       "      <th id=\"T_6c05b_level0_col1\" class=\"col_heading level0 col1\" >id</th>\n",
       "      <th id=\"T_6c05b_level0_col2\" class=\"col_heading level0 col2\" >stock_id</th>\n",
       "      <th id=\"T_6c05b_level0_col3\" class=\"col_heading level0 col3\" >date</th>\n",
       "      <th id=\"T_6c05b_level0_col4\" class=\"col_heading level0 col4\" >qty</th>\n",
       "      <th id=\"T_6c05b_level0_col5\" class=\"col_heading level0 col5\" >price</th>\n",
       "      <th id=\"T_6c05b_level0_col6\" class=\"col_heading level0 col6\" >fee</th>\n",
       "      <th id=\"T_6c05b_level0_col7\" class=\"col_heading level0 col7\" >vat</th>\n",
       "      <th id=\"T_6c05b_level0_col8\" class=\"col_heading level0 col8\" >status</th>\n",
       "      <th id=\"T_6c05b_level0_col9\" class=\"col_heading level0 col9\" >net</th>\n",
       "      <th id=\"T_6c05b_level0_col10\" class=\"col_heading level0 col10\" >kind</th>\n",
       "      <th id=\"T_6c05b_level0_col11\" class=\"col_heading level0 col11\" >chart</th>\n",
       "    </tr>\n",
       "  </thead>\n",
       "  <tbody>\n",
       "    <tr>\n",
       "      <th id=\"T_6c05b_level0_row0\" class=\"row_heading level0 row0\" >0</th>\n",
       "      <td id=\"T_6c05b_row0_col0\" class=\"data row0 col0\" >PTT</td>\n",
       "      <td id=\"T_6c05b_row0_col1\" class=\"data row0 col1\" >1336</td>\n",
       "      <td id=\"T_6c05b_row0_col2\" class=\"data row0 col2\" >118</td>\n",
       "      <td id=\"T_6c05b_row0_col3\" class=\"data row0 col3\" >2025-08-08</td>\n",
       "      <td id=\"T_6c05b_row0_col4\" class=\"data row0 col4\" >2,500</td>\n",
       "      <td id=\"T_6c05b_row0_col5\" class=\"data row0 col5\" >32.00</td>\n",
       "      <td id=\"T_6c05b_row0_col6\" class=\"data row0 col6\" >165.60</td>\n",
       "      <td id=\"T_6c05b_row0_col7\" class=\"data row0 col7\" >11.59</td>\n",
       "      <td id=\"T_6c05b_row0_col8\" class=\"data row0 col8\" >Active</td>\n",
       "      <td id=\"T_6c05b_row0_col9\" class=\"data row0 col9\" >80,177.19</td>\n",
       "      <td id=\"T_6c05b_row0_col10\" class=\"data row0 col10\" >HD</td>\n",
       "      <td id=\"T_6c05b_row0_col11\" class=\"data row0 col11\" >None</td>\n",
       "    </tr>\n",
       "  </tbody>\n",
       "</table>\n"
      ],
      "text/plain": [
       "<pandas.io.formats.style.Styler at 0x244e1cbf890>"
      ]
     },
     "execution_count": 56,
     "metadata": {},
     "output_type": "execute_result"
    }
   ],
   "source": [
    "sql = \"\"\"\n",
    "SELECT name, B.* \n",
    "FROM buys B\n",
    "JOIN stocks T \n",
    "ON B.stock_id = T.id\n",
    "ORDER BY id DESC\n",
    "LIMIT 1\n",
    "\"\"\"\n",
    "print(sql)\n",
    "buys = pd.read_sql(sql, conpf)\n",
    "buys.style.format(format_dict)"
   ]
  },
  {
   "cell_type": "code",
   "execution_count": 58,
   "metadata": {},
   "outputs": [
    {
     "data": {
      "text/plain": [
       "('B', 'PTT', 2500, 32.0)"
      ]
     },
     "execution_count": 58,
     "metadata": {},
     "output_type": "execute_result"
    }
   ],
   "source": [
    "transaction = 'B'\n",
    "\n",
    "names = buys['name']\n",
    "name = names.to_string(index=False)\n",
    "\n",
    "sr_qty = buys['qty']\n",
    "qty = sr_qty.to_string(index=False)\n",
    "qty = int(qty)\n",
    "\n",
    "sr_price = buys['price']\n",
    "buy_price = sr_price.to_string(index=False)\n",
    "buy_price = float(buy_price)\n",
    "\n",
    "transaction, name, qty, buy_price"
   ]
  },
  {
   "cell_type": "markdown",
   "metadata": {},
   "source": [
    "## Begin of Sale transaction"
   ]
  },
  {
   "cell_type": "markdown",
   "metadata": {},
   "source": [
    "### Begin of Update buy table in MySQL stock database from sale transaction"
   ]
  },
  {
   "cell_type": "code",
   "execution_count": 80,
   "metadata": {},
   "outputs": [
    {
     "name": "stdout",
     "output_type": "stream",
     "text": [
      "\n",
      "SELECT * \n",
      "FROM buy \n",
      "WHERE name = 'GVREIT'\n",
      "\n"
     ]
    },
    {
     "data": {
      "text/html": [
       "<style type=\"text/css\">\n",
       "</style>\n",
       "<table id=\"T_48dfe\">\n",
       "  <thead>\n",
       "    <tr>\n",
       "      <th class=\"blank level0\" >&nbsp;</th>\n",
       "      <th id=\"T_48dfe_level0_col0\" class=\"col_heading level0 col0\" >name</th>\n",
       "      <th id=\"T_48dfe_level0_col1\" class=\"col_heading level0 col1\" >date</th>\n",
       "      <th id=\"T_48dfe_level0_col2\" class=\"col_heading level0 col2\" >shares</th>\n",
       "      <th id=\"T_48dfe_level0_col3\" class=\"col_heading level0 col3\" >price</th>\n",
       "      <th id=\"T_48dfe_level0_col4\" class=\"col_heading level0 col4\" >active</th>\n",
       "      <th id=\"T_48dfe_level0_col5\" class=\"col_heading level0 col5\" >period</th>\n",
       "      <th id=\"T_48dfe_level0_col6\" class=\"col_heading level0 col6\" >grade</th>\n",
       "    </tr>\n",
       "  </thead>\n",
       "  <tbody>\n",
       "    <tr>\n",
       "      <th id=\"T_48dfe_level0_row0\" class=\"row_heading level0 row0\" >0</th>\n",
       "      <td id=\"T_48dfe_row0_col0\" class=\"data row0 col0\" >GVREIT</td>\n",
       "      <td id=\"T_48dfe_row0_col1\" class=\"data row0 col1\" >2022-08-24</td>\n",
       "      <td id=\"T_48dfe_row0_col2\" class=\"data row0 col2\" >75,000</td>\n",
       "      <td id=\"T_48dfe_row0_col3\" class=\"data row0 col3\" >7.64</td>\n",
       "      <td id=\"T_48dfe_row0_col4\" class=\"data row0 col4\" >1</td>\n",
       "      <td id=\"T_48dfe_row0_col5\" class=\"data row0 col5\" >2</td>\n",
       "      <td id=\"T_48dfe_row0_col6\" class=\"data row0 col6\" >C1</td>\n",
       "    </tr>\n",
       "  </tbody>\n",
       "</table>\n"
      ],
      "text/plain": [
       "<pandas.io.formats.style.Styler at 0x1c282b7c9e0>"
      ]
     },
     "execution_count": 80,
     "metadata": {},
     "output_type": "execute_result"
    }
   ],
   "source": [
    "sql = \"\"\"\n",
    "SELECT * \n",
    "FROM buy \n",
    "WHERE name = '%s'\n",
    "\"\"\"\n",
    "sql = sql % name\n",
    "print(sql)\n",
    "\n",
    "buy = pd.read_sql(sql, const)\n",
    "buy.drop(['volsell', 'volbal','dividend'], axis=1, inplace=True)\n",
    "buy.rename(columns={'volbuy':'shares'},inplace=True)\n",
    "buy['shares'] = buy['shares'].astype('int64')\n",
    "buy.style.format(format_dict)"
   ]
  },
  {
   "cell_type": "code",
   "execution_count": 82,
   "metadata": {},
   "outputs": [
    {
     "name": "stdout",
     "output_type": "stream",
     "text": [
      "S GVREIT -6000 6.1\n"
     ]
    }
   ],
   "source": [
    "print(transaction, name, qty, buy_price)"
   ]
  },
  {
   "cell_type": "code",
   "execution_count": 84,
   "metadata": {},
   "outputs": [
    {
     "name": "stdout",
     "output_type": "stream",
     "text": [
      "69000\n"
     ]
    }
   ],
   "source": [
    "new_qty = buy['shares'] + qty\n",
    "print(new_qty.iloc[0])"
   ]
  },
  {
   "cell_type": "code",
   "execution_count": 86,
   "metadata": {},
   "outputs": [
    {
     "data": {
      "text/plain": [
       "7.75"
      ]
     },
     "execution_count": 86,
     "metadata": {},
     "output_type": "execute_result"
    }
   ],
   "source": [
    "new_price = 7.75\n",
    "new_price"
   ]
  },
  {
   "cell_type": "code",
   "execution_count": 88,
   "metadata": {},
   "outputs": [],
   "source": [
    "def update_buy(const, name, new_qty, new_price):\n",
    "    # Extract scalar values from Pandas Series\n",
    "    new_qty_value = int(new_qty.iloc[0])\n",
    "    \n",
    "    # Use parameterized query to avoid SQL injection\n",
    "    sqlUpd = text(\"\"\"\n",
    "        UPDATE buy\n",
    "        SET volbuy = :new_qty,\n",
    "        price = :new_price\n",
    "        WHERE name = :name\n",
    "    \"\"\")\n",
    "    \n",
    "    # Execute the query with parameters\n",
    "    rp = const.execute(sqlUpd, {\n",
    "        'new_qty': new_qty_value,\n",
    "        'new_price': new_price,\n",
    "        'name': name\n",
    "    })\n",
    "\n",
    "    return f\"Records updated = {rp.rowcount}\""
   ]
  },
  {
   "cell_type": "code",
   "execution_count": 90,
   "metadata": {},
   "outputs": [
    {
     "data": {
      "text/plain": [
       "'Records updated = 1'"
      ]
     },
     "execution_count": 90,
     "metadata": {},
     "output_type": "execute_result"
    }
   ],
   "source": [
    "# Example usage\n",
    "update_buy(const, name, new_qty, new_price)"
   ]
  },
  {
   "cell_type": "code",
   "execution_count": 92,
   "metadata": {},
   "outputs": [
    {
     "name": "stdout",
     "output_type": "stream",
     "text": [
      "\n",
      "SELECT * \n",
      "FROM buy \n",
      "WHERE name = 'GVREIT'\n",
      "\n"
     ]
    },
    {
     "data": {
      "text/html": [
       "<style type=\"text/css\">\n",
       "</style>\n",
       "<table id=\"T_6b8c3\">\n",
       "  <thead>\n",
       "    <tr>\n",
       "      <th class=\"blank level0\" >&nbsp;</th>\n",
       "      <th id=\"T_6b8c3_level0_col0\" class=\"col_heading level0 col0\" >name</th>\n",
       "      <th id=\"T_6b8c3_level0_col1\" class=\"col_heading level0 col1\" >date</th>\n",
       "      <th id=\"T_6b8c3_level0_col2\" class=\"col_heading level0 col2\" >shares</th>\n",
       "      <th id=\"T_6b8c3_level0_col3\" class=\"col_heading level0 col3\" >price</th>\n",
       "      <th id=\"T_6b8c3_level0_col4\" class=\"col_heading level0 col4\" >active</th>\n",
       "      <th id=\"T_6b8c3_level0_col5\" class=\"col_heading level0 col5\" >period</th>\n",
       "      <th id=\"T_6b8c3_level0_col6\" class=\"col_heading level0 col6\" >grade</th>\n",
       "    </tr>\n",
       "  </thead>\n",
       "  <tbody>\n",
       "    <tr>\n",
       "      <th id=\"T_6b8c3_level0_row0\" class=\"row_heading level0 row0\" >0</th>\n",
       "      <td id=\"T_6b8c3_row0_col0\" class=\"data row0 col0\" >GVREIT</td>\n",
       "      <td id=\"T_6b8c3_row0_col1\" class=\"data row0 col1\" >2022-08-24</td>\n",
       "      <td id=\"T_6b8c3_row0_col2\" class=\"data row0 col2\" >69,000</td>\n",
       "      <td id=\"T_6b8c3_row0_col3\" class=\"data row0 col3\" >7.75</td>\n",
       "      <td id=\"T_6b8c3_row0_col4\" class=\"data row0 col4\" >1</td>\n",
       "      <td id=\"T_6b8c3_row0_col5\" class=\"data row0 col5\" >2</td>\n",
       "      <td id=\"T_6b8c3_row0_col6\" class=\"data row0 col6\" >C1</td>\n",
       "    </tr>\n",
       "  </tbody>\n",
       "</table>\n"
      ],
      "text/plain": [
       "<pandas.io.formats.style.Styler at 0x1c283fa0b30>"
      ]
     },
     "execution_count": 92,
     "metadata": {},
     "output_type": "execute_result"
    }
   ],
   "source": [
    "sql = \"\"\"\n",
    "SELECT * \n",
    "FROM buy \n",
    "WHERE name = '%s'\n",
    "\"\"\"\n",
    "sql = sql % name\n",
    "print(sql)\n",
    "\n",
    "buy = pd.read_sql(sql, const)\n",
    "buy.drop(['volsell', 'volbal','dividend'], axis=1, inplace=True)\n",
    "buy.rename(columns={'volbuy':'shares'},inplace=True)\n",
    "buy['shares'] = buy['shares'].astype('int64')\n",
    "buy.style.format(format_dict)"
   ]
  },
  {
   "cell_type": "code",
   "execution_count": 127,
   "metadata": {},
   "outputs": [
    {
     "name": "stdout",
     "output_type": "stream",
     "text": [
      "Records deleted: 0\n"
     ]
    }
   ],
   "source": [
    "# Define the SQL query\n",
    "sqlDel = text(\"\"\"\n",
    "    DELETE FROM buy\n",
    "    WHERE name = :name AND volbuy = 0;\n",
    "\"\"\")\n",
    "\n",
    "# Execute the query with the correct parameter dictionary\n",
    "result = const.execute(sqlDel, {'name': name})\n",
    "\n",
    "# Print the number of rows deleted\n",
    "print(f\"Records deleted: {result.rowcount}\")  "
   ]
  },
  {
   "cell_type": "markdown",
   "metadata": {},
   "source": [
    "### End of Update buy table in MySQL stock database from sale transaction"
   ]
  },
  {
   "cell_type": "markdown",
   "metadata": {},
   "source": [
    "### Begin of Update dividend table in MySQL stock database from sale transaction"
   ]
  },
  {
   "cell_type": "code",
   "execution_count": 94,
   "metadata": {},
   "outputs": [
    {
     "name": "stdout",
     "output_type": "stream",
     "text": [
      "\n",
      "SELECT * \n",
      "FROM dividend \n",
      "WHERE name = 'GVREIT'\n",
      "\n"
     ]
    },
    {
     "data": {
      "text/html": [
       "<style type=\"text/css\">\n",
       "</style>\n",
       "<table id=\"T_989ed\">\n",
       "  <thead>\n",
       "    <tr>\n",
       "      <th class=\"blank level0\" >&nbsp;</th>\n",
       "      <th id=\"T_989ed_level0_col0\" class=\"col_heading level0 col0\" >name</th>\n",
       "      <th id=\"T_989ed_level0_col1\" class=\"col_heading level0 col1\" >q4</th>\n",
       "      <th id=\"T_989ed_level0_col2\" class=\"col_heading level0 col2\" >q3</th>\n",
       "      <th id=\"T_989ed_level0_col3\" class=\"col_heading level0 col3\" >q2</th>\n",
       "      <th id=\"T_989ed_level0_col4\" class=\"col_heading level0 col4\" >q1</th>\n",
       "      <th id=\"T_989ed_level0_col5\" class=\"col_heading level0 col5\" >dividend</th>\n",
       "      <th id=\"T_989ed_level0_col6\" class=\"col_heading level0 col6\" >shares</th>\n",
       "      <th id=\"T_989ed_level0_col7\" class=\"col_heading level0 col7\" >xdate</th>\n",
       "      <th id=\"T_989ed_level0_col8\" class=\"col_heading level0 col8\" >paiddate</th>\n",
       "      <th id=\"T_989ed_level0_col9\" class=\"col_heading level0 col9\" >kind</th>\n",
       "      <th id=\"T_989ed_level0_col10\" class=\"col_heading level0 col10\" >actual</th>\n",
       "    </tr>\n",
       "  </thead>\n",
       "  <tbody>\n",
       "    <tr>\n",
       "      <th id=\"T_989ed_level0_row0\" class=\"row_heading level0 row0\" >0</th>\n",
       "      <td id=\"T_989ed_row0_col0\" class=\"data row0 col0\" >GVREIT</td>\n",
       "      <td id=\"T_989ed_row0_col1\" class=\"data row0 col1\" >0.2044</td>\n",
       "      <td id=\"T_989ed_row0_col2\" class=\"data row0 col2\" >0.1911</td>\n",
       "      <td id=\"T_989ed_row0_col3\" class=\"data row0 col3\" >0.1984</td>\n",
       "      <td id=\"T_989ed_row0_col4\" class=\"data row0 col4\" >0.2050</td>\n",
       "      <td id=\"T_989ed_row0_col5\" class=\"data row0 col5\" >0.7989</td>\n",
       "      <td id=\"T_989ed_row0_col6\" class=\"data row0 col6\" >75,000</td>\n",
       "      <td id=\"T_989ed_row0_col7\" class=\"data row0 col7\" >2025-05-28</td>\n",
       "      <td id=\"T_989ed_row0_col8\" class=\"data row0 col8\" >2025-06-12</td>\n",
       "      <td id=\"T_989ed_row0_col9\" class=\"data row0 col9\" ></td>\n",
       "      <td id=\"T_989ed_row0_col10\" class=\"data row0 col10\" >0</td>\n",
       "    </tr>\n",
       "  </tbody>\n",
       "</table>\n"
      ],
      "text/plain": [
       "<pandas.io.formats.style.Styler at 0x1c282f06e40>"
      ]
     },
     "execution_count": 94,
     "metadata": {},
     "output_type": "execute_result"
    }
   ],
   "source": [
    "sql = \"\"\"\n",
    "SELECT * \n",
    "FROM dividend \n",
    "WHERE name = '%s'\n",
    "\"\"\"\n",
    "sql = sql % name\n",
    "print(sql)\n",
    "\n",
    "dividend = pd.read_sql(sql, const)\n",
    "dividend.drop(['PRICE', 'PERCENT'], axis=1, inplace=True)\n",
    "dividend.columns = dividend.columns.str.lower()\n",
    "dividend['shares'] = dividend['shares'].astype('int64')\n",
    "dividend['xdate'] = pd.to_datetime(dividend['xdate'])\n",
    "dividend['paiddate'] = pd.to_datetime(dividend['paiddate'])\n",
    "dividend.style.format(format_dict)"
   ]
  },
  {
   "cell_type": "code",
   "execution_count": 96,
   "metadata": {},
   "outputs": [
    {
     "data": {
      "text/plain": [
       "0    69000\n",
       "Name: shares, dtype: int64"
      ]
     },
     "execution_count": 96,
     "metadata": {},
     "output_type": "execute_result"
    }
   ],
   "source": [
    "new_qty"
   ]
  },
  {
   "cell_type": "code",
   "execution_count": 98,
   "metadata": {},
   "outputs": [],
   "source": [
    "def update_dividend(const, name, new_qty):\n",
    "    # Extract scalar values from Pandas Series\n",
    "    new_qty_value = int(new_qty.iloc[0])\n",
    "    # Use parameterized query to avoid SQL injection\n",
    "    sqlUpd = text(\"\"\"\n",
    "        UPDATE dividend\n",
    "        SET shares = :new_qty\n",
    "        WHERE name = :name\n",
    "    \"\"\")\n",
    "    # Execute the query with parameters\n",
    "    rp = const.execute(sqlUpd, {\n",
    "        'new_qty': new_qty_value,\n",
    "        'name': name\n",
    "    })\n",
    "    return f\"Records updated = {rp.rowcount}\""
   ]
  },
  {
   "cell_type": "code",
   "execution_count": 100,
   "metadata": {},
   "outputs": [
    {
     "data": {
      "text/plain": [
       "'Records updated = 1'"
      ]
     },
     "execution_count": 100,
     "metadata": {},
     "output_type": "execute_result"
    }
   ],
   "source": [
    "update_dividend(const, name, new_qty)"
   ]
  },
  {
   "cell_type": "code",
   "execution_count": 102,
   "metadata": {},
   "outputs": [
    {
     "name": "stdout",
     "output_type": "stream",
     "text": [
      "\n",
      "SELECT * \n",
      "FROM dividend \n",
      "WHERE name = 'GVREIT'\n",
      "\n"
     ]
    },
    {
     "data": {
      "text/html": [
       "<style type=\"text/css\">\n",
       "</style>\n",
       "<table id=\"T_20962\">\n",
       "  <thead>\n",
       "    <tr>\n",
       "      <th class=\"blank level0\" >&nbsp;</th>\n",
       "      <th id=\"T_20962_level0_col0\" class=\"col_heading level0 col0\" >name</th>\n",
       "      <th id=\"T_20962_level0_col1\" class=\"col_heading level0 col1\" >q4</th>\n",
       "      <th id=\"T_20962_level0_col2\" class=\"col_heading level0 col2\" >q3</th>\n",
       "      <th id=\"T_20962_level0_col3\" class=\"col_heading level0 col3\" >q2</th>\n",
       "      <th id=\"T_20962_level0_col4\" class=\"col_heading level0 col4\" >q1</th>\n",
       "      <th id=\"T_20962_level0_col5\" class=\"col_heading level0 col5\" >dividend</th>\n",
       "      <th id=\"T_20962_level0_col6\" class=\"col_heading level0 col6\" >shares</th>\n",
       "      <th id=\"T_20962_level0_col7\" class=\"col_heading level0 col7\" >xdate</th>\n",
       "      <th id=\"T_20962_level0_col8\" class=\"col_heading level0 col8\" >paiddate</th>\n",
       "      <th id=\"T_20962_level0_col9\" class=\"col_heading level0 col9\" >kind</th>\n",
       "      <th id=\"T_20962_level0_col10\" class=\"col_heading level0 col10\" >actual</th>\n",
       "    </tr>\n",
       "  </thead>\n",
       "  <tbody>\n",
       "    <tr>\n",
       "      <th id=\"T_20962_level0_row0\" class=\"row_heading level0 row0\" >0</th>\n",
       "      <td id=\"T_20962_row0_col0\" class=\"data row0 col0\" >GVREIT</td>\n",
       "      <td id=\"T_20962_row0_col1\" class=\"data row0 col1\" >0.2044</td>\n",
       "      <td id=\"T_20962_row0_col2\" class=\"data row0 col2\" >0.1911</td>\n",
       "      <td id=\"T_20962_row0_col3\" class=\"data row0 col3\" >0.1984</td>\n",
       "      <td id=\"T_20962_row0_col4\" class=\"data row0 col4\" >0.2050</td>\n",
       "      <td id=\"T_20962_row0_col5\" class=\"data row0 col5\" >0.7989</td>\n",
       "      <td id=\"T_20962_row0_col6\" class=\"data row0 col6\" >69,000</td>\n",
       "      <td id=\"T_20962_row0_col7\" class=\"data row0 col7\" >2025-05-28</td>\n",
       "      <td id=\"T_20962_row0_col8\" class=\"data row0 col8\" >2025-06-12</td>\n",
       "      <td id=\"T_20962_row0_col9\" class=\"data row0 col9\" ></td>\n",
       "      <td id=\"T_20962_row0_col10\" class=\"data row0 col10\" >0</td>\n",
       "    </tr>\n",
       "  </tbody>\n",
       "</table>\n"
      ],
      "text/plain": [
       "<pandas.io.formats.style.Styler at 0x1c282d8c230>"
      ]
     },
     "execution_count": 102,
     "metadata": {},
     "output_type": "execute_result"
    }
   ],
   "source": [
    "sql = \"\"\"\n",
    "SELECT * \n",
    "FROM dividend \n",
    "WHERE name = '%s'\n",
    "\"\"\"\n",
    "sql = sql % name\n",
    "print(sql)\n",
    "\n",
    "dividend = pd.read_sql(sql, const)\n",
    "dividend.drop(['PRICE', 'PERCENT'], axis=1, inplace=True)\n",
    "dividend.columns = dividend.columns.str.lower()\n",
    "dividend['shares'] = dividend['shares'].astype('int64')\n",
    "dividend['xdate'] = pd.to_datetime(dividend['xdate'])\n",
    "dividend['paiddate'] = pd.to_datetime(dividend['paiddate'])\n",
    "dividend.style.format(format_dict)"
   ]
  },
  {
   "cell_type": "code",
   "execution_count": 45,
   "metadata": {},
   "outputs": [
    {
     "name": "stdout",
     "output_type": "stream",
     "text": [
      "Records deleted: 0\n"
     ]
    }
   ],
   "source": [
    "# Define the SQL query\n",
    "sqlDel = text(\"\"\"\n",
    "    DELETE FROM dividend\n",
    "    WHERE name = :name AND shares = 0;\n",
    "\"\"\")\n",
    "\n",
    "# Execute the query with the correct parameter dictionary\n",
    "result = const.execute(sqlDel, {'name': name})\n",
    "\n",
    "# Print the number of rows deleted\n",
    "print(f\"Records deleted: {result.rowcount}\")  "
   ]
  },
  {
   "cell_type": "markdown",
   "metadata": {},
   "source": [
    "### End of Update dividend table in MySQL stock database from sale transaction"
   ]
  },
  {
   "cell_type": "markdown",
   "metadata": {},
   "source": [
    "### Begin of Update stocks table in SQLite port_lite database from sale transaction"
   ]
  },
  {
   "cell_type": "code",
   "execution_count": 104,
   "metadata": {},
   "outputs": [
    {
     "name": "stdout",
     "output_type": "stream",
     "text": [
      "\n",
      "SELECT * \n",
      "FROM stocks \n",
      "WHERE name = 'GVREIT'\n",
      "\n"
     ]
    },
    {
     "data": {
      "text/html": [
       "<style type=\"text/css\">\n",
       "</style>\n",
       "<table id=\"T_085e4\">\n",
       "  <thead>\n",
       "    <tr>\n",
       "      <th class=\"blank level0\" >&nbsp;</th>\n",
       "      <th id=\"T_085e4_level0_col0\" class=\"col_heading level0 col0\" >id</th>\n",
       "      <th id=\"T_085e4_level0_col1\" class=\"col_heading level0 col1\" >name</th>\n",
       "      <th id=\"T_085e4_level0_col2\" class=\"col_heading level0 col2\" >max_price</th>\n",
       "      <th id=\"T_085e4_level0_col3\" class=\"col_heading level0 col3\" >min_price</th>\n",
       "      <th id=\"T_085e4_level0_col4\" class=\"col_heading level0 col4\" >status</th>\n",
       "      <th id=\"T_085e4_level0_col5\" class=\"col_heading level0 col5\" >buy_target</th>\n",
       "      <th id=\"T_085e4_level0_col6\" class=\"col_heading level0 col6\" >sell_target</th>\n",
       "      <th id=\"T_085e4_level0_col7\" class=\"col_heading level0 col7\" >volume</th>\n",
       "      <th id=\"T_085e4_level0_col8\" class=\"col_heading level0 col8\" >beta</th>\n",
       "      <th id=\"T_085e4_level0_col9\" class=\"col_heading level0 col9\" >cost</th>\n",
       "      <th id=\"T_085e4_level0_col10\" class=\"col_heading level0 col10\" >qty</th>\n",
       "      <th id=\"T_085e4_level0_col11\" class=\"col_heading level0 col11\" >buy_spread</th>\n",
       "      <th id=\"T_085e4_level0_col12\" class=\"col_heading level0 col12\" >sell_spread</th>\n",
       "      <th id=\"T_085e4_level0_col13\" class=\"col_heading level0 col13\" >available_qty</th>\n",
       "      <th id=\"T_085e4_level0_col14\" class=\"col_heading level0 col14\" >bl</th>\n",
       "      <th id=\"T_085e4_level0_col15\" class=\"col_heading level0 col15\" >sh</th>\n",
       "      <th id=\"T_085e4_level0_col16\" class=\"col_heading level0 col16\" >reason</th>\n",
       "      <th id=\"T_085e4_level0_col17\" class=\"col_heading level0 col17\" >market</th>\n",
       "    </tr>\n",
       "  </thead>\n",
       "  <tbody>\n",
       "    <tr>\n",
       "      <th id=\"T_085e4_level0_row0\" class=\"row_heading level0 row0\" >0</th>\n",
       "      <td id=\"T_085e4_row0_col0\" class=\"data row0 col0\" >108</td>\n",
       "      <td id=\"T_085e4_row0_col1\" class=\"data row0 col1\" >GVREIT</td>\n",
       "      <td id=\"T_085e4_row0_col2\" class=\"data row0 col2\" >0.00</td>\n",
       "      <td id=\"T_085e4_row0_col3\" class=\"data row0 col3\" >0.00</td>\n",
       "      <td id=\"T_085e4_row0_col4\" class=\"data row0 col4\" >B</td>\n",
       "      <td id=\"T_085e4_row0_col5\" class=\"data row0 col5\" >6.20</td>\n",
       "      <td id=\"T_085e4_row0_col6\" class=\"data row0 col6\" >7.65</td>\n",
       "      <td id=\"T_085e4_row0_col7\" class=\"data row0 col7\" >0.00</td>\n",
       "      <td id=\"T_085e4_row0_col8\" class=\"data row0 col8\" >0.00</td>\n",
       "      <td id=\"T_085e4_row0_col9\" class=\"data row0 col9\" >7.64</td>\n",
       "      <td id=\"T_085e4_row0_col10\" class=\"data row0 col10\" >5,000</td>\n",
       "      <td id=\"T_085e4_row0_col11\" class=\"data row0 col11\" >-4</td>\n",
       "      <td id=\"T_085e4_row0_col12\" class=\"data row0 col12\" >4</td>\n",
       "      <td id=\"T_085e4_row0_col13\" class=\"data row0 col13\" >75,000</td>\n",
       "      <td id=\"T_085e4_row0_col14\" class=\"data row0 col14\" >0.000000</td>\n",
       "      <td id=\"T_085e4_row0_col15\" class=\"data row0 col15\" >0.000000</td>\n",
       "      <td id=\"T_085e4_row0_col16\" class=\"data row0 col16\" >RND20Pct</td>\n",
       "      <td id=\"T_085e4_row0_col17\" class=\"data row0 col17\" >SET</td>\n",
       "    </tr>\n",
       "  </tbody>\n",
       "</table>\n"
      ],
      "text/plain": [
       "<pandas.io.formats.style.Styler at 0x1c282eda5d0>"
      ]
     },
     "execution_count": 104,
     "metadata": {},
     "output_type": "execute_result"
    }
   ],
   "source": [
    "sql = \"\"\"\n",
    "SELECT * \n",
    "FROM stocks \n",
    "WHERE name = '%s'\n",
    "\"\"\"\n",
    "sql = sql % name\n",
    "print(sql)\n",
    "\n",
    "stock = pd.read_sql(sql, conlite)\n",
    "stock.style.format(format_dict)"
   ]
  },
  {
   "cell_type": "code",
   "execution_count": 106,
   "metadata": {},
   "outputs": [
    {
     "name": "stdout",
     "output_type": "stream",
     "text": [
      "GVREIT S 69000 7.75\n"
     ]
    }
   ],
   "source": [
    "# Extract scalar values from Pandas Series (if applicable)\n",
    "new_qty_value = new_qty.iloc[0] if hasattr(new_qty, 'iloc') else new_qty\n",
    "#cost_value = cost.iloc[0] if hasattr(cost, 'iloc') else cost\n",
    "# Print the values\n",
    "print(name, transaction, new_qty_value, new_price)"
   ]
  },
  {
   "cell_type": "code",
   "execution_count": 51,
   "metadata": {},
   "outputs": [],
   "source": [
    "#print(\"Raw cost value before extraction:\", cost)"
   ]
  },
  {
   "cell_type": "code",
   "execution_count": 108,
   "metadata": {},
   "outputs": [],
   "source": [
    "def update_stock(conlite, name, new_qty, new_price):\n",
    "    # Extract scalar values from Pandas Series\n",
    "    new_qty_value = int(new_qty.iloc[0])  \n",
    "    # Use parameterized query to avoid SQL injection\n",
    "    sqlUpd = text(\"\"\"\n",
    "        UPDATE stocks\n",
    "        SET available_qty = :new_qty,\n",
    "        cost = :new_price\n",
    "        WHERE name = :name\n",
    "    \"\"\")    \n",
    "    # Execute the query with parameters\n",
    "    rp = conlite.execute(sqlUpd, {\n",
    "        'new_qty': new_qty_value, # Use the scalar value\n",
    "        'new_price': new_price,\n",
    "        'name': name\n",
    "    })\n",
    "    return f\"Records updated = {rp.rowcount}\""
   ]
  },
  {
   "cell_type": "code",
   "execution_count": 110,
   "metadata": {},
   "outputs": [
    {
     "data": {
      "text/plain": [
       "'Records updated = 1'"
      ]
     },
     "execution_count": 110,
     "metadata": {},
     "output_type": "execute_result"
    }
   ],
   "source": [
    "# Example usage\n",
    "update_stock(conlite, name, new_qty, new_price)"
   ]
  },
  {
   "cell_type": "code",
   "execution_count": 112,
   "metadata": {},
   "outputs": [
    {
     "name": "stdout",
     "output_type": "stream",
     "text": [
      "\n",
      "SELECT * \n",
      "FROM stocks \n",
      "WHERE name = 'GVREIT'\n",
      "\n"
     ]
    },
    {
     "data": {
      "text/html": [
       "<style type=\"text/css\">\n",
       "</style>\n",
       "<table id=\"T_56bb6\">\n",
       "  <thead>\n",
       "    <tr>\n",
       "      <th class=\"blank level0\" >&nbsp;</th>\n",
       "      <th id=\"T_56bb6_level0_col0\" class=\"col_heading level0 col0\" >id</th>\n",
       "      <th id=\"T_56bb6_level0_col1\" class=\"col_heading level0 col1\" >name</th>\n",
       "      <th id=\"T_56bb6_level0_col2\" class=\"col_heading level0 col2\" >max_price</th>\n",
       "      <th id=\"T_56bb6_level0_col3\" class=\"col_heading level0 col3\" >min_price</th>\n",
       "      <th id=\"T_56bb6_level0_col4\" class=\"col_heading level0 col4\" >status</th>\n",
       "      <th id=\"T_56bb6_level0_col5\" class=\"col_heading level0 col5\" >buy_target</th>\n",
       "      <th id=\"T_56bb6_level0_col6\" class=\"col_heading level0 col6\" >sell_target</th>\n",
       "      <th id=\"T_56bb6_level0_col7\" class=\"col_heading level0 col7\" >volume</th>\n",
       "      <th id=\"T_56bb6_level0_col8\" class=\"col_heading level0 col8\" >beta</th>\n",
       "      <th id=\"T_56bb6_level0_col9\" class=\"col_heading level0 col9\" >cost</th>\n",
       "      <th id=\"T_56bb6_level0_col10\" class=\"col_heading level0 col10\" >qty</th>\n",
       "      <th id=\"T_56bb6_level0_col11\" class=\"col_heading level0 col11\" >buy_spread</th>\n",
       "      <th id=\"T_56bb6_level0_col12\" class=\"col_heading level0 col12\" >sell_spread</th>\n",
       "      <th id=\"T_56bb6_level0_col13\" class=\"col_heading level0 col13\" >available_qty</th>\n",
       "      <th id=\"T_56bb6_level0_col14\" class=\"col_heading level0 col14\" >bl</th>\n",
       "      <th id=\"T_56bb6_level0_col15\" class=\"col_heading level0 col15\" >sh</th>\n",
       "      <th id=\"T_56bb6_level0_col16\" class=\"col_heading level0 col16\" >reason</th>\n",
       "      <th id=\"T_56bb6_level0_col17\" class=\"col_heading level0 col17\" >market</th>\n",
       "    </tr>\n",
       "  </thead>\n",
       "  <tbody>\n",
       "    <tr>\n",
       "      <th id=\"T_56bb6_level0_row0\" class=\"row_heading level0 row0\" >0</th>\n",
       "      <td id=\"T_56bb6_row0_col0\" class=\"data row0 col0\" >108</td>\n",
       "      <td id=\"T_56bb6_row0_col1\" class=\"data row0 col1\" >GVREIT</td>\n",
       "      <td id=\"T_56bb6_row0_col2\" class=\"data row0 col2\" >0.00</td>\n",
       "      <td id=\"T_56bb6_row0_col3\" class=\"data row0 col3\" >0.00</td>\n",
       "      <td id=\"T_56bb6_row0_col4\" class=\"data row0 col4\" >B</td>\n",
       "      <td id=\"T_56bb6_row0_col5\" class=\"data row0 col5\" >6.20</td>\n",
       "      <td id=\"T_56bb6_row0_col6\" class=\"data row0 col6\" >7.65</td>\n",
       "      <td id=\"T_56bb6_row0_col7\" class=\"data row0 col7\" >0.00</td>\n",
       "      <td id=\"T_56bb6_row0_col8\" class=\"data row0 col8\" >0.00</td>\n",
       "      <td id=\"T_56bb6_row0_col9\" class=\"data row0 col9\" >7.75</td>\n",
       "      <td id=\"T_56bb6_row0_col10\" class=\"data row0 col10\" >5,000</td>\n",
       "      <td id=\"T_56bb6_row0_col11\" class=\"data row0 col11\" >-4</td>\n",
       "      <td id=\"T_56bb6_row0_col12\" class=\"data row0 col12\" >4</td>\n",
       "      <td id=\"T_56bb6_row0_col13\" class=\"data row0 col13\" >69,000</td>\n",
       "      <td id=\"T_56bb6_row0_col14\" class=\"data row0 col14\" >0.000000</td>\n",
       "      <td id=\"T_56bb6_row0_col15\" class=\"data row0 col15\" >0.000000</td>\n",
       "      <td id=\"T_56bb6_row0_col16\" class=\"data row0 col16\" >RND20Pct</td>\n",
       "      <td id=\"T_56bb6_row0_col17\" class=\"data row0 col17\" >SET</td>\n",
       "    </tr>\n",
       "  </tbody>\n",
       "</table>\n"
      ],
      "text/plain": [
       "<pandas.io.formats.style.Styler at 0x1c282be6d80>"
      ]
     },
     "execution_count": 112,
     "metadata": {},
     "output_type": "execute_result"
    }
   ],
   "source": [
    "sql = \"\"\"\n",
    "SELECT * \n",
    "FROM stocks \n",
    "WHERE name = '%s'\n",
    "\"\"\"\n",
    "sql = sql % name\n",
    "print(sql)\n",
    "\n",
    "stocks = pd.read_sql(sql, conlite)\n",
    "stocks.style.format(format_dict)"
   ]
  },
  {
   "cell_type": "code",
   "execution_count": 103,
   "metadata": {},
   "outputs": [
    {
     "name": "stdout",
     "output_type": "stream",
     "text": [
      "Records deleted: 0\n"
     ]
    }
   ],
   "source": [
    "# Define the SQL query\n",
    "sqlDel = text(\"\"\"\n",
    "    DELETE FROM stocks\n",
    "    WHERE name = :name AND available_qty = 0;\n",
    "\"\"\")\n",
    "\n",
    "# Execute the query with the correct parameter dictionary\n",
    "result = conlite.execute(sqlDel, {'name': name})\n",
    "\n",
    "# Print the number of rows deleted\n",
    "print(f\"Records deleted: {result.rowcount}\")  "
   ]
  },
  {
   "cell_type": "markdown",
   "metadata": {},
   "source": [
    "### End of Update stocks table in SQLite port_lite database from sale transaction"
   ]
  },
  {
   "cell_type": "markdown",
   "metadata": {},
   "source": [
    "## End of Sale process"
   ]
  },
  {
   "cell_type": "markdown",
   "metadata": {},
   "source": [
    "### ====================================================="
   ]
  },
  {
   "cell_type": "markdown",
   "metadata": {},
   "source": [
    "## Begin of  Buy process"
   ]
  },
  {
   "cell_type": "markdown",
   "metadata": {},
   "source": [
    "### Begin of Update buy table in MySQL database from buy transaction"
   ]
  },
  {
   "cell_type": "code",
   "execution_count": 60,
   "metadata": {},
   "outputs": [
    {
     "name": "stdout",
     "output_type": "stream",
     "text": [
      "\n",
      "SELECT *, volbuy * price AS cost_amt \n",
      "FROM buy\n",
      "WHERE name = 'PTT'\n",
      "\n"
     ]
    },
    {
     "data": {
      "text/html": [
       "<div>\n",
       "<style scoped>\n",
       "    .dataframe tbody tr th:only-of-type {\n",
       "        vertical-align: middle;\n",
       "    }\n",
       "\n",
       "    .dataframe tbody tr th {\n",
       "        vertical-align: top;\n",
       "    }\n",
       "\n",
       "    .dataframe thead th {\n",
       "        text-align: right;\n",
       "    }\n",
       "</style>\n",
       "<table border=\"1\" class=\"dataframe\">\n",
       "  <thead>\n",
       "    <tr style=\"text-align: right;\">\n",
       "      <th></th>\n",
       "      <th>name</th>\n",
       "      <th>date</th>\n",
       "      <th>shares</th>\n",
       "      <th>price</th>\n",
       "      <th>active</th>\n",
       "      <th>dividend</th>\n",
       "      <th>period</th>\n",
       "      <th>grade</th>\n",
       "      <th>cost_amt</th>\n",
       "    </tr>\n",
       "  </thead>\n",
       "  <tbody>\n",
       "  </tbody>\n",
       "</table>\n",
       "</div>"
      ],
      "text/plain": [
       "Empty DataFrame\n",
       "Columns: [name, date, shares, price, active, dividend, period, grade, cost_amt]\n",
       "Index: []"
      ]
     },
     "execution_count": 60,
     "metadata": {},
     "output_type": "execute_result"
    }
   ],
   "source": [
    "sql = \"\"\"\n",
    "SELECT *, volbuy * price AS cost_amt \n",
    "FROM buy\n",
    "WHERE name = '%s'\n",
    "\"\"\"\n",
    "sql = sql % name\n",
    "print(sql)\n",
    "\n",
    "buy = pd.read_sql(sql, const)\n",
    "buy['date'] = pd.to_datetime(buy['date'])\n",
    "buy.drop(['volsell', 'volbal'], axis=1, inplace = True)\n",
    "buy.rename(columns={'volbuy':'shares'}, inplace = True)\n",
    "buy['shares'] = buy['shares'].astype('int64')\n",
    "buy"
   ]
  },
  {
   "cell_type": "code",
   "execution_count": 62,
   "metadata": {},
   "outputs": [
    {
     "name": "stdout",
     "output_type": "stream",
     "text": [
      "B PTT 2500 32.0\n"
     ]
    }
   ],
   "source": [
    "print(transaction, name, qty, buy_price)"
   ]
  },
  {
   "cell_type": "code",
   "execution_count": 64,
   "metadata": {},
   "outputs": [
    {
     "ename": "IndexError",
     "evalue": "single positional indexer is out-of-bounds",
     "output_type": "error",
     "traceback": [
      "\u001b[1;31m---------------------------------------------------------------------------\u001b[0m",
      "\u001b[1;31mIndexError\u001b[0m                                Traceback (most recent call last)",
      "Cell \u001b[1;32mIn[64], line 1\u001b[0m\n\u001b[1;32m----> 1\u001b[0m new_unit_cost \u001b[38;5;241m=\u001b[39m buy[\u001b[38;5;124m'\u001b[39m\u001b[38;5;124mcost_amt\u001b[39m\u001b[38;5;124m'\u001b[39m]\u001b[38;5;241m.\u001b[39miloc[\u001b[38;5;241m0\u001b[39m] \u001b[38;5;241m+\u001b[39m (qty \u001b[38;5;241m*\u001b[39m buy_price)\n\u001b[0;32m      2\u001b[0m new_qty \u001b[38;5;241m=\u001b[39m buy[\u001b[38;5;124m'\u001b[39m\u001b[38;5;124mshares\u001b[39m\u001b[38;5;124m'\u001b[39m]\u001b[38;5;241m.\u001b[39miloc[\u001b[38;5;241m0\u001b[39m] \u001b[38;5;241m+\u001b[39m qty\n\u001b[0;32m      3\u001b[0m \u001b[38;5;28mprint\u001b[39m(new_unit_cost)\n",
      "File \u001b[1;32m~\\anaconda3\\Lib\\site-packages\\pandas\\core\\indexing.py:1191\u001b[0m, in \u001b[0;36m_LocationIndexer.__getitem__\u001b[1;34m(self, key)\u001b[0m\n\u001b[0;32m   1189\u001b[0m maybe_callable \u001b[38;5;241m=\u001b[39m com\u001b[38;5;241m.\u001b[39mapply_if_callable(key, \u001b[38;5;28mself\u001b[39m\u001b[38;5;241m.\u001b[39mobj)\n\u001b[0;32m   1190\u001b[0m maybe_callable \u001b[38;5;241m=\u001b[39m \u001b[38;5;28mself\u001b[39m\u001b[38;5;241m.\u001b[39m_check_deprecated_callable_usage(key, maybe_callable)\n\u001b[1;32m-> 1191\u001b[0m \u001b[38;5;28;01mreturn\u001b[39;00m \u001b[38;5;28mself\u001b[39m\u001b[38;5;241m.\u001b[39m_getitem_axis(maybe_callable, axis\u001b[38;5;241m=\u001b[39maxis)\n",
      "File \u001b[1;32m~\\anaconda3\\Lib\\site-packages\\pandas\\core\\indexing.py:1752\u001b[0m, in \u001b[0;36m_iLocIndexer._getitem_axis\u001b[1;34m(self, key, axis)\u001b[0m\n\u001b[0;32m   1749\u001b[0m     \u001b[38;5;28;01mraise\u001b[39;00m \u001b[38;5;167;01mTypeError\u001b[39;00m(\u001b[38;5;124m\"\u001b[39m\u001b[38;5;124mCannot index by location index with a non-integer key\u001b[39m\u001b[38;5;124m\"\u001b[39m)\n\u001b[0;32m   1751\u001b[0m \u001b[38;5;66;03m# validate the location\u001b[39;00m\n\u001b[1;32m-> 1752\u001b[0m \u001b[38;5;28mself\u001b[39m\u001b[38;5;241m.\u001b[39m_validate_integer(key, axis)\n\u001b[0;32m   1754\u001b[0m \u001b[38;5;28;01mreturn\u001b[39;00m \u001b[38;5;28mself\u001b[39m\u001b[38;5;241m.\u001b[39mobj\u001b[38;5;241m.\u001b[39m_ixs(key, axis\u001b[38;5;241m=\u001b[39maxis)\n",
      "File \u001b[1;32m~\\anaconda3\\Lib\\site-packages\\pandas\\core\\indexing.py:1685\u001b[0m, in \u001b[0;36m_iLocIndexer._validate_integer\u001b[1;34m(self, key, axis)\u001b[0m\n\u001b[0;32m   1683\u001b[0m len_axis \u001b[38;5;241m=\u001b[39m \u001b[38;5;28mlen\u001b[39m(\u001b[38;5;28mself\u001b[39m\u001b[38;5;241m.\u001b[39mobj\u001b[38;5;241m.\u001b[39m_get_axis(axis))\n\u001b[0;32m   1684\u001b[0m \u001b[38;5;28;01mif\u001b[39;00m key \u001b[38;5;241m>\u001b[39m\u001b[38;5;241m=\u001b[39m len_axis \u001b[38;5;129;01mor\u001b[39;00m key \u001b[38;5;241m<\u001b[39m \u001b[38;5;241m-\u001b[39mlen_axis:\n\u001b[1;32m-> 1685\u001b[0m     \u001b[38;5;28;01mraise\u001b[39;00m \u001b[38;5;167;01mIndexError\u001b[39;00m(\u001b[38;5;124m\"\u001b[39m\u001b[38;5;124msingle positional indexer is out-of-bounds\u001b[39m\u001b[38;5;124m\"\u001b[39m)\n",
      "\u001b[1;31mIndexError\u001b[0m: single positional indexer is out-of-bounds"
     ]
    }
   ],
   "source": [
    "new_unit_cost = buy['cost_amt'].iloc[0] + (qty * buy_price)\n",
    "new_qty = buy['shares'].iloc[0] + qty\n",
    "print(new_unit_cost)\n",
    "print(new_qty)\n",
    "new_unit_cost = new_unit_cost / new_qty\n",
    "print(new_unit_cost)"
   ]
  },
  {
   "cell_type": "code",
   "execution_count": 25,
   "metadata": {},
   "outputs": [
    {
     "name": "stdout",
     "output_type": "stream",
     "text": [
      "10.75\n"
     ]
    }
   ],
   "source": [
    "new_unit_cost = 10.75\n",
    "print(new_unit_cost)"
   ]
  },
  {
   "cell_type": "markdown",
   "metadata": {},
   "source": [
    "### In case there is the same stock name in port"
   ]
  },
  {
   "cell_type": "code",
   "execution_count": 23,
   "metadata": {},
   "outputs": [],
   "source": [
    "def update_buy(const, name, new_qty, new_unit_cost):\n",
    "    # Extract scalar values from Pandas Series\n",
    "    new_qty_value = new_qty\n",
    "    new_unit_cost_value = new_unit_cost\n",
    "    \n",
    "    # Use parameterized query to avoid SQL injection\n",
    "    sqlUpd = text(\"\"\"\n",
    "        UPDATE buy\n",
    "        SET volbuy = :new_qty, \n",
    "            price = :new_unit_cost\n",
    "        WHERE name = :name\n",
    "    \"\"\")\n",
    "    \n",
    "    # Execute the query with parameters\n",
    "    rp = const.execute(sqlUpd, {\n",
    "        'new_qty': new_qty_value,  # Use the scalar value\n",
    "        'new_unit_cost': new_unit_cost_value,  # Use the scalar value\n",
    "        'name': name\n",
    "    })\n",
    "\n",
    "    return f\"Records updated = {rp.rowcount}\""
   ]
  },
  {
   "cell_type": "code",
   "execution_count": 27,
   "metadata": {},
   "outputs": [
    {
     "data": {
      "text/plain": [
       "'Records updated = 1'"
      ]
     },
     "execution_count": 27,
     "metadata": {},
     "output_type": "execute_result"
    }
   ],
   "source": [
    "# Example usage\n",
    "update_buy(const, name, new_qty, new_unit_cost)"
   ]
  },
  {
   "cell_type": "code",
   "execution_count": 29,
   "metadata": {},
   "outputs": [
    {
     "name": "stdout",
     "output_type": "stream",
     "text": [
      "\n",
      "SELECT * \n",
      "FROM buy \n",
      "WHERE name = 'AIMIRT'\n",
      "\n"
     ]
    },
    {
     "data": {
      "text/html": [
       "<style type=\"text/css\">\n",
       "</style>\n",
       "<table id=\"T_8a754\">\n",
       "  <thead>\n",
       "    <tr>\n",
       "      <th class=\"blank level0\" >&nbsp;</th>\n",
       "      <th id=\"T_8a754_level0_col0\" class=\"col_heading level0 col0\" >name</th>\n",
       "      <th id=\"T_8a754_level0_col1\" class=\"col_heading level0 col1\" >date</th>\n",
       "      <th id=\"T_8a754_level0_col2\" class=\"col_heading level0 col2\" >shares</th>\n",
       "      <th id=\"T_8a754_level0_col3\" class=\"col_heading level0 col3\" >price</th>\n",
       "      <th id=\"T_8a754_level0_col4\" class=\"col_heading level0 col4\" >active</th>\n",
       "      <th id=\"T_8a754_level0_col5\" class=\"col_heading level0 col5\" >dividend</th>\n",
       "      <th id=\"T_8a754_level0_col6\" class=\"col_heading level0 col6\" >period</th>\n",
       "      <th id=\"T_8a754_level0_col7\" class=\"col_heading level0 col7\" >grade</th>\n",
       "    </tr>\n",
       "  </thead>\n",
       "  <tbody>\n",
       "    <tr>\n",
       "      <th id=\"T_8a754_level0_row0\" class=\"row_heading level0 row0\" >0</th>\n",
       "      <td id=\"T_8a754_row0_col0\" class=\"data row0 col0\" >AIMIRT</td>\n",
       "      <td id=\"T_8a754_row0_col1\" class=\"data row0 col1\" >2023-08-17</td>\n",
       "      <td id=\"T_8a754_row0_col2\" class=\"data row0 col2\" >15,000</td>\n",
       "      <td id=\"T_8a754_row0_col3\" class=\"data row0 col3\" >10.75</td>\n",
       "      <td id=\"T_8a754_row0_col4\" class=\"data row0 col4\" >1</td>\n",
       "      <td id=\"T_8a754_row0_col5\" class=\"data row0 col5\" >0.7883</td>\n",
       "      <td id=\"T_8a754_row0_col6\" class=\"data row0 col6\" >2</td>\n",
       "      <td id=\"T_8a754_row0_col7\" class=\"data row0 col7\" >A1</td>\n",
       "    </tr>\n",
       "  </tbody>\n",
       "</table>\n"
      ],
      "text/plain": [
       "<pandas.io.formats.style.Styler at 0x244e0dbb500>"
      ]
     },
     "execution_count": 29,
     "metadata": {},
     "output_type": "execute_result"
    }
   ],
   "source": [
    "sql = \"\"\"\n",
    "SELECT * \n",
    "FROM buy \n",
    "WHERE name = '%s'\n",
    "\"\"\"\n",
    "sql = sql % name\n",
    "print(sql)\n",
    "\n",
    "buy = pd.read_sql(sql, const)\n",
    "buy.drop(['volsell', 'volbal'], axis=1, inplace=True)\n",
    "buy.rename(columns={'volbuy':'shares'},inplace=True)\n",
    "buy['shares'] = buy['shares'].astype('int64')\n",
    "buy.style.format(format_dict)"
   ]
  },
  {
   "cell_type": "markdown",
   "metadata": {},
   "source": [
    "### In case of totally new stock"
   ]
  },
  {
   "cell_type": "code",
   "execution_count": 74,
   "metadata": {},
   "outputs": [
    {
     "data": {
      "text/plain": [
       "1"
      ]
     },
     "execution_count": 74,
     "metadata": {},
     "output_type": "execute_result"
    }
   ],
   "source": [
    "rcd = {\n",
    "    'name': 'PTT',\n",
    "    'date': '2025-08-08',\n",
    "    'volbuy': 2500,\n",
    "    'price': 32,\n",
    "    'volsell': 0,\n",
    "    'volbal': 0,\n",
    "    'active': 1,\n",
    "    'dividend': 0,\n",
    "    'period': 2,\n",
    "    'grade': 'A2'\n",
    "}\n",
    "sqlIns = text(\"\"\"\n",
    "INSERT INTO buy (name, date, volbuy, price, volsell, volbal, active, dividend, period, grade)\n",
    "VALUES (:name, :date, :volbuy, :price, :volsell, :volbal, :active, :dividend, :period, :grade)\n",
    "\"\"\")\n",
    "rp = const.execute(sqlIns, rcd)\n",
    "rp.rowcount"
   ]
  },
  {
   "cell_type": "code",
   "execution_count": 76,
   "metadata": {},
   "outputs": [],
   "source": [
    "name = 'PTT'"
   ]
  },
  {
   "cell_type": "code",
   "execution_count": 78,
   "metadata": {},
   "outputs": [
    {
     "name": "stdout",
     "output_type": "stream",
     "text": [
      "\n",
      "SELECT * \n",
      "FROM buy \n",
      "WHERE name = 'PTT'\n",
      "\n"
     ]
    },
    {
     "data": {
      "text/html": [
       "<style type=\"text/css\">\n",
       "</style>\n",
       "<table id=\"T_7179f\">\n",
       "  <thead>\n",
       "    <tr>\n",
       "      <th class=\"blank level0\" >&nbsp;</th>\n",
       "      <th id=\"T_7179f_level0_col0\" class=\"col_heading level0 col0\" >name</th>\n",
       "      <th id=\"T_7179f_level0_col1\" class=\"col_heading level0 col1\" >date</th>\n",
       "      <th id=\"T_7179f_level0_col2\" class=\"col_heading level0 col2\" >shares</th>\n",
       "      <th id=\"T_7179f_level0_col3\" class=\"col_heading level0 col3\" >price</th>\n",
       "      <th id=\"T_7179f_level0_col4\" class=\"col_heading level0 col4\" >active</th>\n",
       "      <th id=\"T_7179f_level0_col5\" class=\"col_heading level0 col5\" >dividend</th>\n",
       "      <th id=\"T_7179f_level0_col6\" class=\"col_heading level0 col6\" >period</th>\n",
       "      <th id=\"T_7179f_level0_col7\" class=\"col_heading level0 col7\" >grade</th>\n",
       "    </tr>\n",
       "  </thead>\n",
       "  <tbody>\n",
       "    <tr>\n",
       "      <th id=\"T_7179f_level0_row0\" class=\"row_heading level0 row0\" >0</th>\n",
       "      <td id=\"T_7179f_row0_col0\" class=\"data row0 col0\" >PTT</td>\n",
       "      <td id=\"T_7179f_row0_col1\" class=\"data row0 col1\" >2025-08-08</td>\n",
       "      <td id=\"T_7179f_row0_col2\" class=\"data row0 col2\" >2,500</td>\n",
       "      <td id=\"T_7179f_row0_col3\" class=\"data row0 col3\" >32.00</td>\n",
       "      <td id=\"T_7179f_row0_col4\" class=\"data row0 col4\" >1</td>\n",
       "      <td id=\"T_7179f_row0_col5\" class=\"data row0 col5\" >0.0000</td>\n",
       "      <td id=\"T_7179f_row0_col6\" class=\"data row0 col6\" >2</td>\n",
       "      <td id=\"T_7179f_row0_col7\" class=\"data row0 col7\" >A2</td>\n",
       "    </tr>\n",
       "  </tbody>\n",
       "</table>\n"
      ],
      "text/plain": [
       "<pandas.io.formats.style.Styler at 0x244e1d016d0>"
      ]
     },
     "execution_count": 78,
     "metadata": {},
     "output_type": "execute_result"
    }
   ],
   "source": [
    "sql = \"\"\"\n",
    "SELECT * \n",
    "FROM buy \n",
    "WHERE name = '%s'\n",
    "\"\"\"\n",
    "sql = sql % name\n",
    "print(sql)\n",
    "\n",
    "buy = pd.read_sql(sql, const)\n",
    "buy.drop(['volsell', 'volbal'], axis=1, inplace=True)\n",
    "buy.rename(columns={'volbuy':'shares'},inplace=True)\n",
    "buy['shares'] = buy['shares'].astype('int64')\n",
    "buy.style.format(format_dict)"
   ]
  },
  {
   "cell_type": "markdown",
   "metadata": {},
   "source": [
    "### End of Update buy table in MySQL database from buy transaction"
   ]
  },
  {
   "cell_type": "markdown",
   "metadata": {},
   "source": [
    "### Begin of Update dividend table in MySQL stock database from buy transaction"
   ]
  },
  {
   "cell_type": "code",
   "execution_count": 80,
   "metadata": {},
   "outputs": [
    {
     "name": "stdout",
     "output_type": "stream",
     "text": [
      "\n",
      "SELECT * \n",
      "FROM dividend \n",
      "WHERE name = 'PTT' \n",
      "\n"
     ]
    },
    {
     "data": {
      "text/html": [
       "<style type=\"text/css\">\n",
       "</style>\n",
       "<table id=\"T_c5a1f\">\n",
       "  <thead>\n",
       "    <tr>\n",
       "      <th class=\"blank level0\" >&nbsp;</th>\n",
       "      <th id=\"T_c5a1f_level0_col0\" class=\"col_heading level0 col0\" >name</th>\n",
       "      <th id=\"T_c5a1f_level0_col1\" class=\"col_heading level0 col1\" >q4</th>\n",
       "      <th id=\"T_c5a1f_level0_col2\" class=\"col_heading level0 col2\" >q3</th>\n",
       "      <th id=\"T_c5a1f_level0_col3\" class=\"col_heading level0 col3\" >q2</th>\n",
       "      <th id=\"T_c5a1f_level0_col4\" class=\"col_heading level0 col4\" >q1</th>\n",
       "      <th id=\"T_c5a1f_level0_col5\" class=\"col_heading level0 col5\" >dividend</th>\n",
       "      <th id=\"T_c5a1f_level0_col6\" class=\"col_heading level0 col6\" >shares</th>\n",
       "      <th id=\"T_c5a1f_level0_col7\" class=\"col_heading level0 col7\" >xdate</th>\n",
       "      <th id=\"T_c5a1f_level0_col8\" class=\"col_heading level0 col8\" >paiddate</th>\n",
       "      <th id=\"T_c5a1f_level0_col9\" class=\"col_heading level0 col9\" >kind</th>\n",
       "      <th id=\"T_c5a1f_level0_col10\" class=\"col_heading level0 col10\" >actual</th>\n",
       "    </tr>\n",
       "  </thead>\n",
       "  <tbody>\n",
       "    <tr>\n",
       "      <th id=\"T_c5a1f_level0_row0\" class=\"row_heading level0 row0\" >0</th>\n",
       "      <td id=\"T_c5a1f_row0_col0\" class=\"data row0 col0\" >PTT</td>\n",
       "      <td id=\"T_c5a1f_row0_col1\" class=\"data row0 col1\" >1.3000</td>\n",
       "      <td id=\"T_c5a1f_row0_col2\" class=\"data row0 col2\" >0.0000</td>\n",
       "      <td id=\"T_c5a1f_row0_col3\" class=\"data row0 col3\" >0.8000</td>\n",
       "      <td id=\"T_c5a1f_row0_col4\" class=\"data row0 col4\" >0.0000</td>\n",
       "      <td id=\"T_c5a1f_row0_col5\" class=\"data row0 col5\" >2.1000</td>\n",
       "      <td id=\"T_c5a1f_row0_col6\" class=\"data row0 col6\" >0</td>\n",
       "      <td id=\"T_c5a1f_row0_col7\" class=\"data row0 col7\" >2025-03-06</td>\n",
       "      <td id=\"T_c5a1f_row0_col8\" class=\"data row0 col8\" >2025-04-29</td>\n",
       "      <td id=\"T_c5a1f_row0_col9\" class=\"data row0 col9\" ></td>\n",
       "      <td id=\"T_c5a1f_row0_col10\" class=\"data row0 col10\" >0</td>\n",
       "    </tr>\n",
       "  </tbody>\n",
       "</table>\n"
      ],
      "text/plain": [
       "<pandas.io.formats.style.Styler at 0x244e45e9700>"
      ]
     },
     "execution_count": 80,
     "metadata": {},
     "output_type": "execute_result"
    }
   ],
   "source": [
    "sql = \"\"\"\n",
    "SELECT * \n",
    "FROM dividend \n",
    "WHERE name = '%s' \n",
    "\"\"\"\n",
    "sql = sql % name\n",
    "print(sql)\n",
    "\n",
    "dividend = pd.read_sql(sql, const)\n",
    "dividend.drop(['PRICE', 'PERCENT'], axis=1, inplace=True)\n",
    "dividend.columns = dividend.columns.str.lower()\n",
    "dividend['shares'] = dividend['shares'].astype('int64')\n",
    "dividend['xdate'] = pd.to_datetime(dividend['xdate'])\n",
    "dividend['paiddate'] = pd.to_datetime(dividend['paiddate'])\n",
    "dividend.style.format(format_dict)"
   ]
  },
  {
   "cell_type": "code",
   "execution_count": 82,
   "metadata": {},
   "outputs": [
    {
     "name": "stdout",
     "output_type": "stream",
     "text": [
      "2500\n"
     ]
    }
   ],
   "source": [
    "new_qty = dividend['shares'].iloc[0] + qty\n",
    "print(new_qty)"
   ]
  },
  {
   "cell_type": "code",
   "execution_count": 84,
   "metadata": {},
   "outputs": [],
   "source": [
    "def update_dividend(const, name, new_qty):\n",
    "    # Extract scalar values from Pandas Series\n",
    "    new_qty_value = new_qty  \n",
    "    # Use parameterized query to avoid SQL injection\n",
    "    sqlUpd = text(\"\"\"\n",
    "        UPDATE dividend\n",
    "        SET shares = :new_qty\n",
    "        WHERE name = :name\n",
    "    \"\"\")\n",
    "    \n",
    "    # Execute the query with parameters\n",
    "    rp = const.execute(sqlUpd, {\n",
    "        'new_qty': new_qty_value,  # Use the scalar value\n",
    "        'name': name\n",
    "    })\n",
    "\n",
    "    return f\"Records updated = {rp.rowcount}\""
   ]
  },
  {
   "cell_type": "code",
   "execution_count": 86,
   "metadata": {},
   "outputs": [
    {
     "data": {
      "text/plain": [
       "'Records updated = 1'"
      ]
     },
     "execution_count": 86,
     "metadata": {},
     "output_type": "execute_result"
    }
   ],
   "source": [
    "update_dividend(const, name, new_qty)"
   ]
  },
  {
   "cell_type": "code",
   "execution_count": 88,
   "metadata": {},
   "outputs": [
    {
     "name": "stdout",
     "output_type": "stream",
     "text": [
      "\n",
      "SELECT * \n",
      "FROM dividend \n",
      "WHERE name = 'PTT' \n",
      "\n"
     ]
    },
    {
     "data": {
      "text/html": [
       "<style type=\"text/css\">\n",
       "</style>\n",
       "<table id=\"T_18bd3\">\n",
       "  <thead>\n",
       "    <tr>\n",
       "      <th class=\"blank level0\" >&nbsp;</th>\n",
       "      <th id=\"T_18bd3_level0_col0\" class=\"col_heading level0 col0\" >name</th>\n",
       "      <th id=\"T_18bd3_level0_col1\" class=\"col_heading level0 col1\" >q4</th>\n",
       "      <th id=\"T_18bd3_level0_col2\" class=\"col_heading level0 col2\" >q3</th>\n",
       "      <th id=\"T_18bd3_level0_col3\" class=\"col_heading level0 col3\" >q2</th>\n",
       "      <th id=\"T_18bd3_level0_col4\" class=\"col_heading level0 col4\" >q1</th>\n",
       "      <th id=\"T_18bd3_level0_col5\" class=\"col_heading level0 col5\" >dividend</th>\n",
       "      <th id=\"T_18bd3_level0_col6\" class=\"col_heading level0 col6\" >shares</th>\n",
       "      <th id=\"T_18bd3_level0_col7\" class=\"col_heading level0 col7\" >xdate</th>\n",
       "      <th id=\"T_18bd3_level0_col8\" class=\"col_heading level0 col8\" >paiddate</th>\n",
       "      <th id=\"T_18bd3_level0_col9\" class=\"col_heading level0 col9\" >kind</th>\n",
       "      <th id=\"T_18bd3_level0_col10\" class=\"col_heading level0 col10\" >actual</th>\n",
       "    </tr>\n",
       "  </thead>\n",
       "  <tbody>\n",
       "    <tr>\n",
       "      <th id=\"T_18bd3_level0_row0\" class=\"row_heading level0 row0\" >0</th>\n",
       "      <td id=\"T_18bd3_row0_col0\" class=\"data row0 col0\" >PTT</td>\n",
       "      <td id=\"T_18bd3_row0_col1\" class=\"data row0 col1\" >1.3000</td>\n",
       "      <td id=\"T_18bd3_row0_col2\" class=\"data row0 col2\" >0.0000</td>\n",
       "      <td id=\"T_18bd3_row0_col3\" class=\"data row0 col3\" >0.8000</td>\n",
       "      <td id=\"T_18bd3_row0_col4\" class=\"data row0 col4\" >0.0000</td>\n",
       "      <td id=\"T_18bd3_row0_col5\" class=\"data row0 col5\" >2.1000</td>\n",
       "      <td id=\"T_18bd3_row0_col6\" class=\"data row0 col6\" >2,500</td>\n",
       "      <td id=\"T_18bd3_row0_col7\" class=\"data row0 col7\" >2025-03-06</td>\n",
       "      <td id=\"T_18bd3_row0_col8\" class=\"data row0 col8\" >2025-04-29</td>\n",
       "      <td id=\"T_18bd3_row0_col9\" class=\"data row0 col9\" ></td>\n",
       "      <td id=\"T_18bd3_row0_col10\" class=\"data row0 col10\" >0</td>\n",
       "    </tr>\n",
       "  </tbody>\n",
       "</table>\n"
      ],
      "text/plain": [
       "<pandas.io.formats.style.Styler at 0x244e4ffec00>"
      ]
     },
     "execution_count": 88,
     "metadata": {},
     "output_type": "execute_result"
    }
   ],
   "source": [
    "sql = \"\"\"\n",
    "SELECT * \n",
    "FROM dividend \n",
    "WHERE name = '%s' \n",
    "\"\"\"\n",
    "sql = sql % name\n",
    "print(sql)\n",
    "\n",
    "dividend = pd.read_sql(sql, const)\n",
    "dividend.drop(['PRICE', 'PERCENT'], axis=1, inplace=True)\n",
    "dividend.columns = dividend.columns.str.lower()\n",
    "dividend['shares'] = dividend['shares'].astype('int64')\n",
    "dividend['xdate'] = pd.to_datetime(dividend['xdate'])\n",
    "dividend['paiddate'] = pd.to_datetime(dividend['paiddate'])\n",
    "dividend.style.format(format_dict)"
   ]
  },
  {
   "cell_type": "markdown",
   "metadata": {},
   "source": [
    "### In case of totally new dividend"
   ]
  },
  {
   "cell_type": "code",
   "execution_count": 15,
   "metadata": {},
   "outputs": [
    {
     "data": {
      "text/plain": [
       "['TOA', 0.25, 0, 0.33, 0, 0.58, 1000, '2023-08-30', '2023-09-14', '', 1]"
      ]
     },
     "execution_count": 15,
     "metadata": {},
     "output_type": "execute_result"
    }
   ],
   "source": [
    "rcd = ['TVO', 0.25, 0, 0.33, 0, 0.58, 1000, '2023-08-30', '2023-09-14', '', 1]\n",
    "rcd"
   ]
  },
  {
   "cell_type": "code",
   "execution_count": 15,
   "metadata": {},
   "outputs": [
    {
     "name": "stdout",
     "output_type": "stream",
     "text": [
      "\n",
      "INSERT INTO dividend (name, q4, q3, q2, q1, dividend, shares, xdate, paiddate, kind, actual)\n",
      "VALUES (%s, %s, %s, %s, %s, %s, %s, %s, %s, %s, %s)\n",
      "\n"
     ]
    }
   ],
   "source": [
    "sqlIns = \"\"\"\n",
    "INSERT INTO dividend (name, q4, q3, q2, q1, dividend, shares, xdate, paiddate, kind, actual)\n",
    "VALUES (%s, %s, %s, %s, %s, %s, %s, %s, %s, %s, %s)\n",
    "\"\"\"\n",
    "print(sqlIns)"
   ]
  },
  {
   "cell_type": "code",
   "execution_count": 16,
   "metadata": {},
   "outputs": [
    {
     "data": {
      "text/plain": [
       "1"
      ]
     },
     "execution_count": 16,
     "metadata": {},
     "output_type": "execute_result"
    }
   ],
   "source": [
    "rp = const.execute(sqlIns, rcd)\n",
    "rp.rowcount"
   ]
  },
  {
   "cell_type": "code",
   "execution_count": 17,
   "metadata": {},
   "outputs": [
    {
     "name": "stdout",
     "output_type": "stream",
     "text": [
      "\n",
      "SELECT * \n",
      "FROM dividend \n",
      "WHERE name = 'TOA' \n",
      "\n"
     ]
    },
    {
     "data": {
      "text/html": [
       "<style type=\"text/css\">\n",
       "</style>\n",
       "<table id=\"T_11606_\">\n",
       "  <thead>\n",
       "    <tr>\n",
       "      <th class=\"blank level0\" >&nbsp;</th>\n",
       "      <th class=\"col_heading level0 col0\" >name</th>\n",
       "      <th class=\"col_heading level0 col1\" >q4</th>\n",
       "      <th class=\"col_heading level0 col2\" >q3</th>\n",
       "      <th class=\"col_heading level0 col3\" >q2</th>\n",
       "      <th class=\"col_heading level0 col4\" >q1</th>\n",
       "      <th class=\"col_heading level0 col5\" >dividend</th>\n",
       "      <th class=\"col_heading level0 col6\" >shares</th>\n",
       "      <th class=\"col_heading level0 col7\" >xdate</th>\n",
       "      <th class=\"col_heading level0 col8\" >paiddate</th>\n",
       "      <th class=\"col_heading level0 col9\" >kind</th>\n",
       "      <th class=\"col_heading level0 col10\" >actual</th>\n",
       "    </tr>\n",
       "  </thead>\n",
       "  <tbody>\n",
       "    <tr>\n",
       "      <th id=\"T_11606_level0_row0\" class=\"row_heading level0 row0\" >0</th>\n",
       "      <td id=\"T_11606_row0_col0\" class=\"data row0 col0\" >TOA</td>\n",
       "      <td id=\"T_11606_row0_col1\" class=\"data row0 col1\" >0.2500</td>\n",
       "      <td id=\"T_11606_row0_col2\" class=\"data row0 col2\" >0.0000</td>\n",
       "      <td id=\"T_11606_row0_col3\" class=\"data row0 col3\" >0.3300</td>\n",
       "      <td id=\"T_11606_row0_col4\" class=\"data row0 col4\" >0.0000</td>\n",
       "      <td id=\"T_11606_row0_col5\" class=\"data row0 col5\" >0.5800</td>\n",
       "      <td id=\"T_11606_row0_col6\" class=\"data row0 col6\" >1,000</td>\n",
       "      <td id=\"T_11606_row0_col7\" class=\"data row0 col7\" >2023-08-30</td>\n",
       "      <td id=\"T_11606_row0_col8\" class=\"data row0 col8\" >2023-09-14</td>\n",
       "      <td id=\"T_11606_row0_col9\" class=\"data row0 col9\" ></td>\n",
       "      <td id=\"T_11606_row0_col10\" class=\"data row0 col10\" >1</td>\n",
       "    </tr>\n",
       "  </tbody>\n",
       "</table>\n"
      ],
      "text/plain": [
       "<pandas.io.formats.style.Styler at 0x1880f06adf0>"
      ]
     },
     "execution_count": 17,
     "metadata": {},
     "output_type": "execute_result"
    }
   ],
   "source": [
    "sql = \"\"\"\n",
    "SELECT * \n",
    "FROM dividend \n",
    "WHERE name = '%s' \n",
    "\"\"\"\n",
    "sql = sql % name\n",
    "print(sql)\n",
    "\n",
    "dividend = pd.read_sql(sql, const)\n",
    "dividend.drop(['PRICE', 'PERCENT'], axis=1, inplace=True)\n",
    "dividend.columns = dividend.columns.str.lower()\n",
    "dividend['shares'] = dividend['shares'].astype('int64')\n",
    "dividend['xdate'] = pd.to_datetime(dividend['xdate'])\n",
    "dividend['paiddate'] = pd.to_datetime(dividend['paiddate'])\n",
    "dividend.style.format(format_dict)"
   ]
  },
  {
   "cell_type": "markdown",
   "metadata": {},
   "source": [
    "### End of Create dividend table in MySQL stock database from buy transaction"
   ]
  },
  {
   "cell_type": "markdown",
   "metadata": {},
   "source": [
    "### Begin of Update stocks table in SQLite port_lite database from buy transaction"
   ]
  },
  {
   "cell_type": "code",
   "execution_count": 90,
   "metadata": {
    "scrolled": true
   },
   "outputs": [
    {
     "name": "stdout",
     "output_type": "stream",
     "text": [
      "\n",
      "SELECT * \n",
      "FROM stocks \n",
      "WHERE name = 'PTT'\n",
      "\n"
     ]
    },
    {
     "data": {
      "text/html": [
       "<div>\n",
       "<style scoped>\n",
       "    .dataframe tbody tr th:only-of-type {\n",
       "        vertical-align: middle;\n",
       "    }\n",
       "\n",
       "    .dataframe tbody tr th {\n",
       "        vertical-align: top;\n",
       "    }\n",
       "\n",
       "    .dataframe thead th {\n",
       "        text-align: right;\n",
       "    }\n",
       "</style>\n",
       "<table border=\"1\" class=\"dataframe\">\n",
       "  <thead>\n",
       "    <tr style=\"text-align: right;\">\n",
       "      <th></th>\n",
       "      <th>id</th>\n",
       "      <th>name</th>\n",
       "      <th>max_price</th>\n",
       "      <th>min_price</th>\n",
       "      <th>status</th>\n",
       "      <th>buy_target</th>\n",
       "      <th>sell_target</th>\n",
       "      <th>volume</th>\n",
       "      <th>beta</th>\n",
       "      <th>cost</th>\n",
       "      <th>qty</th>\n",
       "      <th>buy_spread</th>\n",
       "      <th>sell_spread</th>\n",
       "      <th>available_qty</th>\n",
       "      <th>bl</th>\n",
       "      <th>sh</th>\n",
       "      <th>reason</th>\n",
       "      <th>market</th>\n",
       "    </tr>\n",
       "  </thead>\n",
       "  <tbody>\n",
       "  </tbody>\n",
       "</table>\n",
       "</div>"
      ],
      "text/plain": [
       "Empty DataFrame\n",
       "Columns: [id, name, max_price, min_price, status, buy_target, sell_target, volume, beta, cost, qty, buy_spread, sell_spread, available_qty, bl, sh, reason, market]\n",
       "Index: []"
      ]
     },
     "execution_count": 90,
     "metadata": {},
     "output_type": "execute_result"
    }
   ],
   "source": [
    "sql = \"\"\"\n",
    "SELECT * \n",
    "FROM stocks \n",
    "WHERE name = '%s'\n",
    "\"\"\"\n",
    "sql = sql % name\n",
    "print(sql)\n",
    "\n",
    "stock = pd.read_sql(sql, conlite)\n",
    "stock"
   ]
  },
  {
   "cell_type": "code",
   "execution_count": 44,
   "metadata": {},
   "outputs": [
    {
     "name": "stdout",
     "output_type": "stream",
     "text": [
      "B AIMIRT 2500 9.9 9.8 10.75 2500\n"
     ]
    }
   ],
   "source": [
    "#\n",
    "new_buy_target = 9.8\n",
    "new_sell_target = 10.75\n",
    "new_buy_qty = 2_500\n",
    "print(transaction, name, qty, buy_price, new_buy_target, new_sell_target, new_buy_qty) "
   ]
  },
  {
   "cell_type": "code",
   "execution_count": 46,
   "metadata": {},
   "outputs": [
    {
     "name": "stdout",
     "output_type": "stream",
     "text": [
      "15000\n"
     ]
    }
   ],
   "source": [
    "print(new_qty)"
   ]
  },
  {
   "cell_type": "code",
   "execution_count": 48,
   "metadata": {},
   "outputs": [
    {
     "name": "stdout",
     "output_type": "stream",
     "text": [
      "10.75\n"
     ]
    }
   ],
   "source": [
    "print(new_unit_cost)"
   ]
  },
  {
   "cell_type": "code",
   "execution_count": 50,
   "metadata": {},
   "outputs": [],
   "source": [
    "def update_stock(conlite, name, new_qty, new_unit_cost, new_buy_target, new_sell_target, new_buy_qty):\n",
    "    # Extract scalar values from Pandas Series\n",
    "    new_qty_value = int(new_qty)\n",
    "    new_unit_cost_value = float(new_unit_cost)   \n",
    "    # Use parameterized query to avoid SQL injection\n",
    "    sqlUpd = text(\"\"\"\n",
    "        UPDATE stocks\n",
    "        SET available_qty = :new_qty, \n",
    "            cost = :new_unit_cost,\n",
    "            buy_target = :new_buy_target,\n",
    "            sell_target = :new_sell_target,    \n",
    "            qty = :new_buy_qty\n",
    "        WHERE name = :name\n",
    "    \"\"\")    \n",
    "    # Execute the query with parameters\n",
    "    rp = conlite.execute(sqlUpd, {\n",
    "        'new_qty': new_qty_value,  # Use the scalar value\n",
    "        'new_unit_cost': new_unit_cost_value, # Use the scalar value \n",
    "        'new_buy_target': new_buy_target,\n",
    "        'new_sell_target': new_sell_target,     \n",
    "        'new_buy_qty': new_buy_qty,\n",
    "        'name': name\n",
    "    })\n",
    "    return f\"Records updated = {rp.rowcount}\""
   ]
  },
  {
   "cell_type": "code",
   "execution_count": 52,
   "metadata": {},
   "outputs": [
    {
     "data": {
      "text/plain": [
       "'Records updated = 1'"
      ]
     },
     "execution_count": 52,
     "metadata": {},
     "output_type": "execute_result"
    }
   ],
   "source": [
    "# Example usage\n",
    "update_stock(conlite, name, new_qty, new_unit_cost, new_buy_target, new_sell_target, new_buy_qty)"
   ]
  },
  {
   "cell_type": "code",
   "execution_count": 54,
   "metadata": {},
   "outputs": [
    {
     "name": "stdout",
     "output_type": "stream",
     "text": [
      "\n",
      "SELECT * \n",
      "FROM stocks \n",
      "WHERE name = 'AIMIRT'\n",
      "\n"
     ]
    },
    {
     "data": {
      "text/html": [
       "<div>\n",
       "<style scoped>\n",
       "    .dataframe tbody tr th:only-of-type {\n",
       "        vertical-align: middle;\n",
       "    }\n",
       "\n",
       "    .dataframe tbody tr th {\n",
       "        vertical-align: top;\n",
       "    }\n",
       "\n",
       "    .dataframe thead th {\n",
       "        text-align: right;\n",
       "    }\n",
       "</style>\n",
       "<table border=\"1\" class=\"dataframe\">\n",
       "  <thead>\n",
       "    <tr style=\"text-align: right;\">\n",
       "      <th></th>\n",
       "      <th>id</th>\n",
       "      <th>name</th>\n",
       "      <th>max_price</th>\n",
       "      <th>min_price</th>\n",
       "      <th>status</th>\n",
       "      <th>buy_target</th>\n",
       "      <th>sell_target</th>\n",
       "      <th>volume</th>\n",
       "      <th>beta</th>\n",
       "      <th>cost</th>\n",
       "      <th>qty</th>\n",
       "      <th>buy_spread</th>\n",
       "      <th>sell_spread</th>\n",
       "      <th>available_qty</th>\n",
       "      <th>bl</th>\n",
       "      <th>sh</th>\n",
       "      <th>reason</th>\n",
       "      <th>market</th>\n",
       "    </tr>\n",
       "  </thead>\n",
       "  <tbody>\n",
       "    <tr>\n",
       "      <th>0</th>\n",
       "      <td>101</td>\n",
       "      <td>AIMIRT</td>\n",
       "      <td>0.0</td>\n",
       "      <td>0.0</td>\n",
       "      <td>S</td>\n",
       "      <td>9.8</td>\n",
       "      <td>10.75</td>\n",
       "      <td>0.0</td>\n",
       "      <td>0.0</td>\n",
       "      <td>10.75</td>\n",
       "      <td>2500</td>\n",
       "      <td>-4</td>\n",
       "      <td>4</td>\n",
       "      <td>15000</td>\n",
       "      <td>0.0</td>\n",
       "      <td>0.0</td>\n",
       "      <td>RND15pct</td>\n",
       "      <td>SET</td>\n",
       "    </tr>\n",
       "  </tbody>\n",
       "</table>\n",
       "</div>"
      ],
      "text/plain": [
       "    id    name  max_price  min_price status  buy_target  sell_target  volume  \\\n",
       "0  101  AIMIRT        0.0        0.0      S         9.8        10.75     0.0   \n",
       "\n",
       "   beta   cost   qty  buy_spread  sell_spread  available_qty   bl   sh  \\\n",
       "0   0.0  10.75  2500          -4            4          15000  0.0  0.0   \n",
       "\n",
       "     reason market  \n",
       "0  RND15pct    SET  "
      ]
     },
     "execution_count": 54,
     "metadata": {},
     "output_type": "execute_result"
    }
   ],
   "source": [
    "sql = \"\"\"\n",
    "SELECT * \n",
    "FROM stocks \n",
    "WHERE name = '%s'\n",
    "\"\"\"\n",
    "sql = sql % name\n",
    "print(sql)\n",
    "\n",
    "stock = pd.read_sql(sql, conlite)\n",
    "stock"
   ]
  },
  {
   "cell_type": "markdown",
   "metadata": {},
   "source": [
    "### End of Update stocks table in SQLite port_lite database from buy transaction"
   ]
  },
  {
   "cell_type": "markdown",
   "metadata": {},
   "source": [
    "## End of  Buy process"
   ]
  },
  {
   "cell_type": "markdown",
   "metadata": {},
   "source": [
    "### ================================================="
   ]
  },
  {
   "cell_type": "code",
   "execution_count": 114,
   "metadata": {},
   "outputs": [
    {
     "name": "stdout",
     "output_type": "stream",
     "text": [
      "SELECT period, buy.grade AS grade, buy.name AS name, buy.date AS date, FORMAT(volbuy,0) AS volbuy, FORMAT(buy.price,2) AS buy_price, price.price AS mkt_price,FORMAT((volbuy * buy.price),2) AS amtbuy, FORMAT((volbuy * price.price),2) AS amtmkt, FORMAT(((price.price - buy.price) * volbuy),2) AS amtpol, FORMAT((((price.price - buy.price)*volbuy)/(volbuy*buy.price)*100),2) AS pctpol FROM buy INNER JOIN price ON buy.name = price.name WHERE price.date = '2025-08-07' ORDER BY period, buy.name\n"
     ]
    }
   ],
   "source": [
    "#price_date = '2025-02-14'\n",
    "sql = \"SELECT period, buy.grade AS grade, buy.name AS name, buy.date AS date, \\\n",
    "FORMAT(volbuy,0) AS volbuy, FORMAT(buy.price,2) AS buy_price, price.price AS mkt_price,\\\n",
    "FORMAT((volbuy * buy.price),2) AS amtbuy, FORMAT((volbuy * price.price),2) AS amtmkt, \\\n",
    "FORMAT(((price.price - buy.price) * volbuy),2) AS amtpol, \\\n",
    "FORMAT((((price.price - buy.price)*volbuy)/(volbuy*buy.price)*100),2) AS pctpol \\\n",
    "FROM buy INNER JOIN price ON buy.name = price.name WHERE price.date = '%s' \\\n",
    "ORDER BY period, buy.name\"\n",
    "sql = sql % (yesterday)\n",
    "print(sql)"
   ]
  },
  {
   "cell_type": "code",
   "execution_count": 116,
   "metadata": {
    "scrolled": true
   },
   "outputs": [
    {
     "data": {
      "text/html": [
       "<div>\n",
       "<style scoped>\n",
       "    .dataframe tbody tr th:only-of-type {\n",
       "        vertical-align: middle;\n",
       "    }\n",
       "\n",
       "    .dataframe tbody tr th {\n",
       "        vertical-align: top;\n",
       "    }\n",
       "\n",
       "    .dataframe thead th {\n",
       "        text-align: right;\n",
       "    }\n",
       "</style>\n",
       "<table border=\"1\" class=\"dataframe\">\n",
       "  <thead>\n",
       "    <tr style=\"text-align: right;\">\n",
       "      <th></th>\n",
       "      <th>period</th>\n",
       "      <th>grade</th>\n",
       "      <th>name</th>\n",
       "      <th>date</th>\n",
       "      <th>volbuy</th>\n",
       "      <th>buy_price</th>\n",
       "      <th>mkt_price</th>\n",
       "      <th>amtbuy</th>\n",
       "      <th>amtmkt</th>\n",
       "      <th>amtpol</th>\n",
       "      <th>pctpol</th>\n",
       "    </tr>\n",
       "  </thead>\n",
       "  <tbody>\n",
       "    <tr>\n",
       "      <th>0</th>\n",
       "      <td>1</td>\n",
       "      <td>C1</td>\n",
       "      <td>AH</td>\n",
       "      <td>2023-06-08</td>\n",
       "      <td>1,200</td>\n",
       "      <td>37.00</td>\n",
       "      <td>15.60</td>\n",
       "      <td>44,400.00</td>\n",
       "      <td>18,720.00</td>\n",
       "      <td>-25,680.00</td>\n",
       "      <td>-57.84</td>\n",
       "    </tr>\n",
       "    <tr>\n",
       "      <th>1</th>\n",
       "      <td>1</td>\n",
       "      <td>A1</td>\n",
       "      <td>AWC</td>\n",
       "      <td>2023-06-15</td>\n",
       "      <td>9,000</td>\n",
       "      <td>4.96</td>\n",
       "      <td>2.34</td>\n",
       "      <td>44,640.00</td>\n",
       "      <td>21,060.00</td>\n",
       "      <td>-23,580.00</td>\n",
       "      <td>-52.82</td>\n",
       "    </tr>\n",
       "    <tr>\n",
       "      <th>2</th>\n",
       "      <td>1</td>\n",
       "      <td>A2</td>\n",
       "      <td>JMART</td>\n",
       "      <td>2023-01-20</td>\n",
       "      <td>6,800</td>\n",
       "      <td>33.00</td>\n",
       "      <td>9.20</td>\n",
       "      <td>224,400.00</td>\n",
       "      <td>62,560.00</td>\n",
       "      <td>-161,840.00</td>\n",
       "      <td>-72.12</td>\n",
       "    </tr>\n",
       "    <tr>\n",
       "      <th>3</th>\n",
       "      <td>1</td>\n",
       "      <td>C2</td>\n",
       "      <td>ORI</td>\n",
       "      <td>2022-04-07</td>\n",
       "      <td>50,000</td>\n",
       "      <td>9.00</td>\n",
       "      <td>2.14</td>\n",
       "      <td>450,000.00</td>\n",
       "      <td>107,000.00</td>\n",
       "      <td>-343,000.00</td>\n",
       "      <td>-76.22</td>\n",
       "    </tr>\n",
       "    <tr>\n",
       "      <th>4</th>\n",
       "      <td>1</td>\n",
       "      <td>C2</td>\n",
       "      <td>PTTGC</td>\n",
       "      <td>2021-03-17</td>\n",
       "      <td>6,000</td>\n",
       "      <td>64.75</td>\n",
       "      <td>24.20</td>\n",
       "      <td>388,500.00</td>\n",
       "      <td>145,200.00</td>\n",
       "      <td>-243,300.00</td>\n",
       "      <td>-62.63</td>\n",
       "    </tr>\n",
       "    <tr>\n",
       "      <th>5</th>\n",
       "      <td>1</td>\n",
       "      <td>C2</td>\n",
       "      <td>SCC</td>\n",
       "      <td>2021-09-20</td>\n",
       "      <td>600</td>\n",
       "      <td>405.00</td>\n",
       "      <td>203.00</td>\n",
       "      <td>243,000.00</td>\n",
       "      <td>121,800.00</td>\n",
       "      <td>-121,200.00</td>\n",
       "      <td>-49.88</td>\n",
       "    </tr>\n",
       "    <tr>\n",
       "      <th>6</th>\n",
       "      <td>1</td>\n",
       "      <td>A3</td>\n",
       "      <td>SINGER</td>\n",
       "      <td>2023-01-19</td>\n",
       "      <td>6,000</td>\n",
       "      <td>24.80</td>\n",
       "      <td>5.80</td>\n",
       "      <td>148,800.00</td>\n",
       "      <td>34,800.00</td>\n",
       "      <td>-114,000.00</td>\n",
       "      <td>-76.61</td>\n",
       "    </tr>\n",
       "    <tr>\n",
       "      <th>7</th>\n",
       "      <td>2</td>\n",
       "      <td>A1</td>\n",
       "      <td>AIMIRT</td>\n",
       "      <td>2023-08-17</td>\n",
       "      <td>15,000</td>\n",
       "      <td>10.75</td>\n",
       "      <td>9.85</td>\n",
       "      <td>161,250.00</td>\n",
       "      <td>147,750.00</td>\n",
       "      <td>-13,500.00</td>\n",
       "      <td>-8.37</td>\n",
       "    </tr>\n",
       "    <tr>\n",
       "      <th>8</th>\n",
       "      <td>2</td>\n",
       "      <td>C1</td>\n",
       "      <td>CPNREIT</td>\n",
       "      <td>2022-08-16</td>\n",
       "      <td>55,000</td>\n",
       "      <td>18.00</td>\n",
       "      <td>11.50</td>\n",
       "      <td>990,000.00</td>\n",
       "      <td>632,500.00</td>\n",
       "      <td>-357,500.00</td>\n",
       "      <td>-36.11</td>\n",
       "    </tr>\n",
       "    <tr>\n",
       "      <th>9</th>\n",
       "      <td>2</td>\n",
       "      <td>C1</td>\n",
       "      <td>DIF</td>\n",
       "      <td>2020-08-01</td>\n",
       "      <td>40,000</td>\n",
       "      <td>13.10</td>\n",
       "      <td>8.40</td>\n",
       "      <td>524,000.00</td>\n",
       "      <td>336,000.00</td>\n",
       "      <td>-188,000.00</td>\n",
       "      <td>-35.88</td>\n",
       "    </tr>\n",
       "    <tr>\n",
       "      <th>10</th>\n",
       "      <td>2</td>\n",
       "      <td>C1</td>\n",
       "      <td>GVREIT</td>\n",
       "      <td>2022-08-24</td>\n",
       "      <td>69,000</td>\n",
       "      <td>7.75</td>\n",
       "      <td>6.55</td>\n",
       "      <td>534,750.00</td>\n",
       "      <td>451,950.00</td>\n",
       "      <td>-82,800.00</td>\n",
       "      <td>-15.48</td>\n",
       "    </tr>\n",
       "    <tr>\n",
       "      <th>11</th>\n",
       "      <td>2</td>\n",
       "      <td>A4</td>\n",
       "      <td>MCS</td>\n",
       "      <td>2016-09-20</td>\n",
       "      <td>81,000</td>\n",
       "      <td>14.80</td>\n",
       "      <td>8.65</td>\n",
       "      <td>1,198,800.00</td>\n",
       "      <td>700,650.00</td>\n",
       "      <td>-498,150.00</td>\n",
       "      <td>-41.55</td>\n",
       "    </tr>\n",
       "    <tr>\n",
       "      <th>12</th>\n",
       "      <td>2</td>\n",
       "      <td>A1</td>\n",
       "      <td>NER</td>\n",
       "      <td>2021-09-01</td>\n",
       "      <td>27,000</td>\n",
       "      <td>7.45</td>\n",
       "      <td>4.54</td>\n",
       "      <td>201,150.00</td>\n",
       "      <td>122,580.00</td>\n",
       "      <td>-78,570.00</td>\n",
       "      <td>-39.06</td>\n",
       "    </tr>\n",
       "    <tr>\n",
       "      <th>13</th>\n",
       "      <td>2</td>\n",
       "      <td>A2</td>\n",
       "      <td>PTT</td>\n",
       "      <td>2025-08-08</td>\n",
       "      <td>2,500</td>\n",
       "      <td>32.00</td>\n",
       "      <td>32.25</td>\n",
       "      <td>80,000.00</td>\n",
       "      <td>80,625.00</td>\n",
       "      <td>625.00</td>\n",
       "      <td>0.78</td>\n",
       "    </tr>\n",
       "    <tr>\n",
       "      <th>14</th>\n",
       "      <td>2</td>\n",
       "      <td>B1</td>\n",
       "      <td>SENA</td>\n",
       "      <td>2022-03-29</td>\n",
       "      <td>105,000</td>\n",
       "      <td>4.48</td>\n",
       "      <td>1.81</td>\n",
       "      <td>470,400.00</td>\n",
       "      <td>190,050.00</td>\n",
       "      <td>-280,350.00</td>\n",
       "      <td>-59.60</td>\n",
       "    </tr>\n",
       "    <tr>\n",
       "      <th>15</th>\n",
       "      <td>2</td>\n",
       "      <td>C1</td>\n",
       "      <td>TFFIF</td>\n",
       "      <td>2023-07-06</td>\n",
       "      <td>20,000</td>\n",
       "      <td>7.20</td>\n",
       "      <td>6.10</td>\n",
       "      <td>144,000.00</td>\n",
       "      <td>122,000.00</td>\n",
       "      <td>-22,000.00</td>\n",
       "      <td>-15.28</td>\n",
       "    </tr>\n",
       "    <tr>\n",
       "      <th>16</th>\n",
       "      <td>2</td>\n",
       "      <td>B1</td>\n",
       "      <td>WHAIR</td>\n",
       "      <td>2021-10-11</td>\n",
       "      <td>50,000</td>\n",
       "      <td>8.70</td>\n",
       "      <td>5.55</td>\n",
       "      <td>435,000.00</td>\n",
       "      <td>277,500.00</td>\n",
       "      <td>-157,500.00</td>\n",
       "      <td>-36.21</td>\n",
       "    </tr>\n",
       "    <tr>\n",
       "      <th>17</th>\n",
       "      <td>2</td>\n",
       "      <td>C1</td>\n",
       "      <td>WHART</td>\n",
       "      <td>2022-01-05</td>\n",
       "      <td>25,000</td>\n",
       "      <td>11.60</td>\n",
       "      <td>9.30</td>\n",
       "      <td>290,000.00</td>\n",
       "      <td>232,500.00</td>\n",
       "      <td>-57,500.00</td>\n",
       "      <td>-19.83</td>\n",
       "    </tr>\n",
       "    <tr>\n",
       "      <th>18</th>\n",
       "      <td>3</td>\n",
       "      <td>A3</td>\n",
       "      <td>3BBIF</td>\n",
       "      <td>2018-05-17</td>\n",
       "      <td>120,000</td>\n",
       "      <td>10.10</td>\n",
       "      <td>6.35</td>\n",
       "      <td>1,212,000.00</td>\n",
       "      <td>762,000.00</td>\n",
       "      <td>-450,000.00</td>\n",
       "      <td>-37.13</td>\n",
       "    </tr>\n",
       "    <tr>\n",
       "      <th>19</th>\n",
       "      <td>3</td>\n",
       "      <td>B3</td>\n",
       "      <td>BCH</td>\n",
       "      <td>2021-09-07</td>\n",
       "      <td>4,000</td>\n",
       "      <td>21.70</td>\n",
       "      <td>14.30</td>\n",
       "      <td>86,800.00</td>\n",
       "      <td>57,200.00</td>\n",
       "      <td>-29,600.00</td>\n",
       "      <td>-34.10</td>\n",
       "    </tr>\n",
       "    <tr>\n",
       "      <th>20</th>\n",
       "      <td>3</td>\n",
       "      <td>C3</td>\n",
       "      <td>IVL</td>\n",
       "      <td>2022-08-29</td>\n",
       "      <td>7,200</td>\n",
       "      <td>40.00</td>\n",
       "      <td>23.40</td>\n",
       "      <td>288,000.00</td>\n",
       "      <td>168,480.00</td>\n",
       "      <td>-119,520.00</td>\n",
       "      <td>-41.50</td>\n",
       "    </tr>\n",
       "    <tr>\n",
       "      <th>21</th>\n",
       "      <td>3</td>\n",
       "      <td>A3</td>\n",
       "      <td>RCL</td>\n",
       "      <td>2021-11-08</td>\n",
       "      <td>24,000</td>\n",
       "      <td>40.15</td>\n",
       "      <td>29.25</td>\n",
       "      <td>963,600.00</td>\n",
       "      <td>702,000.00</td>\n",
       "      <td>-261,600.00</td>\n",
       "      <td>-27.15</td>\n",
       "    </tr>\n",
       "    <tr>\n",
       "      <th>22</th>\n",
       "      <td>3</td>\n",
       "      <td>A4</td>\n",
       "      <td>STA</td>\n",
       "      <td>2021-06-15</td>\n",
       "      <td>10,000</td>\n",
       "      <td>30.00</td>\n",
       "      <td>14.00</td>\n",
       "      <td>300,000.00</td>\n",
       "      <td>140,000.00</td>\n",
       "      <td>-160,000.00</td>\n",
       "      <td>-53.33</td>\n",
       "    </tr>\n",
       "    <tr>\n",
       "      <th>23</th>\n",
       "      <td>3</td>\n",
       "      <td>A1</td>\n",
       "      <td>SYNEX</td>\n",
       "      <td>2022-01-07</td>\n",
       "      <td>17,500</td>\n",
       "      <td>26.40</td>\n",
       "      <td>12.60</td>\n",
       "      <td>462,000.00</td>\n",
       "      <td>220,500.00</td>\n",
       "      <td>-241,500.00</td>\n",
       "      <td>-52.27</td>\n",
       "    </tr>\n",
       "    <tr>\n",
       "      <th>24</th>\n",
       "      <td>3</td>\n",
       "      <td>A4</td>\n",
       "      <td>TVO</td>\n",
       "      <td>2024-11-06</td>\n",
       "      <td>8,000</td>\n",
       "      <td>24.00</td>\n",
       "      <td>23.30</td>\n",
       "      <td>192,000.00</td>\n",
       "      <td>186,400.00</td>\n",
       "      <td>-5,600.00</td>\n",
       "      <td>-2.92</td>\n",
       "    </tr>\n",
       "    <tr>\n",
       "      <th>25</th>\n",
       "      <td>4</td>\n",
       "      <td>C3</td>\n",
       "      <td>JMT</td>\n",
       "      <td>2023-01-26</td>\n",
       "      <td>4,200</td>\n",
       "      <td>55.50</td>\n",
       "      <td>12.10</td>\n",
       "      <td>233,100.00</td>\n",
       "      <td>50,820.00</td>\n",
       "      <td>-182,280.00</td>\n",
       "      <td>-78.20</td>\n",
       "    </tr>\n",
       "    <tr>\n",
       "      <th>26</th>\n",
       "      <td>4</td>\n",
       "      <td>B2</td>\n",
       "      <td>PTG</td>\n",
       "      <td>2023-07-12</td>\n",
       "      <td>3,600</td>\n",
       "      <td>11.40</td>\n",
       "      <td>6.80</td>\n",
       "      <td>41,040.00</td>\n",
       "      <td>24,480.00</td>\n",
       "      <td>-16,560.00</td>\n",
       "      <td>-40.35</td>\n",
       "    </tr>\n",
       "    <tr>\n",
       "      <th>27</th>\n",
       "      <td>4</td>\n",
       "      <td>C1</td>\n",
       "      <td>TOA</td>\n",
       "      <td>2023-09-06</td>\n",
       "      <td>1,000</td>\n",
       "      <td>26.00</td>\n",
       "      <td>14.80</td>\n",
       "      <td>26,000.00</td>\n",
       "      <td>14,800.00</td>\n",
       "      <td>-11,200.00</td>\n",
       "      <td>-43.08</td>\n",
       "    </tr>\n",
       "  </tbody>\n",
       "</table>\n",
       "</div>"
      ],
      "text/plain": [
       "   period grade     name        date   volbuy buy_price  mkt_price  \\\n",
       "0       1    C1       AH  2023-06-08    1,200     37.00      15.60   \n",
       "1       1    A1      AWC  2023-06-15    9,000      4.96       2.34   \n",
       "2       1    A2    JMART  2023-01-20    6,800     33.00       9.20   \n",
       "3       1    C2      ORI  2022-04-07   50,000      9.00       2.14   \n",
       "4       1    C2    PTTGC  2021-03-17    6,000     64.75      24.20   \n",
       "5       1    C2      SCC  2021-09-20      600    405.00     203.00   \n",
       "6       1    A3   SINGER  2023-01-19    6,000     24.80       5.80   \n",
       "7       2    A1   AIMIRT  2023-08-17   15,000     10.75       9.85   \n",
       "8       2    C1  CPNREIT  2022-08-16   55,000     18.00      11.50   \n",
       "9       2    C1      DIF  2020-08-01   40,000     13.10       8.40   \n",
       "10      2    C1   GVREIT  2022-08-24   69,000      7.75       6.55   \n",
       "11      2    A4      MCS  2016-09-20   81,000     14.80       8.65   \n",
       "12      2    A1      NER  2021-09-01   27,000      7.45       4.54   \n",
       "13      2    A2      PTT  2025-08-08    2,500     32.00      32.25   \n",
       "14      2    B1     SENA  2022-03-29  105,000      4.48       1.81   \n",
       "15      2    C1    TFFIF  2023-07-06   20,000      7.20       6.10   \n",
       "16      2    B1    WHAIR  2021-10-11   50,000      8.70       5.55   \n",
       "17      2    C1    WHART  2022-01-05   25,000     11.60       9.30   \n",
       "18      3    A3    3BBIF  2018-05-17  120,000     10.10       6.35   \n",
       "19      3    B3      BCH  2021-09-07    4,000     21.70      14.30   \n",
       "20      3    C3      IVL  2022-08-29    7,200     40.00      23.40   \n",
       "21      3    A3      RCL  2021-11-08   24,000     40.15      29.25   \n",
       "22      3    A4      STA  2021-06-15   10,000     30.00      14.00   \n",
       "23      3    A1    SYNEX  2022-01-07   17,500     26.40      12.60   \n",
       "24      3    A4      TVO  2024-11-06    8,000     24.00      23.30   \n",
       "25      4    C3      JMT  2023-01-26    4,200     55.50      12.10   \n",
       "26      4    B2      PTG  2023-07-12    3,600     11.40       6.80   \n",
       "27      4    C1      TOA  2023-09-06    1,000     26.00      14.80   \n",
       "\n",
       "          amtbuy      amtmkt       amtpol  pctpol  \n",
       "0      44,400.00   18,720.00   -25,680.00  -57.84  \n",
       "1      44,640.00   21,060.00   -23,580.00  -52.82  \n",
       "2     224,400.00   62,560.00  -161,840.00  -72.12  \n",
       "3     450,000.00  107,000.00  -343,000.00  -76.22  \n",
       "4     388,500.00  145,200.00  -243,300.00  -62.63  \n",
       "5     243,000.00  121,800.00  -121,200.00  -49.88  \n",
       "6     148,800.00   34,800.00  -114,000.00  -76.61  \n",
       "7     161,250.00  147,750.00   -13,500.00   -8.37  \n",
       "8     990,000.00  632,500.00  -357,500.00  -36.11  \n",
       "9     524,000.00  336,000.00  -188,000.00  -35.88  \n",
       "10    534,750.00  451,950.00   -82,800.00  -15.48  \n",
       "11  1,198,800.00  700,650.00  -498,150.00  -41.55  \n",
       "12    201,150.00  122,580.00   -78,570.00  -39.06  \n",
       "13     80,000.00   80,625.00       625.00    0.78  \n",
       "14    470,400.00  190,050.00  -280,350.00  -59.60  \n",
       "15    144,000.00  122,000.00   -22,000.00  -15.28  \n",
       "16    435,000.00  277,500.00  -157,500.00  -36.21  \n",
       "17    290,000.00  232,500.00   -57,500.00  -19.83  \n",
       "18  1,212,000.00  762,000.00  -450,000.00  -37.13  \n",
       "19     86,800.00   57,200.00   -29,600.00  -34.10  \n",
       "20    288,000.00  168,480.00  -119,520.00  -41.50  \n",
       "21    963,600.00  702,000.00  -261,600.00  -27.15  \n",
       "22    300,000.00  140,000.00  -160,000.00  -53.33  \n",
       "23    462,000.00  220,500.00  -241,500.00  -52.27  \n",
       "24    192,000.00  186,400.00    -5,600.00   -2.92  \n",
       "25    233,100.00   50,820.00  -182,280.00  -78.20  \n",
       "26     41,040.00   24,480.00   -16,560.00  -40.35  \n",
       "27     26,000.00   14,800.00   -11,200.00  -43.08  "
      ]
     },
     "execution_count": 116,
     "metadata": {},
     "output_type": "execute_result"
    }
   ],
   "source": [
    "output = pd.read_sql(sql, const)\n",
    "output"
   ]
  },
  {
   "cell_type": "code",
   "execution_count": 118,
   "metadata": {},
   "outputs": [],
   "source": [
    "file_name = 'portfolio.csv'\n",
    "output_file = os.path.join(dat_path, file_name)\n",
    "god_file = os.path.join(god_path, file_name)\n",
    "icd_file = os.path.join(icd_path, file_name)\n",
    "osd_file = os.path.join(osd_path, file_name)"
   ]
  },
  {
   "cell_type": "code",
   "execution_count": 120,
   "metadata": {},
   "outputs": [
    {
     "name": "stdout",
     "output_type": "stream",
     "text": [
      "Output file : C:\\Users\\PC1\\OneDrive\\A5\\Data\\portfolio.csv\n",
      "icd_file : C:\\Users\\PC1\\iCloudDrive\\Data\\portfolio.csv\n",
      "god_file : C:\\Users\\PC1\\OneDrive\\Imports\\santisoontarinka@gmail.com - Google Drive\\Data\\portfolio.csv\n",
      "osd_file : C:\\Users\\PC1\\OneDrive\\Documents\\obsidian-git-sync\\Data\\portfolio.csv\n"
     ]
    }
   ],
   "source": [
    "print(f\"Output file : {output_file}\") \n",
    "print(f\"icd_file : {icd_file}\") \n",
    "print(f\"god_file : {god_file}\") \n",
    "print(f\"osd_file : {osd_file}\") "
   ]
  },
  {
   "cell_type": "code",
   "execution_count": 122,
   "metadata": {},
   "outputs": [],
   "source": [
    "output.to_csv(output_file, header=True, index=False)\n",
    "output.to_csv(icd_file, header=True, index=False)\n",
    "output.to_csv(god_file, header=True, index=False)\n",
    "output.to_csv(osd_file, header=True, index=False)"
   ]
  },
  {
   "cell_type": "code",
   "execution_count": 124,
   "metadata": {},
   "outputs": [],
   "source": [
    "file_name = '035-portfolio.xlsx'\n",
    "xsl_file = os.path.join(xsl_path, file_name)\n",
    "\n",
    "output.to_excel(xsl_file, index=False)"
   ]
  },
  {
   "cell_type": "code",
   "execution_count": null,
   "metadata": {},
   "outputs": [],
   "source": []
  }
 ],
 "metadata": {
  "anaconda-cloud": {},
  "kernelspec": {
   "display_name": "Python 3 (ipykernel)",
   "language": "python",
   "name": "python3"
  },
  "language_info": {
   "codemirror_mode": {
    "name": "ipython",
    "version": 3
   },
   "file_extension": ".py",
   "mimetype": "text/x-python",
   "name": "python",
   "nbconvert_exporter": "python",
   "pygments_lexer": "ipython3",
   "version": "3.12.3"
  }
 },
 "nbformat": 4,
 "nbformat_minor": 4
}
