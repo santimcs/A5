{
 "cells": [
  {
   "cell_type": "code",
   "execution_count": 1,
   "metadata": {},
   "outputs": [
    {
     "data": {
      "text/plain": [
       "datetime.date(2025, 3, 3)"
      ]
     },
     "execution_count": 1,
     "metadata": {},
     "output_type": "execute_result"
    }
   ],
   "source": [
    "import os\n",
    "import pandas as pd\n",
    "from datetime import date, timedelta, datetime\n",
    "from sqlalchemy import create_engine, text\n",
    "from pandas.tseries.offsets import BDay\n",
    "\n",
    "engine = create_engine('mysql+pymysql://root:@localhost:3306/portfolio_development')\n",
    "conpf = engine.connect()\n",
    "engine = create_engine(\"mysql+pymysql://root:@localhost:3306/stock\")\n",
    "const = engine.connect()\n",
    "engine = create_engine(\"sqlite:///c:\\\\ruby\\\\port_lite\\\\db\\\\development.sqlite3\")\n",
    "conlite = engine.connect()\n",
    "\n",
    "today = date.today()\n",
    "today"
   ]
  },
  {
   "cell_type": "code",
   "execution_count": 3,
   "metadata": {},
   "outputs": [
    {
     "name": "stdout",
     "output_type": "stream",
     "text": [
      "today: 2025-03-03\n",
      "yesterday: 2025-02-28\n"
     ]
    }
   ],
   "source": [
    "# convert the timedelta object to a BusinessDay object\n",
    "num_business_days = BDay(1)\n",
    "yesterday = today - num_business_days\n",
    "yesterday = yesterday.date()\n",
    "print(f'today: {today}')\n",
    "print(f'yesterday: {yesterday}')"
   ]
  },
  {
   "cell_type": "code",
   "execution_count": 5,
   "metadata": {},
   "outputs": [],
   "source": [
    "# Get the user's home directory\n",
    "user_path = os.path.expanduser('~')\n",
    "# Get the current working directory\n",
    "current_path = os.getcwd()\n",
    "# Derive the base directory (base_dir) by removing the last folder ('Daily')\n",
    "base_path = os.path.dirname(current_path)\n",
    "#C:\\Users\\PC1\\OneDrive\\A5\\Data\n",
    "dat_path = os.path.join(base_path, \"Data\")\n",
    "#C:\\Users\\PC1\\Downloads\\Datasets\n",
    "dts_path = os.path.join(user_path, \"Downloads\", \"Datasets\")\n",
    "#C:\\Users\\PC1\\OneDrive\\Imports\\santisoontarinka@gmail.com - Google Drive\\Data>\n",
    "god_path = os.path.join(user_path, \"OneDrive\",\"Imports\",\"santisoontarinka@gmail.com - Google Drive\",\"Data\")\n",
    "#C:\\Users\\PC1\\iCloudDrive\\data\n",
    "icd_path = os.path.join(user_path, \"iCloudDrive\", \"Data\")\n",
    "#C:\\Users\\PC1\\OneDrive\\Documents\\obsidian-git-sync\\Data\n",
    "osd_path = os.path.join(user_path, \"OneDrive\",\"Documents\",\"obsidian-git-sync\",\"Data\")\n",
    "#C:\\Users\\PC1\\OneDrive\\A5\\Excel\n",
    "xsl_path = os.path.join(base_path, \"Excel\")"
   ]
  },
  {
   "cell_type": "code",
   "execution_count": 7,
   "metadata": {},
   "outputs": [
    {
     "name": "stdout",
     "output_type": "stream",
     "text": [
      "User path: C:\\Users\\PC1\n",
      "Current path: C:\\Users\\PC1\\OneDrive\\A5\\Daily\n",
      "Base path: C:\\Users\\PC1\\OneDrive\\A5\n",
      "Data path (dat_path): C:\\Users\\PC1\\OneDrive\\A5\\Data\n",
      "Excel path (xsl_path): C:\\Users\\PC1\\OneDrive\\A5\\Excel\n",
      "Google Drive path (god_path): C:\\Users\\PC1\\OneDrive\\Imports\\santisoontarinka@gmail.com - Google Drive\\Data\n",
      "iCloudDrive path (icd_path): C:\\Users\\PC1\\iCloudDrive\\Data\n",
      "Obsidian path (osd_path): C:\\Users\\PC1\\OneDrive\\Documents\\obsidian-git-sync\\Data\n"
     ]
    }
   ],
   "source": [
    "print(\"User path:\", user_path)\n",
    "print(f\"Current path: {current_path}\")\n",
    "print(f\"Base path: {base_path}\")\n",
    "print(f\"Data path (dat_path): {dat_path}\") \n",
    "print(f\"Excel path (xsl_path): {xsl_path}\") \n",
    "print(f\"Google Drive path (god_path): {god_path}\")\n",
    "print(f\"iCloudDrive path (icd_path): {icd_path}\") \n",
    "print(f\"Obsidian path (osd_path): {osd_path}\") "
   ]
  },
  {
   "cell_type": "markdown",
   "metadata": {},
   "source": [
    "### Tables in the process"
   ]
  },
  {
   "cell_type": "code",
   "execution_count": 10,
   "metadata": {},
   "outputs": [],
   "source": [
    "format_dict = {\n",
    "    'shares':'{:,}',    \n",
    "    'price':'{:.2f}',\n",
    "    'dividend':'{:.4f}', \n",
    "    'date':'{:%Y-%m-%d}', \n",
    "    \n",
    "    'qty':'{:,}','shares':'{:,}',\n",
    "    'price':'{:.2f}','buy_price':'{:.2f}',\n",
    "    'dividend':'{:.4f}',    \n",
    "    'fee':'{:,.2f}','vat':'{:,.2f}','net':'{:,.2f}',\n",
    "  \n",
    "    'days':'{:,}',\n",
    "    'price':'{:.2f}',\n",
    "    'fee':'{:,.2f}','vat':'{:,.2f}','net':'{:,.2f}','profit':'{:,.2f}',\n",
    "    'percent':'{:,.2f}%','yearly':'{:,.2f}%',   \n",
    "    \n",
    "    'shares':'{:,}',    \n",
    "    'q4':'{:.4f}','q3':'{:.4f}','q2':'{:.4f}','q1':'{:.4f}','dividend':'{:.4f}',\n",
    "    'xdate':'{:%Y-%m-%d}','paiddate':'{:%Y-%m-%d}',\n",
    "    \n",
    "    'qty':'{:,}','available_qty':'{:,}',\n",
    "    'cost':'{:.2f}','max_price':'{:.2f}','min_price':'{:.2f}','buy_target':'{:.2f}','sell_target':'{:.2f}',\n",
    "    'volume':'{:,.2f}','beta':'{:,.2f}',\n",
    "    \n",
    "    'qty':'{:,}','available_qty':'{:,}',\n",
    "    'cost':'{:.2f}','max_price':'{:.2f}','min_price':'{:.2f}','buy_target':'{:.2f}','sell_target':'{:.2f}',\n",
    "    'volume':'{:,.2f}','beta':'{:,.2f}',\n",
    "    }"
   ]
  },
  {
   "cell_type": "code",
   "execution_count": 12,
   "metadata": {},
   "outputs": [
    {
     "data": {
      "text/html": [
       "<style type=\"text/css\">\n",
       "</style>\n",
       "<table id=\"T_306d2\">\n",
       "  <thead>\n",
       "    <tr>\n",
       "      <th class=\"blank level0\" >&nbsp;</th>\n",
       "      <th id=\"T_306d2_level0_col0\" class=\"col_heading level0 col0\" >name</th>\n",
       "      <th id=\"T_306d2_level0_col1\" class=\"col_heading level0 col1\" >stock_id</th>\n",
       "      <th id=\"T_306d2_level0_col2\" class=\"col_heading level0 col2\" >buy_date</th>\n",
       "      <th id=\"T_306d2_level0_col3\" class=\"col_heading level0 col3\" >qty</th>\n",
       "      <th id=\"T_306d2_level0_col4\" class=\"col_heading level0 col4\" >buy_price</th>\n",
       "      <th id=\"T_306d2_level0_col5\" class=\"col_heading level0 col5\" >id</th>\n",
       "      <th id=\"T_306d2_level0_col6\" class=\"col_heading level0 col6\" >buy_id</th>\n",
       "      <th id=\"T_306d2_level0_col7\" class=\"col_heading level0 col7\" >date</th>\n",
       "      <th id=\"T_306d2_level0_col8\" class=\"col_heading level0 col8\" >price</th>\n",
       "      <th id=\"T_306d2_level0_col9\" class=\"col_heading level0 col9\" >fee</th>\n",
       "      <th id=\"T_306d2_level0_col10\" class=\"col_heading level0 col10\" >vat</th>\n",
       "      <th id=\"T_306d2_level0_col11\" class=\"col_heading level0 col11\" >net</th>\n",
       "      <th id=\"T_306d2_level0_col12\" class=\"col_heading level0 col12\" >days</th>\n",
       "      <th id=\"T_306d2_level0_col13\" class=\"col_heading level0 col13\" >profit</th>\n",
       "      <th id=\"T_306d2_level0_col14\" class=\"col_heading level0 col14\" >percent</th>\n",
       "      <th id=\"T_306d2_level0_col15\" class=\"col_heading level0 col15\" >yearly</th>\n",
       "      <th id=\"T_306d2_level0_col16\" class=\"col_heading level0 col16\" >sequence</th>\n",
       "      <th id=\"T_306d2_level0_col17\" class=\"col_heading level0 col17\" >chart</th>\n",
       "      <th id=\"T_306d2_level0_col18\" class=\"col_heading level0 col18\" >dividend_id</th>\n",
       "    </tr>\n",
       "  </thead>\n",
       "  <tbody>\n",
       "    <tr>\n",
       "      <th id=\"T_306d2_level0_row0\" class=\"row_heading level0 row0\" >0</th>\n",
       "      <td id=\"T_306d2_row0_col0\" class=\"data row0 col0\" >ORI</td>\n",
       "      <td id=\"T_306d2_row0_col1\" class=\"data row0 col1\" >125</td>\n",
       "      <td id=\"T_306d2_row0_col2\" class=\"data row0 col2\" >2025-02-17</td>\n",
       "      <td id=\"T_306d2_row0_col3\" class=\"data row0 col3\" >10,000</td>\n",
       "      <td id=\"T_306d2_row0_col4\" class=\"data row0 col4\" >2.90</td>\n",
       "      <td id=\"T_306d2_row0_col5\" class=\"data row0 col5\" >1085</td>\n",
       "      <td id=\"T_306d2_row0_col6\" class=\"data row0 col6\" >1315</td>\n",
       "      <td id=\"T_306d2_row0_col7\" class=\"data row0 col7\" >2025-03-03</td>\n",
       "      <td id=\"T_306d2_row0_col8\" class=\"data row0 col8\" >2.82</td>\n",
       "      <td id=\"T_306d2_row0_col9\" class=\"data row0 col9\" >58.37</td>\n",
       "      <td id=\"T_306d2_row0_col10\" class=\"data row0 col10\" >4.09</td>\n",
       "      <td id=\"T_306d2_row0_col11\" class=\"data row0 col11\" >28,137.54</td>\n",
       "      <td id=\"T_306d2_row0_col12\" class=\"data row0 col12\" >14</td>\n",
       "      <td id=\"T_306d2_row0_col13\" class=\"data row0 col13\" >-926.69</td>\n",
       "      <td id=\"T_306d2_row0_col14\" class=\"data row0 col14\" >-3.19%</td>\n",
       "      <td id=\"T_306d2_row0_col15\" class=\"data row0 col15\" >-83.13%</td>\n",
       "      <td id=\"T_306d2_row0_col16\" class=\"data row0 col16\" >-85</td>\n",
       "      <td id=\"T_306d2_row0_col17\" class=\"data row0 col17\" >None</td>\n",
       "      <td id=\"T_306d2_row0_col18\" class=\"data row0 col18\" >0</td>\n",
       "    </tr>\n",
       "  </tbody>\n",
       "</table>\n"
      ],
      "text/plain": [
       "<pandas.io.formats.style.Styler at 0x13fdec48bf0>"
      ]
     },
     "execution_count": 12,
     "metadata": {},
     "output_type": "execute_result"
    }
   ],
   "source": [
    "# Sells table in MySQL portfolio database\n",
    "sql = \"\"\"\n",
    "SELECT name, stock_id, B.date AS buy_date, qty, B.price AS buy_price, S.* \n",
    "FROM sells S\n",
    "JOIN buys B ON S.buy_id = B.id\n",
    "JOIN stocks T ON B.stock_id = T.id\n",
    "ORDER BY S.id DESC\n",
    "LIMIT 1\"\"\"\n",
    "sells = pd.read_sql(sql, conpf)\n",
    "sells.style.format(format_dict)"
   ]
  },
  {
   "cell_type": "markdown",
   "metadata": {},
   "source": [
    "### In case of sale, retreive buy id from sells record (buy_id)"
   ]
  },
  {
   "cell_type": "code",
   "execution_count": 15,
   "metadata": {},
   "outputs": [
    {
     "data": {
      "text/plain": [
       "'ORI'"
      ]
     },
     "execution_count": 15,
     "metadata": {},
     "output_type": "execute_result"
    }
   ],
   "source": [
    "# Buys table in MySQL portfolio database\n",
    "transaction = 'S'\n",
    "\n",
    "names = sells['name']\n",
    "name = names.to_string(index=False)\n",
    "name"
   ]
  },
  {
   "cell_type": "code",
   "execution_count": 17,
   "metadata": {},
   "outputs": [
    {
     "name": "stdout",
     "output_type": "stream",
     "text": [
      "\n",
      "SELECT name, B.* \n",
      "FROM buys B\n",
      "JOIN stocks T \n",
      "ON B.stock_id = T.id\n",
      "WHERE B.id = 1315\n",
      "\n"
     ]
    },
    {
     "data": {
      "text/html": [
       "<style type=\"text/css\">\n",
       "</style>\n",
       "<table id=\"T_c2acc\">\n",
       "  <thead>\n",
       "    <tr>\n",
       "      <th class=\"blank level0\" >&nbsp;</th>\n",
       "      <th id=\"T_c2acc_level0_col0\" class=\"col_heading level0 col0\" >name</th>\n",
       "      <th id=\"T_c2acc_level0_col1\" class=\"col_heading level0 col1\" >id</th>\n",
       "      <th id=\"T_c2acc_level0_col2\" class=\"col_heading level0 col2\" >stock_id</th>\n",
       "      <th id=\"T_c2acc_level0_col3\" class=\"col_heading level0 col3\" >date</th>\n",
       "      <th id=\"T_c2acc_level0_col4\" class=\"col_heading level0 col4\" >qty</th>\n",
       "      <th id=\"T_c2acc_level0_col5\" class=\"col_heading level0 col5\" >price</th>\n",
       "      <th id=\"T_c2acc_level0_col6\" class=\"col_heading level0 col6\" >fee</th>\n",
       "      <th id=\"T_c2acc_level0_col7\" class=\"col_heading level0 col7\" >vat</th>\n",
       "      <th id=\"T_c2acc_level0_col8\" class=\"col_heading level0 col8\" >status</th>\n",
       "      <th id=\"T_c2acc_level0_col9\" class=\"col_heading level0 col9\" >net</th>\n",
       "      <th id=\"T_c2acc_level0_col10\" class=\"col_heading level0 col10\" >kind</th>\n",
       "      <th id=\"T_c2acc_level0_col11\" class=\"col_heading level0 col11\" >chart</th>\n",
       "    </tr>\n",
       "  </thead>\n",
       "  <tbody>\n",
       "    <tr>\n",
       "      <th id=\"T_c2acc_level0_row0\" class=\"row_heading level0 row0\" >0</th>\n",
       "      <td id=\"T_c2acc_row0_col0\" class=\"data row0 col0\" >ORI</td>\n",
       "      <td id=\"T_c2acc_row0_col1\" class=\"data row0 col1\" >1315</td>\n",
       "      <td id=\"T_c2acc_row0_col2\" class=\"data row0 col2\" >125</td>\n",
       "      <td id=\"T_c2acc_row0_col3\" class=\"data row0 col3\" >2025-02-17</td>\n",
       "      <td id=\"T_c2acc_row0_col4\" class=\"data row0 col4\" >10,000</td>\n",
       "      <td id=\"T_c2acc_row0_col5\" class=\"data row0 col5\" >2.90</td>\n",
       "      <td id=\"T_c2acc_row0_col6\" class=\"data row0 col6\" >60.03</td>\n",
       "      <td id=\"T_c2acc_row0_col7\" class=\"data row0 col7\" >4.20</td>\n",
       "      <td id=\"T_c2acc_row0_col8\" class=\"data row0 col8\" >Sold</td>\n",
       "      <td id=\"T_c2acc_row0_col9\" class=\"data row0 col9\" >29,064.23</td>\n",
       "      <td id=\"T_c2acc_row0_col10\" class=\"data row0 col10\" >DTD</td>\n",
       "      <td id=\"T_c2acc_row0_col11\" class=\"data row0 col11\" >None</td>\n",
       "    </tr>\n",
       "  </tbody>\n",
       "</table>\n"
      ],
      "text/plain": [
       "<pandas.io.formats.style.Styler at 0x13fe1aee570>"
      ]
     },
     "execution_count": 17,
     "metadata": {},
     "output_type": "execute_result"
    }
   ],
   "source": [
    "sr_qty = sells['qty']\n",
    "qty = sr_qty.to_string(index=False)\n",
    "qty = int(qty) * -1\n",
    "\n",
    "sr_price = sells['buy_price']\n",
    "buy_price = sr_price.to_string(index=False)\n",
    "buy_price = float(buy_price)\n",
    "\n",
    "sr_price = sells['price']\n",
    "sell_price = sr_price.to_string(index=False)\n",
    "sell_price = float(sell_price)\n",
    "\n",
    "buy_ids = sells['buy_id']\n",
    "buy_id = buy_ids.to_string(index=False)\n",
    "\n",
    "sql = \"\"\"\n",
    "SELECT name, B.* \n",
    "FROM buys B\n",
    "JOIN stocks T \n",
    "ON B.stock_id = T.id\n",
    "WHERE B.id = %s\n",
    "\"\"\"\n",
    "sql = sql % buy_id\n",
    "print(sql)\n",
    "\n",
    "buys = pd.read_sql(sql, conpf)\n",
    "buys.style.format(format_dict)"
   ]
  },
  {
   "cell_type": "code",
   "execution_count": 19,
   "metadata": {},
   "outputs": [
    {
     "data": {
      "text/plain": [
       "('S', 'ORI', -10000, 2.82, 2.9)"
      ]
     },
     "execution_count": 19,
     "metadata": {},
     "output_type": "execute_result"
    }
   ],
   "source": [
    "transaction, name, qty, sell_price, buy_price"
   ]
  },
  {
   "cell_type": "code",
   "execution_count": 21,
   "metadata": {},
   "outputs": [],
   "source": [
    "#qty = -36000"
   ]
  },
  {
   "cell_type": "markdown",
   "metadata": {},
   "source": [
    "### In case of buy, retreive buy id from latest buy record (id)"
   ]
  },
  {
   "cell_type": "code",
   "execution_count": 12,
   "metadata": {},
   "outputs": [
    {
     "name": "stdout",
     "output_type": "stream",
     "text": [
      "\n",
      "SELECT name, B.* \n",
      "FROM buys B\n",
      "JOIN stocks T \n",
      "ON B.stock_id = T.id\n",
      "ORDER BY id DESC\n",
      "LIMIT 1\n",
      "\n"
     ]
    },
    {
     "data": {
      "text/html": [
       "<style type=\"text/css\">\n",
       "</style>\n",
       "<table id=\"T_01f52\">\n",
       "  <thead>\n",
       "    <tr>\n",
       "      <th class=\"blank level0\" >&nbsp;</th>\n",
       "      <th id=\"T_01f52_level0_col0\" class=\"col_heading level0 col0\" >name</th>\n",
       "      <th id=\"T_01f52_level0_col1\" class=\"col_heading level0 col1\" >id</th>\n",
       "      <th id=\"T_01f52_level0_col2\" class=\"col_heading level0 col2\" >stock_id</th>\n",
       "      <th id=\"T_01f52_level0_col3\" class=\"col_heading level0 col3\" >date</th>\n",
       "      <th id=\"T_01f52_level0_col4\" class=\"col_heading level0 col4\" >qty</th>\n",
       "      <th id=\"T_01f52_level0_col5\" class=\"col_heading level0 col5\" >price</th>\n",
       "      <th id=\"T_01f52_level0_col6\" class=\"col_heading level0 col6\" >fee</th>\n",
       "      <th id=\"T_01f52_level0_col7\" class=\"col_heading level0 col7\" >vat</th>\n",
       "      <th id=\"T_01f52_level0_col8\" class=\"col_heading level0 col8\" >status</th>\n",
       "      <th id=\"T_01f52_level0_col9\" class=\"col_heading level0 col9\" >net</th>\n",
       "      <th id=\"T_01f52_level0_col10\" class=\"col_heading level0 col10\" >kind</th>\n",
       "      <th id=\"T_01f52_level0_col11\" class=\"col_heading level0 col11\" >chart</th>\n",
       "    </tr>\n",
       "  </thead>\n",
       "  <tbody>\n",
       "    <tr>\n",
       "      <th id=\"T_01f52_level0_row0\" class=\"row_heading level0 row0\" >0</th>\n",
       "      <td id=\"T_01f52_row0_col0\" class=\"data row0 col0\" >MCS</td>\n",
       "      <td id=\"T_01f52_row0_col1\" class=\"data row0 col1\" >1316</td>\n",
       "      <td id=\"T_01f52_row0_col2\" class=\"data row0 col2\" >43</td>\n",
       "      <td id=\"T_01f52_row0_col3\" class=\"data row0 col3\" >2025-02-21</td>\n",
       "      <td id=\"T_01f52_row0_col4\" class=\"data row0 col4\" >6,000</td>\n",
       "      <td id=\"T_01f52_row0_col5\" class=\"data row0 col5\" >7.30</td>\n",
       "      <td id=\"T_01f52_row0_col6\" class=\"data row0 col6\" >90.67</td>\n",
       "      <td id=\"T_01f52_row0_col7\" class=\"data row0 col7\" >6.35</td>\n",
       "      <td id=\"T_01f52_row0_col8\" class=\"data row0 col8\" >Active</td>\n",
       "      <td id=\"T_01f52_row0_col9\" class=\"data row0 col9\" >43,897.02</td>\n",
       "      <td id=\"T_01f52_row0_col10\" class=\"data row0 col10\" >HD</td>\n",
       "      <td id=\"T_01f52_row0_col11\" class=\"data row0 col11\" >None</td>\n",
       "    </tr>\n",
       "  </tbody>\n",
       "</table>\n"
      ],
      "text/plain": [
       "<pandas.io.formats.style.Styler at 0x2567decf350>"
      ]
     },
     "execution_count": 12,
     "metadata": {},
     "output_type": "execute_result"
    }
   ],
   "source": [
    "sql = \"\"\"\n",
    "SELECT name, B.* \n",
    "FROM buys B\n",
    "JOIN stocks T \n",
    "ON B.stock_id = T.id\n",
    "ORDER BY id DESC\n",
    "LIMIT 1\n",
    "\"\"\"\n",
    "print(sql)\n",
    "buys = pd.read_sql(sql, conpf)\n",
    "buys.style.format(format_dict)"
   ]
  },
  {
   "cell_type": "code",
   "execution_count": 14,
   "metadata": {},
   "outputs": [
    {
     "data": {
      "text/plain": [
       "('B', 'MCS', 6000, 7.3)"
      ]
     },
     "execution_count": 14,
     "metadata": {},
     "output_type": "execute_result"
    }
   ],
   "source": [
    "transaction = 'B'\n",
    "\n",
    "names = buys['name']\n",
    "name = names.to_string(index=False)\n",
    "\n",
    "sr_qty = buys['qty']\n",
    "qty = sr_qty.to_string(index=False)\n",
    "qty = int(qty)\n",
    "\n",
    "sr_price = buys['price']\n",
    "buy_price = sr_price.to_string(index=False)\n",
    "buy_price = float(buy_price)\n",
    "\n",
    "transaction, name, qty, buy_price"
   ]
  },
  {
   "cell_type": "markdown",
   "metadata": {},
   "source": [
    "## Begin of Sale transaction"
   ]
  },
  {
   "cell_type": "markdown",
   "metadata": {},
   "source": [
    "### Begin of Update buy table in MySQL stock database from sale transaction"
   ]
  },
  {
   "cell_type": "code",
   "execution_count": 23,
   "metadata": {},
   "outputs": [
    {
     "name": "stdout",
     "output_type": "stream",
     "text": [
      "\n",
      "SELECT * \n",
      "FROM buy \n",
      "WHERE name = 'ORI'\n",
      "\n"
     ]
    },
    {
     "data": {
      "text/html": [
       "<style type=\"text/css\">\n",
       "</style>\n",
       "<table id=\"T_b0095\">\n",
       "  <thead>\n",
       "    <tr>\n",
       "      <th class=\"blank level0\" >&nbsp;</th>\n",
       "      <th id=\"T_b0095_level0_col0\" class=\"col_heading level0 col0\" >name</th>\n",
       "      <th id=\"T_b0095_level0_col1\" class=\"col_heading level0 col1\" >date</th>\n",
       "      <th id=\"T_b0095_level0_col2\" class=\"col_heading level0 col2\" >shares</th>\n",
       "      <th id=\"T_b0095_level0_col3\" class=\"col_heading level0 col3\" >price</th>\n",
       "      <th id=\"T_b0095_level0_col4\" class=\"col_heading level0 col4\" >active</th>\n",
       "      <th id=\"T_b0095_level0_col5\" class=\"col_heading level0 col5\" >period</th>\n",
       "      <th id=\"T_b0095_level0_col6\" class=\"col_heading level0 col6\" >grade</th>\n",
       "    </tr>\n",
       "  </thead>\n",
       "  <tbody>\n",
       "    <tr>\n",
       "      <th id=\"T_b0095_level0_row0\" class=\"row_heading level0 row0\" >0</th>\n",
       "      <td id=\"T_b0095_row0_col0\" class=\"data row0 col0\" >ORI</td>\n",
       "      <td id=\"T_b0095_row0_col1\" class=\"data row0 col1\" >2022-04-07</td>\n",
       "      <td id=\"T_b0095_row0_col2\" class=\"data row0 col2\" >60,000</td>\n",
       "      <td id=\"T_b0095_row0_col3\" class=\"data row0 col3\" >9.15</td>\n",
       "      <td id=\"T_b0095_row0_col4\" class=\"data row0 col4\" >1</td>\n",
       "      <td id=\"T_b0095_row0_col5\" class=\"data row0 col5\" >1</td>\n",
       "      <td id=\"T_b0095_row0_col6\" class=\"data row0 col6\" >C3</td>\n",
       "    </tr>\n",
       "  </tbody>\n",
       "</table>\n"
      ],
      "text/plain": [
       "<pandas.io.formats.style.Styler at 0x13fe27c8c20>"
      ]
     },
     "execution_count": 23,
     "metadata": {},
     "output_type": "execute_result"
    }
   ],
   "source": [
    "sql = \"\"\"\n",
    "SELECT * \n",
    "FROM buy \n",
    "WHERE name = '%s'\n",
    "\"\"\"\n",
    "sql = sql % name\n",
    "print(sql)\n",
    "\n",
    "buy = pd.read_sql(sql, const)\n",
    "buy.drop(['volsell', 'volbal','dividend'], axis=1, inplace=True)\n",
    "buy.rename(columns={'volbuy':'shares'},inplace=True)\n",
    "buy['shares'] = buy['shares'].astype('int64')\n",
    "buy.style.format(format_dict)"
   ]
  },
  {
   "cell_type": "code",
   "execution_count": 25,
   "metadata": {},
   "outputs": [
    {
     "name": "stdout",
     "output_type": "stream",
     "text": [
      "S ORI -10000 2.9\n"
     ]
    }
   ],
   "source": [
    "print(transaction, name, qty, buy_price)"
   ]
  },
  {
   "cell_type": "code",
   "execution_count": 27,
   "metadata": {},
   "outputs": [
    {
     "name": "stdout",
     "output_type": "stream",
     "text": [
      "50000\n"
     ]
    }
   ],
   "source": [
    "new_qty = buy['shares'] + qty\n",
    "print(new_qty.iloc[0])"
   ]
  },
  {
   "cell_type": "code",
   "execution_count": 31,
   "metadata": {},
   "outputs": [
    {
     "data": {
      "text/plain": [
       "10.4"
      ]
     },
     "execution_count": 31,
     "metadata": {},
     "output_type": "execute_result"
    }
   ],
   "source": [
    "new_price = 10.40\n",
    "new_price"
   ]
  },
  {
   "cell_type": "code",
   "execution_count": 35,
   "metadata": {},
   "outputs": [],
   "source": [
    "def update_buy(const, name, new_qty, new_price):\n",
    "    # Extract scalar values from Pandas Series\n",
    "    new_qty_value = int(new_qty.iloc[0])\n",
    "    \n",
    "    # Use parameterized query to avoid SQL injection\n",
    "    sqlUpd = text(\"\"\"\n",
    "        UPDATE buy\n",
    "        SET volbuy = :new_qty,\n",
    "        price = :new_price\n",
    "        WHERE name = :name\n",
    "    \"\"\")\n",
    "    \n",
    "    # Execute the query with parameters\n",
    "    rp = const.execute(sqlUpd, {\n",
    "        'new_qty': new_qty_value,\n",
    "        'new_price': new_price,\n",
    "        'name': name\n",
    "    })\n",
    "\n",
    "    return f\"Records updated = {rp.rowcount}\""
   ]
  },
  {
   "cell_type": "code",
   "execution_count": 37,
   "metadata": {},
   "outputs": [
    {
     "data": {
      "text/plain": [
       "'Records updated = 1'"
      ]
     },
     "execution_count": 37,
     "metadata": {},
     "output_type": "execute_result"
    }
   ],
   "source": [
    "# Example usage\n",
    "update_buy(const, name, new_qty, new_price)"
   ]
  },
  {
   "cell_type": "code",
   "execution_count": 39,
   "metadata": {},
   "outputs": [
    {
     "name": "stdout",
     "output_type": "stream",
     "text": [
      "\n",
      "SELECT * \n",
      "FROM buy \n",
      "WHERE name = 'ORI'\n",
      "\n"
     ]
    },
    {
     "data": {
      "text/html": [
       "<style type=\"text/css\">\n",
       "</style>\n",
       "<table id=\"T_ab3e0\">\n",
       "  <thead>\n",
       "    <tr>\n",
       "      <th class=\"blank level0\" >&nbsp;</th>\n",
       "      <th id=\"T_ab3e0_level0_col0\" class=\"col_heading level0 col0\" >name</th>\n",
       "      <th id=\"T_ab3e0_level0_col1\" class=\"col_heading level0 col1\" >date</th>\n",
       "      <th id=\"T_ab3e0_level0_col2\" class=\"col_heading level0 col2\" >shares</th>\n",
       "      <th id=\"T_ab3e0_level0_col3\" class=\"col_heading level0 col3\" >price</th>\n",
       "      <th id=\"T_ab3e0_level0_col4\" class=\"col_heading level0 col4\" >active</th>\n",
       "      <th id=\"T_ab3e0_level0_col5\" class=\"col_heading level0 col5\" >period</th>\n",
       "      <th id=\"T_ab3e0_level0_col6\" class=\"col_heading level0 col6\" >grade</th>\n",
       "    </tr>\n",
       "  </thead>\n",
       "  <tbody>\n",
       "    <tr>\n",
       "      <th id=\"T_ab3e0_level0_row0\" class=\"row_heading level0 row0\" >0</th>\n",
       "      <td id=\"T_ab3e0_row0_col0\" class=\"data row0 col0\" >ORI</td>\n",
       "      <td id=\"T_ab3e0_row0_col1\" class=\"data row0 col1\" >2022-04-07</td>\n",
       "      <td id=\"T_ab3e0_row0_col2\" class=\"data row0 col2\" >50,000</td>\n",
       "      <td id=\"T_ab3e0_row0_col3\" class=\"data row0 col3\" >10.40</td>\n",
       "      <td id=\"T_ab3e0_row0_col4\" class=\"data row0 col4\" >1</td>\n",
       "      <td id=\"T_ab3e0_row0_col5\" class=\"data row0 col5\" >1</td>\n",
       "      <td id=\"T_ab3e0_row0_col6\" class=\"data row0 col6\" >C3</td>\n",
       "    </tr>\n",
       "  </tbody>\n",
       "</table>\n"
      ],
      "text/plain": [
       "<pandas.io.formats.style.Styler at 0x13fe29fe960>"
      ]
     },
     "execution_count": 39,
     "metadata": {},
     "output_type": "execute_result"
    }
   ],
   "source": [
    "sql = \"\"\"\n",
    "SELECT * \n",
    "FROM buy \n",
    "WHERE name = '%s'\n",
    "\"\"\"\n",
    "sql = sql % name\n",
    "print(sql)\n",
    "\n",
    "buy = pd.read_sql(sql, const)\n",
    "buy.drop(['volsell', 'volbal','dividend'], axis=1, inplace=True)\n",
    "buy.rename(columns={'volbuy':'shares'},inplace=True)\n",
    "buy['shares'] = buy['shares'].astype('int64')\n",
    "buy.style.format(format_dict)"
   ]
  },
  {
   "cell_type": "code",
   "execution_count": 41,
   "metadata": {},
   "outputs": [
    {
     "name": "stdout",
     "output_type": "stream",
     "text": [
      "Records deleted: 0\n"
     ]
    }
   ],
   "source": [
    "# Define the SQL query\n",
    "sqlDel = text(\"\"\"\n",
    "    DELETE FROM buy\n",
    "    WHERE name = :name AND volbuy = 0;\n",
    "\"\"\")\n",
    "\n",
    "# Execute the query with the correct parameter dictionary\n",
    "result = const.execute(sqlDel, {'name': name})\n",
    "\n",
    "# Print the number of rows deleted\n",
    "print(f\"Records deleted: {result.rowcount}\")  "
   ]
  },
  {
   "cell_type": "markdown",
   "metadata": {},
   "source": [
    "### End of Update buy table in MySQL stock database from sale transaction"
   ]
  },
  {
   "cell_type": "markdown",
   "metadata": {},
   "source": [
    "### Begin of Update dividend table in MySQL stock database from sale transaction"
   ]
  },
  {
   "cell_type": "code",
   "execution_count": 45,
   "metadata": {},
   "outputs": [
    {
     "name": "stdout",
     "output_type": "stream",
     "text": [
      "\n",
      "SELECT * \n",
      "FROM dividend \n",
      "WHERE name = 'ORI'\n",
      "\n"
     ]
    },
    {
     "data": {
      "text/html": [
       "<style type=\"text/css\">\n",
       "</style>\n",
       "<table id=\"T_9bb81\">\n",
       "  <thead>\n",
       "    <tr>\n",
       "      <th class=\"blank level0\" >&nbsp;</th>\n",
       "      <th id=\"T_9bb81_level0_col0\" class=\"col_heading level0 col0\" >name</th>\n",
       "      <th id=\"T_9bb81_level0_col1\" class=\"col_heading level0 col1\" >q4</th>\n",
       "      <th id=\"T_9bb81_level0_col2\" class=\"col_heading level0 col2\" >q3</th>\n",
       "      <th id=\"T_9bb81_level0_col3\" class=\"col_heading level0 col3\" >q2</th>\n",
       "      <th id=\"T_9bb81_level0_col4\" class=\"col_heading level0 col4\" >q1</th>\n",
       "      <th id=\"T_9bb81_level0_col5\" class=\"col_heading level0 col5\" >dividend</th>\n",
       "      <th id=\"T_9bb81_level0_col6\" class=\"col_heading level0 col6\" >shares</th>\n",
       "      <th id=\"T_9bb81_level0_col7\" class=\"col_heading level0 col7\" >xdate</th>\n",
       "      <th id=\"T_9bb81_level0_col8\" class=\"col_heading level0 col8\" >paiddate</th>\n",
       "      <th id=\"T_9bb81_level0_col9\" class=\"col_heading level0 col9\" >kind</th>\n",
       "      <th id=\"T_9bb81_level0_col10\" class=\"col_heading level0 col10\" >actual</th>\n",
       "    </tr>\n",
       "  </thead>\n",
       "  <tbody>\n",
       "    <tr>\n",
       "      <th id=\"T_9bb81_level0_row0\" class=\"row_heading level0 row0\" >0</th>\n",
       "      <td id=\"T_9bb81_row0_col0\" class=\"data row0 col0\" >ORI</td>\n",
       "      <td id=\"T_9bb81_row0_col1\" class=\"data row0 col1\" >0.0000</td>\n",
       "      <td id=\"T_9bb81_row0_col2\" class=\"data row0 col2\" >0.0210</td>\n",
       "      <td id=\"T_9bb81_row0_col3\" class=\"data row0 col3\" >0.0000</td>\n",
       "      <td id=\"T_9bb81_row0_col4\" class=\"data row0 col4\" >0.0000</td>\n",
       "      <td id=\"T_9bb81_row0_col5\" class=\"data row0 col5\" >0.0210</td>\n",
       "      <td id=\"T_9bb81_row0_col6\" class=\"data row0 col6\" >60,000</td>\n",
       "      <td id=\"T_9bb81_row0_col7\" class=\"data row0 col7\" >2025-03-13</td>\n",
       "      <td id=\"T_9bb81_row0_col8\" class=\"data row0 col8\" >2025-05-23</td>\n",
       "      <td id=\"T_9bb81_row0_col9\" class=\"data row0 col9\" ></td>\n",
       "      <td id=\"T_9bb81_row0_col10\" class=\"data row0 col10\" >1</td>\n",
       "    </tr>\n",
       "  </tbody>\n",
       "</table>\n"
      ],
      "text/plain": [
       "<pandas.io.formats.style.Styler at 0x13fe1b353a0>"
      ]
     },
     "execution_count": 45,
     "metadata": {},
     "output_type": "execute_result"
    }
   ],
   "source": [
    "sql = \"\"\"\n",
    "SELECT * \n",
    "FROM dividend \n",
    "WHERE name = '%s'\n",
    "\"\"\"\n",
    "sql = sql % name\n",
    "print(sql)\n",
    "\n",
    "dividend = pd.read_sql(sql, const)\n",
    "dividend.drop(['PRICE', 'PERCENT'], axis=1, inplace=True)\n",
    "dividend.columns = dividend.columns.str.lower()\n",
    "dividend['shares'] = dividend['shares'].astype('int64')\n",
    "dividend['xdate'] = pd.to_datetime(dividend['xdate'])\n",
    "dividend['paiddate'] = pd.to_datetime(dividend['paiddate'])\n",
    "dividend.style.format(format_dict)"
   ]
  },
  {
   "cell_type": "code",
   "execution_count": 47,
   "metadata": {},
   "outputs": [
    {
     "data": {
      "text/plain": [
       "0    50000\n",
       "Name: shares, dtype: int64"
      ]
     },
     "execution_count": 47,
     "metadata": {},
     "output_type": "execute_result"
    }
   ],
   "source": [
    "new_qty"
   ]
  },
  {
   "cell_type": "code",
   "execution_count": 49,
   "metadata": {},
   "outputs": [],
   "source": [
    "def update_dividend(const, name, new_qty):\n",
    "    # Extract scalar values from Pandas Series\n",
    "    new_qty_value = int(new_qty.iloc[0])\n",
    "    # Use parameterized query to avoid SQL injection\n",
    "    sqlUpd = text(\"\"\"\n",
    "        UPDATE dividend\n",
    "        SET shares = :new_qty\n",
    "        WHERE name = :name\n",
    "    \"\"\")\n",
    "    # Execute the query with parameters\n",
    "    rp = const.execute(sqlUpd, {\n",
    "        'new_qty': new_qty_value,\n",
    "        'name': name\n",
    "    })\n",
    "    return f\"Records updated = {rp.rowcount}\""
   ]
  },
  {
   "cell_type": "code",
   "execution_count": 51,
   "metadata": {},
   "outputs": [
    {
     "data": {
      "text/plain": [
       "'Records updated = 1'"
      ]
     },
     "execution_count": 51,
     "metadata": {},
     "output_type": "execute_result"
    }
   ],
   "source": [
    "update_dividend(const, name, new_qty)"
   ]
  },
  {
   "cell_type": "code",
   "execution_count": 53,
   "metadata": {},
   "outputs": [
    {
     "name": "stdout",
     "output_type": "stream",
     "text": [
      "\n",
      "SELECT * \n",
      "FROM dividend \n",
      "WHERE name = 'ORI'\n",
      "\n"
     ]
    },
    {
     "data": {
      "text/html": [
       "<style type=\"text/css\">\n",
       "</style>\n",
       "<table id=\"T_182ff\">\n",
       "  <thead>\n",
       "    <tr>\n",
       "      <th class=\"blank level0\" >&nbsp;</th>\n",
       "      <th id=\"T_182ff_level0_col0\" class=\"col_heading level0 col0\" >name</th>\n",
       "      <th id=\"T_182ff_level0_col1\" class=\"col_heading level0 col1\" >q4</th>\n",
       "      <th id=\"T_182ff_level0_col2\" class=\"col_heading level0 col2\" >q3</th>\n",
       "      <th id=\"T_182ff_level0_col3\" class=\"col_heading level0 col3\" >q2</th>\n",
       "      <th id=\"T_182ff_level0_col4\" class=\"col_heading level0 col4\" >q1</th>\n",
       "      <th id=\"T_182ff_level0_col5\" class=\"col_heading level0 col5\" >dividend</th>\n",
       "      <th id=\"T_182ff_level0_col6\" class=\"col_heading level0 col6\" >shares</th>\n",
       "      <th id=\"T_182ff_level0_col7\" class=\"col_heading level0 col7\" >xdate</th>\n",
       "      <th id=\"T_182ff_level0_col8\" class=\"col_heading level0 col8\" >paiddate</th>\n",
       "      <th id=\"T_182ff_level0_col9\" class=\"col_heading level0 col9\" >kind</th>\n",
       "      <th id=\"T_182ff_level0_col10\" class=\"col_heading level0 col10\" >actual</th>\n",
       "    </tr>\n",
       "  </thead>\n",
       "  <tbody>\n",
       "    <tr>\n",
       "      <th id=\"T_182ff_level0_row0\" class=\"row_heading level0 row0\" >0</th>\n",
       "      <td id=\"T_182ff_row0_col0\" class=\"data row0 col0\" >ORI</td>\n",
       "      <td id=\"T_182ff_row0_col1\" class=\"data row0 col1\" >0.0000</td>\n",
       "      <td id=\"T_182ff_row0_col2\" class=\"data row0 col2\" >0.0210</td>\n",
       "      <td id=\"T_182ff_row0_col3\" class=\"data row0 col3\" >0.0000</td>\n",
       "      <td id=\"T_182ff_row0_col4\" class=\"data row0 col4\" >0.0000</td>\n",
       "      <td id=\"T_182ff_row0_col5\" class=\"data row0 col5\" >0.0210</td>\n",
       "      <td id=\"T_182ff_row0_col6\" class=\"data row0 col6\" >50,000</td>\n",
       "      <td id=\"T_182ff_row0_col7\" class=\"data row0 col7\" >2025-03-13</td>\n",
       "      <td id=\"T_182ff_row0_col8\" class=\"data row0 col8\" >2025-05-23</td>\n",
       "      <td id=\"T_182ff_row0_col9\" class=\"data row0 col9\" ></td>\n",
       "      <td id=\"T_182ff_row0_col10\" class=\"data row0 col10\" >1</td>\n",
       "    </tr>\n",
       "  </tbody>\n",
       "</table>\n"
      ],
      "text/plain": [
       "<pandas.io.formats.style.Styler at 0x13fe29fda30>"
      ]
     },
     "execution_count": 53,
     "metadata": {},
     "output_type": "execute_result"
    }
   ],
   "source": [
    "sql = \"\"\"\n",
    "SELECT * \n",
    "FROM dividend \n",
    "WHERE name = '%s'\n",
    "\"\"\"\n",
    "sql = sql % name\n",
    "print(sql)\n",
    "\n",
    "dividend = pd.read_sql(sql, const)\n",
    "dividend.drop(['PRICE', 'PERCENT'], axis=1, inplace=True)\n",
    "dividend.columns = dividend.columns.str.lower()\n",
    "dividend['shares'] = dividend['shares'].astype('int64')\n",
    "dividend['xdate'] = pd.to_datetime(dividend['xdate'])\n",
    "dividend['paiddate'] = pd.to_datetime(dividend['paiddate'])\n",
    "dividend.style.format(format_dict)"
   ]
  },
  {
   "cell_type": "code",
   "execution_count": 55,
   "metadata": {},
   "outputs": [
    {
     "name": "stdout",
     "output_type": "stream",
     "text": [
      "Records deleted: 0\n"
     ]
    }
   ],
   "source": [
    "# Define the SQL query\n",
    "sqlDel = text(\"\"\"\n",
    "    DELETE FROM dividend\n",
    "    WHERE name = :name AND shares = 0;\n",
    "\"\"\")\n",
    "\n",
    "# Execute the query with the correct parameter dictionary\n",
    "result = const.execute(sqlDel, {'name': name})\n",
    "\n",
    "# Print the number of rows deleted\n",
    "print(f\"Records deleted: {result.rowcount}\")  "
   ]
  },
  {
   "cell_type": "markdown",
   "metadata": {},
   "source": [
    "### End of Update dividend table in MySQL stock database from sale transaction"
   ]
  },
  {
   "cell_type": "markdown",
   "metadata": {},
   "source": [
    "### Begin of Update stocks table in SQLite port_lite database from sale transaction"
   ]
  },
  {
   "cell_type": "code",
   "execution_count": 59,
   "metadata": {},
   "outputs": [
    {
     "name": "stdout",
     "output_type": "stream",
     "text": [
      "\n",
      "SELECT * \n",
      "FROM stocks \n",
      "WHERE name = 'ORI'\n",
      "\n"
     ]
    },
    {
     "data": {
      "text/html": [
       "<style type=\"text/css\">\n",
       "</style>\n",
       "<table id=\"T_fce09\">\n",
       "  <thead>\n",
       "    <tr>\n",
       "      <th class=\"blank level0\" >&nbsp;</th>\n",
       "      <th id=\"T_fce09_level0_col0\" class=\"col_heading level0 col0\" >id</th>\n",
       "      <th id=\"T_fce09_level0_col1\" class=\"col_heading level0 col1\" >name</th>\n",
       "      <th id=\"T_fce09_level0_col2\" class=\"col_heading level0 col2\" >max_price</th>\n",
       "      <th id=\"T_fce09_level0_col3\" class=\"col_heading level0 col3\" >min_price</th>\n",
       "      <th id=\"T_fce09_level0_col4\" class=\"col_heading level0 col4\" >status</th>\n",
       "      <th id=\"T_fce09_level0_col5\" class=\"col_heading level0 col5\" >buy_target</th>\n",
       "      <th id=\"T_fce09_level0_col6\" class=\"col_heading level0 col6\" >sell_target</th>\n",
       "      <th id=\"T_fce09_level0_col7\" class=\"col_heading level0 col7\" >volume</th>\n",
       "      <th id=\"T_fce09_level0_col8\" class=\"col_heading level0 col8\" >beta</th>\n",
       "      <th id=\"T_fce09_level0_col9\" class=\"col_heading level0 col9\" >cost</th>\n",
       "      <th id=\"T_fce09_level0_col10\" class=\"col_heading level0 col10\" >qty</th>\n",
       "      <th id=\"T_fce09_level0_col11\" class=\"col_heading level0 col11\" >buy_spread</th>\n",
       "      <th id=\"T_fce09_level0_col12\" class=\"col_heading level0 col12\" >sell_spread</th>\n",
       "      <th id=\"T_fce09_level0_col13\" class=\"col_heading level0 col13\" >available_qty</th>\n",
       "      <th id=\"T_fce09_level0_col14\" class=\"col_heading level0 col14\" >bl</th>\n",
       "      <th id=\"T_fce09_level0_col15\" class=\"col_heading level0 col15\" >sh</th>\n",
       "      <th id=\"T_fce09_level0_col16\" class=\"col_heading level0 col16\" >reason</th>\n",
       "      <th id=\"T_fce09_level0_col17\" class=\"col_heading level0 col17\" >market</th>\n",
       "    </tr>\n",
       "  </thead>\n",
       "  <tbody>\n",
       "    <tr>\n",
       "      <th id=\"T_fce09_level0_row0\" class=\"row_heading level0 row0\" >0</th>\n",
       "      <td id=\"T_fce09_row0_col0\" class=\"data row0 col0\" >116</td>\n",
       "      <td id=\"T_fce09_row0_col1\" class=\"data row0 col1\" >ORI</td>\n",
       "      <td id=\"T_fce09_row0_col2\" class=\"data row0 col2\" >0.00</td>\n",
       "      <td id=\"T_fce09_row0_col3\" class=\"data row0 col3\" >0.00</td>\n",
       "      <td id=\"T_fce09_row0_col4\" class=\"data row0 col4\" >X</td>\n",
       "      <td id=\"T_fce09_row0_col5\" class=\"data row0 col5\" >2.90</td>\n",
       "      <td id=\"T_fce09_row0_col6\" class=\"data row0 col6\" >11.10</td>\n",
       "      <td id=\"T_fce09_row0_col7\" class=\"data row0 col7\" >0.00</td>\n",
       "      <td id=\"T_fce09_row0_col8\" class=\"data row0 col8\" >0.00</td>\n",
       "      <td id=\"T_fce09_row0_col9\" class=\"data row0 col9\" >10.40</td>\n",
       "      <td id=\"T_fce09_row0_col10\" class=\"data row0 col10\" >10,000</td>\n",
       "      <td id=\"T_fce09_row0_col11\" class=\"data row0 col11\" >-4</td>\n",
       "      <td id=\"T_fce09_row0_col12\" class=\"data row0 col12\" >4</td>\n",
       "      <td id=\"T_fce09_row0_col13\" class=\"data row0 col13\" >50,000</td>\n",
       "      <td id=\"T_fce09_row0_col14\" class=\"data row0 col14\" >0.000000</td>\n",
       "      <td id=\"T_fce09_row0_col15\" class=\"data row0 col15\" >0.000000</td>\n",
       "      <td id=\"T_fce09_row0_col16\" class=\"data row0 col16\" >RD70Pct</td>\n",
       "      <td id=\"T_fce09_row0_col17\" class=\"data row0 col17\" >SET100</td>\n",
       "    </tr>\n",
       "  </tbody>\n",
       "</table>\n"
      ],
      "text/plain": [
       "<pandas.io.formats.style.Styler at 0x13fe29eb590>"
      ]
     },
     "execution_count": 59,
     "metadata": {},
     "output_type": "execute_result"
    }
   ],
   "source": [
    "sql = \"\"\"\n",
    "SELECT * \n",
    "FROM stocks \n",
    "WHERE name = '%s'\n",
    "\"\"\"\n",
    "sql = sql % name\n",
    "print(sql)\n",
    "\n",
    "stock = pd.read_sql(sql, conlite)\n",
    "stock.style.format(format_dict)"
   ]
  },
  {
   "cell_type": "code",
   "execution_count": 61,
   "metadata": {},
   "outputs": [
    {
     "name": "stdout",
     "output_type": "stream",
     "text": [
      "ORI S 50000 10.4\n"
     ]
    }
   ],
   "source": [
    "# Extract scalar values from Pandas Series (if applicable)\n",
    "new_qty_value = new_qty.iloc[0] if hasattr(new_qty, 'iloc') else new_qty\n",
    "#cost_value = cost.iloc[0] if hasattr(cost, 'iloc') else cost\n",
    "# Print the values\n",
    "print(name, transaction, new_qty_value, new_price)"
   ]
  },
  {
   "cell_type": "code",
   "execution_count": 69,
   "metadata": {},
   "outputs": [],
   "source": [
    "#print(\"Raw cost value before extraction:\", cost)"
   ]
  },
  {
   "cell_type": "code",
   "execution_count": 69,
   "metadata": {},
   "outputs": [],
   "source": [
    "def update_stock(conlite, name, new_qty, new_price):\n",
    "    # Extract scalar values from Pandas Series\n",
    "    new_qty_value = int(new_qty.iloc[0])  \n",
    "    # Use parameterized query to avoid SQL injection\n",
    "    sqlUpd = text(\"\"\"\n",
    "        UPDATE stocks\n",
    "        SET available_qty = :new_qty,\n",
    "        cost = :new_price\n",
    "        WHERE name = :name\n",
    "    \"\"\")    \n",
    "    # Execute the query with parameters\n",
    "    rp = conlite.execute(sqlUpd, {\n",
    "        'new_qty': new_qty_value, # Use the scalar value\n",
    "        'new_price': new_price,\n",
    "        'name': name\n",
    "    })\n",
    "    return f\"Records updated = {rp.rowcount}\""
   ]
  },
  {
   "cell_type": "code",
   "execution_count": 71,
   "metadata": {},
   "outputs": [
    {
     "data": {
      "text/plain": [
       "'Records updated = 1'"
      ]
     },
     "execution_count": 71,
     "metadata": {},
     "output_type": "execute_result"
    }
   ],
   "source": [
    "# Example usage\n",
    "update_stock(conlite, name, new_qty, new_price)"
   ]
  },
  {
   "cell_type": "code",
   "execution_count": 73,
   "metadata": {},
   "outputs": [
    {
     "name": "stdout",
     "output_type": "stream",
     "text": [
      "\n",
      "SELECT * \n",
      "FROM stocks \n",
      "WHERE name = 'ORI'\n",
      "\n"
     ]
    },
    {
     "data": {
      "text/html": [
       "<style type=\"text/css\">\n",
       "</style>\n",
       "<table id=\"T_766da\">\n",
       "  <thead>\n",
       "    <tr>\n",
       "      <th class=\"blank level0\" >&nbsp;</th>\n",
       "      <th id=\"T_766da_level0_col0\" class=\"col_heading level0 col0\" >id</th>\n",
       "      <th id=\"T_766da_level0_col1\" class=\"col_heading level0 col1\" >name</th>\n",
       "      <th id=\"T_766da_level0_col2\" class=\"col_heading level0 col2\" >max_price</th>\n",
       "      <th id=\"T_766da_level0_col3\" class=\"col_heading level0 col3\" >min_price</th>\n",
       "      <th id=\"T_766da_level0_col4\" class=\"col_heading level0 col4\" >status</th>\n",
       "      <th id=\"T_766da_level0_col5\" class=\"col_heading level0 col5\" >buy_target</th>\n",
       "      <th id=\"T_766da_level0_col6\" class=\"col_heading level0 col6\" >sell_target</th>\n",
       "      <th id=\"T_766da_level0_col7\" class=\"col_heading level0 col7\" >volume</th>\n",
       "      <th id=\"T_766da_level0_col8\" class=\"col_heading level0 col8\" >beta</th>\n",
       "      <th id=\"T_766da_level0_col9\" class=\"col_heading level0 col9\" >cost</th>\n",
       "      <th id=\"T_766da_level0_col10\" class=\"col_heading level0 col10\" >qty</th>\n",
       "      <th id=\"T_766da_level0_col11\" class=\"col_heading level0 col11\" >buy_spread</th>\n",
       "      <th id=\"T_766da_level0_col12\" class=\"col_heading level0 col12\" >sell_spread</th>\n",
       "      <th id=\"T_766da_level0_col13\" class=\"col_heading level0 col13\" >available_qty</th>\n",
       "      <th id=\"T_766da_level0_col14\" class=\"col_heading level0 col14\" >bl</th>\n",
       "      <th id=\"T_766da_level0_col15\" class=\"col_heading level0 col15\" >sh</th>\n",
       "      <th id=\"T_766da_level0_col16\" class=\"col_heading level0 col16\" >reason</th>\n",
       "      <th id=\"T_766da_level0_col17\" class=\"col_heading level0 col17\" >market</th>\n",
       "    </tr>\n",
       "  </thead>\n",
       "  <tbody>\n",
       "    <tr>\n",
       "      <th id=\"T_766da_level0_row0\" class=\"row_heading level0 row0\" >0</th>\n",
       "      <td id=\"T_766da_row0_col0\" class=\"data row0 col0\" >116</td>\n",
       "      <td id=\"T_766da_row0_col1\" class=\"data row0 col1\" >ORI</td>\n",
       "      <td id=\"T_766da_row0_col2\" class=\"data row0 col2\" >0.00</td>\n",
       "      <td id=\"T_766da_row0_col3\" class=\"data row0 col3\" >0.00</td>\n",
       "      <td id=\"T_766da_row0_col4\" class=\"data row0 col4\" >X</td>\n",
       "      <td id=\"T_766da_row0_col5\" class=\"data row0 col5\" >2.90</td>\n",
       "      <td id=\"T_766da_row0_col6\" class=\"data row0 col6\" >11.10</td>\n",
       "      <td id=\"T_766da_row0_col7\" class=\"data row0 col7\" >0.00</td>\n",
       "      <td id=\"T_766da_row0_col8\" class=\"data row0 col8\" >0.00</td>\n",
       "      <td id=\"T_766da_row0_col9\" class=\"data row0 col9\" >10.40</td>\n",
       "      <td id=\"T_766da_row0_col10\" class=\"data row0 col10\" >10,000</td>\n",
       "      <td id=\"T_766da_row0_col11\" class=\"data row0 col11\" >-4</td>\n",
       "      <td id=\"T_766da_row0_col12\" class=\"data row0 col12\" >4</td>\n",
       "      <td id=\"T_766da_row0_col13\" class=\"data row0 col13\" >50,000</td>\n",
       "      <td id=\"T_766da_row0_col14\" class=\"data row0 col14\" >0.000000</td>\n",
       "      <td id=\"T_766da_row0_col15\" class=\"data row0 col15\" >0.000000</td>\n",
       "      <td id=\"T_766da_row0_col16\" class=\"data row0 col16\" >RD70Pct</td>\n",
       "      <td id=\"T_766da_row0_col17\" class=\"data row0 col17\" >SET100</td>\n",
       "    </tr>\n",
       "  </tbody>\n",
       "</table>\n"
      ],
      "text/plain": [
       "<pandas.io.formats.style.Styler at 0x13fe29fdbb0>"
      ]
     },
     "execution_count": 73,
     "metadata": {},
     "output_type": "execute_result"
    }
   ],
   "source": [
    "sql = \"\"\"\n",
    "SELECT * \n",
    "FROM stocks \n",
    "WHERE name = '%s'\n",
    "\"\"\"\n",
    "sql = sql % name\n",
    "print(sql)\n",
    "\n",
    "stocks = pd.read_sql(sql, conlite)\n",
    "stocks.style.format(format_dict)"
   ]
  },
  {
   "cell_type": "code",
   "execution_count": 75,
   "metadata": {},
   "outputs": [
    {
     "name": "stdout",
     "output_type": "stream",
     "text": [
      "Records deleted: 0\n"
     ]
    }
   ],
   "source": [
    "# Define the SQL query\n",
    "sqlDel = text(\"\"\"\n",
    "    DELETE FROM stocks\n",
    "    WHERE name = :name AND available_qty = 0;\n",
    "\"\"\")\n",
    "\n",
    "# Execute the query with the correct parameter dictionary\n",
    "result = conlite.execute(sqlDel, {'name': name})\n",
    "\n",
    "# Print the number of rows deleted\n",
    "print(f\"Records deleted: {result.rowcount}\")  "
   ]
  },
  {
   "cell_type": "code",
   "execution_count": 77,
   "metadata": {},
   "outputs": [],
   "source": [
    "conlite.commit()"
   ]
  },
  {
   "cell_type": "markdown",
   "metadata": {},
   "source": [
    "### End of Update stocks table in SQLite port_lite database from sale transaction"
   ]
  },
  {
   "cell_type": "markdown",
   "metadata": {},
   "source": [
    "## End of Sale process"
   ]
  },
  {
   "cell_type": "markdown",
   "metadata": {},
   "source": [
    "### ====================================================="
   ]
  },
  {
   "cell_type": "markdown",
   "metadata": {},
   "source": [
    "## Begin of  Buy process"
   ]
  },
  {
   "cell_type": "markdown",
   "metadata": {},
   "source": [
    "### Begin of Update buy table in MySQL database from buy transaction"
   ]
  },
  {
   "cell_type": "code",
   "execution_count": 16,
   "metadata": {},
   "outputs": [
    {
     "name": "stdout",
     "output_type": "stream",
     "text": [
      "\n",
      "SELECT *, volbuy * price AS cost_amt \n",
      "FROM buy\n",
      "WHERE name = 'MCS'\n",
      "\n"
     ]
    },
    {
     "data": {
      "text/html": [
       "<div>\n",
       "<style scoped>\n",
       "    .dataframe tbody tr th:only-of-type {\n",
       "        vertical-align: middle;\n",
       "    }\n",
       "\n",
       "    .dataframe tbody tr th {\n",
       "        vertical-align: top;\n",
       "    }\n",
       "\n",
       "    .dataframe thead th {\n",
       "        text-align: right;\n",
       "    }\n",
       "</style>\n",
       "<table border=\"1\" class=\"dataframe\">\n",
       "  <thead>\n",
       "    <tr style=\"text-align: right;\">\n",
       "      <th></th>\n",
       "      <th>name</th>\n",
       "      <th>date</th>\n",
       "      <th>shares</th>\n",
       "      <th>price</th>\n",
       "      <th>active</th>\n",
       "      <th>dividend</th>\n",
       "      <th>period</th>\n",
       "      <th>grade</th>\n",
       "      <th>cost_amt</th>\n",
       "    </tr>\n",
       "  </thead>\n",
       "  <tbody>\n",
       "    <tr>\n",
       "      <th>0</th>\n",
       "      <td>MCS</td>\n",
       "      <td>2016-09-20</td>\n",
       "      <td>75000</td>\n",
       "      <td>15.4</td>\n",
       "      <td>1</td>\n",
       "      <td>0.52</td>\n",
       "      <td>2</td>\n",
       "      <td>A3</td>\n",
       "      <td>1155000.0</td>\n",
       "    </tr>\n",
       "  </tbody>\n",
       "</table>\n",
       "</div>"
      ],
      "text/plain": [
       "  name       date  shares  price  active  dividend period grade   cost_amt\n",
       "0  MCS 2016-09-20   75000   15.4       1      0.52      2    A3  1155000.0"
      ]
     },
     "execution_count": 16,
     "metadata": {},
     "output_type": "execute_result"
    }
   ],
   "source": [
    "sql = \"\"\"\n",
    "SELECT *, volbuy * price AS cost_amt \n",
    "FROM buy\n",
    "WHERE name = '%s'\n",
    "\"\"\"\n",
    "sql = sql % name\n",
    "print(sql)\n",
    "\n",
    "buy = pd.read_sql(sql, const)\n",
    "buy['date'] = pd.to_datetime(buy['date'])\n",
    "buy.drop(['volsell', 'volbal'], axis=1, inplace = True)\n",
    "buy.rename(columns={'volbuy':'shares'}, inplace = True)\n",
    "buy['shares'] = buy['shares'].astype('int64')\n",
    "buy"
   ]
  },
  {
   "cell_type": "code",
   "execution_count": 18,
   "metadata": {},
   "outputs": [
    {
     "name": "stdout",
     "output_type": "stream",
     "text": [
      "B MCS 6000 7.3\n"
     ]
    }
   ],
   "source": [
    "print(transaction, name, qty, buy_price)"
   ]
  },
  {
   "cell_type": "code",
   "execution_count": 20,
   "metadata": {},
   "outputs": [
    {
     "name": "stdout",
     "output_type": "stream",
     "text": [
      "1198800.0\n",
      "81000\n",
      "14.8\n"
     ]
    }
   ],
   "source": [
    "new_unit_cost = buy['cost_amt'].iloc[0] + (qty * buy_price)\n",
    "new_qty = buy['shares'].iloc[0] + qty\n",
    "print(new_unit_cost)\n",
    "print(new_qty)\n",
    "new_unit_cost = new_unit_cost / new_qty\n",
    "print(new_unit_cost)"
   ]
  },
  {
   "cell_type": "markdown",
   "metadata": {},
   "source": [
    "### In case there is the same stock name in port"
   ]
  },
  {
   "cell_type": "code",
   "execution_count": 27,
   "metadata": {},
   "outputs": [],
   "source": [
    "def update_buy(const, name, new_qty, new_unit_cost):\n",
    "    # Extract scalar values from Pandas Series\n",
    "    new_qty_value = new_qty\n",
    "    new_unit_cost_value = new_unit_cost\n",
    "    \n",
    "    # Use parameterized query to avoid SQL injection\n",
    "    sqlUpd = text(\"\"\"\n",
    "        UPDATE buy\n",
    "        SET volbuy = :new_qty, \n",
    "            price = :new_unit_cost\n",
    "        WHERE name = :name\n",
    "    \"\"\")\n",
    "    \n",
    "    # Execute the query with parameters\n",
    "    rp = const.execute(sqlUpd, {\n",
    "        'new_qty': new_qty_value,  # Use the scalar value\n",
    "        'new_unit_cost': new_unit_cost_value,  # Use the scalar value\n",
    "        'name': name\n",
    "    })\n",
    "\n",
    "    return f\"Records updated = {rp.rowcount}\""
   ]
  },
  {
   "cell_type": "code",
   "execution_count": 29,
   "metadata": {},
   "outputs": [
    {
     "data": {
      "text/plain": [
       "'Records updated = 1'"
      ]
     },
     "execution_count": 29,
     "metadata": {},
     "output_type": "execute_result"
    }
   ],
   "source": [
    "# Example usage\n",
    "update_buy(const, name, new_qty, new_unit_cost)"
   ]
  },
  {
   "cell_type": "code",
   "execution_count": 31,
   "metadata": {},
   "outputs": [
    {
     "name": "stdout",
     "output_type": "stream",
     "text": [
      "\n",
      "SELECT * \n",
      "FROM buy \n",
      "WHERE name = 'MCS'\n",
      "\n"
     ]
    },
    {
     "data": {
      "text/html": [
       "<style type=\"text/css\">\n",
       "</style>\n",
       "<table id=\"T_2c3ac\">\n",
       "  <thead>\n",
       "    <tr>\n",
       "      <th class=\"blank level0\" >&nbsp;</th>\n",
       "      <th id=\"T_2c3ac_level0_col0\" class=\"col_heading level0 col0\" >name</th>\n",
       "      <th id=\"T_2c3ac_level0_col1\" class=\"col_heading level0 col1\" >date</th>\n",
       "      <th id=\"T_2c3ac_level0_col2\" class=\"col_heading level0 col2\" >shares</th>\n",
       "      <th id=\"T_2c3ac_level0_col3\" class=\"col_heading level0 col3\" >price</th>\n",
       "      <th id=\"T_2c3ac_level0_col4\" class=\"col_heading level0 col4\" >active</th>\n",
       "      <th id=\"T_2c3ac_level0_col5\" class=\"col_heading level0 col5\" >dividend</th>\n",
       "      <th id=\"T_2c3ac_level0_col6\" class=\"col_heading level0 col6\" >period</th>\n",
       "      <th id=\"T_2c3ac_level0_col7\" class=\"col_heading level0 col7\" >grade</th>\n",
       "    </tr>\n",
       "  </thead>\n",
       "  <tbody>\n",
       "    <tr>\n",
       "      <th id=\"T_2c3ac_level0_row0\" class=\"row_heading level0 row0\" >0</th>\n",
       "      <td id=\"T_2c3ac_row0_col0\" class=\"data row0 col0\" >MCS</td>\n",
       "      <td id=\"T_2c3ac_row0_col1\" class=\"data row0 col1\" >2016-09-20</td>\n",
       "      <td id=\"T_2c3ac_row0_col2\" class=\"data row0 col2\" >81,000</td>\n",
       "      <td id=\"T_2c3ac_row0_col3\" class=\"data row0 col3\" >14.80</td>\n",
       "      <td id=\"T_2c3ac_row0_col4\" class=\"data row0 col4\" >1</td>\n",
       "      <td id=\"T_2c3ac_row0_col5\" class=\"data row0 col5\" >0.5200</td>\n",
       "      <td id=\"T_2c3ac_row0_col6\" class=\"data row0 col6\" >2</td>\n",
       "      <td id=\"T_2c3ac_row0_col7\" class=\"data row0 col7\" >A3</td>\n",
       "    </tr>\n",
       "  </tbody>\n",
       "</table>\n"
      ],
      "text/plain": [
       "<pandas.io.formats.style.Styler at 0x25601d1ebd0>"
      ]
     },
     "execution_count": 31,
     "metadata": {},
     "output_type": "execute_result"
    }
   ],
   "source": [
    "sql = \"\"\"\n",
    "SELECT * \n",
    "FROM buy \n",
    "WHERE name = '%s'\n",
    "\"\"\"\n",
    "sql = sql % name\n",
    "print(sql)\n",
    "\n",
    "buy = pd.read_sql(sql, const)\n",
    "buy.drop(['volsell', 'volbal'], axis=1, inplace=True)\n",
    "buy.rename(columns={'volbuy':'shares'},inplace=True)\n",
    "buy['shares'] = buy['shares'].astype('int64')\n",
    "buy.style.format(format_dict)"
   ]
  },
  {
   "cell_type": "markdown",
   "metadata": {},
   "source": [
    "### In case of totally new stock"
   ]
  },
  {
   "cell_type": "code",
   "execution_count": 11,
   "metadata": {},
   "outputs": [
    {
     "data": {
      "text/plain": [
       "['TVO', '2024-11-06', 4000, 24.9, 0, 0, 1, 0, 4, 'A2']"
      ]
     },
     "execution_count": 11,
     "metadata": {},
     "output_type": "execute_result"
    }
   ],
   "source": [
    "rcd = ['TVO', '2024-11-06', 4000, 24.90, 0, 0, 1, 0, 4,'A2']\n",
    "rcd"
   ]
  },
  {
   "cell_type": "code",
   "execution_count": 12,
   "metadata": {},
   "outputs": [
    {
     "name": "stdout",
     "output_type": "stream",
     "text": [
      "\n",
      "INSERT INTO buy (name, date, volbuy, price, volsell, volbal, active, dividend, period, grade)\n",
      "VALUES (%s, %s, %s, %s, %s, %s, %s, %s, %s, %s)\n",
      "\n"
     ]
    }
   ],
   "source": [
    "sqlIns = \"\"\"\n",
    "INSERT INTO buy (name, date, volbuy, price, volsell, volbal, active, dividend, period, grade)\n",
    "VALUES (%s, %s, %s, %s, %s, %s, %s, %s, %s, %s)\n",
    "\"\"\"\n",
    "print(sqlIns)"
   ]
  },
  {
   "cell_type": "code",
   "execution_count": 13,
   "metadata": {},
   "outputs": [
    {
     "data": {
      "text/plain": [
       "1"
      ]
     },
     "execution_count": 13,
     "metadata": {},
     "output_type": "execute_result"
    }
   ],
   "source": [
    "rp = const.execute(sqlIns, rcd)\n",
    "rp.rowcount"
   ]
  },
  {
   "cell_type": "code",
   "execution_count": 15,
   "metadata": {},
   "outputs": [],
   "source": [
    "name = 'TVO'"
   ]
  },
  {
   "cell_type": "code",
   "execution_count": 16,
   "metadata": {},
   "outputs": [
    {
     "name": "stdout",
     "output_type": "stream",
     "text": [
      "\n",
      "SELECT * \n",
      "FROM buy \n",
      "WHERE name = 'TVO'\n",
      "\n"
     ]
    },
    {
     "data": {
      "text/html": [
       "<style type=\"text/css\">\n",
       "</style>\n",
       "<table id=\"T_84260_\">\n",
       "  <thead>\n",
       "    <tr>\n",
       "      <th class=\"blank level0\" >&nbsp;</th>\n",
       "      <th class=\"col_heading level0 col0\" >name</th>\n",
       "      <th class=\"col_heading level0 col1\" >date</th>\n",
       "      <th class=\"col_heading level0 col2\" >shares</th>\n",
       "      <th class=\"col_heading level0 col3\" >price</th>\n",
       "      <th class=\"col_heading level0 col4\" >active</th>\n",
       "      <th class=\"col_heading level0 col5\" >dividend</th>\n",
       "      <th class=\"col_heading level0 col6\" >period</th>\n",
       "      <th class=\"col_heading level0 col7\" >grade</th>\n",
       "    </tr>\n",
       "  </thead>\n",
       "  <tbody>\n",
       "    <tr>\n",
       "      <th id=\"T_84260_level0_row0\" class=\"row_heading level0 row0\" >0</th>\n",
       "      <td id=\"T_84260_row0_col0\" class=\"data row0 col0\" >TVO</td>\n",
       "      <td id=\"T_84260_row0_col1\" class=\"data row0 col1\" >2024-11-06</td>\n",
       "      <td id=\"T_84260_row0_col2\" class=\"data row0 col2\" >4,000</td>\n",
       "      <td id=\"T_84260_row0_col3\" class=\"data row0 col3\" >24.90</td>\n",
       "      <td id=\"T_84260_row0_col4\" class=\"data row0 col4\" >1</td>\n",
       "      <td id=\"T_84260_row0_col5\" class=\"data row0 col5\" >0.0000</td>\n",
       "      <td id=\"T_84260_row0_col6\" class=\"data row0 col6\" >4</td>\n",
       "      <td id=\"T_84260_row0_col7\" class=\"data row0 col7\" >A2</td>\n",
       "    </tr>\n",
       "  </tbody>\n",
       "</table>\n"
      ],
      "text/plain": [
       "<pandas.io.formats.style.Styler at 0x26b126a0a00>"
      ]
     },
     "execution_count": 16,
     "metadata": {},
     "output_type": "execute_result"
    }
   ],
   "source": [
    "sql = \"\"\"\n",
    "SELECT * \n",
    "FROM buy \n",
    "WHERE name = '%s'\n",
    "\"\"\"\n",
    "sql = sql % name\n",
    "print(sql)\n",
    "\n",
    "buy = pd.read_sql(sql, const)\n",
    "buy.drop(['volsell', 'volbal'], axis=1, inplace=True)\n",
    "buy.rename(columns={'volbuy':'shares'},inplace=True)\n",
    "buy['shares'] = buy['shares'].astype('int64')\n",
    "buy.style.format(format_dict)"
   ]
  },
  {
   "cell_type": "markdown",
   "metadata": {},
   "source": [
    "### End of Update buy table in MySQL database from buy transaction"
   ]
  },
  {
   "cell_type": "markdown",
   "metadata": {},
   "source": [
    "### Begin of Update dividend table in MySQL stock database from buy transaction"
   ]
  },
  {
   "cell_type": "code",
   "execution_count": 33,
   "metadata": {},
   "outputs": [
    {
     "name": "stdout",
     "output_type": "stream",
     "text": [
      "\n",
      "SELECT * \n",
      "FROM dividend \n",
      "WHERE name = 'MCS' \n",
      "\n"
     ]
    },
    {
     "data": {
      "text/html": [
       "<style type=\"text/css\">\n",
       "</style>\n",
       "<table id=\"T_d22c4\">\n",
       "  <thead>\n",
       "    <tr>\n",
       "      <th class=\"blank level0\" >&nbsp;</th>\n",
       "      <th id=\"T_d22c4_level0_col0\" class=\"col_heading level0 col0\" >name</th>\n",
       "      <th id=\"T_d22c4_level0_col1\" class=\"col_heading level0 col1\" >q4</th>\n",
       "      <th id=\"T_d22c4_level0_col2\" class=\"col_heading level0 col2\" >q3</th>\n",
       "      <th id=\"T_d22c4_level0_col3\" class=\"col_heading level0 col3\" >q2</th>\n",
       "      <th id=\"T_d22c4_level0_col4\" class=\"col_heading level0 col4\" >q1</th>\n",
       "      <th id=\"T_d22c4_level0_col5\" class=\"col_heading level0 col5\" >dividend</th>\n",
       "      <th id=\"T_d22c4_level0_col6\" class=\"col_heading level0 col6\" >shares</th>\n",
       "      <th id=\"T_d22c4_level0_col7\" class=\"col_heading level0 col7\" >xdate</th>\n",
       "      <th id=\"T_d22c4_level0_col8\" class=\"col_heading level0 col8\" >paiddate</th>\n",
       "      <th id=\"T_d22c4_level0_col9\" class=\"col_heading level0 col9\" >kind</th>\n",
       "      <th id=\"T_d22c4_level0_col10\" class=\"col_heading level0 col10\" >actual</th>\n",
       "    </tr>\n",
       "  </thead>\n",
       "  <tbody>\n",
       "    <tr>\n",
       "      <th id=\"T_d22c4_level0_row0\" class=\"row_heading level0 row0\" >0</th>\n",
       "      <td id=\"T_d22c4_row0_col0\" class=\"data row0 col0\" >MCS</td>\n",
       "      <td id=\"T_d22c4_row0_col1\" class=\"data row0 col1\" >0.5000</td>\n",
       "      <td id=\"T_d22c4_row0_col2\" class=\"data row0 col2\" >0.0000</td>\n",
       "      <td id=\"T_d22c4_row0_col3\" class=\"data row0 col3\" >0.2000</td>\n",
       "      <td id=\"T_d22c4_row0_col4\" class=\"data row0 col4\" >0.0000</td>\n",
       "      <td id=\"T_d22c4_row0_col5\" class=\"data row0 col5\" >0.7000</td>\n",
       "      <td id=\"T_d22c4_row0_col6\" class=\"data row0 col6\" >75,000</td>\n",
       "      <td id=\"T_d22c4_row0_col7\" class=\"data row0 col7\" >2025-04-18</td>\n",
       "      <td id=\"T_d22c4_row0_col8\" class=\"data row0 col8\" >2025-05-07</td>\n",
       "      <td id=\"T_d22c4_row0_col9\" class=\"data row0 col9\" ></td>\n",
       "      <td id=\"T_d22c4_row0_col10\" class=\"data row0 col10\" >1</td>\n",
       "    </tr>\n",
       "  </tbody>\n",
       "</table>\n"
      ],
      "text/plain": [
       "<pandas.io.formats.style.Styler at 0x25601c2a4e0>"
      ]
     },
     "execution_count": 33,
     "metadata": {},
     "output_type": "execute_result"
    }
   ],
   "source": [
    "sql = \"\"\"\n",
    "SELECT * \n",
    "FROM dividend \n",
    "WHERE name = '%s' \n",
    "\"\"\"\n",
    "sql = sql % name\n",
    "print(sql)\n",
    "\n",
    "dividend = pd.read_sql(sql, const)\n",
    "dividend.drop(['PRICE', 'PERCENT'], axis=1, inplace=True)\n",
    "dividend.columns = dividend.columns.str.lower()\n",
    "dividend['shares'] = dividend['shares'].astype('int64')\n",
    "dividend['xdate'] = pd.to_datetime(dividend['xdate'])\n",
    "dividend['paiddate'] = pd.to_datetime(dividend['paiddate'])\n",
    "dividend.style.format(format_dict)"
   ]
  },
  {
   "cell_type": "code",
   "execution_count": 35,
   "metadata": {},
   "outputs": [
    {
     "name": "stdout",
     "output_type": "stream",
     "text": [
      "81000\n"
     ]
    }
   ],
   "source": [
    "new_qty = dividend['shares'].iloc[0] + qty\n",
    "print(new_qty)"
   ]
  },
  {
   "cell_type": "code",
   "execution_count": 37,
   "metadata": {},
   "outputs": [],
   "source": [
    "def update_dividend(const, name, new_qty):\n",
    "    # Extract scalar values from Pandas Series\n",
    "    new_qty_value = new_qty  \n",
    "    # Use parameterized query to avoid SQL injection\n",
    "    sqlUpd = text(\"\"\"\n",
    "        UPDATE dividend\n",
    "        SET shares = :new_qty\n",
    "        WHERE name = :name\n",
    "    \"\"\")\n",
    "    \n",
    "    # Execute the query with parameters\n",
    "    rp = const.execute(sqlUpd, {\n",
    "        'new_qty': new_qty_value,  # Use the scalar value\n",
    "        'name': name\n",
    "    })\n",
    "\n",
    "    return f\"Records updated = {rp.rowcount}\""
   ]
  },
  {
   "cell_type": "code",
   "execution_count": 39,
   "metadata": {},
   "outputs": [
    {
     "data": {
      "text/plain": [
       "'Records updated = 1'"
      ]
     },
     "execution_count": 39,
     "metadata": {},
     "output_type": "execute_result"
    }
   ],
   "source": [
    "update_dividend(const, name, new_qty)"
   ]
  },
  {
   "cell_type": "code",
   "execution_count": 41,
   "metadata": {},
   "outputs": [
    {
     "name": "stdout",
     "output_type": "stream",
     "text": [
      "\n",
      "SELECT * \n",
      "FROM dividend \n",
      "WHERE name = 'MCS' \n",
      "\n"
     ]
    },
    {
     "data": {
      "text/html": [
       "<style type=\"text/css\">\n",
       "</style>\n",
       "<table id=\"T_dc263\">\n",
       "  <thead>\n",
       "    <tr>\n",
       "      <th class=\"blank level0\" >&nbsp;</th>\n",
       "      <th id=\"T_dc263_level0_col0\" class=\"col_heading level0 col0\" >name</th>\n",
       "      <th id=\"T_dc263_level0_col1\" class=\"col_heading level0 col1\" >q4</th>\n",
       "      <th id=\"T_dc263_level0_col2\" class=\"col_heading level0 col2\" >q3</th>\n",
       "      <th id=\"T_dc263_level0_col3\" class=\"col_heading level0 col3\" >q2</th>\n",
       "      <th id=\"T_dc263_level0_col4\" class=\"col_heading level0 col4\" >q1</th>\n",
       "      <th id=\"T_dc263_level0_col5\" class=\"col_heading level0 col5\" >dividend</th>\n",
       "      <th id=\"T_dc263_level0_col6\" class=\"col_heading level0 col6\" >shares</th>\n",
       "      <th id=\"T_dc263_level0_col7\" class=\"col_heading level0 col7\" >xdate</th>\n",
       "      <th id=\"T_dc263_level0_col8\" class=\"col_heading level0 col8\" >paiddate</th>\n",
       "      <th id=\"T_dc263_level0_col9\" class=\"col_heading level0 col9\" >kind</th>\n",
       "      <th id=\"T_dc263_level0_col10\" class=\"col_heading level0 col10\" >actual</th>\n",
       "    </tr>\n",
       "  </thead>\n",
       "  <tbody>\n",
       "    <tr>\n",
       "      <th id=\"T_dc263_level0_row0\" class=\"row_heading level0 row0\" >0</th>\n",
       "      <td id=\"T_dc263_row0_col0\" class=\"data row0 col0\" >MCS</td>\n",
       "      <td id=\"T_dc263_row0_col1\" class=\"data row0 col1\" >0.5000</td>\n",
       "      <td id=\"T_dc263_row0_col2\" class=\"data row0 col2\" >0.0000</td>\n",
       "      <td id=\"T_dc263_row0_col3\" class=\"data row0 col3\" >0.2000</td>\n",
       "      <td id=\"T_dc263_row0_col4\" class=\"data row0 col4\" >0.0000</td>\n",
       "      <td id=\"T_dc263_row0_col5\" class=\"data row0 col5\" >0.7000</td>\n",
       "      <td id=\"T_dc263_row0_col6\" class=\"data row0 col6\" >81,000</td>\n",
       "      <td id=\"T_dc263_row0_col7\" class=\"data row0 col7\" >2025-04-18</td>\n",
       "      <td id=\"T_dc263_row0_col8\" class=\"data row0 col8\" >2025-05-07</td>\n",
       "      <td id=\"T_dc263_row0_col9\" class=\"data row0 col9\" ></td>\n",
       "      <td id=\"T_dc263_row0_col10\" class=\"data row0 col10\" >1</td>\n",
       "    </tr>\n",
       "  </tbody>\n",
       "</table>\n"
      ],
      "text/plain": [
       "<pandas.io.formats.style.Styler at 0x25601d1da30>"
      ]
     },
     "execution_count": 41,
     "metadata": {},
     "output_type": "execute_result"
    }
   ],
   "source": [
    "sql = \"\"\"\n",
    "SELECT * \n",
    "FROM dividend \n",
    "WHERE name = '%s' \n",
    "\"\"\"\n",
    "sql = sql % name\n",
    "print(sql)\n",
    "\n",
    "dividend = pd.read_sql(sql, const)\n",
    "dividend.drop(['PRICE', 'PERCENT'], axis=1, inplace=True)\n",
    "dividend.columns = dividend.columns.str.lower()\n",
    "dividend['shares'] = dividend['shares'].astype('int64')\n",
    "dividend['xdate'] = pd.to_datetime(dividend['xdate'])\n",
    "dividend['paiddate'] = pd.to_datetime(dividend['paiddate'])\n",
    "dividend.style.format(format_dict)"
   ]
  },
  {
   "cell_type": "markdown",
   "metadata": {},
   "source": [
    "### In case of totally new stock"
   ]
  },
  {
   "cell_type": "code",
   "execution_count": 15,
   "metadata": {},
   "outputs": [
    {
     "data": {
      "text/plain": [
       "['TOA', 0.25, 0, 0.33, 0, 0.58, 1000, '2023-08-30', '2023-09-14', '', 1]"
      ]
     },
     "execution_count": 15,
     "metadata": {},
     "output_type": "execute_result"
    }
   ],
   "source": [
    "rcd = ['TVO', 0.25, 0, 0.33, 0, 0.58, 1000, '2023-08-30', '2023-09-14', '', 1]\n",
    "rcd"
   ]
  },
  {
   "cell_type": "code",
   "execution_count": 15,
   "metadata": {},
   "outputs": [
    {
     "name": "stdout",
     "output_type": "stream",
     "text": [
      "\n",
      "INSERT INTO dividend (name, q4, q3, q2, q1, dividend, shares, xdate, paiddate, kind, actual)\n",
      "VALUES (%s, %s, %s, %s, %s, %s, %s, %s, %s, %s, %s)\n",
      "\n"
     ]
    }
   ],
   "source": [
    "sqlIns = \"\"\"\n",
    "INSERT INTO dividend (name, q4, q3, q2, q1, dividend, shares, xdate, paiddate, kind, actual)\n",
    "VALUES (%s, %s, %s, %s, %s, %s, %s, %s, %s, %s, %s)\n",
    "\"\"\"\n",
    "print(sqlIns)"
   ]
  },
  {
   "cell_type": "code",
   "execution_count": 16,
   "metadata": {},
   "outputs": [
    {
     "data": {
      "text/plain": [
       "1"
      ]
     },
     "execution_count": 16,
     "metadata": {},
     "output_type": "execute_result"
    }
   ],
   "source": [
    "rp = const.execute(sqlIns, rcd)\n",
    "rp.rowcount"
   ]
  },
  {
   "cell_type": "code",
   "execution_count": 17,
   "metadata": {},
   "outputs": [
    {
     "name": "stdout",
     "output_type": "stream",
     "text": [
      "\n",
      "SELECT * \n",
      "FROM dividend \n",
      "WHERE name = 'TOA' \n",
      "\n"
     ]
    },
    {
     "data": {
      "text/html": [
       "<style type=\"text/css\">\n",
       "</style>\n",
       "<table id=\"T_11606_\">\n",
       "  <thead>\n",
       "    <tr>\n",
       "      <th class=\"blank level0\" >&nbsp;</th>\n",
       "      <th class=\"col_heading level0 col0\" >name</th>\n",
       "      <th class=\"col_heading level0 col1\" >q4</th>\n",
       "      <th class=\"col_heading level0 col2\" >q3</th>\n",
       "      <th class=\"col_heading level0 col3\" >q2</th>\n",
       "      <th class=\"col_heading level0 col4\" >q1</th>\n",
       "      <th class=\"col_heading level0 col5\" >dividend</th>\n",
       "      <th class=\"col_heading level0 col6\" >shares</th>\n",
       "      <th class=\"col_heading level0 col7\" >xdate</th>\n",
       "      <th class=\"col_heading level0 col8\" >paiddate</th>\n",
       "      <th class=\"col_heading level0 col9\" >kind</th>\n",
       "      <th class=\"col_heading level0 col10\" >actual</th>\n",
       "    </tr>\n",
       "  </thead>\n",
       "  <tbody>\n",
       "    <tr>\n",
       "      <th id=\"T_11606_level0_row0\" class=\"row_heading level0 row0\" >0</th>\n",
       "      <td id=\"T_11606_row0_col0\" class=\"data row0 col0\" >TOA</td>\n",
       "      <td id=\"T_11606_row0_col1\" class=\"data row0 col1\" >0.2500</td>\n",
       "      <td id=\"T_11606_row0_col2\" class=\"data row0 col2\" >0.0000</td>\n",
       "      <td id=\"T_11606_row0_col3\" class=\"data row0 col3\" >0.3300</td>\n",
       "      <td id=\"T_11606_row0_col4\" class=\"data row0 col4\" >0.0000</td>\n",
       "      <td id=\"T_11606_row0_col5\" class=\"data row0 col5\" >0.5800</td>\n",
       "      <td id=\"T_11606_row0_col6\" class=\"data row0 col6\" >1,000</td>\n",
       "      <td id=\"T_11606_row0_col7\" class=\"data row0 col7\" >2023-08-30</td>\n",
       "      <td id=\"T_11606_row0_col8\" class=\"data row0 col8\" >2023-09-14</td>\n",
       "      <td id=\"T_11606_row0_col9\" class=\"data row0 col9\" ></td>\n",
       "      <td id=\"T_11606_row0_col10\" class=\"data row0 col10\" >1</td>\n",
       "    </tr>\n",
       "  </tbody>\n",
       "</table>\n"
      ],
      "text/plain": [
       "<pandas.io.formats.style.Styler at 0x1880f06adf0>"
      ]
     },
     "execution_count": 17,
     "metadata": {},
     "output_type": "execute_result"
    }
   ],
   "source": [
    "sql = \"\"\"\n",
    "SELECT * \n",
    "FROM dividend \n",
    "WHERE name = '%s' \n",
    "\"\"\"\n",
    "sql = sql % name\n",
    "print(sql)\n",
    "\n",
    "dividend = pd.read_sql(sql, const)\n",
    "dividend.drop(['PRICE', 'PERCENT'], axis=1, inplace=True)\n",
    "dividend.columns = dividend.columns.str.lower()\n",
    "dividend['shares'] = dividend['shares'].astype('int64')\n",
    "dividend['xdate'] = pd.to_datetime(dividend['xdate'])\n",
    "dividend['paiddate'] = pd.to_datetime(dividend['paiddate'])\n",
    "dividend.style.format(format_dict)"
   ]
  },
  {
   "cell_type": "markdown",
   "metadata": {},
   "source": [
    "### End of Create dividend table in MySQL stock database from buy transaction"
   ]
  },
  {
   "cell_type": "markdown",
   "metadata": {},
   "source": [
    "### Begin of Update stocks table in SQLite port_lite database from buy transaction"
   ]
  },
  {
   "cell_type": "code",
   "execution_count": 43,
   "metadata": {
    "scrolled": true
   },
   "outputs": [
    {
     "name": "stdout",
     "output_type": "stream",
     "text": [
      "\n",
      "SELECT * \n",
      "FROM stocks \n",
      "WHERE name = 'MCS'\n",
      "\n"
     ]
    },
    {
     "data": {
      "text/html": [
       "<div>\n",
       "<style scoped>\n",
       "    .dataframe tbody tr th:only-of-type {\n",
       "        vertical-align: middle;\n",
       "    }\n",
       "\n",
       "    .dataframe tbody tr th {\n",
       "        vertical-align: top;\n",
       "    }\n",
       "\n",
       "    .dataframe thead th {\n",
       "        text-align: right;\n",
       "    }\n",
       "</style>\n",
       "<table border=\"1\" class=\"dataframe\">\n",
       "  <thead>\n",
       "    <tr style=\"text-align: right;\">\n",
       "      <th></th>\n",
       "      <th>id</th>\n",
       "      <th>name</th>\n",
       "      <th>max_price</th>\n",
       "      <th>min_price</th>\n",
       "      <th>status</th>\n",
       "      <th>buy_target</th>\n",
       "      <th>sell_target</th>\n",
       "      <th>volume</th>\n",
       "      <th>beta</th>\n",
       "      <th>cost</th>\n",
       "      <th>qty</th>\n",
       "      <th>buy_spread</th>\n",
       "      <th>sell_spread</th>\n",
       "      <th>available_qty</th>\n",
       "      <th>bl</th>\n",
       "      <th>sh</th>\n",
       "      <th>reason</th>\n",
       "      <th>market</th>\n",
       "    </tr>\n",
       "  </thead>\n",
       "  <tbody>\n",
       "    <tr>\n",
       "      <th>0</th>\n",
       "      <td>114</td>\n",
       "      <td>MCS</td>\n",
       "      <td>0.0</td>\n",
       "      <td>0.0</td>\n",
       "      <td>B</td>\n",
       "      <td>5.8</td>\n",
       "      <td>12.9</td>\n",
       "      <td>0.0</td>\n",
       "      <td>0.0</td>\n",
       "      <td>15.4</td>\n",
       "      <td>5000</td>\n",
       "      <td>-4</td>\n",
       "      <td>4</td>\n",
       "      <td>75000</td>\n",
       "      <td>0.0</td>\n",
       "      <td>0.0</td>\n",
       "      <td>RD60Pct</td>\n",
       "      <td>SET</td>\n",
       "    </tr>\n",
       "  </tbody>\n",
       "</table>\n",
       "</div>"
      ],
      "text/plain": [
       "    id name  max_price  min_price status  buy_target  sell_target  volume  \\\n",
       "0  114  MCS        0.0        0.0      B         5.8         12.9     0.0   \n",
       "\n",
       "   beta  cost   qty  buy_spread  sell_spread  available_qty   bl   sh  \\\n",
       "0   0.0  15.4  5000          -4            4          75000  0.0  0.0   \n",
       "\n",
       "    reason market  \n",
       "0  RD60Pct    SET  "
      ]
     },
     "execution_count": 43,
     "metadata": {},
     "output_type": "execute_result"
    }
   ],
   "source": [
    "sql = \"\"\"\n",
    "SELECT * \n",
    "FROM stocks \n",
    "WHERE name = '%s'\n",
    "\"\"\"\n",
    "sql = sql % name\n",
    "print(sql)\n",
    "\n",
    "stock = pd.read_sql(sql, conlite)\n",
    "stock"
   ]
  },
  {
   "cell_type": "code",
   "execution_count": 47,
   "metadata": {},
   "outputs": [
    {
     "name": "stdout",
     "output_type": "stream",
     "text": [
      "B MCS 6000 7.3 6.3 14.8 4000\n"
     ]
    }
   ],
   "source": [
    "#\n",
    "new_buy_target = 6.3\n",
    "new_sell_target = 14.80\n",
    "new_buy_qty = 4_000\n",
    "print(transaction, name, qty, buy_price, new_buy_target, new_sell_target, new_buy_qty) "
   ]
  },
  {
   "cell_type": "code",
   "execution_count": 51,
   "metadata": {},
   "outputs": [
    {
     "name": "stdout",
     "output_type": "stream",
     "text": [
      "81000\n"
     ]
    }
   ],
   "source": [
    "print(new_qty)"
   ]
  },
  {
   "cell_type": "code",
   "execution_count": 55,
   "metadata": {},
   "outputs": [
    {
     "name": "stdout",
     "output_type": "stream",
     "text": [
      "14.8\n"
     ]
    }
   ],
   "source": [
    "print(new_unit_cost)"
   ]
  },
  {
   "cell_type": "code",
   "execution_count": 57,
   "metadata": {},
   "outputs": [],
   "source": [
    "def update_stock(conlite, name, new_qty, new_unit_cost, new_buy_target, new_sell_target, new_buy_qty):\n",
    "    # Extract scalar values from Pandas Series\n",
    "    new_qty_value = int(new_qty)\n",
    "    new_unit_cost_value = float(new_unit_cost)   \n",
    "    # Use parameterized query to avoid SQL injection\n",
    "    sqlUpd = text(\"\"\"\n",
    "        UPDATE stocks\n",
    "        SET available_qty = :new_qty, \n",
    "            cost = :new_unit_cost,\n",
    "            buy_target = :new_buy_target,\n",
    "            sell_target = :new_sell_target,    \n",
    "            qty = :new_buy_qty\n",
    "        WHERE name = :name\n",
    "    \"\"\")    \n",
    "    # Execute the query with parameters\n",
    "    rp = conlite.execute(sqlUpd, {\n",
    "        'new_qty': new_qty_value,  # Use the scalar value\n",
    "        'new_unit_cost': new_unit_cost_value, # Use the scalar value \n",
    "        'new_buy_target': new_buy_target,\n",
    "        'new_sell_target': new_sell_target,     \n",
    "        'new_buy_qty': new_buy_qty,\n",
    "        'name': name\n",
    "    })\n",
    "    return f\"Records updated = {rp.rowcount}\""
   ]
  },
  {
   "cell_type": "code",
   "execution_count": 59,
   "metadata": {},
   "outputs": [
    {
     "data": {
      "text/plain": [
       "'Records updated = 1'"
      ]
     },
     "execution_count": 59,
     "metadata": {},
     "output_type": "execute_result"
    }
   ],
   "source": [
    "# Example usage\n",
    "update_stock(conlite, name, new_qty, new_unit_cost, new_buy_target, new_sell_target, new_buy_qty)"
   ]
  },
  {
   "cell_type": "code",
   "execution_count": 61,
   "metadata": {},
   "outputs": [
    {
     "name": "stdout",
     "output_type": "stream",
     "text": [
      "\n",
      "SELECT * \n",
      "FROM stocks \n",
      "WHERE name = 'MCS'\n",
      "\n"
     ]
    },
    {
     "data": {
      "text/html": [
       "<div>\n",
       "<style scoped>\n",
       "    .dataframe tbody tr th:only-of-type {\n",
       "        vertical-align: middle;\n",
       "    }\n",
       "\n",
       "    .dataframe tbody tr th {\n",
       "        vertical-align: top;\n",
       "    }\n",
       "\n",
       "    .dataframe thead th {\n",
       "        text-align: right;\n",
       "    }\n",
       "</style>\n",
       "<table border=\"1\" class=\"dataframe\">\n",
       "  <thead>\n",
       "    <tr style=\"text-align: right;\">\n",
       "      <th></th>\n",
       "      <th>id</th>\n",
       "      <th>name</th>\n",
       "      <th>max_price</th>\n",
       "      <th>min_price</th>\n",
       "      <th>status</th>\n",
       "      <th>buy_target</th>\n",
       "      <th>sell_target</th>\n",
       "      <th>volume</th>\n",
       "      <th>beta</th>\n",
       "      <th>cost</th>\n",
       "      <th>qty</th>\n",
       "      <th>buy_spread</th>\n",
       "      <th>sell_spread</th>\n",
       "      <th>available_qty</th>\n",
       "      <th>bl</th>\n",
       "      <th>sh</th>\n",
       "      <th>reason</th>\n",
       "      <th>market</th>\n",
       "    </tr>\n",
       "  </thead>\n",
       "  <tbody>\n",
       "    <tr>\n",
       "      <th>0</th>\n",
       "      <td>114</td>\n",
       "      <td>MCS</td>\n",
       "      <td>0.0</td>\n",
       "      <td>0.0</td>\n",
       "      <td>B</td>\n",
       "      <td>6.3</td>\n",
       "      <td>14.8</td>\n",
       "      <td>0.0</td>\n",
       "      <td>0.0</td>\n",
       "      <td>14.8</td>\n",
       "      <td>4000</td>\n",
       "      <td>-4</td>\n",
       "      <td>4</td>\n",
       "      <td>81000</td>\n",
       "      <td>0.0</td>\n",
       "      <td>0.0</td>\n",
       "      <td>RD60Pct</td>\n",
       "      <td>SET</td>\n",
       "    </tr>\n",
       "  </tbody>\n",
       "</table>\n",
       "</div>"
      ],
      "text/plain": [
       "    id name  max_price  min_price status  buy_target  sell_target  volume  \\\n",
       "0  114  MCS        0.0        0.0      B         6.3         14.8     0.0   \n",
       "\n",
       "   beta  cost   qty  buy_spread  sell_spread  available_qty   bl   sh  \\\n",
       "0   0.0  14.8  4000          -4            4          81000  0.0  0.0   \n",
       "\n",
       "    reason market  \n",
       "0  RD60Pct    SET  "
      ]
     },
     "execution_count": 61,
     "metadata": {},
     "output_type": "execute_result"
    }
   ],
   "source": [
    "sql = \"\"\"\n",
    "SELECT * \n",
    "FROM stocks \n",
    "WHERE name = '%s'\n",
    "\"\"\"\n",
    "sql = sql % name\n",
    "print(sql)\n",
    "\n",
    "stock = pd.read_sql(sql, conlite)\n",
    "stock"
   ]
  },
  {
   "cell_type": "markdown",
   "metadata": {},
   "source": [
    "### End of Update stocks table in SQLite port_lite database from buy transaction"
   ]
  },
  {
   "cell_type": "markdown",
   "metadata": {},
   "source": [
    "## End of  Buy process"
   ]
  },
  {
   "cell_type": "markdown",
   "metadata": {},
   "source": [
    "### ================================================="
   ]
  },
  {
   "cell_type": "code",
   "execution_count": 79,
   "metadata": {},
   "outputs": [
    {
     "name": "stdout",
     "output_type": "stream",
     "text": [
      "SELECT period, buy.grade AS grade, buy.name AS name, buy.date AS date, FORMAT(volbuy,0) AS volbuy, FORMAT(buy.price,2) AS buy_price, price.price AS mkt_price,FORMAT((volbuy * buy.price),2) AS amtbuy, FORMAT((volbuy * price.price),2) AS amtmkt, FORMAT(((price.price - buy.price) * volbuy),2) AS amtpol, FORMAT((((price.price - buy.price)*volbuy)/(volbuy*buy.price)*100),2) AS pctpol FROM buy INNER JOIN price ON buy.name = price.name WHERE price.date = '2025-02-28' ORDER BY period, buy.name\n"
     ]
    }
   ],
   "source": [
    "#price_date = '2025-02-14'\n",
    "sql = \"SELECT period, buy.grade AS grade, buy.name AS name, buy.date AS date, \\\n",
    "FORMAT(volbuy,0) AS volbuy, FORMAT(buy.price,2) AS buy_price, price.price AS mkt_price,\\\n",
    "FORMAT((volbuy * buy.price),2) AS amtbuy, FORMAT((volbuy * price.price),2) AS amtmkt, \\\n",
    "FORMAT(((price.price - buy.price) * volbuy),2) AS amtpol, \\\n",
    "FORMAT((((price.price - buy.price)*volbuy)/(volbuy*buy.price)*100),2) AS pctpol \\\n",
    "FROM buy INNER JOIN price ON buy.name = price.name WHERE price.date = '%s' \\\n",
    "ORDER BY period, buy.name\"\n",
    "sql = sql % (yesterday)\n",
    "print(sql)"
   ]
  },
  {
   "cell_type": "code",
   "execution_count": 81,
   "metadata": {
    "scrolled": true
   },
   "outputs": [
    {
     "data": {
      "text/html": [
       "<div>\n",
       "<style scoped>\n",
       "    .dataframe tbody tr th:only-of-type {\n",
       "        vertical-align: middle;\n",
       "    }\n",
       "\n",
       "    .dataframe tbody tr th {\n",
       "        vertical-align: top;\n",
       "    }\n",
       "\n",
       "    .dataframe thead th {\n",
       "        text-align: right;\n",
       "    }\n",
       "</style>\n",
       "<table border=\"1\" class=\"dataframe\">\n",
       "  <thead>\n",
       "    <tr style=\"text-align: right;\">\n",
       "      <th></th>\n",
       "      <th>period</th>\n",
       "      <th>grade</th>\n",
       "      <th>name</th>\n",
       "      <th>date</th>\n",
       "      <th>volbuy</th>\n",
       "      <th>buy_price</th>\n",
       "      <th>mkt_price</th>\n",
       "      <th>amtbuy</th>\n",
       "      <th>amtmkt</th>\n",
       "      <th>amtpol</th>\n",
       "      <th>pctpol</th>\n",
       "    </tr>\n",
       "  </thead>\n",
       "  <tbody>\n",
       "    <tr>\n",
       "      <th>0</th>\n",
       "      <td>1</td>\n",
       "      <td>C1</td>\n",
       "      <td>AH</td>\n",
       "      <td>2023-06-08</td>\n",
       "      <td>1,200</td>\n",
       "      <td>37.00</td>\n",
       "      <td>13.50</td>\n",
       "      <td>44,400.00</td>\n",
       "      <td>16,200.00</td>\n",
       "      <td>-28,200.00</td>\n",
       "      <td>-63.51</td>\n",
       "    </tr>\n",
       "    <tr>\n",
       "      <th>1</th>\n",
       "      <td>1</td>\n",
       "      <td>C1</td>\n",
       "      <td>ASP</td>\n",
       "      <td>2022-03-07</td>\n",
       "      <td>30,000</td>\n",
       "      <td>3.80</td>\n",
       "      <td>2.24</td>\n",
       "      <td>114,000.00</td>\n",
       "      <td>67,200.00</td>\n",
       "      <td>-46,800.00</td>\n",
       "      <td>-41.05</td>\n",
       "    </tr>\n",
       "    <tr>\n",
       "      <th>2</th>\n",
       "      <td>1</td>\n",
       "      <td>C3</td>\n",
       "      <td>IVL</td>\n",
       "      <td>2022-08-29</td>\n",
       "      <td>7,200</td>\n",
       "      <td>40.00</td>\n",
       "      <td>19.10</td>\n",
       "      <td>288,000.00</td>\n",
       "      <td>137,520.00</td>\n",
       "      <td>-150,480.00</td>\n",
       "      <td>-52.25</td>\n",
       "    </tr>\n",
       "    <tr>\n",
       "      <th>3</th>\n",
       "      <td>1</td>\n",
       "      <td>C3</td>\n",
       "      <td>ORI</td>\n",
       "      <td>2022-04-07</td>\n",
       "      <td>50,000</td>\n",
       "      <td>10.40</td>\n",
       "      <td>2.96</td>\n",
       "      <td>520,000.00</td>\n",
       "      <td>148,000.00</td>\n",
       "      <td>-372,000.00</td>\n",
       "      <td>-71.54</td>\n",
       "    </tr>\n",
       "    <tr>\n",
       "      <th>4</th>\n",
       "      <td>1</td>\n",
       "      <td>C4</td>\n",
       "      <td>PTTGC</td>\n",
       "      <td>2021-03-17</td>\n",
       "      <td>6,000</td>\n",
       "      <td>64.75</td>\n",
       "      <td>15.90</td>\n",
       "      <td>388,500.00</td>\n",
       "      <td>95,400.00</td>\n",
       "      <td>-293,100.00</td>\n",
       "      <td>-75.44</td>\n",
       "    </tr>\n",
       "    <tr>\n",
       "      <th>5</th>\n",
       "      <td>1</td>\n",
       "      <td>C2</td>\n",
       "      <td>SCC</td>\n",
       "      <td>2021-09-20</td>\n",
       "      <td>600</td>\n",
       "      <td>405.00</td>\n",
       "      <td>127.50</td>\n",
       "      <td>243,000.00</td>\n",
       "      <td>76,500.00</td>\n",
       "      <td>-166,500.00</td>\n",
       "      <td>-68.52</td>\n",
       "    </tr>\n",
       "    <tr>\n",
       "      <th>6</th>\n",
       "      <td>1</td>\n",
       "      <td>A2</td>\n",
       "      <td>SINGER</td>\n",
       "      <td>2023-01-19</td>\n",
       "      <td>6,000</td>\n",
       "      <td>24.80</td>\n",
       "      <td>5.40</td>\n",
       "      <td>148,800.00</td>\n",
       "      <td>32,400.00</td>\n",
       "      <td>-116,400.00</td>\n",
       "      <td>-78.23</td>\n",
       "    </tr>\n",
       "    <tr>\n",
       "      <th>7</th>\n",
       "      <td>1</td>\n",
       "      <td>C2</td>\n",
       "      <td>STA</td>\n",
       "      <td>2021-06-15</td>\n",
       "      <td>10,000</td>\n",
       "      <td>30.00</td>\n",
       "      <td>15.80</td>\n",
       "      <td>300,000.00</td>\n",
       "      <td>158,000.00</td>\n",
       "      <td>-142,000.00</td>\n",
       "      <td>-47.33</td>\n",
       "    </tr>\n",
       "    <tr>\n",
       "      <th>8</th>\n",
       "      <td>1</td>\n",
       "      <td>C1</td>\n",
       "      <td>TOA</td>\n",
       "      <td>2023-09-06</td>\n",
       "      <td>1,000</td>\n",
       "      <td>26.00</td>\n",
       "      <td>11.40</td>\n",
       "      <td>26,000.00</td>\n",
       "      <td>11,400.00</td>\n",
       "      <td>-14,600.00</td>\n",
       "      <td>-56.15</td>\n",
       "    </tr>\n",
       "    <tr>\n",
       "      <th>9</th>\n",
       "      <td>2</td>\n",
       "      <td>A2</td>\n",
       "      <td>AIMIRT</td>\n",
       "      <td>2023-08-17</td>\n",
       "      <td>12,500</td>\n",
       "      <td>10.90</td>\n",
       "      <td>10.60</td>\n",
       "      <td>136,250.00</td>\n",
       "      <td>132,500.00</td>\n",
       "      <td>-3,750.00</td>\n",
       "      <td>-2.75</td>\n",
       "    </tr>\n",
       "    <tr>\n",
       "      <th>10</th>\n",
       "      <td>2</td>\n",
       "      <td>C1</td>\n",
       "      <td>CPNREIT</td>\n",
       "      <td>2022-08-16</td>\n",
       "      <td>55,000</td>\n",
       "      <td>18.00</td>\n",
       "      <td>11.70</td>\n",
       "      <td>990,000.00</td>\n",
       "      <td>643,500.00</td>\n",
       "      <td>-346,500.00</td>\n",
       "      <td>-35.00</td>\n",
       "    </tr>\n",
       "    <tr>\n",
       "      <th>11</th>\n",
       "      <td>2</td>\n",
       "      <td>B3</td>\n",
       "      <td>DIF</td>\n",
       "      <td>2020-08-01</td>\n",
       "      <td>35,000</td>\n",
       "      <td>13.90</td>\n",
       "      <td>7.85</td>\n",
       "      <td>486,500.00</td>\n",
       "      <td>274,750.00</td>\n",
       "      <td>-211,750.00</td>\n",
       "      <td>-43.53</td>\n",
       "    </tr>\n",
       "    <tr>\n",
       "      <th>12</th>\n",
       "      <td>2</td>\n",
       "      <td>C1</td>\n",
       "      <td>GVREIT</td>\n",
       "      <td>2022-08-24</td>\n",
       "      <td>75,000</td>\n",
       "      <td>7.64</td>\n",
       "      <td>6.55</td>\n",
       "      <td>573,000.00</td>\n",
       "      <td>491,250.00</td>\n",
       "      <td>-81,750.00</td>\n",
       "      <td>-14.27</td>\n",
       "    </tr>\n",
       "    <tr>\n",
       "      <th>13</th>\n",
       "      <td>2</td>\n",
       "      <td>A3</td>\n",
       "      <td>MCS</td>\n",
       "      <td>2016-09-20</td>\n",
       "      <td>81,000</td>\n",
       "      <td>14.80</td>\n",
       "      <td>7.10</td>\n",
       "      <td>1,198,800.00</td>\n",
       "      <td>575,100.00</td>\n",
       "      <td>-623,700.00</td>\n",
       "      <td>-52.03</td>\n",
       "    </tr>\n",
       "    <tr>\n",
       "      <th>14</th>\n",
       "      <td>2</td>\n",
       "      <td>A2</td>\n",
       "      <td>NER</td>\n",
       "      <td>2021-09-01</td>\n",
       "      <td>27,000</td>\n",
       "      <td>7.45</td>\n",
       "      <td>4.96</td>\n",
       "      <td>201,150.00</td>\n",
       "      <td>133,920.00</td>\n",
       "      <td>-67,230.00</td>\n",
       "      <td>-33.42</td>\n",
       "    </tr>\n",
       "    <tr>\n",
       "      <th>15</th>\n",
       "      <td>2</td>\n",
       "      <td>B4</td>\n",
       "      <td>SENA</td>\n",
       "      <td>2022-03-29</td>\n",
       "      <td>105,000</td>\n",
       "      <td>4.48</td>\n",
       "      <td>2.20</td>\n",
       "      <td>470,400.00</td>\n",
       "      <td>231,000.00</td>\n",
       "      <td>-239,400.00</td>\n",
       "      <td>-50.89</td>\n",
       "    </tr>\n",
       "    <tr>\n",
       "      <th>16</th>\n",
       "      <td>2</td>\n",
       "      <td>A4</td>\n",
       "      <td>TFFIF</td>\n",
       "      <td>2023-07-06</td>\n",
       "      <td>20,000</td>\n",
       "      <td>7.50</td>\n",
       "      <td>6.30</td>\n",
       "      <td>150,000.00</td>\n",
       "      <td>126,000.00</td>\n",
       "      <td>-24,000.00</td>\n",
       "      <td>-16.00</td>\n",
       "    </tr>\n",
       "    <tr>\n",
       "      <th>17</th>\n",
       "      <td>2</td>\n",
       "      <td>C1</td>\n",
       "      <td>WHAIR</td>\n",
       "      <td>2021-10-11</td>\n",
       "      <td>50,000</td>\n",
       "      <td>8.70</td>\n",
       "      <td>5.65</td>\n",
       "      <td>435,000.00</td>\n",
       "      <td>282,500.00</td>\n",
       "      <td>-152,500.00</td>\n",
       "      <td>-35.06</td>\n",
       "    </tr>\n",
       "    <tr>\n",
       "      <th>18</th>\n",
       "      <td>2</td>\n",
       "      <td>C1</td>\n",
       "      <td>WHART</td>\n",
       "      <td>2022-01-05</td>\n",
       "      <td>20,000</td>\n",
       "      <td>12.30</td>\n",
       "      <td>10.20</td>\n",
       "      <td>246,000.00</td>\n",
       "      <td>204,000.00</td>\n",
       "      <td>-42,000.00</td>\n",
       "      <td>-17.07</td>\n",
       "    </tr>\n",
       "    <tr>\n",
       "      <th>19</th>\n",
       "      <td>3</td>\n",
       "      <td>A3</td>\n",
       "      <td>3BBIF</td>\n",
       "      <td>2018-05-17</td>\n",
       "      <td>120,000</td>\n",
       "      <td>10.10</td>\n",
       "      <td>5.35</td>\n",
       "      <td>1,212,000.00</td>\n",
       "      <td>642,000.00</td>\n",
       "      <td>-570,000.00</td>\n",
       "      <td>-47.03</td>\n",
       "    </tr>\n",
       "    <tr>\n",
       "      <th>20</th>\n",
       "      <td>3</td>\n",
       "      <td>A2</td>\n",
       "      <td>JMART</td>\n",
       "      <td>2023-01-20</td>\n",
       "      <td>6,800</td>\n",
       "      <td>33.00</td>\n",
       "      <td>9.45</td>\n",
       "      <td>224,400.00</td>\n",
       "      <td>64,260.00</td>\n",
       "      <td>-160,140.00</td>\n",
       "      <td>-71.36</td>\n",
       "    </tr>\n",
       "    <tr>\n",
       "      <th>21</th>\n",
       "      <td>3</td>\n",
       "      <td>B4</td>\n",
       "      <td>JMT</td>\n",
       "      <td>2023-01-26</td>\n",
       "      <td>4,200</td>\n",
       "      <td>55.50</td>\n",
       "      <td>11.90</td>\n",
       "      <td>233,100.00</td>\n",
       "      <td>49,980.00</td>\n",
       "      <td>-183,120.00</td>\n",
       "      <td>-78.56</td>\n",
       "    </tr>\n",
       "    <tr>\n",
       "      <th>22</th>\n",
       "      <td>3</td>\n",
       "      <td>B2</td>\n",
       "      <td>KCE</td>\n",
       "      <td>2021-10-07</td>\n",
       "      <td>10,000</td>\n",
       "      <td>77.25</td>\n",
       "      <td>18.30</td>\n",
       "      <td>772,500.00</td>\n",
       "      <td>183,000.00</td>\n",
       "      <td>-589,500.00</td>\n",
       "      <td>-76.31</td>\n",
       "    </tr>\n",
       "    <tr>\n",
       "      <th>23</th>\n",
       "      <td>4</td>\n",
       "      <td>B1</td>\n",
       "      <td>AWC</td>\n",
       "      <td>2023-06-15</td>\n",
       "      <td>9,000</td>\n",
       "      <td>4.96</td>\n",
       "      <td>2.92</td>\n",
       "      <td>44,640.00</td>\n",
       "      <td>26,280.00</td>\n",
       "      <td>-18,360.00</td>\n",
       "      <td>-41.13</td>\n",
       "    </tr>\n",
       "    <tr>\n",
       "      <th>24</th>\n",
       "      <td>4</td>\n",
       "      <td>A3</td>\n",
       "      <td>BCH</td>\n",
       "      <td>2021-09-07</td>\n",
       "      <td>4,000</td>\n",
       "      <td>21.70</td>\n",
       "      <td>16.20</td>\n",
       "      <td>86,800.00</td>\n",
       "      <td>64,800.00</td>\n",
       "      <td>-22,000.00</td>\n",
       "      <td>-25.35</td>\n",
       "    </tr>\n",
       "    <tr>\n",
       "      <th>25</th>\n",
       "      <td>4</td>\n",
       "      <td>A4</td>\n",
       "      <td>PTG</td>\n",
       "      <td>2023-07-12</td>\n",
       "      <td>3,600</td>\n",
       "      <td>11.40</td>\n",
       "      <td>7.20</td>\n",
       "      <td>41,040.00</td>\n",
       "      <td>25,920.00</td>\n",
       "      <td>-15,120.00</td>\n",
       "      <td>-36.84</td>\n",
       "    </tr>\n",
       "    <tr>\n",
       "      <th>26</th>\n",
       "      <td>4</td>\n",
       "      <td>A3</td>\n",
       "      <td>RCL</td>\n",
       "      <td>2021-11-08</td>\n",
       "      <td>27,000</td>\n",
       "      <td>38.75</td>\n",
       "      <td>24.40</td>\n",
       "      <td>1,046,250.00</td>\n",
       "      <td>658,800.00</td>\n",
       "      <td>-387,450.00</td>\n",
       "      <td>-37.03</td>\n",
       "    </tr>\n",
       "    <tr>\n",
       "      <th>27</th>\n",
       "      <td>4</td>\n",
       "      <td>A3</td>\n",
       "      <td>SYNEX</td>\n",
       "      <td>2022-01-07</td>\n",
       "      <td>15,000</td>\n",
       "      <td>28.70</td>\n",
       "      <td>10.90</td>\n",
       "      <td>430,500.00</td>\n",
       "      <td>163,500.00</td>\n",
       "      <td>-267,000.00</td>\n",
       "      <td>-62.02</td>\n",
       "    </tr>\n",
       "    <tr>\n",
       "      <th>28</th>\n",
       "      <td>4</td>\n",
       "      <td>A2</td>\n",
       "      <td>TVO</td>\n",
       "      <td>2024-11-06</td>\n",
       "      <td>4,000</td>\n",
       "      <td>24.90</td>\n",
       "      <td>22.40</td>\n",
       "      <td>99,600.00</td>\n",
       "      <td>89,600.00</td>\n",
       "      <td>-10,000.00</td>\n",
       "      <td>-10.04</td>\n",
       "    </tr>\n",
       "  </tbody>\n",
       "</table>\n",
       "</div>"
      ],
      "text/plain": [
       "   period grade     name        date   volbuy buy_price  mkt_price  \\\n",
       "0       1    C1       AH  2023-06-08    1,200     37.00      13.50   \n",
       "1       1    C1      ASP  2022-03-07   30,000      3.80       2.24   \n",
       "2       1    C3      IVL  2022-08-29    7,200     40.00      19.10   \n",
       "3       1    C3      ORI  2022-04-07   50,000     10.40       2.96   \n",
       "4       1    C4    PTTGC  2021-03-17    6,000     64.75      15.90   \n",
       "5       1    C2      SCC  2021-09-20      600    405.00     127.50   \n",
       "6       1    A2   SINGER  2023-01-19    6,000     24.80       5.40   \n",
       "7       1    C2      STA  2021-06-15   10,000     30.00      15.80   \n",
       "8       1    C1      TOA  2023-09-06    1,000     26.00      11.40   \n",
       "9       2    A2   AIMIRT  2023-08-17   12,500     10.90      10.60   \n",
       "10      2    C1  CPNREIT  2022-08-16   55,000     18.00      11.70   \n",
       "11      2    B3      DIF  2020-08-01   35,000     13.90       7.85   \n",
       "12      2    C1   GVREIT  2022-08-24   75,000      7.64       6.55   \n",
       "13      2    A3      MCS  2016-09-20   81,000     14.80       7.10   \n",
       "14      2    A2      NER  2021-09-01   27,000      7.45       4.96   \n",
       "15      2    B4     SENA  2022-03-29  105,000      4.48       2.20   \n",
       "16      2    A4    TFFIF  2023-07-06   20,000      7.50       6.30   \n",
       "17      2    C1    WHAIR  2021-10-11   50,000      8.70       5.65   \n",
       "18      2    C1    WHART  2022-01-05   20,000     12.30      10.20   \n",
       "19      3    A3    3BBIF  2018-05-17  120,000     10.10       5.35   \n",
       "20      3    A2    JMART  2023-01-20    6,800     33.00       9.45   \n",
       "21      3    B4      JMT  2023-01-26    4,200     55.50      11.90   \n",
       "22      3    B2      KCE  2021-10-07   10,000     77.25      18.30   \n",
       "23      4    B1      AWC  2023-06-15    9,000      4.96       2.92   \n",
       "24      4    A3      BCH  2021-09-07    4,000     21.70      16.20   \n",
       "25      4    A4      PTG  2023-07-12    3,600     11.40       7.20   \n",
       "26      4    A3      RCL  2021-11-08   27,000     38.75      24.40   \n",
       "27      4    A3    SYNEX  2022-01-07   15,000     28.70      10.90   \n",
       "28      4    A2      TVO  2024-11-06    4,000     24.90      22.40   \n",
       "\n",
       "          amtbuy      amtmkt       amtpol  pctpol  \n",
       "0      44,400.00   16,200.00   -28,200.00  -63.51  \n",
       "1     114,000.00   67,200.00   -46,800.00  -41.05  \n",
       "2     288,000.00  137,520.00  -150,480.00  -52.25  \n",
       "3     520,000.00  148,000.00  -372,000.00  -71.54  \n",
       "4     388,500.00   95,400.00  -293,100.00  -75.44  \n",
       "5     243,000.00   76,500.00  -166,500.00  -68.52  \n",
       "6     148,800.00   32,400.00  -116,400.00  -78.23  \n",
       "7     300,000.00  158,000.00  -142,000.00  -47.33  \n",
       "8      26,000.00   11,400.00   -14,600.00  -56.15  \n",
       "9     136,250.00  132,500.00    -3,750.00   -2.75  \n",
       "10    990,000.00  643,500.00  -346,500.00  -35.00  \n",
       "11    486,500.00  274,750.00  -211,750.00  -43.53  \n",
       "12    573,000.00  491,250.00   -81,750.00  -14.27  \n",
       "13  1,198,800.00  575,100.00  -623,700.00  -52.03  \n",
       "14    201,150.00  133,920.00   -67,230.00  -33.42  \n",
       "15    470,400.00  231,000.00  -239,400.00  -50.89  \n",
       "16    150,000.00  126,000.00   -24,000.00  -16.00  \n",
       "17    435,000.00  282,500.00  -152,500.00  -35.06  \n",
       "18    246,000.00  204,000.00   -42,000.00  -17.07  \n",
       "19  1,212,000.00  642,000.00  -570,000.00  -47.03  \n",
       "20    224,400.00   64,260.00  -160,140.00  -71.36  \n",
       "21    233,100.00   49,980.00  -183,120.00  -78.56  \n",
       "22    772,500.00  183,000.00  -589,500.00  -76.31  \n",
       "23     44,640.00   26,280.00   -18,360.00  -41.13  \n",
       "24     86,800.00   64,800.00   -22,000.00  -25.35  \n",
       "25     41,040.00   25,920.00   -15,120.00  -36.84  \n",
       "26  1,046,250.00  658,800.00  -387,450.00  -37.03  \n",
       "27    430,500.00  163,500.00  -267,000.00  -62.02  \n",
       "28     99,600.00   89,600.00   -10,000.00  -10.04  "
      ]
     },
     "execution_count": 81,
     "metadata": {},
     "output_type": "execute_result"
    }
   ],
   "source": [
    "output = pd.read_sql(sql, const)\n",
    "output"
   ]
  },
  {
   "cell_type": "code",
   "execution_count": 83,
   "metadata": {},
   "outputs": [],
   "source": [
    "file_name = 'portfolio.csv'\n",
    "output_file = os.path.join(dat_path, file_name)\n",
    "god_file = os.path.join(god_path, file_name)\n",
    "icd_file = os.path.join(icd_path, file_name)\n",
    "osd_file = os.path.join(osd_path, file_name)"
   ]
  },
  {
   "cell_type": "code",
   "execution_count": 85,
   "metadata": {},
   "outputs": [
    {
     "name": "stdout",
     "output_type": "stream",
     "text": [
      "Output file : C:\\Users\\PC1\\OneDrive\\A5\\Data\\portfolio.csv\n",
      "icd_file : C:\\Users\\PC1\\iCloudDrive\\Data\\portfolio.csv\n",
      "god_file : C:\\Users\\PC1\\OneDrive\\Imports\\santisoontarinka@gmail.com - Google Drive\\Data\\portfolio.csv\n",
      "osd_file : C:\\Users\\PC1\\OneDrive\\Documents\\obsidian-git-sync\\Data\\portfolio.csv\n"
     ]
    }
   ],
   "source": [
    "print(f\"Output file : {output_file}\") \n",
    "print(f\"icd_file : {icd_file}\") \n",
    "print(f\"god_file : {god_file}\") \n",
    "print(f\"osd_file : {osd_file}\") "
   ]
  },
  {
   "cell_type": "code",
   "execution_count": 87,
   "metadata": {},
   "outputs": [],
   "source": [
    "output.to_csv(output_file, header=True, index=False)\n",
    "output.to_csv(icd_file, header=True, index=False)\n",
    "output.to_csv(god_file, header=True, index=False)\n",
    "output.to_csv(osd_file, header=True, index=False)"
   ]
  },
  {
   "cell_type": "code",
   "execution_count": 89,
   "metadata": {},
   "outputs": [],
   "source": [
    "file_name = '035-portfolio.xlsx'\n",
    "xsl_file = os.path.join(xsl_path, file_name)\n",
    "\n",
    "output.to_excel(xsl_file, index=False)"
   ]
  },
  {
   "cell_type": "code",
   "execution_count": null,
   "metadata": {},
   "outputs": [],
   "source": []
  }
 ],
 "metadata": {
  "anaconda-cloud": {},
  "kernelspec": {
   "display_name": "Python 3 (ipykernel)",
   "language": "python",
   "name": "python3"
  },
  "language_info": {
   "codemirror_mode": {
    "name": "ipython",
    "version": 3
   },
   "file_extension": ".py",
   "mimetype": "text/x-python",
   "name": "python",
   "nbconvert_exporter": "python",
   "pygments_lexer": "ipython3",
   "version": "3.12.3"
  }
 },
 "nbformat": 4,
 "nbformat_minor": 4
}
