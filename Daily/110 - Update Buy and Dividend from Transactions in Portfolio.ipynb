{
 "cells": [
  {
   "cell_type": "code",
   "execution_count": 7,
   "metadata": {},
   "outputs": [
    {
     "name": "stdout",
     "output_type": "stream",
     "text": [
      "today: 2025-08-21\n"
     ]
    }
   ],
   "source": [
    "import os\n",
    "import pandas as pd\n",
    "from datetime import date, timedelta, datetime\n",
    "from sqlalchemy import create_engine, text\n",
    "from pandas.tseries.offsets import BDay\n",
    "\n",
    "engine = create_engine('mysql+pymysql://root:@localhost:3306/portfolio_development')\n",
    "conpf = engine.connect()\n",
    "engine = create_engine(\"mysql+pymysql://root:@localhost:3306/stock\")\n",
    "const = engine.connect()\n",
    "engine = create_engine(\"sqlite:///c:\\\\ruby\\\\port_lite\\\\db\\\\development.sqlite3\")\n",
    "conlite = engine.connect()\n",
    "\n",
    "today = date.today()\n",
    "print(f'today: {today}')"
   ]
  },
  {
   "cell_type": "code",
   "execution_count": 9,
   "metadata": {},
   "outputs": [
    {
     "name": "stdout",
     "output_type": "stream",
     "text": [
      "today: 2025-08-21\n",
      "yesterday: 2025-08-20\n"
     ]
    }
   ],
   "source": [
    "# convert the timedelta object to a BusinessDay object\n",
    "num_business_days = BDay(1)\n",
    "yesterday = today - num_business_days\n",
    "yesterday = yesterday.date()\n",
    "print(f'today: {today}')\n",
    "print(f'yesterday: {yesterday}')"
   ]
  },
  {
   "cell_type": "code",
   "execution_count": 11,
   "metadata": {},
   "outputs": [],
   "source": [
    "# Get the user's home directory\n",
    "user_path = os.path.expanduser('~')\n",
    "# Get the current working directory\n",
    "current_path = os.getcwd()\n",
    "# Derive the base directory (base_dir) by removing the last folder ('Daily')\n",
    "base_path = os.path.dirname(current_path)\n",
    "#C:\\Users\\PC1\\OneDrive\\A5\\Data\n",
    "dat_path = os.path.join(base_path, \"Data\")\n",
    "#C:\\Users\\PC1\\Downloads\\Datasets\n",
    "dts_path = os.path.join(user_path, \"Downloads\", \"Datasets\")\n",
    "#C:\\Users\\PC1\\OneDrive\\Imports\\santisoontarinka@gmail.com - Google Drive\\Data>\n",
    "god_path = os.path.join(user_path, \"OneDrive\",\"Imports\",\"santisoontarinka@gmail.com - Google Drive\",\"Data\")\n",
    "#C:\\Users\\PC1\\iCloudDrive\\data\n",
    "icd_path = os.path.join(user_path, \"iCloudDrive\", \"Data\")\n",
    "#C:\\Users\\PC1\\OneDrive\\Documents\\obsidian-git-sync\\Data\n",
    "osd_path = os.path.join(user_path, \"OneDrive\",\"Documents\",\"obsidian-git-sync\",\"Data\")\n",
    "#C:\\Users\\PC1\\OneDrive\\A5\\Excel\n",
    "xsl_path = os.path.join(base_path, \"Excel\")"
   ]
  },
  {
   "cell_type": "code",
   "execution_count": 13,
   "metadata": {},
   "outputs": [
    {
     "name": "stdout",
     "output_type": "stream",
     "text": [
      "User path: C:\\Users\\PC1\n",
      "Current path: C:\\Users\\PC1\\OneDrive\\A5\\Daily\n",
      "Base path: C:\\Users\\PC1\\OneDrive\\A5\n",
      "Data path (dat_path): C:\\Users\\PC1\\OneDrive\\A5\\Data\n",
      "Excel path (xsl_path): C:\\Users\\PC1\\OneDrive\\A5\\Excel\n",
      "Google Drive path (god_path): C:\\Users\\PC1\\OneDrive\\Imports\\santisoontarinka@gmail.com - Google Drive\\Data\n",
      "iCloudDrive path (icd_path): C:\\Users\\PC1\\iCloudDrive\\Data\n",
      "Obsidian path (osd_path): C:\\Users\\PC1\\OneDrive\\Documents\\obsidian-git-sync\\Data\n"
     ]
    }
   ],
   "source": [
    "print(\"User path:\", user_path)\n",
    "print(f\"Current path: {current_path}\")\n",
    "print(f\"Base path: {base_path}\")\n",
    "print(f\"Data path (dat_path): {dat_path}\") \n",
    "print(f\"Excel path (xsl_path): {xsl_path}\") \n",
    "print(f\"Google Drive path (god_path): {god_path}\")\n",
    "print(f\"iCloudDrive path (icd_path): {icd_path}\") \n",
    "print(f\"Obsidian path (osd_path): {osd_path}\") "
   ]
  },
  {
   "cell_type": "markdown",
   "metadata": {},
   "source": [
    "### Tables in the process"
   ]
  },
  {
   "cell_type": "code",
   "execution_count": 16,
   "metadata": {},
   "outputs": [],
   "source": [
    "format_dict = {\n",
    "    'shares':'{:,}',    \n",
    "    'price':'{:.2f}',\n",
    "    'dividend':'{:.4f}', \n",
    "    'date':'{:%Y-%m-%d}', \n",
    "    \n",
    "    'qty':'{:,}','shares':'{:,}',\n",
    "    'price':'{:.2f}','buy_price':'{:.2f}',\n",
    "    'dividend':'{:.4f}',    \n",
    "    'fee':'{:,.2f}','vat':'{:,.2f}','net':'{:,.2f}',\n",
    "  \n",
    "    'days':'{:,}',\n",
    "    'price':'{:.2f}',\n",
    "    'fee':'{:,.2f}','vat':'{:,.2f}','net':'{:,.2f}','profit':'{:,.2f}',\n",
    "    'percent':'{:,.2f}%','yearly':'{:,.2f}%',   \n",
    "    \n",
    "    'shares':'{:,}',    \n",
    "    'q4':'{:.4f}','q3':'{:.4f}','q2':'{:.4f}','q1':'{:.4f}','dividend':'{:.4f}',\n",
    "    'xdate':'{:%Y-%m-%d}','paiddate':'{:%Y-%m-%d}',\n",
    "    \n",
    "    'qty':'{:,}','available_qty':'{:,}',\n",
    "    'cost':'{:.2f}','max_price':'{:.2f}','min_price':'{:.2f}','buy_target':'{:.2f}','sell_target':'{:.2f}',\n",
    "    'volume':'{:,.2f}','beta':'{:,.2f}',\n",
    "    \n",
    "    'qty':'{:,}','available_qty':'{:,}',\n",
    "    'cost':'{:.2f}','max_price':'{:.2f}','min_price':'{:.2f}','buy_target':'{:.2f}','sell_target':'{:.2f}',\n",
    "    'volume':'{:,.2f}','beta':'{:,.2f}',\n",
    "    }"
   ]
  },
  {
   "cell_type": "code",
   "execution_count": 65,
   "metadata": {},
   "outputs": [
    {
     "data": {
      "text/html": [
       "<style type=\"text/css\">\n",
       "</style>\n",
       "<table id=\"T_856cc\">\n",
       "  <thead>\n",
       "    <tr>\n",
       "      <th class=\"blank level0\" >&nbsp;</th>\n",
       "      <th id=\"T_856cc_level0_col0\" class=\"col_heading level0 col0\" >name</th>\n",
       "      <th id=\"T_856cc_level0_col1\" class=\"col_heading level0 col1\" >stock_id</th>\n",
       "      <th id=\"T_856cc_level0_col2\" class=\"col_heading level0 col2\" >buy_date</th>\n",
       "      <th id=\"T_856cc_level0_col3\" class=\"col_heading level0 col3\" >qty</th>\n",
       "      <th id=\"T_856cc_level0_col4\" class=\"col_heading level0 col4\" >buy_price</th>\n",
       "      <th id=\"T_856cc_level0_col5\" class=\"col_heading level0 col5\" >id</th>\n",
       "      <th id=\"T_856cc_level0_col6\" class=\"col_heading level0 col6\" >buy_id</th>\n",
       "      <th id=\"T_856cc_level0_col7\" class=\"col_heading level0 col7\" >date</th>\n",
       "      <th id=\"T_856cc_level0_col8\" class=\"col_heading level0 col8\" >price</th>\n",
       "      <th id=\"T_856cc_level0_col9\" class=\"col_heading level0 col9\" >fee</th>\n",
       "      <th id=\"T_856cc_level0_col10\" class=\"col_heading level0 col10\" >vat</th>\n",
       "      <th id=\"T_856cc_level0_col11\" class=\"col_heading level0 col11\" >net</th>\n",
       "      <th id=\"T_856cc_level0_col12\" class=\"col_heading level0 col12\" >days</th>\n",
       "      <th id=\"T_856cc_level0_col13\" class=\"col_heading level0 col13\" >profit</th>\n",
       "      <th id=\"T_856cc_level0_col14\" class=\"col_heading level0 col14\" >percent</th>\n",
       "      <th id=\"T_856cc_level0_col15\" class=\"col_heading level0 col15\" >yearly</th>\n",
       "      <th id=\"T_856cc_level0_col16\" class=\"col_heading level0 col16\" >sequence</th>\n",
       "      <th id=\"T_856cc_level0_col17\" class=\"col_heading level0 col17\" >chart</th>\n",
       "      <th id=\"T_856cc_level0_col18\" class=\"col_heading level0 col18\" >dividend_id</th>\n",
       "    </tr>\n",
       "  </thead>\n",
       "  <tbody>\n",
       "    <tr>\n",
       "      <th id=\"T_856cc_level0_row0\" class=\"row_heading level0 row0\" >0</th>\n",
       "      <td id=\"T_856cc_row0_col0\" class=\"data row0 col0\" >CPF</td>\n",
       "      <td id=\"T_856cc_row0_col1\" class=\"data row0 col1\" >21</td>\n",
       "      <td id=\"T_856cc_row0_col2\" class=\"data row0 col2\" >2025-08-21</td>\n",
       "      <td id=\"T_856cc_row0_col3\" class=\"data row0 col3\" >4,000</td>\n",
       "      <td id=\"T_856cc_row0_col4\" class=\"data row0 col4\" >24.10</td>\n",
       "      <td id=\"T_856cc_row0_col5\" class=\"data row0 col5\" >1108</td>\n",
       "      <td id=\"T_856cc_row0_col6\" class=\"data row0 col6\" >1341</td>\n",
       "      <td id=\"T_856cc_row0_col7\" class=\"data row0 col7\" >2025-08-21</td>\n",
       "      <td id=\"T_856cc_row0_col8\" class=\"data row0 col8\" >24.30</td>\n",
       "      <td id=\"T_856cc_row0_col9\" class=\"data row0 col9\" >201.20</td>\n",
       "      <td id=\"T_856cc_row0_col10\" class=\"data row0 col10\" >14.08</td>\n",
       "      <td id=\"T_856cc_row0_col11\" class=\"data row0 col11\" >96,984.72</td>\n",
       "      <td id=\"T_856cc_row0_col12\" class=\"data row0 col12\" >1</td>\n",
       "      <td id=\"T_856cc_row0_col13\" class=\"data row0 col13\" >371.20</td>\n",
       "      <td id=\"T_856cc_row0_col14\" class=\"data row0 col14\" >0.38%</td>\n",
       "      <td id=\"T_856cc_row0_col15\" class=\"data row0 col15\" >140.24%</td>\n",
       "      <td id=\"T_856cc_row0_col16\" class=\"data row0 col16\" >-108</td>\n",
       "      <td id=\"T_856cc_row0_col17\" class=\"data row0 col17\" >None</td>\n",
       "      <td id=\"T_856cc_row0_col18\" class=\"data row0 col18\" >0</td>\n",
       "    </tr>\n",
       "  </tbody>\n",
       "</table>\n"
      ],
      "text/plain": [
       "<pandas.io.formats.style.Styler at 0x23ef4f91880>"
      ]
     },
     "execution_count": 65,
     "metadata": {},
     "output_type": "execute_result"
    }
   ],
   "source": [
    "# Sells table in MySQL portfolio database\n",
    "sql = \"\"\"\n",
    "SELECT name, stock_id, B.date AS buy_date, qty, B.price AS buy_price, S.* \n",
    "FROM sells S\n",
    "JOIN buys B ON S.buy_id = B.id\n",
    "JOIN stocks T ON B.stock_id = T.id\n",
    "ORDER BY S.id DESC\n",
    "LIMIT 1\"\"\"\n",
    "df_sells_latest = pd.read_sql(sql, conpf)\n",
    "df_sells_latest.style.format(format_dict)"
   ]
  },
  {
   "cell_type": "markdown",
   "metadata": {},
   "source": [
    "### In case of sale, retreive buy id from sells record (buy_id)"
   ]
  },
  {
   "cell_type": "code",
   "execution_count": 68,
   "metadata": {},
   "outputs": [
    {
     "data": {
      "text/plain": [
       "'CPF'"
      ]
     },
     "execution_count": 68,
     "metadata": {},
     "output_type": "execute_result"
    }
   ],
   "source": [
    "# Buys table in MySQL portfolio database\n",
    "transaction = 'S'\n",
    "\n",
    "names = df_sells_latest['name']\n",
    "name = names.to_string(index=False)\n",
    "name"
   ]
  },
  {
   "cell_type": "code",
   "execution_count": 70,
   "metadata": {},
   "outputs": [
    {
     "name": "stdout",
     "output_type": "stream",
     "text": [
      "\n",
      "SELECT name, B.* \n",
      "FROM buys B\n",
      "JOIN stocks T \n",
      "ON B.stock_id = T.id\n",
      "WHERE B.id = 1341\n",
      "\n"
     ]
    },
    {
     "data": {
      "text/html": [
       "<style type=\"text/css\">\n",
       "</style>\n",
       "<table id=\"T_813db\">\n",
       "  <thead>\n",
       "    <tr>\n",
       "      <th class=\"blank level0\" >&nbsp;</th>\n",
       "      <th id=\"T_813db_level0_col0\" class=\"col_heading level0 col0\" >name</th>\n",
       "      <th id=\"T_813db_level0_col1\" class=\"col_heading level0 col1\" >id</th>\n",
       "      <th id=\"T_813db_level0_col2\" class=\"col_heading level0 col2\" >stock_id</th>\n",
       "      <th id=\"T_813db_level0_col3\" class=\"col_heading level0 col3\" >date</th>\n",
       "      <th id=\"T_813db_level0_col4\" class=\"col_heading level0 col4\" >qty</th>\n",
       "      <th id=\"T_813db_level0_col5\" class=\"col_heading level0 col5\" >price</th>\n",
       "      <th id=\"T_813db_level0_col6\" class=\"col_heading level0 col6\" >fee</th>\n",
       "      <th id=\"T_813db_level0_col7\" class=\"col_heading level0 col7\" >vat</th>\n",
       "      <th id=\"T_813db_level0_col8\" class=\"col_heading level0 col8\" >status</th>\n",
       "      <th id=\"T_813db_level0_col9\" class=\"col_heading level0 col9\" >net</th>\n",
       "      <th id=\"T_813db_level0_col10\" class=\"col_heading level0 col10\" >kind</th>\n",
       "      <th id=\"T_813db_level0_col11\" class=\"col_heading level0 col11\" >chart</th>\n",
       "    </tr>\n",
       "  </thead>\n",
       "  <tbody>\n",
       "    <tr>\n",
       "      <th id=\"T_813db_level0_row0\" class=\"row_heading level0 row0\" >0</th>\n",
       "      <td id=\"T_813db_row0_col0\" class=\"data row0 col0\" >CPF</td>\n",
       "      <td id=\"T_813db_row0_col1\" class=\"data row0 col1\" >1341</td>\n",
       "      <td id=\"T_813db_row0_col2\" class=\"data row0 col2\" >21</td>\n",
       "      <td id=\"T_813db_row0_col3\" class=\"data row0 col3\" >2025-08-21</td>\n",
       "      <td id=\"T_813db_row0_col4\" class=\"data row0 col4\" >4,000</td>\n",
       "      <td id=\"T_813db_row0_col5\" class=\"data row0 col5\" >24.10</td>\n",
       "      <td id=\"T_813db_row0_col6\" class=\"data row0 col6\" >199.55</td>\n",
       "      <td id=\"T_813db_row0_col7\" class=\"data row0 col7\" >13.97</td>\n",
       "      <td id=\"T_813db_row0_col8\" class=\"data row0 col8\" >Sold</td>\n",
       "      <td id=\"T_813db_row0_col9\" class=\"data row0 col9\" >96,613.52</td>\n",
       "      <td id=\"T_813db_row0_col10\" class=\"data row0 col10\" >DTD</td>\n",
       "      <td id=\"T_813db_row0_col11\" class=\"data row0 col11\" >None</td>\n",
       "    </tr>\n",
       "  </tbody>\n",
       "</table>\n"
      ],
      "text/plain": [
       "<pandas.io.formats.style.Styler at 0x23ef4f3f830>"
      ]
     },
     "execution_count": 70,
     "metadata": {},
     "output_type": "execute_result"
    }
   ],
   "source": [
    "sr_qty = df_sells_latest['qty']\n",
    "qty = sr_qty.to_string(index=False)\n",
    "qty = int(qty) * -1\n",
    "\n",
    "sr_price = df_sells_latest['buy_price']\n",
    "buy_price = sr_price.to_string(index=False)\n",
    "buy_price = float(buy_price)\n",
    "\n",
    "sr_price = df_sells_latest['price']\n",
    "sell_price = sr_price.to_string(index=False)\n",
    "sell_price = float(sell_price)\n",
    "\n",
    "buy_ids = df_sells_latest['buy_id']\n",
    "buy_id = buy_ids.to_string(index=False)\n",
    "\n",
    "sql = \"\"\"\n",
    "SELECT name, B.* \n",
    "FROM buys B\n",
    "JOIN stocks T \n",
    "ON B.stock_id = T.id\n",
    "WHERE B.id = %s\n",
    "\"\"\"\n",
    "sql = sql % buy_id\n",
    "print(sql)\n",
    "\n",
    "df_buys_latest = pd.read_sql(sql, conpf)\n",
    "df_buys_latest.style.format(format_dict)"
   ]
  },
  {
   "cell_type": "code",
   "execution_count": 72,
   "metadata": {},
   "outputs": [
    {
     "data": {
      "text/plain": [
       "('S', 'CPF', -4000, 24.3, 24.1)"
      ]
     },
     "execution_count": 72,
     "metadata": {},
     "output_type": "execute_result"
    }
   ],
   "source": [
    "transaction, name, qty, sell_price, buy_price"
   ]
  },
  {
   "cell_type": "markdown",
   "metadata": {},
   "source": [
    "### In case of buy, retreive buy id from latest buy record (id)"
   ]
  },
  {
   "cell_type": "code",
   "execution_count": 20,
   "metadata": {},
   "outputs": [
    {
     "name": "stdout",
     "output_type": "stream",
     "text": [
      "\n",
      "SELECT name, B.* \n",
      "FROM buys B\n",
      "JOIN stocks T \n",
      "ON B.stock_id = T.id\n",
      "ORDER BY id DESC\n",
      "LIMIT 1\n",
      "\n"
     ]
    },
    {
     "data": {
      "text/html": [
       "<style type=\"text/css\">\n",
       "</style>\n",
       "<table id=\"T_e8502\">\n",
       "  <thead>\n",
       "    <tr>\n",
       "      <th class=\"blank level0\" >&nbsp;</th>\n",
       "      <th id=\"T_e8502_level0_col0\" class=\"col_heading level0 col0\" >name</th>\n",
       "      <th id=\"T_e8502_level0_col1\" class=\"col_heading level0 col1\" >id</th>\n",
       "      <th id=\"T_e8502_level0_col2\" class=\"col_heading level0 col2\" >stock_id</th>\n",
       "      <th id=\"T_e8502_level0_col3\" class=\"col_heading level0 col3\" >date</th>\n",
       "      <th id=\"T_e8502_level0_col4\" class=\"col_heading level0 col4\" >qty</th>\n",
       "      <th id=\"T_e8502_level0_col5\" class=\"col_heading level0 col5\" >price</th>\n",
       "      <th id=\"T_e8502_level0_col6\" class=\"col_heading level0 col6\" >fee</th>\n",
       "      <th id=\"T_e8502_level0_col7\" class=\"col_heading level0 col7\" >vat</th>\n",
       "      <th id=\"T_e8502_level0_col8\" class=\"col_heading level0 col8\" >status</th>\n",
       "      <th id=\"T_e8502_level0_col9\" class=\"col_heading level0 col9\" >net</th>\n",
       "      <th id=\"T_e8502_level0_col10\" class=\"col_heading level0 col10\" >kind</th>\n",
       "      <th id=\"T_e8502_level0_col11\" class=\"col_heading level0 col11\" >chart</th>\n",
       "    </tr>\n",
       "  </thead>\n",
       "  <tbody>\n",
       "    <tr>\n",
       "      <th id=\"T_e8502_level0_row0\" class=\"row_heading level0 row0\" >0</th>\n",
       "      <td id=\"T_e8502_row0_col0\" class=\"data row0 col0\" >CPF</td>\n",
       "      <td id=\"T_e8502_row0_col1\" class=\"data row0 col1\" >1341</td>\n",
       "      <td id=\"T_e8502_row0_col2\" class=\"data row0 col2\" >21</td>\n",
       "      <td id=\"T_e8502_row0_col3\" class=\"data row0 col3\" >2025-08-21</td>\n",
       "      <td id=\"T_e8502_row0_col4\" class=\"data row0 col4\" >4,000</td>\n",
       "      <td id=\"T_e8502_row0_col5\" class=\"data row0 col5\" >24.10</td>\n",
       "      <td id=\"T_e8502_row0_col6\" class=\"data row0 col6\" >199.55</td>\n",
       "      <td id=\"T_e8502_row0_col7\" class=\"data row0 col7\" >13.97</td>\n",
       "      <td id=\"T_e8502_row0_col8\" class=\"data row0 col8\" >Sold</td>\n",
       "      <td id=\"T_e8502_row0_col9\" class=\"data row0 col9\" >96,613.52</td>\n",
       "      <td id=\"T_e8502_row0_col10\" class=\"data row0 col10\" >DTD</td>\n",
       "      <td id=\"T_e8502_row0_col11\" class=\"data row0 col11\" >None</td>\n",
       "    </tr>\n",
       "  </tbody>\n",
       "</table>\n"
      ],
      "text/plain": [
       "<pandas.io.formats.style.Styler at 0x23ef5a357c0>"
      ]
     },
     "execution_count": 20,
     "metadata": {},
     "output_type": "execute_result"
    }
   ],
   "source": [
    "sql = \"\"\"\n",
    "SELECT name, B.* \n",
    "FROM buys B\n",
    "JOIN stocks T \n",
    "ON B.stock_id = T.id\n",
    "ORDER BY id DESC\n",
    "LIMIT 1\n",
    "\"\"\"\n",
    "print(sql)\n",
    "df_buys_latest = pd.read_sql(sql, conpf)\n",
    "df_buys_latest.style.format(format_dict)"
   ]
  },
  {
   "cell_type": "code",
   "execution_count": 22,
   "metadata": {},
   "outputs": [
    {
     "data": {
      "text/plain": [
       "('B', 'CPF', 4000, 24.1)"
      ]
     },
     "execution_count": 22,
     "metadata": {},
     "output_type": "execute_result"
    }
   ],
   "source": [
    "transaction = 'B'\n",
    "\n",
    "names = df_buys_latest['name']\n",
    "name = names.to_string(index=False)\n",
    "\n",
    "sr_qty = df_buys_latest['qty']\n",
    "qty = sr_qty.to_string(index=False)\n",
    "qty = int(qty)\n",
    "\n",
    "sr_price = df_buys_latest['price']\n",
    "buy_price = sr_price.to_string(index=False)\n",
    "buy_price = float(buy_price)\n",
    "\n",
    "transaction, name, qty, buy_price"
   ]
  },
  {
   "cell_type": "markdown",
   "metadata": {},
   "source": [
    "## Begin of Sale transaction"
   ]
  },
  {
   "cell_type": "markdown",
   "metadata": {},
   "source": [
    "### Begin of Update buy table in MySQL stock database from sale transaction"
   ]
  },
  {
   "cell_type": "code",
   "execution_count": 74,
   "metadata": {},
   "outputs": [
    {
     "name": "stdout",
     "output_type": "stream",
     "text": [
      "\n",
      "SELECT * \n",
      "FROM buy \n",
      "WHERE name = 'CPF'\n",
      "\n"
     ]
    },
    {
     "data": {
      "text/html": [
       "<style type=\"text/css\">\n",
       "</style>\n",
       "<table id=\"T_52243\">\n",
       "  <thead>\n",
       "    <tr>\n",
       "      <th class=\"blank level0\" >&nbsp;</th>\n",
       "      <th id=\"T_52243_level0_col0\" class=\"col_heading level0 col0\" >name</th>\n",
       "      <th id=\"T_52243_level0_col1\" class=\"col_heading level0 col1\" >date</th>\n",
       "      <th id=\"T_52243_level0_col2\" class=\"col_heading level0 col2\" >shares</th>\n",
       "      <th id=\"T_52243_level0_col3\" class=\"col_heading level0 col3\" >price</th>\n",
       "      <th id=\"T_52243_level0_col4\" class=\"col_heading level0 col4\" >active</th>\n",
       "      <th id=\"T_52243_level0_col5\" class=\"col_heading level0 col5\" >period</th>\n",
       "      <th id=\"T_52243_level0_col6\" class=\"col_heading level0 col6\" >grade</th>\n",
       "    </tr>\n",
       "  </thead>\n",
       "  <tbody>\n",
       "    <tr>\n",
       "      <th id=\"T_52243_level0_row0\" class=\"row_heading level0 row0\" >0</th>\n",
       "      <td id=\"T_52243_row0_col0\" class=\"data row0 col0\" >CPF</td>\n",
       "      <td id=\"T_52243_row0_col1\" class=\"data row0 col1\" >2025-08-21</td>\n",
       "      <td id=\"T_52243_row0_col2\" class=\"data row0 col2\" >4,000</td>\n",
       "      <td id=\"T_52243_row0_col3\" class=\"data row0 col3\" >24.10</td>\n",
       "      <td id=\"T_52243_row0_col4\" class=\"data row0 col4\" >1</td>\n",
       "      <td id=\"T_52243_row0_col5\" class=\"data row0 col5\" >4</td>\n",
       "      <td id=\"T_52243_row0_col6\" class=\"data row0 col6\" >A1</td>\n",
       "    </tr>\n",
       "  </tbody>\n",
       "</table>\n"
      ],
      "text/plain": [
       "<pandas.io.formats.style.Styler at 0x23ef8789100>"
      ]
     },
     "execution_count": 74,
     "metadata": {},
     "output_type": "execute_result"
    }
   ],
   "source": [
    "sql = \"\"\"\n",
    "SELECT * \n",
    "FROM buy \n",
    "WHERE name = '%s'\n",
    "\"\"\"\n",
    "sql = sql % name\n",
    "print(sql)\n",
    "\n",
    "df_buy = pd.read_sql(sql, const)\n",
    "df_buy.drop(['volsell', 'volbal','dividend'], axis=1, inplace=True)\n",
    "df_buy.rename(columns={'volbuy':'shares'},inplace=True)\n",
    "df_buy['shares'] = df_buy['shares'].astype('int64')\n",
    "df_buy.style.format(format_dict)"
   ]
  },
  {
   "cell_type": "code",
   "execution_count": 76,
   "metadata": {},
   "outputs": [
    {
     "name": "stdout",
     "output_type": "stream",
     "text": [
      "S CPF -4000 24.1\n"
     ]
    }
   ],
   "source": [
    "print(transaction, name, qty, buy_price)"
   ]
  },
  {
   "cell_type": "code",
   "execution_count": 78,
   "metadata": {},
   "outputs": [
    {
     "name": "stdout",
     "output_type": "stream",
     "text": [
      "0\n"
     ]
    }
   ],
   "source": [
    "new_qty = df_buy['shares'] + qty\n",
    "print(new_qty.iloc[0])"
   ]
  },
  {
   "cell_type": "code",
   "execution_count": 80,
   "metadata": {},
   "outputs": [
    {
     "data": {
      "text/plain": [
       "24.1"
      ]
     },
     "execution_count": 80,
     "metadata": {},
     "output_type": "execute_result"
    }
   ],
   "source": [
    "new_price = 24.1\n",
    "new_price"
   ]
  },
  {
   "cell_type": "code",
   "execution_count": 82,
   "metadata": {},
   "outputs": [],
   "source": [
    "def update_buy(const, name, new_qty, new_price):\n",
    "    # Extract scalar values from Pandas Series\n",
    "    new_qty_value = int(new_qty.iloc[0])\n",
    "    \n",
    "    # Use parameterized query to avoid SQL injection\n",
    "    sqlUpd = text(\"\"\"\n",
    "        UPDATE buy\n",
    "        SET volbuy = :new_qty,\n",
    "        price = :new_price\n",
    "        WHERE name = :name\n",
    "    \"\"\")\n",
    "    \n",
    "    # Execute the query with parameters\n",
    "    result = const.execute(sqlUpd, {\n",
    "        'new_qty': new_qty_value,\n",
    "        'new_price': new_price,\n",
    "        'name': name\n",
    "    })\n",
    "\n",
    "    return f\"Records updated = {result.rowcount}\""
   ]
  },
  {
   "cell_type": "code",
   "execution_count": 84,
   "metadata": {},
   "outputs": [
    {
     "data": {
      "text/plain": [
       "'Records updated = 1'"
      ]
     },
     "execution_count": 84,
     "metadata": {},
     "output_type": "execute_result"
    }
   ],
   "source": [
    "# Example usage\n",
    "update_buy(const, name, new_qty, new_price)"
   ]
  },
  {
   "cell_type": "code",
   "execution_count": 86,
   "metadata": {},
   "outputs": [
    {
     "name": "stdout",
     "output_type": "stream",
     "text": [
      "\n",
      "SELECT * \n",
      "FROM buy \n",
      "WHERE name = 'CPF'\n",
      "\n"
     ]
    },
    {
     "data": {
      "text/html": [
       "<style type=\"text/css\">\n",
       "</style>\n",
       "<table id=\"T_c9607\">\n",
       "  <thead>\n",
       "    <tr>\n",
       "      <th class=\"blank level0\" >&nbsp;</th>\n",
       "      <th id=\"T_c9607_level0_col0\" class=\"col_heading level0 col0\" >name</th>\n",
       "      <th id=\"T_c9607_level0_col1\" class=\"col_heading level0 col1\" >date</th>\n",
       "      <th id=\"T_c9607_level0_col2\" class=\"col_heading level0 col2\" >shares</th>\n",
       "      <th id=\"T_c9607_level0_col3\" class=\"col_heading level0 col3\" >price</th>\n",
       "      <th id=\"T_c9607_level0_col4\" class=\"col_heading level0 col4\" >active</th>\n",
       "      <th id=\"T_c9607_level0_col5\" class=\"col_heading level0 col5\" >period</th>\n",
       "      <th id=\"T_c9607_level0_col6\" class=\"col_heading level0 col6\" >grade</th>\n",
       "    </tr>\n",
       "  </thead>\n",
       "  <tbody>\n",
       "    <tr>\n",
       "      <th id=\"T_c9607_level0_row0\" class=\"row_heading level0 row0\" >0</th>\n",
       "      <td id=\"T_c9607_row0_col0\" class=\"data row0 col0\" >CPF</td>\n",
       "      <td id=\"T_c9607_row0_col1\" class=\"data row0 col1\" >2025-08-21</td>\n",
       "      <td id=\"T_c9607_row0_col2\" class=\"data row0 col2\" >0</td>\n",
       "      <td id=\"T_c9607_row0_col3\" class=\"data row0 col3\" >24.10</td>\n",
       "      <td id=\"T_c9607_row0_col4\" class=\"data row0 col4\" >1</td>\n",
       "      <td id=\"T_c9607_row0_col5\" class=\"data row0 col5\" >4</td>\n",
       "      <td id=\"T_c9607_row0_col6\" class=\"data row0 col6\" >A1</td>\n",
       "    </tr>\n",
       "  </tbody>\n",
       "</table>\n"
      ],
      "text/plain": [
       "<pandas.io.formats.style.Styler at 0x23ef87bdb20>"
      ]
     },
     "execution_count": 86,
     "metadata": {},
     "output_type": "execute_result"
    }
   ],
   "source": [
    "sql = \"\"\"\n",
    "SELECT * \n",
    "FROM buy \n",
    "WHERE name = '%s'\n",
    "\"\"\"\n",
    "sql = sql % name\n",
    "print(sql)\n",
    "\n",
    "df_buy = pd.read_sql(sql, const)\n",
    "df_buy.drop(['volsell', 'volbal','dividend'], axis=1, inplace=True)\n",
    "df_buy.rename(columns={'volbuy':'shares'},inplace=True)\n",
    "df_buy['shares'] = df_buy['shares'].astype('int64')\n",
    "df_buy.style.format(format_dict)"
   ]
  },
  {
   "cell_type": "code",
   "execution_count": 37,
   "metadata": {},
   "outputs": [
    {
     "name": "stdout",
     "output_type": "stream",
     "text": [
      "Records deleted: 1\n"
     ]
    }
   ],
   "source": [
    "# Define the SQL query\n",
    "sqlDel = text(\"\"\"\n",
    "    DELETE FROM buy\n",
    "    WHERE name = :name AND volbuy = 0;\n",
    "\"\"\")\n",
    "\n",
    "# Execute the query with the correct parameter dictionary\n",
    "result = const.execute(sqlDel, {'name': name})\n",
    "\n",
    "# Print the number of rows deleted\n",
    "print(f\"Records deleted: {result.rowcount}\")  "
   ]
  },
  {
   "cell_type": "markdown",
   "metadata": {},
   "source": [
    "### End of Update buy table in MySQL stock database from sale transaction"
   ]
  },
  {
   "cell_type": "markdown",
   "metadata": {},
   "source": [
    "### Begin of Update dividend table in MySQL stock database from sale transaction"
   ]
  },
  {
   "cell_type": "code",
   "execution_count": 88,
   "metadata": {},
   "outputs": [
    {
     "name": "stdout",
     "output_type": "stream",
     "text": [
      "\n",
      "SELECT * \n",
      "FROM dividend \n",
      "WHERE name = 'CPF'\n",
      "\n"
     ]
    },
    {
     "data": {
      "text/html": [
       "<style type=\"text/css\">\n",
       "</style>\n",
       "<table id=\"T_5b8a7\">\n",
       "  <thead>\n",
       "    <tr>\n",
       "      <th class=\"blank level0\" >&nbsp;</th>\n",
       "      <th id=\"T_5b8a7_level0_col0\" class=\"col_heading level0 col0\" >name</th>\n",
       "      <th id=\"T_5b8a7_level0_col1\" class=\"col_heading level0 col1\" >q4</th>\n",
       "      <th id=\"T_5b8a7_level0_col2\" class=\"col_heading level0 col2\" >q3</th>\n",
       "      <th id=\"T_5b8a7_level0_col3\" class=\"col_heading level0 col3\" >q2</th>\n",
       "      <th id=\"T_5b8a7_level0_col4\" class=\"col_heading level0 col4\" >q1</th>\n",
       "      <th id=\"T_5b8a7_level0_col5\" class=\"col_heading level0 col5\" >dividend</th>\n",
       "      <th id=\"T_5b8a7_level0_col6\" class=\"col_heading level0 col6\" >shares</th>\n",
       "      <th id=\"T_5b8a7_level0_col7\" class=\"col_heading level0 col7\" >xdate</th>\n",
       "      <th id=\"T_5b8a7_level0_col8\" class=\"col_heading level0 col8\" >paiddate</th>\n",
       "      <th id=\"T_5b8a7_level0_col9\" class=\"col_heading level0 col9\" >kind</th>\n",
       "      <th id=\"T_5b8a7_level0_col10\" class=\"col_heading level0 col10\" >actual</th>\n",
       "    </tr>\n",
       "  </thead>\n",
       "  <tbody>\n",
       "    <tr>\n",
       "      <th id=\"T_5b8a7_level0_row0\" class=\"row_heading level0 row0\" >0</th>\n",
       "      <td id=\"T_5b8a7_row0_col0\" class=\"data row0 col0\" >CPF</td>\n",
       "      <td id=\"T_5b8a7_row0_col1\" class=\"data row0 col1\" >0.5500</td>\n",
       "      <td id=\"T_5b8a7_row0_col2\" class=\"data row0 col2\" >0.0000</td>\n",
       "      <td id=\"T_5b8a7_row0_col3\" class=\"data row0 col3\" >1.0000</td>\n",
       "      <td id=\"T_5b8a7_row0_col4\" class=\"data row0 col4\" >0.0000</td>\n",
       "      <td id=\"T_5b8a7_row0_col5\" class=\"data row0 col5\" >1.5500</td>\n",
       "      <td id=\"T_5b8a7_row0_col6\" class=\"data row0 col6\" >4,000</td>\n",
       "      <td id=\"T_5b8a7_row0_col7\" class=\"data row0 col7\" >2025-08-29</td>\n",
       "      <td id=\"T_5b8a7_row0_col8\" class=\"data row0 col8\" >2025-09-12</td>\n",
       "      <td id=\"T_5b8a7_row0_col9\" class=\"data row0 col9\" ></td>\n",
       "      <td id=\"T_5b8a7_row0_col10\" class=\"data row0 col10\" >1</td>\n",
       "    </tr>\n",
       "  </tbody>\n",
       "</table>\n"
      ],
      "text/plain": [
       "<pandas.io.formats.style.Styler at 0x23ef878bf50>"
      ]
     },
     "execution_count": 88,
     "metadata": {},
     "output_type": "execute_result"
    }
   ],
   "source": [
    "sql = \"\"\"\n",
    "SELECT * \n",
    "FROM dividend \n",
    "WHERE name = '%s'\n",
    "\"\"\"\n",
    "sql = sql % name\n",
    "print(sql)\n",
    "\n",
    "df_dividend = pd.read_sql(sql, const)\n",
    "df_dividend.drop(['PRICE', 'PERCENT'], axis=1, inplace=True)\n",
    "df_dividend.columns = df_dividend.columns.str.lower()\n",
    "df_dividend['shares'] = df_dividend['shares'].astype('int64')\n",
    "df_dividend['xdate'] = pd.to_datetime(df_dividend['xdate'])\n",
    "df_dividend['paiddate'] = pd.to_datetime(df_dividend['paiddate'])\n",
    "df_dividend.style.format(format_dict)"
   ]
  },
  {
   "cell_type": "code",
   "execution_count": 90,
   "metadata": {},
   "outputs": [
    {
     "name": "stdout",
     "output_type": "stream",
     "text": [
      "0    0\n",
      "Name: shares, dtype: int64\n"
     ]
    }
   ],
   "source": [
    "print(new_qty)"
   ]
  },
  {
   "cell_type": "code",
   "execution_count": 92,
   "metadata": {},
   "outputs": [],
   "source": [
    "def update_dividend(const, name, new_qty):\n",
    "    # Extract scalar values from Pandas Series\n",
    "    new_qty_value = int(new_qty.iloc[0])\n",
    "    # Use parameterized query to avoid SQL injection\n",
    "    sqlUpd = text(\"\"\"\n",
    "        UPDATE dividend\n",
    "        SET shares = :new_qty\n",
    "        WHERE name = :name\n",
    "    \"\"\")\n",
    "    # Execute the query with parameters\n",
    "    result = const.execute(sqlUpd, {\n",
    "        'new_qty': new_qty_value,\n",
    "        'name': name\n",
    "    })\n",
    "    return f\"Records updated = {result.rowcount}\""
   ]
  },
  {
   "cell_type": "code",
   "execution_count": 94,
   "metadata": {},
   "outputs": [
    {
     "data": {
      "text/plain": [
       "'Records updated = 1'"
      ]
     },
     "execution_count": 94,
     "metadata": {},
     "output_type": "execute_result"
    }
   ],
   "source": [
    "update_dividend(const, name, new_qty)"
   ]
  },
  {
   "cell_type": "code",
   "execution_count": 45,
   "metadata": {},
   "outputs": [
    {
     "name": "stdout",
     "output_type": "stream",
     "text": [
      "Records deleted: 0\n"
     ]
    }
   ],
   "source": [
    "# Define the SQL query\n",
    "sqlDel = text(\"\"\"\n",
    "    DELETE FROM dividend\n",
    "    WHERE name = :name AND shares = 0;\n",
    "\"\"\")\n",
    "\n",
    "# Execute the query with the correct parameter dictionary\n",
    "result = const.execute(sqlDel, {'name': name})\n",
    "\n",
    "# Print the number of rows deleted\n",
    "print(f\"Records deleted: {result.rowcount}\")  "
   ]
  },
  {
   "cell_type": "code",
   "execution_count": 96,
   "metadata": {},
   "outputs": [
    {
     "name": "stdout",
     "output_type": "stream",
     "text": [
      "\n",
      "SELECT * \n",
      "FROM dividend \n",
      "WHERE name = 'CPF'\n",
      "\n"
     ]
    },
    {
     "data": {
      "text/html": [
       "<style type=\"text/css\">\n",
       "</style>\n",
       "<table id=\"T_84987\">\n",
       "  <thead>\n",
       "    <tr>\n",
       "      <th class=\"blank level0\" >&nbsp;</th>\n",
       "      <th id=\"T_84987_level0_col0\" class=\"col_heading level0 col0\" >name</th>\n",
       "      <th id=\"T_84987_level0_col1\" class=\"col_heading level0 col1\" >q4</th>\n",
       "      <th id=\"T_84987_level0_col2\" class=\"col_heading level0 col2\" >q3</th>\n",
       "      <th id=\"T_84987_level0_col3\" class=\"col_heading level0 col3\" >q2</th>\n",
       "      <th id=\"T_84987_level0_col4\" class=\"col_heading level0 col4\" >q1</th>\n",
       "      <th id=\"T_84987_level0_col5\" class=\"col_heading level0 col5\" >dividend</th>\n",
       "      <th id=\"T_84987_level0_col6\" class=\"col_heading level0 col6\" >shares</th>\n",
       "      <th id=\"T_84987_level0_col7\" class=\"col_heading level0 col7\" >xdate</th>\n",
       "      <th id=\"T_84987_level0_col8\" class=\"col_heading level0 col8\" >paiddate</th>\n",
       "      <th id=\"T_84987_level0_col9\" class=\"col_heading level0 col9\" >kind</th>\n",
       "      <th id=\"T_84987_level0_col10\" class=\"col_heading level0 col10\" >actual</th>\n",
       "    </tr>\n",
       "  </thead>\n",
       "  <tbody>\n",
       "    <tr>\n",
       "      <th id=\"T_84987_level0_row0\" class=\"row_heading level0 row0\" >0</th>\n",
       "      <td id=\"T_84987_row0_col0\" class=\"data row0 col0\" >CPF</td>\n",
       "      <td id=\"T_84987_row0_col1\" class=\"data row0 col1\" >0.5500</td>\n",
       "      <td id=\"T_84987_row0_col2\" class=\"data row0 col2\" >0.0000</td>\n",
       "      <td id=\"T_84987_row0_col3\" class=\"data row0 col3\" >1.0000</td>\n",
       "      <td id=\"T_84987_row0_col4\" class=\"data row0 col4\" >0.0000</td>\n",
       "      <td id=\"T_84987_row0_col5\" class=\"data row0 col5\" >1.5500</td>\n",
       "      <td id=\"T_84987_row0_col6\" class=\"data row0 col6\" >0</td>\n",
       "      <td id=\"T_84987_row0_col7\" class=\"data row0 col7\" >2025-08-29</td>\n",
       "      <td id=\"T_84987_row0_col8\" class=\"data row0 col8\" >2025-09-12</td>\n",
       "      <td id=\"T_84987_row0_col9\" class=\"data row0 col9\" ></td>\n",
       "      <td id=\"T_84987_row0_col10\" class=\"data row0 col10\" >1</td>\n",
       "    </tr>\n",
       "  </tbody>\n",
       "</table>\n"
      ],
      "text/plain": [
       "<pandas.io.formats.style.Styler at 0x23ef5ecade0>"
      ]
     },
     "execution_count": 96,
     "metadata": {},
     "output_type": "execute_result"
    }
   ],
   "source": [
    "sql = \"\"\"\n",
    "SELECT * \n",
    "FROM dividend \n",
    "WHERE name = '%s'\n",
    "\"\"\"\n",
    "sql = sql % name\n",
    "print(sql)\n",
    "\n",
    "df_dividend = pd.read_sql(sql, const)\n",
    "df_dividend.drop(['PRICE', 'PERCENT'], axis=1, inplace=True)\n",
    "df_dividend.columns = df_dividend.columns.str.lower()\n",
    "df_dividend['shares'] = df_dividend['shares'].astype('int64')\n",
    "df_dividend['xdate'] = pd.to_datetime(df_dividend['xdate'])\n",
    "df_dividend['paiddate'] = pd.to_datetime(df_dividend['paiddate'])\n",
    "df_dividend.style.format(format_dict)"
   ]
  },
  {
   "cell_type": "markdown",
   "metadata": {},
   "source": [
    "### End of Update dividend table in MySQL stock database from sale transaction"
   ]
  },
  {
   "cell_type": "markdown",
   "metadata": {},
   "source": [
    "### Begin of Update stocks table in SQLite port_lite database from sale transaction"
   ]
  },
  {
   "cell_type": "code",
   "execution_count": 98,
   "metadata": {},
   "outputs": [
    {
     "name": "stdout",
     "output_type": "stream",
     "text": [
      "\n",
      "SELECT * \n",
      "FROM stocks \n",
      "WHERE name = 'CPF'\n",
      "\n"
     ]
    },
    {
     "data": {
      "text/html": [
       "<style type=\"text/css\">\n",
       "</style>\n",
       "<table id=\"T_c595e\">\n",
       "  <thead>\n",
       "    <tr>\n",
       "      <th class=\"blank level0\" >&nbsp;</th>\n",
       "      <th id=\"T_c595e_level0_col0\" class=\"col_heading level0 col0\" >id</th>\n",
       "      <th id=\"T_c595e_level0_col1\" class=\"col_heading level0 col1\" >name</th>\n",
       "      <th id=\"T_c595e_level0_col2\" class=\"col_heading level0 col2\" >max_price</th>\n",
       "      <th id=\"T_c595e_level0_col3\" class=\"col_heading level0 col3\" >min_price</th>\n",
       "      <th id=\"T_c595e_level0_col4\" class=\"col_heading level0 col4\" >status</th>\n",
       "      <th id=\"T_c595e_level0_col5\" class=\"col_heading level0 col5\" >buy_target</th>\n",
       "      <th id=\"T_c595e_level0_col6\" class=\"col_heading level0 col6\" >sell_target</th>\n",
       "      <th id=\"T_c595e_level0_col7\" class=\"col_heading level0 col7\" >volume</th>\n",
       "      <th id=\"T_c595e_level0_col8\" class=\"col_heading level0 col8\" >beta</th>\n",
       "      <th id=\"T_c595e_level0_col9\" class=\"col_heading level0 col9\" >cost</th>\n",
       "      <th id=\"T_c595e_level0_col10\" class=\"col_heading level0 col10\" >qty</th>\n",
       "      <th id=\"T_c595e_level0_col11\" class=\"col_heading level0 col11\" >buy_spread</th>\n",
       "      <th id=\"T_c595e_level0_col12\" class=\"col_heading level0 col12\" >sell_spread</th>\n",
       "      <th id=\"T_c595e_level0_col13\" class=\"col_heading level0 col13\" >available_qty</th>\n",
       "      <th id=\"T_c595e_level0_col14\" class=\"col_heading level0 col14\" >bl</th>\n",
       "      <th id=\"T_c595e_level0_col15\" class=\"col_heading level0 col15\" >sh</th>\n",
       "      <th id=\"T_c595e_level0_col16\" class=\"col_heading level0 col16\" >reason</th>\n",
       "      <th id=\"T_c595e_level0_col17\" class=\"col_heading level0 col17\" >market</th>\n",
       "    </tr>\n",
       "  </thead>\n",
       "  <tbody>\n",
       "    <tr>\n",
       "      <th id=\"T_c595e_level0_row0\" class=\"row_heading level0 row0\" >0</th>\n",
       "      <td id=\"T_c595e_row0_col0\" class=\"data row0 col0\" >152</td>\n",
       "      <td id=\"T_c595e_row0_col1\" class=\"data row0 col1\" >CPF</td>\n",
       "      <td id=\"T_c595e_row0_col2\" class=\"data row0 col2\" >24.40</td>\n",
       "      <td id=\"T_c595e_row0_col3\" class=\"data row0 col3\" >23.90</td>\n",
       "      <td id=\"T_c595e_row0_col4\" class=\"data row0 col4\" >B</td>\n",
       "      <td id=\"T_c595e_row0_col5\" class=\"data row0 col5\" >24.10</td>\n",
       "      <td id=\"T_c595e_row0_col6\" class=\"data row0 col6\" >24.30</td>\n",
       "      <td id=\"T_c595e_row0_col7\" class=\"data row0 col7\" >4,000.00</td>\n",
       "      <td id=\"T_c595e_row0_col8\" class=\"data row0 col8\" >0.00</td>\n",
       "      <td id=\"T_c595e_row0_col9\" class=\"data row0 col9\" >24.10</td>\n",
       "      <td id=\"T_c595e_row0_col10\" class=\"data row0 col10\" >5,000</td>\n",
       "      <td id=\"T_c595e_row0_col11\" class=\"data row0 col11\" >-4</td>\n",
       "      <td id=\"T_c595e_row0_col12\" class=\"data row0 col12\" >4</td>\n",
       "      <td id=\"T_c595e_row0_col13\" class=\"data row0 col13\" >4,000</td>\n",
       "      <td id=\"T_c595e_row0_col14\" class=\"data row0 col14\" >0.000000</td>\n",
       "      <td id=\"T_c595e_row0_col15\" class=\"data row0 col15\" >0.000000</td>\n",
       "      <td id=\"T_c595e_row0_col16\" class=\"data row0 col16\" ></td>\n",
       "      <td id=\"T_c595e_row0_col17\" class=\"data row0 col17\" >SET50</td>\n",
       "    </tr>\n",
       "  </tbody>\n",
       "</table>\n"
      ],
      "text/plain": [
       "<pandas.io.formats.style.Styler at 0x23ef87bd040>"
      ]
     },
     "execution_count": 98,
     "metadata": {},
     "output_type": "execute_result"
    }
   ],
   "source": [
    "sql = \"\"\"\n",
    "SELECT * \n",
    "FROM stocks \n",
    "WHERE name = '%s'\n",
    "\"\"\"\n",
    "sql = sql % name\n",
    "print(sql)\n",
    "\n",
    "df_stocks = pd.read_sql(sql, conlite)\n",
    "df_stocks.style.format(format_dict)"
   ]
  },
  {
   "cell_type": "code",
   "execution_count": 100,
   "metadata": {},
   "outputs": [
    {
     "name": "stdout",
     "output_type": "stream",
     "text": [
      "CPF S 0 24.1\n"
     ]
    }
   ],
   "source": [
    "# Extract scalar values from Pandas Series (if applicable)\n",
    "new_qty_value = new_qty.iloc[0] if hasattr(new_qty, 'iloc') else new_qty\n",
    "#cost_value = cost.iloc[0] if hasattr(cost, 'iloc') else cost\n",
    "# Print the values\n",
    "print(name, transaction, new_qty_value, new_price)"
   ]
  },
  {
   "cell_type": "code",
   "execution_count": 102,
   "metadata": {},
   "outputs": [],
   "source": [
    "#print(\"Raw cost value before extraction:\", cost)"
   ]
  },
  {
   "cell_type": "code",
   "execution_count": 104,
   "metadata": {},
   "outputs": [],
   "source": [
    "def update_stock(conlite, name, new_qty, new_price):\n",
    "    # Extract scalar values from Pandas Series\n",
    "    new_qty_value = int(new_qty.iloc[0])  \n",
    "    # Use parameterized query to avoid SQL injection\n",
    "    sqlUpd = text(\"\"\"\n",
    "        UPDATE stocks\n",
    "        SET available_qty = :new_qty,\n",
    "        cost = :new_price\n",
    "        WHERE name = :name\n",
    "    \"\"\")    \n",
    "    # Execute the query with parameters\n",
    "    result = conlite.execute(sqlUpd, {\n",
    "        'new_qty': new_qty_value, # Use the scalar value\n",
    "        'new_price': new_price,\n",
    "        'name': name\n",
    "    })\n",
    "    return f\"Records updated = {result.rowcount}\""
   ]
  },
  {
   "cell_type": "code",
   "execution_count": 106,
   "metadata": {},
   "outputs": [
    {
     "data": {
      "text/plain": [
       "'Records updated = 1'"
      ]
     },
     "execution_count": 106,
     "metadata": {},
     "output_type": "execute_result"
    }
   ],
   "source": [
    "# Example usage\n",
    "update_stock(conlite, name, new_qty, new_price)"
   ]
  },
  {
   "cell_type": "code",
   "execution_count": 108,
   "metadata": {},
   "outputs": [
    {
     "name": "stdout",
     "output_type": "stream",
     "text": [
      "\n",
      "SELECT * \n",
      "FROM stocks \n",
      "WHERE name = 'CPF'\n",
      "\n"
     ]
    },
    {
     "data": {
      "text/html": [
       "<style type=\"text/css\">\n",
       "</style>\n",
       "<table id=\"T_5b240\">\n",
       "  <thead>\n",
       "    <tr>\n",
       "      <th class=\"blank level0\" >&nbsp;</th>\n",
       "      <th id=\"T_5b240_level0_col0\" class=\"col_heading level0 col0\" >id</th>\n",
       "      <th id=\"T_5b240_level0_col1\" class=\"col_heading level0 col1\" >name</th>\n",
       "      <th id=\"T_5b240_level0_col2\" class=\"col_heading level0 col2\" >max_price</th>\n",
       "      <th id=\"T_5b240_level0_col3\" class=\"col_heading level0 col3\" >min_price</th>\n",
       "      <th id=\"T_5b240_level0_col4\" class=\"col_heading level0 col4\" >status</th>\n",
       "      <th id=\"T_5b240_level0_col5\" class=\"col_heading level0 col5\" >buy_target</th>\n",
       "      <th id=\"T_5b240_level0_col6\" class=\"col_heading level0 col6\" >sell_target</th>\n",
       "      <th id=\"T_5b240_level0_col7\" class=\"col_heading level0 col7\" >volume</th>\n",
       "      <th id=\"T_5b240_level0_col8\" class=\"col_heading level0 col8\" >beta</th>\n",
       "      <th id=\"T_5b240_level0_col9\" class=\"col_heading level0 col9\" >cost</th>\n",
       "      <th id=\"T_5b240_level0_col10\" class=\"col_heading level0 col10\" >qty</th>\n",
       "      <th id=\"T_5b240_level0_col11\" class=\"col_heading level0 col11\" >buy_spread</th>\n",
       "      <th id=\"T_5b240_level0_col12\" class=\"col_heading level0 col12\" >sell_spread</th>\n",
       "      <th id=\"T_5b240_level0_col13\" class=\"col_heading level0 col13\" >available_qty</th>\n",
       "      <th id=\"T_5b240_level0_col14\" class=\"col_heading level0 col14\" >bl</th>\n",
       "      <th id=\"T_5b240_level0_col15\" class=\"col_heading level0 col15\" >sh</th>\n",
       "      <th id=\"T_5b240_level0_col16\" class=\"col_heading level0 col16\" >reason</th>\n",
       "      <th id=\"T_5b240_level0_col17\" class=\"col_heading level0 col17\" >market</th>\n",
       "    </tr>\n",
       "  </thead>\n",
       "  <tbody>\n",
       "    <tr>\n",
       "      <th id=\"T_5b240_level0_row0\" class=\"row_heading level0 row0\" >0</th>\n",
       "      <td id=\"T_5b240_row0_col0\" class=\"data row0 col0\" >152</td>\n",
       "      <td id=\"T_5b240_row0_col1\" class=\"data row0 col1\" >CPF</td>\n",
       "      <td id=\"T_5b240_row0_col2\" class=\"data row0 col2\" >24.40</td>\n",
       "      <td id=\"T_5b240_row0_col3\" class=\"data row0 col3\" >23.90</td>\n",
       "      <td id=\"T_5b240_row0_col4\" class=\"data row0 col4\" >B</td>\n",
       "      <td id=\"T_5b240_row0_col5\" class=\"data row0 col5\" >24.10</td>\n",
       "      <td id=\"T_5b240_row0_col6\" class=\"data row0 col6\" >24.30</td>\n",
       "      <td id=\"T_5b240_row0_col7\" class=\"data row0 col7\" >4,000.00</td>\n",
       "      <td id=\"T_5b240_row0_col8\" class=\"data row0 col8\" >0.00</td>\n",
       "      <td id=\"T_5b240_row0_col9\" class=\"data row0 col9\" >24.10</td>\n",
       "      <td id=\"T_5b240_row0_col10\" class=\"data row0 col10\" >5,000</td>\n",
       "      <td id=\"T_5b240_row0_col11\" class=\"data row0 col11\" >-4</td>\n",
       "      <td id=\"T_5b240_row0_col12\" class=\"data row0 col12\" >4</td>\n",
       "      <td id=\"T_5b240_row0_col13\" class=\"data row0 col13\" >0</td>\n",
       "      <td id=\"T_5b240_row0_col14\" class=\"data row0 col14\" >0.000000</td>\n",
       "      <td id=\"T_5b240_row0_col15\" class=\"data row0 col15\" >0.000000</td>\n",
       "      <td id=\"T_5b240_row0_col16\" class=\"data row0 col16\" ></td>\n",
       "      <td id=\"T_5b240_row0_col17\" class=\"data row0 col17\" >SET50</td>\n",
       "    </tr>\n",
       "  </tbody>\n",
       "</table>\n"
      ],
      "text/plain": [
       "<pandas.io.formats.style.Styler at 0x23ef5eb5e80>"
      ]
     },
     "execution_count": 108,
     "metadata": {},
     "output_type": "execute_result"
    }
   ],
   "source": [
    "sql = \"\"\"\n",
    "SELECT * \n",
    "FROM stocks \n",
    "WHERE name = '%s'\n",
    "\"\"\"\n",
    "sql = sql % name\n",
    "print(sql)\n",
    "\n",
    "df_stocks = pd.read_sql(sql, conlite)\n",
    "df_stocks.style.format(format_dict)"
   ]
  },
  {
   "cell_type": "code",
   "execution_count": 103,
   "metadata": {},
   "outputs": [
    {
     "name": "stdout",
     "output_type": "stream",
     "text": [
      "Records deleted: 0\n"
     ]
    }
   ],
   "source": [
    "# Define the SQL query\n",
    "sqlDel = text(\"\"\"\n",
    "    DELETE FROM stocks\n",
    "    WHERE name = :name AND available_qty = 0;\n",
    "\"\"\")\n",
    "\n",
    "# Execute the query with the correct parameter dictionary\n",
    "result = conlite.execute(sqlDel, {'name': name})\n",
    "\n",
    "# Print the number of rows deleted\n",
    "print(f\"Records deleted: {result.rowcount}\")  "
   ]
  },
  {
   "cell_type": "markdown",
   "metadata": {},
   "source": [
    "### End of Update stocks table in SQLite port_lite database from sale transaction"
   ]
  },
  {
   "cell_type": "markdown",
   "metadata": {},
   "source": [
    "## End of Sale process"
   ]
  },
  {
   "cell_type": "markdown",
   "metadata": {},
   "source": [
    "### ====================================================="
   ]
  },
  {
   "cell_type": "markdown",
   "metadata": {},
   "source": [
    "## Begin of  Buy process"
   ]
  },
  {
   "cell_type": "markdown",
   "metadata": {},
   "source": [
    "### Begin of Update buy table in MySQL database from buy transaction"
   ]
  },
  {
   "cell_type": "code",
   "execution_count": 26,
   "metadata": {},
   "outputs": [
    {
     "name": "stdout",
     "output_type": "stream",
     "text": [
      "\n",
      "SELECT *, volbuy * price AS cost_amt \n",
      "FROM buy\n",
      "WHERE name = 'CPF'\n",
      "\n"
     ]
    },
    {
     "data": {
      "text/html": [
       "<div>\n",
       "<style scoped>\n",
       "    .dataframe tbody tr th:only-of-type {\n",
       "        vertical-align: middle;\n",
       "    }\n",
       "\n",
       "    .dataframe tbody tr th {\n",
       "        vertical-align: top;\n",
       "    }\n",
       "\n",
       "    .dataframe thead th {\n",
       "        text-align: right;\n",
       "    }\n",
       "</style>\n",
       "<table border=\"1\" class=\"dataframe\">\n",
       "  <thead>\n",
       "    <tr style=\"text-align: right;\">\n",
       "      <th></th>\n",
       "      <th>name</th>\n",
       "      <th>date</th>\n",
       "      <th>shares</th>\n",
       "      <th>price</th>\n",
       "      <th>active</th>\n",
       "      <th>dividend</th>\n",
       "      <th>period</th>\n",
       "      <th>grade</th>\n",
       "      <th>cost_amt</th>\n",
       "    </tr>\n",
       "  </thead>\n",
       "  <tbody>\n",
       "  </tbody>\n",
       "</table>\n",
       "</div>"
      ],
      "text/plain": [
       "Empty DataFrame\n",
       "Columns: [name, date, shares, price, active, dividend, period, grade, cost_amt]\n",
       "Index: []"
      ]
     },
     "execution_count": 26,
     "metadata": {},
     "output_type": "execute_result"
    }
   ],
   "source": [
    "sql = \"\"\"\n",
    "SELECT *, volbuy * price AS cost_amt \n",
    "FROM buy\n",
    "WHERE name = '%s'\n",
    "\"\"\"\n",
    "sql = sql % name\n",
    "print(sql)\n",
    "\n",
    "df_buy = pd.read_sql(sql, const)\n",
    "df_buy['date'] = pd.to_datetime(df_buy['date'])\n",
    "df_buy.drop(['volsell', 'volbal'], axis=1, inplace = True)\n",
    "df_buy.rename(columns={'volbuy':'shares'}, inplace = True)\n",
    "df_buy['shares'] = df_buy['shares'].astype('int64')\n",
    "df_buy"
   ]
  },
  {
   "cell_type": "code",
   "execution_count": 28,
   "metadata": {},
   "outputs": [
    {
     "name": "stdout",
     "output_type": "stream",
     "text": [
      "B CPF 4000 24.1\n"
     ]
    }
   ],
   "source": [
    "print(transaction, name, qty, buy_price)"
   ]
  },
  {
   "cell_type": "code",
   "execution_count": 32,
   "metadata": {},
   "outputs": [
    {
     "name": "stdout",
     "output_type": "stream",
     "text": [
      "24.1\n",
      "4000\n"
     ]
    }
   ],
   "source": [
    "#new_unit_cost = df_buy['cost_amt'].iloc[0] + (qty * buy_price)\n",
    "new_unit_cost = 24.10\n",
    "#new_qty = df_buy['shares'].iloc[0] + qty\n",
    "new_qty = 4_000\n",
    "print(new_unit_cost)\n",
    "print(new_qty)\n",
    "#new_unit_cost = new_unit_cost / new_qty\n",
    "#print(new_unit_cost)"
   ]
  },
  {
   "cell_type": "code",
   "execution_count": 34,
   "metadata": {},
   "outputs": [],
   "source": [
    "#new_unit_cost = 10.60\n",
    "#print(new_unit_cost)"
   ]
  },
  {
   "cell_type": "markdown",
   "metadata": {},
   "source": [
    "### In case there is the same stock name in port"
   ]
  },
  {
   "cell_type": "code",
   "execution_count": 25,
   "metadata": {},
   "outputs": [],
   "source": [
    "def update_buy(const, name, new_qty, new_unit_cost):\n",
    "    # Extract scalar values from Pandas Series\n",
    "    new_qty_value = new_qty\n",
    "    new_unit_cost_value = new_unit_cost\n",
    "    \n",
    "    # Use parameterized query to avoid SQL injection\n",
    "    sqlUpd = text(\"\"\"\n",
    "        UPDATE buy\n",
    "        SET volbuy = :new_qty, \n",
    "            price = :new_unit_cost\n",
    "        WHERE name = :name\n",
    "    \"\"\")\n",
    "    \n",
    "    # Execute the query with parameters\n",
    "    result = const.execute(sqlUpd, {\n",
    "        'new_qty': new_qty_value,  # Use the scalar value\n",
    "        'new_unit_cost': new_unit_cost_value,  # Use the scalar value\n",
    "        'name': name\n",
    "    })\n",
    "\n",
    "    return f\"Records updated = {result.rowcount}\""
   ]
  },
  {
   "cell_type": "code",
   "execution_count": 27,
   "metadata": {},
   "outputs": [
    {
     "data": {
      "text/plain": [
       "'Records updated = 1'"
      ]
     },
     "execution_count": 27,
     "metadata": {},
     "output_type": "execute_result"
    }
   ],
   "source": [
    "# Example usage\n",
    "update_buy(const, name, new_qty, new_unit_cost)"
   ]
  },
  {
   "cell_type": "code",
   "execution_count": 29,
   "metadata": {},
   "outputs": [
    {
     "name": "stdout",
     "output_type": "stream",
     "text": [
      "\n",
      "SELECT * \n",
      "FROM buy \n",
      "WHERE name = 'RCL'\n",
      "\n"
     ]
    },
    {
     "data": {
      "text/html": [
       "<style type=\"text/css\">\n",
       "</style>\n",
       "<table id=\"T_f5b12\">\n",
       "  <thead>\n",
       "    <tr>\n",
       "      <th class=\"blank level0\" >&nbsp;</th>\n",
       "      <th id=\"T_f5b12_level0_col0\" class=\"col_heading level0 col0\" >name</th>\n",
       "      <th id=\"T_f5b12_level0_col1\" class=\"col_heading level0 col1\" >date</th>\n",
       "      <th id=\"T_f5b12_level0_col2\" class=\"col_heading level0 col2\" >shares</th>\n",
       "      <th id=\"T_f5b12_level0_col3\" class=\"col_heading level0 col3\" >price</th>\n",
       "      <th id=\"T_f5b12_level0_col4\" class=\"col_heading level0 col4\" >active</th>\n",
       "      <th id=\"T_f5b12_level0_col5\" class=\"col_heading level0 col5\" >dividend</th>\n",
       "      <th id=\"T_f5b12_level0_col6\" class=\"col_heading level0 col6\" >period</th>\n",
       "      <th id=\"T_f5b12_level0_col7\" class=\"col_heading level0 col7\" >grade</th>\n",
       "    </tr>\n",
       "  </thead>\n",
       "  <tbody>\n",
       "    <tr>\n",
       "      <th id=\"T_f5b12_level0_row0\" class=\"row_heading level0 row0\" >0</th>\n",
       "      <td id=\"T_f5b12_row0_col0\" class=\"data row0 col0\" >RCL</td>\n",
       "      <td id=\"T_f5b12_row0_col1\" class=\"data row0 col1\" >2021-11-08</td>\n",
       "      <td id=\"T_f5b12_row0_col2\" class=\"data row0 col2\" >27,000</td>\n",
       "      <td id=\"T_f5b12_row0_col3\" class=\"data row0 col3\" >38.80</td>\n",
       "      <td id=\"T_f5b12_row0_col4\" class=\"data row0 col4\" >1</td>\n",
       "      <td id=\"T_f5b12_row0_col5\" class=\"data row0 col5\" >2.5000</td>\n",
       "      <td id=\"T_f5b12_row0_col6\" class=\"data row0 col6\" >3</td>\n",
       "      <td id=\"T_f5b12_row0_col7\" class=\"data row0 col7\" >A3</td>\n",
       "    </tr>\n",
       "  </tbody>\n",
       "</table>\n"
      ],
      "text/plain": [
       "<pandas.io.formats.style.Styler at 0x203cbae8470>"
      ]
     },
     "execution_count": 29,
     "metadata": {},
     "output_type": "execute_result"
    }
   ],
   "source": [
    "sql = \"\"\"\n",
    "SELECT * \n",
    "FROM buy \n",
    "WHERE name = '%s'\n",
    "\"\"\"\n",
    "sql = sql % name\n",
    "print(sql)\n",
    "\n",
    "buy = pd.read_sql(sql, const)\n",
    "buy.drop(['volsell', 'volbal'], axis=1, inplace=True)\n",
    "buy.rename(columns={'volbuy':'shares'},inplace=True)\n",
    "buy['shares'] = buy['shares'].astype('int64')\n",
    "buy.style.format(format_dict)"
   ]
  },
  {
   "cell_type": "markdown",
   "metadata": {},
   "source": [
    "### In case of totally new stock"
   ]
  },
  {
   "cell_type": "code",
   "execution_count": 36,
   "metadata": {},
   "outputs": [
    {
     "data": {
      "text/plain": [
       "1"
      ]
     },
     "execution_count": 36,
     "metadata": {},
     "output_type": "execute_result"
    }
   ],
   "source": [
    "rcd = {\n",
    "    'name': 'CPF',\n",
    "    'date': '2025-08-21',\n",
    "    'volbuy': 4000,\n",
    "    'price': 24.1,\n",
    "    'volsell': 0,\n",
    "    'volbal': 0,\n",
    "    'active': 1,\n",
    "    'dividend': 0,\n",
    "    'period': 4,\n",
    "    'grade': 'A1'\n",
    "}\n",
    "sqlIns = text(\"\"\"\n",
    "INSERT INTO buy (name, date, volbuy, price, volsell, volbal, active, dividend, period, grade)\n",
    "VALUES (:name, :date, :volbuy, :price, :volsell, :volbal, :active, :dividend, :period, :grade)\n",
    "\"\"\")\n",
    "result = const.execute(sqlIns, rcd)\n",
    "result.rowcount"
   ]
  },
  {
   "cell_type": "code",
   "execution_count": 68,
   "metadata": {},
   "outputs": [],
   "source": [
    "#name = 'CPF'"
   ]
  },
  {
   "cell_type": "code",
   "execution_count": 38,
   "metadata": {},
   "outputs": [
    {
     "name": "stdout",
     "output_type": "stream",
     "text": [
      "\n",
      "SELECT * \n",
      "FROM buy \n",
      "WHERE name = 'CPF'\n",
      "\n"
     ]
    },
    {
     "data": {
      "text/html": [
       "<style type=\"text/css\">\n",
       "</style>\n",
       "<table id=\"T_7c52c\">\n",
       "  <thead>\n",
       "    <tr>\n",
       "      <th class=\"blank level0\" >&nbsp;</th>\n",
       "      <th id=\"T_7c52c_level0_col0\" class=\"col_heading level0 col0\" >name</th>\n",
       "      <th id=\"T_7c52c_level0_col1\" class=\"col_heading level0 col1\" >date</th>\n",
       "      <th id=\"T_7c52c_level0_col2\" class=\"col_heading level0 col2\" >shares</th>\n",
       "      <th id=\"T_7c52c_level0_col3\" class=\"col_heading level0 col3\" >price</th>\n",
       "      <th id=\"T_7c52c_level0_col4\" class=\"col_heading level0 col4\" >active</th>\n",
       "      <th id=\"T_7c52c_level0_col5\" class=\"col_heading level0 col5\" >dividend</th>\n",
       "      <th id=\"T_7c52c_level0_col6\" class=\"col_heading level0 col6\" >period</th>\n",
       "      <th id=\"T_7c52c_level0_col7\" class=\"col_heading level0 col7\" >grade</th>\n",
       "    </tr>\n",
       "  </thead>\n",
       "  <tbody>\n",
       "    <tr>\n",
       "      <th id=\"T_7c52c_level0_row0\" class=\"row_heading level0 row0\" >0</th>\n",
       "      <td id=\"T_7c52c_row0_col0\" class=\"data row0 col0\" >CPF</td>\n",
       "      <td id=\"T_7c52c_row0_col1\" class=\"data row0 col1\" >2025-08-21</td>\n",
       "      <td id=\"T_7c52c_row0_col2\" class=\"data row0 col2\" >4,000</td>\n",
       "      <td id=\"T_7c52c_row0_col3\" class=\"data row0 col3\" >24.10</td>\n",
       "      <td id=\"T_7c52c_row0_col4\" class=\"data row0 col4\" >1</td>\n",
       "      <td id=\"T_7c52c_row0_col5\" class=\"data row0 col5\" >0.0000</td>\n",
       "      <td id=\"T_7c52c_row0_col6\" class=\"data row0 col6\" >4</td>\n",
       "      <td id=\"T_7c52c_row0_col7\" class=\"data row0 col7\" >A1</td>\n",
       "    </tr>\n",
       "  </tbody>\n",
       "</table>\n"
      ],
      "text/plain": [
       "<pandas.io.formats.style.Styler at 0x23ef4f3fd10>"
      ]
     },
     "execution_count": 38,
     "metadata": {},
     "output_type": "execute_result"
    }
   ],
   "source": [
    "sql = \"\"\"\n",
    "SELECT * \n",
    "FROM buy \n",
    "WHERE name = '%s'\n",
    "\"\"\"\n",
    "sql = sql % name\n",
    "print(sql)\n",
    "\n",
    "df_buy = pd.read_sql(sql, const)\n",
    "df_buy.drop(['volsell', 'volbal'], axis=1, inplace=True)\n",
    "df_buy.rename(columns={'volbuy':'shares'},inplace=True)\n",
    "df_buy['shares'] = df_buy['shares'].astype('int64')\n",
    "df_buy.style.format(format_dict)"
   ]
  },
  {
   "cell_type": "markdown",
   "metadata": {},
   "source": [
    "### End of Update buy table in MySQL database from buy transaction"
   ]
  },
  {
   "cell_type": "markdown",
   "metadata": {},
   "source": [
    "### Begin of Update dividend table in MySQL stock database from buy transaction"
   ]
  },
  {
   "cell_type": "code",
   "execution_count": 40,
   "metadata": {},
   "outputs": [
    {
     "name": "stdout",
     "output_type": "stream",
     "text": [
      "\n",
      "SELECT * \n",
      "FROM dividend \n",
      "WHERE name = 'CPF' \n",
      "\n"
     ]
    },
    {
     "data": {
      "text/html": [
       "<style type=\"text/css\">\n",
       "</style>\n",
       "<table id=\"T_6a0ea\">\n",
       "  <thead>\n",
       "    <tr>\n",
       "      <th class=\"blank level0\" >&nbsp;</th>\n",
       "      <th id=\"T_6a0ea_level0_col0\" class=\"col_heading level0 col0\" >name</th>\n",
       "      <th id=\"T_6a0ea_level0_col1\" class=\"col_heading level0 col1\" >q4</th>\n",
       "      <th id=\"T_6a0ea_level0_col2\" class=\"col_heading level0 col2\" >q3</th>\n",
       "      <th id=\"T_6a0ea_level0_col3\" class=\"col_heading level0 col3\" >q2</th>\n",
       "      <th id=\"T_6a0ea_level0_col4\" class=\"col_heading level0 col4\" >q1</th>\n",
       "      <th id=\"T_6a0ea_level0_col5\" class=\"col_heading level0 col5\" >dividend</th>\n",
       "      <th id=\"T_6a0ea_level0_col6\" class=\"col_heading level0 col6\" >shares</th>\n",
       "      <th id=\"T_6a0ea_level0_col7\" class=\"col_heading level0 col7\" >xdate</th>\n",
       "      <th id=\"T_6a0ea_level0_col8\" class=\"col_heading level0 col8\" >paiddate</th>\n",
       "      <th id=\"T_6a0ea_level0_col9\" class=\"col_heading level0 col9\" >kind</th>\n",
       "      <th id=\"T_6a0ea_level0_col10\" class=\"col_heading level0 col10\" >actual</th>\n",
       "    </tr>\n",
       "  </thead>\n",
       "  <tbody>\n",
       "    <tr>\n",
       "      <th id=\"T_6a0ea_level0_row0\" class=\"row_heading level0 row0\" >0</th>\n",
       "      <td id=\"T_6a0ea_row0_col0\" class=\"data row0 col0\" >CPF</td>\n",
       "      <td id=\"T_6a0ea_row0_col1\" class=\"data row0 col1\" >0.5500</td>\n",
       "      <td id=\"T_6a0ea_row0_col2\" class=\"data row0 col2\" >0.0000</td>\n",
       "      <td id=\"T_6a0ea_row0_col3\" class=\"data row0 col3\" >1.0000</td>\n",
       "      <td id=\"T_6a0ea_row0_col4\" class=\"data row0 col4\" >0.0000</td>\n",
       "      <td id=\"T_6a0ea_row0_col5\" class=\"data row0 col5\" >1.5500</td>\n",
       "      <td id=\"T_6a0ea_row0_col6\" class=\"data row0 col6\" >0</td>\n",
       "      <td id=\"T_6a0ea_row0_col7\" class=\"data row0 col7\" >2025-08-29</td>\n",
       "      <td id=\"T_6a0ea_row0_col8\" class=\"data row0 col8\" >2025-09-12</td>\n",
       "      <td id=\"T_6a0ea_row0_col9\" class=\"data row0 col9\" ></td>\n",
       "      <td id=\"T_6a0ea_row0_col10\" class=\"data row0 col10\" >1</td>\n",
       "    </tr>\n",
       "  </tbody>\n",
       "</table>\n"
      ],
      "text/plain": [
       "<pandas.io.formats.style.Styler at 0x23ef87b3680>"
      ]
     },
     "execution_count": 40,
     "metadata": {},
     "output_type": "execute_result"
    }
   ],
   "source": [
    "sql = \"\"\"\n",
    "SELECT * \n",
    "FROM dividend \n",
    "WHERE name = '%s' \n",
    "\"\"\"\n",
    "sql = sql % name\n",
    "print(sql)\n",
    "\n",
    "df_dividend = pd.read_sql(sql, const)\n",
    "df_dividend.drop(['PRICE', 'PERCENT'], axis=1, inplace=True)\n",
    "df_dividend.columns = df_dividend.columns.str.lower()\n",
    "df_dividend['shares'] = df_dividend['shares'].astype('int64')\n",
    "df_dividend['xdate'] = pd.to_datetime(df_dividend['xdate'])\n",
    "df_dividend['paiddate'] = pd.to_datetime(df_dividend['paiddate'])\n",
    "df_dividend.style.format(format_dict)"
   ]
  },
  {
   "cell_type": "code",
   "execution_count": 42,
   "metadata": {},
   "outputs": [
    {
     "name": "stdout",
     "output_type": "stream",
     "text": [
      "4000\n"
     ]
    }
   ],
   "source": [
    "new_qty = df_dividend['shares'].iloc[0] + qty\n",
    "print(new_qty)"
   ]
  },
  {
   "cell_type": "code",
   "execution_count": 44,
   "metadata": {},
   "outputs": [],
   "source": [
    "def update_dividend(const, name, new_qty):\n",
    "    # Extract scalar values from Pandas Series\n",
    "    new_qty_value = new_qty  \n",
    "    # Use parameterized query to avoid SQL injection\n",
    "    sqlUpd = text(\"\"\"\n",
    "        UPDATE dividend\n",
    "        SET shares = :new_qty\n",
    "        WHERE name = :name\n",
    "    \"\"\")\n",
    "    \n",
    "    # Execute the query with parameters\n",
    "    result = const.execute(sqlUpd, {\n",
    "        'new_qty': new_qty_value,  # Use the scalar value\n",
    "        'name': name\n",
    "    })\n",
    "\n",
    "    return f\"Records updated = {result.rowcount}\""
   ]
  },
  {
   "cell_type": "code",
   "execution_count": 46,
   "metadata": {},
   "outputs": [
    {
     "data": {
      "text/plain": [
       "'Records updated = 1'"
      ]
     },
     "execution_count": 46,
     "metadata": {},
     "output_type": "execute_result"
    }
   ],
   "source": [
    "update_dividend(const, name, new_qty)"
   ]
  },
  {
   "cell_type": "markdown",
   "metadata": {},
   "source": [
    "### In case of totally new dividend"
   ]
  },
  {
   "cell_type": "code",
   "execution_count": 75,
   "metadata": {},
   "outputs": [
    {
     "data": {
      "text/plain": [
       "['CPF', 0.0, 0, 1.0, 0, 100, 4000, '2023-08-29', '2023-09-12', '', 1]"
      ]
     },
     "execution_count": 75,
     "metadata": {},
     "output_type": "execute_result"
    }
   ],
   "source": [
    "rcd = ['CPF', 0.0, 0, 1.00, 0, 100, 4000, '2023-08-29', '2023-09-12', '', 1]\n",
    "rcd"
   ]
  },
  {
   "cell_type": "code",
   "execution_count": 87,
   "metadata": {},
   "outputs": [
    {
     "name": "stdout",
     "output_type": "stream",
     "text": [
      "\n",
      "INSERT INTO dividend (name, q4, q3, q2, q1, dividend, shares, xdate, paiddate, kind, actual)\n",
      "VALUES (:name, :q4, :q3, :q2, :q1, :dividend, :shares, :xdate, :paiddate, :kind, :actual)\n",
      "\n"
     ]
    }
   ],
   "source": [
    "rcd = {\n",
    "    'name': 'CPF',\n",
    "    'q4': '0',\n",
    "    'q3': '0',\n",
    "    'q2': '1.00',\n",
    "    'q1': '0',    \n",
    "    'dividend': '1.00',      \n",
    "    'shares': 4000,\n",
    "    'xdate': '2025-08-29',\n",
    "    'paiddate': '2025-09-12',\n",
    "    'kind': ' ',\n",
    "    'actual': 1\n",
    "}\n",
    "sqlIns = text(\"\"\"\n",
    "INSERT INTO dividend (name, q4, q3, q2, q1, dividend, shares, xdate, paiddate, kind, actual)\n",
    "VALUES (:name, :q4, :q3, :q2, :q1, :dividend, :shares, :xdate, :paiddate, :kind, :actual)\n",
    "\"\"\")\n",
    "print(sqlIns)"
   ]
  },
  {
   "cell_type": "code",
   "execution_count": 89,
   "metadata": {},
   "outputs": [
    {
     "data": {
      "text/plain": [
       "1"
      ]
     },
     "execution_count": 89,
     "metadata": {},
     "output_type": "execute_result"
    }
   ],
   "source": [
    "result = const.execute(sqlIns, rcd)\n",
    "result.rowcount"
   ]
  },
  {
   "cell_type": "code",
   "execution_count": 91,
   "metadata": {},
   "outputs": [
    {
     "name": "stdout",
     "output_type": "stream",
     "text": [
      "\n",
      "SELECT * \n",
      "FROM dividend \n",
      "WHERE name = 'CPF' \n",
      "\n"
     ]
    },
    {
     "data": {
      "text/html": [
       "<style type=\"text/css\">\n",
       "</style>\n",
       "<table id=\"T_a5b90\">\n",
       "  <thead>\n",
       "    <tr>\n",
       "      <th class=\"blank level0\" >&nbsp;</th>\n",
       "      <th id=\"T_a5b90_level0_col0\" class=\"col_heading level0 col0\" >name</th>\n",
       "      <th id=\"T_a5b90_level0_col1\" class=\"col_heading level0 col1\" >q4</th>\n",
       "      <th id=\"T_a5b90_level0_col2\" class=\"col_heading level0 col2\" >q3</th>\n",
       "      <th id=\"T_a5b90_level0_col3\" class=\"col_heading level0 col3\" >q2</th>\n",
       "      <th id=\"T_a5b90_level0_col4\" class=\"col_heading level0 col4\" >q1</th>\n",
       "      <th id=\"T_a5b90_level0_col5\" class=\"col_heading level0 col5\" >dividend</th>\n",
       "      <th id=\"T_a5b90_level0_col6\" class=\"col_heading level0 col6\" >shares</th>\n",
       "      <th id=\"T_a5b90_level0_col7\" class=\"col_heading level0 col7\" >xdate</th>\n",
       "      <th id=\"T_a5b90_level0_col8\" class=\"col_heading level0 col8\" >paiddate</th>\n",
       "      <th id=\"T_a5b90_level0_col9\" class=\"col_heading level0 col9\" >kind</th>\n",
       "      <th id=\"T_a5b90_level0_col10\" class=\"col_heading level0 col10\" >actual</th>\n",
       "    </tr>\n",
       "  </thead>\n",
       "  <tbody>\n",
       "    <tr>\n",
       "      <th id=\"T_a5b90_level0_row0\" class=\"row_heading level0 row0\" >0</th>\n",
       "      <td id=\"T_a5b90_row0_col0\" class=\"data row0 col0\" >CPF</td>\n",
       "      <td id=\"T_a5b90_row0_col1\" class=\"data row0 col1\" >0.0000</td>\n",
       "      <td id=\"T_a5b90_row0_col2\" class=\"data row0 col2\" >0.0000</td>\n",
       "      <td id=\"T_a5b90_row0_col3\" class=\"data row0 col3\" >1.0000</td>\n",
       "      <td id=\"T_a5b90_row0_col4\" class=\"data row0 col4\" >0.0000</td>\n",
       "      <td id=\"T_a5b90_row0_col5\" class=\"data row0 col5\" >1.0000</td>\n",
       "      <td id=\"T_a5b90_row0_col6\" class=\"data row0 col6\" >4,000</td>\n",
       "      <td id=\"T_a5b90_row0_col7\" class=\"data row0 col7\" >2025-08-29</td>\n",
       "      <td id=\"T_a5b90_row0_col8\" class=\"data row0 col8\" >2025-09-12</td>\n",
       "      <td id=\"T_a5b90_row0_col9\" class=\"data row0 col9\" ></td>\n",
       "      <td id=\"T_a5b90_row0_col10\" class=\"data row0 col10\" >1</td>\n",
       "    </tr>\n",
       "  </tbody>\n",
       "</table>\n"
      ],
      "text/plain": [
       "<pandas.io.formats.style.Styler at 0x203cea2db50>"
      ]
     },
     "execution_count": 91,
     "metadata": {},
     "output_type": "execute_result"
    }
   ],
   "source": [
    "sql = \"\"\"\n",
    "SELECT * \n",
    "FROM dividend \n",
    "WHERE name = '%s' \n",
    "\"\"\"\n",
    "sql = sql % name\n",
    "print(sql)\n",
    "\n",
    "dividend = pd.read_sql(sql, const)\n",
    "dividend.drop(['PRICE', 'PERCENT'], axis=1, inplace=True)\n",
    "dividend.columns = dividend.columns.str.lower()\n",
    "dividend['shares'] = dividend['shares'].astype('int64')\n",
    "dividend['xdate'] = pd.to_datetime(dividend['xdate'])\n",
    "dividend['paiddate'] = pd.to_datetime(dividend['paiddate'])\n",
    "dividend.style.format(format_dict)"
   ]
  },
  {
   "cell_type": "code",
   "execution_count": 48,
   "metadata": {},
   "outputs": [
    {
     "name": "stdout",
     "output_type": "stream",
     "text": [
      "\n",
      "SELECT * \n",
      "FROM dividend \n",
      "WHERE name = 'CPF' \n",
      "\n"
     ]
    },
    {
     "data": {
      "text/html": [
       "<style type=\"text/css\">\n",
       "</style>\n",
       "<table id=\"T_34b7b\">\n",
       "  <thead>\n",
       "    <tr>\n",
       "      <th class=\"blank level0\" >&nbsp;</th>\n",
       "      <th id=\"T_34b7b_level0_col0\" class=\"col_heading level0 col0\" >name</th>\n",
       "      <th id=\"T_34b7b_level0_col1\" class=\"col_heading level0 col1\" >q4</th>\n",
       "      <th id=\"T_34b7b_level0_col2\" class=\"col_heading level0 col2\" >q3</th>\n",
       "      <th id=\"T_34b7b_level0_col3\" class=\"col_heading level0 col3\" >q2</th>\n",
       "      <th id=\"T_34b7b_level0_col4\" class=\"col_heading level0 col4\" >q1</th>\n",
       "      <th id=\"T_34b7b_level0_col5\" class=\"col_heading level0 col5\" >dividend</th>\n",
       "      <th id=\"T_34b7b_level0_col6\" class=\"col_heading level0 col6\" >shares</th>\n",
       "      <th id=\"T_34b7b_level0_col7\" class=\"col_heading level0 col7\" >xdate</th>\n",
       "      <th id=\"T_34b7b_level0_col8\" class=\"col_heading level0 col8\" >paiddate</th>\n",
       "      <th id=\"T_34b7b_level0_col9\" class=\"col_heading level0 col9\" >kind</th>\n",
       "      <th id=\"T_34b7b_level0_col10\" class=\"col_heading level0 col10\" >actual</th>\n",
       "    </tr>\n",
       "  </thead>\n",
       "  <tbody>\n",
       "    <tr>\n",
       "      <th id=\"T_34b7b_level0_row0\" class=\"row_heading level0 row0\" >0</th>\n",
       "      <td id=\"T_34b7b_row0_col0\" class=\"data row0 col0\" >CPF</td>\n",
       "      <td id=\"T_34b7b_row0_col1\" class=\"data row0 col1\" >0.5500</td>\n",
       "      <td id=\"T_34b7b_row0_col2\" class=\"data row0 col2\" >0.0000</td>\n",
       "      <td id=\"T_34b7b_row0_col3\" class=\"data row0 col3\" >1.0000</td>\n",
       "      <td id=\"T_34b7b_row0_col4\" class=\"data row0 col4\" >0.0000</td>\n",
       "      <td id=\"T_34b7b_row0_col5\" class=\"data row0 col5\" >1.5500</td>\n",
       "      <td id=\"T_34b7b_row0_col6\" class=\"data row0 col6\" >4,000</td>\n",
       "      <td id=\"T_34b7b_row0_col7\" class=\"data row0 col7\" >2025-08-29</td>\n",
       "      <td id=\"T_34b7b_row0_col8\" class=\"data row0 col8\" >2025-09-12</td>\n",
       "      <td id=\"T_34b7b_row0_col9\" class=\"data row0 col9\" ></td>\n",
       "      <td id=\"T_34b7b_row0_col10\" class=\"data row0 col10\" >1</td>\n",
       "    </tr>\n",
       "  </tbody>\n",
       "</table>\n"
      ],
      "text/plain": [
       "<pandas.io.formats.style.Styler at 0x23ef87b30e0>"
      ]
     },
     "execution_count": 48,
     "metadata": {},
     "output_type": "execute_result"
    }
   ],
   "source": [
    "sql = \"\"\"\n",
    "SELECT * \n",
    "FROM dividend \n",
    "WHERE name = '%s' \n",
    "\"\"\"\n",
    "sql = sql % name\n",
    "print(sql)\n",
    "\n",
    "df_dividend = pd.read_sql(sql, const)\n",
    "df_dividend.drop(['PRICE', 'PERCENT'], axis=1, inplace=True)\n",
    "df_dividend.columns = df_dividend.columns.str.lower()\n",
    "df_dividend['shares'] = df_dividend['shares'].astype('int64')\n",
    "df_dividend['xdate'] = pd.to_datetime(df_dividend['xdate'])\n",
    "df_dividend['paiddate'] = pd.to_datetime(df_dividend['paiddate'])\n",
    "df_dividend.style.format(format_dict)"
   ]
  },
  {
   "cell_type": "markdown",
   "metadata": {},
   "source": [
    "### End of Create dividend table in MySQL stock database from buy transaction"
   ]
  },
  {
   "cell_type": "markdown",
   "metadata": {},
   "source": [
    "### Begin of Update stocks table in SQLite port_lite database from buy transaction"
   ]
  },
  {
   "cell_type": "code",
   "execution_count": 51,
   "metadata": {
    "scrolled": true
   },
   "outputs": [
    {
     "name": "stdout",
     "output_type": "stream",
     "text": [
      "\n",
      "SELECT * \n",
      "FROM stocks \n",
      "WHERE name = 'CPF'\n",
      "\n"
     ]
    },
    {
     "data": {
      "text/html": [
       "<div>\n",
       "<style scoped>\n",
       "    .dataframe tbody tr th:only-of-type {\n",
       "        vertical-align: middle;\n",
       "    }\n",
       "\n",
       "    .dataframe tbody tr th {\n",
       "        vertical-align: top;\n",
       "    }\n",
       "\n",
       "    .dataframe thead th {\n",
       "        text-align: right;\n",
       "    }\n",
       "</style>\n",
       "<table border=\"1\" class=\"dataframe\">\n",
       "  <thead>\n",
       "    <tr style=\"text-align: right;\">\n",
       "      <th></th>\n",
       "      <th>id</th>\n",
       "      <th>name</th>\n",
       "      <th>max_price</th>\n",
       "      <th>min_price</th>\n",
       "      <th>status</th>\n",
       "      <th>buy_target</th>\n",
       "      <th>sell_target</th>\n",
       "      <th>volume</th>\n",
       "      <th>beta</th>\n",
       "      <th>cost</th>\n",
       "      <th>qty</th>\n",
       "      <th>buy_spread</th>\n",
       "      <th>sell_spread</th>\n",
       "      <th>available_qty</th>\n",
       "      <th>bl</th>\n",
       "      <th>sh</th>\n",
       "      <th>reason</th>\n",
       "      <th>market</th>\n",
       "    </tr>\n",
       "  </thead>\n",
       "  <tbody>\n",
       "    <tr>\n",
       "      <th>0</th>\n",
       "      <td>152</td>\n",
       "      <td>CPF</td>\n",
       "      <td>24.4</td>\n",
       "      <td>23.9</td>\n",
       "      <td>B</td>\n",
       "      <td>24.1</td>\n",
       "      <td>24.3</td>\n",
       "      <td>4000.0</td>\n",
       "      <td>0.0</td>\n",
       "      <td>0.0</td>\n",
       "      <td>4000</td>\n",
       "      <td>-4</td>\n",
       "      <td>4</td>\n",
       "      <td>0</td>\n",
       "      <td>0.0</td>\n",
       "      <td>0.0</td>\n",
       "      <td></td>\n",
       "      <td>SET50</td>\n",
       "    </tr>\n",
       "  </tbody>\n",
       "</table>\n",
       "</div>"
      ],
      "text/plain": [
       "    id name  max_price  min_price status  buy_target  sell_target  volume  \\\n",
       "0  152  CPF       24.4       23.9      B        24.1         24.3  4000.0   \n",
       "\n",
       "   beta  cost   qty  buy_spread  sell_spread  available_qty   bl   sh reason  \\\n",
       "0   0.0   0.0  4000          -4            4              0  0.0  0.0          \n",
       "\n",
       "  market  \n",
       "0  SET50  "
      ]
     },
     "execution_count": 51,
     "metadata": {},
     "output_type": "execute_result"
    }
   ],
   "source": [
    "sql = \"\"\"\n",
    "SELECT * \n",
    "FROM stocks \n",
    "WHERE name = '%s'\n",
    "\"\"\"\n",
    "sql = sql % name\n",
    "print(sql)\n",
    "\n",
    "df_stocks = pd.read_sql(sql, conlite)\n",
    "df_stocks"
   ]
  },
  {
   "cell_type": "code",
   "execution_count": 53,
   "metadata": {},
   "outputs": [
    {
     "name": "stdout",
     "output_type": "stream",
     "text": [
      "B CPF 4000 24.1 24.1 24.3 5000\n"
     ]
    }
   ],
   "source": [
    "#\n",
    "new_buy_target = 24.1\n",
    "new_sell_target = 24.30\n",
    "new_buy_qty = 5_000\n",
    "print(transaction, name, qty, buy_price, new_buy_target, new_sell_target, new_buy_qty) "
   ]
  },
  {
   "cell_type": "code",
   "execution_count": 55,
   "metadata": {},
   "outputs": [
    {
     "name": "stdout",
     "output_type": "stream",
     "text": [
      "4000\n"
     ]
    }
   ],
   "source": [
    "new_qty = 4_000\n",
    "print(new_qty)"
   ]
  },
  {
   "cell_type": "code",
   "execution_count": 57,
   "metadata": {},
   "outputs": [
    {
     "name": "stdout",
     "output_type": "stream",
     "text": [
      "24.1\n"
     ]
    }
   ],
   "source": [
    "new_unit_cost = 24.10\n",
    "print(new_unit_cost)"
   ]
  },
  {
   "cell_type": "code",
   "execution_count": 59,
   "metadata": {},
   "outputs": [],
   "source": [
    "def update_stock(conlite, name, new_qty, new_unit_cost, new_buy_target, new_sell_target, new_buy_qty):\n",
    "    # Extract scalar values from Pandas Series\n",
    "    new_qty_value = int(new_qty)\n",
    "    new_unit_cost_value = float(new_unit_cost)   \n",
    "    # Use parameterized query to avoid SQL injection\n",
    "    sqlUpd = text(\"\"\"\n",
    "        UPDATE stocks\n",
    "        SET available_qty = :new_qty, \n",
    "            cost = :new_unit_cost,\n",
    "            buy_target = :new_buy_target,\n",
    "            sell_target = :new_sell_target,    \n",
    "            qty = :new_buy_qty\n",
    "        WHERE name = :name\n",
    "    \"\"\")    \n",
    "    # Execute the query with parameters\n",
    "    result = conlite.execute(sqlUpd, {\n",
    "        'new_qty': new_qty_value,  # Use the scalar value\n",
    "        'new_unit_cost': new_unit_cost_value, # Use the scalar value \n",
    "        'new_buy_target': new_buy_target,\n",
    "        'new_sell_target': new_sell_target,     \n",
    "        'new_buy_qty': new_buy_qty,\n",
    "        'name': name\n",
    "    })\n",
    "    return f\"Records updated = {result.rowcount}\""
   ]
  },
  {
   "cell_type": "code",
   "execution_count": 61,
   "metadata": {},
   "outputs": [
    {
     "data": {
      "text/plain": [
       "'Records updated = 1'"
      ]
     },
     "execution_count": 61,
     "metadata": {},
     "output_type": "execute_result"
    }
   ],
   "source": [
    "# Example usage\n",
    "update_stock(conlite, name, new_qty, new_unit_cost, new_buy_target, new_sell_target, new_buy_qty)"
   ]
  },
  {
   "cell_type": "code",
   "execution_count": 63,
   "metadata": {},
   "outputs": [
    {
     "name": "stdout",
     "output_type": "stream",
     "text": [
      "\n",
      "SELECT * \n",
      "FROM stocks \n",
      "WHERE name = 'CPF'\n",
      "\n"
     ]
    },
    {
     "data": {
      "text/html": [
       "<div>\n",
       "<style scoped>\n",
       "    .dataframe tbody tr th:only-of-type {\n",
       "        vertical-align: middle;\n",
       "    }\n",
       "\n",
       "    .dataframe tbody tr th {\n",
       "        vertical-align: top;\n",
       "    }\n",
       "\n",
       "    .dataframe thead th {\n",
       "        text-align: right;\n",
       "    }\n",
       "</style>\n",
       "<table border=\"1\" class=\"dataframe\">\n",
       "  <thead>\n",
       "    <tr style=\"text-align: right;\">\n",
       "      <th></th>\n",
       "      <th>id</th>\n",
       "      <th>name</th>\n",
       "      <th>max_price</th>\n",
       "      <th>min_price</th>\n",
       "      <th>status</th>\n",
       "      <th>buy_target</th>\n",
       "      <th>sell_target</th>\n",
       "      <th>volume</th>\n",
       "      <th>beta</th>\n",
       "      <th>cost</th>\n",
       "      <th>qty</th>\n",
       "      <th>buy_spread</th>\n",
       "      <th>sell_spread</th>\n",
       "      <th>available_qty</th>\n",
       "      <th>bl</th>\n",
       "      <th>sh</th>\n",
       "      <th>reason</th>\n",
       "      <th>market</th>\n",
       "    </tr>\n",
       "  </thead>\n",
       "  <tbody>\n",
       "    <tr>\n",
       "      <th>0</th>\n",
       "      <td>152</td>\n",
       "      <td>CPF</td>\n",
       "      <td>24.4</td>\n",
       "      <td>23.9</td>\n",
       "      <td>B</td>\n",
       "      <td>24.1</td>\n",
       "      <td>24.3</td>\n",
       "      <td>4000.0</td>\n",
       "      <td>0.0</td>\n",
       "      <td>24.1</td>\n",
       "      <td>5000</td>\n",
       "      <td>-4</td>\n",
       "      <td>4</td>\n",
       "      <td>4000</td>\n",
       "      <td>0.0</td>\n",
       "      <td>0.0</td>\n",
       "      <td></td>\n",
       "      <td>SET50</td>\n",
       "    </tr>\n",
       "  </tbody>\n",
       "</table>\n",
       "</div>"
      ],
      "text/plain": [
       "    id name  max_price  min_price status  buy_target  sell_target  volume  \\\n",
       "0  152  CPF       24.4       23.9      B        24.1         24.3  4000.0   \n",
       "\n",
       "   beta  cost   qty  buy_spread  sell_spread  available_qty   bl   sh reason  \\\n",
       "0   0.0  24.1  5000          -4            4           4000  0.0  0.0          \n",
       "\n",
       "  market  \n",
       "0  SET50  "
      ]
     },
     "execution_count": 63,
     "metadata": {},
     "output_type": "execute_result"
    }
   ],
   "source": [
    "sql = \"\"\"\n",
    "SELECT * \n",
    "FROM stocks \n",
    "WHERE name = '%s'\n",
    "\"\"\"\n",
    "sql = sql % name\n",
    "print(sql)\n",
    "\n",
    "df_stocks = pd.read_sql(sql, conlite)\n",
    "df_stocks"
   ]
  },
  {
   "cell_type": "markdown",
   "metadata": {},
   "source": [
    "### End of Update stocks table in SQLite port_lite database from buy transaction"
   ]
  },
  {
   "cell_type": "markdown",
   "metadata": {},
   "source": [
    "## End of  Buy process"
   ]
  },
  {
   "cell_type": "markdown",
   "metadata": {},
   "source": [
    "### ================================================="
   ]
  },
  {
   "cell_type": "code",
   "execution_count": 112,
   "metadata": {},
   "outputs": [
    {
     "name": "stdout",
     "output_type": "stream",
     "text": [
      "SELECT period, buy.grade AS grade, buy.name AS name, buy.date AS date, FORMAT(volbuy,0) AS volbuy, FORMAT(buy.price,2) AS buy_price, price.price AS mkt_price,FORMAT((volbuy * buy.price),2) AS amtbuy, FORMAT((volbuy * price.price),2) AS amtmkt, FORMAT(((price.price - buy.price) * volbuy),2) AS amtpol, FORMAT((((price.price - buy.price)*volbuy)/(volbuy*buy.price)*100),2) AS pctpol FROM buy INNER JOIN price ON buy.name = price.name WHERE price.date = '2025-08-20' ORDER BY period, buy.name\n"
     ]
    }
   ],
   "source": [
    "#price_date = '2025-02-14'\n",
    "sql = \"SELECT period, buy.grade AS grade, buy.name AS name, buy.date AS date, \\\n",
    "FORMAT(volbuy,0) AS volbuy, FORMAT(buy.price,2) AS buy_price, price.price AS mkt_price,\\\n",
    "FORMAT((volbuy * buy.price),2) AS amtbuy, FORMAT((volbuy * price.price),2) AS amtmkt, \\\n",
    "FORMAT(((price.price - buy.price) * volbuy),2) AS amtpol, \\\n",
    "FORMAT((((price.price - buy.price)*volbuy)/(volbuy*buy.price)*100),2) AS pctpol \\\n",
    "FROM buy INNER JOIN price ON buy.name = price.name WHERE price.date = '{}' \\\n",
    "ORDER BY period, buy.name\".format(yesterday)\n",
    "print(sql)"
   ]
  },
  {
   "cell_type": "code",
   "execution_count": 114,
   "metadata": {
    "scrolled": true
   },
   "outputs": [
    {
     "data": {
      "text/html": [
       "<div>\n",
       "<style scoped>\n",
       "    .dataframe tbody tr th:only-of-type {\n",
       "        vertical-align: middle;\n",
       "    }\n",
       "\n",
       "    .dataframe tbody tr th {\n",
       "        vertical-align: top;\n",
       "    }\n",
       "\n",
       "    .dataframe thead th {\n",
       "        text-align: right;\n",
       "    }\n",
       "</style>\n",
       "<table border=\"1\" class=\"dataframe\">\n",
       "  <thead>\n",
       "    <tr style=\"text-align: right;\">\n",
       "      <th></th>\n",
       "      <th>period</th>\n",
       "      <th>grade</th>\n",
       "      <th>name</th>\n",
       "      <th>date</th>\n",
       "      <th>volbuy</th>\n",
       "      <th>buy_price</th>\n",
       "      <th>mkt_price</th>\n",
       "      <th>amtbuy</th>\n",
       "      <th>amtmkt</th>\n",
       "      <th>amtpol</th>\n",
       "      <th>pctpol</th>\n",
       "    </tr>\n",
       "  </thead>\n",
       "  <tbody>\n",
       "    <tr>\n",
       "      <th>0</th>\n",
       "      <td>1</td>\n",
       "      <td>C1</td>\n",
       "      <td>AH</td>\n",
       "      <td>2023-06-08</td>\n",
       "      <td>1,200</td>\n",
       "      <td>37.00</td>\n",
       "      <td>14.50</td>\n",
       "      <td>44,400.00</td>\n",
       "      <td>17,400.00</td>\n",
       "      <td>-27,000.00</td>\n",
       "      <td>-60.81</td>\n",
       "    </tr>\n",
       "    <tr>\n",
       "      <th>1</th>\n",
       "      <td>1</td>\n",
       "      <td>A1</td>\n",
       "      <td>AWC</td>\n",
       "      <td>2023-06-15</td>\n",
       "      <td>9,000</td>\n",
       "      <td>4.96</td>\n",
       "      <td>2.50</td>\n",
       "      <td>44,640.00</td>\n",
       "      <td>22,500.00</td>\n",
       "      <td>-22,140.00</td>\n",
       "      <td>-49.60</td>\n",
       "    </tr>\n",
       "    <tr>\n",
       "      <th>2</th>\n",
       "      <td>1</td>\n",
       "      <td>A2</td>\n",
       "      <td>JMART</td>\n",
       "      <td>2023-01-20</td>\n",
       "      <td>6,800</td>\n",
       "      <td>33.00</td>\n",
       "      <td>8.40</td>\n",
       "      <td>224,400.00</td>\n",
       "      <td>57,120.00</td>\n",
       "      <td>-167,280.00</td>\n",
       "      <td>-74.55</td>\n",
       "    </tr>\n",
       "    <tr>\n",
       "      <th>3</th>\n",
       "      <td>1</td>\n",
       "      <td>C2</td>\n",
       "      <td>ORI</td>\n",
       "      <td>2022-04-07</td>\n",
       "      <td>50,000</td>\n",
       "      <td>9.00</td>\n",
       "      <td>2.34</td>\n",
       "      <td>450,000.00</td>\n",
       "      <td>117,000.00</td>\n",
       "      <td>-333,000.00</td>\n",
       "      <td>-74.00</td>\n",
       "    </tr>\n",
       "    <tr>\n",
       "      <th>4</th>\n",
       "      <td>1</td>\n",
       "      <td>C2</td>\n",
       "      <td>PTTGC</td>\n",
       "      <td>2021-03-17</td>\n",
       "      <td>6,000</td>\n",
       "      <td>64.75</td>\n",
       "      <td>24.40</td>\n",
       "      <td>388,500.00</td>\n",
       "      <td>146,400.00</td>\n",
       "      <td>-242,100.00</td>\n",
       "      <td>-62.32</td>\n",
       "    </tr>\n",
       "    <tr>\n",
       "      <th>5</th>\n",
       "      <td>1</td>\n",
       "      <td>C2</td>\n",
       "      <td>SCC</td>\n",
       "      <td>2021-09-20</td>\n",
       "      <td>600</td>\n",
       "      <td>405.00</td>\n",
       "      <td>216.00</td>\n",
       "      <td>243,000.00</td>\n",
       "      <td>129,600.00</td>\n",
       "      <td>-113,400.00</td>\n",
       "      <td>-46.67</td>\n",
       "    </tr>\n",
       "    <tr>\n",
       "      <th>6</th>\n",
       "      <td>1</td>\n",
       "      <td>A3</td>\n",
       "      <td>SINGER</td>\n",
       "      <td>2023-01-19</td>\n",
       "      <td>6,000</td>\n",
       "      <td>24.80</td>\n",
       "      <td>5.35</td>\n",
       "      <td>148,800.00</td>\n",
       "      <td>32,100.00</td>\n",
       "      <td>-116,700.00</td>\n",
       "      <td>-78.43</td>\n",
       "    </tr>\n",
       "    <tr>\n",
       "      <th>7</th>\n",
       "      <td>2</td>\n",
       "      <td>A1</td>\n",
       "      <td>AIMIRT</td>\n",
       "      <td>2023-08-17</td>\n",
       "      <td>17,500</td>\n",
       "      <td>10.60</td>\n",
       "      <td>9.55</td>\n",
       "      <td>185,500.00</td>\n",
       "      <td>167,125.00</td>\n",
       "      <td>-18,375.00</td>\n",
       "      <td>-9.91</td>\n",
       "    </tr>\n",
       "    <tr>\n",
       "      <th>8</th>\n",
       "      <td>2</td>\n",
       "      <td>C1</td>\n",
       "      <td>CPNREIT</td>\n",
       "      <td>2022-08-16</td>\n",
       "      <td>55,000</td>\n",
       "      <td>18.00</td>\n",
       "      <td>11.30</td>\n",
       "      <td>990,000.00</td>\n",
       "      <td>621,500.00</td>\n",
       "      <td>-368,500.00</td>\n",
       "      <td>-37.22</td>\n",
       "    </tr>\n",
       "    <tr>\n",
       "      <th>9</th>\n",
       "      <td>2</td>\n",
       "      <td>C1</td>\n",
       "      <td>DIF</td>\n",
       "      <td>2020-08-01</td>\n",
       "      <td>50,000</td>\n",
       "      <td>12.17</td>\n",
       "      <td>8.10</td>\n",
       "      <td>608,500.00</td>\n",
       "      <td>405,000.00</td>\n",
       "      <td>-203,500.00</td>\n",
       "      <td>-33.44</td>\n",
       "    </tr>\n",
       "    <tr>\n",
       "      <th>10</th>\n",
       "      <td>2</td>\n",
       "      <td>C1</td>\n",
       "      <td>GVREIT</td>\n",
       "      <td>2022-08-24</td>\n",
       "      <td>69,000</td>\n",
       "      <td>7.75</td>\n",
       "      <td>6.25</td>\n",
       "      <td>534,750.00</td>\n",
       "      <td>431,250.00</td>\n",
       "      <td>-103,500.00</td>\n",
       "      <td>-19.35</td>\n",
       "    </tr>\n",
       "    <tr>\n",
       "      <th>11</th>\n",
       "      <td>2</td>\n",
       "      <td>A4</td>\n",
       "      <td>MCS</td>\n",
       "      <td>2016-09-20</td>\n",
       "      <td>81,000</td>\n",
       "      <td>14.80</td>\n",
       "      <td>8.60</td>\n",
       "      <td>1,198,800.00</td>\n",
       "      <td>696,600.00</td>\n",
       "      <td>-502,200.00</td>\n",
       "      <td>-41.89</td>\n",
       "    </tr>\n",
       "    <tr>\n",
       "      <th>12</th>\n",
       "      <td>2</td>\n",
       "      <td>A1</td>\n",
       "      <td>NER</td>\n",
       "      <td>2021-09-01</td>\n",
       "      <td>27,000</td>\n",
       "      <td>7.45</td>\n",
       "      <td>4.42</td>\n",
       "      <td>201,150.00</td>\n",
       "      <td>119,340.00</td>\n",
       "      <td>-81,810.00</td>\n",
       "      <td>-40.67</td>\n",
       "    </tr>\n",
       "    <tr>\n",
       "      <th>13</th>\n",
       "      <td>2</td>\n",
       "      <td>A2</td>\n",
       "      <td>PTT</td>\n",
       "      <td>2025-08-08</td>\n",
       "      <td>2,500</td>\n",
       "      <td>32.00</td>\n",
       "      <td>32.00</td>\n",
       "      <td>80,000.00</td>\n",
       "      <td>80,000.00</td>\n",
       "      <td>0.00</td>\n",
       "      <td>0.00</td>\n",
       "    </tr>\n",
       "    <tr>\n",
       "      <th>14</th>\n",
       "      <td>2</td>\n",
       "      <td>B1</td>\n",
       "      <td>SENA</td>\n",
       "      <td>2022-03-29</td>\n",
       "      <td>105,000</td>\n",
       "      <td>4.48</td>\n",
       "      <td>1.86</td>\n",
       "      <td>470,400.00</td>\n",
       "      <td>195,300.00</td>\n",
       "      <td>-275,100.00</td>\n",
       "      <td>-58.48</td>\n",
       "    </tr>\n",
       "    <tr>\n",
       "      <th>15</th>\n",
       "      <td>2</td>\n",
       "      <td>C1</td>\n",
       "      <td>TFFIF</td>\n",
       "      <td>2023-07-06</td>\n",
       "      <td>20,000</td>\n",
       "      <td>7.20</td>\n",
       "      <td>6.10</td>\n",
       "      <td>144,000.00</td>\n",
       "      <td>122,000.00</td>\n",
       "      <td>-22,000.00</td>\n",
       "      <td>-15.28</td>\n",
       "    </tr>\n",
       "    <tr>\n",
       "      <th>16</th>\n",
       "      <td>2</td>\n",
       "      <td>B1</td>\n",
       "      <td>WHAIR</td>\n",
       "      <td>2021-10-11</td>\n",
       "      <td>50,000</td>\n",
       "      <td>8.70</td>\n",
       "      <td>5.35</td>\n",
       "      <td>435,000.00</td>\n",
       "      <td>267,500.00</td>\n",
       "      <td>-167,500.00</td>\n",
       "      <td>-38.51</td>\n",
       "    </tr>\n",
       "    <tr>\n",
       "      <th>17</th>\n",
       "      <td>2</td>\n",
       "      <td>C1</td>\n",
       "      <td>WHART</td>\n",
       "      <td>2022-01-05</td>\n",
       "      <td>25,000</td>\n",
       "      <td>11.60</td>\n",
       "      <td>9.10</td>\n",
       "      <td>290,000.00</td>\n",
       "      <td>227,500.00</td>\n",
       "      <td>-62,500.00</td>\n",
       "      <td>-21.55</td>\n",
       "    </tr>\n",
       "    <tr>\n",
       "      <th>18</th>\n",
       "      <td>3</td>\n",
       "      <td>A3</td>\n",
       "      <td>3BBIF</td>\n",
       "      <td>2018-05-17</td>\n",
       "      <td>120,000</td>\n",
       "      <td>10.10</td>\n",
       "      <td>6.15</td>\n",
       "      <td>1,212,000.00</td>\n",
       "      <td>738,000.00</td>\n",
       "      <td>-474,000.00</td>\n",
       "      <td>-39.11</td>\n",
       "    </tr>\n",
       "    <tr>\n",
       "      <th>19</th>\n",
       "      <td>3</td>\n",
       "      <td>B3</td>\n",
       "      <td>BCH</td>\n",
       "      <td>2021-09-07</td>\n",
       "      <td>4,000</td>\n",
       "      <td>21.70</td>\n",
       "      <td>13.40</td>\n",
       "      <td>86,800.00</td>\n",
       "      <td>53,600.00</td>\n",
       "      <td>-33,200.00</td>\n",
       "      <td>-38.25</td>\n",
       "    </tr>\n",
       "    <tr>\n",
       "      <th>20</th>\n",
       "      <td>3</td>\n",
       "      <td>C3</td>\n",
       "      <td>IVL</td>\n",
       "      <td>2022-08-29</td>\n",
       "      <td>7,200</td>\n",
       "      <td>40.00</td>\n",
       "      <td>21.50</td>\n",
       "      <td>288,000.00</td>\n",
       "      <td>154,800.00</td>\n",
       "      <td>-133,200.00</td>\n",
       "      <td>-46.25</td>\n",
       "    </tr>\n",
       "    <tr>\n",
       "      <th>21</th>\n",
       "      <td>3</td>\n",
       "      <td>A3</td>\n",
       "      <td>RCL</td>\n",
       "      <td>2021-11-08</td>\n",
       "      <td>27,000</td>\n",
       "      <td>38.80</td>\n",
       "      <td>27.00</td>\n",
       "      <td>1,047,600.00</td>\n",
       "      <td>729,000.00</td>\n",
       "      <td>-318,600.00</td>\n",
       "      <td>-30.41</td>\n",
       "    </tr>\n",
       "    <tr>\n",
       "      <th>22</th>\n",
       "      <td>3</td>\n",
       "      <td>A4</td>\n",
       "      <td>STA</td>\n",
       "      <td>2021-06-15</td>\n",
       "      <td>10,000</td>\n",
       "      <td>30.00</td>\n",
       "      <td>12.00</td>\n",
       "      <td>300,000.00</td>\n",
       "      <td>120,000.00</td>\n",
       "      <td>-180,000.00</td>\n",
       "      <td>-60.00</td>\n",
       "    </tr>\n",
       "    <tr>\n",
       "      <th>23</th>\n",
       "      <td>3</td>\n",
       "      <td>A1</td>\n",
       "      <td>SYNEX</td>\n",
       "      <td>2022-01-07</td>\n",
       "      <td>17,500</td>\n",
       "      <td>26.40</td>\n",
       "      <td>11.40</td>\n",
       "      <td>462,000.00</td>\n",
       "      <td>199,500.00</td>\n",
       "      <td>-262,500.00</td>\n",
       "      <td>-56.82</td>\n",
       "    </tr>\n",
       "    <tr>\n",
       "      <th>24</th>\n",
       "      <td>3</td>\n",
       "      <td>A4</td>\n",
       "      <td>TVO</td>\n",
       "      <td>2024-11-06</td>\n",
       "      <td>8,000</td>\n",
       "      <td>24.00</td>\n",
       "      <td>25.25</td>\n",
       "      <td>192,000.00</td>\n",
       "      <td>202,000.00</td>\n",
       "      <td>10,000.00</td>\n",
       "      <td>5.21</td>\n",
       "    </tr>\n",
       "    <tr>\n",
       "      <th>25</th>\n",
       "      <td>4</td>\n",
       "      <td>A1</td>\n",
       "      <td>CPF</td>\n",
       "      <td>2025-08-21</td>\n",
       "      <td>0</td>\n",
       "      <td>24.10</td>\n",
       "      <td>24.20</td>\n",
       "      <td>0.00</td>\n",
       "      <td>0.00</td>\n",
       "      <td>0.00</td>\n",
       "      <td>None</td>\n",
       "    </tr>\n",
       "    <tr>\n",
       "      <th>26</th>\n",
       "      <td>4</td>\n",
       "      <td>C3</td>\n",
       "      <td>JMT</td>\n",
       "      <td>2023-01-26</td>\n",
       "      <td>4,200</td>\n",
       "      <td>55.50</td>\n",
       "      <td>11.50</td>\n",
       "      <td>233,100.00</td>\n",
       "      <td>48,300.00</td>\n",
       "      <td>-184,800.00</td>\n",
       "      <td>-79.28</td>\n",
       "    </tr>\n",
       "    <tr>\n",
       "      <th>27</th>\n",
       "      <td>4</td>\n",
       "      <td>B2</td>\n",
       "      <td>PTG</td>\n",
       "      <td>2023-07-12</td>\n",
       "      <td>3,600</td>\n",
       "      <td>11.40</td>\n",
       "      <td>7.05</td>\n",
       "      <td>41,040.00</td>\n",
       "      <td>25,380.00</td>\n",
       "      <td>-15,660.00</td>\n",
       "      <td>-38.16</td>\n",
       "    </tr>\n",
       "    <tr>\n",
       "      <th>28</th>\n",
       "      <td>4</td>\n",
       "      <td>C1</td>\n",
       "      <td>TOA</td>\n",
       "      <td>2023-09-06</td>\n",
       "      <td>1,000</td>\n",
       "      <td>26.00</td>\n",
       "      <td>14.60</td>\n",
       "      <td>26,000.00</td>\n",
       "      <td>14,600.00</td>\n",
       "      <td>-11,400.00</td>\n",
       "      <td>-43.85</td>\n",
       "    </tr>\n",
       "  </tbody>\n",
       "</table>\n",
       "</div>"
      ],
      "text/plain": [
       "   period grade     name        date   volbuy buy_price  mkt_price  \\\n",
       "0       1    C1       AH  2023-06-08    1,200     37.00      14.50   \n",
       "1       1    A1      AWC  2023-06-15    9,000      4.96       2.50   \n",
       "2       1    A2    JMART  2023-01-20    6,800     33.00       8.40   \n",
       "3       1    C2      ORI  2022-04-07   50,000      9.00       2.34   \n",
       "4       1    C2    PTTGC  2021-03-17    6,000     64.75      24.40   \n",
       "5       1    C2      SCC  2021-09-20      600    405.00     216.00   \n",
       "6       1    A3   SINGER  2023-01-19    6,000     24.80       5.35   \n",
       "7       2    A1   AIMIRT  2023-08-17   17,500     10.60       9.55   \n",
       "8       2    C1  CPNREIT  2022-08-16   55,000     18.00      11.30   \n",
       "9       2    C1      DIF  2020-08-01   50,000     12.17       8.10   \n",
       "10      2    C1   GVREIT  2022-08-24   69,000      7.75       6.25   \n",
       "11      2    A4      MCS  2016-09-20   81,000     14.80       8.60   \n",
       "12      2    A1      NER  2021-09-01   27,000      7.45       4.42   \n",
       "13      2    A2      PTT  2025-08-08    2,500     32.00      32.00   \n",
       "14      2    B1     SENA  2022-03-29  105,000      4.48       1.86   \n",
       "15      2    C1    TFFIF  2023-07-06   20,000      7.20       6.10   \n",
       "16      2    B1    WHAIR  2021-10-11   50,000      8.70       5.35   \n",
       "17      2    C1    WHART  2022-01-05   25,000     11.60       9.10   \n",
       "18      3    A3    3BBIF  2018-05-17  120,000     10.10       6.15   \n",
       "19      3    B3      BCH  2021-09-07    4,000     21.70      13.40   \n",
       "20      3    C3      IVL  2022-08-29    7,200     40.00      21.50   \n",
       "21      3    A3      RCL  2021-11-08   27,000     38.80      27.00   \n",
       "22      3    A4      STA  2021-06-15   10,000     30.00      12.00   \n",
       "23      3    A1    SYNEX  2022-01-07   17,500     26.40      11.40   \n",
       "24      3    A4      TVO  2024-11-06    8,000     24.00      25.25   \n",
       "25      4    A1      CPF  2025-08-21        0     24.10      24.20   \n",
       "26      4    C3      JMT  2023-01-26    4,200     55.50      11.50   \n",
       "27      4    B2      PTG  2023-07-12    3,600     11.40       7.05   \n",
       "28      4    C1      TOA  2023-09-06    1,000     26.00      14.60   \n",
       "\n",
       "          amtbuy      amtmkt       amtpol  pctpol  \n",
       "0      44,400.00   17,400.00   -27,000.00  -60.81  \n",
       "1      44,640.00   22,500.00   -22,140.00  -49.60  \n",
       "2     224,400.00   57,120.00  -167,280.00  -74.55  \n",
       "3     450,000.00  117,000.00  -333,000.00  -74.00  \n",
       "4     388,500.00  146,400.00  -242,100.00  -62.32  \n",
       "5     243,000.00  129,600.00  -113,400.00  -46.67  \n",
       "6     148,800.00   32,100.00  -116,700.00  -78.43  \n",
       "7     185,500.00  167,125.00   -18,375.00   -9.91  \n",
       "8     990,000.00  621,500.00  -368,500.00  -37.22  \n",
       "9     608,500.00  405,000.00  -203,500.00  -33.44  \n",
       "10    534,750.00  431,250.00  -103,500.00  -19.35  \n",
       "11  1,198,800.00  696,600.00  -502,200.00  -41.89  \n",
       "12    201,150.00  119,340.00   -81,810.00  -40.67  \n",
       "13     80,000.00   80,000.00         0.00    0.00  \n",
       "14    470,400.00  195,300.00  -275,100.00  -58.48  \n",
       "15    144,000.00  122,000.00   -22,000.00  -15.28  \n",
       "16    435,000.00  267,500.00  -167,500.00  -38.51  \n",
       "17    290,000.00  227,500.00   -62,500.00  -21.55  \n",
       "18  1,212,000.00  738,000.00  -474,000.00  -39.11  \n",
       "19     86,800.00   53,600.00   -33,200.00  -38.25  \n",
       "20    288,000.00  154,800.00  -133,200.00  -46.25  \n",
       "21  1,047,600.00  729,000.00  -318,600.00  -30.41  \n",
       "22    300,000.00  120,000.00  -180,000.00  -60.00  \n",
       "23    462,000.00  199,500.00  -262,500.00  -56.82  \n",
       "24    192,000.00  202,000.00    10,000.00    5.21  \n",
       "25          0.00        0.00         0.00    None  \n",
       "26    233,100.00   48,300.00  -184,800.00  -79.28  \n",
       "27     41,040.00   25,380.00   -15,660.00  -38.16  \n",
       "28     26,000.00   14,600.00   -11,400.00  -43.85  "
      ]
     },
     "execution_count": 114,
     "metadata": {},
     "output_type": "execute_result"
    }
   ],
   "source": [
    "df_buy = pd.read_sql(sql, const)\n",
    "df_buy"
   ]
  },
  {
   "cell_type": "code",
   "execution_count": 116,
   "metadata": {},
   "outputs": [],
   "source": [
    "file_name = 'portfolio.csv'\n",
    "output_file = os.path.join(dat_path, file_name)\n",
    "god_file = os.path.join(god_path, file_name)\n",
    "icd_file = os.path.join(icd_path, file_name)\n",
    "osd_file = os.path.join(osd_path, file_name)"
   ]
  },
  {
   "cell_type": "code",
   "execution_count": 118,
   "metadata": {},
   "outputs": [
    {
     "name": "stdout",
     "output_type": "stream",
     "text": [
      "Output file : C:\\Users\\PC1\\OneDrive\\A5\\Data\\portfolio.csv\n",
      "icd_file : C:\\Users\\PC1\\iCloudDrive\\Data\\portfolio.csv\n",
      "god_file : C:\\Users\\PC1\\OneDrive\\Imports\\santisoontarinka@gmail.com - Google Drive\\Data\\portfolio.csv\n",
      "osd_file : C:\\Users\\PC1\\OneDrive\\Documents\\obsidian-git-sync\\Data\\portfolio.csv\n"
     ]
    }
   ],
   "source": [
    "print(f\"Output file : {output_file}\") \n",
    "print(f\"icd_file : {icd_file}\") \n",
    "print(f\"god_file : {god_file}\") \n",
    "print(f\"osd_file : {osd_file}\") "
   ]
  },
  {
   "cell_type": "code",
   "execution_count": 120,
   "metadata": {},
   "outputs": [],
   "source": [
    "df_buy.to_csv(output_file, header=True, index=False)\n",
    "df_buy.to_csv(icd_file, header=True, index=False)\n",
    "df_buy.to_csv(god_file, header=True, index=False)\n",
    "df_buy.to_csv(osd_file, header=True, index=False)"
   ]
  },
  {
   "cell_type": "code",
   "execution_count": 122,
   "metadata": {},
   "outputs": [],
   "source": [
    "file_name = '035-portfolio.xlsx'\n",
    "xsl_file = os.path.join(xsl_path, file_name)\n",
    "\n",
    "df_buy.to_excel(xsl_file, index=False)"
   ]
  },
  {
   "cell_type": "code",
   "execution_count": null,
   "metadata": {},
   "outputs": [],
   "source": []
  }
 ],
 "metadata": {
  "anaconda-cloud": {},
  "kernelspec": {
   "display_name": "Python 3 (ipykernel)",
   "language": "python",
   "name": "python3"
  },
  "language_info": {
   "codemirror_mode": {
    "name": "ipython",
    "version": 3
   },
   "file_extension": ".py",
   "mimetype": "text/x-python",
   "name": "python",
   "nbconvert_exporter": "python",
   "pygments_lexer": "ipython3",
   "version": "3.12.3"
  }
 },
 "nbformat": 4,
 "nbformat_minor": 4
}
