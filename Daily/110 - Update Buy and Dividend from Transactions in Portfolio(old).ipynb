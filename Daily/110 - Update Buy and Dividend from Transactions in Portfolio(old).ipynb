{
 "cells": [
  {
   "cell_type": "code",
   "execution_count": 91,
   "metadata": {},
   "outputs": [
    {
     "data": {
      "text/plain": [
       "datetime.date(2025, 2, 13)"
      ]
     },
     "execution_count": 91,
     "metadata": {},
     "output_type": "execute_result"
    }
   ],
   "source": [
    "import os\n",
    "import pandas as pd\n",
    "from datetime import date, timedelta, datetime\n",
    "from sqlalchemy import create_engine, text\n",
    "from pandas.tseries.offsets import BDay\n",
    "\n",
    "engine = create_engine('mysql+pymysql://root:@localhost:3306/portfolio_development')\n",
    "conpf = engine.connect()\n",
    "engine = create_engine(\"mysql+pymysql://root:@localhost:3306/stock\")\n",
    "const = engine.connect()\n",
    "engine = create_engine(\"sqlite:///c:\\\\ruby\\\\port_lite\\\\db\\\\development.sqlite3\")\n",
    "conlite = engine.connect()\n",
    "\n",
    "today = date.today()\n",
    "today"
   ]
  },
  {
   "cell_type": "code",
   "execution_count": 10,
   "metadata": {},
   "outputs": [
    {
     "name": "stdout",
     "output_type": "stream",
     "text": [
      "today: 2025-02-13\n",
      "yesterday: 2025-02-12\n"
     ]
    }
   ],
   "source": [
    "# convert the timedelta object to a BusinessDay object\n",
    "num_business_days = BDay(1)\n",
    "yesterday = today - num_business_days\n",
    "yesterday = yesterday.date()\n",
    "print(f'today: {today}')\n",
    "print(f'yesterday: {yesterday}')"
   ]
  },
  {
   "cell_type": "code",
   "execution_count": 12,
   "metadata": {},
   "outputs": [],
   "source": [
    "# Get the user's home directory\n",
    "user_path = os.path.expanduser('~')\n",
    "# Get the current working directory\n",
    "current_path = os.getcwd()\n",
    "# Derive the base directory (base_dir) by removing the last folder ('Daily')\n",
    "base_path = os.path.dirname(current_path)\n",
    "#C:\\Users\\PC1\\OneDrive\\A5\\Data\n",
    "dat_path = os.path.join(base_path, \"Data\")\n",
    "#C:\\Users\\PC1\\Downloads\\Datasets\n",
    "dts_path = os.path.join(user_path, \"Downloads\", \"Datasets\")\n",
    "#C:\\Users\\PC1\\OneDrive\\Imports\\santisoontarinka@gmail.com - Google Drive\\Data>\n",
    "god_path = os.path.join(user_path, \"OneDrive\",\"Imports\",\"santisoontarinka@gmail.com - Google Drive\",\"Data\")\n",
    "#C:\\Users\\PC1\\iCloudDrive\\data\n",
    "icd_path = os.path.join(user_path, \"iCloudDrive\", \"Data\")\n",
    "#C:\\Users\\PC1\\OneDrive\\Documents\\obsidian-git-sync\\Data\n",
    "osd_path = os.path.join(user_path, \"OneDrive\",\"Documents\",\"obsidian-git-sync\",\"Data\")\n",
    "#C:\\Users\\PC1\\OneDrive\\A5\\Excel\n",
    "xsl_path = os.path.join(base_path, \"Excel\")"
   ]
  },
  {
   "cell_type": "code",
   "execution_count": 14,
   "metadata": {},
   "outputs": [
    {
     "name": "stdout",
     "output_type": "stream",
     "text": [
      "User path: C:\\Users\\PC1\n",
      "Current path: C:\\Users\\PC1\\OneDrive\\A5\\Daily\n",
      "Base path: C:\\Users\\PC1\\OneDrive\\A5\n",
      "Data path (dat_path): C:\\Users\\PC1\\OneDrive\\A5\\Data\n",
      "Excel path (xsl_path): C:\\Users\\PC1\\OneDrive\\A5\\Excel\n",
      "Google Drive path (god_path): C:\\Users\\PC1\\OneDrive\\Imports\\santisoontarinka@gmail.com - Google Drive\\Data\n",
      "iCloudDrive path (icd_path): C:\\Users\\PC1\\iCloudDrive\\Data\n",
      "Obsidian path (osd_path): C:\\Users\\PC1\\OneDrive\\Documents\\obsidian-git-sync\\Data\n"
     ]
    }
   ],
   "source": [
    "print(\"User path:\", user_path)\n",
    "print(f\"Current path: {current_path}\")\n",
    "print(f\"Base path: {base_path}\")\n",
    "print(f\"Data path (dat_path): {dat_path}\") \n",
    "print(f\"Excel path (xsl_path): {xsl_path}\") \n",
    "print(f\"Google Drive path (god_path): {god_path}\")\n",
    "print(f\"iCloudDrive path (icd_path): {icd_path}\") \n",
    "print(f\"Obsidian path (osd_path): {osd_path}\") "
   ]
  },
  {
   "cell_type": "markdown",
   "metadata": {},
   "source": [
    "### Tables in the process"
   ]
  },
  {
   "cell_type": "code",
   "execution_count": 17,
   "metadata": {},
   "outputs": [],
   "source": [
    "format_dict = {\n",
    "    'shares':'{:,}',    \n",
    "    'price':'{:.2f}',\n",
    "    'dividend':'{:.4f}', \n",
    "    'date':'{:%Y-%m-%d}', \n",
    "    \n",
    "    'qty':'{:,}','shares':'{:,}',\n",
    "    'price':'{:.2f}','buy_price':'{:.2f}',\n",
    "    'dividend':'{:.4f}',    \n",
    "    'fee':'{:,.2f}','vat':'{:,.2f}','net':'{:,.2f}',\n",
    "  \n",
    "    'days':'{:,}',\n",
    "    'price':'{:.2f}',\n",
    "    'fee':'{:,.2f}','vat':'{:,.2f}','net':'{:,.2f}','profit':'{:,.2f}',\n",
    "    'percent':'{:,.2f}%','yearly':'{:,.2f}%',   \n",
    "    \n",
    "    'shares':'{:,}',    \n",
    "    'q4':'{:.4f}','q3':'{:.4f}','q2':'{:.4f}','q1':'{:.4f}','dividend':'{:.4f}',\n",
    "    'xdate':'{:%Y-%m-%d}','paiddate':'{:%Y-%m-%d}',\n",
    "    \n",
    "    'qty':'{:,}','available_qty':'{:,}',\n",
    "    'cost':'{:.2f}','max_price':'{:.2f}','min_price':'{:.2f}','buy_target':'{:.2f}','sell_target':'{:.2f}',\n",
    "    'volume':'{:,.2f}','beta':'{:,.2f}',\n",
    "    \n",
    "    'qty':'{:,}','available_qty':'{:,}',\n",
    "    'cost':'{:.2f}','max_price':'{:.2f}','min_price':'{:.2f}','buy_target':'{:.2f}','sell_target':'{:.2f}',\n",
    "    'volume':'{:,.2f}','beta':'{:,.2f}',\n",
    "    }"
   ]
  },
  {
   "cell_type": "code",
   "execution_count": 19,
   "metadata": {},
   "outputs": [
    {
     "data": {
      "text/html": [
       "<style type=\"text/css\">\n",
       "</style>\n",
       "<table id=\"T_54818\">\n",
       "  <thead>\n",
       "    <tr>\n",
       "      <th class=\"blank level0\" >&nbsp;</th>\n",
       "      <th id=\"T_54818_level0_col0\" class=\"col_heading level0 col0\" >name</th>\n",
       "      <th id=\"T_54818_level0_col1\" class=\"col_heading level0 col1\" >stock_id</th>\n",
       "      <th id=\"T_54818_level0_col2\" class=\"col_heading level0 col2\" >buy_date</th>\n",
       "      <th id=\"T_54818_level0_col3\" class=\"col_heading level0 col3\" >qty</th>\n",
       "      <th id=\"T_54818_level0_col4\" class=\"col_heading level0 col4\" >buy_price</th>\n",
       "      <th id=\"T_54818_level0_col5\" class=\"col_heading level0 col5\" >id</th>\n",
       "      <th id=\"T_54818_level0_col6\" class=\"col_heading level0 col6\" >buy_id</th>\n",
       "      <th id=\"T_54818_level0_col7\" class=\"col_heading level0 col7\" >date</th>\n",
       "      <th id=\"T_54818_level0_col8\" class=\"col_heading level0 col8\" >price</th>\n",
       "      <th id=\"T_54818_level0_col9\" class=\"col_heading level0 col9\" >fee</th>\n",
       "      <th id=\"T_54818_level0_col10\" class=\"col_heading level0 col10\" >vat</th>\n",
       "      <th id=\"T_54818_level0_col11\" class=\"col_heading level0 col11\" >net</th>\n",
       "      <th id=\"T_54818_level0_col12\" class=\"col_heading level0 col12\" >days</th>\n",
       "      <th id=\"T_54818_level0_col13\" class=\"col_heading level0 col13\" >profit</th>\n",
       "      <th id=\"T_54818_level0_col14\" class=\"col_heading level0 col14\" >percent</th>\n",
       "      <th id=\"T_54818_level0_col15\" class=\"col_heading level0 col15\" >yearly</th>\n",
       "      <th id=\"T_54818_level0_col16\" class=\"col_heading level0 col16\" >sequence</th>\n",
       "      <th id=\"T_54818_level0_col17\" class=\"col_heading level0 col17\" >chart</th>\n",
       "      <th id=\"T_54818_level0_col18\" class=\"col_heading level0 col18\" >dividend_id</th>\n",
       "    </tr>\n",
       "  </thead>\n",
       "  <tbody>\n",
       "    <tr>\n",
       "      <th id=\"T_54818_level0_row0\" class=\"row_heading level0 row0\" >0</th>\n",
       "      <td id=\"T_54818_row0_col0\" class=\"data row0 col0\" >MCS</td>\n",
       "      <td id=\"T_54818_row0_col1\" class=\"data row0 col1\" >43</td>\n",
       "      <td id=\"T_54818_row0_col2\" class=\"data row0 col2\" >2023-05-17</td>\n",
       "      <td id=\"T_54818_row0_col3\" class=\"data row0 col3\" >3,000</td>\n",
       "      <td id=\"T_54818_row0_col4\" class=\"data row0 col4\" >7.60</td>\n",
       "      <td id=\"T_54818_row0_col5\" class=\"data row0 col5\" >1079</td>\n",
       "      <td id=\"T_54818_row0_col6\" class=\"data row0 col6\" >1253</td>\n",
       "      <td id=\"T_54818_row0_col7\" class=\"data row0 col7\" >2024-09-25</td>\n",
       "      <td id=\"T_54818_row0_col8\" class=\"data row0 col8\" >8.05</td>\n",
       "      <td id=\"T_54818_row0_col9\" class=\"data row0 col9\" >49.99</td>\n",
       "      <td id=\"T_54818_row0_col10\" class=\"data row0 col10\" >3.50</td>\n",
       "      <td id=\"T_54818_row0_col11\" class=\"data row0 col11\" >24,096.51</td>\n",
       "      <td id=\"T_54818_row0_col12\" class=\"data row0 col12\" >497</td>\n",
       "      <td id=\"T_54818_row0_col13\" class=\"data row0 col13\" >1,246.01</td>\n",
       "      <td id=\"T_54818_row0_col14\" class=\"data row0 col14\" >5.45%</td>\n",
       "      <td id=\"T_54818_row0_col15\" class=\"data row0 col15\" >4.00%</td>\n",
       "      <td id=\"T_54818_row0_col16\" class=\"data row0 col16\" >-79</td>\n",
       "      <td id=\"T_54818_row0_col17\" class=\"data row0 col17\" >None</td>\n",
       "      <td id=\"T_54818_row0_col18\" class=\"data row0 col18\" >0</td>\n",
       "    </tr>\n",
       "  </tbody>\n",
       "</table>\n"
      ],
      "text/plain": [
       "<pandas.io.formats.style.Styler at 0x1bea6be8950>"
      ]
     },
     "execution_count": 19,
     "metadata": {},
     "output_type": "execute_result"
    }
   ],
   "source": [
    "# Sells table in MySQL portfolio database\n",
    "sql = \"\"\"\n",
    "SELECT name, stock_id, B.date AS buy_date, qty, B.price AS buy_price, S.* \n",
    "FROM sells S\n",
    "JOIN buys B ON S.buy_id = B.id\n",
    "JOIN stocks T ON B.stock_id = T.id\n",
    "ORDER BY S.id DESC\n",
    "LIMIT 1\"\"\"\n",
    "sells = pd.read_sql(sql, conpf)\n",
    "sells.style.format(format_dict)"
   ]
  },
  {
   "cell_type": "markdown",
   "metadata": {},
   "source": [
    "### In case of sale, retreive buy id from sells record (buy_id)"
   ]
  },
  {
   "cell_type": "code",
   "execution_count": 5,
   "metadata": {},
   "outputs": [
    {
     "data": {
      "text/plain": [
       "'MCS'"
      ]
     },
     "execution_count": 5,
     "metadata": {},
     "output_type": "execute_result"
    }
   ],
   "source": [
    "# Buys table in MySQL portfolio database\n",
    "transaction = 'S'\n",
    "\n",
    "names = sells['name']\n",
    "name = names.to_string(index=False)\n",
    "name"
   ]
  },
  {
   "cell_type": "code",
   "execution_count": 6,
   "metadata": {},
   "outputs": [
    {
     "name": "stdout",
     "output_type": "stream",
     "text": [
      "\n",
      "SELECT name, B.* \n",
      "FROM buys B\n",
      "JOIN stocks T \n",
      "ON B.stock_id = T.id\n",
      "WHERE B.id = 1253\n",
      "\n"
     ]
    },
    {
     "data": {
      "text/html": [
       "<style type=\"text/css\">\n",
       "</style>\n",
       "<table id=\"T_02490_\">\n",
       "  <thead>\n",
       "    <tr>\n",
       "      <th class=\"blank level0\" >&nbsp;</th>\n",
       "      <th class=\"col_heading level0 col0\" >name</th>\n",
       "      <th class=\"col_heading level0 col1\" >id</th>\n",
       "      <th class=\"col_heading level0 col2\" >stock_id</th>\n",
       "      <th class=\"col_heading level0 col3\" >date</th>\n",
       "      <th class=\"col_heading level0 col4\" >qty</th>\n",
       "      <th class=\"col_heading level0 col5\" >price</th>\n",
       "      <th class=\"col_heading level0 col6\" >fee</th>\n",
       "      <th class=\"col_heading level0 col7\" >vat</th>\n",
       "      <th class=\"col_heading level0 col8\" >status</th>\n",
       "      <th class=\"col_heading level0 col9\" >net</th>\n",
       "      <th class=\"col_heading level0 col10\" >kind</th>\n",
       "      <th class=\"col_heading level0 col11\" >chart</th>\n",
       "    </tr>\n",
       "  </thead>\n",
       "  <tbody>\n",
       "    <tr>\n",
       "      <th id=\"T_02490_level0_row0\" class=\"row_heading level0 row0\" >0</th>\n",
       "      <td id=\"T_02490_row0_col0\" class=\"data row0 col0\" >MCS</td>\n",
       "      <td id=\"T_02490_row0_col1\" class=\"data row0 col1\" >1253</td>\n",
       "      <td id=\"T_02490_row0_col2\" class=\"data row0 col2\" >43</td>\n",
       "      <td id=\"T_02490_row0_col3\" class=\"data row0 col3\" >2023-05-17</td>\n",
       "      <td id=\"T_02490_row0_col4\" class=\"data row0 col4\" >3,000</td>\n",
       "      <td id=\"T_02490_row0_col5\" class=\"data row0 col5\" >7.60</td>\n",
       "      <td id=\"T_02490_row0_col6\" class=\"data row0 col6\" >47.20</td>\n",
       "      <td id=\"T_02490_row0_col7\" class=\"data row0 col7\" >3.30</td>\n",
       "      <td id=\"T_02490_row0_col8\" class=\"data row0 col8\" >Sold</td>\n",
       "      <td id=\"T_02490_row0_col9\" class=\"data row0 col9\" >22,850.50</td>\n",
       "      <td id=\"T_02490_row0_col10\" class=\"data row0 col10\" >DTD</td>\n",
       "      <td id=\"T_02490_row0_col11\" class=\"data row0 col11\" >None</td>\n",
       "    </tr>\n",
       "  </tbody>\n",
       "</table>\n"
      ],
      "text/plain": [
       "<pandas.io.formats.style.Styler at 0x26b10efe0d0>"
      ]
     },
     "execution_count": 6,
     "metadata": {},
     "output_type": "execute_result"
    }
   ],
   "source": [
    "sr_qty = sells['qty']\n",
    "qty = sr_qty.to_string(index=False)\n",
    "qty = int(qty) * -1\n",
    "\n",
    "sr_price = sells['buy_price']\n",
    "buy_price = sr_price.to_string(index=False)\n",
    "buy_price = float(buy_price)\n",
    "\n",
    "sr_price = sells['price']\n",
    "sell_price = sr_price.to_string(index=False)\n",
    "sell_price = float(sell_price)\n",
    "\n",
    "buy_ids = sells['buy_id']\n",
    "buy_id = buy_ids.to_string(index=False)\n",
    "\n",
    "sql = \"\"\"\n",
    "SELECT name, B.* \n",
    "FROM buys B\n",
    "JOIN stocks T \n",
    "ON B.stock_id = T.id\n",
    "WHERE B.id = %s\n",
    "\"\"\"\n",
    "sql = sql % buy_id\n",
    "print(sql)\n",
    "\n",
    "buys = pd.read_sql(sql, conpf)\n",
    "buys.style.format(format_dict)"
   ]
  },
  {
   "cell_type": "code",
   "execution_count": 7,
   "metadata": {},
   "outputs": [
    {
     "data": {
      "text/plain": [
       "('S', 'MCS', -3000, 8.05, 7.6)"
      ]
     },
     "execution_count": 7,
     "metadata": {},
     "output_type": "execute_result"
    }
   ],
   "source": [
    "transaction, name, qty, sell_price, buy_price"
   ]
  },
  {
   "cell_type": "markdown",
   "metadata": {},
   "source": [
    "### In case of buy, retreive buy id from latest buy record (id)"
   ]
  },
  {
   "cell_type": "code",
   "execution_count": 21,
   "metadata": {},
   "outputs": [
    {
     "name": "stdout",
     "output_type": "stream",
     "text": [
      "\n",
      "SELECT name, B.* \n",
      "FROM buys B\n",
      "JOIN stocks T \n",
      "ON B.stock_id = T.id\n",
      "ORDER BY id DESC\n",
      "LIMIT 1\n",
      "\n"
     ]
    },
    {
     "data": {
      "text/html": [
       "<style type=\"text/css\">\n",
       "</style>\n",
       "<table id=\"T_c4dc7\">\n",
       "  <thead>\n",
       "    <tr>\n",
       "      <th class=\"blank level0\" >&nbsp;</th>\n",
       "      <th id=\"T_c4dc7_level0_col0\" class=\"col_heading level0 col0\" >name</th>\n",
       "      <th id=\"T_c4dc7_level0_col1\" class=\"col_heading level0 col1\" >id</th>\n",
       "      <th id=\"T_c4dc7_level0_col2\" class=\"col_heading level0 col2\" >stock_id</th>\n",
       "      <th id=\"T_c4dc7_level0_col3\" class=\"col_heading level0 col3\" >date</th>\n",
       "      <th id=\"T_c4dc7_level0_col4\" class=\"col_heading level0 col4\" >qty</th>\n",
       "      <th id=\"T_c4dc7_level0_col5\" class=\"col_heading level0 col5\" >price</th>\n",
       "      <th id=\"T_c4dc7_level0_col6\" class=\"col_heading level0 col6\" >fee</th>\n",
       "      <th id=\"T_c4dc7_level0_col7\" class=\"col_heading level0 col7\" >vat</th>\n",
       "      <th id=\"T_c4dc7_level0_col8\" class=\"col_heading level0 col8\" >status</th>\n",
       "      <th id=\"T_c4dc7_level0_col9\" class=\"col_heading level0 col9\" >net</th>\n",
       "      <th id=\"T_c4dc7_level0_col10\" class=\"col_heading level0 col10\" >kind</th>\n",
       "      <th id=\"T_c4dc7_level0_col11\" class=\"col_heading level0 col11\" >chart</th>\n",
       "    </tr>\n",
       "  </thead>\n",
       "  <tbody>\n",
       "    <tr>\n",
       "      <th id=\"T_c4dc7_level0_row0\" class=\"row_heading level0 row0\" >0</th>\n",
       "      <td id=\"T_c4dc7_row0_col0\" class=\"data row0 col0\" >GVREIT</td>\n",
       "      <td id=\"T_c4dc7_row0_col1\" class=\"data row0 col1\" >1314</td>\n",
       "      <td id=\"T_c4dc7_row0_col2\" class=\"data row0 col2\" >169</td>\n",
       "      <td id=\"T_c4dc7_row0_col3\" class=\"data row0 col3\" >2025-02-13</td>\n",
       "      <td id=\"T_c4dc7_row0_col4\" class=\"data row0 col4\" >15,000</td>\n",
       "      <td id=\"T_c4dc7_row0_col5\" class=\"data row0 col5\" >6.60</td>\n",
       "      <td id=\"T_c4dc7_row0_col6\" class=\"data row0 col6\" >204.93</td>\n",
       "      <td id=\"T_c4dc7_row0_col7\" class=\"data row0 col7\" >14.35</td>\n",
       "      <td id=\"T_c4dc7_row0_col8\" class=\"data row0 col8\" >Active</td>\n",
       "      <td id=\"T_c4dc7_row0_col9\" class=\"data row0 col9\" >99,219.28</td>\n",
       "      <td id=\"T_c4dc7_row0_col10\" class=\"data row0 col10\" >HD</td>\n",
       "      <td id=\"T_c4dc7_row0_col11\" class=\"data row0 col11\" >None</td>\n",
       "    </tr>\n",
       "  </tbody>\n",
       "</table>\n"
      ],
      "text/plain": [
       "<pandas.io.formats.style.Styler at 0x1bea68ff9e0>"
      ]
     },
     "execution_count": 21,
     "metadata": {},
     "output_type": "execute_result"
    }
   ],
   "source": [
    "sql = \"\"\"\n",
    "SELECT name, B.* \n",
    "FROM buys B\n",
    "JOIN stocks T \n",
    "ON B.stock_id = T.id\n",
    "ORDER BY id DESC\n",
    "LIMIT 1\n",
    "\"\"\"\n",
    "print(sql)\n",
    "buys = pd.read_sql(sql, conpf)\n",
    "buys.style.format(format_dict)"
   ]
  },
  {
   "cell_type": "code",
   "execution_count": 23,
   "metadata": {},
   "outputs": [
    {
     "data": {
      "text/plain": [
       "('B', 'GVREIT', 15000, 6.6)"
      ]
     },
     "execution_count": 23,
     "metadata": {},
     "output_type": "execute_result"
    }
   ],
   "source": [
    "transaction = 'B'\n",
    "\n",
    "names = buys['name']\n",
    "name = names.to_string(index=False)\n",
    "\n",
    "sr_qty = buys['qty']\n",
    "qty = sr_qty.to_string(index=False)\n",
    "qty = int(qty)\n",
    "\n",
    "sr_price = buys['price']\n",
    "buy_price = sr_price.to_string(index=False)\n",
    "buy_price = float(buy_price)\n",
    "\n",
    "transaction, name, qty, buy_price"
   ]
  },
  {
   "cell_type": "markdown",
   "metadata": {},
   "source": [
    "## Begin of Sale transaction"
   ]
  },
  {
   "cell_type": "markdown",
   "metadata": {},
   "source": [
    "### Begin of Update buy table in MySQL stock database from sale transaction"
   ]
  },
  {
   "cell_type": "code",
   "execution_count": 8,
   "metadata": {},
   "outputs": [
    {
     "name": "stdout",
     "output_type": "stream",
     "text": [
      "\n",
      "SELECT * \n",
      "FROM buy \n",
      "WHERE name = 'MCS'\n",
      "\n"
     ]
    },
    {
     "data": {
      "text/html": [
       "<style type=\"text/css\">\n",
       "</style>\n",
       "<table id=\"T_a3d5c_\">\n",
       "  <thead>\n",
       "    <tr>\n",
       "      <th class=\"blank level0\" >&nbsp;</th>\n",
       "      <th class=\"col_heading level0 col0\" >name</th>\n",
       "      <th class=\"col_heading level0 col1\" >date</th>\n",
       "      <th class=\"col_heading level0 col2\" >shares</th>\n",
       "      <th class=\"col_heading level0 col3\" >price</th>\n",
       "      <th class=\"col_heading level0 col4\" >active</th>\n",
       "      <th class=\"col_heading level0 col5\" >period</th>\n",
       "      <th class=\"col_heading level0 col6\" >grade</th>\n",
       "    </tr>\n",
       "  </thead>\n",
       "  <tbody>\n",
       "    <tr>\n",
       "      <th id=\"T_a3d5c_level0_row0\" class=\"row_heading level0 row0\" >0</th>\n",
       "      <td id=\"T_a3d5c_row0_col0\" class=\"data row0 col0\" >MCS</td>\n",
       "      <td id=\"T_a3d5c_row0_col1\" class=\"data row0 col1\" >2016-09-20</td>\n",
       "      <td id=\"T_a3d5c_row0_col2\" class=\"data row0 col2\" >78,000</td>\n",
       "      <td id=\"T_a3d5c_row0_col3\" class=\"data row0 col3\" >15.10</td>\n",
       "      <td id=\"T_a3d5c_row0_col4\" class=\"data row0 col4\" >1</td>\n",
       "      <td id=\"T_a3d5c_row0_col5\" class=\"data row0 col5\" >2</td>\n",
       "      <td id=\"T_a3d5c_row0_col6\" class=\"data row0 col6\" >A4</td>\n",
       "    </tr>\n",
       "  </tbody>\n",
       "</table>\n"
      ],
      "text/plain": [
       "<pandas.io.formats.style.Styler at 0x26e66de49a0>"
      ]
     },
     "execution_count": 8,
     "metadata": {},
     "output_type": "execute_result"
    }
   ],
   "source": [
    "sql = \"\"\"\n",
    "SELECT * \n",
    "FROM buy \n",
    "WHERE name = '%s'\n",
    "\"\"\"\n",
    "sql = sql % name\n",
    "print(sql)\n",
    "\n",
    "buy = pd.read_sql(sql, const)\n",
    "buy.drop(['volsell', 'volbal','dividend'], axis=1, inplace=True)\n",
    "buy.rename(columns={'volbuy':'shares'},inplace=True)\n",
    "buy['shares'] = buy['shares'].astype('int64')\n",
    "buy.style.format(format_dict)"
   ]
  },
  {
   "cell_type": "code",
   "execution_count": 9,
   "metadata": {},
   "outputs": [
    {
     "name": "stdout",
     "output_type": "stream",
     "text": [
      "\n",
      "UPDATE buy\n",
      "SET volbuy = volbuy + -3000, price = 15.4\n",
      "WHERE name = 'MCS'\n",
      "\n"
     ]
    }
   ],
   "source": [
    "#qty = -4800\n",
    "new_cost = 15.40\n",
    "sqlUpd = \"\"\"\n",
    "UPDATE buy\n",
    "SET volbuy = volbuy + %s, price = %s\n",
    "WHERE name = '%s'\n",
    "\"\"\"\n",
    "sqlUpd = sqlUpd % (qty, new_cost, name)\n",
    "print(sqlUpd)"
   ]
  },
  {
   "cell_type": "code",
   "execution_count": 10,
   "metadata": {},
   "outputs": [
    {
     "data": {
      "text/plain": [
       "1"
      ]
     },
     "execution_count": 10,
     "metadata": {},
     "output_type": "execute_result"
    }
   ],
   "source": [
    "rp = const.execute(sqlUpd)\n",
    "rp.rowcount"
   ]
  },
  {
   "cell_type": "code",
   "execution_count": 11,
   "metadata": {},
   "outputs": [
    {
     "name": "stdout",
     "output_type": "stream",
     "text": [
      "\n",
      "SELECT * \n",
      "FROM buy \n",
      "WHERE name = 'MCS'\n",
      "\n"
     ]
    },
    {
     "data": {
      "text/html": [
       "<style type=\"text/css\">\n",
       "</style>\n",
       "<table id=\"T_468e2_\">\n",
       "  <thead>\n",
       "    <tr>\n",
       "      <th class=\"blank level0\" >&nbsp;</th>\n",
       "      <th class=\"col_heading level0 col0\" >name</th>\n",
       "      <th class=\"col_heading level0 col1\" >date</th>\n",
       "      <th class=\"col_heading level0 col2\" >shares</th>\n",
       "      <th class=\"col_heading level0 col3\" >price</th>\n",
       "      <th class=\"col_heading level0 col4\" >active</th>\n",
       "      <th class=\"col_heading level0 col5\" >period</th>\n",
       "      <th class=\"col_heading level0 col6\" >grade</th>\n",
       "    </tr>\n",
       "  </thead>\n",
       "  <tbody>\n",
       "    <tr>\n",
       "      <th id=\"T_468e2_level0_row0\" class=\"row_heading level0 row0\" >0</th>\n",
       "      <td id=\"T_468e2_row0_col0\" class=\"data row0 col0\" >MCS</td>\n",
       "      <td id=\"T_468e2_row0_col1\" class=\"data row0 col1\" >2016-09-20</td>\n",
       "      <td id=\"T_468e2_row0_col2\" class=\"data row0 col2\" >75,000</td>\n",
       "      <td id=\"T_468e2_row0_col3\" class=\"data row0 col3\" >15.40</td>\n",
       "      <td id=\"T_468e2_row0_col4\" class=\"data row0 col4\" >1</td>\n",
       "      <td id=\"T_468e2_row0_col5\" class=\"data row0 col5\" >2</td>\n",
       "      <td id=\"T_468e2_row0_col6\" class=\"data row0 col6\" >A4</td>\n",
       "    </tr>\n",
       "  </tbody>\n",
       "</table>\n"
      ],
      "text/plain": [
       "<pandas.io.formats.style.Styler at 0x26e66dd7cd0>"
      ]
     },
     "execution_count": 11,
     "metadata": {},
     "output_type": "execute_result"
    }
   ],
   "source": [
    "sql = \"\"\"\n",
    "SELECT * \n",
    "FROM buy \n",
    "WHERE name = '%s'\n",
    "\"\"\"\n",
    "sql = sql % name\n",
    "print(sql)\n",
    "\n",
    "buy = pd.read_sql(sql, const)\n",
    "buy.drop(['volsell', 'volbal','dividend'], axis=1, inplace=True)\n",
    "buy.rename(columns={'volbuy':'shares'},inplace=True)\n",
    "buy['shares'] = buy['shares'].astype('int64')\n",
    "buy.style.format(format_dict)"
   ]
  },
  {
   "cell_type": "markdown",
   "metadata": {},
   "source": [
    "### End of Update buy table in MySQL stock database from sale transaction"
   ]
  },
  {
   "cell_type": "markdown",
   "metadata": {},
   "source": [
    "### Begin of Update dividend table in MySQL stock database from sale transaction"
   ]
  },
  {
   "cell_type": "code",
   "execution_count": 12,
   "metadata": {},
   "outputs": [
    {
     "name": "stdout",
     "output_type": "stream",
     "text": [
      "\n",
      "SELECT * \n",
      "FROM dividend \n",
      "WHERE name = 'MCS'\n",
      "\n"
     ]
    },
    {
     "data": {
      "text/html": [
       "<style type=\"text/css\">\n",
       "</style>\n",
       "<table id=\"T_3c3ca_\">\n",
       "  <thead>\n",
       "    <tr>\n",
       "      <th class=\"blank level0\" >&nbsp;</th>\n",
       "      <th class=\"col_heading level0 col0\" >name</th>\n",
       "      <th class=\"col_heading level0 col1\" >q4</th>\n",
       "      <th class=\"col_heading level0 col2\" >q3</th>\n",
       "      <th class=\"col_heading level0 col3\" >q2</th>\n",
       "      <th class=\"col_heading level0 col4\" >q1</th>\n",
       "      <th class=\"col_heading level0 col5\" >dividend</th>\n",
       "      <th class=\"col_heading level0 col6\" >shares</th>\n",
       "      <th class=\"col_heading level0 col7\" >xdate</th>\n",
       "      <th class=\"col_heading level0 col8\" >paiddate</th>\n",
       "      <th class=\"col_heading level0 col9\" >kind</th>\n",
       "      <th class=\"col_heading level0 col10\" >actual</th>\n",
       "    </tr>\n",
       "  </thead>\n",
       "  <tbody>\n",
       "    <tr>\n",
       "      <th id=\"T_3c3ca_level0_row0\" class=\"row_heading level0 row0\" >0</th>\n",
       "      <td id=\"T_3c3ca_row0_col0\" class=\"data row0 col0\" >MCS</td>\n",
       "      <td id=\"T_3c3ca_row0_col1\" class=\"data row0 col1\" >0.3200</td>\n",
       "      <td id=\"T_3c3ca_row0_col2\" class=\"data row0 col2\" >0.0000</td>\n",
       "      <td id=\"T_3c3ca_row0_col3\" class=\"data row0 col3\" >0.2000</td>\n",
       "      <td id=\"T_3c3ca_row0_col4\" class=\"data row0 col4\" >0.0000</td>\n",
       "      <td id=\"T_3c3ca_row0_col5\" class=\"data row0 col5\" >0.5200</td>\n",
       "      <td id=\"T_3c3ca_row0_col6\" class=\"data row0 col6\" >78,000</td>\n",
       "      <td id=\"T_3c3ca_row0_col7\" class=\"data row0 col7\" >2024-08-23</td>\n",
       "      <td id=\"T_3c3ca_row0_col8\" class=\"data row0 col8\" >2024-09-10</td>\n",
       "      <td id=\"T_3c3ca_row0_col9\" class=\"data row0 col9\" ></td>\n",
       "      <td id=\"T_3c3ca_row0_col10\" class=\"data row0 col10\" >1</td>\n",
       "    </tr>\n",
       "  </tbody>\n",
       "</table>\n"
      ],
      "text/plain": [
       "<pandas.io.formats.style.Styler at 0x26e66dc4f40>"
      ]
     },
     "execution_count": 12,
     "metadata": {},
     "output_type": "execute_result"
    }
   ],
   "source": [
    "sql = \"\"\"\n",
    "SELECT * \n",
    "FROM dividend \n",
    "WHERE name = '%s'\n",
    "\"\"\"\n",
    "sql = sql % name\n",
    "print(sql)\n",
    "\n",
    "dividend = pd.read_sql(sql, const)\n",
    "dividend.drop(['PRICE', 'PERCENT'], axis=1, inplace=True)\n",
    "dividend.columns = dividend.columns.str.lower()\n",
    "dividend['shares'] = dividend['shares'].astype('int64')\n",
    "dividend['xdate'] = pd.to_datetime(dividend['xdate'])\n",
    "dividend['paiddate'] = pd.to_datetime(dividend['paiddate'])\n",
    "dividend.style.format(format_dict)"
   ]
  },
  {
   "cell_type": "code",
   "execution_count": 13,
   "metadata": {},
   "outputs": [
    {
     "name": "stdout",
     "output_type": "stream",
     "text": [
      "\n",
      "UPDATE dividend\n",
      "SET shares = shares + -3000\n",
      "WHERE name = 'MCS'\n",
      "\n"
     ]
    }
   ],
   "source": [
    "sqlUpd = \"\"\"\n",
    "UPDATE dividend\n",
    "SET shares = shares + %s\n",
    "WHERE name = '%s'\n",
    "\"\"\"\n",
    "sqlUpd = sqlUpd % (qty, name)\n",
    "print(sqlUpd)"
   ]
  },
  {
   "cell_type": "code",
   "execution_count": 14,
   "metadata": {},
   "outputs": [
    {
     "data": {
      "text/plain": [
       "1"
      ]
     },
     "execution_count": 14,
     "metadata": {},
     "output_type": "execute_result"
    }
   ],
   "source": [
    "rp = const.execute(sqlUpd)\n",
    "rp.rowcount"
   ]
  },
  {
   "cell_type": "code",
   "execution_count": 15,
   "metadata": {},
   "outputs": [
    {
     "name": "stdout",
     "output_type": "stream",
     "text": [
      "\n",
      "SELECT * \n",
      "FROM dividend \n",
      "WHERE name = 'MCS'\n",
      "\n"
     ]
    },
    {
     "data": {
      "text/html": [
       "<style type=\"text/css\">\n",
       "</style>\n",
       "<table id=\"T_04f30_\">\n",
       "  <thead>\n",
       "    <tr>\n",
       "      <th class=\"blank level0\" >&nbsp;</th>\n",
       "      <th class=\"col_heading level0 col0\" >name</th>\n",
       "      <th class=\"col_heading level0 col1\" >q4</th>\n",
       "      <th class=\"col_heading level0 col2\" >q3</th>\n",
       "      <th class=\"col_heading level0 col3\" >q2</th>\n",
       "      <th class=\"col_heading level0 col4\" >q1</th>\n",
       "      <th class=\"col_heading level0 col5\" >dividend</th>\n",
       "      <th class=\"col_heading level0 col6\" >shares</th>\n",
       "      <th class=\"col_heading level0 col7\" >xdate</th>\n",
       "      <th class=\"col_heading level0 col8\" >paiddate</th>\n",
       "      <th class=\"col_heading level0 col9\" >kind</th>\n",
       "      <th class=\"col_heading level0 col10\" >actual</th>\n",
       "    </tr>\n",
       "  </thead>\n",
       "  <tbody>\n",
       "    <tr>\n",
       "      <th id=\"T_04f30_level0_row0\" class=\"row_heading level0 row0\" >0</th>\n",
       "      <td id=\"T_04f30_row0_col0\" class=\"data row0 col0\" >MCS</td>\n",
       "      <td id=\"T_04f30_row0_col1\" class=\"data row0 col1\" >0.3200</td>\n",
       "      <td id=\"T_04f30_row0_col2\" class=\"data row0 col2\" >0.0000</td>\n",
       "      <td id=\"T_04f30_row0_col3\" class=\"data row0 col3\" >0.2000</td>\n",
       "      <td id=\"T_04f30_row0_col4\" class=\"data row0 col4\" >0.0000</td>\n",
       "      <td id=\"T_04f30_row0_col5\" class=\"data row0 col5\" >0.5200</td>\n",
       "      <td id=\"T_04f30_row0_col6\" class=\"data row0 col6\" >75,000</td>\n",
       "      <td id=\"T_04f30_row0_col7\" class=\"data row0 col7\" >2024-08-23</td>\n",
       "      <td id=\"T_04f30_row0_col8\" class=\"data row0 col8\" >2024-09-10</td>\n",
       "      <td id=\"T_04f30_row0_col9\" class=\"data row0 col9\" ></td>\n",
       "      <td id=\"T_04f30_row0_col10\" class=\"data row0 col10\" >1</td>\n",
       "    </tr>\n",
       "  </tbody>\n",
       "</table>\n"
      ],
      "text/plain": [
       "<pandas.io.formats.style.Styler at 0x26e62fa11f0>"
      ]
     },
     "execution_count": 15,
     "metadata": {},
     "output_type": "execute_result"
    }
   ],
   "source": [
    "sql = \"\"\"\n",
    "SELECT * \n",
    "FROM dividend \n",
    "WHERE name = '%s'\n",
    "\"\"\"\n",
    "sql = sql % name\n",
    "print(sql)\n",
    "\n",
    "dividend = pd.read_sql(sql, const)\n",
    "dividend.drop(['PRICE', 'PERCENT'], axis=1, inplace=True)\n",
    "dividend.columns = dividend.columns.str.lower()\n",
    "dividend['shares'] = dividend['shares'].astype('int64')\n",
    "dividend['xdate'] = pd.to_datetime(dividend['xdate'])\n",
    "dividend['paiddate'] = pd.to_datetime(dividend['paiddate'])\n",
    "dividend.style.format(format_dict)"
   ]
  },
  {
   "cell_type": "markdown",
   "metadata": {},
   "source": [
    "### End of Update dividend table in MySQL stock database from sale transaction"
   ]
  },
  {
   "cell_type": "markdown",
   "metadata": {},
   "source": [
    "### Begin of Update stocks table in SQLite port_lite database from sale transaction"
   ]
  },
  {
   "cell_type": "code",
   "execution_count": 16,
   "metadata": {},
   "outputs": [
    {
     "name": "stdout",
     "output_type": "stream",
     "text": [
      "\n",
      "SELECT * \n",
      "FROM stocks \n",
      "WHERE name = 'MCS'\n",
      "\n"
     ]
    },
    {
     "data": {
      "text/html": [
       "<style type=\"text/css\">\n",
       "</style>\n",
       "<table id=\"T_9e0d2_\">\n",
       "  <thead>\n",
       "    <tr>\n",
       "      <th class=\"blank level0\" >&nbsp;</th>\n",
       "      <th class=\"col_heading level0 col0\" >id</th>\n",
       "      <th class=\"col_heading level0 col1\" >name</th>\n",
       "      <th class=\"col_heading level0 col2\" >max_price</th>\n",
       "      <th class=\"col_heading level0 col3\" >min_price</th>\n",
       "      <th class=\"col_heading level0 col4\" >status</th>\n",
       "      <th class=\"col_heading level0 col5\" >buy_target</th>\n",
       "      <th class=\"col_heading level0 col6\" >sell_target</th>\n",
       "      <th class=\"col_heading level0 col7\" >volume</th>\n",
       "      <th class=\"col_heading level0 col8\" >beta</th>\n",
       "      <th class=\"col_heading level0 col9\" >cost</th>\n",
       "      <th class=\"col_heading level0 col10\" >qty</th>\n",
       "      <th class=\"col_heading level0 col11\" >buy_spread</th>\n",
       "      <th class=\"col_heading level0 col12\" >sell_spread</th>\n",
       "      <th class=\"col_heading level0 col13\" >available_qty</th>\n",
       "      <th class=\"col_heading level0 col14\" >bl</th>\n",
       "      <th class=\"col_heading level0 col15\" >sh</th>\n",
       "      <th class=\"col_heading level0 col16\" >reason</th>\n",
       "      <th class=\"col_heading level0 col17\" >market</th>\n",
       "    </tr>\n",
       "  </thead>\n",
       "  <tbody>\n",
       "    <tr>\n",
       "      <th id=\"T_9e0d2_level0_row0\" class=\"row_heading level0 row0\" >0</th>\n",
       "      <td id=\"T_9e0d2_row0_col0\" class=\"data row0 col0\" >114</td>\n",
       "      <td id=\"T_9e0d2_row0_col1\" class=\"data row0 col1\" >MCS</td>\n",
       "      <td id=\"T_9e0d2_row0_col2\" class=\"data row0 col2\" >0.00</td>\n",
       "      <td id=\"T_9e0d2_row0_col3\" class=\"data row0 col3\" >0.00</td>\n",
       "      <td id=\"T_9e0d2_row0_col4\" class=\"data row0 col4\" >B</td>\n",
       "      <td id=\"T_9e0d2_row0_col5\" class=\"data row0 col5\" >6.00</td>\n",
       "      <td id=\"T_9e0d2_row0_col6\" class=\"data row0 col6\" >8.35</td>\n",
       "      <td id=\"T_9e0d2_row0_col7\" class=\"data row0 col7\" >0.00</td>\n",
       "      <td id=\"T_9e0d2_row0_col8\" class=\"data row0 col8\" >0.00</td>\n",
       "      <td id=\"T_9e0d2_row0_col9\" class=\"data row0 col9\" >15.10</td>\n",
       "      <td id=\"T_9e0d2_row0_col10\" class=\"data row0 col10\" >4,000</td>\n",
       "      <td id=\"T_9e0d2_row0_col11\" class=\"data row0 col11\" >-4</td>\n",
       "      <td id=\"T_9e0d2_row0_col12\" class=\"data row0 col12\" >4</td>\n",
       "      <td id=\"T_9e0d2_row0_col13\" class=\"data row0 col13\" >78,000</td>\n",
       "      <td id=\"T_9e0d2_row0_col14\" class=\"data row0 col14\" >0.000000</td>\n",
       "      <td id=\"T_9e0d2_row0_col15\" class=\"data row0 col15\" >0.000000</td>\n",
       "      <td id=\"T_9e0d2_row0_col16\" class=\"data row0 col16\" >RND60pct</td>\n",
       "      <td id=\"T_9e0d2_row0_col17\" class=\"data row0 col17\" >SET</td>\n",
       "    </tr>\n",
       "  </tbody>\n",
       "</table>\n"
      ],
      "text/plain": [
       "<pandas.io.formats.style.Styler at 0x26e62f97370>"
      ]
     },
     "execution_count": 16,
     "metadata": {},
     "output_type": "execute_result"
    }
   ],
   "source": [
    "sql = \"\"\"\n",
    "SELECT * \n",
    "FROM stocks \n",
    "WHERE name = '%s'\n",
    "\"\"\"\n",
    "sql = sql % name\n",
    "print(sql)\n",
    "\n",
    "stocks = pd.read_sql(sql, conlite)\n",
    "stocks.style.format(format_dict)"
   ]
  },
  {
   "cell_type": "code",
   "execution_count": 17,
   "metadata": {},
   "outputs": [
    {
     "name": "stdout",
     "output_type": "stream",
     "text": [
      "\n",
      "UPDATE stocks\n",
      "SET available_qty = available_qty + -3000,\n",
      "qty = 5000, buy_target = 7.4, sell_target = 12.9, cost = 15.4, reason = 'RD50Pct', status = 'B'\n",
      "WHERE name = 'MCS'\n",
      "\n"
     ]
    }
   ],
   "source": [
    "buy_target  = 7.40 # must calculate manually beforehand\n",
    "sell_target = 12.90\n",
    "cost = 15.40\n",
    "status = 'B'\n",
    "reason = \"RD50Pct\"\n",
    "sell_qty = 5000\n",
    "\n",
    "sqlUpd = \"\"\"\n",
    "UPDATE stocks\n",
    "SET available_qty = available_qty + %s,\n",
    "qty = %s, buy_target = %s, sell_target = %s, cost = %s, reason = '%s', status = '%s'\n",
    "WHERE name = '%s'\n",
    "\"\"\"\n",
    "sqlUpd = sqlUpd % (qty, sell_qty, buy_target, sell_target, cost, reason, status, name)\n",
    "print(sqlUpd)"
   ]
  },
  {
   "cell_type": "code",
   "execution_count": 18,
   "metadata": {},
   "outputs": [
    {
     "data": {
      "text/plain": [
       "1"
      ]
     },
     "execution_count": 18,
     "metadata": {},
     "output_type": "execute_result"
    }
   ],
   "source": [
    "rp = conlite.execute(sqlUpd)\n",
    "rp.rowcount"
   ]
  },
  {
   "cell_type": "code",
   "execution_count": 19,
   "metadata": {},
   "outputs": [
    {
     "name": "stdout",
     "output_type": "stream",
     "text": [
      "\n",
      "SELECT * \n",
      "FROM stocks \n",
      "WHERE name = 'MCS'\n",
      "\n"
     ]
    },
    {
     "data": {
      "text/html": [
       "<style type=\"text/css\">\n",
       "</style>\n",
       "<table id=\"T_1ccd9_\">\n",
       "  <thead>\n",
       "    <tr>\n",
       "      <th class=\"blank level0\" >&nbsp;</th>\n",
       "      <th class=\"col_heading level0 col0\" >id</th>\n",
       "      <th class=\"col_heading level0 col1\" >name</th>\n",
       "      <th class=\"col_heading level0 col2\" >max_price</th>\n",
       "      <th class=\"col_heading level0 col3\" >min_price</th>\n",
       "      <th class=\"col_heading level0 col4\" >status</th>\n",
       "      <th class=\"col_heading level0 col5\" >buy_target</th>\n",
       "      <th class=\"col_heading level0 col6\" >sell_target</th>\n",
       "      <th class=\"col_heading level0 col7\" >volume</th>\n",
       "      <th class=\"col_heading level0 col8\" >beta</th>\n",
       "      <th class=\"col_heading level0 col9\" >cost</th>\n",
       "      <th class=\"col_heading level0 col10\" >qty</th>\n",
       "      <th class=\"col_heading level0 col11\" >buy_spread</th>\n",
       "      <th class=\"col_heading level0 col12\" >sell_spread</th>\n",
       "      <th class=\"col_heading level0 col13\" >available_qty</th>\n",
       "      <th class=\"col_heading level0 col14\" >bl</th>\n",
       "      <th class=\"col_heading level0 col15\" >sh</th>\n",
       "      <th class=\"col_heading level0 col16\" >reason</th>\n",
       "      <th class=\"col_heading level0 col17\" >market</th>\n",
       "    </tr>\n",
       "  </thead>\n",
       "  <tbody>\n",
       "    <tr>\n",
       "      <th id=\"T_1ccd9_level0_row0\" class=\"row_heading level0 row0\" >0</th>\n",
       "      <td id=\"T_1ccd9_row0_col0\" class=\"data row0 col0\" >114</td>\n",
       "      <td id=\"T_1ccd9_row0_col1\" class=\"data row0 col1\" >MCS</td>\n",
       "      <td id=\"T_1ccd9_row0_col2\" class=\"data row0 col2\" >0.00</td>\n",
       "      <td id=\"T_1ccd9_row0_col3\" class=\"data row0 col3\" >0.00</td>\n",
       "      <td id=\"T_1ccd9_row0_col4\" class=\"data row0 col4\" >B</td>\n",
       "      <td id=\"T_1ccd9_row0_col5\" class=\"data row0 col5\" >7.40</td>\n",
       "      <td id=\"T_1ccd9_row0_col6\" class=\"data row0 col6\" >12.90</td>\n",
       "      <td id=\"T_1ccd9_row0_col7\" class=\"data row0 col7\" >0.00</td>\n",
       "      <td id=\"T_1ccd9_row0_col8\" class=\"data row0 col8\" >0.00</td>\n",
       "      <td id=\"T_1ccd9_row0_col9\" class=\"data row0 col9\" >15.40</td>\n",
       "      <td id=\"T_1ccd9_row0_col10\" class=\"data row0 col10\" >5,000</td>\n",
       "      <td id=\"T_1ccd9_row0_col11\" class=\"data row0 col11\" >-4</td>\n",
       "      <td id=\"T_1ccd9_row0_col12\" class=\"data row0 col12\" >4</td>\n",
       "      <td id=\"T_1ccd9_row0_col13\" class=\"data row0 col13\" >75,000</td>\n",
       "      <td id=\"T_1ccd9_row0_col14\" class=\"data row0 col14\" >0.000000</td>\n",
       "      <td id=\"T_1ccd9_row0_col15\" class=\"data row0 col15\" >0.000000</td>\n",
       "      <td id=\"T_1ccd9_row0_col16\" class=\"data row0 col16\" >RD50Pct</td>\n",
       "      <td id=\"T_1ccd9_row0_col17\" class=\"data row0 col17\" >SET</td>\n",
       "    </tr>\n",
       "  </tbody>\n",
       "</table>\n"
      ],
      "text/plain": [
       "<pandas.io.formats.style.Styler at 0x26e66e17910>"
      ]
     },
     "execution_count": 19,
     "metadata": {},
     "output_type": "execute_result"
    }
   ],
   "source": [
    "sql = \"\"\"\n",
    "SELECT * \n",
    "FROM stocks \n",
    "WHERE name = '%s'\n",
    "\"\"\"\n",
    "sql = sql % name\n",
    "print(sql)\n",
    "\n",
    "stocks = pd.read_sql(sql, conlite)\n",
    "stocks.style.format(format_dict)"
   ]
  },
  {
   "cell_type": "markdown",
   "metadata": {},
   "source": [
    "### End of Update stocks table in SQLite port_lite database from sale transaction"
   ]
  },
  {
   "cell_type": "markdown",
   "metadata": {},
   "source": [
    "## End of Sale process"
   ]
  },
  {
   "cell_type": "markdown",
   "metadata": {},
   "source": [
    "### ====================================================="
   ]
  },
  {
   "cell_type": "markdown",
   "metadata": {},
   "source": [
    "## Begin of  Buy process"
   ]
  },
  {
   "cell_type": "markdown",
   "metadata": {},
   "source": [
    "### Begin of Update buy table in MySQL database from buy transaction"
   ]
  },
  {
   "cell_type": "code",
   "execution_count": 25,
   "metadata": {},
   "outputs": [
    {
     "name": "stdout",
     "output_type": "stream",
     "text": [
      "\n",
      "SELECT * \n",
      "FROM buy \n",
      "WHERE name = 'GVREIT'\n",
      "\n"
     ]
    },
    {
     "data": {
      "text/html": [
       "<div>\n",
       "<style scoped>\n",
       "    .dataframe tbody tr th:only-of-type {\n",
       "        vertical-align: middle;\n",
       "    }\n",
       "\n",
       "    .dataframe tbody tr th {\n",
       "        vertical-align: top;\n",
       "    }\n",
       "\n",
       "    .dataframe thead th {\n",
       "        text-align: right;\n",
       "    }\n",
       "</style>\n",
       "<table border=\"1\" class=\"dataframe\">\n",
       "  <thead>\n",
       "    <tr style=\"text-align: right;\">\n",
       "      <th></th>\n",
       "      <th>name</th>\n",
       "      <th>date</th>\n",
       "      <th>shares</th>\n",
       "      <th>price</th>\n",
       "      <th>active</th>\n",
       "      <th>dividend</th>\n",
       "      <th>period</th>\n",
       "      <th>grade</th>\n",
       "    </tr>\n",
       "  </thead>\n",
       "  <tbody>\n",
       "    <tr>\n",
       "      <th>0</th>\n",
       "      <td>GVREIT</td>\n",
       "      <td>2022-08-24</td>\n",
       "      <td>60000</td>\n",
       "      <td>7.9</td>\n",
       "      <td>1</td>\n",
       "      <td>0.7833</td>\n",
       "      <td>2</td>\n",
       "      <td>C1</td>\n",
       "    </tr>\n",
       "  </tbody>\n",
       "</table>\n",
       "</div>"
      ],
      "text/plain": [
       "     name       date  shares  price  active  dividend period grade\n",
       "0  GVREIT 2022-08-24   60000    7.9       1    0.7833      2    C1"
      ]
     },
     "execution_count": 25,
     "metadata": {},
     "output_type": "execute_result"
    }
   ],
   "source": [
    "sql = \"\"\"\n",
    "SELECT * \n",
    "FROM buy \n",
    "WHERE name = '%s'\n",
    "\"\"\"\n",
    "sql = sql % name\n",
    "print(sql)\n",
    "\n",
    "buy = pd.read_sql(sql, const)\n",
    "buy['date'] = pd.to_datetime(buy['date'])\n",
    "buy.drop(['volsell', 'volbal'], axis=1, inplace = True)\n",
    "buy.rename(columns={'volbuy':'shares'}, inplace = True)\n",
    "buy['shares'] = buy['shares'].astype('int64')\n",
    "buy"
   ]
  },
  {
   "cell_type": "code",
   "execution_count": 45,
   "metadata": {},
   "outputs": [
    {
     "data": {
      "text/plain": [
       "name                object\n",
       "date        datetime64[ns]\n",
       "shares               int64\n",
       "price              float64\n",
       "active               int64\n",
       "dividend           float64\n",
       "period              object\n",
       "grade               object\n",
       "dtype: object"
      ]
     },
     "execution_count": 45,
     "metadata": {},
     "output_type": "execute_result"
    }
   ],
   "source": [
    "buy.dtypes"
   ]
  },
  {
   "cell_type": "markdown",
   "metadata": {},
   "source": [
    "### In case there is the same stock name in port"
   ]
  },
  {
   "cell_type": "code",
   "execution_count": 51,
   "metadata": {},
   "outputs": [],
   "source": [
    "def update_buy(const, name, shares, price):\n",
    "    # Use parameterized query to avoid SQL injection\n",
    "    sqlUpd = text(\"\"\"\n",
    "        UPDATE buy\n",
    "        SET volbuy = :volbuy, \n",
    "            price = :price\n",
    "        WHERE name = :name\n",
    "    \"\"\")\n",
    "    \n",
    "    # Execute the query with parameters\n",
    "    rp = const.execute(sqlUpd, {\n",
    "        'volbuy': volbuy,  # Ensure the key matches the parameter in the query\n",
    "        'price': price,\n",
    "        'name': name\n",
    "    })\n",
    "\n",
    "    return f\"Records updated = {rp.rowcount}\""
   ]
  },
  {
   "cell_type": "code",
   "execution_count": 53,
   "metadata": {},
   "outputs": [
    {
     "data": {
      "text/plain": [
       "'Records updated = 1'"
      ]
     },
     "execution_count": 53,
     "metadata": {},
     "output_type": "execute_result"
    }
   ],
   "source": [
    "volbuy = 75000\n",
    "price = 7.64\n",
    "update_buy(const, name, shares, price)"
   ]
  },
  {
   "cell_type": "code",
   "execution_count": 55,
   "metadata": {},
   "outputs": [
    {
     "name": "stdout",
     "output_type": "stream",
     "text": [
      "\n",
      "SELECT * \n",
      "FROM buy \n",
      "WHERE name = 'GVREIT'\n",
      "\n"
     ]
    },
    {
     "data": {
      "text/html": [
       "<style type=\"text/css\">\n",
       "</style>\n",
       "<table id=\"T_f4c7a\">\n",
       "  <thead>\n",
       "    <tr>\n",
       "      <th class=\"blank level0\" >&nbsp;</th>\n",
       "      <th id=\"T_f4c7a_level0_col0\" class=\"col_heading level0 col0\" >name</th>\n",
       "      <th id=\"T_f4c7a_level0_col1\" class=\"col_heading level0 col1\" >date</th>\n",
       "      <th id=\"T_f4c7a_level0_col2\" class=\"col_heading level0 col2\" >shares</th>\n",
       "      <th id=\"T_f4c7a_level0_col3\" class=\"col_heading level0 col3\" >price</th>\n",
       "      <th id=\"T_f4c7a_level0_col4\" class=\"col_heading level0 col4\" >active</th>\n",
       "      <th id=\"T_f4c7a_level0_col5\" class=\"col_heading level0 col5\" >dividend</th>\n",
       "      <th id=\"T_f4c7a_level0_col6\" class=\"col_heading level0 col6\" >period</th>\n",
       "      <th id=\"T_f4c7a_level0_col7\" class=\"col_heading level0 col7\" >grade</th>\n",
       "    </tr>\n",
       "  </thead>\n",
       "  <tbody>\n",
       "    <tr>\n",
       "      <th id=\"T_f4c7a_level0_row0\" class=\"row_heading level0 row0\" >0</th>\n",
       "      <td id=\"T_f4c7a_row0_col0\" class=\"data row0 col0\" >GVREIT</td>\n",
       "      <td id=\"T_f4c7a_row0_col1\" class=\"data row0 col1\" >2022-08-24</td>\n",
       "      <td id=\"T_f4c7a_row0_col2\" class=\"data row0 col2\" >75,000</td>\n",
       "      <td id=\"T_f4c7a_row0_col3\" class=\"data row0 col3\" >7.64</td>\n",
       "      <td id=\"T_f4c7a_row0_col4\" class=\"data row0 col4\" >1</td>\n",
       "      <td id=\"T_f4c7a_row0_col5\" class=\"data row0 col5\" >0.7833</td>\n",
       "      <td id=\"T_f4c7a_row0_col6\" class=\"data row0 col6\" >2</td>\n",
       "      <td id=\"T_f4c7a_row0_col7\" class=\"data row0 col7\" >C1</td>\n",
       "    </tr>\n",
       "  </tbody>\n",
       "</table>\n"
      ],
      "text/plain": [
       "<pandas.io.formats.style.Styler at 0x1beacdcf9e0>"
      ]
     },
     "execution_count": 55,
     "metadata": {},
     "output_type": "execute_result"
    }
   ],
   "source": [
    "sql = \"\"\"\n",
    "SELECT * \n",
    "FROM buy \n",
    "WHERE name = '%s'\n",
    "\"\"\"\n",
    "sql = sql % name\n",
    "print(sql)\n",
    "\n",
    "buy = pd.read_sql(sql, const)\n",
    "buy.drop(['volsell', 'volbal'], axis=1, inplace=True)\n",
    "buy.rename(columns={'volbuy':'shares'},inplace=True)\n",
    "buy['shares'] = buy['shares'].astype('int64')\n",
    "buy.style.format(format_dict)"
   ]
  },
  {
   "cell_type": "markdown",
   "metadata": {},
   "source": [
    "### In case of totally new stock"
   ]
  },
  {
   "cell_type": "code",
   "execution_count": 11,
   "metadata": {},
   "outputs": [
    {
     "data": {
      "text/plain": [
       "['TVO', '2024-11-06', 4000, 24.9, 0, 0, 1, 0, 4, 'A2']"
      ]
     },
     "execution_count": 11,
     "metadata": {},
     "output_type": "execute_result"
    }
   ],
   "source": [
    "rcd = ['TVO', '2024-11-06', 4000, 24.90, 0, 0, 1, 0, 4,'A2']\n",
    "rcd"
   ]
  },
  {
   "cell_type": "code",
   "execution_count": 12,
   "metadata": {},
   "outputs": [
    {
     "name": "stdout",
     "output_type": "stream",
     "text": [
      "\n",
      "INSERT INTO buy (name, date, volbuy, price, volsell, volbal, active, dividend, period, grade)\n",
      "VALUES (%s, %s, %s, %s, %s, %s, %s, %s, %s, %s)\n",
      "\n"
     ]
    }
   ],
   "source": [
    "sqlIns = \"\"\"\n",
    "INSERT INTO buy (name, date, volbuy, price, volsell, volbal, active, dividend, period, grade)\n",
    "VALUES (%s, %s, %s, %s, %s, %s, %s, %s, %s, %s)\n",
    "\"\"\"\n",
    "print(sqlIns)"
   ]
  },
  {
   "cell_type": "code",
   "execution_count": 13,
   "metadata": {},
   "outputs": [
    {
     "data": {
      "text/plain": [
       "1"
      ]
     },
     "execution_count": 13,
     "metadata": {},
     "output_type": "execute_result"
    }
   ],
   "source": [
    "rp = const.execute(sqlIns, rcd)\n",
    "rp.rowcount"
   ]
  },
  {
   "cell_type": "code",
   "execution_count": 15,
   "metadata": {},
   "outputs": [],
   "source": [
    "name = 'TVO'"
   ]
  },
  {
   "cell_type": "code",
   "execution_count": 16,
   "metadata": {},
   "outputs": [
    {
     "name": "stdout",
     "output_type": "stream",
     "text": [
      "\n",
      "SELECT * \n",
      "FROM buy \n",
      "WHERE name = 'TVO'\n",
      "\n"
     ]
    },
    {
     "data": {
      "text/html": [
       "<style type=\"text/css\">\n",
       "</style>\n",
       "<table id=\"T_84260_\">\n",
       "  <thead>\n",
       "    <tr>\n",
       "      <th class=\"blank level0\" >&nbsp;</th>\n",
       "      <th class=\"col_heading level0 col0\" >name</th>\n",
       "      <th class=\"col_heading level0 col1\" >date</th>\n",
       "      <th class=\"col_heading level0 col2\" >shares</th>\n",
       "      <th class=\"col_heading level0 col3\" >price</th>\n",
       "      <th class=\"col_heading level0 col4\" >active</th>\n",
       "      <th class=\"col_heading level0 col5\" >dividend</th>\n",
       "      <th class=\"col_heading level0 col6\" >period</th>\n",
       "      <th class=\"col_heading level0 col7\" >grade</th>\n",
       "    </tr>\n",
       "  </thead>\n",
       "  <tbody>\n",
       "    <tr>\n",
       "      <th id=\"T_84260_level0_row0\" class=\"row_heading level0 row0\" >0</th>\n",
       "      <td id=\"T_84260_row0_col0\" class=\"data row0 col0\" >TVO</td>\n",
       "      <td id=\"T_84260_row0_col1\" class=\"data row0 col1\" >2024-11-06</td>\n",
       "      <td id=\"T_84260_row0_col2\" class=\"data row0 col2\" >4,000</td>\n",
       "      <td id=\"T_84260_row0_col3\" class=\"data row0 col3\" >24.90</td>\n",
       "      <td id=\"T_84260_row0_col4\" class=\"data row0 col4\" >1</td>\n",
       "      <td id=\"T_84260_row0_col5\" class=\"data row0 col5\" >0.0000</td>\n",
       "      <td id=\"T_84260_row0_col6\" class=\"data row0 col6\" >4</td>\n",
       "      <td id=\"T_84260_row0_col7\" class=\"data row0 col7\" >A2</td>\n",
       "    </tr>\n",
       "  </tbody>\n",
       "</table>\n"
      ],
      "text/plain": [
       "<pandas.io.formats.style.Styler at 0x26b126a0a00>"
      ]
     },
     "execution_count": 16,
     "metadata": {},
     "output_type": "execute_result"
    }
   ],
   "source": [
    "sql = \"\"\"\n",
    "SELECT * \n",
    "FROM buy \n",
    "WHERE name = '%s'\n",
    "\"\"\"\n",
    "sql = sql % name\n",
    "print(sql)\n",
    "\n",
    "buy = pd.read_sql(sql, const)\n",
    "buy.drop(['volsell', 'volbal'], axis=1, inplace=True)\n",
    "buy.rename(columns={'volbuy':'shares'},inplace=True)\n",
    "buy['shares'] = buy['shares'].astype('int64')\n",
    "buy.style.format(format_dict)"
   ]
  },
  {
   "cell_type": "markdown",
   "metadata": {},
   "source": [
    "### End of Update buy table in MySQL database from buy transaction"
   ]
  },
  {
   "cell_type": "markdown",
   "metadata": {},
   "source": [
    "### Begin of Update dividend table in MySQL stock database from buy transaction"
   ]
  },
  {
   "cell_type": "code",
   "execution_count": 59,
   "metadata": {},
   "outputs": [
    {
     "name": "stdout",
     "output_type": "stream",
     "text": [
      "\n",
      "SELECT * \n",
      "FROM dividend \n",
      "WHERE name = 'GVREIT' \n",
      "\n"
     ]
    },
    {
     "data": {
      "text/html": [
       "<style type=\"text/css\">\n",
       "</style>\n",
       "<table id=\"T_5e299\">\n",
       "  <thead>\n",
       "    <tr>\n",
       "      <th class=\"blank level0\" >&nbsp;</th>\n",
       "      <th id=\"T_5e299_level0_col0\" class=\"col_heading level0 col0\" >name</th>\n",
       "      <th id=\"T_5e299_level0_col1\" class=\"col_heading level0 col1\" >q4</th>\n",
       "      <th id=\"T_5e299_level0_col2\" class=\"col_heading level0 col2\" >q3</th>\n",
       "      <th id=\"T_5e299_level0_col3\" class=\"col_heading level0 col3\" >q2</th>\n",
       "      <th id=\"T_5e299_level0_col4\" class=\"col_heading level0 col4\" >q1</th>\n",
       "      <th id=\"T_5e299_level0_col5\" class=\"col_heading level0 col5\" >dividend</th>\n",
       "      <th id=\"T_5e299_level0_col6\" class=\"col_heading level0 col6\" >shares</th>\n",
       "      <th id=\"T_5e299_level0_col7\" class=\"col_heading level0 col7\" >xdate</th>\n",
       "      <th id=\"T_5e299_level0_col8\" class=\"col_heading level0 col8\" >paiddate</th>\n",
       "      <th id=\"T_5e299_level0_col9\" class=\"col_heading level0 col9\" >kind</th>\n",
       "      <th id=\"T_5e299_level0_col10\" class=\"col_heading level0 col10\" >actual</th>\n",
       "    </tr>\n",
       "  </thead>\n",
       "  <tbody>\n",
       "    <tr>\n",
       "      <th id=\"T_5e299_level0_row0\" class=\"row_heading level0 row0\" >0</th>\n",
       "      <td id=\"T_5e299_row0_col0\" class=\"data row0 col0\" >GVREIT</td>\n",
       "      <td id=\"T_5e299_row0_col1\" class=\"data row0 col1\" >0.2044</td>\n",
       "      <td id=\"T_5e299_row0_col2\" class=\"data row0 col2\" >0.1911</td>\n",
       "      <td id=\"T_5e299_row0_col3\" class=\"data row0 col3\" >0.1963</td>\n",
       "      <td id=\"T_5e299_row0_col4\" class=\"data row0 col4\" >0.2050</td>\n",
       "      <td id=\"T_5e299_row0_col5\" class=\"data row0 col5\" >0.7968</td>\n",
       "      <td id=\"T_5e299_row0_col6\" class=\"data row0 col6\" >60,000</td>\n",
       "      <td id=\"T_5e299_row0_col7\" class=\"data row0 col7\" >2025-02-26</td>\n",
       "      <td id=\"T_5e299_row0_col8\" class=\"data row0 col8\" >2025-03-12</td>\n",
       "      <td id=\"T_5e299_row0_col9\" class=\"data row0 col9\" ></td>\n",
       "      <td id=\"T_5e299_row0_col10\" class=\"data row0 col10\" >1</td>\n",
       "    </tr>\n",
       "  </tbody>\n",
       "</table>\n"
      ],
      "text/plain": [
       "<pandas.io.formats.style.Styler at 0x1beacdda450>"
      ]
     },
     "execution_count": 59,
     "metadata": {},
     "output_type": "execute_result"
    }
   ],
   "source": [
    "sql = \"\"\"\n",
    "SELECT * \n",
    "FROM dividend \n",
    "WHERE name = '%s' \n",
    "\"\"\"\n",
    "sql = sql % name\n",
    "print(sql)\n",
    "\n",
    "dividend = pd.read_sql(sql, const)\n",
    "dividend.drop(['PRICE', 'PERCENT'], axis=1, inplace=True)\n",
    "dividend.columns = dividend.columns.str.lower()\n",
    "dividend['shares'] = dividend['shares'].astype('int64')\n",
    "dividend['xdate'] = pd.to_datetime(dividend['xdate'])\n",
    "dividend['paiddate'] = pd.to_datetime(dividend['paiddate'])\n",
    "dividend.style.format(format_dict)"
   ]
  },
  {
   "cell_type": "code",
   "execution_count": 61,
   "metadata": {},
   "outputs": [
    {
     "data": {
      "text/plain": [
       "name                object\n",
       "q4                 float64\n",
       "q3                 float64\n",
       "q2                 float64\n",
       "q1                 float64\n",
       "dividend           float64\n",
       "shares               int64\n",
       "xdate       datetime64[ns]\n",
       "paiddate    datetime64[ns]\n",
       "kind                object\n",
       "actual               int64\n",
       "dtype: object"
      ]
     },
     "execution_count": 61,
     "metadata": {},
     "output_type": "execute_result"
    }
   ],
   "source": [
    "dividend.dtypes"
   ]
  },
  {
   "cell_type": "code",
   "execution_count": 63,
   "metadata": {},
   "outputs": [],
   "source": [
    "def update_dividend(const, name, shares):\n",
    "    # Use parameterized query to avoid SQL injection\n",
    "    sqlUpd = text(\"\"\"\n",
    "        UPDATE dividend\n",
    "        SET shares = :shares\n",
    "        WHERE name = :name\n",
    "    \"\"\")\n",
    "    \n",
    "    # Execute the query with parameters\n",
    "    rp = const.execute(sqlUpd, {\n",
    "        'shares': shares,  # Ensure the key matches the parameter in the query\n",
    "        'name': name\n",
    "    })\n",
    "\n",
    "    return f\"Records updated = {rp.rowcount}\""
   ]
  },
  {
   "cell_type": "code",
   "execution_count": 65,
   "metadata": {},
   "outputs": [
    {
     "data": {
      "text/plain": [
       "'Records updated = 1'"
      ]
     },
     "execution_count": 65,
     "metadata": {},
     "output_type": "execute_result"
    }
   ],
   "source": [
    "shares = 75000\n",
    "update_dividend(const, name, shares)"
   ]
  },
  {
   "cell_type": "code",
   "execution_count": 67,
   "metadata": {},
   "outputs": [
    {
     "name": "stdout",
     "output_type": "stream",
     "text": [
      "\n",
      "SELECT * \n",
      "FROM dividend \n",
      "WHERE name = 'GVREIT' \n",
      "\n"
     ]
    },
    {
     "data": {
      "text/html": [
       "<style type=\"text/css\">\n",
       "</style>\n",
       "<table id=\"T_3be52\">\n",
       "  <thead>\n",
       "    <tr>\n",
       "      <th class=\"blank level0\" >&nbsp;</th>\n",
       "      <th id=\"T_3be52_level0_col0\" class=\"col_heading level0 col0\" >name</th>\n",
       "      <th id=\"T_3be52_level0_col1\" class=\"col_heading level0 col1\" >q4</th>\n",
       "      <th id=\"T_3be52_level0_col2\" class=\"col_heading level0 col2\" >q3</th>\n",
       "      <th id=\"T_3be52_level0_col3\" class=\"col_heading level0 col3\" >q2</th>\n",
       "      <th id=\"T_3be52_level0_col4\" class=\"col_heading level0 col4\" >q1</th>\n",
       "      <th id=\"T_3be52_level0_col5\" class=\"col_heading level0 col5\" >dividend</th>\n",
       "      <th id=\"T_3be52_level0_col6\" class=\"col_heading level0 col6\" >shares</th>\n",
       "      <th id=\"T_3be52_level0_col7\" class=\"col_heading level0 col7\" >xdate</th>\n",
       "      <th id=\"T_3be52_level0_col8\" class=\"col_heading level0 col8\" >paiddate</th>\n",
       "      <th id=\"T_3be52_level0_col9\" class=\"col_heading level0 col9\" >kind</th>\n",
       "      <th id=\"T_3be52_level0_col10\" class=\"col_heading level0 col10\" >actual</th>\n",
       "    </tr>\n",
       "  </thead>\n",
       "  <tbody>\n",
       "    <tr>\n",
       "      <th id=\"T_3be52_level0_row0\" class=\"row_heading level0 row0\" >0</th>\n",
       "      <td id=\"T_3be52_row0_col0\" class=\"data row0 col0\" >GVREIT</td>\n",
       "      <td id=\"T_3be52_row0_col1\" class=\"data row0 col1\" >0.2044</td>\n",
       "      <td id=\"T_3be52_row0_col2\" class=\"data row0 col2\" >0.1911</td>\n",
       "      <td id=\"T_3be52_row0_col3\" class=\"data row0 col3\" >0.1963</td>\n",
       "      <td id=\"T_3be52_row0_col4\" class=\"data row0 col4\" >0.2050</td>\n",
       "      <td id=\"T_3be52_row0_col5\" class=\"data row0 col5\" >0.7968</td>\n",
       "      <td id=\"T_3be52_row0_col6\" class=\"data row0 col6\" >75,000</td>\n",
       "      <td id=\"T_3be52_row0_col7\" class=\"data row0 col7\" >2025-02-26</td>\n",
       "      <td id=\"T_3be52_row0_col8\" class=\"data row0 col8\" >2025-03-12</td>\n",
       "      <td id=\"T_3be52_row0_col9\" class=\"data row0 col9\" ></td>\n",
       "      <td id=\"T_3be52_row0_col10\" class=\"data row0 col10\" >1</td>\n",
       "    </tr>\n",
       "  </tbody>\n",
       "</table>\n"
      ],
      "text/plain": [
       "<pandas.io.formats.style.Styler at 0x1beacdf6ed0>"
      ]
     },
     "execution_count": 67,
     "metadata": {},
     "output_type": "execute_result"
    }
   ],
   "source": [
    "sql = \"\"\"\n",
    "SELECT * \n",
    "FROM dividend \n",
    "WHERE name = '%s' \n",
    "\"\"\"\n",
    "sql = sql % name\n",
    "print(sql)\n",
    "\n",
    "dividend = pd.read_sql(sql, const)\n",
    "dividend.drop(['PRICE', 'PERCENT'], axis=1, inplace=True)\n",
    "dividend.columns = dividend.columns.str.lower()\n",
    "dividend['shares'] = dividend['shares'].astype('int64')\n",
    "dividend['xdate'] = pd.to_datetime(dividend['xdate'])\n",
    "dividend['paiddate'] = pd.to_datetime(dividend['paiddate'])\n",
    "dividend.style.format(format_dict)"
   ]
  },
  {
   "cell_type": "markdown",
   "metadata": {},
   "source": [
    "### In case of totally new stock"
   ]
  },
  {
   "cell_type": "code",
   "execution_count": 15,
   "metadata": {},
   "outputs": [
    {
     "data": {
      "text/plain": [
       "['TOA', 0.25, 0, 0.33, 0, 0.58, 1000, '2023-08-30', '2023-09-14', '', 1]"
      ]
     },
     "execution_count": 15,
     "metadata": {},
     "output_type": "execute_result"
    }
   ],
   "source": [
    "rcd = ['TVO', 0.25, 0, 0.33, 0, 0.58, 1000, '2023-08-30', '2023-09-14', '', 1]\n",
    "rcd"
   ]
  },
  {
   "cell_type": "code",
   "execution_count": 15,
   "metadata": {},
   "outputs": [
    {
     "name": "stdout",
     "output_type": "stream",
     "text": [
      "\n",
      "INSERT INTO dividend (name, q4, q3, q2, q1, dividend, shares, xdate, paiddate, kind, actual)\n",
      "VALUES (%s, %s, %s, %s, %s, %s, %s, %s, %s, %s, %s)\n",
      "\n"
     ]
    }
   ],
   "source": [
    "sqlIns = \"\"\"\n",
    "INSERT INTO dividend (name, q4, q3, q2, q1, dividend, shares, xdate, paiddate, kind, actual)\n",
    "VALUES (%s, %s, %s, %s, %s, %s, %s, %s, %s, %s, %s)\n",
    "\"\"\"\n",
    "print(sqlIns)"
   ]
  },
  {
   "cell_type": "code",
   "execution_count": 16,
   "metadata": {},
   "outputs": [
    {
     "data": {
      "text/plain": [
       "1"
      ]
     },
     "execution_count": 16,
     "metadata": {},
     "output_type": "execute_result"
    }
   ],
   "source": [
    "rp = const.execute(sqlIns, rcd)\n",
    "rp.rowcount"
   ]
  },
  {
   "cell_type": "code",
   "execution_count": 17,
   "metadata": {},
   "outputs": [
    {
     "name": "stdout",
     "output_type": "stream",
     "text": [
      "\n",
      "SELECT * \n",
      "FROM dividend \n",
      "WHERE name = 'TOA' \n",
      "\n"
     ]
    },
    {
     "data": {
      "text/html": [
       "<style type=\"text/css\">\n",
       "</style>\n",
       "<table id=\"T_11606_\">\n",
       "  <thead>\n",
       "    <tr>\n",
       "      <th class=\"blank level0\" >&nbsp;</th>\n",
       "      <th class=\"col_heading level0 col0\" >name</th>\n",
       "      <th class=\"col_heading level0 col1\" >q4</th>\n",
       "      <th class=\"col_heading level0 col2\" >q3</th>\n",
       "      <th class=\"col_heading level0 col3\" >q2</th>\n",
       "      <th class=\"col_heading level0 col4\" >q1</th>\n",
       "      <th class=\"col_heading level0 col5\" >dividend</th>\n",
       "      <th class=\"col_heading level0 col6\" >shares</th>\n",
       "      <th class=\"col_heading level0 col7\" >xdate</th>\n",
       "      <th class=\"col_heading level0 col8\" >paiddate</th>\n",
       "      <th class=\"col_heading level0 col9\" >kind</th>\n",
       "      <th class=\"col_heading level0 col10\" >actual</th>\n",
       "    </tr>\n",
       "  </thead>\n",
       "  <tbody>\n",
       "    <tr>\n",
       "      <th id=\"T_11606_level0_row0\" class=\"row_heading level0 row0\" >0</th>\n",
       "      <td id=\"T_11606_row0_col0\" class=\"data row0 col0\" >TOA</td>\n",
       "      <td id=\"T_11606_row0_col1\" class=\"data row0 col1\" >0.2500</td>\n",
       "      <td id=\"T_11606_row0_col2\" class=\"data row0 col2\" >0.0000</td>\n",
       "      <td id=\"T_11606_row0_col3\" class=\"data row0 col3\" >0.3300</td>\n",
       "      <td id=\"T_11606_row0_col4\" class=\"data row0 col4\" >0.0000</td>\n",
       "      <td id=\"T_11606_row0_col5\" class=\"data row0 col5\" >0.5800</td>\n",
       "      <td id=\"T_11606_row0_col6\" class=\"data row0 col6\" >1,000</td>\n",
       "      <td id=\"T_11606_row0_col7\" class=\"data row0 col7\" >2023-08-30</td>\n",
       "      <td id=\"T_11606_row0_col8\" class=\"data row0 col8\" >2023-09-14</td>\n",
       "      <td id=\"T_11606_row0_col9\" class=\"data row0 col9\" ></td>\n",
       "      <td id=\"T_11606_row0_col10\" class=\"data row0 col10\" >1</td>\n",
       "    </tr>\n",
       "  </tbody>\n",
       "</table>\n"
      ],
      "text/plain": [
       "<pandas.io.formats.style.Styler at 0x1880f06adf0>"
      ]
     },
     "execution_count": 17,
     "metadata": {},
     "output_type": "execute_result"
    }
   ],
   "source": [
    "sql = \"\"\"\n",
    "SELECT * \n",
    "FROM dividend \n",
    "WHERE name = '%s' \n",
    "\"\"\"\n",
    "sql = sql % name\n",
    "print(sql)\n",
    "\n",
    "dividend = pd.read_sql(sql, const)\n",
    "dividend.drop(['PRICE', 'PERCENT'], axis=1, inplace=True)\n",
    "dividend.columns = dividend.columns.str.lower()\n",
    "dividend['shares'] = dividend['shares'].astype('int64')\n",
    "dividend['xdate'] = pd.to_datetime(dividend['xdate'])\n",
    "dividend['paiddate'] = pd.to_datetime(dividend['paiddate'])\n",
    "dividend.style.format(format_dict)"
   ]
  },
  {
   "cell_type": "markdown",
   "metadata": {},
   "source": [
    "### End of Create dividend table in MySQL stock database from buy transaction"
   ]
  },
  {
   "cell_type": "markdown",
   "metadata": {},
   "source": [
    "### Begin of Update stocks table in SQLite port_lite database from buy transaction"
   ]
  },
  {
   "cell_type": "code",
   "execution_count": 69,
   "metadata": {
    "scrolled": true
   },
   "outputs": [
    {
     "name": "stdout",
     "output_type": "stream",
     "text": [
      "\n",
      "SELECT * \n",
      "FROM stocks \n",
      "WHERE name = 'GVREIT'\n",
      "\n"
     ]
    },
    {
     "data": {
      "text/html": [
       "<div>\n",
       "<style scoped>\n",
       "    .dataframe tbody tr th:only-of-type {\n",
       "        vertical-align: middle;\n",
       "    }\n",
       "\n",
       "    .dataframe tbody tr th {\n",
       "        vertical-align: top;\n",
       "    }\n",
       "\n",
       "    .dataframe thead th {\n",
       "        text-align: right;\n",
       "    }\n",
       "</style>\n",
       "<table border=\"1\" class=\"dataframe\">\n",
       "  <thead>\n",
       "    <tr style=\"text-align: right;\">\n",
       "      <th></th>\n",
       "      <th>id</th>\n",
       "      <th>name</th>\n",
       "      <th>max_price</th>\n",
       "      <th>min_price</th>\n",
       "      <th>status</th>\n",
       "      <th>buy_target</th>\n",
       "      <th>sell_target</th>\n",
       "      <th>volume</th>\n",
       "      <th>beta</th>\n",
       "      <th>cost</th>\n",
       "      <th>qty</th>\n",
       "      <th>buy_spread</th>\n",
       "      <th>sell_spread</th>\n",
       "      <th>available_qty</th>\n",
       "      <th>bl</th>\n",
       "      <th>sh</th>\n",
       "      <th>reason</th>\n",
       "      <th>market</th>\n",
       "    </tr>\n",
       "  </thead>\n",
       "  <tbody>\n",
       "    <tr>\n",
       "      <th>0</th>\n",
       "      <td>108</td>\n",
       "      <td>GVREIT</td>\n",
       "      <td>0.0</td>\n",
       "      <td>0.0</td>\n",
       "      <td>B</td>\n",
       "      <td>6.25</td>\n",
       "      <td>7.2</td>\n",
       "      <td>0.0</td>\n",
       "      <td>0.0</td>\n",
       "      <td>7.9</td>\n",
       "      <td>6000</td>\n",
       "      <td>-4</td>\n",
       "      <td>4</td>\n",
       "      <td>60000</td>\n",
       "      <td>0.0</td>\n",
       "      <td>0.0</td>\n",
       "      <td>RND20Pct</td>\n",
       "      <td>SET</td>\n",
       "    </tr>\n",
       "  </tbody>\n",
       "</table>\n",
       "</div>"
      ],
      "text/plain": [
       "    id    name  max_price  min_price status  buy_target  sell_target  volume  \\\n",
       "0  108  GVREIT        0.0        0.0      B        6.25          7.2     0.0   \n",
       "\n",
       "   beta  cost   qty  buy_spread  sell_spread  available_qty   bl   sh  \\\n",
       "0   0.0   7.9  6000          -4            4          60000  0.0  0.0   \n",
       "\n",
       "     reason market  \n",
       "0  RND20Pct    SET  "
      ]
     },
     "execution_count": 69,
     "metadata": {},
     "output_type": "execute_result"
    }
   ],
   "source": [
    "sql = \"\"\"\n",
    "SELECT * \n",
    "FROM stocks \n",
    "WHERE name = '%s'\n",
    "\"\"\"\n",
    "sql = sql % name\n",
    "print(sql)\n",
    "\n",
    "stocks = pd.read_sql(sql, conlite)\n",
    "stocks"
   ]
  },
  {
   "cell_type": "code",
   "execution_count": 18,
   "metadata": {},
   "outputs": [
    {
     "data": {
      "text/plain": [
       "(24.9, 24.9, 25.25, 'S', 'DTD', 4000, 4000)"
      ]
     },
     "execution_count": 18,
     "metadata": {},
     "output_type": "execute_result"
    }
   ],
   "source": [
    "new_cost = 24.9\n",
    "buy_target = 24.9\n",
    "sell_target = 25.25\n",
    "status = 'S'\n",
    "reason = 'DTD'\n",
    "new_buy_qty = 4000\n",
    "new_sell_qty = 4000\n",
    "new_cost, buy_target, sell_target, status, reason, new_buy_qty, new_sell_qty "
   ]
  },
  {
   "cell_type": "code",
   "execution_count": 19,
   "metadata": {},
   "outputs": [
    {
     "name": "stdout",
     "output_type": "stream",
     "text": [
      "\n",
      "UPDATE stocks\n",
      "SET available_qty = available_qty + 2500, \n",
      "cost = 24.9, buy_target = 24.9, sell_target = 25.25, status = 'S', \n",
      "reason = 'DTD', qty = 4000\n",
      "WHERE name = 'TVO'\n",
      "\n"
     ]
    }
   ],
   "source": [
    "#qty = 12000\n",
    "sqlUpd = \"\"\"\n",
    "UPDATE stocks\n",
    "SET available_qty = available_qty + %s, \n",
    "cost = %s, buy_target = %s, sell_target = %s, status = '%s', \n",
    "reason = '%s', qty = %s\n",
    "WHERE name = '%s'\n",
    "\"\"\"\n",
    "sqlUpd = sqlUpd % (qty, new_cost, buy_target, sell_target, status, reason, new_sell_qty, name)\n",
    "print(sqlUpd)"
   ]
  },
  {
   "cell_type": "code",
   "execution_count": 85,
   "metadata": {},
   "outputs": [
    {
     "data": {
      "text/plain": [
       "id                 int64\n",
       "name              object\n",
       "max_price        float64\n",
       "min_price        float64\n",
       "status            object\n",
       "buy_target       float64\n",
       "sell_target      float64\n",
       "volume           float64\n",
       "beta             float64\n",
       "cost             float64\n",
       "qty                int64\n",
       "buy_spread         int64\n",
       "sell_spread        int64\n",
       "available_qty      int64\n",
       "bl               float64\n",
       "sh               float64\n",
       "reason            object\n",
       "market            object\n",
       "dtype: object"
      ]
     },
     "execution_count": 85,
     "metadata": {},
     "output_type": "execute_result"
    }
   ],
   "source": [
    "stocks.dtypes"
   ]
  },
  {
   "cell_type": "code",
   "execution_count": 119,
   "metadata": {},
   "outputs": [],
   "source": [
    "def update_stocksLite(conlite, name, available_qty, cost):\n",
    "    # Use parameterized query to avoid SQL injection\n",
    "    sqlUpdLite = text(\"\"\"\n",
    "        UPDATE stocks\n",
    "        SET available_qty = :available_qty,\n",
    "        cost = :cost\n",
    "        WHERE name = :name\n",
    "    \"\"\")\n",
    "    \n",
    "    # Execute the query with parameters\n",
    "    rp = conlite.execute(sqlUpdLite, {\n",
    "        'available_qty': available_qty, \n",
    "        'cost': cost,\n",
    "        'name': name\n",
    "    })\n",
    "\n",
    "    return f\"Records updated = {rp.rowcount}\""
   ]
  },
  {
   "cell_type": "code",
   "execution_count": 147,
   "metadata": {},
   "outputs": [
    {
     "ename": "AttributeError",
     "evalue": "'Connection' object has no attribute 'cursor'",
     "output_type": "error",
     "traceback": [
      "\u001b[1;31m---------------------------------------------------------------------------\u001b[0m",
      "\u001b[1;31mAttributeError\u001b[0m                            Traceback (most recent call last)",
      "Cell \u001b[1;32mIn[147], line 6\u001b[0m\n\u001b[0;32m      4\u001b[0m engine \u001b[38;5;241m=\u001b[39m create_engine(\u001b[38;5;124m\"\u001b[39m\u001b[38;5;124msqlite:///c:\u001b[39m\u001b[38;5;130;01m\\\\\u001b[39;00m\u001b[38;5;124mruby\u001b[39m\u001b[38;5;130;01m\\\\\u001b[39;00m\u001b[38;5;124mport_lite\u001b[39m\u001b[38;5;130;01m\\\\\u001b[39;00m\u001b[38;5;124mdb\u001b[39m\u001b[38;5;130;01m\\\\\u001b[39;00m\u001b[38;5;124mdevelopment.sqlite3\u001b[39m\u001b[38;5;124m\"\u001b[39m)\n\u001b[0;32m      5\u001b[0m conlite \u001b[38;5;241m=\u001b[39m engine\u001b[38;5;241m.\u001b[39mconnect()\n\u001b[1;32m----> 6\u001b[0m cursor \u001b[38;5;241m=\u001b[39m conlite\u001b[38;5;241m.\u001b[39mcursor()\n\u001b[0;32m      8\u001b[0m \u001b[38;5;66;03m# Execute the SQL query\u001b[39;00m\n\u001b[0;32m      9\u001b[0m sql \u001b[38;5;241m=\u001b[39m \u001b[38;5;124m'\u001b[39m\u001b[38;5;124mSELECT available_qty FROM stocks WHERE name = \u001b[39m\u001b[38;5;124m\"\u001b[39m\u001b[38;5;124mGVREIT\u001b[39m\u001b[38;5;124m\"\u001b[39m\u001b[38;5;124m'\u001b[39m\n",
      "\u001b[1;31mAttributeError\u001b[0m: 'Connection' object has no attribute 'cursor'"
     ]
    }
   ],
   "source": [
    "import sqlite3\n",
    "\n",
    "# Connect to the SQLite database\n",
    "engine = create_engine(\"sqlite:///c:\\\\ruby\\\\port_lite\\\\db\\\\development.sqlite3\")\n",
    "conlite = engine.connect()\n",
    "cursor = conlite.cursor()\n",
    "\n",
    "# Execute the SQL query\n",
    "sql = 'SELECT available_qty FROM stocks WHERE name = \"GVREIT\"'\n",
    "cursor.execute(sql)\n",
    "\n",
    "# Fetch the result\n",
    "qty = cursor.fetchone()  # Fetches the first row as a tuple\n",
    "if qty:\n",
    "    qty = qty[0]  # Extract the value from the tuple\n",
    "    print(\"Available Quantity:\", qty)\n",
    "else:\n",
    "    print(\"No data found for GVREIT.\")\n",
    "\n",
    "# Close the connection\n",
    "#conlite.close()"
   ]
  },
  {
   "cell_type": "code",
   "execution_count": 143,
   "metadata": {},
   "outputs": [
    {
     "data": {
      "text/plain": [
       "'Records updated = 1'"
      ]
     },
     "execution_count": 143,
     "metadata": {},
     "output_type": "execute_result"
    }
   ],
   "source": [
    "available_qty = 75000\n",
    "cost = 7.64\n",
    "update_stockslite(conlite, name, available_qty, cost)"
   ]
  },
  {
   "cell_type": "code",
   "execution_count": 123,
   "metadata": {},
   "outputs": [
    {
     "name": "stdout",
     "output_type": "stream",
     "text": [
      "\n",
      "SELECT * \n",
      "FROM stocks \n",
      "WHERE name = 'GVREIT'\n",
      "\n"
     ]
    },
    {
     "data": {
      "text/html": [
       "<style type=\"text/css\">\n",
       "</style>\n",
       "<table id=\"T_8eeb1\">\n",
       "  <thead>\n",
       "    <tr>\n",
       "      <th class=\"blank level0\" >&nbsp;</th>\n",
       "      <th id=\"T_8eeb1_level0_col0\" class=\"col_heading level0 col0\" >id</th>\n",
       "      <th id=\"T_8eeb1_level0_col1\" class=\"col_heading level0 col1\" >name</th>\n",
       "      <th id=\"T_8eeb1_level0_col2\" class=\"col_heading level0 col2\" >max_price</th>\n",
       "      <th id=\"T_8eeb1_level0_col3\" class=\"col_heading level0 col3\" >min_price</th>\n",
       "      <th id=\"T_8eeb1_level0_col4\" class=\"col_heading level0 col4\" >status</th>\n",
       "      <th id=\"T_8eeb1_level0_col5\" class=\"col_heading level0 col5\" >buy_target</th>\n",
       "      <th id=\"T_8eeb1_level0_col6\" class=\"col_heading level0 col6\" >sell_target</th>\n",
       "      <th id=\"T_8eeb1_level0_col7\" class=\"col_heading level0 col7\" >volume</th>\n",
       "      <th id=\"T_8eeb1_level0_col8\" class=\"col_heading level0 col8\" >beta</th>\n",
       "      <th id=\"T_8eeb1_level0_col9\" class=\"col_heading level0 col9\" >cost</th>\n",
       "      <th id=\"T_8eeb1_level0_col10\" class=\"col_heading level0 col10\" >qty</th>\n",
       "      <th id=\"T_8eeb1_level0_col11\" class=\"col_heading level0 col11\" >buy_spread</th>\n",
       "      <th id=\"T_8eeb1_level0_col12\" class=\"col_heading level0 col12\" >sell_spread</th>\n",
       "      <th id=\"T_8eeb1_level0_col13\" class=\"col_heading level0 col13\" >available_qty</th>\n",
       "      <th id=\"T_8eeb1_level0_col14\" class=\"col_heading level0 col14\" >bl</th>\n",
       "      <th id=\"T_8eeb1_level0_col15\" class=\"col_heading level0 col15\" >sh</th>\n",
       "      <th id=\"T_8eeb1_level0_col16\" class=\"col_heading level0 col16\" >reason</th>\n",
       "      <th id=\"T_8eeb1_level0_col17\" class=\"col_heading level0 col17\" >market</th>\n",
       "    </tr>\n",
       "  </thead>\n",
       "  <tbody>\n",
       "    <tr>\n",
       "      <th id=\"T_8eeb1_level0_row0\" class=\"row_heading level0 row0\" >0</th>\n",
       "      <td id=\"T_8eeb1_row0_col0\" class=\"data row0 col0\" >108</td>\n",
       "      <td id=\"T_8eeb1_row0_col1\" class=\"data row0 col1\" >GVREIT</td>\n",
       "      <td id=\"T_8eeb1_row0_col2\" class=\"data row0 col2\" >0.00</td>\n",
       "      <td id=\"T_8eeb1_row0_col3\" class=\"data row0 col3\" >0.00</td>\n",
       "      <td id=\"T_8eeb1_row0_col4\" class=\"data row0 col4\" >B</td>\n",
       "      <td id=\"T_8eeb1_row0_col5\" class=\"data row0 col5\" >6.25</td>\n",
       "      <td id=\"T_8eeb1_row0_col6\" class=\"data row0 col6\" >7.20</td>\n",
       "      <td id=\"T_8eeb1_row0_col7\" class=\"data row0 col7\" >0.00</td>\n",
       "      <td id=\"T_8eeb1_row0_col8\" class=\"data row0 col8\" >0.00</td>\n",
       "      <td id=\"T_8eeb1_row0_col9\" class=\"data row0 col9\" >7.64</td>\n",
       "      <td id=\"T_8eeb1_row0_col10\" class=\"data row0 col10\" >6,000</td>\n",
       "      <td id=\"T_8eeb1_row0_col11\" class=\"data row0 col11\" >-4</td>\n",
       "      <td id=\"T_8eeb1_row0_col12\" class=\"data row0 col12\" >4</td>\n",
       "      <td id=\"T_8eeb1_row0_col13\" class=\"data row0 col13\" >75,000</td>\n",
       "      <td id=\"T_8eeb1_row0_col14\" class=\"data row0 col14\" >0.000000</td>\n",
       "      <td id=\"T_8eeb1_row0_col15\" class=\"data row0 col15\" >0.000000</td>\n",
       "      <td id=\"T_8eeb1_row0_col16\" class=\"data row0 col16\" >RND20Pct</td>\n",
       "      <td id=\"T_8eeb1_row0_col17\" class=\"data row0 col17\" >SET</td>\n",
       "    </tr>\n",
       "  </tbody>\n",
       "</table>\n"
      ],
      "text/plain": [
       "<pandas.io.formats.style.Styler at 0x1beb01ecb60>"
      ]
     },
     "execution_count": 123,
     "metadata": {},
     "output_type": "execute_result"
    }
   ],
   "source": [
    "sql = \"\"\"\n",
    "SELECT * \n",
    "FROM stocks \n",
    "WHERE name = '%s'\n",
    "\"\"\"\n",
    "sql = sql % name\n",
    "print(sql)\n",
    "\n",
    "stocks = pd.read_sql(sql, conlite)\n",
    "stocks.style.format(format_dict)"
   ]
  },
  {
   "cell_type": "markdown",
   "metadata": {},
   "source": [
    "### End of Update stocks table in SQLite port_lite database from buy transaction"
   ]
  },
  {
   "cell_type": "markdown",
   "metadata": {},
   "source": [
    "## End of  Buy process"
   ]
  },
  {
   "cell_type": "markdown",
   "metadata": {},
   "source": [
    "### ================================================="
   ]
  },
  {
   "cell_type": "code",
   "execution_count": 125,
   "metadata": {},
   "outputs": [
    {
     "name": "stdout",
     "output_type": "stream",
     "text": [
      "SELECT period, buy.grade AS grade, buy.name AS name, buy.date AS date, FORMAT(volbuy,0) AS volbuy, FORMAT(buy.price,2) AS buy_price, price.price AS mkt_price,FORMAT((volbuy * buy.price),2) AS amtbuy, FORMAT((volbuy * price.price),2) AS amtmkt, FORMAT(((price.price - buy.price) * volbuy),2) AS amtpol, FORMAT((((price.price - buy.price)*volbuy)/(volbuy*buy.price)*100),2) AS pctpol FROM buy INNER JOIN price ON buy.name = price.name WHERE price.date = '2025-02-11' ORDER BY period, buy.name\n"
     ]
    }
   ],
   "source": [
    "price_date = '2025-02-11'\n",
    "sql = \"SELECT period, buy.grade AS grade, buy.name AS name, buy.date AS date, \\\n",
    "FORMAT(volbuy,0) AS volbuy, FORMAT(buy.price,2) AS buy_price, price.price AS mkt_price,\\\n",
    "FORMAT((volbuy * buy.price),2) AS amtbuy, FORMAT((volbuy * price.price),2) AS amtmkt, \\\n",
    "FORMAT(((price.price - buy.price) * volbuy),2) AS amtpol, \\\n",
    "FORMAT((((price.price - buy.price)*volbuy)/(volbuy*buy.price)*100),2) AS pctpol \\\n",
    "FROM buy INNER JOIN price ON buy.name = price.name WHERE price.date = '%s' \\\n",
    "ORDER BY period, buy.name\"\n",
    "sql = sql % (price_date)\n",
    "print(sql)"
   ]
  },
  {
   "cell_type": "code",
   "execution_count": 127,
   "metadata": {
    "scrolled": true
   },
   "outputs": [
    {
     "data": {
      "text/html": [
       "<div>\n",
       "<style scoped>\n",
       "    .dataframe tbody tr th:only-of-type {\n",
       "        vertical-align: middle;\n",
       "    }\n",
       "\n",
       "    .dataframe tbody tr th {\n",
       "        vertical-align: top;\n",
       "    }\n",
       "\n",
       "    .dataframe thead th {\n",
       "        text-align: right;\n",
       "    }\n",
       "</style>\n",
       "<table border=\"1\" class=\"dataframe\">\n",
       "  <thead>\n",
       "    <tr style=\"text-align: right;\">\n",
       "      <th></th>\n",
       "      <th>period</th>\n",
       "      <th>grade</th>\n",
       "      <th>name</th>\n",
       "      <th>date</th>\n",
       "      <th>volbuy</th>\n",
       "      <th>buy_price</th>\n",
       "      <th>mkt_price</th>\n",
       "      <th>amtbuy</th>\n",
       "      <th>amtmkt</th>\n",
       "      <th>amtpol</th>\n",
       "      <th>pctpol</th>\n",
       "    </tr>\n",
       "  </thead>\n",
       "  <tbody>\n",
       "    <tr>\n",
       "      <th>0</th>\n",
       "      <td>1</td>\n",
       "      <td>C1</td>\n",
       "      <td>AH</td>\n",
       "      <td>2023-06-08</td>\n",
       "      <td>1,200</td>\n",
       "      <td>37.00</td>\n",
       "      <td>14.00</td>\n",
       "      <td>44,400.00</td>\n",
       "      <td>16,800.00</td>\n",
       "      <td>-27,600.00</td>\n",
       "      <td>-62.16</td>\n",
       "    </tr>\n",
       "    <tr>\n",
       "      <th>1</th>\n",
       "      <td>1</td>\n",
       "      <td>C1</td>\n",
       "      <td>ASK</td>\n",
       "      <td>2023-02-16</td>\n",
       "      <td>6,000</td>\n",
       "      <td>26.25</td>\n",
       "      <td>7.90</td>\n",
       "      <td>157,500.00</td>\n",
       "      <td>47,400.00</td>\n",
       "      <td>-110,100.00</td>\n",
       "      <td>-69.90</td>\n",
       "    </tr>\n",
       "    <tr>\n",
       "      <th>2</th>\n",
       "      <td>1</td>\n",
       "      <td>C1</td>\n",
       "      <td>ASP</td>\n",
       "      <td>2022-03-07</td>\n",
       "      <td>30,000</td>\n",
       "      <td>3.80</td>\n",
       "      <td>2.30</td>\n",
       "      <td>114,000.00</td>\n",
       "      <td>69,000.00</td>\n",
       "      <td>-45,000.00</td>\n",
       "      <td>-39.47</td>\n",
       "    </tr>\n",
       "    <tr>\n",
       "      <th>3</th>\n",
       "      <td>1</td>\n",
       "      <td>C3</td>\n",
       "      <td>IVL</td>\n",
       "      <td>2022-08-29</td>\n",
       "      <td>7,200</td>\n",
       "      <td>40.00</td>\n",
       "      <td>23.00</td>\n",
       "      <td>288,000.00</td>\n",
       "      <td>165,600.00</td>\n",
       "      <td>-122,400.00</td>\n",
       "      <td>-42.50</td>\n",
       "    </tr>\n",
       "    <tr>\n",
       "      <th>4</th>\n",
       "      <td>1</td>\n",
       "      <td>C3</td>\n",
       "      <td>ORI</td>\n",
       "      <td>2022-04-07</td>\n",
       "      <td>50,000</td>\n",
       "      <td>10.40</td>\n",
       "      <td>3.10</td>\n",
       "      <td>520,000.00</td>\n",
       "      <td>155,000.00</td>\n",
       "      <td>-365,000.00</td>\n",
       "      <td>-70.19</td>\n",
       "    </tr>\n",
       "    <tr>\n",
       "      <th>5</th>\n",
       "      <td>1</td>\n",
       "      <td>C4</td>\n",
       "      <td>PTTGC</td>\n",
       "      <td>2021-03-17</td>\n",
       "      <td>6,000</td>\n",
       "      <td>64.75</td>\n",
       "      <td>20.40</td>\n",
       "      <td>388,500.00</td>\n",
       "      <td>122,400.00</td>\n",
       "      <td>-266,100.00</td>\n",
       "      <td>-68.49</td>\n",
       "    </tr>\n",
       "    <tr>\n",
       "      <th>6</th>\n",
       "      <td>1</td>\n",
       "      <td>C2</td>\n",
       "      <td>SCC</td>\n",
       "      <td>2021-09-20</td>\n",
       "      <td>600</td>\n",
       "      <td>405.00</td>\n",
       "      <td>147.00</td>\n",
       "      <td>243,000.00</td>\n",
       "      <td>88,200.00</td>\n",
       "      <td>-154,800.00</td>\n",
       "      <td>-63.70</td>\n",
       "    </tr>\n",
       "    <tr>\n",
       "      <th>7</th>\n",
       "      <td>1</td>\n",
       "      <td>A2</td>\n",
       "      <td>SINGER</td>\n",
       "      <td>2023-01-19</td>\n",
       "      <td>6,000</td>\n",
       "      <td>24.80</td>\n",
       "      <td>6.40</td>\n",
       "      <td>148,800.00</td>\n",
       "      <td>38,400.00</td>\n",
       "      <td>-110,400.00</td>\n",
       "      <td>-74.19</td>\n",
       "    </tr>\n",
       "    <tr>\n",
       "      <th>8</th>\n",
       "      <td>1</td>\n",
       "      <td>C2</td>\n",
       "      <td>STA</td>\n",
       "      <td>2021-06-15</td>\n",
       "      <td>10,000</td>\n",
       "      <td>30.00</td>\n",
       "      <td>14.60</td>\n",
       "      <td>300,000.00</td>\n",
       "      <td>146,000.00</td>\n",
       "      <td>-154,000.00</td>\n",
       "      <td>-51.33</td>\n",
       "    </tr>\n",
       "    <tr>\n",
       "      <th>9</th>\n",
       "      <td>1</td>\n",
       "      <td>C1</td>\n",
       "      <td>TMT</td>\n",
       "      <td>2021-08-16</td>\n",
       "      <td>36,000</td>\n",
       "      <td>10.20</td>\n",
       "      <td>3.04</td>\n",
       "      <td>367,200.00</td>\n",
       "      <td>109,440.00</td>\n",
       "      <td>-257,760.00</td>\n",
       "      <td>-70.20</td>\n",
       "    </tr>\n",
       "    <tr>\n",
       "      <th>10</th>\n",
       "      <td>1</td>\n",
       "      <td>C1</td>\n",
       "      <td>TOA</td>\n",
       "      <td>2023-09-06</td>\n",
       "      <td>1,000</td>\n",
       "      <td>26.00</td>\n",
       "      <td>12.20</td>\n",
       "      <td>26,000.00</td>\n",
       "      <td>12,200.00</td>\n",
       "      <td>-13,800.00</td>\n",
       "      <td>-53.08</td>\n",
       "    </tr>\n",
       "    <tr>\n",
       "      <th>11</th>\n",
       "      <td>2</td>\n",
       "      <td>A2</td>\n",
       "      <td>AIMIRT</td>\n",
       "      <td>2023-08-17</td>\n",
       "      <td>12,500</td>\n",
       "      <td>10.90</td>\n",
       "      <td>10.50</td>\n",
       "      <td>136,250.00</td>\n",
       "      <td>131,250.00</td>\n",
       "      <td>-5,000.00</td>\n",
       "      <td>-3.67</td>\n",
       "    </tr>\n",
       "    <tr>\n",
       "      <th>12</th>\n",
       "      <td>2</td>\n",
       "      <td>C1</td>\n",
       "      <td>CPNREIT</td>\n",
       "      <td>2022-08-16</td>\n",
       "      <td>55,000</td>\n",
       "      <td>18.00</td>\n",
       "      <td>12.00</td>\n",
       "      <td>990,000.00</td>\n",
       "      <td>660,000.00</td>\n",
       "      <td>-330,000.00</td>\n",
       "      <td>-33.33</td>\n",
       "    </tr>\n",
       "    <tr>\n",
       "      <th>13</th>\n",
       "      <td>2</td>\n",
       "      <td>B3</td>\n",
       "      <td>DIF</td>\n",
       "      <td>2020-08-01</td>\n",
       "      <td>35,000</td>\n",
       "      <td>13.90</td>\n",
       "      <td>8.45</td>\n",
       "      <td>486,500.00</td>\n",
       "      <td>295,750.00</td>\n",
       "      <td>-190,750.00</td>\n",
       "      <td>-39.21</td>\n",
       "    </tr>\n",
       "    <tr>\n",
       "      <th>14</th>\n",
       "      <td>2</td>\n",
       "      <td>C1</td>\n",
       "      <td>GVREIT</td>\n",
       "      <td>2022-08-24</td>\n",
       "      <td>75,000</td>\n",
       "      <td>7.64</td>\n",
       "      <td>6.65</td>\n",
       "      <td>573,000.00</td>\n",
       "      <td>498,750.00</td>\n",
       "      <td>-74,250.00</td>\n",
       "      <td>-12.96</td>\n",
       "    </tr>\n",
       "    <tr>\n",
       "      <th>15</th>\n",
       "      <td>2</td>\n",
       "      <td>A3</td>\n",
       "      <td>MCS</td>\n",
       "      <td>2016-09-20</td>\n",
       "      <td>75,000</td>\n",
       "      <td>15.40</td>\n",
       "      <td>6.25</td>\n",
       "      <td>1,155,000.00</td>\n",
       "      <td>468,750.00</td>\n",
       "      <td>-686,250.00</td>\n",
       "      <td>-59.42</td>\n",
       "    </tr>\n",
       "    <tr>\n",
       "      <th>16</th>\n",
       "      <td>2</td>\n",
       "      <td>A2</td>\n",
       "      <td>NER</td>\n",
       "      <td>2021-09-01</td>\n",
       "      <td>27,000</td>\n",
       "      <td>7.45</td>\n",
       "      <td>4.70</td>\n",
       "      <td>201,150.00</td>\n",
       "      <td>126,900.00</td>\n",
       "      <td>-74,250.00</td>\n",
       "      <td>-36.91</td>\n",
       "    </tr>\n",
       "    <tr>\n",
       "      <th>17</th>\n",
       "      <td>2</td>\n",
       "      <td>B4</td>\n",
       "      <td>SENA</td>\n",
       "      <td>2022-03-29</td>\n",
       "      <td>105,000</td>\n",
       "      <td>4.48</td>\n",
       "      <td>2.14</td>\n",
       "      <td>470,400.00</td>\n",
       "      <td>224,700.00</td>\n",
       "      <td>-245,700.00</td>\n",
       "      <td>-52.23</td>\n",
       "    </tr>\n",
       "    <tr>\n",
       "      <th>18</th>\n",
       "      <td>2</td>\n",
       "      <td>A4</td>\n",
       "      <td>TFFIF</td>\n",
       "      <td>2023-07-06</td>\n",
       "      <td>20,000</td>\n",
       "      <td>7.50</td>\n",
       "      <td>6.30</td>\n",
       "      <td>150,000.00</td>\n",
       "      <td>126,000.00</td>\n",
       "      <td>-24,000.00</td>\n",
       "      <td>-16.00</td>\n",
       "    </tr>\n",
       "    <tr>\n",
       "      <th>19</th>\n",
       "      <td>2</td>\n",
       "      <td>C1</td>\n",
       "      <td>WHAIR</td>\n",
       "      <td>2021-10-11</td>\n",
       "      <td>50,000</td>\n",
       "      <td>8.70</td>\n",
       "      <td>6.25</td>\n",
       "      <td>435,000.00</td>\n",
       "      <td>312,500.00</td>\n",
       "      <td>-122,500.00</td>\n",
       "      <td>-28.16</td>\n",
       "    </tr>\n",
       "    <tr>\n",
       "      <th>20</th>\n",
       "      <td>2</td>\n",
       "      <td>C1</td>\n",
       "      <td>WHART</td>\n",
       "      <td>2022-01-05</td>\n",
       "      <td>20,000</td>\n",
       "      <td>12.30</td>\n",
       "      <td>10.20</td>\n",
       "      <td>246,000.00</td>\n",
       "      <td>204,000.00</td>\n",
       "      <td>-42,000.00</td>\n",
       "      <td>-17.07</td>\n",
       "    </tr>\n",
       "    <tr>\n",
       "      <th>21</th>\n",
       "      <td>3</td>\n",
       "      <td>A3</td>\n",
       "      <td>3BBIF</td>\n",
       "      <td>2018-05-17</td>\n",
       "      <td>120,000</td>\n",
       "      <td>10.10</td>\n",
       "      <td>5.45</td>\n",
       "      <td>1,212,000.00</td>\n",
       "      <td>654,000.00</td>\n",
       "      <td>-558,000.00</td>\n",
       "      <td>-46.04</td>\n",
       "    </tr>\n",
       "    <tr>\n",
       "      <th>22</th>\n",
       "      <td>3</td>\n",
       "      <td>A2</td>\n",
       "      <td>JMART</td>\n",
       "      <td>2023-01-20</td>\n",
       "      <td>6,800</td>\n",
       "      <td>33.00</td>\n",
       "      <td>10.00</td>\n",
       "      <td>224,400.00</td>\n",
       "      <td>68,000.00</td>\n",
       "      <td>-156,400.00</td>\n",
       "      <td>-69.70</td>\n",
       "    </tr>\n",
       "    <tr>\n",
       "      <th>23</th>\n",
       "      <td>3</td>\n",
       "      <td>B4</td>\n",
       "      <td>JMT</td>\n",
       "      <td>2023-01-26</td>\n",
       "      <td>4,200</td>\n",
       "      <td>55.50</td>\n",
       "      <td>14.10</td>\n",
       "      <td>233,100.00</td>\n",
       "      <td>59,220.00</td>\n",
       "      <td>-173,880.00</td>\n",
       "      <td>-74.59</td>\n",
       "    </tr>\n",
       "    <tr>\n",
       "      <th>24</th>\n",
       "      <td>3</td>\n",
       "      <td>B2</td>\n",
       "      <td>KCE</td>\n",
       "      <td>2021-10-07</td>\n",
       "      <td>10,000</td>\n",
       "      <td>77.25</td>\n",
       "      <td>21.20</td>\n",
       "      <td>772,500.00</td>\n",
       "      <td>212,000.00</td>\n",
       "      <td>-560,500.00</td>\n",
       "      <td>-72.56</td>\n",
       "    </tr>\n",
       "    <tr>\n",
       "      <th>25</th>\n",
       "      <td>4</td>\n",
       "      <td>B1</td>\n",
       "      <td>AWC</td>\n",
       "      <td>2023-06-15</td>\n",
       "      <td>9,000</td>\n",
       "      <td>4.96</td>\n",
       "      <td>3.00</td>\n",
       "      <td>44,640.00</td>\n",
       "      <td>27,000.00</td>\n",
       "      <td>-17,640.00</td>\n",
       "      <td>-39.52</td>\n",
       "    </tr>\n",
       "    <tr>\n",
       "      <th>26</th>\n",
       "      <td>4</td>\n",
       "      <td>A3</td>\n",
       "      <td>BCH</td>\n",
       "      <td>2021-09-07</td>\n",
       "      <td>4,000</td>\n",
       "      <td>21.70</td>\n",
       "      <td>14.20</td>\n",
       "      <td>86,800.00</td>\n",
       "      <td>56,800.00</td>\n",
       "      <td>-30,000.00</td>\n",
       "      <td>-34.56</td>\n",
       "    </tr>\n",
       "    <tr>\n",
       "      <th>27</th>\n",
       "      <td>4</td>\n",
       "      <td>A4</td>\n",
       "      <td>PTG</td>\n",
       "      <td>2023-07-12</td>\n",
       "      <td>3,600</td>\n",
       "      <td>11.40</td>\n",
       "      <td>7.10</td>\n",
       "      <td>41,040.00</td>\n",
       "      <td>25,560.00</td>\n",
       "      <td>-15,480.00</td>\n",
       "      <td>-37.72</td>\n",
       "    </tr>\n",
       "    <tr>\n",
       "      <th>28</th>\n",
       "      <td>4</td>\n",
       "      <td>A3</td>\n",
       "      <td>RCL</td>\n",
       "      <td>2021-11-08</td>\n",
       "      <td>27,000</td>\n",
       "      <td>38.75</td>\n",
       "      <td>23.40</td>\n",
       "      <td>1,046,250.00</td>\n",
       "      <td>631,800.00</td>\n",
       "      <td>-414,450.00</td>\n",
       "      <td>-39.61</td>\n",
       "    </tr>\n",
       "    <tr>\n",
       "      <th>29</th>\n",
       "      <td>4</td>\n",
       "      <td>A3</td>\n",
       "      <td>SYNEX</td>\n",
       "      <td>2022-01-07</td>\n",
       "      <td>15,000</td>\n",
       "      <td>28.70</td>\n",
       "      <td>10.50</td>\n",
       "      <td>430,500.00</td>\n",
       "      <td>157,500.00</td>\n",
       "      <td>-273,000.00</td>\n",
       "      <td>-63.41</td>\n",
       "    </tr>\n",
       "    <tr>\n",
       "      <th>30</th>\n",
       "      <td>4</td>\n",
       "      <td>A2</td>\n",
       "      <td>TVO</td>\n",
       "      <td>2024-11-06</td>\n",
       "      <td>4,000</td>\n",
       "      <td>24.90</td>\n",
       "      <td>21.00</td>\n",
       "      <td>99,600.00</td>\n",
       "      <td>84,000.00</td>\n",
       "      <td>-15,600.00</td>\n",
       "      <td>-15.66</td>\n",
       "    </tr>\n",
       "  </tbody>\n",
       "</table>\n",
       "</div>"
      ],
      "text/plain": [
       "   period grade     name        date   volbuy buy_price  mkt_price  \\\n",
       "0       1    C1       AH  2023-06-08    1,200     37.00      14.00   \n",
       "1       1    C1      ASK  2023-02-16    6,000     26.25       7.90   \n",
       "2       1    C1      ASP  2022-03-07   30,000      3.80       2.30   \n",
       "3       1    C3      IVL  2022-08-29    7,200     40.00      23.00   \n",
       "4       1    C3      ORI  2022-04-07   50,000     10.40       3.10   \n",
       "5       1    C4    PTTGC  2021-03-17    6,000     64.75      20.40   \n",
       "6       1    C2      SCC  2021-09-20      600    405.00     147.00   \n",
       "7       1    A2   SINGER  2023-01-19    6,000     24.80       6.40   \n",
       "8       1    C2      STA  2021-06-15   10,000     30.00      14.60   \n",
       "9       1    C1      TMT  2021-08-16   36,000     10.20       3.04   \n",
       "10      1    C1      TOA  2023-09-06    1,000     26.00      12.20   \n",
       "11      2    A2   AIMIRT  2023-08-17   12,500     10.90      10.50   \n",
       "12      2    C1  CPNREIT  2022-08-16   55,000     18.00      12.00   \n",
       "13      2    B3      DIF  2020-08-01   35,000     13.90       8.45   \n",
       "14      2    C1   GVREIT  2022-08-24   75,000      7.64       6.65   \n",
       "15      2    A3      MCS  2016-09-20   75,000     15.40       6.25   \n",
       "16      2    A2      NER  2021-09-01   27,000      7.45       4.70   \n",
       "17      2    B4     SENA  2022-03-29  105,000      4.48       2.14   \n",
       "18      2    A4    TFFIF  2023-07-06   20,000      7.50       6.30   \n",
       "19      2    C1    WHAIR  2021-10-11   50,000      8.70       6.25   \n",
       "20      2    C1    WHART  2022-01-05   20,000     12.30      10.20   \n",
       "21      3    A3    3BBIF  2018-05-17  120,000     10.10       5.45   \n",
       "22      3    A2    JMART  2023-01-20    6,800     33.00      10.00   \n",
       "23      3    B4      JMT  2023-01-26    4,200     55.50      14.10   \n",
       "24      3    B2      KCE  2021-10-07   10,000     77.25      21.20   \n",
       "25      4    B1      AWC  2023-06-15    9,000      4.96       3.00   \n",
       "26      4    A3      BCH  2021-09-07    4,000     21.70      14.20   \n",
       "27      4    A4      PTG  2023-07-12    3,600     11.40       7.10   \n",
       "28      4    A3      RCL  2021-11-08   27,000     38.75      23.40   \n",
       "29      4    A3    SYNEX  2022-01-07   15,000     28.70      10.50   \n",
       "30      4    A2      TVO  2024-11-06    4,000     24.90      21.00   \n",
       "\n",
       "          amtbuy      amtmkt       amtpol  pctpol  \n",
       "0      44,400.00   16,800.00   -27,600.00  -62.16  \n",
       "1     157,500.00   47,400.00  -110,100.00  -69.90  \n",
       "2     114,000.00   69,000.00   -45,000.00  -39.47  \n",
       "3     288,000.00  165,600.00  -122,400.00  -42.50  \n",
       "4     520,000.00  155,000.00  -365,000.00  -70.19  \n",
       "5     388,500.00  122,400.00  -266,100.00  -68.49  \n",
       "6     243,000.00   88,200.00  -154,800.00  -63.70  \n",
       "7     148,800.00   38,400.00  -110,400.00  -74.19  \n",
       "8     300,000.00  146,000.00  -154,000.00  -51.33  \n",
       "9     367,200.00  109,440.00  -257,760.00  -70.20  \n",
       "10     26,000.00   12,200.00   -13,800.00  -53.08  \n",
       "11    136,250.00  131,250.00    -5,000.00   -3.67  \n",
       "12    990,000.00  660,000.00  -330,000.00  -33.33  \n",
       "13    486,500.00  295,750.00  -190,750.00  -39.21  \n",
       "14    573,000.00  498,750.00   -74,250.00  -12.96  \n",
       "15  1,155,000.00  468,750.00  -686,250.00  -59.42  \n",
       "16    201,150.00  126,900.00   -74,250.00  -36.91  \n",
       "17    470,400.00  224,700.00  -245,700.00  -52.23  \n",
       "18    150,000.00  126,000.00   -24,000.00  -16.00  \n",
       "19    435,000.00  312,500.00  -122,500.00  -28.16  \n",
       "20    246,000.00  204,000.00   -42,000.00  -17.07  \n",
       "21  1,212,000.00  654,000.00  -558,000.00  -46.04  \n",
       "22    224,400.00   68,000.00  -156,400.00  -69.70  \n",
       "23    233,100.00   59,220.00  -173,880.00  -74.59  \n",
       "24    772,500.00  212,000.00  -560,500.00  -72.56  \n",
       "25     44,640.00   27,000.00   -17,640.00  -39.52  \n",
       "26     86,800.00   56,800.00   -30,000.00  -34.56  \n",
       "27     41,040.00   25,560.00   -15,480.00  -37.72  \n",
       "28  1,046,250.00  631,800.00  -414,450.00  -39.61  \n",
       "29    430,500.00  157,500.00  -273,000.00  -63.41  \n",
       "30     99,600.00   84,000.00   -15,600.00  -15.66  "
      ]
     },
     "execution_count": 127,
     "metadata": {},
     "output_type": "execute_result"
    }
   ],
   "source": [
    "output = pd.read_sql(sql, const)\n",
    "output"
   ]
  },
  {
   "cell_type": "code",
   "execution_count": 129,
   "metadata": {},
   "outputs": [],
   "source": [
    "file_name = 'portfolio.csv'\n",
    "output_file = os.path.join(dat_path, file_name)\n",
    "god_file = os.path.join(god_path, file_name)\n",
    "icd_file = os.path.join(icd_path, file_name)\n",
    "osd_file = os.path.join(osd_path, file_name)"
   ]
  },
  {
   "cell_type": "code",
   "execution_count": 131,
   "metadata": {},
   "outputs": [
    {
     "name": "stdout",
     "output_type": "stream",
     "text": [
      "Output file : C:\\Users\\PC1\\OneDrive\\A5\\Data\\portfolio.csv\n",
      "icd_file : C:\\Users\\PC1\\iCloudDrive\\Data\\portfolio.csv\n",
      "god_file : C:\\Users\\PC1\\OneDrive\\Imports\\santisoontarinka@gmail.com - Google Drive\\Data\\portfolio.csv\n",
      "osd_file : C:\\Users\\PC1\\OneDrive\\Documents\\obsidian-git-sync\\Data\\portfolio.csv\n"
     ]
    }
   ],
   "source": [
    "print(f\"Output file : {output_file}\") \n",
    "print(f\"icd_file : {icd_file}\") \n",
    "print(f\"god_file : {god_file}\") \n",
    "print(f\"osd_file : {osd_file}\") "
   ]
  },
  {
   "cell_type": "code",
   "execution_count": 133,
   "metadata": {},
   "outputs": [],
   "source": [
    "output.to_csv(output_file, header=True, index=False)\n",
    "output.to_csv(icd_file, header=True, index=False)\n",
    "output.to_csv(god_file, header=True, index=False)\n",
    "output.to_csv(osd_file, header=True, index=False)"
   ]
  },
  {
   "cell_type": "code",
   "execution_count": 135,
   "metadata": {},
   "outputs": [],
   "source": [
    "file_name = '035-portfolio.xlsx'\n",
    "xsl_file = os.path.join(xsl_path, file_name)\n",
    "\n",
    "output.to_excel(xsl_file, index=False)"
   ]
  },
  {
   "cell_type": "code",
   "execution_count": null,
   "metadata": {},
   "outputs": [],
   "source": []
  }
 ],
 "metadata": {
  "anaconda-cloud": {},
  "kernelspec": {
   "display_name": "Python 3 (ipykernel)",
   "language": "python",
   "name": "python3"
  },
  "language_info": {
   "codemirror_mode": {
    "name": "ipython",
    "version": 3
   },
   "file_extension": ".py",
   "mimetype": "text/x-python",
   "name": "python",
   "nbconvert_exporter": "python",
   "pygments_lexer": "ipython3",
   "version": "3.12.3"
  }
 },
 "nbformat": 4,
 "nbformat_minor": 4
}
