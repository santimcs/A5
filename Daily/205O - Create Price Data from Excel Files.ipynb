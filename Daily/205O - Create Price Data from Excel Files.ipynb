{
 "cells": [
  {
   "cell_type": "markdown",
   "id": "a99b885f",
   "metadata": {},
   "source": [
    "### Restart & Run All Cells"
   ]
  },
  {
   "cell_type": "code",
   "execution_count": 2,
   "id": "fc682742-f4c0-44fb-afa4-94ce66ccc792",
   "metadata": {},
   "outputs": [
    {
     "name": "stdout",
     "output_type": "stream",
     "text": [
      "2025-08-27 2025-08-26\n"
     ]
    }
   ],
   "source": [
    "import glob\n",
    "import os\n",
    "import pandas as pd\n",
    "from datetime import date, timedelta, datetime\n",
    "from pandas.tseries.offsets import *\n",
    "from sqlalchemy import create_engine\n",
    "\n",
    "engine = create_engine(\"sqlite:///c:\\\\ruby\\\\port_lite\\\\db\\\\development.sqlite3\")\n",
    "conlite = engine.connect()\n",
    "\n",
    "today = date.today()\n",
    "yesterday = today - timedelta(days=1)\n",
    "print(today, yesterday)"
   ]
  },
  {
   "cell_type": "code",
   "execution_count": 3,
   "id": "1c8d5605-f8c9-478d-890b-94be5ba8211b",
   "metadata": {},
   "outputs": [
    {
     "name": "stdout",
     "output_type": "stream",
     "text": [
      "Downloads path (dow_path): C:\\Users\\PC1\\Downloads\n"
     ]
    }
   ],
   "source": [
    "# Get the user's home directory\n",
    "user_path = os.path.expanduser('~')\n",
    "#print(\"User path:\", user_path)\n",
    "\n",
    "dow_path = os.path.join(user_path, \"Downloads\")\n",
    "print(f\"Downloads path (dow_path): {dow_path}\") "
   ]
  },
  {
   "cell_type": "code",
   "execution_count": 4,
   "id": "d5555f92",
   "metadata": {},
   "outputs": [],
   "source": [
    "# Dictionary of file categories and their extensions\n",
    "categories = {\n",
    "    'Images': ['jpeg', 'jpg', 'png'],\n",
    "    'PDFs': ['pdf'],\n",
    "    'Datasets': ['csv', 'xlsx', 'xls'],\n",
    "    'Videos': ['mp4','m4a'],\n",
    "    'Zips': ['zip'],\n",
    "    'EXEs': ['exe', 'msi'],\n",
    "    'Pythons': ['ipynb'],\n",
    "    'Workflows': ['json'],\n",
    "    'Models': ['safetensors','ckpt','sft'],\n",
    "}\n",
    "# Function to classify a file\n",
    "def classify_file(filename):\n",
    "    # Find the file extension\n",
    "    extension = filename.split('.')[-1]\n",
    "\n",
    "    # Iterate over the categories\n",
    "    for category, extensions in categories.items():\n",
    "        # If the extension matches one of the extensions in the category, move the file\n",
    "        if extension in extensions:\n",
    "            # Construct the file paths\n",
    "            source_path = os.path.join(dow_path, filename)\n",
    "            dest_path = os.path.join(dow_path, category, filename)\n",
    "\n",
    "            # Move the file\n",
    "            os.rename(source_path, dest_path)\n",
    "            print(f'Moved {filename} to {category}')\n",
    "            break"
   ]
  },
  {
   "cell_type": "code",
   "execution_count": 5,
   "id": "39e5807f",
   "metadata": {},
   "outputs": [
    {
     "name": "stdout",
     "output_type": "stream",
     "text": [
      "Moved StockQuotation (1).xlsx to Datasets\n",
      "Moved StockQuotation (10).xlsx to Datasets\n",
      "Moved StockQuotation (2).xlsx to Datasets\n",
      "Moved StockQuotation (3).xlsx to Datasets\n",
      "Moved StockQuotation (4).xlsx to Datasets\n",
      "Moved StockQuotation (5).xlsx to Datasets\n",
      "Moved StockQuotation (6).xlsx to Datasets\n",
      "Moved StockQuotation (7).xlsx to Datasets\n",
      "Moved StockQuotation (8).xlsx to Datasets\n",
      "Moved StockQuotation (9).xlsx to Datasets\n",
      "Moved StockQuotation.xlsx to Datasets\n"
     ]
    }
   ],
   "source": [
    "# Classify all existing files in the directory\n",
    "for filename in os.listdir(dow_path):\n",
    "    classify_file(filename)"
   ]
  },
  {
   "cell_type": "code",
   "execution_count": 6,
   "id": "2f1eb4b2-9276-4022-8b4c-97297235984a",
   "metadata": {},
   "outputs": [
    {
     "data": {
      "text/plain": [
       "(datetime.date(2025, 8, 27), datetime.date(2025, 8, 26))"
      ]
     },
     "execution_count": 6,
     "metadata": {},
     "output_type": "execute_result"
    }
   ],
   "source": [
    "today, yesterday"
   ]
  },
  {
   "cell_type": "code",
   "execution_count": 7,
   "id": "40762574-33e8-4ed8-91a6-b86f7c8c992f",
   "metadata": {},
   "outputs": [
    {
     "name": "stdout",
     "output_type": "stream",
     "text": [
      "2025-08-27 20:14:13\n"
     ]
    }
   ],
   "source": [
    "# Get the current time\n",
    "current_time = datetime.now()\n",
    "# Format the time to remove milliseconds\n",
    "formatted_time = current_time.strftime(\"%Y-%m-%d %H:%M:%S\")\n",
    "print(formatted_time)"
   ]
  },
  {
   "cell_type": "code",
   "execution_count": null,
   "id": "931bae20-7a8f-4d9e-8cc1-5fa517adb985",
   "metadata": {},
   "outputs": [],
   "source": []
  }
 ],
 "metadata": {
  "kernelspec": {
   "display_name": "Python 3 (ipykernel)",
   "language": "python",
   "name": "python3"
  },
  "language_info": {
   "codemirror_mode": {
    "name": "ipython",
    "version": 3
   },
   "file_extension": ".py",
   "mimetype": "text/x-python",
   "name": "python",
   "nbconvert_exporter": "python",
   "pygments_lexer": "ipython3",
   "version": "3.12.3"
  }
 },
 "nbformat": 4,
 "nbformat_minor": 5
}
