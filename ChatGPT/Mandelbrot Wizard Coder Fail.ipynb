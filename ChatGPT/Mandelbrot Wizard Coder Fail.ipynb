{
 "cells": [
  {
   "cell_type": "code",
   "execution_count": 1,
   "id": "09788cfc",
   "metadata": {},
   "outputs": [],
   "source": [
    "import numpy as np\n",
    "from PIL import Image\n",
    "\n",
    "def mandelbrot(xmin, xmax, ymin, ymax, nx, ny, max_iterations):\n",
    "    dx = (xmax - xmin) / nx\n",
    "    dy = (ymax - ymin) / ny\n",
    "    c = np.mgrid[0:nx, 0:ny][0].T * dx + xmin\n",
    "    d = np.mgrid[0:nx, 0:ny][1].T * dy + ymin\n",
    "    z = complex(0, 0)\n",
    "    m = np.zeros((ny, nx), dtype=bool)\n",
    "    for i in range(max_iterations):\n",
    "        z = (c + d * 1j) ** 2 + z\n",
    "        m[abs(z) < 2] = True\n",
    "    return m\n",
    "\n",
    "# Example usage:\n",
    "nx, ny = 500, 500\n",
    "xmin, xmax, ymin, ymax = -1.5, 0.5, -1.5, 1.5\n",
    "m = mandelbrot(xmin, xmax, ymin, ymax, nx, ny, 20)\n",
    "im = Image.fromarray((255 * m.astype('uint8')).T)\n",
    "im.show()"
   ]
  },
  {
   "cell_type": "code",
   "execution_count": null,
   "id": "243bb768",
   "metadata": {},
   "outputs": [],
   "source": []
  }
 ],
 "metadata": {
  "kernelspec": {
   "display_name": "Python 3 (ipykernel)",
   "language": "python",
   "name": "python3"
  },
  "language_info": {
   "codemirror_mode": {
    "name": "ipython",
    "version": 3
   },
   "file_extension": ".py",
   "mimetype": "text/x-python",
   "name": "python",
   "nbconvert_exporter": "python",
   "pygments_lexer": "ipython3",
   "version": "3.8.11"
  }
 },
 "nbformat": 4,
 "nbformat_minor": 5
}
