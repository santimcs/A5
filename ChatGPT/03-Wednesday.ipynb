{
 "cells": [
  {
   "cell_type": "code",
   "execution_count": 1,
   "id": "52bab363",
   "metadata": {},
   "outputs": [
    {
     "data": {
      "text/plain": [
       "'C:/NewPC/wednesday.Jpg'"
      ]
     },
     "execution_count": 1,
     "metadata": {},
     "output_type": "execute_result"
    }
   ],
   "source": [
    "from PIL import Image, ImageDraw, ImageFont\n",
    "\n",
    "# Load the image\n",
    "image_name = 'wednesday'\n",
    "# Define the text and font\n",
    "text1 = 'Happy'\n",
    "text2 = 'Wednesday'\n",
    "# Draw the text on the image\n",
    "fill_color = \"WHITE\"\n",
    "font_size = 120\n",
    "# Set space above bottome border\n",
    "space = 10\n",
    "\n",
    "image_path = 'C:/NewPC/' + image_name + '.Jpg'\n",
    "image_path "
   ]
  },
  {
   "cell_type": "code",
   "execution_count": 2,
   "id": "c2f78593-5c32-4a25-ae2c-31ee434f811f",
   "metadata": {},
   "outputs": [],
   "source": [
    "image = Image.open(image_path)\n",
    "\n",
    "\n",
    "#font_path = \"DejaVuSansMono.ttf\" \n",
    "#font_path = \"DejaVuSansMono-Bold.ttf\" \n",
    "#font_path = \"DejaVuSansMono-BoldOblique.ttf\" \n",
    "font_path = \"Prompt-Bold.ttf\" \n",
    "#font_path = \"DejaVuSansMono.ttf\" \n",
    "# Adjust the path to the font file if necessary\n",
    "font = ImageFont.truetype(font_path, font_size)\n",
    "\n",
    "# Create a drawing context\n",
    "draw = ImageDraw.Draw(image)"
   ]
  },
  {
   "cell_type": "code",
   "execution_count": 3,
   "id": "e925d64b-0ded-46ad-9a05-6fcfd70b1bee",
   "metadata": {},
   "outputs": [
    {
     "data": {
      "text/plain": [
       "(392, 112, 1079, 1630)"
      ]
     },
     "execution_count": 3,
     "metadata": {},
     "output_type": "execute_result"
    }
   ],
   "source": [
    "# Calculate text size and position using textbbox\n",
    "text1_bbox = draw.textbbox((0, 0), text1, font=font)\n",
    "text1_width, text1_height = text1_bbox[2] - text1_bbox[0], text1_bbox[3] - text1_bbox[1]\n",
    "text1_width, text1_height, image.width, image.height"
   ]
  },
  {
   "cell_type": "code",
   "execution_count": 4,
   "id": "a7bb4a7a",
   "metadata": {},
   "outputs": [
    {
     "data": {
      "text/plain": [
       "(343.5, 693.0)"
      ]
     },
     "execution_count": 4,
     "metadata": {},
     "output_type": "execute_result"
    }
   ],
   "source": [
    "position1 = ((image.width - text1_width) / 2, (image.height/2) - text1_height - space)\n",
    "position1"
   ]
  },
  {
   "cell_type": "code",
   "execution_count": 5,
   "id": "f4368004-7961-4e96-950c-2f7525ee0402",
   "metadata": {},
   "outputs": [
    {
     "data": {
      "text/plain": [
       "(350, 1300)"
      ]
     },
     "execution_count": 5,
     "metadata": {},
     "output_type": "execute_result"
    }
   ],
   "source": [
    "position1 = (350, 1300)\n",
    "position1"
   ]
  },
  {
   "cell_type": "code",
   "execution_count": 6,
   "id": "2ae2d214-2b39-418f-a469-0e2838ce3776",
   "metadata": {},
   "outputs": [],
   "source": [
    "draw.text(position1, text1, fill=fill_color, font=font)"
   ]
  },
  {
   "cell_type": "code",
   "execution_count": 7,
   "id": "5ea9fb08-5616-4479-aa01-6a380b48f6a1",
   "metadata": {},
   "outputs": [
    {
     "data": {
      "text/plain": [
       "(704, 113, 1079, 1630)"
      ]
     },
     "execution_count": 7,
     "metadata": {},
     "output_type": "execute_result"
    }
   ],
   "source": [
    "# Calculate text size and position using textbbox\n",
    "text2_bbox = draw.textbbox((0, 0), text2, font=font)\n",
    "text2_width, text2_height = text2_bbox[2] - text2_bbox[0], text2_bbox[3] - text2_bbox[1]\n",
    "text2_width, text2_height, image.width, image.height"
   ]
  },
  {
   "cell_type": "code",
   "execution_count": 8,
   "id": "a452ed3f-0332-4f50-b2eb-9bdc2bcd2b6d",
   "metadata": {},
   "outputs": [
    {
     "data": {
      "text/plain": [
       "(187.5, 825.0)"
      ]
     },
     "execution_count": 8,
     "metadata": {},
     "output_type": "execute_result"
    }
   ],
   "source": [
    "position2 = ((image.width - text2_width) / 2, (image.height/2) + space)\n",
    "position2"
   ]
  },
  {
   "cell_type": "code",
   "execution_count": 9,
   "id": "2fb0d725-92a7-4755-9043-c61ba7eec584",
   "metadata": {},
   "outputs": [
    {
     "data": {
      "text/plain": [
       "(200, 1450)"
      ]
     },
     "execution_count": 9,
     "metadata": {},
     "output_type": "execute_result"
    }
   ],
   "source": [
    "position2 = (200, 1450)\n",
    "position2"
   ]
  },
  {
   "cell_type": "code",
   "execution_count": 10,
   "id": "b2de0d1f-2da7-4ef2-a60c-e8bdf4051ed8",
   "metadata": {},
   "outputs": [],
   "source": [
    "draw.text(position2, text2, fill=fill_color, font=font)"
   ]
  },
  {
   "cell_type": "code",
   "execution_count": 11,
   "id": "f46c9953",
   "metadata": {},
   "outputs": [],
   "source": [
    "# Save the edited image\n",
    "output_path = 'C:/NewPC/' + image_name + '-txt.jpeg'\n",
    "image.save(output_path)\n",
    "\n",
    "# Show the edited image\n",
    "image.show()"
   ]
  },
  {
   "cell_type": "code",
   "execution_count": null,
   "id": "4086b624",
   "metadata": {},
   "outputs": [],
   "source": []
  }
 ],
 "metadata": {
  "kernelspec": {
   "display_name": "Python 3 (ipykernel)",
   "language": "python",
   "name": "python3"
  },
  "language_info": {
   "codemirror_mode": {
    "name": "ipython",
    "version": 3
   },
   "file_extension": ".py",
   "mimetype": "text/x-python",
   "name": "python",
   "nbconvert_exporter": "python",
   "pygments_lexer": "ipython3",
   "version": "3.12.3"
  }
 },
 "nbformat": 4,
 "nbformat_minor": 5
}
