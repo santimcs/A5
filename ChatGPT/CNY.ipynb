{
 "cells": [
  {
   "cell_type": "code",
   "execution_count": 1,
   "id": "94fbd283-0550-4ff3-8985-b7af22c8e5bf",
   "metadata": {},
   "outputs": [],
   "source": [
    "from PIL import Image, ImageDraw, ImageFont\n",
    "import os"
   ]
  },
  {
   "cell_type": "code",
   "execution_count": 2,
   "id": "74149a92-d34b-4202-bdb4-8f2ae75c07c4",
   "metadata": {},
   "outputs": [],
   "source": [
    "# Define the function to add text to an image\n",
    "def add_text_to_image(image_path, text, output_path, font_path, font_size, text_color, text_margin):\n",
    "    # Open the image\n",
    "    image = Image.open(image_path)\n",
    "    draw = ImageDraw.Draw(image)\n",
    "\n",
    "    # Load the font\n",
    "    font = ImageFont.truetype(font_path, font_size)\n",
    "\n",
    "    # Calculate text size and position using textbbox\n",
    "    text_bbox = draw.textbbox((0, 0), text, font=font)\n",
    "    text_width, text_height = text_bbox[2] - text_bbox[0], text_bbox[3] - text_bbox[1]\n",
    "    image_width, image_height = image.size\n",
    "    text_x = (image_width - text_width) // 2\n",
    "    #text_y = image_height - text_height - text_margin\n",
    "    text_y = 1200\n",
    "\n",
    "    # Add the text to the image\n",
    "    draw.text((text_x, text_y), text, fill=text_color, font=font)\n",
    "\n",
    "    # Save the updated image\n",
    "    image.save(output_path)"
   ]
  },
  {
   "cell_type": "code",
   "execution_count": 3,
   "id": "3cf484ca-6853-453b-8ad6-249400c50657",
   "metadata": {},
   "outputs": [
    {
     "name": "stdout",
     "output_type": "stream",
     "text": [
      "Current path: C:\\Users\\PC1\\OneDrive\\A5\\ChatGPT\n"
     ]
    }
   ],
   "source": [
    "# Get the current working directory\n",
    "current_path = os.getcwd()\n",
    "print(f\"Current path: {current_path}\") "
   ]
  },
  {
   "cell_type": "code",
   "execution_count": 4,
   "id": "8f0df6b2-1119-4c7e-b35f-5538acdeeabc",
   "metadata": {},
   "outputs": [
    {
     "name": "stdout",
     "output_type": "stream",
     "text": [
      "Images path: C:/Images\n"
     ]
    }
   ],
   "source": [
    "# Get the current working directory\n",
    "images_path = 'C:/Images'\n",
    "print(f\"Images path: {images_path}\") "
   ]
  },
  {
   "cell_type": "code",
   "execution_count": 5,
   "id": "42f517c5-8f0a-4019-9563-77cd63ee1a89",
   "metadata": {},
   "outputs": [
    {
     "name": "stdout",
     "output_type": "stream",
     "text": [
      "Image saved at C:/Images\\output_image_with_text.jpeg\n"
     ]
    }
   ],
   "source": [
    "# Example usage\n",
    "input_file = 'input_image.jpeg'\n",
    "output_file = 'output_image_with_text.jpeg'\n",
    "image_path = os.path.join(images_path,input_file)  # Replace with the path to your image\n",
    "output_path = os.path.join(images_path,output_file)  # Replace with the desired output path\n",
    "font_path = \"C:\\\\Windows\\\\Fonts\\\\DejaVuSans-Bold.ttf\"  # Adjust for your system\n",
    "font_size = 100\n",
    "text = \"Happy Wednesday\"\n",
    "text_color = \"white\"\n",
    "text_margin = 20  # Margin from the bottom of the image\n",
    "\n",
    "add_text_to_image(image_path, text, output_path, font_path, font_size, text_color, text_margin)\n",
    "\n",
    "print(f\"Image saved at {output_path}\")"
   ]
  },
  {
   "cell_type": "code",
   "execution_count": null,
   "id": "09581d3b-b50c-4eeb-a0bd-0f653a69292f",
   "metadata": {},
   "outputs": [],
   "source": []
  },
  {
   "cell_type": "code",
   "execution_count": null,
   "id": "02742703-813c-4084-a6b4-48932a8d9665",
   "metadata": {},
   "outputs": [],
   "source": []
  },
  {
   "cell_type": "code",
   "execution_count": null,
   "id": "15157843-a20e-4813-8abd-4edb3f675df3",
   "metadata": {},
   "outputs": [],
   "source": []
  },
  {
   "cell_type": "code",
   "execution_count": null,
   "id": "0f1781df-c61c-4319-af88-de8f3104f23c",
   "metadata": {},
   "outputs": [],
   "source": []
  }
 ],
 "metadata": {
  "kernelspec": {
   "display_name": "Python 3 (ipykernel)",
   "language": "python",
   "name": "python3"
  },
  "language_info": {
   "codemirror_mode": {
    "name": "ipython",
    "version": 3
   },
   "file_extension": ".py",
   "mimetype": "text/x-python",
   "name": "python",
   "nbconvert_exporter": "python",
   "pygments_lexer": "ipython3",
   "version": "3.12.3"
  }
 },
 "nbformat": 4,
 "nbformat_minor": 5
}
