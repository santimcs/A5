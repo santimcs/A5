{
 "cells": [
  {
   "cell_type": "code",
   "execution_count": 1,
   "id": "cedb56df",
   "metadata": {},
   "outputs": [
    {
     "name": "stdout",
     "output_type": "stream",
     "text": [
      "DataFrame saved to \\Users\\User\\iCloudDrive\\structured_transactions_manual.xlsx\n"
     ]
    }
   ],
   "source": [
    "import pandas as pd\n",
    "data_path = \"../data/\"\n",
    "csv_path = \"\\\\Users\\\\User\\\\iCloudDrive\\\\\"\n",
    "one_path = \"\\\\Users\\\\User\\\\OneDrive\\\\Documents\\\\Data\\\\\"\n",
    "osd_path = \"\\\\Users\\\\User\\\\OneDrive\\\\Documents\\\\obsidian-git-sync\\\\Data\\\\\"\n",
    "\n",
    "# Manually constructed data\n",
    "data = [\n",
    "    [\"4 Jun 24\", \"8:50 PM\", \"Transfer in\", \"GSB\", 2000.00, 272689.91],\n",
    "    [\"4 Jun 24\", \"3:43 PM\", \"Transfer in\", \"SCB\", 5000.00, 270689.91],\n",
    "    [\"4 Jun 24\", \"11:02 AM\", \"Transfer in\", \"SCB\", 2000.00, 265689.91],\n",
    "    [\"4 Jun 24\", \"8:45 AM\", \"Transfer in\", \"KTB\", 2000.00, 263689.91],\n",
    "    [\"4 Jun 24\", \"6:53 AM\", \"Transfer in\", \"SCB\", 2000.00, 261689.91],\n",
    "    [\"3 Jun 24\", \"4:56 PM\", \"Transfer in\", \"SCB\", 1000.00, 259689.91],\n",
    "    [\"3 Jun 24\", \"4:49 PM\", \"Transfer in\", \"SCB\", 2000.00, 258689.91],\n",
    "    [\"3 Jun 24\", \"4:47 PM\", \"Transfer in\", \"SCB\", 1000.00, 256689.91],\n",
    "    [\"3 Jun 24\", \"3:15 PM\", \"Transfer in\", \"KTB\", 1000.00, 255689.91],\n",
    "    [\"3 Jun 24\", \"3:05 PM\", \"Transfer in\", \"KTB\", 2000.00, 254689.91],\n",
    "    [\"3 Jun 24\", \"2:56 PM\", \"Transfer in\", \"BBL\", 2000.00, 252689.91],\n",
    "    [\"3 Jun 24\", \"1:47 PM\", \"Transfer in\", \"Mobile\", 2000.00, 250689.91],\n",
    "    [\"3 Jun 24\", \"11:18 AM\", \"Transfer in\", \"BBL\", 2000.00, 248689.91],\n",
    "    [\"3 Jun 24\", \"11:16 AM\", \"Transfer in\", \"KTB\", 1000.00, 246689.91],\n",
    "    [\"3 Jun 24\", \"10:35 AM\", \"Transfer in\", \"KTB\", 2000.00, 245689.91]\n",
    "]\n",
    "\n",
    "# Define the columns\n",
    "columns = ['Date', 'Time', 'Transaction', 'Channel', 'Amount', 'Available balance']\n",
    "\n",
    "# Create the DataFrame\n",
    "df = pd.DataFrame(data, columns=columns)\n",
    "\n",
    "# Save the DataFrame to an Excel file\n",
    "#output_file_path = 'structured_transactions_manual.xlsx'\n",
    "file_name = 'structured_transactions_manual.xlsx'\n",
    "data_file = data_path + file_name\n",
    "output_file = csv_path + file_name\n",
    "one_file = one_path + file_name\n",
    "\n",
    "df.to_excel(output_file, index=False)\n",
    "\n",
    "print(f'DataFrame saved to {output_file}')\n"
   ]
  },
  {
   "cell_type": "code",
   "execution_count": 2,
   "id": "88c0573d",
   "metadata": {},
   "outputs": [
    {
     "ename": "NameError",
     "evalue": "name 'output' is not defined",
     "output_type": "error",
     "traceback": [
      "\u001b[1;31m---------------------------------------------------------------------------\u001b[0m",
      "\u001b[1;31mNameError\u001b[0m                                 Traceback (most recent call last)",
      "Cell \u001b[1;32mIn[2], line 7\u001b[0m\n\u001b[0;32m      4\u001b[0m one_file \u001b[38;5;241m=\u001b[39m one_path \u001b[38;5;241m+\u001b[39m file_name\n\u001b[0;32m      5\u001b[0m osd_file \u001b[38;5;241m=\u001b[39m osd_path \u001b[38;5;241m+\u001b[39m file_name\n\u001b[1;32m----> 7\u001b[0m \u001b[43moutput\u001b[49m\u001b[38;5;241m.\u001b[39mto_csv(output_file, header\u001b[38;5;241m=\u001b[39m\u001b[38;5;28;01mTrue\u001b[39;00m, index\u001b[38;5;241m=\u001b[39m\u001b[38;5;28;01mFalse\u001b[39;00m)\n\u001b[0;32m      8\u001b[0m output\u001b[38;5;241m.\u001b[39mto_csv(data_file, header\u001b[38;5;241m=\u001b[39m\u001b[38;5;28;01mTrue\u001b[39;00m, index\u001b[38;5;241m=\u001b[39m\u001b[38;5;28;01mFalse\u001b[39;00m)\n\u001b[0;32m      9\u001b[0m output\u001b[38;5;241m.\u001b[39mto_csv(one_file, header\u001b[38;5;241m=\u001b[39m\u001b[38;5;28;01mTrue\u001b[39;00m, index\u001b[38;5;241m=\u001b[39m\u001b[38;5;28;01mFalse\u001b[39;00m)\n",
      "\u001b[1;31mNameError\u001b[0m: name 'output' is not defined"
     ]
    }
   ],
   "source": [
    "file_name = 'structured_transactions_manual.xlsx'\n",
    "data_file = data_path + file_name\n",
    "output_file = csv_path + file_name\n",
    "one_file = one_path + file_name\n",
    "osd_file = osd_path + file_name\n",
    "\n",
    "output.to_csv(output_file, header=True, index=False)\n",
    "output.to_csv(data_file, header=True, index=False)\n",
    "output.to_csv(one_file, header=True, index=False)\n",
    "output.to_csv(osd_file, header=True, index=False)"
   ]
  }
 ],
 "metadata": {
  "kernelspec": {
   "display_name": "Python 3 (ipykernel)",
   "language": "python",
   "name": "python3"
  },
  "language_info": {
   "codemirror_mode": {
    "name": "ipython",
    "version": 3
   },
   "file_extension": ".py",
   "mimetype": "text/x-python",
   "name": "python",
   "nbconvert_exporter": "python",
   "pygments_lexer": "ipython3",
   "version": "3.8.19"
  }
 },
 "nbformat": 4,
 "nbformat_minor": 5
}
