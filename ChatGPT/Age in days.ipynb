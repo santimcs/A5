{
 "cells": [
  {
   "cell_type": "code",
   "execution_count": 1,
   "id": "cae3dab7",
   "metadata": {},
   "outputs": [
    {
     "data": {
      "text/plain": [
       "(25719, (70, 5, 0))"
      ]
     },
     "execution_count": 1,
     "metadata": {},
     "output_type": "execute_result"
    }
   ],
   "source": [
    "from datetime import datetime, timedelta\n",
    "\n",
    "# User's birthdate\n",
    "birthdate = datetime(1953, 12, 17)\n",
    "\n",
    "# Today's date\n",
    "today = datetime(2024, 5, 17)\n",
    "\n",
    "# Calculate the difference\n",
    "age_in_days = (today - birthdate).days\n",
    "\n",
    "# Calculate years, months, and days\n",
    "years = today.year - birthdate.year\n",
    "months = today.month - birthdate.month\n",
    "days = today.day - birthdate.day\n",
    "\n",
    "# Adjust for negative values\n",
    "if days < 0:\n",
    "    months -= 1\n",
    "    days += (birthdate + timedelta(days=30)).day - birthdate.day\n",
    "\n",
    "if months < 0:\n",
    "    years -= 1\n",
    "    months += 12\n",
    "\n",
    "age_in_years_months_days = (years, months, days)\n",
    "\n",
    "age_in_days, age_in_years_months_days\n"
   ]
  },
  {
   "cell_type": "code",
   "execution_count": null,
   "id": "0e04643b",
   "metadata": {},
   "outputs": [],
   "source": []
  }
 ],
 "metadata": {
  "kernelspec": {
   "display_name": "Python 3 (ipykernel)",
   "language": "python",
   "name": "python3"
  },
  "language_info": {
   "codemirror_mode": {
    "name": "ipython",
    "version": 3
   },
   "file_extension": ".py",
   "mimetype": "text/x-python",
   "name": "python",
   "nbconvert_exporter": "python",
   "pygments_lexer": "ipython3",
   "version": "3.8.19"
  }
 },
 "nbformat": 4,
 "nbformat_minor": 5
}
