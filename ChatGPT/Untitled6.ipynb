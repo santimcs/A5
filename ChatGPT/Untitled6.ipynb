{
 "cells": [
  {
   "cell_type": "code",
   "execution_count": 1,
   "id": "eb0417e0",
   "metadata": {},
   "outputs": [],
   "source": [
    "from PIL import Image, ImageDraw, ImageFont\n",
    "\n",
    "# Create a new blank image\n",
    "width, height = 800, 600\n",
    "image = Image.new('RGB', (width, height), (255, 255, 255))\n",
    "draw = ImageDraw.Draw(image)\n",
    "\n",
    "# Define the texts and fonts\n",
    "texts = [\"DejaVuSansMono\", \"DejaVuSansMono-Bold\", \"DejaVuSansMono-BoldOblique\"]\n",
    "font_paths = [\n",
    "    \"DejaVuSansMono.ttf\",\n",
    "    \"DejaVuSansMono-Bold.ttf\",\n",
    "    \"DejaVuSansMono-BoldOblique.ttf\"\n",
    "]\n",
    "font_size = 40\n",
    "\n",
    "# Initial y-position for the text\n",
    "y_position = 50\n",
    "\n",
    "for text, font_path in zip(texts, font_paths):\n",
    "    font = ImageFont.truetype(font_path, font_size)\n",
    "    text_width, text_height = draw.textbbox((0, 0), text, font=font)[2:4]\n",
    "    x_position = (width - text_width) / 2\n",
    "    draw.text((x_position, y_position), text, fill=\"black\", font=font)\n",
    "    y_position += text_height + 20  # Move to the next line\n",
    "\n",
    "# Save the image\n",
    "output_path = 'Font_Comparison.png'\n",
    "image.save(output_path)\n",
    "\n",
    "# Show the image\n",
    "image.show()\n"
   ]
  },
  {
   "cell_type": "code",
   "execution_count": null,
   "id": "110fff25",
   "metadata": {},
   "outputs": [],
   "source": []
  },
  {
   "cell_type": "code",
   "execution_count": null,
   "id": "ad7dbb57",
   "metadata": {},
   "outputs": [],
   "source": []
  }
 ],
 "metadata": {
  "kernelspec": {
   "display_name": "Python 3 (ipykernel)",
   "language": "python",
   "name": "python3"
  },
  "language_info": {
   "codemirror_mode": {
    "name": "ipython",
    "version": 3
   },
   "file_extension": ".py",
   "mimetype": "text/x-python",
   "name": "python",
   "nbconvert_exporter": "python",
   "pygments_lexer": "ipython3",
   "version": "3.8.19"
  }
 },
 "nbformat": 4,
 "nbformat_minor": 5
}
