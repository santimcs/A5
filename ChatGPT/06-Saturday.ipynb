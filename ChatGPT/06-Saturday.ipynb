{
 "cells": [
  {
   "cell_type": "code",
   "execution_count": 1,
   "id": "52bab363",
   "metadata": {},
   "outputs": [
    {
     "data": {
      "text/plain": [
       "'C:/NewPC/saturday.Jpg'"
      ]
     },
     "execution_count": 1,
     "metadata": {},
     "output_type": "execute_result"
    }
   ],
   "source": [
    "from PIL import Image, ImageDraw, ImageFont\n",
    "\n",
    "# Load the image\n",
    "image_name = 'saturday'\n",
    "# Define the text and font\n",
    "text1 = \"Happy\"\n",
    "text2 = \"Saturday\"\n",
    "# Draw the text on the image\n",
    "fill_color = \"white\"\n",
    "font_size = 80\n",
    "# Set space above bottome border\n",
    "above_ground = 60\n",
    "\n",
    "image_path = 'C:/NewPC/' + image_name + '.Jpg'\n",
    "image_path "
   ]
  },
  {
   "cell_type": "code",
   "execution_count": 2,
   "id": "4d6a8ab7",
   "metadata": {},
   "outputs": [
    {
     "data": {
      "text/plain": [
       "(243, 75, 643, 960)"
      ]
     },
     "execution_count": 2,
     "metadata": {},
     "output_type": "execute_result"
    }
   ],
   "source": [
    "image = Image.open(image_path)\n",
    "\n",
    "\n",
    "#font_path = \"DejaVuSansMono.ttf\" \n",
    "#font_path = \"DejaVuSansMono-Bold.ttf\" \n",
    "font_path = \"DejaVuSansMono-BoldOblique.ttf\" \n",
    "#font_path = \"DejaVuSansMono.ttf\" \n",
    "# Adjust the path to the font file if necessary\n",
    "font = ImageFont.truetype(font_path, font_size)\n",
    "\n",
    "# Create a drawing context\n",
    "draw = ImageDraw.Draw(image)\n",
    "\n",
    "# Calculate text size and position using textbbox\n",
    "text_bbox = draw.textbbox((0, 0), text1, font=font)\n",
    "text_width, text_height = text_bbox[2] - text_bbox[0], text_bbox[3] - text_bbox[1]\n",
    "text_width, text_height, image.width, image.height"
   ]
  },
  {
   "cell_type": "code",
   "execution_count": 3,
   "id": "a7bb4a7a",
   "metadata": {},
   "outputs": [
    {
     "data": {
      "text/plain": [
       "(200.0, 825)"
      ]
     },
     "execution_count": 3,
     "metadata": {},
     "output_type": "execute_result"
    }
   ],
   "source": [
    "position = ((image.width - text_width) / 2, image.height - text_height - above_ground)\n",
    "position"
   ]
  },
  {
   "cell_type": "code",
   "execution_count": 4,
   "id": "e358e682-7fe9-44b6-92b1-40c5caefa260",
   "metadata": {},
   "outputs": [],
   "source": [
    "position = (200, 150)"
   ]
  },
  {
   "cell_type": "code",
   "execution_count": 5,
   "id": "a4515236-ba55-4239-b9a8-1876b2e395bb",
   "metadata": {},
   "outputs": [],
   "source": [
    "draw.text(position, text1, fill=fill_color, font=font)"
   ]
  },
  {
   "cell_type": "code",
   "execution_count": 6,
   "id": "c42aca79-260f-4568-8dd0-ab3eb1636789",
   "metadata": {},
   "outputs": [
    {
     "data": {
      "text/plain": [
       "(386, 78, 643, 960)"
      ]
     },
     "execution_count": 6,
     "metadata": {},
     "output_type": "execute_result"
    }
   ],
   "source": [
    "# Calculate text size and position using textbbox\n",
    "text_bbox = draw.textbbox((0, 0), text2, font=font)\n",
    "text_width, text_height = text_bbox[2] - text_bbox[0], text_bbox[3] - text_bbox[1]\n",
    "text_width, text_height, image.width, image.height"
   ]
  },
  {
   "cell_type": "code",
   "execution_count": 7,
   "id": "1d63f3a4-c2cc-4102-9fac-8716d0e1434f",
   "metadata": {},
   "outputs": [
    {
     "data": {
      "text/plain": [
       "(128.5, 822)"
      ]
     },
     "execution_count": 7,
     "metadata": {},
     "output_type": "execute_result"
    }
   ],
   "source": [
    "position = ((image.width - text_width) / 2, image.height - text_height - above_ground)\n",
    "position"
   ]
  },
  {
   "cell_type": "code",
   "execution_count": 8,
   "id": "b9a4df40-3c44-425f-84e4-34aaa9360acf",
   "metadata": {},
   "outputs": [],
   "source": [
    "position = (130, 800)"
   ]
  },
  {
   "cell_type": "code",
   "execution_count": 9,
   "id": "b63ba48a-3689-44bd-9035-04905d34b199",
   "metadata": {},
   "outputs": [],
   "source": [
    "draw.text(position, text2, fill=fill_color, font=font)"
   ]
  },
  {
   "cell_type": "code",
   "execution_count": 10,
   "id": "bb9db7d7-ce7a-46f8-b0ac-9e71362e462c",
   "metadata": {},
   "outputs": [],
   "source": [
    "# Save the edited image\n",
    "output_path = 'C:/NewPC/' + image_name + '-txt.jpeg'\n",
    "image.save(output_path)\n",
    "\n",
    "# Show the edited image\n",
    "image.show()"
   ]
  },
  {
   "cell_type": "code",
   "execution_count": null,
   "id": "4086b624",
   "metadata": {},
   "outputs": [],
   "source": []
  }
 ],
 "metadata": {
  "kernelspec": {
   "display_name": "Python 3 (ipykernel)",
   "language": "python",
   "name": "python3"
  },
  "language_info": {
   "codemirror_mode": {
    "name": "ipython",
    "version": 3
   },
   "file_extension": ".py",
   "mimetype": "text/x-python",
   "name": "python",
   "nbconvert_exporter": "python",
   "pygments_lexer": "ipython3",
   "version": "3.12.3"
  }
 },
 "nbformat": 4,
 "nbformat_minor": 5
}
