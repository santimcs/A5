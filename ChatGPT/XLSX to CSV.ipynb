{
 "cells": [
  {
   "cell_type": "code",
   "execution_count": 1,
   "id": "fbb1679f",
   "metadata": {},
   "outputs": [],
   "source": [
    "import pandas as pd\n",
    "import requests\n",
    "from bs4 import BeautifulSoup\n",
    "\n",
    "csv_path = \"\\\\Users\\\\User\\\\iCloudDrive\\\\\"\n",
    "excel_path = \"\\\\Users\\\\User\\\\OneDrive\\\\A6\\\\Excel\\\\\"\n",
    "osd_path = \"\\\\Users\\\\User\\\\OneDrive\\\\Documents\\\\obsidian-git-sync\\\\Data\\\\\""
   ]
  },
  {
   "cell_type": "code",
   "execution_count": 4,
   "id": "26ee2704",
   "metadata": {},
   "outputs": [],
   "source": [
    "file_name = '15-div-23q4.xlsx'\n",
    "input_file = excel_path + file_name\n",
    "output_file = excel_path + '15-div-23q4.csv'\n",
    "osd_file = osd_path + '15-div-23q4.csv'\n",
    "df = pd.read_excel(input_file)\n",
    "df.to_csv(output_file, index=False)\n",
    "df.to_csv(osd_file, index=False)"
   ]
  },
  {
   "cell_type": "code",
   "execution_count": null,
   "id": "2270537f",
   "metadata": {},
   "outputs": [],
   "source": []
  }
 ],
 "metadata": {
  "kernelspec": {
   "display_name": "Python 3 (ipykernel)",
   "language": "python",
   "name": "python3"
  },
  "language_info": {
   "codemirror_mode": {
    "name": "ipython",
    "version": 3
   },
   "file_extension": ".py",
   "mimetype": "text/x-python",
   "name": "python",
   "nbconvert_exporter": "python",
   "pygments_lexer": "ipython3",
   "version": "3.8.11"
  }
 },
 "nbformat": 4,
 "nbformat_minor": 5
}
