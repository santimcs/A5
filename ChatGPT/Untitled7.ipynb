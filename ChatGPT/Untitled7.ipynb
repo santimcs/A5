{
 "cells": [
  {
   "cell_type": "code",
   "execution_count": 5,
   "id": "79d66551-ddc1-421b-bd98-1535f2b7f6b5",
   "metadata": {},
   "outputs": [
    {
     "name": "stdout",
     "output_type": "stream",
     "text": [
      "Image saved as buttons.png\n"
     ]
    }
   ],
   "source": [
    "from PIL import Image, ImageDraw, ImageFont\n",
    "\n",
    "# Create an image\n",
    "width, height = 600, 400\n",
    "image = Image.new(\"RGB\", (width, height), \"white\")\n",
    "draw = ImageDraw.Draw(image)\n",
    "\n",
    "# Button properties\n",
    "button_width, button_height = 300, 80\n",
    "button_color = \"black\"\n",
    "text_color = \"white\"\n",
    "font_size = 40\n",
    "\n",
    "# Load font\n",
    "try:\n",
    "    font = ImageFont.truetype(\"arial.ttf\", font_size)\n",
    "except IOError:\n",
    "    font = ImageFont.load_default()\n",
    "\n",
    "# Button texts\n",
    "texts = [\"Happy\", \"New\", \"Year\", \"2025\"]\n",
    "\n",
    "# Calculate positions and draw buttons\n",
    "for i, text in enumerate(texts):\n",
    "    x = (width - button_width) // 2\n",
    "    y = 50 + i * (button_height + 20)\n",
    "    draw.rectangle([x, y, x + button_width, y + button_height], fill=button_color)\n",
    "\n",
    "    # Get text bounding box for centering\n",
    "    bbox = draw.textbbox((0, 0), text, font=font)\n",
    "    text_width = bbox[2] - bbox[0]\n",
    "    text_height = bbox[3] - bbox[1]\n",
    "    text_x = x + (button_width - text_width) // 2\n",
    "    text_y = y + (button_height - text_height) // 2\n",
    "    draw.text((text_x, text_y), text, font=font, fill=text_color)\n",
    "\n",
    "# Save the image as a PNG file\n",
    "image.save(\"buttons.png\")\n",
    "print(\"Image saved as buttons.png\")"
   ]
  },
  {
   "cell_type": "code",
   "execution_count": 19,
   "id": "e738aafa-83ba-4ba8-aeee-addbcea8f67d",
   "metadata": {},
   "outputs": [
    {
     "name": "stdout",
     "output_type": "stream",
     "text": [
      "Image saved as 'buttons.png'\n"
     ]
    }
   ],
   "source": [
    "from PIL import Image, ImageDraw, ImageFont\n",
    "\n",
    "# Create a blank image (800x400 pixels)\n",
    "image = Image.new('RGB', (1000, 160), color='white')\n",
    "draw = ImageDraw.Draw(image)\n",
    "\n",
    "# Define button properties\n",
    "button_width = 180\n",
    "button_height = 80\n",
    "button_margin = 20\n",
    "button_colors = ['#FFCCCB', '#ADD8E6', '#90EE90', '#FFD700']\n",
    "button_texts = ['Happy', 'New', 'Year', '2025']\n",
    "font = ImageFont.truetype(\"arial.ttf\", 30)  # Use a system font or provide a path to a .ttf file\n",
    "\n",
    "# Draw buttons and add text\n",
    "x_offset = 20\n",
    "for i, (color, text) in enumerate(zip(button_colors, button_texts)):\n",
    "    # Draw button\n",
    "    draw.rectangle([x_offset, 40, x_offset + button_width, 40 + button_height], fill=color, outline='black')\n",
    "    # Calculate text size\n",
    "    text_width = draw.textlength(text, font=font)\n",
    "    text_bbox = font.getbbox(text)  # Get bounding box of the text\n",
    "    text_height = text_bbox[3] - text_bbox[1]  # Calculate height from bounding box\n",
    "    # Position text in the center of the button\n",
    "    text_x = x_offset + (button_width - text_width) // 2\n",
    "    text_y = 40 + (button_height - text_height) // 2\n",
    "    draw.text((text_x, text_y), text, fill='black', font=font)\n",
    "    # Update x_offset for the next button\n",
    "    x_offset += button_width + button_margin\n",
    "\n",
    "# Save the image\n",
    "image.save('buttons-DS-04.png')\n",
    "print(\"Image saved as 'buttons.png'\")"
   ]
  },
  {
   "cell_type": "code",
   "execution_count": null,
   "id": "8c981d05-070e-4126-a4a9-92bb2438f336",
   "metadata": {},
   "outputs": [],
   "source": []
  }
 ],
 "metadata": {
  "kernelspec": {
   "display_name": "Python 3 (ipykernel)",
   "language": "python",
   "name": "python3"
  },
  "language_info": {
   "codemirror_mode": {
    "name": "ipython",
    "version": 3
   },
   "file_extension": ".py",
   "mimetype": "text/x-python",
   "name": "python",
   "nbconvert_exporter": "python",
   "pygments_lexer": "ipython3",
   "version": "3.12.3"
  }
 },
 "nbformat": 4,
 "nbformat_minor": 5
}
