{
 "cells": [
  {
   "cell_type": "code",
   "execution_count": 1,
   "id": "52bab363",
   "metadata": {},
   "outputs": [
    {
     "data": {
      "text/plain": [
       "'C:/Users/User/Downloads/ComfyUI_temp_00006_.png'"
      ]
     },
     "execution_count": 1,
     "metadata": {},
     "output_type": "execute_result"
    }
   ],
   "source": [
    "from PIL import Image, ImageDraw, ImageFont\n",
    "\n",
    "# Load the image\n",
    "image_name = 'ComfyUI_temp_00006_'\n",
    "# Define the text and font\n",
    "text = \"Happy Monday\"\n",
    "# Draw the text on the image\n",
    "fill_color = \"yellow\"\n",
    "font_size = 100\n",
    "# Set space above bottome border\n",
    "above_ground = 100\n",
    "\n",
    "image_path = 'C:/Users/User/Downloads/' + image_name + '.png'\n",
    "image_path "
   ]
  },
  {
   "cell_type": "code",
   "execution_count": 2,
   "id": "4d6a8ab7",
   "metadata": {},
   "outputs": [
    {
     "data": {
      "text/plain": [
       "(723, 97, 736, 1024)"
      ]
     },
     "execution_count": 2,
     "metadata": {},
     "output_type": "execute_result"
    }
   ],
   "source": [
    "image = Image.open(image_path)\n",
    "\n",
    "\n",
    "#font_path = \"DejaVuSansMono.ttf\" \n",
    "#font_path = \"DejaVuSansMono-Bold.ttf\" \n",
    "font_path = \"DejaVuSansMono-BoldOblique.ttf\" \n",
    "#font_path = \"DejaVuSansMono.ttf\" \n",
    "# Adjust the path to the font file if necessary\n",
    "font = ImageFont.truetype(font_path, font_size)\n",
    "\n",
    "# Create a drawing context\n",
    "draw = ImageDraw.Draw(image)\n",
    "\n",
    "# Calculate text size and position using textbbox\n",
    "text_bbox = draw.textbbox((0, 0), text, font=font)\n",
    "text_width, text_height = text_bbox[2] - text_bbox[0], text_bbox[3] - text_bbox[1]\n",
    "text_width, text_height, image.width, image.height"
   ]
  },
  {
   "cell_type": "code",
   "execution_count": 3,
   "id": "a7bb4a7a",
   "metadata": {},
   "outputs": [
    {
     "data": {
      "text/plain": [
       "(6.5, 827)"
      ]
     },
     "execution_count": 3,
     "metadata": {},
     "output_type": "execute_result"
    }
   ],
   "source": [
    "position = ((image.width - text_width) / 2, image.height - text_height - above_ground)\n",
    "position"
   ]
  },
  {
   "cell_type": "code",
   "execution_count": 4,
   "id": "f46c9953",
   "metadata": {},
   "outputs": [],
   "source": [
    "draw.text(position, text, fill=fill_color, font=font)\n",
    "\n",
    "# Save the edited image\n",
    "output_path = 'C:/Users/User/Downloads/' + image_name + 'txt.png'\n",
    "image.save(output_path)\n",
    "\n",
    "# Show the edited image\n",
    "image.show()"
   ]
  },
  {
   "cell_type": "code",
   "execution_count": null,
   "id": "4086b624",
   "metadata": {},
   "outputs": [],
   "source": []
  }
 ],
 "metadata": {
  "kernelspec": {
   "display_name": "Python 3 (ipykernel)",
   "language": "python",
   "name": "python3"
  },
  "language_info": {
   "codemirror_mode": {
    "name": "ipython",
    "version": 3
   },
   "file_extension": ".py",
   "mimetype": "text/x-python",
   "name": "python",
   "nbconvert_exporter": "python",
   "pygments_lexer": "ipython3",
   "version": "3.8.19"
  }
 },
 "nbformat": 4,
 "nbformat_minor": 5
}
