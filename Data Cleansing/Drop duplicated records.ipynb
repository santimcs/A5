{
 "cells": [
  {
   "cell_type": "code",
   "execution_count": 1,
   "id": "40bf98b9",
   "metadata": {},
   "outputs": [],
   "source": [
    "import pandas as pd\n",
    "from sqlalchemy import create_engine\n",
    "\n",
    "# Connect to the database and read the Dividend table\n",
    "engine = create_engine('mysql+pymysql://root:@localhost:3306/stock')\n",
    "const = engine.connect()\n",
    "dividend_table = pd.read_sql(\"SELECT * FROM dividend\", const)\n",
    "\n",
    "# Drop duplicates in pandas dataframe and write it back to the database\n",
    "dividend_table.drop_duplicates(inplace=True)\n",
    "dividend_table.to_sql('dividend', const, if_exists='replace', index=False)"
   ]
  },
  {
   "cell_type": "code",
   "execution_count": null,
   "id": "752afdcd",
   "metadata": {},
   "outputs": [],
   "source": []
  }
 ],
 "metadata": {
  "kernelspec": {
   "display_name": "Python 3 (ipykernel)",
   "language": "python",
   "name": "python3"
  },
  "language_info": {
   "codemirror_mode": {
    "name": "ipython",
    "version": 3
   },
   "file_extension": ".py",
   "mimetype": "text/x-python",
   "name": "python",
   "nbconvert_exporter": "python",
   "pygments_lexer": "ipython3",
   "version": "3.8.11"
  }
 },
 "nbformat": 4,
 "nbformat_minor": 5
}
