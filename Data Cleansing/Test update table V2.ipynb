{
 "cells": [
  {
   "cell_type": "code",
   "execution_count": 1,
   "id": "def47f91",
   "metadata": {},
   "outputs": [],
   "source": [
    "import pandas as pd\n",
    "from sqlalchemy import create_engine"
   ]
  },
  {
   "cell_type": "code",
   "execution_count": 2,
   "id": "3c64d8d3",
   "metadata": {},
   "outputs": [
    {
     "data": {
      "text/html": [
       "<div>\n",
       "<style scoped>\n",
       "    .dataframe tbody tr th:only-of-type {\n",
       "        vertical-align: middle;\n",
       "    }\n",
       "\n",
       "    .dataframe tbody tr th {\n",
       "        vertical-align: top;\n",
       "    }\n",
       "\n",
       "    .dataframe thead th {\n",
       "        text-align: right;\n",
       "    }\n",
       "</style>\n",
       "<table border=\"1\" class=\"dataframe\">\n",
       "  <thead>\n",
       "    <tr style=\"text-align: right;\">\n",
       "      <th></th>\n",
       "      <th>NAME</th>\n",
       "      <th>Q4</th>\n",
       "      <th>Q3</th>\n",
       "      <th>Q2</th>\n",
       "      <th>Q1</th>\n",
       "      <th>DIVIDEND</th>\n",
       "      <th>PRICE</th>\n",
       "      <th>PERCENT</th>\n",
       "      <th>SHARES</th>\n",
       "      <th>XDATE</th>\n",
       "      <th>PAIDDATE</th>\n",
       "      <th>KIND</th>\n",
       "      <th>ACTUAL</th>\n",
       "    </tr>\n",
       "  </thead>\n",
       "  <tbody>\n",
       "    <tr>\n",
       "      <th>0</th>\n",
       "      <td>WHART</td>\n",
       "      <td>0.1265</td>\n",
       "      <td>0.259</td>\n",
       "      <td>0.193</td>\n",
       "      <td>0.1915</td>\n",
       "      <td>0.7700</td>\n",
       "      <td>0.0</td>\n",
       "      <td>0.0</td>\n",
       "      <td>20000.0</td>\n",
       "      <td>2024-03-08</td>\n",
       "      <td>2024-03-24</td>\n",
       "      <td></td>\n",
       "      <td>2.0</td>\n",
       "    </tr>\n",
       "    <tr>\n",
       "      <th>1</th>\n",
       "      <td>CPNREIT</td>\n",
       "      <td>0.0607</td>\n",
       "      <td>0.257</td>\n",
       "      <td>0.290</td>\n",
       "      <td>0.2470</td>\n",
       "      <td>0.8547</td>\n",
       "      <td>0.0</td>\n",
       "      <td>0.0</td>\n",
       "      <td>60000.0</td>\n",
       "      <td>2024-02-28</td>\n",
       "      <td>2024-03-16</td>\n",
       "      <td></td>\n",
       "      <td>2.0</td>\n",
       "    </tr>\n",
       "    <tr>\n",
       "      <th>2</th>\n",
       "      <td>MCS</td>\n",
       "      <td>0.2000</td>\n",
       "      <td>0.000</td>\n",
       "      <td>0.000</td>\n",
       "      <td>0.0000</td>\n",
       "      <td>0.2000</td>\n",
       "      <td>0.0</td>\n",
       "      <td>0.0</td>\n",
       "      <td>78000.0</td>\n",
       "      <td>2024-03-17</td>\n",
       "      <td>2024-05-08</td>\n",
       "      <td></td>\n",
       "      <td>2.0</td>\n",
       "    </tr>\n",
       "    <tr>\n",
       "      <th>3</th>\n",
       "      <td>AIMIRT</td>\n",
       "      <td>0.2230</td>\n",
       "      <td>0.223</td>\n",
       "      <td>0.223</td>\n",
       "      <td>0.2230</td>\n",
       "      <td>0.8920</td>\n",
       "      <td>0.0</td>\n",
       "      <td>0.0</td>\n",
       "      <td>10000.0</td>\n",
       "      <td>2024-03-15</td>\n",
       "      <td>2024-03-30</td>\n",
       "      <td></td>\n",
       "      <td>2.0</td>\n",
       "    </tr>\n",
       "    <tr>\n",
       "      <th>4</th>\n",
       "      <td>SCC</td>\n",
       "      <td>2.0000</td>\n",
       "      <td>0.000</td>\n",
       "      <td>2.500</td>\n",
       "      <td>0.0000</td>\n",
       "      <td>4.5000</td>\n",
       "      <td>0.0</td>\n",
       "      <td>0.0</td>\n",
       "      <td>600.0</td>\n",
       "      <td>2024-04-07</td>\n",
       "      <td>2024-04-25</td>\n",
       "      <td></td>\n",
       "      <td>2.0</td>\n",
       "    </tr>\n",
       "  </tbody>\n",
       "</table>\n",
       "</div>"
      ],
      "text/plain": [
       "      NAME      Q4     Q3     Q2      Q1  DIVIDEND  PRICE  PERCENT   SHARES  \\\n",
       "0    WHART  0.1265  0.259  0.193  0.1915    0.7700    0.0      0.0  20000.0   \n",
       "1  CPNREIT  0.0607  0.257  0.290  0.2470    0.8547    0.0      0.0  60000.0   \n",
       "2      MCS  0.2000  0.000  0.000  0.0000    0.2000    0.0      0.0  78000.0   \n",
       "3   AIMIRT  0.2230  0.223  0.223  0.2230    0.8920    0.0      0.0  10000.0   \n",
       "4      SCC  2.0000  0.000  2.500  0.0000    4.5000    0.0      0.0    600.0   \n",
       "\n",
       "        XDATE    PAIDDATE KIND  ACTUAL  \n",
       "0  2024-03-08  2024-03-24          2.0  \n",
       "1  2024-02-28  2024-03-16          2.0  \n",
       "2  2024-03-17  2024-05-08          2.0  \n",
       "3  2024-03-15  2024-03-30          2.0  \n",
       "4  2024-04-07  2024-04-25          2.0  "
      ]
     },
     "execution_count": 2,
     "metadata": {},
     "output_type": "execute_result"
    }
   ],
   "source": [
    "# Connect to the database and read the Dividend table\n",
    "engine = create_engine('mysql+pymysql://root:@localhost:3306/stock')\n",
    "const = engine.connect()\n",
    "dividend_table = pd.read_sql(\"SELECT * FROM dividend\", const)\n",
    "dividend_table.head()"
   ]
  },
  {
   "cell_type": "code",
   "execution_count": 3,
   "id": "4c41a4eb",
   "metadata": {},
   "outputs": [
    {
     "data": {
      "text/plain": [
       "Index(['NAME', 'Q4', 'Q3', 'Q2', 'Q1', 'DIVIDEND', 'PRICE', 'PERCENT',\n",
       "       'SHARES', 'XDATE', 'PAIDDATE', 'KIND', 'ACTUAL'],\n",
       "      dtype='object')"
      ]
     },
     "execution_count": 3,
     "metadata": {},
     "output_type": "execute_result"
    }
   ],
   "source": [
    "dividend_table.columns"
   ]
  },
  {
   "cell_type": "code",
   "execution_count": 4,
   "id": "7447b404",
   "metadata": {},
   "outputs": [
    {
     "data": {
      "text/plain": [
       "'\\\\Users\\\\User\\\\OneDrive\\\\A6\\\\Excel\\\\'"
      ]
     },
     "execution_count": 4,
     "metadata": {},
     "output_type": "execute_result"
    }
   ],
   "source": [
    "# Read the excel file and convert xdate & paiddate columns to datetime format\n",
    "excel_path = \"\\\\Users\\\\User\\\\OneDrive\\\\A6\\\\Excel\\\\\"\n",
    "excel_path"
   ]
  },
  {
   "cell_type": "code",
   "execution_count": 5,
   "id": "5ad761d1",
   "metadata": {},
   "outputs": [
    {
     "data": {
      "text/plain": [
       "name                object\n",
       "qtrly              float64\n",
       "shares               int64\n",
       "amount               int64\n",
       "net                float64\n",
       "xdate       datetime64[ns]\n",
       "paiddate    datetime64[ns]\n",
       "cost_amt             int64\n",
       "pct                float64\n",
       "actual               int64\n",
       "dtype: object"
      ]
     },
     "execution_count": 5,
     "metadata": {},
     "output_type": "execute_result"
    }
   ],
   "source": [
    "file_name = '15-div-23q4.xlsx'\n",
    "df = pd.read_excel(excel_path + file_name)\n",
    "df['xdate'] = pd.to_datetime(df['xdate'], errors='coerce')\n",
    "df['paiddate'] = pd.to_datetime(df['paiddate'], errors='coerce')\n",
    "df.dtypes"
   ]
  },
  {
   "cell_type": "code",
   "execution_count": 6,
   "id": "5039ec5d",
   "metadata": {},
   "outputs": [
    {
     "data": {
      "text/plain": [
       "Index(['name', 'qtrly', 'shares', 'amount', 'net', 'xdate', 'paiddate',\n",
       "       'cost_amt', 'pct', 'actual'],\n",
       "      dtype='object')"
      ]
     },
     "execution_count": 6,
     "metadata": {},
     "output_type": "execute_result"
    }
   ],
   "source": [
    "df.columns"
   ]
  },
  {
   "cell_type": "code",
   "execution_count": 7,
   "id": "bcf4e73c",
   "metadata": {},
   "outputs": [
    {
     "data": {
      "text/plain": [
       "Index(['name', 'qtrly', 'shares', 'amount', 'net', 'xdate', 'paiddate',\n",
       "       'cost_amt', 'pct', 'actual'],\n",
       "      dtype='object')"
      ]
     },
     "execution_count": 7,
     "metadata": {},
     "output_type": "execute_result"
    }
   ],
   "source": [
    "# Convert column names of df to uppercase for merging with Dividend table\n",
    "#df.columns = df.columns.str.upper()\n",
    "df.columns"
   ]
  },
  {
   "cell_type": "code",
   "execution_count": 8,
   "id": "ce83a149",
   "metadata": {},
   "outputs": [
    {
     "data": {
      "text/html": [
       "<div>\n",
       "<style scoped>\n",
       "    .dataframe tbody tr th:only-of-type {\n",
       "        vertical-align: middle;\n",
       "    }\n",
       "\n",
       "    .dataframe tbody tr th {\n",
       "        vertical-align: top;\n",
       "    }\n",
       "\n",
       "    .dataframe thead th {\n",
       "        text-align: right;\n",
       "    }\n",
       "</style>\n",
       "<table border=\"1\" class=\"dataframe\">\n",
       "  <thead>\n",
       "    <tr style=\"text-align: right;\">\n",
       "      <th></th>\n",
       "      <th>NAME</th>\n",
       "      <th>Q4</th>\n",
       "      <th>Q3</th>\n",
       "      <th>Q2</th>\n",
       "      <th>Q1</th>\n",
       "      <th>DIVIDEND</th>\n",
       "      <th>PRICE</th>\n",
       "      <th>PERCENT</th>\n",
       "      <th>SHARES</th>\n",
       "      <th>XDATE</th>\n",
       "      <th>PAIDDATE</th>\n",
       "      <th>KIND</th>\n",
       "      <th>ACTUAL</th>\n",
       "    </tr>\n",
       "  </thead>\n",
       "  <tbody>\n",
       "    <tr>\n",
       "      <th>0</th>\n",
       "      <td>WHART</td>\n",
       "      <td>0.1265</td>\n",
       "      <td>0.259</td>\n",
       "      <td>0.193</td>\n",
       "      <td>0.1915</td>\n",
       "      <td>0.7700</td>\n",
       "      <td>0.0</td>\n",
       "      <td>0.0</td>\n",
       "      <td>20000.0</td>\n",
       "      <td>2024-03-08</td>\n",
       "      <td>2024-03-24</td>\n",
       "      <td></td>\n",
       "      <td>2.0</td>\n",
       "    </tr>\n",
       "    <tr>\n",
       "      <th>1</th>\n",
       "      <td>CPNREIT</td>\n",
       "      <td>0.0607</td>\n",
       "      <td>0.257</td>\n",
       "      <td>0.290</td>\n",
       "      <td>0.2470</td>\n",
       "      <td>0.8547</td>\n",
       "      <td>0.0</td>\n",
       "      <td>0.0</td>\n",
       "      <td>60000.0</td>\n",
       "      <td>2024-02-28</td>\n",
       "      <td>2024-03-16</td>\n",
       "      <td></td>\n",
       "      <td>2.0</td>\n",
       "    </tr>\n",
       "    <tr>\n",
       "      <th>2</th>\n",
       "      <td>MCS</td>\n",
       "      <td>0.2000</td>\n",
       "      <td>0.000</td>\n",
       "      <td>0.000</td>\n",
       "      <td>0.0000</td>\n",
       "      <td>0.2000</td>\n",
       "      <td>0.0</td>\n",
       "      <td>0.0</td>\n",
       "      <td>78000.0</td>\n",
       "      <td>2024-03-17</td>\n",
       "      <td>2024-05-08</td>\n",
       "      <td></td>\n",
       "      <td>2.0</td>\n",
       "    </tr>\n",
       "    <tr>\n",
       "      <th>3</th>\n",
       "      <td>AIMIRT</td>\n",
       "      <td>0.2230</td>\n",
       "      <td>0.223</td>\n",
       "      <td>0.223</td>\n",
       "      <td>0.2230</td>\n",
       "      <td>0.8920</td>\n",
       "      <td>0.0</td>\n",
       "      <td>0.0</td>\n",
       "      <td>10000.0</td>\n",
       "      <td>2024-03-15</td>\n",
       "      <td>2024-03-30</td>\n",
       "      <td></td>\n",
       "      <td>2.0</td>\n",
       "    </tr>\n",
       "    <tr>\n",
       "      <th>4</th>\n",
       "      <td>SCC</td>\n",
       "      <td>2.0000</td>\n",
       "      <td>0.000</td>\n",
       "      <td>2.500</td>\n",
       "      <td>0.0000</td>\n",
       "      <td>4.5000</td>\n",
       "      <td>0.0</td>\n",
       "      <td>0.0</td>\n",
       "      <td>600.0</td>\n",
       "      <td>2024-04-07</td>\n",
       "      <td>2024-04-25</td>\n",
       "      <td></td>\n",
       "      <td>2.0</td>\n",
       "    </tr>\n",
       "  </tbody>\n",
       "</table>\n",
       "</div>"
      ],
      "text/plain": [
       "      NAME      Q4     Q3     Q2      Q1  DIVIDEND  PRICE  PERCENT   SHARES  \\\n",
       "0    WHART  0.1265  0.259  0.193  0.1915    0.7700    0.0      0.0  20000.0   \n",
       "1  CPNREIT  0.0607  0.257  0.290  0.2470    0.8547    0.0      0.0  60000.0   \n",
       "2      MCS  0.2000  0.000  0.000  0.0000    0.2000    0.0      0.0  78000.0   \n",
       "3   AIMIRT  0.2230  0.223  0.223  0.2230    0.8920    0.0      0.0  10000.0   \n",
       "4      SCC  2.0000  0.000  2.500  0.0000    4.5000    0.0      0.0    600.0   \n",
       "\n",
       "        XDATE    PAIDDATE KIND  ACTUAL  \n",
       "0  2024-03-08  2024-03-24          2.0  \n",
       "1  2024-02-28  2024-03-16          2.0  \n",
       "2  2024-03-17  2024-05-08          2.0  \n",
       "3  2024-03-15  2024-03-30          2.0  \n",
       "4  2024-04-07  2024-04-25          2.0  "
      ]
     },
     "execution_count": 8,
     "metadata": {},
     "output_type": "execute_result"
    }
   ],
   "source": [
    "# Merge the two dataframes based on name column and update XDATE & PAIDDATE columns in Dividend table\n",
    "merged_df = pd.merge(dividend_table, df[['name', 'xdate', 'paiddate']], left_on='NAME', right_on='name')\n",
    "merged_df.update(df[['xdate', 'paiddate']], errors='ignore')\n",
    "dividend_table.update(merged_df)\n",
    "dividend_table.head()                    "
   ]
  },
  {
   "cell_type": "markdown",
   "id": "0bf7dc30",
   "metadata": {},
   "source": [
    "### mysqldump -u root -p stock dividend > div_backup_file.sql"
   ]
  },
  {
   "cell_type": "code",
   "execution_count": 9,
   "id": "aa26813d",
   "metadata": {},
   "outputs": [],
   "source": [
    "# Write the updated data back to the database\n",
    "dividend_table.to_sql('dividend', const, if_exists='replace', index=False)"
   ]
  },
  {
   "cell_type": "markdown",
   "id": "8a91a3cb",
   "metadata": {},
   "source": [
    "### mysql -u [username] -p[password] [database_name] < [backup_file.sql]"
   ]
  },
  {
   "cell_type": "markdown",
   "id": "c1644364",
   "metadata": {},
   "source": [
    "### From Wizard Coder 13B Q5\n",
    "### CREATE TABLE dividend_backup AS SELECT * FROM dividend;\n",
    "### DROP TABLE dividend;\n",
    "### RENAME TABLE dividend_backup TO dividend;"
   ]
  },
  {
   "cell_type": "code",
   "execution_count": null,
   "id": "59d3c42b",
   "metadata": {},
   "outputs": [],
   "source": []
  }
 ],
 "metadata": {
  "kernelspec": {
   "display_name": "Python 3 (ipykernel)",
   "language": "python",
   "name": "python3"
  },
  "language_info": {
   "codemirror_mode": {
    "name": "ipython",
    "version": 3
   },
   "file_extension": ".py",
   "mimetype": "text/x-python",
   "name": "python",
   "nbconvert_exporter": "python",
   "pygments_lexer": "ipython3",
   "version": "3.8.11"
  }
 },
 "nbformat": 4,
 "nbformat_minor": 5
}
