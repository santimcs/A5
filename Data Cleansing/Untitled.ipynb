{
 "cells": [
  {
   "cell_type": "code",
   "execution_count": 15,
   "id": "14ce1b06",
   "metadata": {},
   "outputs": [
    {
     "ename": "SyntaxError",
     "evalue": "invalid syntax (Temp/ipykernel_17796/59657353.py, line 4)",
     "output_type": "error",
     "traceback": [
      "\u001b[1;36m  File \u001b[1;32m\"C:\\Users\\User\\AppData\\Local\\Temp/ipykernel_17796/59657353.py\"\u001b[1;36m, line \u001b[1;32m4\u001b[0m\n\u001b[1;33m    i = str.search(/[^a-z]/)\u001b[0m\n\u001b[1;37m                   ^\u001b[0m\n\u001b[1;31mSyntaxError\u001b[0m\u001b[1;31m:\u001b[0m invalid syntax\n"
     ]
    }
   ],
   "source": [
    "def arrange(str):\n",
    "    result = \"\"\n",
    "    while (str != \"\"):\n",
    "       i = str.search(/[^a-z]/)\n",
    "       if (i == -1)\n",
    "           break;\n",
    "       result += str.charAt(0);\n",
    "       str = str.substring(i, str.length) \n",
    "       if (str == \"\")\n",
    "           break\n",
    "       var j = str.search(/[^a-z]/)\n",
    "       while (!((j == -1) || (str.charAt(j) == result.charAt(result.length - 1)))) {\n",
    "           result += str.charAt(0)\n",
    "           str = str.substring(j, str.length)\n",
    "           if (str == \"\")\n",
    "               break;\n",
    "           j = str.search(/[^a-z]/)\n",
    "       "
   ]
  },
  {
   "cell_type": "code",
   "execution_count": null,
   "id": "fe5f4f7c",
   "metadata": {},
   "outputs": [],
   "source": []
  }
 ],
 "metadata": {
  "kernelspec": {
   "display_name": "Python 3 (ipykernel)",
   "language": "python",
   "name": "python3"
  },
  "language_info": {
   "codemirror_mode": {
    "name": "ipython",
    "version": 3
   },
   "file_extension": ".py",
   "mimetype": "text/x-python",
   "name": "python",
   "nbconvert_exporter": "python",
   "pygments_lexer": "ipython3",
   "version": "3.8.11"
  }
 },
 "nbformat": 4,
 "nbformat_minor": 5
}
