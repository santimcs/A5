{
 "cells": [
  {
   "cell_type": "markdown",
   "id": "a9348a7b",
   "metadata": {},
   "source": [
    "### LM Studio Mistral 7b"
   ]
  },
  {
   "cell_type": "code",
   "execution_count": 7,
   "id": "81e1e749",
   "metadata": {},
   "outputs": [],
   "source": [
    "ROMAN_NUMERALS = {\n",
    "    'I': 1,\n",
    "    'V': 5,\n",
    "    'X': 10,\n",
    "    'L': 50,\n",
    "    'C': 100,\n",
    "    'D': 500,\n",
    "    'M': 1000\n",
    "}"
   ]
  },
  {
   "cell_type": "code",
   "execution_count": 8,
   "id": "4bfd5de4",
   "metadata": {},
   "outputs": [],
   "source": [
    "def roman_to_int(s):\n",
    "    int_val = 0\n",
    "    prev_val = 0\n",
    "\n",
    "    for char in s[::-1]:  # Iterate through the string in reverse order\n",
    "        current_value = ROMAN_NUMERALS[char]\n",
    "\n",
    "        if prev_val and current_value > prev_val:\n",
    "            int_val += current_value - (2 * prev_val)\n",
    "        else:\n",
    "            int_val += current_value\n",
    "\n",
    "        prev_val = current_value\n",
    "\n",
    "    return int_val"
   ]
  },
  {
   "cell_type": "code",
   "execution_count": 9,
   "id": "9a1f8ac9",
   "metadata": {},
   "outputs": [
    {
     "data": {
      "text/plain": [
       "1994"
      ]
     },
     "execution_count": 9,
     "metadata": {},
     "output_type": "execute_result"
    }
   ],
   "source": [
    "RES = roman_to_int('MCMXCIV')\n",
    "RES"
   ]
  },
  {
   "cell_type": "markdown",
   "id": "7b9915de",
   "metadata": {},
   "source": [
    "### End of Roman to Numberic"
   ]
  },
  {
   "cell_type": "code",
   "execution_count": 11,
   "id": "c136878d",
   "metadata": {},
   "outputs": [],
   "source": [
    "def group_characters(input_string):\n",
    "    output = ''\n",
    "    current_char = input_string[0]\n",
    "    count = 1\n",
    "\n",
    "    for index in range(1, len(input_string)):\n",
    "        next_char = input_string[index]\n",
    "\n",
    "        if current_char == next_char:\n",
    "            count += 1\n",
    "        else:\n",
    "            output += current_char * count\n",
    "            current_char = next_char\n",
    "            count = 1\n",
    "\n",
    "    output += current_char * count\n",
    "\n",
    "    return output"
   ]
  },
  {
   "cell_type": "code",
   "execution_count": 13,
   "id": "4ec77829",
   "metadata": {},
   "outputs": [
    {
     "data": {
      "text/plain": [
       "'etcertghg'"
      ]
     },
     "execution_count": 13,
     "metadata": {},
     "output_type": "execute_result"
    }
   ],
   "source": [
    "inp_str = \"etcertghg\"\n",
    "res = group_characters(inp_str)\n",
    "res"
   ]
  },
  {
   "cell_type": "markdown",
   "id": "751ddaa0",
   "metadata": {},
   "source": [
    "### ollama mistral Incorrect result"
   ]
  },
  {
   "cell_type": "code",
   "execution_count": 1,
   "id": "e4531116",
   "metadata": {},
   "outputs": [],
   "source": [
    "def roman_to_int(s):\n",
    "    # Create a dictionary mapping Roman digits to values\n",
    "    roman_digits = {'I': 1, 'V': 5, 'X': 10, 'L': 50, 'C': 100, 'D': 500, 'M': 1000}\n",
    "\n",
    "    # Initialize an empty list to store the subtractions\n",
    "    subtract = []\n",
    "\n",
    "    # Iterate through the string\n",
    "    for i in range(len(s)):\n",
    "        if i > 0 and roman_digits[s[i]] > roman_digits[s[i-1]]:\n",
    "            # If current digit is greater than previous one, then add the difference to the result\n",
    "            subtract.append(roman_digits[s[i-1]])\n",
    "            subtract.append(-roman_digits[s[i]])\n",
    "        else:\n",
    "            # Otherwise, just add the value of current digit to the result\n",
    "            subtract.append(roman_digits[s[i]])\n",
    "\n",
    "    # Calculate the final integer by summing up all values in the list\n",
    "    return sum(subtract)"
   ]
  },
  {
   "cell_type": "code",
   "execution_count": 2,
   "id": "795502f9",
   "metadata": {},
   "outputs": [
    {
     "data": {
      "text/plain": [
       "117"
      ]
     },
     "execution_count": 2,
     "metadata": {},
     "output_type": "execute_result"
    }
   ],
   "source": [
    "roman_to_int(\"MCMXCIV\")"
   ]
  },
  {
   "cell_type": "markdown",
   "id": "108aa1c2",
   "metadata": {},
   "source": [
    "### ollama wizardcoder Incorrect result"
   ]
  },
  {
   "cell_type": "code",
   "execution_count": 10,
   "id": "63e62a51",
   "metadata": {},
   "outputs": [],
   "source": [
    "def roman_to_int(s):\n",
    "    roman = {'I': 1, 'V': 5, 'X': 10, 'L': 50, 'C': 100, 'D': 500, 'C': 1000, 'M': 10000}\n",
    "    result = 0\n",
    "    prev_value = None\n",
    "    for c in s:\n",
    "        value = roman[c]\n",
    "        if prev_value is not None and value < prev_value:\n",
    "            result -= 2 * prev_value\n",
    "        result += value\n",
    "        prev_value = value\n",
    "    return result"
   ]
  },
  {
   "cell_type": "code",
   "execution_count": 11,
   "id": "903bb159",
   "metadata": {},
   "outputs": [
    {
     "data": {
      "text/plain": [
       "-2"
      ]
     },
     "execution_count": 11,
     "metadata": {},
     "output_type": "execute_result"
    }
   ],
   "source": [
    "roman_to_int('MMVIII')"
   ]
  },
  {
   "cell_type": "code",
   "execution_count": 12,
   "id": "6747df1c",
   "metadata": {},
   "outputs": [
    {
     "data": {
      "text/plain": [
       "-19984"
      ]
     },
     "execution_count": 12,
     "metadata": {},
     "output_type": "execute_result"
    }
   ],
   "source": [
    "roman_to_int('MCMXCIV')"
   ]
  },
  {
   "cell_type": "code",
   "execution_count": null,
   "id": "0c4f955d",
   "metadata": {},
   "outputs": [],
   "source": []
  }
 ],
 "metadata": {
  "kernelspec": {
   "display_name": "Python 3 (ipykernel)",
   "language": "python",
   "name": "python3"
  },
  "language_info": {
   "codemirror_mode": {
    "name": "ipython",
    "version": 3
   },
   "file_extension": ".py",
   "mimetype": "text/x-python",
   "name": "python",
   "nbconvert_exporter": "python",
   "pygments_lexer": "ipython3",
   "version": "3.8.11"
  }
 },
 "nbformat": 4,
 "nbformat_minor": 5
}
