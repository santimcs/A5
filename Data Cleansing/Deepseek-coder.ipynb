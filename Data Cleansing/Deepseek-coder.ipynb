{
 "cells": [
  {
   "cell_type": "markdown",
   "id": "d8a45aae",
   "metadata": {},
   "source": [
    "### Deepseek-coder run from ollama, result is incorrect without modification"
   ]
  },
  {
   "cell_type": "code",
   "execution_count": 23,
   "id": "d98fa8c1",
   "metadata": {},
   "outputs": [],
   "source": [
    "def roman_to_int(s):\n",
    "    values = {'I':1,'V':5,'X':10,'L':50, 'C':100 ,'D':500,'M':1000} \n",
    "\n",
    "    total = 0\n",
    "    temp = 0\n",
    "    for i in range(len(s)):       \n",
    "        if i > 0 and values[s[i]] > values[s[i -1]]:    \n",
    "            temp  = (values[s[i]] - values[s[i - 1]])   \n",
    "            total = total + temp\n",
    "            total = total - values[s[i - 1]]            \n",
    "#             total += (values[s[i]]- values[s[i - 1]])      # add it into 'total' variable.\n",
    "        else:\n",
    "            total+= values[s[i]]                       \n",
    "    return total "
   ]
  },
  {
   "cell_type": "code",
   "execution_count": 25,
   "id": "6c9c9445",
   "metadata": {},
   "outputs": [
    {
     "data": {
      "text/plain": [
       "1994"
      ]
     },
     "execution_count": 25,
     "metadata": {},
     "output_type": "execute_result"
    }
   ],
   "source": [
    "roman_to_int('MCMXCIV')"
   ]
  },
  {
   "cell_type": "markdown",
   "id": "2fa40c80",
   "metadata": {},
   "source": [
    "### Deepseek-coder run from LM Studio, result is correct without modification"
   ]
  },
  {
   "cell_type": "code",
   "execution_count": 1,
   "id": "2aba4a93",
   "metadata": {},
   "outputs": [],
   "source": [
    "def roman_to_int(s):\n",
    "    rom_val = {'I': 1, 'V': 5, 'X': 10, 'L': 50, 'C': 100, 'D': 500, 'M': 1000}\n",
    "    int_val = 0\n",
    "    for i in range(len(s)):\n",
    "        if i > 0 and rom_val[s[i]] > rom_val[s[i - 1]]:\n",
    "            int_val += rom_val[s[i]] - 2 * rom_val[s[i - 1]]\n",
    "        else:\n",
    "            int_val += rom_val[s[i]]\n",
    "    return int_val"
   ]
  },
  {
   "cell_type": "code",
   "execution_count": 2,
   "id": "dd1cfcdc",
   "metadata": {},
   "outputs": [
    {
     "data": {
      "text/plain": [
       "1994"
      ]
     },
     "execution_count": 2,
     "metadata": {},
     "output_type": "execute_result"
    }
   ],
   "source": [
    "roman_to_int('MCMXCIV')"
   ]
  },
  {
   "cell_type": "code",
   "execution_count": 4,
   "id": "882aa9d2",
   "metadata": {},
   "outputs": [],
   "source": [
    "def arrange_string(s):\n",
    "    # Create a dictionary to store the frequency of each character\n",
    "    count = {}\n",
    "    for char in s:\n",
    "        if char not in count:\n",
    "            count[char] = 0\n",
    "        count[char] += 1\n",
    "    \n",
    "    # Sort characters based on their counts\n",
    "    sorted_chars = sorted(count.items(), key=lambda x: -x[1])\n",
    "    \n",
    "    result = \"\"\n",
    "    for char, frequency in sorted_chars:\n",
    "        result += char * frequency  # Append character 'frequency' times to the result string\n",
    "        \n",
    "    return result"
   ]
  },
  {
   "cell_type": "code",
   "execution_count": 5,
   "id": "d5e8f33f",
   "metadata": {},
   "outputs": [
    {
     "name": "stdout",
     "output_type": "stream",
     "text": [
      "eettggcrh\n"
     ]
    }
   ],
   "source": [
    "print(arrange_string(\"etcertghg\")) # Outputs \"eettcrggh\""
   ]
  },
  {
   "cell_type": "code",
   "execution_count": null,
   "id": "2b9d554f",
   "metadata": {},
   "outputs": [],
   "source": []
  }
 ],
 "metadata": {
  "kernelspec": {
   "display_name": "Python 3 (ipykernel)",
   "language": "python",
   "name": "python3"
  },
  "language_info": {
   "codemirror_mode": {
    "name": "ipython",
    "version": 3
   },
   "file_extension": ".py",
   "mimetype": "text/x-python",
   "name": "python",
   "nbconvert_exporter": "python",
   "pygments_lexer": "ipython3",
   "version": "3.8.11"
  }
 },
 "nbformat": 4,
 "nbformat_minor": 5
}
