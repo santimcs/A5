{
 "cells": [
  {
   "cell_type": "code",
   "execution_count": 2,
   "id": "4a50c093",
   "metadata": {},
   "outputs": [
    {
     "name": "stdout",
     "output_type": "stream",
     "text": [
      "..\\Data\\name-tmp.csv ..\\Data\\price-hilo.csv\n"
     ]
    }
   ],
   "source": [
    "import csv\n",
    "import os\n",
    "from urllib.request import urlopen\n",
    "from bs4 import BeautifulSoup as soup\n",
    "from time import sleep, strftime\n",
    "\n",
    "input_file = 'name-tmp.csv'\n",
    "current_dir = '../Data Cleansing'\n",
    "input_dir = os.path.join(os.path.dirname(current_dir), 'Data')\n",
    "output_dir = os.path.join(os.path.dirname(current_dir), 'Data')\n",
    "file_in = os.path.join(input_dir, input_file)\n",
    "file_out = os.path.join(output_dir, \"price-hilo.csv\")\n",
    "\n",
    "print(file_in,file_out)"
   ]
  },
  {
   "cell_type": "code",
   "execution_count": 3,
   "id": "d64eef81",
   "metadata": {},
   "outputs": [
    {
     "name": "stdout",
     "output_type": "stream",
     "text": [
      "..\\Data\\name-tmp.csv ..\\Data\\price-hilo.csv\n"
     ]
    }
   ],
   "source": [
    "fo = open(file_out, \"w\")\n",
    "fi = open(file_in, \"r\")\n",
    "print(file_in, file_out)"
   ]
  },
  {
   "cell_type": "code",
   "execution_count": 4,
   "id": "9ad499a1",
   "metadata": {},
   "outputs": [
    {
     "name": "stdout",
     "output_type": "stream",
     "text": [
      "name, today_low, year_low, today_high, year_high\n",
      "Start at:  03:18 PM\n"
     ]
    }
   ],
   "source": [
    "header = 'name, today_low, year_low, today_high, year_high'\n",
    "print(header)\n",
    "url = \"https://www.set.or.th/th/market/product/stock/quote/\"\n",
    "\n",
    "start_time = strftime(\"%I:%M %p\")\n",
    "print('Start at: ', start_time)"
   ]
  },
  {
   "cell_type": "code",
   "execution_count": 20,
   "id": "8bbbbb64",
   "metadata": {},
   "outputs": [
    {
     "name": "stdout",
     "output_type": "stream",
     "text": [
      "ACE\n",
      "ACE,1.60,1.64,1.60,1.64\n",
      "\n",
      "ADVANC\n",
      "ADVANC,215.00,217.00,215.00,217.00\n",
      "\n",
      "AEONTS\n",
      "AEONTS,152.00,154.50,152.00,154.50\n",
      "\n",
      "AH\n",
      "AH,28.75,29.50,28.75,29.50\n",
      "\n",
      "AIE\n",
      "AIE,1.37,1.55,1.37,1.55\n",
      "\n",
      "AIMIRT\n",
      "AIMIRT,10.80,10.90,10.80,10.90\n",
      "\n",
      "AIT\n",
      "AIT,3.82,3.88,3.82,3.88\n",
      "\n",
      "AJ\n",
      "AJ,6.45,6.60,6.45,6.60\n",
      "\n",
      "AMATA\n",
      "AMATA,24.00,24.40,24.00,24.40\n",
      "\n",
      "ANAN\n",
      "ANAN,0.85,0.87,0.85,0.87\n",
      "\n"
     ]
    }
   ],
   "source": [
    "with open(file_in, newline='', mode='r') as csv_file:\n",
    "    reader = csv.reader(csv_file)\n",
    "    next(reader)  # Skip header row\n",
    "    \n",
    "    for row in reader:\n",
    "        name = row[0].upper()\n",
    "        array = [name]\n",
    "        print(name)\n",
    "        response = urlopen(url + name + '/price')\n",
    "        html_page = soup(response, 'html.parser')\n",
    "\n",
    "        today_low = html_page.find('span', class_='title-font-family fs-16px fw-bolder me-auto lh-1').text\n",
    "        array.append(today_low)\n",
    "        \n",
    "        today_high = html_page.find('span', class_='title-font-family fs-16px fw-bolder lh-1').text\n",
    "        array.append(today_high)        \n",
    "        \n",
    "        year_low = html_page.find('span', class_='title-font-family fs-16px fw-bolder me-auto lh-1').text\n",
    "        array.append(year_low)\n",
    "        \n",
    "        today_high = html_page.find('span', class_='title-font-family fs-16px fw-bolder lh-1').text\n",
    "        array.append(today_high)\n",
    "        \n",
    "#         year_high = html_page.find('span', class_='title-font-family fs-16px fw-bolder lh-1').next_sibling.strip()\n",
    "#         array.append(year_high)\n",
    "        \n",
    "        out_line = ','.join(array) + '\\n'\n",
    "        fo.write(out_line)\n",
    "        print(out_line)\n",
    "        sleep(1)"
   ]
  },
  {
   "cell_type": "code",
   "execution_count": 6,
   "id": "fa7f775c",
   "metadata": {},
   "outputs": [
    {
     "name": "stdout",
     "output_type": "stream",
     "text": [
      "End at:  03:19 PM\n"
     ]
    }
   ],
   "source": [
    "end_time = strftime(\"%I:%M %p\")\n",
    "print('End at: ', end_time)"
   ]
  },
  {
   "cell_type": "code",
   "execution_count": null,
   "id": "1e7ff689",
   "metadata": {},
   "outputs": [],
   "source": []
  }
 ],
 "metadata": {
  "kernelspec": {
   "display_name": "Python 3 (ipykernel)",
   "language": "python",
   "name": "python3"
  },
  "language_info": {
   "codemirror_mode": {
    "name": "ipython",
    "version": 3
   },
   "file_extension": ".py",
   "mimetype": "text/x-python",
   "name": "python",
   "nbconvert_exporter": "python",
   "pygments_lexer": "ipython3",
   "version": "3.8.11"
  }
 },
 "nbformat": 4,
 "nbformat_minor": 5
}
