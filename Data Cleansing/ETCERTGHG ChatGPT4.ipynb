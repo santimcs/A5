{
 "cells": [
  {
   "cell_type": "code",
   "execution_count": 1,
   "id": "4f41623e",
   "metadata": {},
   "outputs": [
    {
     "name": "stdout",
     "output_type": "stream",
     "text": [
      "eettcrggh\n"
     ]
    }
   ],
   "source": [
    "def group_characters(s):\n",
    "    char_count = {}  # Dictionary to store the count of each character\n",
    "\n",
    "    # Counting the occurrences of each character\n",
    "    for char in s:\n",
    "        if char in char_count:\n",
    "            char_count[char] += 1\n",
    "        else:\n",
    "            char_count[char] = 1\n",
    "\n",
    "    grouped_string = \"\"  # Initialize the output string\n",
    "\n",
    "    # Constructing the grouped string\n",
    "    for char in char_count:\n",
    "        count = char_count[char]\n",
    "        while count > 0:\n",
    "            grouped_string += char\n",
    "            count -= 1\n",
    "\n",
    "    return grouped_string\n",
    "\n",
    "# Example usage\n",
    "input_string = \"etcertghg\"\n",
    "output_string = group_characters(input_string)\n",
    "print(output_string)\n"
   ]
  },
  {
   "cell_type": "code",
   "execution_count": null,
   "id": "e49d0cb7",
   "metadata": {},
   "outputs": [],
   "source": []
  },
  {
   "cell_type": "code",
   "execution_count": 2,
   "id": "e4db556b",
   "metadata": {},
   "outputs": [],
   "source": [
    "def group_adjacent_chars(input_str):\n",
    "  n = len(input_str)\n",
    "  output = [''] * n\n",
    "  i, j = 0, 0\n",
    "\n",
    "  while i < n and j <= i:\n",
    "    if input_str[i] == input_str[j]:\n",
    "      output[i] = output[i] + input_str[i] if output[i] else input_str[i]\n",
    "      j += 1\n",
    "    else:\n",
    "      i += 1\n",
    "\n",
    "  return ''.join(output)"
   ]
  },
  {
   "cell_type": "code",
   "execution_count": 3,
   "id": "5ba7bc55",
   "metadata": {},
   "outputs": [
    {
     "name": "stdout",
     "output_type": "stream",
     "text": [
      "e\n"
     ]
    }
   ],
   "source": [
    "# Example usage\n",
    "input_string = \"etcertghg\"\n",
    "output_string = group_adjacent_chars(input_string)\n",
    "print(output_string)"
   ]
  },
  {
   "cell_type": "code",
   "execution_count": null,
   "id": "dab6b21d",
   "metadata": {},
   "outputs": [],
   "source": []
  }
 ],
 "metadata": {
  "kernelspec": {
   "display_name": "Python 3 (ipykernel)",
   "language": "python",
   "name": "python3"
  },
  "language_info": {
   "codemirror_mode": {
    "name": "ipython",
    "version": 3
   },
   "file_extension": ".py",
   "mimetype": "text/x-python",
   "name": "python",
   "nbconvert_exporter": "python",
   "pygments_lexer": "ipython3",
   "version": "3.8.11"
  }
 },
 "nbformat": 4,
 "nbformat_minor": 5
}
