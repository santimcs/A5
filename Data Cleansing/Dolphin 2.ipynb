{
 "cells": [
  {
   "cell_type": "code",
   "execution_count": 1,
   "id": "493682d0",
   "metadata": {},
   "outputs": [],
   "source": [
    "def char_group(s):\n",
    "    result = []\n",
    "    for c in s:\n",
    "        if result:\n",
    "            prev = result[-1]\n",
    "            if prev != c:\n",
    "                result.append(prev)\n",
    "            elif prev == c:\n",
    "                result.append(prev + c)\n",
    "            else:\n",
    "                result.append(c)\n",
    "        else:\n",
    "            result.append(c)\n",
    "    return ''.join(result)\n"
   ]
  },
  {
   "cell_type": "code",
   "execution_count": 2,
   "id": "736ad6fc",
   "metadata": {},
   "outputs": [
    {
     "data": {
      "text/plain": [
       "'eeeeeeeeeeeeeee'"
      ]
     },
     "execution_count": 2,
     "metadata": {},
     "output_type": "execute_result"
    }
   ],
   "source": [
    "char_group(\"etcertghg\")"
   ]
  },
  {
   "cell_type": "markdown",
   "id": "9ca4af65",
   "metadata": {},
   "source": [
    "### Dolphin-Mistral from LM Studio"
   ]
  },
  {
   "cell_type": "code",
   "execution_count": 1,
   "id": "cced0bce",
   "metadata": {},
   "outputs": [],
   "source": [
    "def roman_to_int(s):\n",
    "    roman_dict = {\"I\": 1, \"V\": 5, \"X\": 10, \"L\": 50, \"C\": 100, \"D\": 500, \"M\": 1000}\n",
    "    int_value = 0\n",
    "    power_of_ten = 1000\n",
    "    for char in s:\n",
    "        if char.upper() == \"I\":\n",
    "            int_value += roman_dict[char] * power_of_ten\n",
    "            power_of_ten = 1\n",
    "        elif char.upper() == \"V\":\n",
    "            int_value += roman_dict[char] * power_of_ten\n",
    "            power_of_ten = 1\n",
    "        elif char.upper() == \"X\":\n",
    "            int_value += roman_dict[char] * power_of_ten\n",
    "            power_of_ten = 10\n",
    "        elif char.upper() == \"L\":\n",
    "            int_value += roman_dict[char] * power_of_ten\n",
    "            power_of_ten = 100\n",
    "        elif char.upper() == \"C\":\n",
    "            int_value += roman_dict[char] * power_of_ten\n",
    "            power_of_ten = 100\n",
    "        elif char.upper() == \"D\":\n",
    "            int_value += roman_dict[char] * power_of_ten\n",
    "            power_of_ten = 500\n",
    "        elif char.upper() == \"M\":\n",
    "            int_value += roman_dict[char] * power_of_ten\n",
    "            power_of_ten = 1000\n",
    "    return int_value"
   ]
  },
  {
   "cell_type": "code",
   "execution_count": 2,
   "id": "119f5485",
   "metadata": {},
   "outputs": [
    {
     "name": "stdout",
     "output_type": "stream",
     "text": [
      "10051\n"
     ]
    }
   ],
   "source": [
    "print(roman_to_int('XVI'))"
   ]
  },
  {
   "cell_type": "code",
   "execution_count": null,
   "id": "8bb59482",
   "metadata": {},
   "outputs": [],
   "source": []
  }
 ],
 "metadata": {
  "kernelspec": {
   "display_name": "Python 3 (ipykernel)",
   "language": "python",
   "name": "python3"
  },
  "language_info": {
   "codemirror_mode": {
    "name": "ipython",
    "version": 3
   },
   "file_extension": ".py",
   "mimetype": "text/x-python",
   "name": "python",
   "nbconvert_exporter": "python",
   "pygments_lexer": "ipython3",
   "version": "3.8.11"
  }
 },
 "nbformat": 4,
 "nbformat_minor": 5
}
