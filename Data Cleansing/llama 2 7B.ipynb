{
 "cells": [
  {
   "cell_type": "code",
   "execution_count": 1,
   "id": "c1288b1e",
   "metadata": {},
   "outputs": [],
   "source": [
    "def group_letters(string):\n",
    "    output = ''\n",
    "    for char in string:\n",
    "        if char.isalpha():\n",
    "            if not len(output):\n",
    "                output += char\n",
    "            else:\n",
    "                output += '+' + char\n",
    "    return output[:-1] # remove the final '+' character"
   ]
  },
  {
   "cell_type": "code",
   "execution_count": 2,
   "id": "7b080da3",
   "metadata": {},
   "outputs": [
    {
     "name": "stdout",
     "output_type": "stream",
     "text": [
      "e+t+c+e+r+t+g+h+\n"
     ]
    }
   ],
   "source": [
    "string = \"etcertghg\"\n",
    "output = group_letters(string)\n",
    "print(output) # prints \"eettcrggh\""
   ]
  },
  {
   "cell_type": "code",
   "execution_count": null,
   "id": "d21365b7",
   "metadata": {},
   "outputs": [],
   "source": []
  }
 ],
 "metadata": {
  "kernelspec": {
   "display_name": "Python 3 (ipykernel)",
   "language": "python",
   "name": "python3"
  },
  "language_info": {
   "codemirror_mode": {
    "name": "ipython",
    "version": 3
   },
   "file_extension": ".py",
   "mimetype": "text/x-python",
   "name": "python",
   "nbconvert_exporter": "python",
   "pygments_lexer": "ipython3",
   "version": "3.8.11"
  }
 },
 "nbformat": 4,
 "nbformat_minor": 5
}
