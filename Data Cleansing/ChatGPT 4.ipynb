{
 "cells": [
  {
   "cell_type": "code",
   "execution_count": 1,
   "id": "533f5f66",
   "metadata": {},
   "outputs": [],
   "source": [
    "def group_letters_correctly(s):\n",
    "    # Initialize an empty dictionary to store the count of each character\n",
    "    char_count = {}\n",
    "\n",
    "    # Count the occurrences of each character\n",
    "    for char in s:\n",
    "        if char in char_count:\n",
    "            char_count[char] += 1\n",
    "        else:\n",
    "            char_count[char] = 1\n",
    "\n",
    "    # Initialize an empty string to store the result\n",
    "    result = \"\"\n",
    "\n",
    "    # Iterate over the original string to maintain the order of distinct characters\n",
    "    for char in s:\n",
    "        # If the character is still in the dictionary, add its occurrences to the result\n",
    "        if char in char_count:\n",
    "            result += char * char_count[char]\n",
    "            # Remove the character from the dictionary\n",
    "            del char_count[char]\n",
    "\n",
    "    return result"
   ]
  },
  {
   "cell_type": "code",
   "execution_count": 2,
   "id": "c30f5d3c",
   "metadata": {},
   "outputs": [
    {
     "data": {
      "text/plain": [
       "'eettcrggh'"
      ]
     },
     "execution_count": 2,
     "metadata": {},
     "output_type": "execute_result"
    }
   ],
   "source": [
    "# Test the function with the example string\n",
    "test_string = 'etcertghg'\n",
    "grouped_string = group_letters_correctly(test_string)\n",
    "grouped_string"
   ]
  },
  {
   "cell_type": "markdown",
   "id": "abefe959",
   "metadata": {},
   "source": [
    "### ChatGPT 4"
   ]
  },
  {
   "cell_type": "code",
   "execution_count": 3,
   "id": "be3c4078",
   "metadata": {},
   "outputs": [],
   "source": [
    "def roman_to_int(s):\n",
    "    # Define a dictionary for Roman numeral conversion\n",
    "    roman_dict = {'I': 1, 'V': 5, 'X': 10, 'L': 50, 'C': 100, 'D': 500, 'M': 1000}\n",
    "\n",
    "    # Initialize the integer value\n",
    "    int_value = 0\n",
    "\n",
    "    # Iterate over the string\n",
    "    for i in range(len(s)):\n",
    "        # Check if the next character is larger than the current character\n",
    "        if i + 1 < len(s) and roman_dict[s[i]] < roman_dict[s[i + 1]]:\n",
    "            # Subtract the current character value\n",
    "            int_value -= roman_dict[s[i]]\n",
    "        else:\n",
    "            # Add the current character value\n",
    "            int_value += roman_dict[s[i]]\n",
    "\n",
    "    return int_value"
   ]
  },
  {
   "cell_type": "code",
   "execution_count": 4,
   "id": "2847af71",
   "metadata": {},
   "outputs": [
    {
     "data": {
      "text/plain": [
       "1994"
      ]
     },
     "execution_count": 4,
     "metadata": {},
     "output_type": "execute_result"
    }
   ],
   "source": [
    "# Test the function with an example\n",
    "test_roman = \"MCMXCIV\"\n",
    "roman_to_int(test_roman)"
   ]
  },
  {
   "cell_type": "markdown",
   "id": "656ded39",
   "metadata": {},
   "source": [
    "### Wizard Coder 7b"
   ]
  },
  {
   "cell_type": "code",
   "execution_count": 1,
   "id": "2e311c81",
   "metadata": {},
   "outputs": [],
   "source": [
    "def roman_to_int(s):\n",
    "    # Define the Roman numeral symbols and their values\n",
    "    roman = {'I': 1, 'V': 5, 'X': 10, 'L': 50, 'C': 100, 'D': 500, 'M': 1000}\n",
    "    total = 0\n",
    "    prev_value = 0\n",
    "    # Loop through the string from right to left\n",
    "    for i in range(len(s)-1, -1, -1):\n",
    "        char = s[i]\n",
    "        value = roman.get(char, 0)\n",
    "        if prev_value > value:\n",
    "            total -= value\n",
    "        else:\n",
    "            total += value\n",
    "        prev_value = value\n",
    "    return total"
   ]
  },
  {
   "cell_type": "code",
   "execution_count": 2,
   "id": "1c5859f4",
   "metadata": {},
   "outputs": [
    {
     "data": {
      "text/plain": [
       "1994"
      ]
     },
     "execution_count": 2,
     "metadata": {},
     "output_type": "execute_result"
    }
   ],
   "source": [
    "test_roman = \"MCMXCIV\"\n",
    "roman_to_int(test_roman)"
   ]
  },
  {
   "cell_type": "code",
   "execution_count": null,
   "id": "b827842e",
   "metadata": {},
   "outputs": [],
   "source": []
  }
 ],
 "metadata": {
  "kernelspec": {
   "display_name": "Python 3 (ipykernel)",
   "language": "python",
   "name": "python3"
  },
  "language_info": {
   "codemirror_mode": {
    "name": "ipython",
    "version": 3
   },
   "file_extension": ".py",
   "mimetype": "text/x-python",
   "name": "python",
   "nbconvert_exporter": "python",
   "pygments_lexer": "ipython3",
   "version": "3.8.11"
  }
 },
 "nbformat": 4,
 "nbformat_minor": 5
}
