{
 "cells": [
  {
   "cell_type": "markdown",
   "metadata": {},
   "source": [
    "# N8N Workflows Analysis\n",
    "\n",
    "This notebook reads and analyzes the N8N_Workflows.csv file containing various AI automation workflows."
   ]
  },
  {
   "cell_type": "markdown",
   "metadata": {},
   "source": [
    "## 1. Import Required Libraries"
   ]
  },
  {
   "cell_type": "code",
   "execution_count": 3,
   "metadata": {},
   "outputs": [
    {
     "name": "stdout",
     "output_type": "stream",
     "text": [
      "✅ Libraries imported successfully!\n"
     ]
    }
   ],
   "source": [
    "import pandas as pd\n",
    "import numpy as np\n",
    "import matplotlib.pyplot as plt\n",
    "import seaborn as sns\n",
    "from datetime import datetime\n",
    "import warnings\n",
    "warnings.filterwarnings('ignore')\n",
    "\n",
    "# Set plotting style\n",
    "plt.style.use('default')\n",
    "sns.set_palette(\"husl\")\n",
    "\n",
    "print(\"✅ Libraries imported successfully!\")"
   ]
  },
  {
   "cell_type": "markdown",
   "metadata": {},
   "source": [
    "## 2. Load the CSV File"
   ]
  },
  {
   "cell_type": "code",
   "execution_count": 6,
   "metadata": {},
   "outputs": [
    {
     "name": "stdout",
     "output_type": "stream",
     "text": [
      "✅ File loaded successfully!\n",
      "📊 Dataset shape: (207, 8)\n",
      "📝 Number of workflows: 207\n"
     ]
    }
   ],
   "source": [
    "# Read the CSV file\n",
    "try:\n",
    "    df = pd.read_csv('N8N_Workflows.csv')\n",
    "    print(\"✅ File loaded successfully!\")\n",
    "    print(f\"📊 Dataset shape: {df.shape}\")\n",
    "    print(f\"📝 Number of workflows: {len(df)}\")\n",
    "except FileNotFoundError:\n",
    "    print(\"❌ File 'N8N_Workflows.csv' not found. Please ensure it's in the same directory as this notebook.\")\n",
    "except Exception as e:\n",
    "    print(f\"❌ Error loading file: {e}\")"
   ]
  },
  {
   "cell_type": "markdown",
   "metadata": {},
   "source": [
    "## 3. Basic Data Exploration"
   ]
  },
  {
   "cell_type": "code",
   "execution_count": 11,
   "metadata": {},
   "outputs": [
    {
     "name": "stdout",
     "output_type": "stream",
     "text": [
      "\n",
      "📋 First 5 rows of the dataset:\n"
     ]
    },
    {
     "data": {
      "text/html": [
       "<div>\n",
       "<style scoped>\n",
       "    .dataframe tbody tr th:only-of-type {\n",
       "        vertical-align: middle;\n",
       "    }\n",
       "\n",
       "    .dataframe tbody tr th {\n",
       "        vertical-align: top;\n",
       "    }\n",
       "\n",
       "    .dataframe thead th {\n",
       "        text-align: right;\n",
       "    }\n",
       "</style>\n",
       "<table border=\"1\" class=\"dataframe\">\n",
       "  <thead>\n",
       "    <tr style=\"text-align: right;\">\n",
       "      <th></th>\n",
       "      <th>Title</th>\n",
       "      <th>Description</th>\n",
       "      <th>Date</th>\n",
       "      <th>Link</th>\n",
       "      <th>Setup Support</th>\n",
       "      <th>FINAL SCORE</th>\n",
       "      <th>Origin</th>\n",
       "      <th>Author</th>\n",
       "    </tr>\n",
       "  </thead>\n",
       "  <tbody>\n",
       "    <tr>\n",
       "      <th>0</th>\n",
       "      <td>Browser AI Agent</td>\n",
       "      <td>AI agent uses Airtop and n8n to autonomously n...</td>\n",
       "      <td>2025/07/17</td>\n",
       "      <td>https://www.skool.com/ai-automation-society/ne...</td>\n",
       "      <td>NaN</td>\n",
       "      <td>4</td>\n",
       "      <td>Skool</td>\n",
       "      <td>Nate Herk</td>\n",
       "    </tr>\n",
       "    <tr>\n",
       "      <th>1</th>\n",
       "      <td>AI Marketing Team</td>\n",
       "      <td>Single AI agent in n8n creates complete market...</td>\n",
       "      <td>2025/07/17</td>\n",
       "      <td>https://www.skool.com/ai-automation-society/ne...</td>\n",
       "      <td>NaN</td>\n",
       "      <td>4</td>\n",
       "      <td>Skool</td>\n",
       "      <td>Nate Herk</td>\n",
       "    </tr>\n",
       "    <tr>\n",
       "      <th>2</th>\n",
       "      <td>AI SEO Content Automation</td>\n",
       "      <td>Takes category, target audience, and specific ...</td>\n",
       "      <td>2025/07/17</td>\n",
       "      <td>https://www.reddit.com/r/n8n/comments/1l81jzd/...</td>\n",
       "      <td>NaN</td>\n",
       "      <td>4</td>\n",
       "      <td>Reddit</td>\n",
       "      <td>dudeson55</td>\n",
       "    </tr>\n",
       "    <tr>\n",
       "      <th>3</th>\n",
       "      <td>AI Agent Builder</td>\n",
       "      <td>Meta-AI agent in n8n creates custom AI agent w...</td>\n",
       "      <td>2025/07/17</td>\n",
       "      <td>https://www.skool.com/ai-automation-society/ne...</td>\n",
       "      <td>NaN</td>\n",
       "      <td>5</td>\n",
       "      <td>Skool</td>\n",
       "      <td>Nate Herk</td>\n",
       "    </tr>\n",
       "    <tr>\n",
       "      <th>4</th>\n",
       "      <td>AI Email Assistant</td>\n",
       "      <td>AI agent in n8n automatically identifies custo...</td>\n",
       "      <td>2025/07/17</td>\n",
       "      <td>https://www.skool.com/ai-automation-society/ne...</td>\n",
       "      <td>NaN</td>\n",
       "      <td>4</td>\n",
       "      <td>Skool</td>\n",
       "      <td>Nate Herk</td>\n",
       "    </tr>\n",
       "  </tbody>\n",
       "</table>\n",
       "</div>"
      ],
      "text/plain": [
       "                       Title  \\\n",
       "0           Browser AI Agent   \n",
       "1          AI Marketing Team   \n",
       "2  AI SEO Content Automation   \n",
       "3           AI Agent Builder   \n",
       "4         AI Email Assistant   \n",
       "\n",
       "                                         Description        Date  \\\n",
       "0  AI agent uses Airtop and n8n to autonomously n...  2025/07/17   \n",
       "1  Single AI agent in n8n creates complete market...  2025/07/17   \n",
       "2  Takes category, target audience, and specific ...  2025/07/17   \n",
       "3  Meta-AI agent in n8n creates custom AI agent w...  2025/07/17   \n",
       "4  AI agent in n8n automatically identifies custo...  2025/07/17   \n",
       "\n",
       "                                                Link Setup Support  \\\n",
       "0  https://www.skool.com/ai-automation-society/ne...           NaN   \n",
       "1  https://www.skool.com/ai-automation-society/ne...           NaN   \n",
       "2  https://www.reddit.com/r/n8n/comments/1l81jzd/...           NaN   \n",
       "3  https://www.skool.com/ai-automation-society/ne...           NaN   \n",
       "4  https://www.skool.com/ai-automation-society/ne...           NaN   \n",
       "\n",
       "   FINAL SCORE  Origin     Author  \n",
       "0            4   Skool  Nate Herk  \n",
       "1            4   Skool  Nate Herk  \n",
       "2            4  Reddit  dudeson55  \n",
       "3            5   Skool  Nate Herk  \n",
       "4            4   Skool  Nate Herk  "
      ]
     },
     "metadata": {},
     "output_type": "display_data"
    }
   ],
   "source": [
    "# Display first few rows\n",
    "print(\"\\n📋 First 5 rows of the dataset:\")\n",
    "display(df.head())"
   ]
  },
  {
   "cell_type": "code",
   "execution_count": 13,
   "metadata": {},
   "outputs": [
    {
     "name": "stdout",
     "output_type": "stream",
     "text": [
      "\n",
      "📈 Dataset Info:\n",
      "Number of rows: 207\n",
      "Number of columns: 8\n",
      "\n",
      "📝 Column names and data types:\n",
      "Title            object\n",
      "Description      object\n",
      "Date             object\n",
      "Link             object\n",
      "Setup Support    object\n",
      "FINAL SCORE       int64\n",
      "Origin           object\n",
      "Author           object\n",
      "dtype: object\n"
     ]
    }
   ],
   "source": [
    "# Display dataset information\n",
    "print(\"\\n📈 Dataset Info:\")\n",
    "print(f\"Number of rows: {df.shape[0]}\")\n",
    "print(f\"Number of columns: {df.shape[1]}\")\n",
    "print(\"\\n📝 Column names and data types:\")\n",
    "print(df.dtypes)"
   ]
  },
  {
   "cell_type": "code",
   "execution_count": 15,
   "metadata": {},
   "outputs": [
    {
     "name": "stdout",
     "output_type": "stream",
     "text": [
      "\n",
      "🔍 Data Types and Missing Values:\n"
     ]
    },
    {
     "data": {
      "text/html": [
       "<div>\n",
       "<style scoped>\n",
       "    .dataframe tbody tr th:only-of-type {\n",
       "        vertical-align: middle;\n",
       "    }\n",
       "\n",
       "    .dataframe tbody tr th {\n",
       "        vertical-align: top;\n",
       "    }\n",
       "\n",
       "    .dataframe thead th {\n",
       "        text-align: right;\n",
       "    }\n",
       "</style>\n",
       "<table border=\"1\" class=\"dataframe\">\n",
       "  <thead>\n",
       "    <tr style=\"text-align: right;\">\n",
       "      <th></th>\n",
       "      <th>Data Type</th>\n",
       "      <th>Non-Null Count</th>\n",
       "      <th>Null Count</th>\n",
       "      <th>Null Percentage</th>\n",
       "    </tr>\n",
       "  </thead>\n",
       "  <tbody>\n",
       "    <tr>\n",
       "      <th>Title</th>\n",
       "      <td>object</td>\n",
       "      <td>207</td>\n",
       "      <td>0</td>\n",
       "      <td>0.00</td>\n",
       "    </tr>\n",
       "    <tr>\n",
       "      <th>Description</th>\n",
       "      <td>object</td>\n",
       "      <td>207</td>\n",
       "      <td>0</td>\n",
       "      <td>0.00</td>\n",
       "    </tr>\n",
       "    <tr>\n",
       "      <th>Date</th>\n",
       "      <td>object</td>\n",
       "      <td>207</td>\n",
       "      <td>0</td>\n",
       "      <td>0.00</td>\n",
       "    </tr>\n",
       "    <tr>\n",
       "      <th>Link</th>\n",
       "      <td>object</td>\n",
       "      <td>207</td>\n",
       "      <td>0</td>\n",
       "      <td>0.00</td>\n",
       "    </tr>\n",
       "    <tr>\n",
       "      <th>Setup Support</th>\n",
       "      <td>object</td>\n",
       "      <td>115</td>\n",
       "      <td>92</td>\n",
       "      <td>44.44</td>\n",
       "    </tr>\n",
       "    <tr>\n",
       "      <th>FINAL SCORE</th>\n",
       "      <td>int64</td>\n",
       "      <td>207</td>\n",
       "      <td>0</td>\n",
       "      <td>0.00</td>\n",
       "    </tr>\n",
       "    <tr>\n",
       "      <th>Origin</th>\n",
       "      <td>object</td>\n",
       "      <td>207</td>\n",
       "      <td>0</td>\n",
       "      <td>0.00</td>\n",
       "    </tr>\n",
       "    <tr>\n",
       "      <th>Author</th>\n",
       "      <td>object</td>\n",
       "      <td>207</td>\n",
       "      <td>0</td>\n",
       "      <td>0.00</td>\n",
       "    </tr>\n",
       "  </tbody>\n",
       "</table>\n",
       "</div>"
      ],
      "text/plain": [
       "              Data Type  Non-Null Count  Null Count  Null Percentage\n",
       "Title            object             207           0             0.00\n",
       "Description      object             207           0             0.00\n",
       "Date             object             207           0             0.00\n",
       "Link             object             207           0             0.00\n",
       "Setup Support    object             115          92            44.44\n",
       "FINAL SCORE       int64             207           0             0.00\n",
       "Origin           object             207           0             0.00\n",
       "Author           object             207           0             0.00"
      ]
     },
     "metadata": {},
     "output_type": "display_data"
    }
   ],
   "source": [
    "# Data types and missing values\n",
    "print(\"\\n🔍 Data Types and Missing Values:\")\n",
    "df_info = pd.DataFrame({\n",
    "    'Data Type': df.dtypes,\n",
    "    'Non-Null Count': df.count(),\n",
    "    'Null Count': df.isnull().sum(),\n",
    "    'Null Percentage': (df.isnull().sum() / len(df) * 100).round(2)\n",
    "})\n",
    "display(df_info)"
   ]
  },
  {
   "cell_type": "markdown",
   "metadata": {},
   "source": [
    "## 4. Format Date Column to YYYY-MM-DD"
   ]
  },
  {
   "cell_type": "code",
   "execution_count": 18,
   "metadata": {},
   "outputs": [
    {
     "name": "stdout",
     "output_type": "stream",
     "text": [
      "\n",
      "📅 Formatting Date column...\n",
      "Before formatting:\n",
      "0    2025/07/17\n",
      "1    2025/07/17\n",
      "2    2025/07/17\n",
      "3    2025/07/17\n",
      "4    2025/07/17\n",
      "Name: Date, dtype: object\n",
      "\n",
      "After formatting:\n",
      "0    2025-07-17\n",
      "1    2025-07-17\n",
      "2    2025-07-17\n",
      "3    2025-07-17\n",
      "4    2025-07-17\n",
      "Name: Date, dtype: object\n",
      "\n",
      "✅ All dates converted successfully!\n"
     ]
    }
   ],
   "source": [
    "# Format Date column to YYYY-MM-DD\n",
    "print(\"\\n📅 Formatting Date column...\")\n",
    "print(\"Before formatting:\")\n",
    "print(df['Date'].head())\n",
    "\n",
    "# Convert to datetime and format\n",
    "df['Date'] = pd.to_datetime(df['Date'], errors='coerce').dt.strftime('%Y-%m-%d')\n",
    "\n",
    "print(\"\\nAfter formatting:\")\n",
    "print(df['Date'].head())\n",
    "\n",
    "# Check for any failed conversions\n",
    "failed_conversions = df['Date'].isna().sum()\n",
    "if failed_conversions > 0:\n",
    "    print(f\"\\n⚠️  Warning: {failed_conversions} dates could not be converted and were set to NaT\")\n",
    "else:\n",
    "    print(\"\\n✅ All dates converted successfully!\")"
   ]
  },
  {
   "cell_type": "markdown",
   "metadata": {},
   "source": [
    "## 5. Statistical Summary"
   ]
  },
  {
   "cell_type": "code",
   "execution_count": 21,
   "metadata": {},
   "outputs": [
    {
     "name": "stdout",
     "output_type": "stream",
     "text": [
      "\n",
      "📊 Statistical Summary (Numerical Columns):\n"
     ]
    },
    {
     "data": {
      "text/html": [
       "<div>\n",
       "<style scoped>\n",
       "    .dataframe tbody tr th:only-of-type {\n",
       "        vertical-align: middle;\n",
       "    }\n",
       "\n",
       "    .dataframe tbody tr th {\n",
       "        vertical-align: top;\n",
       "    }\n",
       "\n",
       "    .dataframe thead th {\n",
       "        text-align: right;\n",
       "    }\n",
       "</style>\n",
       "<table border=\"1\" class=\"dataframe\">\n",
       "  <thead>\n",
       "    <tr style=\"text-align: right;\">\n",
       "      <th></th>\n",
       "      <th>FINAL SCORE</th>\n",
       "    </tr>\n",
       "  </thead>\n",
       "  <tbody>\n",
       "    <tr>\n",
       "      <th>count</th>\n",
       "      <td>207.000000</td>\n",
       "    </tr>\n",
       "    <tr>\n",
       "      <th>mean</th>\n",
       "      <td>4.019324</td>\n",
       "    </tr>\n",
       "    <tr>\n",
       "      <th>std</th>\n",
       "      <td>0.472150</td>\n",
       "    </tr>\n",
       "    <tr>\n",
       "      <th>min</th>\n",
       "      <td>3.000000</td>\n",
       "    </tr>\n",
       "    <tr>\n",
       "      <th>25%</th>\n",
       "      <td>4.000000</td>\n",
       "    </tr>\n",
       "    <tr>\n",
       "      <th>50%</th>\n",
       "      <td>4.000000</td>\n",
       "    </tr>\n",
       "    <tr>\n",
       "      <th>75%</th>\n",
       "      <td>4.000000</td>\n",
       "    </tr>\n",
       "    <tr>\n",
       "      <th>max</th>\n",
       "      <td>5.000000</td>\n",
       "    </tr>\n",
       "  </tbody>\n",
       "</table>\n",
       "</div>"
      ],
      "text/plain": [
       "       FINAL SCORE\n",
       "count   207.000000\n",
       "mean      4.019324\n",
       "std       0.472150\n",
       "min       3.000000\n",
       "25%       4.000000\n",
       "50%       4.000000\n",
       "75%       4.000000\n",
       "max       5.000000"
      ]
     },
     "metadata": {},
     "output_type": "display_data"
    }
   ],
   "source": [
    "# Statistical summary for numerical columns\n",
    "print(\"\\n📊 Statistical Summary (Numerical Columns):\")\n",
    "display(df.describe())"
   ]
  },
  {
   "cell_type": "code",
   "execution_count": 23,
   "metadata": {},
   "outputs": [
    {
     "name": "stdout",
     "output_type": "stream",
     "text": [
      "\n",
      "📊 Summary for Categorical Columns:\n",
      "\n",
      "📌 Title:\n",
      "   Unique values: 202\n",
      "\n",
      "📌 Description:\n",
      "   Unique values: 207\n",
      "\n",
      "📌 Date:\n",
      "   Unique values: 20\n",
      "\n",
      "📌 Link:\n",
      "   Unique values: 206\n",
      "\n",
      "📌 Setup Support:\n",
      "   Unique values: 115\n",
      "\n",
      "📌 Origin:\n",
      "   Unique values: 7\n",
      "   Top values:\n",
      "Origin\n",
      "Skool          111\n",
      "Reddit          36\n",
      "Gumroad         36\n",
      "GitHub          10\n",
      "Circle           6\n",
      "Youtube          6\n",
      "Sabrina.dev      2\n",
      "Name: count, dtype: int64\n",
      "\n",
      "📌 Author:\n",
      "   Unique values: 39\n"
     ]
    }
   ],
   "source": [
    "# Summary for categorical columns\n",
    "print(\"\\n📊 Summary for Categorical Columns:\")\n",
    "categorical_cols = df.select_dtypes(include=['object']).columns\n",
    "for col in categorical_cols:\n",
    "    print(f\"\\n📌 {col}:\")\n",
    "    print(f\"   Unique values: {df[col].nunique()}\")\n",
    "    if df[col].nunique() <= 15:  # Only show value counts if not too many unique values\n",
    "        print(f\"   Top values:\")\n",
    "        print(df[col].value_counts().head(10))"
   ]
  },
  {
   "cell_type": "markdown",
   "metadata": {},
   "source": [
    "## 6. Data Visualization"
   ]
  },
  {
   "cell_type": "code",
   "execution_count": 26,
   "metadata": {},
   "outputs": [
    {
     "name": "stdout",
     "output_type": "stream",
     "text": [
      "\n",
      "📈 Distribution of FINAL SCORE:\n"
     ]
    },
    {
     "data": {
      "image/png": "[encoded data removed]",
      "text/plain": [
       "<Figure size 1000x600 with 1 Axes>"
      ]
     },
     "metadata": {},
     "output_type": "display_data"
    },
    {
     "name": "stdout",
     "output_type": "stream",
     "text": [
      "Average FINAL SCORE: 4.02\n",
      "Highest FINAL SCORE: 5\n",
      "Lowest FINAL SCORE: 3\n"
     ]
    }
   ],
   "source": [
    "# Distribution of FINAL SCORE\n",
    "print(\"\\n📈 Distribution of FINAL SCORE:\")\n",
    "plt.figure(figsize=(10, 6))\n",
    "df['FINAL SCORE'].value_counts().sort_index().plot(kind='bar', alpha=0.7)\n",
    "plt.title('Distribution of FINAL SCORE')\n",
    "plt.xlabel('Final Score')\n",
    "plt.ylabel('Count')\n",
    "plt.xticks(rotation=0)\n",
    "plt.grid(axis='y', alpha=0.3)\n",
    "plt.show()\n",
    "\n",
    "print(f\"Average FINAL SCORE: {df['FINAL SCORE'].mean():.2f}\")\n",
    "print(f\"Highest FINAL SCORE: {df['FINAL SCORE'].max()}\")\n",
    "print(f\"Lowest FINAL SCORE: {df['FINAL SCORE'].min()}\")"
   ]
  },
  {
   "cell_type": "code",
   "execution_count": 28,
   "metadata": {},
   "outputs": [
    {
     "name": "stdout",
     "output_type": "stream",
     "text": [
      "\n",
      "📊 Workflows by Origin:\n"
     ]
    },
    {
     "data": {
      "image/png": "[encoded data removed]",
      "text/plain": [
       "<Figure size 1200x600 with 1 Axes>"
      ]
     },
     "metadata": {},
     "output_type": "display_data"
    }
   ],
   "source": [
    "# Distribution by Origin\n",
    "print(\"\\n📊 Workflows by Origin:\")\n",
    "plt.figure(figsize=(12, 6))\n",
    "origin_counts = df['Origin'].value_counts()\n",
    "bars = plt.bar(range(len(origin_counts)), origin_counts.values, alpha=0.7)\n",
    "plt.title('Number of Workflows by Origin')\n",
    "plt.xlabel('Origin')\n",
    "plt.ylabel('Count')\n",
    "plt.xticks(range(len(origin_counts)), origin_counts.index, rotation=45)\n",
    "\n",
    "# Add value labels on bars\n",
    "for bar, count in zip(bars, origin_counts.values):\n",
    "    plt.text(bar.get_x() + bar.get_width()/2, bar.get_height(), \n",
    "            str(count), ha='center', va='bottom')\n",
    "\n",
    "plt.tight_layout()\n",
    "plt.show()"
   ]
  },
  {
   "cell_type": "code",
   "execution_count": 30,
   "metadata": {},
   "outputs": [
    {
     "name": "stdout",
     "output_type": "stream",
     "text": [
      "\n",
      "👥 Top Authors by Number of Workflows:\n"
     ]
    },
    {
     "data": {
      "image/png": "[encoded data removed]",
      "text/plain": [
       "<Figure size 1200x600 with 1 Axes>"
      ]
     },
     "metadata": {},
     "output_type": "display_data"
    }
   ],
   "source": [
    "# Top Authors\n",
    "print(\"\\n👥 Top Authors by Number of Workflows:\")\n",
    "top_authors = df['Author'].value_counts().head(10)\n",
    "plt.figure(figsize=(12, 6))\n",
    "bars = plt.bar(range(len(top_authors)), top_authors.values, alpha=0.7)\n",
    "plt.title('Top 10 Authors by Number of Workflows')\n",
    "plt.xlabel('Author')\n",
    "plt.ylabel('Number of Workflows')\n",
    "plt.xticks(range(len(top_authors)), top_authors.index, rotation=45)\n",
    "\n",
    "# Add value labels on bars\n",
    "for bar, count in zip(bars, top_authors.values):\n",
    "    plt.text(bar.get_x() + bar.get_width()/2, bar.get_height(), \n",
    "            str(count), ha='center', va='bottom')\n",
    "\n",
    "plt.tight_layout()\n",
    "plt.show()"
   ]
  },
  {
   "cell_type": "code",
   "execution_count": 32,
   "metadata": {},
   "outputs": [
    {
     "name": "stdout",
     "output_type": "stream",
     "text": [
      "\n",
      "📊 Average FINAL SCORE by Origin:\n"
     ]
    },
    {
     "data": {
      "image/png": "[encoded data removed]",
      "text/plain": [
       "<Figure size 1200x600 with 1 Axes>"
      ]
     },
     "metadata": {},
     "output_type": "display_data"
    }
   ],
   "source": [
    "# Average Score by Origin\n",
    "print(\"\\n📊 Average FINAL SCORE by Origin:\")\n",
    "avg_score_by_origin = df.groupby('Origin')['FINAL SCORE'].mean().sort_values(ascending=False)\n",
    "plt.figure(figsize=(12, 6))\n",
    "bars = plt.bar(range(len(avg_score_by_origin)), avg_score_by_origin.values, alpha=0.7)\n",
    "plt.title('Average FINAL SCORE by Origin')\n",
    "plt.xlabel('Origin')\n",
    "plt.ylabel('Average FINAL SCORE')\n",
    "plt.xticks(range(len(avg_score_by_origin)), avg_score_by_origin.index, rotation=45)\n",
    "\n",
    "# Add value labels on bars\n",
    "for bar, score in zip(bars, avg_score_by_origin.values):\n",
    "    plt.text(bar.get_x() + bar.get_width()/2, bar.get_height(), \n",
    "            f'{score:.2f}', ha='center', va='bottom')\n",
    "\n",
    "plt.tight_layout()\n",
    "plt.show()"
   ]
  },
  {
   "cell_type": "code",
   "execution_count": null,
   "metadata": {},
   "outputs": [],
   "source": [
    "## 7. Text Analysis - Workflow Categories"
   ]
  },
  {
   "cell_type": "code",
   "execution_count": 35,
   "metadata": {},
   "outputs": [
    {
     "name": "stdout",
     "output_type": "stream",
     "text": [
      "\n",
      "🔍 Analyzing Workflow Categories from Titles:\n"
     ]
    },
    {
     "data": {
      "image/png": "[encoded data removed]",
      "text/plain": [
       "<Figure size 1200x800 with 1 Axes>"
      ]
     },
     "metadata": {},
     "output_type": "display_data"
    }
   ],
   "source": [
    "# Extract common categories from titles\n",
    "print(\"\\n🔍 Analyzing Workflow Categories from Titles:\")\n",
    "\n",
    "# Common AI/automation categories\n",
    "categories = {\n",
    "    'AI Agent': ['ai agent', 'agent', 'assistant'],\n",
    "    'Content Generation': ['content', 'generate', 'writer', 'creator'],\n",
    "    'Social Media': ['social', 'twitter', 'linkedin', 'instagram', 'tiktok', 'facebook'],\n",
    "    'Video': ['video', 'reel', 'shorts', 'youtube', 'tiktok'],\n",
    "    'Email': ['email', 'gmail', 'outlook'],\n",
    "    'Scraping': ['scrape', 'scraper', 'crawl'],\n",
    "    'Lead Generation': ['lead', 'prospect', 'outreach'],\n",
    "    'Sales': ['sales', 'cold', 'crm'],\n",
    "    'Marketing': ['marketing', 'ad', 'campaign'],\n",
    "    'Analysis': ['analyze', 'analysis', 'insight', 'report']\n",
    "}\n",
    "\n",
    "# Count occurrences of each category\n",
    "category_counts = {}\n",
    "for category, keywords in categories.items():\n",
    "    count = 0\n",
    "    for title in df['Title'].str.lower():\n",
    "        if any(keyword in title for keyword in keywords):\n",
    "            count += 1\n",
    "    category_counts[category] = count\n",
    "\n",
    "# Plot category distribution\n",
    "plt.figure(figsize=(12, 8))\n",
    "sorted_categories = dict(sorted(category_counts.items(), key=lambda x: x[1], reverse=True))\n",
    "bars = plt.barh(range(len(sorted_categories)), list(sorted_categories.values()), alpha=0.7)\n",
    "plt.title('Workflow Categories (Based on Title Keywords)')\n",
    "plt.xlabel('Number of Workflows')\n",
    "plt.yticks(range(len(sorted_categories)), list(sorted_categories.keys()))\n",
    "\n",
    "# Add value labels on bars\n",
    "for i, (bar, count) in enumerate(zip(bars, sorted_categories.values())):\n",
    "    plt.text(bar.get_width() + 0.5, bar.get_y() + bar.get_height()/2, \n",
    "            str(count), ha='left', va='center')\n",
    "\n",
    "plt.tight_layout()\n",
    "plt.show()"
   ]
  },
  {
   "cell_type": "markdown",
   "metadata": {},
   "source": [
    "## 8. Data Quality Check"
   ]
  },
  {
   "cell_type": "code",
   "execution_count": 38,
   "metadata": {},
   "outputs": [
    {
     "name": "stdout",
     "output_type": "stream",
     "text": [
      "\n",
      "🔍 Data Quality Check:\n",
      "Number of duplicate rows: 0\n",
      "Number of empty strings: 0\n",
      "Number of whitespace-only strings: 0\n",
      "\n",
      "📞 Setup Support distribution:\n",
      "Setup Support\n",
      "NaN                                            92\n",
      "https://www.youtube.com/watch?v=Ah-1-Lda4DU     1\n",
      "https://www.youtube.com/watch?v=GmlQZ8MG7HY     1\n",
      "https://www.youtube.com/watch?v=iNjFF4RzoVg     1\n",
      "https://www.youtube.com/watch?v=nQbd56j_dZ0     1\n",
      "                                               ..\n",
      "https://www.youtube.com/watch?v=gXKzEt1ZG38     1\n",
      "https://www.youtube.com/watch?v=i08K-l8pjfs     1\n",
      "https://www.youtube.com/watch?v=qZkX_gIlwsY     1\n",
      "https://www.youtube.com/watch?v=_igpx9vXYvA     1\n",
      "https://www.youtube.com/watch?v=tjaD65OCoE8     1\n",
      "Name: count, Length: 116, dtype: int64\n"
     ]
    }
   ],
   "source": [
    "# Check for duplicates\n",
    "print(\"\\n🔍 Data Quality Check:\")\n",
    "print(f\"Number of duplicate rows: {df.duplicated().sum()}\")\n",
    "\n",
    "# Check for empty strings\n",
    "empty_strings = (df.applymap(lambda x: x == '')).sum().sum()\n",
    "print(f\"Number of empty strings: {empty_strings}\")\n",
    "\n",
    "# Check for whitespace-only strings\n",
    "whitespace_only = (df.applymap(lambda x: isinstance(x, str) and x.strip() == '')).sum().sum()\n",
    "print(f\"Number of whitespace-only strings: {whitespace_only}\")\n",
    "\n",
    "# Check Setup Support column\n",
    "setup_support_stats = df['Setup Support'].value_counts(dropna=False)\n",
    "print(f\"\\n📞 Setup Support distribution:\")\n",
    "print(setup_support_stats)"
   ]
  },
  {
   "cell_type": "markdown",
   "metadata": {},
   "source": [
    "## 9. Top Rated Workflows"
   ]
  },
  {
   "cell_type": "code",
   "execution_count": 41,
   "metadata": {},
   "outputs": [
    {
     "name": "stdout",
     "output_type": "stream",
     "text": [
      "\n",
      "🏆 Top Rated Workflows (FINAL SCORE = 5):\n"
     ]
    },
    {
     "data": {
      "text/html": [
       "<div>\n",
       "<style scoped>\n",
       "    .dataframe tbody tr th:only-of-type {\n",
       "        vertical-align: middle;\n",
       "    }\n",
       "\n",
       "    .dataframe tbody tr th {\n",
       "        vertical-align: top;\n",
       "    }\n",
       "\n",
       "    .dataframe thead th {\n",
       "        text-align: right;\n",
       "    }\n",
       "</style>\n",
       "<table border=\"1\" class=\"dataframe\">\n",
       "  <thead>\n",
       "    <tr style=\"text-align: right;\">\n",
       "      <th></th>\n",
       "      <th>Title</th>\n",
       "      <th>Author</th>\n",
       "      <th>Origin</th>\n",
       "      <th>Date</th>\n",
       "    </tr>\n",
       "  </thead>\n",
       "  <tbody>\n",
       "    <tr>\n",
       "      <th>3</th>\n",
       "      <td>AI Agent Builder</td>\n",
       "      <td>Nate Herk</td>\n",
       "      <td>Skool</td>\n",
       "      <td>2025-07-17</td>\n",
       "    </tr>\n",
       "    <tr>\n",
       "      <th>11</th>\n",
       "      <td>AI Marketing Agent</td>\n",
       "      <td>dudeson55</td>\n",
       "      <td>Reddit</td>\n",
       "      <td>2025-07-18</td>\n",
       "    </tr>\n",
       "    <tr>\n",
       "      <th>12</th>\n",
       "      <td>AI Viral Video Scriptwriter</td>\n",
       "      <td>dudeson55</td>\n",
       "      <td>Reddit</td>\n",
       "      <td>2025-07-18</td>\n",
       "    </tr>\n",
       "    <tr>\n",
       "      <th>37</th>\n",
       "      <td>AI Newsletter Generator</td>\n",
       "      <td>dudeson55</td>\n",
       "      <td>Reddit</td>\n",
       "      <td>2025-07-21</td>\n",
       "    </tr>\n",
       "    <tr>\n",
       "      <th>49</th>\n",
       "      <td>AI Appointment Reminder</td>\n",
       "      <td>Frank Nillard</td>\n",
       "      <td>Skool</td>\n",
       "      <td>2025-07-22</td>\n",
       "    </tr>\n",
       "    <tr>\n",
       "      <th>51</th>\n",
       "      <td>AI Sales Agent</td>\n",
       "      <td>Chase Hannegan</td>\n",
       "      <td>Skool</td>\n",
       "      <td>2025-07-22</td>\n",
       "    </tr>\n",
       "    <tr>\n",
       "      <th>54</th>\n",
       "      <td>Cold Outreach Machine</td>\n",
       "      <td>Chase Hannegan</td>\n",
       "      <td>Skool</td>\n",
       "      <td>2025-07-22</td>\n",
       "    </tr>\n",
       "    <tr>\n",
       "      <th>55</th>\n",
       "      <td>RAG Chat System</td>\n",
       "      <td>Chase Hannegan</td>\n",
       "      <td>Skool</td>\n",
       "      <td>2025-07-22</td>\n",
       "    </tr>\n",
       "    <tr>\n",
       "      <th>70</th>\n",
       "      <td>RAG Voice Frontend</td>\n",
       "      <td>Chase Hannegan</td>\n",
       "      <td>Skool</td>\n",
       "      <td>2025-07-23</td>\n",
       "    </tr>\n",
       "    <tr>\n",
       "      <th>71</th>\n",
       "      <td>AI Agent Voice Website</td>\n",
       "      <td>Chase Hannegan</td>\n",
       "      <td>Skool</td>\n",
       "      <td>2025-07-23</td>\n",
       "    </tr>\n",
       "    <tr>\n",
       "      <th>74</th>\n",
       "      <td>AI Facebook Ad Spy</td>\n",
       "      <td>Nick Saraev</td>\n",
       "      <td>Gumroad</td>\n",
       "      <td>2025-07-23</td>\n",
       "    </tr>\n",
       "    <tr>\n",
       "      <th>79</th>\n",
       "      <td>AI Email Classifier</td>\n",
       "      <td>Nolan Harper</td>\n",
       "      <td>Skool</td>\n",
       "      <td>2025-07-23</td>\n",
       "    </tr>\n",
       "    <tr>\n",
       "      <th>81</th>\n",
       "      <td>AI Proposal Generator</td>\n",
       "      <td>Nolan Harper</td>\n",
       "      <td>Skool</td>\n",
       "      <td>2025-07-23</td>\n",
       "    </tr>\n",
       "    <tr>\n",
       "      <th>83</th>\n",
       "      <td>Sales Assistent</td>\n",
       "      <td>Nolan Harper</td>\n",
       "      <td>Skool</td>\n",
       "      <td>2025-07-23</td>\n",
       "    </tr>\n",
       "    <tr>\n",
       "      <th>89</th>\n",
       "      <td>AI Customer Support System</td>\n",
       "      <td>Ben AI</td>\n",
       "      <td>Circle</td>\n",
       "      <td>2025-07-24</td>\n",
       "    </tr>\n",
       "    <tr>\n",
       "      <th>92</th>\n",
       "      <td>Claude MCP Business Agent</td>\n",
       "      <td>Ben AI</td>\n",
       "      <td>Circle</td>\n",
       "      <td>2025-07-24</td>\n",
       "    </tr>\n",
       "    <tr>\n",
       "      <th>93</th>\n",
       "      <td>Multi-Platform Sales Automation</td>\n",
       "      <td>Ben AI</td>\n",
       "      <td>Circle</td>\n",
       "      <td>2025-07-24</td>\n",
       "    </tr>\n",
       "    <tr>\n",
       "      <th>116</th>\n",
       "      <td>AI-Powered Support Automation</td>\n",
       "      <td>5minAI</td>\n",
       "      <td>Skool</td>\n",
       "      <td>2025-07-24</td>\n",
       "    </tr>\n",
       "    <tr>\n",
       "      <th>117</th>\n",
       "      <td>AI Model RAG Benchmarking</td>\n",
       "      <td>Nate Herk</td>\n",
       "      <td>Skool</td>\n",
       "      <td>2025-07-24</td>\n",
       "    </tr>\n",
       "    <tr>\n",
       "      <th>119</th>\n",
       "      <td>Local AI Cloud Stack Deployment</td>\n",
       "      <td>Cole Medin</td>\n",
       "      <td>GitHub</td>\n",
       "      <td>2025-07-24</td>\n",
       "    </tr>\n",
       "    <tr>\n",
       "      <th>156</th>\n",
       "      <td>Agentic RAG Workflow</td>\n",
       "      <td>Cole Medin</td>\n",
       "      <td>GitHub</td>\n",
       "      <td>2025-07-24</td>\n",
       "    </tr>\n",
       "    <tr>\n",
       "      <th>164</th>\n",
       "      <td>AI-Powered Meta Ad Automation</td>\n",
       "      <td>Ben AI</td>\n",
       "      <td>Circle</td>\n",
       "      <td>2025-07-24</td>\n",
       "    </tr>\n",
       "    <tr>\n",
       "      <th>172</th>\n",
       "      <td>AI Social Media Automation</td>\n",
       "      <td>Sabrina Ramonov 🍄</td>\n",
       "      <td>Sabrina.dev</td>\n",
       "      <td>2025-07-24</td>\n",
       "    </tr>\n",
       "    <tr>\n",
       "      <th>196</th>\n",
       "      <td>AI Agent Army</td>\n",
       "      <td>LargePay1357</td>\n",
       "      <td>Reddit</td>\n",
       "      <td>2025-08-20</td>\n",
       "    </tr>\n",
       "    <tr>\n",
       "      <th>200</th>\n",
       "      <td>AI Workflow Generator</td>\n",
       "      <td>mrcsvlk</td>\n",
       "      <td>Reddit</td>\n",
       "      <td>2025-08-31</td>\n",
       "    </tr>\n",
       "  </tbody>\n",
       "</table>\n",
       "</div>"
      ],
      "text/plain": [
       "                               Title             Author       Origin  \\\n",
       "3                   AI Agent Builder          Nate Herk        Skool   \n",
       "11                AI Marketing Agent          dudeson55       Reddit   \n",
       "12       AI Viral Video Scriptwriter          dudeson55       Reddit   \n",
       "37           AI Newsletter Generator          dudeson55       Reddit   \n",
       "49           AI Appointment Reminder      Frank Nillard        Skool   \n",
       "51                    AI Sales Agent     Chase Hannegan        Skool   \n",
       "54             Cold Outreach Machine     Chase Hannegan        Skool   \n",
       "55                   RAG Chat System     Chase Hannegan        Skool   \n",
       "70                RAG Voice Frontend     Chase Hannegan        Skool   \n",
       "71            AI Agent Voice Website     Chase Hannegan        Skool   \n",
       "74                AI Facebook Ad Spy        Nick Saraev      Gumroad   \n",
       "79               AI Email Classifier       Nolan Harper        Skool   \n",
       "81             AI Proposal Generator       Nolan Harper        Skool   \n",
       "83                   Sales Assistent       Nolan Harper        Skool   \n",
       "89        AI Customer Support System             Ben AI       Circle   \n",
       "92         Claude MCP Business Agent             Ben AI       Circle   \n",
       "93   Multi-Platform Sales Automation             Ben AI       Circle   \n",
       "116    AI-Powered Support Automation             5minAI        Skool   \n",
       "117        AI Model RAG Benchmarking          Nate Herk        Skool   \n",
       "119  Local AI Cloud Stack Deployment         Cole Medin       GitHub   \n",
       "156             Agentic RAG Workflow         Cole Medin       GitHub   \n",
       "164    AI-Powered Meta Ad Automation             Ben AI       Circle   \n",
       "172       AI Social Media Automation  Sabrina Ramonov 🍄  Sabrina.dev   \n",
       "196                    AI Agent Army       LargePay1357       Reddit   \n",
       "200            AI Workflow Generator            mrcsvlk       Reddit   \n",
       "\n",
       "           Date  \n",
       "3    2025-07-17  \n",
       "11   2025-07-18  \n",
       "12   2025-07-18  \n",
       "37   2025-07-21  \n",
       "49   2025-07-22  \n",
       "51   2025-07-22  \n",
       "54   2025-07-22  \n",
       "55   2025-07-22  \n",
       "70   2025-07-23  \n",
       "71   2025-07-23  \n",
       "74   2025-07-23  \n",
       "79   2025-07-23  \n",
       "81   2025-07-23  \n",
       "83   2025-07-23  \n",
       "89   2025-07-24  \n",
       "92   2025-07-24  \n",
       "93   2025-07-24  \n",
       "116  2025-07-24  \n",
       "117  2025-07-24  \n",
       "119  2025-07-24  \n",
       "156  2025-07-24  \n",
       "164  2025-07-24  \n",
       "172  2025-07-24  \n",
       "196  2025-08-20  \n",
       "200  2025-08-31  "
      ]
     },
     "metadata": {},
     "output_type": "display_data"
    }
   ],
   "source": [
    "# Show top rated workflows\n",
    "print(\"\\n🏆 Top Rated Workflows (FINAL SCORE = 5):\")\n",
    "top_workflows = df[df['FINAL SCORE'] == 5][['Title', 'Author', 'Origin', 'Date']]\n",
    "display(top_workflows)"
   ]
  },
  {
   "cell_type": "code",
   "execution_count": 43,
   "metadata": {},
   "outputs": [
    {
     "name": "stdout",
     "output_type": "stream",
     "text": [
      "\n",
      "🆕 Most Recent Workflows:\n"
     ]
    },
    {
     "data": {
      "text/html": [
       "<div>\n",
       "<style scoped>\n",
       "    .dataframe tbody tr th:only-of-type {\n",
       "        vertical-align: middle;\n",
       "    }\n",
       "\n",
       "    .dataframe tbody tr th {\n",
       "        vertical-align: top;\n",
       "    }\n",
       "\n",
       "    .dataframe thead th {\n",
       "        text-align: right;\n",
       "    }\n",
       "</style>\n",
       "<table border=\"1\" class=\"dataframe\">\n",
       "  <thead>\n",
       "    <tr style=\"text-align: right;\">\n",
       "      <th></th>\n",
       "      <th>Title</th>\n",
       "      <th>Author</th>\n",
       "      <th>Origin</th>\n",
       "      <th>Date</th>\n",
       "      <th>FINAL SCORE</th>\n",
       "    </tr>\n",
       "  </thead>\n",
       "  <tbody>\n",
       "    <tr>\n",
       "      <th>206</th>\n",
       "      <td>Automated Lead Gen System</td>\n",
       "      <td>dudeson55</td>\n",
       "      <td>Reddit</td>\n",
       "      <td>2025-09-20</td>\n",
       "      <td>4</td>\n",
       "    </tr>\n",
       "    <tr>\n",
       "      <th>205</th>\n",
       "      <td>AI Competitor Ad Cloning</td>\n",
       "      <td>dudeson55</td>\n",
       "      <td>Reddit</td>\n",
       "      <td>2025-09-15</td>\n",
       "      <td>4</td>\n",
       "    </tr>\n",
       "    <tr>\n",
       "      <th>204</th>\n",
       "      <td>AI Telegram Productivity Assistant</td>\n",
       "      <td>jiteshdugar</td>\n",
       "      <td>Reddit</td>\n",
       "      <td>2025-09-15</td>\n",
       "      <td>4</td>\n",
       "    </tr>\n",
       "    <tr>\n",
       "      <th>203</th>\n",
       "      <td>AI Virtual Try-On Integration</td>\n",
       "      <td>Odd-Pension-5078</td>\n",
       "      <td>Reddit</td>\n",
       "      <td>2025-09-14</td>\n",
       "      <td>4</td>\n",
       "    </tr>\n",
       "    <tr>\n",
       "      <th>202</th>\n",
       "      <td>Automated Twitter Reply Bot</td>\n",
       "      <td>max1302</td>\n",
       "      <td>Reddit</td>\n",
       "      <td>2025-09-13</td>\n",
       "      <td>4</td>\n",
       "    </tr>\n",
       "    <tr>\n",
       "      <th>201</th>\n",
       "      <td>AI UGC Ad Generator</td>\n",
       "      <td>LargePay1357</td>\n",
       "      <td>Reddit</td>\n",
       "      <td>2025-09-01</td>\n",
       "      <td>4</td>\n",
       "    </tr>\n",
       "    <tr>\n",
       "      <th>200</th>\n",
       "      <td>AI Workflow Generator</td>\n",
       "      <td>mrcsvlk</td>\n",
       "      <td>Reddit</td>\n",
       "      <td>2025-08-31</td>\n",
       "      <td>5</td>\n",
       "    </tr>\n",
       "    <tr>\n",
       "      <th>199</th>\n",
       "      <td>AI-Powered Workflow Builder</td>\n",
       "      <td>Weak_Birthday2735</td>\n",
       "      <td>Reddit</td>\n",
       "      <td>2025-08-29</td>\n",
       "      <td>4</td>\n",
       "    </tr>\n",
       "    <tr>\n",
       "      <th>198</th>\n",
       "      <td>Personalized News Digest</td>\n",
       "      <td>ekaa_</td>\n",
       "      <td>Reddit</td>\n",
       "      <td>2025-08-28</td>\n",
       "      <td>4</td>\n",
       "    </tr>\n",
       "    <tr>\n",
       "      <th>197</th>\n",
       "      <td>Calorie Tracker from Image</td>\n",
       "      <td>Odd-Pension-5078</td>\n",
       "      <td>Reddit</td>\n",
       "      <td>2025-08-28</td>\n",
       "      <td>3</td>\n",
       "    </tr>\n",
       "  </tbody>\n",
       "</table>\n",
       "</div>"
      ],
      "text/plain": [
       "                                  Title             Author  Origin  \\\n",
       "206           Automated Lead Gen System          dudeson55  Reddit   \n",
       "205            AI Competitor Ad Cloning          dudeson55  Reddit   \n",
       "204  AI Telegram Productivity Assistant        jiteshdugar  Reddit   \n",
       "203       AI Virtual Try-On Integration   Odd-Pension-5078  Reddit   \n",
       "202         Automated Twitter Reply Bot            max1302  Reddit   \n",
       "201                 AI UGC Ad Generator       LargePay1357  Reddit   \n",
       "200               AI Workflow Generator            mrcsvlk  Reddit   \n",
       "199         AI-Powered Workflow Builder  Weak_Birthday2735  Reddit   \n",
       "198            Personalized News Digest              ekaa_  Reddit   \n",
       "197          Calorie Tracker from Image   Odd-Pension-5078  Reddit   \n",
       "\n",
       "           Date  FINAL SCORE  \n",
       "206  2025-09-20            4  \n",
       "205  2025-09-15            4  \n",
       "204  2025-09-15            4  \n",
       "203  2025-09-14            4  \n",
       "202  2025-09-13            4  \n",
       "201  2025-09-01            4  \n",
       "200  2025-08-31            5  \n",
       "199  2025-08-29            4  \n",
       "198  2025-08-28            4  \n",
       "197  2025-08-28            3  "
      ]
     },
     "metadata": {},
     "output_type": "display_data"
    }
   ],
   "source": [
    "# Show most recent workflows\n",
    "print(\"\\n🆕 Most Recent Workflows:\")\n",
    "recent_workflows = df.sort_values('Date', ascending=False).head(10)[['Title', 'Author', 'Origin', 'Date', 'FINAL SCORE']]\n",
    "display(recent_workflows)"
   ]
  },
  {
   "cell_type": "markdown",
   "metadata": {},
   "source": [
    "## 10. Export Cleaned Data (Optional)"
   ]
  },
  {
   "cell_type": "code",
   "execution_count": 46,
   "metadata": {},
   "outputs": [
    {
     "name": "stdin",
     "output_type": "stream",
     "text": [
      "\n",
      "💾 Do you want to save a cleaned version of the data? (y/n):  y\n"
     ]
    },
    {
     "name": "stdout",
     "output_type": "stream",
     "text": [
      "✅ Cleaned data saved as: N8N_Workflows_cleaned_20251016_151416.csv\n",
      "✅ Top workflows (score >=4) saved as: N8N_Top_Workflows_20251016_151416.csv\n"
     ]
    }
   ],
   "source": [
    "# Option to save cleaned data\n",
    "save_cleaned = input(\"\\n💾 Do you want to save a cleaned version of the data? (y/n): \")\n",
    "\n",
    "if save_cleaned.lower() == 'y':\n",
    "    # Create cleaned dataframe\n",
    "    cleaned_df = df.copy()\n",
    "    \n",
    "    # Remove completely empty columns if any\n",
    "    cleaned_df = cleaned_df.dropna(axis=1, how='all')\n",
    "    \n",
    "    # Save to new CSV\n",
    "    timestamp = datetime.now().strftime(\"%Y%m%d_%H%M%S\")\n",
    "    filename = f'N8N_Workflows_cleaned_{timestamp}.csv'\n",
    "    cleaned_df.to_csv(filename, index=False)\n",
    "    print(f\"✅ Cleaned data saved as: {filename}\")\n",
    "    \n",
    "    # Also save top workflows separately\n",
    "    top_workflows_filename = f'N8N_Top_Workflows_{timestamp}.csv'\n",
    "    df[df['FINAL SCORE'] >= 4][['Title', 'Description', 'Author', 'Origin', 'FINAL SCORE', 'Date', 'Link']].to_csv(top_workflows_filename, index=False)\n",
    "    print(f\"✅ Top workflows (score >=4) saved as: {top_workflows_filename}\")\n",
    "else:\n",
    "    print(\"❌ Data export cancelled.\")"
   ]
  },
  {
   "cell_type": "markdown",
   "metadata": {},
   "source": [
    "## 11. Summary Statistics"
   ]
  },
  {
   "cell_type": "code",
   "execution_count": 48,
   "metadata": {},
   "outputs": [
    {
     "name": "stdout",
     "output_type": "stream",
     "text": [
      "\n",
      "============================================================\n",
      "📋 N8N WORKFLOWS ANALYSIS SUMMARY\n",
      "============================================================\n",
      "📊 Total Workflows: 207\n",
      "📝 Total Columns: 8\n",
      "⭐ Average FINAL SCORE: 4.02/5\n",
      "🏆 Top Rated Workflows (5/5): 25\n",
      "👥 Unique Authors: 39\n",
      "🌐 Platforms: Skool, Reddit, Gumroad, Circle, Youtube, GitHub, Sabrina.dev\n",
      "📅 Date Range: 2025-07-17 to 2025-09-20\n",
      "⚠️  Missing Values: 92\n",
      "🔍 Duplicate Rows: 0\n",
      "============================================================\n",
      "\n",
      "👑 Top 3 Most Prolific Authors:\n",
      "   Nate Herk: 51 workflows\n",
      "   Chase Hannegan: 21 workflows\n",
      "   Nick Saraev: 14 workflows\n",
      "\n",
      "🌐 Workflow Distribution by Platform:\n",
      "   Skool: 111 workflows (53.6%)\n",
      "   Reddit: 36 workflows (17.4%)\n",
      "   Gumroad: 36 workflows (17.4%)\n",
      "   GitHub: 10 workflows (4.8%)\n",
      "   Circle: 6 workflows (2.9%)\n",
      "   Youtube: 6 workflows (2.9%)\n",
      "   Sabrina.dev: 2 workflows (1.0%)\n"
     ]
    }
   ],
   "source": [
    "print(\"\\n\" + \"=\"*60)\n",
    "print(\"📋 N8N WORKFLOWS ANALYSIS SUMMARY\")\n",
    "print(\"=\"*60)\n",
    "print(f\"📊 Total Workflows: {df.shape[0]:,}\")\n",
    "print(f\"📝 Total Columns: {df.shape[1]}\")\n",
    "print(f\"⭐ Average FINAL SCORE: {df['FINAL SCORE'].mean():.2f}/5\")\n",
    "print(f\"🏆 Top Rated Workflows (5/5): {(df['FINAL SCORE'] == 5).sum()}\")\n",
    "print(f\"👥 Unique Authors: {df['Author'].nunique()}\")\n",
    "print(f\"🌐 Platforms: {', '.join(df['Origin'].unique())}\")\n",
    "print(f\"📅 Date Range: {df['Date'].min()} to {df['Date'].max()}\")\n",
    "print(f\"⚠️  Missing Values: {df.isnull().sum().sum()}\")\n",
    "print(f\"🔍 Duplicate Rows: {df.duplicated().sum()}\")\n",
    "print(\"=\"*60)\n",
    "\n",
    "# Top 3 authors\n",
    "top_authors_summary = df['Author'].value_counts().head(3)\n",
    "print(\"\\n👑 Top 3 Most Prolific Authors:\")\n",
    "for author, count in top_authors_summary.items():\n",
    "    print(f\"   {author}: {count} workflows\")\n",
    "\n",
    "# Platform distribution\n",
    "print(\"\\n🌐 Workflow Distribution by Platform:\")\n",
    "for origin, count in df['Origin'].value_counts().items():\n",
    "    percentage = (count / len(df) * 100)\n",
    "    print(f\"   {origin}: {count} workflows ({percentage:.1f}%)\")"
   ]
  },
  {
   "cell_type": "code",
   "execution_count": null,
   "metadata": {},
   "outputs": [],
   "source": []
  }
 ],
 "metadata": {
  "kernelspec": {
   "display_name": "Python 3 (ipykernel)",
   "language": "python",
   "name": "python3"
  },
  "language_info": {
   "codemirror_mode": {
    "name": "ipython",
    "version": 3
   },
   "file_extension": ".py",
   "mimetype": "text/x-python",
   "name": "python",
   "nbconvert_exporter": "python",
   "pygments_lexer": "ipython3",
   "version": "3.12.3"
  }
 },
 "nbformat": 4,
 "nbformat_minor": 4
}
